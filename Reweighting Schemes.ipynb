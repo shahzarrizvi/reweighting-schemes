{
 "cells": [
  {
   "cell_type": "code",
   "execution_count": 73,
   "metadata": {},
   "outputs": [
    {
     "name": "stdout",
     "output_type": "stream",
     "text": [
      "The autoreload extension is already loaded. To reload it, use:\n",
      "  %reload_ext autoreload\n"
     ]
    }
   ],
   "source": [
    "# Automatically reload modules after executing each cell.\n",
    "%load_ext autoreload\n",
    "%autoreload 2"
   ]
  },
  {
   "cell_type": "code",
   "execution_count": 74,
   "metadata": {},
   "outputs": [],
   "source": [
    "# General imports\n",
    "import numpy as np\n",
    "import os\n",
    "\n",
    "# Plotting\n",
    "from matplotlib import pyplot as plt\n",
    "from matplotlib.patches import Patch\n",
    "from matplotlib import rc\n",
    "import matplotlib.font_manager\n",
    "rc('font', family='serif')\n",
    "rc('text', usetex=True)\n",
    "rc('font', size=22)\n",
    "rc('xtick', labelsize=15)\n",
    "rc('ytick', labelsize=15)\n",
    "rc('legend', fontsize=15)\n",
    "\n",
    "# ML imports\n",
    "from sklearn.model_selection import train_test_split\n",
    "import tensorflow as tf\n",
    "import tensorflow.keras\n",
    "import tensorflow.keras.backend as K\n",
    "from tensorflow.keras import Sequential\n",
    "from tensorflow.keras.layers import Dense, Input, Dropout\n",
    "from tensorflow.keras.callbacks import EarlyStopping"
   ]
  },
  {
   "cell_type": "code",
   "execution_count": 75,
   "metadata": {},
   "outputs": [],
   "source": [
    "os.environ[\"CUDA_VISIBLE_DEVICES\"] = \"0\" # pick a number < 4 on ML4HEP; < 3 on Voltan \n",
    "physical_devices = tf.config.list_physical_devices('GPU') \n",
    "tf.config.experimental.set_memory_growth(physical_devices[0], True)"
   ]
  },
  {
   "cell_type": "code",
   "execution_count": 76,
   "metadata": {},
   "outputs": [],
   "source": [
    "# Data parameters\n",
    "N = 10**6\n",
    "mu = 0.1\n",
    "sigma = 1"
   ]
  },
  {
   "cell_type": "code",
   "execution_count": 77,
   "metadata": {},
   "outputs": [],
   "source": [
    "### Generate the data.\n",
    "\n",
    "# Background is Normal(-μ, 1)\n",
    "# Signal is Normal(μ, 1))\n",
    "bkgd = np.random.normal(-mu, sigma, N)\n",
    "sgnl = np.random.normal(mu, sigma, N)\n",
    "X = np.concatenate([bkgd, sgnl])\n",
    "y = np.concatenate([np.zeros(N), np.ones(N)])\n",
    "\n",
    "X_train, X_test, y_train, y_test = train_test_split(X, y)"
   ]
  },
  {
   "cell_type": "code",
   "execution_count": 78,
   "metadata": {},
   "outputs": [],
   "source": [
    "# Loss functions\n",
    "def bce(y_true, y_pred):\n",
    "    return -((y_true) * K.log(y_pred + K.epsilon()) + (1. - y_true) * K.log(1. - y_pred))\n",
    "\n",
    "def mse(y_true, y_pred):\n",
    "    return -((y_true) * -K.square(1. - y_pred) + (1. - y_true) * -K.square(y_pred + K.epsilon()))\n",
    "\n",
    "def mlc(y_true, y_pred):\n",
    "    return -((y_true) * K.log(y_pred + K.epsilon()) + (1. - y_true) * (1. - y_pred))\n",
    "\n",
    "def square_mlc(y_true, y_pred):\n",
    "    return -((y_true) * K.log(y_pred**2) + (1. - y_true) * (1. - y_pred**2))\n",
    "\n",
    "def exp_mlc(y_true, y_pred):\n",
    "    return -((y_true) * y_pred + (1. - y_true) * (1. - K.exp(y_pred)))\n",
    "\n",
    "def square_sqr(y_true, y_pred):\n",
    "    return -((y_true) * -1. / K.sqrt(K.square(y_pred)) + (1. - y_true) * -K.sqrt(K.square(y_pred)))\n",
    "\n",
    "def exp_sqr(y_true, y_pred):\n",
    "    return -((y_true) * -1. / K.sqrt(K.exp(y_pred)) + (1. - y_true) * -K.sqrt(K.exp(y_pred)))\n",
    "\n",
    "def sqr(y_true, y_pred):\n",
    "    return -((y_true) * -1. / K.sqrt(y_pred + K.epsilon()) + (1. - y_true) * -K.sqrt(y_pred + K.epsilon()))\n",
    "\n",
    "def get_sqr(a):\n",
    "    def sqr_a(y_true, y_pred):\n",
    "        return -((y_true) * -K.pow(y_pred + K.epsilon(), -a/2) + (1. - y_true) * -K.pow(y_pred + K.epsilon(), a/2))\n",
    "    return sqr_a\n",
    "        \n",
    "# Likelihood ratios\n",
    "def lr(x):\n",
    "    return np.exp(-(1/(2 * sigma**2)) * ( (x - mu)**2 - (x + mu)**2))\n",
    "\n",
    "def get_bce_lr(model):\n",
    "    def model_bce_lr(x):\n",
    "        f = model.predict(x)\n",
    "        return np.squeeze(f / (1. - f))\n",
    "    return model_bce_lr\n",
    "\n",
    "def get_mse_lr(model):\n",
    "    def model_mse_lr(x):\n",
    "        f = model.predict(x)\n",
    "        return np.squeeze(f / (1. - f))\n",
    "    return model_mse_lr\n",
    "\n",
    "def get_mlc_lr(model):\n",
    "    def model_mlc_lr(x):\n",
    "        f = model.predict(x)\n",
    "        return np.squeeze(f)\n",
    "    return model_mlc_lr\n",
    "\n",
    "def get_square_mlc_lr(model):\n",
    "    def model_square_mlc_lr(x):\n",
    "        f = model.predict(x)\n",
    "        return np.squeeze(f**2)\n",
    "    return model_square_mlc_lr\n",
    "\n",
    "def get_exp_mlc_lr(model):\n",
    "    def model_exp_mlc_lr(x):\n",
    "        f = model.predict(x)\n",
    "        return np.squeeze(np.exp(f))\n",
    "    return model_exp_mlc_lr\n",
    "\n",
    "def get_sqr_lr(model):\n",
    "    def model_sqr_lr(x):\n",
    "        f = model.predict(x)\n",
    "        return np.squeeze(f)\n",
    "    return model_sqr_lr\n",
    "\n",
    "def get_square_sqr_lr(model):\n",
    "    def model_square_sqr_lr(x):\n",
    "        f = model.predict(x)\n",
    "        return np.squeeze(f**2)\n",
    "    return model_square_sqr_lr\n",
    "\n",
    "def get_exp_sqr_lr(model):\n",
    "    def model_exp_sqr_lr(x):\n",
    "        f = model.predict(x)\n",
    "        return np.squeeze(np.exp(f))\n",
    "    return model_exp_sqr_lr\n",
    "\n",
    "def mae(model_lr):\n",
    "    # Takes in model_lr, a model likelihood ratio. Returns the expected absolute\n",
    "    # error for that model.\n",
    "    return np.abs(model_lr(X) - lr(X)).mean()"
   ]
  },
  {
   "cell_type": "code",
   "execution_count": 79,
   "metadata": {},
   "outputs": [],
   "source": [
    "earlystopping = EarlyStopping(patience=10,\n",
    "                              verbose=0,\n",
    "                              restore_best_weights=True)"
   ]
  },
  {
   "cell_type": "code",
   "execution_count": 80,
   "metadata": {},
   "outputs": [],
   "source": [
    "# Models\n",
    "def train(loss, \n",
    "          hidden='relu', \n",
    "          output='sigmoid', \n",
    "          dropout=True, \n",
    "          optimizer='adam', \n",
    "          metrics=['accuracy'], \n",
    "          verbose=0):\n",
    "    model = Sequential()\n",
    "    if dropout:\n",
    "        model.add(Dense(64, activation=hidden, input_shape=(1, )))\n",
    "        model.add(Dropout(0.1))\n",
    "        model.add(Dense(128, activation=hidden))\n",
    "        model.add(Dropout(0.1))\n",
    "        model.add(Dense(64, activation=hidden))\n",
    "        model.add(Dropout(0.1))\n",
    "        model.add(Dense(1, activation=output))\n",
    "    else: \n",
    "        model.add(Dense(64, activation=hidden, input_shape=(1, )))\n",
    "        model.add(Dense(128, activation=hidden))\n",
    "        model.add(Dense(64, activation=hidden))\n",
    "        model.add(Dense(1, activation=output))        \n",
    "    \n",
    "    model.compile(loss=loss,\n",
    "                  optimizer=optimizer, \n",
    "                  metrics=metrics)\n",
    "    \n",
    "    trace = model.fit(X_train, \n",
    "                      y_train,\n",
    "                      epochs = 100, \n",
    "                      batch_size=int(0.1*N), \n",
    "                      validation_data=(X_test, y_test),\n",
    "                      callbacks=[earlystopping], \n",
    "                      verbose=verbose)\n",
    "    print(trace.history['val_loss'][-1], end = ' ')\n",
    "    \n",
    "    lr_match = {bce: get_bce_lr, \n",
    "                mse: get_mse_lr, \n",
    "                mlc: get_mlc_lr,\n",
    "                square_mlc: get_square_mlc_lr,\n",
    "                exp_mlc: get_exp_mlc_lr,\n",
    "                sqr: get_sqr_lr, \n",
    "                square_sqr: get_square_sqr_lr, \n",
    "                exp_sqr: get_exp_sqr_lr}\n",
    "    if loss in lr_match.keys():\n",
    "        model_lr = lr_match[loss](model)\n",
    "    else:\n",
    "        model_lr = get_sqr_lr(model)\n",
    "    \n",
    "    return model, model_lr\n",
    "\n",
    "def create_model(loss, \n",
    "                 hidden='relu', \n",
    "                 output='sigmoid', \n",
    "                 dropout=True, \n",
    "                 optimizer='adam', \n",
    "                 metrics=['accuracy']):\n",
    "    model = Sequential()\n",
    "    model.add(Dense(64, activation=hidden, input_shape=(1, )))\n",
    "    model.add(Dropout(0.1))\n",
    "    model.add(Dense(128, activation=hidden))\n",
    "    model.add(Dropout(0.1))\n",
    "    model.add(Dense(64, activation=hidden))\n",
    "    model.add(Dropout(0.1))\n",
    "    model.add(Dense(1, activation=output))\n",
    "    return model"
   ]
  },
  {
   "cell_type": "code",
   "execution_count": 81,
   "metadata": {},
   "outputs": [],
   "source": [
    "# Plotting functions\n",
    "def get_preds(model_lrs, xs=np.linspace(-6, 6, 1000)):\n",
    "    # Takes in model_lrs, a list of model likelihood ratios and xs, a list of \n",
    "    # values on which to compute the likelihood ratios. Returns a 2D array. The \n",
    "    # nth row is the likelihood ratio predictions from the nth model in \n",
    "    # model_lrs.\n",
    "    return np.array([model_lr(xs) for model_lr in model_lrs])\n",
    "    \n",
    "def avg_lr(preds):\n",
    "    # Takes in a 2D array of multiple models' likelihood ratio predictions. \n",
    "    # Returns the average likelihood ratio prediction and its error.\n",
    "    return preds.mean(axis=0), preds.std(axis=0)\n",
    "\n",
    "def avg_lrr(preds, xs=np.linspace(-6, 6, 1000)):\n",
    "    # Takes in a 2D array of multiple models' likelihood ratio predictions. \n",
    "    # Returns the average ratio of predicted likelihood to true likelihood and \n",
    "    # its error.\n",
    "    lrr_preds = preds / lr(xs)\n",
    "    return lrr_preds.mean(axis=0), lrr_preds.std(axis=0)\n",
    "    \n",
    "def lr_plot(ensembles,\n",
    "            filename=None,\n",
    "            cs = ['brown', 'green', 'red', 'blue'],\n",
    "            lss = [':', '--', '-.', ':'],\n",
    "            xs=np.linspace(-6, 6, 1000)):\n",
    "    # Takes in a list of pairs (lr_avg, lr_err). Plots them against the true \n",
    "    # likelihood.\n",
    "    fig, ax_1 = plt.subplots(figsize = (10, 6))\n",
    "    \n",
    "    # Plot true likelihood\n",
    "    plt.plot(xs, lr(xs), label = 'Exact', c='k', ls='-')\n",
    "    \n",
    "    # Plot model likelihoods\n",
    "    for i in range(len(ensembles)):\n",
    "        avg, err, lbl = ensembles[i]\n",
    "        plt.plot(xs, avg, label=lbl, c=cs[i], ls=lss[i])\n",
    "        plt.fill_between(xs, avg - err, avg + err, color=cs[i], alpha=0.1)\n",
    "    plt.legend()\n",
    "    ax_1.minorticks_on()\n",
    "    ax_1.tick_params(direction='in', which='both',length=5)\n",
    "    plt.ylabel('Likelihood Ratio')\n",
    "\n",
    "    # Plot background and signal\n",
    "    ax_2 = ax_1.twinx()\n",
    "    bins = np.linspace(-6, 6, 100)\n",
    "    plt.hist(sgnl, alpha=0.1, bins=bins)\n",
    "    plt.hist(bkgd, alpha=0.1, bins=bins)\n",
    "    ax_2.minorticks_on()\n",
    "    ax_2.tick_params(direction='in', which='both',length=5)\n",
    "    plt.ylabel('Count')\n",
    "\n",
    "    plt.xlim(-6, 6)\n",
    "    plt.xlabel(r'$x$')\n",
    "    plt.title(r\"$\\mu_{\\rm{sgnl}}=\"+str(mu)+r\", \\mu_{\\rm{bkgd}}=\"+str(-mu)+r\"$\",loc=\"right\",fontsize=20);\n",
    "    if filename != None:\n",
    "        plt.savefig(filename, dpi=1200, bbox_inches='tight')\n",
    "\n",
    "def lrr_plot(ensembles,\n",
    "             filename=None,\n",
    "             cs = ['brown', 'green', 'red', 'blue'],\n",
    "             lss = [':', '--', '-.', ':'],\n",
    "             xs=np.linspace(-6, 6, 1000)):\n",
    "    # Takes in a list of pairs (lrr_avg, lrr_err). Plots them.\n",
    "    fig, ax_1 = plt.subplots(figsize = (10, 6))\n",
    "    \n",
    "    # Plot ratios of likelihood ratios\n",
    "    for i in range(len(ensembles)):\n",
    "        avg, err, lbl = ensembles[i]\n",
    "        plt.plot(xs, avg, label=lbl, c=cs[i], ls=lss[i])\n",
    "        plt.fill_between(xs, avg - err, avg + err, color=cs[i], alpha=0.1)\n",
    "    plt.axhline(1,ls=\":\",color=\"grey\", lw=0.5)\n",
    "    plt.axvline(0,ls=\":\",color=\"grey\", lw=0.5)\n",
    "    plt.legend()\n",
    "    ax_1.minorticks_on()\n",
    "    ax_1.tick_params(direction='in', which='both',length=5)\n",
    "    plt.ylim(0.94, 1.06)\n",
    "    plt.ylabel('Ratio')\n",
    "\n",
    "    # Plot background and signal\n",
    "    ax_2 = ax_1.twinx()\n",
    "    bins = np.linspace(-6, 6, 100)\n",
    "    plt.hist(sgnl, alpha=0.1, bins=bins)\n",
    "    plt.hist(bkgd, alpha=0.1, bins=bins)\n",
    "    ax_2.minorticks_on()\n",
    "    ax_2.tick_params(direction='in', which='both',length=5)\n",
    "    plt.ylabel('Count')\n",
    "\n",
    "    plt.xlim(-6, 6)\n",
    "    plt.xlabel(r'$x$')\n",
    "    plt.title(r\"$\\mu_{\\rm{sgnl}}=\"+str(mu)+r\", \\mu_{\\rm{bkgd}}=\"+str(-mu)+r\"$\",loc=\"right\",fontsize=20)\n",
    "    if filename != None:\n",
    "        plt.savefig(filename, dpi=1200, bbox_inches='tight')\n",
    "    \n",
    "#_plot(model_lrs):"
   ]
  },
  {
   "cell_type": "markdown",
   "metadata": {},
   "source": [
    "# SQR Parametrizations"
   ]
  },
  {
   "cell_type": "code",
   "execution_count": null,
   "metadata": {},
   "outputs": [
    {
     "name": "stdout",
     "output_type": "stream",
     "text": [
      "===================================================\n",
      "-2.0\n",
      "0 0.9964730739593506 \n",
      "1 0.9954530000686646 \n",
      "2 0.9958760142326355 \n",
      "3 1.0124329328536987 \n",
      "4 0.9956911206245422 \n",
      "5 0.9973122477531433 \n",
      "6 0.9969468712806702 \n",
      "7 0.9964625835418701 \n",
      "8 0.9973077774047852 \n",
      "9 0.9959608912467957 \n",
      "===================================================\n",
      "-1.9595959595959596\n",
      "0 0.9959594011306763 \n",
      "1 "
     ]
    }
   ],
   "source": [
    "reps = 10\n",
    "\n",
    "# create losses\n",
    "a_list = np.linspace(-2, 2, 100)\n",
    "lrs = {}\n",
    "for a in a_list:\n",
    "    print('===================================================\\n{}'.format(a))\n",
    "    lrs[a] = [None] * reps\n",
    "    loss = get_sqr(a)\n",
    "    param = {'loss': loss, 'output':'relu'}\n",
    "    for i in range(10):\n",
    "        print(i, end = ' ')\n",
    "        model, lrs[a][i] = train(**param)\n",
    "        model.save_weights('models/sqr/sqr_model_{}_{}.h5'.format(a, i))\n",
    "        print()"
   ]
  },
  {
   "cell_type": "markdown",
   "metadata": {
    "jp-MarkdownHeadingCollapsed": true,
    "tags": []
   },
   "source": [
    "# Reweighting Schemes"
   ]
  },
  {
   "cell_type": "code",
   "execution_count": null,
   "metadata": {},
   "outputs": [],
   "source": [
    "reps = 100\n",
    "\n",
    "# model parameters\n",
    "params_1 = {'loss':mlc, 'hidden':'relu', 'output':'relu'}\n",
    "params_2 = {'loss':square_mlc, 'hidden':'relu', 'output':'linear'}\n",
    "params_3 = {'loss':exp_mlc, 'hidden':'relu', 'output':'linear'}"
   ]
  },
  {
   "cell_type": "code",
   "execution_count": null,
   "metadata": {
    "scrolled": true,
    "tags": []
   },
   "outputs": [],
   "source": [
    "%%time\n",
    "\n",
    "models_1 = [None] * reps\n",
    "models_2 = [None] * reps\n",
    "models_3 = [None] * reps\n",
    "\n",
    "lrs_1 = [None] * reps\n",
    "lrs_2 = [None] * reps\n",
    "lrs_3 = [None] * reps\n",
    "\n",
    "for i in range(reps):\n",
    "    print(i, end = ' ')\n",
    "    models_1[i], lrs_1[i] = train(**params_1)\n",
    "    models_2[i], lrs_2[i] = train(**params_2)\n",
    "    models_3[i], lrs_3[i] = train(**params_3)\n",
    "    print()"
   ]
  },
  {
   "cell_type": "code",
   "execution_count": null,
   "metadata": {},
   "outputs": [],
   "source": [
    "for i in range(reps):\n",
    "    models_1[i].save_weights('models/ratios/mlc/mlc_model_{}.h5'.format(i))\n",
    "    models_2[i].save_weights('models/ratios/mlc/square_mlc_model_{}.h5'.format(i))\n",
    "    models_3[i].save_weights('models/ratios/mlc/exp_mlc_model_{}.h5'.format(i))"
   ]
  },
  {
   "cell_type": "code",
   "execution_count": null,
   "metadata": {},
   "outputs": [],
   "source": [
    "# Get average predictions and errors. Add on the labels to \n",
    "# make plotting easier.\n",
    "lr_1 = avg_lr(get_preds(lrs_1)) + ('linear',)\n",
    "lr_2 = avg_lr(get_preds(lrs_2)) + ('square',)\n",
    "lr_3 = avg_lr(get_preds(lrs_3)) + ('exponential',)\n",
    "\n",
    "lrr_1 = avg_lrr(get_preds(lrs_1)) + ('linear',)\n",
    "lrr_2 = avg_lrr(get_preds(lrs_2)) + ('square',)\n",
    "lrr_3 = avg_lrr(get_preds(lrs_3)) + ('exponential',)"
   ]
  },
  {
   "cell_type": "code",
   "execution_count": null,
   "metadata": {},
   "outputs": [],
   "source": [
    "lr_plot([lr_1, lr_2, lr_3], 'plots/mlc_param_lr.png')"
   ]
  },
  {
   "cell_type": "code",
   "execution_count": null,
   "metadata": {},
   "outputs": [],
   "source": [
    "lrr_plot([lrr_1, lrr_2, lrr_3], 'plots/mlc_param_lrrs.png')"
   ]
  },
  {
   "cell_type": "markdown",
   "metadata": {
    "jp-MarkdownHeadingCollapsed": true,
    "tags": []
   },
   "source": [
    "# Error Calculations"
   ]
  },
  {
   "cell_type": "code",
   "execution_count": null,
   "metadata": {},
   "outputs": [],
   "source": [
    "reps = 100\n",
    "\n",
    "bce_params = {'loss':bce}\n",
    "mse_params = {'loss':mse}\n",
    "mlc_params = {'loss':exp_mlc, 'hidden':'relu', 'output':'linear'}\n",
    "sqr_params = {'loss':exp_sqr, 'output':'linear'}\n",
    "\n",
    "Ns = 10**np.arange(2, 9)"
   ]
  },
  {
   "cell_type": "code",
   "execution_count": null,
   "metadata": {
    "scrolled": true,
    "tags": []
   },
   "outputs": [],
   "source": [
    "%%time\n",
    "\n",
    "bce_models = {}\n",
    "bce_lrs = {}\n",
    "for N in Ns:\n",
    "    print('===================================================\\n{}'.format(N))\n",
    "    bce_models[N] = [None] * reps\n",
    "    bce_lrs[N] = [None] * reps\n",
    "    \n",
    "    # Generate data\n",
    "    bkgd = np.random.normal(-mu, 1, N)\n",
    "    sgnl = np.random.normal(mu, 1, N)\n",
    "    X = np.concatenate([bkgd, sgnl])\n",
    "    y = np.concatenate([np.zeros(N), np.ones(N)])\n",
    "\n",
    "    X_train, X_test, y_train, y_test = train_test_split(X, y)\n",
    "    \n",
    "    for i in range(reps):\n",
    "        print(i, end = ' ')\n",
    "        bce_models[N][i], bce_lrs[N][i] = train(**bce_params)\n",
    "        print()"
   ]
  },
  {
   "cell_type": "code",
   "execution_count": null,
   "metadata": {},
   "outputs": [],
   "source": [
    "# Calculate mean absolute errors.\n",
    "\n",
    "N = 10**4\n",
    "\n",
    "bkgd = np.random.normal(-mu, 1, N)\n",
    "sgnl = np.random.normal(mu, 1, N)\n",
    "X = np.concatenate([bkgd, sgnl])\n",
    "\n",
    "bce_mae_avg = []\n",
    "bce_mae_err = []\n",
    "for N in Ns:\n",
    "    bce_maes = [mae(lr) for lr in bce_lrs[N]]\n",
    "    \n",
    "    bce_mae_avg += [np.mean(bce_maes)]\n",
    "    bce_mae_err += [np.std(bce_maes)]\n",
    "\n",
    "bce_mae_avg = np.array(bce_mae_avg)\n",
    "bce_mae_err = np.array(bce_mae_err)"
   ]
  },
  {
   "cell_type": "code",
   "execution_count": null,
   "metadata": {},
   "outputs": [],
   "source": [
    "for N in Ns:\n",
    "    for i in range(reps):\n",
    "        bce_models[N][i].save_weights('models/maes/bce/bce_model_{}_{}.h5'.format(N, i))\n",
    "\n",
    "np.save('lr_data/bce_mae_avg.npy', bce_mae_avg)\n",
    "np.save('lr_data/bce_mae_err.npy', bce_mae_err)"
   ]
  },
  {
   "cell_type": "code",
   "execution_count": null,
   "metadata": {
    "scrolled": true,
    "tags": []
   },
   "outputs": [],
   "source": [
    "%%time\n",
    "\n",
    "bce_models = {}\n",
    "mse_models = {}\n",
    "mlc_models = {}\n",
    "sqr_models = {}\n",
    "\n",
    "bce_lrs = {}\n",
    "mse_lrs = {}\n",
    "mlc_lrs = {}\n",
    "sqr_lrs = {}\n",
    "\n",
    "for N in Ns:\n",
    "    print('===================================================\\n{}'.format(N))\n",
    "    # Set up lists\n",
    "    bce_models[N] = [None] * reps\n",
    "    mse_models[N] = [None] * reps\n",
    "    mlc_models[N] = [None] * reps\n",
    "    sqr_models[N] = [None] * reps\n",
    "    \n",
    "    bce_lrs[N] = [None] * reps\n",
    "    mse_lrs[N] = [None] * reps\n",
    "    mlc_lrs[N] = [None] * reps\n",
    "    sqr_lrs[N] = [None] * reps\n",
    "    \n",
    "    # Generate data\n",
    "    bkgd = np.random.normal(-mu, 1, N)\n",
    "    sgnl = np.random.normal(mu, 1, N)\n",
    "    X = np.concatenate([bkgd, sgnl])\n",
    "    y = np.concatenate([np.zeros(N), np.ones(N)])\n",
    "\n",
    "    X_train, X_test, y_train, y_test = train_test_split(X, y)\n",
    "\n",
    "    for i in range(reps):\n",
    "        print(i, end = ' ')\n",
    "        bce_lrs[N][i] = train(**bce_params)[1]\n",
    "        mse_lrs[N][i] = train(**mse_params)[1]\n",
    "        mlc_lrs[N][i] = train(**mlc_params)[1]\n",
    "        sqr_lrs[N][i] = train(**sqr_params)[1]\n",
    "        print()"
   ]
  },
  {
   "cell_type": "code",
   "execution_count": null,
   "metadata": {
    "tags": []
   },
   "outputs": [],
   "source": [
    "# Calculate mean absolute errors.\n",
    "\n",
    "N = 10**3\n",
    "\n",
    "bkgd = np.random.normal(-mu, 1, N)\n",
    "sgnl = np.random.normal(mu, 1, N)\n",
    "X = np.concatenate([bkgd, sgnl])\n",
    "\n",
    "bce_mae_avg = []\n",
    "mse_mae_avg = []\n",
    "mlc_mae_avg = []\n",
    "sqr_mae_avg = []\n",
    "\n",
    "bce_mae_err = []\n",
    "mse_mae_err = []\n",
    "mlc_mae_err = []\n",
    "sqr_mae_err = []\n",
    "\n",
    "for N in Ns:\n",
    "    bce_maes = [mae(lr) for lr in bce_lrs[N]]\n",
    "    mse_maes = [mae(lr) for lr in mse_lrs[N]]\n",
    "    mlc_maes = [mae(lr) for lr in mlc_lrs[N]]\n",
    "    sqr_maes = [mae(lr) for lr in sqr_lrs[N]]\n",
    "    \n",
    "    bce_mae_avg += [np.mean(bce_maes)]\n",
    "    bce_mae_err += [np.std(bce_maes)]\n",
    "    mse_mae_avg += [np.mean(mse_maes)]\n",
    "    mse_mae_err += [np.std(mse_maes)]\n",
    "    \n",
    "    mlc_mae_avg += [np.mean(mlc_maes)]\n",
    "    mlc_mae_err += [np.std(mlc_maes)]\n",
    "    \n",
    "    sqr_mae_avg += [np.mean(sqr_maes)]\n",
    "    sqr_mae_err += [np.std(sqr_maes)]\n",
    "\n",
    "bce_mae_avg = np.array(bce_mae_avg)\n",
    "mse_mae_avg = np.array(mse_mae_avg)\n",
    "mlc_mae_avg = np.array(mlc_mae_avg)\n",
    "sqr_mae_avg = np.array(sqr_mae_avg)\n",
    "\n",
    "bce_mae_err = np.array(bce_mae_err)\n",
    "mse_mae_err = np.array(mse_mae_err)\n",
    "mlc_mae_err = np.array(mlc_mae_err)\n",
    "sqr_mae_err = np.array(sqr_mae_err)"
   ]
  },
  {
   "cell_type": "code",
   "execution_count": null,
   "metadata": {},
   "outputs": [],
   "source": [
    "fig, ax = plt.subplots(figsize = (10, 6))\n",
    "\n",
    "plt.plot(Ns, bce_mae_avg, c='brown', ls=':', label='BCE')\n",
    "plt.plot(Ns, mse_mae_avg, c='green', ls='--', label='MSE')\n",
    "plt.plot(Ns, mlc_mae_avg, c='red', ls='--', label='MLC')\n",
    "plt.plot(Ns, sqr_mae_avg, c='blue', ls='-.', label='SQR')\n",
    "plt.fill_between(Ns, bce_mae_avg - bce_mae_err, bce_mae_avg + bce_mae_err, color='brown', alpha=0.1)\n",
    "plt.fill_between(Ns, mse_mae_avg - mse_mae_err, mse_mae_avg + mse_mae_err, color='green', alpha=0.1)\n",
    "plt.fill_between(Ns, mlc_mae_avg - mlc_mae_err, mlc_mae_avg + mlc_mae_err, color='red', alpha=0.1)\n",
    "plt.fill_between(Ns, sqr_mae_avg - sqr_mae_err, sqr_mae_avg + sqr_mae_err, color='blue', alpha=0.1)\n",
    "plt.legend()\n",
    "\n",
    "plt.xscale(\"log\", base=10)\n",
    "plt.minorticks_on()\n",
    "plt.tick_params(direction='in', which='both',length=5)\n",
    "plt.ylabel('Mean Absolute Error')\n",
    "plt.xlabel(r'$N$')\n",
    "\n",
    "plt.title(r\"$\\mu_{\\rm{sgnl}}=\"+str(mu)+r\", \\mu_{\\rm{bkgd}}=\"+str(-mu)+r\"$\",loc=\"right\",fontsize=20);\n",
    "plt.savefig('plots/maes.png', dpi=1200, bbox_inches='tight')"
   ]
  },
  {
   "cell_type": "markdown",
   "metadata": {
    "jp-MarkdownHeadingCollapsed": true,
    "tags": []
   },
   "source": [
    "# Neural Network Training"
   ]
  },
  {
   "cell_type": "code",
   "execution_count": null,
   "metadata": {},
   "outputs": [],
   "source": [
    "reps = 10\n",
    "\n",
    "# Parameters to compare\n",
    "params_1 = {'loss':sqr, 'hidden':'relu', 'output':'relu'}\n",
    "params_2 = {'loss':sqr, 'hidden':'relu', 'output':'elu'}\n",
    "params_3 = {'loss':sqr, 'hidden':'elu', 'output':'relu'}\n",
    "params_4 = {'loss':sqr, 'hidden':'elu', 'output':'elu'}"
   ]
  },
  {
   "cell_type": "code",
   "execution_count": null,
   "metadata": {
    "scrolled": true,
    "tags": []
   },
   "outputs": [],
   "source": [
    "%%time\n",
    "\n",
    "models_1 = [None] * reps\n",
    "models_2 = [None] * reps\n",
    "models_3 = [None] * reps\n",
    "models_4 = [None] * reps\n",
    "\n",
    "for i in range(reps):\n",
    "    print(i, end = ' ')\n",
    "    models_1[i] = train(**params_1)[1]\n",
    "    models_2[i] = train(**params_2)[1]\n",
    "    models_3[i] = train(**params_3)[1]\n",
    "    models_4[i] = train(**params_4)[1]\n",
    "    print()"
   ]
  },
  {
   "cell_type": "code",
   "execution_count": null,
   "metadata": {},
   "outputs": [],
   "source": [
    "# Get average predictions and errors. Add on the labels to \n",
    "# make plotting easier.\n",
    "sqr_lr_1 = avg_lr(get_preds(models_1)) + ('ReLU/ReLU',)\n",
    "sqr_lr_2 = avg_lr(get_preds(models_2)) + ('ReLU/ELU',)\n",
    "sqr_lr_3 = avg_lr(get_preds(models_3)) + ('ELU/ReLU',)\n",
    "sqr_lr_4 = avg_lr(get_preds(models_4)) + ('ELU/ELU',)\n",
    "\n",
    "sqr_lrr_1 = avg_lrr(get_preds(models_1)) + ('ReLU/ReLU',)\n",
    "sqr_lrr_2 = avg_lrr(get_preds(models_2)) + ('ReLU/ELU',)\n",
    "sqr_lrr_3 = avg_lrr(get_preds(models_3)) + ('ELU/ReLU',)\n",
    "sqr_lrr_4 = avg_lrr(get_preds(models_4)) + ('ELU/ELU',)"
   ]
  },
  {
   "cell_type": "code",
   "execution_count": null,
   "metadata": {},
   "outputs": [],
   "source": [
    "lr_plot([sqr_lr_1, sqr_lr_2, sqr_lr_3, sqr_lr_4], 'plots/sqr_lr_comparisons.png')"
   ]
  },
  {
   "cell_type": "code",
   "execution_count": null,
   "metadata": {},
   "outputs": [],
   "source": [
    "lrr_plot([sqr_lrr_1, sqr_lrr_2, sqr_lrr_3, sqr_lrr_4], 'plots/sqr_lrr_comparisons.png')"
   ]
  },
  {
   "cell_type": "code",
   "execution_count": null,
   "metadata": {
    "tags": []
   },
   "outputs": [],
   "source": [
    "xs = np.linspace(-6, 6, 1000)\n",
    "\n",
    "sqr_lrs_1 = np.array([sqr_lr(xs) for sqr_lr in models_1[100:200]])\n",
    "sqr_lrs_2 = np.array([sqr_lr(xs) for sqr_lr in models_2[100:200]])\n",
    "sqr_lrs_3 = np.array([sqr_lr(xs) for sqr_lr in models_3[100:200]])\n",
    "sqr_lrs_4 = np.array([sqr_lr(xs) for sqr_lr in models_4[100:200]])\n",
    "\n",
    "lrr_1 = sqr_lrs_1 / lr(xs)\n",
    "lrr_2 = sqr_lrs_2 / lr(xs)\n",
    "lrr_3 = sqr_lrs_3 / lr(xs)\n",
    "lrr_4 = sqr_lrs_4 / lr(xs)\n",
    "\n",
    "lrr_bar_1 = lrr_1.mean(axis=0)\n",
    "lrr_bar_2 = lrr_2.mean(axis=0)\n",
    "lrr_bar_3 = lrr_3.mean(axis=0)\n",
    "lrr_bar_4 = lrr_4.mean(axis=0)\n",
    "\n",
    "lrr_err_1 = lrr_1.std(axis=0)\n",
    "lrr_err_2 = lrr_2.std(axis=0)\n",
    "lrr_err_3 = lrr_3.std(axis=0)\n",
    "lrr_err_4 = lrr_4.std(axis=0)"
   ]
  },
  {
   "cell_type": "code",
   "execution_count": null,
   "metadata": {
    "tags": []
   },
   "outputs": [],
   "source": [
    "plt.plot(xs, lrr_bar_1, label = 'relu/relu', c = 'brown', ls=':')\n",
    "plt.plot(xs, lrr_bar_2, label = 'relu/elu', c = 'green', ls='--')\n",
    "plt.plot(xs, lrr_bar_3, label = 'elu/relu', c = 'blue', ls='-.')\n",
    "plt.plot(xs, lrr_bar_4, label = 'elu/elu', c = 'red', ls='--')\n",
    "plt.fill_between(xs, lrr_bar_1 - lrr_err_1, lrr_bar_1 + lrr_err_1, color='brown', alpha=0.1)\n",
    "plt.fill_between(xs, lrr_bar_2 - lrr_err_2, lrr_bar_2 + lrr_err_2, color='green', alpha=0.1)\n",
    "plt.fill_between(xs, lrr_bar_3 - lrr_err_3, lrr_bar_3 + lrr_err_3, color='blue', alpha=0.1)\n",
    "plt.fill_between(xs, lrr_bar_4 - lrr_err_4, lrr_bar_4 + lrr_err_4, color='red', alpha=0.1)\n",
    "plt.axhline(1,ls=\":\",color=\"grey\", lw=0.5)\n",
    "plt.axvline(0,ls=\":\",color=\"grey\", lw=0.5)\n",
    "plt.legend()\n",
    "plt.savefig('plots/sqr_cmp.png')"
   ]
  },
  {
   "cell_type": "code",
   "execution_count": null,
   "metadata": {
    "tags": []
   },
   "outputs": [],
   "source": [
    "dmaef mae(data):\n",
    "    return np.abs(data - lr(xs)).sum(axis=1).mean(axis=0)\n",
    "\n",
    "mae(sqr_lrs_1), mae(sqr_lrs_2), mae(sqr_lrs_3), mae(sqr_lrs_4)"
   ]
  },
  {
   "cell_type": "code",
   "execution_count": null,
   "metadata": {},
   "outputs": [],
   "source": [
    "1/0"
   ]
  },
  {
   "cell_type": "code",
   "execution_count": null,
   "metadata": {},
   "outputs": [],
   "source": [
    "plt.plot(xs, lr(xs), c='k', label='exact')\n",
    "plt.plot(xs, bce_rs_mean, c='green', label='relu/relu')\n",
    "plt.plot(xs, bce_es_mean, c='red', label='elu/elu')\n",
    "\n",
    "plt.fill_between(xs, bce_rs_mean - bce_rs_err, bce_rs_mean + bce_rs_err, color='green', alpha=0.1)\n",
    "plt.fill_between(xs, bce_es_mean - bce_es_err, bce_es_mean + bce_es_err, color='red', alpha=0.1)\n",
    "plt.legend();\n",
    "plt.ylim(0, 4)\n",
    "plt.savefig('plots/avg_lr_mlc_ee_rr_2.png', dpi=1200, bbox_inches='tight')"
   ]
  },
  {
   "cell_type": "code",
   "execution_count": null,
   "metadata": {},
   "outputs": [],
   "source": [
    "plt.plot(xs, bce_rs_mean / lr(xs), c='green', label='relu/relu')\n",
    "plt.plot(xs, bce_es_mean / lr(xs), c='red', label='elu/elu')\n",
    "plt.fill_between(xs, bce_rsr_mean - bce_rsr_err, bce_rsr_mean + bce_rsr_err, color='green', alpha=0.1)\n",
    "plt.fill_between(xs, bce_esr_mean - bce_esr_err, bce_esr_mean + bce_esr_err, color='red', alpha=0.1)\n",
    "\n",
    "#plt.ylim(0.5, 1.5)\n",
    "plt.legend();\n",
    "plt.savefig('plots/avg_lrr_mlc_eerr_1.png', dpi=1200, bbox_inches='tight')"
   ]
  },
  {
   "cell_type": "code",
   "execution_count": null,
   "metadata": {},
   "outputs": [],
   "source": [
    "mlc_rs_maes = []\n",
    "mlc_es_maes = []\n",
    "\n",
    "# This should be a sum\n",
    "for i in range(100):\n",
    "    model_mlc_lr = get_mlc_lr(bce_rs_models[i])\n",
    "    mlc_rs_maes += [np.mean(np.abs(model_mlc_lr(X) - lr(X)))]\n",
    "    \n",
    "    model_mlc_lr = get_mlc_lr(bce_es_models[i])\n",
    "    mlc_es_maes += [np.mean(np.abs(model_mlc_lr(X) - lr(X)))]"
   ]
  },
  {
   "cell_type": "code",
   "execution_count": null,
   "metadata": {},
   "outputs": [],
   "source": []
  },
  {
   "cell_type": "markdown",
   "metadata": {
    "jp-MarkdownHeadingCollapsed": true,
    "tags": []
   },
   "source": [
    "# Plot MAEs over time."
   ]
  },
  {
   "cell_type": "code",
   "execution_count": null,
   "metadata": {},
   "outputs": [],
   "source": [
    "# Data parameters\n",
    "N = 10**3\n",
    "mu = 0.1\n",
    "sigma = 1"
   ]
  },
  {
   "cell_type": "code",
   "execution_count": null,
   "metadata": {},
   "outputs": [],
   "source": [
    "### Generate the data.\n",
    "\n",
    "# Background is Normal(-μ, 1)\n",
    "# Signal is Normal(μ, 1))\n",
    "bkgd = np.random.normal(-mu, sigma, N)\n",
    "sgnl = np.random.normal(mu, sigma, N)\n",
    "X = np.concatenate([bkgd, sgnl])\n",
    "y = np.concatenate([np.zeros(N), np.ones(N)])\n",
    "\n",
    "X_train, X_test, y_train, y_test = train_test_split(X, y)"
   ]
  },
  {
   "cell_type": "code",
   "execution_count": null,
   "metadata": {},
   "outputs": [],
   "source": [
    "def mae(model_lr):\n",
    "    # Takes in model_lr, a model likelihood ratio. Returns the expected absolute\n",
    "    # error for that model.\n",
    "    return np.abs(model_lr(X) - lr(X)).mean()"
   ]
  },
  {
   "cell_type": "code",
   "execution_count": null,
   "metadata": {},
   "outputs": [],
   "source": [
    "Ns = 10**np.arange(2, 8)"
   ]
  },
  {
   "cell_type": "code",
   "execution_count": null,
   "metadata": {},
   "outputs": [],
   "source": [
    "reps = 100"
   ]
  },
  {
   "cell_type": "code",
   "execution_count": null,
   "metadata": {},
   "outputs": [],
   "source": [
    "bce_mae_avg = []\n",
    "mse_mae_avg = []\n",
    "mlc_mae_avg = []\n",
    "sqr_mae_avg = []\n",
    "\n",
    "bce_mae_err = []\n",
    "mse_mae_err = []\n",
    "mlc_mae_err = []\n",
    "sqr_mae_err = []\n",
    "\n",
    "for N in Ns:\n",
    "    print(N)\n",
    "    bce_lrs = [None] * reps\n",
    "    mse_lrs = [None] * reps\n",
    "    mlc_lrs = [None] * reps\n",
    "    sqr_lrs = [None] * reps\n",
    "    for i in range(reps):\n",
    "        filename = 'models/maes/bce/bce_model_{}_{}.h5'.format(N, i)\n",
    "        bce_model = create_model(**bce_params)\n",
    "        bce_model.load_weights(filename)\n",
    "        bce_lrs[i] = get_bce_lr(bce_model)\n",
    "\n",
    "        filename = 'models/maes/mse/mse_model_{}_{}.h5'.format(N, i)\n",
    "        mse_model = create_model(**mse_params)\n",
    "        mse_model.load_weights(filename)\n",
    "        mse_lrs[i] = get_mse_lr(mse_model)\n",
    "\n",
    "        filename = 'models/maes/mlc/mlc_model_{}_{}.h5'.format(N, i)\n",
    "        mlc_model = create_model(**mlc_params)\n",
    "        mlc_model.load_weights(filename)\n",
    "        mlc_lrs[i] = get_exp_mlc_lr(mlc_model)\n",
    "\n",
    "        filename = 'models/maes/sqr/sqr_model_{}_{}.h5'.format(N, i)\n",
    "        sqr_model = create_model(**sqr_params)\n",
    "        sqr_model.load_weights(filename)\n",
    "        sqr_lrs[i] = get_sqr_lr(sqr_model)\n",
    "    \n",
    "    bce_maes = [mae(lr) for lr in bce_lrs]\n",
    "    mse_maes = [mae(lr) for lr in mse_lrs]\n",
    "    mlc_maes = [mae(lr) for lr in mlc_lrs]\n",
    "    sqr_maes = [mae(lr) for lr in sqr_lrs]\n",
    "    \n",
    "    bce_mae_avg += [np.mean(bce_maes)]\n",
    "    bce_mae_err += [np.std(bce_maes)]\n",
    "    mse_mae_avg += [np.mean(mse_maes)]\n",
    "    mse_mae_err += [np.std(mse_maes)]\n",
    "    \n",
    "    mlc_mae_avg += [np.mean(mlc_maes)]\n",
    "    mlc_mae_err += [np.std(mlc_maes)]\n",
    "    \n",
    "    sqr_mae_avg += [np.mean(sqr_maes)]\n",
    "    sqr_mae_err += [np.std(sqr_maes)]\n",
    "\n",
    "bce_mae_avg = np.array(bce_mae_avg)\n",
    "mse_mae_avg = np.array(mse_mae_avg)\n",
    "mlc_mae_avg = np.array(mlc_mae_avg)\n",
    "sqr_mae_avg = np.array(sqr_mae_avg)\n",
    "\n",
    "bce_mae_err = np.array(bce_mae_err)\n",
    "mse_mae_err = np.array(mse_mae_err)\n",
    "mlc_mae_err = np.array(mlc_mae_err)\n",
    "sqr_mae_err = np.array(sqr_mae_err)"
   ]
  },
  {
   "cell_type": "code",
   "execution_count": null,
   "metadata": {},
   "outputs": [],
   "source": [
    "fig, ax = plt.subplots(figsize = (10, 6))\n",
    "\n",
    "plt.plot(Ns, bce_mae_avg, c='brown', ls=':', label='BCE')\n",
    "plt.plot(Ns, mse_mae_avg, c='green', ls='--', label='MSE')\n",
    "plt.plot(Ns, mlc_mae_avg, c='red', ls='--', label='MLC')\n",
    "#plt.plot(Ns, sqr_mae_avg, c='blue', ls='-.', label='SQR')\n",
    "plt.fill_between(Ns, bce_mae_avg - bce_mae_err, bce_mae_avg + bce_mae_err, color='brown', alpha=0.1)\n",
    "plt.fill_between(Ns, mse_mae_avg - mse_mae_err, mse_mae_avg + mse_mae_err, color='green', alpha=0.1)\n",
    "plt.fill_between(Ns, mlc_mae_avg - mlc_mae_err, mlc_mae_avg + mlc_mae_err, color='red', alpha=0.1)\n",
    "#plt.fill_between(Ns, sqr_mae_avg - sqr_mae_err, sqr_mae_avg + sqr_mae_err, color='blue', alpha=0.1)\n",
    "plt.legend()\n",
    "plt.ylim(0, 0.12)\n",
    "\n",
    "plt.xscale(\"log\", basex=10)\n",
    "plt.minorticks_on()\n",
    "plt.tick_params(direction='in', which='both',length=5)\n",
    "plt.ylabel('Mean Absolute Error')\n",
    "plt.xlabel(r'$N$')\n",
    "\n",
    "plt.title(r\"$\\mu_{\\rm{sgnl}}=\"+str(mu)+r\", \\mu_{\\rm{bkgd}}=\"+str(-mu)+r\"$\",loc=\"right\",fontsize=20);\n",
    "plt.savefig('plots/maes_without_sqr.png', dpi=1200, bbox_inches='tight')"
   ]
  },
  {
   "cell_type": "markdown",
   "metadata": {},
   "source": [
    "## Plot different reweighting schemes\n",
    "\n",
    "We'll use $N = 10^6$. "
   ]
  },
  {
   "cell_type": "code",
   "execution_count": null,
   "metadata": {},
   "outputs": [],
   "source": [
    "filename = 'models/maes/bce/bce_model_1000000_0.h5'\n",
    "bce = create_model(**bce_params)\n",
    "bce.load_weights(filename)"
   ]
  },
  {
   "cell_type": "code",
   "execution_count": null,
   "metadata": {},
   "outputs": [],
   "source": [
    "# Load in models.\n",
    "bce_lrs = [None] * reps\n",
    "mse_lrs = [None] * reps\n",
    "mlc_lrs = [None] * reps\n",
    "sqr_lrs = [None] * reps\n",
    "for i in range(100):\n",
    "    filename = 'models/maes/bce/bce_model_1000000_{}.h5'.format(i)\n",
    "    bce_model = create_model(**bce_params)\n",
    "    bce_model.load_weights(filename)\n",
    "    bce_lrs[i] = get_bce_lr(bce_model)\n",
    "    \n",
    "    filename = 'models/maes/mse/mse_model_1000000_{}.h5'.format(i)\n",
    "    mse_model = create_model(**mse_params)\n",
    "    mse_model.load_weights(filename)\n",
    "    mse_lrs[i] = get_mse_lr(mse_model)\n",
    "    \n",
    "    filename = 'models/maes/mlc/mlc_model_1000000_{}.h5'.format(i)\n",
    "    mlc_model = create_model(**mlc_params)\n",
    "    mlc_model.load_weights(filename)\n",
    "    mlc_lrs[i] = get_exp_mlc_lr(mlc_model)\n",
    "    \n",
    "    filename = 'models/maes/sqr/sqr_model_1000000_{}.h5'.format(i)\n",
    "    sqr_model = create_model(**sqr_params)\n",
    "    sqr_model.load_weights(filename)\n",
    "    sqr_lrs[i] = get_sqr_lr(sqr_model)"
   ]
  },
  {
   "cell_type": "code",
   "execution_count": null,
   "metadata": {},
   "outputs": [],
   "source": [
    "bce_lr = avg_lr(get_preds(bce_lrs)) + ('BCE',)\n",
    "mse_lr = avg_lr(get_preds(mse_lrs)) + ('MSE',)\n",
    "mlc_lr = avg_lr(get_preds(mlc_lrs)) + ('MLC',)\n",
    "sqr_lr = avg_lr(get_preds(sqr_lrs)) + ('SQR',)\n",
    "\n",
    "bce_lrr = avg_lrr(get_preds(bce_lrs)) + ('BCE',)\n",
    "mse_lrr = avg_lrr(get_preds(mse_lrs)) + ('MSE',)\n",
    "mlc_lrr = avg_lrr(get_preds(mlc_lrs)) + ('MLC',)\n",
    "sqr_lrr = avg_lrr(get_preds(sqr_lrs)) + ('SQR',)"
   ]
  },
  {
   "cell_type": "code",
   "execution_count": null,
   "metadata": {},
   "outputs": [],
   "source": [
    "lr_plot([bce_lr, mse_lr, mlc_lr, sqr_lr], 'plots/lr_schemes.png')"
   ]
  },
  {
   "cell_type": "code",
   "execution_count": null,
   "metadata": {},
   "outputs": [],
   "source": [
    "lrr_plot([bce_lrr, mse_lrr, mlc_lrr, sqr_lrr], 'plots/lrr_schemes.png')"
   ]
  },
  {
   "cell_type": "code",
   "execution_count": null,
   "metadata": {},
   "outputs": [],
   "source": [
    "bce_mae = np.mean([mae(lr) for lr in bce_lrs])\n",
    "mse_mae = np.mean([mae(lr) for lr in mse_lrs])\n",
    "mlc_mae = np.mean([mae(lr) for lr in mlc_lrs])\n",
    "sqr_mae = np.mean([mae(lr) for lr in sqr_lrs])"
   ]
  },
  {
   "cell_type": "code",
   "execution_count": null,
   "metadata": {},
   "outputs": [],
   "source": [
    "print(bce_mae, mse_mae, mlc_mae, sqr_mae)"
   ]
  },
  {
   "cell_type": "markdown",
   "metadata": {
    "jp-MarkdownHeadingCollapsed": true,
    "tags": []
   },
   "source": [
    "# Compare SQR losses"
   ]
  },
  {
   "cell_type": "code",
   "execution_count": 25,
   "metadata": {},
   "outputs": [],
   "source": [
    "reps = 100\n",
    "\n",
    "# model parameters\n",
    "params_1 = {'loss':sqr, 'hidden':'relu', 'output':'relu'}\n",
    "params_2 = {'loss':square_sqr, 'hidden':'relu', 'output':'linear'}\n",
    "params_3 = {'loss':exp_sqr, 'hidden':'relu', 'output':'linear'}"
   ]
  },
  {
   "cell_type": "code",
   "execution_count": 26,
   "metadata": {
    "scrolled": true,
    "tags": []
   },
   "outputs": [
    {
     "name": "stdout",
     "output_type": "stream",
     "text": [
      "0 0.9951449036598206 1.4107364416122437 0.9950249195098877 \n",
      "1 0.9951347708702087 0.9953994750976562 0.9949960708618164 \n",
      "2 0.9951592683792114 1.0008858442306519 0.9950171113014221 \n",
      "3 0.9950721263885498 1.1917601823806763 0.9950727224349976 \n",
      "4 0.9950897693634033 5.027225971221924 0.9951675534248352 \n",
      "5 0.9954094290733337 2.9690747261047363 0.9950169920921326 \n",
      "6 0.995124876499176 1.0048434734344482 0.9951153993606567 \n",
      "7 0.9951351284980774 1.1726341247558594 0.9950603246688843 \n",
      "8 0.9950090646743774 13.181309700012207 0.9950352311134338 \n",
      "9 0.9953133463859558 1.0660783052444458 0.995079517364502 \n",
      "10 0.9950881004333496 1.401214838027954 0.9950275421142578 \n",
      "11 0.9951295256614685 1.1551522016525269 0.9950204491615295 \n",
      "12 0.9952492713928223 0.995853841304779 0.9950482249259949 \n",
      "13 0.9954487681388855 1.006528377532959 0.995058000087738 \n",
      "14 0.9951618313789368 28.784582138061523 0.995113730430603 \n",
      "15 0.995281994342804 1.0110543966293335 0.995126485824585 \n",
      "16 0.9951419830322266 0.9966252446174622 0.9950114488601685 \n",
      "17 0.9951385259628296 1.0433344841003418 0.9949949383735657 \n",
      "18 0.99505615234375 0.996281623840332 0.995021402835846 \n",
      "19 0.9950715899467468 1.0348702669143677 0.9949939846992493 \n",
      "20 0.995419442653656 0.998156726360321 0.9950034618377686 \n",
      "21 0.995342493057251 1.390274167060852 0.9950559735298157 \n",
      "22 0.9951456189155579 0.9957211017608643 0.9950454831123352 \n",
      "23 0.9954196214675903 3.1272315979003906 0.9950550198554993 \n",
      "24 0.9951842427253723 1.0198062658309937 0.9950242042541504 \n",
      "25 0.9953981041908264 4.455687999725342 0.9951055645942688 \n",
      "26 0.9950842261314392 1.0018759965896606 0.9950408339500427 \n",
      "27 0.9951481223106384 4.98314094543457 0.9950405955314636 \n",
      "28 0.995741605758667 10.738365173339844 0.9950730204582214 \n",
      "29 0.9951238036155701 0.9983848929405212 0.9950673580169678 \n",
      "30 0.9951419234275818 4.321606159210205 0.9950549602508545 \n",
      "31 0.995214581489563 1.1902849674224854 0.995077908039093 \n",
      "32 0.9951589107513428 1.1907520294189453 0.9951127171516418 \n",
      "33 0.9951521158218384 1.2135663032531738 0.9949937462806702 \n",
      "34 0.9952993392944336 nan 0.9950739741325378 \n",
      "35 0.9951296448707581 1.1511836051940918 0.9950724244117737 \n",
      "36 0.9951476454734802 1.176114797592163 0.9950445294380188 \n",
      "37 0.9951196312904358 1.0017215013504028 0.9950025081634521 \n",
      "38 0.9952108860015869 1.5885671377182007 0.995080292224884 \n",
      "39 0.9950238466262817 0.9970389604568481 0.9950503706932068 \n",
      "40 0.9951719045639038 0.9960430264472961 0.9950941801071167 \n",
      "41 0.9950717091560364 1.084386944770813 0.9951938986778259 \n",
      "42 0.9951946139335632 1.0898988246917725 0.9950085878372192 \n",
      "43 0.9953374266624451 1.0075883865356445 0.9951009750366211 \n",
      "44 0.995141863822937 0.9967129230499268 0.9951174855232239 \n",
      "45 0.9950954914093018 1.0040309429168701 0.9950066208839417 \n",
      "46 0.9951620697975159 0.9954186677932739 0.9951589703559875 \n",
      "47 0.9953124523162842 0.9983805418014526 0.9950615167617798 \n",
      "48 0.9959650635719299 1.210399866104126 0.9950201511383057 \n",
      "49 0.9951254725456238 0.9981457591056824 0.9950197339057922 \n",
      "50 0.9951709508895874 0.9969171285629272 0.9950482249259949 \n",
      "51 0.9952083826065063 0.9973352551460266 0.9950626492500305 \n",
      "52 0.9951264262199402 1.3819392919540405 0.9950592517852783 \n",
      "53 0.9950817227363586 1.107417345046997 0.9950482249259949 \n",
      "54 0.9950958490371704 1.2179508209228516 0.9950774908065796 \n",
      "55 0.9951514005661011 0.9957432150840759 0.9951426386833191 \n",
      "56 0.9951246380805969 1.2971978187561035 0.9950322508811951 \n",
      "57 0.9951528906822205 0.9955667853355408 0.9950863122940063 \n",
      "58 0.9956969022750854 14.413333892822266 0.9950205087661743 \n",
      "59 0.9951616525650024 0.9959402680397034 0.9950485229492188 \n",
      "60 0.9950899481773376 0.9962997436523438 0.9950451254844666 \n",
      "61 0.99506676197052 1.004667043685913 0.9950575232505798 \n",
      "62 0.9951704144477844 1.0065664052963257 0.9950994849205017 \n",
      "63 0.9950588941574097 0.9961473941802979 0.9950911402702332 \n",
      "64 0.9951648712158203 1.008805274963379 0.9950630068778992 \n",
      "65 0.9951077699661255 1.0137779712677002 0.9950993657112122 \n",
      "66 0.9952742457389832 1.0044374465942383 0.9950264096260071 \n",
      "67 0.9951708912849426 1.2739062309265137 0.9950188398361206 \n",
      "68 0.995095431804657 0.9966740012168884 0.9950304627418518 \n",
      "69 0.9950740337371826 1.0045759677886963 0.9950478672981262 \n",
      "70 0.9952698349952698 0.9958951473236084 0.9950125813484192 \n",
      "71 0.9952694177627563 1.1962510347366333 0.9950201511383057 \n",
      "72 0.9950742125511169 1.1120539903640747 0.9950699806213379 \n",
      "73 0.9950783848762512 0.9958794116973877 0.9950454831123352 \n",
      "74 0.9950487017631531 0.9972147941589355 0.9950810670852661 \n",
      "75 0.995144784450531 0.9959024786949158 0.9950672388076782 \n",
      "76 0.9952369332313538 1.0105583667755127 0.9950352311134338 \n",
      "77 0.995087742805481 1.0723943710327148 0.995086133480072 \n",
      "78 0.9953399896621704 1.0400359630584717 0.995028018951416 \n",
      "79 0.9951742887496948 17.721006393432617 0.9950673580169678 \n",
      "80 0.9952152967453003 1.00130033493042 0.995026171207428 \n",
      "81 0.9951404929161072 24.18535804748535 0.995029628276825 \n",
      "82 0.9952144026756287 0.9954699873924255 0.9949970841407776 \n",
      "83 0.9950900077819824 1.006518840789795 0.9950274229049683 \n",
      "84 0.9952358603477478 0.9954361319541931 0.9950497150421143 \n",
      "85 0.995168924331665 0.9959095120429993 0.9950247406959534 \n",
      "86 0.9955058693885803 3.2955169677734375 0.9950217604637146 \n",
      "87 0.9951426386833191 1.327298641204834 0.9949911236763 \n",
      "88 0.9953212738037109 1.0680254697799683 0.9950075745582581 \n",
      "89 0.9950222373008728 0.9954550266265869 0.9950668215751648 \n",
      "90 0.995012640953064 1.1785670518875122 0.995033860206604 \n",
      "91 0.9951008558273315 2.19523286819458 0.9950988292694092 \n",
      "92 0.9950820207595825 41.594539642333984 0.9950051307678223 \n",
      "93 0.9950562715530396 0.9956351518630981 0.9950557351112366 \n",
      "94 0.9952577352523804 3.0458476543426514 0.9950407147407532 \n",
      "95 0.995161771774292 0.995735764503479 0.995008647441864 \n",
      "96 0.9951624870300293 1.1080632209777832 0.9950039982795715 \n",
      "97 0.9950679540634155 1.027754783630371 0.9950942993164062 \n",
      "98 1.0031861066818237 1.3589509725570679 0.9950142502784729 \n",
      "99 0.9951773285865784 1.0971746444702148 0.9950495958328247 \n",
      "CPU times: user 1h 41min 16s, sys: 3min 37s, total: 1h 44min 53s\n",
      "Wall time: 42min 18s\n"
     ]
    }
   ],
   "source": [
    "%%time\n",
    "\n",
    "models_1 = [None] * reps\n",
    "models_2 = [None] * reps\n",
    "models_3 = [None] * reps\n",
    "\n",
    "lrs_1 = [None] * reps\n",
    "lrs_2 = [None] * reps\n",
    "lrs_3 = [None] * reps\n",
    "\n",
    "for i in range(reps):\n",
    "    print(i, end = ' ')\n",
    "    models_1[i], lrs_1[i] = train(**params_1)\n",
    "    models_2[i], lrs_2[i] = train(**params_2)\n",
    "    models_3[i], lrs_3[i] = train(**params_3)\n",
    "    print()"
   ]
  },
  {
   "cell_type": "code",
   "execution_count": 27,
   "metadata": {},
   "outputs": [],
   "source": [
    "for i in range(reps):\n",
    "    models_1[i].save_weights('models/ratios/sqr/sqr_model_{}.h5'.format(i))\n",
    "    models_2[i].save_weights('models/ratios/sqr/square_sqr_model_{}.h5'.format(i))\n",
    "    models_3[i].save_weights('models/ratios/sqr/exp_sqr_model_{}.h5'.format(i))"
   ]
  },
  {
   "cell_type": "code",
   "execution_count": 28,
   "metadata": {},
   "outputs": [],
   "source": [
    "# Get average predictions and errors. Add on the labels to \n",
    "# make plotting easier.\n",
    "lr_1 = avg_lr(get_preds(lrs_1)) + ('linear',)\n",
    "lr_2 = avg_lr(get_preds(lrs_2)) + ('square',)\n",
    "lr_3 = avg_lr(get_preds(lrs_3)) + ('exponential',)\n",
    "\n",
    "lrr_1 = avg_lrr(get_preds(lrs_1)) + ('linear',)\n",
    "lrr_2 = avg_lrr(get_preds(lrs_2)) + ('square',)\n",
    "lrr_3 = avg_lrr(get_preds(lrs_3)) + ('exponential',)"
   ]
  },
  {
   "cell_type": "code",
   "execution_count": 29,
   "metadata": {},
   "outputs": [
    {
     "data": {
      "image/png": "[encoded data removed]",
      "text/plain": [
       "<Figure size 720x432 with 2 Axes>"
      ]
     },
     "metadata": {
      "needs_background": "light"
     },
     "output_type": "display_data"
    }
   ],
   "source": [
    "lr_plot([lr_1, lr_2, lr_3], 'plots/sqr_param_lr.png')"
   ]
  },
  {
   "cell_type": "code",
   "execution_count": 30,
   "metadata": {},
   "outputs": [
    {
     "data": {
      "image/png": "[encoded data removed]",
      "text/plain": [
       "<Figure size 720x432 with 2 Axes>"
      ]
     },
     "metadata": {
      "needs_background": "light"
     },
     "output_type": "display_data"
    }
   ],
   "source": [
    "lrr_plot([lrr_1, lrr_2, lrr_3], 'plots/sqr_param_lrrs.png')"
   ]
  },
  {
   "cell_type": "markdown",
   "metadata": {
    "tags": []
   },
   "source": [
    "# Ensemble Learning"
   ]
  },
  {
   "cell_type": "code",
   "execution_count": null,
   "metadata": {},
   "outputs": [],
   "source": [
    "1/0"
   ]
  },
  {
   "cell_type": "code",
   "execution_count": null,
   "metadata": {},
   "outputs": [],
   "source": [
    "import numpy as np\n",
    "import matplotlib.pyplot as plt\n",
    "\n",
    "import tensorflow as tf\n",
    "from tensorflow.keras.models import Model, model_from_json\n",
    "from tensorflow.keras import Sequential\n",
    "import tensorflow.keras.layers as layers\n",
    "from tensorflow.keras.layers import Lambda, Dense, Flatten, Dropout\n",
    "from tensorflow.keras.callbacks import ModelCheckpoint\n",
    "from tensorflow.keras import backend as K\n",
    "from tensorflow.keras.losses import binary_crossentropy\n",
    "from tensorflow.keras.callbacks import EarlyStopping\n",
    "from tensorflow.keras import layers\n",
    "from tensorflow.keras.models import Model\n",
    "    \n",
    "import pandas as pd\n",
    "from sklearn import preprocessing\n",
    "from sklearn.metrics import roc_curve, roc_auc_score\n",
    "from sklearn.model_selection import train_test_split\n",
    "from matplotlib import gridspec\n",
    "from matplotlib import patches\n",
    "\n",
    "plt.rcParams[\"font.family\"] = \"serif\""
   ]
  },
  {
   "cell_type": "code",
   "execution_count": null,
   "metadata": {},
   "outputs": [],
   "source": [
    "#MLC loss\n",
    "\n",
    "N = 100000\n",
    "\n",
    "theta0 = 0.1\n",
    "\n",
    "X_MC = np.random.normal(-theta0,1,N)\n",
    "X_data = np.random.normal(theta0,1,N)\n",
    "X_MLE_train, X_MLE_val, Y_MLE_train, Y_MLE_val = train_test_split(np.concatenate([X_data,X_MC]), np.concatenate([np.ones(len(X_data)),np.zeros(len(X_MC))]), test_size=0.5)\n",
    "\n",
    "\n",
    "def CustomLoss2(y_true, y_pred):\n",
    "    return -y_true*K.log(y_pred**2+0.00000001) + (1.-y_true)*y_pred**2\n",
    "\n",
    "def CustomLoss(y_true, y_pred):\n",
    "    return -y_true*K.log(y_pred+0.00000001) + (1.-y_true)*y_pred\n",
    "\n",
    "model_MLE2 = Sequential()\n",
    "model_MLE2.add(Dense(64, activation='relu',input_shape =(1,))) \n",
    "model_MLE2.add(Dense(128, activation='relu'))\n",
    "model_MLE2.add(Dense(64, activation='relu'))\n",
    "model_MLE2.add(Dense(1, activation='linear')) #was sigmoid\n",
    "model_MLE2.compile(loss=lambda y_true, y_pred: CustomLoss2(y_true, y_pred), optimizer='adam', metrics=['accuracy'])\n",
    "hist_MLE2 = model_MLE2.fit(X_MLE_train, Y_MLE_train, epochs=100, batch_size=int(0.01*len(X_MLE_train)),validation_data=(X_MLE_val, Y_MLE_val),callbacks=[earlystopping])\n",
    "\n",
    "model_MLE = Sequential()\n",
    "model_MLE.add(Dense(64, activation='relu',input_shape =(1,))) \n",
    "model_MLE.add(Dense(128, activation='relu'))\n",
    "model_MLE.add(Dense(64, activation='relu'))\n",
    "model_MLE.add(Dense(1, activation='relu')) #was sigmoid\n",
    "model_MLE.compile(loss=lambda y_true, y_pred: CustomLoss(y_true, y_pred), optimizer='adam', metrics=['accuracy'])\n",
    "hist_MLE = model_MLE.fit(X_MLE_train, Y_MLE_train, epochs=100, batch_size=int(0.01*len(X_MLE_train)),validation_data=(X_MLE_val, Y_MLE_val),callbacks=[earlystopping])\n",
    "\n",
    "model_BCE = Sequential()\n",
    "model_BCE.add(Dense(64, activation='relu',input_shape =(1,))) \n",
    "model_BCE.add(Dense(128, activation='relu'))\n",
    "model_BCE.add(Dense(64, activation='relu'))\n",
    "model_BCE.add(Dense(1, activation='sigmoid'))\n",
    "model_BCE.compile(loss=\"binary_crossentropy\", optimizer='adam', metrics=['accuracy'])\n",
    "hist_BCE = model_BCE.fit(X_MLE_train, Y_MLE_train, epochs=100, batch_size=int(0.01*len(X_MLE_train)),validation_data=(X_MLE_val, Y_MLE_val),callbacks=[earlystopping])\n"
   ]
  },
  {
   "cell_type": "code",
   "execution_count": null,
   "metadata": {},
   "outputs": [],
   "source": [
    "fig = plt.figure(figsize=(8, 6))\n",
    "gs = gridspec.GridSpec(1, 1) \n",
    "ax1 = plt.subplot(gs[0])\n",
    "ax1.yaxis.set_ticks_position('both')\n",
    "ax1.xaxis.set_ticks_position('both')\n",
    "ax1.tick_params(direction=\"in\",which=\"both\")\n",
    "plt.xticks(fontsize=20)\n",
    "plt.yticks(fontsize=20)\n",
    "ax1.minorticks_on()\n",
    "\n",
    "xx = np.linspace(-3,3,100)\n",
    "preds_BCE = model_BCE.predict(xx)\n",
    "plotBCE = plt.plot(xx,preds_BCE/(1.-preds_BCE),label=\"NN (BCE)\",ls=\":\",lw=5,color='green')\n",
    "preds_test2 = model_MLE2.predict(xx)**2\n",
    "plot12 = plt.plot(xx,preds_test2,label=\"NN (MLC, squared)\",ls=\":\",color='green')\n",
    "preds_test = model_MLE.predict(xx)\n",
    "plot11 = plt.plot(xx,preds_test,label=\"NN (MLC, linear)\",ls=\"-\",color='green')\n",
    "plot2 = plt.plot(xx,np.exp(-((xx-theta0)**2-(xx+theta0)**2)/(2*1**2)),label=\"exact\",color='orange')\n",
    "plt.ylim([0,2])\n",
    "plt.axvline(0,ls=\":\",color=\"grey\")\n",
    "plt.axhline(1,ls=\":\",color=\"grey\")\n",
    "plt.xlabel(r\"$x$\",fontsize=20)\n",
    "plt.ylabel(\"likelihood ratio\",fontsize=20)\n",
    "plt.title(r\"$\\mu_{MC} = \"+str(theta0)+r\", \\mu_{data}=0.5$\",loc=\"right\",fontsize=20)\n",
    "\n",
    "ax2 = ax1.twinx()\n",
    "_,_,_=plt.hist(X_MLE_train[Y_MLE_train==0],bins=np.linspace(-3,3,50),alpha=0.3,label=\"Back.\",color='red')\n",
    "_,_,_=plt.hist(X_MLE_train[Y_MLE_train==1],bins=np.linspace(-3,3,50),alpha=0.3,label=\"Signal\")\n",
    "ax2.tick_params(axis='y', labelcolor=\"red\")\n",
    "ax2.set_ylabel(\"histogram\",color='red',fontsize=20)\n",
    "\n",
    "for label in ax2.yaxis.get_majorticklabels():\n",
    "        label.set_fontsize(20)\n",
    "\n",
    "leg = plt.legend([plotBCE[0], plot11[0],plot12[0],plot2[0]],['BCE', 'MLC, linear','MLC, squared','Exact'], loc=\"upper left\",frameon=False,fontsize=18)\n",
    "plt.legend(frameon=False,fontsize=20)\n",
    "plt.gca().add_artist(leg)\n",
    "\n",
    "#plt.savefig(\"ensembleLearnPlots/MLCloss.pdf\",bbox_inches='tight')"
   ]
  }
 ],
 "metadata": {
  "kernelspec": {
   "display_name": "omnifold",
   "language": "python",
   "name": "omnifold"
  },
  "language_info": {
   "codemirror_mode": {
    "name": "ipython",
    "version": 3
   },
   "file_extension": ".py",
   "mimetype": "text/x-python",
   "name": "python",
   "nbconvert_exporter": "python",
   "pygments_lexer": "ipython3",
   "version": "3.8.12"
  }
 },
 "nbformat": 4,
 "nbformat_minor": 4
}
