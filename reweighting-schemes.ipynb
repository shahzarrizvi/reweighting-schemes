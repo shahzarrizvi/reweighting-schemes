{
 "cells": [
  {
   "cell_type": "code",
   "execution_count": 2,
   "metadata": {
    "tags": []
   },
   "outputs": [],
   "source": [
    "# Automatically reload modules after executing each cell.\n",
    "%load_ext autoreload\n",
    "%autoreload 2"
   ]
  },
  {
   "cell_type": "code",
   "execution_count": 3,
   "metadata": {},
   "outputs": [],
   "source": [
    "# General imports\n",
    "import os\n",
    "import tensorflow as tf\n",
    "from scipy import stats\n",
    "\n",
    "# Utility imports\n",
    "from utils.losses import *\n",
    "from utils.plotting import *\n",
    "from utils.training import *\n",
    "\n",
    "np.random.seed(666) # Need to do more to ensure data is the same across runs."
   ]
  },
  {
   "cell_type": "code",
   "execution_count": 4,
   "metadata": {},
   "outputs": [
    {
     "name": "stderr",
     "output_type": "stream",
     "text": [
      "2022-08-04 12:13:58.415707: I tensorflow/stream_executor/platform/default/dso_loader.cc:44] Successfully opened dynamic library libcuda.so.1\n",
      "2022-08-04 12:13:58.456050: I tensorflow/core/common_runtime/gpu/gpu_device.cc:1561] Found device 0 with properties: \n",
      "pciBusID: 0000:01:00.0 name: Quadro RTX 6000 computeCapability: 7.5\n",
      "coreClock: 1.77GHz coreCount: 72 deviceMemorySize: 23.65GiB deviceMemoryBandwidth: 625.94GiB/s\n",
      "2022-08-04 12:13:58.456435: I tensorflow/stream_executor/platform/default/dso_loader.cc:44] Successfully opened dynamic library libcudart.so.10.1\n",
      "2022-08-04 12:13:58.459041: I tensorflow/stream_executor/platform/default/dso_loader.cc:44] Successfully opened dynamic library libcublas.so.10\n",
      "2022-08-04 12:13:58.462042: I tensorflow/stream_executor/platform/default/dso_loader.cc:44] Successfully opened dynamic library libcufft.so.10\n",
      "2022-08-04 12:13:58.462476: I tensorflow/stream_executor/platform/default/dso_loader.cc:44] Successfully opened dynamic library libcurand.so.10\n",
      "2022-08-04 12:13:58.465321: I tensorflow/stream_executor/platform/default/dso_loader.cc:44] Successfully opened dynamic library libcusolver.so.10\n",
      "2022-08-04 12:13:58.466911: I tensorflow/stream_executor/platform/default/dso_loader.cc:44] Successfully opened dynamic library libcusparse.so.10\n",
      "2022-08-04 12:13:58.472970: I tensorflow/stream_executor/platform/default/dso_loader.cc:44] Successfully opened dynamic library libcudnn.so.7\n",
      "2022-08-04 12:13:58.477998: I tensorflow/core/common_runtime/gpu/gpu_device.cc:1703] Adding visible gpu devices: 0\n"
     ]
    }
   ],
   "source": [
    "os.environ[\"CUDA_VISIBLE_DEVICES\"] = \"0\" # pick a number < 4 on ML4HEP; < 3 on Voltan \n",
    "physical_devices = tf.config.list_physical_devices('GPU') \n",
    "tf.config.experimental.set_memory_growth(physical_devices[0], True)"
   ]
  },
  {
   "cell_type": "markdown",
   "metadata": {
    "jp-MarkdownHeadingCollapsed": true,
    "tags": []
   },
   "source": [
    "# BCE $C$ Parametrizations"
   ]
  },
  {
   "cell_type": "code",
   "execution_count": 11,
   "metadata": {},
   "outputs": [],
   "source": [
    "# Experiment parameters\n",
    "num = 2\n",
    "reps = 100\n",
    "\n",
    "# Data generation\n",
    "N = 10**6\n",
    "bkgd = stats.norm(-0.1, 1)\n",
    "sgnl = stats.norm(0.1, 1)\n",
    "lr = make_lr(bkgd, sgnl)\n",
    "mae = make_mae(bkgd, sgnl)\n",
    "data, m, s = make_data(bkgd, sgnl, N)\n",
    "\n",
    "# Model parameters\n",
    "params_1 = {'loss':bce}\n",
    "params_2 = {'loss':tanh_bce, 'output': 'linear'}\n",
    "params_3 = {'loss':atan_bce, 'output': 'linear'}\n",
    "\n",
    "filestr = 'models/univariate/bce_c_param/set_{}/'.format(num)\n",
    "filestr_1 = filestr + 'linear/model_{}.h5'\n",
    "filestr_2 = filestr + 'tanh/model_{}.h5'\n",
    "filestr_3 = filestr + 'atan/model_{}.h5'\n",
    "\n",
    "np.save(filestr + 'm.npy', m)\n",
    "np.save(filestr + 's.npy', s)"
   ]
  },
  {
   "cell_type": "code",
   "execution_count": 6,
   "metadata": {},
   "outputs": [
    {
     "name": "stdout",
     "output_type": "stream",
     "text": [
      "0 0.6882256865501404 \t 14\t0.6881949305534363 \t 38\t0.6881549954414368 \t 13\t\n",
      "1 0.6881628632545471 \t 12\t0.6882348656654358 \t 16\t0.6881563663482666 \t 12\t\n",
      "2 0.6881377100944519 \t 11\t0.6881455779075623 \t 19\t0.6881788969039917 \t 18\t\n",
      "3 0.6881738901138306 \t 17\t0.6881164908409119 \t 12\t0.6881406903266907 \t 12\t\n",
      "4 0.688130795955658 \t 18\t0.6881524920463562 \t 14\t0.6881380081176758 \t 14\t\n",
      "5 0.6881803274154663 \t 12\t0.6881454586982727 \t 11\t0.6881465911865234 \t 14\t\n",
      "6 0.6881537437438965 \t 13\t0.6882172226905823 \t 16\t0.6881501078605652 \t 28\t\n",
      "7 0.6882002949714661 \t 39\t0.6882257461547852 \t 12\t0.68817138671875 \t 13\t\n",
      "8 0.6881285905838013 \t 13\t0.6881749033927917 \t 12\t0.6882195472717285 \t 21\t\n",
      "9 0.6881157755851746 \t 16\t0.6881767511367798 \t 33\t0.6881601214408875 \t 14\t\n",
      "10 0.6881738305091858 \t 19\t0.6881312727928162 \t 13\t0.6881130337715149 \t 12\t\n",
      "11 0.6881515383720398 \t 16\t0.6881685256958008 \t 23\t0.6881613731384277 \t 11\t\n",
      "12 0.6881522536277771 \t 20\t0.6881471276283264 \t 12\t0.688167154788971 \t 12\t\n",
      "13 0.6881899833679199 \t 21\t0.6882960200309753 \t 12\t0.6881579160690308 \t 18\t\n",
      "14 0.6881736516952515 \t 19\t0.6882776021957397 \t 16\t0.6881531476974487 \t 11\t\n",
      "15 0.6881528496742249 \t 12\t0.6882523894309998 \t 13\t0.6881566047668457 \t 16\t\n",
      "16 0.6881742477416992 \t 25\t0.6881473660469055 \t 15\t0.6881281137466431 \t 14\t\n",
      "17 0.6881765127182007 \t 15\t0.6881929636001587 \t 12\t0.6881083250045776 \t 12\t\n",
      "18 0.6881438493728638 \t 14\t0.6881723999977112 \t 11\t0.6881376504898071 \t 14\t\n",
      "19 0.6881227493286133 \t 15\t0.6882405877113342 \t 12\t0.6881866455078125 \t 11\t\n",
      "20 0.6881100535392761 \t 12\t0.6882562637329102 \t 13\t0.6881338357925415 \t 12\t\n",
      "21 0.6881487369537354 \t 14\t0.6881651878356934 \t 12\t0.6881166100502014 \t 14\t\n",
      "22 0.688110888004303 \t 14\t0.6881669163703918 \t 16\t0.6881855130195618 \t 14\t\n",
      "23 0.6881974935531616 \t 13\t0.6881244778633118 \t 16\t0.6881548762321472 \t 12\t\n",
      "24 0.688157856464386 \t 12\t0.6882284879684448 \t 16\t0.6881383061408997 \t 13\t\n",
      "25 0.6881393194198608 \t 14\t0.6882745623588562 \t 13\t0.6881442666053772 \t 15\t\n",
      "26 0.6881917715072632 \t 19\t0.6881457567214966 \t 12\t0.6881398558616638 \t 21\t\n",
      "27 0.688187837600708 \t 12\t0.688200831413269 \t 13\t0.6881686449050903 \t 12\t\n",
      "28 0.6881139874458313 \t 13\t0.6881995797157288 \t 15\t0.6882666945457458 \t 15\t\n",
      "29 0.688212513923645 \t 34\t0.6881835460662842 \t 19\t0.6881425380706787 \t 11\t\n",
      "30 0.6881343722343445 \t 14\t0.688164472579956 \t 14\t0.6881906986236572 \t 15\t\n",
      "31 0.6881621479988098 \t 16\t0.6881420612335205 \t 15\t0.6881669759750366 \t 14\t\n",
      "32 0.688175618648529 \t 13\t0.6883100271224976 \t 14\t0.6881282329559326 \t 17\t\n",
      "33 0.6881175637245178 \t 13\t0.6882007718086243 \t 13\t0.6881095170974731 \t 12\t\n",
      "34 0.6881683468818665 \t 16\t0.6881741285324097 \t 11\t0.6881435513496399 \t 12\t\n",
      "35 0.6881873607635498 \t 12\t0.6881778836250305 \t 13\t0.6881698369979858 \t 13\t\n",
      "36 0.6881429553031921 \t 13\t0.6881924867630005 \t 12\t0.6881615519523621 \t 13\t\n",
      "37 0.6881374716758728 \t 13\t0.6881790161132812 \t 11\t0.6882118582725525 \t 16\t\n",
      "38 0.6881520748138428 \t 14\t0.6882240772247314 \t 17\t0.6881559491157532 \t 15\t\n",
      "39 0.6881284713745117 \t 14\t0.6881430745124817 \t 14\t0.6882561445236206 \t 12\t\n",
      "40 0.688139796257019 \t 22\t0.6882240772247314 \t 12\t0.6881406903266907 \t 14\t\n",
      "41 0.6881453394889832 \t 12\t0.6882146000862122 \t 12\t0.6881992220878601 \t 12\t\n",
      "42 0.688173234462738 \t 13\t0.6882797479629517 \t 17\t0.6881192326545715 \t 11\t\n",
      "43 0.6882252097129822 \t 22\t0.688160240650177 \t 15\t0.6882168650627136 \t 13\t\n",
      "44 0.6881402730941772 \t 13\t0.6881415247917175 \t 13\t0.6881277561187744 \t 13\t\n",
      "45 0.6881623864173889 \t 14\t0.6882033944129944 \t 14\t0.6882104873657227 \t 15\t\n",
      "46 0.6881448030471802 \t 12\t0.6881875991821289 \t 19\t0.6881692409515381 \t 11\t\n",
      "47 0.6881042718887329 \t 13\t0.6881930232048035 \t 13\t0.6881824731826782 \t 15\t\n",
      "48 0.6881329417228699 \t 13\t0.6881731152534485 \t 12\t0.688168466091156 \t 30\t\n",
      "49 0.6881449222564697 \t 14\t0.6882105469703674 \t 13\t0.6881462335586548 \t 11\t\n",
      "50 0.6881605982780457 \t 26\t0.6881551146507263 \t 37\t0.6881570219993591 \t 14\t\n",
      "51 0.6881498694419861 \t 12\t0.6881550550460815 \t 14\t0.6881736516952515 \t 14\t\n",
      "52 0.6881519556045532 \t 11\t0.6882258653640747 \t 24\t0.6882007122039795 \t 12\t\n",
      "53 0.6881849765777588 \t 37\t0.6882020235061646 \t 13\t0.6881381273269653 \t 12\t\n",
      "54 0.6881812214851379 \t 16\t0.688271164894104 \t 13\t0.6881417036056519 \t 11\t\n",
      "55 0.6881191730499268 \t 17\t0.6882117390632629 \t 20\t0.6882408261299133 \t 13\t\n",
      "56 0.6881861686706543 \t 14\t0.6883002519607544 \t 16\t0.6881707310676575 \t 12\t\n",
      "57 0.688146710395813 \t 17\t0.6881920099258423 \t 12\t0.6881760358810425 \t 22\t\n",
      "58 0.6881422400474548 \t 12\t0.6881285905838013 \t 16\t0.6881462335586548 \t 18\t\n",
      "59 0.6881183981895447 \t 13\t0.6882489919662476 \t 11\t0.688155472278595 \t 14\t\n",
      "60 0.6881498694419861 \t 42\t0.6881711483001709 \t 24\t0.6881311535835266 \t 11\t\n",
      "61 0.6882558465003967 \t 15\t0.6882138252258301 \t 12\t0.6882339715957642 \t 12\t\n",
      "62 0.6881633400917053 \t 12\t0.6882278919219971 \t 12\t0.6881901621818542 \t 13\t\n",
      "63 0.6881277561187744 \t 16\t0.6881269812583923 \t 13\t0.6881836652755737 \t 17\t\n",
      "64 0.6881945133209229 \t 11\t0.6882006525993347 \t 14\t0.6881510019302368 \t 12\t\n",
      "65 0.6881093978881836 \t 11\t0.6882354021072388 \t 33\t0.6881486177444458 \t 12\t\n",
      "66 0.6881699562072754 \t 12\t0.6882677674293518 \t 15\t0.688135027885437 \t 11\t\n",
      "67 0.6881574988365173 \t 15\t0.6881912350654602 \t 15\t0.6881541609764099 \t 14\t\n",
      "68 0.6881561875343323 \t 16\t0.6882492303848267 \t 14\t0.6881544589996338 \t 14\t\n",
      "69 0.6881847381591797 \t 12\t0.6881986260414124 \t 15\t0.68818199634552 \t 13\t\n",
      "70 0.6881780028343201 \t 14\t0.6882302761077881 \t 12\t0.6881406307220459 \t 11\t\n",
      "71 0.6881983280181885 \t 12\t0.688291609287262 \t 12\t0.6881659626960754 \t 16\t\n",
      "72 0.6881743669509888 \t 14\t0.6881481409072876 \t 18\t0.6881728768348694 \t 15\t\n",
      "73 0.6881579756736755 \t 22\t0.6881344318389893 \t 14\t0.6881771087646484 \t 11\t\n",
      "74 0.6881460547447205 \t 12\t0.6882444024085999 \t 13\t0.6881490349769592 \t 12\t\n",
      "75 0.6881364583969116 \t 13\t0.6881781220436096 \t 12\t0.6882182955741882 \t 13\t\n",
      "76 0.6881441473960876 \t 19\t0.6882227659225464 \t 20\t0.6881526708602905 \t 13\t\n",
      "77 0.6881558895111084 \t 20\t0.6881552338600159 \t 13\t0.6881874799728394 \t 12\t\n",
      "78 0.6881029009819031 \t 12\t0.6882427334785461 \t 12\t0.688154935836792 \t 25\t\n",
      "79 0.6882126331329346 \t 18\t0.6882383227348328 \t 12\t0.688136875629425 \t 16\t\n",
      "80 0.6881605386734009 \t 12\t0.6882058382034302 \t 13\t0.6881093978881836 \t 12\t\n",
      "81 0.688145101070404 \t 27\t0.6882847547531128 \t 13\t0.6881482601165771 \t 19\t\n",
      "82 0.6881247758865356 \t 14\t0.6882032155990601 \t 14\t0.6882091760635376 \t 11\t\n",
      "83 0.6881434321403503 \t 13\t0.6881833076477051 \t 19\t0.688186526298523 \t 12\t\n",
      "84 0.6881535053253174 \t 15\t0.688199520111084 \t 14\t0.688164472579956 \t 22\t\n",
      "85 0.6881532073020935 \t 13\t0.6881695985794067 \t 14\t0.688138484954834 \t 18\t\n",
      "86 0.6881847381591797 \t 18\t0.6881622076034546 \t 14\t0.6881455183029175 \t 14\t\n",
      "87 0.688244104385376 \t 14\t0.6881781816482544 \t 14\t0.6881327629089355 \t 12\t\n",
      "88 0.6881982684135437 \t 13\t0.6881764531135559 \t 15\t0.6882026195526123 \t 14\t\n",
      "89 0.6881693601608276 \t 13\t0.6881906390190125 \t 15\t0.6881282329559326 \t 22\t\n",
      "90 0.6881924867630005 \t 12\t0.6882220506668091 \t 14\t0.6881610155105591 \t 12\t\n",
      "91 0.688123881816864 \t 13\t0.6881338953971863 \t 12\t0.6881170272827148 \t 15\t\n",
      "92 0.6881682276725769 \t 26\t0.6882273554801941 \t 16\t0.6881319880485535 \t 28\t\n",
      "93 0.6882152557373047 \t 14\t0.6881241202354431 \t 12\t0.6881393194198608 \t 13\t\n",
      "94 0.6881648898124695 \t 14\t0.6882100701332092 \t 15\t0.6882345676422119 \t 22\t\n",
      "95 0.6881313920021057 \t 13\t0.6882972717285156 \t 12\t0.6881507039070129 \t 21\t\n",
      "96 0.6881393194198608 \t 19\t0.6881715655326843 \t 14\t0.6881762742996216 \t 12\t\n",
      "97 0.6882544159889221 \t 12\t0.688201904296875 \t 12\t0.6881338357925415 \t 25\t\n",
      "98 0.6881608963012695 \t 13\t0.6881940960884094 \t 19\t0.6881916522979736 \t 13\t\n",
      "99 0.688111424446106 \t 17\t0.6881735920906067 \t 13\t0.6882187724113464 \t 11\t\n"
     ]
    }
   ],
   "source": [
    "for i in range(reps):\n",
    "    print(i, end = ' ')\n",
    "    model_1, trace = train(data, **params_1)\n",
    "    model_2, trace = train(data, **params_2)\n",
    "    model_3, trace = train(data, **params_3)\n",
    "    print()\n",
    "    model_1.save_weights(filestr_1.format(i))\n",
    "    model_2.save_weights(filestr_2.format(i))\n",
    "    model_3.save_weights(filestr_3.format(i))"
   ]
  },
  {
   "cell_type": "code",
   "execution_count": 7,
   "metadata": {},
   "outputs": [],
   "source": [
    "# Get model likelihood ratios.\n",
    "lrs_1 = [None] * reps\n",
    "lrs_2 = [None] * reps\n",
    "lrs_3 = [None] * reps\n",
    "for i in range(reps):\n",
    "    model_1 = create_model(**params_1)\n",
    "    model_2 = create_model(**params_2)\n",
    "    model_3 = create_model(**params_3)\n",
    "    model_1.load_weights(filestr_1.format(i))\n",
    "    model_2.load_weights(filestr_2.format(i))\n",
    "    model_3.load_weights(filestr_3.format(i))\n",
    "    \n",
    "    lrs_1[i] = odds_lr(model_1, m, s)\n",
    "    lrs_2[i] = tanh_lr(model_2, m, s)\n",
    "    lrs_3[i] = atan_lr(model_3, m, s)"
   ]
  },
  {
   "cell_type": "code",
   "execution_count": 18,
   "metadata": {
    "tags": []
   },
   "outputs": [],
   "source": [
    "# Get average predictions and errors. Add on the labels for plotting.\n",
    "xs = np.linspace(-6, 6, 1201)\n",
    "\n",
    "lr_1 = avg_lr(get_preds(lrs_1, xs)) + ('Linear',)\n",
    "lr_2 = avg_lr(get_preds(lrs_2, xs)) + ('tanh',)\n",
    "lr_3 = avg_lr(get_preds(lrs_3, xs)) + ('arctan',)\n",
    "\n",
    "lrr_1 = avg_lrr(lr, get_preds(lrs_1, xs), xs) + ('Linear',)\n",
    "lrr_2 = avg_lrr(lr, get_preds(lrs_2, xs), xs) + ('tanh',)\n",
    "lrr_3 = avg_lrr(lr, get_preds(lrs_3, xs), xs) + ('arctan',)"
   ]
  },
  {
   "cell_type": "code",
   "execution_count": 22,
   "metadata": {},
   "outputs": [
    {
     "data": {
      "image/png": "[encoded data removed]",
      "text/plain": [
       "<Figure size 720x432 with 2 Axes>"
      ]
     },
     "metadata": {
      "needs_background": "light"
     },
     "output_type": "display_data"
    }
   ],
   "source": [
    "lr_plot([lr_1, lr_2, lr_3],\n",
    "        lr, \n",
    "        bkgd, sgnl,\n",
    "        xs = np.linspace(-6, 6, 1201),\n",
    "        title = r'BCE $C$ Parametrizations',\n",
    "        filename = 'plots/univariate/bce_c_param/set_{}/lrs.png'.format(num))"
   ]
  },
  {
   "cell_type": "code",
   "execution_count": 23,
   "metadata": {},
   "outputs": [
    {
     "data": {
      "image/png": "[encoded data removed]",
      "text/plain": [
       "<Figure size 720x432 with 2 Axes>"
      ]
     },
     "metadata": {
      "needs_background": "light"
     },
     "output_type": "display_data"
    }
   ],
   "source": [
    "lrr_plot([lrr_1, lrr_2, lrr_3], \n",
    "         lr,\n",
    "         bkgd, sgnl,\n",
    "         xs = np.linspace(-6, 6, 1201),\n",
    "         title = r'BCE $C$ Parametrizations',\n",
    "         filename = 'plots/univariate/bce_c_param/set_{}/lrrs.png'.format(num))"
   ]
  },
  {
   "cell_type": "markdown",
   "metadata": {
    "jp-MarkdownHeadingCollapsed": true,
    "tags": []
   },
   "source": [
    "# MSE $C$ Parametrizations"
   ]
  },
  {
   "cell_type": "code",
   "execution_count": 28,
   "metadata": {},
   "outputs": [],
   "source": [
    "# Experiment parameters\n",
    "num = 2\n",
    "reps = 100\n",
    "\n",
    "# Data generation\n",
    "N = 10**6\n",
    "bkgd = stats.norm(-0.1, 1)\n",
    "sgnl = stats.norm(0.1, 1)\n",
    "lr = make_lr(bkgd, sgnl)\n",
    "mae = make_mae(bkgd, sgnl)\n",
    "data, m, s = make_data(bkgd, sgnl, N)\n",
    "\n",
    "# Model parameters\n",
    "params_1 = {'loss':mse}\n",
    "params_2 = {'loss':tanh_mse, 'output': 'linear'}\n",
    "params_3 = {'loss':atan_mse, 'output': 'linear'}\n",
    "#params_2 = {'loss':square_mse, 'output':'linear'}\n",
    "#params_3 = {'loss':exp_mse, 'output':'linear'}\n",
    "\n",
    "filestr = 'models/univariate/mse_c_param/set_{}/'.format(num)\n",
    "filestr_1 = filestr + 'linear/model_{}.h5'\n",
    "filestr_2 = filestr + 'tanh/model_{}.h5'\n",
    "filestr_3 = filestr + 'atan/model_{}.h5'\n",
    "\n",
    "np.save(filestr + 'm.npy', m)\n",
    "np.save(filestr + 's.npy', s)"
   ]
  },
  {
   "cell_type": "code",
   "execution_count": 29,
   "metadata": {},
   "outputs": [
    {
     "name": "stdout",
     "output_type": "stream",
     "text": [
      "0 0.24751143157482147 \t 13\t0.2475416213274002 \t 12\t0.24751664698123932 \t 14\t\n",
      "1 0.24751880764961243 \t 14\t0.24754780530929565 \t 14\t0.24751609563827515 \t 13\t\n",
      "2 0.24751053750514984 \t 12\t0.24754315614700317 \t 14\t0.24751189351081848 \t 15\t\n",
      "3 0.24751514196395874 \t 14\t0.2475205957889557 \t 12\t0.24751946330070496 \t 14\t\n",
      "4 0.2475380301475525 \t 11\t0.24754905700683594 \t 14\t0.247537761926651 \t 17\t\n",
      "5 0.24756589531898499 \t 12\t0.24755355715751648 \t 12\t0.2475413680076599 \t 12\t\n",
      "6 0.24754421412944794 \t 14\t0.2475748509168625 \t 11\t0.2475252002477646 \t 14\t\n",
      "7 0.24752959609031677 \t 12\t0.2475251853466034 \t 12\t0.2475312054157257 \t 15\t\n",
      "8 0.24753925204277039 \t 14\t0.24753940105438232 \t 12\t0.24752093851566315 \t 12\t\n",
      "9 0.2475063055753708 \t 13\t0.24754023551940918 \t 12\t0.24752342700958252 \t 16\t\n",
      "10 0.2475472390651703 \t 14\t0.24751777946949005 \t 12\t0.24753136932849884 \t 14\t\n",
      "11 0.2475065290927887 \t 11\t0.24752898514270782 \t 13\t0.2475152164697647 \t 11\t\n",
      "12 0.24753455817699432 \t 13\t0.24751166999340057 \t 14\t0.2475191205739975 \t 17\t\n",
      "13 0.24754440784454346 \t 12\t0.24755559861660004 \t 12\t0.24753940105438232 \t 12\t\n",
      "14 0.24754390120506287 \t 16\t0.24753616750240326 \t 19\t0.24752037227153778 \t 14\t\n",
      "15 0.24753235280513763 \t 18\t0.24756038188934326 \t 14\t0.2475210279226303 \t 14\t\n",
      "16 0.24752435088157654 \t 12\t0.24755460023880005 \t 12\t0.24751423299312592 \t 12\t\n",
      "17 0.24752043187618256 \t 12\t0.24752789735794067 \t 18\t0.2475517988204956 \t 14\t\n",
      "18 0.2475234568119049 \t 15\t0.2475566565990448 \t 12\t0.24752268195152283 \t 15\t\n",
      "19 0.24754580855369568 \t 15\t0.2475167214870453 \t 11\t0.24755685031414032 \t 13\t\n",
      "20 0.24751678109169006 \t 12\t0.24753771722316742 \t 13\t0.24754548072814941 \t 14\t\n",
      "21 0.24751994013786316 \t 12\t0.247526615858078 \t 31\t0.2475532591342926 \t 14\t\n",
      "22 0.2475380003452301 \t 13\t0.24753990769386292 \t 12\t0.2475329339504242 \t 24\t\n",
      "23 0.24754512310028076 \t 14\t0.2475302517414093 \t 12\t0.24753224849700928 \t 12\t\n",
      "24 0.2475113868713379 \t 13\t0.2475140243768692 \t 12\t0.2475479394197464 \t 12\t\n",
      "25 0.24754725396633148 \t 14\t0.24752841889858246 \t 23\t0.2475188821554184 \t 13\t\n",
      "26 0.2475120723247528 \t 13\t0.24754802882671356 \t 14\t0.24751926958560944 \t 15\t\n",
      "27 0.24750171601772308 \t 13\t0.24752698838710785 \t 13\t0.2475149780511856 \t 15\t\n",
      "28 0.2475280612707138 \t 22\t0.2475430965423584 \t 11\t0.24752165377140045 \t 15\t\n",
      "29 0.24750541150569916 \t 14\t0.24758590757846832 \t 14\t0.247500941157341 \t 14\t\n",
      "30 0.24752920866012573 \t 12\t0.24758659303188324 \t 15\t0.2475113421678543 \t 12\t\n",
      "31 0.24750347435474396 \t 11\t0.24752822518348694 \t 13\t0.24751737713813782 \t 13\t\n",
      "32 0.24754424393177032 \t 12\t0.24753569066524506 \t 22\t0.2475447654724121 \t 11\t\n",
      "33 0.24751131236553192 \t 15\t0.24754628539085388 \t 12\t0.24752162396907806 \t 14\t\n",
      "34 0.24752821028232574 \t 13\t0.24751217663288116 \t 14\t0.2475794106721878 \t 13\t\n",
      "35 0.2475244402885437 \t 12\t0.24751776456832886 \t 12\t0.24750442802906036 \t 13\t\n",
      "36 0.24752703309059143 \t 16\t0.24754634499549866 \t 13\t0.24752268195152283 \t 14\t\n",
      "37 0.24753443896770477 \t 15\t0.24753732979297638 \t 13\t0.24755090475082397 \t 18\t\n",
      "38 0.24753662943840027 \t 13\t0.24752871692180634 \t 15\t0.24751399457454681 \t 13\t\n",
      "39 0.24752196669578552 \t 21\t0.24752235412597656 \t 12\t0.24755114316940308 \t 24\t\n",
      "40 0.24753372371196747 \t 12\t0.24751780927181244 \t 14\t0.2475263476371765 \t 12\t\n",
      "41 0.2475190907716751 \t 12\t0.24753056466579437 \t 13\t0.24756121635437012 \t 12\t\n",
      "42 0.2475404292345047 \t 24\t0.24753281474113464 \t 14\t0.2475854754447937 \t 12\t\n",
      "43 0.24752309918403625 \t 14\t0.24750778079032898 \t 13\t0.24755461513996124 \t 15\t\n",
      "44 0.24750672280788422 \t 14\t0.2475496232509613 \t 13\t0.24751247465610504 \t 12\t\n",
      "45 0.2475266009569168 \t 13\t0.24756057560443878 \t 14\t0.24751584231853485 \t 15\t\n",
      "46 0.24752378463745117 \t 14\t0.24753312766551971 \t 15\t0.24752022325992584 \t 15\t\n",
      "47 0.2475486546754837 \t 12\t0.24752171337604523 \t 12\t0.24752534925937653 \t 13\t\n",
      "48 0.2475336194038391 \t 17\t0.24756793677806854 \t 16\t0.24751293659210205 \t 15\t\n",
      "49 0.24751800298690796 \t 15\t0.24754135310649872 \t 12\t0.24752256274223328 \t 16\t\n",
      "50 0.2475235015153885 \t 16\t0.24752606451511383 \t 18\t0.24750655889511108 \t 15\t\n",
      "51 0.247530996799469 \t 14\t0.24755191802978516 \t 15\t0.24753905832767487 \t 13\t\n",
      "52 0.24753321707248688 \t 13\t0.24753151834011078 \t 19\t0.24750787019729614 \t 12\t\n",
      "53 0.24756142497062683 \t 31\t0.24753530323505402 \t 12\t0.24751634895801544 \t 15\t\n",
      "54 0.24750374257564545 \t 18\t0.24754050374031067 \t 12\t0.24752973020076752 \t 20\t\n",
      "55 0.24757003784179688 \t 13\t0.24751156568527222 \t 12\t0.24753272533416748 \t 13\t\n",
      "56 0.24750956892967224 \t 13\t0.2475476861000061 \t 16\t0.2475377470254898 \t 13\t\n",
      "57 0.24751028418540955 \t 14\t0.24756509065628052 \t 23\t0.2475479245185852 \t 14\t\n",
      "58 0.24753154814243317 \t 14\t0.24754047393798828 \t 26\t0.24751192331314087 \t 13\t\n",
      "59 0.24751999974250793 \t 12\t0.24755112826824188 \t 13\t0.24753069877624512 \t 13\t\n",
      "60 0.24750928580760956 \t 17\t0.24754248559474945 \t 11\t0.24752244353294373 \t 13\t\n",
      "61 0.2475174218416214 \t 12\t0.2475469410419464 \t 14\t0.24751406908035278 \t 13\t\n",
      "62 0.2475278079509735 \t 14\t0.2475397139787674 \t 13\t0.24753226339817047 \t 11\t\n",
      "63 0.247549369931221 \t 12\t0.24755728244781494 \t 16\t0.2475285828113556 \t 11\t\n",
      "64 0.247524693608284 \t 14\t0.2475278377532959 \t 12\t0.24753746390342712 \t 13\t\n",
      "65 0.24750088155269623 \t 11\t0.24752774834632874 \t 12\t0.2475460171699524 \t 11\t\n",
      "66 0.24752382934093475 \t 16\t0.24754540622234344 \t 13\t0.2475145012140274 \t 34\t\n",
      "67 0.247510626912117 \t 13\t0.24756571650505066 \t 12\t0.24752715229988098 \t 12\t\n",
      "68 0.2475602775812149 \t 14\t0.24756988883018494 \t 14\t0.24751465022563934 \t 22\t\n",
      "69 0.24753789603710175 \t 14\t0.24750648438930511 \t 11\t0.24750541150569916 \t 14\t\n",
      "70 0.24751317501068115 \t 13\t0.24754378199577332 \t 14\t0.2475159913301468 \t 12\t\n",
      "71 0.24752338230609894 \t 11\t0.2475218027830124 \t 14\t0.24752238392829895 \t 15\t\n",
      "72 0.2475614994764328 \t 16\t0.24758733808994293 \t 16\t0.2475225329399109 \t 18\t\n",
      "73 0.24753808975219727 \t 22\t0.24752841889858246 \t 13\t0.2475205361843109 \t 16\t\n",
      "74 0.2475106567144394 \t 12\t0.24755795300006866 \t 18\t0.24751733243465424 \t 12\t\n",
      "75 0.24752774834632874 \t 12\t0.24753065407276154 \t 17\t0.24752135574817657 \t 14\t\n",
      "76 0.24751713871955872 \t 12\t0.24754698574543 \t 13\t0.24755211174488068 \t 26\t\n",
      "77 0.24752457439899445 \t 13\t0.2475348711013794 \t 12\t0.24751189351081848 \t 13\t\n",
      "78 0.24752290546894073 \t 13\t0.2475593239068985 \t 14\t0.24750737845897675 \t 19\t\n",
      "79 0.24751423299312592 \t 14\t0.24752381443977356 \t 13\t0.24750742316246033 \t 12\t\n",
      "80 0.24751026928424835 \t 22\t0.2475748062133789 \t 14\t0.2475346475839615 \t 13\t\n",
      "81 0.2475372850894928 \t 14\t0.24754516780376434 \t 15\t0.24751724302768707 \t 13\t\n",
      "82 0.24754218757152557 \t 12\t0.24755419790744781 \t 14\t0.24755249917507172 \t 17\t\n",
      "83 0.24752430617809296 \t 31\t0.247552290558815 \t 13\t0.24753731489181519 \t 24\t\n",
      "84 0.24756015837192535 \t 13\t0.2475680559873581 \t 14\t0.2475205361843109 \t 12\t\n",
      "85 0.24752600491046906 \t 13\t0.24753893911838531 \t 12\t0.24754470586776733 \t 12\t\n",
      "86 0.2475353479385376 \t 13\t0.24752552807331085 \t 12\t0.247521311044693 \t 25\t\n",
      "87 0.24751092493534088 \t 12\t0.24752177298069 \t 25\t0.24750655889511108 \t 13\t\n",
      "88 0.24755403399467468 \t 13\t0.24753138422966003 \t 13\t0.24750211834907532 \t 13\t\n",
      "89 0.2475079447031021 \t 22\t0.24754072725772858 \t 15\t0.2475350797176361 \t 13\t\n",
      "90 0.24750934541225433 \t 11\t0.24756364524364471 \t 19\t0.24750924110412598 \t 14\t\n",
      "91 0.2475089728832245 \t 12\t0.24755510687828064 \t 13\t0.2475210577249527 \t 15\t\n",
      "92 0.24750299751758575 \t 14\t0.24754278361797333 \t 15\t0.24750840663909912 \t 16\t\n",
      "93 0.24753950536251068 \t 13\t0.24757003784179688 \t 13\t0.24751977622509003 \t 21\t\n",
      "94 0.24750444293022156 \t 14\t0.24755173921585083 \t 12\t0.24752706289291382 \t 13\t\n",
      "95 0.24749858677387238 \t 17\t0.24756081402301788 \t 12\t0.24752546846866608 \t 17\t\n",
      "96 0.24751317501068115 \t 13\t0.24752217531204224 \t 13\t0.24751774966716766 \t 14\t\n",
      "97 0.24751164019107819 \t 12\t0.24757198989391327 \t 11\t0.2475302815437317 \t 11\t\n",
      "98 0.2475338876247406 \t 12\t0.24753455817699432 \t 12\t0.24754008650779724 \t 13\t\n",
      "99 0.24753844738006592 \t 13\t0.24754434823989868 \t 12\t0.24752183258533478 \t 12\t\n"
     ]
    }
   ],
   "source": [
    "for i in range(reps):\n",
    "    print(i, end = ' ')\n",
    "    model_1, trace = train(data, **params_1)\n",
    "    model_2, trace = train(data, **params_2)\n",
    "    model_3, trace = train(data, **params_3)\n",
    "    print()\n",
    "    model_1.save_weights(filestr_1.format(i))\n",
    "    model_2.save_weights(filestr_2.format(i))\n",
    "    model_3.save_weights(filestr_3.format(i))"
   ]
  },
  {
   "cell_type": "code",
   "execution_count": 30,
   "metadata": {},
   "outputs": [],
   "source": [
    "# Get model likelihood ratios.\n",
    "lrs_1 = [None] * reps\n",
    "lrs_2 = [None] * reps\n",
    "lrs_3 = [None] * reps\n",
    "for i in range(reps):\n",
    "    model_1 = create_model(**params_1)\n",
    "    model_2 = create_model(**params_2)\n",
    "    model_3 = create_model(**params_3)\n",
    "    model_1.load_weights(filestr_1.format(i))\n",
    "    model_2.load_weights(filestr_2.format(i))\n",
    "    model_3.load_weights(filestr_3.format(i))\n",
    "    \n",
    "    lrs_1[i] = odds_lr(model_1, m, s)\n",
    "    lrs_2[i] = tanh_lr(model_2, m, s)\n",
    "    lrs_3[i] = atan_lr(model_3, m, s)"
   ]
  },
  {
   "cell_type": "code",
   "execution_count": 31,
   "metadata": {},
   "outputs": [],
   "source": [
    "# Get average predictions and errors. Add on the labels for plotting.\n",
    "xs = np.linspace(-6, 6, 1201)\n",
    "\n",
    "lr_1 = avg_lr(get_preds(lrs_1, xs)) + ('Linear',)\n",
    "lr_2 = avg_lr(get_preds(lrs_2, xs)) + ('tanh',)\n",
    "lr_3 = avg_lr(get_preds(lrs_3, xs)) + ('arctan',)\n",
    "\n",
    "lrr_1 = avg_lrr(lr, get_preds(lrs_1, xs), xs) + ('Linear',)\n",
    "lrr_2 = avg_lrr(lr, get_preds(lrs_2, xs), xs) + ('tanh',)\n",
    "lrr_3 = avg_lrr(lr, get_preds(lrs_3, xs), xs) + ('arctan',)"
   ]
  },
  {
   "cell_type": "code",
   "execution_count": 32,
   "metadata": {},
   "outputs": [
    {
     "data": {
      "image/png": "[encoded data removed]",
      "text/plain": [
       "<Figure size 720x432 with 2 Axes>"
      ]
     },
     "metadata": {
      "needs_background": "light"
     },
     "output_type": "display_data"
    }
   ],
   "source": [
    "lr_plot([lr_1, lr_2, lr_3], \n",
    "        lr,\n",
    "        bkgd, sgnl,\n",
    "        xs = xs,\n",
    "        title = r'MSE $C$ Parametrizations',\n",
    "        filename='plots/univariate/mse_c_param/set_{}/lrs.png'.format(num))"
   ]
  },
  {
   "cell_type": "code",
   "execution_count": 33,
   "metadata": {},
   "outputs": [
    {
     "data": {
      "image/png": "[encoded data removed]",
      "text/plain": [
       "<Figure size 720x432 with 2 Axes>"
      ]
     },
     "metadata": {
      "needs_background": "light"
     },
     "output_type": "display_data"
    }
   ],
   "source": [
    "lrr_plot([lrr_1, lrr_2, lrr_3], \n",
    "         lr,\n",
    "         bkgd, sgnl,\n",
    "         xs = xs,\n",
    "         title = r'MSE $C$ Parametrizations',\n",
    "         filename='plots/univariate/mse_c_param/set_{}/lrrs.png'.format(num))"
   ]
  },
  {
   "cell_type": "markdown",
   "metadata": {
    "jp-MarkdownHeadingCollapsed": true,
    "tags": []
   },
   "source": [
    "# MSE $A/B$ Parametrization"
   ]
  },
  {
   "cell_type": "code",
   "execution_count": null,
   "metadata": {},
   "outputs": [],
   "source": [
    "num = 0\n",
    "reps = 20\n",
    "\n",
    "ps = np.round(np.linspace(-4, 4, 161), 2)\n",
    "filestr = 'models/mse_ab_param/set_' + str(num) + '/model_{}_{}.h5'"
   ]
  },
  {
   "cell_type": "code",
   "execution_count": null,
   "metadata": {},
   "outputs": [],
   "source": [
    "# Train models\n",
    "for p in ps:\n",
    "    print('===================================================\\n{}'.format(p))\n",
    "    params = {'loss': get_mse(p)}\n",
    "    for i in range(reps):\n",
    "        print(i, end = ' ')\n",
    "        model = train(**params)\n",
    "        print()\n",
    "        model.save_weights(filestr.format(p, i))"
   ]
  },
  {
   "cell_type": "code",
   "execution_count": null,
   "metadata": {},
   "outputs": [],
   "source": [
    "# Get model likelihood ratios.\n",
    "lrs = {}\n",
    "for p in ps:\n",
    "    print(p)\n",
    "    lrs[p] = [None] * reps\n",
    "    params = {'loss': get_mse(p)}\n",
    "    for i in range(reps):\n",
    "        model = create_model(**params)\n",
    "        model.load_weights(filestr.format(p, i))\n",
    "        lrs[p][i] = pow_odds_lr(model, p) #### FIX THIS\n",
    "        print(i, end = ' ')\n",
    "    print()"
   ]
  },
  {
   "cell_type": "code",
   "execution_count": null,
   "metadata": {},
   "outputs": [],
   "source": [
    "mae_avg = []\n",
    "mae_err = []\n",
    "\n",
    "for p in ps:\n",
    "    maes = [mae(lr) for lr in lrs[p]]\n",
    "    mae_avg += [np.mean(maes)]\n",
    "    mae_err += [np.std(maes)]\n",
    "    print(p, '\\t', mae_avg[-1])"
   ]
  },
  {
   "cell_type": "code",
   "execution_count": null,
   "metadata": {},
   "outputs": [],
   "source": [
    "mae_avg = np.array(mae_avg)\n",
    "mae_err = np.array(mae_err)"
   ]
  },
  {
   "cell_type": "code",
   "execution_count": null,
   "metadata": {},
   "outputs": [],
   "source": [
    "fig, ax = plt.subplots(figsize = (10, 6))\n",
    "\n",
    "plt.plot(ps, mae_avg, c='blue')\n",
    "\n",
    "plt.minorticks_on()\n",
    "plt.tick_params(direction='in', which='both',length=5)\n",
    "plt.ylim(0, 0.5)\n",
    "\n",
    "plt.ylabel('Mean Absolute Error')\n",
    "plt.xlabel(r'$p$')\n",
    "\n",
    "plt.title(r\"$\\mu_{\\rm{sgnl}}=\"+str(mu)+r\", \\mu_{\\rm{bkgd}}=\"+str(-mu)+r\"$\",\n",
    "          loc=\"right\",\n",
    "          fontsize=20);\n",
    "plt.title(r\"MSE $A/B$ Parametrization\",loc=\"left\",fontsize=20);\n",
    "plt.savefig('plots/mse_ab_param/set_{}/maes.png'.format(num), \n",
    "            dpi=1200, \n",
    "            bbox_inches='tight')"
   ]
  },
  {
   "cell_type": "markdown",
   "metadata": {
    "tags": []
   },
   "source": [
    "# MLC $C$ Parametrizations"
   ]
  },
  {
   "cell_type": "code",
   "execution_count": 19,
   "metadata": {},
   "outputs": [],
   "source": [
    "# Experiment parameters\n",
    "num = 6\n",
    "reps = 100\n",
    "\n",
    "# Data generation\n",
    "N = 10**6\n",
    "bkgd = stats.norm(-0.1, 1)\n",
    "sgnl = stats.norm(0.1, 1)\n",
    "lr = make_lr(bkgd, sgnl)\n",
    "mae = make_mae(bkgd, sgnl)\n",
    "data, m, s = make_data(bkgd, sgnl, N)\n",
    "\n",
    "X = np.concatenate([bkgd.rvs(size = N), sgnl.rvs(size = N)])\n",
    "y = np.concatenate([np.zeros(N), np.ones(N)])\n",
    "data = train_test_split(X, y)\n",
    "\n",
    "# Model parameters\n",
    "params_1 = {'loss':mlc, 'output': 'relu'}\n",
    "params_2 = {'loss':square_mlc, 'output': 'linear'}\n",
    "params_3 = {'loss':exp_mlc, 'output': 'linear'}\n",
    "\n",
    "filestr = 'models/univariate/mlc_c_param/set_{}/'.format(num)\n",
    "filestr_1 = filestr + 'linear/model_{}.h5'\n",
    "filestr_2 = filestr + 'square/model_{}.h5'\n",
    "filestr_3 = filestr + 'exponl/model_{}.h5'\n",
    "\n",
    "#np.save(filestr + 'm.npy', m)\n",
    "#np.save(filestr + 's.npy', s)"
   ]
  },
  {
   "cell_type": "code",
   "execution_count": 20,
   "metadata": {},
   "outputs": [
    {
     "name": "stdout",
     "output_type": "stream",
     "text": [
      "0 -0.009888814762234688 \t 66\t-0.009717391803860664 \t 44\t-0.009775116108357906 \t 12\t\n",
      "1 -0.009874234907329082 \t 53\t-0.00889529287815094 \t 24\t-0.009882877580821514 \t 22\t\n",
      "2 -0.009774874895811081 \t 31\t-0.0044032735750079155 \t 100\t-0.009811005555093288 \t 14\t\n",
      "3 -0.009950170293450356 \t 70\t-0.009764726273715496 \t 51\t-0.009924937039613724 \t 14\t\n",
      "4 -0.009777639992535114 \t 34\t-0.00964395236223936 \t 75\t-0.009839744307100773 \t 14\t\n",
      "5 -0.009930859319865704 \t 69\t-0.009533846750855446 \t 36\t-0.00976563710719347 \t 14\t\n",
      "6 -0.00984017550945282 \t 42\t-0.00941725168377161 \t 61\t-0.009763107635080814 \t 14\t\n",
      "7 -0.009807152673602104 \t 37\t-0.009673839434981346 \t 43\t-0.009712493047118187 \t 12\t\n",
      "8 -0.009734314866364002 \t 54\t-0.004524914547801018 \t 100\t-0.009861204773187637 \t 19\t\n",
      "9 -0.009674214757978916 \t 60\t-0.009625671431422234 \t 61\t-0.009887159802019596 \t 13\t\n",
      "10 -0.009933959692716599 \t 59\t-0.009599418379366398 \t 36\t-0.009912468492984772 \t 13\t\n",
      "11 -0.009753254242241383 \t 48\t-0.009684144519269466 \t 47\t-0.009740435518324375 \t 11\t\n",
      "12 -0.009861781261861324 \t 66\t-0.009535427205264568 \t 33\t-0.00978581141680479 \t 17\t\n",
      "13 -0.009897461161017418 \t 44\t-0.009411568753421307 \t 48\t-0.009846226312220097 \t 12\t\n",
      "14 -0.00977732241153717 \t 41\t-0.00919264554977417 \t 51\t-0.009871476329863071 \t 13\t\n",
      "15 -0.00957093108445406 \t 33\t-0.009418485686182976 \t 25\t-0.009858808480203152 \t 12\t\n",
      "16 -0.009844050742685795 \t 38\t-0.009718191809952259 \t 36\t-0.009837285615503788 \t 12\t\n",
      "17 -0.009879357181489468 \t 73\t-0.009843595325946808 \t 71\t-0.009874998591840267 \t 12\t\n",
      "18 -0.009872883558273315 \t 56\t-0.00982353650033474 \t 83\t-0.009901931509375572 \t 13\t\n",
      "19 -0.009698932990431786 \t 74\t-0.009507262147963047 \t 40\t-0.009708654135465622 \t 13\t\n",
      "20 -0.009700420312583447 \t 43\t-0.009494554251432419 \t 64\t-0.009850837290287018 \t 14\t\n",
      "21 -0.009785635396838188 \t 43\t-0.009805699810385704 \t 48\t-0.009879072196781635 \t 15\t\n",
      "22 -0.009721391834318638 \t 32\t-0.009417008608579636 \t 29\t-0.009862015955150127 \t 20\t\n",
      "23 -0.009829728864133358 \t 51\t-0.009854785166680813 \t 54\t-0.009829062037169933 \t 17\t\n",
      "24 -0.009740735404193401 \t 54\t-0.002448316663503647 \t 96\t-0.009901609271764755 \t 17\t\n",
      "25 -0.009933304972946644 \t 67\t-0.00972310733050108 \t 46\t-0.009942778386175632 \t 12\t\n",
      "26 -0.009786485694348812 \t 51\t-0.001248702290467918 \t 64\t-0.009832817129790783 \t 14\t\n",
      "27 -0.009846337139606476 \t 73\t0.0012558315647765994 \t 97\t-0.003735616570338607 \t 100\t-0.009824440814554691 \t 13\t\n",
      "28 -0.009805986657738686 \t 27\t-0.009655381552875042 \t 34\t-0.009867888875305653 \t 14\t\n",
      "29 -0.009609131142497063 \t 50\t-0.009567040018737316 \t 31\t-0.009873532690107822 \t 12\t\n",
      "30 -0.009805607609450817 \t 41\t-0.009564967826008797 \t 65\t-0.009712668135762215 \t 12\t\n",
      "31 -0.009861156344413757 \t 45\t-0.008874189108610153 \t 31\t-0.009738505817949772 \t 25\t\n",
      "32 -0.009689130820333958 \t 42\t-0.00980402808636427 \t 50\t-0.009616438299417496 \t 14\t\n",
      "33 -0.00987205095589161 \t 38\t-0.009635050781071186 \t 42\t-0.009949099272489548 \t 14\t\n",
      "34 -0.009791203774511814 \t 66\t-0.0013086399994790554 \t 92\t-0.009851108305156231 \t 11\t\n",
      "35 -0.00989194493740797 \t 42\t-0.009826540015637875 \t 84\t-0.009883210062980652 \t 13\t\n",
      "36 -0.00994288083165884 \t 48\t-0.004227414261549711 \t 100\t-0.009749569930136204 \t 18\t\n",
      "37 -0.009684048593044281 \t 45\t-0.009706798940896988 \t 47\t-0.009860556572675705 \t 12\t\n",
      "38 -0.009797056205570698 \t 54\t-0.0023905779235064983 \t 100\t-0.009602152742445469 \t 14\t\n",
      "39 -0.009572391398251057 \t 43\t-0.009832912124693394 \t 47\t-0.009698907844722271 \t 15\t\n",
      "40 -0.009905077517032623 \t 64\t-0.009214924648404121 \t 36\t-0.00984994601458311 \t 12\t\n",
      "41 -0.009918027557432652 \t 59\t-0.009623114950954914 \t 40\t-0.00979570858180523 \t 21\t\n",
      "42 -0.009702907875180244 \t 37\t-0.00428999587893486 \t 100\t-0.00993377435952425 \t 16\t\n",
      "43 -0.009833557531237602 \t 51\t-0.009838729165494442 \t 58\t-0.00980740413069725 \t 13\t\n",
      "44 -0.009853254072368145 \t 63\t-0.009371235966682434 \t 31\t-0.009880008175969124 \t 25\t\n",
      "45 -0.009769617579877377 \t 55\t-0.003049525897949934 \t 95\t-0.009718614630401134 \t 22\t\n",
      "46 -0.009725818410515785 \t 47\t-0.009871093556284904 \t 59\t-0.009890043176710606 \t 23\t\n",
      "47 -0.009908017702400684 \t 70\t-0.009669536724686623 \t 46\t-0.009827535599470139 \t 14\t\n",
      "48 -0.009686400182545185 \t 35\t-0.002564748516306281 \t 83\t-0.009936222806572914 \t 14\t\n",
      "49 -0.009919548407196999 \t 68\t-0.009257040917873383 \t 28\t-0.00986532587558031 \t 20\t\n",
      "50 -0.009546772576868534 \t 37\t-0.00969059206545353 \t 63\t-0.009909980930387974 \t 12\t\n",
      "51 -0.009615850634872913 \t 32\t-0.00959378108382225 \t 26\t-0.009861993603408337 \t 12\t\n",
      "52 -0.009830501861870289 \t 54\t-0.009598969481885433 \t 64\t-0.00979137234389782 \t 16\t\n",
      "53 -0.009616604074835777 \t 33\t-0.00988348014652729 \t 57\t-0.00989939272403717 \t 13\t\n",
      "54 -0.009556343778967857 \t 39\t-0.0032613358926028013 \t 100\t-0.009912604466080666 \t 12\t\n",
      "55 -0.009877330623567104 \t 36\t-0.009533947333693504 \t 38\t-0.009828725829720497 \t 11\t\n",
      "56 -0.009741556830704212 \t 56\t-0.009319718927145004 \t 41\t-0.009819903410971165 \t 12\t\n",
      "57 -0.009771732613444328 \t 44\t-0.004677338059991598 \t 100\t-0.009870445355772972 \t 19\t\n",
      "58 -0.00980766024440527 \t 47\t-0.009745106101036072 \t 49\t-0.00969699863344431 \t 12\t\n",
      "59 -0.009693647734820843 \t 43\t-0.0037335704546421766 \t 100\t-0.009882651269435883 \t 24\t\n",
      "60 -0.009898350574076176 \t 71\t-0.009024463593959808 \t 29\t-0.009903822094202042 \t 21\t\n",
      "61 -0.009856118820607662 \t 51\t-0.00403361301869154 \t 98\t-0.009762713685631752 \t 12\t\n",
      "62 -0.009865188039839268 \t 42\t-0.009579789824783802 \t 32\t-0.009835721924901009 \t 13\t\n",
      "63 -0.00978781096637249 \t 55\t-0.009298074059188366 \t 33\t-0.009828466922044754 \t 13\t\n",
      "64 -0.009903816506266594 \t 75\t-0.009318371303379536 \t 50\t-0.009923291392624378 \t 15\t\n",
      "65 -0.0096965366974473 \t 31\t-0.009411025792360306 \t 37\t-0.00978565588593483 \t 13\t\n",
      "66 -0.009751281701028347 \t 37\t-0.009794088080525398 \t 87\t-0.009802906773984432 \t 14\t\n",
      "67 -0.009605510160326958 \t 46\t-0.009505072608590126 \t 69\t-0.009795315563678741 \t 13\t\n",
      "68 -0.009777245111763477 \t 37\t-0.009277771227061749 \t 35\t-0.00983903743326664 \t 16\t\n",
      "69 -0.00987490639090538 \t 59\t-0.00971063319593668 \t 43\t-0.009846934117376804 \t 12\t\n",
      "70 -0.009691772051155567 \t 30\t-0.009837486781179905 \t 59\t-0.009792953729629517 \t 12\t\n",
      "71 -0.009852089919149876 \t 49\t-0.0020398811902850866 \t 77\t-0.009794782847166061 \t 14\t\n",
      "72 -0.009753228165209293 \t 40\t-0.00959114357829094 \t 31\t-0.009936507791280746 \t 13\t\n",
      "73 -0.009725560434162617 \t 38\t-0.009680980816483498 \t 51\t-0.00988178513944149 \t 13\t\n",
      "74 -0.00954707432538271 \t 35\t-0.009339150972664356 \t 39\t-0.00977381318807602 \t 12\t\n",
      "75 -0.009687782265245914 \t 39\t-0.009652924723923206 \t 42\t-0.009869142435491085 \t 12\t\n",
      "76 -0.009810437448322773 \t 46\t-0.009405778720974922 \t 35\t-0.009867584332823753 \t 12\t\n",
      "77 -0.009833038784563541 \t 76\t-0.009804349392652512 \t 49\t-0.009897276759147644 \t 13\t\n",
      "78 -0.009800516068935394 \t 83\t-0.009427886456251144 \t 51\t-0.009756015613675117 \t 12\t\n",
      "79 -0.009756903164088726 \t 64\t-0.009324255399405956 \t 40\t-0.009850635193288326 \t 14\t\n",
      "80 -0.009807489812374115 \t 41\t-0.003938313107937574 \t 100\t-0.009798595681786537 \t 14\t\n",
      "81 -0.009725339710712433 \t 48\t-0.0021306402049958706 \t 90\t-0.009805068373680115 \t 20\t\n",
      "82 -0.00988670065999031 \t 44\t-0.009568280540406704 \t 50\t-0.009762611240148544 \t 29\t\n",
      "83 -0.009900062344968319 \t 54\t-0.005088345613330603 \t 100\t-0.00970422476530075 \t 14\t\n",
      "84 -0.009764740243554115 \t 38\t-0.009449496865272522 \t 33\t-0.009824782609939575 \t 12\t\n",
      "85 -0.009830408729612827 \t 48\t-0.009846717119216919 \t 40\t-0.009782791137695312 \t 16\t\n",
      "86 -0.009885677136480808 \t 58\t-0.009639214724302292 \t 34\t-0.009936214424669743 \t 12\t\n",
      "87 -0.009846224449574947 \t 64\t-0.003501766361296177 \t 100\t-0.009802032262086868 \t 12\t\n",
      "88 -0.009857567958533764 \t 39\t-0.0039797015488147736 \t 100\t-0.009738000109791756 \t 13\t\n",
      "89 -0.009706711396574974 \t 56\t-0.009471687488257885 \t 45\t-0.009789695031940937 \t 14\t\n",
      "90 -0.009808053262531757 \t 35\t-0.009678198955953121 \t 63\t-0.0098949009552598 \t 12\t\n",
      "91 -0.009778530336916447 \t 41\t-0.00970580242574215 \t 26\t-0.009837070479989052 \t 14\t\n",
      "92 -0.009579886682331562 \t 63\t-0.009687954559922218 \t 37\t-0.009740437380969524 \t 12\t\n",
      "93 -0.009888358414173126 \t 62\t-0.0035924909170717 \t 100\t-0.009874732233583927 \t 14\t\n",
      "94 -0.009773552417755127 \t 58\t-0.009472234174609184 \t 45\t-0.009830627590417862 \t 15\t\n",
      "95 -0.009762146510183811 \t 40\t-0.009538681246340275 \t 35\t-0.009788530878722668 \t 12\t\n",
      "96 -0.009847092442214489 \t 37\t-0.009721541777253151 \t 71\t-0.009777318686246872 \t 12\t\n",
      "97 -0.009680600836873055 \t 52\t-0.00964923296123743 \t 53\t-0.009744805283844471 \t 18\t\n",
      "98 -0.00985926017165184 \t 37\t-0.00392165407538414 \t 100\t-0.009868871420621872 \t 13\t\n",
      "99 -0.009850265458226204 \t 40\t-0.009321324527263641 \t 33\t-0.009783919900655746 \t 13\t\n"
     ]
    }
   ],
   "source": [
    "for i in range(reps):\n",
    "    print(i, end = ' ')\n",
    "    model_1, trace = train(data, **params_1)\n",
    "    \n",
    "    model_2, trace = train(data, **params_2)\n",
    "    while trace.history['val_loss'][-1] > 0:\n",
    "        model_2, trace = train(data, **params_2)\n",
    "    \n",
    "    model_3, trace = train(data, **params_3)\n",
    "    print()\n",
    "    model_1.save_weights(filestr_1.format(i))\n",
    "    model_2.save_weights(filestr_2.format(i))\n",
    "    model_3.save_weights(filestr_3.format(i))"
   ]
  },
  {
   "cell_type": "code",
   "execution_count": 21,
   "metadata": {},
   "outputs": [],
   "source": [
    "lrs_1 = [None] * reps\n",
    "lrs_2 = [None] * reps\n",
    "lrs_3 = [None] * reps\n",
    "\n",
    "for i in range(reps):\n",
    "    model_1 = create_model(**params_1)\n",
    "    model_2 = create_model(**params_2)\n",
    "    model_3 = create_model(**params_3)\n",
    "    \n",
    "    model_1.load_weights(filestr_1.format(i))\n",
    "    model_2.load_weights(filestr_2.format(i))\n",
    "    model_3.load_weights(filestr_3.format(i))\n",
    "    \n",
    "    lrs_1[i] = pure_lr(model_1)\n",
    "    lrs_2[i] = square_lr(model_2)\n",
    "    lrs_3[i] = exp_lr(model_3)"
   ]
  },
  {
   "cell_type": "code",
   "execution_count": 22,
   "metadata": {},
   "outputs": [],
   "source": [
    "# Calculate predictions\n",
    "xs = np.linspace(-6, 6, 1201)\n",
    "preds_1 = get_preds(lrs_1, xs)\n",
    "preds_2 = get_preds(lrs_2, xs)\n",
    "preds_3 = get_preds(lrs_3, xs)"
   ]
  },
  {
   "cell_type": "code",
   "execution_count": 23,
   "metadata": {},
   "outputs": [],
   "source": [
    "lr_1 = avg_lr(preds_1)\n",
    "lr_2 = avg_lr(preds_2)\n",
    "lr_3 = avg_lr(preds_3)\n",
    "\n",
    "lrr_1 = avg_lrr(lr, preds_1, xs)\n",
    "lrr_2 = avg_lrr(lr, preds_2, xs)\n",
    "lrr_3 = avg_lrr(lr, preds_3, xs)"
   ]
  },
  {
   "cell_type": "code",
   "execution_count": 24,
   "metadata": {},
   "outputs": [],
   "source": [
    "h = 10"
   ]
  },
  {
   "cell_type": "code",
   "execution_count": 25,
   "metadata": {},
   "outputs": [
    {
     "data": {
      "image/png": "[encoded data removed]",
      "text/plain": [
       "<Figure size 720x720 with 3 Axes>"
      ]
     },
     "metadata": {
      "needs_background": "light"
     },
     "output_type": "display_data"
    }
   ],
   "source": [
    "fig, axs = plt.subplots(2, 1,\n",
    "                        figsize = (h, h),\n",
    "                        sharex = True, \n",
    "                        gridspec_kw = {'height_ratios': [2, 1]})\n",
    "\n",
    "# Plot likelihood ratios\n",
    "axs[0].plot(xs, lr(xs), c = 'k', label = 'Exact')\n",
    "axs[0].plot(xs, lr_1, c = 'brown', ls = ':', label = r'$\\text{ReLU}(z)$')\n",
    "axs[0].plot(xs, lr_2, c = 'green', ls = ':', label = r'$z^2$')\n",
    "axs[0].plot(xs, lr_3, c = 'red', ls = '-.', label = r'$\\exp{z}$')\n",
    "axs[0].set_xlim(-6, 6)\n",
    "axs[0].set_ylim(0, 4)\n",
    "axs[0].legend()\n",
    "axs[0].minorticks_on()\n",
    "axs[0].tick_params(which = 'minor', length = 3)\n",
    "axs[0].tick_params(which = 'major', length = 5)\n",
    "axs[0].tick_params(which = 'both', direction='in')\n",
    "axs[0].set_ylabel('Likelihood Ratio')\n",
    "axs[0].set_title(r'\\it $C$ Parametrization', loc = 'right')\n",
    "\n",
    "# Plot exact histograms\n",
    "hist_ax = axs[0].twinx()\n",
    "bins = np.linspace(-6.05, 6.05, 122)\n",
    "weights = bkgd.cdf(bins)[1:] - bkgd.cdf(bins[:-1])\n",
    "plt.hist(bins[:-1], bins = bins, weights = weights, alpha = 0.1)\n",
    "weights = sgnl.cdf(bins)[1:] - sgnl.cdf(bins[:-1])\n",
    "plt.hist(bins[:-1], bins = bins, weights = weights, alpha = 0.1);\n",
    "hist_ax.set_yticks([]);\n",
    "\n",
    "# Plot likelihood ratio ratios\n",
    "axs[1].plot(xs, lrr_1, c = 'brown', ls = ':')\n",
    "axs[1].plot(xs, lrr_2, c = 'green', ls = '--')\n",
    "axs[1].plot(xs, lrr_3, c = 'red', ls = '-.')\n",
    "axs[1].axhline(1, ls=\":\", color=\"grey\", lw=0.5)\n",
    "axs[1].axvline(0, ls=\":\", color=\"grey\", lw=0.5)\n",
    "axs[1].set_ylim(0.95, 1.05);\n",
    "axs[1].minorticks_on()\n",
    "axs[1].tick_params(which = 'minor', length = 3)\n",
    "axs[1].tick_params(which = 'major', length = 5)\n",
    "axs[1].tick_params(which = 'both', direction='in')\n",
    "axs[1].set_ylabel('Ratio')\n",
    "\n",
    "plt.subplots_adjust(hspace = 0.1)\n",
    "\n",
    "plt.savefig('plots/paper/mlc_c_{}.png'.format(num), \n",
    "            dpi = 300,\n",
    "            transparent = True,\n",
    "            bbox_inches = 'tight')"
   ]
  },
  {
   "cell_type": "markdown",
   "metadata": {
    "tags": []
   },
   "source": [
    "# SQR $C$ Parametrizations"
   ]
  },
  {
   "cell_type": "code",
   "execution_count": 43,
   "metadata": {},
   "outputs": [],
   "source": [
    "# Experiment parameters\n",
    "num = 5\n",
    "reps = 100\n",
    "\n",
    "# Data generation\n",
    "N = 10**6\n",
    "bkgd = stats.norm(-0.1, 1)\n",
    "sgnl = stats.norm(0.1, 1)\n",
    "lr = make_lr(bkgd, sgnl)\n",
    "mae = make_mae(bkgd, sgnl)\n",
    "data, m, s = make_data(bkgd, sgnl, N)\n",
    "\n",
    "# Model parameters\n",
    "params_1 = {'loss':sqr, 'output': 'relu'}\n",
    "params_2 = {'loss':square_sqr, 'output': 'linear'}\n",
    "params_3 = {'loss':exp_sqr, 'output': 'linear'}\n",
    "\n",
    "filestr = 'models/univariate/sqr_c_param/set_{}/'.format(num)\n",
    "filestr_1 = filestr + 'linear/model_{}.h5'\n",
    "filestr_2 = filestr + 'square/model_{}.h5'\n",
    "filestr_3 = filestr + 'exponl/model_{}.h5'\n",
    "\n",
    "np.save(filestr + 'm.npy', m)\n",
    "np.save(filestr + 's.npy', s)"
   ]
  },
  {
   "cell_type": "code",
   "execution_count": 44,
   "metadata": {},
   "outputs": [
    {
     "name": "stdout",
     "output_type": "stream",
     "text": [
      "0 0.995205283164978 \t 100\t1.0027775764465332 \t 100\t0.9951352477073669 \t 17\t\n",
      "1 0.9953994750976562 \t 100\t0.9964641332626343 \t 100\t0.9951597452163696 \t 12\t\n",
      "2 0.9951880574226379 \t 65\t0.9956147074699402 \t 73\t0.9950900673866272 \t 14\t\n",
      "3 0.995219886302948 \t 72\t23.717317581176758 \t 19\t0.995746374130249 \t 100\t0.9951984882354736 \t 14\t\n",
      "4 0.9951714277267456 \t 76\t0.995482861995697 \t 100\t0.995174765586853 \t 30\t\n",
      "5 0.9951367378234863 \t 93\t0.9961528778076172 \t 100\t0.9951390027999878 \t 12\t\n",
      "6 0.9953324794769287 \t 100\t2.2864303588867188 \t 48\t0.9966872334480286 \t 73\t0.9951265454292297 \t 14\t\n",
      "7 0.9952139258384705 \t 90\t1.2552282810211182 \t 100\t1.1712208986282349 \t 100\t3.3314449787139893 \t 23\t1.697927713394165 \t 100\t7.702603816986084 \t 27\t2.6674070358276367 \t 35\t20.814285278320312 \t 17\t1.2243753671646118 \t 100\t1.2426507472991943 \t 100\t1.0638858079910278 \t 100\t0.9951640963554382 \t 14\t\n",
      "8 0.9963746666908264 \t 79\t0.9972648620605469 \t 100\t0.9950994253158569 \t 16\t\n",
      "9 0.997147262096405 \t 32\t1.2648119926452637 \t 100\t0.999131977558136 \t 100\t0.9951236844062805 \t 13\t\n",
      "10 0.9951975345611572 \t 49\t2.5699658393859863 \t 26\t1.5962728261947632 \t 100\t0.9954614639282227 \t 84\t0.9951769113540649 \t 12\t\n",
      "11 0.9951678514480591 \t 44\t14.614947319030762 \t 22\t2.5439505577087402 \t 26\t1.428439736366272 \t 100\t15.57284927368164 \t 19\t3.042637586593628 \t 48\t1.0311449766159058 \t 100\t0.9951790571212769 \t 13\t\n",
      "12 0.9951743483543396 \t 100\t0.9994139671325684 \t 100\t0.9951479434967041 \t 13\t\n",
      "13 0.9951878786087036 \t 67\t0.9969481229782104 \t 100\t0.9950804710388184 \t 14\t\n",
      "14 0.9951444864273071 \t 46\t1.0106159448623657 \t 100\t0.9951103925704956 \t 12\t\n",
      "15 0.9954478740692139 \t 82\t0.9965729713439941 \t 100\t0.9951493740081787 \t 19\t\n",
      "16 0.9952600002288818 \t 84\t0.9955055117607117 \t 100\t0.9950726628303528 \t 15\t\n",
      "17 0.9951242208480835 \t 59\t39.00910186767578 \t 26\t0.9990652203559875 \t 100\t0.9950932264328003 \t 40\t\n",
      "18 0.9952210783958435 \t 94\t0.9957584142684937 \t 100\t0.9951517581939697 \t 15\t\n",
      "19 0.995223879814148 \t 100\t2.2809057235717773 \t 100\t0.9972923398017883 \t 100\t0.9950979948043823 \t 13\t\n",
      "20 0.9951402544975281 \t 100\t1.0990718603134155 \t 100\t0.9951016306877136 \t 13\t\n",
      "21 0.9951010346412659 \t 100\t1.0009011030197144 \t 98\t0.9951793551445007 \t 23\t\n",
      "22 0.9952883720397949 \t 100\t0.9959775805473328 \t 83\t0.9951209425926208 \t 14\t\n",
      "23 0.99521803855896 \t 78\t1.3548049926757812 \t 100\t0.9977993965148926 \t 100\t0.995123565196991 \t 12\t\n",
      "24 0.9952424764633179 \t 92\t1.1167398691177368 \t 76\t0.9954788684844971 \t 100\t0.9950728416442871 \t 13\t\n",
      "25 0.9952870011329651 \t 100\t1.0104130506515503 \t 100\t0.9951106309890747 \t 13\t\n",
      "26 0.9952845573425293 \t 100\t0.9955611824989319 \t 100\t0.995085597038269 \t 13\t\n",
      "27 0.9952653646469116 \t 69\t1.0123111009597778 \t 100\t0.9951223134994507 \t 23\t\n",
      "28 0.9951373934745789 \t 76\t1.0271728038787842 \t 100\t0.9951269030570984 \t 16\t\n",
      "29 0.9952145218849182 \t 100\t1.0109198093414307 \t 100\t0.9951171278953552 \t 15\t\n",
      "30 0.995293140411377 \t 66\t2.2395968437194824 \t 100\t1.046600103378296 \t 100\t0.9950929880142212 \t 11\t\n",
      "31 0.9952206611633301 \t 84\t0.9987599849700928 \t 100\t0.995079755783081 \t 12\t\n",
      "32 0.9953006505966187 \t 52\t1.3593194484710693 \t 100\t4.6461100578308105 \t 21\t1.007804036140442 \t 100\t0.9951189756393433 \t 15\t\n",
      "33 0.9952158331871033 \t 58\t0.9956072568893433 \t 100\t0.9950904250144958 \t 12\t\n",
      "34 0.9951796531677246 \t 100\t11.726351737976074 \t 32\t1.0088119506835938 \t 100\t0.9951725006103516 \t 14\t\n",
      "35 0.9952191114425659 \t 75\t0.9998534321784973 \t 100\t0.9951401948928833 \t 13\t\n",
      "36 0.9951540231704712 \t 82\t1.0862147808074951 \t 100\t0.9951276779174805 \t 14\t\n",
      "37 0.9951359629631042 \t 81\t0.9964374303817749 \t 100\t0.9951522350311279 \t 12\t\n",
      "38 0.9952055811882019 \t 60\t2.8566997051239014 \t 47\t1.0894322395324707 \t 100\t0.9950918555259705 \t 21\t\n",
      "39 0.9951625466346741 \t 74\t0.9992343783378601 \t 100\t0.9951336979866028 \t 23\t\n",
      "40 0.9951449036598206 \t 100\t160.17979431152344 \t 47\t2.1908106803894043 \t 50\t1.3193353414535522 \t 40\t1.0070337057113647 \t 100\t0.9951626062393188 \t 17\t\n",
      "41 0.9952095746994019 \t 76\t0.996396541595459 \t 100\t0.9951052069664001 \t 12\t\n",
      "42 0.9952947497367859 \t 100\t1.2018406391143799 \t 100\t0.9989237785339355 \t 100\t0.99513179063797 \t 14\t\n",
      "43 0.9952736496925354 \t 70\t1.0067970752716064 \t 100\t0.995116114616394 \t 19\t\n",
      "44 0.9951843619346619 \t 100\t2.9765334129333496 \t 95\t0.996164858341217 \t 100\t0.9951018691062927 \t 12\t\n",
      "45 0.995294988155365 \t 78\t3.5587730407714844 \t 21\t1.8057572841644287 \t 40\t1.0031808614730835 \t 100\t0.9951229095458984 \t 16\t\n",
      "46 0.9951291084289551 \t 90\t1.4320495128631592 \t 100\t1.0018820762634277 \t 100\t0.9950801134109497 \t 12\t\n",
      "47 0.9951768517494202 \t 100\t1.157250165939331 \t 100\t1.0025511980056763 \t 100\t0.995154857635498 \t 12\t\n",
      "48 0.995150089263916 \t 81\t1.052035927772522 \t 100\t0.9951878190040588 \t 21\t\n",
      "49 0.9951155185699463 \t 79\t0.9957597851753235 \t 90\t0.9950729608535767 \t 13\t\n",
      "50 0.9954456090927124 \t 55\t0.9963562488555908 \t 100\t0.9951207041740417 \t 12\t\n",
      "51 0.9951304197311401 \t 71\t1.0062075853347778 \t 100\t0.9950832724571228 \t 11\t\n",
      "52 0.9953025579452515 \t 100\t1.0107685327529907 \t 100\t0.9951189756393433 \t 12\t\n",
      "53 0.9951258897781372 \t 58\t0.9977103471755981 \t 100\t0.9950710535049438 \t 26\t\n",
      "54 0.9955168962478638 \t 87\t1.3212209939956665 \t 100\t10.327717781066895 \t 21\t1.1980208158493042 \t 100\t1.005475640296936 \t 100\t0.9951173067092896 \t 14\t\n",
      "55 0.9952853918075562 \t 100\t8.270261764526367 \t 38\t1.1350595951080322 \t 100\t0.9975516200065613 \t 100\t0.9950780272483826 \t 13\t\n",
      "56 0.9952056407928467 \t 53\t4.634216785430908 \t 30\t1.3291524648666382 \t 100\t0.995781421661377 \t 100\t0.9950814843177795 \t 15\t\n",
      "57 0.9952548742294312 \t 63\t0.9983052611351013 \t 72\t0.9951394200325012 \t 21\t\n",
      "58 0.9951508045196533 \t 79\t6.132966995239258 \t 27\t1.0079517364501953 \t 100\t0.9951460957527161 \t 12\t\n",
      "59 0.9951500296592712 \t 100\t1.2362726926803589 \t 100\t1.004624366760254 \t 96\t0.995092511177063 \t 12\t\n",
      "60 0.9951893091201782 \t 100\t1.1144605875015259 \t 100\t9.628801345825195 \t 24\t1.0312238931655884 \t 100\t0.9951298236846924 \t 14\t\n",
      "61 0.9952044486999512 \t 69\t1.1278440952301025 \t 100\t11.165708541870117 \t 21\t2.461409330368042 \t 100\t0.9954218864440918 \t 100\t0.9951215982437134 \t 15\t\n",
      "62 0.9951464533805847 \t 88\t1.374809741973877 \t 48\t1.2260090112686157 \t 100\t1.3135178089141846 \t 100\t3.0093958377838135 \t 31\t2.88320255279541 \t 20\t2.3244504928588867 \t 57\t4.816555976867676 \t 41\t0.9957164525985718 \t 100\t0.9950874447822571 \t 14\t\n",
      "63 0.9952186346054077 \t 100\t1.0071303844451904 \t 100\t0.9951391816139221 \t 12\t\n",
      "64 0.9959021806716919 \t 100\t1.0023070573806763 \t 100\t0.9950839877128601 \t 15\t\n",
      "65 0.9952139854431152 \t 100\t0.9962285161018372 \t 100\t0.9951294660568237 \t 13\t\n",
      "66 0.995138943195343 \t 93\t1.1325510740280151 \t 100\t0.9953249096870422 \t 86\t0.9950864911079407 \t 26\t\n",
      "67 0.9951632022857666 \t 100\t0.9969990253448486 \t 100\t0.9951561689376831 \t 12\t\n",
      "68 0.9954097867012024 \t 61\t1.4253439903259277 \t 100\t0.9984891414642334 \t 100\t0.9951613545417786 \t 12\t\n",
      "69 0.9951589703559875 \t 38\t67.1986083984375 \t 12\t0.9952565431594849 \t 100\t0.9951202273368835 \t 12\t\n",
      "70 0.9951982498168945 \t 98\t1.1558341979980469 \t 100\t3.758584499359131 \t 19\t0.9956997036933899 \t 100\t0.9951626062393188 \t 15\t\n",
      "71 0.9951578378677368 \t 67\t1.4358662366867065 \t 100\t8.195304870605469 \t 24\t0.9960771203041077 \t 100\t0.9951013922691345 \t 14\t\n",
      "72 0.9951275587081909 \t 45\t0.9959244728088379 \t 100\t0.9951351284980774 \t 12\t\n",
      "73 0.995185136795044 \t 100\t0.9986098408699036 \t 100\t0.9951621294021606 \t 13\t\n",
      "74 0.9952855110168457 \t 100\t0.9957802295684814 \t 100\t0.9950875043869019 \t 19\t\n",
      "75 0.9953276515007019 \t 100\t1.0000303983688354 \t 100\t0.9951801300048828 \t 14\t\n",
      "76 0.9952359795570374 \t 80\t0.9959837794303894 \t 100\t0.9951571226119995 \t 12\t\n",
      "77 0.9954723715782166 \t 100\t0.9958887696266174 \t 100\t0.9951076507568359 \t 13\t\n",
      "78 0.9953004717826843 \t 100\t1.0097142457962036 \t 100\t0.9951271414756775 \t 11\t\n",
      "79 0.9951383471488953 \t 99\t0.9955135583877563 \t 97\t0.9951616525650024 \t 24\t\n",
      "80 0.9952486157417297 \t 96\t3.003394603729248 \t 42\t0.9957035183906555 \t 81\t0.9951053261756897 \t 15\t\n",
      "81 0.9960302710533142 \t 100\t3.7016563415527344 \t 70\t1.002333641052246 \t 100\t0.995135486125946 \t 12\t\n",
      "82 0.9957141280174255 \t 100\t1.0055280923843384 \t 100\t0.9951298236846924 \t 12\t\n",
      "83 0.9952258467674255 \t 87\t1.229575753211975 \t 100\t0.9995613098144531 \t 100\t0.9950889348983765 \t 13\t\n",
      "84 0.9951781034469604 \t 86\t0.995797872543335 \t 100\t0.9951369762420654 \t 17\t\n",
      "85 0.9952482581138611 \t 84\t1.1370253562927246 \t 100\t0.9983795285224915 \t 100\t0.9950939416885376 \t 11\t\n",
      "86 0.9952536225318909 \t 100\t1.0010229349136353 \t 100\t0.9952402710914612 \t 14\t\n",
      "87 0.9962583780288696 \t 100\t1.0288320779800415 \t 100\t0.9951252937316895 \t 14\t\n",
      "88 0.9951353073120117 \t 80\t1.0244675874710083 \t 75\t0.9951329231262207 \t 13\t\n",
      "89 0.995155394077301 \t 60\t0.9988163709640503 \t 100\t0.9951245784759521 \t 28\t\n",
      "90 0.9951326251029968 \t 89\t2.5257186889648438 \t 21\t0.9956318140029907 \t 100\t0.9950894117355347 \t 30\t\n",
      "91 0.9951775074005127 \t 91\t1.2276580333709717 \t 90\t1.005732536315918 \t 98\t0.995089054107666 \t 16\t\n",
      "92 0.9953014254570007 \t 60\t1.0010263919830322 \t 100\t0.9951116442680359 \t 15\t\n",
      "93 0.9952238202095032 \t 81\t8.654520034790039 \t 23\t1.1540361642837524 \t 100\t0.9963198900222778 \t 100\t0.9951106905937195 \t 21\t\n",
      "94 0.9952506422996521 \t 79\t1.242748498916626 \t 100\t1.1199989318847656 \t 100\t0.9973776936531067 \t 100\t0.9951690435409546 \t 20\t\n",
      "95 0.99542236328125 \t 88\t0.9954319596290588 \t 100\t0.9951158761978149 \t 12\t\n",
      "96 0.9953071475028992 \t 64\t0.9998550415039062 \t 100\t0.995226263999939 \t 12\t\n",
      "97 0.9952378869056702 \t 100\t1.0364453792572021 \t 100\t0.9950858950614929 \t 17\t\n",
      "98 0.9951351284980774 \t 70\t0.9981639981269836 \t 100\t0.9951670169830322 \t 15\t\n",
      "99 0.9951893091201782 \t 75\t1.0606025457382202 \t 53\t0.9951573610305786 \t 11\t\n"
     ]
    }
   ],
   "source": [
    "for i in range(reps):\n",
    "    print(i, end = ' ')\n",
    "    model_1, trace = train(data, **params_1)\n",
    "    \n",
    "    model_2, trace = train(data, **params_2)\n",
    "    while (trace.history['val_loss'][-1] > 1.1):\n",
    "        model_2, trace = train(data, **params_2)\n",
    "           \n",
    "    model_3, trace = train(data, **params_3)\n",
    "    print()\n",
    "    model_1.save_weights(filestr_1.format(i))\n",
    "    model_2.save_weights(filestr_2.format(i))\n",
    "    model_3.save_weights(filestr_3.format(i))"
   ]
  },
  {
   "cell_type": "markdown",
   "metadata": {
    "jp-MarkdownHeadingCollapsed": true,
    "tags": []
   },
   "source": [
    "# SQR $A$/$B$ Parametrizations"
   ]
  },
  {
   "cell_type": "code",
   "execution_count": null,
   "metadata": {},
   "outputs": [],
   "source": [
    "num = 3\n",
    "reps = 20\n",
    "\n",
    "ps = np.round(np.linspace(-2, 2, 81), 2)\n",
    "sqr_filestr = 'models/sqr_ab_param/set_' + str(num) + '/linear/model_{}_{}.h5'\n",
    "exp_filestr = 'models/sqr_ab_param/set_' + str(num) + '/exp/model_{}_{}.h5'"
   ]
  },
  {
   "cell_type": "code",
   "execution_count": null,
   "metadata": {},
   "outputs": [],
   "source": [
    "# Train models\n",
    "for p in ps:\n",
    "    print('===================================================\\n{}'.format(p))\n",
    "    sqr_params = {'loss': get_sqr(p), 'output':'relu'}\n",
    "    exp_params = {'loss': get_exp_sqr(p), 'output':'linear'}\n",
    "    for i in range(reps):\n",
    "        print(i, end = ' ')\n",
    "        sqr_model = train(**sqr_params)\n",
    "        exp_model = train(**exp_params)\n",
    "        print()\n",
    "        sqr_model.save_weights(sqr_filestr.format(p, i))\n",
    "        exp_model.save_weights(exp_filestr.format(p, i))"
   ]
  },
  {
   "cell_type": "code",
   "execution_count": null,
   "metadata": {
    "scrolled": true,
    "tags": []
   },
   "outputs": [],
   "source": [
    "# Get model likelihood ratios.\n",
    "sqr_lrs = {}\n",
    "exp_lrs = {}\n",
    "for p in ps:\n",
    "    print(p)\n",
    "    sqr_lrs[p] = [None] * reps\n",
    "    exp_lrs[p] = [None] * reps\n",
    "    sqr_params = {'loss': get_sqr(p), 'output':'relu'}\n",
    "    exp_params = {'loss': get_exp_sqr(p), 'output':'linear'}\n",
    "    for i in range(reps):\n",
    "        sqr_model = create_model(**sqr_params)\n",
    "        exp_model = create_model(**exp_params)\n",
    "        sqr_model.load_weights(sqr_filestr.format(p, i))\n",
    "        exp_model.load_weights(exp_filestr.format(p, i))\n",
    "        sqr_lrs[p][i] = pow_lr(sqr_model, p)\n",
    "        exp_lrs[p][i] = exp_pow_lr(exp_model, p)\n",
    "        print(i, end = ' ')\n",
    "    print()"
   ]
  },
  {
   "cell_type": "code",
   "execution_count": null,
   "metadata": {
    "scrolled": true,
    "tags": []
   },
   "outputs": [],
   "source": [
    "sqr_mae_avg = []\n",
    "sqr_mae_err = []\n",
    "exp_mae_avg = []\n",
    "exp_mae_err = []\n",
    "\n",
    "for p in ps:\n",
    "    sqr_maes = [mae(lr) for lr in sqr_lrs[p]]\n",
    "    exp_maes = [mae(lr) for lr in exp_lrs[p]]\n",
    "    sqr_mae_avg += [np.mean(sqr_maes)]\n",
    "    sqr_mae_err += [np.std(sqr_maes)]\n",
    "    exp_mae_avg += [np.mean(exp_maes)]\n",
    "    exp_mae_err += [np.std(exp_maes)]\n",
    "    print(p, '\\t', sqr_mae_avg[-1], '\\t', exp_mae_avg[-1])\n",
    "    print(p, '\\t', sqr_mae_avg[-1])"
   ]
  },
  {
   "cell_type": "code",
   "execution_count": null,
   "metadata": {},
   "outputs": [],
   "source": [
    "sqr_mae_avg = np.array(sqr_mae_avg)\n",
    "sqr_mae_err = np.array(sqr_mae_err)\n",
    "exp_mae_avg = np.array(exp_mae_avg)\n",
    "exp_mae_err = np.array(exp_mae_err)"
   ]
  },
  {
   "cell_type": "code",
   "execution_count": null,
   "metadata": {
    "tags": []
   },
   "outputs": [],
   "source": [
    "fig, ax = plt.subplots(figsize = (10, 6))\n",
    "\n",
    "plt.plot(ps, sqr_mae_avg, c='blue', label='linear')\n",
    "plt.plot(ps, exp_mae_avg, c='red', label='exponential')\n",
    "plt.legend()\n",
    "\n",
    "plt.minorticks_on()\n",
    "plt.tick_params(direction='in', which='both',length=5)\n",
    "plt.ylabel('Mean Absolute Error')\n",
    "plt.xlabel(r'$p$')\n",
    "\n",
    "plt.title(r\"$\\mu_{\\rm{sgnl}}=\"+str(mu)+r\", \\mu_{\\rm{bkgd}}=\"+str(-mu)+r\"$\",\n",
    "          loc=\"right\",\n",
    "          fontsize=20);\n",
    "plt.title(r\"SQR $A/B$ Parametrization\",loc=\"left\",fontsize=20);\n",
    "plt.savefig('plots/sqr_ab_param/set_{}/maes.png'.format(num), \n",
    "            dpi=1200, \n",
    "            bbox_inches='tight')"
   ]
  },
  {
   "cell_type": "markdown",
   "metadata": {
    "jp-MarkdownHeadingCollapsed": true,
    "tags": []
   },
   "source": [
    "# Loss Comparisons"
   ]
  },
  {
   "cell_type": "code",
   "execution_count": null,
   "metadata": {},
   "outputs": [],
   "source": [
    "num = 3\n",
    "reps = 100\n",
    "Ns = 10**np.arange(2, 8)\n",
    "\n",
    "# Model parameters\n",
    "bce_params = {'loss':bce}\n",
    "mse_params = {'loss':mse}\n",
    "mlc_params = {'loss':mlc, 'output':'linear'}\n",
    "sqr_params = {'loss':sqr, 'output':'linear'}\n",
    "\n",
    "filestr = 'models/loss_comp/set_{}/'.format(num)\n",
    "bce_filestr = filestr + 'bce/model_{}_{}.h5'\n",
    "mse_filestr = filestr + 'mse/model_{}_{}.h5'\n",
    "mlc_filestr = filestr + 'mlc/model_{}_{}.h5'\n",
    "sqr_filestr = filestr + 'sqr/model_{}_{}.h5'"
   ]
  },
  {
   "cell_type": "code",
   "execution_count": null,
   "metadata": {
    "scrolled": true,
    "tags": []
   },
   "outputs": [],
   "source": [
    "for N in Ns:\n",
    "    print('===================================================\\n{}'.format(N))\n",
    "    # Generate data\n",
    "    bkgd = stats.norm(-0.1, 1, N)\n",
    "    sgnl = stats.norm(+0.1, 1, N)\n",
    "    data, m, s = make_data(bkgd, sgnl, N)\n",
    "    np.save(filestr + 'm_{}.npy'.format(N), m)\n",
    "    np.save(filestr + 's_{}.npy'.format(N), s)\n",
    "    \n",
    "    for i in range(reps):\n",
    "        print(i, end = ' ')\n",
    "        bce_model = train(data, **bce_params)\n",
    "        mse_model = train(data, **mse_params)\n",
    "        mlc_model = train(data, **mlc_params)\n",
    "        sqr_model = train(data, **sqr_params)\n",
    "        print()\n",
    "        bce_model.save_weights(bce_filestr.format(N, i))\n",
    "        mse_model.save_weights(mse_filestr.format(N, i))\n",
    "        mlc_model.save_weights(mlc_filestr.format(N, i))\n",
    "        sqr_model.save_weights(sqr_filestr.format(N, i))"
   ]
  },
  {
   "cell_type": "markdown",
   "metadata": {
    "tags": []
   },
   "source": [
    "## Mean Absolute Error"
   ]
  },
  {
   "cell_type": "code",
   "execution_count": null,
   "metadata": {},
   "outputs": [],
   "source": [
    "# Calculate mean absolute errors\n",
    "bce_mae_avg = []\n",
    "mse_mae_avg = []\n",
    "mlc_mae_avg = []\n",
    "sqr_mae_avg = []\n",
    "\n",
    "for N in Ns:\n",
    "    print(N)\n",
    "    m = np.load(filestr + 'm_{}.npy'.format(N))\n",
    "    s = np.load(filestr + 's_{}.npy'.format(N))\n",
    "    bce_lrs = [None] * reps\n",
    "    mse_lrs = [None] * reps\n",
    "    mlc_lrs = [None] * reps\n",
    "    sqr_lrs = [None] * reps\n",
    "    for i in range(reps):\n",
    "        bce_model = create_model(**bce_params)\n",
    "        bce_model.load_weights(bce_filestr.format(N, i))\n",
    "        bce_lrs[i] = odds_lr(bce_model, m, s)\n",
    "\n",
    "        mse_model = create_model(**mse_params)\n",
    "        mse_model.load_weights(mse_filestr.format(N, i))\n",
    "        mse_lrs[i] = odds_lr(mse_model, m, s)\n",
    "\n",
    "        mlc_model = create_model(**mlc_params)\n",
    "        mlc_model.load_weights(mlc_filestr.format(N, i))\n",
    "        mlc_lrs[i] = exp_lr(mlc_model, m, s)\n",
    "\n",
    "        sqr_model = create_model(**sqr_params)\n",
    "        sqr_model.load_weights(sqr_filestr.format(N, i))\n",
    "        sqr_lrs[i] = exp_lr(sqr_model, m, s)\n",
    "    \n",
    "    bce_maes = [mae(lr) for lr in bce_lrs]\n",
    "    mse_maes = [mae(lr) for lr in mse_lrs]\n",
    "    mlc_maes = [mae(lr) for lr in mlc_lrs]\n",
    "    sqr_maes = [mae(lr) for lr in sqr_lrs]\n",
    "    \n",
    "    bce_mae_avg += [np.mean(bce_maes)]\n",
    "    mse_mae_avg += [np.mean(mse_maes)]\n",
    "    mlc_mae_avg += [np.mean(mlc_maes)]\n",
    "    sqr_mae_avg += [np.mean(sqr_maes)]\n",
    "\n",
    "bce_mae_avg = np.array(bce_mae_avg)\n",
    "mse_mae_avg = np.array(mse_mae_avg)\n",
    "mlc_mae_avg = np.array(mlc_mae_avg)\n",
    "sqr_mae_avg = np.array(sqr_mae_avg)"
   ]
  },
  {
   "cell_type": "code",
   "execution_count": null,
   "metadata": {},
   "outputs": [],
   "source": [
    "fig, ax = plt.subplots(figsize = (10, 6))\n",
    "\n",
    "plt.plot(Ns, bce_mae_avg, c='brown', ls=':', label='BCE')\n",
    "plt.plot(Ns, mse_mae_avg, c='green', ls='--', label='MSE')\n",
    "plt.plot(Ns, mlc_mae_avg, c='red', ls='--', label='MLC')\n",
    "plt.plot(Ns, sqr_mae_avg, c='blue', ls='-.', label='SQR')\n",
    "#plt.fill_between(Ns, bce_mae_avg - bce_mae_err, bce_mae_avg + bce_mae_err, color='brown', alpha=0.1)\n",
    "#plt.fill_between(Ns, mse_mae_avg - mse_mae_err, mse_mae_avg + mse_mae_err, color='green', alpha=0.1)\n",
    "#plt.fill_between(Ns, mlc_mae_avg - mlc_mae_err, mlc_mae_avg + mlc_mae_err, color='red', alpha=0.1)\n",
    "#plt.fill_between(Ns, sqr_mae_avg - sqr_mae_err, sqr_mae_avg + sqr_mae_err, color='blue', alpha=0.1)\n",
    "plt.legend()\n",
    "\n",
    "plt.xscale(\"log\", base=10)\n",
    "plt.minorticks_on()\n",
    "plt.tick_params(direction='in', which='both',length=5)\n",
    "plt.ylabel('Mean Absolute Error')\n",
    "plt.xlabel(r'$N$')\n",
    "\n",
    "plt.title(r\"$\\mu_{\\rm{sgnl}}=\"+str(mu)+r\", \\mu_{\\rm{bkgd}}=\"+str(-mu)+r\"$\",\n",
    "          loc=\"right\",\n",
    "          fontsize=20);\n",
    "plt.savefig('plots/loss_comp/set_{}/maes.png'.format(num),\n",
    "            dpi=1200, \n",
    "            bbox_inches='tight')"
   ]
  },
  {
   "cell_type": "markdown",
   "metadata": {
    "jp-MarkdownHeadingCollapsed": true,
    "tags": []
   },
   "source": [
    "## Likelihood Ratios"
   ]
  },
  {
   "cell_type": "code",
   "execution_count": null,
   "metadata": {},
   "outputs": [],
   "source": [
    "N = 10**6\n",
    "reps = 100"
   ]
  },
  {
   "cell_type": "code",
   "execution_count": null,
   "metadata": {},
   "outputs": [],
   "source": [
    "# Load in models.\n",
    "bce_lrs = [None] * reps\n",
    "mse_lrs = [None] * reps\n",
    "mlc_lrs = [None] * reps\n",
    "sqr_lrs = [None] * reps\n",
    "for i in range(reps):\n",
    "    bce_model = create_model(**bce_params)\n",
    "    bce_model.load_weights(bce_filestr.format(N, i))\n",
    "    bce_lrs[i] = odds_lr(bce_model)\n",
    "    \n",
    "    mse_model = create_model(**mse_params)\n",
    "    mse_model.load_weights(mse_filestr.format(N, i))\n",
    "    mse_lrs[i] = odds_lr(mse_model)\n",
    "    \n",
    "    mlc_model = create_model(**mlc_params)\n",
    "    mlc_model.load_weights(mlc_filestr.format(N, i))\n",
    "    mlc_lrs[i] = exp_lr(mlc_model)\n",
    "    \n",
    "    sqr_model = create_model(**sqr_params)\n",
    "    sqr_model.load_weights(sqr_filestr.format(N, i))\n",
    "    sqr_lrs[i] = exp_lr(sqr_model)"
   ]
  },
  {
   "cell_type": "code",
   "execution_count": null,
   "metadata": {},
   "outputs": [],
   "source": [
    "bce_lr = avg_lr(get_preds(bce_lrs)) + ('BCE',)\n",
    "mse_lr = avg_lr(get_preds(mse_lrs)) + ('MSE',)\n",
    "mlc_lr = avg_lr(get_preds(mlc_lrs)) + ('MLC',)\n",
    "sqr_lr = avg_lr(get_preds(sqr_lrs)) + ('SQR',)\n",
    "\n",
    "bce_lrr = avg_lrr(get_preds(bce_lrs)) + ('BCE',)\n",
    "mse_lrr = avg_lrr(get_preds(mse_lrs)) + ('MSE',)\n",
    "mlc_lrr = avg_lrr(get_preds(mlc_lrs)) + ('MLC',)\n",
    "sqr_lrr = avg_lrr(get_preds(sqr_lrs)) + ('SQR',)"
   ]
  },
  {
   "cell_type": "code",
   "execution_count": null,
   "metadata": {},
   "outputs": [],
   "source": [
    "lr_plot([bce_lr, mse_lr, mlc_lr, sqr_lr], \n",
    "        filename='plots/loss_comp/set_{}/lrs.png'.format(num))"
   ]
  },
  {
   "cell_type": "code",
   "execution_count": null,
   "metadata": {
    "tags": []
   },
   "outputs": [],
   "source": [
    "lrr_plot([bce_lrr, mse_lrr, mlc_lrr, sqr_lrr], \n",
    "         filename='plots/loss_comp/set_{}/lrrs.png'.format(num))"
   ]
  },
  {
   "cell_type": "code",
   "execution_count": null,
   "metadata": {},
   "outputs": [],
   "source": [
    "bce_mae = np.mean([mae(lr) for lr in bce_lrs])\n",
    "mse_mae = np.mean([mae(lr) for lr in mse_lrs])\n",
    "mlc_mae = np.mean([mae(lr) for lr in mlc_lrs])\n",
    "sqr_mae = np.mean([mae(lr) for lr in sqr_lrs])"
   ]
  },
  {
   "cell_type": "code",
   "execution_count": null,
   "metadata": {},
   "outputs": [],
   "source": [
    "print(bce_mae, mse_mae, mlc_mae, sqr_mae)"
   ]
  },
  {
   "cell_type": "markdown",
   "metadata": {
    "jp-MarkdownHeadingCollapsed": true,
    "tags": []
   },
   "source": [
    "# Interpolation Test"
   ]
  },
  {
   "cell_type": "code",
   "execution_count": null,
   "metadata": {},
   "outputs": [],
   "source": [
    "num = 5\n",
    "N = 10**6\n",
    "mus = np.round(np.linspace(0.1, 1.5, 15), 2)\n",
    "sigma = 1\n",
    "\n",
    "reps = 50\n",
    "\n",
    "# Model parameters\n",
    "bce_params = {'loss':bce, 'verbose':0}\n",
    "mse_params = {'loss':mse, 'verbose':0}\n",
    "mlc_params = {'loss':exp_mlc, 'output':'linear', 'verbose':0}\n",
    "sqr_params = {'loss':exp_sqr, 'output':'linear', 'verbose':0}\n",
    "\n",
    "bce_filestr = 'models/interp/set_' + str(num) + '/bce/model_{}_{}.h5'\n",
    "mse_filestr = 'models/interp/set_' + str(num) + '/mse/model_{}_{}.h5'\n",
    "mlc_filestr = 'models/interp/set_' + str(num) + '/mlc/model_{}_{}.h5'\n",
    "sqr_filestr = 'models/interp/set_' + str(num) + '/sqr/model_{}_{}.h5'"
   ]
  },
  {
   "cell_type": "code",
   "execution_count": null,
   "metadata": {
    "scrolled": true,
    "tags": []
   },
   "outputs": [],
   "source": [
    "%%time\n",
    "\n",
    "for mu in mus:\n",
    "    print('===================================================\\n{}'.format(mu))\n",
    "    # Generate data\n",
    "    bkgd = np.random.normal(-mu, sigma, N)\n",
    "    sgnl = np.random.normal(mu, sigma, N)\n",
    "    X = np.concatenate([bkgd, sgnl])\n",
    "    y = np.concatenate([np.zeros(N), np.ones(N)])\n",
    "    \n",
    "    X_train, X_test, y_train, y_test = train_test_split(X, y)\n",
    "    \n",
    "    for i in range(reps):\n",
    "        print(i, end = ' ')\n",
    "        bce_model = train(**bce_params)\n",
    "        mse_model = train(**mse_params)\n",
    "        mlc_model = train(**mlc_params)\n",
    "        sqr_model = train(**sqr_params)\n",
    "        print()\n",
    "        bce_model.save_weights(bce_filestr.format(mu, i))\n",
    "        mse_model.save_weights(mse_filestr.format(mu, i))\n",
    "        mlc_model.save_weights(mlc_filestr.format(mu, i))\n",
    "        sqr_model.save_weights(sqr_filestr.format(mu, i))"
   ]
  },
  {
   "cell_type": "markdown",
   "metadata": {
    "jp-MarkdownHeadingCollapsed": true,
    "tags": []
   },
   "source": [
    "## Expected Error"
   ]
  },
  {
   "cell_type": "code",
   "execution_count": null,
   "metadata": {},
   "outputs": [],
   "source": [
    "# Calculate mean absolute errors\n",
    "bce_mae_avg = []\n",
    "mse_mae_avg = []\n",
    "mlc_mae_avg = []\n",
    "sqr_mae_avg = []\n",
    "\n",
    "bce_mae_err = []\n",
    "mse_mae_err = []\n",
    "mlc_mae_err = []\n",
    "sqr_mae_err = []\n",
    "\n",
    "bce_mpe_avg = []\n",
    "mse_mpe_avg = []\n",
    "mlc_mpe_avg = []\n",
    "sqr_mpe_avg = []\n",
    "\n",
    "bce_mpe_err = []\n",
    "mse_mpe_err = []\n",
    "mlc_mpe_err = []\n",
    "sqr_mpe_err = []\n",
    "\n",
    "for mu in mus:\n",
    "    print(mu)\n",
    "    bce_lrs = [None] * reps\n",
    "    mse_lrs = [None] * reps\n",
    "    mlc_lrs = [None] * reps\n",
    "    sqr_lrs = [None] * reps\n",
    "    for i in range(reps):\n",
    "        bce_model = create_model(**bce_params)\n",
    "        bce_model.load_weights(bce_filestr.format(mu, i))\n",
    "        bce_lrs[i] = odds_lr(bce_model)\n",
    "\n",
    "        mse_model = create_model(**mse_params)\n",
    "        mse_model.load_weights(mse_filestr.format(mu, i))\n",
    "        mse_lrs[i] = odds_lr(mse_model)\n",
    "\n",
    "        mlc_model = create_model(**mlc_params)\n",
    "        mlc_model.load_weights(mlc_filestr.format(mu, i))\n",
    "        mlc_lrs[i] = exp_lr(mlc_model)\n",
    "\n",
    "        sqr_model = create_model(**sqr_params)\n",
    "        sqr_model.load_weights(sqr_filestr.format(mu, i))\n",
    "        sqr_lrs[i] = exp_lr(sqr_model)\n",
    "    \n",
    "    mae = make_mae(mu, sigma)\n",
    "    bce_maes = [mae(lr) for lr in bce_lrs]\n",
    "    mse_maes = [mae(lr) for lr in mse_lrs]\n",
    "    mlc_maes = [mae(lr) for lr in mlc_lrs]\n",
    "    sqr_maes = [mae(lr) for lr in sqr_lrs]\n",
    "    \n",
    "    bce_mae_avg += [np.mean(bce_maes)]\n",
    "    bce_mae_err += [np.std(bce_maes)]\n",
    "    \n",
    "    mse_mae_avg += [np.mean(mse_maes)]\n",
    "    mse_mae_err += [np.std(mse_maes)]\n",
    "    \n",
    "    mlc_mae_avg += [np.mean(mlc_maes)]\n",
    "    mlc_mae_err += [np.std(mlc_maes)]\n",
    "    \n",
    "    sqr_mae_avg += [np.mean(sqr_maes)]\n",
    "    sqr_mae_err += [np.std(sqr_maes)]\n",
    "    \n",
    "    print(bce_mae_avg[-1], mse_mae_avg[-1], mlc_mae_avg[-1], sqr_mae_avg[-1])\n",
    "    \n",
    "    mpe = make_mpe(mu, sigma)\n",
    "    bce_mpes = [mpe(lr) for lr in bce_lrs]\n",
    "    mse_mpes = [mpe(lr) for lr in mse_lrs]\n",
    "    mlc_mpes = [mpe(lr) for lr in mlc_lrs]\n",
    "    sqr_mpes = [mpe(lr) for lr in sqr_lrs]\n",
    "    \n",
    "    bce_mpe_avg += [np.mean(bce_mpes)]\n",
    "    bce_mpe_err += [np.std(bce_mpes)]\n",
    "    \n",
    "    mse_mpe_avg += [np.mean(mse_mpes)]\n",
    "    mse_mpe_err += [np.std(mse_mpes)]\n",
    "    \n",
    "    mlc_mpe_avg += [np.mean(mlc_mpes)]\n",
    "    mlc_mpe_err += [np.std(mlc_mpes)]\n",
    "    \n",
    "    sqr_mpe_avg += [np.mean(sqr_mpes)]\n",
    "    sqr_mpe_err += [np.std(sqr_mpes)]\n",
    "    \n",
    "    print(bce_mpe_avg[-1], mse_mpe_avg[-1], mlc_mpe_avg[-1], sqr_mpe_avg[-1])\n",
    "\n",
    "bce_mae_avg = np.array(bce_mae_avg)\n",
    "mse_mae_avg = np.array(mse_mae_avg)\n",
    "mlc_mae_avg = np.array(mlc_mae_avg)\n",
    "sqr_mae_avg = np.array(sqr_mae_avg)\n",
    "\n",
    "bce_mae_err = np.array(bce_mae_err)\n",
    "mse_mae_err = np.array(mse_mae_err)\n",
    "mlc_mae_err = np.array(mlc_mae_err)\n",
    "sqr_mae_err = np.array(sqr_mae_err)\n",
    "\n",
    "bce_mpe_avg = np.array(bce_mpe_avg)\n",
    "mse_mpe_avg = np.array(mse_mpe_avg)\n",
    "mlc_mpe_avg = np.array(mlc_mpe_avg)\n",
    "sqr_mpe_avg = np.array(sqr_mpe_avg)\n",
    "\n",
    "bce_mpe_err = np.array(bce_mpe_err)\n",
    "mse_mpe_err = np.array(mse_mpe_err)\n",
    "mlc_mpe_err = np.array(mlc_mpe_err)\n",
    "sqr_mpe_err = np.array(sqr_mpe_err)"
   ]
  },
  {
   "cell_type": "code",
   "execution_count": null,
   "metadata": {},
   "outputs": [],
   "source": [
    "fig, ax = plt.subplots(figsize = (10, 6))\n",
    "\n",
    "plt.plot(mus, bce_mae_avg, c='brown', ls=':', label='BCE')\n",
    "plt.plot(mus, mse_mae_avg, c='green', ls='--', label='MSE')\n",
    "plt.plot(mus, mlc_mae_avg, c='red', ls='--', label='MLC')\n",
    "plt.plot(mus, sqr_mae_avg, c='blue', ls='-.', label='SQR')\n",
    "plt.legend()\n",
    "\n",
    "plt.yscale(\"log\", basey=10)\n",
    "plt.minorticks_on()\n",
    "plt.tick_params(direction='in', which='both',length=5)\n",
    "plt.ylabel('Mean Absolute Error')\n",
    "plt.xlabel(r'$\\mu$')\n",
    "\n",
    "plt.savefig('plots/interp/set_{}/maes.png'.format(num),\n",
    "            dpi=1200, \n",
    "            bbox_inches='tight')"
   ]
  },
  {
   "cell_type": "code",
   "execution_count": null,
   "metadata": {},
   "outputs": [],
   "source": [
    "fig, ax = plt.subplots(figsize = (10, 6))\n",
    "\n",
    "plt.plot(mus, bce_mpe_avg, c='brown', ls=':', label='BCE')\n",
    "plt.plot(mus, mse_mpe_avg, c='green', ls='--', label='MSE')\n",
    "plt.plot(mus, mlc_mpe_avg, c='red', ls='--', label='MLC')\n",
    "plt.plot(mus, sqr_mpe_avg, c='blue', ls='-.', label='SQR')\n",
    "plt.legend()\n",
    "#plt.ylim(0, 5)\n",
    "\n",
    "#plt.xscale(\"log\", base=10)\n",
    "plt.minorticks_on()\n",
    "plt.tick_params(direction='in', which='both',length=5)\n",
    "plt.ylabel('Mean Percent Error (\\%)')\n",
    "plt.xlabel(r'$\\mu$')\n",
    "\n",
    "plt.savefig('plots/interp/set_{}/mpes.png'.format(num),\n",
    "            dpi=1200, \n",
    "            bbox_inches='tight')"
   ]
  },
  {
   "cell_type": "markdown",
   "metadata": {
    "jp-MarkdownHeadingCollapsed": true,
    "tags": []
   },
   "source": [
    "## Single Test"
   ]
  },
  {
   "cell_type": "code",
   "execution_count": null,
   "metadata": {},
   "outputs": [],
   "source": [
    "xs = np.linspace(-4, 4, 1000)\n",
    "bce_lr = avg_lr(get_preds(bce_lrs, xs)) + ('BCE',)\n",
    "mse_lr = avg_lr(get_preds(mse_lrs, xs)) + ('MSE',)\n",
    "mlc_lr = avg_lr(get_preds(mlc_lrs, xs)) + ('MLC',)\n",
    "sqr_lr = avg_lr(get_preds(sqr_lrs, xs)) + ('SQR',)\n",
    "\n",
    "bce_lrr = avg_lrr(get_preds(bce_lrs, xs), xs) + ('BCE',)\n",
    "mse_lrr = avg_lrr(get_preds(mse_lrs, xs), xs) + ('MSE',)\n",
    "mlc_lrr = avg_lrr(get_preds(mlc_lrs, xs), xs) + ('MLC',)\n",
    "sqr_lrr = avg_lrr(get_preds(sqr_lrs, xs), xs) + ('SQR',)"
   ]
  },
  {
   "cell_type": "code",
   "execution_count": null,
   "metadata": {},
   "outputs": [],
   "source": [
    "lr_plot([bce_lr, mse_lr, mlc_lr, sqr_lr], \n",
    "        xs=xs,\n",
    "        filename='plots/interp/set_{}/lrs.png'.format(num))"
   ]
  },
  {
   "cell_type": "code",
   "execution_count": null,
   "metadata": {},
   "outputs": [],
   "source": [
    "lrr_plot([bce_lrr, mse_lrr, mlc_lrr, sqr_lrr], \n",
    "         xs=xs,\n",
    "         filename='plots/interp/set_{}/lrrs.png'.format(num))"
   ]
  },
  {
   "cell_type": "markdown",
   "metadata": {
    "tags": []
   },
   "source": [
    "# Betas"
   ]
  },
  {
   "cell_type": "code",
   "execution_count": null,
   "metadata": {},
   "outputs": [],
   "source": [
    "num = 0\n",
    "reps = 100\n",
    "\n",
    "bkgd = stats.beta(2, 3)\n",
    "sgnl = stats.beta(3, 2)\n",
    "N = 10**6\n",
    "\n",
    "data = make_data(bkgd, sgnl, N) + [N]\n",
    "\n",
    "# Model parameters\n",
    "bce_params = {'loss':bce}\n",
    "mse_params = {'loss':mse}\n",
    "mlc_params = {'loss':exp_mlc, 'output':'linear'}\n",
    "sqr_params = {'loss':exp_sqr, 'output':'linear'}\n",
    "\n",
    "bce_filestr = 'models/betas/set_' + str(num) + '/bce/model_{}.h5'\n",
    "mse_filestr = 'models/betas/set_' + str(num) + '/mse/model_{}.h5'\n",
    "mlc_filestr = 'models/betas/set_' + str(num) + '/mlc/model_{}.h5'\n",
    "sqr_filestr = 'models/betas/set_' + str(num) + '/sqr/model_{}.h5'"
   ]
  },
  {
   "cell_type": "code",
   "execution_count": null,
   "metadata": {},
   "outputs": [],
   "source": [
    "%%time\n",
    "# Train and save models\n",
    "\n",
    "for i in range(reps):\n",
    "    print(i, end = ' ')\n",
    "    bce_model = train(data, **bce_params)\n",
    "    mse_model = train(data, **mse_params)\n",
    "    mlc_model = train(data, **mlc_params)\n",
    "    sqr_model = train(data, **sqr_params)\n",
    "    print()\n",
    "    bce_model.save_weights(bce_filestr.format(i))\n",
    "    mse_model.save_weights(mse_filestr.format(i))\n",
    "    mlc_model.save_weights(mlc_filestr.format(i))\n",
    "    sqr_model.save_weights(sqr_filestr.format(i))"
   ]
  },
  {
   "cell_type": "markdown",
   "metadata": {
    "tags": []
   },
   "source": [
    "# Gamma"
   ]
  },
  {
   "cell_type": "code",
   "execution_count": null,
   "metadata": {},
   "outputs": [],
   "source": [
    "num = 0\n",
    "reps = 100\n",
    "\n",
    "bkgd = stats.gamma(5, 1)\n",
    "sgnl = stats.gamma(6, 1)\n",
    "N = 10**6\n",
    "\n",
    "data = make_data(bkgd, sgnl, N) + [N]\n",
    "\n",
    "# Model parameters\n",
    "bce_params = {'loss':bce}\n",
    "mse_params = {'loss':mse}\n",
    "mlc_params = {'loss':exp_mlc, 'output':'linear'}\n",
    "sqr_params = {'loss':exp_sqr, 'output':'linear'}\n",
    "\n",
    "bce_filestr = 'models/gammas/set_' + str(num) + '/bce/model_{}.h5'\n",
    "mse_filestr = 'models/gammas/set_' + str(num) + '/mse/model_{}.h5'\n",
    "mlc_filestr = 'models/gammas/set_' + str(num) + '/mlc/model_{}.h5'\n",
    "sqr_filestr = 'models/gammas/set_' + str(num) + '/sqr/model_{}.h5'"
   ]
  },
  {
   "cell_type": "code",
   "execution_count": null,
   "metadata": {},
   "outputs": [],
   "source": [
    "%%time\n",
    "# Train and save models\n",
    "\n",
    "for i in range(reps):\n",
    "    print(i, end = ' ')\n",
    "    bce_model = train(data, **bce_params)\n",
    "    mse_model = train(data, **mse_params)\n",
    "    mlc_model = train(data, **mlc_params)\n",
    "    sqr_model = train(data, **sqr_params)\n",
    "    print()\n",
    "    bce_model.save_weights(bce_filestr.format(i))\n",
    "    mse_model.save_weights(mse_filestr.format(i))\n",
    "    mlc_model.save_weights(mlc_filestr.format(i))\n",
    "    sqr_model.save_weights(sqr_filestr.format(i))"
   ]
  },
  {
   "cell_type": "markdown",
   "metadata": {
    "tags": []
   },
   "source": [
    "# 2D Gaussians"
   ]
  },
  {
   "cell_type": "code",
   "execution_count": null,
   "metadata": {},
   "outputs": [],
   "source": [
    "num = 0\n",
    "reps = 100\n",
    "Ns = 10**np.arange(2, 8)\n",
    "\n",
    "mu = np.array([0.1, 0])\n",
    "sg = np.eye(2)\n",
    "\n",
    "bkgd = stats.multivariate_normal(-mu, sg)\n",
    "sgnl = stats.multivariate_normal(mu, sg)\n",
    "\n",
    "# Model parameters\n",
    "bce_params = {'loss':bce, 'd': 2, 'verbose': 0}\n",
    "mse_params = {'loss':mse, 'd': 2, 'verbose': 0}\n",
    "mlc_params = {'loss':mlc, 'd': 2, 'output':'linear', 'verbose': 0}\n",
    "sqr_params = {'loss':sqr, 'd': 2, 'output':'linear', 'verbose': 0}\n",
    "\n",
    "bce_filestr = 'models/multi/scratch/set_' + str(num) + '/bce/model_{}_{}.h5'\n",
    "mse_filestr = 'models/multi/scratch/set_' + str(num) + '/mse/model_{}_{}.h5'\n",
    "mlc_filestr = 'models/multi/scratch/set_' + str(num) + '/mlc/model_{}_{}.h5'\n",
    "sqr_filestr = 'models/multi/scratch/set_' + str(num) + '/sqr/model_{}_{}.h5'"
   ]
  },
  {
   "cell_type": "code",
   "execution_count": null,
   "metadata": {
    "scrolled": true,
    "tags": []
   },
   "outputs": [],
   "source": [
    "for N in Ns:\n",
    "    print('===================================================\\n{}'.format(N))\n",
    "    # Generate data\n",
    "    data = make_data(bkgd, sgnl, N) + [N]\n",
    "    \n",
    "    for i in range(reps):\n",
    "        print(i)\n",
    "        bce_model, trace = train(data, **bce_params)\n",
    "        print()\n",
    "        mse_model, trace = train(data, **mse_params)\n",
    "        print()\n",
    "        mlc_model, trace = train(data, **mlc_params)\n",
    "        while np.isnan(trace.history['val_loss'][-1]):\n",
    "            mlc_model, trace = train(data, **mlc_params)\n",
    "        print()\n",
    "        sqr_model, trace = train(data, **sqr_params)\n",
    "        while np.isnan(trace.history['val_loss'][-1]):\n",
    "            sqr_model, trace = train(data, **sqr_params)\n",
    "        print('\\n\\n')\n",
    "        bce_model.save_weights(bce_filestr.format(N, i))\n",
    "        mse_model.save_weights(mse_filestr.format(N, i))\n",
    "        mlc_model.save_weights(mlc_filestr.format(N, i))\n",
    "        sqr_model.save_weights(sqr_filestr.format(N, i))"
   ]
  },
  {
   "cell_type": "code",
   "execution_count": null,
   "metadata": {},
   "outputs": [],
   "source": [
    "lr = make_lr(bkgd, sgnl)"
   ]
  },
  {
   "cell_type": "code",
   "execution_count": null,
   "metadata": {},
   "outputs": [],
   "source": [
    "g = np.meshgrid(np.linspace(-6, 6, 300), np.linspace(-6, 6, 300))\n",
    "g = np.append(g[0].reshape(-1,1),g[1].reshape(-1,1),axis = 1)"
   ]
  },
  {
   "cell_type": "code",
   "execution_count": null,
   "metadata": {},
   "outputs": [],
   "source": [
    "bce_model = create_model(**bce_params)\n",
    "bce_model.load_weights(bce_filestr.format(0))\n",
    "bce_lr = odds_lr(bce_model)"
   ]
  },
  {
   "cell_type": "code",
   "execution_count": null,
   "metadata": {},
   "outputs": [],
   "source": [
    "mse_model = create_model(**mse_params)\n",
    "mse_model.load_weights(mse_filestr.format(0))\n",
    "mse_lr = odds_lr(mse_model)"
   ]
  },
  {
   "cell_type": "code",
   "execution_count": null,
   "metadata": {},
   "outputs": [],
   "source": [
    "mlc_model = create_model(**mlc_params)\n",
    "mlc_model.load_weights(mlc_filestr.format(0))\n",
    "mlc_lr = pure_lr(mlc_model)"
   ]
  },
  {
   "cell_type": "code",
   "execution_count": null,
   "metadata": {},
   "outputs": [],
   "source": [
    "sqr_model = create_model(**sqr_params)\n",
    "sqr_model.load_weights(sqr_filestr.format(0))\n",
    "sqr_lr = pure_lr(sqr_model)"
   ]
  },
  {
   "cell_type": "code",
   "execution_count": null,
   "metadata": {},
   "outputs": [],
   "source": [
    "mae = make_mae(bkgd, sgnl)"
   ]
  },
  {
   "cell_type": "code",
   "execution_count": null,
   "metadata": {},
   "outputs": [],
   "source": [
    "mae(bce_lr)"
   ]
  },
  {
   "cell_type": "code",
   "execution_count": null,
   "metadata": {},
   "outputs": [],
   "source": [
    "mae(mse_lr)"
   ]
  },
  {
   "cell_type": "code",
   "execution_count": null,
   "metadata": {},
   "outputs": [],
   "source": [
    "mae(mlc_lr)"
   ]
  },
  {
   "cell_type": "code",
   "execution_count": null,
   "metadata": {},
   "outputs": [],
   "source": [
    "mae(sqr_lr)"
   ]
  },
  {
   "cell_type": "code",
   "execution_count": null,
   "metadata": {},
   "outputs": [],
   "source": [
    "fig = plt.figure(figsize = (8, 8))\n",
    "ax = fig.add_subplot(111, projection = '3d')\n",
    "ax.scatter(g[:, 0], g[:, 1], lr(g), s = 5, c = lr(g), cmap = 'plasma')\n",
    "ax.scatter(g[:, 0], g[:, 1], bce_lr(g), s = 5, c = bce_lr(g), cmap = 'viridis')\n",
    "#ax.scatter(g[:, 0], g[:, 1], mse_lr(g), s = 5, c = mse_lr(g), cmap = 'cividis')"
   ]
  },
  {
   "cell_type": "code",
   "execution_count": null,
   "metadata": {},
   "outputs": [],
   "source": []
  },
  {
   "cell_type": "markdown",
   "metadata": {
    "jp-MarkdownHeadingCollapsed": true,
    "tags": []
   },
   "source": [
    "# MLC $C$ Parametrization"
   ]
  },
  {
   "cell_type": "code",
   "execution_count": null,
   "metadata": {},
   "outputs": [],
   "source": [
    "num = 0\n",
    "reps = 100\n",
    "\n",
    "mu = np.array([0.1, 0])\n",
    "sg = np.eye(2)\n",
    "bkgd = stats.multivariate_normal(-mu, sg)\n",
    "sgnl = stats.multivariate_normal(+mu, sg)\n",
    "N = 10**6\n",
    "\n",
    "data = make_data(bkgd, sgnl, N) + [N]\n",
    "\n",
    "# Model parameters\n",
    "params_1 = {'loss':mlc, 'd': 2, 'output':'relu'}\n",
    "params_2 = {'loss':square_mlc, 'd': 2,  'output':'linear'}\n",
    "params_3 = {'loss':exp_mlc, 'd': 2, 'output':'linear'}\n",
    "\n",
    "filestr_1 = 'models/multi/mlc_c_param/set_' + str(num) + '/linear/model_{}.h5'\n",
    "filestr_2 = 'models/multi/mlc_c_param/set_' + str(num) + '/square/model_{}.h5'\n",
    "filestr_3 = 'models/multi/mlc_c_param/set_' + str(num) + '/exp/model_{}.h5'"
   ]
  },
  {
   "cell_type": "code",
   "execution_count": null,
   "metadata": {},
   "outputs": [],
   "source": [
    "%%time\n",
    "\n",
    "for i in range(reps):\n",
    "    print(i, end = ' ')\n",
    "    model_1, trace = train(data, **params_1)\n",
    "    model_2, trace = train(data, **params_2)\n",
    "    model_3, trace = train(data, **params_3)\n",
    "    print()\n",
    "    model_1.save_weights(filestr_1.format(i))\n",
    "    model_2.save_weights(filestr_2.format(i))\n",
    "    model_3.save_weights(filestr_3.format(i))"
   ]
  },
  {
   "cell_type": "markdown",
   "metadata": {
    "jp-MarkdownHeadingCollapsed": true,
    "tags": []
   },
   "source": [
    "# SQR $C$ Parametrization"
   ]
  },
  {
   "cell_type": "code",
   "execution_count": null,
   "metadata": {},
   "outputs": [],
   "source": [
    "num = 0\n",
    "reps = 100\n",
    "\n",
    "mu = np.array([0.1, 0])\n",
    "sg = np.eye(2)\n",
    "bkgd = stats.multivariate_normal(-mu, sg)\n",
    "sgnl = stats.multivariate_normal(+mu, sg)\n",
    "N = 10**6\n",
    "\n",
    "data = make_data(bkgd, sgnl, N) + [N]\n",
    "\n",
    "# Model parameters\n",
    "params_1 = {'loss':sqr, 'd': 2, 'output':'relu'}\n",
    "params_2 = {'loss':square_sqr, 'd': 2,  'output':'linear'}\n",
    "params_3 = {'loss':exp_sqr, 'd': 2, 'output':'linear'}\n",
    "\n",
    "filestr_1 = 'models/multi/sqr_c_param/set_' + str(num) + '/linear/model_{}.h5'\n",
    "filestr_2 = 'models/multi/sqr_c_param/set_' + str(num) + '/square/model_{}.h5'\n",
    "filestr_3 = 'models/multi/sqr_c_param/set_' + str(num) + '/exp/model_{}.h5'"
   ]
  },
  {
   "cell_type": "code",
   "execution_count": null,
   "metadata": {},
   "outputs": [],
   "source": [
    "%%time\n",
    "\n",
    "for i in range(reps):\n",
    "    print(i, end = ' ')\n",
    "    model_1, trace = train(data, **params_1)\n",
    "    model_2, trace = train(data, **params_2)\n",
    "    model_3, trace = train(data, **params_3)\n",
    "    print()\n",
    "    model_1.save_weights(filestr_1.format(i))\n",
    "    model_2.save_weights(filestr_2.format(i))\n",
    "    model_3.save_weights(filestr_3.format(i))"
   ]
  },
  {
   "cell_type": "markdown",
   "metadata": {
    "tags": []
   },
   "source": [
    "# Scratch"
   ]
  },
  {
   "cell_type": "markdown",
   "metadata": {
    "jp-MarkdownHeadingCollapsed": true,
    "tags": []
   },
   "source": [
    "## 1. Loss Comparison for Gamma Data"
   ]
  },
  {
   "cell_type": "code",
   "execution_count": null,
   "metadata": {},
   "outputs": [],
   "source": [
    "### Generate the data.\n",
    "N = 10**6\n",
    "r = 5\n",
    "lam = 1\n",
    "\n",
    "# Background is Gamma(r, λ). Signal is Gamma(r + 1, λ)\n",
    "bkgd = np.random.gamma(r, lam, N)\n",
    "sgnl = np.random.gamma(r + 1, lam, N)\n",
    "D = np.concatenate([bkgd, sgnl])\n",
    "X = (D - np.mean(D)) / np.std(D)\n",
    "y = np.concatenate([np.zeros(N), np.ones(N)])\n",
    "\n",
    "X_train, X_test, y_train, y_test = train_test_split(X, y)"
   ]
  },
  {
   "cell_type": "code",
   "execution_count": null,
   "metadata": {},
   "outputs": [],
   "source": [
    "def lr(x):\n",
    "    #return np.exp(-10 + 11) * (10/11)**x\n",
    "    #return np.exp(-(1/(2 * sigma**2)) * ( (x - mu)**2 - (x + mu)**2))\n",
    "    r_1 = r\n",
    "    r_2 = r + 1\n",
    "    v_1 = lam\n",
    "    v_2 = lam\n",
    "    return v_2**r_2 * np.math.factorial(r_1 - 1) * x**(r_2 - r_1) * \\\n",
    "           np.exp(-(v_2 - v_1)*x) / (v_1**r_1 * np.math.factorial(r_2 - 1))"
   ]
  },
  {
   "cell_type": "code",
   "execution_count": null,
   "metadata": {},
   "outputs": [],
   "source": [
    "num = 4\n",
    "reps = 20\n",
    "\n",
    "# Model parameters\n",
    "bce_params = {'loss':bce}\n",
    "mse_params = {'loss':mse}\n",
    "mlc_params = {'loss':exp_mlc, 'output':'linear'}\n",
    "sqr_params = {'loss':exp_sqr, 'output':'linear'}\n",
    "\n",
    "bce_filestr = 'models/scratch/set_' + str(num) + '/bce/model_{}.h5'\n",
    "mse_filestr = 'models/scratch/set_' + str(num) + '/mse/model_{}.h5'\n",
    "mlc_filestr = 'models/scratch/set_' + str(num) + '/mlc/model_{}.h5'\n",
    "sqr_filestr = 'models/scratch/set_' + str(num) + '/sqr/model_{}.h5'"
   ]
  },
  {
   "cell_type": "code",
   "execution_count": null,
   "metadata": {},
   "outputs": [],
   "source": [
    "%%time\n",
    "\n",
    "for i in range(reps):\n",
    "    print(i, end = ' ')\n",
    "    bce_model = train(**bce_params)\n",
    "    mse_model = train(**mse_params)\n",
    "    mlc_model = train(**mlc_params)\n",
    "    sqr_model = train(**sqr_params)\n",
    "    print()\n",
    "    bce_model.save_weights(bce_filestr.format(i))\n",
    "    mse_model.save_weights(mse_filestr.format(i))\n",
    "    mlc_model.save_weights(mlc_filestr.format(i))\n",
    "    sqr_model.save_weights(sqr_filestr.format(i))"
   ]
  },
  {
   "cell_type": "code",
   "execution_count": null,
   "metadata": {},
   "outputs": [],
   "source": [
    "# Load in models.\n",
    "bce_lrs = [None] * reps\n",
    "mse_lrs = [None] * reps\n",
    "mlc_lrs = [None] * reps\n",
    "sqr_lrs = [None] * reps\n",
    "for i in range(reps):\n",
    "    bce_model = create_model(**bce_params)\n",
    "    bce_model.load_weights(bce_filestr.format(i))\n",
    "    bce_lrs[i] = odds_lr(bce_model)\n",
    "    \n",
    "    mse_model = create_model(**mse_params)\n",
    "    mse_model.load_weights(mse_filestr.format(i))\n",
    "    mse_lrs[i] = odds_lr(mse_model)\n",
    "    \n",
    "    mlc_model = create_model(**mlc_params)\n",
    "    mlc_model.load_weights(mlc_filestr.format(i))\n",
    "    mlc_lrs[i] = exp_lr(mlc_model)\n",
    "    \n",
    "    sqr_model = create_model(**sqr_params)\n",
    "    sqr_model.load_weights(sqr_filestr.format(i))\n",
    "    sqr_lrs[i] = exp_lr(sqr_model)"
   ]
  },
  {
   "cell_type": "code",
   "execution_count": null,
   "metadata": {},
   "outputs": [],
   "source": [
    "ds = np.linspace(0, 20, 1000)\n",
    "xs = (ds - np.mean(D)) / np.std(D)\n",
    "\n",
    "bce_lr = avg_lr(get_preds(bce_lrs, xs)) + ('BCE',)\n",
    "mse_lr = avg_lr(get_preds(mse_lrs, xs)) + ('MSE',)\n",
    "mlc_lr = avg_lr(get_preds(mlc_lrs, xs)) + ('MLC',)\n",
    "sqr_lr = avg_lr(get_preds(sqr_lrs, xs)) + ('SQR',)\n",
    "\n",
    "bce_lrr = avg_lrr(get_preds(bce_lrs, xs), ds) + ('BCE',)\n",
    "mse_lrr = avg_lrr(get_preds(mse_lrs, xs), ds) + ('MSE',)\n",
    "mlc_lrr = avg_lrr(get_preds(mlc_lrs, xs), ds) + ('MLC',)\n",
    "sqr_lrr = avg_lrr(get_preds(sqr_lrs, xs), ds) + ('SQR',)"
   ]
  },
  {
   "cell_type": "code",
   "execution_count": null,
   "metadata": {},
   "outputs": [],
   "source": [
    "lr_plot([bce_lr, mse_lr, mlc_lr, sqr_lr], \n",
    "        filename='plots/scratch/set_{}/lrs.png'.format(num))"
   ]
  },
  {
   "cell_type": "code",
   "execution_count": null,
   "metadata": {},
   "outputs": [],
   "source": [
    "lrr_plot([bce_lrr, mse_lrr, mlc_lrr, sqr_lrr], \n",
    "         filename='plots/scratch/set_{}/lrrs.png'.format(num))"
   ]
  },
  {
   "cell_type": "markdown",
   "metadata": {
    "jp-MarkdownHeadingCollapsed": true,
    "tags": []
   },
   "source": [
    "## 2. Test on Non-Zero-Centered Gaussians"
   ]
  },
  {
   "cell_type": "code",
   "execution_count": null,
   "metadata": {
    "tags": []
   },
   "outputs": [],
   "source": [
    "N = 10**6\n",
    "mu = 10\n",
    "d = 0.1\n",
    "sigma = 1\n",
    "\n",
    "# Background is Normal(μ - d, σ). Signal is Normal(μ + d, σ))\n",
    "bkgd = np.random.normal(mu - d, sigma, N)\n",
    "sgnl = np.random.normal(mu + d, sigma, N)\n",
    "D = np.concatenate([bkgd, sgnl])\n",
    "X = (D - np.mean(D)) / np.std(D)\n",
    "y = np.concatenate([np.zeros(N), np.ones(N)])\n",
    "\n",
    "X_train, X_test, y_train, y_test = train_test_split(X, y)"
   ]
  },
  {
   "cell_type": "code",
   "execution_count": null,
   "metadata": {},
   "outputs": [],
   "source": [
    "def lr(x):\n",
    "    return np.exp(-(1/(2 * sigma**2)) * ( (x - 10.1)**2 - (x - 9.9)**2))"
   ]
  },
  {
   "cell_type": "code",
   "execution_count": null,
   "metadata": {},
   "outputs": [],
   "source": [
    "num = 3\n",
    "reps = 20\n",
    "\n",
    "# Model parameters\n",
    "bce_params = {'loss':bce}\n",
    "mse_params = {'loss':mse}\n",
    "mlc_params = {'loss':exp_mlc, 'output':'linear'}\n",
    "sqr_params = {'loss':exp_sqr, 'output':'linear'}\n",
    "\n",
    "bce_filestr = 'models/scratch/set_' + str(num) + '/bce/model_{}.h5'\n",
    "mse_filestr = 'models/scratch/set_' + str(num) + '/mse/model_{}.h5'\n",
    "mlc_filestr = 'models/scratch/set_' + str(num) + '/mlc/model_{}.h5'\n",
    "sqr_filestr = 'models/scratch/set_' + str(num) + '/sqr/model_{}.h5'"
   ]
  },
  {
   "cell_type": "code",
   "execution_count": null,
   "metadata": {},
   "outputs": [],
   "source": [
    "%%time\n",
    "\n",
    "for i in range(reps):\n",
    "    print(i, end = ' ')\n",
    "    bce_model = train(**bce_params)\n",
    "    mse_model = train(**mse_params)\n",
    "    mlc_model = train(**mlc_params)\n",
    "    sqr_model = train(**sqr_params)\n",
    "    print()\n",
    "    bce_model.save_weights(bce_filestr.format(i))\n",
    "    mse_model.save_weights(mse_filestr.format(i))\n",
    "    mlc_model.save_weights(mlc_filestr.format(i))\n",
    "    sqr_model.save_weights(sqr_filestr.format(i))"
   ]
  },
  {
   "cell_type": "code",
   "execution_count": null,
   "metadata": {},
   "outputs": [],
   "source": [
    "# Load in models.\n",
    "bce_lrs = [None] * reps\n",
    "mse_lrs = [None] * reps\n",
    "mlc_lrs = [None] * reps\n",
    "sqr_lrs = [None] * reps\n",
    "for i in range(reps):\n",
    "    bce_model = create_model(**bce_params)\n",
    "    bce_model.load_weights(bce_filestr.format(i))\n",
    "    bce_lrs[i] = odds_lr(bce_model)\n",
    "    \n",
    "    mse_model = create_model(**mse_params)\n",
    "    mse_model.load_weights(mse_filestr.format(i))\n",
    "    mse_lrs[i] = odds_lr(mse_model)\n",
    "    \n",
    "    mlc_model = create_model(**mlc_params)\n",
    "    mlc_model.load_weights(mlc_filestr.format(i))\n",
    "    mlc_lrs[i] = exp_lr(mlc_model)\n",
    "    \n",
    "    sqr_model = create_model(**sqr_params)\n",
    "    sqr_model.load_weights(sqr_filestr.format(i))\n",
    "    sqr_lrs[i] = exp_lr(sqr_model)"
   ]
  },
  {
   "cell_type": "code",
   "execution_count": null,
   "metadata": {},
   "outputs": [],
   "source": [
    "ds = np.linspace(4, 16, 1000)\n",
    "xs = (ds - np.mean(D)) / np.std(D)\n",
    "\n",
    "bce_lr = avg_lr(get_preds(bce_lrs, xs)) + ('BCE',)\n",
    "mse_lr = avg_lr(get_preds(mse_lrs, xs)) + ('MSE',)\n",
    "mlc_lr = avg_lr(get_preds(mlc_lrs, xs)) + ('MLC',)\n",
    "sqr_lr = avg_lr(get_preds(sqr_lrs, xs)) + ('SQR',)\n",
    "\n",
    "bce_lrr = avg_lrr(get_preds(bce_lrs, xs), ds) + ('BCE',)\n",
    "mse_lrr = avg_lrr(get_preds(mse_lrs, xs), ds) + ('MSE',)\n",
    "mlc_lrr = avg_lrr(get_preds(mlc_lrs, xs), ds) + ('MLC',)\n",
    "sqr_lrr = avg_lrr(get_preds(sqr_lrs, xs), ds) + ('SQR',)"
   ]
  },
  {
   "cell_type": "code",
   "execution_count": null,
   "metadata": {},
   "outputs": [],
   "source": [
    "lr_plot([bce_lr, mse_lr, mlc_lr, sqr_lr], \n",
    "        filename='plots/scratch/set_{}/lrs.png'.format(num))"
   ]
  },
  {
   "cell_type": "code",
   "execution_count": null,
   "metadata": {},
   "outputs": [],
   "source": [
    "lrr_plot([bce_lrr, mse_lrr, mlc_lrr, sqr_lrr], \n",
    "         filename='plots/scratch/set_{}/lrrs.png'.format(num))"
   ]
  },
  {
   "cell_type": "code",
   "execution_count": null,
   "metadata": {},
   "outputs": [],
   "source": []
  }
 ],
 "metadata": {
  "kernelspec": {
   "display_name": "omnifold",
   "language": "python",
   "name": "omnifold"
  },
  "language_info": {
   "codemirror_mode": {
    "name": "ipython",
    "version": 3
   },
   "file_extension": ".py",
   "mimetype": "text/x-python",
   "name": "python",
   "nbconvert_exporter": "python",
   "pygments_lexer": "ipython3",
   "version": "3.8.12"
  }
 },
 "nbformat": 4,
 "nbformat_minor": 4
}
