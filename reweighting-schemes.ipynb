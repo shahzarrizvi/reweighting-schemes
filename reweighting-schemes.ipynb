{
 "cells": [
  {
   "cell_type": "code",
   "execution_count": 1,
   "metadata": {
    "tags": []
   },
   "outputs": [],
   "source": [
    "# Automatically reload modules after executing each cell.\n",
    "%load_ext autoreload\n",
    "%autoreload 2"
   ]
  },
  {
   "cell_type": "code",
   "execution_count": 2,
   "metadata": {},
   "outputs": [],
   "source": [
    "# General imports\n",
    "import numpy as np\n",
    "import os\n",
    "\n",
    "# Plotting\n",
    "from matplotlib import pyplot as plt\n",
    "from matplotlib.patches import Patch\n",
    "from matplotlib import rc\n",
    "import matplotlib.font_manager\n",
    "rc('font', family='serif')\n",
    "rc('text', usetex=True)\n",
    "rc('font', size=22)\n",
    "rc('xtick', labelsize=15)\n",
    "rc('ytick', labelsize=15)\n",
    "rc('legend', fontsize=15)\n",
    "\n",
    "# ML imports\n",
    "from sklearn.model_selection import train_test_split\n",
    "import tensorflow as tf\n",
    "import tensorflow.keras\n",
    "import tensorflow.keras.backend as K\n",
    "from tensorflow.keras import Sequential\n",
    "from tensorflow.keras.layers import Dense, Input, Dropout\n",
    "from tensorflow.keras.callbacks import EarlyStopping\n",
    "\n",
    "np.random.seed(666) # Need to do more to ensure data is the same across runs."
   ]
  },
  {
   "cell_type": "code",
   "execution_count": 3,
   "metadata": {},
   "outputs": [
    {
     "name": "stderr",
     "output_type": "stream",
     "text": [
      "2022-04-17 15:46:59.217131: I tensorflow/stream_executor/platform/default/dso_loader.cc:44] Successfully opened dynamic library libcuda.so.1\n",
      "2022-04-17 15:46:59.242394: I tensorflow/core/common_runtime/gpu/gpu_device.cc:1561] Found device 0 with properties: \n",
      "pciBusID: 0000:01:00.0 name: Quadro RTX 6000 computeCapability: 7.5\n",
      "coreClock: 1.77GHz coreCount: 72 deviceMemorySize: 23.65GiB deviceMemoryBandwidth: 625.94GiB/s\n",
      "2022-04-17 15:46:59.242553: I tensorflow/stream_executor/platform/default/dso_loader.cc:44] Successfully opened dynamic library libcudart.so.10.1\n",
      "2022-04-17 15:46:59.244029: I tensorflow/stream_executor/platform/default/dso_loader.cc:44] Successfully opened dynamic library libcublas.so.10\n",
      "2022-04-17 15:46:59.245748: I tensorflow/stream_executor/platform/default/dso_loader.cc:44] Successfully opened dynamic library libcufft.so.10\n",
      "2022-04-17 15:46:59.245966: I tensorflow/stream_executor/platform/default/dso_loader.cc:44] Successfully opened dynamic library libcurand.so.10\n",
      "2022-04-17 15:46:59.247637: I tensorflow/stream_executor/platform/default/dso_loader.cc:44] Successfully opened dynamic library libcusolver.so.10\n",
      "2022-04-17 15:46:59.248471: I tensorflow/stream_executor/platform/default/dso_loader.cc:44] Successfully opened dynamic library libcusparse.so.10\n",
      "2022-04-17 15:46:59.251845: I tensorflow/stream_executor/platform/default/dso_loader.cc:44] Successfully opened dynamic library libcudnn.so.7\n",
      "2022-04-17 15:46:59.254459: I tensorflow/core/common_runtime/gpu/gpu_device.cc:1703] Adding visible gpu devices: 0\n"
     ]
    }
   ],
   "source": [
    "os.environ[\"CUDA_VISIBLE_DEVICES\"] = \"0\" # pick a number < 4 on ML4HEP; < 3 on Voltan \n",
    "physical_devices = tf.config.list_physical_devices('GPU') \n",
    "tf.config.experimental.set_memory_growth(physical_devices[0], True)"
   ]
  },
  {
   "cell_type": "code",
   "execution_count": 4,
   "metadata": {},
   "outputs": [],
   "source": [
    "### Generate the data.\n",
    "N = 10**6\n",
    "r = 5\n",
    "sigma = 1\n",
    "\n",
    "# Background is Gamma(r, √(σ/r)). Signal is Gamma(r + 1, √(σ/(r + 1))))\n",
    "bkgd = np.random.gamma(r, (sigma / r)**0.5, N)\n",
    "sgnl = np.random.gamma(r + 1, (sigma / (r + 1))**0.5, N)\n",
    "X = np.concatenate([bkgd, sgnl])\n",
    "y = np.concatenate([np.zeros(N), np.ones(N)])\n",
    "\n",
    "X_train, X_test, y_train, y_test = train_test_split(X, y)\n",
    "\n",
    "\n",
    "N = 10**6\n",
    "mu = 0.1\n",
    "sigma = 1\n",
    "\n",
    "# Background is Normal(-μ, σ). Signal is Normal(μ, σ))\n",
    "bkgd = np.random.normal(-mu, sigma, N)\n",
    "sgnl = np.random.normal(mu, sigma, N)\n",
    "X = np.concatenate([bkgd, sgnl])\n",
    "y = np.concatenate([np.zeros(N), np.ones(N)])\n",
    "\n",
    "X_train, X_test, y_train, y_test = train_test_split(X, y)"
   ]
  },
  {
   "cell_type": "code",
   "execution_count": 5,
   "metadata": {},
   "outputs": [],
   "source": [
    "# Loss functions\n",
    "def bce(y_true, y_pred):\n",
    "    # Clipping to (ɛ, 1 - ɛ) is fine since the final activation is sigmoid.\n",
    "    y_pred = K.clip(y_pred, K.epsilon(), 1. - K.epsilon())\n",
    "    \n",
    "    return -((y_true) * K.log(y_pred + K.epsilon()) + \n",
    "             (1. - y_true) * K.log(1. - y_pred))\n",
    "\n",
    "def square_bce(y_true, y_pred):\n",
    "    return -((y_true) * K.log(y_pred**2) + \n",
    "             (1. - y_true) * K.log(1. - y_pred**2))\n",
    "\n",
    "def exp_bce(y_true, y_pred):\n",
    "    return -((y_true) * (y_pred) + \n",
    "             (1. - y_true) * (1. - y_pred))\n",
    "\n",
    "def mse(y_true, y_pred):\n",
    "    # Clipping to (ɛ, 1 - ɛ) is fine since the final activation is sigmoid.\n",
    "    y_pred = K.clip(y_pred, K.epsilon(), 1. - K.epsilon())\n",
    "    \n",
    "    return -((y_true) * -K.square(1. - y_pred) + \n",
    "             (1. - y_true) * -K.square(y_pred))\n",
    "\n",
    "def square_mse(y_true, y_pred):\n",
    "    return -((y_true) * -K.square(1. - y_pred) \n",
    "             + (1. - y_true) * -K.square(y_pred + K.epsilon()))\n",
    "\n",
    "def exp_mse(y_true, y_pred):\n",
    "    return -((y_true) * -K.square(1. - K.exp(y_pred)) + \n",
    "             (1. - y_true) * -K.square(K.exp(y_pred))) \n",
    "\n",
    "def get_mse(p):\n",
    "    def mse_p(y_true, y_pred):\n",
    "        y_pred = K.clip(y_pred, K.epsilon(), 1. - K.epsilon())\n",
    "    \n",
    "        return -((y_true) * -K.pow(1. - y_pred, p) + \n",
    "                 (1. - y_true) * -K.pow(y_pred, p))\n",
    "    return mse_p\n",
    "             \n",
    "def mlc(y_true, y_pred):\n",
    "    return -((y_true) * K.log(y_pred + K.epsilon()) + \n",
    "             (1. - y_true) * (1. - y_pred))\n",
    "\n",
    "def square_mlc(y_true, y_pred):\n",
    "    return -((y_true) * K.log(y_pred**2 + K.epsilon()) + \n",
    "             (1. - y_true) * (1. - y_pred**2))\n",
    "\n",
    "def exp_mlc(y_true, y_pred):\n",
    "    return -((y_true) * (y_pred) + \n",
    "             (1. - y_true) * (1. - K.exp(y_pred)))\n",
    "\n",
    "def sqr(y_true, y_pred):\n",
    "    return -((y_true) * -1. / K.sqrt(y_pred + K.epsilon()) + \n",
    "             (1. - y_true) * -K.sqrt(y_pred + K.epsilon()))\n",
    "\n",
    "def square_sqr(y_true, y_pred):\n",
    "    return -((y_true) * -1. / K.sqrt(K.square(y_pred)) + \n",
    "             (1. - y_true) * -K.sqrt(K.square(y_pred)))\n",
    "\n",
    "def exp_sqr(y_true, y_pred):\n",
    "    return -((y_true) * -1. / K.sqrt(K.exp(y_pred)) + \n",
    "             (1. - y_true) * -K.sqrt(K.exp(y_pred)))\n",
    "\n",
    "def get_sqr(p):\n",
    "    def sqr_p(y_true, y_pred):\n",
    "        return -((y_true) * -K.pow(y_pred + K.epsilon(), -p/2) + \n",
    "                 (1. - y_true) * -K.pow(y_pred + K.epsilon(), p/2))\n",
    "    return sqr_p\n",
    "\n",
    "def get_exp_sqr(p):\n",
    "    def exp_sqr_p(y_true, y_pred):\n",
    "        return -((y_true) * -K.pow(K.exp(y_pred), -p/2) + \n",
    "                 (1. - y_true) * -K.pow(K.exp(y_pred), p/2))\n",
    "    return exp_sqr_p\n",
    "        \n",
    "# Likelihood ratios\n",
    "def lr(x):\n",
    "    #return np.exp(-10 + 11) * (10/11)**x\n",
    "    #return np.exp(-(1/(2 * sigma**2)) * ( (x - mu)**2 - (x + mu)**2))\n",
    "    r_1 = r\n",
    "    r_2 = r + 1\n",
    "    v_1 = lam\n",
    "    v_2 = lam\n",
    "    return v_2**r_2 * np.math.factorial(r_1 - 1) * x**(r_2 - r_1) * \\\n",
    "           np.exp(-(v_2 - v_1)*x) / (v_1**r_1 * np.math.factorial(r_2 - 1))\n",
    "\n",
    "def odds_lr(model):\n",
    "    def model_lr(x):\n",
    "        f = model.predict(x)\n",
    "        return np.squeeze(f / (1. - f))\n",
    "    return model_lr\n",
    "\n",
    "def square_odds_lr(model):\n",
    "    def model_lr(x):\n",
    "        f = model.predict(x)\n",
    "        return np.squeeze(f**2 / (1. - f**2))\n",
    "    return model_lr\n",
    "\n",
    "def exp_odds_lr(model):\n",
    "    def model_lr(x):\n",
    "        f = model.predict(x)\n",
    "        return np.squeeze(np.exp(f) / (1. - np.exp(f)))\n",
    "    return model_lr\n",
    "\n",
    "def pure_lr(model):\n",
    "    def model_lr(x):\n",
    "        f = model.predict(x)\n",
    "        return np.squeeze(f)\n",
    "    return model_lr\n",
    "\n",
    "def square_lr(model):\n",
    "    def model_lr(x):\n",
    "        f = model.predict(x)\n",
    "        return np.squeeze(f**2)\n",
    "    return model_lr\n",
    "\n",
    "def exp_lr(model):\n",
    "    def model_lr(x):\n",
    "        f = model.predict(x)\n",
    "        return np.squeeze(np.exp(f))\n",
    "    return model_lr\n",
    "\n",
    "def pow_lr(model, p):\n",
    "    def model_lr(x):\n",
    "        f = model.predict(x)\n",
    "        return np.squeeze(f**p)\n",
    "    return model_lr\n",
    "\n",
    "def exp_pow_lr(model, p):\n",
    "    def model_lr(x):\n",
    "        f = model.predict(x)\n",
    "        return np.squeeze(np.exp(f)**p)\n",
    "    return model_lr\n",
    "\n",
    "def pow_odds_lr(model, p):\n",
    "    def model_lr(x):\n",
    "        f = model.predict(x)\n",
    "        return np.squeeze( (f / (1. - f))**(p - 1))\n",
    "    return model_lr\n",
    "\n",
    "def make_mae(mu_mae, sigma_mae, N_mae=10**4):\n",
    "    bkgd_mae = np.random.normal(-mu_mae, sigma_mae, N_mae)\n",
    "    sgnl_mae = np.random.normal(mu_mae, sigma_mae, N_mae)\n",
    "    X_mae = np.concatenate([bkgd_mae, sgnl_mae])\n",
    "    \n",
    "    def mae(model_lr):\n",
    "        nonlocal X_mae\n",
    "        return np.abs(model_lr(X_mae) - lr(X_mae)).mean()\n",
    "    return mae\n",
    "\n",
    "def make_mae(r_mae, sigma_mae, N_mae=10**4):\n",
    "    bkgd_mae = np.random.gamma(r_mae, (sigma_mae / r_mae)**0.5, N_mae)\n",
    "    sgnl_mae = np.random.gamma(r_mae + 1, (sigma_mae / (r_mae + 1))**0.5, N_mae)\n",
    "    X_mae = np.concatenate([bkgd_mae, sgnl_mae])\n",
    "    \n",
    "    def mae(model_lr):\n",
    "        nonlocal X_mae\n",
    "        return np.abs(model_lr(X_mae) - lr(X_mae)).mean()\n",
    "    return mae\n",
    "\n",
    "def make_mpe(mu_mpe, sigma_mpe, N_mpe=10**4):\n",
    "    bkgd_mpe = np.random.normal(-mu_mpe, sigma_mpe, N_mpe)\n",
    "    sgnl_mpe = np.random.normal(mu_mpe, sigma_mpe, N_mpe)\n",
    "    X_mpe = np.concatenate([bkgd_mpe, sgnl_mpe])\n",
    "    \n",
    "    def mpe(model_lr):\n",
    "        nonlocal X_mpe\n",
    "        return np.abs((model_lr(X_mpe) - lr(X_mpe)) / lr(X_mpe)).mean() * 100\n",
    "    return mpe\n",
    "    \n",
    "mae = make_mae(r, sigma)"
   ]
  },
  {
   "cell_type": "code",
   "execution_count": 6,
   "metadata": {},
   "outputs": [],
   "source": [
    "earlystopping = EarlyStopping(patience=10,\n",
    "                              verbose=0,\n",
    "                              restore_best_weights=True)"
   ]
  },
  {
   "cell_type": "code",
   "execution_count": 7,
   "metadata": {},
   "outputs": [],
   "source": [
    "# Models\n",
    "def create_model(loss,\n",
    "                 hidden='relu', \n",
    "                 output='sigmoid', \n",
    "                 dropout=True, \n",
    "                 optimizer='adam', \n",
    "                 metrics=['accuracy'], \n",
    "                 verbose=0):\n",
    "    model = Sequential()\n",
    "    if dropout:\n",
    "        model.add(Dense(64, activation=hidden, input_shape=(1, )))\n",
    "        model.add(Dropout(0.1))\n",
    "        model.add(Dense(128, activation=hidden))\n",
    "        model.add(Dropout(0.1))\n",
    "        model.add(Dense(64, activation=hidden))\n",
    "        model.add(Dropout(0.1))\n",
    "        model.add(Dense(1, activation=output))\n",
    "    else: \n",
    "        model.add(Dense(64, activation=hidden, input_shape=(1, )))\n",
    "        model.add(Dense(128, activation=hidden))\n",
    "        model.add(Dense(64, activation=hidden))\n",
    "        model.add(Dense(1, activation=output))        \n",
    "    \n",
    "    return model\n",
    "\n",
    "def train(loss,\n",
    "          hidden='relu', \n",
    "          output='sigmoid', \n",
    "          dropout=True, \n",
    "          optimizer='adam', \n",
    "          metrics=['accuracy'], \n",
    "          verbose=0):\n",
    "    model = create_model(loss, hidden, output, dropout, optimizer, metrics, verbose)      \n",
    "    \n",
    "    model.compile(loss=loss,\n",
    "                  optimizer=optimizer, \n",
    "                  metrics=metrics)\n",
    "    \n",
    "    trace = model.fit(X_train, \n",
    "                      y_train,\n",
    "                      epochs = 100, \n",
    "                      batch_size=int(0.1*N), \n",
    "                      validation_data=(X_test, y_test),\n",
    "                      callbacks=[earlystopping], \n",
    "                      verbose=verbose)\n",
    "    print(trace.history['val_loss'][-1], end = ' ')\n",
    "    \n",
    "    return model"
   ]
  },
  {
   "cell_type": "code",
   "execution_count": 8,
   "metadata": {},
   "outputs": [],
   "source": [
    "# Plotting functions\n",
    "def get_preds(model_lrs, xs=np.linspace(4, 16, 1000)):\n",
    "    # Takes in model_lrs, a list of model likelihood ratios and xs, a list of \n",
    "    # values on which to compute the likelihood ratios. Returns a 2D array. The \n",
    "    # nth row is the likelihood ratio predictions from the nth model in \n",
    "    # model_lrs.\n",
    "    return np.array([model_lr(xs) for model_lr in model_lrs])\n",
    "    \n",
    "def avg_lr(preds):\n",
    "    # Takes in a 2D array of multiple models' likelihood ratio predictions. \n",
    "    # Returns the average likelihood ratio prediction and its error.\n",
    "    return preds.mean(axis=0), preds.std(axis=0)\n",
    "\n",
    "def avg_lrr(preds, xs=np.linspace(4, 16, 1000)):\n",
    "    # Takes in a 2D array of multiple models' likelihood ratio predictions. \n",
    "    # Returns the average ratio of predicted likelihood to true likelihood and \n",
    "    # its error.\n",
    "    lrr_preds = preds / lr(xs)\n",
    "    return lrr_preds.mean(axis=0), lrr_preds.std(axis=0)\n",
    "    \n",
    "def lr_plot(ensembles,\n",
    "            title=None,\n",
    "            filename=None,\n",
    "            cs = ['brown', 'green', 'red', 'blue'],\n",
    "            lss = ['-', '--', '-.', ':'],\n",
    "            xs=np.linspace(0, 20, 1000)):\n",
    "            #xs=np.linspace(4, 16, 1000)):\n",
    "            #xs=np.linspace(-6, 6, 1000)):\n",
    "    # Takes in a list of pairs (lr_avg, lr_err). Plots them against the true \n",
    "    # likelihood.\n",
    "    fig, ax_1 = plt.subplots(figsize = (10, 6))\n",
    "    \n",
    "    # Plot true likelihood\n",
    "    plt.plot(xs, lr(xs), label = 'Exact', c='k', ls='-')\n",
    "    \n",
    "    # Plot model likelihoods\n",
    "    for i in range(len(ensembles)):\n",
    "        avg, err, lbl = ensembles[i]\n",
    "        plt.plot(xs, avg, label=lbl, c=cs[i], ls=lss[i])\n",
    "        #plt.fill_between(xs, avg - err, avg + err, color=cs[i], alpha=0.1)\n",
    "    plt.legend()\n",
    "    ax_1.minorticks_on()\n",
    "    ax_1.tick_params(direction='in', which='both',length=5)\n",
    "    plt.ylabel('Likelihood Ratio')\n",
    "\n",
    "    # Plot background and signal\n",
    "    ax_2 = ax_1.twinx()\n",
    "    #bins = np.linspace(4, 16, 100)\n",
    "    bins = np.linspace(0, 20, 100)\n",
    "    #bins = np.linspace(-6, 6, 100)\n",
    "    plt.hist(sgnl, alpha=0.1, bins=bins)\n",
    "    plt.hist(bkgd, alpha=0.1, bins=bins)\n",
    "    ax_2.minorticks_on()\n",
    "    ax_2.tick_params(direction='in', which='both',length=5)\n",
    "    plt.ylabel('Count')\n",
    "\n",
    "    plt.xlim(xs[0], xs[-1])\n",
    "    plt.xlabel(r'$x$')\n",
    "    #plt.title(r\"$\\mu_{\\rm{sgnl}}=\"+str(10.1)+r\", \\mu_{\\rm{bkgd}}=\"+str(9.9)+r\"$\",loc=\"right\",fontsize=20)\n",
    "    plt.title(r\"$r_{\\rm{sgnl}}=\"+str(r)+r\", r_{\\rm{bkgd}}=\"+str(r+1)+r\"$\",loc=\"right\",fontsize=20)\n",
    "    #plt.title(r\"$\\mu_{\\rm{sgnl}}=\"+str(mu)+r\", \\mu_{\\rm{bkgd}}=\"+str(-mu)+r\"$\",loc=\"right\",fontsize=20)\n",
    "    if title != None:\n",
    "        plt.title(title, loc=\"left\", fontsize=20)\n",
    "    if filename != None:\n",
    "        plt.savefig(filename, dpi=1200, bbox_inches='tight')\n",
    "\n",
    "def lrr_plot(ensembles,\n",
    "             title=None,\n",
    "             filename=None,\n",
    "             cs = ['brown', 'green', 'red', 'blue'],\n",
    "             lss = [':', '--', '-.', ':'],\n",
    "             xs=np.linspace(0, 20, 1000)):\n",
    "             #xs=np.linspace(4, 16, 1000)):\n",
    "             #xs=np.linspace(-6, 6, 1000)):\n",
    "    # Takes in a list of pairs (lrr_avg, lrr_err). Plots them.\n",
    "    fig, ax_1 = plt.subplots(figsize = (10, 6))\n",
    "    \n",
    "    # Plot ratios of likelihood ratios\n",
    "    for i in range(len(ensembles)):\n",
    "        avg, err, lbl = ensembles[i]\n",
    "        plt.plot(xs, avg, label=lbl, c=cs[i], ls=lss[i])\n",
    "        #plt.fill_between(xs, avg - err, avg + err, color=cs[i], alpha=0.1)\n",
    "    plt.axhline(1,ls=\":\",color=\"grey\", lw=0.5)\n",
    "    plt.axvline(0,ls=\":\",color=\"grey\", lw=0.5)\n",
    "    plt.legend()\n",
    "    ax_1.minorticks_on()\n",
    "    ax_1.tick_params(direction='in', which='both',length=5)\n",
    "    plt.ylim(0.94, 1.06)\n",
    "    plt.ylabel('Ratio')\n",
    "\n",
    "    # Plot background and signal\n",
    "    ax_2 = ax_1.twinx()\n",
    "    #bins = np.linspace(4, 16, 100)\n",
    "    bins = np.linspace(0, 20, 100)\n",
    "    #bins = np.linspace(-6, 6, 100)\n",
    "    plt.hist(sgnl, alpha=0.1, bins=bins)\n",
    "    plt.hist(bkgd, alpha=0.1, bins=bins)\n",
    "    ax_2.minorticks_on()\n",
    "    ax_2.tick_params(direction='in', which='both',length=5)\n",
    "    plt.ylabel('Count')\n",
    "\n",
    "    plt.xlim(xs[0], xs[-1])\n",
    "    plt.xlabel(r'$x$')\n",
    "    #plt.title(r\"$\\mu_{\\rm{sgnl}}=\"+str(10.1)+r\", \\mu_{\\rm{bkgd}}=\"+str(9.9)+r\"$\",loc=\"right\",fontsize=20)\n",
    "    plt.title(r\"$r_{\\rm{sgnl}}=\"+str(r)+r\", r_{\\rm{bkgd}}=\"+str(r+1)+r\"$\",loc=\"right\",fontsize=20)\n",
    "    #plt.title(r\"$\\mu_{\\rm{sgnl}}=\"+str(mu)+r\", \\mu_{\\rm{bkgd}}=\"+str(-mu)+r\"$\",loc=\"right\",fontsize=20)\n",
    "    if title != None:\n",
    "        plt.title(title, loc=\"left\", fontsize=20)\n",
    "    if filename != None:\n",
    "        plt.savefig(filename, dpi=1200, bbox_inches='tight')"
   ]
  },
  {
   "cell_type": "code",
   "execution_count": null,
   "metadata": {},
   "outputs": [],
   "source": [
    "1/0"
   ]
  },
  {
   "cell_type": "markdown",
   "metadata": {
    "jp-MarkdownHeadingCollapsed": true,
    "tags": []
   },
   "source": [
    "# BCE $C$ Parametrizations"
   ]
  },
  {
   "cell_type": "code",
   "execution_count": null,
   "metadata": {},
   "outputs": [],
   "source": [
    "num = 1\n",
    "reps = 10\n",
    "\n",
    "# Model parameters\n",
    "params_1 = {'loss':bce}\n",
    "params_2 = {'loss':square_bce, 'output':'linear'}\n",
    "params_3 = {'loss':exp_bce, 'output':'linear'}\n",
    "\n",
    "filestr_1 = 'models/bce_c_param/set_' + str(num) + '/linear/model_{}.h5'\n",
    "filestr_2 = 'models/bce_c_param/set_' + str(num) + '/square/model_{}.h5'\n",
    "filestr_3 = 'models/bce_c_param/set_' + str(num) + '/exp/model_{}.h5'"
   ]
  },
  {
   "cell_type": "code",
   "execution_count": null,
   "metadata": {},
   "outputs": [],
   "source": [
    "%%time\n",
    "# Train and save models\n",
    "\n",
    "for i in range(reps):\n",
    "    print(i, end = ' ')\n",
    "    model_1 = train(**params_1)\n",
    "    model_2 = train(**params_2)\n",
    "    model_3 = train(**params_3)\n",
    "    print()\n",
    "    model_1.save_weights(filestr_1.format(i))\n",
    "    model_2.save_weights(filestr_2.format(i))\n",
    "    model_3.save_weights(filestr_3.format(i))"
   ]
  },
  {
   "cell_type": "code",
   "execution_count": null,
   "metadata": {},
   "outputs": [],
   "source": [
    "# Get model likelihood ratios.\n",
    "lrs_1 = [None] * reps\n",
    "lrs_2 = [None] * reps\n",
    "lrs_3 = [None] * reps\n",
    "for i in range(reps):\n",
    "    model_1 = create_model(**params_1)\n",
    "    model_2 = create_model(**params_2)\n",
    "    model_3 = create_model(**params_3)\n",
    "    model_1.load_weights(filestr_1.format(i))\n",
    "    model_2.load_weights(filestr_2.format(i))\n",
    "    model_3.load_weights(filestr_3.format(i))\n",
    "    \n",
    "    lrs_1[i] = odds_lr(model_1)\n",
    "    lrs_2[i] = square_odds_lr(model_2)\n",
    "    lrs_3[i] = exp_odds_lr(model_3)"
   ]
  },
  {
   "cell_type": "code",
   "execution_count": null,
   "metadata": {},
   "outputs": [],
   "source": [
    "# Get average predictions and errors. Add on the labels for plotting.\n",
    "lr_1 = avg_lr(get_preds(lrs_1)) + ('BCE (linear)',)\n",
    "lr_2 = avg_lr(get_preds(lrs_2)) + ('BCE (square)',)\n",
    "lr_3 = avg_lr(get_preds(lrs_3)) + ('BCE (exponential)',)\n",
    "\n",
    "lrr_1 = avg_lrr(get_preds(lrs_1)) + ('BCE (linear)',)\n",
    "lrr_2 = avg_lrr(get_preds(lrs_2)) + ('BCE (square)',)\n",
    "lrr_3 = avg_lrr(get_preds(lrs_3)) + ('BCE (exponential)',)"
   ]
  },
  {
   "cell_type": "code",
   "execution_count": null,
   "metadata": {},
   "outputs": [],
   "source": [
    "lr_plot([lr_1, lr_2, lr_3], \n",
    "        r'BCE $C$ Parametrizations',\n",
    "        filename='plots/bce_c_param/set_{}/lrs.png'.format(num))"
   ]
  },
  {
   "cell_type": "code",
   "execution_count": null,
   "metadata": {},
   "outputs": [],
   "source": [
    "lrr_plot([lrr_1, lrr_2, lrr_3], \n",
    "         r'BCE $C$ Parametrizations',\n",
    "         filename='plots/bce_c_param/set_{}/lrrs.png'.format(num))"
   ]
  },
  {
   "cell_type": "markdown",
   "metadata": {
    "jp-MarkdownHeadingCollapsed": true,
    "tags": []
   },
   "source": [
    "# MSE $C$ Parametrizations"
   ]
  },
  {
   "cell_type": "code",
   "execution_count": null,
   "metadata": {},
   "outputs": [],
   "source": [
    "num = 1\n",
    "reps = 10\n",
    "\n",
    "# Model parameters\n",
    "params_1 = {'loss':mse}\n",
    "params_2 = {'loss':square_mse, 'output':'linear'}\n",
    "params_3 = {'loss':exp_mse, 'output':'linear'}\n",
    "\n",
    "filestr_1 = 'models/mse_c_param/set_' + str(num) + '/linear/model_{}.h5'\n",
    "filestr_2 = 'models/mse_c_param/set_' + str(num) + '/square/model_{}.h5'\n",
    "filestr_3 = 'models/mse_c_param/set_' + str(num) + '/exp/model_{}.h5'"
   ]
  },
  {
   "cell_type": "code",
   "execution_count": null,
   "metadata": {},
   "outputs": [],
   "source": [
    "%%time\n",
    "# Train and save models\n",
    "\n",
    "for i in range(reps):\n",
    "    print(i, end = ' ')\n",
    "    model_1 = train(**params_1)\n",
    "    model_2 = train(**params_2)\n",
    "    model_3 = train(**params_3)\n",
    "    print()\n",
    "    model_1.save_weights(filestr_1.format(i))\n",
    "    model_2.save_weights(filestr_2.format(i))\n",
    "    model_3.save_weights(filestr_3.format(i))"
   ]
  },
  {
   "cell_type": "code",
   "execution_count": null,
   "metadata": {},
   "outputs": [],
   "source": [
    "# Get model likelihood ratios.\n",
    "lrs_1 = [None] * reps\n",
    "lrs_2 = [None] * reps\n",
    "lrs_3 = [None] * reps\n",
    "for i in range(reps):\n",
    "    model_1 = create_model(**params_1)\n",
    "    model_2 = create_model(**params_2)\n",
    "    model_3 = create_model(**params_3)\n",
    "    model_1.load_weights(filestr_1.format(i))\n",
    "    model_2.load_weights(filestr_2.format(i))\n",
    "    model_3.load_weights(filestr_3.format(i))\n",
    "    \n",
    "    lrs_1[i] = odds_lr(model_1)\n",
    "    lrs_2[i] = square_odds_lr(model_2)\n",
    "    lrs_3[i] = exp_odds_lr(model_3)"
   ]
  },
  {
   "cell_type": "code",
   "execution_count": null,
   "metadata": {},
   "outputs": [],
   "source": [
    "# Get average predictions and errors. Add on the labels for plotting.\n",
    "lr_1 = avg_lr(get_preds(lrs_1)) + ('MSE (linear)',)\n",
    "lr_2 = avg_lr(get_preds(lrs_2)) + ('MSE (square)',)\n",
    "lr_3 = avg_lr(get_preds(lrs_3)) + ('MSE (exponential)',)\n",
    "\n",
    "lrr_1 = avg_lrr(get_preds(lrs_1)) + ('MSE (linear)',)\n",
    "lrr_2 = avg_lrr(get_preds(lrs_2)) + ('MSE (square)',)\n",
    "lrr_3 = avg_lrr(get_preds(lrs_3)) + ('MSE (exponential)',)"
   ]
  },
  {
   "cell_type": "code",
   "execution_count": null,
   "metadata": {},
   "outputs": [],
   "source": [
    "lr_plot([lr_1, lr_2, lr_3], \n",
    "        r'MSE $C$ Parametrizations',\n",
    "        filename='plots/mse_c_param/set_{}/lrs.png'.format(num))"
   ]
  },
  {
   "cell_type": "code",
   "execution_count": null,
   "metadata": {},
   "outputs": [],
   "source": [
    "lrr_plot([lrr_1, lrr_2, lrr_3], \n",
    "         r'MSE $C$ Parametrizations',\n",
    "         filename='plots/mse_c_param/set_{}/lrrs.png'.format(num))"
   ]
  },
  {
   "cell_type": "markdown",
   "metadata": {
    "jp-MarkdownHeadingCollapsed": true,
    "tags": []
   },
   "source": [
    "# MSE $A/B$ Parametrization"
   ]
  },
  {
   "cell_type": "code",
   "execution_count": null,
   "metadata": {},
   "outputs": [],
   "source": [
    "num = 0\n",
    "reps = 20\n",
    "\n",
    "ps = np.round(np.linspace(-4, 4, 161), 2)\n",
    "filestr = 'models/mse_ab_param/set_' + str(num) + '/model_{}_{}.h5'"
   ]
  },
  {
   "cell_type": "code",
   "execution_count": null,
   "metadata": {},
   "outputs": [],
   "source": [
    "# Train models\n",
    "for p in ps:\n",
    "    print('===================================================\\n{}'.format(p))\n",
    "    params = {'loss': get_mse(p)}\n",
    "    for i in range(reps):\n",
    "        print(i, end = ' ')\n",
    "        model = train(**params)\n",
    "        print()\n",
    "        model.save_weights(filestr.format(p, i))"
   ]
  },
  {
   "cell_type": "code",
   "execution_count": null,
   "metadata": {},
   "outputs": [],
   "source": [
    "# Get model likelihood ratios.\n",
    "lrs = {}\n",
    "for p in ps:\n",
    "    print(p)\n",
    "    lrs[p] = [None] * reps\n",
    "    params = {'loss': get_mse(p)}\n",
    "    for i in range(reps):\n",
    "        model = create_model(**params)\n",
    "        model.load_weights(filestr.format(p, i))\n",
    "        lrs[p][i] = pow_odds_lr(model, p) #### FIX THIS\n",
    "        print(i, end = ' ')\n",
    "    print()"
   ]
  },
  {
   "cell_type": "code",
   "execution_count": null,
   "metadata": {},
   "outputs": [],
   "source": [
    "mae_avg = []\n",
    "mae_err = []\n",
    "\n",
    "for p in ps:\n",
    "    maes = [mae(lr) for lr in lrs[p]]\n",
    "    mae_avg += [np.mean(maes)]\n",
    "    mae_err += [np.std(maes)]\n",
    "    print(p, '\\t', mae_avg[-1])"
   ]
  },
  {
   "cell_type": "code",
   "execution_count": null,
   "metadata": {},
   "outputs": [],
   "source": [
    "mae_avg = np.array(mae_avg)\n",
    "mae_err = np.array(mae_err)"
   ]
  },
  {
   "cell_type": "code",
   "execution_count": null,
   "metadata": {},
   "outputs": [],
   "source": [
    "fig, ax = plt.subplots(figsize = (10, 6))\n",
    "\n",
    "plt.plot(ps, mae_avg, c='blue')\n",
    "\n",
    "plt.minorticks_on()\n",
    "plt.tick_params(direction='in', which='both',length=5)\n",
    "plt.ylim(0, 0.5)\n",
    "\n",
    "plt.ylabel('Mean Absolute Error')\n",
    "plt.xlabel(r'$p$')\n",
    "\n",
    "plt.title(r\"$\\mu_{\\rm{sgnl}}=\"+str(mu)+r\", \\mu_{\\rm{bkgd}}=\"+str(-mu)+r\"$\",\n",
    "          loc=\"right\",\n",
    "          fontsize=20);\n",
    "plt.title(r\"MSE $A/B$ Parametrization\",loc=\"left\",fontsize=20);\n",
    "plt.savefig('plots/mse_ab_param/set_{}/maes.png'.format(num), \n",
    "            dpi=1200, \n",
    "            bbox_inches='tight')"
   ]
  },
  {
   "cell_type": "markdown",
   "metadata": {
    "tags": []
   },
   "source": [
    "# MLC $C$ Parametrizations"
   ]
  },
  {
   "cell_type": "code",
   "execution_count": 9,
   "metadata": {},
   "outputs": [],
   "source": [
    "### Generate the data.\n",
    "N = 10**6\n",
    "r = 5\n",
    "lam = 1\n",
    "\n",
    "# Background is Gamma(r, λ). Signal is Gamma(r + 1, λ)\n",
    "bkgd = np.random.gamma(r, lam, N)\n",
    "sgnl = np.random.gamma(r + 1, lam, N)\n",
    "D = np.concatenate([bkgd, sgnl])\n",
    "X = (D - np.mean(D)) / np.std(D)\n",
    "y = np.concatenate([np.zeros(N), np.ones(N)])\n",
    "\n",
    "X_train, X_test, y_train, y_test = train_test_split(X, y)"
   ]
  },
  {
   "cell_type": "code",
   "execution_count": 10,
   "metadata": {},
   "outputs": [],
   "source": [
    "def lr(x):\n",
    "    #return np.exp(-10 + 11) * (10/11)**x\n",
    "    #return np.exp(-(1/(2 * sigma**2)) * ( (x - mu)**2 - (x + mu)**2))\n",
    "    r_1 = r\n",
    "    r_2 = r + 1\n",
    "    v_1 = lam\n",
    "    v_2 = lam\n",
    "    return v_2**r_2 * np.math.factorial(r_1 - 1) * x**(r_2 - r_1) * \\\n",
    "           np.exp(-(v_2 - v_1)*x) / (v_1**r_1 * np.math.factorial(r_2 - 1))"
   ]
  },
  {
   "cell_type": "code",
   "execution_count": 11,
   "metadata": {},
   "outputs": [],
   "source": [
    "num = 4\n",
    "reps = 100\n",
    "\n",
    "# Model parameters\n",
    "params_1 = {'loss':mlc, 'output':'relu'}\n",
    "params_2 = {'loss':square_mlc, 'output':'linear'}\n",
    "params_3 = {'loss':exp_mlc, 'output':'linear'}\n",
    "\n",
    "filestr_1 = 'models/mlc_c_param/set_' + str(num) + '/linear/model_{}.h5'\n",
    "filestr_2 = 'models/mlc_c_param/set_' + str(num) + '/square/model_{}.h5'\n",
    "filestr_3 = 'models/mlc_c_param/set_' + str(num) + '/exp/model_{}.h5'"
   ]
  },
  {
   "cell_type": "code",
   "execution_count": 12,
   "metadata": {
    "scrolled": true,
    "tags": []
   },
   "outputs": [
    {
     "name": "stdout",
     "output_type": "stream",
     "text": [
      "0 "
     ]
    },
    {
     "name": "stderr",
     "output_type": "stream",
     "text": [
      "2022-04-17 15:47:21.200291: I tensorflow/core/platform/cpu_feature_guard.cc:143] Your CPU supports instructions that this TensorFlow binary was not compiled to use: SSE4.1 SSE4.2 AVX AVX2 FMA\n",
      "2022-04-17 15:47:21.208990: I tensorflow/core/platform/profile_utils/cpu_utils.cc:102] CPU Frequency: 2994530000 Hz\n",
      "2022-04-17 15:47:21.210117: I tensorflow/compiler/xla/service/service.cc:168] XLA service 0x558b24235490 initialized for platform Host (this does not guarantee that XLA will be used). Devices:\n",
      "2022-04-17 15:47:21.210147: I tensorflow/compiler/xla/service/service.cc:176]   StreamExecutor device (0): Host, Default Version\n",
      "2022-04-17 15:47:21.333185: I tensorflow/compiler/xla/service/service.cc:168] XLA service 0x558b251e17b0 initialized for platform CUDA (this does not guarantee that XLA will be used). Devices:\n",
      "2022-04-17 15:47:21.333237: I tensorflow/compiler/xla/service/service.cc:176]   StreamExecutor device (0): Quadro RTX 6000, Compute Capability 7.5\n",
      "2022-04-17 15:47:21.335251: I tensorflow/core/common_runtime/gpu/gpu_device.cc:1561] Found device 0 with properties: \n",
      "pciBusID: 0000:01:00.0 name: Quadro RTX 6000 computeCapability: 7.5\n",
      "coreClock: 1.77GHz coreCount: 72 deviceMemorySize: 23.65GiB deviceMemoryBandwidth: 625.94GiB/s\n",
      "2022-04-17 15:47:21.335311: I tensorflow/stream_executor/platform/default/dso_loader.cc:44] Successfully opened dynamic library libcudart.so.10.1\n",
      "2022-04-17 15:47:21.335330: I tensorflow/stream_executor/platform/default/dso_loader.cc:44] Successfully opened dynamic library libcublas.so.10\n",
      "2022-04-17 15:47:21.335345: I tensorflow/stream_executor/platform/default/dso_loader.cc:44] Successfully opened dynamic library libcufft.so.10\n",
      "2022-04-17 15:47:21.335360: I tensorflow/stream_executor/platform/default/dso_loader.cc:44] Successfully opened dynamic library libcurand.so.10\n",
      "2022-04-17 15:47:21.335374: I tensorflow/stream_executor/platform/default/dso_loader.cc:44] Successfully opened dynamic library libcusolver.so.10\n",
      "2022-04-17 15:47:21.335389: I tensorflow/stream_executor/platform/default/dso_loader.cc:44] Successfully opened dynamic library libcusparse.so.10\n",
      "2022-04-17 15:47:21.335403: I tensorflow/stream_executor/platform/default/dso_loader.cc:44] Successfully opened dynamic library libcudnn.so.7\n",
      "2022-04-17 15:47:21.338412: I tensorflow/core/common_runtime/gpu/gpu_device.cc:1703] Adding visible gpu devices: 0\n",
      "2022-04-17 15:47:21.338449: I tensorflow/stream_executor/platform/default/dso_loader.cc:44] Successfully opened dynamic library libcudart.so.10.1\n",
      "2022-04-17 15:47:21.340846: I tensorflow/core/common_runtime/gpu/gpu_device.cc:1102] Device interconnect StreamExecutor with strength 1 edge matrix:\n",
      "2022-04-17 15:47:21.340858: I tensorflow/core/common_runtime/gpu/gpu_device.cc:1108]      0 \n",
      "2022-04-17 15:47:21.340867: I tensorflow/core/common_runtime/gpu/gpu_device.cc:1121] 0:   N \n",
      "2022-04-17 15:47:21.343993: I tensorflow/core/common_runtime/gpu/gpu_device.cc:1247] Created TensorFlow device (/job:localhost/replica:0/task:0/device:GPU:0 with 21426 MB memory) -> physical GPU (device: 0, name: Quadro RTX 6000, pci bus id: 0000:01:00.0, compute capability: 7.5)\n",
      "2022-04-17 15:47:22.067925: I tensorflow/stream_executor/platform/default/dso_loader.cc:44] Successfully opened dynamic library libcublas.so.10\n"
     ]
    },
    {
     "name": "stdout",
     "output_type": "stream",
     "text": [
      "-0.04680175706744194 -0.04675278067588806 -0.04638775810599327 \n",
      "1 -0.04685318470001221 -0.04659096896648407 -0.04666263237595558 \n",
      "2 -0.04677107185125351 -0.04681411758065224 -0.04648976773023605 \n",
      "3 -0.046866368502378464 -0.04681123420596123 -0.04671584069728851 \n",
      "4 -0.04686513915657997 -0.04680750146508217 -0.04661259800195694 \n",
      "5 -0.04675167798995972 -0.03712262585759163 -0.046616245061159134 \n",
      "6 -0.046694837510585785 -0.04675549641251564 -0.04642155021429062 \n",
      "7 -0.046844277530908585 -0.04111349210143089 -0.046763356775045395 \n",
      "8 -0.046697184443473816 -0.04058683663606644 -0.04662664234638214 \n",
      "9 -0.04679377004504204 -0.04660480469465256 -0.0463741309940815 \n",
      "10 -0.04681353271007538 -0.04674500599503517 -0.04655264690518379 \n",
      "11 -0.04680934548377991 -0.046446509659290314 -0.04640031233429909 \n",
      "12 -0.046685654670000076 -0.046845439821481705 -0.04652510583400726 \n",
      "13 -0.04667697474360466 -0.046873483806848526 -0.04674980044364929 \n",
      "14 -0.046722717583179474 -0.04677416384220123 -0.046620406210422516 \n",
      "15 -0.046760279685258865 -0.04664219170808792 -0.04657365381717682 \n",
      "16 -0.04682217910885811 -0.04034755751490593 -0.04642629995942116 \n",
      "17 -0.046843986958265305 -0.036552101373672485 -0.04673807695508003 \n",
      "18 -0.0468922033905983 -0.04680147022008896 -0.04619857668876648 \n",
      "19 -0.04681725054979324 -0.04679660126566887 -0.04631302133202553 \n",
      "20 -0.046804577112197876 -0.041823938488960266 -0.04639457166194916 \n",
      "21 -0.04649973288178444 -0.04014846310019493 -0.04656811058521271 \n",
      "22 -0.046796396374702454 -0.03188789635896683 -0.04661460220813751 \n",
      "23 -0.04661182314157486 -0.040487419813871384 -0.04654568433761597 \n",
      "24 -0.046842172741889954 -0.041199345141649246 -0.046731334179639816 \n",
      "25 -0.04666973277926445 -0.04680726304650307 -0.046535760164260864 \n",
      "26 -0.04687606915831566 -0.04071969538927078 -0.04633506387472153 \n",
      "27 -0.046767160296440125 -0.046709444373846054 -0.04665795713663101 \n",
      "28 -0.046684153378009796 -0.041711144149303436 -0.04648302495479584 \n",
      "29 -0.04681364446878433 -0.04635857045650482 -0.04668901488184929 \n",
      "30 -0.04662613570690155 -0.046625107526779175 -0.04660528153181076 \n",
      "31 -0.046883728355169296 -0.04668467119336128 -0.04638493061065674 \n",
      "32 -0.0468369759619236 -0.046755094081163406 -0.04660478234291077 \n",
      "33 -0.04677358642220497 -0.04029998555779457 -0.04666072502732277 \n",
      "34 -0.04687224328517914 -0.046758659183979034 -0.04646977409720421 \n",
      "35 -0.04683289676904678 -0.04664181172847748 -0.046563658863306046 \n",
      "36 -0.04686078429222107 -0.0467793270945549 -0.04667668044567108 \n",
      "37 -0.0467878058552742 -0.04641445353627205 -0.046646568924188614 \n",
      "38 -0.046450354158878326 -0.04670652747154236 -0.0464501716196537 \n",
      "39 -0.046861402690410614 -0.03696855530142784 -0.0466633215546608 \n",
      "40 -0.0468502976000309 -0.04629109427332878 -0.04650849848985672 \n",
      "41 -0.046709686517715454 -0.04043072834610939 -0.04644767567515373 \n",
      "42 -0.04686244577169418 -0.0465223453938961 -0.046700071543455124 \n",
      "43 -0.04679831489920616 -0.0468108244240284 -0.04659975692629814 \n",
      "44 -0.046859726309776306 -0.046536944806575775 -0.0465581938624382 \n",
      "45 -0.04670039936900139 -0.046676136553287506 -0.0463448129594326 \n",
      "46 -0.04689186438918114 -0.046426959335803986 -0.046534743160009384 \n",
      "47 -0.04685010015964508 -0.041908036917448044 -0.04649645462632179 \n",
      "48 -0.046800773590803146 -0.0467136949300766 -0.04642494395375252 \n",
      "49 -0.04674771800637245 -0.04676686227321625 -0.04647239297628403 \n",
      "50 -0.04664796590805054 -0.04674271494150162 -0.0464869886636734 \n",
      "51 -0.046814657747745514 -0.04676548391580582 -0.046548113226890564 \n",
      "52 -0.046805594116449356 -0.04088039696216583 -0.0465923547744751 \n",
      "53 -0.046856727451086044 -0.04661765322089195 -0.04606415331363678 \n",
      "54 -0.04690447449684143 -0.046442367136478424 -0.04664797708392143 \n",
      "55 -0.04681747779250145 -0.03907104581594467 -0.046481192111968994 \n",
      "56 -0.0467362254858017 -0.046673789620399475 -0.046247173100709915 \n",
      "57 -0.046764686703681946 -0.040811531245708466 -0.046207185834646225 \n",
      "58 -0.04686189070343971 -0.0468573197722435 -0.046463754028081894 \n",
      "59 -0.04687284305691719 -0.03984856233000755 -0.046380192041397095 \n",
      "60 -0.046896617859601974 -0.04684927314519882 -0.046426400542259216 \n",
      "61 -0.0467228889465332 -0.04078707471489906 -0.04662580043077469 \n",
      "62 -0.04677807167172432 -0.04664190486073494 -0.04646576568484306 \n",
      "63 -0.046839404851198196 -0.046826984733343124 -0.046732522547245026 \n",
      "64 -0.04683705419301987 -0.046501658856868744 -0.046639274805784225 \n",
      "65 -0.04685662314295769 -0.041436661034822464 -0.046464305371046066 \n",
      "66 -0.046809714287519455 -0.038217734545469284 -0.04640471190214157 \n",
      "67 -0.04682110995054245 -0.04662230983376503 -0.04665271192789078 \n",
      "68 -0.046834275126457214 -0.03900870308279991 -0.04653920233249664 \n",
      "69 -0.04686296358704567 -0.04654766246676445 -0.04644804820418358 \n",
      "70 -0.04682813212275505 -0.0465431809425354 -0.04651466757059097 \n",
      "71 -0.046685561537742615 -0.04663756117224693 -0.04654398187994957 \n",
      "72 -0.04680146276950836 -0.04684075713157654 -0.04651675745844841 \n",
      "73 -0.046898890286684036 -0.0384756475687027 -0.04670786112546921 \n",
      "74 -0.04685310274362564 -0.039079997688531876 -0.04661550745368004 \n",
      "75 -0.0467306412756443 -0.04684862121939659 -0.04661146178841591 \n",
      "76 -0.04682980477809906 -0.04631538316607475 -0.046632420271635056 \n",
      "77 -0.04686359316110611 -0.03801233321428299 -0.04638278856873512 \n",
      "78 -0.04687667265534401 -0.0401572622358799 -0.04644592106342316 \n",
      "79 -0.046886835247278214 -0.04669231176376343 -0.046723321080207825 \n",
      "80 -0.046726249158382416 -0.04667588323354721 -0.046485595405101776 \n",
      "81 -0.046829935163259506 -0.04042639583349228 -0.04642404615879059 \n",
      "82 -0.04680619016289711 -0.046789608895778656 -0.04667655751109123 \n",
      "83 -0.046780772507190704 -0.039664920419454575 -0.04657026380300522 \n",
      "84 -0.04680854082107544 -0.04668432101607323 -0.04658862203359604 \n",
      "85 -0.04686709865927696 -0.0465165413916111 -0.04664000868797302 \n",
      "86 -0.046841688454151154 -0.03663703426718712 -0.046367764472961426 \n",
      "87 -0.046781014651060104 -0.040112048387527466 -0.04654683545231819 \n",
      "88 -0.04680270329117775 -0.046451520174741745 -0.04612948000431061 \n",
      "89 -0.04683413356542587 -0.0467938557267189 -0.04664779454469681 \n",
      "90 -0.046872999519109726 -0.04678121954202652 -0.0467289537191391 \n",
      "91 -0.04688313230872154 -0.04676587134599686 -0.046219680458307266 \n",
      "92 -0.04671615734696388 -0.046839624643325806 -0.046338897198438644 \n",
      "93 -0.046785689890384674 -0.046776968985795975 -0.04663507640361786 \n",
      "94 -0.04684889316558838 -0.04656589776277542 -0.04659895598888397 \n",
      "95 -0.04661284387111664 -0.04672163352370262 -0.04634363204240799 \n",
      "96 -0.046828608959913254 -0.04675528034567833 -0.04665622115135193 \n",
      "97 -0.04674527049064636 -0.03778930380940437 -0.046530626714229584 \n",
      "98 -0.04661109298467636 -0.04676011949777603 -0.04643610119819641 \n",
      "99 -0.04684300720691681 -0.039640702307224274 -0.046457186341285706 \n",
      "CPU times: user 1h 19min 25s, sys: 2min 58s, total: 1h 22min 23s\n",
      "Wall time: 33min 11s\n"
     ]
    }
   ],
   "source": [
    "%%time\n",
    "# Train and save models\n",
    "\n",
    "for i in range(reps):\n",
    "    print(i, end = ' ')\n",
    "    model_1 = train(**params_1)\n",
    "    model_2 = train(**params_2)\n",
    "    model_3 = train(**params_3)\n",
    "    print()\n",
    "    model_1.save_weights(filestr_1.format(i))\n",
    "    model_2.save_weights(filestr_2.format(i))\n",
    "    model_3.save_weights(filestr_3.format(i))"
   ]
  },
  {
   "cell_type": "code",
   "execution_count": 13,
   "metadata": {},
   "outputs": [],
   "source": [
    "# Get model likelihood ratios.\n",
    "lrs_1 = [None] * reps\n",
    "lrs_2 = [None] * reps\n",
    "lrs_3 = [None] * reps\n",
    "for i in range(reps):\n",
    "    model_1 = create_model(**params_1)\n",
    "    model_2 = create_model(**params_2)\n",
    "    model_3 = create_model(**params_3)\n",
    "    model_1.load_weights(filestr_1.format(i))\n",
    "    model_2.load_weights(filestr_2.format(i))\n",
    "    model_3.load_weights(filestr_3.format(i))\n",
    "    \n",
    "    lrs_1[i] = pure_lr(model_1)\n",
    "    lrs_2[i] = square_lr(model_2)\n",
    "    lrs_3[i] = exp_lr(model_3)"
   ]
  },
  {
   "cell_type": "code",
   "execution_count": 14,
   "metadata": {
    "tags": []
   },
   "outputs": [
    {
     "name": "stderr",
     "output_type": "stream",
     "text": [
      "/tmp/ipykernel_27315/82558973.py:18: RuntimeWarning: divide by zero encountered in true_divide\n",
      "  lrr_preds = preds / lr(xs)\n",
      "/global/home/users/shahzar/anaconda3/envs/omnifold/lib/python3.8/site-packages/numpy/core/_methods.py:229: RuntimeWarning: invalid value encountered in subtract\n",
      "  x = asanyarray(arr - arrmean)\n"
     ]
    }
   ],
   "source": [
    "# Get average predictions and errors. Add on the labels for plotting.\n",
    "ds = np.linspace(0, 20, 1000)\n",
    "xs = (ds - np.mean(D)) / np.std(D)\n",
    "\n",
    "lr_1 = avg_lr(get_preds(lrs_1, xs)) + ('MLC (linear)',)\n",
    "lr_2 = avg_lr(get_preds(lrs_2, xs)) + ('MLC (square)',)\n",
    "lr_3 = avg_lr(get_preds(lrs_3, xs)) + ('MLC (exponential)',)\n",
    "\n",
    "lrr_1 = avg_lrr(get_preds(lrs_1, xs), ds) + ('MLC (linear)',)\n",
    "lrr_2 = avg_lrr(get_preds(lrs_2, xs), ds) + ('MLC (square)',)\n",
    "lrr_3 = avg_lrr(get_preds(lrs_3, xs), ds) + ('MLC (exponential)',)"
   ]
  },
  {
   "cell_type": "code",
   "execution_count": 15,
   "metadata": {
    "tags": []
   },
   "outputs": [
    {
     "data": {
      "image/png": "[encoded data removed]",
      "text/plain": [
       "<Figure size 720x432 with 2 Axes>"
      ]
     },
     "metadata": {
      "needs_background": "light"
     },
     "output_type": "display_data"
    }
   ],
   "source": [
    "lr_plot([lr_1, lr_2, lr_3], \n",
    "        r'MLC $C$ Parametrizations',\n",
    "        filename='plots/mlc_c_param/set_{}/lrs.png'.format(num))"
   ]
  },
  {
   "cell_type": "code",
   "execution_count": 16,
   "metadata": {},
   "outputs": [
    {
     "data": {
      "image/png": "[encoded data removed]",
      "text/plain": [
       "<Figure size 720x432 with 2 Axes>"
      ]
     },
     "metadata": {
      "needs_background": "light"
     },
     "output_type": "display_data"
    }
   ],
   "source": [
    "lrr_plot([lrr_1, lrr_2, lrr_3], \n",
    "         r'MLC $C$ Parametrizations',\n",
    "         filename='plots/mlc_c_param/set_{}/lrrs.png'.format(num))"
   ]
  },
  {
   "cell_type": "markdown",
   "metadata": {
    "tags": []
   },
   "source": [
    "# SQR $C$ Parametrizations"
   ]
  },
  {
   "cell_type": "code",
   "execution_count": 17,
   "metadata": {},
   "outputs": [],
   "source": [
    "### Generate the data.\n",
    "N = 10**6\n",
    "r = 5\n",
    "lam = 1\n",
    "\n",
    "# Background is Gamma(r, λ). Signal is Gamma(r + 1, λ)\n",
    "bkgd = np.random.gamma(r, lam, N)\n",
    "sgnl = np.random.gamma(r + 1, lam, N)\n",
    "D = np.concatenate([bkgd, sgnl])\n",
    "X = (D - np.mean(D)) / np.std(D)\n",
    "y = np.concatenate([np.zeros(N), np.ones(N)])\n",
    "\n",
    "X_train, X_test, y_train, y_test = train_test_split(X, y)"
   ]
  },
  {
   "cell_type": "code",
   "execution_count": 18,
   "metadata": {},
   "outputs": [],
   "source": [
    "def lr(x):\n",
    "    #return np.exp(-10 + 11) * (10/11)**x\n",
    "    #return np.exp(-(1/(2 * sigma**2)) * ( (x - mu)**2 - (x + mu)**2))\n",
    "    r_1 = r\n",
    "    r_2 = r + 1\n",
    "    v_1 = lam\n",
    "    v_2 = lam\n",
    "    return v_2**r_2 * np.math.factorial(r_1 - 1) * x**(r_2 - r_1) * \\\n",
    "           np.exp(-(v_2 - v_1)*x) / (v_1**r_1 * np.math.factorial(r_2 - 1))"
   ]
  },
  {
   "cell_type": "code",
   "execution_count": 19,
   "metadata": {},
   "outputs": [],
   "source": [
    "num = 4\n",
    "reps = 100\n",
    "\n",
    "# Model parameters\n",
    "params_1 = {'loss':sqr, 'output':'relu'}\n",
    "params_2 = {'loss':square_sqr, 'output':'linear'}\n",
    "params_3 = {'loss':exp_sqr, 'output':'linear'}\n",
    "\n",
    "filestr_1 = 'models/sqr_c_param/set_' + str(num) + '/linear/model_{}.h5'\n",
    "filestr_2 = 'models/sqr_c_param/set_' + str(num) + '/square/model_{}.h5'\n",
    "filestr_3 = 'models/sqr_c_param/set_' + str(num) + '/exp/model_{}.h5'"
   ]
  },
  {
   "cell_type": "code",
   "execution_count": 22,
   "metadata": {
    "scrolled": true,
    "tags": []
   },
   "outputs": [
    {
     "name": "stdout",
     "output_type": "stream",
     "text": [
      "0 0.9757168889045715 0.9795824885368347 0.9757412672042847 \n",
      "1 0.9759453535079956 1.1191786527633667 0.9757379293441772 \n",
      "2 0.9797337651252747 1.1798219680786133 0.9758560657501221 \n",
      "3 0.9761350154876709 0.9845009446144104 0.9756596088409424 \n",
      "4 0.9776108264923096 11.07643985748291 0.9758428931236267 \n",
      "5 0.975757360458374 0.9785449504852295 0.9757687449455261 \n",
      "6 0.9757046103477478 0.9761680960655212 0.9759781360626221 \n",
      "7 0.9766141176223755 0.9839410185813904 0.9757803678512573 \n",
      "8 0.9757776856422424 0.9757000207901001 0.9758175611495972 \n",
      "9 0.9758398532867432 0.988779604434967 0.9757117033004761 \n",
      "10 0.9768133759498596 1.005584478378296 0.9756378531455994 \n",
      "11 0.9761362671852112 0.977376401424408 0.9756782650947571 \n",
      "12 0.9757599234580994 5.069163799285889 0.9755889177322388 \n",
      "13 0.9768022894859314 0.9767839908599854 0.9756873846054077 \n",
      "14 0.9911940097808838 0.9852023720741272 0.9757843017578125 \n",
      "15 0.9762362241744995 0.9924392104148865 0.9757328629493713 \n",
      "16 0.9755674600601196 1.0473099946975708 0.9757057428359985 \n",
      "17 0.9758803844451904 1.2050247192382812 0.975698709487915 \n",
      "18 0.975852370262146 0.9885174036026001 0.9757283926010132 \n",
      "19 0.9760876297950745 1.1955387592315674 0.9760279655456543 \n",
      "20 0.9757946729660034 4.288798809051514 0.9757562875747681 \n",
      "21 0.9762913584709167 1.0890167951583862 0.9755262732505798 \n",
      "22 0.9755828976631165 0.9861013293266296 0.9755995869636536 \n",
      "23 0.9771955609321594 0.9859252572059631 0.9755937457084656 \n",
      "24 0.9756763577461243 1.6919411420822144 0.9757565259933472 \n",
      "25 0.9767504930496216 3.2678239345550537 0.9757204651832581 \n",
      "26 0.9756535291671753 1.0844924449920654 0.9756631851196289 \n",
      "27 0.9758990406990051 0.9757948517799377 0.975668728351593 \n",
      "28 0.9756720066070557 1.1294223070144653 0.9758212566375732 \n",
      "29 0.9756229519844055 0.9759030342102051 0.9757243990898132 \n",
      "30 0.9756048321723938 4.50360107421875 0.9758355021476746 \n",
      "31 0.9756487607955933 1.0920888185501099 0.9757466316223145 \n",
      "32 0.976372241973877 0.9774742722511292 0.9756414890289307 \n",
      "33 0.9756730198860168 0.9777383208274841 0.9756397604942322 \n",
      "34 0.9756439924240112 0.9773037433624268 0.9759231209754944 \n",
      "35 0.9774577021598816 1.062846302986145 0.975863516330719 \n",
      "36 0.9757728576660156 0.9757914543151855 0.9756879210472107 \n",
      "37 0.9763357043266296 0.9772782921791077 0.9757265448570251 \n",
      "38 0.9758388996124268 0.9793609976768494 0.9758865833282471 \n",
      "39 0.9755859375 1.3914772272109985 0.9756331443786621 \n",
      "40 0.9755907654762268 1.2261489629745483 0.975635826587677 \n",
      "41 0.976266622543335 0.9763421416282654 0.9757421612739563 \n",
      "42 0.9758492708206177 1.2148892879486084 0.975822925567627 \n",
      "43 0.9758491516113281 1.3631703853607178 0.9757223725318909 \n",
      "44 0.9761581420898438 1.2195992469787598 0.9755919575691223 \n",
      "45 0.9833479523658752 6.057100772857666 0.9757234454154968 \n",
      "46 0.9759223461151123 0.9759535193443298 0.9756993055343628 \n",
      "47 0.975796639919281 1.1285107135772705 0.9758316278457642 \n",
      "48 0.9762676358222961 1.1481730937957764 0.975681722164154 \n",
      "49 0.9757041335105896 1.6441062688827515 0.9756905436515808 \n",
      "50 0.975909411907196 1.089779019355774 0.9756871461868286 \n",
      "51 0.9780120253562927 0.9769966006278992 0.9758994579315186 \n",
      "52 0.9775428771972656 0.9764531254768372 0.975601851940155 \n",
      "53 0.9759862422943115 0.9764410257339478 0.975744366645813 \n",
      "54 0.975904643535614 7.891478061676025 0.9757688641548157 \n",
      "55 0.9757969975471497 1.1922719478607178 0.9757727980613708 \n",
      "56 0.9755247235298157 0.9761412739753723 0.9757161140441895 \n",
      "57 0.9760274887084961 1.3895485401153564 0.9758812785148621 \n",
      "58 0.9760316014289856 0.976659893989563 0.9757761359214783 \n",
      "59 0.9757983684539795 1.0810459852218628 0.9756919741630554 \n",
      "60 0.9758114814758301 1.097383975982666 0.9758068919181824 \n",
      "61 0.9764558672904968 0.9821475744247437 0.9757840633392334 \n",
      "62 0.9760770797729492 0.98098224401474 0.975605845451355 \n",
      "63 0.9757958650588989 1.017724633216858 0.9757092595100403 \n",
      "64 0.9765592217445374 0.9823668599128723 0.9756731390953064 \n",
      "65 0.9757655262947083 0.9782571196556091 0.9756815433502197 \n",
      "66 0.9758532643318176 0.9765545129776001 0.975681483745575 \n",
      "67 0.9759215116500854 15.093360900878906 0.9758495092391968 \n",
      "68 0.9756404757499695 0.9761223196983337 0.975850522518158 \n",
      "69 0.9756453633308411 0.9811026453971863 0.9757410883903503 \n",
      "70 0.9756191372871399 0.9766981601715088 0.9756361842155457 \n",
      "71 0.975718080997467 0.991499662399292 0.9756879210472107 \n",
      "72 0.9759717583656311 18.46009063720703 0.9757333993911743 \n",
      "73 0.9756356477737427 0.9776073694229126 0.9757601022720337 \n",
      "74 0.9758197665214539 1.0365420579910278 0.9757793545722961 \n",
      "75 0.9755885601043701 2.513369083404541 0.9759186506271362 \n",
      "76 0.975820004940033 4.008857727050781 0.9756612777709961 \n",
      "77 0.9763402342796326 0.9849633574485779 0.9756761193275452 \n",
      "78 0.9757089018821716 0.9767727255821228 0.9759194254875183 \n",
      "79 0.976120114326477 1.3483607769012451 0.9755703806877136 \n",
      "80 0.9755998849868774 1.0216482877731323 0.9756718873977661 \n",
      "81 0.9757471680641174 3.9631965160369873 0.9756633639335632 \n",
      "82 0.975666880607605 0.9844573736190796 0.9757521152496338 \n",
      "83 0.9755676984786987 0.9759734869003296 0.9757411479949951 \n",
      "84 0.9758656024932861 0.9765269160270691 0.9756627678871155 \n",
      "85 0.9756608009338379 1.149770736694336 0.975582480430603 \n",
      "86 0.9757093191146851 0.9761345386505127 0.9756987690925598 \n",
      "87 0.9762018918991089 1.0084433555603027 0.9757224321365356 \n",
      "88 0.9760046005249023 1.0728188753128052 0.9756364822387695 \n",
      "89 0.9761881232261658 1.8856667280197144 0.9757879972457886 \n",
      "90 0.9758704900741577 nan 0.9758917689323425 \n",
      "91 0.9757219552993774 0.9895111918449402 0.9757330417633057 \n",
      "92 0.9756868481636047 0.9760514497756958 0.9756262898445129 \n",
      "93 0.9759367108345032 4.746169567108154 0.975645124912262 \n",
      "94 0.9758322238922119 2.2403886318206787 0.9757915139198303 \n",
      "95 0.9757793545722961 12.90196418762207 0.9757300019264221 \n",
      "96 0.9755851030349731 33.44485092163086 0.9757913947105408 \n",
      "97 0.9757428765296936 0.9838243722915649 0.9756567478179932 \n",
      "98 0.9755281209945679 1.017325520515442 0.9758331179618835 \n",
      "99 0.975896954536438 0.9771861433982849 0.9757113456726074 \n",
      "CPU times: user 1h 44min 8s, sys: 3min 53s, total: 1h 48min 2s\n",
      "Wall time: 43min 41s\n"
     ]
    }
   ],
   "source": [
    "%%time\n",
    "# Train and save models\n",
    "\n",
    "for i in range(reps):\n",
    "    print(i, end = ' ')\n",
    "    model_1 = train(**params_1)\n",
    "    model_2 = train(**params_2)\n",
    "    model_3 = train(**params_3)\n",
    "    print()\n",
    "    model_1.save_weights(filestr_1.format(i))\n",
    "    model_2.save_weights(filestr_2.format(i))\n",
    "    model_3.save_weights(filestr_3.format(i))"
   ]
  },
  {
   "cell_type": "code",
   "execution_count": 23,
   "metadata": {},
   "outputs": [],
   "source": [
    "# Get model likelihood ratios.\n",
    "lrs_1 = [None] * reps\n",
    "lrs_2 = [None] * reps\n",
    "lrs_3 = [None] * reps\n",
    "for i in range(reps):\n",
    "    model_1 = create_model(**params_1)\n",
    "    model_2 = create_model(**params_2)\n",
    "    model_3 = create_model(**params_3)\n",
    "    model_1.load_weights(filestr_1.format(i))\n",
    "    model_2.load_weights(filestr_2.format(i))\n",
    "    model_3.load_weights(filestr_3.format(i))\n",
    "    \n",
    "    lrs_1[i] = pure_lr(model_1)\n",
    "    lrs_2[i] = square_lr(model_2)\n",
    "    lrs_3[i] = exp_lr(model_3)"
   ]
  },
  {
   "cell_type": "code",
   "execution_count": 24,
   "metadata": {},
   "outputs": [
    {
     "name": "stderr",
     "output_type": "stream",
     "text": [
      "/tmp/ipykernel_27315/82558973.py:18: RuntimeWarning: divide by zero encountered in true_divide\n",
      "  lrr_preds = preds / lr(xs)\n",
      "/global/home/users/shahzar/anaconda3/envs/omnifold/lib/python3.8/site-packages/numpy/core/_methods.py:229: RuntimeWarning: invalid value encountered in subtract\n",
      "  x = asanyarray(arr - arrmean)\n"
     ]
    }
   ],
   "source": [
    "# Get average predictions and errors. Add on the labels for plotting.\n",
    "ds = np.linspace(0, 20, 1000)\n",
    "xs = (ds - np.mean(D)) / np.std(D)\n",
    "\n",
    "lr_1 = avg_lr(get_preds(lrs_1, xs)) + ('SQR (linear)',)\n",
    "lr_2 = avg_lr(get_preds(lrs_2, xs)) + ('SQR (square)',)\n",
    "lr_3 = avg_lr(get_preds(lrs_3, xs)) + ('SQR (exponential)',)\n",
    "\n",
    "lrr_1 = avg_lrr(get_preds(lrs_1, xs), ds) + ('SQR (linear)',)\n",
    "lrr_2 = avg_lrr(get_preds(lrs_2, xs), ds) + ('SQR (square)',)\n",
    "lrr_3 = avg_lrr(get_preds(lrs_3, xs), ds) + ('SQR (exponential)',)"
   ]
  },
  {
   "cell_type": "code",
   "execution_count": 25,
   "metadata": {},
   "outputs": [
    {
     "data": {
      "image/png": "[encoded data removed]",
      "text/plain": [
       "<Figure size 720x432 with 2 Axes>"
      ]
     },
     "metadata": {
      "needs_background": "light"
     },
     "output_type": "display_data"
    }
   ],
   "source": [
    "lr_plot([lr_1, lr_2, lr_3], \n",
    "        title=r'SQR $C$ Parametrizations',\n",
    "        filename='plots/sqr_c_param/set_{}/lrs.png'.format(num))"
   ]
  },
  {
   "cell_type": "code",
   "execution_count": 26,
   "metadata": {
    "tags": []
   },
   "outputs": [
    {
     "data": {
      "image/png": "[encoded data removed]",
      "text/plain": [
       "<Figure size 720x432 with 2 Axes>"
      ]
     },
     "metadata": {
      "needs_background": "light"
     },
     "output_type": "display_data"
    }
   ],
   "source": [
    "lrr_plot([lrr_1, lrr_2, lrr_3], \n",
    "         title=r'SQR $C$ Parametrizations',\n",
    "         filename='plots/sqr_c_param/set_{}/lrrs.png'.format(num))"
   ]
  },
  {
   "cell_type": "markdown",
   "metadata": {
    "jp-MarkdownHeadingCollapsed": true,
    "tags": []
   },
   "source": [
    "# SQR $A$/$B$ Parametrizations"
   ]
  },
  {
   "cell_type": "code",
   "execution_count": null,
   "metadata": {},
   "outputs": [],
   "source": [
    "num = 3\n",
    "reps = 20\n",
    "\n",
    "ps = np.round(np.linspace(-2, 2, 81), 2)\n",
    "sqr_filestr = 'models/sqr_ab_param/set_' + str(num) + '/linear/model_{}_{}.h5'\n",
    "exp_filestr = 'models/sqr_ab_param/set_' + str(num) + '/exp/model_{}_{}.h5'"
   ]
  },
  {
   "cell_type": "code",
   "execution_count": null,
   "metadata": {},
   "outputs": [],
   "source": [
    "# Train models\n",
    "for p in ps:\n",
    "    print('===================================================\\n{}'.format(p))\n",
    "    sqr_params = {'loss': get_sqr(p), 'output':'relu'}\n",
    "    exp_params = {'loss': get_exp_sqr(p), 'output':'linear'}\n",
    "    for i in range(reps):\n",
    "        print(i, end = ' ')\n",
    "        sqr_model = train(**sqr_params)\n",
    "        exp_model = train(**exp_params)\n",
    "        print()\n",
    "        sqr_model.save_weights(sqr_filestr.format(p, i))\n",
    "        exp_model.save_weights(exp_filestr.format(p, i))"
   ]
  },
  {
   "cell_type": "code",
   "execution_count": null,
   "metadata": {
    "scrolled": true,
    "tags": []
   },
   "outputs": [],
   "source": [
    "# Get model likelihood ratios.\n",
    "sqr_lrs = {}\n",
    "exp_lrs = {}\n",
    "for p in ps:\n",
    "    print(p)\n",
    "    sqr_lrs[p] = [None] * reps\n",
    "    exp_lrs[p] = [None] * reps\n",
    "    sqr_params = {'loss': get_sqr(p), 'output':'relu'}\n",
    "    exp_params = {'loss': get_exp_sqr(p), 'output':'linear'}\n",
    "    for i in range(reps):\n",
    "        sqr_model = create_model(**sqr_params)\n",
    "        exp_model = create_model(**exp_params)\n",
    "        sqr_model.load_weights(sqr_filestr.format(p, i))\n",
    "        exp_model.load_weights(exp_filestr.format(p, i))\n",
    "        sqr_lrs[p][i] = pow_lr(sqr_model, p)\n",
    "        exp_lrs[p][i] = exp_pow_lr(exp_model, p)\n",
    "        print(i, end = ' ')\n",
    "    print()"
   ]
  },
  {
   "cell_type": "code",
   "execution_count": null,
   "metadata": {
    "scrolled": true,
    "tags": []
   },
   "outputs": [],
   "source": [
    "sqr_mae_avg = []\n",
    "sqr_mae_err = []\n",
    "exp_mae_avg = []\n",
    "exp_mae_err = []\n",
    "\n",
    "for p in ps:\n",
    "    sqr_maes = [mae(lr) for lr in sqr_lrs[p]]\n",
    "    exp_maes = [mae(lr) for lr in exp_lrs[p]]\n",
    "    sqr_mae_avg += [np.mean(sqr_maes)]\n",
    "    sqr_mae_err += [np.std(sqr_maes)]\n",
    "    exp_mae_avg += [np.mean(exp_maes)]\n",
    "    exp_mae_err += [np.std(exp_maes)]\n",
    "    print(p, '\\t', sqr_mae_avg[-1], '\\t', exp_mae_avg[-1])\n",
    "    print(p, '\\t', sqr_mae_avg[-1])"
   ]
  },
  {
   "cell_type": "code",
   "execution_count": null,
   "metadata": {},
   "outputs": [],
   "source": [
    "sqr_mae_avg = np.array(sqr_mae_avg)\n",
    "sqr_mae_err = np.array(sqr_mae_err)\n",
    "exp_mae_avg = np.array(exp_mae_avg)\n",
    "exp_mae_err = np.array(exp_mae_err)"
   ]
  },
  {
   "cell_type": "code",
   "execution_count": null,
   "metadata": {
    "tags": []
   },
   "outputs": [],
   "source": [
    "fig, ax = plt.subplots(figsize = (10, 6))\n",
    "\n",
    "plt.plot(ps, sqr_mae_avg, c='blue', label='linear')\n",
    "plt.plot(ps, exp_mae_avg, c='red', label='exponential')\n",
    "plt.legend()\n",
    "\n",
    "plt.minorticks_on()\n",
    "plt.tick_params(direction='in', which='both',length=5)\n",
    "plt.ylabel('Mean Absolute Error')\n",
    "plt.xlabel(r'$p$')\n",
    "\n",
    "plt.title(r\"$\\mu_{\\rm{sgnl}}=\"+str(mu)+r\", \\mu_{\\rm{bkgd}}=\"+str(-mu)+r\"$\",\n",
    "          loc=\"right\",\n",
    "          fontsize=20);\n",
    "plt.title(r\"SQR $A/B$ Parametrization\",loc=\"left\",fontsize=20);\n",
    "plt.savefig('plots/sqr_ab_param/set_{}/maes.png'.format(num), \n",
    "            dpi=1200, \n",
    "            bbox_inches='tight')"
   ]
  },
  {
   "cell_type": "markdown",
   "metadata": {
    "jp-MarkdownHeadingCollapsed": true,
    "tags": []
   },
   "source": [
    "# Loss Comparisons"
   ]
  },
  {
   "cell_type": "code",
   "execution_count": null,
   "metadata": {},
   "outputs": [],
   "source": [
    "num = 1\n",
    "reps = 100\n",
    "Ns = 10**np.arange(2, 8)\n",
    "\n",
    "# Model parameters\n",
    "bce_params = {'loss':bce}\n",
    "mse_params = {'loss':mse}\n",
    "mlc_params = {'loss':exp_mlc, 'output':'linear'}\n",
    "sqr_params = {'loss':exp_sqr, 'output':'linear'}\n",
    "\n",
    "bce_filestr = 'models/loss_comp/set_' + str(num) + '/bce/model_{}_{}.h5'\n",
    "mse_filestr = 'models/loss_comp/set_' + str(num) + '/mse/model_{}_{}.h5'\n",
    "mlc_filestr = 'models/loss_comp/set_' + str(num) + '/mlc/model_{}_{}.h5'\n",
    "sqr_filestr = 'models/loss_comp/set_' + str(num) + '/sqr/model_{}_{}.h5'"
   ]
  },
  {
   "cell_type": "code",
   "execution_count": null,
   "metadata": {
    "scrolled": true,
    "tags": []
   },
   "outputs": [],
   "source": [
    "# Train models\n",
    "%%time\n",
    "\n",
    "for N in Ns:\n",
    "    print('===================================================\\n{}'.format(N))\n",
    "    # Generate data\n",
    "    bkgd = np.random.normal(-mu, sigma, N)\n",
    "    sgnl = np.random.normal(mu, sigma, N)\n",
    "    X = np.concatenate([bkgd, sgnl])\n",
    "    y = np.concatenate([np.zeros(N), np.ones(N)])\n",
    "\n",
    "    X_train, X_test, y_train, y_test = train_test_split(X, y)\n",
    "    \n",
    "    for i in range(reps):\n",
    "        print(i, end = ' ')\n",
    "        bce_model = train(**bce_params)\n",
    "        mse_model = train(**mse_params)\n",
    "        mlc_model = train(**mlc_params)\n",
    "        sqr_model = train(**sqr_params)\n",
    "        print()\n",
    "        bce_model.save_weights(bce_filestr.format(N, i))\n",
    "        mse_model.save_weights(mse_filestr.format(N, i))\n",
    "        mlc_model.save_weights(mlc_filestr.format(N, i))\n",
    "        sqr_model.save_weights(sqr_filestr.format(N, i))"
   ]
  },
  {
   "cell_type": "markdown",
   "metadata": {
    "jp-MarkdownHeadingCollapsed": true,
    "tags": []
   },
   "source": [
    "## Mean Absolute Error"
   ]
  },
  {
   "cell_type": "code",
   "execution_count": null,
   "metadata": {},
   "outputs": [],
   "source": [
    "# Calculate mean absolute errors\n",
    "bce_mae_avg = []\n",
    "mse_mae_avg = []\n",
    "mlc_mae_avg = []\n",
    "sqr_mae_avg = []\n",
    "\n",
    "bce_mae_err = []\n",
    "mse_mae_err = []\n",
    "mlc_mae_err = []\n",
    "sqr_mae_err = []\n",
    "\n",
    "for N in Ns:\n",
    "    print(N)\n",
    "    bce_lrs = [None] * reps\n",
    "    mse_lrs = [None] * reps\n",
    "    mlc_lrs = [None] * reps\n",
    "    sqr_lrs = [None] * reps\n",
    "    for i in range(reps):\n",
    "        bce_model = create_model(**bce_params)\n",
    "        bce_model.load_weights(bce_filestr.format(N, i))\n",
    "        bce_lrs[i] = odds_lr(bce_model)\n",
    "\n",
    "        mse_model = create_model(**mse_params)\n",
    "        mse_model.load_weights(mse_filestr.format(N, i))\n",
    "        mse_lrs[i] = odds_lr(mse_model)\n",
    "\n",
    "        mlc_model = create_model(**mlc_params)\n",
    "        mlc_model.load_weights(mlc_filestr.format(N, i))\n",
    "        mlc_lrs[i] = exp_lr(mlc_model)\n",
    "\n",
    "        sqr_model = create_model(**sqr_params)\n",
    "        sqr_model.load_weights(sqr_filestr.format(N, i))\n",
    "        sqr_lrs[i] = exp_lr(sqr_model)\n",
    "    \n",
    "    bce_maes = [mae(lr) for lr in bce_lrs]\n",
    "    mse_maes = [mae(lr) for lr in mse_lrs]\n",
    "    mlc_maes = [mae(lr) for lr in mlc_lrs]\n",
    "    sqr_maes = [mae(lr) for lr in sqr_lrs]\n",
    "    \n",
    "    bce_mae_avg += [np.mean(bce_maes)]\n",
    "    bce_mae_err += [np.std(bce_maes)]\n",
    "    \n",
    "    mse_mae_avg += [np.mean(mse_maes)]\n",
    "    mse_mae_err += [np.std(mse_maes)]\n",
    "    \n",
    "    mlc_mae_avg += [np.mean(mlc_maes)]\n",
    "    mlc_mae_err += [np.std(mlc_maes)]\n",
    "    \n",
    "    sqr_mae_avg += [np.mean(sqr_maes)]\n",
    "    sqr_mae_err += [np.std(sqr_maes)]\n",
    "\n",
    "bce_mae_avg = np.array(bce_mae_avg)\n",
    "mse_mae_avg = np.array(mse_mae_avg)\n",
    "mlc_mae_avg = np.array(mlc_mae_avg)\n",
    "sqr_mae_avg = np.array(sqr_mae_avg)\n",
    "\n",
    "bce_mae_err = np.array(bce_mae_err)\n",
    "mse_mae_err = np.array(mse_mae_err)\n",
    "mlc_mae_err = np.array(mlc_mae_err)\n",
    "sqr_mae_err = np.array(sqr_mae_err)"
   ]
  },
  {
   "cell_type": "code",
   "execution_count": null,
   "metadata": {},
   "outputs": [],
   "source": [
    "fig, ax = plt.subplots(figsize = (10, 6))\n",
    "\n",
    "plt.plot(Ns, bce_mae_avg, c='brown', ls=':', label='BCE')\n",
    "plt.plot(Ns, mse_mae_avg, c='green', ls='--', label='MSE')\n",
    "plt.plot(Ns, mlc_mae_avg, c='red', ls='--', label='MLC')\n",
    "plt.plot(Ns, sqr_mae_avg, c='blue', ls='-.', label='SQR')\n",
    "#plt.fill_between(Ns, bce_mae_avg - bce_mae_err, bce_mae_avg + bce_mae_err, color='brown', alpha=0.1)\n",
    "#plt.fill_between(Ns, mse_mae_avg - mse_mae_err, mse_mae_avg + mse_mae_err, color='green', alpha=0.1)\n",
    "#plt.fill_between(Ns, mlc_mae_avg - mlc_mae_err, mlc_mae_avg + mlc_mae_err, color='red', alpha=0.1)\n",
    "#plt.fill_between(Ns, sqr_mae_avg - sqr_mae_err, sqr_mae_avg + sqr_mae_err, color='blue', alpha=0.1)\n",
    "plt.legend()\n",
    "\n",
    "plt.xscale(\"log\", base=10)\n",
    "plt.minorticks_on()\n",
    "plt.tick_params(direction='in', which='both',length=5)\n",
    "plt.ylabel('Mean Absolute Error')\n",
    "plt.xlabel(r'$N$')\n",
    "\n",
    "plt.title(r\"$\\mu_{\\rm{sgnl}}=\"+str(mu)+r\", \\mu_{\\rm{bkgd}}=\"+str(-mu)+r\"$\",\n",
    "          loc=\"right\",\n",
    "          fontsize=20);\n",
    "plt.savefig('plots/loss_comp/set_{}/maes.png'.format(num),\n",
    "            dpi=1200, \n",
    "            bbox_inches='tight')"
   ]
  },
  {
   "cell_type": "markdown",
   "metadata": {
    "jp-MarkdownHeadingCollapsed": true,
    "tags": []
   },
   "source": [
    "## Likelihood Ratios"
   ]
  },
  {
   "cell_type": "code",
   "execution_count": null,
   "metadata": {},
   "outputs": [],
   "source": [
    "N = 10**6\n",
    "reps = 100"
   ]
  },
  {
   "cell_type": "code",
   "execution_count": null,
   "metadata": {},
   "outputs": [],
   "source": [
    "# Load in models.\n",
    "bce_lrs = [None] * reps\n",
    "mse_lrs = [None] * reps\n",
    "mlc_lrs = [None] * reps\n",
    "sqr_lrs = [None] * reps\n",
    "for i in range(reps):\n",
    "    bce_model = create_model(**bce_params)\n",
    "    bce_model.load_weights(bce_filestr.format(N, i))\n",
    "    bce_lrs[i] = odds_lr(bce_model)\n",
    "    \n",
    "    mse_model = create_model(**mse_params)\n",
    "    mse_model.load_weights(mse_filestr.format(N, i))\n",
    "    mse_lrs[i] = odds_lr(mse_model)\n",
    "    \n",
    "    mlc_model = create_model(**mlc_params)\n",
    "    mlc_model.load_weights(mlc_filestr.format(N, i))\n",
    "    mlc_lrs[i] = exp_lr(mlc_model)\n",
    "    \n",
    "    sqr_model = create_model(**sqr_params)\n",
    "    sqr_model.load_weights(sqr_filestr.format(N, i))\n",
    "    sqr_lrs[i] = exp_lr(sqr_model)"
   ]
  },
  {
   "cell_type": "code",
   "execution_count": null,
   "metadata": {},
   "outputs": [],
   "source": [
    "bce_lr = avg_lr(get_preds(bce_lrs)) + ('BCE',)\n",
    "mse_lr = avg_lr(get_preds(mse_lrs)) + ('MSE',)\n",
    "mlc_lr = avg_lr(get_preds(mlc_lrs)) + ('MLC',)\n",
    "sqr_lr = avg_lr(get_preds(sqr_lrs)) + ('SQR',)\n",
    "\n",
    "bce_lrr = avg_lrr(get_preds(bce_lrs)) + ('BCE',)\n",
    "mse_lrr = avg_lrr(get_preds(mse_lrs)) + ('MSE',)\n",
    "mlc_lrr = avg_lrr(get_preds(mlc_lrs)) + ('MLC',)\n",
    "sqr_lrr = avg_lrr(get_preds(sqr_lrs)) + ('SQR',)"
   ]
  },
  {
   "cell_type": "code",
   "execution_count": null,
   "metadata": {},
   "outputs": [],
   "source": [
    "lr_plot([bce_lr, mse_lr, mlc_lr, sqr_lr], \n",
    "        filename='plots/loss_comp/set_{}/lrs.png'.format(num))"
   ]
  },
  {
   "cell_type": "code",
   "execution_count": null,
   "metadata": {
    "tags": []
   },
   "outputs": [],
   "source": [
    "lrr_plot([bce_lrr, mse_lrr, mlc_lrr, sqr_lrr], \n",
    "         filename='plots/loss_comp/set_{}/lrrs.png'.format(num))"
   ]
  },
  {
   "cell_type": "code",
   "execution_count": null,
   "metadata": {},
   "outputs": [],
   "source": [
    "bce_mae = np.mean([mae(lr) for lr in bce_lrs])\n",
    "mse_mae = np.mean([mae(lr) for lr in mse_lrs])\n",
    "mlc_mae = np.mean([mae(lr) for lr in mlc_lrs])\n",
    "sqr_mae = np.mean([mae(lr) for lr in sqr_lrs])"
   ]
  },
  {
   "cell_type": "code",
   "execution_count": null,
   "metadata": {},
   "outputs": [],
   "source": [
    "print(bce_mae, mse_mae, mlc_mae, sqr_mae)"
   ]
  },
  {
   "cell_type": "markdown",
   "metadata": {
    "jp-MarkdownHeadingCollapsed": true,
    "tags": []
   },
   "source": [
    "# Interpolation Test"
   ]
  },
  {
   "cell_type": "code",
   "execution_count": null,
   "metadata": {},
   "outputs": [],
   "source": [
    "num = 5\n",
    "N = 10**6\n",
    "mus = np.round(np.linspace(0.1, 1.5, 15), 2)\n",
    "sigma = 1\n",
    "\n",
    "reps = 50\n",
    "\n",
    "# Model parameters\n",
    "bce_params = {'loss':bce, 'verbose':0}\n",
    "mse_params = {'loss':mse, 'verbose':0}\n",
    "mlc_params = {'loss':exp_mlc, 'output':'linear', 'verbose':0}\n",
    "sqr_params = {'loss':exp_sqr, 'output':'linear', 'verbose':0}\n",
    "\n",
    "bce_filestr = 'models/interp/set_' + str(num) + '/bce/model_{}_{}.h5'\n",
    "mse_filestr = 'models/interp/set_' + str(num) + '/mse/model_{}_{}.h5'\n",
    "mlc_filestr = 'models/interp/set_' + str(num) + '/mlc/model_{}_{}.h5'\n",
    "sqr_filestr = 'models/interp/set_' + str(num) + '/sqr/model_{}_{}.h5'"
   ]
  },
  {
   "cell_type": "code",
   "execution_count": null,
   "metadata": {
    "scrolled": true,
    "tags": []
   },
   "outputs": [],
   "source": [
    "%%time\n",
    "\n",
    "for mu in mus:\n",
    "    print('===================================================\\n{}'.format(mu))\n",
    "    # Generate data\n",
    "    bkgd = np.random.normal(-mu, sigma, N)\n",
    "    sgnl = np.random.normal(mu, sigma, N)\n",
    "    X = np.concatenate([bkgd, sgnl])\n",
    "    y = np.concatenate([np.zeros(N), np.ones(N)])\n",
    "    \n",
    "    X_train, X_test, y_train, y_test = train_test_split(X, y)\n",
    "    \n",
    "    for i in range(reps):\n",
    "        print(i, end = ' ')\n",
    "        bce_model = train(**bce_params)\n",
    "        mse_model = train(**mse_params)\n",
    "        mlc_model = train(**mlc_params)\n",
    "        sqr_model = train(**sqr_params)\n",
    "        print()\n",
    "        bce_model.save_weights(bce_filestr.format(mu, i))\n",
    "        mse_model.save_weights(mse_filestr.format(mu, i))\n",
    "        mlc_model.save_weights(mlc_filestr.format(mu, i))\n",
    "        sqr_model.save_weights(sqr_filestr.format(mu, i))"
   ]
  },
  {
   "cell_type": "markdown",
   "metadata": {
    "jp-MarkdownHeadingCollapsed": true,
    "tags": []
   },
   "source": [
    "## Expected Error"
   ]
  },
  {
   "cell_type": "code",
   "execution_count": null,
   "metadata": {},
   "outputs": [],
   "source": [
    "# Calculate mean absolute errors\n",
    "bce_mae_avg = []\n",
    "mse_mae_avg = []\n",
    "mlc_mae_avg = []\n",
    "sqr_mae_avg = []\n",
    "\n",
    "bce_mae_err = []\n",
    "mse_mae_err = []\n",
    "mlc_mae_err = []\n",
    "sqr_mae_err = []\n",
    "\n",
    "bce_mpe_avg = []\n",
    "mse_mpe_avg = []\n",
    "mlc_mpe_avg = []\n",
    "sqr_mpe_avg = []\n",
    "\n",
    "bce_mpe_err = []\n",
    "mse_mpe_err = []\n",
    "mlc_mpe_err = []\n",
    "sqr_mpe_err = []\n",
    "\n",
    "for mu in mus:\n",
    "    print(mu)\n",
    "    bce_lrs = [None] * reps\n",
    "    mse_lrs = [None] * reps\n",
    "    mlc_lrs = [None] * reps\n",
    "    sqr_lrs = [None] * reps\n",
    "    for i in range(reps):\n",
    "        bce_model = create_model(**bce_params)\n",
    "        bce_model.load_weights(bce_filestr.format(mu, i))\n",
    "        bce_lrs[i] = odds_lr(bce_model)\n",
    "\n",
    "        mse_model = create_model(**mse_params)\n",
    "        mse_model.load_weights(mse_filestr.format(mu, i))\n",
    "        mse_lrs[i] = odds_lr(mse_model)\n",
    "\n",
    "        mlc_model = create_model(**mlc_params)\n",
    "        mlc_model.load_weights(mlc_filestr.format(mu, i))\n",
    "        mlc_lrs[i] = exp_lr(mlc_model)\n",
    "\n",
    "        sqr_model = create_model(**sqr_params)\n",
    "        sqr_model.load_weights(sqr_filestr.format(mu, i))\n",
    "        sqr_lrs[i] = exp_lr(sqr_model)\n",
    "    \n",
    "    mae = make_mae(mu, sigma)\n",
    "    bce_maes = [mae(lr) for lr in bce_lrs]\n",
    "    mse_maes = [mae(lr) for lr in mse_lrs]\n",
    "    mlc_maes = [mae(lr) for lr in mlc_lrs]\n",
    "    sqr_maes = [mae(lr) for lr in sqr_lrs]\n",
    "    \n",
    "    bce_mae_avg += [np.mean(bce_maes)]\n",
    "    bce_mae_err += [np.std(bce_maes)]\n",
    "    \n",
    "    mse_mae_avg += [np.mean(mse_maes)]\n",
    "    mse_mae_err += [np.std(mse_maes)]\n",
    "    \n",
    "    mlc_mae_avg += [np.mean(mlc_maes)]\n",
    "    mlc_mae_err += [np.std(mlc_maes)]\n",
    "    \n",
    "    sqr_mae_avg += [np.mean(sqr_maes)]\n",
    "    sqr_mae_err += [np.std(sqr_maes)]\n",
    "    \n",
    "    print(bce_mae_avg[-1], mse_mae_avg[-1], mlc_mae_avg[-1], sqr_mae_avg[-1])\n",
    "    \n",
    "    mpe = make_mpe(mu, sigma)\n",
    "    bce_mpes = [mpe(lr) for lr in bce_lrs]\n",
    "    mse_mpes = [mpe(lr) for lr in mse_lrs]\n",
    "    mlc_mpes = [mpe(lr) for lr in mlc_lrs]\n",
    "    sqr_mpes = [mpe(lr) for lr in sqr_lrs]\n",
    "    \n",
    "    bce_mpe_avg += [np.mean(bce_mpes)]\n",
    "    bce_mpe_err += [np.std(bce_mpes)]\n",
    "    \n",
    "    mse_mpe_avg += [np.mean(mse_mpes)]\n",
    "    mse_mpe_err += [np.std(mse_mpes)]\n",
    "    \n",
    "    mlc_mpe_avg += [np.mean(mlc_mpes)]\n",
    "    mlc_mpe_err += [np.std(mlc_mpes)]\n",
    "    \n",
    "    sqr_mpe_avg += [np.mean(sqr_mpes)]\n",
    "    sqr_mpe_err += [np.std(sqr_mpes)]\n",
    "    \n",
    "    print(bce_mpe_avg[-1], mse_mpe_avg[-1], mlc_mpe_avg[-1], sqr_mpe_avg[-1])\n",
    "\n",
    "bce_mae_avg = np.array(bce_mae_avg)\n",
    "mse_mae_avg = np.array(mse_mae_avg)\n",
    "mlc_mae_avg = np.array(mlc_mae_avg)\n",
    "sqr_mae_avg = np.array(sqr_mae_avg)\n",
    "\n",
    "bce_mae_err = np.array(bce_mae_err)\n",
    "mse_mae_err = np.array(mse_mae_err)\n",
    "mlc_mae_err = np.array(mlc_mae_err)\n",
    "sqr_mae_err = np.array(sqr_mae_err)\n",
    "\n",
    "bce_mpe_avg = np.array(bce_mpe_avg)\n",
    "mse_mpe_avg = np.array(mse_mpe_avg)\n",
    "mlc_mpe_avg = np.array(mlc_mpe_avg)\n",
    "sqr_mpe_avg = np.array(sqr_mpe_avg)\n",
    "\n",
    "bce_mpe_err = np.array(bce_mpe_err)\n",
    "mse_mpe_err = np.array(mse_mpe_err)\n",
    "mlc_mpe_err = np.array(mlc_mpe_err)\n",
    "sqr_mpe_err = np.array(sqr_mpe_err)"
   ]
  },
  {
   "cell_type": "code",
   "execution_count": null,
   "metadata": {},
   "outputs": [],
   "source": [
    "fig, ax = plt.subplots(figsize = (10, 6))\n",
    "\n",
    "plt.plot(mus, bce_mae_avg, c='brown', ls=':', label='BCE')\n",
    "plt.plot(mus, mse_mae_avg, c='green', ls='--', label='MSE')\n",
    "plt.plot(mus, mlc_mae_avg, c='red', ls='--', label='MLC')\n",
    "plt.plot(mus, sqr_mae_avg, c='blue', ls='-.', label='SQR')\n",
    "plt.legend()\n",
    "\n",
    "plt.yscale(\"log\", basey=10)\n",
    "plt.minorticks_on()\n",
    "plt.tick_params(direction='in', which='both',length=5)\n",
    "plt.ylabel('Mean Absolute Error')\n",
    "plt.xlabel(r'$\\mu$')\n",
    "\n",
    "plt.savefig('plots/interp/set_{}/maes.png'.format(num),\n",
    "            dpi=1200, \n",
    "            bbox_inches='tight')"
   ]
  },
  {
   "cell_type": "code",
   "execution_count": null,
   "metadata": {},
   "outputs": [],
   "source": [
    "fig, ax = plt.subplots(figsize = (10, 6))\n",
    "\n",
    "plt.plot(mus, bce_mpe_avg, c='brown', ls=':', label='BCE')\n",
    "plt.plot(mus, mse_mpe_avg, c='green', ls='--', label='MSE')\n",
    "plt.plot(mus, mlc_mpe_avg, c='red', ls='--', label='MLC')\n",
    "plt.plot(mus, sqr_mpe_avg, c='blue', ls='-.', label='SQR')\n",
    "plt.legend()\n",
    "#plt.ylim(0, 5)\n",
    "\n",
    "#plt.xscale(\"log\", base=10)\n",
    "plt.minorticks_on()\n",
    "plt.tick_params(direction='in', which='both',length=5)\n",
    "plt.ylabel('Mean Percent Error (\\%)')\n",
    "plt.xlabel(r'$\\mu$')\n",
    "\n",
    "plt.savefig('plots/interp/set_{}/mpes.png'.format(num),\n",
    "            dpi=1200, \n",
    "            bbox_inches='tight')"
   ]
  },
  {
   "cell_type": "markdown",
   "metadata": {
    "tags": []
   },
   "source": [
    "## Single Test"
   ]
  },
  {
   "cell_type": "code",
   "execution_count": null,
   "metadata": {},
   "outputs": [],
   "source": [
    "xs = np.linspace(-4, 4, 1000)\n",
    "bce_lr = avg_lr(get_preds(bce_lrs, xs)) + ('BCE',)\n",
    "mse_lr = avg_lr(get_preds(mse_lrs, xs)) + ('MSE',)\n",
    "mlc_lr = avg_lr(get_preds(mlc_lrs, xs)) + ('MLC',)\n",
    "sqr_lr = avg_lr(get_preds(sqr_lrs, xs)) + ('SQR',)\n",
    "\n",
    "bce_lrr = avg_lrr(get_preds(bce_lrs, xs), xs) + ('BCE',)\n",
    "mse_lrr = avg_lrr(get_preds(mse_lrs, xs), xs) + ('MSE',)\n",
    "mlc_lrr = avg_lrr(get_preds(mlc_lrs, xs), xs) + ('MLC',)\n",
    "sqr_lrr = avg_lrr(get_preds(sqr_lrs, xs), xs) + ('SQR',)"
   ]
  },
  {
   "cell_type": "code",
   "execution_count": null,
   "metadata": {},
   "outputs": [],
   "source": [
    "lr_plot([bce_lr, mse_lr, mlc_lr, sqr_lr], \n",
    "        xs=xs,\n",
    "        filename='plots/interp/set_{}/lrs.png'.format(num))"
   ]
  },
  {
   "cell_type": "code",
   "execution_count": null,
   "metadata": {},
   "outputs": [],
   "source": [
    "lrr_plot([bce_lrr, mse_lrr, mlc_lrr, sqr_lrr], \n",
    "         xs=xs,\n",
    "         filename='plots/interp/set_{}/lrrs.png'.format(num))"
   ]
  },
  {
   "cell_type": "markdown",
   "metadata": {
    "tags": []
   },
   "source": [
    "# Scratch"
   ]
  },
  {
   "cell_type": "markdown",
   "metadata": {
    "jp-MarkdownHeadingCollapsed": true,
    "tags": []
   },
   "source": [
    "## 1. Loss Comparison for Gamma Data"
   ]
  },
  {
   "cell_type": "code",
   "execution_count": null,
   "metadata": {},
   "outputs": [],
   "source": [
    "### Generate the data.\n",
    "N = 10**6\n",
    "r = 5\n",
    "lam = 1\n",
    "\n",
    "# Background is Gamma(r, λ). Signal is Gamma(r + 1, λ)\n",
    "bkgd = np.random.gamma(r, lam, N)\n",
    "sgnl = np.random.gamma(r + 1, lam, N)\n",
    "D = np.concatenate([bkgd, sgnl])\n",
    "X = (D - np.mean(D)) / np.std(D)\n",
    "y = np.concatenate([np.zeros(N), np.ones(N)])\n",
    "\n",
    "X_train, X_test, y_train, y_test = train_test_split(X, y)"
   ]
  },
  {
   "cell_type": "code",
   "execution_count": null,
   "metadata": {},
   "outputs": [],
   "source": [
    "def lr(x):\n",
    "    #return np.exp(-10 + 11) * (10/11)**x\n",
    "    #return np.exp(-(1/(2 * sigma**2)) * ( (x - mu)**2 - (x + mu)**2))\n",
    "    r_1 = r\n",
    "    r_2 = r + 1\n",
    "    v_1 = lam\n",
    "    v_2 = lam\n",
    "    return v_2**r_2 * np.math.factorial(r_1 - 1) * x**(r_2 - r_1) * \\\n",
    "           np.exp(-(v_2 - v_1)*x) / (v_1**r_1 * np.math.factorial(r_2 - 1))"
   ]
  },
  {
   "cell_type": "code",
   "execution_count": null,
   "metadata": {},
   "outputs": [],
   "source": [
    "num = 4\n",
    "reps = 20\n",
    "\n",
    "# Model parameters\n",
    "bce_params = {'loss':bce}\n",
    "mse_params = {'loss':mse}\n",
    "mlc_params = {'loss':exp_mlc, 'output':'linear'}\n",
    "sqr_params = {'loss':exp_sqr, 'output':'linear'}\n",
    "\n",
    "bce_filestr = 'models/scratch/set_' + str(num) + '/bce/model_{}.h5'\n",
    "mse_filestr = 'models/scratch/set_' + str(num) + '/mse/model_{}.h5'\n",
    "mlc_filestr = 'models/scratch/set_' + str(num) + '/mlc/model_{}.h5'\n",
    "sqr_filestr = 'models/scratch/set_' + str(num) + '/sqr/model_{}.h5'"
   ]
  },
  {
   "cell_type": "code",
   "execution_count": null,
   "metadata": {},
   "outputs": [],
   "source": [
    "%%time\n",
    "\n",
    "for i in range(reps):\n",
    "    print(i, end = ' ')\n",
    "    bce_model = train(**bce_params)\n",
    "    mse_model = train(**mse_params)\n",
    "    mlc_model = train(**mlc_params)\n",
    "    sqr_model = train(**sqr_params)\n",
    "    print()\n",
    "    bce_model.save_weights(bce_filestr.format(i))\n",
    "    mse_model.save_weights(mse_filestr.format(i))\n",
    "    mlc_model.save_weights(mlc_filestr.format(i))\n",
    "    sqr_model.save_weights(sqr_filestr.format(i))"
   ]
  },
  {
   "cell_type": "code",
   "execution_count": null,
   "metadata": {},
   "outputs": [],
   "source": [
    "# Load in models.\n",
    "bce_lrs = [None] * reps\n",
    "mse_lrs = [None] * reps\n",
    "mlc_lrs = [None] * reps\n",
    "sqr_lrs = [None] * reps\n",
    "for i in range(reps):\n",
    "    bce_model = create_model(**bce_params)\n",
    "    bce_model.load_weights(bce_filestr.format(i))\n",
    "    bce_lrs[i] = odds_lr(bce_model)\n",
    "    \n",
    "    mse_model = create_model(**mse_params)\n",
    "    mse_model.load_weights(mse_filestr.format(i))\n",
    "    mse_lrs[i] = odds_lr(mse_model)\n",
    "    \n",
    "    mlc_model = create_model(**mlc_params)\n",
    "    mlc_model.load_weights(mlc_filestr.format(i))\n",
    "    mlc_lrs[i] = exp_lr(mlc_model)\n",
    "    \n",
    "    sqr_model = create_model(**sqr_params)\n",
    "    sqr_model.load_weights(sqr_filestr.format(i))\n",
    "    sqr_lrs[i] = exp_lr(sqr_model)"
   ]
  },
  {
   "cell_type": "code",
   "execution_count": null,
   "metadata": {},
   "outputs": [],
   "source": [
    "ds = np.linspace(0, 20, 1000)\n",
    "xs = (ds - np.mean(D)) / np.std(D)\n",
    "\n",
    "bce_lr = avg_lr(get_preds(bce_lrs, xs)) + ('BCE',)\n",
    "mse_lr = avg_lr(get_preds(mse_lrs, xs)) + ('MSE',)\n",
    "mlc_lr = avg_lr(get_preds(mlc_lrs, xs)) + ('MLC',)\n",
    "sqr_lr = avg_lr(get_preds(sqr_lrs, xs)) + ('SQR',)\n",
    "\n",
    "bce_lrr = avg_lrr(get_preds(bce_lrs, xs), ds) + ('BCE',)\n",
    "mse_lrr = avg_lrr(get_preds(mse_lrs, xs), ds) + ('MSE',)\n",
    "mlc_lrr = avg_lrr(get_preds(mlc_lrs, xs), ds) + ('MLC',)\n",
    "sqr_lrr = avg_lrr(get_preds(sqr_lrs, xs), ds) + ('SQR',)"
   ]
  },
  {
   "cell_type": "code",
   "execution_count": null,
   "metadata": {},
   "outputs": [],
   "source": [
    "lr_plot([bce_lr, mse_lr, mlc_lr, sqr_lr], \n",
    "        filename='plots/scratch/set_{}/lrs.png'.format(num))"
   ]
  },
  {
   "cell_type": "code",
   "execution_count": null,
   "metadata": {},
   "outputs": [],
   "source": [
    "lrr_plot([bce_lrr, mse_lrr, mlc_lrr, sqr_lrr], \n",
    "         filename='plots/scratch/set_{}/lrrs.png'.format(num))"
   ]
  },
  {
   "cell_type": "markdown",
   "metadata": {
    "jp-MarkdownHeadingCollapsed": true,
    "tags": []
   },
   "source": [
    "## 2. Test on Non-Zero-Centered Gaussians"
   ]
  },
  {
   "cell_type": "code",
   "execution_count": null,
   "metadata": {
    "tags": []
   },
   "outputs": [],
   "source": [
    "N = 10**6\n",
    "mu = 10\n",
    "d = 0.1\n",
    "sigma = 1\n",
    "\n",
    "# Background is Normal(μ - d, σ). Signal is Normal(μ + d, σ))\n",
    "bkgd = np.random.normal(mu - d, sigma, N)\n",
    "sgnl = np.random.normal(mu + d, sigma, N)\n",
    "D = np.concatenate([bkgd, sgnl])\n",
    "X = (D - np.mean(D)) / np.std(D)\n",
    "y = np.concatenate([np.zeros(N), np.ones(N)])\n",
    "\n",
    "X_train, X_test, y_train, y_test = train_test_split(X, y)"
   ]
  },
  {
   "cell_type": "code",
   "execution_count": null,
   "metadata": {},
   "outputs": [],
   "source": [
    "def lr(x):\n",
    "    return np.exp(-(1/(2 * sigma**2)) * ( (x - 10.1)**2 - (x - 9.9)**2))"
   ]
  },
  {
   "cell_type": "code",
   "execution_count": null,
   "metadata": {},
   "outputs": [],
   "source": [
    "num = 3\n",
    "reps = 20\n",
    "\n",
    "# Model parameters\n",
    "bce_params = {'loss':bce}\n",
    "mse_params = {'loss':mse}\n",
    "mlc_params = {'loss':exp_mlc, 'output':'linear'}\n",
    "sqr_params = {'loss':exp_sqr, 'output':'linear'}\n",
    "\n",
    "bce_filestr = 'models/scratch/set_' + str(num) + '/bce/model_{}.h5'\n",
    "mse_filestr = 'models/scratch/set_' + str(num) + '/mse/model_{}.h5'\n",
    "mlc_filestr = 'models/scratch/set_' + str(num) + '/mlc/model_{}.h5'\n",
    "sqr_filestr = 'models/scratch/set_' + str(num) + '/sqr/model_{}.h5'"
   ]
  },
  {
   "cell_type": "code",
   "execution_count": null,
   "metadata": {},
   "outputs": [],
   "source": [
    "%%time\n",
    "\n",
    "for i in range(reps):\n",
    "    print(i, end = ' ')\n",
    "    bce_model = train(**bce_params)\n",
    "    mse_model = train(**mse_params)\n",
    "    mlc_model = train(**mlc_params)\n",
    "    sqr_model = train(**sqr_params)\n",
    "    print()\n",
    "    bce_model.save_weights(bce_filestr.format(i))\n",
    "    mse_model.save_weights(mse_filestr.format(i))\n",
    "    mlc_model.save_weights(mlc_filestr.format(i))\n",
    "    sqr_model.save_weights(sqr_filestr.format(i))"
   ]
  },
  {
   "cell_type": "code",
   "execution_count": null,
   "metadata": {},
   "outputs": [],
   "source": [
    "# Load in models.\n",
    "bce_lrs = [None] * reps\n",
    "mse_lrs = [None] * reps\n",
    "mlc_lrs = [None] * reps\n",
    "sqr_lrs = [None] * reps\n",
    "for i in range(reps):\n",
    "    bce_model = create_model(**bce_params)\n",
    "    bce_model.load_weights(bce_filestr.format(i))\n",
    "    bce_lrs[i] = odds_lr(bce_model)\n",
    "    \n",
    "    mse_model = create_model(**mse_params)\n",
    "    mse_model.load_weights(mse_filestr.format(i))\n",
    "    mse_lrs[i] = odds_lr(mse_model)\n",
    "    \n",
    "    mlc_model = create_model(**mlc_params)\n",
    "    mlc_model.load_weights(mlc_filestr.format(i))\n",
    "    mlc_lrs[i] = exp_lr(mlc_model)\n",
    "    \n",
    "    sqr_model = create_model(**sqr_params)\n",
    "    sqr_model.load_weights(sqr_filestr.format(i))\n",
    "    sqr_lrs[i] = exp_lr(sqr_model)"
   ]
  },
  {
   "cell_type": "code",
   "execution_count": null,
   "metadata": {},
   "outputs": [],
   "source": [
    "ds = np.linspace(4, 16, 1000)\n",
    "xs = (ds - np.mean(D)) / np.std(D)\n",
    "\n",
    "bce_lr = avg_lr(get_preds(bce_lrs, xs)) + ('BCE',)\n",
    "mse_lr = avg_lr(get_preds(mse_lrs, xs)) + ('MSE',)\n",
    "mlc_lr = avg_lr(get_preds(mlc_lrs, xs)) + ('MLC',)\n",
    "sqr_lr = avg_lr(get_preds(sqr_lrs, xs)) + ('SQR',)\n",
    "\n",
    "bce_lrr = avg_lrr(get_preds(bce_lrs, xs), ds) + ('BCE',)\n",
    "mse_lrr = avg_lrr(get_preds(mse_lrs, xs), ds) + ('MSE',)\n",
    "mlc_lrr = avg_lrr(get_preds(mlc_lrs, xs), ds) + ('MLC',)\n",
    "sqr_lrr = avg_lrr(get_preds(sqr_lrs, xs), ds) + ('SQR',)"
   ]
  },
  {
   "cell_type": "code",
   "execution_count": null,
   "metadata": {},
   "outputs": [],
   "source": [
    "lr_plot([bce_lr, mse_lr, mlc_lr, sqr_lr], \n",
    "        filename='plots/scratch/set_{}/lrs.png'.format(num))"
   ]
  },
  {
   "cell_type": "code",
   "execution_count": null,
   "metadata": {},
   "outputs": [],
   "source": [
    "lrr_plot([bce_lrr, mse_lrr, mlc_lrr, sqr_lrr], \n",
    "         filename='plots/scratch/set_{}/lrrs.png'.format(num))"
   ]
  },
  {
   "cell_type": "code",
   "execution_count": null,
   "metadata": {},
   "outputs": [],
   "source": []
  }
 ],
 "metadata": {
  "kernelspec": {
   "display_name": "omnifold",
   "language": "python",
   "name": "omnifold"
  },
  "language_info": {
   "codemirror_mode": {
    "name": "ipython",
    "version": 3
   },
   "file_extension": ".py",
   "mimetype": "text/x-python",
   "name": "python",
   "nbconvert_exporter": "python",
   "pygments_lexer": "ipython3",
   "version": "3.8.12"
  }
 },
 "nbformat": 4,
 "nbformat_minor": 4
}
