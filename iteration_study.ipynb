{
 "cells": [
  {
   "cell_type": "markdown",
   "id": "f7d31f27-536a-4952-8349-fac14f90509a",
   "metadata": {},
   "source": [
    "An initial attempt at a study justifying the number of iterations used for Uni-/MultiFold."
   ]
  },
  {
   "cell_type": "code",
   "execution_count": 1,
   "id": "211789a5-c9f0-4973-be96-ff6d48e6c2de",
   "metadata": {},
   "outputs": [],
   "source": [
    "%load_ext autoreload\n",
    "%autoreload 2"
   ]
  },
  {
   "cell_type": "code",
   "execution_count": 2,
   "id": "f9c77b20-06a1-4b6a-898a-d30671b8d00f",
   "metadata": {},
   "outputs": [],
   "source": [
    "import os\n",
    "os.environ[\"CUDA_DEVICE_ORDER\"] = \"PCI_BUS_ID\"\n",
    "os.environ[\"CUDA_VISIBLE_DEVICES\"] = \"6\""
   ]
  },
  {
   "cell_type": "code",
   "execution_count": 196,
   "id": "f31c67e9-8723-4cba-97d9-75f9bfd6ff1d",
   "metadata": {},
   "outputs": [],
   "source": [
    "### Generic imports\n",
    "# from __future__ import absolute_import, division, print_function\n",
    "import numpy as np\n",
    "import pandas as pd\n",
    "import scipy.stats as stats\n",
    "from tqdm import tqdm\n",
    "import matplotlib.pyplot as plt\n",
    "from matplotlib.backends.backend_pdf import PdfPages\n",
    "\n",
    "### ML imports\n",
    "from sklearn.model_selection import train_test_split\n",
    "import sklearn.preprocessing as preprocessing\n",
    "import livelossplot\n",
    "\n",
    "### Custom functions\n",
    "# from ntupleanalysis import *\n",
    "from omnifold import *\n",
    "from omnifold.utilities import *"
   ]
  },
  {
   "cell_type": "code",
   "execution_count": 4,
   "id": "2d52c8dc-60f5-4edb-ab8b-aee9e5ce895b",
   "metadata": {},
   "outputs": [],
   "source": [
    "plot_setup()"
   ]
  },
  {
   "cell_type": "code",
   "execution_count": 5,
   "id": "20810031-1bfd-4620-a4f9-910029f41cd4",
   "metadata": {},
   "outputs": [],
   "source": [
    "plot_dir = './plots/'\n",
    "save_label0 = 'iteration_test'"
   ]
  },
  {
   "cell_type": "markdown",
   "id": "6205721e-19de-4143-a27a-2d6811f7da84",
   "metadata": {},
   "source": [
    "### Load files"
   ]
  },
  {
   "cell_type": "markdown",
   "id": "558b11fc-f11a-43b4-b083-a34a7539c55c",
   "metadata": {},
   "source": [
    "Since we're not using data yet, \"MC\" = Powheg + Pythia8 MC16e and \"data\" = Sherpa 2.2.1 MC16e."
   ]
  },
  {
   "cell_type": "code",
   "execution_count": 80,
   "id": "4c96f0c4-2fcf-48e8-a79e-8881404ace33",
   "metadata": {},
   "outputs": [],
   "source": [
    "folder = '/clusterfs/ml4hep/adisurtya/ATLASOmniFold/slimmedSamples/'"
   ]
  },
  {
   "cell_type": "code",
   "execution_count": 81,
   "id": "def4b981-62fb-4045-aa37-2e755ba5a8a3",
   "metadata": {},
   "outputs": [],
   "source": [
    "f_mc = uproot.open(folder+\"ZjetOmnifold_Jun25_PowhegPythia_mc16e_slim.root\")\n",
    "f_data = uproot.open(folder+\"ZjetOmnifold_Jun25_Sherpa221_mc16e_slim.root\")"
   ]
  },
  {
   "cell_type": "code",
   "execution_count": 82,
   "id": "0d434207-3f13-471d-8608-c5ec90f3fa2a",
   "metadata": {},
   "outputs": [],
   "source": [
    "columns = f_mc['OmniTree'].keys()"
   ]
  },
  {
   "cell_type": "markdown",
   "id": "f56d5d7f-925d-4fc2-8e08-f1f449c48804",
   "metadata": {},
   "source": [
    "These columns are the same for both samples, since they're both MC:"
   ]
  },
  {
   "cell_type": "code",
   "execution_count": 85,
   "id": "93b4741d-d40b-475f-acc3-7146b4d9b25a",
   "metadata": {},
   "outputs": [
    {
     "data": {
      "text/plain": [
       "True"
      ]
     },
     "execution_count": 85,
     "metadata": {},
     "output_type": "execute_result"
    }
   ],
   "source": [
    "f_mc['OmniTree'].keys() == f_data['OmniTree'].keys()"
   ]
  },
  {
   "cell_type": "markdown",
   "id": "2e6747a1-2a29-4be1-8e3f-5ce4ba70a764",
   "metadata": {},
   "source": [
    "Note that variables ending in `_tracks` require MultiIndex-ing. It's possible to combine these with flat variables, but it does increase the size of the DataFrame considerably: "
   ]
  },
  {
   "cell_type": "code",
   "execution_count": 76,
   "id": "642fc06f-1a2e-4391-a628-b8891f274210",
   "metadata": {},
   "outputs": [
    {
     "data": {
      "text/plain": [
       "['pT_tracks',\n",
       " 'eta_tracks',\n",
       " 'phi_tracks',\n",
       " 'trackJetIndex_tracks',\n",
       " 'truth_pT_tracks',\n",
       " 'truth_eta_tracks',\n",
       " 'truth_phi_tracks',\n",
       " 'truth_trackJetIndex_tracks']"
      ]
     },
     "execution_count": 76,
     "metadata": {},
     "output_type": "execute_result"
    }
   ],
   "source": [
    "[col for col in columns if col.endswith(\"_tracks\")]"
   ]
  },
  {
   "cell_type": "code",
   "execution_count": 77,
   "id": "26d76de8-0eaf-4e7d-bced-97086b7dc23e",
   "metadata": {},
   "outputs": [
    {
     "data": {
      "text/html": [
       "<div>\n",
       "<style scoped>\n",
       "    .dataframe tbody tr th:only-of-type {\n",
       "        vertical-align: middle;\n",
       "    }\n",
       "\n",
       "    .dataframe tbody tr th {\n",
       "        vertical-align: top;\n",
       "    }\n",
       "\n",
       "    .dataframe thead th {\n",
       "        text-align: right;\n",
       "    }\n",
       "</style>\n",
       "<table border=\"1\" class=\"dataframe\">\n",
       "  <thead>\n",
       "    <tr style=\"text-align: right;\">\n",
       "      <th></th>\n",
       "      <th></th>\n",
       "      <th>weight</th>\n",
       "      <th>pT_tracks</th>\n",
       "    </tr>\n",
       "    <tr>\n",
       "      <th>entry</th>\n",
       "      <th>subentry</th>\n",
       "      <th></th>\n",
       "      <th></th>\n",
       "    </tr>\n",
       "  </thead>\n",
       "  <tbody>\n",
       "    <tr>\n",
       "      <th rowspan=\"5\" valign=\"top\">0</th>\n",
       "      <th>0</th>\n",
       "      <td>0.241816</td>\n",
       "      <td>33.519623</td>\n",
       "    </tr>\n",
       "    <tr>\n",
       "      <th>1</th>\n",
       "      <td>0.241816</td>\n",
       "      <td>32.295208</td>\n",
       "    </tr>\n",
       "    <tr>\n",
       "      <th>2</th>\n",
       "      <td>0.241816</td>\n",
       "      <td>27.368732</td>\n",
       "    </tr>\n",
       "    <tr>\n",
       "      <th>3</th>\n",
       "      <td>0.241816</td>\n",
       "      <td>25.860355</td>\n",
       "    </tr>\n",
       "    <tr>\n",
       "      <th>4</th>\n",
       "      <td>0.241816</td>\n",
       "      <td>3.398118</td>\n",
       "    </tr>\n",
       "    <tr>\n",
       "      <th>...</th>\n",
       "      <th>...</th>\n",
       "      <td>...</td>\n",
       "      <td>...</td>\n",
       "    </tr>\n",
       "    <tr>\n",
       "      <th rowspan=\"5\" valign=\"top\">416724</th>\n",
       "      <th>59</th>\n",
       "      <td>0.205618</td>\n",
       "      <td>0.606367</td>\n",
       "    </tr>\n",
       "    <tr>\n",
       "      <th>60</th>\n",
       "      <td>0.205618</td>\n",
       "      <td>0.598488</td>\n",
       "    </tr>\n",
       "    <tr>\n",
       "      <th>61</th>\n",
       "      <td>0.205618</td>\n",
       "      <td>0.578678</td>\n",
       "    </tr>\n",
       "    <tr>\n",
       "      <th>62</th>\n",
       "      <td>0.205618</td>\n",
       "      <td>0.567151</td>\n",
       "    </tr>\n",
       "    <tr>\n",
       "      <th>63</th>\n",
       "      <td>0.205618</td>\n",
       "      <td>0.564475</td>\n",
       "    </tr>\n",
       "  </tbody>\n",
       "</table>\n",
       "<p>22300697 rows × 2 columns</p>\n",
       "</div>"
      ],
      "text/plain": [
       "                   weight  pT_tracks\n",
       "entry  subentry                     \n",
       "0      0         0.241816  33.519623\n",
       "       1         0.241816  32.295208\n",
       "       2         0.241816  27.368732\n",
       "       3         0.241816  25.860355\n",
       "       4         0.241816   3.398118\n",
       "...                   ...        ...\n",
       "416724 59        0.205618   0.606367\n",
       "       60        0.205618   0.598488\n",
       "       61        0.205618   0.578678\n",
       "       62        0.205618   0.567151\n",
       "       63        0.205618   0.564475\n",
       "\n",
       "[22300697 rows x 2 columns]"
      ]
     },
     "execution_count": 77,
     "metadata": {},
     "output_type": "execute_result"
    }
   ],
   "source": [
    "f_mc['OmniTree'].arrays(\n",
    "    [\"weight\",\"pT_tracks\"],\n",
    "#     [col for col in columns if col.endswith(\"tracks\")],\n",
    "    filter_name=\"pT_tracks\", \n",
    "    library=\"pd\")"
   ]
  },
  {
   "cell_type": "markdown",
   "id": "e375ce73-0145-4c37-8b8c-7720d726e825",
   "metadata": {},
   "source": [
    "Let's ignore the MultiIndex variables for now."
   ]
  },
  {
   "cell_type": "code",
   "execution_count": 89,
   "id": "c94ceb1a-20dc-4889-9fc9-6aff419d588c",
   "metadata": {},
   "outputs": [
    {
     "name": "stdout",
     "output_type": "stream",
     "text": [
      "MC has 416,725 events with 57 columns.\n",
      "Data has 3,578,623 events with 57 columns.\n"
     ]
    }
   ],
   "source": [
    "mc = f_mc['OmniTree'].arrays(\n",
    "    [col for col in columns if not col.endswith(\"_tracks\")],\n",
    "    library=\"pd\")\n",
    "\n",
    "data = f_data['OmniTree'].arrays(\n",
    "    [col for col in columns if not col.endswith(\"_tracks\")],\n",
    "    library=\"pd\")\n",
    "\n",
    "print(\"MC has {:,} events with {} columns.\".format(mc.shape[0],mc.shape[1]))\n",
    "print(\"Data has {:,} events with {} columns.\".format(data.shape[0],data.shape[1]))"
   ]
  },
  {
   "cell_type": "markdown",
   "id": "b46084c8-79b8-4512-baa9-001eb3f6a009",
   "metadata": {},
   "source": [
    "### Apply event selection"
   ]
  },
  {
   "cell_type": "code",
   "execution_count": 97,
   "id": "a5b4a5f3-24f4-459e-96c5-28ac935e52f4",
   "metadata": {},
   "outputs": [],
   "source": [
    "mc['pass190'] = mc['pass190'].astype('bool')\n",
    "mc['truth_pass190'] = mc['truth_pass190'].astype('bool')\n",
    "data['pass190'] = data['pass190'].astype('bool')\n",
    "data['truth_pass190'] = data['truth_pass190'].astype('bool')"
   ]
  },
  {
   "cell_type": "code",
   "execution_count": 101,
   "id": "a006689a-2061-4755-8588-072825d640b0",
   "metadata": {},
   "outputs": [],
   "source": [
    "mc_truth_weights = mc[mc.truth_pass190].weight_mc\n",
    "mc_reco_weights = mc[mc.pass190].weight\n",
    "\n",
    "data_truth_weights = data[data.truth_pass190].weight_mc\n",
    "data_reco_weights = data[data.pass190].weight"
   ]
  },
  {
   "cell_type": "markdown",
   "id": "3d831455-f6ac-4859-9666-ffc6927ed5b7",
   "metadata": {},
   "source": [
    "Normalize the weights:"
   ]
  },
  {
   "cell_type": "code",
   "execution_count": 103,
   "id": "4fa077aa-c3f9-4e8e-bf1b-f2986adca95e",
   "metadata": {},
   "outputs": [],
   "source": [
    "for weights in [mc_truth_weights, mc_reco_weights, data_truth_weights, data_reco_weights]:\n",
    "    weights /= np.mean(weights)"
   ]
  },
  {
   "cell_type": "code",
   "execution_count": 105,
   "id": "259e6b80-316f-486f-a479-87ed3ba53a47",
   "metadata": {},
   "outputs": [
    {
     "data": {
      "image/png": "[encoded data removed]",
      "text/plain": [
       "<Figure size 720x432 with 1 Axes>"
      ]
     },
     "metadata": {},
     "output_type": "display_data"
    },
    {
     "data": {
      "image/png": "[encoded data removed]",
      "text/plain": [
       "<Figure size 720x432 with 1 Axes>"
      ]
     },
     "metadata": {},
     "output_type": "display_data"
    }
   ],
   "source": [
    "bins = np.linspace(-3, 3, 100)\n",
    "\n",
    "plt.figure(figsize=(10, 6))\n",
    "hW_sim_truth, _, _ = plt.hist(mc_truth_weights,\n",
    "                              bins=bins,\n",
    "                              label=r'Powheg + Pythia 8',\n",
    "                              **plot_style_2)\n",
    "hW_data_truth, _, _ = plt.hist(data_truth_weights,\n",
    "                               bins=bins,\n",
    "                               label=r'Sherpa 2.2.1',\n",
    "                               **plot_style_2)\n",
    "plt.xlabel('MC Truth Weight')\n",
    "plt.ylabel('Events per bin (normalized)')\n",
    "plt.ylim(top=1.5 * np.max((hW_sim_truth, hW_data_truth)))\n",
    "plt.legend()\n",
    "draw_atlas_text()\n",
    "plt.show()\n",
    "\n",
    "plt.figure(figsize=(10, 6))\n",
    "hW_sim_reco, _, _ = plt.hist(mc_reco_weights,\n",
    "                             bins=bins,\n",
    "                             label=r'Powheg + Pythia 8',\n",
    "                             **plot_style_2)\n",
    "hW_data_reco, _, _ = plt.hist(data_reco_weights,\n",
    "                              bins=bins,\n",
    "                              label=r'Sherpa 2.2.1',\n",
    "                              **plot_style_2)\n",
    "plt.xlabel('MC Reco Weight')\n",
    "plt.ylabel('Events per bin (normalized)')\n",
    "plt.ylim(top=1.5 * np.max((hW_sim_reco, hW_data_reco)))\n",
    "plt.legend()\n",
    "draw_atlas_text()\n",
    "plt.show()"
   ]
  },
  {
   "cell_type": "markdown",
   "id": "a75b754b-1c01-423b-8727-880cb146eeb6",
   "metadata": {},
   "source": [
    "### Load IBU histograms?"
   ]
  },
  {
   "cell_type": "code",
   "execution_count": 138,
   "id": "947d964f-7fba-44c5-8a05-fb6b3bad62a0",
   "metadata": {},
   "outputs": [],
   "source": [
    "file_labels = [\n",
    "    'Ntracks_trackj1', 'Ntracks_trackj2', 'm_trackj1', 'm_trackj2',\n",
    "    'pT_trackj1', 'pT_trackj2', 'y_trackj1', 'y_trackj2', 'phi_trackj1',\n",
    "    'phi_trackj2', 'tau1_trackj1', 'tau1_trackj2', 'tau2_trackj1',\n",
    "    'tau2_trackj2', 'tau3_trackj1', 'tau3_trackj2', 'pT_ll', 'y_ll', 'pT_l1',\n",
    "    'pT_l2', 'eta_l1', 'eta_l2', 'phi_l1', 'phi_l2'\n",
    "]\n",
    "plot_labels = [\n",
    "    r'Leading track jet $n_{\\textrm{ch}}$ ',\n",
    "    r'Subleading track jet $n_{\\textrm{ch}}$', 'Leading track jet $m$ [GeV]',\n",
    "    r'Subleading track jet $m$ [GeV]', r'Leading track jet $p_T$ [GeV]',\n",
    "    r'Subleading track jet $p_T$ [GeV]', r'Leading track jet $y$',\n",
    "    r'Subleading track jet $y$', r'Leading track jet $\\phi$',\n",
    "    r'Subleading track jet $\\phi$', r'Leading track jet $\\tau_1$',\n",
    "    r'Subleading track jet $\\tau_1$', r'Leading track jet $\\tau_2$',\n",
    "    r'Subleading track jet $\\tau_2$', r'Leading track jet $\\tau_3$',\n",
    "    r'Subleading track jet $\\tau_3$', r'$p^{\\mu \\mu}_T$ [GeV]',\n",
    "    r'$y_{\\mu \\mu}$', r'$p^{\\mu 1}_{T}$ [GeV]', r'$p^{\\mu 2}_{T}$ [GeV]',\n",
    "    '$\\eta_{\\mu 1}$', '$\\eta_{\\mu 2}$', '$\\phi_{\\mu 1}$', '$\\phi_{\\mu 2}$'\n",
    "]"
   ]
  },
  {
   "cell_type": "code",
   "execution_count": 120,
   "id": "55322edc-6a38-4a63-b3c9-03fada52c8b4",
   "metadata": {},
   "outputs": [],
   "source": [
    "IBU_hists = uproot.open('/clusterfs/ml4hep/adisurtya/ATLASOmniFold/unfoldingPlotsJune14_UnfoldedHists.root')"
   ]
  },
  {
   "cell_type": "code",
   "execution_count": 177,
   "id": "0c2c4445-1577-4379-ad13-185ac6b9813d",
   "metadata": {},
   "outputs": [],
   "source": [
    "bins = []\n",
    "for label in file_labels:\n",
    "    bins += [IBU_hists['SherpaUnfoldWPythia_2018_'+label].to_numpy()[1]]"
   ]
  },
  {
   "cell_type": "code",
   "execution_count": 133,
   "id": "926fe3d2-b87a-4424-b3d6-a60ed8f5fc0b",
   "metadata": {},
   "outputs": [],
   "source": [
    "# keys = [key for key in IBU_hists.keys() if key.startswith('SherpaUnfoldWPythia_2018')]\n",
    "# bins = []\n",
    "# for key in keys:\n",
    "#     bins += [IBU_hists[key].to_numpy()[1]]"
   ]
  },
  {
   "cell_type": "code",
   "execution_count": 178,
   "id": "493d5e2e-eb02-4165-8f47-6c63d23c6fc8",
   "metadata": {},
   "outputs": [],
   "source": [
    "labels_and_bins = zip(file_labels, plot_labels, bins)\n",
    "\n",
    "obs = []\n",
    "\n",
    "for file_label, plot_label, plot_bins in labels_and_bins:\n",
    "    obs += [{\n",
    "        'file_label': file_label,\n",
    "        'plot_label': plot_label,\n",
    "        'bins': plot_bins\n",
    "    }]"
   ]
  },
  {
   "cell_type": "code",
   "execution_count": 179,
   "id": "9f2fab7e-36bc-4818-b42f-81e0ff5f1513",
   "metadata": {},
   "outputs": [],
   "source": [
    "obs_df = pd.DataFrame(obs)"
   ]
  },
  {
   "cell_type": "code",
   "execution_count": 180,
   "id": "a0ebb185-4b6d-4144-b520-83d56b735901",
   "metadata": {},
   "outputs": [
    {
     "data": {
      "text/html": [
       "<div>\n",
       "<style scoped>\n",
       "    .dataframe tbody tr th:only-of-type {\n",
       "        vertical-align: middle;\n",
       "    }\n",
       "\n",
       "    .dataframe tbody tr th {\n",
       "        vertical-align: top;\n",
       "    }\n",
       "\n",
       "    .dataframe thead th {\n",
       "        text-align: right;\n",
       "    }\n",
       "</style>\n",
       "<table border=\"1\" class=\"dataframe\">\n",
       "  <thead>\n",
       "    <tr style=\"text-align: right;\">\n",
       "      <th></th>\n",
       "      <th>file_label</th>\n",
       "      <th>plot_label</th>\n",
       "      <th>bins</th>\n",
       "    </tr>\n",
       "  </thead>\n",
       "  <tbody>\n",
       "    <tr>\n",
       "      <th>0</th>\n",
       "      <td>Ntracks_trackj1</td>\n",
       "      <td>Leading track jet $n_{\\textrm{ch}}$</td>\n",
       "      <td>[1.0, 5.0, 7.0, 10.0, 13.0, 16.0, 20.0, 30.0, ...</td>\n",
       "    </tr>\n",
       "    <tr>\n",
       "      <th>1</th>\n",
       "      <td>Ntracks_trackj2</td>\n",
       "      <td>Subleading track jet $n_{\\textrm{ch}}$</td>\n",
       "      <td>[1.0, 2.0, 3.0, 5.0, 7.0, 9.0, 11.0, 15.0, 20....</td>\n",
       "    </tr>\n",
       "    <tr>\n",
       "      <th>2</th>\n",
       "      <td>m_trackj1</td>\n",
       "      <td>Leading track jet $m$ [GeV]</td>\n",
       "      <td>[0.0, 10.0, 20.0, 30.0, 40.0, 80.0]</td>\n",
       "    </tr>\n",
       "    <tr>\n",
       "      <th>3</th>\n",
       "      <td>m_trackj2</td>\n",
       "      <td>Subleading track jet $m$ [GeV]</td>\n",
       "      <td>[0.0, 2.5, 5.0, 10.0, 20.0, 70.0]</td>\n",
       "    </tr>\n",
       "    <tr>\n",
       "      <th>4</th>\n",
       "      <td>pT_trackj1</td>\n",
       "      <td>Leading track jet $p_T$ [GeV]</td>\n",
       "      <td>[0.0, 50.0, 100.0, 150.0, 200.0, 300.0, 1000.0]</td>\n",
       "    </tr>\n",
       "    <tr>\n",
       "      <th>5</th>\n",
       "      <td>pT_trackj2</td>\n",
       "      <td>Subleading track jet $p_T$ [GeV]</td>\n",
       "      <td>[0.0, 25.0, 50.0, 100.0, 700.0]</td>\n",
       "    </tr>\n",
       "    <tr>\n",
       "      <th>6</th>\n",
       "      <td>y_trackj1</td>\n",
       "      <td>Leading track jet $y$</td>\n",
       "      <td>[-2.5, -2.25, -2.0, -1.75, -1.5, -1.25, -1.0, ...</td>\n",
       "    </tr>\n",
       "    <tr>\n",
       "      <th>7</th>\n",
       "      <td>y_trackj2</td>\n",
       "      <td>Subleading track jet $y$</td>\n",
       "      <td>[-2.5, -2.0, -1.5, -1.0, -0.5, 0.0, 0.5, 1.0, ...</td>\n",
       "    </tr>\n",
       "    <tr>\n",
       "      <th>8</th>\n",
       "      <td>phi_trackj1</td>\n",
       "      <td>Leading track jet $\\phi$</td>\n",
       "      <td>[-3.2, -3.0, -2.8, -2.6, -2.4, -2.2, -2.0, -1....</td>\n",
       "    </tr>\n",
       "    <tr>\n",
       "      <th>9</th>\n",
       "      <td>phi_trackj2</td>\n",
       "      <td>Subleading track jet $\\phi$</td>\n",
       "      <td>[-3.2, -2.8, -2.4, -2.0, -1.6, -1.2, -0.8, -0....</td>\n",
       "    </tr>\n",
       "    <tr>\n",
       "      <th>10</th>\n",
       "      <td>tau1_trackj1</td>\n",
       "      <td>Leading track jet $\\tau_1$</td>\n",
       "      <td>[0.0, 0.05, 0.1, 0.15, 0.2, 0.3, 0.5, 1.0]</td>\n",
       "    </tr>\n",
       "    <tr>\n",
       "      <th>11</th>\n",
       "      <td>tau1_trackj2</td>\n",
       "      <td>Subleading track jet $\\tau_1$</td>\n",
       "      <td>[0.0, 0.1, 0.2, 0.3, 0.4, 0.5, 1.0]</td>\n",
       "    </tr>\n",
       "    <tr>\n",
       "      <th>12</th>\n",
       "      <td>tau2_trackj1</td>\n",
       "      <td>Leading track jet $\\tau_2$</td>\n",
       "      <td>[0.0, 0.05, 0.1, 0.15, 0.2, 0.3, 0.6]</td>\n",
       "    </tr>\n",
       "    <tr>\n",
       "      <th>13</th>\n",
       "      <td>tau2_trackj2</td>\n",
       "      <td>Subleading track jet $\\tau_2$</td>\n",
       "      <td>[0.0, 0.05, 0.1, 0.15, 0.2, 0.3, 0.6]</td>\n",
       "    </tr>\n",
       "    <tr>\n",
       "      <th>14</th>\n",
       "      <td>tau3_trackj1</td>\n",
       "      <td>Leading track jet $\\tau_3$</td>\n",
       "      <td>[0.0, 0.025, 0.05, 0.1, 0.2, 0.4]</td>\n",
       "    </tr>\n",
       "    <tr>\n",
       "      <th>15</th>\n",
       "      <td>tau3_trackj2</td>\n",
       "      <td>Subleading track jet $\\tau_3$</td>\n",
       "      <td>[0.0, 0.05, 0.1, 0.15, 0.2, 0.4]</td>\n",
       "    </tr>\n",
       "    <tr>\n",
       "      <th>16</th>\n",
       "      <td>pT_ll</td>\n",
       "      <td>$p^{\\mu \\mu}_T$ [GeV]</td>\n",
       "      <td>[190.0, 230.0, 300.0, 450.0, 600.0, 1000.0, 20...</td>\n",
       "    </tr>\n",
       "    <tr>\n",
       "      <th>17</th>\n",
       "      <td>y_ll</td>\n",
       "      <td>$y_{\\mu \\mu}$</td>\n",
       "      <td>[-2.5, -2.0, -1.5, -1.0, -0.75, -0.5, -0.25, 0...</td>\n",
       "    </tr>\n",
       "    <tr>\n",
       "      <th>18</th>\n",
       "      <td>pT_l1</td>\n",
       "      <td>$p^{\\mu 1}_{T}$ [GeV]</td>\n",
       "      <td>[25.0, 125.0, 200.0, 300.0, 400.0, 600.0, 2000.0]</td>\n",
       "    </tr>\n",
       "    <tr>\n",
       "      <th>19</th>\n",
       "      <td>pT_l2</td>\n",
       "      <td>$p^{\\mu 2}_{T}$ [GeV]</td>\n",
       "      <td>[25.0, 40.0, 60.0, 80.0, 100.0, 150.0, 200.0, ...</td>\n",
       "    </tr>\n",
       "    <tr>\n",
       "      <th>20</th>\n",
       "      <td>eta_l1</td>\n",
       "      <td>$\\eta_{\\mu 1}$</td>\n",
       "      <td>[-2.5, -2.0, -1.5, -1.0, -0.75, -0.5, -0.25, 0...</td>\n",
       "    </tr>\n",
       "    <tr>\n",
       "      <th>21</th>\n",
       "      <td>eta_l2</td>\n",
       "      <td>$\\eta_{\\mu 2}$</td>\n",
       "      <td>[-2.5, -2.0, -1.5, -1.0, -0.75, -0.5, -0.25, 0...</td>\n",
       "    </tr>\n",
       "    <tr>\n",
       "      <th>22</th>\n",
       "      <td>phi_l1</td>\n",
       "      <td>$\\phi_{\\mu 1}$</td>\n",
       "      <td>[-3.2, -3.0, -2.8, -2.6, -2.4, -2.2, -2.0, -1....</td>\n",
       "    </tr>\n",
       "    <tr>\n",
       "      <th>23</th>\n",
       "      <td>phi_l2</td>\n",
       "      <td>$\\phi_{\\mu 2}$</td>\n",
       "      <td>[-3.2, -3.0, -2.8, -2.6, -2.4, -2.2, -2.0, -1....</td>\n",
       "    </tr>\n",
       "  </tbody>\n",
       "</table>\n",
       "</div>"
      ],
      "text/plain": [
       "         file_label                              plot_label  \\\n",
       "0   Ntracks_trackj1    Leading track jet $n_{\\textrm{ch}}$    \n",
       "1   Ntracks_trackj2  Subleading track jet $n_{\\textrm{ch}}$   \n",
       "2         m_trackj1             Leading track jet $m$ [GeV]   \n",
       "3         m_trackj2          Subleading track jet $m$ [GeV]   \n",
       "4        pT_trackj1           Leading track jet $p_T$ [GeV]   \n",
       "5        pT_trackj2        Subleading track jet $p_T$ [GeV]   \n",
       "6         y_trackj1                   Leading track jet $y$   \n",
       "7         y_trackj2                Subleading track jet $y$   \n",
       "8       phi_trackj1                Leading track jet $\\phi$   \n",
       "9       phi_trackj2             Subleading track jet $\\phi$   \n",
       "10     tau1_trackj1              Leading track jet $\\tau_1$   \n",
       "11     tau1_trackj2           Subleading track jet $\\tau_1$   \n",
       "12     tau2_trackj1              Leading track jet $\\tau_2$   \n",
       "13     tau2_trackj2           Subleading track jet $\\tau_2$   \n",
       "14     tau3_trackj1              Leading track jet $\\tau_3$   \n",
       "15     tau3_trackj2           Subleading track jet $\\tau_3$   \n",
       "16            pT_ll                   $p^{\\mu \\mu}_T$ [GeV]   \n",
       "17             y_ll                           $y_{\\mu \\mu}$   \n",
       "18            pT_l1                   $p^{\\mu 1}_{T}$ [GeV]   \n",
       "19            pT_l2                   $p^{\\mu 2}_{T}$ [GeV]   \n",
       "20           eta_l1                          $\\eta_{\\mu 1}$   \n",
       "21           eta_l2                          $\\eta_{\\mu 2}$   \n",
       "22           phi_l1                          $\\phi_{\\mu 1}$   \n",
       "23           phi_l2                          $\\phi_{\\mu 2}$   \n",
       "\n",
       "                                                 bins  \n",
       "0   [1.0, 5.0, 7.0, 10.0, 13.0, 16.0, 20.0, 30.0, ...  \n",
       "1   [1.0, 2.0, 3.0, 5.0, 7.0, 9.0, 11.0, 15.0, 20....  \n",
       "2                 [0.0, 10.0, 20.0, 30.0, 40.0, 80.0]  \n",
       "3                   [0.0, 2.5, 5.0, 10.0, 20.0, 70.0]  \n",
       "4     [0.0, 50.0, 100.0, 150.0, 200.0, 300.0, 1000.0]  \n",
       "5                     [0.0, 25.0, 50.0, 100.0, 700.0]  \n",
       "6   [-2.5, -2.25, -2.0, -1.75, -1.5, -1.25, -1.0, ...  \n",
       "7   [-2.5, -2.0, -1.5, -1.0, -0.5, 0.0, 0.5, 1.0, ...  \n",
       "8   [-3.2, -3.0, -2.8, -2.6, -2.4, -2.2, -2.0, -1....  \n",
       "9   [-3.2, -2.8, -2.4, -2.0, -1.6, -1.2, -0.8, -0....  \n",
       "10         [0.0, 0.05, 0.1, 0.15, 0.2, 0.3, 0.5, 1.0]  \n",
       "11                [0.0, 0.1, 0.2, 0.3, 0.4, 0.5, 1.0]  \n",
       "12              [0.0, 0.05, 0.1, 0.15, 0.2, 0.3, 0.6]  \n",
       "13              [0.0, 0.05, 0.1, 0.15, 0.2, 0.3, 0.6]  \n",
       "14                  [0.0, 0.025, 0.05, 0.1, 0.2, 0.4]  \n",
       "15                   [0.0, 0.05, 0.1, 0.15, 0.2, 0.4]  \n",
       "16  [190.0, 230.0, 300.0, 450.0, 600.0, 1000.0, 20...  \n",
       "17  [-2.5, -2.0, -1.5, -1.0, -0.75, -0.5, -0.25, 0...  \n",
       "18  [25.0, 125.0, 200.0, 300.0, 400.0, 600.0, 2000.0]  \n",
       "19  [25.0, 40.0, 60.0, 80.0, 100.0, 150.0, 200.0, ...  \n",
       "20  [-2.5, -2.0, -1.5, -1.0, -0.75, -0.5, -0.25, 0...  \n",
       "21  [-2.5, -2.0, -1.5, -1.0, -0.75, -0.5, -0.25, 0...  \n",
       "22  [-3.2, -3.0, -2.8, -2.6, -2.4, -2.2, -2.0, -1....  \n",
       "23  [-3.2, -3.0, -2.8, -2.6, -2.4, -2.2, -2.0, -1....  "
      ]
     },
     "execution_count": 180,
     "metadata": {},
     "output_type": "execute_result"
    }
   ],
   "source": [
    "obs_df"
   ]
  },
  {
   "cell_type": "markdown",
   "id": "a400406f-df9a-422d-9fb7-d499174a93c6",
   "metadata": {},
   "source": [
    "### Unifold"
   ]
  },
  {
   "cell_type": "code",
   "execution_count": 181,
   "id": "74c2955e-845f-4514-afa1-29ee8468f5be",
   "metadata": {},
   "outputs": [],
   "source": [
    "K.clear_session()"
   ]
  },
  {
   "cell_type": "code",
   "execution_count": 182,
   "id": "1dcdca08-9f97-4468-8f5e-e989beec492b",
   "metadata": {},
   "outputs": [],
   "source": [
    "unifold_weights = np.zeros(shape=(len(obs), len(mc_truth_weights)))"
   ]
  },
  {
   "cell_type": "code",
   "execution_count": 183,
   "id": "49141212-1dc4-4a2a-82d0-b19effd1945f",
   "metadata": {},
   "outputs": [],
   "source": [
    "obs_index = 0\n",
    "bins = obs[obs_index]['bins']\n",
    "x_label = obs[obs_index]['plot_label']\n",
    "file_label = obs[obs_index]['file_label']\n",
    "save_label = plot_dir + 'UniFold/' + file_label + '/' + save_label0 + '-UniFold-' + file_label"
   ]
  },
  {
   "cell_type": "code",
   "execution_count": 186,
   "id": "764e9c36-fd74-4616-9b30-df7f670bad91",
   "metadata": {},
   "outputs": [],
   "source": [
    "mc_truth = mc[mc['truth_pass190']]['truth_' + file_label]\n",
    "mc_reco = mc[mc['pass190']][file_label]\n",
    "\n",
    "data_truth = data[data['truth_pass190']]['truth_' + file_label]\n",
    "data_reco = data[data['pass190']][file_label]"
   ]
  },
  {
   "cell_type": "code",
   "execution_count": 189,
   "id": "72e51d28-41bb-4438-8e56-759f7386cded",
   "metadata": {},
   "outputs": [
    {
     "name": "stderr",
     "output_type": "stream",
     "text": [
      "/clusterfs/ml4hep/mpettee/ATLASOmniFold/omnifold/plot.py:94: UserWarning: Matplotlib is currently using module://matplotlib_inline.backend_inline, which is a non-GUI backend, so cannot show the figure.\n",
      "  fig.show()\n"
     ]
    },
    {
     "data": {
      "image/png": "[encoded data removed]",
      "text/plain": [
       "<Figure size 1440x432 with 2 Axes>"
      ]
     },
     "metadata": {},
     "output_type": "display_data"
    }
   ],
   "source": [
    "plot_distributions(\n",
    "    sim_truth=mc_truth,\n",
    "    sim_reco=mc_reco,\n",
    "    sim_truth_weights_MC=mc_truth_weights,\n",
    "    sim_reco_weights_MC=mc_reco_weights,\n",
    "    data_truth=data_truth,\n",
    "    data_reco=data_reco,\n",
    "    data_truth_weights_MC=data_truth_weights,\n",
    "    data_reco_weights_MC=data_reco_weights,\n",
    "    bins=bins,\n",
    "    x_label=x_label,\n",
    "#     save_label=save_label\n",
    ")"
   ]
  },
  {
   "cell_type": "code",
   "execution_count": 197,
   "id": "d94e7bd5-3a55-4d0c-b674-b71e34c1809d",
   "metadata": {},
   "outputs": [
    {
     "ename": "AttributeError",
     "evalue": "'Series' object has no attribute 'reshape'",
     "output_type": "error",
     "traceback": [
      "\u001b[0;31m---------------------------------------------------------------------------\u001b[0m",
      "\u001b[0;31mAttributeError\u001b[0m                            Traceback (most recent call last)",
      "\u001b[0;32m/tmp/ipykernel_365/3224663933.py\u001b[0m in \u001b[0;36m<module>\u001b[0;34m\u001b[0m\n\u001b[1;32m      1\u001b[0m \u001b[0;31m# z-score standardization of data\u001b[0m\u001b[0;34m\u001b[0m\u001b[0;34m\u001b[0m\u001b[0;34m\u001b[0m\u001b[0m\n\u001b[1;32m      2\u001b[0m \u001b[0;34m\u001b[0m\u001b[0m\n\u001b[0;32m----> 3\u001b[0;31m mc_truth_z, mc_reco_z, data_reco_z = standardize(mc_truth, \n\u001b[0m\u001b[1;32m      4\u001b[0m                                                    \u001b[0mmc_reco\u001b[0m\u001b[0;34m,\u001b[0m\u001b[0;34m\u001b[0m\u001b[0;34m\u001b[0m\u001b[0m\n\u001b[1;32m      5\u001b[0m                                                    data_reco)\n",
      "\u001b[0;32m/clusterfs/ml4hep/mpettee/ATLASOmniFold/omnifold/utilities.py\u001b[0m in \u001b[0;36mstandardize\u001b[0;34m(sim_truth, sim_reco, data_reco, dummyval)\u001b[0m\n\u001b[1;32m      7\u001b[0m \u001b[0;34m\u001b[0m\u001b[0m\n\u001b[1;32m      8\u001b[0m     scaler_truth.fit(\n\u001b[0;32m----> 9\u001b[0;31m         sim_truth[sim_truth != dummyval].astype(float).reshape(-1, 1))\n\u001b[0m\u001b[1;32m     10\u001b[0m     scaler_reco.fit(\n\u001b[1;32m     11\u001b[0m         np.concatenate(\n",
      "\u001b[0;32m/clusterfs/ml4hep/mpettee/miniconda3/envs/omnifold/lib/python3.8/site-packages/pandas/core/generic.py\u001b[0m in \u001b[0;36m__getattr__\u001b[0;34m(self, name)\u001b[0m\n\u001b[1;32m   5139\u001b[0m             \u001b[0;32mif\u001b[0m \u001b[0mself\u001b[0m\u001b[0;34m.\u001b[0m\u001b[0m_info_axis\u001b[0m\u001b[0;34m.\u001b[0m\u001b[0m_can_hold_identifiers_and_holds_name\u001b[0m\u001b[0;34m(\u001b[0m\u001b[0mname\u001b[0m\u001b[0;34m)\u001b[0m\u001b[0;34m:\u001b[0m\u001b[0;34m\u001b[0m\u001b[0;34m\u001b[0m\u001b[0m\n\u001b[1;32m   5140\u001b[0m                 \u001b[0;32mreturn\u001b[0m \u001b[0mself\u001b[0m\u001b[0;34m[\u001b[0m\u001b[0mname\u001b[0m\u001b[0;34m]\u001b[0m\u001b[0;34m\u001b[0m\u001b[0;34m\u001b[0m\u001b[0m\n\u001b[0;32m-> 5141\u001b[0;31m             \u001b[0;32mreturn\u001b[0m \u001b[0mobject\u001b[0m\u001b[0;34m.\u001b[0m\u001b[0m__getattribute__\u001b[0m\u001b[0;34m(\u001b[0m\u001b[0mself\u001b[0m\u001b[0;34m,\u001b[0m \u001b[0mname\u001b[0m\u001b[0;34m)\u001b[0m\u001b[0;34m\u001b[0m\u001b[0;34m\u001b[0m\u001b[0m\n\u001b[0m\u001b[1;32m   5142\u001b[0m \u001b[0;34m\u001b[0m\u001b[0m\n\u001b[1;32m   5143\u001b[0m     \u001b[0;32mdef\u001b[0m \u001b[0m__setattr__\u001b[0m\u001b[0;34m(\u001b[0m\u001b[0mself\u001b[0m\u001b[0;34m,\u001b[0m \u001b[0mname\u001b[0m\u001b[0;34m:\u001b[0m \u001b[0mstr\u001b[0m\u001b[0;34m,\u001b[0m \u001b[0mvalue\u001b[0m\u001b[0;34m)\u001b[0m \u001b[0;34m->\u001b[0m \u001b[0;32mNone\u001b[0m\u001b[0;34m:\u001b[0m\u001b[0;34m\u001b[0m\u001b[0;34m\u001b[0m\u001b[0m\n",
      "\u001b[0;31mAttributeError\u001b[0m: 'Series' object has no attribute 'reshape'"
     ]
    }
   ],
   "source": [
    "# z-score standardization of data\n",
    "\n",
    "mc_truth_z, mc_reco_z, data_reco_z = standardize(mc_truth, \n",
    "                                                   mc_reco,\n",
    "                                                   data_reco)"
   ]
  },
  {
   "cell_type": "code",
   "execution_count": null,
   "id": "d211b667-3de4-4e62-b58e-3b57b93791f3",
   "metadata": {},
   "outputs": [],
   "source": []
  }
 ],
 "metadata": {
  "kernelspec": {
   "display_name": "omnifold",
   "language": "python",
   "name": "omnifold"
  },
  "language_info": {
   "codemirror_mode": {
    "name": "ipython",
    "version": 3
   },
   "file_extension": ".py",
   "mimetype": "text/x-python",
   "name": "python",
   "nbconvert_exporter": "python",
   "pygments_lexer": "ipython3",
   "version": "3.8.5"
  }
 },
 "nbformat": 4,
 "nbformat_minor": 5
}
