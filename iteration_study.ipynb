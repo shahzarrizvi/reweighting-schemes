{
 "cells": [
  {
   "cell_type": "markdown",
   "id": "f7d31f27-536a-4952-8349-fac14f90509a",
   "metadata": {},
   "source": [
    "An initial attempt at a study justifying the number of iterations used for Uni-/MultiFold."
   ]
  },
  {
   "cell_type": "code",
   "execution_count": 1,
   "id": "211789a5-c9f0-4973-be96-ff6d48e6c2de",
   "metadata": {},
   "outputs": [],
   "source": [
    "%load_ext autoreload\n",
    "%autoreload 2"
   ]
  },
  {
   "cell_type": "code",
   "execution_count": 2,
   "id": "f9c77b20-06a1-4b6a-898a-d30671b8d00f",
   "metadata": {},
   "outputs": [],
   "source": [
    "import os\n",
    "os.environ[\"CUDA_DEVICE_ORDER\"] = \"PCI_BUS_ID\"\n",
    "os.environ[\"CUDA_VISIBLE_DEVICES\"] = \"6\""
   ]
  },
  {
   "cell_type": "code",
   "execution_count": 3,
   "id": "f31c67e9-8723-4cba-97d9-75f9bfd6ff1d",
   "metadata": {},
   "outputs": [],
   "source": [
    "### Generic imports\n",
    "# from __future__ import absolute_import, division, print_function\n",
    "import numpy as np\n",
    "import scipy.stats as stats\n",
    "from tqdm import tqdm\n",
    "import matplotlib.pyplot as plt\n",
    "from matplotlib.backends.backend_pdf import PdfPages\n",
    "\n",
    "### ML imports\n",
    "from sklearn.model_selection import train_test_split\n",
    "import sklearn.preprocessing as preprocessing\n",
    "import livelossplot\n",
    "\n",
    "### Custom functions\n",
    "from ntupleanalysis import *\n",
    "from omnifold import *"
   ]
  },
  {
   "cell_type": "code",
   "execution_count": 4,
   "id": "2d52c8dc-60f5-4edb-ab8b-aee9e5ce895b",
   "metadata": {},
   "outputs": [],
   "source": [
    "plot_setup()"
   ]
  },
  {
   "cell_type": "code",
   "execution_count": 5,
   "id": "20810031-1bfd-4620-a4f9-910029f41cd4",
   "metadata": {},
   "outputs": [],
   "source": [
    "plot_dir = './plots/'\n",
    "save_label0 = 'iteration_test'"
   ]
  },
  {
   "cell_type": "code",
   "execution_count": null,
   "id": "21eca31a-9366-4fd4-8ea7-5544ca0eb3b8",
   "metadata": {},
   "outputs": [],
   "source": []
  }
 ],
 "metadata": {
  "kernelspec": {
   "display_name": "omnifold",
   "language": "python",
   "name": "omnifold"
  },
  "language_info": {
   "codemirror_mode": {
    "name": "ipython",
    "version": 3
   },
   "file_extension": ".py",
   "mimetype": "text/x-python",
   "name": "python",
   "nbconvert_exporter": "python",
   "pygments_lexer": "ipython3",
   "version": "3.8.5"
  }
 },
 "nbformat": 4,
 "nbformat_minor": 5
}
