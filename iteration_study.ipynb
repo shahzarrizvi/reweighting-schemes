{
 "cells": [
  {
   "cell_type": "markdown",
   "id": "f7d31f27-536a-4952-8349-fac14f90509a",
   "metadata": {},
   "source": [
    "An initial attempt at a study justifying the number of iterations used for Uni-/MultiFold."
   ]
  },
  {
   "cell_type": "code",
   "execution_count": 1,
   "id": "211789a5-c9f0-4973-be96-ff6d48e6c2de",
   "metadata": {},
   "outputs": [],
   "source": [
    "%load_ext autoreload\n",
    "%autoreload 2"
   ]
  },
  {
   "cell_type": "code",
   "execution_count": 2,
   "id": "f31c67e9-8723-4cba-97d9-75f9bfd6ff1d",
   "metadata": {},
   "outputs": [],
   "source": [
    "### Generic imports\n",
    "import os\n",
    "import numpy as np\n",
    "import pandas as pd\n",
    "import scipy.stats as stats\n",
    "from tqdm import tqdm\n",
    "import matplotlib.pyplot as plt\n",
    "from matplotlib.backends.backend_pdf import PdfPages\n",
    "\n",
    "### ML imports\n",
    "from sklearn.model_selection import train_test_split\n",
    "import sklearn.preprocessing as preprocessing\n",
    "import tensorflow as tf\n",
    "\n",
    "### Custom functions\n",
    "from omnifold import *\n",
    "from omnifold.utilities import *"
   ]
  },
  {
   "cell_type": "code",
   "execution_count": 3,
   "id": "b6760634-4a33-47c5-a8bf-c6137455fa62",
   "metadata": {},
   "outputs": [
    {
     "name": "stdout",
     "output_type": "stream",
     "text": [
      "GPU 0: Tesla V100-PCIE-16GB (UUID: GPU-b2eedb47-e26d-4e8b-5f08-28bd60cb8c80)\n",
      "GPU 1: Tesla V100-PCIE-16GB (UUID: GPU-330a175b-ca34-c7af-fff6-a665d8225488)\n",
      "GPU 2: NVIDIA GeForce GT 710 (UUID: GPU-38820045-e66c-3d13-0512-e926ac5928ef)\n"
     ]
    }
   ],
   "source": [
    "! nvidia-smi -L # list GPUs available"
   ]
  },
  {
   "cell_type": "code",
   "execution_count": 4,
   "id": "c6494b1d-fa24-4335-9a54-1774ad2e1482",
   "metadata": {},
   "outputs": [],
   "source": [
    "# ### GPU Setup\n",
    "# os.environ[\"CUDA_DEVICE_ORDER\"] = \"PCI_BUS_ID\"\n",
    "# os.environ[\"CUDA_VISIBLE_DEVICES\"] = \"1\" # pick a number < 4 on ML4HEP; < 3 on Voltan \n",
    "# physical_devices = tf.config.list_physical_devices('GPU') \n",
    "# tf.config.experimental.set_memory_growth(physical_devices[0], True)"
   ]
  },
  {
   "cell_type": "code",
   "execution_count": 5,
   "id": "2d52c8dc-60f5-4edb-ab8b-aee9e5ce895b",
   "metadata": {},
   "outputs": [],
   "source": [
    "plot_setup()\n",
    "plt.rcParams.update({\"font.family\": \"serif\",})"
   ]
  },
  {
   "cell_type": "code",
   "execution_count": 6,
   "id": "20810031-1bfd-4620-a4f9-910029f41cd4",
   "metadata": {},
   "outputs": [],
   "source": [
    "plot_dir = './plots/'"
   ]
  },
  {
   "cell_type": "markdown",
   "id": "6205721e-19de-4143-a27a-2d6811f7da84",
   "metadata": {},
   "source": [
    "### Load files"
   ]
  },
  {
   "cell_type": "markdown",
   "id": "558b11fc-f11a-43b4-b083-a34a7539c55c",
   "metadata": {},
   "source": [
    "Since we're not using data yet, \"MC\" = Powheg + Pythia8 MC16e and \"data\" = Sherpa 2.2.1 MC16e."
   ]
  },
  {
   "cell_type": "code",
   "execution_count": 7,
   "id": "4c96f0c4-2fcf-48e8-a79e-8881404ace33",
   "metadata": {},
   "outputs": [],
   "source": [
    "folder = '/data0/mpettee/omnifold_data/'"
   ]
  },
  {
   "cell_type": "code",
   "execution_count": 8,
   "id": "def4b981-62fb-4045-aa37-2e755ba5a8a3",
   "metadata": {},
   "outputs": [],
   "source": [
    "f_mc = uproot.open(folder+\"ZjetOmnifold_Jun25_PowhegPythia_mc16e_slim.root\")\n",
    "f_data = uproot.open(folder+\"ZjetOmnifold_Jun25_Sherpa221_mc16e_slim.root\")"
   ]
  },
  {
   "cell_type": "code",
   "execution_count": 9,
   "id": "0d434207-3f13-471d-8608-c5ec90f3fa2a",
   "metadata": {},
   "outputs": [],
   "source": [
    "columns = f_mc['OmniTree'].keys()"
   ]
  },
  {
   "cell_type": "markdown",
   "id": "f56d5d7f-925d-4fc2-8e08-f1f449c48804",
   "metadata": {},
   "source": [
    "These columns are the same for both samples, since they're both MC:"
   ]
  },
  {
   "cell_type": "code",
   "execution_count": 10,
   "id": "93b4741d-d40b-475f-acc3-7146b4d9b25a",
   "metadata": {},
   "outputs": [
    {
     "data": {
      "text/plain": [
       "True"
      ]
     },
     "execution_count": 10,
     "metadata": {},
     "output_type": "execute_result"
    }
   ],
   "source": [
    "f_mc['OmniTree'].keys() == f_data['OmniTree'].keys()"
   ]
  },
  {
   "cell_type": "markdown",
   "id": "2e6747a1-2a29-4be1-8e3f-5ce4ba70a764",
   "metadata": {},
   "source": [
    "Note that variables ending in `_tracks` require MultiIndex-ing. It's possible to combine these with flat variables, but it does increase the size of the DataFrame considerably: "
   ]
  },
  {
   "cell_type": "code",
   "execution_count": null,
   "id": "642fc06f-1a2e-4391-a628-b8891f274210",
   "metadata": {},
   "outputs": [],
   "source": [
    "# [col for col in columns if col.endswith(\"_tracks\")]"
   ]
  },
  {
   "cell_type": "code",
   "execution_count": null,
   "id": "26d76de8-0eaf-4e7d-bced-97086b7dc23e",
   "metadata": {},
   "outputs": [],
   "source": [
    "# f_mc['OmniTree'].arrays(\n",
    "#     [\"weight\",\"pT_tracks\"],\n",
    "#     library=\"pd\")"
   ]
  },
  {
   "cell_type": "markdown",
   "id": "e375ce73-0145-4c37-8b8c-7720d726e825",
   "metadata": {},
   "source": [
    "Let's ignore the MultiIndex variables for now."
   ]
  },
  {
   "cell_type": "code",
   "execution_count": 11,
   "id": "c94ceb1a-20dc-4889-9fc9-6aff419d588c",
   "metadata": {},
   "outputs": [
    {
     "name": "stdout",
     "output_type": "stream",
     "text": [
      "MC has 416,725 events with 57 columns.\n",
      "Data has 3,578,623 events with 57 columns.\n"
     ]
    }
   ],
   "source": [
    "mc = f_mc['OmniTree'].arrays(\n",
    "    [col for col in columns if not col.endswith(\"_tracks\")],\n",
    "    library=\"pd\")\n",
    "\n",
    "data = f_data['OmniTree'].arrays(\n",
    "    [col for col in columns if not col.endswith(\"_tracks\")],\n",
    "    library=\"pd\")\n",
    "\n",
    "print(\"MC has {:,} events with {} columns.\".format(mc.shape[0],mc.shape[1]))\n",
    "print(\"Data has {:,} events with {} columns.\".format(data.shape[0],data.shape[1]))"
   ]
  },
  {
   "cell_type": "markdown",
   "id": "b46084c8-79b8-4512-baa9-001eb3f6a009",
   "metadata": {},
   "source": [
    "### Apply event selection"
   ]
  },
  {
   "cell_type": "code",
   "execution_count": 12,
   "id": "a5b4a5f3-24f4-459e-96c5-28ac935e52f4",
   "metadata": {},
   "outputs": [],
   "source": [
    "mc['pass190'] = mc['pass190'].astype('bool')\n",
    "mc['truth_pass190'] = mc['truth_pass190'].astype('bool')\n",
    "data['pass190'] = data['pass190'].astype('bool')\n",
    "data['truth_pass190'] = data['truth_pass190'].astype('bool')"
   ]
  },
  {
   "cell_type": "code",
   "execution_count": 13,
   "id": "a006689a-2061-4755-8588-072825d640b0",
   "metadata": {},
   "outputs": [],
   "source": [
    "### The sample we're using already has these cuts applied, but we'll keep them in for future datasets. \n",
    "mc_truth_weights = mc[(mc.pass190 | mc.truth_pass190)].weight_mc\n",
    "mc_reco_weights = mc[(mc.pass190 | mc.truth_pass190)].weight\n",
    "\n",
    "data_truth_weights = data[data.truth_pass190].weight_mc\n",
    "data_reco_weights = data[data.pass190].weight"
   ]
  },
  {
   "cell_type": "code",
   "execution_count": null,
   "id": "9bdd8cdb-6677-4957-8f49-606f1797d824",
   "metadata": {},
   "outputs": [],
   "source": [
    "## JUST FOR FUN/OPTIONAL: add a large offset to 10% of the true data, for fun\n",
    "# data_truth_weights[:343775] = data_truth_weights[:343775]*10"
   ]
  },
  {
   "cell_type": "markdown",
   "id": "3d831455-f6ac-4859-9666-ffc6927ed5b7",
   "metadata": {},
   "source": [
    "Normalize the weights:"
   ]
  },
  {
   "cell_type": "code",
   "execution_count": 14,
   "id": "4fa077aa-c3f9-4e8e-bf1b-f2986adca95e",
   "metadata": {},
   "outputs": [],
   "source": [
    "for weights in [mc_truth_weights, mc_reco_weights, data_truth_weights, data_reco_weights]:\n",
    "    weights /= np.mean(weights)"
   ]
  },
  {
   "cell_type": "code",
   "execution_count": null,
   "id": "259e6b80-316f-486f-a479-87ed3ba53a47",
   "metadata": {},
   "outputs": [],
   "source": [
    "bins = np.linspace(-3, 3, 100)\n",
    "\n",
    "plt.figure(figsize=(10, 6))\n",
    "hW_sim_truth, _, _ = plt.hist(mc_truth_weights,\n",
    "                              bins=bins,\n",
    "                              label=r'MC (Powheg + Pythia8)',\n",
    "                              **plot_style_2)\n",
    "hW_data_truth, _, _ = plt.hist(data_truth_weights,\n",
    "                               bins=bins,\n",
    "                               label=r'``Data\" (Sherpa 2.2.1)',\n",
    "                               **plot_style_2)\n",
    "plt.xlabel('MC Truth Weight')\n",
    "plt.ylabel('Events per bin (normalized)')\n",
    "plt.ylim(top=1.5 * np.max((hW_sim_truth, hW_data_truth)))\n",
    "plt.legend()\n",
    "draw_atlas_text()\n",
    "plt.show()\n",
    "\n",
    "plt.figure(figsize=(10, 6))\n",
    "hW_sim_reco, _, _ = plt.hist(mc_reco_weights,\n",
    "                             bins=bins,\n",
    "                             label=r'MC (Powheg + Pythia8)',\n",
    "                             **plot_style_2)\n",
    "hW_data_reco, _, _ = plt.hist(data_reco_weights,\n",
    "                              bins=bins,\n",
    "                              label=r'``Data\" (Sherpa 2.2.1)',\n",
    "                              **plot_style_2)\n",
    "plt.xlabel('MC Reco Weight')\n",
    "plt.ylabel('Events per bin (normalized)')\n",
    "plt.ylim(top=1.5 * np.max((hW_sim_reco, hW_data_reco)))\n",
    "plt.legend()\n",
    "draw_atlas_text()\n",
    "plt.show()"
   ]
  },
  {
   "cell_type": "markdown",
   "id": "a75b754b-1c01-423b-8727-880cb146eeb6",
   "metadata": {},
   "source": [
    "### Load IBU histograms to get binning"
   ]
  },
  {
   "cell_type": "code",
   "execution_count": 15,
   "id": "947d964f-7fba-44c5-8a05-fb6b3bad62a0",
   "metadata": {},
   "outputs": [],
   "source": [
    "file_labels = [\n",
    "    'Ntracks_trackj1', 'Ntracks_trackj2', 'm_trackj1', 'm_trackj2',\n",
    "    'pT_trackj1', 'pT_trackj2', 'y_trackj1', 'y_trackj2', 'phi_trackj1',\n",
    "    'phi_trackj2', 'tau1_trackj1', 'tau1_trackj2', 'tau2_trackj1',\n",
    "    'tau2_trackj2', 'tau3_trackj1', 'tau3_trackj2', 'pT_ll', 'y_ll', 'pT_l1',\n",
    "    'pT_l2', 'eta_l1', 'eta_l2', 'phi_l1', 'phi_l2'\n",
    "]\n",
    "plot_labels = [\n",
    "    r'Leading track jet $n_{\\textrm{ch}}$ ',\n",
    "    r'Subleading track jet $n_{\\textrm{ch}}$', 'Leading track jet $m$ [GeV]',\n",
    "    r'Subleading track jet $m$ [GeV]', r'Leading track jet $p_T$ [GeV]',\n",
    "    r'Subleading track jet $p_T$ [GeV]', r'Leading track jet $y$',\n",
    "    r'Subleading track jet $y$', r'Leading track jet $\\phi$',\n",
    "    r'Subleading track jet $\\phi$', r'Leading track jet $\\tau_1$',\n",
    "    r'Subleading track jet $\\tau_1$', r'Leading track jet $\\tau_2$',\n",
    "    r'Subleading track jet $\\tau_2$', r'Leading track jet $\\tau_3$',\n",
    "    r'Subleading track jet $\\tau_3$', r'$p^{\\mu \\mu}_T$ [GeV]',\n",
    "    r'$y_{\\mu \\mu}$', r'$p^{\\mu 1}_{T}$ [GeV]', r'$p^{\\mu 2}_{T}$ [GeV]',\n",
    "    '$\\eta_{\\mu 1}$', '$\\eta_{\\mu 2}$', '$\\phi_{\\mu 1}$', '$\\phi_{\\mu 2}$'\n",
    "]"
   ]
  },
  {
   "cell_type": "code",
   "execution_count": 16,
   "id": "55322edc-6a38-4a63-b3c9-03fada52c8b4",
   "metadata": {},
   "outputs": [],
   "source": [
    "IBU_hists = uproot.open(folder+'unfoldingPlotsJune14_UnfoldedHists.root')\n",
    "\n",
    "bins = []\n",
    "for label in file_labels:\n",
    "    bins += [IBU_hists['SherpaUnfoldWPythia_2018_'+label].to_numpy()[1]]"
   ]
  },
  {
   "cell_type": "code",
   "execution_count": 17,
   "id": "493d5e2e-eb02-4165-8f47-6c63d23c6fc8",
   "metadata": {},
   "outputs": [],
   "source": [
    "labels_and_bins = zip(file_labels, plot_labels, bins)\n",
    "\n",
    "ibu_hists = []\n",
    "\n",
    "for file_label, plot_label, plot_bins in labels_and_bins:\n",
    "    ibu_hists += [{\n",
    "        'file_label': file_label,\n",
    "        'plot_label': plot_label,\n",
    "        'bins': plot_bins\n",
    "    }]"
   ]
  },
  {
   "cell_type": "code",
   "execution_count": 18,
   "id": "70581740-100e-4322-b9fc-caf4049a2a5f",
   "metadata": {},
   "outputs": [],
   "source": [
    "### Replace bins with Laura's new binning! \n",
    "ibu_hists[0]['bins'] = np.array([1,  7,  11,  15,  20,  30,  40]) "
   ]
  },
  {
   "cell_type": "markdown",
   "id": "a400406f-df9a-422d-9fb7-d499174a93c6",
   "metadata": {
    "tags": []
   },
   "source": [
    "### Unifold"
   ]
  },
  {
   "cell_type": "code",
   "execution_count": 20,
   "id": "74c2955e-845f-4514-afa1-29ee8468f5be",
   "metadata": {},
   "outputs": [],
   "source": [
    "K.clear_session()\n",
    "unifold_weights = np.zeros(shape=(len(ibu_hists), len(mc_truth_weights)))"
   ]
  },
  {
   "cell_type": "code",
   "execution_count": 22,
   "id": "b1ff2a8e-a68e-41a8-be4e-cfb321a9b46f",
   "metadata": {},
   "outputs": [],
   "source": [
    "save_label0 = 'test'"
   ]
  },
  {
   "cell_type": "code",
   "execution_count": 23,
   "id": "49141212-1dc4-4a2a-82d0-b19effd1945f",
   "metadata": {},
   "outputs": [
    {
     "name": "stdout",
     "output_type": "stream",
     "text": [
      "Saving as ./plots/UniFold/Ntracks_trackj1/test.\n"
     ]
    }
   ],
   "source": [
    "i = 0 # index of variable of interest (num_tracks for leading jet)\n",
    "### Replace bins with Laura's new binning! \n",
    "ibu_hists[i]['bins'] = np.array([1,  7,  11,  15,  20,  30,  40]) \n",
    "bins = ibu_hists[i]['bins']\n",
    "x_label = ibu_hists[i]['plot_label']\n",
    "file_label = ibu_hists[i]['file_label']\n",
    "os.makedirs(plot_dir+'UniFold/'+file_label, exist_ok=True)\n",
    "save_label = plot_dir+'UniFold/'+file_label+'/'+save_label0\n",
    "print(\"Saving as {}.\".format(save_label))"
   ]
  },
  {
   "cell_type": "markdown",
   "id": "8aae6cd5-549c-46cb-a424-4ee454af58ec",
   "metadata": {},
   "source": [
    "Grab the particular variable you care about, and set a dummy value for events that don't pass each MC selection:"
   ]
  },
  {
   "cell_type": "code",
   "execution_count": null,
   "id": "764e9c36-fd74-4616-9b30-df7f670bad91",
   "metadata": {},
   "outputs": [],
   "source": [
    "dummyval = -99\n",
    "mc_truth = mc[(mc.pass190 | mc.truth_pass190)]['truth_' + file_label]\n",
    "mc_truth[mc.truth_pass190 == False] = dummyval\n",
    "mc_reco = mc[(mc.pass190 | mc.truth_pass190)][file_label]\n",
    "mc_reco[mc.pass190 == False] = dummyval\n",
    "\n",
    "data_truth = data[data['truth_pass190']]['truth_' + file_label]\n",
    "data_reco = data[data['pass190']][file_label]"
   ]
  },
  {
   "cell_type": "markdown",
   "id": "1a88546d-882a-48e2-b1ed-e7381c1f08fe",
   "metadata": {},
   "source": [
    "Plot this observable in MC & \"data\" before unfolding:"
   ]
  },
  {
   "cell_type": "code",
   "execution_count": null,
   "id": "72e51d28-41bb-4438-8e56-759f7386cded",
   "metadata": {},
   "outputs": [],
   "source": [
    "plot_distributions(\n",
    "    sim_truth=mc_truth,\n",
    "    sim_reco=mc_reco,\n",
    "    sim_truth_weights_MC=mc_truth_weights,\n",
    "    sim_reco_weights_MC=mc_reco_weights,\n",
    "    data_truth=data_truth,\n",
    "    data_reco=data_reco,\n",
    "    data_truth_weights_MC=data_truth_weights,\n",
    "    data_reco_weights_MC=data_reco_weights,\n",
    "    bins=bins,\n",
    "    x_label=x_label,\n",
    "    save_label=save_label\n",
    ")"
   ]
  },
  {
   "cell_type": "markdown",
   "id": "a34c90e5-a6c8-4dc4-918d-4ce8a8ca7dba",
   "metadata": {},
   "source": [
    "Standardize the data by z-score:"
   ]
  },
  {
   "cell_type": "code",
   "execution_count": null,
   "id": "d94e7bd5-3a55-4d0c-b674-b71e34c1809d",
   "metadata": {},
   "outputs": [],
   "source": [
    "mc_truth_z, mc_reco_z, data_reco_z = standardize(np.array(mc_truth), np.array(mc_reco), np.array(data_reco))"
   ]
  },
  {
   "cell_type": "markdown",
   "id": "9dedc38d-e164-4dac-936f-ef6e187ce6a9",
   "metadata": {},
   "source": [
    "Unfold!"
   ]
  },
  {
   "cell_type": "code",
   "execution_count": null,
   "id": "3c299b30-50db-40dd-b00b-31ccc3742d22",
   "metadata": {},
   "outputs": [],
   "source": [
    "weights, _ = unifold(iterations=10,\n",
    "                     sim_truth=mc_truth_z,\n",
    "                     sim_reco=mc_reco_z,\n",
    "                     sim_truth_weights_MC=mc_truth_weights,\n",
    "                     sim_reco_weights_MC=mc_reco_weights,\n",
    "                     data_reco=data_reco_z,\n",
    "                     data_reco_weights_MC=data_reco_weights,\n",
    "                     dummyval=dummyval,\n",
    "                     verbose=0,\n",
    "                    )"
   ]
  },
  {
   "cell_type": "code",
   "execution_count": null,
   "id": "93e4da54-62db-46c5-a038-61207eb3ce7a",
   "metadata": {},
   "outputs": [],
   "source": [
    "unifold_weights[i] = best_1D_reweighting(\n",
    "    test=mc_reco,\n",
    "    test_weights=np.array(mc_reco_weights) * weights[:,1],\n",
    "    target=data_reco,\n",
    "    target_weights=data_reco_weights,\n",
    "    bins=bins)"
   ]
  },
  {
   "cell_type": "code",
   "execution_count": null,
   "id": "330c52fb-1bc4-41c8-b225-9ba47b166074",
   "metadata": {},
   "outputs": [],
   "source": [
    "plot_results(sim_truth=mc_truth,\n",
    "             sim_reco=mc_reco,\n",
    "             sim_truth_weights_MC=mc_truth_weights,\n",
    "             sim_reco_weights_MC=mc_reco_weights,\n",
    "             data_truth=data_truth,\n",
    "             data_reco=data_reco,\n",
    "             data_truth_weights_MC=data_truth_weights,\n",
    "             data_reco_weights_MC=data_reco_weights,\n",
    "             weights=weights,\n",
    "             bins=bins,\n",
    "             x_label=x_label,\n",
    "             flavor_label='UniFold',\n",
    "             save_label=save_label\n",
    "            )"
   ]
  },
  {
   "cell_type": "markdown",
   "id": "b9f06e43-2dea-495a-a81d-da56fcab85e0",
   "metadata": {},
   "source": [
    "### Run unfolding multiple times w/ Poisson bootstrapping to calculate statistical uncertainty:"
   ]
  },
  {
   "cell_type": "code",
   "execution_count": 24,
   "id": "920e64c4-5e30-4bf2-b3b7-0ea8935d1ced",
   "metadata": {},
   "outputs": [
    {
     "name": "stderr",
     "output_type": "stream",
     "text": [
      "Trial:   0%|          | 0/3 [00:00<?, ?it/s]\n",
      "  0%|          | 0/10 [00:00<?, ?it/s]\u001b[A/home/mpettee/ATLASOmniFold/omnifold/unifold.py:16: RuntimeWarning: divide by zero encountered in true_divide\n",
      "  weights = f / (1. - f)\n",
      "\n",
      " 10%|█         | 1/10 [00:49<07:26, 49.61s/it]\u001b[A\n",
      " 20%|██        | 2/10 [01:48<07:18, 54.81s/it]\u001b[A\n",
      " 30%|███       | 3/10 [02:46<06:35, 56.47s/it]\u001b[A\n",
      " 40%|████      | 4/10 [03:43<05:39, 56.59s/it]\u001b[A\n",
      " 50%|█████     | 5/10 [05:31<05:31, 66.22s/it]\u001b[A\n",
      "Trial:   0%|          | 0/3 [05:32<?, ?it/s]\n"
     ]
    },
    {
     "ename": "KeyboardInterrupt",
     "evalue": "",
     "output_type": "error",
     "traceback": [
      "\u001b[0;31m---------------------------------------------------------------------------\u001b[0m",
      "\u001b[0;31mKeyboardInterrupt\u001b[0m                         Traceback (most recent call last)",
      "\u001b[0;32m<ipython-input-24-b0869cbb94a3>\u001b[0m in \u001b[0;36m<module>\u001b[0;34m\u001b[0m\n\u001b[1;32m     65\u001b[0m \u001b[0;34m\u001b[0m\u001b[0m\n\u001b[1;32m     66\u001b[0m     \u001b[0;31m### Perform all iterations of unfolding, and fill results in \"weights\" array\u001b[0m\u001b[0;34m\u001b[0m\u001b[0;34m\u001b[0m\u001b[0;34m\u001b[0m\u001b[0m\n\u001b[0;32m---> 67\u001b[0;31m     weights, _ = unifold(iterations=n_iterations,\n\u001b[0m\u001b[1;32m     68\u001b[0m                  \u001b[0msim_truth\u001b[0m\u001b[0;34m=\u001b[0m\u001b[0mmc_truth_z\u001b[0m\u001b[0;34m,\u001b[0m\u001b[0;34m\u001b[0m\u001b[0;34m\u001b[0m\u001b[0m\n\u001b[1;32m     69\u001b[0m                  \u001b[0msim_reco\u001b[0m\u001b[0;34m=\u001b[0m\u001b[0mmc_reco_z\u001b[0m\u001b[0;34m,\u001b[0m\u001b[0;34m\u001b[0m\u001b[0;34m\u001b[0m\u001b[0m\n",
      "\u001b[0;32m~/ATLASOmniFold/omnifold/unifold.py\u001b[0m in \u001b[0;36munifold\u001b[0;34m(iterations, sim_truth, sim_reco, data_reco, sim_truth_weights_MC, sim_reco_weights_MC, data_reco_weights_MC, dummyval, average_weight, model_init_filepath, verbose, callbacks)\u001b[0m\n\u001b[1;32m    274\u001b[0m                               \u001b[0moptimizer\u001b[0m\u001b[0;34m=\u001b[0m\u001b[0;34m'Adam'\u001b[0m\u001b[0;34m,\u001b[0m\u001b[0;34m\u001b[0m\u001b[0;34m\u001b[0m\u001b[0m\n\u001b[1;32m    275\u001b[0m                               metrics=['accuracy'])\n\u001b[0;32m--> 276\u001b[0;31m                 model.fit(X_train_2b,\n\u001b[0m\u001b[1;32m    277\u001b[0m                           \u001b[0mY_train_2b\u001b[0m\u001b[0;34m,\u001b[0m\u001b[0;34m\u001b[0m\u001b[0;34m\u001b[0m\u001b[0m\n\u001b[1;32m    278\u001b[0m                           \u001b[0mepochs\u001b[0m\u001b[0;34m=\u001b[0m\u001b[0;36m1000\u001b[0m\u001b[0;34m,\u001b[0m\u001b[0;34m\u001b[0m\u001b[0;34m\u001b[0m\u001b[0m\n",
      "\u001b[0;32m~/miniconda3/envs/omnifold/lib/python3.8/site-packages/keras/engine/training.py\u001b[0m in \u001b[0;36mfit\u001b[0;34m(self, x, y, batch_size, epochs, verbose, callbacks, validation_split, validation_data, shuffle, class_weight, sample_weight, initial_epoch, steps_per_epoch, validation_steps, validation_batch_size, validation_freq, max_queue_size, workers, use_multiprocessing)\u001b[0m\n\u001b[1;32m   1182\u001b[0m                 _r=1):\n\u001b[1;32m   1183\u001b[0m               \u001b[0mcallbacks\u001b[0m\u001b[0;34m.\u001b[0m\u001b[0mon_train_batch_begin\u001b[0m\u001b[0;34m(\u001b[0m\u001b[0mstep\u001b[0m\u001b[0;34m)\u001b[0m\u001b[0;34m\u001b[0m\u001b[0;34m\u001b[0m\u001b[0m\n\u001b[0;32m-> 1184\u001b[0;31m               \u001b[0mtmp_logs\u001b[0m \u001b[0;34m=\u001b[0m \u001b[0mself\u001b[0m\u001b[0;34m.\u001b[0m\u001b[0mtrain_function\u001b[0m\u001b[0;34m(\u001b[0m\u001b[0miterator\u001b[0m\u001b[0;34m)\u001b[0m\u001b[0;34m\u001b[0m\u001b[0;34m\u001b[0m\u001b[0m\n\u001b[0m\u001b[1;32m   1185\u001b[0m               \u001b[0;32mif\u001b[0m \u001b[0mdata_handler\u001b[0m\u001b[0;34m.\u001b[0m\u001b[0mshould_sync\u001b[0m\u001b[0;34m:\u001b[0m\u001b[0;34m\u001b[0m\u001b[0;34m\u001b[0m\u001b[0m\n\u001b[1;32m   1186\u001b[0m                 \u001b[0mcontext\u001b[0m\u001b[0;34m.\u001b[0m\u001b[0masync_wait\u001b[0m\u001b[0;34m(\u001b[0m\u001b[0;34m)\u001b[0m\u001b[0;34m\u001b[0m\u001b[0;34m\u001b[0m\u001b[0m\n",
      "\u001b[0;32m~/miniconda3/envs/omnifold/lib/python3.8/site-packages/tensorflow/python/eager/def_function.py\u001b[0m in \u001b[0;36m__call__\u001b[0;34m(self, *args, **kwds)\u001b[0m\n\u001b[1;32m    883\u001b[0m \u001b[0;34m\u001b[0m\u001b[0m\n\u001b[1;32m    884\u001b[0m       \u001b[0;32mwith\u001b[0m \u001b[0mOptionalXlaContext\u001b[0m\u001b[0;34m(\u001b[0m\u001b[0mself\u001b[0m\u001b[0;34m.\u001b[0m\u001b[0m_jit_compile\u001b[0m\u001b[0;34m)\u001b[0m\u001b[0;34m:\u001b[0m\u001b[0;34m\u001b[0m\u001b[0;34m\u001b[0m\u001b[0m\n\u001b[0;32m--> 885\u001b[0;31m         \u001b[0mresult\u001b[0m \u001b[0;34m=\u001b[0m \u001b[0mself\u001b[0m\u001b[0;34m.\u001b[0m\u001b[0m_call\u001b[0m\u001b[0;34m(\u001b[0m\u001b[0;34m*\u001b[0m\u001b[0margs\u001b[0m\u001b[0;34m,\u001b[0m \u001b[0;34m**\u001b[0m\u001b[0mkwds\u001b[0m\u001b[0;34m)\u001b[0m\u001b[0;34m\u001b[0m\u001b[0;34m\u001b[0m\u001b[0m\n\u001b[0m\u001b[1;32m    886\u001b[0m \u001b[0;34m\u001b[0m\u001b[0m\n\u001b[1;32m    887\u001b[0m       \u001b[0mnew_tracing_count\u001b[0m \u001b[0;34m=\u001b[0m \u001b[0mself\u001b[0m\u001b[0;34m.\u001b[0m\u001b[0mexperimental_get_tracing_count\u001b[0m\u001b[0;34m(\u001b[0m\u001b[0;34m)\u001b[0m\u001b[0;34m\u001b[0m\u001b[0;34m\u001b[0m\u001b[0m\n",
      "\u001b[0;32m~/miniconda3/envs/omnifold/lib/python3.8/site-packages/tensorflow/python/eager/def_function.py\u001b[0m in \u001b[0;36m_call\u001b[0;34m(self, *args, **kwds)\u001b[0m\n\u001b[1;32m    915\u001b[0m       \u001b[0;31m# In this case we have created variables on the first call, so we run the\u001b[0m\u001b[0;34m\u001b[0m\u001b[0;34m\u001b[0m\u001b[0;34m\u001b[0m\u001b[0m\n\u001b[1;32m    916\u001b[0m       \u001b[0;31m# defunned version which is guaranteed to never create variables.\u001b[0m\u001b[0;34m\u001b[0m\u001b[0;34m\u001b[0m\u001b[0;34m\u001b[0m\u001b[0m\n\u001b[0;32m--> 917\u001b[0;31m       \u001b[0;32mreturn\u001b[0m \u001b[0mself\u001b[0m\u001b[0;34m.\u001b[0m\u001b[0m_stateless_fn\u001b[0m\u001b[0;34m(\u001b[0m\u001b[0;34m*\u001b[0m\u001b[0margs\u001b[0m\u001b[0;34m,\u001b[0m \u001b[0;34m**\u001b[0m\u001b[0mkwds\u001b[0m\u001b[0;34m)\u001b[0m  \u001b[0;31m# pylint: disable=not-callable\u001b[0m\u001b[0;34m\u001b[0m\u001b[0;34m\u001b[0m\u001b[0m\n\u001b[0m\u001b[1;32m    918\u001b[0m     \u001b[0;32melif\u001b[0m \u001b[0mself\u001b[0m\u001b[0;34m.\u001b[0m\u001b[0m_stateful_fn\u001b[0m \u001b[0;32mis\u001b[0m \u001b[0;32mnot\u001b[0m \u001b[0;32mNone\u001b[0m\u001b[0;34m:\u001b[0m\u001b[0;34m\u001b[0m\u001b[0;34m\u001b[0m\u001b[0m\n\u001b[1;32m    919\u001b[0m       \u001b[0;31m# Release the lock early so that multiple threads can perform the call\u001b[0m\u001b[0;34m\u001b[0m\u001b[0;34m\u001b[0m\u001b[0;34m\u001b[0m\u001b[0m\n",
      "\u001b[0;32m~/miniconda3/envs/omnifold/lib/python3.8/site-packages/tensorflow/python/eager/function.py\u001b[0m in \u001b[0;36m__call__\u001b[0;34m(self, *args, **kwargs)\u001b[0m\n\u001b[1;32m   3037\u001b[0m       (graph_function,\n\u001b[1;32m   3038\u001b[0m        filtered_flat_args) = self._maybe_define_function(args, kwargs)\n\u001b[0;32m-> 3039\u001b[0;31m     return graph_function._call_flat(\n\u001b[0m\u001b[1;32m   3040\u001b[0m         filtered_flat_args, captured_inputs=graph_function.captured_inputs)  # pylint: disable=protected-access\n\u001b[1;32m   3041\u001b[0m \u001b[0;34m\u001b[0m\u001b[0m\n",
      "\u001b[0;32m~/miniconda3/envs/omnifold/lib/python3.8/site-packages/tensorflow/python/eager/function.py\u001b[0m in \u001b[0;36m_call_flat\u001b[0;34m(self, args, captured_inputs, cancellation_manager)\u001b[0m\n\u001b[1;32m   1961\u001b[0m         and executing_eagerly):\n\u001b[1;32m   1962\u001b[0m       \u001b[0;31m# No tape is watching; skip to running the function.\u001b[0m\u001b[0;34m\u001b[0m\u001b[0;34m\u001b[0m\u001b[0;34m\u001b[0m\u001b[0m\n\u001b[0;32m-> 1963\u001b[0;31m       return self._build_call_outputs(self._inference_function.call(\n\u001b[0m\u001b[1;32m   1964\u001b[0m           ctx, args, cancellation_manager=cancellation_manager))\n\u001b[1;32m   1965\u001b[0m     forward_backward = self._select_forward_and_backward_functions(\n",
      "\u001b[0;32m~/miniconda3/envs/omnifold/lib/python3.8/site-packages/tensorflow/python/eager/function.py\u001b[0m in \u001b[0;36mcall\u001b[0;34m(self, ctx, args, cancellation_manager)\u001b[0m\n\u001b[1;32m    589\u001b[0m       \u001b[0;32mwith\u001b[0m \u001b[0m_InterpolateFunctionError\u001b[0m\u001b[0;34m(\u001b[0m\u001b[0mself\u001b[0m\u001b[0;34m)\u001b[0m\u001b[0;34m:\u001b[0m\u001b[0;34m\u001b[0m\u001b[0;34m\u001b[0m\u001b[0m\n\u001b[1;32m    590\u001b[0m         \u001b[0;32mif\u001b[0m \u001b[0mcancellation_manager\u001b[0m \u001b[0;32mis\u001b[0m \u001b[0;32mNone\u001b[0m\u001b[0;34m:\u001b[0m\u001b[0;34m\u001b[0m\u001b[0;34m\u001b[0m\u001b[0m\n\u001b[0;32m--> 591\u001b[0;31m           outputs = execute.execute(\n\u001b[0m\u001b[1;32m    592\u001b[0m               \u001b[0mstr\u001b[0m\u001b[0;34m(\u001b[0m\u001b[0mself\u001b[0m\u001b[0;34m.\u001b[0m\u001b[0msignature\u001b[0m\u001b[0;34m.\u001b[0m\u001b[0mname\u001b[0m\u001b[0;34m)\u001b[0m\u001b[0;34m,\u001b[0m\u001b[0;34m\u001b[0m\u001b[0;34m\u001b[0m\u001b[0m\n\u001b[1;32m    593\u001b[0m               \u001b[0mnum_outputs\u001b[0m\u001b[0;34m=\u001b[0m\u001b[0mself\u001b[0m\u001b[0;34m.\u001b[0m\u001b[0m_num_outputs\u001b[0m\u001b[0;34m,\u001b[0m\u001b[0;34m\u001b[0m\u001b[0;34m\u001b[0m\u001b[0m\n",
      "\u001b[0;32m~/miniconda3/envs/omnifold/lib/python3.8/site-packages/tensorflow/python/eager/execute.py\u001b[0m in \u001b[0;36mquick_execute\u001b[0;34m(op_name, num_outputs, inputs, attrs, ctx, name)\u001b[0m\n\u001b[1;32m     57\u001b[0m   \u001b[0;32mtry\u001b[0m\u001b[0;34m:\u001b[0m\u001b[0;34m\u001b[0m\u001b[0;34m\u001b[0m\u001b[0m\n\u001b[1;32m     58\u001b[0m     \u001b[0mctx\u001b[0m\u001b[0;34m.\u001b[0m\u001b[0mensure_initialized\u001b[0m\u001b[0;34m(\u001b[0m\u001b[0;34m)\u001b[0m\u001b[0;34m\u001b[0m\u001b[0;34m\u001b[0m\u001b[0m\n\u001b[0;32m---> 59\u001b[0;31m     tensors = pywrap_tfe.TFE_Py_Execute(ctx._handle, device_name, op_name,\n\u001b[0m\u001b[1;32m     60\u001b[0m                                         inputs, attrs, num_outputs)\n\u001b[1;32m     61\u001b[0m   \u001b[0;32mexcept\u001b[0m \u001b[0mcore\u001b[0m\u001b[0;34m.\u001b[0m\u001b[0m_NotOkStatusException\u001b[0m \u001b[0;32mas\u001b[0m \u001b[0me\u001b[0m\u001b[0;34m:\u001b[0m\u001b[0;34m\u001b[0m\u001b[0;34m\u001b[0m\u001b[0m\n",
      "\u001b[0;31mKeyboardInterrupt\u001b[0m: "
     ]
    }
   ],
   "source": [
    "n_trials = 3        # how many full runs of unfolding     #30\n",
    "n_iterations = 10    # how many iterations per unfolding process    #10\n",
    "\n",
    "# Unifold result\n",
    "reco_unfolded_hists = np.zeros((n_trials, n_iterations+1, len(bins)-1)) \n",
    "truth_unfolded_hists = np.zeros((n_trials, n_iterations+1, len(bins)-1))\n",
    "\n",
    "# Chi-squared distances\n",
    "reco_distances = np.zeros((n_trials, n_iterations+1, len(bins)-1)) \n",
    "truth_distances = np.zeros((n_trials, n_iterations+1, len(bins)-1))\n",
    "\n",
    "for i in tqdm(range(n_trials), desc=\"Trial\"):\n",
    "    \n",
    "    K.clear_session()\n",
    "    unifold_weights = np.zeros(shape=(len(ibu_hists), len(mc_truth_weights)))\n",
    "    var_i = 0 # index of variable of interest (num_tracks for leading jet)\n",
    "    bins = ibu_hists[var_i]['bins']\n",
    "    x_label = ibu_hists[var_i]['plot_label']\n",
    "    file_label = ibu_hists[var_i]['file_label']\n",
    "    \n",
    "    dummyval = -99\n",
    "    mc_truth = mc[(mc.pass190 | mc.truth_pass190)]['truth_' + file_label]\n",
    "    mc_truth[mc.truth_pass190 == False] = dummyval\n",
    "    mc_reco = mc[(mc.pass190 | mc.truth_pass190)][file_label]\n",
    "    mc_reco[mc.pass190 == False] = dummyval\n",
    "\n",
    "    data_truth = data[data['truth_pass190']]['truth_' + file_label]\n",
    "    data_reco = data[data['pass190']][file_label]\n",
    "\n",
    "    # z-score standardization of data\n",
    "    mc_truth_z, mc_reco_z, data_reco_z = standardize(np.array(mc_truth), \n",
    "                                                   np.array(mc_reco),\n",
    "                                                   np.array(data_reco))\n",
    "    \n",
    "    ### Fill these arrays for Iteration 0, i.e. before unfolding, for context\n",
    "\n",
    "    hR0, _ = np.histogram(mc_reco[mc_reco!=dummyval],\n",
    "                       weights=mc_reco_weights[mc_reco!=dummyval],\n",
    "                       bins=bins, density=True)\n",
    "    \n",
    "    hR2, _ = np.histogram(data_reco[data_reco!=dummyval],\n",
    "                       weights=data_reco_weights[data_reco!=dummyval],\n",
    "                       bins=bins, density=True)\n",
    "    \n",
    "    hT0, _ = np.histogram(mc_truth[mc_truth!=dummyval],\n",
    "                       weights=mc_truth_weights[mc_truth!=dummyval],\n",
    "                       bins=bins, density=True)\n",
    "    \n",
    "    hT2, _ = np.histogram(data_truth[data_truth!=dummyval],\n",
    "                       weights=data_truth_weights[data_truth!=dummyval],\n",
    "                       bins=bins, density=True)\n",
    "    \n",
    "    \n",
    "    reco_distances[i][0] = 0.5*np.sum((hR0-hR2)**2/(hR0+hR2))\n",
    "    truth_distances[i][0] = 0.5*np.sum((hT0-hT2)**2/(hT0+hT2))\n",
    "        \n",
    "    reco_unfolded_hists[i][0] = hR0\n",
    "    truth_unfolded_hists[i][0] = hT0\n",
    "    \n",
    "    ### Reweight using Poisson distribution with λ=1 (new distribution for each iteration)\n",
    "    this_iteration_reweight = np.random.poisson(lam=1.0, size=(len(mc_reco_weights)))\n",
    "    mc_reco_weights = mc_reco_weights*this_iteration_reweight\n",
    "    mc_truth_weights = mc_truth_weights*this_iteration_reweight\n",
    "    # data_reco_weights = data_reco_weights*this_iteration_reweight\n",
    "    \n",
    "    ### Perform all iterations of unfolding, and fill results in \"weights\" array\n",
    "    weights, _ = unifold(iterations=n_iterations,\n",
    "                 sim_truth=mc_truth_z,\n",
    "                 sim_reco=mc_reco_z,\n",
    "                 sim_truth_weights_MC=mc_truth_weights,\n",
    "                 sim_reco_weights_MC=mc_reco_weights,\n",
    "                 data_reco=data_reco_z,\n",
    "                 data_reco_weights_MC=data_reco_weights,\n",
    "                 dummyval=dummyval,\n",
    "                 verbose=0,\n",
    "                )\n",
    "    \n",
    "    ### Make plots\n",
    "    plot_results(sim_truth=mc_truth,\n",
    "             sim_reco=mc_reco,\n",
    "             sim_truth_weights_MC=mc_truth_weights,\n",
    "             sim_reco_weights_MC=mc_reco_weights,\n",
    "             data_truth=data_truth,\n",
    "             data_reco=data_reco,\n",
    "             data_truth_weights_MC=data_truth_weights,\n",
    "             data_reco_weights_MC=data_reco_weights,\n",
    "             weights=weights,\n",
    "             bins=bins,\n",
    "             x_label=x_label,\n",
    "             flavor_label='UniFold',\n",
    "             save_label=save_label+'_trial_'+str(i)\n",
    "            )\n",
    "\n",
    "    ### Fill arrays evaluating each iteration\n",
    "    for j in np.arange(n_iterations):\n",
    "        hR1, _ = np.histogram(mc_reco[mc_reco!=dummyval],\n",
    "                               weights=(mc_reco_weights * weights[j, 0, :])[mc_reco!=dummyval],\n",
    "                               bins=bins,density=True)\n",
    "        hR2, _ = np.histogram(data_reco[data_reco!=dummyval],\n",
    "                               weights=data_reco_weights[data_reco!=dummyval],\n",
    "                               bins=bins,density=True)\n",
    "        reco_distances[i][j+1] = 0.5*np.sum((hR1-hR2)**2/(hR1+hR2))\n",
    "        reco_unfolded_hists[i][j+1] = hR1\n",
    "        \n",
    "        hT1, _ = np.histogram(mc_truth[mc_truth!=dummyval],\n",
    "                           weights=(mc_truth_weights * weights[j, 1, :])[mc_truth!=dummyval],\n",
    "                           bins=bins,density=True)\n",
    "        if data_truth is not None:\n",
    "            hT2, _ = np.histogram(data_truth[data_truth!=dummyval],\n",
    "                               weights=data_truth_weights[data_truth!=dummyval],\n",
    "                               bins=bins,density=True)\n",
    "        truth_distances[i][j+1] = 0.5*np.sum((hT1-hT2)**2/(hT1+hT2))\n",
    "        truth_unfolded_hists[i][j+1] = hT1"
   ]
  },
  {
   "cell_type": "code",
   "execution_count": 25,
   "id": "c4c43e5d-9f58-4179-86ee-8eada37bba7a",
   "metadata": {},
   "outputs": [
    {
     "data": {
      "text/plain": [
       "(3, 11, 6)"
      ]
     },
     "execution_count": 25,
     "metadata": {},
     "output_type": "execute_result"
    }
   ],
   "source": [
    "reco_unfolded_hists.shape # (n_trials, n_iterations+1, n_bins)"
   ]
  },
  {
   "cell_type": "code",
   "execution_count": null,
   "id": "eb1337c6-0c5e-404b-b8d8-f509477aba21",
   "metadata": {},
   "outputs": [],
   "source": [
    "mean_reco_distances = np.mean(reco_distances, axis=(0,2))\n",
    "mean_truth_distances = np.mean(truth_distances, axis=(0,2))\n",
    "reco_stat_uncert = np.mean(np.var(reco_unfolded_hists, axis=0), axis=1)\n",
    "truth_stat_uncert = np.mean(np.var(truth_unfolded_hists, axis=0), axis=1)"
   ]
  },
  {
   "cell_type": "code",
   "execution_count": null,
   "id": "bbacac93-b1a0-479c-8390-6fd3cc46c0f6",
   "metadata": {},
   "outputs": [],
   "source": [
    "from matplotlib.ticker import MaxNLocator\n",
    "\n",
    "fig, axs = plt.subplots(nrows = 1, ncols = 2, figsize=(15,6), constrained_layout=True)\n",
    "ax = axs[0]\n",
    "ax.plot(np.arange(len(weights)+1), mean_reco_distances, label=r\"Reco-level $\\chi^2$ Distance\", linewidth=2, color=\"saddlebrown\")\n",
    "ax.plot(np.arange(len(weights)+1), mean_truth_distances, label=r\"Truth-level $\\chi^2$ Distance\", linewidth=2, color=\"mediumseagreen\")\n",
    "ax.set_xlabel(\"Iteration\")\n",
    "ax.set_ylabel(\"Average Distance\")\n",
    "ax.legend(fontsize=22)\n",
    "ax.xaxis.set_major_locator(MaxNLocator(integer=True))\n",
    "\n",
    "ax = axs[1]\n",
    "ax.plot(np.arange(len(weights)+1), reco_stat_uncert, label=r\"Reco-level $\\sigma$\", linewidth=2, color=\"saddlebrown\")\n",
    "ax.plot(np.arange(len(weights)+1), truth_stat_uncert, label=r\"Truth-level $\\sigma$\", linewidth=2, color=\"mediumseagreen\")\n",
    "ax.set_xlabel(\"Iteration\")\n",
    "ax.set_ylabel(\"Average Stat. Uncertainty\")\n",
    "ax.legend(fontsize=22)\n",
    "ax.xaxis.set_major_locator(MaxNLocator(integer=True))\n",
    "\n",
    "if save_label is not None:\n",
    "    fig.savefig(save_label + '-distances-and-uncert.png',\n",
    "                bbox_inches='tight',\n",
    "                dpi=100)"
   ]
  },
  {
   "cell_type": "code",
   "execution_count": null,
   "id": "56f9f072-2ee0-4bb2-83a3-f599b035e4af",
   "metadata": {},
   "outputs": [],
   "source": []
  }
 ],
 "metadata": {
  "kernelspec": {
   "display_name": "omnifold",
   "language": "python",
   "name": "omnifold"
  },
  "language_info": {
   "codemirror_mode": {
    "name": "ipython",
    "version": 3
   },
   "file_extension": ".py",
   "mimetype": "text/x-python",
   "name": "python",
   "nbconvert_exporter": "python",
   "pygments_lexer": "ipython3",
   "version": "3.8.5"
  }
 },
 "nbformat": 4,
 "nbformat_minor": 5
}
