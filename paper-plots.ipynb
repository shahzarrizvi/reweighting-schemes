{
 "cells": [
  {
   "cell_type": "code",
   "execution_count": 251,
   "id": "059e1c48-3b1a-45fc-a46d-5d29a3d1b2b3",
   "metadata": {
    "tags": []
   },
   "outputs": [
    {
     "name": "stdout",
     "output_type": "stream",
     "text": [
      "The autoreload extension is already loaded. To reload it, use:\n",
      "  %reload_ext autoreload\n"
     ]
    }
   ],
   "source": [
    "# Automatically reload modules after executing each cell.\n",
    "%load_ext autoreload\n",
    "%autoreload 2"
   ]
  },
  {
   "cell_type": "code",
   "execution_count": 252,
   "id": "3f662b37-b549-4029-83d8-03cd974cf2e4",
   "metadata": {},
   "outputs": [],
   "source": [
    "# General imports\n",
    "import os\n",
    "import pickle\n",
    "from scipy import stats\n",
    "import tensorflow as tf\n",
    "from tensorflow.keras import Sequential\n",
    "from tensorflow.keras.layers import Dense, Input, Dropout\n",
    "from tensorflow.keras.callbacks import EarlyStopping\n",
    "from sklearn.model_selection import train_test_split\n",
    "\n",
    "# Utility imports\n",
    "from utils.losses import *\n",
    "from utils.plotting import *\n",
    "from utils.training import *\n",
    "\n",
    "np.random.seed(666) # Need to do more to ensure data is the same across runs.\n",
    "w = 3.5\n",
    "h = 3.25              # Plots have dimension (w,h)"
   ]
  },
  {
   "cell_type": "code",
   "execution_count": 253,
   "id": "fff96487-022c-49f3-a1f7-6800bde10999",
   "metadata": {},
   "outputs": [],
   "source": [
    "os.environ[\"CUDA_VISIBLE_DEVICES\"] = \"0\" # pick a number < 4 on ML4HEP; < 3 on Voltan \n",
    "physical_devices = tf.config.list_physical_devices('GPU') \n",
    "tf.config.experimental.set_memory_growth(physical_devices[0], True)"
   ]
  },
  {
   "cell_type": "markdown",
   "id": "27fe2dde-f5da-4262-b284-9bf4e14147bc",
   "metadata": {
    "jp-MarkdownHeadingCollapsed": true,
    "tags": []
   },
   "source": [
    "# Simple"
   ]
  },
  {
   "cell_type": "markdown",
   "id": "25b654bd-2793-458b-b47b-0cc7d5d38f05",
   "metadata": {
    "tags": []
   },
   "source": [
    "## $A/B$ Parametrization"
   ]
  },
  {
   "cell_type": "markdown",
   "id": "793a4326-63ea-43f8-893a-fcef1559ddc9",
   "metadata": {
    "jp-MarkdownHeadingCollapsed": true,
    "tags": []
   },
   "source": [
    "### MSE $A/B$ Parametrization"
   ]
  },
  {
   "cell_type": "code",
   "execution_count": null,
   "id": "fa7ce01b-4f1b-4dea-b29e-2c1b401da07c",
   "metadata": {},
   "outputs": [],
   "source": [
    "# Experiment parameters\n",
    "num = 0    # bkgd: normal(-0.1, 1)     sgnl: normal(0.1, 1)\n",
    "reps = 20\n",
    "\n",
    "# File parameters\n",
    "dirstr = 'models/univariate/simple/ab_mse/set_{}/'.format(num)\n",
    "filestr = dirstr + 'model_{}_{}.h5'\n",
    "\n",
    "if not os.path.isdir(dirstr):\n",
    "    os.mkdir(dirstr)\n",
    "\n",
    "# Data parameters\n",
    "N = 10**6\n",
    "X = np.load('data/normal/0.1/X_trn.npy')[:N]\n",
    "y = np.load('data/normal/0.1/y_trn.npy')[:N]\n",
    "data, m, s = split_data(X, y)\n",
    "ps = np.round(np.linspace(-2, 2, 101), 2)\n",
    "\n",
    "# True distribution information\n",
    "bkgd = stats.norm(-0.1, 1)\n",
    "sgnl = stats.norm(+0.1, 1)\n",
    "\n",
    "lr = make_lr(bkgd, sgnl)\n",
    "mae = make_mae(bkgd, sgnl, 'data/normal/0.1/')"
   ]
  },
  {
   "cell_type": "markdown",
   "id": "adf83029-c0e1-4f86-beb6-9a4536d8e6e4",
   "metadata": {
    "tags": []
   },
   "source": [
    "#### Process"
   ]
  },
  {
   "cell_type": "raw",
   "id": "662bf232-60c5-4aad-b37d-7a73e344dd63",
   "metadata": {},
   "source": [
    "# Get model likelihood ratios.\n",
    "avgs = []\n",
    "for p in ps:\n",
    "    print(p, end = '\\t')\n",
    "    lrs = [None] * reps\n",
    "    params = {'loss':get_mse(p)}\n",
    "    for i in range(reps):\n",
    "        model = create_simple_model(**params)\n",
    "        model.load_weights(filestr.format(p, i))\n",
    "        lrs[i] = pow_odds_lr(model, p, m, s)\n",
    "    \n",
    "    maes = [mae(lr) for lr in lrs]\n",
    "    avgs += [np.mean(maes)]\n",
    "\n",
    "avgs = np.array(avgs)"
   ]
  },
  {
   "cell_type": "raw",
   "id": "88909511-e6b2-4de9-9bc7-0ac799957498",
   "metadata": {},
   "source": [
    "# Save results\n",
    "np.save(dirstr + 'avgs', avgs)"
   ]
  },
  {
   "cell_type": "markdown",
   "id": "caf708cd-aba4-4284-8805-062e328f1863",
   "metadata": {
    "tags": []
   },
   "source": [
    "#### MAEs"
   ]
  },
  {
   "cell_type": "code",
   "execution_count": null,
   "id": "fac53e5c-f069-4b88-8ff1-a3bd92b9b008",
   "metadata": {},
   "outputs": [],
   "source": [
    "avgs = np.load(dirstr + 'avgs.npy')\n",
    "ps[avgs == min(avgs)]"
   ]
  },
  {
   "cell_type": "code",
   "execution_count": null,
   "id": "7e2eee1c-3ea1-455d-9dec-8927983482e7",
   "metadata": {},
   "outputs": [],
   "source": [
    "plt.figure(figsize = (w, h))\n",
    "\n",
    "plt.plot(ps, avgs, c='blue', lw = 0.75)\n",
    "\n",
    "plt.minorticks_on()\n",
    "plt.tick_params(which = 'minor', length = 3)\n",
    "plt.tick_params(which = 'major', length = 5)\n",
    "plt.tick_params(which = 'both', direction='in')\n",
    "plt.ylabel('Mean Absolute Error')\n",
    "plt.xlabel(r'$p$')\n",
    "plt.ylim(0, 1)\n",
    "\n",
    "plt.title(r\"\\it $A/B$ Parametrization\",loc=\"right\");\n",
    "plt.savefig('plots/paper/ab_mse_simple.png', \n",
    "            dpi=300, \n",
    "            bbox_inches='tight')"
   ]
  },
  {
   "cell_type": "markdown",
   "id": "829faaf1-1908-41d5-aaad-f1365df83cd5",
   "metadata": {
    "jp-MarkdownHeadingCollapsed": true,
    "tags": []
   },
   "source": [
    "### SQR $A/B$ Parametrization"
   ]
  },
  {
   "cell_type": "code",
   "execution_count": null,
   "id": "1e208407-b7e3-4b8c-bd22-cf303feab48e",
   "metadata": {},
   "outputs": [],
   "source": [
    "# Experiment parameters\n",
    "num = 0 \n",
    "reps = 20\n",
    "\n",
    "# Model parameters\n",
    "dirstr = 'models/univariate/simple/ab_sqr/set_{}/'.format(num)\n",
    "filestr_1 = dirstr + 'relu/model_{}_{}.h5'\n",
    "filestr_2 = dirstr + 'exponential/model_{}_{}.h5'\n",
    "\n",
    "# Data parameters\n",
    "N = 10**6\n",
    "X = np.load('data/normal/0.1/X_trn.npy')[:N]\n",
    "y = np.load('data/normal/0.1/y_trn.npy')[:N]\n",
    "data, m, s = split_data(X, y)\n",
    "\n",
    "rs = np.sort(np.append(np.round(np.linspace(-2, 2, 81), 2),\n",
    "                       np.round(np.linspace(-0.05, 0.05, 26), 3)[1:-1]))\n",
    "\n",
    "# True distribution information\n",
    "bkgd = stats.norm(-0.1, 1)\n",
    "sgnl = stats.norm(+0.1, 1)\n",
    "\n",
    "lr = make_lr(bkgd, sgnl)\n",
    "mae = make_mae(bkgd, sgnl, 'data/normal/0.1/')"
   ]
  },
  {
   "cell_type": "markdown",
   "id": "513811c0-01f0-420d-970b-8124d6499d88",
   "metadata": {
    "tags": []
   },
   "source": [
    "#### Process"
   ]
  },
  {
   "cell_type": "raw",
   "id": "43ff77c6-c70f-4b68-8f98-1374648f8208",
   "metadata": {},
   "source": [
    "lin_avgs = []\n",
    "exp_avgs = []\n",
    "\n",
    "for r in rs:\n",
    "    print(r, end = '\\t')\n",
    "    lin_lrs = [None] * reps\n",
    "    exp_lrs = [None] * reps\n",
    "    lin_params = {'loss': get_sqr(r), 'activation':'relu'}\n",
    "    exp_params = {'loss': get_exp_sqr(r), 'activation':'linear'}\n",
    "    \n",
    "    for i in range(reps):\n",
    "        lin_model = create_simple_model(**lin_params)\n",
    "        exp_model = create_simple_model(**exp_params)\n",
    "        \n",
    "        lin_model.load_weights(filestr_1.format(r, i))\n",
    "        exp_model.load_weights(filestr_2.format(r, i))\n",
    "        \n",
    "        lin_lrs[i] = pow_lr(lin_model, r, m, s)\n",
    "        exp_lrs[i] = pow_exp_lr(exp_model, r, m, s)\n",
    "    \n",
    "    lin_maes = [mae(lr) for lr in lin_lrs]\n",
    "    exp_maes = [mae(lr) for lr in exp_lrs]\n",
    "    \n",
    "    lin_avgs += [np.mean(lin_maes)]\n",
    "    exp_avgs += [np.mean(exp_maes)]"
   ]
  },
  {
   "cell_type": "raw",
   "id": "94366c85-614c-4a79-83e3-2809b42e3c37",
   "metadata": {},
   "source": [
    "# Save results\n",
    "lin_avgs = np.array(lin_avgs)\n",
    "exp_avgs = np.array(exp_avgs)\n",
    "\n",
    "np.save(dirstr + 'lin_avgs', lin_avgs)\n",
    "np.save(dirstr + 'exp_avgs', exp_avgs)"
   ]
  },
  {
   "cell_type": "markdown",
   "id": "706c5f1e-1bfd-405f-a16f-1ff718b19d21",
   "metadata": {
    "tags": []
   },
   "source": [
    "#### MAEs"
   ]
  },
  {
   "cell_type": "code",
   "execution_count": null,
   "id": "d3c9b5de-3b0e-4494-92b5-85000306f0a1",
   "metadata": {},
   "outputs": [],
   "source": [
    "lin_avgs = np.load(dirstr + 'lin_avgs.npy')\n",
    "exp_avgs = np.load(dirstr + 'exp_avgs.npy')\n",
    "\n",
    "rs[lin_avgs == min(lin_avgs)], rs[exp_avgs == min(exp_avgs)]"
   ]
  },
  {
   "cell_type": "code",
   "execution_count": null,
   "id": "c1030c0b-07aa-450b-a06e-2b37c853b8d4",
   "metadata": {},
   "outputs": [],
   "source": [
    "plt.figure(figsize = (w, h))\n",
    "\n",
    "plt.plot(rs, lin_avgs, label=r'$\\text{ReLU}(z)$', c='blue', lw = 0.75)\n",
    "plt.plot(rs, exp_avgs, label=r'$\\exp{z}$', c='red', lw = 0.75)\n",
    "plt.legend()\n",
    "\n",
    "plt.minorticks_on()\n",
    "plt.tick_params(which = 'minor', length = 3)\n",
    "plt.tick_params(which = 'major', length = 5)\n",
    "plt.tick_params(which = 'both', direction='in')\n",
    "plt.ylabel('Mean Absolute Error')\n",
    "plt.xlabel(r'$r$')\n",
    "#plt.ylim(0, 0.16)\n",
    "\n",
    "plt.title(r\"\\it $A/B$ Parametrization\",loc=\"right\");\n",
    "plt.savefig('plots/paper/ab_sqr_simple.png', \n",
    "            dpi=300, \n",
    "            bbox_inches='tight')"
   ]
  },
  {
   "cell_type": "markdown",
   "id": "acbdae21-6595-4903-aadf-f1603ec5ead2",
   "metadata": {
    "tags": []
   },
   "source": [
    "## Landscapes"
   ]
  },
  {
   "cell_type": "markdown",
   "id": "0c9ca93f-b5ae-4f6c-be32-710f70d5437f",
   "metadata": {
    "jp-MarkdownHeadingCollapsed": true,
    "tags": []
   },
   "source": [
    "### All"
   ]
  },
  {
   "cell_type": "code",
   "execution_count": 46,
   "id": "8546873e-479a-43dc-97b9-c5dbed7326a2",
   "metadata": {},
   "outputs": [
    {
     "data": {
      "image/png": "[encoded data removed]",
      "text/plain": [
       "<Figure size 504x223.2 with 12 Axes>"
      ]
     },
     "metadata": {
      "needs_background": "light"
     },
     "output_type": "display_data"
    }
   ],
   "source": [
    "rs = [0.1, 0.25, 0.5, 1]\n",
    "fig, axs = plt.subplots(2, 4, sharex = True, sharey = True, figsize = (7, h - 0.15))\n",
    "\n",
    "cplots = [[None] * 4] * 2\n",
    "\n",
    "aa = np.load('anims/sqr/aa.npy')\n",
    "bb = np.load('anims/sqr/bb.npy')\n",
    "\n",
    "for i in range(len(rs)):\n",
    "    r = rs[i]\n",
    "    zz_loss = np.load('anims/sqr/zz_{}.npy'.format(r))\n",
    "    zz_maes = np.load('anims/sqr_mae/normal/0/zz_{}.npy'.format(r))\n",
    "    loss_contours = np.arange(1, 3.1, 0.025)\n",
    "    maes_contours = np.arange(0, 7, 0.05)\n",
    "    \n",
    "    cplots[0][i] = axs[0][i].contourf(aa, bb, zz_loss, levels = 1000, cmap = 'plasma', vmin = 1.98, vmax = 2.25)\n",
    "    axs[0][i].contour(aa, bb, zz_loss, levels = loss_contours, colors = 'white', linewidths = 0.75)\n",
    "    axs[0][i].set_title(r'$r = {}$'.format(r), loc = 'right')\n",
    "    axs[0][i].set_aspect('equal')\n",
    "    \n",
    "    cplots[1][i] = axs[1][i].contourf(aa, bb, zz_maes, levels = 1000, cmap = 'plasma', vmin = 0, vmax = 1)\n",
    "    axs[1][i].contour(aa, bb, zz_maes, levels = maes_contours, colors = 'white', linewidths = 0.75)\n",
    "    axs[1][i].set_aspect('equal')  \n",
    "\n",
    "fig.tight_layout()\n",
    "    \n",
    "fig.colorbar(cplots[0][0], ax = [axs[0][0]], location = 'left')\n",
    "fig.colorbar(cplots[0][3], ax = [axs[0][3]])\n",
    "\n",
    "fig.colorbar(cplots[1][0], ax = [axs[1][0]], location = 'left')\n",
    "fig.colorbar(cplots[1][3], ax = [axs[1][3]]);\n",
    "\n",
    "plt.savefig('plots/paper/sqr_landscapes.png', \n",
    "            dpi=300, \n",
    "            bbox_inches='tight')"
   ]
  },
  {
   "cell_type": "markdown",
   "id": "cea8c03b-8cee-4bdf-bbb9-b828019c8ef5",
   "metadata": {
    "tags": []
   },
   "source": [
    "### Loss"
   ]
  },
  {
   "cell_type": "code",
   "execution_count": 159,
   "id": "e0c1725c-6d29-4c33-b334-d605218ae37e",
   "metadata": {},
   "outputs": [],
   "source": [
    "hh = 1.75"
   ]
  },
  {
   "cell_type": "code",
   "execution_count": 160,
   "id": "2a4f298a-d7d9-42d5-9ea4-8050858c8da0",
   "metadata": {},
   "outputs": [],
   "source": [
    "dirstr = 'anims/sqr/'\n",
    "\n",
    "aa = np.load(dirstr + 'aa.npy')\n",
    "bb = np.load(dirstr + 'bb.npy')\n",
    "\n",
    "contours = np.arange(1, 3.1, 0.02)"
   ]
  },
  {
   "cell_type": "code",
   "execution_count": 161,
   "id": "f0195101-f03a-4317-b1b2-a8c2f10f397a",
   "metadata": {},
   "outputs": [
    {
     "data": {
      "image/png": "[encoded data removed]",
      "text/plain": [
       "<Figure size 216x126 with 2 Axes>"
      ]
     },
     "metadata": {
      "needs_background": "light"
     },
     "output_type": "display_data"
    }
   ],
   "source": [
    "r = 0.1\n",
    "\n",
    "fig = plt.figure(figsize = (3, hh))\n",
    "ax = fig.add_subplot(111)\n",
    "zz = np.load(dirstr + 'zz_{}.npy'.format(r))\n",
    "img = ax.contourf(aa, bb, zz, levels = 1000, cmap = 'plasma', vmin = 1.98, vmax = 2.25)\n",
    "plt.colorbar(img, ax = [ax], pad = 0.17, location = 'left', ticks = np.arange(1.98, 2.02, 0.004))\n",
    "ax.contour(aa, bb, zz, levels = contours, colors = 'white', linewidths = 0.75)\n",
    "ax.set_title(r'$r = {}$'.format(r), loc = 'right')\n",
    "ax.set_xticklabels([])\n",
    "\n",
    "ax.set_aspect('equal')\n",
    "plt.savefig('plots/paper/sqr_loss_{}.png'.format(r), \n",
    "            dpi=300, \n",
    "            bbox_inches='tight')"
   ]
  },
  {
   "cell_type": "code",
   "execution_count": 162,
   "id": "08e65968-d747-442f-8736-e0a8958fd4ee",
   "metadata": {},
   "outputs": [
    {
     "data": {
      "image/png": "[encoded data removed]",
      "text/plain": [
       "<Figure size 216x126 with 1 Axes>"
      ]
     },
     "metadata": {
      "needs_background": "light"
     },
     "output_type": "display_data"
    }
   ],
   "source": [
    "r = 0.25\n",
    "\n",
    "plt.figure(figsize = (3, hh))\n",
    "zz = np.load(dirstr + 'zz_{}.npy'.format(r))\n",
    "plt.contourf(aa, bb, zz, levels = 1000, cmap = 'plasma', vmin = 1.98, vmax = 2.25)\n",
    "plt.contour(aa, bb, zz, levels = contours, colors = 'white', linewidths = 0.75)\n",
    "plt.title(r'$r = {}$'.format(r), loc = 'right')\n",
    "\n",
    "plt.gca().set_xticklabels([])\n",
    "plt.gca().set_yticklabels([])\n",
    "plt.gca().set_aspect('equal')\n",
    "\n",
    "plt.savefig('plots/paper/sqr_loss_{}.png'.format(r), \n",
    "            dpi=300, \n",
    "            bbox_inches='tight')"
   ]
  },
  {
   "cell_type": "code",
   "execution_count": 163,
   "id": "03c33ebb-aeb8-4e1c-9f7f-9d29cfb61dd2",
   "metadata": {},
   "outputs": [
    {
     "data": {
      "image/png": "[encoded data removed]",
      "text/plain": [
       "<Figure size 216x126 with 1 Axes>"
      ]
     },
     "metadata": {
      "needs_background": "light"
     },
     "output_type": "display_data"
    }
   ],
   "source": [
    "r = 0.5\n",
    "\n",
    "plt.figure(figsize = (3, hh))\n",
    "zz = np.load(dirstr + 'zz_{}.npy'.format(r))\n",
    "plt.contourf(aa, bb, zz, levels = 1000, cmap = 'plasma', vmin = 1.98, vmax = 2.25)\n",
    "plt.contour(aa, bb, zz, levels = contours, colors = 'white', linewidths = 0.75)\n",
    "plt.title(r'$r = {}$'.format(r), loc = 'right')\n",
    "\n",
    "plt.gca().set_xticklabels([])\n",
    "plt.gca().set_yticklabels([])\n",
    "plt.gca().set_aspect('equal')\n",
    "\n",
    "plt.savefig('plots/paper/sqr_loss_{}.png'.format(r), \n",
    "            dpi=300, \n",
    "            bbox_inches='tight')"
   ]
  },
  {
   "cell_type": "code",
   "execution_count": 164,
   "id": "58e7f77e-806b-4e45-9197-58c7ce7a39bd",
   "metadata": {},
   "outputs": [
    {
     "data": {
      "image/png": "[encoded data removed]",
      "text/plain": [
       "<Figure size 216x126 with 2 Axes>"
      ]
     },
     "metadata": {
      "needs_background": "light"
     },
     "output_type": "display_data"
    }
   ],
   "source": [
    "r = 1\n",
    "\n",
    "plt.figure(figsize = (3, hh))\n",
    "zz = np.load(dirstr + 'zz_{}.npy'.format(r))\n",
    "plt.contourf(aa, bb, zz, levels = 1000, cmap = 'plasma', vmin = 1.98, vmax = 2.25)\n",
    "plt.colorbar(ticks = np.arange(1.98, 2.7, 0.08))\n",
    "plt.contour(aa, bb, zz, levels = contours, colors = 'white', linewidths = 0.75)\n",
    "plt.title(r'$r = {}$'.format(r), loc = 'right')\n",
    "\n",
    "plt.gca().set_xticklabels([])\n",
    "plt.gca().set_yticklabels([])\n",
    "plt.gca().set_aspect('equal')\n",
    "\n",
    "plt.savefig('plots/paper/sqr_loss_{}.png'.format(r), \n",
    "            dpi=300, \n",
    "            bbox_inches='tight')"
   ]
  },
  {
   "cell_type": "markdown",
   "id": "7a091ffb-a961-44fc-9121-ca56e19da55f",
   "metadata": {
    "tags": []
   },
   "source": [
    "### MAE"
   ]
  },
  {
   "cell_type": "code",
   "execution_count": 170,
   "id": "9f2733b8-6a0b-4cd4-8330-a218b6fcbc03",
   "metadata": {},
   "outputs": [],
   "source": [
    "dirstr = 'anims/sqr_mae/normal/0/'\n",
    "\n",
    "aa = np.load(dirstr + 'aa.npy')\n",
    "bb = np.load(dirstr + 'bb.npy')\n",
    "\n",
    "contours = np.arange(0, 7, 0.05)"
   ]
  },
  {
   "cell_type": "code",
   "execution_count": 171,
   "id": "2952a714-fc70-45b3-a063-9e7db56a78e2",
   "metadata": {},
   "outputs": [
    {
     "data": {
      "image/png": "[encoded data removed]",
      "text/plain": [
       "<Figure size 216x126 with 2 Axes>"
      ]
     },
     "metadata": {
      "needs_background": "light"
     },
     "output_type": "display_data"
    }
   ],
   "source": [
    "r = 0.1\n",
    "\n",
    "fig = plt.figure(figsize = (3, hh))\n",
    "ax = fig.add_subplot(111)\n",
    "zz = np.load(dirstr + 'zz_{}.npy'.format(r))\n",
    "img = ax.contourf(aa, bb, zz, levels = 1000, cmap = 'plasma', vmin = 0, vmax = 1)\n",
    "plt.colorbar(img, ax = [ax], pad = 0.17, location = 'left', ticks = np.arange(0.06, 0.28, 0.02))\n",
    "ax.contour(aa, bb, zz, levels = contours, colors = 'white', linewidths = 0.75)\n",
    "\n",
    "ax.set_aspect('equal')\n",
    "plt.savefig('plots/paper/sqr_maes_{}.png'.format(r), \n",
    "            dpi=300, \n",
    "            bbox_inches='tight')"
   ]
  },
  {
   "cell_type": "code",
   "execution_count": 172,
   "id": "5fdae37b-4168-4f35-8a64-b20e0e1c6a35",
   "metadata": {},
   "outputs": [
    {
     "data": {
      "image/png": "[encoded data removed]",
      "text/plain": [
       "<Figure size 216x126 with 1 Axes>"
      ]
     },
     "metadata": {
      "needs_background": "light"
     },
     "output_type": "display_data"
    }
   ],
   "source": [
    "r = 0.25\n",
    "\n",
    "plt.figure(figsize = (3, hh))\n",
    "zz = np.load(dirstr + 'zz_{}.npy'.format(r))\n",
    "plt.contourf(aa, bb, zz, levels = 1000, cmap = 'plasma', vmin = 0, vmax = 1)\n",
    "plt.contour(aa, bb, zz, levels = contours, colors = 'white', linewidths = 0.75)\n",
    "\n",
    "plt.gca().set_yticklabels([])\n",
    "plt.gca().set_aspect('equal')\n",
    "\n",
    "plt.savefig('plots/paper/sqr_maes_{}.png'.format(r), \n",
    "            dpi=300, \n",
    "            bbox_inches='tight')"
   ]
  },
  {
   "cell_type": "code",
   "execution_count": 173,
   "id": "4ff51698-325f-4cb7-8461-6c703081f6d2",
   "metadata": {},
   "outputs": [
    {
     "data": {
      "image/png": "[encoded data removed]",
      "text/plain": [
       "<Figure size 216x126 with 1 Axes>"
      ]
     },
     "metadata": {
      "needs_background": "light"
     },
     "output_type": "display_data"
    }
   ],
   "source": [
    "r = 0.5\n",
    "\n",
    "plt.figure(figsize = (3, hh))\n",
    "zz = np.load(dirstr + 'zz_{}.npy'.format(r))\n",
    "plt.contourf(aa, bb, zz, levels = 1000, cmap = 'plasma', vmin = 0, vmax = 1)\n",
    "plt.contour(aa, bb, zz, levels = contours, colors = 'white', linewidths = 0.75)\n",
    "\n",
    "plt.gca().set_yticklabels([])\n",
    "plt.gca().set_aspect('equal')\n",
    "\n",
    "plt.savefig('plots/paper/sqr_maes_{}.png'.format(r), \n",
    "            dpi=300, \n",
    "            bbox_inches='tight')"
   ]
  },
  {
   "cell_type": "code",
   "execution_count": 174,
   "id": "d9d4dd64-ee12-43d9-bf6b-61d9856075bd",
   "metadata": {},
   "outputs": [
    {
     "data": {
      "image/png": "[encoded data removed]",
      "text/plain": [
       "<Figure size 216x126 with 2 Axes>"
      ]
     },
     "metadata": {
      "needs_background": "light"
     },
     "output_type": "display_data"
    }
   ],
   "source": [
    "r = 1\n",
    "\n",
    "plt.figure(figsize = (3, hh))\n",
    "zz = np.load(dirstr + 'zz_{}.npy'.format(r))\n",
    "plt.contourf(aa, bb, zz, levels = 1000, cmap = 'plasma', vmin = 0, vmax = 1)\n",
    "plt.colorbar(ticks = np.arange(0, 3.71, 0.42))\n",
    "plt.contour(aa, bb, zz, levels = contours, colors = 'white', linewidths = 0.75)\n",
    "\n",
    "plt.gca().set_yticklabels([])\n",
    "plt.gca().set_aspect('equal')\n",
    "\n",
    "plt.savefig('plots/paper/sqr_maes_{}.png'.format(r), \n",
    "            dpi=300, \n",
    "            bbox_inches='tight')"
   ]
  },
  {
   "cell_type": "markdown",
   "id": "c6c02f89-e9ff-4a46-b805-8684095971ff",
   "metadata": {
    "tags": []
   },
   "source": [
    "# Normal"
   ]
  },
  {
   "cell_type": "markdown",
   "id": "e8434d69-28c4-4ee9-b60f-1490cba5cc07",
   "metadata": {
    "jp-MarkdownHeadingCollapsed": true,
    "tags": []
   },
   "source": [
    "## Naïve Implementation"
   ]
  },
  {
   "cell_type": "code",
   "execution_count": 254,
   "id": "53d715a4-96c2-4b08-80be-1b2c8f7460ca",
   "metadata": {},
   "outputs": [],
   "source": [
    "# Experiment parameters\n",
    "num = 0\n",
    "reps = 100\n",
    "Ns = 10**np.arange(2, 8)\n",
    "\n",
    "# Model parameters\n",
    "bce_params = {'loss':bce}\n",
    "mse_params = {'loss':mse}\n",
    "mlc_params = {'loss':mlc, 'output':'relu'}\n",
    "sqr_params = {'loss':sqr, 'output':'relu'}\n",
    "\n",
    "filestr = 'models/univariate/loss_comp/set_{}/'.format(num)\n",
    "bce_filestr = filestr + 'bce/model_{}_{}.h5'\n",
    "mse_filestr = filestr + 'mse/model_{}_{}.h5'\n",
    "mlc_filestr = filestr + 'mlc/model_{}_{}.h5'\n",
    "sqr_filestr = filestr + 'sqr/model_{}_{}.h5'\n",
    "\n",
    "# True distribution information\n",
    "bkgd = stats.norm(-0.1, 1)\n",
    "sgnl = stats.norm(+0.1, 1)\n",
    "\n",
    "lr = make_lr(bkgd, sgnl)\n",
    "mae = make_mae(bkgd, sgnl, 'data/normal/0.1/')"
   ]
  },
  {
   "cell_type": "markdown",
   "id": "a11211a2-586c-4feb-a5e5-b01dec49d3f8",
   "metadata": {
    "tags": []
   },
   "source": [
    "### Likelihood Ratios"
   ]
  },
  {
   "cell_type": "markdown",
   "id": "d0102e3e-2679-4631-b486-4442e67523d4",
   "metadata": {
    "tags": []
   },
   "source": [
    "#### Process"
   ]
  },
  {
   "cell_type": "raw",
   "id": "722dc203-fb3d-453d-8a25-41aeb56878ed",
   "metadata": {},
   "source": [
    "N = 10**6\n",
    "X = np.load('data/normal/0.1/X_trn.npy')[:N]\n",
    "y = np.load('data/normal/0.1/y_trn.npy')[:N]\n",
    "data, m, s = split_data(X, y)\n",
    "\n",
    "# Load in models.\n",
    "bce_lrs = [None] * reps\n",
    "mse_lrs = [None] * reps\n",
    "mlc_lrs = [None] * reps\n",
    "sqr_lrs = [None] * reps\n",
    "for i in range(reps):\n",
    "    bce_model = create_model(**bce_params)\n",
    "    bce_model.load_weights(bce_filestr.format(N, i))\n",
    "    bce_lrs[i] = odds_lr(bce_model, m, s)\n",
    "    \n",
    "    mse_model = create_model(**mse_params)\n",
    "    mse_model.load_weights(mse_filestr.format(N, i))\n",
    "    mse_lrs[i] = odds_lr(mse_model, m, s)\n",
    "    \n",
    "    mlc_model = create_model(**mlc_params)\n",
    "    mlc_model.load_weights(mlc_filestr.format(N, i))\n",
    "    mlc_lrs[i] = pure_lr(mlc_model, m, s)\n",
    "    \n",
    "    sqr_model = create_model(**sqr_params)\n",
    "    sqr_model.load_weights(sqr_filestr.format(N, i))\n",
    "    sqr_lrs[i] = pure_lr(sqr_model, m, s)\n",
    "\n",
    "xs = np.linspace(-6, 6, 1201)\n",
    "\n",
    "bce_preds = get_preds(bce_lrs, xs)\n",
    "mse_preds = get_preds(mse_lrs, xs)\n",
    "mlc_preds = get_preds(mlc_lrs, xs)\n",
    "sqr_preds = get_preds(sqr_lrs, xs)"
   ]
  },
  {
   "cell_type": "raw",
   "id": "933d23e1-8b2e-4e34-a6ed-5dd99e5ae4f0",
   "metadata": {},
   "source": [
    "np.save(filestr + 'xs', xs)\n",
    "np.save(filestr + 'bce_preds', bce_preds)\n",
    "np.save(filestr + 'mse_preds', mse_preds)\n",
    "np.save(filestr + 'mlc_preds', mlc_preds)\n",
    "np.save(filestr + 'sqr_preds', sqr_preds)"
   ]
  },
  {
   "cell_type": "markdown",
   "id": "3a64afd7-3939-4a29-ad67-e367b726ebbe",
   "metadata": {
    "tags": []
   },
   "source": [
    "#### Plot"
   ]
  },
  {
   "cell_type": "code",
   "execution_count": null,
   "id": "0f27759f-18d9-49a1-adbd-7b7352e98fbc",
   "metadata": {},
   "outputs": [],
   "source": [
    "xs = np.load(filestr + 'xs.npy')\n",
    "bce_preds = np.load(filestr + 'bce_preds.npy')\n",
    "mse_preds = np.load(filestr + 'mse_preds.npy')\n",
    "mlc_preds = np.load(filestr + 'mlc_preds.npy')\n",
    "sqr_preds = np.load(filestr + 'sqr_preds.npy')"
   ]
  },
  {
   "cell_type": "code",
   "execution_count": null,
   "id": "cb2e1231-5d95-40da-8f8a-cdc41791f5e4",
   "metadata": {},
   "outputs": [],
   "source": [
    "ratio_plot([bce_preds, mse_preds, mlc_preds, sqr_preds],\n",
    "           ['BCE', 'MSE', 'MLC', 'SQR'],\n",
    "           lr,\n",
    "           bkgd, sgnl,\n",
    "           xs,\n",
    "           figsize = (w, h),\n",
    "           title = r'\\it Na\\\"ive Implementation',\n",
    "           filename = 'plots/paper/naive_fit.png')"
   ]
  },
  {
   "cell_type": "markdown",
   "id": "acd06af2-cb65-4ae8-b981-23fb5064a1ef",
   "metadata": {
    "tags": []
   },
   "source": [
    "### MAEs"
   ]
  },
  {
   "cell_type": "markdown",
   "id": "966892ec-1eea-4d63-b1fe-6da2280c82aa",
   "metadata": {
    "jp-MarkdownHeadingCollapsed": true,
    "tags": []
   },
   "source": [
    "#### Process"
   ]
  },
  {
   "cell_type": "raw",
   "id": "fd1a8c66-ec0f-4cb1-a551-aa6204be42e9",
   "metadata": {},
   "source": [
    "X = np.load('data/normal/0.1/X_trn.npy')\n",
    "y = np.load('data/normal/0.1/y_trn.npy')\n",
    "\n",
    "# Calculate mean absolute errors\n",
    "bce_avg = []\n",
    "mse_avg = []\n",
    "mlc_avg = []\n",
    "sqr_avg = []\n",
    "\n",
    "for N in Ns:\n",
    "    print(N)\n",
    "    data, m, s = split_data(X[:N], y[:N])\n",
    "    \n",
    "    bce_lrs = [None] * reps\n",
    "    mse_lrs = [None] * reps\n",
    "    mlc_lrs = [None] * reps\n",
    "    sqr_lrs = [None] * reps\n",
    "    for i in range(reps):\n",
    "        bce_model = create_model(**bce_params)\n",
    "        bce_model.load_weights(bce_filestr.format(N, i))\n",
    "        bce_lrs[i] = odds_lr(bce_model, m, s)\n",
    "\n",
    "        mse_model = create_model(**mse_params)\n",
    "        mse_model.load_weights(mse_filestr.format(N, i))\n",
    "        mse_lrs[i] = odds_lr(mse_model, m, s)\n",
    "\n",
    "        mlc_model = create_model(**mlc_params)\n",
    "        mlc_model.load_weights(mlc_filestr.format(N, i))\n",
    "        mlc_lrs[i] = pure_lr(mlc_model, m, s)\n",
    "\n",
    "        sqr_model = create_model(**sqr_params)\n",
    "        sqr_model.load_weights(sqr_filestr.format(N, i))\n",
    "        sqr_lrs[i] = pure_lr(sqr_model, m, s)\n",
    "    \n",
    "    bce_maes = [mae(lr) for lr in bce_lrs]\n",
    "    mse_maes = [mae(lr) for lr in mse_lrs]\n",
    "    mlc_maes = [mae(lr) for lr in mlc_lrs]\n",
    "    sqr_maes = [mae(lr) for lr in sqr_lrs]\n",
    "    \n",
    "    bce_avg += [np.mean(bce_maes)]\n",
    "    mse_avg += [np.mean(mse_maes)]\n",
    "    mlc_avg += [np.mean(mlc_maes)]\n",
    "    sqr_avg += [np.mean(sqr_maes)]\n",
    "\n",
    "bce_avg = np.array(bce_avg)\n",
    "mse_avg = np.array(mse_avg)\n",
    "mlc_avg = np.array(mlc_avg)\n",
    "sqr_avg = np.array(sqr_avg)"
   ]
  },
  {
   "cell_type": "raw",
   "id": "35a4126b-e826-4007-a9ef-b61f5404d555",
   "metadata": {},
   "source": [
    "np.save(filestr + 'bce_avg', bce_avg)\n",
    "np.save(filestr + 'mse_avg', mse_avg)\n",
    "np.save(filestr + 'mlc_avg', mlc_avg)\n",
    "np.save(filestr + 'sqr_avg', sqr_avg)"
   ]
  },
  {
   "cell_type": "markdown",
   "id": "82f87212-2ac6-47b2-b8aa-5d6cf39333cd",
   "metadata": {
    "jp-MarkdownHeadingCollapsed": true,
    "tags": []
   },
   "source": [
    "#### Plot"
   ]
  },
  {
   "cell_type": "code",
   "execution_count": 255,
   "id": "2852464c-63dd-4e2c-a7ff-d8c327381dfa",
   "metadata": {},
   "outputs": [],
   "source": [
    "bce_avg = np.load(filestr + 'bce_avg.npy')\n",
    "mse_avg = np.load(filestr + 'mse_avg.npy')\n",
    "mlc_avg = np.load(filestr + 'mlc_avg.npy')\n",
    "sqr_avg = np.load(filestr + 'sqr_avg.npy')"
   ]
  },
  {
   "cell_type": "code",
   "execution_count": 260,
   "id": "92a1a4c1-660e-4677-b2d6-346a22663668",
   "metadata": {},
   "outputs": [
    {
     "data": {
      "text/plain": [
       "array([0.48702884, 0.04351353, 0.04528857, 0.01491945, 0.01733732,\n",
       "       0.02487448])"
      ]
     },
     "execution_count": 260,
     "metadata": {},
     "output_type": "execute_result"
    }
   ],
   "source": [
    "sqr_avg - mse_avg"
   ]
  },
  {
   "cell_type": "code",
   "execution_count": 209,
   "id": "01305fea-7e0c-4ee4-b4d8-bd3cc52cdf02",
   "metadata": {},
   "outputs": [
    {
     "ename": "IndentationError",
     "evalue": "unexpected indent (2132107809.py, line 6)",
     "output_type": "error",
     "traceback": [
      "\u001b[0;36m  File \u001b[0;32m\"/tmp/ipykernel_22891/2132107809.py\"\u001b[0;36m, line \u001b[0;32m6\u001b[0m\n\u001b[0;31m    filename = 'plots/paper/naive_sizes.png')\u001b[0m\n\u001b[0m    ^\u001b[0m\n\u001b[0;31mIndentationError\u001b[0m\u001b[0;31m:\u001b[0m unexpected indent\n"
     ]
    }
   ],
   "source": [
    "mae_plot([bce_avg, mse_avg, mlc_avg, sqr_avg],\n",
    "         ['BCE', 'MSE', 'MLC', 'SQR'],\n",
    "         Ns,\n",
    "         figsize = (w, h),\n",
    "         title = r'\\it Na\\\"ive Implementation'),\n",
    "         filename = 'plots/paper/naive_sizes.png')"
   ]
  },
  {
   "cell_type": "markdown",
   "id": "9dcf8301-2fdc-4549-9522-22e38ca59d8f",
   "metadata": {
    "tags": []
   },
   "source": [
    "## $C$ Parametrization"
   ]
  },
  {
   "cell_type": "markdown",
   "id": "e617dc6c-06f4-4107-adb6-4dab2ee64f96",
   "metadata": {
    "tags": []
   },
   "source": [
    "### BCE $C$ Parametrization"
   ]
  },
  {
   "cell_type": "code",
   "execution_count": 181,
   "id": "97f1b2d6-4d18-4d27-8d55-719306f80d32",
   "metadata": {},
   "outputs": [],
   "source": [
    "# Experiment parameters\n",
    "num = 0\n",
    "reps = 100\n",
    "\n",
    "# Model parameters\n",
    "params_1 = {'loss':bce}\n",
    "params_2 = {'loss':tanh_bce, 'output': 'linear'}\n",
    "params_3 = {'loss':arctan_bce, 'output': 'linear'}\n",
    "\n",
    "filestr = 'models/univariate/c_bce/set_{}/'.format(num)\n",
    "filestr_1 = filestr + 'sigmoid/model_{}.h5'\n",
    "filestr_2 = filestr + 'tanh/model_{}.h5'\n",
    "filestr_3 = filestr + 'arctan/model_{}.h5'\n",
    "\n",
    "# Data parameters\n",
    "N = 10**6\n",
    "X = np.load('data/normal/0.1/X_trn.npy')[:N]\n",
    "y = np.load('data/normal/0.1/y_trn.npy')[:N]\n",
    "data, m, s = split_data(X, y)\n",
    "\n",
    "# True distribution information\n",
    "bkgd = stats.norm(-0.1, 1)\n",
    "sgnl = stats.norm(+0.1, 1)\n",
    "\n",
    "lr = make_lr(bkgd, sgnl)\n",
    "mae = make_mae(bkgd, sgnl, 'data/normal/0.1/')"
   ]
  },
  {
   "cell_type": "markdown",
   "id": "507f1e6a-5ebe-4266-bfa2-6b80b5595eb5",
   "metadata": {
    "tags": []
   },
   "source": [
    "#### Process"
   ]
  },
  {
   "cell_type": "raw",
   "id": "b44e2ec4-2ddd-46b7-a83a-99e000fbb723",
   "metadata": {},
   "source": [
    "lrs_1 = [None] * reps\n",
    "lrs_2 = [None] * reps\n",
    "lrs_3 = [None] * reps\n",
    "\n",
    "for i in range(reps):\n",
    "    model_1 = create_model(**params_1)\n",
    "    model_2 = create_model(**params_2)\n",
    "    model_3 = create_model(**params_3)\n",
    "    \n",
    "    model_1.load_weights(filestr_1.format(i))\n",
    "    model_2.load_weights(filestr_2.format(i))\n",
    "    model_3.load_weights(filestr_3.format(i))\n",
    "    \n",
    "    lrs_1[i] = odds_lr(model_1, m, s)\n",
    "    lrs_2[i] = tanh_lr(model_2, m, s)\n",
    "    lrs_3[i] = arctan_lr(model_3, m, s)"
   ]
  },
  {
   "cell_type": "raw",
   "id": "7ad3bb32-f732-4598-9ee7-9e6c1f63d739",
   "metadata": {},
   "source": [
    "# Calculate predictions\n",
    "xs = np.linspace(-6, 6, 1201)\n",
    "preds_1 = get_preds(lrs_1, xs)\n",
    "preds_2 = get_preds(lrs_2, xs)\n",
    "preds_3 = get_preds(lrs_3, xs)"
   ]
  },
  {
   "cell_type": "raw",
   "id": "6453a9d1-1815-40e9-809a-9fe8eb991dd0",
   "metadata": {},
   "source": [
    "# Calculate mean absolute errors\n",
    "maes_1 = [mae(lr) for lr in lrs_1]\n",
    "maes_2 = [mae(lr) for lr in lrs_2]\n",
    "maes_3 = [mae(lr) for lr in lrs_3]\n",
    "\n",
    "avg_1 = np.mean(maes_1)\n",
    "avg_2 = np.mean(maes_2)\n",
    "avg_3 = np.mean(maes_3)"
   ]
  },
  {
   "cell_type": "raw",
   "id": "e80c4118-0249-405e-be88-607d9ee220b9",
   "metadata": {},
   "source": [
    "# Save results\n",
    "np.save(filestr + 'avg_1.npy', avg_1)\n",
    "np.save(filestr + 'avg_2.npy', avg_2)\n",
    "np.save(filestr + 'avg_3.npy', avg_3)\n",
    "\n",
    "np.save(filestr + 'xs.npy', xs)\n",
    "np.save(filestr + 'preds_1.npy', preds_1)\n",
    "np.save(filestr + 'preds_2.npy', preds_2)\n",
    "np.save(filestr + 'preds_3.npy', preds_3)"
   ]
  },
  {
   "cell_type": "markdown",
   "id": "2db85590-85be-4077-bfb0-5ebf17f0b549",
   "metadata": {
    "tags": []
   },
   "source": [
    "#### Likelihood Ratios"
   ]
  },
  {
   "cell_type": "code",
   "execution_count": 182,
   "id": "1136487d-f8dc-4e8a-ae1c-406b723ddce9",
   "metadata": {},
   "outputs": [],
   "source": [
    "xs = np.load(filestr + 'xs.npy')\n",
    "preds_1 = np.load(filestr + 'preds_1.npy')\n",
    "preds_2 = np.load(filestr + 'preds_2.npy')\n",
    "preds_3 = np.load(filestr + 'preds_3.npy')"
   ]
  },
  {
   "cell_type": "code",
   "execution_count": 183,
   "id": "9da7d876-eee2-4d13-8aab-ecfe55151797",
   "metadata": {},
   "outputs": [
    {
     "data": {
      "image/png": "[encoded data removed]",
      "text/plain": [
       "<Figure size 252x234 with 3 Axes>"
      ]
     },
     "metadata": {
      "needs_background": "light"
     },
     "output_type": "display_data"
    }
   ],
   "source": [
    "ratio_plot([preds_1, preds_2, preds_3],\n",
    "           [r'$\\sigma(z)$', r'$\\frac{1}{2}\\left(\\tanh{z} + 1\\right)$', r'$\\frac{1}{\\pi}\\left(\\arctan{z} + \\frac{\\pi}{2}\\right)$'],\n",
    "           lr,\n",
    "           bkgd, sgnl,\n",
    "           xs,\n",
    "           figsize = (w, h),\n",
    "           title = r'\\it Parametrizing $f$',\n",
    "           filename = 'plots/paper/c_bce.png')"
   ]
  },
  {
   "cell_type": "markdown",
   "id": "dbb45764-477a-4ea6-9f63-711d94418d45",
   "metadata": {
    "tags": []
   },
   "source": [
    "#### MAEs"
   ]
  },
  {
   "cell_type": "code",
   "execution_count": null,
   "id": "bef82d58-04d2-4f37-81b7-a9ec82c49046",
   "metadata": {},
   "outputs": [],
   "source": [
    "avg_1 = np.load(filestr + 'avg_1.npy')\n",
    "avg_2 = np.load(filestr + 'avg_2.npy')\n",
    "avg_3 = np.load(filestr + 'avg_3.npy')\n",
    "\n",
    "print(avg_1, avg_2, avg_3)"
   ]
  },
  {
   "cell_type": "markdown",
   "id": "24a378c2-8c7a-4e71-bdfe-f9909ae196e3",
   "metadata": {
    "jp-MarkdownHeadingCollapsed": true,
    "tags": []
   },
   "source": [
    "### MSE $C$ Parametrization"
   ]
  },
  {
   "cell_type": "code",
   "execution_count": 184,
   "id": "968eb231-0b0e-4088-aa23-ecb78b08dc57",
   "metadata": {},
   "outputs": [],
   "source": [
    "# Experiment parameters\n",
    "num = 0\n",
    "reps = 100\n",
    "\n",
    "# Model parameters\n",
    "params_1 = {'loss':mse}\n",
    "params_2 = {'loss':tanh_mse, 'output': 'linear'}\n",
    "params_3 = {'loss':arctan_mse, 'output': 'linear'}\n",
    "\n",
    "filestr = 'models/univariate/c_mse/set_{}/'.format(num)\n",
    "filestr_1 = filestr + 'sigmoid/model_{}.h5'\n",
    "filestr_2 = filestr + 'tanh/model_{}.h5'\n",
    "filestr_3 = filestr + 'arctan/model_{}.h5'\n",
    "\n",
    "# Data parameters\n",
    "N = 10**6\n",
    "X = np.load('data/normal/0.1/X_trn.npy')[:N]\n",
    "y = np.load('data/normal/0.1/y_trn.npy')[:N]\n",
    "data, m, s = split_data(X, y)\n",
    "\n",
    "# True distribution information\n",
    "bkgd = stats.norm(-0.1, 1)\n",
    "sgnl = stats.norm(+0.1, 1)\n",
    "\n",
    "lr = make_lr(bkgd, sgnl)\n",
    "mae = make_mae(bkgd, sgnl, 'data/normal/0.1/')"
   ]
  },
  {
   "cell_type": "markdown",
   "id": "0801dbee-1124-4c47-9c6f-c36827fd65e5",
   "metadata": {
    "jp-MarkdownHeadingCollapsed": true,
    "tags": []
   },
   "source": [
    "#### Process"
   ]
  },
  {
   "cell_type": "raw",
   "id": "d3a97128-391c-44e3-a5fa-faa4fac5b919",
   "metadata": {},
   "source": [
    "lrs_1 = [None] * reps\n",
    "lrs_2 = [None] * reps\n",
    "lrs_3 = [None] * reps\n",
    "\n",
    "for i in range(reps):\n",
    "    model_1 = create_model(**params_1)\n",
    "    model_2 = create_model(**params_2)\n",
    "    model_3 = create_model(**params_3)\n",
    "    \n",
    "    model_1.load_weights(filestr_1.format(i))\n",
    "    model_2.load_weights(filestr_2.format(i))\n",
    "    model_3.load_weights(filestr_3.format(i))\n",
    "    \n",
    "    lrs_1[i] = odds_lr(model_1, m, s)\n",
    "    lrs_2[i] = tanh_lr(model_2, m, s)\n",
    "    lrs_3[i] = arctan_lr(model_3, m, s)"
   ]
  },
  {
   "cell_type": "raw",
   "id": "36ee189a-f88a-40c1-9af1-7482d57b8a4c",
   "metadata": {},
   "source": [
    "# Calculate predictions\n",
    "xs = np.linspace(-6, 6, 1201)\n",
    "preds_1 = get_preds(lrs_1, xs)\n",
    "preds_2 = get_preds(lrs_2, xs)\n",
    "preds_3 = get_preds(lrs_3, xs)"
   ]
  },
  {
   "cell_type": "raw",
   "id": "95c48ef9-866e-4ac9-aa2d-d588632d2816",
   "metadata": {},
   "source": [
    "# Calculate mean absolute errors\n",
    "maes_1 = [mae(lr) for lr in lrs_1]\n",
    "maes_2 = [mae(lr) for lr in lrs_2]\n",
    "maes_3 = [mae(lr) for lr in lrs_3]\n",
    "\n",
    "avg_1 = np.mean(maes_1)\n",
    "avg_2 = np.mean(maes_2)\n",
    "avg_3 = np.mean(maes_3)"
   ]
  },
  {
   "cell_type": "raw",
   "id": "02f4adc2-d3a5-437f-add7-a068b232ca25",
   "metadata": {},
   "source": [
    "# Save results\n",
    "np.save(filestr + 'avg_1.npy', avg_1)\n",
    "np.save(filestr + 'avg_2.npy', avg_2)\n",
    "np.save(filestr + 'avg_3.npy', avg_3)\n",
    "\n",
    "np.save(filestr + 'xs.npy', xs)\n",
    "np.save(filestr + 'preds_1.npy', preds_1)\n",
    "np.save(filestr + 'preds_2.npy', preds_2)\n",
    "np.save(filestr + 'preds_3.npy', preds_3)"
   ]
  },
  {
   "cell_type": "markdown",
   "id": "75647667-7bc7-4e17-8a97-33d93091d5ac",
   "metadata": {
    "tags": []
   },
   "source": [
    "#### Likelihood Ratios"
   ]
  },
  {
   "cell_type": "code",
   "execution_count": 185,
   "id": "39f0d0cd-7e27-4ba3-b360-c7cd04d12ce9",
   "metadata": {},
   "outputs": [],
   "source": [
    "xs = np.load(filestr + 'xs.npy')\n",
    "preds_1 = np.load(filestr + 'preds_1.npy')\n",
    "preds_2 = np.load(filestr + 'preds_2.npy')\n",
    "preds_3 = np.load(filestr + 'preds_3.npy')"
   ]
  },
  {
   "cell_type": "code",
   "execution_count": 186,
   "id": "a19f57d3-c0aa-45f4-980c-26f90e42d00d",
   "metadata": {},
   "outputs": [
    {
     "data": {
      "image/png": "[encoded data removed]",
      "text/plain": [
       "<Figure size 252x234 with 3 Axes>"
      ]
     },
     "metadata": {
      "needs_background": "light"
     },
     "output_type": "display_data"
    }
   ],
   "source": [
    "ratio_plot([preds_1, preds_2, preds_3],\n",
    "           [r'$\\sigma(z)$', r'$\\frac{1}{2}\\left(\\tanh{z} + 1\\right)$', r'$\\frac{1}{\\pi}\\left(\\arctan{z} + \\frac{\\pi}{2}\\right)$'],\n",
    "           lr,\n",
    "           bkgd, sgnl,\n",
    "           xs,\n",
    "           figsize = (w, h),\n",
    "           title = r'\\it Parametrizing $f$',\n",
    "           filename = 'plots/paper/c_mse.png')"
   ]
  },
  {
   "cell_type": "markdown",
   "id": "ce5103fa-6bba-489c-85a5-dce710a4a9e4",
   "metadata": {
    "tags": []
   },
   "source": [
    "#### MAEs"
   ]
  },
  {
   "cell_type": "code",
   "execution_count": null,
   "id": "1869bd06-c4e1-40e9-b398-965249b782da",
   "metadata": {},
   "outputs": [],
   "source": [
    "avg_1 = np.load(filestr + 'avg_1.npy')\n",
    "avg_2 = np.load(filestr + 'avg_2.npy')\n",
    "avg_3 = np.load(filestr + 'avg_3.npy')\n",
    "\n",
    "print(avg_1, avg_2, avg_3)"
   ]
  },
  {
   "cell_type": "markdown",
   "id": "6606796d-e799-4c66-8186-7f8ed736321b",
   "metadata": {
    "jp-MarkdownHeadingCollapsed": true,
    "tags": []
   },
   "source": [
    "### MLC $C$ Parametrization"
   ]
  },
  {
   "cell_type": "code",
   "execution_count": 187,
   "id": "a75eb165-d372-4706-8b20-e41958b7fa80",
   "metadata": {},
   "outputs": [],
   "source": [
    "# Experiment parameters\n",
    "num = 0\n",
    "reps = 100\n",
    "\n",
    "# Model parameters\n",
    "params_1 = {'loss':mlc, 'output': 'relu'}\n",
    "params_2 = {'loss':square_mlc, 'output': 'linear'}\n",
    "params_3 = {'loss':exp_mlc, 'output': 'linear'}\n",
    "\n",
    "filestr = 'models/univariate/c_mlc/set_{}/'.format(num)\n",
    "filestr_1 = filestr + 'relu/model_{}.h5'\n",
    "filestr_2 = filestr + 'square/model_{}.h5'\n",
    "filestr_3 = filestr + 'exponential/model_{}.h5'\n",
    "\n",
    "# Data parameters\n",
    "N = 10**6\n",
    "X = np.load('data/normal/0.1/X_trn.npy')[:N]\n",
    "y = np.load('data/normal/0.1/y_trn.npy')[:N]\n",
    "data, m, s = split_data(X, y)\n",
    "\n",
    "# True distribution information\n",
    "bkgd = stats.norm(-0.1, 1)\n",
    "sgnl = stats.norm(+0.1, 1)\n",
    "\n",
    "lr = make_lr(bkgd, sgnl)\n",
    "mae = make_mae(bkgd, sgnl, 'data/normal/0.1/')"
   ]
  },
  {
   "cell_type": "markdown",
   "id": "c1e4f235-c733-4a07-b6f4-b3e70330c2d6",
   "metadata": {
    "jp-MarkdownHeadingCollapsed": true,
    "tags": []
   },
   "source": [
    "#### Process"
   ]
  },
  {
   "cell_type": "raw",
   "id": "da2d0e33-5447-4db0-9c7e-7bbecc88ab22",
   "metadata": {},
   "source": [
    "lrs_1 = [None] * reps\n",
    "lrs_2 = [None] * reps\n",
    "lrs_3 = [None] * reps\n",
    "\n",
    "for i in range(reps):\n",
    "    model_1 = create_model(**params_1)\n",
    "    model_2 = create_model(**params_2)\n",
    "    model_3 = create_model(**params_3)\n",
    "    \n",
    "    model_1.load_weights(filestr_1.format(i))\n",
    "    model_2.load_weights(filestr_2.format(i))\n",
    "    model_3.load_weights(filestr_3.format(i))\n",
    "    \n",
    "    lrs_1[i] = pure_lr(model_1, m, s)\n",
    "    lrs_2[i] = square_lr(model_2, m, s)\n",
    "    lrs_3[i] = exp_lr(model_3, m, s)"
   ]
  },
  {
   "cell_type": "raw",
   "id": "c0403b6f-2b99-41ff-8dcc-4ae9e6f76cd0",
   "metadata": {},
   "source": [
    "# Calculate predictions\n",
    "xs = np.linspace(-6, 6, 1201)\n",
    "preds_1 = get_preds(lrs_1, xs)\n",
    "preds_2 = get_preds(lrs_2, xs)\n",
    "preds_3 = get_preds(lrs_3, xs)"
   ]
  },
  {
   "cell_type": "raw",
   "id": "9ea92b7d-6a0e-4f83-91e8-cd8c9774838c",
   "metadata": {},
   "source": [
    "# Calculate mean absolute errors\n",
    "maes_1 = [mae(lr) for lr in lrs_1]\n",
    "maes_2 = [mae(lr) for lr in lrs_2]\n",
    "maes_3 = [mae(lr) for lr in lrs_3]\n",
    "\n",
    "avg_1 = np.mean(maes_1)\n",
    "avg_2 = np.mean(maes_2)\n",
    "avg_3 = np.mean(maes_3)"
   ]
  },
  {
   "cell_type": "raw",
   "id": "06d96cb6-b342-40c9-bc57-63c65de295e0",
   "metadata": {},
   "source": [
    "# Save results\n",
    "np.save(filestr + 'avg_1.npy', avg_1)\n",
    "np.save(filestr + 'avg_2.npy', avg_2)\n",
    "np.save(filestr + 'avg_3.npy', avg_3)\n",
    "\n",
    "np.save(filestr + 'xs.npy', xs)\n",
    "np.save(filestr + 'preds_1.npy', preds_1)\n",
    "np.save(filestr + 'preds_2.npy', preds_2)\n",
    "np.save(filestr + 'preds_3.npy', preds_3)"
   ]
  },
  {
   "cell_type": "markdown",
   "id": "6f913b64-01bc-49cd-b7e3-383831aa6391",
   "metadata": {
    "tags": []
   },
   "source": [
    "#### Likelihood Ratios"
   ]
  },
  {
   "cell_type": "code",
   "execution_count": 188,
   "id": "81477e08-1f69-45cf-8251-c4186f8dc285",
   "metadata": {},
   "outputs": [],
   "source": [
    "xs = np.load(filestr + 'xs.npy')\n",
    "preds_1 = np.load(filestr + 'preds_1.npy')\n",
    "preds_2 = np.load(filestr + 'preds_2.npy')\n",
    "preds_3 = np.load(filestr + 'preds_3.npy')"
   ]
  },
  {
   "cell_type": "code",
   "execution_count": 190,
   "id": "571c0a1b-3403-4a36-a7ba-071290fad530",
   "metadata": {},
   "outputs": [
    {
     "data": {
      "image/png": "[encoded data removed]",
      "text/plain": [
       "<Figure size 252x234 with 3 Axes>"
      ]
     },
     "metadata": {
      "needs_background": "light"
     },
     "output_type": "display_data"
    }
   ],
   "source": [
    "ratio_plot([preds_1, preds_2, preds_3],\n",
    "           [r'$\\text{ReLU}(z)$', r'$z^2$', r'$\\exp{z}$'],\n",
    "           lr,\n",
    "           bkgd, sgnl,\n",
    "           xs,\n",
    "           figsize = (w, h),\n",
    "           title = r'\\it Parametrizing $f$',\n",
    "           filename = 'plots/paper/c_mlc.png')"
   ]
  },
  {
   "cell_type": "markdown",
   "id": "e065e187-ed4d-4373-9adf-98071e509786",
   "metadata": {
    "tags": []
   },
   "source": [
    "#### MAEs"
   ]
  },
  {
   "cell_type": "code",
   "execution_count": null,
   "id": "809e3ebc-3836-4c27-af77-df02d433f68f",
   "metadata": {},
   "outputs": [],
   "source": [
    "avg_1 = np.load(filestr + 'avg_1.npy')\n",
    "avg_2 = np.load(filestr + 'avg_2.npy')\n",
    "avg_3 = np.load(filestr + 'avg_3.npy')\n",
    "\n",
    "print(avg_1, avg_2, avg_3)"
   ]
  },
  {
   "cell_type": "markdown",
   "id": "6557abb2-ba2e-41d1-a31c-4ca44ba01792",
   "metadata": {
    "jp-MarkdownHeadingCollapsed": true,
    "tags": []
   },
   "source": [
    "### SQR $C$ Parametrization"
   ]
  },
  {
   "cell_type": "code",
   "execution_count": 191,
   "id": "e3649157-7def-4b1d-9e81-c6c0579bbfd2",
   "metadata": {},
   "outputs": [],
   "source": [
    "# Experiment parameters\n",
    "num = 0\n",
    "reps = 100\n",
    "\n",
    "# Model parameters\n",
    "params_1 = {'loss':sqr, 'output': 'relu'}\n",
    "params_2 = {'loss':square_sqr, 'output': 'linear'}\n",
    "params_3 = {'loss':exp_sqr, 'output': 'linear'}\n",
    "\n",
    "filestr = 'models/univariate/c_sqr/set_{}/'.format(num)\n",
    "filestr_1 = filestr + 'relu/model_{}.h5'\n",
    "filestr_2 = filestr + 'square/model_{}.h5'\n",
    "filestr_3 = filestr + 'exponential/model_{}.h5'\n",
    "\n",
    "# Data parameters\n",
    "N = 10**6\n",
    "X = np.load('data/normal/0.1/X_trn.npy')[:N]\n",
    "y = np.load('data/normal/0.1/y_trn.npy')[:N]\n",
    "data, m, s = split_data(X, y)\n",
    "\n",
    "# True distribution information\n",
    "bkgd = stats.norm(-0.1, 1)\n",
    "sgnl = stats.norm(+0.1, 1)\n",
    "\n",
    "lr = make_lr(bkgd, sgnl)\n",
    "mae = make_mae(bkgd, sgnl, 'data/normal/0.1/')"
   ]
  },
  {
   "cell_type": "markdown",
   "id": "0456278f-0163-44ac-a38a-22febe15070a",
   "metadata": {
    "jp-MarkdownHeadingCollapsed": true,
    "tags": []
   },
   "source": [
    "#### Process"
   ]
  },
  {
   "cell_type": "raw",
   "id": "89aa592f-703c-4be2-9a20-ed0c6da9c834",
   "metadata": {},
   "source": [
    "lrs_1 = [None] * reps\n",
    "lrs_2 = [None] * reps\n",
    "lrs_3 = [None] * reps\n",
    "\n",
    "for i in range(reps):\n",
    "    model_1 = create_model(**params_1)\n",
    "    model_2 = create_model(**params_2)\n",
    "    model_3 = create_model(**params_3)\n",
    "    \n",
    "    model_1.load_weights(filestr_1.format(i))\n",
    "    model_2.load_weights(filestr_2.format(i))\n",
    "    model_3.load_weights(filestr_3.format(i))\n",
    "    \n",
    "    lrs_1[i] = pure_lr(model_1, m, s)\n",
    "    lrs_2[i] = square_lr(model_2, m, s)\n",
    "    lrs_3[i] = exp_lr(model_3, m, s)"
   ]
  },
  {
   "cell_type": "raw",
   "id": "d92bcca5-b5b9-497c-98ed-e44563224014",
   "metadata": {},
   "source": [
    "# Calculate predictions\n",
    "xs = np.linspace(-6, 6, 1201)\n",
    "preds_1 = get_preds(lrs_1, xs)\n",
    "preds_2 = get_preds(lrs_2, xs)\n",
    "preds_3 = get_preds(lrs_3, xs)"
   ]
  },
  {
   "cell_type": "raw",
   "id": "0e6e7c33-327e-4933-b2e5-697bfb06a6bc",
   "metadata": {},
   "source": [
    "# Calculate mean absolute errors\n",
    "maes_1 = [mae(lr) for lr in lrs_1]\n",
    "maes_2 = [mae(lr) for lr in lrs_2]\n",
    "maes_3 = [mae(lr) for lr in lrs_3]\n",
    "\n",
    "avg_1 = np.mean(maes_1)\n",
    "avg_2 = np.mean(maes_2)\n",
    "avg_3 = np.mean(maes_3)"
   ]
  },
  {
   "cell_type": "raw",
   "id": "7f0e08be-d70f-4de8-8fbe-412f7c0e65bd",
   "metadata": {},
   "source": [
    "# Save results\n",
    "np.save(filestr + 'avg_1.npy', avg_1)\n",
    "np.save(filestr + 'avg_2.npy', avg_2)\n",
    "np.save(filestr + 'avg_3.npy', avg_3)\n",
    "\n",
    "np.save(filestr + 'xs.npy', xs)\n",
    "np.save(filestr + 'preds_1.npy', preds_1)\n",
    "np.save(filestr + 'preds_2.npy', preds_2)\n",
    "np.save(filestr + 'preds_3.npy', preds_3)"
   ]
  },
  {
   "cell_type": "markdown",
   "id": "e31db487-ef38-47f0-a584-5828c5255012",
   "metadata": {
    "tags": []
   },
   "source": [
    "#### Likelihood Ratios"
   ]
  },
  {
   "cell_type": "code",
   "execution_count": 192,
   "id": "eae45b83-836b-48e6-939d-3e3cdacfc185",
   "metadata": {},
   "outputs": [],
   "source": [
    "xs = np.load(filestr + 'xs.npy')\n",
    "preds_1 = np.load(filestr + 'preds_1.npy')\n",
    "preds_2 = np.load(filestr + 'preds_2.npy')\n",
    "preds_3 = np.load(filestr + 'preds_3.npy')"
   ]
  },
  {
   "cell_type": "code",
   "execution_count": 193,
   "id": "619abdaa-0d9a-4d16-a719-eba189f17e6b",
   "metadata": {},
   "outputs": [
    {
     "data": {
      "image/png": "[encoded data removed]",
      "text/plain": [
       "<Figure size 252x234 with 3 Axes>"
      ]
     },
     "metadata": {
      "needs_background": "light"
     },
     "output_type": "display_data"
    }
   ],
   "source": [
    "ratio_plot([preds_1, preds_2, preds_3],\n",
    "           [r'$\\text{ReLU}(z)$', r'$z^2$', r'$\\exp{z}$'],\n",
    "           lr,\n",
    "           bkgd, sgnl,\n",
    "           xs,\n",
    "           figsize = (w, h),\n",
    "           title = r'\\it Parametrizing $f$',\n",
    "           filename = 'plots/paper/c_sqr.png')"
   ]
  },
  {
   "cell_type": "markdown",
   "id": "552e78db-c09b-4121-b830-bebe6444150f",
   "metadata": {
    "tags": []
   },
   "source": [
    "#### MAEs"
   ]
  },
  {
   "cell_type": "code",
   "execution_count": null,
   "id": "fb11906b-fe88-465f-bd73-b4aafc3e7021",
   "metadata": {},
   "outputs": [],
   "source": [
    "avg_1 = np.load(filestr + 'avg_1.npy')\n",
    "avg_2 = np.load(filestr + 'avg_2.npy')\n",
    "avg_3 = np.load(filestr + 'avg_3.npy')\n",
    "\n",
    "print(avg_1, avg_2, avg_3)"
   ]
  },
  {
   "cell_type": "markdown",
   "id": "63b36769-a3c5-4a73-9245-a2db0daece97",
   "metadata": {
    "jp-MarkdownHeadingCollapsed": true,
    "tags": []
   },
   "source": [
    "## Generalized Loss Families"
   ]
  },
  {
   "cell_type": "markdown",
   "id": "672bf32b-dd16-4076-9289-f2ffae9fb31d",
   "metadata": {
    "tags": []
   },
   "source": [
    "### SQR $A/B$ Parametrization"
   ]
  },
  {
   "cell_type": "code",
   "execution_count": 175,
   "id": "b64389d1-c170-4cb4-97a9-1ca91627ff37",
   "metadata": {},
   "outputs": [],
   "source": [
    "# Experiment parameters\n",
    "num = 0\n",
    "reps = 20\n",
    "\n",
    "# File parameters\n",
    "filestr = 'models/univariate/ab_sqr/set_{}/'.format(num)\n",
    "lin_filestr = filestr + 'relu/model_{}_{}.h5'\n",
    "exp_filestr = filestr + 'exponential/model_{}_{}.h5'\n",
    "\n",
    "# Data parameters\n",
    "N = 10**6\n",
    "X = np.load('data/normal/0.1/X_trn.npy')[:N]\n",
    "y = np.load('data/normal/0.1/y_trn.npy')[:N]\n",
    "data, m, s = split_data(X, y)\n",
    "\n",
    "rs = np.sort(np.append(np.round(np.linspace(-2, 2, 81), 2),\n",
    "                       np.round(np.linspace(-0.05, 0.05, 26), 3)[1:-1]))\n",
    "\n",
    "# True distribution information\n",
    "bkgd = stats.norm(-0.1, 1)\n",
    "sgnl = stats.norm(+0.1, 1)\n",
    "\n",
    "lr = make_lr(bkgd, sgnl)\n",
    "mae = make_mae(bkgd, sgnl, 'data/normal/0.1/')"
   ]
  },
  {
   "cell_type": "markdown",
   "id": "a4ebbf8b-3f96-4b85-8f29-6ffb356902bb",
   "metadata": {
    "tags": []
   },
   "source": [
    "#### Process"
   ]
  },
  {
   "cell_type": "raw",
   "id": "23abfd5f-20cb-4414-bc0c-6ec18c2a6fd4",
   "metadata": {},
   "source": [
    "lin_avgs = []\n",
    "exp_avgs = []\n",
    "\n",
    "for r in rs:\n",
    "    lin_lrs = [None] * reps\n",
    "    exp_lrs = [None] * reps\n",
    "    lin_params = {'loss': get_sqr(r), 'output':'relu'}\n",
    "    exp_params = {'loss': get_exp_sqr(r), 'output':'linear'}\n",
    "    \n",
    "    for i in range(reps):\n",
    "        lin_model = create_model(**lin_params)\n",
    "        exp_model = create_model(**exp_params)\n",
    "        \n",
    "        lin_model.load_weights(lin_filestr.format(r, i))\n",
    "        exp_model.load_weights(exp_filestr.format(r, i))\n",
    "        \n",
    "        lin_lrs[i] = pow_lr(lin_model, r, m, s)\n",
    "        exp_lrs[i] = pow_exp_lr(exp_model, r, m, s)\n",
    "    \n",
    "    lin_maes = [mae(lr) for lr in lin_lrs]\n",
    "    exp_maes = [mae(lr) for lr in exp_lrs]\n",
    "    \n",
    "    lin_avgs += [np.mean(lin_maes)]\n",
    "    exp_avgs += [np.mean(exp_maes)]"
   ]
  },
  {
   "cell_type": "raw",
   "id": "c6f87deb-6fbb-4a31-b886-111dcd86f7d4",
   "metadata": {},
   "source": [
    "# Save results\n",
    "lin_avgs = np.array(lin_avgs)\n",
    "exp_avgs = np.array(exp_avgs)\n",
    "\n",
    "np.save(filestr + 'lin_avgs', lin_avgs)\n",
    "np.save(filestr + 'exp_avgs', exp_avgs)"
   ]
  },
  {
   "cell_type": "markdown",
   "id": "322f002f-ab47-4a3b-b201-15118f8f10bb",
   "metadata": {
    "tags": []
   },
   "source": [
    "#### MAEs"
   ]
  },
  {
   "cell_type": "code",
   "execution_count": 176,
   "id": "564b9f18-a054-478c-8f5f-2fe41b76976d",
   "metadata": {},
   "outputs": [
    {
     "data": {
      "text/plain": [
       "(array([0.5]), array([0.018]))"
      ]
     },
     "execution_count": 176,
     "metadata": {},
     "output_type": "execute_result"
    }
   ],
   "source": [
    "lin_avgs = np.load(filestr + 'lin_avgs.npy')\n",
    "exp_avgs = np.load(filestr + 'exp_avgs.npy')\n",
    "\n",
    "rs[lin_avgs == min(lin_avgs)], rs[exp_avgs == min(exp_avgs)]"
   ]
  },
  {
   "cell_type": "code",
   "execution_count": 177,
   "id": "41389306-ad39-46db-bc6a-7af7234d67cd",
   "metadata": {},
   "outputs": [
    {
     "data": {
      "image/png": "[encoded data removed]",
      "text/plain": [
       "<Figure size 252x234 with 1 Axes>"
      ]
     },
     "metadata": {
      "needs_background": "light"
     },
     "output_type": "display_data"
    }
   ],
   "source": [
    "plt.figure(figsize = (w, h))\n",
    "\n",
    "plt.plot(rs, lin_avgs, label=r'$\\text{ReLU}(z)$', c='blue', lw = 0.75)\n",
    "plt.plot(rs, exp_avgs, label=r'$\\exp{z}$', c='red', lw = 0.75)\n",
    "plt.legend()\n",
    "\n",
    "plt.minorticks_on()\n",
    "plt.tick_params(which = 'minor', length = 3)\n",
    "plt.tick_params(which = 'major', length = 5)\n",
    "plt.tick_params(which = 'both', direction='in')\n",
    "plt.ylabel('Mean Absolute Error')\n",
    "plt.xlabel(r'$r$')\n",
    "plt.ylim(0, 0.16)\n",
    "\n",
    "plt.title(r\"\\it $r$-SQR Losses\",loc=\"right\");\n",
    "plt.savefig('plots/paper/ab_sqr.png', \n",
    "            dpi=300, \n",
    "            bbox_inches='tight')"
   ]
  },
  {
   "cell_type": "markdown",
   "id": "92eab03c-3d29-4082-b190-39c012f39b2c",
   "metadata": {
    "tags": []
   },
   "source": [
    "### MSE $A/B$ Parametrization"
   ]
  },
  {
   "cell_type": "code",
   "execution_count": 178,
   "id": "4affb7bd-664f-45f6-8b05-b788c62ae567",
   "metadata": {},
   "outputs": [],
   "source": [
    "# Experiment parameters\n",
    "num = 0\n",
    "reps = 20\n",
    "\n",
    "# File parameters\n",
    "filestr = 'models/univariate/ab_mse/set_{}/'.format(num)\n",
    "mse_filestr = filestr + 'model_{}_{}.h5'\n",
    "\n",
    "# Data parameters\n",
    "N = 10**6\n",
    "X = np.load('data/normal/0.1/X_trn.npy')[:N]\n",
    "y = np.load('data/normal/0.1/y_trn.npy')[:N]\n",
    "data, m, s = split_data(X, y)\n",
    "\n",
    "ps = np.round(np.linspace(-2, 2, 101), 2)\n",
    "\n",
    "# True distribution information\n",
    "bkgd = stats.norm(-0.1, 1)\n",
    "sgnl = stats.norm(+0.1, 1)\n",
    "\n",
    "lr = make_lr(bkgd, sgnl)\n",
    "mae = make_mae(bkgd, sgnl, 'data/normal/0.1/')"
   ]
  },
  {
   "cell_type": "markdown",
   "id": "5192977d-8084-452c-ae75-71c29bc94489",
   "metadata": {
    "tags": []
   },
   "source": [
    "#### Process"
   ]
  },
  {
   "cell_type": "raw",
   "id": "e665dc07-5057-406c-803b-f601eef29d56",
   "metadata": {},
   "source": [
    "# Get model likelihood ratios.\n",
    "avgs = []\n",
    "for p in ps:\n",
    "    lrs = [None] * reps\n",
    "    params = {'loss':get_mse(p)}\n",
    "    for i in range(reps):\n",
    "        model = create_model(**params)\n",
    "        model.load_weights(mse_filestr.format(p, i))\n",
    "        lrs[i] = pow_odds_lr(model, p, m, s)\n",
    "    \n",
    "    maes = [mae(lr) for lr in lrs]\n",
    "    avgs += [np.mean(maes)]\n",
    "\n",
    "avgs = np.array(avgs)"
   ]
  },
  {
   "cell_type": "raw",
   "id": "2c897900-a118-4e3b-9c75-7e5f99a5691e",
   "metadata": {},
   "source": [
    "# Save results\n",
    "np.save(filestr + 'avgs', avgs)"
   ]
  },
  {
   "cell_type": "markdown",
   "id": "79d2474a-b8ce-4eac-9877-62370f6d5701",
   "metadata": {
    "tags": []
   },
   "source": [
    "#### MAEs"
   ]
  },
  {
   "cell_type": "code",
   "execution_count": 179,
   "id": "68a5cbd7-cbdb-480d-8655-c95596dd506e",
   "metadata": {},
   "outputs": [
    {
     "data": {
      "text/plain": [
       "array([1.08])"
      ]
     },
     "execution_count": 179,
     "metadata": {},
     "output_type": "execute_result"
    }
   ],
   "source": [
    "avgs = np.load(filestr + 'avgs.npy')\n",
    "ps[avgs == min(avgs)]"
   ]
  },
  {
   "cell_type": "code",
   "execution_count": 180,
   "id": "bbb86fba-7e32-4518-aba5-06a9d94594a5",
   "metadata": {},
   "outputs": [
    {
     "data": {
      "image/png": "[encoded data removed]",
      "text/plain": [
       "<Figure size 252x234 with 1 Axes>"
      ]
     },
     "metadata": {
      "needs_background": "light"
     },
     "output_type": "display_data"
    }
   ],
   "source": [
    "plt.figure(figsize = (w, h))\n",
    "\n",
    "plt.plot(ps, avgs, c='blue', lw = 0.75)\n",
    "\n",
    "plt.minorticks_on()\n",
    "plt.tick_params(which = 'minor', length = 3)\n",
    "plt.tick_params(which = 'major', length = 5)\n",
    "plt.tick_params(which = 'both', direction='in')\n",
    "plt.ylabel('Mean Absolute Error')\n",
    "plt.xlabel(r'$p$')\n",
    "plt.ylim(0, 0.16)\n",
    "\n",
    "plt.title(r\"\\it $p$-MSE Losses\",loc=\"right\");\n",
    "plt.savefig('plots/paper/ab_mse.png', \n",
    "            dpi=300, \n",
    "            bbox_inches='tight')"
   ]
  },
  {
   "cell_type": "markdown",
   "id": "b140310d-c049-4ddf-906a-65016834dca9",
   "metadata": {
    "jp-MarkdownHeadingCollapsed": true,
    "tags": []
   },
   "source": [
    "## Optimized Implementation"
   ]
  },
  {
   "cell_type": "code",
   "execution_count": 199,
   "id": "332dcb14-8853-40ed-a1de-3dbd9c1bd5b6",
   "metadata": {},
   "outputs": [],
   "source": [
    "num = 3\n",
    "reps = 100\n",
    "Ns = 10**np.arange(2, 8)\n",
    "\n",
    "mu = 0.1\n",
    "bkgd = stats.norm(-mu, 1)\n",
    "sgnl = stats.norm(mu, 1)\n",
    "\n",
    "mae = make_mae(bkgd, sgnl, 'data/normal/0.1/')\n",
    "lr = make_lr(bkgd, sgnl)\n",
    "\n",
    "# Model parameters\n",
    "p = 1.24\n",
    "r = 0.018\n",
    "bce_params = {'loss':bce}\n",
    "mse_params = {'loss':get_mse(p)}\n",
    "mlc_params = {'loss':exp_mlc, 'output':'linear'}\n",
    "sqr_params = {'loss':get_exp_sqr(r), 'output':'linear'}\n",
    "\n",
    "filestr = 'models/univariate/loss_comp/set_{}/'.format(num)\n",
    "bce_filestr = filestr + 'bce/model_{}_{}.h5'\n",
    "mse_filestr = filestr + 'mse/model_{}_{}.h5'\n",
    "mlc_filestr = filestr + 'mlc/model_{}_{}.h5'\n",
    "sqr_filestr = filestr + 'sqr/model_{}_{}.h5'"
   ]
  },
  {
   "cell_type": "markdown",
   "id": "995e8b8e-c58a-4e76-8228-7a57886c5a6e",
   "metadata": {
    "jp-MarkdownHeadingCollapsed": true,
    "tags": []
   },
   "source": [
    "### Likelihood Ratios"
   ]
  },
  {
   "cell_type": "markdown",
   "id": "205c14b0-4358-4f4d-9ab5-9c891f2851ae",
   "metadata": {
    "jp-MarkdownHeadingCollapsed": true,
    "tags": []
   },
   "source": [
    "#### Process"
   ]
  },
  {
   "cell_type": "raw",
   "id": "fcd25964-1216-4799-9678-c74e5aa2f31d",
   "metadata": {},
   "source": [
    "N = 10**6\n",
    "X = np.load('data/normal/0.1/X_trn.npy')[:N]\n",
    "y = np.load('data/normal/0.1/y_trn.npy')[:N]\n",
    "data, m, s = split_data(X, y)\n",
    "\n",
    "# Load in models.\n",
    "bce_lrs = [None] * reps\n",
    "mse_lrs = [None] * reps\n",
    "mlc_lrs = [None] * reps\n",
    "sqr_lrs = [None] * reps\n",
    "for i in range(reps):\n",
    "    bce_model = create_model(**bce_params)\n",
    "    bce_model.load_weights(bce_filestr.format(N, i))\n",
    "    bce_lrs[i] = odds_lr(bce_model, m, s)\n",
    "    \n",
    "    mse_model = create_model(**mse_params)\n",
    "    mse_model.load_weights(mse_filestr.format(N, i))\n",
    "    mse_lrs[i] = pow_odds_lr(mse_model, p, m, s)\n",
    "    \n",
    "    mlc_model = create_model(**mlc_params)\n",
    "    mlc_model.load_weights(mlc_filestr.format(N, i))\n",
    "    mlc_lrs[i] = exp_lr(mlc_model, m, s)\n",
    "    \n",
    "    sqr_model = create_model(**sqr_params)\n",
    "    sqr_model.load_weights(sqr_filestr.format(N, i))\n",
    "    sqr_lrs[i] = pow_exp_lr(sqr_model, r, m, s)"
   ]
  },
  {
   "cell_type": "raw",
   "id": "7878c0ac-7fc2-4ea7-a711-274dd08648ab",
   "metadata": {},
   "source": [
    "# Calculate predictions\n",
    "xs = np.linspace(-6, 6, 1201)\n",
    "bce_preds = get_preds(bce_lrs, xs)\n",
    "mse_preds = get_preds(mse_lrs, xs)\n",
    "mlc_preds = get_preds(mlc_lrs, xs)\n",
    "sqr_preds = get_preds(sqr_lrs, xs)"
   ]
  },
  {
   "cell_type": "raw",
   "id": "cf1707f4-c09a-4a49-a967-18d0c541ba91",
   "metadata": {},
   "source": [
    "# Save results\n",
    "np.save(filestr + 'xs', xs)\n",
    "np.save(filestr + 'bce_preds', bce_preds)\n",
    "np.save(filestr + 'mse_preds', mse_preds)\n",
    "np.save(filestr + 'mlc_preds', mlc_preds)\n",
    "np.save(filestr + 'sqr_preds', sqr_preds)"
   ]
  },
  {
   "cell_type": "markdown",
   "id": "e32441ff-9e1a-489b-890b-77f06a284838",
   "metadata": {
    "jp-MarkdownHeadingCollapsed": true,
    "tags": []
   },
   "source": [
    "#### Plot"
   ]
  },
  {
   "cell_type": "code",
   "execution_count": null,
   "id": "e053ac22-367a-47a1-b850-b64fc8a232c6",
   "metadata": {},
   "outputs": [],
   "source": [
    "xs = np.load(filestr + 'xs.npy')\n",
    "bce_preds = np.load(filestr + 'bce_preds.npy')\n",
    "mse_preds = np.load(filestr + 'mse_preds.npy')\n",
    "mlc_preds = np.load(filestr + 'mlc_preds.npy')\n",
    "sqr_preds = np.load(filestr + 'sqr_preds.npy')"
   ]
  },
  {
   "cell_type": "code",
   "execution_count": null,
   "id": "15e1c8ad-4bd7-4c76-aea3-71ecc8f55e1f",
   "metadata": {},
   "outputs": [],
   "source": [
    "ratio_plot([bce_preds, mse_preds, mlc_preds, sqr_preds],\n",
    "           ['BCE', 'MSE', 'MLC', 'SQR'],\n",
    "           lr,\n",
    "           bkgd, sgnl,\n",
    "           xs,\n",
    "           figsize = (w, h),\n",
    "           title = r'\\it Optimized Implementation',\n",
    "           filename = 'plots/paper/best_fit_3.png')"
   ]
  },
  {
   "cell_type": "markdown",
   "id": "e00740e5-4902-4387-b110-b033e94559e6",
   "metadata": {
    "tags": []
   },
   "source": [
    "### MAEs"
   ]
  },
  {
   "cell_type": "markdown",
   "id": "239cde5a-20e1-414e-acd4-bfe3023008b7",
   "metadata": {
    "jp-MarkdownHeadingCollapsed": true,
    "tags": []
   },
   "source": [
    "#### Process"
   ]
  },
  {
   "cell_type": "raw",
   "id": "dda4cbaf-4ca6-4837-91b7-a96fda4d5680",
   "metadata": {},
   "source": [
    "X = np.load('data/normal/0.1/X_trn.npy')\n",
    "y = np.load('data/normal/0.1/y_trn.npy')\n",
    "\n",
    "# Calculate mean absolute errors\n",
    "bce_avg = []\n",
    "mse_avg = []\n",
    "mlc_avg = []\n",
    "sqr_avg = []\n",
    "\n",
    "for N in Ns:\n",
    "    print(N)\n",
    "    data, m, s = split_data(X, y)\n",
    "    \n",
    "    bce_lrs = [None] * reps\n",
    "    mse_lrs = [None] * reps\n",
    "    mlc_lrs = [None] * reps\n",
    "    sqr_lrs = [None] * reps\n",
    "    for i in range(reps):\n",
    "        bce_model = create_model(**bce_params)\n",
    "        bce_model.load_weights(bce_filestr.format(N, i))\n",
    "        bce_lrs[i] = odds_lr(bce_model, m, s)\n",
    "\n",
    "        mse_model = create_model(**mse_params)\n",
    "        mse_model.load_weights(mse_filestr.format(N, i))\n",
    "        mse_lrs[i] = pow_odds_lr(mse_model, p, m, s)\n",
    "\n",
    "        mlc_model = create_model(**mlc_params)\n",
    "        mlc_model.load_weights(mlc_filestr.format(N, i))\n",
    "        mlc_lrs[i] = exp_lr(mlc_model, m, s)\n",
    "\n",
    "        sqr_model = create_model(**sqr_params)\n",
    "        sqr_model.load_weights(sqr_filestr.format(N, i))\n",
    "        sqr_lrs[i] = pow_exp_lr(sqr_model, r, m, s)\n",
    "    \n",
    "    bce_maes = [mae(lr) for lr in bce_lrs]\n",
    "    mse_maes = [mae(lr) for lr in mse_lrs]\n",
    "    mlc_maes = [mae(lr) for lr in mlc_lrs]\n",
    "    sqr_maes = [mae(lr) for lr in sqr_lrs]\n",
    "    \n",
    "    bce_avg += [np.mean(bce_maes)]\n",
    "    mse_avg += [np.mean(mse_maes)]\n",
    "    mlc_avg += [np.mean(mlc_maes)]\n",
    "    sqr_avg += [np.mean(sqr_maes)]\n",
    "\n",
    "bce_avg = np.array(bce_avg)\n",
    "mse_avg = np.array(mse_avg)\n",
    "mlc_avg = np.array(mlc_avg)\n",
    "sqr_avg = np.array(sqr_avg)"
   ]
  },
  {
   "cell_type": "raw",
   "id": "0db1bee9-bb44-407f-9fcb-a775fa75b5a1",
   "metadata": {},
   "source": [
    "np.save(filestr + 'bce_avg', bce_avg)\n",
    "np.save(filestr + 'mse_avg', mse_avg)\n",
    "np.save(filestr + 'mlc_avg', mlc_avg)\n",
    "np.save(filestr + 'sqr_avg', sqr_avg)"
   ]
  },
  {
   "cell_type": "markdown",
   "id": "f011f346-6418-4edb-81b2-cc0964df06a3",
   "metadata": {
    "tags": []
   },
   "source": [
    "#### Plot"
   ]
  },
  {
   "cell_type": "code",
   "execution_count": 200,
   "id": "95c51fde-424e-42b4-9249-b8473582c005",
   "metadata": {},
   "outputs": [],
   "source": [
    "bce_avg = np.load(filestr + 'bce_avg.npy')\n",
    "mse_avg = np.load(filestr + 'mse_avg.npy')\n",
    "mlc_avg = np.load(filestr + 'mlc_avg.npy')\n",
    "sqr_avg = np.load(filestr + 'sqr_avg.npy')"
   ]
  },
  {
   "cell_type": "code",
   "execution_count": 202,
   "id": "765fc532-414b-4c75-b3f0-fb9001fdfe21",
   "metadata": {},
   "outputs": [
    {
     "data": {
      "text/plain": [
       "(0.007868263624885883,\n",
       " 0.004628850451375467,\n",
       " 0.0076877001453803965,\n",
       " 0.0034072938274046925)"
      ]
     },
     "execution_count": 202,
     "metadata": {},
     "output_type": "execute_result"
    }
   ],
   "source": [
    "bce_avg[4], mse_avg[4], mlc_avg[4], sqr_avg[4]"
   ]
  },
  {
   "cell_type": "code",
   "execution_count": null,
   "id": "d87a8999-1e94-4f78-9ed5-c3725fe2401c",
   "metadata": {},
   "outputs": [],
   "source": [
    "mae_plot([bce_avg, mse_avg, mlc_avg, sqr_avg],\n",
    "         ['BCE', 'MSE', 'MLC', 'SQR'],\n",
    "         Ns,\n",
    "         figsize = (w, h),\n",
    "         title = r'\\it Optimized Implementation',\n",
    "         filename = 'plots/paper/normal/best_sizes_3.png')"
   ]
  },
  {
   "cell_type": "markdown",
   "id": "d2546765-580b-4dc6-8692-413ece6227d3",
   "metadata": {
    "jp-MarkdownHeadingCollapsed": true,
    "tags": []
   },
   "source": [
    "# Shifting Normals"
   ]
  },
  {
   "cell_type": "markdown",
   "id": "b423e62f-d132-49db-b478-95574fc206f6",
   "metadata": {},
   "source": [
    "## $A/B$ Parametrization"
   ]
  },
  {
   "cell_type": "markdown",
   "id": "e8cbac42-d53e-4338-b5a8-5151ba802429",
   "metadata": {
    "jp-MarkdownHeadingCollapsed": true,
    "tags": []
   },
   "source": [
    "### $0.2$"
   ]
  },
  {
   "cell_type": "markdown",
   "id": "3b5f10d1-b032-456a-979b-126eb2bf287e",
   "metadata": {
    "jp-MarkdownHeadingCollapsed": true,
    "tags": []
   },
   "source": [
    "#### MSE $A/B$ Parametrization"
   ]
  },
  {
   "cell_type": "code",
   "execution_count": null,
   "id": "675e7eba-0586-4385-af67-d5acef03d989",
   "metadata": {},
   "outputs": [],
   "source": [
    "# Experiment parameters\n",
    "num = 1\n",
    "reps = 20\n",
    "\n",
    "# File parameters\n",
    "filestr = 'models/univariate/ab_mse/set_{}/'.format(num)\n",
    "mse_filestr = filestr + 'model_{}_{}.h5'\n",
    "\n",
    "# Data parameters\n",
    "N = 10**6\n",
    "X = np.load('data/normal/0.2/X_trn.npy')[:N]\n",
    "y = np.load('data/normal/0.2/y_trn.npy')[:N]\n",
    "data, m, s = split_data(X, y)\n",
    "\n",
    "ps = np.round(np.linspace(-2, 2, 101), 2)\n",
    "\n",
    "# True distribution information\n",
    "bkgd = stats.norm(-0.2, 1)\n",
    "sgnl = stats.norm(+0.2, 1)\n",
    "\n",
    "lr = make_lr(bkgd, sgnl)\n",
    "mae = make_mae(bkgd, sgnl, 'data/normal/0.2/')"
   ]
  },
  {
   "cell_type": "markdown",
   "id": "ba8c7ea4-45f8-4bfe-b65f-348c6320fa60",
   "metadata": {
    "jp-MarkdownHeadingCollapsed": true,
    "tags": []
   },
   "source": [
    "##### Process"
   ]
  },
  {
   "cell_type": "raw",
   "id": "121064ff-641f-40ae-a6d5-51dd1a402424",
   "metadata": {},
   "source": [
    "# Get model likelihood ratios.\n",
    "avgs = []\n",
    "for p in ps:\n",
    "    print(p, end = '\\t')\n",
    "    lrs = [None] * reps\n",
    "    params = {'loss':get_mse(p)}\n",
    "    for i in range(reps):\n",
    "        model = create_model(**params)\n",
    "        model.load_weights(mse_filestr.format(p, i))\n",
    "        lrs[i] = pow_odds_lr(model, p, m, s)\n",
    "    \n",
    "    maes = [mae(lr) for lr in lrs]\n",
    "    avgs += [np.mean(maes)]\n",
    "\n",
    "avgs = np.array(avgs)"
   ]
  },
  {
   "cell_type": "raw",
   "id": "e8b0ac13-c7da-41d2-945c-a9ec57794c45",
   "metadata": {},
   "source": [
    "# Save results\n",
    "np.save(filestr + 'avgs', avgs)"
   ]
  },
  {
   "cell_type": "markdown",
   "id": "777022d3-da9a-45a7-9690-4bf63ef38913",
   "metadata": {},
   "source": [
    "##### MAEs"
   ]
  },
  {
   "cell_type": "code",
   "execution_count": null,
   "id": "68424bdc-6ac0-43fe-8748-0b8e657a247d",
   "metadata": {},
   "outputs": [],
   "source": [
    "avgs = np.load(filestr + 'avgs.npy')\n",
    "ps[avgs == min(avgs)]"
   ]
  },
  {
   "cell_type": "code",
   "execution_count": null,
   "id": "d383fd73-0aa8-4ad9-904c-c5b507e5d21f",
   "metadata": {},
   "outputs": [],
   "source": [
    "plt.figure(figsize = (w, h))\n",
    "\n",
    "plt.plot(ps, avgs, c='blue', lw = 0.75)\n",
    "\n",
    "plt.minorticks_on()\n",
    "plt.tick_params(which = 'minor', length = 3)\n",
    "plt.tick_params(which = 'major', length = 5)\n",
    "plt.tick_params(which = 'both', direction='in')\n",
    "plt.ylabel('Mean Absolute Error')\n",
    "plt.xlabel(r'$p$')\n",
    "#plt.ylim(0, 0.16)\n",
    "\n",
    "plt.title(r\"\\it $A/B$ Parametrization\",loc=\"right\");\n",
    "plt.savefig('plots/paper/ab_mse_0.2.png', \n",
    "            dpi=300, \n",
    "            bbox_inches='tight')"
   ]
  },
  {
   "cell_type": "markdown",
   "id": "d02229e2-a34a-4c45-9d5d-8cd48b030c2a",
   "metadata": {
    "tags": []
   },
   "source": [
    "#### SQR $A/B$ Parametrization"
   ]
  },
  {
   "cell_type": "code",
   "execution_count": null,
   "id": "5e3e23f6-b50f-4e20-9c8b-782a9f197757",
   "metadata": {},
   "outputs": [],
   "source": [
    "# Experiment parameters\n",
    "num = 1\n",
    "reps = 20\n",
    "\n",
    "# File parameters\n",
    "filestr = 'models/univariate/ab_sqr/set_{}/'.format(num)\n",
    "lin_filestr = filestr + 'relu/model_{}_{}.h5'\n",
    "exp_filestr = filestr + 'exponential/model_{}_{}.h5'\n",
    "\n",
    "# Data parameters\n",
    "N = 10**6\n",
    "X = np.load('data/normal/0.2/X_trn.npy')[:N]\n",
    "y = np.load('data/normal/0.2/y_trn.npy')[:N]\n",
    "data, m, s = split_data(X, y)\n",
    "\n",
    "rs = np.sort(np.append(np.round(np.linspace(-2, 2, 81), 2),\n",
    "                       np.round(np.linspace(-0.05, 0.05, 26), 3)[1:-1]))\n",
    "\n",
    "# True distribution information\n",
    "bkgd = stats.norm(-0.2, 1)\n",
    "sgnl = stats.norm(+0.2, 1)\n",
    "\n",
    "lr = make_lr(bkgd, sgnl)\n",
    "mae = make_mae(bkgd, sgnl, 'data/normal/0.2/')"
   ]
  },
  {
   "cell_type": "markdown",
   "id": "41eeb980-57a8-427e-af25-31ec1f3267cc",
   "metadata": {
    "jp-MarkdownHeadingCollapsed": true,
    "tags": []
   },
   "source": [
    "##### Process"
   ]
  },
  {
   "cell_type": "raw",
   "id": "a49d8565-9bbb-43d9-8bcd-1fbb9038faea",
   "metadata": {},
   "source": [
    "lin_avgs = []\n",
    "exp_avgs = []\n",
    "\n",
    "for r in rs:\n",
    "    print(r, end = '\\t')\n",
    "    lin_lrs = [None] * reps\n",
    "    exp_lrs = [None] * reps\n",
    "    lin_params = {'loss': get_sqr(r), 'output':'relu'}\n",
    "    exp_params = {'loss': get_exp_sqr(r), 'output':'linear'}\n",
    "    \n",
    "    for i in range(reps):\n",
    "        lin_model = create_model(**lin_params)\n",
    "        exp_model = create_model(**exp_params)\n",
    "        \n",
    "        lin_model.load_weights(lin_filestr.format(r, i))\n",
    "        exp_model.load_weights(exp_filestr.format(r, i))\n",
    "        \n",
    "        lin_lrs[i] = pow_lr(lin_model, r, m, s)\n",
    "        exp_lrs[i] = pow_exp_lr(exp_model, r, m, s)\n",
    "    \n",
    "    lin_maes = [mae(lr) for lr in lin_lrs]\n",
    "    exp_maes = [mae(lr) for lr in exp_lrs]\n",
    "    \n",
    "    lin_avgs += [np.mean(lin_maes)]\n",
    "    exp_avgs += [np.mean(exp_maes)]"
   ]
  },
  {
   "cell_type": "raw",
   "id": "04b84981-eb59-416f-81db-7473a9dd9deb",
   "metadata": {},
   "source": [
    "# Save results\n",
    "lin_avgs = np.array(lin_avgs)\n",
    "exp_avgs = np.array(exp_avgs)\n",
    "\n",
    "np.save(filestr + 'lin_avgs', lin_avgs)\n",
    "np.save(filestr + 'exp_avgs', exp_avgs)"
   ]
  },
  {
   "cell_type": "markdown",
   "id": "360d7fcf-3bfb-473f-ad96-5d85cec32c0b",
   "metadata": {
    "tags": []
   },
   "source": [
    "##### MAEs"
   ]
  },
  {
   "cell_type": "code",
   "execution_count": null,
   "id": "dcbee336-6654-47d2-9d5e-762fe8d1a29a",
   "metadata": {},
   "outputs": [],
   "source": [
    "lin_avgs = np.load(filestr + 'lin_avgs.npy')\n",
    "exp_avgs = np.load(filestr + 'exp_avgs.npy')\n",
    "\n",
    "rs[lin_avgs == min(lin_avgs)], rs[exp_avgs == min(exp_avgs)]"
   ]
  },
  {
   "cell_type": "code",
   "execution_count": null,
   "id": "61361625-2704-4951-97f1-71f19c433431",
   "metadata": {},
   "outputs": [],
   "source": [
    "plt.figure(figsize = (w, h))\n",
    "\n",
    "plt.plot(rs, lin_avgs, label=r'$\\text{ReLU}(z)$', c='blue', lw = 0.75)\n",
    "plt.plot(rs, exp_avgs, label=r'$\\exp{z}$', c='red', lw = 0.75)\n",
    "plt.legend()\n",
    "\n",
    "plt.minorticks_on()\n",
    "plt.tick_params(which = 'minor', length = 3)\n",
    "plt.tick_params(which = 'major', length = 5)\n",
    "plt.tick_params(which = 'both', direction='in')\n",
    "plt.ylabel('Mean Absolute Error')\n",
    "plt.xlabel(r'$r$')\n",
    "#plt.ylim(0, 0.16)\n",
    "\n",
    "plt.title(r\"\\it $A/B$ Parametrization\",loc=\"right\");\n",
    "plt.savefig('plots/paper/ab_sqr_0.2.png', \n",
    "            dpi=300, \n",
    "            bbox_inches='tight')"
   ]
  },
  {
   "cell_type": "markdown",
   "id": "60ae77e8-3067-444d-a0b2-97df9ceba995",
   "metadata": {
    "jp-MarkdownHeadingCollapsed": true,
    "tags": []
   },
   "source": [
    "### $0.3$"
   ]
  },
  {
   "cell_type": "markdown",
   "id": "26932bcb-230a-40b7-bec1-e6010722c19d",
   "metadata": {
    "tags": []
   },
   "source": [
    "#### MSE $A/B$ Parametrization"
   ]
  },
  {
   "cell_type": "code",
   "execution_count": null,
   "id": "aa9c0b3f-6d5d-43e8-94f7-82ad11139dbb",
   "metadata": {},
   "outputs": [],
   "source": [
    "# Experiment parameters\n",
    "num = 2\n",
    "reps = 20\n",
    "\n",
    "# File parameters\n",
    "filestr = 'models/univariate/ab_mse/set_{}/'.format(num)\n",
    "mse_filestr = filestr + 'model_{}_{}.h5'\n",
    "\n",
    "# Data parameters\n",
    "N = 10**6\n",
    "X = np.load('data/normal/0.3/X_trn.npy')[:N]\n",
    "y = np.load('data/normal/0.3/y_trn.npy')[:N]\n",
    "data, m, s = split_data(X, y)\n",
    "\n",
    "ps = np.round(np.linspace(-2, 2, 101), 2)\n",
    "\n",
    "# True distribution information\n",
    "bkgd = stats.norm(-0.3, 1)\n",
    "sgnl = stats.norm(+0.3, 1)\n",
    "\n",
    "lr = make_lr(bkgd, sgnl)\n",
    "mae = make_mae(bkgd, sgnl, 'data/normal/0.3/')"
   ]
  },
  {
   "cell_type": "markdown",
   "id": "8a8c8d36-749a-4d93-8aa4-aa79691acd8f",
   "metadata": {
    "jp-MarkdownHeadingCollapsed": true,
    "tags": []
   },
   "source": [
    "##### Process"
   ]
  },
  {
   "cell_type": "raw",
   "id": "da3e3764-2557-4c29-8a85-8de7d33f3fc9",
   "metadata": {},
   "source": [
    "# Get model likelihood ratios.\n",
    "avgs = []\n",
    "for p in ps:\n",
    "    print(p, end = '\\t')\n",
    "    lrs = [None] * reps\n",
    "    params = {'loss':get_mse(p)}\n",
    "    for i in range(reps):\n",
    "        model = create_model(**params)\n",
    "        model.load_weights(mse_filestr.format(p, i))\n",
    "        lrs[i] = pow_odds_lr(model, p, m, s)\n",
    "    \n",
    "    maes = [mae(lr) for lr in lrs]\n",
    "    avgs += [np.mean(maes)]\n",
    "\n",
    "avgs = np.array(avgs)"
   ]
  },
  {
   "cell_type": "raw",
   "id": "18c5be87-0d2a-495d-b340-240b2b738717",
   "metadata": {},
   "source": [
    "# Save results\n",
    "np.save(filestr + 'avgs', avgs)"
   ]
  },
  {
   "cell_type": "markdown",
   "id": "049b1542-bdb4-4daf-b376-4bad51c04d47",
   "metadata": {},
   "source": [
    "##### MAEs"
   ]
  },
  {
   "cell_type": "code",
   "execution_count": null,
   "id": "68281ba7-9185-463c-b1ed-8e7a6fbdbcf1",
   "metadata": {},
   "outputs": [],
   "source": [
    "avgs = np.load(filestr + 'avgs.npy')\n",
    "ps[avgs == min(avgs)]"
   ]
  },
  {
   "cell_type": "code",
   "execution_count": null,
   "id": "71ee2792-a22c-408b-a186-aaba3a74d6c7",
   "metadata": {},
   "outputs": [],
   "source": [
    "plt.figure(figsize = (w, h))\n",
    "\n",
    "plt.plot(ps, avgs, c='blue', lw = 0.75)\n",
    "\n",
    "plt.minorticks_on()\n",
    "plt.tick_params(which = 'minor', length = 3)\n",
    "plt.tick_params(which = 'major', length = 5)\n",
    "plt.tick_params(which = 'both', direction='in')\n",
    "plt.ylabel('Mean Absolute Error')\n",
    "plt.xlabel(r'$p$')\n",
    "#plt.ylim(0, 0.16)\n",
    "\n",
    "plt.title(r\"\\it $A/B$ Parametrization\",loc=\"right\");\n",
    "plt.savefig('plots/paper/ab_mse_0.3.png', \n",
    "            dpi=300, \n",
    "            bbox_inches='tight')"
   ]
  },
  {
   "cell_type": "markdown",
   "id": "293d91ed-06ad-40ab-a0fd-12053e9ab4f3",
   "metadata": {
    "tags": []
   },
   "source": [
    "#### SQR $A/B$ Parametrization"
   ]
  },
  {
   "cell_type": "code",
   "execution_count": null,
   "id": "f1088bf9-988c-4cd3-86f9-f4e8e9d3d024",
   "metadata": {},
   "outputs": [],
   "source": [
    "# Experiment parameters\n",
    "num = 2\n",
    "reps = 20\n",
    "\n",
    "# File parameters\n",
    "filestr = 'models/univariate/ab_sqr/set_{}/'.format(num)\n",
    "lin_filestr = filestr + 'relu/model_{}_{}.h5'\n",
    "exp_filestr = filestr + 'exponential/model_{}_{}.h5'\n",
    "\n",
    "# Data parameters\n",
    "N = 10**6\n",
    "X = np.load('data/normal/0.3/X_trn.npy')[:N]\n",
    "y = np.load('data/normal/0.3/y_trn.npy')[:N]\n",
    "data, m, s = split_data(X, y)\n",
    "\n",
    "rs = np.sort(np.append(np.round(np.linspace(-2, 2, 81), 2),\n",
    "                       np.round(np.linspace(-0.05, 0.05, 26), 3)[1:-1]))\n",
    "\n",
    "# True distribution information\n",
    "bkgd = stats.norm(-0.3, 1)\n",
    "sgnl = stats.norm(+0.3, 1)\n",
    "\n",
    "lr = make_lr(bkgd, sgnl)\n",
    "mae = make_mae(bkgd, sgnl, 'data/normal/0.3/')"
   ]
  },
  {
   "cell_type": "markdown",
   "id": "f67f5cc5-598c-47ab-9e8c-0c6f19d0ea3c",
   "metadata": {
    "jp-MarkdownHeadingCollapsed": true,
    "tags": []
   },
   "source": [
    "##### Process"
   ]
  },
  {
   "cell_type": "raw",
   "id": "f8d1f06a-b4a8-42b9-86a0-4001c80f7165",
   "metadata": {},
   "source": [
    "lin_avgs = []\n",
    "exp_avgs = []\n",
    "\n",
    "for r in rs:\n",
    "    print(r, end = '\\t')\n",
    "    lin_lrs = [None] * reps\n",
    "    exp_lrs = [None] * reps\n",
    "    lin_params = {'loss': get_sqr(r), 'output':'relu'}\n",
    "    exp_params = {'loss': get_exp_sqr(r), 'output':'linear'}\n",
    "    \n",
    "    for i in range(reps):\n",
    "        lin_model = create_model(**lin_params)\n",
    "        exp_model = create_model(**exp_params)\n",
    "        \n",
    "        lin_model.load_weights(lin_filestr.format(r, i))\n",
    "        exp_model.load_weights(exp_filestr.format(r, i))\n",
    "        \n",
    "        lin_lrs[i] = pow_lr(lin_model, r, m, s)\n",
    "        exp_lrs[i] = pow_exp_lr(exp_model, r, m, s)\n",
    "    \n",
    "    lin_maes = [mae(lr) for lr in lin_lrs]\n",
    "    exp_maes = [mae(lr) for lr in exp_lrs]\n",
    "    \n",
    "    lin_avgs += [np.mean(lin_maes)]\n",
    "    exp_avgs += [np.mean(exp_maes)]"
   ]
  },
  {
   "cell_type": "raw",
   "id": "ebfaf38c-9baa-48e8-b761-517f21830495",
   "metadata": {},
   "source": [
    "# Save results\n",
    "lin_avgs = np.array(lin_avgs)\n",
    "exp_avgs = np.array(exp_avgs)\n",
    "\n",
    "np.save(filestr + 'lin_avgs', lin_avgs)\n",
    "np.save(filestr + 'exp_avgs', exp_avgs)"
   ]
  },
  {
   "cell_type": "markdown",
   "id": "e10b10f1-1744-43f3-b574-a5c61435002d",
   "metadata": {
    "tags": []
   },
   "source": [
    "##### MAEs"
   ]
  },
  {
   "cell_type": "code",
   "execution_count": null,
   "id": "46f88bee-fda2-4530-965e-eb5160df21c5",
   "metadata": {},
   "outputs": [],
   "source": [
    "lin_avgs = np.load(filestr + 'lin_avgs.npy')\n",
    "exp_avgs = np.load(filestr + 'exp_avgs.npy')\n",
    "\n",
    "rs[lin_avgs == min(lin_avgs)], rs[exp_avgs == min(exp_avgs)]"
   ]
  },
  {
   "cell_type": "code",
   "execution_count": null,
   "id": "782d9d5e-117f-4053-893e-8edf30945447",
   "metadata": {},
   "outputs": [],
   "source": [
    "plt.figure(figsize = (w, h))\n",
    "\n",
    "plt.plot(rs, lin_avgs, label=r'$\\text{ReLU}(z)$', c='blue', lw = 0.75)\n",
    "plt.plot(rs, exp_avgs, label=r'$\\exp{z}$', c='red', lw = 0.75)\n",
    "plt.legend()\n",
    "\n",
    "plt.minorticks_on()\n",
    "plt.tick_params(which = 'minor', length = 3)\n",
    "plt.tick_params(which = 'major', length = 5)\n",
    "plt.tick_params(which = 'both', direction='in')\n",
    "plt.ylabel('Mean Absolute Error')\n",
    "plt.xlabel(r'$r$')\n",
    "#plt.ylim(0, 0.16)\n",
    "\n",
    "plt.title(r\"\\it $A/B$ Parametrization\",loc=\"right\");\n",
    "plt.savefig('plots/paper/ab_sqr_0.3.png', \n",
    "            dpi=300, \n",
    "            bbox_inches='tight')"
   ]
  },
  {
   "cell_type": "markdown",
   "id": "255acefe-97e8-4f6f-bd82-588ec208b2cc",
   "metadata": {
    "jp-MarkdownHeadingCollapsed": true,
    "tags": []
   },
   "source": [
    "### $0.4$"
   ]
  },
  {
   "cell_type": "markdown",
   "id": "23f92f10-1163-40eb-9daf-2a6e2c194635",
   "metadata": {
    "jp-MarkdownHeadingCollapsed": true,
    "tags": []
   },
   "source": [
    "#### MSE $A/B$ Parametrization"
   ]
  },
  {
   "cell_type": "code",
   "execution_count": null,
   "id": "27b8d327-aee7-45e5-b099-2ede6c56c9a3",
   "metadata": {},
   "outputs": [],
   "source": [
    "# Experiment parameters\n",
    "num = 3\n",
    "reps = 20\n",
    "\n",
    "# File parameters\n",
    "filestr = 'models/univariate/ab_mse/set_{}/'.format(num)\n",
    "mse_filestr = filestr + 'model_{}_{}.h5'\n",
    "\n",
    "# Data parameters\n",
    "N = 10**6\n",
    "X = np.load('data/normal/0.4/X_trn.npy')[:N]\n",
    "y = np.load('data/normal/0.4/y_trn.npy')[:N]\n",
    "data, m, s = split_data(X, y)\n",
    "\n",
    "ps = np.round(np.linspace(-2, 2, 101), 2)\n",
    "\n",
    "# True distribution information\n",
    "bkgd = stats.norm(-0.4, 1)\n",
    "sgnl = stats.norm(+0.4, 1)\n",
    "\n",
    "lr = make_lr(bkgd, sgnl)\n",
    "mae = make_mae(bkgd, sgnl, 'data/normal/0.4/')"
   ]
  },
  {
   "cell_type": "markdown",
   "id": "fe0deefb-c2ee-469d-a24b-87b49f788bd8",
   "metadata": {
    "jp-MarkdownHeadingCollapsed": true,
    "tags": []
   },
   "source": [
    "##### Process"
   ]
  },
  {
   "cell_type": "raw",
   "id": "1d88cde8-be6e-40bc-b9d3-6cef2678e022",
   "metadata": {},
   "source": [
    "# Get model likelihood ratios.\n",
    "avgs = []\n",
    "for p in ps:\n",
    "    print(p, end = '\\t')\n",
    "    lrs = [None] * reps\n",
    "    params = {'loss':get_mse(p)}\n",
    "    for i in range(reps):\n",
    "        model = create_model(**params)\n",
    "        model.load_weights(mse_filestr.format(p, i))\n",
    "        lrs[i] = pow_odds_lr(model, p, m, s)\n",
    "    \n",
    "    maes = [mae(lr) for lr in lrs]\n",
    "    avgs += [np.mean(maes)]\n",
    "\n",
    "avgs = np.array(avgs)"
   ]
  },
  {
   "cell_type": "raw",
   "id": "736f5448-5751-455d-a82c-c081e0894b3c",
   "metadata": {},
   "source": [
    "# Save results\n",
    "np.save(filestr + 'avgs', avgs)"
   ]
  },
  {
   "cell_type": "markdown",
   "id": "db9447fb-bf91-4f62-8f11-bef0bbd45204",
   "metadata": {},
   "source": [
    "##### MAEs"
   ]
  },
  {
   "cell_type": "code",
   "execution_count": null,
   "id": "b3c8ef25-e8ec-45b0-a8b0-42dc6c95ad58",
   "metadata": {},
   "outputs": [],
   "source": [
    "avgs = np.load(filestr + 'avgs.npy')\n",
    "ps[avgs == min(avgs)]"
   ]
  },
  {
   "cell_type": "code",
   "execution_count": null,
   "id": "0e522a2a-1724-48a2-942c-193ef3a6541c",
   "metadata": {},
   "outputs": [],
   "source": [
    "plt.figure(figsize = (w, h))\n",
    "\n",
    "plt.plot(ps, avgs, c='blue', lw = 0.75)\n",
    "\n",
    "plt.minorticks_on()\n",
    "plt.tick_params(which = 'minor', length = 3)\n",
    "plt.tick_params(which = 'major', length = 5)\n",
    "plt.tick_params(which = 'both', direction='in')\n",
    "plt.ylabel('Mean Absolute Error')\n",
    "plt.xlabel(r'$p$')\n",
    "#plt.ylim(0, 0.16)\n",
    "\n",
    "plt.title(r\"\\it $A/B$ Parametrization\",loc=\"right\");\n",
    "plt.savefig('plots/paper/ab_mse_0.4.png', \n",
    "            dpi=300, \n",
    "            bbox_inches='tight')"
   ]
  },
  {
   "cell_type": "markdown",
   "id": "3347160a-6f67-43b6-bc54-aaa87b2814a8",
   "metadata": {
    "tags": []
   },
   "source": [
    "#### SQR $A/B$ Parametrization"
   ]
  },
  {
   "cell_type": "code",
   "execution_count": null,
   "id": "b81e32bd-8ae9-4e9a-9298-0e45591b8728",
   "metadata": {},
   "outputs": [],
   "source": [
    "# Experiment parameters\n",
    "num = 3\n",
    "reps = 20\n",
    "\n",
    "# File parameters\n",
    "filestr = 'models/univariate/ab_sqr/set_{}/'.format(num)\n",
    "lin_filestr = filestr + 'relu/model_{}_{}.h5'\n",
    "exp_filestr = filestr + 'exponential/model_{}_{}.h5'\n",
    "\n",
    "# Data parameters\n",
    "N = 10**6\n",
    "X = np.load('data/normal/0.4/X_trn.npy')[:N]\n",
    "y = np.load('data/normal/0.4/y_trn.npy')[:N]\n",
    "data, m, s = split_data(X, y)\n",
    "\n",
    "rs = np.sort(np.append(np.round(np.linspace(-2, 2, 81), 2),\n",
    "                       np.round(np.linspace(-0.05, 0.05, 26), 3)[1:-1]))\n",
    "\n",
    "# True distribution information\n",
    "bkgd = stats.norm(-0.4, 1)\n",
    "sgnl = stats.norm(+0.4, 1)\n",
    "\n",
    "lr = make_lr(bkgd, sgnl)\n",
    "mae = make_mae(bkgd, sgnl, 'data/normal/0.4/')"
   ]
  },
  {
   "cell_type": "markdown",
   "id": "ff69686f-37a5-47fc-aa3b-c322aacf1458",
   "metadata": {
    "tags": []
   },
   "source": [
    "##### Process"
   ]
  },
  {
   "cell_type": "code",
   "execution_count": null,
   "id": "26a3b86e-77a7-4dfd-a7d4-16be905614fa",
   "metadata": {},
   "outputs": [],
   "source": [
    "lin_avgs = []\n",
    "exp_avgs = []\n",
    "\n",
    "for r in rs:\n",
    "    print(r, end = '\\t')\n",
    "    lin_lrs = [None] * reps\n",
    "    exp_lrs = [None] * reps\n",
    "    lin_params = {'loss': get_sqr(r), 'output':'relu'}\n",
    "    exp_params = {'loss': get_exp_sqr(r), 'output':'linear'}\n",
    "    \n",
    "    for i in range(reps):\n",
    "        lin_model = create_model(**lin_params)\n",
    "        exp_model = create_model(**exp_params)\n",
    "        \n",
    "        lin_model.load_weights(lin_filestr.format(r, i))\n",
    "        exp_model.load_weights(exp_filestr.format(r, i))\n",
    "        \n",
    "        lin_lrs[i] = pow_lr(lin_model, r, m, s)\n",
    "        exp_lrs[i] = pow_exp_lr(exp_model, r, m, s)\n",
    "    \n",
    "    lin_maes = [mae(lr) for lr in lin_lrs]\n",
    "    exp_maes = [mae(lr) for lr in exp_lrs]\n",
    "    \n",
    "    lin_avgs += [np.mean(lin_maes)]\n",
    "    exp_avgs += [np.mean(exp_maes)]"
   ]
  },
  {
   "cell_type": "code",
   "execution_count": null,
   "id": "c02c3016-4239-4742-8642-58fef482793b",
   "metadata": {},
   "outputs": [],
   "source": [
    "# Save results\n",
    "lin_avgs = np.array(lin_avgs)\n",
    "exp_avgs = np.array(exp_avgs)\n",
    "\n",
    "np.save(filestr + 'lin_avgs', lin_avgs)\n",
    "np.save(filestr + 'exp_avgs', exp_avgs)"
   ]
  },
  {
   "cell_type": "markdown",
   "id": "a2b25044-fc0b-4f84-9e27-a24e8f12e746",
   "metadata": {
    "tags": []
   },
   "source": [
    "##### MAEs"
   ]
  },
  {
   "cell_type": "code",
   "execution_count": null,
   "id": "590fa1be-ec25-4e0a-af2e-9a4384d6b905",
   "metadata": {},
   "outputs": [],
   "source": [
    "lin_avgs = np.load(filestr + 'lin_avgs.npy')\n",
    "exp_avgs = np.load(filestr + 'exp_avgs.npy')\n",
    "\n",
    "rs[lin_avgs == min(lin_avgs)], rs[exp_avgs == min(exp_avgs)]"
   ]
  },
  {
   "cell_type": "code",
   "execution_count": null,
   "id": "c52a9c25-d66e-495c-999d-91aacfc5a4ee",
   "metadata": {},
   "outputs": [],
   "source": [
    "plt.figure(figsize = (w, h))\n",
    "\n",
    "plt.plot(rs, lin_avgs, label=r'$\\text{ReLU}(z)$', c='blue', lw = 0.75)\n",
    "plt.plot(rs, exp_avgs, label=r'$\\exp{z}$', c='red', lw = 0.75)\n",
    "plt.legend()\n",
    "\n",
    "plt.minorticks_on()\n",
    "plt.tick_params(which = 'minor', length = 3)\n",
    "plt.tick_params(which = 'major', length = 5)\n",
    "plt.tick_params(which = 'both', direction='in')\n",
    "plt.ylabel('Mean Absolute Error')\n",
    "plt.xlabel(r'$r$')\n",
    "#plt.ylim(0, 0.16)\n",
    "\n",
    "plt.title(r\"\\it $A/B$ Parametrization\",loc=\"right\");\n",
    "plt.savefig('plots/paper/ab_sqr_0.4.png', \n",
    "            dpi=300, \n",
    "            bbox_inches='tight')"
   ]
  },
  {
   "cell_type": "markdown",
   "id": "1b12016a-32d6-4dc4-869f-5fc92e8ea90a",
   "metadata": {
    "tags": []
   },
   "source": [
    "### $0.5$"
   ]
  },
  {
   "cell_type": "markdown",
   "id": "ff15d489-8916-4ac6-985a-b900f30cf6f5",
   "metadata": {
    "tags": []
   },
   "source": [
    "#### MSE $A/B$ Parametrization"
   ]
  },
  {
   "cell_type": "code",
   "execution_count": null,
   "id": "9f88ed45-c365-4585-8eea-f1dfd778238f",
   "metadata": {},
   "outputs": [],
   "source": [
    "# Experiment parameters\n",
    "num = 4\n",
    "reps = 20\n",
    "\n",
    "# File parameters\n",
    "filestr = 'models/univariate/ab_mse/set_{}/'.format(num)\n",
    "mse_filestr = filestr + 'model_{}_{}.h5'\n",
    "\n",
    "# Data parameters\n",
    "N = 10**6\n",
    "X = np.load('data/normal/0.5/X_trn.npy')[:N]\n",
    "y = np.load('data/normal/0.5/y_trn.npy')[:N]\n",
    "data, m, s = split_data(X, y)\n",
    "\n",
    "ps = np.round(np.linspace(-2, 2, 101), 2)\n",
    "\n",
    "# True distribution information\n",
    "bkgd = stats.norm(-0.5, 1)\n",
    "sgnl = stats.norm(+0.5, 1)\n",
    "\n",
    "lr = make_lr(bkgd, sgnl)\n",
    "mae = make_mae(bkgd, sgnl, 'data/normal/0.5/')"
   ]
  },
  {
   "cell_type": "markdown",
   "id": "443b157d-fb0c-4896-b7f8-317407decf49",
   "metadata": {},
   "source": [
    "##### Process"
   ]
  },
  {
   "cell_type": "code",
   "execution_count": null,
   "id": "1b6b94ef-19f0-424f-bd10-d3cf581d2dd1",
   "metadata": {},
   "outputs": [],
   "source": [
    "# Get model likelihood ratios.\n",
    "avgs = []\n",
    "for p in ps:\n",
    "    print(p, end = '\\t')\n",
    "    lrs = [None] * reps\n",
    "    params = {'loss':get_mse(p)}\n",
    "    for i in range(reps):\n",
    "        model = create_model(**params)\n",
    "        model.load_weights(mse_filestr.format(p, i))\n",
    "        lrs[i] = pow_odds_lr(model, p, m, s)\n",
    "    \n",
    "    maes = [mae(lr) for lr in lrs]\n",
    "    avgs += [np.mean(maes)]\n",
    "\n",
    "avgs = np.array(avgs)"
   ]
  },
  {
   "cell_type": "code",
   "execution_count": null,
   "id": "10d449a0-2d73-42aa-9ddf-c0ebd169730d",
   "metadata": {},
   "outputs": [],
   "source": [
    "# Save results\n",
    "np.save(filestr + 'avgs', avgs)"
   ]
  },
  {
   "cell_type": "markdown",
   "id": "b82d9718-21a1-41c8-9071-010eb722a94e",
   "metadata": {},
   "source": [
    "##### MAEs"
   ]
  },
  {
   "cell_type": "code",
   "execution_count": null,
   "id": "fe0ee8fb-7ce5-4ca3-9006-7dfec27e4b30",
   "metadata": {},
   "outputs": [],
   "source": [
    "avgs = np.load(filestr + 'avgs.npy')\n",
    "ps[avgs == min(avgs)]"
   ]
  },
  {
   "cell_type": "code",
   "execution_count": null,
   "id": "2b50c1fb-ee77-4292-846e-dc019df3e609",
   "metadata": {},
   "outputs": [],
   "source": [
    "plt.figure(figsize = (w, h))\n",
    "\n",
    "plt.plot(ps, avgs, c='blue', lw = 0.75)\n",
    "\n",
    "plt.minorticks_on()\n",
    "plt.tick_params(which = 'minor', length = 3)\n",
    "plt.tick_params(which = 'major', length = 5)\n",
    "plt.tick_params(which = 'both', direction='in')\n",
    "plt.ylabel('Mean Absolute Error')\n",
    "plt.xlabel(r'$p$')\n",
    "#plt.ylim(0, 0.16)\n",
    "\n",
    "plt.title(r\"\\it $A/B$ Parametrization\",loc=\"right\");\n",
    "plt.savefig('plots/paper/ab_mse_0.5.png', \n",
    "            dpi=300, \n",
    "            bbox_inches='tight')"
   ]
  },
  {
   "cell_type": "markdown",
   "id": "2dc037d4-39b2-4b96-af43-5b5cd0142fab",
   "metadata": {
    "tags": []
   },
   "source": [
    "#### SQR $A/B$ Parametrization"
   ]
  },
  {
   "cell_type": "code",
   "execution_count": null,
   "id": "6792d44f-7b41-463b-97f7-c44151635cee",
   "metadata": {},
   "outputs": [],
   "source": [
    "# Experiment parameters\n",
    "num = 4\n",
    "reps = 20\n",
    "\n",
    "# File parameters\n",
    "filestr = 'models/univariate/ab_sqr/set_{}/'.format(num)\n",
    "lin_filestr = filestr + 'relu/model_{}_{}.h5'\n",
    "exp_filestr = filestr + 'exponential/model_{}_{}.h5'\n",
    "\n",
    "# Data parameters\n",
    "N = 10**6\n",
    "X = np.load('data/normal/0.5/X_trn.npy')[:N]\n",
    "y = np.load('data/normal/0.5/y_trn.npy')[:N]\n",
    "data, m, s = split_data(X, y)\n",
    "\n",
    "rs = np.sort(np.append(np.round(np.linspace(-2, 2, 81), 2),\n",
    "                       np.round(np.linspace(-0.05, 0.05, 26), 3)[1:-1]))\n",
    "\n",
    "# True distribution information\n",
    "bkgd = stats.norm(-0.5, 1)\n",
    "sgnl = stats.norm(+0.5, 1)\n",
    "\n",
    "lr = make_lr(bkgd, sgnl)\n",
    "mae = make_mae(bkgd, sgnl, 'data/normal/0.5/')"
   ]
  },
  {
   "cell_type": "markdown",
   "id": "0dab384c-8435-4b6c-b5cf-2b8552d73b3a",
   "metadata": {
    "tags": []
   },
   "source": [
    "##### Process"
   ]
  },
  {
   "cell_type": "code",
   "execution_count": null,
   "id": "9588023d-3f74-4501-9db7-c1035d54720e",
   "metadata": {},
   "outputs": [],
   "source": [
    "lin_avgs = []\n",
    "exp_avgs = []\n",
    "\n",
    "for r in rs:\n",
    "    print(r, end = '\\t')\n",
    "    lin_lrs = [None] * reps\n",
    "    exp_lrs = [None] * reps\n",
    "    lin_params = {'loss': get_sqr(r), 'output':'relu'}\n",
    "    exp_params = {'loss': get_exp_sqr(r), 'output':'linear'}\n",
    "    \n",
    "    for i in range(reps):\n",
    "        lin_model = create_model(**lin_params)\n",
    "        exp_model = create_model(**exp_params)\n",
    "        \n",
    "        lin_model.load_weights(lin_filestr.format(r, i))\n",
    "        exp_model.load_weights(exp_filestr.format(r, i))\n",
    "        \n",
    "        lin_lrs[i] = pow_lr(lin_model, r, m, s)\n",
    "        exp_lrs[i] = pow_exp_lr(exp_model, r, m, s)\n",
    "    \n",
    "    lin_maes = [mae(lr) for lr in lin_lrs]\n",
    "    exp_maes = [mae(lr) for lr in exp_lrs]\n",
    "    \n",
    "    lin_avgs += [np.mean(lin_maes)]\n",
    "    exp_avgs += [np.mean(exp_maes)]"
   ]
  },
  {
   "cell_type": "code",
   "execution_count": null,
   "id": "48eb290c-6195-4cf5-b2e6-b955dfefce9c",
   "metadata": {},
   "outputs": [],
   "source": [
    "# Save results\n",
    "lin_avgs = np.array(lin_avgs)\n",
    "exp_avgs = np.array(exp_avgs)\n",
    "\n",
    "np.save(filestr + 'lin_avgs', lin_avgs)\n",
    "np.save(filestr + 'exp_avgs', exp_avgs)"
   ]
  },
  {
   "cell_type": "markdown",
   "id": "0368d9d5-b61b-4610-81e1-4282d6a7c36e",
   "metadata": {
    "tags": []
   },
   "source": [
    "##### MAEs"
   ]
  },
  {
   "cell_type": "code",
   "execution_count": null,
   "id": "0d06009a-31aa-4e10-8204-ef64772de004",
   "metadata": {},
   "outputs": [],
   "source": [
    "lin_avgs = np.load(filestr + 'lin_avgs.npy')\n",
    "exp_avgs = np.load(filestr + 'exp_avgs.npy')\n",
    "\n",
    "rs[lin_avgs == min(lin_avgs)], rs[exp_avgs == min(exp_avgs)]"
   ]
  },
  {
   "cell_type": "code",
   "execution_count": null,
   "id": "0b212b19-3d7f-40a3-aac2-381797448f79",
   "metadata": {},
   "outputs": [],
   "source": [
    "plt.figure(figsize = (w, h))\n",
    "\n",
    "plt.plot(rs, lin_avgs, label=r'$\\text{ReLU}(z)$', c='blue', lw = 0.75)\n",
    "plt.plot(rs, exp_avgs, label=r'$\\exp{z}$', c='red', lw = 0.75)\n",
    "plt.legend()\n",
    "\n",
    "plt.minorticks_on()\n",
    "plt.tick_params(which = 'minor', length = 3)\n",
    "plt.tick_params(which = 'major', length = 5)\n",
    "plt.tick_params(which = 'both', direction='in')\n",
    "plt.ylabel('Mean Absolute Error')\n",
    "plt.xlabel(r'$r$')\n",
    "#plt.ylim(0, 0.16)\n",
    "\n",
    "plt.title(r\"\\it $A/B$ Parametrization\",loc=\"right\");\n",
    "plt.savefig('plots/paper/ab_sqr_0.5.png', \n",
    "            dpi=300, \n",
    "            bbox_inches='tight')"
   ]
  },
  {
   "cell_type": "markdown",
   "id": "e5694285-f2e3-431b-841b-4d77f1dc289a",
   "metadata": {
    "jp-MarkdownHeadingCollapsed": true,
    "tags": []
   },
   "source": [
    "# Beta"
   ]
  },
  {
   "cell_type": "markdown",
   "id": "ed992b9c-1c99-45a1-9da7-304e69aed441",
   "metadata": {
    "jp-MarkdownHeadingCollapsed": true,
    "tags": []
   },
   "source": [
    "## $C$ Parametrizations"
   ]
  },
  {
   "cell_type": "markdown",
   "id": "ffb6cb73-6b93-4f3d-8a9b-69bb5b87ab98",
   "metadata": {
    "jp-MarkdownHeadingCollapsed": true,
    "tags": []
   },
   "source": [
    "### BCE $C$ Parametrization"
   ]
  },
  {
   "cell_type": "code",
   "execution_count": null,
   "id": "740794e3-9d77-44ef-b44a-8fbcf7443925",
   "metadata": {},
   "outputs": [],
   "source": [
    "# Experiment parameters\n",
    "num = 0\n",
    "reps = 100\n",
    "\n",
    "# Model parameters\n",
    "params_1 = {'loss':bce}\n",
    "params_2 = {'loss':tanh_bce, 'output': 'linear'}\n",
    "params_3 = {'loss':arctan_bce, 'output': 'linear'}\n",
    "\n",
    "filestr = 'models/univariate/beta/c_bce/set_{}/'.format(num)\n",
    "filestr_1 = filestr + 'sigmoid/model_{}.h5'\n",
    "filestr_2 = filestr + 'tanh/model_{}.h5'\n",
    "filestr_3 = filestr + 'arctan/model_{}.h5'\n",
    "\n",
    "# Data parameters\n",
    "N = 10**6\n",
    "X = np.load('data/beta/X_trn.npy')[:N]\n",
    "y = np.load('data/beta/y_trn.npy')[:N]\n",
    "data, m, s = split_data(X, y)\n",
    "\n",
    "# True distribution information\n",
    "bkgd = stats.beta(2, 3)\n",
    "sgnl = stats.beta(3, 2)\n",
    "\n",
    "lr = make_lr(bkgd, sgnl)\n",
    "mae = make_mae(bkgd, sgnl, 'data/beta/')"
   ]
  },
  {
   "cell_type": "markdown",
   "id": "1acd846f-041e-4d1e-9469-eee2253628de",
   "metadata": {
    "tags": []
   },
   "source": [
    "#### Process"
   ]
  },
  {
   "cell_type": "raw",
   "id": "e4d272c4-0519-4afe-8def-2007bd157f40",
   "metadata": {},
   "source": [
    "lrs_1 = [None] * reps\n",
    "lrs_2 = [None] * reps\n",
    "lrs_3 = [None] * reps\n",
    "\n",
    "for i in range(reps):\n",
    "    model_1 = create_model(**params_1)\n",
    "    model_2 = create_model(**params_2)\n",
    "    model_3 = create_model(**params_3)\n",
    "    \n",
    "    model_1.load_weights(filestr_1.format(i))\n",
    "    model_2.load_weights(filestr_2.format(i))\n",
    "    model_3.load_weights(filestr_3.format(i))\n",
    "    \n",
    "    lrs_1[i] = odds_lr(model_1, m, s)\n",
    "    lrs_2[i] = tanh_lr(model_2, m, s)\n",
    "    lrs_3[i] = arctan_lr(model_3, m, s)"
   ]
  },
  {
   "cell_type": "raw",
   "id": "c50deec3-d2fd-404a-9696-48c8b61054a3",
   "metadata": {},
   "source": [
    "# Calculate predictions\n",
    "xs = np.linspace(0, 1, 1201)\n",
    "preds_1 = get_preds(lrs_1, xs)\n",
    "preds_2 = get_preds(lrs_2, xs)\n",
    "preds_3 = get_preds(lrs_3, xs)"
   ]
  },
  {
   "cell_type": "raw",
   "id": "25d52064-6522-4af9-bc21-b627285df36c",
   "metadata": {},
   "source": [
    "# Calculate mean absolute errors\n",
    "maes_1 = [mae(lr) for lr in lrs_1]\n",
    "maes_2 = [mae(lr) for lr in lrs_2]\n",
    "maes_3 = [mae(lr) for lr in lrs_3]\n",
    "\n",
    "avg_1 = np.mean(maes_1)\n",
    "avg_2 = np.mean(maes_2)\n",
    "avg_3 = np.mean(maes_3)"
   ]
  },
  {
   "cell_type": "raw",
   "id": "d7750586-f149-4afe-b89e-02959938b491",
   "metadata": {},
   "source": [
    "# Save results\n",
    "np.save(filestr + 'avg_1.npy', avg_1)\n",
    "np.save(filestr + 'avg_2.npy', avg_2)\n",
    "np.save(filestr + 'avg_3.npy', avg_3)\n",
    "\n",
    "np.save(filestr + 'xs.npy', xs)\n",
    "np.save(filestr + 'preds_1.npy', preds_1)\n",
    "np.save(filestr + 'preds_2.npy', preds_2)\n",
    "np.save(filestr + 'preds_3.npy', preds_3)"
   ]
  },
  {
   "cell_type": "markdown",
   "id": "3638e6c0-b822-4616-84dc-61dd4cb7c5f9",
   "metadata": {
    "jp-MarkdownHeadingCollapsed": true,
    "tags": []
   },
   "source": [
    "#### Likelihood Ratios"
   ]
  },
  {
   "cell_type": "code",
   "execution_count": null,
   "id": "1d0a681d-1a63-4d54-a179-1b1c478c4626",
   "metadata": {},
   "outputs": [],
   "source": [
    "xs = np.load(filestr + 'xs.npy')\n",
    "preds_1 = np.load(filestr + 'preds_1.npy')\n",
    "preds_2 = np.load(filestr + 'preds_2.npy')\n",
    "preds_3 = np.load(filestr + 'preds_3.npy')"
   ]
  },
  {
   "cell_type": "code",
   "execution_count": null,
   "id": "cb228751-a8ee-4382-8472-b7d3875b65fa",
   "metadata": {},
   "outputs": [],
   "source": [
    "ratio_plot([preds_1, preds_2, preds_3],\n",
    "           [r'$\\sigma(z)$', r'$\\frac{1}{2}\\left(\\tanh{z} + 1\\right)$', r'$\\frac{1}{\\pi}\\left(\\arctan{z} + \\frac{\\pi}{2}\\right)$'],\n",
    "           lr,\n",
    "           bkgd, sgnl,\n",
    "           xs,\n",
    "           y_lim = (0, 10),\n",
    "           figsize = (8, 8),\n",
    "           title = r'\\it $C$ Parametrization')"
   ]
  },
  {
   "cell_type": "markdown",
   "id": "d7a5c152-59fa-4869-acb5-c8c5b46dd64c",
   "metadata": {
    "tags": []
   },
   "source": [
    "#### MAEs"
   ]
  },
  {
   "cell_type": "code",
   "execution_count": null,
   "id": "7c545f41-6017-4eaf-b647-7d734092c602",
   "metadata": {},
   "outputs": [],
   "source": [
    "avg_1 = np.load(filestr + 'avg_1.npy')\n",
    "avg_2 = np.load(filestr + 'avg_2.npy')\n",
    "avg_3 = np.load(filestr + 'avg_3.npy')\n",
    "\n",
    "print(avg_1, avg_2, avg_3)"
   ]
  },
  {
   "cell_type": "markdown",
   "id": "d2b63e92-d6db-48b7-b4cd-b22ff3f72b21",
   "metadata": {
    "jp-MarkdownHeadingCollapsed": true,
    "tags": []
   },
   "source": [
    "### MSE $C$ Parametrization"
   ]
  },
  {
   "cell_type": "code",
   "execution_count": null,
   "id": "4801e40e-842e-4f94-ac30-2c3b1a5cf24b",
   "metadata": {},
   "outputs": [],
   "source": [
    "# Experiment parameters\n",
    "num = 0\n",
    "reps = 100\n",
    "\n",
    "# Model parameters\n",
    "params_1 = {'loss':mse}\n",
    "params_2 = {'loss':tanh_mse, 'output': 'linear'}\n",
    "params_3 = {'loss':arctan_mse, 'output': 'linear'}\n",
    "\n",
    "filestr = 'models/univariate/beta/c_mse/set_{}/'.format(num)\n",
    "filestr_1 = filestr + 'sigmoid/model_{}.h5'\n",
    "filestr_2 = filestr + 'tanh/model_{}.h5'\n",
    "filestr_3 = filestr + 'arctan/model_{}.h5'\n",
    "\n",
    "# Data parameters\n",
    "N = 10**6\n",
    "X = np.load('data/beta/X_trn.npy')[:N]\n",
    "y = np.load('data/beta/y_trn.npy')[:N]\n",
    "data, m, s = split_data(X, y)\n",
    "\n",
    "# True distribution information\n",
    "bkgd = stats.beta(2, 3)\n",
    "sgnl = stats.beta(3, 2)\n",
    "\n",
    "lr = make_lr(bkgd, sgnl)\n",
    "mae = make_mae(bkgd, sgnl, 'data/beta/')"
   ]
  },
  {
   "cell_type": "markdown",
   "id": "d1b480e6-2b8b-47e6-bbd4-701b2a2898ef",
   "metadata": {
    "tags": []
   },
   "source": [
    "#### Process"
   ]
  },
  {
   "cell_type": "raw",
   "id": "284889fd-bece-4656-a4b1-86124117c257",
   "metadata": {},
   "source": [
    "lrs_1 = [None] * reps\n",
    "lrs_2 = [None] * reps\n",
    "lrs_3 = [None] * reps\n",
    "\n",
    "for i in range(reps):\n",
    "    model_1 = create_model(**params_1)\n",
    "    model_2 = create_model(**params_2)\n",
    "    model_3 = create_model(**params_3)\n",
    "    \n",
    "    model_1.load_weights(filestr_1.format(i))\n",
    "    model_2.load_weights(filestr_2.format(i))\n",
    "    model_3.load_weights(filestr_3.format(i))\n",
    "    \n",
    "    lrs_1[i] = odds_lr(model_1, m, s)\n",
    "    lrs_2[i] = tanh_lr(model_2, m, s)\n",
    "    lrs_3[i] = arctan_lr(model_3, m, s)"
   ]
  },
  {
   "cell_type": "raw",
   "id": "dfc4dc84-8800-416e-83c8-17b3b5f071af",
   "metadata": {},
   "source": [
    "# Calculate predictions\n",
    "xs = np.linspace(0, 1, 1201)\n",
    "preds_1 = get_preds(lrs_1, xs)\n",
    "preds_2 = get_preds(lrs_2, xs)\n",
    "preds_3 = get_preds(lrs_3, xs)"
   ]
  },
  {
   "cell_type": "raw",
   "id": "3078bffb-77c7-483d-afc1-34c987a5ccee",
   "metadata": {},
   "source": [
    "# Calculate mean absolute errors\n",
    "maes_1 = [mae(lr) for lr in lrs_1]\n",
    "maes_2 = [mae(lr) for lr in lrs_2]\n",
    "maes_3 = [mae(lr) for lr in lrs_3]\n",
    "\n",
    "avg_1 = np.mean(maes_1)\n",
    "avg_2 = np.mean(maes_2)\n",
    "avg_3 = np.mean(maes_3)"
   ]
  },
  {
   "cell_type": "raw",
   "id": "acf45614-9199-404c-9cea-ab36d36eb7ac",
   "metadata": {},
   "source": [
    "# Save results\n",
    "np.save(filestr + 'avg_1.npy', avg_1)\n",
    "np.save(filestr + 'avg_2.npy', avg_2)\n",
    "np.save(filestr + 'avg_3.npy', avg_3)\n",
    "\n",
    "np.save(filestr + 'xs.npy', xs)\n",
    "np.save(filestr + 'preds_1.npy', preds_1)\n",
    "np.save(filestr + 'preds_2.npy', preds_2)\n",
    "np.save(filestr + 'preds_3.npy', preds_3)"
   ]
  },
  {
   "cell_type": "markdown",
   "id": "93770786-e38f-4136-b6f4-141524ff682c",
   "metadata": {
    "tags": []
   },
   "source": [
    "#### Likelihood Ratios"
   ]
  },
  {
   "cell_type": "code",
   "execution_count": null,
   "id": "90dc3fd2-3597-4db1-9a31-fd1714c5de16",
   "metadata": {},
   "outputs": [],
   "source": [
    "xs = np.load(filestr + 'xs.npy')\n",
    "preds_1 = np.load(filestr + 'preds_1.npy')\n",
    "preds_2 = np.load(filestr + 'preds_2.npy')\n",
    "preds_3 = np.load(filestr + 'preds_3.npy')"
   ]
  },
  {
   "cell_type": "code",
   "execution_count": null,
   "id": "e4c90a18-6260-4a2c-91a2-c4722e1011c8",
   "metadata": {},
   "outputs": [],
   "source": [
    "ratio_plot([preds_1, preds_2, preds_3],\n",
    "           [r'$\\sigma(z)$', r'$\\frac{1}{2}\\left(\\tanh{z} + 1\\right)$', r'$\\frac{1}{\\pi}\\left(\\arctan{z} + \\frac{\\pi}{2}\\right)$'],\n",
    "           lr,\n",
    "           bkgd, sgnl,\n",
    "           xs,\n",
    "           y_lim = (0, 10),\n",
    "           figsize = (w, h),\n",
    "           title = r'\\it $C$ Parametrization',\n",
    "           filename = 'plots/paper/c_mse_beta.png')"
   ]
  },
  {
   "cell_type": "markdown",
   "id": "133e6828-4348-4f87-b537-ccb5940fa4b9",
   "metadata": {
    "tags": []
   },
   "source": [
    "#### MAEs"
   ]
  },
  {
   "cell_type": "code",
   "execution_count": null,
   "id": "de217ca0-4268-4569-bf72-eddc40bfec33",
   "metadata": {},
   "outputs": [],
   "source": [
    "avg_1 = np.load(filestr + 'avg_1.npy')\n",
    "avg_2 = np.load(filestr + 'avg_2.npy')\n",
    "avg_3 = np.load(filestr + 'avg_3.npy')\n",
    "\n",
    "print(avg_1, avg_2, avg_3)"
   ]
  },
  {
   "cell_type": "markdown",
   "id": "81da18c2-26e0-42bf-b4dd-ec5049b2d089",
   "metadata": {
    "jp-MarkdownHeadingCollapsed": true,
    "tags": []
   },
   "source": [
    "### MLC $C$ Parametrization"
   ]
  },
  {
   "cell_type": "code",
   "execution_count": null,
   "id": "45194c54-b41b-4fb8-82dc-037fbdaca6da",
   "metadata": {},
   "outputs": [],
   "source": [
    "# Experiment parameters\n",
    "num = 0\n",
    "reps = 100\n",
    "\n",
    "# Model parameters\n",
    "params_1 = {'loss':mlc, 'output': 'relu'}\n",
    "params_2 = {'loss':square_mlc, 'output': 'linear'}\n",
    "params_3 = {'loss':exp_mlc, 'output': 'linear'}\n",
    "\n",
    "filestr = 'models/univariate/beta/c_mlc/set_{}/'.format(num)\n",
    "filestr_1 = filestr + 'relu/model_{}.h5'\n",
    "filestr_2 = filestr + 'square/model_{}.h5'\n",
    "filestr_3 = filestr + 'exponential/model_{}.h5'\n",
    "\n",
    "# Data parameters\n",
    "N = 10**6\n",
    "X = np.load('data/beta/X_trn.npy')[:N]\n",
    "y = np.load('data/beta/y_trn.npy')[:N]\n",
    "data, m, s = split_data(X, y)\n",
    "\n",
    "# True distribution information\n",
    "bkgd = stats.beta(2, 3)\n",
    "sgnl = stats.beta(3, 2)\n",
    "\n",
    "lr = make_lr(bkgd, sgnl)\n",
    "mae = make_mae(bkgd, sgnl, 'data/beta/')"
   ]
  },
  {
   "cell_type": "markdown",
   "id": "331a02cc-ef6b-4680-8bac-7eff95d4b9d5",
   "metadata": {
    "tags": []
   },
   "source": [
    "#### Process"
   ]
  },
  {
   "cell_type": "raw",
   "id": "8616cc60-3c61-4fed-9c53-369617b2ba14",
   "metadata": {},
   "source": [
    "lrs_1 = [None] * reps\n",
    "lrs_2 = [None] * reps\n",
    "lrs_3 = [None] * reps\n",
    "\n",
    "for i in range(reps):\n",
    "    model_1 = create_model(**params_1)\n",
    "    model_2 = create_model(**params_2)\n",
    "    model_3 = create_model(**params_3)\n",
    "    \n",
    "    model_1.load_weights(filestr_1.format(i))\n",
    "    model_2.load_weights(filestr_2.format(i))\n",
    "    model_3.load_weights(filestr_3.format(i))\n",
    "    \n",
    "    lrs_1[i] = pure_lr(model_1, m, s)\n",
    "    lrs_2[i] = square_lr(model_2, m, s)\n",
    "    lrs_3[i] = exp_lr(model_3, m, s)"
   ]
  },
  {
   "cell_type": "raw",
   "id": "0cda1787-a5c1-43ca-b363-5786ccfe91d4",
   "metadata": {},
   "source": [
    "# Calculate predictions\n",
    "xs = np.linspace(0, 1, 1201)\n",
    "preds_1 = get_preds(lrs_1, xs)\n",
    "preds_2 = get_preds(lrs_2, xs)\n",
    "preds_3 = get_preds(lrs_3, xs)"
   ]
  },
  {
   "cell_type": "raw",
   "id": "f176f9d9-05f9-48c0-9219-7b0b7cd20ce4",
   "metadata": {},
   "source": [
    "# Calculate mean absolute errors\n",
    "maes_1 = [mae(lr) for lr in lrs_1]\n",
    "maes_2 = [mae(lr) for lr in lrs_2]\n",
    "maes_3 = [mae(lr) for lr in lrs_3]\n",
    "\n",
    "avg_1 = np.mean(maes_1)\n",
    "avg_2 = np.mean(maes_2)\n",
    "avg_3 = np.mean(maes_3)"
   ]
  },
  {
   "cell_type": "raw",
   "id": "abf65af9-2449-4fe6-aabc-a27ac554adc6",
   "metadata": {},
   "source": [
    "# Save results\n",
    "np.save(filestr + 'avg_1.npy', avg_1)\n",
    "np.save(filestr + 'avg_2.npy', avg_2)\n",
    "np.save(filestr + 'avg_3.npy', avg_3)\n",
    "\n",
    "np.save(filestr + 'xs.npy', xs)\n",
    "np.save(filestr + 'preds_1.npy', preds_1)\n",
    "np.save(filestr + 'preds_2.npy', preds_2)\n",
    "np.save(filestr + 'preds_3.npy', preds_3)"
   ]
  },
  {
   "cell_type": "markdown",
   "id": "16ab4fc5-2140-45a3-8459-5205887d1bc2",
   "metadata": {
    "tags": []
   },
   "source": [
    "#### Likelihood Ratio"
   ]
  },
  {
   "cell_type": "code",
   "execution_count": null,
   "id": "b075cec5-969a-4eaf-8d1a-48607daf2b3b",
   "metadata": {},
   "outputs": [],
   "source": [
    "xs = np.load(filestr + 'xs.npy')\n",
    "preds_1 = np.load(filestr + 'preds_1.npy')\n",
    "preds_2 = np.load(filestr + 'preds_2.npy')\n",
    "preds_3 = np.load(filestr + 'preds_3.npy')"
   ]
  },
  {
   "cell_type": "code",
   "execution_count": null,
   "id": "70080f59-5f80-4b0b-a174-34ba2e57e7f3",
   "metadata": {},
   "outputs": [],
   "source": [
    "ratio_plot([preds_1, preds_2, preds_3],\n",
    "           [r'$\\text{ReLU}(z)$', r'$z^2$', r'$\\exp{z}$'],\n",
    "           lr,\n",
    "           bkgd, sgnl,\n",
    "           xs,\n",
    "           y_lim = (0, 10),\n",
    "           figsize = (w, h),\n",
    "           title = r'\\it $C$ Parametrization',\n",
    "           filename = 'plots/paper/c_mlc_beta.png')"
   ]
  },
  {
   "cell_type": "markdown",
   "id": "1ff45f0d-a25a-42d5-98a6-79ea69ecc1fc",
   "metadata": {
    "tags": []
   },
   "source": [
    "#### MAEs"
   ]
  },
  {
   "cell_type": "code",
   "execution_count": null,
   "id": "20d030c9-0358-4b88-8499-53eb194250c2",
   "metadata": {},
   "outputs": [],
   "source": [
    "avg_1 = np.load(filestr + 'avg_1.npy')\n",
    "avg_2 = np.load(filestr + 'avg_2.npy')\n",
    "avg_3 = np.load(filestr + 'avg_3.npy')\n",
    "\n",
    "print(avg_1, avg_2, avg_3)"
   ]
  },
  {
   "cell_type": "markdown",
   "id": "75301193-9e2b-408a-ad0d-2038f4ddc9b6",
   "metadata": {
    "jp-MarkdownHeadingCollapsed": true,
    "tags": []
   },
   "source": [
    "### SQR $C$ Parametrization"
   ]
  },
  {
   "cell_type": "code",
   "execution_count": null,
   "id": "62f27157-14d4-4aa5-a396-28a53d383373",
   "metadata": {},
   "outputs": [],
   "source": [
    "# Experiment parameters\n",
    "num = 0\n",
    "reps = 100\n",
    "\n",
    "# Model parameters\n",
    "params_1 = {'loss':sqr, 'output': 'relu'}\n",
    "params_2 = {'loss':square_sqr, 'output': 'linear'}\n",
    "params_3 = {'loss':exp_sqr, 'output': 'linear'}\n",
    "\n",
    "filestr = 'models/univariate/beta/c_sqr/set_{}/'.format(num)\n",
    "filestr_1 = filestr + 'relu/model_{}.h5'\n",
    "filestr_2 = filestr + 'square/model_{}.h5'\n",
    "filestr_3 = filestr + 'exponential/model_{}.h5'\n",
    "\n",
    "# Data parameters\n",
    "N = 10**6\n",
    "X = np.load('data/beta/X_trn.npy')[:N]\n",
    "y = np.load('data/beta/y_trn.npy')[:N]\n",
    "data, m, s = split_data(X, y)\n",
    "\n",
    "# True distribution information\n",
    "bkgd = stats.beta(2, 3)\n",
    "sgnl = stats.beta(3, 2)\n",
    "\n",
    "lr = make_lr(bkgd, sgnl)\n",
    "mae = make_mae(bkgd, sgnl, 'data/beta/')"
   ]
  },
  {
   "cell_type": "markdown",
   "id": "a43e3a92-f8ee-4c34-9909-06595876c160",
   "metadata": {
    "tags": []
   },
   "source": [
    "#### Process"
   ]
  },
  {
   "cell_type": "raw",
   "id": "62841fdc-e7f7-4dc1-a8e9-d44d296ddf41",
   "metadata": {},
   "source": [
    "lrs_1 = [None] * reps\n",
    "lrs_2 = [None] * reps\n",
    "lrs_3 = [None] * reps\n",
    "\n",
    "for i in range(reps):\n",
    "    model_1 = create_model(**params_1)\n",
    "    model_2 = create_model(**params_2)\n",
    "    model_3 = create_model(**params_3)\n",
    "    \n",
    "    model_1.load_weights(filestr_1.format(i))\n",
    "    model_2.load_weights(filestr_2.format(i))\n",
    "    model_3.load_weights(filestr_3.format(i))\n",
    "    \n",
    "    lrs_1[i] = pure_lr(model_1, m, s)\n",
    "    lrs_2[i] = square_lr(model_2, m, s)\n",
    "    lrs_3[i] = exp_lr(model_3, m, s)"
   ]
  },
  {
   "cell_type": "raw",
   "id": "cfd548a5-6d15-458e-a271-fc4eb5204ebb",
   "metadata": {},
   "source": [
    "# Calculate predictions\n",
    "xs = np.linspace(0, 1, 1201)\n",
    "preds_1 = get_preds(lrs_1, xs)\n",
    "preds_2 = get_preds(lrs_2, xs)\n",
    "preds_3 = get_preds(lrs_3, xs)"
   ]
  },
  {
   "cell_type": "raw",
   "id": "679c1bb1-2cd5-4932-9e9f-dfbc55e614f4",
   "metadata": {},
   "source": [
    "# Calculate mean absolute errors\n",
    "maes_1 = [mae(lr) for lr in lrs_1]\n",
    "maes_2 = [mae(lr) for lr in lrs_2]\n",
    "maes_3 = [mae(lr) for lr in lrs_3]\n",
    "\n",
    "avg_1 = np.mean(maes_1)\n",
    "avg_2 = np.mean(maes_2)\n",
    "avg_3 = np.mean(maes_3)"
   ]
  },
  {
   "cell_type": "raw",
   "id": "bb956f47-7d85-4af2-952e-a84e3baeaf3b",
   "metadata": {},
   "source": [
    "# Save results\n",
    "np.save(filestr + 'avg_1.npy', avg_1)\n",
    "np.save(filestr + 'avg_2.npy', avg_2)\n",
    "np.save(filestr + 'avg_3.npy', avg_3)\n",
    "\n",
    "np.save(filestr + 'xs.npy', xs)\n",
    "np.save(filestr + 'preds_1.npy', preds_1)\n",
    "np.save(filestr + 'preds_2.npy', preds_2)\n",
    "np.save(filestr + 'preds_3.npy', preds_3)"
   ]
  },
  {
   "cell_type": "markdown",
   "id": "244a2b15-270c-4bf2-93ce-a775bdee8d51",
   "metadata": {
    "tags": []
   },
   "source": [
    "#### Likelihood Ratios"
   ]
  },
  {
   "cell_type": "code",
   "execution_count": null,
   "id": "c3b4aae1-0365-4645-93a3-89b98f984295",
   "metadata": {},
   "outputs": [],
   "source": [
    "xs = np.load(filestr + 'xs.npy')\n",
    "preds_1 = np.load(filestr + 'preds_1.npy')\n",
    "preds_2 = np.load(filestr + 'preds_2.npy')\n",
    "preds_3 = np.load(filestr + 'preds_3.npy')"
   ]
  },
  {
   "cell_type": "code",
   "execution_count": null,
   "id": "cba4ddbe-aa3b-433f-8ffe-f51ce573a56d",
   "metadata": {},
   "outputs": [],
   "source": [
    "ratio_plot([preds_1, preds_2, preds_3],\n",
    "           [r'$\\text{ReLU}(z)$', r'$z^2$', r'$\\exp{z}$'],\n",
    "           lr,\n",
    "           bkgd, sgnl,\n",
    "           xs,\n",
    "           y_lim = (0, 10),\n",
    "           figsize = (w, h),\n",
    "           title = r'\\it $C$ Parametrization',\n",
    "           filename = 'plots/paper/c_sqr_beta.png')"
   ]
  },
  {
   "cell_type": "markdown",
   "id": "aa0691b6-a8e6-481b-9381-0af425cbc20e",
   "metadata": {
    "tags": []
   },
   "source": [
    "#### MAEs"
   ]
  },
  {
   "cell_type": "code",
   "execution_count": null,
   "id": "8e53ae1e-f8d5-4ae6-ab41-67d9df343e34",
   "metadata": {},
   "outputs": [],
   "source": [
    "avg_1 = np.load(filestr + 'avg_1.npy')\n",
    "avg_2 = np.load(filestr + 'avg_2.npy')\n",
    "avg_3 = np.load(filestr + 'avg_3.npy')\n",
    "\n",
    "print(avg_1, avg_2, avg_3)"
   ]
  },
  {
   "cell_type": "markdown",
   "id": "fa8d639c-2411-4c3a-84c9-b7ab8056cedd",
   "metadata": {
    "jp-MarkdownHeadingCollapsed": true,
    "tags": []
   },
   "source": [
    "## $A/B$ Parametrization"
   ]
  },
  {
   "cell_type": "markdown",
   "id": "1727db81-46d3-40be-a8fd-e5e5e3533d39",
   "metadata": {
    "jp-MarkdownHeadingCollapsed": true,
    "tags": []
   },
   "source": [
    "### MSE $A/B$ Parametrization"
   ]
  },
  {
   "cell_type": "code",
   "execution_count": null,
   "id": "ac82e301-6822-4f80-9600-5e8e5a5128c9",
   "metadata": {},
   "outputs": [],
   "source": [
    "# Experiment parameters\n",
    "num = 5\n",
    "reps = 20\n",
    "\n",
    "# File parameters\n",
    "filestr = 'models/univariate/ab_mse/set_{}/'.format(num)\n",
    "mse_filestr = filestr + 'model_{}_{}.h5'\n",
    "\n",
    "# Data parameters\n",
    "N = 10**6\n",
    "X = np.load('data/beta/X_trn.npy')[:N]\n",
    "y = np.load('data/beta/y_trn.npy')[:N]\n",
    "data, m, s = split_data(X, y)\n",
    "\n",
    "ps = np.round(np.linspace(-2, 2, 101), 2)\n",
    "\n",
    "# True distribution information\n",
    "bkgd = stats.beta(2, 3)\n",
    "sgnl = stats.beta(3, 2)\n",
    "\n",
    "lr = make_lr(bkgd, sgnl)\n",
    "mae = make_mae(bkgd, sgnl, 'data/beta/')"
   ]
  },
  {
   "cell_type": "markdown",
   "id": "6f25ed32-1ff4-4fb4-a7a1-0fd14d05b11d",
   "metadata": {
    "jp-MarkdownHeadingCollapsed": true,
    "tags": []
   },
   "source": [
    "#### Process"
   ]
  },
  {
   "cell_type": "raw",
   "id": "6c6a75c4-d532-4a31-a965-04b3b04d02ff",
   "metadata": {},
   "source": [
    "# Get model likelihood ratios.\n",
    "avgs = []\n",
    "for p in ps:\n",
    "    print(p, end = '\\t')\n",
    "    lrs = [None] * reps\n",
    "    params = {'loss':get_mse(p)}\n",
    "    for i in range(reps):\n",
    "        model = create_model(**params)\n",
    "        model.load_weights(mse_filestr.format(p, i))\n",
    "        lrs[i] = pow_odds_lr(model, p, m, s)\n",
    "    \n",
    "    maes = [mae(lr) for lr in lrs]\n",
    "    avgs += [np.mean(maes)]\n",
    "\n",
    "avgs = np.array(avgs)"
   ]
  },
  {
   "cell_type": "raw",
   "id": "de2c6fff-27c0-4c89-9d18-4ddfab32bf3f",
   "metadata": {},
   "source": [
    "# Save results\n",
    "np.save(filestr + 'avgs', avgs)"
   ]
  },
  {
   "cell_type": "markdown",
   "id": "9052ccd9-1498-406b-9ebc-766612755472",
   "metadata": {},
   "source": [
    "#### MAEs"
   ]
  },
  {
   "cell_type": "code",
   "execution_count": null,
   "id": "f22788fd-47b3-4020-94c9-8b6ec95d8ab7",
   "metadata": {},
   "outputs": [],
   "source": [
    "avgs = np.load(filestr + 'avgs.npy')\n",
    "ps[avgs == min(avgs)]"
   ]
  },
  {
   "cell_type": "code",
   "execution_count": null,
   "id": "fca28d3a-fc19-47da-b75e-379a5be180f9",
   "metadata": {},
   "outputs": [],
   "source": [
    "plt.figure(figsize = (w, h))\n",
    "\n",
    "plt.plot(ps, avgs, c='blue', lw = 0.75)\n",
    "\n",
    "plt.minorticks_on()\n",
    "plt.tick_params(which = 'minor', length = 3)\n",
    "plt.tick_params(which = 'major', length = 5)\n",
    "plt.tick_params(which = 'both', direction='in')\n",
    "plt.ylabel('Mean Absolute Error')\n",
    "plt.xlabel(r'$p$')\n",
    "#plt.ylim(0, 0.16)\n",
    "\n",
    "plt.title(r\"\\it $A/B$ Parametrization\",loc=\"right\");\n",
    "plt.savefig('plots/paper/ab_mse_beta.png', \n",
    "            dpi=300, \n",
    "            bbox_inches='tight')"
   ]
  },
  {
   "cell_type": "markdown",
   "id": "da78d5db-863b-4a49-b2ac-f1551782ac5b",
   "metadata": {
    "jp-MarkdownHeadingCollapsed": true,
    "tags": []
   },
   "source": [
    "### SQR $A/B$ Parametrization"
   ]
  },
  {
   "cell_type": "code",
   "execution_count": null,
   "id": "e2fcdf21-cb90-4257-880a-30bc21979d9e",
   "metadata": {},
   "outputs": [],
   "source": [
    "# Experiment parameters\n",
    "num = 5\n",
    "reps = 20\n",
    "\n",
    "# File parameters\n",
    "filestr = 'models/univariate/ab_sqr/set_{}/'.format(num)\n",
    "lin_filestr = filestr + 'relu/model_{}_{}.h5'\n",
    "exp_filestr = filestr + 'exponential/model_{}_{}.h5'\n",
    "\n",
    "# Data parameters\n",
    "N = 10**6\n",
    "X = np.load('data/beta/X_trn.npy')[:N]\n",
    "y = np.load('data/beta/y_trn.npy')[:N]\n",
    "data, m, s = split_data(X, y)\n",
    "\n",
    "rs = np.sort(np.append(np.round(np.linspace(-2, 2, 81), 2),\n",
    "                       np.round(np.linspace(-0.05, 0.05, 26), 3)[1:-1]))\n",
    "\n",
    "# True distribution information\n",
    "bkgd = stats.beta(2, 3)\n",
    "sgnl = stats.beta(3, 2)\n",
    "\n",
    "lr = make_lr(bkgd, sgnl)\n",
    "mae = make_mae(bkgd, sgnl, 'data/beta/')"
   ]
  },
  {
   "cell_type": "markdown",
   "id": "8ac69f78-bebb-48d0-b93a-4ce1afbeee08",
   "metadata": {
    "jp-MarkdownHeadingCollapsed": true,
    "tags": []
   },
   "source": [
    "#### Process"
   ]
  },
  {
   "cell_type": "raw",
   "id": "899285f5-a64a-4860-b99e-6ef0a3a94e08",
   "metadata": {},
   "source": [
    "lin_avgs = []\n",
    "exp_avgs = []\n",
    "\n",
    "for r in rs:\n",
    "    print(r, end = '\\t')\n",
    "    lin_lrs = [None] * reps\n",
    "    exp_lrs = [None] * reps\n",
    "    lin_params = {'loss': get_sqr(r), 'output':'relu'}\n",
    "    exp_params = {'loss': get_exp_sqr(r), 'output':'linear'}\n",
    "    \n",
    "    for i in range(reps):\n",
    "        lin_model = create_model(**lin_params)\n",
    "        exp_model = create_model(**exp_params)\n",
    "        \n",
    "        lin_model.load_weights(lin_filestr.format(r, i))\n",
    "        exp_model.load_weights(exp_filestr.format(r, i))\n",
    "        \n",
    "        lin_lrs[i] = pow_lr(lin_model, r, m, s)\n",
    "        exp_lrs[i] = pow_exp_lr(exp_model, r, m, s)\n",
    "    \n",
    "    lin_maes = [mae(lr) for lr in lin_lrs]\n",
    "    exp_maes = [mae(lr) for lr in exp_lrs]\n",
    "    \n",
    "    lin_avgs += [np.mean(lin_maes)]\n",
    "    exp_avgs += [np.mean(exp_maes)]"
   ]
  },
  {
   "cell_type": "raw",
   "id": "a6684708-fdff-4fb0-b37e-db987d58ac28",
   "metadata": {},
   "source": [
    "# Save results\n",
    "lin_avgs = np.array(lin_avgs)\n",
    "exp_avgs = np.array(exp_avgs)\n",
    "\n",
    "np.save(filestr + 'lin_avgs', lin_avgs)\n",
    "np.save(filestr + 'exp_avgs', exp_avgs)"
   ]
  },
  {
   "cell_type": "markdown",
   "id": "967301a9-8e70-4cc1-b6d8-a74da8d246ee",
   "metadata": {
    "tags": []
   },
   "source": [
    "#### MAEs"
   ]
  },
  {
   "cell_type": "code",
   "execution_count": null,
   "id": "6f9931a5-3a86-423c-a453-4a0708ad5717",
   "metadata": {},
   "outputs": [],
   "source": [
    "lin_avgs = np.load(filestr + 'lin_avgs.npy')\n",
    "exp_avgs = np.load(filestr + 'exp_avgs.npy')\n",
    "\n",
    "rs[lin_avgs == min(lin_avgs)], rs[exp_avgs == min(exp_avgs)]"
   ]
  },
  {
   "cell_type": "code",
   "execution_count": null,
   "id": "0e970d8c-6b43-42ec-b331-6ab0983f9d04",
   "metadata": {},
   "outputs": [],
   "source": [
    "plt.figure(figsize = (w, h))\n",
    "\n",
    "plt.plot(rs, lin_avgs, label=r'$\\text{ReLU}(z)$', c='blue', lw = 0.75)\n",
    "plt.plot(rs, exp_avgs, label=r'$\\exp{z}$', c='red', lw = 0.75)\n",
    "plt.legend()\n",
    "\n",
    "plt.minorticks_on()\n",
    "plt.tick_params(which = 'minor', length = 3)\n",
    "plt.tick_params(which = 'major', length = 5)\n",
    "plt.tick_params(which = 'both', direction='in')\n",
    "plt.ylabel('Mean Absolute Error')\n",
    "plt.xlabel(r'$r$')\n",
    "#plt.ylim(0, 0.16)\n",
    "\n",
    "plt.title(r\"\\it $A/B$ Parametrization\",loc=\"right\");\n",
    "plt.savefig('plots/paper/ab_sqr_beta.png', \n",
    "            dpi=300, \n",
    "            bbox_inches='tight')"
   ]
  },
  {
   "cell_type": "markdown",
   "id": "02396fc8-9da7-4bee-b30c-e13b403bac10",
   "metadata": {
    "jp-MarkdownHeadingCollapsed": true,
    "tags": []
   },
   "source": [
    "# Gamma"
   ]
  },
  {
   "cell_type": "markdown",
   "id": "7871ad49-3a22-40d8-9660-c000709bbc28",
   "metadata": {
    "jp-MarkdownHeadingCollapsed": true,
    "tags": []
   },
   "source": [
    "## $C$ Parametrizations"
   ]
  },
  {
   "cell_type": "markdown",
   "id": "a086cfb6-fdbc-43a9-8bad-35315d2452c8",
   "metadata": {
    "tags": []
   },
   "source": [
    "### BCE $C$ Parametrizations"
   ]
  },
  {
   "cell_type": "code",
   "execution_count": null,
   "id": "27293e52-dab3-4aad-aaac-a27512b3a680",
   "metadata": {},
   "outputs": [],
   "source": [
    "# Experiment parameters\n",
    "num = 0\n",
    "reps = 100\n",
    "\n",
    "# Model parameters\n",
    "params_1 = {'loss':bce}\n",
    "params_2 = {'loss':tanh_bce, 'output': 'linear'}\n",
    "params_3 = {'loss':arctan_bce, 'output': 'linear'}\n",
    "\n",
    "filestr = 'models/univariate/gamma/c_bce/set_{}/'.format(num)\n",
    "filestr_1 = filestr + 'sigmoid/model_{}.h5'\n",
    "filestr_2 = filestr + 'tanh/model_{}.h5'\n",
    "filestr_3 = filestr + 'arctan/model_{}.h5'\n",
    "\n",
    "# Data parameters\n",
    "N = 10**6\n",
    "X = np.load('data/gamma/X_trn.npy')[:N]\n",
    "y = np.load('data/gamma/y_trn.npy')[:N]\n",
    "data, m, s = split_data(X, y)\n",
    "\n",
    "# True distribution information\n",
    "bkgd = stats.gamma(5, 1)\n",
    "sgnl = stats.gamma(6, 1)\n",
    "\n",
    "lr = make_lr(bkgd, sgnl)\n",
    "mae = make_mae(bkgd, sgnl, 'data/gamma/')"
   ]
  },
  {
   "cell_type": "markdown",
   "id": "7fbed4b1-95e5-43b5-bdbb-80dc6bccd209",
   "metadata": {},
   "source": [
    "#### Process"
   ]
  },
  {
   "cell_type": "code",
   "execution_count": null,
   "id": "583de28b-d2f0-4e5f-967c-2c5c1223ecce",
   "metadata": {},
   "outputs": [],
   "source": [
    "lrs_1 = [None] * reps\n",
    "lrs_2 = [None] * reps\n",
    "lrs_3 = [None] * reps\n",
    "\n",
    "for i in range(reps):\n",
    "    model_1 = create_model(**params_1)\n",
    "    model_2 = create_model(**params_2)\n",
    "    model_3 = create_model(**params_3)\n",
    "    \n",
    "    model_1.load_weights(filestr_1.format(i))\n",
    "    model_2.load_weights(filestr_2.format(i))\n",
    "    model_3.load_weights(filestr_3.format(i))\n",
    "    \n",
    "    lrs_1[i] = odds_lr(model_1, m, s)\n",
    "    lrs_2[i] = tanh_lr(model_2, m, s)\n",
    "    lrs_3[i] = arctan_lr(model_3, m, s)\n",
    "    \n",
    "# Calculate predictions\n",
    "xs = np.linspace(0, 20, 1201)\n",
    "preds_1 = get_preds(lrs_1, xs)\n",
    "preds_2 = get_preds(lrs_2, xs)\n",
    "preds_3 = get_preds(lrs_3, xs)\n",
    "\n",
    "# Calculate mean absolute errors\n",
    "maes_1 = [mae(lr) for lr in lrs_1]\n",
    "maes_2 = [mae(lr) for lr in lrs_2]\n",
    "maes_3 = [mae(lr) for lr in lrs_3]\n",
    "\n",
    "avg_1 = np.mean(maes_1)\n",
    "avg_2 = np.mean(maes_2)\n",
    "avg_3 = np.mean(maes_3)\n",
    "\n",
    "# Save results\n",
    "np.save(filestr + 'avg_1.npy', avg_1)\n",
    "np.save(filestr + 'avg_2.npy', avg_2)\n",
    "np.save(filestr + 'avg_3.npy', avg_3)\n",
    "\n",
    "np.save(filestr + 'xs.npy', xs)\n",
    "np.save(filestr + 'preds_1.npy', preds_1)\n",
    "np.save(filestr + 'preds_2.npy', preds_2)\n",
    "np.save(filestr + 'preds_3.npy', preds_3)"
   ]
  },
  {
   "cell_type": "markdown",
   "id": "c1682354-494b-40c7-9c19-0afd22f0d77d",
   "metadata": {},
   "source": [
    "#### Likelihood Ratios"
   ]
  },
  {
   "cell_type": "code",
   "execution_count": null,
   "id": "a616393c-3229-43b5-942f-cda91514eac0",
   "metadata": {},
   "outputs": [],
   "source": [
    "xs = np.load(filestr + 'xs.npy')\n",
    "preds_1 = np.load(filestr + 'preds_1.npy')\n",
    "preds_2 = np.load(filestr + 'preds_2.npy')\n",
    "preds_3 = np.load(filestr + 'preds_3.npy')\n",
    "\n",
    "ratio_plot([preds_1, preds_2, preds_3],\n",
    "           [r'$\\sigma(z)$', r'$\\frac{1}{2}\\left(\\tanh{z} + 1\\right)$', r'$\\frac{1}{\\pi}\\left(\\arctan{z} + \\frac{\\pi}{2}\\right)$'],\n",
    "           lr,\n",
    "           bkgd, sgnl,\n",
    "           xs,\n",
    "           y_lim = (0, 10),\n",
    "           figsize = (w, h),\n",
    "           title = r'\\it $C$ Parametrization',\n",
    "           filename = 'plots/paper/c_bce_gamma.png')"
   ]
  },
  {
   "cell_type": "markdown",
   "id": "602ec040-8faf-4aa7-81f7-0790849b6887",
   "metadata": {},
   "source": [
    "#### MAEs"
   ]
  },
  {
   "cell_type": "code",
   "execution_count": null,
   "id": "e1568d96-6ed4-4ec4-8fab-e877e97268ef",
   "metadata": {},
   "outputs": [],
   "source": [
    "avg_1 = np.load(filestr + 'avg_1.npy')\n",
    "avg_2 = np.load(filestr + 'avg_2.npy')\n",
    "avg_3 = np.load(filestr + 'avg_3.npy')\n",
    "\n",
    "print(avg_1, avg_2, avg_3)"
   ]
  },
  {
   "cell_type": "markdown",
   "id": "bdf5eb79-57d6-4ca3-8a68-4af5ae67317a",
   "metadata": {
    "tags": []
   },
   "source": [
    "### MSE $C$ Parametrizations"
   ]
  },
  {
   "cell_type": "code",
   "execution_count": null,
   "id": "1614088e-c2eb-47bd-b95d-968c102b0891",
   "metadata": {},
   "outputs": [],
   "source": [
    "# Experiment parameters\n",
    "num = 0\n",
    "reps = 100\n",
    "\n",
    "# Model parameters\n",
    "params_1 = {'loss':mse}\n",
    "params_2 = {'loss':tanh_mse, 'output': 'linear'}\n",
    "params_3 = {'loss':arctan_mse, 'output': 'linear'}\n",
    "\n",
    "filestr = 'models/univariate/gamma/c_mse/set_{}/'.format(num)\n",
    "filestr_1 = filestr + 'sigmoid/model_{}.h5'\n",
    "filestr_2 = filestr + 'tanh/model_{}.h5'\n",
    "filestr_3 = filestr + 'arctan/model_{}.h5'\n",
    "\n",
    "# Data parameters\n",
    "N = 10**6\n",
    "X = np.load('data/gamma/X_trn.npy')[:N]\n",
    "y = np.load('data/gamma/y_trn.npy')[:N]\n",
    "data, m, s = split_data(X, y)\n",
    "\n",
    "# True distribution information\n",
    "bkgd = stats.gamma(5, 1)\n",
    "sgnl = stats.gamma(6, 1)\n",
    "\n",
    "lr = make_lr(bkgd, sgnl)\n",
    "mae = make_mae(bkgd, sgnl, 'data/gamma/')"
   ]
  },
  {
   "cell_type": "markdown",
   "id": "73cab15f-004b-4a84-9723-716fc474f081",
   "metadata": {},
   "source": [
    "#### Process"
   ]
  },
  {
   "cell_type": "code",
   "execution_count": null,
   "id": "59b009c8-b4f3-43bf-8e79-4baac25d2d36",
   "metadata": {},
   "outputs": [],
   "source": [
    "lrs_1 = [None] * reps\n",
    "lrs_2 = [None] * reps\n",
    "lrs_3 = [None] * reps\n",
    "\n",
    "for i in range(reps):\n",
    "    model_1 = create_model(**params_1)\n",
    "    model_2 = create_model(**params_2)\n",
    "    model_3 = create_model(**params_3)\n",
    "    \n",
    "    model_1.load_weights(filestr_1.format(i))\n",
    "    model_2.load_weights(filestr_2.format(i))\n",
    "    model_3.load_weights(filestr_3.format(i))\n",
    "    \n",
    "    lrs_1[i] = odds_lr(model_1, m, s)\n",
    "    lrs_2[i] = tanh_lr(model_2, m, s)\n",
    "    lrs_3[i] = arctan_lr(model_3, m, s)\n",
    "    \n",
    "# Calculate predictions\n",
    "xs = np.linspace(0, 20, 1201)\n",
    "preds_1 = get_preds(lrs_1, xs)\n",
    "preds_2 = get_preds(lrs_2, xs)\n",
    "preds_3 = get_preds(lrs_3, xs)\n",
    "\n",
    "# Calculate mean absolute errors\n",
    "maes_1 = [mae(lr) for lr in lrs_1]\n",
    "maes_2 = [mae(lr) for lr in lrs_2]\n",
    "maes_3 = [mae(lr) for lr in lrs_3]\n",
    "\n",
    "avg_1 = np.mean(maes_1)\n",
    "avg_2 = np.mean(maes_2)\n",
    "avg_3 = np.mean(maes_3)\n",
    "\n",
    "# Save results\n",
    "np.save(filestr + 'avg_1.npy', avg_1)\n",
    "np.save(filestr + 'avg_2.npy', avg_2)\n",
    "np.save(filestr + 'avg_3.npy', avg_3)\n",
    "\n",
    "np.save(filestr + 'xs.npy', xs)\n",
    "np.save(filestr + 'preds_1.npy', preds_1)\n",
    "np.save(filestr + 'preds_2.npy', preds_2)\n",
    "np.save(filestr + 'preds_3.npy', preds_3)"
   ]
  },
  {
   "cell_type": "markdown",
   "id": "8cb87af3-1562-4330-9bb5-0eb5ed45a30c",
   "metadata": {},
   "source": [
    "#### Likelihood Ratios"
   ]
  },
  {
   "cell_type": "code",
   "execution_count": null,
   "id": "de2f81bb-368b-46f6-be6c-b3bc36a39b0b",
   "metadata": {},
   "outputs": [],
   "source": [
    "xs = np.load(filestr + 'xs.npy')\n",
    "preds_1 = np.load(filestr + 'preds_1.npy')\n",
    "preds_2 = np.load(filestr + 'preds_2.npy')\n",
    "preds_3 = np.load(filestr + 'preds_3.npy')\n",
    "\n",
    "ratio_plot([preds_1, preds_2, preds_3],\n",
    "           [r'$\\sigma(z)$', r'$\\frac{1}{2}\\left(\\tanh{z} + 1\\right)$', r'$\\frac{1}{\\pi}\\left(\\arctan{z} + \\frac{\\pi}{2}\\right)$'],\n",
    "           lr,\n",
    "           bkgd, sgnl,\n",
    "           xs,\n",
    "           y_lim = (0, 10),\n",
    "           figsize = (w, h),\n",
    "           title = r'\\it $C$ Parametrization',\n",
    "           filename = 'plots/paper/c_mse_gamma.png')"
   ]
  },
  {
   "cell_type": "markdown",
   "id": "e7dd5c3e-53e3-420e-b087-0333578a572a",
   "metadata": {},
   "source": [
    "#### MAEs"
   ]
  },
  {
   "cell_type": "code",
   "execution_count": null,
   "id": "414d46c6-0cec-4efb-b43c-5b207da9f827",
   "metadata": {},
   "outputs": [],
   "source": [
    "avg_1 = np.load(filestr + 'avg_1.npy')\n",
    "avg_2 = np.load(filestr + 'avg_2.npy')\n",
    "avg_3 = np.load(filestr + 'avg_3.npy')\n",
    "\n",
    "print(avg_1, avg_2, avg_3)"
   ]
  },
  {
   "cell_type": "markdown",
   "id": "9356d38c-47e2-467d-a73e-c3e9c639ba7e",
   "metadata": {
    "tags": []
   },
   "source": [
    "### MLC $C$ Parametrizations"
   ]
  },
  {
   "cell_type": "code",
   "execution_count": null,
   "id": "70c1f135-eb75-4ebd-ad38-548ff4e6f0e6",
   "metadata": {},
   "outputs": [],
   "source": [
    "# Experiment parameters\n",
    "num = 0\n",
    "reps = 100\n",
    "\n",
    "# Model parameters\n",
    "params_1 = {'loss':mlc, 'output': 'relu'}\n",
    "params_2 = {'loss':square_mlc, 'output': 'linear'}\n",
    "params_3 = {'loss':exp_mlc, 'output': 'linear'}\n",
    "\n",
    "filestr = 'models/univariate/gamma/c_mlc/set_{}/'.format(num)\n",
    "filestr_1 = filestr + 'relu/model_{}.h5'\n",
    "filestr_2 = filestr + 'square/model_{}.h5'\n",
    "filestr_3 = filestr + 'exponential/model_{}.h5'\n",
    "\n",
    "# Data parameters\n",
    "N = 10**6\n",
    "X = np.load('data/gamma/X_trn.npy')[:N]\n",
    "y = np.load('data/gamma/y_trn.npy')[:N]\n",
    "data, m, s = split_data(X, y)\n",
    "\n",
    "# True distribution information\n",
    "bkgd = stats.gamma(5, 1)\n",
    "sgnl = stats.gamma(6, 1)\n",
    "\n",
    "lr = make_lr(bkgd, sgnl)\n",
    "mae = make_mae(bkgd, sgnl, 'data/gamma/')"
   ]
  },
  {
   "cell_type": "markdown",
   "id": "bd54c926-7d3a-42bc-b8a3-b1c8c4c2d911",
   "metadata": {},
   "source": [
    "#### Process"
   ]
  },
  {
   "cell_type": "code",
   "execution_count": null,
   "id": "fd4f6afe-bf13-46bc-be0b-fba1e0ef5df8",
   "metadata": {},
   "outputs": [],
   "source": [
    "lrs_1 = [None] * reps\n",
    "lrs_2 = [None] * reps\n",
    "lrs_3 = [None] * reps\n",
    "\n",
    "for i in range(reps):\n",
    "    model_1 = create_model(**params_1)\n",
    "    model_2 = create_model(**params_2)\n",
    "    model_3 = create_model(**params_3)\n",
    "    \n",
    "    model_1.load_weights(filestr_1.format(i))\n",
    "    model_2.load_weights(filestr_2.format(i))\n",
    "    model_3.load_weights(filestr_3.format(i))\n",
    "    \n",
    "    lrs_1[i] = pure_lr(model_1, m, s)\n",
    "    lrs_2[i] = square_lr(model_2, m, s)\n",
    "    lrs_3[i] = exp_lr(model_3, m, s)\n",
    "    \n",
    "# Calculate predictions\n",
    "xs = np.linspace(0, 20, 1201)\n",
    "preds_1 = get_preds(lrs_1, xs)\n",
    "preds_2 = get_preds(lrs_2, xs)\n",
    "preds_3 = get_preds(lrs_3, xs)\n",
    "\n",
    "# Calculate mean absolute errors\n",
    "maes_1 = [mae(lr) for lr in lrs_1]\n",
    "maes_2 = [mae(lr) for lr in lrs_2]\n",
    "maes_3 = [mae(lr) for lr in lrs_3]\n",
    "\n",
    "avg_1 = np.mean(maes_1)\n",
    "avg_2 = np.mean(maes_2)\n",
    "avg_3 = np.mean(maes_3)\n",
    "\n",
    "# Save results\n",
    "np.save(filestr + 'avg_1.npy', avg_1)\n",
    "np.save(filestr + 'avg_2.npy', avg_2)\n",
    "np.save(filestr + 'avg_3.npy', avg_3)\n",
    "\n",
    "np.save(filestr + 'xs.npy', xs)\n",
    "np.save(filestr + 'preds_1.npy', preds_1)\n",
    "np.save(filestr + 'preds_2.npy', preds_2)\n",
    "np.save(filestr + 'preds_3.npy', preds_3)"
   ]
  },
  {
   "cell_type": "markdown",
   "id": "bc718dc4-752f-4b76-8082-c3029a54acbd",
   "metadata": {},
   "source": [
    "#### Likelihood Ratios"
   ]
  },
  {
   "cell_type": "code",
   "execution_count": null,
   "id": "edbe8865-6d1a-4d74-a9fe-378567917ed3",
   "metadata": {},
   "outputs": [],
   "source": [
    "xs = np.load(filestr + 'xs.npy')\n",
    "preds_1 = np.load(filestr + 'preds_1.npy')\n",
    "preds_2 = np.load(filestr + 'preds_2.npy')\n",
    "preds_3 = np.load(filestr + 'preds_3.npy')\n",
    "\n",
    "ratio_plot([preds_1, preds_2, preds_3],\n",
    "           [r'$\\text{ReLU}(z)$', r'$z^2$', r'$\\exp{z}$'],\n",
    "           lr,\n",
    "           bkgd, sgnl,\n",
    "           xs,\n",
    "           y_lim = (0, 10),\n",
    "           figsize = (w, h),\n",
    "           title = r'\\it $C$ Parametrization',\n",
    "           filename = 'plots/paper/c_mlc_gamma.png')"
   ]
  },
  {
   "cell_type": "markdown",
   "id": "e5c3a5d6-2564-4ae9-92e3-2d53ba0d3bea",
   "metadata": {},
   "source": [
    "#### MAEs"
   ]
  },
  {
   "cell_type": "code",
   "execution_count": null,
   "id": "6a5bb8fd-aee5-46c6-8ea4-ba6e32bd9a70",
   "metadata": {},
   "outputs": [],
   "source": [
    "avg_1 = np.load(filestr + 'avg_1.npy')\n",
    "avg_2 = np.load(filestr + 'avg_2.npy')\n",
    "avg_3 = np.load(filestr + 'avg_3.npy')\n",
    "\n",
    "print(avg_1, avg_2, avg_3)"
   ]
  },
  {
   "cell_type": "markdown",
   "id": "0b9d5e1b-5d77-4ef9-a0d1-2248ed882ae4",
   "metadata": {
    "tags": []
   },
   "source": [
    "### SQR $C$ Parametrizations"
   ]
  },
  {
   "cell_type": "code",
   "execution_count": null,
   "id": "ad4702a0-b7b0-40f5-a772-c2fae2885874",
   "metadata": {},
   "outputs": [],
   "source": [
    "# Experiment parameters\n",
    "num = 0\n",
    "reps = 100\n",
    "\n",
    "# Model parameters\n",
    "params_1 = {'loss':sqr, 'output': 'relu'}\n",
    "params_2 = {'loss':square_sqr, 'output': 'linear'}\n",
    "params_3 = {'loss':exp_sqr, 'output': 'linear'}\n",
    "\n",
    "filestr = 'models/univariate/gamma/c_sqr/set_{}/'.format(num)\n",
    "filestr_1 = filestr + 'relu/model_{}.h5'\n",
    "filestr_2 = filestr + 'square/model_{}.h5'\n",
    "filestr_3 = filestr + 'exponential/model_{}.h5'\n",
    "\n",
    "# Data parameters\n",
    "N = 10**6\n",
    "X = np.load('data/gamma/X_trn.npy')[:N]\n",
    "y = np.load('data/gamma/y_trn.npy')[:N]\n",
    "data, m, s = split_data(X, y)\n",
    "\n",
    "# True distribution information\n",
    "bkgd = stats.gamma(5, 1)\n",
    "sgnl = stats.gamma(6, 1)\n",
    "\n",
    "lr = make_lr(bkgd, sgnl)\n",
    "mae = make_mae(bkgd, sgnl, 'data/gamma/')"
   ]
  },
  {
   "cell_type": "markdown",
   "id": "f2a79aac-0ed4-4ad3-9777-25861fe90bed",
   "metadata": {},
   "source": [
    "#### Process"
   ]
  },
  {
   "cell_type": "code",
   "execution_count": null,
   "id": "2e568a9b-8a7f-4230-b210-3fa89d8402a9",
   "metadata": {},
   "outputs": [],
   "source": [
    "lrs_1 = [None] * reps\n",
    "lrs_2 = [None] * reps\n",
    "lrs_3 = [None] * reps\n",
    "\n",
    "for i in range(reps):\n",
    "    model_1 = create_model(**params_1)\n",
    "    model_2 = create_model(**params_2)\n",
    "    model_3 = create_model(**params_3)\n",
    "    \n",
    "    model_1.load_weights(filestr_1.format(i))\n",
    "    model_2.load_weights(filestr_2.format(i))\n",
    "    model_3.load_weights(filestr_3.format(i))\n",
    "    \n",
    "    lrs_1[i] = pure_lr(model_1, m, s)\n",
    "    lrs_2[i] = square_lr(model_2, m, s)\n",
    "    lrs_3[i] = exp_lr(model_3, m, s)\n",
    "    \n",
    "# Calculate predictions\n",
    "xs = np.linspace(0, 20, 1201)\n",
    "preds_1 = get_preds(lrs_1, xs)\n",
    "preds_2 = get_preds(lrs_2, xs)\n",
    "preds_3 = get_preds(lrs_3, xs)\n",
    "\n",
    "# Calculate mean absolute errors\n",
    "maes_1 = [mae(lr) for lr in lrs_1]\n",
    "maes_2 = [mae(lr) for lr in lrs_2]\n",
    "maes_3 = [mae(lr) for lr in lrs_3]\n",
    "\n",
    "avg_1 = np.mean(maes_1)\n",
    "avg_2 = np.mean(maes_2)\n",
    "avg_3 = np.mean(maes_3)\n",
    "\n",
    "# Save results\n",
    "np.save(filestr + 'avg_1.npy', avg_1)\n",
    "np.save(filestr + 'avg_2.npy', avg_2)\n",
    "np.save(filestr + 'avg_3.npy', avg_3)\n",
    "\n",
    "np.save(filestr + 'xs.npy', xs)\n",
    "np.save(filestr + 'preds_1.npy', preds_1)\n",
    "np.save(filestr + 'preds_2.npy', preds_2)\n",
    "np.save(filestr + 'preds_3.npy', preds_3)"
   ]
  },
  {
   "cell_type": "markdown",
   "id": "539ec4b6-d53d-4345-8173-184ba86e33ae",
   "metadata": {},
   "source": [
    "#### Likelihood Ratios"
   ]
  },
  {
   "cell_type": "code",
   "execution_count": null,
   "id": "47234f27-c0f4-4ecf-bd89-0b45961a87b1",
   "metadata": {},
   "outputs": [],
   "source": [
    "xs = np.load(filestr + 'xs.npy')\n",
    "preds_1 = np.load(filestr + 'preds_1.npy')\n",
    "preds_2 = np.load(filestr + 'preds_2.npy')\n",
    "preds_3 = np.load(filestr + 'preds_3.npy')\n",
    "\n",
    "ratio_plot([preds_1, preds_2, preds_3],\n",
    "           [r'$\\text{ReLU}(z)$', r'$z^2$', r'$\\exp{z}$'],\n",
    "           lr,\n",
    "           bkgd, sgnl,\n",
    "           xs,\n",
    "           y_lim = (0, 10),\n",
    "           figsize = (w, h),\n",
    "           title = r'\\it $C$ Parametrization',\n",
    "           filename = 'plots/paper/c_sqr_gamma.png')"
   ]
  },
  {
   "cell_type": "markdown",
   "id": "d46a5ba3-e723-42fe-b438-5708ae7b8190",
   "metadata": {},
   "source": [
    "#### MAEs"
   ]
  },
  {
   "cell_type": "code",
   "execution_count": null,
   "id": "9d84a5ac-cb9c-4c1a-9a9f-b4ce665c538a",
   "metadata": {},
   "outputs": [],
   "source": [
    "avg_1 = np.load(filestr + 'avg_1.npy')\n",
    "avg_2 = np.load(filestr + 'avg_2.npy')\n",
    "avg_3 = np.load(filestr + 'avg_3.npy')\n",
    "\n",
    "print(avg_1, avg_2, avg_3)"
   ]
  },
  {
   "cell_type": "markdown",
   "id": "81733c41-89f7-43d8-b4ee-9e571c97b50d",
   "metadata": {
    "tags": []
   },
   "source": [
    "## $A/B$ Parametrization"
   ]
  },
  {
   "cell_type": "markdown",
   "id": "2c245f49-e7ea-4fe0-a0ea-c777be6384f9",
   "metadata": {
    "jp-MarkdownHeadingCollapsed": true,
    "tags": []
   },
   "source": [
    "### MSE $A/B$ Parametrization"
   ]
  },
  {
   "cell_type": "code",
   "execution_count": null,
   "id": "902b04c0-d2ed-4e8c-a460-9e4fb37a3b18",
   "metadata": {},
   "outputs": [],
   "source": [
    "# Experiment parameters\n",
    "num = 6\n",
    "reps = 20\n",
    "\n",
    "# File parameters\n",
    "filestr = 'models/univariate/ab_mse/set_{}/'.format(num)\n",
    "mse_filestr = filestr + 'model_{}_{}.h5'\n",
    "\n",
    "# Data parameters\n",
    "N = 10**6\n",
    "X = np.load('data/gamma/X_trn.npy')[:N]\n",
    "y = np.load('data/gamma/y_trn.npy')[:N]\n",
    "data, m, s = split_data(X, y)\n",
    "\n",
    "ps = np.round(np.linspace(-2, 2, 101), 2)\n",
    "\n",
    "# True distribution information\n",
    "bkgd = stats.gamma(5, 1)\n",
    "sgnl = stats.gamma(6, 1)\n",
    "\n",
    "lr = make_lr(bkgd, sgnl)\n",
    "mae = make_mae(bkgd, sgnl, 'data/gamma/')"
   ]
  },
  {
   "cell_type": "markdown",
   "id": "e916cd9a-4e5c-44b4-8b80-6d89434b58c7",
   "metadata": {
    "tags": []
   },
   "source": [
    "#### Process"
   ]
  },
  {
   "cell_type": "raw",
   "id": "56e42a7e-e8aa-4aaf-848d-0346ed6ce945",
   "metadata": {},
   "source": [
    "# Get model likelihood ratios.\n",
    "avgs = []\n",
    "for p in ps:\n",
    "    print(p, end = '\\t')\n",
    "    lrs = [None] * reps\n",
    "    params = {'loss':get_mse(p)}\n",
    "    for i in range(reps):\n",
    "        model = create_model(**params)\n",
    "        model.load_weights(mse_filestr.format(p, i))\n",
    "        lrs[i] = pow_odds_lr(model, p, m, s)\n",
    "    \n",
    "    maes = [mae(lr) for lr in lrs]\n",
    "    avgs += [np.mean(maes)]\n",
    "\n",
    "avgs = np.array(avgs)"
   ]
  },
  {
   "cell_type": "raw",
   "id": "aee66d11-95f9-42e1-bf58-b8a2f939e96d",
   "metadata": {},
   "source": [
    "# Save results\n",
    "np.save(filestr + 'avgs', avgs)"
   ]
  },
  {
   "cell_type": "markdown",
   "id": "8a3c0fc3-f3bb-4c9a-933e-995447132621",
   "metadata": {},
   "source": [
    "#### MAEs"
   ]
  },
  {
   "cell_type": "code",
   "execution_count": null,
   "id": "7da0c6f3-4346-4bea-b33a-185220973a18",
   "metadata": {},
   "outputs": [],
   "source": [
    "avgs = np.load(filestr + 'avgs.npy')\n",
    "ps[avgs == min(avgs)]"
   ]
  },
  {
   "cell_type": "code",
   "execution_count": null,
   "id": "b2928582-5b13-4357-87b0-01b403c97506",
   "metadata": {},
   "outputs": [],
   "source": [
    "plt.figure(figsize = (w, h))\n",
    "\n",
    "plt.plot(ps, avgs, c='blue', lw = 0.75)\n",
    "\n",
    "plt.minorticks_on()\n",
    "plt.tick_params(which = 'minor', length = 3)\n",
    "plt.tick_params(which = 'major', length = 5)\n",
    "plt.tick_params(which = 'both', direction='in')\n",
    "plt.ylabel('Mean Absolute Error')\n",
    "plt.xlabel(r'$p$')\n",
    "#plt.ylim(0, 0.16)\n",
    "\n",
    "plt.title(r\"\\it $A/B$ Parametrization\",loc=\"right\");\n",
    "plt.savefig('plots/paper/ab_mse_gamma.png', \n",
    "            dpi=300, \n",
    "            bbox_inches='tight')"
   ]
  },
  {
   "cell_type": "markdown",
   "id": "ae787c50-fcae-4beb-91dc-b9aa1c31b92d",
   "metadata": {
    "jp-MarkdownHeadingCollapsed": true,
    "tags": []
   },
   "source": [
    "### SQR $A/B$ Parametrization"
   ]
  },
  {
   "cell_type": "code",
   "execution_count": null,
   "id": "e6707e93-54a9-49dd-a86c-3bf82d84c874",
   "metadata": {},
   "outputs": [],
   "source": [
    "# Experiment parameters\n",
    "num = 6\n",
    "reps = 20\n",
    "\n",
    "# File parameters\n",
    "filestr = 'models/univariate/ab_sqr/set_{}/'.format(num)\n",
    "lin_filestr = filestr + 'relu/model_{}_{}.h5'\n",
    "exp_filestr = filestr + 'exponential/model_{}_{}.h5'\n",
    "\n",
    "# Data parameters\n",
    "N = 10**6\n",
    "X = np.load('data/gamma/X_trn.npy')[:N]\n",
    "y = np.load('data/gamma/y_trn.npy')[:N]\n",
    "data, m, s = split_data(X, y)\n",
    "\n",
    "rs = np.sort(np.append(np.round(np.linspace(-2, 2, 81), 2),\n",
    "                       np.round(np.linspace(-0.05, 0.05, 26), 3)[1:-1]))\n",
    "\n",
    "# True distribution information\n",
    "bkgd = stats.gamma(5, 1)\n",
    "sgnl = stats.gamma(6, 1)\n",
    "\n",
    "lr = make_lr(bkgd, sgnl)\n",
    "mae = make_mae(bkgd, sgnl, 'data/gamma/')"
   ]
  },
  {
   "cell_type": "markdown",
   "id": "f0e8d430-6ca6-48d5-b3a5-518c37578725",
   "metadata": {
    "tags": []
   },
   "source": [
    "#### Process"
   ]
  },
  {
   "cell_type": "raw",
   "id": "9ca49f3d-43c9-45e7-a629-4e56c10e7167",
   "metadata": {},
   "source": [
    "lin_avgs = []\n",
    "exp_avgs = []\n",
    "\n",
    "for r in rs:\n",
    "    print(r, end = '\\t')\n",
    "    lin_lrs = [None] * reps\n",
    "    exp_lrs = [None] * reps\n",
    "    lin_params = {'loss': get_sqr(r), 'output':'relu'}\n",
    "    exp_params = {'loss': get_exp_sqr(r), 'output':'linear'}\n",
    "    \n",
    "    for i in range(reps):\n",
    "        lin_model = create_model(**lin_params)\n",
    "        exp_model = create_model(**exp_params)\n",
    "        \n",
    "        lin_model.load_weights(lin_filestr.format(r, i))\n",
    "        exp_model.load_weights(exp_filestr.format(r, i))\n",
    "        \n",
    "        lin_lrs[i] = pow_lr(lin_model, r, m, s)\n",
    "        exp_lrs[i] = pow_exp_lr(exp_model, r, m, s)\n",
    "    \n",
    "    lin_maes = [mae(lr) for lr in lin_lrs]\n",
    "    exp_maes = [mae(lr) for lr in exp_lrs]\n",
    "    \n",
    "    lin_avgs += [np.mean(lin_maes)]\n",
    "    exp_avgs += [np.mean(exp_maes)]"
   ]
  },
  {
   "cell_type": "raw",
   "id": "1067f5ee-b79d-4869-b6ea-6234581d4941",
   "metadata": {},
   "source": [
    "# Save results\n",
    "lin_avgs = np.array(lin_avgs)\n",
    "exp_avgs = np.array(exp_avgs)\n",
    "\n",
    "np.save(filestr + 'lin_avgs', lin_avgs)\n",
    "np.save(filestr + 'exp_avgs', exp_avgs)"
   ]
  },
  {
   "cell_type": "markdown",
   "id": "161f5f21-6d24-4c14-89ba-f15bebc6a5d0",
   "metadata": {
    "tags": []
   },
   "source": [
    "#### MAEs"
   ]
  },
  {
   "cell_type": "code",
   "execution_count": null,
   "id": "4baca7fa-da3a-44d9-ae8a-b3146d841704",
   "metadata": {},
   "outputs": [],
   "source": [
    "lin_avgs = np.load(filestr + 'lin_avgs.npy')\n",
    "exp_avgs = np.load(filestr + 'exp_avgs.npy')\n",
    "\n",
    "rs[lin_avgs == min(lin_avgs)], rs[exp_avgs == min(exp_avgs)]"
   ]
  },
  {
   "cell_type": "code",
   "execution_count": null,
   "id": "1230eb60-dc7c-4b19-8bd7-db69e6ee11f8",
   "metadata": {},
   "outputs": [],
   "source": [
    "plt.figure(figsize = (w, h))\n",
    "\n",
    "plt.plot(rs, lin_avgs, label=r'$\\text{ReLU}(z)$', c='blue', lw = 0.75)\n",
    "plt.plot(rs, exp_avgs, label=r'$\\exp{z}$', c='red', lw = 0.75)\n",
    "plt.legend()\n",
    "\n",
    "plt.minorticks_on()\n",
    "plt.tick_params(which = 'minor', length = 3)\n",
    "plt.tick_params(which = 'major', length = 5)\n",
    "plt.tick_params(which = 'both', direction='in')\n",
    "plt.ylabel('Mean Absolute Error')\n",
    "plt.xlabel(r'$r$')\n",
    "#plt.ylim(0, 0.16)\n",
    "\n",
    "plt.title(r\"\\it $A/B$ Parametrization\",loc=\"right\");\n",
    "plt.savefig('plots/paper/ab_sqr_gamma.png', \n",
    "            dpi=300, \n",
    "            bbox_inches='tight')"
   ]
  },
  {
   "cell_type": "markdown",
   "id": "340dee4c-3f69-4539-9d72-4bd477c4bb22",
   "metadata": {
    "jp-MarkdownHeadingCollapsed": true,
    "tags": []
   },
   "source": [
    "# Multivariate Normal"
   ]
  },
  {
   "cell_type": "markdown",
   "id": "fc3322fc-1ac8-49fd-8313-d04b6ddd86cd",
   "metadata": {
    "jp-MarkdownHeadingCollapsed": true,
    "tags": []
   },
   "source": [
    "## Naïve Implementation"
   ]
  },
  {
   "cell_type": "markdown",
   "id": "8b424169-0ac8-4a08-be1a-a3f964edea68",
   "metadata": {
    "tags": []
   },
   "source": [
    "### Case 0"
   ]
  },
  {
   "cell_type": "markdown",
   "id": "5d729f3c-02ed-49af-8cda-2735a74b7b24",
   "metadata": {
    "jp-MarkdownHeadingCollapsed": true,
    "tags": []
   },
   "source": [
    "### Case 1"
   ]
  },
  {
   "cell_type": "markdown",
   "id": "568362b3-c481-4d78-8e29-d9c7a3f38d74",
   "metadata": {},
   "source": [
    "### Case 2"
   ]
  },
  {
   "cell_type": "markdown",
   "id": "bcb9b2fb-aa0c-4ee3-bfa7-959ba92b548c",
   "metadata": {},
   "source": [
    "### Case 3"
   ]
  },
  {
   "cell_type": "markdown",
   "id": "909f674d-f08a-45cd-97e0-a4599cf44353",
   "metadata": {},
   "source": [
    "### Case 4"
   ]
  },
  {
   "cell_type": "markdown",
   "id": "9d893c18-95ca-488e-8899-37d908c0a9c5",
   "metadata": {
    "tags": []
   },
   "source": [
    "## $C$ Parametrization"
   ]
  },
  {
   "cell_type": "code",
   "execution_count": 278,
   "id": "97b2a09e-ab0e-41eb-87f2-3b11d15ef7c8",
   "metadata": {},
   "outputs": [],
   "source": [
    "w = 3.5\n",
    "h = 2.9\n",
    "\n",
    "g = np.meshgrid(np.linspace(-2, 2, 401), np.linspace(-2, 2, 401))\n",
    "g = np.append(g[0].reshape(-1, 1), g[1].reshape(-1, 1), axis = 1)\n",
    "aa, bb = np.meshgrid(np.linspace(-2.005, 2.005, 402), np.linspace(-2.005, 2.005, 402))"
   ]
  },
  {
   "cell_type": "markdown",
   "id": "9e60317e-726f-41c0-a06e-4c5618d1b6a8",
   "metadata": {
    "tags": []
   },
   "source": [
    "### Case 0"
   ]
  },
  {
   "cell_type": "markdown",
   "id": "87f7fb27-d054-46a9-931c-fab2c314a30d",
   "metadata": {
    "tags": []
   },
   "source": [
    "#### BCE $C$ Parametrization"
   ]
  },
  {
   "cell_type": "code",
   "execution_count": 211,
   "id": "191bac41-c80d-474e-92f5-20ecab10d383",
   "metadata": {},
   "outputs": [],
   "source": [
    "# Experiment parameters\n",
    "num = 0\n",
    "reps = 100\n",
    "\n",
    "# Model parameters\n",
    "params_1 = {'loss':bce, 'd':2}\n",
    "params_2 = {'loss':tanh_bce, 'd':2, 'output': 'linear'}\n",
    "params_3 = {'loss':arctan_bce, 'd':2,  'output': 'linear'}\n",
    "\n",
    "filestr = 'models/multivariate/c_bce/set_{}/'.format(num)\n",
    "filestr_1 = filestr + 'sigmoid/model_{}.h5'\n",
    "filestr_2 = filestr + 'tanh/model_{}.h5'\n",
    "filestr_3 = filestr + 'arctan/model_{}.h5'\n",
    "\n",
    "# Data parameters\n",
    "N = 10**6\n",
    "X = np.load('data/mvn/vertical/X_trn.npy')[:N]\n",
    "y = np.load('data/mvn/vertical/y_trn.npy')[:N]\n",
    "data, m, s = split_data(X, y)\n",
    "\n",
    "# True distribution information\n",
    "mu_bkgd = np.array([-0.1, 0])\n",
    "mu_sgnl = np.array([+0.1, 0])\n",
    "sg_bkgd = np.eye(2)\n",
    "sg_sgnl = np.eye(2)\n",
    "\n",
    "bkgd = stats.multivariate_normal(mu_bkgd, sg_bkgd)\n",
    "sgnl = stats.multivariate_normal(mu_sgnl, sg_sgnl)\n",
    "\n",
    "lr = make_lr(bkgd, sgnl)\n",
    "mae = make_mae(bkgd, sgnl, 'data/mvn/vertical/')"
   ]
  },
  {
   "cell_type": "markdown",
   "id": "59968259-7942-4931-b403-4af2a80ac5e4",
   "metadata": {
    "tags": []
   },
   "source": [
    "##### Process"
   ]
  },
  {
   "cell_type": "raw",
   "id": "4e011aff-4e7c-4846-82dc-361c3fb112e9",
   "metadata": {},
   "source": [
    "lrs_1 = [None] * reps\n",
    "lrs_2 = [None] * reps\n",
    "lrs_3 = [None] * reps\n",
    "\n",
    "for i in range(reps):\n",
    "    model_1 = create_model(**params_1)\n",
    "    model_2 = create_model(**params_2)\n",
    "    model_3 = create_model(**params_3)\n",
    "    \n",
    "    model_1.load_weights(filestr_1.format(i))\n",
    "    model_2.load_weights(filestr_2.format(i))\n",
    "    model_3.load_weights(filestr_3.format(i))\n",
    "    \n",
    "    lrs_1[i] = odds_lr(model_1, m, s)\n",
    "    lrs_2[i] = tanh_lr(model_2, m, s)\n",
    "    lrs_3[i] = arctan_lr(model_3, m, s)\n",
    "    \n",
    "# Calculate predictions\n",
    "g = np.meshgrid(np.linspace(-2, 2, 401), np.linspace(-2, 2, 401))\n",
    "g = np.append(g[0].reshape(-1, 1), g[1].reshape(-1, 1), axis = 1)\n",
    "aa, bb = np.meshgrid(np.linspace(-2.005, 2.005, 402), np.linspace(-2.005, 2.005, 402))\n",
    "\n",
    "preds_1 = avg_lr(get_preds(lrs_1, xs = g))\n",
    "preds_2 = avg_lr(get_preds(lrs_2, xs = g))\n",
    "preds_3 = avg_lr(get_preds(lrs_3, xs = g))\n",
    "\n",
    "# Calculate mean absolute errors\n",
    "maes_1 = [mae(lr) for lr in lrs_1]\n",
    "maes_2 = [mae(lr) for lr in lrs_2]\n",
    "maes_3 = [mae(lr) for lr in lrs_3]\n",
    "\n",
    "avg_1 = np.mean(maes_1)\n",
    "avg_2 = np.mean(maes_2)\n",
    "avg_3 = np.mean(maes_3)\n",
    "\n",
    "# Save results\n",
    "np.save(filestr + 'avg_1.npy', avg_1)\n",
    "np.save(filestr + 'avg_2.npy', avg_2)\n",
    "np.save(filestr + 'avg_3.npy', avg_3)\n",
    "\n",
    "np.save(filestr + 'g.npy', g)\n",
    "np.save(filestr + 'preds_1.npy', preds_1)\n",
    "np.save(filestr + 'preds_2.npy', preds_2)\n",
    "np.save(filestr + 'preds_3.npy', preds_3)"
   ]
  },
  {
   "cell_type": "markdown",
   "id": "02c4a028-5abb-4b32-8966-894bff3a7a89",
   "metadata": {
    "tags": []
   },
   "source": [
    "##### Likelihood Ratios"
   ]
  },
  {
   "cell_type": "code",
   "execution_count": null,
   "id": "a144c532-e008-4a77-b789-f648e652b45f",
   "metadata": {},
   "outputs": [],
   "source": [
    "g = np.load(filestr + 'g.npy')\n",
    "preds_1 = np.load(filestr + 'preds_1.npy')\n",
    "preds_2 = np.load(filestr + 'preds_2.npy')\n",
    "preds_3 = np.load(filestr + 'preds_3.npy')"
   ]
  },
  {
   "cell_type": "code",
   "execution_count": null,
   "id": "089efab2-07a9-4655-9d8b-a354f4b8254b",
   "metadata": {},
   "outputs": [],
   "source": [
    "g = np.load(filestr + 'g.npy')\n",
    "preds_1 = np.load(filestr + 'preds_1.npy')\n",
    "preds_2 = np.load(filestr + 'preds_2.npy')\n",
    "preds_3 = np.load(filestr + 'preds_3.npy')\n",
    "\n",
    "diff_plot(preds_1,\n",
    "          lr,\n",
    "          g,\n",
    "          aa, bb, \n",
    "          figsize = (w, h),\n",
    "          title = r'\\it $C$ Parametrization',\n",
    "          filename = 'plots/paper/c_bce_vertical_sigmoid.png')\n",
    "\n",
    "diff_plot(preds_2,\n",
    "          lr,\n",
    "          g,\n",
    "          aa, bb, \n",
    "          figsize = (w, h),\n",
    "          title = r'\\it $C$ Parametrization',\n",
    "          filename = 'plots/paper/c_bce_vertical_tanh.png')\n",
    "\n",
    "diff_plot(preds_3,\n",
    "          lr,\n",
    "          g,\n",
    "          aa, bb, \n",
    "          figsize = (w, h),\n",
    "          title = r'\\it $C$ Parametrization',\n",
    "          filename = 'plots/paper/c_bce_vertical_arctan.png')"
   ]
  },
  {
   "cell_type": "markdown",
   "id": "4e61d79b-b940-486b-a39f-8e2f025db08a",
   "metadata": {},
   "source": [
    "##### MAEs"
   ]
  },
  {
   "cell_type": "code",
   "execution_count": 212,
   "id": "25ceab77-4b46-40eb-b909-8d3a8cf472ed",
   "metadata": {},
   "outputs": [
    {
     "name": "stdout",
     "output_type": "stream",
     "text": [
      "0.012728679264611716 0.01826200994442122 0.01397588390825478\n"
     ]
    }
   ],
   "source": [
    "avg_1 = np.load(filestr + 'avg_1.npy')\n",
    "avg_2 = np.load(filestr + 'avg_2.npy')\n",
    "avg_3 = np.load(filestr + 'avg_3.npy')\n",
    "\n",
    "print(avg_1, avg_2, avg_3)"
   ]
  },
  {
   "cell_type": "markdown",
   "id": "315341c7-67f9-4b25-af57-4509b1e9ccc1",
   "metadata": {
    "jp-MarkdownHeadingCollapsed": true,
    "tags": []
   },
   "source": [
    "#### MSE $C$ Parametrization"
   ]
  },
  {
   "cell_type": "code",
   "execution_count": 213,
   "id": "82e740d0-973a-4da7-980a-f9bb5f573473",
   "metadata": {},
   "outputs": [],
   "source": [
    "# Experiment parameters\n",
    "num = 0\n",
    "reps = 100\n",
    "\n",
    "# Model parameters\n",
    "params_1 = {'loss':mse, 'd':2}\n",
    "params_2 = {'loss':tanh_mse, 'd':2, 'output': 'linear'}\n",
    "params_3 = {'loss':arctan_mse, 'd':2,  'output': 'linear'}\n",
    "\n",
    "filestr = 'models/multivariate/c_mse/set_{}/'.format(num)\n",
    "filestr_1 = filestr + 'sigmoid/model_{}.h5'\n",
    "filestr_2 = filestr + 'tanh/model_{}.h5'\n",
    "filestr_3 = filestr + 'arctan/model_{}.h5'\n",
    "\n",
    "# Data parameters\n",
    "N = 10**6\n",
    "X = np.load('data/mvn/vertical/X_trn.npy')[:N]\n",
    "y = np.load('data/mvn/vertical/y_trn.npy')[:N]\n",
    "data, m, s = split_data(X, y)\n",
    "\n",
    "# True distribution information\n",
    "mu_bkgd = np.array([-0.1, 0])\n",
    "mu_sgnl = np.array([+0.1, 0])\n",
    "sg_bkgd = np.eye(2)\n",
    "sg_sgnl = np.eye(2)\n",
    "\n",
    "bkgd = stats.multivariate_normal(mu_bkgd, sg_bkgd)\n",
    "sgnl = stats.multivariate_normal(mu_sgnl, sg_sgnl)\n",
    "\n",
    "lr = make_lr(bkgd, sgnl)\n",
    "mae = make_mae(bkgd, sgnl, 'data/mvn/vertical/')"
   ]
  },
  {
   "cell_type": "markdown",
   "id": "cb4ad1ff-0536-41d1-b596-8344a0838cef",
   "metadata": {
    "jp-MarkdownHeadingCollapsed": true,
    "tags": []
   },
   "source": [
    "##### Process"
   ]
  },
  {
   "cell_type": "raw",
   "id": "58f49ebe-3606-4064-afc2-cba5322e30bd",
   "metadata": {},
   "source": [
    "lrs_1 = [None] * reps\n",
    "lrs_2 = [None] * reps\n",
    "lrs_3 = [None] * reps\n",
    "\n",
    "for i in range(reps):\n",
    "    model_1 = create_model(**params_1)\n",
    "    model_2 = create_model(**params_2)\n",
    "    model_3 = create_model(**params_3)\n",
    "    \n",
    "    model_1.load_weights(filestr_1.format(i))\n",
    "    model_2.load_weights(filestr_2.format(i))\n",
    "    model_3.load_weights(filestr_3.format(i))\n",
    "    \n",
    "    lrs_1[i] = odds_lr(model_1, m, s)\n",
    "    lrs_2[i] = tanh_lr(model_2, m, s)\n",
    "    lrs_3[i] = arctan_lr(model_3, m, s)\n",
    "    \n",
    "# Calculate predictions\n",
    "g = np.meshgrid(np.linspace(-2, 2, 401), np.linspace(-2, 2, 401))\n",
    "g = np.append(g[0].reshape(-1, 1), g[1].reshape(-1, 1), axis = 1)\n",
    "aa, bb = np.meshgrid(np.linspace(-2.005, 2.005, 402), np.linspace(-2.005, 2.005, 402))\n",
    "\n",
    "preds_1 = avg_lr(get_preds(lrs_1, xs = g))\n",
    "preds_2 = avg_lr(get_preds(lrs_2, xs = g))\n",
    "preds_3 = avg_lr(get_preds(lrs_3, xs = g))\n",
    "\n",
    "# Calculate mean absolute errors\n",
    "maes_1 = [mae(lr) for lr in lrs_1]\n",
    "maes_2 = [mae(lr) for lr in lrs_2]\n",
    "maes_3 = [mae(lr) for lr in lrs_3]\n",
    "\n",
    "avg_1 = np.mean(maes_1)\n",
    "avg_2 = np.mean(maes_2)\n",
    "avg_3 = np.mean(maes_3)\n",
    "\n",
    "# Save results\n",
    "np.save(filestr + 'avg_1.npy', avg_1)\n",
    "np.save(filestr + 'avg_2.npy', avg_2)\n",
    "np.save(filestr + 'avg_3.npy', avg_3)\n",
    "\n",
    "np.save(filestr + 'g.npy', g)\n",
    "np.save(filestr + 'preds_1.npy', preds_1)\n",
    "np.save(filestr + 'preds_2.npy', preds_2)\n",
    "np.save(filestr + 'preds_3.npy', preds_3)"
   ]
  },
  {
   "cell_type": "markdown",
   "id": "3aa7378f-8a6c-4dec-b1e7-e509c5aaefc3",
   "metadata": {
    "jp-MarkdownHeadingCollapsed": true,
    "tags": []
   },
   "source": [
    "##### Likelihood Ratio"
   ]
  },
  {
   "cell_type": "code",
   "execution_count": null,
   "id": "b5727b80-fabb-42f9-be29-be6068328abb",
   "metadata": {},
   "outputs": [],
   "source": [
    "g = np.load(filestr + 'g.npy')\n",
    "preds_1 = np.load(filestr + 'preds_1.npy')\n",
    "preds_2 = np.load(filestr + 'preds_2.npy')\n",
    "preds_3 = np.load(filestr + 'preds_3.npy')\n",
    "\n",
    "diff_plot(preds_1,\n",
    "          lr,\n",
    "          g,\n",
    "          aa, bb, \n",
    "          figsize = (w, h),\n",
    "          title = r'\\it $C$ Parametrization',\n",
    "          filename = 'plots/paper/c_mse_vertical_sigmoid.png')\n",
    "\n",
    "diff_plot(preds_2,\n",
    "          lr,\n",
    "          g,\n",
    "          aa, bb, \n",
    "          figsize = (w, h),\n",
    "          title = r'\\it $C$ Parametrization',\n",
    "          filename = 'plots/paper/c_mse_vertical_tanh.png')\n",
    "\n",
    "diff_plot(preds_3,\n",
    "          lr,\n",
    "          g,\n",
    "          aa, bb, \n",
    "          figsize = (w, h),\n",
    "          title = r'\\it $C$ Parametrization',\n",
    "          filename = 'plots/paper/c_mse_vertical_arctan.png')"
   ]
  },
  {
   "cell_type": "markdown",
   "id": "93594acf-fe7e-4c50-9766-81629405cb7f",
   "metadata": {},
   "source": [
    "##### MAEs"
   ]
  },
  {
   "cell_type": "code",
   "execution_count": 214,
   "id": "99f13753-4235-4f1a-9335-f8219ee7523f",
   "metadata": {},
   "outputs": [
    {
     "name": "stdout",
     "output_type": "stream",
     "text": [
      "0.012593626387136278 0.017744671463479956 0.013865651991570464\n"
     ]
    }
   ],
   "source": [
    "avg_1 = np.load(filestr + 'avg_1.npy')\n",
    "avg_2 = np.load(filestr + 'avg_2.npy')\n",
    "avg_3 = np.load(filestr + 'avg_3.npy')\n",
    "\n",
    "print(avg_1, avg_2, avg_3)"
   ]
  },
  {
   "cell_type": "markdown",
   "id": "9fd1bbe3-f883-4fb8-a728-fde3d9009796",
   "metadata": {
    "tags": []
   },
   "source": [
    "#### MLC $C$ Parametrization"
   ]
  },
  {
   "cell_type": "code",
   "execution_count": 215,
   "id": "3ce25e79-f676-4767-afe8-f690e8426e27",
   "metadata": {},
   "outputs": [],
   "source": [
    "# Experiment parameters\n",
    "num = 0\n",
    "reps = 100\n",
    "\n",
    "# Model parameters\n",
    "params_1 = {'loss':mlc, 'd':2, 'output': 'relu'}\n",
    "params_2 = {'loss':square_mlc, 'd':2, 'output': 'linear'}\n",
    "params_3 = {'loss':exp_mlc, 'd':2,  'output': 'linear'}\n",
    "\n",
    "filestr = 'models/multivariate/c_mlc/set_{}/'.format(num)\n",
    "filestr_1 = filestr + 'relu/model_{}.h5'\n",
    "filestr_2 = filestr + 'square/model_{}.h5'\n",
    "filestr_3 = filestr + 'exponential/model_{}.h5'\n",
    "\n",
    "# Data parameters\n",
    "N = 10**6\n",
    "X = np.load('data/mvn/vertical/X_trn.npy')[:N]\n",
    "y = np.load('data/mvn/vertical/y_trn.npy')[:N]\n",
    "data, m, s = split_data(X, y)\n",
    "\n",
    "# True distribution information\n",
    "mu_bkgd = np.array([-0.1, 0])\n",
    "mu_sgnl = np.array([+0.1, 0])\n",
    "sg_bkgd = np.eye(2)\n",
    "sg_sgnl = np.eye(2)\n",
    "\n",
    "bkgd = stats.multivariate_normal(mu_bkgd, sg_bkgd)\n",
    "sgnl = stats.multivariate_normal(mu_sgnl, sg_sgnl)\n",
    "\n",
    "lr = make_lr(bkgd, sgnl)\n",
    "mae = make_mae(bkgd, sgnl, 'data/mvn/vertical/')"
   ]
  },
  {
   "cell_type": "markdown",
   "id": "d1f05ae8-c43b-4b36-88aa-c083ca9fed48",
   "metadata": {
    "tags": []
   },
   "source": [
    "##### Process"
   ]
  },
  {
   "cell_type": "raw",
   "id": "436331ab-9feb-4405-b935-ba4863f33d3e",
   "metadata": {},
   "source": [
    "lrs_1 = [None] * reps\n",
    "lrs_2 = [None] * reps\n",
    "lrs_3 = [None] * reps\n",
    "\n",
    "for i in range(reps):\n",
    "    model_1 = create_model(**params_1)\n",
    "    model_2 = create_model(**params_2)\n",
    "    model_3 = create_model(**params_3)\n",
    "    \n",
    "    model_1.load_weights(filestr_1.format(i))\n",
    "    model_2.load_weights(filestr_2.format(i))\n",
    "    model_3.load_weights(filestr_3.format(i))\n",
    "    \n",
    "    lrs_1[i] = pure_lr(model_1, m, s)\n",
    "    lrs_2[i] = square_lr(model_2, m, s)\n",
    "    lrs_3[i] = exp_lr(model_3, m, s)\n",
    "    \n",
    "# Calculate predictions\n",
    "g = np.meshgrid(np.linspace(-2, 2, 401), np.linspace(-2, 2, 401))\n",
    "g = np.append(g[0].reshape(-1, 1), g[1].reshape(-1, 1), axis = 1)\n",
    "aa, bb = np.meshgrid(np.linspace(-2.005, 2.005, 402), np.linspace(-2.005, 2.005, 402))\n",
    "\n",
    "preds_1 = avg_lr(get_preds(lrs_1, xs = g))\n",
    "preds_2 = avg_lr(get_preds(lrs_2, xs = g))\n",
    "preds_3 = avg_lr(get_preds(lrs_3, xs = g))\n",
    "\n",
    "# Calculate mean absolute errors\n",
    "maes_1 = [mae(lr) for lr in lrs_1]\n",
    "maes_2 = [mae(lr) for lr in lrs_2]\n",
    "maes_3 = [mae(lr) for lr in lrs_3]\n",
    "\n",
    "avg_1 = np.mean(maes_1)\n",
    "avg_2 = np.mean(maes_2)\n",
    "avg_3 = np.mean(maes_3)\n",
    "\n",
    "# Save results\n",
    "np.save(filestr + 'avg_1.npy', avg_1)\n",
    "np.save(filestr + 'avg_2.npy', avg_2)\n",
    "np.save(filestr + 'avg_3.npy', avg_3)\n",
    "\n",
    "np.save(filestr + 'g.npy', g)\n",
    "np.save(filestr + 'preds_1.npy', preds_1)\n",
    "np.save(filestr + 'preds_2.npy', preds_2)\n",
    "np.save(filestr + 'preds_3.npy', preds_3)"
   ]
  },
  {
   "cell_type": "markdown",
   "id": "581b7bbf-c2b4-4d56-ab4d-90057f6ebae5",
   "metadata": {
    "jp-MarkdownHeadingCollapsed": true,
    "tags": []
   },
   "source": [
    "##### Likelihood Ratios"
   ]
  },
  {
   "cell_type": "code",
   "execution_count": null,
   "id": "dd46df13-9d9f-4263-a932-5c5a0a9c9abf",
   "metadata": {},
   "outputs": [],
   "source": [
    "g = np.load(filestr + 'g.npy')\n",
    "preds_1 = np.load(filestr + 'preds_1.npy')\n",
    "preds_2 = np.load(filestr + 'preds_2.npy')\n",
    "preds_3 = np.load(filestr + 'preds_3.npy')\n",
    "\n",
    "diff_plot(preds_1,\n",
    "          lr,\n",
    "          g,\n",
    "          aa, bb, \n",
    "          figsize = (w, h),\n",
    "          title = r'\\it $C$ Parametrization',\n",
    "          filename = 'plots/paper/c_mlc_vertical_relu.png')\n",
    "\n",
    "diff_plot(preds_2,\n",
    "          lr,\n",
    "          g,\n",
    "          aa, bb, \n",
    "          figsize = (w, h),\n",
    "          title = r'\\it $C$ Parametrization',\n",
    "          filename = 'plots/paper/c_mlc_vertical_square.png')\n",
    "\n",
    "diff_plot(preds_3,\n",
    "          lr,\n",
    "          g,\n",
    "          aa, bb, \n",
    "          figsize = (w, h),\n",
    "          title = r'\\it $C$ Parametrization',\n",
    "          filename = 'plots/paper/c_mlc_vertical_exponential.png')"
   ]
  },
  {
   "cell_type": "markdown",
   "id": "75c4c4fd-9a64-4fe5-8ae8-fd28e8ec12a6",
   "metadata": {},
   "source": [
    "##### MAEs"
   ]
  },
  {
   "cell_type": "code",
   "execution_count": 216,
   "id": "1125d7c5-7f09-4afe-ac05-aa7c3099c474",
   "metadata": {},
   "outputs": [
    {
     "name": "stdout",
     "output_type": "stream",
     "text": [
      "0.016557534906224067 0.14279898064555152 0.012754416093777204\n"
     ]
    }
   ],
   "source": [
    "avg_1 = np.load(filestr + 'avg_1.npy')\n",
    "avg_2 = np.load(filestr + 'avg_2.npy')\n",
    "avg_3 = np.load(filestr + 'avg_3.npy')\n",
    "\n",
    "print(avg_1, avg_2, avg_3)"
   ]
  },
  {
   "cell_type": "markdown",
   "id": "da1143bb-14dc-48fc-88ea-a7f288e82fab",
   "metadata": {
    "jp-MarkdownHeadingCollapsed": true,
    "tags": []
   },
   "source": [
    "#### SQR $C$ Parametrization"
   ]
  },
  {
   "cell_type": "code",
   "execution_count": 217,
   "id": "f6d3f732-fb82-464a-96ed-bafe5520f9a8",
   "metadata": {},
   "outputs": [],
   "source": [
    "# Experiment parameters\n",
    "num = 0\n",
    "reps = 100\n",
    "\n",
    "# Model parameters\n",
    "params_1 = {'loss':sqr, 'd':2, 'output': 'relu'}\n",
    "params_2 = {'loss':square_sqr, 'd':2, 'output': 'linear'}\n",
    "params_3 = {'loss':exp_sqr, 'd':2,  'output': 'linear'}\n",
    "\n",
    "filestr = 'models/multivariate/c_sqr/set_{}/'.format(num)\n",
    "filestr_1 = filestr + 'relu/model_{}.h5'\n",
    "filestr_2 = filestr + 'square/model_{}.h5'\n",
    "filestr_3 = filestr + 'exponential/model_{}.h5'\n",
    "\n",
    "# Data parameters\n",
    "N = 10**6\n",
    "X = np.load('data/mvn/vertical/X_trn.npy')[:N]\n",
    "y = np.load('data/mvn/vertical/y_trn.npy')[:N]\n",
    "data, m, s = split_data(X, y)\n",
    "\n",
    "# True distribution information\n",
    "mu_bkgd = np.array([-0.1, 0])\n",
    "mu_sgnl = np.array([+0.1, 0])\n",
    "sg_bkgd = np.eye(2)\n",
    "sg_sgnl = np.eye(2)\n",
    "\n",
    "bkgd = stats.multivariate_normal(mu_bkgd, sg_bkgd)\n",
    "sgnl = stats.multivariate_normal(mu_sgnl, sg_sgnl)\n",
    "\n",
    "lr = make_lr(bkgd, sgnl)\n",
    "mae = make_mae(bkgd, sgnl, 'data/mvn/vertical/')"
   ]
  },
  {
   "cell_type": "markdown",
   "id": "502eb48b-b414-4d01-b282-04e41e5ba0f0",
   "metadata": {
    "jp-MarkdownHeadingCollapsed": true,
    "tags": []
   },
   "source": [
    "##### Process"
   ]
  },
  {
   "cell_type": "raw",
   "id": "497bf49a-334b-4e64-8d76-03843918a921",
   "metadata": {},
   "source": [
    "lrs_1 = [None] * reps\n",
    "lrs_2 = [None] * reps\n",
    "lrs_3 = [None] * reps\n",
    "\n",
    "for i in range(reps):\n",
    "    model_1 = create_model(**params_1)\n",
    "    model_2 = create_model(**params_2)\n",
    "    model_3 = create_model(**params_3)\n",
    "    \n",
    "    model_1.load_weights(filestr_1.format(i))\n",
    "    model_2.load_weights(filestr_2.format(i))\n",
    "    model_3.load_weights(filestr_3.format(i))\n",
    "    \n",
    "    lrs_1[i] = pure_lr(model_1, m, s)\n",
    "    lrs_2[i] = square_lr(model_2, m, s)\n",
    "    lrs_3[i] = exp_lr(model_3, m, s)\n",
    "    \n",
    "# Calculate predictions\n",
    "g = np.meshgrid(np.linspace(-2, 2, 401), np.linspace(-2, 2, 401))\n",
    "g = np.append(g[0].reshape(-1, 1), g[1].reshape(-1, 1), axis = 1)\n",
    "aa, bb = np.meshgrid(np.linspace(-2.005, 2.005, 402), np.linspace(-2.005, 2.005, 402))\n",
    "\n",
    "preds_1 = avg_lr(get_preds(lrs_1, xs = g))\n",
    "preds_2 = avg_lr(get_preds(lrs_2, xs = g))\n",
    "preds_3 = avg_lr(get_preds(lrs_3, xs = g))\n",
    "\n",
    "# Calculate mean absolute errors\n",
    "maes_1 = [mae(lr) for lr in lrs_1]\n",
    "maes_2 = [mae(lr) for lr in lrs_2]\n",
    "maes_3 = [mae(lr) for lr in lrs_3]\n",
    "\n",
    "avg_1 = np.mean(maes_1)\n",
    "avg_2 = np.mean(maes_2)\n",
    "avg_3 = np.mean(maes_3)\n",
    "\n",
    "# Save results\n",
    "np.save(filestr + 'avg_1.npy', avg_1)\n",
    "np.save(filestr + 'avg_2.npy', avg_2)\n",
    "np.save(filestr + 'avg_3.npy', avg_3)\n",
    "\n",
    "np.save(filestr + 'g.npy', g)\n",
    "np.save(filestr + 'preds_1.npy', preds_1)\n",
    "np.save(filestr + 'preds_2.npy', preds_2)\n",
    "np.save(filestr + 'preds_3.npy', preds_3)"
   ]
  },
  {
   "cell_type": "markdown",
   "id": "a33c88ce-5f68-4e45-af6c-60740101e121",
   "metadata": {
    "jp-MarkdownHeadingCollapsed": true,
    "tags": []
   },
   "source": [
    "##### Likelihood Ratios"
   ]
  },
  {
   "cell_type": "code",
   "execution_count": null,
   "id": "43ed5d2f-78cb-4701-8820-e8c03efd853f",
   "metadata": {},
   "outputs": [],
   "source": [
    "g = np.load(filestr + 'g.npy')\n",
    "preds_1 = np.load(filestr + 'preds_1.npy')\n",
    "preds_2 = np.load(filestr + 'preds_2.npy')\n",
    "preds_3 = np.load(filestr + 'preds_3.npy')\n",
    "\n",
    "diff_plot(preds_1,\n",
    "          lr,\n",
    "          g,\n",
    "          aa, bb, \n",
    "          figsize = (w, h),\n",
    "          title = r'\\it $C$ Parametrization',\n",
    "          filename = 'plots/paper/c_sqr_vertical_relu.png')\n",
    "\n",
    "diff_plot(preds_2,\n",
    "          lr,\n",
    "          g,\n",
    "          aa, bb, \n",
    "          figsize = (w, h),\n",
    "          title = r'\\it $C$ Parametrization',\n",
    "          filename = 'plots/paper/c_sqr_vertical_square.png')\n",
    "\n",
    "diff_plot(preds_3,\n",
    "          lr,\n",
    "          g,\n",
    "          aa, bb, \n",
    "          figsize = (w, h),\n",
    "          title = r'\\it $C$ Parametrization',\n",
    "          filename = 'plots/paper/c_sqr_vertical_exponential.png')"
   ]
  },
  {
   "cell_type": "markdown",
   "id": "20f80b18-aa1f-4e36-8cb1-4967f4e59674",
   "metadata": {},
   "source": [
    "##### MAEs"
   ]
  },
  {
   "cell_type": "code",
   "execution_count": 218,
   "id": "2ecceae0-d67f-4a0e-8a40-0dd0378f1b7f",
   "metadata": {},
   "outputs": [
    {
     "name": "stdout",
     "output_type": "stream",
     "text": [
      "0.05198898136368592 0.7113595841266864 0.012801634137257212\n"
     ]
    }
   ],
   "source": [
    "avg_1 = np.load(filestr + 'avg_1.npy')\n",
    "avg_2 = np.load(filestr + 'avg_2.npy')\n",
    "avg_3 = np.load(filestr + 'avg_3.npy')\n",
    "\n",
    "print(avg_1, avg_2, avg_3)"
   ]
  },
  {
   "cell_type": "markdown",
   "id": "561164e5-f95c-4ad0-aff5-f1d604b258b9",
   "metadata": {
    "jp-MarkdownHeadingCollapsed": true,
    "tags": []
   },
   "source": [
    "### Case 1"
   ]
  },
  {
   "cell_type": "markdown",
   "id": "e82eacfa-43c6-4d81-aec6-3a68f1e54903",
   "metadata": {
    "jp-MarkdownHeadingCollapsed": true,
    "tags": []
   },
   "source": [
    "#### BCE $C$ Parametrization"
   ]
  },
  {
   "cell_type": "code",
   "execution_count": 219,
   "id": "511ae99a-f922-4b1e-ac01-2f39f9cb29cc",
   "metadata": {},
   "outputs": [],
   "source": [
    "# Experiment parameters\n",
    "num = 1\n",
    "reps = 100\n",
    "\n",
    "# Model parameters\n",
    "params_1 = {'loss':bce, 'd':2}\n",
    "params_2 = {'loss':tanh_bce, 'd':2, 'output': 'linear'}\n",
    "params_3 = {'loss':arctan_bce, 'd':2,  'output': 'linear'}\n",
    "\n",
    "filestr = 'models/multivariate/c_bce/set_{}/'.format(num)\n",
    "filestr_1 = filestr + 'sigmoid/model_{}.h5'\n",
    "filestr_2 = filestr + 'tanh/model_{}.h5'\n",
    "filestr_3 = filestr + 'arctan/model_{}.h5'\n",
    "\n",
    "# Data parameters\n",
    "N = 10**6\n",
    "X = np.load('data/mvn/slant/X_trn.npy')[:N]\n",
    "y = np.load('data/mvn/slant/y_trn.npy')[:N]\n",
    "data, m, s = split_data(X, y)\n",
    "\n",
    "# True distribution information\n",
    "b = 0.1 / (2 ** (0.5))\n",
    "mu_bkgd = np.array([-b, b])\n",
    "mu_sgnl = np.array([b, -b])\n",
    "sg_bkgd = np.eye(2)\n",
    "sg_sgnl = np.eye(2)\n",
    "\n",
    "bkgd = stats.multivariate_normal(mu_bkgd, sg_bkgd)\n",
    "sgnl = stats.multivariate_normal(mu_sgnl, sg_sgnl)\n",
    "\n",
    "lr = make_lr(bkgd, sgnl)\n",
    "mae = make_mae(bkgd, sgnl, 'data/mvn/slant/')"
   ]
  },
  {
   "cell_type": "markdown",
   "id": "26c8bc56-c1a2-43d0-9108-e768095eed3a",
   "metadata": {
    "jp-MarkdownHeadingCollapsed": true,
    "tags": []
   },
   "source": [
    "##### Process"
   ]
  },
  {
   "cell_type": "raw",
   "id": "6e5739e7-70d4-423b-a8cf-d22817a93a46",
   "metadata": {},
   "source": [
    "lrs_1 = [None] * reps\n",
    "lrs_2 = [None] * reps\n",
    "lrs_3 = [None] * reps\n",
    "\n",
    "for i in range(reps):\n",
    "    model_1 = create_model(**params_1)\n",
    "    model_2 = create_model(**params_2)\n",
    "    model_3 = create_model(**params_3)\n",
    "    \n",
    "    model_1.load_weights(filestr_1.format(i))\n",
    "    model_2.load_weights(filestr_2.format(i))\n",
    "    model_3.load_weights(filestr_3.format(i))\n",
    "    \n",
    "    lrs_1[i] = odds_lr(model_1, m, s)\n",
    "    lrs_2[i] = tanh_lr(model_2, m, s)\n",
    "    lrs_3[i] = arctan_lr(model_3, m, s)\n",
    "    \n",
    "# Calculate predictions\n",
    "g = np.meshgrid(np.linspace(-2, 2, 401), np.linspace(-2, 2, 401))\n",
    "g = np.append(g[0].reshape(-1, 1), g[1].reshape(-1, 1), axis = 1)\n",
    "aa, bb = np.meshgrid(np.linspace(-2.005, 2.005, 402), np.linspace(-2.005, 2.005, 402))\n",
    "\n",
    "preds_1 = avg_lr(get_preds(lrs_1, xs = g))\n",
    "preds_2 = avg_lr(get_preds(lrs_2, xs = g))\n",
    "preds_3 = avg_lr(get_preds(lrs_3, xs = g))\n",
    "\n",
    "# Calculate mean absolute errors\n",
    "maes_1 = [mae(lr) for lr in lrs_1]\n",
    "maes_2 = [mae(lr) for lr in lrs_2]\n",
    "maes_3 = [mae(lr) for lr in lrs_3]\n",
    "\n",
    "avg_1 = np.mean(maes_1)\n",
    "avg_2 = np.mean(maes_2)\n",
    "avg_3 = np.mean(maes_3)\n",
    "\n",
    "# Save results\n",
    "np.save(filestr + 'avg_1.npy', avg_1)\n",
    "np.save(filestr + 'avg_2.npy', avg_2)\n",
    "np.save(filestr + 'avg_3.npy', avg_3)\n",
    "\n",
    "np.save(filestr + 'g.npy', g)\n",
    "np.save(filestr + 'preds_1.npy', preds_1)\n",
    "np.save(filestr + 'preds_2.npy', preds_2)\n",
    "np.save(filestr + 'preds_3.npy', preds_3)"
   ]
  },
  {
   "cell_type": "markdown",
   "id": "33a691d9-33eb-4a9e-ab5b-8023ade35ca2",
   "metadata": {
    "jp-MarkdownHeadingCollapsed": true,
    "tags": []
   },
   "source": [
    "##### Likelihood Ratios"
   ]
  },
  {
   "cell_type": "code",
   "execution_count": null,
   "id": "3d809e0e-016e-4b3b-946f-3bda36b6acea",
   "metadata": {},
   "outputs": [],
   "source": [
    "g = np.load(filestr + 'g.npy')\n",
    "preds_1 = np.load(filestr + 'preds_1.npy')\n",
    "preds_2 = np.load(filestr + 'preds_2.npy')\n",
    "preds_3 = np.load(filestr + 'preds_3.npy')\n",
    "\n",
    "diff_plot(preds_1,\n",
    "          lr,\n",
    "          g,\n",
    "          aa, bb, \n",
    "          figsize = (w, h),\n",
    "          title = r'\\it $C$ Parametrization',\n",
    "          filename = 'plots/paper/c_bce_slant_sigmoid.png')\n",
    "\n",
    "diff_plot(preds_2,\n",
    "          lr,\n",
    "          g,\n",
    "          aa, bb, \n",
    "          figsize = (w, h),\n",
    "          title = r'\\it $C$ Parametrization',\n",
    "          filename = 'plots/paper/c_bce_slant_tanh.png')\n",
    "\n",
    "diff_plot(preds_3,\n",
    "          lr,\n",
    "          g,\n",
    "          aa, bb, \n",
    "          figsize = (w, h),\n",
    "          title = r'\\it $C$ Parametrization',\n",
    "          filename = 'plots/paper/c_bce_slant_arctan.png')"
   ]
  },
  {
   "cell_type": "markdown",
   "id": "582886e0-7ea6-4b30-8609-44fc726cc5d7",
   "metadata": {
    "tags": []
   },
   "source": [
    "##### MAEs"
   ]
  },
  {
   "cell_type": "code",
   "execution_count": 220,
   "id": "733ddbf4-f5b7-42c4-b3a1-e82d40ec2fe6",
   "metadata": {},
   "outputs": [
    {
     "name": "stdout",
     "output_type": "stream",
     "text": [
      "0.12387564760977243 0.12329865904639632 0.12370854626447328\n"
     ]
    }
   ],
   "source": [
    "avg_1 = np.load(filestr + 'avg_1.npy')\n",
    "avg_2 = np.load(filestr + 'avg_2.npy')\n",
    "avg_3 = np.load(filestr + 'avg_3.npy')\n",
    "\n",
    "print(avg_1, avg_2, avg_3)"
   ]
  },
  {
   "cell_type": "markdown",
   "id": "c0e0f3e7-976b-4ea7-abf4-52ed80f73b63",
   "metadata": {
    "jp-MarkdownHeadingCollapsed": true,
    "tags": []
   },
   "source": [
    "#### MSE $C$ Parametrization"
   ]
  },
  {
   "cell_type": "code",
   "execution_count": 221,
   "id": "32f4d5b9-3a2c-495e-a17f-741dbcd67eb4",
   "metadata": {},
   "outputs": [],
   "source": [
    "# Experiment parameters\n",
    "num = 1\n",
    "reps = 100\n",
    "\n",
    "# Model parameters\n",
    "params_1 = {'loss':mse, 'd':2}\n",
    "params_2 = {'loss':tanh_mse, 'd':2, 'output': 'linear'}\n",
    "params_3 = {'loss':arctan_mse, 'd':2,  'output': 'linear'}\n",
    "\n",
    "filestr = 'models/multivariate/c_mse/set_{}/'.format(num)\n",
    "filestr_1 = filestr + 'sigmoid/model_{}.h5'\n",
    "filestr_2 = filestr + 'tanh/model_{}.h5'\n",
    "filestr_3 = filestr + 'arctan/model_{}.h5'\n",
    "\n",
    "# Data parameters\n",
    "N = 10**6\n",
    "X = np.load('data/mvn/slant/X_trn.npy')[:N]\n",
    "y = np.load('data/mvn/slant/y_trn.npy')[:N]\n",
    "data, m, s = split_data(X, y)\n",
    "\n",
    "# True distribution information\n",
    "b = 0.1 / (2 ** (0.5))\n",
    "mu_bkgd = np.array([-b, b])\n",
    "mu_sgnl = np.array([b, -b])\n",
    "sg_bkgd = np.eye(2)\n",
    "sg_sgnl = np.eye(2)\n",
    "\n",
    "bkgd = stats.multivariate_normal(mu_bkgd, sg_bkgd)\n",
    "sgnl = stats.multivariate_normal(mu_sgnl, sg_sgnl)\n",
    "\n",
    "lr = make_lr(bkgd, sgnl)\n",
    "mae = make_mae(bkgd, sgnl, 'data/mvn/slant/')"
   ]
  },
  {
   "cell_type": "markdown",
   "id": "93a5be60-b31b-46ce-beec-a0668ead277b",
   "metadata": {
    "tags": []
   },
   "source": [
    "##### Process"
   ]
  },
  {
   "cell_type": "raw",
   "id": "38533fe0-b1b1-4059-a7d4-6b779488965a",
   "metadata": {},
   "source": [
    "lrs_1 = [None] * reps\n",
    "lrs_2 = [None] * reps\n",
    "lrs_3 = [None] * reps\n",
    "\n",
    "for i in range(reps):\n",
    "    model_1 = create_model(**params_1)\n",
    "    model_2 = create_model(**params_2)\n",
    "    model_3 = create_model(**params_3)\n",
    "    \n",
    "    model_1.load_weights(filestr_1.format(i))\n",
    "    model_2.load_weights(filestr_2.format(i))\n",
    "    model_3.load_weights(filestr_3.format(i))\n",
    "    \n",
    "    lrs_1[i] = odds_lr(model_1, m, s)\n",
    "    lrs_2[i] = tanh_lr(model_2, m, s)\n",
    "    lrs_3[i] = arctan_lr(model_3, m, s)\n",
    "    \n",
    "# Calculate predictions\n",
    "g = np.meshgrid(np.linspace(-2, 2, 401), np.linspace(-2, 2, 401))\n",
    "g = np.append(g[0].reshape(-1, 1), g[1].reshape(-1, 1), axis = 1)\n",
    "aa, bb = np.meshgrid(np.linspace(-2.005, 2.005, 402), np.linspace(-2.005, 2.005, 402))\n",
    "\n",
    "preds_1 = avg_lr(get_preds(lrs_1, xs = g))\n",
    "preds_2 = avg_lr(get_preds(lrs_2, xs = g))\n",
    "preds_3 = avg_lr(get_preds(lrs_3, xs = g))\n",
    "\n",
    "# Calculate mean absolute errors\n",
    "maes_1 = [mae(lr) for lr in lrs_1]\n",
    "maes_2 = [mae(lr) for lr in lrs_2]\n",
    "maes_3 = [mae(lr) for lr in lrs_3]\n",
    "\n",
    "avg_1 = np.mean(maes_1)\n",
    "avg_2 = np.mean(maes_2)\n",
    "avg_3 = np.mean(maes_3)\n",
    "\n",
    "# Save results\n",
    "np.save(filestr + 'avg_1.npy', avg_1)\n",
    "np.save(filestr + 'avg_2.npy', avg_2)\n",
    "np.save(filestr + 'avg_3.npy', avg_3)\n",
    "\n",
    "np.save(filestr + 'g.npy', g)\n",
    "np.save(filestr + 'preds_1.npy', preds_1)\n",
    "np.save(filestr + 'preds_2.npy', preds_2)\n",
    "np.save(filestr + 'preds_3.npy', preds_3)"
   ]
  },
  {
   "cell_type": "markdown",
   "id": "f5351f22-509c-4171-9ff3-37518e352867",
   "metadata": {
    "jp-MarkdownHeadingCollapsed": true,
    "tags": []
   },
   "source": [
    "##### Likelihood Ratio"
   ]
  },
  {
   "cell_type": "code",
   "execution_count": null,
   "id": "3d6bf37b-a02b-4375-9446-017927ae7ac2",
   "metadata": {},
   "outputs": [],
   "source": [
    "g = np.load(filestr + 'g.npy')\n",
    "preds_1 = np.load(filestr + 'preds_1.npy')\n",
    "preds_2 = np.load(filestr + 'preds_2.npy')\n",
    "preds_3 = np.load(filestr + 'preds_3.npy')\n",
    "\n",
    "diff_plot(preds_1,\n",
    "          lr,\n",
    "          g,\n",
    "          aa, bb, \n",
    "          figsize = (w, h),\n",
    "          title = r'\\it $C$ Parametrization',\n",
    "          filename = 'plots/paper/c_mse_slant_sigmoid.png')\n",
    "\n",
    "diff_plot(preds_2,\n",
    "          lr,\n",
    "          g,\n",
    "          aa, bb, \n",
    "          figsize = (w, h),\n",
    "          title = r'\\it $C$ Parametrization',\n",
    "          filename = 'plots/paper/c_mse_slant_tanh.png')\n",
    "\n",
    "diff_plot(preds_3,\n",
    "          lr,\n",
    "          g,\n",
    "          aa, bb, \n",
    "          figsize = (w, h),\n",
    "          title = r'\\it $C$ Parametrization',\n",
    "          filename = 'plots/paper/c_mse_slant_arctan.png')"
   ]
  },
  {
   "cell_type": "markdown",
   "id": "bb3a4303-a8ad-4732-ac52-e747299cd4e2",
   "metadata": {
    "jp-MarkdownHeadingCollapsed": true,
    "tags": []
   },
   "source": [
    "##### MAEs"
   ]
  },
  {
   "cell_type": "code",
   "execution_count": 222,
   "id": "1ab81d90-a630-424b-80e3-d15830b28305",
   "metadata": {},
   "outputs": [
    {
     "name": "stdout",
     "output_type": "stream",
     "text": [
      "0.12377026393728098 0.12296880861881988 0.12339298440292407\n"
     ]
    }
   ],
   "source": [
    "avg_1 = np.load(filestr + 'avg_1.npy')\n",
    "avg_2 = np.load(filestr + 'avg_2.npy')\n",
    "avg_3 = np.load(filestr + 'avg_3.npy')\n",
    "\n",
    "print(avg_1, avg_2, avg_3)"
   ]
  },
  {
   "cell_type": "markdown",
   "id": "b88c1d0b-04f0-4257-83b9-3fdc5ba13d75",
   "metadata": {
    "jp-MarkdownHeadingCollapsed": true,
    "tags": []
   },
   "source": [
    "#### MLC $C$ Parametrization"
   ]
  },
  {
   "cell_type": "code",
   "execution_count": 223,
   "id": "473ac204-d7f8-40a7-af46-2fabfbbde4ce",
   "metadata": {},
   "outputs": [],
   "source": [
    "# Experiment parameters\n",
    "num = 1\n",
    "reps = 100\n",
    "\n",
    "# Model parameters\n",
    "params_1 = {'loss':mlc, 'd':2, 'output': 'relu'}\n",
    "params_2 = {'loss':square_mlc, 'd':2, 'output': 'linear'}\n",
    "params_3 = {'loss':exp_mlc, 'd':2,  'output': 'linear'}\n",
    "\n",
    "filestr = 'models/multivariate/c_mlc/set_{}/'.format(num)\n",
    "filestr_1 = filestr + 'relu/model_{}.h5'\n",
    "filestr_2 = filestr + 'square/model_{}.h5'\n",
    "filestr_3 = filestr + 'exponential/model_{}.h5'\n",
    "\n",
    "# Data parameters\n",
    "N = 10**6\n",
    "X = np.load('data/mvn/slant/X_trn.npy')[:N]\n",
    "y = np.load('data/mvn/slant/y_trn.npy')[:N]\n",
    "data, m, s = split_data(X, y)\n",
    "\n",
    "# True distribution information\n",
    "b = 0.1 / (2 ** (0.5))\n",
    "mu_bkgd = np.array([-b, b])\n",
    "mu_sgnl = np.array([b, -b])\n",
    "sg_bkgd = np.eye(2)\n",
    "sg_sgnl = np.eye(2)\n",
    "\n",
    "bkgd = stats.multivariate_normal(mu_bkgd, sg_bkgd)\n",
    "sgnl = stats.multivariate_normal(mu_sgnl, sg_sgnl)\n",
    "\n",
    "lr = make_lr(bkgd, sgnl)\n",
    "mae = make_mae(bkgd, sgnl, 'data/mvn/slant/')"
   ]
  },
  {
   "cell_type": "markdown",
   "id": "f3fe2b6c-3bde-44d5-9f8a-fbdf7c639ee9",
   "metadata": {
    "jp-MarkdownHeadingCollapsed": true,
    "tags": []
   },
   "source": [
    "##### Process"
   ]
  },
  {
   "cell_type": "raw",
   "id": "0913d2cc-fa03-4a71-9977-092e039d4268",
   "metadata": {},
   "source": [
    "lrs_1 = [None] * reps\n",
    "lrs_2 = [None] * reps\n",
    "lrs_3 = [None] * reps\n",
    "\n",
    "for i in range(reps):\n",
    "    model_1 = create_model(**params_1)\n",
    "    model_2 = create_model(**params_2)\n",
    "    model_3 = create_model(**params_3)\n",
    "    \n",
    "    model_1.load_weights(filestr_1.format(i))\n",
    "    model_2.load_weights(filestr_2.format(i))\n",
    "    model_3.load_weights(filestr_3.format(i))\n",
    "    \n",
    "    lrs_1[i] = pure_lr(model_1, m, s)\n",
    "    lrs_2[i] = square_lr(model_2, m, s)\n",
    "    lrs_3[i] = exp_lr(model_3, m, s)\n",
    "    \n",
    "# Calculate predictions\n",
    "g = np.meshgrid(np.linspace(-2, 2, 401), np.linspace(-2, 2, 401))\n",
    "g = np.append(g[0].reshape(-1, 1), g[1].reshape(-1, 1), axis = 1)\n",
    "aa, bb = np.meshgrid(np.linspace(-2.005, 2.005, 402), np.linspace(-2.005, 2.005, 402))\n",
    "\n",
    "preds_1 = avg_lr(get_preds(lrs_1, xs = g))\n",
    "preds_2 = avg_lr(get_preds(lrs_2, xs = g))\n",
    "preds_3 = avg_lr(get_preds(lrs_3, xs = g))\n",
    "\n",
    "# Calculate mean absolute errors\n",
    "maes_1 = [mae(lr) for lr in lrs_1]\n",
    "maes_2 = [mae(lr) for lr in lrs_2]\n",
    "maes_3 = [mae(lr) for lr in lrs_3]\n",
    "\n",
    "avg_1 = np.mean(maes_1)\n",
    "avg_2 = np.mean(maes_2)\n",
    "avg_3 = np.mean(maes_3)\n",
    "\n",
    "# Save results\n",
    "np.save(filestr + 'avg_1.npy', avg_1)\n",
    "np.save(filestr + 'avg_2.npy', avg_2)\n",
    "np.save(filestr + 'avg_3.npy', avg_3)\n",
    "\n",
    "np.save(filestr + 'g.npy', g)\n",
    "np.save(filestr + 'preds_1.npy', preds_1)\n",
    "np.save(filestr + 'preds_2.npy', preds_2)\n",
    "np.save(filestr + 'preds_3.npy', preds_3)"
   ]
  },
  {
   "cell_type": "markdown",
   "id": "072158ac-fa25-4096-9ec9-a6ec3159adb6",
   "metadata": {
    "jp-MarkdownHeadingCollapsed": true,
    "tags": []
   },
   "source": [
    "##### Likelihood Ratios"
   ]
  },
  {
   "cell_type": "code",
   "execution_count": null,
   "id": "4b66aa72-c282-464a-9fd6-c86e210bcc77",
   "metadata": {},
   "outputs": [],
   "source": [
    "g = np.load(filestr + 'g.npy')\n",
    "preds_1 = np.load(filestr + 'preds_1.npy')\n",
    "preds_2 = np.load(filestr + 'preds_2.npy')\n",
    "preds_3 = np.load(filestr + 'preds_3.npy')\n",
    "\n",
    "diff_plot(preds_1,\n",
    "          lr,\n",
    "          g,\n",
    "          aa, bb, \n",
    "          figsize = (w, h),\n",
    "          title = r'\\it $C$ Parametrization',\n",
    "          filename = 'plots/paper/c_mlc_slant_relu.png')\n",
    "\n",
    "diff_plot(preds_2,\n",
    "          lr,\n",
    "          g,\n",
    "          aa, bb, \n",
    "          figsize = (w, h),\n",
    "          title = r'\\it $C$ Parametrization',\n",
    "          filename = 'plots/paper/c_mlc_slant_square.png')\n",
    "\n",
    "diff_plot(preds_3,\n",
    "          lr,\n",
    "          g,\n",
    "          aa, bb, \n",
    "          figsize = (w, h),\n",
    "          title = r'\\it $C$ Parametrization',\n",
    "          filename = 'plots/paper/c_mlc_slant_exponential.png')"
   ]
  },
  {
   "cell_type": "markdown",
   "id": "5a2e3a79-74c6-4dde-8c5c-ba0653d163b3",
   "metadata": {},
   "source": [
    "##### MAEs"
   ]
  },
  {
   "cell_type": "code",
   "execution_count": 224,
   "id": "033a8285-7f87-4a9e-ba6b-5be5c66f9484",
   "metadata": {},
   "outputs": [
    {
     "name": "stdout",
     "output_type": "stream",
     "text": [
      "0.12502092687068275 0.21408180136619162 0.12379316631689628\n"
     ]
    }
   ],
   "source": [
    "avg_1 = np.load(filestr + 'avg_1.npy')\n",
    "avg_2 = np.load(filestr + 'avg_2.npy')\n",
    "avg_3 = np.load(filestr + 'avg_3.npy')\n",
    "\n",
    "print(avg_1, avg_2, avg_3)"
   ]
  },
  {
   "cell_type": "markdown",
   "id": "12c110ce-af81-467f-892e-393666809d61",
   "metadata": {
    "tags": []
   },
   "source": [
    "#### SQR $C$ Parametrization"
   ]
  },
  {
   "cell_type": "code",
   "execution_count": 225,
   "id": "1a9adad4-210e-4c31-a091-20b9c0c3a5d2",
   "metadata": {},
   "outputs": [],
   "source": [
    "# Experiment parameters\n",
    "num = 1\n",
    "reps = 100\n",
    "\n",
    "# Model parameters\n",
    "params_1 = {'loss':sqr, 'd':2, 'output': 'relu'}\n",
    "params_2 = {'loss':square_sqr, 'd':2, 'output': 'linear'}\n",
    "params_3 = {'loss':exp_sqr, 'd':2,  'output': 'linear'}\n",
    "\n",
    "filestr = 'models/multivariate/c_sqr/set_{}/'.format(num)\n",
    "filestr_1 = filestr + 'relu/model_{}.h5'\n",
    "filestr_2 = filestr + 'square/model_{}.h5'\n",
    "filestr_3 = filestr + 'exponential/model_{}.h5'\n",
    "\n",
    "# Data parameters\n",
    "N = 10**6\n",
    "X = np.load('data/mvn/slant/X_trn.npy')[:N]\n",
    "y = np.load('data/mvn/slant/y_trn.npy')[:N]\n",
    "data, m, s = split_data(X, y)\n",
    "\n",
    "# True distribution information\n",
    "b = 0.1 / (2 ** (0.5))\n",
    "mu_bkgd = np.array([-b, b])\n",
    "mu_sgnl = np.array([b, -b])\n",
    "sg_bkgd = np.eye(2)\n",
    "sg_sgnl = np.eye(2)\n",
    "\n",
    "bkgd = stats.multivariate_normal(mu_bkgd, sg_bkgd)\n",
    "sgnl = stats.multivariate_normal(mu_sgnl, sg_sgnl)\n",
    "\n",
    "lr = make_lr(bkgd, sgnl)\n",
    "mae = make_mae(bkgd, sgnl, 'data/mvn/slant/')"
   ]
  },
  {
   "cell_type": "markdown",
   "id": "28aaaadd-61f7-41a0-a45c-bcd62938c905",
   "metadata": {
    "jp-MarkdownHeadingCollapsed": true,
    "tags": []
   },
   "source": [
    "##### Process"
   ]
  },
  {
   "cell_type": "raw",
   "id": "7b3f1c18-58ad-463c-9915-6842ae5b5b6c",
   "metadata": {},
   "source": [
    "lrs_1 = [None] * reps\n",
    "lrs_2 = [None] * reps\n",
    "lrs_3 = [None] * reps\n",
    "\n",
    "for i in range(reps):\n",
    "    model_1 = create_model(**params_1)\n",
    "    model_2 = create_model(**params_2)\n",
    "    model_3 = create_model(**params_3)\n",
    "    \n",
    "    model_1.load_weights(filestr_1.format(i))\n",
    "    model_2.load_weights(filestr_2.format(i))\n",
    "    model_3.load_weights(filestr_3.format(i))\n",
    "    \n",
    "    lrs_1[i] = pure_lr(model_1, m, s)\n",
    "    lrs_2[i] = square_lr(model_2, m, s)\n",
    "    lrs_3[i] = exp_lr(model_3, m, s)\n",
    "    \n",
    "# Calculate predictions\n",
    "g = np.meshgrid(np.linspace(-2, 2, 401), np.linspace(-2, 2, 401))\n",
    "g = np.append(g[0].reshape(-1, 1), g[1].reshape(-1, 1), axis = 1)\n",
    "aa, bb = np.meshgrid(np.linspace(-2.005, 2.005, 402), np.linspace(-2.005, 2.005, 402))\n",
    "\n",
    "preds_1 = avg_lr(get_preds(lrs_1, xs = g))\n",
    "preds_2 = avg_lr(get_preds(lrs_2, xs = g))\n",
    "preds_3 = avg_lr(get_preds(lrs_3, xs = g))\n",
    "\n",
    "# Calculate mean absolute errors\n",
    "maes_1 = [mae(lr) for lr in lrs_1]\n",
    "maes_2 = [mae(lr) for lr in lrs_2]\n",
    "maes_3 = [mae(lr) for lr in lrs_3]\n",
    "\n",
    "avg_1 = np.mean(maes_1)\n",
    "avg_2 = np.mean(maes_2)\n",
    "avg_3 = np.mean(maes_3)\n",
    "\n",
    "# Save results\n",
    "np.save(filestr + 'avg_1.npy', avg_1)\n",
    "np.save(filestr + 'avg_2.npy', avg_2)\n",
    "np.save(filestr + 'avg_3.npy', avg_3)\n",
    "\n",
    "np.save(filestr + 'g.npy', g)\n",
    "np.save(filestr + 'preds_1.npy', preds_1)\n",
    "np.save(filestr + 'preds_2.npy', preds_2)\n",
    "np.save(filestr + 'preds_3.npy', preds_3)"
   ]
  },
  {
   "cell_type": "markdown",
   "id": "a9f816e1-c95f-434e-a613-aec9195eb942",
   "metadata": {
    "jp-MarkdownHeadingCollapsed": true,
    "tags": []
   },
   "source": [
    "##### Likelihood Ratios"
   ]
  },
  {
   "cell_type": "code",
   "execution_count": null,
   "id": "bafb9994-525e-49f4-9882-061f2610ec0d",
   "metadata": {},
   "outputs": [],
   "source": [
    "g = np.load(filestr + 'g.npy')\n",
    "preds_1 = np.load(filestr + 'preds_1.npy')\n",
    "preds_2 = np.load(filestr + 'preds_2.npy')\n",
    "preds_3 = np.load(filestr + 'preds_3.npy')\n",
    "\n",
    "diff_plot(preds_1,\n",
    "          lr,\n",
    "          g,\n",
    "          aa, bb, \n",
    "          figsize = (w, h),\n",
    "          title = r'\\it $C$ Parametrization',\n",
    "          filename = 'plots/paper/c_sqr_slant_relu.png')\n",
    "\n",
    "diff_plot(preds_2,\n",
    "          lr,\n",
    "          g,\n",
    "          aa, bb, \n",
    "          figsize = (w, h),\n",
    "          title = r'\\it $C$ Parametrization',\n",
    "          filename = 'plots/paper/c_sqr_slant_square.png')\n",
    "\n",
    "diff_plot(preds_3,\n",
    "          lr,\n",
    "          g,\n",
    "          aa, bb, \n",
    "          figsize = (w, h),\n",
    "          title = r'\\it $C$ Parametrization',\n",
    "          filename = 'plots/paper/c_sqr_slant_exponential.png')"
   ]
  },
  {
   "cell_type": "markdown",
   "id": "dd66e65e-e73d-4530-a342-c17c14bcaf8e",
   "metadata": {},
   "source": [
    "##### MAEs"
   ]
  },
  {
   "cell_type": "code",
   "execution_count": 226,
   "id": "271f9b8e-1b65-4672-be58-c3c882d97c1c",
   "metadata": {},
   "outputs": [
    {
     "name": "stdout",
     "output_type": "stream",
     "text": [
      "0.057194784433545004 0.7912341442436691 0.011429683027282816\n"
     ]
    }
   ],
   "source": [
    "avg_1 = np.load(filestr + 'avg_1.npy')\n",
    "avg_2 = np.load(filestr + 'avg_2.npy')\n",
    "avg_3 = np.load(filestr + 'avg_3.npy')\n",
    "\n",
    "print(avg_1, avg_2, avg_3)"
   ]
  },
  {
   "cell_type": "markdown",
   "id": "64d375ab-5fe6-48f4-b0e1-d74ff23d1ed4",
   "metadata": {
    "jp-MarkdownHeadingCollapsed": true,
    "tags": []
   },
   "source": [
    "### Case 2"
   ]
  },
  {
   "cell_type": "markdown",
   "id": "005ddafc-03ec-4d7a-9ae2-a08d1146d06e",
   "metadata": {
    "tags": []
   },
   "source": [
    "#### BCE $C$ Parametrization"
   ]
  },
  {
   "cell_type": "code",
   "execution_count": 227,
   "id": "e17abde5-672f-4b9a-98fa-f57fc216ecdb",
   "metadata": {},
   "outputs": [],
   "source": [
    "# Experiment parameters\n",
    "num = 2\n",
    "reps = 100\n",
    "\n",
    "# Model parameters\n",
    "params_1 = {'loss':bce, 'd':2}\n",
    "params_2 = {'loss':tanh_bce, 'd':2, 'output': 'linear'}\n",
    "params_3 = {'loss':arctan_bce, 'd':2,  'output': 'linear'}\n",
    "\n",
    "filestr = 'models/multivariate/c_bce/set_{}/'.format(num)\n",
    "filestr_1 = filestr + 'sigmoid/model_{}.h5'\n",
    "filestr_2 = filestr + 'tanh/model_{}.h5'\n",
    "filestr_3 = filestr + 'arctan/model_{}.h5'\n",
    "\n",
    "# Data parameters\n",
    "N = 10**6\n",
    "X = np.load('data/mvn/circle/X_trn.npy')[:N]\n",
    "y = np.load('data/mvn/circle/y_trn.npy')[:N]\n",
    "data, m, s = split_data(X, y)\n",
    "\n",
    "# True distribution information\n",
    "mu_bkgd = np.array([-0.1, 0])\n",
    "mu_sgnl = np.array([0.1, 0])\n",
    "sg_bkgd = 2*np.eye(2)\n",
    "sg_sgnl = np.eye(2)\n",
    "\n",
    "bkgd = stats.multivariate_normal(mu_bkgd, sg_bkgd)\n",
    "sgnl = stats.multivariate_normal(mu_sgnl, sg_sgnl)\n",
    "\n",
    "lr = make_lr(bkgd, sgnl)\n",
    "mae = make_mae(bkgd, sgnl, 'data/mvn/circle/')"
   ]
  },
  {
   "cell_type": "markdown",
   "id": "90bdaddd-45bc-4482-97b2-3d5fccafb98c",
   "metadata": {
    "jp-MarkdownHeadingCollapsed": true,
    "tags": []
   },
   "source": [
    "##### Process"
   ]
  },
  {
   "cell_type": "raw",
   "id": "98f238b7-ba66-4acc-b0f0-5db937fcb81a",
   "metadata": {},
   "source": [
    "lrs_1 = [None] * reps\n",
    "lrs_2 = [None] * reps\n",
    "lrs_3 = [None] * reps\n",
    "\n",
    "for i in range(reps):\n",
    "    model_1 = create_model(**params_1)\n",
    "    model_2 = create_model(**params_2)\n",
    "    model_3 = create_model(**params_3)\n",
    "    \n",
    "    model_1.load_weights(filestr_1.format(i))\n",
    "    model_2.load_weights(filestr_2.format(i))\n",
    "    model_3.load_weights(filestr_3.format(i))\n",
    "    \n",
    "    lrs_1[i] = odds_lr(model_1, m, s)\n",
    "    lrs_2[i] = tanh_lr(model_2, m, s)\n",
    "    lrs_3[i] = arctan_lr(model_3, m, s)\n",
    "    \n",
    "# Calculate predictions\n",
    "g = np.meshgrid(np.linspace(-2, 2, 401), np.linspace(-2, 2, 401))\n",
    "g = np.append(g[0].reshape(-1, 1), g[1].reshape(-1, 1), axis = 1)\n",
    "aa, bb = np.meshgrid(np.linspace(-2.005, 2.005, 402), np.linspace(-2.005, 2.005, 402))\n",
    "\n",
    "preds_1 = avg_lr(get_preds(lrs_1, xs = g))\n",
    "preds_2 = avg_lr(get_preds(lrs_2, xs = g))\n",
    "preds_3 = avg_lr(get_preds(lrs_3, xs = g))\n",
    "\n",
    "# Calculate mean absolute errors\n",
    "maes_1 = [mae(lr) for lr in lrs_1]\n",
    "maes_2 = [mae(lr) for lr in lrs_2]\n",
    "maes_3 = [mae(lr) for lr in lrs_3]\n",
    "\n",
    "avg_1 = np.mean(maes_1)\n",
    "avg_2 = np.mean(maes_2)\n",
    "avg_3 = np.mean(maes_3)\n",
    "\n",
    "# Save results\n",
    "np.save(filestr + 'avg_1.npy', avg_1)\n",
    "np.save(filestr + 'avg_2.npy', avg_2)\n",
    "np.save(filestr + 'avg_3.npy', avg_3)\n",
    "\n",
    "np.save(filestr + 'g.npy', g)\n",
    "np.save(filestr + 'preds_1.npy', preds_1)\n",
    "np.save(filestr + 'preds_2.npy', preds_2)\n",
    "np.save(filestr + 'preds_3.npy', preds_3)"
   ]
  },
  {
   "cell_type": "markdown",
   "id": "9ab248db-79ff-4ef8-a20b-aeb1fa51d6a9",
   "metadata": {
    "jp-MarkdownHeadingCollapsed": true,
    "tags": []
   },
   "source": [
    "##### Likelihood Ratios"
   ]
  },
  {
   "cell_type": "code",
   "execution_count": null,
   "id": "9f340985-a708-4b82-ad58-40aa1ada88cc",
   "metadata": {},
   "outputs": [],
   "source": [
    "g = np.load(filestr + 'g.npy')\n",
    "preds_1 = np.load(filestr + 'preds_1.npy')\n",
    "preds_2 = np.load(filestr + 'preds_2.npy')\n",
    "preds_3 = np.load(filestr + 'preds_3.npy')\n",
    "\n",
    "diff_plot(preds_1,\n",
    "          lr,\n",
    "          g,\n",
    "          aa, bb, \n",
    "          figsize = (w, h),\n",
    "          title = r'\\it $C$ Parametrization',\n",
    "          filename = 'plots/paper/c_bce_circle_sigmoid.png')\n",
    "\n",
    "diff_plot(preds_2,\n",
    "          lr,\n",
    "          g,\n",
    "          aa, bb, \n",
    "          figsize = (w, h),\n",
    "          title = r'\\it $C$ Parametrization',\n",
    "          filename = 'plots/paper/c_bce_circle_tanh.png')\n",
    "\n",
    "diff_plot(preds_3,\n",
    "          lr,\n",
    "          g,\n",
    "          aa, bb, \n",
    "          figsize = (w, h),\n",
    "          title = r'\\it $C$ Parametrization',\n",
    "          filename = 'plots/paper/c_bce_circle_arctan.png')"
   ]
  },
  {
   "cell_type": "markdown",
   "id": "ca2cc0c4-edd1-478f-b7d7-7b09683b5a4f",
   "metadata": {
    "tags": []
   },
   "source": [
    "##### MAEs"
   ]
  },
  {
   "cell_type": "code",
   "execution_count": 228,
   "id": "f7d5affe-3f34-4670-9d16-09d26618ec19",
   "metadata": {},
   "outputs": [
    {
     "name": "stdout",
     "output_type": "stream",
     "text": [
      "0.06815905748949355 0.08242437113743177 0.05453451801525949\n"
     ]
    }
   ],
   "source": [
    "avg_1 = np.load(filestr + 'avg_1.npy')\n",
    "avg_2 = np.load(filestr + 'avg_2.npy')\n",
    "avg_3 = np.load(filestr + 'avg_3.npy')\n",
    "\n",
    "print(avg_1, avg_2, avg_3)"
   ]
  },
  {
   "cell_type": "markdown",
   "id": "48b7a860-4aae-4e1d-a93b-c5e415c04dbc",
   "metadata": {
    "tags": []
   },
   "source": [
    "#### MSE $C$ Parametrization"
   ]
  },
  {
   "cell_type": "code",
   "execution_count": 229,
   "id": "3ee7c2dc-f697-43fb-a8a3-bd8eb6bffbcd",
   "metadata": {},
   "outputs": [],
   "source": [
    "# Experiment parameters\n",
    "num = 2\n",
    "reps = 100\n",
    "\n",
    "# Model parameters\n",
    "params_1 = {'loss':mse, 'd':2}\n",
    "params_2 = {'loss':tanh_mse, 'd':2, 'output': 'linear'}\n",
    "params_3 = {'loss':arctan_mse, 'd':2,  'output': 'linear'}\n",
    "\n",
    "filestr = 'models/multivariate/c_mse/set_{}/'.format(num)\n",
    "filestr_1 = filestr + 'sigmoid/model_{}.h5'\n",
    "filestr_2 = filestr + 'tanh/model_{}.h5'\n",
    "filestr_3 = filestr + 'arctan/model_{}.h5'\n",
    "\n",
    "# Data parameters\n",
    "N = 10**6\n",
    "X = np.load('data/mvn/circle/X_trn.npy')[:N]\n",
    "y = np.load('data/mvn/circle/y_trn.npy')[:N]\n",
    "data, m, s = split_data(X, y)\n",
    "\n",
    "# True distribution information\n",
    "mu_bkgd = np.array([-0.1, 0])\n",
    "mu_sgnl = np.array([0.1, 0])\n",
    "sg_bkgd = 2*np.eye(2)\n",
    "sg_sgnl = np.eye(2)\n",
    "\n",
    "bkgd = stats.multivariate_normal(mu_bkgd, sg_bkgd)\n",
    "sgnl = stats.multivariate_normal(mu_sgnl, sg_sgnl)\n",
    "\n",
    "lr = make_lr(bkgd, sgnl)\n",
    "mae = make_mae(bkgd, sgnl, 'data/mvn/circle/')"
   ]
  },
  {
   "cell_type": "markdown",
   "id": "eaee15de-0544-4082-84b0-dd8f38b12fb4",
   "metadata": {
    "jp-MarkdownHeadingCollapsed": true,
    "tags": []
   },
   "source": [
    "##### Process"
   ]
  },
  {
   "cell_type": "raw",
   "id": "ba455a84-2ca9-4ddf-861c-11c406bf67cb",
   "metadata": {},
   "source": [
    "lrs_1 = [None] * reps\n",
    "lrs_2 = [None] * reps\n",
    "lrs_3 = [None] * reps\n",
    "\n",
    "for i in range(reps):\n",
    "    model_1 = create_model(**params_1)\n",
    "    model_2 = create_model(**params_2)\n",
    "    model_3 = create_model(**params_3)\n",
    "    \n",
    "    model_1.load_weights(filestr_1.format(i))\n",
    "    model_2.load_weights(filestr_2.format(i))\n",
    "    model_3.load_weights(filestr_3.format(i))\n",
    "    \n",
    "    lrs_1[i] = odds_lr(model_1, m, s)\n",
    "    lrs_2[i] = tanh_lr(model_2, m, s)\n",
    "    lrs_3[i] = arctan_lr(model_3, m, s)\n",
    "    \n",
    "# Calculate predictions\n",
    "g = np.meshgrid(np.linspace(-2, 2, 401), np.linspace(-2, 2, 401))\n",
    "g = np.append(g[0].reshape(-1, 1), g[1].reshape(-1, 1), axis = 1)\n",
    "aa, bb = np.meshgrid(np.linspace(-2.005, 2.005, 402), np.linspace(-2.005, 2.005, 402))\n",
    "\n",
    "preds_1 = avg_lr(get_preds(lrs_1, xs = g))\n",
    "preds_2 = avg_lr(get_preds(lrs_2, xs = g))\n",
    "preds_3 = avg_lr(get_preds(lrs_3, xs = g))\n",
    "\n",
    "# Calculate mean absolute errors\n",
    "maes_1 = [mae(lr) for lr in lrs_1]\n",
    "maes_2 = [mae(lr) for lr in lrs_2]\n",
    "maes_3 = [mae(lr) for lr in lrs_3]\n",
    "\n",
    "avg_1 = np.mean(maes_1)\n",
    "avg_2 = np.mean(maes_2)\n",
    "avg_3 = np.mean(maes_3)\n",
    "\n",
    "# Save results\n",
    "np.save(filestr + 'avg_1.npy', avg_1)\n",
    "np.save(filestr + 'avg_2.npy', avg_2)\n",
    "np.save(filestr + 'avg_3.npy', avg_3)\n",
    "\n",
    "np.save(filestr + 'g.npy', g)\n",
    "np.save(filestr + 'preds_1.npy', preds_1)\n",
    "np.save(filestr + 'preds_2.npy', preds_2)\n",
    "np.save(filestr + 'preds_3.npy', preds_3)"
   ]
  },
  {
   "cell_type": "markdown",
   "id": "122238cc-d912-40c5-bafb-3215223cc1c6",
   "metadata": {
    "jp-MarkdownHeadingCollapsed": true,
    "tags": []
   },
   "source": [
    "##### Likelihood Ratio"
   ]
  },
  {
   "cell_type": "code",
   "execution_count": null,
   "id": "62edb103-6ad7-4a9b-9022-4193ed1ea9da",
   "metadata": {},
   "outputs": [],
   "source": [
    "g = np.load(filestr + 'g.npy')\n",
    "preds_1 = np.load(filestr + 'preds_1.npy')\n",
    "preds_2 = np.load(filestr + 'preds_2.npy')\n",
    "preds_3 = np.load(filestr + 'preds_3.npy')\n",
    "\n",
    "diff_plot(preds_1,\n",
    "          lr,\n",
    "          g,\n",
    "          aa, bb, \n",
    "          figsize = (w, h),\n",
    "          title = r'\\it $C$ Parametrization',\n",
    "          filename = 'plots/paper/c_mse_circle_sigmoid.png')\n",
    "\n",
    "diff_plot(preds_2,\n",
    "          lr,\n",
    "          g,\n",
    "          aa, bb, \n",
    "          figsize = (w, h),\n",
    "          title = r'\\it $C$ Parametrization',\n",
    "          filename = 'plots/paper/c_mse_circle_tanh.png')\n",
    "\n",
    "diff_plot(preds_3,\n",
    "          lr,\n",
    "          g,\n",
    "          aa, bb, \n",
    "          figsize = (w, h),\n",
    "          title = r'\\it $C$ Parametrization',\n",
    "          filename = 'plots/paper/c_mse_circle_arctan.png')"
   ]
  },
  {
   "cell_type": "markdown",
   "id": "9fe0c2dd-5411-4bdc-a596-783f60b08839",
   "metadata": {},
   "source": [
    "##### MAEs"
   ]
  },
  {
   "cell_type": "code",
   "execution_count": 230,
   "id": "60cd7b94-84a7-4ab0-92ee-8a06cb10c931",
   "metadata": {},
   "outputs": [
    {
     "name": "stdout",
     "output_type": "stream",
     "text": [
      "0.06307058925340471 0.07399602951515391 0.06337892659379213\n"
     ]
    }
   ],
   "source": [
    "avg_1 = np.load(filestr + 'avg_1.npy')\n",
    "avg_2 = np.load(filestr + 'avg_2.npy')\n",
    "avg_3 = np.load(filestr + 'avg_3.npy')\n",
    "\n",
    "print(avg_1, avg_2, avg_3)"
   ]
  },
  {
   "cell_type": "markdown",
   "id": "257990d8-8464-49a4-96b0-335803ef3c41",
   "metadata": {
    "tags": []
   },
   "source": [
    "#### MLC $C$ Parametrization"
   ]
  },
  {
   "cell_type": "code",
   "execution_count": 231,
   "id": "6c39950f-1db3-4cae-bf87-34c227b2b728",
   "metadata": {},
   "outputs": [],
   "source": [
    "# Experiment parameters\n",
    "num = 2\n",
    "reps = 100\n",
    "\n",
    "# Model parameters\n",
    "params_1 = {'loss':mlc, 'd':2, 'output': 'relu'}\n",
    "params_2 = {'loss':square_mlc, 'd':2, 'output': 'linear'}\n",
    "params_3 = {'loss':exp_mlc, 'd':2,  'output': 'linear'}\n",
    "\n",
    "filestr = 'models/multivariate/c_mlc/set_{}/'.format(num)\n",
    "filestr_1 = filestr + 'relu/model_{}.h5'\n",
    "filestr_2 = filestr + 'square/model_{}.h5'\n",
    "filestr_3 = filestr + 'exponential/model_{}.h5'\n",
    "\n",
    "# Data parameters\n",
    "N = 10**6\n",
    "X = np.load('data/mvn/circle/X_trn.npy')[:N]\n",
    "y = np.load('data/mvn/circle/y_trn.npy')[:N]\n",
    "data, m, s = split_data(X, y)\n",
    "\n",
    "# True distribution information\n",
    "mu_bkgd = np.array([-0.1, 0])\n",
    "mu_sgnl = np.array([0.1, 0])\n",
    "sg_bkgd = 2*np.eye(2)\n",
    "sg_sgnl = np.eye(2)\n",
    "\n",
    "bkgd = stats.multivariate_normal(mu_bkgd, sg_bkgd)\n",
    "sgnl = stats.multivariate_normal(mu_sgnl, sg_sgnl)\n",
    "\n",
    "lr = make_lr(bkgd, sgnl)\n",
    "mae = make_mae(bkgd, sgnl, 'data/mvn/circle/')"
   ]
  },
  {
   "cell_type": "markdown",
   "id": "1f2f510c-ecba-4013-8560-58b04a4f8871",
   "metadata": {
    "jp-MarkdownHeadingCollapsed": true,
    "tags": []
   },
   "source": [
    "##### Process"
   ]
  },
  {
   "cell_type": "raw",
   "id": "b45b797f-6694-4465-a636-f7f70cd03821",
   "metadata": {},
   "source": [
    "lrs_1 = [None] * reps\n",
    "lrs_2 = [None] * reps\n",
    "lrs_3 = [None] * reps\n",
    "\n",
    "for i in range(reps):\n",
    "    model_1 = create_model(**params_1)\n",
    "    model_2 = create_model(**params_2)\n",
    "    model_3 = create_model(**params_3)\n",
    "    \n",
    "    model_1.load_weights(filestr_1.format(i))\n",
    "    model_2.load_weights(filestr_2.format(i))\n",
    "    model_3.load_weights(filestr_3.format(i))\n",
    "    \n",
    "    lrs_1[i] = pure_lr(model_1, m, s)\n",
    "    lrs_2[i] = square_lr(model_2, m, s)\n",
    "    lrs_3[i] = exp_lr(model_3, m, s)\n",
    "    \n",
    "# Calculate predictions\n",
    "g = np.meshgrid(np.linspace(-2, 2, 401), np.linspace(-2, 2, 401))\n",
    "g = np.append(g[0].reshape(-1, 1), g[1].reshape(-1, 1), axis = 1)\n",
    "aa, bb = np.meshgrid(np.linspace(-2.005, 2.005, 402), np.linspace(-2.005, 2.005, 402))\n",
    "\n",
    "preds_1 = avg_lr(get_preds(lrs_1, xs = g))\n",
    "preds_2 = avg_lr(get_preds(lrs_2, xs = g))\n",
    "preds_3 = avg_lr(get_preds(lrs_3, xs = g))\n",
    "\n",
    "# Calculate mean absolute errors\n",
    "maes_1 = [mae(lr) for lr in lrs_1]\n",
    "maes_2 = [mae(lr) for lr in lrs_2]\n",
    "maes_3 = [mae(lr) for lr in lrs_3]\n",
    "\n",
    "avg_1 = np.mean(maes_1)\n",
    "avg_2 = np.mean(maes_2)\n",
    "avg_3 = np.mean(maes_3)\n",
    "\n",
    "# Save results\n",
    "np.save(filestr + 'avg_1.npy', avg_1)\n",
    "np.save(filestr + 'avg_2.npy', avg_2)\n",
    "np.save(filestr + 'avg_3.npy', avg_3)\n",
    "\n",
    "np.save(filestr + 'g.npy', g)\n",
    "np.save(filestr + 'preds_1.npy', preds_1)\n",
    "np.save(filestr + 'preds_2.npy', preds_2)\n",
    "np.save(filestr + 'preds_3.npy', preds_3)"
   ]
  },
  {
   "cell_type": "markdown",
   "id": "b3459bb5-322b-4ffb-8f27-b4c5d09fda0a",
   "metadata": {
    "jp-MarkdownHeadingCollapsed": true,
    "tags": []
   },
   "source": [
    "##### Likelihood Ratios"
   ]
  },
  {
   "cell_type": "code",
   "execution_count": null,
   "id": "4492b638-69d8-40f6-92b5-7a7bbb724994",
   "metadata": {},
   "outputs": [],
   "source": [
    "g = np.load(filestr + 'g.npy')\n",
    "preds_1 = np.load(filestr + 'preds_1.npy')\n",
    "preds_2 = np.load(filestr + 'preds_2.npy')\n",
    "preds_3 = np.load(filestr + 'preds_3.npy')\n",
    "\n",
    "diff_plot(preds_1,\n",
    "          lr,\n",
    "          g,\n",
    "          aa, bb, \n",
    "          figsize = (w, h),\n",
    "          title = r'\\it $C$ Parametrization',\n",
    "          filename = 'plots/paper/c_mlc_circle_relu.png')\n",
    "\n",
    "diff_plot(preds_2,\n",
    "          lr,\n",
    "          g,\n",
    "          aa, bb, \n",
    "          figsize = (w, h),\n",
    "          title = r'\\it $C$ Parametrization',\n",
    "          filename = 'plots/paper/c_mlc_circle_square.png')\n",
    "\n",
    "diff_plot(preds_3,\n",
    "          lr,\n",
    "          g,\n",
    "          aa, bb, \n",
    "          figsize = (w, h),\n",
    "          title = r'\\it $C$ Parametrization',\n",
    "          filename = 'plots/paper/c_mlc_circle_exponential.png')"
   ]
  },
  {
   "cell_type": "markdown",
   "id": "13f9363d-f09b-4885-9daa-3c2038c11ebc",
   "metadata": {},
   "source": [
    "##### MAEs"
   ]
  },
  {
   "cell_type": "code",
   "execution_count": 232,
   "id": "f20da55a-eb98-4d62-917b-f9c411aef2bf",
   "metadata": {},
   "outputs": [
    {
     "name": "stdout",
     "output_type": "stream",
     "text": [
      "0.03540741511365547 0.18553040437242074 0.05212963587749544\n"
     ]
    }
   ],
   "source": [
    "avg_1 = np.load(filestr + 'avg_1.npy')\n",
    "avg_2 = np.load(filestr + 'avg_2.npy')\n",
    "avg_3 = np.load(filestr + 'avg_3.npy')\n",
    "\n",
    "print(avg_1, avg_2, avg_3)"
   ]
  },
  {
   "cell_type": "markdown",
   "id": "4b8076ab-0b92-43d8-a33c-fa78910a14d8",
   "metadata": {
    "tags": []
   },
   "source": [
    "#### SQR $C$ Parametrization"
   ]
  },
  {
   "cell_type": "code",
   "execution_count": 233,
   "id": "6894d0fb-7edc-4726-bcd6-8be6c384f9f7",
   "metadata": {},
   "outputs": [],
   "source": [
    "# Experiment parameters\n",
    "num = 2\n",
    "reps = 100\n",
    "\n",
    "# Model parameters\n",
    "params_1 = {'loss':sqr, 'd':2, 'output': 'relu'}\n",
    "params_2 = {'loss':square_sqr, 'd':2, 'output': 'linear'}\n",
    "params_3 = {'loss':exp_sqr, 'd':2,  'output': 'linear'}\n",
    "\n",
    "filestr = 'models/multivariate/c_sqr/set_{}/'.format(num)\n",
    "filestr_1 = filestr + 'relu/model_{}.h5'\n",
    "filestr_2 = filestr + 'square/model_{}.h5'\n",
    "filestr_3 = filestr + 'exponential/model_{}.h5'\n",
    "\n",
    "# Data parameters\n",
    "N = 10**6\n",
    "X = np.load('data/mvn/circle/X_trn.npy')[:N]\n",
    "y = np.load('data/mvn/circle/y_trn.npy')[:N]\n",
    "data, m, s = split_data(X, y)\n",
    "\n",
    "# True distribution information\n",
    "mu_bkgd = np.array([-0.1, 0])\n",
    "mu_sgnl = np.array([0.1, 0])\n",
    "sg_bkgd = 2*np.eye(2)\n",
    "sg_sgnl = np.eye(2)\n",
    "\n",
    "bkgd = stats.multivariate_normal(mu_bkgd, sg_bkgd)\n",
    "sgnl = stats.multivariate_normal(mu_sgnl, sg_sgnl)\n",
    "\n",
    "lr = make_lr(bkgd, sgnl)\n",
    "mae = make_mae(bkgd, sgnl, 'data/mvn/circle/')"
   ]
  },
  {
   "cell_type": "markdown",
   "id": "0dd2bb4b-80ee-4edf-810c-59b2abecdf15",
   "metadata": {
    "jp-MarkdownHeadingCollapsed": true,
    "tags": []
   },
   "source": [
    "##### Process"
   ]
  },
  {
   "cell_type": "raw",
   "id": "923c263e-4d9f-4a90-a783-f7a89b13ad04",
   "metadata": {},
   "source": [
    "lrs_1 = [None] * reps\n",
    "lrs_2 = [None] * reps\n",
    "lrs_3 = [None] * reps\n",
    "\n",
    "for i in range(reps):\n",
    "    model_1 = create_model(**params_1)\n",
    "    model_2 = create_model(**params_2)\n",
    "    model_3 = create_model(**params_3)\n",
    "    \n",
    "    model_1.load_weights(filestr_1.format(i))\n",
    "    model_2.load_weights(filestr_2.format(i))\n",
    "    model_3.load_weights(filestr_3.format(i))\n",
    "    \n",
    "    lrs_1[i] = pure_lr(model_1, m, s)\n",
    "    lrs_2[i] = square_lr(model_2, m, s)\n",
    "    lrs_3[i] = exp_lr(model_3, m, s)\n",
    "    \n",
    "# Calculate predictions\n",
    "g = np.meshgrid(np.linspace(-2, 2, 401), np.linspace(-2, 2, 401))\n",
    "g = np.append(g[0].reshape(-1, 1), g[1].reshape(-1, 1), axis = 1)\n",
    "aa, bb = np.meshgrid(np.linspace(-2.005, 2.005, 402), np.linspace(-2.005, 2.005, 402))\n",
    "\n",
    "preds_1 = avg_lr(get_preds(lrs_1, xs = g))\n",
    "preds_2 = avg_lr(get_preds(lrs_2, xs = g))\n",
    "preds_3 = avg_lr(get_preds(lrs_3, xs = g))\n",
    "\n",
    "# Calculate mean absolute errors\n",
    "maes_1 = [mae(lr) for lr in lrs_1]\n",
    "maes_2 = [mae(lr) for lr in lrs_2]\n",
    "maes_3 = [mae(lr) for lr in lrs_3]\n",
    "\n",
    "avg_1 = np.mean(maes_1)\n",
    "avg_2 = np.mean(maes_2)\n",
    "avg_3 = np.mean(maes_3)\n",
    "\n",
    "# Save results\n",
    "np.save(filestr + 'avg_1.npy', avg_1)\n",
    "np.save(filestr + 'avg_2.npy', avg_2)\n",
    "np.save(filestr + 'avg_3.npy', avg_3)\n",
    "\n",
    "np.save(filestr + 'g.npy', g)\n",
    "np.save(filestr + 'preds_1.npy', preds_1)\n",
    "np.save(filestr + 'preds_2.npy', preds_2)\n",
    "np.save(filestr + 'preds_3.npy', preds_3)"
   ]
  },
  {
   "cell_type": "markdown",
   "id": "38d5eec7-9ae4-4cc1-9c81-90db2eb69f34",
   "metadata": {
    "jp-MarkdownHeadingCollapsed": true,
    "tags": []
   },
   "source": [
    "##### Likelihood Ratios"
   ]
  },
  {
   "cell_type": "code",
   "execution_count": null,
   "id": "b9aa0798-e52f-4319-87dc-0a7c7320bb6e",
   "metadata": {},
   "outputs": [],
   "source": [
    "g = np.load(filestr + 'g.npy')\n",
    "preds_1 = np.load(filestr + 'preds_1.npy')\n",
    "preds_2 = np.load(filestr + 'preds_2.npy')\n",
    "preds_3 = np.load(filestr + 'preds_3.npy')\n",
    "\n",
    "diff_plot(preds_1,\n",
    "          lr,\n",
    "          g,\n",
    "          aa, bb, \n",
    "          figsize = (w, h),\n",
    "          title = r'\\it $C$ Parametrization',\n",
    "          filename = 'plots/paper/c_sqr_circle_relu.png')\n",
    "\n",
    "diff_plot(preds_2,\n",
    "          lr,\n",
    "          g,\n",
    "          aa, bb, \n",
    "          figsize = (w, h),\n",
    "          title = r'\\it $C$ Parametrization',\n",
    "          filename = 'plots/paper/c_sqr_circle_square.png')\n",
    "\n",
    "diff_plot(preds_3,\n",
    "          lr,\n",
    "          g,\n",
    "          aa, bb, \n",
    "          figsize = (w, h),\n",
    "          title = r'\\it $C$ Parametrization',\n",
    "          filename = 'plots/paper/c_sqr_circle_exponential.png')"
   ]
  },
  {
   "cell_type": "markdown",
   "id": "f8940912-09f7-4b88-8439-77dce6194c2a",
   "metadata": {},
   "source": [
    "##### MAEs"
   ]
  },
  {
   "cell_type": "code",
   "execution_count": 234,
   "id": "1154d757-269a-4cef-ac74-623456f51fb6",
   "metadata": {},
   "outputs": [
    {
     "name": "stdout",
     "output_type": "stream",
     "text": [
      "0.16066701354609983 1.0067646723352965 0.06913254390206891\n"
     ]
    }
   ],
   "source": [
    "avg_1 = np.load(filestr + 'avg_1.npy')\n",
    "avg_2 = np.load(filestr + 'avg_2.npy')\n",
    "avg_3 = np.load(filestr + 'avg_3.npy')\n",
    "\n",
    "print(avg_1, avg_2, avg_3)"
   ]
  },
  {
   "cell_type": "markdown",
   "id": "3a8fea5d-e99c-4c6c-824c-232346540ae2",
   "metadata": {
    "jp-MarkdownHeadingCollapsed": true,
    "tags": []
   },
   "source": [
    "### Case 3"
   ]
  },
  {
   "cell_type": "markdown",
   "id": "8b1404be-a959-4807-a782-66fca45f738b",
   "metadata": {
    "jp-MarkdownHeadingCollapsed": true,
    "tags": []
   },
   "source": [
    "#### BCE $C$ Parametrization"
   ]
  },
  {
   "cell_type": "code",
   "execution_count": 235,
   "id": "0de9c592-4a07-42ba-9dc1-f26bbcaa4422",
   "metadata": {},
   "outputs": [],
   "source": [
    "# Experiment parameters\n",
    "num = 3\n",
    "reps = 100\n",
    "\n",
    "# Model parameters\n",
    "params_1 = {'loss':bce, 'd':2}\n",
    "params_2 = {'loss':tanh_bce, 'd':2, 'output': 'linear'}\n",
    "params_3 = {'loss':arctan_bce, 'd':2,  'output': 'linear'}\n",
    "\n",
    "filestr = 'models/multivariate/c_bce/set_{}/'.format(num)\n",
    "filestr_1 = filestr + 'sigmoid/model_{}.h5'\n",
    "filestr_2 = filestr + 'tanh/model_{}.h5'\n",
    "filestr_3 = filestr + 'arctan/model_{}.h5'\n",
    "\n",
    "# Data parameters\n",
    "N = 10**6\n",
    "X = np.load('data/mvn/hyperbola/X_trn.npy')[:N]\n",
    "y = np.load('data/mvn/hyperbola/y_trn.npy')[:N]\n",
    "data, m, s = split_data(X, y)\n",
    "\n",
    "# True distribution information\n",
    "mu_bkgd = np.array([-0.1, 0])\n",
    "mu_sgnl = np.array([0.1, 0])\n",
    "sg_bkgd = np.array([[2, 0], [0, 1]])\n",
    "sg_sgnl = np.array([[1, 0], [0, 2]])\n",
    "\n",
    "bkgd = stats.multivariate_normal(mu_bkgd, sg_bkgd)\n",
    "sgnl = stats.multivariate_normal(mu_sgnl, sg_sgnl)\n",
    "\n",
    "lr = make_lr(bkgd, sgnl)\n",
    "mae = make_mae(bkgd, sgnl, 'data/mvn/hyperbola/')"
   ]
  },
  {
   "cell_type": "markdown",
   "id": "32756738-d4fa-479d-8331-69e94c685bac",
   "metadata": {
    "jp-MarkdownHeadingCollapsed": true,
    "tags": []
   },
   "source": [
    "##### Process"
   ]
  },
  {
   "cell_type": "raw",
   "id": "ca8c0455-3009-46f4-b4bc-0fdbc0e13785",
   "metadata": {},
   "source": [
    "lrs_1 = [None] * reps\n",
    "lrs_2 = [None] * reps\n",
    "lrs_3 = [None] * reps\n",
    "\n",
    "for i in range(reps):\n",
    "    model_1 = create_model(**params_1)\n",
    "    model_2 = create_model(**params_2)\n",
    "    model_3 = create_model(**params_3)\n",
    "    \n",
    "    model_1.load_weights(filestr_1.format(i))\n",
    "    model_2.load_weights(filestr_2.format(i))\n",
    "    model_3.load_weights(filestr_3.format(i))\n",
    "    \n",
    "    lrs_1[i] = odds_lr(model_1, m, s)\n",
    "    lrs_2[i] = tanh_lr(model_2, m, s)\n",
    "    lrs_3[i] = arctan_lr(model_3, m, s)\n",
    "    \n",
    "# Calculate predictions\n",
    "g = np.meshgrid(np.linspace(-2, 2, 401), np.linspace(-2, 2, 401))\n",
    "g = np.append(g[0].reshape(-1, 1), g[1].reshape(-1, 1), axis = 1)\n",
    "aa, bb = np.meshgrid(np.linspace(-2.005, 2.005, 402), np.linspace(-2.005, 2.005, 402))\n",
    "\n",
    "preds_1 = avg_lr(get_preds(lrs_1, xs = g))\n",
    "preds_2 = avg_lr(get_preds(lrs_2, xs = g))\n",
    "preds_3 = avg_lr(get_preds(lrs_3, xs = g))\n",
    "\n",
    "# Calculate mean absolute errors\n",
    "maes_1 = [mae(lr) for lr in lrs_1]\n",
    "maes_2 = [mae(lr) for lr in lrs_2]\n",
    "maes_3 = [mae(lr) for lr in lrs_3]\n",
    "\n",
    "avg_1 = np.mean(maes_1)\n",
    "avg_2 = np.mean(maes_2)\n",
    "avg_3 = np.mean(maes_3)\n",
    "\n",
    "# Save results\n",
    "np.save(filestr + 'avg_1.npy', avg_1)\n",
    "np.save(filestr + 'avg_2.npy', avg_2)\n",
    "np.save(filestr + 'avg_3.npy', avg_3)\n",
    "\n",
    "np.save(filestr + 'g.npy', g)\n",
    "np.save(filestr + 'preds_1.npy', preds_1)\n",
    "np.save(filestr + 'preds_2.npy', preds_2)\n",
    "np.save(filestr + 'preds_3.npy', preds_3)"
   ]
  },
  {
   "cell_type": "markdown",
   "id": "b6b74ae2-f276-493a-96f7-60bef5489d33",
   "metadata": {
    "jp-MarkdownHeadingCollapsed": true,
    "tags": []
   },
   "source": [
    "##### Likelihood Ratios"
   ]
  },
  {
   "cell_type": "code",
   "execution_count": null,
   "id": "d36b9863-0747-4742-a2f0-c2dc7df86242",
   "metadata": {},
   "outputs": [],
   "source": [
    "g = np.load(filestr + 'g.npy')\n",
    "preds_1 = np.load(filestr + 'preds_1.npy')\n",
    "preds_2 = np.load(filestr + 'preds_2.npy')\n",
    "preds_3 = np.load(filestr + 'preds_3.npy')\n",
    "\n",
    "diff_plot(preds_1,\n",
    "          lr,\n",
    "          g,\n",
    "          aa, bb, \n",
    "          figsize = (w, h),\n",
    "          title = r'\\it $C$ Parametrization',\n",
    "          filename = 'plots/paper/c_bce_hyperbola_sigmoid.png')\n",
    "\n",
    "diff_plot(preds_2,\n",
    "          lr,\n",
    "          g,\n",
    "          aa, bb, \n",
    "          figsize = (w, h),\n",
    "          title = r'\\it $C$ Parametrization',\n",
    "          filename = 'plots/paper/c_bce_hyperbola_tanh.png')\n",
    "\n",
    "diff_plot(preds_3,\n",
    "          lr,\n",
    "          g,\n",
    "          aa, bb, \n",
    "          figsize = (w, h),\n",
    "          title = r'\\it $C$ Parametrization',\n",
    "          filename = 'plots/paper/c_bce_hyperbola_arctan.png')"
   ]
  },
  {
   "cell_type": "markdown",
   "id": "dcf2546e-5f02-409c-bdfa-96269f74c96b",
   "metadata": {},
   "source": [
    "##### MAEs"
   ]
  },
  {
   "cell_type": "code",
   "execution_count": 236,
   "id": "d1111579-ba50-494a-a975-1d27ee1e24f4",
   "metadata": {},
   "outputs": [
    {
     "name": "stdout",
     "output_type": "stream",
     "text": [
      "0.6502539899371161 0.6949089657130884 0.7438337532418392\n"
     ]
    }
   ],
   "source": [
    "avg_1 = np.load(filestr + 'avg_1.npy')\n",
    "avg_2 = np.load(filestr + 'avg_2.npy')\n",
    "avg_3 = np.load(filestr + 'avg_3.npy')\n",
    "\n",
    "print(avg_1, avg_2, avg_3)"
   ]
  },
  {
   "cell_type": "markdown",
   "id": "9675a8d1-c017-44aa-8c01-78e42de05595",
   "metadata": {
    "jp-MarkdownHeadingCollapsed": true,
    "tags": []
   },
   "source": [
    "#### MSE $C$ Parametrization"
   ]
  },
  {
   "cell_type": "code",
   "execution_count": 279,
   "id": "6f2f2b46-de1a-4e82-b38f-821c5e07e633",
   "metadata": {},
   "outputs": [],
   "source": [
    "# Experiment parameters\n",
    "num = 3\n",
    "reps = 100\n",
    "\n",
    "# Model parameters\n",
    "params_1 = {'loss':mse, 'd':2}\n",
    "params_2 = {'loss':tanh_mse, 'd':2, 'output': 'linear'}\n",
    "params_3 = {'loss':arctan_mse, 'd':2,  'output': 'linear'}\n",
    "\n",
    "filestr = 'models/multivariate/c_mse/set_{}/'.format(num)\n",
    "filestr_1 = filestr + 'sigmoid/model_{}.h5'\n",
    "filestr_2 = filestr + 'tanh/model_{}.h5'\n",
    "filestr_3 = filestr + 'arctan/model_{}.h5'\n",
    "\n",
    "# Data parameters\n",
    "N = 10**6\n",
    "X = np.load('data/mvn/hyperbola/X_trn.npy')[:N]\n",
    "y = np.load('data/mvn/hyperbola/y_trn.npy')[:N]\n",
    "data, m, s = split_data(X, y)\n",
    "\n",
    "# True distribution information\n",
    "mu_bkgd = np.array([-0.1, 0])\n",
    "mu_sgnl = np.array([0.1, 0])\n",
    "sg_bkgd = np.array([[2, 0], [0, 1]])\n",
    "sg_sgnl = np.array([[1, 0], [0, 2]])\n",
    "\n",
    "bkgd = stats.multivariate_normal(mu_bkgd, sg_bkgd)\n",
    "sgnl = stats.multivariate_normal(mu_sgnl, sg_sgnl)\n",
    "\n",
    "lr = make_lr(bkgd, sgnl)\n",
    "mae = make_mae(bkgd, sgnl, 'data/mvn/hyperbola/')"
   ]
  },
  {
   "cell_type": "markdown",
   "id": "f15202a6-147e-4c9f-87ce-2227752200b8",
   "metadata": {
    "jp-MarkdownHeadingCollapsed": true,
    "tags": []
   },
   "source": [
    "##### Process"
   ]
  },
  {
   "cell_type": "raw",
   "id": "e776c540-ad87-4dfa-8b30-e08810aba32e",
   "metadata": {},
   "source": [
    "lrs_1 = [None] * reps\n",
    "lrs_2 = [None] * reps\n",
    "lrs_3 = [None] * reps\n",
    "\n",
    "for i in range(reps):\n",
    "    model_1 = create_model(**params_1)\n",
    "    model_2 = create_model(**params_2)\n",
    "    model_3 = create_model(**params_3)\n",
    "    \n",
    "    model_1.load_weights(filestr_1.format(i))\n",
    "    model_2.load_weights(filestr_2.format(i))\n",
    "    model_3.load_weights(filestr_3.format(i))\n",
    "    \n",
    "    lrs_1[i] = odds_lr(model_1, m, s)\n",
    "    lrs_2[i] = tanh_lr(model_2, m, s)\n",
    "    lrs_3[i] = arctan_lr(model_3, m, s)\n",
    "    \n",
    "# Calculate predictions\n",
    "g = np.meshgrid(np.linspace(-2, 2, 401), np.linspace(-2, 2, 401))\n",
    "g = np.append(g[0].reshape(-1, 1), g[1].reshape(-1, 1), axis = 1)\n",
    "aa, bb = np.meshgrid(np.linspace(-2.005, 2.005, 402), np.linspace(-2.005, 2.005, 402))\n",
    "\n",
    "preds_1 = avg_lr(get_preds(lrs_1, xs = g))\n",
    "preds_2 = avg_lr(get_preds(lrs_2, xs = g))\n",
    "preds_3 = avg_lr(get_preds(lrs_3, xs = g))\n",
    "\n",
    "# Calculate mean absolute errors\n",
    "maes_1 = [mae(lr) for lr in lrs_1]\n",
    "maes_2 = [mae(lr) for lr in lrs_2]\n",
    "maes_3 = [mae(lr) for lr in lrs_3]\n",
    "\n",
    "avg_1 = np.mean(maes_1)\n",
    "avg_2 = np.mean(maes_2)\n",
    "avg_3 = np.mean(maes_3)\n",
    "\n",
    "# Save results\n",
    "np.save(filestr + 'avg_1.npy', avg_1)\n",
    "np.save(filestr + 'avg_2.npy', avg_2)\n",
    "np.save(filestr + 'avg_3.npy', avg_3)\n",
    "\n",
    "np.save(filestr + 'g.npy', g)\n",
    "np.save(filestr + 'preds_1.npy', preds_1)\n",
    "np.save(filestr + 'preds_2.npy', preds_2)\n",
    "np.save(filestr + 'preds_3.npy', preds_3)"
   ]
  },
  {
   "cell_type": "markdown",
   "id": "3646d680-fee8-46f5-a5c9-231ec83a3c27",
   "metadata": {
    "jp-MarkdownHeadingCollapsed": true,
    "tags": []
   },
   "source": [
    "##### Likelihood Ratio"
   ]
  },
  {
   "cell_type": "code",
   "execution_count": 280,
   "id": "879dca5f-98fb-4a73-b089-356b92523783",
   "metadata": {},
   "outputs": [
    {
     "data": {
      "image/png": "[encoded data removed]",
      "text/plain": [
       "<Figure size 252x208.8 with 2 Axes>"
      ]
     },
     "metadata": {
      "needs_background": "light"
     },
     "output_type": "display_data"
    },
    {
     "data": {
      "image/png": "[encoded data removed]",
      "text/plain": [
       "<Figure size 252x208.8 with 2 Axes>"
      ]
     },
     "metadata": {
      "needs_background": "light"
     },
     "output_type": "display_data"
    },
    {
     "data": {
      "image/png": "[encoded data removed]",
      "text/plain": [
       "<Figure size 252x208.8 with 2 Axes>"
      ]
     },
     "metadata": {
      "needs_background": "light"
     },
     "output_type": "display_data"
    }
   ],
   "source": [
    "g = np.load(filestr + 'g.npy')\n",
    "preds_1 = np.load(filestr + 'preds_1.npy')\n",
    "preds_2 = np.load(filestr + 'preds_2.npy')\n",
    "preds_3 = np.load(filestr + 'preds_3.npy')\n",
    "\n",
    "diff_plot(preds_1,\n",
    "          lr,\n",
    "          g,\n",
    "          aa, bb, \n",
    "          figsize = (w, h),\n",
    "          title = r'\\it Parametrizing $f$',\n",
    "          filename = 'plots/paper/c_mse_hyperbola_sigmoid.png')\n",
    "\n",
    "diff_plot(preds_2,\n",
    "          lr,\n",
    "          g,\n",
    "          aa, bb, \n",
    "          figsize = (w, h),\n",
    "          title = r'\\it Parametrizing $f$',\n",
    "          filename = 'plots/paper/c_mse_hyperbola_tanh.png')\n",
    "\n",
    "diff_plot(preds_3,\n",
    "          lr,\n",
    "          g,\n",
    "          aa, bb, \n",
    "          figsize = (w, h),\n",
    "          title = r'\\it Parametrizing $f$',\n",
    "          filename = 'plots/paper/c_mse_hyperbola_arctan.png')"
   ]
  },
  {
   "cell_type": "markdown",
   "id": "01c68d7a-90dc-433f-8380-f972c3463356",
   "metadata": {
    "jp-MarkdownHeadingCollapsed": true,
    "tags": []
   },
   "source": [
    "##### MAEs"
   ]
  },
  {
   "cell_type": "code",
   "execution_count": 238,
   "id": "9c188f95-4d7c-4ef5-b748-c5dc86ca25de",
   "metadata": {},
   "outputs": [
    {
     "name": "stdout",
     "output_type": "stream",
     "text": [
      "0.6967412082889385 0.7312852825250465 0.783586498852937\n"
     ]
    }
   ],
   "source": [
    "avg_1 = np.load(filestr + 'avg_1.npy')\n",
    "avg_2 = np.load(filestr + 'avg_2.npy')\n",
    "avg_3 = np.load(filestr + 'avg_3.npy')\n",
    "\n",
    "print(avg_1, avg_2, avg_3)"
   ]
  },
  {
   "cell_type": "markdown",
   "id": "8d258f3e-d55c-4f38-b2b7-85d1193ca133",
   "metadata": {
    "jp-MarkdownHeadingCollapsed": true,
    "tags": []
   },
   "source": [
    "#### MLC $C$ Parametrization"
   ]
  },
  {
   "cell_type": "code",
   "execution_count": 239,
   "id": "4ac1f07e-24af-4f68-a61b-45fc9f61bdd1",
   "metadata": {},
   "outputs": [],
   "source": [
    "# Experiment parameters\n",
    "num = 3\n",
    "reps = 100\n",
    "\n",
    "# Model parameters\n",
    "params_1 = {'loss':mlc, 'd':2, 'output': 'relu'}\n",
    "params_2 = {'loss':square_mlc, 'd':2, 'output': 'linear'}\n",
    "params_3 = {'loss':exp_mlc, 'd':2,  'output': 'linear'}\n",
    "\n",
    "filestr = 'models/multivariate/c_mlc/set_{}/'.format(num)\n",
    "filestr_1 = filestr + 'relu/model_{}.h5'\n",
    "filestr_2 = filestr + 'square/model_{}.h5'\n",
    "filestr_3 = filestr + 'exponential/model_{}.h5'\n",
    "\n",
    "# Data parameters\n",
    "N = 10**6\n",
    "X = np.load('data/mvn/hyperbola/X_trn.npy')[:N]\n",
    "y = np.load('data/mvn/hyperbola/y_trn.npy')[:N]\n",
    "data, m, s = split_data(X, y)\n",
    "\n",
    "# True distribution information\n",
    "mu_bkgd = np.array([-0.1, 0])\n",
    "mu_sgnl = np.array([0.1, 0])\n",
    "sg_bkgd = np.array([[2, 0], [0, 1]])\n",
    "sg_sgnl = np.array([[1, 0], [0, 2]])\n",
    "\n",
    "bkgd = stats.multivariate_normal(mu_bkgd, sg_bkgd)\n",
    "sgnl = stats.multivariate_normal(mu_sgnl, sg_sgnl)\n",
    "\n",
    "lr = make_lr(bkgd, sgnl)\n",
    "mae = make_mae(bkgd, sgnl, 'data/mvn/hyperbola/')"
   ]
  },
  {
   "cell_type": "markdown",
   "id": "b36c672a-519c-4366-8e2b-a8f523baaf4d",
   "metadata": {
    "jp-MarkdownHeadingCollapsed": true,
    "tags": []
   },
   "source": [
    "##### Process"
   ]
  },
  {
   "cell_type": "raw",
   "id": "77baffb7-35b4-4337-b2d2-67360ca5a5bf",
   "metadata": {},
   "source": [
    "lrs_1 = [None] * reps\n",
    "lrs_2 = [None] * reps\n",
    "lrs_3 = [None] * reps\n",
    "\n",
    "for i in range(reps):\n",
    "    model_1 = create_model(**params_1)\n",
    "    model_2 = create_model(**params_2)\n",
    "    model_3 = create_model(**params_3)\n",
    "    \n",
    "    model_1.load_weights(filestr_1.format(i))\n",
    "    model_2.load_weights(filestr_2.format(i))\n",
    "    model_3.load_weights(filestr_3.format(i))\n",
    "    \n",
    "    lrs_1[i] = pure_lr(model_1, m, s)\n",
    "    lrs_2[i] = square_lr(model_2, m, s)\n",
    "    lrs_3[i] = exp_lr(model_3, m, s)\n",
    "    \n",
    "# Calculate predictions\n",
    "g = np.meshgrid(np.linspace(-2, 2, 401), np.linspace(-2, 2, 401))\n",
    "g = np.append(g[0].reshape(-1, 1), g[1].reshape(-1, 1), axis = 1)\n",
    "aa, bb = np.meshgrid(np.linspace(-2.005, 2.005, 402), np.linspace(-2.005, 2.005, 402))\n",
    "\n",
    "preds_1 = avg_lr(get_preds(lrs_1, xs = g))\n",
    "preds_2 = avg_lr(get_preds(lrs_2, xs = g))\n",
    "preds_3 = avg_lr(get_preds(lrs_3, xs = g))\n",
    "\n",
    "# Calculate mean absolute errors\n",
    "maes_1 = [mae(lr) for lr in lrs_1]\n",
    "maes_2 = [mae(lr) for lr in lrs_2]\n",
    "maes_3 = [mae(lr) for lr in lrs_3]\n",
    "\n",
    "avg_1 = np.mean(maes_1)\n",
    "avg_2 = np.mean(maes_2)\n",
    "avg_3 = np.mean(maes_3)\n",
    "\n",
    "# Save results\n",
    "np.save(filestr + 'avg_1.npy', avg_1)\n",
    "np.save(filestr + 'avg_2.npy', avg_2)\n",
    "np.save(filestr + 'avg_3.npy', avg_3)\n",
    "\n",
    "np.save(filestr + 'g.npy', g)\n",
    "np.save(filestr + 'preds_1.npy', preds_1)\n",
    "np.save(filestr + 'preds_2.npy', preds_2)\n",
    "np.save(filestr + 'preds_3.npy', preds_3)"
   ]
  },
  {
   "cell_type": "markdown",
   "id": "a80d56e8-142e-428b-915a-3a62e232a1d5",
   "metadata": {
    "jp-MarkdownHeadingCollapsed": true,
    "tags": []
   },
   "source": [
    "##### Likelihood Ratios"
   ]
  },
  {
   "cell_type": "code",
   "execution_count": null,
   "id": "08eee71b-6f00-4d1d-8fc4-4175b7fd83e0",
   "metadata": {},
   "outputs": [],
   "source": [
    "g = np.load(filestr + 'g.npy')\n",
    "preds_1 = np.load(filestr + 'preds_1.npy')\n",
    "preds_2 = np.load(filestr + 'preds_2.npy')\n",
    "preds_3 = np.load(filestr + 'preds_3.npy')\n",
    "\n",
    "diff_plot(preds_1,\n",
    "          lr,\n",
    "          g,\n",
    "          aa, bb, \n",
    "          figsize = (w, h),\n",
    "          title = r'\\it $C$ Parametrization',\n",
    "          filename = 'plots/paper/c_mlc_hyperbola_relu.png')\n",
    "\n",
    "diff_plot(preds_2,\n",
    "          lr,\n",
    "          g,\n",
    "          aa, bb, \n",
    "          figsize = (w, h),\n",
    "          title = r'\\it $C$ Parametrization',\n",
    "          filename = 'plots/paper/c_mlc_hyperbola_square.png')\n",
    "\n",
    "diff_plot(preds_3,\n",
    "          lr,\n",
    "          g,\n",
    "          aa, bb, \n",
    "          figsize = (w, h),\n",
    "          title = r'\\it $C$ Parametrization',\n",
    "          filename = 'plots/paper/c_mlc_hyperbola_exponential.png')"
   ]
  },
  {
   "cell_type": "markdown",
   "id": "411118eb-cf3b-4f2a-9fb9-f5420cd4b231",
   "metadata": {},
   "source": [
    "##### MAEs"
   ]
  },
  {
   "cell_type": "code",
   "execution_count": 240,
   "id": "ff9f5fe6-deb8-4d12-aff2-cfbe29a3ba71",
   "metadata": {},
   "outputs": [
    {
     "name": "stdout",
     "output_type": "stream",
     "text": [
      "0.8786176707847129 0.9239168152135997 0.48233289691030296\n"
     ]
    }
   ],
   "source": [
    "avg_1 = np.load(filestr + 'avg_1.npy')\n",
    "avg_2 = np.load(filestr + 'avg_2.npy')\n",
    "avg_3 = np.load(filestr + 'avg_3.npy')\n",
    "\n",
    "print(avg_1, avg_2, avg_3)"
   ]
  },
  {
   "cell_type": "markdown",
   "id": "79345c63-2aaa-48b8-9128-76d5d681bdeb",
   "metadata": {
    "tags": []
   },
   "source": [
    "#### SQR $C$ Parametrization"
   ]
  },
  {
   "cell_type": "code",
   "execution_count": 281,
   "id": "4a993d26-af6c-4c1d-8cce-99efa864153a",
   "metadata": {},
   "outputs": [],
   "source": [
    "# Experiment parameters\n",
    "num = 3\n",
    "reps = 100\n",
    "\n",
    "# Model parameters\n",
    "params_1 = {'loss':sqr, 'd':2, 'output': 'relu'}\n",
    "params_2 = {'loss':square_sqr, 'd':2, 'output': 'linear'}\n",
    "params_3 = {'loss':exp_sqr, 'd':2,  'output': 'linear'}\n",
    "\n",
    "filestr = 'models/multivariate/c_sqr/set_{}/'.format(num)\n",
    "filestr_1 = filestr + 'relu/model_{}.h5'\n",
    "filestr_2 = filestr + 'square/model_{}.h5'\n",
    "filestr_3 = filestr + 'exponential/model_{}.h5'\n",
    "\n",
    "# Data parameters\n",
    "N = 10**6\n",
    "X = np.load('data/mvn/hyperbola/X_trn.npy')[:N]\n",
    "y = np.load('data/mvn/hyperbola/y_trn.npy')[:N]\n",
    "data, m, s = split_data(X, y)\n",
    "\n",
    "# True distribution information\n",
    "mu_bkgd = np.array([-0.1, 0])\n",
    "mu_sgnl = np.array([0.1, 0])\n",
    "sg_bkgd = np.array([[2, 0], [0, 1]])\n",
    "sg_sgnl = np.array([[1, 0], [0, 2]])\n",
    "\n",
    "bkgd = stats.multivariate_normal(mu_bkgd, sg_bkgd)\n",
    "sgnl = stats.multivariate_normal(mu_sgnl, sg_sgnl)\n",
    "\n",
    "lr = make_lr(bkgd, sgnl)\n",
    "mae = make_mae(bkgd, sgnl, 'data/mvn/hyperbola/')"
   ]
  },
  {
   "cell_type": "markdown",
   "id": "e261a104-4831-4629-b285-032852576851",
   "metadata": {
    "jp-MarkdownHeadingCollapsed": true,
    "tags": []
   },
   "source": [
    "##### Process"
   ]
  },
  {
   "cell_type": "raw",
   "id": "376d3330-9794-4700-b81a-6d73e12ab302",
   "metadata": {},
   "source": [
    "lrs_1 = [None] * reps\n",
    "lrs_2 = [None] * reps\n",
    "lrs_3 = [None] * reps\n",
    "\n",
    "for i in range(reps):\n",
    "    model_1 = create_model(**params_1)\n",
    "    model_2 = create_model(**params_2)\n",
    "    model_3 = create_model(**params_3)\n",
    "    \n",
    "    model_1.load_weights(filestr_1.format(i))\n",
    "    model_2.load_weights(filestr_2.format(i))\n",
    "    model_3.load_weights(filestr_3.format(i))\n",
    "    \n",
    "    lrs_1[i] = pure_lr(model_1, m, s)\n",
    "    lrs_2[i] = square_lr(model_2, m, s)\n",
    "    lrs_3[i] = exp_lr(model_3, m, s)\n",
    "    \n",
    "# Calculate predictions\n",
    "g = np.meshgrid(np.linspace(-2, 2, 401), np.linspace(-2, 2, 401))\n",
    "g = np.append(g[0].reshape(-1, 1), g[1].reshape(-1, 1), axis = 1)\n",
    "aa, bb = np.meshgrid(np.linspace(-2.005, 2.005, 402), np.linspace(-2.005, 2.005, 402))\n",
    "\n",
    "preds_1 = avg_lr(get_preds(lrs_1, xs = g))\n",
    "preds_2 = avg_lr(get_preds(lrs_2, xs = g))\n",
    "preds_3 = avg_lr(get_preds(lrs_3, xs = g))\n",
    "\n",
    "# Calculate mean absolute errors\n",
    "maes_1 = [mae(lr) for lr in lrs_1]\n",
    "maes_2 = [mae(lr) for lr in lrs_2]\n",
    "maes_3 = [mae(lr) for lr in lrs_3]\n",
    "\n",
    "avg_1 = np.mean(maes_1)\n",
    "avg_2 = np.mean(maes_2)\n",
    "avg_3 = np.mean(maes_3)\n",
    "\n",
    "# Save results\n",
    "np.save(filestr + 'avg_1.npy', avg_1)\n",
    "np.save(filestr + 'avg_2.npy', avg_2)\n",
    "np.save(filestr + 'avg_3.npy', avg_3)\n",
    "\n",
    "np.save(filestr + 'g.npy', g)\n",
    "np.save(filestr + 'preds_1.npy', preds_1)\n",
    "np.save(filestr + 'preds_2.npy', preds_2)\n",
    "np.save(filestr + 'preds_3.npy', preds_3)"
   ]
  },
  {
   "cell_type": "markdown",
   "id": "d77f72d3-5053-4c17-aeba-ea504de40ad7",
   "metadata": {
    "tags": []
   },
   "source": [
    "##### Likelihood Ratios"
   ]
  },
  {
   "cell_type": "code",
   "execution_count": 282,
   "id": "1a9dae4d-da22-46b3-bd28-24047a19d48a",
   "metadata": {},
   "outputs": [
    {
     "data": {
      "image/png": "[encoded data removed]",
      "text/plain": [
       "<Figure size 252x208.8 with 2 Axes>"
      ]
     },
     "metadata": {
      "needs_background": "light"
     },
     "output_type": "display_data"
    },
    {
     "data": {
      "image/png": "[encoded data removed]",
      "text/plain": [
       "<Figure size 252x208.8 with 2 Axes>"
      ]
     },
     "metadata": {
      "needs_background": "light"
     },
     "output_type": "display_data"
    },
    {
     "data": {
      "image/png": "[encoded data removed]",
      "text/plain": [
       "<Figure size 252x208.8 with 2 Axes>"
      ]
     },
     "metadata": {
      "needs_background": "light"
     },
     "output_type": "display_data"
    }
   ],
   "source": [
    "g = np.load(filestr + 'g.npy')\n",
    "preds_1 = np.load(filestr + 'preds_1.npy')\n",
    "preds_2 = np.load(filestr + 'preds_2.npy')\n",
    "preds_3 = np.load(filestr + 'preds_3.npy')\n",
    "\n",
    "diff_plot(preds_1,\n",
    "          lr,\n",
    "          g,\n",
    "          aa, bb, \n",
    "          figsize = (w, h),\n",
    "          title = r'\\it Parametrizing $f$',\n",
    "          filename = 'plots/paper/c_sqr_hyperbola_relu.png')\n",
    "\n",
    "diff_plot(preds_2,\n",
    "          lr,\n",
    "          g,\n",
    "          aa, bb, \n",
    "          figsize = (w, h),\n",
    "          title = r'\\it Parametrizing $f$',\n",
    "          filename = 'plots/paper/c_sqr_hyperbola_square.png')\n",
    "\n",
    "diff_plot(preds_3,\n",
    "          lr,\n",
    "          g,\n",
    "          aa, bb, \n",
    "          figsize = (w, h),\n",
    "          title = r'\\it Parametrizing $f$',\n",
    "          filename = 'plots/paper/c_sqr_hyperbola_exponential.png')"
   ]
  },
  {
   "cell_type": "markdown",
   "id": "413d180d-3155-49ec-ae76-117b36f9cb74",
   "metadata": {},
   "source": [
    "##### MAEs"
   ]
  },
  {
   "cell_type": "code",
   "execution_count": 242,
   "id": "35a7bd2f-c688-4aef-9e51-0ffc60611fb9",
   "metadata": {},
   "outputs": [
    {
     "name": "stdout",
     "output_type": "stream",
     "text": [
      "1.0948405711174027 1.6057778153713225 0.6159415036730826\n"
     ]
    }
   ],
   "source": [
    "avg_1 = np.load(filestr + 'avg_1.npy')\n",
    "avg_2 = np.load(filestr + 'avg_2.npy')\n",
    "avg_3 = np.load(filestr + 'avg_3.npy')\n",
    "\n",
    "print(avg_1, avg_2, avg_3)"
   ]
  },
  {
   "cell_type": "markdown",
   "id": "8611f2ce-fe49-411c-ad7c-963ba2c8764c",
   "metadata": {
    "tags": []
   },
   "source": [
    "### Case 4"
   ]
  },
  {
   "cell_type": "markdown",
   "id": "a8d0241d-b6f6-4a24-b2f8-fea7bdea1a73",
   "metadata": {
    "tags": []
   },
   "source": [
    "#### BCE $C$ Parametrization"
   ]
  },
  {
   "cell_type": "code",
   "execution_count": 283,
   "id": "e6e505e8-6ee2-4943-9874-96a304b1c0d6",
   "metadata": {},
   "outputs": [],
   "source": [
    "# Experiment parameters\n",
    "num = 4\n",
    "reps = 100\n",
    "\n",
    "# Model parameters\n",
    "params_1 = {'loss':bce, 'd':2}\n",
    "params_2 = {'loss':tanh_bce, 'd':2, 'output': 'linear'}\n",
    "params_3 = {'loss':arctan_bce, 'd':2,  'output': 'linear'}\n",
    "\n",
    "filestr = 'models/multivariate/c_bce/set_{}/'.format(num)\n",
    "filestr_1 = filestr + 'sigmoid/model_{}.h5'\n",
    "filestr_2 = filestr + 'tanh/model_{}.h5'\n",
    "filestr_3 = filestr + 'arctan/model_{}.h5'\n",
    "\n",
    "# Data parameters\n",
    "N = 10**6\n",
    "X = np.load('data/mvn/checker/X_trn.npy')[:N]\n",
    "y = np.load('data/mvn/checker/y_trn.npy')[:N]\n",
    "data, m, s = split_data(X, y)\n",
    "\n",
    "# True distribution information\n",
    "mu_bkgd = np.array([-0.1, 0])\n",
    "mu_sgnl = np.array([0.1, 0])\n",
    "sg_bkgd = np.array([[2, 0.25], [0.25, 1]])\n",
    "sg_sgnl = np.array([[2, -0.25], [-0.25, 1]])\n",
    "\n",
    "bkgd = stats.multivariate_normal(mu_bkgd, sg_bkgd)\n",
    "sgnl = stats.multivariate_normal(mu_sgnl, sg_sgnl)\n",
    "\n",
    "lr = make_lr(bkgd, sgnl)\n",
    "mae = make_mae(bkgd, sgnl, 'data/mvn/checker/')"
   ]
  },
  {
   "cell_type": "markdown",
   "id": "c9733dc3-91c8-4ebd-9dc2-bb2f6ff7b3db",
   "metadata": {
    "jp-MarkdownHeadingCollapsed": true,
    "tags": []
   },
   "source": [
    "##### Process"
   ]
  },
  {
   "cell_type": "raw",
   "id": "a90aed6a-1392-4218-9e38-92e2179dca7a",
   "metadata": {},
   "source": [
    "lrs_1 = [None] * reps\n",
    "lrs_2 = [None] * reps\n",
    "lrs_3 = [None] * reps\n",
    "\n",
    "for i in range(reps):\n",
    "    model_1 = create_model(**params_1)\n",
    "    model_2 = create_model(**params_2)\n",
    "    model_3 = create_model(**params_3)\n",
    "    \n",
    "    model_1.load_weights(filestr_1.format(i))\n",
    "    model_2.load_weights(filestr_2.format(i))\n",
    "    model_3.load_weights(filestr_3.format(i))\n",
    "    \n",
    "    lrs_1[i] = odds_lr(model_1, m, s)\n",
    "    lrs_2[i] = tanh_lr(model_2, m, s)\n",
    "    lrs_3[i] = arctan_lr(model_3, m, s)\n",
    "    \n",
    "# Calculate predictions\n",
    "g = np.meshgrid(np.linspace(-2, 2, 401), np.linspace(-2, 2, 401))\n",
    "g = np.append(g[0].reshape(-1, 1), g[1].reshape(-1, 1), axis = 1)\n",
    "aa, bb = np.meshgrid(np.linspace(-2.005, 2.005, 402), np.linspace(-2.005, 2.005, 402))\n",
    "\n",
    "preds_1 = avg_lr(get_preds(lrs_1, xs = g))\n",
    "preds_2 = avg_lr(get_preds(lrs_2, xs = g))\n",
    "preds_3 = avg_lr(get_preds(lrs_3, xs = g))\n",
    "\n",
    "# Calculate mean absolute errors\n",
    "maes_1 = [mae(lr) for lr in lrs_1]\n",
    "maes_2 = [mae(lr) for lr in lrs_2]\n",
    "maes_3 = [mae(lr) for lr in lrs_3]\n",
    "\n",
    "avg_1 = np.mean(maes_1)\n",
    "avg_2 = np.mean(maes_2)\n",
    "avg_3 = np.mean(maes_3)\n",
    "\n",
    "# Save results\n",
    "np.save(filestr + 'avg_1.npy', avg_1)\n",
    "np.save(filestr + 'avg_2.npy', avg_2)\n",
    "np.save(filestr + 'avg_3.npy', avg_3)\n",
    "\n",
    "np.save(filestr + 'g.npy', g)\n",
    "np.save(filestr + 'preds_1.npy', preds_1)\n",
    "np.save(filestr + 'preds_2.npy', preds_2)\n",
    "np.save(filestr + 'preds_3.npy', preds_3)"
   ]
  },
  {
   "cell_type": "markdown",
   "id": "4388195d-94be-4ec2-adae-ec5b302f914a",
   "metadata": {
    "tags": []
   },
   "source": [
    "##### Likelihood Ratios"
   ]
  },
  {
   "cell_type": "code",
   "execution_count": 284,
   "id": "3d01cbac-cb5d-486a-9658-fc29ef324fb3",
   "metadata": {},
   "outputs": [
    {
     "data": {
      "image/png": "[encoded data removed]",
      "text/plain": [
       "<Figure size 252x208.8 with 2 Axes>"
      ]
     },
     "metadata": {
      "needs_background": "light"
     },
     "output_type": "display_data"
    },
    {
     "data": {
      "image/png": "[encoded data removed]",
      "text/plain": [
       "<Figure size 252x208.8 with 2 Axes>"
      ]
     },
     "metadata": {
      "needs_background": "light"
     },
     "output_type": "display_data"
    },
    {
     "data": {
      "image/png": "[encoded data removed]",
      "text/plain": [
       "<Figure size 252x208.8 with 2 Axes>"
      ]
     },
     "metadata": {
      "needs_background": "light"
     },
     "output_type": "display_data"
    }
   ],
   "source": [
    "g = np.load(filestr + 'g.npy')\n",
    "preds_1 = np.load(filestr + 'preds_1.npy')\n",
    "preds_2 = np.load(filestr + 'preds_2.npy')\n",
    "preds_3 = np.load(filestr + 'preds_3.npy')\n",
    "\n",
    "diff_plot(preds_1,\n",
    "          lr,\n",
    "          g,\n",
    "          aa, bb, \n",
    "          figsize = (w, h),\n",
    "          title = r'\\it Parametrizing $f$',\n",
    "          filename = 'plots/paper/c_bce_checker_sigmoid.png')\n",
    "\n",
    "diff_plot(preds_2,\n",
    "          lr,\n",
    "          g,\n",
    "          aa, bb, \n",
    "          figsize = (w, h),\n",
    "          title = r'\\it Parametrizing $f$',\n",
    "          filename = 'plots/paper/c_bce_checker_tanh.png')\n",
    "\n",
    "diff_plot(preds_3,\n",
    "          lr,\n",
    "          g,\n",
    "          aa, bb, \n",
    "          figsize = (w, h),\n",
    "          title = r'\\it Parametrizing $f$',\n",
    "          filename = 'plots/paper/c_bce_checker_arctan.png')"
   ]
  },
  {
   "cell_type": "markdown",
   "id": "19b0f0a4-5428-47f0-bd8e-0c8a5c9ce648",
   "metadata": {
    "jp-MarkdownHeadingCollapsed": true,
    "tags": []
   },
   "source": [
    "##### MAEs"
   ]
  },
  {
   "cell_type": "code",
   "execution_count": 244,
   "id": "54f57663-2207-43ad-9983-44f18b5b8b77",
   "metadata": {},
   "outputs": [
    {
     "name": "stdout",
     "output_type": "stream",
     "text": [
      "0.04146636235133548 0.051975444333920234 0.04748725643647277\n"
     ]
    }
   ],
   "source": [
    "avg_1 = np.load(filestr + 'avg_1.npy')\n",
    "avg_2 = np.load(filestr + 'avg_2.npy')\n",
    "avg_3 = np.load(filestr + 'avg_3.npy')\n",
    "\n",
    "print(avg_1, avg_2, avg_3)"
   ]
  },
  {
   "cell_type": "markdown",
   "id": "009721b6-6efa-47e1-ab76-22dc4be91083",
   "metadata": {
    "jp-MarkdownHeadingCollapsed": true,
    "tags": []
   },
   "source": [
    "#### MSE $C$ Parametrization"
   ]
  },
  {
   "cell_type": "code",
   "execution_count": 245,
   "id": "86be35d5-09e6-40a9-b52d-89fcc67c8ecc",
   "metadata": {},
   "outputs": [],
   "source": [
    "# Experiment parameters\n",
    "num = 4\n",
    "reps = 100\n",
    "\n",
    "# Model parameters\n",
    "params_1 = {'loss':mse, 'd':2}\n",
    "params_2 = {'loss':tanh_mse, 'd':2, 'output': 'linear'}\n",
    "params_3 = {'loss':arctan_mse, 'd':2,  'output': 'linear'}\n",
    "\n",
    "filestr = 'models/multivariate/c_mse/set_{}/'.format(num)\n",
    "filestr_1 = filestr + 'sigmoid/model_{}.h5'\n",
    "filestr_2 = filestr + 'tanh/model_{}.h5'\n",
    "filestr_3 = filestr + 'arctan/model_{}.h5'\n",
    "\n",
    "# Data parameters\n",
    "N = 10**6\n",
    "X = np.load('data/mvn/checker/X_trn.npy')[:N]\n",
    "y = np.load('data/mvn/checker/y_trn.npy')[:N]\n",
    "data, m, s = split_data(X, y)\n",
    "\n",
    "# True distribution information\n",
    "mu_bkgd = np.array([-0.1, 0])\n",
    "mu_sgnl = np.array([0.1, 0])\n",
    "sg_bkgd = np.array([[2, 0.25], [0.25, 1]])\n",
    "sg_sgnl = np.array([[2, -0.25], [-0.25, 1]])\n",
    "\n",
    "bkgd = stats.multivariate_normal(mu_bkgd, sg_bkgd)\n",
    "sgnl = stats.multivariate_normal(mu_sgnl, sg_sgnl)\n",
    "\n",
    "lr = make_lr(bkgd, sgnl)\n",
    "mae = make_mae(bkgd, sgnl, 'data/mvn/checker/')"
   ]
  },
  {
   "cell_type": "markdown",
   "id": "58869eb6-d827-4060-87b7-bf368d271d01",
   "metadata": {
    "jp-MarkdownHeadingCollapsed": true,
    "tags": []
   },
   "source": [
    "##### Process"
   ]
  },
  {
   "cell_type": "raw",
   "id": "7dc1f78f-3f70-479c-bbad-e17d9761bd1c",
   "metadata": {},
   "source": [
    "lrs_1 = [None] * reps\n",
    "lrs_2 = [None] * reps\n",
    "lrs_3 = [None] * reps\n",
    "\n",
    "for i in range(reps):\n",
    "    model_1 = create_model(**params_1)\n",
    "    model_2 = create_model(**params_2)\n",
    "    model_3 = create_model(**params_3)\n",
    "    \n",
    "    model_1.load_weights(filestr_1.format(i))\n",
    "    model_2.load_weights(filestr_2.format(i))\n",
    "    model_3.load_weights(filestr_3.format(i))\n",
    "    \n",
    "    lrs_1[i] = odds_lr(model_1, m, s)\n",
    "    lrs_2[i] = tanh_lr(model_2, m, s)\n",
    "    lrs_3[i] = arctan_lr(model_3, m, s)\n",
    "    \n",
    "# Calculate predictions\n",
    "g = np.meshgrid(np.linspace(-2, 2, 401), np.linspace(-2, 2, 401))\n",
    "g = np.append(g[0].reshape(-1, 1), g[1].reshape(-1, 1), axis = 1)\n",
    "aa, bb = np.meshgrid(np.linspace(-2.005, 2.005, 402), np.linspace(-2.005, 2.005, 402))\n",
    "\n",
    "preds_1 = avg_lr(get_preds(lrs_1, xs = g))\n",
    "preds_2 = avg_lr(get_preds(lrs_2, xs = g))\n",
    "preds_3 = avg_lr(get_preds(lrs_3, xs = g))\n",
    "\n",
    "# Calculate mean absolute errors\n",
    "maes_1 = [mae(lr) for lr in lrs_1]\n",
    "maes_2 = [mae(lr) for lr in lrs_2]\n",
    "maes_3 = [mae(lr) for lr in lrs_3]\n",
    "\n",
    "avg_1 = np.mean(maes_1)\n",
    "avg_2 = np.mean(maes_2)\n",
    "avg_3 = np.mean(maes_3)\n",
    "\n",
    "# Save results\n",
    "np.save(filestr + 'avg_1.npy', avg_1)\n",
    "np.save(filestr + 'avg_2.npy', avg_2)\n",
    "np.save(filestr + 'avg_3.npy', avg_3)\n",
    "\n",
    "np.save(filestr + 'g.npy', g)\n",
    "np.save(filestr + 'preds_1.npy', preds_1)\n",
    "np.save(filestr + 'preds_2.npy', preds_2)\n",
    "np.save(filestr + 'preds_3.npy', preds_3)"
   ]
  },
  {
   "cell_type": "markdown",
   "id": "2064ffbc-c2ca-4c0b-8240-368c357dee75",
   "metadata": {
    "tags": []
   },
   "source": [
    "##### Likelihood Ratio"
   ]
  },
  {
   "cell_type": "code",
   "execution_count": null,
   "id": "819f35f9-a54a-4621-8a31-0ab7bef81b6b",
   "metadata": {},
   "outputs": [],
   "source": [
    "g = np.load(filestr + 'g.npy')\n",
    "preds_1 = np.load(filestr + 'preds_1.npy')\n",
    "preds_2 = np.load(filestr + 'preds_2.npy')\n",
    "preds_3 = np.load(filestr + 'preds_3.npy')\n",
    "\n",
    "diff_plot(preds_1,\n",
    "          lr,\n",
    "          g,\n",
    "          aa, bb, \n",
    "          figsize = (w, h),\n",
    "          title = r'\\it $C$ Parametrization',\n",
    "          filename = 'plots/paper/c_mse_checker_sigmoid.png')\n",
    "\n",
    "diff_plot(preds_2,\n",
    "          lr,\n",
    "          g,\n",
    "          aa, bb, \n",
    "          figsize = (w, h),\n",
    "          title = r'\\it $C$ Parametrization',\n",
    "          filename = 'plots/paper/c_mse_checker_tanh.png')\n",
    "\n",
    "diff_plot(preds_3,\n",
    "          lr,\n",
    "          g,\n",
    "          aa, bb, \n",
    "          figsize = (w, h),\n",
    "          title = r'\\it $C$ Parametrization',\n",
    "          filename = 'plots/paper/c_mse_checker_arctan.png')"
   ]
  },
  {
   "cell_type": "markdown",
   "id": "3826f57e-f0fb-4b3a-b393-043714327b27",
   "metadata": {
    "jp-MarkdownHeadingCollapsed": true,
    "tags": []
   },
   "source": [
    "##### MAEs"
   ]
  },
  {
   "cell_type": "code",
   "execution_count": 246,
   "id": "f7989ebf-23c4-4cfe-b089-77468a4028dd",
   "metadata": {},
   "outputs": [
    {
     "name": "stdout",
     "output_type": "stream",
     "text": [
      "0.04106929147402487 0.05167574534867649 0.04781989021994115\n"
     ]
    }
   ],
   "source": [
    "avg_1 = np.load(filestr + 'avg_1.npy')\n",
    "avg_2 = np.load(filestr + 'avg_2.npy')\n",
    "avg_3 = np.load(filestr + 'avg_3.npy')\n",
    "\n",
    "print(avg_1, avg_2, avg_3)"
   ]
  },
  {
   "cell_type": "markdown",
   "id": "00873bb2-5148-4c53-82f2-3c2e1456c943",
   "metadata": {
    "tags": []
   },
   "source": [
    "#### MLC $C$ Parametrization"
   ]
  },
  {
   "cell_type": "code",
   "execution_count": 285,
   "id": "e54e2f41-50e9-447a-89d0-b273df4bb3b8",
   "metadata": {},
   "outputs": [],
   "source": [
    "# Experiment parameters\n",
    "num = 4\n",
    "reps = 100\n",
    "\n",
    "# Model parameters\n",
    "params_1 = {'loss':mlc, 'd':2, 'output': 'relu'}\n",
    "params_2 = {'loss':square_mlc, 'd':2, 'output': 'linear'}\n",
    "params_3 = {'loss':exp_mlc, 'd':2,  'output': 'linear'}\n",
    "\n",
    "filestr = 'models/multivariate/c_mlc/set_{}/'.format(num)\n",
    "filestr_1 = filestr + 'relu/model_{}.h5'\n",
    "filestr_2 = filestr + 'square/model_{}.h5'\n",
    "filestr_3 = filestr + 'exponential/model_{}.h5'\n",
    "\n",
    "# Data parameters\n",
    "N = 10**6\n",
    "X = np.load('data/mvn/checker/X_trn.npy')[:N]\n",
    "y = np.load('data/mvn/checker/y_trn.npy')[:N]\n",
    "data, m, s = split_data(X, y)\n",
    "\n",
    "# True distribution information\n",
    "mu_bkgd = np.array([-0.1, 0])\n",
    "mu_sgnl = np.array([0.1, 0])\n",
    "sg_bkgd = np.array([[2, 0.25], [0.25, 1]])\n",
    "sg_sgnl = np.array([[2, -0.25], [-0.25, 1]])\n",
    "\n",
    "bkgd = stats.multivariate_normal(mu_bkgd, sg_bkgd)\n",
    "sgnl = stats.multivariate_normal(mu_sgnl, sg_sgnl)\n",
    "\n",
    "lr = make_lr(bkgd, sgnl)\n",
    "mae = make_mae(bkgd, sgnl, 'data/mvn/checker/')"
   ]
  },
  {
   "cell_type": "markdown",
   "id": "a9d7f527-cdad-4298-9615-43c6e0dee3b6",
   "metadata": {
    "jp-MarkdownHeadingCollapsed": true,
    "tags": []
   },
   "source": [
    "##### Process"
   ]
  },
  {
   "cell_type": "raw",
   "id": "8ed12bd4-bd5e-48d8-9b97-b5bad3ef2729",
   "metadata": {},
   "source": [
    "lrs_1 = [None] * reps\n",
    "lrs_2 = [None] * reps\n",
    "lrs_3 = [None] * reps\n",
    "\n",
    "for i in range(reps):\n",
    "    model_1 = create_model(**params_1)\n",
    "    model_2 = create_model(**params_2)\n",
    "    model_3 = create_model(**params_3)\n",
    "    \n",
    "    model_1.load_weights(filestr_1.format(i))\n",
    "    model_2.load_weights(filestr_2.format(i))\n",
    "    model_3.load_weights(filestr_3.format(i))\n",
    "    \n",
    "    lrs_1[i] = pure_lr(model_1, m, s)\n",
    "    lrs_2[i] = square_lr(model_2, m, s)\n",
    "    lrs_3[i] = exp_lr(model_3, m, s)\n",
    "    \n",
    "# Calculate predictions\n",
    "g = np.meshgrid(np.linspace(-2, 2, 401), np.linspace(-2, 2, 401))\n",
    "g = np.append(g[0].reshape(-1, 1), g[1].reshape(-1, 1), axis = 1)\n",
    "aa, bb = np.meshgrid(np.linspace(-2.005, 2.005, 402), np.linspace(-2.005, 2.005, 402))\n",
    "\n",
    "preds_1 = avg_lr(get_preds(lrs_1, xs = g))\n",
    "preds_2 = avg_lr(get_preds(lrs_2, xs = g))\n",
    "preds_3 = avg_lr(get_preds(lrs_3, xs = g))\n",
    "\n",
    "# Calculate mean absolute errors\n",
    "maes_1 = [mae(lr) for lr in lrs_1]\n",
    "maes_2 = [mae(lr) for lr in lrs_2]\n",
    "maes_3 = [mae(lr) for lr in lrs_3]\n",
    "\n",
    "avg_1 = np.mean(maes_1)\n",
    "avg_2 = np.mean(maes_2)\n",
    "avg_3 = np.mean(maes_3)\n",
    "\n",
    "# Save results\n",
    "np.save(filestr + 'avg_1.npy', avg_1)\n",
    "np.save(filestr + 'avg_2.npy', avg_2)\n",
    "np.save(filestr + 'avg_3.npy', avg_3)\n",
    "\n",
    "np.save(filestr + 'g.npy', g)\n",
    "np.save(filestr + 'preds_1.npy', preds_1)\n",
    "np.save(filestr + 'preds_2.npy', preds_2)\n",
    "np.save(filestr + 'preds_3.npy', preds_3)"
   ]
  },
  {
   "cell_type": "markdown",
   "id": "c2cc0792-8cc3-4cb9-96d0-5cfe7302b6b6",
   "metadata": {
    "tags": []
   },
   "source": [
    "##### Likelihood Ratios"
   ]
  },
  {
   "cell_type": "code",
   "execution_count": 286,
   "id": "a508293d-25d2-4dc6-a63d-5fe4de8bf8df",
   "metadata": {},
   "outputs": [
    {
     "data": {
      "image/png": "[encoded data removed]",
      "text/plain": [
       "<Figure size 252x208.8 with 2 Axes>"
      ]
     },
     "metadata": {
      "needs_background": "light"
     },
     "output_type": "display_data"
    },
    {
     "data": {
      "image/png": "[encoded data removed]",
      "text/plain": [
       "<Figure size 252x208.8 with 2 Axes>"
      ]
     },
     "metadata": {
      "needs_background": "light"
     },
     "output_type": "display_data"
    },
    {
     "data": {
      "image/png": "[encoded data removed]",
      "text/plain": [
       "<Figure size 252x208.8 with 2 Axes>"
      ]
     },
     "metadata": {
      "needs_background": "light"
     },
     "output_type": "display_data"
    }
   ],
   "source": [
    "g = np.load(filestr + 'g.npy')\n",
    "preds_1 = np.load(filestr + 'preds_1.npy')\n",
    "preds_2 = np.load(filestr + 'preds_2.npy')\n",
    "preds_3 = np.load(filestr + 'preds_3.npy')\n",
    "\n",
    "diff_plot(preds_1,\n",
    "          lr,\n",
    "          g,\n",
    "          aa, bb, \n",
    "          figsize = (w, h),\n",
    "          title = r'\\it Parametrizing $f$',\n",
    "          filename = 'plots/paper/c_mlc_checker_relu.png')\n",
    "\n",
    "diff_plot(preds_2,\n",
    "          lr,\n",
    "          g,\n",
    "          aa, bb, \n",
    "          figsize = (w, h),\n",
    "          title = r'\\it Parametrizing $f$',\n",
    "          filename = 'plots/paper/c_mlc_checker_square.png')\n",
    "\n",
    "diff_plot(preds_3,\n",
    "          lr,\n",
    "          g,\n",
    "          aa, bb, \n",
    "          figsize = (w, h),\n",
    "          title = r'\\it Parametrizing $f$',\n",
    "          filename = 'plots/paper/c_mlc_checker_exponential.png')"
   ]
  },
  {
   "cell_type": "markdown",
   "id": "7f24b359-65d4-4c22-8a5e-a9c106f2322e",
   "metadata": {},
   "source": [
    "##### MAEs"
   ]
  },
  {
   "cell_type": "code",
   "execution_count": 248,
   "id": "8a9c3112-cdff-4586-b05e-0378e4468488",
   "metadata": {},
   "outputs": [
    {
     "name": "stdout",
     "output_type": "stream",
     "text": [
      "0.06984770444819115 0.16863412548263376 0.038648007277838056\n"
     ]
    }
   ],
   "source": [
    "avg_1 = np.load(filestr + 'avg_1.npy')\n",
    "avg_2 = np.load(filestr + 'avg_2.npy')\n",
    "avg_3 = np.load(filestr + 'avg_3.npy')\n",
    "\n",
    "print(avg_1, avg_2, avg_3)"
   ]
  },
  {
   "cell_type": "markdown",
   "id": "3bf17cab-612f-4805-b20e-007e3a51a057",
   "metadata": {
    "jp-MarkdownHeadingCollapsed": true,
    "tags": []
   },
   "source": [
    "#### SQR $C$ Parametrization"
   ]
  },
  {
   "cell_type": "code",
   "execution_count": 249,
   "id": "7350d021-6131-4426-855f-2cbd28b46e11",
   "metadata": {},
   "outputs": [],
   "source": [
    "# Experiment parameters\n",
    "num = 4\n",
    "reps = 100\n",
    "\n",
    "# Model parameters\n",
    "params_1 = {'loss':sqr, 'd':2, 'output': 'relu'}\n",
    "params_2 = {'loss':square_sqr, 'd':2, 'output': 'linear'}\n",
    "params_3 = {'loss':exp_sqr, 'd':2,  'output': 'linear'}\n",
    "\n",
    "filestr = 'models/multivariate/c_sqr/set_{}/'.format(num)\n",
    "filestr_1 = filestr + 'relu/model_{}.h5'\n",
    "filestr_2 = filestr + 'square/model_{}.h5'\n",
    "filestr_3 = filestr + 'exponential/model_{}.h5'\n",
    "\n",
    "# Data parameters\n",
    "N = 10**6\n",
    "X = np.load('data/mvn/checker/X_trn.npy')[:N]\n",
    "y = np.load('data/mvn/checker/y_trn.npy')[:N]\n",
    "data, m, s = split_data(X, y)\n",
    "\n",
    "# True distribution information\n",
    "mu_bkgd = np.array([-0.1, 0])\n",
    "mu_sgnl = np.array([0.1, 0])\n",
    "sg_bkgd = np.array([[2, 0.25], [0.25, 1]])\n",
    "sg_sgnl = np.array([[2, -0.25], [-0.25, 1]])\n",
    "\n",
    "bkgd = stats.multivariate_normal(mu_bkgd, sg_bkgd)\n",
    "sgnl = stats.multivariate_normal(mu_sgnl, sg_sgnl)\n",
    "\n",
    "lr = make_lr(bkgd, sgnl)\n",
    "mae = make_mae(bkgd, sgnl, 'data/mvn/checker/')"
   ]
  },
  {
   "cell_type": "markdown",
   "id": "08570b11-f613-40e4-802b-28fc0b8f92fc",
   "metadata": {
    "jp-MarkdownHeadingCollapsed": true,
    "tags": []
   },
   "source": [
    "##### Process"
   ]
  },
  {
   "cell_type": "raw",
   "id": "7477d170-889f-4e65-8057-6e96553016e2",
   "metadata": {},
   "source": [
    "lrs_1 = [None] * reps\n",
    "lrs_2 = [None] * reps\n",
    "lrs_3 = [None] * reps\n",
    "\n",
    "for i in range(reps):\n",
    "    model_1 = create_model(**params_1)\n",
    "    model_2 = create_model(**params_2)\n",
    "    model_3 = create_model(**params_3)\n",
    "    \n",
    "    model_1.load_weights(filestr_1.format(i))\n",
    "    model_2.load_weights(filestr_2.format(i))\n",
    "    model_3.load_weights(filestr_3.format(i))\n",
    "    \n",
    "    lrs_1[i] = pure_lr(model_1, m, s)\n",
    "    lrs_2[i] = square_lr(model_2, m, s)\n",
    "    lrs_3[i] = exp_lr(model_3, m, s)\n",
    "    \n",
    "# Calculate predictions\n",
    "g = np.meshgrid(np.linspace(-2, 2, 401), np.linspace(-2, 2, 401))\n",
    "g = np.append(g[0].reshape(-1, 1), g[1].reshape(-1, 1), axis = 1)\n",
    "aa, bb = np.meshgrid(np.linspace(-2.005, 2.005, 402), np.linspace(-2.005, 2.005, 402))\n",
    "\n",
    "preds_1 = avg_lr(get_preds(lrs_1, xs = g))\n",
    "preds_2 = avg_lr(get_preds(lrs_2, xs = g))\n",
    "preds_3 = avg_lr(get_preds(lrs_3, xs = g))\n",
    "\n",
    "# Calculate mean absolute errors\n",
    "maes_1 = [mae(lr) for lr in lrs_1]\n",
    "maes_2 = [mae(lr) for lr in lrs_2]\n",
    "maes_3 = [mae(lr) for lr in lrs_3]\n",
    "\n",
    "avg_1 = np.mean(maes_1)\n",
    "avg_2 = np.mean(maes_2)\n",
    "avg_3 = np.mean(maes_3)\n",
    "\n",
    "# Save results\n",
    "np.save(filestr + 'avg_1.npy', avg_1)\n",
    "np.save(filestr + 'avg_2.npy', avg_2)\n",
    "np.save(filestr + 'avg_3.npy', avg_3)\n",
    "\n",
    "np.save(filestr + 'g.npy', g)\n",
    "np.save(filestr + 'preds_1.npy', preds_1)\n",
    "np.save(filestr + 'preds_2.npy', preds_2)\n",
    "np.save(filestr + 'preds_3.npy', preds_3)"
   ]
  },
  {
   "cell_type": "markdown",
   "id": "d79fc515-0f7a-4c7b-a361-512191a1bbad",
   "metadata": {
    "jp-MarkdownHeadingCollapsed": true,
    "tags": []
   },
   "source": [
    "##### Likelihood Ratios"
   ]
  },
  {
   "cell_type": "code",
   "execution_count": null,
   "id": "1fb59445-fa7f-404f-8ff3-e5a351f4d9f3",
   "metadata": {},
   "outputs": [],
   "source": [
    "g = np.load(filestr + 'g.npy')\n",
    "preds_1 = np.load(filestr + 'preds_1.npy')\n",
    "preds_2 = np.load(filestr + 'preds_2.npy')\n",
    "preds_3 = np.load(filestr + 'preds_3.npy')\n",
    "\n",
    "diff_plot(preds_1,\n",
    "          lr,\n",
    "          g,\n",
    "          aa, bb, \n",
    "          figsize = (w, h),\n",
    "          title = r'\\it $C$ Parametrization',\n",
    "          filename = 'plots/paper/c_sqr_checker_relu.png')\n",
    "\n",
    "diff_plot(preds_2,\n",
    "          lr,\n",
    "          g,\n",
    "          aa, bb, \n",
    "          figsize = (w, h),\n",
    "          title = r'\\it $C$ Parametrization',\n",
    "          filename = 'plots/paper/c_sqr_checker_square.png')\n",
    "\n",
    "diff_plot(preds_3,\n",
    "          lr,\n",
    "          g,\n",
    "          aa, bb, \n",
    "          figsize = (w, h),\n",
    "          title = r'\\it $C$ Parametrization',\n",
    "          filename = 'plots/paper/c_sqr_checker_exponential.png')"
   ]
  },
  {
   "cell_type": "markdown",
   "id": "9c64ee7c-0bef-46e4-a2f5-95961a078ff9",
   "metadata": {},
   "source": [
    "##### MAEs"
   ]
  },
  {
   "cell_type": "code",
   "execution_count": 250,
   "id": "00205f8d-90d0-4484-aeec-3bcdd7149a0a",
   "metadata": {},
   "outputs": [
    {
     "name": "stdout",
     "output_type": "stream",
     "text": [
      "0.13466537671385065 0.7013796122729414 0.04054289465942566\n"
     ]
    }
   ],
   "source": [
    "avg_1 = np.load(filestr + 'avg_1.npy')\n",
    "avg_2 = np.load(filestr + 'avg_2.npy')\n",
    "avg_3 = np.load(filestr + 'avg_3.npy')\n",
    "\n",
    "print(avg_1, avg_2, avg_3)"
   ]
  },
  {
   "cell_type": "markdown",
   "id": "010c754d-da05-4549-b0bd-5d5522dfd3fe",
   "metadata": {
    "tags": []
   },
   "source": [
    "## $A/B$ Parametrization"
   ]
  },
  {
   "cell_type": "markdown",
   "id": "ee1c72cf-4479-4fe2-a7d7-356edec4400e",
   "metadata": {
    "tags": []
   },
   "source": [
    "### Case 0"
   ]
  },
  {
   "cell_type": "markdown",
   "id": "b9f6ebcb-7b51-4688-837c-17db6147d285",
   "metadata": {
    "jp-MarkdownHeadingCollapsed": true,
    "tags": []
   },
   "source": [
    "#### MSE $A/B$ Parametrization"
   ]
  },
  {
   "cell_type": "code",
   "execution_count": null,
   "id": "897bf48f-6060-40e3-b301-270fc90d6d4d",
   "metadata": {},
   "outputs": [],
   "source": [
    "# Experiment parameters\n",
    "num = 0\n",
    "reps = 20\n",
    "\n",
    "# File parameters\n",
    "filestr = 'models/multivariate/ab_mse/set_{}/'.format(num)\n",
    "mse_filestr = filestr + 'model_{}_{}.h5'\n",
    "\n",
    "# Data parameters\n",
    "N = 10**6\n",
    "X = np.load('data/mvn/vertical/X_trn.npy')[:N]\n",
    "y = np.load('data/mvn/vertical/y_trn.npy')[:N]\n",
    "data, m, s = split_data(X, y)\n",
    "\n",
    "ps = np.round(np.linspace(-2, 2, 101), 2)\n",
    "\n",
    "# True distribution information\n",
    "mu_bkgd = np.array([-0.1, 0])\n",
    "mu_sgnl = np.array([+0.1, 0])\n",
    "sg_bkgd = np.eye(2)\n",
    "sg_sgnl = np.eye(2)\n",
    "\n",
    "bkgd = stats.multivariate_normal(mu_bkgd, sg_bkgd)\n",
    "sgnl = stats.multivariate_normal(mu_sgnl, sg_sgnl)\n",
    "\n",
    "lr = make_lr(bkgd, sgnl)\n",
    "mae = make_mae(bkgd, sgnl, 'data/mvn/vertical/')"
   ]
  },
  {
   "cell_type": "markdown",
   "id": "3001ad9e-67ca-49a3-9d99-241be646ad3b",
   "metadata": {
    "tags": []
   },
   "source": [
    "##### Process"
   ]
  },
  {
   "cell_type": "raw",
   "id": "bba3963b-df2a-4d62-8f89-be2ea0643a7c",
   "metadata": {},
   "source": [
    "# Get model likelihood ratios.\n",
    "avgs = []\n",
    "for p in ps:\n",
    "    print(p, end = '\\t')\n",
    "    lrs = [None] * reps\n",
    "    params = {'loss':get_mse(p), 'd': 2}\n",
    "    for i in range(reps):\n",
    "        model = create_model(**params)\n",
    "        model.load_weights(mse_filestr.format(p, i))\n",
    "        lrs[i] = pow_odds_lr(model, p, m, s)\n",
    "    \n",
    "    maes = [mae(lr) for lr in lrs]\n",
    "    avgs += [np.mean(maes)]\n",
    "\n",
    "avgs = np.array(avgs)"
   ]
  },
  {
   "cell_type": "raw",
   "id": "3cf2c51e-fa4c-4023-aa10-b351ca743af1",
   "metadata": {},
   "source": [
    "# Save results\n",
    "np.save(filestr + 'avgs', avgs)"
   ]
  },
  {
   "cell_type": "markdown",
   "id": "6602bdd2-5a0d-4e19-b3ac-c9a5232bd5a8",
   "metadata": {
    "tags": []
   },
   "source": [
    "##### MAEs"
   ]
  },
  {
   "cell_type": "code",
   "execution_count": null,
   "id": "beddc802-7566-4bdf-b872-5add72aeabe6",
   "metadata": {},
   "outputs": [],
   "source": [
    "avgs = np.load(filestr + 'avgs.npy')\n",
    "ps[avgs == min(avgs)]"
   ]
  },
  {
   "cell_type": "code",
   "execution_count": null,
   "id": "7548ca9f-9f0b-4836-9620-c312d448bc4a",
   "metadata": {},
   "outputs": [],
   "source": [
    "plt.figure(figsize = (w, h))\n",
    "\n",
    "plt.plot(ps, avgs, c='blue', lw = 0.75)\n",
    "\n",
    "plt.minorticks_on()\n",
    "plt.tick_params(which = 'minor', length = 3)\n",
    "plt.tick_params(which = 'major', length = 5)\n",
    "plt.tick_params(which = 'both', direction='in')\n",
    "plt.ylabel('Mean Absolute Error')\n",
    "plt.xlabel(r'$p$')\n",
    "#plt.ylim(0, 0.16)\n",
    "\n",
    "plt.title(r\"\\it $A/B$ Parametrization\",loc=\"right\");\n",
    "plt.savefig('plots/paper/ab_mse_vertical.png', \n",
    "            dpi=300, \n",
    "            bbox_inches='tight')"
   ]
  },
  {
   "cell_type": "markdown",
   "id": "67bda491-f7ca-4806-a61b-3f42ef286ffb",
   "metadata": {
    "jp-MarkdownHeadingCollapsed": true,
    "tags": []
   },
   "source": [
    "#### SQR $A/B$ Parametrization"
   ]
  },
  {
   "cell_type": "code",
   "execution_count": null,
   "id": "f88f4f6b-aad3-4c64-8cf9-696b41c9cfda",
   "metadata": {},
   "outputs": [],
   "source": [
    "# Experiment parameters\n",
    "num = 0\n",
    "reps = 20\n",
    "\n",
    "# File parameters\n",
    "filestr = 'models/multivariate/ab_sqr/set_{}/'.format(num)\n",
    "lin_filestr = filestr + 'relu/model_{}_{}.h5'\n",
    "exp_filestr = filestr + 'exponential/model_{}_{}.h5'\n",
    "\n",
    "# Data parameters\n",
    "N = 10**6\n",
    "X = np.load('data/mvn/vertical/X_trn.npy')[:N]\n",
    "y = np.load('data/mvn/vertical/y_trn.npy')[:N]\n",
    "data, m, s = split_data(X, y)\n",
    "\n",
    "rs = np.sort(np.append(np.round(np.linspace(-2, 2, 81), 2),\n",
    "                       np.round(np.linspace(-0.05, 0.05, 26), 3)[1:-1]))\n",
    "\n",
    "# True distribution information\n",
    "mu_bkgd = np.array([-0.1, 0])\n",
    "mu_sgnl = np.array([+0.1, 0])\n",
    "sg_bkgd = np.eye(2)\n",
    "sg_sgnl = np.eye(2)\n",
    "\n",
    "bkgd = stats.multivariate_normal(mu_bkgd, sg_bkgd)\n",
    "sgnl = stats.multivariate_normal(mu_sgnl, sg_sgnl)\n",
    "\n",
    "lr = make_lr(bkgd, sgnl)\n",
    "mae = make_mae(bkgd, sgnl, 'data/mvn/vertical/')"
   ]
  },
  {
   "cell_type": "markdown",
   "id": "738ea9d3-81b7-464d-9b52-f86e5f67be0c",
   "metadata": {
    "tags": []
   },
   "source": [
    "##### Process"
   ]
  },
  {
   "cell_type": "raw",
   "id": "90fd48f8-c271-47a1-9f5b-a7f1ffeb0666",
   "metadata": {},
   "source": [
    "lin_avgs = []\n",
    "exp_avgs = []\n",
    "\n",
    "for r in rs:\n",
    "    print(r, end = '\\t')\n",
    "    lin_lrs = [None] * reps\n",
    "    exp_lrs = [None] * reps\n",
    "    lin_params = {'loss': get_sqr(r), 'd': 2, 'output':'relu'}\n",
    "    exp_params = {'loss': get_exp_sqr(r), 'd': 2, 'output':'linear'}\n",
    "    \n",
    "    for i in range(reps):\n",
    "        lin_model = create_model(**lin_params)\n",
    "        exp_model = create_model(**exp_params)\n",
    "        \n",
    "        lin_model.load_weights(lin_filestr.format(r, i))\n",
    "        exp_model.load_weights(exp_filestr.format(r, i))\n",
    "        \n",
    "        lin_lrs[i] = pow_lr(lin_model, r, m, s)\n",
    "        exp_lrs[i] = pow_exp_lr(exp_model, r, m, s)\n",
    "    \n",
    "    lin_maes = [mae(lr) for lr in lin_lrs]\n",
    "    exp_maes = [mae(lr) for lr in exp_lrs]\n",
    "    \n",
    "    lin_avgs += [np.mean(lin_maes)]\n",
    "    exp_avgs += [np.mean(exp_maes)]"
   ]
  },
  {
   "cell_type": "raw",
   "id": "a18e4ec6-53e4-42c6-9702-113780c10f27",
   "metadata": {},
   "source": [
    "# Save results\n",
    "lin_avgs = np.array(lin_avgs)\n",
    "exp_avgs = np.array(exp_avgs)\n",
    "\n",
    "np.save(filestr + 'lin_avgs', lin_avgs)\n",
    "np.save(filestr + 'exp_avgs', exp_avgs)"
   ]
  },
  {
   "cell_type": "markdown",
   "id": "75d12cb0-0346-42f3-8edb-6855122b45ce",
   "metadata": {
    "tags": []
   },
   "source": [
    "##### MAEs"
   ]
  },
  {
   "cell_type": "code",
   "execution_count": null,
   "id": "3a690dc1-0bd8-44f4-b945-0f680c977251",
   "metadata": {},
   "outputs": [],
   "source": [
    "lin_avgs = np.load(filestr + 'lin_avgs.npy')\n",
    "exp_avgs = np.load(filestr + 'exp_avgs.npy')\n",
    "\n",
    "rs[lin_avgs == min(lin_avgs)], rs[exp_avgs == min(exp_avgs)]"
   ]
  },
  {
   "cell_type": "code",
   "execution_count": null,
   "id": "6e6a8543-ed7c-4b6f-aade-ec7ad6dbf0b7",
   "metadata": {},
   "outputs": [],
   "source": [
    "plt.figure(figsize = (w, h))\n",
    "\n",
    "plt.plot(rs, lin_avgs, label=r'$\\text{ReLU}(z)$', c='blue', lw = 0.75)\n",
    "plt.plot(rs, exp_avgs, label=r'$\\exp{z}$', c='red', lw = 0.75)\n",
    "plt.legend()\n",
    "\n",
    "plt.minorticks_on()\n",
    "plt.tick_params(which = 'minor', length = 3)\n",
    "plt.tick_params(which = 'major', length = 5)\n",
    "plt.tick_params(which = 'both', direction='in')\n",
    "plt.ylabel('Mean Absolute Error')\n",
    "plt.xlabel(r'$r$')\n",
    "#plt.ylim(0, 0.16)\n",
    "\n",
    "plt.title(r\"\\it $A/B$ Parametrization\",loc=\"right\");\n",
    "plt.savefig('plots/paper/ab_sqr_vertical.png', \n",
    "            dpi=300, \n",
    "            bbox_inches='tight')"
   ]
  },
  {
   "cell_type": "markdown",
   "id": "02c31d6b-739f-4210-8bbf-e344522efd32",
   "metadata": {
    "jp-MarkdownHeadingCollapsed": true,
    "tags": []
   },
   "source": [
    "### Case 1"
   ]
  },
  {
   "cell_type": "markdown",
   "id": "cf6b897f-c920-4407-a909-53f38bfe60d4",
   "metadata": {
    "jp-MarkdownHeadingCollapsed": true,
    "tags": []
   },
   "source": [
    "#### MSE $A/B$ Parametrization"
   ]
  },
  {
   "cell_type": "code",
   "execution_count": null,
   "id": "3cc022a4-1367-4a47-b2cd-c939dc65cdd8",
   "metadata": {},
   "outputs": [],
   "source": [
    "# Experiment parameters\n",
    "num = 1\n",
    "reps = 20\n",
    "\n",
    "# File parameters\n",
    "filestr = 'models/multivariate/ab_mse/set_{}/'.format(num)\n",
    "mse_filestr = filestr + 'model_{}_{}.h5'\n",
    "\n",
    "# Data parameters\n",
    "N = 10**6\n",
    "X = np.load('data/mvn/slant/X_trn.npy')[:N]\n",
    "y = np.load('data/mvn/slant/y_trn.npy')[:N]\n",
    "data, m, s = split_data(X, y)\n",
    "\n",
    "ps = np.round(np.linspace(-2, 2, 101), 2)\n",
    "\n",
    "# True distribution information\n",
    "b = 0.1 / (2 ** (0.5))\n",
    "mu_bkgd = np.array([-b, b])\n",
    "mu_sgnl = np.array([b, -b])\n",
    "sg_bkgd = np.eye(2)\n",
    "sg_sgnl = np.eye(2)\n",
    "\n",
    "bkgd = stats.multivariate_normal(mu_bkgd, sg_bkgd)\n",
    "sgnl = stats.multivariate_normal(mu_sgnl, sg_sgnl)\n",
    "\n",
    "lr = make_lr(bkgd, sgnl)\n",
    "mae = make_mae(bkgd, sgnl, 'data/mvn/slant/')"
   ]
  },
  {
   "cell_type": "markdown",
   "id": "bfc5ab74-5535-47e1-8032-3fba6cecc31a",
   "metadata": {
    "tags": []
   },
   "source": [
    "##### Process"
   ]
  },
  {
   "cell_type": "raw",
   "id": "cfdaaf75-d98f-4f04-92bb-4028f02e495c",
   "metadata": {},
   "source": [
    "# Get model likelihood ratios.\n",
    "avgs = []\n",
    "for p in ps:\n",
    "    print(p, end = '\\t')\n",
    "    lrs = [None] * reps\n",
    "    params = {'loss':get_mse(p), 'd': 2}\n",
    "    for i in range(reps):\n",
    "        model = create_model(**params)\n",
    "        model.load_weights(mse_filestr.format(p, i))\n",
    "        lrs[i] = pow_odds_lr(model, p, m, s)\n",
    "    \n",
    "    maes = [mae(lr) for lr in lrs]\n",
    "    avgs += [np.mean(maes)]\n",
    "\n",
    "avgs = np.array(avgs)"
   ]
  },
  {
   "cell_type": "raw",
   "id": "5bdfa9e1-3e34-40b4-9799-8fb850a857fa",
   "metadata": {},
   "source": [
    "# Save results\n",
    "np.save(filestr + 'avgs', avgs)"
   ]
  },
  {
   "cell_type": "markdown",
   "id": "c3c851ed-56b7-406d-914a-6d66fa6e741a",
   "metadata": {},
   "source": [
    "##### MAEs"
   ]
  },
  {
   "cell_type": "code",
   "execution_count": null,
   "id": "a724f2bd-1f40-43a8-83e8-919de046cdf9",
   "metadata": {},
   "outputs": [],
   "source": [
    "avgs = np.load(filestr + 'avgs.npy')\n",
    "ps[avgs == min(avgs)]"
   ]
  },
  {
   "cell_type": "code",
   "execution_count": null,
   "id": "b5347dee-75d5-4b5f-98ab-47ba69a8cd96",
   "metadata": {},
   "outputs": [],
   "source": [
    "plt.figure(figsize = (w, h))\n",
    "\n",
    "plt.plot(ps, avgs, c='blue', lw = 0.75)\n",
    "\n",
    "plt.minorticks_on()\n",
    "plt.tick_params(which = 'minor', length = 3)\n",
    "plt.tick_params(which = 'major', length = 5)\n",
    "plt.tick_params(which = 'both', direction='in')\n",
    "plt.ylabel('Mean Absolute Error')\n",
    "plt.xlabel(r'$p$')\n",
    "#plt.ylim(0, 0.16)\n",
    "\n",
    "plt.title(r\"\\it $A/B$ Parametrization\",loc=\"right\");\n",
    "plt.savefig('plots/paper/ab_mse_slant.png', \n",
    "            dpi=300, \n",
    "            bbox_inches='tight')"
   ]
  },
  {
   "cell_type": "markdown",
   "id": "42b81dfa-05c6-43de-8ef7-d5741f7d16b8",
   "metadata": {
    "jp-MarkdownHeadingCollapsed": true,
    "tags": []
   },
   "source": [
    "#### SQR $A/B$ Parametrization"
   ]
  },
  {
   "cell_type": "code",
   "execution_count": null,
   "id": "25bf7ef2-461e-41bf-a3fb-602887aaebbe",
   "metadata": {},
   "outputs": [],
   "source": [
    "# Experiment parameters\n",
    "num = 1\n",
    "reps = 20\n",
    "\n",
    "# File parameters\n",
    "filestr = 'models/multivariate/ab_sqr/set_{}/'.format(num)\n",
    "lin_filestr = filestr + 'relu/model_{}_{}.h5'\n",
    "exp_filestr = filestr + 'exponential/model_{}_{}.h5'\n",
    "\n",
    "# Data parameters\n",
    "N = 10**6\n",
    "X = np.load('data/mvn/slant/X_trn.npy')[:N]\n",
    "y = np.load('data/mvn/slant/y_trn.npy')[:N]\n",
    "data, m, s = split_data(X, y)\n",
    "\n",
    "rs = np.sort(np.append(np.round(np.linspace(-2, 2, 81), 2),\n",
    "                       np.round(np.linspace(-0.05, 0.05, 26), 3)[1:-1]))\n",
    "\n",
    "# True distribution information\n",
    "b = 0.1 / (2 ** (0.5))\n",
    "mu_bkgd = np.array([-b, b])\n",
    "mu_sgnl = np.array([b, -b])\n",
    "sg_bkgd = np.eye(2)\n",
    "sg_sgnl = np.eye(2)\n",
    "\n",
    "bkgd = stats.multivariate_normal(mu_bkgd, sg_bkgd)\n",
    "sgnl = stats.multivariate_normal(mu_sgnl, sg_sgnl)\n",
    "\n",
    "lr = make_lr(bkgd, sgnl)\n",
    "mae = make_mae(bkgd, sgnl, 'data/mvn/slant/')"
   ]
  },
  {
   "cell_type": "markdown",
   "id": "9bc2dbac-cd00-433b-ab48-3995c3b8c6d0",
   "metadata": {
    "jp-MarkdownHeadingCollapsed": true,
    "tags": []
   },
   "source": [
    "##### Process"
   ]
  },
  {
   "cell_type": "raw",
   "id": "94bb5d42-f275-442e-bc8c-5428754dcc78",
   "metadata": {},
   "source": [
    "lin_avgs = []\n",
    "exp_avgs = []\n",
    "\n",
    "for r in rs:\n",
    "    print(r, end = '\\t')\n",
    "    lin_lrs = [None] * reps\n",
    "    exp_lrs = [None] * reps\n",
    "    lin_params = {'loss': get_sqr(r), 'd': 2, 'output':'relu'}\n",
    "    exp_params = {'loss': get_exp_sqr(r), 'd': 2, 'output':'linear'}\n",
    "    \n",
    "    for i in range(reps):\n",
    "        lin_model = create_model(**lin_params)\n",
    "        exp_model = create_model(**exp_params)\n",
    "        \n",
    "        lin_model.load_weights(lin_filestr.format(r, i))\n",
    "        exp_model.load_weights(exp_filestr.format(r, i))\n",
    "        \n",
    "        lin_lrs[i] = pow_lr(lin_model, r, m, s)\n",
    "        exp_lrs[i] = pow_exp_lr(exp_model, r, m, s)\n",
    "    \n",
    "    lin_maes = [mae(lr) for lr in lin_lrs]\n",
    "    exp_maes = [mae(lr) for lr in exp_lrs]\n",
    "    \n",
    "    lin_avgs += [np.mean(lin_maes)]\n",
    "    exp_avgs += [np.mean(exp_maes)]"
   ]
  },
  {
   "cell_type": "raw",
   "id": "ede775d5-e5ff-458f-bb13-7f8f573b2843",
   "metadata": {},
   "source": [
    "# Save results\n",
    "lin_avgs = np.array(lin_avgs)\n",
    "exp_avgs = np.array(exp_avgs)\n",
    "\n",
    "np.save(filestr + 'lin_avgs', lin_avgs)\n",
    "np.save(filestr + 'exp_avgs', exp_avgs)"
   ]
  },
  {
   "cell_type": "markdown",
   "id": "59a56203-cae9-41f8-8d18-b5d84e6aba6c",
   "metadata": {
    "tags": []
   },
   "source": [
    "##### MAEs"
   ]
  },
  {
   "cell_type": "code",
   "execution_count": null,
   "id": "448320ce-32b3-447c-816e-f7f66563b635",
   "metadata": {},
   "outputs": [],
   "source": [
    "lin_avgs = np.load(filestr + 'lin_avgs.npy')\n",
    "exp_avgs = np.load(filestr + 'exp_avgs.npy')\n",
    "\n",
    "rs[lin_avgs == min(lin_avgs)], rs[exp_avgs == min(exp_avgs)]"
   ]
  },
  {
   "cell_type": "code",
   "execution_count": null,
   "id": "fd29247c-e1b3-42e7-b3ec-9de62f7a59a7",
   "metadata": {},
   "outputs": [],
   "source": [
    "plt.figure(figsize = (w, h))\n",
    "\n",
    "plt.plot(rs, lin_avgs, label=r'$\\text{ReLU}(z)$', c='blue', lw = 0.75)\n",
    "plt.plot(rs, exp_avgs, label=r'$\\exp{z}$', c='red', lw = 0.75)\n",
    "plt.legend()\n",
    "\n",
    "plt.minorticks_on()\n",
    "plt.tick_params(which = 'minor', length = 3)\n",
    "plt.tick_params(which = 'major', length = 5)\n",
    "plt.tick_params(which = 'both', direction='in')\n",
    "plt.ylabel('Mean Absolute Error')\n",
    "plt.xlabel(r'$r$')\n",
    "#plt.ylim(0, 0.16)\n",
    "\n",
    "plt.title(r\"\\it $A/B$ Parametrization\",loc=\"right\");\n",
    "plt.savefig('plots/paper/ab_sqr_slant.png', \n",
    "            dpi=300, \n",
    "            bbox_inches='tight')"
   ]
  },
  {
   "cell_type": "markdown",
   "id": "6e7e63bb-b00d-4012-a98b-dafe3b7c3447",
   "metadata": {
    "jp-MarkdownHeadingCollapsed": true,
    "tags": []
   },
   "source": [
    "### Case 2"
   ]
  },
  {
   "cell_type": "markdown",
   "id": "4f60545a-5889-4372-95ba-b6a9ea8f3f17",
   "metadata": {
    "jp-MarkdownHeadingCollapsed": true,
    "tags": []
   },
   "source": [
    "#### MSE $A/B$ Parametrization"
   ]
  },
  {
   "cell_type": "code",
   "execution_count": null,
   "id": "a83f4038-a108-45a5-b6c7-6a59fce13522",
   "metadata": {},
   "outputs": [],
   "source": [
    "# Experiment parameters\n",
    "num = 2\n",
    "reps = 20\n",
    "\n",
    "# File parameters\n",
    "filestr = 'models/multivariate/ab_mse/set_{}/'.format(num)\n",
    "mse_filestr = filestr + 'model_{}_{}.h5'\n",
    "\n",
    "# Data parameters\n",
    "N = 10**6\n",
    "X = np.load('data/mvn/circle/X_trn.npy')[:N]\n",
    "y = np.load('data/mvn/circle/y_trn.npy')[:N]\n",
    "data, m, s = split_data(X, y)\n",
    "\n",
    "ps = np.round(np.linspace(-2, 2, 101), 2)\n",
    "\n",
    "# True distribution information\n",
    "mu_bkgd = np.array([-0.1, 0])\n",
    "mu_sgnl = np.array([0.1, 0])\n",
    "sg_bkgd = 2*np.eye(2)\n",
    "sg_sgnl = np.eye(2)\n",
    "\n",
    "bkgd = stats.multivariate_normal(mu_bkgd, sg_bkgd)\n",
    "sgnl = stats.multivariate_normal(mu_sgnl, sg_sgnl)\n",
    "\n",
    "lr = make_lr(bkgd, sgnl)\n",
    "mae = make_mae(bkgd, sgnl, 'data/mvn/circle/')"
   ]
  },
  {
   "cell_type": "markdown",
   "id": "c90f7c39-0009-4acc-aaf0-9ef2c75f1f4a",
   "metadata": {
    "jp-MarkdownHeadingCollapsed": true,
    "tags": []
   },
   "source": [
    "##### Process"
   ]
  },
  {
   "cell_type": "raw",
   "id": "107258d8-0b4e-4eb4-9885-c269bcb7cce1",
   "metadata": {},
   "source": [
    "# Get model likelihood ratios.\n",
    "avgs = []\n",
    "for p in ps:\n",
    "    print(p, end = '\\t')\n",
    "    lrs = [None] * reps\n",
    "    params = {'loss':get_mse(p), 'd': 2}\n",
    "    for i in range(reps):\n",
    "        model = create_model(**params)\n",
    "        model.load_weights(mse_filestr.format(p, i))\n",
    "        lrs[i] = pow_odds_lr(model, p, m, s)\n",
    "    \n",
    "    maes = [mae(lr) for lr in lrs]\n",
    "    avgs += [np.mean(maes)]\n",
    "\n",
    "avgs = np.array(avgs)"
   ]
  },
  {
   "cell_type": "raw",
   "id": "92bc9504-a24f-42c4-a411-b68ef3151c52",
   "metadata": {},
   "source": [
    "# Save results\n",
    "np.save(filestr + 'avgs', avgs)"
   ]
  },
  {
   "cell_type": "markdown",
   "id": "44da659b-c161-448d-a380-be5786c9ac57",
   "metadata": {},
   "source": [
    "##### MAEs"
   ]
  },
  {
   "cell_type": "code",
   "execution_count": null,
   "id": "e01f0abe-6057-4ffb-94fe-de4c5ceab691",
   "metadata": {},
   "outputs": [],
   "source": [
    "avgs = np.load(filestr + 'avgs.npy')\n",
    "ps[avgs == min(avgs)]"
   ]
  },
  {
   "cell_type": "code",
   "execution_count": null,
   "id": "fd0ce3d6-8f2e-423a-bb15-7044e2a000a7",
   "metadata": {},
   "outputs": [],
   "source": [
    "plt.figure(figsize = (w, h))\n",
    "\n",
    "plt.plot(ps, avgs, c='blue', lw = 0.75)\n",
    "\n",
    "plt.minorticks_on()\n",
    "plt.tick_params(which = 'minor', length = 3)\n",
    "plt.tick_params(which = 'major', length = 5)\n",
    "plt.tick_params(which = 'both', direction='in')\n",
    "plt.ylabel('Mean Absolute Error')\n",
    "plt.xlabel(r'$p$')\n",
    "#plt.ylim(0, 0.16)\n",
    "\n",
    "plt.title(r\"\\it $A/B$ Parametrization\",loc=\"right\");\n",
    "plt.savefig('plots/paper/ab_mse_circle.png', \n",
    "            dpi=300, \n",
    "            bbox_inches='tight')"
   ]
  },
  {
   "cell_type": "markdown",
   "id": "75b581f4-2589-48af-af9d-9c3c14efb09f",
   "metadata": {
    "jp-MarkdownHeadingCollapsed": true,
    "tags": []
   },
   "source": [
    "#### SQR $A/B$ Parametrization"
   ]
  },
  {
   "cell_type": "code",
   "execution_count": null,
   "id": "faa4d7bd-e0f5-45b4-be76-ed05843e5667",
   "metadata": {},
   "outputs": [],
   "source": [
    "# Experiment parameters\n",
    "num = 2\n",
    "reps = 20\n",
    "\n",
    "# File parameters\n",
    "filestr = 'models/multivariate/ab_sqr/set_{}/'.format(num)\n",
    "lin_filestr = filestr + 'relu/model_{}_{}.h5'\n",
    "exp_filestr = filestr + 'exponential/model_{}_{}.h5'\n",
    "\n",
    "# Data parameters\n",
    "N = 10**6\n",
    "X = np.load('data/mvn/circle/X_trn.npy')[:N]\n",
    "y = np.load('data/mvn/circle/y_trn.npy')[:N]\n",
    "data, m, s = split_data(X, y)\n",
    "\n",
    "rs = np.sort(np.append(np.round(np.linspace(-2, 2, 81), 2),\n",
    "                       np.round(np.linspace(-0.05, 0.05, 26), 3)[1:-1]))\n",
    "\n",
    "# True distribution information\n",
    "mu_bkgd = np.array([-0.1, 0])\n",
    "mu_sgnl = np.array([0.1, 0])\n",
    "sg_bkgd = 2*np.eye(2)\n",
    "sg_sgnl = np.eye(2)\n",
    "\n",
    "bkgd = stats.multivariate_normal(mu_bkgd, sg_bkgd)\n",
    "sgnl = stats.multivariate_normal(mu_sgnl, sg_sgnl)\n",
    "\n",
    "lr = make_lr(bkgd, sgnl)\n",
    "mae = make_mae(bkgd, sgnl, 'data/mvn/circle/')"
   ]
  },
  {
   "cell_type": "markdown",
   "id": "4adf1829-68ee-4042-a2f3-5865ca99c9da",
   "metadata": {
    "jp-MarkdownHeadingCollapsed": true,
    "tags": []
   },
   "source": [
    "##### Process"
   ]
  },
  {
   "cell_type": "raw",
   "id": "5e4dee70-d842-45f7-b35b-147eec094188",
   "metadata": {},
   "source": [
    "lin_avgs = []\n",
    "exp_avgs = []\n",
    "\n",
    "for r in rs:\n",
    "    print(r, end = '\\t')\n",
    "    lin_lrs = [None] * reps\n",
    "    exp_lrs = [None] * reps\n",
    "    lin_params = {'loss': get_sqr(r), 'd': 2, 'output':'relu'}\n",
    "    exp_params = {'loss': get_exp_sqr(r), 'd': 2, 'output':'linear'}\n",
    "    \n",
    "    for i in range(reps):\n",
    "        lin_model = create_model(**lin_params)\n",
    "        exp_model = create_model(**exp_params)\n",
    "        \n",
    "        lin_model.load_weights(lin_filestr.format(r, i))\n",
    "        exp_model.load_weights(exp_filestr.format(r, i))\n",
    "        \n",
    "        lin_lrs[i] = pow_lr(lin_model, r, m, s)\n",
    "        exp_lrs[i] = pow_exp_lr(exp_model, r, m, s)\n",
    "    \n",
    "    lin_maes = [mae(lr) for lr in lin_lrs]\n",
    "    exp_maes = [mae(lr) for lr in exp_lrs]\n",
    "    \n",
    "    lin_avgs += [np.mean(lin_maes)]\n",
    "    exp_avgs += [np.mean(exp_maes)]"
   ]
  },
  {
   "cell_type": "raw",
   "id": "e8b4d926-69b7-476c-8e1e-d21c57a6e926",
   "metadata": {},
   "source": [
    "# Save results\n",
    "lin_avgs = np.array(lin_avgs)\n",
    "exp_avgs = np.array(exp_avgs)\n",
    "\n",
    "np.save(filestr + 'lin_avgs', lin_avgs)\n",
    "np.save(filestr + 'exp_avgs', exp_avgs)"
   ]
  },
  {
   "cell_type": "markdown",
   "id": "149b68f9-31ea-4563-be46-cc17af91cbfc",
   "metadata": {
    "tags": []
   },
   "source": [
    "##### MAEs"
   ]
  },
  {
   "cell_type": "code",
   "execution_count": null,
   "id": "0e5e136c-82ed-4d28-a921-64df34c39be0",
   "metadata": {},
   "outputs": [],
   "source": [
    "lin_avgs = np.load(filestr + 'lin_avgs.npy')\n",
    "exp_avgs = np.load(filestr + 'exp_avgs.npy')\n",
    "\n",
    "rs[lin_avgs == min(lin_avgs)], rs[exp_avgs == min(exp_avgs)]"
   ]
  },
  {
   "cell_type": "code",
   "execution_count": null,
   "id": "46f5f82a-9b52-4a68-98ed-e64925ba3288",
   "metadata": {},
   "outputs": [],
   "source": [
    "plt.figure(figsize = (w, h))\n",
    "\n",
    "plt.plot(rs, lin_avgs, label=r'$\\text{ReLU}(z)$', c='blue', lw = 0.75)\n",
    "plt.plot(rs, exp_avgs, label=r'$\\exp{z}$', c='red', lw = 0.75)\n",
    "plt.legend()\n",
    "\n",
    "plt.minorticks_on()\n",
    "plt.tick_params(which = 'minor', length = 3)\n",
    "plt.tick_params(which = 'major', length = 5)\n",
    "plt.tick_params(which = 'both', direction='in')\n",
    "plt.ylabel('Mean Absolute Error')\n",
    "plt.xlabel(r'$r$')\n",
    "#plt.ylim(0, 0.16)\n",
    "\n",
    "plt.title(r\"\\it $A/B$ Parametrization\",loc=\"right\");\n",
    "plt.savefig('plots/paper/ab_sqr_circle.png', \n",
    "            dpi=300, \n",
    "            bbox_inches='tight')"
   ]
  },
  {
   "cell_type": "markdown",
   "id": "b6db52b6-f8c4-4e20-922e-babe009e2d2e",
   "metadata": {
    "jp-MarkdownHeadingCollapsed": true,
    "tags": []
   },
   "source": [
    "### Case 3"
   ]
  },
  {
   "cell_type": "markdown",
   "id": "0e974baf-8693-4ffd-8847-6dbc76dfa540",
   "metadata": {
    "jp-MarkdownHeadingCollapsed": true,
    "tags": []
   },
   "source": [
    "#### MSE $A/B$ Parametrization"
   ]
  },
  {
   "cell_type": "code",
   "execution_count": null,
   "id": "4e580529-5bc9-42cc-953c-a0d68ae6647b",
   "metadata": {},
   "outputs": [],
   "source": [
    "# Experiment parameters\n",
    "num = 3\n",
    "reps = 20\n",
    "\n",
    "# File parameters\n",
    "filestr = 'models/multivariate/ab_mse/set_{}/'.format(num)\n",
    "mse_filestr = filestr + 'model_{}_{}.h5'\n",
    "\n",
    "# Data parameters\n",
    "N = 10**6\n",
    "X = np.load('data/mvn/hyperbola/X_trn.npy')[:N]\n",
    "y = np.load('data/mvn/hyperbola/y_trn.npy')[:N]\n",
    "data, m, s = split_data(X, y)\n",
    "\n",
    "ps = np.round(np.linspace(-2, 2, 101), 2)\n",
    "\n",
    "# True distribution information\n",
    "mu_bkgd = np.array([-0.1, 0])\n",
    "mu_sgnl = np.array([0.1, 0])\n",
    "sg_bkgd = np.array([[2, 0], [0, 1]])\n",
    "sg_sgnl = np.array([[1, 0], [0, 2]])\n",
    "\n",
    "bkgd = stats.multivariate_normal(mu_bkgd, sg_bkgd)\n",
    "sgnl = stats.multivariate_normal(mu_sgnl, sg_sgnl)\n",
    "\n",
    "lr = make_lr(bkgd, sgnl)\n",
    "mae = make_mae(bkgd, sgnl, 'data/mvn/hyperbola/')"
   ]
  },
  {
   "cell_type": "markdown",
   "id": "db965764-8fe2-4fed-80eb-d513ac4fedc1",
   "metadata": {
    "jp-MarkdownHeadingCollapsed": true,
    "tags": []
   },
   "source": [
    "##### Process"
   ]
  },
  {
   "cell_type": "raw",
   "id": "2d4c9b24-b383-4673-b8fa-3aa4a5100865",
   "metadata": {},
   "source": [
    "# Get model likelihood ratios.\n",
    "avgs = []\n",
    "for p in ps:\n",
    "    print(p, end = '\\t')\n",
    "    lrs = [None] * reps\n",
    "    params = {'loss':get_mse(p), 'd': 2}\n",
    "    for i in range(reps):\n",
    "        model = create_model(**params)\n",
    "        model.load_weights(mse_filestr.format(p, i))\n",
    "        lrs[i] = pow_odds_lr(model, p, m, s)\n",
    "    \n",
    "    maes = [mae(lr) for lr in lrs]\n",
    "    avgs += [np.mean(maes)]\n",
    "\n",
    "avgs = np.array(avgs)"
   ]
  },
  {
   "cell_type": "raw",
   "id": "613111ba-aa21-474c-9c96-c559016148e1",
   "metadata": {},
   "source": [
    "# Save results\n",
    "np.save(filestr + 'avgs', avgs)"
   ]
  },
  {
   "cell_type": "markdown",
   "id": "48b42626-3b46-4d47-96cf-fb415d84cf00",
   "metadata": {},
   "source": [
    "##### MAEs"
   ]
  },
  {
   "cell_type": "code",
   "execution_count": null,
   "id": "c66a3ec0-9f8c-4197-96e0-58d8cc70f9a0",
   "metadata": {},
   "outputs": [],
   "source": [
    "avgs = np.load(filestr + 'avgs.npy')\n",
    "ps[avgs == min(avgs)]"
   ]
  },
  {
   "cell_type": "code",
   "execution_count": null,
   "id": "aa98ddc8-1ab1-49c6-89b1-ae8fd8f1bdf0",
   "metadata": {},
   "outputs": [],
   "source": [
    "plt.figure(figsize = (w, h))\n",
    "\n",
    "plt.plot(ps, avgs, c='blue', lw = 0.75)\n",
    "\n",
    "plt.minorticks_on()\n",
    "plt.tick_params(which = 'minor', length = 3)\n",
    "plt.tick_params(which = 'major', length = 5)\n",
    "plt.tick_params(which = 'both', direction='in')\n",
    "plt.ylabel('Mean Absolute Error')\n",
    "plt.xlabel(r'$p$')\n",
    "#plt.ylim(0, 0.16)\n",
    "\n",
    "plt.title(r\"\\it $A/B$ Parametrization\",loc=\"right\");\n",
    "plt.savefig('plots/paper/ab_mse_hyperbola.png', \n",
    "            dpi=300, \n",
    "            bbox_inches='tight')"
   ]
  },
  {
   "cell_type": "markdown",
   "id": "298c78f4-96f0-4201-81e4-baa58e9c038f",
   "metadata": {
    "jp-MarkdownHeadingCollapsed": true,
    "tags": []
   },
   "source": [
    "#### SQR $A/B$ Parametrization"
   ]
  },
  {
   "cell_type": "code",
   "execution_count": null,
   "id": "9a50364a-bd99-4597-9dbc-9b20d0618c2d",
   "metadata": {},
   "outputs": [],
   "source": [
    "# Experiment parameters\n",
    "num = 3\n",
    "reps = 20\n",
    "\n",
    "# File parameters\n",
    "filestr = 'models/multivariate/ab_sqr/set_{}/'.format(num)\n",
    "lin_filestr = filestr + 'relu/model_{}_{}.h5'\n",
    "exp_filestr = filestr + 'exponential/model_{}_{}.h5'\n",
    "\n",
    "# Data parameters\n",
    "N = 10**6\n",
    "X = np.load('data/mvn/hyperbola/X_trn.npy')[:N]\n",
    "y = np.load('data/mvn/hyperbola/y_trn.npy')[:N]\n",
    "data, m, s = split_data(X, y)\n",
    "\n",
    "rs = np.sort(np.append(np.round(np.linspace(-2, 2, 81), 2),\n",
    "                       np.round(np.linspace(-0.05, 0.05, 26), 3)[1:-1]))\n",
    "\n",
    "# True distribution information\n",
    "mu_bkgd = np.array([-0.1, 0])\n",
    "mu_sgnl = np.array([0.1, 0])\n",
    "sg_bkgd = np.array([[2, 0], [0, 1]])\n",
    "sg_sgnl = np.array([[1, 0], [0, 2]])\n",
    "\n",
    "bkgd = stats.multivariate_normal(mu_bkgd, sg_bkgd)\n",
    "sgnl = stats.multivariate_normal(mu_sgnl, sg_sgnl)\n",
    "\n",
    "lr = make_lr(bkgd, sgnl)\n",
    "mae = make_mae(bkgd, sgnl, 'data/mvn/hyperbola/')"
   ]
  },
  {
   "cell_type": "markdown",
   "id": "98478560-3a1b-4541-bc8c-2060b259d64e",
   "metadata": {
    "jp-MarkdownHeadingCollapsed": true,
    "tags": []
   },
   "source": [
    "##### Process"
   ]
  },
  {
   "cell_type": "raw",
   "id": "543a6ee7-3e9e-47d1-808e-dcfaad9dfc6c",
   "metadata": {},
   "source": [
    "lin_avgs = []\n",
    "exp_avgs = []\n",
    "\n",
    "for r in rs:\n",
    "    print(r, end = '\\t')\n",
    "    lin_lrs = [None] * reps\n",
    "    exp_lrs = [None] * reps\n",
    "    lin_params = {'loss': get_sqr(r), 'd': 2, 'output':'relu'}\n",
    "    exp_params = {'loss': get_exp_sqr(r), 'd': 2, 'output':'linear'}\n",
    "    \n",
    "    for i in range(reps):\n",
    "        lin_model = create_model(**lin_params)\n",
    "        exp_model = create_model(**exp_params)\n",
    "        \n",
    "        lin_model.load_weights(lin_filestr.format(r, i))\n",
    "        exp_model.load_weights(exp_filestr.format(r, i))\n",
    "        \n",
    "        lin_lrs[i] = pow_lr(lin_model, r, m, s)\n",
    "        exp_lrs[i] = pow_exp_lr(exp_model, r, m, s)\n",
    "    \n",
    "    lin_maes = [mae(lr) for lr in lin_lrs]\n",
    "    exp_maes = [mae(lr) for lr in exp_lrs]\n",
    "    \n",
    "    lin_avgs += [np.mean(lin_maes)]\n",
    "    exp_avgs += [np.mean(exp_maes)]"
   ]
  },
  {
   "cell_type": "raw",
   "id": "5568506f-eb78-449d-bf64-dad32d059bb5",
   "metadata": {},
   "source": [
    "# Save results\n",
    "lin_avgs = np.array(lin_avgs)\n",
    "exp_avgs = np.array(exp_avgs)\n",
    "\n",
    "np.save(filestr + 'lin_avgs', lin_avgs)\n",
    "np.save(filestr + 'exp_avgs', exp_avgs)"
   ]
  },
  {
   "cell_type": "markdown",
   "id": "db4f3b0f-2534-4545-b0bc-24bb067aac6c",
   "metadata": {
    "tags": []
   },
   "source": [
    "##### MAEs"
   ]
  },
  {
   "cell_type": "code",
   "execution_count": null,
   "id": "f7e2fe15-5136-47e7-87a1-23d7fc056d10",
   "metadata": {},
   "outputs": [],
   "source": [
    "lin_avgs = np.load(filestr + 'lin_avgs.npy')\n",
    "exp_avgs = np.load(filestr + 'exp_avgs.npy')\n",
    "\n",
    "rs[lin_avgs == min(lin_avgs)], rs[exp_avgs == min(exp_avgs)]"
   ]
  },
  {
   "cell_type": "code",
   "execution_count": null,
   "id": "7dc69c6e-9611-4884-9dac-4a22cf8afd8f",
   "metadata": {},
   "outputs": [],
   "source": [
    "plt.figure(figsize = (w, h))\n",
    "\n",
    "plt.plot(rs, lin_avgs, label=r'$\\text{ReLU}(z)$', c='blue', lw = 0.75)\n",
    "plt.plot(rs, exp_avgs, label=r'$\\exp{z}$', c='red', lw = 0.75)\n",
    "plt.legend()\n",
    "\n",
    "plt.minorticks_on()\n",
    "plt.tick_params(which = 'minor', length = 3)\n",
    "plt.tick_params(which = 'major', length = 5)\n",
    "plt.tick_params(which = 'both', direction='in')\n",
    "plt.ylabel('Mean Absolute Error')\n",
    "plt.xlabel(r'$r$')\n",
    "#plt.ylim(0, 0.16)\n",
    "\n",
    "plt.title(r\"\\it $A/B$ Parametrization\",loc=\"right\");\n",
    "plt.savefig('plots/paper/ab_sqr_hyperbola.png', \n",
    "            dpi=300, \n",
    "            bbox_inches='tight')"
   ]
  },
  {
   "cell_type": "markdown",
   "id": "3539a7e7-0b6c-4ec8-a51d-c23fd47ef91a",
   "metadata": {
    "jp-MarkdownHeadingCollapsed": true,
    "tags": []
   },
   "source": [
    "### Case 4"
   ]
  },
  {
   "cell_type": "markdown",
   "id": "09a45c67-cda9-4c56-9883-53340c240502",
   "metadata": {
    "jp-MarkdownHeadingCollapsed": true,
    "tags": []
   },
   "source": [
    "#### MSE $A/B$ Parametrization"
   ]
  },
  {
   "cell_type": "code",
   "execution_count": null,
   "id": "a736fe63-a021-47de-b5f9-012912daec97",
   "metadata": {},
   "outputs": [],
   "source": [
    "# Experiment parameters\n",
    "num = 4\n",
    "reps = 20\n",
    "\n",
    "# File parameters\n",
    "filestr = 'models/multivariate/ab_mse/set_{}/'.format(num)\n",
    "mse_filestr = filestr + 'model_{}_{}.h5'\n",
    "\n",
    "# Data parameters\n",
    "N = 10**6\n",
    "X = np.load('data/mvn/checker/X_trn.npy')[:N]\n",
    "y = np.load('data/mvn/checker/y_trn.npy')[:N]\n",
    "data, m, s = split_data(X, y)\n",
    "\n",
    "ps = np.round(np.linspace(-2, 2, 101), 2)\n",
    "\n",
    "# True distribution information\n",
    "mu_bkgd = np.array([-0.1, 0])\n",
    "mu_sgnl = np.array([0.1, 0])\n",
    "sg_bkgd = np.array([[2, 0.25], [0.25, 1]])\n",
    "sg_sgnl = np.array([[2, -0.25], [-0.25, 1]])\n",
    "\n",
    "bkgd = stats.multivariate_normal(mu_bkgd, sg_bkgd)\n",
    "sgnl = stats.multivariate_normal(mu_sgnl, sg_sgnl)\n",
    "\n",
    "lr = make_lr(bkgd, sgnl)\n",
    "mae = make_mae(bkgd, sgnl, 'data/mvn/checker/')"
   ]
  },
  {
   "cell_type": "markdown",
   "id": "ee979534-6f76-4bda-8021-020a3c54753a",
   "metadata": {
    "jp-MarkdownHeadingCollapsed": true,
    "tags": []
   },
   "source": [
    "##### Process"
   ]
  },
  {
   "cell_type": "raw",
   "id": "d3d05637-1a6a-47fe-9c78-326893726155",
   "metadata": {},
   "source": [
    "# Get model likelihood ratios.\n",
    "avgs = []\n",
    "for p in ps:\n",
    "    print(p, end = '\\t')\n",
    "    lrs = [None] * reps\n",
    "    params = {'loss':get_mse(p), 'd': 2}\n",
    "    for i in range(reps):\n",
    "        model = create_model(**params)\n",
    "        model.load_weights(mse_filestr.format(p, i))\n",
    "        lrs[i] = pow_odds_lr(model, p, m, s)\n",
    "    \n",
    "    maes = [mae(lr) for lr in lrs]\n",
    "    avgs += [np.mean(maes)]\n",
    "\n",
    "avgs = np.array(avgs)"
   ]
  },
  {
   "cell_type": "raw",
   "id": "8141e582-f4c1-4a8e-b192-b4dcdf34c7ec",
   "metadata": {},
   "source": [
    "# Save results\n",
    "np.save(filestr + 'avgs', avgs)"
   ]
  },
  {
   "cell_type": "markdown",
   "id": "ae27dd71-8cfd-402f-af35-b34647d82d13",
   "metadata": {},
   "source": [
    "##### MAEs"
   ]
  },
  {
   "cell_type": "code",
   "execution_count": null,
   "id": "4c7f0307-9e5a-4239-bc7e-efb2104086dd",
   "metadata": {},
   "outputs": [],
   "source": [
    "avgs = np.load(filestr + 'avgs.npy')\n",
    "ps[avgs == min(avgs)]"
   ]
  },
  {
   "cell_type": "code",
   "execution_count": null,
   "id": "b0d44026-bda6-431c-a1ed-6fb516dd4729",
   "metadata": {},
   "outputs": [],
   "source": [
    "plt.figure(figsize = (w, h))\n",
    "\n",
    "plt.plot(ps, avgs, c='blue', lw = 0.75)\n",
    "\n",
    "plt.minorticks_on()\n",
    "plt.tick_params(which = 'minor', length = 3)\n",
    "plt.tick_params(which = 'major', length = 5)\n",
    "plt.tick_params(which = 'both', direction='in')\n",
    "plt.ylabel('Mean Absolute Error')\n",
    "plt.xlabel(r'$p$')\n",
    "#plt.ylim(0, 0.16)\n",
    "\n",
    "plt.title(r\"\\it $A/B$ Parametrization\",loc=\"right\");\n",
    "plt.savefig('plots/paper/ab_mse_checker.png', \n",
    "            dpi=300, \n",
    "            bbox_inches='tight')"
   ]
  },
  {
   "cell_type": "markdown",
   "id": "f6d33b15-decf-4995-b08b-e0c1000b0469",
   "metadata": {
    "jp-MarkdownHeadingCollapsed": true,
    "tags": []
   },
   "source": [
    "#### SQR $A/B$ Parametrization"
   ]
  },
  {
   "cell_type": "code",
   "execution_count": null,
   "id": "bd632db9-3f70-4bbc-9831-f63838f562bc",
   "metadata": {},
   "outputs": [],
   "source": [
    "# Experiment parameters\n",
    "num = 4\n",
    "reps = 20\n",
    "\n",
    "# File parameters\n",
    "filestr = 'models/multivariate/ab_sqr/set_{}/'.format(num)\n",
    "lin_filestr = filestr + 'relu/model_{}_{}.h5'\n",
    "exp_filestr = filestr + 'exponential/model_{}_{}.h5'\n",
    "\n",
    "# Data parameters\n",
    "N = 10**6\n",
    "X = np.load('data/mvn/checker/X_trn.npy')[:N]\n",
    "y = np.load('data/mvn/checker/y_trn.npy')[:N]\n",
    "data, m, s = split_data(X, y)\n",
    "\n",
    "rs = np.sort(np.append(np.round(np.linspace(-2, 2, 81), 2),\n",
    "                       np.round(np.linspace(-0.05, 0.05, 26), 3)[1:-1]))\n",
    "\n",
    "# True distribution information\n",
    "mu_bkgd = np.array([-0.1, 0])\n",
    "mu_sgnl = np.array([0.1, 0])\n",
    "sg_bkgd = np.array([[2, 0.25], [0.25, 1]])\n",
    "sg_sgnl = np.array([[2, -0.25], [-0.25, 1]])\n",
    "\n",
    "bkgd = stats.multivariate_normal(mu_bkgd, sg_bkgd)\n",
    "sgnl = stats.multivariate_normal(mu_sgnl, sg_sgnl)\n",
    "\n",
    "lr = make_lr(bkgd, sgnl)\n",
    "mae = make_mae(bkgd, sgnl, 'data/mvn/checker/')"
   ]
  },
  {
   "cell_type": "markdown",
   "id": "722cc453-3348-400f-bb30-536bf773e7b7",
   "metadata": {
    "tags": []
   },
   "source": [
    "##### Process"
   ]
  },
  {
   "cell_type": "code",
   "execution_count": null,
   "id": "2f47581b-95a8-46e8-bc25-86aa4daf5bdb",
   "metadata": {},
   "outputs": [],
   "source": [
    "lin_avgs = []\n",
    "exp_avgs = []\n",
    "\n",
    "for r in rs:\n",
    "    print(r, end = '\\t')\n",
    "    lin_lrs = [None] * reps\n",
    "    exp_lrs = [None] * reps\n",
    "    lin_params = {'loss': get_sqr(r), 'd': 2, 'output':'relu'}\n",
    "    exp_params = {'loss': get_exp_sqr(r), 'd': 2, 'output':'linear'}\n",
    "    \n",
    "    for i in range(reps):\n",
    "        lin_model = create_model(**lin_params)\n",
    "        exp_model = create_model(**exp_params)\n",
    "        \n",
    "        lin_model.load_weights(lin_filestr.format(r, i))\n",
    "        exp_model.load_weights(exp_filestr.format(r, i))\n",
    "        \n",
    "        lin_lrs[i] = pow_lr(lin_model, r, m, s)\n",
    "        exp_lrs[i] = pow_exp_lr(exp_model, r, m, s)\n",
    "    \n",
    "    lin_maes = [mae(lr) for lr in lin_lrs]\n",
    "    exp_maes = [mae(lr) for lr in exp_lrs]\n",
    "    \n",
    "    lin_avgs += [np.mean(lin_maes)]\n",
    "    exp_avgs += [np.mean(exp_maes)]"
   ]
  },
  {
   "cell_type": "code",
   "execution_count": null,
   "id": "5d62a2a5-4636-4e56-85b5-7054f31ec1c7",
   "metadata": {},
   "outputs": [],
   "source": [
    "# Save results\n",
    "lin_avgs = np.array(lin_avgs)\n",
    "exp_avgs = np.array(exp_avgs)\n",
    "\n",
    "np.save(filestr + 'lin_avgs', lin_avgs)\n",
    "np.save(filestr + 'exp_avgs', exp_avgs)"
   ]
  },
  {
   "cell_type": "markdown",
   "id": "73740400-b66a-40b2-bd94-2b4a3c881c15",
   "metadata": {
    "tags": []
   },
   "source": [
    "##### MAEs"
   ]
  },
  {
   "cell_type": "code",
   "execution_count": null,
   "id": "70cff2f3-67f5-4041-afdf-7c382d99797f",
   "metadata": {},
   "outputs": [],
   "source": [
    "lin_avgs = np.load(filestr + 'lin_avgs.npy')\n",
    "exp_avgs = np.load(filestr + 'exp_avgs.npy')\n",
    "\n",
    "rs[lin_avgs == min(lin_avgs)], rs[exp_avgs == min(exp_avgs)]"
   ]
  },
  {
   "cell_type": "code",
   "execution_count": null,
   "id": "e1e2e5cd-2aab-4fb6-bf38-ba49ba19d904",
   "metadata": {},
   "outputs": [],
   "source": [
    "plt.figure(figsize = (w, h))\n",
    "\n",
    "plt.plot(rs, lin_avgs, label=r'$\\text{ReLU}(z)$', c='blue', lw = 0.75)\n",
    "plt.plot(rs, exp_avgs, label=r'$\\exp{z}$', c='red', lw = 0.75)\n",
    "plt.legend()\n",
    "\n",
    "plt.minorticks_on()\n",
    "plt.tick_params(which = 'minor', length = 3)\n",
    "plt.tick_params(which = 'major', length = 5)\n",
    "plt.tick_params(which = 'both', direction='in')\n",
    "plt.ylabel('Mean Absolute Error')\n",
    "plt.xlabel(r'$r$')\n",
    "#plt.ylim(0, 0.16)\n",
    "\n",
    "plt.title(r\"\\it $A/B$ Parametrization\",loc=\"right\");\n",
    "plt.savefig('plots/paper/ab_sqr_checker.png', \n",
    "            dpi=300, \n",
    "            bbox_inches='tight')"
   ]
  }
 ],
 "metadata": {
  "kernelspec": {
   "display_name": "multifold",
   "language": "python",
   "name": "multifold"
  },
  "language_info": {
   "codemirror_mode": {
    "name": "ipython",
    "version": 3
   },
   "file_extension": ".py",
   "mimetype": "text/x-python",
   "name": "python",
   "nbconvert_exporter": "python",
   "pygments_lexer": "ipython3",
   "version": "3.10.5"
  }
 },
 "nbformat": 4,
 "nbformat_minor": 5
}
