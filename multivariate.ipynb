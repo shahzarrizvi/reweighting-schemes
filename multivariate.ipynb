{
 "cells": [
  {
   "cell_type": "code",
   "execution_count": 1,
   "id": "8bbe3f6d-292a-4dc1-a8af-88dc5d533d49",
   "metadata": {},
   "outputs": [],
   "source": [
    "# Automatically reload modules after executing each cell.\n",
    "%load_ext autoreload\n",
    "%autoreload 2"
   ]
  },
  {
   "cell_type": "code",
   "execution_count": 2,
   "id": "8e959219-c9bd-4f60-a3df-cb0e271ee75f",
   "metadata": {},
   "outputs": [],
   "source": [
    "# General imports\n",
    "import os\n",
    "import tensorflow as tf\n",
    "from scipy import stats\n",
    "\n",
    "# Utility imports\n",
    "from utils.losses import *\n",
    "from utils.plotting import *\n",
    "from utils.training import *\n",
    "\n",
    "np.random.seed(666) # Need to do more to ensure data is the same across runs."
   ]
  },
  {
   "cell_type": "code",
   "execution_count": 3,
   "id": "ecc10290-854a-4fec-abec-1f9e83c24d28",
   "metadata": {},
   "outputs": [
    {
     "name": "stderr",
     "output_type": "stream",
     "text": [
      "2022-07-25 12:50:57.090413: I tensorflow/stream_executor/platform/default/dso_loader.cc:44] Successfully opened dynamic library libcuda.so.1\n",
      "2022-07-25 12:50:57.115936: I tensorflow/core/common_runtime/gpu/gpu_device.cc:1561] Found device 0 with properties: \n",
      "pciBusID: 0000:01:00.0 name: Quadro RTX 6000 computeCapability: 7.5\n",
      "coreClock: 1.77GHz coreCount: 72 deviceMemorySize: 23.65GiB deviceMemoryBandwidth: 625.94GiB/s\n",
      "2022-07-25 12:50:57.116129: I tensorflow/stream_executor/platform/default/dso_loader.cc:44] Successfully opened dynamic library libcudart.so.10.1\n",
      "2022-07-25 12:50:57.117553: I tensorflow/stream_executor/platform/default/dso_loader.cc:44] Successfully opened dynamic library libcublas.so.10\n",
      "2022-07-25 12:50:57.119187: I tensorflow/stream_executor/platform/default/dso_loader.cc:44] Successfully opened dynamic library libcufft.so.10\n",
      "2022-07-25 12:50:57.119391: I tensorflow/stream_executor/platform/default/dso_loader.cc:44] Successfully opened dynamic library libcurand.so.10\n",
      "2022-07-25 12:50:57.120920: I tensorflow/stream_executor/platform/default/dso_loader.cc:44] Successfully opened dynamic library libcusolver.so.10\n",
      "2022-07-25 12:50:57.121739: I tensorflow/stream_executor/platform/default/dso_loader.cc:44] Successfully opened dynamic library libcusparse.so.10\n",
      "2022-07-25 12:50:57.124978: I tensorflow/stream_executor/platform/default/dso_loader.cc:44] Successfully opened dynamic library libcudnn.so.7\n",
      "2022-07-25 12:50:57.127633: I tensorflow/core/common_runtime/gpu/gpu_device.cc:1703] Adding visible gpu devices: 0\n"
     ]
    }
   ],
   "source": [
    "os.environ[\"CUDA_VISIBLE_DEVICES\"] = \"0\" # pick a number < 4 on ML4HEP; < 3 on Voltan \n",
    "physical_devices = tf.config.list_physical_devices('GPU') \n",
    "tf.config.experimental.set_memory_growth(physical_devices[0], True)"
   ]
  },
  {
   "cell_type": "markdown",
   "id": "7bf35029-7263-4e61-8cec-77086177192b",
   "metadata": {
    "jp-MarkdownHeadingCollapsed": true,
    "tags": []
   },
   "source": [
    "# Scratch"
   ]
  },
  {
   "cell_type": "markdown",
   "id": "7141c31c-cc9b-43cf-844b-78812edbd562",
   "metadata": {
    "jp-MarkdownHeadingCollapsed": true,
    "tags": []
   },
   "source": [
    "## Test 0"
   ]
  },
  {
   "cell_type": "code",
   "execution_count": null,
   "id": "5c52570b-8499-414c-9f3a-b69273548971",
   "metadata": {},
   "outputs": [],
   "source": [
    "num = 0\n",
    "reps = 100\n",
    "N = 10**6\n",
    "\n",
    "mu = np.array([0.1, 0])\n",
    "sg = np.eye(2)\n",
    "\n",
    "bkgd = stats.multivariate_normal(-mu, sg)\n",
    "sgnl = stats.multivariate_normal(mu, sg)\n",
    "\n",
    "# Model parameters\n",
    "bce_params = {'loss':bce, 'd': 2, 'verbose': 0}\n",
    "mse_params = {'loss':mse, 'd': 2, 'verbose': 0}\n",
    "mlc_params = {'loss':exp_mlc, 'd': 2, 'output':'linear', 'verbose': 0}\n",
    "sqr_params = {'loss':exp_sqr, 'd': 2, 'output':'linear', 'verbose': 0}\n",
    "\n",
    "bce_filestr = 'models/multivariate/scratch/set_' + str(num) + '/bce/model_{}.h5'\n",
    "mse_filestr = 'models/multivariate/scratch/set_' + str(num) + '/mse/model_{}.h5'\n",
    "mlc_filestr = 'models/multivariate/scratch/set_' + str(num) + '/mlc/model_{}.h5'\n",
    "sqr_filestr = 'models/multivariate/scratch/set_' + str(num) + '/sqr/model_{}.h5'"
   ]
  },
  {
   "cell_type": "code",
   "execution_count": null,
   "id": "acd39405-1e96-4115-b364-41aad07d091d",
   "metadata": {},
   "outputs": [],
   "source": [
    "data = make_data(bkgd, sgnl, N) + [N]\n",
    "\n",
    "for i in range(reps):\n",
    "    print(i)\n",
    "    bce_model, trace = train(data, **bce_params)\n",
    "    print()\n",
    "    mse_model, trace = train(data, **mse_params)\n",
    "    print()\n",
    "    mlc_model, trace = train(data, **mlc_params)\n",
    "    while np.isnan(trace.history['val_loss'][-1]):\n",
    "        mlc_model, trace = train(data, **mlc_params)\n",
    "    print()\n",
    "    sqr_model, trace = train(data, **sqr_params)\n",
    "    while np.isnan(trace.history['val_loss'][-1]):\n",
    "        sqr_model, trace = train(data, **sqr_params)\n",
    "    print('\\n\\n')\n",
    "    bce_model.save_weights(bce_filestr.format(i))\n",
    "    mse_model.save_weights(mse_filestr.format(i))\n",
    "    mlc_model.save_weights(mlc_filestr.format(i))\n",
    "    sqr_model.save_weights(sqr_filestr.format(i))"
   ]
  },
  {
   "cell_type": "markdown",
   "id": "e44da48e-93c0-4b2d-b515-c3bb12ab4c4a",
   "metadata": {
    "jp-MarkdownHeadingCollapsed": true,
    "tags": []
   },
   "source": [
    "## Test 1"
   ]
  },
  {
   "cell_type": "code",
   "execution_count": null,
   "id": "7f74d64f-0cc5-463d-b120-8b809c120867",
   "metadata": {},
   "outputs": [],
   "source": [
    "num = 1\n",
    "reps = 100\n",
    "N = 10**6\n",
    "\n",
    "b = 0.1 / (2 ** (0.5))\n",
    "mu_bkgd = np.array([-b, b])\n",
    "mu_sgnl = np.array([b, -b])\n",
    "sg = 2*np.eye(2)\n",
    "\n",
    "bkgd = stats.multivariate_normal(mu_bkgd, sg)\n",
    "sgnl = stats.multivariate_normal(mu_sgnl, sg)\n",
    "\n",
    "# Model parameters\n",
    "bce_params = {'loss':bce, 'd': 2, 'verbose': 0}\n",
    "mse_params = {'loss':mse, 'd': 2, 'verbose': 0}\n",
    "mlc_params = {'loss':exp_mlc, 'd': 2, 'output':'linear', 'verbose': 0}\n",
    "sqr_params = {'loss':exp_sqr, 'd': 2, 'output':'linear', 'verbose': 0}\n",
    "\n",
    "bce_filestr = 'models/multivariate/scratch/set_' + str(num) + '/bce/model_{}.h5'\n",
    "mse_filestr = 'models/multivariate/scratch/set_' + str(num) + '/mse/model_{}.h5'\n",
    "mlc_filestr = 'models/multivariate/scratch/set_' + str(num) + '/mlc/model_{}.h5'\n",
    "sqr_filestr = 'models/multivariate/scratch/set_' + str(num) + '/sqr/model_{}.h5'"
   ]
  },
  {
   "cell_type": "code",
   "execution_count": null,
   "id": "3003a258-69f0-4060-a7cf-16aae6ad3dd8",
   "metadata": {},
   "outputs": [],
   "source": [
    "data = make_data(bkgd, sgnl, N) + [N]\n",
    "\n",
    "for i in range(reps):\n",
    "    print(i)\n",
    "    bce_model, trace = train(data, **bce_params)\n",
    "    print()\n",
    "    mse_model, trace = train(data, **mse_params)\n",
    "    print()\n",
    "    mlc_model, trace = train(data, **mlc_params)\n",
    "    while np.isnan(trace.history['val_loss'][-1]):\n",
    "        mlc_model, trace = train(data, **mlc_params)\n",
    "    print()\n",
    "    sqr_model, trace = train(data, **sqr_params)\n",
    "    while np.isnan(trace.history['val_loss'][-1]):\n",
    "        sqr_model, trace = train(data, **sqr_params)\n",
    "    print('\\n\\n')\n",
    "    bce_model.save_weights(bce_filestr.format(i))\n",
    "    mse_model.save_weights(mse_filestr.format(i))\n",
    "    mlc_model.save_weights(mlc_filestr.format(i))\n",
    "    sqr_model.save_weights(sqr_filestr.format(i))"
   ]
  },
  {
   "cell_type": "markdown",
   "id": "99841fdb-77ae-4965-ad2e-9ea06dffaa28",
   "metadata": {
    "jp-MarkdownHeadingCollapsed": true,
    "tags": []
   },
   "source": [
    "## Test 2"
   ]
  },
  {
   "cell_type": "code",
   "execution_count": null,
   "id": "d2fa0ac1-2980-41e9-af07-524d43405f89",
   "metadata": {},
   "outputs": [],
   "source": [
    "num = 2\n",
    "reps = 100\n",
    "N = 10**6\n",
    "\n",
    "mu_bkgd = np.array([-0.1, 0])\n",
    "mu_sgnl = np.array([0.1, 0])\n",
    "sg_bkgd = 2*np.eye(2)\n",
    "sg_sgnl = np.eye(2)\n",
    "\n",
    "bkgd = stats.multivariate_normal(mu_bkgd, sg_bkgd)\n",
    "sgnl = stats.multivariate_normal(mu_sgnl, sg_sgnl)\n",
    "\n",
    "# Model parameters\n",
    "bce_params = {'loss':bce, 'd': 2, 'verbose': 0}\n",
    "mse_params = {'loss':mse, 'd': 2, 'verbose': 0}\n",
    "mlc_params = {'loss':exp_mlc, 'd': 2, 'output':'linear', 'verbose': 0}\n",
    "sqr_params = {'loss':exp_sqr, 'd': 2, 'output':'linear', 'verbose': 0}\n",
    "\n",
    "bce_filestr = 'models/multivariate/scratch/set_' + str(num) + '/bce/model_{}.h5'\n",
    "mse_filestr = 'models/multivariate/scratch/set_' + str(num) + '/mse/model_{}.h5'\n",
    "mlc_filestr = 'models/multivariate/scratch/set_' + str(num) + '/mlc/model_{}.h5'\n",
    "sqr_filestr = 'models/multivariate/scratch/set_' + str(num) + '/sqr/model_{}.h5'"
   ]
  },
  {
   "cell_type": "code",
   "execution_count": null,
   "id": "09e95970-41e2-4090-b95b-87a914f06d91",
   "metadata": {},
   "outputs": [],
   "source": [
    "data = make_data(bkgd, sgnl, N) + [N]\n",
    "\n",
    "for i in range(reps):\n",
    "    print(i)\n",
    "    bce_model, trace = train(data, **bce_params)\n",
    "    print()\n",
    "    mse_model, trace = train(data, **mse_params)\n",
    "    print()\n",
    "    mlc_model, trace = train(data, **mlc_params)\n",
    "    while np.isnan(trace.history['val_loss'][-1]):\n",
    "        mlc_model, trace = train(data, **mlc_params)\n",
    "    print()\n",
    "    sqr_model, trace = train(data, **sqr_params)\n",
    "    while np.isnan(trace.history['val_loss'][-1]):\n",
    "        sqr_model, trace = train(data, **sqr_params)\n",
    "    print('\\n\\n')\n",
    "    bce_model.save_weights(bce_filestr.format(i))\n",
    "    mse_model.save_weights(mse_filestr.format(i))\n",
    "    mlc_model.save_weights(mlc_filestr.format(i))\n",
    "    sqr_model.save_weights(sqr_filestr.format(i))"
   ]
  },
  {
   "cell_type": "markdown",
   "id": "85fc452a-e6f3-4add-a82d-7b4757982ac4",
   "metadata": {
    "jp-MarkdownHeadingCollapsed": true,
    "tags": []
   },
   "source": [
    "## Test 3"
   ]
  },
  {
   "cell_type": "code",
   "execution_count": null,
   "id": "75c3ff06-71e5-4990-afe5-22f8b2a2526d",
   "metadata": {},
   "outputs": [],
   "source": [
    "num = 3\n",
    "reps = 100\n",
    "N = 10**6\n",
    "\n",
    "mu_bkgd = np.array([-0.1, 0])\n",
    "mu_sgnl = np.array([0.1, 0])\n",
    "sg_bkgd = np.array([[2, 0], [0, 1]])\n",
    "sg_sgnl = np.array([[1, 0], [0, 2]])\n",
    "\n",
    "bkgd = stats.multivariate_normal(mu_bkgd, sg_bkgd)\n",
    "sgnl = stats.multivariate_normal(mu_sgnl, sg_sgnl)\n",
    "\n",
    "# Model parameters\n",
    "bce_params = {'loss':bce, 'd': 2, 'verbose': 0}\n",
    "mse_params = {'loss':mse, 'd': 2, 'verbose': 0}\n",
    "mlc_params = {'loss':exp_mlc, 'd': 2, 'output':'linear', 'verbose': 0}\n",
    "sqr_params = {'loss':exp_sqr, 'd': 2, 'output':'linear', 'verbose': 0}\n",
    "\n",
    "bce_filestr = 'models/multivariate/scratch/set_' + str(num) + '/bce/model_{}.h5'\n",
    "mse_filestr = 'models/multivariate/scratch/set_' + str(num) + '/mse/model_{}.h5'\n",
    "mlc_filestr = 'models/multivariate/scratch/set_' + str(num) + '/mlc/model_{}.h5'\n",
    "sqr_filestr = 'models/multivariate/scratch/set_' + str(num) + '/sqr/model_{}.h5'"
   ]
  },
  {
   "cell_type": "code",
   "execution_count": null,
   "id": "a6e67729-f73e-4d29-a19a-28ecae1e2191",
   "metadata": {},
   "outputs": [],
   "source": [
    "data = make_data(bkgd, sgnl, N) + [N]\n",
    "\n",
    "for i in range(reps):\n",
    "    print(i)\n",
    "    bce_model, trace = train(data, **bce_params)\n",
    "    print()\n",
    "    mse_model, trace = train(data, **mse_params)\n",
    "    print()\n",
    "    mlc_model, trace = train(data, **mlc_params)\n",
    "    while np.isnan(trace.history['val_loss'][-1]):\n",
    "        mlc_model, trace = train(data, **mlc_params)\n",
    "    print()\n",
    "    sqr_model, trace = train(data, **sqr_params)\n",
    "    while np.isnan(trace.history['val_loss'][-1]):\n",
    "        sqr_model, trace = train(data, **sqr_params)\n",
    "    print('\\n\\n')\n",
    "    bce_model.save_weights(bce_filestr.format(i))\n",
    "    mse_model.save_weights(mse_filestr.format(i))\n",
    "    mlc_model.save_weights(mlc_filestr.format(i))\n",
    "    sqr_model.save_weights(sqr_filestr.format(i))"
   ]
  },
  {
   "cell_type": "markdown",
   "id": "aca2f581-0de2-4c38-90fd-f89059ac730b",
   "metadata": {
    "jp-MarkdownHeadingCollapsed": true,
    "tags": []
   },
   "source": [
    "## Test 4"
   ]
  },
  {
   "cell_type": "code",
   "execution_count": null,
   "id": "f5bb2beb-8349-406b-be52-116b77daec0a",
   "metadata": {},
   "outputs": [],
   "source": [
    "num = 4\n",
    "reps = 100\n",
    "N = 10**6\n",
    "\n",
    "mu_bkgd = np.array([-0.1, 0])\n",
    "mu_sgnl = np.array([0.1, 0])\n",
    "sg_bkgd = np.array([[2, 0.25], [0.25, 1]])\n",
    "sg_sgnl = np.array([[2, -0.25], [-0.25, 1]])\n",
    "\n",
    "bkgd = stats.multivariate_normal(mu_bkgd, sg_bkgd)\n",
    "sgnl = stats.multivariate_normal(mu_sgnl, sg_sgnl)\n",
    "\n",
    "# Model parameters\n",
    "bce_params = {'loss':bce, 'd': 2, 'verbose': 0}\n",
    "mse_params = {'loss':mse, 'd': 2, 'verbose': 0}\n",
    "mlc_params = {'loss':exp_mlc, 'd': 2, 'output':'linear', 'verbose': 0}\n",
    "sqr_params = {'loss':exp_sqr, 'd': 2, 'output':'linear', 'verbose': 0}\n",
    "\n",
    "bce_filestr = 'models/multivariate/scratch/set_' + str(num) + '/bce/model_{}.h5'\n",
    "mse_filestr = 'models/multivariate/scratch/set_' + str(num) + '/mse/model_{}.h5'\n",
    "mlc_filestr = 'models/multivariate/scratch/set_' + str(num) + '/mlc/model_{}.h5'\n",
    "sqr_filestr = 'models/multivariate/scratch/set_' + str(num) + '/sqr/model_{}.h5'"
   ]
  },
  {
   "cell_type": "code",
   "execution_count": null,
   "id": "2f3fdcc2-fce3-4873-a61c-d46275c49822",
   "metadata": {},
   "outputs": [],
   "source": [
    "data = make_data(bkgd, sgnl, N) + [N]\n",
    "\n",
    "for i in range(reps):\n",
    "    print(i)\n",
    "    bce_model, trace = train(data, **bce_params)\n",
    "    print()\n",
    "    mse_model, trace = train(data, **mse_params)\n",
    "    print()\n",
    "    mlc_model, trace = train(data, **mlc_params)\n",
    "    while np.isnan(trace.history['val_loss'][-1]):\n",
    "        mlc_model, trace = train(data, **mlc_params)\n",
    "    print()\n",
    "    sqr_model, trace = train(data, **sqr_params)\n",
    "    while np.isnan(trace.history['val_loss'][-1]):\n",
    "        sqr_model, trace = train(data, **sqr_params)\n",
    "    print('\\n\\n')\n",
    "    bce_model.save_weights(bce_filestr.format(i))\n",
    "    mse_model.save_weights(mse_filestr.format(i))\n",
    "    mlc_model.save_weights(mlc_filestr.format(i))\n",
    "    sqr_model.save_weights(sqr_filestr.format(i))"
   ]
  },
  {
   "cell_type": "markdown",
   "id": "9debffcf-8d8d-4a20-b4d4-78f53b50c1c4",
   "metadata": {
    "tags": []
   },
   "source": [
    "# Performance"
   ]
  },
  {
   "cell_type": "code",
   "execution_count": 4,
   "id": "7d84b274-3b98-4cfd-8f2c-a567d87730d8",
   "metadata": {},
   "outputs": [],
   "source": [
    "reps = 100\n",
    "\n",
    "bce_params = {'loss':bce, 'd': 2, 'verbose': 0}\n",
    "mse_params = {'loss':mse, 'd': 2, 'verbose': 0}\n",
    "mlc_params = {'loss':exp_mlc, 'd': 2, 'output':'linear', 'verbose': 0}\n",
    "sqr_params = {'loss':exp_sqr, 'd': 2, 'output':'linear', 'verbose': 0}"
   ]
  },
  {
   "cell_type": "code",
   "execution_count": 5,
   "id": "b797fa81-f053-4d44-a816-1672a34449ac",
   "metadata": {},
   "outputs": [],
   "source": [
    "g = np.meshgrid(np.linspace(-6, 6, 601), np.linspace(-6, 6, 601))\n",
    "g = np.append(g[0].reshape(-1,1), g[1].reshape(-1,1), axis = 1)"
   ]
  },
  {
   "cell_type": "code",
   "execution_count": 6,
   "id": "800936cc-472e-4385-9359-2543495c2723",
   "metadata": {},
   "outputs": [],
   "source": [
    "x = np.linspace(-2, 2, 1001)\n",
    "y = np.linspace(-2, 2, 1001)\n",
    "xx, yy = np.meshgrid(x, y)\n",
    "\n",
    "pos = np.empty(xx.shape + (2,))\n",
    "pos[:, :, 0] = xx; pos[:, :, 1] = yy"
   ]
  },
  {
   "cell_type": "markdown",
   "id": "ee86fefa-6861-4da2-b576-ce2f3a50644e",
   "metadata": {
    "tags": []
   },
   "source": [
    "## Test 0"
   ]
  },
  {
   "cell_type": "markdown",
   "id": "1934f6fd-8f1b-483e-9e9b-46fbdedca2ec",
   "metadata": {
    "jp-MarkdownHeadingCollapsed": true,
    "tags": []
   },
   "source": [
    "### Load"
   ]
  },
  {
   "cell_type": "code",
   "execution_count": null,
   "id": "7147a960-396d-4cc4-840e-9b24809dcc13",
   "metadata": {},
   "outputs": [],
   "source": [
    "num = 0\n",
    "N = 10**6\n",
    "\n",
    "mu = np.array([0.1, 0])\n",
    "sg = np.eye(2)\n",
    "\n",
    "bkgd = stats.multivariate_normal(-mu, sg)\n",
    "sgnl = stats.multivariate_normal(mu, sg)\n",
    "\n",
    "bce_filestr = 'models/multivariate/scratch/set_' + str(num) + '/bce/model_{}.h5'\n",
    "mse_filestr = 'models/multivariate/scratch/set_' + str(num) + '/mse/model_{}.h5'\n",
    "mlc_filestr = 'models/multivariate/scratch/set_' + str(num) + '/mlc/model_{}.h5'\n",
    "sqr_filestr = 'models/multivariate/scratch/set_' + str(num) + '/sqr/model_{}.h5'\n",
    "\n",
    "lr = make_lr(bkgd, sgnl)\n",
    "mae = make_mae(bkgd, sgnl)\n",
    "\n",
    "bce_lrs = [None] * reps\n",
    "mse_lrs = [None] * reps\n",
    "mlc_lrs = [None] * reps\n",
    "sqr_lrs = [None] * reps\n",
    "\n",
    "for i in range(reps):\n",
    "    bce_model = create_model(**bce_params)\n",
    "    bce_model.load_weights(bce_filestr.format(i))\n",
    "    bce_lrs[i] = odds_lr(bce_model)\n",
    "\n",
    "    mse_model = create_model(**mse_params)\n",
    "    mse_model.load_weights(mse_filestr.format(i))\n",
    "    mse_lrs[i] = odds_lr(mse_model)\n",
    "\n",
    "    mlc_model = create_model(**mlc_params)\n",
    "    mlc_model.load_weights(mlc_filestr.format(i))\n",
    "    mlc_lrs[i] = exp_lr(mlc_model)\n",
    "\n",
    "    sqr_model = create_model(**sqr_params)\n",
    "    sqr_model.load_weights(sqr_filestr.format(i))\n",
    "    sqr_lrs[i] = exp_lr(sqr_model)\n",
    "\n",
    "bce_lr = bce_lrs[0]\n",
    "mse_lr = mse_lrs[0]\n",
    "mlc_lr = mlc_lrs[0]\n",
    "sqr_lr = sqr_lrs[0]"
   ]
  },
  {
   "cell_type": "markdown",
   "id": "7a8d44d3-05ca-4a26-a0e4-f5584edc9fb8",
   "metadata": {},
   "source": [
    "### Visualize Distribution"
   ]
  },
  {
   "cell_type": "code",
   "execution_count": 23,
   "id": "07dcf356-3417-429b-8160-c50609f9a07e",
   "metadata": {},
   "outputs": [],
   "source": [
    "mu = np.array([0.1, 0])\n",
    "sg = np.eye(2)\n",
    "\n",
    "bkgd = stats.multivariate_normal(-mu, sg)\n",
    "sgnl = stats.multivariate_normal(mu, sg)"
   ]
  },
  {
   "cell_type": "code",
   "execution_count": 24,
   "id": "f361f071-e86f-41db-8d67-e455bea144c8",
   "metadata": {},
   "outputs": [],
   "source": [
    "D = np.concatenate([bkgd.rvs(size = 10**7), sgnl.rvs(size = 10**7)])\n",
    "X = D[:, 0]\n",
    "Y = D[:, 1]\n",
    "b = 3"
   ]
  },
  {
   "cell_type": "code",
   "execution_count": 25,
   "id": "4dbf2b08-32e2-44a4-bed2-e59b555336c2",
   "metadata": {},
   "outputs": [
    {
     "data": {
      "text/plain": [
       "(0.9886535, 0.9945206)"
      ]
     },
     "execution_count": 25,
     "metadata": {},
     "output_type": "execute_result"
    }
   ],
   "source": [
    "np.mean(X**2 + Y**2 < b**2), np.mean((X > -b) & (X < b) & (Y > -b) & (Y < b))"
   ]
  },
  {
   "cell_type": "code",
   "execution_count": null,
   "id": "9089480b-18d9-47cb-b1d0-6be8e0438447",
   "metadata": {},
   "outputs": [],
   "source": [
    "plt.figure(figsize = (8, 10))\n",
    "plt.contour(xx, yy, 0.5 * (bkgd.pdf(pos) + sgnl.pdf(pos)))\n",
    "cc = pos[sgnl.pdf(pos) / bkgd.pdf(pos) < 1]\n",
    "dd = pos[sgnl.pdf(pos) / bkgd.pdf(pos) > 1]\n",
    "plt.scatter(cc[:, 0], cc[:, 1], c = 'orange')\n",
    "plt.scatter(dd[:, 0], dd[:, 1], c = 'red')\n",
    "plt.gca().set_aspect('equal')"
   ]
  },
  {
   "cell_type": "markdown",
   "id": "6f967943-0e44-47ca-a725-f36bd11ff82a",
   "metadata": {
    "jp-MarkdownHeadingCollapsed": true,
    "tags": []
   },
   "source": [
    "### Error"
   ]
  },
  {
   "cell_type": "code",
   "execution_count": null,
   "id": "a6a47098-336f-4a49-8661-0f59693991b6",
   "metadata": {},
   "outputs": [],
   "source": [
    "bce_avg = np.mean([mae(lr) for lr in bce_lrs])\n",
    "mse_avg = np.mean([mae(lr) for lr in mse_lrs])\n",
    "mlc_avg = np.mean([mae(lr) for lr in mlc_lrs])\n",
    "sqr_avg = np.mean([mae(lr) for lr in sqr_lrs])\n",
    "\n",
    "print('MAEs')\n",
    "print('BCE:\\t', bce_avg)\n",
    "print('MSE:\\t', mse_avg)\n",
    "print('MLC:\\t', mlc_avg)\n",
    "print('SQR:\\t', sqr_avg)"
   ]
  },
  {
   "cell_type": "code",
   "execution_count": null,
   "id": "13eae44f-7318-4d6b-9aaa-217d6a581d4c",
   "metadata": {},
   "outputs": [],
   "source": [
    "plt.figure(figsize = (10, 8))\n",
    "diffs = lr(g) - bce_lr(g)\n",
    "plt.scatter(g[:, 0], g[:, 1], c = diffs, cmap = 'hot')\n",
    "plt.colorbar()\n",
    "plt.gca().set_aspect('equal')\n",
    "\n",
    "plt.savefig('plots/multivariate/scratch/set_{}/bce_1.png'.format(num),\n",
    "            dpi=600, \n",
    "            bbox_inches='tight')"
   ]
  },
  {
   "cell_type": "code",
   "execution_count": null,
   "id": "9f9f87f9-3829-4d55-8863-ff3010508854",
   "metadata": {},
   "outputs": [],
   "source": [
    "plt.figure(figsize = (10, 8))\n",
    "diffs = lr(g) - mse_lr(g)\n",
    "plt.scatter(g[:, 0], g[:, 1], c = diffs, cmap = 'hot')\n",
    "plt.colorbar()\n",
    "plt.gca().set_aspect('equal')\n",
    "\n",
    "plt.savefig('plots/multivariate/scratch/set_{}/mse_1.png'.format(num),\n",
    "            dpi=600, \n",
    "            bbox_inches='tight')"
   ]
  },
  {
   "cell_type": "code",
   "execution_count": null,
   "id": "1a78a38c-276d-4a57-88ff-12791b65ae9c",
   "metadata": {},
   "outputs": [],
   "source": [
    "plt.figure(figsize = (10, 8))\n",
    "diffs = lr(g) - mlc_lr(g)\n",
    "plt.scatter(g[:, 0], g[:, 1], c = diffs, cmap = 'hot')\n",
    "plt.colorbar()\n",
    "plt.gca().set_aspect('equal')\n",
    "\n",
    "plt.savefig('plots/multivariate/scratch/set_{}/mlc_1.png'.format(num),\n",
    "            dpi=600, \n",
    "            bbox_inches='tight')"
   ]
  },
  {
   "cell_type": "code",
   "execution_count": null,
   "id": "337df478-6f0f-4e62-95b8-de04ca3497eb",
   "metadata": {},
   "outputs": [],
   "source": [
    "plt.figure(figsize = (10, 8))\n",
    "diffs = lr(g) - sqr_lr(g)\n",
    "plt.scatter(g[:, 0], g[:, 1], c = diffs, cmap = 'hot')\n",
    "plt.colorbar()\n",
    "plt.gca().set_aspect('equal')\n",
    "\n",
    "plt.savefig('plots/multivariate/scratch/set_{}/sqr_1.png'.format(num),\n",
    "            dpi=600, \n",
    "            bbox_inches='tight')"
   ]
  },
  {
   "cell_type": "markdown",
   "id": "c3353acf-d90f-4790-ad15-b7a4a4f6d421",
   "metadata": {
    "tags": []
   },
   "source": [
    "## Test 1"
   ]
  },
  {
   "cell_type": "markdown",
   "id": "13285a47-d275-4586-842d-34326b8da284",
   "metadata": {
    "jp-MarkdownHeadingCollapsed": true,
    "tags": []
   },
   "source": [
    "### Load"
   ]
  },
  {
   "cell_type": "code",
   "execution_count": null,
   "id": "be7a0a3b-9d78-419b-9ba0-b64ef8639175",
   "metadata": {},
   "outputs": [],
   "source": [
    "# Test 1\n",
    "b = 0.1 / (2 ** (0.5))\n",
    "mu_bkgd = np.array([-b, b])\n",
    "mu_sgnl = np.array([b, -b])\n",
    "\n",
    "bkgd = stats.multivariate_normal(mu_bkgd, sg)\n",
    "sgnl = stats.multivariate_normal(mu_sgnl, sg)\n",
    "\n",
    "num = 1\n",
    "\n",
    "bce_filestr = 'models/multivariate/scratch/set_' + str(num) + '/bce/model_{}.h5'\n",
    "mse_filestr = 'models/multivariate/scratch/set_' + str(num) + '/mse/model_{}.h5'\n",
    "mlc_filestr = 'models/multivariate/scratch/set_' + str(num) + '/mlc/model_{}.h5'\n",
    "sqr_filestr = 'models/multivariate/scratch/set_' + str(num) + '/sqr/model_{}.h5'\n",
    "\n",
    "lr = make_lr(bkgd, sgnl) \n",
    "mae = make_mae(bkgd, sgnl)\n",
    "\n",
    "bce_lrs = [None] * reps\n",
    "mse_lrs = [None] * reps\n",
    "mlc_lrs = [None] * reps\n",
    "sqr_lrs = [None] * reps\n",
    "\n",
    "for i in range(reps):\n",
    "    bce_model = create_model(**bce_params)\n",
    "    bce_model.load_weights(bce_filestr.format(i))\n",
    "    bce_lrs[i] = odds_lr(bce_model)\n",
    "\n",
    "    mse_model = create_model(**mse_params)\n",
    "    mse_model.load_weights(mse_filestr.format(i))\n",
    "    mse_lrs[i] = odds_lr(mse_model)\n",
    "\n",
    "    mlc_model = create_model(**mlc_params)\n",
    "    mlc_model.load_weights(mlc_filestr.format(i))\n",
    "    mlc_lrs[i] = exp_lr(mlc_model)\n",
    "\n",
    "    sqr_model = create_model(**sqr_params)\n",
    "    sqr_model.load_weights(sqr_filestr.format(i))\n",
    "    sqr_lrs[i] = exp_lr(sqr_model)\n",
    "\n",
    "bce_lr = bce_lrs[0]\n",
    "mse_lr = mse_lrs[0]\n",
    "mlc_lr = mlc_lrs[0]\n",
    "sqr_lr = sqr_lrs[0]"
   ]
  },
  {
   "cell_type": "markdown",
   "id": "d2df8882-a8c2-4d58-a64e-231bcf86992f",
   "metadata": {},
   "source": [
    "### Visualize Distribution"
   ]
  },
  {
   "cell_type": "code",
   "execution_count": 28,
   "id": "17edc2ce-32cb-4cfb-8928-164e0b0e2a07",
   "metadata": {},
   "outputs": [],
   "source": [
    "b = 0.1 / (2 ** (0.5))\n",
    "mu_bkgd = np.array([-b, b])\n",
    "mu_sgnl = np.array([b, -b])\n",
    "\n",
    "bkgd = stats.multivariate_normal(mu_bkgd, sg)\n",
    "sgnl = stats.multivariate_normal(mu_sgnl, sg)"
   ]
  },
  {
   "cell_type": "code",
   "execution_count": 29,
   "id": "6ed59a1d-fda9-441b-a17f-dc3e560521ef",
   "metadata": {},
   "outputs": [],
   "source": [
    "D = np.concatenate([bkgd.rvs(size = 10**7), sgnl.rvs(size = 10**7)])\n",
    "X = D[:, 0]\n",
    "Y = D[:, 1]\n",
    "b = 3"
   ]
  },
  {
   "cell_type": "code",
   "execution_count": 30,
   "id": "473f7f60-4881-4441-abc7-9184e6358041",
   "metadata": {},
   "outputs": [
    {
     "data": {
      "text/plain": [
       "(0.9886252, 0.994488)"
      ]
     },
     "execution_count": 30,
     "metadata": {},
     "output_type": "execute_result"
    }
   ],
   "source": [
    "np.mean(X**2 + Y**2 < b**2), np.mean((X > -b) & (X < b) & (Y > -b) & (Y < b))"
   ]
  },
  {
   "cell_type": "code",
   "execution_count": null,
   "id": "ba317f23-c091-402d-bf3e-c441c829f122",
   "metadata": {},
   "outputs": [],
   "source": [
    "plt.figure(figsize = (8, 10))\n",
    "plt.contour(xx, yy, 0.5 * (bkgd.pdf(pos) + sgnl.pdf(pos)))\n",
    "cc = pos[sgnl.pdf(pos) / bkgd.pdf(pos) < 1]\n",
    "dd = pos[sgnl.pdf(pos) / bkgd.pdf(pos) > 1]\n",
    "plt.scatter(cc[:, 0], cc[:, 1], c = 'orange')\n",
    "plt.scatter(dd[:, 0], dd[:, 1], c = 'red')\n",
    "plt.gca().set_aspect('equal')"
   ]
  },
  {
   "cell_type": "markdown",
   "id": "7f90b59c-8550-4c96-a898-5aa4832a06d7",
   "metadata": {
    "jp-MarkdownHeadingCollapsed": true,
    "tags": []
   },
   "source": [
    "### Error"
   ]
  },
  {
   "cell_type": "code",
   "execution_count": null,
   "id": "367cfb63-65a5-464f-8f99-a6f50dab5c6a",
   "metadata": {},
   "outputs": [],
   "source": [
    "bce_avg = np.mean([mae(lr) for lr in bce_lrs])\n",
    "mse_avg = np.mean([mae(lr) for lr in mse_lrs])\n",
    "mlc_avg = np.mean([mae(lr) for lr in mlc_lrs])\n",
    "sqr_avg = np.mean([mae(lr) for lr in sqr_lrs])\n",
    "\n",
    "print('MAEs')\n",
    "print('BCE:\\t', bce_avg)\n",
    "print('MSE:\\t', mse_avg)\n",
    "print('MLC:\\t', mlc_avg)\n",
    "print('SQR:\\t', sqr_avg)"
   ]
  },
  {
   "cell_type": "code",
   "execution_count": null,
   "id": "99e81417-126c-45fb-8dda-387f0cea400f",
   "metadata": {},
   "outputs": [],
   "source": [
    "plt.figure(figsize = (10, 8))\n",
    "diffs = lr(g) - bce_lr(g)\n",
    "plt.scatter(g[:, 0], g[:, 1], c = diffs, cmap = 'hot')\n",
    "plt.colorbar()\n",
    "plt.gca().set_aspect('equal')\n",
    "\n",
    "plt.savefig('plots/multivariate/scratch/set_{}/bce_1.png'.format(num),\n",
    "            dpi=600, \n",
    "            bbox_inches='tight')"
   ]
  },
  {
   "cell_type": "code",
   "execution_count": null,
   "id": "8678d930-1071-4561-90b4-66ec504322ba",
   "metadata": {},
   "outputs": [],
   "source": [
    "plt.figure(figsize = (10, 8))\n",
    "diffs = lr(g) - mse_lr(g)\n",
    "plt.scatter(g[:, 0], g[:, 1], c = diffs, cmap = 'hot')\n",
    "plt.colorbar()\n",
    "plt.gca().set_aspect('equal')\n",
    "\n",
    "plt.savefig('plots/multivariate/scratch/set_{}/mse_1.png'.format(num),\n",
    "            dpi=600, \n",
    "            bbox_inches='tight')"
   ]
  },
  {
   "cell_type": "code",
   "execution_count": null,
   "id": "0d814c77-7c12-4ad0-b3d8-98368b59ab82",
   "metadata": {},
   "outputs": [],
   "source": [
    "plt.figure(figsize = (10, 8))\n",
    "diffs = lr(g) - mlc_lr(g)\n",
    "plt.scatter(g[:, 0], g[:, 1], c = diffs, cmap = 'hot')\n",
    "plt.colorbar()\n",
    "plt.gca().set_aspect('equal')\n",
    "\n",
    "plt.savefig('plots/multivariate/scratch/set_{}/mlc_1.png'.format(num),\n",
    "            dpi=600, \n",
    "            bbox_inches='tight')"
   ]
  },
  {
   "cell_type": "code",
   "execution_count": null,
   "id": "adbd0d7f-2791-48ec-baff-979bda565ccc",
   "metadata": {},
   "outputs": [],
   "source": [
    "plt.figure(figsize = (10, 8))\n",
    "diffs = lr(g) - sqr_lr(g)\n",
    "plt.scatter(g[:, 0], g[:, 1], c = diffs, cmap = 'hot')\n",
    "plt.colorbar()\n",
    "plt.gca().set_aspect('equal')\n",
    "\n",
    "plt.savefig('plots/multivariate/scratch/set_{}/sqr_1.png'.format(num),\n",
    "            dpi=600, \n",
    "            bbox_inches='tight')"
   ]
  },
  {
   "cell_type": "markdown",
   "id": "4c05c265-8d82-4b60-9f5e-26409e549185",
   "metadata": {
    "tags": []
   },
   "source": [
    "## Test 2"
   ]
  },
  {
   "cell_type": "markdown",
   "id": "1e10f072-33ce-45f1-ae60-dc989b79a240",
   "metadata": {
    "jp-MarkdownHeadingCollapsed": true,
    "tags": []
   },
   "source": [
    "### Load"
   ]
  },
  {
   "cell_type": "code",
   "execution_count": null,
   "id": "238dccf8-4988-48de-8fd5-00c0aa2e2f08",
   "metadata": {},
   "outputs": [],
   "source": [
    "# Test 2\n",
    "mu_bkgd = np.array([-0.1, 0])\n",
    "mu_sgnl = np.array([0.1, 0])\n",
    "sg_bkgd = 2*np.eye(2)\n",
    "sg_sgnl = np.eye(2)\n",
    "\n",
    "bkgd = stats.multivariate_normal(mu_bkgd, sg_bkgd)\n",
    "sgnl = stats.multivariate_normal(mu_sgnl, sg_sgnl)\n",
    "\n",
    "num = 2\n",
    "\n",
    "bce_filestr = 'models/multivariate/scratch/set_' + str(num) + '/bce/model_{}.h5'\n",
    "mse_filestr = 'models/multivariate/scratch/set_' + str(num) + '/mse/model_{}.h5'\n",
    "mlc_filestr = 'models/multivariate/scratch/set_' + str(num) + '/mlc/model_{}.h5'\n",
    "sqr_filestr = 'models/multivariate/scratch/set_' + str(num) + '/sqr/model_{}.h5'\n",
    "\n",
    "lr = make_lr(bkgd, sgnl) \n",
    "mae = make_mae(bkgd, sgnl)\n",
    "\n",
    "bce_lrs = [None] * reps\n",
    "mse_lrs = [None] * reps\n",
    "mlc_lrs = [None] * reps\n",
    "sqr_lrs = [None] * reps\n",
    "\n",
    "for i in range(reps):\n",
    "    bce_model = create_model(**bce_params)\n",
    "    bce_model.load_weights(bce_filestr.format(i))\n",
    "    bce_lrs[i] = odds_lr(bce_model)\n",
    "\n",
    "    mse_model = create_model(**mse_params)\n",
    "    mse_model.load_weights(mse_filestr.format(i))\n",
    "    mse_lrs[i] = odds_lr(mse_model)\n",
    "\n",
    "    mlc_model = create_model(**mlc_params)\n",
    "    mlc_model.load_weights(mlc_filestr.format(i))\n",
    "    mlc_lrs[i] = exp_lr(mlc_model)\n",
    "\n",
    "    sqr_model = create_model(**sqr_params)\n",
    "    sqr_model.load_weights(sqr_filestr.format(i))\n",
    "    sqr_lrs[i] = exp_lr(sqr_model)\n",
    "\n",
    "bce_lr = bce_lrs[0]\n",
    "mse_lr = mse_lrs[0]\n",
    "mlc_lr = mlc_lrs[0]\n",
    "sqr_lr = sqr_lrs[0]"
   ]
  },
  {
   "cell_type": "markdown",
   "id": "ba8d9d34-c473-4b7d-84e3-01428ed7087a",
   "metadata": {},
   "source": [
    "### Visualize Distribution"
   ]
  },
  {
   "cell_type": "code",
   "execution_count": 31,
   "id": "b417007b-94aa-4659-a5b2-4cf8e2a7810e",
   "metadata": {},
   "outputs": [],
   "source": [
    "mu_bkgd = np.array([-0.1, 0])\n",
    "mu_sgnl = np.array([0.1, 0])\n",
    "sg_bkgd = 2*np.eye(2)\n",
    "sg_sgnl = np.eye(2)\n",
    "\n",
    "bkgd = stats.multivariate_normal(mu_bkgd, sg_bkgd)\n",
    "sgnl = stats.multivariate_normal(mu_sgnl, sg_sgnl)"
   ]
  },
  {
   "cell_type": "code",
   "execution_count": 32,
   "id": "530c2aa1-e9d8-4260-a5fd-cee5b7e11928",
   "metadata": {},
   "outputs": [],
   "source": [
    "D = np.concatenate([bkgd.rvs(size = 10**7), sgnl.rvs(size = 10**7)])\n",
    "X = D[:, 0]\n",
    "Y = D[:, 1]\n",
    "b = 3"
   ]
  },
  {
   "cell_type": "code",
   "execution_count": 33,
   "id": "eebf07c0-4014-4390-b23e-2f3f0af63514",
   "metadata": {},
   "outputs": [
    {
     "data": {
      "text/plain": [
       "(0.9414327, 0.96373385)"
      ]
     },
     "execution_count": 33,
     "metadata": {},
     "output_type": "execute_result"
    }
   ],
   "source": [
    "np.mean(X**2 + Y**2 < b**2), np.mean((X > -b) & (X < b) & (Y > -b) & (Y < b))"
   ]
  },
  {
   "cell_type": "code",
   "execution_count": null,
   "id": "a3ae6e80-c088-49b8-ac32-445abf07cd6d",
   "metadata": {},
   "outputs": [],
   "source": [
    "plt.figure(figsize = (8, 10))\n",
    "plt.contour(xx, yy, 0.5 * (bkgd.pdf(pos) + sgnl.pdf(pos)))\n",
    "cc = pos[sgnl.pdf(pos) / bkgd.pdf(pos) < 1]\n",
    "dd = pos[sgnl.pdf(pos) / bkgd.pdf(pos) > 1]\n",
    "plt.scatter(cc[:, 0], cc[:, 1], c = 'orange')\n",
    "plt.scatter(dd[:, 0], dd[:, 1], c = 'red')\n",
    "plt.gca().set_aspect('equal')"
   ]
  },
  {
   "cell_type": "markdown",
   "id": "98d4ee83-8a0d-442d-ad38-adaeb459b37f",
   "metadata": {
    "jp-MarkdownHeadingCollapsed": true,
    "tags": []
   },
   "source": [
    "### Error"
   ]
  },
  {
   "cell_type": "code",
   "execution_count": null,
   "id": "1e510c46-7238-420f-b203-041f2bd5ab23",
   "metadata": {},
   "outputs": [],
   "source": [
    "bce_avg = np.mean([mae(lr) for lr in bce_lrs])\n",
    "mse_avg = np.mean([mae(lr) for lr in mse_lrs])\n",
    "mlc_avg = np.mean([mae(lr) for lr in mlc_lrs])\n",
    "sqr_avg = np.mean([mae(lr) for lr in sqr_lrs])\n",
    "\n",
    "print('MAEs')\n",
    "print('BCE:\\t', bce_avg)\n",
    "print('MSE:\\t', mse_avg)\n",
    "print('MLC:\\t', mlc_avg)\n",
    "print('SQR:\\t', sqr_avg)"
   ]
  },
  {
   "cell_type": "code",
   "execution_count": null,
   "id": "08aa26bc-f2b7-4175-b5fd-53c2d4a2c452",
   "metadata": {},
   "outputs": [],
   "source": [
    "plt.figure(figsize = (10, 8))\n",
    "diffs = lr(g) - bce_lr(g)\n",
    "plt.scatter(g[:, 0], g[:, 1], c = diffs, cmap = 'hot')\n",
    "plt.colorbar()\n",
    "plt.gca().set_aspect('equal')\n",
    "\n",
    "plt.savefig('plots/multivariate/scratch/set_{}/bce_1.png'.format(num),\n",
    "            dpi=600, \n",
    "            bbox_inches='tight')"
   ]
  },
  {
   "cell_type": "code",
   "execution_count": null,
   "id": "95872c69-0b53-4df4-bd03-352a5f354297",
   "metadata": {},
   "outputs": [],
   "source": [
    "plt.figure(figsize = (10, 8))\n",
    "diffs = lr(g) - mse_lr(g)\n",
    "plt.scatter(g[:, 0], g[:, 1], c = diffs, cmap = 'hot')\n",
    "plt.colorbar()\n",
    "plt.gca().set_aspect('equal')\n",
    "\n",
    "plt.savefig('plots/multivariate/scratch/set_{}/mse_1.png'.format(num),\n",
    "            dpi=600, \n",
    "            bbox_inches='tight')"
   ]
  },
  {
   "cell_type": "code",
   "execution_count": null,
   "id": "aa192a67-92dd-4aeb-9892-c56e729be5a9",
   "metadata": {},
   "outputs": [],
   "source": [
    "plt.figure(figsize = (10, 8))\n",
    "diffs = lr(g) - mlc_lr(g)\n",
    "plt.scatter(g[:, 0], g[:, 1], c = diffs, cmap = 'hot')\n",
    "plt.colorbar()\n",
    "plt.gca().set_aspect('equal')\n",
    "\n",
    "plt.savefig('plots/multivariate/scratch/set_{}/mlc_1.png'.format(num),\n",
    "            dpi=600, \n",
    "            bbox_inches='tight')"
   ]
  },
  {
   "cell_type": "code",
   "execution_count": null,
   "id": "fd6cc688-07d6-4e62-9719-d40c42922682",
   "metadata": {},
   "outputs": [],
   "source": [
    "plt.figure(figsize = (10, 8))\n",
    "diffs = lr(g) - sqr_lr(g)\n",
    "plt.scatter(g[:, 0], g[:, 1], c = diffs, cmap = 'hot')\n",
    "plt.colorbar()\n",
    "plt.gca().set_aspect('equal')\n",
    "\n",
    "plt.savefig('plots/multivariate/scratch/set_{}/sqr_1.png'.format(num),\n",
    "            dpi=600, \n",
    "            bbox_inches='tight')"
   ]
  },
  {
   "cell_type": "markdown",
   "id": "3db271ff-8162-40b5-a516-a1f1ab89b129",
   "metadata": {
    "tags": []
   },
   "source": [
    "## Test 3"
   ]
  },
  {
   "cell_type": "markdown",
   "id": "cae5f4f4-94f8-4d7b-b65e-bb57a606c104",
   "metadata": {
    "jp-MarkdownHeadingCollapsed": true,
    "tags": []
   },
   "source": [
    "### Load"
   ]
  },
  {
   "cell_type": "code",
   "execution_count": null,
   "id": "2221b7ef-7f13-4289-966b-3aeb40290865",
   "metadata": {},
   "outputs": [],
   "source": [
    "# Test 3\n",
    "mu_bkgd = np.array([-0.1, 0])\n",
    "mu_sgnl = np.array([0.1, 0])\n",
    "sg_bkgd = np.array([[2, 0], [0, 1]])\n",
    "sg_sgnl = np.array([[1, 0], [0, 2]])\n",
    "\n",
    "bkgd = stats.multivariate_normal(mu_bkgd, sg_bkgd)\n",
    "sgnl = stats.multivariate_normal(mu_sgnl, sg_sgnl)\n",
    "\n",
    "num = 3\n",
    "\n",
    "bce_filestr = 'models/multivariate/scratch/set_' + str(num) + '/bce/model_{}.h5'\n",
    "mse_filestr = 'models/multivariate/scratch/set_' + str(num) + '/mse/model_{}.h5'\n",
    "mlc_filestr = 'models/multivariate/scratch/set_' + str(num) + '/mlc/model_{}.h5'\n",
    "sqr_filestr = 'models/multivariate/scratch/set_' + str(num) + '/sqr/model_{}.h5'\n",
    "\n",
    "lr = make_lr(bkgd, sgnl)\n",
    "mae = make_mae(bkgd, sgnl)\n",
    "\n",
    "bce_lrs = [None] * reps\n",
    "mse_lrs = [None] * reps\n",
    "mlc_lrs = [None] * reps\n",
    "sqr_lrs = [None] * reps\n",
    "\n",
    "for i in range(reps):\n",
    "    bce_model = create_model(**bce_params)\n",
    "    bce_model.load_weights(bce_filestr.format(i))\n",
    "    bce_lrs[i] = odds_lr(bce_model)\n",
    "\n",
    "    mse_model = create_model(**mse_params)\n",
    "    mse_model.load_weights(mse_filestr.format(i))\n",
    "    mse_lrs[i] = odds_lr(mse_model)\n",
    "\n",
    "    mlc_model = create_model(**mlc_params)\n",
    "    mlc_model.load_weights(mlc_filestr.format(i))\n",
    "    mlc_lrs[i] = exp_lr(mlc_model)\n",
    "\n",
    "    sqr_model = create_model(**sqr_params)\n",
    "    sqr_model.load_weights(sqr_filestr.format(i))\n",
    "    sqr_lrs[i] = exp_lr(sqr_model)\n",
    "\n",
    "bce_lr = bce_lrs[0]\n",
    "mse_lr = mse_lrs[0]\n",
    "mlc_lr = mlc_lrs[0]\n",
    "sqr_lr = sqr_lrs[0]"
   ]
  },
  {
   "cell_type": "markdown",
   "id": "c5edb1b0-7207-4285-8532-5bb08c54d215",
   "metadata": {},
   "source": [
    "### Visualize Distribution"
   ]
  },
  {
   "cell_type": "code",
   "execution_count": 34,
   "id": "544cfb66-e272-467e-a3e6-6ab5133818c1",
   "metadata": {},
   "outputs": [],
   "source": [
    "mu_bkgd = np.array([-0.1, 0])\n",
    "mu_sgnl = np.array([0.1, 0])\n",
    "sg_bkgd = np.array([[2, 0], [0, 1]])\n",
    "sg_sgnl = np.array([[1, 0], [0, 2]])\n",
    "\n",
    "bkgd = stats.multivariate_normal(mu_bkgd, sg_bkgd)\n",
    "sgnl = stats.multivariate_normal(mu_sgnl, sg_sgnl)"
   ]
  },
  {
   "cell_type": "code",
   "execution_count": 35,
   "id": "8f8e8ba3-eb41-4897-9c8a-8a58c28d4679",
   "metadata": {},
   "outputs": [],
   "source": [
    "D = np.concatenate([bkgd.rvs(size = 10**7), sgnl.rvs(size = 10**7)])\n",
    "X = D[:, 0]\n",
    "Y = D[:, 1]\n",
    "b = 3"
   ]
  },
  {
   "cell_type": "code",
   "execution_count": 36,
   "id": "3776b716-d962-4242-88c3-e967f2535405",
   "metadata": {},
   "outputs": [
    {
     "data": {
      "text/plain": [
       "(0.94557045, 0.96321315)"
      ]
     },
     "execution_count": 36,
     "metadata": {},
     "output_type": "execute_result"
    }
   ],
   "source": [
    "np.mean(X**2 + Y**2 < b**2), np.mean((X > -b) & (X < b) & (Y > -b) & (Y < b))"
   ]
  },
  {
   "cell_type": "code",
   "execution_count": null,
   "id": "3ee48845-cf23-464d-9b35-10e99fa2b93c",
   "metadata": {},
   "outputs": [],
   "source": [
    "plt.figure(figsize = (8, 10))\n",
    "plt.contour(xx, yy, 0.5 * (bkgd.pdf(pos) + sgnl.pdf(pos)))\n",
    "cc = pos[sgnl.pdf(pos) / bkgd.pdf(pos) < 1]\n",
    "dd = pos[sgnl.pdf(pos) / bkgd.pdf(pos) > 1]\n",
    "plt.scatter(cc[:, 0], cc[:, 1], c = 'orange')\n",
    "plt.scatter(dd[:, 0], dd[:, 1], c = 'red')\n",
    "plt.gca().set_aspect('equal')"
   ]
  },
  {
   "cell_type": "markdown",
   "id": "b9abda60-ca5c-411a-8c75-6be2ebc5f26d",
   "metadata": {
    "jp-MarkdownHeadingCollapsed": true,
    "tags": []
   },
   "source": [
    "### Error"
   ]
  },
  {
   "cell_type": "code",
   "execution_count": null,
   "id": "3a053d63-7ae2-431c-95f6-3bcada5d7a86",
   "metadata": {},
   "outputs": [],
   "source": [
    "bce_avg = np.mean([mae(lr) for lr in bce_lrs])\n",
    "mse_avg = np.mean([mae(lr) for lr in mse_lrs])\n",
    "mlc_avg = np.mean([mae(lr) for lr in mlc_lrs])\n",
    "sqr_avg = np.mean([mae(lr) for lr in sqr_lrs])\n",
    "\n",
    "print('MAEs')\n",
    "print('BCE:\\t', bce_avg)\n",
    "print('MSE:\\t', mse_avg)\n",
    "print('MLC:\\t', mlc_avg)\n",
    "print('SQR:\\t', sqr_avg)"
   ]
  },
  {
   "cell_type": "code",
   "execution_count": null,
   "id": "daa76bed-7bca-4123-ad2b-32ceb754c00c",
   "metadata": {},
   "outputs": [],
   "source": [
    "g = np.meshgrid(np.linspace(-2, 2, 300), np.linspace(-2, 2, 300))\n",
    "g = np.append(g[0].reshape(-1,1),g[1].reshape(-1,1),axis = 1)"
   ]
  },
  {
   "cell_type": "code",
   "execution_count": null,
   "id": "30480e88-8958-46e7-abd2-e40dc0784bdc",
   "metadata": {},
   "outputs": [],
   "source": [
    "plt.figure(figsize = (10, 8))\n",
    "diffs = lr(g) - bce_lr(g)\n",
    "plt.scatter(g[:, 0], g[:, 1], c = diffs, cmap = 'hot')\n",
    "plt.colorbar()\n",
    "plt.gca().set_aspect('equal')\n",
    "\n",
    "plt.savefig('plots/multivariate/scratch/set_{}/bce_1.png'.format(num),\n",
    "            dpi=600, \n",
    "            bbox_inches='tight')"
   ]
  },
  {
   "cell_type": "code",
   "execution_count": null,
   "id": "7347e932-9441-4010-bc4a-43e820fa3674",
   "metadata": {},
   "outputs": [],
   "source": [
    "plt.figure(figsize = (10, 8))\n",
    "diffs = lr(g) - mse_lr(g)\n",
    "plt.scatter(g[:, 0], g[:, 1], c = diffs, cmap = 'hot')\n",
    "plt.colorbar()\n",
    "plt.gca().set_aspect('equal')\n",
    "\n",
    "plt.savefig('plots/multivariate/scratch/set_{}/mse_1.png'.format(num),\n",
    "            dpi=600, \n",
    "            bbox_inches='tight')"
   ]
  },
  {
   "cell_type": "code",
   "execution_count": null,
   "id": "324198bb-633c-486e-b4a2-9c324ad98314",
   "metadata": {},
   "outputs": [],
   "source": [
    "plt.figure(figsize = (10, 8))\n",
    "diffs = lr(g) - mlc_lr(g)\n",
    "plt.scatter(g[:, 0], g[:, 1], c = diffs, cmap = 'hot')\n",
    "plt.colorbar()\n",
    "plt.gca().set_aspect('equal')\n",
    "\n",
    "plt.savefig('plots/multivariate/scratch/set_{}/mlc_1.png'.format(num),\n",
    "            dpi=600, \n",
    "            bbox_inches='tight')"
   ]
  },
  {
   "cell_type": "code",
   "execution_count": null,
   "id": "3848954c-e5f4-4255-834c-b58b4aa3cc1a",
   "metadata": {},
   "outputs": [],
   "source": [
    "plt.figure(figsize = (10, 8))\n",
    "diffs = lr(g) - sqr_lr(g)\n",
    "plt.scatter(g[:, 0], g[:, 1], c = diffs, cmap = 'hot')\n",
    "plt.colorbar()\n",
    "plt.gca().set_aspect('equal')\n",
    "\n",
    "plt.savefig('plots/multivariate/scratch/set_{}/sqr_1.png'.format(num),\n",
    "            dpi=600, \n",
    "            bbox_inches='tight')"
   ]
  },
  {
   "cell_type": "markdown",
   "id": "b8ad8c64-910d-4feb-a341-a80e3df2a74a",
   "metadata": {
    "tags": []
   },
   "source": [
    "## Test 4"
   ]
  },
  {
   "cell_type": "markdown",
   "id": "35489009-a2cb-4ada-89d2-95d7ab58461c",
   "metadata": {
    "jp-MarkdownHeadingCollapsed": true,
    "tags": []
   },
   "source": [
    "### Load"
   ]
  },
  {
   "cell_type": "code",
   "execution_count": null,
   "id": "44233792-1920-463d-af2e-15ed916dc5d3",
   "metadata": {},
   "outputs": [],
   "source": [
    "# Test 4\n",
    "\n",
    "mu_bkgd = np.array([-0.1, 0])\n",
    "mu_sgnl = np.array([0.1, 0])\n",
    "sg_bkgd = np.array([[2, 0.25], [0.25, 1]])\n",
    "sg_sgnl = np.array([[2, -0.25], [-0.25, 1]])\n",
    "\n",
    "bkgd = stats.multivariate_normal(mu_bkgd, sg_bkgd)\n",
    "sgnl = stats.multivariate_normal(mu_sgnl, sg_sgnl)\n",
    "\n",
    "num = 4\n",
    "\n",
    "bce_filestr = 'models/multivariate/scratch/set_' + str(num) + '/bce/model_{}.h5'\n",
    "mse_filestr = 'models/multivariate/scratch/set_' + str(num) + '/mse/model_{}.h5'\n",
    "mlc_filestr = 'models/multivariate/scratch/set_' + str(num) + '/mlc/model_{}.h5'\n",
    "sqr_filestr = 'models/multivariate/scratch/set_' + str(num) + '/sqr/model_{}.h5'\n",
    "\n",
    "lr = make_lr(bkgd, sgnl) \n",
    "mae = make_mae(bkgd, sgnl)\n",
    "\n",
    "bce_lrs = [None] * reps\n",
    "mse_lrs = [None] * reps\n",
    "mlc_lrs = [None] * reps\n",
    "sqr_lrs = [None] * reps\n",
    "\n",
    "for i in range(reps):\n",
    "    bce_model = create_model(**bce_params)\n",
    "    bce_model.load_weights(bce_filestr.format(i))\n",
    "    bce_lrs[i] = odds_lr(bce_model)\n",
    "\n",
    "    mse_model = create_model(**mse_params)\n",
    "    mse_model.load_weights(mse_filestr.format(i))\n",
    "    mse_lrs[i] = odds_lr(mse_model)\n",
    "\n",
    "    mlc_model = create_model(**mlc_params)\n",
    "    mlc_model.load_weights(mlc_filestr.format(i))\n",
    "    mlc_lrs[i] = exp_lr(mlc_model)\n",
    "\n",
    "    sqr_model = create_model(**sqr_params)\n",
    "    sqr_model.load_weights(sqr_filestr.format(i))\n",
    "    sqr_lrs[i] = exp_lr(sqr_model)\n",
    "\n",
    "bce_lr = bce_lrs[0]\n",
    "mse_lr = mse_lrs[0]\n",
    "mlc_lr = mlc_lrs[0]\n",
    "sqr_lr = sqr_lrs[0]"
   ]
  },
  {
   "cell_type": "markdown",
   "id": "5cfb1a95-8817-4147-87d0-a12f51432aa8",
   "metadata": {},
   "source": [
    "### Visualize Distribution"
   ]
  },
  {
   "cell_type": "code",
   "execution_count": 37,
   "id": "6c491e55-e878-474d-bca8-9a97968ce821",
   "metadata": {},
   "outputs": [],
   "source": [
    "mu_bkgd = np.array([-0.1, 0])\n",
    "mu_sgnl = np.array([0.1, 0])\n",
    "sg_bkgd = np.array([[2, 0.25], [0.25, 1]])\n",
    "sg_sgnl = np.array([[2, -0.25], [-0.25, 1]])\n",
    "\n",
    "bkgd = stats.multivariate_normal(mu_bkgd, sg_bkgd)\n",
    "sgnl = stats.multivariate_normal(mu_sgnl, sg_sgnl)"
   ]
  },
  {
   "cell_type": "code",
   "execution_count": 38,
   "id": "afae6fcc-7980-4032-9235-96aedc3ed73f",
   "metadata": {},
   "outputs": [],
   "source": [
    "D = np.concatenate([bkgd.rvs(size = 10**7), sgnl.rvs(size = 10**7)])\n",
    "X = D[:, 0]\n",
    "Y = D[:, 1]\n",
    "b = 3"
   ]
  },
  {
   "cell_type": "code",
   "execution_count": 39,
   "id": "91b5a284-485b-4b0b-ab86-a32ee3b4a56d",
   "metadata": {},
   "outputs": [
    {
     "data": {
      "text/plain": [
       "(0.94436245, 0.96310935)"
      ]
     },
     "execution_count": 39,
     "metadata": {},
     "output_type": "execute_result"
    }
   ],
   "source": [
    "np.mean(X**2 + Y**2 < b**2), np.mean((X > -b) & (X < b) & (Y > -b) & (Y < b))"
   ]
  },
  {
   "cell_type": "code",
   "execution_count": null,
   "id": "d4eaeffc-e644-4000-917a-6b50af05caa7",
   "metadata": {},
   "outputs": [],
   "source": [
    "plt.figure(figsize = (8, 10))\n",
    "plt.contour(xx, yy, 0.5 * (bkgd.pdf(pos) + sgnl.pdf(pos)))\n",
    "cc = pos[sgnl.pdf(pos) / bkgd.pdf(pos) < 1]\n",
    "dd = pos[sgnl.pdf(pos) / bkgd.pdf(pos) > 1]\n",
    "plt.scatter(cc[:, 0], cc[:, 1], c = 'orange')\n",
    "plt.scatter(dd[:, 0], dd[:, 1], c = 'red')\n",
    "plt.gca().set_aspect('equal')"
   ]
  },
  {
   "cell_type": "markdown",
   "id": "14c24e3d-1843-4167-ad5f-ae9407ebdea1",
   "metadata": {
    "jp-MarkdownHeadingCollapsed": true,
    "tags": []
   },
   "source": [
    "### Error"
   ]
  },
  {
   "cell_type": "code",
   "execution_count": null,
   "id": "8563e01b-6901-4ccd-b78f-b2e0bbee4c64",
   "metadata": {},
   "outputs": [],
   "source": [
    "bce_avg = np.mean([mae(lr) for lr in bce_lrs])\n",
    "mse_avg = np.mean([mae(lr) for lr in mse_lrs])\n",
    "mlc_avg = np.mean([mae(lr) for lr in mlc_lrs])\n",
    "sqr_avg = np.mean([mae(lr) for lr in sqr_lrs])\n",
    "\n",
    "print('MAEs')\n",
    "print('BCE:\\t', bce_avg)\n",
    "print('MSE:\\t', mse_avg)\n",
    "print('MLC:\\t', mlc_avg)\n",
    "print('SQR:\\t', sqr_avg)"
   ]
  },
  {
   "cell_type": "code",
   "execution_count": null,
   "id": "202aa268-feea-4cae-b503-0ddaa6419ddb",
   "metadata": {},
   "outputs": [],
   "source": [
    "plt.figure(figsize = (10, 8))\n",
    "diffs = lr(g) - bce_lr(g)\n",
    "plt.scatter(g[:, 0], g[:, 1], c = diffs, cmap = 'hot')\n",
    "plt.colorbar()\n",
    "plt.gca().set_aspect('equal')\n",
    "\n",
    "plt.savefig('plots/multivariate/scratch/set_{}/bce_1.png'.format(num),\n",
    "            dpi=600, \n",
    "            bbox_inches='tight')"
   ]
  },
  {
   "cell_type": "code",
   "execution_count": null,
   "id": "e3dc2fe5-76d8-449d-8e72-b57de73e8ce6",
   "metadata": {},
   "outputs": [],
   "source": [
    "plt.figure(figsize = (10, 8))\n",
    "diffs = lr(g) - mse_lr(g)\n",
    "plt.scatter(g[:, 0], g[:, 1], c = diffs, cmap = 'hot')\n",
    "plt.colorbar()\n",
    "plt.gca().set_aspect('equal')\n",
    "\n",
    "plt.savefig('plots/multivariate/scratch/set_{}/mse_1.png'.format(num),\n",
    "            dpi=600, \n",
    "            bbox_inches='tight')"
   ]
  },
  {
   "cell_type": "code",
   "execution_count": null,
   "id": "ca3dbd5b-e0d0-4943-ac53-ba0a3ee8dde1",
   "metadata": {},
   "outputs": [],
   "source": [
    "plt.figure(figsize = (10, 8))\n",
    "diffs = lr(g) - mlc_lr(g)\n",
    "plt.scatter(g[:, 0], g[:, 1], c = diffs, cmap = 'hot')\n",
    "plt.colorbar()\n",
    "plt.gca().set_aspect('equal')\n",
    "\n",
    "plt.savefig('plots/multivariate/scratch/set_{}/mlc_1.png'.format(num),\n",
    "            dpi=600, \n",
    "            bbox_inches='tight')"
   ]
  },
  {
   "cell_type": "code",
   "execution_count": null,
   "id": "12c2e577-c157-42e0-973c-508a6b12d83b",
   "metadata": {},
   "outputs": [],
   "source": [
    "plt.figure(figsize = (10, 8))\n",
    "diffs = lr(g) - sqr_lr(g)\n",
    "plt.scatter(g[:, 0], g[:, 1], c = diffs, cmap = 'hot')\n",
    "plt.colorbar()\n",
    "plt.gca().set_aspect('equal')\n",
    "\n",
    "plt.savefig('plots/multivariate/scratch/set_{}/sqr_1.png'.format(num),\n",
    "            dpi=600, \n",
    "            bbox_inches='tight')"
   ]
  },
  {
   "cell_type": "code",
   "execution_count": null,
   "id": "607e7ab9-e473-4a59-bd7a-2457e5443b4e",
   "metadata": {},
   "outputs": [],
   "source": []
  },
  {
   "cell_type": "code",
   "execution_count": null,
   "id": "6ad49bc7-496c-4697-9977-94c5fa1397c3",
   "metadata": {},
   "outputs": [],
   "source": [
    "b = 4"
   ]
  },
  {
   "cell_type": "code",
   "execution_count": null,
   "id": "9830db75-cb99-450b-b74a-ad0d08da9bff",
   "metadata": {},
   "outputs": [],
   "source": []
  },
  {
   "cell_type": "code",
   "execution_count": null,
   "id": "91140a69-849e-45c2-a1db-286e2f26e10b",
   "metadata": {},
   "outputs": [],
   "source": []
  },
  {
   "cell_type": "code",
   "execution_count": null,
   "id": "cfd18efc-4246-46cf-90ee-b58c41ba8220",
   "metadata": {},
   "outputs": [],
   "source": []
  }
 ],
 "metadata": {
  "kernelspec": {
   "display_name": "omnifold",
   "language": "python",
   "name": "omnifold"
  },
  "language_info": {
   "codemirror_mode": {
    "name": "ipython",
    "version": 3
   },
   "file_extension": ".py",
   "mimetype": "text/x-python",
   "name": "python",
   "nbconvert_exporter": "python",
   "pygments_lexer": "ipython3",
   "version": "3.8.12"
  }
 },
 "nbformat": 4,
 "nbformat_minor": 5
}
