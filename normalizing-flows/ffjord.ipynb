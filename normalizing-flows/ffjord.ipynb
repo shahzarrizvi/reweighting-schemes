{
 "cells": [
  {
   "cell_type": "code",
   "execution_count": 1,
   "metadata": {
    "cellView": "both",
    "colab": {
     "base_uri": "https://localhost:8080/",
     "height": 72
    },
    "colab_type": "code",
    "id": "hC2H2qjyVuS-",
    "outputId": "06fdc154-1533-495e-a59f-eb948724685a"
   },
   "outputs": [],
   "source": [
    "#@title Imports (tf, tfp with adjoint trick, etc)\n",
    "\n",
    "import numpy as np\n",
    "import tqdm as tqdm\n",
    "import sklearn.datasets as skd\n",
    "from scipy import stats\n",
    "\n",
    "# visualization\n",
    "import matplotlib.pyplot as plt\n",
    "#import seaborn as sns\n",
    "#from scipy.stats import kde\n",
    "\n",
    "# tf and friends\n",
    "import tensorflow.compat.v2 as tf\n",
    "import tensorflow_probability as tfp\n",
    "import sonnet as snt\n",
    "tf.enable_v2_behavior()\n",
    "\n",
    "tfb = tfp.bijectors\n",
    "tfd = tfp.distributions\n",
    "\n",
    "def make_grid(xmin, xmax, ymin, ymax, gridlines, pts):\n",
    "    xpts = np.linspace(xmin, xmax, pts)\n",
    "    ypts = np.linspace(ymin, ymax, pts)\n",
    "    xgrid = np.linspace(xmin, xmax, gridlines)\n",
    "    ygrid = np.linspace(ymin, ymax, gridlines)\n",
    "    xlines = np.stack([a.ravel() for a in np.meshgrid(xpts, ygrid)])\n",
    "    ylines = np.stack([a.ravel() for a in np.meshgrid(xgrid, ypts)])\n",
    "    return np.concatenate([xlines, ylines], 1).T\n",
    "\n",
    "grid = make_grid(-3, 3, -3, 3, 4, 100)\n",
    "\n",
    "import os"
   ]
  },
  {
   "cell_type": "code",
   "execution_count": 2,
   "metadata": {},
   "outputs": [],
   "source": [
    "os.environ[\"CUDA_VISIBLE_DEVICES\"] = \"2\" # pick a number < 4 on ML4HEP; < 3 on Voltan \n",
    "physical_devices = tf.config.list_physical_devices('GPU') \n",
    "tf.config.experimental.set_memory_growth(physical_devices[0], True)"
   ]
  },
  {
   "cell_type": "code",
   "execution_count": 3,
   "metadata": {
    "cellView": "form",
    "colab": {},
    "colab_type": "code",
    "id": "2S7iVERbVNCF"
   },
   "outputs": [],
   "source": [
    "#@title Helper functions for visualization\n",
    "def plot_density(data, axis):\n",
    "    x, y = np.squeeze(np.split(data, 2, axis=1))\n",
    "    values = np.vstack([x, y])\n",
    "    kernel = stats.gaussian_kde(values)\n",
    "\n",
    "    xmin, xmax = -3, 3\n",
    "    ymin, ymax = -3, 3\n",
    "\n",
    "    # Peform the kernel density estimate\n",
    "    xx, yy = np.mgrid[xmin:xmax:100j, ymin:ymax:100j]\n",
    "    positions = np.vstack([xx.ravel(), yy.ravel()])\n",
    "    f = np.reshape(kernel(positions).T, xx.shape)\n",
    "    axis.contourf(xx, yy, f, cmap='viridis')\n",
    "    return axis\n",
    "\n",
    "\n",
    "def plot_points(data, axis, s=10, color='b', label=''):\n",
    "    x, y = np.squeeze(np.split(data, 2, axis=1))\n",
    "    axis.scatter(x, y, c=color, s=s, label=label)\n",
    "\n",
    "\n",
    "def plot_panel(grid, samples, transformed_grid, transformed_samples,\n",
    "               dataset, axarray, limits=True):\n",
    "    if len(axarray) != 4:\n",
    "        raise ValueError('Expected 4 axes for the panel')\n",
    "    ax1, ax2, ax3, ax4 = axarray\n",
    "    plot_points(data=grid, axis=ax1, s=20, color='black', label='grid')\n",
    "    plot_points(samples, ax1, s=30, color='blue', label='samples')\n",
    "    plot_points(transformed_grid, ax2, s=20, color='black', label='ode(grid)')\n",
    "    plot_points(transformed_samples, ax2, s=30, color='blue', label='ode(samples)')\n",
    "    ax3 = plot_density(transformed_samples, ax3)\n",
    "    ax4 = plot_density(dataset, ax4)\n",
    "    if limits:\n",
    "        set_limits([ax1], -3.0, 3.0, -3.0, 3.0)\n",
    "        set_limits([ax2], -2.0, 3.0, -2.0, 3.0)\n",
    "        set_limits([ax3, ax4], -1.5, 2.5, -0.75, 1.25)\n",
    "\n",
    "\n",
    "def set_limits(axes, min_x, max_x, min_y, max_y):\n",
    "    if isinstance(axes, list):\n",
    "        for axis in axes:\n",
    "            set_limits(axis, min_x, max_x, min_y, max_y)\n",
    "    else:\n",
    "        axes.set_xlim(min_x, max_x)\n",
    "        axes.set_ylim(min_y, max_y)"
   ]
  },
  {
   "cell_type": "markdown",
   "metadata": {
    "colab_type": "text",
    "id": "2DELBFg0WsLC"
   },
   "source": [
    "# FFJORD bijector\n",
    "In this colab we demonstrate FFJORD bijector, originally proposed in the paper by Grathwohl, Will, et al. [arxiv link](https://arxiv.org/pdf/1810.01367.pdf).\n",
    "\n",
    "In the nutshell the idea behind such approach is to establish a correspondence between a known **base distribution** and the **data distribution**.\n",
    "\n",
    "To establish this connection, we need to\n",
    "\n",
    "  1. Define a bijective map $\\mathcal{T}_{\\theta}:\\mathbf{x} \\rightarrow \\mathbf{y}$, $\\mathcal{T}_{\\theta}^{1}:\\mathbf{y} \\rightarrow \\mathbf{x}$ between the space $\\mathcal{Y}$ on which **base distribution** is defined and space $\\mathcal{X}$ of the data domain.\n",
    "  2. Efficiently keep track of the deformations we perform to transfer the notion of probability onto $\\mathcal{X}$.\n",
    "\n",
    "The second condition is formalized in the following expression for probability\n",
    "distribution defined on $\\mathcal{X}$:\n",
    "\n",
    "$$\n",
    "\\log p_{\\mathbf{x}}(\\mathbf{x})=\\log p_{\\mathbf{y}}(\\mathbf{y})-\\log \\operatorname{det}\\left|\\frac{\\partial \\mathcal{T}_{\\theta}(\\mathbf{y})}{\\partial \\mathbf{y}}\\right|\n",
    "$$\n",
    "\n",
    "FFJORD bijector accomplishes this by defining a transformation \n",
    "$$\n",
    "\\mathcal{T_{\\theta}}: \\mathbf{x} = \\mathbf{z}(t_{0}) \\rightarrow \\mathbf{y} = \\mathbf{z}(t_{1}) \\quad : \\quad \\frac{d \\mathbf{z}}{dt} = \\mathbf{f}(t, \\mathbf{z}, \\theta)\n",
    "$$\n",
    "\n",
    "This transformation is invertible, as long as function $\\mathbf{f}$ describing the evolution of the state $\\mathbf{z}$ is well behaved and the `log_det_jacobian` can be calculated by integrating the following expression.\n",
    "\n",
    "$$\n",
    "\\log \\operatorname{det}\\left|\\frac{\\partial \\mathcal{T}_{\\theta}(\\mathbf{y})}{\\partial \\mathbf{y}}\\right| = \n",
    "-\\int_{t_{0}}^{t_{1}} \\operatorname{Tr}\\left(\\frac{\\partial \\mathbf{f}(t, \\mathbf{z}, \\theta)}{\\partial \\mathbf{z}(t)}\\right) d t\n",
    "$$\n",
    "\n",
    "In this demo we will train a FFJORD bijector to warp a gaussian distribution onto the distribution defined by `moons` dataset. This will be done in 3 steps:\n",
    "  * Define **base distribution**\n",
    "  * Define FFJORD bijector\n",
    "  * Minimize exact log-likelihood of the dataset"
   ]
  },
  {
   "cell_type": "markdown",
   "metadata": {
    "colab_type": "text",
    "id": "Ls2u6WGNWvYB"
   },
   "source": [
    "First, we load the data"
   ]
  },
  {
   "cell_type": "code",
   "execution_count": 4,
   "metadata": {
    "colab": {
     "base_uri": "https://localhost:8080/",
     "height": 483
    },
    "colab_type": "code",
    "id": "aWk3YD4zWx_b",
    "outputId": "2de3d328-ce1d-42e9-f43b-b1ee61b96f8c"
   },
   "outputs": [
    {
     "name": "stderr",
     "output_type": "stream",
     "text": [
      "2022-12-07 20:34:37.471143: I tensorflow/core/platform/cpu_feature_guard.cc:151] This TensorFlow binary is optimized with oneAPI Deep Neural Network Library (oneDNN) to use the following CPU instructions in performance-critical operations:  SSE4.1 SSE4.2 AVX AVX2 FMA\n",
      "To enable them in other operations, rebuild TensorFlow with the appropriate compiler flags.\n",
      "2022-12-07 20:34:38.117543: I tensorflow/core/common_runtime/gpu/gpu_device.cc:1525] Created device /job:localhost/replica:0/task:0/device:GPU:0 with 22824 MB memory:  -> device: 0, name: Quadro RTX 6000, pci bus id: 0000:81:00.0, compute capability: 7.5\n"
     ]
    },
    {
     "data": {
      "image/png": "[encoded data removed]",
      "text/plain": [
       "<Figure size 576x576 with 1 Axes>"
      ]
     },
     "metadata": {
      "needs_background": "light"
     },
     "output_type": "display_data"
    }
   ],
   "source": [
    "#@title Dataset\n",
    "DATASET_SIZE = 1024 * 8  #@param\n",
    "BATCH_SIZE = 256  #@param\n",
    "SAMPLE_SIZE = DATASET_SIZE\n",
    "\n",
    "moons = skd.make_moons(n_samples=DATASET_SIZE, noise=.06)[0]\n",
    "\n",
    "moons_ds = tf.data.Dataset.from_tensor_slices(moons.astype(np.float32))\n",
    "moons_ds = moons_ds.prefetch(tf.data.experimental.AUTOTUNE)\n",
    "moons_ds = moons_ds.cache()\n",
    "moons_ds = moons_ds.shuffle(DATASET_SIZE)\n",
    "moons_ds = moons_ds.batch(BATCH_SIZE)\n",
    "\n",
    "plt.figure(figsize=[8, 8])\n",
    "plt.scatter(moons[:, 0], moons[:, 1])\n",
    "plt.show()"
   ]
  },
  {
   "cell_type": "markdown",
   "metadata": {
    "colab_type": "text",
    "id": "JsmkbfCdWyFK"
   },
   "source": [
    "Next, we instantiate a base distribution"
   ]
  },
  {
   "cell_type": "code",
   "execution_count": 5,
   "metadata": {
    "colab": {},
    "colab_type": "code",
    "id": "knDCafOQWyKJ"
   },
   "outputs": [],
   "source": [
    "#base_loc = np.array([0.0, 0.0]).astype(np.float32)\n",
    "#base_sigma = np.array([0.8, 0.8]).astype(np.float32)\n",
    "#base_distribution = tfd.MultivariateNormalDiag(base_loc, base_sigma)\n",
    "\n",
    "base_distribution = tfd.MultivariateNormalDiag([0, 0, 0], [1, 1, 1])"
   ]
  },
  {
   "cell_type": "markdown",
   "metadata": {
    "colab_type": "text",
    "id": "3m0IOnGoWyNp"
   },
   "source": [
    "We use a multi-layer perceptron to model `state_derivative_fn`.\n",
    "\n",
    "While not necessary for this dataset, it is often benefitial to make `state_derivative_fn` dependent on time. Here we achieve this by concatenating `t` to inputs of our network."
   ]
  },
  {
   "cell_type": "code",
   "execution_count": 6,
   "metadata": {
    "colab": {},
    "colab_type": "code",
    "id": "Rq6mHVh8WyQZ"
   },
   "outputs": [],
   "source": [
    "class MLP_ODE(snt.Module):\n",
    "    \"\"\"Multi-layer NN ode_fn.\"\"\"\n",
    "    def __init__(self, num_hidden, num_layers, num_output, name='mlp_ode'):\n",
    "        super(MLP_ODE, self).__init__(name=name)\n",
    "        self._num_hidden = num_hidden\n",
    "        self._num_output = num_output\n",
    "        self._num_layers = num_layers\n",
    "        self._modules = []\n",
    "        for _ in range(self._num_layers - 1):\n",
    "            self._modules.append(snt.Linear(self._num_hidden))\n",
    "            self._modules.append(tf.math.tanh)\n",
    "        self._modules.append(snt.Linear(self._num_output))\n",
    "        self._model = snt.Sequential(self._modules)\n",
    "\n",
    "    def __call__(self, t, inputs):\n",
    "        inputs = tf.concat([tf.broadcast_to(t, inputs.shape), inputs], -1)\n",
    "        return self._model(inputs)"
   ]
  },
  {
   "cell_type": "code",
   "execution_count": 7,
   "metadata": {
    "colab": {},
    "colab_type": "code",
    "id": "vXeBR0bTWyS5"
   },
   "outputs": [],
   "source": [
    "#@title Model and training parameters\n",
    "LR = 1e-2  #@param\n",
    "NUM_EPOCHS = 80  #@param\n",
    "STACKED_FFJORDS = 4  #@param\n",
    "NUM_HIDDEN = 8  #@param\n",
    "NUM_LAYERS = 3  #@param\n",
    "NUM_OUTPUT = 3\n",
    "#NUM_OUTPUT = 1"
   ]
  },
  {
   "cell_type": "markdown",
   "metadata": {
    "colab_type": "text",
    "id": "FWvaiMDMWyVZ"
   },
   "source": [
    "Now we construct a stack of FFJORD bijectors. Each bijector is provided with `ode_solve_fn` and `trace_augmentation_fn` and it's own `state_derivative_fn` model, so that they represent a sequence of different transformations."
   ]
  },
  {
   "cell_type": "code",
   "execution_count": 8,
   "metadata": {
    "colab": {},
    "colab_type": "code",
    "id": "lPgF4uu-XNM1"
   },
   "outputs": [],
   "source": [
    "#@title Building bijector\n",
    "solver = tfp.math.ode.DormandPrince(atol=1e-5)\n",
    "ode_solve_fn = solver.solve\n",
    "trace_augmentation_fn = tfb.ffjord.trace_jacobian_exact\n",
    "\n",
    "bijectors = []\n",
    "for _ in range(STACKED_FFJORDS):\n",
    "    mlp_model = MLP_ODE(NUM_HIDDEN, NUM_LAYERS, NUM_OUTPUT)\n",
    "    next_ffjord = tfb.FFJORD(\n",
    "        state_time_derivative_fn=mlp_model,ode_solve_fn=ode_solve_fn,\n",
    "        trace_augmentation_fn=trace_augmentation_fn)\n",
    "    bijectors.append(next_ffjord)\n",
    "\n",
    "stacked_ffjord = tfb.Chain(bijectors[::-1])"
   ]
  },
  {
   "cell_type": "markdown",
   "metadata": {
    "colab_type": "text",
    "id": "nxPYgppYXNRk"
   },
   "source": [
    "Now we can use `TransformedDistribution` which is the result of warping `base_distribution` with `stacked_ffjord` bijector."
   ]
  },
  {
   "cell_type": "code",
   "execution_count": 9,
   "metadata": {
    "colab": {},
    "colab_type": "code",
    "id": "R5aUlnDrXNU7"
   },
   "outputs": [],
   "source": [
    "transformed_distribution = tfd.TransformedDistribution(\n",
    "    distribution=base_distribution, bijector=stacked_ffjord)"
   ]
  },
  {
   "cell_type": "markdown",
   "metadata": {
    "colab_type": "text",
    "id": "kpXxHaKJXNYL"
   },
   "source": [
    "Now we define our training procedure. We simply minimize negative log-likelihood of the data."
   ]
  },
  {
   "cell_type": "code",
   "execution_count": 10,
   "metadata": {
    "colab": {},
    "colab_type": "code",
    "id": "y8YC4qpTXXj2"
   },
   "outputs": [],
   "source": [
    "#@title Training\n",
    "@tf.function\n",
    "def train_step(optimizer, target_sample):\n",
    "    with tf.GradientTape() as tape:\n",
    "        loss = -tf.reduce_mean(transformed_distribution.log_prob(target_sample))\n",
    "    variables = tape.watched_variables()\n",
    "    gradients = tape.gradient(loss, variables)\n",
    "    optimizer.apply(gradients, variables)\n",
    "    return loss"
   ]
  },
  {
   "cell_type": "code",
   "execution_count": 11,
   "metadata": {
    "colab": {},
    "colab_type": "code",
    "id": "sQ1J7NYxXXnk"
   },
   "outputs": [],
   "source": [
    "#@title Samples\n",
    "@tf.function\n",
    "def get_samples():\n",
    "    base_distribution_samples = base_distribution.sample(SAMPLE_SIZE)\n",
    "    transformed_samples = transformed_distribution.sample(SAMPLE_SIZE)\n",
    "    return base_distribution_samples, transformed_samples\n",
    "\n",
    "@tf.function\n",
    "def get_transformed_grid():\n",
    "    transformed_grid = stacked_ffjord.forward(grid)\n",
    "    return transformed_grid"
   ]
  },
  {
   "cell_type": "markdown",
   "metadata": {
    "colab_type": "text",
    "id": "Gbupg1AIXXrb"
   },
   "source": [
    "Plot samples from base and transformed distributions."
   ]
  },
  {
   "cell_type": "code",
   "execution_count": 12,
   "metadata": {
    "colab": {
     "base_uri": "https://localhost:8080/",
     "height": 89
    },
    "colab_type": "code",
    "id": "48XDLdQEXNbU",
    "outputId": "8e81f4f7-441b-4112-cc01-1325d340458c"
   },
   "outputs": [],
   "source": [
    "evaluation_samples = []\n",
    "base_samples, transformed_samples = get_samples()\n",
    "#transformed_grid = get_transformed_grid()\n",
    "#evaluation_samples.append((base_samples, transformed_samples, transformed_grid))"
   ]
  },
  {
   "cell_type": "code",
   "execution_count": 13,
   "metadata": {},
   "outputs": [],
   "source": [
    "gaussian = stats.multivariate_normal.rvs([3, 3, 3], [1, 2, 3], size = DATASET_SIZE)\n",
    "gg = np.cos(gaussian)\n",
    "\n",
    "gauss_ds = tf.data.Dataset.from_tensor_slices(gg.astype(np.float32))\n",
    "gauss_ds = gauss_ds.prefetch(tf.data.experimental.AUTOTUNE)\n",
    "gauss_ds = gauss_ds.cache()\n",
    "gauss_ds = gauss_ds.shuffle(DATASET_SIZE)\n",
    "gauss_ds = gauss_ds.batch(BATCH_SIZE)"
   ]
  },
  {
   "cell_type": "code",
   "execution_count": 14,
   "metadata": {
    "colab": {
     "base_uri": "https://localhost:8080/",
     "height": 175
    },
    "colab_type": "code",
    "id": "qo9QhkVpXiGn",
    "outputId": "9dc4e2f3-e1f5-46d7-d586-b841505758cc"
   },
   "outputs": [
    {
     "name": "stderr",
     "output_type": "stream",
     "text": [
      "  0%|          | 0/40 [00:00<?, ?it/s]"
     ]
    },
    {
     "name": "stdout",
     "output_type": "stream",
     "text": [
      "WARNING:tensorflow:From /clusterfs/ml4hep/shahzar/miniconda/envs/multifold/lib/python3.10/site-packages/tensorflow_probability/python/math/ode/base.py:459: calling while_loop_v2 (from tensorflow.python.ops.control_flow_ops) with back_prop=False is deprecated and will be removed in a future version.\n",
      "Instructions for updating:\n",
      "back_prop=False is deprecated. Consider using tf.stop_gradient instead.\n",
      "Instead of:\n",
      "results = tf.while_loop(c, b, vars, back_prop=False)\n",
      "Use:\n",
      "results = tf.nest.map_structure(tf.stop_gradient, tf.while_loop(c, b, vars))\n"
     ]
    },
    {
     "name": "stderr",
     "output_type": "stream",
     "text": [
      "100%|██████████| 40/40 [16:46<00:00, 25.16s/it]\n"
     ]
    }
   ],
   "source": [
    "learning_rate = tf.Variable(LR, trainable=False)\n",
    "optimizer = snt.optimizers.Adam(learning_rate)\n",
    "\n",
    "for epoch in tqdm.trange(NUM_EPOCHS // 2):\n",
    "    base_samples, transformed_samples = get_samples()\n",
    "    #transformed_grid = get_transformed_grid()\n",
    "    #evaluation_samples.append(\n",
    "    #  (base_samples, transformed_samples, transformed_grid))\n",
    "    for batch in gauss_ds:\n",
    "        _ = train_step(optimizer, batch)"
   ]
  },
  {
   "cell_type": "code",
   "execution_count": 15,
   "metadata": {},
   "outputs": [
    {
     "data": {
      "text/plain": [
       "<mpl_toolkits.mplot3d.art3d.Path3DCollection at 0x7f9405bb7610>"
      ]
     },
     "execution_count": 15,
     "metadata": {},
     "output_type": "execute_result"
    },
    {
     "data": {
      "image/png": "[encoded data removed]",
      "text/plain": [
       "<Figure size 432x288 with 1 Axes>"
      ]
     },
     "metadata": {
      "needs_background": "light"
     },
     "output_type": "display_data"
    }
   ],
   "source": [
    "fig = plt.figure()\n",
    "ax = plt.axes(projection='3d')\n",
    "\n",
    "samp = transformed_samples\n",
    "ax.scatter3D(samp[:, 0], samp[:, 1], samp[:, 2], alpha = 0.25)\n",
    "ax.scatter3D(gg[:, 0], gg[:, 1], gg[:, 2], alpha = 0.25)"
   ]
  },
  {
   "cell_type": "code",
   "execution_count": null,
   "metadata": {},
   "outputs": [],
   "source": []
  }
 ],
 "metadata": {
  "colab": {
   "collapsed_sections": [],
   "name": "FFJORD Demo",
   "provenance": [],
   "toc_visible": true
  },
  "kernelspec": {
   "display_name": "multifold",
   "language": "python",
   "name": "multifold"
  },
  "language_info": {
   "codemirror_mode": {
    "name": "ipython",
    "version": 3
   },
   "file_extension": ".py",
   "mimetype": "text/x-python",
   "name": "python",
   "nbconvert_exporter": "python",
   "pygments_lexer": "ipython3",
   "version": "3.10.5"
  }
 },
 "nbformat": 4,
 "nbformat_minor": 4
}
