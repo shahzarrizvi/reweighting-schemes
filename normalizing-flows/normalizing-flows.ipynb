{
 "cells": [
  {
   "cell_type": "code",
   "execution_count": 11,
   "id": "23a52f9c-7f7c-4245-90bc-ad2869657178",
   "metadata": {},
   "outputs": [
    {
     "name": "stdout",
     "output_type": "stream",
     "text": [
      "The autoreload extension is already loaded. To reload it, use:\n",
      "  %reload_ext autoreload\n"
     ]
    }
   ],
   "source": [
    "# Automatically reload modules after executing each cell.\n",
    "%load_ext autoreload\n",
    "%autoreload 2"
   ]
  },
  {
   "cell_type": "code",
   "execution_count": 12,
   "id": "fe0af8ce-a308-4634-9cee-7bde3d1c9c38",
   "metadata": {
    "tags": []
   },
   "outputs": [],
   "source": [
    "import os\n",
    "import numpy as np\n",
    "import matplotlib.pyplot as plt\n",
    "import tensorflow as tf\n",
    "from sklearn.metrics import roc_curve, auc\n",
    "from sklearn.model_selection import train_test_split\n",
    "import utils, models\n",
    "import argparse\n",
    "\n",
    "plot_folder='../plots'\n",
    "num_dim=2\n",
    "num_epoch = 10\n",
    "lr = 1e-3"
   ]
  },
  {
   "cell_type": "code",
   "execution_count": 13,
   "id": "fb1849e9-e2fe-4a80-84de-4a1cbe4a0c25",
   "metadata": {},
   "outputs": [],
   "source": [
    "utils.SetStyle()\n",
    "tf.random.set_seed(1234)"
   ]
  },
  {
   "cell_type": "code",
   "execution_count": 14,
   "id": "ee986300-dd1f-402e-8d42-c8d350ef74c8",
   "metadata": {},
   "outputs": [],
   "source": [
    "os.environ[\"CUDA_VISIBLE_DEVICES\"] = \"3\" # pick a number < 4 on ML4HEP; < 3 on Voltan \n",
    "physical_devices = tf.config.list_physical_devices('GPU') \n",
    "tf.config.experimental.set_memory_growth(physical_devices[0], True)"
   ]
  },
  {
   "cell_type": "markdown",
   "id": "dff9c789-2bd2-4861-9d42-7f7b1f6eaab6",
   "metadata": {
    "tags": []
   },
   "source": [
    "# 2D Gaussians"
   ]
  },
  {
   "cell_type": "markdown",
   "id": "a5cb0785-8c7d-47c9-98e5-b23c57422c2f",
   "metadata": {},
   "source": [
    "Generate training & validation samples (2D Gaussians):"
   ]
  },
  {
   "cell_type": "code",
   "execution_count": 15,
   "id": "2ba05036-2811-4bd7-8997-574f4c8dba80",
   "metadata": {
    "tags": []
   },
   "outputs": [
    {
     "ename": "ValueError",
     "evalue": "Only callable can be used as callback",
     "output_type": "error",
     "traceback": [
      "\u001b[0;31m---------------------------------------------------------------------------\u001b[0m",
      "\u001b[0;31mValueError\u001b[0m                                Traceback (most recent call last)",
      "Cell \u001b[0;32mIn [15], line 1\u001b[0m\n\u001b[0;32m----> 1\u001b[0m train_b, train_s, train_cdf_b, train_cdf_s, train_tanh_b, train_tanh_s \u001b[38;5;241m=\u001b[39m \u001b[43mutils\u001b[49m\u001b[38;5;241;43m.\u001b[39;49m\u001b[43mDataGenerator\u001b[49m\u001b[43m(\u001b[49m\u001b[43mnum_dim\u001b[49m\u001b[38;5;241;43m=\u001b[39;49m\u001b[43mnum_dim\u001b[49m\u001b[43m)\u001b[49m\n\u001b[1;32m      2\u001b[0m val_b, val_s, val_cdf_b, val_cdf_s, val_tanh_b, val_tanh_s \u001b[38;5;241m=\u001b[39m utils\u001b[38;5;241m.\u001b[39mDataGenerator(num_dim\u001b[38;5;241m=\u001b[39mnum_dim)\n",
      "File \u001b[0;32m/clusterfs/ml4hep/shahzar/reweighting-schemes/normalizing-flows/utils.py:77\u001b[0m, in \u001b[0;36mDataGenerator\u001b[0;34m(num_dim, nbkg, nsig)\u001b[0m\n\u001b[1;32m     72\u001b[0m x_s \u001b[38;5;241m=\u001b[39m np\u001b[38;5;241m.\u001b[39mrandom\u001b[38;5;241m.\u001b[39mnormal(num_dim\u001b[38;5;241m*\u001b[39m[\u001b[38;5;241m1.\u001b[39m],num_dim\u001b[38;5;241m*\u001b[39m[\u001b[38;5;241m1.\u001b[39m],(nsig,num_dim))\n\u001b[1;32m     73\u001b[0m \u001b[38;5;66;03m# scaler.fit(x_b)\u001b[39;00m\n\u001b[1;32m     74\u001b[0m \u001b[38;5;66;03m# x_b=scaler.transform(x_b)\u001b[39;00m\n\u001b[1;32m     75\u001b[0m \u001b[38;5;66;03m# x_s=scaler.transform(x_s)\u001b[39;00m\n\u001b[0;32m---> 77\u001b[0m cdf_s \u001b[38;5;241m=\u001b[39m \u001b[43mnorm\u001b[49m\u001b[38;5;241;43m.\u001b[39;49m\u001b[43mcdf\u001b[49m\u001b[43m(\u001b[49m\u001b[43mx_s\u001b[49m\u001b[43m)\u001b[49m\n\u001b[1;32m     78\u001b[0m cdf_b \u001b[38;5;241m=\u001b[39m norm\u001b[38;5;241m.\u001b[39mcdf(x_b)\n\u001b[1;32m     79\u001b[0m \u001b[38;5;66;03m# scaler.fit(cdf_b)\u001b[39;00m\n\u001b[1;32m     80\u001b[0m \u001b[38;5;66;03m# cdf_b=scaler.transform(cdf_b)\u001b[39;00m\n\u001b[1;32m     81\u001b[0m \u001b[38;5;66;03m# cdf_s=scaler.transform(cdf_s)\u001b[39;00m\n",
      "File \u001b[0;32m/clusterfs/ml4hep/shahzar/miniconda/envs/flow/lib/python3.9/site-packages/scipy/stats/_distn_infrastructure.py:2170\u001b[0m, in \u001b[0;36mrv_continuous.cdf\u001b[0;34m(self, x, *args, **kwds)\u001b[0m\n\u001b[1;32m   2168\u001b[0m x \u001b[38;5;241m=\u001b[39m np\u001b[38;5;241m.\u001b[39masarray((x \u001b[38;5;241m-\u001b[39m loc)\u001b[38;5;241m/\u001b[39mscale, dtype\u001b[38;5;241m=\u001b[39mdtyp)\n\u001b[1;32m   2169\u001b[0m cond0 \u001b[38;5;241m=\u001b[39m \u001b[38;5;28mself\u001b[39m\u001b[38;5;241m.\u001b[39m_argcheck(\u001b[38;5;241m*\u001b[39margs) \u001b[38;5;241m&\u001b[39m (scale \u001b[38;5;241m>\u001b[39m \u001b[38;5;241m0\u001b[39m)\n\u001b[0;32m-> 2170\u001b[0m cond1 \u001b[38;5;241m=\u001b[39m \u001b[38;5;28;43mself\u001b[39;49m\u001b[38;5;241;43m.\u001b[39;49m\u001b[43m_open_support_mask\u001b[49m\u001b[43m(\u001b[49m\u001b[43mx\u001b[49m\u001b[43m,\u001b[49m\u001b[43m \u001b[49m\u001b[38;5;241;43m*\u001b[39;49m\u001b[43margs\u001b[49m\u001b[43m)\u001b[49m \u001b[38;5;241m&\u001b[39m (scale \u001b[38;5;241m>\u001b[39m \u001b[38;5;241m0\u001b[39m)\n\u001b[1;32m   2171\u001b[0m cond2 \u001b[38;5;241m=\u001b[39m (x \u001b[38;5;241m>\u001b[39m\u001b[38;5;241m=\u001b[39m np\u001b[38;5;241m.\u001b[39masarray(_b)) \u001b[38;5;241m&\u001b[39m cond0\n\u001b[1;32m   2172\u001b[0m cond \u001b[38;5;241m=\u001b[39m cond0 \u001b[38;5;241m&\u001b[39m cond1\n",
      "File \u001b[0;32m/clusterfs/ml4hep/shahzar/miniconda/envs/flow/lib/python3.9/site-packages/scipy/stats/_distn_infrastructure.py:993\u001b[0m, in \u001b[0;36mrv_generic._open_support_mask\u001b[0;34m(self, x, *args)\u001b[0m\n\u001b[1;32m    991\u001b[0m \u001b[38;5;28;01mdef\u001b[39;00m \u001b[38;5;21m_open_support_mask\u001b[39m(\u001b[38;5;28mself\u001b[39m, x, \u001b[38;5;241m*\u001b[39margs):\n\u001b[1;32m    992\u001b[0m     a, b \u001b[38;5;241m=\u001b[39m \u001b[38;5;28mself\u001b[39m\u001b[38;5;241m.\u001b[39m_get_support(\u001b[38;5;241m*\u001b[39margs)\n\u001b[0;32m--> 993\u001b[0m     \u001b[38;5;28;01mwith\u001b[39;00m np\u001b[38;5;241m.\u001b[39merrstate(invalid\u001b[38;5;241m=\u001b[39m\u001b[38;5;124m'\u001b[39m\u001b[38;5;124mignore\u001b[39m\u001b[38;5;124m'\u001b[39m):\n\u001b[1;32m    994\u001b[0m         \u001b[38;5;28;01mreturn\u001b[39;00m (a \u001b[38;5;241m<\u001b[39m x) \u001b[38;5;241m&\u001b[39m (x \u001b[38;5;241m<\u001b[39m b)\n",
      "File \u001b[0;32m/clusterfs/ml4hep/shahzar/miniconda/envs/flow/lib/python3.9/site-packages/numpy/core/_ufunc_config.py:436\u001b[0m, in \u001b[0;36m__enter__\u001b[0;34m(self)\u001b[0m\n\u001b[1;32m    434\u001b[0m \u001b[38;5;28;01mdef\u001b[39;00m \u001b[38;5;21m__exit__\u001b[39m(\u001b[38;5;28mself\u001b[39m, \u001b[38;5;241m*\u001b[39mexc_info):\n\u001b[1;32m    435\u001b[0m     seterr(\u001b[38;5;241m*\u001b[39m\u001b[38;5;241m*\u001b[39m\u001b[38;5;28mself\u001b[39m\u001b[38;5;241m.\u001b[39moldstate)\n\u001b[0;32m--> 436\u001b[0m     \u001b[38;5;28;01mif\u001b[39;00m \u001b[38;5;28mself\u001b[39m\u001b[38;5;241m.\u001b[39mcall \u001b[38;5;129;01mis\u001b[39;00m \u001b[38;5;129;01mnot\u001b[39;00m _Unspecified:\n\u001b[1;32m    437\u001b[0m         seterrcall(\u001b[38;5;28mself\u001b[39m\u001b[38;5;241m.\u001b[39moldcall)\n",
      "File \u001b[0;32m/clusterfs/ml4hep/shahzar/miniconda/envs/flow/lib/python3.9/site-packages/numpy/core/_ufunc_config.py:305\u001b[0m, in \u001b[0;36mseterrcall\u001b[0;34m(func)\u001b[0m\n\u001b[1;32m    302\u001b[0m \u001b[38;5;28;01mif\u001b[39;00m func \u001b[38;5;129;01mis\u001b[39;00m \u001b[38;5;129;01mnot\u001b[39;00m \u001b[38;5;28;01mNone\u001b[39;00m \u001b[38;5;129;01mand\u001b[39;00m \u001b[38;5;129;01mnot\u001b[39;00m \u001b[38;5;28misinstance\u001b[39m(func, collections\u001b[38;5;241m.\u001b[39mabc\u001b[38;5;241m.\u001b[39mCallable):\n\u001b[1;32m    303\u001b[0m     \u001b[38;5;28;01mif\u001b[39;00m (\u001b[38;5;129;01mnot\u001b[39;00m \u001b[38;5;28mhasattr\u001b[39m(func, \u001b[38;5;124m'\u001b[39m\u001b[38;5;124mwrite\u001b[39m\u001b[38;5;124m'\u001b[39m) \u001b[38;5;129;01mor\u001b[39;00m\n\u001b[1;32m    304\u001b[0m             \u001b[38;5;129;01mnot\u001b[39;00m \u001b[38;5;28misinstance\u001b[39m(func\u001b[38;5;241m.\u001b[39mwrite, collections\u001b[38;5;241m.\u001b[39mabc\u001b[38;5;241m.\u001b[39mCallable)):\n\u001b[0;32m--> 305\u001b[0m         \u001b[38;5;28;01mraise\u001b[39;00m \u001b[38;5;167;01mValueError\u001b[39;00m(\u001b[38;5;124m\"\u001b[39m\u001b[38;5;124mOnly callable can be used as callback\u001b[39m\u001b[38;5;124m\"\u001b[39m)\n\u001b[1;32m    306\u001b[0m pyvals \u001b[38;5;241m=\u001b[39m umath\u001b[38;5;241m.\u001b[39mgeterrobj()\n\u001b[1;32m    307\u001b[0m old \u001b[38;5;241m=\u001b[39m geterrcall()\n",
      "\u001b[0;31mValueError\u001b[0m: Only callable can be used as callback"
     ]
    }
   ],
   "source": [
    "train_b, train_s, train_cdf_b, train_cdf_s, train_tanh_b, train_tanh_s = utils.DataGenerator(num_dim=num_dim)\n",
    "val_b, val_s, val_cdf_b, val_cdf_s, val_tanh_b, val_tanh_s = utils.DataGenerator(num_dim=num_dim)"
   ]
  },
  {
   "cell_type": "markdown",
   "id": "0f9ee512-11cf-48b5-af23-0e0905170938",
   "metadata": {},
   "source": [
    "Plot the input distributions:"
   ]
  },
  {
   "cell_type": "code",
   "execution_count": 6,
   "id": "748c503c-d197-4e31-8474-5aa4a7548a92",
   "metadata": {
    "tags": []
   },
   "outputs": [
    {
     "data": {
      "image/png": "[encoded data removed]",
      "text/plain": [
       "<Figure size 900x670 with 1 Axes>"
      ]
     },
     "metadata": {},
     "output_type": "display_data"
    }
   ],
   "source": [
    "feed_dict={\n",
    "    'signal':val_s[:,0],\n",
    "    'background':val_b[:,0],\n",
    "}\n",
    "\n",
    "fig,ax = utils.HistRoutine(feed_dict,plot_ratio=False,\n",
    "                           xlabel='g(x)',\n",
    "                           ylabel='Normalized events',\n",
    "                           reference_name='signal')\n",
    "\n",
    "\n",
    "fig.savefig('{}/{}.pdf'.format(plot_folder,\"Hist1D_gauss\"))"
   ]
  },
  {
   "cell_type": "markdown",
   "id": "6ed34610-fb15-4017-88c3-82e005b5d118",
   "metadata": {},
   "source": [
    "Train the normalizing flow model (FFJORD) on the different transformations of the input data:"
   ]
  },
  {
   "cell_type": "code",
   "execution_count": 7,
   "id": "f0a37bb5-5bab-4262-ae58-ab11e0602706",
   "metadata": {},
   "outputs": [
    {
     "name": "stdout",
     "output_type": "stream",
     "text": [
      "2.6.0\n"
     ]
    },
    {
     "name": "stderr",
     "output_type": "stream",
     "text": [
      "2022-11-10 12:24:10.088048: I tensorflow/core/platform/cpu_feature_guard.cc:142] This TensorFlow binary is optimized with oneAPI Deep Neural Network Library (oneDNN) to use the following CPU instructions in performance-critical operations:  SSE4.1 SSE4.2 AVX AVX2 FMA\n",
      "To enable them in other operations, rebuild TensorFlow with the appropriate compiler flags.\n",
      "2022-11-10 12:24:11.171574: I tensorflow/core/common_runtime/gpu/gpu_device.cc:1510] Created device /job:localhost/replica:0/task:0/device:GPU:0 with 39763 MB memory:  -> device: 0, name: NVIDIA A40, pci bus id: 0000:c1:00.0, compute capability: 8.6\n"
     ]
    }
   ],
   "source": [
    "tf.print(tf.__version__)"
   ]
  },
  {
   "cell_type": "code",
   "execution_count": 8,
   "id": "7913f96d-88ae-4e49-9fd2-811c66ab9b9b",
   "metadata": {
    "tags": []
   },
   "outputs": [
    {
     "name": "stdout",
     "output_type": "stream",
     "text": [
      "WARNING:tensorflow:`period` argument is deprecated. Please use `save_freq` to specify the frequency in number of batches seen.\n"
     ]
    },
    {
     "name": "stderr",
     "output_type": "stream",
     "text": [
      "2022-11-10 12:24:11.400972: W tensorflow/python/util/util.cc:348] Sets are not currently considered sequences, but this may change in the future, so consider avoiding using them.\n",
      "2022-11-10 12:24:11.447094: I tensorflow/compiler/mlir/mlir_graph_optimization_pass.cc:185] None of the MLIR Optimization Passes are enabled (registered 2)\n"
     ]
    },
    {
     "name": "stdout",
     "output_type": "stream",
     "text": [
      "Epoch 1/10\n",
      "WARNING:tensorflow:From /clusterfs/ml4hep/shahzar/miniconda/envs/flow/lib/python3.9/site-packages/tensorflow_probability/python/math/ode/base.py:459: calling while_loop_v2 (from tensorflow.python.ops.control_flow_ops) with back_prop=False is deprecated and will be removed in a future version.\n",
      "Instructions for updating:\n",
      "back_prop=False is deprecated. Consider using tf.stop_gradient instead.\n",
      "Instead of:\n",
      "results = tf.while_loop(c, b, vars, back_prop=False)\n",
      "Use:\n",
      "results = tf.nest.map_structure(tf.stop_gradient, tf.while_loop(c, b, vars))\n"
     ]
    },
    {
     "name": "stderr",
     "output_type": "stream",
     "text": [
      "2022-11-10 12:24:31.721116: I tensorflow/stream_executor/cuda/cuda_blas.cc:1760] TensorFloat-32 will be used for the matrix multiplication. This will only be logged once.\n"
     ]
    },
    {
     "name": "stdout",
     "output_type": "stream",
     "text": [
      "8/8 [==============================] - 24s 441ms/step - loss: 2.9409 - val_loss: 2.8748\n",
      "Epoch 2/10\n",
      "8/8 [==============================] - 2s 205ms/step - loss: 2.8732 - val_loss: 2.8587\n",
      "Epoch 3/10\n",
      "8/8 [==============================] - 2s 204ms/step - loss: 2.8550 - val_loss: 2.8663\n",
      "Epoch 4/10\n",
      "8/8 [==============================] - 2s 217ms/step - loss: 2.8482 - val_loss: 2.8568\n",
      "Epoch 5/10\n",
      "8/8 [==============================] - 2s 205ms/step - loss: 2.8469 - val_loss: 2.8359\n",
      "Epoch 6/10\n",
      "8/8 [==============================] - 2s 205ms/step - loss: 2.8442 - val_loss: 2.8490\n",
      "Epoch 7/10\n",
      "8/8 [==============================] - 2s 209ms/step - loss: 2.8467 - val_loss: 2.8432\n",
      "Epoch 8/10\n",
      "8/8 [==============================] - 2s 202ms/step - loss: 2.8409 - val_loss: 2.8484\n",
      "Epoch 9/10\n",
      "8/8 [==============================] - 2s 210ms/step - loss: 2.8465 - val_loss: 2.8535\n",
      "Epoch 10/10\n",
      "8/8 [==============================] - 2s 201ms/step - loss: 2.8411 - val_loss: 2.8518\n",
      "Epoch 1/10\n",
      "8/8 [==============================] - 16s 445ms/step - loss: 2.8493 - val_loss: 2.8477\n",
      "Epoch 2/10\n",
      "8/8 [==============================] - 2s 209ms/step - loss: 2.8388 - val_loss: 2.8497\n",
      "Epoch 3/10\n",
      "8/8 [==============================] - 2s 210ms/step - loss: 2.8465 - val_loss: 2.8527\n",
      "Epoch 4/10\n",
      "8/8 [==============================] - 2s 202ms/step - loss: 2.8397 - val_loss: 2.8544\n",
      "Epoch 5/10\n",
      "8/8 [==============================] - 2s 203ms/step - loss: 2.8415 - val_loss: 2.8323\n",
      "Epoch 6/10\n",
      "8/8 [==============================] - 2s 206ms/step - loss: 2.8416 - val_loss: 2.8454\n",
      "Epoch 7/10\n",
      "8/8 [==============================] - 2s 201ms/step - loss: 2.8444 - val_loss: 2.8406\n",
      "Epoch 8/10\n",
      "8/8 [==============================] - 2s 205ms/step - loss: 2.8393 - val_loss: 2.8472\n",
      "Epoch 9/10\n",
      "8/8 [==============================] - 2s 208ms/step - loss: 2.8453 - val_loss: 2.8531\n",
      "Epoch 10/10\n",
      "8/8 [==============================] - 2s 202ms/step - loss: 2.8400 - val_loss: 2.8514\n"
     ]
    }
   ],
   "source": [
    "models.FFJORD(train_b,'checkpoint_Flow_gaus',\n",
    "              lr=lr,max_epoch = num_epoch)"
   ]
  },
  {
   "cell_type": "markdown",
   "id": "a48228a1-8286-4afa-b451-4d93156713b6",
   "metadata": {},
   "source": [
    "Calculate ROC curves:"
   ]
  },
  {
   "cell_type": "code",
   "execution_count": 9,
   "id": "89b49eca-0d9f-477e-926a-eb9f1765f5db",
   "metadata": {
    "tags": []
   },
   "outputs": [
    {
     "name": "stdout",
     "output_type": "stream",
     "text": [
      "WARNING:tensorflow:`period` argument is deprecated. Please use `save_freq` to specify the frequency in number of batches seen.\n"
     ]
    },
    {
     "ename": "KeyError",
     "evalue": "'pop from an empty set'",
     "output_type": "error",
     "traceback": [
      "\u001b[0;31m---------------------------------------------------------------------------\u001b[0m",
      "\u001b[0;31mKeyError\u001b[0m                                  Traceback (most recent call last)",
      "Cell \u001b[0;32mIn [9], line 3\u001b[0m\n\u001b[1;32m      1\u001b[0m roc_curves \u001b[38;5;241m=\u001b[39m {}\n\u001b[0;32m----> 3\u001b[0m fpr_gaus, tpr_gaus\u001b[38;5;241m=\u001b[39m \u001b[43mmodels\u001b[49m\u001b[38;5;241;43m.\u001b[39;49m\u001b[43mFFJORD\u001b[49m\u001b[43m(\u001b[49m\u001b[43m[\u001b[49m\u001b[43m]\u001b[49m\u001b[43m,\u001b[49m\u001b[38;5;124;43m'\u001b[39;49m\u001b[38;5;124;43mcheckpoint_Flow_gaus\u001b[39;49m\u001b[38;5;124;43m'\u001b[39;49m\u001b[43m,\u001b[49m\u001b[43m[\u001b[49m\u001b[43mval_s\u001b[49m\u001b[43m,\u001b[49m\u001b[43mval_b\u001b[49m\u001b[43m]\u001b[49m\u001b[43m,\u001b[49m\u001b[43mload\u001b[49m\u001b[38;5;241;43m=\u001b[39;49m\u001b[38;5;28;43;01mTrue\u001b[39;49;00m\u001b[43m)\u001b[49m\n\u001b[1;32m      4\u001b[0m roc_curves[\u001b[38;5;124m'\u001b[39m\u001b[38;5;124mGaussian NF\u001b[39m\u001b[38;5;124m'\u001b[39m] \u001b[38;5;241m=\u001b[39m [fpr_gaus, tpr_gaus]\n",
      "File \u001b[0;32m/clusterfs/ml4hep/shahzar/reweighting-schemes/normalizing-flows/models.py:114\u001b[0m, in \u001b[0;36mFFJORD\u001b[0;34m(reference, checkpoint_name, val_data, LAYERSIZE, STACKSIZE, load, ndim, lr, max_epoch)\u001b[0m\n\u001b[1;32m    112\u001b[0m model \u001b[38;5;241m=\u001b[39m flow\u001b[38;5;241m.\u001b[39mFFJORD(stacked_mlps,batch_size\u001b[38;5;241m=\u001b[39mbatch_size,num_output\u001b[38;5;241m=\u001b[39mndim)\n\u001b[1;32m    113\u001b[0m model\u001b[38;5;241m.\u001b[39mcompile(optimizer\u001b[38;5;241m=\u001b[39mopt)\n\u001b[0;32m--> 114\u001b[0m hist \u001b[38;5;241m=\u001b[39m \u001b[43mmodel\u001b[49m\u001b[38;5;241;43m.\u001b[39;49m\u001b[43mfit\u001b[49m\u001b[43m(\u001b[49m\u001b[43mreference\u001b[49m\u001b[43m,\u001b[49m\n\u001b[1;32m    115\u001b[0m \u001b[43m                 \u001b[49m\u001b[43mepochs\u001b[49m\u001b[38;5;241;43m=\u001b[39;49m\u001b[43mmax_epoch\u001b[49m\u001b[43m,\u001b[49m\u001b[43m \u001b[49m\n\u001b[1;32m    116\u001b[0m \u001b[43m                 \u001b[49m\u001b[43mcallbacks\u001b[49m\u001b[38;5;241;43m=\u001b[39;49m\u001b[43mcallbacks\u001b[49m\u001b[38;5;241;43m+\u001b[39;49m\u001b[43m[\u001b[49m\u001b[43mcheckpoint\u001b[49m\u001b[43m]\u001b[49m\u001b[43m,\u001b[49m\n\u001b[1;32m    117\u001b[0m \u001b[43m                 \u001b[49m\u001b[43mvalidation_split\u001b[49m\u001b[38;5;241;43m=\u001b[39;49m\u001b[38;5;241;43m0.2\u001b[39;49m\u001b[43m,\u001b[49m\n\u001b[1;32m    118\u001b[0m \u001b[43m                 \u001b[49m\u001b[43mbatch_size\u001b[49m\u001b[38;5;241;43m=\u001b[39;49m\u001b[43mbatch_size\u001b[49m\u001b[43m)\u001b[49m\n\u001b[1;32m    119\u001b[0m \u001b[38;5;28;01mif\u001b[39;00m load:\n\u001b[1;32m    120\u001b[0m     model\u001b[38;5;241m.\u001b[39mload_weights(\u001b[38;5;124m'\u001b[39m\u001b[38;5;124m../checkpoint/\u001b[39m\u001b[38;5;132;01m{}\u001b[39;00m\u001b[38;5;124m'\u001b[39m\u001b[38;5;241m.\u001b[39mformat(checkpoint_name,save_format\u001b[38;5;241m=\u001b[39m\u001b[38;5;124m'\u001b[39m\u001b[38;5;124mtf\u001b[39m\u001b[38;5;124m'\u001b[39m))\u001b[38;5;241m.\u001b[39mexpect_partial()\n",
      "File \u001b[0;32m/clusterfs/ml4hep/shahzar/miniconda/envs/flow/lib/python3.9/site-packages/keras/engine/training.py:1134\u001b[0m, in \u001b[0;36mModel.fit\u001b[0;34m(self, x, y, batch_size, epochs, verbose, callbacks, validation_split, validation_data, shuffle, class_weight, sample_weight, initial_epoch, steps_per_epoch, validation_steps, validation_batch_size, validation_freq, max_queue_size, workers, use_multiprocessing)\u001b[0m\n\u001b[1;32m   1128\u001b[0m   \u001b[38;5;28mself\u001b[39m\u001b[38;5;241m.\u001b[39m_cluster_coordinator \u001b[38;5;241m=\u001b[39m tf\u001b[38;5;241m.\u001b[39mdistribute\u001b[38;5;241m.\u001b[39mexperimental\u001b[38;5;241m.\u001b[39mcoordinator\u001b[38;5;241m.\u001b[39mClusterCoordinator(\n\u001b[1;32m   1129\u001b[0m       \u001b[38;5;28mself\u001b[39m\u001b[38;5;241m.\u001b[39mdistribute_strategy)\n\u001b[1;32m   1131\u001b[0m \u001b[38;5;28;01mwith\u001b[39;00m \u001b[38;5;28mself\u001b[39m\u001b[38;5;241m.\u001b[39mdistribute_strategy\u001b[38;5;241m.\u001b[39mscope(), \\\n\u001b[1;32m   1132\u001b[0m      training_utils\u001b[38;5;241m.\u001b[39mRespectCompiledTrainableState(\u001b[38;5;28mself\u001b[39m):\n\u001b[1;32m   1133\u001b[0m   \u001b[38;5;66;03m# Creates a `tf.data.Dataset` and handles batch and epoch iteration.\u001b[39;00m\n\u001b[0;32m-> 1134\u001b[0m   data_handler \u001b[38;5;241m=\u001b[39m \u001b[43mdata_adapter\u001b[49m\u001b[38;5;241;43m.\u001b[39;49m\u001b[43mget_data_handler\u001b[49m\u001b[43m(\u001b[49m\n\u001b[1;32m   1135\u001b[0m \u001b[43m      \u001b[49m\u001b[43mx\u001b[49m\u001b[38;5;241;43m=\u001b[39;49m\u001b[43mx\u001b[49m\u001b[43m,\u001b[49m\n\u001b[1;32m   1136\u001b[0m \u001b[43m      \u001b[49m\u001b[43my\u001b[49m\u001b[38;5;241;43m=\u001b[39;49m\u001b[43my\u001b[49m\u001b[43m,\u001b[49m\n\u001b[1;32m   1137\u001b[0m \u001b[43m      \u001b[49m\u001b[43msample_weight\u001b[49m\u001b[38;5;241;43m=\u001b[39;49m\u001b[43msample_weight\u001b[49m\u001b[43m,\u001b[49m\n\u001b[1;32m   1138\u001b[0m \u001b[43m      \u001b[49m\u001b[43mbatch_size\u001b[49m\u001b[38;5;241;43m=\u001b[39;49m\u001b[43mbatch_size\u001b[49m\u001b[43m,\u001b[49m\n\u001b[1;32m   1139\u001b[0m \u001b[43m      \u001b[49m\u001b[43msteps_per_epoch\u001b[49m\u001b[38;5;241;43m=\u001b[39;49m\u001b[43msteps_per_epoch\u001b[49m\u001b[43m,\u001b[49m\n\u001b[1;32m   1140\u001b[0m \u001b[43m      \u001b[49m\u001b[43minitial_epoch\u001b[49m\u001b[38;5;241;43m=\u001b[39;49m\u001b[43minitial_epoch\u001b[49m\u001b[43m,\u001b[49m\n\u001b[1;32m   1141\u001b[0m \u001b[43m      \u001b[49m\u001b[43mepochs\u001b[49m\u001b[38;5;241;43m=\u001b[39;49m\u001b[43mepochs\u001b[49m\u001b[43m,\u001b[49m\n\u001b[1;32m   1142\u001b[0m \u001b[43m      \u001b[49m\u001b[43mshuffle\u001b[49m\u001b[38;5;241;43m=\u001b[39;49m\u001b[43mshuffle\u001b[49m\u001b[43m,\u001b[49m\n\u001b[1;32m   1143\u001b[0m \u001b[43m      \u001b[49m\u001b[43mclass_weight\u001b[49m\u001b[38;5;241;43m=\u001b[39;49m\u001b[43mclass_weight\u001b[49m\u001b[43m,\u001b[49m\n\u001b[1;32m   1144\u001b[0m \u001b[43m      \u001b[49m\u001b[43mmax_queue_size\u001b[49m\u001b[38;5;241;43m=\u001b[39;49m\u001b[43mmax_queue_size\u001b[49m\u001b[43m,\u001b[49m\n\u001b[1;32m   1145\u001b[0m \u001b[43m      \u001b[49m\u001b[43mworkers\u001b[49m\u001b[38;5;241;43m=\u001b[39;49m\u001b[43mworkers\u001b[49m\u001b[43m,\u001b[49m\n\u001b[1;32m   1146\u001b[0m \u001b[43m      \u001b[49m\u001b[43muse_multiprocessing\u001b[49m\u001b[38;5;241;43m=\u001b[39;49m\u001b[43muse_multiprocessing\u001b[49m\u001b[43m,\u001b[49m\n\u001b[1;32m   1147\u001b[0m \u001b[43m      \u001b[49m\u001b[43mmodel\u001b[49m\u001b[38;5;241;43m=\u001b[39;49m\u001b[38;5;28;43mself\u001b[39;49m\u001b[43m,\u001b[49m\n\u001b[1;32m   1148\u001b[0m \u001b[43m      \u001b[49m\u001b[43msteps_per_execution\u001b[49m\u001b[38;5;241;43m=\u001b[39;49m\u001b[38;5;28;43mself\u001b[39;49m\u001b[38;5;241;43m.\u001b[39;49m\u001b[43m_steps_per_execution\u001b[49m\u001b[43m)\u001b[49m\n\u001b[1;32m   1150\u001b[0m   \u001b[38;5;66;03m# Container that configures and calls `tf.keras.Callback`s.\u001b[39;00m\n\u001b[1;32m   1151\u001b[0m   \u001b[38;5;28;01mif\u001b[39;00m \u001b[38;5;129;01mnot\u001b[39;00m \u001b[38;5;28misinstance\u001b[39m(callbacks, callbacks_module\u001b[38;5;241m.\u001b[39mCallbackList):\n",
      "File \u001b[0;32m/clusterfs/ml4hep/shahzar/miniconda/envs/flow/lib/python3.9/site-packages/keras/engine/data_adapter.py:1383\u001b[0m, in \u001b[0;36mget_data_handler\u001b[0;34m(*args, **kwargs)\u001b[0m\n\u001b[1;32m   1381\u001b[0m \u001b[38;5;28;01mif\u001b[39;00m \u001b[38;5;28mgetattr\u001b[39m(kwargs[\u001b[38;5;124m\"\u001b[39m\u001b[38;5;124mmodel\u001b[39m\u001b[38;5;124m\"\u001b[39m], \u001b[38;5;124m\"\u001b[39m\u001b[38;5;124m_cluster_coordinator\u001b[39m\u001b[38;5;124m\"\u001b[39m, \u001b[38;5;28;01mNone\u001b[39;00m):\n\u001b[1;32m   1382\u001b[0m   \u001b[38;5;28;01mreturn\u001b[39;00m _ClusterCoordinatorDataHandler(\u001b[38;5;241m*\u001b[39margs, \u001b[38;5;241m*\u001b[39m\u001b[38;5;241m*\u001b[39mkwargs)\n\u001b[0;32m-> 1383\u001b[0m \u001b[38;5;28;01mreturn\u001b[39;00m \u001b[43mDataHandler\u001b[49m\u001b[43m(\u001b[49m\u001b[38;5;241;43m*\u001b[39;49m\u001b[43margs\u001b[49m\u001b[43m,\u001b[49m\u001b[43m \u001b[49m\u001b[38;5;241;43m*\u001b[39;49m\u001b[38;5;241;43m*\u001b[39;49m\u001b[43mkwargs\u001b[49m\u001b[43m)\u001b[49m\n",
      "File \u001b[0;32m/clusterfs/ml4hep/shahzar/miniconda/envs/flow/lib/python3.9/site-packages/keras/engine/data_adapter.py:1138\u001b[0m, in \u001b[0;36mDataHandler.__init__\u001b[0;34m(self, x, y, sample_weight, batch_size, steps_per_epoch, initial_epoch, epochs, shuffle, class_weight, max_queue_size, workers, use_multiprocessing, model, steps_per_execution, distribute)\u001b[0m\n\u001b[1;32m   1135\u001b[0m   \u001b[38;5;28mself\u001b[39m\u001b[38;5;241m.\u001b[39m_steps_per_execution_value \u001b[38;5;241m=\u001b[39m steps_per_execution\u001b[38;5;241m.\u001b[39mnumpy()\u001b[38;5;241m.\u001b[39mitem()\n\u001b[1;32m   1137\u001b[0m adapter_cls \u001b[38;5;241m=\u001b[39m select_data_adapter(x, y)\n\u001b[0;32m-> 1138\u001b[0m \u001b[38;5;28mself\u001b[39m\u001b[38;5;241m.\u001b[39m_adapter \u001b[38;5;241m=\u001b[39m \u001b[43madapter_cls\u001b[49m\u001b[43m(\u001b[49m\n\u001b[1;32m   1139\u001b[0m \u001b[43m    \u001b[49m\u001b[43mx\u001b[49m\u001b[43m,\u001b[49m\n\u001b[1;32m   1140\u001b[0m \u001b[43m    \u001b[49m\u001b[43my\u001b[49m\u001b[43m,\u001b[49m\n\u001b[1;32m   1141\u001b[0m \u001b[43m    \u001b[49m\u001b[43mbatch_size\u001b[49m\u001b[38;5;241;43m=\u001b[39;49m\u001b[43mbatch_size\u001b[49m\u001b[43m,\u001b[49m\n\u001b[1;32m   1142\u001b[0m \u001b[43m    \u001b[49m\u001b[43msteps\u001b[49m\u001b[38;5;241;43m=\u001b[39;49m\u001b[43msteps_per_epoch\u001b[49m\u001b[43m,\u001b[49m\n\u001b[1;32m   1143\u001b[0m \u001b[43m    \u001b[49m\u001b[43mepochs\u001b[49m\u001b[38;5;241;43m=\u001b[39;49m\u001b[43mepochs\u001b[49m\u001b[43m \u001b[49m\u001b[38;5;241;43m-\u001b[39;49m\u001b[43m \u001b[49m\u001b[43minitial_epoch\u001b[49m\u001b[43m,\u001b[49m\n\u001b[1;32m   1144\u001b[0m \u001b[43m    \u001b[49m\u001b[43msample_weights\u001b[49m\u001b[38;5;241;43m=\u001b[39;49m\u001b[43msample_weight\u001b[49m\u001b[43m,\u001b[49m\n\u001b[1;32m   1145\u001b[0m \u001b[43m    \u001b[49m\u001b[43mshuffle\u001b[49m\u001b[38;5;241;43m=\u001b[39;49m\u001b[43mshuffle\u001b[49m\u001b[43m,\u001b[49m\n\u001b[1;32m   1146\u001b[0m \u001b[43m    \u001b[49m\u001b[43mmax_queue_size\u001b[49m\u001b[38;5;241;43m=\u001b[39;49m\u001b[43mmax_queue_size\u001b[49m\u001b[43m,\u001b[49m\n\u001b[1;32m   1147\u001b[0m \u001b[43m    \u001b[49m\u001b[43mworkers\u001b[49m\u001b[38;5;241;43m=\u001b[39;49m\u001b[43mworkers\u001b[49m\u001b[43m,\u001b[49m\n\u001b[1;32m   1148\u001b[0m \u001b[43m    \u001b[49m\u001b[43muse_multiprocessing\u001b[49m\u001b[38;5;241;43m=\u001b[39;49m\u001b[43muse_multiprocessing\u001b[49m\u001b[43m,\u001b[49m\n\u001b[1;32m   1149\u001b[0m \u001b[43m    \u001b[49m\u001b[43mdistribution_strategy\u001b[49m\u001b[38;5;241;43m=\u001b[39;49m\u001b[43mtf\u001b[49m\u001b[38;5;241;43m.\u001b[39;49m\u001b[43mdistribute\u001b[49m\u001b[38;5;241;43m.\u001b[39;49m\u001b[43mget_strategy\u001b[49m\u001b[43m(\u001b[49m\u001b[43m)\u001b[49m\u001b[43m,\u001b[49m\n\u001b[1;32m   1150\u001b[0m \u001b[43m    \u001b[49m\u001b[43mmodel\u001b[49m\u001b[38;5;241;43m=\u001b[39;49m\u001b[43mmodel\u001b[49m\u001b[43m)\u001b[49m\n\u001b[1;32m   1152\u001b[0m strategy \u001b[38;5;241m=\u001b[39m tf\u001b[38;5;241m.\u001b[39mdistribute\u001b[38;5;241m.\u001b[39mget_strategy()\n\u001b[1;32m   1154\u001b[0m \u001b[38;5;28mself\u001b[39m\u001b[38;5;241m.\u001b[39m_current_step \u001b[38;5;241m=\u001b[39m \u001b[38;5;241m0\u001b[39m\n",
      "File \u001b[0;32m/clusterfs/ml4hep/shahzar/miniconda/envs/flow/lib/python3.9/site-packages/keras/engine/data_adapter.py:240\u001b[0m, in \u001b[0;36mTensorLikeDataAdapter.__init__\u001b[0;34m(self, x, y, sample_weights, sample_weight_modes, batch_size, epochs, steps, shuffle, **kwargs)\u001b[0m\n\u001b[1;32m    235\u001b[0m (sample_weights, _, _) \u001b[38;5;241m=\u001b[39m training_utils\u001b[38;5;241m.\u001b[39mhandle_partial_sample_weights(\n\u001b[1;32m    236\u001b[0m     y, sample_weights, sample_weight_modes, check_all_flat\u001b[38;5;241m=\u001b[39m\u001b[38;5;28;01mTrue\u001b[39;00m)\n\u001b[1;32m    238\u001b[0m inputs \u001b[38;5;241m=\u001b[39m pack_x_y_sample_weight(x, y, sample_weights)\n\u001b[0;32m--> 240\u001b[0m num_samples \u001b[38;5;241m=\u001b[39m \u001b[38;5;28;43mset\u001b[39;49m\u001b[43m(\u001b[49m\u001b[38;5;28;43mint\u001b[39;49m\u001b[43m(\u001b[49m\u001b[43mi\u001b[49m\u001b[38;5;241;43m.\u001b[39;49m\u001b[43mshape\u001b[49m\u001b[43m[\u001b[49m\u001b[38;5;241;43m0\u001b[39;49m\u001b[43m]\u001b[49m\u001b[43m)\u001b[49m\u001b[43m \u001b[49m\u001b[38;5;28;43;01mfor\u001b[39;49;00m\u001b[43m \u001b[49m\u001b[43mi\u001b[49m\u001b[43m \u001b[49m\u001b[38;5;129;43;01min\u001b[39;49;00m\u001b[43m \u001b[49m\u001b[43mtf\u001b[49m\u001b[38;5;241;43m.\u001b[39;49m\u001b[43mnest\u001b[49m\u001b[38;5;241;43m.\u001b[39;49m\u001b[43mflatten\u001b[49m\u001b[43m(\u001b[49m\u001b[43minputs\u001b[49m\u001b[43m)\u001b[49m\u001b[43m)\u001b[49m\u001b[38;5;241;43m.\u001b[39;49m\u001b[43mpop\u001b[49m\u001b[43m(\u001b[49m\u001b[43m)\u001b[49m\n\u001b[1;32m    241\u001b[0m _check_data_cardinality(inputs)\n\u001b[1;32m    243\u001b[0m \u001b[38;5;66;03m# If batch_size is not passed but steps is, calculate from the input data.\u001b[39;00m\n\u001b[1;32m    244\u001b[0m \u001b[38;5;66;03m# Default to 32 for backwards compat.\u001b[39;00m\n",
      "\u001b[0;31mKeyError\u001b[0m: 'pop from an empty set'"
     ]
    }
   ],
   "source": [
    "roc_curves = {}\n",
    "\n",
    "fpr_gaus, tpr_gaus= models.FFJORD([],'checkpoint_Flow_gaus',[val_s,val_b],load=True)\n",
    "roc_curves['Gaussian NF'] = [fpr_gaus, tpr_gaus]\n",
    "#fpr_cdf, tpr_cdf= models.FFJORD([],'checkpoint_Flow_cdf',[val_cdf_s,val_cdf_b],load=True)\n",
    "#roc_curves['CDF NF'] =[fpr_cdf, tpr_cdf]\n",
    "#fpr_tanh, tpr_tanh= models.FFJORD([],'checkpoint_Flow_tanh',[val_tanh_s,val_tanh_b],load=True)\n",
    "#roc_curves['tanh NF'] =[fpr_tanh, tpr_tanh]"
   ]
  },
  {
   "cell_type": "markdown",
   "id": "c795f697-6b53-4c48-bbe8-dba8a52501cd",
   "metadata": {},
   "source": [
    "Make plot of ROC curves:"
   ]
  },
  {
   "cell_type": "code",
   "execution_count": null,
   "id": "d02bc01b-c5ab-49b7-99a8-c5d8310b1580",
   "metadata": {
    "tags": []
   },
   "outputs": [],
   "source": [
    "x = np.linspace(0,1,1000)\n",
    "\n",
    "fig,gs = utils.SetFig(\"True positive rate\",\"1 - Fake Rate\") \n",
    "for plot in roc_curves:\n",
    "    fpr,tpr = roc_curves[plot]\n",
    "    plt.plot(tpr,1-fpr,label=\"{}\".format(plot),\n",
    "             color=utils.colors[plot],linestyle=utils.line_style[plot])\n",
    "plt.plot(x,1-x,color='black',linestyle='-')\n",
    "    \n",
    "plt.ylim([-0.25, 1.1])\n",
    "plt.legend(frameon=False,fontsize=12,ncol=3)\n",
    "fig.savefig('{}/{}.png'.format(plot_folder,\"ROC_gaus\"))"
   ]
  },
  {
   "cell_type": "markdown",
   "id": "e1ddb95b-84fa-4dd4-93bf-c45514fe2c6b",
   "metadata": {
    "jp-MarkdownHeadingCollapsed": true,
    "tags": []
   },
   "source": [
    "# Physics data"
   ]
  },
  {
   "cell_type": "markdown",
   "id": "b91c7e36-d6a3-490a-9854-f1ed760e7a76",
   "metadata": {},
   "source": [
    "https://zenodo.org/record/3548091#.Yr9ws-zMJhE"
   ]
  },
  {
   "cell_type": "code",
   "execution_count": null,
   "id": "9a393311-69bd-42ae-9d85-9c932822c19d",
   "metadata": {
    "tags": []
   },
   "outputs": [],
   "source": [
    "mc = np.load(\"../data/zenodo/Pythia21_Zjet_pTZ-200GeV_0.npz\")\n",
    "data = np.load(\"../data/zenodo/Herwig_Zjet_pTZ-200GeV_0.npz\")"
   ]
  },
  {
   "cell_type": "code",
   "execution_count": null,
   "id": "adc104d1-b8e3-476e-a8e7-1dce3f53a1da",
   "metadata": {
    "tags": []
   },
   "outputs": [],
   "source": [
    "mc.files"
   ]
  },
  {
   "cell_type": "code",
   "execution_count": null,
   "id": "fd51581f-de03-4793-88aa-619d9dc7f823",
   "metadata": {
    "tags": []
   },
   "outputs": [],
   "source": [
    "mc['gen_jets'].shape"
   ]
  },
  {
   "cell_type": "code",
   "execution_count": null,
   "id": "4a77a207-f054-4730-b6a4-52b74fcff5d4",
   "metadata": {
    "tags": []
   },
   "outputs": [],
   "source": [
    "mc_jet_pt_gen =  mc['gen_jets'][:,0]\n",
    "mc_jet_eta_gen = mc['gen_jets'][:,1]\n",
    "mc_jet_phi_gen = mc['gen_jets'][:,2]\n",
    "mc_jet_m_gen =   mc['gen_jets'][:,3]\n",
    "\n",
    "mc_jet_pt_sim =  mc['sim_jets'][:,0]\n",
    "mc_jet_eta_sim = mc['sim_jets'][:,1]\n",
    "mc_jet_phi_sim = mc['sim_jets'][:,2]\n",
    "mc_jet_m_sim =   mc['sim_jets'][:,3]"
   ]
  },
  {
   "cell_type": "code",
   "execution_count": null,
   "id": "2f1889b6-c8c1-4bec-88c5-4db8b3f315b2",
   "metadata": {
    "tags": []
   },
   "outputs": [],
   "source": [
    "plt.figure(dpi=100, figsize=(6,4))\n",
    "bins = np.linspace(0,1000,100)\n",
    "plt.hist(mc_jet_pt_gen, bins=bins, alpha=0.5, label=\"Particle-Level\");\n",
    "plt.hist(mc_jet_pt_sim, bins=bins, alpha=0.5, label=\"Detector-Level\");\n",
    "plt.legend();\n",
    "plt.xlabel(r'Jet $p_T$ [GeV]');\n",
    "plt.ylabel('Counts');"
   ]
  },
  {
   "cell_type": "code",
   "execution_count": null,
   "id": "3a6d0c5e-8f7b-40af-9301-288925807139",
   "metadata": {
    "tags": []
   },
   "outputs": [],
   "source": [
    "feed_dict={\n",
    "    'signal':mc_jet_pt_gen,\n",
    "    'background':mc_jet_pt_sim,\n",
    "}\n",
    "\n",
    "fig,ax = utils.HistRoutine(feed_dict,plot_ratio=False,\n",
    "                           xlabel='g(x)',\n",
    "                           ylabel='Normalized events',\n",
    "                           reference_name='signal')\n",
    "\n",
    "\n",
    "fig.savefig('{}/{}.pdf'.format(plot_folder,\"Hist1D_physics\"))"
   ]
  },
  {
   "cell_type": "code",
   "execution_count": null,
   "id": "2f49bb2e-5c9a-4fd2-bad2-98abb2420302",
   "metadata": {
    "tags": []
   },
   "outputs": [],
   "source": [
    "phys_data_gen = np.vstack([mc_jet_phi_gen, mc_jet_eta_gen]).T\n",
    "phys_data_sim = np.vstack([mc_jet_phi_sim, mc_jet_eta_sim]).T"
   ]
  },
  {
   "cell_type": "code",
   "execution_count": null,
   "id": "f3e94937-9afc-4510-9c74-f5f7d7cb199a",
   "metadata": {
    "tags": []
   },
   "outputs": [],
   "source": [
    "models.FFJORD(phys_data_gen,'checkpoint_Flow_physics',\n",
    "              ndim=2,\n",
    "              lr=lr,\n",
    "              max_epoch = 100)"
   ]
  },
  {
   "cell_type": "code",
   "execution_count": null,
   "id": "67262376-200e-4718-8a15-03643751f810",
   "metadata": {
    "tags": []
   },
   "outputs": [],
   "source": [
    "roc_curves = {}\n",
    "\n",
    "fpr_phys, tpr_phys = models.FFJORD([],'checkpoint_Flow_physics',[phys_data_gen, phys_data_sim],load=True)\n",
    "roc_curves['Physics NF'] = [fpr_phys, tpr_phys]"
   ]
  },
  {
   "cell_type": "code",
   "execution_count": null,
   "id": "70926e95-b55e-4757-87d1-7033614797bd",
   "metadata": {
    "tags": []
   },
   "outputs": [],
   "source": [
    "x = np.linspace(0,1,1000)\n",
    "\n",
    "fig,gs = utils.SetFig(\"True positive rate\",\"1 - Fake Rate\") \n",
    "for plot in roc_curves:\n",
    "    fpr,tpr = roc_curves[plot]\n",
    "    plt.plot(tpr,1-fpr,label=\"{}\".format(plot),\n",
    "             color='magenta',linestyle='-')\n",
    "plt.plot(x,1-x,color='black',linestyle='-')\n",
    "    \n",
    "plt.ylim([-0.25, 1.1])\n",
    "plt.legend(frameon=False,fontsize=12,ncol=3)\n",
    "fig.savefig('{}/{}.png'.format(plot_folder,\"ROC_phys\"))"
   ]
  },
  {
   "cell_type": "code",
   "execution_count": null,
   "id": "66b891b6-f20f-40a2-aafb-62edc5285f87",
   "metadata": {},
   "outputs": [],
   "source": []
  }
 ],
 "metadata": {
  "kernelspec": {
   "display_name": "flow",
   "language": "python",
   "name": "flow"
  },
  "language_info": {
   "codemirror_mode": {
    "name": "ipython",
    "version": 3
   },
   "file_extension": ".py",
   "mimetype": "text/x-python",
   "name": "python",
   "nbconvert_exporter": "python",
   "pygments_lexer": "ipython3",
   "version": "3.9.13"
  }
 },
 "nbformat": 4,
 "nbformat_minor": 5
}
