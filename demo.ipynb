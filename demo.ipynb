{
 "cells": [
  {
   "cell_type": "markdown",
   "id": "a6a26261-7323-4e8e-8506-128b7e22c687",
   "metadata": {},
   "source": [
    "# Demo Notebook: MLC $C$ Parametrizations"
   ]
  },
  {
   "cell_type": "markdown",
   "id": "0a966d8d-0b79-4d4c-b7f9-c4a0f746d3db",
   "metadata": {},
   "source": [
    "## Import and Set-Up"
   ]
  },
  {
   "cell_type": "markdown",
   "id": "4e409d3c-39a4-4544-9479-e029e6c125b3",
   "metadata": {},
   "source": [
    "First, we must import all the relevant libraries."
   ]
  },
  {
   "cell_type": "code",
   "execution_count": 3,
   "id": "fa2f2913-3aa3-457b-83cc-fccd64fe0f13",
   "metadata": {},
   "outputs": [],
   "source": [
    "## General imports ##\n",
    "# Used for selecting GPU.\n",
    "import os\n",
    "import tensorflow as tf\n",
    "\n",
    "# Used for distributions libraries.\n",
    "from scipy import stats\n",
    "\n",
    "## Utility imports ##\n",
    "from utils.losses import *\n",
    "from utils.plotting import *\n",
    "from utils.training import *\n",
    "\n",
    "# Just this seed isn't enough to ensure results are completely replicable,\n",
    "# as there is randomness in GPU execution.\n",
    "np.random.seed(666)"
   ]
  },
  {
   "cell_type": "code",
   "execution_count": 4,
   "id": "e98ea6dd-3882-4a24-8b91-12baef64fa69",
   "metadata": {},
   "outputs": [
    {
     "name": "stderr",
     "output_type": "stream",
     "text": [
      "2022-07-07 08:40:44.584554: I tensorflow/stream_executor/platform/default/dso_loader.cc:44] Successfully opened dynamic library libcuda.so.1\n",
      "2022-07-07 08:40:44.610706: I tensorflow/core/common_runtime/gpu/gpu_device.cc:1561] Found device 0 with properties: \n",
      "pciBusID: 0000:01:00.0 name: Quadro RTX 6000 computeCapability: 7.5\n",
      "coreClock: 1.77GHz coreCount: 72 deviceMemorySize: 23.65GiB deviceMemoryBandwidth: 625.94GiB/s\n",
      "2022-07-07 08:40:44.610924: I tensorflow/stream_executor/platform/default/dso_loader.cc:44] Successfully opened dynamic library libcudart.so.10.1\n",
      "2022-07-07 08:40:44.612238: I tensorflow/stream_executor/platform/default/dso_loader.cc:44] Successfully opened dynamic library libcublas.so.10\n",
      "2022-07-07 08:40:44.613789: I tensorflow/stream_executor/platform/default/dso_loader.cc:44] Successfully opened dynamic library libcufft.so.10\n",
      "2022-07-07 08:40:44.614011: I tensorflow/stream_executor/platform/default/dso_loader.cc:44] Successfully opened dynamic library libcurand.so.10\n",
      "2022-07-07 08:40:44.615444: I tensorflow/stream_executor/platform/default/dso_loader.cc:44] Successfully opened dynamic library libcusolver.so.10\n",
      "2022-07-07 08:40:44.616202: I tensorflow/stream_executor/platform/default/dso_loader.cc:44] Successfully opened dynamic library libcusparse.so.10\n",
      "2022-07-07 08:40:44.619177: I tensorflow/stream_executor/platform/default/dso_loader.cc:44] Successfully opened dynamic library libcudnn.so.7\n",
      "2022-07-07 08:40:44.621879: I tensorflow/core/common_runtime/gpu/gpu_device.cc:1703] Adding visible gpu devices: 0\n"
     ]
    }
   ],
   "source": [
    "# This cell is to select the GPU.\n",
    "os.environ[\"CUDA_VISIBLE_DEVICES\"] = \"0\" # pick a number < 4 on ML4HEP; < 3 on Voltan \n",
    "physical_devices = tf.config.list_physical_devices('GPU') \n",
    "tf.config.experimental.set_memory_growth(physical_devices[0], True)"
   ]
  },
  {
   "cell_type": "markdown",
   "id": "360f5854-e048-4e30-8eb5-6cb3cfbefa0b",
   "metadata": {},
   "source": [
    "## Data Generation"
   ]
  },
  {
   "cell_type": "markdown",
   "id": "0b2c5dbd-f557-4a9a-b6de-7975b02e136e",
   "metadata": {},
   "source": [
    "We first set up the data distributions as well as various other aspects of the training.\n",
    "\n",
    "[Add more about $C$ parametrizations here]"
   ]
  },
  {
   "cell_type": "code",
   "execution_count": null,
   "id": "d5726ba1-c1d9-4314-b474-bfad3bd67017",
   "metadata": {},
   "outputs": [],
   "source": [
    "## Mess around with these inputs.\n",
    "\n",
    "# The trained models will be saved in a folder \"set_{num}\"\n",
    "num = 0\n",
    "\n",
    "# The number of models to train for each parametrization.\n",
    "reps = 100\n",
    "\n",
    "# The background and signal distributions.\n",
    "bkgd = stats.norm(-0.1, 1)\n",
    "sgnl = stats.norm(+0.1, 1)\n",
    "\n",
    "# The sample size (N samples are drawn from each distribution for training).\n",
    "N = 10**6"
   ]
  },
  {
   "cell_type": "code",
   "execution_count": null,
   "id": "5289aa2a-3f4a-4f07-8c04-08f12db6ab00",
   "metadata": {},
   "outputs": [],
   "source": [
    "# Model parameters\n",
    "linear = {'loss':mlc, 'output':'relu'}\n",
    "square = {'loss':square_mlc, 'output':'linear'}\n",
    "exponl = {'loss':exp_mlc, 'output':'linear'}\n",
    "\n",
    "filestr_linear = 'models/demo/set_' + str(num) + '/linear/model_{}.h5'\n",
    "filestr_square = 'models/demo/set_' + str(num) + '/square/model_{}.h5'\n",
    "filestr_exponl = 'models/demo/set_' + str(num) + '/exponl/model_{}.h5'\n",
    "\n",
    "## Data Generation\n",
    "data = make_data(bkgd, sgnl, N) + [N]"
   ]
  },
  {
   "cell_type": "markdown",
   "id": "7493a824-1bdc-4056-ae8c-983ed739bfcb",
   "metadata": {},
   "source": [
    "## Training"
   ]
  },
  {
   "cell_type": "markdown",
   "id": "5198b643-1a17-4a88-9cdb-0961d2a314fb",
   "metadata": {},
   "source": [
    "We train ```reps``` models of each parametrization of the MLC loss."
   ]
  },
  {
   "cell_type": "code",
   "execution_count": null,
   "id": "0fc1deee-d1ad-4187-a9a7-d725f1da8d83",
   "metadata": {},
   "outputs": [],
   "source": [
    "for _ in reps:\n",
    "for i in range(reps):\n",
    "    print(i, end = ' ')\n",
    "    linear_model = train(data, **linear)\n",
    "    linear_model.save_weights(filestr_linear.format(i))\n",
    "    square_model = train(data, **square)\n",
    "    square_model.save_weights(filestr_square.format(i))\n",
    "    exponl_model = train(data, **linear)\n",
    "    exponl_model.save_weights(filestr_exponl.format(i))"
   ]
  },
  {
   "cell_type": "markdown",
   "id": "c6c488b0-0572-471f-9c9c-11415b4acb26",
   "metadata": {},
   "source": [
    "Once all the models are trained, we load them back in and create a likelihood ratio function from each one."
   ]
  },
  {
   "cell_type": "code",
   "execution_count": null,
   "id": "80756b3e-4c26-43ca-9411-50ec4c6d2580",
   "metadata": {},
   "outputs": [],
   "source": [
    "# Get model likelihood ratios.\n",
    "lrs_linear = [None] * reps\n",
    "lrs_square = [None] * reps\n",
    "lrs_exponl = [None] * reps\n",
    "for i in range(reps):\n",
    "    model_linear = create_model(**linear)\n",
    "    model_linear.load_weights(filestr_linear.format(i))\n",
    "    model_square = create_model(**square)\n",
    "    model_square.load_weights(filestr_square.format(i))\n",
    "    model_exponl = create_model(**exponl)\n",
    "    model_exponl.load_weights(filestr_exponl.format(i))\n",
    "    \n",
    "    lrs_linear[i] = pure_lr(model_linear)\n",
    "    lrs_square[i] = square_lr(model_square)\n",
    "    lrs_exponl[i] = exp_lr(model_exponl)"
   ]
  },
  {
   "cell_type": "markdown",
   "id": "c0419e8e-9459-4347-9066-fa8af4412ba1",
   "metadata": {},
   "source": [
    "## Visualization"
   ]
  },
  {
   "cell_type": "markdown",
   "id": "f20f52f1-130f-4218-83e3-f0d454fd374a",
   "metadata": {},
   "source": [
    "Once we have the model likelihood ratios, we can average together all ```reps``` of our predictions and predict them against the true likelihood ratio."
   ]
  },
  {
   "cell_type": "code",
   "execution_count": null,
   "id": "b458cdeb-9adb-4265-b99b-dfbb23346b03",
   "metadata": {},
   "outputs": [],
   "source": [
    "# Get average predictions and errors. Add on the labels for plotting.\n",
    "ds = np.linspace(0, 20, 1000)\n",
    "xs = (ds - np.mean(D)) / np.std(D)\n",
    "\n",
    "lr_1 = avg_lr(get_preds(lrs_1, xs)) + ('MLC (linear)',)\n",
    "lr_2 = avg_lr(get_preds(lrs_2, xs)) + ('MLC (square)',)\n",
    "lr_3 = avg_lr(get_preds(lrs_3, xs)) + ('MLC (exponential)',)\n",
    "\n",
    "lrr_1 = avg_lrr(get_preds(lrs_1, xs), ds) + ('MLC (linear)',)\n",
    "lrr_2 = avg_lrr(get_preds(lrs_2, xs), ds) + ('MLC (square)',)\n",
    "lrr_3 = avg_lrr(get_preds(lrs_3, xs), ds) + ('MLC (exponential)',)"
   ]
  },
  {
   "cell_type": "code",
   "execution_count": null,
   "id": "bd9c3138-9b52-4578-8f32-5091ae2aaa8c",
   "metadata": {},
   "outputs": [],
   "source": [
    "lr_plot([lr_1, lr_2, lr_3], \n",
    "        r'MLC $C$ Parametrizations',\n",
    "        filename='plots/demo/set_{}/lrs.png'.format(num))"
   ]
  },
  {
   "cell_type": "code",
   "execution_count": null,
   "id": "6ae30c6f-214b-42d4-a146-17c1b7cfb920",
   "metadata": {},
   "outputs": [],
   "source": [
    "lrr_plot([lrr_1, lrr_2, lrr_3], \n",
    "         r'MLC $C$ Parametrizations',\n",
    "         filename='plots/demo/set_{}/lrrs.png'.format(num))"
   ]
  }
 ],
 "metadata": {
  "kernelspec": {
   "display_name": "omnifold",
   "language": "python",
   "name": "omnifold"
  },
  "language_info": {
   "codemirror_mode": {
    "name": "ipython",
    "version": 3
   },
   "file_extension": ".py",
   "mimetype": "text/x-python",
   "name": "python",
   "nbconvert_exporter": "python",
   "pygments_lexer": "ipython3",
   "version": "3.8.12"
  }
 },
 "nbformat": 4,
 "nbformat_minor": 5
}
