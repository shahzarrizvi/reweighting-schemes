{
 "cells": [
  {
   "cell_type": "code",
   "execution_count": 1,
   "metadata": {},
   "outputs": [],
   "source": [
    "import pandas as pd\n",
    "import numpy as np\n",
    "import uproot\n",
    "from glob import glob\n",
    "import matplotlib.pyplot as plt"
   ]
  },
  {
   "cell_type": "code",
   "execution_count": 2,
   "metadata": {},
   "outputs": [
    {
     "name": "stdout",
     "output_type": "stream",
     "text": [
      "ZjetOmnifold_Aug17_Herwig7_ZmmjjEW_mc16a.root\n",
      "ZjetOmnifold_Aug17_Herwig7_ZmmjjEW_mc16d.root\n",
      "ZjetOmnifold_Aug17_Herwig7_ZmmjjEW_mc16e.root\n"
     ]
    }
   ],
   "source": [
    "ls samples/electroweak_vbf_zjets/"
   ]
  },
  {
   "cell_type": "code",
   "execution_count": 3,
   "metadata": {},
   "outputs": [
    {
     "data": {
      "text/plain": [
       "['samples/electroweak_vbf_zjets/ZjetOmnifold_Aug17_Herwig7_ZmmjjEW_mc16a.root',\n",
       " 'samples/electroweak_vbf_zjets/ZjetOmnifold_Aug17_Herwig7_ZmmjjEW_mc16d.root',\n",
       " 'samples/electroweak_vbf_zjets/ZjetOmnifold_Aug17_Herwig7_ZmmjjEW_mc16e.root']"
      ]
     },
     "execution_count": 3,
     "metadata": {},
     "output_type": "execute_result"
    }
   ],
   "source": [
    "[file for file in glob(\"samples/electroweak_vbf_zjets/*.root\")]"
   ]
  },
  {
   "cell_type": "code",
   "execution_count": 4,
   "metadata": {},
   "outputs": [],
   "source": [
    "f = uproot.open('samples/electroweak_vbf_zjets/ZjetOmnifold_Aug17_Herwig7_ZmmjjEW_mc16a.root')"
   ]
  },
  {
   "cell_type": "code",
   "execution_count": 5,
   "metadata": {},
   "outputs": [],
   "source": [
    "columns = f['EventTree'].keys()"
   ]
  },
  {
   "cell_type": "code",
   "execution_count": 6,
   "metadata": {},
   "outputs": [],
   "source": [
    "# columns"
   ]
  },
  {
   "cell_type": "code",
   "execution_count": 7,
   "metadata": {},
   "outputs": [],
   "source": [
    "a = f['EventTree'].arrays()"
   ]
  },
  {
   "cell_type": "code",
   "execution_count": 8,
   "metadata": {},
   "outputs": [
    {
     "data": {
      "text/plain": [
       "array([24.5, 18.5, 27.5, ..., 36.5, 23.5, 22.5], dtype=float32)"
      ]
     },
     "execution_count": 8,
     "metadata": {},
     "output_type": "execute_result"
    }
   ],
   "source": [
    "np.asarray(a['mu'])"
   ]
  },
  {
   "cell_type": "code",
   "execution_count": 9,
   "metadata": {},
   "outputs": [
    {
     "data": {
      "text/plain": [
       "array([140757, 140871, 141602, ..., 692647, 628936, 207349], dtype=int32)"
      ]
     },
     "execution_count": 9,
     "metadata": {},
     "output_type": "execute_result"
    }
   ],
   "source": [
    "np.asarray(a['EventNumber'])"
   ]
  },
  {
   "cell_type": "code",
   "execution_count": 10,
   "metadata": {},
   "outputs": [],
   "source": [
    "cols = [col for col in columns if not col.endswith(\"tracks\")]\n",
    "arrays = [a[col] for col in cols]"
   ]
  },
  {
   "cell_type": "code",
   "execution_count": 11,
   "metadata": {},
   "outputs": [],
   "source": [
    "df = pd.DataFrame.from_dict(dict(zip(cols, arrays)))"
   ]
  },
  {
   "cell_type": "code",
   "execution_count": 12,
   "metadata": {},
   "outputs": [
    {
     "data": {
      "text/html": [
       "<div>\n",
       "<style scoped>\n",
       "    .dataframe tbody tr th:only-of-type {\n",
       "        vertical-align: middle;\n",
       "    }\n",
       "\n",
       "    .dataframe tbody tr th {\n",
       "        vertical-align: top;\n",
       "    }\n",
       "\n",
       "    .dataframe thead th {\n",
       "        text-align: right;\n",
       "    }\n",
       "</style>\n",
       "<table border=\"1\" class=\"dataframe\">\n",
       "  <thead>\n",
       "    <tr style=\"text-align: right;\">\n",
       "      <th></th>\n",
       "      <th>TruthCutFlow</th>\n",
       "      <th>mcChannelNumber</th>\n",
       "      <th>CutFlow</th>\n",
       "      <th>EventNumber</th>\n",
       "      <th>RunNumber</th>\n",
       "      <th>LumiBlock</th>\n",
       "      <th>BCID</th>\n",
       "      <th>NPV</th>\n",
       "      <th>initialWeight</th>\n",
       "      <th>pileupWeight</th>\n",
       "      <th>...</th>\n",
       "      <th>truth_Dphi_j1_ll</th>\n",
       "      <th>truth_R_DB</th>\n",
       "      <th>truth_y_llj</th>\n",
       "      <th>truth_pT_llj</th>\n",
       "      <th>truth_N_stbl</th>\n",
       "      <th>truth_Nconst_j1</th>\n",
       "      <th>truth_stblM</th>\n",
       "      <th>truth_j1_DRmin_anyReco</th>\n",
       "      <th>truth_j1_DRmin_jvtReco</th>\n",
       "      <th>truth_j1_DR_reco_j1</th>\n",
       "    </tr>\n",
       "  </thead>\n",
       "  <tbody>\n",
       "    <tr>\n",
       "      <th>0</th>\n",
       "      <td>7</td>\n",
       "      <td>830007</td>\n",
       "      <td>13</td>\n",
       "      <td>140757</td>\n",
       "      <td>300687</td>\n",
       "      <td>25</td>\n",
       "      <td>2113</td>\n",
       "      <td>12</td>\n",
       "      <td>0.005010</td>\n",
       "      <td>1.162800</td>\n",
       "      <td>...</td>\n",
       "      <td>2.889913</td>\n",
       "      <td>1.691254</td>\n",
       "      <td>0.626161</td>\n",
       "      <td>203.606873</td>\n",
       "      <td>346</td>\n",
       "      <td>16</td>\n",
       "      <td>13000.0</td>\n",
       "      <td>0.005122</td>\n",
       "      <td>0.005122</td>\n",
       "      <td>0.005122</td>\n",
       "    </tr>\n",
       "    <tr>\n",
       "      <th>1</th>\n",
       "      <td>6</td>\n",
       "      <td>830007</td>\n",
       "      <td>12</td>\n",
       "      <td>140871</td>\n",
       "      <td>302393</td>\n",
       "      <td>19</td>\n",
       "      <td>1547</td>\n",
       "      <td>12</td>\n",
       "      <td>0.001147</td>\n",
       "      <td>1.083530</td>\n",
       "      <td>...</td>\n",
       "      <td>2.419132</td>\n",
       "      <td>2.713886</td>\n",
       "      <td>0.693207</td>\n",
       "      <td>488.719086</td>\n",
       "      <td>410</td>\n",
       "      <td>43</td>\n",
       "      <td>13000.0</td>\n",
       "      <td>0.006678</td>\n",
       "      <td>0.006678</td>\n",
       "      <td>3.252800</td>\n",
       "    </tr>\n",
       "    <tr>\n",
       "      <th>2</th>\n",
       "      <td>7</td>\n",
       "      <td>830007</td>\n",
       "      <td>13</td>\n",
       "      <td>141602</td>\n",
       "      <td>306269</td>\n",
       "      <td>28</td>\n",
       "      <td>2657</td>\n",
       "      <td>15</td>\n",
       "      <td>0.001827</td>\n",
       "      <td>1.022078</td>\n",
       "      <td>...</td>\n",
       "      <td>2.145233</td>\n",
       "      <td>2.023071</td>\n",
       "      <td>0.261075</td>\n",
       "      <td>521.594788</td>\n",
       "      <td>241</td>\n",
       "      <td>58</td>\n",
       "      <td>13000.0</td>\n",
       "      <td>0.001612</td>\n",
       "      <td>0.001612</td>\n",
       "      <td>0.001612</td>\n",
       "    </tr>\n",
       "    <tr>\n",
       "      <th>3</th>\n",
       "      <td>7</td>\n",
       "      <td>830007</td>\n",
       "      <td>13</td>\n",
       "      <td>141367</td>\n",
       "      <td>311481</td>\n",
       "      <td>20</td>\n",
       "      <td>2229</td>\n",
       "      <td>7</td>\n",
       "      <td>0.008478</td>\n",
       "      <td>1.025579</td>\n",
       "      <td>...</td>\n",
       "      <td>2.731432</td>\n",
       "      <td>1.754390</td>\n",
       "      <td>1.015143</td>\n",
       "      <td>189.060699</td>\n",
       "      <td>411</td>\n",
       "      <td>33</td>\n",
       "      <td>13000.0</td>\n",
       "      <td>0.005777</td>\n",
       "      <td>0.005777</td>\n",
       "      <td>0.005777</td>\n",
       "    </tr>\n",
       "    <tr>\n",
       "      <th>4</th>\n",
       "      <td>7</td>\n",
       "      <td>830007</td>\n",
       "      <td>13</td>\n",
       "      <td>141831</td>\n",
       "      <td>303338</td>\n",
       "      <td>15</td>\n",
       "      <td>1873</td>\n",
       "      <td>10</td>\n",
       "      <td>0.010230</td>\n",
       "      <td>1.116030</td>\n",
       "      <td>...</td>\n",
       "      <td>2.529951</td>\n",
       "      <td>1.226460</td>\n",
       "      <td>-0.463334</td>\n",
       "      <td>179.255829</td>\n",
       "      <td>472</td>\n",
       "      <td>20</td>\n",
       "      <td>13000.0</td>\n",
       "      <td>0.004479</td>\n",
       "      <td>0.004479</td>\n",
       "      <td>0.004479</td>\n",
       "    </tr>\n",
       "    <tr>\n",
       "      <th>...</th>\n",
       "      <td>...</td>\n",
       "      <td>...</td>\n",
       "      <td>...</td>\n",
       "      <td>...</td>\n",
       "      <td>...</td>\n",
       "      <td>...</td>\n",
       "      <td>...</td>\n",
       "      <td>...</td>\n",
       "      <td>...</td>\n",
       "      <td>...</td>\n",
       "      <td>...</td>\n",
       "      <td>...</td>\n",
       "      <td>...</td>\n",
       "      <td>...</td>\n",
       "      <td>...</td>\n",
       "      <td>...</td>\n",
       "      <td>...</td>\n",
       "      <td>...</td>\n",
       "      <td>...</td>\n",
       "      <td>...</td>\n",
       "      <td>...</td>\n",
       "    </tr>\n",
       "    <tr>\n",
       "      <th>217217</th>\n",
       "      <td>7</td>\n",
       "      <td>830007</td>\n",
       "      <td>8</td>\n",
       "      <td>693783</td>\n",
       "      <td>305571</td>\n",
       "      <td>32</td>\n",
       "      <td>2502</td>\n",
       "      <td>18</td>\n",
       "      <td>0.001208</td>\n",
       "      <td>0.846699</td>\n",
       "      <td>...</td>\n",
       "      <td>3.110298</td>\n",
       "      <td>1.616384</td>\n",
       "      <td>0.986045</td>\n",
       "      <td>384.279022</td>\n",
       "      <td>600</td>\n",
       "      <td>29</td>\n",
       "      <td>13000.0</td>\n",
       "      <td>0.006284</td>\n",
       "      <td>0.006284</td>\n",
       "      <td>0.006284</td>\n",
       "    </tr>\n",
       "    <tr>\n",
       "      <th>217218</th>\n",
       "      <td>7</td>\n",
       "      <td>830007</td>\n",
       "      <td>13</td>\n",
       "      <td>692153</td>\n",
       "      <td>301932</td>\n",
       "      <td>17</td>\n",
       "      <td>2088</td>\n",
       "      <td>14</td>\n",
       "      <td>0.002728</td>\n",
       "      <td>1.094801</td>\n",
       "      <td>...</td>\n",
       "      <td>3.082352</td>\n",
       "      <td>1.108196</td>\n",
       "      <td>-0.169797</td>\n",
       "      <td>101.461075</td>\n",
       "      <td>408</td>\n",
       "      <td>31</td>\n",
       "      <td>13000.0</td>\n",
       "      <td>0.003034</td>\n",
       "      <td>0.003034</td>\n",
       "      <td>0.003034</td>\n",
       "    </tr>\n",
       "    <tr>\n",
       "      <th>217219</th>\n",
       "      <td>7</td>\n",
       "      <td>830007</td>\n",
       "      <td>13</td>\n",
       "      <td>692647</td>\n",
       "      <td>309516</td>\n",
       "      <td>37</td>\n",
       "      <td>357</td>\n",
       "      <td>21</td>\n",
       "      <td>0.042416</td>\n",
       "      <td>0.705847</td>\n",
       "      <td>...</td>\n",
       "      <td>2.760660</td>\n",
       "      <td>0.953999</td>\n",
       "      <td>1.371772</td>\n",
       "      <td>65.348778</td>\n",
       "      <td>368</td>\n",
       "      <td>19</td>\n",
       "      <td>13000.0</td>\n",
       "      <td>0.006638</td>\n",
       "      <td>0.006638</td>\n",
       "      <td>0.006638</td>\n",
       "    </tr>\n",
       "    <tr>\n",
       "      <th>217220</th>\n",
       "      <td>6</td>\n",
       "      <td>830007</td>\n",
       "      <td>12</td>\n",
       "      <td>628936</td>\n",
       "      <td>311402</td>\n",
       "      <td>24</td>\n",
       "      <td>184</td>\n",
       "      <td>16</td>\n",
       "      <td>0.007211</td>\n",
       "      <td>1.039691</td>\n",
       "      <td>...</td>\n",
       "      <td>2.898484</td>\n",
       "      <td>0.600040</td>\n",
       "      <td>0.558809</td>\n",
       "      <td>248.974915</td>\n",
       "      <td>231</td>\n",
       "      <td>25</td>\n",
       "      <td>13000.0</td>\n",
       "      <td>0.006216</td>\n",
       "      <td>0.006216</td>\n",
       "      <td>0.006216</td>\n",
       "    </tr>\n",
       "    <tr>\n",
       "      <th>217221</th>\n",
       "      <td>7</td>\n",
       "      <td>830007</td>\n",
       "      <td>13</td>\n",
       "      <td>207349</td>\n",
       "      <td>303846</td>\n",
       "      <td>23</td>\n",
       "      <td>2656</td>\n",
       "      <td>12</td>\n",
       "      <td>0.004875</td>\n",
       "      <td>1.081466</td>\n",
       "      <td>...</td>\n",
       "      <td>2.712507</td>\n",
       "      <td>2.090138</td>\n",
       "      <td>-0.483231</td>\n",
       "      <td>229.115082</td>\n",
       "      <td>460</td>\n",
       "      <td>30</td>\n",
       "      <td>13000.0</td>\n",
       "      <td>0.010410</td>\n",
       "      <td>0.010410</td>\n",
       "      <td>0.010410</td>\n",
       "    </tr>\n",
       "  </tbody>\n",
       "</table>\n",
       "<p>217222 rows × 255 columns</p>\n",
       "</div>"
      ],
      "text/plain": [
       "        TruthCutFlow  mcChannelNumber  CutFlow  EventNumber  RunNumber  \\\n",
       "0                  7           830007       13       140757     300687   \n",
       "1                  6           830007       12       140871     302393   \n",
       "2                  7           830007       13       141602     306269   \n",
       "3                  7           830007       13       141367     311481   \n",
       "4                  7           830007       13       141831     303338   \n",
       "...              ...              ...      ...          ...        ...   \n",
       "217217             7           830007        8       693783     305571   \n",
       "217218             7           830007       13       692153     301932   \n",
       "217219             7           830007       13       692647     309516   \n",
       "217220             6           830007       12       628936     311402   \n",
       "217221             7           830007       13       207349     303846   \n",
       "\n",
       "        LumiBlock  BCID  NPV  initialWeight  pileupWeight  ...  \\\n",
       "0              25  2113   12       0.005010      1.162800  ...   \n",
       "1              19  1547   12       0.001147      1.083530  ...   \n",
       "2              28  2657   15       0.001827      1.022078  ...   \n",
       "3              20  2229    7       0.008478      1.025579  ...   \n",
       "4              15  1873   10       0.010230      1.116030  ...   \n",
       "...           ...   ...  ...            ...           ...  ...   \n",
       "217217         32  2502   18       0.001208      0.846699  ...   \n",
       "217218         17  2088   14       0.002728      1.094801  ...   \n",
       "217219         37   357   21       0.042416      0.705847  ...   \n",
       "217220         24   184   16       0.007211      1.039691  ...   \n",
       "217221         23  2656   12       0.004875      1.081466  ...   \n",
       "\n",
       "        truth_Dphi_j1_ll  truth_R_DB  truth_y_llj  truth_pT_llj  truth_N_stbl  \\\n",
       "0               2.889913    1.691254     0.626161    203.606873           346   \n",
       "1               2.419132    2.713886     0.693207    488.719086           410   \n",
       "2               2.145233    2.023071     0.261075    521.594788           241   \n",
       "3               2.731432    1.754390     1.015143    189.060699           411   \n",
       "4               2.529951    1.226460    -0.463334    179.255829           472   \n",
       "...                  ...         ...          ...           ...           ...   \n",
       "217217          3.110298    1.616384     0.986045    384.279022           600   \n",
       "217218          3.082352    1.108196    -0.169797    101.461075           408   \n",
       "217219          2.760660    0.953999     1.371772     65.348778           368   \n",
       "217220          2.898484    0.600040     0.558809    248.974915           231   \n",
       "217221          2.712507    2.090138    -0.483231    229.115082           460   \n",
       "\n",
       "        truth_Nconst_j1  truth_stblM  truth_j1_DRmin_anyReco  \\\n",
       "0                    16      13000.0                0.005122   \n",
       "1                    43      13000.0                0.006678   \n",
       "2                    58      13000.0                0.001612   \n",
       "3                    33      13000.0                0.005777   \n",
       "4                    20      13000.0                0.004479   \n",
       "...                 ...          ...                     ...   \n",
       "217217               29      13000.0                0.006284   \n",
       "217218               31      13000.0                0.003034   \n",
       "217219               19      13000.0                0.006638   \n",
       "217220               25      13000.0                0.006216   \n",
       "217221               30      13000.0                0.010410   \n",
       "\n",
       "        truth_j1_DRmin_jvtReco  truth_j1_DR_reco_j1  \n",
       "0                     0.005122             0.005122  \n",
       "1                     0.006678             3.252800  \n",
       "2                     0.001612             0.001612  \n",
       "3                     0.005777             0.005777  \n",
       "4                     0.004479             0.004479  \n",
       "...                        ...                  ...  \n",
       "217217                0.006284             0.006284  \n",
       "217218                0.003034             0.003034  \n",
       "217219                0.006638             0.006638  \n",
       "217220                0.006216             0.006216  \n",
       "217221                0.010410             0.010410  \n",
       "\n",
       "[217222 rows x 255 columns]"
      ]
     },
     "execution_count": 12,
     "metadata": {},
     "output_type": "execute_result"
    }
   ],
   "source": [
    "df"
   ]
  },
  {
   "cell_type": "code",
   "execution_count": 13,
   "metadata": {},
   "outputs": [
    {
     "data": {
      "text/plain": [
       "(array([ 1055.,   872., 18596., 31309., 41400., 52810., 36003., 27271.,\n",
       "         6797.,  1109.]),\n",
       " array([ 0.5,  4.9,  9.3, 13.7, 18.1, 22.5, 26.9, 31.3, 35.7, 40.1, 44.5],\n",
       "       dtype=float32),\n",
       " <BarContainer object of 10 artists>)"
      ]
     },
     "execution_count": 13,
     "metadata": {},
     "output_type": "execute_result"
    },
    {
     "data": {
      "image/png": "[encoded data removed]",
      "text/plain": [
       "<Figure size 432x288 with 1 Axes>"
      ]
     },
     "metadata": {
      "needs_background": "light"
     },
     "output_type": "display_data"
    }
   ],
   "source": [
    "plt.hist(df.mu)"
   ]
  },
  {
   "cell_type": "code",
   "execution_count": null,
   "metadata": {},
   "outputs": [],
   "source": []
  }
 ],
 "metadata": {
  "kernelspec": {
   "display_name": "omnifold",
   "language": "python",
   "name": "omnifold"
  },
  "language_info": {
   "codemirror_mode": {
    "name": "ipython",
    "version": 3
   },
   "file_extension": ".py",
   "mimetype": "text/x-python",
   "name": "python",
   "nbconvert_exporter": "python",
   "pygments_lexer": "ipython3",
   "version": "3.8.5"
  }
 },
 "nbformat": 4,
 "nbformat_minor": 4
}
