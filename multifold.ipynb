{
 "cells": [
  {
   "cell_type": "markdown",
   "id": "f7d31f27-536a-4952-8349-fac14f90509a",
   "metadata": {},
   "source": [
    "# MultiFold Example"
   ]
  },
  {
   "cell_type": "code",
   "execution_count": 1,
   "id": "211789a5-c9f0-4973-be96-ff6d48e6c2de",
   "metadata": {},
   "outputs": [],
   "source": [
    "%load_ext autoreload\n",
    "%autoreload 2"
   ]
  },
  {
   "cell_type": "code",
   "execution_count": 2,
   "id": "f31c67e9-8723-4cba-97d9-75f9bfd6ff1d",
   "metadata": {},
   "outputs": [],
   "source": [
    "### Generic imports\n",
    "import os\n",
    "import numpy as np\n",
    "import pandas as pd\n",
    "import scipy.stats as stats\n",
    "from tqdm import tqdm\n",
    "import matplotlib.pyplot as plt\n",
    "from matplotlib.backends.backend_pdf import PdfPages\n",
    "from matplotlib.ticker import MaxNLocator\n",
    "\n",
    "### ML imports\n",
    "from sklearn.model_selection import train_test_split\n",
    "import sklearn.preprocessing as preprocessing\n",
    "import tensorflow as tf\n",
    "\n",
    "### Custom functions\n",
    "from omnifold import *\n",
    "from omnifold.utilities import *"
   ]
  },
  {
   "cell_type": "code",
   "execution_count": 3,
   "id": "b08837ba-ca45-4a62-9171-5c3645d36862",
   "metadata": {},
   "outputs": [],
   "source": [
    "%matplotlib agg\n",
    "%matplotlib agg\n",
    "# use this if you want to suppress plots in the Jupyter notebook"
   ]
  },
  {
   "cell_type": "code",
   "execution_count": 4,
   "id": "b6760634-4a33-47c5-a8bf-c6137455fa62",
   "metadata": {},
   "outputs": [
    {
     "name": "stdout",
     "output_type": "stream",
     "text": [
      "GPU 0: Quadro RTX 6000 (UUID: GPU-26dfa6b3-88ef-1e87-ba91-3ca0255166ab)\n",
      "GPU 1: Quadro RTX 6000 (UUID: GPU-2c315734-0ffc-e8d8-40fb-29a2ccd25ab5)\n",
      "GPU 2: Quadro RTX 6000 (UUID: GPU-057fcb77-7816-2825-8db8-b78905930b06)\n",
      "GPU 3: Quadro RTX 6000 (UUID: GPU-dc56feb4-523f-6ded-e577-4416c9dc6561)\n"
     ]
    }
   ],
   "source": [
    "! nvidia-smi -L # list GPUs available"
   ]
  },
  {
   "cell_type": "code",
   "execution_count": 5,
   "id": "c6494b1d-fa24-4335-9a54-1774ad2e1482",
   "metadata": {},
   "outputs": [
    {
     "name": "stderr",
     "output_type": "stream",
     "text": [
      "2021-11-17 10:07:32.876959: I tensorflow/stream_executor/platform/default/dso_loader.cc:44] Successfully opened dynamic library libcuda.so.1\n",
      "2021-11-17 10:07:32.906951: I tensorflow/core/common_runtime/gpu/gpu_device.cc:1561] Found device 0 with properties: \n",
      "pciBusID: 0000:c1:00.0 name: Quadro RTX 6000 computeCapability: 7.5\n",
      "coreClock: 1.77GHz coreCount: 72 deviceMemorySize: 23.65GiB deviceMemoryBandwidth: 625.94GiB/s\n",
      "2021-11-17 10:07:32.907401: I tensorflow/stream_executor/platform/default/dso_loader.cc:44] Successfully opened dynamic library libcudart.so.10.1\n",
      "2021-11-17 10:07:32.909667: I tensorflow/stream_executor/platform/default/dso_loader.cc:44] Successfully opened dynamic library libcublas.so.10\n",
      "2021-11-17 10:07:32.911600: I tensorflow/stream_executor/platform/default/dso_loader.cc:44] Successfully opened dynamic library libcufft.so.10\n",
      "2021-11-17 10:07:32.912470: I tensorflow/stream_executor/platform/default/dso_loader.cc:44] Successfully opened dynamic library libcurand.so.10\n",
      "2021-11-17 10:07:32.914810: I tensorflow/stream_executor/platform/default/dso_loader.cc:44] Successfully opened dynamic library libcusolver.so.10\n",
      "2021-11-17 10:07:32.915797: I tensorflow/stream_executor/platform/default/dso_loader.cc:44] Successfully opened dynamic library libcusparse.so.10\n",
      "2021-11-17 10:07:32.920049: I tensorflow/stream_executor/platform/default/dso_loader.cc:44] Successfully opened dynamic library libcudnn.so.7\n",
      "2021-11-17 10:07:32.922717: I tensorflow/core/common_runtime/gpu/gpu_device.cc:1703] Adding visible gpu devices: 0\n"
     ]
    }
   ],
   "source": [
    "### GPU Setup\n",
    "os.environ[\"CUDA_VISIBLE_DEVICES\"] = \"3\" # pick a number < 4 on ML4HEP; < 3 on Voltan \n",
    "physical_devices = tf.config.list_physical_devices('GPU') \n",
    "tf.config.experimental.set_memory_growth(physical_devices[0], True)"
   ]
  },
  {
   "cell_type": "code",
   "execution_count": 6,
   "id": "2d52c8dc-60f5-4edb-ab8b-aee9e5ce895b",
   "metadata": {},
   "outputs": [],
   "source": [
    "plot_setup()\n",
    "plt.rcParams.update({\"font.family\": \"serif\",})"
   ]
  },
  {
   "cell_type": "code",
   "execution_count": 7,
   "id": "20810031-1bfd-4620-a4f9-910029f41cd4",
   "metadata": {},
   "outputs": [],
   "source": [
    "plot_dir = './plots/'"
   ]
  },
  {
   "cell_type": "markdown",
   "id": "6205721e-19de-4143-a27a-2d6811f7da84",
   "metadata": {},
   "source": [
    "### Load files"
   ]
  },
  {
   "cell_type": "markdown",
   "id": "558b11fc-f11a-43b4-b083-a34a7539c55c",
   "metadata": {},
   "source": [
    "Since we're not using data yet, \"MC\" = Powheg + Pythia8 MC16e and \"data\" = Sherpa 2.2.1 MC16e."
   ]
  },
  {
   "cell_type": "code",
   "execution_count": 8,
   "id": "4c96f0c4-2fcf-48e8-a79e-8881404ace33",
   "metadata": {},
   "outputs": [],
   "source": [
    "folder = './omnifold_data/'"
   ]
  },
  {
   "cell_type": "code",
   "execution_count": 9,
   "id": "def4b981-62fb-4045-aa37-2e755ba5a8a3",
   "metadata": {},
   "outputs": [],
   "source": [
    "f_mc = uproot.open(folder+\"ZjetOmnifold_Jun25_PowhegPythia_mc16e_slim.root\")\n",
    "f_data = uproot.open(folder+\"ZjetOmnifold_Jun25_Sherpa221_mc16e_slim.root\")"
   ]
  },
  {
   "cell_type": "code",
   "execution_count": 10,
   "id": "0d434207-3f13-471d-8608-c5ec90f3fa2a",
   "metadata": {},
   "outputs": [],
   "source": [
    "columns = f_mc['OmniTree'].keys()"
   ]
  },
  {
   "cell_type": "markdown",
   "id": "f56d5d7f-925d-4fc2-8e08-f1f449c48804",
   "metadata": {},
   "source": [
    "These columns are the same for both samples, since they're both MC:"
   ]
  },
  {
   "cell_type": "code",
   "execution_count": 11,
   "id": "93b4741d-d40b-475f-acc3-7146b4d9b25a",
   "metadata": {},
   "outputs": [
    {
     "data": {
      "text/plain": [
       "True"
      ]
     },
     "execution_count": 11,
     "metadata": {},
     "output_type": "execute_result"
    }
   ],
   "source": [
    "f_mc['OmniTree'].keys() == f_data['OmniTree'].keys()"
   ]
  },
  {
   "cell_type": "markdown",
   "id": "2e6747a1-2a29-4be1-8e3f-5ce4ba70a764",
   "metadata": {},
   "source": [
    "Note that variables ending in `_tracks` require MultiIndex-ing. It's possible to combine these with flat variables, but it does increase the size of the DataFrame considerably, so let's ignore the MultiIndex variables for now. "
   ]
  },
  {
   "cell_type": "code",
   "execution_count": 12,
   "id": "c94ceb1a-20dc-4889-9fc9-6aff419d588c",
   "metadata": {},
   "outputs": [
    {
     "name": "stdout",
     "output_type": "stream",
     "text": [
      "MC has 416,725 events with 57 columns.\n",
      "Data has 3,578,623 events with 57 columns.\n"
     ]
    }
   ],
   "source": [
    "mc = f_mc['OmniTree'].arrays(\n",
    "    [col for col in columns if not col.endswith(\"_tracks\")],\n",
    "    library=\"pd\")\n",
    "\n",
    "data = f_data['OmniTree'].arrays(\n",
    "    [col for col in columns if not col.endswith(\"_tracks\")],\n",
    "    library=\"pd\")\n",
    "\n",
    "print(\"MC has {:,} events with {} columns.\".format(mc.shape[0],mc.shape[1]))\n",
    "print(\"Data has {:,} events with {} columns.\".format(data.shape[0],data.shape[1]))"
   ]
  },
  {
   "cell_type": "markdown",
   "id": "b46084c8-79b8-4512-baa9-001eb3f6a009",
   "metadata": {},
   "source": [
    "### Apply event selection"
   ]
  },
  {
   "cell_type": "code",
   "execution_count": 13,
   "id": "a5b4a5f3-24f4-459e-96c5-28ac935e52f4",
   "metadata": {},
   "outputs": [],
   "source": [
    "mc['pass190'] = mc['pass190'].astype('bool')\n",
    "mc['truth_pass190'] = mc['truth_pass190'].astype('bool')\n",
    "data['pass190'] = data['pass190'].astype('bool')\n",
    "data['truth_pass190'] = data['truth_pass190'].astype('bool')"
   ]
  },
  {
   "cell_type": "markdown",
   "id": "bbf48208-e9d6-4ec4-a793-cba6d2cdfc9b",
   "metadata": {},
   "source": [
    "The sample we're using already has these cuts applied, but we'll keep them in for future datasets. "
   ]
  },
  {
   "cell_type": "code",
   "execution_count": 14,
   "id": "a006689a-2061-4755-8588-072825d640b0",
   "metadata": {},
   "outputs": [],
   "source": [
    "mc = mc[(mc.pass190 | mc.truth_pass190)]\n",
    "data = data[data.pass190]\n",
    "data_truth = data[data.truth_pass190]"
   ]
  },
  {
   "cell_type": "markdown",
   "id": "3d831455-f6ac-4859-9666-ffc6927ed5b7",
   "metadata": {},
   "source": [
    "Normalize the weights:"
   ]
  },
  {
   "cell_type": "code",
   "execution_count": 15,
   "id": "4fa077aa-c3f9-4e8e-bf1b-f2986adca95e",
   "metadata": {},
   "outputs": [],
   "source": [
    "for weights in [mc.weight_mc, mc.weight, data_truth.weight_mc, data.weight]:\n",
    "    weights /= np.mean(weights)"
   ]
  },
  {
   "cell_type": "markdown",
   "id": "a75b754b-1c01-423b-8727-880cb146eeb6",
   "metadata": {},
   "source": [
    "### Load IBU histograms to get binning"
   ]
  },
  {
   "cell_type": "code",
   "execution_count": 16,
   "id": "947d964f-7fba-44c5-8a05-fb6b3bad62a0",
   "metadata": {},
   "outputs": [],
   "source": [
    "file_labels = [\n",
    "    'Ntracks_trackj1', 'Ntracks_trackj2', 'm_trackj1', 'm_trackj2',\n",
    "    'pT_trackj1', 'pT_trackj2', 'y_trackj1', 'y_trackj2', 'phi_trackj1',\n",
    "    'phi_trackj2', 'tau1_trackj1', 'tau1_trackj2', 'tau2_trackj1',\n",
    "    'tau2_trackj2', 'tau3_trackj1', 'tau3_trackj2', 'pT_ll', 'y_ll', 'pT_l1',\n",
    "    'pT_l2', 'eta_l1', 'eta_l2', 'phi_l1', 'phi_l2'\n",
    "]\n",
    "plot_labels = [\n",
    "    r'Leading track jet $n_{\\textrm{ch}}$ ',\n",
    "    r'Subleading track jet $n_{\\textrm{ch}}$', 'Leading track jet $m$ [GeV]',\n",
    "    r'Subleading track jet $m$ [GeV]', r'Leading track jet $p_T$ [GeV]',\n",
    "    r'Subleading track jet $p_T$ [GeV]', r'Leading track jet $y$',\n",
    "    r'Subleading track jet $y$', r'Leading track jet $\\phi$',\n",
    "    r'Subleading track jet $\\phi$', r'Leading track jet $\\tau_1$',\n",
    "    r'Subleading track jet $\\tau_1$', r'Leading track jet $\\tau_2$',\n",
    "    r'Subleading track jet $\\tau_2$', r'Leading track jet $\\tau_3$',\n",
    "    r'Subleading track jet $\\tau_3$', r'$p^{\\mu \\mu}_T$ [GeV]',\n",
    "    r'$y_{\\mu \\mu}$', r'$p^{\\mu 1}_{T}$ [GeV]', r'$p^{\\mu 2}_{T}$ [GeV]',\n",
    "    '$\\eta_{\\mu 1}$', '$\\eta_{\\mu 2}$', '$\\phi_{\\mu 1}$', '$\\phi_{\\mu 2}$'\n",
    "]\n",
    "\n",
    "IBU_hists = uproot.open(folder+'unfoldingPlotsJune14_UnfoldedHists.root')\n",
    "\n",
    "bins = []\n",
    "for label in file_labels:\n",
    "    bins += [IBU_hists['SherpaUnfoldWPythia_2018_'+label].to_numpy()[1]]\n",
    "    \n",
    "labels_and_bins = zip(file_labels, plot_labels, bins)\n",
    "\n",
    "ibu_hists = []\n",
    "for file_label, plot_label, plot_bins in labels_and_bins:\n",
    "    ibu_hists += [{\n",
    "        'file_label': file_label,\n",
    "        'plot_label': plot_label,\n",
    "        'bins': plot_bins\n",
    "    }]"
   ]
  },
  {
   "cell_type": "code",
   "execution_count": 17,
   "id": "37a278ff-8c81-424c-b3e7-d1bc68309608",
   "metadata": {},
   "outputs": [],
   "source": [
    "### Replace bins with Laura's new binning! \n",
    "ibu_hists[0]['bins'] = np.array([1, 7, 11, 15, 20, 30, 40]) # leading jet n_charged_tracks\n",
    "ibu_hists[4]['bins'] = np.array([0,  50,  100,  150,  200,  300,  1000]) # leading jet pT\n",
    "ibu_hists[10]['bins'] = np.array([0,  0.05,  0.1,  0.17,  0.25,  0.35,  0.5,  0.9]) # leading jet tau_1"
   ]
  },
  {
   "cell_type": "markdown",
   "id": "a400406f-df9a-422d-9fb7-d499174a93c6",
   "metadata": {
    "tags": []
   },
   "source": [
    "### Apply unfolding"
   ]
  },
  {
   "cell_type": "code",
   "execution_count": 18,
   "id": "74c2955e-845f-4514-afa1-29ee8468f5be",
   "metadata": {},
   "outputs": [],
   "source": [
    "K.clear_session()"
   ]
  },
  {
   "cell_type": "code",
   "execution_count": 19,
   "id": "0cce76e8-c9ba-4e4e-90b7-07621e525625",
   "metadata": {},
   "outputs": [
    {
     "name": "stdout",
     "output_type": "stream",
     "text": [
      "Unfolding 24 variables.\n"
     ]
    }
   ],
   "source": [
    "print(\"Unfolding {} variables.\".format(len(ibu_hists)))"
   ]
  },
  {
   "cell_type": "code",
   "execution_count": 20,
   "id": "49141212-1dc4-4a2a-82d0-b19effd1945f",
   "metadata": {},
   "outputs": [],
   "source": [
    "save_label0 = 'example'"
   ]
  },
  {
   "cell_type": "code",
   "execution_count": 21,
   "id": "a562c923-2978-4b08-baa6-e57598c8efee",
   "metadata": {},
   "outputs": [],
   "source": [
    "mc_truth_plots = [None] * len(ibu_hists)\n",
    "mc_reco_plots = [None] * len(ibu_hists)\n",
    "data_truth_plots = [None] * len(ibu_hists)\n",
    "data_reco_plots = [None] * len(ibu_hists)\n",
    "\n",
    "mc_truth_hists = [None] * len(ibu_hists)\n",
    "mc_reco_hists = [None] * len(ibu_hists)\n",
    "data_truth_hists = [None] * len(ibu_hists)\n",
    "data_reco_hists = [None] * len(ibu_hists)\n",
    "\n",
    "# z-score standardization of data\n",
    "sim_truth_z = [None] * len(ibu_hists)\n",
    "sim_reco_z = [None] * len(ibu_hists)\n",
    "data_reco_z = [None] * len(ibu_hists)"
   ]
  },
  {
   "cell_type": "markdown",
   "id": "2838c2ad-620f-49f8-a2f8-6fb2f27ce98f",
   "metadata": {},
   "source": [
    "Plot distributions before unfolding:"
   ]
  },
  {
   "cell_type": "code",
   "execution_count": 22,
   "id": "a94b36c6-cfe5-4242-9767-693a7c6005b5",
   "metadata": {},
   "outputs": [
    {
     "name": "stderr",
     "output_type": "stream",
     "text": [
      " 83%|████████▎ | 20/24 [01:57<00:23,  5.82s/it]/clusterfs/ml4hep/mpettee/ATLASOmniFold/omnifold/plot.py:51: RuntimeWarning: More than 20 figures have been opened. Figures created through the pyplot interface (`matplotlib.pyplot.figure`) are retained until explicitly closed and may consume too much memory. (To control this warning, see the rcParam `figure.max_open_warning`).\n",
      "  fig, ax = plt.subplots(nrows=2,\n",
      "100%|██████████| 24/24 [02:15<00:00,  5.65s/it]\n"
     ]
    }
   ],
   "source": [
    "for i in tqdm(range(len(ibu_hists))):\n",
    "    file_label = ibu_hists[i]['file_label']\n",
    "    \n",
    "    dummyval = -99\n",
    "    \n",
    "    ### Add in 200 GeV cuts for plotting only \n",
    "    mc_pt200 = mc[(mc.truth_pT_ll > 200) | (mc.pT_ll > 200)]\n",
    "    data_truth_pt200 = data_truth[data_truth.truth_pT_ll > 200]\n",
    "    data_pt200 = data[data.pT_ll > 200]\n",
    "    \n",
    "    mc_truth_plots[i] = np.where(mc_pt200.truth_pass190, mc_pt200['truth_'+file_label], dummyval)\n",
    "    mc_reco_plots[i] = np.where(mc_pt200.pass190, mc_pt200[file_label], dummyval)\n",
    "    data_truth_plots[i] = data_truth_pt200['truth_'+file_label]\n",
    "    data_reco_plots[i] = data_pt200[file_label]\n",
    "    \n",
    "    save_label0 = 'weight_truncation'\n",
    "    bins = ibu_hists[i]['bins']\n",
    "    x_label = ibu_hists[i]['plot_label']\n",
    "    file_label = ibu_hists[i]['file_label']\n",
    "    os.makedirs(plot_dir+'MultiFold/'+file_label, exist_ok=True)\n",
    "    save_label = plot_dir+'MultiFold/'+file_label+'/'+save_label0\n",
    "\n",
    "    plot_distributions(\n",
    "        sim_truth=mc_truth_plots[i],\n",
    "        sim_reco=mc_reco_plots[i],\n",
    "        sim_truth_weights_MC=mc_pt200.weight_mc,\n",
    "        sim_reco_weights_MC=mc_pt200.weight,\n",
    "        data_truth=data_truth_plots[i],\n",
    "        data_reco=data_reco_plots[i],\n",
    "        data_truth_weights_MC=data_truth_pt200.weight_mc,\n",
    "        data_reco_weights_MC=data_pt200.weight,\n",
    "        bins=bins,\n",
    "        x_label=x_label,\n",
    "        save_label=save_label\n",
    "    )\n",
    "    \n",
    "    mc_truth_hists[i] = np.where(mc.truth_pass190, mc['truth_'+file_label], dummyval)\n",
    "    mc_reco_hists[i] = np.where(mc.pass190, mc[file_label], dummyval)\n",
    "    data_truth_hists[i] = data_truth['truth_'+file_label]\n",
    "    data_reco_hists[i] = data[file_label]\n",
    "    \n",
    "    sim_truth_z[i], sim_reco_z[i], data_reco_z[i] = standardize(\n",
    "        np.array(mc_truth_hists[i]), \n",
    "        np.array(mc_reco_hists[i]), \n",
    "        np.array(data_reco_hists[i]))"
   ]
  },
  {
   "cell_type": "markdown",
   "id": "a7bd5592-6508-418d-8672-c2326afb86f3",
   "metadata": {},
   "source": [
    "Unfold:"
   ]
  },
  {
   "cell_type": "code",
   "execution_count": 23,
   "id": "b4c1b052-0383-4f23-a3d1-12a5b399df15",
   "metadata": {},
   "outputs": [
    {
     "name": "stderr",
     "output_type": "stream",
     "text": [
      "2021-11-17 10:10:08.521979: I tensorflow/core/platform/cpu_feature_guard.cc:143] Your CPU supports instructions that this TensorFlow binary was not compiled to use: SSE4.1 SSE4.2 AVX AVX2 FMA\n",
      "2021-11-17 10:10:08.531152: I tensorflow/core/platform/profile_utils/cpu_utils.cc:102] CPU Frequency: 2994280000 Hz\n",
      "2021-11-17 10:10:08.532205: I tensorflow/compiler/xla/service/service.cc:168] XLA service 0x558019275a00 initialized for platform Host (this does not guarantee that XLA will be used). Devices:\n",
      "2021-11-17 10:10:08.532232: I tensorflow/compiler/xla/service/service.cc:176]   StreamExecutor device (0): Host, Default Version\n",
      "2021-11-17 10:10:08.669663: I tensorflow/compiler/xla/service/service.cc:168] XLA service 0x557fd4a54430 initialized for platform CUDA (this does not guarantee that XLA will be used). Devices:\n",
      "2021-11-17 10:10:08.669712: I tensorflow/compiler/xla/service/service.cc:176]   StreamExecutor device (0): Quadro RTX 6000, Compute Capability 7.5\n",
      "2021-11-17 10:10:08.671363: I tensorflow/core/common_runtime/gpu/gpu_device.cc:1561] Found device 0 with properties: \n",
      "pciBusID: 0000:c1:00.0 name: Quadro RTX 6000 computeCapability: 7.5\n",
      "coreClock: 1.77GHz coreCount: 72 deviceMemorySize: 23.65GiB deviceMemoryBandwidth: 625.94GiB/s\n",
      "2021-11-17 10:10:08.671415: I tensorflow/stream_executor/platform/default/dso_loader.cc:44] Successfully opened dynamic library libcudart.so.10.1\n",
      "2021-11-17 10:10:08.671429: I tensorflow/stream_executor/platform/default/dso_loader.cc:44] Successfully opened dynamic library libcublas.so.10\n",
      "2021-11-17 10:10:08.671441: I tensorflow/stream_executor/platform/default/dso_loader.cc:44] Successfully opened dynamic library libcufft.so.10\n",
      "2021-11-17 10:10:08.671453: I tensorflow/stream_executor/platform/default/dso_loader.cc:44] Successfully opened dynamic library libcurand.so.10\n",
      "2021-11-17 10:10:08.671466: I tensorflow/stream_executor/platform/default/dso_loader.cc:44] Successfully opened dynamic library libcusolver.so.10\n",
      "2021-11-17 10:10:08.671477: I tensorflow/stream_executor/platform/default/dso_loader.cc:44] Successfully opened dynamic library libcusparse.so.10\n",
      "2021-11-17 10:10:08.671489: I tensorflow/stream_executor/platform/default/dso_loader.cc:44] Successfully opened dynamic library libcudnn.so.7\n",
      "2021-11-17 10:10:08.673891: I tensorflow/core/common_runtime/gpu/gpu_device.cc:1703] Adding visible gpu devices: 0\n",
      "2021-11-17 10:10:08.673919: I tensorflow/stream_executor/platform/default/dso_loader.cc:44] Successfully opened dynamic library libcudart.so.10.1\n",
      "2021-11-17 10:10:08.675845: I tensorflow/core/common_runtime/gpu/gpu_device.cc:1102] Device interconnect StreamExecutor with strength 1 edge matrix:\n",
      "2021-11-17 10:10:08.675855: I tensorflow/core/common_runtime/gpu/gpu_device.cc:1108]      0 \n",
      "2021-11-17 10:10:08.675862: I tensorflow/core/common_runtime/gpu/gpu_device.cc:1121] 0:   N \n",
      "2021-11-17 10:10:08.678409: I tensorflow/core/common_runtime/gpu/gpu_device.cc:1247] Created TensorFlow device (/job:localhost/replica:0/task:0/device:GPU:0 with 22329 MB memory) -> physical GPU (device: 0, name: Quadro RTX 6000, pci bus id: 0000:c1:00.0, compute capability: 7.5)\n",
      "2021-11-17 10:10:10.349732: I tensorflow/stream_executor/platform/default/dso_loader.cc:44] Successfully opened dynamic library libcublas.so.10\n",
      "/clusterfs/ml4hep/mpettee/ATLASOmniFold/omnifold/multifold.py:15: RuntimeWarning: divide by zero encountered in true_divide\n",
      "  weights = f / (1. - f)\n"
     ]
    },
    {
     "name": "stdout",
     "output_type": "stream",
     "text": [
      "Finished in 124.18689942359924 seconds.\n"
     ]
    }
   ],
   "source": [
    "import time\n",
    "t0 = time.time()\n",
    "\n",
    "weights, _ = multifold(iterations=5,\n",
    "                       sim_truth=sim_truth_z,\n",
    "                       sim_reco=sim_reco_z,\n",
    "                       sim_truth_weights_MC=mc.weight_mc,\n",
    "                       sim_reco_weights_MC=mc.weight,\n",
    "                       data_reco=data_reco_z,\n",
    "                       data_reco_weights_MC=data.weight,\n",
    "                       dummyval=dummyval,\n",
    "                       verbose=0)\n",
    "\n",
    "print(\"Finished in {:.2f} seconds.\".format(time.time() - t0))"
   ]
  },
  {
   "cell_type": "markdown",
   "id": "4b5cd397-2217-4983-9f04-43ca5069cd27",
   "metadata": {},
   "source": [
    "Plot results from unfolding:"
   ]
  },
  {
   "cell_type": "code",
   "execution_count": 25,
   "id": "d2d51d73-d3b6-4de3-974e-12035f713926",
   "metadata": {},
   "outputs": [
    {
     "name": "stderr",
     "output_type": "stream",
     "text": [
      "100%|██████████| 24/24 [07:18<00:00, 18.28s/it]\n"
     ]
    }
   ],
   "source": [
    "filter = (mc.truth_pT_ll > 200) | (mc.pT_ll > 200)\n",
    "\n",
    "for i in tqdm(range(len(ibu_hists))):\n",
    "    # print(ibu_hists[i]['file_label'] + \" Results\\n\")\n",
    "    bins = ibu_hists[i]['bins']\n",
    "    x_label = ibu_hists[i]['plot_label']\n",
    "    file_label = ibu_hists[i]['file_label']\n",
    "    save_label = plot_dir + '/MultiFold/' + file_label + '/' + save_label0 + '-MultiFold-' + file_label\n",
    "\n",
    "    plot_results(sim_truth=mc_truth_plots[i],\n",
    "                 sim_reco=mc_reco_plots[i],\n",
    "                 sim_truth_weights_MC=mc_pt200.weight_mc,\n",
    "                 sim_reco_weights_MC=mc_pt200.weight,\n",
    "                 data_truth=data_truth_plots[i],\n",
    "                 data_reco=data_reco_plots[i],\n",
    "                 data_truth_weights_MC=data_truth_pt200.weight_mc,\n",
    "                 data_reco_weights_MC=data_pt200.weight,\n",
    "                 weights=weights[:,:,filter],\n",
    "                 bins=bins,\n",
    "                 x_label=x_label,\n",
    "                 flavor_label='MultiFold',\n",
    "                 save_label=save_label)"
   ]
  },
  {
   "cell_type": "code",
   "execution_count": null,
   "id": "eed12d9b-cc8e-4587-88ec-cc9ac0a46fab",
   "metadata": {},
   "outputs": [],
   "source": []
  }
 ],
 "metadata": {
  "kernelspec": {
   "display_name": "omnifold",
   "language": "python",
   "name": "omnifold"
  },
  "language_info": {
   "codemirror_mode": {
    "name": "ipython",
    "version": 3
   },
   "file_extension": ".py",
   "mimetype": "text/x-python",
   "name": "python",
   "nbconvert_exporter": "python",
   "pygments_lexer": "ipython3",
   "version": "3.8.12"
  }
 },
 "nbformat": 4,
 "nbformat_minor": 5
}
