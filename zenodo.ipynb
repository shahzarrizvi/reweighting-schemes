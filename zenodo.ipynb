{
 "cells": [
  {
   "cell_type": "code",
   "execution_count": 1,
   "id": "c913b40d-0cab-4126-a697-7f9dcb77da76",
   "metadata": {},
   "outputs": [],
   "source": [
    "# Automatically reload modules after executing each cell.\n",
    "%load_ext autoreload\n",
    "%autoreload 2"
   ]
  },
  {
   "cell_type": "code",
   "execution_count": 2,
   "id": "32e4adb9-f5a3-47a7-b013-6da24e29d00a",
   "metadata": {},
   "outputs": [],
   "source": [
    "# General imports\n",
    "import os\n",
    "import tensorflow as tf\n",
    "from scipy import stats\n",
    "\n",
    "# Utility imports\n",
    "from utils.losses import *\n",
    "from utils.plotting import *\n",
    "from utils.training import *\n",
    "\n",
    "from flows.flows import *\n",
    "\n",
    "np.random.seed(666) # Need to do more to ensure data is the same across runs."
   ]
  },
  {
   "cell_type": "code",
   "execution_count": 3,
   "id": "8816cc5e-528f-416d-adf1-8e98f8c0dccf",
   "metadata": {},
   "outputs": [],
   "source": [
    "os.environ[\"CUDA_VISIBLE_DEVICES\"] = \"1\" # pick a number < 4 on ML4HEP; < 3 on Voltan \n",
    "physical_devices = tf.config.list_physical_devices('GPU') \n",
    "tf.config.experimental.set_memory_growth(physical_devices[0], True)"
   ]
  },
  {
   "cell_type": "markdown",
   "id": "836abb92-a317-4520-9b36-d60c8588a715",
   "metadata": {
    "jp-MarkdownHeadingCollapsed": true,
    "tags": []
   },
   "source": [
    "# Training"
   ]
  },
  {
   "cell_type": "markdown",
   "id": "d306c891-2979-4d9b-ac19-20ad3a6d36be",
   "metadata": {
    "jp-MarkdownHeadingCollapsed": true,
    "tags": []
   },
   "source": [
    "## BCE $C$ Parametrization"
   ]
  },
  {
   "cell_type": "code",
   "execution_count": 4,
   "id": "7cf47a8f-61ec-4c44-a96d-41cda631935d",
   "metadata": {},
   "outputs": [],
   "source": [
    "# Experiment parameters\n",
    "num = 0\n",
    "reps = 100\n",
    "\n",
    "# Model parameters\n",
    "params_1 = {'loss':bce, 'd':4}\n",
    "params_2 = {'loss':tanh_bce, 'd':4, 'output': 'linear'}\n",
    "params_3 = {'loss':arctan_bce, 'd':4,  'output': 'linear'}\n",
    "\n",
    "filestr = 'models/zenodo/c_bce/set_{}/'.format(num)\n",
    "filestr_1 = filestr + 'sigmoid/model_{}.h5'\n",
    "filestr_2 = filestr + 'tanh/model_{}.h5'\n",
    "filestr_3 = filestr + 'arctan/model_{}.h5'\n",
    "\n",
    "if not os.path.isdir(filestr):\n",
    "    os.mkdir(filestr)\n",
    "\n",
    "if not os.path.isdir(filestr + 'sigmoid/'):\n",
    "    os.mkdir(filestr + 'sigmoid/')\n",
    "    \n",
    "if not os.path.isdir(filestr + 'tanh/'):\n",
    "    os.mkdir(filestr + 'tanh/')\n",
    "\n",
    "if not os.path.isdir(filestr + 'arctan/'):\n",
    "    os.mkdir(filestr + 'arctan/')\n",
    "\n",
    "# Data parameters\n",
    "N = 10**6\n",
    "X = np.load('data/zenodo/fold/X_trn.npy')[:N]\n",
    "y = np.load('data/zenodo/fold/y_trn.npy')[:N].astype('float32')\n",
    "data, m, s = split_data(X, y)"
   ]
  },
  {
   "cell_type": "code",
   "execution_count": null,
   "id": "7fd23de1-cfa5-4896-b9d5-47073ec28015",
   "metadata": {},
   "outputs": [],
   "source": [
    "for i in range(reps):\n",
    "    print(i, end = ' ')\n",
    "    model_1, trace = train(data, **params_1)\n",
    "    model_2, trace = train(data, **params_2)\n",
    "    model_3, trace = train(data, **params_3)\n",
    "    print()\n",
    "    model_1.save_weights(filestr_1.format(i))\n",
    "    model_2.save_weights(filestr_2.format(i))\n",
    "    model_3.save_weights(filestr_3.format(i))"
   ]
  },
  {
   "cell_type": "markdown",
   "id": "9638f4ac-8128-458b-a8b5-bdaf2b0ab509",
   "metadata": {
    "jp-MarkdownHeadingCollapsed": true,
    "tags": []
   },
   "source": [
    "## MSE $C$ Parametrization"
   ]
  },
  {
   "cell_type": "code",
   "execution_count": null,
   "id": "e4b2afea-448e-4859-9769-d45efeb72fd3",
   "metadata": {},
   "outputs": [],
   "source": [
    "# Experiment parameters\n",
    "num = 0\n",
    "reps = 100\n",
    "\n",
    "# Model parameters\n",
    "params_1 = {'loss':mse, 'd':4}\n",
    "params_2 = {'loss':tanh_mse, 'd':4, 'output': 'linear'}\n",
    "params_3 = {'loss':arctan_mse, 'd':4,  'output': 'linear'}\n",
    "\n",
    "filestr = 'models/zenodo/c_mse/set_{}/'.format(num)\n",
    "filestr_1 = filestr + 'sigmoid/model_{}.h5'\n",
    "filestr_2 = filestr + 'tanh/model_{}.h5'\n",
    "filestr_3 = filestr + 'arctan/model_{}.h5'\n",
    "\n",
    "if not os.path.isdir(filestr):\n",
    "    os.mkdir(filestr)\n",
    "\n",
    "if not os.path.isdir(filestr + 'sigmoid/'):\n",
    "    os.mkdir(filestr + 'sigmoid/')\n",
    "    \n",
    "if not os.path.isdir(filestr + 'tanh/'):\n",
    "    os.mkdir(filestr + 'tanh/')\n",
    "\n",
    "if not os.path.isdir(filestr + 'arctan/'):\n",
    "    os.mkdir(filestr + 'arctan/')\n",
    "\n",
    "# Data parameters\n",
    "N = 10**6\n",
    "X = np.load('data/zenodo/fold/X_trn.npy')[:N]\n",
    "y = np.load('data/zenodo/fold/y_trn.npy')[:N].astype('float32')\n",
    "data, m, s = split_data(X, y)"
   ]
  },
  {
   "cell_type": "code",
   "execution_count": null,
   "id": "d82ce72c-c192-46a2-bf81-fe9387d4c720",
   "metadata": {},
   "outputs": [],
   "source": [
    "for i in range(reps):\n",
    "    print(i, end = ' ')\n",
    "    model_1, trace = train(data, **params_1)\n",
    "    model_2, trace = train(data, **params_2)\n",
    "    model_3, trace = train(data, **params_3)\n",
    "    print()\n",
    "    model_1.save_weights(filestr_1.format(i))\n",
    "    model_2.save_weights(filestr_2.format(i))\n",
    "    model_3.save_weights(filestr_3.format(i))"
   ]
  },
  {
   "cell_type": "markdown",
   "id": "b6baaa90-4026-4358-8265-5a4e0247e9df",
   "metadata": {
    "jp-MarkdownHeadingCollapsed": true,
    "tags": []
   },
   "source": [
    "## MLC $C$ Parametrization"
   ]
  },
  {
   "cell_type": "code",
   "execution_count": null,
   "id": "b6aa86d6-4738-468e-839e-634aae54d5ac",
   "metadata": {},
   "outputs": [],
   "source": [
    "# Experiment parameters\n",
    "num = 0\n",
    "reps = 100\n",
    "\n",
    "# Model parameters\n",
    "params_1 = {'loss':mlc, 'd': 4, 'output': 'relu'}\n",
    "params_2 = {'loss':square_mlc, 'd': 4, 'output': 'linear'}\n",
    "params_3 = {'loss':exp_mlc, 'd': 4, 'output': 'linear'}\n",
    "\n",
    "filestr = 'models/zenodo/c_mlc/set_{}/'.format(num)\n",
    "filestr_1 = filestr + 'relu/model_{}.h5'\n",
    "filestr_2 = filestr + 'square/model_{}.h5'\n",
    "filestr_3 = filestr + 'exponential/model_{}.h5'\n",
    "\n",
    "if not os.path.isdir(filestr):\n",
    "    os.mkdir(filestr)\n",
    "\n",
    "if not os.path.isdir(filestr + 'relu/'):\n",
    "    os.mkdir(filestr + 'relu/')\n",
    "    \n",
    "if not os.path.isdir(filestr + 'square/'):\n",
    "    os.mkdir(filestr + 'square/')\n",
    "\n",
    "if not os.path.isdir(filestr + 'exponential/'):\n",
    "    os.mkdir(filestr + 'exponential/')\n",
    "\n",
    "# Data parameters\n",
    "N = 10**6\n",
    "X = np.load('data/zenodo/fold/X_trn.npy')[:N]\n",
    "y = np.load('data/zenodo/fold/y_trn.npy')[:N].astype('float32')\n",
    "data, m, s = split_data(X, y)"
   ]
  },
  {
   "cell_type": "code",
   "execution_count": null,
   "id": "c4551597-7757-4fe3-880f-a5aa1192d71f",
   "metadata": {},
   "outputs": [],
   "source": [
    "for i in range(reps):\n",
    "    print(i, end = ' ')\n",
    "    model_1, trace = train(data, **params_1)\n",
    "    model_2, trace = train(data, **params_2)\n",
    "    model_3, trace = train(data, **params_3)\n",
    "    print()\n",
    "    model_1.save_weights(filestr_1.format(i))\n",
    "    model_2.save_weights(filestr_2.format(i))\n",
    "    model_3.save_weights(filestr_3.format(i))"
   ]
  },
  {
   "cell_type": "markdown",
   "id": "7dbee70d-c8e0-45ba-a396-87da95618bc8",
   "metadata": {
    "jp-MarkdownHeadingCollapsed": true,
    "tags": []
   },
   "source": [
    "## SQR $C$ Parametrization"
   ]
  },
  {
   "cell_type": "code",
   "execution_count": null,
   "id": "4ec3e23c-a094-4507-b97a-41de6ac2f417",
   "metadata": {},
   "outputs": [],
   "source": [
    "# Experiment parameters\n",
    "num = 0\n",
    "reps = 100\n",
    "\n",
    "# Model parameters\n",
    "params_1 = {'loss':sqr, 'd': 4, 'output': 'relu'}\n",
    "params_2 = {'loss':square_sqr, 'd': 4, 'output': 'linear'}\n",
    "params_3 = {'loss':exp_sqr, 'd': 4, 'output': 'linear'}\n",
    "\n",
    "filestr = 'models/zenodo/c_sqr/set_{}/'.format(num)\n",
    "filestr_1 = filestr + 'relu/model_{}.h5'\n",
    "filestr_2 = filestr + 'square/model_{}.h5'\n",
    "filestr_3 = filestr + 'exponential/model_{}.h5'\n",
    "\n",
    "if not os.path.isdir(filestr):\n",
    "    os.mkdir(filestr)\n",
    "\n",
    "if not os.path.isdir(filestr + 'relu/'):\n",
    "    os.mkdir(filestr + 'relu/')\n",
    "    \n",
    "if not os.path.isdir(filestr + 'square/'):\n",
    "    os.mkdir(filestr + 'square/')\n",
    "\n",
    "if not os.path.isdir(filestr + 'exponential/'):\n",
    "    os.mkdir(filestr + 'exponential/')\n",
    "\n",
    "# Data parameters\n",
    "N = 10**6\n",
    "X = np.load('data/zenodo/fold/X_trn.npy')[:N]\n",
    "y = np.load('data/zenodo/fold/y_trn.npy')[:N].astype('float32')\n",
    "data, m, s = split_data(X, y)"
   ]
  },
  {
   "cell_type": "code",
   "execution_count": null,
   "id": "1040f958-cad5-4942-b7cc-a74d00b38a5e",
   "metadata": {},
   "outputs": [],
   "source": [
    "for i in range(reps):\n",
    "    print(i, end = ' ')\n",
    "    model_1, trace = train(data, **params_1)\n",
    "    model_2, trace = train(data, **params_2)\n",
    "    model_3, trace = train(data, **params_3)\n",
    "    print()\n",
    "    model_1.save_weights(filestr_1.format(i))\n",
    "    model_2.save_weights(filestr_2.format(i))\n",
    "    model_3.save_weights(filestr_3.format(i))"
   ]
  },
  {
   "cell_type": "markdown",
   "id": "3b5fe65d-8a58-41f6-8333-2b62abdd86e9",
   "metadata": {
    "tags": []
   },
   "source": [
    "## $p$-MSE"
   ]
  },
  {
   "cell_type": "code",
   "execution_count": 18,
   "id": "d1807b2a-ba3e-426d-9dfe-48fcae0781b5",
   "metadata": {},
   "outputs": [],
   "source": [
    "# Physics\n",
    "#num = 0    # p* search\n",
    "num = 1    # p*\n",
    "reps = 100\n",
    "\n",
    "# File parameters\n",
    "filestr = 'models/zenodo/ab_mse/set_{}/'.format(num)\n",
    "mse_filestr = filestr + 'model_{}.h5'\n",
    "\n",
    "if not os.path.isdir(filestr):\n",
    "    os.mkdir(filestr)\n",
    "\n",
    "# Data parameters\n",
    "N = 10**6\n",
    "X = np.load('data/zenodo/fold/X_trn.npy')[:N]\n",
    "y = np.load('data/zenodo/fold/y_trn.npy')[:N].astype('float32')\n",
    "data, m, s = split_data(X, y)\n",
    "p_star = -0.28"
   ]
  },
  {
   "cell_type": "code",
   "execution_count": 19,
   "id": "c23f0645-9cef-4374-b146-30e4f857e402",
   "metadata": {},
   "outputs": [
    {
     "name": "stdout",
     "output_type": "stream",
     "text": [
      "0\t1.2109030485153198 \t 100\t\n",
      "1\t1.2108780145645142 \t 100\t\n",
      "2\t1.2109918594360352 \t 100\t\n",
      "3\t1.2111068964004517 \t 100\t\n",
      "4\t1.2108631134033203 \t 100\t\n",
      "5\t1.2108837366104126 \t 100\t\n",
      "6\t1.2109853029251099 \t 100\t\n",
      "7\t1.2109261751174927 \t 100\t\n",
      "8\t1.2108901739120483 \t 100\t\n",
      "9\t1.211013674736023 \t 100\t\n",
      "10\t1.2109110355377197 \t 100\t\n",
      "11\t1.2111061811447144 \t 100\t\n",
      "12\t1.210906744003296 \t 100\t\n",
      "13\t1.2110321521759033 \t 100\t\n",
      "14\t1.2109633684158325 \t 100\t\n",
      "15\t1.2109732627868652 \t 100\t\n",
      "16\t1.2108935117721558 \t 100\t\n",
      "17\t1.2109113931655884 \t 100\t\n",
      "18\t1.2109196186065674 \t 100\t\n",
      "19\t1.211153507232666 \t 100\t\n",
      "20\t1.2109228372573853 \t 100\t\n",
      "21\t1.2109442949295044 \t 100\t\n",
      "22\t1.210966944694519 \t 100\t\n",
      "23\t1.2109558582305908 \t 100\t\n",
      "24\t1.2109078168869019 \t 100\t\n",
      "25\t1.2109178304672241 \t 100\t\n",
      "26\t1.2109283208847046 \t 100\t\n",
      "27\t1.2109088897705078 \t 100\t\n",
      "28\t1.2109910249710083 \t 100\t\n",
      "29\t1.2110048532485962 \t 100\t\n",
      "30\t1.2108927965164185 \t 100\t\n",
      "31\t1.211099624633789 \t 100\t\n",
      "32\t1.2110074758529663 \t 100\t\n",
      "33\t1.2110422849655151 \t 100\t\n",
      "34\t1.2110201120376587 \t 100\t\n",
      "35\t1.2109596729278564 \t 100\t\n",
      "36\t1.2109172344207764 \t 100\t\n",
      "37\t1.2111481428146362 \t 100\t\n",
      "38\t1.2109707593917847 \t 100\t\n",
      "39\t1.2109118700027466 \t 100\t\n",
      "40\t1.2109640836715698 \t 100\t\n",
      "41\t1.210899829864502 \t 100\t\n",
      "42\t1.210935115814209 \t 100\t\n",
      "43\t1.2108567953109741 \t 100\t\n",
      "44\t1.2110567092895508 \t 100\t\n",
      "45\t1.211025595664978 \t 100\t\n",
      "46\t1.210919976234436 \t 100\t\n",
      "47\t1.2110637426376343 \t 100\t\n",
      "48\t1.211004614830017 \t 100\t\n",
      "49\t1.2109735012054443 \t 100\t\n",
      "50\t1.2108871936798096 \t 100\t\n",
      "51\t1.2110309600830078 \t 100\t\n",
      "52\t1.211101770401001 \t 100\t\n",
      "53\t1.210888147354126 \t 100\t\n",
      "54\t1.2108701467514038 \t 100\t\n",
      "55\t1.210777759552002 \t 100\t\n",
      "56\t1.2109438180923462 \t 100\t\n",
      "57\t1.2111012935638428 \t 100\t\n",
      "58\t1.210941195487976 \t 100\t\n",
      "59\t1.2108614444732666 \t 100\t\n",
      "60\t1.2109348773956299 \t 100\t\n",
      "61\t1.2109556198120117 \t 100\t\n",
      "62\t1.2110047340393066 \t 100\t\n",
      "63\t1.2109546661376953 \t 100\t\n",
      "64\t1.2110317945480347 \t 100\t\n",
      "65\t1.2108080387115479 \t 100\t\n",
      "66\t1.2110472917556763 \t 100\t\n",
      "67\t1.210877537727356 \t 100\t\n",
      "68\t1.2109349966049194 \t 100\t\n",
      "69\t1.2109962701797485 \t 100\t\n",
      "70\t1.210824966430664 \t 100\t\n",
      "71\t1.2109506130218506 \t 100\t\n",
      "72\t1.2109397649765015 \t 100\t\n",
      "73\t1.2109771966934204 \t 100\t\n",
      "74\t1.2109023332595825 \t 100\t\n",
      "75\t1.2109144926071167 \t 100\t\n",
      "76\t1.210973858833313 \t 100\t\n",
      "77\t1.2108889818191528 \t 100\t\n",
      "78\t1.210911512374878 \t 100\t\n",
      "79\t1.2110002040863037 \t 100\t\n",
      "80\t1.2108747959136963 \t 100\t\n",
      "81\t1.2109652757644653 \t 100\t\n",
      "82\t1.2109605073928833 \t 100\t\n",
      "83\t1.2109529972076416 \t 100\t\n",
      "84\t1.2110748291015625 \t 100\t\n",
      "85\t1.210944652557373 \t 100\t\n",
      "86\t1.2109187841415405 \t 100\t\n",
      "87\t1.210893988609314 \t 100\t\n",
      "88\t1.2109074592590332 \t 100\t\n",
      "89\t1.2109251022338867 \t 100\t\n",
      "90\t1.2109507322311401 \t 100\t\n",
      "91\t1.2110328674316406 \t 100\t\n",
      "92\t1.210929036140442 \t 100\t\n",
      "93\t1.210919737815857 \t 100\t\n",
      "94\t1.2111108303070068 \t 100\t\n",
      "95\t1.2108738422393799 \t 100\t\n",
      "96\t1.2109849452972412 \t 100\t\n",
      "97\t1.2107861042022705 \t 100\t\n",
      "98\t1.2110698223114014 \t 100\t\n",
      "99\t1.2109133005142212 \t 100\t\n"
     ]
    }
   ],
   "source": [
    "params = {'loss': get_mse(p_star), 'd': 4}\n",
    "for i in range(reps):\n",
    "    print(i, end = '\\t')\n",
    "    model, trace = train(data, **params)\n",
    "    model.save_weights(mse_filestr.format(i))\n",
    "    print()"
   ]
  },
  {
   "cell_type": "markdown",
   "id": "44ffd92e-0b5f-49b1-93a3-b88f2c9c588f",
   "metadata": {
    "jp-MarkdownHeadingCollapsed": true,
    "tags": []
   },
   "source": [
    "## $r$-SQR"
   ]
  },
  {
   "cell_type": "code",
   "execution_count": 20,
   "id": "d6b57dc5-b9e9-4a65-a0ec-93b2e70a4ba6",
   "metadata": {},
   "outputs": [],
   "source": [
    "# Physics\n",
    "#num = 0 (r-SQR search)\n",
    "num = 1    # r*\n",
    "reps = 100\n",
    "\n",
    "# File parameters\n",
    "filestr = 'models/zenodo/ab_sqr/set_{}/'.format(num)\n",
    "sqr_filestr = filestr + 'model_{}.h5'\n",
    "\n",
    "if not os.path.isdir(filestr):\n",
    "    os.mkdir(filestr)\n",
    "\n",
    "# Data parameters\n",
    "N = 10**6\n",
    "X = np.load('data/zenodo/fold/X_trn.npy')[:N]\n",
    "y = np.load('data/zenodo/fold/y_trn.npy')[:N].astype('float32')\n",
    "data, m, s = split_data(X, y)\n",
    "\n",
    "r_star = -1.3"
   ]
  },
  {
   "cell_type": "code",
   "execution_count": 21,
   "id": "137057ee-156c-4313-b3ef-6c584743c39a",
   "metadata": {},
   "outputs": [
    {
     "name": "stdout",
     "output_type": "stream",
     "text": [
      "0\t0.9885322451591492 \t 100\t\n",
      "1\t0.9873899817466736 \t 100\t\n",
      "2\t0.9884982705116272 \t 100\t\n",
      "3\t0.9877780675888062 \t 100\t\n",
      "4\t0.9872733950614929 \t 100\t\n",
      "5\t0.9874544143676758 \t 100\t\n",
      "6\t0.9874877333641052 \t 100\t\n",
      "7\t0.9878857135772705 \t 100\t\n",
      "8\t0.9873415231704712 \t 100\t\n",
      "9\t0.9873857498168945 \t 100\t\n",
      "10\t0.9882552027702332 \t 100\t\n",
      "11\t0.9882872700691223 \t 100\t\n",
      "12\t0.9879137873649597 \t 100\t\n",
      "13\t0.9877987504005432 \t 100\t\n",
      "14\t0.9879794716835022 \t 100\t\n",
      "15\t0.9876644015312195 \t 100\t\n",
      "16\t0.9877204895019531 \t 100\t\n",
      "17\t0.9875736236572266 \t 100\t\n",
      "18\t0.9871612787246704 \t 100\t\n",
      "19\t0.987692654132843 \t 100\t\n",
      "20\t0.9874663352966309 \t 100\t\n",
      "21\t0.9880507588386536 \t 100\t\n",
      "22\t0.9879029989242554 \t 100\t\n",
      "23\t0.9875026345252991 \t 100\t\n",
      "24\t0.9877728223800659 \t 100\t\n",
      "25\t0.9880562424659729 \t 100\t\n",
      "26\t0.9876266121864319 \t 100\t\n",
      "27\t0.987594485282898 \t 100\t\n",
      "28\t0.9874147772789001 \t 100\t\n",
      "29\t0.987458348274231 \t 100\t\n",
      "30\t0.988193154335022 \t 100\t\n",
      "31\t0.9872511625289917 \t 100\t\n",
      "32\t0.9876132011413574 \t 100\t\n",
      "33\t0.9877969026565552 \t 100\t\n",
      "34\t0.9877309799194336 \t 100\t\n",
      "35\t0.9875017404556274 \t 100\t\n",
      "36\t0.9878155589103699 \t 100\t\n",
      "37\t0.9877347350120544 \t 100\t\n",
      "38\t0.9874755144119263 \t 100\t\n",
      "39\t0.9873020052909851 \t 100\t\n",
      "40\t0.9879429340362549 \t 100\t\n",
      "41\t0.9874739646911621 \t 100\t\n",
      "42\t0.9877552390098572 \t 100\t\n",
      "43\t0.9875859022140503 \t 100\t\n",
      "44\t0.9873315095901489 \t 100\t\n",
      "45\t0.9874221086502075 \t 100\t\n",
      "46\t0.9880388975143433 \t 100\t\n",
      "47\t0.9881316423416138 \t 100\t\n",
      "48\t0.987738847732544 \t 100\t\n",
      "49\t0.9875667095184326 \t 100\t\n",
      "50\t0.9876036643981934 \t 100\t\n",
      "51\t0.9878166913986206 \t 100\t\n",
      "52\t0.9879506230354309 \t 100\t\n",
      "53\t0.9875115156173706 \t 100\t\n",
      "54\t0.9877111911773682 \t 100\t\n",
      "55\t0.9879783391952515 \t 100\t\n",
      "56\t0.9878596067428589 \t 100\t\n",
      "57\t0.9874728918075562 \t 100\t\n",
      "58\t0.9880124926567078 \t 100\t\n",
      "59\t0.987362265586853 \t 100\t\n",
      "60\t0.9877125024795532 \t 100\t\n",
      "61\t0.9874359965324402 \t 100\t\n",
      "62\t0.9875528812408447 \t 100\t\n",
      "63\t0.9876691699028015 \t 100\t\n",
      "64\t0.987474262714386 \t 100\t\n",
      "65\t0.987346351146698 \t 100\t\n",
      "66\t0.9874381422996521 \t 100\t\n",
      "67\t0.987768292427063 \t 100\t\n",
      "68\t0.987671971321106 \t 100\t\n",
      "69\t0.9882665276527405 \t 100\t\n",
      "70\t0.9875351190567017 \t 100\t\n",
      "71\t0.9881681203842163 \t 100\t\n",
      "72\t0.9876360297203064 \t 100\t\n",
      "73\t0.9872176051139832 \t 100\t\n",
      "74\t0.9883518815040588 \t 100\t\n",
      "75\t0.9877022504806519 \t 100\t\n",
      "76\t0.9874743819236755 \t 100\t\n",
      "77\t0.9872270226478577 \t 100\t\n",
      "78\t0.9875383973121643 \t 100\t\n",
      "79\t0.9874908924102783 \t 100\t\n",
      "80\t0.9870831370353699 \t 100\t\n",
      "81\t0.9875100255012512 \t 100\t\n",
      "82\t0.9879633188247681 \t 100\t\n",
      "83\t0.9877327680587769 \t 100\t\n",
      "84\t0.9881503582000732 \t 100\t\n",
      "85\t0.9874322414398193 \t 100\t\n",
      "86\t0.9879061579704285 \t 100\t\n",
      "87\t0.9876192212104797 \t 100\t\n",
      "88\t0.9875723719596863 \t 100\t\n",
      "89\t0.9873915910720825 \t 100\t\n",
      "90\t0.9875125288963318 \t 100\t\n",
      "91\t0.9872225522994995 \t 100\t\n",
      "92\t0.9882018566131592 \t 100\t\n",
      "93\t0.9874471426010132 \t 100\t\n",
      "94\t0.987946629524231 \t 100\t\n",
      "95\t0.9878956079483032 \t 100\t\n",
      "96\t0.987256646156311 \t 100\t\n",
      "97\t0.9880095720291138 \t 100\t\n",
      "98\t0.9874870181083679 \t 100\t\n",
      "99\t0.9875339269638062 \t 100\t\n"
     ]
    }
   ],
   "source": [
    "params = {'loss': get_exp_sqr(r_star), 'd': 4, 'output': 'linear'}\n",
    "for i in range(reps):\n",
    "    print(i, end = '\\t')\n",
    "    model, trace = train(data, **params)\n",
    "    model.save_weights(sqr_filestr.format(i))\n",
    "    print()"
   ]
  },
  {
   "cell_type": "markdown",
   "id": "6741f85a-f192-48fb-bb2f-1c30568fa5dd",
   "metadata": {
    "tags": []
   },
   "source": [
    "# MAEs"
   ]
  },
  {
   "cell_type": "code",
   "execution_count": 27,
   "id": "6e2b7f14-a378-4a39-9cec-71b2892d7a5e",
   "metadata": {},
   "outputs": [
    {
     "data": {
      "text/plain": [
       "<tensorflow.python.training.tracking.util.CheckpointLoadStatus at 0x7fe3a06dec80>"
      ]
     },
     "execution_count": 27,
     "metadata": {},
     "output_type": "execute_result"
    }
   ],
   "source": [
    "d = 4\n",
    "\n",
    "dat_target = make_target(d)\n",
    "sim_target = make_target(d)\n",
    "\n",
    "dat_ckpt = tf.train.Checkpoint(dat_target)\n",
    "sim_ckpt = tf.train.Checkpoint(sim_target)\n",
    "\n",
    "dat_ckpt.restore('flows/dat6/ckpt-235')\n",
    "sim_ckpt.restore('flows/sim3/ckpt-235')"
   ]
  },
  {
   "cell_type": "code",
   "execution_count": 28,
   "id": "bb718dcf-eab9-4c9f-9e87-a2b7c1c5be55",
   "metadata": {},
   "outputs": [],
   "source": [
    "lr = lambda x: tf.math.exp(dat_target.log_prob(x) - sim_target.log_prob(x)).numpy()"
   ]
  },
  {
   "cell_type": "raw",
   "id": "8270f2e0-8bfd-47d4-a2a3-ecf99fd5d039",
   "metadata": {},
   "source": [
    "X_mae = np.load('data/zenodo/fold/X_tst.npy')\n",
    "lr_tst = lr(X_mae)\n",
    "np.save('data/zenodo/fold/lr_tst.npy', lr_tst)"
   ]
  },
  {
   "cell_type": "code",
   "execution_count": 29,
   "id": "397b9acd-70f9-4bb8-8ec2-f34c6a9fdad2",
   "metadata": {},
   "outputs": [],
   "source": [
    "X_mae = np.load('data/zenodo/fold/X_tst.npy')\n",
    "lr_tst = np.load('data/zenodo/fold/lr_tst.npy')"
   ]
  },
  {
   "cell_type": "code",
   "execution_count": 30,
   "id": "10649c6a-b2ec-454b-855f-9e8ffa212871",
   "metadata": {},
   "outputs": [],
   "source": [
    "def mae(model_lr):\n",
    "    abs_dif = abs(model_lr(X_mae) - lr_tst)\n",
    "    #print(np.mean(abs_dif < 100), end = ' ')\n",
    "    return abs_dif[abs_dif < 100].mean()"
   ]
  },
  {
   "cell_type": "markdown",
   "id": "ba33598d-74f3-4a55-8655-dbbd4c98a248",
   "metadata": {
    "jp-MarkdownHeadingCollapsed": true,
    "tags": []
   },
   "source": [
    "## BCE"
   ]
  },
  {
   "cell_type": "code",
   "execution_count": 9,
   "id": "69dbad47-eaad-4b2b-8d52-887761f082a0",
   "metadata": {},
   "outputs": [],
   "source": [
    "# Experiment parameters\n",
    "num = 0\n",
    "reps = 100\n",
    "\n",
    "# Model parameters\n",
    "params_1 = {'loss':bce, 'd':4}\n",
    "params_2 = {'loss':tanh_bce, 'd':4, 'output': 'linear'}\n",
    "params_3 = {'loss':arctan_bce, 'd':4,  'output': 'linear'}\n",
    "\n",
    "filestr = 'models/zenodo/c_bce/set_{}/'.format(num)\n",
    "filestr_1 = filestr + 'sigmoid/model_{}.h5'\n",
    "filestr_2 = filestr + 'tanh/model_{}.h5'\n",
    "filestr_3 = filestr + 'arctan/model_{}.h5'\n",
    "\n",
    "# Data parameters\n",
    "N = 10**6\n",
    "X = np.load('data/zenodo/fold/X_trn.npy')[:N]\n",
    "y = np.load('data/zenodo/fold/y_trn.npy')[:N].astype('float32')\n",
    "data, m, s = split_data(X, y)"
   ]
  },
  {
   "cell_type": "code",
   "execution_count": 10,
   "id": "a55a8299-8fef-4eee-ab11-e3e64eb9b9d4",
   "metadata": {},
   "outputs": [
    {
     "name": "stdout",
     "output_type": "stream",
     "text": [
      "0.14966658 0.15346421 0.15029684\n",
      "0.0036739656 0.0062510087 0.0042783413\n"
     ]
    }
   ],
   "source": [
    "lrs_1 = [None] * reps\n",
    "lrs_2 = [None] * reps\n",
    "lrs_3 = [None] * reps\n",
    "\n",
    "for i in range(reps):\n",
    "    model_1 = create_model(**params_1)\n",
    "    model_2 = create_model(**params_2)\n",
    "    model_3 = create_model(**params_3)\n",
    "    \n",
    "    model_1.load_weights(filestr_1.format(i))\n",
    "    model_2.load_weights(filestr_2.format(i))\n",
    "    model_3.load_weights(filestr_3.format(i))\n",
    "    \n",
    "    lrs_1[i] = odds_lr(model_1, m, s)\n",
    "    lrs_2[i] = tanh_lr(model_2, m, s)\n",
    "    lrs_3[i] = arctan_lr(model_3, m, s)\n",
    "\n",
    "# Calculate mean absolute errors\n",
    "maes_1 = [mae(lr) for lr in lrs_1]\n",
    "maes_2 = [mae(lr) for lr in lrs_2]\n",
    "maes_3 = [mae(lr) for lr in lrs_3]\n",
    "\n",
    "avg_1 = np.mean(maes_1)\n",
    "avg_2 = np.mean(maes_2)\n",
    "avg_3 = np.mean(maes_3, where = ~np.isnan(maes_3))\n",
    "\n",
    "std_1 = np.std(maes_1, ddof = 1)\n",
    "std_2 = np.std(maes_2, ddof = 1)\n",
    "std_3 = np.std(maes_3, ddof = 1)\n",
    "\n",
    "abs_dif_1 = np.array([abs(lr(X_mae) - lr_tst) for lr in lrs_1])\n",
    "abs_dif_2 = np.array([abs(lr(X_mae) - lr_tst) for lr in lrs_2])\n",
    "abs_dif_3 = np.array([abs(lr(X_mae) - lr_tst) for lr in lrs_3])\n",
    "\n",
    "# Save results\n",
    "np.save(filestr + 'maes_1.npy', maes_1)\n",
    "np.save(filestr + 'maes_2.npy', maes_2)\n",
    "np.save(filestr + 'maes_3.npy', maes_3)\n",
    "\n",
    "np.save(filestr + 'avg_1.npy', avg_1)\n",
    "np.save(filestr + 'avg_2.npy', avg_2)\n",
    "np.save(filestr + 'avg_3.npy', avg_3)\n",
    "\n",
    "np.save(filestr + 'std_1.npy', std_1)\n",
    "np.save(filestr + 'std_2.npy', std_2)\n",
    "np.save(filestr + 'std_3.npy', std_3)\n",
    "\n",
    "np.save(filestr + 'abs_dif_1.npy', abs_dif_1)\n",
    "np.save(filestr + 'abs_dif_2.npy', abs_dif_2)\n",
    "np.save(filestr + 'abs_dif_3.npy', abs_dif_3)\n",
    "\n",
    "print(avg_1, avg_2, avg_3)\n",
    "print(std_1, std_2, std_3)"
   ]
  },
  {
   "cell_type": "code",
   "execution_count": null,
   "id": "e3d2a760-b7d0-4eeb-8a8f-e0178d0e85f4",
   "metadata": {},
   "outputs": [],
   "source": [
    "abs_dif_1 = np.load(filestr + 'abs_dif_1.npy')\n",
    "(abs_dif_1 > 100).mean()"
   ]
  },
  {
   "cell_type": "code",
   "execution_count": null,
   "id": "4a7456aa-3535-40b0-93d1-b3a3f1d1e2b3",
   "metadata": {},
   "outputs": [],
   "source": [
    "aa = abs_dif_1.flatten()\n",
    "bb = abs_dif_2.flatten()\n",
    "cc = abs_dif_3.flatten()\n",
    "\n",
    "ts = np.linspace(0, 20)\n",
    "plt.plot(ts, [(aa < t).mean() for t in ts], label = r'$\\sigma(z)$')\n",
    "plt.plot(ts, [(bb < t).mean() for t in ts], label = r'$\\frac{1}{2}\\left(\\tanh{z} + 1\\right)$')\n",
    "plt.plot(ts, [(cc < t).mean() for t in ts], label = r'$\\frac{1}{\\pi}\\left(\\arctan{z} + \\frac{\\pi}{2}\\right)$')\n",
    "plt.legend()\n",
    "\n",
    "plt.xlabel(r'$t$')\n",
    "plt.ylabel(r'$\\text{Pr}\\left(\\Big|\\mathcal{L}(X) - \\mathcal{L}_\\text{BCE}(X)\\Big| < t\\right)$')\n",
    "plt.title(r'BCE Likelihood Ratios Absolute Differences')\n",
    "\n",
    "plt.savefig('plots/zenodo/bce_threshold_plot.png', \n",
    "            dpi=300, \n",
    "            bbox_inches='tight')"
   ]
  },
  {
   "cell_type": "markdown",
   "id": "0c13e87b-0600-4481-82d7-8f0d0ea4f721",
   "metadata": {
    "jp-MarkdownHeadingCollapsed": true,
    "tags": []
   },
   "source": [
    "## MSE"
   ]
  },
  {
   "cell_type": "code",
   "execution_count": 11,
   "id": "38aa4548-76a5-4b4c-bc18-0d850162c713",
   "metadata": {},
   "outputs": [],
   "source": [
    "# Experiment parameters\n",
    "num = 0\n",
    "reps = 100\n",
    "\n",
    "# Model parameters\n",
    "params_1 = {'loss':mse, 'd':4}\n",
    "params_2 = {'loss':tanh_mse, 'd':4, 'output': 'linear'}\n",
    "params_3 = {'loss':arctan_mse, 'd':4,  'output': 'linear'}\n",
    "\n",
    "filestr = 'models/zenodo/c_mse/set_{}/'.format(num)\n",
    "filestr_1 = filestr + 'sigmoid/model_{}.h5'\n",
    "filestr_2 = filestr + 'tanh/model_{}.h5'\n",
    "filestr_3 = filestr + 'arctan/model_{}.h5'\n",
    "\n",
    "# Data parameters\n",
    "N = 10**6\n",
    "X = np.load('data/zenodo/fold/X_trn.npy')[:N]\n",
    "y = np.load('data/zenodo/fold/y_trn.npy')[:N].astype('float32')\n",
    "data, m, s = split_data(X, y)"
   ]
  },
  {
   "cell_type": "code",
   "execution_count": 12,
   "id": "928ed293-7c7a-4dad-9677-b82cd3e58be1",
   "metadata": {},
   "outputs": [
    {
     "name": "stdout",
     "output_type": "stream",
     "text": [
      "0.14965758 0.15323049 0.1507466\n",
      "0.003114576 0.005368213 0.0036274202\n"
     ]
    }
   ],
   "source": [
    "lrs_1 = [None] * reps\n",
    "lrs_2 = [None] * reps\n",
    "lrs_3 = [None] * reps\n",
    "\n",
    "for i in range(reps):\n",
    "    model_1 = create_model(**params_1)\n",
    "    model_2 = create_model(**params_2)\n",
    "    model_3 = create_model(**params_3)\n",
    "    \n",
    "    model_1.load_weights(filestr_1.format(i))\n",
    "    model_2.load_weights(filestr_2.format(i))\n",
    "    model_3.load_weights(filestr_3.format(i))\n",
    "    \n",
    "    lrs_1[i] = odds_lr(model_1, m, s)\n",
    "    lrs_2[i] = tanh_lr(model_2, m, s)\n",
    "    lrs_3[i] = arctan_lr(model_3, m, s)\n",
    "\n",
    "# Calculate mean absolute errors\n",
    "maes_1 = [mae(lr) for lr in lrs_1]\n",
    "maes_2 = [mae(lr) for lr in lrs_2]\n",
    "maes_3 = [mae(lr) for lr in lrs_3]\n",
    "\n",
    "avg_1 = np.mean(maes_1)\n",
    "avg_2 = np.mean(maes_2)\n",
    "avg_3 = np.mean(maes_3, where = ~np.isnan(maes_3))\n",
    "\n",
    "std_1 = np.std(maes_1, ddof = 1)\n",
    "std_2 = np.std(maes_2, ddof = 1)\n",
    "std_3 = np.std(maes_3, ddof = 1)\n",
    "\n",
    "abs_dif_1 = np.array([abs(lr(X_mae) - lr_tst) for lr in lrs_1])\n",
    "abs_dif_2 = np.array([abs(lr(X_mae) - lr_tst) for lr in lrs_2])\n",
    "abs_dif_3 = np.array([abs(lr(X_mae) - lr_tst) for lr in lrs_3])\n",
    "\n",
    "# Save results\n",
    "np.save(filestr + 'maes_1.npy', maes_1)\n",
    "np.save(filestr + 'maes_2.npy', maes_2)\n",
    "np.save(filestr + 'maes_3.npy', maes_3)\n",
    "\n",
    "np.save(filestr + 'avg_1.npy', avg_1)\n",
    "np.save(filestr + 'avg_2.npy', avg_2)\n",
    "np.save(filestr + 'avg_3.npy', avg_3)\n",
    "\n",
    "np.save(filestr + 'std_1.npy', std_1)\n",
    "np.save(filestr + 'std_2.npy', std_2)\n",
    "np.save(filestr + 'std_3.npy', std_3)\n",
    "\n",
    "np.save(filestr + 'abs_dif_1.npy', abs_dif_1)\n",
    "np.save(filestr + 'abs_dif_2.npy', abs_dif_2)\n",
    "np.save(filestr + 'abs_dif_3.npy', abs_dif_3)\n",
    "\n",
    "print(avg_1, avg_2, avg_3)\n",
    "print(std_1, std_2, std_3)"
   ]
  },
  {
   "cell_type": "code",
   "execution_count": null,
   "id": "499652e2-1cc0-467f-ae83-7db55c0a7695",
   "metadata": {},
   "outputs": [],
   "source": [
    "abs_dif_1 = np.load(filestr + 'abs_dif_1.npy')\n",
    "(abs_dif_1 > 100).mean()"
   ]
  },
  {
   "cell_type": "code",
   "execution_count": null,
   "id": "bdf098b1-7914-499a-aad5-f9d3b6181995",
   "metadata": {},
   "outputs": [],
   "source": [
    "aa = abs_dif_1.flatten()\n",
    "bb = abs_dif_2.flatten()\n",
    "cc = abs_dif_3.flatten()\n",
    "\n",
    "ts = np.linspace(0, 20)\n",
    "plt.plot(ts, [(aa < t).mean() for t in ts], label = r'$\\sigma(z)$')\n",
    "plt.plot(ts, [(bb < t).mean() for t in ts], label = r'$\\frac{1}{2}\\left(\\tanh{z} + 1\\right)$')\n",
    "plt.plot(ts, [(cc < t).mean() for t in ts], label = r'$\\frac{1}{\\pi}\\left(\\arctan{z} + \\frac{\\pi}{2}\\right)$')\n",
    "plt.legend()\n",
    "\n",
    "plt.xlabel(r'$t$')\n",
    "plt.ylabel(r'$\\text{Pr}\\left(\\Big|\\mathcal{L}(X) - \\mathcal{L}_\\text{MSE}(X)\\Big| < t\\right)$')\n",
    "plt.title(r'MSE Likelihood Ratios Absolute Differences')\n",
    "\n",
    "plt.savefig('plots/zenodo/mse_threshold_plot.png', \n",
    "            dpi=300, \n",
    "            bbox_inches='tight')"
   ]
  },
  {
   "cell_type": "markdown",
   "id": "3cadcc88-597b-4b61-a6b3-b3d1c11ea787",
   "metadata": {
    "jp-MarkdownHeadingCollapsed": true,
    "tags": []
   },
   "source": [
    "## MLC"
   ]
  },
  {
   "cell_type": "code",
   "execution_count": 13,
   "id": "c6e21fa2-f50c-4582-853f-1ea132efdb63",
   "metadata": {},
   "outputs": [],
   "source": [
    "# Experiment parameters\n",
    "num = 0\n",
    "reps = 100\n",
    "\n",
    "# Model parameters\n",
    "params_1 = {'loss':mlc, 'd': 4, 'output': 'relu'}\n",
    "params_2 = {'loss':square_mlc, 'd': 4, 'output': 'linear'}\n",
    "params_3 = {'loss':exp_mlc, 'd': 4, 'output': 'linear'}\n",
    "\n",
    "filestr = 'models/zenodo/c_mlc/set_{}/'.format(num)\n",
    "filestr_1 = filestr + 'relu/model_{}.h5'\n",
    "filestr_2 = filestr + 'square/model_{}.h5'\n",
    "filestr_3 = filestr + 'exponential/model_{}.h5'\n",
    "\n",
    "# Data parameters\n",
    "N = 10**6\n",
    "X = np.load('data/zenodo/fold/X_trn.npy')[:N]\n",
    "y = np.load('data/zenodo/fold/y_trn.npy')[:N].astype('float32')\n",
    "data, m, s = split_data(X, y)"
   ]
  },
  {
   "cell_type": "code",
   "execution_count": 14,
   "id": "1b8e229b-4e69-4f2c-9b02-314d8a698fd7",
   "metadata": {
    "tags": []
   },
   "outputs": [
    {
     "name": "stdout",
     "output_type": "stream",
     "text": [
      "0.18895239 0.2480759 0.14602703\n",
      "0.005693832 0.16634241 0.004604917\n"
     ]
    }
   ],
   "source": [
    "lrs_1 = [None] * reps\n",
    "lrs_2 = [None] * reps\n",
    "lrs_3 = [None] * reps\n",
    "\n",
    "for i in range(reps):\n",
    "    model_1 = create_model(**params_1)\n",
    "    model_2 = create_model(**params_2)\n",
    "    model_3 = create_model(**params_3)\n",
    "    \n",
    "    model_1.load_weights(filestr_1.format(i))\n",
    "    model_2.load_weights(filestr_2.format(i))\n",
    "    model_3.load_weights(filestr_3.format(i))\n",
    "    \n",
    "    lrs_1[i] = pure_lr(model_1, m, s)\n",
    "    lrs_2[i] = square_lr(model_2, m, s)\n",
    "    lrs_3[i] = exp_lr(model_3, m, s)\n",
    "\n",
    "# Calculate mean absolute errors\n",
    "maes_1 = [mae(lr) for lr in lrs_1]\n",
    "maes_2 = [mae(lr) for lr in lrs_2]\n",
    "maes_3 = [mae(lr) for lr in lrs_3]\n",
    "\n",
    "avg_1 = np.mean(maes_1)\n",
    "avg_2 = np.mean(maes_2)\n",
    "avg_3 = np.mean(maes_3, where = ~np.isnan(maes_3))\n",
    "\n",
    "std_1 = np.std(maes_1, ddof = 1)\n",
    "std_2 = np.std(maes_2, ddof = 1)\n",
    "std_3 = np.std(maes_3, ddof = 1)\n",
    "\n",
    "abs_dif_1 = np.array([abs(lr(X_mae) - lr_tst) for lr in lrs_1])\n",
    "abs_dif_2 = np.array([abs(lr(X_mae) - lr_tst) for lr in lrs_2])\n",
    "abs_dif_3 = np.array([abs(lr(X_mae) - lr_tst) for lr in lrs_3])\n",
    "\n",
    "# Save results\n",
    "np.save(filestr + 'maes_1.npy', maes_1)\n",
    "np.save(filestr + 'maes_2.npy', maes_2)\n",
    "np.save(filestr + 'maes_3.npy', maes_3)\n",
    "\n",
    "np.save(filestr + 'avg_1.npy', avg_1)\n",
    "np.save(filestr + 'avg_2.npy', avg_2)\n",
    "np.save(filestr + 'avg_3.npy', avg_3)\n",
    "\n",
    "np.save(filestr + 'std_1.npy', std_1)\n",
    "np.save(filestr + 'std_2.npy', std_2)\n",
    "np.save(filestr + 'std_3.npy', std_3)\n",
    "\n",
    "np.save(filestr + 'abs_dif_1.npy', abs_dif_1)\n",
    "np.save(filestr + 'abs_dif_2.npy', abs_dif_2)\n",
    "np.save(filestr + 'abs_dif_3.npy', abs_dif_3)\n",
    "\n",
    "print(avg_1, avg_2, avg_3)\n",
    "print(std_1, std_2, std_3)"
   ]
  },
  {
   "cell_type": "code",
   "execution_count": null,
   "id": "f74be4e3-5088-4558-bdfd-00d476a74fd3",
   "metadata": {},
   "outputs": [],
   "source": [
    "abs_dif_3 = np.load(filestr + 'abs_dif_3.npy')\n",
    "(abs_dif_3 > 100).mean()"
   ]
  },
  {
   "cell_type": "code",
   "execution_count": null,
   "id": "da2dff01-f636-4b8e-9728-f9920be63be2",
   "metadata": {},
   "outputs": [],
   "source": [
    "aa = abs_dif_1.flatten()\n",
    "bb = abs_dif_2.flatten()\n",
    "cc = abs_dif_3.flatten()\n",
    "\n",
    "ts = np.linspace(0, 20)\n",
    "plt.plot(ts, [(aa < t).mean() for t in ts], label = r'${\\rm ReLU}(z)$')\n",
    "plt.plot(ts, [(bb < t).mean() for t in ts], label = r'$z^2$')\n",
    "plt.plot(ts, [(cc < t).mean() for t in ts], label = r'$\\exp(z)$')\n",
    "plt.legend()\n",
    "\n",
    "plt.xlabel(r'$t$')\n",
    "plt.ylabel(r'$\\text{Pr}\\left(\\Big|\\mathcal{L}(X) - \\mathcal{L}_\\text{MLC}(X)\\Big| < t\\right)$')\n",
    "plt.title(r'MLC Likelihood Ratios Absolute Differences')\n",
    "\n",
    "plt.savefig('plots/zenodo/mlc_threshold_plot.png', \n",
    "            dpi=300, \n",
    "            bbox_inches='tight')"
   ]
  },
  {
   "cell_type": "markdown",
   "id": "d3916ccb-334b-4f01-974e-0a98c41f9f1a",
   "metadata": {
    "jp-MarkdownHeadingCollapsed": true,
    "tags": []
   },
   "source": [
    "## SQR"
   ]
  },
  {
   "cell_type": "code",
   "execution_count": 15,
   "id": "325de8ea-3b28-4caf-ba25-4418e633199c",
   "metadata": {},
   "outputs": [],
   "source": [
    "# Experiment parameters\n",
    "num = 0\n",
    "reps = 100\n",
    "\n",
    "# Model parameters\n",
    "params_1 = {'loss':sqr, 'd': 4, 'output': 'relu'}\n",
    "params_2 = {'loss':square_sqr, 'd': 4, 'output': 'linear'}\n",
    "params_3 = {'loss':exp_sqr, 'd': 4, 'output': 'linear'}\n",
    "\n",
    "filestr = 'models/zenodo/c_sqr/set_{}/'.format(num)\n",
    "filestr_1 = filestr + 'relu/model_{}.h5'\n",
    "filestr_2 = filestr + 'square/model_{}.h5'\n",
    "filestr_3 = filestr + 'exponential/model_{}.h5'\n",
    "\n",
    "# Data parameters\n",
    "N = 10**6\n",
    "X = np.load('data/zenodo/fold/X_trn.npy')[:N]\n",
    "y = np.load('data/zenodo/fold/y_trn.npy')[:N].astype('float32')\n",
    "data, m, s = split_data(X, y)"
   ]
  },
  {
   "cell_type": "code",
   "execution_count": 16,
   "id": "f25da792-8da7-414f-9447-38c1e0e95acb",
   "metadata": {},
   "outputs": [
    {
     "name": "stderr",
     "output_type": "stream",
     "text": [
      "/tmp/ipykernel_8489/3780721232.py:4: RuntimeWarning: Mean of empty slice.\n",
      "  return abs_dif[abs_dif < 100].mean()\n",
      "/clusterfs/ml4hep/shahzar/miniconda/envs/multifold/lib/python3.10/site-packages/numpy/core/_methods.py:190: RuntimeWarning: invalid value encountered in divide\n",
      "  ret = ret.dtype.type(ret / rcount)\n"
     ]
    },
    {
     "name": "stdout",
     "output_type": "stream",
     "text": [
      "0.2643403 0.817614 0.14872888\n",
      "0.053267647 0.19081235 0.003600114\n"
     ]
    }
   ],
   "source": [
    "lrs_1 = [None] * reps\n",
    "lrs_2 = [None] * reps\n",
    "lrs_3 = [None] * reps\n",
    "\n",
    "for i in range(reps):\n",
    "    model_1 = create_model(**params_1)\n",
    "    model_2 = create_model(**params_2)\n",
    "    model_3 = create_model(**params_3)\n",
    "    \n",
    "    model_1.load_weights(filestr_1.format(i))\n",
    "    model_2.load_weights(filestr_2.format(i))\n",
    "    model_3.load_weights(filestr_3.format(i))\n",
    "    \n",
    "    lrs_1[i] = pure_lr(model_1, m, s)\n",
    "    lrs_2[i] = square_lr(model_2, m, s)\n",
    "    lrs_3[i] = exp_lr(model_3, m, s)\n",
    "\n",
    "# Calculate mean absolute errors\n",
    "maes_1 = [mae(lr) for lr in lrs_1]\n",
    "maes_2 = [mae(lr) for lr in lrs_2]\n",
    "maes_3 = [mae(lr) for lr in lrs_3]\n",
    "\n",
    "avg_1 = np.mean(maes_1)\n",
    "avg_2 = np.mean(maes_2, where = ~np.isnan(maes_2))\n",
    "avg_3 = np.mean(maes_3, where = ~np.isnan(maes_3))\n",
    "\n",
    "std_1 = np.std(maes_1, ddof = 1)\n",
    "std_2 = np.std(maes_2, ddof = 1, where = ~np.isnan(maes_2))\n",
    "std_3 = np.std(maes_3, ddof = 1)\n",
    "\n",
    "abs_dif_1 = np.array([abs(lr(X_mae) - lr_tst) for lr in lrs_1])\n",
    "abs_dif_2 = np.array([abs(lr(X_mae) - lr_tst) for lr in lrs_2])\n",
    "abs_dif_3 = np.array([abs(lr(X_mae) - lr_tst) for lr in lrs_3])\n",
    "\n",
    "# Save results\n",
    "np.save(filestr + 'maes_1.npy', maes_1)\n",
    "np.save(filestr + 'maes_2.npy', maes_2)\n",
    "np.save(filestr + 'maes_3.npy', maes_3)\n",
    "\n",
    "np.save(filestr + 'avg_1.npy', avg_1)\n",
    "np.save(filestr + 'avg_2.npy', avg_2)\n",
    "np.save(filestr + 'avg_3.npy', avg_3)\n",
    "\n",
    "np.save(filestr + 'std_1.npy', std_1)\n",
    "np.save(filestr + 'std_2.npy', std_2)\n",
    "np.save(filestr + 'std_3.npy', std_3)\n",
    "\n",
    "np.save(filestr + 'abs_dif_1.npy', abs_dif_1)\n",
    "np.save(filestr + 'abs_dif_2.npy', abs_dif_2)\n",
    "np.save(filestr + 'abs_dif_3.npy', abs_dif_3)\n",
    "\n",
    "print(avg_1, avg_2, avg_3)\n",
    "print(std_1, std_2, std_3)"
   ]
  },
  {
   "cell_type": "code",
   "execution_count": null,
   "id": "11228eb7-df60-420a-b5b7-ff817d5f1a9d",
   "metadata": {},
   "outputs": [],
   "source": [
    "abs_dif_3 = np.load(filestr + 'abs_dif_3.npy')\n",
    "(abs_dif_3 > 100).mean()"
   ]
  },
  {
   "cell_type": "code",
   "execution_count": null,
   "id": "4df040e3-10c3-4c7c-b5d6-1aecb060e0c4",
   "metadata": {},
   "outputs": [],
   "source": [
    "aa = abs_dif_1.flatten()\n",
    "bb = abs_dif_2.flatten()\n",
    "cc = abs_dif_3.flatten()\n",
    "\n",
    "ts = np.linspace(0, 20)\n",
    "plt.plot(ts, [(aa < t).mean() for t in ts], label = r'${\\rm ReLU}(z)$')\n",
    "plt.plot(ts, [(bb < t).mean() for t in ts], label = r'$z^2$')\n",
    "plt.plot(ts, [(cc < t).mean() for t in ts], label = r'$\\exp(z)$')\n",
    "plt.legend()\n",
    "\n",
    "plt.xlabel(r'$t$')\n",
    "plt.ylabel(r'$\\text{Pr}\\left(\\Big|\\mathcal{L}(X) - \\mathcal{L}_\\text{SQR}(X)\\Big| < t\\right)$')\n",
    "plt.title(r'SQR Likelihood Ratios Absolute Differences')\n",
    "\n",
    "plt.savefig('plots/zenodo/sqr_threshold_plot.png', \n",
    "            dpi=300, \n",
    "            bbox_inches='tight')"
   ]
  },
  {
   "cell_type": "markdown",
   "id": "6513c98b-f6d8-4634-95b5-2cf5858e14e1",
   "metadata": {
    "tags": []
   },
   "source": [
    "## AB MSE"
   ]
  },
  {
   "cell_type": "code",
   "execution_count": 4,
   "id": "db897521-4fe9-466f-aaf4-d2ad57dfb755",
   "metadata": {},
   "outputs": [],
   "source": [
    "# Experiment parameters\n",
    "num = 0\n",
    "reps = 20\n",
    "\n",
    "# File parameters\n",
    "filestr = 'models/zenodo/ab_mse/set_{}/'.format(num)\n",
    "mse_filestr = filestr + 'model_{}_{}.h5'\n",
    "\n",
    "# Data parameters\n",
    "N = 10**6\n",
    "X = np.load('data/zenodo/fold/X_trn.npy')[:N]\n",
    "y = np.load('data/zenodo/fold/y_trn.npy')[:N].astype('float32')\n",
    "data, m, s = split_data(X, y)\n",
    "\n",
    "ps = np.round(np.linspace(-2, 2, 101), 2)"
   ]
  },
  {
   "cell_type": "code",
   "execution_count": null,
   "id": "70170ff3-8086-4ecc-8280-f736213f1864",
   "metadata": {},
   "outputs": [],
   "source": [
    "# Get model likelihood ratios.\n",
    "avgs = []\n",
    "for p in ps:\n",
    "    print(p, end = '\\t')\n",
    "    lrs = [None] * reps\n",
    "    params = {'loss':get_mse(p), 'd': 4}\n",
    "    for i in range(reps):\n",
    "        model = create_model(**params)\n",
    "        model.load_weights(mse_filestr.format(p, i))\n",
    "        lrs[i] = pow_odds_lr(model, p, m, s)\n",
    "    \n",
    "    maes = [mae(lr) for lr in lrs]\n",
    "    avgs += [np.mean(maes)]\n",
    "\n",
    "avgs = np.array(avgs)"
   ]
  },
  {
   "cell_type": "code",
   "execution_count": null,
   "id": "0d7f842f-af6c-47b8-b91f-e9d31057046c",
   "metadata": {},
   "outputs": [],
   "source": [
    "# Save results\n",
    "np.save(filestr + 'avgs', avgs)"
   ]
  },
  {
   "cell_type": "code",
   "execution_count": 5,
   "id": "2c06e29c-6b53-4824-99f6-58efc248e506",
   "metadata": {},
   "outputs": [],
   "source": [
    "avgs = np.load(filestr + 'avgs.npy')"
   ]
  },
  {
   "cell_type": "code",
   "execution_count": 10,
   "id": "256bf022-1545-4ae7-9fc8-10ace314a0de",
   "metadata": {},
   "outputs": [
    {
     "data": {
      "text/plain": [
       "array([-0.28])"
      ]
     },
     "execution_count": 10,
     "metadata": {},
     "output_type": "execute_result"
    }
   ],
   "source": [
    "ps[avgs == np.nanmin(avgs)]"
   ]
  },
  {
   "cell_type": "code",
   "execution_count": null,
   "id": "b1c60f67-b39d-4f2e-9562-8e52aef9aa2e",
   "metadata": {},
   "outputs": [],
   "source": [
    "w = 3.5\n",
    "h = 3.25              # Plots have dimension (w,h)\n",
    "\n",
    "plt.figure(figsize = (w, h))\n",
    "\n",
    "plt.plot(ps, avgs, c='blue', lw = 0.75)\n",
    "\n",
    "plt.minorticks_on()\n",
    "plt.tick_params(which = 'minor', length = 3)\n",
    "plt.tick_params(which = 'major', length = 5)\n",
    "plt.tick_params(which = 'both', direction='in')\n",
    "plt.ylabel('Mean Absolute Error')\n",
    "plt.xlabel(r'$p$')\n",
    "plt.ylim(0, 1.25)\n",
    "\n",
    "plt.title(r\"\\it $A/B$ Parametrization\",loc=\"right\");\n",
    "plt.savefig('plots/paper/ab_mse_zenodo.png', \n",
    "            dpi=300, \n",
    "            bbox_inches='tight')"
   ]
  },
  {
   "cell_type": "markdown",
   "id": "525c8a66-8e9b-4002-96ec-eedd2b1a4f93",
   "metadata": {
    "jp-MarkdownHeadingCollapsed": true,
    "tags": []
   },
   "source": [
    "## AB SQR"
   ]
  },
  {
   "cell_type": "code",
   "execution_count": 11,
   "id": "fd334724-1f8b-436b-9e49-4503f5ceb345",
   "metadata": {},
   "outputs": [],
   "source": [
    "# Experiment parameters\n",
    "num = 0\n",
    "reps = 20\n",
    "\n",
    "# File parameters\n",
    "filestr = 'models/zenodo/ab_sqr/set_{}/'.format(num)\n",
    "lin_filestr = filestr + 'relu/model_{}_{}.h5'\n",
    "exp_filestr = filestr + 'exponential/model_{}_{}.h5'\n",
    "\n",
    "# Data parameters\n",
    "N = 10**6\n",
    "X = np.load('data/zenodo/fold/X_trn.npy')[:N]\n",
    "y = np.load('data/zenodo/fold/y_trn.npy')[:N].astype('float32')\n",
    "data, m, s = split_data(X, y)\n",
    "\n",
    "rs = np.sort(np.append(np.round(np.linspace(-2, 2, 81), 2),\n",
    "                       np.round(np.linspace(-0.05, 0.05, 26), 3)[1:-1]))"
   ]
  },
  {
   "cell_type": "code",
   "execution_count": null,
   "id": "6fb33fad-86c8-4532-b713-ddbbe3597496",
   "metadata": {},
   "outputs": [],
   "source": [
    "lin_avgs = []\n",
    "exp_avgs = []\n",
    "\n",
    "for r in rs:\n",
    "    print(r, end = '\\t')\n",
    "    lin_lrs = [None] * reps\n",
    "    exp_lrs = [None] * reps\n",
    "    lin_params = {'loss': get_sqr(r), 'd': 4, 'output':'relu'}\n",
    "    exp_params = {'loss': get_exp_sqr(r), 'd': 4, 'output':'linear'}\n",
    "    \n",
    "    for i in range(reps):\n",
    "        lin_model = create_model(**lin_params)\n",
    "        exp_model = create_model(**exp_params)\n",
    "        \n",
    "        lin_model.load_weights(lin_filestr.format(r, i))\n",
    "        exp_model.load_weights(exp_filestr.format(r, i))\n",
    "        \n",
    "        lin_lrs[i] = pow_lr(lin_model, r, m, s)\n",
    "        exp_lrs[i] = pow_exp_lr(exp_model, r, m, s)\n",
    "    \n",
    "    lin_maes = [mae(lr) for lr in lin_lrs]\n",
    "    exp_maes = [mae(lr) for lr in exp_lrs]\n",
    "    \n",
    "    lin_avgs += [np.mean(lin_maes)]\n",
    "    exp_avgs += [np.mean(exp_maes)]"
   ]
  },
  {
   "cell_type": "code",
   "execution_count": null,
   "id": "feb0b698-a0b7-4a15-a413-d4d10cea1406",
   "metadata": {},
   "outputs": [],
   "source": [
    "# Save results\n",
    "lin_avgs = np.array(lin_avgs)\n",
    "exp_avgs = np.array(exp_avgs)\n",
    "\n",
    "np.save(filestr + 'lin_avgs', lin_avgs)\n",
    "np.save(filestr + 'exp_avgs', exp_avgs)"
   ]
  },
  {
   "cell_type": "code",
   "execution_count": 12,
   "id": "e569dab1-2a10-459c-a45b-9e678dd05123",
   "metadata": {},
   "outputs": [
    {
     "data": {
      "text/plain": [
       "(array([0.3]), array([-1.3]))"
      ]
     },
     "execution_count": 12,
     "metadata": {},
     "output_type": "execute_result"
    }
   ],
   "source": [
    "lin_avgs = np.load(filestr + 'lin_avgs.npy')\n",
    "exp_avgs = np.load(filestr + 'exp_avgs.npy')\n",
    "\n",
    "rs[lin_avgs == min(lin_avgs)], rs[exp_avgs == min(exp_avgs)]"
   ]
  },
  {
   "cell_type": "code",
   "execution_count": null,
   "id": "e45c9481-f9c4-4f30-8fc3-ee9bed466109",
   "metadata": {},
   "outputs": [],
   "source": [
    "w = 3.5\n",
    "h = 3.25              # Plots have dimension (w,h)\n",
    "\n",
    "plt.figure(figsize = (w, h))\n",
    "\n",
    "plt.plot(rs, lin_avgs, label=r'$\\text{ReLU}(z)$', c='blue', lw = 0.75)\n",
    "plt.plot(rs, exp_avgs, label=r'$\\exp{z}$', c='red', lw = 0.75)\n",
    "plt.legend()\n",
    "\n",
    "plt.minorticks_on()\n",
    "plt.tick_params(which = 'minor', length = 3)\n",
    "plt.tick_params(which = 'major', length = 5)\n",
    "plt.tick_params(which = 'both', direction='in')\n",
    "plt.ylabel('Mean Absolute Error')\n",
    "plt.xlabel(r'$r$')\n",
    "#plt.ylim(0, 0.16)\n",
    "\n",
    "plt.title(r\"\\it $A/B$ Parametrization\",loc=\"right\");\n",
    "plt.savefig('plots/paper/ab_sqr_zenodo.png', \n",
    "            dpi=300, \n",
    "            bbox_inches='tight')"
   ]
  },
  {
   "cell_type": "markdown",
   "id": "95a0b6b6-90f5-4d43-89be-e18ca4ea98c5",
   "metadata": {
    "tags": []
   },
   "source": [
    "## $p^*$-MSE"
   ]
  },
  {
   "cell_type": "code",
   "execution_count": 31,
   "id": "9e2ee794-d3ce-4662-8b8b-35e6734f0d2e",
   "metadata": {},
   "outputs": [],
   "source": [
    "# Physics\n",
    "#num = 0    # p* search\n",
    "num = 1    # p*\n",
    "reps = 100\n",
    "\n",
    "# File parameters\n",
    "filestr = 'models/zenodo/ab_mse/set_{}/'.format(num)\n",
    "mse_filestr = filestr + 'model_{}.h5'\n",
    "\n",
    "if not os.path.isdir(filestr):\n",
    "    os.mkdir(filestr)\n",
    "\n",
    "# Data parameters\n",
    "N = 10**6\n",
    "X = np.load('data/zenodo/fold/X_trn.npy')[:N]\n",
    "y = np.load('data/zenodo/fold/y_trn.npy')[:N].astype('float32')\n",
    "data, m, s = split_data(X, y)\n",
    "p_star = -0.28"
   ]
  },
  {
   "cell_type": "code",
   "execution_count": 32,
   "id": "021a5652-befe-4308-b69c-9f2d1bd8e4a8",
   "metadata": {},
   "outputs": [
    {
     "name": "stdout",
     "output_type": "stream",
     "text": [
      "0\t1\t2\t3\t4\t5\t6\t7\t8\t9\t10\t11\t12\t13\t14\t15\t16\t17\t18\t19\t20\t21\t22\t23\t24\t25\t26\t27\t28\t29\t30\t31\t32\t33\t34\t35\t36\t37\t38\t39\t40\t41\t42\t43\t44\t45\t46\t47\t48\t49\t50\t51\t52\t53\t54\t55\t56\t57\t58\t59\t60\t61\t62\t63\t64\t65\t66\t67\t68\t69\t70\t71\t72\t73\t74\t75\t76\t77\t78\t79\t80\t81\t82\t83\t84\t85\t86\t87\t88\t89\t90\t91\t92\t93\t94\t95\t96\t97\t98\t99\t0.1504322 0.00044146166183054445\n"
     ]
    }
   ],
   "source": [
    "lrs = [None] * reps\n",
    "params = {'loss':get_mse(p_star), 'd': 4}\n",
    "\n",
    "for i in range(reps):\n",
    "    print(i, end = '\\t')\n",
    "    model = create_model(**params)\n",
    "    model.load_weights(mse_filestr.format(i))\n",
    "    lrs[i] = pow_odds_lr(model, p_star, m, s)\n",
    "\n",
    "# Calculate mean absolute errors\n",
    "maes = np.array([mae(lr) for lr in lrs])\n",
    "\n",
    "# Save results\n",
    "np.save(filestr + 'maes.npy', maes)\n",
    "print(np.mean(maes), np.std(maes, ddof = 1) / 10)"
   ]
  },
  {
   "cell_type": "markdown",
   "id": "6fb9d2bb-c8cb-4416-a0fb-a6fcf0b54e69",
   "metadata": {
    "tags": []
   },
   "source": [
    "## $r^*$-SQR"
   ]
  },
  {
   "cell_type": "code",
   "execution_count": 33,
   "id": "1c60bc7e-2e89-403e-8a74-e8051e78a120",
   "metadata": {},
   "outputs": [],
   "source": [
    "# Physics\n",
    "#num = 0 (r-SQR search)\n",
    "num = 1    # r*\n",
    "reps = 100\n",
    "\n",
    "# File parameters\n",
    "filestr = 'models/zenodo/ab_sqr/set_{}/'.format(num)\n",
    "sqr_filestr = filestr + 'model_{}.h5'\n",
    "\n",
    "if not os.path.isdir(filestr):\n",
    "    os.mkdir(filestr)\n",
    "\n",
    "# Data parameters\n",
    "N = 10**6\n",
    "X = np.load('data/zenodo/fold/X_trn.npy')[:N]\n",
    "y = np.load('data/zenodo/fold/y_trn.npy')[:N].astype('float32')\n",
    "data, m, s = split_data(X, y)\n",
    "\n",
    "r_star = -1.3"
   ]
  },
  {
   "cell_type": "code",
   "execution_count": 34,
   "id": "c5baa5e6-2d5e-40e1-8e3b-75c5e3ff17a4",
   "metadata": {},
   "outputs": [
    {
     "name": "stdout",
     "output_type": "stream",
     "text": [
      "0\t1\t2\t3\t4\t5\t6\t7\t8\t9\t10\t11\t12\t13\t14\t15\t16\t17\t18\t19\t20\t21\t22\t23\t24\t25\t26\t27\t28\t29\t30\t31\t32\t33\t34\t35\t36\t37\t38\t39\t40\t41\t42\t43\t44\t45\t46\t47\t48\t49\t50\t51\t52\t53\t54\t55\t56\t57\t58\t59\t60\t61\t62\t63\t64\t65\t66\t67\t68\t69\t70\t71\t72\t73\t74\t75\t76\t77\t78\t79\t80\t81\t82\t83\t84\t85\t86\t87\t88\t89\t90\t91\t92\t93\t94\t95\t96\t97\t98\t99\t0.1491074 0.0004665427841246128\n"
     ]
    }
   ],
   "source": [
    "lrs = [None] * reps\n",
    "params = {'loss':get_exp_sqr(r_star), 'd': 4, 'output': 'linear'}\n",
    "\n",
    "for i in range(reps):\n",
    "    print(i, end = '\\t')\n",
    "    model = create_model(**params)\n",
    "    model.load_weights(sqr_filestr.format(i))\n",
    "    lrs[i] = pow_exp_lr(model, r_star, m, s)\n",
    "\n",
    "# Calculate mean absolute errors\n",
    "maes = np.array([mae(lr) for lr in lrs])\n",
    "\n",
    "# Save results\n",
    "np.save(filestr + 'maes.npy', maes)\n",
    "print(np.mean(maes), np.std(maes, ddof = 1) / 10)"
   ]
  },
  {
   "cell_type": "markdown",
   "id": "b05201fd-358d-49c6-b1ee-30c2ba2aa0c7",
   "metadata": {
    "jp-MarkdownHeadingCollapsed": true,
    "tags": []
   },
   "source": [
    "# Check NaNs"
   ]
  },
  {
   "cell_type": "markdown",
   "id": "ea1d5ce4-9b46-489e-91a3-e96f6187ed99",
   "metadata": {},
   "source": [
    "## BCE"
   ]
  },
  {
   "cell_type": "code",
   "execution_count": null,
   "id": "f9af71de-fc35-4d19-9fb9-ad743d7c8518",
   "metadata": {},
   "outputs": [],
   "source": [
    "# Experiment parameters\n",
    "num = 0\n",
    "filestr = 'models/zenodo/c_bce/set_{}/'.format(num)\n",
    "\n",
    "# Data parameters\n",
    "N = 10**6\n",
    "X = np.load('data/zenodo/fold/X_trn.npy')[:N]\n",
    "X_mae = np.load('data/zenodo/fold/' + 'X_tst.npy')\n",
    "abs_dif_1 = np.load(filestr + 'abs_dif_1.npy')"
   ]
  },
  {
   "cell_type": "code",
   "execution_count": null,
   "id": "ee90407e-2162-458b-a9b1-f01a08c92eaa",
   "metadata": {},
   "outputs": [],
   "source": [
    "bad = X_mae[np.any(abs_dif_1 > 100, axis = 0)]"
   ]
  },
  {
   "cell_type": "code",
   "execution_count": null,
   "id": "60d943b3-864c-4c6a-bc10-23c585bbf07f",
   "metadata": {},
   "outputs": [],
   "source": [
    "plt.scatter(X[:, 0], X[:, 1], alpha = 0.01, label = 'Flow')\n",
    "plt.scatter(bad[:, 0], bad[:, 1], alpha = 0.5, c = 'red', label = '> 100')\n",
    "plt.xlabel(r'$p_T$')\n",
    "plt.ylabel(r'$\\eta$')\n",
    "plt.title('Points with BCE MAE Exceeding 100', loc = 'left')\n",
    "\n",
    "plt.savefig('plots/zenodo/bce_pt_eta.png', \n",
    "            dpi=300, \n",
    "            bbox_inches='tight')"
   ]
  },
  {
   "cell_type": "code",
   "execution_count": null,
   "id": "2d1dee53-9387-452b-b27f-106341aba034",
   "metadata": {},
   "outputs": [],
   "source": [
    "plt.scatter(X[:, 0], X[:, 2], alpha = 0.01, label = 'Flow')\n",
    "plt.scatter(bad[:, 0], bad[:, 2], alpha = 0.5, c = 'red', label = '> 100')\n",
    "plt.xlabel(r'$p_T$')\n",
    "plt.ylabel(r'$\\phi$')\n",
    "plt.title('Points with BCE MAE Exceeding 100', loc = 'left')\n",
    "\n",
    "plt.savefig('plots/zenodo/bce_pt_phi.png', \n",
    "            dpi=300, \n",
    "            bbox_inches='tight')"
   ]
  },
  {
   "cell_type": "code",
   "execution_count": null,
   "id": "8ff07d96-d2f4-4e2e-93b8-9ef16d5da7d1",
   "metadata": {},
   "outputs": [],
   "source": [
    "plt.scatter(X[:, 0], X[:, 3], alpha = 0.01, label = 'Flow')\n",
    "plt.scatter(bad[:, 0], bad[:, 3], alpha = 0.5, c = 'red', label = '> 100')\n",
    "plt.xlabel(r'$p_T$')\n",
    "plt.ylabel(r'$m$')\n",
    "plt.title('Points with BCE MAE Exceeding 100', loc = 'left')\n",
    "\n",
    "plt.savefig('plots/zenodo/bce_pt_m.png', \n",
    "            dpi=300, \n",
    "            bbox_inches='tight')"
   ]
  },
  {
   "cell_type": "code",
   "execution_count": null,
   "id": "2a81afae-015a-42fd-b7db-cf592be876f3",
   "metadata": {},
   "outputs": [],
   "source": [
    "plt.scatter(X[:, 1], X[:, 2], alpha = 0.01, label = 'Flow')\n",
    "plt.scatter(bad[:, 1], bad[:, 2], alpha = 0.5, c = 'red', label = '> 100')\n",
    "plt.xlabel(r'$\\eta$')\n",
    "plt.ylabel(r'$\\phi$')\n",
    "plt.title('Points with BCE MAE Exceeding 100', loc = 'left')\n",
    "\n",
    "plt.savefig('plots/zenodo/bce_eta_phi.png', \n",
    "            dpi=300, \n",
    "            bbox_inches='tight')"
   ]
  },
  {
   "cell_type": "code",
   "execution_count": null,
   "id": "b497a3e3-043b-4167-a6d0-9d5dac12b5a0",
   "metadata": {},
   "outputs": [],
   "source": [
    "plt.scatter(X[:, 1], X[:, 3], alpha = 0.01, label = 'Flow')\n",
    "plt.scatter(bad[:, 1], bad[:, 3], alpha = 0.5, c = 'red', label = '> 100')\n",
    "plt.xlabel(r'$\\eta$')\n",
    "plt.ylabel(r'$m$')\n",
    "plt.title('Points with BCE MAE Exceeding 100', loc = 'left')\n",
    "\n",
    "plt.savefig('plots/zenodo/bce_eta_m.png', \n",
    "            dpi=300, \n",
    "            bbox_inches='tight')"
   ]
  },
  {
   "cell_type": "code",
   "execution_count": null,
   "id": "6686c6fd-32c4-4f2b-9390-1b727ee3c121",
   "metadata": {},
   "outputs": [],
   "source": [
    "plt.scatter(X[:, 2], X[:, 3], alpha = 0.01, label = 'Flow')\n",
    "plt.scatter(bad[:, 2], bad[:, 3], alpha = 0.5, c = 'red', label = '> 100')\n",
    "plt.xlabel(r'$\\phi$')\n",
    "plt.ylabel(r'$m$')\n",
    "plt.title('Points with BCE MAE Exceeding 100', loc = 'left')\n",
    "\n",
    "plt.savefig('plots/zenodo/bce_phi_m.png', \n",
    "            dpi=300, \n",
    "            bbox_inches='tight')"
   ]
  },
  {
   "cell_type": "markdown",
   "id": "ad273b1d-5357-4d7b-8dc5-b50929824343",
   "metadata": {},
   "source": [
    "## MLC"
   ]
  },
  {
   "cell_type": "code",
   "execution_count": null,
   "id": "44026c8a-71b0-4488-8d4a-b06c6d7eea51",
   "metadata": {},
   "outputs": [],
   "source": [
    "# Experiment parameters\n",
    "num = 0\n",
    "filestr = 'models/zenodo/c_mlc/set_{}/'.format(num)\n",
    "\n",
    "# Data parameters\n",
    "N = 10**6\n",
    "X = np.load('data/zenodo/fold/X_trn.npy')[:N]\n",
    "X_mae = np.load('data/zenodo/fold/' + 'X_tst.npy')\n",
    "abs_dif_1 = np.load(filestr + 'abs_dif_1.npy')"
   ]
  },
  {
   "cell_type": "code",
   "execution_count": null,
   "id": "03be085f-2b37-4797-907c-620ddbbcb4bf",
   "metadata": {},
   "outputs": [],
   "source": [
    "bad = X_mae[np.any(abs_dif_1 > 100, axis = 0)]"
   ]
  },
  {
   "cell_type": "code",
   "execution_count": null,
   "id": "6bc8430c-f0ab-45c7-8283-2d0510cd5033",
   "metadata": {},
   "outputs": [],
   "source": [
    "plt.scatter(X[:, 0], X[:, 1], alpha = 0.01, label = 'Flow')\n",
    "plt.scatter(bad[:, 0], bad[:, 1], alpha = 0.5, c = 'red', label = '> 100')\n",
    "plt.xlabel(r'$p_T$')\n",
    "plt.ylabel(r'$\\eta$')\n",
    "plt.title('Points with MLC MAE Exceeding 100', loc = 'left')\n",
    "\n",
    "plt.savefig('plots/zenodo/mlc_pt_eta.png', \n",
    "            dpi=300, \n",
    "            bbox_inches='tight')"
   ]
  },
  {
   "cell_type": "code",
   "execution_count": null,
   "id": "be6e6157-b536-461f-a19d-0d5306f1748e",
   "metadata": {},
   "outputs": [],
   "source": [
    "plt.scatter(X[:, 0], X[:, 2], alpha = 0.01, label = 'Flow')\n",
    "plt.scatter(bad[:, 0], bad[:, 2], alpha = 0.5, c = 'red', label = '> 100')\n",
    "plt.xlabel(r'$p_T$')\n",
    "plt.ylabel(r'$\\phi$')\n",
    "plt.title('Points with MLC MAE Exceeding 100', loc = 'left')\n",
    "\n",
    "plt.savefig('plots/zenodo/mlc_pt_phi.png', \n",
    "            dpi=300, \n",
    "            bbox_inches='tight')"
   ]
  },
  {
   "cell_type": "code",
   "execution_count": null,
   "id": "5bb7ebe8-2dbf-43e9-9bd1-c367faf68ef6",
   "metadata": {},
   "outputs": [],
   "source": [
    "plt.scatter(X[:, 0], X[:, 3], alpha = 0.01, label = 'Flow')\n",
    "plt.scatter(bad[:, 0], bad[:, 3], alpha = 0.5, c = 'red', label = '> 100')\n",
    "plt.xlabel(r'$p_T$')\n",
    "plt.ylabel(r'$m$')\n",
    "plt.title('Points with MLC MAE Exceeding 100', loc = 'left')\n",
    "\n",
    "plt.savefig('plots/zenodo/mlc_pt_m.png', \n",
    "            dpi=300, \n",
    "            bbox_inches='tight')"
   ]
  },
  {
   "cell_type": "code",
   "execution_count": null,
   "id": "0c74ad51-d805-41ac-a110-bf94221af0cb",
   "metadata": {},
   "outputs": [],
   "source": [
    "plt.scatter(X[:, 1], X[:, 2], alpha = 0.01, label = 'Flow')\n",
    "plt.scatter(bad[:, 1], bad[:, 2], alpha = 0.5, c = 'red', label = '> 100')\n",
    "plt.xlabel(r'$\\eta$')\n",
    "plt.ylabel(r'$\\phi$')\n",
    "plt.title('Points with MLC MAE Exceeding 100', loc = 'left')\n",
    "\n",
    "plt.savefig('plots/zenodo/mlc_eta_phi.png', \n",
    "            dpi=300, \n",
    "            bbox_inches='tight')"
   ]
  },
  {
   "cell_type": "code",
   "execution_count": null,
   "id": "6fbb9616-718b-4cfe-a62c-45cde511c764",
   "metadata": {},
   "outputs": [],
   "source": [
    "plt.scatter(X[:, 1], X[:, 3], alpha = 0.01, label = 'Flow')\n",
    "plt.scatter(bad[:, 1], bad[:, 3], alpha = 0.5, c = 'red', label = '> 100')\n",
    "plt.xlabel(r'$\\eta$')\n",
    "plt.ylabel(r'$m$')\n",
    "plt.title('Points with MLC MAE Exceeding 100', loc = 'left')\n",
    "\n",
    "plt.savefig('plots/zenodo/mlc_eta_m.png', \n",
    "            dpi=300, \n",
    "            bbox_inches='tight')"
   ]
  },
  {
   "cell_type": "code",
   "execution_count": null,
   "id": "ff94535c-d967-47fe-aefd-84daf0f920c2",
   "metadata": {},
   "outputs": [],
   "source": [
    "plt.scatter(X[:, 2], X[:, 3], alpha = 0.01, label = 'Flow')\n",
    "plt.scatter(bad[:, 2], bad[:, 3], alpha = 0.5, c = 'red', label = '> 100')\n",
    "plt.xlabel(r'$\\phi$')\n",
    "plt.ylabel(r'$m$')\n",
    "plt.title('Points with MLC MAE Exceeding 100', loc = 'left')\n",
    "\n",
    "plt.savefig('plots/zenodo/mlc_phi_m.png', \n",
    "            dpi=300, \n",
    "            bbox_inches='tight')"
   ]
  },
  {
   "cell_type": "markdown",
   "id": "bad3fa74-f2c8-4ab3-b981-fc8bce934a40",
   "metadata": {
    "jp-MarkdownHeadingCollapsed": true,
    "tags": []
   },
   "source": [
    "# Random Slice"
   ]
  },
  {
   "cell_type": "code",
   "execution_count": 7,
   "id": "1e9f7a90-42a9-4a12-b1de-a95dacdf49e3",
   "metadata": {},
   "outputs": [],
   "source": [
    "X = np.load('data/zenodo/fold/X_trn.npy')\n",
    "y = np.load('data/zenodo/fold/y_trn.npy')"
   ]
  },
  {
   "cell_type": "code",
   "execution_count": 8,
   "id": "e0f2b0ba-de43-4510-a480-3ce3e82cd64d",
   "metadata": {},
   "outputs": [
    {
     "data": {
      "text/plain": [
       "ModeResult(mode=array([[218.1418   ,  -2.0407841,   4.4148946,  22.070618 ]],\n",
       "      dtype=float32), count=array([[9, 6, 8, 9]]))"
      ]
     },
     "execution_count": 8,
     "metadata": {},
     "output_type": "execute_result"
    }
   ],
   "source": [
    "stats.mode(X)"
   ]
  },
  {
   "cell_type": "code",
   "execution_count": 9,
   "id": "e891d375-58ae-409d-8abc-dd0f33ad9d3b",
   "metadata": {},
   "outputs": [],
   "source": [
    "mode_pT = 218\n",
    "mode_eta = 0\n",
    "mode_phi = 4.4\n",
    "mode_m = 22"
   ]
  },
  {
   "cell_type": "markdown",
   "id": "d004f2bf-031e-4447-8877-01688258cd1d",
   "metadata": {
    "tags": []
   },
   "source": [
    "## $\\phi$ Scan"
   ]
  },
  {
   "cell_type": "code",
   "execution_count": 10,
   "id": "709685a5-1369-4cd4-83aa-47df5d23d452",
   "metadata": {},
   "outputs": [],
   "source": [
    "# Get a one-dimensional slice of test points.\n",
    "phis = np.linspace(0, 2*np.pi, 1201).reshape(-1, 1)\n",
    "pTs = np.repeat(mode_pT, len(phis)).reshape(-1, 1)\n",
    "etas = np.repeat(mode_eta, len(phis)).reshape(-1, 1)\n",
    "ms = np.repeat(mode_m, len(phis)).reshape(-1, 1)\n",
    "\n",
    "xs = np.hstack([pTs, etas, phis, ms])\n",
    "var = phis\n",
    "var_label = r'$\\phi$'\n",
    "var_string = 'phi'\n",
    "\n",
    "lr_true = lr(xs)"
   ]
  },
  {
   "cell_type": "code",
   "execution_count": 11,
   "id": "d97e6387-b9fc-4428-a175-985aa9c1d4c4",
   "metadata": {},
   "outputs": [
    {
     "data": {
      "text/plain": [
       "[<matplotlib.lines.Line2D at 0x7f3ae0665360>]"
      ]
     },
     "execution_count": 11,
     "metadata": {},
     "output_type": "execute_result"
    },
    {
     "data": {
      "image/png": "[encoded data removed]",
      "text/plain": [
       "<Figure size 432x288 with 1 Axes>"
      ]
     },
     "metadata": {
      "needs_background": "light"
     },
     "output_type": "display_data"
    }
   ],
   "source": [
    "plt.plot(phis, lr_true)"
   ]
  },
  {
   "cell_type": "markdown",
   "id": "609ce1cc-c789-45e6-814f-627705a99ac9",
   "metadata": {
    "tags": []
   },
   "source": [
    "### BCE"
   ]
  },
  {
   "cell_type": "code",
   "execution_count": 34,
   "id": "26b154b4-2fce-40b1-9085-bc3e946310b7",
   "metadata": {},
   "outputs": [],
   "source": [
    "# Experiment parameters\n",
    "num = 0\n",
    "reps = 100\n",
    "\n",
    "# Model parameters\n",
    "params_1 = {'loss':bce, 'd':4}\n",
    "params_2 = {'loss':tanh_bce, 'd':4, 'output': 'linear'}\n",
    "params_3 = {'loss':arctan_bce, 'd':4,  'output': 'linear'}\n",
    "\n",
    "filestr = 'models/zenodo/c_bce/set_{}/'.format(num)\n",
    "filestr_1 = filestr + 'sigmoid/model_{}.h5'\n",
    "filestr_2 = filestr + 'tanh/model_{}.h5'\n",
    "filestr_3 = filestr + 'arctan/model_{}.h5'\n",
    "\n",
    "# Data parameters\n",
    "N = 10**6\n",
    "X = np.load('data/zenodo/fold/X_trn.npy')[:N]\n",
    "y = np.load('data/zenodo/fold/y_trn.npy')[:N].astype('float32')\n",
    "data, m, s = split_data(X, y)\n",
    "\n",
    "lr_calc_1 = odds_lr\n",
    "lr_calc_2 = tanh_lr\n",
    "lr_calc_3 = arctan_lr\n",
    "\n",
    "# Plotting\n",
    "w = 3.5\n",
    "h = 3.25\n",
    "labels = [r'$\\sigma(z)$', r'$\\frac{1}{2}\\left(\\tanh{z} + 1\\right)$', r'$\\frac{1}{\\pi}\\left(\\arctan{z} + \\frac{\\pi}{2}\\right)$']\n",
    "y_lim = (0, 3)\n",
    "title = r'\\it BCE $\\phi$ Scan'\n",
    "filename = 'plots/zenodo/scans/bce_phi.png'"
   ]
  },
  {
   "cell_type": "code",
   "execution_count": 35,
   "id": "09c98be5-e08e-4820-8118-9cbe11f2937d",
   "metadata": {},
   "outputs": [
    {
     "name": "stdout",
     "output_type": "stream",
     "text": [
      "0 1 2 3 4 5 6 7 8 9 10 11 12 13 14 15 16 17 18 19 20 21 22 23 24 25 26 27 28 29 30 31 32 33 34 35 36 37 38 39 40 41 42 43 44 45 46 47 48 49 50 51 52 53 54 55 56 57 58 59 60 61 62 63 64 65 66 67 68 69 70 71 72 73 74 75 76 77 78 79 80 81 82 83 84 85 86 87 88 89 90 91 92 93 94 95 96 97 98 99 "
     ]
    }
   ],
   "source": [
    "lrs_1 = [None] * reps\n",
    "lrs_2 = [None] * reps\n",
    "lrs_3 = [None] * reps\n",
    "\n",
    "for i in range(reps):\n",
    "    print(i, end = ' ')\n",
    "    model_1 = create_model(**params_1)\n",
    "    model_2 = create_model(**params_2)\n",
    "    model_3 = create_model(**params_3)\n",
    "    \n",
    "    model_1.load_weights(filestr_1.format(i))\n",
    "    model_2.load_weights(filestr_2.format(i))\n",
    "    model_3.load_weights(filestr_3.format(i))\n",
    "    \n",
    "    lrs_1[i] = lr_calc_1(model_1, m, s)\n",
    "    lrs_2[i] = lr_calc_2(model_2, m, s)\n",
    "    lrs_3[i] = lr_calc_3(model_3, m, s)"
   ]
  },
  {
   "cell_type": "code",
   "execution_count": 36,
   "id": "f67aeaa4-d858-4caa-b8d6-7990bc68c074",
   "metadata": {},
   "outputs": [],
   "source": [
    "# Calculate predictions\n",
    "preds_1 = get_preds(lrs_1, xs)\n",
    "preds_2 = get_preds(lrs_2, xs)\n",
    "preds_3 = get_preds(lrs_3, xs)\n",
    "\n",
    "# Save results\n",
    "np.save(filestr + 'scans/{}/xs.npy'.format(var_string), xs)\n",
    "np.save(filestr + 'scans/{}/preds_1.npy'.format(var_string), preds_1)\n",
    "np.save(filestr + 'scans/{}/preds_2.npy'.format(var_string), preds_2)\n",
    "np.save(filestr + 'scans/{}/preds_3.npy'.format(var_string), preds_3)"
   ]
  },
  {
   "cell_type": "code",
   "execution_count": 37,
   "id": "2c3f1f1d-5f76-4879-bced-82edcc803e1f",
   "metadata": {},
   "outputs": [],
   "source": [
    "ensembles = [preds_1, preds_2, preds_3]\n",
    "n = len(ensembles)\n",
    "\n",
    "lrs = [None] * n\n",
    "lrrs = [None] * n\n",
    "for i in range(n):\n",
    "    lrs[i] = avg_lr(ensembles[i])\n",
    "    lrrs[i] = avg_lrr(lr, ensembles[i], xs)"
   ]
  },
  {
   "cell_type": "code",
   "execution_count": 38,
   "id": "a4bd0960-a081-4c3c-ac83-93e0ca570dcc",
   "metadata": {},
   "outputs": [],
   "source": [
    "cs = ['crimson', 'orangered', 'darkorange']\n",
    "lss = [':', '--', '-.']"
   ]
  },
  {
   "cell_type": "code",
   "execution_count": 39,
   "id": "ac075fe2-34bc-40fc-aa1d-e642b4221ea8",
   "metadata": {},
   "outputs": [
    {
     "data": {
      "image/png": "[encoded data removed]",
      "text/plain": [
       "<Figure size 252x234 with 2 Axes>"
      ]
     },
     "metadata": {
      "needs_background": "light"
     },
     "output_type": "display_data"
    }
   ],
   "source": [
    "fig, axs = plt.subplots(2, 1,\n",
    "                        figsize = (w, h),\n",
    "                        sharex = True, \n",
    "                        gridspec_kw = {'height_ratios': [2, 1]})\n",
    "\n",
    "if title:\n",
    "    axs[0].set_title(title, loc = 'right')\n",
    "\n",
    "# Plot likelihood ratios\n",
    "axs[0].plot(var, lr_true, label = 'Exact', c = 'k', lw = 0.75)\n",
    "\n",
    "for i in range(n):\n",
    "    axs[0].plot(var, \n",
    "                lrs[i], \n",
    "                label = labels[i],\n",
    "                c = cs[i % len(cs)], \n",
    "                ls = lss[i % len(lss)],\n",
    "                lw = 0.75)\n",
    "\n",
    "axs[0].set_xlim(var[0], var[-1])\n",
    "if y_lim:\n",
    "    axs[0].set_ylim(y_lim[0], y_lim[1])\n",
    "axs[0].legend()\n",
    "axs[0].minorticks_on()\n",
    "axs[0].tick_params(which = 'minor', length = 3)\n",
    "axs[0].tick_params(which = 'major', length = 5)\n",
    "axs[0].tick_params(which = 'both', direction='in')\n",
    "axs[0].set_ylabel('$\\mathcal{L}(x)$')\n",
    "axs[0].legend(frameon = False)\n",
    "\n",
    "# Plot likelihood ratio ratios\n",
    "for i in range(n):\n",
    "    axs[1].plot(var, \n",
    "                lrrs[i],\n",
    "                c = cs[i % len(cs)],\n",
    "                ls = lss[i % len(lss)],\n",
    "                lw = 0.75)\n",
    "\n",
    "axs[1].axhline(1,ls=\":\",color=\"grey\", lw=0.5)\n",
    "axs[1].axvline(0,ls=\":\",color=\"grey\", lw=0.5)\n",
    "axs[1].set_ylim(0.85, 1.15);\n",
    "axs[1].minorticks_on()\n",
    "axs[1].tick_params(which = 'minor', length = 3)\n",
    "axs[1].tick_params(which = 'major', length = 5)\n",
    "axs[1].tick_params(which = 'both', direction='in')\n",
    "axs[1].set_ylabel('Ratio')\n",
    "\n",
    "plt.subplots_adjust(hspace = 0.1)\n",
    "plt.xlabel(var_label)\n",
    "\n",
    "if filename:\n",
    "    plt.savefig(filename, \n",
    "                dpi = 300,\n",
    "                transparent = True,\n",
    "                bbox_inches = 'tight')"
   ]
  },
  {
   "cell_type": "markdown",
   "id": "72374ad5-e6b3-4134-988b-582feeb5f62d",
   "metadata": {
    "jp-MarkdownHeadingCollapsed": true,
    "tags": []
   },
   "source": [
    "### MSE"
   ]
  },
  {
   "cell_type": "code",
   "execution_count": 17,
   "id": "da7a3fc7-920c-4b07-9a9a-169a0af798ef",
   "metadata": {},
   "outputs": [],
   "source": [
    "# Experiment parameters\n",
    "num = 0\n",
    "reps = 100\n",
    "\n",
    "# Model parameters\n",
    "params_1 = {'loss':mse, 'd':4}\n",
    "params_2 = {'loss':tanh_mse, 'd':4, 'output': 'linear'}\n",
    "params_3 = {'loss':arctan_mse, 'd':4,  'output': 'linear'}\n",
    "\n",
    "filestr = 'models/zenodo/c_mse/set_{}/'.format(num)\n",
    "filestr_1 = filestr + 'sigmoid/model_{}.h5'\n",
    "filestr_2 = filestr + 'tanh/model_{}.h5'\n",
    "filestr_3 = filestr + 'arctan/model_{}.h5'\n",
    "\n",
    "# Data parameters\n",
    "N = 10**6\n",
    "X = np.load('data/zenodo/fold/X_trn.npy')[:N]\n",
    "y = np.load('data/zenodo/fold/y_trn.npy')[:N].astype('float32')\n",
    "data, m, s = split_data(X, y)\n",
    "\n",
    "lr_calc_1 = odds_lr\n",
    "lr_calc_2 = tanh_lr\n",
    "lr_calc_3 = arctan_lr\n",
    "\n",
    "# Plotting\n",
    "w = 3.5\n",
    "h = 3.25\n",
    "labels = [r'$\\sigma(z)$', r'$\\frac{1}{2}\\left(\\tanh{z} + 1\\right)$', r'$\\frac{1}{\\pi}\\left(\\arctan{z} + \\frac{\\pi}{2}\\right)$']\n",
    "y_lim = (0, 3)\n",
    "title = r'\\it MSE $\\phi$ Scan'\n",
    "filename = 'plots/zenodo/scans/mse_phi.png'"
   ]
  },
  {
   "cell_type": "code",
   "execution_count": 18,
   "id": "93a5229b-fa43-4307-b500-f906963c17ba",
   "metadata": {},
   "outputs": [
    {
     "name": "stdout",
     "output_type": "stream",
     "text": [
      "0 1 2 3 4 5 6 7 8 9 10 11 12 13 14 15 16 17 18 19 20 21 22 23 24 25 26 27 28 29 30 31 32 33 34 35 36 37 38 39 40 41 42 43 44 45 46 47 48 49 50 51 52 53 54 55 56 57 58 59 60 61 62 63 64 65 66 67 68 69 70 71 72 73 74 75 76 77 78 79 80 81 82 83 84 85 86 87 88 89 90 91 92 93 94 95 96 97 98 99 "
     ]
    }
   ],
   "source": [
    "lrs_1 = [None] * reps\n",
    "lrs_2 = [None] * reps\n",
    "lrs_3 = [None] * reps\n",
    "\n",
    "for i in range(reps):\n",
    "    print(i, end = ' ')\n",
    "    model_1 = create_model(**params_1)\n",
    "    model_2 = create_model(**params_2)\n",
    "    model_3 = create_model(**params_3)\n",
    "    \n",
    "    model_1.load_weights(filestr_1.format(i))\n",
    "    model_2.load_weights(filestr_2.format(i))\n",
    "    model_3.load_weights(filestr_3.format(i))\n",
    "    \n",
    "    lrs_1[i] = lr_calc_1(model_1, m, s)\n",
    "    lrs_2[i] = lr_calc_2(model_2, m, s)\n",
    "    lrs_3[i] = lr_calc_3(model_3, m, s)"
   ]
  },
  {
   "cell_type": "code",
   "execution_count": 19,
   "id": "cb19ca95-91c7-4cc3-9434-63049c50ba96",
   "metadata": {},
   "outputs": [],
   "source": [
    "# Calculate predictions\n",
    "preds_1 = get_preds(lrs_1, xs)\n",
    "preds_2 = get_preds(lrs_2, xs)\n",
    "preds_3 = get_preds(lrs_3, xs)\n",
    "\n",
    "# Save results\n",
    "np.save(filestr + 'scans/{}/xs.npy'.format(var_string), xs)\n",
    "np.save(filestr + 'scans/{}/preds_1.npy'.format(var_string), preds_1)\n",
    "np.save(filestr + 'scans/{}/preds_2.npy'.format(var_string), preds_2)\n",
    "np.save(filestr + 'scans/{}/preds_3.npy'.format(var_string), preds_3)"
   ]
  },
  {
   "cell_type": "code",
   "execution_count": 20,
   "id": "45fa78cb-46e5-4cc2-89ab-c83f95f11448",
   "metadata": {},
   "outputs": [],
   "source": [
    "ensembles = [preds_1, preds_2, preds_3]\n",
    "n = len(ensembles)\n",
    "\n",
    "lrs = [None] * n\n",
    "lrrs = [None] * n\n",
    "for i in range(n):\n",
    "    lrs[i] = avg_lr(ensembles[i])\n",
    "    lrrs[i] = avg_lrr(lr, ensembles[i], xs)"
   ]
  },
  {
   "cell_type": "code",
   "execution_count": 21,
   "id": "605dc22d-0441-46b7-982e-52708f597211",
   "metadata": {},
   "outputs": [
    {
     "data": {
      "image/png": "[encoded data removed]",
      "text/plain": [
       "<Figure size 252x234 with 2 Axes>"
      ]
     },
     "metadata": {
      "needs_background": "light"
     },
     "output_type": "display_data"
    }
   ],
   "source": [
    "fig, axs = plt.subplots(2, 1,\n",
    "                        figsize = (w, h),\n",
    "                        sharex = True, \n",
    "                        gridspec_kw = {'height_ratios': [2, 1]})\n",
    "\n",
    "if title:\n",
    "    axs[0].set_title(title, loc = 'right')\n",
    "\n",
    "# Plot likelihood ratios\n",
    "axs[0].plot(var, lr_true, label = 'Exact', c = 'k', lw = 0.75)\n",
    "\n",
    "for i in range(n):\n",
    "    axs[0].plot(var, \n",
    "                lrs[i], \n",
    "                label = labels[i],\n",
    "                c = cs[i % len(cs)], \n",
    "                ls = lss[i % len(lss)],\n",
    "                lw = 0.75)\n",
    "\n",
    "axs[0].set_xlim(var[0], var[-1])\n",
    "if y_lim:\n",
    "    axs[0].set_ylim(y_lim[0], y_lim[1])\n",
    "axs[0].legend()\n",
    "axs[0].minorticks_on()\n",
    "axs[0].tick_params(which = 'minor', length = 3)\n",
    "axs[0].tick_params(which = 'major', length = 5)\n",
    "axs[0].tick_params(which = 'both', direction='in')\n",
    "axs[0].set_ylabel('$\\mathcal{L}(x)$')\n",
    "\n",
    "# Plot likelihood ratio ratios\n",
    "for i in range(n):\n",
    "    axs[1].plot(var, \n",
    "                lrrs[i],\n",
    "                c = cs[i % len(cs)],\n",
    "                ls = lss[i % len(lss)],\n",
    "                lw = 0.75)\n",
    "\n",
    "axs[1].axhline(1,ls=\":\",color=\"grey\", lw=0.5)\n",
    "axs[1].axvline(0,ls=\":\",color=\"grey\", lw=0.5)\n",
    "axs[1].set_ylim(0.85, 1.15);\n",
    "axs[1].minorticks_on()\n",
    "axs[1].tick_params(which = 'minor', length = 3)\n",
    "axs[1].tick_params(which = 'major', length = 5)\n",
    "axs[1].tick_params(which = 'both', direction='in')\n",
    "axs[1].set_ylabel('Ratio')\n",
    "\n",
    "plt.subplots_adjust(hspace = 0.1)\n",
    "plt.xlabel(var_label)\n",
    "\n",
    "if filename:\n",
    "    plt.savefig(filename, \n",
    "                dpi = 300,\n",
    "                transparent = True,\n",
    "                bbox_inches = 'tight')"
   ]
  },
  {
   "cell_type": "markdown",
   "id": "c11ddc6d-bb1d-4d7d-8f39-92be3a67d3e9",
   "metadata": {
    "jp-MarkdownHeadingCollapsed": true,
    "tags": []
   },
   "source": [
    "### MLC"
   ]
  },
  {
   "cell_type": "code",
   "execution_count": 22,
   "id": "e65e67df-8bc7-4054-a6d4-36a1284ed4cb",
   "metadata": {
    "tags": []
   },
   "outputs": [],
   "source": [
    "# Experiment parameters\n",
    "num = 0\n",
    "reps = 100\n",
    "\n",
    "# Model parameters\n",
    "params_1 = {'loss':mlc, 'd': 4, 'output': 'relu'}\n",
    "params_2 = {'loss':square_mlc, 'd': 4, 'output': 'linear'}\n",
    "params_3 = {'loss':exp_mlc, 'd': 4, 'output': 'linear'}\n",
    "\n",
    "filestr = 'models/zenodo/c_mlc/set_{}/'.format(num)\n",
    "filestr_1 = filestr + 'relu/model_{}.h5'\n",
    "filestr_2 = filestr + 'square/model_{}.h5'\n",
    "filestr_3 = filestr + 'exponential/model_{}.h5'\n",
    "\n",
    "# Data parameters\n",
    "N = 10**6\n",
    "X = np.load('data/zenodo/fold/X_trn.npy')[:N]\n",
    "y = np.load('data/zenodo/fold/y_trn.npy')[:N].astype('float32')\n",
    "data, m, s = split_data(X, y)\n",
    "\n",
    "lr_calc_1 = pure_lr\n",
    "lr_calc_2 = square_lr\n",
    "lr_calc_3 = exp_lr\n",
    "\n",
    "# Plotting\n",
    "w = 3.5\n",
    "h = 3.25\n",
    "labels = [r'$\\text{ReLU}(z)$', r'$z^2$', r'$\\exp{z}$']\n",
    "y_lim = (0, 3)\n",
    "title = r'\\it MLC $\\phi$ Scan'\n",
    "filename = 'plots/zenodo/scans/mlc_phi.png'"
   ]
  },
  {
   "cell_type": "code",
   "execution_count": 23,
   "id": "171fad39-22c2-4d47-9bcc-a6e7897a7d94",
   "metadata": {},
   "outputs": [
    {
     "name": "stdout",
     "output_type": "stream",
     "text": [
      "0 1 2 3 4 5 6 7 8 9 10 11 12 13 14 15 16 17 18 19 20 21 22 23 24 25 26 27 28 29 30 31 32 33 34 35 36 37 38 39 40 41 42 43 44 45 46 47 48 49 50 51 52 53 54 55 56 57 58 59 60 61 62 63 64 65 66 67 68 69 70 71 72 73 74 75 76 77 78 79 80 81 82 83 84 85 86 87 88 89 90 91 92 93 94 95 96 97 98 99 "
     ]
    }
   ],
   "source": [
    "lrs_1 = [None] * reps\n",
    "lrs_2 = [None] * reps\n",
    "lrs_3 = [None] * reps\n",
    "\n",
    "for i in range(reps):\n",
    "    print(i, end = ' ')\n",
    "    model_1 = create_model(**params_1)\n",
    "    model_2 = create_model(**params_2)\n",
    "    model_3 = create_model(**params_3)\n",
    "    \n",
    "    model_1.load_weights(filestr_1.format(i))\n",
    "    model_2.load_weights(filestr_2.format(i))\n",
    "    model_3.load_weights(filestr_3.format(i))\n",
    "    \n",
    "    lrs_1[i] = lr_calc_1(model_1, m, s)\n",
    "    lrs_2[i] = lr_calc_2(model_2, m, s)\n",
    "    lrs_3[i] = lr_calc_3(model_3, m, s)"
   ]
  },
  {
   "cell_type": "code",
   "execution_count": 24,
   "id": "32840187-3b43-4fd9-af66-4cda91d04fca",
   "metadata": {},
   "outputs": [],
   "source": [
    "# Calculate predictions\n",
    "preds_1 = get_preds(lrs_1, xs)\n",
    "preds_2 = get_preds(lrs_2, xs)\n",
    "preds_3 = get_preds(lrs_3, xs)\n",
    "\n",
    "# Save results\n",
    "np.save(filestr + 'scans/{}/xs.npy'.format(var_string), xs)\n",
    "np.save(filestr + 'scans/{}/preds_1.npy'.format(var_string), preds_1)\n",
    "np.save(filestr + 'scans/{}/preds_2.npy'.format(var_string), preds_2)\n",
    "np.save(filestr + 'scans/{}/preds_3.npy'.format(var_string), preds_3)"
   ]
  },
  {
   "cell_type": "code",
   "execution_count": 25,
   "id": "0282bf3b-3f2b-45e8-867a-6f9dbbca7bc8",
   "metadata": {},
   "outputs": [],
   "source": [
    "ensembles = [preds_1, preds_2, preds_3]\n",
    "n = len(ensembles)\n",
    "\n",
    "lrs = [None] * n\n",
    "lrrs = [None] * n\n",
    "for i in range(n):\n",
    "    lrs[i] = avg_lr(ensembles[i])\n",
    "    lrrs[i] = avg_lrr(lr, ensembles[i], xs)"
   ]
  },
  {
   "cell_type": "code",
   "execution_count": 26,
   "id": "c7dd1b50-8936-4b07-b8ce-fd82e4b3cc0d",
   "metadata": {},
   "outputs": [
    {
     "data": {
      "image/png": "[encoded data removed]",
      "text/plain": [
       "<Figure size 252x234 with 2 Axes>"
      ]
     },
     "metadata": {
      "needs_background": "light"
     },
     "output_type": "display_data"
    }
   ],
   "source": [
    "fig, axs = plt.subplots(2, 1,\n",
    "                        figsize = (w, h),\n",
    "                        sharex = True, \n",
    "                        gridspec_kw = {'height_ratios': [2, 1]})\n",
    "\n",
    "if title:\n",
    "    axs[0].set_title(title, loc = 'right')\n",
    "\n",
    "# Plot likelihood ratios\n",
    "axs[0].plot(var, lr_true, label = 'Exact', c = 'k', lw = 0.75)\n",
    "\n",
    "for i in range(n):\n",
    "    axs[0].plot(var, \n",
    "                lrs[i], \n",
    "                label = labels[i],\n",
    "                c = cs[i % len(cs)], \n",
    "                ls = lss[i % len(lss)],\n",
    "                lw = 0.75)\n",
    "\n",
    "axs[0].set_xlim(var[0], var[-1])\n",
    "if y_lim:\n",
    "    axs[0].set_ylim(y_lim[0], y_lim[1])\n",
    "axs[0].legend()\n",
    "axs[0].minorticks_on()\n",
    "axs[0].tick_params(which = 'minor', length = 3)\n",
    "axs[0].tick_params(which = 'major', length = 5)\n",
    "axs[0].tick_params(which = 'both', direction='in')\n",
    "axs[0].set_ylabel('$\\mathcal{L}(x)$')\n",
    "\n",
    "# Plot likelihood ratio ratios\n",
    "for i in range(n):\n",
    "    axs[1].plot(var, \n",
    "                lrrs[i],\n",
    "                c = cs[i % len(cs)],\n",
    "                ls = lss[i % len(lss)],\n",
    "                lw = 0.75)\n",
    "\n",
    "axs[1].axhline(1,ls=\":\",color=\"grey\", lw=0.5)\n",
    "axs[1].axvline(0,ls=\":\",color=\"grey\", lw=0.5)\n",
    "axs[1].set_ylim(0.95, 1.05);\n",
    "axs[1].minorticks_on()\n",
    "axs[1].tick_params(which = 'minor', length = 3)\n",
    "axs[1].tick_params(which = 'major', length = 5)\n",
    "axs[1].tick_params(which = 'both', direction='in')\n",
    "axs[1].set_ylabel('Ratio')\n",
    "\n",
    "plt.subplots_adjust(hspace = 0.1)\n",
    "plt.xlabel(var_label)\n",
    "\n",
    "if filename:\n",
    "    plt.savefig(filename, \n",
    "                dpi = 300,\n",
    "                transparent = True,\n",
    "                bbox_inches = 'tight')"
   ]
  },
  {
   "cell_type": "markdown",
   "id": "0abcfbf0-4a56-4f97-927a-cf8bab390fb7",
   "metadata": {
    "tags": []
   },
   "source": [
    "### SQR"
   ]
  },
  {
   "cell_type": "code",
   "execution_count": 27,
   "id": "29a905c0-1e6d-4d9b-b505-fa305371806e",
   "metadata": {},
   "outputs": [],
   "source": [
    "# Experiment parameters\n",
    "num = 0\n",
    "reps = 100\n",
    "\n",
    "# Model parameters\n",
    "params_1 = {'loss':sqr, 'd': 4, 'output': 'relu'}\n",
    "params_2 = {'loss':square_sqr, 'd': 4, 'output': 'linear'}\n",
    "params_3 = {'loss':exp_sqr, 'd': 4, 'output': 'linear'}\n",
    "\n",
    "filestr = 'models/zenodo/c_sqr/set_{}/'.format(num)\n",
    "filestr_1 = filestr + 'relu/model_{}.h5'\n",
    "filestr_2 = filestr + 'square/model_{}.h5'\n",
    "filestr_3 = filestr + 'exponential/model_{}.h5'\n",
    "\n",
    "# Data parameters\n",
    "N = 10**6\n",
    "X = np.load('data/zenodo/fold/X_trn.npy')[:N]\n",
    "y = np.load('data/zenodo/fold/y_trn.npy')[:N].astype('float32')\n",
    "data, m, s = split_data(X, y)\n",
    "\n",
    "lr_calc_1 = pure_lr\n",
    "lr_calc_2 = square_lr\n",
    "lr_calc_3 = exp_lr\n",
    "\n",
    "# Plotting\n",
    "w = 3.5\n",
    "h = 3.25\n",
    "labels = [r'$\\text{ReLU}(z)$', r'$z^2$', r'$\\exp{z}$']\n",
    "y_lim = (0, 3)\n",
    "title = r'\\it SQR $\\phi$ Scan'\n",
    "filename = 'plots/zenodo/scans/sqr_phi.png'"
   ]
  },
  {
   "cell_type": "code",
   "execution_count": 28,
   "id": "944901ce-bd8d-4aff-8574-36cf3325ec94",
   "metadata": {},
   "outputs": [
    {
     "name": "stdout",
     "output_type": "stream",
     "text": [
      "0 1 2 3 4 5 6 7 8 9 10 11 12 13 14 15 16 17 18 19 20 21 22 23 24 25 26 27 28 29 30 31 32 33 34 35 36 37 38 39 40 41 42 43 44 45 46 47 48 49 50 51 52 53 54 55 56 57 58 59 60 61 62 63 64 65 66 67 68 69 70 71 72 73 74 75 76 77 78 79 80 81 82 83 84 85 86 87 88 89 90 91 92 93 94 95 96 97 98 99 "
     ]
    }
   ],
   "source": [
    "lrs_1 = [None] * reps\n",
    "lrs_2 = [None] * reps\n",
    "lrs_3 = [None] * reps\n",
    "\n",
    "for i in range(reps):\n",
    "    print(i, end = ' ')\n",
    "    model_1 = create_model(**params_1)\n",
    "    model_2 = create_model(**params_2)\n",
    "    model_3 = create_model(**params_3)\n",
    "    \n",
    "    model_1.load_weights(filestr_1.format(i))\n",
    "    model_2.load_weights(filestr_2.format(i))\n",
    "    model_3.load_weights(filestr_3.format(i))\n",
    "    \n",
    "    lrs_1[i] = lr_calc_1(model_1, m, s)\n",
    "    lrs_2[i] = lr_calc_2(model_2, m, s)\n",
    "    lrs_3[i] = lr_calc_3(model_3, m, s)"
   ]
  },
  {
   "cell_type": "code",
   "execution_count": 29,
   "id": "e1261637-e12c-4231-aee6-360dc1ebe202",
   "metadata": {},
   "outputs": [],
   "source": [
    "# Calculate predictions\n",
    "preds_1 = get_preds(lrs_1, xs)\n",
    "preds_2 = get_preds(lrs_2, xs)\n",
    "preds_3 = get_preds(lrs_3, xs)\n",
    "\n",
    "# Save results\n",
    "np.save(filestr + 'scans/{}/xs.npy'.format(var_string), xs)\n",
    "np.save(filestr + 'scans/{}/preds_1.npy'.format(var_string), preds_1)\n",
    "np.save(filestr + 'scans/{}/preds_2.npy'.format(var_string), preds_2)\n",
    "np.save(filestr + 'scans/{}/preds_3.npy'.format(var_string), preds_3)"
   ]
  },
  {
   "cell_type": "code",
   "execution_count": 30,
   "id": "767fa9d0-c2ca-4f93-9b69-fab89d9fc484",
   "metadata": {},
   "outputs": [],
   "source": [
    "ensembles = [preds_1, preds_2, preds_3]\n",
    "n = len(ensembles)\n",
    "\n",
    "lrs = [None] * n\n",
    "lrrs = [None] * n\n",
    "for i in range(n):\n",
    "    lrs[i] = avg_lr(ensembles[i])\n",
    "    lrrs[i] = avg_lrr(lr, ensembles[i], xs)"
   ]
  },
  {
   "cell_type": "code",
   "execution_count": 31,
   "id": "e51d2809-5376-47c9-9b55-6f9b64e9260e",
   "metadata": {},
   "outputs": [
    {
     "data": {
      "image/png": "[encoded data removed]",
      "text/plain": [
       "<Figure size 252x234 with 2 Axes>"
      ]
     },
     "metadata": {
      "needs_background": "light"
     },
     "output_type": "display_data"
    }
   ],
   "source": [
    "fig, axs = plt.subplots(2, 1,\n",
    "                        figsize = (w, h),\n",
    "                        sharex = True, \n",
    "                        gridspec_kw = {'height_ratios': [2, 1]})\n",
    "\n",
    "if title:\n",
    "    axs[0].set_title(title, loc = 'right')\n",
    "\n",
    "# Plot likelihood ratios\n",
    "axs[0].plot(var, lr_true, label = 'Exact', c = 'k', lw = 0.75)\n",
    "\n",
    "for i in range(n):\n",
    "    axs[0].plot(var, \n",
    "                lrs[i], \n",
    "                label = labels[i],\n",
    "                c = cs[i % len(cs)], \n",
    "                ls = lss[i % len(lss)],\n",
    "                lw = 0.75)\n",
    "\n",
    "axs[0].set_xlim(var[0], var[-1])\n",
    "if y_lim:\n",
    "    axs[0].set_ylim(y_lim[0], y_lim[1])\n",
    "axs[0].legend()\n",
    "axs[0].minorticks_on()\n",
    "axs[0].tick_params(which = 'minor', length = 3)\n",
    "axs[0].tick_params(which = 'major', length = 5)\n",
    "axs[0].tick_params(which = 'both', direction='in')\n",
    "axs[0].set_ylabel('$\\mathcal{L}(x)$')\n",
    "\n",
    "# Plot likelihood ratio ratios\n",
    "for i in range(n):\n",
    "    axs[1].plot(var, \n",
    "                lrrs[i],\n",
    "                c = cs[i % len(cs)],\n",
    "                ls = lss[i % len(lss)],\n",
    "                lw = 0.75)\n",
    "\n",
    "axs[1].axhline(1,ls=\":\",color=\"grey\", lw=0.5)\n",
    "axs[1].axvline(0,ls=\":\",color=\"grey\", lw=0.5)\n",
    "axs[1].set_ylim(0.85, 1.15);\n",
    "axs[1].minorticks_on()\n",
    "axs[1].tick_params(which = 'minor', length = 3)\n",
    "axs[1].tick_params(which = 'major', length = 5)\n",
    "axs[1].tick_params(which = 'both', direction='in')\n",
    "axs[1].set_ylabel('Ratio')\n",
    "\n",
    "plt.subplots_adjust(hspace = 0.1)\n",
    "plt.xlabel(var_label)\n",
    "\n",
    "if filename:\n",
    "    plt.savefig(filename, \n",
    "                dpi = 300,\n",
    "                transparent = True,\n",
    "                bbox_inches = 'tight')"
   ]
  },
  {
   "cell_type": "markdown",
   "id": "2e8adfaa-0051-44f5-9d85-eea7e03ac61b",
   "metadata": {
    "jp-MarkdownHeadingCollapsed": true,
    "tags": []
   },
   "source": [
    "## $p_T$ Scan"
   ]
  },
  {
   "cell_type": "code",
   "execution_count": 68,
   "id": "a70b5c5f-f150-4c5e-86ab-791733749ce4",
   "metadata": {},
   "outputs": [],
   "source": [
    "# Get a one-dimensional slice of test points.\n",
    "pTs = np.linspace(0, 750, 1201).reshape(-1, 1)\n",
    "etas = np.repeat(mode_eta, len(pTs)).reshape(-1, 1)\n",
    "phis = np.repeat(mode_phi, len(pTs)).reshape(-1, 1)\n",
    "ms = np.repeat(mode_m, len(pTs)).reshape(-1, 1)\n",
    "\n",
    "xs = np.hstack([pTs, etas, phis, ms])\n",
    "var = pTs\n",
    "var_label = r'$p_T$'\n",
    "var_string = 'pT'\n",
    "\n",
    "lr_true = lr(xs)"
   ]
  },
  {
   "cell_type": "code",
   "execution_count": 69,
   "id": "048b92e5-c8c1-4e1d-a2a8-8cffa8a132e8",
   "metadata": {},
   "outputs": [
    {
     "data": {
      "text/plain": [
       "[<matplotlib.lines.Line2D at 0x7ef96cca5960>]"
      ]
     },
     "execution_count": 69,
     "metadata": {},
     "output_type": "execute_result"
    },
    {
     "data": {
      "image/png": "[encoded data removed]",
      "text/plain": [
       "<Figure size 432x288 with 1 Axes>"
      ]
     },
     "metadata": {
      "needs_background": "light"
     },
     "output_type": "display_data"
    }
   ],
   "source": [
    "plt.plot(pTs, lr_true)"
   ]
  },
  {
   "cell_type": "markdown",
   "id": "2d8039dc-6b15-443e-81e8-1d305227515b",
   "metadata": {
    "jp-MarkdownHeadingCollapsed": true,
    "tags": []
   },
   "source": [
    "### BCE"
   ]
  },
  {
   "cell_type": "code",
   "execution_count": 70,
   "id": "34c564a9-fdaf-4034-af07-48b05485a2d6",
   "metadata": {},
   "outputs": [],
   "source": [
    "# Experiment parameters\n",
    "num = 0\n",
    "reps = 100\n",
    "\n",
    "# Model parameters\n",
    "params_1 = {'loss':bce, 'd':4}\n",
    "params_2 = {'loss':tanh_bce, 'd':4, 'output': 'linear'}\n",
    "params_3 = {'loss':arctan_bce, 'd':4,  'output': 'linear'}\n",
    "\n",
    "filestr = 'models/zenodo/c_bce/set_{}/'.format(num)\n",
    "filestr_1 = filestr + 'sigmoid/model_{}.h5'\n",
    "filestr_2 = filestr + 'tanh/model_{}.h5'\n",
    "filestr_3 = filestr + 'arctan/model_{}.h5'\n",
    "\n",
    "# Data parameters\n",
    "N = 10**6\n",
    "X = np.load('data/zenodo/fold/X_trn.npy')[:N]\n",
    "y = np.load('data/zenodo/fold/y_trn.npy')[:N].astype('float32')\n",
    "data, m, s = split_data(X, y)\n",
    "\n",
    "lr_calc_1 = odds_lr\n",
    "lr_calc_2 = tanh_lr\n",
    "lr_calc_3 = arctan_lr\n",
    "\n",
    "# Plotting\n",
    "w = 3.5\n",
    "h = 3.25\n",
    "labels = [r'$\\sigma(z)$', r'$\\frac{1}{2}\\left(\\tanh{z} + 1\\right)$', r'$\\frac{1}{\\pi}\\left(\\arctan{z} + \\frac{\\pi}{2}\\right)$']\n",
    "y_lim = (0, 3)\n",
    "title = r'\\it BCE $\\phi$ Scan'\n",
    "filename = 'plots/zenodo/scans/bce_phi.png'"
   ]
  },
  {
   "cell_type": "code",
   "execution_count": 71,
   "id": "179c73ac-9bed-4e2a-a15d-f19c537303a4",
   "metadata": {},
   "outputs": [
    {
     "name": "stdout",
     "output_type": "stream",
     "text": [
      "0 1 2 3 4 5 6 7 8 9 10 11 12 13 14 15 16 17 18 19 20 21 22 23 24 25 26 27 28 29 30 31 32 33 34 35 36 37 38 39 40 41 42 43 44 45 46 47 48 49 50 51 52 53 54 55 56 57 58 59 60 61 62 63 64 65 66 67 68 69 70 71 72 73 74 75 76 77 78 79 80 81 82 83 84 85 86 87 88 89 90 91 92 93 94 95 96 97 98 99 "
     ]
    }
   ],
   "source": [
    "lrs_1 = [None] * reps\n",
    "lrs_2 = [None] * reps\n",
    "lrs_3 = [None] * reps\n",
    "\n",
    "for i in range(reps):\n",
    "    print(i, end = ' ')\n",
    "    model_1 = create_model(**params_1)\n",
    "    model_2 = create_model(**params_2)\n",
    "    model_3 = create_model(**params_3)\n",
    "    \n",
    "    model_1.load_weights(filestr_1.format(i))\n",
    "    model_2.load_weights(filestr_2.format(i))\n",
    "    model_3.load_weights(filestr_3.format(i))\n",
    "    \n",
    "    lrs_1[i] = lr_calc_1(model_1, m, s)\n",
    "    lrs_2[i] = lr_calc_2(model_2, m, s)\n",
    "    lrs_3[i] = lr_calc_3(model_3, m, s)"
   ]
  },
  {
   "cell_type": "code",
   "execution_count": 72,
   "id": "8a157dd2-4d0a-43d4-bb01-f1b89c8861b7",
   "metadata": {},
   "outputs": [],
   "source": [
    "# Calculate predictions\n",
    "preds_1 = get_preds(lrs_1, xs)\n",
    "preds_2 = get_preds(lrs_2, xs)\n",
    "preds_3 = get_preds(lrs_3, xs)\n",
    "\n",
    "# Save results\n",
    "np.save(filestr + 'scans/{}/xs.npy'.format(var_string), xs)\n",
    "np.save(filestr + 'scans/{}/preds_1.npy'.format(var_string), preds_1)\n",
    "np.save(filestr + 'scans/{}/preds_2.npy'.format(var_string), preds_2)\n",
    "np.save(filestr + 'scans/{}/preds_3.npy'.format(var_string), preds_3)"
   ]
  },
  {
   "cell_type": "code",
   "execution_count": 73,
   "id": "b80d64db-a73e-42be-9baf-f87f54f3a750",
   "metadata": {},
   "outputs": [],
   "source": [
    "ensembles = [preds_1, preds_2, preds_3]\n",
    "n = len(ensembles)\n",
    "\n",
    "lrs = [None] * n\n",
    "lrrs = [None] * n\n",
    "for i in range(n):\n",
    "    lrs[i] = avg_lr(ensembles[i])\n",
    "    lrrs[i] = avg_lrr(lr, ensembles[i], xs)"
   ]
  },
  {
   "cell_type": "code",
   "execution_count": 74,
   "id": "714638eb-58b3-4c3b-bd74-ce0cc8417c5b",
   "metadata": {},
   "outputs": [
    {
     "data": {
      "image/png": "[encoded data removed]",
      "text/plain": [
       "<Figure size 252x234 with 2 Axes>"
      ]
     },
     "metadata": {
      "needs_background": "light"
     },
     "output_type": "display_data"
    }
   ],
   "source": [
    "fig, axs = plt.subplots(2, 1,\n",
    "                        figsize = (w, h),\n",
    "                        sharex = True, \n",
    "                        gridspec_kw = {'height_ratios': [2, 1]})\n",
    "\n",
    "if title:\n",
    "    axs[0].set_title(title, loc = 'right')\n",
    "\n",
    "# Plot likelihood ratios\n",
    "axs[0].plot(var, lr_true, label = 'Exact', c = 'k', lw = 0.75)\n",
    "\n",
    "for i in range(n):\n",
    "    axs[0].plot(var, \n",
    "                lrs[i], \n",
    "                label = labels[i],\n",
    "                c = cs[i % len(cs)], \n",
    "                ls = lss[i % len(lss)],\n",
    "                lw = 0.75)\n",
    "\n",
    "axs[0].set_xlim(var[0], var[-1])\n",
    "if y_lim:\n",
    "    axs[0].set_ylim(y_lim[0], y_lim[1])\n",
    "axs[0].legend()\n",
    "axs[0].minorticks_on()\n",
    "axs[0].tick_params(which = 'minor', length = 3)\n",
    "axs[0].tick_params(which = 'major', length = 5)\n",
    "axs[0].tick_params(which = 'both', direction='in')\n",
    "axs[0].set_ylabel('$\\mathcal{L}(x)$')\n",
    "\n",
    "# Plot likelihood ratio ratios\n",
    "for i in range(n):\n",
    "    axs[1].plot(var, \n",
    "                lrrs[i],\n",
    "                c = cs[i % len(cs)],\n",
    "                ls = lss[i % len(lss)],\n",
    "                lw = 0.75)\n",
    "\n",
    "axs[1].axhline(1,ls=\":\",color=\"grey\", lw=0.5)\n",
    "axs[1].axvline(0,ls=\":\",color=\"grey\", lw=0.5)\n",
    "axs[1].set_ylim(0.95, 1.05);\n",
    "axs[1].minorticks_on()\n",
    "axs[1].tick_params(which = 'minor', length = 3)\n",
    "axs[1].tick_params(which = 'major', length = 5)\n",
    "axs[1].tick_params(which = 'both', direction='in')\n",
    "axs[1].set_ylabel('Ratio')\n",
    "\n",
    "plt.subplots_adjust(hspace = 0.1)\n",
    "plt.xlabel(var_label)\n",
    "\n",
    "if filename:\n",
    "    plt.savefig(filename, \n",
    "                dpi = 300,\n",
    "                transparent = True,\n",
    "                bbox_inches = 'tight')"
   ]
  },
  {
   "cell_type": "markdown",
   "id": "92f3a18a-d332-4b4d-b404-7874fb98e9a0",
   "metadata": {
    "jp-MarkdownHeadingCollapsed": true,
    "tags": []
   },
   "source": [
    "### MSE"
   ]
  },
  {
   "cell_type": "code",
   "execution_count": 75,
   "id": "cd88d0e5-a2d1-4167-bffd-9c8609de5571",
   "metadata": {},
   "outputs": [],
   "source": [
    "# Experiment parameters\n",
    "num = 0\n",
    "reps = 100\n",
    "\n",
    "# Model parameters\n",
    "params_1 = {'loss':mse, 'd':4}\n",
    "params_2 = {'loss':tanh_mse, 'd':4, 'output': 'linear'}\n",
    "params_3 = {'loss':arctan_mse, 'd':4,  'output': 'linear'}\n",
    "\n",
    "filestr = 'models/zenodo/c_mse/set_{}/'.format(num)\n",
    "filestr_1 = filestr + 'sigmoid/model_{}.h5'\n",
    "filestr_2 = filestr + 'tanh/model_{}.h5'\n",
    "filestr_3 = filestr + 'arctan/model_{}.h5'\n",
    "\n",
    "# Data parameters\n",
    "N = 10**6\n",
    "X = np.load('data/zenodo/fold/X_trn.npy')[:N]\n",
    "y = np.load('data/zenodo/fold/y_trn.npy')[:N].astype('float32')\n",
    "data, m, s = split_data(X, y)\n",
    "\n",
    "lr_calc_1 = odds_lr\n",
    "lr_calc_2 = tanh_lr\n",
    "lr_calc_3 = arctan_lr\n",
    "\n",
    "# Plotting\n",
    "w = 3.5\n",
    "h = 3.25\n",
    "labels = [r'$\\sigma(z)$', r'$\\frac{1}{2}\\left(\\tanh{z} + 1\\right)$', r'$\\frac{1}{\\pi}\\left(\\arctan{z} + \\frac{\\pi}{2}\\right)$']\n",
    "y_lim = (0, 3)\n",
    "title = r'\\it MSE $\\p_T$ Scan'\n",
    "filename = 'plots/zenodo/scans/mse_phi.png'"
   ]
  },
  {
   "cell_type": "code",
   "execution_count": 76,
   "id": "e472f619-3ffb-4a64-867b-3bcc0c3727c1",
   "metadata": {},
   "outputs": [
    {
     "name": "stdout",
     "output_type": "stream",
     "text": [
      "0 1 2 3 4 5 6 7 8 9 10 11 12 13 14 15 16 17 18 19 20 21 22 23 24 25 26 27 28 29 30 31 32 33 34 35 36 37 38 39 40 41 42 43 44 45 46 47 48 49 50 51 52 53 54 55 56 57 58 59 60 61 62 63 64 65 66 67 68 69 70 71 72 73 74 75 76 77 78 79 80 81 82 83 84 85 86 87 88 89 90 91 92 93 94 95 96 97 98 99 "
     ]
    }
   ],
   "source": [
    "lrs_1 = [None] * reps\n",
    "lrs_2 = [None] * reps\n",
    "lrs_3 = [None] * reps\n",
    "\n",
    "for i in range(reps):\n",
    "    print(i, end = ' ')\n",
    "    model_1 = create_model(**params_1)\n",
    "    model_2 = create_model(**params_2)\n",
    "    model_3 = create_model(**params_3)\n",
    "    \n",
    "    model_1.load_weights(filestr_1.format(i))\n",
    "    model_2.load_weights(filestr_2.format(i))\n",
    "    model_3.load_weights(filestr_3.format(i))\n",
    "    \n",
    "    lrs_1[i] = lr_calc_1(model_1, m, s)\n",
    "    lrs_2[i] = lr_calc_2(model_2, m, s)\n",
    "    lrs_3[i] = lr_calc_3(model_3, m, s)"
   ]
  },
  {
   "cell_type": "code",
   "execution_count": 77,
   "id": "eb2a19ac-34b6-465b-a83b-5e8fa51ec888",
   "metadata": {},
   "outputs": [],
   "source": [
    "# Calculate predictions\n",
    "preds_1 = get_preds(lrs_1, xs)\n",
    "preds_2 = get_preds(lrs_2, xs)\n",
    "preds_3 = get_preds(lrs_3, xs)\n",
    "\n",
    "# Save results\n",
    "np.save(filestr + 'scans/{}/xs.npy'.format(var_string), xs)\n",
    "np.save(filestr + 'scans/{}/preds_1.npy'.format(var_string), preds_1)\n",
    "np.save(filestr + 'scans/{}/preds_2.npy'.format(var_string), preds_2)\n",
    "np.save(filestr + 'scans/{}/preds_3.npy'.format(var_string), preds_3)"
   ]
  },
  {
   "cell_type": "code",
   "execution_count": 78,
   "id": "a60ea43b-985b-4035-b2f8-56f52f0e7c73",
   "metadata": {},
   "outputs": [],
   "source": [
    "ensembles = [preds_1, preds_2, preds_3]\n",
    "n = len(ensembles)\n",
    "\n",
    "lrs = [None] * n\n",
    "lrrs = [None] * n\n",
    "for i in range(n):\n",
    "    lrs[i] = avg_lr(ensembles[i])\n",
    "    lrrs[i] = avg_lrr(lr, ensembles[i], xs)"
   ]
  },
  {
   "cell_type": "code",
   "execution_count": 79,
   "id": "0d6b071c-a013-4ed4-8759-85e7cde591ff",
   "metadata": {},
   "outputs": [
    {
     "data": {
      "image/png": "[encoded data removed]",
      "text/plain": [
       "<Figure size 252x234 with 2 Axes>"
      ]
     },
     "metadata": {
      "needs_background": "light"
     },
     "output_type": "display_data"
    }
   ],
   "source": [
    "fig, axs = plt.subplots(2, 1,\n",
    "                        figsize = (w, h),\n",
    "                        sharex = True, \n",
    "                        gridspec_kw = {'height_ratios': [2, 1]})\n",
    "\n",
    "if title:\n",
    "    axs[0].set_title(title, loc = 'right')\n",
    "\n",
    "# Plot likelihood ratios\n",
    "axs[0].plot(var, lr_true, label = 'Exact', c = 'k', lw = 0.75)\n",
    "\n",
    "for i in range(n):\n",
    "    axs[0].plot(var, \n",
    "                lrs[i], \n",
    "                label = labels[i],\n",
    "                c = cs[i % len(cs)], \n",
    "                ls = lss[i % len(lss)],\n",
    "                lw = 0.75)\n",
    "\n",
    "axs[0].set_xlim(var[0], var[-1])\n",
    "if y_lim:\n",
    "    axs[0].set_ylim(y_lim[0], y_lim[1])\n",
    "axs[0].legend()\n",
    "axs[0].minorticks_on()\n",
    "axs[0].tick_params(which = 'minor', length = 3)\n",
    "axs[0].tick_params(which = 'major', length = 5)\n",
    "axs[0].tick_params(which = 'both', direction='in')\n",
    "axs[0].set_ylabel('$\\mathcal{L}(x)$')\n",
    "\n",
    "# Plot likelihood ratio ratios\n",
    "for i in range(n):\n",
    "    axs[1].plot(var, \n",
    "                lrrs[i],\n",
    "                c = cs[i % len(cs)],\n",
    "                ls = lss[i % len(lss)],\n",
    "                lw = 0.75)\n",
    "\n",
    "axs[1].axhline(1,ls=\":\",color=\"grey\", lw=0.5)\n",
    "axs[1].axvline(0,ls=\":\",color=\"grey\", lw=0.5)\n",
    "axs[1].set_ylim(0.95, 1.05);\n",
    "axs[1].minorticks_on()\n",
    "axs[1].tick_params(which = 'minor', length = 3)\n",
    "axs[1].tick_params(which = 'major', length = 5)\n",
    "axs[1].tick_params(which = 'both', direction='in')\n",
    "axs[1].set_ylabel('Ratio')\n",
    "\n",
    "plt.subplots_adjust(hspace = 0.1)\n",
    "plt.xlabel(var_label)\n",
    "\n",
    "if filename:\n",
    "    plt.savefig(filename, \n",
    "                dpi = 300,\n",
    "                transparent = True,\n",
    "                bbox_inches = 'tight')"
   ]
  },
  {
   "cell_type": "markdown",
   "id": "b58aa47e-8fef-43aa-be48-1744087e1050",
   "metadata": {
    "jp-MarkdownHeadingCollapsed": true,
    "tags": []
   },
   "source": [
    "### MLC"
   ]
  },
  {
   "cell_type": "code",
   "execution_count": 80,
   "id": "95bb1d60-11e7-4ae2-ba85-2680714fa1b8",
   "metadata": {},
   "outputs": [],
   "source": [
    "# Experiment parameters\n",
    "num = 0\n",
    "reps = 100\n",
    "\n",
    "# Model parameters\n",
    "params_1 = {'loss':mlc, 'd': 4, 'output': 'relu'}\n",
    "params_2 = {'loss':square_mlc, 'd': 4, 'output': 'linear'}\n",
    "params_3 = {'loss':exp_mlc, 'd': 4, 'output': 'linear'}\n",
    "\n",
    "filestr = 'models/zenodo/c_mlc/set_{}/'.format(num)\n",
    "filestr_1 = filestr + 'relu/model_{}.h5'\n",
    "filestr_2 = filestr + 'square/model_{}.h5'\n",
    "filestr_3 = filestr + 'exponential/model_{}.h5'\n",
    "\n",
    "# Data parameters\n",
    "N = 10**6\n",
    "X = np.load('data/zenodo/fold/X_trn.npy')[:N]\n",
    "y = np.load('data/zenodo/fold/y_trn.npy')[:N].astype('float32')\n",
    "data, m, s = split_data(X, y)\n",
    "\n",
    "lr_calc_1 = pure_lr\n",
    "lr_calc_2 = square_lr\n",
    "lr_calc_3 = exp_lr\n",
    "\n",
    "# Plotting\n",
    "w = 3.5\n",
    "h = 3.25\n",
    "labels = [r'$\\text{ReLU}(z)$', r'$z^2$', r'$\\exp{z}$']\n",
    "y_lim = (0, 3)\n",
    "title = r'\\it MLC $\\phi$ Scan'\n",
    "filename = 'plots/zenodo/scans/mlc_phi.png'"
   ]
  },
  {
   "cell_type": "code",
   "execution_count": 81,
   "id": "81468547-c9ef-46ca-984e-d58f9c14a1c1",
   "metadata": {},
   "outputs": [
    {
     "name": "stdout",
     "output_type": "stream",
     "text": [
      "0 1 2 3 4 5 6 7 8 9 10 11 12 13 14 15 16 17 18 19 20 21 22 23 24 25 26 27 28 29 30 31 32 33 34 35 36 37 38 39 40 41 42 43 44 45 46 47 48 49 50 51 52 53 54 55 56 57 58 59 60 61 62 63 64 65 66 67 68 69 70 71 72 73 74 75 76 77 78 79 80 81 82 83 84 85 86 87 88 89 90 91 92 93 94 95 96 97 98 99 "
     ]
    }
   ],
   "source": [
    "lrs_1 = [None] * reps\n",
    "lrs_2 = [None] * reps\n",
    "lrs_3 = [None] * reps\n",
    "\n",
    "for i in range(reps):\n",
    "    print(i, end = ' ')\n",
    "    model_1 = create_model(**params_1)\n",
    "    model_2 = create_model(**params_2)\n",
    "    model_3 = create_model(**params_3)\n",
    "    \n",
    "    model_1.load_weights(filestr_1.format(i))\n",
    "    model_2.load_weights(filestr_2.format(i))\n",
    "    model_3.load_weights(filestr_3.format(i))\n",
    "    \n",
    "    lrs_1[i] = lr_calc_1(model_1, m, s)\n",
    "    lrs_2[i] = lr_calc_2(model_2, m, s)\n",
    "    lrs_3[i] = lr_calc_3(model_3, m, s)"
   ]
  },
  {
   "cell_type": "code",
   "execution_count": 82,
   "id": "3f66728b-85d0-41b1-95e8-9f8cb1e619f0",
   "metadata": {},
   "outputs": [],
   "source": [
    "# Calculate predictions\n",
    "preds_1 = get_preds(lrs_1, xs)\n",
    "preds_2 = get_preds(lrs_2, xs)\n",
    "preds_3 = get_preds(lrs_3, xs)\n",
    "\n",
    "# Save results\n",
    "np.save(filestr + 'scans/{}/xs.npy'.format(var_string), xs)\n",
    "np.save(filestr + 'scans/{}/preds_1.npy'.format(var_string), preds_1)\n",
    "np.save(filestr + 'scans/{}/preds_2.npy'.format(var_string), preds_2)\n",
    "np.save(filestr + 'scans/{}/preds_3.npy'.format(var_string), preds_3)"
   ]
  },
  {
   "cell_type": "code",
   "execution_count": 83,
   "id": "2cd91691-437b-48c2-b865-28f64bf58dbd",
   "metadata": {},
   "outputs": [],
   "source": [
    "ensembles = [preds_1, preds_2, preds_3]\n",
    "n = len(ensembles)\n",
    "\n",
    "lrs = [None] * n\n",
    "lrrs = [None] * n\n",
    "for i in range(n):\n",
    "    lrs[i] = avg_lr(ensembles[i])\n",
    "    lrrs[i] = avg_lrr(lr, ensembles[i], xs)"
   ]
  },
  {
   "cell_type": "code",
   "execution_count": 84,
   "id": "78d7c8a7-22b6-427a-a6da-4d79b4ff0006",
   "metadata": {},
   "outputs": [
    {
     "data": {
      "image/png": "[encoded data removed]",
      "text/plain": [
       "<Figure size 252x234 with 2 Axes>"
      ]
     },
     "metadata": {
      "needs_background": "light"
     },
     "output_type": "display_data"
    }
   ],
   "source": [
    "fig, axs = plt.subplots(2, 1,\n",
    "                        figsize = (w, h),\n",
    "                        sharex = True, \n",
    "                        gridspec_kw = {'height_ratios': [2, 1]})\n",
    "\n",
    "if title:\n",
    "    axs[0].set_title(title, loc = 'right')\n",
    "\n",
    "# Plot likelihood ratios\n",
    "axs[0].plot(var, lr_true, label = 'Exact', c = 'k', lw = 0.75)\n",
    "\n",
    "for i in range(n):\n",
    "    axs[0].plot(var, \n",
    "                lrs[i], \n",
    "                label = labels[i],\n",
    "                c = cs[i % len(cs)], \n",
    "                ls = lss[i % len(lss)],\n",
    "                lw = 0.75)\n",
    "\n",
    "axs[0].set_xlim(var[0], var[-1])\n",
    "if y_lim:\n",
    "    axs[0].set_ylim(y_lim[0], y_lim[1])\n",
    "axs[0].legend()\n",
    "axs[0].minorticks_on()\n",
    "axs[0].tick_params(which = 'minor', length = 3)\n",
    "axs[0].tick_params(which = 'major', length = 5)\n",
    "axs[0].tick_params(which = 'both', direction='in')\n",
    "axs[0].set_ylabel('$\\mathcal{L}(x)$')\n",
    "\n",
    "# Plot likelihood ratio ratios\n",
    "for i in range(n):\n",
    "    axs[1].plot(var, \n",
    "                lrrs[i],\n",
    "                c = cs[i % len(cs)],\n",
    "                ls = lss[i % len(lss)],\n",
    "                lw = 0.75)\n",
    "\n",
    "axs[1].axhline(1,ls=\":\",color=\"grey\", lw=0.5)\n",
    "axs[1].axvline(0,ls=\":\",color=\"grey\", lw=0.5)\n",
    "axs[1].set_ylim(0.95, 1.05);\n",
    "axs[1].minorticks_on()\n",
    "axs[1].tick_params(which = 'minor', length = 3)\n",
    "axs[1].tick_params(which = 'major', length = 5)\n",
    "axs[1].tick_params(which = 'both', direction='in')\n",
    "axs[1].set_ylabel('Ratio')\n",
    "\n",
    "plt.subplots_adjust(hspace = 0.1)\n",
    "plt.xlabel(var_label)\n",
    "\n",
    "if filename:\n",
    "    plt.savefig(filename, \n",
    "                dpi = 300,\n",
    "                transparent = True,\n",
    "                bbox_inches = 'tight')"
   ]
  },
  {
   "cell_type": "markdown",
   "id": "d6682f09-64bf-48e9-93af-d3956f025166",
   "metadata": {
    "jp-MarkdownHeadingCollapsed": true,
    "tags": []
   },
   "source": [
    "### SQR"
   ]
  },
  {
   "cell_type": "code",
   "execution_count": 85,
   "id": "c49f3646-2e7a-4a2f-bffd-ebb959f2668f",
   "metadata": {},
   "outputs": [],
   "source": [
    "# Experiment parameters\n",
    "num = 0\n",
    "reps = 100\n",
    "\n",
    "# Model parameters\n",
    "params_1 = {'loss':sqr, 'd': 4, 'output': 'relu'}\n",
    "params_2 = {'loss':square_sqr, 'd': 4, 'output': 'linear'}\n",
    "params_3 = {'loss':exp_sqr, 'd': 4, 'output': 'linear'}\n",
    "\n",
    "filestr = 'models/zenodo/c_sqr/set_{}/'.format(num)\n",
    "filestr_1 = filestr + 'relu/model_{}.h5'\n",
    "filestr_2 = filestr + 'square/model_{}.h5'\n",
    "filestr_3 = filestr + 'exponential/model_{}.h5'\n",
    "\n",
    "# Data parameters\n",
    "N = 10**6\n",
    "X = np.load('data/zenodo/fold/X_trn.npy')[:N]\n",
    "y = np.load('data/zenodo/fold/y_trn.npy')[:N].astype('float32')\n",
    "data, m, s = split_data(X, y)\n",
    "\n",
    "lr_calc_1 = pure_lr\n",
    "lr_calc_2 = square_lr\n",
    "lr_calc_3 = exp_lr\n",
    "\n",
    "# Plotting\n",
    "w = 3.5\n",
    "h = 3.25\n",
    "labels = [r'$\\text{ReLU}(z)$', r'$z^2$', r'$\\exp{z}$']\n",
    "y_lim = (0, 3)\n",
    "title = r'\\it MLC $\\phi$ Scan'\n",
    "filename = 'plots/zenodo/scans/mlc_phi.png'"
   ]
  },
  {
   "cell_type": "code",
   "execution_count": 86,
   "id": "46962266-b76a-440a-8feb-6da4aa73e73e",
   "metadata": {},
   "outputs": [
    {
     "name": "stdout",
     "output_type": "stream",
     "text": [
      "0 1 2 3 4 5 6 7 8 9 10 11 12 13 14 15 16 17 18 19 20 21 22 23 24 25 26 27 28 29 30 31 32 33 34 35 36 37 38 39 40 41 42 43 44 45 46 47 48 49 50 51 52 53 54 55 56 57 58 59 60 61 62 63 64 65 66 67 68 69 70 71 72 73 74 75 76 77 78 79 80 81 82 83 84 85 86 87 88 89 90 91 92 93 94 95 96 97 98 99 "
     ]
    }
   ],
   "source": [
    "lrs_1 = [None] * reps\n",
    "lrs_2 = [None] * reps\n",
    "lrs_3 = [None] * reps\n",
    "\n",
    "for i in range(reps):\n",
    "    print(i, end = ' ')\n",
    "    model_1 = create_model(**params_1)\n",
    "    model_2 = create_model(**params_2)\n",
    "    model_3 = create_model(**params_3)\n",
    "    \n",
    "    model_1.load_weights(filestr_1.format(i))\n",
    "    model_2.load_weights(filestr_2.format(i))\n",
    "    model_3.load_weights(filestr_3.format(i))\n",
    "    \n",
    "    lrs_1[i] = lr_calc_1(model_1, m, s)\n",
    "    lrs_2[i] = lr_calc_2(model_2, m, s)\n",
    "    lrs_3[i] = lr_calc_3(model_3, m, s)"
   ]
  },
  {
   "cell_type": "code",
   "execution_count": 87,
   "id": "e7c1e613-d6cb-4c80-be10-175bc36bb62f",
   "metadata": {},
   "outputs": [],
   "source": [
    "# Calculate predictions\n",
    "preds_1 = get_preds(lrs_1, xs)\n",
    "preds_2 = get_preds(lrs_2, xs)\n",
    "preds_3 = get_preds(lrs_3, xs)\n",
    "\n",
    "# Save results\n",
    "np.save(filestr + 'scans/{}/xs.npy'.format(var_string), xs)\n",
    "np.save(filestr + 'scans/{}/preds_1.npy'.format(var_string), preds_1)\n",
    "np.save(filestr + 'scans/{}/preds_2.npy'.format(var_string), preds_2)\n",
    "np.save(filestr + 'scans/{}/preds_3.npy'.format(var_string), preds_3)"
   ]
  },
  {
   "cell_type": "code",
   "execution_count": 88,
   "id": "ce7629da-ef1d-4f38-97e1-1bfe902058a5",
   "metadata": {},
   "outputs": [],
   "source": [
    "ensembles = [preds_1, preds_2, preds_3]\n",
    "n = len(ensembles)\n",
    "\n",
    "lrs = [None] * n\n",
    "lrrs = [None] * n\n",
    "for i in range(n):\n",
    "    lrs[i] = avg_lr(ensembles[i])\n",
    "    lrrs[i] = avg_lrr(lr, ensembles[i], xs)"
   ]
  },
  {
   "cell_type": "code",
   "execution_count": 89,
   "id": "599b5b54-63f5-443e-aaef-f32cf735e031",
   "metadata": {},
   "outputs": [
    {
     "data": {
      "image/png": "[encoded data removed]",
      "text/plain": [
       "<Figure size 252x234 with 2 Axes>"
      ]
     },
     "metadata": {
      "needs_background": "light"
     },
     "output_type": "display_data"
    }
   ],
   "source": [
    "fig, axs = plt.subplots(2, 1,\n",
    "                        figsize = (w, h),\n",
    "                        sharex = True, \n",
    "                        gridspec_kw = {'height_ratios': [2, 1]})\n",
    "\n",
    "if title:\n",
    "    axs[0].set_title(title, loc = 'right')\n",
    "\n",
    "# Plot likelihood ratios\n",
    "axs[0].plot(var, lr_true, label = 'Exact', c = 'k', lw = 0.75)\n",
    "\n",
    "for i in range(n):\n",
    "    axs[0].plot(var, \n",
    "                lrs[i], \n",
    "                label = labels[i],\n",
    "                c = cs[i % len(cs)], \n",
    "                ls = lss[i % len(lss)],\n",
    "                lw = 0.75)\n",
    "\n",
    "axs[0].set_xlim(var[0], var[-1])\n",
    "if y_lim:\n",
    "    axs[0].set_ylim(y_lim[0], y_lim[1])\n",
    "axs[0].legend()\n",
    "axs[0].minorticks_on()\n",
    "axs[0].tick_params(which = 'minor', length = 3)\n",
    "axs[0].tick_params(which = 'major', length = 5)\n",
    "axs[0].tick_params(which = 'both', direction='in')\n",
    "axs[0].set_ylabel('$\\mathcal{L}(x)$')\n",
    "\n",
    "# Plot likelihood ratio ratios\n",
    "for i in range(n):\n",
    "    axs[1].plot(var, \n",
    "                lrrs[i],\n",
    "                c = cs[i % len(cs)],\n",
    "                ls = lss[i % len(lss)],\n",
    "                lw = 0.75)\n",
    "\n",
    "axs[1].axhline(1,ls=\":\",color=\"grey\", lw=0.5)\n",
    "axs[1].axvline(0,ls=\":\",color=\"grey\", lw=0.5)\n",
    "axs[1].set_ylim(0.95, 1.05);\n",
    "axs[1].minorticks_on()\n",
    "axs[1].tick_params(which = 'minor', length = 3)\n",
    "axs[1].tick_params(which = 'major', length = 5)\n",
    "axs[1].tick_params(which = 'both', direction='in')\n",
    "axs[1].set_ylabel('Ratio')\n",
    "\n",
    "plt.subplots_adjust(hspace = 0.1)\n",
    "plt.xlabel(var_label)\n",
    "\n",
    "if filename:\n",
    "    plt.savefig(filename, \n",
    "                dpi = 300,\n",
    "                transparent = True,\n",
    "                bbox_inches = 'tight')"
   ]
  },
  {
   "cell_type": "markdown",
   "id": "4cd43165-f01d-456e-bada-f7b6ad7a6b22",
   "metadata": {
    "tags": []
   },
   "source": [
    "## $\\eta$ Scan"
   ]
  },
  {
   "cell_type": "code",
   "execution_count": 90,
   "id": "60d67abb-0716-4983-975e-6e276eaf073a",
   "metadata": {},
   "outputs": [],
   "source": [
    "# Get a one-dimensional slice of test points.\n",
    "etas = np.linspace(-5, 5, 1001).reshape(-1, 1)\n",
    "pTs = np.repeat(mode_pT, len(etas)).reshape(-1, 1)\n",
    "phis = np.repeat(mode_phi, len(etas)).reshape(-1, 1)\n",
    "ms = np.repeat(mode_m, len(etas)).reshape(-1, 1)\n",
    "\n",
    "xs = np.hstack([pTs, etas, phis, ms])\n",
    "var = etas\n",
    "var_label = r'$\\eta$'\n",
    "var_string = 'eta'\n",
    "\n",
    "lr_true = lr(xs)"
   ]
  },
  {
   "cell_type": "code",
   "execution_count": 91,
   "id": "65549b7f-30d3-4b15-a500-9b748f5257a7",
   "metadata": {},
   "outputs": [
    {
     "data": {
      "text/plain": [
       "[<matplotlib.lines.Line2D at 0x7ef96c807700>]"
      ]
     },
     "execution_count": 91,
     "metadata": {},
     "output_type": "execute_result"
    },
    {
     "data": {
      "image/png": "[encoded data removed]",
      "text/plain": [
       "<Figure size 432x288 with 1 Axes>"
      ]
     },
     "metadata": {
      "needs_background": "light"
     },
     "output_type": "display_data"
    }
   ],
   "source": [
    "plt.plot(etas, lr_true)"
   ]
  },
  {
   "cell_type": "markdown",
   "id": "ec90a078-fc51-487e-9e76-67d858aff652",
   "metadata": {
    "tags": []
   },
   "source": [
    "### BCE"
   ]
  },
  {
   "cell_type": "code",
   "execution_count": 92,
   "id": "b183779a-437c-47bd-aba4-d10f5f792d5e",
   "metadata": {},
   "outputs": [],
   "source": [
    "# Experiment parameters\n",
    "num = 0\n",
    "reps = 100\n",
    "\n",
    "# Model parameters\n",
    "params_1 = {'loss':bce, 'd':4}\n",
    "params_2 = {'loss':tanh_bce, 'd':4, 'output': 'linear'}\n",
    "params_3 = {'loss':arctan_bce, 'd':4,  'output': 'linear'}\n",
    "\n",
    "filestr = 'models/zenodo/c_bce/set_{}/'.format(num)\n",
    "filestr_1 = filestr + 'sigmoid/model_{}.h5'\n",
    "filestr_2 = filestr + 'tanh/model_{}.h5'\n",
    "filestr_3 = filestr + 'arctan/model_{}.h5'\n",
    "\n",
    "# Data parameters\n",
    "N = 10**6\n",
    "X = np.load('data/zenodo/fold/X_trn.npy')[:N]\n",
    "y = np.load('data/zenodo/fold/y_trn.npy')[:N].astype('float32')\n",
    "data, m, s = split_data(X, y)\n",
    "\n",
    "lr_calc_1 = odds_lr\n",
    "lr_calc_2 = tanh_lr\n",
    "lr_calc_3 = arctan_lr\n",
    "\n",
    "# Plotting\n",
    "w = 3.5\n",
    "h = 3.25\n",
    "labels = [r'$\\sigma(z)$', r'$\\frac{1}{2}\\left(\\tanh{z} + 1\\right)$', r'$\\frac{1}{\\pi}\\left(\\arctan{z} + \\frac{\\pi}{2}\\right)$']\n",
    "y_lim = (0, 3)\n",
    "title = r'\\it BCE $\\phi$ Scan'\n",
    "filename = 'plots/zenodo/scans/bce_phi.png'"
   ]
  },
  {
   "cell_type": "code",
   "execution_count": 93,
   "id": "83dcaf71-30cf-4255-a93f-8108c2307cd9",
   "metadata": {},
   "outputs": [
    {
     "name": "stdout",
     "output_type": "stream",
     "text": [
      "0 1 2 3 4 5 6 7 8 9 10 11 12 13 14 15 16 17 18 19 20 21 22 23 24 25 26 27 28 29 30 31 32 33 34 35 36 37 38 39 40 41 42 43 44 45 46 47 48 49 50 51 52 53 54 55 56 57 58 59 60 61 62 63 64 65 66 67 68 69 70 71 72 73 74 75 76 77 78 79 80 81 82 83 84 85 86 87 88 89 90 91 92 93 94 95 96 97 98 99 "
     ]
    }
   ],
   "source": [
    "lrs_1 = [None] * reps\n",
    "lrs_2 = [None] * reps\n",
    "lrs_3 = [None] * reps\n",
    "\n",
    "for i in range(reps):\n",
    "    print(i, end = ' ')\n",
    "    model_1 = create_model(**params_1)\n",
    "    model_2 = create_model(**params_2)\n",
    "    model_3 = create_model(**params_3)\n",
    "    \n",
    "    model_1.load_weights(filestr_1.format(i))\n",
    "    model_2.load_weights(filestr_2.format(i))\n",
    "    model_3.load_weights(filestr_3.format(i))\n",
    "    \n",
    "    lrs_1[i] = lr_calc_1(model_1, m, s)\n",
    "    lrs_2[i] = lr_calc_2(model_2, m, s)\n",
    "    lrs_3[i] = lr_calc_3(model_3, m, s)"
   ]
  },
  {
   "cell_type": "code",
   "execution_count": 94,
   "id": "df3cd9fb-c679-46ed-914b-c50580f8c62d",
   "metadata": {},
   "outputs": [],
   "source": [
    "# Calculate predictions\n",
    "preds_1 = get_preds(lrs_1, xs)\n",
    "preds_2 = get_preds(lrs_2, xs)\n",
    "preds_3 = get_preds(lrs_3, xs)\n",
    "\n",
    "# Save results\n",
    "np.save(filestr + 'scans/{}/xs.npy'.format(var_string), xs)\n",
    "np.save(filestr + 'scans/{}/preds_1.npy'.format(var_string), preds_1)\n",
    "np.save(filestr + 'scans/{}/preds_2.npy'.format(var_string), preds_2)\n",
    "np.save(filestr + 'scans/{}/preds_3.npy'.format(var_string), preds_3)"
   ]
  },
  {
   "cell_type": "code",
   "execution_count": 95,
   "id": "fa640912-6922-426b-8a5d-6e182d286ea6",
   "metadata": {},
   "outputs": [],
   "source": [
    "ensembles = [preds_1, preds_2, preds_3]\n",
    "n = len(ensembles)\n",
    "\n",
    "lrs = [None] * n\n",
    "lrrs = [None] * n\n",
    "for i in range(n):\n",
    "    lrs[i] = avg_lr(ensembles[i])\n",
    "    lrrs[i] = avg_lrr(lr, ensembles[i], xs)"
   ]
  },
  {
   "cell_type": "code",
   "execution_count": 96,
   "id": "8e06a408-c406-48c6-abe1-bf70b7220923",
   "metadata": {},
   "outputs": [
    {
     "data": {
      "image/png": "[encoded data removed]",
      "text/plain": [
       "<Figure size 252x234 with 2 Axes>"
      ]
     },
     "metadata": {
      "needs_background": "light"
     },
     "output_type": "display_data"
    }
   ],
   "source": [
    "fig, axs = plt.subplots(2, 1,\n",
    "                        figsize = (w, h),\n",
    "                        sharex = True, \n",
    "                        gridspec_kw = {'height_ratios': [2, 1]})\n",
    "\n",
    "if title:\n",
    "    axs[0].set_title(title, loc = 'right')\n",
    "\n",
    "# Plot likelihood ratios\n",
    "axs[0].plot(var, lr_true, label = 'Exact', c = 'k', lw = 0.75)\n",
    "\n",
    "for i in range(n):\n",
    "    axs[0].plot(var, \n",
    "                lrs[i], \n",
    "                label = labels[i],\n",
    "                c = cs[i % len(cs)], \n",
    "                ls = lss[i % len(lss)],\n",
    "                lw = 0.75)\n",
    "\n",
    "axs[0].set_xlim(var[0], var[-1])\n",
    "if y_lim:\n",
    "    axs[0].set_ylim(y_lim[0], y_lim[1])\n",
    "axs[0].legend()\n",
    "axs[0].minorticks_on()\n",
    "axs[0].tick_params(which = 'minor', length = 3)\n",
    "axs[0].tick_params(which = 'major', length = 5)\n",
    "axs[0].tick_params(which = 'both', direction='in')\n",
    "axs[0].set_ylabel('$\\mathcal{L}(x)$')\n",
    "\n",
    "# Plot likelihood ratio ratios\n",
    "for i in range(n):\n",
    "    axs[1].plot(var, \n",
    "                lrrs[i],\n",
    "                c = cs[i % len(cs)],\n",
    "                ls = lss[i % len(lss)],\n",
    "                lw = 0.75)\n",
    "\n",
    "axs[1].axhline(1,ls=\":\",color=\"grey\", lw=0.5)\n",
    "axs[1].axvline(0,ls=\":\",color=\"grey\", lw=0.5)\n",
    "axs[1].set_ylim(0.95, 1.05);\n",
    "axs[1].minorticks_on()\n",
    "axs[1].tick_params(which = 'minor', length = 3)\n",
    "axs[1].tick_params(which = 'major', length = 5)\n",
    "axs[1].tick_params(which = 'both', direction='in')\n",
    "axs[1].set_ylabel('Ratio')\n",
    "\n",
    "plt.subplots_adjust(hspace = 0.1)\n",
    "plt.xlabel(var_label)\n",
    "\n",
    "if filename:\n",
    "    plt.savefig(filename, \n",
    "                dpi = 300,\n",
    "                transparent = True,\n",
    "                bbox_inches = 'tight')"
   ]
  },
  {
   "cell_type": "markdown",
   "id": "12721d79-0cbf-4ac3-94dd-6dd69e574bb3",
   "metadata": {
    "jp-MarkdownHeadingCollapsed": true,
    "tags": []
   },
   "source": [
    "### MSE"
   ]
  },
  {
   "cell_type": "code",
   "execution_count": 97,
   "id": "904db736-98e7-4b0e-a8df-55e47c85bd64",
   "metadata": {},
   "outputs": [],
   "source": [
    "# Experiment parameters\n",
    "num = 0\n",
    "reps = 100\n",
    "\n",
    "# Model parameters\n",
    "params_1 = {'loss':mse, 'd':4}\n",
    "params_2 = {'loss':tanh_mse, 'd':4, 'output': 'linear'}\n",
    "params_3 = {'loss':arctan_mse, 'd':4,  'output': 'linear'}\n",
    "\n",
    "filestr = 'models/zenodo/c_mse/set_{}/'.format(num)\n",
    "filestr_1 = filestr + 'sigmoid/model_{}.h5'\n",
    "filestr_2 = filestr + 'tanh/model_{}.h5'\n",
    "filestr_3 = filestr + 'arctan/model_{}.h5'\n",
    "\n",
    "# Data parameters\n",
    "N = 10**6\n",
    "X = np.load('data/zenodo/fold/X_trn.npy')[:N]\n",
    "y = np.load('data/zenodo/fold/y_trn.npy')[:N].astype('float32')\n",
    "data, m, s = split_data(X, y)\n",
    "\n",
    "lr_calc_1 = odds_lr\n",
    "lr_calc_2 = tanh_lr\n",
    "lr_calc_3 = arctan_lr\n",
    "\n",
    "# Plotting\n",
    "w = 3.5\n",
    "h = 3.25\n",
    "labels = [r'$\\sigma(z)$', r'$\\frac{1}{2}\\left(\\tanh{z} + 1\\right)$', r'$\\frac{1}{\\pi}\\left(\\arctan{z} + \\frac{\\pi}{2}\\right)$']\n",
    "y_lim = (0, 3)\n",
    "title = r'\\it MSE $\\phi$ Scan'\n",
    "filename = 'plots/zenodo/scans/mse_phi.png'"
   ]
  },
  {
   "cell_type": "code",
   "execution_count": 98,
   "id": "6f25876b-474d-4eed-9119-c2d8fc0ff166",
   "metadata": {},
   "outputs": [
    {
     "name": "stdout",
     "output_type": "stream",
     "text": [
      "0 1 2 3 4 5 6 7 8 9 10 11 12 13 14 15 16 17 18 19 20 21 22 23 24 25 26 27 28 29 30 31 32 33 34 35 36 37 38 39 40 41 42 43 44 45 46 47 48 49 50 51 52 53 54 55 56 57 58 59 60 61 62 63 64 65 66 67 68 69 70 71 72 73 74 75 76 77 78 79 80 81 82 83 84 85 86 87 88 89 90 91 92 93 94 95 96 97 98 99 "
     ]
    }
   ],
   "source": [
    "lrs_1 = [None] * reps\n",
    "lrs_2 = [None] * reps\n",
    "lrs_3 = [None] * reps\n",
    "\n",
    "for i in range(reps):\n",
    "    print(i, end = ' ')\n",
    "    model_1 = create_model(**params_1)\n",
    "    model_2 = create_model(**params_2)\n",
    "    model_3 = create_model(**params_3)\n",
    "    \n",
    "    model_1.load_weights(filestr_1.format(i))\n",
    "    model_2.load_weights(filestr_2.format(i))\n",
    "    model_3.load_weights(filestr_3.format(i))\n",
    "    \n",
    "    lrs_1[i] = lr_calc_1(model_1, m, s)\n",
    "    lrs_2[i] = lr_calc_2(model_2, m, s)\n",
    "    lrs_3[i] = lr_calc_3(model_3, m, s)"
   ]
  },
  {
   "cell_type": "code",
   "execution_count": 99,
   "id": "7def4200-a8ea-4be5-802d-a52716267eb1",
   "metadata": {},
   "outputs": [],
   "source": [
    "# Calculate predictions\n",
    "preds_1 = get_preds(lrs_1, xs)\n",
    "preds_2 = get_preds(lrs_2, xs)\n",
    "preds_3 = get_preds(lrs_3, xs)\n",
    "\n",
    "# Save results\n",
    "np.save(filestr + 'scans/{}/xs.npy'.format(var_string), xs)\n",
    "np.save(filestr + 'scans/{}/preds_1.npy'.format(var_string), preds_1)\n",
    "np.save(filestr + 'scans/{}/preds_2.npy'.format(var_string), preds_2)\n",
    "np.save(filestr + 'scans/{}/preds_3.npy'.format(var_string), preds_3)"
   ]
  },
  {
   "cell_type": "code",
   "execution_count": 100,
   "id": "ec24c9d2-d6cd-49ba-b396-3d5f33bdd720",
   "metadata": {},
   "outputs": [],
   "source": [
    "ensembles = [preds_1, preds_2, preds_3]\n",
    "n = len(ensembles)\n",
    "\n",
    "lrs = [None] * n\n",
    "lrrs = [None] * n\n",
    "for i in range(n):\n",
    "    lrs[i] = avg_lr(ensembles[i])\n",
    "    lrrs[i] = avg_lrr(lr, ensembles[i], xs)"
   ]
  },
  {
   "cell_type": "code",
   "execution_count": 101,
   "id": "6e65b21f-c5ff-4a76-a1d9-fcd64c8d89dd",
   "metadata": {},
   "outputs": [
    {
     "data": {
      "image/png": "[encoded data removed]",
      "text/plain": [
       "<Figure size 252x234 with 2 Axes>"
      ]
     },
     "metadata": {
      "needs_background": "light"
     },
     "output_type": "display_data"
    }
   ],
   "source": [
    "fig, axs = plt.subplots(2, 1,\n",
    "                        figsize = (w, h),\n",
    "                        sharex = True, \n",
    "                        gridspec_kw = {'height_ratios': [2, 1]})\n",
    "\n",
    "if title:\n",
    "    axs[0].set_title(title, loc = 'right')\n",
    "\n",
    "# Plot likelihood ratios\n",
    "axs[0].plot(var, lr_true, label = 'Exact', c = 'k', lw = 0.75)\n",
    "\n",
    "for i in range(n):\n",
    "    axs[0].plot(var, \n",
    "                lrs[i], \n",
    "                label = labels[i],\n",
    "                c = cs[i % len(cs)], \n",
    "                ls = lss[i % len(lss)],\n",
    "                lw = 0.75)\n",
    "\n",
    "axs[0].set_xlim(var[0], var[-1])\n",
    "if y_lim:\n",
    "    axs[0].set_ylim(y_lim[0], y_lim[1])\n",
    "axs[0].legend()\n",
    "axs[0].minorticks_on()\n",
    "axs[0].tick_params(which = 'minor', length = 3)\n",
    "axs[0].tick_params(which = 'major', length = 5)\n",
    "axs[0].tick_params(which = 'both', direction='in')\n",
    "axs[0].set_ylabel('$\\mathcal{L}(x)$')\n",
    "\n",
    "# Plot likelihood ratio ratios\n",
    "for i in range(n):\n",
    "    axs[1].plot(var, \n",
    "                lrrs[i],\n",
    "                c = cs[i % len(cs)],\n",
    "                ls = lss[i % len(lss)],\n",
    "                lw = 0.75)\n",
    "\n",
    "axs[1].axhline(1,ls=\":\",color=\"grey\", lw=0.5)\n",
    "axs[1].axvline(0,ls=\":\",color=\"grey\", lw=0.5)\n",
    "axs[1].set_ylim(0.95, 1.05);\n",
    "axs[1].minorticks_on()\n",
    "axs[1].tick_params(which = 'minor', length = 3)\n",
    "axs[1].tick_params(which = 'major', length = 5)\n",
    "axs[1].tick_params(which = 'both', direction='in')\n",
    "axs[1].set_ylabel('Ratio')\n",
    "\n",
    "plt.subplots_adjust(hspace = 0.1)\n",
    "plt.xlabel(var_label)\n",
    "\n",
    "if filename:\n",
    "    plt.savefig(filename, \n",
    "                dpi = 300,\n",
    "                transparent = True,\n",
    "                bbox_inches = 'tight')"
   ]
  },
  {
   "cell_type": "markdown",
   "id": "8cc38791-83f3-4a08-962c-43ddd356090e",
   "metadata": {
    "jp-MarkdownHeadingCollapsed": true,
    "tags": []
   },
   "source": [
    "### MLC"
   ]
  },
  {
   "cell_type": "code",
   "execution_count": 102,
   "id": "0f262f2e-ddd5-4386-bbd9-f8d6801eec26",
   "metadata": {},
   "outputs": [],
   "source": [
    "# Experiment parameters\n",
    "num = 0\n",
    "reps = 100\n",
    "\n",
    "# Model parameters\n",
    "params_1 = {'loss':mlc, 'd': 4, 'output': 'relu'}\n",
    "params_2 = {'loss':square_mlc, 'd': 4, 'output': 'linear'}\n",
    "params_3 = {'loss':exp_mlc, 'd': 4, 'output': 'linear'}\n",
    "\n",
    "filestr = 'models/zenodo/c_mlc/set_{}/'.format(num)\n",
    "filestr_1 = filestr + 'relu/model_{}.h5'\n",
    "filestr_2 = filestr + 'square/model_{}.h5'\n",
    "filestr_3 = filestr + 'exponential/model_{}.h5'\n",
    "\n",
    "# Data parameters\n",
    "N = 10**6\n",
    "X = np.load('data/zenodo/fold/X_trn.npy')[:N]\n",
    "y = np.load('data/zenodo/fold/y_trn.npy')[:N].astype('float32')\n",
    "data, m, s = split_data(X, y)\n",
    "\n",
    "lr_calc_1 = pure_lr\n",
    "lr_calc_2 = square_lr\n",
    "lr_calc_3 = exp_lr\n",
    "\n",
    "# Plotting\n",
    "w = 3.5\n",
    "h = 3.25\n",
    "labels = [r'$\\text{ReLU}(z)$', r'$z^2$', r'$\\exp{z}$']\n",
    "y_lim = (0, 3)\n",
    "title = r'\\it MLC $\\phi$ Scan'\n",
    "filename = 'plots/zenodo/scans/mlc_phi.png'"
   ]
  },
  {
   "cell_type": "code",
   "execution_count": 103,
   "id": "68e8a75a-499d-4312-b43e-550d65f67ab6",
   "metadata": {},
   "outputs": [
    {
     "name": "stdout",
     "output_type": "stream",
     "text": [
      "0 1 2 3 4 5 6 7 8 9 10 11 12 13 14 15 16 17 18 19 20 21 22 23 24 25 26 27 28 29 30 31 32 33 34 35 36 37 38 39 40 41 42 43 44 45 46 47 48 49 50 51 52 53 54 55 56 57 58 59 60 61 62 63 64 65 66 67 68 69 70 71 72 73 74 75 76 77 78 79 80 81 82 83 84 85 86 87 88 89 90 91 92 93 94 95 96 97 98 99 "
     ]
    }
   ],
   "source": [
    "lrs_1 = [None] * reps\n",
    "lrs_2 = [None] * reps\n",
    "lrs_3 = [None] * reps\n",
    "\n",
    "for i in range(reps):\n",
    "    print(i, end = ' ')\n",
    "    model_1 = create_model(**params_1)\n",
    "    model_2 = create_model(**params_2)\n",
    "    model_3 = create_model(**params_3)\n",
    "    \n",
    "    model_1.load_weights(filestr_1.format(i))\n",
    "    model_2.load_weights(filestr_2.format(i))\n",
    "    model_3.load_weights(filestr_3.format(i))\n",
    "    \n",
    "    lrs_1[i] = lr_calc_1(model_1, m, s)\n",
    "    lrs_2[i] = lr_calc_2(model_2, m, s)\n",
    "    lrs_3[i] = lr_calc_3(model_3, m, s)"
   ]
  },
  {
   "cell_type": "code",
   "execution_count": 104,
   "id": "bf85fe47-e66a-4d52-9580-c4c88101ad8a",
   "metadata": {},
   "outputs": [],
   "source": [
    "# Calculate predictions\n",
    "preds_1 = get_preds(lrs_1, xs)\n",
    "preds_2 = get_preds(lrs_2, xs)\n",
    "preds_3 = get_preds(lrs_3, xs)\n",
    "\n",
    "# Save results\n",
    "np.save(filestr + 'scans/{}/xs.npy'.format(var_string), xs)\n",
    "np.save(filestr + 'scans/{}/preds_1.npy'.format(var_string), preds_1)\n",
    "np.save(filestr + 'scans/{}/preds_2.npy'.format(var_string), preds_2)\n",
    "np.save(filestr + 'scans/{}/preds_3.npy'.format(var_string), preds_3)"
   ]
  },
  {
   "cell_type": "code",
   "execution_count": 105,
   "id": "fb5df6ac-2641-41f4-bf36-54411f1ac9c4",
   "metadata": {},
   "outputs": [],
   "source": [
    "ensembles = [preds_1, preds_2, preds_3]\n",
    "n = len(ensembles)\n",
    "\n",
    "lrs = [None] * n\n",
    "lrrs = [None] * n\n",
    "for i in range(n):\n",
    "    lrs[i] = avg_lr(ensembles[i])\n",
    "    lrrs[i] = avg_lrr(lr, ensembles[i], xs)"
   ]
  },
  {
   "cell_type": "code",
   "execution_count": 106,
   "id": "50bdace9-db3c-4583-8b94-e4b3f8452728",
   "metadata": {},
   "outputs": [
    {
     "data": {
      "image/png": "[encoded data removed]",
      "text/plain": [
       "<Figure size 252x234 with 2 Axes>"
      ]
     },
     "metadata": {
      "needs_background": "light"
     },
     "output_type": "display_data"
    }
   ],
   "source": [
    "fig, axs = plt.subplots(2, 1,\n",
    "                        figsize = (w, h),\n",
    "                        sharex = True, \n",
    "                        gridspec_kw = {'height_ratios': [2, 1]})\n",
    "\n",
    "if title:\n",
    "    axs[0].set_title(title, loc = 'right')\n",
    "\n",
    "# Plot likelihood ratios\n",
    "axs[0].plot(var, lr_true, label = 'Exact', c = 'k', lw = 0.75)\n",
    "\n",
    "for i in range(n):\n",
    "    axs[0].plot(var, \n",
    "                lrs[i], \n",
    "                label = labels[i],\n",
    "                c = cs[i % len(cs)], \n",
    "                ls = lss[i % len(lss)],\n",
    "                lw = 0.75)\n",
    "\n",
    "axs[0].set_xlim(var[0], var[-1])\n",
    "if y_lim:\n",
    "    axs[0].set_ylim(y_lim[0], y_lim[1])\n",
    "axs[0].legend()\n",
    "axs[0].minorticks_on()\n",
    "axs[0].tick_params(which = 'minor', length = 3)\n",
    "axs[0].tick_params(which = 'major', length = 5)\n",
    "axs[0].tick_params(which = 'both', direction='in')\n",
    "axs[0].set_ylabel('$\\mathcal{L}(x)$')\n",
    "\n",
    "# Plot likelihood ratio ratios\n",
    "for i in range(n):\n",
    "    axs[1].plot(var, \n",
    "                lrrs[i],\n",
    "                c = cs[i % len(cs)],\n",
    "                ls = lss[i % len(lss)],\n",
    "                lw = 0.75)\n",
    "\n",
    "axs[1].axhline(1,ls=\":\",color=\"grey\", lw=0.5)\n",
    "axs[1].axvline(0,ls=\":\",color=\"grey\", lw=0.5)\n",
    "axs[1].set_ylim(0.95, 1.05);\n",
    "axs[1].minorticks_on()\n",
    "axs[1].tick_params(which = 'minor', length = 3)\n",
    "axs[1].tick_params(which = 'major', length = 5)\n",
    "axs[1].tick_params(which = 'both', direction='in')\n",
    "axs[1].set_ylabel('Ratio')\n",
    "\n",
    "plt.subplots_adjust(hspace = 0.1)\n",
    "plt.xlabel(var_label)\n",
    "\n",
    "if filename:\n",
    "    plt.savefig(filename, \n",
    "                dpi = 300,\n",
    "                transparent = True,\n",
    "                bbox_inches = 'tight')"
   ]
  },
  {
   "cell_type": "markdown",
   "id": "f741f259-b9de-4fab-9551-be913df74d6f",
   "metadata": {
    "jp-MarkdownHeadingCollapsed": true,
    "tags": []
   },
   "source": [
    "### SQR"
   ]
  },
  {
   "cell_type": "code",
   "execution_count": 107,
   "id": "16ef0d22-0e9e-430b-b2b7-173af2317717",
   "metadata": {},
   "outputs": [],
   "source": [
    "# Experiment parameters\n",
    "num = 0\n",
    "reps = 100\n",
    "\n",
    "# Model parameters\n",
    "params_1 = {'loss':sqr, 'd': 4, 'output': 'relu'}\n",
    "params_2 = {'loss':square_sqr, 'd': 4, 'output': 'linear'}\n",
    "params_3 = {'loss':exp_sqr, 'd': 4, 'output': 'linear'}\n",
    "\n",
    "filestr = 'models/zenodo/c_sqr/set_{}/'.format(num)\n",
    "filestr_1 = filestr + 'relu/model_{}.h5'\n",
    "filestr_2 = filestr + 'square/model_{}.h5'\n",
    "filestr_3 = filestr + 'exponential/model_{}.h5'\n",
    "\n",
    "# Data parameters\n",
    "N = 10**6\n",
    "X = np.load('data/zenodo/fold/X_trn.npy')[:N]\n",
    "y = np.load('data/zenodo/fold/y_trn.npy')[:N].astype('float32')\n",
    "data, m, s = split_data(X, y)\n",
    "\n",
    "lr_calc_1 = pure_lr\n",
    "lr_calc_2 = square_lr\n",
    "lr_calc_3 = exp_lr\n",
    "\n",
    "# Plotting\n",
    "w = 3.5\n",
    "h = 3.25\n",
    "labels = [r'$\\text{ReLU}(z)$', r'$z^2$', r'$\\exp{z}$']\n",
    "y_lim = (0, 3)\n",
    "title = r'\\it MLC $\\phi$ Scan'\n",
    "filename = 'plots/zenodo/scans/mlc_phi.png'"
   ]
  },
  {
   "cell_type": "code",
   "execution_count": 108,
   "id": "9ee9bf5f-efc9-4254-a606-4f18843f6353",
   "metadata": {},
   "outputs": [
    {
     "name": "stdout",
     "output_type": "stream",
     "text": [
      "0 1 2 3 4 5 6 7 8 9 10 11 12 13 14 15 16 17 18 19 20 21 22 23 24 25 26 27 28 29 30 31 32 33 34 35 36 37 38 39 40 41 42 43 44 45 46 47 48 49 50 51 52 53 54 55 56 57 58 59 60 61 62 63 64 65 66 67 68 69 70 71 72 73 74 75 76 77 78 79 80 81 82 83 84 85 86 87 88 89 90 91 92 93 94 95 96 97 98 99 "
     ]
    }
   ],
   "source": [
    "lrs_1 = [None] * reps\n",
    "lrs_2 = [None] * reps\n",
    "lrs_3 = [None] * reps\n",
    "\n",
    "for i in range(reps):\n",
    "    print(i, end = ' ')\n",
    "    model_1 = create_model(**params_1)\n",
    "    model_2 = create_model(**params_2)\n",
    "    model_3 = create_model(**params_3)\n",
    "    \n",
    "    model_1.load_weights(filestr_1.format(i))\n",
    "    model_2.load_weights(filestr_2.format(i))\n",
    "    model_3.load_weights(filestr_3.format(i))\n",
    "    \n",
    "    lrs_1[i] = lr_calc_1(model_1, m, s)\n",
    "    lrs_2[i] = lr_calc_2(model_2, m, s)\n",
    "    lrs_3[i] = lr_calc_3(model_3, m, s)"
   ]
  },
  {
   "cell_type": "code",
   "execution_count": 109,
   "id": "2792548c-c27b-4554-a946-8ecabca1a58a",
   "metadata": {},
   "outputs": [],
   "source": [
    "# Calculate predictions\n",
    "preds_1 = get_preds(lrs_1, xs)\n",
    "preds_2 = get_preds(lrs_2, xs)\n",
    "preds_3 = get_preds(lrs_3, xs)\n",
    "\n",
    "# Save results\n",
    "np.save(filestr + 'scans/{}/xs.npy'.format(var_string), xs)\n",
    "np.save(filestr + 'scans/{}/preds_1.npy'.format(var_string), preds_1)\n",
    "np.save(filestr + 'scans/{}/preds_2.npy'.format(var_string), preds_2)\n",
    "np.save(filestr + 'scans/{}/preds_3.npy'.format(var_string), preds_3)"
   ]
  },
  {
   "cell_type": "code",
   "execution_count": 110,
   "id": "7b98b633-6f30-48e6-a008-405124142aff",
   "metadata": {},
   "outputs": [],
   "source": [
    "ensembles = [preds_1, preds_2, preds_3]\n",
    "n = len(ensembles)\n",
    "\n",
    "lrs = [None] * n\n",
    "lrrs = [None] * n\n",
    "for i in range(n):\n",
    "    lrs[i] = avg_lr(ensembles[i])\n",
    "    lrrs[i] = avg_lrr(lr, ensembles[i], xs)"
   ]
  },
  {
   "cell_type": "code",
   "execution_count": 111,
   "id": "0a16848d-24d4-4da8-9206-5536b2c2d485",
   "metadata": {},
   "outputs": [
    {
     "data": {
      "image/png": "[encoded data removed]",
      "text/plain": [
       "<Figure size 252x234 with 2 Axes>"
      ]
     },
     "metadata": {
      "needs_background": "light"
     },
     "output_type": "display_data"
    }
   ],
   "source": [
    "fig, axs = plt.subplots(2, 1,\n",
    "                        figsize = (w, h),\n",
    "                        sharex = True, \n",
    "                        gridspec_kw = {'height_ratios': [2, 1]})\n",
    "\n",
    "if title:\n",
    "    axs[0].set_title(title, loc = 'right')\n",
    "\n",
    "# Plot likelihood ratios\n",
    "axs[0].plot(var, lr_true, label = 'Exact', c = 'k', lw = 0.75)\n",
    "\n",
    "for i in range(n):\n",
    "    axs[0].plot(var, \n",
    "                lrs[i], \n",
    "                label = labels[i],\n",
    "                c = cs[i % len(cs)], \n",
    "                ls = lss[i % len(lss)],\n",
    "                lw = 0.75)\n",
    "\n",
    "axs[0].set_xlim(var[0], var[-1])\n",
    "if y_lim:\n",
    "    axs[0].set_ylim(y_lim[0], y_lim[1])\n",
    "axs[0].legend()\n",
    "axs[0].minorticks_on()\n",
    "axs[0].tick_params(which = 'minor', length = 3)\n",
    "axs[0].tick_params(which = 'major', length = 5)\n",
    "axs[0].tick_params(which = 'both', direction='in')\n",
    "axs[0].set_ylabel('$\\mathcal{L}(x)$')\n",
    "\n",
    "# Plot likelihood ratio ratios\n",
    "for i in range(n):\n",
    "    axs[1].plot(var, \n",
    "                lrrs[i],\n",
    "                c = cs[i % len(cs)],\n",
    "                ls = lss[i % len(lss)],\n",
    "                lw = 0.75)\n",
    "\n",
    "axs[1].axhline(1,ls=\":\",color=\"grey\", lw=0.5)\n",
    "axs[1].axvline(0,ls=\":\",color=\"grey\", lw=0.5)\n",
    "axs[1].set_ylim(0.95, 1.05);\n",
    "axs[1].minorticks_on()\n",
    "axs[1].tick_params(which = 'minor', length = 3)\n",
    "axs[1].tick_params(which = 'major', length = 5)\n",
    "axs[1].tick_params(which = 'both', direction='in')\n",
    "axs[1].set_ylabel('Ratio')\n",
    "\n",
    "plt.subplots_adjust(hspace = 0.1)\n",
    "plt.xlabel(var_label)\n",
    "\n",
    "if filename:\n",
    "    plt.savefig(filename, \n",
    "                dpi = 300,\n",
    "                transparent = True,\n",
    "                bbox_inches = 'tight')"
   ]
  },
  {
   "cell_type": "markdown",
   "id": "8d2b302b-4a55-4692-92d8-841886ef0456",
   "metadata": {
    "tags": []
   },
   "source": [
    "## $m$ Scan"
   ]
  },
  {
   "cell_type": "code",
   "execution_count": 112,
   "id": "8d1dd6c2-f01f-49fc-bcdd-88e39849eedb",
   "metadata": {},
   "outputs": [],
   "source": [
    "# Get a one-dimensional slice of test points.\n",
    "ms = np.linspace(0, 80, 1001).reshape(-1, 1)\n",
    "pTs = np.repeat(mode_pT, len(ms)).reshape(-1, 1)\n",
    "phis = np.repeat(mode_phi, len(ms)).reshape(-1, 1)\n",
    "etas = np.repeat(mode_eta, len(ms)).reshape(-1, 1)\n",
    "\n",
    "xs = np.hstack([pTs, etas, phis, ms])\n",
    "var = ms\n",
    "var_label = r'$m$'\n",
    "var_string = 'm'\n",
    "\n",
    "lr_true = lr(xs)\n",
    "\n",
    "lr_true = lr(xs)"
   ]
  },
  {
   "cell_type": "code",
   "execution_count": 113,
   "id": "72011336-edab-4a63-9195-0e27aabd7cd0",
   "metadata": {},
   "outputs": [
    {
     "data": {
      "text/plain": [
       "[<matplotlib.lines.Line2D at 0x7ef96cafbe20>]"
      ]
     },
     "execution_count": 113,
     "metadata": {},
     "output_type": "execute_result"
    },
    {
     "data": {
      "image/png": "[encoded data removed]",
      "text/plain": [
       "<Figure size 432x288 with 1 Axes>"
      ]
     },
     "metadata": {
      "needs_background": "light"
     },
     "output_type": "display_data"
    }
   ],
   "source": [
    "plt.plot(ms, lr_true)"
   ]
  },
  {
   "cell_type": "markdown",
   "id": "c4037258-8fb9-478b-8c05-b479a53f9327",
   "metadata": {
    "tags": []
   },
   "source": [
    "### BCE"
   ]
  },
  {
   "cell_type": "code",
   "execution_count": 114,
   "id": "a0ddbd74-664d-48cb-8db5-cdb235478382",
   "metadata": {},
   "outputs": [],
   "source": [
    "# Experiment parameters\n",
    "num = 0\n",
    "reps = 100\n",
    "\n",
    "# Model parameters\n",
    "params_1 = {'loss':bce, 'd':4}\n",
    "params_2 = {'loss':tanh_bce, 'd':4, 'output': 'linear'}\n",
    "params_3 = {'loss':arctan_bce, 'd':4,  'output': 'linear'}\n",
    "\n",
    "filestr = 'models/zenodo/c_bce/set_{}/'.format(num)\n",
    "filestr_1 = filestr + 'sigmoid/model_{}.h5'\n",
    "filestr_2 = filestr + 'tanh/model_{}.h5'\n",
    "filestr_3 = filestr + 'arctan/model_{}.h5'\n",
    "\n",
    "# Data parameters\n",
    "N = 10**6\n",
    "X = np.load('data/zenodo/fold/X_trn.npy')[:N]\n",
    "y = np.load('data/zenodo/fold/y_trn.npy')[:N].astype('float32')\n",
    "data, m, s = split_data(X, y)\n",
    "\n",
    "lr_calc_1 = odds_lr\n",
    "lr_calc_2 = tanh_lr\n",
    "lr_calc_3 = arctan_lr\n",
    "\n",
    "# Plotting\n",
    "w = 3.5\n",
    "h = 3.25\n",
    "labels = [r'$\\sigma(z)$', r'$\\frac{1}{2}\\left(\\tanh{z} + 1\\right)$', r'$\\frac{1}{\\pi}\\left(\\arctan{z} + \\frac{\\pi}{2}\\right)$']\n",
    "y_lim = (0, 3)\n",
    "title = r'\\it BCE $\\phi$ Scan'\n",
    "filename = 'plots/zenodo/scans/bce_phi.png'"
   ]
  },
  {
   "cell_type": "code",
   "execution_count": 115,
   "id": "f6cbd903-e224-425a-a077-b4bee8caef58",
   "metadata": {},
   "outputs": [
    {
     "name": "stdout",
     "output_type": "stream",
     "text": [
      "0 1 2 3 4 5 6 7 8 9 10 11 12 13 14 15 16 17 18 19 20 21 22 23 24 25 26 27 28 29 30 31 32 33 34 35 36 37 38 39 40 41 42 43 44 45 46 47 48 49 50 51 52 53 54 55 56 57 58 59 60 61 62 63 64 65 66 67 68 69 70 71 72 73 74 75 76 77 78 79 80 81 82 83 84 85 86 87 88 89 90 91 92 93 94 95 96 97 98 99 "
     ]
    }
   ],
   "source": [
    "lrs_1 = [None] * reps\n",
    "lrs_2 = [None] * reps\n",
    "lrs_3 = [None] * reps\n",
    "\n",
    "for i in range(reps):\n",
    "    print(i, end = ' ')\n",
    "    model_1 = create_model(**params_1)\n",
    "    model_2 = create_model(**params_2)\n",
    "    model_3 = create_model(**params_3)\n",
    "    \n",
    "    model_1.load_weights(filestr_1.format(i))\n",
    "    model_2.load_weights(filestr_2.format(i))\n",
    "    model_3.load_weights(filestr_3.format(i))\n",
    "    \n",
    "    lrs_1[i] = lr_calc_1(model_1, m, s)\n",
    "    lrs_2[i] = lr_calc_2(model_2, m, s)\n",
    "    lrs_3[i] = lr_calc_3(model_3, m, s)"
   ]
  },
  {
   "cell_type": "code",
   "execution_count": 116,
   "id": "05ec18d5-d14b-43d4-98bd-0fa210a04b55",
   "metadata": {},
   "outputs": [],
   "source": [
    "# Calculate predictions\n",
    "preds_1 = get_preds(lrs_1, xs)\n",
    "preds_2 = get_preds(lrs_2, xs)\n",
    "preds_3 = get_preds(lrs_3, xs)\n",
    "\n",
    "# Save results\n",
    "np.save(filestr + 'scans/{}/xs.npy'.format(var_string), xs)\n",
    "np.save(filestr + 'scans/{}/preds_1.npy'.format(var_string), preds_1)\n",
    "np.save(filestr + 'scans/{}/preds_2.npy'.format(var_string), preds_2)\n",
    "np.save(filestr + 'scans/{}/preds_3.npy'.format(var_string), preds_3)"
   ]
  },
  {
   "cell_type": "code",
   "execution_count": 117,
   "id": "14c60844-c78b-49a7-b22a-2921079253dd",
   "metadata": {},
   "outputs": [],
   "source": [
    "ensembles = [preds_1, preds_2, preds_3]\n",
    "n = len(ensembles)\n",
    "\n",
    "lrs = [None] * n\n",
    "lrrs = [None] * n\n",
    "for i in range(n):\n",
    "    lrs[i] = avg_lr(ensembles[i])\n",
    "    lrrs[i] = avg_lrr(lr, ensembles[i], xs)"
   ]
  },
  {
   "cell_type": "code",
   "execution_count": 118,
   "id": "d3730a15-8e09-4f0f-b44c-d604ba8e9b48",
   "metadata": {},
   "outputs": [
    {
     "data": {
      "image/png": "[encoded data removed]",
      "text/plain": [
       "<Figure size 252x234 with 2 Axes>"
      ]
     },
     "metadata": {
      "needs_background": "light"
     },
     "output_type": "display_data"
    }
   ],
   "source": [
    "fig, axs = plt.subplots(2, 1,\n",
    "                        figsize = (w, h),\n",
    "                        sharex = True, \n",
    "                        gridspec_kw = {'height_ratios': [2, 1]})\n",
    "\n",
    "if title:\n",
    "    axs[0].set_title(title, loc = 'right')\n",
    "\n",
    "# Plot likelihood ratios\n",
    "axs[0].plot(var, lr_true, label = 'Exact', c = 'k', lw = 0.75)\n",
    "\n",
    "for i in range(n):\n",
    "    axs[0].plot(var, \n",
    "                lrs[i], \n",
    "                label = labels[i],\n",
    "                c = cs[i % len(cs)], \n",
    "                ls = lss[i % len(lss)],\n",
    "                lw = 0.75)\n",
    "\n",
    "axs[0].set_xlim(var[0], var[-1])\n",
    "if y_lim:\n",
    "    axs[0].set_ylim(y_lim[0], y_lim[1])\n",
    "axs[0].legend()\n",
    "axs[0].minorticks_on()\n",
    "axs[0].tick_params(which = 'minor', length = 3)\n",
    "axs[0].tick_params(which = 'major', length = 5)\n",
    "axs[0].tick_params(which = 'both', direction='in')\n",
    "axs[0].set_ylabel('$\\mathcal{L}(x)$')\n",
    "\n",
    "# Plot likelihood ratio ratios\n",
    "for i in range(n):\n",
    "    axs[1].plot(var, \n",
    "                lrrs[i],\n",
    "                c = cs[i % len(cs)],\n",
    "                ls = lss[i % len(lss)],\n",
    "                lw = 0.75)\n",
    "\n",
    "axs[1].axhline(1,ls=\":\",color=\"grey\", lw=0.5)\n",
    "axs[1].axvline(0,ls=\":\",color=\"grey\", lw=0.5)\n",
    "axs[1].set_ylim(0.95, 1.05);\n",
    "axs[1].minorticks_on()\n",
    "axs[1].tick_params(which = 'minor', length = 3)\n",
    "axs[1].tick_params(which = 'major', length = 5)\n",
    "axs[1].tick_params(which = 'both', direction='in')\n",
    "axs[1].set_ylabel('Ratio')\n",
    "\n",
    "plt.subplots_adjust(hspace = 0.1)\n",
    "plt.xlabel(var_label)\n",
    "\n",
    "if filename:\n",
    "    plt.savefig(filename, \n",
    "                dpi = 300,\n",
    "                transparent = True,\n",
    "                bbox_inches = 'tight')"
   ]
  },
  {
   "cell_type": "markdown",
   "id": "ff62bcb8-9d6f-4181-8f33-b7edfccf90ca",
   "metadata": {
    "jp-MarkdownHeadingCollapsed": true,
    "tags": []
   },
   "source": [
    "### MSE"
   ]
  },
  {
   "cell_type": "code",
   "execution_count": 119,
   "id": "2c5f93bc-6e69-428d-9156-b42f7a2b66bc",
   "metadata": {},
   "outputs": [],
   "source": [
    "# Experiment parameters\n",
    "num = 0\n",
    "reps = 100\n",
    "\n",
    "# Model parameters\n",
    "params_1 = {'loss':mse, 'd':4}\n",
    "params_2 = {'loss':tanh_mse, 'd':4, 'output': 'linear'}\n",
    "params_3 = {'loss':arctan_mse, 'd':4,  'output': 'linear'}\n",
    "\n",
    "filestr = 'models/zenodo/c_mse/set_{}/'.format(num)\n",
    "filestr_1 = filestr + 'sigmoid/model_{}.h5'\n",
    "filestr_2 = filestr + 'tanh/model_{}.h5'\n",
    "filestr_3 = filestr + 'arctan/model_{}.h5'\n",
    "\n",
    "# Data parameters\n",
    "N = 10**6\n",
    "X = np.load('data/zenodo/fold/X_trn.npy')[:N]\n",
    "y = np.load('data/zenodo/fold/y_trn.npy')[:N].astype('float32')\n",
    "data, m, s = split_data(X, y)\n",
    "\n",
    "lr_calc_1 = odds_lr\n",
    "lr_calc_2 = tanh_lr\n",
    "lr_calc_3 = arctan_lr\n",
    "\n",
    "# Plotting\n",
    "w = 3.5\n",
    "h = 3.25\n",
    "labels = [r'$\\sigma(z)$', r'$\\frac{1}{2}\\left(\\tanh{z} + 1\\right)$', r'$\\frac{1}{\\pi}\\left(\\arctan{z} + \\frac{\\pi}{2}\\right)$']\n",
    "y_lim = (0, 3)\n",
    "title = r'\\it MSE $\\phi$ Scan'\n",
    "filename = 'plots/zenodo/scans/mse_phi.png'"
   ]
  },
  {
   "cell_type": "code",
   "execution_count": 120,
   "id": "f3c866cf-0fd3-48ba-ac2f-e084fe37bbad",
   "metadata": {},
   "outputs": [
    {
     "name": "stdout",
     "output_type": "stream",
     "text": [
      "0 1 2 3 4 5 6 7 8 9 10 11 12 13 14 15 16 17 18 19 20 21 22 23 24 25 26 27 28 29 30 31 32 33 34 35 36 37 38 39 40 41 42 43 44 45 46 47 48 49 50 51 52 53 54 55 56 57 58 59 60 61 62 63 64 65 66 67 68 69 70 71 72 73 74 75 76 77 78 79 80 81 82 83 84 85 86 87 88 89 90 91 92 93 94 95 96 97 98 99 "
     ]
    }
   ],
   "source": [
    "lrs_1 = [None] * reps\n",
    "lrs_2 = [None] * reps\n",
    "lrs_3 = [None] * reps\n",
    "\n",
    "for i in range(reps):\n",
    "    print(i, end = ' ')\n",
    "    model_1 = create_model(**params_1)\n",
    "    model_2 = create_model(**params_2)\n",
    "    model_3 = create_model(**params_3)\n",
    "    \n",
    "    model_1.load_weights(filestr_1.format(i))\n",
    "    model_2.load_weights(filestr_2.format(i))\n",
    "    model_3.load_weights(filestr_3.format(i))\n",
    "    \n",
    "    lrs_1[i] = lr_calc_1(model_1, m, s)\n",
    "    lrs_2[i] = lr_calc_2(model_2, m, s)\n",
    "    lrs_3[i] = lr_calc_3(model_3, m, s)"
   ]
  },
  {
   "cell_type": "code",
   "execution_count": 121,
   "id": "8a16d6d2-d282-462d-aac0-59a09615f05e",
   "metadata": {},
   "outputs": [],
   "source": [
    "# Calculate predictions\n",
    "preds_1 = get_preds(lrs_1, xs)\n",
    "preds_2 = get_preds(lrs_2, xs)\n",
    "preds_3 = get_preds(lrs_3, xs)\n",
    "\n",
    "# Save results\n",
    "np.save(filestr + 'scans/{}/xs.npy'.format(var_string), xs)\n",
    "np.save(filestr + 'scans/{}/preds_1.npy'.format(var_string), preds_1)\n",
    "np.save(filestr + 'scans/{}/preds_2.npy'.format(var_string), preds_2)\n",
    "np.save(filestr + 'scans/{}/preds_3.npy'.format(var_string), preds_3)"
   ]
  },
  {
   "cell_type": "code",
   "execution_count": 122,
   "id": "77118754-34d1-4fc7-b2e0-5cb8dfcf391c",
   "metadata": {},
   "outputs": [],
   "source": [
    "ensembles = [preds_1, preds_2, preds_3]\n",
    "n = len(ensembles)\n",
    "\n",
    "lrs = [None] * n\n",
    "lrrs = [None] * n\n",
    "for i in range(n):\n",
    "    lrs[i] = avg_lr(ensembles[i])\n",
    "    lrrs[i] = avg_lrr(lr, ensembles[i], xs)"
   ]
  },
  {
   "cell_type": "code",
   "execution_count": 123,
   "id": "a4ee87fc-37ad-4dd5-9a53-c59deabd2bc9",
   "metadata": {},
   "outputs": [
    {
     "data": {
      "image/png": "[encoded data removed]",
      "text/plain": [
       "<Figure size 252x234 with 2 Axes>"
      ]
     },
     "metadata": {
      "needs_background": "light"
     },
     "output_type": "display_data"
    }
   ],
   "source": [
    "fig, axs = plt.subplots(2, 1,\n",
    "                        figsize = (w, h),\n",
    "                        sharex = True, \n",
    "                        gridspec_kw = {'height_ratios': [2, 1]})\n",
    "\n",
    "if title:\n",
    "    axs[0].set_title(title, loc = 'right')\n",
    "\n",
    "# Plot likelihood ratios\n",
    "axs[0].plot(var, lr_true, label = 'Exact', c = 'k', lw = 0.75)\n",
    "\n",
    "for i in range(n):\n",
    "    axs[0].plot(var, \n",
    "                lrs[i], \n",
    "                label = labels[i],\n",
    "                c = cs[i % len(cs)], \n",
    "                ls = lss[i % len(lss)],\n",
    "                lw = 0.75)\n",
    "\n",
    "axs[0].set_xlim(var[0], var[-1])\n",
    "if y_lim:\n",
    "    axs[0].set_ylim(y_lim[0], y_lim[1])\n",
    "axs[0].legend()\n",
    "axs[0].minorticks_on()\n",
    "axs[0].tick_params(which = 'minor', length = 3)\n",
    "axs[0].tick_params(which = 'major', length = 5)\n",
    "axs[0].tick_params(which = 'both', direction='in')\n",
    "axs[0].set_ylabel('$\\mathcal{L}(x)$')\n",
    "\n",
    "# Plot likelihood ratio ratios\n",
    "for i in range(n):\n",
    "    axs[1].plot(var, \n",
    "                lrrs[i],\n",
    "                c = cs[i % len(cs)],\n",
    "                ls = lss[i % len(lss)],\n",
    "                lw = 0.75)\n",
    "\n",
    "axs[1].axhline(1,ls=\":\",color=\"grey\", lw=0.5)\n",
    "axs[1].axvline(0,ls=\":\",color=\"grey\", lw=0.5)\n",
    "axs[1].set_ylim(0.95, 1.05);\n",
    "axs[1].minorticks_on()\n",
    "axs[1].tick_params(which = 'minor', length = 3)\n",
    "axs[1].tick_params(which = 'major', length = 5)\n",
    "axs[1].tick_params(which = 'both', direction='in')\n",
    "axs[1].set_ylabel('Ratio')\n",
    "\n",
    "plt.subplots_adjust(hspace = 0.1)\n",
    "plt.xlabel(var_label)\n",
    "\n",
    "if filename:\n",
    "    plt.savefig(filename, \n",
    "                dpi = 300,\n",
    "                transparent = True,\n",
    "                bbox_inches = 'tight')"
   ]
  },
  {
   "cell_type": "markdown",
   "id": "4cdcaa23-70f4-490e-a65a-561fd58d9761",
   "metadata": {
    "jp-MarkdownHeadingCollapsed": true,
    "tags": []
   },
   "source": [
    "### MLC"
   ]
  },
  {
   "cell_type": "code",
   "execution_count": 124,
   "id": "514ddb1f-1f99-42c1-9fb7-25cf81d15d24",
   "metadata": {},
   "outputs": [],
   "source": [
    "# Experiment parameters\n",
    "num = 0\n",
    "reps = 100\n",
    "\n",
    "# Model parameters\n",
    "params_1 = {'loss':mlc, 'd': 4, 'output': 'relu'}\n",
    "params_2 = {'loss':square_mlc, 'd': 4, 'output': 'linear'}\n",
    "params_3 = {'loss':exp_mlc, 'd': 4, 'output': 'linear'}\n",
    "\n",
    "filestr = 'models/zenodo/c_mlc/set_{}/'.format(num)\n",
    "filestr_1 = filestr + 'relu/model_{}.h5'\n",
    "filestr_2 = filestr + 'square/model_{}.h5'\n",
    "filestr_3 = filestr + 'exponential/model_{}.h5'\n",
    "\n",
    "# Data parameters\n",
    "N = 10**6\n",
    "X = np.load('data/zenodo/fold/X_trn.npy')[:N]\n",
    "y = np.load('data/zenodo/fold/y_trn.npy')[:N].astype('float32')\n",
    "data, m, s = split_data(X, y)\n",
    "\n",
    "lr_calc_1 = pure_lr\n",
    "lr_calc_2 = square_lr\n",
    "lr_calc_3 = exp_lr\n",
    "\n",
    "# Plotting\n",
    "w = 3.5\n",
    "h = 3.25\n",
    "labels = [r'$\\text{ReLU}(z)$', r'$z^2$', r'$\\exp{z}$']\n",
    "y_lim = (0, 3)\n",
    "title = r'\\it MLC $\\phi$ Scan'\n",
    "filename = 'plots/zenodo/scans/mlc_phi.png'"
   ]
  },
  {
   "cell_type": "code",
   "execution_count": 125,
   "id": "835fb93e-67df-48d4-b0e4-625099922e0d",
   "metadata": {},
   "outputs": [
    {
     "name": "stdout",
     "output_type": "stream",
     "text": [
      "0 1 2 3 4 5 6 7 8 9 10 11 12 13 14 15 16 17 18 19 20 21 22 23 24 25 26 27 28 29 30 31 32 33 34 35 36 37 38 39 40 41 42 43 44 45 46 47 48 49 50 51 52 53 54 55 56 57 58 59 60 61 62 63 64 65 66 67 68 69 70 71 72 73 74 75 76 77 78 79 80 81 82 83 84 85 86 87 88 89 90 91 92 93 94 95 96 97 98 99 "
     ]
    }
   ],
   "source": [
    "lrs_1 = [None] * reps\n",
    "lrs_2 = [None] * reps\n",
    "lrs_3 = [None] * reps\n",
    "\n",
    "for i in range(reps):\n",
    "    print(i, end = ' ')\n",
    "    model_1 = create_model(**params_1)\n",
    "    model_2 = create_model(**params_2)\n",
    "    model_3 = create_model(**params_3)\n",
    "    \n",
    "    model_1.load_weights(filestr_1.format(i))\n",
    "    model_2.load_weights(filestr_2.format(i))\n",
    "    model_3.load_weights(filestr_3.format(i))\n",
    "    \n",
    "    lrs_1[i] = lr_calc_1(model_1, m, s)\n",
    "    lrs_2[i] = lr_calc_2(model_2, m, s)\n",
    "    lrs_3[i] = lr_calc_3(model_3, m, s)"
   ]
  },
  {
   "cell_type": "code",
   "execution_count": 126,
   "id": "ee52a132-8964-4c66-8763-2f3f48481e6f",
   "metadata": {},
   "outputs": [],
   "source": [
    "# Calculate predictions\n",
    "preds_1 = get_preds(lrs_1, xs)\n",
    "preds_2 = get_preds(lrs_2, xs)\n",
    "preds_3 = get_preds(lrs_3, xs)\n",
    "\n",
    "# Save results\n",
    "np.save(filestr + 'scans/{}/xs.npy'.format(var_string), xs)\n",
    "np.save(filestr + 'scans/{}/preds_1.npy'.format(var_string), preds_1)\n",
    "np.save(filestr + 'scans/{}/preds_2.npy'.format(var_string), preds_2)\n",
    "np.save(filestr + 'scans/{}/preds_3.npy'.format(var_string), preds_3)"
   ]
  },
  {
   "cell_type": "code",
   "execution_count": 127,
   "id": "4c007dc5-a31b-4aea-9f82-cac27c3bd139",
   "metadata": {},
   "outputs": [],
   "source": [
    "ensembles = [preds_1, preds_2, preds_3]\n",
    "n = len(ensembles)\n",
    "\n",
    "lrs = [None] * n\n",
    "lrrs = [None] * n\n",
    "for i in range(n):\n",
    "    lrs[i] = avg_lr(ensembles[i])\n",
    "    lrrs[i] = avg_lrr(lr, ensembles[i], xs)"
   ]
  },
  {
   "cell_type": "code",
   "execution_count": 128,
   "id": "ead70526-a0ac-498c-8ae1-f7307131ed02",
   "metadata": {},
   "outputs": [
    {
     "data": {
      "image/png": "[encoded data removed]",
      "text/plain": [
       "<Figure size 252x234 with 2 Axes>"
      ]
     },
     "metadata": {
      "needs_background": "light"
     },
     "output_type": "display_data"
    }
   ],
   "source": [
    "fig, axs = plt.subplots(2, 1,\n",
    "                        figsize = (w, h),\n",
    "                        sharex = True, \n",
    "                        gridspec_kw = {'height_ratios': [2, 1]})\n",
    "\n",
    "if title:\n",
    "    axs[0].set_title(title, loc = 'right')\n",
    "\n",
    "# Plot likelihood ratios\n",
    "axs[0].plot(var, lr_true, label = 'Exact', c = 'k', lw = 0.75)\n",
    "\n",
    "for i in range(n):\n",
    "    axs[0].plot(var, \n",
    "                lrs[i], \n",
    "                label = labels[i],\n",
    "                c = cs[i % len(cs)], \n",
    "                ls = lss[i % len(lss)],\n",
    "                lw = 0.75)\n",
    "\n",
    "axs[0].set_xlim(var[0], var[-1])\n",
    "if y_lim:\n",
    "    axs[0].set_ylim(y_lim[0], y_lim[1])\n",
    "axs[0].legend()\n",
    "axs[0].minorticks_on()\n",
    "axs[0].tick_params(which = 'minor', length = 3)\n",
    "axs[0].tick_params(which = 'major', length = 5)\n",
    "axs[0].tick_params(which = 'both', direction='in')\n",
    "axs[0].set_ylabel('$\\mathcal{L}(x)$')\n",
    "\n",
    "# Plot likelihood ratio ratios\n",
    "for i in range(n):\n",
    "    axs[1].plot(var, \n",
    "                lrrs[i],\n",
    "                c = cs[i % len(cs)],\n",
    "                ls = lss[i % len(lss)],\n",
    "                lw = 0.75)\n",
    "\n",
    "axs[1].axhline(1,ls=\":\",color=\"grey\", lw=0.5)\n",
    "axs[1].axvline(0,ls=\":\",color=\"grey\", lw=0.5)\n",
    "axs[1].set_ylim(0.95, 1.05);\n",
    "axs[1].minorticks_on()\n",
    "axs[1].tick_params(which = 'minor', length = 3)\n",
    "axs[1].tick_params(which = 'major', length = 5)\n",
    "axs[1].tick_params(which = 'both', direction='in')\n",
    "axs[1].set_ylabel('Ratio')\n",
    "\n",
    "plt.subplots_adjust(hspace = 0.1)\n",
    "plt.xlabel(var_label)\n",
    "\n",
    "if filename:\n",
    "    plt.savefig(filename, \n",
    "                dpi = 300,\n",
    "                transparent = True,\n",
    "                bbox_inches = 'tight')"
   ]
  },
  {
   "cell_type": "markdown",
   "id": "454e55cc-7c74-4d75-b811-1532b4bba929",
   "metadata": {
    "tags": []
   },
   "source": [
    "### SQR"
   ]
  },
  {
   "cell_type": "code",
   "execution_count": 129,
   "id": "6ae654ee-81ae-40fa-9bda-c2922855a5cd",
   "metadata": {},
   "outputs": [],
   "source": [
    "# Experiment parameters\n",
    "num = 0\n",
    "reps = 100\n",
    "\n",
    "# Model parameters\n",
    "params_1 = {'loss':sqr, 'd': 4, 'output': 'relu'}\n",
    "params_2 = {'loss':square_sqr, 'd': 4, 'output': 'linear'}\n",
    "params_3 = {'loss':exp_sqr, 'd': 4, 'output': 'linear'}\n",
    "\n",
    "filestr = 'models/zenodo/c_sqr/set_{}/'.format(num)\n",
    "filestr_1 = filestr + 'relu/model_{}.h5'\n",
    "filestr_2 = filestr + 'square/model_{}.h5'\n",
    "filestr_3 = filestr + 'exponential/model_{}.h5'\n",
    "\n",
    "# Data parameters\n",
    "N = 10**6\n",
    "X = np.load('data/zenodo/fold/X_trn.npy')[:N]\n",
    "y = np.load('data/zenodo/fold/y_trn.npy')[:N].astype('float32')\n",
    "data, m, s = split_data(X, y)\n",
    "\n",
    "lr_calc_1 = pure_lr\n",
    "lr_calc_2 = square_lr\n",
    "lr_calc_3 = exp_lr\n",
    "\n",
    "# Plotting\n",
    "w = 3.5\n",
    "h = 3.25\n",
    "labels = [r'$\\text{ReLU}(z)$', r'$z^2$', r'$\\exp{z}$']\n",
    "y_lim = (0, 3)\n",
    "title = r'\\it MLC $\\phi$ Scan'\n",
    "filename = 'plots/zenodo/scans/mlc_phi.png'"
   ]
  },
  {
   "cell_type": "code",
   "execution_count": 130,
   "id": "0b40147c-c9d0-4abc-9413-7dd47a944cde",
   "metadata": {},
   "outputs": [
    {
     "name": "stdout",
     "output_type": "stream",
     "text": [
      "0 1 2 3 4 5 6 7 8 9 10 11 12 13 14 15 16 17 18 19 20 21 22 23 24 25 26 27 28 29 30 31 32 33 34 35 36 37 38 39 40 41 42 43 44 45 46 47 48 49 50 51 52 53 54 55 56 57 58 59 60 61 62 63 64 65 66 67 68 69 70 71 72 73 74 75 76 77 78 79 80 81 82 83 84 85 86 87 88 89 90 91 92 93 94 95 96 97 98 99 "
     ]
    }
   ],
   "source": [
    "lrs_1 = [None] * reps\n",
    "lrs_2 = [None] * reps\n",
    "lrs_3 = [None] * reps\n",
    "\n",
    "for i in range(reps):\n",
    "    print(i, end = ' ')\n",
    "    model_1 = create_model(**params_1)\n",
    "    model_2 = create_model(**params_2)\n",
    "    model_3 = create_model(**params_3)\n",
    "    \n",
    "    model_1.load_weights(filestr_1.format(i))\n",
    "    model_2.load_weights(filestr_2.format(i))\n",
    "    model_3.load_weights(filestr_3.format(i))\n",
    "    \n",
    "    lrs_1[i] = lr_calc_1(model_1, m, s)\n",
    "    lrs_2[i] = lr_calc_2(model_2, m, s)\n",
    "    lrs_3[i] = lr_calc_3(model_3, m, s)"
   ]
  },
  {
   "cell_type": "code",
   "execution_count": 131,
   "id": "2ab34f26-727e-413e-8ab4-1121880a1146",
   "metadata": {},
   "outputs": [],
   "source": [
    "# Calculate predictions\n",
    "preds_1 = get_preds(lrs_1, xs)\n",
    "preds_2 = get_preds(lrs_2, xs)\n",
    "preds_3 = get_preds(lrs_3, xs)\n",
    "\n",
    "# Save results\n",
    "np.save(filestr + 'scans/{}/xs.npy'.format(var_string), xs)\n",
    "np.save(filestr + 'scans/{}/preds_1.npy'.format(var_string), preds_1)\n",
    "np.save(filestr + 'scans/{}/preds_2.npy'.format(var_string), preds_2)\n",
    "np.save(filestr + 'scans/{}/preds_3.npy'.format(var_string), preds_3)"
   ]
  },
  {
   "cell_type": "code",
   "execution_count": 132,
   "id": "7e12a6e4-50a5-466c-9ea2-5d4f1402f252",
   "metadata": {},
   "outputs": [],
   "source": [
    "ensembles = [preds_1, preds_2, preds_3]\n",
    "n = len(ensembles)\n",
    "\n",
    "lrs = [None] * n\n",
    "lrrs = [None] * n\n",
    "for i in range(n):\n",
    "    lrs[i] = avg_lr(ensembles[i])\n",
    "    lrrs[i] = avg_lrr(lr, ensembles[i], xs)"
   ]
  },
  {
   "cell_type": "code",
   "execution_count": 133,
   "id": "c8f34bf7-0fa2-46e9-9c45-70bf0c48f6bb",
   "metadata": {},
   "outputs": [
    {
     "data": {
      "image/png": "[encoded data removed]",
      "text/plain": [
       "<Figure size 252x234 with 2 Axes>"
      ]
     },
     "metadata": {
      "needs_background": "light"
     },
     "output_type": "display_data"
    }
   ],
   "source": [
    "fig, axs = plt.subplots(2, 1,\n",
    "                        figsize = (w, h),\n",
    "                        sharex = True, \n",
    "                        gridspec_kw = {'height_ratios': [2, 1]})\n",
    "\n",
    "if title:\n",
    "    axs[0].set_title(title, loc = 'right')\n",
    "\n",
    "# Plot likelihood ratios\n",
    "axs[0].plot(var, lr_true, label = 'Exact', c = 'k', lw = 0.75)\n",
    "\n",
    "for i in range(n):\n",
    "    axs[0].plot(var, \n",
    "                lrs[i], \n",
    "                label = labels[i],\n",
    "                c = cs[i % len(cs)], \n",
    "                ls = lss[i % len(lss)],\n",
    "                lw = 0.75)\n",
    "\n",
    "axs[0].set_xlim(var[0], var[-1])\n",
    "if y_lim:\n",
    "    axs[0].set_ylim(y_lim[0], y_lim[1])\n",
    "axs[0].legend()\n",
    "axs[0].minorticks_on()\n",
    "axs[0].tick_params(which = 'minor', length = 3)\n",
    "axs[0].tick_params(which = 'major', length = 5)\n",
    "axs[0].tick_params(which = 'both', direction='in')\n",
    "axs[0].set_ylabel('$\\mathcal{L}(x)$')\n",
    "\n",
    "# Plot likelihood ratio ratios\n",
    "for i in range(n):\n",
    "    axs[1].plot(var, \n",
    "                lrrs[i],\n",
    "                c = cs[i % len(cs)],\n",
    "                ls = lss[i % len(lss)],\n",
    "                lw = 0.75)\n",
    "\n",
    "axs[1].axhline(1,ls=\":\",color=\"grey\", lw=0.5)\n",
    "axs[1].axvline(0,ls=\":\",color=\"grey\", lw=0.5)\n",
    "axs[1].set_ylim(0.95, 1.05);\n",
    "axs[1].minorticks_on()\n",
    "axs[1].tick_params(which = 'minor', length = 3)\n",
    "axs[1].tick_params(which = 'major', length = 5)\n",
    "axs[1].tick_params(which = 'both', direction='in')\n",
    "axs[1].set_ylabel('Ratio')\n",
    "\n",
    "plt.subplots_adjust(hspace = 0.1)\n",
    "plt.xlabel(var_label)\n",
    "\n",
    "if filename:\n",
    "    plt.savefig(filename, \n",
    "                dpi = 300,\n",
    "                transparent = True,\n",
    "                bbox_inches = 'tight')"
   ]
  }
 ],
 "metadata": {
  "kernelspec": {
   "display_name": "multifold",
   "language": "python",
   "name": "multifold"
  },
  "language_info": {
   "codemirror_mode": {
    "name": "ipython",
    "version": 3
   },
   "file_extension": ".py",
   "mimetype": "text/x-python",
   "name": "python",
   "nbconvert_exporter": "python",
   "pygments_lexer": "ipython3",
   "version": "3.10.5"
  }
 },
 "nbformat": 4,
 "nbformat_minor": 5
}
