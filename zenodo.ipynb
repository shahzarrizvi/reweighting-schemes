{
 "cells": [
  {
   "cell_type": "code",
   "execution_count": 18,
   "id": "c913b40d-0cab-4126-a697-7f9dcb77da76",
   "metadata": {},
   "outputs": [
    {
     "name": "stdout",
     "output_type": "stream",
     "text": [
      "The autoreload extension is already loaded. To reload it, use:\n",
      "  %reload_ext autoreload\n"
     ]
    }
   ],
   "source": [
    "# Automatically reload modules after executing each cell.\n",
    "%load_ext autoreload\n",
    "%autoreload 2"
   ]
  },
  {
   "cell_type": "code",
   "execution_count": 19,
   "id": "32e4adb9-f5a3-47a7-b013-6da24e29d00a",
   "metadata": {},
   "outputs": [],
   "source": [
    "# Pick GPU.\n",
    "#import os\n",
    "#os.environ[\"CUDA_VISIBLE_DEVICES\"] = \"1\"\n",
    "\n",
    "#import torch\n",
    "#from torch import nn\n",
    "#from torch import optim\n",
    "#from torch.utils.data import DataLoader\n",
    "\n",
    "#print(torch.cuda.is_available())\n",
    "#print(torch.cuda.device_count())\n",
    "#print(torch.cuda.current_device())\n",
    "#print(torch.cuda.device(0))\n",
    "#print(torch.cuda.get_device_name(0))\n",
    "#device = torch.device(\"cuda:0\" if torch.cuda.is_available() else \"cpu\")\n",
    "#print(device)\n",
    "\n",
    "#from nflows.flows.base import Flow\n",
    "#from nflows.distributions.normal import StandardNormal\n",
    "#from nflows.transforms.base import CompositeTransform\n",
    "#from nflows.transforms.autoregressive import MaskedAffineAutoregressiveTransform\n",
    "#from nflows.transforms.permutations import ReversePermutation\n",
    "\n",
    "# Utility imports\n",
    "# General imports\n",
    "import os\n",
    "import tensorflow as tf\n",
    "from scipy import stats\n",
    "\n",
    "# Utility imports\n",
    "from utils.losses import *\n",
    "from utils.plotting import *\n",
    "from utils.training import *"
   ]
  },
  {
   "cell_type": "code",
   "execution_count": 20,
   "id": "a0f6b334-9cee-4247-9109-f415864522c8",
   "metadata": {},
   "outputs": [],
   "source": [
    "os.environ[\"CUDA_VISIBLE_DEVICES\"] = \"0\" # pick a number < 4 on ML4HEP; < 3 on Voltan \n",
    "physical_devices = tf.config.list_physical_devices('GPU') \n",
    "tf.config.experimental.set_memory_growth(physical_devices[0], True)"
   ]
  },
  {
   "cell_type": "markdown",
   "id": "6309944e-2271-4115-8150-91d00c683a7b",
   "metadata": {
    "tags": []
   },
   "source": [
    "# Corner Plot"
   ]
  },
  {
   "cell_type": "code",
   "execution_count": 21,
   "id": "62cec516-a900-4a03-8c1e-bad5610a619f",
   "metadata": {},
   "outputs": [],
   "source": [
    "mc = np.load(\"data/zenodo/Pythia21_Zjet_pTZ-200GeV_0.npz\")\n",
    "\n",
    "sim_pt =  mc['sim_jets'][:, 0]\n",
    "sim_eta = mc['sim_jets'][:, 1]\n",
    "sim_phi = mc['sim_jets'][:, 2]\n",
    "sim_m =   mc['sim_jets'][:, 3]\n",
    "sim_mults = mc['sim_mults']\n",
    "sim_lhas = mc['sim_lhas']\n",
    "sim_widths = mc['sim_widths']\n",
    "sim_ang2s = mc['sim_ang2s']\n",
    "sim_tau2s = mc['sim_tau2s']\n",
    "sim_sdms = mc['sim_sdms']\n",
    "sim_zgs = mc['sim_zgs']"
   ]
  },
  {
   "cell_type": "code",
   "execution_count": 22,
   "id": "1b71007d-69f0-48a4-98ca-e4a5a64345d8",
   "metadata": {},
   "outputs": [],
   "source": [
    "import seaborn as sns\n",
    "import pandas as pd"
   ]
  },
  {
   "cell_type": "code",
   "execution_count": 23,
   "id": "532fd59e-0d1f-44cb-aa64-b1b88b37727b",
   "metadata": {},
   "outputs": [],
   "source": [
    "df = pd.DataFrame(data = {'pt': sim_pt, 'eta': sim_eta, 'phi': sim_phi, \n",
    "                          'm': sim_m, 'widths': sim_widths, 'sdms': sim_sdms})"
   ]
  },
  {
   "cell_type": "code",
   "execution_count": 24,
   "id": "784b4663-99e0-494d-b5c9-4ed52706be30",
   "metadata": {},
   "outputs": [
    {
     "ename": "RuntimeError",
     "evalue": "Failed to process string with tex because latex could not be found",
     "output_type": "error",
     "traceback": [
      "\u001b[0;31m---------------------------------------------------------------------------\u001b[0m",
      "\u001b[0;31mFileNotFoundError\u001b[0m                         Traceback (most recent call last)",
      "File \u001b[0;32m/clusterfs/ml4hep/shahzar/miniconda/envs/multifold/lib/python3.10/site-packages/matplotlib/texmanager.py:253\u001b[0m, in \u001b[0;36mTexManager._run_checked_subprocess\u001b[0;34m(cls, command, tex, cwd)\u001b[0m\n\u001b[1;32m    252\u001b[0m \u001b[38;5;28;01mtry\u001b[39;00m:\n\u001b[0;32m--> 253\u001b[0m     report \u001b[38;5;241m=\u001b[39m \u001b[43msubprocess\u001b[49m\u001b[38;5;241;43m.\u001b[39;49m\u001b[43mcheck_output\u001b[49m\u001b[43m(\u001b[49m\n\u001b[1;32m    254\u001b[0m \u001b[43m        \u001b[49m\u001b[43mcommand\u001b[49m\u001b[43m,\u001b[49m\u001b[43m \u001b[49m\u001b[43mcwd\u001b[49m\u001b[38;5;241;43m=\u001b[39;49m\u001b[43mcwd\u001b[49m\u001b[43m \u001b[49m\u001b[38;5;28;43;01mif\u001b[39;49;00m\u001b[43m \u001b[49m\u001b[43mcwd\u001b[49m\u001b[43m \u001b[49m\u001b[38;5;129;43;01mis\u001b[39;49;00m\u001b[43m \u001b[49m\u001b[38;5;129;43;01mnot\u001b[39;49;00m\u001b[43m \u001b[49m\u001b[38;5;28;43;01mNone\u001b[39;49;00m\u001b[43m \u001b[49m\u001b[38;5;28;43;01melse\u001b[39;49;00m\u001b[43m \u001b[49m\u001b[38;5;28;43mcls\u001b[39;49m\u001b[38;5;241;43m.\u001b[39;49m\u001b[43mtexcache\u001b[49m\u001b[43m,\u001b[49m\n\u001b[1;32m    255\u001b[0m \u001b[43m        \u001b[49m\u001b[43mstderr\u001b[49m\u001b[38;5;241;43m=\u001b[39;49m\u001b[43msubprocess\u001b[49m\u001b[38;5;241;43m.\u001b[39;49m\u001b[43mSTDOUT\u001b[49m\u001b[43m)\u001b[49m\n\u001b[1;32m    256\u001b[0m \u001b[38;5;28;01mexcept\u001b[39;00m \u001b[38;5;167;01mFileNotFoundError\u001b[39;00m \u001b[38;5;28;01mas\u001b[39;00m exc:\n",
      "File \u001b[0;32m/clusterfs/ml4hep/shahzar/miniconda/envs/multifold/lib/python3.10/subprocess.py:420\u001b[0m, in \u001b[0;36mcheck_output\u001b[0;34m(timeout, *popenargs, **kwargs)\u001b[0m\n\u001b[1;32m    418\u001b[0m     kwargs[\u001b[38;5;124m'\u001b[39m\u001b[38;5;124minput\u001b[39m\u001b[38;5;124m'\u001b[39m] \u001b[38;5;241m=\u001b[39m empty\n\u001b[0;32m--> 420\u001b[0m \u001b[38;5;28;01mreturn\u001b[39;00m \u001b[43mrun\u001b[49m\u001b[43m(\u001b[49m\u001b[38;5;241;43m*\u001b[39;49m\u001b[43mpopenargs\u001b[49m\u001b[43m,\u001b[49m\u001b[43m \u001b[49m\u001b[43mstdout\u001b[49m\u001b[38;5;241;43m=\u001b[39;49m\u001b[43mPIPE\u001b[49m\u001b[43m,\u001b[49m\u001b[43m \u001b[49m\u001b[43mtimeout\u001b[49m\u001b[38;5;241;43m=\u001b[39;49m\u001b[43mtimeout\u001b[49m\u001b[43m,\u001b[49m\u001b[43m \u001b[49m\u001b[43mcheck\u001b[49m\u001b[38;5;241;43m=\u001b[39;49m\u001b[38;5;28;43;01mTrue\u001b[39;49;00m\u001b[43m,\u001b[49m\n\u001b[1;32m    421\u001b[0m \u001b[43m           \u001b[49m\u001b[38;5;241;43m*\u001b[39;49m\u001b[38;5;241;43m*\u001b[39;49m\u001b[43mkwargs\u001b[49m\u001b[43m)\u001b[49m\u001b[38;5;241m.\u001b[39mstdout\n",
      "File \u001b[0;32m/clusterfs/ml4hep/shahzar/miniconda/envs/multifold/lib/python3.10/subprocess.py:501\u001b[0m, in \u001b[0;36mrun\u001b[0;34m(input, capture_output, timeout, check, *popenargs, **kwargs)\u001b[0m\n\u001b[1;32m    499\u001b[0m     kwargs[\u001b[38;5;124m'\u001b[39m\u001b[38;5;124mstderr\u001b[39m\u001b[38;5;124m'\u001b[39m] \u001b[38;5;241m=\u001b[39m PIPE\n\u001b[0;32m--> 501\u001b[0m \u001b[38;5;28;01mwith\u001b[39;00m \u001b[43mPopen\u001b[49m\u001b[43m(\u001b[49m\u001b[38;5;241;43m*\u001b[39;49m\u001b[43mpopenargs\u001b[49m\u001b[43m,\u001b[49m\u001b[43m \u001b[49m\u001b[38;5;241;43m*\u001b[39;49m\u001b[38;5;241;43m*\u001b[39;49m\u001b[43mkwargs\u001b[49m\u001b[43m)\u001b[49m \u001b[38;5;28;01mas\u001b[39;00m process:\n\u001b[1;32m    502\u001b[0m     \u001b[38;5;28;01mtry\u001b[39;00m:\n",
      "File \u001b[0;32m/clusterfs/ml4hep/shahzar/miniconda/envs/multifold/lib/python3.10/subprocess.py:969\u001b[0m, in \u001b[0;36mPopen.__init__\u001b[0;34m(self, args, bufsize, executable, stdin, stdout, stderr, preexec_fn, close_fds, shell, cwd, env, universal_newlines, startupinfo, creationflags, restore_signals, start_new_session, pass_fds, user, group, extra_groups, encoding, errors, text, umask, pipesize)\u001b[0m\n\u001b[1;32m    966\u001b[0m             \u001b[38;5;28mself\u001b[39m\u001b[38;5;241m.\u001b[39mstderr \u001b[38;5;241m=\u001b[39m io\u001b[38;5;241m.\u001b[39mTextIOWrapper(\u001b[38;5;28mself\u001b[39m\u001b[38;5;241m.\u001b[39mstderr,\n\u001b[1;32m    967\u001b[0m                     encoding\u001b[38;5;241m=\u001b[39mencoding, errors\u001b[38;5;241m=\u001b[39merrors)\n\u001b[0;32m--> 969\u001b[0m     \u001b[38;5;28;43mself\u001b[39;49m\u001b[38;5;241;43m.\u001b[39;49m\u001b[43m_execute_child\u001b[49m\u001b[43m(\u001b[49m\u001b[43margs\u001b[49m\u001b[43m,\u001b[49m\u001b[43m \u001b[49m\u001b[43mexecutable\u001b[49m\u001b[43m,\u001b[49m\u001b[43m \u001b[49m\u001b[43mpreexec_fn\u001b[49m\u001b[43m,\u001b[49m\u001b[43m \u001b[49m\u001b[43mclose_fds\u001b[49m\u001b[43m,\u001b[49m\n\u001b[1;32m    970\u001b[0m \u001b[43m                        \u001b[49m\u001b[43mpass_fds\u001b[49m\u001b[43m,\u001b[49m\u001b[43m \u001b[49m\u001b[43mcwd\u001b[49m\u001b[43m,\u001b[49m\u001b[43m \u001b[49m\u001b[43menv\u001b[49m\u001b[43m,\u001b[49m\n\u001b[1;32m    971\u001b[0m \u001b[43m                        \u001b[49m\u001b[43mstartupinfo\u001b[49m\u001b[43m,\u001b[49m\u001b[43m \u001b[49m\u001b[43mcreationflags\u001b[49m\u001b[43m,\u001b[49m\u001b[43m \u001b[49m\u001b[43mshell\u001b[49m\u001b[43m,\u001b[49m\n\u001b[1;32m    972\u001b[0m \u001b[43m                        \u001b[49m\u001b[43mp2cread\u001b[49m\u001b[43m,\u001b[49m\u001b[43m \u001b[49m\u001b[43mp2cwrite\u001b[49m\u001b[43m,\u001b[49m\n\u001b[1;32m    973\u001b[0m \u001b[43m                        \u001b[49m\u001b[43mc2pread\u001b[49m\u001b[43m,\u001b[49m\u001b[43m \u001b[49m\u001b[43mc2pwrite\u001b[49m\u001b[43m,\u001b[49m\n\u001b[1;32m    974\u001b[0m \u001b[43m                        \u001b[49m\u001b[43merrread\u001b[49m\u001b[43m,\u001b[49m\u001b[43m \u001b[49m\u001b[43merrwrite\u001b[49m\u001b[43m,\u001b[49m\n\u001b[1;32m    975\u001b[0m \u001b[43m                        \u001b[49m\u001b[43mrestore_signals\u001b[49m\u001b[43m,\u001b[49m\n\u001b[1;32m    976\u001b[0m \u001b[43m                        \u001b[49m\u001b[43mgid\u001b[49m\u001b[43m,\u001b[49m\u001b[43m \u001b[49m\u001b[43mgids\u001b[49m\u001b[43m,\u001b[49m\u001b[43m \u001b[49m\u001b[43muid\u001b[49m\u001b[43m,\u001b[49m\u001b[43m \u001b[49m\u001b[43mumask\u001b[49m\u001b[43m,\u001b[49m\n\u001b[1;32m    977\u001b[0m \u001b[43m                        \u001b[49m\u001b[43mstart_new_session\u001b[49m\u001b[43m)\u001b[49m\n\u001b[1;32m    978\u001b[0m \u001b[38;5;28;01mexcept\u001b[39;00m:\n\u001b[1;32m    979\u001b[0m     \u001b[38;5;66;03m# Cleanup if the child failed starting.\u001b[39;00m\n",
      "File \u001b[0;32m/clusterfs/ml4hep/shahzar/miniconda/envs/multifold/lib/python3.10/subprocess.py:1845\u001b[0m, in \u001b[0;36mPopen._execute_child\u001b[0;34m(self, args, executable, preexec_fn, close_fds, pass_fds, cwd, env, startupinfo, creationflags, shell, p2cread, p2cwrite, c2pread, c2pwrite, errread, errwrite, restore_signals, gid, gids, uid, umask, start_new_session)\u001b[0m\n\u001b[1;32m   1844\u001b[0m         err_msg \u001b[38;5;241m=\u001b[39m os\u001b[38;5;241m.\u001b[39mstrerror(errno_num)\n\u001b[0;32m-> 1845\u001b[0m     \u001b[38;5;28;01mraise\u001b[39;00m child_exception_type(errno_num, err_msg, err_filename)\n\u001b[1;32m   1846\u001b[0m \u001b[38;5;28;01mraise\u001b[39;00m child_exception_type(err_msg)\n",
      "\u001b[0;31mFileNotFoundError\u001b[0m: [Errno 2] No such file or directory: 'latex'",
      "\nThe above exception was the direct cause of the following exception:\n",
      "\u001b[0;31mRuntimeError\u001b[0m                              Traceback (most recent call last)",
      "Input \u001b[0;32mIn [24]\u001b[0m, in \u001b[0;36m<cell line: 1>\u001b[0;34m()\u001b[0m\n\u001b[0;32m----> 1\u001b[0m \u001b[43msns\u001b[49m\u001b[38;5;241;43m.\u001b[39;49m\u001b[43mpairplot\u001b[49m\u001b[43m(\u001b[49m\u001b[43mdata\u001b[49m\u001b[43m \u001b[49m\u001b[38;5;241;43m=\u001b[39;49m\u001b[43m \u001b[49m\u001b[43mdf\u001b[49m\u001b[43m,\u001b[49m\u001b[43m \u001b[49m\u001b[43mkind\u001b[49m\u001b[43m \u001b[49m\u001b[38;5;241;43m=\u001b[39;49m\u001b[43m \u001b[49m\u001b[38;5;124;43m'\u001b[39;49m\u001b[38;5;124;43mhist\u001b[39;49m\u001b[38;5;124;43m'\u001b[39;49m\u001b[43m,\u001b[49m\u001b[43m \u001b[49m\u001b[43mcorner\u001b[49m\u001b[43m \u001b[49m\u001b[38;5;241;43m=\u001b[39;49m\u001b[43m \u001b[49m\u001b[38;5;28;43;01mTrue\u001b[39;49;00m\u001b[43m)\u001b[49m\n",
      "File \u001b[0;32m/clusterfs/ml4hep/shahzar/miniconda/envs/multifold/lib/python3.10/site-packages/seaborn/axisgrid.py:2114\u001b[0m, in \u001b[0;36mpairplot\u001b[0;34m(data, hue, hue_order, palette, vars, x_vars, y_vars, kind, diag_kind, markers, height, aspect, corner, dropna, plot_kws, diag_kws, grid_kws, size)\u001b[0m\n\u001b[1;32m   2112\u001b[0m \u001b[38;5;66;03m# Set up the PairGrid\u001b[39;00m\n\u001b[1;32m   2113\u001b[0m grid_kws\u001b[38;5;241m.\u001b[39msetdefault(\u001b[38;5;124m\"\u001b[39m\u001b[38;5;124mdiag_sharey\u001b[39m\u001b[38;5;124m\"\u001b[39m, diag_kind \u001b[38;5;241m==\u001b[39m \u001b[38;5;124m\"\u001b[39m\u001b[38;5;124mhist\u001b[39m\u001b[38;5;124m\"\u001b[39m)\n\u001b[0;32m-> 2114\u001b[0m grid \u001b[38;5;241m=\u001b[39m \u001b[43mPairGrid\u001b[49m\u001b[43m(\u001b[49m\u001b[43mdata\u001b[49m\u001b[43m,\u001b[49m\u001b[43m \u001b[49m\u001b[38;5;28;43mvars\u001b[39;49m\u001b[38;5;241;43m=\u001b[39;49m\u001b[38;5;28;43mvars\u001b[39;49m\u001b[43m,\u001b[49m\u001b[43m \u001b[49m\u001b[43mx_vars\u001b[49m\u001b[38;5;241;43m=\u001b[39;49m\u001b[43mx_vars\u001b[49m\u001b[43m,\u001b[49m\u001b[43m \u001b[49m\u001b[43my_vars\u001b[49m\u001b[38;5;241;43m=\u001b[39;49m\u001b[43my_vars\u001b[49m\u001b[43m,\u001b[49m\u001b[43m \u001b[49m\u001b[43mhue\u001b[49m\u001b[38;5;241;43m=\u001b[39;49m\u001b[43mhue\u001b[49m\u001b[43m,\u001b[49m\n\u001b[1;32m   2115\u001b[0m \u001b[43m                \u001b[49m\u001b[43mhue_order\u001b[49m\u001b[38;5;241;43m=\u001b[39;49m\u001b[43mhue_order\u001b[49m\u001b[43m,\u001b[49m\u001b[43m \u001b[49m\u001b[43mpalette\u001b[49m\u001b[38;5;241;43m=\u001b[39;49m\u001b[43mpalette\u001b[49m\u001b[43m,\u001b[49m\u001b[43m \u001b[49m\u001b[43mcorner\u001b[49m\u001b[38;5;241;43m=\u001b[39;49m\u001b[43mcorner\u001b[49m\u001b[43m,\u001b[49m\n\u001b[1;32m   2116\u001b[0m \u001b[43m                \u001b[49m\u001b[43mheight\u001b[49m\u001b[38;5;241;43m=\u001b[39;49m\u001b[43mheight\u001b[49m\u001b[43m,\u001b[49m\u001b[43m \u001b[49m\u001b[43maspect\u001b[49m\u001b[38;5;241;43m=\u001b[39;49m\u001b[43maspect\u001b[49m\u001b[43m,\u001b[49m\u001b[43m \u001b[49m\u001b[43mdropna\u001b[49m\u001b[38;5;241;43m=\u001b[39;49m\u001b[43mdropna\u001b[49m\u001b[43m,\u001b[49m\u001b[43m \u001b[49m\u001b[38;5;241;43m*\u001b[39;49m\u001b[38;5;241;43m*\u001b[39;49m\u001b[43mgrid_kws\u001b[49m\u001b[43m)\u001b[49m\n\u001b[1;32m   2118\u001b[0m \u001b[38;5;66;03m# Add the markers here as PairGrid has figured out how many levels of the\u001b[39;00m\n\u001b[1;32m   2119\u001b[0m \u001b[38;5;66;03m# hue variable are needed and we don't want to duplicate that process\u001b[39;00m\n\u001b[1;32m   2120\u001b[0m \u001b[38;5;28;01mif\u001b[39;00m markers \u001b[38;5;129;01mis\u001b[39;00m \u001b[38;5;129;01mnot\u001b[39;00m \u001b[38;5;28;01mNone\u001b[39;00m:\n",
      "File \u001b[0;32m/clusterfs/ml4hep/shahzar/miniconda/envs/multifold/lib/python3.10/site-packages/seaborn/axisgrid.py:1358\u001b[0m, in \u001b[0;36mPairGrid.__init__\u001b[0;34m(self, data, hue, vars, x_vars, y_vars, hue_order, palette, hue_kws, corner, diag_sharey, height, aspect, layout_pad, despine, dropna)\u001b[0m\n\u001b[1;32m   1356\u001b[0m \u001b[38;5;28;01mif\u001b[39;00m despine:\n\u001b[1;32m   1357\u001b[0m     utils\u001b[38;5;241m.\u001b[39mdespine(fig\u001b[38;5;241m=\u001b[39mfig)\n\u001b[0;32m-> 1358\u001b[0m \u001b[38;5;28;43mself\u001b[39;49m\u001b[38;5;241;43m.\u001b[39;49m\u001b[43mtight_layout\u001b[49m\u001b[43m(\u001b[49m\u001b[43mpad\u001b[49m\u001b[38;5;241;43m=\u001b[39;49m\u001b[43mlayout_pad\u001b[49m\u001b[43m)\u001b[49m\n",
      "File \u001b[0;32m/clusterfs/ml4hep/shahzar/miniconda/envs/multifold/lib/python3.10/site-packages/seaborn/axisgrid.py:118\u001b[0m, in \u001b[0;36mGrid.tight_layout\u001b[0;34m(self, *args, **kwargs)\u001b[0m\n\u001b[1;32m    116\u001b[0m \u001b[38;5;28;01mif\u001b[39;00m \u001b[38;5;28mself\u001b[39m\u001b[38;5;241m.\u001b[39m_tight_layout_pad \u001b[38;5;129;01mis\u001b[39;00m \u001b[38;5;129;01mnot\u001b[39;00m \u001b[38;5;28;01mNone\u001b[39;00m:\n\u001b[1;32m    117\u001b[0m     kwargs\u001b[38;5;241m.\u001b[39msetdefault(\u001b[38;5;124m\"\u001b[39m\u001b[38;5;124mpad\u001b[39m\u001b[38;5;124m\"\u001b[39m, \u001b[38;5;28mself\u001b[39m\u001b[38;5;241m.\u001b[39m_tight_layout_pad)\n\u001b[0;32m--> 118\u001b[0m \u001b[38;5;28;43mself\u001b[39;49m\u001b[38;5;241;43m.\u001b[39;49m\u001b[43m_figure\u001b[49m\u001b[38;5;241;43m.\u001b[39;49m\u001b[43mtight_layout\u001b[49m\u001b[43m(\u001b[49m\u001b[38;5;241;43m*\u001b[39;49m\u001b[43margs\u001b[49m\u001b[43m,\u001b[49m\u001b[43m \u001b[49m\u001b[38;5;241;43m*\u001b[39;49m\u001b[38;5;241;43m*\u001b[39;49m\u001b[43mkwargs\u001b[49m\u001b[43m)\u001b[49m\n\u001b[1;32m    119\u001b[0m \u001b[38;5;28;01mreturn\u001b[39;00m \u001b[38;5;28mself\u001b[39m\n",
      "File \u001b[0;32m/clusterfs/ml4hep/shahzar/miniconda/envs/multifold/lib/python3.10/site-packages/matplotlib/figure.py:3445\u001b[0m, in \u001b[0;36mFigure.tight_layout\u001b[0;34m(self, pad, h_pad, w_pad, rect)\u001b[0m\n\u001b[1;32m   3443\u001b[0m \u001b[38;5;28;01mtry\u001b[39;00m:\n\u001b[1;32m   3444\u001b[0m     \u001b[38;5;28mself\u001b[39m\u001b[38;5;241m.\u001b[39mset_layout_engine(engine)\n\u001b[0;32m-> 3445\u001b[0m     \u001b[43mengine\u001b[49m\u001b[38;5;241;43m.\u001b[39;49m\u001b[43mexecute\u001b[49m\u001b[43m(\u001b[49m\u001b[38;5;28;43mself\u001b[39;49m\u001b[43m)\u001b[49m\n\u001b[1;32m   3446\u001b[0m \u001b[38;5;28;01mfinally\u001b[39;00m:\n\u001b[1;32m   3447\u001b[0m     \u001b[38;5;28mself\u001b[39m\u001b[38;5;241m.\u001b[39mset_layout_engine(\u001b[38;5;28;01mNone\u001b[39;00m)\n",
      "File \u001b[0;32m/clusterfs/ml4hep/shahzar/miniconda/envs/multifold/lib/python3.10/site-packages/matplotlib/layout_engine.py:180\u001b[0m, in \u001b[0;36mTightLayoutEngine.execute\u001b[0;34m(self, fig)\u001b[0m\n\u001b[1;32m    178\u001b[0m renderer \u001b[38;5;241m=\u001b[39m fig\u001b[38;5;241m.\u001b[39m_get_renderer()\n\u001b[1;32m    179\u001b[0m \u001b[38;5;28;01mwith\u001b[39;00m \u001b[38;5;28mgetattr\u001b[39m(renderer, \u001b[38;5;124m\"\u001b[39m\u001b[38;5;124m_draw_disabled\u001b[39m\u001b[38;5;124m\"\u001b[39m, nullcontext)():\n\u001b[0;32m--> 180\u001b[0m     kwargs \u001b[38;5;241m=\u001b[39m \u001b[43mget_tight_layout_figure\u001b[49m\u001b[43m(\u001b[49m\n\u001b[1;32m    181\u001b[0m \u001b[43m        \u001b[49m\u001b[43mfig\u001b[49m\u001b[43m,\u001b[49m\u001b[43m \u001b[49m\u001b[43mfig\u001b[49m\u001b[38;5;241;43m.\u001b[39;49m\u001b[43maxes\u001b[49m\u001b[43m,\u001b[49m\u001b[43m \u001b[49m\u001b[43msubplotspec_list\u001b[49m\u001b[43m,\u001b[49m\u001b[43m \u001b[49m\u001b[43mrenderer\u001b[49m\u001b[43m,\u001b[49m\n\u001b[1;32m    182\u001b[0m \u001b[43m        \u001b[49m\u001b[43mpad\u001b[49m\u001b[38;5;241;43m=\u001b[39;49m\u001b[43minfo\u001b[49m\u001b[43m[\u001b[49m\u001b[38;5;124;43m'\u001b[39;49m\u001b[38;5;124;43mpad\u001b[39;49m\u001b[38;5;124;43m'\u001b[39;49m\u001b[43m]\u001b[49m\u001b[43m,\u001b[49m\u001b[43m \u001b[49m\u001b[43mh_pad\u001b[49m\u001b[38;5;241;43m=\u001b[39;49m\u001b[43minfo\u001b[49m\u001b[43m[\u001b[49m\u001b[38;5;124;43m'\u001b[39;49m\u001b[38;5;124;43mh_pad\u001b[39;49m\u001b[38;5;124;43m'\u001b[39;49m\u001b[43m]\u001b[49m\u001b[43m,\u001b[49m\u001b[43m \u001b[49m\u001b[43mw_pad\u001b[49m\u001b[38;5;241;43m=\u001b[39;49m\u001b[43minfo\u001b[49m\u001b[43m[\u001b[49m\u001b[38;5;124;43m'\u001b[39;49m\u001b[38;5;124;43mw_pad\u001b[39;49m\u001b[38;5;124;43m'\u001b[39;49m\u001b[43m]\u001b[49m\u001b[43m,\u001b[49m\n\u001b[1;32m    183\u001b[0m \u001b[43m        \u001b[49m\u001b[43mrect\u001b[49m\u001b[38;5;241;43m=\u001b[39;49m\u001b[43minfo\u001b[49m\u001b[43m[\u001b[49m\u001b[38;5;124;43m'\u001b[39;49m\u001b[38;5;124;43mrect\u001b[39;49m\u001b[38;5;124;43m'\u001b[39;49m\u001b[43m]\u001b[49m\u001b[43m)\u001b[49m\n\u001b[1;32m    184\u001b[0m \u001b[38;5;28;01mif\u001b[39;00m kwargs:\n\u001b[1;32m    185\u001b[0m     fig\u001b[38;5;241m.\u001b[39msubplots_adjust(\u001b[38;5;241m*\u001b[39m\u001b[38;5;241m*\u001b[39mkwargs)\n",
      "File \u001b[0;32m/clusterfs/ml4hep/shahzar/miniconda/envs/multifold/lib/python3.10/site-packages/matplotlib/_tight_layout.py:305\u001b[0m, in \u001b[0;36mget_tight_layout_figure\u001b[0;34m(fig, axes_list, subplotspec_list, renderer, pad, h_pad, w_pad, rect)\u001b[0m\n\u001b[1;32m    300\u001b[0m         \u001b[38;5;28;01mreturn\u001b[39;00m {}\n\u001b[1;32m    301\u001b[0m     span_pairs\u001b[38;5;241m.\u001b[39mappend((\n\u001b[1;32m    302\u001b[0m         \u001b[38;5;28mslice\u001b[39m(ss\u001b[38;5;241m.\u001b[39mrowspan\u001b[38;5;241m.\u001b[39mstart \u001b[38;5;241m*\u001b[39m div_row, ss\u001b[38;5;241m.\u001b[39mrowspan\u001b[38;5;241m.\u001b[39mstop \u001b[38;5;241m*\u001b[39m div_row),\n\u001b[1;32m    303\u001b[0m         \u001b[38;5;28mslice\u001b[39m(ss\u001b[38;5;241m.\u001b[39mcolspan\u001b[38;5;241m.\u001b[39mstart \u001b[38;5;241m*\u001b[39m div_col, ss\u001b[38;5;241m.\u001b[39mcolspan\u001b[38;5;241m.\u001b[39mstop \u001b[38;5;241m*\u001b[39m div_col)))\n\u001b[0;32m--> 305\u001b[0m kwargs \u001b[38;5;241m=\u001b[39m \u001b[43m_auto_adjust_subplotpars\u001b[49m\u001b[43m(\u001b[49m\u001b[43mfig\u001b[49m\u001b[43m,\u001b[49m\u001b[43m \u001b[49m\u001b[43mrenderer\u001b[49m\u001b[43m,\u001b[49m\n\u001b[1;32m    306\u001b[0m \u001b[43m                                  \u001b[49m\u001b[43mshape\u001b[49m\u001b[38;5;241;43m=\u001b[39;49m\u001b[43m(\u001b[49m\u001b[43mmax_nrows\u001b[49m\u001b[43m,\u001b[49m\u001b[43m \u001b[49m\u001b[43mmax_ncols\u001b[49m\u001b[43m)\u001b[49m\u001b[43m,\u001b[49m\n\u001b[1;32m    307\u001b[0m \u001b[43m                                  \u001b[49m\u001b[43mspan_pairs\u001b[49m\u001b[38;5;241;43m=\u001b[39;49m\u001b[43mspan_pairs\u001b[49m\u001b[43m,\u001b[49m\n\u001b[1;32m    308\u001b[0m \u001b[43m                                  \u001b[49m\u001b[43msubplot_list\u001b[49m\u001b[38;5;241;43m=\u001b[39;49m\u001b[43msubplot_list\u001b[49m\u001b[43m,\u001b[49m\n\u001b[1;32m    309\u001b[0m \u001b[43m                                  \u001b[49m\u001b[43max_bbox_list\u001b[49m\u001b[38;5;241;43m=\u001b[39;49m\u001b[43max_bbox_list\u001b[49m\u001b[43m,\u001b[49m\n\u001b[1;32m    310\u001b[0m \u001b[43m                                  \u001b[49m\u001b[43mpad\u001b[49m\u001b[38;5;241;43m=\u001b[39;49m\u001b[43mpad\u001b[49m\u001b[43m,\u001b[49m\u001b[43m \u001b[49m\u001b[43mh_pad\u001b[49m\u001b[38;5;241;43m=\u001b[39;49m\u001b[43mh_pad\u001b[49m\u001b[43m,\u001b[49m\u001b[43m \u001b[49m\u001b[43mw_pad\u001b[49m\u001b[38;5;241;43m=\u001b[39;49m\u001b[43mw_pad\u001b[49m\u001b[43m)\u001b[49m\n\u001b[1;32m    312\u001b[0m \u001b[38;5;66;03m# kwargs can be none if tight_layout fails...\u001b[39;00m\n\u001b[1;32m    313\u001b[0m \u001b[38;5;28;01mif\u001b[39;00m rect \u001b[38;5;129;01mis\u001b[39;00m \u001b[38;5;129;01mnot\u001b[39;00m \u001b[38;5;28;01mNone\u001b[39;00m \u001b[38;5;129;01mand\u001b[39;00m kwargs \u001b[38;5;129;01mis\u001b[39;00m \u001b[38;5;129;01mnot\u001b[39;00m \u001b[38;5;28;01mNone\u001b[39;00m:\n\u001b[1;32m    314\u001b[0m     \u001b[38;5;66;03m# if rect is given, the whole subplots area (including\u001b[39;00m\n\u001b[1;32m    315\u001b[0m     \u001b[38;5;66;03m# labels) will fit into the rect instead of the\u001b[39;00m\n\u001b[0;32m   (...)\u001b[0m\n\u001b[1;32m    319\u001b[0m     \u001b[38;5;66;03m# auto_adjust_subplotpars twice, where the second run\u001b[39;00m\n\u001b[1;32m    320\u001b[0m     \u001b[38;5;66;03m# with adjusted rect parameters.\u001b[39;00m\n",
      "File \u001b[0;32m/clusterfs/ml4hep/shahzar/miniconda/envs/multifold/lib/python3.10/site-packages/matplotlib/_tight_layout.py:82\u001b[0m, in \u001b[0;36m_auto_adjust_subplotpars\u001b[0;34m(fig, renderer, shape, span_pairs, subplot_list, ax_bbox_list, pad, h_pad, w_pad, rect)\u001b[0m\n\u001b[1;32m     80\u001b[0m \u001b[38;5;28;01mfor\u001b[39;00m ax \u001b[38;5;129;01min\u001b[39;00m subplots:\n\u001b[1;32m     81\u001b[0m     \u001b[38;5;28;01mif\u001b[39;00m ax\u001b[38;5;241m.\u001b[39mget_visible():\n\u001b[0;32m---> 82\u001b[0m         bb \u001b[38;5;241m+\u001b[39m\u001b[38;5;241m=\u001b[39m [\u001b[43mmartist\u001b[49m\u001b[38;5;241;43m.\u001b[39;49m\u001b[43m_get_tightbbox_for_layout_only\u001b[49m\u001b[43m(\u001b[49m\u001b[43max\u001b[49m\u001b[43m,\u001b[49m\u001b[43m \u001b[49m\u001b[43mrenderer\u001b[49m\u001b[43m)\u001b[49m]\n\u001b[1;32m     84\u001b[0m tight_bbox_raw \u001b[38;5;241m=\u001b[39m Bbox\u001b[38;5;241m.\u001b[39munion(bb)\n\u001b[1;32m     85\u001b[0m tight_bbox \u001b[38;5;241m=\u001b[39m fig\u001b[38;5;241m.\u001b[39mtransFigure\u001b[38;5;241m.\u001b[39minverted()\u001b[38;5;241m.\u001b[39mtransform_bbox(tight_bbox_raw)\n",
      "File \u001b[0;32m/clusterfs/ml4hep/shahzar/miniconda/envs/multifold/lib/python3.10/site-packages/matplotlib/artist.py:1378\u001b[0m, in \u001b[0;36m_get_tightbbox_for_layout_only\u001b[0;34m(obj, *args, **kwargs)\u001b[0m\n\u001b[1;32m   1372\u001b[0m \u001b[38;5;124;03m\"\"\"\u001b[39;00m\n\u001b[1;32m   1373\u001b[0m \u001b[38;5;124;03mMatplotlib's `.Axes.get_tightbbox` and `.Axis.get_tightbbox` support a\u001b[39;00m\n\u001b[1;32m   1374\u001b[0m \u001b[38;5;124;03m*for_layout_only* kwarg; this helper tries to uses the kwarg but skips it\u001b[39;00m\n\u001b[1;32m   1375\u001b[0m \u001b[38;5;124;03mwhen encountering third-party subclasses that do not support it.\u001b[39;00m\n\u001b[1;32m   1376\u001b[0m \u001b[38;5;124;03m\"\"\"\u001b[39;00m\n\u001b[1;32m   1377\u001b[0m \u001b[38;5;28;01mtry\u001b[39;00m:\n\u001b[0;32m-> 1378\u001b[0m     \u001b[38;5;28;01mreturn\u001b[39;00m \u001b[43mobj\u001b[49m\u001b[38;5;241;43m.\u001b[39;49m\u001b[43mget_tightbbox\u001b[49m\u001b[43m(\u001b[49m\u001b[38;5;241;43m*\u001b[39;49m\u001b[43margs\u001b[49m\u001b[43m,\u001b[49m\u001b[43m \u001b[49m\u001b[38;5;241;43m*\u001b[39;49m\u001b[38;5;241;43m*\u001b[39;49m\u001b[43m{\u001b[49m\u001b[38;5;241;43m*\u001b[39;49m\u001b[38;5;241;43m*\u001b[39;49m\u001b[43mkwargs\u001b[49m\u001b[43m,\u001b[49m\u001b[43m \u001b[49m\u001b[38;5;124;43m\"\u001b[39;49m\u001b[38;5;124;43mfor_layout_only\u001b[39;49m\u001b[38;5;124;43m\"\u001b[39;49m\u001b[43m:\u001b[49m\u001b[43m \u001b[49m\u001b[38;5;28;43;01mTrue\u001b[39;49;00m\u001b[43m}\u001b[49m\u001b[43m)\u001b[49m\n\u001b[1;32m   1379\u001b[0m \u001b[38;5;28;01mexcept\u001b[39;00m \u001b[38;5;167;01mTypeError\u001b[39;00m:\n\u001b[1;32m   1380\u001b[0m     \u001b[38;5;28;01mreturn\u001b[39;00m obj\u001b[38;5;241m.\u001b[39mget_tightbbox(\u001b[38;5;241m*\u001b[39margs, \u001b[38;5;241m*\u001b[39m\u001b[38;5;241m*\u001b[39mkwargs)\n",
      "File \u001b[0;32m/clusterfs/ml4hep/shahzar/miniconda/envs/multifold/lib/python3.10/site-packages/matplotlib/axes/_base.py:4428\u001b[0m, in \u001b[0;36m_AxesBase.get_tightbbox\u001b[0;34m(self, renderer, call_axes_locator, bbox_extra_artists, for_layout_only)\u001b[0m\n\u001b[1;32m   4426\u001b[0m \u001b[38;5;28;01mfor\u001b[39;00m axis \u001b[38;5;129;01min\u001b[39;00m \u001b[38;5;28mself\u001b[39m\u001b[38;5;241m.\u001b[39m_axis_map\u001b[38;5;241m.\u001b[39mvalues():\n\u001b[1;32m   4427\u001b[0m     \u001b[38;5;28;01mif\u001b[39;00m \u001b[38;5;28mself\u001b[39m\u001b[38;5;241m.\u001b[39maxison \u001b[38;5;129;01mand\u001b[39;00m axis\u001b[38;5;241m.\u001b[39mget_visible():\n\u001b[0;32m-> 4428\u001b[0m         ba \u001b[38;5;241m=\u001b[39m \u001b[43mmartist\u001b[49m\u001b[38;5;241;43m.\u001b[39;49m\u001b[43m_get_tightbbox_for_layout_only\u001b[49m\u001b[43m(\u001b[49m\u001b[43maxis\u001b[49m\u001b[43m,\u001b[49m\u001b[43m \u001b[49m\u001b[43mrenderer\u001b[49m\u001b[43m)\u001b[49m\n\u001b[1;32m   4429\u001b[0m         \u001b[38;5;28;01mif\u001b[39;00m ba:\n\u001b[1;32m   4430\u001b[0m             bb\u001b[38;5;241m.\u001b[39mappend(ba)\n",
      "File \u001b[0;32m/clusterfs/ml4hep/shahzar/miniconda/envs/multifold/lib/python3.10/site-packages/matplotlib/artist.py:1378\u001b[0m, in \u001b[0;36m_get_tightbbox_for_layout_only\u001b[0;34m(obj, *args, **kwargs)\u001b[0m\n\u001b[1;32m   1372\u001b[0m \u001b[38;5;124;03m\"\"\"\u001b[39;00m\n\u001b[1;32m   1373\u001b[0m \u001b[38;5;124;03mMatplotlib's `.Axes.get_tightbbox` and `.Axis.get_tightbbox` support a\u001b[39;00m\n\u001b[1;32m   1374\u001b[0m \u001b[38;5;124;03m*for_layout_only* kwarg; this helper tries to uses the kwarg but skips it\u001b[39;00m\n\u001b[1;32m   1375\u001b[0m \u001b[38;5;124;03mwhen encountering third-party subclasses that do not support it.\u001b[39;00m\n\u001b[1;32m   1376\u001b[0m \u001b[38;5;124;03m\"\"\"\u001b[39;00m\n\u001b[1;32m   1377\u001b[0m \u001b[38;5;28;01mtry\u001b[39;00m:\n\u001b[0;32m-> 1378\u001b[0m     \u001b[38;5;28;01mreturn\u001b[39;00m \u001b[43mobj\u001b[49m\u001b[38;5;241;43m.\u001b[39;49m\u001b[43mget_tightbbox\u001b[49m\u001b[43m(\u001b[49m\u001b[38;5;241;43m*\u001b[39;49m\u001b[43margs\u001b[49m\u001b[43m,\u001b[49m\u001b[43m \u001b[49m\u001b[38;5;241;43m*\u001b[39;49m\u001b[38;5;241;43m*\u001b[39;49m\u001b[43m{\u001b[49m\u001b[38;5;241;43m*\u001b[39;49m\u001b[38;5;241;43m*\u001b[39;49m\u001b[43mkwargs\u001b[49m\u001b[43m,\u001b[49m\u001b[43m \u001b[49m\u001b[38;5;124;43m\"\u001b[39;49m\u001b[38;5;124;43mfor_layout_only\u001b[39;49m\u001b[38;5;124;43m\"\u001b[39;49m\u001b[43m:\u001b[49m\u001b[43m \u001b[49m\u001b[38;5;28;43;01mTrue\u001b[39;49;00m\u001b[43m}\u001b[49m\u001b[43m)\u001b[49m\n\u001b[1;32m   1379\u001b[0m \u001b[38;5;28;01mexcept\u001b[39;00m \u001b[38;5;167;01mTypeError\u001b[39;00m:\n\u001b[1;32m   1380\u001b[0m     \u001b[38;5;28;01mreturn\u001b[39;00m obj\u001b[38;5;241m.\u001b[39mget_tightbbox(\u001b[38;5;241m*\u001b[39margs, \u001b[38;5;241m*\u001b[39m\u001b[38;5;241m*\u001b[39mkwargs)\n",
      "File \u001b[0;32m/clusterfs/ml4hep/shahzar/miniconda/envs/multifold/lib/python3.10/site-packages/matplotlib/axis.py:1253\u001b[0m, in \u001b[0;36mAxis.get_tightbbox\u001b[0;34m(self, renderer, for_layout_only)\u001b[0m\n\u001b[1;32m   1250\u001b[0m     renderer \u001b[38;5;241m=\u001b[39m \u001b[38;5;28mself\u001b[39m\u001b[38;5;241m.\u001b[39mfigure\u001b[38;5;241m.\u001b[39m_get_renderer()\n\u001b[1;32m   1251\u001b[0m ticks_to_draw \u001b[38;5;241m=\u001b[39m \u001b[38;5;28mself\u001b[39m\u001b[38;5;241m.\u001b[39m_update_ticks()\n\u001b[0;32m-> 1253\u001b[0m \u001b[38;5;28;43mself\u001b[39;49m\u001b[38;5;241;43m.\u001b[39;49m\u001b[43m_update_label_position\u001b[49m\u001b[43m(\u001b[49m\u001b[43mrenderer\u001b[49m\u001b[43m)\u001b[49m\n\u001b[1;32m   1255\u001b[0m \u001b[38;5;66;03m# go back to just this axis's tick labels\u001b[39;00m\n\u001b[1;32m   1256\u001b[0m tlb1, tlb2 \u001b[38;5;241m=\u001b[39m \u001b[38;5;28mself\u001b[39m\u001b[38;5;241m.\u001b[39m_get_ticklabel_bboxes(ticks_to_draw, renderer)\n",
      "File \u001b[0;32m/clusterfs/ml4hep/shahzar/miniconda/envs/multifold/lib/python3.10/site-packages/matplotlib/axis.py:2506\u001b[0m, in \u001b[0;36mYAxis._update_label_position\u001b[0;34m(self, renderer)\u001b[0m\n\u001b[1;32m   2502\u001b[0m     \u001b[38;5;28;01mreturn\u001b[39;00m\n\u001b[1;32m   2504\u001b[0m \u001b[38;5;66;03m# get bounding boxes for this axis and any siblings\u001b[39;00m\n\u001b[1;32m   2505\u001b[0m \u001b[38;5;66;03m# that have been set by `fig.align_ylabels()`\u001b[39;00m\n\u001b[0;32m-> 2506\u001b[0m bboxes, bboxes2 \u001b[38;5;241m=\u001b[39m \u001b[38;5;28;43mself\u001b[39;49m\u001b[38;5;241;43m.\u001b[39;49m\u001b[43m_get_tick_boxes_siblings\u001b[49m\u001b[43m(\u001b[49m\u001b[43mrenderer\u001b[49m\u001b[38;5;241;43m=\u001b[39;49m\u001b[43mrenderer\u001b[49m\u001b[43m)\u001b[49m\n\u001b[1;32m   2507\u001b[0m x, y \u001b[38;5;241m=\u001b[39m \u001b[38;5;28mself\u001b[39m\u001b[38;5;241m.\u001b[39mlabel\u001b[38;5;241m.\u001b[39mget_position()\n\u001b[1;32m   2508\u001b[0m \u001b[38;5;28;01mif\u001b[39;00m \u001b[38;5;28mself\u001b[39m\u001b[38;5;241m.\u001b[39mlabel_position \u001b[38;5;241m==\u001b[39m \u001b[38;5;124m'\u001b[39m\u001b[38;5;124mleft\u001b[39m\u001b[38;5;124m'\u001b[39m:\n",
      "File \u001b[0;32m/clusterfs/ml4hep/shahzar/miniconda/envs/multifold/lib/python3.10/site-packages/matplotlib/axis.py:2056\u001b[0m, in \u001b[0;36mAxis._get_tick_boxes_siblings\u001b[0;34m(self, renderer)\u001b[0m\n\u001b[1;32m   2054\u001b[0m axis \u001b[38;5;241m=\u001b[39m \u001b[38;5;28mgetattr\u001b[39m(ax, \u001b[38;5;124mf\u001b[39m\u001b[38;5;124m\"\u001b[39m\u001b[38;5;132;01m{\u001b[39;00maxis_name\u001b[38;5;132;01m}\u001b[39;00m\u001b[38;5;124maxis\u001b[39m\u001b[38;5;124m\"\u001b[39m)\n\u001b[1;32m   2055\u001b[0m ticks_to_draw \u001b[38;5;241m=\u001b[39m axis\u001b[38;5;241m.\u001b[39m_update_ticks()\n\u001b[0;32m-> 2056\u001b[0m tlb, tlb2 \u001b[38;5;241m=\u001b[39m \u001b[43maxis\u001b[49m\u001b[38;5;241;43m.\u001b[39;49m\u001b[43m_get_ticklabel_bboxes\u001b[49m\u001b[43m(\u001b[49m\u001b[43mticks_to_draw\u001b[49m\u001b[43m,\u001b[49m\u001b[43m \u001b[49m\u001b[43mrenderer\u001b[49m\u001b[43m)\u001b[49m\n\u001b[1;32m   2057\u001b[0m bboxes\u001b[38;5;241m.\u001b[39mextend(tlb)\n\u001b[1;32m   2058\u001b[0m bboxes2\u001b[38;5;241m.\u001b[39mextend(tlb2)\n",
      "File \u001b[0;32m/clusterfs/ml4hep/shahzar/miniconda/envs/multifold/lib/python3.10/site-packages/matplotlib/axis.py:1232\u001b[0m, in \u001b[0;36mAxis._get_ticklabel_bboxes\u001b[0;34m(self, ticks, renderer)\u001b[0m\n\u001b[1;32m   1230\u001b[0m \u001b[38;5;28;01mif\u001b[39;00m renderer \u001b[38;5;129;01mis\u001b[39;00m \u001b[38;5;28;01mNone\u001b[39;00m:\n\u001b[1;32m   1231\u001b[0m     renderer \u001b[38;5;241m=\u001b[39m \u001b[38;5;28mself\u001b[39m\u001b[38;5;241m.\u001b[39mfigure\u001b[38;5;241m.\u001b[39m_get_renderer()\n\u001b[0;32m-> 1232\u001b[0m \u001b[38;5;28;01mreturn\u001b[39;00m ([tick\u001b[38;5;241m.\u001b[39mlabel1\u001b[38;5;241m.\u001b[39mget_window_extent(renderer)\n\u001b[1;32m   1233\u001b[0m          \u001b[38;5;28;01mfor\u001b[39;00m tick \u001b[38;5;129;01min\u001b[39;00m ticks \u001b[38;5;28;01mif\u001b[39;00m tick\u001b[38;5;241m.\u001b[39mlabel1\u001b[38;5;241m.\u001b[39mget_visible()],\n\u001b[1;32m   1234\u001b[0m         [tick\u001b[38;5;241m.\u001b[39mlabel2\u001b[38;5;241m.\u001b[39mget_window_extent(renderer)\n\u001b[1;32m   1235\u001b[0m          \u001b[38;5;28;01mfor\u001b[39;00m tick \u001b[38;5;129;01min\u001b[39;00m ticks \u001b[38;5;28;01mif\u001b[39;00m tick\u001b[38;5;241m.\u001b[39mlabel2\u001b[38;5;241m.\u001b[39mget_visible()])\n",
      "File \u001b[0;32m/clusterfs/ml4hep/shahzar/miniconda/envs/multifold/lib/python3.10/site-packages/matplotlib/axis.py:1232\u001b[0m, in \u001b[0;36m<listcomp>\u001b[0;34m(.0)\u001b[0m\n\u001b[1;32m   1230\u001b[0m \u001b[38;5;28;01mif\u001b[39;00m renderer \u001b[38;5;129;01mis\u001b[39;00m \u001b[38;5;28;01mNone\u001b[39;00m:\n\u001b[1;32m   1231\u001b[0m     renderer \u001b[38;5;241m=\u001b[39m \u001b[38;5;28mself\u001b[39m\u001b[38;5;241m.\u001b[39mfigure\u001b[38;5;241m.\u001b[39m_get_renderer()\n\u001b[0;32m-> 1232\u001b[0m \u001b[38;5;28;01mreturn\u001b[39;00m ([\u001b[43mtick\u001b[49m\u001b[38;5;241;43m.\u001b[39;49m\u001b[43mlabel1\u001b[49m\u001b[38;5;241;43m.\u001b[39;49m\u001b[43mget_window_extent\u001b[49m\u001b[43m(\u001b[49m\u001b[43mrenderer\u001b[49m\u001b[43m)\u001b[49m\n\u001b[1;32m   1233\u001b[0m          \u001b[38;5;28;01mfor\u001b[39;00m tick \u001b[38;5;129;01min\u001b[39;00m ticks \u001b[38;5;28;01mif\u001b[39;00m tick\u001b[38;5;241m.\u001b[39mlabel1\u001b[38;5;241m.\u001b[39mget_visible()],\n\u001b[1;32m   1234\u001b[0m         [tick\u001b[38;5;241m.\u001b[39mlabel2\u001b[38;5;241m.\u001b[39mget_window_extent(renderer)\n\u001b[1;32m   1235\u001b[0m          \u001b[38;5;28;01mfor\u001b[39;00m tick \u001b[38;5;129;01min\u001b[39;00m ticks \u001b[38;5;28;01mif\u001b[39;00m tick\u001b[38;5;241m.\u001b[39mlabel2\u001b[38;5;241m.\u001b[39mget_visible()])\n",
      "File \u001b[0;32m/clusterfs/ml4hep/shahzar/miniconda/envs/multifold/lib/python3.10/site-packages/matplotlib/text.py:915\u001b[0m, in \u001b[0;36mText.get_window_extent\u001b[0;34m(self, renderer, dpi)\u001b[0m\n\u001b[1;32m    910\u001b[0m     \u001b[38;5;28;01mraise\u001b[39;00m \u001b[38;5;167;01mRuntimeError\u001b[39;00m(\n\u001b[1;32m    911\u001b[0m         \u001b[38;5;124m\"\u001b[39m\u001b[38;5;124mCannot get window extent of text w/o renderer. You likely \u001b[39m\u001b[38;5;124m\"\u001b[39m\n\u001b[1;32m    912\u001b[0m         \u001b[38;5;124m\"\u001b[39m\u001b[38;5;124mwant to call \u001b[39m\u001b[38;5;124m'\u001b[39m\u001b[38;5;124mfigure.draw_without_rendering()\u001b[39m\u001b[38;5;124m'\u001b[39m\u001b[38;5;124m first.\u001b[39m\u001b[38;5;124m\"\u001b[39m)\n\u001b[1;32m    914\u001b[0m \u001b[38;5;28;01mwith\u001b[39;00m cbook\u001b[38;5;241m.\u001b[39m_setattr_cm(\u001b[38;5;28mself\u001b[39m\u001b[38;5;241m.\u001b[39mfigure, dpi\u001b[38;5;241m=\u001b[39mdpi):\n\u001b[0;32m--> 915\u001b[0m     bbox, info, descent \u001b[38;5;241m=\u001b[39m \u001b[38;5;28;43mself\u001b[39;49m\u001b[38;5;241;43m.\u001b[39;49m\u001b[43m_get_layout\u001b[49m\u001b[43m(\u001b[49m\u001b[38;5;28;43mself\u001b[39;49m\u001b[38;5;241;43m.\u001b[39;49m\u001b[43m_renderer\u001b[49m\u001b[43m)\u001b[49m\n\u001b[1;32m    916\u001b[0m     x, y \u001b[38;5;241m=\u001b[39m \u001b[38;5;28mself\u001b[39m\u001b[38;5;241m.\u001b[39mget_unitless_position()\n\u001b[1;32m    917\u001b[0m     x, y \u001b[38;5;241m=\u001b[39m \u001b[38;5;28mself\u001b[39m\u001b[38;5;241m.\u001b[39mget_transform()\u001b[38;5;241m.\u001b[39mtransform((x, y))\n",
      "File \u001b[0;32m/clusterfs/ml4hep/shahzar/miniconda/envs/multifold/lib/python3.10/site-packages/matplotlib/text.py:313\u001b[0m, in \u001b[0;36mText._get_layout\u001b[0;34m(self, renderer)\u001b[0m\n\u001b[1;32m    310\u001b[0m ys \u001b[38;5;241m=\u001b[39m []\n\u001b[1;32m    312\u001b[0m \u001b[38;5;66;03m# Full vertical extent of font, including ascenders and descenders:\u001b[39;00m\n\u001b[0;32m--> 313\u001b[0m _, lp_h, lp_d \u001b[38;5;241m=\u001b[39m \u001b[43m_get_text_metrics_with_cache\u001b[49m\u001b[43m(\u001b[49m\n\u001b[1;32m    314\u001b[0m \u001b[43m    \u001b[49m\u001b[43mrenderer\u001b[49m\u001b[43m,\u001b[49m\u001b[43m \u001b[49m\u001b[38;5;124;43m\"\u001b[39;49m\u001b[38;5;124;43mlp\u001b[39;49m\u001b[38;5;124;43m\"\u001b[39;49m\u001b[43m,\u001b[49m\u001b[43m \u001b[49m\u001b[38;5;28;43mself\u001b[39;49m\u001b[38;5;241;43m.\u001b[39;49m\u001b[43m_fontproperties\u001b[49m\u001b[43m,\u001b[49m\n\u001b[1;32m    315\u001b[0m \u001b[43m    \u001b[49m\u001b[43mismath\u001b[49m\u001b[38;5;241;43m=\u001b[39;49m\u001b[38;5;124;43m\"\u001b[39;49m\u001b[38;5;124;43mTeX\u001b[39;49m\u001b[38;5;124;43m\"\u001b[39;49m\u001b[43m \u001b[49m\u001b[38;5;28;43;01mif\u001b[39;49;00m\u001b[43m \u001b[49m\u001b[38;5;28;43mself\u001b[39;49m\u001b[38;5;241;43m.\u001b[39;49m\u001b[43mget_usetex\u001b[49m\u001b[43m(\u001b[49m\u001b[43m)\u001b[49m\u001b[43m \u001b[49m\u001b[38;5;28;43;01melse\u001b[39;49;00m\u001b[43m \u001b[49m\u001b[38;5;28;43;01mFalse\u001b[39;49;00m\u001b[43m,\u001b[49m\u001b[43m \u001b[49m\u001b[43mdpi\u001b[49m\u001b[38;5;241;43m=\u001b[39;49m\u001b[38;5;28;43mself\u001b[39;49m\u001b[38;5;241;43m.\u001b[39;49m\u001b[43mfigure\u001b[49m\u001b[38;5;241;43m.\u001b[39;49m\u001b[43mdpi\u001b[49m\u001b[43m)\u001b[49m\n\u001b[1;32m    316\u001b[0m min_dy \u001b[38;5;241m=\u001b[39m (lp_h \u001b[38;5;241m-\u001b[39m lp_d) \u001b[38;5;241m*\u001b[39m \u001b[38;5;28mself\u001b[39m\u001b[38;5;241m.\u001b[39m_linespacing\n\u001b[1;32m    318\u001b[0m \u001b[38;5;28;01mfor\u001b[39;00m i, line \u001b[38;5;129;01min\u001b[39;00m \u001b[38;5;28menumerate\u001b[39m(lines):\n",
      "File \u001b[0;32m/clusterfs/ml4hep/shahzar/miniconda/envs/multifold/lib/python3.10/site-packages/matplotlib/text.py:97\u001b[0m, in \u001b[0;36m_get_text_metrics_with_cache\u001b[0;34m(renderer, text, fontprop, ismath, dpi)\u001b[0m\n\u001b[1;32m     94\u001b[0m \u001b[38;5;124;03m\"\"\"Call ``renderer.get_text_width_height_descent``, caching the results.\"\"\"\u001b[39;00m\n\u001b[1;32m     95\u001b[0m \u001b[38;5;66;03m# Cached based on a copy of fontprop so that later in-place mutations of\u001b[39;00m\n\u001b[1;32m     96\u001b[0m \u001b[38;5;66;03m# the passed-in argument do not mess up the cache.\u001b[39;00m\n\u001b[0;32m---> 97\u001b[0m \u001b[38;5;28;01mreturn\u001b[39;00m \u001b[43m_get_text_metrics_with_cache_impl\u001b[49m\u001b[43m(\u001b[49m\n\u001b[1;32m     98\u001b[0m \u001b[43m    \u001b[49m\u001b[43mweakref\u001b[49m\u001b[38;5;241;43m.\u001b[39;49m\u001b[43mref\u001b[49m\u001b[43m(\u001b[49m\u001b[43mrenderer\u001b[49m\u001b[43m)\u001b[49m\u001b[43m,\u001b[49m\u001b[43m \u001b[49m\u001b[43mtext\u001b[49m\u001b[43m,\u001b[49m\u001b[43m \u001b[49m\u001b[43mfontprop\u001b[49m\u001b[38;5;241;43m.\u001b[39;49m\u001b[43mcopy\u001b[49m\u001b[43m(\u001b[49m\u001b[43m)\u001b[49m\u001b[43m,\u001b[49m\u001b[43m \u001b[49m\u001b[43mismath\u001b[49m\u001b[43m,\u001b[49m\u001b[43m \u001b[49m\u001b[43mdpi\u001b[49m\u001b[43m)\u001b[49m\n",
      "File \u001b[0;32m/clusterfs/ml4hep/shahzar/miniconda/envs/multifold/lib/python3.10/site-packages/matplotlib/text.py:105\u001b[0m, in \u001b[0;36m_get_text_metrics_with_cache_impl\u001b[0;34m(renderer_ref, text, fontprop, ismath, dpi)\u001b[0m\n\u001b[1;32m    101\u001b[0m \u001b[38;5;129m@functools\u001b[39m\u001b[38;5;241m.\u001b[39mlru_cache(\u001b[38;5;241m4096\u001b[39m)\n\u001b[1;32m    102\u001b[0m \u001b[38;5;28;01mdef\u001b[39;00m \u001b[38;5;21m_get_text_metrics_with_cache_impl\u001b[39m(\n\u001b[1;32m    103\u001b[0m         renderer_ref, text, fontprop, ismath, dpi):\n\u001b[1;32m    104\u001b[0m     \u001b[38;5;66;03m# dpi is unused, but participates in cache invalidation (via the renderer).\u001b[39;00m\n\u001b[0;32m--> 105\u001b[0m     \u001b[38;5;28;01mreturn\u001b[39;00m \u001b[43mrenderer_ref\u001b[49m\u001b[43m(\u001b[49m\u001b[43m)\u001b[49m\u001b[38;5;241;43m.\u001b[39;49m\u001b[43mget_text_width_height_descent\u001b[49m\u001b[43m(\u001b[49m\u001b[43mtext\u001b[49m\u001b[43m,\u001b[49m\u001b[43m \u001b[49m\u001b[43mfontprop\u001b[49m\u001b[43m,\u001b[49m\u001b[43m \u001b[49m\u001b[43mismath\u001b[49m\u001b[43m)\u001b[49m\n",
      "File \u001b[0;32m/clusterfs/ml4hep/shahzar/miniconda/envs/multifold/lib/python3.10/site-packages/matplotlib/backends/backend_agg.py:229\u001b[0m, in \u001b[0;36mRendererAgg.get_text_width_height_descent\u001b[0;34m(self, s, prop, ismath)\u001b[0m\n\u001b[1;32m    227\u001b[0m     texmanager \u001b[38;5;241m=\u001b[39m \u001b[38;5;28mself\u001b[39m\u001b[38;5;241m.\u001b[39mget_texmanager()\n\u001b[1;32m    228\u001b[0m     fontsize \u001b[38;5;241m=\u001b[39m prop\u001b[38;5;241m.\u001b[39mget_size_in_points()\n\u001b[0;32m--> 229\u001b[0m     w, h, d \u001b[38;5;241m=\u001b[39m \u001b[43mtexmanager\u001b[49m\u001b[38;5;241;43m.\u001b[39;49m\u001b[43mget_text_width_height_descent\u001b[49m\u001b[43m(\u001b[49m\n\u001b[1;32m    230\u001b[0m \u001b[43m        \u001b[49m\u001b[43ms\u001b[49m\u001b[43m,\u001b[49m\u001b[43m \u001b[49m\u001b[43mfontsize\u001b[49m\u001b[43m,\u001b[49m\u001b[43m \u001b[49m\u001b[43mrenderer\u001b[49m\u001b[38;5;241;43m=\u001b[39;49m\u001b[38;5;28;43mself\u001b[39;49m\u001b[43m)\u001b[49m\n\u001b[1;32m    231\u001b[0m     \u001b[38;5;28;01mreturn\u001b[39;00m w, h, d\n\u001b[1;32m    233\u001b[0m \u001b[38;5;28;01mif\u001b[39;00m ismath:\n",
      "File \u001b[0;32m/clusterfs/ml4hep/shahzar/miniconda/envs/multifold/lib/python3.10/site-packages/matplotlib/texmanager.py:362\u001b[0m, in \u001b[0;36mTexManager.get_text_width_height_descent\u001b[0;34m(cls, tex, fontsize, renderer)\u001b[0m\n\u001b[1;32m    360\u001b[0m \u001b[38;5;28;01mif\u001b[39;00m tex\u001b[38;5;241m.\u001b[39mstrip() \u001b[38;5;241m==\u001b[39m \u001b[38;5;124m'\u001b[39m\u001b[38;5;124m'\u001b[39m:\n\u001b[1;32m    361\u001b[0m     \u001b[38;5;28;01mreturn\u001b[39;00m \u001b[38;5;241m0\u001b[39m, \u001b[38;5;241m0\u001b[39m, \u001b[38;5;241m0\u001b[39m\n\u001b[0;32m--> 362\u001b[0m dvifile \u001b[38;5;241m=\u001b[39m \u001b[38;5;28;43mcls\u001b[39;49m\u001b[38;5;241;43m.\u001b[39;49m\u001b[43mmake_dvi\u001b[49m\u001b[43m(\u001b[49m\u001b[43mtex\u001b[49m\u001b[43m,\u001b[49m\u001b[43m \u001b[49m\u001b[43mfontsize\u001b[49m\u001b[43m)\u001b[49m\n\u001b[1;32m    363\u001b[0m dpi_fraction \u001b[38;5;241m=\u001b[39m renderer\u001b[38;5;241m.\u001b[39mpoints_to_pixels(\u001b[38;5;241m1.\u001b[39m) \u001b[38;5;28;01mif\u001b[39;00m renderer \u001b[38;5;28;01melse\u001b[39;00m \u001b[38;5;241m1\u001b[39m\n\u001b[1;32m    364\u001b[0m \u001b[38;5;28;01mwith\u001b[39;00m dviread\u001b[38;5;241m.\u001b[39mDvi(dvifile, \u001b[38;5;241m72\u001b[39m \u001b[38;5;241m*\u001b[39m dpi_fraction) \u001b[38;5;28;01mas\u001b[39;00m dvi:\n",
      "File \u001b[0;32m/clusterfs/ml4hep/shahzar/miniconda/envs/multifold/lib/python3.10/site-packages/matplotlib/texmanager.py:295\u001b[0m, in \u001b[0;36mTexManager.make_dvi\u001b[0;34m(cls, tex, fontsize)\u001b[0m\n\u001b[1;32m    286\u001b[0m     \u001b[38;5;66;03m# Generate the dvi in a temporary directory to avoid race\u001b[39;00m\n\u001b[1;32m    287\u001b[0m     \u001b[38;5;66;03m# conditions e.g. if multiple processes try to process the same tex\u001b[39;00m\n\u001b[1;32m    288\u001b[0m     \u001b[38;5;66;03m# string at the same time.  Having tmpdir be a subdirectory of the\u001b[39;00m\n\u001b[0;32m   (...)\u001b[0m\n\u001b[1;32m    292\u001b[0m     \u001b[38;5;66;03m# the absolute path may contain characters (e.g. ~) that TeX does\u001b[39;00m\n\u001b[1;32m    293\u001b[0m     \u001b[38;5;66;03m# not support.)\u001b[39;00m\n\u001b[1;32m    294\u001b[0m     \u001b[38;5;28;01mwith\u001b[39;00m TemporaryDirectory(\u001b[38;5;28mdir\u001b[39m\u001b[38;5;241m=\u001b[39mPath(dvifile)\u001b[38;5;241m.\u001b[39mparent) \u001b[38;5;28;01mas\u001b[39;00m tmpdir:\n\u001b[0;32m--> 295\u001b[0m         \u001b[38;5;28;43mcls\u001b[39;49m\u001b[38;5;241;43m.\u001b[39;49m\u001b[43m_run_checked_subprocess\u001b[49m\u001b[43m(\u001b[49m\n\u001b[1;32m    296\u001b[0m \u001b[43m            \u001b[49m\u001b[43m[\u001b[49m\u001b[38;5;124;43m\"\u001b[39;49m\u001b[38;5;124;43mlatex\u001b[39;49m\u001b[38;5;124;43m\"\u001b[39;49m\u001b[43m,\u001b[49m\u001b[43m \u001b[49m\u001b[38;5;124;43m\"\u001b[39;49m\u001b[38;5;124;43m-interaction=nonstopmode\u001b[39;49m\u001b[38;5;124;43m\"\u001b[39;49m\u001b[43m,\u001b[49m\u001b[43m \u001b[49m\u001b[38;5;124;43m\"\u001b[39;49m\u001b[38;5;124;43m--halt-on-error\u001b[39;49m\u001b[38;5;124;43m\"\u001b[39;49m\u001b[43m,\u001b[49m\n\u001b[1;32m    297\u001b[0m \u001b[43m             \u001b[49m\u001b[38;5;124;43mf\u001b[39;49m\u001b[38;5;124;43m\"\u001b[39;49m\u001b[38;5;124;43m../\u001b[39;49m\u001b[38;5;132;43;01m{\u001b[39;49;00m\u001b[43mtexfile\u001b[49m\u001b[38;5;241;43m.\u001b[39;49m\u001b[43mname\u001b[49m\u001b[38;5;132;43;01m}\u001b[39;49;00m\u001b[38;5;124;43m\"\u001b[39;49m\u001b[43m]\u001b[49m\u001b[43m,\u001b[49m\u001b[43m \u001b[49m\u001b[43mtex\u001b[49m\u001b[43m,\u001b[49m\u001b[43m \u001b[49m\u001b[43mcwd\u001b[49m\u001b[38;5;241;43m=\u001b[39;49m\u001b[43mtmpdir\u001b[49m\u001b[43m)\u001b[49m\n\u001b[1;32m    298\u001b[0m         (Path(tmpdir) \u001b[38;5;241m/\u001b[39m Path(dvifile)\u001b[38;5;241m.\u001b[39mname)\u001b[38;5;241m.\u001b[39mreplace(dvifile)\n\u001b[1;32m    299\u001b[0m \u001b[38;5;28;01mreturn\u001b[39;00m dvifile\n",
      "File \u001b[0;32m/clusterfs/ml4hep/shahzar/miniconda/envs/multifold/lib/python3.10/site-packages/matplotlib/texmanager.py:257\u001b[0m, in \u001b[0;36mTexManager._run_checked_subprocess\u001b[0;34m(cls, command, tex, cwd)\u001b[0m\n\u001b[1;32m    253\u001b[0m     report \u001b[38;5;241m=\u001b[39m subprocess\u001b[38;5;241m.\u001b[39mcheck_output(\n\u001b[1;32m    254\u001b[0m         command, cwd\u001b[38;5;241m=\u001b[39mcwd \u001b[38;5;28;01mif\u001b[39;00m cwd \u001b[38;5;129;01mis\u001b[39;00m \u001b[38;5;129;01mnot\u001b[39;00m \u001b[38;5;28;01mNone\u001b[39;00m \u001b[38;5;28;01melse\u001b[39;00m \u001b[38;5;28mcls\u001b[39m\u001b[38;5;241m.\u001b[39mtexcache,\n\u001b[1;32m    255\u001b[0m         stderr\u001b[38;5;241m=\u001b[39msubprocess\u001b[38;5;241m.\u001b[39mSTDOUT)\n\u001b[1;32m    256\u001b[0m \u001b[38;5;28;01mexcept\u001b[39;00m \u001b[38;5;167;01mFileNotFoundError\u001b[39;00m \u001b[38;5;28;01mas\u001b[39;00m exc:\n\u001b[0;32m--> 257\u001b[0m     \u001b[38;5;28;01mraise\u001b[39;00m \u001b[38;5;167;01mRuntimeError\u001b[39;00m(\n\u001b[1;32m    258\u001b[0m         \u001b[38;5;124m'\u001b[39m\u001b[38;5;124mFailed to process string with tex because \u001b[39m\u001b[38;5;132;01m{}\u001b[39;00m\u001b[38;5;124m could not be \u001b[39m\u001b[38;5;124m'\u001b[39m\n\u001b[1;32m    259\u001b[0m         \u001b[38;5;124m'\u001b[39m\u001b[38;5;124mfound\u001b[39m\u001b[38;5;124m'\u001b[39m\u001b[38;5;241m.\u001b[39mformat(command[\u001b[38;5;241m0\u001b[39m])) \u001b[38;5;28;01mfrom\u001b[39;00m \u001b[38;5;21;01mexc\u001b[39;00m\n\u001b[1;32m    260\u001b[0m \u001b[38;5;28;01mexcept\u001b[39;00m subprocess\u001b[38;5;241m.\u001b[39mCalledProcessError \u001b[38;5;28;01mas\u001b[39;00m exc:\n\u001b[1;32m    261\u001b[0m     \u001b[38;5;28;01mraise\u001b[39;00m \u001b[38;5;167;01mRuntimeError\u001b[39;00m(\n\u001b[1;32m    262\u001b[0m         \u001b[38;5;124m'\u001b[39m\u001b[38;5;132;01m{prog}\u001b[39;00m\u001b[38;5;124m was not able to process the following string:\u001b[39m\u001b[38;5;130;01m\\n\u001b[39;00m\u001b[38;5;124m'\u001b[39m\n\u001b[1;32m    263\u001b[0m         \u001b[38;5;124m'\u001b[39m\u001b[38;5;132;01m{tex!r}\u001b[39;00m\u001b[38;5;130;01m\\n\u001b[39;00m\u001b[38;5;130;01m\\n\u001b[39;00m\u001b[38;5;124m'\u001b[39m\n\u001b[0;32m   (...)\u001b[0m\n\u001b[1;32m    270\u001b[0m             exc\u001b[38;5;241m=\u001b[39mexc\u001b[38;5;241m.\u001b[39moutput\u001b[38;5;241m.\u001b[39mdecode(\u001b[38;5;124m'\u001b[39m\u001b[38;5;124mutf-8\u001b[39m\u001b[38;5;124m'\u001b[39m, \u001b[38;5;124m'\u001b[39m\u001b[38;5;124mbackslashreplace\u001b[39m\u001b[38;5;124m'\u001b[39m))\n\u001b[1;32m    271\u001b[0m         ) \u001b[38;5;28;01mfrom\u001b[39;00m \u001b[38;5;28mNone\u001b[39m\n",
      "\u001b[0;31mRuntimeError\u001b[0m: Failed to process string with tex because latex could not be found"
     ]
    },
    {
     "name": "stdout",
     "output_type": "stream",
     "text": [
      "Error in callback <function _draw_all_if_interactive at 0x7f6e63ecbf40> (for post_execute):\n"
     ]
    },
    {
     "ename": "RuntimeError",
     "evalue": "Failed to process string with tex because latex could not be found",
     "output_type": "error",
     "traceback": [
      "\u001b[0;31m---------------------------------------------------------------------------\u001b[0m",
      "\u001b[0;31mFileNotFoundError\u001b[0m                         Traceback (most recent call last)",
      "File \u001b[0;32m/clusterfs/ml4hep/shahzar/miniconda/envs/multifold/lib/python3.10/site-packages/matplotlib/texmanager.py:253\u001b[0m, in \u001b[0;36mTexManager._run_checked_subprocess\u001b[0;34m(cls, command, tex, cwd)\u001b[0m\n\u001b[1;32m    252\u001b[0m \u001b[38;5;28;01mtry\u001b[39;00m:\n\u001b[0;32m--> 253\u001b[0m     report \u001b[38;5;241m=\u001b[39m \u001b[43msubprocess\u001b[49m\u001b[38;5;241;43m.\u001b[39;49m\u001b[43mcheck_output\u001b[49m\u001b[43m(\u001b[49m\n\u001b[1;32m    254\u001b[0m \u001b[43m        \u001b[49m\u001b[43mcommand\u001b[49m\u001b[43m,\u001b[49m\u001b[43m \u001b[49m\u001b[43mcwd\u001b[49m\u001b[38;5;241;43m=\u001b[39;49m\u001b[43mcwd\u001b[49m\u001b[43m \u001b[49m\u001b[38;5;28;43;01mif\u001b[39;49;00m\u001b[43m \u001b[49m\u001b[43mcwd\u001b[49m\u001b[43m \u001b[49m\u001b[38;5;129;43;01mis\u001b[39;49;00m\u001b[43m \u001b[49m\u001b[38;5;129;43;01mnot\u001b[39;49;00m\u001b[43m \u001b[49m\u001b[38;5;28;43;01mNone\u001b[39;49;00m\u001b[43m \u001b[49m\u001b[38;5;28;43;01melse\u001b[39;49;00m\u001b[43m \u001b[49m\u001b[38;5;28;43mcls\u001b[39;49m\u001b[38;5;241;43m.\u001b[39;49m\u001b[43mtexcache\u001b[49m\u001b[43m,\u001b[49m\n\u001b[1;32m    255\u001b[0m \u001b[43m        \u001b[49m\u001b[43mstderr\u001b[49m\u001b[38;5;241;43m=\u001b[39;49m\u001b[43msubprocess\u001b[49m\u001b[38;5;241;43m.\u001b[39;49m\u001b[43mSTDOUT\u001b[49m\u001b[43m)\u001b[49m\n\u001b[1;32m    256\u001b[0m \u001b[38;5;28;01mexcept\u001b[39;00m \u001b[38;5;167;01mFileNotFoundError\u001b[39;00m \u001b[38;5;28;01mas\u001b[39;00m exc:\n",
      "File \u001b[0;32m/clusterfs/ml4hep/shahzar/miniconda/envs/multifold/lib/python3.10/subprocess.py:420\u001b[0m, in \u001b[0;36mcheck_output\u001b[0;34m(timeout, *popenargs, **kwargs)\u001b[0m\n\u001b[1;32m    418\u001b[0m     kwargs[\u001b[38;5;124m'\u001b[39m\u001b[38;5;124minput\u001b[39m\u001b[38;5;124m'\u001b[39m] \u001b[38;5;241m=\u001b[39m empty\n\u001b[0;32m--> 420\u001b[0m \u001b[38;5;28;01mreturn\u001b[39;00m \u001b[43mrun\u001b[49m\u001b[43m(\u001b[49m\u001b[38;5;241;43m*\u001b[39;49m\u001b[43mpopenargs\u001b[49m\u001b[43m,\u001b[49m\u001b[43m \u001b[49m\u001b[43mstdout\u001b[49m\u001b[38;5;241;43m=\u001b[39;49m\u001b[43mPIPE\u001b[49m\u001b[43m,\u001b[49m\u001b[43m \u001b[49m\u001b[43mtimeout\u001b[49m\u001b[38;5;241;43m=\u001b[39;49m\u001b[43mtimeout\u001b[49m\u001b[43m,\u001b[49m\u001b[43m \u001b[49m\u001b[43mcheck\u001b[49m\u001b[38;5;241;43m=\u001b[39;49m\u001b[38;5;28;43;01mTrue\u001b[39;49;00m\u001b[43m,\u001b[49m\n\u001b[1;32m    421\u001b[0m \u001b[43m           \u001b[49m\u001b[38;5;241;43m*\u001b[39;49m\u001b[38;5;241;43m*\u001b[39;49m\u001b[43mkwargs\u001b[49m\u001b[43m)\u001b[49m\u001b[38;5;241m.\u001b[39mstdout\n",
      "File \u001b[0;32m/clusterfs/ml4hep/shahzar/miniconda/envs/multifold/lib/python3.10/subprocess.py:501\u001b[0m, in \u001b[0;36mrun\u001b[0;34m(input, capture_output, timeout, check, *popenargs, **kwargs)\u001b[0m\n\u001b[1;32m    499\u001b[0m     kwargs[\u001b[38;5;124m'\u001b[39m\u001b[38;5;124mstderr\u001b[39m\u001b[38;5;124m'\u001b[39m] \u001b[38;5;241m=\u001b[39m PIPE\n\u001b[0;32m--> 501\u001b[0m \u001b[38;5;28;01mwith\u001b[39;00m \u001b[43mPopen\u001b[49m\u001b[43m(\u001b[49m\u001b[38;5;241;43m*\u001b[39;49m\u001b[43mpopenargs\u001b[49m\u001b[43m,\u001b[49m\u001b[43m \u001b[49m\u001b[38;5;241;43m*\u001b[39;49m\u001b[38;5;241;43m*\u001b[39;49m\u001b[43mkwargs\u001b[49m\u001b[43m)\u001b[49m \u001b[38;5;28;01mas\u001b[39;00m process:\n\u001b[1;32m    502\u001b[0m     \u001b[38;5;28;01mtry\u001b[39;00m:\n",
      "File \u001b[0;32m/clusterfs/ml4hep/shahzar/miniconda/envs/multifold/lib/python3.10/subprocess.py:969\u001b[0m, in \u001b[0;36mPopen.__init__\u001b[0;34m(self, args, bufsize, executable, stdin, stdout, stderr, preexec_fn, close_fds, shell, cwd, env, universal_newlines, startupinfo, creationflags, restore_signals, start_new_session, pass_fds, user, group, extra_groups, encoding, errors, text, umask, pipesize)\u001b[0m\n\u001b[1;32m    966\u001b[0m             \u001b[38;5;28mself\u001b[39m\u001b[38;5;241m.\u001b[39mstderr \u001b[38;5;241m=\u001b[39m io\u001b[38;5;241m.\u001b[39mTextIOWrapper(\u001b[38;5;28mself\u001b[39m\u001b[38;5;241m.\u001b[39mstderr,\n\u001b[1;32m    967\u001b[0m                     encoding\u001b[38;5;241m=\u001b[39mencoding, errors\u001b[38;5;241m=\u001b[39merrors)\n\u001b[0;32m--> 969\u001b[0m     \u001b[38;5;28;43mself\u001b[39;49m\u001b[38;5;241;43m.\u001b[39;49m\u001b[43m_execute_child\u001b[49m\u001b[43m(\u001b[49m\u001b[43margs\u001b[49m\u001b[43m,\u001b[49m\u001b[43m \u001b[49m\u001b[43mexecutable\u001b[49m\u001b[43m,\u001b[49m\u001b[43m \u001b[49m\u001b[43mpreexec_fn\u001b[49m\u001b[43m,\u001b[49m\u001b[43m \u001b[49m\u001b[43mclose_fds\u001b[49m\u001b[43m,\u001b[49m\n\u001b[1;32m    970\u001b[0m \u001b[43m                        \u001b[49m\u001b[43mpass_fds\u001b[49m\u001b[43m,\u001b[49m\u001b[43m \u001b[49m\u001b[43mcwd\u001b[49m\u001b[43m,\u001b[49m\u001b[43m \u001b[49m\u001b[43menv\u001b[49m\u001b[43m,\u001b[49m\n\u001b[1;32m    971\u001b[0m \u001b[43m                        \u001b[49m\u001b[43mstartupinfo\u001b[49m\u001b[43m,\u001b[49m\u001b[43m \u001b[49m\u001b[43mcreationflags\u001b[49m\u001b[43m,\u001b[49m\u001b[43m \u001b[49m\u001b[43mshell\u001b[49m\u001b[43m,\u001b[49m\n\u001b[1;32m    972\u001b[0m \u001b[43m                        \u001b[49m\u001b[43mp2cread\u001b[49m\u001b[43m,\u001b[49m\u001b[43m \u001b[49m\u001b[43mp2cwrite\u001b[49m\u001b[43m,\u001b[49m\n\u001b[1;32m    973\u001b[0m \u001b[43m                        \u001b[49m\u001b[43mc2pread\u001b[49m\u001b[43m,\u001b[49m\u001b[43m \u001b[49m\u001b[43mc2pwrite\u001b[49m\u001b[43m,\u001b[49m\n\u001b[1;32m    974\u001b[0m \u001b[43m                        \u001b[49m\u001b[43merrread\u001b[49m\u001b[43m,\u001b[49m\u001b[43m \u001b[49m\u001b[43merrwrite\u001b[49m\u001b[43m,\u001b[49m\n\u001b[1;32m    975\u001b[0m \u001b[43m                        \u001b[49m\u001b[43mrestore_signals\u001b[49m\u001b[43m,\u001b[49m\n\u001b[1;32m    976\u001b[0m \u001b[43m                        \u001b[49m\u001b[43mgid\u001b[49m\u001b[43m,\u001b[49m\u001b[43m \u001b[49m\u001b[43mgids\u001b[49m\u001b[43m,\u001b[49m\u001b[43m \u001b[49m\u001b[43muid\u001b[49m\u001b[43m,\u001b[49m\u001b[43m \u001b[49m\u001b[43mumask\u001b[49m\u001b[43m,\u001b[49m\n\u001b[1;32m    977\u001b[0m \u001b[43m                        \u001b[49m\u001b[43mstart_new_session\u001b[49m\u001b[43m)\u001b[49m\n\u001b[1;32m    978\u001b[0m \u001b[38;5;28;01mexcept\u001b[39;00m:\n\u001b[1;32m    979\u001b[0m     \u001b[38;5;66;03m# Cleanup if the child failed starting.\u001b[39;00m\n",
      "File \u001b[0;32m/clusterfs/ml4hep/shahzar/miniconda/envs/multifold/lib/python3.10/subprocess.py:1845\u001b[0m, in \u001b[0;36mPopen._execute_child\u001b[0;34m(self, args, executable, preexec_fn, close_fds, pass_fds, cwd, env, startupinfo, creationflags, shell, p2cread, p2cwrite, c2pread, c2pwrite, errread, errwrite, restore_signals, gid, gids, uid, umask, start_new_session)\u001b[0m\n\u001b[1;32m   1844\u001b[0m         err_msg \u001b[38;5;241m=\u001b[39m os\u001b[38;5;241m.\u001b[39mstrerror(errno_num)\n\u001b[0;32m-> 1845\u001b[0m     \u001b[38;5;28;01mraise\u001b[39;00m child_exception_type(errno_num, err_msg, err_filename)\n\u001b[1;32m   1846\u001b[0m \u001b[38;5;28;01mraise\u001b[39;00m child_exception_type(err_msg)\n",
      "\u001b[0;31mFileNotFoundError\u001b[0m: [Errno 2] No such file or directory: 'latex'",
      "\nThe above exception was the direct cause of the following exception:\n",
      "\u001b[0;31mRuntimeError\u001b[0m                              Traceback (most recent call last)",
      "File \u001b[0;32m/clusterfs/ml4hep/shahzar/miniconda/envs/multifold/lib/python3.10/site-packages/matplotlib/pyplot.py:119\u001b[0m, in \u001b[0;36m_draw_all_if_interactive\u001b[0;34m()\u001b[0m\n\u001b[1;32m    117\u001b[0m \u001b[38;5;28;01mdef\u001b[39;00m \u001b[38;5;21m_draw_all_if_interactive\u001b[39m():\n\u001b[1;32m    118\u001b[0m     \u001b[38;5;28;01mif\u001b[39;00m matplotlib\u001b[38;5;241m.\u001b[39mis_interactive():\n\u001b[0;32m--> 119\u001b[0m         \u001b[43mdraw_all\u001b[49m\u001b[43m(\u001b[49m\u001b[43m)\u001b[49m\n",
      "File \u001b[0;32m/clusterfs/ml4hep/shahzar/miniconda/envs/multifold/lib/python3.10/site-packages/matplotlib/_pylab_helpers.py:132\u001b[0m, in \u001b[0;36mGcf.draw_all\u001b[0;34m(cls, force)\u001b[0m\n\u001b[1;32m    130\u001b[0m \u001b[38;5;28;01mfor\u001b[39;00m manager \u001b[38;5;129;01min\u001b[39;00m \u001b[38;5;28mcls\u001b[39m\u001b[38;5;241m.\u001b[39mget_all_fig_managers():\n\u001b[1;32m    131\u001b[0m     \u001b[38;5;28;01mif\u001b[39;00m force \u001b[38;5;129;01mor\u001b[39;00m manager\u001b[38;5;241m.\u001b[39mcanvas\u001b[38;5;241m.\u001b[39mfigure\u001b[38;5;241m.\u001b[39mstale:\n\u001b[0;32m--> 132\u001b[0m         \u001b[43mmanager\u001b[49m\u001b[38;5;241;43m.\u001b[39;49m\u001b[43mcanvas\u001b[49m\u001b[38;5;241;43m.\u001b[39;49m\u001b[43mdraw_idle\u001b[49m\u001b[43m(\u001b[49m\u001b[43m)\u001b[49m\n",
      "File \u001b[0;32m/clusterfs/ml4hep/shahzar/miniconda/envs/multifold/lib/python3.10/site-packages/matplotlib/backend_bases.py:2054\u001b[0m, in \u001b[0;36mFigureCanvasBase.draw_idle\u001b[0;34m(self, *args, **kwargs)\u001b[0m\n\u001b[1;32m   2052\u001b[0m \u001b[38;5;28;01mif\u001b[39;00m \u001b[38;5;129;01mnot\u001b[39;00m \u001b[38;5;28mself\u001b[39m\u001b[38;5;241m.\u001b[39m_is_idle_drawing:\n\u001b[1;32m   2053\u001b[0m     \u001b[38;5;28;01mwith\u001b[39;00m \u001b[38;5;28mself\u001b[39m\u001b[38;5;241m.\u001b[39m_idle_draw_cntx():\n\u001b[0;32m-> 2054\u001b[0m         \u001b[38;5;28;43mself\u001b[39;49m\u001b[38;5;241;43m.\u001b[39;49m\u001b[43mdraw\u001b[49m\u001b[43m(\u001b[49m\u001b[38;5;241;43m*\u001b[39;49m\u001b[43margs\u001b[49m\u001b[43m,\u001b[49m\u001b[43m \u001b[49m\u001b[38;5;241;43m*\u001b[39;49m\u001b[38;5;241;43m*\u001b[39;49m\u001b[43mkwargs\u001b[49m\u001b[43m)\u001b[49m\n",
      "File \u001b[0;32m/clusterfs/ml4hep/shahzar/miniconda/envs/multifold/lib/python3.10/site-packages/matplotlib/backends/backend_agg.py:405\u001b[0m, in \u001b[0;36mFigureCanvasAgg.draw\u001b[0;34m(self)\u001b[0m\n\u001b[1;32m    401\u001b[0m \u001b[38;5;66;03m# Acquire a lock on the shared font cache.\u001b[39;00m\n\u001b[1;32m    402\u001b[0m \u001b[38;5;28;01mwith\u001b[39;00m RendererAgg\u001b[38;5;241m.\u001b[39mlock, \\\n\u001b[1;32m    403\u001b[0m      (\u001b[38;5;28mself\u001b[39m\u001b[38;5;241m.\u001b[39mtoolbar\u001b[38;5;241m.\u001b[39m_wait_cursor_for_draw_cm() \u001b[38;5;28;01mif\u001b[39;00m \u001b[38;5;28mself\u001b[39m\u001b[38;5;241m.\u001b[39mtoolbar\n\u001b[1;32m    404\u001b[0m       \u001b[38;5;28;01melse\u001b[39;00m nullcontext()):\n\u001b[0;32m--> 405\u001b[0m     \u001b[38;5;28;43mself\u001b[39;49m\u001b[38;5;241;43m.\u001b[39;49m\u001b[43mfigure\u001b[49m\u001b[38;5;241;43m.\u001b[39;49m\u001b[43mdraw\u001b[49m\u001b[43m(\u001b[49m\u001b[38;5;28;43mself\u001b[39;49m\u001b[38;5;241;43m.\u001b[39;49m\u001b[43mrenderer\u001b[49m\u001b[43m)\u001b[49m\n\u001b[1;32m    406\u001b[0m     \u001b[38;5;66;03m# A GUI class may be need to update a window using this draw, so\u001b[39;00m\n\u001b[1;32m    407\u001b[0m     \u001b[38;5;66;03m# don't forget to call the superclass.\u001b[39;00m\n\u001b[1;32m    408\u001b[0m     \u001b[38;5;28msuper\u001b[39m()\u001b[38;5;241m.\u001b[39mdraw()\n",
      "File \u001b[0;32m/clusterfs/ml4hep/shahzar/miniconda/envs/multifold/lib/python3.10/site-packages/matplotlib/artist.py:74\u001b[0m, in \u001b[0;36m_finalize_rasterization.<locals>.draw_wrapper\u001b[0;34m(artist, renderer, *args, **kwargs)\u001b[0m\n\u001b[1;32m     72\u001b[0m \u001b[38;5;129m@wraps\u001b[39m(draw)\n\u001b[1;32m     73\u001b[0m \u001b[38;5;28;01mdef\u001b[39;00m \u001b[38;5;21mdraw_wrapper\u001b[39m(artist, renderer, \u001b[38;5;241m*\u001b[39margs, \u001b[38;5;241m*\u001b[39m\u001b[38;5;241m*\u001b[39mkwargs):\n\u001b[0;32m---> 74\u001b[0m     result \u001b[38;5;241m=\u001b[39m \u001b[43mdraw\u001b[49m\u001b[43m(\u001b[49m\u001b[43martist\u001b[49m\u001b[43m,\u001b[49m\u001b[43m \u001b[49m\u001b[43mrenderer\u001b[49m\u001b[43m,\u001b[49m\u001b[43m \u001b[49m\u001b[38;5;241;43m*\u001b[39;49m\u001b[43margs\u001b[49m\u001b[43m,\u001b[49m\u001b[43m \u001b[49m\u001b[38;5;241;43m*\u001b[39;49m\u001b[38;5;241;43m*\u001b[39;49m\u001b[43mkwargs\u001b[49m\u001b[43m)\u001b[49m\n\u001b[1;32m     75\u001b[0m     \u001b[38;5;28;01mif\u001b[39;00m renderer\u001b[38;5;241m.\u001b[39m_rasterizing:\n\u001b[1;32m     76\u001b[0m         renderer\u001b[38;5;241m.\u001b[39mstop_rasterizing()\n",
      "File \u001b[0;32m/clusterfs/ml4hep/shahzar/miniconda/envs/multifold/lib/python3.10/site-packages/matplotlib/artist.py:51\u001b[0m, in \u001b[0;36mallow_rasterization.<locals>.draw_wrapper\u001b[0;34m(artist, renderer)\u001b[0m\n\u001b[1;32m     48\u001b[0m     \u001b[38;5;28;01mif\u001b[39;00m artist\u001b[38;5;241m.\u001b[39mget_agg_filter() \u001b[38;5;129;01mis\u001b[39;00m \u001b[38;5;129;01mnot\u001b[39;00m \u001b[38;5;28;01mNone\u001b[39;00m:\n\u001b[1;32m     49\u001b[0m         renderer\u001b[38;5;241m.\u001b[39mstart_filter()\n\u001b[0;32m---> 51\u001b[0m     \u001b[38;5;28;01mreturn\u001b[39;00m \u001b[43mdraw\u001b[49m\u001b[43m(\u001b[49m\u001b[43martist\u001b[49m\u001b[43m,\u001b[49m\u001b[43m \u001b[49m\u001b[43mrenderer\u001b[49m\u001b[43m)\u001b[49m\n\u001b[1;32m     52\u001b[0m \u001b[38;5;28;01mfinally\u001b[39;00m:\n\u001b[1;32m     53\u001b[0m     \u001b[38;5;28;01mif\u001b[39;00m artist\u001b[38;5;241m.\u001b[39mget_agg_filter() \u001b[38;5;129;01mis\u001b[39;00m \u001b[38;5;129;01mnot\u001b[39;00m \u001b[38;5;28;01mNone\u001b[39;00m:\n",
      "File \u001b[0;32m/clusterfs/ml4hep/shahzar/miniconda/envs/multifold/lib/python3.10/site-packages/matplotlib/figure.py:3071\u001b[0m, in \u001b[0;36mFigure.draw\u001b[0;34m(self, renderer)\u001b[0m\n\u001b[1;32m   3068\u001b[0m         \u001b[38;5;66;03m# ValueError can occur when resizing a window.\u001b[39;00m\n\u001b[1;32m   3070\u001b[0m \u001b[38;5;28mself\u001b[39m\u001b[38;5;241m.\u001b[39mpatch\u001b[38;5;241m.\u001b[39mdraw(renderer)\n\u001b[0;32m-> 3071\u001b[0m \u001b[43mmimage\u001b[49m\u001b[38;5;241;43m.\u001b[39;49m\u001b[43m_draw_list_compositing_images\u001b[49m\u001b[43m(\u001b[49m\n\u001b[1;32m   3072\u001b[0m \u001b[43m    \u001b[49m\u001b[43mrenderer\u001b[49m\u001b[43m,\u001b[49m\u001b[43m \u001b[49m\u001b[38;5;28;43mself\u001b[39;49m\u001b[43m,\u001b[49m\u001b[43m \u001b[49m\u001b[43martists\u001b[49m\u001b[43m,\u001b[49m\u001b[43m \u001b[49m\u001b[38;5;28;43mself\u001b[39;49m\u001b[38;5;241;43m.\u001b[39;49m\u001b[43msuppressComposite\u001b[49m\u001b[43m)\u001b[49m\n\u001b[1;32m   3074\u001b[0m \u001b[38;5;28;01mfor\u001b[39;00m sfig \u001b[38;5;129;01min\u001b[39;00m \u001b[38;5;28mself\u001b[39m\u001b[38;5;241m.\u001b[39msubfigs:\n\u001b[1;32m   3075\u001b[0m     sfig\u001b[38;5;241m.\u001b[39mdraw(renderer)\n",
      "File \u001b[0;32m/clusterfs/ml4hep/shahzar/miniconda/envs/multifold/lib/python3.10/site-packages/matplotlib/image.py:131\u001b[0m, in \u001b[0;36m_draw_list_compositing_images\u001b[0;34m(renderer, parent, artists, suppress_composite)\u001b[0m\n\u001b[1;32m    129\u001b[0m \u001b[38;5;28;01mif\u001b[39;00m not_composite \u001b[38;5;129;01mor\u001b[39;00m \u001b[38;5;129;01mnot\u001b[39;00m has_images:\n\u001b[1;32m    130\u001b[0m     \u001b[38;5;28;01mfor\u001b[39;00m a \u001b[38;5;129;01min\u001b[39;00m artists:\n\u001b[0;32m--> 131\u001b[0m         \u001b[43ma\u001b[49m\u001b[38;5;241;43m.\u001b[39;49m\u001b[43mdraw\u001b[49m\u001b[43m(\u001b[49m\u001b[43mrenderer\u001b[49m\u001b[43m)\u001b[49m\n\u001b[1;32m    132\u001b[0m \u001b[38;5;28;01melse\u001b[39;00m:\n\u001b[1;32m    133\u001b[0m     \u001b[38;5;66;03m# Composite any adjacent images together\u001b[39;00m\n\u001b[1;32m    134\u001b[0m     image_group \u001b[38;5;241m=\u001b[39m []\n",
      "File \u001b[0;32m/clusterfs/ml4hep/shahzar/miniconda/envs/multifold/lib/python3.10/site-packages/matplotlib/artist.py:51\u001b[0m, in \u001b[0;36mallow_rasterization.<locals>.draw_wrapper\u001b[0;34m(artist, renderer)\u001b[0m\n\u001b[1;32m     48\u001b[0m     \u001b[38;5;28;01mif\u001b[39;00m artist\u001b[38;5;241m.\u001b[39mget_agg_filter() \u001b[38;5;129;01mis\u001b[39;00m \u001b[38;5;129;01mnot\u001b[39;00m \u001b[38;5;28;01mNone\u001b[39;00m:\n\u001b[1;32m     49\u001b[0m         renderer\u001b[38;5;241m.\u001b[39mstart_filter()\n\u001b[0;32m---> 51\u001b[0m     \u001b[38;5;28;01mreturn\u001b[39;00m \u001b[43mdraw\u001b[49m\u001b[43m(\u001b[49m\u001b[43martist\u001b[49m\u001b[43m,\u001b[49m\u001b[43m \u001b[49m\u001b[43mrenderer\u001b[49m\u001b[43m)\u001b[49m\n\u001b[1;32m     52\u001b[0m \u001b[38;5;28;01mfinally\u001b[39;00m:\n\u001b[1;32m     53\u001b[0m     \u001b[38;5;28;01mif\u001b[39;00m artist\u001b[38;5;241m.\u001b[39mget_agg_filter() \u001b[38;5;129;01mis\u001b[39;00m \u001b[38;5;129;01mnot\u001b[39;00m \u001b[38;5;28;01mNone\u001b[39;00m:\n",
      "File \u001b[0;32m/clusterfs/ml4hep/shahzar/miniconda/envs/multifold/lib/python3.10/site-packages/matplotlib/axes/_base.py:3107\u001b[0m, in \u001b[0;36m_AxesBase.draw\u001b[0;34m(self, renderer)\u001b[0m\n\u001b[1;32m   3104\u001b[0m         a\u001b[38;5;241m.\u001b[39mdraw(renderer)\n\u001b[1;32m   3105\u001b[0m     renderer\u001b[38;5;241m.\u001b[39mstop_rasterizing()\n\u001b[0;32m-> 3107\u001b[0m \u001b[43mmimage\u001b[49m\u001b[38;5;241;43m.\u001b[39;49m\u001b[43m_draw_list_compositing_images\u001b[49m\u001b[43m(\u001b[49m\n\u001b[1;32m   3108\u001b[0m \u001b[43m    \u001b[49m\u001b[43mrenderer\u001b[49m\u001b[43m,\u001b[49m\u001b[43m \u001b[49m\u001b[38;5;28;43mself\u001b[39;49m\u001b[43m,\u001b[49m\u001b[43m \u001b[49m\u001b[43martists\u001b[49m\u001b[43m,\u001b[49m\u001b[43m \u001b[49m\u001b[38;5;28;43mself\u001b[39;49m\u001b[38;5;241;43m.\u001b[39;49m\u001b[43mfigure\u001b[49m\u001b[38;5;241;43m.\u001b[39;49m\u001b[43msuppressComposite\u001b[49m\u001b[43m)\u001b[49m\n\u001b[1;32m   3110\u001b[0m renderer\u001b[38;5;241m.\u001b[39mclose_group(\u001b[38;5;124m'\u001b[39m\u001b[38;5;124maxes\u001b[39m\u001b[38;5;124m'\u001b[39m)\n\u001b[1;32m   3111\u001b[0m \u001b[38;5;28mself\u001b[39m\u001b[38;5;241m.\u001b[39mstale \u001b[38;5;241m=\u001b[39m \u001b[38;5;28;01mFalse\u001b[39;00m\n",
      "File \u001b[0;32m/clusterfs/ml4hep/shahzar/miniconda/envs/multifold/lib/python3.10/site-packages/matplotlib/image.py:131\u001b[0m, in \u001b[0;36m_draw_list_compositing_images\u001b[0;34m(renderer, parent, artists, suppress_composite)\u001b[0m\n\u001b[1;32m    129\u001b[0m \u001b[38;5;28;01mif\u001b[39;00m not_composite \u001b[38;5;129;01mor\u001b[39;00m \u001b[38;5;129;01mnot\u001b[39;00m has_images:\n\u001b[1;32m    130\u001b[0m     \u001b[38;5;28;01mfor\u001b[39;00m a \u001b[38;5;129;01min\u001b[39;00m artists:\n\u001b[0;32m--> 131\u001b[0m         \u001b[43ma\u001b[49m\u001b[38;5;241;43m.\u001b[39;49m\u001b[43mdraw\u001b[49m\u001b[43m(\u001b[49m\u001b[43mrenderer\u001b[49m\u001b[43m)\u001b[49m\n\u001b[1;32m    132\u001b[0m \u001b[38;5;28;01melse\u001b[39;00m:\n\u001b[1;32m    133\u001b[0m     \u001b[38;5;66;03m# Composite any adjacent images together\u001b[39;00m\n\u001b[1;32m    134\u001b[0m     image_group \u001b[38;5;241m=\u001b[39m []\n",
      "File \u001b[0;32m/clusterfs/ml4hep/shahzar/miniconda/envs/multifold/lib/python3.10/site-packages/matplotlib/artist.py:51\u001b[0m, in \u001b[0;36mallow_rasterization.<locals>.draw_wrapper\u001b[0;34m(artist, renderer)\u001b[0m\n\u001b[1;32m     48\u001b[0m     \u001b[38;5;28;01mif\u001b[39;00m artist\u001b[38;5;241m.\u001b[39mget_agg_filter() \u001b[38;5;129;01mis\u001b[39;00m \u001b[38;5;129;01mnot\u001b[39;00m \u001b[38;5;28;01mNone\u001b[39;00m:\n\u001b[1;32m     49\u001b[0m         renderer\u001b[38;5;241m.\u001b[39mstart_filter()\n\u001b[0;32m---> 51\u001b[0m     \u001b[38;5;28;01mreturn\u001b[39;00m \u001b[43mdraw\u001b[49m\u001b[43m(\u001b[49m\u001b[43martist\u001b[49m\u001b[43m,\u001b[49m\u001b[43m \u001b[49m\u001b[43mrenderer\u001b[49m\u001b[43m)\u001b[49m\n\u001b[1;32m     52\u001b[0m \u001b[38;5;28;01mfinally\u001b[39;00m:\n\u001b[1;32m     53\u001b[0m     \u001b[38;5;28;01mif\u001b[39;00m artist\u001b[38;5;241m.\u001b[39mget_agg_filter() \u001b[38;5;129;01mis\u001b[39;00m \u001b[38;5;129;01mnot\u001b[39;00m \u001b[38;5;28;01mNone\u001b[39;00m:\n",
      "File \u001b[0;32m/clusterfs/ml4hep/shahzar/miniconda/envs/multifold/lib/python3.10/site-packages/matplotlib/axis.py:1305\u001b[0m, in \u001b[0;36mAxis.draw\u001b[0;34m(self, renderer, *args, **kwargs)\u001b[0m\n\u001b[1;32m   1302\u001b[0m renderer\u001b[38;5;241m.\u001b[39mopen_group(\u001b[38;5;18m__name__\u001b[39m, gid\u001b[38;5;241m=\u001b[39m\u001b[38;5;28mself\u001b[39m\u001b[38;5;241m.\u001b[39mget_gid())\n\u001b[1;32m   1304\u001b[0m ticks_to_draw \u001b[38;5;241m=\u001b[39m \u001b[38;5;28mself\u001b[39m\u001b[38;5;241m.\u001b[39m_update_ticks()\n\u001b[0;32m-> 1305\u001b[0m tlb1, tlb2 \u001b[38;5;241m=\u001b[39m \u001b[38;5;28;43mself\u001b[39;49m\u001b[38;5;241;43m.\u001b[39;49m\u001b[43m_get_ticklabel_bboxes\u001b[49m\u001b[43m(\u001b[49m\u001b[43mticks_to_draw\u001b[49m\u001b[43m,\u001b[49m\u001b[43m \u001b[49m\u001b[43mrenderer\u001b[49m\u001b[43m)\u001b[49m\n\u001b[1;32m   1307\u001b[0m \u001b[38;5;28;01mfor\u001b[39;00m tick \u001b[38;5;129;01min\u001b[39;00m ticks_to_draw:\n\u001b[1;32m   1308\u001b[0m     tick\u001b[38;5;241m.\u001b[39mdraw(renderer)\n",
      "File \u001b[0;32m/clusterfs/ml4hep/shahzar/miniconda/envs/multifold/lib/python3.10/site-packages/matplotlib/axis.py:1232\u001b[0m, in \u001b[0;36mAxis._get_ticklabel_bboxes\u001b[0;34m(self, ticks, renderer)\u001b[0m\n\u001b[1;32m   1230\u001b[0m \u001b[38;5;28;01mif\u001b[39;00m renderer \u001b[38;5;129;01mis\u001b[39;00m \u001b[38;5;28;01mNone\u001b[39;00m:\n\u001b[1;32m   1231\u001b[0m     renderer \u001b[38;5;241m=\u001b[39m \u001b[38;5;28mself\u001b[39m\u001b[38;5;241m.\u001b[39mfigure\u001b[38;5;241m.\u001b[39m_get_renderer()\n\u001b[0;32m-> 1232\u001b[0m \u001b[38;5;28;01mreturn\u001b[39;00m ([tick\u001b[38;5;241m.\u001b[39mlabel1\u001b[38;5;241m.\u001b[39mget_window_extent(renderer)\n\u001b[1;32m   1233\u001b[0m          \u001b[38;5;28;01mfor\u001b[39;00m tick \u001b[38;5;129;01min\u001b[39;00m ticks \u001b[38;5;28;01mif\u001b[39;00m tick\u001b[38;5;241m.\u001b[39mlabel1\u001b[38;5;241m.\u001b[39mget_visible()],\n\u001b[1;32m   1234\u001b[0m         [tick\u001b[38;5;241m.\u001b[39mlabel2\u001b[38;5;241m.\u001b[39mget_window_extent(renderer)\n\u001b[1;32m   1235\u001b[0m          \u001b[38;5;28;01mfor\u001b[39;00m tick \u001b[38;5;129;01min\u001b[39;00m ticks \u001b[38;5;28;01mif\u001b[39;00m tick\u001b[38;5;241m.\u001b[39mlabel2\u001b[38;5;241m.\u001b[39mget_visible()])\n",
      "File \u001b[0;32m/clusterfs/ml4hep/shahzar/miniconda/envs/multifold/lib/python3.10/site-packages/matplotlib/axis.py:1232\u001b[0m, in \u001b[0;36m<listcomp>\u001b[0;34m(.0)\u001b[0m\n\u001b[1;32m   1230\u001b[0m \u001b[38;5;28;01mif\u001b[39;00m renderer \u001b[38;5;129;01mis\u001b[39;00m \u001b[38;5;28;01mNone\u001b[39;00m:\n\u001b[1;32m   1231\u001b[0m     renderer \u001b[38;5;241m=\u001b[39m \u001b[38;5;28mself\u001b[39m\u001b[38;5;241m.\u001b[39mfigure\u001b[38;5;241m.\u001b[39m_get_renderer()\n\u001b[0;32m-> 1232\u001b[0m \u001b[38;5;28;01mreturn\u001b[39;00m ([\u001b[43mtick\u001b[49m\u001b[38;5;241;43m.\u001b[39;49m\u001b[43mlabel1\u001b[49m\u001b[38;5;241;43m.\u001b[39;49m\u001b[43mget_window_extent\u001b[49m\u001b[43m(\u001b[49m\u001b[43mrenderer\u001b[49m\u001b[43m)\u001b[49m\n\u001b[1;32m   1233\u001b[0m          \u001b[38;5;28;01mfor\u001b[39;00m tick \u001b[38;5;129;01min\u001b[39;00m ticks \u001b[38;5;28;01mif\u001b[39;00m tick\u001b[38;5;241m.\u001b[39mlabel1\u001b[38;5;241m.\u001b[39mget_visible()],\n\u001b[1;32m   1234\u001b[0m         [tick\u001b[38;5;241m.\u001b[39mlabel2\u001b[38;5;241m.\u001b[39mget_window_extent(renderer)\n\u001b[1;32m   1235\u001b[0m          \u001b[38;5;28;01mfor\u001b[39;00m tick \u001b[38;5;129;01min\u001b[39;00m ticks \u001b[38;5;28;01mif\u001b[39;00m tick\u001b[38;5;241m.\u001b[39mlabel2\u001b[38;5;241m.\u001b[39mget_visible()])\n",
      "File \u001b[0;32m/clusterfs/ml4hep/shahzar/miniconda/envs/multifold/lib/python3.10/site-packages/matplotlib/text.py:915\u001b[0m, in \u001b[0;36mText.get_window_extent\u001b[0;34m(self, renderer, dpi)\u001b[0m\n\u001b[1;32m    910\u001b[0m     \u001b[38;5;28;01mraise\u001b[39;00m \u001b[38;5;167;01mRuntimeError\u001b[39;00m(\n\u001b[1;32m    911\u001b[0m         \u001b[38;5;124m\"\u001b[39m\u001b[38;5;124mCannot get window extent of text w/o renderer. You likely \u001b[39m\u001b[38;5;124m\"\u001b[39m\n\u001b[1;32m    912\u001b[0m         \u001b[38;5;124m\"\u001b[39m\u001b[38;5;124mwant to call \u001b[39m\u001b[38;5;124m'\u001b[39m\u001b[38;5;124mfigure.draw_without_rendering()\u001b[39m\u001b[38;5;124m'\u001b[39m\u001b[38;5;124m first.\u001b[39m\u001b[38;5;124m\"\u001b[39m)\n\u001b[1;32m    914\u001b[0m \u001b[38;5;28;01mwith\u001b[39;00m cbook\u001b[38;5;241m.\u001b[39m_setattr_cm(\u001b[38;5;28mself\u001b[39m\u001b[38;5;241m.\u001b[39mfigure, dpi\u001b[38;5;241m=\u001b[39mdpi):\n\u001b[0;32m--> 915\u001b[0m     bbox, info, descent \u001b[38;5;241m=\u001b[39m \u001b[38;5;28;43mself\u001b[39;49m\u001b[38;5;241;43m.\u001b[39;49m\u001b[43m_get_layout\u001b[49m\u001b[43m(\u001b[49m\u001b[38;5;28;43mself\u001b[39;49m\u001b[38;5;241;43m.\u001b[39;49m\u001b[43m_renderer\u001b[49m\u001b[43m)\u001b[49m\n\u001b[1;32m    916\u001b[0m     x, y \u001b[38;5;241m=\u001b[39m \u001b[38;5;28mself\u001b[39m\u001b[38;5;241m.\u001b[39mget_unitless_position()\n\u001b[1;32m    917\u001b[0m     x, y \u001b[38;5;241m=\u001b[39m \u001b[38;5;28mself\u001b[39m\u001b[38;5;241m.\u001b[39mget_transform()\u001b[38;5;241m.\u001b[39mtransform((x, y))\n",
      "File \u001b[0;32m/clusterfs/ml4hep/shahzar/miniconda/envs/multifold/lib/python3.10/site-packages/matplotlib/text.py:313\u001b[0m, in \u001b[0;36mText._get_layout\u001b[0;34m(self, renderer)\u001b[0m\n\u001b[1;32m    310\u001b[0m ys \u001b[38;5;241m=\u001b[39m []\n\u001b[1;32m    312\u001b[0m \u001b[38;5;66;03m# Full vertical extent of font, including ascenders and descenders:\u001b[39;00m\n\u001b[0;32m--> 313\u001b[0m _, lp_h, lp_d \u001b[38;5;241m=\u001b[39m \u001b[43m_get_text_metrics_with_cache\u001b[49m\u001b[43m(\u001b[49m\n\u001b[1;32m    314\u001b[0m \u001b[43m    \u001b[49m\u001b[43mrenderer\u001b[49m\u001b[43m,\u001b[49m\u001b[43m \u001b[49m\u001b[38;5;124;43m\"\u001b[39;49m\u001b[38;5;124;43mlp\u001b[39;49m\u001b[38;5;124;43m\"\u001b[39;49m\u001b[43m,\u001b[49m\u001b[43m \u001b[49m\u001b[38;5;28;43mself\u001b[39;49m\u001b[38;5;241;43m.\u001b[39;49m\u001b[43m_fontproperties\u001b[49m\u001b[43m,\u001b[49m\n\u001b[1;32m    315\u001b[0m \u001b[43m    \u001b[49m\u001b[43mismath\u001b[49m\u001b[38;5;241;43m=\u001b[39;49m\u001b[38;5;124;43m\"\u001b[39;49m\u001b[38;5;124;43mTeX\u001b[39;49m\u001b[38;5;124;43m\"\u001b[39;49m\u001b[43m \u001b[49m\u001b[38;5;28;43;01mif\u001b[39;49;00m\u001b[43m \u001b[49m\u001b[38;5;28;43mself\u001b[39;49m\u001b[38;5;241;43m.\u001b[39;49m\u001b[43mget_usetex\u001b[49m\u001b[43m(\u001b[49m\u001b[43m)\u001b[49m\u001b[43m \u001b[49m\u001b[38;5;28;43;01melse\u001b[39;49;00m\u001b[43m \u001b[49m\u001b[38;5;28;43;01mFalse\u001b[39;49;00m\u001b[43m,\u001b[49m\u001b[43m \u001b[49m\u001b[43mdpi\u001b[49m\u001b[38;5;241;43m=\u001b[39;49m\u001b[38;5;28;43mself\u001b[39;49m\u001b[38;5;241;43m.\u001b[39;49m\u001b[43mfigure\u001b[49m\u001b[38;5;241;43m.\u001b[39;49m\u001b[43mdpi\u001b[49m\u001b[43m)\u001b[49m\n\u001b[1;32m    316\u001b[0m min_dy \u001b[38;5;241m=\u001b[39m (lp_h \u001b[38;5;241m-\u001b[39m lp_d) \u001b[38;5;241m*\u001b[39m \u001b[38;5;28mself\u001b[39m\u001b[38;5;241m.\u001b[39m_linespacing\n\u001b[1;32m    318\u001b[0m \u001b[38;5;28;01mfor\u001b[39;00m i, line \u001b[38;5;129;01min\u001b[39;00m \u001b[38;5;28menumerate\u001b[39m(lines):\n",
      "File \u001b[0;32m/clusterfs/ml4hep/shahzar/miniconda/envs/multifold/lib/python3.10/site-packages/matplotlib/text.py:97\u001b[0m, in \u001b[0;36m_get_text_metrics_with_cache\u001b[0;34m(renderer, text, fontprop, ismath, dpi)\u001b[0m\n\u001b[1;32m     94\u001b[0m \u001b[38;5;124;03m\"\"\"Call ``renderer.get_text_width_height_descent``, caching the results.\"\"\"\u001b[39;00m\n\u001b[1;32m     95\u001b[0m \u001b[38;5;66;03m# Cached based on a copy of fontprop so that later in-place mutations of\u001b[39;00m\n\u001b[1;32m     96\u001b[0m \u001b[38;5;66;03m# the passed-in argument do not mess up the cache.\u001b[39;00m\n\u001b[0;32m---> 97\u001b[0m \u001b[38;5;28;01mreturn\u001b[39;00m \u001b[43m_get_text_metrics_with_cache_impl\u001b[49m\u001b[43m(\u001b[49m\n\u001b[1;32m     98\u001b[0m \u001b[43m    \u001b[49m\u001b[43mweakref\u001b[49m\u001b[38;5;241;43m.\u001b[39;49m\u001b[43mref\u001b[49m\u001b[43m(\u001b[49m\u001b[43mrenderer\u001b[49m\u001b[43m)\u001b[49m\u001b[43m,\u001b[49m\u001b[43m \u001b[49m\u001b[43mtext\u001b[49m\u001b[43m,\u001b[49m\u001b[43m \u001b[49m\u001b[43mfontprop\u001b[49m\u001b[38;5;241;43m.\u001b[39;49m\u001b[43mcopy\u001b[49m\u001b[43m(\u001b[49m\u001b[43m)\u001b[49m\u001b[43m,\u001b[49m\u001b[43m \u001b[49m\u001b[43mismath\u001b[49m\u001b[43m,\u001b[49m\u001b[43m \u001b[49m\u001b[43mdpi\u001b[49m\u001b[43m)\u001b[49m\n",
      "File \u001b[0;32m/clusterfs/ml4hep/shahzar/miniconda/envs/multifold/lib/python3.10/site-packages/matplotlib/text.py:105\u001b[0m, in \u001b[0;36m_get_text_metrics_with_cache_impl\u001b[0;34m(renderer_ref, text, fontprop, ismath, dpi)\u001b[0m\n\u001b[1;32m    101\u001b[0m \u001b[38;5;129m@functools\u001b[39m\u001b[38;5;241m.\u001b[39mlru_cache(\u001b[38;5;241m4096\u001b[39m)\n\u001b[1;32m    102\u001b[0m \u001b[38;5;28;01mdef\u001b[39;00m \u001b[38;5;21m_get_text_metrics_with_cache_impl\u001b[39m(\n\u001b[1;32m    103\u001b[0m         renderer_ref, text, fontprop, ismath, dpi):\n\u001b[1;32m    104\u001b[0m     \u001b[38;5;66;03m# dpi is unused, but participates in cache invalidation (via the renderer).\u001b[39;00m\n\u001b[0;32m--> 105\u001b[0m     \u001b[38;5;28;01mreturn\u001b[39;00m \u001b[43mrenderer_ref\u001b[49m\u001b[43m(\u001b[49m\u001b[43m)\u001b[49m\u001b[38;5;241;43m.\u001b[39;49m\u001b[43mget_text_width_height_descent\u001b[49m\u001b[43m(\u001b[49m\u001b[43mtext\u001b[49m\u001b[43m,\u001b[49m\u001b[43m \u001b[49m\u001b[43mfontprop\u001b[49m\u001b[43m,\u001b[49m\u001b[43m \u001b[49m\u001b[43mismath\u001b[49m\u001b[43m)\u001b[49m\n",
      "File \u001b[0;32m/clusterfs/ml4hep/shahzar/miniconda/envs/multifold/lib/python3.10/site-packages/matplotlib/backends/backend_agg.py:229\u001b[0m, in \u001b[0;36mRendererAgg.get_text_width_height_descent\u001b[0;34m(self, s, prop, ismath)\u001b[0m\n\u001b[1;32m    227\u001b[0m     texmanager \u001b[38;5;241m=\u001b[39m \u001b[38;5;28mself\u001b[39m\u001b[38;5;241m.\u001b[39mget_texmanager()\n\u001b[1;32m    228\u001b[0m     fontsize \u001b[38;5;241m=\u001b[39m prop\u001b[38;5;241m.\u001b[39mget_size_in_points()\n\u001b[0;32m--> 229\u001b[0m     w, h, d \u001b[38;5;241m=\u001b[39m \u001b[43mtexmanager\u001b[49m\u001b[38;5;241;43m.\u001b[39;49m\u001b[43mget_text_width_height_descent\u001b[49m\u001b[43m(\u001b[49m\n\u001b[1;32m    230\u001b[0m \u001b[43m        \u001b[49m\u001b[43ms\u001b[49m\u001b[43m,\u001b[49m\u001b[43m \u001b[49m\u001b[43mfontsize\u001b[49m\u001b[43m,\u001b[49m\u001b[43m \u001b[49m\u001b[43mrenderer\u001b[49m\u001b[38;5;241;43m=\u001b[39;49m\u001b[38;5;28;43mself\u001b[39;49m\u001b[43m)\u001b[49m\n\u001b[1;32m    231\u001b[0m     \u001b[38;5;28;01mreturn\u001b[39;00m w, h, d\n\u001b[1;32m    233\u001b[0m \u001b[38;5;28;01mif\u001b[39;00m ismath:\n",
      "File \u001b[0;32m/clusterfs/ml4hep/shahzar/miniconda/envs/multifold/lib/python3.10/site-packages/matplotlib/texmanager.py:362\u001b[0m, in \u001b[0;36mTexManager.get_text_width_height_descent\u001b[0;34m(cls, tex, fontsize, renderer)\u001b[0m\n\u001b[1;32m    360\u001b[0m \u001b[38;5;28;01mif\u001b[39;00m tex\u001b[38;5;241m.\u001b[39mstrip() \u001b[38;5;241m==\u001b[39m \u001b[38;5;124m'\u001b[39m\u001b[38;5;124m'\u001b[39m:\n\u001b[1;32m    361\u001b[0m     \u001b[38;5;28;01mreturn\u001b[39;00m \u001b[38;5;241m0\u001b[39m, \u001b[38;5;241m0\u001b[39m, \u001b[38;5;241m0\u001b[39m\n\u001b[0;32m--> 362\u001b[0m dvifile \u001b[38;5;241m=\u001b[39m \u001b[38;5;28;43mcls\u001b[39;49m\u001b[38;5;241;43m.\u001b[39;49m\u001b[43mmake_dvi\u001b[49m\u001b[43m(\u001b[49m\u001b[43mtex\u001b[49m\u001b[43m,\u001b[49m\u001b[43m \u001b[49m\u001b[43mfontsize\u001b[49m\u001b[43m)\u001b[49m\n\u001b[1;32m    363\u001b[0m dpi_fraction \u001b[38;5;241m=\u001b[39m renderer\u001b[38;5;241m.\u001b[39mpoints_to_pixels(\u001b[38;5;241m1.\u001b[39m) \u001b[38;5;28;01mif\u001b[39;00m renderer \u001b[38;5;28;01melse\u001b[39;00m \u001b[38;5;241m1\u001b[39m\n\u001b[1;32m    364\u001b[0m \u001b[38;5;28;01mwith\u001b[39;00m dviread\u001b[38;5;241m.\u001b[39mDvi(dvifile, \u001b[38;5;241m72\u001b[39m \u001b[38;5;241m*\u001b[39m dpi_fraction) \u001b[38;5;28;01mas\u001b[39;00m dvi:\n",
      "File \u001b[0;32m/clusterfs/ml4hep/shahzar/miniconda/envs/multifold/lib/python3.10/site-packages/matplotlib/texmanager.py:295\u001b[0m, in \u001b[0;36mTexManager.make_dvi\u001b[0;34m(cls, tex, fontsize)\u001b[0m\n\u001b[1;32m    286\u001b[0m     \u001b[38;5;66;03m# Generate the dvi in a temporary directory to avoid race\u001b[39;00m\n\u001b[1;32m    287\u001b[0m     \u001b[38;5;66;03m# conditions e.g. if multiple processes try to process the same tex\u001b[39;00m\n\u001b[1;32m    288\u001b[0m     \u001b[38;5;66;03m# string at the same time.  Having tmpdir be a subdirectory of the\u001b[39;00m\n\u001b[0;32m   (...)\u001b[0m\n\u001b[1;32m    292\u001b[0m     \u001b[38;5;66;03m# the absolute path may contain characters (e.g. ~) that TeX does\u001b[39;00m\n\u001b[1;32m    293\u001b[0m     \u001b[38;5;66;03m# not support.)\u001b[39;00m\n\u001b[1;32m    294\u001b[0m     \u001b[38;5;28;01mwith\u001b[39;00m TemporaryDirectory(\u001b[38;5;28mdir\u001b[39m\u001b[38;5;241m=\u001b[39mPath(dvifile)\u001b[38;5;241m.\u001b[39mparent) \u001b[38;5;28;01mas\u001b[39;00m tmpdir:\n\u001b[0;32m--> 295\u001b[0m         \u001b[38;5;28;43mcls\u001b[39;49m\u001b[38;5;241;43m.\u001b[39;49m\u001b[43m_run_checked_subprocess\u001b[49m\u001b[43m(\u001b[49m\n\u001b[1;32m    296\u001b[0m \u001b[43m            \u001b[49m\u001b[43m[\u001b[49m\u001b[38;5;124;43m\"\u001b[39;49m\u001b[38;5;124;43mlatex\u001b[39;49m\u001b[38;5;124;43m\"\u001b[39;49m\u001b[43m,\u001b[49m\u001b[43m \u001b[49m\u001b[38;5;124;43m\"\u001b[39;49m\u001b[38;5;124;43m-interaction=nonstopmode\u001b[39;49m\u001b[38;5;124;43m\"\u001b[39;49m\u001b[43m,\u001b[49m\u001b[43m \u001b[49m\u001b[38;5;124;43m\"\u001b[39;49m\u001b[38;5;124;43m--halt-on-error\u001b[39;49m\u001b[38;5;124;43m\"\u001b[39;49m\u001b[43m,\u001b[49m\n\u001b[1;32m    297\u001b[0m \u001b[43m             \u001b[49m\u001b[38;5;124;43mf\u001b[39;49m\u001b[38;5;124;43m\"\u001b[39;49m\u001b[38;5;124;43m../\u001b[39;49m\u001b[38;5;132;43;01m{\u001b[39;49;00m\u001b[43mtexfile\u001b[49m\u001b[38;5;241;43m.\u001b[39;49m\u001b[43mname\u001b[49m\u001b[38;5;132;43;01m}\u001b[39;49;00m\u001b[38;5;124;43m\"\u001b[39;49m\u001b[43m]\u001b[49m\u001b[43m,\u001b[49m\u001b[43m \u001b[49m\u001b[43mtex\u001b[49m\u001b[43m,\u001b[49m\u001b[43m \u001b[49m\u001b[43mcwd\u001b[49m\u001b[38;5;241;43m=\u001b[39;49m\u001b[43mtmpdir\u001b[49m\u001b[43m)\u001b[49m\n\u001b[1;32m    298\u001b[0m         (Path(tmpdir) \u001b[38;5;241m/\u001b[39m Path(dvifile)\u001b[38;5;241m.\u001b[39mname)\u001b[38;5;241m.\u001b[39mreplace(dvifile)\n\u001b[1;32m    299\u001b[0m \u001b[38;5;28;01mreturn\u001b[39;00m dvifile\n",
      "File \u001b[0;32m/clusterfs/ml4hep/shahzar/miniconda/envs/multifold/lib/python3.10/site-packages/matplotlib/texmanager.py:257\u001b[0m, in \u001b[0;36mTexManager._run_checked_subprocess\u001b[0;34m(cls, command, tex, cwd)\u001b[0m\n\u001b[1;32m    253\u001b[0m     report \u001b[38;5;241m=\u001b[39m subprocess\u001b[38;5;241m.\u001b[39mcheck_output(\n\u001b[1;32m    254\u001b[0m         command, cwd\u001b[38;5;241m=\u001b[39mcwd \u001b[38;5;28;01mif\u001b[39;00m cwd \u001b[38;5;129;01mis\u001b[39;00m \u001b[38;5;129;01mnot\u001b[39;00m \u001b[38;5;28;01mNone\u001b[39;00m \u001b[38;5;28;01melse\u001b[39;00m \u001b[38;5;28mcls\u001b[39m\u001b[38;5;241m.\u001b[39mtexcache,\n\u001b[1;32m    255\u001b[0m         stderr\u001b[38;5;241m=\u001b[39msubprocess\u001b[38;5;241m.\u001b[39mSTDOUT)\n\u001b[1;32m    256\u001b[0m \u001b[38;5;28;01mexcept\u001b[39;00m \u001b[38;5;167;01mFileNotFoundError\u001b[39;00m \u001b[38;5;28;01mas\u001b[39;00m exc:\n\u001b[0;32m--> 257\u001b[0m     \u001b[38;5;28;01mraise\u001b[39;00m \u001b[38;5;167;01mRuntimeError\u001b[39;00m(\n\u001b[1;32m    258\u001b[0m         \u001b[38;5;124m'\u001b[39m\u001b[38;5;124mFailed to process string with tex because \u001b[39m\u001b[38;5;132;01m{}\u001b[39;00m\u001b[38;5;124m could not be \u001b[39m\u001b[38;5;124m'\u001b[39m\n\u001b[1;32m    259\u001b[0m         \u001b[38;5;124m'\u001b[39m\u001b[38;5;124mfound\u001b[39m\u001b[38;5;124m'\u001b[39m\u001b[38;5;241m.\u001b[39mformat(command[\u001b[38;5;241m0\u001b[39m])) \u001b[38;5;28;01mfrom\u001b[39;00m \u001b[38;5;21;01mexc\u001b[39;00m\n\u001b[1;32m    260\u001b[0m \u001b[38;5;28;01mexcept\u001b[39;00m subprocess\u001b[38;5;241m.\u001b[39mCalledProcessError \u001b[38;5;28;01mas\u001b[39;00m exc:\n\u001b[1;32m    261\u001b[0m     \u001b[38;5;28;01mraise\u001b[39;00m \u001b[38;5;167;01mRuntimeError\u001b[39;00m(\n\u001b[1;32m    262\u001b[0m         \u001b[38;5;124m'\u001b[39m\u001b[38;5;132;01m{prog}\u001b[39;00m\u001b[38;5;124m was not able to process the following string:\u001b[39m\u001b[38;5;130;01m\\n\u001b[39;00m\u001b[38;5;124m'\u001b[39m\n\u001b[1;32m    263\u001b[0m         \u001b[38;5;124m'\u001b[39m\u001b[38;5;132;01m{tex!r}\u001b[39;00m\u001b[38;5;130;01m\\n\u001b[39;00m\u001b[38;5;130;01m\\n\u001b[39;00m\u001b[38;5;124m'\u001b[39m\n\u001b[0;32m   (...)\u001b[0m\n\u001b[1;32m    270\u001b[0m             exc\u001b[38;5;241m=\u001b[39mexc\u001b[38;5;241m.\u001b[39moutput\u001b[38;5;241m.\u001b[39mdecode(\u001b[38;5;124m'\u001b[39m\u001b[38;5;124mutf-8\u001b[39m\u001b[38;5;124m'\u001b[39m, \u001b[38;5;124m'\u001b[39m\u001b[38;5;124mbackslashreplace\u001b[39m\u001b[38;5;124m'\u001b[39m))\n\u001b[1;32m    271\u001b[0m         ) \u001b[38;5;28;01mfrom\u001b[39;00m \u001b[38;5;28mNone\u001b[39m\n",
      "\u001b[0;31mRuntimeError\u001b[0m: Failed to process string with tex because latex could not be found"
     ]
    },
    {
     "ename": "RuntimeError",
     "evalue": "Failed to process string with tex because latex could not be found",
     "output_type": "error",
     "traceback": [
      "\u001b[0;31m---------------------------------------------------------------------------\u001b[0m",
      "\u001b[0;31mFileNotFoundError\u001b[0m                         Traceback (most recent call last)",
      "File \u001b[0;32m/clusterfs/ml4hep/shahzar/miniconda/envs/multifold/lib/python3.10/site-packages/matplotlib/texmanager.py:253\u001b[0m, in \u001b[0;36mTexManager._run_checked_subprocess\u001b[0;34m(cls, command, tex, cwd)\u001b[0m\n\u001b[1;32m    252\u001b[0m \u001b[38;5;28;01mtry\u001b[39;00m:\n\u001b[0;32m--> 253\u001b[0m     report \u001b[38;5;241m=\u001b[39m \u001b[43msubprocess\u001b[49m\u001b[38;5;241;43m.\u001b[39;49m\u001b[43mcheck_output\u001b[49m\u001b[43m(\u001b[49m\n\u001b[1;32m    254\u001b[0m \u001b[43m        \u001b[49m\u001b[43mcommand\u001b[49m\u001b[43m,\u001b[49m\u001b[43m \u001b[49m\u001b[43mcwd\u001b[49m\u001b[38;5;241;43m=\u001b[39;49m\u001b[43mcwd\u001b[49m\u001b[43m \u001b[49m\u001b[38;5;28;43;01mif\u001b[39;49;00m\u001b[43m \u001b[49m\u001b[43mcwd\u001b[49m\u001b[43m \u001b[49m\u001b[38;5;129;43;01mis\u001b[39;49;00m\u001b[43m \u001b[49m\u001b[38;5;129;43;01mnot\u001b[39;49;00m\u001b[43m \u001b[49m\u001b[38;5;28;43;01mNone\u001b[39;49;00m\u001b[43m \u001b[49m\u001b[38;5;28;43;01melse\u001b[39;49;00m\u001b[43m \u001b[49m\u001b[38;5;28;43mcls\u001b[39;49m\u001b[38;5;241;43m.\u001b[39;49m\u001b[43mtexcache\u001b[49m\u001b[43m,\u001b[49m\n\u001b[1;32m    255\u001b[0m \u001b[43m        \u001b[49m\u001b[43mstderr\u001b[49m\u001b[38;5;241;43m=\u001b[39;49m\u001b[43msubprocess\u001b[49m\u001b[38;5;241;43m.\u001b[39;49m\u001b[43mSTDOUT\u001b[49m\u001b[43m)\u001b[49m\n\u001b[1;32m    256\u001b[0m \u001b[38;5;28;01mexcept\u001b[39;00m \u001b[38;5;167;01mFileNotFoundError\u001b[39;00m \u001b[38;5;28;01mas\u001b[39;00m exc:\n",
      "File \u001b[0;32m/clusterfs/ml4hep/shahzar/miniconda/envs/multifold/lib/python3.10/subprocess.py:420\u001b[0m, in \u001b[0;36mcheck_output\u001b[0;34m(timeout, *popenargs, **kwargs)\u001b[0m\n\u001b[1;32m    418\u001b[0m     kwargs[\u001b[38;5;124m'\u001b[39m\u001b[38;5;124minput\u001b[39m\u001b[38;5;124m'\u001b[39m] \u001b[38;5;241m=\u001b[39m empty\n\u001b[0;32m--> 420\u001b[0m \u001b[38;5;28;01mreturn\u001b[39;00m \u001b[43mrun\u001b[49m\u001b[43m(\u001b[49m\u001b[38;5;241;43m*\u001b[39;49m\u001b[43mpopenargs\u001b[49m\u001b[43m,\u001b[49m\u001b[43m \u001b[49m\u001b[43mstdout\u001b[49m\u001b[38;5;241;43m=\u001b[39;49m\u001b[43mPIPE\u001b[49m\u001b[43m,\u001b[49m\u001b[43m \u001b[49m\u001b[43mtimeout\u001b[49m\u001b[38;5;241;43m=\u001b[39;49m\u001b[43mtimeout\u001b[49m\u001b[43m,\u001b[49m\u001b[43m \u001b[49m\u001b[43mcheck\u001b[49m\u001b[38;5;241;43m=\u001b[39;49m\u001b[38;5;28;43;01mTrue\u001b[39;49;00m\u001b[43m,\u001b[49m\n\u001b[1;32m    421\u001b[0m \u001b[43m           \u001b[49m\u001b[38;5;241;43m*\u001b[39;49m\u001b[38;5;241;43m*\u001b[39;49m\u001b[43mkwargs\u001b[49m\u001b[43m)\u001b[49m\u001b[38;5;241m.\u001b[39mstdout\n",
      "File \u001b[0;32m/clusterfs/ml4hep/shahzar/miniconda/envs/multifold/lib/python3.10/subprocess.py:501\u001b[0m, in \u001b[0;36mrun\u001b[0;34m(input, capture_output, timeout, check, *popenargs, **kwargs)\u001b[0m\n\u001b[1;32m    499\u001b[0m     kwargs[\u001b[38;5;124m'\u001b[39m\u001b[38;5;124mstderr\u001b[39m\u001b[38;5;124m'\u001b[39m] \u001b[38;5;241m=\u001b[39m PIPE\n\u001b[0;32m--> 501\u001b[0m \u001b[38;5;28;01mwith\u001b[39;00m \u001b[43mPopen\u001b[49m\u001b[43m(\u001b[49m\u001b[38;5;241;43m*\u001b[39;49m\u001b[43mpopenargs\u001b[49m\u001b[43m,\u001b[49m\u001b[43m \u001b[49m\u001b[38;5;241;43m*\u001b[39;49m\u001b[38;5;241;43m*\u001b[39;49m\u001b[43mkwargs\u001b[49m\u001b[43m)\u001b[49m \u001b[38;5;28;01mas\u001b[39;00m process:\n\u001b[1;32m    502\u001b[0m     \u001b[38;5;28;01mtry\u001b[39;00m:\n",
      "File \u001b[0;32m/clusterfs/ml4hep/shahzar/miniconda/envs/multifold/lib/python3.10/subprocess.py:969\u001b[0m, in \u001b[0;36mPopen.__init__\u001b[0;34m(self, args, bufsize, executable, stdin, stdout, stderr, preexec_fn, close_fds, shell, cwd, env, universal_newlines, startupinfo, creationflags, restore_signals, start_new_session, pass_fds, user, group, extra_groups, encoding, errors, text, umask, pipesize)\u001b[0m\n\u001b[1;32m    966\u001b[0m             \u001b[38;5;28mself\u001b[39m\u001b[38;5;241m.\u001b[39mstderr \u001b[38;5;241m=\u001b[39m io\u001b[38;5;241m.\u001b[39mTextIOWrapper(\u001b[38;5;28mself\u001b[39m\u001b[38;5;241m.\u001b[39mstderr,\n\u001b[1;32m    967\u001b[0m                     encoding\u001b[38;5;241m=\u001b[39mencoding, errors\u001b[38;5;241m=\u001b[39merrors)\n\u001b[0;32m--> 969\u001b[0m     \u001b[38;5;28;43mself\u001b[39;49m\u001b[38;5;241;43m.\u001b[39;49m\u001b[43m_execute_child\u001b[49m\u001b[43m(\u001b[49m\u001b[43margs\u001b[49m\u001b[43m,\u001b[49m\u001b[43m \u001b[49m\u001b[43mexecutable\u001b[49m\u001b[43m,\u001b[49m\u001b[43m \u001b[49m\u001b[43mpreexec_fn\u001b[49m\u001b[43m,\u001b[49m\u001b[43m \u001b[49m\u001b[43mclose_fds\u001b[49m\u001b[43m,\u001b[49m\n\u001b[1;32m    970\u001b[0m \u001b[43m                        \u001b[49m\u001b[43mpass_fds\u001b[49m\u001b[43m,\u001b[49m\u001b[43m \u001b[49m\u001b[43mcwd\u001b[49m\u001b[43m,\u001b[49m\u001b[43m \u001b[49m\u001b[43menv\u001b[49m\u001b[43m,\u001b[49m\n\u001b[1;32m    971\u001b[0m \u001b[43m                        \u001b[49m\u001b[43mstartupinfo\u001b[49m\u001b[43m,\u001b[49m\u001b[43m \u001b[49m\u001b[43mcreationflags\u001b[49m\u001b[43m,\u001b[49m\u001b[43m \u001b[49m\u001b[43mshell\u001b[49m\u001b[43m,\u001b[49m\n\u001b[1;32m    972\u001b[0m \u001b[43m                        \u001b[49m\u001b[43mp2cread\u001b[49m\u001b[43m,\u001b[49m\u001b[43m \u001b[49m\u001b[43mp2cwrite\u001b[49m\u001b[43m,\u001b[49m\n\u001b[1;32m    973\u001b[0m \u001b[43m                        \u001b[49m\u001b[43mc2pread\u001b[49m\u001b[43m,\u001b[49m\u001b[43m \u001b[49m\u001b[43mc2pwrite\u001b[49m\u001b[43m,\u001b[49m\n\u001b[1;32m    974\u001b[0m \u001b[43m                        \u001b[49m\u001b[43merrread\u001b[49m\u001b[43m,\u001b[49m\u001b[43m \u001b[49m\u001b[43merrwrite\u001b[49m\u001b[43m,\u001b[49m\n\u001b[1;32m    975\u001b[0m \u001b[43m                        \u001b[49m\u001b[43mrestore_signals\u001b[49m\u001b[43m,\u001b[49m\n\u001b[1;32m    976\u001b[0m \u001b[43m                        \u001b[49m\u001b[43mgid\u001b[49m\u001b[43m,\u001b[49m\u001b[43m \u001b[49m\u001b[43mgids\u001b[49m\u001b[43m,\u001b[49m\u001b[43m \u001b[49m\u001b[43muid\u001b[49m\u001b[43m,\u001b[49m\u001b[43m \u001b[49m\u001b[43mumask\u001b[49m\u001b[43m,\u001b[49m\n\u001b[1;32m    977\u001b[0m \u001b[43m                        \u001b[49m\u001b[43mstart_new_session\u001b[49m\u001b[43m)\u001b[49m\n\u001b[1;32m    978\u001b[0m \u001b[38;5;28;01mexcept\u001b[39;00m:\n\u001b[1;32m    979\u001b[0m     \u001b[38;5;66;03m# Cleanup if the child failed starting.\u001b[39;00m\n",
      "File \u001b[0;32m/clusterfs/ml4hep/shahzar/miniconda/envs/multifold/lib/python3.10/subprocess.py:1845\u001b[0m, in \u001b[0;36mPopen._execute_child\u001b[0;34m(self, args, executable, preexec_fn, close_fds, pass_fds, cwd, env, startupinfo, creationflags, shell, p2cread, p2cwrite, c2pread, c2pwrite, errread, errwrite, restore_signals, gid, gids, uid, umask, start_new_session)\u001b[0m\n\u001b[1;32m   1844\u001b[0m         err_msg \u001b[38;5;241m=\u001b[39m os\u001b[38;5;241m.\u001b[39mstrerror(errno_num)\n\u001b[0;32m-> 1845\u001b[0m     \u001b[38;5;28;01mraise\u001b[39;00m child_exception_type(errno_num, err_msg, err_filename)\n\u001b[1;32m   1846\u001b[0m \u001b[38;5;28;01mraise\u001b[39;00m child_exception_type(err_msg)\n",
      "\u001b[0;31mFileNotFoundError\u001b[0m: [Errno 2] No such file or directory: 'latex'",
      "\nThe above exception was the direct cause of the following exception:\n",
      "\u001b[0;31mRuntimeError\u001b[0m                              Traceback (most recent call last)",
      "File \u001b[0;32m/clusterfs/ml4hep/shahzar/miniconda/envs/multifold/lib/python3.10/site-packages/IPython/core/formatters.py:339\u001b[0m, in \u001b[0;36mBaseFormatter.__call__\u001b[0;34m(self, obj)\u001b[0m\n\u001b[1;32m    337\u001b[0m     \u001b[38;5;28;01mpass\u001b[39;00m\n\u001b[1;32m    338\u001b[0m \u001b[38;5;28;01melse\u001b[39;00m:\n\u001b[0;32m--> 339\u001b[0m     \u001b[38;5;28;01mreturn\u001b[39;00m \u001b[43mprinter\u001b[49m\u001b[43m(\u001b[49m\u001b[43mobj\u001b[49m\u001b[43m)\u001b[49m\n\u001b[1;32m    340\u001b[0m \u001b[38;5;66;03m# Finally look for special method names\u001b[39;00m\n\u001b[1;32m    341\u001b[0m method \u001b[38;5;241m=\u001b[39m get_real_method(obj, \u001b[38;5;28mself\u001b[39m\u001b[38;5;241m.\u001b[39mprint_method)\n",
      "File \u001b[0;32m/clusterfs/ml4hep/shahzar/miniconda/envs/multifold/lib/python3.10/site-packages/IPython/core/pylabtools.py:151\u001b[0m, in \u001b[0;36mprint_figure\u001b[0;34m(fig, fmt, bbox_inches, base64, **kwargs)\u001b[0m\n\u001b[1;32m    148\u001b[0m     \u001b[38;5;28;01mfrom\u001b[39;00m \u001b[38;5;21;01mmatplotlib\u001b[39;00m\u001b[38;5;21;01m.\u001b[39;00m\u001b[38;5;21;01mbackend_bases\u001b[39;00m \u001b[38;5;28;01mimport\u001b[39;00m FigureCanvasBase\n\u001b[1;32m    149\u001b[0m     FigureCanvasBase(fig)\n\u001b[0;32m--> 151\u001b[0m \u001b[43mfig\u001b[49m\u001b[38;5;241;43m.\u001b[39;49m\u001b[43mcanvas\u001b[49m\u001b[38;5;241;43m.\u001b[39;49m\u001b[43mprint_figure\u001b[49m\u001b[43m(\u001b[49m\u001b[43mbytes_io\u001b[49m\u001b[43m,\u001b[49m\u001b[43m \u001b[49m\u001b[38;5;241;43m*\u001b[39;49m\u001b[38;5;241;43m*\u001b[39;49m\u001b[43mkw\u001b[49m\u001b[43m)\u001b[49m\n\u001b[1;32m    152\u001b[0m data \u001b[38;5;241m=\u001b[39m bytes_io\u001b[38;5;241m.\u001b[39mgetvalue()\n\u001b[1;32m    153\u001b[0m \u001b[38;5;28;01mif\u001b[39;00m fmt \u001b[38;5;241m==\u001b[39m \u001b[38;5;124m'\u001b[39m\u001b[38;5;124msvg\u001b[39m\u001b[38;5;124m'\u001b[39m:\n",
      "File \u001b[0;32m/clusterfs/ml4hep/shahzar/miniconda/envs/multifold/lib/python3.10/site-packages/matplotlib/backend_bases.py:2314\u001b[0m, in \u001b[0;36mFigureCanvasBase.print_figure\u001b[0;34m(self, filename, dpi, facecolor, edgecolor, orientation, format, bbox_inches, pad_inches, bbox_extra_artists, backend, **kwargs)\u001b[0m\n\u001b[1;32m   2308\u001b[0m     renderer \u001b[38;5;241m=\u001b[39m _get_renderer(\n\u001b[1;32m   2309\u001b[0m         \u001b[38;5;28mself\u001b[39m\u001b[38;5;241m.\u001b[39mfigure,\n\u001b[1;32m   2310\u001b[0m         functools\u001b[38;5;241m.\u001b[39mpartial(\n\u001b[1;32m   2311\u001b[0m             print_method, orientation\u001b[38;5;241m=\u001b[39morientation)\n\u001b[1;32m   2312\u001b[0m     )\n\u001b[1;32m   2313\u001b[0m     \u001b[38;5;28;01mwith\u001b[39;00m \u001b[38;5;28mgetattr\u001b[39m(renderer, \u001b[38;5;124m\"\u001b[39m\u001b[38;5;124m_draw_disabled\u001b[39m\u001b[38;5;124m\"\u001b[39m, nullcontext)():\n\u001b[0;32m-> 2314\u001b[0m         \u001b[38;5;28;43mself\u001b[39;49m\u001b[38;5;241;43m.\u001b[39;49m\u001b[43mfigure\u001b[49m\u001b[38;5;241;43m.\u001b[39;49m\u001b[43mdraw\u001b[49m\u001b[43m(\u001b[49m\u001b[43mrenderer\u001b[49m\u001b[43m)\u001b[49m\n\u001b[1;32m   2316\u001b[0m \u001b[38;5;28;01mif\u001b[39;00m bbox_inches:\n\u001b[1;32m   2317\u001b[0m     \u001b[38;5;28;01mif\u001b[39;00m bbox_inches \u001b[38;5;241m==\u001b[39m \u001b[38;5;124m\"\u001b[39m\u001b[38;5;124mtight\u001b[39m\u001b[38;5;124m\"\u001b[39m:\n",
      "File \u001b[0;32m/clusterfs/ml4hep/shahzar/miniconda/envs/multifold/lib/python3.10/site-packages/matplotlib/artist.py:74\u001b[0m, in \u001b[0;36m_finalize_rasterization.<locals>.draw_wrapper\u001b[0;34m(artist, renderer, *args, **kwargs)\u001b[0m\n\u001b[1;32m     72\u001b[0m \u001b[38;5;129m@wraps\u001b[39m(draw)\n\u001b[1;32m     73\u001b[0m \u001b[38;5;28;01mdef\u001b[39;00m \u001b[38;5;21mdraw_wrapper\u001b[39m(artist, renderer, \u001b[38;5;241m*\u001b[39margs, \u001b[38;5;241m*\u001b[39m\u001b[38;5;241m*\u001b[39mkwargs):\n\u001b[0;32m---> 74\u001b[0m     result \u001b[38;5;241m=\u001b[39m \u001b[43mdraw\u001b[49m\u001b[43m(\u001b[49m\u001b[43martist\u001b[49m\u001b[43m,\u001b[49m\u001b[43m \u001b[49m\u001b[43mrenderer\u001b[49m\u001b[43m,\u001b[49m\u001b[43m \u001b[49m\u001b[38;5;241;43m*\u001b[39;49m\u001b[43margs\u001b[49m\u001b[43m,\u001b[49m\u001b[43m \u001b[49m\u001b[38;5;241;43m*\u001b[39;49m\u001b[38;5;241;43m*\u001b[39;49m\u001b[43mkwargs\u001b[49m\u001b[43m)\u001b[49m\n\u001b[1;32m     75\u001b[0m     \u001b[38;5;28;01mif\u001b[39;00m renderer\u001b[38;5;241m.\u001b[39m_rasterizing:\n\u001b[1;32m     76\u001b[0m         renderer\u001b[38;5;241m.\u001b[39mstop_rasterizing()\n",
      "File \u001b[0;32m/clusterfs/ml4hep/shahzar/miniconda/envs/multifold/lib/python3.10/site-packages/matplotlib/artist.py:51\u001b[0m, in \u001b[0;36mallow_rasterization.<locals>.draw_wrapper\u001b[0;34m(artist, renderer)\u001b[0m\n\u001b[1;32m     48\u001b[0m     \u001b[38;5;28;01mif\u001b[39;00m artist\u001b[38;5;241m.\u001b[39mget_agg_filter() \u001b[38;5;129;01mis\u001b[39;00m \u001b[38;5;129;01mnot\u001b[39;00m \u001b[38;5;28;01mNone\u001b[39;00m:\n\u001b[1;32m     49\u001b[0m         renderer\u001b[38;5;241m.\u001b[39mstart_filter()\n\u001b[0;32m---> 51\u001b[0m     \u001b[38;5;28;01mreturn\u001b[39;00m \u001b[43mdraw\u001b[49m\u001b[43m(\u001b[49m\u001b[43martist\u001b[49m\u001b[43m,\u001b[49m\u001b[43m \u001b[49m\u001b[43mrenderer\u001b[49m\u001b[43m)\u001b[49m\n\u001b[1;32m     52\u001b[0m \u001b[38;5;28;01mfinally\u001b[39;00m:\n\u001b[1;32m     53\u001b[0m     \u001b[38;5;28;01mif\u001b[39;00m artist\u001b[38;5;241m.\u001b[39mget_agg_filter() \u001b[38;5;129;01mis\u001b[39;00m \u001b[38;5;129;01mnot\u001b[39;00m \u001b[38;5;28;01mNone\u001b[39;00m:\n",
      "File \u001b[0;32m/clusterfs/ml4hep/shahzar/miniconda/envs/multifold/lib/python3.10/site-packages/matplotlib/figure.py:3071\u001b[0m, in \u001b[0;36mFigure.draw\u001b[0;34m(self, renderer)\u001b[0m\n\u001b[1;32m   3068\u001b[0m         \u001b[38;5;66;03m# ValueError can occur when resizing a window.\u001b[39;00m\n\u001b[1;32m   3070\u001b[0m \u001b[38;5;28mself\u001b[39m\u001b[38;5;241m.\u001b[39mpatch\u001b[38;5;241m.\u001b[39mdraw(renderer)\n\u001b[0;32m-> 3071\u001b[0m \u001b[43mmimage\u001b[49m\u001b[38;5;241;43m.\u001b[39;49m\u001b[43m_draw_list_compositing_images\u001b[49m\u001b[43m(\u001b[49m\n\u001b[1;32m   3072\u001b[0m \u001b[43m    \u001b[49m\u001b[43mrenderer\u001b[49m\u001b[43m,\u001b[49m\u001b[43m \u001b[49m\u001b[38;5;28;43mself\u001b[39;49m\u001b[43m,\u001b[49m\u001b[43m \u001b[49m\u001b[43martists\u001b[49m\u001b[43m,\u001b[49m\u001b[43m \u001b[49m\u001b[38;5;28;43mself\u001b[39;49m\u001b[38;5;241;43m.\u001b[39;49m\u001b[43msuppressComposite\u001b[49m\u001b[43m)\u001b[49m\n\u001b[1;32m   3074\u001b[0m \u001b[38;5;28;01mfor\u001b[39;00m sfig \u001b[38;5;129;01min\u001b[39;00m \u001b[38;5;28mself\u001b[39m\u001b[38;5;241m.\u001b[39msubfigs:\n\u001b[1;32m   3075\u001b[0m     sfig\u001b[38;5;241m.\u001b[39mdraw(renderer)\n",
      "File \u001b[0;32m/clusterfs/ml4hep/shahzar/miniconda/envs/multifold/lib/python3.10/site-packages/matplotlib/image.py:131\u001b[0m, in \u001b[0;36m_draw_list_compositing_images\u001b[0;34m(renderer, parent, artists, suppress_composite)\u001b[0m\n\u001b[1;32m    129\u001b[0m \u001b[38;5;28;01mif\u001b[39;00m not_composite \u001b[38;5;129;01mor\u001b[39;00m \u001b[38;5;129;01mnot\u001b[39;00m has_images:\n\u001b[1;32m    130\u001b[0m     \u001b[38;5;28;01mfor\u001b[39;00m a \u001b[38;5;129;01min\u001b[39;00m artists:\n\u001b[0;32m--> 131\u001b[0m         \u001b[43ma\u001b[49m\u001b[38;5;241;43m.\u001b[39;49m\u001b[43mdraw\u001b[49m\u001b[43m(\u001b[49m\u001b[43mrenderer\u001b[49m\u001b[43m)\u001b[49m\n\u001b[1;32m    132\u001b[0m \u001b[38;5;28;01melse\u001b[39;00m:\n\u001b[1;32m    133\u001b[0m     \u001b[38;5;66;03m# Composite any adjacent images together\u001b[39;00m\n\u001b[1;32m    134\u001b[0m     image_group \u001b[38;5;241m=\u001b[39m []\n",
      "File \u001b[0;32m/clusterfs/ml4hep/shahzar/miniconda/envs/multifold/lib/python3.10/site-packages/matplotlib/artist.py:51\u001b[0m, in \u001b[0;36mallow_rasterization.<locals>.draw_wrapper\u001b[0;34m(artist, renderer)\u001b[0m\n\u001b[1;32m     48\u001b[0m     \u001b[38;5;28;01mif\u001b[39;00m artist\u001b[38;5;241m.\u001b[39mget_agg_filter() \u001b[38;5;129;01mis\u001b[39;00m \u001b[38;5;129;01mnot\u001b[39;00m \u001b[38;5;28;01mNone\u001b[39;00m:\n\u001b[1;32m     49\u001b[0m         renderer\u001b[38;5;241m.\u001b[39mstart_filter()\n\u001b[0;32m---> 51\u001b[0m     \u001b[38;5;28;01mreturn\u001b[39;00m \u001b[43mdraw\u001b[49m\u001b[43m(\u001b[49m\u001b[43martist\u001b[49m\u001b[43m,\u001b[49m\u001b[43m \u001b[49m\u001b[43mrenderer\u001b[49m\u001b[43m)\u001b[49m\n\u001b[1;32m     52\u001b[0m \u001b[38;5;28;01mfinally\u001b[39;00m:\n\u001b[1;32m     53\u001b[0m     \u001b[38;5;28;01mif\u001b[39;00m artist\u001b[38;5;241m.\u001b[39mget_agg_filter() \u001b[38;5;129;01mis\u001b[39;00m \u001b[38;5;129;01mnot\u001b[39;00m \u001b[38;5;28;01mNone\u001b[39;00m:\n",
      "File \u001b[0;32m/clusterfs/ml4hep/shahzar/miniconda/envs/multifold/lib/python3.10/site-packages/matplotlib/axes/_base.py:3107\u001b[0m, in \u001b[0;36m_AxesBase.draw\u001b[0;34m(self, renderer)\u001b[0m\n\u001b[1;32m   3104\u001b[0m         a\u001b[38;5;241m.\u001b[39mdraw(renderer)\n\u001b[1;32m   3105\u001b[0m     renderer\u001b[38;5;241m.\u001b[39mstop_rasterizing()\n\u001b[0;32m-> 3107\u001b[0m \u001b[43mmimage\u001b[49m\u001b[38;5;241;43m.\u001b[39;49m\u001b[43m_draw_list_compositing_images\u001b[49m\u001b[43m(\u001b[49m\n\u001b[1;32m   3108\u001b[0m \u001b[43m    \u001b[49m\u001b[43mrenderer\u001b[49m\u001b[43m,\u001b[49m\u001b[43m \u001b[49m\u001b[38;5;28;43mself\u001b[39;49m\u001b[43m,\u001b[49m\u001b[43m \u001b[49m\u001b[43martists\u001b[49m\u001b[43m,\u001b[49m\u001b[43m \u001b[49m\u001b[38;5;28;43mself\u001b[39;49m\u001b[38;5;241;43m.\u001b[39;49m\u001b[43mfigure\u001b[49m\u001b[38;5;241;43m.\u001b[39;49m\u001b[43msuppressComposite\u001b[49m\u001b[43m)\u001b[49m\n\u001b[1;32m   3110\u001b[0m renderer\u001b[38;5;241m.\u001b[39mclose_group(\u001b[38;5;124m'\u001b[39m\u001b[38;5;124maxes\u001b[39m\u001b[38;5;124m'\u001b[39m)\n\u001b[1;32m   3111\u001b[0m \u001b[38;5;28mself\u001b[39m\u001b[38;5;241m.\u001b[39mstale \u001b[38;5;241m=\u001b[39m \u001b[38;5;28;01mFalse\u001b[39;00m\n",
      "File \u001b[0;32m/clusterfs/ml4hep/shahzar/miniconda/envs/multifold/lib/python3.10/site-packages/matplotlib/image.py:131\u001b[0m, in \u001b[0;36m_draw_list_compositing_images\u001b[0;34m(renderer, parent, artists, suppress_composite)\u001b[0m\n\u001b[1;32m    129\u001b[0m \u001b[38;5;28;01mif\u001b[39;00m not_composite \u001b[38;5;129;01mor\u001b[39;00m \u001b[38;5;129;01mnot\u001b[39;00m has_images:\n\u001b[1;32m    130\u001b[0m     \u001b[38;5;28;01mfor\u001b[39;00m a \u001b[38;5;129;01min\u001b[39;00m artists:\n\u001b[0;32m--> 131\u001b[0m         \u001b[43ma\u001b[49m\u001b[38;5;241;43m.\u001b[39;49m\u001b[43mdraw\u001b[49m\u001b[43m(\u001b[49m\u001b[43mrenderer\u001b[49m\u001b[43m)\u001b[49m\n\u001b[1;32m    132\u001b[0m \u001b[38;5;28;01melse\u001b[39;00m:\n\u001b[1;32m    133\u001b[0m     \u001b[38;5;66;03m# Composite any adjacent images together\u001b[39;00m\n\u001b[1;32m    134\u001b[0m     image_group \u001b[38;5;241m=\u001b[39m []\n",
      "File \u001b[0;32m/clusterfs/ml4hep/shahzar/miniconda/envs/multifold/lib/python3.10/site-packages/matplotlib/artist.py:51\u001b[0m, in \u001b[0;36mallow_rasterization.<locals>.draw_wrapper\u001b[0;34m(artist, renderer)\u001b[0m\n\u001b[1;32m     48\u001b[0m     \u001b[38;5;28;01mif\u001b[39;00m artist\u001b[38;5;241m.\u001b[39mget_agg_filter() \u001b[38;5;129;01mis\u001b[39;00m \u001b[38;5;129;01mnot\u001b[39;00m \u001b[38;5;28;01mNone\u001b[39;00m:\n\u001b[1;32m     49\u001b[0m         renderer\u001b[38;5;241m.\u001b[39mstart_filter()\n\u001b[0;32m---> 51\u001b[0m     \u001b[38;5;28;01mreturn\u001b[39;00m \u001b[43mdraw\u001b[49m\u001b[43m(\u001b[49m\u001b[43martist\u001b[49m\u001b[43m,\u001b[49m\u001b[43m \u001b[49m\u001b[43mrenderer\u001b[49m\u001b[43m)\u001b[49m\n\u001b[1;32m     52\u001b[0m \u001b[38;5;28;01mfinally\u001b[39;00m:\n\u001b[1;32m     53\u001b[0m     \u001b[38;5;28;01mif\u001b[39;00m artist\u001b[38;5;241m.\u001b[39mget_agg_filter() \u001b[38;5;129;01mis\u001b[39;00m \u001b[38;5;129;01mnot\u001b[39;00m \u001b[38;5;28;01mNone\u001b[39;00m:\n",
      "File \u001b[0;32m/clusterfs/ml4hep/shahzar/miniconda/envs/multifold/lib/python3.10/site-packages/matplotlib/axis.py:1305\u001b[0m, in \u001b[0;36mAxis.draw\u001b[0;34m(self, renderer, *args, **kwargs)\u001b[0m\n\u001b[1;32m   1302\u001b[0m renderer\u001b[38;5;241m.\u001b[39mopen_group(\u001b[38;5;18m__name__\u001b[39m, gid\u001b[38;5;241m=\u001b[39m\u001b[38;5;28mself\u001b[39m\u001b[38;5;241m.\u001b[39mget_gid())\n\u001b[1;32m   1304\u001b[0m ticks_to_draw \u001b[38;5;241m=\u001b[39m \u001b[38;5;28mself\u001b[39m\u001b[38;5;241m.\u001b[39m_update_ticks()\n\u001b[0;32m-> 1305\u001b[0m tlb1, tlb2 \u001b[38;5;241m=\u001b[39m \u001b[38;5;28;43mself\u001b[39;49m\u001b[38;5;241;43m.\u001b[39;49m\u001b[43m_get_ticklabel_bboxes\u001b[49m\u001b[43m(\u001b[49m\u001b[43mticks_to_draw\u001b[49m\u001b[43m,\u001b[49m\u001b[43m \u001b[49m\u001b[43mrenderer\u001b[49m\u001b[43m)\u001b[49m\n\u001b[1;32m   1307\u001b[0m \u001b[38;5;28;01mfor\u001b[39;00m tick \u001b[38;5;129;01min\u001b[39;00m ticks_to_draw:\n\u001b[1;32m   1308\u001b[0m     tick\u001b[38;5;241m.\u001b[39mdraw(renderer)\n",
      "File \u001b[0;32m/clusterfs/ml4hep/shahzar/miniconda/envs/multifold/lib/python3.10/site-packages/matplotlib/axis.py:1232\u001b[0m, in \u001b[0;36mAxis._get_ticklabel_bboxes\u001b[0;34m(self, ticks, renderer)\u001b[0m\n\u001b[1;32m   1230\u001b[0m \u001b[38;5;28;01mif\u001b[39;00m renderer \u001b[38;5;129;01mis\u001b[39;00m \u001b[38;5;28;01mNone\u001b[39;00m:\n\u001b[1;32m   1231\u001b[0m     renderer \u001b[38;5;241m=\u001b[39m \u001b[38;5;28mself\u001b[39m\u001b[38;5;241m.\u001b[39mfigure\u001b[38;5;241m.\u001b[39m_get_renderer()\n\u001b[0;32m-> 1232\u001b[0m \u001b[38;5;28;01mreturn\u001b[39;00m ([tick\u001b[38;5;241m.\u001b[39mlabel1\u001b[38;5;241m.\u001b[39mget_window_extent(renderer)\n\u001b[1;32m   1233\u001b[0m          \u001b[38;5;28;01mfor\u001b[39;00m tick \u001b[38;5;129;01min\u001b[39;00m ticks \u001b[38;5;28;01mif\u001b[39;00m tick\u001b[38;5;241m.\u001b[39mlabel1\u001b[38;5;241m.\u001b[39mget_visible()],\n\u001b[1;32m   1234\u001b[0m         [tick\u001b[38;5;241m.\u001b[39mlabel2\u001b[38;5;241m.\u001b[39mget_window_extent(renderer)\n\u001b[1;32m   1235\u001b[0m          \u001b[38;5;28;01mfor\u001b[39;00m tick \u001b[38;5;129;01min\u001b[39;00m ticks \u001b[38;5;28;01mif\u001b[39;00m tick\u001b[38;5;241m.\u001b[39mlabel2\u001b[38;5;241m.\u001b[39mget_visible()])\n",
      "File \u001b[0;32m/clusterfs/ml4hep/shahzar/miniconda/envs/multifold/lib/python3.10/site-packages/matplotlib/axis.py:1232\u001b[0m, in \u001b[0;36m<listcomp>\u001b[0;34m(.0)\u001b[0m\n\u001b[1;32m   1230\u001b[0m \u001b[38;5;28;01mif\u001b[39;00m renderer \u001b[38;5;129;01mis\u001b[39;00m \u001b[38;5;28;01mNone\u001b[39;00m:\n\u001b[1;32m   1231\u001b[0m     renderer \u001b[38;5;241m=\u001b[39m \u001b[38;5;28mself\u001b[39m\u001b[38;5;241m.\u001b[39mfigure\u001b[38;5;241m.\u001b[39m_get_renderer()\n\u001b[0;32m-> 1232\u001b[0m \u001b[38;5;28;01mreturn\u001b[39;00m ([\u001b[43mtick\u001b[49m\u001b[38;5;241;43m.\u001b[39;49m\u001b[43mlabel1\u001b[49m\u001b[38;5;241;43m.\u001b[39;49m\u001b[43mget_window_extent\u001b[49m\u001b[43m(\u001b[49m\u001b[43mrenderer\u001b[49m\u001b[43m)\u001b[49m\n\u001b[1;32m   1233\u001b[0m          \u001b[38;5;28;01mfor\u001b[39;00m tick \u001b[38;5;129;01min\u001b[39;00m ticks \u001b[38;5;28;01mif\u001b[39;00m tick\u001b[38;5;241m.\u001b[39mlabel1\u001b[38;5;241m.\u001b[39mget_visible()],\n\u001b[1;32m   1234\u001b[0m         [tick\u001b[38;5;241m.\u001b[39mlabel2\u001b[38;5;241m.\u001b[39mget_window_extent(renderer)\n\u001b[1;32m   1235\u001b[0m          \u001b[38;5;28;01mfor\u001b[39;00m tick \u001b[38;5;129;01min\u001b[39;00m ticks \u001b[38;5;28;01mif\u001b[39;00m tick\u001b[38;5;241m.\u001b[39mlabel2\u001b[38;5;241m.\u001b[39mget_visible()])\n",
      "File \u001b[0;32m/clusterfs/ml4hep/shahzar/miniconda/envs/multifold/lib/python3.10/site-packages/matplotlib/text.py:915\u001b[0m, in \u001b[0;36mText.get_window_extent\u001b[0;34m(self, renderer, dpi)\u001b[0m\n\u001b[1;32m    910\u001b[0m     \u001b[38;5;28;01mraise\u001b[39;00m \u001b[38;5;167;01mRuntimeError\u001b[39;00m(\n\u001b[1;32m    911\u001b[0m         \u001b[38;5;124m\"\u001b[39m\u001b[38;5;124mCannot get window extent of text w/o renderer. You likely \u001b[39m\u001b[38;5;124m\"\u001b[39m\n\u001b[1;32m    912\u001b[0m         \u001b[38;5;124m\"\u001b[39m\u001b[38;5;124mwant to call \u001b[39m\u001b[38;5;124m'\u001b[39m\u001b[38;5;124mfigure.draw_without_rendering()\u001b[39m\u001b[38;5;124m'\u001b[39m\u001b[38;5;124m first.\u001b[39m\u001b[38;5;124m\"\u001b[39m)\n\u001b[1;32m    914\u001b[0m \u001b[38;5;28;01mwith\u001b[39;00m cbook\u001b[38;5;241m.\u001b[39m_setattr_cm(\u001b[38;5;28mself\u001b[39m\u001b[38;5;241m.\u001b[39mfigure, dpi\u001b[38;5;241m=\u001b[39mdpi):\n\u001b[0;32m--> 915\u001b[0m     bbox, info, descent \u001b[38;5;241m=\u001b[39m \u001b[38;5;28;43mself\u001b[39;49m\u001b[38;5;241;43m.\u001b[39;49m\u001b[43m_get_layout\u001b[49m\u001b[43m(\u001b[49m\u001b[38;5;28;43mself\u001b[39;49m\u001b[38;5;241;43m.\u001b[39;49m\u001b[43m_renderer\u001b[49m\u001b[43m)\u001b[49m\n\u001b[1;32m    916\u001b[0m     x, y \u001b[38;5;241m=\u001b[39m \u001b[38;5;28mself\u001b[39m\u001b[38;5;241m.\u001b[39mget_unitless_position()\n\u001b[1;32m    917\u001b[0m     x, y \u001b[38;5;241m=\u001b[39m \u001b[38;5;28mself\u001b[39m\u001b[38;5;241m.\u001b[39mget_transform()\u001b[38;5;241m.\u001b[39mtransform((x, y))\n",
      "File \u001b[0;32m/clusterfs/ml4hep/shahzar/miniconda/envs/multifold/lib/python3.10/site-packages/matplotlib/text.py:313\u001b[0m, in \u001b[0;36mText._get_layout\u001b[0;34m(self, renderer)\u001b[0m\n\u001b[1;32m    310\u001b[0m ys \u001b[38;5;241m=\u001b[39m []\n\u001b[1;32m    312\u001b[0m \u001b[38;5;66;03m# Full vertical extent of font, including ascenders and descenders:\u001b[39;00m\n\u001b[0;32m--> 313\u001b[0m _, lp_h, lp_d \u001b[38;5;241m=\u001b[39m \u001b[43m_get_text_metrics_with_cache\u001b[49m\u001b[43m(\u001b[49m\n\u001b[1;32m    314\u001b[0m \u001b[43m    \u001b[49m\u001b[43mrenderer\u001b[49m\u001b[43m,\u001b[49m\u001b[43m \u001b[49m\u001b[38;5;124;43m\"\u001b[39;49m\u001b[38;5;124;43mlp\u001b[39;49m\u001b[38;5;124;43m\"\u001b[39;49m\u001b[43m,\u001b[49m\u001b[43m \u001b[49m\u001b[38;5;28;43mself\u001b[39;49m\u001b[38;5;241;43m.\u001b[39;49m\u001b[43m_fontproperties\u001b[49m\u001b[43m,\u001b[49m\n\u001b[1;32m    315\u001b[0m \u001b[43m    \u001b[49m\u001b[43mismath\u001b[49m\u001b[38;5;241;43m=\u001b[39;49m\u001b[38;5;124;43m\"\u001b[39;49m\u001b[38;5;124;43mTeX\u001b[39;49m\u001b[38;5;124;43m\"\u001b[39;49m\u001b[43m \u001b[49m\u001b[38;5;28;43;01mif\u001b[39;49;00m\u001b[43m \u001b[49m\u001b[38;5;28;43mself\u001b[39;49m\u001b[38;5;241;43m.\u001b[39;49m\u001b[43mget_usetex\u001b[49m\u001b[43m(\u001b[49m\u001b[43m)\u001b[49m\u001b[43m \u001b[49m\u001b[38;5;28;43;01melse\u001b[39;49;00m\u001b[43m \u001b[49m\u001b[38;5;28;43;01mFalse\u001b[39;49;00m\u001b[43m,\u001b[49m\u001b[43m \u001b[49m\u001b[43mdpi\u001b[49m\u001b[38;5;241;43m=\u001b[39;49m\u001b[38;5;28;43mself\u001b[39;49m\u001b[38;5;241;43m.\u001b[39;49m\u001b[43mfigure\u001b[49m\u001b[38;5;241;43m.\u001b[39;49m\u001b[43mdpi\u001b[49m\u001b[43m)\u001b[49m\n\u001b[1;32m    316\u001b[0m min_dy \u001b[38;5;241m=\u001b[39m (lp_h \u001b[38;5;241m-\u001b[39m lp_d) \u001b[38;5;241m*\u001b[39m \u001b[38;5;28mself\u001b[39m\u001b[38;5;241m.\u001b[39m_linespacing\n\u001b[1;32m    318\u001b[0m \u001b[38;5;28;01mfor\u001b[39;00m i, line \u001b[38;5;129;01min\u001b[39;00m \u001b[38;5;28menumerate\u001b[39m(lines):\n",
      "File \u001b[0;32m/clusterfs/ml4hep/shahzar/miniconda/envs/multifold/lib/python3.10/site-packages/matplotlib/text.py:97\u001b[0m, in \u001b[0;36m_get_text_metrics_with_cache\u001b[0;34m(renderer, text, fontprop, ismath, dpi)\u001b[0m\n\u001b[1;32m     94\u001b[0m \u001b[38;5;124;03m\"\"\"Call ``renderer.get_text_width_height_descent``, caching the results.\"\"\"\u001b[39;00m\n\u001b[1;32m     95\u001b[0m \u001b[38;5;66;03m# Cached based on a copy of fontprop so that later in-place mutations of\u001b[39;00m\n\u001b[1;32m     96\u001b[0m \u001b[38;5;66;03m# the passed-in argument do not mess up the cache.\u001b[39;00m\n\u001b[0;32m---> 97\u001b[0m \u001b[38;5;28;01mreturn\u001b[39;00m \u001b[43m_get_text_metrics_with_cache_impl\u001b[49m\u001b[43m(\u001b[49m\n\u001b[1;32m     98\u001b[0m \u001b[43m    \u001b[49m\u001b[43mweakref\u001b[49m\u001b[38;5;241;43m.\u001b[39;49m\u001b[43mref\u001b[49m\u001b[43m(\u001b[49m\u001b[43mrenderer\u001b[49m\u001b[43m)\u001b[49m\u001b[43m,\u001b[49m\u001b[43m \u001b[49m\u001b[43mtext\u001b[49m\u001b[43m,\u001b[49m\u001b[43m \u001b[49m\u001b[43mfontprop\u001b[49m\u001b[38;5;241;43m.\u001b[39;49m\u001b[43mcopy\u001b[49m\u001b[43m(\u001b[49m\u001b[43m)\u001b[49m\u001b[43m,\u001b[49m\u001b[43m \u001b[49m\u001b[43mismath\u001b[49m\u001b[43m,\u001b[49m\u001b[43m \u001b[49m\u001b[43mdpi\u001b[49m\u001b[43m)\u001b[49m\n",
      "File \u001b[0;32m/clusterfs/ml4hep/shahzar/miniconda/envs/multifold/lib/python3.10/site-packages/matplotlib/text.py:105\u001b[0m, in \u001b[0;36m_get_text_metrics_with_cache_impl\u001b[0;34m(renderer_ref, text, fontprop, ismath, dpi)\u001b[0m\n\u001b[1;32m    101\u001b[0m \u001b[38;5;129m@functools\u001b[39m\u001b[38;5;241m.\u001b[39mlru_cache(\u001b[38;5;241m4096\u001b[39m)\n\u001b[1;32m    102\u001b[0m \u001b[38;5;28;01mdef\u001b[39;00m \u001b[38;5;21m_get_text_metrics_with_cache_impl\u001b[39m(\n\u001b[1;32m    103\u001b[0m         renderer_ref, text, fontprop, ismath, dpi):\n\u001b[1;32m    104\u001b[0m     \u001b[38;5;66;03m# dpi is unused, but participates in cache invalidation (via the renderer).\u001b[39;00m\n\u001b[0;32m--> 105\u001b[0m     \u001b[38;5;28;01mreturn\u001b[39;00m \u001b[43mrenderer_ref\u001b[49m\u001b[43m(\u001b[49m\u001b[43m)\u001b[49m\u001b[38;5;241;43m.\u001b[39;49m\u001b[43mget_text_width_height_descent\u001b[49m\u001b[43m(\u001b[49m\u001b[43mtext\u001b[49m\u001b[43m,\u001b[49m\u001b[43m \u001b[49m\u001b[43mfontprop\u001b[49m\u001b[43m,\u001b[49m\u001b[43m \u001b[49m\u001b[43mismath\u001b[49m\u001b[43m)\u001b[49m\n",
      "File \u001b[0;32m/clusterfs/ml4hep/shahzar/miniconda/envs/multifold/lib/python3.10/site-packages/matplotlib/backends/backend_agg.py:229\u001b[0m, in \u001b[0;36mRendererAgg.get_text_width_height_descent\u001b[0;34m(self, s, prop, ismath)\u001b[0m\n\u001b[1;32m    227\u001b[0m     texmanager \u001b[38;5;241m=\u001b[39m \u001b[38;5;28mself\u001b[39m\u001b[38;5;241m.\u001b[39mget_texmanager()\n\u001b[1;32m    228\u001b[0m     fontsize \u001b[38;5;241m=\u001b[39m prop\u001b[38;5;241m.\u001b[39mget_size_in_points()\n\u001b[0;32m--> 229\u001b[0m     w, h, d \u001b[38;5;241m=\u001b[39m \u001b[43mtexmanager\u001b[49m\u001b[38;5;241;43m.\u001b[39;49m\u001b[43mget_text_width_height_descent\u001b[49m\u001b[43m(\u001b[49m\n\u001b[1;32m    230\u001b[0m \u001b[43m        \u001b[49m\u001b[43ms\u001b[49m\u001b[43m,\u001b[49m\u001b[43m \u001b[49m\u001b[43mfontsize\u001b[49m\u001b[43m,\u001b[49m\u001b[43m \u001b[49m\u001b[43mrenderer\u001b[49m\u001b[38;5;241;43m=\u001b[39;49m\u001b[38;5;28;43mself\u001b[39;49m\u001b[43m)\u001b[49m\n\u001b[1;32m    231\u001b[0m     \u001b[38;5;28;01mreturn\u001b[39;00m w, h, d\n\u001b[1;32m    233\u001b[0m \u001b[38;5;28;01mif\u001b[39;00m ismath:\n",
      "File \u001b[0;32m/clusterfs/ml4hep/shahzar/miniconda/envs/multifold/lib/python3.10/site-packages/matplotlib/texmanager.py:362\u001b[0m, in \u001b[0;36mTexManager.get_text_width_height_descent\u001b[0;34m(cls, tex, fontsize, renderer)\u001b[0m\n\u001b[1;32m    360\u001b[0m \u001b[38;5;28;01mif\u001b[39;00m tex\u001b[38;5;241m.\u001b[39mstrip() \u001b[38;5;241m==\u001b[39m \u001b[38;5;124m'\u001b[39m\u001b[38;5;124m'\u001b[39m:\n\u001b[1;32m    361\u001b[0m     \u001b[38;5;28;01mreturn\u001b[39;00m \u001b[38;5;241m0\u001b[39m, \u001b[38;5;241m0\u001b[39m, \u001b[38;5;241m0\u001b[39m\n\u001b[0;32m--> 362\u001b[0m dvifile \u001b[38;5;241m=\u001b[39m \u001b[38;5;28;43mcls\u001b[39;49m\u001b[38;5;241;43m.\u001b[39;49m\u001b[43mmake_dvi\u001b[49m\u001b[43m(\u001b[49m\u001b[43mtex\u001b[49m\u001b[43m,\u001b[49m\u001b[43m \u001b[49m\u001b[43mfontsize\u001b[49m\u001b[43m)\u001b[49m\n\u001b[1;32m    363\u001b[0m dpi_fraction \u001b[38;5;241m=\u001b[39m renderer\u001b[38;5;241m.\u001b[39mpoints_to_pixels(\u001b[38;5;241m1.\u001b[39m) \u001b[38;5;28;01mif\u001b[39;00m renderer \u001b[38;5;28;01melse\u001b[39;00m \u001b[38;5;241m1\u001b[39m\n\u001b[1;32m    364\u001b[0m \u001b[38;5;28;01mwith\u001b[39;00m dviread\u001b[38;5;241m.\u001b[39mDvi(dvifile, \u001b[38;5;241m72\u001b[39m \u001b[38;5;241m*\u001b[39m dpi_fraction) \u001b[38;5;28;01mas\u001b[39;00m dvi:\n",
      "File \u001b[0;32m/clusterfs/ml4hep/shahzar/miniconda/envs/multifold/lib/python3.10/site-packages/matplotlib/texmanager.py:295\u001b[0m, in \u001b[0;36mTexManager.make_dvi\u001b[0;34m(cls, tex, fontsize)\u001b[0m\n\u001b[1;32m    286\u001b[0m     \u001b[38;5;66;03m# Generate the dvi in a temporary directory to avoid race\u001b[39;00m\n\u001b[1;32m    287\u001b[0m     \u001b[38;5;66;03m# conditions e.g. if multiple processes try to process the same tex\u001b[39;00m\n\u001b[1;32m    288\u001b[0m     \u001b[38;5;66;03m# string at the same time.  Having tmpdir be a subdirectory of the\u001b[39;00m\n\u001b[0;32m   (...)\u001b[0m\n\u001b[1;32m    292\u001b[0m     \u001b[38;5;66;03m# the absolute path may contain characters (e.g. ~) that TeX does\u001b[39;00m\n\u001b[1;32m    293\u001b[0m     \u001b[38;5;66;03m# not support.)\u001b[39;00m\n\u001b[1;32m    294\u001b[0m     \u001b[38;5;28;01mwith\u001b[39;00m TemporaryDirectory(\u001b[38;5;28mdir\u001b[39m\u001b[38;5;241m=\u001b[39mPath(dvifile)\u001b[38;5;241m.\u001b[39mparent) \u001b[38;5;28;01mas\u001b[39;00m tmpdir:\n\u001b[0;32m--> 295\u001b[0m         \u001b[38;5;28;43mcls\u001b[39;49m\u001b[38;5;241;43m.\u001b[39;49m\u001b[43m_run_checked_subprocess\u001b[49m\u001b[43m(\u001b[49m\n\u001b[1;32m    296\u001b[0m \u001b[43m            \u001b[49m\u001b[43m[\u001b[49m\u001b[38;5;124;43m\"\u001b[39;49m\u001b[38;5;124;43mlatex\u001b[39;49m\u001b[38;5;124;43m\"\u001b[39;49m\u001b[43m,\u001b[49m\u001b[43m \u001b[49m\u001b[38;5;124;43m\"\u001b[39;49m\u001b[38;5;124;43m-interaction=nonstopmode\u001b[39;49m\u001b[38;5;124;43m\"\u001b[39;49m\u001b[43m,\u001b[49m\u001b[43m \u001b[49m\u001b[38;5;124;43m\"\u001b[39;49m\u001b[38;5;124;43m--halt-on-error\u001b[39;49m\u001b[38;5;124;43m\"\u001b[39;49m\u001b[43m,\u001b[49m\n\u001b[1;32m    297\u001b[0m \u001b[43m             \u001b[49m\u001b[38;5;124;43mf\u001b[39;49m\u001b[38;5;124;43m\"\u001b[39;49m\u001b[38;5;124;43m../\u001b[39;49m\u001b[38;5;132;43;01m{\u001b[39;49;00m\u001b[43mtexfile\u001b[49m\u001b[38;5;241;43m.\u001b[39;49m\u001b[43mname\u001b[49m\u001b[38;5;132;43;01m}\u001b[39;49;00m\u001b[38;5;124;43m\"\u001b[39;49m\u001b[43m]\u001b[49m\u001b[43m,\u001b[49m\u001b[43m \u001b[49m\u001b[43mtex\u001b[49m\u001b[43m,\u001b[49m\u001b[43m \u001b[49m\u001b[43mcwd\u001b[49m\u001b[38;5;241;43m=\u001b[39;49m\u001b[43mtmpdir\u001b[49m\u001b[43m)\u001b[49m\n\u001b[1;32m    298\u001b[0m         (Path(tmpdir) \u001b[38;5;241m/\u001b[39m Path(dvifile)\u001b[38;5;241m.\u001b[39mname)\u001b[38;5;241m.\u001b[39mreplace(dvifile)\n\u001b[1;32m    299\u001b[0m \u001b[38;5;28;01mreturn\u001b[39;00m dvifile\n",
      "File \u001b[0;32m/clusterfs/ml4hep/shahzar/miniconda/envs/multifold/lib/python3.10/site-packages/matplotlib/texmanager.py:257\u001b[0m, in \u001b[0;36mTexManager._run_checked_subprocess\u001b[0;34m(cls, command, tex, cwd)\u001b[0m\n\u001b[1;32m    253\u001b[0m     report \u001b[38;5;241m=\u001b[39m subprocess\u001b[38;5;241m.\u001b[39mcheck_output(\n\u001b[1;32m    254\u001b[0m         command, cwd\u001b[38;5;241m=\u001b[39mcwd \u001b[38;5;28;01mif\u001b[39;00m cwd \u001b[38;5;129;01mis\u001b[39;00m \u001b[38;5;129;01mnot\u001b[39;00m \u001b[38;5;28;01mNone\u001b[39;00m \u001b[38;5;28;01melse\u001b[39;00m \u001b[38;5;28mcls\u001b[39m\u001b[38;5;241m.\u001b[39mtexcache,\n\u001b[1;32m    255\u001b[0m         stderr\u001b[38;5;241m=\u001b[39msubprocess\u001b[38;5;241m.\u001b[39mSTDOUT)\n\u001b[1;32m    256\u001b[0m \u001b[38;5;28;01mexcept\u001b[39;00m \u001b[38;5;167;01mFileNotFoundError\u001b[39;00m \u001b[38;5;28;01mas\u001b[39;00m exc:\n\u001b[0;32m--> 257\u001b[0m     \u001b[38;5;28;01mraise\u001b[39;00m \u001b[38;5;167;01mRuntimeError\u001b[39;00m(\n\u001b[1;32m    258\u001b[0m         \u001b[38;5;124m'\u001b[39m\u001b[38;5;124mFailed to process string with tex because \u001b[39m\u001b[38;5;132;01m{}\u001b[39;00m\u001b[38;5;124m could not be \u001b[39m\u001b[38;5;124m'\u001b[39m\n\u001b[1;32m    259\u001b[0m         \u001b[38;5;124m'\u001b[39m\u001b[38;5;124mfound\u001b[39m\u001b[38;5;124m'\u001b[39m\u001b[38;5;241m.\u001b[39mformat(command[\u001b[38;5;241m0\u001b[39m])) \u001b[38;5;28;01mfrom\u001b[39;00m \u001b[38;5;21;01mexc\u001b[39;00m\n\u001b[1;32m    260\u001b[0m \u001b[38;5;28;01mexcept\u001b[39;00m subprocess\u001b[38;5;241m.\u001b[39mCalledProcessError \u001b[38;5;28;01mas\u001b[39;00m exc:\n\u001b[1;32m    261\u001b[0m     \u001b[38;5;28;01mraise\u001b[39;00m \u001b[38;5;167;01mRuntimeError\u001b[39;00m(\n\u001b[1;32m    262\u001b[0m         \u001b[38;5;124m'\u001b[39m\u001b[38;5;132;01m{prog}\u001b[39;00m\u001b[38;5;124m was not able to process the following string:\u001b[39m\u001b[38;5;130;01m\\n\u001b[39;00m\u001b[38;5;124m'\u001b[39m\n\u001b[1;32m    263\u001b[0m         \u001b[38;5;124m'\u001b[39m\u001b[38;5;132;01m{tex!r}\u001b[39;00m\u001b[38;5;130;01m\\n\u001b[39;00m\u001b[38;5;130;01m\\n\u001b[39;00m\u001b[38;5;124m'\u001b[39m\n\u001b[0;32m   (...)\u001b[0m\n\u001b[1;32m    270\u001b[0m             exc\u001b[38;5;241m=\u001b[39mexc\u001b[38;5;241m.\u001b[39moutput\u001b[38;5;241m.\u001b[39mdecode(\u001b[38;5;124m'\u001b[39m\u001b[38;5;124mutf-8\u001b[39m\u001b[38;5;124m'\u001b[39m, \u001b[38;5;124m'\u001b[39m\u001b[38;5;124mbackslashreplace\u001b[39m\u001b[38;5;124m'\u001b[39m))\n\u001b[1;32m    271\u001b[0m         ) \u001b[38;5;28;01mfrom\u001b[39;00m \u001b[38;5;28mNone\u001b[39m\n",
      "\u001b[0;31mRuntimeError\u001b[0m: Failed to process string with tex because latex could not be found"
     ]
    },
    {
     "data": {
      "text/plain": [
       "<Figure size 1080x1080 with 21 Axes>"
      ]
     },
     "metadata": {
      "needs_background": "light"
     },
     "output_type": "display_data"
    }
   ],
   "source": [
    "sns.pairplot(data = df, kind = 'hist', corner = True)\n",
    "#plt.savefig('plots/zenodo/corner.pdf')"
   ]
  },
  {
   "cell_type": "markdown",
   "id": "836abb92-a317-4520-9b36-d60c8588a715",
   "metadata": {
    "jp-MarkdownHeadingCollapsed": true,
    "tags": []
   },
   "source": [
    "# Training"
   ]
  },
  {
   "cell_type": "markdown",
   "id": "d306c891-2979-4d9b-ac19-20ad3a6d36be",
   "metadata": {
    "jp-MarkdownHeadingCollapsed": true,
    "tags": []
   },
   "source": [
    "## BCE $C$ Parametrization"
   ]
  },
  {
   "cell_type": "code",
   "execution_count": 9,
   "id": "7cf47a8f-61ec-4c44-a96d-41cda631935d",
   "metadata": {},
   "outputs": [],
   "source": [
    "# Experiment parameters\n",
    "num = 2\n",
    "reps = 100\n",
    "\n",
    "# Model parameters\n",
    "params_1 = {'loss':bce, 'd':6}\n",
    "params_2 = {'loss':probit_bce, 'd':6, 'output': 'linear'}\n",
    "params_3 = {'loss':arctan_bce, 'd':6,  'output': 'linear'}\n",
    "\n",
    "filestr = 'models/zenodo/c_bce/set_{}/'.format(num)\n",
    "filestr_1 = filestr + 'sigmoid/model_{}.h5'\n",
    "filestr_2 = filestr + 'probit/model_{}.h5'\n",
    "filestr_3 = filestr + 'arctan/model_{}.h5'\n",
    "\n",
    "if not os.path.isdir(filestr):\n",
    "    os.mkdir(filestr)\n",
    "\n",
    "if not os.path.isdir(filestr + 'sigmoid/'):\n",
    "    os.mkdir(filestr + 'sigmoid/')\n",
    "    \n",
    "if not os.path.isdir(filestr + 'probit/'):\n",
    "    os.mkdir(filestr + 'probit/')\n",
    "\n",
    "if not os.path.isdir(filestr + 'arctan/'):\n",
    "    os.mkdir(filestr + 'arctan/')\n",
    "\n",
    "# Data parameters\n",
    "N = 10**6\n",
    "X = np.load('data/zenodo/fold/6/X_trn.npy')[:N]\n",
    "y = np.load('data/zenodo/fold/6/y_trn.npy')[:N].astype('float32')\n",
    "data, m, s = split_data(X, y)"
   ]
  },
  {
   "cell_type": "code",
   "execution_count": 10,
   "id": "7fd23de1-cfa5-4896-b9d5-47073ec28015",
   "metadata": {},
   "outputs": [
    {
     "name": "stdout",
     "output_type": "stream",
     "text": [
      "0 "
     ]
    },
    {
     "name": "stderr",
     "output_type": "stream",
     "text": [
      "2023-11-06 00:54:26.462670: I tensorflow/core/platform/cpu_feature_guard.cc:151] This TensorFlow binary is optimized with oneAPI Deep Neural Network Library (oneDNN) to use the following CPU instructions in performance-critical operations:  SSE4.1 SSE4.2 AVX AVX2 FMA\n",
      "To enable them in other operations, rebuild TensorFlow with the appropriate compiler flags.\n",
      "2023-11-06 00:54:27.103375: I tensorflow/core/common_runtime/gpu/gpu_device.cc:1525] Created device /job:localhost/replica:0/task:0/device:GPU:0 with 19165 MB memory:  -> device: 0, name: Quadro RTX 6000, pci bus id: 0000:01:00.0, compute capability: 7.5\n"
     ]
    },
    {
     "name": "stdout",
     "output_type": "stream",
     "text": [
      "0.671258807182312 \t 100\t0.6696333885192871 \t 100\t0.6705989837646484 \t 100\t\n",
      "1 0.6696373820304871 \t 100\t0.6702251434326172 \t 100\t0.671057403087616 \t 100\t\n",
      "2 0.669964075088501 \t 100\t0.6710475087165833 \t 100\t0.6712594628334045 \t 100\t\n",
      "3 0.668938398361206 \t 100\t0.670221209526062 \t 100\t0.6723390221595764 \t 100\t\n",
      "4 0.6716524362564087 \t 100\t0.6710319519042969 \t 100\t0.6689433455467224 \t 100\t\n",
      "5 0.6707542538642883 \t 100\t0.6704069375991821 \t 100\t0.6718525290489197 \t 100\t\n",
      "6 0.6714305877685547 \t 100\t0.6714286208152771 \t 100\t0.6707636117935181 \t 100\t\n",
      "7 0.6712853908538818 \t 100\t0.6721391081809998 \t 100\t0.6690713763237 \t 100\t\n",
      "8 0.6709175109863281 \t 100\t0.6724086403846741 \t 100\t0.6697401404380798 \t 100\t\n",
      "9 0.6702324748039246 \t 100\t0.6695740222930908 \t 100\t0.6725865006446838 \t 100\t\n",
      "10 0.6714321970939636 \t 100\t0.6702836751937866 \t 100\t0.6688928604125977 \t 100\t\n",
      "11 0.6712750196456909 \t 100\t0.6707526445388794 \t 100\t0.6710135340690613 \t 100\t\n",
      "12 0.6703806519508362 \t 100\t0.6714143753051758 \t 100\t0.6690080165863037 \t 100\t\n",
      "13 0.6702821254730225 \t 100\t0.6711084246635437 \t 100\t0.6710008382797241 \t 100\t\n",
      "14 0.6699380874633789 \t 100\t0.6711269617080688 \t 100\t0.6712522506713867 \t 100\t\n",
      "15 0.6699212789535522 \t 100\t0.6716679930686951 \t 100\t0.67107093334198 \t 100\t\n",
      "16 0.6708517074584961 \t 100\t0.6705800890922546 \t 100\t0.671831488609314 \t 100\t\n",
      "17 0.6711786985397339 \t 100\t0.6695173978805542 \t 100\t0.6699922680854797 \t 100\t\n",
      "18 0.6692454814910889 \t 100\t0.6712826490402222 \t 100\t0.6717683672904968 \t 100\t\n",
      "19 0.6713016033172607 \t 100\t0.6710948944091797 \t 100\t0.6706077456474304 \t 100\t\n",
      "20 0.6696213483810425 \t 100\t0.6707912683486938 \t 100\t0.6691057682037354 \t 100\t\n",
      "21 0.6702406406402588 \t 100\t0.6699941158294678 \t 100\t0.6722460985183716 \t 100\t\n",
      "22 0.6703943610191345 \t 100\t0.6700194478034973 \t 100\t0.6689620018005371 \t 100\t\n",
      "23 0.6702134013175964 \t 100\t0.6719707250595093 \t 100\t0.6701095700263977 \t 100\t\n",
      "24 0.6692386865615845 \t 100\t0.6717827320098877 \t 100\t0.6699768304824829 \t 100\t\n",
      "25 0.6703263521194458 \t 100\t0.6696090698242188 \t 100\t0.6716709733009338 \t 100\t\n",
      "26 0.6700066924095154 \t 100\t0.672190248966217 \t 100\t0.6703659296035767 \t 100\t\n",
      "27 0.669655442237854 \t 100\t0.6715088486671448 \t 100\t0.6705989837646484 \t 100\t\n",
      "28 0.670228898525238 \t 100\t0.6710458397865295 \t 100\t0.6737041473388672 \t 100\t\n",
      "29 0.6699891090393066 \t 100\t0.6720625162124634 \t 100\t0.6697975397109985 \t 100\t\n",
      "30 0.6695320010185242 \t 100\t0.6703753471374512 \t 100\t0.6693362593650818 \t 100\t\n",
      "31 0.6702432632446289 \t 100\t0.6708683371543884 \t 100\t0.6709409952163696 \t 100\t\n",
      "32 0.6702330112457275 \t 100\t0.6692603826522827 \t 100\t0.6697844862937927 \t 100\t\n",
      "33 0.6699898838996887 \t 100\t0.6710626482963562 \t 100\t0.6720885038375854 \t 100\t\n",
      "34 0.6711845993995667 \t 100\t0.6701422333717346 \t 100\t0.6708815693855286 \t 100\t\n",
      "35 0.6705359816551208 \t 100\t0.6722612380981445 \t 100\t0.6705172657966614 \t 100\t\n",
      "36 0.6702260971069336 \t 100\t0.6715261936187744 \t 100\t0.6703515648841858 \t 100\t\n",
      "37 0.6721851229667664 \t 100\t0.6704591512680054 \t 100\t0.6703394651412964 \t 100\t\n",
      "38 0.6719098687171936 \t 100\t0.6724832057952881 \t 100\t0.6700876355171204 \t 100\t\n",
      "39 0.6707553267478943 \t 100\t0.6692636013031006 \t 100\t0.6713859438896179 \t 100\t\n",
      "40 0.6710695624351501 \t 100\t0.6728450655937195 \t 100\t0.6696891188621521 \t 100\t\n",
      "41 0.6700909733772278 \t 100\t0.670124888420105 \t 100\t0.6720746755599976 \t 100\t\n",
      "42 0.6713770031929016 \t 100\t0.6698231101036072 \t 100\t0.67227703332901 \t 100\t\n",
      "43 0.6697596311569214 \t 100\t0.6709086298942566 \t 100\t0.670412003993988 \t 100\t\n",
      "44 0.6699100732803345 \t 100\t0.6695098876953125 \t 100\t0.6695061326026917 \t 100\t\n",
      "45 0.6695566773414612 \t 100\t0.6697288155555725 \t 100\t0.6710707545280457 \t 100\t\n",
      "46 0.6702900528907776 \t 100\t0.6700587272644043 \t 100\t0.6719432473182678 \t 100\t\n",
      "47 0.6715167164802551 \t 100\t0.670776903629303 \t 100\t0.6705136895179749 \t 100\t\n",
      "48 0.6703058481216431 \t 100\t0.670791745185852 \t 100\t0.6700695157051086 \t 100\t\n",
      "49 0.6698847413063049 \t 100\t0.6717218160629272 \t 100\t0.6708516478538513 \t 100\t\n",
      "50 0.6707249879837036 \t 100\t0.6707642674446106 \t 100\t0.67238450050354 \t 100\t\n",
      "51 0.6702906489372253 \t 100\t0.6704484820365906 \t 100\t0.671471893787384 \t 100\t\n",
      "52 0.670904278755188 \t 100\t0.6707239747047424 \t 100\t0.6699301600456238 \t 100\t\n",
      "53 0.6704491972923279 \t 100\t0.6707066297531128 \t 100\t0.6718606352806091 \t 100\t\n",
      "54 0.6697899103164673 \t 100\t0.6704369783401489 \t 100\t0.6698020100593567 \t 100\t\n",
      "55 0.670466423034668 \t 100\t0.6693313717842102 \t 100\t0.6695572733879089 \t 100\t\n",
      "56 0.6699766516685486 \t 100\t0.6701963543891907 \t 100\t0.672171413898468 \t 100\t\n",
      "57 0.6717687845230103 \t 100\t0.6710215210914612 \t 100\t0.6712918877601624 \t 100\t\n",
      "58 0.669730007648468 \t 100\t0.6704534888267517 \t 100\t0.6706323623657227 \t 100\t\n",
      "59 0.6689257621765137 \t 100\t0.6704666018486023 \t 100\t0.6725925207138062 \t 100\t\n",
      "60 0.6701166033744812 \t 100\t0.6690897941589355 \t 100\t0.6713849306106567 \t 100\t\n",
      "61 0.6697102785110474 \t 100\t0.6707854866981506 \t 100\t0.6702864766120911 \t 100\t\n",
      "62 0.6715390086174011 \t 100\t0.669826090335846 \t 100\t0.6710448861122131 \t 100\t\n",
      "63 0.6715189218521118 \t 100\t0.6702951192855835 \t 100\t0.6696944236755371 \t 100\t\n",
      "64 0.6695104241371155 \t 100\t0.6714774966239929 \t 100\t0.6691934466362 \t 100\t\n",
      "65 0.6695637702941895 \t 100\t0.6697273254394531 \t 100\t0.6708338856697083 \t 100\t\n",
      "66 0.6704254746437073 \t 100\t0.6708164215087891 \t 100\t0.6697577238082886 \t 100\t\n",
      "67 0.6699827909469604 \t 100\t0.669712483882904 \t 100\t0.6714224815368652 \t 100\t\n",
      "68 0.670074999332428 \t 100\t0.6704666018486023 \t 100\t0.6722473502159119 \t 100\t\n",
      "69 0.6700877547264099 \t 100\t0.6728523969650269 \t 100\t0.6719752550125122 \t 100\t\n",
      "70 0.6703898310661316 \t 100\t0.6686952710151672 \t 100\t0.6704593300819397 \t 100\t\n",
      "71 0.6694708466529846 \t 100\t0.6707627773284912 \t 100\t0.6701573729515076 \t 100\t\n",
      "72 0.6709331274032593 \t 100\t0.6700213551521301 \t 100\t0.6707651615142822 \t 100\t\n",
      "73 0.6699490547180176 \t 100\t0.6702247858047485 \t 100\t0.6710001230239868 \t 100\t\n",
      "74 0.6696315407752991 \t 100\t0.6717569828033447 \t 100\t0.6712327599525452 \t 100\t\n",
      "75 0.6701263189315796 \t 100\t0.6712018847465515 \t 100\t0.6714776754379272 \t 100\t\n",
      "76 0.671073853969574 \t 100\t0.6701456308364868 \t 100\t0.6709365248680115 \t 100\t\n",
      "77 0.6699821949005127 \t 100\t0.6712219715118408 \t 100\t0.6701480746269226 \t 100\t\n",
      "78 0.670144259929657 \t 100\t0.672307014465332 \t 100\t0.6704063415527344 \t 100\t\n",
      "79 0.6694947481155396 \t 100\t0.6701924800872803 \t 100\t0.6708878874778748 \t 100\t\n",
      "80 0.6703813672065735 \t 100\t0.6725180745124817 \t 100\t0.6705098748207092 \t 100\t\n",
      "81 0.6724136471748352 \t 100\t0.6713681221008301 \t 100\t0.6704446077346802 \t 100\t\n",
      "82 0.6697883605957031 \t 100\t0.6702208518981934 \t 100\t0.6705170273780823 \t 100\t\n",
      "83 0.670696496963501 \t 100\t0.6708124876022339 \t 100\t0.669864296913147 \t 100\t\n",
      "84 0.6697088479995728 \t 100\t0.670677661895752 \t 100\t0.6708279848098755 \t 100\t\n",
      "85 0.6690066456794739 \t 100\t0.6689275503158569 \t 100\t0.6696285009384155 \t 100\t\n",
      "86 0.6698547005653381 \t 100\t0.6737096905708313 \t 100\t0.6705211997032166 \t 100\t\n",
      "87 0.6703752279281616 \t 100\t0.6704453825950623 \t 100\t0.671072244644165 \t 100\t\n",
      "88 0.6698107719421387 \t 100\t0.6696979403495789 \t 100\t0.6716910004615784 \t 100\t\n",
      "89 0.6696259379386902 \t 100\t0.674202561378479 \t 100\t0.6701405048370361 \t 100\t\n",
      "90 0.670229434967041 \t 100\t0.6699607372283936 \t 100\t0.6703994870185852 \t 100\t\n",
      "91 0.6696974039077759 \t 100\t0.6694964170455933 \t 100\t0.6693298816680908 \t 100\t\n",
      "92 0.6701256036758423 \t 100\t0.6694524884223938 \t 100\t0.6722954511642456 \t 100\t\n",
      "93 0.6693966388702393 \t 100\t0.6697281002998352 \t 100\t0.6711892485618591 \t 100\t\n",
      "94 0.6707495450973511 \t 100\t0.6696187257766724 \t 100\t0.6708189845085144 \t 100\t\n",
      "95 0.6702883839607239 \t 100\t0.6722583174705505 \t 100\t0.6693871021270752 \t 100\t\n",
      "96 0.6700524091720581 \t 100\t0.669792890548706 \t 100\t0.6709531545639038 \t 100\t\n",
      "97 0.6707909107208252 \t 100\t0.6710147261619568 \t 100\t0.6697086691856384 \t 100\t\n",
      "98 0.671122133731842 \t 100\t0.6716831922531128 \t 100\t0.6711938381195068 \t 100\t\n",
      "99 0.6703863739967346 \t 100\t0.670944333076477 \t 100\t0.6710214614868164 \t 100\t\n"
     ]
    }
   ],
   "source": [
    "for i in range(reps):\n",
    "    print(i, end = ' ')\n",
    "    model_1, trace = train(data, **params_1)\n",
    "    model_2, trace = train(data, **params_2)\n",
    "    model_3, trace = train(data, **params_3)\n",
    "    print()\n",
    "    model_1.save_weights(filestr_1.format(i))\n",
    "    model_2.save_weights(filestr_2.format(i))\n",
    "    model_3.save_weights(filestr_3.format(i))"
   ]
  },
  {
   "cell_type": "markdown",
   "id": "9638f4ac-8128-458b-a8b5-bdaf2b0ab509",
   "metadata": {
    "jp-MarkdownHeadingCollapsed": true,
    "tags": []
   },
   "source": [
    "## MSE $C$ Parametrization"
   ]
  },
  {
   "cell_type": "code",
   "execution_count": 11,
   "id": "e4b2afea-448e-4859-9769-d45efeb72fd3",
   "metadata": {},
   "outputs": [],
   "source": [
    "# Experiment parameters\n",
    "num = 2\n",
    "reps = 100\n",
    "\n",
    "# Model parameters\n",
    "params_1 = {'loss':mse, 'd':6}\n",
    "params_2 = {'loss':probit_mse, 'd':6, 'output': 'linear'}\n",
    "params_3 = {'loss':arctan_mse, 'd':6,  'output': 'linear'}\n",
    "\n",
    "filestr = 'models/zenodo/c_mse/set_{}/'.format(num)\n",
    "filestr_1 = filestr + 'sigmoid/model_{}.h5'\n",
    "filestr_2 = filestr + 'probit/model_{}.h5'\n",
    "filestr_3 = filestr + 'arctan/model_{}.h5'\n",
    "\n",
    "if not os.path.isdir(filestr):\n",
    "    os.mkdir(filestr)\n",
    "\n",
    "if not os.path.isdir(filestr + 'sigmoid/'):\n",
    "    os.mkdir(filestr + 'sigmoid/')\n",
    "    \n",
    "if not os.path.isdir(filestr + 'probit/'):\n",
    "    os.mkdir(filestr + 'probit/')\n",
    "\n",
    "if not os.path.isdir(filestr + 'arctan/'):\n",
    "    os.mkdir(filestr + 'arctan/')\n",
    "\n",
    "# Data parameters\n",
    "N = 10**6\n",
    "X = np.load('data/zenodo/fold/6/X_trn.npy')[:N]\n",
    "y = np.load('data/zenodo/fold/6/y_trn.npy')[:N].astype('float32')\n",
    "data, m, s = split_data(X, y)"
   ]
  },
  {
   "cell_type": "code",
   "execution_count": 12,
   "id": "d82ce72c-c192-46a2-bf81-fe9387d4c720",
   "metadata": {},
   "outputs": [
    {
     "name": "stdout",
     "output_type": "stream",
     "text": [
      "0 0.23894734680652618 \t 100\t0.2384677529335022 \t 100\t0.23926295340061188 \t 100\t\n",
      "1 0.23983459174633026 \t 100\t0.2381654530763626 \t 100\t0.23923492431640625 \t 100\t\n",
      "2 0.2392270267009735 \t 100\t0.23868651688098907 \t 100\t0.2391359955072403 \t 100\t\n",
      "3 0.23877154290676117 \t 100\t0.23921488225460052 \t 100\t0.24016734957695007 \t 100\t\n",
      "4 0.23880669474601746 \t 100\t0.23991955816745758 \t 100\t0.23885785043239594 \t 100\t\n",
      "5 0.23862794041633606 \t 100\t0.23984315991401672 \t 100\t0.23896099627017975 \t 100\t\n",
      "6 0.23914600908756256 \t 100\t0.23851056396961212 \t 100\t0.23884612321853638 \t 100\t\n",
      "7 0.23915447294712067 \t 100\t0.23930610716342926 \t 100\t0.23923905193805695 \t 100\t\n",
      "8 0.23923712968826294 \t 100\t0.24023987352848053 \t 100\t0.2397659420967102 \t 100\t\n",
      "9 0.23870190978050232 \t 100\t0.23907703161239624 \t 100\t0.23914523422718048 \t 100\t\n",
      "10 0.23939083516597748 \t 100\t0.23892125487327576 \t 100\t0.2390298992395401 \t 100\t\n",
      "11 0.23854491114616394 \t 100\t0.24008433520793915 \t 100\t0.23975808918476105 \t 100\t\n",
      "12 0.23905110359191895 \t 100\t0.2395380586385727 \t 100\t0.23928797245025635 \t 100\t\n",
      "13 0.23865428566932678 \t 100\t0.239347904920578 \t 100\t0.23899364471435547 \t 100\t\n",
      "14 0.23903925716876984 \t 100\t0.23964853584766388 \t 100\t0.23888812959194183 \t 100\t\n",
      "15 0.2395031750202179 \t 100\t0.23986387252807617 \t 100\t0.23910851776599884 \t 100\t\n",
      "16 0.23895253241062164 \t 100\t0.23875458538532257 \t 100\t0.23850655555725098 \t 100\t\n",
      "17 0.23961801826953888 \t 100\t0.23903289437294006 \t 100\t0.23942556977272034 \t 100\t\n",
      "18 0.23894189298152924 \t 100\t0.23953776061534882 \t 100\t0.2388084977865219 \t 100\t\n",
      "19 0.23862288892269135 \t 100\t0.23904012143611908 \t 100\t0.2396618276834488 \t 100\t\n",
      "20 0.23926137387752533 \t 100\t0.23975342512130737 \t 100\t0.2385210245847702 \t 100\t\n",
      "21 0.239171102643013 \t 100\t0.23961247503757477 \t 100\t0.23880083858966827 \t 100\t\n",
      "22 0.2386285960674286 \t 100\t0.2396635264158249 \t 100\t0.2387920469045639 \t 100\t\n",
      "23 0.23907344043254852 \t 100\t0.23939456045627594 \t 100\t0.23876841366291046 \t 100\t\n",
      "24 0.23970752954483032 \t 100\t0.239259272813797 \t 100\t0.23872880637645721 \t 100\t\n",
      "25 0.2392127513885498 \t 100\t0.2397421896457672 \t 100\t0.23933514952659607 \t 100\t\n",
      "26 0.23876792192459106 \t 100\t0.23903802037239075 \t 100\t0.23961366713047028 \t 100\t\n",
      "27 0.23890487849712372 \t 100\t0.23939159512519836 \t 100\t0.23946185410022736 \t 100\t\n",
      "28 0.23880665004253387 \t 100\t0.2396874725818634 \t 100\t0.23917227983474731 \t 100\t\n",
      "29 0.23868517577648163 \t 100\t0.23931625485420227 \t 100\t0.23869025707244873 \t 100\t\n",
      "30 0.23884068429470062 \t 100\t0.2389262169599533 \t 100\t0.23938211798667908 \t 100\t\n",
      "31 0.23884649574756622 \t 100\t0.23906227946281433 \t 100\t0.23984326422214508 \t 100\t\n",
      "32 0.23939451575279236 \t 100\t0.23934054374694824 \t 100\t0.23934310674667358 \t 100\t\n",
      "33 0.23900040984153748 \t 100\t0.23864422738552094 \t 100\t0.23919641971588135 \t 100\t\n",
      "34 0.23912951350212097 \t 100\t0.2390812188386917 \t 100\t0.23884478211402893 \t 100\t\n",
      "35 0.2394968420267105 \t 100\t0.23891232907772064 \t 100\t0.23917905986309052 \t 100\t\n",
      "36 0.23891112208366394 \t 100\t0.2394951581954956 \t 100\t0.23898620903491974 \t 100\t\n",
      "37 0.23928894102573395 \t 100\t0.23886322975158691 \t 100\t0.23938359320163727 \t 100\t\n",
      "38 0.2389919012784958 \t 100\t0.23900334537029266 \t 100\t0.23919372260570526 \t 100\t\n",
      "39 0.2397131621837616 \t 100\t0.23907466232776642 \t 100\t0.24001069366931915 \t 100\t\n",
      "40 0.23890303075313568 \t 100\t0.23886197805404663 \t 100\t0.2394566535949707 \t 100\t\n",
      "41 0.23947685956954956 \t 100\t0.2393113523721695 \t 100\t0.23966087400913239 \t 100\t\n",
      "42 0.23918430507183075 \t 100\t0.23941318690776825 \t 100\t0.23925165832042694 \t 100\t\n",
      "43 0.2388591766357422 \t 100\t0.2395787239074707 \t 100\t0.23934286832809448 \t 100\t\n",
      "44 0.23922637104988098 \t 100\t0.23931074142456055 \t 100\t0.2396385371685028 \t 100\t\n",
      "45 0.2388661801815033 \t 100\t0.23878984153270721 \t 100\t0.23897700011730194 \t 100\t\n",
      "46 0.2391684651374817 \t 100\t0.2382727861404419 \t 100\t0.23849236965179443 \t 100\t\n",
      "47 0.23920825123786926 \t 100\t0.2384813278913498 \t 100\t0.23912860453128815 \t 100\t\n",
      "48 0.23951104283332825 \t 100\t0.23953744769096375 \t 100\t0.2391514778137207 \t 100\t\n",
      "49 0.23891769349575043 \t 100\t0.23891985416412354 \t 100\t0.23938672244548798 \t 100\t\n",
      "50 0.23935459554195404 \t 100\t0.23955172300338745 \t 100\t0.238901749253273 \t 100\t\n",
      "51 0.23914754390716553 \t 100\t0.2395690381526947 \t 100\t0.239606574177742 \t 100\t\n",
      "52 0.23867280781269073 \t 100\t0.23931412398815155 \t 100\t0.2387101650238037 \t 100\t\n",
      "53 0.2387520968914032 \t 100\t0.2387538105249405 \t 100\t0.23961202800273895 \t 100\t\n",
      "54 0.23879344761371613 \t 100\t0.2398027777671814 \t 100\t0.23981475830078125 \t 100\t\n",
      "55 0.2388181984424591 \t 100\t0.2396865338087082 \t 100\t0.2393665462732315 \t 100\t\n",
      "56 0.23920615017414093 \t 100\t0.2407253235578537 \t 100\t0.23914775252342224 \t 100\t\n",
      "57 0.23973412811756134 \t 100\t0.23871161043643951 \t 100\t0.2386975884437561 \t 100\t\n",
      "58 0.23912879824638367 \t 100\t0.23961926996707916 \t 100\t0.23908163607120514 \t 100\t\n",
      "59 0.23923948407173157 \t 100\t0.24076321721076965 \t 100\t0.23932722210884094 \t 100\t\n",
      "60 0.23987776041030884 \t 100\t0.2391211986541748 \t 100\t0.23901909589767456 \t 100\t\n",
      "61 0.2389473170042038 \t 100\t0.23896092176437378 \t 100\t0.23940671980381012 \t 100\t\n",
      "62 0.23866187036037445 \t 100\t0.24000684916973114 \t 100\t0.23894202709197998 \t 100\t\n",
      "63 0.23841984570026398 \t 100\t0.23874688148498535 \t 100\t0.23891165852546692 \t 100\t\n",
      "64 0.23944970965385437 \t 100\t0.23860521614551544 \t 100\t0.23956963419914246 \t 100\t\n",
      "65 0.23982374370098114 \t 100\t0.23913274705410004 \t 100\t0.2387692630290985 \t 100\t\n",
      "66 0.23935052752494812 \t 100\t0.23981443047523499 \t 100\t0.2389948070049286 \t 100\t\n",
      "67 0.23947422206401825 \t 100\t0.23950952291488647 \t 100\t0.24028834700584412 \t 100\t\n",
      "68 0.23885124921798706 \t 100\t0.23894555866718292 \t 100\t0.2385324090719223 \t 100\t\n",
      "69 0.23917219042778015 \t 100\t0.23906801640987396 \t 100\t0.23924143612384796 \t 100\t\n",
      "70 0.23975877463817596 \t 100\t0.23911896347999573 \t 100\t0.2389606386423111 \t 100\t\n",
      "71 0.2391081005334854 \t 100\t0.23987480998039246 \t 100\t0.2385602444410324 \t 100\t\n",
      "72 0.2393079251050949 \t 100\t0.2392590492963791 \t 100\t0.23864711821079254 \t 100\t\n",
      "73 0.23882430791854858 \t 100\t0.23959693312644958 \t 100\t0.23937499523162842 \t 100\t\n",
      "74 0.23939284682273865 \t 100\t0.2395564615726471 \t 100\t0.2390117198228836 \t 100\t\n",
      "75 0.239212766289711 \t 100\t0.23899304866790771 \t 100\t0.23918196558952332 \t 100\t\n",
      "76 0.2391689419746399 \t 100\t0.23879365622997284 \t 100\t0.2391740381717682 \t 100\t\n",
      "77 0.24003909528255463 \t 100\t0.2397448718547821 \t 100\t0.2393334060907364 \t 100\t\n",
      "78 0.2387080043554306 \t 100\t0.2402663379907608 \t 100\t0.23982788622379303 \t 100\t\n",
      "79 0.23943059146404266 \t 100\t0.23886853456497192 \t 100\t0.23925615847110748 \t 100\t\n",
      "80 0.23904910683631897 \t 100\t0.23880238831043243 \t 100\t0.23881860077381134 \t 100\t\n",
      "81 0.23903673887252808 \t 100\t0.23975610733032227 \t 100\t0.2382921278476715 \t 100\t\n",
      "82 0.23922084271907806 \t 100\t0.23918040096759796 \t 100\t0.2389320582151413 \t 100\t\n",
      "83 0.239015594124794 \t 100\t0.2385387122631073 \t 100\t0.23952020704746246 \t 100\t\n",
      "84 0.23885810375213623 \t 100\t0.23871417343616486 \t 100\t0.23895131051540375 \t 100\t\n",
      "85 0.2390756905078888 \t 100\t0.2392934411764145 \t 100\t0.23982858657836914 \t 100\t\n",
      "86 0.23933906853199005 \t 100\t0.2393283247947693 \t 100\t0.23873521387577057 \t 100\t\n",
      "87 0.2387818992137909 \t 100\t0.23943164944648743 \t 100\t0.23859170079231262 \t 100\t\n",
      "88 0.23873423039913177 \t 100\t0.23917154967784882 \t 100\t0.23955252766609192 \t 100\t\n",
      "89 0.23894402384757996 \t 100\t0.23867826163768768 \t 100\t0.23957820236682892 \t 100\t\n",
      "90 0.23911917209625244 \t 100\t0.23861084878444672 \t 100\t0.23870624601840973 \t 100\t\n",
      "91 0.2391449511051178 \t 100\t0.23963038623332977 \t 100\t0.2392984926700592 \t 100\t\n",
      "92 0.23866380751132965 \t 100\t0.2394058108329773 \t 100\t0.23858335614204407 \t 100\t\n",
      "93 0.23936252295970917 \t 100\t0.23929381370544434 \t 100\t0.23899438977241516 \t 100\t\n",
      "94 0.23995426297187805 \t 100\t0.23960094153881073 \t 100\t0.2391446828842163 \t 100\t\n",
      "95 0.23903575539588928 \t 100\t0.24005624651908875 \t 100\t0.23917712271213531 \t 100\t\n",
      "96 0.23910371959209442 \t 100\t0.2385178953409195 \t 100\t0.23892700672149658 \t 100\t\n",
      "97 0.23921328783035278 \t 100\t0.23930218815803528 \t 100\t0.23900143802165985 \t 100\t\n",
      "98 0.2393624633550644 \t 100\t0.24019262194633484 \t 100\t0.23903489112854004 \t 100\t\n",
      "99 0.2389720380306244 \t 100\t0.23899562656879425 \t 100\t0.23929011821746826 \t 100\t\n"
     ]
    }
   ],
   "source": [
    "for i in range(reps):\n",
    "    print(i, end = ' ')\n",
    "    model_1, trace = train(data, **params_1)\n",
    "    model_2, trace = train(data, **params_2)\n",
    "    model_3, trace = train(data, **params_3)\n",
    "    print()\n",
    "    model_1.save_weights(filestr_1.format(i))\n",
    "    model_2.save_weights(filestr_2.format(i))\n",
    "    model_3.save_weights(filestr_3.format(i))"
   ]
  },
  {
   "cell_type": "markdown",
   "id": "b6baaa90-4026-4358-8265-5a4e0247e9df",
   "metadata": {
    "jp-MarkdownHeadingCollapsed": true,
    "tags": []
   },
   "source": [
    "## MLC $C$ Parametrization"
   ]
  },
  {
   "cell_type": "code",
   "execution_count": 13,
   "id": "b6aa86d6-4738-468e-839e-634aae54d5ac",
   "metadata": {},
   "outputs": [],
   "source": [
    "# Experiment parameters\n",
    "num = 2\n",
    "reps = 100\n",
    "\n",
    "# Model parameters\n",
    "params_1 = {'loss':mlc, 'd': 6, 'output': 'relu'}\n",
    "params_2 = {'loss':square_mlc, 'd': 6, 'output': 'linear'}\n",
    "params_3 = {'loss':exp_mlc, 'd': 6, 'output': 'linear'}\n",
    "\n",
    "filestr = 'models/zenodo/c_mlc/set_{}/'.format(num)\n",
    "filestr_1 = filestr + 'relu/model_{}.h5'\n",
    "filestr_2 = filestr + 'square/model_{}.h5'\n",
    "filestr_3 = filestr + 'exponential/model_{}.h5'\n",
    "\n",
    "if not os.path.isdir(filestr):\n",
    "    os.mkdir(filestr)\n",
    "\n",
    "if not os.path.isdir(filestr + 'relu/'):\n",
    "    os.mkdir(filestr + 'relu/')\n",
    "    \n",
    "if not os.path.isdir(filestr + 'square/'):\n",
    "    os.mkdir(filestr + 'square/')\n",
    "\n",
    "if not os.path.isdir(filestr + 'exponential/'):\n",
    "    os.mkdir(filestr + 'exponential/')\n",
    "\n",
    "# Data parameters\n",
    "N = 10**6\n",
    "X = np.load('data/zenodo/fold/6/X_trn.npy')[:N]\n",
    "y = np.load('data/zenodo/fold/6/y_trn.npy')[:N].astype('float32')\n",
    "data, m, s = split_data(X, y)"
   ]
  },
  {
   "cell_type": "code",
   "execution_count": 14,
   "id": "c4551597-7757-4fe3-880f-a5aa1192d71f",
   "metadata": {},
   "outputs": [
    {
     "name": "stdout",
     "output_type": "stream",
     "text": [
      "0 -0.018135594204068184 \t 100\t-0.011926231905817986 \t 100\tnan \t 61\t\n",
      "1 -0.021954337134957314 \t 100\t-0.02914680540561676 \t 100\tnan \t 70\t\n",
      "2 -0.0224476121366024 \t 100\t-0.014984668232500553 \t 100\t-0.030352091416716576 \t 62\t\n",
      "3 -0.01738281548023224 \t 100\t-0.014033298939466476 \t 100\t-0.041068077087402344 \t 80\t\n",
      "4 -0.017649944871664047 \t 100\t0.47844794392585754 \t 45\t-0.03457764908671379 \t 64\t\n",
      "5 -0.021525222808122635 \t 100\t-0.021855240687727928 \t 100\t-0.03758670389652252 \t 70\t\n",
      "6 -0.019161438569426537 \t 100\t0.3898318409919739 \t 32\tnan \t 87\t\n",
      "7 -0.016170140355825424 \t 100\t-0.02385716326534748 \t 100\t-0.0376320518553257 \t 99\t\n",
      "8 -0.018788166344165802 \t 100\t-0.0162932351231575 \t 100\tnan \t 84\t\n",
      "9 -0.015709877014160156 \t 100\t-0.023727906867861748 \t 100\t-0.03241001069545746 \t 56\t\n",
      "10 -0.01659485511481762 \t 100\t-0.020891938358545303 \t 93\t-0.04214881360530853 \t 100\t\n",
      "11 -0.017892584204673767 \t 100\t0.38851967453956604 \t 84\t-0.03559889271855354 \t 73\t\n",
      "12 -0.02751382440328598 \t 100\t-0.014553429558873177 \t 100\t-0.03961727395653725 \t 84\t\n",
      "13 -0.005160885397344828 \t 100\t-0.00486005237326026 \t 35\tnan \t 72\t\n",
      "14 -0.0182473286986351 \t 100\t-0.005463698413223028 \t 54\t-0.03767868131399155 \t 83\t\n",
      "15 -0.015638750046491623 \t 100\t-0.02134108543395996 \t 100\tnan \t 100\t\n",
      "16 -0.017549291253089905 \t 100\t-0.017842216417193413 \t 89\t-0.04155782237648964 \t 100\t\n",
      "17 -0.02026071958243847 \t 100\t-0.012180063873529434 \t 75\t-0.03442046791315079 \t 57\t\n",
      "18 -0.015217971056699753 \t 100\t-0.0169252697378397 \t 93\t-0.029249781742691994 \t 60\t\n",
      "19 -0.018360845744609833 \t 100\t-0.01175053883343935 \t 81\t-0.037273406982421875 \t 100\t\n",
      "20 -0.017532404512166977 \t 100\t-0.017664629966020584 \t 100\t-0.03970429673790932 \t 100\t\n",
      "21 -0.01752161793410778 \t 100\t-0.015194378793239594 \t 99\t-0.036794375628232956 \t 80\t\n",
      "22 -0.019472675397992134 \t 100\t-0.016553372144699097 \t 100\t-0.03525601327419281 \t 90\t\n",
      "23 -0.019631028175354004 \t 100\t-0.024234117940068245 \t 100\t-0.04546305909752846 \t 100\t\n",
      "24 -0.02342532016336918 \t 100\t-0.017288826406002045 \t 100\t-0.03811803460121155 \t 74\t\n",
      "25 -0.016829222440719604 \t 100\t-0.014531336724758148 \t 100\t-0.035925257951021194 \t 75\t\n",
      "26 -0.016718493774533272 \t 100\t-0.02366916462779045 \t 100\t-0.03204452618956566 \t 51\t\n",
      "27 -0.01849369890987873 \t 100\t-0.023591453209519386 \t 100\t-0.03362720459699631 \t 72\t\n",
      "28 -0.02163783647119999 \t 100\t-0.013212247751653194 \t 100\tnan \t 100\t\n",
      "29 -0.02241063117980957 \t 100\t0.4823077619075775 \t 24\t-0.03638428822159767 \t 87\t\n",
      "30 -0.01520923338830471 \t 100\t-0.016516000032424927 \t 100\t-0.029970692470669746 \t 94\t\n",
      "31 -0.016824064776301384 \t 100\t-0.018457401543855667 \t 100\tnan \t 100\t\n",
      "32 -0.019176138564944267 \t 100\t-0.026247825473546982 \t 100\t-0.03888406604528427 \t 100\t\n",
      "33 -0.02243013121187687 \t 100\t-0.016909316182136536 \t 100\t-0.03878110647201538 \t 87\t\n",
      "34 -0.01572442799806595 \t 97\t-0.022205837070941925 \t 100\t-0.036499619483947754 \t 59\t\n",
      "35 -0.02092151530086994 \t 100\t-0.020049909129738808 \t 100\t-0.041768211871385574 \t 100\t\n",
      "36 -0.017819590866565704 \t 100\t-0.01181698590517044 \t 100\t-0.03817269206047058 \t 99\t\n",
      "37 -0.018181052058935165 \t 100\t-0.013356165029108524 \t 100\t-0.032952506095170975 \t 52\t\n",
      "38 -0.01847507804632187 \t 100\t-0.02001212164759636 \t 100\t-0.03813357651233673 \t 87\t\n",
      "39 -0.019496850669384003 \t 100\t0.3823072016239166 \t 47\t-0.03862703964114189 \t 100\t\n",
      "40 -0.017193663865327835 \t 100\t-0.01971716620028019 \t 100\t-0.03522385284304619 \t 70\t\n",
      "41 -0.019292719662189484 \t 100\t-0.016202911734580994 \t 100\tnan \t 80\t\n",
      "42 -0.01881317049264908 \t 100\t-0.01668999344110489 \t 100\t-0.03641165792942047 \t 59\t\n",
      "43 -0.015561239793896675 \t 100\t-0.020110120996832848 \t 95\tnan \t 70\t\n",
      "44 -0.024624422192573547 \t 100\t-0.0212553758174181 \t 100\t-0.0369434580206871 \t 65\t\n",
      "45 -0.014353075064718723 \t 100\t0.46967944502830505 \t 42\tnan \t 100\t\n",
      "46 -0.015926895663142204 \t 100\t-0.01731344498693943 \t 100\t-0.04022841528058052 \t 87\t\n",
      "47 -0.0176262017339468 \t 100\t-0.008286318741738796 \t 100\tnan \t 99\t\n",
      "48 -0.016592560335993767 \t 100\t-0.02034095674753189 \t 100\t-0.03662276640534401 \t 78\t\n",
      "49 -0.020631376653909683 \t 100\t0.528744101524353 \t 27\t-0.027152687311172485 \t 68\t\n",
      "50 -0.02789953164756298 \t 100\t-0.019986605271697044 \t 100\tnan \t 74\t\n",
      "51 -0.020393628627061844 \t 100\t-0.017438333481550217 \t 100\t-0.037000931799411774 \t 61\t\n",
      "52 -0.020955218002200127 \t 100\t0.4174611270427704 \t 53\t-0.025595499202609062 \t 63\t\n",
      "53 -0.017578205093741417 \t 100\t-0.022489313036203384 \t 100\t-0.03768431767821312 \t 75\t\n",
      "54 -0.015403478406369686 \t 100\t-0.013650958426296711 \t 59\tnan \t 69\t\n",
      "55 -0.020112622529268265 \t 100\t-0.020171701908111572 \t 100\tnan \t 100\t\n",
      "56 -0.014753464609384537 \t 100\t0.37750717997550964 \t 44\t-0.03630013391375542 \t 65\t\n",
      "57 -0.01547251921147108 \t 100\t-0.017109118402004242 \t 100\tnan \t 77\t\n",
      "58 -0.016539525240659714 \t 100\t0.4395645558834076 \t 28\t-0.03846137225627899 \t 81\t\n",
      "59 -0.017964407801628113 \t 100\t-0.019457174465060234 \t 100\t-0.03405287116765976 \t 61\t\n",
      "60 -0.016430405899882317 \t 98\t-0.008017823100090027 \t 100\t-0.0377020500600338 \t 89\t\n",
      "61 -0.01704038865864277 \t 100\t-0.024233631789684296 \t 100\t-0.034052278846502304 \t 81\t\n",
      "62 -0.020616058260202408 \t 100\t-0.017528792843222618 \t 100\t-0.03714374825358391 \t 58\t\n",
      "63 -0.021578652784228325 \t 100\t-0.014155681245028973 \t 100\t-0.04431889206171036 \t 100\t\n",
      "64 -0.01612452231347561 \t 100\t0.19637762010097504 \t 91\t-0.04346981272101402 \t 100\t\n",
      "65 -0.020118366926908493 \t 100\t-0.0181212667375803 \t 100\tnan \t 75\t\n",
      "66 -0.01626192405819893 \t 100\t-0.016830526292324066 \t 62\t-0.028801321983337402 \t 53\t\n",
      "67 -0.01760745421051979 \t 100\t-0.021365726366639137 \t 100\t-0.037474166601896286 \t 100\t\n",
      "68 -0.016453616321086884 \t 100\t0.27624303102493286 \t 68\t-0.03879803791642189 \t 76\t\n",
      "69 -0.016948776319622993 \t 100\t-0.018254529684782028 \t 100\t-0.04275253042578697 \t 100\t\n",
      "70 -0.016928065568208694 \t 100\t-0.00646828580647707 \t 100\tnan \t 81\t\n",
      "71 -0.015113389119505882 \t 100\t-0.02274956926703453 \t 100\tnan \t 68\t\n",
      "72 -0.01795765943825245 \t 100\t-0.016773231327533722 \t 100\t-0.032662659883499146 \t 73\t\n",
      "73 -0.01314754318445921 \t 76\t-0.02207041345536709 \t 100\t-0.03135848790407181 \t 80\t\n",
      "74 -0.021452514454722404 \t 100\t-0.016113942489027977 \t 100\t-0.038540344685316086 \t 72\t\n",
      "75 -0.01979248598217964 \t 100\t-0.012854371219873428 \t 100\t-0.033259160816669464 \t 100\t\n",
      "76 -0.019990447908639908 \t 99\t-0.017633574083447456 \t 100\t-0.030607549473643303 \t 72\t\n",
      "77 -0.020795419812202454 \t 100\t-0.011558637022972107 \t 100\t-0.042650993913412094 \t 100\t\n",
      "78 -0.016268864274024963 \t 100\t-0.017348164692521095 \t 100\t-0.02704799361526966 \t 49\t\n",
      "79 -0.018526263535022736 \t 100\t-0.025812780484557152 \t 100\t-0.0439344085752964 \t 100\t\n",
      "80 -0.018434010446071625 \t 100\t-0.01584763452410698 \t 100\tnan \t 70\t\n",
      "81 -0.018588785082101822 \t 100\t-0.01036621443927288 \t 100\t-0.045028358697891235 \t 100\t\n",
      "82 -0.015930401161313057 \t 100\t-0.018289098516106606 \t 100\t-0.03227877616882324 \t 67\t\n",
      "83 -0.02007347345352173 \t 100\t-0.01923922449350357 \t 100\t-0.030857177451252937 \t 75\t\n",
      "84 -0.018084339797496796 \t 100\t-0.009689767844974995 \t 100\t-0.045013535767793655 \t 100\t\n",
      "85 -0.01717829331755638 \t 100\t-0.020958662033081055 \t 100\t-0.036819860339164734 \t 64\t\n",
      "86 -0.012434366159141064 \t 65\t-0.010700223036110401 \t 100\t-0.041212327778339386 \t 97\t\n",
      "87 -0.014781295321881771 \t 100\t-0.019608238711953163 \t 100\tnan \t 94\t\n",
      "88 -0.013010608963668346 \t 74\t-0.007524447049945593 \t 100\tnan \t 81\t\n",
      "89 -0.01631091721355915 \t 100\t-0.025536702945828438 \t 100\tnan \t 100\t\n",
      "90 -0.019947413355112076 \t 100\t0.013085853308439255 \t 100\t-0.02928202785551548 \t 61\t\n",
      "91 -0.026122011244297028 \t 100\t-0.012189674191176891 \t 97\t-0.03675536811351776 \t 68\t\n",
      "92 -0.01578795537352562 \t 100\t-0.01914323680102825 \t 100\t-0.03356565535068512 \t 72\t\n",
      "93 -0.01966898702085018 \t 100\t-0.019153641536831856 \t 100\tnan \t 92\t\n",
      "94 -0.02023380436003208 \t 100\t-0.021405044943094254 \t 100\t-0.03308878839015961 \t 52\t\n",
      "95 -0.019129283726215363 \t 100\t0.5588610768318176 \t 21\t-0.03272183611989021 \t 51\t\n",
      "96 -0.025273537263274193 \t 100\t-0.02364705689251423 \t 100\t-0.03524400293827057 \t 73\t\n",
      "97 -0.020598193630576134 \t 100\t-0.01679818332195282 \t 100\t-0.037512291222810745 \t 80\t\n",
      "98 -0.019600050523877144 \t 100\t-0.017028050497174263 \t 100\t-0.03568198159337044 \t 66\t\n",
      "99 -0.025054961442947388 \t 100\t-0.026042379438877106 \t 100\t-0.03443977236747742 \t 100\t\n"
     ]
    }
   ],
   "source": [
    "for i in range(reps):\n",
    "    print(i, end = ' ')\n",
    "    model_1, trace = train(data, **params_1)\n",
    "    model_2, trace = train(data, **params_2)\n",
    "    model_3, trace = train(data, **params_3)\n",
    "    print()\n",
    "    model_1.save_weights(filestr_1.format(i))\n",
    "    model_2.save_weights(filestr_2.format(i))\n",
    "    model_3.save_weights(filestr_3.format(i))"
   ]
  },
  {
   "cell_type": "markdown",
   "id": "7dbee70d-c8e0-45ba-a396-87da95618bc8",
   "metadata": {
    "tags": []
   },
   "source": [
    "## SQR $C$ Parametrization"
   ]
  },
  {
   "cell_type": "code",
   "execution_count": 31,
   "id": "4ec3e23c-a094-4507-b97a-41de6ac2f417",
   "metadata": {},
   "outputs": [],
   "source": [
    "# Experiment parameters\n",
    "num = 3\n",
    "reps = 100\n",
    "\n",
    "# Model parameters\n",
    "params_1 = {'loss':sqr, 'd': 6, 'output': 'relu'}\n",
    "params_2 = {'loss':square_sqr, 'd': 6, 'output': 'linear'}\n",
    "params_3 = {'loss':exp_sqr, 'd': 6, 'output': 'linear'}\n",
    "\n",
    "filestr = 'models/zenodo/c_sqr/set_{}/'.format(num)\n",
    "filestr_1 = filestr + 'relu/model_{}.h5'\n",
    "filestr_2 = filestr + 'square/model_{}.h5'\n",
    "filestr_3 = filestr + 'exponential/model_{}.h5'\n",
    "\n",
    "if not os.path.isdir(filestr):\n",
    "    os.mkdir(filestr)\n",
    "\n",
    "if not os.path.isdir(filestr + 'relu/'):\n",
    "    os.mkdir(filestr + 'relu/')\n",
    "    \n",
    "if not os.path.isdir(filestr + 'square/'):\n",
    "    os.mkdir(filestr + 'square/')\n",
    "\n",
    "if not os.path.isdir(filestr + 'exponential/'):\n",
    "    os.mkdir(filestr + 'exponential/')\n",
    "\n",
    "# Data parameters\n",
    "N = 10**6\n",
    "X = np.load('data/zenodo/fold/6/X_trn.npy')[:N]\n",
    "y = np.load('data/zenodo/fold/6/y_trn.npy')[:N].astype('float32')\n",
    "data, m, s = split_data(X, y)"
   ]
  },
  {
   "cell_type": "code",
   "execution_count": 32,
   "id": "1040f958-cad5-4942-b7cc-a74d00b38a5e",
   "metadata": {},
   "outputs": [
    {
     "name": "stdout",
     "output_type": "stream",
     "text": [
      "0 1.0040844678878784 \t 100\t107.27928924560547 \t 11\tnan \t 10\t\n",
      "1 0.9999991059303284 \t 100\tnan \t 10\tnan \t 10\t\n",
      "2 "
     ]
    },
    {
     "ename": "KeyboardInterrupt",
     "evalue": "",
     "output_type": "error",
     "traceback": [
      "\u001b[0;31m---------------------------------------------------------------------------\u001b[0m",
      "\u001b[0;31mKeyboardInterrupt\u001b[0m                         Traceback (most recent call last)",
      "Input \u001b[0;32mIn [32]\u001b[0m, in \u001b[0;36m<cell line: 1>\u001b[0;34m()\u001b[0m\n\u001b[1;32m      1\u001b[0m \u001b[38;5;28;01mfor\u001b[39;00m i \u001b[38;5;129;01min\u001b[39;00m \u001b[38;5;28mrange\u001b[39m(reps):\n\u001b[1;32m      2\u001b[0m     \u001b[38;5;28mprint\u001b[39m(i, end \u001b[38;5;241m=\u001b[39m \u001b[38;5;124m'\u001b[39m\u001b[38;5;124m \u001b[39m\u001b[38;5;124m'\u001b[39m)\n\u001b[0;32m----> 3\u001b[0m     model_1, trace \u001b[38;5;241m=\u001b[39m \u001b[43mtrain\u001b[49m\u001b[43m(\u001b[49m\u001b[43mdata\u001b[49m\u001b[43m,\u001b[49m\u001b[43m \u001b[49m\u001b[38;5;241;43m*\u001b[39;49m\u001b[38;5;241;43m*\u001b[39;49m\u001b[43mparams_1\u001b[49m\u001b[43m)\u001b[49m\n\u001b[1;32m      4\u001b[0m     model_2, trace \u001b[38;5;241m=\u001b[39m train(data, \u001b[38;5;241m*\u001b[39m\u001b[38;5;241m*\u001b[39mparams_2)\n\u001b[1;32m      5\u001b[0m     model_3, trace \u001b[38;5;241m=\u001b[39m train(data, \u001b[38;5;241m*\u001b[39m\u001b[38;5;241m*\u001b[39mparams_3)\n",
      "File \u001b[0;32m/clusterfs/ml4hep/shahzar/reweighting-schemes/utils/training.py:60\u001b[0m, in \u001b[0;36mtrain\u001b[0;34m(data, loss, d, hidden, output, dropout, optimizer, metrics, verbose)\u001b[0m\n\u001b[1;32m     54\u001b[0m model \u001b[38;5;241m=\u001b[39m create_model(loss, d, hidden, output, dropout, optimizer, metrics, verbose)      \n\u001b[1;32m     56\u001b[0m model\u001b[38;5;241m.\u001b[39mcompile(loss \u001b[38;5;241m=\u001b[39m loss,\n\u001b[1;32m     57\u001b[0m               optimizer \u001b[38;5;241m=\u001b[39m optimizer, \n\u001b[1;32m     58\u001b[0m               metrics \u001b[38;5;241m=\u001b[39m metrics)\n\u001b[0;32m---> 60\u001b[0m trace \u001b[38;5;241m=\u001b[39m \u001b[43mmodel\u001b[49m\u001b[38;5;241;43m.\u001b[39;49m\u001b[43mfit\u001b[49m\u001b[43m(\u001b[49m\u001b[43mX_train\u001b[49m\u001b[43m,\u001b[49m\u001b[43m \u001b[49m\n\u001b[1;32m     61\u001b[0m \u001b[43m                  \u001b[49m\u001b[43my_train\u001b[49m\u001b[43m,\u001b[49m\n\u001b[1;32m     62\u001b[0m \u001b[43m                  \u001b[49m\u001b[43mepochs\u001b[49m\u001b[43m \u001b[49m\u001b[38;5;241;43m=\u001b[39;49m\u001b[43m \u001b[49m\u001b[38;5;241;43m100\u001b[39;49m\u001b[43m,\u001b[49m\u001b[43m \u001b[49m\n\u001b[1;32m     63\u001b[0m \u001b[43m                  \u001b[49m\u001b[43mbatch_size\u001b[49m\u001b[43m \u001b[49m\u001b[38;5;241;43m=\u001b[39;49m\u001b[43m \u001b[49m\u001b[38;5;28;43mint\u001b[39;49m\u001b[43m(\u001b[49m\u001b[38;5;241;43m0.1\u001b[39;49m\u001b[38;5;241;43m*\u001b[39;49m\u001b[43mN\u001b[49m\u001b[43m)\u001b[49m\u001b[43m,\u001b[49m\u001b[43m \u001b[49m\n\u001b[1;32m     64\u001b[0m \u001b[43m                  \u001b[49m\u001b[43mvalidation_data\u001b[49m\u001b[43m \u001b[49m\u001b[38;5;241;43m=\u001b[39;49m\u001b[43m \u001b[49m\u001b[43m(\u001b[49m\u001b[43mX_test\u001b[49m\u001b[43m,\u001b[49m\u001b[43m \u001b[49m\u001b[43my_test\u001b[49m\u001b[43m)\u001b[49m\u001b[43m,\u001b[49m\n\u001b[1;32m     65\u001b[0m \u001b[43m                  \u001b[49m\u001b[43mcallbacks\u001b[49m\u001b[43m \u001b[49m\u001b[38;5;241;43m=\u001b[39;49m\u001b[43m \u001b[49m\u001b[43m[\u001b[49m\u001b[43mearlystopping\u001b[49m\u001b[43m]\u001b[49m\u001b[43m,\u001b[49m\u001b[43m \u001b[49m\n\u001b[1;32m     66\u001b[0m \u001b[43m                  \u001b[49m\u001b[43mverbose\u001b[49m\u001b[43m \u001b[49m\u001b[38;5;241;43m=\u001b[39;49m\u001b[43m \u001b[49m\u001b[43mverbose\u001b[49m\u001b[43m)\u001b[49m\n\u001b[1;32m     67\u001b[0m \u001b[38;5;28mprint\u001b[39m(trace\u001b[38;5;241m.\u001b[39mhistory[\u001b[38;5;124m'\u001b[39m\u001b[38;5;124mval_loss\u001b[39m\u001b[38;5;124m'\u001b[39m][\u001b[38;5;241m-\u001b[39m\u001b[38;5;241m1\u001b[39m], \u001b[38;5;124m'\u001b[39m\u001b[38;5;130;01m\\t\u001b[39;00m\u001b[38;5;124m'\u001b[39m, \u001b[38;5;28mlen\u001b[39m(trace\u001b[38;5;241m.\u001b[39mhistory[\u001b[38;5;124m'\u001b[39m\u001b[38;5;124mval_loss\u001b[39m\u001b[38;5;124m'\u001b[39m]), end \u001b[38;5;241m=\u001b[39m \u001b[38;5;124m'\u001b[39m\u001b[38;5;130;01m\\t\u001b[39;00m\u001b[38;5;124m'\u001b[39m)\n\u001b[1;32m     69\u001b[0m \u001b[38;5;28;01mreturn\u001b[39;00m model, trace\n",
      "File \u001b[0;32m/clusterfs/ml4hep/shahzar/miniconda/envs/multifold/lib/python3.10/site-packages/keras/utils/traceback_utils.py:64\u001b[0m, in \u001b[0;36mfilter_traceback.<locals>.error_handler\u001b[0;34m(*args, **kwargs)\u001b[0m\n\u001b[1;32m     62\u001b[0m filtered_tb \u001b[38;5;241m=\u001b[39m \u001b[38;5;28;01mNone\u001b[39;00m\n\u001b[1;32m     63\u001b[0m \u001b[38;5;28;01mtry\u001b[39;00m:\n\u001b[0;32m---> 64\u001b[0m   \u001b[38;5;28;01mreturn\u001b[39;00m \u001b[43mfn\u001b[49m\u001b[43m(\u001b[49m\u001b[38;5;241;43m*\u001b[39;49m\u001b[43margs\u001b[49m\u001b[43m,\u001b[49m\u001b[43m \u001b[49m\u001b[38;5;241;43m*\u001b[39;49m\u001b[38;5;241;43m*\u001b[39;49m\u001b[43mkwargs\u001b[49m\u001b[43m)\u001b[49m\n\u001b[1;32m     65\u001b[0m \u001b[38;5;28;01mexcept\u001b[39;00m \u001b[38;5;167;01mException\u001b[39;00m \u001b[38;5;28;01mas\u001b[39;00m e:  \u001b[38;5;66;03m# pylint: disable=broad-except\u001b[39;00m\n\u001b[1;32m     66\u001b[0m   filtered_tb \u001b[38;5;241m=\u001b[39m _process_traceback_frames(e\u001b[38;5;241m.\u001b[39m__traceback__)\n",
      "File \u001b[0;32m/clusterfs/ml4hep/shahzar/miniconda/envs/multifold/lib/python3.10/site-packages/keras/engine/training.py:1420\u001b[0m, in \u001b[0;36mModel.fit\u001b[0;34m(self, x, y, batch_size, epochs, verbose, callbacks, validation_split, validation_data, shuffle, class_weight, sample_weight, initial_epoch, steps_per_epoch, validation_steps, validation_batch_size, validation_freq, max_queue_size, workers, use_multiprocessing)\u001b[0m\n\u001b[1;32m   1406\u001b[0m \u001b[38;5;28;01mif\u001b[39;00m \u001b[38;5;28mgetattr\u001b[39m(\u001b[38;5;28mself\u001b[39m, \u001b[38;5;124m'\u001b[39m\u001b[38;5;124m_eval_data_handler\u001b[39m\u001b[38;5;124m'\u001b[39m, \u001b[38;5;28;01mNone\u001b[39;00m) \u001b[38;5;129;01mis\u001b[39;00m \u001b[38;5;28;01mNone\u001b[39;00m:\n\u001b[1;32m   1407\u001b[0m   \u001b[38;5;28mself\u001b[39m\u001b[38;5;241m.\u001b[39m_eval_data_handler \u001b[38;5;241m=\u001b[39m data_adapter\u001b[38;5;241m.\u001b[39mget_data_handler(\n\u001b[1;32m   1408\u001b[0m       x\u001b[38;5;241m=\u001b[39mval_x,\n\u001b[1;32m   1409\u001b[0m       y\u001b[38;5;241m=\u001b[39mval_y,\n\u001b[0;32m   (...)\u001b[0m\n\u001b[1;32m   1418\u001b[0m       model\u001b[38;5;241m=\u001b[39m\u001b[38;5;28mself\u001b[39m,\n\u001b[1;32m   1419\u001b[0m       steps_per_execution\u001b[38;5;241m=\u001b[39m\u001b[38;5;28mself\u001b[39m\u001b[38;5;241m.\u001b[39m_steps_per_execution)\n\u001b[0;32m-> 1420\u001b[0m val_logs \u001b[38;5;241m=\u001b[39m \u001b[38;5;28;43mself\u001b[39;49m\u001b[38;5;241;43m.\u001b[39;49m\u001b[43mevaluate\u001b[49m\u001b[43m(\u001b[49m\n\u001b[1;32m   1421\u001b[0m \u001b[43m    \u001b[49m\u001b[43mx\u001b[49m\u001b[38;5;241;43m=\u001b[39;49m\u001b[43mval_x\u001b[49m\u001b[43m,\u001b[49m\n\u001b[1;32m   1422\u001b[0m \u001b[43m    \u001b[49m\u001b[43my\u001b[49m\u001b[38;5;241;43m=\u001b[39;49m\u001b[43mval_y\u001b[49m\u001b[43m,\u001b[49m\n\u001b[1;32m   1423\u001b[0m \u001b[43m    \u001b[49m\u001b[43msample_weight\u001b[49m\u001b[38;5;241;43m=\u001b[39;49m\u001b[43mval_sample_weight\u001b[49m\u001b[43m,\u001b[49m\n\u001b[1;32m   1424\u001b[0m \u001b[43m    \u001b[49m\u001b[43mbatch_size\u001b[49m\u001b[38;5;241;43m=\u001b[39;49m\u001b[43mvalidation_batch_size\u001b[49m\u001b[43m \u001b[49m\u001b[38;5;129;43;01mor\u001b[39;49;00m\u001b[43m \u001b[49m\u001b[43mbatch_size\u001b[49m\u001b[43m,\u001b[49m\n\u001b[1;32m   1425\u001b[0m \u001b[43m    \u001b[49m\u001b[43msteps\u001b[49m\u001b[38;5;241;43m=\u001b[39;49m\u001b[43mvalidation_steps\u001b[49m\u001b[43m,\u001b[49m\n\u001b[1;32m   1426\u001b[0m \u001b[43m    \u001b[49m\u001b[43mcallbacks\u001b[49m\u001b[38;5;241;43m=\u001b[39;49m\u001b[43mcallbacks\u001b[49m\u001b[43m,\u001b[49m\n\u001b[1;32m   1427\u001b[0m \u001b[43m    \u001b[49m\u001b[43mmax_queue_size\u001b[49m\u001b[38;5;241;43m=\u001b[39;49m\u001b[43mmax_queue_size\u001b[49m\u001b[43m,\u001b[49m\n\u001b[1;32m   1428\u001b[0m \u001b[43m    \u001b[49m\u001b[43mworkers\u001b[49m\u001b[38;5;241;43m=\u001b[39;49m\u001b[43mworkers\u001b[49m\u001b[43m,\u001b[49m\n\u001b[1;32m   1429\u001b[0m \u001b[43m    \u001b[49m\u001b[43muse_multiprocessing\u001b[49m\u001b[38;5;241;43m=\u001b[39;49m\u001b[43muse_multiprocessing\u001b[49m\u001b[43m,\u001b[49m\n\u001b[1;32m   1430\u001b[0m \u001b[43m    \u001b[49m\u001b[43mreturn_dict\u001b[49m\u001b[38;5;241;43m=\u001b[39;49m\u001b[38;5;28;43;01mTrue\u001b[39;49;00m\u001b[43m,\u001b[49m\n\u001b[1;32m   1431\u001b[0m \u001b[43m    \u001b[49m\u001b[43m_use_cached_eval_dataset\u001b[49m\u001b[38;5;241;43m=\u001b[39;49m\u001b[38;5;28;43;01mTrue\u001b[39;49;00m\u001b[43m)\u001b[49m\n\u001b[1;32m   1432\u001b[0m val_logs \u001b[38;5;241m=\u001b[39m {\u001b[38;5;124m'\u001b[39m\u001b[38;5;124mval_\u001b[39m\u001b[38;5;124m'\u001b[39m \u001b[38;5;241m+\u001b[39m name: val \u001b[38;5;28;01mfor\u001b[39;00m name, val \u001b[38;5;129;01min\u001b[39;00m val_logs\u001b[38;5;241m.\u001b[39mitems()}\n\u001b[1;32m   1433\u001b[0m epoch_logs\u001b[38;5;241m.\u001b[39mupdate(val_logs)\n",
      "File \u001b[0;32m/clusterfs/ml4hep/shahzar/miniconda/envs/multifold/lib/python3.10/site-packages/keras/utils/traceback_utils.py:64\u001b[0m, in \u001b[0;36mfilter_traceback.<locals>.error_handler\u001b[0;34m(*args, **kwargs)\u001b[0m\n\u001b[1;32m     62\u001b[0m filtered_tb \u001b[38;5;241m=\u001b[39m \u001b[38;5;28;01mNone\u001b[39;00m\n\u001b[1;32m     63\u001b[0m \u001b[38;5;28;01mtry\u001b[39;00m:\n\u001b[0;32m---> 64\u001b[0m   \u001b[38;5;28;01mreturn\u001b[39;00m \u001b[43mfn\u001b[49m\u001b[43m(\u001b[49m\u001b[38;5;241;43m*\u001b[39;49m\u001b[43margs\u001b[49m\u001b[43m,\u001b[49m\u001b[43m \u001b[49m\u001b[38;5;241;43m*\u001b[39;49m\u001b[38;5;241;43m*\u001b[39;49m\u001b[43mkwargs\u001b[49m\u001b[43m)\u001b[49m\n\u001b[1;32m     65\u001b[0m \u001b[38;5;28;01mexcept\u001b[39;00m \u001b[38;5;167;01mException\u001b[39;00m \u001b[38;5;28;01mas\u001b[39;00m e:  \u001b[38;5;66;03m# pylint: disable=broad-except\u001b[39;00m\n\u001b[1;32m     66\u001b[0m   filtered_tb \u001b[38;5;241m=\u001b[39m _process_traceback_frames(e\u001b[38;5;241m.\u001b[39m__traceback__)\n",
      "File \u001b[0;32m/clusterfs/ml4hep/shahzar/miniconda/envs/multifold/lib/python3.10/site-packages/keras/engine/training.py:1710\u001b[0m, in \u001b[0;36mModel.evaluate\u001b[0;34m(self, x, y, batch_size, verbose, sample_weight, steps, callbacks, max_queue_size, workers, use_multiprocessing, return_dict, **kwargs)\u001b[0m\n\u001b[1;32m   1708\u001b[0m \u001b[38;5;28mself\u001b[39m\u001b[38;5;241m.\u001b[39m_test_counter\u001b[38;5;241m.\u001b[39massign(\u001b[38;5;241m0\u001b[39m)\n\u001b[1;32m   1709\u001b[0m callbacks\u001b[38;5;241m.\u001b[39mon_test_begin()\n\u001b[0;32m-> 1710\u001b[0m \u001b[38;5;28;01mfor\u001b[39;00m _, iterator \u001b[38;5;129;01min\u001b[39;00m data_handler\u001b[38;5;241m.\u001b[39menumerate_epochs():  \u001b[38;5;66;03m# Single epoch.\u001b[39;00m\n\u001b[1;32m   1711\u001b[0m   \u001b[38;5;28mself\u001b[39m\u001b[38;5;241m.\u001b[39mreset_metrics()\n\u001b[1;32m   1712\u001b[0m   \u001b[38;5;28;01mwith\u001b[39;00m data_handler\u001b[38;5;241m.\u001b[39mcatch_stop_iteration():\n",
      "File \u001b[0;32m/clusterfs/ml4hep/shahzar/miniconda/envs/multifold/lib/python3.10/site-packages/keras/engine/data_adapter.py:1191\u001b[0m, in \u001b[0;36mDataHandler.enumerate_epochs\u001b[0;34m(self)\u001b[0m\n\u001b[1;32m   1189\u001b[0m \u001b[38;5;124;03m\"\"\"Yields `(epoch, tf.data.Iterator)`.\"\"\"\u001b[39;00m\n\u001b[1;32m   1190\u001b[0m \u001b[38;5;28;01mwith\u001b[39;00m \u001b[38;5;28mself\u001b[39m\u001b[38;5;241m.\u001b[39m_truncate_execution_to_epoch():\n\u001b[0;32m-> 1191\u001b[0m   data_iterator \u001b[38;5;241m=\u001b[39m \u001b[38;5;28;43miter\u001b[39;49m\u001b[43m(\u001b[49m\u001b[38;5;28;43mself\u001b[39;49m\u001b[38;5;241;43m.\u001b[39;49m\u001b[43m_dataset\u001b[49m\u001b[43m)\u001b[49m\n\u001b[1;32m   1192\u001b[0m   \u001b[38;5;28;01mfor\u001b[39;00m epoch \u001b[38;5;129;01min\u001b[39;00m \u001b[38;5;28mrange\u001b[39m(\u001b[38;5;28mself\u001b[39m\u001b[38;5;241m.\u001b[39m_initial_epoch, \u001b[38;5;28mself\u001b[39m\u001b[38;5;241m.\u001b[39m_epochs):\n\u001b[1;32m   1193\u001b[0m     \u001b[38;5;28;01mif\u001b[39;00m \u001b[38;5;28mself\u001b[39m\u001b[38;5;241m.\u001b[39m_insufficient_data:  \u001b[38;5;66;03m# Set by `catch_stop_iteration`.\u001b[39;00m\n",
      "File \u001b[0;32m/clusterfs/ml4hep/shahzar/miniconda/envs/multifold/lib/python3.10/site-packages/tensorflow/python/data/ops/dataset_ops.py:486\u001b[0m, in \u001b[0;36mDatasetV2.__iter__\u001b[0;34m(self)\u001b[0m\n\u001b[1;32m    484\u001b[0m \u001b[38;5;28;01mif\u001b[39;00m context\u001b[38;5;241m.\u001b[39mexecuting_eagerly() \u001b[38;5;129;01mor\u001b[39;00m ops\u001b[38;5;241m.\u001b[39minside_function():\n\u001b[1;32m    485\u001b[0m   \u001b[38;5;28;01mwith\u001b[39;00m ops\u001b[38;5;241m.\u001b[39mcolocate_with(\u001b[38;5;28mself\u001b[39m\u001b[38;5;241m.\u001b[39m_variant_tensor):\n\u001b[0;32m--> 486\u001b[0m     \u001b[38;5;28;01mreturn\u001b[39;00m \u001b[43miterator_ops\u001b[49m\u001b[38;5;241;43m.\u001b[39;49m\u001b[43mOwnedIterator\u001b[49m\u001b[43m(\u001b[49m\u001b[38;5;28;43mself\u001b[39;49m\u001b[43m)\u001b[49m\n\u001b[1;32m    487\u001b[0m \u001b[38;5;28;01melse\u001b[39;00m:\n\u001b[1;32m    488\u001b[0m   \u001b[38;5;28;01mraise\u001b[39;00m \u001b[38;5;167;01mRuntimeError\u001b[39;00m(\u001b[38;5;124m\"\u001b[39m\u001b[38;5;124m`tf.data.Dataset` only supports Python-style \u001b[39m\u001b[38;5;124m\"\u001b[39m\n\u001b[1;32m    489\u001b[0m                      \u001b[38;5;124m\"\u001b[39m\u001b[38;5;124miteration in eager mode or within tf.function.\u001b[39m\u001b[38;5;124m\"\u001b[39m)\n",
      "File \u001b[0;32m/clusterfs/ml4hep/shahzar/miniconda/envs/multifold/lib/python3.10/site-packages/tensorflow/python/data/ops/iterator_ops.py:755\u001b[0m, in \u001b[0;36mOwnedIterator.__init__\u001b[0;34m(self, dataset, components, element_spec)\u001b[0m\n\u001b[1;32m    751\u001b[0m   \u001b[38;5;28;01mif\u001b[39;00m (components \u001b[38;5;129;01mis\u001b[39;00m \u001b[38;5;129;01mnot\u001b[39;00m \u001b[38;5;28;01mNone\u001b[39;00m \u001b[38;5;129;01mor\u001b[39;00m element_spec \u001b[38;5;129;01mis\u001b[39;00m \u001b[38;5;129;01mnot\u001b[39;00m \u001b[38;5;28;01mNone\u001b[39;00m):\n\u001b[1;32m    752\u001b[0m     \u001b[38;5;28;01mraise\u001b[39;00m \u001b[38;5;167;01mValueError\u001b[39;00m(\n\u001b[1;32m    753\u001b[0m         \u001b[38;5;124m\"\u001b[39m\u001b[38;5;124mWhen `dataset` is provided, `element_spec` and `components` must \u001b[39m\u001b[38;5;124m\"\u001b[39m\n\u001b[1;32m    754\u001b[0m         \u001b[38;5;124m\"\u001b[39m\u001b[38;5;124mnot be specified.\u001b[39m\u001b[38;5;124m\"\u001b[39m)\n\u001b[0;32m--> 755\u001b[0m   \u001b[38;5;28;43mself\u001b[39;49m\u001b[38;5;241;43m.\u001b[39;49m\u001b[43m_create_iterator\u001b[49m\u001b[43m(\u001b[49m\u001b[43mdataset\u001b[49m\u001b[43m)\u001b[49m\n\u001b[1;32m    757\u001b[0m \u001b[38;5;28mself\u001b[39m\u001b[38;5;241m.\u001b[39m_get_next_call_count \u001b[38;5;241m=\u001b[39m \u001b[38;5;241m0\u001b[39m\n",
      "File \u001b[0;32m/clusterfs/ml4hep/shahzar/miniconda/envs/multifold/lib/python3.10/site-packages/tensorflow/python/data/ops/iterator_ops.py:787\u001b[0m, in \u001b[0;36mOwnedIterator._create_iterator\u001b[0;34m(self, dataset)\u001b[0m\n\u001b[1;32m    782\u001b[0m \u001b[38;5;28;01melse\u001b[39;00m:\n\u001b[1;32m    783\u001b[0m   \u001b[38;5;28mself\u001b[39m\u001b[38;5;241m.\u001b[39m_iterator_resource, \u001b[38;5;28mself\u001b[39m\u001b[38;5;241m.\u001b[39m_deleter \u001b[38;5;241m=\u001b[39m (\n\u001b[1;32m    784\u001b[0m       gen_dataset_ops\u001b[38;5;241m.\u001b[39manonymous_iterator_v2(\n\u001b[1;32m    785\u001b[0m           output_types\u001b[38;5;241m=\u001b[39m\u001b[38;5;28mself\u001b[39m\u001b[38;5;241m.\u001b[39m_flat_output_types,\n\u001b[1;32m    786\u001b[0m           output_shapes\u001b[38;5;241m=\u001b[39m\u001b[38;5;28mself\u001b[39m\u001b[38;5;241m.\u001b[39m_flat_output_shapes))\n\u001b[0;32m--> 787\u001b[0m   \u001b[43mgen_dataset_ops\u001b[49m\u001b[38;5;241;43m.\u001b[39;49m\u001b[43mmake_iterator\u001b[49m\u001b[43m(\u001b[49m\u001b[43mds_variant\u001b[49m\u001b[43m,\u001b[49m\u001b[43m \u001b[49m\u001b[38;5;28;43mself\u001b[39;49m\u001b[38;5;241;43m.\u001b[39;49m\u001b[43m_iterator_resource\u001b[49m\u001b[43m)\u001b[49m\n\u001b[1;32m    788\u001b[0m   \u001b[38;5;66;03m# Delete the resource when this object is deleted\u001b[39;00m\n\u001b[1;32m    789\u001b[0m   \u001b[38;5;28mself\u001b[39m\u001b[38;5;241m.\u001b[39m_resource_deleter \u001b[38;5;241m=\u001b[39m IteratorResourceDeleter(\n\u001b[1;32m    790\u001b[0m       handle\u001b[38;5;241m=\u001b[39m\u001b[38;5;28mself\u001b[39m\u001b[38;5;241m.\u001b[39m_iterator_resource,\n\u001b[1;32m    791\u001b[0m       deleter\u001b[38;5;241m=\u001b[39m\u001b[38;5;28mself\u001b[39m\u001b[38;5;241m.\u001b[39m_deleter)\n",
      "File \u001b[0;32m/clusterfs/ml4hep/shahzar/miniconda/envs/multifold/lib/python3.10/site-packages/tensorflow/python/ops/gen_dataset_ops.py:3315\u001b[0m, in \u001b[0;36mmake_iterator\u001b[0;34m(dataset, iterator, name)\u001b[0m\n\u001b[1;32m   3313\u001b[0m \u001b[38;5;28;01mif\u001b[39;00m tld\u001b[38;5;241m.\u001b[39mis_eager:\n\u001b[1;32m   3314\u001b[0m   \u001b[38;5;28;01mtry\u001b[39;00m:\n\u001b[0;32m-> 3315\u001b[0m     _result \u001b[38;5;241m=\u001b[39m \u001b[43mpywrap_tfe\u001b[49m\u001b[38;5;241;43m.\u001b[39;49m\u001b[43mTFE_Py_FastPathExecute\u001b[49m\u001b[43m(\u001b[49m\n\u001b[1;32m   3316\u001b[0m \u001b[43m      \u001b[49m\u001b[43m_ctx\u001b[49m\u001b[43m,\u001b[49m\u001b[43m \u001b[49m\u001b[38;5;124;43m\"\u001b[39;49m\u001b[38;5;124;43mMakeIterator\u001b[39;49m\u001b[38;5;124;43m\"\u001b[39;49m\u001b[43m,\u001b[49m\u001b[43m \u001b[49m\u001b[43mname\u001b[49m\u001b[43m,\u001b[49m\u001b[43m \u001b[49m\u001b[43mdataset\u001b[49m\u001b[43m,\u001b[49m\u001b[43m \u001b[49m\u001b[43miterator\u001b[49m\u001b[43m)\u001b[49m\n\u001b[1;32m   3317\u001b[0m     \u001b[38;5;28;01mreturn\u001b[39;00m _result\n\u001b[1;32m   3318\u001b[0m   \u001b[38;5;28;01mexcept\u001b[39;00m _core\u001b[38;5;241m.\u001b[39m_NotOkStatusException \u001b[38;5;28;01mas\u001b[39;00m e:\n",
      "\u001b[0;31mKeyboardInterrupt\u001b[0m: "
     ]
    }
   ],
   "source": [
    "for i in range(reps):\n",
    "    print(i, end = ' ')\n",
    "    model_1, trace = train(data, **params_1)\n",
    "    model_2, trace = train(data, **params_2)\n",
    "    model_3, trace = train(data, **params_3)\n",
    "    print()\n",
    "    model_1.save_weights(filestr_1.format(i))\n",
    "    model_2.save_weights(filestr_2.format(i))\n",
    "    model_3.save_weights(filestr_3.format(i))"
   ]
  },
  {
   "cell_type": "markdown",
   "id": "3b5fe65d-8a58-41f6-8333-2b62abdd86e9",
   "metadata": {
    "jp-MarkdownHeadingCollapsed": true,
    "tags": []
   },
   "source": [
    "## $p$-MSE"
   ]
  },
  {
   "cell_type": "code",
   "execution_count": 53,
   "id": "d1807b2a-ba3e-426d-9dfe-48fcae0781b5",
   "metadata": {},
   "outputs": [],
   "source": [
    "# Physics\n",
    "#num = 0    # p* search\n",
    "#num = 1    # p*\n",
    "#num = 2     # p*\n",
    "#num = 3    # p* search\n",
    "num = 4\n",
    "reps = 100\n",
    "\n",
    "# File parameters\n",
    "filestr = 'models/zenodo/ab_mse/set_{}/'.format(num)\n",
    "mse_filestr = filestr + 'model_{}.h5'\n",
    "\n",
    "if not os.path.isdir(filestr):\n",
    "    os.mkdir(filestr)\n",
    "\n",
    "# Data parameters\n",
    "N = 10**6\n",
    "X = np.load('data/zenodo/fold/6/X_trn.npy')[:N]\n",
    "y = np.load('data/zenodo/fold/6/y_trn.npy')[:N].astype('float32')\n",
    "data, m, s = split_data(X, y)\n",
    "p_star = 1.92"
   ]
  },
  {
   "cell_type": "code",
   "execution_count": 54,
   "id": "c23f0645-9cef-4374-b146-30e4f857e402",
   "metadata": {},
   "outputs": [
    {
     "name": "stdout",
     "output_type": "stream",
     "text": [
      "0\t0.2584822177886963 \t 81\t\n",
      "1\t0.25847384333610535 \t 100\t\n",
      "2\t0.2584572434425354 \t 100\t\n",
      "3\t0.25845643877983093 \t 100\t\n",
      "4\t0.25845643877983093 \t 97\t\n",
      "5\t0.2584584951400757 \t 100\t\n",
      "6\t0.25849199295043945 \t 100\t\n",
      "7\t0.2585056722164154 \t 79\t\n",
      "8\t0.2584872841835022 \t 100\t\n",
      "9\t0.2584959864616394 \t 100\t\n",
      "10\t0.2584089934825897 \t 100\t\n",
      "11\t0.2585340142250061 \t 100\t\n",
      "12\t0.2585195302963257 \t 83\t\n",
      "13\t0.25863194465637207 \t 97\t\n",
      "14\t0.2584682106971741 \t 90\t\n",
      "15\t0.2584628760814667 \t 100\t\n",
      "16\t0.2586095631122589 \t 72\t\n",
      "17\t0.25851964950561523 \t 80\t\n",
      "18\t0.25857090950012207 \t 100\t\n",
      "19\t0.25849848985671997 \t 84\t\n",
      "20\t0.25853657722473145 \t 91\t\n",
      "21\t0.25850167870521545 \t 100\t\n",
      "22\t0.2585095465183258 \t 78\t\n",
      "23\t0.2584724724292755 \t 95\t\n",
      "24\t0.258541464805603 \t 79\t\n",
      "25\t0.258373498916626 \t 100\t\n",
      "26\t0.2584589421749115 \t 100\t\n",
      "27\t0.25842830538749695 \t 100\t\n",
      "28\t0.25862568616867065 \t 75\t\n",
      "29\t0.25850483775138855 \t 90\t\n",
      "30\t0.25844675302505493 \t 93\t\n",
      "31\t0.2583170235157013 \t 100\t\n",
      "32\t0.2585471272468567 \t 100\t\n",
      "33\t0.25858771800994873 \t 100\t\n",
      "34\t0.2587240934371948 \t 94\t\n",
      "35\t0.2584533989429474 \t 100\t\n",
      "36\t0.25852450728416443 \t 100\t\n",
      "37\t0.2584855556488037 \t 100\t\n",
      "38\t0.25845909118652344 \t 100\t\n",
      "39\t0.25845497846603394 \t 95\t\n",
      "40\t0.25852230191230774 \t 100\t\n",
      "41\t0.25844284892082214 \t 100\t\n",
      "42\t0.2583613693714142 \t 100\t\n",
      "43\t0.258459210395813 \t 100\t\n",
      "44\t0.25851622223854065 \t 100\t\n",
      "45\t0.2585292160511017 \t 100\t\n",
      "46\t0.25852254033088684 \t 100\t\n",
      "47\t0.25848889350891113 \t 100\t\n",
      "48\t0.25843825936317444 \t 100\t\n",
      "49\t0.25848016142845154 \t 100\t\n",
      "50\t0.2583853602409363 \t 100\t\n",
      "51\t0.2585287392139435 \t 100\t\n",
      "52\t0.25847503542900085 \t 89\t\n",
      "53\t0.2584981620311737 \t 100\t\n",
      "54\t0.25839582085609436 \t 100\t\n",
      "55\t0.25848808884620667 \t 100\t\n",
      "56\t0.258680135011673 \t 100\t\n",
      "57\t0.258419007062912 \t 100\t\n",
      "58\t0.2584497332572937 \t 100\t\n",
      "59\t0.2584320604801178 \t 100\t\n",
      "60\t0.258405864238739 \t 100\t\n",
      "61\t0.2584332227706909 \t 100\t\n",
      "62\t0.25860726833343506 \t 75\t\n",
      "63\t0.25844085216522217 \t 100\t\n",
      "64\t0.2584770917892456 \t 100\t\n",
      "65\t0.25847339630126953 \t 100\t\n",
      "66\t0.25854140520095825 \t 93\t\n",
      "67\t0.2584590017795563 \t 100\t\n",
      "68\t0.25842830538749695 \t 100\t\n",
      "69\t0.258437842130661 \t 100\t\n",
      "70\t0.2584860324859619 \t 100\t\n",
      "71\t0.25860413908958435 \t 84\t\n",
      "72\t0.2585744857788086 \t 100\t\n",
      "73\t0.25841856002807617 \t 100\t\n",
      "74\t0.2584814131259918 \t 100\t\n",
      "75\t0.2584145963191986 \t 100\t\n",
      "76\t0.25843268632888794 \t 90\t\n",
      "77\t0.25841426849365234 \t 100\t\n",
      "78\t0.25856199860572815 \t 86\t\n",
      "79\t0.2586449384689331 \t 73\t\n",
      "80\t0.25844523310661316 \t 96\t\n",
      "81\t0.258454829454422 \t 100\t\n",
      "82\t0.2583918869495392 \t 100\t\n",
      "83\t0.258493036031723 \t 91\t\n",
      "84\t0.2584387958049774 \t 100\t\n",
      "85\t0.25846078991889954 \t 98\t\n",
      "86\t0.2584332525730133 \t 95\t\n",
      "87\t0.2583865821361542 \t 100\t\n",
      "88\t0.2583774924278259 \t 100\t\n",
      "89\t0.25849878787994385 \t 100\t\n",
      "90\t0.2584865689277649 \t 100\t\n",
      "91\t0.2584626376628876 \t 100\t\n",
      "92\t0.2584511637687683 \t 100\t\n",
      "93\t0.25854215025901794 \t 89\t\n",
      "94\t0.25848525762557983 \t 93\t\n",
      "95\t0.2584191858768463 \t 100\t\n",
      "96\t0.258459210395813 \t 91\t\n",
      "97\t0.2585427463054657 \t 100\t\n",
      "98\t0.2584463953971863 \t 100\t\n",
      "99\t0.2585805058479309 \t 74\t\n"
     ]
    }
   ],
   "source": [
    "params = {'loss': get_mse(p_star), 'd': 4}\n",
    "for i in range(reps):\n",
    "    print(i, end = '\\t')\n",
    "    model, trace = train(data, **params)\n",
    "    model.save_weights(mse_filestr.format(i))\n",
    "    print()"
   ]
  },
  {
   "cell_type": "markdown",
   "id": "44ffd92e-0b5f-49b1-93a3-b88f2c9c588f",
   "metadata": {
    "jp-MarkdownHeadingCollapsed": true,
    "tags": []
   },
   "source": [
    "## $r$-SQR"
   ]
  },
  {
   "cell_type": "code",
   "execution_count": 55,
   "id": "d6b57dc5-b9e9-4a65-a0ec-93b2e70a4ba6",
   "metadata": {},
   "outputs": [],
   "source": [
    "# Physics\n",
    "#num = 0 (r-SQR search)\n",
    "#num = 1    # r*\n",
    "#num = 2     # r*\n",
    "num = 4\n",
    "reps = 100\n",
    "\n",
    "# File parameters\n",
    "filestr = 'models/zenodo/ab_sqr/set_{}/'.format(num)\n",
    "sqr_filestr = filestr + 'model_{}.h5'\n",
    "\n",
    "if not os.path.isdir(filestr):\n",
    "    os.mkdir(filestr)\n",
    "\n",
    "# Data parameters\n",
    "N = 10**6\n",
    "X = np.load('data/zenodo/fold/6/X_trn.npy')[:N]\n",
    "y = np.load('data/zenodo/fold/6/y_trn.npy')[:N].astype('float32')\n",
    "data, m, s = split_data(X, y)\n",
    "\n",
    "r_star = -0.25"
   ]
  },
  {
   "cell_type": "code",
   "execution_count": 56,
   "id": "137057ee-156c-4313-b3ef-6c584743c39a",
   "metadata": {},
   "outputs": [
    {
     "name": "stdout",
     "output_type": "stream",
     "text": [
      "0\t0.9889824390411377 \t 100\t\n",
      "1\t0.9890187382698059 \t 100\t\n",
      "2\t0.9889730215072632 \t 100\t\n",
      "3\t0.9890350699424744 \t 100\t\n",
      "4\t0.9889503717422485 \t 100\t\n",
      "5\t0.9889467358589172 \t 100\t\n",
      "6\t0.9890879392623901 \t 100\t\n",
      "7\t0.98903489112854 \t 100\t\n",
      "8\t0.9889870285987854 \t 100\t\n",
      "9\t0.9889166951179504 \t 100\t\n",
      "10\t0.9888890385627747 \t 100\t\n",
      "11\t0.9890771508216858 \t 100\t\n",
      "12\t0.9889781475067139 \t 100\t\n",
      "13\t0.989056408405304 \t 100\t\n",
      "14\t0.9890078902244568 \t 100\t\n",
      "15\t0.9888905882835388 \t 100\t\n",
      "16\t0.9888085722923279 \t 100\t\n",
      "17\t0.9889366030693054 \t 100\t\n",
      "18\t0.9889494776725769 \t 100\t\n",
      "19\t0.9889892339706421 \t 100\t\n",
      "20\t0.9888144731521606 \t 100\t\n",
      "21\t0.9889736771583557 \t 100\t\n",
      "22\t0.9889631867408752 \t 100\t\n",
      "23\t0.9889138340950012 \t 100\t\n",
      "24\t0.9888993501663208 \t 100\t\n",
      "25\t0.9890283346176147 \t 100\t\n",
      "26\t0.9890933036804199 \t 100\t\n",
      "27\t0.9888936281204224 \t 100\t\n",
      "28\t0.9890015721321106 \t 94\t\n",
      "29\t0.9889786839485168 \t 100\t\n",
      "30\t0.9889824986457825 \t 100\t\n",
      "31\t0.9889824986457825 \t 100\t\n",
      "32\t0.98896324634552 \t 100\t\n",
      "33\t0.988975465297699 \t 100\t\n",
      "34\t0.9888792037963867 \t 100\t\n",
      "35\t0.9889249801635742 \t 100\t\n",
      "36\t0.9889814257621765 \t 100\t\n",
      "37\t0.9890226125717163 \t 100\t\n",
      "38\t0.9889097213745117 \t 100\t\n",
      "39\t0.9889049530029297 \t 100\t\n",
      "40\t0.9889852404594421 \t 96\t\n",
      "41\t0.9889646172523499 \t 100\t\n",
      "42\t0.9890950918197632 \t 100\t\n",
      "43\t0.9889193773269653 \t 100\t\n",
      "44\t0.9888808727264404 \t 100\t\n",
      "45\t0.9888030886650085 \t 100\t\n",
      "46\t0.9889594912528992 \t 100\t\n",
      "47\t0.9888901114463806 \t 100\t\n",
      "48\t0.9889455437660217 \t 100\t\n",
      "49\t0.9889295101165771 \t 100\t\n",
      "50\t0.9888807535171509 \t 100\t\n",
      "51\t0.9889940023422241 \t 100\t\n",
      "52\t0.9890172481536865 \t 100\t\n",
      "53\t0.9890736937522888 \t 100\t\n",
      "54\t0.9890816807746887 \t 100\t\n",
      "55\t0.9889804720878601 \t 92\t\n",
      "56\t0.9888877868652344 \t 100\t\n",
      "57\t0.9888797402381897 \t 100\t\n",
      "58\t0.988987922668457 \t 100\t\n",
      "59\t0.9890138506889343 \t 100\t\n",
      "60\t0.9889395236968994 \t 100\t\n",
      "61\t0.9890078902244568 \t 97\t\n",
      "62\t0.988844633102417 \t 100\t\n",
      "63\t0.9888693690299988 \t 100\t\n",
      "64\t0.989000141620636 \t 100\t\n",
      "65\t0.988988995552063 \t 100\t\n",
      "66\t0.9890552759170532 \t 100\t\n",
      "67\t0.9890270233154297 \t 100\t\n",
      "68\t0.9889180064201355 \t 100\t\n",
      "69\t0.9889707565307617 \t 100\t\n",
      "70\t0.9889456033706665 \t 100\t\n",
      "71\t0.988985002040863 \t 100\t\n",
      "72\t0.9889828562736511 \t 100\t\n",
      "73\t0.9889519810676575 \t 100\t\n",
      "74\t0.9888415336608887 \t 100\t\n",
      "75\t0.9889640212059021 \t 100\t\n",
      "76\t0.9888831973075867 \t 100\t\n",
      "77\t0.9888986349105835 \t 100\t\n",
      "78\t0.9889364838600159 \t 100\t\n",
      "79\t0.9888883829116821 \t 100\t\n",
      "80\t0.9889659285545349 \t 100\t\n",
      "81\t0.9889910221099854 \t 100\t\n",
      "82\t0.9889076352119446 \t 100\t\n",
      "83\t0.9891907572746277 \t 100\t\n",
      "84\t0.9889103770256042 \t 100\t\n",
      "85\t0.9889018535614014 \t 100\t\n",
      "86\t0.9889938831329346 \t 100\t\n",
      "87\t0.9889840483665466 \t 97\t\n",
      "88\t0.9891248941421509 \t 90\t\n",
      "89\t0.988966703414917 \t 100\t\n",
      "90\t0.9890917539596558 \t 100\t\n",
      "91\t0.9889565110206604 \t 100\t\n",
      "92\t0.9889588356018066 \t 100\t\n",
      "93\t0.988865077495575 \t 100\t\n",
      "94\t0.989044189453125 \t 100\t\n",
      "95\t0.9889464974403381 \t 100\t\n",
      "96\t0.9888861179351807 \t 100\t\n",
      "97\t0.988895833492279 \t 100\t\n",
      "98\t0.9890820980072021 \t 94\t\n",
      "99\t0.9889093637466431 \t 100\t\n"
     ]
    }
   ],
   "source": [
    "params = {'loss': get_exp_sqr(r_star), 'd': 4, 'output': 'linear'}\n",
    "for i in range(reps):\n",
    "    print(i, end = '\\t')\n",
    "    model, trace = train(data, **params)\n",
    "    model.save_weights(sqr_filestr.format(i))\n",
    "    print()"
   ]
  },
  {
   "cell_type": "markdown",
   "id": "6741f85a-f192-48fb-bb2f-1c30568fa5dd",
   "metadata": {
    "tags": []
   },
   "source": [
    "# MAEs"
   ]
  },
  {
   "cell_type": "raw",
   "id": "41dfacdb-6e32-48ed-aec3-73a770565183",
   "metadata": {},
   "source": [
    "d = 5\n",
    "\n",
    "num_layers = 5\n",
    "\n",
    "# DATA FLOW\n",
    "base_dist = StandardNormal(shape=[d])\n",
    "transforms = []\n",
    "for _ in range(num_layers):\n",
    "    transforms.append(ReversePermutation(features=d))\n",
    "    transforms.append(MaskedAffineAutoregressiveTransform(features=d, \n",
    "                                                          hidden_features=8))\n",
    "transform = CompositeTransform(transforms)\n",
    "dt_flow = Flow(transform, base_dist)\n",
    "#dt_flow.to(device)\n",
    "ckpt = torch.load('flows/nflows/dat/5/ckpt_best')\n",
    "dt_flow.load_state_dict(ckpt['model_state_dict'])\n",
    "dt_flow.eval()\n",
    "\n",
    "# MC FLOW\n",
    "base_dist = StandardNormal(shape=[d])\n",
    "transforms = []\n",
    "for _ in range(num_layers):\n",
    "    transforms.append(ReversePermutation(features=d))\n",
    "    transforms.append(MaskedAffineAutoregressiveTransform(features=d, \n",
    "                                                          hidden_features=8))\n",
    "transform = CompositeTransform(transforms)\n",
    "mc_flow = Flow(transform, base_dist)\n",
    "#mc_flow.to(device)\n",
    "ckpt = torch.load('flows/nflows/sim/5/ckpt_best')\n",
    "mc_flow.load_state_dict(ckpt['model_state_dict'])\n",
    "mc_flow.eval();"
   ]
  },
  {
   "cell_type": "code",
   "execution_count": 21,
   "id": "332c9f38-cd8f-49e4-841c-fca5d10671bf",
   "metadata": {},
   "outputs": [
    {
     "ename": "NameError",
     "evalue": "name 'StandardNormal' is not defined",
     "output_type": "error",
     "traceback": [
      "\u001b[0;31m---------------------------------------------------------------------------\u001b[0m",
      "\u001b[0;31mNameError\u001b[0m                                 Traceback (most recent call last)",
      "Input \u001b[0;32mIn [21]\u001b[0m, in \u001b[0;36m<cell line: 6>\u001b[0;34m()\u001b[0m\n\u001b[1;32m      3\u001b[0m num_layers \u001b[38;5;241m=\u001b[39m \u001b[38;5;241m5\u001b[39m\n\u001b[1;32m      5\u001b[0m \u001b[38;5;66;03m# DATA FLOW\u001b[39;00m\n\u001b[0;32m----> 6\u001b[0m base_dist \u001b[38;5;241m=\u001b[39m \u001b[43mStandardNormal\u001b[49m(shape\u001b[38;5;241m=\u001b[39m[d])\n\u001b[1;32m      7\u001b[0m transforms \u001b[38;5;241m=\u001b[39m []\n\u001b[1;32m      8\u001b[0m \u001b[38;5;28;01mfor\u001b[39;00m _ \u001b[38;5;129;01min\u001b[39;00m \u001b[38;5;28mrange\u001b[39m(num_layers):\n",
      "\u001b[0;31mNameError\u001b[0m: name 'StandardNormal' is not defined"
     ]
    }
   ],
   "source": [
    "d = 6\n",
    "\n",
    "num_layers = 5\n",
    "\n",
    "# DATA FLOW\n",
    "base_dist = StandardNormal(shape=[d])\n",
    "transforms = []\n",
    "for _ in range(num_layers):\n",
    "    transforms.append(ReversePermutation(features=d))\n",
    "    transforms.append(MaskedAffineAutoregressiveTransform(features=d, \n",
    "                                                          hidden_features=8))\n",
    "transform = CompositeTransform(transforms)\n",
    "dt_flow = Flow(transform, base_dist)\n",
    "dt_flow.to(device)\n",
    "ckpt = torch.load('flows/nflows/dat/6/best/ckpt_19')\n",
    "dt_flow.load_state_dict(ckpt['model_state_dict'])\n",
    "dt_flow.eval()\n",
    "\n",
    "# MC FLOW\n",
    "base_dist = StandardNormal(shape=[d])\n",
    "transforms = []\n",
    "for _ in range(num_layers):\n",
    "    transforms.append(ReversePermutation(features=d))\n",
    "    transforms.append(MaskedAffineAutoregressiveTransform(features=d, \n",
    "                                                          hidden_features=8))\n",
    "transform = CompositeTransform(transforms)\n",
    "mc_flow = Flow(transform, base_dist)\n",
    "mc_flow.to(device)\n",
    "ckpt = torch.load('flows/nflows/sim/6/best/ckpt_50')\n",
    "mc_flow.load_state_dict(ckpt['model_state_dict'])\n",
    "mc_flow.eval();"
   ]
  },
  {
   "cell_type": "raw",
   "id": "3ea47984-36a4-4715-a5f9-b7931893b8e5",
   "metadata": {},
   "source": [
    "X_mae = np.load('data/zenodo/fold/5_old/X_tst.npy')\n",
    "lr_tst = np.load('data/zenodo/fold/5_old/lr_tst.npy')"
   ]
  },
  {
   "cell_type": "code",
   "execution_count": 6,
   "id": "5a8fb503-e814-41de-a55a-2383d17c8a44",
   "metadata": {},
   "outputs": [],
   "source": [
    "X_mae = np.load('data/zenodo/fold/6/X_tst.npy')\n",
    "lr_tst = np.load('data/zenodo/fold/6/lr_tst.npy')"
   ]
  },
  {
   "cell_type": "code",
   "execution_count": 7,
   "id": "10649c6a-b2ec-454b-855f-9e8ffa212871",
   "metadata": {},
   "outputs": [],
   "source": [
    "def mae(model_lr):\n",
    "    abs_dif = abs(model_lr(X_mae) - lr_tst)\n",
    "    #print(np.mean(abs_dif < 100), end = ' ')\n",
    "    return abs_dif[abs_dif < 100].mean()"
   ]
  },
  {
   "cell_type": "markdown",
   "id": "ba33598d-74f3-4a55-8655-dbbd4c98a248",
   "metadata": {
    "jp-MarkdownHeadingCollapsed": true,
    "tags": []
   },
   "source": [
    "## BCE"
   ]
  },
  {
   "cell_type": "code",
   "execution_count": 64,
   "id": "69dbad47-eaad-4b2b-8d52-887761f082a0",
   "metadata": {},
   "outputs": [],
   "source": [
    "# Experiment parameters\n",
    "num = 2\n",
    "reps = 100\n",
    "\n",
    "# Model parameters\n",
    "params_1 = {'loss':bce, 'd':6}\n",
    "params_2 = {'loss':probit_bce, 'd':6, 'output': 'linear'}\n",
    "params_3 = {'loss':arctan_bce, 'd':6,  'output': 'linear'}\n",
    "\n",
    "filestr = 'models/zenodo/c_bce/set_{}/'.format(num)\n",
    "filestr_1 = filestr + 'sigmoid/model_{}.h5'\n",
    "filestr_2 = filestr + 'probit/model_{}.h5'\n",
    "filestr_3 = filestr + 'arctan/model_{}.h5'\n",
    "\n",
    "# Data parameters\n",
    "N = 10**6\n",
    "X = np.load('data/zenodo/fold/6/X_trn.npy')[:N]\n",
    "y = np.load('data/zenodo/fold/6/y_trn.npy')[:N].astype('float32')\n",
    "data, m, s = split_data(X, y)"
   ]
  },
  {
   "cell_type": "code",
   "execution_count": 65,
   "id": "a55a8299-8fef-4eee-ab11-e3e64eb9b9d4",
   "metadata": {},
   "outputs": [
    {
     "name": "stderr",
     "output_type": "stream",
     "text": [
      "/clusterfs/ml4hep/shahzar/reweighting-schemes/utils/training.py:187: RuntimeWarning: divide by zero encountered in divide\n",
      "  return np.squeeze(f / (1. - f))\n",
      "/tmp/ipykernel_16626/3780721232.py:2: RuntimeWarning: invalid value encountered in subtract\n",
      "  abs_dif = abs(model_lr(X_mae) - lr_tst)\n"
     ]
    },
    {
     "name": "stdout",
     "output_type": "stream",
     "text": [
      "WARNING:tensorflow:Detecting that an object or model or tf.train.Checkpoint is being deleted with unrestored values. See the following logs for the specific values in question. To silence these warnings, use `status.expect_partial()`. See https://www.tensorflow.org/api_docs/python/tf/train/Checkpoint#restorefor details about the status object returned by the restore function.\n",
      "WARNING:tensorflow:Value in checkpoint could not be found in the restored object: (root)._bijector._bijectors_trackable.0._state_time_derivative_fn._modules.0.w\n",
      "WARNING:tensorflow:Value in checkpoint could not be found in the restored object: (root)._bijector._bijectors_trackable.0._state_time_derivative_fn._modules.0.b\n",
      "WARNING:tensorflow:Value in checkpoint could not be found in the restored object: (root)._bijector._bijectors_trackable.0._state_time_derivative_fn._modules.2.w\n",
      "WARNING:tensorflow:Value in checkpoint could not be found in the restored object: (root)._bijector._bijectors_trackable.0._state_time_derivative_fn._modules.2.b\n",
      "WARNING:tensorflow:Value in checkpoint could not be found in the restored object: (root)._bijector._bijectors_trackable.0._state_time_derivative_fn._modules.4.w\n",
      "WARNING:tensorflow:Value in checkpoint could not be found in the restored object: (root)._bijector._bijectors_trackable.0._state_time_derivative_fn._modules.4.b\n",
      "WARNING:tensorflow:Value in checkpoint could not be found in the restored object: (root)._bijector._bijectors_trackable.1._state_time_derivative_fn._modules.0.w\n",
      "WARNING:tensorflow:Value in checkpoint could not be found in the restored object: (root)._bijector._bijectors_trackable.1._state_time_derivative_fn._modules.0.b\n",
      "WARNING:tensorflow:Value in checkpoint could not be found in the restored object: (root)._bijector._bijectors_trackable.1._state_time_derivative_fn._modules.2.w\n",
      "WARNING:tensorflow:Value in checkpoint could not be found in the restored object: (root)._bijector._bijectors_trackable.1._state_time_derivative_fn._modules.2.b\n",
      "WARNING:tensorflow:Value in checkpoint could not be found in the restored object: (root)._bijector._bijectors_trackable.1._state_time_derivative_fn._modules.4.w\n",
      "WARNING:tensorflow:Value in checkpoint could not be found in the restored object: (root)._bijector._bijectors_trackable.1._state_time_derivative_fn._modules.4.b\n",
      "WARNING:tensorflow:Value in checkpoint could not be found in the restored object: (root)._bijector._bijectors_trackable.2._state_time_derivative_fn._modules.0.w\n",
      "WARNING:tensorflow:Value in checkpoint could not be found in the restored object: (root)._bijector._bijectors_trackable.2._state_time_derivative_fn._modules.0.b\n",
      "WARNING:tensorflow:Value in checkpoint could not be found in the restored object: (root)._bijector._bijectors_trackable.2._state_time_derivative_fn._modules.2.w\n",
      "WARNING:tensorflow:Value in checkpoint could not be found in the restored object: (root)._bijector._bijectors_trackable.2._state_time_derivative_fn._modules.2.b\n",
      "WARNING:tensorflow:Value in checkpoint could not be found in the restored object: (root)._bijector._bijectors_trackable.2._state_time_derivative_fn._modules.4.w\n",
      "WARNING:tensorflow:Value in checkpoint could not be found in the restored object: (root)._bijector._bijectors_trackable.2._state_time_derivative_fn._modules.4.b\n",
      "WARNING:tensorflow:Value in checkpoint could not be found in the restored object: (root)._bijector._bijectors_trackable.3._state_time_derivative_fn._modules.0.w\n",
      "WARNING:tensorflow:Value in checkpoint could not be found in the restored object: (root)._bijector._bijectors_trackable.3._state_time_derivative_fn._modules.0.b\n",
      "WARNING:tensorflow:Value in checkpoint could not be found in the restored object: (root)._bijector._bijectors_trackable.3._state_time_derivative_fn._modules.2.w\n",
      "WARNING:tensorflow:Value in checkpoint could not be found in the restored object: (root)._bijector._bijectors_trackable.3._state_time_derivative_fn._modules.2.b\n",
      "WARNING:tensorflow:Value in checkpoint could not be found in the restored object: (root)._bijector._bijectors_trackable.3._state_time_derivative_fn._modules.4.w\n",
      "WARNING:tensorflow:Value in checkpoint could not be found in the restored object: (root)._bijector._bijectors_trackable.3._state_time_derivative_fn._modules.4.b\n"
     ]
    },
    {
     "name": "stderr",
     "output_type": "stream",
     "text": [
      "/tmp/ipykernel_16626/1996259824.py:31: RuntimeWarning: invalid value encountered in subtract\n",
      "  abs_dif_1 = np.array([abs(lr(X_mae) - lr_tst) for lr in lrs_1])\n",
      "/tmp/ipykernel_16626/1996259824.py:32: RuntimeWarning: invalid value encountered in subtract\n",
      "  abs_dif_2 = np.array([abs(lr(X_mae) - lr_tst) for lr in lrs_2])\n"
     ]
    },
    {
     "name": "stdout",
     "output_type": "stream",
     "text": [
      "0.5058717 0.50910306 0.50965285\n",
      "0.007088754 0.0096205715 0.008900229\n"
     ]
    }
   ],
   "source": [
    "lrs_1 = [None] * reps\n",
    "lrs_2 = [None] * reps\n",
    "lrs_3 = [None] * reps\n",
    "\n",
    "for i in range(reps):\n",
    "    model_1 = create_model(**params_1)\n",
    "    model_2 = create_model(**params_2)\n",
    "    model_3 = create_model(**params_3)\n",
    "    \n",
    "    model_1.load_weights(filestr_1.format(i))\n",
    "    model_2.load_weights(filestr_2.format(i))\n",
    "    model_3.load_weights(filestr_3.format(i))\n",
    "    \n",
    "    lrs_1[i] = odds_lr(model_1, m, s)\n",
    "    lrs_2[i] = probit_lr(model_2, m, s)\n",
    "    lrs_3[i] = arctan_lr(model_3, m, s)\n",
    "\n",
    "# Calculate mean absolute errors\n",
    "maes_1 = [mae(lr) for lr in lrs_1]\n",
    "maes_2 = [mae(lr) for lr in lrs_2]\n",
    "maes_3 = [mae(lr) for lr in lrs_3]\n",
    "\n",
    "avg_1 = np.mean(maes_1)\n",
    "avg_2 = np.mean(maes_2)\n",
    "avg_3 = np.mean(maes_3, where = ~np.isnan(maes_3))\n",
    "\n",
    "std_1 = np.std(maes_1, ddof = 1)\n",
    "std_2 = np.std(maes_2, ddof = 1)\n",
    "std_3 = np.std(maes_3, ddof = 1)\n",
    "\n",
    "abs_dif_1 = np.array([abs(lr(X_mae) - lr_tst) for lr in lrs_1])\n",
    "abs_dif_2 = np.array([abs(lr(X_mae) - lr_tst) for lr in lrs_2])\n",
    "abs_dif_3 = np.array([abs(lr(X_mae) - lr_tst) for lr in lrs_3])\n",
    "\n",
    "# Save results\n",
    "np.save(filestr + 'maes_1.npy', maes_1)\n",
    "np.save(filestr + 'maes_2.npy', maes_2)\n",
    "np.save(filestr + 'maes_3.npy', maes_3)\n",
    "\n",
    "np.save(filestr + 'avg_1.npy', avg_1)\n",
    "np.save(filestr + 'avg_2.npy', avg_2)\n",
    "np.save(filestr + 'avg_3.npy', avg_3)\n",
    "\n",
    "np.save(filestr + 'std_1.npy', std_1)\n",
    "np.save(filestr + 'std_2.npy', std_2)\n",
    "np.save(filestr + 'std_3.npy', std_3)\n",
    "\n",
    "np.save(filestr + 'abs_dif_1.npy', abs_dif_1)\n",
    "np.save(filestr + 'abs_dif_2.npy', abs_dif_2)\n",
    "np.save(filestr + 'abs_dif_3.npy', abs_dif_3)\n",
    "\n",
    "print(avg_1, avg_2, avg_3)\n",
    "print(std_1, std_2, std_3)"
   ]
  },
  {
   "cell_type": "code",
   "execution_count": 66,
   "id": "e3d2a760-b7d0-4eeb-8a8f-e0178d0e85f4",
   "metadata": {},
   "outputs": [
    {
     "data": {
      "text/plain": [
       "0.0040668"
      ]
     },
     "execution_count": 66,
     "metadata": {},
     "output_type": "execute_result"
    }
   ],
   "source": [
    "abs_dif_1 = np.load(filestr + 'abs_dif_1.npy')\n",
    "(abs_dif_1 > 100).mean()"
   ]
  },
  {
   "cell_type": "code",
   "execution_count": 67,
   "id": "4a7456aa-3535-40b0-93d1-b3a3f1d1e2b3",
   "metadata": {},
   "outputs": [
    {
     "data": {
      "image/png": "[encoded data removed]",
      "text/plain": [
       "<Figure size 432x288 with 1 Axes>"
      ]
     },
     "metadata": {
      "needs_background": "light"
     },
     "output_type": "display_data"
    }
   ],
   "source": [
    "aa = abs_dif_1.flatten()\n",
    "bb = abs_dif_2.flatten()\n",
    "cc = abs_dif_3.flatten()\n",
    "\n",
    "ts = np.linspace(0, 20)\n",
    "plt.plot(ts, [(aa < t).mean() for t in ts], label = r'$\\sigma(z)$')\n",
    "plt.plot(ts, [(bb < t).mean() for t in ts], label = r'$\\frac{1}{2}\\left(\\tanh{z} + 1\\right)$')\n",
    "plt.plot(ts, [(cc < t).mean() for t in ts], label = r'$\\frac{1}{\\pi}\\left(\\arctan{z} + \\frac{\\pi}{2}\\right)$')\n",
    "plt.legend()\n",
    "\n",
    "plt.xlabel(r'$t$')\n",
    "plt.ylabel(r'$\\text{Pr}\\left(\\Big|\\mathcal{L}(X) - \\mathcal{L}_\\text{BCE}(X)\\Big| < t\\right)$')\n",
    "plt.title(r'BCE Likelihood Ratios Absolute Differences')\n",
    "\n",
    "plt.savefig('plots/zenodo/bce_threshold_plot.png', \n",
    "            dpi=300, \n",
    "            bbox_inches='tight')"
   ]
  },
  {
   "cell_type": "markdown",
   "id": "0c13e87b-0600-4481-82d7-8f0d0ea4f721",
   "metadata": {
    "jp-MarkdownHeadingCollapsed": true,
    "tags": []
   },
   "source": [
    "## MSE"
   ]
  },
  {
   "cell_type": "code",
   "execution_count": 68,
   "id": "38aa4548-76a5-4b4c-bc18-0d850162c713",
   "metadata": {},
   "outputs": [],
   "source": [
    "# Experiment parameters\n",
    "num = 2\n",
    "reps = 100\n",
    "\n",
    "# Model parameters\n",
    "params_1 = {'loss':mse, 'd':6}\n",
    "params_2 = {'loss':probit_mse, 'd':6, 'output': 'linear'}\n",
    "params_3 = {'loss':arctan_mse, 'd':6,  'output': 'linear'}\n",
    "\n",
    "filestr = 'models/zenodo/c_mse/set_{}/'.format(num)\n",
    "filestr_1 = filestr + 'sigmoid/model_{}.h5'\n",
    "filestr_2 = filestr + 'probit/model_{}.h5'\n",
    "filestr_3 = filestr + 'arctan/model_{}.h5'\n",
    "\n",
    "# Data parameters\n",
    "N = 10**6\n",
    "X = np.load('data/zenodo/fold/6/X_trn.npy')[:N]\n",
    "y = np.load('data/zenodo/fold/6/y_trn.npy')[:N].astype('float32')\n",
    "data, m, s = split_data(X, y)"
   ]
  },
  {
   "cell_type": "code",
   "execution_count": 69,
   "id": "928ed293-7c7a-4dad-9677-b82cd3e58be1",
   "metadata": {},
   "outputs": [
    {
     "name": "stderr",
     "output_type": "stream",
     "text": [
      "/clusterfs/ml4hep/shahzar/reweighting-schemes/utils/training.py:187: RuntimeWarning: divide by zero encountered in divide\n",
      "  return np.squeeze(f / (1. - f))\n",
      "/tmp/ipykernel_16626/3780721232.py:2: RuntimeWarning: invalid value encountered in subtract\n",
      "  abs_dif = abs(model_lr(X_mae) - lr_tst)\n",
      "/tmp/ipykernel_16626/1996259824.py:31: RuntimeWarning: invalid value encountered in subtract\n",
      "  abs_dif_1 = np.array([abs(lr(X_mae) - lr_tst) for lr in lrs_1])\n",
      "/tmp/ipykernel_16626/1996259824.py:32: RuntimeWarning: invalid value encountered in subtract\n",
      "  abs_dif_2 = np.array([abs(lr(X_mae) - lr_tst) for lr in lrs_2])\n"
     ]
    },
    {
     "name": "stdout",
     "output_type": "stream",
     "text": [
      "0.50548303 0.50808835 0.5081739\n",
      "0.00729145 0.010038669 0.0077995383\n"
     ]
    }
   ],
   "source": [
    "lrs_1 = [None] * reps\n",
    "lrs_2 = [None] * reps\n",
    "lrs_3 = [None] * reps\n",
    "\n",
    "for i in range(reps):\n",
    "    model_1 = create_model(**params_1)\n",
    "    model_2 = create_model(**params_2)\n",
    "    model_3 = create_model(**params_3)\n",
    "    \n",
    "    model_1.load_weights(filestr_1.format(i))\n",
    "    model_2.load_weights(filestr_2.format(i))\n",
    "    model_3.load_weights(filestr_3.format(i))\n",
    "    \n",
    "    lrs_1[i] = odds_lr(model_1, m, s)\n",
    "    lrs_2[i] = probit_lr(model_2, m, s)\n",
    "    lrs_3[i] = arctan_lr(model_3, m, s)\n",
    "\n",
    "# Calculate mean absolute errors\n",
    "maes_1 = [mae(lr) for lr in lrs_1]\n",
    "maes_2 = [mae(lr) for lr in lrs_2]\n",
    "maes_3 = [mae(lr) for lr in lrs_3]\n",
    "\n",
    "avg_1 = np.mean(maes_1)\n",
    "avg_2 = np.mean(maes_2)\n",
    "avg_3 = np.mean(maes_3, where = ~np.isnan(maes_3))\n",
    "\n",
    "std_1 = np.std(maes_1, ddof = 1)\n",
    "std_2 = np.std(maes_2, ddof = 1)\n",
    "std_3 = np.std(maes_3, ddof = 1)\n",
    "\n",
    "abs_dif_1 = np.array([abs(lr(X_mae) - lr_tst) for lr in lrs_1])\n",
    "abs_dif_2 = np.array([abs(lr(X_mae) - lr_tst) for lr in lrs_2])\n",
    "abs_dif_3 = np.array([abs(lr(X_mae) - lr_tst) for lr in lrs_3])\n",
    "\n",
    "# Save results\n",
    "np.save(filestr + 'maes_1.npy', maes_1)\n",
    "np.save(filestr + 'maes_2.npy', maes_2)\n",
    "np.save(filestr + 'maes_3.npy', maes_3)\n",
    "\n",
    "np.save(filestr + 'avg_1.npy', avg_1)\n",
    "np.save(filestr + 'avg_2.npy', avg_2)\n",
    "np.save(filestr + 'avg_3.npy', avg_3)\n",
    "\n",
    "np.save(filestr + 'std_1.npy', std_1)\n",
    "np.save(filestr + 'std_2.npy', std_2)\n",
    "np.save(filestr + 'std_3.npy', std_3)\n",
    "\n",
    "np.save(filestr + 'abs_dif_1.npy', abs_dif_1)\n",
    "np.save(filestr + 'abs_dif_2.npy', abs_dif_2)\n",
    "np.save(filestr + 'abs_dif_3.npy', abs_dif_3)\n",
    "\n",
    "print(avg_1, avg_2, avg_3)\n",
    "print(std_1, std_2, std_3)"
   ]
  },
  {
   "cell_type": "code",
   "execution_count": 70,
   "id": "499652e2-1cc0-467f-ae83-7db55c0a7695",
   "metadata": {},
   "outputs": [
    {
     "data": {
      "text/plain": [
       "0.0040939"
      ]
     },
     "execution_count": 70,
     "metadata": {},
     "output_type": "execute_result"
    }
   ],
   "source": [
    "abs_dif_1 = np.load(filestr + 'abs_dif_1.npy')\n",
    "(abs_dif_1 > 100).mean()"
   ]
  },
  {
   "cell_type": "code",
   "execution_count": 71,
   "id": "bdf098b1-7914-499a-aad5-f9d3b6181995",
   "metadata": {},
   "outputs": [
    {
     "data": {
      "image/png": "[encoded data removed]",
      "text/plain": [
       "<Figure size 432x288 with 1 Axes>"
      ]
     },
     "metadata": {
      "needs_background": "light"
     },
     "output_type": "display_data"
    }
   ],
   "source": [
    "aa = abs_dif_1.flatten()\n",
    "bb = abs_dif_2.flatten()\n",
    "cc = abs_dif_3.flatten()\n",
    "\n",
    "ts = np.linspace(0, 20)\n",
    "plt.plot(ts, [(aa < t).mean() for t in ts], label = r'$\\sigma(z)$')\n",
    "plt.plot(ts, [(bb < t).mean() for t in ts], label = r'$\\frac{1}{2}\\left(\\tanh{z} + 1\\right)$')\n",
    "plt.plot(ts, [(cc < t).mean() for t in ts], label = r'$\\frac{1}{\\pi}\\left(\\arctan{z} + \\frac{\\pi}{2}\\right)$')\n",
    "plt.legend()\n",
    "\n",
    "plt.xlabel(r'$t$')\n",
    "plt.ylabel(r'$\\text{Pr}\\left(\\Big|\\mathcal{L}(X) - \\mathcal{L}_\\text{MSE}(X)\\Big| < t\\right)$')\n",
    "plt.title(r'MSE Likelihood Ratios Absolute Differences')\n",
    "\n",
    "plt.savefig('plots/zenodo/mse_threshold_plot.png', \n",
    "            dpi=300, \n",
    "            bbox_inches='tight')"
   ]
  },
  {
   "cell_type": "markdown",
   "id": "3cadcc88-597b-4b61-a6b3-b3d1c11ea787",
   "metadata": {
    "jp-MarkdownHeadingCollapsed": true,
    "tags": []
   },
   "source": [
    "## MLC"
   ]
  },
  {
   "cell_type": "code",
   "execution_count": 72,
   "id": "c6e21fa2-f50c-4582-853f-1ea132efdb63",
   "metadata": {},
   "outputs": [],
   "source": [
    "# Experiment parameters\n",
    "num = 2\n",
    "reps = 100\n",
    "\n",
    "# Model parameters\n",
    "params_1 = {'loss':mlc, 'd': 6, 'output': 'relu'}\n",
    "params_2 = {'loss':square_mlc, 'd': 6, 'output': 'linear'}\n",
    "params_3 = {'loss':exp_mlc, 'd': 6, 'output': 'linear'}\n",
    "\n",
    "filestr = 'models/zenodo/c_mlc/set_{}/'.format(num)\n",
    "filestr_1 = filestr + 'relu/model_{}.h5'\n",
    "filestr_2 = filestr + 'square/model_{}.h5'\n",
    "filestr_3 = filestr + 'exponential/model_{}.h5'\n",
    "\n",
    "# Data parameters\n",
    "N = 10**6\n",
    "X = np.load('data/zenodo/fold/6/X_trn.npy')[:N]\n",
    "y = np.load('data/zenodo/fold/6/y_trn.npy')[:N].astype('float32')\n",
    "data, m, s = split_data(X, y)"
   ]
  },
  {
   "cell_type": "code",
   "execution_count": 73,
   "id": "1b8e229b-4e69-4f2c-9b02-314d8a698fd7",
   "metadata": {
    "tags": []
   },
   "outputs": [
    {
     "name": "stderr",
     "output_type": "stream",
     "text": [
      "/tmp/ipykernel_16626/3780721232.py:4: RuntimeWarning: Mean of empty slice.\n",
      "  return abs_dif[abs_dif < 100].mean()\n",
      "/clusterfs/ml4hep/shahzar/miniconda/envs/multifold/lib/python3.10/site-packages/numpy/core/_methods.py:190: RuntimeWarning: invalid value encountered in divide\n",
      "  ret = ret.dtype.type(ret / rcount)\n"
     ]
    },
    {
     "name": "stdout",
     "output_type": "stream",
     "text": [
      "0.6130182 0.66564214 0.5507566\n",
      "0.009426319 0.12945494 nan\n"
     ]
    }
   ],
   "source": [
    "lrs_1 = [None] * reps\n",
    "lrs_2 = [None] * reps\n",
    "lrs_3 = [None] * reps\n",
    "\n",
    "for i in range(reps):\n",
    "    model_1 = create_model(**params_1)\n",
    "    model_2 = create_model(**params_2)\n",
    "    model_3 = create_model(**params_3)\n",
    "    \n",
    "    model_1.load_weights(filestr_1.format(i))\n",
    "    model_2.load_weights(filestr_2.format(i))\n",
    "    model_3.load_weights(filestr_3.format(i))\n",
    "    \n",
    "    lrs_1[i] = pure_lr(model_1, m, s)\n",
    "    lrs_2[i] = square_lr(model_2, m, s)\n",
    "    lrs_3[i] = exp_lr(model_3, m, s)\n",
    "\n",
    "# Calculate mean absolute errors\n",
    "maes_1 = [mae(lr) for lr in lrs_1]\n",
    "maes_2 = [mae(lr) for lr in lrs_2]\n",
    "maes_3 = [mae(lr) for lr in lrs_3]\n",
    "\n",
    "avg_1 = np.mean(maes_1)\n",
    "avg_2 = np.mean(maes_2)\n",
    "avg_3 = np.mean(maes_3, where = ~np.isnan(maes_3))\n",
    "\n",
    "std_1 = np.std(maes_1, ddof = 1)\n",
    "std_2 = np.std(maes_2, ddof = 1)\n",
    "std_3 = np.std(maes_3, ddof = 1)\n",
    "\n",
    "abs_dif_1 = np.array([abs(lr(X_mae) - lr_tst) for lr in lrs_1])\n",
    "abs_dif_2 = np.array([abs(lr(X_mae) - lr_tst) for lr in lrs_2])\n",
    "abs_dif_3 = np.array([abs(lr(X_mae) - lr_tst) for lr in lrs_3])\n",
    "\n",
    "# Save results\n",
    "np.save(filestr + 'maes_1.npy', maes_1)\n",
    "np.save(filestr + 'maes_2.npy', maes_2)\n",
    "np.save(filestr + 'maes_3.npy', maes_3)\n",
    "\n",
    "np.save(filestr + 'avg_1.npy', avg_1)\n",
    "np.save(filestr + 'avg_2.npy', avg_2)\n",
    "np.save(filestr + 'avg_3.npy', avg_3)\n",
    "\n",
    "np.save(filestr + 'std_1.npy', std_1)\n",
    "np.save(filestr + 'std_2.npy', std_2)\n",
    "np.save(filestr + 'std_3.npy', std_3)\n",
    "\n",
    "np.save(filestr + 'abs_dif_1.npy', abs_dif_1)\n",
    "np.save(filestr + 'abs_dif_2.npy', abs_dif_2)\n",
    "np.save(filestr + 'abs_dif_3.npy', abs_dif_3)\n",
    "\n",
    "print(avg_1, avg_2, avg_3)\n",
    "print(std_1, std_2, std_3)"
   ]
  },
  {
   "cell_type": "code",
   "execution_count": 74,
   "id": "f74be4e3-5088-4558-bdfd-00d476a74fd3",
   "metadata": {},
   "outputs": [
    {
     "data": {
      "text/plain": [
       "0.0039319"
      ]
     },
     "execution_count": 74,
     "metadata": {},
     "output_type": "execute_result"
    }
   ],
   "source": [
    "abs_dif_3 = np.load(filestr + 'abs_dif_3.npy')\n",
    "(abs_dif_3 > 100).mean()"
   ]
  },
  {
   "cell_type": "code",
   "execution_count": 75,
   "id": "da2dff01-f636-4b8e-9728-f9920be63be2",
   "metadata": {},
   "outputs": [
    {
     "data": {
      "image/png": "[encoded data removed]",
      "text/plain": [
       "<Figure size 432x288 with 1 Axes>"
      ]
     },
     "metadata": {
      "needs_background": "light"
     },
     "output_type": "display_data"
    }
   ],
   "source": [
    "aa = abs_dif_1.flatten()\n",
    "bb = abs_dif_2.flatten()\n",
    "cc = abs_dif_3.flatten()\n",
    "\n",
    "ts = np.linspace(0, 20)\n",
    "plt.plot(ts, [(aa < t).mean() for t in ts], label = r'${\\rm ReLU}(z)$')\n",
    "plt.plot(ts, [(bb < t).mean() for t in ts], label = r'$z^2$')\n",
    "plt.plot(ts, [(cc < t).mean() for t in ts], label = r'$\\exp(z)$')\n",
    "plt.legend()\n",
    "\n",
    "plt.xlabel(r'$t$')\n",
    "plt.ylabel(r'$\\text{Pr}\\left(\\Big|\\mathcal{L}(X) - \\mathcal{L}_\\text{MLC}(X)\\Big| < t\\right)$')\n",
    "plt.title(r'MLC Likelihood Ratios Absolute Differences')\n",
    "\n",
    "plt.savefig('plots/zenodo/mlc_threshold_plot.png', \n",
    "            dpi=300, \n",
    "            bbox_inches='tight')"
   ]
  },
  {
   "cell_type": "markdown",
   "id": "d3916ccb-334b-4f01-974e-0a98c41f9f1a",
   "metadata": {
    "jp-MarkdownHeadingCollapsed": true,
    "tags": []
   },
   "source": [
    "## SQR"
   ]
  },
  {
   "cell_type": "code",
   "execution_count": 76,
   "id": "325de8ea-3b28-4caf-ba25-4418e633199c",
   "metadata": {},
   "outputs": [],
   "source": [
    "# Experiment parameters\n",
    "num = 2\n",
    "reps = 100\n",
    "\n",
    "# Model parameters\n",
    "params_1 = {'loss':sqr, 'd': 6, 'output': 'relu'}\n",
    "params_2 = {'loss':square_sqr, 'd': 6, 'output': 'linear'}\n",
    "params_3 = {'loss':exp_sqr, 'd': 6, 'output': 'linear'}\n",
    "\n",
    "filestr = 'models/zenodo/c_sqr/set_{}/'.format(num)\n",
    "filestr_1 = filestr + 'relu/model_{}.h5'\n",
    "filestr_2 = filestr + 'square/model_{}.h5'\n",
    "filestr_3 = filestr + 'exponential/model_{}.h5'\n",
    "\n",
    "# Data parameters\n",
    "N = 10**6\n",
    "X = np.load('data/zenodo/fold/6/X_trn.npy')[:N]\n",
    "y = np.load('data/zenodo/fold/6/y_trn.npy')[:N].astype('float32')\n",
    "data, m, s = split_data(X, y)"
   ]
  },
  {
   "cell_type": "code",
   "execution_count": 77,
   "id": "f25da792-8da7-414f-9447-38c1e0e95acb",
   "metadata": {},
   "outputs": [
    {
     "name": "stdout",
     "output_type": "stream",
     "text": [
      "0.68091726 1.0971719 0.52239853\n",
      "0.040944885 0.1414669 0.009277418\n"
     ]
    }
   ],
   "source": [
    "lrs_1 = [None] * reps\n",
    "lrs_2 = [None] * reps\n",
    "lrs_3 = [None] * reps\n",
    "\n",
    "for i in range(reps):\n",
    "    model_1 = create_model(**params_1)\n",
    "    model_2 = create_model(**params_2)\n",
    "    model_3 = create_model(**params_3)\n",
    "    \n",
    "    model_1.load_weights(filestr_1.format(i))\n",
    "    model_2.load_weights(filestr_2.format(i))\n",
    "    model_3.load_weights(filestr_3.format(i))\n",
    "    \n",
    "    lrs_1[i] = pure_lr(model_1, m, s)\n",
    "    lrs_2[i] = square_lr(model_2, m, s)\n",
    "    lrs_3[i] = exp_lr(model_3, m, s)\n",
    "\n",
    "# Calculate mean absolute errors\n",
    "maes_1 = [mae(lr) for lr in lrs_1]\n",
    "maes_2 = [mae(lr) for lr in lrs_2]\n",
    "maes_3 = [mae(lr) for lr in lrs_3]\n",
    "\n",
    "avg_1 = np.mean(maes_1)\n",
    "avg_2 = np.mean(maes_2, where = ~np.isnan(maes_2))\n",
    "avg_3 = np.mean(maes_3, where = ~np.isnan(maes_3))\n",
    "\n",
    "std_1 = np.std(maes_1, ddof = 1)\n",
    "std_2 = np.std(maes_2, ddof = 1, where = ~np.isnan(maes_2))\n",
    "std_3 = np.std(maes_3, ddof = 1)\n",
    "\n",
    "abs_dif_1 = np.array([abs(lr(X_mae) - lr_tst) for lr in lrs_1])\n",
    "abs_dif_2 = np.array([abs(lr(X_mae) - lr_tst) for lr in lrs_2])\n",
    "abs_dif_3 = np.array([abs(lr(X_mae) - lr_tst) for lr in lrs_3])\n",
    "\n",
    "# Save results\n",
    "np.save(filestr + 'maes_1.npy', maes_1)\n",
    "np.save(filestr + 'maes_2.npy', maes_2)\n",
    "np.save(filestr + 'maes_3.npy', maes_3)\n",
    "\n",
    "np.save(filestr + 'avg_1.npy', avg_1)\n",
    "np.save(filestr + 'avg_2.npy', avg_2)\n",
    "np.save(filestr + 'avg_3.npy', avg_3)\n",
    "\n",
    "np.save(filestr + 'std_1.npy', std_1)\n",
    "np.save(filestr + 'std_2.npy', std_2)\n",
    "np.save(filestr + 'std_3.npy', std_3)\n",
    "\n",
    "np.save(filestr + 'abs_dif_1.npy', abs_dif_1)\n",
    "np.save(filestr + 'abs_dif_2.npy', abs_dif_2)\n",
    "np.save(filestr + 'abs_dif_3.npy', abs_dif_3)\n",
    "\n",
    "print(avg_1, avg_2, avg_3)\n",
    "print(std_1, std_2, std_3)"
   ]
  },
  {
   "cell_type": "code",
   "execution_count": 78,
   "id": "11228eb7-df60-420a-b5b7-ff817d5f1a9d",
   "metadata": {},
   "outputs": [
    {
     "data": {
      "text/plain": [
       "0.0040906"
      ]
     },
     "execution_count": 78,
     "metadata": {},
     "output_type": "execute_result"
    }
   ],
   "source": [
    "abs_dif_3 = np.load(filestr + 'abs_dif_3.npy')\n",
    "(abs_dif_3 > 100).mean()"
   ]
  },
  {
   "cell_type": "code",
   "execution_count": 79,
   "id": "4df040e3-10c3-4c7c-b5d6-1aecb060e0c4",
   "metadata": {},
   "outputs": [
    {
     "data": {
      "image/png": "[encoded data removed]",
      "text/plain": [
       "<Figure size 432x288 with 1 Axes>"
      ]
     },
     "metadata": {
      "needs_background": "light"
     },
     "output_type": "display_data"
    }
   ],
   "source": [
    "aa = abs_dif_1.flatten()\n",
    "bb = abs_dif_2.flatten()\n",
    "cc = abs_dif_3.flatten()\n",
    "\n",
    "ts = np.linspace(0, 20)\n",
    "plt.plot(ts, [(aa < t).mean() for t in ts], label = r'${\\rm ReLU}(z)$')\n",
    "plt.plot(ts, [(bb < t).mean() for t in ts], label = r'$z^2$')\n",
    "plt.plot(ts, [(cc < t).mean() for t in ts], label = r'$\\exp(z)$')\n",
    "plt.legend()\n",
    "\n",
    "plt.xlabel(r'$t$')\n",
    "plt.ylabel(r'$\\text{Pr}\\left(\\Big|\\mathcal{L}(X) - \\mathcal{L}_\\text{SQR}(X)\\Big| < t\\right)$')\n",
    "plt.title(r'SQR Likelihood Ratios Absolute Differences')\n",
    "\n",
    "plt.savefig('plots/zenodo/sqr_threshold_plot.png', \n",
    "            dpi=300, \n",
    "            bbox_inches='tight')"
   ]
  },
  {
   "cell_type": "markdown",
   "id": "6513c98b-f6d8-4634-95b5-2cf5858e14e1",
   "metadata": {
    "tags": []
   },
   "source": [
    "## AB MSE"
   ]
  },
  {
   "cell_type": "code",
   "execution_count": 5,
   "id": "db897521-4fe9-466f-aaf4-d2ad57dfb755",
   "metadata": {},
   "outputs": [],
   "source": [
    "# Experiment parameters\n",
    "num = 6\n",
    "reps = 20\n",
    "\n",
    "# File parameters\n",
    "filestr = 'models/zenodo/ab_mse/set_{}/'.format(num)\n",
    "mse_filestr = filestr + 'model_{}_{}.h5'\n",
    "\n",
    "# Data parameters\n",
    "N = 10**6\n",
    "X = np.load('data/zenodo/fold/6/X_trn.npy')[:N]\n",
    "y = np.load('data/zenodo/fold/6/y_trn.npy')[:N].astype('float32')\n",
    "data, m, s = split_data(X, y)\n",
    "\n",
    "#ps = np.round(np.append(np.linspace(-2, 2, 101)[:-1], \n",
    "#                        np.linspace(2, 3, 101)), \n",
    "#              2)\n",
    "ps = np.round(np.linspace(-2, 3, 126), 2)"
   ]
  },
  {
   "cell_type": "code",
   "execution_count": 9,
   "id": "70170ff3-8086-4ecc-8280-f736213f1864",
   "metadata": {},
   "outputs": [
    {
     "name": "stdout",
     "output_type": "stream",
     "text": [
      "-2.0\t"
     ]
    },
    {
     "name": "stderr",
     "output_type": "stream",
     "text": [
      "2023-12-08 03:57:19.518265: I tensorflow/core/platform/cpu_feature_guard.cc:151] This TensorFlow binary is optimized with oneAPI Deep Neural Network Library (oneDNN) to use the following CPU instructions in performance-critical operations:  SSE4.1 SSE4.2 AVX AVX2 AVX512F FMA\n",
      "To enable them in other operations, rebuild TensorFlow with the appropriate compiler flags.\n",
      "2023-12-08 03:57:20.173180: I tensorflow/core/common_runtime/gpu/gpu_device.cc:1525] Created device /job:localhost/replica:0/task:0/device:GPU:0 with 14604 MB memory:  -> device: 0, name: Tesla V100-SXM2-16GB, pci bus id: 0000:1a:00.0, compute capability: 7.0\n"
     ]
    },
    {
     "name": "stdout",
     "output_type": "stream",
     "text": [
      "0.48129338\n",
      "-1.96\t0.48538765\n",
      "-1.92\t0.4825088\n",
      "-1.88\t0.4795502\n",
      "-1.84\t0.47858262\n",
      "-1.8\t0.47827435\n",
      "-1.76\t0.48097983\n",
      "-1.72\t0.48028392\n",
      "-1.68\t0.47976536\n",
      "-1.64\t0.48057127\n",
      "-1.6\t0.47896916\n",
      "-1.56\t0.47802362\n",
      "-1.52\t0.4770419\n",
      "-1.48\t0.47820836\n",
      "-1.44\t0.47793478\n",
      "-1.4\t0.47804102\n",
      "-1.36\t0.47636533\n",
      "-1.32\t0.4763042\n",
      "-1.28\t0.47745633\n",
      "-1.24\t0.47490078\n",
      "-1.2\t0.47492272\n",
      "-1.16\t0.47106862\n",
      "-1.12\t0.47603065\n",
      "-1.08\t0.47584152\n",
      "-1.04\t0.47477412\n",
      "-1.0\t0.47353116\n",
      "-0.96\t0.47443128\n",
      "-0.92\t0.4725911\n",
      "-0.88\t0.47378534\n",
      "-0.84\t0.4740251\n",
      "-0.8\t0.47583014\n",
      "-0.76\t0.47309962\n",
      "-0.72\t0.47436196\n",
      "-0.68\t0.4732011\n",
      "-0.64\t0.47411084\n",
      "-0.6\t0.47402272\n",
      "-0.56\t0.47204867\n",
      "-0.52\t0.47022676\n",
      "-0.48\t0.47097844\n",
      "-0.44\t0.47016352\n",
      "-0.4\t0.4714771\n",
      "-0.36\t0.47016114\n",
      "-0.32\t0.46989447\n",
      "-0.28\t0.4709235\n",
      "-0.24\t0.474423\n",
      "-0.2\t0.47139826\n",
      "-0.16\t0.47130466\n",
      "-0.12\t0.47118074\n",
      "-0.08\t0.4700502\n",
      "-0.04\t0.4719583\n",
      "0.0\t0.61402404\n",
      "0.04\t"
     ]
    },
    {
     "name": "stderr",
     "output_type": "stream",
     "text": [
      "/clusterfs/ml4hep/shahzar/reweighting-schemes/utils/training.py:236: RuntimeWarning: divide by zero encountered in divide\n",
      "  return np.squeeze( (f / (1. - f))**(p - 1))\n",
      "/clusterfs/ml4hep/shahzar/reweighting-schemes/utils/training.py:236: RuntimeWarning: divide by zero encountered in power\n",
      "  return np.squeeze( (f / (1. - f))**(p - 1))\n",
      "/tmp/ipykernel_2994917/3780721232.py:2: RuntimeWarning: invalid value encountered in subtract\n",
      "  abs_dif = abs(model_lr(X_mae) - lr_tst)\n",
      "/tmp/ipykernel_2994917/3780721232.py:4: RuntimeWarning: Mean of empty slice.\n",
      "  return abs_dif[abs_dif < 100].mean()\n",
      "/clusterfs/ml4hep/shahzar/miniconda/envs/multifold/lib/python3.10/site-packages/numpy/core/_methods.py:190: RuntimeWarning: invalid value encountered in divide\n",
      "  ret = ret.dtype.type(ret / rcount)\n"
     ]
    },
    {
     "name": "stdout",
     "output_type": "stream",
     "text": [
      "1.2983596\n",
      "0.08\t1.4176983\n",
      "0.12\t1.4868991\n",
      "0.16\t1.4531546\n",
      "0.2\t1.475645\n",
      "0.24\t1.4419913\n",
      "0.28\t1.5221223\n",
      "0.32\t1.5006496\n",
      "0.36\t1.6045042\n",
      "0.4\t1.7340004\n",
      "0.44\t1.6875654\n",
      "0.48\t1.6215514\n",
      "0.52\t1.708117\n",
      "0.56\t1.8786714\n",
      "0.6\t6.3461056\n",
      "0.64\t6.0436764\n",
      "0.68\t2.2255778\n",
      "0.72\t5.9186583\n",
      "0.76\t3.9198303\n",
      "0.8\t5.224404\n",
      "0.84\t7.467841\n",
      "0.88\t10.154812\n",
      "0.92\t8.453567\n",
      "0.96\t1.5727605\n",
      "1.0\t0.57734525\n",
      "1.04\t0.48515978\n",
      "1.08\t0.4873159\n",
      "1.12\t0.48172674\n",
      "1.16\t0.47899047\n",
      "1.2\t0.4773584\n",
      "1.24\t0.4757421\n",
      "1.28\t0.4744462\n",
      "1.32\t0.47217408\n",
      "1.36\t0.4716521\n",
      "1.4\t0.47200584\n",
      "1.44\t0.4706556\n",
      "1.48\t0.4698909\n",
      "1.52\t0.46919456\n",
      "1.56\t0.47052807\n",
      "1.6\t0.46928865\n",
      "1.64\t0.46875268\n",
      "1.68\t0.46907467\n",
      "1.72\t0.4691823\n",
      "1.76\t0.46967036\n",
      "1.8\t0.4699498\n",
      "1.84\t0.4690176\n",
      "1.88\t0.46892166\n",
      "1.92\t0.46994537\n",
      "1.96\t0.46994853\n",
      "2.0\t0.4702591\n",
      "2.04\t0.46909636\n",
      "2.08\t0.46973372\n",
      "2.12\t0.46944666\n",
      "2.16\t0.47028333\n",
      "2.2\t0.4700223\n",
      "2.24\t0.47054178\n",
      "2.28\t0.46955866\n",
      "2.32\t0.4702777\n",
      "2.36\t0.47210234\n",
      "2.4\t0.47015905\n",
      "2.44\t0.47026\n",
      "2.48\t0.46982846\n",
      "2.52\t0.4699398\n",
      "2.56\t0.47206992\n",
      "2.6\t0.47054505\n",
      "2.64\t0.47240385\n",
      "2.68\t0.47130084\n",
      "2.72\t0.47148886\n",
      "2.76\t0.47265202\n",
      "2.8\t0.47242945\n",
      "2.84\t0.47344932\n",
      "2.88\t0.471702\n",
      "2.92\t0.47100377\n",
      "2.96\t0.47482425\n",
      "3.0\t0.47361118\n"
     ]
    }
   ],
   "source": [
    "# Get model likelihood ratios.\n",
    "avgs = []\n",
    "for p in ps:\n",
    "    print(p, end = '\\t')\n",
    "    lrs = [None] * reps\n",
    "    params = {'loss':get_mse(p), 'd': 6}\n",
    "    for i in range(reps):\n",
    "        model = create_model(**params)\n",
    "        model.load_weights(mse_filestr.format(p, i))\n",
    "        lrs[i] = pow_odds_lr(model, p, m, s)\n",
    "    \n",
    "    maes = [mae(lr) for lr in lrs]\n",
    "    avgs += [np.nanmean(maes)]\n",
    "    print(avgs[-1])\n",
    "\n",
    "avgs = np.array(avgs)"
   ]
  },
  {
   "cell_type": "code",
   "execution_count": 10,
   "id": "a500fed5-7909-4482-a28b-d3c2e2ca90be",
   "metadata": {},
   "outputs": [],
   "source": [
    "# Save results\n",
    "np.save(filestr + 'avgs', avgs)"
   ]
  },
  {
   "cell_type": "code",
   "execution_count": 7,
   "id": "2c06e29c-6b53-4824-99f6-58efc248e506",
   "metadata": {},
   "outputs": [],
   "source": [
    "avgs = np.load(filestr + 'avgs.npy')\n",
    "#avgs_2 = np.load(filestr + 'avgs_2.npy')"
   ]
  },
  {
   "cell_type": "code",
   "execution_count": 22,
   "id": "3bb8c2f2-856b-4a6c-b1aa-f0806b5e500f",
   "metadata": {},
   "outputs": [],
   "source": [
    "#avgs = np.append(avgs, avgs_2[1:])\n",
    "#ps = np.append(np.linspace(-2, 2, 101), np.linspace(2, 3, 101)[1:])"
   ]
  },
  {
   "cell_type": "code",
   "execution_count": 8,
   "id": "256bf022-1545-4ae7-9fc8-10ace314a0de",
   "metadata": {},
   "outputs": [
    {
     "data": {
      "text/plain": [
       "array([1.64])"
      ]
     },
     "execution_count": 8,
     "metadata": {},
     "output_type": "execute_result"
    }
   ],
   "source": [
    "ps[avgs == np.nanmin(avgs)]"
   ]
  },
  {
   "cell_type": "code",
   "execution_count": 24,
   "id": "e6be3397-523d-43bc-8285-fe3275e778bf",
   "metadata": {},
   "outputs": [],
   "source": [
    "# Expand scan"
   ]
  },
  {
   "cell_type": "code",
   "execution_count": 22,
   "id": "b1c60f67-b39d-4f2e-9562-8e52aef9aa2e",
   "metadata": {},
   "outputs": [
    {
     "data": {
      "image/png": "[encoded data removed]",
      "text/plain": [
       "<Figure size 350x325 with 1 Axes>"
      ]
     },
     "metadata": {},
     "output_type": "display_data"
    }
   ],
   "source": [
    "w = 3.5\n",
    "h = 3.25              # Plots have dimension (w,h)\n",
    "\n",
    "plt.figure(figsize = (w, h))\n",
    "\n",
    "plt.plot(ps, avgs, c='blue', lw = 0.75)\n",
    "\n",
    "plt.minorticks_on()\n",
    "plt.tick_params(which = 'minor', length = 3)\n",
    "plt.tick_params(which = 'major', length = 5)\n",
    "plt.tick_params(which = 'both', direction='in')\n",
    "plt.ylabel('Mean Absolute Error')\n",
    "plt.xlabel(r'$p$')\n",
    "plt.ylim(0.46, 0.48)\n",
    "\n",
    "plt.title(r\"\\it $A/B$ Parametrization\",loc=\"right\");\n",
    "plt.savefig('plots/zenodo/ab_mse_6.pdf', \n",
    "            dpi=300, \n",
    "            bbox_inches='tight')"
   ]
  },
  {
   "cell_type": "markdown",
   "id": "525c8a66-8e9b-4002-96ec-eedd2b1a4f93",
   "metadata": {
    "tags": []
   },
   "source": [
    "## AB SQR"
   ]
  },
  {
   "cell_type": "code",
   "execution_count": 15,
   "id": "fd334724-1f8b-436b-9e49-4503f5ceb345",
   "metadata": {},
   "outputs": [],
   "source": [
    "# Experiment parameters\n",
    "num = 6\n",
    "reps = 20\n",
    "\n",
    "# File parameters\n",
    "filestr = 'models/zenodo/ab_sqr/set_{}/'.format(num)\n",
    "lin_filestr = filestr + 'relu/model_{}_{}.h5'\n",
    "exp_filestr = filestr + 'exponential/model_{}_{}.h5'\n",
    "\n",
    "# Data parameters\n",
    "N = 10**6\n",
    "X = np.load('data/zenodo/fold/6/X_trn.npy')[:N]\n",
    "y = np.load('data/zenodo/fold/6/y_trn.npy')[:N].astype('float32')\n",
    "data, m, s = split_data(X, y)\n",
    "\n",
    "rs = np.sort(np.append(np.round(np.linspace(-2, 2, 81), 2),\n",
    "                       np.round(np.linspace(-0.05, 0.05, 26), 3)[1:-1]))"
   ]
  },
  {
   "cell_type": "code",
   "execution_count": 14,
   "id": "6fb33fad-86c8-4532-b713-ddbbe3597496",
   "metadata": {},
   "outputs": [
    {
     "name": "stdout",
     "output_type": "stream",
     "text": [
      "-2.0\t-1.95\t-1.9\t-1.85\t-1.8\t-1.75\t-1.7\t-1.65\t-1.6\t-1.55\t-1.5\t-1.45\t-1.4\t-1.35\t-1.3\t-1.25\t-1.2\t-1.15\t-1.1\t-1.05\t-1.0\t-0.95\t-0.9\t-0.85\t-0.8\t-0.75\t-0.7\t-0.65\t-0.6\t-0.55\t"
     ]
    },
    {
     "name": "stderr",
     "output_type": "stream",
     "text": [
      "/clusterfs/ml4hep/shahzar/reweighting-schemes/utils/training.py:224: RuntimeWarning: divide by zero encountered in power\n",
      "  return np.squeeze(f**p)\n"
     ]
    },
    {
     "name": "stdout",
     "output_type": "stream",
     "text": [
      "-0.5\t-0.45\t-0.4\t-0.35\t-0.3\t-0.25\t-0.2\t-0.15\t-0.1\t"
     ]
    },
    {
     "name": "stderr",
     "output_type": "stream",
     "text": [
      "/tmp/ipykernel_2994917/3780721232.py:4: RuntimeWarning: Mean of empty slice.\n",
      "  return abs_dif[abs_dif < 100].mean()\n"
     ]
    },
    {
     "name": "stdout",
     "output_type": "stream",
     "text": [
      "-0.05\t-0.046\t-0.042\t-0.038\t"
     ]
    },
    {
     "name": "stderr",
     "output_type": "stream",
     "text": [
      "/tmp/ipykernel_2994917/3780721232.py:2: RuntimeWarning: invalid value encountered in subtract\n",
      "  abs_dif = abs(model_lr(X_mae) - lr_tst)\n"
     ]
    },
    {
     "name": "stdout",
     "output_type": "stream",
     "text": [
      "-0.034\t-0.03\t-0.026\t-0.022\t-0.018\t-0.014\t-0.01\t-0.006\t-0.002\t0.0\t0.002\t"
     ]
    },
    {
     "name": "stderr",
     "output_type": "stream",
     "text": [
      "/clusterfs/ml4hep/shahzar/reweighting-schemes/utils/training.py:230: RuntimeWarning: overflow encountered in exp\n",
      "  return np.squeeze(np.exp(f)**p)\n"
     ]
    },
    {
     "name": "stdout",
     "output_type": "stream",
     "text": [
      "0.006\t0.01\t0.014\t0.018\t0.022\t0.026\t0.03\t0.034\t0.038\t0.042\t0.046\t0.05\t0.1\t0.15\t0.2\t0.25\t0.3\t0.35\t0.4\t0.45\t0.5\t0.55\t0.6\t0.65\t0.7\t0.75\t0.8\t0.85\t0.9\t0.95\t1.0\t1.05\t1.1\t1.15\t1.2\t1.25\t1.3\t1.35\t1.4\t1.45\t1.5\t1.55\t1.6\t1.65\t1.7\t1.75\t1.8\t1.85\t1.9\t1.95\t2.0\t"
     ]
    }
   ],
   "source": [
    "lin_avgs = []\n",
    "exp_avgs = []\n",
    "\n",
    "for r in rs:\n",
    "    print(r, end = '\\t')\n",
    "    lin_lrs = [None] * reps\n",
    "    exp_lrs = [None] * reps\n",
    "    lin_params = {'loss': get_sqr(r), 'd': 6, 'output':'relu'}\n",
    "    exp_params = {'loss': get_exp_sqr(r), 'd': 6, 'output':'linear'}\n",
    "    \n",
    "    for i in range(reps):\n",
    "        lin_model = create_model(**lin_params)\n",
    "        exp_model = create_model(**exp_params)\n",
    "        \n",
    "        lin_model.load_weights(lin_filestr.format(r, i))\n",
    "        exp_model.load_weights(exp_filestr.format(r, i))\n",
    "        \n",
    "        lin_lrs[i] = pow_lr(lin_model, r, m, s)\n",
    "        exp_lrs[i] = pow_exp_lr(exp_model, r, m, s)\n",
    "    \n",
    "    lin_maes = [mae(lr) for lr in lin_lrs]\n",
    "    exp_maes = [mae(lr) for lr in exp_lrs]\n",
    "    \n",
    "    lin_avgs += [np.nanmean(lin_maes)]\n",
    "    exp_avgs += [np.nanmean(exp_maes)]"
   ]
  },
  {
   "cell_type": "code",
   "execution_count": 15,
   "id": "feb0b698-a0b7-4a15-a413-d4d10cea1406",
   "metadata": {},
   "outputs": [],
   "source": [
    "# Save results\n",
    "lin_avgs = np.array(lin_avgs)\n",
    "exp_avgs = np.array(exp_avgs)\n",
    "\n",
    "np.save(filestr + 'lin_avgs', lin_avgs)\n",
    "np.save(filestr + 'exp_avgs', exp_avgs)"
   ]
  },
  {
   "cell_type": "code",
   "execution_count": 17,
   "id": "e569dab1-2a10-459c-a45b-9e678dd05123",
   "metadata": {},
   "outputs": [
    {
     "data": {
      "text/plain": [
       "(array([-0.002]), array([1.1]))"
      ]
     },
     "execution_count": 17,
     "metadata": {},
     "output_type": "execute_result"
    }
   ],
   "source": [
    "lin_avgs = np.load(filestr + 'lin_avgs.npy')\n",
    "exp_avgs = np.load(filestr + 'exp_avgs.npy')\n",
    "\n",
    "rs[lin_avgs == np.nanmin(lin_avgs)], rs[exp_avgs == np.nanmin(exp_avgs)]"
   ]
  },
  {
   "cell_type": "code",
   "execution_count": 18,
   "id": "09f5b4be-a63a-4a25-aecc-da5c563f7ece",
   "metadata": {},
   "outputs": [],
   "source": [
    "from matplotlib import rc\n",
    "rc('text', usetex=False)"
   ]
  },
  {
   "cell_type": "code",
   "execution_count": 20,
   "id": "e45c9481-f9c4-4f30-8fc3-ee9bed466109",
   "metadata": {},
   "outputs": [
    {
     "data": {
      "image/png": "[encoded data removed]",
      "text/plain": [
       "<Figure size 300x280 with 1 Axes>"
      ]
     },
     "metadata": {},
     "output_type": "display_data"
    }
   ],
   "source": [
    "w = 3\n",
    "h = 2.8\n",
    "\n",
    "plt.figure(figsize = (w, h))\n",
    "\n",
    "plt.plot(rs, exp_avgs, label=r'$\\exp{z}$', c='orangered', lw = 0.75)\n",
    "plt.legend(frameon = False)\n",
    "\n",
    "plt.minorticks_on()\n",
    "plt.tick_params(which = 'minor', length = 3)\n",
    "plt.tick_params(which = 'major', length = 5)\n",
    "plt.tick_params(which = 'both', direction='in')\n",
    "plt.ylabel('Mean Absolute Error (20 trials)')\n",
    "plt.xlabel(r'$r$')\n",
    "plt.ylim(0.46, 0.48)\n",
    "plt.xlim(-2, 2)\n",
    "plt.gca().annotate(' ', (1.0, 0.14 - 0.0045), \n",
    "                   arrowprops = dict(color = 'k', headlength = 5, headwidth = 5),\n",
    "                   annotation_clip = False)\n",
    "\n",
    "#plt.title(r\"\\it $r$-SQR Losses for Physics Data\", loc=\"right\");\n",
    "plt.savefig('plots/zenodo/rsqr_physics_6.pdf', \n",
    "            dpi=300, \n",
    "            bbox_inches='tight')"
   ]
  },
  {
   "cell_type": "markdown",
   "id": "95a0b6b6-90f5-4d43-89be-e18ca4ea98c5",
   "metadata": {
    "jp-MarkdownHeadingCollapsed": true,
    "tags": []
   },
   "source": [
    "## $p^*$-MSE"
   ]
  },
  {
   "cell_type": "code",
   "execution_count": 61,
   "id": "9e2ee794-d3ce-4662-8b8b-35e6734f0d2e",
   "metadata": {},
   "outputs": [],
   "source": [
    "# Physics\n",
    "#num = 0    # p* search\n",
    "num = 2    # p*\n",
    "reps = 100\n",
    "\n",
    "# File parameters\n",
    "filestr = 'models/zenodo/ab_mse/set_{}/'.format(num)\n",
    "mse_filestr = filestr + 'model_{}.h5'\n",
    "\n",
    "if not os.path.isdir(filestr):\n",
    "    os.mkdir(filestr)\n",
    "\n",
    "# Data parameters\n",
    "N = 10**6\n",
    "X = np.load('data/zenodo/fold/X_trn.npy')[:N]\n",
    "y = np.load('data/zenodo/fold/y_trn.npy')[:N].astype('float32')\n",
    "data, m, s = split_data(X, y)\n",
    "p_star = 1.92"
   ]
  },
  {
   "cell_type": "code",
   "execution_count": 62,
   "id": "021a5652-befe-4308-b69c-9f2d1bd8e4a8",
   "metadata": {},
   "outputs": [
    {
     "name": "stdout",
     "output_type": "stream",
     "text": [
      "0\t1\t2\t3\t4\t5\t6\t7\t8\t9\t10\t11\t12\t13\t14\t15\t16\t17\t18\t19\t20\t21\t22\t23\t24\t25\t26\t27\t28\t29\t30\t31\t32\t33\t34\t35\t36\t37\t38\t39\t40\t41\t42\t43\t44\t45\t46\t47\t48\t49\t50\t51\t52\t53\t54\t55\t56\t57\t58\t59\t60\t61\t62\t63\t64\t65\t66\t67\t68\t69\t70\t71\t72\t73\t74\t75\t76\t77\t78\t79\t80\t81\t82\t83\t84\t85\t86\t87\t88\t89\t90\t91\t92\t93\t94\t95\t96\t97\t98\t99\t0.14603195 0.00030332948081195353\n"
     ]
    }
   ],
   "source": [
    "lrs = [None] * reps\n",
    "params = {'loss':get_mse(p_star), 'd': 4}\n",
    "\n",
    "for i in range(reps):\n",
    "    print(i, end = '\\t')\n",
    "    model = create_model(**params)\n",
    "    model.load_weights(mse_filestr.format(i))\n",
    "    lrs[i] = pow_odds_lr(model, p_star, m, s)\n",
    "\n",
    "# Calculate mean absolute errors\n",
    "maes = np.array([mae(lr) for lr in lrs])\n",
    "\n",
    "# Save results\n",
    "np.save(filestr + 'maes.npy', maes)\n",
    "print(np.mean(maes), np.std(maes, ddof = 1) / 10)"
   ]
  },
  {
   "cell_type": "markdown",
   "id": "6fb9d2bb-c8cb-4416-a0fb-a6fcf0b54e69",
   "metadata": {
    "jp-MarkdownHeadingCollapsed": true,
    "tags": []
   },
   "source": [
    "## $r^*$-SQR"
   ]
  },
  {
   "cell_type": "code",
   "execution_count": 65,
   "id": "1c60bc7e-2e89-403e-8a74-e8051e78a120",
   "metadata": {},
   "outputs": [],
   "source": [
    "# Physics\n",
    "#num = 0 (r-SQR search)\n",
    "num = 2    # r*\n",
    "reps = 100\n",
    "\n",
    "# File parameters\n",
    "filestr = 'models/zenodo/ab_sqr/set_{}/'.format(num)\n",
    "sqr_filestr = filestr + 'model_{}.h5'\n",
    "\n",
    "if not os.path.isdir(filestr):\n",
    "    os.mkdir(filestr)\n",
    "\n",
    "# Data parameters\n",
    "N = 10**6\n",
    "X = np.load('data/zenodo/fold/X_trn.npy')[:N]\n",
    "y = np.load('data/zenodo/fold/y_trn.npy')[:N].astype('float32')\n",
    "data, m, s = split_data(X, y)\n",
    "\n",
    "r_star = -0.25"
   ]
  },
  {
   "cell_type": "code",
   "execution_count": 66,
   "id": "c5baa5e6-2d5e-40e1-8e3b-75c5e3ff17a4",
   "metadata": {},
   "outputs": [
    {
     "name": "stdout",
     "output_type": "stream",
     "text": [
      "0\t1\t2\t3\t4\t5\t6\t7\t8\t9\t10\t11\t12\t13\t14\t15\t16\t17\t18\t19\t20\t21\t22\t23\t24\t25\t26\t27\t28\t29\t30\t31\t32\t33\t34\t35\t36\t37\t38\t39\t40\t41\t42\t43\t44\t45\t46\t47\t48\t49\t50\t51\t52\t53\t54\t55\t56\t57\t58\t59\t60\t61\t62\t63\t64\t65\t66\t67\t68\t69\t70\t71\t72\t73\t74\t75\t76\t77\t78\t79\t80\t81\t82\t83\t84\t85\t86\t87\t88\t89\t90\t91\t92\t93\t94\t95\t96\t97\t98\t99\t0.14465256 0.0001573489513248205\n"
     ]
    }
   ],
   "source": [
    "lrs = [None] * reps\n",
    "params = {'loss':get_exp_sqr(r_star), 'd': 4, 'output': 'linear'}\n",
    "\n",
    "for i in range(reps):\n",
    "    print(i, end = '\\t')\n",
    "    model = create_model(**params)\n",
    "    model.load_weights(sqr_filestr.format(i))\n",
    "    lrs[i] = pow_exp_lr(model, r_star, m, s)\n",
    "\n",
    "# Calculate mean absolute errors\n",
    "maes = np.array([mae(lr) for lr in lrs])\n",
    "\n",
    "# Save results\n",
    "np.save(filestr + 'maes.npy', maes)\n",
    "print(np.mean(maes), np.std(maes, ddof = 1) / 10)"
   ]
  },
  {
   "cell_type": "markdown",
   "id": "b05201fd-358d-49c6-b1ee-30c2ba2aa0c7",
   "metadata": {
    "jp-MarkdownHeadingCollapsed": true,
    "tags": []
   },
   "source": [
    "# Check NaNs"
   ]
  },
  {
   "cell_type": "markdown",
   "id": "ea1d5ce4-9b46-489e-91a3-e96f6187ed99",
   "metadata": {},
   "source": [
    "## BCE"
   ]
  },
  {
   "cell_type": "code",
   "execution_count": null,
   "id": "f9af71de-fc35-4d19-9fb9-ad743d7c8518",
   "metadata": {},
   "outputs": [],
   "source": [
    "# Experiment parameters\n",
    "num = 0\n",
    "filestr = 'models/zenodo/c_bce/set_{}/'.format(num)\n",
    "\n",
    "# Data parameters\n",
    "N = 10**6\n",
    "X = np.load('data/zenodo/fold/X_trn.npy')[:N]\n",
    "X_mae = np.load('data/zenodo/fold/' + 'X_tst.npy')\n",
    "abs_dif_1 = np.load(filestr + 'abs_dif_1.npy')"
   ]
  },
  {
   "cell_type": "code",
   "execution_count": null,
   "id": "ee90407e-2162-458b-a9b1-f01a08c92eaa",
   "metadata": {},
   "outputs": [],
   "source": [
    "bad = X_mae[np.any(abs_dif_1 > 100, axis = 0)]"
   ]
  },
  {
   "cell_type": "code",
   "execution_count": null,
   "id": "60d943b3-864c-4c6a-bc10-23c585bbf07f",
   "metadata": {},
   "outputs": [],
   "source": [
    "plt.scatter(X[:, 0], X[:, 1], alpha = 0.01, label = 'Flow')\n",
    "plt.scatter(bad[:, 0], bad[:, 1], alpha = 0.5, c = 'red', label = '> 100')\n",
    "plt.xlabel(r'$p_T$')\n",
    "plt.ylabel(r'$\\eta$')\n",
    "plt.title('Points with BCE MAE Exceeding 100', loc = 'left')\n",
    "\n",
    "plt.savefig('plots/zenodo/bce_pt_eta.png', \n",
    "            dpi=300, \n",
    "            bbox_inches='tight')"
   ]
  },
  {
   "cell_type": "code",
   "execution_count": null,
   "id": "2d1dee53-9387-452b-b27f-106341aba034",
   "metadata": {},
   "outputs": [],
   "source": [
    "plt.scatter(X[:, 0], X[:, 2], alpha = 0.01, label = 'Flow')\n",
    "plt.scatter(bad[:, 0], bad[:, 2], alpha = 0.5, c = 'red', label = '> 100')\n",
    "plt.xlabel(r'$p_T$')\n",
    "plt.ylabel(r'$\\phi$')\n",
    "plt.title('Points with BCE MAE Exceeding 100', loc = 'left')\n",
    "\n",
    "plt.savefig('plots/zenodo/bce_pt_phi.png', \n",
    "            dpi=300, \n",
    "            bbox_inches='tight')"
   ]
  },
  {
   "cell_type": "code",
   "execution_count": null,
   "id": "8ff07d96-d2f4-4e2e-93b8-9ef16d5da7d1",
   "metadata": {},
   "outputs": [],
   "source": [
    "plt.scatter(X[:, 0], X[:, 3], alpha = 0.01, label = 'Flow')\n",
    "plt.scatter(bad[:, 0], bad[:, 3], alpha = 0.5, c = 'red', label = '> 100')\n",
    "plt.xlabel(r'$p_T$')\n",
    "plt.ylabel(r'$m$')\n",
    "plt.title('Points with BCE MAE Exceeding 100', loc = 'left')\n",
    "\n",
    "plt.savefig('plots/zenodo/bce_pt_m.png', \n",
    "            dpi=300, \n",
    "            bbox_inches='tight')"
   ]
  },
  {
   "cell_type": "code",
   "execution_count": null,
   "id": "2a81afae-015a-42fd-b7db-cf592be876f3",
   "metadata": {},
   "outputs": [],
   "source": [
    "plt.scatter(X[:, 1], X[:, 2], alpha = 0.01, label = 'Flow')\n",
    "plt.scatter(bad[:, 1], bad[:, 2], alpha = 0.5, c = 'red', label = '> 100')\n",
    "plt.xlabel(r'$\\eta$')\n",
    "plt.ylabel(r'$\\phi$')\n",
    "plt.title('Points with BCE MAE Exceeding 100', loc = 'left')\n",
    "\n",
    "plt.savefig('plots/zenodo/bce_eta_phi.png', \n",
    "            dpi=300, \n",
    "            bbox_inches='tight')"
   ]
  },
  {
   "cell_type": "code",
   "execution_count": null,
   "id": "b497a3e3-043b-4167-a6d0-9d5dac12b5a0",
   "metadata": {},
   "outputs": [],
   "source": [
    "plt.scatter(X[:, 1], X[:, 3], alpha = 0.01, label = 'Flow')\n",
    "plt.scatter(bad[:, 1], bad[:, 3], alpha = 0.5, c = 'red', label = '> 100')\n",
    "plt.xlabel(r'$\\eta$')\n",
    "plt.ylabel(r'$m$')\n",
    "plt.title('Points with BCE MAE Exceeding 100', loc = 'left')\n",
    "\n",
    "plt.savefig('plots/zenodo/bce_eta_m.png', \n",
    "            dpi=300, \n",
    "            bbox_inches='tight')"
   ]
  },
  {
   "cell_type": "code",
   "execution_count": null,
   "id": "6686c6fd-32c4-4f2b-9390-1b727ee3c121",
   "metadata": {},
   "outputs": [],
   "source": [
    "plt.scatter(X[:, 2], X[:, 3], alpha = 0.01, label = 'Flow')\n",
    "plt.scatter(bad[:, 2], bad[:, 3], alpha = 0.5, c = 'red', label = '> 100')\n",
    "plt.xlabel(r'$\\phi$')\n",
    "plt.ylabel(r'$m$')\n",
    "plt.title('Points with BCE MAE Exceeding 100', loc = 'left')\n",
    "\n",
    "plt.savefig('plots/zenodo/bce_phi_m.png', \n",
    "            dpi=300, \n",
    "            bbox_inches='tight')"
   ]
  },
  {
   "cell_type": "markdown",
   "id": "ad273b1d-5357-4d7b-8dc5-b50929824343",
   "metadata": {},
   "source": [
    "## MLC"
   ]
  },
  {
   "cell_type": "code",
   "execution_count": null,
   "id": "44026c8a-71b0-4488-8d4a-b06c6d7eea51",
   "metadata": {},
   "outputs": [],
   "source": [
    "# Experiment parameters\n",
    "num = 0\n",
    "filestr = 'models/zenodo/c_mlc/set_{}/'.format(num)\n",
    "\n",
    "# Data parameters\n",
    "N = 10**6\n",
    "X = np.load('data/zenodo/fold/X_trn.npy')[:N]\n",
    "X_mae = np.load('data/zenodo/fold/' + 'X_tst.npy')\n",
    "abs_dif_1 = np.load(filestr + 'abs_dif_1.npy')"
   ]
  },
  {
   "cell_type": "code",
   "execution_count": null,
   "id": "03be085f-2b37-4797-907c-620ddbbcb4bf",
   "metadata": {},
   "outputs": [],
   "source": [
    "bad = X_mae[np.any(abs_dif_1 > 100, axis = 0)]"
   ]
  },
  {
   "cell_type": "code",
   "execution_count": null,
   "id": "6bc8430c-f0ab-45c7-8283-2d0510cd5033",
   "metadata": {},
   "outputs": [],
   "source": [
    "plt.scatter(X[:, 0], X[:, 1], alpha = 0.01, label = 'Flow')\n",
    "plt.scatter(bad[:, 0], bad[:, 1], alpha = 0.5, c = 'red', label = '> 100')\n",
    "plt.xlabel(r'$p_T$')\n",
    "plt.ylabel(r'$\\eta$')\n",
    "plt.title('Points with MLC MAE Exceeding 100', loc = 'left')\n",
    "\n",
    "plt.savefig('plots/zenodo/mlc_pt_eta.png', \n",
    "            dpi=300, \n",
    "            bbox_inches='tight')"
   ]
  },
  {
   "cell_type": "code",
   "execution_count": null,
   "id": "be6e6157-b536-461f-a19d-0d5306f1748e",
   "metadata": {},
   "outputs": [],
   "source": [
    "plt.scatter(X[:, 0], X[:, 2], alpha = 0.01, label = 'Flow')\n",
    "plt.scatter(bad[:, 0], bad[:, 2], alpha = 0.5, c = 'red', label = '> 100')\n",
    "plt.xlabel(r'$p_T$')\n",
    "plt.ylabel(r'$\\phi$')\n",
    "plt.title('Points with MLC MAE Exceeding 100', loc = 'left')\n",
    "\n",
    "plt.savefig('plots/zenodo/mlc_pt_phi.png', \n",
    "            dpi=300, \n",
    "            bbox_inches='tight')"
   ]
  },
  {
   "cell_type": "code",
   "execution_count": null,
   "id": "5bb7ebe8-2dbf-43e9-9bd1-c367faf68ef6",
   "metadata": {},
   "outputs": [],
   "source": [
    "plt.scatter(X[:, 0], X[:, 3], alpha = 0.01, label = 'Flow')\n",
    "plt.scatter(bad[:, 0], bad[:, 3], alpha = 0.5, c = 'red', label = '> 100')\n",
    "plt.xlabel(r'$p_T$')\n",
    "plt.ylabel(r'$m$')\n",
    "plt.title('Points with MLC MAE Exceeding 100', loc = 'left')\n",
    "\n",
    "plt.savefig('plots/zenodo/mlc_pt_m.png', \n",
    "            dpi=300, \n",
    "            bbox_inches='tight')"
   ]
  },
  {
   "cell_type": "code",
   "execution_count": null,
   "id": "0c74ad51-d805-41ac-a110-bf94221af0cb",
   "metadata": {},
   "outputs": [],
   "source": [
    "plt.scatter(X[:, 1], X[:, 2], alpha = 0.01, label = 'Flow')\n",
    "plt.scatter(bad[:, 1], bad[:, 2], alpha = 0.5, c = 'red', label = '> 100')\n",
    "plt.xlabel(r'$\\eta$')\n",
    "plt.ylabel(r'$\\phi$')\n",
    "plt.title('Points with MLC MAE Exceeding 100', loc = 'left')\n",
    "\n",
    "plt.savefig('plots/zenodo/mlc_eta_phi.png', \n",
    "            dpi=300, \n",
    "            bbox_inches='tight')"
   ]
  },
  {
   "cell_type": "code",
   "execution_count": null,
   "id": "6fbb9616-718b-4cfe-a62c-45cde511c764",
   "metadata": {},
   "outputs": [],
   "source": [
    "plt.scatter(X[:, 1], X[:, 3], alpha = 0.01, label = 'Flow')\n",
    "plt.scatter(bad[:, 1], bad[:, 3], alpha = 0.5, c = 'red', label = '> 100')\n",
    "plt.xlabel(r'$\\eta$')\n",
    "plt.ylabel(r'$m$')\n",
    "plt.title('Points with MLC MAE Exceeding 100', loc = 'left')\n",
    "\n",
    "plt.savefig('plots/zenodo/mlc_eta_m.png', \n",
    "            dpi=300, \n",
    "            bbox_inches='tight')"
   ]
  },
  {
   "cell_type": "code",
   "execution_count": null,
   "id": "ff94535c-d967-47fe-aefd-84daf0f920c2",
   "metadata": {},
   "outputs": [],
   "source": [
    "plt.scatter(X[:, 2], X[:, 3], alpha = 0.01, label = 'Flow')\n",
    "plt.scatter(bad[:, 2], bad[:, 3], alpha = 0.5, c = 'red', label = '> 100')\n",
    "plt.xlabel(r'$\\phi$')\n",
    "plt.ylabel(r'$m$')\n",
    "plt.title('Points with MLC MAE Exceeding 100', loc = 'left')\n",
    "\n",
    "plt.savefig('plots/zenodo/mlc_phi_m.png', \n",
    "            dpi=300, \n",
    "            bbox_inches='tight')"
   ]
  },
  {
   "cell_type": "markdown",
   "id": "bad3fa74-f2c8-4ab3-b981-fc8bce934a40",
   "metadata": {
    "jp-MarkdownHeadingCollapsed": true,
    "tags": []
   },
   "source": [
    "# Random Slice"
   ]
  },
  {
   "cell_type": "code",
   "execution_count": 7,
   "id": "1e9f7a90-42a9-4a12-b1de-a95dacdf49e3",
   "metadata": {},
   "outputs": [],
   "source": [
    "X = np.load('data/zenodo/fold/X_trn.npy')\n",
    "y = np.load('data/zenodo/fold/y_trn.npy')"
   ]
  },
  {
   "cell_type": "code",
   "execution_count": 8,
   "id": "e0f2b0ba-de43-4510-a480-3ce3e82cd64d",
   "metadata": {},
   "outputs": [
    {
     "data": {
      "text/plain": [
       "ModeResult(mode=array([[218.1418   ,  -2.0407841,   4.4148946,  22.070618 ]],\n",
       "      dtype=float32), count=array([[9, 6, 8, 9]]))"
      ]
     },
     "execution_count": 8,
     "metadata": {},
     "output_type": "execute_result"
    }
   ],
   "source": [
    "stats.mode(X)"
   ]
  },
  {
   "cell_type": "code",
   "execution_count": 9,
   "id": "e891d375-58ae-409d-8abc-dd0f33ad9d3b",
   "metadata": {},
   "outputs": [],
   "source": [
    "mode_pT = 218\n",
    "mode_eta = 0\n",
    "mode_phi = 4.4\n",
    "mode_m = 22"
   ]
  },
  {
   "cell_type": "markdown",
   "id": "d004f2bf-031e-4447-8877-01688258cd1d",
   "metadata": {
    "tags": []
   },
   "source": [
    "## $\\phi$ Scan"
   ]
  },
  {
   "cell_type": "code",
   "execution_count": 10,
   "id": "709685a5-1369-4cd4-83aa-47df5d23d452",
   "metadata": {},
   "outputs": [],
   "source": [
    "# Get a one-dimensional slice of test points.\n",
    "phis = np.linspace(0, 2*np.pi, 1201).reshape(-1, 1)\n",
    "pTs = np.repeat(mode_pT, len(phis)).reshape(-1, 1)\n",
    "etas = np.repeat(mode_eta, len(phis)).reshape(-1, 1)\n",
    "ms = np.repeat(mode_m, len(phis)).reshape(-1, 1)\n",
    "\n",
    "xs = np.hstack([pTs, etas, phis, ms])\n",
    "var = phis\n",
    "var_label = r'$\\phi$'\n",
    "var_string = 'phi'\n",
    "\n",
    "lr_true = lr(xs)"
   ]
  },
  {
   "cell_type": "code",
   "execution_count": 11,
   "id": "d97e6387-b9fc-4428-a175-985aa9c1d4c4",
   "metadata": {},
   "outputs": [
    {
     "data": {
      "text/plain": [
       "[<matplotlib.lines.Line2D at 0x7f3ae0665360>]"
      ]
     },
     "execution_count": 11,
     "metadata": {},
     "output_type": "execute_result"
    },
    {
     "data": {
      "image/png": "[encoded data removed]",
      "text/plain": [
       "<Figure size 432x288 with 1 Axes>"
      ]
     },
     "metadata": {
      "needs_background": "light"
     },
     "output_type": "display_data"
    }
   ],
   "source": [
    "plt.plot(phis, lr_true)"
   ]
  },
  {
   "cell_type": "markdown",
   "id": "609ce1cc-c789-45e6-814f-627705a99ac9",
   "metadata": {
    "tags": []
   },
   "source": [
    "### BCE"
   ]
  },
  {
   "cell_type": "code",
   "execution_count": 34,
   "id": "26b154b4-2fce-40b1-9085-bc3e946310b7",
   "metadata": {},
   "outputs": [],
   "source": [
    "# Experiment parameters\n",
    "num = 0\n",
    "reps = 100\n",
    "\n",
    "# Model parameters\n",
    "params_1 = {'loss':bce, 'd':4}\n",
    "params_2 = {'loss':tanh_bce, 'd':4, 'output': 'linear'}\n",
    "params_3 = {'loss':arctan_bce, 'd':4,  'output': 'linear'}\n",
    "\n",
    "filestr = 'models/zenodo/c_bce/set_{}/'.format(num)\n",
    "filestr_1 = filestr + 'sigmoid/model_{}.h5'\n",
    "filestr_2 = filestr + 'tanh/model_{}.h5'\n",
    "filestr_3 = filestr + 'arctan/model_{}.h5'\n",
    "\n",
    "# Data parameters\n",
    "N = 10**6\n",
    "X = np.load('data/zenodo/fold/X_trn.npy')[:N]\n",
    "y = np.load('data/zenodo/fold/y_trn.npy')[:N].astype('float32')\n",
    "data, m, s = split_data(X, y)\n",
    "\n",
    "lr_calc_1 = odds_lr\n",
    "lr_calc_2 = tanh_lr\n",
    "lr_calc_3 = arctan_lr\n",
    "\n",
    "# Plotting\n",
    "w = 3.5\n",
    "h = 3.25\n",
    "labels = [r'$\\sigma(z)$', r'$\\frac{1}{2}\\left(\\tanh{z} + 1\\right)$', r'$\\frac{1}{\\pi}\\left(\\arctan{z} + \\frac{\\pi}{2}\\right)$']\n",
    "y_lim = (0, 3)\n",
    "title = r'\\it BCE $\\phi$ Scan'\n",
    "filename = 'plots/zenodo/scans/bce_phi.png'"
   ]
  },
  {
   "cell_type": "code",
   "execution_count": 35,
   "id": "09c98be5-e08e-4820-8118-9cbe11f2937d",
   "metadata": {},
   "outputs": [
    {
     "name": "stdout",
     "output_type": "stream",
     "text": [
      "0 1 2 3 4 5 6 7 8 9 10 11 12 13 14 15 16 17 18 19 20 21 22 23 24 25 26 27 28 29 30 31 32 33 34 35 36 37 38 39 40 41 42 43 44 45 46 47 48 49 50 51 52 53 54 55 56 57 58 59 60 61 62 63 64 65 66 67 68 69 70 71 72 73 74 75 76 77 78 79 80 81 82 83 84 85 86 87 88 89 90 91 92 93 94 95 96 97 98 99 "
     ]
    }
   ],
   "source": [
    "lrs_1 = [None] * reps\n",
    "lrs_2 = [None] * reps\n",
    "lrs_3 = [None] * reps\n",
    "\n",
    "for i in range(reps):\n",
    "    print(i, end = ' ')\n",
    "    model_1 = create_model(**params_1)\n",
    "    model_2 = create_model(**params_2)\n",
    "    model_3 = create_model(**params_3)\n",
    "    \n",
    "    model_1.load_weights(filestr_1.format(i))\n",
    "    model_2.load_weights(filestr_2.format(i))\n",
    "    model_3.load_weights(filestr_3.format(i))\n",
    "    \n",
    "    lrs_1[i] = lr_calc_1(model_1, m, s)\n",
    "    lrs_2[i] = lr_calc_2(model_2, m, s)\n",
    "    lrs_3[i] = lr_calc_3(model_3, m, s)"
   ]
  },
  {
   "cell_type": "code",
   "execution_count": 36,
   "id": "f67aeaa4-d858-4caa-b8d6-7990bc68c074",
   "metadata": {},
   "outputs": [],
   "source": [
    "# Calculate predictions\n",
    "preds_1 = get_preds(lrs_1, xs)\n",
    "preds_2 = get_preds(lrs_2, xs)\n",
    "preds_3 = get_preds(lrs_3, xs)\n",
    "\n",
    "# Save results\n",
    "np.save(filestr + 'scans/{}/xs.npy'.format(var_string), xs)\n",
    "np.save(filestr + 'scans/{}/preds_1.npy'.format(var_string), preds_1)\n",
    "np.save(filestr + 'scans/{}/preds_2.npy'.format(var_string), preds_2)\n",
    "np.save(filestr + 'scans/{}/preds_3.npy'.format(var_string), preds_3)"
   ]
  },
  {
   "cell_type": "code",
   "execution_count": 37,
   "id": "2c3f1f1d-5f76-4879-bced-82edcc803e1f",
   "metadata": {},
   "outputs": [],
   "source": [
    "ensembles = [preds_1, preds_2, preds_3]\n",
    "n = len(ensembles)\n",
    "\n",
    "lrs = [None] * n\n",
    "lrrs = [None] * n\n",
    "for i in range(n):\n",
    "    lrs[i] = avg_lr(ensembles[i])\n",
    "    lrrs[i] = avg_lrr(lr, ensembles[i], xs)"
   ]
  },
  {
   "cell_type": "code",
   "execution_count": 38,
   "id": "a4bd0960-a081-4c3c-ac83-93e0ca570dcc",
   "metadata": {},
   "outputs": [],
   "source": [
    "cs = ['crimson', 'orangered', 'darkorange']\n",
    "lss = [':', '--', '-.']"
   ]
  },
  {
   "cell_type": "code",
   "execution_count": 39,
   "id": "ac075fe2-34bc-40fc-aa1d-e642b4221ea8",
   "metadata": {},
   "outputs": [
    {
     "data": {
      "image/png": "[encoded data removed]",
      "text/plain": [
       "<Figure size 252x234 with 2 Axes>"
      ]
     },
     "metadata": {
      "needs_background": "light"
     },
     "output_type": "display_data"
    }
   ],
   "source": [
    "fig, axs = plt.subplots(2, 1,\n",
    "                        figsize = (w, h),\n",
    "                        sharex = True, \n",
    "                        gridspec_kw = {'height_ratios': [2, 1]})\n",
    "\n",
    "if title:\n",
    "    axs[0].set_title(title, loc = 'right')\n",
    "\n",
    "# Plot likelihood ratios\n",
    "axs[0].plot(var, lr_true, label = 'Exact', c = 'k', lw = 0.75)\n",
    "\n",
    "for i in range(n):\n",
    "    axs[0].plot(var, \n",
    "                lrs[i], \n",
    "                label = labels[i],\n",
    "                c = cs[i % len(cs)], \n",
    "                ls = lss[i % len(lss)],\n",
    "                lw = 0.75)\n",
    "\n",
    "axs[0].set_xlim(var[0], var[-1])\n",
    "if y_lim:\n",
    "    axs[0].set_ylim(y_lim[0], y_lim[1])\n",
    "axs[0].legend()\n",
    "axs[0].minorticks_on()\n",
    "axs[0].tick_params(which = 'minor', length = 3)\n",
    "axs[0].tick_params(which = 'major', length = 5)\n",
    "axs[0].tick_params(which = 'both', direction='in')\n",
    "axs[0].set_ylabel('$\\mathcal{L}(x)$')\n",
    "axs[0].legend(frameon = False)\n",
    "\n",
    "# Plot likelihood ratio ratios\n",
    "for i in range(n):\n",
    "    axs[1].plot(var, \n",
    "                lrrs[i],\n",
    "                c = cs[i % len(cs)],\n",
    "                ls = lss[i % len(lss)],\n",
    "                lw = 0.75)\n",
    "\n",
    "axs[1].axhline(1,ls=\":\",color=\"grey\", lw=0.5)\n",
    "axs[1].axvline(0,ls=\":\",color=\"grey\", lw=0.5)\n",
    "axs[1].set_ylim(0.85, 1.15);\n",
    "axs[1].minorticks_on()\n",
    "axs[1].tick_params(which = 'minor', length = 3)\n",
    "axs[1].tick_params(which = 'major', length = 5)\n",
    "axs[1].tick_params(which = 'both', direction='in')\n",
    "axs[1].set_ylabel('Ratio')\n",
    "\n",
    "plt.subplots_adjust(hspace = 0.1)\n",
    "plt.xlabel(var_label)\n",
    "\n",
    "if filename:\n",
    "    plt.savefig(filename, \n",
    "                dpi = 300,\n",
    "                transparent = True,\n",
    "                bbox_inches = 'tight')"
   ]
  },
  {
   "cell_type": "markdown",
   "id": "72374ad5-e6b3-4134-988b-582feeb5f62d",
   "metadata": {
    "jp-MarkdownHeadingCollapsed": true,
    "tags": []
   },
   "source": [
    "### MSE"
   ]
  },
  {
   "cell_type": "code",
   "execution_count": 17,
   "id": "da7a3fc7-920c-4b07-9a9a-169a0af798ef",
   "metadata": {},
   "outputs": [],
   "source": [
    "# Experiment parameters\n",
    "num = 0\n",
    "reps = 100\n",
    "\n",
    "# Model parameters\n",
    "params_1 = {'loss':mse, 'd':4}\n",
    "params_2 = {'loss':tanh_mse, 'd':4, 'output': 'linear'}\n",
    "params_3 = {'loss':arctan_mse, 'd':4,  'output': 'linear'}\n",
    "\n",
    "filestr = 'models/zenodo/c_mse/set_{}/'.format(num)\n",
    "filestr_1 = filestr + 'sigmoid/model_{}.h5'\n",
    "filestr_2 = filestr + 'tanh/model_{}.h5'\n",
    "filestr_3 = filestr + 'arctan/model_{}.h5'\n",
    "\n",
    "# Data parameters\n",
    "N = 10**6\n",
    "X = np.load('data/zenodo/fold/X_trn.npy')[:N]\n",
    "y = np.load('data/zenodo/fold/y_trn.npy')[:N].astype('float32')\n",
    "data, m, s = split_data(X, y)\n",
    "\n",
    "lr_calc_1 = odds_lr\n",
    "lr_calc_2 = tanh_lr\n",
    "lr_calc_3 = arctan_lr\n",
    "\n",
    "# Plotting\n",
    "w = 3.5\n",
    "h = 3.25\n",
    "labels = [r'$\\sigma(z)$', r'$\\frac{1}{2}\\left(\\tanh{z} + 1\\right)$', r'$\\frac{1}{\\pi}\\left(\\arctan{z} + \\frac{\\pi}{2}\\right)$']\n",
    "y_lim = (0, 3)\n",
    "title = r'\\it MSE $\\phi$ Scan'\n",
    "filename = 'plots/zenodo/scans/mse_phi.png'"
   ]
  },
  {
   "cell_type": "code",
   "execution_count": 18,
   "id": "93a5229b-fa43-4307-b500-f906963c17ba",
   "metadata": {},
   "outputs": [
    {
     "name": "stdout",
     "output_type": "stream",
     "text": [
      "0 1 2 3 4 5 6 7 8 9 10 11 12 13 14 15 16 17 18 19 20 21 22 23 24 25 26 27 28 29 30 31 32 33 34 35 36 37 38 39 40 41 42 43 44 45 46 47 48 49 50 51 52 53 54 55 56 57 58 59 60 61 62 63 64 65 66 67 68 69 70 71 72 73 74 75 76 77 78 79 80 81 82 83 84 85 86 87 88 89 90 91 92 93 94 95 96 97 98 99 "
     ]
    }
   ],
   "source": [
    "lrs_1 = [None] * reps\n",
    "lrs_2 = [None] * reps\n",
    "lrs_3 = [None] * reps\n",
    "\n",
    "for i in range(reps):\n",
    "    print(i, end = ' ')\n",
    "    model_1 = create_model(**params_1)\n",
    "    model_2 = create_model(**params_2)\n",
    "    model_3 = create_model(**params_3)\n",
    "    \n",
    "    model_1.load_weights(filestr_1.format(i))\n",
    "    model_2.load_weights(filestr_2.format(i))\n",
    "    model_3.load_weights(filestr_3.format(i))\n",
    "    \n",
    "    lrs_1[i] = lr_calc_1(model_1, m, s)\n",
    "    lrs_2[i] = lr_calc_2(model_2, m, s)\n",
    "    lrs_3[i] = lr_calc_3(model_3, m, s)"
   ]
  },
  {
   "cell_type": "code",
   "execution_count": 19,
   "id": "cb19ca95-91c7-4cc3-9434-63049c50ba96",
   "metadata": {},
   "outputs": [],
   "source": [
    "# Calculate predictions\n",
    "preds_1 = get_preds(lrs_1, xs)\n",
    "preds_2 = get_preds(lrs_2, xs)\n",
    "preds_3 = get_preds(lrs_3, xs)\n",
    "\n",
    "# Save results\n",
    "np.save(filestr + 'scans/{}/xs.npy'.format(var_string), xs)\n",
    "np.save(filestr + 'scans/{}/preds_1.npy'.format(var_string), preds_1)\n",
    "np.save(filestr + 'scans/{}/preds_2.npy'.format(var_string), preds_2)\n",
    "np.save(filestr + 'scans/{}/preds_3.npy'.format(var_string), preds_3)"
   ]
  },
  {
   "cell_type": "code",
   "execution_count": 20,
   "id": "45fa78cb-46e5-4cc2-89ab-c83f95f11448",
   "metadata": {},
   "outputs": [],
   "source": [
    "ensembles = [preds_1, preds_2, preds_3]\n",
    "n = len(ensembles)\n",
    "\n",
    "lrs = [None] * n\n",
    "lrrs = [None] * n\n",
    "for i in range(n):\n",
    "    lrs[i] = avg_lr(ensembles[i])\n",
    "    lrrs[i] = avg_lrr(lr, ensembles[i], xs)"
   ]
  },
  {
   "cell_type": "code",
   "execution_count": 21,
   "id": "605dc22d-0441-46b7-982e-52708f597211",
   "metadata": {},
   "outputs": [
    {
     "data": {
      "image/png": "[encoded data removed]",
      "text/plain": [
       "<Figure size 252x234 with 2 Axes>"
      ]
     },
     "metadata": {
      "needs_background": "light"
     },
     "output_type": "display_data"
    }
   ],
   "source": [
    "fig, axs = plt.subplots(2, 1,\n",
    "                        figsize = (w, h),\n",
    "                        sharex = True, \n",
    "                        gridspec_kw = {'height_ratios': [2, 1]})\n",
    "\n",
    "if title:\n",
    "    axs[0].set_title(title, loc = 'right')\n",
    "\n",
    "# Plot likelihood ratios\n",
    "axs[0].plot(var, lr_true, label = 'Exact', c = 'k', lw = 0.75)\n",
    "\n",
    "for i in range(n):\n",
    "    axs[0].plot(var, \n",
    "                lrs[i], \n",
    "                label = labels[i],\n",
    "                c = cs[i % len(cs)], \n",
    "                ls = lss[i % len(lss)],\n",
    "                lw = 0.75)\n",
    "\n",
    "axs[0].set_xlim(var[0], var[-1])\n",
    "if y_lim:\n",
    "    axs[0].set_ylim(y_lim[0], y_lim[1])\n",
    "axs[0].legend()\n",
    "axs[0].minorticks_on()\n",
    "axs[0].tick_params(which = 'minor', length = 3)\n",
    "axs[0].tick_params(which = 'major', length = 5)\n",
    "axs[0].tick_params(which = 'both', direction='in')\n",
    "axs[0].set_ylabel('$\\mathcal{L}(x)$')\n",
    "\n",
    "# Plot likelihood ratio ratios\n",
    "for i in range(n):\n",
    "    axs[1].plot(var, \n",
    "                lrrs[i],\n",
    "                c = cs[i % len(cs)],\n",
    "                ls = lss[i % len(lss)],\n",
    "                lw = 0.75)\n",
    "\n",
    "axs[1].axhline(1,ls=\":\",color=\"grey\", lw=0.5)\n",
    "axs[1].axvline(0,ls=\":\",color=\"grey\", lw=0.5)\n",
    "axs[1].set_ylim(0.85, 1.15);\n",
    "axs[1].minorticks_on()\n",
    "axs[1].tick_params(which = 'minor', length = 3)\n",
    "axs[1].tick_params(which = 'major', length = 5)\n",
    "axs[1].tick_params(which = 'both', direction='in')\n",
    "axs[1].set_ylabel('Ratio')\n",
    "\n",
    "plt.subplots_adjust(hspace = 0.1)\n",
    "plt.xlabel(var_label)\n",
    "\n",
    "if filename:\n",
    "    plt.savefig(filename, \n",
    "                dpi = 300,\n",
    "                transparent = True,\n",
    "                bbox_inches = 'tight')"
   ]
  },
  {
   "cell_type": "markdown",
   "id": "c11ddc6d-bb1d-4d7d-8f39-92be3a67d3e9",
   "metadata": {
    "jp-MarkdownHeadingCollapsed": true,
    "tags": []
   },
   "source": [
    "### MLC"
   ]
  },
  {
   "cell_type": "code",
   "execution_count": 22,
   "id": "e65e67df-8bc7-4054-a6d4-36a1284ed4cb",
   "metadata": {
    "tags": []
   },
   "outputs": [],
   "source": [
    "# Experiment parameters\n",
    "num = 0\n",
    "reps = 100\n",
    "\n",
    "# Model parameters\n",
    "params_1 = {'loss':mlc, 'd': 4, 'output': 'relu'}\n",
    "params_2 = {'loss':square_mlc, 'd': 4, 'output': 'linear'}\n",
    "params_3 = {'loss':exp_mlc, 'd': 4, 'output': 'linear'}\n",
    "\n",
    "filestr = 'models/zenodo/c_mlc/set_{}/'.format(num)\n",
    "filestr_1 = filestr + 'relu/model_{}.h5'\n",
    "filestr_2 = filestr + 'square/model_{}.h5'\n",
    "filestr_3 = filestr + 'exponential/model_{}.h5'\n",
    "\n",
    "# Data parameters\n",
    "N = 10**6\n",
    "X = np.load('data/zenodo/fold/X_trn.npy')[:N]\n",
    "y = np.load('data/zenodo/fold/y_trn.npy')[:N].astype('float32')\n",
    "data, m, s = split_data(X, y)\n",
    "\n",
    "lr_calc_1 = pure_lr\n",
    "lr_calc_2 = square_lr\n",
    "lr_calc_3 = exp_lr\n",
    "\n",
    "# Plotting\n",
    "w = 3.5\n",
    "h = 3.25\n",
    "labels = [r'$\\text{ReLU}(z)$', r'$z^2$', r'$\\exp{z}$']\n",
    "y_lim = (0, 3)\n",
    "title = r'\\it MLC $\\phi$ Scan'\n",
    "filename = 'plots/zenodo/scans/mlc_phi.png'"
   ]
  },
  {
   "cell_type": "code",
   "execution_count": 23,
   "id": "171fad39-22c2-4d47-9bcc-a6e7897a7d94",
   "metadata": {},
   "outputs": [
    {
     "name": "stdout",
     "output_type": "stream",
     "text": [
      "0 1 2 3 4 5 6 7 8 9 10 11 12 13 14 15 16 17 18 19 20 21 22 23 24 25 26 27 28 29 30 31 32 33 34 35 36 37 38 39 40 41 42 43 44 45 46 47 48 49 50 51 52 53 54 55 56 57 58 59 60 61 62 63 64 65 66 67 68 69 70 71 72 73 74 75 76 77 78 79 80 81 82 83 84 85 86 87 88 89 90 91 92 93 94 95 96 97 98 99 "
     ]
    }
   ],
   "source": [
    "lrs_1 = [None] * reps\n",
    "lrs_2 = [None] * reps\n",
    "lrs_3 = [None] * reps\n",
    "\n",
    "for i in range(reps):\n",
    "    print(i, end = ' ')\n",
    "    model_1 = create_model(**params_1)\n",
    "    model_2 = create_model(**params_2)\n",
    "    model_3 = create_model(**params_3)\n",
    "    \n",
    "    model_1.load_weights(filestr_1.format(i))\n",
    "    model_2.load_weights(filestr_2.format(i))\n",
    "    model_3.load_weights(filestr_3.format(i))\n",
    "    \n",
    "    lrs_1[i] = lr_calc_1(model_1, m, s)\n",
    "    lrs_2[i] = lr_calc_2(model_2, m, s)\n",
    "    lrs_3[i] = lr_calc_3(model_3, m, s)"
   ]
  },
  {
   "cell_type": "code",
   "execution_count": 24,
   "id": "32840187-3b43-4fd9-af66-4cda91d04fca",
   "metadata": {},
   "outputs": [],
   "source": [
    "# Calculate predictions\n",
    "preds_1 = get_preds(lrs_1, xs)\n",
    "preds_2 = get_preds(lrs_2, xs)\n",
    "preds_3 = get_preds(lrs_3, xs)\n",
    "\n",
    "# Save results\n",
    "np.save(filestr + 'scans/{}/xs.npy'.format(var_string), xs)\n",
    "np.save(filestr + 'scans/{}/preds_1.npy'.format(var_string), preds_1)\n",
    "np.save(filestr + 'scans/{}/preds_2.npy'.format(var_string), preds_2)\n",
    "np.save(filestr + 'scans/{}/preds_3.npy'.format(var_string), preds_3)"
   ]
  },
  {
   "cell_type": "code",
   "execution_count": 25,
   "id": "0282bf3b-3f2b-45e8-867a-6f9dbbca7bc8",
   "metadata": {},
   "outputs": [],
   "source": [
    "ensembles = [preds_1, preds_2, preds_3]\n",
    "n = len(ensembles)\n",
    "\n",
    "lrs = [None] * n\n",
    "lrrs = [None] * n\n",
    "for i in range(n):\n",
    "    lrs[i] = avg_lr(ensembles[i])\n",
    "    lrrs[i] = avg_lrr(lr, ensembles[i], xs)"
   ]
  },
  {
   "cell_type": "code",
   "execution_count": 26,
   "id": "c7dd1b50-8936-4b07-b8ce-fd82e4b3cc0d",
   "metadata": {},
   "outputs": [
    {
     "data": {
      "image/png": "[encoded data removed]",
      "text/plain": [
       "<Figure size 252x234 with 2 Axes>"
      ]
     },
     "metadata": {
      "needs_background": "light"
     },
     "output_type": "display_data"
    }
   ],
   "source": [
    "fig, axs = plt.subplots(2, 1,\n",
    "                        figsize = (w, h),\n",
    "                        sharex = True, \n",
    "                        gridspec_kw = {'height_ratios': [2, 1]})\n",
    "\n",
    "if title:\n",
    "    axs[0].set_title(title, loc = 'right')\n",
    "\n",
    "# Plot likelihood ratios\n",
    "axs[0].plot(var, lr_true, label = 'Exact', c = 'k', lw = 0.75)\n",
    "\n",
    "for i in range(n):\n",
    "    axs[0].plot(var, \n",
    "                lrs[i], \n",
    "                label = labels[i],\n",
    "                c = cs[i % len(cs)], \n",
    "                ls = lss[i % len(lss)],\n",
    "                lw = 0.75)\n",
    "\n",
    "axs[0].set_xlim(var[0], var[-1])\n",
    "if y_lim:\n",
    "    axs[0].set_ylim(y_lim[0], y_lim[1])\n",
    "axs[0].legend()\n",
    "axs[0].minorticks_on()\n",
    "axs[0].tick_params(which = 'minor', length = 3)\n",
    "axs[0].tick_params(which = 'major', length = 5)\n",
    "axs[0].tick_params(which = 'both', direction='in')\n",
    "axs[0].set_ylabel('$\\mathcal{L}(x)$')\n",
    "\n",
    "# Plot likelihood ratio ratios\n",
    "for i in range(n):\n",
    "    axs[1].plot(var, \n",
    "                lrrs[i],\n",
    "                c = cs[i % len(cs)],\n",
    "                ls = lss[i % len(lss)],\n",
    "                lw = 0.75)\n",
    "\n",
    "axs[1].axhline(1,ls=\":\",color=\"grey\", lw=0.5)\n",
    "axs[1].axvline(0,ls=\":\",color=\"grey\", lw=0.5)\n",
    "axs[1].set_ylim(0.95, 1.05);\n",
    "axs[1].minorticks_on()\n",
    "axs[1].tick_params(which = 'minor', length = 3)\n",
    "axs[1].tick_params(which = 'major', length = 5)\n",
    "axs[1].tick_params(which = 'both', direction='in')\n",
    "axs[1].set_ylabel('Ratio')\n",
    "\n",
    "plt.subplots_adjust(hspace = 0.1)\n",
    "plt.xlabel(var_label)\n",
    "\n",
    "if filename:\n",
    "    plt.savefig(filename, \n",
    "                dpi = 300,\n",
    "                transparent = True,\n",
    "                bbox_inches = 'tight')"
   ]
  },
  {
   "cell_type": "markdown",
   "id": "0abcfbf0-4a56-4f97-927a-cf8bab390fb7",
   "metadata": {
    "tags": []
   },
   "source": [
    "### SQR"
   ]
  },
  {
   "cell_type": "code",
   "execution_count": 27,
   "id": "29a905c0-1e6d-4d9b-b505-fa305371806e",
   "metadata": {},
   "outputs": [],
   "source": [
    "# Experiment parameters\n",
    "num = 0\n",
    "reps = 100\n",
    "\n",
    "# Model parameters\n",
    "params_1 = {'loss':sqr, 'd': 4, 'output': 'relu'}\n",
    "params_2 = {'loss':square_sqr, 'd': 4, 'output': 'linear'}\n",
    "params_3 = {'loss':exp_sqr, 'd': 4, 'output': 'linear'}\n",
    "\n",
    "filestr = 'models/zenodo/c_sqr/set_{}/'.format(num)\n",
    "filestr_1 = filestr + 'relu/model_{}.h5'\n",
    "filestr_2 = filestr + 'square/model_{}.h5'\n",
    "filestr_3 = filestr + 'exponential/model_{}.h5'\n",
    "\n",
    "# Data parameters\n",
    "N = 10**6\n",
    "X = np.load('data/zenodo/fold/X_trn.npy')[:N]\n",
    "y = np.load('data/zenodo/fold/y_trn.npy')[:N].astype('float32')\n",
    "data, m, s = split_data(X, y)\n",
    "\n",
    "lr_calc_1 = pure_lr\n",
    "lr_calc_2 = square_lr\n",
    "lr_calc_3 = exp_lr\n",
    "\n",
    "# Plotting\n",
    "w = 3.5\n",
    "h = 3.25\n",
    "labels = [r'$\\text{ReLU}(z)$', r'$z^2$', r'$\\exp{z}$']\n",
    "y_lim = (0, 3)\n",
    "title = r'\\it SQR $\\phi$ Scan'\n",
    "filename = 'plots/zenodo/scans/sqr_phi.png'"
   ]
  },
  {
   "cell_type": "code",
   "execution_count": 28,
   "id": "944901ce-bd8d-4aff-8574-36cf3325ec94",
   "metadata": {},
   "outputs": [
    {
     "name": "stdout",
     "output_type": "stream",
     "text": [
      "0 1 2 3 4 5 6 7 8 9 10 11 12 13 14 15 16 17 18 19 20 21 22 23 24 25 26 27 28 29 30 31 32 33 34 35 36 37 38 39 40 41 42 43 44 45 46 47 48 49 50 51 52 53 54 55 56 57 58 59 60 61 62 63 64 65 66 67 68 69 70 71 72 73 74 75 76 77 78 79 80 81 82 83 84 85 86 87 88 89 90 91 92 93 94 95 96 97 98 99 "
     ]
    }
   ],
   "source": [
    "lrs_1 = [None] * reps\n",
    "lrs_2 = [None] * reps\n",
    "lrs_3 = [None] * reps\n",
    "\n",
    "for i in range(reps):\n",
    "    print(i, end = ' ')\n",
    "    model_1 = create_model(**params_1)\n",
    "    model_2 = create_model(**params_2)\n",
    "    model_3 = create_model(**params_3)\n",
    "    \n",
    "    model_1.load_weights(filestr_1.format(i))\n",
    "    model_2.load_weights(filestr_2.format(i))\n",
    "    model_3.load_weights(filestr_3.format(i))\n",
    "    \n",
    "    lrs_1[i] = lr_calc_1(model_1, m, s)\n",
    "    lrs_2[i] = lr_calc_2(model_2, m, s)\n",
    "    lrs_3[i] = lr_calc_3(model_3, m, s)"
   ]
  },
  {
   "cell_type": "code",
   "execution_count": 29,
   "id": "e1261637-e12c-4231-aee6-360dc1ebe202",
   "metadata": {},
   "outputs": [],
   "source": [
    "# Calculate predictions\n",
    "preds_1 = get_preds(lrs_1, xs)\n",
    "preds_2 = get_preds(lrs_2, xs)\n",
    "preds_3 = get_preds(lrs_3, xs)\n",
    "\n",
    "# Save results\n",
    "np.save(filestr + 'scans/{}/xs.npy'.format(var_string), xs)\n",
    "np.save(filestr + 'scans/{}/preds_1.npy'.format(var_string), preds_1)\n",
    "np.save(filestr + 'scans/{}/preds_2.npy'.format(var_string), preds_2)\n",
    "np.save(filestr + 'scans/{}/preds_3.npy'.format(var_string), preds_3)"
   ]
  },
  {
   "cell_type": "code",
   "execution_count": 30,
   "id": "767fa9d0-c2ca-4f93-9b69-fab89d9fc484",
   "metadata": {},
   "outputs": [],
   "source": [
    "ensembles = [preds_1, preds_2, preds_3]\n",
    "n = len(ensembles)\n",
    "\n",
    "lrs = [None] * n\n",
    "lrrs = [None] * n\n",
    "for i in range(n):\n",
    "    lrs[i] = avg_lr(ensembles[i])\n",
    "    lrrs[i] = avg_lrr(lr, ensembles[i], xs)"
   ]
  },
  {
   "cell_type": "code",
   "execution_count": 31,
   "id": "e51d2809-5376-47c9-9b55-6f9b64e9260e",
   "metadata": {},
   "outputs": [
    {
     "data": {
      "image/png": "[encoded data removed]",
      "text/plain": [
       "<Figure size 252x234 with 2 Axes>"
      ]
     },
     "metadata": {
      "needs_background": "light"
     },
     "output_type": "display_data"
    }
   ],
   "source": [
    "fig, axs = plt.subplots(2, 1,\n",
    "                        figsize = (w, h),\n",
    "                        sharex = True, \n",
    "                        gridspec_kw = {'height_ratios': [2, 1]})\n",
    "\n",
    "if title:\n",
    "    axs[0].set_title(title, loc = 'right')\n",
    "\n",
    "# Plot likelihood ratios\n",
    "axs[0].plot(var, lr_true, label = 'Exact', c = 'k', lw = 0.75)\n",
    "\n",
    "for i in range(n):\n",
    "    axs[0].plot(var, \n",
    "                lrs[i], \n",
    "                label = labels[i],\n",
    "                c = cs[i % len(cs)], \n",
    "                ls = lss[i % len(lss)],\n",
    "                lw = 0.75)\n",
    "\n",
    "axs[0].set_xlim(var[0], var[-1])\n",
    "if y_lim:\n",
    "    axs[0].set_ylim(y_lim[0], y_lim[1])\n",
    "axs[0].legend()\n",
    "axs[0].minorticks_on()\n",
    "axs[0].tick_params(which = 'minor', length = 3)\n",
    "axs[0].tick_params(which = 'major', length = 5)\n",
    "axs[0].tick_params(which = 'both', direction='in')\n",
    "axs[0].set_ylabel('$\\mathcal{L}(x)$')\n",
    "\n",
    "# Plot likelihood ratio ratios\n",
    "for i in range(n):\n",
    "    axs[1].plot(var, \n",
    "                lrrs[i],\n",
    "                c = cs[i % len(cs)],\n",
    "                ls = lss[i % len(lss)],\n",
    "                lw = 0.75)\n",
    "\n",
    "axs[1].axhline(1,ls=\":\",color=\"grey\", lw=0.5)\n",
    "axs[1].axvline(0,ls=\":\",color=\"grey\", lw=0.5)\n",
    "axs[1].set_ylim(0.85, 1.15);\n",
    "axs[1].minorticks_on()\n",
    "axs[1].tick_params(which = 'minor', length = 3)\n",
    "axs[1].tick_params(which = 'major', length = 5)\n",
    "axs[1].tick_params(which = 'both', direction='in')\n",
    "axs[1].set_ylabel('Ratio')\n",
    "\n",
    "plt.subplots_adjust(hspace = 0.1)\n",
    "plt.xlabel(var_label)\n",
    "\n",
    "if filename:\n",
    "    plt.savefig(filename, \n",
    "                dpi = 300,\n",
    "                transparent = True,\n",
    "                bbox_inches = 'tight')"
   ]
  },
  {
   "cell_type": "markdown",
   "id": "2e8adfaa-0051-44f5-9d85-eea7e03ac61b",
   "metadata": {
    "jp-MarkdownHeadingCollapsed": true,
    "tags": []
   },
   "source": [
    "## $p_T$ Scan"
   ]
  },
  {
   "cell_type": "code",
   "execution_count": 68,
   "id": "a70b5c5f-f150-4c5e-86ab-791733749ce4",
   "metadata": {},
   "outputs": [],
   "source": [
    "# Get a one-dimensional slice of test points.\n",
    "pTs = np.linspace(0, 750, 1201).reshape(-1, 1)\n",
    "etas = np.repeat(mode_eta, len(pTs)).reshape(-1, 1)\n",
    "phis = np.repeat(mode_phi, len(pTs)).reshape(-1, 1)\n",
    "ms = np.repeat(mode_m, len(pTs)).reshape(-1, 1)\n",
    "\n",
    "xs = np.hstack([pTs, etas, phis, ms])\n",
    "var = pTs\n",
    "var_label = r'$p_T$'\n",
    "var_string = 'pT'\n",
    "\n",
    "lr_true = lr(xs)"
   ]
  },
  {
   "cell_type": "code",
   "execution_count": 69,
   "id": "048b92e5-c8c1-4e1d-a2a8-8cffa8a132e8",
   "metadata": {},
   "outputs": [
    {
     "data": {
      "text/plain": [
       "[<matplotlib.lines.Line2D at 0x7ef96cca5960>]"
      ]
     },
     "execution_count": 69,
     "metadata": {},
     "output_type": "execute_result"
    },
    {
     "data": {
      "image/png": "[encoded data removed]",
      "text/plain": [
       "<Figure size 432x288 with 1 Axes>"
      ]
     },
     "metadata": {
      "needs_background": "light"
     },
     "output_type": "display_data"
    }
   ],
   "source": [
    "plt.plot(pTs, lr_true)"
   ]
  },
  {
   "cell_type": "markdown",
   "id": "2d8039dc-6b15-443e-81e8-1d305227515b",
   "metadata": {
    "jp-MarkdownHeadingCollapsed": true,
    "tags": []
   },
   "source": [
    "### BCE"
   ]
  },
  {
   "cell_type": "code",
   "execution_count": 70,
   "id": "34c564a9-fdaf-4034-af07-48b05485a2d6",
   "metadata": {},
   "outputs": [],
   "source": [
    "# Experiment parameters\n",
    "num = 0\n",
    "reps = 100\n",
    "\n",
    "# Model parameters\n",
    "params_1 = {'loss':bce, 'd':4}\n",
    "params_2 = {'loss':tanh_bce, 'd':4, 'output': 'linear'}\n",
    "params_3 = {'loss':arctan_bce, 'd':4,  'output': 'linear'}\n",
    "\n",
    "filestr = 'models/zenodo/c_bce/set_{}/'.format(num)\n",
    "filestr_1 = filestr + 'sigmoid/model_{}.h5'\n",
    "filestr_2 = filestr + 'tanh/model_{}.h5'\n",
    "filestr_3 = filestr + 'arctan/model_{}.h5'\n",
    "\n",
    "# Data parameters\n",
    "N = 10**6\n",
    "X = np.load('data/zenodo/fold/X_trn.npy')[:N]\n",
    "y = np.load('data/zenodo/fold/y_trn.npy')[:N].astype('float32')\n",
    "data, m, s = split_data(X, y)\n",
    "\n",
    "lr_calc_1 = odds_lr\n",
    "lr_calc_2 = tanh_lr\n",
    "lr_calc_3 = arctan_lr\n",
    "\n",
    "# Plotting\n",
    "w = 3.5\n",
    "h = 3.25\n",
    "labels = [r'$\\sigma(z)$', r'$\\frac{1}{2}\\left(\\tanh{z} + 1\\right)$', r'$\\frac{1}{\\pi}\\left(\\arctan{z} + \\frac{\\pi}{2}\\right)$']\n",
    "y_lim = (0, 3)\n",
    "title = r'\\it BCE $\\phi$ Scan'\n",
    "filename = 'plots/zenodo/scans/bce_phi.png'"
   ]
  },
  {
   "cell_type": "code",
   "execution_count": 71,
   "id": "179c73ac-9bed-4e2a-a15d-f19c537303a4",
   "metadata": {},
   "outputs": [
    {
     "name": "stdout",
     "output_type": "stream",
     "text": [
      "0 1 2 3 4 5 6 7 8 9 10 11 12 13 14 15 16 17 18 19 20 21 22 23 24 25 26 27 28 29 30 31 32 33 34 35 36 37 38 39 40 41 42 43 44 45 46 47 48 49 50 51 52 53 54 55 56 57 58 59 60 61 62 63 64 65 66 67 68 69 70 71 72 73 74 75 76 77 78 79 80 81 82 83 84 85 86 87 88 89 90 91 92 93 94 95 96 97 98 99 "
     ]
    }
   ],
   "source": [
    "lrs_1 = [None] * reps\n",
    "lrs_2 = [None] * reps\n",
    "lrs_3 = [None] * reps\n",
    "\n",
    "for i in range(reps):\n",
    "    print(i, end = ' ')\n",
    "    model_1 = create_model(**params_1)\n",
    "    model_2 = create_model(**params_2)\n",
    "    model_3 = create_model(**params_3)\n",
    "    \n",
    "    model_1.load_weights(filestr_1.format(i))\n",
    "    model_2.load_weights(filestr_2.format(i))\n",
    "    model_3.load_weights(filestr_3.format(i))\n",
    "    \n",
    "    lrs_1[i] = lr_calc_1(model_1, m, s)\n",
    "    lrs_2[i] = lr_calc_2(model_2, m, s)\n",
    "    lrs_3[i] = lr_calc_3(model_3, m, s)"
   ]
  },
  {
   "cell_type": "code",
   "execution_count": 72,
   "id": "8a157dd2-4d0a-43d4-bb01-f1b89c8861b7",
   "metadata": {},
   "outputs": [],
   "source": [
    "# Calculate predictions\n",
    "preds_1 = get_preds(lrs_1, xs)\n",
    "preds_2 = get_preds(lrs_2, xs)\n",
    "preds_3 = get_preds(lrs_3, xs)\n",
    "\n",
    "# Save results\n",
    "np.save(filestr + 'scans/{}/xs.npy'.format(var_string), xs)\n",
    "np.save(filestr + 'scans/{}/preds_1.npy'.format(var_string), preds_1)\n",
    "np.save(filestr + 'scans/{}/preds_2.npy'.format(var_string), preds_2)\n",
    "np.save(filestr + 'scans/{}/preds_3.npy'.format(var_string), preds_3)"
   ]
  },
  {
   "cell_type": "code",
   "execution_count": 73,
   "id": "b80d64db-a73e-42be-9baf-f87f54f3a750",
   "metadata": {},
   "outputs": [],
   "source": [
    "ensembles = [preds_1, preds_2, preds_3]\n",
    "n = len(ensembles)\n",
    "\n",
    "lrs = [None] * n\n",
    "lrrs = [None] * n\n",
    "for i in range(n):\n",
    "    lrs[i] = avg_lr(ensembles[i])\n",
    "    lrrs[i] = avg_lrr(lr, ensembles[i], xs)"
   ]
  },
  {
   "cell_type": "code",
   "execution_count": 74,
   "id": "714638eb-58b3-4c3b-bd74-ce0cc8417c5b",
   "metadata": {},
   "outputs": [
    {
     "data": {
      "image/png": "[encoded data removed]",
      "text/plain": [
       "<Figure size 252x234 with 2 Axes>"
      ]
     },
     "metadata": {
      "needs_background": "light"
     },
     "output_type": "display_data"
    }
   ],
   "source": [
    "fig, axs = plt.subplots(2, 1,\n",
    "                        figsize = (w, h),\n",
    "                        sharex = True, \n",
    "                        gridspec_kw = {'height_ratios': [2, 1]})\n",
    "\n",
    "if title:\n",
    "    axs[0].set_title(title, loc = 'right')\n",
    "\n",
    "# Plot likelihood ratios\n",
    "axs[0].plot(var, lr_true, label = 'Exact', c = 'k', lw = 0.75)\n",
    "\n",
    "for i in range(n):\n",
    "    axs[0].plot(var, \n",
    "                lrs[i], \n",
    "                label = labels[i],\n",
    "                c = cs[i % len(cs)], \n",
    "                ls = lss[i % len(lss)],\n",
    "                lw = 0.75)\n",
    "\n",
    "axs[0].set_xlim(var[0], var[-1])\n",
    "if y_lim:\n",
    "    axs[0].set_ylim(y_lim[0], y_lim[1])\n",
    "axs[0].legend()\n",
    "axs[0].minorticks_on()\n",
    "axs[0].tick_params(which = 'minor', length = 3)\n",
    "axs[0].tick_params(which = 'major', length = 5)\n",
    "axs[0].tick_params(which = 'both', direction='in')\n",
    "axs[0].set_ylabel('$\\mathcal{L}(x)$')\n",
    "\n",
    "# Plot likelihood ratio ratios\n",
    "for i in range(n):\n",
    "    axs[1].plot(var, \n",
    "                lrrs[i],\n",
    "                c = cs[i % len(cs)],\n",
    "                ls = lss[i % len(lss)],\n",
    "                lw = 0.75)\n",
    "\n",
    "axs[1].axhline(1,ls=\":\",color=\"grey\", lw=0.5)\n",
    "axs[1].axvline(0,ls=\":\",color=\"grey\", lw=0.5)\n",
    "axs[1].set_ylim(0.95, 1.05);\n",
    "axs[1].minorticks_on()\n",
    "axs[1].tick_params(which = 'minor', length = 3)\n",
    "axs[1].tick_params(which = 'major', length = 5)\n",
    "axs[1].tick_params(which = 'both', direction='in')\n",
    "axs[1].set_ylabel('Ratio')\n",
    "\n",
    "plt.subplots_adjust(hspace = 0.1)\n",
    "plt.xlabel(var_label)\n",
    "\n",
    "if filename:\n",
    "    plt.savefig(filename, \n",
    "                dpi = 300,\n",
    "                transparent = True,\n",
    "                bbox_inches = 'tight')"
   ]
  },
  {
   "cell_type": "markdown",
   "id": "92f3a18a-d332-4b4d-b404-7874fb98e9a0",
   "metadata": {
    "jp-MarkdownHeadingCollapsed": true,
    "tags": []
   },
   "source": [
    "### MSE"
   ]
  },
  {
   "cell_type": "code",
   "execution_count": 75,
   "id": "cd88d0e5-a2d1-4167-bffd-9c8609de5571",
   "metadata": {},
   "outputs": [],
   "source": [
    "# Experiment parameters\n",
    "num = 0\n",
    "reps = 100\n",
    "\n",
    "# Model parameters\n",
    "params_1 = {'loss':mse, 'd':4}\n",
    "params_2 = {'loss':tanh_mse, 'd':4, 'output': 'linear'}\n",
    "params_3 = {'loss':arctan_mse, 'd':4,  'output': 'linear'}\n",
    "\n",
    "filestr = 'models/zenodo/c_mse/set_{}/'.format(num)\n",
    "filestr_1 = filestr + 'sigmoid/model_{}.h5'\n",
    "filestr_2 = filestr + 'tanh/model_{}.h5'\n",
    "filestr_3 = filestr + 'arctan/model_{}.h5'\n",
    "\n",
    "# Data parameters\n",
    "N = 10**6\n",
    "X = np.load('data/zenodo/fold/X_trn.npy')[:N]\n",
    "y = np.load('data/zenodo/fold/y_trn.npy')[:N].astype('float32')\n",
    "data, m, s = split_data(X, y)\n",
    "\n",
    "lr_calc_1 = odds_lr\n",
    "lr_calc_2 = tanh_lr\n",
    "lr_calc_3 = arctan_lr\n",
    "\n",
    "# Plotting\n",
    "w = 3.5\n",
    "h = 3.25\n",
    "labels = [r'$\\sigma(z)$', r'$\\frac{1}{2}\\left(\\tanh{z} + 1\\right)$', r'$\\frac{1}{\\pi}\\left(\\arctan{z} + \\frac{\\pi}{2}\\right)$']\n",
    "y_lim = (0, 3)\n",
    "title = r'\\it MSE $\\p_T$ Scan'\n",
    "filename = 'plots/zenodo/scans/mse_phi.png'"
   ]
  },
  {
   "cell_type": "code",
   "execution_count": 76,
   "id": "e472f619-3ffb-4a64-867b-3bcc0c3727c1",
   "metadata": {},
   "outputs": [
    {
     "name": "stdout",
     "output_type": "stream",
     "text": [
      "0 1 2 3 4 5 6 7 8 9 10 11 12 13 14 15 16 17 18 19 20 21 22 23 24 25 26 27 28 29 30 31 32 33 34 35 36 37 38 39 40 41 42 43 44 45 46 47 48 49 50 51 52 53 54 55 56 57 58 59 60 61 62 63 64 65 66 67 68 69 70 71 72 73 74 75 76 77 78 79 80 81 82 83 84 85 86 87 88 89 90 91 92 93 94 95 96 97 98 99 "
     ]
    }
   ],
   "source": [
    "lrs_1 = [None] * reps\n",
    "lrs_2 = [None] * reps\n",
    "lrs_3 = [None] * reps\n",
    "\n",
    "for i in range(reps):\n",
    "    print(i, end = ' ')\n",
    "    model_1 = create_model(**params_1)\n",
    "    model_2 = create_model(**params_2)\n",
    "    model_3 = create_model(**params_3)\n",
    "    \n",
    "    model_1.load_weights(filestr_1.format(i))\n",
    "    model_2.load_weights(filestr_2.format(i))\n",
    "    model_3.load_weights(filestr_3.format(i))\n",
    "    \n",
    "    lrs_1[i] = lr_calc_1(model_1, m, s)\n",
    "    lrs_2[i] = lr_calc_2(model_2, m, s)\n",
    "    lrs_3[i] = lr_calc_3(model_3, m, s)"
   ]
  },
  {
   "cell_type": "code",
   "execution_count": 77,
   "id": "eb2a19ac-34b6-465b-a83b-5e8fa51ec888",
   "metadata": {},
   "outputs": [],
   "source": [
    "# Calculate predictions\n",
    "preds_1 = get_preds(lrs_1, xs)\n",
    "preds_2 = get_preds(lrs_2, xs)\n",
    "preds_3 = get_preds(lrs_3, xs)\n",
    "\n",
    "# Save results\n",
    "np.save(filestr + 'scans/{}/xs.npy'.format(var_string), xs)\n",
    "np.save(filestr + 'scans/{}/preds_1.npy'.format(var_string), preds_1)\n",
    "np.save(filestr + 'scans/{}/preds_2.npy'.format(var_string), preds_2)\n",
    "np.save(filestr + 'scans/{}/preds_3.npy'.format(var_string), preds_3)"
   ]
  },
  {
   "cell_type": "code",
   "execution_count": 78,
   "id": "a60ea43b-985b-4035-b2f8-56f52f0e7c73",
   "metadata": {},
   "outputs": [],
   "source": [
    "ensembles = [preds_1, preds_2, preds_3]\n",
    "n = len(ensembles)\n",
    "\n",
    "lrs = [None] * n\n",
    "lrrs = [None] * n\n",
    "for i in range(n):\n",
    "    lrs[i] = avg_lr(ensembles[i])\n",
    "    lrrs[i] = avg_lrr(lr, ensembles[i], xs)"
   ]
  },
  {
   "cell_type": "code",
   "execution_count": 79,
   "id": "0d6b071c-a013-4ed4-8759-85e7cde591ff",
   "metadata": {},
   "outputs": [
    {
     "data": {
      "image/png": "[encoded data removed]",
      "text/plain": [
       "<Figure size 252x234 with 2 Axes>"
      ]
     },
     "metadata": {
      "needs_background": "light"
     },
     "output_type": "display_data"
    }
   ],
   "source": [
    "fig, axs = plt.subplots(2, 1,\n",
    "                        figsize = (w, h),\n",
    "                        sharex = True, \n",
    "                        gridspec_kw = {'height_ratios': [2, 1]})\n",
    "\n",
    "if title:\n",
    "    axs[0].set_title(title, loc = 'right')\n",
    "\n",
    "# Plot likelihood ratios\n",
    "axs[0].plot(var, lr_true, label = 'Exact', c = 'k', lw = 0.75)\n",
    "\n",
    "for i in range(n):\n",
    "    axs[0].plot(var, \n",
    "                lrs[i], \n",
    "                label = labels[i],\n",
    "                c = cs[i % len(cs)], \n",
    "                ls = lss[i % len(lss)],\n",
    "                lw = 0.75)\n",
    "\n",
    "axs[0].set_xlim(var[0], var[-1])\n",
    "if y_lim:\n",
    "    axs[0].set_ylim(y_lim[0], y_lim[1])\n",
    "axs[0].legend()\n",
    "axs[0].minorticks_on()\n",
    "axs[0].tick_params(which = 'minor', length = 3)\n",
    "axs[0].tick_params(which = 'major', length = 5)\n",
    "axs[0].tick_params(which = 'both', direction='in')\n",
    "axs[0].set_ylabel('$\\mathcal{L}(x)$')\n",
    "\n",
    "# Plot likelihood ratio ratios\n",
    "for i in range(n):\n",
    "    axs[1].plot(var, \n",
    "                lrrs[i],\n",
    "                c = cs[i % len(cs)],\n",
    "                ls = lss[i % len(lss)],\n",
    "                lw = 0.75)\n",
    "\n",
    "axs[1].axhline(1,ls=\":\",color=\"grey\", lw=0.5)\n",
    "axs[1].axvline(0,ls=\":\",color=\"grey\", lw=0.5)\n",
    "axs[1].set_ylim(0.95, 1.05);\n",
    "axs[1].minorticks_on()\n",
    "axs[1].tick_params(which = 'minor', length = 3)\n",
    "axs[1].tick_params(which = 'major', length = 5)\n",
    "axs[1].tick_params(which = 'both', direction='in')\n",
    "axs[1].set_ylabel('Ratio')\n",
    "\n",
    "plt.subplots_adjust(hspace = 0.1)\n",
    "plt.xlabel(var_label)\n",
    "\n",
    "if filename:\n",
    "    plt.savefig(filename, \n",
    "                dpi = 300,\n",
    "                transparent = True,\n",
    "                bbox_inches = 'tight')"
   ]
  },
  {
   "cell_type": "markdown",
   "id": "b58aa47e-8fef-43aa-be48-1744087e1050",
   "metadata": {
    "jp-MarkdownHeadingCollapsed": true,
    "tags": []
   },
   "source": [
    "### MLC"
   ]
  },
  {
   "cell_type": "code",
   "execution_count": 80,
   "id": "95bb1d60-11e7-4ae2-ba85-2680714fa1b8",
   "metadata": {},
   "outputs": [],
   "source": [
    "# Experiment parameters\n",
    "num = 0\n",
    "reps = 100\n",
    "\n",
    "# Model parameters\n",
    "params_1 = {'loss':mlc, 'd': 4, 'output': 'relu'}\n",
    "params_2 = {'loss':square_mlc, 'd': 4, 'output': 'linear'}\n",
    "params_3 = {'loss':exp_mlc, 'd': 4, 'output': 'linear'}\n",
    "\n",
    "filestr = 'models/zenodo/c_mlc/set_{}/'.format(num)\n",
    "filestr_1 = filestr + 'relu/model_{}.h5'\n",
    "filestr_2 = filestr + 'square/model_{}.h5'\n",
    "filestr_3 = filestr + 'exponential/model_{}.h5'\n",
    "\n",
    "# Data parameters\n",
    "N = 10**6\n",
    "X = np.load('data/zenodo/fold/X_trn.npy')[:N]\n",
    "y = np.load('data/zenodo/fold/y_trn.npy')[:N].astype('float32')\n",
    "data, m, s = split_data(X, y)\n",
    "\n",
    "lr_calc_1 = pure_lr\n",
    "lr_calc_2 = square_lr\n",
    "lr_calc_3 = exp_lr\n",
    "\n",
    "# Plotting\n",
    "w = 3.5\n",
    "h = 3.25\n",
    "labels = [r'$\\text{ReLU}(z)$', r'$z^2$', r'$\\exp{z}$']\n",
    "y_lim = (0, 3)\n",
    "title = r'\\it MLC $\\phi$ Scan'\n",
    "filename = 'plots/zenodo/scans/mlc_phi.png'"
   ]
  },
  {
   "cell_type": "code",
   "execution_count": 81,
   "id": "81468547-c9ef-46ca-984e-d58f9c14a1c1",
   "metadata": {},
   "outputs": [
    {
     "name": "stdout",
     "output_type": "stream",
     "text": [
      "0 1 2 3 4 5 6 7 8 9 10 11 12 13 14 15 16 17 18 19 20 21 22 23 24 25 26 27 28 29 30 31 32 33 34 35 36 37 38 39 40 41 42 43 44 45 46 47 48 49 50 51 52 53 54 55 56 57 58 59 60 61 62 63 64 65 66 67 68 69 70 71 72 73 74 75 76 77 78 79 80 81 82 83 84 85 86 87 88 89 90 91 92 93 94 95 96 97 98 99 "
     ]
    }
   ],
   "source": [
    "lrs_1 = [None] * reps\n",
    "lrs_2 = [None] * reps\n",
    "lrs_3 = [None] * reps\n",
    "\n",
    "for i in range(reps):\n",
    "    print(i, end = ' ')\n",
    "    model_1 = create_model(**params_1)\n",
    "    model_2 = create_model(**params_2)\n",
    "    model_3 = create_model(**params_3)\n",
    "    \n",
    "    model_1.load_weights(filestr_1.format(i))\n",
    "    model_2.load_weights(filestr_2.format(i))\n",
    "    model_3.load_weights(filestr_3.format(i))\n",
    "    \n",
    "    lrs_1[i] = lr_calc_1(model_1, m, s)\n",
    "    lrs_2[i] = lr_calc_2(model_2, m, s)\n",
    "    lrs_3[i] = lr_calc_3(model_3, m, s)"
   ]
  },
  {
   "cell_type": "code",
   "execution_count": 82,
   "id": "3f66728b-85d0-41b1-95e8-9f8cb1e619f0",
   "metadata": {},
   "outputs": [],
   "source": [
    "# Calculate predictions\n",
    "preds_1 = get_preds(lrs_1, xs)\n",
    "preds_2 = get_preds(lrs_2, xs)\n",
    "preds_3 = get_preds(lrs_3, xs)\n",
    "\n",
    "# Save results\n",
    "np.save(filestr + 'scans/{}/xs.npy'.format(var_string), xs)\n",
    "np.save(filestr + 'scans/{}/preds_1.npy'.format(var_string), preds_1)\n",
    "np.save(filestr + 'scans/{}/preds_2.npy'.format(var_string), preds_2)\n",
    "np.save(filestr + 'scans/{}/preds_3.npy'.format(var_string), preds_3)"
   ]
  },
  {
   "cell_type": "code",
   "execution_count": 83,
   "id": "2cd91691-437b-48c2-b865-28f64bf58dbd",
   "metadata": {},
   "outputs": [],
   "source": [
    "ensembles = [preds_1, preds_2, preds_3]\n",
    "n = len(ensembles)\n",
    "\n",
    "lrs = [None] * n\n",
    "lrrs = [None] * n\n",
    "for i in range(n):\n",
    "    lrs[i] = avg_lr(ensembles[i])\n",
    "    lrrs[i] = avg_lrr(lr, ensembles[i], xs)"
   ]
  },
  {
   "cell_type": "code",
   "execution_count": 84,
   "id": "78d7c8a7-22b6-427a-a6da-4d79b4ff0006",
   "metadata": {},
   "outputs": [
    {
     "data": {
      "image/png": "[encoded data removed]",
      "text/plain": [
       "<Figure size 252x234 with 2 Axes>"
      ]
     },
     "metadata": {
      "needs_background": "light"
     },
     "output_type": "display_data"
    }
   ],
   "source": [
    "fig, axs = plt.subplots(2, 1,\n",
    "                        figsize = (w, h),\n",
    "                        sharex = True, \n",
    "                        gridspec_kw = {'height_ratios': [2, 1]})\n",
    "\n",
    "if title:\n",
    "    axs[0].set_title(title, loc = 'right')\n",
    "\n",
    "# Plot likelihood ratios\n",
    "axs[0].plot(var, lr_true, label = 'Exact', c = 'k', lw = 0.75)\n",
    "\n",
    "for i in range(n):\n",
    "    axs[0].plot(var, \n",
    "                lrs[i], \n",
    "                label = labels[i],\n",
    "                c = cs[i % len(cs)], \n",
    "                ls = lss[i % len(lss)],\n",
    "                lw = 0.75)\n",
    "\n",
    "axs[0].set_xlim(var[0], var[-1])\n",
    "if y_lim:\n",
    "    axs[0].set_ylim(y_lim[0], y_lim[1])\n",
    "axs[0].legend()\n",
    "axs[0].minorticks_on()\n",
    "axs[0].tick_params(which = 'minor', length = 3)\n",
    "axs[0].tick_params(which = 'major', length = 5)\n",
    "axs[0].tick_params(which = 'both', direction='in')\n",
    "axs[0].set_ylabel('$\\mathcal{L}(x)$')\n",
    "\n",
    "# Plot likelihood ratio ratios\n",
    "for i in range(n):\n",
    "    axs[1].plot(var, \n",
    "                lrrs[i],\n",
    "                c = cs[i % len(cs)],\n",
    "                ls = lss[i % len(lss)],\n",
    "                lw = 0.75)\n",
    "\n",
    "axs[1].axhline(1,ls=\":\",color=\"grey\", lw=0.5)\n",
    "axs[1].axvline(0,ls=\":\",color=\"grey\", lw=0.5)\n",
    "axs[1].set_ylim(0.95, 1.05);\n",
    "axs[1].minorticks_on()\n",
    "axs[1].tick_params(which = 'minor', length = 3)\n",
    "axs[1].tick_params(which = 'major', length = 5)\n",
    "axs[1].tick_params(which = 'both', direction='in')\n",
    "axs[1].set_ylabel('Ratio')\n",
    "\n",
    "plt.subplots_adjust(hspace = 0.1)\n",
    "plt.xlabel(var_label)\n",
    "\n",
    "if filename:\n",
    "    plt.savefig(filename, \n",
    "                dpi = 300,\n",
    "                transparent = True,\n",
    "                bbox_inches = 'tight')"
   ]
  },
  {
   "cell_type": "markdown",
   "id": "d6682f09-64bf-48e9-93af-d3956f025166",
   "metadata": {
    "jp-MarkdownHeadingCollapsed": true,
    "tags": []
   },
   "source": [
    "### SQR"
   ]
  },
  {
   "cell_type": "code",
   "execution_count": 85,
   "id": "c49f3646-2e7a-4a2f-bffd-ebb959f2668f",
   "metadata": {},
   "outputs": [],
   "source": [
    "# Experiment parameters\n",
    "num = 0\n",
    "reps = 100\n",
    "\n",
    "# Model parameters\n",
    "params_1 = {'loss':sqr, 'd': 4, 'output': 'relu'}\n",
    "params_2 = {'loss':square_sqr, 'd': 4, 'output': 'linear'}\n",
    "params_3 = {'loss':exp_sqr, 'd': 4, 'output': 'linear'}\n",
    "\n",
    "filestr = 'models/zenodo/c_sqr/set_{}/'.format(num)\n",
    "filestr_1 = filestr + 'relu/model_{}.h5'\n",
    "filestr_2 = filestr + 'square/model_{}.h5'\n",
    "filestr_3 = filestr + 'exponential/model_{}.h5'\n",
    "\n",
    "# Data parameters\n",
    "N = 10**6\n",
    "X = np.load('data/zenodo/fold/X_trn.npy')[:N]\n",
    "y = np.load('data/zenodo/fold/y_trn.npy')[:N].astype('float32')\n",
    "data, m, s = split_data(X, y)\n",
    "\n",
    "lr_calc_1 = pure_lr\n",
    "lr_calc_2 = square_lr\n",
    "lr_calc_3 = exp_lr\n",
    "\n",
    "# Plotting\n",
    "w = 3.5\n",
    "h = 3.25\n",
    "labels = [r'$\\text{ReLU}(z)$', r'$z^2$', r'$\\exp{z}$']\n",
    "y_lim = (0, 3)\n",
    "title = r'\\it MLC $\\phi$ Scan'\n",
    "filename = 'plots/zenodo/scans/mlc_phi.png'"
   ]
  },
  {
   "cell_type": "code",
   "execution_count": 86,
   "id": "46962266-b76a-440a-8feb-6da4aa73e73e",
   "metadata": {},
   "outputs": [
    {
     "name": "stdout",
     "output_type": "stream",
     "text": [
      "0 1 2 3 4 5 6 7 8 9 10 11 12 13 14 15 16 17 18 19 20 21 22 23 24 25 26 27 28 29 30 31 32 33 34 35 36 37 38 39 40 41 42 43 44 45 46 47 48 49 50 51 52 53 54 55 56 57 58 59 60 61 62 63 64 65 66 67 68 69 70 71 72 73 74 75 76 77 78 79 80 81 82 83 84 85 86 87 88 89 90 91 92 93 94 95 96 97 98 99 "
     ]
    }
   ],
   "source": [
    "lrs_1 = [None] * reps\n",
    "lrs_2 = [None] * reps\n",
    "lrs_3 = [None] * reps\n",
    "\n",
    "for i in range(reps):\n",
    "    print(i, end = ' ')\n",
    "    model_1 = create_model(**params_1)\n",
    "    model_2 = create_model(**params_2)\n",
    "    model_3 = create_model(**params_3)\n",
    "    \n",
    "    model_1.load_weights(filestr_1.format(i))\n",
    "    model_2.load_weights(filestr_2.format(i))\n",
    "    model_3.load_weights(filestr_3.format(i))\n",
    "    \n",
    "    lrs_1[i] = lr_calc_1(model_1, m, s)\n",
    "    lrs_2[i] = lr_calc_2(model_2, m, s)\n",
    "    lrs_3[i] = lr_calc_3(model_3, m, s)"
   ]
  },
  {
   "cell_type": "code",
   "execution_count": 87,
   "id": "e7c1e613-d6cb-4c80-be10-175bc36bb62f",
   "metadata": {},
   "outputs": [],
   "source": [
    "# Calculate predictions\n",
    "preds_1 = get_preds(lrs_1, xs)\n",
    "preds_2 = get_preds(lrs_2, xs)\n",
    "preds_3 = get_preds(lrs_3, xs)\n",
    "\n",
    "# Save results\n",
    "np.save(filestr + 'scans/{}/xs.npy'.format(var_string), xs)\n",
    "np.save(filestr + 'scans/{}/preds_1.npy'.format(var_string), preds_1)\n",
    "np.save(filestr + 'scans/{}/preds_2.npy'.format(var_string), preds_2)\n",
    "np.save(filestr + 'scans/{}/preds_3.npy'.format(var_string), preds_3)"
   ]
  },
  {
   "cell_type": "code",
   "execution_count": 88,
   "id": "ce7629da-ef1d-4f38-97e1-1bfe902058a5",
   "metadata": {},
   "outputs": [],
   "source": [
    "ensembles = [preds_1, preds_2, preds_3]\n",
    "n = len(ensembles)\n",
    "\n",
    "lrs = [None] * n\n",
    "lrrs = [None] * n\n",
    "for i in range(n):\n",
    "    lrs[i] = avg_lr(ensembles[i])\n",
    "    lrrs[i] = avg_lrr(lr, ensembles[i], xs)"
   ]
  },
  {
   "cell_type": "code",
   "execution_count": 89,
   "id": "599b5b54-63f5-443e-aaef-f32cf735e031",
   "metadata": {},
   "outputs": [
    {
     "data": {
      "image/png": "[encoded data removed]",
      "text/plain": [
       "<Figure size 252x234 with 2 Axes>"
      ]
     },
     "metadata": {
      "needs_background": "light"
     },
     "output_type": "display_data"
    }
   ],
   "source": [
    "fig, axs = plt.subplots(2, 1,\n",
    "                        figsize = (w, h),\n",
    "                        sharex = True, \n",
    "                        gridspec_kw = {'height_ratios': [2, 1]})\n",
    "\n",
    "if title:\n",
    "    axs[0].set_title(title, loc = 'right')\n",
    "\n",
    "# Plot likelihood ratios\n",
    "axs[0].plot(var, lr_true, label = 'Exact', c = 'k', lw = 0.75)\n",
    "\n",
    "for i in range(n):\n",
    "    axs[0].plot(var, \n",
    "                lrs[i], \n",
    "                label = labels[i],\n",
    "                c = cs[i % len(cs)], \n",
    "                ls = lss[i % len(lss)],\n",
    "                lw = 0.75)\n",
    "\n",
    "axs[0].set_xlim(var[0], var[-1])\n",
    "if y_lim:\n",
    "    axs[0].set_ylim(y_lim[0], y_lim[1])\n",
    "axs[0].legend()\n",
    "axs[0].minorticks_on()\n",
    "axs[0].tick_params(which = 'minor', length = 3)\n",
    "axs[0].tick_params(which = 'major', length = 5)\n",
    "axs[0].tick_params(which = 'both', direction='in')\n",
    "axs[0].set_ylabel('$\\mathcal{L}(x)$')\n",
    "\n",
    "# Plot likelihood ratio ratios\n",
    "for i in range(n):\n",
    "    axs[1].plot(var, \n",
    "                lrrs[i],\n",
    "                c = cs[i % len(cs)],\n",
    "                ls = lss[i % len(lss)],\n",
    "                lw = 0.75)\n",
    "\n",
    "axs[1].axhline(1,ls=\":\",color=\"grey\", lw=0.5)\n",
    "axs[1].axvline(0,ls=\":\",color=\"grey\", lw=0.5)\n",
    "axs[1].set_ylim(0.95, 1.05);\n",
    "axs[1].minorticks_on()\n",
    "axs[1].tick_params(which = 'minor', length = 3)\n",
    "axs[1].tick_params(which = 'major', length = 5)\n",
    "axs[1].tick_params(which = 'both', direction='in')\n",
    "axs[1].set_ylabel('Ratio')\n",
    "\n",
    "plt.subplots_adjust(hspace = 0.1)\n",
    "plt.xlabel(var_label)\n",
    "\n",
    "if filename:\n",
    "    plt.savefig(filename, \n",
    "                dpi = 300,\n",
    "                transparent = True,\n",
    "                bbox_inches = 'tight')"
   ]
  },
  {
   "cell_type": "markdown",
   "id": "4cd43165-f01d-456e-bada-f7b6ad7a6b22",
   "metadata": {
    "tags": []
   },
   "source": [
    "## $\\eta$ Scan"
   ]
  },
  {
   "cell_type": "code",
   "execution_count": 90,
   "id": "60d67abb-0716-4983-975e-6e276eaf073a",
   "metadata": {},
   "outputs": [],
   "source": [
    "# Get a one-dimensional slice of test points.\n",
    "etas = np.linspace(-5, 5, 1001).reshape(-1, 1)\n",
    "pTs = np.repeat(mode_pT, len(etas)).reshape(-1, 1)\n",
    "phis = np.repeat(mode_phi, len(etas)).reshape(-1, 1)\n",
    "ms = np.repeat(mode_m, len(etas)).reshape(-1, 1)\n",
    "\n",
    "xs = np.hstack([pTs, etas, phis, ms])\n",
    "var = etas\n",
    "var_label = r'$\\eta$'\n",
    "var_string = 'eta'\n",
    "\n",
    "lr_true = lr(xs)"
   ]
  },
  {
   "cell_type": "code",
   "execution_count": 91,
   "id": "65549b7f-30d3-4b15-a500-9b748f5257a7",
   "metadata": {},
   "outputs": [
    {
     "data": {
      "text/plain": [
       "[<matplotlib.lines.Line2D at 0x7ef96c807700>]"
      ]
     },
     "execution_count": 91,
     "metadata": {},
     "output_type": "execute_result"
    },
    {
     "data": {
      "image/png": "[encoded data removed]",
      "text/plain": [
       "<Figure size 432x288 with 1 Axes>"
      ]
     },
     "metadata": {
      "needs_background": "light"
     },
     "output_type": "display_data"
    }
   ],
   "source": [
    "plt.plot(etas, lr_true)"
   ]
  },
  {
   "cell_type": "markdown",
   "id": "ec90a078-fc51-487e-9e76-67d858aff652",
   "metadata": {
    "tags": []
   },
   "source": [
    "### BCE"
   ]
  },
  {
   "cell_type": "code",
   "execution_count": 92,
   "id": "b183779a-437c-47bd-aba4-d10f5f792d5e",
   "metadata": {},
   "outputs": [],
   "source": [
    "# Experiment parameters\n",
    "num = 0\n",
    "reps = 100\n",
    "\n",
    "# Model parameters\n",
    "params_1 = {'loss':bce, 'd':4}\n",
    "params_2 = {'loss':tanh_bce, 'd':4, 'output': 'linear'}\n",
    "params_3 = {'loss':arctan_bce, 'd':4,  'output': 'linear'}\n",
    "\n",
    "filestr = 'models/zenodo/c_bce/set_{}/'.format(num)\n",
    "filestr_1 = filestr + 'sigmoid/model_{}.h5'\n",
    "filestr_2 = filestr + 'tanh/model_{}.h5'\n",
    "filestr_3 = filestr + 'arctan/model_{}.h5'\n",
    "\n",
    "# Data parameters\n",
    "N = 10**6\n",
    "X = np.load('data/zenodo/fold/X_trn.npy')[:N]\n",
    "y = np.load('data/zenodo/fold/y_trn.npy')[:N].astype('float32')\n",
    "data, m, s = split_data(X, y)\n",
    "\n",
    "lr_calc_1 = odds_lr\n",
    "lr_calc_2 = tanh_lr\n",
    "lr_calc_3 = arctan_lr\n",
    "\n",
    "# Plotting\n",
    "w = 3.5\n",
    "h = 3.25\n",
    "labels = [r'$\\sigma(z)$', r'$\\frac{1}{2}\\left(\\tanh{z} + 1\\right)$', r'$\\frac{1}{\\pi}\\left(\\arctan{z} + \\frac{\\pi}{2}\\right)$']\n",
    "y_lim = (0, 3)\n",
    "title = r'\\it BCE $\\phi$ Scan'\n",
    "filename = 'plots/zenodo/scans/bce_phi.png'"
   ]
  },
  {
   "cell_type": "code",
   "execution_count": 93,
   "id": "83dcaf71-30cf-4255-a93f-8108c2307cd9",
   "metadata": {},
   "outputs": [
    {
     "name": "stdout",
     "output_type": "stream",
     "text": [
      "0 1 2 3 4 5 6 7 8 9 10 11 12 13 14 15 16 17 18 19 20 21 22 23 24 25 26 27 28 29 30 31 32 33 34 35 36 37 38 39 40 41 42 43 44 45 46 47 48 49 50 51 52 53 54 55 56 57 58 59 60 61 62 63 64 65 66 67 68 69 70 71 72 73 74 75 76 77 78 79 80 81 82 83 84 85 86 87 88 89 90 91 92 93 94 95 96 97 98 99 "
     ]
    }
   ],
   "source": [
    "lrs_1 = [None] * reps\n",
    "lrs_2 = [None] * reps\n",
    "lrs_3 = [None] * reps\n",
    "\n",
    "for i in range(reps):\n",
    "    print(i, end = ' ')\n",
    "    model_1 = create_model(**params_1)\n",
    "    model_2 = create_model(**params_2)\n",
    "    model_3 = create_model(**params_3)\n",
    "    \n",
    "    model_1.load_weights(filestr_1.format(i))\n",
    "    model_2.load_weights(filestr_2.format(i))\n",
    "    model_3.load_weights(filestr_3.format(i))\n",
    "    \n",
    "    lrs_1[i] = lr_calc_1(model_1, m, s)\n",
    "    lrs_2[i] = lr_calc_2(model_2, m, s)\n",
    "    lrs_3[i] = lr_calc_3(model_3, m, s)"
   ]
  },
  {
   "cell_type": "code",
   "execution_count": 94,
   "id": "df3cd9fb-c679-46ed-914b-c50580f8c62d",
   "metadata": {},
   "outputs": [],
   "source": [
    "# Calculate predictions\n",
    "preds_1 = get_preds(lrs_1, xs)\n",
    "preds_2 = get_preds(lrs_2, xs)\n",
    "preds_3 = get_preds(lrs_3, xs)\n",
    "\n",
    "# Save results\n",
    "np.save(filestr + 'scans/{}/xs.npy'.format(var_string), xs)\n",
    "np.save(filestr + 'scans/{}/preds_1.npy'.format(var_string), preds_1)\n",
    "np.save(filestr + 'scans/{}/preds_2.npy'.format(var_string), preds_2)\n",
    "np.save(filestr + 'scans/{}/preds_3.npy'.format(var_string), preds_3)"
   ]
  },
  {
   "cell_type": "code",
   "execution_count": 95,
   "id": "fa640912-6922-426b-8a5d-6e182d286ea6",
   "metadata": {},
   "outputs": [],
   "source": [
    "ensembles = [preds_1, preds_2, preds_3]\n",
    "n = len(ensembles)\n",
    "\n",
    "lrs = [None] * n\n",
    "lrrs = [None] * n\n",
    "for i in range(n):\n",
    "    lrs[i] = avg_lr(ensembles[i])\n",
    "    lrrs[i] = avg_lrr(lr, ensembles[i], xs)"
   ]
  },
  {
   "cell_type": "code",
   "execution_count": 96,
   "id": "8e06a408-c406-48c6-abe1-bf70b7220923",
   "metadata": {},
   "outputs": [
    {
     "data": {
      "image/png": "[encoded data removed]",
      "text/plain": [
       "<Figure size 252x234 with 2 Axes>"
      ]
     },
     "metadata": {
      "needs_background": "light"
     },
     "output_type": "display_data"
    }
   ],
   "source": [
    "fig, axs = plt.subplots(2, 1,\n",
    "                        figsize = (w, h),\n",
    "                        sharex = True, \n",
    "                        gridspec_kw = {'height_ratios': [2, 1]})\n",
    "\n",
    "if title:\n",
    "    axs[0].set_title(title, loc = 'right')\n",
    "\n",
    "# Plot likelihood ratios\n",
    "axs[0].plot(var, lr_true, label = 'Exact', c = 'k', lw = 0.75)\n",
    "\n",
    "for i in range(n):\n",
    "    axs[0].plot(var, \n",
    "                lrs[i], \n",
    "                label = labels[i],\n",
    "                c = cs[i % len(cs)], \n",
    "                ls = lss[i % len(lss)],\n",
    "                lw = 0.75)\n",
    "\n",
    "axs[0].set_xlim(var[0], var[-1])\n",
    "if y_lim:\n",
    "    axs[0].set_ylim(y_lim[0], y_lim[1])\n",
    "axs[0].legend()\n",
    "axs[0].minorticks_on()\n",
    "axs[0].tick_params(which = 'minor', length = 3)\n",
    "axs[0].tick_params(which = 'major', length = 5)\n",
    "axs[0].tick_params(which = 'both', direction='in')\n",
    "axs[0].set_ylabel('$\\mathcal{L}(x)$')\n",
    "\n",
    "# Plot likelihood ratio ratios\n",
    "for i in range(n):\n",
    "    axs[1].plot(var, \n",
    "                lrrs[i],\n",
    "                c = cs[i % len(cs)],\n",
    "                ls = lss[i % len(lss)],\n",
    "                lw = 0.75)\n",
    "\n",
    "axs[1].axhline(1,ls=\":\",color=\"grey\", lw=0.5)\n",
    "axs[1].axvline(0,ls=\":\",color=\"grey\", lw=0.5)\n",
    "axs[1].set_ylim(0.95, 1.05);\n",
    "axs[1].minorticks_on()\n",
    "axs[1].tick_params(which = 'minor', length = 3)\n",
    "axs[1].tick_params(which = 'major', length = 5)\n",
    "axs[1].tick_params(which = 'both', direction='in')\n",
    "axs[1].set_ylabel('Ratio')\n",
    "\n",
    "plt.subplots_adjust(hspace = 0.1)\n",
    "plt.xlabel(var_label)\n",
    "\n",
    "if filename:\n",
    "    plt.savefig(filename, \n",
    "                dpi = 300,\n",
    "                transparent = True,\n",
    "                bbox_inches = 'tight')"
   ]
  },
  {
   "cell_type": "markdown",
   "id": "12721d79-0cbf-4ac3-94dd-6dd69e574bb3",
   "metadata": {
    "jp-MarkdownHeadingCollapsed": true,
    "tags": []
   },
   "source": [
    "### MSE"
   ]
  },
  {
   "cell_type": "code",
   "execution_count": 97,
   "id": "904db736-98e7-4b0e-a8df-55e47c85bd64",
   "metadata": {},
   "outputs": [],
   "source": [
    "# Experiment parameters\n",
    "num = 0\n",
    "reps = 100\n",
    "\n",
    "# Model parameters\n",
    "params_1 = {'loss':mse, 'd':4}\n",
    "params_2 = {'loss':tanh_mse, 'd':4, 'output': 'linear'}\n",
    "params_3 = {'loss':arctan_mse, 'd':4,  'output': 'linear'}\n",
    "\n",
    "filestr = 'models/zenodo/c_mse/set_{}/'.format(num)\n",
    "filestr_1 = filestr + 'sigmoid/model_{}.h5'\n",
    "filestr_2 = filestr + 'tanh/model_{}.h5'\n",
    "filestr_3 = filestr + 'arctan/model_{}.h5'\n",
    "\n",
    "# Data parameters\n",
    "N = 10**6\n",
    "X = np.load('data/zenodo/fold/X_trn.npy')[:N]\n",
    "y = np.load('data/zenodo/fold/y_trn.npy')[:N].astype('float32')\n",
    "data, m, s = split_data(X, y)\n",
    "\n",
    "lr_calc_1 = odds_lr\n",
    "lr_calc_2 = tanh_lr\n",
    "lr_calc_3 = arctan_lr\n",
    "\n",
    "# Plotting\n",
    "w = 3.5\n",
    "h = 3.25\n",
    "labels = [r'$\\sigma(z)$', r'$\\frac{1}{2}\\left(\\tanh{z} + 1\\right)$', r'$\\frac{1}{\\pi}\\left(\\arctan{z} + \\frac{\\pi}{2}\\right)$']\n",
    "y_lim = (0, 3)\n",
    "title = r'\\it MSE $\\phi$ Scan'\n",
    "filename = 'plots/zenodo/scans/mse_phi.png'"
   ]
  },
  {
   "cell_type": "code",
   "execution_count": 98,
   "id": "6f25876b-474d-4eed-9119-c2d8fc0ff166",
   "metadata": {},
   "outputs": [
    {
     "name": "stdout",
     "output_type": "stream",
     "text": [
      "0 1 2 3 4 5 6 7 8 9 10 11 12 13 14 15 16 17 18 19 20 21 22 23 24 25 26 27 28 29 30 31 32 33 34 35 36 37 38 39 40 41 42 43 44 45 46 47 48 49 50 51 52 53 54 55 56 57 58 59 60 61 62 63 64 65 66 67 68 69 70 71 72 73 74 75 76 77 78 79 80 81 82 83 84 85 86 87 88 89 90 91 92 93 94 95 96 97 98 99 "
     ]
    }
   ],
   "source": [
    "lrs_1 = [None] * reps\n",
    "lrs_2 = [None] * reps\n",
    "lrs_3 = [None] * reps\n",
    "\n",
    "for i in range(reps):\n",
    "    print(i, end = ' ')\n",
    "    model_1 = create_model(**params_1)\n",
    "    model_2 = create_model(**params_2)\n",
    "    model_3 = create_model(**params_3)\n",
    "    \n",
    "    model_1.load_weights(filestr_1.format(i))\n",
    "    model_2.load_weights(filestr_2.format(i))\n",
    "    model_3.load_weights(filestr_3.format(i))\n",
    "    \n",
    "    lrs_1[i] = lr_calc_1(model_1, m, s)\n",
    "    lrs_2[i] = lr_calc_2(model_2, m, s)\n",
    "    lrs_3[i] = lr_calc_3(model_3, m, s)"
   ]
  },
  {
   "cell_type": "code",
   "execution_count": 99,
   "id": "7def4200-a8ea-4be5-802d-a52716267eb1",
   "metadata": {},
   "outputs": [],
   "source": [
    "# Calculate predictions\n",
    "preds_1 = get_preds(lrs_1, xs)\n",
    "preds_2 = get_preds(lrs_2, xs)\n",
    "preds_3 = get_preds(lrs_3, xs)\n",
    "\n",
    "# Save results\n",
    "np.save(filestr + 'scans/{}/xs.npy'.format(var_string), xs)\n",
    "np.save(filestr + 'scans/{}/preds_1.npy'.format(var_string), preds_1)\n",
    "np.save(filestr + 'scans/{}/preds_2.npy'.format(var_string), preds_2)\n",
    "np.save(filestr + 'scans/{}/preds_3.npy'.format(var_string), preds_3)"
   ]
  },
  {
   "cell_type": "code",
   "execution_count": 100,
   "id": "ec24c9d2-d6cd-49ba-b396-3d5f33bdd720",
   "metadata": {},
   "outputs": [],
   "source": [
    "ensembles = [preds_1, preds_2, preds_3]\n",
    "n = len(ensembles)\n",
    "\n",
    "lrs = [None] * n\n",
    "lrrs = [None] * n\n",
    "for i in range(n):\n",
    "    lrs[i] = avg_lr(ensembles[i])\n",
    "    lrrs[i] = avg_lrr(lr, ensembles[i], xs)"
   ]
  },
  {
   "cell_type": "code",
   "execution_count": 101,
   "id": "6e65b21f-c5ff-4a76-a1d9-fcd64c8d89dd",
   "metadata": {},
   "outputs": [
    {
     "data": {
      "image/png": "[encoded data removed]",
      "text/plain": [
       "<Figure size 252x234 with 2 Axes>"
      ]
     },
     "metadata": {
      "needs_background": "light"
     },
     "output_type": "display_data"
    }
   ],
   "source": [
    "fig, axs = plt.subplots(2, 1,\n",
    "                        figsize = (w, h),\n",
    "                        sharex = True, \n",
    "                        gridspec_kw = {'height_ratios': [2, 1]})\n",
    "\n",
    "if title:\n",
    "    axs[0].set_title(title, loc = 'right')\n",
    "\n",
    "# Plot likelihood ratios\n",
    "axs[0].plot(var, lr_true, label = 'Exact', c = 'k', lw = 0.75)\n",
    "\n",
    "for i in range(n):\n",
    "    axs[0].plot(var, \n",
    "                lrs[i], \n",
    "                label = labels[i],\n",
    "                c = cs[i % len(cs)], \n",
    "                ls = lss[i % len(lss)],\n",
    "                lw = 0.75)\n",
    "\n",
    "axs[0].set_xlim(var[0], var[-1])\n",
    "if y_lim:\n",
    "    axs[0].set_ylim(y_lim[0], y_lim[1])\n",
    "axs[0].legend()\n",
    "axs[0].minorticks_on()\n",
    "axs[0].tick_params(which = 'minor', length = 3)\n",
    "axs[0].tick_params(which = 'major', length = 5)\n",
    "axs[0].tick_params(which = 'both', direction='in')\n",
    "axs[0].set_ylabel('$\\mathcal{L}(x)$')\n",
    "\n",
    "# Plot likelihood ratio ratios\n",
    "for i in range(n):\n",
    "    axs[1].plot(var, \n",
    "                lrrs[i],\n",
    "                c = cs[i % len(cs)],\n",
    "                ls = lss[i % len(lss)],\n",
    "                lw = 0.75)\n",
    "\n",
    "axs[1].axhline(1,ls=\":\",color=\"grey\", lw=0.5)\n",
    "axs[1].axvline(0,ls=\":\",color=\"grey\", lw=0.5)\n",
    "axs[1].set_ylim(0.95, 1.05);\n",
    "axs[1].minorticks_on()\n",
    "axs[1].tick_params(which = 'minor', length = 3)\n",
    "axs[1].tick_params(which = 'major', length = 5)\n",
    "axs[1].tick_params(which = 'both', direction='in')\n",
    "axs[1].set_ylabel('Ratio')\n",
    "\n",
    "plt.subplots_adjust(hspace = 0.1)\n",
    "plt.xlabel(var_label)\n",
    "\n",
    "if filename:\n",
    "    plt.savefig(filename, \n",
    "                dpi = 300,\n",
    "                transparent = True,\n",
    "                bbox_inches = 'tight')"
   ]
  },
  {
   "cell_type": "markdown",
   "id": "8cc38791-83f3-4a08-962c-43ddd356090e",
   "metadata": {
    "jp-MarkdownHeadingCollapsed": true,
    "tags": []
   },
   "source": [
    "### MLC"
   ]
  },
  {
   "cell_type": "code",
   "execution_count": 102,
   "id": "0f262f2e-ddd5-4386-bbd9-f8d6801eec26",
   "metadata": {},
   "outputs": [],
   "source": [
    "# Experiment parameters\n",
    "num = 0\n",
    "reps = 100\n",
    "\n",
    "# Model parameters\n",
    "params_1 = {'loss':mlc, 'd': 4, 'output': 'relu'}\n",
    "params_2 = {'loss':square_mlc, 'd': 4, 'output': 'linear'}\n",
    "params_3 = {'loss':exp_mlc, 'd': 4, 'output': 'linear'}\n",
    "\n",
    "filestr = 'models/zenodo/c_mlc/set_{}/'.format(num)\n",
    "filestr_1 = filestr + 'relu/model_{}.h5'\n",
    "filestr_2 = filestr + 'square/model_{}.h5'\n",
    "filestr_3 = filestr + 'exponential/model_{}.h5'\n",
    "\n",
    "# Data parameters\n",
    "N = 10**6\n",
    "X = np.load('data/zenodo/fold/X_trn.npy')[:N]\n",
    "y = np.load('data/zenodo/fold/y_trn.npy')[:N].astype('float32')\n",
    "data, m, s = split_data(X, y)\n",
    "\n",
    "lr_calc_1 = pure_lr\n",
    "lr_calc_2 = square_lr\n",
    "lr_calc_3 = exp_lr\n",
    "\n",
    "# Plotting\n",
    "w = 3.5\n",
    "h = 3.25\n",
    "labels = [r'$\\text{ReLU}(z)$', r'$z^2$', r'$\\exp{z}$']\n",
    "y_lim = (0, 3)\n",
    "title = r'\\it MLC $\\phi$ Scan'\n",
    "filename = 'plots/zenodo/scans/mlc_phi.png'"
   ]
  },
  {
   "cell_type": "code",
   "execution_count": 103,
   "id": "68e8a75a-499d-4312-b43e-550d65f67ab6",
   "metadata": {},
   "outputs": [
    {
     "name": "stdout",
     "output_type": "stream",
     "text": [
      "0 1 2 3 4 5 6 7 8 9 10 11 12 13 14 15 16 17 18 19 20 21 22 23 24 25 26 27 28 29 30 31 32 33 34 35 36 37 38 39 40 41 42 43 44 45 46 47 48 49 50 51 52 53 54 55 56 57 58 59 60 61 62 63 64 65 66 67 68 69 70 71 72 73 74 75 76 77 78 79 80 81 82 83 84 85 86 87 88 89 90 91 92 93 94 95 96 97 98 99 "
     ]
    }
   ],
   "source": [
    "lrs_1 = [None] * reps\n",
    "lrs_2 = [None] * reps\n",
    "lrs_3 = [None] * reps\n",
    "\n",
    "for i in range(reps):\n",
    "    print(i, end = ' ')\n",
    "    model_1 = create_model(**params_1)\n",
    "    model_2 = create_model(**params_2)\n",
    "    model_3 = create_model(**params_3)\n",
    "    \n",
    "    model_1.load_weights(filestr_1.format(i))\n",
    "    model_2.load_weights(filestr_2.format(i))\n",
    "    model_3.load_weights(filestr_3.format(i))\n",
    "    \n",
    "    lrs_1[i] = lr_calc_1(model_1, m, s)\n",
    "    lrs_2[i] = lr_calc_2(model_2, m, s)\n",
    "    lrs_3[i] = lr_calc_3(model_3, m, s)"
   ]
  },
  {
   "cell_type": "code",
   "execution_count": 104,
   "id": "bf85fe47-e66a-4d52-9580-c4c88101ad8a",
   "metadata": {},
   "outputs": [],
   "source": [
    "# Calculate predictions\n",
    "preds_1 = get_preds(lrs_1, xs)\n",
    "preds_2 = get_preds(lrs_2, xs)\n",
    "preds_3 = get_preds(lrs_3, xs)\n",
    "\n",
    "# Save results\n",
    "np.save(filestr + 'scans/{}/xs.npy'.format(var_string), xs)\n",
    "np.save(filestr + 'scans/{}/preds_1.npy'.format(var_string), preds_1)\n",
    "np.save(filestr + 'scans/{}/preds_2.npy'.format(var_string), preds_2)\n",
    "np.save(filestr + 'scans/{}/preds_3.npy'.format(var_string), preds_3)"
   ]
  },
  {
   "cell_type": "code",
   "execution_count": 105,
   "id": "fb5df6ac-2641-41f4-bf36-54411f1ac9c4",
   "metadata": {},
   "outputs": [],
   "source": [
    "ensembles = [preds_1, preds_2, preds_3]\n",
    "n = len(ensembles)\n",
    "\n",
    "lrs = [None] * n\n",
    "lrrs = [None] * n\n",
    "for i in range(n):\n",
    "    lrs[i] = avg_lr(ensembles[i])\n",
    "    lrrs[i] = avg_lrr(lr, ensembles[i], xs)"
   ]
  },
  {
   "cell_type": "code",
   "execution_count": 106,
   "id": "50bdace9-db3c-4583-8b94-e4b3f8452728",
   "metadata": {},
   "outputs": [
    {
     "data": {
      "image/png": "[encoded data removed]",
      "text/plain": [
       "<Figure size 252x234 with 2 Axes>"
      ]
     },
     "metadata": {
      "needs_background": "light"
     },
     "output_type": "display_data"
    }
   ],
   "source": [
    "fig, axs = plt.subplots(2, 1,\n",
    "                        figsize = (w, h),\n",
    "                        sharex = True, \n",
    "                        gridspec_kw = {'height_ratios': [2, 1]})\n",
    "\n",
    "if title:\n",
    "    axs[0].set_title(title, loc = 'right')\n",
    "\n",
    "# Plot likelihood ratios\n",
    "axs[0].plot(var, lr_true, label = 'Exact', c = 'k', lw = 0.75)\n",
    "\n",
    "for i in range(n):\n",
    "    axs[0].plot(var, \n",
    "                lrs[i], \n",
    "                label = labels[i],\n",
    "                c = cs[i % len(cs)], \n",
    "                ls = lss[i % len(lss)],\n",
    "                lw = 0.75)\n",
    "\n",
    "axs[0].set_xlim(var[0], var[-1])\n",
    "if y_lim:\n",
    "    axs[0].set_ylim(y_lim[0], y_lim[1])\n",
    "axs[0].legend()\n",
    "axs[0].minorticks_on()\n",
    "axs[0].tick_params(which = 'minor', length = 3)\n",
    "axs[0].tick_params(which = 'major', length = 5)\n",
    "axs[0].tick_params(which = 'both', direction='in')\n",
    "axs[0].set_ylabel('$\\mathcal{L}(x)$')\n",
    "\n",
    "# Plot likelihood ratio ratios\n",
    "for i in range(n):\n",
    "    axs[1].plot(var, \n",
    "                lrrs[i],\n",
    "                c = cs[i % len(cs)],\n",
    "                ls = lss[i % len(lss)],\n",
    "                lw = 0.75)\n",
    "\n",
    "axs[1].axhline(1,ls=\":\",color=\"grey\", lw=0.5)\n",
    "axs[1].axvline(0,ls=\":\",color=\"grey\", lw=0.5)\n",
    "axs[1].set_ylim(0.95, 1.05);\n",
    "axs[1].minorticks_on()\n",
    "axs[1].tick_params(which = 'minor', length = 3)\n",
    "axs[1].tick_params(which = 'major', length = 5)\n",
    "axs[1].tick_params(which = 'both', direction='in')\n",
    "axs[1].set_ylabel('Ratio')\n",
    "\n",
    "plt.subplots_adjust(hspace = 0.1)\n",
    "plt.xlabel(var_label)\n",
    "\n",
    "if filename:\n",
    "    plt.savefig(filename, \n",
    "                dpi = 300,\n",
    "                transparent = True,\n",
    "                bbox_inches = 'tight')"
   ]
  },
  {
   "cell_type": "markdown",
   "id": "f741f259-b9de-4fab-9551-be913df74d6f",
   "metadata": {
    "jp-MarkdownHeadingCollapsed": true,
    "tags": []
   },
   "source": [
    "### SQR"
   ]
  },
  {
   "cell_type": "code",
   "execution_count": 107,
   "id": "16ef0d22-0e9e-430b-b2b7-173af2317717",
   "metadata": {},
   "outputs": [],
   "source": [
    "# Experiment parameters\n",
    "num = 0\n",
    "reps = 100\n",
    "\n",
    "# Model parameters\n",
    "params_1 = {'loss':sqr, 'd': 4, 'output': 'relu'}\n",
    "params_2 = {'loss':square_sqr, 'd': 4, 'output': 'linear'}\n",
    "params_3 = {'loss':exp_sqr, 'd': 4, 'output': 'linear'}\n",
    "\n",
    "filestr = 'models/zenodo/c_sqr/set_{}/'.format(num)\n",
    "filestr_1 = filestr + 'relu/model_{}.h5'\n",
    "filestr_2 = filestr + 'square/model_{}.h5'\n",
    "filestr_3 = filestr + 'exponential/model_{}.h5'\n",
    "\n",
    "# Data parameters\n",
    "N = 10**6\n",
    "X = np.load('data/zenodo/fold/X_trn.npy')[:N]\n",
    "y = np.load('data/zenodo/fold/y_trn.npy')[:N].astype('float32')\n",
    "data, m, s = split_data(X, y)\n",
    "\n",
    "lr_calc_1 = pure_lr\n",
    "lr_calc_2 = square_lr\n",
    "lr_calc_3 = exp_lr\n",
    "\n",
    "# Plotting\n",
    "w = 3.5\n",
    "h = 3.25\n",
    "labels = [r'$\\text{ReLU}(z)$', r'$z^2$', r'$\\exp{z}$']\n",
    "y_lim = (0, 3)\n",
    "title = r'\\it MLC $\\phi$ Scan'\n",
    "filename = 'plots/zenodo/scans/mlc_phi.png'"
   ]
  },
  {
   "cell_type": "code",
   "execution_count": 108,
   "id": "9ee9bf5f-efc9-4254-a606-4f18843f6353",
   "metadata": {},
   "outputs": [
    {
     "name": "stdout",
     "output_type": "stream",
     "text": [
      "0 1 2 3 4 5 6 7 8 9 10 11 12 13 14 15 16 17 18 19 20 21 22 23 24 25 26 27 28 29 30 31 32 33 34 35 36 37 38 39 40 41 42 43 44 45 46 47 48 49 50 51 52 53 54 55 56 57 58 59 60 61 62 63 64 65 66 67 68 69 70 71 72 73 74 75 76 77 78 79 80 81 82 83 84 85 86 87 88 89 90 91 92 93 94 95 96 97 98 99 "
     ]
    }
   ],
   "source": [
    "lrs_1 = [None] * reps\n",
    "lrs_2 = [None] * reps\n",
    "lrs_3 = [None] * reps\n",
    "\n",
    "for i in range(reps):\n",
    "    print(i, end = ' ')\n",
    "    model_1 = create_model(**params_1)\n",
    "    model_2 = create_model(**params_2)\n",
    "    model_3 = create_model(**params_3)\n",
    "    \n",
    "    model_1.load_weights(filestr_1.format(i))\n",
    "    model_2.load_weights(filestr_2.format(i))\n",
    "    model_3.load_weights(filestr_3.format(i))\n",
    "    \n",
    "    lrs_1[i] = lr_calc_1(model_1, m, s)\n",
    "    lrs_2[i] = lr_calc_2(model_2, m, s)\n",
    "    lrs_3[i] = lr_calc_3(model_3, m, s)"
   ]
  },
  {
   "cell_type": "code",
   "execution_count": 109,
   "id": "2792548c-c27b-4554-a946-8ecabca1a58a",
   "metadata": {},
   "outputs": [],
   "source": [
    "# Calculate predictions\n",
    "preds_1 = get_preds(lrs_1, xs)\n",
    "preds_2 = get_preds(lrs_2, xs)\n",
    "preds_3 = get_preds(lrs_3, xs)\n",
    "\n",
    "# Save results\n",
    "np.save(filestr + 'scans/{}/xs.npy'.format(var_string), xs)\n",
    "np.save(filestr + 'scans/{}/preds_1.npy'.format(var_string), preds_1)\n",
    "np.save(filestr + 'scans/{}/preds_2.npy'.format(var_string), preds_2)\n",
    "np.save(filestr + 'scans/{}/preds_3.npy'.format(var_string), preds_3)"
   ]
  },
  {
   "cell_type": "code",
   "execution_count": 110,
   "id": "7b98b633-6f30-48e6-a008-405124142aff",
   "metadata": {},
   "outputs": [],
   "source": [
    "ensembles = [preds_1, preds_2, preds_3]\n",
    "n = len(ensembles)\n",
    "\n",
    "lrs = [None] * n\n",
    "lrrs = [None] * n\n",
    "for i in range(n):\n",
    "    lrs[i] = avg_lr(ensembles[i])\n",
    "    lrrs[i] = avg_lrr(lr, ensembles[i], xs)"
   ]
  },
  {
   "cell_type": "code",
   "execution_count": 111,
   "id": "0a16848d-24d4-4da8-9206-5536b2c2d485",
   "metadata": {},
   "outputs": [
    {
     "data": {
      "image/png": "[encoded data removed]",
      "text/plain": [
       "<Figure size 252x234 with 2 Axes>"
      ]
     },
     "metadata": {
      "needs_background": "light"
     },
     "output_type": "display_data"
    }
   ],
   "source": [
    "fig, axs = plt.subplots(2, 1,\n",
    "                        figsize = (w, h),\n",
    "                        sharex = True, \n",
    "                        gridspec_kw = {'height_ratios': [2, 1]})\n",
    "\n",
    "if title:\n",
    "    axs[0].set_title(title, loc = 'right')\n",
    "\n",
    "# Plot likelihood ratios\n",
    "axs[0].plot(var, lr_true, label = 'Exact', c = 'k', lw = 0.75)\n",
    "\n",
    "for i in range(n):\n",
    "    axs[0].plot(var, \n",
    "                lrs[i], \n",
    "                label = labels[i],\n",
    "                c = cs[i % len(cs)], \n",
    "                ls = lss[i % len(lss)],\n",
    "                lw = 0.75)\n",
    "\n",
    "axs[0].set_xlim(var[0], var[-1])\n",
    "if y_lim:\n",
    "    axs[0].set_ylim(y_lim[0], y_lim[1])\n",
    "axs[0].legend()\n",
    "axs[0].minorticks_on()\n",
    "axs[0].tick_params(which = 'minor', length = 3)\n",
    "axs[0].tick_params(which = 'major', length = 5)\n",
    "axs[0].tick_params(which = 'both', direction='in')\n",
    "axs[0].set_ylabel('$\\mathcal{L}(x)$')\n",
    "\n",
    "# Plot likelihood ratio ratios\n",
    "for i in range(n):\n",
    "    axs[1].plot(var, \n",
    "                lrrs[i],\n",
    "                c = cs[i % len(cs)],\n",
    "                ls = lss[i % len(lss)],\n",
    "                lw = 0.75)\n",
    "\n",
    "axs[1].axhline(1,ls=\":\",color=\"grey\", lw=0.5)\n",
    "axs[1].axvline(0,ls=\":\",color=\"grey\", lw=0.5)\n",
    "axs[1].set_ylim(0.95, 1.05);\n",
    "axs[1].minorticks_on()\n",
    "axs[1].tick_params(which = 'minor', length = 3)\n",
    "axs[1].tick_params(which = 'major', length = 5)\n",
    "axs[1].tick_params(which = 'both', direction='in')\n",
    "axs[1].set_ylabel('Ratio')\n",
    "\n",
    "plt.subplots_adjust(hspace = 0.1)\n",
    "plt.xlabel(var_label)\n",
    "\n",
    "if filename:\n",
    "    plt.savefig(filename, \n",
    "                dpi = 300,\n",
    "                transparent = True,\n",
    "                bbox_inches = 'tight')"
   ]
  },
  {
   "cell_type": "markdown",
   "id": "8d2b302b-4a55-4692-92d8-841886ef0456",
   "metadata": {
    "tags": []
   },
   "source": [
    "## $m$ Scan"
   ]
  },
  {
   "cell_type": "code",
   "execution_count": 112,
   "id": "8d1dd6c2-f01f-49fc-bcdd-88e39849eedb",
   "metadata": {},
   "outputs": [],
   "source": [
    "# Get a one-dimensional slice of test points.\n",
    "ms = np.linspace(0, 80, 1001).reshape(-1, 1)\n",
    "pTs = np.repeat(mode_pT, len(ms)).reshape(-1, 1)\n",
    "phis = np.repeat(mode_phi, len(ms)).reshape(-1, 1)\n",
    "etas = np.repeat(mode_eta, len(ms)).reshape(-1, 1)\n",
    "\n",
    "xs = np.hstack([pTs, etas, phis, ms])\n",
    "var = ms\n",
    "var_label = r'$m$'\n",
    "var_string = 'm'\n",
    "\n",
    "lr_true = lr(xs)\n",
    "\n",
    "lr_true = lr(xs)"
   ]
  },
  {
   "cell_type": "code",
   "execution_count": 113,
   "id": "72011336-edab-4a63-9195-0e27aabd7cd0",
   "metadata": {},
   "outputs": [
    {
     "data": {
      "text/plain": [
       "[<matplotlib.lines.Line2D at 0x7ef96cafbe20>]"
      ]
     },
     "execution_count": 113,
     "metadata": {},
     "output_type": "execute_result"
    },
    {
     "data": {
      "image/png": "[encoded data removed]",
      "text/plain": [
       "<Figure size 432x288 with 1 Axes>"
      ]
     },
     "metadata": {
      "needs_background": "light"
     },
     "output_type": "display_data"
    }
   ],
   "source": [
    "plt.plot(ms, lr_true)"
   ]
  },
  {
   "cell_type": "markdown",
   "id": "c4037258-8fb9-478b-8c05-b479a53f9327",
   "metadata": {
    "tags": []
   },
   "source": [
    "### BCE"
   ]
  },
  {
   "cell_type": "code",
   "execution_count": 114,
   "id": "a0ddbd74-664d-48cb-8db5-cdb235478382",
   "metadata": {},
   "outputs": [],
   "source": [
    "# Experiment parameters\n",
    "num = 0\n",
    "reps = 100\n",
    "\n",
    "# Model parameters\n",
    "params_1 = {'loss':bce, 'd':4}\n",
    "params_2 = {'loss':tanh_bce, 'd':4, 'output': 'linear'}\n",
    "params_3 = {'loss':arctan_bce, 'd':4,  'output': 'linear'}\n",
    "\n",
    "filestr = 'models/zenodo/c_bce/set_{}/'.format(num)\n",
    "filestr_1 = filestr + 'sigmoid/model_{}.h5'\n",
    "filestr_2 = filestr + 'tanh/model_{}.h5'\n",
    "filestr_3 = filestr + 'arctan/model_{}.h5'\n",
    "\n",
    "# Data parameters\n",
    "N = 10**6\n",
    "X = np.load('data/zenodo/fold/X_trn.npy')[:N]\n",
    "y = np.load('data/zenodo/fold/y_trn.npy')[:N].astype('float32')\n",
    "data, m, s = split_data(X, y)\n",
    "\n",
    "lr_calc_1 = odds_lr\n",
    "lr_calc_2 = tanh_lr\n",
    "lr_calc_3 = arctan_lr\n",
    "\n",
    "# Plotting\n",
    "w = 3.5\n",
    "h = 3.25\n",
    "labels = [r'$\\sigma(z)$', r'$\\frac{1}{2}\\left(\\tanh{z} + 1\\right)$', r'$\\frac{1}{\\pi}\\left(\\arctan{z} + \\frac{\\pi}{2}\\right)$']\n",
    "y_lim = (0, 3)\n",
    "title = r'\\it BCE $\\phi$ Scan'\n",
    "filename = 'plots/zenodo/scans/bce_phi.png'"
   ]
  },
  {
   "cell_type": "code",
   "execution_count": 115,
   "id": "f6cbd903-e224-425a-a077-b4bee8caef58",
   "metadata": {},
   "outputs": [
    {
     "name": "stdout",
     "output_type": "stream",
     "text": [
      "0 1 2 3 4 5 6 7 8 9 10 11 12 13 14 15 16 17 18 19 20 21 22 23 24 25 26 27 28 29 30 31 32 33 34 35 36 37 38 39 40 41 42 43 44 45 46 47 48 49 50 51 52 53 54 55 56 57 58 59 60 61 62 63 64 65 66 67 68 69 70 71 72 73 74 75 76 77 78 79 80 81 82 83 84 85 86 87 88 89 90 91 92 93 94 95 96 97 98 99 "
     ]
    }
   ],
   "source": [
    "lrs_1 = [None] * reps\n",
    "lrs_2 = [None] * reps\n",
    "lrs_3 = [None] * reps\n",
    "\n",
    "for i in range(reps):\n",
    "    print(i, end = ' ')\n",
    "    model_1 = create_model(**params_1)\n",
    "    model_2 = create_model(**params_2)\n",
    "    model_3 = create_model(**params_3)\n",
    "    \n",
    "    model_1.load_weights(filestr_1.format(i))\n",
    "    model_2.load_weights(filestr_2.format(i))\n",
    "    model_3.load_weights(filestr_3.format(i))\n",
    "    \n",
    "    lrs_1[i] = lr_calc_1(model_1, m, s)\n",
    "    lrs_2[i] = lr_calc_2(model_2, m, s)\n",
    "    lrs_3[i] = lr_calc_3(model_3, m, s)"
   ]
  },
  {
   "cell_type": "code",
   "execution_count": 116,
   "id": "05ec18d5-d14b-43d4-98bd-0fa210a04b55",
   "metadata": {},
   "outputs": [],
   "source": [
    "# Calculate predictions\n",
    "preds_1 = get_preds(lrs_1, xs)\n",
    "preds_2 = get_preds(lrs_2, xs)\n",
    "preds_3 = get_preds(lrs_3, xs)\n",
    "\n",
    "# Save results\n",
    "np.save(filestr + 'scans/{}/xs.npy'.format(var_string), xs)\n",
    "np.save(filestr + 'scans/{}/preds_1.npy'.format(var_string), preds_1)\n",
    "np.save(filestr + 'scans/{}/preds_2.npy'.format(var_string), preds_2)\n",
    "np.save(filestr + 'scans/{}/preds_3.npy'.format(var_string), preds_3)"
   ]
  },
  {
   "cell_type": "code",
   "execution_count": 117,
   "id": "14c60844-c78b-49a7-b22a-2921079253dd",
   "metadata": {},
   "outputs": [],
   "source": [
    "ensembles = [preds_1, preds_2, preds_3]\n",
    "n = len(ensembles)\n",
    "\n",
    "lrs = [None] * n\n",
    "lrrs = [None] * n\n",
    "for i in range(n):\n",
    "    lrs[i] = avg_lr(ensembles[i])\n",
    "    lrrs[i] = avg_lrr(lr, ensembles[i], xs)"
   ]
  },
  {
   "cell_type": "code",
   "execution_count": 118,
   "id": "d3730a15-8e09-4f0f-b44c-d604ba8e9b48",
   "metadata": {},
   "outputs": [
    {
     "data": {
      "image/png": "[encoded data removed]",
      "text/plain": [
       "<Figure size 252x234 with 2 Axes>"
      ]
     },
     "metadata": {
      "needs_background": "light"
     },
     "output_type": "display_data"
    }
   ],
   "source": [
    "fig, axs = plt.subplots(2, 1,\n",
    "                        figsize = (w, h),\n",
    "                        sharex = True, \n",
    "                        gridspec_kw = {'height_ratios': [2, 1]})\n",
    "\n",
    "if title:\n",
    "    axs[0].set_title(title, loc = 'right')\n",
    "\n",
    "# Plot likelihood ratios\n",
    "axs[0].plot(var, lr_true, label = 'Exact', c = 'k', lw = 0.75)\n",
    "\n",
    "for i in range(n):\n",
    "    axs[0].plot(var, \n",
    "                lrs[i], \n",
    "                label = labels[i],\n",
    "                c = cs[i % len(cs)], \n",
    "                ls = lss[i % len(lss)],\n",
    "                lw = 0.75)\n",
    "\n",
    "axs[0].set_xlim(var[0], var[-1])\n",
    "if y_lim:\n",
    "    axs[0].set_ylim(y_lim[0], y_lim[1])\n",
    "axs[0].legend()\n",
    "axs[0].minorticks_on()\n",
    "axs[0].tick_params(which = 'minor', length = 3)\n",
    "axs[0].tick_params(which = 'major', length = 5)\n",
    "axs[0].tick_params(which = 'both', direction='in')\n",
    "axs[0].set_ylabel('$\\mathcal{L}(x)$')\n",
    "\n",
    "# Plot likelihood ratio ratios\n",
    "for i in range(n):\n",
    "    axs[1].plot(var, \n",
    "                lrrs[i],\n",
    "                c = cs[i % len(cs)],\n",
    "                ls = lss[i % len(lss)],\n",
    "                lw = 0.75)\n",
    "\n",
    "axs[1].axhline(1,ls=\":\",color=\"grey\", lw=0.5)\n",
    "axs[1].axvline(0,ls=\":\",color=\"grey\", lw=0.5)\n",
    "axs[1].set_ylim(0.95, 1.05);\n",
    "axs[1].minorticks_on()\n",
    "axs[1].tick_params(which = 'minor', length = 3)\n",
    "axs[1].tick_params(which = 'major', length = 5)\n",
    "axs[1].tick_params(which = 'both', direction='in')\n",
    "axs[1].set_ylabel('Ratio')\n",
    "\n",
    "plt.subplots_adjust(hspace = 0.1)\n",
    "plt.xlabel(var_label)\n",
    "\n",
    "if filename:\n",
    "    plt.savefig(filename, \n",
    "                dpi = 300,\n",
    "                transparent = True,\n",
    "                bbox_inches = 'tight')"
   ]
  },
  {
   "cell_type": "markdown",
   "id": "ff62bcb8-9d6f-4181-8f33-b7edfccf90ca",
   "metadata": {
    "jp-MarkdownHeadingCollapsed": true,
    "tags": []
   },
   "source": [
    "### MSE"
   ]
  },
  {
   "cell_type": "code",
   "execution_count": 119,
   "id": "2c5f93bc-6e69-428d-9156-b42f7a2b66bc",
   "metadata": {},
   "outputs": [],
   "source": [
    "# Experiment parameters\n",
    "num = 0\n",
    "reps = 100\n",
    "\n",
    "# Model parameters\n",
    "params_1 = {'loss':mse, 'd':4}\n",
    "params_2 = {'loss':tanh_mse, 'd':4, 'output': 'linear'}\n",
    "params_3 = {'loss':arctan_mse, 'd':4,  'output': 'linear'}\n",
    "\n",
    "filestr = 'models/zenodo/c_mse/set_{}/'.format(num)\n",
    "filestr_1 = filestr + 'sigmoid/model_{}.h5'\n",
    "filestr_2 = filestr + 'tanh/model_{}.h5'\n",
    "filestr_3 = filestr + 'arctan/model_{}.h5'\n",
    "\n",
    "# Data parameters\n",
    "N = 10**6\n",
    "X = np.load('data/zenodo/fold/X_trn.npy')[:N]\n",
    "y = np.load('data/zenodo/fold/y_trn.npy')[:N].astype('float32')\n",
    "data, m, s = split_data(X, y)\n",
    "\n",
    "lr_calc_1 = odds_lr\n",
    "lr_calc_2 = tanh_lr\n",
    "lr_calc_3 = arctan_lr\n",
    "\n",
    "# Plotting\n",
    "w = 3.5\n",
    "h = 3.25\n",
    "labels = [r'$\\sigma(z)$', r'$\\frac{1}{2}\\left(\\tanh{z} + 1\\right)$', r'$\\frac{1}{\\pi}\\left(\\arctan{z} + \\frac{\\pi}{2}\\right)$']\n",
    "y_lim = (0, 3)\n",
    "title = r'\\it MSE $\\phi$ Scan'\n",
    "filename = 'plots/zenodo/scans/mse_phi.png'"
   ]
  },
  {
   "cell_type": "code",
   "execution_count": 120,
   "id": "f3c866cf-0fd3-48ba-ac2f-e084fe37bbad",
   "metadata": {},
   "outputs": [
    {
     "name": "stdout",
     "output_type": "stream",
     "text": [
      "0 1 2 3 4 5 6 7 8 9 10 11 12 13 14 15 16 17 18 19 20 21 22 23 24 25 26 27 28 29 30 31 32 33 34 35 36 37 38 39 40 41 42 43 44 45 46 47 48 49 50 51 52 53 54 55 56 57 58 59 60 61 62 63 64 65 66 67 68 69 70 71 72 73 74 75 76 77 78 79 80 81 82 83 84 85 86 87 88 89 90 91 92 93 94 95 96 97 98 99 "
     ]
    }
   ],
   "source": [
    "lrs_1 = [None] * reps\n",
    "lrs_2 = [None] * reps\n",
    "lrs_3 = [None] * reps\n",
    "\n",
    "for i in range(reps):\n",
    "    print(i, end = ' ')\n",
    "    model_1 = create_model(**params_1)\n",
    "    model_2 = create_model(**params_2)\n",
    "    model_3 = create_model(**params_3)\n",
    "    \n",
    "    model_1.load_weights(filestr_1.format(i))\n",
    "    model_2.load_weights(filestr_2.format(i))\n",
    "    model_3.load_weights(filestr_3.format(i))\n",
    "    \n",
    "    lrs_1[i] = lr_calc_1(model_1, m, s)\n",
    "    lrs_2[i] = lr_calc_2(model_2, m, s)\n",
    "    lrs_3[i] = lr_calc_3(model_3, m, s)"
   ]
  },
  {
   "cell_type": "code",
   "execution_count": 121,
   "id": "8a16d6d2-d282-462d-aac0-59a09615f05e",
   "metadata": {},
   "outputs": [],
   "source": [
    "# Calculate predictions\n",
    "preds_1 = get_preds(lrs_1, xs)\n",
    "preds_2 = get_preds(lrs_2, xs)\n",
    "preds_3 = get_preds(lrs_3, xs)\n",
    "\n",
    "# Save results\n",
    "np.save(filestr + 'scans/{}/xs.npy'.format(var_string), xs)\n",
    "np.save(filestr + 'scans/{}/preds_1.npy'.format(var_string), preds_1)\n",
    "np.save(filestr + 'scans/{}/preds_2.npy'.format(var_string), preds_2)\n",
    "np.save(filestr + 'scans/{}/preds_3.npy'.format(var_string), preds_3)"
   ]
  },
  {
   "cell_type": "code",
   "execution_count": 122,
   "id": "77118754-34d1-4fc7-b2e0-5cb8dfcf391c",
   "metadata": {},
   "outputs": [],
   "source": [
    "ensembles = [preds_1, preds_2, preds_3]\n",
    "n = len(ensembles)\n",
    "\n",
    "lrs = [None] * n\n",
    "lrrs = [None] * n\n",
    "for i in range(n):\n",
    "    lrs[i] = avg_lr(ensembles[i])\n",
    "    lrrs[i] = avg_lrr(lr, ensembles[i], xs)"
   ]
  },
  {
   "cell_type": "code",
   "execution_count": 123,
   "id": "a4ee87fc-37ad-4dd5-9a53-c59deabd2bc9",
   "metadata": {},
   "outputs": [
    {
     "data": {
      "image/png": "[encoded data removed]",
      "text/plain": [
       "<Figure size 252x234 with 2 Axes>"
      ]
     },
     "metadata": {
      "needs_background": "light"
     },
     "output_type": "display_data"
    }
   ],
   "source": [
    "fig, axs = plt.subplots(2, 1,\n",
    "                        figsize = (w, h),\n",
    "                        sharex = True, \n",
    "                        gridspec_kw = {'height_ratios': [2, 1]})\n",
    "\n",
    "if title:\n",
    "    axs[0].set_title(title, loc = 'right')\n",
    "\n",
    "# Plot likelihood ratios\n",
    "axs[0].plot(var, lr_true, label = 'Exact', c = 'k', lw = 0.75)\n",
    "\n",
    "for i in range(n):\n",
    "    axs[0].plot(var, \n",
    "                lrs[i], \n",
    "                label = labels[i],\n",
    "                c = cs[i % len(cs)], \n",
    "                ls = lss[i % len(lss)],\n",
    "                lw = 0.75)\n",
    "\n",
    "axs[0].set_xlim(var[0], var[-1])\n",
    "if y_lim:\n",
    "    axs[0].set_ylim(y_lim[0], y_lim[1])\n",
    "axs[0].legend()\n",
    "axs[0].minorticks_on()\n",
    "axs[0].tick_params(which = 'minor', length = 3)\n",
    "axs[0].tick_params(which = 'major', length = 5)\n",
    "axs[0].tick_params(which = 'both', direction='in')\n",
    "axs[0].set_ylabel('$\\mathcal{L}(x)$')\n",
    "\n",
    "# Plot likelihood ratio ratios\n",
    "for i in range(n):\n",
    "    axs[1].plot(var, \n",
    "                lrrs[i],\n",
    "                c = cs[i % len(cs)],\n",
    "                ls = lss[i % len(lss)],\n",
    "                lw = 0.75)\n",
    "\n",
    "axs[1].axhline(1,ls=\":\",color=\"grey\", lw=0.5)\n",
    "axs[1].axvline(0,ls=\":\",color=\"grey\", lw=0.5)\n",
    "axs[1].set_ylim(0.95, 1.05);\n",
    "axs[1].minorticks_on()\n",
    "axs[1].tick_params(which = 'minor', length = 3)\n",
    "axs[1].tick_params(which = 'major', length = 5)\n",
    "axs[1].tick_params(which = 'both', direction='in')\n",
    "axs[1].set_ylabel('Ratio')\n",
    "\n",
    "plt.subplots_adjust(hspace = 0.1)\n",
    "plt.xlabel(var_label)\n",
    "\n",
    "if filename:\n",
    "    plt.savefig(filename, \n",
    "                dpi = 300,\n",
    "                transparent = True,\n",
    "                bbox_inches = 'tight')"
   ]
  },
  {
   "cell_type": "markdown",
   "id": "4cdcaa23-70f4-490e-a65a-561fd58d9761",
   "metadata": {
    "jp-MarkdownHeadingCollapsed": true,
    "tags": []
   },
   "source": [
    "### MLC"
   ]
  },
  {
   "cell_type": "code",
   "execution_count": 124,
   "id": "514ddb1f-1f99-42c1-9fb7-25cf81d15d24",
   "metadata": {},
   "outputs": [],
   "source": [
    "# Experiment parameters\n",
    "num = 0\n",
    "reps = 100\n",
    "\n",
    "# Model parameters\n",
    "params_1 = {'loss':mlc, 'd': 4, 'output': 'relu'}\n",
    "params_2 = {'loss':square_mlc, 'd': 4, 'output': 'linear'}\n",
    "params_3 = {'loss':exp_mlc, 'd': 4, 'output': 'linear'}\n",
    "\n",
    "filestr = 'models/zenodo/c_mlc/set_{}/'.format(num)\n",
    "filestr_1 = filestr + 'relu/model_{}.h5'\n",
    "filestr_2 = filestr + 'square/model_{}.h5'\n",
    "filestr_3 = filestr + 'exponential/model_{}.h5'\n",
    "\n",
    "# Data parameters\n",
    "N = 10**6\n",
    "X = np.load('data/zenodo/fold/X_trn.npy')[:N]\n",
    "y = np.load('data/zenodo/fold/y_trn.npy')[:N].astype('float32')\n",
    "data, m, s = split_data(X, y)\n",
    "\n",
    "lr_calc_1 = pure_lr\n",
    "lr_calc_2 = square_lr\n",
    "lr_calc_3 = exp_lr\n",
    "\n",
    "# Plotting\n",
    "w = 3.5\n",
    "h = 3.25\n",
    "labels = [r'$\\text{ReLU}(z)$', r'$z^2$', r'$\\exp{z}$']\n",
    "y_lim = (0, 3)\n",
    "title = r'\\it MLC $\\phi$ Scan'\n",
    "filename = 'plots/zenodo/scans/mlc_phi.png'"
   ]
  },
  {
   "cell_type": "code",
   "execution_count": 125,
   "id": "835fb93e-67df-48d4-b0e4-625099922e0d",
   "metadata": {},
   "outputs": [
    {
     "name": "stdout",
     "output_type": "stream",
     "text": [
      "0 1 2 3 4 5 6 7 8 9 10 11 12 13 14 15 16 17 18 19 20 21 22 23 24 25 26 27 28 29 30 31 32 33 34 35 36 37 38 39 40 41 42 43 44 45 46 47 48 49 50 51 52 53 54 55 56 57 58 59 60 61 62 63 64 65 66 67 68 69 70 71 72 73 74 75 76 77 78 79 80 81 82 83 84 85 86 87 88 89 90 91 92 93 94 95 96 97 98 99 "
     ]
    }
   ],
   "source": [
    "lrs_1 = [None] * reps\n",
    "lrs_2 = [None] * reps\n",
    "lrs_3 = [None] * reps\n",
    "\n",
    "for i in range(reps):\n",
    "    print(i, end = ' ')\n",
    "    model_1 = create_model(**params_1)\n",
    "    model_2 = create_model(**params_2)\n",
    "    model_3 = create_model(**params_3)\n",
    "    \n",
    "    model_1.load_weights(filestr_1.format(i))\n",
    "    model_2.load_weights(filestr_2.format(i))\n",
    "    model_3.load_weights(filestr_3.format(i))\n",
    "    \n",
    "    lrs_1[i] = lr_calc_1(model_1, m, s)\n",
    "    lrs_2[i] = lr_calc_2(model_2, m, s)\n",
    "    lrs_3[i] = lr_calc_3(model_3, m, s)"
   ]
  },
  {
   "cell_type": "code",
   "execution_count": 126,
   "id": "ee52a132-8964-4c66-8763-2f3f48481e6f",
   "metadata": {},
   "outputs": [],
   "source": [
    "# Calculate predictions\n",
    "preds_1 = get_preds(lrs_1, xs)\n",
    "preds_2 = get_preds(lrs_2, xs)\n",
    "preds_3 = get_preds(lrs_3, xs)\n",
    "\n",
    "# Save results\n",
    "np.save(filestr + 'scans/{}/xs.npy'.format(var_string), xs)\n",
    "np.save(filestr + 'scans/{}/preds_1.npy'.format(var_string), preds_1)\n",
    "np.save(filestr + 'scans/{}/preds_2.npy'.format(var_string), preds_2)\n",
    "np.save(filestr + 'scans/{}/preds_3.npy'.format(var_string), preds_3)"
   ]
  },
  {
   "cell_type": "code",
   "execution_count": 127,
   "id": "4c007dc5-a31b-4aea-9f82-cac27c3bd139",
   "metadata": {},
   "outputs": [],
   "source": [
    "ensembles = [preds_1, preds_2, preds_3]\n",
    "n = len(ensembles)\n",
    "\n",
    "lrs = [None] * n\n",
    "lrrs = [None] * n\n",
    "for i in range(n):\n",
    "    lrs[i] = avg_lr(ensembles[i])\n",
    "    lrrs[i] = avg_lrr(lr, ensembles[i], xs)"
   ]
  },
  {
   "cell_type": "code",
   "execution_count": 128,
   "id": "ead70526-a0ac-498c-8ae1-f7307131ed02",
   "metadata": {},
   "outputs": [
    {
     "data": {
      "image/png": "[encoded data removed]",
      "text/plain": [
       "<Figure size 252x234 with 2 Axes>"
      ]
     },
     "metadata": {
      "needs_background": "light"
     },
     "output_type": "display_data"
    }
   ],
   "source": [
    "fig, axs = plt.subplots(2, 1,\n",
    "                        figsize = (w, h),\n",
    "                        sharex = True, \n",
    "                        gridspec_kw = {'height_ratios': [2, 1]})\n",
    "\n",
    "if title:\n",
    "    axs[0].set_title(title, loc = 'right')\n",
    "\n",
    "# Plot likelihood ratios\n",
    "axs[0].plot(var, lr_true, label = 'Exact', c = 'k', lw = 0.75)\n",
    "\n",
    "for i in range(n):\n",
    "    axs[0].plot(var, \n",
    "                lrs[i], \n",
    "                label = labels[i],\n",
    "                c = cs[i % len(cs)], \n",
    "                ls = lss[i % len(lss)],\n",
    "                lw = 0.75)\n",
    "\n",
    "axs[0].set_xlim(var[0], var[-1])\n",
    "if y_lim:\n",
    "    axs[0].set_ylim(y_lim[0], y_lim[1])\n",
    "axs[0].legend()\n",
    "axs[0].minorticks_on()\n",
    "axs[0].tick_params(which = 'minor', length = 3)\n",
    "axs[0].tick_params(which = 'major', length = 5)\n",
    "axs[0].tick_params(which = 'both', direction='in')\n",
    "axs[0].set_ylabel('$\\mathcal{L}(x)$')\n",
    "\n",
    "# Plot likelihood ratio ratios\n",
    "for i in range(n):\n",
    "    axs[1].plot(var, \n",
    "                lrrs[i],\n",
    "                c = cs[i % len(cs)],\n",
    "                ls = lss[i % len(lss)],\n",
    "                lw = 0.75)\n",
    "\n",
    "axs[1].axhline(1,ls=\":\",color=\"grey\", lw=0.5)\n",
    "axs[1].axvline(0,ls=\":\",color=\"grey\", lw=0.5)\n",
    "axs[1].set_ylim(0.95, 1.05);\n",
    "axs[1].minorticks_on()\n",
    "axs[1].tick_params(which = 'minor', length = 3)\n",
    "axs[1].tick_params(which = 'major', length = 5)\n",
    "axs[1].tick_params(which = 'both', direction='in')\n",
    "axs[1].set_ylabel('Ratio')\n",
    "\n",
    "plt.subplots_adjust(hspace = 0.1)\n",
    "plt.xlabel(var_label)\n",
    "\n",
    "if filename:\n",
    "    plt.savefig(filename, \n",
    "                dpi = 300,\n",
    "                transparent = True,\n",
    "                bbox_inches = 'tight')"
   ]
  },
  {
   "cell_type": "markdown",
   "id": "454e55cc-7c74-4d75-b811-1532b4bba929",
   "metadata": {
    "tags": []
   },
   "source": [
    "### SQR"
   ]
  },
  {
   "cell_type": "code",
   "execution_count": 129,
   "id": "6ae654ee-81ae-40fa-9bda-c2922855a5cd",
   "metadata": {},
   "outputs": [],
   "source": [
    "# Experiment parameters\n",
    "num = 0\n",
    "reps = 100\n",
    "\n",
    "# Model parameters\n",
    "params_1 = {'loss':sqr, 'd': 4, 'output': 'relu'}\n",
    "params_2 = {'loss':square_sqr, 'd': 4, 'output': 'linear'}\n",
    "params_3 = {'loss':exp_sqr, 'd': 4, 'output': 'linear'}\n",
    "\n",
    "filestr = 'models/zenodo/c_sqr/set_{}/'.format(num)\n",
    "filestr_1 = filestr + 'relu/model_{}.h5'\n",
    "filestr_2 = filestr + 'square/model_{}.h5'\n",
    "filestr_3 = filestr + 'exponential/model_{}.h5'\n",
    "\n",
    "# Data parameters\n",
    "N = 10**6\n",
    "X = np.load('data/zenodo/fold/X_trn.npy')[:N]\n",
    "y = np.load('data/zenodo/fold/y_trn.npy')[:N].astype('float32')\n",
    "data, m, s = split_data(X, y)\n",
    "\n",
    "lr_calc_1 = pure_lr\n",
    "lr_calc_2 = square_lr\n",
    "lr_calc_3 = exp_lr\n",
    "\n",
    "# Plotting\n",
    "w = 3.5\n",
    "h = 3.25\n",
    "labels = [r'$\\text{ReLU}(z)$', r'$z^2$', r'$\\exp{z}$']\n",
    "y_lim = (0, 3)\n",
    "title = r'\\it MLC $\\phi$ Scan'\n",
    "filename = 'plots/zenodo/scans/mlc_phi.png'"
   ]
  },
  {
   "cell_type": "code",
   "execution_count": 130,
   "id": "0b40147c-c9d0-4abc-9413-7dd47a944cde",
   "metadata": {},
   "outputs": [
    {
     "name": "stdout",
     "output_type": "stream",
     "text": [
      "0 1 2 3 4 5 6 7 8 9 10 11 12 13 14 15 16 17 18 19 20 21 22 23 24 25 26 27 28 29 30 31 32 33 34 35 36 37 38 39 40 41 42 43 44 45 46 47 48 49 50 51 52 53 54 55 56 57 58 59 60 61 62 63 64 65 66 67 68 69 70 71 72 73 74 75 76 77 78 79 80 81 82 83 84 85 86 87 88 89 90 91 92 93 94 95 96 97 98 99 "
     ]
    }
   ],
   "source": [
    "lrs_1 = [None] * reps\n",
    "lrs_2 = [None] * reps\n",
    "lrs_3 = [None] * reps\n",
    "\n",
    "for i in range(reps):\n",
    "    print(i, end = ' ')\n",
    "    model_1 = create_model(**params_1)\n",
    "    model_2 = create_model(**params_2)\n",
    "    model_3 = create_model(**params_3)\n",
    "    \n",
    "    model_1.load_weights(filestr_1.format(i))\n",
    "    model_2.load_weights(filestr_2.format(i))\n",
    "    model_3.load_weights(filestr_3.format(i))\n",
    "    \n",
    "    lrs_1[i] = lr_calc_1(model_1, m, s)\n",
    "    lrs_2[i] = lr_calc_2(model_2, m, s)\n",
    "    lrs_3[i] = lr_calc_3(model_3, m, s)"
   ]
  },
  {
   "cell_type": "code",
   "execution_count": 131,
   "id": "2ab34f26-727e-413e-8ab4-1121880a1146",
   "metadata": {},
   "outputs": [],
   "source": [
    "# Calculate predictions\n",
    "preds_1 = get_preds(lrs_1, xs)\n",
    "preds_2 = get_preds(lrs_2, xs)\n",
    "preds_3 = get_preds(lrs_3, xs)\n",
    "\n",
    "# Save results\n",
    "np.save(filestr + 'scans/{}/xs.npy'.format(var_string), xs)\n",
    "np.save(filestr + 'scans/{}/preds_1.npy'.format(var_string), preds_1)\n",
    "np.save(filestr + 'scans/{}/preds_2.npy'.format(var_string), preds_2)\n",
    "np.save(filestr + 'scans/{}/preds_3.npy'.format(var_string), preds_3)"
   ]
  },
  {
   "cell_type": "code",
   "execution_count": 132,
   "id": "7e12a6e4-50a5-466c-9ea2-5d4f1402f252",
   "metadata": {},
   "outputs": [],
   "source": [
    "ensembles = [preds_1, preds_2, preds_3]\n",
    "n = len(ensembles)\n",
    "\n",
    "lrs = [None] * n\n",
    "lrrs = [None] * n\n",
    "for i in range(n):\n",
    "    lrs[i] = avg_lr(ensembles[i])\n",
    "    lrrs[i] = avg_lrr(lr, ensembles[i], xs)"
   ]
  },
  {
   "cell_type": "code",
   "execution_count": 133,
   "id": "c8f34bf7-0fa2-46e9-9c45-70bf0c48f6bb",
   "metadata": {},
   "outputs": [
    {
     "data": {
      "image/png": "[encoded data removed]",
      "text/plain": [
       "<Figure size 252x234 with 2 Axes>"
      ]
     },
     "metadata": {
      "needs_background": "light"
     },
     "output_type": "display_data"
    }
   ],
   "source": [
    "fig, axs = plt.subplots(2, 1,\n",
    "                        figsize = (w, h),\n",
    "                        sharex = True, \n",
    "                        gridspec_kw = {'height_ratios': [2, 1]})\n",
    "\n",
    "if title:\n",
    "    axs[0].set_title(title, loc = 'right')\n",
    "\n",
    "# Plot likelihood ratios\n",
    "axs[0].plot(var, lr_true, label = 'Exact', c = 'k', lw = 0.75)\n",
    "\n",
    "for i in range(n):\n",
    "    axs[0].plot(var, \n",
    "                lrs[i], \n",
    "                label = labels[i],\n",
    "                c = cs[i % len(cs)], \n",
    "                ls = lss[i % len(lss)],\n",
    "                lw = 0.75)\n",
    "\n",
    "axs[0].set_xlim(var[0], var[-1])\n",
    "if y_lim:\n",
    "    axs[0].set_ylim(y_lim[0], y_lim[1])\n",
    "axs[0].legend()\n",
    "axs[0].minorticks_on()\n",
    "axs[0].tick_params(which = 'minor', length = 3)\n",
    "axs[0].tick_params(which = 'major', length = 5)\n",
    "axs[0].tick_params(which = 'both', direction='in')\n",
    "axs[0].set_ylabel('$\\mathcal{L}(x)$')\n",
    "\n",
    "# Plot likelihood ratio ratios\n",
    "for i in range(n):\n",
    "    axs[1].plot(var, \n",
    "                lrrs[i],\n",
    "                c = cs[i % len(cs)],\n",
    "                ls = lss[i % len(lss)],\n",
    "                lw = 0.75)\n",
    "\n",
    "axs[1].axhline(1,ls=\":\",color=\"grey\", lw=0.5)\n",
    "axs[1].axvline(0,ls=\":\",color=\"grey\", lw=0.5)\n",
    "axs[1].set_ylim(0.95, 1.05);\n",
    "axs[1].minorticks_on()\n",
    "axs[1].tick_params(which = 'minor', length = 3)\n",
    "axs[1].tick_params(which = 'major', length = 5)\n",
    "axs[1].tick_params(which = 'both', direction='in')\n",
    "axs[1].set_ylabel('Ratio')\n",
    "\n",
    "plt.subplots_adjust(hspace = 0.1)\n",
    "plt.xlabel(var_label)\n",
    "\n",
    "if filename:\n",
    "    plt.savefig(filename, \n",
    "                dpi = 300,\n",
    "                transparent = True,\n",
    "                bbox_inches = 'tight')"
   ]
  },
  {
   "cell_type": "markdown",
   "id": "9fc46f28-dabf-4d48-9d25-8f67dfeb5cd8",
   "metadata": {},
   "source": [
    "# Scratch"
   ]
  },
  {
   "cell_type": "code",
   "execution_count": 340,
   "id": "9f608d33-19e1-4518-90a7-7d45c4d227d5",
   "metadata": {},
   "outputs": [],
   "source": [
    "N = 10**6\n",
    "X_4 = np.load('data/zenodo/4/X_trn.npy')[:N]\n",
    "y_4 = np.load('data/zenodo/4/y_trn.npy')[:N].astype('float32')\n",
    "#data, m, s = split_data(X, y)\n",
    "\n",
    "X_5 = np.load('data/zenodo/fold/5_old/X_trn.npy')[:N]\n",
    "y_5 = np.load('data/zenodo/fold/5_old/y_trn.npy')[:N].astype('float32')"
   ]
  },
  {
   "cell_type": "code",
   "execution_count": 358,
   "id": "8886c9e5-97ed-4c52-a4cd-dff89ba7107e",
   "metadata": {},
   "outputs": [],
   "source": [
    "# Load in data.\n",
    "mc = np.load(\"data/zenodo/Pythia21_Zjet_pTZ-200GeV_0.npz\")\n",
    "\n",
    "mc_pt =  mc['sim_jets'][:, 0] \n",
    "mc_eta = mc['sim_jets'][:, 1]\n",
    "mc_phi = mc['sim_jets'][:, 2]\n",
    "mc_m =   mc['sim_jets'][:, 3]\n",
    "mc_w = mc['sim_widths']\n",
    "mc_sdms = mc['sim_sdms']\n",
    "\n",
    "mc = np.vstack([mc_pt, mc_eta, mc_m, mc_w, mc_sdms]).T\n",
    "\n",
    "\n",
    "dt = np.load(\"data/zenodo/Herwig_Zjet_pTZ-200GeV_0.npz\")\n",
    "\n",
    "dt_pt =  dt['sim_jets'][:, 0] \n",
    "dt_eta = dt['sim_jets'][:, 1]\n",
    "dt_phi = dt['sim_jets'][:, 2]\n",
    "dt_m =   dt['sim_jets'][:, 3]\n",
    "dt_w = dt['sim_widths']\n",
    "dt_sdms = dt['sim_sdms']\n",
    "\n",
    "dt = np.vstack([dt_pt, dt_eta, dt_m, dt_w, dt_sdms]).T\n",
    "\n",
    "n, d = mc.shape"
   ]
  },
  {
   "cell_type": "code",
   "execution_count": 341,
   "id": "ef8278a1-2854-4606-af02-200952fe365a",
   "metadata": {},
   "outputs": [],
   "source": [
    "from matplotlib import rc\n",
    "rc('text', usetex=False)"
   ]
  },
  {
   "cell_type": "code",
   "execution_count": 349,
   "id": "bc7a3ca1-f5fb-4c42-8bb9-ba08debdc3b3",
   "metadata": {},
   "outputs": [
    {
     "data": {
      "text/plain": [
       "(-442.62903, 1521.77)"
      ]
     },
     "execution_count": 349,
     "metadata": {},
     "output_type": "execute_result"
    }
   ],
   "source": [
    "min(X_4[:, 0]), max(X_4[:, 0])"
   ]
  },
  {
   "cell_type": "code",
   "execution_count": 376,
   "id": "6981daee-ede5-422c-b107-aa9a59737bec",
   "metadata": {},
   "outputs": [
    {
     "data": {
      "image/png": "[encoded data removed]",
      "text/plain": [
       "<Figure size 432x288 with 1 Axes>"
      ]
     },
     "metadata": {
      "needs_background": "light"
     },
     "output_type": "display_data"
    }
   ],
   "source": [
    "plt.hist(X_5[X_5[:, 0] > -20, 0], bins = 51);"
   ]
  },
  {
   "cell_type": "code",
   "execution_count": 383,
   "id": "ab9bcbe3-6a1b-4c30-b80d-5eee08105734",
   "metadata": {},
   "outputs": [
    {
     "data": {
      "text/plain": [
       "(-5.8801866, 6.381986)"
      ]
     },
     "execution_count": 383,
     "metadata": {},
     "output_type": "execute_result"
    }
   ],
   "source": [
    "min(X_4[:, 1]), max(X_4[:, 1])"
   ]
  },
  {
   "cell_type": "code",
   "execution_count": 379,
   "id": "a999e1d3-8263-4c7a-9257-2b2f9922c578",
   "metadata": {},
   "outputs": [
    {
     "data": {
      "text/plain": [
       "(-2475194600.0, 35799183000.0)"
      ]
     },
     "execution_count": 379,
     "metadata": {},
     "output_type": "execute_result"
    }
   ],
   "source": [
    "min(X_5[:, 1]), max(X_5[:, 1])"
   ]
  },
  {
   "cell_type": "code",
   "execution_count": 385,
   "id": "22642004-9332-4ec7-b267-0d2a343e4ea9",
   "metadata": {},
   "outputs": [
    {
     "data": {
      "text/plain": [
       "0.000103"
      ]
     },
     "execution_count": 385,
     "metadata": {},
     "output_type": "execute_result"
    }
   ],
   "source": [
    "np.mean((X_5[:, 1] < -6) | (X_5[:, 1] > 7))"
   ]
  },
  {
   "cell_type": "code",
   "execution_count": 380,
   "id": "c1010a62-57ea-4bc7-8f5b-2c09d5cb1011",
   "metadata": {},
   "outputs": [
    {
     "data": {
      "text/plain": [
       "(-12366857.0, 27590.432)"
      ]
     },
     "execution_count": 380,
     "metadata": {},
     "output_type": "execute_result"
    }
   ],
   "source": [
    "min(X_5[:, 2]), max(X_5[:, 2])"
   ]
  },
  {
   "cell_type": "code",
   "execution_count": 381,
   "id": "8f417cc4-49db-4f44-ad79-ffc872017efd",
   "metadata": {},
   "outputs": [
    {
     "data": {
      "text/plain": [
       "(-252134560.0, 31592.186)"
      ]
     },
     "execution_count": 381,
     "metadata": {},
     "output_type": "execute_result"
    }
   ],
   "source": [
    "min(X_5[:, 3]), max(X_5[:, 3])"
   ]
  },
  {
   "cell_type": "code",
   "execution_count": 382,
   "id": "5a85c4c2-0054-4418-ad24-b1d4ad3751aa",
   "metadata": {},
   "outputs": [
    {
     "data": {
      "text/plain": [
       "(-441.0433, 2531.7422)"
      ]
     },
     "execution_count": 382,
     "metadata": {},
     "output_type": "execute_result"
    }
   ],
   "source": [
    "min(X_5[:, 4]), max(X_5[:, 4])"
   ]
  },
  {
   "cell_type": "code",
   "execution_count": 12,
   "id": "e7cd649f-8e38-4a9b-a0c3-6ef7f36e9724",
   "metadata": {
    "scrolled": true
   },
   "outputs": [],
   "source": [
    "N = 10**6\n",
    "X = np.load('data/zenodo/fold/6/X_trn.npy')[:N]\n",
    "y = np.load('data/zenodo/fold/6/y_trn.npy')[:N].astype('float32')\n",
    "data, m, s = split_data(X, y)\n",
    "\n",
    "X_trn, X_tst, y_trn, y_tst = data"
   ]
  },
  {
   "cell_type": "code",
   "execution_count": 13,
   "id": "896da883-fcd0-4adc-a987-98d4a68c4b10",
   "metadata": {},
   "outputs": [],
   "source": [
    "params = {'loss':exp_sqr, 'd': 6, 'output': 'linear'}"
   ]
  },
  {
   "cell_type": "code",
   "execution_count": 14,
   "id": "7d8afca7-f0c3-4d2b-bd98-6022d8324e60",
   "metadata": {},
   "outputs": [],
   "source": [
    "model = create_model(**params, verbose = True)"
   ]
  },
  {
   "cell_type": "code",
   "execution_count": 15,
   "id": "11dc2058-332b-4b93-9fa3-ccc4ac2787a5",
   "metadata": {},
   "outputs": [],
   "source": [
    "model.compile(loss = exp_sqr, optimizer = 'adam', metrics = ['accuracy'])"
   ]
  },
  {
   "cell_type": "code",
   "execution_count": 17,
   "id": "52d333f0-9986-4445-9f6b-60143d2e595f",
   "metadata": {},
   "outputs": [
    {
     "name": "stdout",
     "output_type": "stream",
     "text": [
      "Epoch 1/100\n",
      "8/8 [==============================] - 6s 808ms/step - loss: 0.9937 - accuracy: 0.5009 - val_loss: 0.9933 - val_accuracy: 0.5009\n",
      "Epoch 2/100\n",
      "8/8 [==============================] - 6s 800ms/step - loss: 0.9936 - accuracy: 0.5011 - val_loss: 0.9929 - val_accuracy: 0.5012\n",
      "Epoch 3/100\n",
      "8/8 [==============================] - 6s 839ms/step - loss: 0.9932 - accuracy: 0.5019 - val_loss: 0.9925 - val_accuracy: 0.5019\n",
      "Epoch 4/100\n",
      "8/8 [==============================] - 5s 778ms/step - loss: 0.9929 - accuracy: 0.5033 - val_loss: 0.9923 - val_accuracy: 0.5031\n",
      "Epoch 5/100\n",
      "8/8 [==============================] - 6s 847ms/step - loss: 0.9929 - accuracy: 0.5046 - val_loss: 0.9921 - val_accuracy: 0.5037\n",
      "Epoch 6/100\n",
      "8/8 [==============================] - 5s 749ms/step - loss: 0.9928 - accuracy: 0.5050 - val_loss: 0.9920 - val_accuracy: 0.5037\n",
      "Epoch 7/100\n",
      "8/8 [==============================] - 6s 857ms/step - loss: 0.9927 - accuracy: 0.5049 - val_loss: 0.9920 - val_accuracy: 0.5034\n",
      "Epoch 8/100\n",
      "8/8 [==============================] - 6s 812ms/step - loss: 0.9927 - accuracy: 0.5048 - val_loss: 0.9920 - val_accuracy: 0.5034\n",
      "Epoch 9/100\n",
      "8/8 [==============================] - 6s 825ms/step - loss: 0.9926 - accuracy: 0.5049 - val_loss: 0.9919 - val_accuracy: 0.5037\n",
      "Epoch 10/100\n",
      "8/8 [==============================] - 6s 882ms/step - loss: 0.9925 - accuracy: 0.5052 - val_loss: 0.9918 - val_accuracy: 0.5040\n",
      "Epoch 11/100\n",
      "8/8 [==============================] - 5s 720ms/step - loss: 0.9924 - accuracy: 0.5057 - val_loss: 0.9918 - val_accuracy: 0.5043\n",
      "Epoch 12/100\n",
      "8/8 [==============================] - 6s 839ms/step - loss: 0.9924 - accuracy: 0.5062 - val_loss: 0.9918 - val_accuracy: 0.5046\n",
      "Epoch 13/100\n",
      "8/8 [==============================] - 6s 801ms/step - loss: 0.9924 - accuracy: 0.5064 - val_loss: 0.9917 - val_accuracy: 0.5047\n",
      "Epoch 14/100\n",
      "8/8 [==============================] - 6s 798ms/step - loss: 0.9924 - accuracy: 0.5064 - val_loss: 0.9917 - val_accuracy: 0.5049\n",
      "Epoch 15/100\n",
      "8/8 [==============================] - 6s 842ms/step - loss: 0.9924 - accuracy: 0.5065 - val_loss: 0.9917 - val_accuracy: 0.5050\n",
      "Epoch 16/100\n",
      "8/8 [==============================] - 6s 787ms/step - loss: 0.9923 - accuracy: 0.5071 - val_loss: 0.9917 - val_accuracy: 0.5051\n",
      "Epoch 17/100\n",
      "8/8 [==============================] - 6s 889ms/step - loss: 0.9922 - accuracy: 0.5069 - val_loss: 0.9916 - val_accuracy: 0.5051\n",
      "Epoch 18/100\n",
      "8/8 [==============================] - 6s 822ms/step - loss: 0.9923 - accuracy: 0.5069 - val_loss: 0.9916 - val_accuracy: 0.5054\n",
      "Epoch 19/100\n",
      "8/8 [==============================] - 6s 823ms/step - loss: 0.9922 - accuracy: 0.5073 - val_loss: 0.9916 - val_accuracy: 0.5054\n",
      "Epoch 20/100\n",
      "8/8 [==============================] - 6s 855ms/step - loss: 0.9922 - accuracy: 0.5074 - val_loss: 0.9916 - val_accuracy: 0.5056\n",
      "Epoch 21/100\n",
      "8/8 [==============================] - 5s 772ms/step - loss: 0.9921 - accuracy: 0.5077 - val_loss: 0.9916 - val_accuracy: 0.5057\n",
      "Epoch 22/100\n",
      "8/8 [==============================] - 6s 862ms/step - loss: 0.9922 - accuracy: 0.5076 - val_loss: 0.9915 - val_accuracy: 0.5058\n",
      "Epoch 23/100\n",
      "8/8 [==============================] - 6s 796ms/step - loss: 0.9922 - accuracy: 0.5078 - val_loss: 0.9915 - val_accuracy: 0.5059\n",
      "Epoch 24/100\n",
      "8/8 [==============================] - 6s 793ms/step - loss: 0.9921 - accuracy: 0.5079 - val_loss: 0.9915 - val_accuracy: 0.5061\n",
      "Epoch 25/100\n",
      "8/8 [==============================] - 6s 886ms/step - loss: 0.9921 - accuracy: 0.5079 - val_loss: 0.9915 - val_accuracy: 0.5062\n",
      "Epoch 26/100\n",
      "8/8 [==============================] - 5s 779ms/step - loss: 0.9921 - accuracy: 0.5081 - val_loss: 0.9915 - val_accuracy: 0.5063\n",
      "Epoch 27/100\n",
      "8/8 [==============================] - 6s 860ms/step - loss: 0.9921 - accuracy: 0.5079 - val_loss: 0.9915 - val_accuracy: 0.5062\n",
      "Epoch 28/100\n",
      "8/8 [==============================] - 5s 723ms/step - loss: 0.9921 - accuracy: 0.5082 - val_loss: 0.9915 - val_accuracy: 0.5063\n",
      "Epoch 29/100\n",
      "8/8 [==============================] - 6s 792ms/step - loss: 0.9921 - accuracy: 0.5081 - val_loss: 0.9915 - val_accuracy: 0.5064\n",
      "Epoch 30/100\n",
      "1/8 [==>...........................] - ETA: 0s - loss: 0.9931 - accuracy: 0.5083"
     ]
    },
    {
     "ename": "KeyboardInterrupt",
     "evalue": "",
     "output_type": "error",
     "traceback": [
      "\u001b[0;31m---------------------------------------------------------------------------\u001b[0m",
      "\u001b[0;31mKeyboardInterrupt\u001b[0m                         Traceback (most recent call last)",
      "Input \u001b[0;32mIn [17]\u001b[0m, in \u001b[0;36m<cell line: 1>\u001b[0;34m()\u001b[0m\n\u001b[0;32m----> 1\u001b[0m \u001b[43mmodel\u001b[49m\u001b[38;5;241;43m.\u001b[39;49m\u001b[43mfit\u001b[49m\u001b[43m(\u001b[49m\u001b[43mX_trn\u001b[49m\u001b[43m,\u001b[49m\u001b[43m \u001b[49m\u001b[43my_trn\u001b[49m\u001b[43m,\u001b[49m\u001b[43m \u001b[49m\n\u001b[1;32m      2\u001b[0m \u001b[43m          \u001b[49m\u001b[43mepochs\u001b[49m\u001b[43m \u001b[49m\u001b[38;5;241;43m=\u001b[39;49m\u001b[43m \u001b[49m\u001b[38;5;241;43m100\u001b[39;49m\u001b[43m,\u001b[49m\u001b[43m \u001b[49m\n\u001b[1;32m      3\u001b[0m \u001b[43m          \u001b[49m\u001b[43mbatch_size\u001b[49m\u001b[43m \u001b[49m\u001b[38;5;241;43m=\u001b[39;49m\u001b[43m \u001b[49m\u001b[38;5;28;43mint\u001b[39;49m\u001b[43m(\u001b[49m\u001b[38;5;241;43m0.1\u001b[39;49m\u001b[38;5;241;43m*\u001b[39;49m\u001b[43mN\u001b[49m\u001b[43m)\u001b[49m\u001b[43m,\u001b[49m\u001b[43m \u001b[49m\n\u001b[1;32m      4\u001b[0m \u001b[43m          \u001b[49m\u001b[43mvalidation_data\u001b[49m\u001b[43m \u001b[49m\u001b[38;5;241;43m=\u001b[39;49m\u001b[43m \u001b[49m\u001b[43m(\u001b[49m\u001b[43mX_tst\u001b[49m\u001b[43m,\u001b[49m\u001b[43m \u001b[49m\u001b[43my_tst\u001b[49m\u001b[43m)\u001b[49m\u001b[43m,\u001b[49m\u001b[43m \u001b[49m\n\u001b[1;32m      5\u001b[0m \u001b[43m          \u001b[49m\u001b[43mverbose\u001b[49m\u001b[43m \u001b[49m\u001b[38;5;241;43m=\u001b[39;49m\u001b[43m \u001b[49m\u001b[38;5;28;43;01mTrue\u001b[39;49;00m\u001b[43m)\u001b[49m\n",
      "File \u001b[0;32m/clusterfs/ml4hep/shahzar/miniconda/envs/multifold/lib/python3.10/site-packages/keras/utils/traceback_utils.py:64\u001b[0m, in \u001b[0;36mfilter_traceback.<locals>.error_handler\u001b[0;34m(*args, **kwargs)\u001b[0m\n\u001b[1;32m     62\u001b[0m filtered_tb \u001b[38;5;241m=\u001b[39m \u001b[38;5;28;01mNone\u001b[39;00m\n\u001b[1;32m     63\u001b[0m \u001b[38;5;28;01mtry\u001b[39;00m:\n\u001b[0;32m---> 64\u001b[0m   \u001b[38;5;28;01mreturn\u001b[39;00m \u001b[43mfn\u001b[49m\u001b[43m(\u001b[49m\u001b[38;5;241;43m*\u001b[39;49m\u001b[43margs\u001b[49m\u001b[43m,\u001b[49m\u001b[43m \u001b[49m\u001b[38;5;241;43m*\u001b[39;49m\u001b[38;5;241;43m*\u001b[39;49m\u001b[43mkwargs\u001b[49m\u001b[43m)\u001b[49m\n\u001b[1;32m     65\u001b[0m \u001b[38;5;28;01mexcept\u001b[39;00m \u001b[38;5;167;01mException\u001b[39;00m \u001b[38;5;28;01mas\u001b[39;00m e:  \u001b[38;5;66;03m# pylint: disable=broad-except\u001b[39;00m\n\u001b[1;32m     66\u001b[0m   filtered_tb \u001b[38;5;241m=\u001b[39m _process_traceback_frames(e\u001b[38;5;241m.\u001b[39m__traceback__)\n",
      "File \u001b[0;32m/clusterfs/ml4hep/shahzar/miniconda/envs/multifold/lib/python3.10/site-packages/keras/engine/training.py:1420\u001b[0m, in \u001b[0;36mModel.fit\u001b[0;34m(self, x, y, batch_size, epochs, verbose, callbacks, validation_split, validation_data, shuffle, class_weight, sample_weight, initial_epoch, steps_per_epoch, validation_steps, validation_batch_size, validation_freq, max_queue_size, workers, use_multiprocessing)\u001b[0m\n\u001b[1;32m   1406\u001b[0m \u001b[38;5;28;01mif\u001b[39;00m \u001b[38;5;28mgetattr\u001b[39m(\u001b[38;5;28mself\u001b[39m, \u001b[38;5;124m'\u001b[39m\u001b[38;5;124m_eval_data_handler\u001b[39m\u001b[38;5;124m'\u001b[39m, \u001b[38;5;28;01mNone\u001b[39;00m) \u001b[38;5;129;01mis\u001b[39;00m \u001b[38;5;28;01mNone\u001b[39;00m:\n\u001b[1;32m   1407\u001b[0m   \u001b[38;5;28mself\u001b[39m\u001b[38;5;241m.\u001b[39m_eval_data_handler \u001b[38;5;241m=\u001b[39m data_adapter\u001b[38;5;241m.\u001b[39mget_data_handler(\n\u001b[1;32m   1408\u001b[0m       x\u001b[38;5;241m=\u001b[39mval_x,\n\u001b[1;32m   1409\u001b[0m       y\u001b[38;5;241m=\u001b[39mval_y,\n\u001b[0;32m   (...)\u001b[0m\n\u001b[1;32m   1418\u001b[0m       model\u001b[38;5;241m=\u001b[39m\u001b[38;5;28mself\u001b[39m,\n\u001b[1;32m   1419\u001b[0m       steps_per_execution\u001b[38;5;241m=\u001b[39m\u001b[38;5;28mself\u001b[39m\u001b[38;5;241m.\u001b[39m_steps_per_execution)\n\u001b[0;32m-> 1420\u001b[0m val_logs \u001b[38;5;241m=\u001b[39m \u001b[38;5;28;43mself\u001b[39;49m\u001b[38;5;241;43m.\u001b[39;49m\u001b[43mevaluate\u001b[49m\u001b[43m(\u001b[49m\n\u001b[1;32m   1421\u001b[0m \u001b[43m    \u001b[49m\u001b[43mx\u001b[49m\u001b[38;5;241;43m=\u001b[39;49m\u001b[43mval_x\u001b[49m\u001b[43m,\u001b[49m\n\u001b[1;32m   1422\u001b[0m \u001b[43m    \u001b[49m\u001b[43my\u001b[49m\u001b[38;5;241;43m=\u001b[39;49m\u001b[43mval_y\u001b[49m\u001b[43m,\u001b[49m\n\u001b[1;32m   1423\u001b[0m \u001b[43m    \u001b[49m\u001b[43msample_weight\u001b[49m\u001b[38;5;241;43m=\u001b[39;49m\u001b[43mval_sample_weight\u001b[49m\u001b[43m,\u001b[49m\n\u001b[1;32m   1424\u001b[0m \u001b[43m    \u001b[49m\u001b[43mbatch_size\u001b[49m\u001b[38;5;241;43m=\u001b[39;49m\u001b[43mvalidation_batch_size\u001b[49m\u001b[43m \u001b[49m\u001b[38;5;129;43;01mor\u001b[39;49;00m\u001b[43m \u001b[49m\u001b[43mbatch_size\u001b[49m\u001b[43m,\u001b[49m\n\u001b[1;32m   1425\u001b[0m \u001b[43m    \u001b[49m\u001b[43msteps\u001b[49m\u001b[38;5;241;43m=\u001b[39;49m\u001b[43mvalidation_steps\u001b[49m\u001b[43m,\u001b[49m\n\u001b[1;32m   1426\u001b[0m \u001b[43m    \u001b[49m\u001b[43mcallbacks\u001b[49m\u001b[38;5;241;43m=\u001b[39;49m\u001b[43mcallbacks\u001b[49m\u001b[43m,\u001b[49m\n\u001b[1;32m   1427\u001b[0m \u001b[43m    \u001b[49m\u001b[43mmax_queue_size\u001b[49m\u001b[38;5;241;43m=\u001b[39;49m\u001b[43mmax_queue_size\u001b[49m\u001b[43m,\u001b[49m\n\u001b[1;32m   1428\u001b[0m \u001b[43m    \u001b[49m\u001b[43mworkers\u001b[49m\u001b[38;5;241;43m=\u001b[39;49m\u001b[43mworkers\u001b[49m\u001b[43m,\u001b[49m\n\u001b[1;32m   1429\u001b[0m \u001b[43m    \u001b[49m\u001b[43muse_multiprocessing\u001b[49m\u001b[38;5;241;43m=\u001b[39;49m\u001b[43muse_multiprocessing\u001b[49m\u001b[43m,\u001b[49m\n\u001b[1;32m   1430\u001b[0m \u001b[43m    \u001b[49m\u001b[43mreturn_dict\u001b[49m\u001b[38;5;241;43m=\u001b[39;49m\u001b[38;5;28;43;01mTrue\u001b[39;49;00m\u001b[43m,\u001b[49m\n\u001b[1;32m   1431\u001b[0m \u001b[43m    \u001b[49m\u001b[43m_use_cached_eval_dataset\u001b[49m\u001b[38;5;241;43m=\u001b[39;49m\u001b[38;5;28;43;01mTrue\u001b[39;49;00m\u001b[43m)\u001b[49m\n\u001b[1;32m   1432\u001b[0m val_logs \u001b[38;5;241m=\u001b[39m {\u001b[38;5;124m'\u001b[39m\u001b[38;5;124mval_\u001b[39m\u001b[38;5;124m'\u001b[39m \u001b[38;5;241m+\u001b[39m name: val \u001b[38;5;28;01mfor\u001b[39;00m name, val \u001b[38;5;129;01min\u001b[39;00m val_logs\u001b[38;5;241m.\u001b[39mitems()}\n\u001b[1;32m   1433\u001b[0m epoch_logs\u001b[38;5;241m.\u001b[39mupdate(val_logs)\n",
      "File \u001b[0;32m/clusterfs/ml4hep/shahzar/miniconda/envs/multifold/lib/python3.10/site-packages/keras/utils/traceback_utils.py:64\u001b[0m, in \u001b[0;36mfilter_traceback.<locals>.error_handler\u001b[0;34m(*args, **kwargs)\u001b[0m\n\u001b[1;32m     62\u001b[0m filtered_tb \u001b[38;5;241m=\u001b[39m \u001b[38;5;28;01mNone\u001b[39;00m\n\u001b[1;32m     63\u001b[0m \u001b[38;5;28;01mtry\u001b[39;00m:\n\u001b[0;32m---> 64\u001b[0m   \u001b[38;5;28;01mreturn\u001b[39;00m \u001b[43mfn\u001b[49m\u001b[43m(\u001b[49m\u001b[38;5;241;43m*\u001b[39;49m\u001b[43margs\u001b[49m\u001b[43m,\u001b[49m\u001b[43m \u001b[49m\u001b[38;5;241;43m*\u001b[39;49m\u001b[38;5;241;43m*\u001b[39;49m\u001b[43mkwargs\u001b[49m\u001b[43m)\u001b[49m\n\u001b[1;32m     65\u001b[0m \u001b[38;5;28;01mexcept\u001b[39;00m \u001b[38;5;167;01mException\u001b[39;00m \u001b[38;5;28;01mas\u001b[39;00m e:  \u001b[38;5;66;03m# pylint: disable=broad-except\u001b[39;00m\n\u001b[1;32m     66\u001b[0m   filtered_tb \u001b[38;5;241m=\u001b[39m _process_traceback_frames(e\u001b[38;5;241m.\u001b[39m__traceback__)\n",
      "File \u001b[0;32m/clusterfs/ml4hep/shahzar/miniconda/envs/multifold/lib/python3.10/site-packages/keras/engine/training.py:1716\u001b[0m, in \u001b[0;36mModel.evaluate\u001b[0;34m(self, x, y, batch_size, verbose, sample_weight, steps, callbacks, max_queue_size, workers, use_multiprocessing, return_dict, **kwargs)\u001b[0m\n\u001b[1;32m   1714\u001b[0m \u001b[38;5;28;01mwith\u001b[39;00m tf\u001b[38;5;241m.\u001b[39mprofiler\u001b[38;5;241m.\u001b[39mexperimental\u001b[38;5;241m.\u001b[39mTrace(\u001b[38;5;124m'\u001b[39m\u001b[38;5;124mtest\u001b[39m\u001b[38;5;124m'\u001b[39m, step_num\u001b[38;5;241m=\u001b[39mstep, _r\u001b[38;5;241m=\u001b[39m\u001b[38;5;241m1\u001b[39m):\n\u001b[1;32m   1715\u001b[0m   callbacks\u001b[38;5;241m.\u001b[39mon_test_batch_begin(step)\n\u001b[0;32m-> 1716\u001b[0m   tmp_logs \u001b[38;5;241m=\u001b[39m \u001b[38;5;28;43mself\u001b[39;49m\u001b[38;5;241;43m.\u001b[39;49m\u001b[43mtest_function\u001b[49m\u001b[43m(\u001b[49m\u001b[43miterator\u001b[49m\u001b[43m)\u001b[49m\n\u001b[1;32m   1717\u001b[0m   \u001b[38;5;28;01mif\u001b[39;00m data_handler\u001b[38;5;241m.\u001b[39mshould_sync:\n\u001b[1;32m   1718\u001b[0m     context\u001b[38;5;241m.\u001b[39masync_wait()\n",
      "File \u001b[0;32m/clusterfs/ml4hep/shahzar/miniconda/envs/multifold/lib/python3.10/site-packages/tensorflow/python/util/traceback_utils.py:150\u001b[0m, in \u001b[0;36mfilter_traceback.<locals>.error_handler\u001b[0;34m(*args, **kwargs)\u001b[0m\n\u001b[1;32m    148\u001b[0m filtered_tb \u001b[38;5;241m=\u001b[39m \u001b[38;5;28;01mNone\u001b[39;00m\n\u001b[1;32m    149\u001b[0m \u001b[38;5;28;01mtry\u001b[39;00m:\n\u001b[0;32m--> 150\u001b[0m   \u001b[38;5;28;01mreturn\u001b[39;00m \u001b[43mfn\u001b[49m\u001b[43m(\u001b[49m\u001b[38;5;241;43m*\u001b[39;49m\u001b[43margs\u001b[49m\u001b[43m,\u001b[49m\u001b[43m \u001b[49m\u001b[38;5;241;43m*\u001b[39;49m\u001b[38;5;241;43m*\u001b[39;49m\u001b[43mkwargs\u001b[49m\u001b[43m)\u001b[49m\n\u001b[1;32m    151\u001b[0m \u001b[38;5;28;01mexcept\u001b[39;00m \u001b[38;5;167;01mException\u001b[39;00m \u001b[38;5;28;01mas\u001b[39;00m e:\n\u001b[1;32m    152\u001b[0m   filtered_tb \u001b[38;5;241m=\u001b[39m _process_traceback_frames(e\u001b[38;5;241m.\u001b[39m__traceback__)\n",
      "File \u001b[0;32m/clusterfs/ml4hep/shahzar/miniconda/envs/multifold/lib/python3.10/site-packages/tensorflow/python/eager/def_function.py:915\u001b[0m, in \u001b[0;36mFunction.__call__\u001b[0;34m(self, *args, **kwds)\u001b[0m\n\u001b[1;32m    912\u001b[0m compiler \u001b[38;5;241m=\u001b[39m \u001b[38;5;124m\"\u001b[39m\u001b[38;5;124mxla\u001b[39m\u001b[38;5;124m\"\u001b[39m \u001b[38;5;28;01mif\u001b[39;00m \u001b[38;5;28mself\u001b[39m\u001b[38;5;241m.\u001b[39m_jit_compile \u001b[38;5;28;01melse\u001b[39;00m \u001b[38;5;124m\"\u001b[39m\u001b[38;5;124mnonXla\u001b[39m\u001b[38;5;124m\"\u001b[39m\n\u001b[1;32m    914\u001b[0m \u001b[38;5;28;01mwith\u001b[39;00m OptionalXlaContext(\u001b[38;5;28mself\u001b[39m\u001b[38;5;241m.\u001b[39m_jit_compile):\n\u001b[0;32m--> 915\u001b[0m   result \u001b[38;5;241m=\u001b[39m \u001b[38;5;28;43mself\u001b[39;49m\u001b[38;5;241;43m.\u001b[39;49m\u001b[43m_call\u001b[49m\u001b[43m(\u001b[49m\u001b[38;5;241;43m*\u001b[39;49m\u001b[43margs\u001b[49m\u001b[43m,\u001b[49m\u001b[43m \u001b[49m\u001b[38;5;241;43m*\u001b[39;49m\u001b[38;5;241;43m*\u001b[39;49m\u001b[43mkwds\u001b[49m\u001b[43m)\u001b[49m\n\u001b[1;32m    917\u001b[0m new_tracing_count \u001b[38;5;241m=\u001b[39m \u001b[38;5;28mself\u001b[39m\u001b[38;5;241m.\u001b[39mexperimental_get_tracing_count()\n\u001b[1;32m    918\u001b[0m without_tracing \u001b[38;5;241m=\u001b[39m (tracing_count \u001b[38;5;241m==\u001b[39m new_tracing_count)\n",
      "File \u001b[0;32m/clusterfs/ml4hep/shahzar/miniconda/envs/multifold/lib/python3.10/site-packages/tensorflow/python/eager/def_function.py:954\u001b[0m, in \u001b[0;36mFunction._call\u001b[0;34m(self, *args, **kwds)\u001b[0m\n\u001b[1;32m    951\u001b[0m \u001b[38;5;28mself\u001b[39m\u001b[38;5;241m.\u001b[39m_lock\u001b[38;5;241m.\u001b[39mrelease()\n\u001b[1;32m    952\u001b[0m \u001b[38;5;66;03m# In this case we have not created variables on the first call. So we can\u001b[39;00m\n\u001b[1;32m    953\u001b[0m \u001b[38;5;66;03m# run the first trace but we should fail if variables are created.\u001b[39;00m\n\u001b[0;32m--> 954\u001b[0m results \u001b[38;5;241m=\u001b[39m \u001b[38;5;28;43mself\u001b[39;49m\u001b[38;5;241;43m.\u001b[39;49m\u001b[43m_stateful_fn\u001b[49m\u001b[43m(\u001b[49m\u001b[38;5;241;43m*\u001b[39;49m\u001b[43margs\u001b[49m\u001b[43m,\u001b[49m\u001b[43m \u001b[49m\u001b[38;5;241;43m*\u001b[39;49m\u001b[38;5;241;43m*\u001b[39;49m\u001b[43mkwds\u001b[49m\u001b[43m)\u001b[49m\n\u001b[1;32m    955\u001b[0m \u001b[38;5;28;01mif\u001b[39;00m \u001b[38;5;28mself\u001b[39m\u001b[38;5;241m.\u001b[39m_created_variables \u001b[38;5;129;01mand\u001b[39;00m \u001b[38;5;129;01mnot\u001b[39;00m ALLOW_DYNAMIC_VARIABLE_CREATION:\n\u001b[1;32m    956\u001b[0m   \u001b[38;5;28;01mraise\u001b[39;00m \u001b[38;5;167;01mValueError\u001b[39;00m(\u001b[38;5;124m\"\u001b[39m\u001b[38;5;124mCreating variables on a non-first call to a function\u001b[39m\u001b[38;5;124m\"\u001b[39m\n\u001b[1;32m    957\u001b[0m                    \u001b[38;5;124m\"\u001b[39m\u001b[38;5;124m decorated with tf.function.\u001b[39m\u001b[38;5;124m\"\u001b[39m)\n",
      "File \u001b[0;32m/clusterfs/ml4hep/shahzar/miniconda/envs/multifold/lib/python3.10/site-packages/tensorflow/python/eager/function.py:2956\u001b[0m, in \u001b[0;36mFunction.__call__\u001b[0;34m(self, *args, **kwargs)\u001b[0m\n\u001b[1;32m   2953\u001b[0m \u001b[38;5;28;01mwith\u001b[39;00m \u001b[38;5;28mself\u001b[39m\u001b[38;5;241m.\u001b[39m_lock:\n\u001b[1;32m   2954\u001b[0m   (graph_function,\n\u001b[1;32m   2955\u001b[0m    filtered_flat_args) \u001b[38;5;241m=\u001b[39m \u001b[38;5;28mself\u001b[39m\u001b[38;5;241m.\u001b[39m_maybe_define_function(args, kwargs)\n\u001b[0;32m-> 2956\u001b[0m \u001b[38;5;28;01mreturn\u001b[39;00m \u001b[43mgraph_function\u001b[49m\u001b[38;5;241;43m.\u001b[39;49m\u001b[43m_call_flat\u001b[49m\u001b[43m(\u001b[49m\n\u001b[1;32m   2957\u001b[0m \u001b[43m    \u001b[49m\u001b[43mfiltered_flat_args\u001b[49m\u001b[43m,\u001b[49m\u001b[43m \u001b[49m\u001b[43mcaptured_inputs\u001b[49m\u001b[38;5;241;43m=\u001b[39;49m\u001b[43mgraph_function\u001b[49m\u001b[38;5;241;43m.\u001b[39;49m\u001b[43mcaptured_inputs\u001b[49m\u001b[43m)\u001b[49m\n",
      "File \u001b[0;32m/clusterfs/ml4hep/shahzar/miniconda/envs/multifold/lib/python3.10/site-packages/tensorflow/python/eager/function.py:1809\u001b[0m, in \u001b[0;36mConcreteFunction._call_flat\u001b[0;34m(self, args, captured_inputs, cancellation_manager)\u001b[0m\n\u001b[1;32m   1806\u001b[0m \u001b[38;5;28;01mif\u001b[39;00m default_graph\u001b[38;5;241m.\u001b[39mbuilding_function \u001b[38;5;129;01mand\u001b[39;00m \u001b[38;5;129;01mnot\u001b[39;00m \u001b[38;5;28mself\u001b[39m\u001b[38;5;241m.\u001b[39m_func_graph\u001b[38;5;241m.\u001b[39msaveable:\n\u001b[1;32m   1807\u001b[0m   default_graph\u001b[38;5;241m.\u001b[39mmark_as_unsaveable(\u001b[38;5;28mself\u001b[39m\u001b[38;5;241m.\u001b[39m_func_graph\u001b[38;5;241m.\u001b[39msaving_errors)\n\u001b[0;32m-> 1809\u001b[0m \u001b[38;5;28;01mif\u001b[39;00m (\u001b[43mtape\u001b[49m\u001b[38;5;241;43m.\u001b[39;49m\u001b[43mcould_possibly_record\u001b[49m\u001b[43m(\u001b[49m\u001b[43m)\u001b[49m \u001b[38;5;129;01mor\u001b[39;00m\n\u001b[1;32m   1810\u001b[0m     \u001b[38;5;28mhasattr\u001b[39m(default_graph, \u001b[38;5;124m\"\u001b[39m\u001b[38;5;124mwatch_variable\u001b[39m\u001b[38;5;124m\"\u001b[39m)):\n\u001b[1;32m   1811\u001b[0m   \u001b[38;5;28;01mfor\u001b[39;00m v \u001b[38;5;129;01min\u001b[39;00m \u001b[38;5;28mself\u001b[39m\u001b[38;5;241m.\u001b[39m_func_graph\u001b[38;5;241m.\u001b[39mvariables:\n\u001b[1;32m   1812\u001b[0m     resource_variable_ops\u001b[38;5;241m.\u001b[39mvariable_accessed(v)\n",
      "File \u001b[0;32m/clusterfs/ml4hep/shahzar/miniconda/envs/multifold/lib/python3.10/site-packages/tensorflow/python/eager/tape.py:222\u001b[0m, in \u001b[0;36mcould_possibly_record\u001b[0;34m()\u001b[0m\n\u001b[1;32m    220\u001b[0m \u001b[38;5;28;01mdef\u001b[39;00m \u001b[38;5;21mcould_possibly_record\u001b[39m():\n\u001b[1;32m    221\u001b[0m   \u001b[38;5;124;03m\"\"\"Returns True if any tape is active.\"\"\"\u001b[39;00m\n\u001b[0;32m--> 222\u001b[0m   \u001b[38;5;28;01mreturn\u001b[39;00m \u001b[38;5;129;01mnot\u001b[39;00m \u001b[43mpywrap_tfe\u001b[49m\u001b[38;5;241;43m.\u001b[39;49m\u001b[43mTFE_Py_TapeSetIsEmpty\u001b[49m\u001b[43m(\u001b[49m\u001b[43m)\u001b[49m\n",
      "\u001b[0;31mKeyboardInterrupt\u001b[0m: "
     ]
    }
   ],
   "source": [
    "model.fit(X_trn, y_trn, \n",
    "          epochs = 100, \n",
    "          batch_size = int(0.1*N), \n",
    "          validation_data = (X_tst, y_tst), \n",
    "          verbose = True)"
   ]
  },
  {
   "cell_type": "code",
   "execution_count": null,
   "id": "6ffdfcb7-371b-4ba2-a352-48ef933ac57e",
   "metadata": {},
   "outputs": [],
   "source": [
    "batch = X_tst[:256]\n",
    "y_hat = model.predict(batch)"
   ]
  },
  {
   "cell_type": "code",
   "execution_count": 68,
   "id": "b585a2d2-cfa3-4941-8b4c-090dc53b9bc1",
   "metadata": {},
   "outputs": [
    {
     "data": {
      "text/plain": [
       "1.0000079"
      ]
     },
     "execution_count": 68,
     "metadata": {},
     "output_type": "execute_result"
    }
   ],
   "source": [
    "np.mean([exp_sqr(y_tst[i], y_hat[i]) for i in range(256)])"
   ]
  },
  {
   "cell_type": "code",
   "execution_count": 59,
   "id": "021c33b3-3d88-4b4f-82bc-53b4e4a74d3b",
   "metadata": {},
   "outputs": [],
   "source": [
    "y_hat = model.predict(X_tst[:256])"
   ]
  },
  {
   "cell_type": "code",
   "execution_count": null,
   "id": "3e09cdd3-cc09-4df6-93cd-7bf06adfc979",
   "metadata": {},
   "outputs": [],
   "source": []
  }
 ],
 "metadata": {
  "kernelspec": {
   "display_name": "multifold",
   "language": "python",
   "name": "multifold"
  },
  "language_info": {
   "codemirror_mode": {
    "name": "ipython",
    "version": 3
   },
   "file_extension": ".py",
   "mimetype": "text/x-python",
   "name": "python",
   "nbconvert_exporter": "python",
   "pygments_lexer": "ipython3",
   "version": "3.10.5"
  }
 },
 "nbformat": 4,
 "nbformat_minor": 5
}
