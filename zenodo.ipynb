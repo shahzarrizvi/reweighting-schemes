{
 "cells": [
  {
   "cell_type": "code",
   "execution_count": 1,
   "id": "c913b40d-0cab-4126-a697-7f9dcb77da76",
   "metadata": {},
   "outputs": [],
   "source": [
    "# Automatically reload modules after executing each cell.\n",
    "%load_ext autoreload\n",
    "%autoreload 2"
   ]
  },
  {
   "cell_type": "code",
   "execution_count": 2,
   "id": "32e4adb9-f5a3-47a7-b013-6da24e29d00a",
   "metadata": {},
   "outputs": [],
   "source": [
    "# General imports\n",
    "import os\n",
    "import tensorflow as tf\n",
    "from scipy import stats\n",
    "\n",
    "# Utility imports\n",
    "from utils.losses import *\n",
    "from utils.plotting import *\n",
    "from utils.training import *\n",
    "\n",
    "from flows.flows import *\n",
    "\n",
    "np.random.seed(666) # Need to do more to ensure data is the same across runs."
   ]
  },
  {
   "cell_type": "code",
   "execution_count": 3,
   "id": "8816cc5e-528f-416d-adf1-8e98f8c0dccf",
   "metadata": {},
   "outputs": [],
   "source": [
    "os.environ[\"CUDA_VISIBLE_DEVICES\"] = \"2\" # pick a number < 4 on ML4HEP; < 3 on Voltan \n",
    "physical_devices = tf.config.list_physical_devices('GPU') \n",
    "tf.config.experimental.set_memory_growth(physical_devices[0], True)"
   ]
  },
  {
   "cell_type": "markdown",
   "id": "836abb92-a317-4520-9b36-d60c8588a715",
   "metadata": {
    "jp-MarkdownHeadingCollapsed": true,
    "tags": []
   },
   "source": [
    "# Training"
   ]
  },
  {
   "cell_type": "markdown",
   "id": "d306c891-2979-4d9b-ac19-20ad3a6d36be",
   "metadata": {
    "jp-MarkdownHeadingCollapsed": true,
    "tags": []
   },
   "source": [
    "## BCE $C$ Parametrization"
   ]
  },
  {
   "cell_type": "code",
   "execution_count": 4,
   "id": "7cf47a8f-61ec-4c44-a96d-41cda631935d",
   "metadata": {},
   "outputs": [],
   "source": [
    "# Experiment parameters\n",
    "num = 0\n",
    "reps = 100\n",
    "\n",
    "# Model parameters\n",
    "params_1 = {'loss':bce, 'd':4}\n",
    "params_2 = {'loss':tanh_bce, 'd':4, 'output': 'linear'}\n",
    "params_3 = {'loss':arctan_bce, 'd':4,  'output': 'linear'}\n",
    "\n",
    "filestr = 'models/zenodo/c_bce/set_{}/'.format(num)\n",
    "filestr_1 = filestr + 'sigmoid/model_{}.h5'\n",
    "filestr_2 = filestr + 'tanh/model_{}.h5'\n",
    "filestr_3 = filestr + 'arctan/model_{}.h5'\n",
    "\n",
    "if not os.path.isdir(filestr):\n",
    "    os.mkdir(filestr)\n",
    "\n",
    "if not os.path.isdir(filestr + 'sigmoid/'):\n",
    "    os.mkdir(filestr + 'sigmoid/')\n",
    "    \n",
    "if not os.path.isdir(filestr + 'tanh/'):\n",
    "    os.mkdir(filestr + 'tanh/')\n",
    "\n",
    "if not os.path.isdir(filestr + 'arctan/'):\n",
    "    os.mkdir(filestr + 'arctan/')\n",
    "\n",
    "# Data parameters\n",
    "N = 10**6\n",
    "X = np.load('data/zenodo/fold/X_trn.npy')[:N]\n",
    "y = np.load('data/zenodo/fold/y_trn.npy')[:N].astype('float32')\n",
    "data, m, s = split_data(X, y)"
   ]
  },
  {
   "cell_type": "code",
   "execution_count": null,
   "id": "7fd23de1-cfa5-4896-b9d5-47073ec28015",
   "metadata": {},
   "outputs": [],
   "source": [
    "for i in range(reps):\n",
    "    print(i, end = ' ')\n",
    "    model_1, trace = train(data, **params_1)\n",
    "    model_2, trace = train(data, **params_2)\n",
    "    model_3, trace = train(data, **params_3)\n",
    "    print()\n",
    "    model_1.save_weights(filestr_1.format(i))\n",
    "    model_2.save_weights(filestr_2.format(i))\n",
    "    model_3.save_weights(filestr_3.format(i))"
   ]
  },
  {
   "cell_type": "markdown",
   "id": "9638f4ac-8128-458b-a8b5-bdaf2b0ab509",
   "metadata": {
    "jp-MarkdownHeadingCollapsed": true,
    "tags": []
   },
   "source": [
    "## MSE $C$ Parametrization"
   ]
  },
  {
   "cell_type": "code",
   "execution_count": null,
   "id": "e4b2afea-448e-4859-9769-d45efeb72fd3",
   "metadata": {},
   "outputs": [],
   "source": [
    "# Experiment parameters\n",
    "num = 0\n",
    "reps = 100\n",
    "\n",
    "# Model parameters\n",
    "params_1 = {'loss':mse, 'd':4}\n",
    "params_2 = {'loss':tanh_mse, 'd':4, 'output': 'linear'}\n",
    "params_3 = {'loss':arctan_mse, 'd':4,  'output': 'linear'}\n",
    "\n",
    "filestr = 'models/zenodo/c_mse/set_{}/'.format(num)\n",
    "filestr_1 = filestr + 'sigmoid/model_{}.h5'\n",
    "filestr_2 = filestr + 'tanh/model_{}.h5'\n",
    "filestr_3 = filestr + 'arctan/model_{}.h5'\n",
    "\n",
    "if not os.path.isdir(filestr):\n",
    "    os.mkdir(filestr)\n",
    "\n",
    "if not os.path.isdir(filestr + 'sigmoid/'):\n",
    "    os.mkdir(filestr + 'sigmoid/')\n",
    "    \n",
    "if not os.path.isdir(filestr + 'tanh/'):\n",
    "    os.mkdir(filestr + 'tanh/')\n",
    "\n",
    "if not os.path.isdir(filestr + 'arctan/'):\n",
    "    os.mkdir(filestr + 'arctan/')\n",
    "\n",
    "# Data parameters\n",
    "N = 10**6\n",
    "X = np.load('data/zenodo/fold/X_trn.npy')[:N]\n",
    "y = np.load('data/zenodo/fold/y_trn.npy')[:N].astype('float32')\n",
    "data, m, s = split_data(X, y)"
   ]
  },
  {
   "cell_type": "code",
   "execution_count": null,
   "id": "d82ce72c-c192-46a2-bf81-fe9387d4c720",
   "metadata": {},
   "outputs": [],
   "source": [
    "for i in range(reps):\n",
    "    print(i, end = ' ')\n",
    "    model_1, trace = train(data, **params_1)\n",
    "    model_2, trace = train(data, **params_2)\n",
    "    model_3, trace = train(data, **params_3)\n",
    "    print()\n",
    "    model_1.save_weights(filestr_1.format(i))\n",
    "    model_2.save_weights(filestr_2.format(i))\n",
    "    model_3.save_weights(filestr_3.format(i))"
   ]
  },
  {
   "cell_type": "markdown",
   "id": "b6baaa90-4026-4358-8265-5a4e0247e9df",
   "metadata": {
    "jp-MarkdownHeadingCollapsed": true,
    "tags": []
   },
   "source": [
    "## MLC $C$ Parametrization"
   ]
  },
  {
   "cell_type": "code",
   "execution_count": null,
   "id": "b6aa86d6-4738-468e-839e-634aae54d5ac",
   "metadata": {},
   "outputs": [],
   "source": [
    "# Experiment parameters\n",
    "num = 0\n",
    "reps = 100\n",
    "\n",
    "# Model parameters\n",
    "params_1 = {'loss':mlc, 'd': 4, 'output': 'relu'}\n",
    "params_2 = {'loss':square_mlc, 'd': 4, 'output': 'linear'}\n",
    "params_3 = {'loss':exp_mlc, 'd': 4, 'output': 'linear'}\n",
    "\n",
    "filestr = 'models/zenodo/c_mlc/set_{}/'.format(num)\n",
    "filestr_1 = filestr + 'relu/model_{}.h5'\n",
    "filestr_2 = filestr + 'square/model_{}.h5'\n",
    "filestr_3 = filestr + 'exponential/model_{}.h5'\n",
    "\n",
    "if not os.path.isdir(filestr):\n",
    "    os.mkdir(filestr)\n",
    "\n",
    "if not os.path.isdir(filestr + 'relu/'):\n",
    "    os.mkdir(filestr + 'relu/')\n",
    "    \n",
    "if not os.path.isdir(filestr + 'square/'):\n",
    "    os.mkdir(filestr + 'square/')\n",
    "\n",
    "if not os.path.isdir(filestr + 'exponential/'):\n",
    "    os.mkdir(filestr + 'exponential/')\n",
    "\n",
    "# Data parameters\n",
    "N = 10**6\n",
    "X = np.load('data/zenodo/fold/X_trn.npy')[:N]\n",
    "y = np.load('data/zenodo/fold/y_trn.npy')[:N].astype('float32')\n",
    "data, m, s = split_data(X, y)"
   ]
  },
  {
   "cell_type": "code",
   "execution_count": null,
   "id": "c4551597-7757-4fe3-880f-a5aa1192d71f",
   "metadata": {},
   "outputs": [],
   "source": [
    "for i in range(reps):\n",
    "    print(i, end = ' ')\n",
    "    model_1, trace = train(data, **params_1)\n",
    "    model_2, trace = train(data, **params_2)\n",
    "    model_3, trace = train(data, **params_3)\n",
    "    print()\n",
    "    model_1.save_weights(filestr_1.format(i))\n",
    "    model_2.save_weights(filestr_2.format(i))\n",
    "    model_3.save_weights(filestr_3.format(i))"
   ]
  },
  {
   "cell_type": "markdown",
   "id": "7dbee70d-c8e0-45ba-a396-87da95618bc8",
   "metadata": {
    "jp-MarkdownHeadingCollapsed": true,
    "tags": []
   },
   "source": [
    "## SQR $C$ Parametrization"
   ]
  },
  {
   "cell_type": "code",
   "execution_count": null,
   "id": "4ec3e23c-a094-4507-b97a-41de6ac2f417",
   "metadata": {},
   "outputs": [],
   "source": [
    "# Experiment parameters\n",
    "num = 0\n",
    "reps = 100\n",
    "\n",
    "# Model parameters\n",
    "params_1 = {'loss':sqr, 'd': 4, 'output': 'relu'}\n",
    "params_2 = {'loss':square_sqr, 'd': 4, 'output': 'linear'}\n",
    "params_3 = {'loss':exp_sqr, 'd': 4, 'output': 'linear'}\n",
    "\n",
    "filestr = 'models/zenodo/c_sqr/set_{}/'.format(num)\n",
    "filestr_1 = filestr + 'relu/model_{}.h5'\n",
    "filestr_2 = filestr + 'square/model_{}.h5'\n",
    "filestr_3 = filestr + 'exponential/model_{}.h5'\n",
    "\n",
    "if not os.path.isdir(filestr):\n",
    "    os.mkdir(filestr)\n",
    "\n",
    "if not os.path.isdir(filestr + 'relu/'):\n",
    "    os.mkdir(filestr + 'relu/')\n",
    "    \n",
    "if not os.path.isdir(filestr + 'square/'):\n",
    "    os.mkdir(filestr + 'square/')\n",
    "\n",
    "if not os.path.isdir(filestr + 'exponential/'):\n",
    "    os.mkdir(filestr + 'exponential/')\n",
    "\n",
    "# Data parameters\n",
    "N = 10**6\n",
    "X = np.load('data/zenodo/fold/X_trn.npy')[:N]\n",
    "y = np.load('data/zenodo/fold/y_trn.npy')[:N].astype('float32')\n",
    "data, m, s = split_data(X, y)"
   ]
  },
  {
   "cell_type": "code",
   "execution_count": null,
   "id": "1040f958-cad5-4942-b7cc-a74d00b38a5e",
   "metadata": {},
   "outputs": [],
   "source": [
    "for i in range(reps):\n",
    "    print(i, end = ' ')\n",
    "    model_1, trace = train(data, **params_1)\n",
    "    model_2, trace = train(data, **params_2)\n",
    "    model_3, trace = train(data, **params_3)\n",
    "    print()\n",
    "    model_1.save_weights(filestr_1.format(i))\n",
    "    model_2.save_weights(filestr_2.format(i))\n",
    "    model_3.save_weights(filestr_3.format(i))"
   ]
  },
  {
   "cell_type": "markdown",
   "id": "6741f85a-f192-48fb-bb2f-1c30568fa5dd",
   "metadata": {
    "tags": []
   },
   "source": [
    "# MAEs"
   ]
  },
  {
   "cell_type": "code",
   "execution_count": 5,
   "id": "6e2b7f14-a378-4a39-9cec-71b2892d7a5e",
   "metadata": {},
   "outputs": [
    {
     "name": "stderr",
     "output_type": "stream",
     "text": [
      "2023-03-14 12:31:35.578720: I tensorflow/core/platform/cpu_feature_guard.cc:151] This TensorFlow binary is optimized with oneAPI Deep Neural Network Library (oneDNN) to use the following CPU instructions in performance-critical operations:  SSE4.1 SSE4.2 AVX AVX2 FMA\n",
      "To enable them in other operations, rebuild TensorFlow with the appropriate compiler flags.\n",
      "2023-03-14 12:31:36.227582: I tensorflow/core/common_runtime/gpu/gpu_device.cc:1525] Created device /job:localhost/replica:0/task:0/device:GPU:0 with 22824 MB memory:  -> device: 0, name: Quadro RTX 6000, pci bus id: 0000:81:00.0, compute capability: 7.5\n"
     ]
    },
    {
     "data": {
      "text/plain": [
       "<tensorflow.python.training.tracking.util.CheckpointLoadStatus at 0x7ff90181f9d0>"
      ]
     },
     "execution_count": 5,
     "metadata": {},
     "output_type": "execute_result"
    }
   ],
   "source": [
    "d = 4\n",
    "\n",
    "dat_target = make_target(d)\n",
    "sim_target = make_target(d)\n",
    "\n",
    "dat_ckpt = tf.train.Checkpoint(dat_target)\n",
    "sim_ckpt = tf.train.Checkpoint(sim_target)\n",
    "\n",
    "dat_ckpt.restore('flows/dat6/ckpt-235')\n",
    "sim_ckpt.restore('flows/sim3/ckpt-235')"
   ]
  },
  {
   "cell_type": "code",
   "execution_count": 6,
   "id": "bb718dcf-eab9-4c9f-9e87-a2b7c1c5be55",
   "metadata": {},
   "outputs": [],
   "source": [
    "lr = lambda x: tf.math.exp(dat_target.log_prob(x) - sim_target.log_prob(x)).numpy()"
   ]
  },
  {
   "cell_type": "raw",
   "id": "8270f2e0-8bfd-47d4-a2a3-ecf99fd5d039",
   "metadata": {},
   "source": [
    "X_mae = np.load('data/zenodo/fold/X_tst.npy')\n",
    "lr_tst = lr(X_mae)\n",
    "np.save('data/zenodo/fold/lr_tst.npy', lr_tst)"
   ]
  },
  {
   "cell_type": "code",
   "execution_count": 7,
   "id": "397b9acd-70f9-4bb8-8ec2-f34c6a9fdad2",
   "metadata": {},
   "outputs": [],
   "source": [
    "X_mae = np.load('data/zenodo/fold/X_tst.npy')\n",
    "lr_tst = np.load('data/zenodo/fold/lr_tst.npy')"
   ]
  },
  {
   "cell_type": "code",
   "execution_count": 8,
   "id": "10649c6a-b2ec-454b-855f-9e8ffa212871",
   "metadata": {},
   "outputs": [],
   "source": [
    "def mae(model_lr):\n",
    "    abs_dif = abs(model_lr(X_mae) - lr_tst)\n",
    "    #print(np.mean(abs_dif < 100), end = ' ')\n",
    "    return abs_dif[abs_dif < 100].mean()"
   ]
  },
  {
   "cell_type": "markdown",
   "id": "ba33598d-74f3-4a55-8655-dbbd4c98a248",
   "metadata": {
    "jp-MarkdownHeadingCollapsed": true,
    "tags": []
   },
   "source": [
    "## BCE"
   ]
  },
  {
   "cell_type": "code",
   "execution_count": 9,
   "id": "69dbad47-eaad-4b2b-8d52-887761f082a0",
   "metadata": {},
   "outputs": [],
   "source": [
    "# Experiment parameters\n",
    "num = 0\n",
    "reps = 100\n",
    "\n",
    "# Model parameters\n",
    "params_1 = {'loss':bce, 'd':4}\n",
    "params_2 = {'loss':tanh_bce, 'd':4, 'output': 'linear'}\n",
    "params_3 = {'loss':arctan_bce, 'd':4,  'output': 'linear'}\n",
    "\n",
    "filestr = 'models/zenodo/c_bce/set_{}/'.format(num)\n",
    "filestr_1 = filestr + 'sigmoid/model_{}.h5'\n",
    "filestr_2 = filestr + 'tanh/model_{}.h5'\n",
    "filestr_3 = filestr + 'arctan/model_{}.h5'\n",
    "\n",
    "# Data parameters\n",
    "N = 10**6\n",
    "X = np.load('data/zenodo/fold/X_trn.npy')[:N]\n",
    "y = np.load('data/zenodo/fold/y_trn.npy')[:N].astype('float32')\n",
    "data, m, s = split_data(X, y)"
   ]
  },
  {
   "cell_type": "code",
   "execution_count": 10,
   "id": "a55a8299-8fef-4eee-ab11-e3e64eb9b9d4",
   "metadata": {},
   "outputs": [
    {
     "name": "stdout",
     "output_type": "stream",
     "text": [
      "0.14966658 0.15346421 0.15029684\n",
      "0.0036739656 0.0062510087 0.0042783413\n"
     ]
    }
   ],
   "source": [
    "lrs_1 = [None] * reps\n",
    "lrs_2 = [None] * reps\n",
    "lrs_3 = [None] * reps\n",
    "\n",
    "for i in range(reps):\n",
    "    model_1 = create_model(**params_1)\n",
    "    model_2 = create_model(**params_2)\n",
    "    model_3 = create_model(**params_3)\n",
    "    \n",
    "    model_1.load_weights(filestr_1.format(i))\n",
    "    model_2.load_weights(filestr_2.format(i))\n",
    "    model_3.load_weights(filestr_3.format(i))\n",
    "    \n",
    "    lrs_1[i] = odds_lr(model_1, m, s)\n",
    "    lrs_2[i] = tanh_lr(model_2, m, s)\n",
    "    lrs_3[i] = arctan_lr(model_3, m, s)\n",
    "\n",
    "# Calculate mean absolute errors\n",
    "maes_1 = [mae(lr) for lr in lrs_1]\n",
    "maes_2 = [mae(lr) for lr in lrs_2]\n",
    "maes_3 = [mae(lr) for lr in lrs_3]\n",
    "\n",
    "avg_1 = np.mean(maes_1)\n",
    "avg_2 = np.mean(maes_2)\n",
    "avg_3 = np.mean(maes_3, where = ~np.isnan(maes_3))\n",
    "\n",
    "std_1 = np.std(maes_1, ddof = 1)\n",
    "std_2 = np.std(maes_2, ddof = 1)\n",
    "std_3 = np.std(maes_3, ddof = 1)\n",
    "\n",
    "abs_dif_1 = np.array([abs(lr(X_mae) - lr_tst) for lr in lrs_1])\n",
    "abs_dif_2 = np.array([abs(lr(X_mae) - lr_tst) for lr in lrs_2])\n",
    "abs_dif_3 = np.array([abs(lr(X_mae) - lr_tst) for lr in lrs_3])\n",
    "\n",
    "# Save results\n",
    "np.save(filestr + 'maes_1.npy', maes_1)\n",
    "np.save(filestr + 'maes_2.npy', maes_2)\n",
    "np.save(filestr + 'maes_3.npy', maes_3)\n",
    "\n",
    "np.save(filestr + 'avg_1.npy', avg_1)\n",
    "np.save(filestr + 'avg_2.npy', avg_2)\n",
    "np.save(filestr + 'avg_3.npy', avg_3)\n",
    "\n",
    "np.save(filestr + 'std_1.npy', std_1)\n",
    "np.save(filestr + 'std_2.npy', std_2)\n",
    "np.save(filestr + 'std_3.npy', std_3)\n",
    "\n",
    "np.save(filestr + 'abs_dif_1.npy', abs_dif_1)\n",
    "np.save(filestr + 'abs_dif_2.npy', abs_dif_2)\n",
    "np.save(filestr + 'abs_dif_3.npy', abs_dif_3)\n",
    "\n",
    "print(avg_1, avg_2, avg_3)\n",
    "print(std_1, std_2, std_3)"
   ]
  },
  {
   "cell_type": "code",
   "execution_count": null,
   "id": "e3d2a760-b7d0-4eeb-8a8f-e0178d0e85f4",
   "metadata": {},
   "outputs": [],
   "source": [
    "abs_dif_1 = np.load(filestr + 'abs_dif_1.npy')\n",
    "(abs_dif_1 > 100).mean()"
   ]
  },
  {
   "cell_type": "code",
   "execution_count": null,
   "id": "4a7456aa-3535-40b0-93d1-b3a3f1d1e2b3",
   "metadata": {},
   "outputs": [],
   "source": [
    "aa = abs_dif_1.flatten()\n",
    "bb = abs_dif_2.flatten()\n",
    "cc = abs_dif_3.flatten()\n",
    "\n",
    "ts = np.linspace(0, 20)\n",
    "plt.plot(ts, [(aa < t).mean() for t in ts], label = r'$\\sigma(z)$')\n",
    "plt.plot(ts, [(bb < t).mean() for t in ts], label = r'$\\frac{1}{2}\\left(\\tanh{z} + 1\\right)$')\n",
    "plt.plot(ts, [(cc < t).mean() for t in ts], label = r'$\\frac{1}{\\pi}\\left(\\arctan{z} + \\frac{\\pi}{2}\\right)$')\n",
    "plt.legend()\n",
    "\n",
    "plt.xlabel(r'$t$')\n",
    "plt.ylabel(r'$\\text{Pr}\\left(\\Big|\\mathcal{L}(X) - \\mathcal{L}_\\text{BCE}(X)\\Big| < t\\right)$')\n",
    "plt.title(r'BCE Likelihood Ratios Absolute Differences')\n",
    "\n",
    "plt.savefig('plots/zenodo/bce_threshold_plot.png', \n",
    "            dpi=300, \n",
    "            bbox_inches='tight')"
   ]
  },
  {
   "cell_type": "markdown",
   "id": "0c13e87b-0600-4481-82d7-8f0d0ea4f721",
   "metadata": {
    "jp-MarkdownHeadingCollapsed": true,
    "tags": []
   },
   "source": [
    "## MSE"
   ]
  },
  {
   "cell_type": "code",
   "execution_count": 11,
   "id": "38aa4548-76a5-4b4c-bc18-0d850162c713",
   "metadata": {},
   "outputs": [],
   "source": [
    "# Experiment parameters\n",
    "num = 0\n",
    "reps = 100\n",
    "\n",
    "# Model parameters\n",
    "params_1 = {'loss':mse, 'd':4}\n",
    "params_2 = {'loss':tanh_mse, 'd':4, 'output': 'linear'}\n",
    "params_3 = {'loss':arctan_mse, 'd':4,  'output': 'linear'}\n",
    "\n",
    "filestr = 'models/zenodo/c_mse/set_{}/'.format(num)\n",
    "filestr_1 = filestr + 'sigmoid/model_{}.h5'\n",
    "filestr_2 = filestr + 'tanh/model_{}.h5'\n",
    "filestr_3 = filestr + 'arctan/model_{}.h5'\n",
    "\n",
    "# Data parameters\n",
    "N = 10**6\n",
    "X = np.load('data/zenodo/fold/X_trn.npy')[:N]\n",
    "y = np.load('data/zenodo/fold/y_trn.npy')[:N].astype('float32')\n",
    "data, m, s = split_data(X, y)"
   ]
  },
  {
   "cell_type": "code",
   "execution_count": 12,
   "id": "928ed293-7c7a-4dad-9677-b82cd3e58be1",
   "metadata": {},
   "outputs": [
    {
     "name": "stdout",
     "output_type": "stream",
     "text": [
      "0.14965758 0.15323049 0.1507466\n",
      "0.003114576 0.005368213 0.0036274202\n"
     ]
    }
   ],
   "source": [
    "lrs_1 = [None] * reps\n",
    "lrs_2 = [None] * reps\n",
    "lrs_3 = [None] * reps\n",
    "\n",
    "for i in range(reps):\n",
    "    model_1 = create_model(**params_1)\n",
    "    model_2 = create_model(**params_2)\n",
    "    model_3 = create_model(**params_3)\n",
    "    \n",
    "    model_1.load_weights(filestr_1.format(i))\n",
    "    model_2.load_weights(filestr_2.format(i))\n",
    "    model_3.load_weights(filestr_3.format(i))\n",
    "    \n",
    "    lrs_1[i] = odds_lr(model_1, m, s)\n",
    "    lrs_2[i] = tanh_lr(model_2, m, s)\n",
    "    lrs_3[i] = arctan_lr(model_3, m, s)\n",
    "\n",
    "# Calculate mean absolute errors\n",
    "maes_1 = [mae(lr) for lr in lrs_1]\n",
    "maes_2 = [mae(lr) for lr in lrs_2]\n",
    "maes_3 = [mae(lr) for lr in lrs_3]\n",
    "\n",
    "avg_1 = np.mean(maes_1)\n",
    "avg_2 = np.mean(maes_2)\n",
    "avg_3 = np.mean(maes_3, where = ~np.isnan(maes_3))\n",
    "\n",
    "std_1 = np.std(maes_1, ddof = 1)\n",
    "std_2 = np.std(maes_2, ddof = 1)\n",
    "std_3 = np.std(maes_3, ddof = 1)\n",
    "\n",
    "abs_dif_1 = np.array([abs(lr(X_mae) - lr_tst) for lr in lrs_1])\n",
    "abs_dif_2 = np.array([abs(lr(X_mae) - lr_tst) for lr in lrs_2])\n",
    "abs_dif_3 = np.array([abs(lr(X_mae) - lr_tst) for lr in lrs_3])\n",
    "\n",
    "# Save results\n",
    "np.save(filestr + 'maes_1.npy', maes_1)\n",
    "np.save(filestr + 'maes_2.npy', maes_2)\n",
    "np.save(filestr + 'maes_3.npy', maes_3)\n",
    "\n",
    "np.save(filestr + 'avg_1.npy', avg_1)\n",
    "np.save(filestr + 'avg_2.npy', avg_2)\n",
    "np.save(filestr + 'avg_3.npy', avg_3)\n",
    "\n",
    "np.save(filestr + 'std_1.npy', std_1)\n",
    "np.save(filestr + 'std_2.npy', std_2)\n",
    "np.save(filestr + 'std_3.npy', std_3)\n",
    "\n",
    "np.save(filestr + 'abs_dif_1.npy', abs_dif_1)\n",
    "np.save(filestr + 'abs_dif_2.npy', abs_dif_2)\n",
    "np.save(filestr + 'abs_dif_3.npy', abs_dif_3)\n",
    "\n",
    "print(avg_1, avg_2, avg_3)\n",
    "print(std_1, std_2, std_3)"
   ]
  },
  {
   "cell_type": "code",
   "execution_count": null,
   "id": "499652e2-1cc0-467f-ae83-7db55c0a7695",
   "metadata": {},
   "outputs": [],
   "source": [
    "abs_dif_1 = np.load(filestr + 'abs_dif_1.npy')\n",
    "(abs_dif_1 > 100).mean()"
   ]
  },
  {
   "cell_type": "code",
   "execution_count": null,
   "id": "bdf098b1-7914-499a-aad5-f9d3b6181995",
   "metadata": {},
   "outputs": [],
   "source": [
    "aa = abs_dif_1.flatten()\n",
    "bb = abs_dif_2.flatten()\n",
    "cc = abs_dif_3.flatten()\n",
    "\n",
    "ts = np.linspace(0, 20)\n",
    "plt.plot(ts, [(aa < t).mean() for t in ts], label = r'$\\sigma(z)$')\n",
    "plt.plot(ts, [(bb < t).mean() for t in ts], label = r'$\\frac{1}{2}\\left(\\tanh{z} + 1\\right)$')\n",
    "plt.plot(ts, [(cc < t).mean() for t in ts], label = r'$\\frac{1}{\\pi}\\left(\\arctan{z} + \\frac{\\pi}{2}\\right)$')\n",
    "plt.legend()\n",
    "\n",
    "plt.xlabel(r'$t$')\n",
    "plt.ylabel(r'$\\text{Pr}\\left(\\Big|\\mathcal{L}(X) - \\mathcal{L}_\\text{MSE}(X)\\Big| < t\\right)$')\n",
    "plt.title(r'MSE Likelihood Ratios Absolute Differences')\n",
    "\n",
    "plt.savefig('plots/zenodo/mse_threshold_plot.png', \n",
    "            dpi=300, \n",
    "            bbox_inches='tight')"
   ]
  },
  {
   "cell_type": "markdown",
   "id": "3cadcc88-597b-4b61-a6b3-b3d1c11ea787",
   "metadata": {
    "jp-MarkdownHeadingCollapsed": true,
    "tags": []
   },
   "source": [
    "## MLC"
   ]
  },
  {
   "cell_type": "code",
   "execution_count": 13,
   "id": "c6e21fa2-f50c-4582-853f-1ea132efdb63",
   "metadata": {},
   "outputs": [],
   "source": [
    "# Experiment parameters\n",
    "num = 0\n",
    "reps = 100\n",
    "\n",
    "# Model parameters\n",
    "params_1 = {'loss':mlc, 'd': 4, 'output': 'relu'}\n",
    "params_2 = {'loss':square_mlc, 'd': 4, 'output': 'linear'}\n",
    "params_3 = {'loss':exp_mlc, 'd': 4, 'output': 'linear'}\n",
    "\n",
    "filestr = 'models/zenodo/c_mlc/set_{}/'.format(num)\n",
    "filestr_1 = filestr + 'relu/model_{}.h5'\n",
    "filestr_2 = filestr + 'square/model_{}.h5'\n",
    "filestr_3 = filestr + 'exponential/model_{}.h5'\n",
    "\n",
    "# Data parameters\n",
    "N = 10**6\n",
    "X = np.load('data/zenodo/fold/X_trn.npy')[:N]\n",
    "y = np.load('data/zenodo/fold/y_trn.npy')[:N].astype('float32')\n",
    "data, m, s = split_data(X, y)"
   ]
  },
  {
   "cell_type": "code",
   "execution_count": 14,
   "id": "1b8e229b-4e69-4f2c-9b02-314d8a698fd7",
   "metadata": {
    "tags": []
   },
   "outputs": [
    {
     "name": "stdout",
     "output_type": "stream",
     "text": [
      "0.18895239 0.2480759 0.14602703\n",
      "0.005693832 0.16634241 0.004604917\n"
     ]
    }
   ],
   "source": [
    "lrs_1 = [None] * reps\n",
    "lrs_2 = [None] * reps\n",
    "lrs_3 = [None] * reps\n",
    "\n",
    "for i in range(reps):\n",
    "    model_1 = create_model(**params_1)\n",
    "    model_2 = create_model(**params_2)\n",
    "    model_3 = create_model(**params_3)\n",
    "    \n",
    "    model_1.load_weights(filestr_1.format(i))\n",
    "    model_2.load_weights(filestr_2.format(i))\n",
    "    model_3.load_weights(filestr_3.format(i))\n",
    "    \n",
    "    lrs_1[i] = pure_lr(model_1, m, s)\n",
    "    lrs_2[i] = square_lr(model_2, m, s)\n",
    "    lrs_3[i] = exp_lr(model_3, m, s)\n",
    "\n",
    "# Calculate mean absolute errors\n",
    "maes_1 = [mae(lr) for lr in lrs_1]\n",
    "maes_2 = [mae(lr) for lr in lrs_2]\n",
    "maes_3 = [mae(lr) for lr in lrs_3]\n",
    "\n",
    "avg_1 = np.mean(maes_1)\n",
    "avg_2 = np.mean(maes_2)\n",
    "avg_3 = np.mean(maes_3, where = ~np.isnan(maes_3))\n",
    "\n",
    "std_1 = np.std(maes_1, ddof = 1)\n",
    "std_2 = np.std(maes_2, ddof = 1)\n",
    "std_3 = np.std(maes_3, ddof = 1)\n",
    "\n",
    "abs_dif_1 = np.array([abs(lr(X_mae) - lr_tst) for lr in lrs_1])\n",
    "abs_dif_2 = np.array([abs(lr(X_mae) - lr_tst) for lr in lrs_2])\n",
    "abs_dif_3 = np.array([abs(lr(X_mae) - lr_tst) for lr in lrs_3])\n",
    "\n",
    "# Save results\n",
    "np.save(filestr + 'maes_1.npy', maes_1)\n",
    "np.save(filestr + 'maes_2.npy', maes_2)\n",
    "np.save(filestr + 'maes_3.npy', maes_3)\n",
    "\n",
    "np.save(filestr + 'avg_1.npy', avg_1)\n",
    "np.save(filestr + 'avg_2.npy', avg_2)\n",
    "np.save(filestr + 'avg_3.npy', avg_3)\n",
    "\n",
    "np.save(filestr + 'std_1.npy', std_1)\n",
    "np.save(filestr + 'std_2.npy', std_2)\n",
    "np.save(filestr + 'std_3.npy', std_3)\n",
    "\n",
    "np.save(filestr + 'abs_dif_1.npy', abs_dif_1)\n",
    "np.save(filestr + 'abs_dif_2.npy', abs_dif_2)\n",
    "np.save(filestr + 'abs_dif_3.npy', abs_dif_3)\n",
    "\n",
    "print(avg_1, avg_2, avg_3)\n",
    "print(std_1, std_2, std_3)"
   ]
  },
  {
   "cell_type": "code",
   "execution_count": null,
   "id": "f74be4e3-5088-4558-bdfd-00d476a74fd3",
   "metadata": {},
   "outputs": [],
   "source": [
    "abs_dif_3 = np.load(filestr + 'abs_dif_3.npy')\n",
    "(abs_dif_3 > 100).mean()"
   ]
  },
  {
   "cell_type": "code",
   "execution_count": null,
   "id": "da2dff01-f636-4b8e-9728-f9920be63be2",
   "metadata": {},
   "outputs": [],
   "source": [
    "aa = abs_dif_1.flatten()\n",
    "bb = abs_dif_2.flatten()\n",
    "cc = abs_dif_3.flatten()\n",
    "\n",
    "ts = np.linspace(0, 20)\n",
    "plt.plot(ts, [(aa < t).mean() for t in ts], label = r'${\\rm ReLU}(z)$')\n",
    "plt.plot(ts, [(bb < t).mean() for t in ts], label = r'$z^2$')\n",
    "plt.plot(ts, [(cc < t).mean() for t in ts], label = r'$\\exp(z)$')\n",
    "plt.legend()\n",
    "\n",
    "plt.xlabel(r'$t$')\n",
    "plt.ylabel(r'$\\text{Pr}\\left(\\Big|\\mathcal{L}(X) - \\mathcal{L}_\\text{MLC}(X)\\Big| < t\\right)$')\n",
    "plt.title(r'MLC Likelihood Ratios Absolute Differences')\n",
    "\n",
    "plt.savefig('plots/zenodo/mlc_threshold_plot.png', \n",
    "            dpi=300, \n",
    "            bbox_inches='tight')"
   ]
  },
  {
   "cell_type": "markdown",
   "id": "d3916ccb-334b-4f01-974e-0a98c41f9f1a",
   "metadata": {
    "tags": []
   },
   "source": [
    "## SQR"
   ]
  },
  {
   "cell_type": "code",
   "execution_count": 15,
   "id": "325de8ea-3b28-4caf-ba25-4418e633199c",
   "metadata": {},
   "outputs": [],
   "source": [
    "# Experiment parameters\n",
    "num = 0\n",
    "reps = 100\n",
    "\n",
    "# Model parameters\n",
    "params_1 = {'loss':sqr, 'd': 4, 'output': 'relu'}\n",
    "params_2 = {'loss':square_sqr, 'd': 4, 'output': 'linear'}\n",
    "params_3 = {'loss':exp_sqr, 'd': 4, 'output': 'linear'}\n",
    "\n",
    "filestr = 'models/zenodo/c_sqr/set_{}/'.format(num)\n",
    "filestr_1 = filestr + 'relu/model_{}.h5'\n",
    "filestr_2 = filestr + 'square/model_{}.h5'\n",
    "filestr_3 = filestr + 'exponential/model_{}.h5'\n",
    "\n",
    "# Data parameters\n",
    "N = 10**6\n",
    "X = np.load('data/zenodo/fold/X_trn.npy')[:N]\n",
    "y = np.load('data/zenodo/fold/y_trn.npy')[:N].astype('float32')\n",
    "data, m, s = split_data(X, y)"
   ]
  },
  {
   "cell_type": "code",
   "execution_count": null,
   "id": "f25da792-8da7-414f-9447-38c1e0e95acb",
   "metadata": {},
   "outputs": [
    {
     "name": "stderr",
     "output_type": "stream",
     "text": [
      "/tmp/ipykernel_8489/3780721232.py:4: RuntimeWarning: Mean of empty slice.\n",
      "  return abs_dif[abs_dif < 100].mean()\n",
      "/clusterfs/ml4hep/shahzar/miniconda/envs/multifold/lib/python3.10/site-packages/numpy/core/_methods.py:190: RuntimeWarning: invalid value encountered in divide\n",
      "  ret = ret.dtype.type(ret / rcount)\n"
     ]
    }
   ],
   "source": [
    "lrs_1 = [None] * reps\n",
    "lrs_2 = [None] * reps\n",
    "lrs_3 = [None] * reps\n",
    "\n",
    "for i in range(reps):\n",
    "    model_1 = create_model(**params_1)\n",
    "    model_2 = create_model(**params_2)\n",
    "    model_3 = create_model(**params_3)\n",
    "    \n",
    "    model_1.load_weights(filestr_1.format(i))\n",
    "    model_2.load_weights(filestr_2.format(i))\n",
    "    model_3.load_weights(filestr_3.format(i))\n",
    "    \n",
    "    lrs_1[i] = pure_lr(model_1, m, s)\n",
    "    lrs_2[i] = square_lr(model_2, m, s)\n",
    "    lrs_3[i] = exp_lr(model_3, m, s)\n",
    "\n",
    "# Calculate mean absolute errors\n",
    "maes_1 = [mae(lr) for lr in lrs_1]\n",
    "maes_2 = [mae(lr) for lr in lrs_2]\n",
    "maes_3 = [mae(lr) for lr in lrs_3]\n",
    "\n",
    "avg_1 = np.mean(maes_1)\n",
    "avg_2 = np.mean(maes_2, where = ~np.isnan(maes_2))\n",
    "avg_3 = np.mean(maes_3, where = ~np.isnan(maes_3))\n",
    "\n",
    "std_1 = np.std(maes_1, ddof = 1)\n",
    "std_2 = np.std(maes_2, ddof = 1, where = ~np.isnan(maes_2))\n",
    "std_3 = np.std(maes_3, ddof = 1)\n",
    "\n",
    "abs_dif_1 = np.array([abs(lr(X_mae) - lr_tst) for lr in lrs_1])\n",
    "abs_dif_2 = np.array([abs(lr(X_mae) - lr_tst) for lr in lrs_2])\n",
    "abs_dif_3 = np.array([abs(lr(X_mae) - lr_tst) for lr in lrs_3])\n",
    "\n",
    "# Save results\n",
    "np.save(filestr + 'maes_1.npy', maes_1)\n",
    "np.save(filestr + 'maes_2.npy', maes_2)\n",
    "np.save(filestr + 'maes_3.npy', maes_3)\n",
    "\n",
    "np.save(filestr + 'avg_1.npy', avg_1)\n",
    "np.save(filestr + 'avg_2.npy', avg_2)\n",
    "np.save(filestr + 'avg_3.npy', avg_3)\n",
    "\n",
    "np.save(filestr + 'std_1.npy', std_1)\n",
    "np.save(filestr + 'std_2.npy', std_2)\n",
    "np.save(filestr + 'std_3.npy', std_3)\n",
    "\n",
    "np.save(filestr + 'abs_dif_1.npy', abs_dif_1)\n",
    "np.save(filestr + 'abs_dif_2.npy', abs_dif_2)\n",
    "np.save(filestr + 'abs_dif_3.npy', abs_dif_3)\n",
    "\n",
    "print(avg_1, avg_2, avg_3)\n",
    "print(std_1, std_2, std_3)"
   ]
  },
  {
   "cell_type": "code",
   "execution_count": null,
   "id": "11228eb7-df60-420a-b5b7-ff817d5f1a9d",
   "metadata": {},
   "outputs": [],
   "source": [
    "abs_dif_3 = np.load(filestr + 'abs_dif_3.npy')\n",
    "(abs_dif_3 > 100).mean()"
   ]
  },
  {
   "cell_type": "code",
   "execution_count": null,
   "id": "4df040e3-10c3-4c7c-b5d6-1aecb060e0c4",
   "metadata": {},
   "outputs": [],
   "source": [
    "aa = abs_dif_1.flatten()\n",
    "bb = abs_dif_2.flatten()\n",
    "cc = abs_dif_3.flatten()\n",
    "\n",
    "ts = np.linspace(0, 20)\n",
    "plt.plot(ts, [(aa < t).mean() for t in ts], label = r'${\\rm ReLU}(z)$')\n",
    "plt.plot(ts, [(bb < t).mean() for t in ts], label = r'$z^2$')\n",
    "plt.plot(ts, [(cc < t).mean() for t in ts], label = r'$\\exp(z)$')\n",
    "plt.legend()\n",
    "\n",
    "plt.xlabel(r'$t$')\n",
    "plt.ylabel(r'$\\text{Pr}\\left(\\Big|\\mathcal{L}(X) - \\mathcal{L}_\\text{SQR}(X)\\Big| < t\\right)$')\n",
    "plt.title(r'SQR Likelihood Ratios Absolute Differences')\n",
    "\n",
    "plt.savefig('plots/zenodo/sqr_threshold_plot.png', \n",
    "            dpi=300, \n",
    "            bbox_inches='tight')"
   ]
  },
  {
   "cell_type": "markdown",
   "id": "6513c98b-f6d8-4634-95b5-2cf5858e14e1",
   "metadata": {
    "jp-MarkdownHeadingCollapsed": true,
    "tags": []
   },
   "source": [
    "## AB MSE"
   ]
  },
  {
   "cell_type": "code",
   "execution_count": null,
   "id": "db897521-4fe9-466f-aaf4-d2ad57dfb755",
   "metadata": {},
   "outputs": [],
   "source": [
    "# Experiment parameters\n",
    "num = 0\n",
    "reps = 20\n",
    "\n",
    "# File parameters\n",
    "filestr = 'models/zenodo/ab_mse/set_{}/'.format(num)\n",
    "mse_filestr = filestr + 'model_{}_{}.h5'\n",
    "\n",
    "# Data parameters\n",
    "N = 10**6\n",
    "X = np.load('data/zenodo/fold/X_trn.npy')[:N]\n",
    "y = np.load('data/zenodo/fold/y_trn.npy')[:N].astype('float32')\n",
    "data, m, s = split_data(X, y)\n",
    "\n",
    "ps = np.round(np.linspace(-2, 2, 101), 2)"
   ]
  },
  {
   "cell_type": "code",
   "execution_count": null,
   "id": "70170ff3-8086-4ecc-8280-f736213f1864",
   "metadata": {},
   "outputs": [],
   "source": [
    "# Get model likelihood ratios.\n",
    "avgs = []\n",
    "for p in ps:\n",
    "    print(p, end = '\\t')\n",
    "    lrs = [None] * reps\n",
    "    params = {'loss':get_mse(p), 'd': 4}\n",
    "    for i in range(reps):\n",
    "        model = create_model(**params)\n",
    "        model.load_weights(mse_filestr.format(p, i))\n",
    "        lrs[i] = pow_odds_lr(model, p, m, s)\n",
    "    \n",
    "    maes = [mae(lr) for lr in lrs]\n",
    "    avgs += [np.mean(maes)]\n",
    "\n",
    "avgs = np.array(avgs)"
   ]
  },
  {
   "cell_type": "code",
   "execution_count": null,
   "id": "0d7f842f-af6c-47b8-b91f-e9d31057046c",
   "metadata": {},
   "outputs": [],
   "source": [
    "# Save results\n",
    "np.save(filestr + 'avgs', avgs)"
   ]
  },
  {
   "cell_type": "code",
   "execution_count": null,
   "id": "2c06e29c-6b53-4824-99f6-58efc248e506",
   "metadata": {},
   "outputs": [],
   "source": [
    "avgs = np.load(filestr + 'avgs.npy')"
   ]
  },
  {
   "cell_type": "code",
   "execution_count": null,
   "id": "b1c60f67-b39d-4f2e-9562-8e52aef9aa2e",
   "metadata": {},
   "outputs": [],
   "source": [
    "w = 3.5\n",
    "h = 3.25              # Plots have dimension (w,h)\n",
    "\n",
    "plt.figure(figsize = (w, h))\n",
    "\n",
    "plt.plot(ps, avgs, c='blue', lw = 0.75)\n",
    "\n",
    "plt.minorticks_on()\n",
    "plt.tick_params(which = 'minor', length = 3)\n",
    "plt.tick_params(which = 'major', length = 5)\n",
    "plt.tick_params(which = 'both', direction='in')\n",
    "plt.ylabel('Mean Absolute Error')\n",
    "plt.xlabel(r'$p$')\n",
    "plt.ylim(0, 1.25)\n",
    "\n",
    "plt.title(r\"\\it $A/B$ Parametrization\",loc=\"right\");\n",
    "plt.savefig('plots/paper/ab_mse_zenodo.png', \n",
    "            dpi=300, \n",
    "            bbox_inches='tight')"
   ]
  },
  {
   "cell_type": "markdown",
   "id": "525c8a66-8e9b-4002-96ec-eedd2b1a4f93",
   "metadata": {
    "jp-MarkdownHeadingCollapsed": true,
    "tags": []
   },
   "source": [
    "## AB SQR"
   ]
  },
  {
   "cell_type": "code",
   "execution_count": null,
   "id": "fd334724-1f8b-436b-9e49-4503f5ceb345",
   "metadata": {},
   "outputs": [],
   "source": [
    "# Experiment parameters\n",
    "num = 0\n",
    "reps = 20\n",
    "\n",
    "# File parameters\n",
    "filestr = 'models/zenodo/ab_sqr/set_{}/'.format(num)\n",
    "lin_filestr = filestr + 'relu/model_{}_{}.h5'\n",
    "exp_filestr = filestr + 'exponential/model_{}_{}.h5'\n",
    "\n",
    "# Data parameters\n",
    "N = 10**6\n",
    "X = np.load('data/zenodo/fold/X_trn.npy')[:N]\n",
    "y = np.load('data/zenodo/fold/y_trn.npy')[:N].astype('float32')\n",
    "data, m, s = split_data(X, y)\n",
    "\n",
    "rs = np.sort(np.append(np.round(np.linspace(-2, 2, 81), 2),\n",
    "                       np.round(np.linspace(-0.05, 0.05, 26), 3)[1:-1]))"
   ]
  },
  {
   "cell_type": "code",
   "execution_count": null,
   "id": "6fb33fad-86c8-4532-b713-ddbbe3597496",
   "metadata": {},
   "outputs": [],
   "source": [
    "lin_avgs = []\n",
    "exp_avgs = []\n",
    "\n",
    "for r in rs:\n",
    "    print(r, end = '\\t')\n",
    "    lin_lrs = [None] * reps\n",
    "    exp_lrs = [None] * reps\n",
    "    lin_params = {'loss': get_sqr(r), 'd': 4, 'output':'relu'}\n",
    "    exp_params = {'loss': get_exp_sqr(r), 'd': 4, 'output':'linear'}\n",
    "    \n",
    "    for i in range(reps):\n",
    "        lin_model = create_model(**lin_params)\n",
    "        exp_model = create_model(**exp_params)\n",
    "        \n",
    "        lin_model.load_weights(lin_filestr.format(r, i))\n",
    "        exp_model.load_weights(exp_filestr.format(r, i))\n",
    "        \n",
    "        lin_lrs[i] = pow_lr(lin_model, r, m, s)\n",
    "        exp_lrs[i] = pow_exp_lr(exp_model, r, m, s)\n",
    "    \n",
    "    lin_maes = [mae(lr) for lr in lin_lrs]\n",
    "    exp_maes = [mae(lr) for lr in exp_lrs]\n",
    "    \n",
    "    lin_avgs += [np.mean(lin_maes)]\n",
    "    exp_avgs += [np.mean(exp_maes)]"
   ]
  },
  {
   "cell_type": "code",
   "execution_count": null,
   "id": "feb0b698-a0b7-4a15-a413-d4d10cea1406",
   "metadata": {},
   "outputs": [],
   "source": [
    "# Save results\n",
    "lin_avgs = np.array(lin_avgs)\n",
    "exp_avgs = np.array(exp_avgs)\n",
    "\n",
    "np.save(filestr + 'lin_avgs', lin_avgs)\n",
    "np.save(filestr + 'exp_avgs', exp_avgs)"
   ]
  },
  {
   "cell_type": "code",
   "execution_count": null,
   "id": "e569dab1-2a10-459c-a45b-9e678dd05123",
   "metadata": {},
   "outputs": [],
   "source": [
    "lin_avgs = np.load(filestr + 'lin_avgs.npy')\n",
    "exp_avgs = np.load(filestr + 'exp_avgs.npy')\n",
    "\n",
    "rs[lin_avgs == min(lin_avgs)], rs[exp_avgs == min(exp_avgs)]"
   ]
  },
  {
   "cell_type": "code",
   "execution_count": null,
   "id": "e45c9481-f9c4-4f30-8fc3-ee9bed466109",
   "metadata": {},
   "outputs": [],
   "source": [
    "w = 3.5\n",
    "h = 3.25              # Plots have dimension (w,h)\n",
    "\n",
    "plt.figure(figsize = (w, h))\n",
    "\n",
    "plt.plot(rs, lin_avgs, label=r'$\\text{ReLU}(z)$', c='blue', lw = 0.75)\n",
    "plt.plot(rs, exp_avgs, label=r'$\\exp{z}$', c='red', lw = 0.75)\n",
    "plt.legend()\n",
    "\n",
    "plt.minorticks_on()\n",
    "plt.tick_params(which = 'minor', length = 3)\n",
    "plt.tick_params(which = 'major', length = 5)\n",
    "plt.tick_params(which = 'both', direction='in')\n",
    "plt.ylabel('Mean Absolute Error')\n",
    "plt.xlabel(r'$r$')\n",
    "#plt.ylim(0, 0.16)\n",
    "\n",
    "plt.title(r\"\\it $A/B$ Parametrization\",loc=\"right\");\n",
    "plt.savefig('plots/paper/ab_sqr_zenodo.png', \n",
    "            dpi=300, \n",
    "            bbox_inches='tight')"
   ]
  },
  {
   "cell_type": "markdown",
   "id": "b05201fd-358d-49c6-b1ee-30c2ba2aa0c7",
   "metadata": {
    "jp-MarkdownHeadingCollapsed": true,
    "tags": []
   },
   "source": [
    "# Check NaNs"
   ]
  },
  {
   "cell_type": "markdown",
   "id": "ea1d5ce4-9b46-489e-91a3-e96f6187ed99",
   "metadata": {},
   "source": [
    "## BCE"
   ]
  },
  {
   "cell_type": "code",
   "execution_count": null,
   "id": "f9af71de-fc35-4d19-9fb9-ad743d7c8518",
   "metadata": {},
   "outputs": [],
   "source": [
    "# Experiment parameters\n",
    "num = 0\n",
    "filestr = 'models/zenodo/c_bce/set_{}/'.format(num)\n",
    "\n",
    "# Data parameters\n",
    "N = 10**6\n",
    "X = np.load('data/zenodo/fold/X_trn.npy')[:N]\n",
    "X_mae = np.load('data/zenodo/fold/' + 'X_tst.npy')\n",
    "abs_dif_1 = np.load(filestr + 'abs_dif_1.npy')"
   ]
  },
  {
   "cell_type": "code",
   "execution_count": null,
   "id": "ee90407e-2162-458b-a9b1-f01a08c92eaa",
   "metadata": {},
   "outputs": [],
   "source": [
    "bad = X_mae[np.any(abs_dif_1 > 100, axis = 0)]"
   ]
  },
  {
   "cell_type": "code",
   "execution_count": null,
   "id": "60d943b3-864c-4c6a-bc10-23c585bbf07f",
   "metadata": {},
   "outputs": [],
   "source": [
    "plt.scatter(X[:, 0], X[:, 1], alpha = 0.01, label = 'Flow')\n",
    "plt.scatter(bad[:, 0], bad[:, 1], alpha = 0.5, c = 'red', label = '> 100')\n",
    "plt.xlabel(r'$p_T$')\n",
    "plt.ylabel(r'$\\eta$')\n",
    "plt.title('Points with BCE MAE Exceeding 100', loc = 'left')\n",
    "\n",
    "plt.savefig('plots/zenodo/bce_pt_eta.png', \n",
    "            dpi=300, \n",
    "            bbox_inches='tight')"
   ]
  },
  {
   "cell_type": "code",
   "execution_count": null,
   "id": "2d1dee53-9387-452b-b27f-106341aba034",
   "metadata": {},
   "outputs": [],
   "source": [
    "plt.scatter(X[:, 0], X[:, 2], alpha = 0.01, label = 'Flow')\n",
    "plt.scatter(bad[:, 0], bad[:, 2], alpha = 0.5, c = 'red', label = '> 100')\n",
    "plt.xlabel(r'$p_T$')\n",
    "plt.ylabel(r'$\\phi$')\n",
    "plt.title('Points with BCE MAE Exceeding 100', loc = 'left')\n",
    "\n",
    "plt.savefig('plots/zenodo/bce_pt_phi.png', \n",
    "            dpi=300, \n",
    "            bbox_inches='tight')"
   ]
  },
  {
   "cell_type": "code",
   "execution_count": null,
   "id": "8ff07d96-d2f4-4e2e-93b8-9ef16d5da7d1",
   "metadata": {},
   "outputs": [],
   "source": [
    "plt.scatter(X[:, 0], X[:, 3], alpha = 0.01, label = 'Flow')\n",
    "plt.scatter(bad[:, 0], bad[:, 3], alpha = 0.5, c = 'red', label = '> 100')\n",
    "plt.xlabel(r'$p_T$')\n",
    "plt.ylabel(r'$m$')\n",
    "plt.title('Points with BCE MAE Exceeding 100', loc = 'left')\n",
    "\n",
    "plt.savefig('plots/zenodo/bce_pt_m.png', \n",
    "            dpi=300, \n",
    "            bbox_inches='tight')"
   ]
  },
  {
   "cell_type": "code",
   "execution_count": null,
   "id": "2a81afae-015a-42fd-b7db-cf592be876f3",
   "metadata": {},
   "outputs": [],
   "source": [
    "plt.scatter(X[:, 1], X[:, 2], alpha = 0.01, label = 'Flow')\n",
    "plt.scatter(bad[:, 1], bad[:, 2], alpha = 0.5, c = 'red', label = '> 100')\n",
    "plt.xlabel(r'$\\eta$')\n",
    "plt.ylabel(r'$\\phi$')\n",
    "plt.title('Points with BCE MAE Exceeding 100', loc = 'left')\n",
    "\n",
    "plt.savefig('plots/zenodo/bce_eta_phi.png', \n",
    "            dpi=300, \n",
    "            bbox_inches='tight')"
   ]
  },
  {
   "cell_type": "code",
   "execution_count": null,
   "id": "b497a3e3-043b-4167-a6d0-9d5dac12b5a0",
   "metadata": {},
   "outputs": [],
   "source": [
    "plt.scatter(X[:, 1], X[:, 3], alpha = 0.01, label = 'Flow')\n",
    "plt.scatter(bad[:, 1], bad[:, 3], alpha = 0.5, c = 'red', label = '> 100')\n",
    "plt.xlabel(r'$\\eta$')\n",
    "plt.ylabel(r'$m$')\n",
    "plt.title('Points with BCE MAE Exceeding 100', loc = 'left')\n",
    "\n",
    "plt.savefig('plots/zenodo/bce_eta_m.png', \n",
    "            dpi=300, \n",
    "            bbox_inches='tight')"
   ]
  },
  {
   "cell_type": "code",
   "execution_count": null,
   "id": "6686c6fd-32c4-4f2b-9390-1b727ee3c121",
   "metadata": {},
   "outputs": [],
   "source": [
    "plt.scatter(X[:, 2], X[:, 3], alpha = 0.01, label = 'Flow')\n",
    "plt.scatter(bad[:, 2], bad[:, 3], alpha = 0.5, c = 'red', label = '> 100')\n",
    "plt.xlabel(r'$\\phi$')\n",
    "plt.ylabel(r'$m$')\n",
    "plt.title('Points with BCE MAE Exceeding 100', loc = 'left')\n",
    "\n",
    "plt.savefig('plots/zenodo/bce_phi_m.png', \n",
    "            dpi=300, \n",
    "            bbox_inches='tight')"
   ]
  },
  {
   "cell_type": "markdown",
   "id": "ad273b1d-5357-4d7b-8dc5-b50929824343",
   "metadata": {},
   "source": [
    "## MLC"
   ]
  },
  {
   "cell_type": "code",
   "execution_count": null,
   "id": "44026c8a-71b0-4488-8d4a-b06c6d7eea51",
   "metadata": {},
   "outputs": [],
   "source": [
    "# Experiment parameters\n",
    "num = 0\n",
    "filestr = 'models/zenodo/c_mlc/set_{}/'.format(num)\n",
    "\n",
    "# Data parameters\n",
    "N = 10**6\n",
    "X = np.load('data/zenodo/fold/X_trn.npy')[:N]\n",
    "X_mae = np.load('data/zenodo/fold/' + 'X_tst.npy')\n",
    "abs_dif_1 = np.load(filestr + 'abs_dif_1.npy')"
   ]
  },
  {
   "cell_type": "code",
   "execution_count": null,
   "id": "03be085f-2b37-4797-907c-620ddbbcb4bf",
   "metadata": {},
   "outputs": [],
   "source": [
    "bad = X_mae[np.any(abs_dif_1 > 100, axis = 0)]"
   ]
  },
  {
   "cell_type": "code",
   "execution_count": null,
   "id": "6bc8430c-f0ab-45c7-8283-2d0510cd5033",
   "metadata": {},
   "outputs": [],
   "source": [
    "plt.scatter(X[:, 0], X[:, 1], alpha = 0.01, label = 'Flow')\n",
    "plt.scatter(bad[:, 0], bad[:, 1], alpha = 0.5, c = 'red', label = '> 100')\n",
    "plt.xlabel(r'$p_T$')\n",
    "plt.ylabel(r'$\\eta$')\n",
    "plt.title('Points with MLC MAE Exceeding 100', loc = 'left')\n",
    "\n",
    "plt.savefig('plots/zenodo/mlc_pt_eta.png', \n",
    "            dpi=300, \n",
    "            bbox_inches='tight')"
   ]
  },
  {
   "cell_type": "code",
   "execution_count": null,
   "id": "be6e6157-b536-461f-a19d-0d5306f1748e",
   "metadata": {},
   "outputs": [],
   "source": [
    "plt.scatter(X[:, 0], X[:, 2], alpha = 0.01, label = 'Flow')\n",
    "plt.scatter(bad[:, 0], bad[:, 2], alpha = 0.5, c = 'red', label = '> 100')\n",
    "plt.xlabel(r'$p_T$')\n",
    "plt.ylabel(r'$\\phi$')\n",
    "plt.title('Points with MLC MAE Exceeding 100', loc = 'left')\n",
    "\n",
    "plt.savefig('plots/zenodo/mlc_pt_phi.png', \n",
    "            dpi=300, \n",
    "            bbox_inches='tight')"
   ]
  },
  {
   "cell_type": "code",
   "execution_count": null,
   "id": "5bb7ebe8-2dbf-43e9-9bd1-c367faf68ef6",
   "metadata": {},
   "outputs": [],
   "source": [
    "plt.scatter(X[:, 0], X[:, 3], alpha = 0.01, label = 'Flow')\n",
    "plt.scatter(bad[:, 0], bad[:, 3], alpha = 0.5, c = 'red', label = '> 100')\n",
    "plt.xlabel(r'$p_T$')\n",
    "plt.ylabel(r'$m$')\n",
    "plt.title('Points with MLC MAE Exceeding 100', loc = 'left')\n",
    "\n",
    "plt.savefig('plots/zenodo/mlc_pt_m.png', \n",
    "            dpi=300, \n",
    "            bbox_inches='tight')"
   ]
  },
  {
   "cell_type": "code",
   "execution_count": null,
   "id": "0c74ad51-d805-41ac-a110-bf94221af0cb",
   "metadata": {},
   "outputs": [],
   "source": [
    "plt.scatter(X[:, 1], X[:, 2], alpha = 0.01, label = 'Flow')\n",
    "plt.scatter(bad[:, 1], bad[:, 2], alpha = 0.5, c = 'red', label = '> 100')\n",
    "plt.xlabel(r'$\\eta$')\n",
    "plt.ylabel(r'$\\phi$')\n",
    "plt.title('Points with MLC MAE Exceeding 100', loc = 'left')\n",
    "\n",
    "plt.savefig('plots/zenodo/mlc_eta_phi.png', \n",
    "            dpi=300, \n",
    "            bbox_inches='tight')"
   ]
  },
  {
   "cell_type": "code",
   "execution_count": null,
   "id": "6fbb9616-718b-4cfe-a62c-45cde511c764",
   "metadata": {},
   "outputs": [],
   "source": [
    "plt.scatter(X[:, 1], X[:, 3], alpha = 0.01, label = 'Flow')\n",
    "plt.scatter(bad[:, 1], bad[:, 3], alpha = 0.5, c = 'red', label = '> 100')\n",
    "plt.xlabel(r'$\\eta$')\n",
    "plt.ylabel(r'$m$')\n",
    "plt.title('Points with MLC MAE Exceeding 100', loc = 'left')\n",
    "\n",
    "plt.savefig('plots/zenodo/mlc_eta_m.png', \n",
    "            dpi=300, \n",
    "            bbox_inches='tight')"
   ]
  },
  {
   "cell_type": "code",
   "execution_count": null,
   "id": "ff94535c-d967-47fe-aefd-84daf0f920c2",
   "metadata": {},
   "outputs": [],
   "source": [
    "plt.scatter(X[:, 2], X[:, 3], alpha = 0.01, label = 'Flow')\n",
    "plt.scatter(bad[:, 2], bad[:, 3], alpha = 0.5, c = 'red', label = '> 100')\n",
    "plt.xlabel(r'$\\phi$')\n",
    "plt.ylabel(r'$m$')\n",
    "plt.title('Points with MLC MAE Exceeding 100', loc = 'left')\n",
    "\n",
    "plt.savefig('plots/zenodo/mlc_phi_m.png', \n",
    "            dpi=300, \n",
    "            bbox_inches='tight')"
   ]
  },
  {
   "cell_type": "markdown",
   "id": "bad3fa74-f2c8-4ab3-b981-fc8bce934a40",
   "metadata": {
    "tags": []
   },
   "source": [
    "# Random Slice"
   ]
  },
  {
   "cell_type": "code",
   "execution_count": null,
   "id": "1e9f7a90-42a9-4a12-b1de-a95dacdf49e3",
   "metadata": {},
   "outputs": [],
   "source": [
    "X = np.load('data/zenodo/fold/X_trn.npy')\n",
    "y = np.load('data/zenodo/fold/y_trn.npy')"
   ]
  },
  {
   "cell_type": "code",
   "execution_count": null,
   "id": "e0f2b0ba-de43-4510-a480-3ce3e82cd64d",
   "metadata": {},
   "outputs": [],
   "source": [
    "stats.mode(X)"
   ]
  },
  {
   "cell_type": "code",
   "execution_count": null,
   "id": "e891d375-58ae-409d-8abc-dd0f33ad9d3b",
   "metadata": {},
   "outputs": [],
   "source": [
    "mode_pT = 218\n",
    "mode_eta = 0\n",
    "mode_phi = 4.4\n",
    "mode_m = 22"
   ]
  },
  {
   "cell_type": "markdown",
   "id": "d004f2bf-031e-4447-8877-01688258cd1d",
   "metadata": {
    "tags": []
   },
   "source": [
    "## $\\phi$ Scan"
   ]
  },
  {
   "cell_type": "code",
   "execution_count": null,
   "id": "709685a5-1369-4cd4-83aa-47df5d23d452",
   "metadata": {},
   "outputs": [],
   "source": [
    "# Get a one-dimensional slice of test points.\n",
    "phis = np.linspace(0, 2*pi, 1201).reshape(-1, 1)\n",
    "pTs = np.repeat(mode_pT, len(phis)).reshape(-1, 1)\n",
    "etas = np.repeat(mode_eta, len(phis)).reshape(-1, 1)\n",
    "ms = np.repeat(mode_m, len(phis)).reshape(-1, 1)\n",
    "\n",
    "xs = np.hstack([pTs, etas, phis, ms])\n",
    "\n",
    "lr_true = lr(xs)"
   ]
  },
  {
   "cell_type": "code",
   "execution_count": null,
   "id": "d97e6387-b9fc-4428-a175-985aa9c1d4c4",
   "metadata": {},
   "outputs": [],
   "source": [
    "plt.plot(phis, lr_true)"
   ]
  },
  {
   "cell_type": "markdown",
   "id": "609ce1cc-c789-45e6-814f-627705a99ac9",
   "metadata": {
    "tags": []
   },
   "source": [
    "### BCE"
   ]
  },
  {
   "cell_type": "code",
   "execution_count": null,
   "id": "26b154b4-2fce-40b1-9085-bc3e946310b7",
   "metadata": {},
   "outputs": [],
   "source": [
    "# Experiment parameters\n",
    "num = 0\n",
    "reps = 100\n",
    "\n",
    "# Model parameters\n",
    "params_1 = {'loss':bce, 'd':4}\n",
    "params_2 = {'loss':tanh_bce, 'd':4, 'output': 'linear'}\n",
    "params_3 = {'loss':arctan_bce, 'd':4,  'output': 'linear'}\n",
    "\n",
    "filestr = 'models/zenodo/c_bce/set_{}/'.format(num)\n",
    "filestr_1 = filestr + 'sigmoid/model_{}.h5'\n",
    "filestr_2 = filestr + 'tanh/model_{}.h5'\n",
    "filestr_3 = filestr + 'arctan/model_{}.h5'\n",
    "\n",
    "# Data parameters\n",
    "N = 10**6\n",
    "X = np.load('data/zenodo/fold/X_trn.npy')[:N]\n",
    "y = np.load('data/zenodo/fold/y_trn.npy')[:N].astype('float32')\n",
    "data, m, s = split_data(X, y)"
   ]
  },
  {
   "cell_type": "code",
   "execution_count": null,
   "id": "09c98be5-e08e-4820-8118-9cbe11f2937d",
   "metadata": {},
   "outputs": [],
   "source": [
    "lrs_1 = [None] * reps\n",
    "lrs_2 = [None] * reps\n",
    "lrs_3 = [None] * reps\n",
    "\n",
    "for i in range(reps):\n",
    "    print(i, end = ' ')\n",
    "    model_1 = create_model(**params_1)\n",
    "    model_2 = create_model(**params_2)\n",
    "    model_3 = create_model(**params_3)\n",
    "    \n",
    "    model_1.load_weights(filestr_1.format(i))\n",
    "    model_2.load_weights(filestr_2.format(i))\n",
    "    model_3.load_weights(filestr_3.format(i))\n",
    "    \n",
    "    lrs_1[i] = odds_lr(model_1, m, s)\n",
    "    lrs_2[i] = tanh_lr(model_2, m, s)\n",
    "    lrs_3[i] = arctan_lr(model_3, m, s)"
   ]
  },
  {
   "cell_type": "code",
   "execution_count": null,
   "id": "f67aeaa4-d858-4caa-b8d6-7990bc68c074",
   "metadata": {},
   "outputs": [],
   "source": [
    "# Calculate predictions\n",
    "preds_1 = get_preds(lrs_1, xs)\n",
    "preds_2 = get_preds(lrs_2, xs)\n",
    "preds_3 = get_preds(lrs_3, xs)\n",
    "\n",
    "# Save results\n",
    "np.save(filestr + 'xs.npy', xs)\n",
    "np.save(filestr + 'preds_1.npy', preds_1)\n",
    "np.save(filestr + 'preds_2.npy', preds_2)\n",
    "np.save(filestr + 'preds_3.npy', preds_3)"
   ]
  },
  {
   "cell_type": "code",
   "execution_count": null,
   "id": "4a9c1d8d-466b-4714-9eb2-1b56d3044739",
   "metadata": {},
   "outputs": [],
   "source": [
    "w = 3.5\n",
    "h = 3.25\n",
    "ensembles = [preds_1, preds_2, preds_3]\n",
    "labels = [r'$\\sigma(z)$', r'$\\frac{1}{2}\\left(\\tanh{z} + 1\\right)$', r'$\\frac{1}{\\pi}\\left(\\arctan{z} + \\frac{\\pi}{2}\\right)$']\n",
    "y_lim = (0, 3)\n",
    "title = '\\it BCE Zenodo Models'\n",
    "filename = 'plots/zenodo/bce_phi.png'"
   ]
  },
  {
   "cell_type": "code",
   "execution_count": null,
   "id": "ac075fe2-34bc-40fc-aa1d-e642b4221ea8",
   "metadata": {},
   "outputs": [],
   "source": [
    "fig, axs = plt.subplots(2, 1,\n",
    "                        figsize = (w, h),\n",
    "                        sharex = True, \n",
    "                        gridspec_kw = {'height_ratios': [2, 1]})\n",
    "\n",
    "if title:\n",
    "    axs[0].set_title(title, loc = 'right')\n",
    "# Plot likelihood ratios\n",
    "axs[0].plot(phis, lr_true, label = 'Exact', c = 'k', lw = 0.75)\n",
    "\n",
    "for i in range(n):\n",
    "    axs[0].plot(phis, \n",
    "                lrs[i], \n",
    "                label = labels[i],\n",
    "                c = cs[i % len(cs)], \n",
    "                ls = lss[i % len(lss)],\n",
    "                lw = 0.75)\n",
    "\n",
    "axs[0].set_xlim(phis[0], phis[-1])\n",
    "if y_lim:\n",
    "    axs[0].set_ylim(y_lim[0], y_lim[1])\n",
    "axs[0].legend()\n",
    "axs[0].minorticks_on()\n",
    "axs[0].tick_params(which = 'minor', length = 3)\n",
    "axs[0].tick_params(which = 'major', length = 5)\n",
    "axs[0].tick_params(which = 'both', direction='in')\n",
    "axs[0].set_ylabel('$\\mathcal{L}(x)$')\n",
    "\n",
    "# Plot likelihood ratio ratios\n",
    "for i in range(n):\n",
    "    axs[1].plot(phis, \n",
    "                lrrs[i],\n",
    "                c = cs[i % len(cs)],\n",
    "                ls = lss[i % len(lss)],\n",
    "                lw = 0.75)\n",
    "\n",
    "axs[1].axhline(1,ls=\":\",color=\"grey\", lw=0.5)\n",
    "axs[1].axvline(0,ls=\":\",color=\"grey\", lw=0.5)\n",
    "axs[1].set_ylim(0.95, 1.05);\n",
    "axs[1].minorticks_on()\n",
    "axs[1].tick_params(which = 'minor', length = 3)\n",
    "axs[1].tick_params(which = 'major', length = 5)\n",
    "axs[1].tick_params(which = 'both', direction='in')\n",
    "axs[1].set_ylabel('Ratio')\n",
    "\n",
    "plt.subplots_adjust(hspace = 0.1)\n",
    "plt.xlabel(r'$\\phi$')\n",
    "\n",
    "if filename:\n",
    "    plt.savefig(filename, \n",
    "                dpi = 300,\n",
    "                transparent = True,\n",
    "                bbox_inches = 'tight')"
   ]
  },
  {
   "cell_type": "markdown",
   "id": "72374ad5-e6b3-4134-988b-582feeb5f62d",
   "metadata": {
    "jp-MarkdownHeadingCollapsed": true,
    "tags": []
   },
   "source": [
    "### MSE"
   ]
  },
  {
   "cell_type": "code",
   "execution_count": null,
   "id": "da7a3fc7-920c-4b07-9a9a-169a0af798ef",
   "metadata": {},
   "outputs": [],
   "source": [
    "# Experiment parameters\n",
    "num = 0\n",
    "reps = 100\n",
    "\n",
    "# Model parameters\n",
    "params_1 = {'loss':mse, 'd':4}\n",
    "params_2 = {'loss':tanh_mse, 'd':4, 'output': 'linear'}\n",
    "params_3 = {'loss':arctan_mse, 'd':4,  'output': 'linear'}\n",
    "\n",
    "filestr = 'models/zenodo/c_mse/set_{}/'.format(num)\n",
    "filestr_1 = filestr + 'sigmoid/model_{}.h5'\n",
    "filestr_2 = filestr + 'tanh/model_{}.h5'\n",
    "filestr_3 = filestr + 'arctan/model_{}.h5'\n",
    "\n",
    "# Data parameters\n",
    "N = 10**6\n",
    "X = np.load('data/zenodo/fold/X_trn.npy')[:N]\n",
    "y = np.load('data/zenodo/fold/y_trn.npy')[:N].astype('float32')\n",
    "data, m, s = split_data(X, y)"
   ]
  },
  {
   "cell_type": "code",
   "execution_count": null,
   "id": "93a5229b-fa43-4307-b500-f906963c17ba",
   "metadata": {},
   "outputs": [],
   "source": [
    "lrs_1 = [None] * reps\n",
    "lrs_2 = [None] * reps\n",
    "lrs_3 = [None] * reps\n",
    "\n",
    "for i in range(reps):\n",
    "    print(i, end = ' ')\n",
    "    model_1 = create_model(**params_1)\n",
    "    model_2 = create_model(**params_2)\n",
    "    model_3 = create_model(**params_3)\n",
    "    \n",
    "    model_1.load_weights(filestr_1.format(i))\n",
    "    model_2.load_weights(filestr_2.format(i))\n",
    "    model_3.load_weights(filestr_3.format(i))\n",
    "    \n",
    "    lrs_1[i] = odds_lr(model_1, m, s)\n",
    "    lrs_2[i] = tanh_lr(model_2, m, s)\n",
    "    lrs_3[i] = arctan_lr(model_3, m, s)"
   ]
  },
  {
   "cell_type": "code",
   "execution_count": null,
   "id": "cb19ca95-91c7-4cc3-9434-63049c50ba96",
   "metadata": {},
   "outputs": [],
   "source": [
    "# Calculate predictions\n",
    "preds_1 = get_preds(lrs_1, xs)\n",
    "preds_2 = get_preds(lrs_2, xs)\n",
    "preds_3 = get_preds(lrs_3, xs)\n",
    "\n",
    "# Save results\n",
    "np.save(filestr + 'xs.npy', xs)\n",
    "np.save(filestr + 'preds_1.npy', preds_1)\n",
    "np.save(filestr + 'preds_2.npy', preds_2)\n",
    "np.save(filestr + 'preds_3.npy', preds_3)"
   ]
  },
  {
   "cell_type": "code",
   "execution_count": null,
   "id": "45fa78cb-46e5-4cc2-89ab-c83f95f11448",
   "metadata": {},
   "outputs": [],
   "source": [
    "w = 3.5\n",
    "h = 3.25\n",
    "ensembles = [preds_1, preds_2, preds_3]\n",
    "labels = [r'$\\sigma(z)$', r'$\\frac{1}{2}\\left(\\tanh{z} + 1\\right)$', r'$\\frac{1}{\\pi}\\left(\\arctan{z} + \\frac{\\pi}{2}\\right)$']\n",
    "y_lim = (0, 3)\n",
    "title = '\\it MSE Zenodo Models'\n",
    "filename = 'plots/zenodo/mse_phi.png'"
   ]
  },
  {
   "cell_type": "code",
   "execution_count": null,
   "id": "605dc22d-0441-46b7-982e-52708f597211",
   "metadata": {},
   "outputs": [],
   "source": [
    "fig, axs = plt.subplots(2, 1,\n",
    "                        figsize = (w, h),\n",
    "                        sharex = True, \n",
    "                        gridspec_kw = {'height_ratios': [2, 1]})\n",
    "\n",
    "# Plot likelihood ratios\n",
    "axs[0].plot(phis, lr_true, label = 'Exact', c = 'k', lw = 0.75)\n",
    "\n",
    "n = len(ensembles)\n",
    "\n",
    "lrs = [None] * n\n",
    "lrrs = [None] * n\n",
    "for i in range(n):\n",
    "    lrs[i] = avg_lr(ensembles[i])\n",
    "    lrrs[i] = avg_lrr(lr, ensembles[i], xs)\n",
    "\n",
    "for i in range(n):\n",
    "    axs[0].plot(phis, \n",
    "                lrs[i], \n",
    "                label = labels[i],\n",
    "                c = cs[i % len(cs)], \n",
    "                ls = lss[i % len(lss)],\n",
    "                lw = 0.75)\n",
    "\n",
    "axs[0].set_xlim(phis[0], phis[-1])\n",
    "if y_lim:\n",
    "    axs[0].set_ylim(y_lim[0], y_lim[1])\n",
    "axs[0].legend()\n",
    "axs[0].minorticks_on()\n",
    "axs[0].tick_params(which = 'minor', length = 3)\n",
    "axs[0].tick_params(which = 'major', length = 5)\n",
    "axs[0].tick_params(which = 'both', direction='in')\n",
    "axs[0].set_ylabel('$\\mathcal{L}(x)$')\n",
    "\n",
    "# Plot likelihood ratio ratios\n",
    "for i in range(n):\n",
    "    axs[1].plot(phis, \n",
    "                lrrs[i],\n",
    "                c = cs[i % len(cs)],\n",
    "                ls = lss[i % len(lss)],\n",
    "                lw = 0.75)\n",
    "\n",
    "axs[1].axhline(1,ls=\":\",color=\"grey\", lw=0.5)\n",
    "axs[1].axvline(0,ls=\":\",color=\"grey\", lw=0.5)\n",
    "axs[1].set_ylim(0.95, 1.05);\n",
    "axs[1].minorticks_on()\n",
    "axs[1].tick_params(which = 'minor', length = 3)\n",
    "axs[1].tick_params(which = 'major', length = 5)\n",
    "axs[1].tick_params(which = 'both', direction='in')\n",
    "axs[1].set_ylabel('Ratio')\n",
    "\n",
    "plt.subplots_adjust(hspace = 0.1)\n",
    "plt.xlabel(r'$\\phi$')\n",
    "\n",
    "if title:\n",
    "    axs[0].set_title(title, loc = 'right')\n",
    "\n",
    "if filename:\n",
    "    plt.savefig(filename, \n",
    "                dpi = 300,\n",
    "                transparent = True,\n",
    "                bbox_inches = 'tight')"
   ]
  },
  {
   "cell_type": "markdown",
   "id": "c11ddc6d-bb1d-4d7d-8f39-92be3a67d3e9",
   "metadata": {
    "jp-MarkdownHeadingCollapsed": true,
    "tags": []
   },
   "source": [
    "### MLC"
   ]
  },
  {
   "cell_type": "code",
   "execution_count": null,
   "id": "e65e67df-8bc7-4054-a6d4-36a1284ed4cb",
   "metadata": {},
   "outputs": [],
   "source": [
    "# Experiment parameters\n",
    "num = 0\n",
    "reps = 100\n",
    "\n",
    "# Model parameters\n",
    "params_1 = {'loss':mlc, 'd': 4, 'output': 'relu'}\n",
    "params_2 = {'loss':square_mlc, 'd': 4, 'output': 'linear'}\n",
    "params_3 = {'loss':exp_mlc, 'd': 4, 'output': 'linear'}\n",
    "\n",
    "filestr = 'models/zenodo/c_mlc/set_{}/'.format(num)\n",
    "filestr_1 = filestr + 'relu/model_{}.h5'\n",
    "filestr_2 = filestr + 'square/model_{}.h5'\n",
    "filestr_3 = filestr + 'exponential/model_{}.h5'\n",
    "\n",
    "# Data parameters\n",
    "N = 10**6\n",
    "X = np.load('data/zenodo/fold/X_trn.npy')[:N]\n",
    "y = np.load('data/zenodo/fold/y_trn.npy')[:N].astype('float32')\n",
    "data, m, s = split_data(X, y)"
   ]
  },
  {
   "cell_type": "code",
   "execution_count": null,
   "id": "874a2d69-0374-4cf5-bef0-14fdfc160ddd",
   "metadata": {},
   "outputs": [],
   "source": [
    "lrs_1 = [None] * reps\n",
    "lrs_2 = [None] * reps\n",
    "lrs_3 = [None] * reps\n",
    "\n",
    "for i in range(reps):\n",
    "    print(i, end = ' ')\n",
    "    model_1 = create_model(**params_1)\n",
    "    model_2 = create_model(**params_2)\n",
    "    model_3 = create_model(**params_3)\n",
    "    \n",
    "    model_1.load_weights(filestr_1.format(i))\n",
    "    model_2.load_weights(filestr_2.format(i))\n",
    "    model_3.load_weights(filestr_3.format(i))\n",
    "    \n",
    "    lrs_1[i] = odds_lr(model_1, m, s)\n",
    "    lrs_2[i] = tanh_lr(model_2, m, s)\n",
    "    lrs_3[i] = arctan_lr(model_3, m, s)"
   ]
  },
  {
   "cell_type": "code",
   "execution_count": null,
   "id": "77414f17-6c84-45c9-9b7d-e1e1af2aea48",
   "metadata": {},
   "outputs": [],
   "source": [
    "# Calculate predictions\n",
    "preds_1 = get_preds(lrs_1, xs)\n",
    "preds_2 = get_preds(lrs_2, xs)\n",
    "preds_3 = get_preds(lrs_3, xs)\n",
    "\n",
    "# Save results\n",
    "np.save(filestr + 'xs.npy', xs)\n",
    "np.save(filestr + 'preds_1.npy', preds_1)\n",
    "np.save(filestr + 'preds_2.npy', preds_2)\n",
    "np.save(filestr + 'preds_3.npy', preds_3)"
   ]
  },
  {
   "cell_type": "markdown",
   "id": "f5ed180b-fe10-4050-a8f7-725ee1b0249e",
   "metadata": {},
   "source": [
    "#### Plot"
   ]
  },
  {
   "cell_type": "code",
   "execution_count": null,
   "id": "4b7b4e29-b26b-484e-9299-035c8cb684a4",
   "metadata": {},
   "outputs": [],
   "source": [
    "xs = np.load(filestr + 'xs.npy')\n",
    "preds_1 = np.load(filestr + 'preds_1.npy')\n",
    "preds_2 = np.load(filestr + 'preds_2.npy')\n",
    "preds_3 = np.load(filestr + 'preds_3.npy')"
   ]
  },
  {
   "cell_type": "code",
   "execution_count": null,
   "id": "87db8822-5b81-417c-88c8-9785a10f28f7",
   "metadata": {},
   "outputs": [],
   "source": [
    "n = len(ensembles)\n",
    "\n",
    "lrs = [None] * n\n",
    "lrrs = [None] * n\n",
    "for i in range(n):\n",
    "    lrs[i] = avg_lr(ensembles[i])\n",
    "    lrrs[i] = avg_lrr(lr, ensembles[i], xs)"
   ]
  },
  {
   "cell_type": "code",
   "execution_count": null,
   "id": "8f0ed6a9-0886-4c45-aee8-6b9b1ff4499f",
   "metadata": {},
   "outputs": [],
   "source": [
    "w = 3.5\n",
    "h = 3.25\n",
    "ensembles = [preds_1, preds_2, preds_3]\n",
    "labels = [r'$\\text{ReLU}(z)$', r'$z^2$', r'$\\exp{z}$']\n",
    "y_lim = (-10, 5)\n",
    "title = '\\it MLC Zenodo Models'\n",
    "filename = 'plots/zenodo/mlc_phi_2.png'"
   ]
  },
  {
   "cell_type": "code",
   "execution_count": null,
   "id": "7fd20135-2431-49a5-9a36-a59253d599e6",
   "metadata": {},
   "outputs": [],
   "source": [
    "fig, axs = plt.subplots(2, 1,\n",
    "                        figsize = (w, h),\n",
    "                        sharex = True, \n",
    "                        gridspec_kw = {'height_ratios': [2, 1]})\n",
    "\n",
    "# Plot likelihood ratios\n",
    "axs[0].plot(phis, lr_true, label = 'Exact', c = 'k', lw = 0.75)\n",
    "\n",
    "for i in range(n):\n",
    "    axs[0].plot(phis, \n",
    "                lrs[i], \n",
    "                label = labels[i],\n",
    "                c = cs[i % len(cs)], \n",
    "                ls = lss[i % len(lss)],\n",
    "                lw = 0.75)\n",
    "\n",
    "axs[0].set_xlim(0, 2*np.pi)\n",
    "if y_lim:\n",
    "    axs[0].set_ylim(y_lim[0], y_lim[1])\n",
    "axs[0].legend()\n",
    "axs[0].minorticks_on()\n",
    "axs[0].tick_params(which = 'minor', length = 3)\n",
    "axs[0].tick_params(which = 'major', length = 5)\n",
    "axs[0].tick_params(which = 'both', direction='in')\n",
    "axs[0].set_ylabel('$\\mathcal{L}(x)$')\n",
    "\n",
    "# Plot likelihood ratio ratios\n",
    "for i in range(n):\n",
    "    axs[1].plot(phis, \n",
    "                lrrs[i],\n",
    "                c = cs[i % len(cs)],\n",
    "                ls = lss[i % len(lss)],\n",
    "                lw = 0.75)\n",
    "\n",
    "axs[1].axhline(1,ls=\":\",color=\"grey\", lw=0.5)\n",
    "axs[1].axvline(0,ls=\":\",color=\"grey\", lw=0.5)\n",
    "axs[1].set_ylim(0.95, 1.05);\n",
    "axs[1].minorticks_on()\n",
    "axs[1].tick_params(which = 'minor', length = 3)\n",
    "axs[1].tick_params(which = 'major', length = 5)\n",
    "axs[1].tick_params(which = 'both', direction='in')\n",
    "axs[1].set_ylabel('Ratio')\n",
    "\n",
    "plt.subplots_adjust(hspace = 0.1)\n",
    "plt.xlabel(r'$\\phi$')\n",
    "\n",
    "if title:\n",
    "    axs[0].set_title(title, loc = 'right')\n",
    "\n",
    "if filename:\n",
    "    plt.savefig(filename, \n",
    "                dpi = 300,\n",
    "                transparent = True,\n",
    "                bbox_inches = 'tight')"
   ]
  },
  {
   "cell_type": "markdown",
   "id": "0abcfbf0-4a56-4f97-927a-cf8bab390fb7",
   "metadata": {
    "jp-MarkdownHeadingCollapsed": true,
    "tags": []
   },
   "source": [
    "### SQR"
   ]
  },
  {
   "cell_type": "code",
   "execution_count": null,
   "id": "29a905c0-1e6d-4d9b-b505-fa305371806e",
   "metadata": {},
   "outputs": [],
   "source": [
    "# Experiment parameters\n",
    "num = 0\n",
    "reps = 100\n",
    "\n",
    "# Model parameters\n",
    "params_1 = {'loss':sqr, 'd': 4, 'output': 'relu'}\n",
    "params_2 = {'loss':square_sqr, 'd': 4, 'output': 'linear'}\n",
    "params_3 = {'loss':exp_sqr, 'd': 4, 'output': 'linear'}\n",
    "\n",
    "filestr = 'models/zenodo/c_sqr/set_{}/'.format(num)\n",
    "filestr_1 = filestr + 'relu/model_{}.h5'\n",
    "filestr_2 = filestr + 'square/model_{}.h5'\n",
    "filestr_3 = filestr + 'exponential/model_{}.h5'\n",
    "\n",
    "# Data parameters\n",
    "N = 10**6\n",
    "X = np.load('data/zenodo/fold/X_trn.npy')[:N]\n",
    "y = np.load('data/zenodo/fold/y_trn.npy')[:N].astype('float32')\n",
    "data, m, s = split_data(X, y)"
   ]
  },
  {
   "cell_type": "code",
   "execution_count": null,
   "id": "20af1b23-269c-4a0b-b2e9-8a4f74601c83",
   "metadata": {},
   "outputs": [],
   "source": [
    "lrs_1 = [None] * reps\n",
    "lrs_2 = [None] * reps\n",
    "lrs_3 = [None] * reps\n",
    "\n",
    "for i in range(reps):\n",
    "    print(i, end = ' ')\n",
    "    model_1 = create_model(**params_1)\n",
    "    model_2 = create_model(**params_2)\n",
    "    model_3 = create_model(**params_3)\n",
    "    \n",
    "    model_1.load_weights(filestr_1.format(i))\n",
    "    model_2.load_weights(filestr_2.format(i))\n",
    "    model_3.load_weights(filestr_3.format(i))\n",
    "    \n",
    "    lrs_1[i] = odds_lr(model_1, m, s)\n",
    "    lrs_2[i] = tanh_lr(model_2, m, s)\n",
    "    lrs_3[i] = arctan_lr(model_3, m, s)"
   ]
  },
  {
   "cell_type": "code",
   "execution_count": null,
   "id": "652f8929-3b1a-4f1f-9da4-6fb6458c3f7d",
   "metadata": {},
   "outputs": [],
   "source": [
    "# Calculate predictions\n",
    "preds_1 = get_preds(lrs_1, xs)\n",
    "preds_2 = get_preds(lrs_2, xs)\n",
    "preds_3 = get_preds(lrs_3, xs)\n",
    "\n",
    "# Save results\n",
    "np.save(filestr + 'xs.npy', xs)\n",
    "np.save(filestr + 'preds_1.npy', preds_1)\n",
    "np.save(filestr + 'preds_2.npy', preds_2)\n",
    "np.save(filestr + 'preds_3.npy', preds_3)"
   ]
  },
  {
   "cell_type": "markdown",
   "id": "f2756db8-ba32-49f3-96ba-4b010712dbcf",
   "metadata": {
    "jp-MarkdownHeadingCollapsed": true,
    "tags": []
   },
   "source": [
    "#### Plot"
   ]
  },
  {
   "cell_type": "code",
   "execution_count": null,
   "id": "bfc5662f-f44d-4abb-a83c-98bdd909fe75",
   "metadata": {},
   "outputs": [],
   "source": [
    "xs = np.load(filestr + 'xs.npy')\n",
    "preds_1 = np.load(filestr + 'preds_1.npy')\n",
    "preds_2 = np.load(filestr + 'preds_2.npy')\n",
    "preds_3 = np.load(filestr + 'preds_3.npy')"
   ]
  },
  {
   "cell_type": "code",
   "execution_count": null,
   "id": "08bbcfb5-2044-439d-9a65-2e0532953e1f",
   "metadata": {},
   "outputs": [],
   "source": [
    "n = len(ensembles)\n",
    "\n",
    "lrs = [None] * n\n",
    "lrrs = [None] * n\n",
    "for i in range(n):\n",
    "    lrs[i] = avg_lr(ensembles[i])\n",
    "    lrrs[i] = avg_lrr(lr, ensembles[i], xs)"
   ]
  },
  {
   "cell_type": "code",
   "execution_count": null,
   "id": "4ff34f51-d815-49d8-843c-2b41489e93b4",
   "metadata": {},
   "outputs": [],
   "source": [
    "w = 3.5\n",
    "h = 3.25\n",
    "ensembles = [preds_1, preds_2, preds_3]\n",
    "labels = [r'$\\text{ReLU}(z)$', r'$z^2$', r'$\\exp{z}$']\n",
    "y_lim = (0, 3)\n",
    "title = '\\it SQR Zenodo Models'\n",
    "filename = 'plots/zenodo/sqr_phi.png'"
   ]
  },
  {
   "cell_type": "code",
   "execution_count": null,
   "id": "dd3ef329-de19-4bf3-a108-0aa6371bef97",
   "metadata": {},
   "outputs": [],
   "source": [
    "fig, axs = plt.subplots(2, 1,\n",
    "                        figsize = (w, h),\n",
    "                        sharex = True, \n",
    "                        gridspec_kw = {'height_ratios': [2, 1]})\n",
    "\n",
    "# Plot likelihood ratios\n",
    "axs[0].plot(phis, lr_true, label = 'Exact', c = 'k', lw = 0.75)\n",
    "\n",
    "for i in range(n):\n",
    "    axs[0].plot(phis, \n",
    "                lrs[i], \n",
    "                label = labels[i],\n",
    "                c = cs[i % len(cs)], \n",
    "                ls = lss[i % len(lss)],\n",
    "                lw = 0.75)\n",
    "\n",
    "axs[0].set_xlim(phis[0], phis[-1])\n",
    "if y_lim:\n",
    "    axs[0].set_ylim(y_lim[0], y_lim[1])\n",
    "axs[0].legend()\n",
    "axs[0].minorticks_on()\n",
    "axs[0].tick_params(which = 'minor', length = 3)\n",
    "axs[0].tick_params(which = 'major', length = 5)\n",
    "axs[0].tick_params(which = 'both', direction='in')\n",
    "axs[0].set_ylabel('$\\mathcal{L}(x)$')\n",
    "\n",
    "# Plot likelihood ratio ratios\n",
    "for i in range(n):\n",
    "    axs[1].plot(phis, \n",
    "                lrrs[i],\n",
    "                c = cs[i % len(cs)],\n",
    "                ls = lss[i % len(lss)],\n",
    "                lw = 0.75)\n",
    "\n",
    "axs[1].axhline(1,ls=\":\",color=\"grey\", lw=0.5)\n",
    "axs[1].axvline(0,ls=\":\",color=\"grey\", lw=0.5)\n",
    "axs[1].set_ylim(0.95, 1.05);\n",
    "axs[1].minorticks_on()\n",
    "axs[1].tick_params(which = 'minor', length = 3)\n",
    "axs[1].tick_params(which = 'major', length = 5)\n",
    "axs[1].tick_params(which = 'both', direction='in')\n",
    "axs[1].set_ylabel('Ratio')\n",
    "\n",
    "plt.subplots_adjust(hspace = 0.1)\n",
    "plt.xlabel(r'$p_T$')\n",
    "\n",
    "if title:\n",
    "    axs[0].set_title(title, loc = 'right')\n",
    "\n",
    "if filename:\n",
    "    plt.savefig(filename, \n",
    "                dpi = 300,\n",
    "                transparent = True,\n",
    "                bbox_inches = 'tight')"
   ]
  },
  {
   "cell_type": "markdown",
   "id": "2e8adfaa-0051-44f5-9d85-eea7e03ac61b",
   "metadata": {
    "tags": []
   },
   "source": [
    "## $p_T$ Scan"
   ]
  },
  {
   "cell_type": "code",
   "execution_count": null,
   "id": "a70b5c5f-f150-4c5e-86ab-791733749ce4",
   "metadata": {},
   "outputs": [],
   "source": [
    "# Get a one-dimensional slice of test points.\n",
    "pTs = np.linspace(0, 750, 1201).reshape(-1, 1)\n",
    "etas = np.repeat(mode_eta, len(pTs)).reshape(-1, 1)\n",
    "phis = np.repeat(mode_phi, len(pTs)).reshape(-1, 1)\n",
    "ms = np.repeat(mode_m, len(pTs)).reshape(-1, 1)\n",
    "\n",
    "xs = np.hstack([pTs, etas, phis, ms])\n",
    "\n",
    "lr_true = lr(xs)"
   ]
  },
  {
   "cell_type": "code",
   "execution_count": null,
   "id": "048b92e5-c8c1-4e1d-a2a8-8cffa8a132e8",
   "metadata": {},
   "outputs": [],
   "source": [
    "plt.plot(pTs, lr_true)"
   ]
  },
  {
   "cell_type": "markdown",
   "id": "2d8039dc-6b15-443e-81e8-1d305227515b",
   "metadata": {
    "tags": []
   },
   "source": [
    "### BCE"
   ]
  },
  {
   "cell_type": "code",
   "execution_count": null,
   "id": "34c564a9-fdaf-4034-af07-48b05485a2d6",
   "metadata": {},
   "outputs": [],
   "source": [
    "# Experiment parameters\n",
    "num = 0\n",
    "reps = 100\n",
    "\n",
    "# Model parameters\n",
    "params_1 = {'loss':bce, 'd':4}\n",
    "params_2 = {'loss':tanh_bce, 'd':4, 'output': 'linear'}\n",
    "params_3 = {'loss':arctan_bce, 'd':4,  'output': 'linear'}\n",
    "\n",
    "filestr = 'models/zenodo/c_bce/set_{}/'.format(num)\n",
    "filestr_1 = filestr + 'sigmoid/model_{}.h5'\n",
    "filestr_2 = filestr + 'tanh/model_{}.h5'\n",
    "filestr_3 = filestr + 'arctan/model_{}.h5'\n",
    "\n",
    "# Data parameters\n",
    "N = 10**6\n",
    "X = np.load('data/zenodo/fold/X_trn.npy')[:N]\n",
    "y = np.load('data/zenodo/fold/y_trn.npy')[:N].astype('float32')\n",
    "data, m, s = split_data(X, y)"
   ]
  },
  {
   "cell_type": "code",
   "execution_count": null,
   "id": "d60efa18-7d40-48f8-8913-d95aae78fad0",
   "metadata": {},
   "outputs": [],
   "source": [
    "lrs_1 = [None] * reps\n",
    "lrs_2 = [None] * reps\n",
    "lrs_3 = [None] * reps\n",
    "\n",
    "for i in range(reps):\n",
    "    print(i, end = ' ')\n",
    "    model_1 = create_model(**params_1)\n",
    "    model_2 = create_model(**params_2)\n",
    "    model_3 = create_model(**params_3)\n",
    "    \n",
    "    model_1.load_weights(filestr_1.format(i))\n",
    "    model_2.load_weights(filestr_2.format(i))\n",
    "    model_3.load_weights(filestr_3.format(i))\n",
    "    \n",
    "    lrs_1[i] = odds_lr(model_1, m, s)\n",
    "    lrs_2[i] = tanh_lr(model_2, m, s)\n",
    "    lrs_3[i] = arctan_lr(model_3, m, s)"
   ]
  },
  {
   "cell_type": "code",
   "execution_count": null,
   "id": "566f316c-4fec-461f-8b7e-b5baabdceb64",
   "metadata": {},
   "outputs": [],
   "source": [
    "# Calculate predictions\n",
    "preds_1 = get_preds(lrs_1, xs)\n",
    "preds_2 = get_preds(lrs_2, xs)\n",
    "preds_3 = get_preds(lrs_3, xs)\n",
    "\n",
    "# Save results\n",
    "np.save(filestr + 'xs.npy', xs)\n",
    "np.save(filestr + 'preds_1.npy', preds_1)\n",
    "np.save(filestr + 'preds_2.npy', preds_2)\n",
    "np.save(filestr + 'preds_3.npy', preds_3)"
   ]
  },
  {
   "cell_type": "code",
   "execution_count": null,
   "id": "c27cb7b2-256c-4e46-b722-e3b3fa1050b9",
   "metadata": {},
   "outputs": [],
   "source": [
    "w = 3.5\n",
    "h = 3.25\n",
    "ensembles = [preds_1, preds_2, preds_3]\n",
    "labels = [r'$\\sigma(z)$', r'$\\frac{1}{2}\\left(\\tanh{z} + 1\\right)$', r'$\\frac{1}{\\pi}\\left(\\arctan{z} + \\frac{\\pi}{2}\\right)$']\n",
    "y_lim = (0, 3)\n",
    "title = '\\it BCE Zenodo Models'\n",
    "filename = 'plots/zenodo/bce_pT.png'"
   ]
  },
  {
   "cell_type": "code",
   "execution_count": null,
   "id": "d5a5a2e5-13b1-4688-b06c-3c2a95292a7a",
   "metadata": {},
   "outputs": [],
   "source": [
    "n = len(ensembles)\n",
    "\n",
    "lrs = [None] * n\n",
    "lrrs = [None] * n\n",
    "for i in range(n):\n",
    "    lrs[i] = avg_lr(ensembles[i])\n",
    "    lrrs[i] = avg_lrr(lr, ensembles[i], xs)"
   ]
  },
  {
   "cell_type": "code",
   "execution_count": null,
   "id": "38f4d5bc-2b95-4df4-8ed4-35f20b3da2ac",
   "metadata": {},
   "outputs": [],
   "source": [
    "fig, axs = plt.subplots(2, 1,\n",
    "                        figsize = (w, h),\n",
    "                        sharex = True, \n",
    "                        gridspec_kw = {'height_ratios': [2, 1]})\n",
    "\n",
    "if title:\n",
    "    axs[0].set_title(title, loc = 'right')\n",
    "# Plot likelihood ratios\n",
    "axs[0].plot(pTs, lr_true, label = 'Exact', c = 'k', lw = 0.75)\n",
    "\n",
    "for i in range(n):\n",
    "    axs[0].plot(pTs, \n",
    "                lrs[i], \n",
    "                label = labels[i],\n",
    "                c = cs[i % len(cs)], \n",
    "                ls = lss[i % len(lss)],\n",
    "                lw = 0.75)\n",
    "\n",
    "axs[0].set_xlim(pTs[0], pTs[-1])\n",
    "if y_lim:\n",
    "    axs[0].set_ylim(y_lim[0], y_lim[1])\n",
    "axs[0].legend()\n",
    "axs[0].minorticks_on()\n",
    "axs[0].tick_params(which = 'minor', length = 3)\n",
    "axs[0].tick_params(which = 'major', length = 5)\n",
    "axs[0].tick_params(which = 'both', direction='in')\n",
    "axs[0].set_ylabel('$\\mathcal{L}(x)$')\n",
    "\n",
    "# Plot likelihood ratio ratios\n",
    "for i in range(n):\n",
    "    axs[1].plot(pTs, \n",
    "                lrrs[i],\n",
    "                c = cs[i % len(cs)],\n",
    "                ls = lss[i % len(lss)],\n",
    "                lw = 0.75)\n",
    "\n",
    "axs[1].axhline(1,ls=\":\",color=\"grey\", lw=0.5)\n",
    "axs[1].axvline(0,ls=\":\",color=\"grey\", lw=0.5)\n",
    "axs[1].set_ylim(0.95, 1.05);\n",
    "axs[1].minorticks_on()\n",
    "axs[1].tick_params(which = 'minor', length = 3)\n",
    "axs[1].tick_params(which = 'major', length = 5)\n",
    "axs[1].tick_params(which = 'both', direction='in')\n",
    "axs[1].set_ylabel('Ratio')\n",
    "\n",
    "plt.subplots_adjust(hspace = 0.1)\n",
    "plt.xlabel(r'$p_T$')\n",
    "\n",
    "if filename:\n",
    "    plt.savefig(filename, \n",
    "                dpi = 300,\n",
    "                transparent = True,\n",
    "                bbox_inches = 'tight')"
   ]
  },
  {
   "cell_type": "markdown",
   "id": "92f3a18a-d332-4b4d-b404-7874fb98e9a0",
   "metadata": {
    "tags": []
   },
   "source": [
    "### MSE"
   ]
  },
  {
   "cell_type": "code",
   "execution_count": null,
   "id": "cd88d0e5-a2d1-4167-bffd-9c8609de5571",
   "metadata": {},
   "outputs": [],
   "source": []
  },
  {
   "cell_type": "markdown",
   "id": "b58aa47e-8fef-43aa-be48-1744087e1050",
   "metadata": {},
   "source": [
    "### MLC"
   ]
  },
  {
   "cell_type": "code",
   "execution_count": null,
   "id": "95bb1d60-11e7-4ae2-ba85-2680714fa1b8",
   "metadata": {},
   "outputs": [],
   "source": []
  },
  {
   "cell_type": "markdown",
   "id": "d6682f09-64bf-48e9-93af-d3956f025166",
   "metadata": {},
   "source": [
    "### SQR"
   ]
  },
  {
   "cell_type": "code",
   "execution_count": null,
   "id": "c49f3646-2e7a-4a2f-bffd-ebb959f2668f",
   "metadata": {},
   "outputs": [],
   "source": []
  },
  {
   "cell_type": "markdown",
   "id": "4cd43165-f01d-456e-bada-f7b6ad7a6b22",
   "metadata": {},
   "source": [
    "## $\\eta$ Scan"
   ]
  },
  {
   "cell_type": "markdown",
   "id": "8d2b302b-4a55-4692-92d8-841886ef0456",
   "metadata": {},
   "source": [
    "## $m$ Scan"
   ]
  }
 ],
 "metadata": {
  "kernelspec": {
   "display_name": "multifold",
   "language": "python",
   "name": "multifold"
  },
  "language_info": {
   "codemirror_mode": {
    "name": "ipython",
    "version": 3
   },
   "file_extension": ".py",
   "mimetype": "text/x-python",
   "name": "python",
   "nbconvert_exporter": "python",
   "pygments_lexer": "ipython3",
   "version": "3.10.5"
  }
 },
 "nbformat": 4,
 "nbformat_minor": 5
}
