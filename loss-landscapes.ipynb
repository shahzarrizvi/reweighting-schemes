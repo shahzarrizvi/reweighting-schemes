{
 "cells": [
  {
   "cell_type": "code",
   "execution_count": 1,
   "id": "e4362495-58fc-457f-ba6d-cee8db74195b",
   "metadata": {},
   "outputs": [],
   "source": [
    "import numpy as np\n",
    "import os\n",
    "from scipy import stats\n",
    "import scipy.integrate as integrate\n",
    "import tensorflow as tf\n",
    "\n",
    "from mpl_toolkits.mplot3d import Axes3D  \n",
    "import matplotlib.pyplot as plt\n",
    "import matplotlib.animation as animation\n",
    "from matplotlib.patches import Patch\n",
    "from matplotlib import rc\n",
    "import matplotlib.font_manager\n",
    "rc('font', family='serif')\n",
    "rc('text', usetex=True)\n",
    "rc('font', size=22)\n",
    "rc('xtick', labelsize=15)\n",
    "rc('ytick', labelsize=15)\n",
    "rc('legend', fontsize=15)\n",
    "\n",
    "np.random.seed(666)\n",
    "eps = 1e-7"
   ]
  },
  {
   "cell_type": "code",
   "execution_count": 2,
   "id": "41b609c2-f5d0-49dd-a11e-6afca776b843",
   "metadata": {
    "scrolled": true,
    "tags": []
   },
   "outputs": [],
   "source": [
    "def sig(x):\n",
    "    return 1 / (1 + np.exp(-x))\n",
    "\n",
    "def relu(x):\n",
    "    return np.maximum(0, x)\n",
    "\n",
    "bkgd = stats.norm(-0.1, 1)\n",
    "sgnl = stats.norm(+0.1, 1)"
   ]
  },
  {
   "cell_type": "code",
   "execution_count": 3,
   "id": "8e42f25a-8d8c-489b-9326-3119263178da",
   "metadata": {},
   "outputs": [],
   "source": [
    "# Empiric estimation of losses\n",
    "\n",
    "N = 5 * 10**6\n",
    "X = np.concatenate((bkgd.rvs(size = N), sgnl.rvs(size = N)))\n",
    "y = np.concatenate((np.zeros(N), np.ones(N)))\n",
    "\n",
    "def bce(a, b):\n",
    "    XX = np.repeat(X, np.prod(np.shape(a))).reshape(X.shape + np.shape(a))\n",
    "    yy = np.repeat(y, np.prod(np.shape(a))).reshape(y.shape + np.shape(a))\n",
    "    #XX = np.resize(X, X.shape + np.shape(a))\n",
    "    #yy = np.resize(y, y.shape + np.shape(a))\n",
    "    y_hat = sig(a*XX + b)\n",
    "    return 2 * -np.mean((yy) * np.log(y_hat + eps) + (1 - yy) * np.log(1 - y_hat + eps), axis = 0)\n",
    "\n",
    "def mse(a, b):\n",
    "    XX = np.resize(X, X.shape + np.shape(a))\n",
    "    yy = np.resize(y, y.shape + np.shape(a))\n",
    "    y_hat = sig(a*XX + b)\n",
    "    return 2 * -np.mean((yy) * -(1 - y_hat)**2 + (1 - yy) * -(y_hat)**2, axis = 0)\n",
    "\n",
    "def mse_p(a, b, p):\n",
    "    XX = np.resize(X, X.shape + np.shape(a))\n",
    "    yy = np.resize(y, y.shape + np.shape(a))\n",
    "    y_hat = sig(a*XX + b) \n",
    "    return 2 * -np.mean((yy) * -(1 - y_hat)**p + (1 - yy) * -(y_hat)**p, axis = 0)\n",
    "\n",
    "def mlc(a, b):\n",
    "    XX = np.resize(X, X.shape + np.shape(a))\n",
    "    yy = np.resize(y, y.shape + np.shape(a))\n",
    "    y_hat = relu(a*XX + b)\n",
    "    return 2 * -np.mean((yy) * np.log(y_hat + eps) + (1 - yy) * (1 - y_hat), axis = 0)\n",
    "\n",
    "def exp_mlc(a, b):\n",
    "    XX = np.resize(X, X.shape + np.shape(a))\n",
    "    yy = np.resize(y, y.shape + np.shape(a))\n",
    "    y_hat = relu(a*XX + b)\n",
    "    return 2 * -np.mean((yy) * y_hat + (1 - yy) * (1 - np.exp(y_hat)), axis = 0)\n",
    "\n",
    "def sqr(a, b):\n",
    "    XX = np.resize(X, X.shape + np.shape(a))\n",
    "    yy = np.resize(y, y.shape + np.shape(a))\n",
    "    y_hat = relu(a*XX + b)\n",
    "    return 2 * -np.mean((yy) * -(1 / (y_hat + eps)**0.5) + (1 - yy) * -(y_hat)**0.5, axis = 0)\n",
    "\n",
    "def exp_sqr(a, b):\n",
    "    XX = np.resize(X, X.shape + np.shape(a))\n",
    "    yy = np.resize(y, y.shape + np.shape(a))\n",
    "    y_hat = relu(a*XX + b)\n",
    "    return 2 * -np.mean((yy) * -(1 / np.exp(y_hat)**0.5) + (1 - yy) * -(np.exp(y_hat))**0.5, axis = 0)\n",
    "\n",
    "def sqr_r(a, b, r):\n",
    "    XX = np.resize(X, X.shape + np.shape(a))\n",
    "    yy = np.resize(y, y.shape + np.shape(a))\n",
    "    y_hat = relu(a*XX + b)\n",
    "    return 2 * -np.mean((yy) * -(1 / (y_hat + eps)**(r/2)) + (1 - yy) * -(y_hat)**(r/2), axis = 0) "
   ]
  },
  {
   "cell_type": "code",
   "execution_count": 4,
   "id": "63cda234-6fd7-48df-be2b-ad81c94b59bf",
   "metadata": {},
   "outputs": [],
   "source": [
    "# Numerical estimation of losses\n",
    "\n",
    "def nbce(a, b):\n",
    "    g = lambda x: -(sgnl.pdf(x) * np.log(sig(a*x + b) + eps) + \\\n",
    "                    bkgd.pdf(x) * np.log(1 - sig(a*x + b) + eps) )\n",
    "    return integrate.quad_vec(g, -np.inf, np.inf)[0]\n",
    "\n",
    "def nmse(a, b):\n",
    "    g = lambda x: -(sgnl.pdf(x) * -(1 - sig(a*x + b))**2 + \\\n",
    "                    bkgd.pdf(x) * -(sig(a*x + b)**2) )\n",
    "    return integrate.quad_vec(g, -np.inf, np.inf)[0]\n",
    "\n",
    "def nmlc(a, b):\n",
    "    g = lambda x: -(sgnl.pdf(x) * np.log(relu(a*x + b) + eps) + \\\n",
    "                    bkgd.pdf(x) * (1 - relu(a*x + b)) )\n",
    "    return integrate.quad_vec(g, -np.inf, np.inf)[0]\n",
    "\n",
    "def nsqr(a, b):\n",
    "    g = lambda x: -(sgnl.pdf(x) * -1 / (relu(a*x + b) + eps)**0.5 + \\\n",
    "                    bkgd.pdf(x) * -relu(a*x + b)**0.5 )\n",
    "    return integrate.quad_vec(g, -np.inf, np.inf)[0]"
   ]
  },
  {
   "cell_type": "code",
   "execution_count": 50,
   "id": "d6967f15-6fe8-4440-87c6-f0c758d20797",
   "metadata": {},
   "outputs": [],
   "source": [
    "# Storing large (a, b) grids with a large sample size is too memory intensive,\n",
    "# so instead we break it into smaller grids.\n",
    "\n",
    "def gridded(loss, g_min, g_max, f, n_splits):\n",
    "    chunks = [None] * n_splits\n",
    "    span = (g_max - g_min) / n_splits\n",
    "    n_points = int( span / f)\n",
    "    \n",
    "    for i in range(n_splits - 1):\n",
    "        chunks[i] = np.linspace(g_min + i * span, g_min + (i + 1) * span - f, n_points)\n",
    "    chunks[n_splits - 1] = np.linspace(g_min + (n_split - 1) * span, g_min + n_splits * span, n_points + 1)\n",
    "    \n",
    "    grids = [None] * n_splits**2\n",
    "    for i in range(n_splits):\n",
    "        for j in range(n_splits):\n",
    "            grids[n_splits*i + j] = np.meshgrid(chunks[i], chunks[n_splits - 1 - j])\n",
    "    \n",
    "    losses = [None] * n_splits**2\n",
    "    for i in range(n_splits**2):\n",
    "        print(i, end = ' ')\n",
    "        losses[i] = loss(grids[i][0], grids[i][1])\n",
    "    return np.hstack([np.vstack([losses[j] for j in range(i, i + n_splits)]) for i in range(0, n_splits**2, n_splits)])\n",
    "\n",
    "g_min = -3    # minimum grid value\n",
    "g_max = 3     # maximum grid value\n",
    "\n",
    "f = 0.01 # increment. should evenly divide a_max - a_min. there will be (a_min - a_max) / f + 1 total points.\n",
    "n_splits = 3   # number of times to split of one axis. should divide (g_min - g_max) / f\n",
    "N = 10**6 \n",
    "\n",
    "chunks = [None] * n_splits\n",
    "span = (g_max - g_min) / n_splits    # range of each interval\n",
    "n_points = int( span / f )               # number of points in each interval\n",
    "for i in range(n_splits - 1):\n",
    "    chunks[i] = np.linspace(g_min + i*span, g_min + (i + 1) * span - f, n_points)\n",
    "chunks[n_splits - 1] = np.linspace(g_min + (n_split - 1) * span, g_min + n_splits * span, n_points + 1)"
   ]
  },
  {
   "cell_type": "code",
   "execution_count": 51,
   "id": "bfc7cdb8-01db-44b3-a9bc-0d0f61456cd9",
   "metadata": {},
   "outputs": [],
   "source": [
    "grids = [None] * n_splits**2\n",
    "for i in range(n_splits):\n",
    "    for j in range(n_splits):\n",
    "        grids[n_splits*i + j] = np.meshgrid(chunks[i], chunks[n_"
   ]
  },
  {
   "cell_type": "markdown",
   "id": "d4e47ca4-bc3b-41ba-8260-b4602ca6d527",
   "metadata": {
    "tags": []
   },
   "source": [
    "# Basic Run"
   ]
  },
  {
   "cell_type": "markdown",
   "id": "5f5d1609-5605-47c9-9911-11e08a5c2d80",
   "metadata": {
    "tags": []
   },
   "source": [
    "## Running"
   ]
  },
  {
   "cell_type": "code",
   "execution_count": 52,
   "id": "6dfb90e1-84cf-42f7-ab76-7ca281f4b9b4",
   "metadata": {},
   "outputs": [],
   "source": [
    "t = np.linspace(-3, -1.01, 200)\n",
    "u = np.linspace(-1, +0.99, 200)\n",
    "v = np.linspace(+1, +3, 201)\n",
    "\n",
    "chunks2 = [t, u, v]\n",
    "grids2 = [None] * 9\n",
    "for i in range(3):\n",
    "    for j in range(3):\n",
    "        grids2[3*i + j] = np.meshgrid(chunks2[i], chunks2[2 - j])\n",
    "\n",
    "aa, bb = np.meshgrid(np.linspace(-3, +3, 601), np.linspace(-3, +3, 601))"
   ]
  },
  {
   "cell_type": "code",
   "execution_count": 9,
   "id": "aa3e7597-a9a1-4e63-a34f-371c23c645c3",
   "metadata": {},
   "outputs": [],
   "source": [
    "r = np.linspace(-3, -2, 11)\n",
    "rr, ss = np.meshgrid(r, r)"
   ]
  },
  {
   "cell_type": "code",
   "execution_count": 10,
   "id": "0e745bc0-2f22-4167-afde-62fbfd2a64e9",
   "metadata": {},
   "outputs": [
    {
     "data": {
      "text/plain": [
       "array([[4.06925548, 4.01226538, 3.95662554, 3.90240166, 3.84966005,\n",
       "        3.7984672 , 3.74888925, 3.70099136, 3.65483677, 3.61048575,\n",
       "        3.5679943 ],\n",
       "       [4.00911159, 3.95092196, 3.89405556, 3.83857889, 3.78455942,\n",
       "        3.73206532, 3.68116495, 3.63192626, 3.584416  , 3.5386987 ,\n",
       "        3.49483543],\n",
       "       [3.95057787, 3.89120015, 3.83311713, 3.77639586, 3.7211048 ,\n",
       "        3.6673135 , 3.61509228, 3.56451161, 3.51564145, 3.46855026,\n",
       "        3.42330389],\n",
       "       [3.89369308, 3.83314102, 3.77385377, 3.71589875, 3.65934512,\n",
       "        3.60426362, 3.55072622, 3.49880563, 3.44857468, 3.40010547,\n",
       "        3.35346829],\n",
       "       [3.8384955 , 3.77678521, 3.71630862, 3.65713333, 3.59932902,\n",
       "        3.54296732, 3.48812159, 3.43486647, 3.38327737, 3.33342966,\n",
       "        3.28539772],\n",
       "       [3.78502286, 3.72217279, 3.66052431, 3.60014496, 3.54110472,\n",
       "        3.48347589, 3.42733294, 3.37275214, 3.31981113, 3.26858824,\n",
       "        3.21916157],\n",
       "       [3.73331227, 3.66934325, 3.60654285, 3.54497839, 3.4847199 ,\n",
       "        3.42584014, 3.3684144 , 3.3125203 , 3.25823739, 3.20564657,\n",
       "        3.15482932],\n",
       "       [3.68340013, 3.61833538, 3.5544056 , 3.4916777 , 3.43022162,\n",
       "        3.37011028, 3.31141957, 3.25422816, 3.19861716, 3.14466973,\n",
       "        3.0924703 ],\n",
       "       [3.63532209, 3.56918718, 3.5041531 , 3.44028622, 3.37765614,\n",
       "        3.31633577, 3.25640133, 3.19793224, 3.1410109 , 3.08572232,\n",
       "        3.03215354],\n",
       "       [3.58911292, 3.52193579, 3.45582505, 3.39084637, 3.32706886,\n",
       "        3.2645652 , 3.20341171, 3.14368829, 3.0854783 , 3.02886828,\n",
       "        2.97394749],\n",
       "       [3.54480649, 3.47661739, 3.40946015, 3.34339959, 3.27850418,\n",
       "        3.21484618, 3.15250177, 3.09155108, 3.03207814, 2.97417068,\n",
       "        2.91791981]])"
      ]
     },
     "execution_count": 10,
     "metadata": {},
     "output_type": "execute_result"
    }
   ],
   "source": [
    "bce(rr, ss)"
   ]
  },
  {
   "cell_type": "code",
   "execution_count": null,
   "id": "db891cbc-fcc2-43cd-a7e1-f21fa9772cd5",
   "metadata": {},
   "outputs": [],
   "source": [
    "print('Empirical')\n",
    "print('BCE')\n",
    "bces = [None] * 9\n",
    "for i in range(9):\n",
    "    print(i, end = ' ')\n",
    "    bces[i] = bce(grids[i][0], grids[i][1])\n",
    "bces = np.hstack([np.vstack([bces[j] for j in range(i, i + 3)]) for i in range(0, 9, 3)])\n",
    "print()\n",
    "'''\n",
    "print('MSE')\n",
    "mses = [None] * 9\n",
    "for i in range(9):\n",
    "    print(i, end = ' ')\n",
    "    mses[i] = mse(grids[i][0], grids[i][1])\n",
    "mses = np.hstack([np.vstack([mses[j] for j in range(i, i + 3)]) for i in range(0, 9, 3)])\n",
    "print()\n",
    "\n",
    "print('MLC')\n",
    "mlcs = [None] * 9\n",
    "for i in range(9):\n",
    "    print(i, end = ' ')\n",
    "    mlc[i] = mlc(grids[i][0], grids[i][1])\n",
    "mlcs = np.hstack([np.vstack([mlcs[j] for j in range(i, i + 3)]) for i in range(0, 9, 3)])\n",
    "print()\n",
    "\n",
    "print('SQR')\n",
    "sqrs = [None] * 9\n",
    "for i in range(9):\n",
    "    print(i, end = ' ')\n",
    "    sqrs[i] = sqr(grids[i][0], grids[i][1])\n",
    "sqrs = np.hstack([np.vstack([sqrs[j] for j in range(i, i + 3)]) for i in range(0, 9, 3)])\n",
    "'''"
   ]
  },
  {
   "cell_type": "code",
   "execution_count": null,
   "id": "dc75687f-ccdb-4b03-a99f-afe37f9aaf4c",
   "metadata": {},
   "outputs": [],
   "source": [
    "print('Empirical')\n",
    "print('BCE')\n",
    "bces1 = bce(aa1, bb1)\n",
    "print(1, end = ' ')\n",
    "bces2 = bce(aa2, bb2)\n",
    "print(2, end = ' ')\n",
    "bces3 = bce(aa3, bb3)\n",
    "print(3, end = ' ')\n",
    "bces4 = bce(aa4, bb4)\n",
    "print(4)\n",
    "bces = np.hstack([np.vstack([bces1, bces2]), np.vstack([bces3, bces4])])\n",
    "\n",
    "print('MSE')\n",
    "mses1 = mse(aa1, bb1)\n",
    "print(1, end = ' ')\n",
    "mses2 = mse(aa2, bb2)\n",
    "print(2, end = ' ')\n",
    "mses3 = mse(aa3, bb3)\n",
    "print(3, end = ' ')\n",
    "mses4 = mse(aa4, bb4)\n",
    "print(4)\n",
    "mses = np.hstack([np.vstack([mses1, mses2]), np.vstack([mses3, mses4])])\n",
    "\n",
    "print('MLC')\n",
    "mlcs1 = mlc(aa1, bb1)\n",
    "print(1, end = ' ')\n",
    "mlcs2 = mlc(aa2, bb2)\n",
    "print(2, end = ' ')\n",
    "mlcs3 = mlc(aa3, bb3)\n",
    "print(3, end = ' ')\n",
    "mlcs4 = mlc(aa4, bb4)\n",
    "print(4)\n",
    "mlcs = np.hstack([np.vstack([mlcs1, mlcs2]), np.vstack([mlcs3, mlcs4])])\n",
    "\n",
    "print('SQR')\n",
    "sqrs1 = sqr(aa1, bb1)\n",
    "print(1, end = ' ')\n",
    "sqrs2 = sqr(aa2, bb2)\n",
    "print(2, end = ' ')\n",
    "sqrs3 = sqr(aa3, bb3)\n",
    "print(3, end = ' ')\n",
    "sqrs4 = sqr(aa4, bb4)\n",
    "print(4)\n",
    "sqrs = np.hstack([np.vstack([sqrs1, sqrs2]), np.vstack([sqrs3, sqrs4])])"
   ]
  },
  {
   "cell_type": "code",
   "execution_count": null,
   "id": "e0e82ba2-de8b-4112-bd67-0bbd5df50639",
   "metadata": {},
   "outputs": [],
   "source": [
    "bces.shape"
   ]
  },
  {
   "cell_type": "code",
   "execution_count": null,
   "id": "7871b083-df68-4076-ad68-d15a8e830870",
   "metadata": {},
   "outputs": [],
   "source": [
    "np.save('anims/bces', bces)\n",
    "np.save('anims/mses', mses)\n",
    "np.save('anims/mlcs', mlcs)\n",
    "np.save('anims/sqrs', sqrs)\n",
    "np.save('anims/aa', aa)\n",
    "np.save('anims/bb', bb)"
   ]
  },
  {
   "cell_type": "markdown",
   "id": "a07f789d-4ea2-4965-83a3-108dfdaff911",
   "metadata": {},
   "source": [
    "## Examining"
   ]
  },
  {
   "cell_type": "code",
   "execution_count": null,
   "id": "c2c01a6a-6c0d-40e1-a432-c62605561bcc",
   "metadata": {},
   "outputs": [],
   "source": [
    "aa = np.load('anims/aa.npy')\n",
    "bb = np.load('anims/bb.npy')\n",
    "bces = np.load('anims/bces.npy')\n",
    "mses = np.load('anims/mses.npy')\n",
    "mlcs = np.load('anims/mlcs.npy')\n",
    "sqrs = np.load('anims/sqrs.npy')\n",
    "\n",
    "#nbces = np.load('anims/nbce_zs_3.npy')\n",
    "#nmses = np.load('anims/nmse_zs_3.npy')\n",
    "#nmlcs = np.load('anims/nmlc_zs_3.npy')\n",
    "#nsqrs = np.load('anims/nsqr_zs_3.npy')"
   ]
  },
  {
   "cell_type": "code",
   "execution_count": null,
   "id": "dae4e7bd-87c3-4ffc-bd7c-496da638d495",
   "metadata": {},
   "outputs": [],
   "source": [
    "print('Empirical Estimation')\n",
    "print(aa[bces == np.min(bces)], bb[bces == np.min(bces)])\n",
    "print(aa[mses == np.min(mses)], bb[mses == np.min(mses)])\n",
    "print(aa[mlcs == np.min(mlcs)], bb[mlcs == np.min(mlcs)])\n",
    "print(aa[sqrs == np.min(sqrs)], bb[sqrs == np.min(sqrs)])\n",
    "print()\n",
    "print('Numerical Estimation')\n",
    "#print(aa[nbce_zs == np.min(nbce_zs)], bb[nbce_zs == np.min(nbce_zs)])\n",
    "#print(aa[nmse_zs == np.min(nmse_zs)], bb[nmse_zs == np.min(nmse_zs)])\n",
    "#print(aa[nmlc_zs == np.min(nmlc_zs)], bb[nmlc_zs == np.min(nmlc_zs)])\n",
    "#print(aa[nsqr_zs == np.min(nsqr_zs)], bb[nsqr_zs == np.min(nsqr_zs)])"
   ]
  },
  {
   "cell_type": "code",
   "execution_count": null,
   "id": "26bcf75d-ca28-4078-9ab6-617578806b8e",
   "metadata": {},
   "outputs": [],
   "source": [
    "plt.scatter(aa, bb, s = 1)\n",
    "plt.gca().set_aspect('equal')"
   ]
  },
  {
   "cell_type": "code",
   "execution_count": null,
   "id": "caa57e76-ebb3-4aa1-b991-1b3d18d20733",
   "metadata": {},
   "outputs": [],
   "source": [
    "def add(a, b):\n",
    "    return a + b"
   ]
  },
  {
   "cell_type": "code",
   "execution_count": null,
   "id": "1a144527-2c6c-4499-82d7-b840fe904cf5",
   "metadata": {},
   "outputs": [],
   "source": [
    "nbces = np.load('anims/nbces.npy')"
   ]
  },
  {
   "cell_type": "code",
   "execution_count": null,
   "id": "bdface64-21b0-475f-99b2-f371fa2467e4",
   "metadata": {},
   "outputs": [],
   "source": [
    "a = np.linspace(-3, 0, 3)\n",
    "b = np.linspace(-3, 0, 3)\n",
    "aa, bb = np.meshgrid(a, b)\n",
    "\n",
    "u = np.linspace(-3, -1.5, 2)\n",
    "v = np.linspace(-3, -1.5, 2)\n",
    "uu, vv = np.meshgrid(u, v)\n",
    "\n",
    "r = np.linspace(-3, 1.5, 4)\n",
    "s = np.linspace(-3, 1.5, 4)\n",
    "rr, ss = np.meshgrid(r, s)"
   ]
  },
  {
   "cell_type": "code",
   "execution_count": null,
   "id": "e8b91774-2827-40de-b262-3c9d71d17642",
   "metadata": {},
   "outputs": [],
   "source": [
    "aa"
   ]
  },
  {
   "cell_type": "code",
   "execution_count": null,
   "id": "56bf3698-06a3-47c9-9962-c5701833abba",
   "metadata": {},
   "outputs": [],
   "source": [
    "plt.scatter(rr, ss)\n",
    "plt.scatter(aa, bb)\n",
    "plt.scatter(uu, vv)\n",
    "plt.gca().set_aspect('equal')"
   ]
  },
  {
   "cell_type": "code",
   "execution_count": null,
   "id": "f13395d5-587b-4133-b906-952396dc4f89",
   "metadata": {},
   "outputs": [],
   "source": [
    "'''\n",
    "XX = np.resize(X, X.shape + np.shape(a))\n",
    "yy = np.resize(y, y.shape + np.shape(a))\n",
    "y_hat = sig(a*XX + b)\n",
    "return 2 * -np.mean((yy) * np.log(y_hat + eps) + (1 - yy) * np.log(1 - y_hat + eps), axis = 0)\n",
    "'''"
   ]
  },
  {
   "cell_type": "code",
   "execution_count": null,
   "id": "2d212004-7b72-49db-af6a-2a529505bdf6",
   "metadata": {},
   "outputs": [],
   "source": [
    "X = np.array([-1, -1, 1])\n",
    "y = np.array([0, 0, 1])"
   ]
  },
  {
   "cell_type": "code",
   "execution_count": null,
   "id": "956a6bed-725c-4e8f-ad75-0b579312ecee",
   "metadata": {},
   "outputs": [],
   "source": [
    "XX = np.resize(X, X.shape + np.shape(aa))\n",
    "yy = np.resize(y, y.shape + np.shape(aa))"
   ]
  },
  {
   "cell_type": "code",
   "execution_count": null,
   "id": "1112dcf0-8287-4f27-a97e-fdd77e6e9695",
   "metadata": {},
   "outputs": [],
   "source": [
    "XX"
   ]
  },
  {
   "cell_type": "code",
   "execution_count": null,
   "id": "3830a59a-1c6f-48d8-bc09-7e4f96deeba0",
   "metadata": {},
   "outputs": [],
   "source": [
    "yy"
   ]
  },
  {
   "cell_type": "code",
   "execution_count": null,
   "id": "237f0489-6d8d-4e2e-a05c-435f4bddd61c",
   "metadata": {},
   "outputs": [],
   "source": [
    "y_hat1 = sig(aa*XX + bb)"
   ]
  },
  {
   "cell_type": "code",
   "execution_count": null,
   "id": "42f43a32-4171-43e1-9b12-be6dd0ae0a8c",
   "metadata": {},
   "outputs": [],
   "source": [
    "y_hat1"
   ]
  },
  {
   "cell_type": "code",
   "execution_count": null,
   "id": "6f56ffc8-3e9a-4838-b1e1-7638541eeac0",
   "metadata": {},
   "outputs": [],
   "source": [
    "2 * -np.mean((yy) * np.log(y_hat1 + eps) + (1 - yy) * np.log(1 - y_hat1 + eps), axis = 0)"
   ]
  },
  {
   "cell_type": "code",
   "execution_count": null,
   "id": "50e06096-3a30-4151-bb39-f663a0a541a4",
   "metadata": {},
   "outputs": [],
   "source": [
    "XX = np.resize(X, X.shape + np.shape(uu))\n",
    "yy = np.resize(y, y.shape + np.shape(uu))"
   ]
  },
  {
   "cell_type": "code",
   "execution_count": null,
   "id": "b4d98841-3c84-4ae6-b832-f2ecb7c91ad0",
   "metadata": {},
   "outputs": [],
   "source": [
    "XX"
   ]
  },
  {
   "cell_type": "code",
   "execution_count": null,
   "id": "05655dfa-798a-4b22-995a-026c3134b1a0",
   "metadata": {},
   "outputs": [],
   "source": [
    "yy"
   ]
  },
  {
   "cell_type": "code",
   "execution_count": null,
   "id": "5d1da9e4-da3b-4a60-a596-7b60cc3bacd1",
   "metadata": {},
   "outputs": [],
   "source": [
    "y_hat2 = sig(uu*XX + vv)"
   ]
  },
  {
   "cell_type": "code",
   "execution_count": null,
   "id": "1aeaa801-3596-48d2-b88b-8da04b405bc9",
   "metadata": {},
   "outputs": [],
   "source": [
    "y_hat2"
   ]
  },
  {
   "cell_type": "code",
   "execution_count": null,
   "id": "61d5bf50-a994-4e35-a0af-83847a20216e",
   "metadata": {},
   "outputs": [],
   "source": [
    "2 * -np.mean((yy) * np.log(y_hat2 + eps) + (1 - yy) * np.log(1 - y_hat2 + eps), axis = 0)"
   ]
  },
  {
   "cell_type": "code",
   "execution_count": null,
   "id": "74ccbbee-86ab-47ec-82dc-20fa0f8df11a",
   "metadata": {},
   "outputs": [],
   "source": [
    "XX = np.resize(X, X.shape + np.shape(rr))\n",
    "yy = np.resize(y, y.shape + np.shape(rr))"
   ]
  },
  {
   "cell_type": "code",
   "execution_count": null,
   "id": "9af90dc0-3f74-48d5-b347-ee0e7c77084b",
   "metadata": {},
   "outputs": [],
   "source": [
    "y_hat3 = sig(rr*XX + ss)"
   ]
  },
  {
   "cell_type": "code",
   "execution_count": null,
   "id": "e941cea1-7f89-402c-a836-e95126fb6ea5",
   "metadata": {},
   "outputs": [],
   "source": [
    "y_hat3"
   ]
  },
  {
   "cell_type": "code",
   "execution_count": null,
   "id": "1c6c0d9f-dc95-4c12-acac-e711d4b8a092",
   "metadata": {},
   "outputs": [],
   "source": [
    "2 * -np.mean((yy) * np.log(y_hat3 + eps) + (1 - yy) * np.log(1 - y_hat3 + eps), axis = 0)"
   ]
  },
  {
   "cell_type": "code",
   "execution_count": null,
   "id": "77ec3fce-faa6-40e4-80e0-393a11f35a19",
   "metadata": {},
   "outputs": [],
   "source": [
    "xx, yy = np.meshgrid(np.linspace(-3, 2, 6), np.linspace(-3, 2, 6))\n",
    "rr, ss = np.meshgrid(np.linspace(-3, 3, 7), np.linspace(-3, 3, 7))"
   ]
  },
  {
   "cell_type": "code",
   "execution_count": null,
   "id": "17d39331-533b-48f1-a40e-14ccd107ae26",
   "metadata": {},
   "outputs": [],
   "source": [
    "diff = bce(xx, yy) - nbce(xx, yy)\n",
    "print(abs(diff))\n",
    "np.max(abs(diff))"
   ]
  },
  {
   "cell_type": "code",
   "execution_count": null,
   "id": "9835740a-c1a4-4fa1-9c92-a38f4deacc34",
   "metadata": {},
   "outputs": [],
   "source": [
    "diff = bce(rr, ss) - nbce(rr, ss)\n",
    "print(abs(diff))\n",
    "np.max(abs(diff))"
   ]
  },
  {
   "cell_type": "code",
   "execution_count": null,
   "id": "ff4bfef3-0012-4915-b98e-0fe23d95ee30",
   "metadata": {},
   "outputs": [],
   "source": [
    "fig = plt.figure(figsize = (15, 30))\n",
    "ax = fig.add_subplot(111, projection = '3d')\n",
    "ax.scatter(aa, bb, nbces, s = 5, c = nbces, cmap = 'viridis')"
   ]
  },
  {
   "cell_type": "code",
   "execution_count": null,
   "id": "fd2e54f5-42ff-4b88-b0e3-6b6ad74e5c2c",
   "metadata": {},
   "outputs": [],
   "source": [
    "fig = plt.figure(figsize = (15, 30))\n",
    "ax = fig.add_subplot(111, projection = '3d')\n",
    "ax.scatter(aa, bb, bces, s = 5, c = bces, cmap = 'viridis')\n",
    "ax.set_xlabel(r'$a$')\n",
    "ax.set_ylabel(r'$b$')\n",
    "ax.set_title(r'BCE Loss of $\\sigma(ax + b)$')"
   ]
  },
  {
   "cell_type": "code",
   "execution_count": null,
   "id": "f9bb3bd0-1661-4b7d-b143-8657b3cc844e",
   "metadata": {},
   "outputs": [],
   "source": [
    "print('Empirical')\n",
    "print(sqr(0.19, 1.02), sqr(0.18, 1.02))\n",
    "print()\n",
    "print('Numerical')\n",
    "print(nsqr(0.19, 1.02), nsqr(0.18, 1.02))"
   ]
  },
  {
   "cell_type": "markdown",
   "id": "a0530820-809c-4463-8350-5cc77abb8702",
   "metadata": {
    "jp-MarkdownHeadingCollapsed": true,
    "tags": []
   },
   "source": [
    "# Plot All"
   ]
  },
  {
   "cell_type": "code",
   "execution_count": null,
   "id": "14dd0d88-a066-468f-8a06-0571ae426c53",
   "metadata": {},
   "outputs": [],
   "source": [
    "fig = plt.figure(figsize = (15, 30))\n",
    "ax = fig.add_subplot(4, 2, 1, projection = '3d')\n",
    "ax.scatter(xs, ys, bce_zs, s = 5, c = bce_zs, cmap = 'viridis')\n",
    "ax.set_xlabel(r'$a$')\n",
    "ax.set_ylabel(r'$b$')\n",
    "ax.set_title(r'BCE Loss of $\\sigma(ax + b)$')\n",
    "\n",
    "ax = fig.add_subplot(4, 2, 2)\n",
    "ax.scatter(xs, ys, c = bce_zs, cmap='viridis')\n",
    "ax.set_xlabel(r'$a$')\n",
    "ax.set_ylabel(r'$b$')\n",
    "ax.set_aspect('equal')\n",
    "\n",
    "ax = fig.add_subplot(4, 2, 3, projection = '3d')\n",
    "ax.scatter(xs, ys, mse_zs, s = 5, c = mse_zs, cmap = 'viridis')\n",
    "ax.set_xlabel(r'$a$')\n",
    "ax.set_ylabel(r'$b$')\n",
    "ax.set_title(r'MSE Loss of $\\sigma(ax + b)$')\n",
    "\n",
    "ax = fig.add_subplot(4, 2, 4)\n",
    "ax.scatter(xs, ys, c = mse_zs, cmap='viridis')\n",
    "ax.set_xlabel(r'$a$')\n",
    "ax.set_ylabel(r'$b$')\n",
    "ax.set_aspect('equal')\n",
    "\n",
    "ax = fig.add_subplot(4, 2, 5, projection = '3d')\n",
    "ax.scatter(xs, ys, mlc_zs, s = 5, c = mlc_zs, cmap = 'viridis')\n",
    "ax.set_xlabel(r'$a$')\n",
    "ax.set_ylabel(r'$b$')\n",
    "ax.set_title(r'MLC Loss of ${\\rm ReLU}(ax + b)$')\n",
    "\n",
    "ax = fig.add_subplot(4, 2, 6)\n",
    "ax.scatter(xs, ys, c = mlc_zs, cmap='viridis')\n",
    "ax.set_xlabel(r'$a$')\n",
    "ax.set_ylabel(r'$b$')\n",
    "ax.set_aspect('equal')\n",
    "\n",
    "ax = fig.add_subplot(4, 2, 7, projection = '3d')\n",
    "ax.scatter(xs, ys, sqr_zs, s = 5, c = sqr_zs, cmap = 'viridis')\n",
    "ax.set_xlabel(r'$a$')\n",
    "ax.set_ylabel(r'$b$')\n",
    "ax.set_title(r'SQR Loss of ${\\rm ReLU}(ax + b)$')\n",
    "\n",
    "ax = fig.add_subplot(4, 2, 8)\n",
    "ax.scatter(xs, ys, c = sqr_zs, cmap='viridis')\n",
    "ax.set_xlabel(r'$a$')\n",
    "ax.set_ylabel(r'$b$')\n",
    "ax.set_aspect('equal')"
   ]
  },
  {
   "cell_type": "code",
   "execution_count": null,
   "id": "94357ce1-29c5-4159-ab8b-fb9610db6ff8",
   "metadata": {},
   "outputs": [],
   "source": [
    "nbce_zs = np.load('anims/nbce_zs.npy')\n",
    "nmse_zs = np.load('anims/nmse_zs.npy')\n",
    "nmlc_zs = np.load('anims/nmlc_zs.npy')\n",
    "nsqr_zs = np.load('anims/nsqr_zs.npy')"
   ]
  },
  {
   "cell_type": "code",
   "execution_count": null,
   "id": "df6fa912-dddf-4a07-93a0-835ca8fd83e1",
   "metadata": {},
   "outputs": [],
   "source": [
    "x_min = g[nbce_zs == min(nbce_zs)][:, 0]\n",
    "y_min = g[nbce_zs == min(nbce_zs)][:, 1]\n",
    "z_min = nbce_zs[nbce_zs == min(nbce_zs)]"
   ]
  },
  {
   "cell_type": "code",
   "execution_count": null,
   "id": "2ed48a45-406c-4d17-abac-731789f706b8",
   "metadata": {},
   "outputs": [],
   "source": [
    "fig = plt.figure(figsize = (15, 30))\n",
    "ax = fig.add_subplot(4, 2, 1, projection = '3d')\n",
    "ax.scatter(xs, ys, nbce_zs, s = 5, c = nbce_zs, cmap = 'viridis')\n",
    "ax.scatter(\n",
    "ax.set_xlabel(r'$a$')\n",
    "ax.set_ylabel(r'$b$')\n",
    "ax.set_title(r'BCE Loss of $\\sigma(ax + b)$')\n",
    "\n",
    "ax = fig.add_subplot(4, 2, 2)\n",
    "ax.scatter(xs, ys, c = nbce_zs, cmap='viridis')\n",
    "ax.set_xlabel(r'$a$')\n",
    "ax.set_ylabel(r'$b$')\n",
    "ax.set_aspect('equal')\n",
    "\n",
    "ax = fig.add_subplot(4, 2, 3, projection = '3d')\n",
    "ax.scatter(xs, ys, nmse_zs, s = 5, c = nmse_zs, cmap = 'viridis')\n",
    "ax.set_xlabel(r'$a$')\n",
    "ax.set_ylabel(r'$b$')\n",
    "ax.set_title(r'MSE Loss of $\\sigma(ax + b)$')\n",
    "\n",
    "ax = fig.add_subplot(4, 2, 4)\n",
    "ax.scatter(xs, ys, c = nmse_zs, cmap='viridis')\n",
    "ax.set_xlabel(r'$a$')\n",
    "ax.set_ylabel(r'$b$')\n",
    "ax.set_aspect('equal')\n",
    "\n",
    "ax = fig.add_subplot(4, 2, 5, projection = '3d')\n",
    "ax.scatter(xs, ys, nmlc_zs, s = 5, c = nmlc_zs, cmap = 'viridis')\n",
    "ax.set_xlabel(r'$a$')\n",
    "ax.set_ylabel(r'$b$')\n",
    "ax.set_title(r'MLC Loss of ${\\rm ReLU}(ax + b)$')\n",
    "\n",
    "ax = fig.add_subplot(4, 2, 6)\n",
    "ax.scatter(xs, ys, c = nmlc_zs, cmap='viridis')\n",
    "ax.set_xlabel(r'$a$')\n",
    "ax.set_ylabel(r'$b$')\n",
    "ax.set_aspect('equal')\n",
    "\n",
    "ax = fig.add_subplot(4, 2, 7, projection = '3d')\n",
    "ax.scatter(xs, ys, nsqr_zs, s = 5, c = nsqr_zs, cmap = 'viridis')\n",
    "ax.set_xlabel(r'$a$')\n",
    "ax.set_ylabel(r'$b$')\n",
    "ax.set_title(r'SQR Loss of ${\\rm ReLU}(ax + b)$')\n",
    "\n",
    "ax = fig.add_subplot(4, 2, 8)\n",
    "ax.scatter(xs, ys, c = nsqr_zs, cmap='viridis')\n",
    "ax.set_xlabel(r'$a$')\n",
    "ax.set_ylabel(r'$b$')\n",
    "ax.set_aspect('equal')"
   ]
  },
  {
   "cell_type": "markdown",
   "id": "d51804f4-303e-4ef5-b2ba-1778ca5bd9fd",
   "metadata": {
    "jp-MarkdownHeadingCollapsed": true,
    "tags": []
   },
   "source": [
    "# Rotating Plots"
   ]
  },
  {
   "cell_type": "code",
   "execution_count": null,
   "id": "8472323c-a96d-4ad0-8188-a2f8b835fdc9",
   "metadata": {},
   "outputs": [],
   "source": [
    "fig = plt.figure(figsize = (8, 8))\n",
    "ax = fig.add_subplot(111, projection = '3d')\n",
    "\n",
    "def init():\n",
    "    ax.scatter(xs, ys, bce_zs, s = 5, c = bce_zs, cmap = 'viridis')\n",
    "    plt.xlabel(r'$a$')\n",
    "    plt.ylabel(r'$b$')\n",
    "    plt.title(r'BCE Loss of $\\sigma(ax + b)$')\n",
    "    return fig,\n",
    "\n",
    "def animate(i):\n",
    "    ax.view_init(elev=30., azim=3.6*i)\n",
    "    return fig,\n",
    "\n",
    "ani = animation.FuncAnimation(fig, animate, init_func=init,\n",
    "                               frames=100, interval=100, blit=False)  \n",
    "ani.save('anims/bce_2.gif')"
   ]
  },
  {
   "cell_type": "code",
   "execution_count": null,
   "id": "d1eb0777-a7be-4051-9463-03c1da44e50f",
   "metadata": {},
   "outputs": [],
   "source": [
    "fig = plt.figure(figsize = (8, 8))\n",
    "ax = fig.add_subplot(111, projection = '3d')\n",
    "\n",
    "def init():\n",
    "    ax.scatter(xs, ys, mse_zs, s = 5, c = mse_zs, cmap = 'viridis')\n",
    "    plt.xlabel(r'$a$')\n",
    "    plt.ylabel(r'$b$')\n",
    "    plt.title(r'MSE Loss of $\\sigma(ax + b)$')\n",
    "    return fig,\n",
    "\n",
    "def animate(i):\n",
    "    ax.view_init(elev=30., azim=3.6*i)\n",
    "    return fig,\n",
    "\n",
    "ani = animation.FuncAnimation(fig, animate, init_func=init,\n",
    "                               frames=100, interval=100, blit=True)  \n",
    "ani.save('anims/mse.gif')"
   ]
  },
  {
   "cell_type": "code",
   "execution_count": null,
   "id": "9a9b3521-a785-4546-bcc5-1c9e90ba7208",
   "metadata": {},
   "outputs": [],
   "source": [
    "fig = plt.figure(figsize = (8, 8))\n",
    "ax = fig.add_subplot(111, projection = '3d')\n",
    "\n",
    "def init():\n",
    "    ax.scatter(xs, ys, mlc_zs, s = 5, c = mlc_zs, cmap = 'viridis')\n",
    "    plt.xlabel(r'$a$')\n",
    "    plt.ylabel(r'$b$')\n",
    "    plt.title(r'MLC Loss of ReLU$(ax + b)$')\n",
    "    return fig,\n",
    "\n",
    "def animate(i):\n",
    "    ax.view_init(elev=30., azim=3.6*i)\n",
    "    return fig,\n",
    "\n",
    "ani = animation.FuncAnimation(fig, animate, init_func=init,\n",
    "                               frames=100, interval=100, blit=True)  \n",
    "ani.save('anims/mlc.gif')"
   ]
  },
  {
   "cell_type": "code",
   "execution_count": null,
   "id": "636dd5c5-142f-48e3-888f-fd9b1ac4b88f",
   "metadata": {},
   "outputs": [],
   "source": [
    "fig = plt.figure(figsize = (8, 8))\n",
    "ax = fig.add_subplot(111, projection = '3d')\n",
    "\n",
    "def init():\n",
    "    ax.scatter(xs, ys, sqr_zs, s = 5, c = sqr_zs, cmap = 'viridis')\n",
    "    plt.xlabel(r'$a$')\n",
    "    plt.ylabel(r'$b$')\n",
    "    plt.title(r'SQR Loss of ReLU$(ax + b)$')\n",
    "    return fig,\n",
    "\n",
    "def animate(i):\n",
    "    ax.view_init(elev=30., azim=3.6*i)\n",
    "    return fig,\n",
    "\n",
    "ani = animation.FuncAnimation(fig, animate, init_func=init,\n",
    "                               frames=100, interval=100, blit=True)  \n",
    "ani.save('anims/sqr.gif')"
   ]
  },
  {
   "cell_type": "markdown",
   "id": "4aab13eb-b049-4837-b720-cfaa4056913c",
   "metadata": {
    "jp-MarkdownHeadingCollapsed": true,
    "tags": []
   },
   "source": [
    "# Static Plots"
   ]
  },
  {
   "cell_type": "code",
   "execution_count": null,
   "id": "ae6c985b-ad77-4929-9713-ff057715d0a2",
   "metadata": {},
   "outputs": [],
   "source": [
    "fig = plt.figure(figsize = (8, 8))\n",
    "ax = fig.add_subplot(projection = '3d')\n",
    "ax.scatter(xs, ys, bce_zs, s = 5, c = bce_zs, cmap = 'viridis')\n",
    "plt.xlabel(r'$a$')\n",
    "plt.ylabel(r'$b$')\n",
    "plt.title(r'BCE Loss of $\\sigma(ax + b)$')\n",
    "\n",
    "#plt.savefig('plots/scratch/bce_landscape_100.png',\n",
    "#            dpi=1200, \n",
    "#            bbox_inches='tight')"
   ]
  },
  {
   "cell_type": "code",
   "execution_count": null,
   "id": "eea797a4-ab31-45a5-8af2-dcfd1519c09e",
   "metadata": {},
   "outputs": [],
   "source": [
    "plt.figure(figsize = (8, 8))\n",
    "plt.scatter(xs, ys, c = bce_zs, cmap='viridis')\n",
    "plt.xlabel(r'$a$')\n",
    "plt.ylabel(r'$b$')\n",
    "plt.gca().set_aspect('equal')\n",
    "plt.title(r'BCE Loss of $\\sigma(ax + b)$')\n",
    "\n",
    "plt.savefig('plots/scratch/bce_landscape_100_flat.png',\n",
    "            dpi=1200, \n",
    "            bbox_inches='tight')"
   ]
  },
  {
   "cell_type": "code",
   "execution_count": null,
   "id": "9c7ffae0-ed4c-497f-ae15-5d0aa939a2e2",
   "metadata": {},
   "outputs": [],
   "source": [
    "fig = plt.figure(figsize = (8, 8))\n",
    "ax = fig.add_subplot(projection = '3d')\n",
    "ax.scatter(xs, ys, mse_zs, s = 5, c = mse_zs, cmap = 'viridis')\n",
    "plt.xlabel(r'$a$')\n",
    "plt.ylabel(r'$b$')\n",
    "plt.title(r'MSE Loss of $\\sigma(ax + b)$')\n",
    "\n",
    "plt.savefig('plots/scratch/mse_landscape_100.png',\n",
    "            dpi=1200, \n",
    "            bbox_inches='tight')"
   ]
  },
  {
   "cell_type": "code",
   "execution_count": null,
   "id": "002d05d5-1441-4c25-89f4-eee9e6c51fcd",
   "metadata": {},
   "outputs": [],
   "source": [
    "plt.figure(figsize = (8, 8))\n",
    "plt.scatter(xs, ys, c = mse_zs, cmap='viridis')\n",
    "plt.xlabel(r'$a$')\n",
    "plt.ylabel(r'$b$')\n",
    "plt.gca().set_aspect('equal')\n",
    "plt.title(r'MSE Loss of $\\sigma(ax + b)$')\n",
    "\n",
    "plt.savefig('plots/scratch/mse_landscape_100_flat.png',\n",
    "            dpi=1200, \n",
    "            bbox_inches='tight')"
   ]
  },
  {
   "cell_type": "code",
   "execution_count": null,
   "id": "c66b10a9-5cbc-45d4-b1ef-e2d0dd20128d",
   "metadata": {},
   "outputs": [],
   "source": [
    "fig = plt.figure(figsize = (8, 8))\n",
    "ax = fig.add_subplot(projection = '3d')\n",
    "ax.scatter(xs, ys, mlc_zs, c = mlc_zs, cmap = 'viridis')\n",
    "plt.xlabel(r'$a$')\n",
    "plt.ylabel(r'$b$')\n",
    "plt.title(r'MLC Loss of ReLU$(ax + b)$')\n",
    "\n",
    "plt.savefig('plots/scratch/mlc_landscape_100.png',\n",
    "            dpi=1200, \n",
    "            bbox_inches='tight')"
   ]
  },
  {
   "cell_type": "code",
   "execution_count": null,
   "id": "9f87aaf9-f7df-460b-a1fa-bd28e58b3881",
   "metadata": {},
   "outputs": [],
   "source": [
    "plt.figure(figsize = (8, 8))\n",
    "plt.scatter(xs, ys, c = mlc_zs, cmap='viridis')\n",
    "plt.xlabel(r'$a$')\n",
    "plt.ylabel(r'$b$')\n",
    "plt.gca().set_aspect('equal')\n",
    "plt.title(r'MLC Loss of ReLU$(ax + b)$')\n",
    "\n",
    "plt.savefig('plots/scratch/mlc_landscape_100_flat.png',\n",
    "            dpi=1200, \n",
    "            bbox_inches='tight')"
   ]
  },
  {
   "cell_type": "code",
   "execution_count": null,
   "id": "d6928445-c8b1-408f-b43c-025866e0ac7c",
   "metadata": {},
   "outputs": [],
   "source": [
    "fig = plt.figure(figsize = (8, 8))\n",
    "ax = fig.add_subplot(projection = '3d')\n",
    "ax.scatter(xs, ys, sqr_zs, c = sqr_zs, cmap = 'viridis')\n",
    "plt.xlabel(r'$a$')\n",
    "plt.ylabel(r'$b$')\n",
    "plt.title(r'SQR Loss of ReLU$(ax + b)$')\n",
    "\n",
    "plt.savefig('plots/scratch/sqr_landscape_100.png',\n",
    "            dpi=1200, \n",
    "            bbox_inches='tight')"
   ]
  },
  {
   "cell_type": "code",
   "execution_count": null,
   "id": "35c14e45-6faf-49e1-a647-b870af571553",
   "metadata": {},
   "outputs": [],
   "source": [
    "plt.figure(figsize = (8, 8))\n",
    "plt.scatter(xs, ys, c = sqr_zs, cmap='viridis')\n",
    "plt.xlabel(r'$a$')\n",
    "plt.ylabel(r'$b$')\n",
    "plt.gca().set_aspect('equal')\n",
    "plt.title(r'SQR Loss of ReLU$(ax + b)$')\n",
    "\n",
    "plt.savefig('plots/scratch/sqr_landscape_100_flat.png',\n",
    "            dpi=1200, \n",
    "            bbox_inches='tight')"
   ]
  },
  {
   "cell_type": "markdown",
   "id": "3cc0d6cc-e49c-4cea-ba87-364df5746f85",
   "metadata": {
    "jp-MarkdownHeadingCollapsed": true,
    "tags": []
   },
   "source": [
    "# Shifting Gaussians"
   ]
  },
  {
   "cell_type": "markdown",
   "id": "bea02910-b664-4d36-a94e-dfc1b1f9d82d",
   "metadata": {
    "jp-MarkdownHeadingCollapsed": true,
    "tags": []
   },
   "source": [
    "## BCE"
   ]
  },
  {
   "cell_type": "code",
   "execution_count": null,
   "id": "8cf92a2e-84fc-4a34-966c-bfa18be359cb",
   "metadata": {},
   "outputs": [],
   "source": [
    "ms = np.arange(0.1, 1.01, 0.01)\n",
    "N = 5 * 10**4\n",
    "\n",
    "i = 0\n",
    "for m in ms:\n",
    "    bkgd = stats.norm.rvs(-m, 1, size = N)\n",
    "    sgnl = stats.norm.rvs(+m, 1, size = N)\n",
    "    X = np.concatenate((bkgd, sgnl))\n",
    "    y = np.concatenate((np.zeros(N), np.ones(N)))\n",
    "\n",
    "    xs = g[:, 0]\n",
    "    ys = g[:, 1]\n",
    "    zs = []\n",
    "    for p in g:\n",
    "        zs += [bce(p[0], p[1])]\n",
    "\n",
    "    fig = plt.figure(figsize = (8, 8))\n",
    "    ax = fig.add_subplot(111, projection = '3d')\n",
    "    ax.scatter(xs, ys, zs, s = 5, c = zs, cmap = 'viridis')\n",
    "    ax.set_zlim(0, 10)\n",
    "    plt.savefig('anims/shift/{}.png'.format(i),\n",
    "                dpi=1200, \n",
    "                bbox_inches='tight')\n",
    "    i += 1"
   ]
  },
  {
   "cell_type": "markdown",
   "id": "ee83e65f-4f45-48be-b009-f3c7c45b4704",
   "metadata": {
    "jp-MarkdownHeadingCollapsed": true,
    "tags": []
   },
   "source": [
    "## MSE"
   ]
  },
  {
   "cell_type": "code",
   "execution_count": null,
   "id": "474d97db-e290-4866-8a45-f7347ee07194",
   "metadata": {},
   "outputs": [],
   "source": [
    "ms = np.arange(0.1, 1.01, 0.01)\n",
    "N = 5 * 10**4\n",
    "\n",
    "i = 0\n",
    "for m in ms:\n",
    "    bkgd = stats.norm.rvs(-m, 1, size = N)\n",
    "    sgnl = stats.norm.rvs(+m, 1, size = N)\n",
    "    X = np.concatenate((bkgd, sgnl))\n",
    "    y = np.concatenate((np.zeros(N), np.ones(N)))\n",
    "\n",
    "    xs = g[:, 0]\n",
    "    ys = g[:, 1]\n",
    "    zs = []\n",
    "    for p in g:\n",
    "        zs += [mse(p[0], p[1])]\n",
    "\n",
    "    fig = plt.figure(figsize = (8, 8))\n",
    "    ax = fig.add_subplot(111, projection = '3d')\n",
    "    ax.scatter(xs, ys, zs, s = 5, c = zs, cmap = 'viridis')\n",
    "    ax.set_zlim(0.2, 1)\n",
    "    plt.savefig('anims/shift/mse/{}.png'.format(i),\n",
    "                dpi=1200, \n",
    "                bbox_inches='tight')\n",
    "    fig.clear()\n",
    "    plt.close(fig)\n",
    "    i += 1"
   ]
  },
  {
   "cell_type": "markdown",
   "id": "b19a86bc-a507-48e5-be23-fc71a6ee8add",
   "metadata": {
    "jp-MarkdownHeadingCollapsed": true,
    "tags": []
   },
   "source": [
    "## MLC"
   ]
  },
  {
   "cell_type": "code",
   "execution_count": null,
   "id": "b94c21a3-ba3e-4da4-bd68-ac757bc6e92d",
   "metadata": {},
   "outputs": [],
   "source": [
    "ms = np.arange(0.1, 1.01, 0.01)\n",
    "N = 5 * 10**4\n",
    "\n",
    "i = 0\n",
    "for m in ms:\n",
    "    bkgd = stats.norm.rvs(-m, 1, size = N)\n",
    "    sgnl = stats.norm.rvs(+m, 1, size = N)\n",
    "    X = np.concatenate((bkgd, sgnl))\n",
    "    y = np.concatenate((np.zeros(N), np.ones(N)))\n",
    "\n",
    "    xs = g[:, 0]\n",
    "    ys = g[:, 1]\n",
    "    zs = []\n",
    "    for p in g:\n",
    "        zs += [mlc(p[0], p[1])]\n",
    "\n",
    "    fig = plt.figure(figsize = (8, 8))\n",
    "    ax = fig.add_subplot(111, projection = '3d')\n",
    "    ax.scatter(xs, ys, zs, s = 5, c = zs, cmap = 'viridis')\n",
    "    ax.set_zlim(0, 38)\n",
    "    plt.savefig('anims/shift/mlc/{}.png'.format(i),\n",
    "                dpi=1200, \n",
    "                bbox_inches='tight')\n",
    "    fig.clear()\n",
    "    plt.close(fig)\n",
    "    i += 1"
   ]
  },
  {
   "cell_type": "markdown",
   "id": "42b00b09-2cf1-40a6-bf83-cfc93dabb6d0",
   "metadata": {
    "jp-MarkdownHeadingCollapsed": true,
    "tags": []
   },
   "source": [
    "## SQR"
   ]
  },
  {
   "cell_type": "code",
   "execution_count": null,
   "id": "3b08b6ae-87ea-4f7d-a783-20c465ec99b0",
   "metadata": {},
   "outputs": [],
   "source": [
    "ms = np.arange(0.1, 1.01, 0.01)\n",
    "N = 5 * 10**4\n",
    "\n",
    "i = 0\n",
    "for m in ms:\n",
    "    bkgd = stats.norm.rvs(-m, 1, size = N)\n",
    "    sgnl = stats.norm.rvs(+m, 1, size = N)\n",
    "    X = np.concatenate((bkgd, sgnl))\n",
    "    y = np.concatenate((np.zeros(N), np.ones(N)))\n",
    "\n",
    "    xs = g[:, 0]\n",
    "    ys = g[:, 1]\n",
    "    zs = []\n",
    "    for p in g:\n",
    "        zs += [sqr(p[0], p[1])]\n",
    "\n",
    "    fig = plt.figure(figsize = (8, 8))\n",
    "    ax = fig.add_subplot(111, projection = '3d')\n",
    "    ax.scatter(xs, ys, zs, s = 5, c = zs, cmap = 'viridis')\n",
    "    ax.set_zlim(0, 70000000)\n",
    "    plt.savefig('anims/shift/sqr/{}.png'.format(i),\n",
    "                dpi=1200, \n",
    "                bbox_inches='tight')\n",
    "    fig.clear()\n",
    "    plt.close(fig)\n",
    "    i += 1"
   ]
  },
  {
   "cell_type": "markdown",
   "id": "fc9614bb-b200-40b5-979c-4a97a2413890",
   "metadata": {
    "jp-MarkdownHeadingCollapsed": true,
    "tags": []
   },
   "source": [
    "# $A/B$ Parametrizations"
   ]
  },
  {
   "cell_type": "markdown",
   "id": "681553b0-0d44-4f53-9122-7762df0c5e01",
   "metadata": {
    "jp-MarkdownHeadingCollapsed": true,
    "tags": []
   },
   "source": [
    "## MSE"
   ]
  },
  {
   "cell_type": "code",
   "execution_count": null,
   "id": "1cac0c1d-f758-4695-84e0-869bee61df2e",
   "metadata": {},
   "outputs": [],
   "source": [
    "ps = np.arange(-2, 2, 0.05)\n",
    "N = 5 * 10**4\n",
    "\n",
    "i = 0\n",
    "for p in ps:\n",
    "    bkgd = stats.norm.rvs(-1, 1, size = N)\n",
    "    sgnl = stats.norm.rvs(+1, 1, size = N)\n",
    "    X = np.concatenate((bkgd, sgnl))\n",
    "    y = np.concatenate((np.zeros(N), np.ones(N)))\n",
    "\n",
    "    xs = g[:, 0]\n",
    "    ys = g[:, 1]\n",
    "    zs = []\n",
    "    for pt in g:\n",
    "        zs += [mse_p(pt[0], pt[1], p)]\n",
    "\n",
    "    fig = plt.figure(figsize = (8, 8))\n",
    "    ax = fig.add_subplot(111, projection = '3d')\n",
    "    ax.scatter(xs, ys, zs, s = 5, c = zs, cmap = 'viridis')\n",
    "    ax.set_zlim(0.2, 5)\n",
    "    plt.savefig('anims/mse_ab/{}.png'.format(i),\n",
    "                dpi=1200, \n",
    "                bbox_inches='tight')\n",
    "    fig.clear()\n",
    "    plt.close(fig)\n",
    "    i += 1"
   ]
  },
  {
   "cell_type": "markdown",
   "id": "1c2d80dc-1727-446e-a0b3-92d2b6dc13fa",
   "metadata": {
    "jp-MarkdownHeadingCollapsed": true,
    "tags": []
   },
   "source": [
    "## SQR"
   ]
  },
  {
   "cell_type": "code",
   "execution_count": null,
   "id": "3effd1ac-856c-458e-b683-1ff940cef36b",
   "metadata": {},
   "outputs": [],
   "source": [
    "rs = np.arange(-2, 2, 0.05)\n",
    "N = 5 * 10**4\n",
    "\n",
    "i = 0\n",
    "for r in rs:\n",
    "    bkgd = stats.norm.rvs(-1, 1, size = N)\n",
    "    sgnl = stats.norm.rvs(+1, 1, size = N)\n",
    "    X = np.concatenate((bkgd, sgnl))\n",
    "    y = np.concatenate((np.zeros(N), np.ones(N)))\n",
    "\n",
    "    xs = g[:, 0]\n",
    "    ys = g[:, 1]\n",
    "    zs = []\n",
    "    for pt in g:\n",
    "        zs += [sqr_r(pt[0], pt[1], r)]\n",
    "\n",
    "    fig = plt.figure(figsize = (8, 8))\n",
    "    ax = fig.add_subplot(111, projection = '3d')\n",
    "    ax.scatter(xs, ys, zs, s = 5, c = zs, cmap = 'viridis')\n",
    "    ax.set_xlim(-7, 7)\n",
    "    ax.set_ylim(-7, 7)\n",
    "    ax.set_zlim(0, 70000000)\n",
    "    plt.savefig('anims/sqr_ab/{}.png'.format(i),\n",
    "                dpi=1200, \n",
    "                bbox_inches='tight')\n",
    "    fig.clear()\n",
    "    plt.close(fig)\n",
    "    i += 1"
   ]
  },
  {
   "cell_type": "markdown",
   "id": "686dc56f-597b-471e-8f01-de1caf31638b",
   "metadata": {
    "jp-MarkdownHeadingCollapsed": true,
    "tags": []
   },
   "source": [
    "# $C$ Parametrizations"
   ]
  },
  {
   "cell_type": "markdown",
   "id": "2a44ebe7-75d1-4343-8400-07c170fc9cc9",
   "metadata": {},
   "source": [
    "## MLC"
   ]
  },
  {
   "cell_type": "code",
   "execution_count": null,
   "id": "1ca01b3f-57b1-49d1-85fd-fe1118334c40",
   "metadata": {},
   "outputs": [],
   "source": [
    "fig = plt.figure(figsize = (8, 8))\n",
    "ax = fig.add_subplot(111, projection = '3d')\n",
    "\n",
    "def init():\n",
    "    ax.scatter(xs, ys, exp_mlc_zs, s = 5, c = exp_mlc_zs, cmap = 'viridis')\n",
    "    ax.set_zlim(0, 10)\n",
    "    plt.xlabel(r'$a$')\n",
    "    plt.ylabel(r'$b$')\n",
    "    plt.title(r'Exp MLC Loss of ReLU$(ax + b)$')\n",
    "    return fig,\n",
    "\n",
    "def animate(i):\n",
    "    ax.view_init(elev=30., azim=3.6*i)\n",
    "    return fig,\n",
    "\n",
    "ani = animation.FuncAnimation(fig, animate, init_func=init,\n",
    "                               frames=100, interval=100, blit=True)  \n",
    "ani.save('anims/exp_mlc_2.gif')"
   ]
  },
  {
   "cell_type": "markdown",
   "id": "93292cf1-5715-4851-a265-acc27ee56273",
   "metadata": {},
   "source": [
    "## SQR"
   ]
  },
  {
   "cell_type": "code",
   "execution_count": null,
   "id": "7dcaa91e-b5ab-4b2b-8e21-af2055d31c31",
   "metadata": {},
   "outputs": [],
   "source": [
    "fig = plt.figure(figsize = (8, 8))\n",
    "ax = fig.add_subplot(111, projection = '3d')\n",
    "\n",
    "def init():\n",
    "    ax.scatter(xs, ys, exp_sqr_zs, s = 5, c = exp_sqr_zs, cmap = 'viridis')\n",
    "    ax.set_zlim(1.5, 6)\n",
    "    plt.xlabel(r'$a$')\n",
    "    plt.ylabel(r'$b$')\n",
    "    plt.title(r'Exp SQR Loss of ReLU$(ax + b)$')\n",
    "    return fig,\n",
    "\n",
    "def animate(i):\n",
    "    ax.view_init(elev=30., azim=3.6*i)\n",
    "    return fig,\n",
    "\n",
    "ani = animation.FuncAnimation(fig, animate, init_func=init,\n",
    "                               frames=100, interval=100, blit=True)  \n",
    "ani.save('anims/exp_sqr_2.gif')"
   ]
  },
  {
   "cell_type": "markdown",
   "id": "e0b09bc0-7e5f-42a6-9977-a0e063f555b3",
   "metadata": {
    "jp-MarkdownHeadingCollapsed": true,
    "tags": []
   },
   "source": [
    "# Gamma Landscapes"
   ]
  },
  {
   "cell_type": "code",
   "execution_count": null,
   "id": "2ea479a6-b163-4a27-a7fd-7fb290cadfc3",
   "metadata": {},
   "outputs": [],
   "source": [
    "N = 5 * 10**3\n",
    "bkgd = stats.gamma.rvs(5, 1, size = N)\n",
    "sgnl = stats.gamma.rvs(6, 1, size = N)\n",
    "X = np.concatenate((bkgd, sgnl))\n",
    "y = np.concatenate((np.zeros(N), np.ones(N)))"
   ]
  },
  {
   "cell_type": "code",
   "execution_count": null,
   "id": "b4e17b8f-2f7d-45ab-a2d0-0f378636c96a",
   "metadata": {},
   "outputs": [],
   "source": [
    "%%time\n",
    "\n",
    "xs = g[:, 0]\n",
    "ys = g[:, 1]\n",
    "bce_zs = []\n",
    "mse_zs = []\n",
    "mlc_zs = []\n",
    "sqr_zs = []\n",
    "i = 0\n",
    "for p in g:\n",
    "    bce_zs += [bce(p[0], p[1])]\n",
    "    mse_zs += [mse(p[0], p[1])]\n",
    "    mlc_zs += [mlc(p[0], p[1])]\n",
    "    sqr_zs += [sqr(p[0], p[1])]\n",
    "    if i % 100 == 0:\n",
    "        print(i, ':', bce_zs[-1], mse_zs[-1], mlc_zs[-1], sqr_zs[-1]) \n",
    "    i += 1"
   ]
  },
  {
   "cell_type": "code",
   "execution_count": null,
   "id": "78cb1205-651a-4bf9-8b31-77f61b1615ea",
   "metadata": {},
   "outputs": [],
   "source": [
    "fig = plt.figure(figsize = (16, 15))\n",
    "ax = fig.add_subplot(2, 2, 1, projection = '3d')\n",
    "ax.scatter(xs, ys, bce_zs, s = 5, c = bce_zs, cmap = 'viridis')\n",
    "ax.set_xlabel(r'$a$')\n",
    "ax.set_ylabel(r'$b$')\n",
    "\n",
    "\n",
    "ax = fig.add_subplot(2, 2, 2)\n",
    "ax.scatter(xs, ys, c = bce_zs, cmap='viridis')\n",
    "ax.set_xlabel(r'$a$')\n",
    "ax.set_ylabel(r'$b$')\n",
    "ax.set_aspect('equal')\n",
    "\n",
    "fig.suptitle(r'BCE Loss of $\\sigma(ax + b)$', y = 0.92)\n",
    "plt.savefig('plots/bce_gammas.png', \n",
    "            dpi=1200, \n",
    "            bbox_inches='tight')"
   ]
  },
  {
   "cell_type": "code",
   "execution_count": null,
   "id": "46c71ad2-f0ca-44dd-af67-d1507179d3b4",
   "metadata": {},
   "outputs": [],
   "source": [
    "fig = plt.figure(figsize = (16, 15))\n",
    "ax = fig.add_subplot(2, 2, 1, projection = '3d')\n",
    "ax.scatter(xs, ys, mse_zs, s = 5, c = mse_zs, cmap = 'viridis')\n",
    "ax.set_xlabel(r'$a$')\n",
    "ax.set_ylabel(r'$b$')\n",
    "\n",
    "\n",
    "ax = fig.add_subplot(2, 2, 2)\n",
    "ax.scatter(xs, ys, c = mse_zs, cmap='viridis')\n",
    "ax.set_xlabel(r'$a$')\n",
    "ax.set_ylabel(r'$b$')\n",
    "ax.set_aspect('equal')\n",
    "\n",
    "fig.suptitle(r'MSE Loss of $\\sigma(ax + b)$', y = 0.92)\n",
    "plt.savefig('plots/mse_gammas.png', \n",
    "            dpi=1200, \n",
    "            bbox_inches='tight')"
   ]
  },
  {
   "cell_type": "code",
   "execution_count": null,
   "id": "df8e52d7-97b6-4ac3-8594-31eb68f32964",
   "metadata": {},
   "outputs": [],
   "source": [
    "fig = plt.figure(figsize = (16, 15))\n",
    "ax = fig.add_subplot(2, 2, 1, projection = '3d')\n",
    "ax.scatter(xs, ys, mlc_zs, s = 5, c = mlc_zs, cmap = 'viridis')\n",
    "ax.set_xlabel(r'$a$')\n",
    "ax.set_ylabel(r'$b$')\n",
    "\n",
    "\n",
    "ax = fig.add_subplot(2, 2, 2)\n",
    "ax.scatter(xs, ys, c = mlc_zs, cmap='viridis')\n",
    "ax.set_xlabel(r'$a$')\n",
    "ax.set_ylabel(r'$b$')\n",
    "ax.set_aspect('equal')\n",
    "\n",
    "fig.suptitle(r'MLC Loss of ReLU$(ax + b)$', y = 0.92)\n",
    "plt.savefig('plots/mlc_gammas.png', \n",
    "            dpi=1200, \n",
    "            bbox_inches='tight')"
   ]
  },
  {
   "cell_type": "code",
   "execution_count": null,
   "id": "f29be2f2-f349-48e9-a151-bc8132d8fbcd",
   "metadata": {},
   "outputs": [],
   "source": [
    "fig = plt.figure(figsize = (16, 15))\n",
    "ax = fig.add_subplot(2, 2, 1, projection = '3d')\n",
    "ax.scatter(xs, ys, sqr_zs, s = 5, c = sqr_zs, cmap = 'viridis')\n",
    "ax.set_xlabel(r'$a$')\n",
    "ax.set_ylabel(r'$b$')\n",
    "\n",
    "\n",
    "ax = fig.add_subplot(2, 2, 2)\n",
    "ax.scatter(xs, ys, c = sqr_zs, cmap='viridis')\n",
    "ax.set_xlabel(r'$a$')\n",
    "ax.set_ylabel(r'$b$')\n",
    "ax.set_aspect('equal')\n",
    "\n",
    "fig.suptitle(r'SQR Loss of ReLU$(ax + b)$', y = 0.92)\n",
    "plt.savefig('plots/sqr_gammas.png', \n",
    "            dpi=1200, \n",
    "            bbox_inches='tight')"
   ]
  },
  {
   "cell_type": "markdown",
   "id": "2dfdb82d-9508-4b7b-836f-4d4a87632fad",
   "metadata": {
    "jp-MarkdownHeadingCollapsed": true,
    "tags": []
   },
   "source": [
    "# Betas"
   ]
  },
  {
   "cell_type": "code",
   "execution_count": null,
   "id": "9c63bca6-74eb-489e-98db-ddb264f13f32",
   "metadata": {},
   "outputs": [],
   "source": [
    "N = 5 * 10**3\n",
    "bkgd = stats.beta.rvs(2, 3, size = N)\n",
    "sgnl = stats.beta.rvs(3, 2, size = N)\n",
    "X = np.concatenate((bkgd, sgnl))\n",
    "y = np.concatenate((np.zeros(N), np.ones(N)))\n",
    "\n",
    "g = np.meshgrid(np.linspace(-2, 2, 200), np.linspace(-2, 2, 200))\n",
    "g = np.append(g[0].reshape(-1,1),g[1].reshape(-1,1),axis = 1)"
   ]
  },
  {
   "cell_type": "code",
   "execution_count": null,
   "id": "e16a90ac-71f4-406c-b7a0-42808af5d292",
   "metadata": {},
   "outputs": [],
   "source": [
    "%%time\n",
    "\n",
    "xs = g[:, 0]\n",
    "ys = g[:, 1]\n",
    "bce_zs = []\n",
    "mse_zs = []\n",
    "mlc_zs = []\n",
    "sqr_zs = []\n",
    "i = 0\n",
    "for p in g:\n",
    "    bce_zs += [bce(p[0], p[1])]\n",
    "    mse_zs += [mse(p[0], p[1])]\n",
    "    mlc_zs += [mlc(p[0], p[1])]\n",
    "    sqr_zs += [sqr(p[0], p[1])]\n",
    "    if i % 100 == 0:\n",
    "        print(i, ':', bce_zs[-1], mse_zs[-1], mlc_zs[-1], sqr_zs[-1]) \n",
    "    i += 1"
   ]
  },
  {
   "cell_type": "code",
   "execution_count": null,
   "id": "f048d576-4137-4262-8b84-122688da326f",
   "metadata": {},
   "outputs": [],
   "source": [
    "fig = plt.figure(figsize = (16, 15))\n",
    "ax = fig.add_subplot(2, 2, 1, projection = '3d')\n",
    "ax.scatter(xs, ys, bce_zs, s = 5, c = bce_zs, cmap = 'viridis')\n",
    "ax.set_xlabel(r'$a$')\n",
    "ax.set_ylabel(r'$b$')\n",
    "\n",
    "\n",
    "ax = fig.add_subplot(2, 2, 2)\n",
    "ax.scatter(xs, ys, c = bce_zs, cmap='viridis')\n",
    "ax.set_xlabel(r'$a$')\n",
    "ax.set_ylabel(r'$b$')\n",
    "ax.set_aspect('equal')\n",
    "\n",
    "fig.suptitle(r'BCE Loss of $\\sigma(ax + b)$', y = 0.92)\n",
    "plt.savefig('plots/bce_betas.png', \n",
    "            dpi=1200, \n",
    "            bbox_inches='tight')"
   ]
  },
  {
   "cell_type": "code",
   "execution_count": null,
   "id": "32f8127a-b9a9-4958-87cc-ab916237011f",
   "metadata": {},
   "outputs": [],
   "source": [
    "fig = plt.figure(figsize = (16, 15))\n",
    "ax = fig.add_subplot(2, 2, 1, projection = '3d')\n",
    "ax.scatter(xs, ys, mse_zs, s = 5, c = mse_zs, cmap = 'viridis')\n",
    "ax.set_xlabel(r'$a$')\n",
    "ax.set_ylabel(r'$b$')\n",
    "\n",
    "\n",
    "ax = fig.add_subplot(2, 2, 2)\n",
    "ax.scatter(xs, ys, c = mse_zs, cmap='viridis')\n",
    "ax.set_xlabel(r'$a$')\n",
    "ax.set_ylabel(r'$b$')\n",
    "ax.set_aspect('equal')\n",
    "\n",
    "fig.suptitle(r'MSE Loss of $\\sigma(ax + b)$', y = 0.92)\n",
    "plt.savefig('plots/mse_betas.png', \n",
    "            dpi=1200, \n",
    "            bbox_inches='tight')"
   ]
  },
  {
   "cell_type": "code",
   "execution_count": null,
   "id": "c7e0c2bf-06e5-47f1-b319-acd169c79cc9",
   "metadata": {},
   "outputs": [],
   "source": [
    "fig = plt.figure(figsize = (16, 15))\n",
    "ax = fig.add_subplot(2, 2, 1, projection = '3d')\n",
    "ax.scatter(xs, ys, mlc_zs, s = 5, c = mlc_zs, cmap = 'viridis')\n",
    "ax.set_xlabel(r'$a$')\n",
    "ax.set_ylabel(r'$b$')\n",
    "\n",
    "\n",
    "ax = fig.add_subplot(2, 2, 2)\n",
    "ax.scatter(xs, ys, c = mlc_zs, cmap='viridis')\n",
    "ax.set_xlabel(r'$a$')\n",
    "ax.set_ylabel(r'$b$')\n",
    "ax.set_aspect('equal')\n",
    "\n",
    "fig.suptitle(r'MLC Loss of ReLU$(ax + b)$', y = 0.92)\n",
    "plt.savefig('plots/mlc_betas.png', \n",
    "            dpi=1200, \n",
    "            bbox_inches='tight')"
   ]
  },
  {
   "cell_type": "code",
   "execution_count": null,
   "id": "e5387c4c-64ce-40ed-b95c-82364ec69e50",
   "metadata": {},
   "outputs": [],
   "source": [
    "fig = plt.figure(figsize = (16, 15))\n",
    "ax = fig.add_subplot(2, 2, 1, projection = '3d')\n",
    "ax.scatter(xs, ys, sqr_zs, s = 5, c = sqr_zs, cmap = 'viridis')\n",
    "ax.set_xlabel(r'$a$')\n",
    "ax.set_ylabel(r'$b$')\n",
    "\n",
    "\n",
    "ax = fig.add_subplot(2, 2, 2)\n",
    "ax.scatter(xs, ys, c = sqr_zs, cmap='viridis')\n",
    "ax.set_xlabel(r'$a$')\n",
    "ax.set_ylabel(r'$b$')\n",
    "ax.set_aspect('equal')\n",
    "\n",
    "fig.suptitle(r'SQR Loss of ReLU$(ax + b)$', y = 0.92)\n",
    "plt.savefig('plots/sqr_betas.png', \n",
    "            dpi=1200, \n",
    "            bbox_inches='tight')"
   ]
  },
  {
   "cell_type": "markdown",
   "id": "be6d34bf-aa53-4fba-8042-8fa1ccd64704",
   "metadata": {
    "jp-MarkdownHeadingCollapsed": true,
    "tags": []
   },
   "source": [
    "# Scratch"
   ]
  },
  {
   "cell_type": "code",
   "execution_count": null,
   "id": "c10a9069-42ad-44b8-b67a-bd182dc68442",
   "metadata": {},
   "outputs": [],
   "source": [
    "import numpy as np\n",
    "from scipy import stats\n",
    "from scipy import integrate\n",
    "import matplotlib.pyplot as plt"
   ]
  },
  {
   "cell_type": "code",
   "execution_count": null,
   "id": "06dc5545-84d6-42f7-8d55-9f8928e7c766",
   "metadata": {},
   "outputs": [],
   "source": [
    "bkgd = stats.norm(-0.1, 1)\n",
    "sgnl = stats.norm(+0.1, 1)\n",
    "#eps = np.finfo(float).eps\n",
    "eps = 1e-7"
   ]
  },
  {
   "cell_type": "code",
   "execution_count": null,
   "id": "1873a9d8-a828-4b47-8227-049ef52c8c7a",
   "metadata": {},
   "outputs": [],
   "source": [
    "def sig(x):\n",
    "    return 1 / (1 + np.exp(-x))\n",
    "\n",
    "def relu(x):\n",
    "    return np.maximum(0, x)"
   ]
  },
  {
   "cell_type": "code",
   "execution_count": null,
   "id": "51a53de9-8412-4aab-8636-2d04af753f55",
   "metadata": {},
   "outputs": [],
   "source": [
    "# Numerical estimation of losses\n",
    "\n",
    "bkgd = stats.norm(-0.1, 1)\n",
    "sgnl = stats.norm(+0.1, 1)\n",
    "\n",
    "@np.vectorize\n",
    "def nbce(a, b):\n",
    "    g = lambda x: -(sgnl.pdf(x) * np.log(sig(a*x + b) + eps) + \\\n",
    "                    bkgd.pdf(x) * np.log(1 - sig(a*x + b) + eps) )\n",
    "    return integrate.quad(g, -np.inf, np.inf)[0]\n",
    "\n",
    "@np.vectorize\n",
    "def nmse(a, b):\n",
    "    g = lambda x: -(sgnl.pdf(x) * -(1 - sig(a*x + b))**2 + \\\n",
    "                    bkgd.pdf(x) * -(sig(a*x + b)**2) )\n",
    "    return integrate.quad(g, -np.inf, np.inf)[0]\n",
    "\n",
    "@np.vectorize\n",
    "def nmlc(a, b):\n",
    "    g = lambda x: -(sgnl.pdf(x) * np.log(relu(a*x + b) + eps) + \\\n",
    "                    bkgd.pdf(x) * (1 - relu(a*x + b)) )\n",
    "    return integrate.quad(g, -np.inf, np.inf)[0]\n",
    "\n",
    "@np.vectorize\n",
    "def nsqr(a, b):\n",
    "    g = lambda x: -(sgnl.pdf(x) * -1 / (relu(a*x + b) + eps)**0.5 + \\\n",
    "                    bkgd.pdf(x) * -relu(a*x + b)**0.5 )\n",
    "    return integrate.quad(g, -np.inf, np.inf)[0]\n",
    "\n",
    "def vbce(a, b):\n",
    "    g = lambda x: -(sgnl.pdf(x) * np.log(sig(a*x + b) + eps) + \\\n",
    "                    bkgd.pdf(x) * np.log(1 - sig(a*x + b) + eps) )\n",
    "    return integrate.quad_vec(g, -np.inf, np.inf)[0]\n",
    "\n",
    "def vmse(a, b):\n",
    "    g = lambda x: -(sgnl.pdf(x) * -(1 - sig(a*x + b))**2 + \\\n",
    "                    bkgd.pdf(x) * -(sig(a*x + b)**2) )\n",
    "    return integrate.quad_vec(g, -np.inf, np.inf)[0]\n",
    "\n",
    "def vmlc(a, b):\n",
    "    g = lambda x: -(sgnl.pdf(x) * np.log(relu(a*x + b) + eps) + \\\n",
    "                    bkgd.pdf(x) * (1 - relu(a*x + b)) )\n",
    "    return integrate.quad_vec(g, -np.inf, np.inf)[0]\n",
    "\n",
    "def vsqr(a, b):\n",
    "    g = lambda x: -(sgnl.pdf(x) * -1 / (relu(a*x + b) + eps)**0.5 + \\\n",
    "                    bkgd.pdf(x) * -relu(a*x + b)**0.5 )\n",
    "    return integrate.quad_vec(g, -np.inf, np.inf)[0]"
   ]
  },
  {
   "cell_type": "code",
   "execution_count": null,
   "id": "144673ae-ec50-4f8d-9c6f-9965ed0bd9d5",
   "metadata": {},
   "outputs": [],
   "source": [
    "aa, bb = np.meshgrid(np.linspace(-1.5, 1.5, 21), np.linspace(-1.5, 1.5, 21))"
   ]
  },
  {
   "cell_type": "code",
   "execution_count": null,
   "id": "f2d99401-0b71-4913-8d2d-c043a9c3e911",
   "metadata": {},
   "outputs": [],
   "source": [
    "vvc = vbce(aa, bb)\n",
    "vvs = vmse(aa, bb)\n",
    "vvl = vmlc(aa, bb)\n",
    "vvq = vsqr(aa, bb)"
   ]
  },
  {
   "cell_type": "code",
   "execution_count": null,
   "id": "a7a84c6c-70fb-49a7-8964-0e4e7f767de2",
   "metadata": {},
   "outputs": [],
   "source": [
    "nnc = nbce(aa, bb)\n",
    "nns = nmse(aa, bb)\n",
    "nnl = nmlc(aa, bb)\n",
    "nnq = nsqr(aa, bb)"
   ]
  },
  {
   "cell_type": "code",
   "execution_count": null,
   "id": "8769ec9a-ea31-4148-acef-e9c05fb2a1ce",
   "metadata": {},
   "outputs": [],
   "source": [
    "np.max(vvc - nnc), np.max(vvs - nns), np.max(vvl - nnl), np.max(vvq - nnq)"
   ]
  },
  {
   "cell_type": "markdown",
   "id": "054cc3df-e41e-4f59-9df1-2a2ae0c8d110",
   "metadata": {
    "jp-MarkdownHeadingCollapsed": true,
    "tags": []
   },
   "source": [
    "# The Issue\n"
   ]
  },
  {
   "cell_type": "code",
   "execution_count": null,
   "id": "7dacf3d1-f8b2-482b-9a50-2241c1e1634e",
   "metadata": {},
   "outputs": [],
   "source": [
    "eps = np.finfo(float).eps"
   ]
  },
  {
   "cell_type": "code",
   "execution_count": null,
   "id": "8acd8585-ba27-4787-b254-01c8e985aa2c",
   "metadata": {},
   "outputs": [],
   "source": [
    "fa = 0.19\n",
    "fb = 1.02\n",
    "f = lambda x: -(sgnl.pdf(x) * -1 / (relu(fa*x + fb) + eps)**0.5 + \\\n",
    "                bkgd.pdf(x) * -relu(fa*x + fb)**0.5 )"
   ]
  },
  {
   "cell_type": "code",
   "execution_count": null,
   "id": "052e555e-3b0f-4d25-b996-748665c0c240",
   "metadata": {},
   "outputs": [],
   "source": [
    "ha = 0.15\n",
    "hb = 1.02\n",
    "h = lambda x: -(sgnl.pdf(x) * -1 / (relu(ha*x + hb) + eps)**0.5 + \\\n",
    "                bkgd.pdf(x) * -relu(ha*x + hb)**0.5 )"
   ]
  },
  {
   "cell_type": "code",
   "execution_count": null,
   "id": "0c8edf1f-1a24-43e8-9035-1f96032d9558",
   "metadata": {},
   "outputs": [],
   "source": [
    "xs = np.linspace(-7, 7, 1000)\n",
    "plt.plot(xs, f(xs), label = 'f')\n",
    "plt.plot(xs, h(xs), label = 'h')\n",
    "plt.legend();"
   ]
  },
  {
   "cell_type": "code",
   "execution_count": null,
   "id": "79ca5d3b-1d34-4bdb-8c29-c3d15b874e6e",
   "metadata": {},
   "outputs": [],
   "source": [
    "-hb / ha"
   ]
  },
  {
   "cell_type": "code",
   "execution_count": null,
   "id": "ae52f42f-e77e-498c-9b2f-fbbb55e1bae8",
   "metadata": {},
   "outputs": [],
   "source": [
    "-fb / fa"
   ]
  },
  {
   "cell_type": "code",
   "execution_count": null,
   "id": "1d787744-ed5e-41da-9276-990400bbe90b",
   "metadata": {},
   "outputs": [],
   "source": [
    "x = xs[f(xs) == np.max(f(xs))]"
   ]
  },
  {
   "cell_type": "code",
   "execution_count": null,
   "id": "66963297-a93f-4a8c-afaf-893dc18a285e",
   "metadata": {},
   "outputs": [],
   "source": [
    "x"
   ]
  },
  {
   "cell_type": "code",
   "execution_count": null,
   "id": "0a84dce3-0eba-45d5-9b50-c2c4adb11d30",
   "metadata": {},
   "outputs": [],
   "source": [
    "sgnl.pdf(x)"
   ]
  },
  {
   "cell_type": "code",
   "execution_count": null,
   "id": "d4a370de-3363-4aae-b618-b1d78baeeb3a",
   "metadata": {},
   "outputs": [],
   "source": [
    "1 / (relu(ha*x + hb) + eps)**0.5"
   ]
  },
  {
   "cell_type": "code",
   "execution_count": null,
   "id": "6d960731-c9d4-47bc-aa1a-83778e068218",
   "metadata": {},
   "outputs": [],
   "source": [
    "1 / (relu(fa*x + fb) + eps)**0.5"
   ]
  },
  {
   "cell_type": "code",
   "execution_count": null,
   "id": "60fc1180-93c7-40a3-87a5-d35d8abbc4a8",
   "metadata": {},
   "outputs": [],
   "source": [
    "eps = 1e-11"
   ]
  },
  {
   "cell_type": "code",
   "execution_count": null,
   "id": "e214f26a-04cf-4b8e-921c-24343d9a8d33",
   "metadata": {},
   "outputs": [],
   "source": [
    "xs = np.linspace(-7, 7, 1000)\n",
    "plt.plot(xs, f(xs), label = 'f')\n",
    "plt.plot(xs, h(xs), label = 'h')\n",
    "plt.legend();"
   ]
  },
  {
   "cell_type": "markdown",
   "id": "43b4fda2-0588-449b-84bc-9c35b8c846fe",
   "metadata": {
    "jp-MarkdownHeadingCollapsed": true,
    "tags": []
   },
   "source": [
    "# Vectorization"
   ]
  },
  {
   "cell_type": "markdown",
   "id": "343e87ca-6ad5-4955-a9fc-555b759da7cd",
   "metadata": {
    "jp-MarkdownHeadingCollapsed": true,
    "tags": []
   },
   "source": [
    "## Method 1: Numpy Vectorization"
   ]
  },
  {
   "cell_type": "markdown",
   "id": "5e6b32fd-c872-41bb-8a93-b0b786075646",
   "metadata": {},
   "source": [
    "A one-dimensional example."
   ]
  },
  {
   "cell_type": "code",
   "execution_count": null,
   "id": "8e3c623a-d52c-4686-8622-76ed6dbb2baf",
   "metadata": {},
   "outputs": [],
   "source": [
    "fun2int = lambda x, a: np.sqrt(x+a)\n",
    "intfun = lambda a: integrate.quad(fun2int, 0, 4, args=(a))[0]\n",
    "vec_int = np.vectorize(intfun)\n",
    "vec_int(np.linspace(0,2,5))"
   ]
  },
  {
   "cell_type": "markdown",
   "id": "1402f1be-d5f6-4808-9541-be51a4a568b9",
   "metadata": {},
   "source": [
    "While this doesn't speed up performance, it is convenient. It also allows for interval modifying based on the input."
   ]
  },
  {
   "cell_type": "code",
   "execution_count": null,
   "id": "717dc246-c437-4c1e-8951-be2d3ef7ccda",
   "metadata": {},
   "outputs": [],
   "source": [
    "j = lambda x, a, b: -(sgnl.pdf(x) * -1 / (relu(a*x + b) + eps)**0.5 + \\\n",
    "                      bkgd.pdf(x) * -relu(a*x + b)**0.5 )\n",
    "t = lambda a, b: integrate.quad(j, a == 0 and -np.inf or -b/a, np.inf, args=(a, b))[0]\n",
    "vec_t = np.vectorize(t)"
   ]
  },
  {
   "cell_type": "code",
   "execution_count": null,
   "id": "2573342e-53d4-462f-ab8f-7789580784de",
   "metadata": {},
   "outputs": [],
   "source": [
    "vec_t([-1, 0, 1], [0, 1, 2])"
   ]
  },
  {
   "cell_type": "code",
   "execution_count": null,
   "id": "8eb1256a-fade-4a4a-9a14-67a65985fa24",
   "metadata": {},
   "outputs": [],
   "source": [
    "vec_t([-1, 0, 1], 0)"
   ]
  },
  {
   "cell_type": "code",
   "execution_count": null,
   "id": "794b67b5-efe7-45a0-b1e4-f40723e3ac96",
   "metadata": {},
   "outputs": [],
   "source": [
    "vec_t([-1, 0, 1], 1)"
   ]
  },
  {
   "cell_type": "code",
   "execution_count": null,
   "id": "42642b13-3af2-4b1d-95b1-efde1c0b491c",
   "metadata": {},
   "outputs": [],
   "source": [
    "vec_t([-1, 0, 1], 2)"
   ]
  },
  {
   "cell_type": "code",
   "execution_count": null,
   "id": "fb19aeca-fa90-4067-bbf1-4db7e03ee05a",
   "metadata": {},
   "outputs": [],
   "source": [
    "vec_t([[-1, 0, 1], [-1, 0, 1]], [[-1, -1, -1], [0, 0, 0]])"
   ]
  },
  {
   "cell_type": "code",
   "execution_count": null,
   "id": "4002b1a3-5851-4102-abac-e94a9bfed748",
   "metadata": {},
   "outputs": [],
   "source": [
    "X, Y = np.meshgrid(np.linspace(-1.5, 1.5, 11), np.linspace(-1.5, 1.5, 11))\n",
    "#g = np.round(np.append(g[0].reshape(-1, 1), g[1].reshape(-1, 1), axis = 1), 3)"
   ]
  },
  {
   "cell_type": "code",
   "execution_count": null,
   "id": "584689ec-cec3-4989-9697-8f6be075c9e9",
   "metadata": {},
   "outputs": [],
   "source": [
    "plt.contour(X, Y, vec_t(X, Y))"
   ]
  },
  {
   "cell_type": "markdown",
   "id": "94d21284-bc49-4fc7-80c8-4e602ec20e7e",
   "metadata": {
    "tags": []
   },
   "source": [
    "## Method 2: quad_vec"
   ]
  },
  {
   "cell_type": "markdown",
   "id": "9b0905f0-cd76-4717-a4e8-86d616b23268",
   "metadata": {},
   "source": [
    "This results in a speed-up, but it doesn't allow us to modify the interval based on the values of $a$ and $b$. We would have to tune epsilon instead."
   ]
  },
  {
   "cell_type": "code",
   "execution_count": null,
   "id": "82b1741a-3e25-4f58-ada3-2ccb4a4591dd",
   "metadata": {},
   "outputs": [],
   "source": [
    "np.array([[a, b] for a in [-1, 0, 1] for b in [-1, 0, 1]]).reshape(-1)"
   ]
  },
  {
   "cell_type": "code",
   "execution_count": null,
   "id": "4c798ec2-de9d-4733-b02c-421b08dab755",
   "metadata": {},
   "outputs": [],
   "source": [
    "aa = [-1, 0, 1]\n",
    "bb = [-1, 0, 1]\n",
    "f = lambda x: np.array([bkgd.pdf(x) * -relu(a*x + b)**0.5 for a in aa for b in bb])"
   ]
  },
  {
   "cell_type": "code",
   "execution_count": null,
   "id": "31c1d23b-d5c0-423c-8053-d11d152233c9",
   "metadata": {},
   "outputs": [],
   "source": [
    "integrate.quad_vec(f, -np.inf, np.inf)"
   ]
  },
  {
   "cell_type": "code",
   "execution_count": null,
   "id": "09040bcd-e702-4330-99b4-a287f13993a4",
   "metadata": {},
   "outputs": [],
   "source": [
    "a, b = np.meshgrid([-1, 0, 1], [-1, 0, 1])\n",
    "f = lambda x: 1 / (1 + np.exp(a*x**2 + b))"
   ]
  },
  {
   "cell_type": "code",
   "execution_count": null,
   "id": "88844633-bc7d-425e-aba4-7dd4ae260469",
   "metadata": {},
   "outputs": [],
   "source": [
    "f(1)"
   ]
  },
  {
   "cell_type": "code",
   "execution_count": null,
   "id": "65ca8486-fd9b-45ae-b707-ca7b82b269aa",
   "metadata": {},
   "outputs": [],
   "source": [
    "integrate.quad_vec(f, -np.inf, np.inf)"
   ]
  },
  {
   "cell_type": "code",
   "execution_count": null,
   "id": "9ea582a4-c64f-4ed5-adc3-2a04143edc67",
   "metadata": {},
   "outputs": [],
   "source": [
    "(bkgd.pdf(1) + relu(a*1 + b)).reshape(-1).reshape(a.shape)"
   ]
  },
  {
   "cell_type": "code",
   "execution_count": null,
   "id": "f6ea2911-1000-418f-a7fe-9484c9abec09",
   "metadata": {},
   "outputs": [],
   "source": [
    "a, b = np.meshgrid([-1, 0.19, 1], [-1, 1.02, 1])\n",
    "g = lambda x: -(sgnl.pdf(x) * -1 / (relu(a*x + b) + eps)**0.5 + \\\n",
    "                bkgd.pdf(x) * -relu(a*x + b)**0.5 )"
   ]
  },
  {
   "cell_type": "code",
   "execution_count": null,
   "id": "4ca15f6e-cd1a-4e3f-9183-b39ead592cfb",
   "metadata": {},
   "outputs": [],
   "source": [
    "g(0)"
   ]
  },
  {
   "cell_type": "markdown",
   "id": "043768d0-cfa2-44e0-902b-b23d74fa3d00",
   "metadata": {},
   "source": [
    "This appears to vectorize properly, but since we can't have special integral bounds, suffers from that issue instead."
   ]
  },
  {
   "cell_type": "code",
   "execution_count": null,
   "id": "46074cd9-d5d6-4a8b-a556-612b7b900a05",
   "metadata": {},
   "outputs": [],
   "source": [
    "eps = np.finfo(float).eps"
   ]
  },
  {
   "cell_type": "code",
   "execution_count": null,
   "id": "ff63d9f1-efe0-4140-ab36-e2d766e7ac72",
   "metadata": {},
   "outputs": [],
   "source": [
    "integrate.quad_vec(g, -np.inf, np.inf)"
   ]
  },
  {
   "cell_type": "code",
   "execution_count": null,
   "id": "e28427af-86b0-41ab-babf-16c6dca047a9",
   "metadata": {},
   "outputs": [],
   "source": [
    "np.minimum(-b/a, -np.inf).reshape(-1)"
   ]
  }
 ],
 "metadata": {
  "kernelspec": {
   "display_name": "omnifold",
   "language": "python",
   "name": "omnifold"
  },
  "language_info": {
   "codemirror_mode": {
    "name": "ipython",
    "version": 3
   },
   "file_extension": ".py",
   "mimetype": "text/x-python",
   "name": "python",
   "nbconvert_exporter": "python",
   "pygments_lexer": "ipython3",
   "version": "3.8.12"
  }
 },
 "nbformat": 4,
 "nbformat_minor": 5
}
