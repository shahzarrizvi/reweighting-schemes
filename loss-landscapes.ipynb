{
 "cells": [
  {
   "cell_type": "code",
   "execution_count": 22,
   "id": "e4362495-58fc-457f-ba6d-cee8db74195b",
   "metadata": {},
   "outputs": [],
   "source": [
    "import numpy as np\n",
    "import os\n",
    "from scipy import stats\n",
    "import scipy.integrate as integrate\n",
    "import tensorflow as tf\n",
    "from utils.training import *\n",
    "\n",
    "from mpl_toolkits.mplot3d import Axes3D  \n",
    "import matplotlib.pyplot as plt\n",
    "import matplotlib.animation as animation\n",
    "from matplotlib.patches import Patch\n",
    "from matplotlib import rc\n",
    "import matplotlib.font_manager\n",
    "rc('font', family='serif')\n",
    "rc('text', usetex=True)\n",
    "rc('font', size=22)\n",
    "rc('xtick', labelsize=15)\n",
    "rc('ytick', labelsize=15)\n",
    "rc('legend', fontsize=15)\n",
    "\n",
    "from utils.training import *\n",
    "\n",
    "np.random.seed(666)\n",
    "eps = 1e-7"
   ]
  },
  {
   "cell_type": "code",
   "execution_count": 23,
   "id": "2933b046-a36b-4931-9fc9-cf2b302afc9c",
   "metadata": {},
   "outputs": [],
   "source": [
    "os.environ[\"CUDA_VISIBLE_DEVICES\"] = \"0\" # pick a number < 4 on ML4HEP; < 3 on Voltan \n",
    "physical_devices = tf.config.list_physical_devices('GPU') \n",
    "tf.config.experimental.set_memory_growth(physical_devices[0], True)"
   ]
  },
  {
   "cell_type": "code",
   "execution_count": 24,
   "id": "41b609c2-f5d0-49dd-a11e-6afca776b843",
   "metadata": {
    "scrolled": true,
    "tags": []
   },
   "outputs": [],
   "source": [
    "def sig(x):\n",
    "    return 1 / (1 + np.exp(-x))\n",
    "\n",
    "def relu(x):\n",
    "    return np.maximum(0, x)\n",
    "\n",
    "bkgd = stats.norm(-0.1, 1)\n",
    "sgnl = stats.norm(+0.1, 1)\n",
    "lr = make_lr(bkgd, sgnl)"
   ]
  },
  {
   "cell_type": "code",
   "execution_count": 25,
   "id": "8e42f25a-8d8c-489b-9326-3119263178da",
   "metadata": {},
   "outputs": [],
   "source": [
    "# Empiric estimation of losses\n",
    "\n",
    "N = 5 * 10**4\n",
    "X = np.concatenate((bkgd.rvs(size = N), sgnl.rvs(size = N)))\n",
    "y = np.concatenate((np.zeros(N), np.ones(N)))\n",
    "\n",
    "def bce(a, b):\n",
    "    XX = np.repeat(X, np.prod(np.shape(a))).reshape(X.shape + np.shape(a))\n",
    "    yy = np.repeat(y, np.prod(np.shape(a))).reshape(y.shape + np.shape(a))\n",
    "    y_hat = sig(a*XX + b)\n",
    "    return 2 * -np.mean((yy) * np.log(y_hat + eps) + (1 - yy) * np.log(1 - y_hat + eps), axis = 0)\n",
    "\n",
    "def mse(a, b):\n",
    "    XX = np.repeat(X, np.prod(np.shape(a))).reshape(X.shape + np.shape(a))\n",
    "    yy = np.repeat(y, np.prod(np.shape(a))).reshape(y.shape + np.shape(a))\n",
    "    y_hat = sig(a*XX + b)\n",
    "    return 2 * -np.mean((yy) * -(1 - y_hat)**2 + (1 - yy) * -(y_hat)**2, axis = 0)\n",
    "\n",
    "def mse_p(a, b, p):\n",
    "    XX = np.repeat(X, np.prod(np.shape(a))).reshape(X.shape + np.shape(a))\n",
    "    yy = np.repeat(y, np.prod(np.shape(a))).reshape(y.shape + np.shape(a))\n",
    "    y_hat = sig(a*XX + b) \n",
    "    return 2 * -np.mean((yy) * -(1 - y_hat)**p + (1 - yy) * -(y_hat)**p, axis = 0)\n",
    "\n",
    "def mlc(a, b):\n",
    "    XX = np.repeat(X, np.prod(np.shape(a))).reshape(X.shape + np.shape(a))\n",
    "    yy = np.repeat(y, np.prod(np.shape(a))).reshape(y.shape + np.shape(a))\n",
    "    y_hat = relu(a*XX + b)\n",
    "    return 2 * -np.mean((yy) * np.log(y_hat + eps) + (1 - yy) * (1 - y_hat), axis = 0)\n",
    "\n",
    "def exp_mlc(a, b):\n",
    "    XX = np.repeat(X, np.prod(np.shape(a))).reshape(X.shape + np.shape(a))\n",
    "    yy = np.repeat(y, np.prod(np.shape(a))).reshape(y.shape + np.shape(a))\n",
    "    y_hat = relu(a*XX + b)\n",
    "    return 2 * -np.mean((yy) * y_hat + (1 - yy) * (1 - np.exp(y_hat)), axis = 0)\n",
    "\n",
    "def sqr(a, b):\n",
    "    XX = np.repeat(X, np.prod(np.shape(a))).reshape(X.shape + np.shape(a))\n",
    "    yy = np.repeat(y, np.prod(np.shape(a))).reshape(y.shape + np.shape(a))\n",
    "    y_hat = relu(a*XX + b)\n",
    "    return 2 * -np.mean((yy) * -(1 / (y_hat + eps)**0.5) + (1 - yy) * -(y_hat)**0.5, axis = 0)\n",
    "\n",
    "def exp_sqr(a, b):\n",
    "    XX = np.repeat(X, np.prod(np.shape(a))).reshape(X.shape + np.shape(a))\n",
    "    yy = np.repeat(y, np.prod(np.shape(a))).reshape(y.shape + np.shape(a))\n",
    "    y_hat = relu(a*XX + b)\n",
    "    return 2 * -np.mean((yy) * -(1 / np.exp(y_hat)**0.5) + (1 - yy) * -(np.exp(y_hat))**0.5, axis = 0)\n",
    "\n",
    "def sqr_r(a, b, r):\n",
    "    XX = np.repeat(X, np.prod(np.shape(a))).reshape(X.shape + np.shape(a))\n",
    "    yy = np.repeat(y, np.prod(np.shape(a))).reshape(y.shape + np.shape(a))\n",
    "    y_hat = relu(a*XX + b)\n",
    "    return 2 * -np.mean((yy) * -(1 / (y_hat + eps)**(r/2)) + (1 - yy) * -(y_hat)**(r/2), axis = 0) \n",
    "\n",
    "def exp_sqr_r(a, b, r):\n",
    "    XX = np.repeat(X, np.prod(np.shape(a))).reshape(X.shape + np.shape(a))\n",
    "    yy = np.repeat(y, np.prod(np.shape(a))).reshape(y.shape + np.shape(a))\n",
    "    y_hat = np.exp(a*XX + b)\n",
    "    return 2 * -np.mean((yy) * -(1 / (y_hat + eps)**(r/2)) + (1 - yy) * -(y_hat)**(r/2), axis = 0) \n",
    "\n",
    "@np.vectorize\n",
    "def mse_error(a, b, p):\n",
    "    y_hat = sig(a*X + b)\n",
    "    lik = (y_hat / (1 - y_hat))**(p - 1)\n",
    "    return np.abs(lik - lr(X)).mean(axis = 0)\n",
    "\n",
    "@np.vectorize\n",
    "def sqr_error(a, b, r):\n",
    "    y_hat = np.exp(a*X + b)\n",
    "    lik = (y_hat)**r\n",
    "    return np.abs(lik - lr(X)).mean(axis = 0)"
   ]
  },
  {
   "cell_type": "code",
   "execution_count": 26,
   "id": "63cda234-6fd7-48df-be2b-ad81c94b59bf",
   "metadata": {},
   "outputs": [],
   "source": [
    "# Numerical estimation of losses\n",
    "\n",
    "def nbce(a, b):\n",
    "    g = lambda x: -(sgnl.pdf(x) * np.log(sig(a*x + b) + eps) + \\\n",
    "                    bkgd.pdf(x) * np.log(1 - sig(a*x + b) + eps) )\n",
    "    return integrate.quad_vec(g, -np.inf, np.inf)[0]\n",
    "\n",
    "def nmse(a, b):\n",
    "    g = lambda x: -(sgnl.pdf(x) * -(1 - sig(a*x + b))**2 + \\\n",
    "                    bkgd.pdf(x) * -(sig(a*x + b)**2) )\n",
    "    return integrate.quad_vec(g, -np.inf, np.inf)[0]\n",
    "\n",
    "def nmse_p(a, b, p):\n",
    "    g = lambda x: -(sgnl.pdf(x) * -(1 - sig(a*x + b))**p + \\\n",
    "                    bkgd.pdf(x) * -(sig(a*x + b)**p) )\n",
    "    return integrate.quad_vec(g, -np.inf, np.inf)[0]\n",
    "\n",
    "def nmlc(a, b):\n",
    "    g = lambda x: -(sgnl.pdf(x) * np.log(relu(a*x + b) + eps) + \\\n",
    "                    bkgd.pdf(x) * (1 - relu(a*x + b)) )\n",
    "    return integrate.quad_vec(g, -np.inf, np.inf)[0]\n",
    "\n",
    "def nsqr(a, b):\n",
    "    g = lambda x: -(sgnl.pdf(x) * -1 / (relu(a*x + b) + eps)**0.5 + \\\n",
    "                    bkgd.pdf(x) * -relu(a*x + b)**0.5 )\n",
    "    return integrate.quad_vec(g, -np.inf, np.inf)[0]\n",
    "\n",
    "def nsqr_r(a, b, r):\n",
    "    g = lambda x: -(sgnl.pdf(x) * -1 / (relu(a*x + b) + eps)**(r/2) + \\\n",
    "                    bkgd.pdf(x) * -relu(a*x + b)**(r/2) )\n",
    "    return integrate.quad_vec(g, -np.inf, np.inf)[0]\n",
    "\n",
    "def nexp_sqr_r(a, b, r):\n",
    "    g = lambda x: -(sgnl.pdf(x) * -1 / (np.exp(a*x + b))**(r/2) + \\\n",
    "                    bkgd.pdf(x) * -np.exp(a*x + b)**(r/2) )\n",
    "    #print(g(np.linspace(-1, 1, 1001)))\n",
    "    return integrate.quad_vec(g, -100, 100)[0]\n",
    "    #return integrate.quad_vec(g, -np.inf, np.inf)[0]\n",
    "    \n",
    "@np.vectorize\n",
    "def nmse_error(a, b, p):\n",
    "    g = lambda x: np.abs(np.exp((p - 1) * (a*x + b)) - np.exp(0.2*x)) * (1/2) * (bkgd.pdf(x) + sgnl.pdf(x))\n",
    "    return integrate.quad(g, -np.inf, np.inf)[0]\n",
    "\n",
    "@np.vectorize\n",
    "def nsqr_error(a, b, r):\n",
    "    g = lambda x: np.abs(np.exp(r * (a*x + b)) - np.exp(0.2*x)) * (1/2) * (bkgd.pdf(x) + sgnl.pdf(x))\n",
    "    return integrate.quad(g, -np.inf, np.inf)[0]"
   ]
  },
  {
   "cell_type": "code",
   "execution_count": 27,
   "id": "f427c290-d723-482e-98f3-0c9677e241dd",
   "metadata": {},
   "outputs": [],
   "source": [
    "def gridded(loss, g_min, g_max, f, n_splits):\n",
    "    chunks = [None] * n_splits\n",
    "    span = (g_max - g_min) / n_splits\n",
    "    n_points = int( span / f)\n",
    "    n_total = int( (g_max - g_min) / f )\n",
    "\n",
    "    for i in range(n_splits - 1):\n",
    "        chunks[i] = np.linspace(g_min + i * span, g_min + (i + 1) * span - f, n_points)\n",
    "    chunks[n_splits - 1] = np.linspace(g_min + (n_splits - 1) * span, g_min + n_splits * span, n_points + 1)\n",
    "    \n",
    "    aa, bb = np.meshgrid(np.linspace(g_min, g_max, n_total + 1), np.linspace(g_min, g_max, n_total + 1))\n",
    "    \n",
    "    grids = [None] * n_splits**2\n",
    "    for i in range(n_splits):\n",
    "        for j in range(n_splits):\n",
    "            grids[n_splits*i + j] = np.meshgrid(chunks[i], chunks[j])\n",
    "\n",
    "    losses = [None] * n_splits**2\n",
    "    for i in range(n_splits**2):\n",
    "        if i % n_splits == 0 and i > 0: print()\n",
    "        print(i, end = '\\t')\n",
    "        losses[i] = loss(grids[i][0], grids[i][1])\n",
    "    losses = np.hstack([np.vstack([losses[j] for j in range(i, i + n_splits)]) for i in range(0, n_splits**2, n_splits)])\n",
    "    return losses, aa, bb"
   ]
  },
  {
   "cell_type": "markdown",
   "id": "6ca6b484-a998-446a-8f85-1916e0caa133",
   "metadata": {
    "tags": []
   },
   "source": [
    "# MSEs MAE"
   ]
  },
  {
   "cell_type": "code",
   "execution_count": 28,
   "id": "3ddb8990-b3ac-46f1-aab6-1646906becb9",
   "metadata": {},
   "outputs": [],
   "source": [
    "dirstr = 'anims/mse_mae/'"
   ]
  },
  {
   "cell_type": "code",
   "execution_count": 36,
   "id": "69106fd0-5d16-434d-99c7-a67ef2fed1b1",
   "metadata": {},
   "outputs": [],
   "source": [
    "aa, bb = np.meshgrid(np.linspace(-1, 1, 201), np.linspace(-1, 1, 201))\n",
    "\n",
    "np.save(dirstr + 'aa.npy', aa)\n",
    "np.save(dirstr + 'bb.npy', bb)"
   ]
  },
  {
   "cell_type": "code",
   "execution_count": 38,
   "id": "ead3d21e-44d0-4565-ad2b-7c23abc7981d",
   "metadata": {},
   "outputs": [
    {
     "name": "stdout",
     "output_type": "stream",
     "text": [
      "[1.] [0.2]\n",
      "CPU times: user 1.77 s, sys: 5 µs, total: 1.77 s\n",
      "Wall time: 1.77 s\n"
     ]
    }
   ],
   "source": [
    "%%time\n",
    "\n",
    "p = 1.05\n",
    "zz = nmse_error(aa, bb, p)\n",
    "np.save(dirstr + 'zz_{}.npy'.format(p), zz)\n",
    "print(aa[zz == np.min(zz)], bb[zz == np.min(zz)])"
   ]
  },
  {
   "cell_type": "code",
   "execution_count": 39,
   "id": "141bb0af-9bac-4510-897e-d6b50cdd75e0",
   "metadata": {},
   "outputs": [
    {
     "name": "stdout",
     "output_type": "stream",
     "text": [
      "[0.8] [0.]\n",
      "CPU times: user 1.75 s, sys: 1 ms, total: 1.75 s\n",
      "Wall time: 1.75 s\n"
     ]
    }
   ],
   "source": [
    "%%time\n",
    "\n",
    "p = 1.25\n",
    "zz = nmse_error(aa, bb, p)\n",
    "np.save(dirstr + 'zz_{}.npy'.format(p), zz)\n",
    "print(aa[zz == np.min(zz)], bb[zz == np.min(zz)])"
   ]
  },
  {
   "cell_type": "code",
   "execution_count": 40,
   "id": "5aee5f7f-2def-4061-906c-3e248546b839",
   "metadata": {},
   "outputs": [
    {
     "name": "stderr",
     "output_type": "stream",
     "text": [
      "/tmp/ipykernel_20973/149975618.py:42: RuntimeWarning: overflow encountered in exp\n",
      "  g = lambda x: np.abs(np.exp((p - 1) * (a*x + b)) - np.exp(0.2*x)) * (1/2) * (bkgd.pdf(x) + sgnl.pdf(x))\n",
      "/tmp/ipykernel_20973/149975618.py:42: RuntimeWarning: invalid value encountered in double_scalars\n",
      "  g = lambda x: np.abs(np.exp((p - 1) * (a*x + b)) - np.exp(0.2*x)) * (1/2) * (bkgd.pdf(x) + sgnl.pdf(x))\n",
      "/tmp/ipykernel_20973/149975618.py:43: IntegrationWarning: The occurrence of roundoff error is detected, which prevents \n",
      "  the requested tolerance from being achieved.  The error may be \n",
      "  underestimated.\n",
      "  return integrate.quad(g, -np.inf, np.inf)[0]\n"
     ]
    },
    {
     "ename": "KeyboardInterrupt",
     "evalue": "",
     "output_type": "error",
     "traceback": [
      "\u001b[0;31m---------------------------------------------------------------------------\u001b[0m",
      "\u001b[0;31mKeyboardInterrupt\u001b[0m                         Traceback (most recent call last)",
      "\u001b[0;32m<timed exec>\u001b[0m in \u001b[0;36m<module>\u001b[0;34m\u001b[0m\n",
      "\u001b[0;32m~/anaconda3/envs/omnifold/lib/python3.8/site-packages/numpy/lib/function_base.py\u001b[0m in \u001b[0;36m__call__\u001b[0;34m(self, *args, **kwargs)\u001b[0m\n\u001b[1;32m   2111\u001b[0m             \u001b[0mvargs\u001b[0m\u001b[0;34m.\u001b[0m\u001b[0mextend\u001b[0m\u001b[0;34m(\u001b[0m\u001b[0;34m[\u001b[0m\u001b[0mkwargs\u001b[0m\u001b[0;34m[\u001b[0m\u001b[0m_n\u001b[0m\u001b[0;34m]\u001b[0m \u001b[0;32mfor\u001b[0m \u001b[0m_n\u001b[0m \u001b[0;32min\u001b[0m \u001b[0mnames\u001b[0m\u001b[0;34m]\u001b[0m\u001b[0;34m)\u001b[0m\u001b[0;34m\u001b[0m\u001b[0;34m\u001b[0m\u001b[0m\n\u001b[1;32m   2112\u001b[0m \u001b[0;34m\u001b[0m\u001b[0m\n\u001b[0;32m-> 2113\u001b[0;31m         \u001b[0;32mreturn\u001b[0m \u001b[0mself\u001b[0m\u001b[0;34m.\u001b[0m\u001b[0m_vectorize_call\u001b[0m\u001b[0;34m(\u001b[0m\u001b[0mfunc\u001b[0m\u001b[0;34m=\u001b[0m\u001b[0mfunc\u001b[0m\u001b[0;34m,\u001b[0m \u001b[0margs\u001b[0m\u001b[0;34m=\u001b[0m\u001b[0mvargs\u001b[0m\u001b[0;34m)\u001b[0m\u001b[0;34m\u001b[0m\u001b[0;34m\u001b[0m\u001b[0m\n\u001b[0m\u001b[1;32m   2114\u001b[0m \u001b[0;34m\u001b[0m\u001b[0m\n\u001b[1;32m   2115\u001b[0m     \u001b[0;32mdef\u001b[0m \u001b[0m_get_ufunc_and_otypes\u001b[0m\u001b[0;34m(\u001b[0m\u001b[0mself\u001b[0m\u001b[0;34m,\u001b[0m \u001b[0mfunc\u001b[0m\u001b[0;34m,\u001b[0m \u001b[0margs\u001b[0m\u001b[0;34m)\u001b[0m\u001b[0;34m:\u001b[0m\u001b[0;34m\u001b[0m\u001b[0;34m\u001b[0m\u001b[0m\n",
      "\u001b[0;32m~/anaconda3/envs/omnifold/lib/python3.8/site-packages/numpy/lib/function_base.py\u001b[0m in \u001b[0;36m_vectorize_call\u001b[0;34m(self, func, args)\u001b[0m\n\u001b[1;32m   2195\u001b[0m                       for a in args]\n\u001b[1;32m   2196\u001b[0m \u001b[0;34m\u001b[0m\u001b[0m\n\u001b[0;32m-> 2197\u001b[0;31m             \u001b[0moutputs\u001b[0m \u001b[0;34m=\u001b[0m \u001b[0mufunc\u001b[0m\u001b[0;34m(\u001b[0m\u001b[0;34m*\u001b[0m\u001b[0minputs\u001b[0m\u001b[0;34m)\u001b[0m\u001b[0;34m\u001b[0m\u001b[0;34m\u001b[0m\u001b[0m\n\u001b[0m\u001b[1;32m   2198\u001b[0m \u001b[0;34m\u001b[0m\u001b[0m\n\u001b[1;32m   2199\u001b[0m             \u001b[0;32mif\u001b[0m \u001b[0mufunc\u001b[0m\u001b[0;34m.\u001b[0m\u001b[0mnout\u001b[0m \u001b[0;34m==\u001b[0m \u001b[0;36m1\u001b[0m\u001b[0;34m:\u001b[0m\u001b[0;34m\u001b[0m\u001b[0;34m\u001b[0m\u001b[0m\n",
      "\u001b[0;32m/tmp/ipykernel_20973/149975618.py\u001b[0m in \u001b[0;36mnmse_error\u001b[0;34m(a, b, p)\u001b[0m\n\u001b[1;32m     41\u001b[0m \u001b[0;32mdef\u001b[0m \u001b[0mnmse_error\u001b[0m\u001b[0;34m(\u001b[0m\u001b[0ma\u001b[0m\u001b[0;34m,\u001b[0m \u001b[0mb\u001b[0m\u001b[0;34m,\u001b[0m \u001b[0mp\u001b[0m\u001b[0;34m)\u001b[0m\u001b[0;34m:\u001b[0m\u001b[0;34m\u001b[0m\u001b[0;34m\u001b[0m\u001b[0m\n\u001b[1;32m     42\u001b[0m     \u001b[0mg\u001b[0m \u001b[0;34m=\u001b[0m \u001b[0;32mlambda\u001b[0m \u001b[0mx\u001b[0m\u001b[0;34m:\u001b[0m \u001b[0mnp\u001b[0m\u001b[0;34m.\u001b[0m\u001b[0mabs\u001b[0m\u001b[0;34m(\u001b[0m\u001b[0mnp\u001b[0m\u001b[0;34m.\u001b[0m\u001b[0mexp\u001b[0m\u001b[0;34m(\u001b[0m\u001b[0;34m(\u001b[0m\u001b[0mp\u001b[0m \u001b[0;34m-\u001b[0m \u001b[0;36m1\u001b[0m\u001b[0;34m)\u001b[0m \u001b[0;34m*\u001b[0m \u001b[0;34m(\u001b[0m\u001b[0ma\u001b[0m\u001b[0;34m*\u001b[0m\u001b[0mx\u001b[0m \u001b[0;34m+\u001b[0m \u001b[0mb\u001b[0m\u001b[0;34m)\u001b[0m\u001b[0;34m)\u001b[0m \u001b[0;34m-\u001b[0m \u001b[0mnp\u001b[0m\u001b[0;34m.\u001b[0m\u001b[0mexp\u001b[0m\u001b[0;34m(\u001b[0m\u001b[0;36m0.2\u001b[0m\u001b[0;34m*\u001b[0m\u001b[0mx\u001b[0m\u001b[0;34m)\u001b[0m\u001b[0;34m)\u001b[0m \u001b[0;34m*\u001b[0m \u001b[0;34m(\u001b[0m\u001b[0;36m1\u001b[0m\u001b[0;34m/\u001b[0m\u001b[0;36m2\u001b[0m\u001b[0;34m)\u001b[0m \u001b[0;34m*\u001b[0m \u001b[0;34m(\u001b[0m\u001b[0mbkgd\u001b[0m\u001b[0;34m.\u001b[0m\u001b[0mpdf\u001b[0m\u001b[0;34m(\u001b[0m\u001b[0mx\u001b[0m\u001b[0;34m)\u001b[0m \u001b[0;34m+\u001b[0m \u001b[0msgnl\u001b[0m\u001b[0;34m.\u001b[0m\u001b[0mpdf\u001b[0m\u001b[0;34m(\u001b[0m\u001b[0mx\u001b[0m\u001b[0;34m)\u001b[0m\u001b[0;34m)\u001b[0m\u001b[0;34m\u001b[0m\u001b[0;34m\u001b[0m\u001b[0m\n\u001b[0;32m---> 43\u001b[0;31m     \u001b[0;32mreturn\u001b[0m \u001b[0mintegrate\u001b[0m\u001b[0;34m.\u001b[0m\u001b[0mquad\u001b[0m\u001b[0;34m(\u001b[0m\u001b[0mg\u001b[0m\u001b[0;34m,\u001b[0m \u001b[0;34m-\u001b[0m\u001b[0mnp\u001b[0m\u001b[0;34m.\u001b[0m\u001b[0minf\u001b[0m\u001b[0;34m,\u001b[0m \u001b[0mnp\u001b[0m\u001b[0;34m.\u001b[0m\u001b[0minf\u001b[0m\u001b[0;34m)\u001b[0m\u001b[0;34m[\u001b[0m\u001b[0;36m0\u001b[0m\u001b[0;34m]\u001b[0m\u001b[0;34m\u001b[0m\u001b[0;34m\u001b[0m\u001b[0m\n\u001b[0m\u001b[1;32m     44\u001b[0m \u001b[0;34m\u001b[0m\u001b[0m\n\u001b[1;32m     45\u001b[0m \u001b[0;34m@\u001b[0m\u001b[0mnp\u001b[0m\u001b[0;34m.\u001b[0m\u001b[0mvectorize\u001b[0m\u001b[0;34m\u001b[0m\u001b[0;34m\u001b[0m\u001b[0m\n",
      "\u001b[0;32m~/anaconda3/envs/omnifold/lib/python3.8/site-packages/scipy/integrate/quadpack.py\u001b[0m in \u001b[0;36mquad\u001b[0;34m(func, a, b, args, full_output, epsabs, epsrel, limit, points, weight, wvar, wopts, maxp1, limlst)\u001b[0m\n\u001b[1;32m    349\u001b[0m \u001b[0;34m\u001b[0m\u001b[0m\n\u001b[1;32m    350\u001b[0m     \u001b[0;32mif\u001b[0m \u001b[0mweight\u001b[0m \u001b[0;32mis\u001b[0m \u001b[0;32mNone\u001b[0m\u001b[0;34m:\u001b[0m\u001b[0;34m\u001b[0m\u001b[0;34m\u001b[0m\u001b[0m\n\u001b[0;32m--> 351\u001b[0;31m         retval = _quad(func, a, b, args, full_output, epsabs, epsrel, limit,\n\u001b[0m\u001b[1;32m    352\u001b[0m                        points)\n\u001b[1;32m    353\u001b[0m     \u001b[0;32melse\u001b[0m\u001b[0;34m:\u001b[0m\u001b[0;34m\u001b[0m\u001b[0;34m\u001b[0m\u001b[0m\n",
      "\u001b[0;32m~/anaconda3/envs/omnifold/lib/python3.8/site-packages/scipy/integrate/quadpack.py\u001b[0m in \u001b[0;36m_quad\u001b[0;34m(func, a, b, args, full_output, epsabs, epsrel, limit, points)\u001b[0m\n\u001b[1;32m    463\u001b[0m             \u001b[0;32mreturn\u001b[0m \u001b[0m_quadpack\u001b[0m\u001b[0;34m.\u001b[0m\u001b[0m_qagse\u001b[0m\u001b[0;34m(\u001b[0m\u001b[0mfunc\u001b[0m\u001b[0;34m,\u001b[0m\u001b[0ma\u001b[0m\u001b[0;34m,\u001b[0m\u001b[0mb\u001b[0m\u001b[0;34m,\u001b[0m\u001b[0margs\u001b[0m\u001b[0;34m,\u001b[0m\u001b[0mfull_output\u001b[0m\u001b[0;34m,\u001b[0m\u001b[0mepsabs\u001b[0m\u001b[0;34m,\u001b[0m\u001b[0mepsrel\u001b[0m\u001b[0;34m,\u001b[0m\u001b[0mlimit\u001b[0m\u001b[0;34m)\u001b[0m\u001b[0;34m\u001b[0m\u001b[0;34m\u001b[0m\u001b[0m\n\u001b[1;32m    464\u001b[0m         \u001b[0;32melse\u001b[0m\u001b[0;34m:\u001b[0m\u001b[0;34m\u001b[0m\u001b[0;34m\u001b[0m\u001b[0m\n\u001b[0;32m--> 465\u001b[0;31m             \u001b[0;32mreturn\u001b[0m \u001b[0m_quadpack\u001b[0m\u001b[0;34m.\u001b[0m\u001b[0m_qagie\u001b[0m\u001b[0;34m(\u001b[0m\u001b[0mfunc\u001b[0m\u001b[0;34m,\u001b[0m\u001b[0mbound\u001b[0m\u001b[0;34m,\u001b[0m\u001b[0minfbounds\u001b[0m\u001b[0;34m,\u001b[0m\u001b[0margs\u001b[0m\u001b[0;34m,\u001b[0m\u001b[0mfull_output\u001b[0m\u001b[0;34m,\u001b[0m\u001b[0mepsabs\u001b[0m\u001b[0;34m,\u001b[0m\u001b[0mepsrel\u001b[0m\u001b[0;34m,\u001b[0m\u001b[0mlimit\u001b[0m\u001b[0;34m)\u001b[0m\u001b[0;34m\u001b[0m\u001b[0;34m\u001b[0m\u001b[0m\n\u001b[0m\u001b[1;32m    466\u001b[0m     \u001b[0;32melse\u001b[0m\u001b[0;34m:\u001b[0m\u001b[0;34m\u001b[0m\u001b[0;34m\u001b[0m\u001b[0m\n\u001b[1;32m    467\u001b[0m         \u001b[0;32mif\u001b[0m \u001b[0minfbounds\u001b[0m \u001b[0;34m!=\u001b[0m \u001b[0;36m0\u001b[0m\u001b[0;34m:\u001b[0m\u001b[0;34m\u001b[0m\u001b[0;34m\u001b[0m\u001b[0m\n",
      "\u001b[0;32m/tmp/ipykernel_20973/149975618.py\u001b[0m in \u001b[0;36m<lambda>\u001b[0;34m(x)\u001b[0m\n\u001b[1;32m     40\u001b[0m \u001b[0;34m@\u001b[0m\u001b[0mnp\u001b[0m\u001b[0;34m.\u001b[0m\u001b[0mvectorize\u001b[0m\u001b[0;34m\u001b[0m\u001b[0;34m\u001b[0m\u001b[0m\n\u001b[1;32m     41\u001b[0m \u001b[0;32mdef\u001b[0m \u001b[0mnmse_error\u001b[0m\u001b[0;34m(\u001b[0m\u001b[0ma\u001b[0m\u001b[0;34m,\u001b[0m \u001b[0mb\u001b[0m\u001b[0;34m,\u001b[0m \u001b[0mp\u001b[0m\u001b[0;34m)\u001b[0m\u001b[0;34m:\u001b[0m\u001b[0;34m\u001b[0m\u001b[0;34m\u001b[0m\u001b[0m\n\u001b[0;32m---> 42\u001b[0;31m     \u001b[0mg\u001b[0m \u001b[0;34m=\u001b[0m \u001b[0;32mlambda\u001b[0m \u001b[0mx\u001b[0m\u001b[0;34m:\u001b[0m \u001b[0mnp\u001b[0m\u001b[0;34m.\u001b[0m\u001b[0mabs\u001b[0m\u001b[0;34m(\u001b[0m\u001b[0mnp\u001b[0m\u001b[0;34m.\u001b[0m\u001b[0mexp\u001b[0m\u001b[0;34m(\u001b[0m\u001b[0;34m(\u001b[0m\u001b[0mp\u001b[0m \u001b[0;34m-\u001b[0m \u001b[0;36m1\u001b[0m\u001b[0;34m)\u001b[0m \u001b[0;34m*\u001b[0m \u001b[0;34m(\u001b[0m\u001b[0ma\u001b[0m\u001b[0;34m*\u001b[0m\u001b[0mx\u001b[0m \u001b[0;34m+\u001b[0m \u001b[0mb\u001b[0m\u001b[0;34m)\u001b[0m\u001b[0;34m)\u001b[0m \u001b[0;34m-\u001b[0m \u001b[0mnp\u001b[0m\u001b[0;34m.\u001b[0m\u001b[0mexp\u001b[0m\u001b[0;34m(\u001b[0m\u001b[0;36m0.2\u001b[0m\u001b[0;34m*\u001b[0m\u001b[0mx\u001b[0m\u001b[0;34m)\u001b[0m\u001b[0;34m)\u001b[0m \u001b[0;34m*\u001b[0m \u001b[0;34m(\u001b[0m\u001b[0;36m1\u001b[0m\u001b[0;34m/\u001b[0m\u001b[0;36m2\u001b[0m\u001b[0;34m)\u001b[0m \u001b[0;34m*\u001b[0m \u001b[0;34m(\u001b[0m\u001b[0mbkgd\u001b[0m\u001b[0;34m.\u001b[0m\u001b[0mpdf\u001b[0m\u001b[0;34m(\u001b[0m\u001b[0mx\u001b[0m\u001b[0;34m)\u001b[0m \u001b[0;34m+\u001b[0m \u001b[0msgnl\u001b[0m\u001b[0;34m.\u001b[0m\u001b[0mpdf\u001b[0m\u001b[0;34m(\u001b[0m\u001b[0mx\u001b[0m\u001b[0;34m)\u001b[0m\u001b[0;34m)\u001b[0m\u001b[0;34m\u001b[0m\u001b[0;34m\u001b[0m\u001b[0m\n\u001b[0m\u001b[1;32m     43\u001b[0m     \u001b[0;32mreturn\u001b[0m \u001b[0mintegrate\u001b[0m\u001b[0;34m.\u001b[0m\u001b[0mquad\u001b[0m\u001b[0;34m(\u001b[0m\u001b[0mg\u001b[0m\u001b[0;34m,\u001b[0m \u001b[0;34m-\u001b[0m\u001b[0mnp\u001b[0m\u001b[0;34m.\u001b[0m\u001b[0minf\u001b[0m\u001b[0;34m,\u001b[0m \u001b[0mnp\u001b[0m\u001b[0;34m.\u001b[0m\u001b[0minf\u001b[0m\u001b[0;34m)\u001b[0m\u001b[0;34m[\u001b[0m\u001b[0;36m0\u001b[0m\u001b[0;34m]\u001b[0m\u001b[0;34m\u001b[0m\u001b[0;34m\u001b[0m\u001b[0m\n\u001b[1;32m     44\u001b[0m \u001b[0;34m\u001b[0m\u001b[0m\n",
      "\u001b[0;32m~/anaconda3/envs/omnifold/lib/python3.8/site-packages/scipy/stats/_distn_infrastructure.py\u001b[0m in \u001b[0;36mpdf\u001b[0;34m(self, x)\u001b[0m\n\u001b[1;32m    449\u001b[0m \u001b[0;34m\u001b[0m\u001b[0m\n\u001b[1;32m    450\u001b[0m     \u001b[0;32mdef\u001b[0m \u001b[0mpdf\u001b[0m\u001b[0;34m(\u001b[0m\u001b[0mself\u001b[0m\u001b[0;34m,\u001b[0m \u001b[0mx\u001b[0m\u001b[0;34m)\u001b[0m\u001b[0;34m:\u001b[0m   \u001b[0;31m# raises AttributeError in frozen discrete distribution\u001b[0m\u001b[0;34m\u001b[0m\u001b[0;34m\u001b[0m\u001b[0m\n\u001b[0;32m--> 451\u001b[0;31m         \u001b[0;32mreturn\u001b[0m \u001b[0mself\u001b[0m\u001b[0;34m.\u001b[0m\u001b[0mdist\u001b[0m\u001b[0;34m.\u001b[0m\u001b[0mpdf\u001b[0m\u001b[0;34m(\u001b[0m\u001b[0mx\u001b[0m\u001b[0;34m,\u001b[0m \u001b[0;34m*\u001b[0m\u001b[0mself\u001b[0m\u001b[0;34m.\u001b[0m\u001b[0margs\u001b[0m\u001b[0;34m,\u001b[0m \u001b[0;34m**\u001b[0m\u001b[0mself\u001b[0m\u001b[0;34m.\u001b[0m\u001b[0mkwds\u001b[0m\u001b[0;34m)\u001b[0m\u001b[0;34m\u001b[0m\u001b[0;34m\u001b[0m\u001b[0m\n\u001b[0m\u001b[1;32m    452\u001b[0m \u001b[0;34m\u001b[0m\u001b[0m\n\u001b[1;32m    453\u001b[0m     \u001b[0;32mdef\u001b[0m \u001b[0mlogpdf\u001b[0m\u001b[0;34m(\u001b[0m\u001b[0mself\u001b[0m\u001b[0;34m,\u001b[0m \u001b[0mx\u001b[0m\u001b[0;34m)\u001b[0m\u001b[0;34m:\u001b[0m\u001b[0;34m\u001b[0m\u001b[0;34m\u001b[0m\u001b[0m\n",
      "\u001b[0;32m~/anaconda3/envs/omnifold/lib/python3.8/site-packages/scipy/stats/_distn_infrastructure.py\u001b[0m in \u001b[0;36mpdf\u001b[0;34m(self, x, *args, **kwds)\u001b[0m\n\u001b[1;32m   1840\u001b[0m         \u001b[0mputmask\u001b[0m\u001b[0;34m(\u001b[0m\u001b[0moutput\u001b[0m\u001b[0;34m,\u001b[0m \u001b[0;34m(\u001b[0m\u001b[0;36m1\u001b[0m\u001b[0;34m-\u001b[0m\u001b[0mcond0\u001b[0m\u001b[0;34m)\u001b[0m\u001b[0;34m+\u001b[0m\u001b[0mnp\u001b[0m\u001b[0;34m.\u001b[0m\u001b[0misnan\u001b[0m\u001b[0;34m(\u001b[0m\u001b[0mx\u001b[0m\u001b[0;34m)\u001b[0m\u001b[0;34m,\u001b[0m \u001b[0mself\u001b[0m\u001b[0;34m.\u001b[0m\u001b[0mbadvalue\u001b[0m\u001b[0;34m)\u001b[0m\u001b[0;34m\u001b[0m\u001b[0;34m\u001b[0m\u001b[0m\n\u001b[1;32m   1841\u001b[0m         \u001b[0;32mif\u001b[0m \u001b[0mnp\u001b[0m\u001b[0;34m.\u001b[0m\u001b[0many\u001b[0m\u001b[0;34m(\u001b[0m\u001b[0mcond\u001b[0m\u001b[0;34m)\u001b[0m\u001b[0;34m:\u001b[0m\u001b[0;34m\u001b[0m\u001b[0;34m\u001b[0m\u001b[0m\n\u001b[0;32m-> 1842\u001b[0;31m             \u001b[0mgoodargs\u001b[0m \u001b[0;34m=\u001b[0m \u001b[0margsreduce\u001b[0m\u001b[0;34m(\u001b[0m\u001b[0mcond\u001b[0m\u001b[0;34m,\u001b[0m \u001b[0;34m*\u001b[0m\u001b[0;34m(\u001b[0m\u001b[0;34m(\u001b[0m\u001b[0mx\u001b[0m\u001b[0;34m,\u001b[0m\u001b[0;34m)\u001b[0m\u001b[0;34m+\u001b[0m\u001b[0margs\u001b[0m\u001b[0;34m+\u001b[0m\u001b[0;34m(\u001b[0m\u001b[0mscale\u001b[0m\u001b[0;34m,\u001b[0m\u001b[0;34m)\u001b[0m\u001b[0;34m)\u001b[0m\u001b[0;34m)\u001b[0m\u001b[0;34m\u001b[0m\u001b[0;34m\u001b[0m\u001b[0m\n\u001b[0m\u001b[1;32m   1843\u001b[0m             \u001b[0mscale\u001b[0m\u001b[0;34m,\u001b[0m \u001b[0mgoodargs\u001b[0m \u001b[0;34m=\u001b[0m \u001b[0mgoodargs\u001b[0m\u001b[0;34m[\u001b[0m\u001b[0;34m-\u001b[0m\u001b[0;36m1\u001b[0m\u001b[0;34m]\u001b[0m\u001b[0;34m,\u001b[0m \u001b[0mgoodargs\u001b[0m\u001b[0;34m[\u001b[0m\u001b[0;34m:\u001b[0m\u001b[0;34m-\u001b[0m\u001b[0;36m1\u001b[0m\u001b[0;34m]\u001b[0m\u001b[0;34m\u001b[0m\u001b[0;34m\u001b[0m\u001b[0m\n\u001b[1;32m   1844\u001b[0m             \u001b[0mplace\u001b[0m\u001b[0;34m(\u001b[0m\u001b[0moutput\u001b[0m\u001b[0;34m,\u001b[0m \u001b[0mcond\u001b[0m\u001b[0;34m,\u001b[0m \u001b[0mself\u001b[0m\u001b[0;34m.\u001b[0m\u001b[0m_pdf\u001b[0m\u001b[0;34m(\u001b[0m\u001b[0;34m*\u001b[0m\u001b[0mgoodargs\u001b[0m\u001b[0;34m)\u001b[0m \u001b[0;34m/\u001b[0m \u001b[0mscale\u001b[0m\u001b[0;34m)\u001b[0m\u001b[0;34m\u001b[0m\u001b[0;34m\u001b[0m\u001b[0m\n",
      "\u001b[0;32m~/anaconda3/envs/omnifold/lib/python3.8/site-packages/scipy/stats/_distn_infrastructure.py\u001b[0m in \u001b[0;36margsreduce\u001b[0;34m(cond, *args)\u001b[0m\n\u001b[1;32m    551\u001b[0m         \u001b[0mnewargs\u001b[0m \u001b[0;34m=\u001b[0m \u001b[0;34m[\u001b[0m\u001b[0mnewargs\u001b[0m\u001b[0;34m,\u001b[0m \u001b[0;34m]\u001b[0m\u001b[0;34m\u001b[0m\u001b[0;34m\u001b[0m\u001b[0m\n\u001b[1;32m    552\u001b[0m     \u001b[0mexpand_arr\u001b[0m \u001b[0;34m=\u001b[0m \u001b[0;34m(\u001b[0m\u001b[0mcond\u001b[0m \u001b[0;34m==\u001b[0m \u001b[0mcond\u001b[0m\u001b[0;34m)\u001b[0m\u001b[0;34m\u001b[0m\u001b[0;34m\u001b[0m\u001b[0m\n\u001b[0;32m--> 553\u001b[0;31m     \u001b[0;32mreturn\u001b[0m \u001b[0;34m[\u001b[0m\u001b[0mnp\u001b[0m\u001b[0;34m.\u001b[0m\u001b[0mextract\u001b[0m\u001b[0;34m(\u001b[0m\u001b[0mcond\u001b[0m\u001b[0;34m,\u001b[0m \u001b[0marr1\u001b[0m \u001b[0;34m*\u001b[0m \u001b[0mexpand_arr\u001b[0m\u001b[0;34m)\u001b[0m \u001b[0;32mfor\u001b[0m \u001b[0marr1\u001b[0m \u001b[0;32min\u001b[0m \u001b[0mnewargs\u001b[0m\u001b[0;34m]\u001b[0m\u001b[0;34m\u001b[0m\u001b[0;34m\u001b[0m\u001b[0m\n\u001b[0m\u001b[1;32m    554\u001b[0m \u001b[0;34m\u001b[0m\u001b[0m\n\u001b[1;32m    555\u001b[0m \u001b[0;34m\u001b[0m\u001b[0m\n",
      "\u001b[0;32m~/anaconda3/envs/omnifold/lib/python3.8/site-packages/scipy/stats/_distn_infrastructure.py\u001b[0m in \u001b[0;36m<listcomp>\u001b[0;34m(.0)\u001b[0m\n\u001b[1;32m    551\u001b[0m         \u001b[0mnewargs\u001b[0m \u001b[0;34m=\u001b[0m \u001b[0;34m[\u001b[0m\u001b[0mnewargs\u001b[0m\u001b[0;34m,\u001b[0m \u001b[0;34m]\u001b[0m\u001b[0;34m\u001b[0m\u001b[0;34m\u001b[0m\u001b[0m\n\u001b[1;32m    552\u001b[0m     \u001b[0mexpand_arr\u001b[0m \u001b[0;34m=\u001b[0m \u001b[0;34m(\u001b[0m\u001b[0mcond\u001b[0m \u001b[0;34m==\u001b[0m \u001b[0mcond\u001b[0m\u001b[0;34m)\u001b[0m\u001b[0;34m\u001b[0m\u001b[0;34m\u001b[0m\u001b[0m\n\u001b[0;32m--> 553\u001b[0;31m     \u001b[0;32mreturn\u001b[0m \u001b[0;34m[\u001b[0m\u001b[0mnp\u001b[0m\u001b[0;34m.\u001b[0m\u001b[0mextract\u001b[0m\u001b[0;34m(\u001b[0m\u001b[0mcond\u001b[0m\u001b[0;34m,\u001b[0m \u001b[0marr1\u001b[0m \u001b[0;34m*\u001b[0m \u001b[0mexpand_arr\u001b[0m\u001b[0;34m)\u001b[0m \u001b[0;32mfor\u001b[0m \u001b[0marr1\u001b[0m \u001b[0;32min\u001b[0m \u001b[0mnewargs\u001b[0m\u001b[0;34m]\u001b[0m\u001b[0;34m\u001b[0m\u001b[0;34m\u001b[0m\u001b[0m\n\u001b[0m\u001b[1;32m    554\u001b[0m \u001b[0;34m\u001b[0m\u001b[0m\n\u001b[1;32m    555\u001b[0m \u001b[0;34m\u001b[0m\u001b[0m\n",
      "\u001b[0;32m<__array_function__ internals>\u001b[0m in \u001b[0;36mextract\u001b[0;34m(*args, **kwargs)\u001b[0m\n",
      "\u001b[0;32m~/anaconda3/envs/omnifold/lib/python3.8/site-packages/numpy/lib/function_base.py\u001b[0m in \u001b[0;36mextract\u001b[0;34m(condition, arr)\u001b[0m\n\u001b[1;32m   1698\u001b[0m \u001b[0;34m\u001b[0m\u001b[0m\n\u001b[1;32m   1699\u001b[0m     \"\"\"\n\u001b[0;32m-> 1700\u001b[0;31m     \u001b[0;32mreturn\u001b[0m \u001b[0m_nx\u001b[0m\u001b[0;34m.\u001b[0m\u001b[0mtake\u001b[0m\u001b[0;34m(\u001b[0m\u001b[0mravel\u001b[0m\u001b[0;34m(\u001b[0m\u001b[0marr\u001b[0m\u001b[0;34m)\u001b[0m\u001b[0;34m,\u001b[0m \u001b[0mnonzero\u001b[0m\u001b[0;34m(\u001b[0m\u001b[0mravel\u001b[0m\u001b[0;34m(\u001b[0m\u001b[0mcondition\u001b[0m\u001b[0;34m)\u001b[0m\u001b[0;34m)\u001b[0m\u001b[0;34m[\u001b[0m\u001b[0;36m0\u001b[0m\u001b[0;34m]\u001b[0m\u001b[0;34m)\u001b[0m\u001b[0;34m\u001b[0m\u001b[0;34m\u001b[0m\u001b[0m\n\u001b[0m\u001b[1;32m   1701\u001b[0m \u001b[0;34m\u001b[0m\u001b[0m\n\u001b[1;32m   1702\u001b[0m \u001b[0;34m\u001b[0m\u001b[0m\n",
      "\u001b[0;32m<__array_function__ internals>\u001b[0m in \u001b[0;36mtake\u001b[0;34m(*args, **kwargs)\u001b[0m\n",
      "\u001b[0;32m~/anaconda3/envs/omnifold/lib/python3.8/site-packages/numpy/core/fromnumeric.py\u001b[0m in \u001b[0;36mtake\u001b[0;34m(a, indices, axis, out, mode)\u001b[0m\n\u001b[1;32m    189\u001b[0m            [5, 7]])\n\u001b[1;32m    190\u001b[0m     \"\"\"\n\u001b[0;32m--> 191\u001b[0;31m     \u001b[0;32mreturn\u001b[0m \u001b[0m_wrapfunc\u001b[0m\u001b[0;34m(\u001b[0m\u001b[0ma\u001b[0m\u001b[0;34m,\u001b[0m \u001b[0;34m'take'\u001b[0m\u001b[0;34m,\u001b[0m \u001b[0mindices\u001b[0m\u001b[0;34m,\u001b[0m \u001b[0maxis\u001b[0m\u001b[0;34m=\u001b[0m\u001b[0maxis\u001b[0m\u001b[0;34m,\u001b[0m \u001b[0mout\u001b[0m\u001b[0;34m=\u001b[0m\u001b[0mout\u001b[0m\u001b[0;34m,\u001b[0m \u001b[0mmode\u001b[0m\u001b[0;34m=\u001b[0m\u001b[0mmode\u001b[0m\u001b[0;34m)\u001b[0m\u001b[0;34m\u001b[0m\u001b[0;34m\u001b[0m\u001b[0m\n\u001b[0m\u001b[1;32m    192\u001b[0m \u001b[0;34m\u001b[0m\u001b[0m\n\u001b[1;32m    193\u001b[0m \u001b[0;34m\u001b[0m\u001b[0m\n",
      "\u001b[0;32m~/anaconda3/envs/omnifold/lib/python3.8/site-packages/numpy/core/fromnumeric.py\u001b[0m in \u001b[0;36m_wrapfunc\u001b[0;34m(obj, method, *args, **kwds)\u001b[0m\n\u001b[1;32m     51\u001b[0m \u001b[0;34m\u001b[0m\u001b[0m\n\u001b[1;32m     52\u001b[0m \u001b[0;32mdef\u001b[0m \u001b[0m_wrapfunc\u001b[0m\u001b[0;34m(\u001b[0m\u001b[0mobj\u001b[0m\u001b[0;34m,\u001b[0m \u001b[0mmethod\u001b[0m\u001b[0;34m,\u001b[0m \u001b[0;34m*\u001b[0m\u001b[0margs\u001b[0m\u001b[0;34m,\u001b[0m \u001b[0;34m**\u001b[0m\u001b[0mkwds\u001b[0m\u001b[0;34m)\u001b[0m\u001b[0;34m:\u001b[0m\u001b[0;34m\u001b[0m\u001b[0;34m\u001b[0m\u001b[0m\n\u001b[0;32m---> 53\u001b[0;31m     \u001b[0mbound\u001b[0m \u001b[0;34m=\u001b[0m \u001b[0mgetattr\u001b[0m\u001b[0;34m(\u001b[0m\u001b[0mobj\u001b[0m\u001b[0;34m,\u001b[0m \u001b[0mmethod\u001b[0m\u001b[0;34m,\u001b[0m \u001b[0;32mNone\u001b[0m\u001b[0;34m)\u001b[0m\u001b[0;34m\u001b[0m\u001b[0;34m\u001b[0m\u001b[0m\n\u001b[0m\u001b[1;32m     54\u001b[0m     \u001b[0;32mif\u001b[0m \u001b[0mbound\u001b[0m \u001b[0;32mis\u001b[0m \u001b[0;32mNone\u001b[0m\u001b[0;34m:\u001b[0m\u001b[0;34m\u001b[0m\u001b[0;34m\u001b[0m\u001b[0m\n\u001b[1;32m     55\u001b[0m         \u001b[0;32mreturn\u001b[0m \u001b[0m_wrapit\u001b[0m\u001b[0;34m(\u001b[0m\u001b[0mobj\u001b[0m\u001b[0;34m,\u001b[0m \u001b[0mmethod\u001b[0m\u001b[0;34m,\u001b[0m \u001b[0;34m*\u001b[0m\u001b[0margs\u001b[0m\u001b[0;34m,\u001b[0m \u001b[0;34m**\u001b[0m\u001b[0mkwds\u001b[0m\u001b[0;34m)\u001b[0m\u001b[0;34m\u001b[0m\u001b[0;34m\u001b[0m\u001b[0m\n",
      "\u001b[0;31mKeyboardInterrupt\u001b[0m: "
     ]
    }
   ],
   "source": [
    "%%time\n",
    "\n",
    "p = 2\n",
    "zz = nmse_error(aa, bb, p)\n",
    "np.save(dirstr + 'zz_{}.npy'.format(p), zz)\n",
    "print(aa[zz == np.min(zz)], bb[zz == np.min(zz)])"
   ]
  },
  {
   "cell_type": "code",
   "execution_count": null,
   "id": "3c2a8400-5115-433f-b19b-bdc6d7881a5a",
   "metadata": {},
   "outputs": [],
   "source": [
    "%%time\n",
    "\n",
    "p = 6\n",
    "zz = nmse_error(aa, bb, p)\n",
    "np.save(dirstr + 'zz_{}.npy'.format(p), zz)\n",
    "print(aa[zz == np.min(zz)], bb[zz == np.min(zz)])"
   ]
  },
  {
   "cell_type": "markdown",
   "id": "5477f975-6cb3-4e45-9f1b-574b11db2bd3",
   "metadata": {},
   "source": [
    "# Plotting MSEs 2"
   ]
  },
  {
   "cell_type": "code",
   "execution_count": 30,
   "id": "35737c8a-c07f-4b5e-863d-297e07ab9dfa",
   "metadata": {},
   "outputs": [],
   "source": [
    "dirstr = 'anims/mse_mae/'\n",
    "\n",
    "aa = np.load(dirstr + 'aa.npy')\n",
    "bb = np.load(dirstr + 'bb.npy')"
   ]
  },
  {
   "cell_type": "code",
   "execution_count": 34,
   "id": "2284674d-fd4d-42fe-838d-e7edbd231ba5",
   "metadata": {},
   "outputs": [
    {
     "ename": "TypeError",
     "evalue": "Shapes of x (201, 201) and z (11, 11) do not match",
     "output_type": "error",
     "traceback": [
      "\u001b[0;31m---------------------------------------------------------------------------\u001b[0m",
      "\u001b[0;31mTypeError\u001b[0m                                 Traceback (most recent call last)",
      "\u001b[0;32m/tmp/ipykernel_20973/134028940.py\u001b[0m in \u001b[0;36m<module>\u001b[0;34m\u001b[0m\n\u001b[1;32m      2\u001b[0m \u001b[0;34m\u001b[0m\u001b[0m\n\u001b[1;32m      3\u001b[0m \u001b[0;31m#zz = np.load(dirstr + 'zz_{}.npy'.format(p))\u001b[0m\u001b[0;34m\u001b[0m\u001b[0;34m\u001b[0m\u001b[0;34m\u001b[0m\u001b[0m\n\u001b[0;32m----> 4\u001b[0;31m \u001b[0mplt\u001b[0m\u001b[0;34m.\u001b[0m\u001b[0mcontourf\u001b[0m\u001b[0;34m(\u001b[0m\u001b[0maa\u001b[0m\u001b[0;34m,\u001b[0m \u001b[0mbb\u001b[0m\u001b[0;34m,\u001b[0m \u001b[0mzz\u001b[0m\u001b[0;34m,\u001b[0m \u001b[0mlevels\u001b[0m \u001b[0;34m=\u001b[0m \u001b[0;36m100\u001b[0m\u001b[0;34m,\u001b[0m \u001b[0mcmap\u001b[0m \u001b[0;34m=\u001b[0m \u001b[0;34m'plasma'\u001b[0m\u001b[0;34m)\u001b[0m\u001b[0;34m\u001b[0m\u001b[0;34m\u001b[0m\u001b[0m\n\u001b[0m\u001b[1;32m      5\u001b[0m \u001b[0mplt\u001b[0m\u001b[0;34m.\u001b[0m\u001b[0mcolorbar\u001b[0m\u001b[0;34m(\u001b[0m\u001b[0;34m)\u001b[0m\u001b[0;34m\u001b[0m\u001b[0;34m\u001b[0m\u001b[0m\n\u001b[1;32m      6\u001b[0m \u001b[0mplt\u001b[0m\u001b[0;34m.\u001b[0m\u001b[0mcontour\u001b[0m\u001b[0;34m(\u001b[0m\u001b[0maa\u001b[0m\u001b[0;34m,\u001b[0m \u001b[0mbb\u001b[0m\u001b[0;34m,\u001b[0m \u001b[0mzz\u001b[0m\u001b[0;34m,\u001b[0m \u001b[0mcolors\u001b[0m \u001b[0;34m=\u001b[0m \u001b[0;34m'white'\u001b[0m\u001b[0;34m)\u001b[0m\u001b[0;34m\u001b[0m\u001b[0;34m\u001b[0m\u001b[0m\n",
      "\u001b[0;32m~/anaconda3/envs/omnifold/lib/python3.8/site-packages/matplotlib/pyplot.py\u001b[0m in \u001b[0;36mcontourf\u001b[0;34m(data, *args, **kwargs)\u001b[0m\n\u001b[1;32m   2575\u001b[0m \u001b[0;34m@\u001b[0m\u001b[0m_copy_docstring_and_deprecators\u001b[0m\u001b[0;34m(\u001b[0m\u001b[0mAxes\u001b[0m\u001b[0;34m.\u001b[0m\u001b[0mcontourf\u001b[0m\u001b[0;34m)\u001b[0m\u001b[0;34m\u001b[0m\u001b[0;34m\u001b[0m\u001b[0m\n\u001b[1;32m   2576\u001b[0m \u001b[0;32mdef\u001b[0m \u001b[0mcontourf\u001b[0m\u001b[0;34m(\u001b[0m\u001b[0;34m*\u001b[0m\u001b[0margs\u001b[0m\u001b[0;34m,\u001b[0m \u001b[0mdata\u001b[0m\u001b[0;34m=\u001b[0m\u001b[0;32mNone\u001b[0m\u001b[0;34m,\u001b[0m \u001b[0;34m**\u001b[0m\u001b[0mkwargs\u001b[0m\u001b[0;34m)\u001b[0m\u001b[0;34m:\u001b[0m\u001b[0;34m\u001b[0m\u001b[0;34m\u001b[0m\u001b[0m\n\u001b[0;32m-> 2577\u001b[0;31m     __ret = gca().contourf(\n\u001b[0m\u001b[1;32m   2578\u001b[0m         \u001b[0;34m*\u001b[0m\u001b[0margs\u001b[0m\u001b[0;34m,\u001b[0m \u001b[0;34m**\u001b[0m\u001b[0;34m(\u001b[0m\u001b[0;34m{\u001b[0m\u001b[0;34m\"data\"\u001b[0m\u001b[0;34m:\u001b[0m \u001b[0mdata\u001b[0m\u001b[0;34m}\u001b[0m \u001b[0;32mif\u001b[0m \u001b[0mdata\u001b[0m \u001b[0;32mis\u001b[0m \u001b[0;32mnot\u001b[0m \u001b[0;32mNone\u001b[0m \u001b[0;32melse\u001b[0m \u001b[0;34m{\u001b[0m\u001b[0;34m}\u001b[0m\u001b[0;34m)\u001b[0m\u001b[0;34m,\u001b[0m\u001b[0;34m\u001b[0m\u001b[0;34m\u001b[0m\u001b[0m\n\u001b[1;32m   2579\u001b[0m         **kwargs)\n",
      "\u001b[0;32m~/anaconda3/envs/omnifold/lib/python3.8/site-packages/matplotlib/__init__.py\u001b[0m in \u001b[0;36minner\u001b[0;34m(ax, data, *args, **kwargs)\u001b[0m\n\u001b[1;32m   1445\u001b[0m     \u001b[0;32mdef\u001b[0m \u001b[0minner\u001b[0m\u001b[0;34m(\u001b[0m\u001b[0max\u001b[0m\u001b[0;34m,\u001b[0m \u001b[0;34m*\u001b[0m\u001b[0margs\u001b[0m\u001b[0;34m,\u001b[0m \u001b[0mdata\u001b[0m\u001b[0;34m=\u001b[0m\u001b[0;32mNone\u001b[0m\u001b[0;34m,\u001b[0m \u001b[0;34m**\u001b[0m\u001b[0mkwargs\u001b[0m\u001b[0;34m)\u001b[0m\u001b[0;34m:\u001b[0m\u001b[0;34m\u001b[0m\u001b[0;34m\u001b[0m\u001b[0m\n\u001b[1;32m   1446\u001b[0m         \u001b[0;32mif\u001b[0m \u001b[0mdata\u001b[0m \u001b[0;32mis\u001b[0m \u001b[0;32mNone\u001b[0m\u001b[0;34m:\u001b[0m\u001b[0;34m\u001b[0m\u001b[0;34m\u001b[0m\u001b[0m\n\u001b[0;32m-> 1447\u001b[0;31m             \u001b[0;32mreturn\u001b[0m \u001b[0mfunc\u001b[0m\u001b[0;34m(\u001b[0m\u001b[0max\u001b[0m\u001b[0;34m,\u001b[0m \u001b[0;34m*\u001b[0m\u001b[0mmap\u001b[0m\u001b[0;34m(\u001b[0m\u001b[0msanitize_sequence\u001b[0m\u001b[0;34m,\u001b[0m \u001b[0margs\u001b[0m\u001b[0;34m)\u001b[0m\u001b[0;34m,\u001b[0m \u001b[0;34m**\u001b[0m\u001b[0mkwargs\u001b[0m\u001b[0;34m)\u001b[0m\u001b[0;34m\u001b[0m\u001b[0;34m\u001b[0m\u001b[0m\n\u001b[0m\u001b[1;32m   1448\u001b[0m \u001b[0;34m\u001b[0m\u001b[0m\n\u001b[1;32m   1449\u001b[0m         \u001b[0mbound\u001b[0m \u001b[0;34m=\u001b[0m \u001b[0mnew_sig\u001b[0m\u001b[0;34m.\u001b[0m\u001b[0mbind\u001b[0m\u001b[0;34m(\u001b[0m\u001b[0max\u001b[0m\u001b[0;34m,\u001b[0m \u001b[0;34m*\u001b[0m\u001b[0margs\u001b[0m\u001b[0;34m,\u001b[0m \u001b[0;34m**\u001b[0m\u001b[0mkwargs\u001b[0m\u001b[0;34m)\u001b[0m\u001b[0;34m\u001b[0m\u001b[0;34m\u001b[0m\u001b[0m\n",
      "\u001b[0;32m~/anaconda3/envs/omnifold/lib/python3.8/site-packages/matplotlib/axes/_axes.py\u001b[0m in \u001b[0;36mcontourf\u001b[0;34m(self, *args, **kwargs)\u001b[0m\n\u001b[1;32m   6333\u001b[0m     \u001b[0;32mdef\u001b[0m \u001b[0mcontourf\u001b[0m\u001b[0;34m(\u001b[0m\u001b[0mself\u001b[0m\u001b[0;34m,\u001b[0m \u001b[0;34m*\u001b[0m\u001b[0margs\u001b[0m\u001b[0;34m,\u001b[0m \u001b[0;34m**\u001b[0m\u001b[0mkwargs\u001b[0m\u001b[0;34m)\u001b[0m\u001b[0;34m:\u001b[0m\u001b[0;34m\u001b[0m\u001b[0;34m\u001b[0m\u001b[0m\n\u001b[1;32m   6334\u001b[0m         \u001b[0mkwargs\u001b[0m\u001b[0;34m[\u001b[0m\u001b[0;34m'filled'\u001b[0m\u001b[0;34m]\u001b[0m \u001b[0;34m=\u001b[0m \u001b[0;32mTrue\u001b[0m\u001b[0;34m\u001b[0m\u001b[0;34m\u001b[0m\u001b[0m\n\u001b[0;32m-> 6335\u001b[0;31m         \u001b[0mcontours\u001b[0m \u001b[0;34m=\u001b[0m \u001b[0mmcontour\u001b[0m\u001b[0;34m.\u001b[0m\u001b[0mQuadContourSet\u001b[0m\u001b[0;34m(\u001b[0m\u001b[0mself\u001b[0m\u001b[0;34m,\u001b[0m \u001b[0;34m*\u001b[0m\u001b[0margs\u001b[0m\u001b[0;34m,\u001b[0m \u001b[0;34m**\u001b[0m\u001b[0mkwargs\u001b[0m\u001b[0;34m)\u001b[0m\u001b[0;34m\u001b[0m\u001b[0;34m\u001b[0m\u001b[0m\n\u001b[0m\u001b[1;32m   6336\u001b[0m         \u001b[0mself\u001b[0m\u001b[0;34m.\u001b[0m\u001b[0m_request_autoscale_view\u001b[0m\u001b[0;34m(\u001b[0m\u001b[0;34m)\u001b[0m\u001b[0;34m\u001b[0m\u001b[0;34m\u001b[0m\u001b[0m\n\u001b[1;32m   6337\u001b[0m         \u001b[0;32mreturn\u001b[0m \u001b[0mcontours\u001b[0m\u001b[0;34m\u001b[0m\u001b[0;34m\u001b[0m\u001b[0m\n",
      "\u001b[0;32m~/anaconda3/envs/omnifold/lib/python3.8/site-packages/matplotlib/contour.py\u001b[0m in \u001b[0;36m__init__\u001b[0;34m(self, ax, levels, filled, linewidths, linestyles, hatches, alpha, origin, extent, cmap, colors, norm, vmin, vmax, extend, antialiased, nchunk, locator, transform, *args, **kwargs)\u001b[0m\n\u001b[1;32m    814\u001b[0m         \u001b[0mself\u001b[0m\u001b[0;34m.\u001b[0m\u001b[0m_transform\u001b[0m \u001b[0;34m=\u001b[0m \u001b[0mtransform\u001b[0m\u001b[0;34m\u001b[0m\u001b[0;34m\u001b[0m\u001b[0m\n\u001b[1;32m    815\u001b[0m \u001b[0;34m\u001b[0m\u001b[0m\n\u001b[0;32m--> 816\u001b[0;31m         \u001b[0mkwargs\u001b[0m \u001b[0;34m=\u001b[0m \u001b[0mself\u001b[0m\u001b[0;34m.\u001b[0m\u001b[0m_process_args\u001b[0m\u001b[0;34m(\u001b[0m\u001b[0;34m*\u001b[0m\u001b[0margs\u001b[0m\u001b[0;34m,\u001b[0m \u001b[0;34m**\u001b[0m\u001b[0mkwargs\u001b[0m\u001b[0;34m)\u001b[0m\u001b[0;34m\u001b[0m\u001b[0;34m\u001b[0m\u001b[0m\n\u001b[0m\u001b[1;32m    817\u001b[0m         \u001b[0mself\u001b[0m\u001b[0;34m.\u001b[0m\u001b[0m_process_levels\u001b[0m\u001b[0;34m(\u001b[0m\u001b[0;34m)\u001b[0m\u001b[0;34m\u001b[0m\u001b[0;34m\u001b[0m\u001b[0m\n\u001b[1;32m    818\u001b[0m \u001b[0;34m\u001b[0m\u001b[0m\n",
      "\u001b[0;32m~/anaconda3/envs/omnifold/lib/python3.8/site-packages/matplotlib/contour.py\u001b[0m in \u001b[0;36m_process_args\u001b[0;34m(self, corner_mask, *args, **kwargs)\u001b[0m\n\u001b[1;32m   1428\u001b[0m             \u001b[0mself\u001b[0m\u001b[0;34m.\u001b[0m\u001b[0m_corner_mask\u001b[0m \u001b[0;34m=\u001b[0m \u001b[0mcorner_mask\u001b[0m\u001b[0;34m\u001b[0m\u001b[0;34m\u001b[0m\u001b[0m\n\u001b[1;32m   1429\u001b[0m \u001b[0;34m\u001b[0m\u001b[0m\n\u001b[0;32m-> 1430\u001b[0;31m             \u001b[0mx\u001b[0m\u001b[0;34m,\u001b[0m \u001b[0my\u001b[0m\u001b[0;34m,\u001b[0m \u001b[0mz\u001b[0m \u001b[0;34m=\u001b[0m \u001b[0mself\u001b[0m\u001b[0;34m.\u001b[0m\u001b[0m_contour_args\u001b[0m\u001b[0;34m(\u001b[0m\u001b[0margs\u001b[0m\u001b[0;34m,\u001b[0m \u001b[0mkwargs\u001b[0m\u001b[0;34m)\u001b[0m\u001b[0;34m\u001b[0m\u001b[0;34m\u001b[0m\u001b[0m\n\u001b[0m\u001b[1;32m   1431\u001b[0m \u001b[0;34m\u001b[0m\u001b[0m\n\u001b[1;32m   1432\u001b[0m             \u001b[0m_mask\u001b[0m \u001b[0;34m=\u001b[0m \u001b[0mma\u001b[0m\u001b[0;34m.\u001b[0m\u001b[0mgetmask\u001b[0m\u001b[0;34m(\u001b[0m\u001b[0mz\u001b[0m\u001b[0;34m)\u001b[0m\u001b[0;34m\u001b[0m\u001b[0;34m\u001b[0m\u001b[0m\n",
      "\u001b[0;32m~/anaconda3/envs/omnifold/lib/python3.8/site-packages/matplotlib/contour.py\u001b[0m in \u001b[0;36m_contour_args\u001b[0;34m(self, args, kwargs)\u001b[0m\n\u001b[1;32m   1486\u001b[0m             \u001b[0margs\u001b[0m \u001b[0;34m=\u001b[0m \u001b[0margs\u001b[0m\u001b[0;34m[\u001b[0m\u001b[0;36m1\u001b[0m\u001b[0;34m:\u001b[0m\u001b[0;34m]\u001b[0m\u001b[0;34m\u001b[0m\u001b[0;34m\u001b[0m\u001b[0m\n\u001b[1;32m   1487\u001b[0m         \u001b[0;32melif\u001b[0m \u001b[0mNargs\u001b[0m \u001b[0;34m<=\u001b[0m \u001b[0;36m4\u001b[0m\u001b[0;34m:\u001b[0m\u001b[0;34m\u001b[0m\u001b[0;34m\u001b[0m\u001b[0m\n\u001b[0;32m-> 1488\u001b[0;31m             \u001b[0mx\u001b[0m\u001b[0;34m,\u001b[0m \u001b[0my\u001b[0m\u001b[0;34m,\u001b[0m \u001b[0mz\u001b[0m \u001b[0;34m=\u001b[0m \u001b[0mself\u001b[0m\u001b[0;34m.\u001b[0m\u001b[0m_check_xyz\u001b[0m\u001b[0;34m(\u001b[0m\u001b[0margs\u001b[0m\u001b[0;34m[\u001b[0m\u001b[0;34m:\u001b[0m\u001b[0;36m3\u001b[0m\u001b[0;34m]\u001b[0m\u001b[0;34m,\u001b[0m \u001b[0mkwargs\u001b[0m\u001b[0;34m)\u001b[0m\u001b[0;34m\u001b[0m\u001b[0;34m\u001b[0m\u001b[0m\n\u001b[0m\u001b[1;32m   1489\u001b[0m             \u001b[0margs\u001b[0m \u001b[0;34m=\u001b[0m \u001b[0margs\u001b[0m\u001b[0;34m[\u001b[0m\u001b[0;36m3\u001b[0m\u001b[0;34m:\u001b[0m\u001b[0;34m]\u001b[0m\u001b[0;34m\u001b[0m\u001b[0;34m\u001b[0m\u001b[0m\n\u001b[1;32m   1490\u001b[0m         \u001b[0;32melse\u001b[0m\u001b[0;34m:\u001b[0m\u001b[0;34m\u001b[0m\u001b[0;34m\u001b[0m\u001b[0m\n",
      "\u001b[0;32m~/anaconda3/envs/omnifold/lib/python3.8/site-packages/matplotlib/contour.py\u001b[0m in \u001b[0;36m_check_xyz\u001b[0;34m(self, args, kwargs)\u001b[0m\n\u001b[1;32m   1538\u001b[0m         \u001b[0;32melif\u001b[0m \u001b[0mx\u001b[0m\u001b[0;34m.\u001b[0m\u001b[0mndim\u001b[0m \u001b[0;34m==\u001b[0m \u001b[0;36m2\u001b[0m\u001b[0;34m:\u001b[0m\u001b[0;34m\u001b[0m\u001b[0;34m\u001b[0m\u001b[0m\n\u001b[1;32m   1539\u001b[0m             \u001b[0;32mif\u001b[0m \u001b[0mx\u001b[0m\u001b[0;34m.\u001b[0m\u001b[0mshape\u001b[0m \u001b[0;34m!=\u001b[0m \u001b[0mz\u001b[0m\u001b[0;34m.\u001b[0m\u001b[0mshape\u001b[0m\u001b[0;34m:\u001b[0m\u001b[0;34m\u001b[0m\u001b[0;34m\u001b[0m\u001b[0m\n\u001b[0;32m-> 1540\u001b[0;31m                 raise TypeError(\n\u001b[0m\u001b[1;32m   1541\u001b[0m                     f\"Shapes of x {x.shape} and z {z.shape} do not match\")\n\u001b[1;32m   1542\u001b[0m             \u001b[0;32mif\u001b[0m \u001b[0my\u001b[0m\u001b[0;34m.\u001b[0m\u001b[0mshape\u001b[0m \u001b[0;34m!=\u001b[0m \u001b[0mz\u001b[0m\u001b[0;34m.\u001b[0m\u001b[0mshape\u001b[0m\u001b[0;34m:\u001b[0m\u001b[0;34m\u001b[0m\u001b[0;34m\u001b[0m\u001b[0m\n",
      "\u001b[0;31mTypeError\u001b[0m: Shapes of x (201, 201) and z (11, 11) do not match"
     ]
    },
    {
     "data": {
      "image/png": "[encoded data removed]",
      "text/plain": [
       "<Figure size 432x288 with 1 Axes>"
      ]
     },
     "metadata": {
      "needs_background": "light"
     },
     "output_type": "display_data"
    }
   ],
   "source": [
    "p = 1.05\n",
    "\n",
    "#zz = np.load(dirstr + 'zz_{}.npy'.format(p))\n",
    "plt.contourf(aa, bb, zz, levels = 100, cmap = 'plasma')\n",
    "plt.colorbar()\n",
    "plt.contour(aa, bb, zz, colors = 'white')\n",
    "plt.title(r'$p = {}$'.format(p), loc = 'right')\n",
    "\n",
    "plt.gca().set_aspect('equal')\n",
    "'''\n",
    "plt.savefig('plots/paper/ab_mse_mae_1.05.png', \n",
    "            dpi=300, \n",
    "            bbox_inches='tight')\n",
    "            '''"
   ]
  },
  {
   "cell_type": "code",
   "execution_count": null,
   "id": "1b19b5b5-a4b9-46b9-a195-af1a17f7fe43",
   "metadata": {},
   "outputs": [],
   "source": [
    "p = 1.25\n",
    "\n",
    "#zz = np.load(dirstr + 'zz_{}.npy'.format(p))\n",
    "plt.contourf(aa, bb, zz, levels = 100, cmap = 'plasma')\n",
    "plt.colorbar()\n",
    "plt.contour(aa, bb, zz, colors = 'white')\n",
    "plt.title(r'$p = {}$'.format(p), loc = 'right')\n",
    "\n",
    "plt.gca().set_aspect('equal')\n",
    "\n",
    "'''plt.savefig('plots/paper/ab_mse_mae_1.25.png', \n",
    "            dpi=300, \n",
    "            bbox_inches='tight')'''"
   ]
  },
  {
   "cell_type": "markdown",
   "id": "deb95377-194d-4f2f-aa93-e673265ded45",
   "metadata": {
    "jp-MarkdownHeadingCollapsed": true,
    "tags": []
   },
   "source": [
    "# SQR MAEs"
   ]
  },
  {
   "cell_type": "code",
   "execution_count": null,
   "id": "636376fd-ec8e-4e4b-a43b-be1ec8e2d513",
   "metadata": {},
   "outputs": [],
   "source": [
    "dirstr = 'anims/sqr_mae/'"
   ]
  },
  {
   "cell_type": "code",
   "execution_count": null,
   "id": "ca47ac19-ce2e-479e-9c78-63523f5839db",
   "metadata": {},
   "outputs": [],
   "source": [
    "aa, bb = np.meshgrid(np.linspace(-1, 1, 201), np.linspace(-1, 1, 201))\n",
    "\n",
    "np.save(dirstr + 'aa.npy', aa)\n",
    "np.save(dirstr + 'bb.npy', bb)"
   ]
  },
  {
   "cell_type": "code",
   "execution_count": null,
   "id": "bc418e55-a66a-45cc-92d7-38c5cb615a84",
   "metadata": {},
   "outputs": [],
   "source": [
    "r = 0.005\n",
    "zz = nsqr_error(aa, bb, r)\n",
    "np.save(dirstr + 'zz_{}.npy'.format(r), zz)\n",
    "print(aa[zz == np.min(zz)], bb[zz == np.min(zz)])"
   ]
  },
  {
   "cell_type": "code",
   "execution_count": null,
   "id": "ef8f2863-315f-4480-a0e9-5909ed6b65e7",
   "metadata": {},
   "outputs": [],
   "source": [
    "r = 0.02\n",
    "zz = nsqr_error(aa, bb, r)\n",
    "np.save(dirstr + 'zz_{}.npy'.format(r), zz)\n",
    "print(aa[zz == np.min(zz)], bb[zz == np.min(zz)])"
   ]
  },
  {
   "cell_type": "code",
   "execution_count": null,
   "id": "43c3de08-5bb6-47b0-9536-3b255da1b794",
   "metadata": {},
   "outputs": [],
   "source": [
    "r = 1\n",
    "zz = nsqr_error(aa, bb, r)\n",
    "np.save(dirstr + 'zz_{}.npy'.format(r), zz)\n",
    "print(aa[zz == np.min(zz)], bb[zz == np.min(zz)])"
   ]
  },
  {
   "cell_type": "code",
   "execution_count": null,
   "id": "dee32438-1d06-4c2d-b25c-32b5e42868af",
   "metadata": {},
   "outputs": [],
   "source": [
    "r = 5\n",
    "zz = nsqr_error(aa, bb, r)\n",
    "np.save(dirstr + 'zz_{}.npy'.format(r), zz)\n",
    "print(aa[zz == np.min(zz)], bb[zz == np.min(zz)])"
   ]
  },
  {
   "cell_type": "markdown",
   "id": "d4e47ca4-bc3b-41ba-8260-b4602ca6d527",
   "metadata": {
    "jp-MarkdownHeadingCollapsed": true,
    "tags": []
   },
   "source": [
    "# Basic Run"
   ]
  },
  {
   "cell_type": "code",
   "execution_count": null,
   "id": "f520997d-e6dc-49ed-ab19-32dbc544106e",
   "metadata": {},
   "outputs": [],
   "source": [
    "avgs = np.load('models/univariate/simple/ab_mse/set_0/avgs.npy')\n",
    "ps = np.round(np.linspace(-2, 2, 101), 2)"
   ]
  },
  {
   "cell_type": "code",
   "execution_count": null,
   "id": "68c7e175-a832-4bbf-b3de-e64269c29010",
   "metadata": {},
   "outputs": [],
   "source": [
    "ps[(ps >= 1) & (ps <= 1.5)]"
   ]
  },
  {
   "cell_type": "code",
   "execution_count": null,
   "id": "16c099a1-b40c-43b5-8a8c-bade5e5c7b44",
   "metadata": {},
   "outputs": [],
   "source": [
    "avgs[(ps >= 1) & (ps <= 1.5)]"
   ]
  },
  {
   "cell_type": "markdown",
   "id": "0bdfe44f-525a-469f-ab81-44f95333072e",
   "metadata": {
    "jp-MarkdownHeadingCollapsed": true,
    "tags": []
   },
   "source": [
    "# Empirical"
   ]
  },
  {
   "cell_type": "code",
   "execution_count": null,
   "id": "88dc6e49-5881-4de8-8f27-245a3bcc02dd",
   "metadata": {},
   "outputs": [],
   "source": [
    "p = -1\n",
    "aa, bb = np.meshgrid(np.linspace(-3, 3, 101), np.linspace(-3, 3, 101))\n",
    "zz = mse_p(aa, bb, p)\n",
    "\n",
    "fig = plt.figure(figsize = (15, 30))\n",
    "ax = fig.add_subplot(4, 2, 1, projection = '3d')\n",
    "ax.scatter(aa, bb, zz, s = 5, c = zz, cmap = 'viridis')\n",
    "ax.set_xlabel(r'$a$')\n",
    "ax.set_ylabel(r'$b$')\n",
    "ax.set_title(r'$p = {}$'.format(p))\n",
    "print(aa[zz == np.min(zz)], bb[zz == np.min(zz)])"
   ]
  },
  {
   "cell_type": "code",
   "execution_count": null,
   "id": "76d43f85-7307-4ab6-8d78-f6c975168832",
   "metadata": {},
   "outputs": [],
   "source": [
    "p = 0.5\n",
    "aa, bb = np.meshgrid(np.linspace(-3, 3, 101), np.linspace(-3, 3, 101))\n",
    "zz = mse_p(aa, bb, p)\n",
    "\n",
    "fig = plt.figure(figsize = (15, 30))\n",
    "ax = fig.add_subplot(4, 2, 1, projection = '3d')\n",
    "ax.scatter(aa, bb, zz, s = 5, c = zz, cmap = 'viridis')\n",
    "ax.set_xlabel(r'$a$')\n",
    "ax.set_ylabel(r'$b$')\n",
    "ax.set_title(r'$p = {}$'.format(p))\n",
    "print(aa[zz == np.min(zz)], bb[zz == np.min(zz)])"
   ]
  },
  {
   "cell_type": "code",
   "execution_count": null,
   "id": "561c5db7-9180-4629-bd94-b3a372ac05f9",
   "metadata": {},
   "outputs": [],
   "source": [
    "p = 1\n",
    "aa, bb = np.meshgrid(np.linspace(-3, 3, 101), np.linspace(-3, 3, 101))\n",
    "zz = mse_p(aa, bb, p)\n",
    "\n",
    "fig = plt.figure(figsize = (15, 30))\n",
    "ax = fig.add_subplot(4, 2, 1, projection = '3d')\n",
    "ax.scatter(aa, bb, zz, s = 5, c = zz, cmap = 'viridis')\n",
    "ax.set_xlabel(r'$a$')\n",
    "ax.set_ylabel(r'$b$')\n",
    "ax.set_title(r'$p = {}$'.format(p))\n",
    "print(aa[zz == np.min(zz)], bb[zz == np.min(zz)])"
   ]
  },
  {
   "cell_type": "code",
   "execution_count": null,
   "id": "449dd64d-9875-40fe-8bda-b35d4780a718",
   "metadata": {},
   "outputs": [],
   "source": [
    "p = 1.24\n",
    "aa, bb = np.meshgrid(np.linspace(-3, 3, 101), np.linspace(-3, 3, 101))\n",
    "zz = mse_p(aa, bb, p)\n",
    "\n",
    "fig = plt.figure(figsize = (15, 30))\n",
    "ax = fig.add_subplot(4, 2, 1, projection = '3d')\n",
    "ax.scatter(aa, bb, zz, s = 5, c = zz, cmap = 'viridis')\n",
    "ax.set_xlabel(r'$a$')\n",
    "ax.set_ylabel(r'$b$')\n",
    "ax.set_title(r'$p = {}$'.format(p))\n",
    "print(aa[zz == np.min(zz)], bb[zz == np.min(zz)])"
   ]
  },
  {
   "cell_type": "code",
   "execution_count": null,
   "id": "a723bde0-32e0-4131-85be-46b6d30c22ce",
   "metadata": {},
   "outputs": [],
   "source": [
    "p = 1.48\n",
    "aa, bb = np.meshgrid(np.linspace(-3, 3, 101), np.linspace(-3, 3, 101))\n",
    "zz = mse_p(aa, bb, p)\n",
    "\n",
    "fig = plt.figure(figsize = (15, 30))\n",
    "ax = fig.add_subplot(4, 2, 1, projection = '3d')\n",
    "ax.scatter(aa, bb, zz, s = 5, c = zz, cmap = 'viridis')\n",
    "ax.set_xlabel(r'$a$')\n",
    "ax.set_ylabel(r'$b$')\n",
    "ax.set_title(r'$p = {}$'.format(p))\n",
    "print(aa[zz == np.min(zz)], bb[zz == np.min(zz)])"
   ]
  },
  {
   "cell_type": "code",
   "execution_count": null,
   "id": "e4764173-6544-4000-8198-2504d0f8adac",
   "metadata": {},
   "outputs": [],
   "source": [
    "p = 2\n",
    "aa, bb = np.meshgrid(np.linspace(-3, 3, 101), np.linspace(-3, 3, 101))\n",
    "zz = mse_p(aa, bb, p)\n",
    "\n",
    "fig = plt.figure(figsize = (15, 30))\n",
    "ax = fig.add_subplot(4, 2, 1, projection = '3d')\n",
    "ax.scatter(aa, bb, zz, s = 5, c = zz, cmap = 'viridis')\n",
    "ax.set_xlabel(r'$a$')\n",
    "ax.set_ylabel(r'$b$')\n",
    "ax.set_title(r'$p = {}$'.format(p))\n",
    "print(aa[zz == np.min(zz)], bb[zz == np.min(zz)])"
   ]
  },
  {
   "cell_type": "code",
   "execution_count": null,
   "id": "07201b45-5075-4743-ac10-99cbca014f38",
   "metadata": {},
   "outputs": [],
   "source": [
    "p = 10\n",
    "aa, bb = np.meshgrid(np.linspace(-3, 3, 101), np.linspace(-3, 3, 101))\n",
    "zz = mse_p(aa, bb, p)\n",
    "\n",
    "fig = plt.figure(figsize = (15, 30))\n",
    "ax = fig.add_subplot(4, 2, 1, projection = '3d')\n",
    "ax.scatter(aa, bb, zz, s = 5, c = zz, cmap = 'viridis')\n",
    "ax.set_xlabel(r'$a$')\n",
    "ax.set_ylabel(r'$b$')\n",
    "ax.set_title(r'$p = {}$'.format(p))\n",
    "print(aa[zz == np.min(zz)], bb[zz == np.min(zz)])"
   ]
  },
  {
   "cell_type": "markdown",
   "id": "92007ac0-d347-490b-84d8-a2067bd5357f",
   "metadata": {
    "jp-MarkdownHeadingCollapsed": true,
    "tags": []
   },
   "source": [
    "# Numerical (MSE)"
   ]
  },
  {
   "cell_type": "markdown",
   "id": "dd51d2e0-41c8-4c46-bbfb-ea5a9d472ce9",
   "metadata": {},
   "source": [
    "Changing the value by 0.01 has what affect on the likelihood ratio?"
   ]
  },
  {
   "cell_type": "code",
   "execution_count": null,
   "id": "adaf5352-5634-4e58-b949-83b3d515b736",
   "metadata": {},
   "outputs": [],
   "source": [
    "dirstr = 'anims/mse/'"
   ]
  },
  {
   "cell_type": "code",
   "execution_count": null,
   "id": "4419b1b0-dd96-4895-8202-430c7b55708f",
   "metadata": {},
   "outputs": [],
   "source": [
    "aa, bb = np.meshgrid(np.linspace(-1, 1, 2001), np.linspace(-1, 1, 2001))\n",
    "\n",
    "np.save(dirstr + 'aa.npy', aa)\n",
    "np.save(dirstr + 'bb.npy', bb)"
   ]
  },
  {
   "cell_type": "code",
   "execution_count": null,
   "id": "0b77f256-cf36-4fbd-b239-420ed66fe5b6",
   "metadata": {},
   "outputs": [],
   "source": [
    "p = 1.05\n",
    "zz = nmse_p(aa, bb, p)\n",
    "np.save(dirstr + 'zz_{}.npy'.format(p), zz)\n",
    "print(aa[zz == np.min(zz)], bb[zz == np.min(zz)])"
   ]
  },
  {
   "cell_type": "code",
   "execution_count": null,
   "id": "6cfc26e2-39d7-4f13-8b7b-9d6b6046f883",
   "metadata": {},
   "outputs": [],
   "source": [
    "p = 1.25\n",
    "zz = nmse_p(aa, bb, p)\n",
    "np.save(dirstr + 'zz_{}.npy'.format(p), zz)\n",
    "print(aa[zz == np.min(zz)], bb[zz == np.min(zz)])"
   ]
  },
  {
   "cell_type": "code",
   "execution_count": null,
   "id": "15c9a29b-f71a-4cf8-a7ed-06bfbeb6feb6",
   "metadata": {},
   "outputs": [],
   "source": [
    "p = 2\n",
    "zz = nmse_p(aa, bb, p)\n",
    "np.save(dirstr + 'zz_{}.npy'.format(p), zz)\n",
    "print(aa[zz == np.min(zz)], bb[zz == np.min(zz)])"
   ]
  },
  {
   "cell_type": "code",
   "execution_count": null,
   "id": "c767a36c-fc8d-490d-a204-fcc3adac3b52",
   "metadata": {},
   "outputs": [],
   "source": [
    "p = 6\n",
    "zz = nmse_p(aa, bb, p)\n",
    "np.save(dirstr + 'zz_{}.npy'.format(p), zz)\n",
    "print(aa[zz == np.min(zz)], bb[zz == np.min(zz)])"
   ]
  },
  {
   "cell_type": "markdown",
   "id": "53bbfd79-68fc-4b85-b253-360f7da6ae2b",
   "metadata": {
    "jp-MarkdownHeadingCollapsed": true,
    "tags": []
   },
   "source": [
    "# Numerical (SQR)"
   ]
  },
  {
   "cell_type": "code",
   "execution_count": null,
   "id": "1722ba0c-4de4-4dc0-8319-14b621c8e265",
   "metadata": {},
   "outputs": [],
   "source": [
    "dirstr = 'anims/sqr/'"
   ]
  },
  {
   "cell_type": "code",
   "execution_count": null,
   "id": "8e7805b3-2120-402c-b70e-fb2cfd40049f",
   "metadata": {},
   "outputs": [],
   "source": [
    "aa, bb = np.meshgrid(np.linspace(-1, 1, 2001), np.linspace(-1, 1, 2001))\n",
    "\n",
    "np.save(dirstr + 'aa.npy', aa)\n",
    "np.save(dirstr + 'bb.npy', bb)"
   ]
  },
  {
   "cell_type": "code",
   "execution_count": null,
   "id": "10244dad-4ad6-4de8-8c2a-fa7d898bb286",
   "metadata": {},
   "outputs": [],
   "source": [
    "r = 0.005\n",
    "zz = nexp_sqr_r(aa, bb, r)\n",
    "np.save(dirstr + 'zz_{}.npy'.format(r), zz)\n",
    "print(aa[zz == np.min(zz)], bb[zz == np.min(zz)])"
   ]
  },
  {
   "cell_type": "code",
   "execution_count": null,
   "id": "76152ee1-ea73-48df-af86-11d1e8ce737b",
   "metadata": {},
   "outputs": [],
   "source": [
    "r = 0.02\n",
    "zz = nexp_sqr_r(aa, bb, r)\n",
    "np.save(dirstr + 'zz_{}.npy'.format(r), zz)\n",
    "print(aa[zz == np.min(zz)], bb[zz == np.min(zz)])"
   ]
  },
  {
   "cell_type": "code",
   "execution_count": null,
   "id": "af596e49-ef89-4317-8fcf-29aa44cdc9de",
   "metadata": {},
   "outputs": [],
   "source": [
    "r = 1\n",
    "zz = nexp_sqr_r(aa, bb, r)\n",
    "np.save(dirstr + 'zz_{}.npy'.format(r), zz)\n",
    "print(aa[zz == np.min(zz)], bb[zz == np.min(zz)])"
   ]
  },
  {
   "cell_type": "code",
   "execution_count": null,
   "id": "a753a5d0-eff8-4280-8ba9-de2dbb141926",
   "metadata": {},
   "outputs": [],
   "source": [
    "r = 5\n",
    "zz = nexp_sqr_r(aa, bb, r)\n",
    "np.save(dirstr + 'zz_{}.npy'.format(r), zz)\n",
    "print(aa[zz == np.min(zz)], bb[zz == np.min(zz)])"
   ]
  },
  {
   "cell_type": "markdown",
   "id": "2e334769-eb62-4526-873b-3e1d7f028ba4",
   "metadata": {
    "tags": []
   },
   "source": [
    "# Plotting (MSE)"
   ]
  },
  {
   "cell_type": "code",
   "execution_count": null,
   "id": "d45109a0-6c8a-4549-8e49-1cf39836c8e2",
   "metadata": {},
   "outputs": [],
   "source": [
    "dirstr = 'anims/mse/'\n",
    "\n",
    "aa = np.load(dirstr + 'aa.npy')\n",
    "bb = np.load(dirstr + 'bb.npy')"
   ]
  },
  {
   "cell_type": "code",
   "execution_count": null,
   "id": "91499006-090b-470c-b576-002ee33eec21",
   "metadata": {},
   "outputs": [],
   "source": [
    "p = 1.05\n",
    "\n",
    "zz = np.load(dirstr + 'zz_{}.npy'.format(p))\n",
    "plt.contourf(aa, bb, zz, levels = 100)\n",
    "plt.colorbar()\n",
    "plt.contour(aa, bb, zz, colors = 'white')\n",
    "plt.title(r'$p = {}$'.format(p), loc = 'right')\n",
    "\n",
    "plt.gca().set_aspect('equal')\n",
    "plt.savefig('plots/paper/ab_mse_1.05.png', \n",
    "            dpi=300, \n",
    "            bbox_inches='tight')"
   ]
  },
  {
   "cell_type": "code",
   "execution_count": null,
   "id": "316bb593-3374-4423-b22c-d5b9f649fa1d",
   "metadata": {},
   "outputs": [],
   "source": [
    "p = 1.25\n",
    "\n",
    "zz = np.load(dirstr + 'zz_{}.npy'.format(p))\n",
    "plt.contourf(aa, bb, zz, levels = 100)\n",
    "plt.colorbar()\n",
    "plt.contour(aa, bb, zz, colors = 'white')\n",
    "plt.title(r'$p = {}$'.format(p), loc = 'right')\n",
    "\n",
    "plt.gca().set_aspect('equal')\n",
    "plt.savefig('plots/paper/ab_mse_1.25.png', \n",
    "            dpi=300, \n",
    "            bbox_inches='tight')"
   ]
  },
  {
   "cell_type": "code",
   "execution_count": null,
   "id": "f6260089-cfec-47de-a000-7c97ad714dda",
   "metadata": {},
   "outputs": [],
   "source": [
    "p = 2\n",
    "\n",
    "zz = np.load(dirstr + 'zz_{}.npy'.format(p))\n",
    "plt.contourf(aa, bb, zz, levels = 100)\n",
    "plt.colorbar()\n",
    "plt.contour(aa, bb, zz, colors = 'white')\n",
    "plt.title(r'$p = {}$'.format(p), loc = 'right')\n",
    "\n",
    "plt.gca().set_aspect('equal')\n",
    "plt.savefig('plots/paper/ab_mse_2.png', \n",
    "            dpi=300, \n",
    "            bbox_inches='tight')"
   ]
  },
  {
   "cell_type": "code",
   "execution_count": null,
   "id": "468a7746-1635-4dfb-8c16-5b1ed23c1829",
   "metadata": {},
   "outputs": [],
   "source": [
    "p = 6\n",
    "\n",
    "zz = np.load(dirstr + 'zz_{}.npy'.format(p))\n",
    "plt.contourf(aa, bb, zz, levels = 100)\n",
    "plt.colorbar()\n",
    "plt.contour(aa, bb, zz, colors = 'white')\n",
    "plt.title(r'$p = {}$'.format(p), loc = 'right')\n",
    "\n",
    "plt.gca().set_aspect('equal')\n",
    "plt.savefig('plots/paper/ab_mse_6.png', \n",
    "            dpi=300, \n",
    "            bbox_inches='tight')"
   ]
  },
  {
   "cell_type": "code",
   "execution_count": null,
   "id": "4f04a4cd-e4e5-47f2-b5dd-a5a499bca044",
   "metadata": {},
   "outputs": [],
   "source": [
    "mae = make_mae(bkgd, sgnl, 'data/normal/0.1/')\n",
    "lr = make_lr(bkgd, sgnl)"
   ]
  },
  {
   "cell_type": "code",
   "execution_count": null,
   "id": "25ae0d87-0733-4557-b650-4748a8e42800",
   "metadata": {},
   "outputs": [],
   "source": [
    "def make_c(a):\n",
    "    return lambda x: sig(a*x)\n",
    "\n",
    "def make_lr(c, p):\n",
    "    return lambda x: (c(x) / (1 - c(x)))**(p - 1)\n",
    "                      \n",
    "c_1 = make_c(4)\n",
    "c_2 = make_c(0.8)\n",
    "c_3 = make_c(0.2)\n",
    "c_4 = make_c(0.04)\n",
    "\n",
    "lr_1 = make_lr(c_1, 1.05)\n",
    "lr_2 = make_lr(c_2, 1.25)\n",
    "lr_3 = make_lr(c_3, 2)\n",
    "lr_4 = make_lr(c_4, 6)"
   ]
  },
  {
   "cell_type": "code",
   "execution_count": null,
   "id": "b5ba4b6e-85d1-4a6c-bdb3-2ad1fc17ae29",
   "metadata": {},
   "outputs": [],
   "source": [
    "mae(lr_1), mae(lr_2), mae(lr_3), mae(lr_4)"
   ]
  },
  {
   "cell_type": "code",
   "execution_count": null,
   "id": "8ba6bb76-5ab7-4dc1-8072-6c239b75f044",
   "metadata": {},
   "outputs": [],
   "source": [
    "d = 0.01"
   ]
  },
  {
   "cell_type": "code",
   "execution_count": null,
   "id": "5469bf94-456b-45b2-8a8d-4966e76150b8",
   "metadata": {},
   "outputs": [],
   "source": [
    "c_11 = make_c(4 + d)\n",
    "c_12 = make_c(4 - d)\n",
    "\n",
    "c_21 = make_c(0.8 + d)\n",
    "c_22 = make_c(0.8 - d)\n",
    "\n",
    "c_31 = make_c(0.2 + d)\n",
    "c_32 = make_c(0.2 - d)\n",
    "\n",
    "c_41 = make_c(0.04 + d)\n",
    "c_42 = make_c(0.04 - d)\n",
    "\n",
    "lr_11 = make_lr(c_11, 1.05)\n",
    "lr_12 = make_lr(c_12, 1.05)\n",
    "\n",
    "lr_21 = make_lr(c_21, 1.25)\n",
    "lr_22 = make_lr(c_22, 1.25)\n",
    "\n",
    "lr_31 = make_lr(c_31, 2)\n",
    "lr_32 = make_lr(c_32, 2)\n",
    "\n",
    "lr_41 = make_lr(c_41, 6)\n",
    "lr_42 = make_lr(c_42, 6)"
   ]
  },
  {
   "cell_type": "code",
   "execution_count": null,
   "id": "cdf84bcd-6092-4d0a-84c2-8364c7dd3954",
   "metadata": {},
   "outputs": [],
   "source": [
    "mae(lr_11), mae(lr_1), mae(lr_12)"
   ]
  },
  {
   "cell_type": "code",
   "execution_count": null,
   "id": "f2dd0d45-699f-4d0c-b4c9-85258cdde941",
   "metadata": {},
   "outputs": [],
   "source": [
    "mae(lr_21), mae(lr_2), mae(lr_22)"
   ]
  },
  {
   "cell_type": "code",
   "execution_count": null,
   "id": "afdac95a-d1e7-45d0-afd6-5152dc2ca328",
   "metadata": {},
   "outputs": [],
   "source": [
    "mae(lr_31), mae(c_3), mae(lr_32)"
   ]
  },
  {
   "cell_type": "code",
   "execution_count": null,
   "id": "99785b87-d303-4e5d-84a3-40c7e3d5e39f",
   "metadata": {},
   "outputs": [],
   "source": [
    "mae(lr_41), mae(lr_4), mae(lr_42)"
   ]
  },
  {
   "cell_type": "code",
   "execution_count": null,
   "id": "0b1acb70-d35d-4d79-aa46-4f060f10c90b",
   "metadata": {},
   "outputs": [],
   "source": [
    "xs = np.linspace(-6, 6, 1000)\n",
    "plt.plot(xs, lr(xs), c = 'k', label = 'Exact')\n",
    "plt.plot(xs, lr_1(xs))"
   ]
  },
  {
   "cell_type": "markdown",
   "id": "5f5d1609-5605-47c9-9911-11e08a5c2d80",
   "metadata": {
    "jp-MarkdownHeadingCollapsed": true,
    "tags": []
   },
   "source": [
    "## Running"
   ]
  },
  {
   "cell_type": "code",
   "execution_count": null,
   "id": "ada18620-ed3a-4ae4-ad9d-382a148efabe",
   "metadata": {},
   "outputs": [],
   "source": [
    "print('BCE')\n",
    "bces, aa, bb = gridded(bce,-3, 3, 0.01, 15)\n",
    "print('\\nMSE')\n",
    "mses, _, _ = gridded(mse, -3, 3, 0.01, 15)\n",
    "print('\\nMLC')\n",
    "mlcs, _, _ = gridded(mlc, -3, 3, 0.01, 15)\n",
    "print('\\nSQR')\n",
    "sqrs, _, _ = gridded(sqr, -3, 3, 0.01, 15)"
   ]
  },
  {
   "cell_type": "code",
   "execution_count": null,
   "id": "7871b083-df68-4076-ad68-d15a8e830870",
   "metadata": {},
   "outputs": [],
   "source": [
    "np.save('anims/bces', bces)\n",
    "np.save('anims/mses', mses)\n",
    "np.save('anims/mlcs', mlcs)\n",
    "np.save('anims/sqrs', sqrs)\n",
    "np.save('anims/aa', aa)\n",
    "np.save('anims/bb', bb)"
   ]
  },
  {
   "cell_type": "markdown",
   "id": "a07f789d-4ea2-4965-83a3-108dfdaff911",
   "metadata": {},
   "source": [
    "## Examining"
   ]
  },
  {
   "cell_type": "code",
   "execution_count": null,
   "id": "c2c01a6a-6c0d-40e1-a432-c62605561bcc",
   "metadata": {},
   "outputs": [],
   "source": [
    "aa = np.load('anims/aa.npy')\n",
    "bb = np.load('anims/bb.npy')\n",
    "\n",
    "bces = np.load('anims/bces.npy')\n",
    "mses = np.load('anims/mses.npy')\n",
    "mlcs = np.load('anims/mlcs.npy')\n",
    "sqrs = np.load('anims/sqrs.npy')\n",
    "\n",
    "nbces = np.load('anims/nbces.npy')\n",
    "nmses = np.load('anims/nmses.npy')\n",
    "nmlcs = np.load('anims/nmlcs.npy')\n",
    "nsqrs = np.load('anims/nsqrs.npy')"
   ]
  },
  {
   "cell_type": "code",
   "execution_count": null,
   "id": "dae4e7bd-87c3-4ffc-bd7c-496da638d495",
   "metadata": {},
   "outputs": [],
   "source": [
    "print('Empirical Estimation')\n",
    "print(aa[bces == np.min(bces)], bb[bces == np.min(bces)])\n",
    "#print(aa[mses == np.min(mses)], bb[mses == np.min(mses)])\n",
    "#print(aa[mlcs == np.min(mlcs)], bb[mlcs == np.min(mlcs)])\n",
    "#print(aa[sqrs == np.min(sqrs)], bb[sqrs == np.min(sqrs)])\n",
    "print()\n",
    "print('Numerical Estimation')\n",
    "print(aa[nbces == np.min(nbces)], bb[nbces == np.min(nbces)])\n",
    "print(aa[nmses == np.min(nmses)], bb[nmses == np.min(nmses)])\n",
    "print(aa[nmlcs == np.min(nmlcs)], bb[nmlcs == np.min(nmlcs)])\n",
    "print(aa[nsqrs == np.min(nsqrs)], bb[nsqrs == np.min(nsqrs)])"
   ]
  },
  {
   "cell_type": "code",
   "execution_count": null,
   "id": "9f5e25f4-ab0f-464a-9dd4-e84705058149",
   "metadata": {},
   "outputs": [],
   "source": [
    "fig = plt.figure(figsize = (15, 30))\n",
    "ax = fig.add_subplot(4, 2, 1, projection = '3d')\n",
    "ax.scatter(aa, bb, bces, s = 5, c = bces, cmap = 'viridis')\n",
    "ax.set_xlabel(r'$a$')\n",
    "ax.set_ylabel(r'$b$')\n",
    "ax.set_title(r'BCE Loss of $\\sigma(ax + b)$')\n"
   ]
  },
  {
   "cell_type": "markdown",
   "id": "8bef38c3-11aa-4142-a180-43ee1eee5190",
   "metadata": {
    "jp-MarkdownHeadingCollapsed": true,
    "tags": []
   },
   "source": [
    "# Plotting (SQR)"
   ]
  },
  {
   "cell_type": "code",
   "execution_count": null,
   "id": "071067dd-0681-4616-9b2a-67cf6a388d54",
   "metadata": {},
   "outputs": [],
   "source": [
    "dirstr = 'anims/sqrs/'\n",
    "\n",
    "aa = np.load(dirstr + 'aa.npy')\n",
    "bb = np.load(dirstr + 'bb.npy')"
   ]
  },
  {
   "cell_type": "code",
   "execution_count": null,
   "id": "8e07f502-a955-41c6-baff-b077bc0fb347",
   "metadata": {},
   "outputs": [],
   "source": [
    "r = 0.005\n",
    "\n",
    "zz = np.load(dirstr + 'zz_{}.npy'.format(r))\n",
    "plt.contourf(aa, bb, zz, levels = 100)\n",
    "plt.colorbar()\n",
    "plt.contour(aa, bb, zz, colors = 'white')\n",
    "plt.title(r'$r = {}$'.format(r), loc = 'right')\n",
    "\n",
    "plt.gca().set_aspect('equal')\n",
    "plt.savefig('plots/paper/ab_sqr_0.005.png', \n",
    "            dpi=300, \n",
    "            bbox_inches='tight')"
   ]
  },
  {
   "cell_type": "code",
   "execution_count": null,
   "id": "6bb10575-6fea-4a8e-aa5c-43fba4805d1f",
   "metadata": {},
   "outputs": [],
   "source": [
    "r = 0.02\n",
    "\n",
    "zz = np.load(dirstr + 'zz_{}.npy'.format(r))\n",
    "plt.contourf(aa, bb, zz, levels = 100)\n",
    "plt.colorbar()\n",
    "plt.contour(aa, bb, zz, colors = 'white')\n",
    "plt.title(r'$r = {}$'.format(r), loc = 'right')\n",
    "\n",
    "plt.gca().set_aspect('equal')\n",
    "plt.savefig('plots/paper/ab_sqr_{}.png'.format(r), \n",
    "            dpi=300, \n",
    "            bbox_inches='tight')"
   ]
  },
  {
   "cell_type": "code",
   "execution_count": null,
   "id": "1e22bd6a-ea69-4e8a-8748-954ea44a1429",
   "metadata": {},
   "outputs": [],
   "source": [
    "r = 1\n",
    "\n",
    "zz = np.load(dirstr + 'zz_{}.npy'.format(r))\n",
    "plt.contourf(aa, bb, zz, levels = 100)\n",
    "plt.colorbar()\n",
    "plt.contour(aa, bb, zz, colors = 'white')\n",
    "plt.title(r'$r = {}$'.format(r), loc = 'right')\n",
    "\n",
    "plt.gca().set_aspect('equal')\n",
    "plt.savefig('plots/paper/ab_sqr_{}.png'.format(r), \n",
    "            dpi=300, \n",
    "            bbox_inches='tight')"
   ]
  },
  {
   "cell_type": "code",
   "execution_count": null,
   "id": "5111fc34-e6fa-4ff7-ba9b-e49ce273d690",
   "metadata": {},
   "outputs": [],
   "source": [
    "r = 5\n",
    "\n",
    "zz = np.load(dirstr + 'zz_{}.npy'.format(r))\n",
    "plt.contourf(aa, bb, zz, levels = 100)\n",
    "plt.colorbar()\n",
    "plt.contour(aa, bb, zz, colors = 'white')\n",
    "plt.title(r'$r = {}$'.format(r), loc = 'right')\n",
    "\n",
    "plt.gca().set_aspect('equal')\n",
    "plt.savefig('plots/paper/ab_sqr_{}.png'.format(r), \n",
    "            dpi=300, \n",
    "            bbox_inches='tight')"
   ]
  },
  {
   "cell_type": "markdown",
   "id": "a0530820-809c-4463-8350-5cc77abb8702",
   "metadata": {
    "jp-MarkdownHeadingCollapsed": true,
    "tags": []
   },
   "source": [
    "# Plot All"
   ]
  },
  {
   "cell_type": "code",
   "execution_count": null,
   "id": "14dd0d88-a066-468f-8a06-0571ae426c53",
   "metadata": {},
   "outputs": [],
   "source": [
    "fig = plt.figure(figsize = (15, 30))\n",
    "ax = fig.add_subplot(4, 2, 1, projection = '3d')\n",
    "ax.scatter(xs, ys, bce_zs, s = 5, c = bce_zs, cmap = 'viridis')\n",
    "ax.set_xlabel(r'$a$')\n",
    "ax.set_ylabel(r'$b$')\n",
    "ax.set_title(r'BCE Loss of $\\sigma(ax + b)$')\n",
    "\n",
    "ax = fig.add_subplot(4, 2, 2)\n",
    "ax.scatter(xs, ys, c = bce_zs, cmap='viridis')\n",
    "ax.set_xlabel(r'$a$')\n",
    "ax.set_ylabel(r'$b$')\n",
    "ax.set_aspect('equal')\n",
    "\n",
    "ax = fig.add_subplot(4, 2, 3, projection = '3d')\n",
    "ax.scatter(xs, ys, mse_zs, s = 5, c = mse_zs, cmap = 'viridis')\n",
    "ax.set_xlabel(r'$a$')\n",
    "ax.set_ylabel(r'$b$')\n",
    "ax.set_title(r'MSE Loss of $\\sigma(ax + b)$')\n",
    "\n",
    "ax = fig.add_subplot(4, 2, 4)\n",
    "ax.scatter(xs, ys, c = mse_zs, cmap='viridis')\n",
    "ax.set_xlabel(r'$a$')\n",
    "ax.set_ylabel(r'$b$')\n",
    "ax.set_aspect('equal')\n",
    "\n",
    "ax = fig.add_subplot(4, 2, 5, projection = '3d')\n",
    "ax.scatter(xs, ys, mlc_zs, s = 5, c = mlc_zs, cmap = 'viridis')\n",
    "ax.set_xlabel(r'$a$')\n",
    "ax.set_ylabel(r'$b$')\n",
    "ax.set_title(r'MLC Loss of ${\\rm ReLU}(ax + b)$')\n",
    "\n",
    "ax = fig.add_subplot(4, 2, 6)\n",
    "ax.scatter(xs, ys, c = mlc_zs, cmap='viridis')\n",
    "ax.set_xlabel(r'$a$')\n",
    "ax.set_ylabel(r'$b$')\n",
    "ax.set_aspect('equal')\n",
    "\n",
    "ax = fig.add_subplot(4, 2, 7, projection = '3d')\n",
    "ax.scatter(xs, ys, sqr_zs, s = 5, c = sqr_zs, cmap = 'viridis')\n",
    "ax.set_xlabel(r'$a$')\n",
    "ax.set_ylabel(r'$b$')\n",
    "ax.set_title(r'SQR Loss of ${\\rm ReLU}(ax + b)$')\n",
    "\n",
    "ax = fig.add_subplot(4, 2, 8)\n",
    "ax.scatter(xs, ys, c = sqr_zs, cmap='viridis')\n",
    "ax.set_xlabel(r'$a$')\n",
    "ax.set_ylabel(r'$b$')\n",
    "ax.set_aspect('equal')"
   ]
  },
  {
   "cell_type": "code",
   "execution_count": null,
   "id": "94357ce1-29c5-4159-ab8b-fb9610db6ff8",
   "metadata": {},
   "outputs": [],
   "source": [
    "nbce_zs = np.load('anims/nbce_zs.npy')\n",
    "nmse_zs = np.load('anims/nmse_zs.npy')\n",
    "nmlc_zs = np.load('anims/nmlc_zs.npy')\n",
    "nsqr_zs = np.load('anims/nsqr_zs.npy')"
   ]
  },
  {
   "cell_type": "code",
   "execution_count": null,
   "id": "df6fa912-dddf-4a07-93a0-835ca8fd83e1",
   "metadata": {},
   "outputs": [],
   "source": [
    "x_min = g[nbce_zs == min(nbce_zs)][:, 0]\n",
    "y_min = g[nbce_zs == min(nbce_zs)][:, 1]\n",
    "z_min = nbce_zs[nbce_zs == min(nbce_zs)]"
   ]
  },
  {
   "cell_type": "code",
   "execution_count": null,
   "id": "2ed48a45-406c-4d17-abac-731789f706b8",
   "metadata": {},
   "outputs": [],
   "source": [
    "fig = plt.figure(figsize = (15, 30))\n",
    "ax = fig.add_subplot(4, 2, 1, projection = '3d')\n",
    "ax.scatter(xs, ys, nbce_zs, s = 5, c = nbce_zs, cmap = 'viridis')\n",
    "ax.scatter(\n",
    "ax.set_xlabel(r'$a$')\n",
    "ax.set_ylabel(r'$b$')\n",
    "ax.set_title(r'BCE Loss of $\\sigma(ax + b)$')\n",
    "\n",
    "ax = fig.add_subplot(4, 2, 2)\n",
    "ax.scatter(xs, ys, c = nbce_zs, cmap='viridis')\n",
    "ax.set_xlabel(r'$a$')\n",
    "ax.set_ylabel(r'$b$')\n",
    "ax.set_aspect('equal')\n",
    "\n",
    "ax = fig.add_subplot(4, 2, 3, projection = '3d')\n",
    "ax.scatter(xs, ys, nmse_zs, s = 5, c = nmse_zs, cmap = 'viridis')\n",
    "ax.set_xlabel(r'$a$')\n",
    "ax.set_ylabel(r'$b$')\n",
    "ax.set_title(r'MSE Loss of $\\sigma(ax + b)$')\n",
    "\n",
    "ax = fig.add_subplot(4, 2, 4)\n",
    "ax.scatter(xs, ys, c = nmse_zs, cmap='viridis')\n",
    "ax.set_xlabel(r'$a$')\n",
    "ax.set_ylabel(r'$b$')\n",
    "ax.set_aspect('equal')\n",
    "\n",
    "ax = fig.add_subplot(4, 2, 5, projection = '3d')\n",
    "ax.scatter(xs, ys, nmlc_zs, s = 5, c = nmlc_zs, cmap = 'viridis')\n",
    "ax.set_xlabel(r'$a$')\n",
    "ax.set_ylabel(r'$b$')\n",
    "ax.set_title(r'MLC Loss of ${\\rm ReLU}(ax + b)$')\n",
    "\n",
    "ax = fig.add_subplot(4, 2, 6)\n",
    "ax.scatter(xs, ys, c = nmlc_zs, cmap='viridis')\n",
    "ax.set_xlabel(r'$a$')\n",
    "ax.set_ylabel(r'$b$')\n",
    "ax.set_aspect('equal')\n",
    "\n",
    "ax = fig.add_subplot(4, 2, 7, projection = '3d')\n",
    "ax.scatter(xs, ys, nsqr_zs, s = 5, c = nsqr_zs, cmap = 'viridis')\n",
    "ax.set_xlabel(r'$a$')\n",
    "ax.set_ylabel(r'$b$')\n",
    "ax.set_title(r'SQR Loss of ${\\rm ReLU}(ax + b)$')\n",
    "\n",
    "ax = fig.add_subplot(4, 2, 8)\n",
    "ax.scatter(xs, ys, c = nsqr_zs, cmap='viridis')\n",
    "ax.set_xlabel(r'$a$')\n",
    "ax.set_ylabel(r'$b$')\n",
    "ax.set_aspect('equal')"
   ]
  },
  {
   "cell_type": "markdown",
   "id": "d51804f4-303e-4ef5-b2ba-1778ca5bd9fd",
   "metadata": {
    "jp-MarkdownHeadingCollapsed": true,
    "tags": []
   },
   "source": [
    "# Rotating Plots"
   ]
  },
  {
   "cell_type": "code",
   "execution_count": null,
   "id": "8472323c-a96d-4ad0-8188-a2f8b835fdc9",
   "metadata": {},
   "outputs": [],
   "source": [
    "fig = plt.figure(figsize = (8, 8))\n",
    "ax = fig.add_subplot(111, projection = '3d')\n",
    "\n",
    "def init():\n",
    "    ax.scatter(xs, ys, bce_zs, s = 5, c = bce_zs, cmap = 'viridis')\n",
    "    plt.xlabel(r'$a$')\n",
    "    plt.ylabel(r'$b$')\n",
    "    plt.title(r'BCE Loss of $\\sigma(ax + b)$')\n",
    "    return fig,\n",
    "\n",
    "def animate(i):\n",
    "    ax.view_init(elev=30., azim=3.6*i)\n",
    "    return fig,\n",
    "\n",
    "ani = animation.FuncAnimation(fig, animate, init_func=init,\n",
    "                               frames=100, interval=100, blit=False)  \n",
    "ani.save('anims/bce_2.gif')"
   ]
  },
  {
   "cell_type": "code",
   "execution_count": null,
   "id": "d1eb0777-a7be-4051-9463-03c1da44e50f",
   "metadata": {},
   "outputs": [],
   "source": [
    "fig = plt.figure(figsize = (8, 8))\n",
    "ax = fig.add_subplot(111, projection = '3d')\n",
    "\n",
    "def init():\n",
    "    ax.scatter(xs, ys, mse_zs, s = 5, c = mse_zs, cmap = 'viridis')\n",
    "    plt.xlabel(r'$a$')\n",
    "    plt.ylabel(r'$b$')\n",
    "    plt.title(r'MSE Loss of $\\sigma(ax + b)$')\n",
    "    return fig,\n",
    "\n",
    "def animate(i):\n",
    "    ax.view_init(elev=30., azim=3.6*i)\n",
    "    return fig,\n",
    "\n",
    "ani = animation.FuncAnimation(fig, animate, init_func=init,\n",
    "                               frames=100, interval=100, blit=True)  \n",
    "ani.save('anims/mse.gif')"
   ]
  },
  {
   "cell_type": "code",
   "execution_count": null,
   "id": "9a9b3521-a785-4546-bcc5-1c9e90ba7208",
   "metadata": {},
   "outputs": [],
   "source": [
    "fig = plt.figure(figsize = (8, 8))\n",
    "ax = fig.add_subplot(111, projection = '3d')\n",
    "\n",
    "def init():\n",
    "    ax.scatter(xs, ys, mlc_zs, s = 5, c = mlc_zs, cmap = 'viridis')\n",
    "    plt.xlabel(r'$a$')\n",
    "    plt.ylabel(r'$b$')\n",
    "    plt.title(r'MLC Loss of ReLU$(ax + b)$')\n",
    "    return fig,\n",
    "\n",
    "def animate(i):\n",
    "    ax.view_init(elev=30., azim=3.6*i)\n",
    "    return fig,\n",
    "\n",
    "ani = animation.FuncAnimation(fig, animate, init_func=init,\n",
    "                               frames=100, interval=100, blit=True)  \n",
    "ani.save('anims/mlc.gif')"
   ]
  },
  {
   "cell_type": "code",
   "execution_count": null,
   "id": "636dd5c5-142f-48e3-888f-fd9b1ac4b88f",
   "metadata": {},
   "outputs": [],
   "source": [
    "fig = plt.figure(figsize = (8, 8))\n",
    "ax = fig.add_subplot(111, projection = '3d')\n",
    "\n",
    "def init():\n",
    "    ax.scatter(xs, ys, sqr_zs, s = 5, c = sqr_zs, cmap = 'viridis')\n",
    "    plt.xlabel(r'$a$')\n",
    "    plt.ylabel(r'$b$')\n",
    "    plt.title(r'SQR Loss of ReLU$(ax + b)$')\n",
    "    return fig,\n",
    "\n",
    "def animate(i):\n",
    "    ax.view_init(elev=30., azim=3.6*i)\n",
    "    return fig,\n",
    "\n",
    "ani = animation.FuncAnimation(fig, animate, init_func=init,\n",
    "                               frames=100, interval=100, blit=True)  \n",
    "ani.save('anims/sqr.gif')"
   ]
  },
  {
   "cell_type": "markdown",
   "id": "4aab13eb-b049-4837-b720-cfaa4056913c",
   "metadata": {
    "jp-MarkdownHeadingCollapsed": true,
    "tags": []
   },
   "source": [
    "# Static Plots"
   ]
  },
  {
   "cell_type": "code",
   "execution_count": null,
   "id": "ae6c985b-ad77-4929-9713-ff057715d0a2",
   "metadata": {},
   "outputs": [],
   "source": [
    "fig = plt.figure(figsize = (8, 8))\n",
    "ax = fig.add_subplot(projection = '3d')\n",
    "ax.scatter(xs, ys, bce_zs, s = 5, c = bce_zs, cmap = 'viridis')\n",
    "plt.xlabel(r'$a$')\n",
    "plt.ylabel(r'$b$')\n",
    "plt.title(r'BCE Loss of $\\sigma(ax + b)$')\n",
    "\n",
    "#plt.savefig('plots/scratch/bce_landscape_100.png',\n",
    "#            dpi=1200, \n",
    "#            bbox_inches='tight')"
   ]
  },
  {
   "cell_type": "code",
   "execution_count": null,
   "id": "eea797a4-ab31-45a5-8af2-dcfd1519c09e",
   "metadata": {},
   "outputs": [],
   "source": [
    "plt.figure(figsize = (8, 8))\n",
    "plt.scatter(xs, ys, c = bce_zs, cmap='viridis')\n",
    "plt.xlabel(r'$a$')\n",
    "plt.ylabel(r'$b$')\n",
    "plt.gca().set_aspect('equal')\n",
    "plt.title(r'BCE Loss of $\\sigma(ax + b)$')\n",
    "\n",
    "plt.savefig('plots/scratch/bce_landscape_100_flat.png',\n",
    "            dpi=1200, \n",
    "            bbox_inches='tight')"
   ]
  },
  {
   "cell_type": "code",
   "execution_count": null,
   "id": "9c7ffae0-ed4c-497f-ae15-5d0aa939a2e2",
   "metadata": {},
   "outputs": [],
   "source": [
    "fig = plt.figure(figsize = (8, 8))\n",
    "ax = fig.add_subplot(projection = '3d')\n",
    "ax.scatter(xs, ys, mse_zs, s = 5, c = mse_zs, cmap = 'viridis')\n",
    "plt.xlabel(r'$a$')\n",
    "plt.ylabel(r'$b$')\n",
    "plt.title(r'MSE Loss of $\\sigma(ax + b)$')\n",
    "\n",
    "plt.savefig('plots/scratch/mse_landscape_100.png',\n",
    "            dpi=1200, \n",
    "            bbox_inches='tight')"
   ]
  },
  {
   "cell_type": "code",
   "execution_count": null,
   "id": "002d05d5-1441-4c25-89f4-eee9e6c51fcd",
   "metadata": {},
   "outputs": [],
   "source": [
    "plt.figure(figsize = (8, 8))\n",
    "plt.scatter(xs, ys, c = mse_zs, cmap='viridis')\n",
    "plt.xlabel(r'$a$')\n",
    "plt.ylabel(r'$b$')\n",
    "plt.gca().set_aspect('equal')\n",
    "plt.title(r'MSE Loss of $\\sigma(ax + b)$')\n",
    "\n",
    "plt.savefig('plots/scratch/mse_landscape_100_flat.png',\n",
    "            dpi=1200, \n",
    "            bbox_inches='tight')"
   ]
  },
  {
   "cell_type": "code",
   "execution_count": null,
   "id": "c66b10a9-5cbc-45d4-b1ef-e2d0dd20128d",
   "metadata": {},
   "outputs": [],
   "source": [
    "fig = plt.figure(figsize = (8, 8))\n",
    "ax = fig.add_subplot(projection = '3d')\n",
    "ax.scatter(xs, ys, mlc_zs, c = mlc_zs, cmap = 'viridis')\n",
    "plt.xlabel(r'$a$')\n",
    "plt.ylabel(r'$b$')\n",
    "plt.title(r'MLC Loss of ReLU$(ax + b)$')\n",
    "\n",
    "plt.savefig('plots/scratch/mlc_landscape_100.png',\n",
    "            dpi=1200, \n",
    "            bbox_inches='tight')"
   ]
  },
  {
   "cell_type": "code",
   "execution_count": null,
   "id": "9f87aaf9-f7df-460b-a1fa-bd28e58b3881",
   "metadata": {},
   "outputs": [],
   "source": [
    "plt.figure(figsize = (8, 8))\n",
    "plt.scatter(xs, ys, c = mlc_zs, cmap='viridis')\n",
    "plt.xlabel(r'$a$')\n",
    "plt.ylabel(r'$b$')\n",
    "plt.gca().set_aspect('equal')\n",
    "plt.title(r'MLC Loss of ReLU$(ax + b)$')\n",
    "\n",
    "plt.savefig('plots/scratch/mlc_landscape_100_flat.png',\n",
    "            dpi=1200, \n",
    "            bbox_inches='tight')"
   ]
  },
  {
   "cell_type": "code",
   "execution_count": null,
   "id": "d6928445-c8b1-408f-b43c-025866e0ac7c",
   "metadata": {},
   "outputs": [],
   "source": [
    "fig = plt.figure(figsize = (8, 8))\n",
    "ax = fig.add_subplot(projection = '3d')\n",
    "ax.scatter(xs, ys, sqr_zs, c = sqr_zs, cmap = 'viridis')\n",
    "plt.xlabel(r'$a$')\n",
    "plt.ylabel(r'$b$')\n",
    "plt.title(r'SQR Loss of ReLU$(ax + b)$')\n",
    "\n",
    "plt.savefig('plots/scratch/sqr_landscape_100.png',\n",
    "            dpi=1200, \n",
    "            bbox_inches='tight')"
   ]
  },
  {
   "cell_type": "code",
   "execution_count": null,
   "id": "35c14e45-6faf-49e1-a647-b870af571553",
   "metadata": {},
   "outputs": [],
   "source": [
    "plt.figure(figsize = (8, 8))\n",
    "plt.scatter(xs, ys, c = sqr_zs, cmap='viridis')\n",
    "plt.xlabel(r'$a$')\n",
    "plt.ylabel(r'$b$')\n",
    "plt.gca().set_aspect('equal')\n",
    "plt.title(r'SQR Loss of ReLU$(ax + b)$')\n",
    "\n",
    "plt.savefig('plots/scratch/sqr_landscape_100_flat.png',\n",
    "            dpi=1200, \n",
    "            bbox_inches='tight')"
   ]
  },
  {
   "cell_type": "markdown",
   "id": "3cc0d6cc-e49c-4cea-ba87-364df5746f85",
   "metadata": {
    "tags": []
   },
   "source": [
    "# Shifting Gaussians"
   ]
  },
  {
   "cell_type": "markdown",
   "id": "bea02910-b664-4d36-a94e-dfc1b1f9d82d",
   "metadata": {
    "tags": []
   },
   "source": [
    "## BCE"
   ]
  },
  {
   "cell_type": "code",
   "execution_count": null,
   "id": "8cf92a2e-84fc-4a34-966c-bfa18be359cb",
   "metadata": {},
   "outputs": [],
   "source": [
    "ms = np.arange(0.1, 1.01, 0.01)\n",
    "N = 5 * 10**4\n",
    "\n",
    "i = 0\n",
    "for m in ms:\n",
    "    bkgd = stats.norm.rvs(-m, 1, size = N)\n",
    "    sgnl = stats.norm.rvs(+m, 1, size = N)\n",
    "    X = np.concatenate((bkgd, sgnl))\n",
    "    y = np.concatenate((np.zeros(N), np.ones(N)))\n",
    "\n",
    "    xs = g[:, 0]\n",
    "    ys = g[:, 1]\n",
    "    zs = []\n",
    "    for p in g:\n",
    "        zs += [bce(p[0], p[1])]\n",
    "\n",
    "    fig = plt.figure(figsize = (8, 8))\n",
    "    ax = fig.add_subplot(111, projection = '3d')\n",
    "    ax.scatter(xs, ys, zs, s = 5, c = zs, cmap = 'viridis')\n",
    "    ax.set_zlim(0, 10)\n",
    "    plt.savefig('anims/shift/{}.png'.format(i),\n",
    "                dpi=1200, \n",
    "                bbox_inches='tight')\n",
    "    i += 1"
   ]
  },
  {
   "cell_type": "markdown",
   "id": "ee83e65f-4f45-48be-b009-f3c7c45b4704",
   "metadata": {
    "jp-MarkdownHeadingCollapsed": true,
    "tags": []
   },
   "source": [
    "## MSE"
   ]
  },
  {
   "cell_type": "code",
   "execution_count": null,
   "id": "474d97db-e290-4866-8a45-f7347ee07194",
   "metadata": {},
   "outputs": [],
   "source": [
    "ms = np.arange(0.1, 1.01, 0.01)\n",
    "N = 5 * 10**4\n",
    "\n",
    "i = 0\n",
    "for m in ms:\n",
    "    bkgd = stats.norm.rvs(-m, 1, size = N)\n",
    "    sgnl = stats.norm.rvs(+m, 1, size = N)\n",
    "    X = np.concatenate((bkgd, sgnl))\n",
    "    y = np.concatenate((np.zeros(N), np.ones(N)))\n",
    "\n",
    "    xs = g[:, 0]\n",
    "    ys = g[:, 1]\n",
    "    zs = []\n",
    "    for p in g:\n",
    "        zs += [mse(p[0], p[1])]\n",
    "\n",
    "    fig = plt.figure(figsize = (8, 8))\n",
    "    ax = fig.add_subplot(111, projection = '3d')\n",
    "    ax.scatter(xs, ys, zs, s = 5, c = zs, cmap = 'viridis')\n",
    "    ax.set_zlim(0.2, 1)\n",
    "    plt.savefig('anims/shift/mse/{}.png'.format(i),\n",
    "                dpi=1200, \n",
    "                bbox_inches='tight')\n",
    "    fig.clear()\n",
    "    plt.close(fig)\n",
    "    i += 1"
   ]
  },
  {
   "cell_type": "markdown",
   "id": "b19a86bc-a507-48e5-be23-fc71a6ee8add",
   "metadata": {
    "jp-MarkdownHeadingCollapsed": true,
    "tags": []
   },
   "source": [
    "## MLC"
   ]
  },
  {
   "cell_type": "code",
   "execution_count": null,
   "id": "b94c21a3-ba3e-4da4-bd68-ac757bc6e92d",
   "metadata": {},
   "outputs": [],
   "source": [
    "ms = np.arange(0.1, 1.01, 0.01)\n",
    "N = 5 * 10**4\n",
    "\n",
    "i = 0\n",
    "for m in ms:\n",
    "    bkgd = stats.norm.rvs(-m, 1, size = N)\n",
    "    sgnl = stats.norm.rvs(+m, 1, size = N)\n",
    "    X = np.concatenate((bkgd, sgnl))\n",
    "    y = np.concatenate((np.zeros(N), np.ones(N)))\n",
    "\n",
    "    xs = g[:, 0]\n",
    "    ys = g[:, 1]\n",
    "    zs = []\n",
    "    for p in g:\n",
    "        zs += [mlc(p[0], p[1])]\n",
    "\n",
    "    fig = plt.figure(figsize = (8, 8))\n",
    "    ax = fig.add_subplot(111, projection = '3d')\n",
    "    ax.scatter(xs, ys, zs, s = 5, c = zs, cmap = 'viridis')\n",
    "    ax.set_zlim(0, 38)\n",
    "    plt.savefig('anims/shift/mlc/{}.png'.format(i),\n",
    "                dpi=1200, \n",
    "                bbox_inches='tight')\n",
    "    fig.clear()\n",
    "    plt.close(fig)\n",
    "    i += 1"
   ]
  },
  {
   "cell_type": "markdown",
   "id": "42b00b09-2cf1-40a6-bf83-cfc93dabb6d0",
   "metadata": {
    "jp-MarkdownHeadingCollapsed": true,
    "tags": []
   },
   "source": [
    "## SQR"
   ]
  },
  {
   "cell_type": "code",
   "execution_count": null,
   "id": "3b08b6ae-87ea-4f7d-a783-20c465ec99b0",
   "metadata": {},
   "outputs": [],
   "source": [
    "ms = np.arange(0.1, 1.01, 0.01)\n",
    "N = 5 * 10**4\n",
    "\n",
    "i = 0\n",
    "for m in ms:\n",
    "    bkgd = stats.norm.rvs(-m, 1, size = N)\n",
    "    sgnl = stats.norm.rvs(+m, 1, size = N)\n",
    "    X = np.concatenate((bkgd, sgnl))\n",
    "    y = np.concatenate((np.zeros(N), np.ones(N)))\n",
    "\n",
    "    xs = g[:, 0]\n",
    "    ys = g[:, 1]\n",
    "    zs = []\n",
    "    for p in g:\n",
    "        zs += [sqr(p[0], p[1])]\n",
    "\n",
    "    fig = plt.figure(figsize = (8, 8))\n",
    "    ax = fig.add_subplot(111, projection = '3d')\n",
    "    ax.scatter(xs, ys, zs, s = 5, c = zs, cmap = 'viridis')\n",
    "    ax.set_zlim(0, 70000000)\n",
    "    plt.savefig('anims/shift/sqr/{}.png'.format(i),\n",
    "                dpi=1200, \n",
    "                bbox_inches='tight')\n",
    "    fig.clear()\n",
    "    plt.close(fig)\n",
    "    i += 1"
   ]
  },
  {
   "cell_type": "markdown",
   "id": "fc9614bb-b200-40b5-979c-4a97a2413890",
   "metadata": {
    "tags": []
   },
   "source": [
    "# $A/B$ Parametrizations"
   ]
  },
  {
   "cell_type": "markdown",
   "id": "681553b0-0d44-4f53-9122-7762df0c5e01",
   "metadata": {
    "tags": []
   },
   "source": [
    "## MSE"
   ]
  },
  {
   "cell_type": "code",
   "execution_count": null,
   "id": "ab71f3ed-a748-4daa-a0ec-edd0259cffe2",
   "metadata": {},
   "outputs": [],
   "source": [
    "p = 1.25\n",
    "aa, bb = np.meshgrid(np.linspace(-4, 4, 601), np.linspace(-4, 4, 601))\n",
    "\n",
    "zz = nmse_p(aa, bb, p)"
   ]
  },
  {
   "cell_type": "code",
   "execution_count": null,
   "id": "1bfcc51d-da77-4bb3-9f20-a7a1df70c2ca",
   "metadata": {},
   "outputs": [],
   "source": [
    "fig = plt.figure(figsize = (5, 5))\n",
    "ax = fig.add_subplot(111, projection = '3d')\n",
    "ax.scatter(aa, bb, zz, s = 5, c = zz, cmap = 'viridis')"
   ]
  },
  {
   "cell_type": "code",
   "execution_count": null,
   "id": "2c672b64-2d3b-4636-a26b-8a592308b778",
   "metadata": {},
   "outputs": [],
   "source": [
    "p = 10\n",
    "aa, bb = np.meshgrid(np.linspace(-4, 4, 601), np.linspace(-4, 4, 601))\n",
    "\n",
    "zz = nmse_p(aa, bb, p)\n",
    "\n",
    "fig = plt.figure(figsize = (5, 5))\n",
    "ax = fig.add_subplot(111, projection = '3d')\n",
    "ax.scatter(aa, bb, zz, s = 5, c = zz, cmap = 'viridis')\n",
    "\n",
    "aa[zz == np.min(zz)], bb[zz == np.min(zz)]"
   ]
  },
  {
   "cell_type": "code",
   "execution_count": null,
   "id": "e1fd96f7-05e5-46c5-b5fe-239b05502b81",
   "metadata": {},
   "outputs": [],
   "source": [
    "p = 0.5\n",
    "aa, bb = np.meshgrid(np.linspace(-3, 3, 601), np.linspace(-3, 3, 601))\n",
    "\n",
    "zz = nmse_p(aa, bb, p)"
   ]
  },
  {
   "cell_type": "code",
   "execution_count": null,
   "id": "162bf4c2-d3cc-4673-a269-d004237d6d0f",
   "metadata": {},
   "outputs": [],
   "source": [
    "fig = plt.figure(figsize = (5, 5))\n",
    "ax = fig.add_subplot(111, projection = '3d')\n",
    "ax.scatter(aa, bb, zz, s = 5, c = zz, cmap = 'viridis')"
   ]
  },
  {
   "cell_type": "code",
   "execution_count": null,
   "id": "9866a65e-2513-4af6-81a2-e3f68a643df5",
   "metadata": {},
   "outputs": [],
   "source": [
    "p = 0.9\n",
    "aa, bb = np.meshgrid(np.linspace(-3, 3, 601), np.linspace(-3, 3, 601))\n",
    "\n",
    "zz = nmse_p(aa, bb, p)"
   ]
  },
  {
   "cell_type": "code",
   "execution_count": null,
   "id": "ae896c31-2e17-41e4-89a0-8a784df85e02",
   "metadata": {},
   "outputs": [],
   "source": [
    "fig = plt.figure(figsize = (5, 5))\n",
    "ax = fig.add_subplot(111, projection = '3d')\n",
    "ax.scatter(aa, bb, zz, s = 5, c = zz, cmap = 'viridis')"
   ]
  },
  {
   "cell_type": "code",
   "execution_count": null,
   "id": "797bee09-7b56-415d-aced-82571b6a3d9c",
   "metadata": {},
   "outputs": [],
   "source": [
    "p = 1\n",
    "aa, bb = np.meshgrid(np.linspace(-3, 3, 601), np.linspace(-3, 3, 601))\n",
    "\n",
    "zz = nmse_p(aa, bb, p)"
   ]
  },
  {
   "cell_type": "code",
   "execution_count": null,
   "id": "6682e4a4-f798-4232-b822-dd7461ff49b7",
   "metadata": {},
   "outputs": [],
   "source": [
    "fig = plt.figure(figsize = (5, 5))\n",
    "ax = fig.add_subplot(111, projection = '3d')\n",
    "ax.scatter(aa, bb, zz, s = 5, c = zz, cmap = 'viridis')"
   ]
  },
  {
   "cell_type": "code",
   "execution_count": null,
   "id": "95e36887-6c83-4ff7-ac5c-9b03da883742",
   "metadata": {},
   "outputs": [],
   "source": [
    "p = 1.1\n",
    "aa, bb = np.meshgrid(np.linspace(-3, 3, 601), np.linspace(-3, 3, 601))\n",
    "\n",
    "zz = nmse_p(aa, bb, p)"
   ]
  },
  {
   "cell_type": "code",
   "execution_count": null,
   "id": "e62e6525-f884-4a7d-b564-84c1ef4b2ede",
   "metadata": {},
   "outputs": [],
   "source": [
    "fig = plt.figure(figsize = (5, 5))\n",
    "ax = fig.add_subplot(111, projection = '3d')\n",
    "ax.scatter(aa, bb, zz, s = 5, c = zz, cmap = 'viridis')"
   ]
  },
  {
   "cell_type": "code",
   "execution_count": null,
   "id": "14d6e994-2c11-4879-8687-a8bc894bcbe4",
   "metadata": {},
   "outputs": [],
   "source": [
    "aa[zz == np.min(zz)], bb[zz == np.min(zz)]"
   ]
  },
  {
   "cell_type": "code",
   "execution_count": null,
   "id": "8827869e-12a5-4ec6-9e66-819eaa361d77",
   "metadata": {},
   "outputs": [],
   "source": [
    "ps = np.arange(-2, 2, 0.05)\n",
    "ps[61]"
   ]
  },
  {
   "cell_type": "code",
   "execution_count": null,
   "id": "1cac0c1d-f758-4695-84e0-869bee61df2e",
   "metadata": {},
   "outputs": [],
   "source": [
    "ps = np.arange(-2, 2, 0.05)\n",
    "N = 5 * 10**4\n",
    "\n",
    "i = 0\n",
    "for p in ps:\n",
    "    bkgd = stats.norm.rvs(-1, 1, size = N)\n",
    "    sgnl = stats.norm.rvs(+1, 1, size = N)\n",
    "    X = np.concatenate((bkgd, sgnl))\n",
    "    y = np.concatenate((np.zeros(N), np.ones(N)))\n",
    "\n",
    "    xs = g[:, 0]\n",
    "    ys = g[:, 1]\n",
    "    zs = []\n",
    "    for pt in g:\n",
    "        zs += [mse_p(pt[0], pt[1], p)]\n",
    "\n",
    "    fig = plt.figure(figsize = (8, 8))\n",
    "    ax = fig.add_subplot(111, projection = '3d')\n",
    "    ax.scatter(xs, ys, zs, s = 5, c = zs, cmap = 'viridis')\n",
    "    ax.set_zlim(0.2, 5)\n",
    "    plt.savefig('anims/mse_ab/{}.png'.format(i),\n",
    "                dpi=1200, \n",
    "                bbox_inches='tight')\n",
    "    fig.clear()\n",
    "    plt.close(fig)\n",
    "    i += 1"
   ]
  },
  {
   "cell_type": "markdown",
   "id": "1c2d80dc-1727-446e-a0b3-92d2b6dc13fa",
   "metadata": {
    "tags": []
   },
   "source": [
    "## SQR"
   ]
  },
  {
   "cell_type": "code",
   "execution_count": null,
   "id": "cb7a3206-a9c8-4033-bcb5-815c678c6b50",
   "metadata": {},
   "outputs": [],
   "source": [
    "r = 10\n",
    "aa, bb = np.meshgrid(np.linspace(-3, 3, 601), np.linspace(-3, 3, 601))\n",
    "\n",
    "zz = nexpsqr_r(aa, bb, r)\n",
    "\n",
    "fig = plt.figure(figsize = (5, 5))\n",
    "ax = fig.add_subplot(111, projection = '3d')\n",
    "idx = ~np.isnan(zz)\n",
    "ax.scatter(aa[idx], bb[idx], zz[idx], c = zz[idx], s = 5, cmap = 'viridis')"
   ]
  },
  {
   "cell_type": "code",
   "execution_count": null,
   "id": "3effd1ac-856c-458e-b683-1ff940cef36b",
   "metadata": {},
   "outputs": [],
   "source": [
    "rs = np.arange(-2, 2, 0.05)\n",
    "N = 5 * 10**4\n",
    "\n",
    "i = 0\n",
    "for r in rs:\n",
    "    bkgd = stats.norm.rvs(-1, 1, size = N)\n",
    "    sgnl = stats.norm.rvs(+1, 1, size = N)\n",
    "    X = np.concatenate((bkgd, sgnl))\n",
    "    y = np.concatenate((np.zeros(N), np.ones(N)))\n",
    "\n",
    "    xs = g[:, 0]\n",
    "    ys = g[:, 1]\n",
    "    zs = []\n",
    "    for pt in g:\n",
    "        zs += [sqr_r(pt[0], pt[1], r)]\n",
    "\n",
    "    fig = plt.figure(figsize = (8, 8))\n",
    "    ax = fig.add_subplot(111, projection = '3d')\n",
    "    ax.scatter(xs, ys, zs, s = 5, c = zs, cmap = 'viridis')\n",
    "    ax.set_xlim(-7, 7)\n",
    "    ax.set_ylim(-7, 7)\n",
    "    ax.set_zlim(0, 70000000)\n",
    "    plt.savefig('anims/sqr_ab/{}.png'.format(i),\n",
    "                dpi=1200, \n",
    "                bbox_inches='tight')\n",
    "    fig.clear()\n",
    "    plt.close(fig)\n",
    "    i += 1"
   ]
  },
  {
   "cell_type": "markdown",
   "id": "686dc56f-597b-471e-8f01-de1caf31638b",
   "metadata": {
    "jp-MarkdownHeadingCollapsed": true,
    "tags": []
   },
   "source": [
    "# $C$ Parametrizations"
   ]
  },
  {
   "cell_type": "markdown",
   "id": "2a44ebe7-75d1-4343-8400-07c170fc9cc9",
   "metadata": {},
   "source": [
    "## MLC"
   ]
  },
  {
   "cell_type": "code",
   "execution_count": null,
   "id": "1ca01b3f-57b1-49d1-85fd-fe1118334c40",
   "metadata": {},
   "outputs": [],
   "source": [
    "fig = plt.figure(figsize = (8, 8))\n",
    "ax = fig.add_subplot(111, projection = '3d')\n",
    "\n",
    "def init():\n",
    "    ax.scatter(xs, ys, exp_mlc_zs, s = 5, c = exp_mlc_zs, cmap = 'viridis')\n",
    "    ax.set_zlim(0, 10)\n",
    "    plt.xlabel(r'$a$')\n",
    "    plt.ylabel(r'$b$')\n",
    "    plt.title(r'Exp MLC Loss of ReLU$(ax + b)$')\n",
    "    return fig,\n",
    "\n",
    "def animate(i):\n",
    "    ax.view_init(elev=30., azim=3.6*i)\n",
    "    return fig,\n",
    "\n",
    "ani = animation.FuncAnimation(fig, animate, init_func=init,\n",
    "                               frames=100, interval=100, blit=True)  \n",
    "ani.save('anims/exp_mlc_2.gif')"
   ]
  },
  {
   "cell_type": "markdown",
   "id": "93292cf1-5715-4851-a265-acc27ee56273",
   "metadata": {},
   "source": [
    "## SQR"
   ]
  },
  {
   "cell_type": "code",
   "execution_count": null,
   "id": "7dcaa91e-b5ab-4b2b-8e21-af2055d31c31",
   "metadata": {},
   "outputs": [],
   "source": [
    "fig = plt.figure(figsize = (8, 8))\n",
    "ax = fig.add_subplot(111, projection = '3d')\n",
    "\n",
    "def init():\n",
    "    ax.scatter(xs, ys, exp_sqr_zs, s = 5, c = exp_sqr_zs, cmap = 'viridis')\n",
    "    ax.set_zlim(1.5, 6)\n",
    "    plt.xlabel(r'$a$')\n",
    "    plt.ylabel(r'$b$')\n",
    "    plt.title(r'Exp SQR Loss of ReLU$(ax + b)$')\n",
    "    return fig,\n",
    "\n",
    "def animate(i):\n",
    "    ax.view_init(elev=30., azim=3.6*i)\n",
    "    return fig,\n",
    "\n",
    "ani = animation.FuncAnimation(fig, animate, init_func=init,\n",
    "                               frames=100, interval=100, blit=True)  \n",
    "ani.save('anims/exp_sqr_2.gif')"
   ]
  },
  {
   "cell_type": "markdown",
   "id": "e0b09bc0-7e5f-42a6-9977-a0e063f555b3",
   "metadata": {
    "jp-MarkdownHeadingCollapsed": true,
    "tags": []
   },
   "source": [
    "# Gamma Landscapes"
   ]
  },
  {
   "cell_type": "code",
   "execution_count": null,
   "id": "2ea479a6-b163-4a27-a7fd-7fb290cadfc3",
   "metadata": {},
   "outputs": [],
   "source": [
    "N = 5 * 10**3\n",
    "bkgd = stats.gamma.rvs(5, 1, size = N)\n",
    "sgnl = stats.gamma.rvs(6, 1, size = N)\n",
    "X = np.concatenate((bkgd, sgnl))\n",
    "y = np.concatenate((np.zeros(N), np.ones(N)))"
   ]
  },
  {
   "cell_type": "code",
   "execution_count": null,
   "id": "b4e17b8f-2f7d-45ab-a2d0-0f378636c96a",
   "metadata": {},
   "outputs": [],
   "source": [
    "%%time\n",
    "\n",
    "xs = g[:, 0]\n",
    "ys = g[:, 1]\n",
    "bce_zs = []\n",
    "mse_zs = []\n",
    "mlc_zs = []\n",
    "sqr_zs = []\n",
    "i = 0\n",
    "for p in g:\n",
    "    bce_zs += [bce(p[0], p[1])]\n",
    "    mse_zs += [mse(p[0], p[1])]\n",
    "    mlc_zs += [mlc(p[0], p[1])]\n",
    "    sqr_zs += [sqr(p[0], p[1])]\n",
    "    if i % 100 == 0:\n",
    "        print(i, ':', bce_zs[-1], mse_zs[-1], mlc_zs[-1], sqr_zs[-1]) \n",
    "    i += 1"
   ]
  },
  {
   "cell_type": "code",
   "execution_count": null,
   "id": "78cb1205-651a-4bf9-8b31-77f61b1615ea",
   "metadata": {},
   "outputs": [],
   "source": [
    "fig = plt.figure(figsize = (16, 15))\n",
    "ax = fig.add_subplot(2, 2, 1, projection = '3d')\n",
    "ax.scatter(xs, ys, bce_zs, s = 5, c = bce_zs, cmap = 'viridis')\n",
    "ax.set_xlabel(r'$a$')\n",
    "ax.set_ylabel(r'$b$')\n",
    "\n",
    "\n",
    "ax = fig.add_subplot(2, 2, 2)\n",
    "ax.scatter(xs, ys, c = bce_zs, cmap='viridis')\n",
    "ax.set_xlabel(r'$a$')\n",
    "ax.set_ylabel(r'$b$')\n",
    "ax.set_aspect('equal')\n",
    "\n",
    "fig.suptitle(r'BCE Loss of $\\sigma(ax + b)$', y = 0.92)\n",
    "plt.savefig('plots/bce_gammas.png', \n",
    "            dpi=1200, \n",
    "            bbox_inches='tight')"
   ]
  },
  {
   "cell_type": "code",
   "execution_count": null,
   "id": "46c71ad2-f0ca-44dd-af67-d1507179d3b4",
   "metadata": {},
   "outputs": [],
   "source": [
    "fig = plt.figure(figsize = (16, 15))\n",
    "ax = fig.add_subplot(2, 2, 1, projection = '3d')\n",
    "ax.scatter(xs, ys, mse_zs, s = 5, c = mse_zs, cmap = 'viridis')\n",
    "ax.set_xlabel(r'$a$')\n",
    "ax.set_ylabel(r'$b$')\n",
    "\n",
    "\n",
    "ax = fig.add_subplot(2, 2, 2)\n",
    "ax.scatter(xs, ys, c = mse_zs, cmap='viridis')\n",
    "ax.set_xlabel(r'$a$')\n",
    "ax.set_ylabel(r'$b$')\n",
    "ax.set_aspect('equal')\n",
    "\n",
    "fig.suptitle(r'MSE Loss of $\\sigma(ax + b)$', y = 0.92)\n",
    "plt.savefig('plots/mse_gammas.png', \n",
    "            dpi=1200, \n",
    "            bbox_inches='tight')"
   ]
  },
  {
   "cell_type": "code",
   "execution_count": null,
   "id": "df8e52d7-97b6-4ac3-8594-31eb68f32964",
   "metadata": {},
   "outputs": [],
   "source": [
    "fig = plt.figure(figsize = (16, 15))\n",
    "ax = fig.add_subplot(2, 2, 1, projection = '3d')\n",
    "ax.scatter(xs, ys, mlc_zs, s = 5, c = mlc_zs, cmap = 'viridis')\n",
    "ax.set_xlabel(r'$a$')\n",
    "ax.set_ylabel(r'$b$')\n",
    "\n",
    "\n",
    "ax = fig.add_subplot(2, 2, 2)\n",
    "ax.scatter(xs, ys, c = mlc_zs, cmap='viridis')\n",
    "ax.set_xlabel(r'$a$')\n",
    "ax.set_ylabel(r'$b$')\n",
    "ax.set_aspect('equal')\n",
    "\n",
    "fig.suptitle(r'MLC Loss of ReLU$(ax + b)$', y = 0.92)\n",
    "plt.savefig('plots/mlc_gammas.png', \n",
    "            dpi=1200, \n",
    "            bbox_inches='tight')"
   ]
  },
  {
   "cell_type": "code",
   "execution_count": null,
   "id": "f29be2f2-f349-48e9-a151-bc8132d8fbcd",
   "metadata": {},
   "outputs": [],
   "source": [
    "fig = plt.figure(figsize = (16, 15))\n",
    "ax = fig.add_subplot(2, 2, 1, projection = '3d')\n",
    "ax.scatter(xs, ys, sqr_zs, s = 5, c = sqr_zs, cmap = 'viridis')\n",
    "ax.set_xlabel(r'$a$')\n",
    "ax.set_ylabel(r'$b$')\n",
    "\n",
    "\n",
    "ax = fig.add_subplot(2, 2, 2)\n",
    "ax.scatter(xs, ys, c = sqr_zs, cmap='viridis')\n",
    "ax.set_xlabel(r'$a$')\n",
    "ax.set_ylabel(r'$b$')\n",
    "ax.set_aspect('equal')\n",
    "\n",
    "fig.suptitle(r'SQR Loss of ReLU$(ax + b)$', y = 0.92)\n",
    "plt.savefig('plots/sqr_gammas.png', \n",
    "            dpi=1200, \n",
    "            bbox_inches='tight')"
   ]
  },
  {
   "cell_type": "markdown",
   "id": "2dfdb82d-9508-4b7b-836f-4d4a87632fad",
   "metadata": {
    "jp-MarkdownHeadingCollapsed": true,
    "tags": []
   },
   "source": [
    "# Betas"
   ]
  },
  {
   "cell_type": "code",
   "execution_count": null,
   "id": "9c63bca6-74eb-489e-98db-ddb264f13f32",
   "metadata": {},
   "outputs": [],
   "source": [
    "N = 5 * 10**3\n",
    "bkgd = stats.beta.rvs(2, 3, size = N)\n",
    "sgnl = stats.beta.rvs(3, 2, size = N)\n",
    "X = np.concatenate((bkgd, sgnl))\n",
    "y = np.concatenate((np.zeros(N), np.ones(N)))\n",
    "\n",
    "g = np.meshgrid(np.linspace(-2, 2, 200), np.linspace(-2, 2, 200))\n",
    "g = np.append(g[0].reshape(-1,1),g[1].reshape(-1,1),axis = 1)"
   ]
  },
  {
   "cell_type": "code",
   "execution_count": null,
   "id": "e16a90ac-71f4-406c-b7a0-42808af5d292",
   "metadata": {},
   "outputs": [],
   "source": [
    "%%time\n",
    "\n",
    "xs = g[:, 0]\n",
    "ys = g[:, 1]\n",
    "bce_zs = []\n",
    "mse_zs = []\n",
    "mlc_zs = []\n",
    "sqr_zs = []\n",
    "i = 0\n",
    "for p in g:\n",
    "    bce_zs += [bce(p[0], p[1])]\n",
    "    mse_zs += [mse(p[0], p[1])]\n",
    "    mlc_zs += [mlc(p[0], p[1])]\n",
    "    sqr_zs += [sqr(p[0], p[1])]\n",
    "    if i % 100 == 0:\n",
    "        print(i, ':', bce_zs[-1], mse_zs[-1], mlc_zs[-1], sqr_zs[-1]) \n",
    "    i += 1"
   ]
  },
  {
   "cell_type": "code",
   "execution_count": null,
   "id": "f048d576-4137-4262-8b84-122688da326f",
   "metadata": {},
   "outputs": [],
   "source": [
    "fig = plt.figure(figsize = (16, 15))\n",
    "ax = fig.add_subplot(2, 2, 1, projection = '3d')\n",
    "ax.scatter(xs, ys, bce_zs, s = 5, c = bce_zs, cmap = 'viridis')\n",
    "ax.set_xlabel(r'$a$')\n",
    "ax.set_ylabel(r'$b$')\n",
    "\n",
    "\n",
    "ax = fig.add_subplot(2, 2, 2)\n",
    "ax.scatter(xs, ys, c = bce_zs, cmap='viridis')\n",
    "ax.set_xlabel(r'$a$')\n",
    "ax.set_ylabel(r'$b$')\n",
    "ax.set_aspect('equal')\n",
    "\n",
    "fig.suptitle(r'BCE Loss of $\\sigma(ax + b)$', y = 0.92)\n",
    "plt.savefig('plots/bce_betas.png', \n",
    "            dpi=1200, \n",
    "            bbox_inches='tight')"
   ]
  },
  {
   "cell_type": "code",
   "execution_count": null,
   "id": "32f8127a-b9a9-4958-87cc-ab916237011f",
   "metadata": {},
   "outputs": [],
   "source": [
    "fig = plt.figure(figsize = (16, 15))\n",
    "ax = fig.add_subplot(2, 2, 1, projection = '3d')\n",
    "ax.scatter(xs, ys, mse_zs, s = 5, c = mse_zs, cmap = 'viridis')\n",
    "ax.set_xlabel(r'$a$')\n",
    "ax.set_ylabel(r'$b$')\n",
    "\n",
    "\n",
    "ax = fig.add_subplot(2, 2, 2)\n",
    "ax.scatter(xs, ys, c = mse_zs, cmap='viridis')\n",
    "ax.set_xlabel(r'$a$')\n",
    "ax.set_ylabel(r'$b$')\n",
    "ax.set_aspect('equal')\n",
    "\n",
    "fig.suptitle(r'MSE Loss of $\\sigma(ax + b)$', y = 0.92)\n",
    "plt.savefig('plots/mse_betas.png', \n",
    "            dpi=1200, \n",
    "            bbox_inches='tight')"
   ]
  },
  {
   "cell_type": "code",
   "execution_count": null,
   "id": "c7e0c2bf-06e5-47f1-b319-acd169c79cc9",
   "metadata": {},
   "outputs": [],
   "source": [
    "fig = plt.figure(figsize = (16, 15))\n",
    "ax = fig.add_subplot(2, 2, 1, projection = '3d')\n",
    "ax.scatter(xs, ys, mlc_zs, s = 5, c = mlc_zs, cmap = 'viridis')\n",
    "ax.set_xlabel(r'$a$')\n",
    "ax.set_ylabel(r'$b$')\n",
    "\n",
    "\n",
    "ax = fig.add_subplot(2, 2, 2)\n",
    "ax.scatter(xs, ys, c = mlc_zs, cmap='viridis')\n",
    "ax.set_xlabel(r'$a$')\n",
    "ax.set_ylabel(r'$b$')\n",
    "ax.set_aspect('equal')\n",
    "\n",
    "fig.suptitle(r'MLC Loss of ReLU$(ax + b)$', y = 0.92)\n",
    "plt.savefig('plots/mlc_betas.png', \n",
    "            dpi=1200, \n",
    "            bbox_inches='tight')"
   ]
  },
  {
   "cell_type": "code",
   "execution_count": null,
   "id": "e5387c4c-64ce-40ed-b95c-82364ec69e50",
   "metadata": {},
   "outputs": [],
   "source": [
    "fig = plt.figure(figsize = (16, 15))\n",
    "ax = fig.add_subplot(2, 2, 1, projection = '3d')\n",
    "ax.scatter(xs, ys, sqr_zs, s = 5, c = sqr_zs, cmap = 'viridis')\n",
    "ax.set_xlabel(r'$a$')\n",
    "ax.set_ylabel(r'$b$')\n",
    "\n",
    "\n",
    "ax = fig.add_subplot(2, 2, 2)\n",
    "ax.scatter(xs, ys, c = sqr_zs, cmap='viridis')\n",
    "ax.set_xlabel(r'$a$')\n",
    "ax.set_ylabel(r'$b$')\n",
    "ax.set_aspect('equal')\n",
    "\n",
    "fig.suptitle(r'SQR Loss of ReLU$(ax + b)$', y = 0.92)\n",
    "plt.savefig('plots/sqr_betas.png', \n",
    "            dpi=1200, \n",
    "            bbox_inches='tight')"
   ]
  },
  {
   "cell_type": "markdown",
   "id": "be6d34bf-aa53-4fba-8042-8fa1ccd64704",
   "metadata": {
    "jp-MarkdownHeadingCollapsed": true,
    "tags": []
   },
   "source": [
    "# Scratch"
   ]
  },
  {
   "cell_type": "code",
   "execution_count": null,
   "id": "c10a9069-42ad-44b8-b67a-bd182dc68442",
   "metadata": {},
   "outputs": [],
   "source": [
    "import numpy as np\n",
    "from scipy import stats\n",
    "from scipy import integrate\n",
    "import matplotlib.pyplot as plt"
   ]
  },
  {
   "cell_type": "code",
   "execution_count": null,
   "id": "06dc5545-84d6-42f7-8d55-9f8928e7c766",
   "metadata": {},
   "outputs": [],
   "source": [
    "bkgd = stats.norm(-0.1, 1)\n",
    "sgnl = stats.norm(+0.1, 1)\n",
    "#eps = np.finfo(float).eps\n",
    "eps = 1e-7"
   ]
  },
  {
   "cell_type": "code",
   "execution_count": null,
   "id": "1873a9d8-a828-4b47-8227-049ef52c8c7a",
   "metadata": {},
   "outputs": [],
   "source": [
    "def sig(x):\n",
    "    return 1 / (1 + np.exp(-x))\n",
    "\n",
    "def relu(x):\n",
    "    return np.maximum(0, x)"
   ]
  },
  {
   "cell_type": "code",
   "execution_count": null,
   "id": "51a53de9-8412-4aab-8636-2d04af753f55",
   "metadata": {},
   "outputs": [],
   "source": [
    "# Numerical estimation of losses\n",
    "\n",
    "bkgd = stats.norm(-0.1, 1)\n",
    "sgnl = stats.norm(+0.1, 1)\n",
    "\n",
    "@np.vectorize\n",
    "def nbce(a, b):\n",
    "    g = lambda x: -(sgnl.pdf(x) * np.log(sig(a*x + b) + eps) + \\\n",
    "                    bkgd.pdf(x) * np.log(1 - sig(a*x + b) + eps) )\n",
    "    return integrate.quad(g, -np.inf, np.inf)[0]\n",
    "\n",
    "@np.vectorize\n",
    "def nmse(a, b):\n",
    "    g = lambda x: -(sgnl.pdf(x) * -(1 - sig(a*x + b))**2 + \\\n",
    "                    bkgd.pdf(x) * -(sig(a*x + b)**2) )\n",
    "    return integrate.quad(g, -np.inf, np.inf)[0]\n",
    "\n",
    "@np.vectorize\n",
    "def nmlc(a, b):\n",
    "    g = lambda x: -(sgnl.pdf(x) * np.log(relu(a*x + b) + eps) + \\\n",
    "                    bkgd.pdf(x) * (1 - relu(a*x + b)) )\n",
    "    return integrate.quad(g, -np.inf, np.inf)[0]\n",
    "\n",
    "@np.vectorize\n",
    "def nsqr(a, b):\n",
    "    g = lambda x: -(sgnl.pdf(x) * -1 / (relu(a*x + b) + eps)**0.5 + \\\n",
    "                    bkgd.pdf(x) * -relu(a*x + b)**0.5 )\n",
    "    return integrate.quad(g, -np.inf, np.inf)[0]\n",
    "\n",
    "def vbce(a, b):\n",
    "    g = lambda x: -(sgnl.pdf(x) * np.log(sig(a*x + b) + eps) + \\\n",
    "                    bkgd.pdf(x) * np.log(1 - sig(a*x + b) + eps) )\n",
    "    return integrate.quad_vec(g, -np.inf, np.inf)[0]\n",
    "\n",
    "def vmse(a, b):\n",
    "    g = lambda x: -(sgnl.pdf(x) * -(1 - sig(a*x + b))**2 + \\\n",
    "                    bkgd.pdf(x) * -(sig(a*x + b)**2) )\n",
    "    return integrate.quad_vec(g, -np.inf, np.inf)[0]\n",
    "\n",
    "def vmlc(a, b):\n",
    "    g = lambda x: -(sgnl.pdf(x) * np.log(relu(a*x + b) + eps) + \\\n",
    "                    bkgd.pdf(x) * (1 - relu(a*x + b)) )\n",
    "    return integrate.quad_vec(g, -np.inf, np.inf)[0]\n",
    "\n",
    "def vsqr(a, b):\n",
    "    g = lambda x: -(sgnl.pdf(x) * -1 / (relu(a*x + b) + eps)**0.5 + \\\n",
    "                    bkgd.pdf(x) * -relu(a*x + b)**0.5 )\n",
    "    return integrate.quad_vec(g, -np.inf, np.inf)[0]"
   ]
  },
  {
   "cell_type": "code",
   "execution_count": null,
   "id": "144673ae-ec50-4f8d-9c6f-9965ed0bd9d5",
   "metadata": {},
   "outputs": [],
   "source": [
    "aa, bb = np.meshgrid(np.linspace(-1.5, 1.5, 21), np.linspace(-1.5, 1.5, 21))"
   ]
  },
  {
   "cell_type": "code",
   "execution_count": null,
   "id": "f2d99401-0b71-4913-8d2d-c043a9c3e911",
   "metadata": {},
   "outputs": [],
   "source": [
    "vvc = vbce(aa, bb)\n",
    "vvs = vmse(aa, bb)\n",
    "vvl = vmlc(aa, bb)\n",
    "vvq = vsqr(aa, bb)"
   ]
  },
  {
   "cell_type": "code",
   "execution_count": null,
   "id": "a7a84c6c-70fb-49a7-8964-0e4e7f767de2",
   "metadata": {},
   "outputs": [],
   "source": [
    "nnc = nbce(aa, bb)\n",
    "nns = nmse(aa, bb)\n",
    "nnl = nmlc(aa, bb)\n",
    "nnq = nsqr(aa, bb)"
   ]
  },
  {
   "cell_type": "code",
   "execution_count": null,
   "id": "8769ec9a-ea31-4148-acef-e9c05fb2a1ce",
   "metadata": {},
   "outputs": [],
   "source": [
    "np.max(vvc - nnc), np.max(vvs - nns), np.max(vvl - nnl), np.max(vvq - nnq)"
   ]
  },
  {
   "cell_type": "markdown",
   "id": "054cc3df-e41e-4f59-9df1-2a2ae0c8d110",
   "metadata": {
    "jp-MarkdownHeadingCollapsed": true,
    "tags": []
   },
   "source": [
    "# The Issue\n"
   ]
  },
  {
   "cell_type": "code",
   "execution_count": null,
   "id": "7dacf3d1-f8b2-482b-9a50-2241c1e1634e",
   "metadata": {},
   "outputs": [],
   "source": [
    "eps = np.finfo(float).eps"
   ]
  },
  {
   "cell_type": "code",
   "execution_count": null,
   "id": "8acd8585-ba27-4787-b254-01c8e985aa2c",
   "metadata": {},
   "outputs": [],
   "source": [
    "fa = 0.19\n",
    "fb = 1.02\n",
    "f = lambda x: -(sgnl.pdf(x) * -1 / (relu(fa*x + fb) + eps)**0.5 + \\\n",
    "                bkgd.pdf(x) * -relu(fa*x + fb)**0.5 )"
   ]
  },
  {
   "cell_type": "code",
   "execution_count": null,
   "id": "052e555e-3b0f-4d25-b996-748665c0c240",
   "metadata": {},
   "outputs": [],
   "source": [
    "ha = 0.15\n",
    "hb = 1.02\n",
    "h = lambda x: -(sgnl.pdf(x) * -1 / (relu(ha*x + hb) + eps)**0.5 + \\\n",
    "                bkgd.pdf(x) * -relu(ha*x + hb)**0.5 )"
   ]
  },
  {
   "cell_type": "code",
   "execution_count": null,
   "id": "0c8edf1f-1a24-43e8-9035-1f96032d9558",
   "metadata": {},
   "outputs": [],
   "source": [
    "xs = np.linspace(-7, 7, 1000)\n",
    "plt.plot(xs, f(xs), label = 'f')\n",
    "plt.plot(xs, h(xs), label = 'h')\n",
    "plt.legend();"
   ]
  },
  {
   "cell_type": "code",
   "execution_count": null,
   "id": "79ca5d3b-1d34-4bdb-8c29-c3d15b874e6e",
   "metadata": {},
   "outputs": [],
   "source": [
    "-hb / ha"
   ]
  },
  {
   "cell_type": "code",
   "execution_count": null,
   "id": "ae52f42f-e77e-498c-9b2f-fbbb55e1bae8",
   "metadata": {},
   "outputs": [],
   "source": [
    "-fb / fa"
   ]
  },
  {
   "cell_type": "code",
   "execution_count": null,
   "id": "1d787744-ed5e-41da-9276-990400bbe90b",
   "metadata": {},
   "outputs": [],
   "source": [
    "x = xs[f(xs) == np.max(f(xs))]"
   ]
  },
  {
   "cell_type": "code",
   "execution_count": null,
   "id": "66963297-a93f-4a8c-afaf-893dc18a285e",
   "metadata": {},
   "outputs": [],
   "source": [
    "x"
   ]
  },
  {
   "cell_type": "code",
   "execution_count": null,
   "id": "0a84dce3-0eba-45d5-9b50-c2c4adb11d30",
   "metadata": {},
   "outputs": [],
   "source": [
    "sgnl.pdf(x)"
   ]
  },
  {
   "cell_type": "code",
   "execution_count": null,
   "id": "d4a370de-3363-4aae-b618-b1d78baeeb3a",
   "metadata": {},
   "outputs": [],
   "source": [
    "1 / (relu(ha*x + hb) + eps)**0.5"
   ]
  },
  {
   "cell_type": "code",
   "execution_count": null,
   "id": "6d960731-c9d4-47bc-aa1a-83778e068218",
   "metadata": {},
   "outputs": [],
   "source": [
    "1 / (relu(fa*x + fb) + eps)**0.5"
   ]
  },
  {
   "cell_type": "code",
   "execution_count": null,
   "id": "60fc1180-93c7-40a3-87a5-d35d8abbc4a8",
   "metadata": {},
   "outputs": [],
   "source": [
    "eps = 1e-11"
   ]
  },
  {
   "cell_type": "code",
   "execution_count": null,
   "id": "e214f26a-04cf-4b8e-921c-24343d9a8d33",
   "metadata": {},
   "outputs": [],
   "source": [
    "xs = np.linspace(-7, 7, 1000)\n",
    "plt.plot(xs, f(xs), label = 'f')\n",
    "plt.plot(xs, h(xs), label = 'h')\n",
    "plt.legend();"
   ]
  },
  {
   "cell_type": "markdown",
   "id": "43b4fda2-0588-449b-84bc-9c35b8c846fe",
   "metadata": {
    "jp-MarkdownHeadingCollapsed": true,
    "tags": []
   },
   "source": [
    "# Vectorization"
   ]
  },
  {
   "cell_type": "markdown",
   "id": "343e87ca-6ad5-4955-a9fc-555b759da7cd",
   "metadata": {
    "jp-MarkdownHeadingCollapsed": true,
    "tags": []
   },
   "source": [
    "## Method 1: Numpy Vectorization"
   ]
  },
  {
   "cell_type": "markdown",
   "id": "5e6b32fd-c872-41bb-8a93-b0b786075646",
   "metadata": {},
   "source": [
    "A one-dimensional example."
   ]
  },
  {
   "cell_type": "code",
   "execution_count": null,
   "id": "8e3c623a-d52c-4686-8622-76ed6dbb2baf",
   "metadata": {},
   "outputs": [],
   "source": [
    "fun2int = lambda x, a: np.sqrt(x+a)\n",
    "intfun = lambda a: integrate.quad(fun2int, 0, 4, args=(a))[0]\n",
    "vec_int = np.vectorize(intfun)\n",
    "vec_int(np.linspace(0,2,5))"
   ]
  },
  {
   "cell_type": "markdown",
   "id": "1402f1be-d5f6-4808-9541-be51a4a568b9",
   "metadata": {},
   "source": [
    "While this doesn't speed up performance, it is convenient. It also allows for interval modifying based on the input."
   ]
  },
  {
   "cell_type": "code",
   "execution_count": null,
   "id": "717dc246-c437-4c1e-8951-be2d3ef7ccda",
   "metadata": {},
   "outputs": [],
   "source": [
    "j = lambda x, a, b: -(sgnl.pdf(x) * -1 / (relu(a*x + b) + eps)**0.5 + \\\n",
    "                      bkgd.pdf(x) * -relu(a*x + b)**0.5 )\n",
    "t = lambda a, b: integrate.quad(j, a == 0 and -np.inf or -b/a, np.inf, args=(a, b))[0]\n",
    "vec_t = np.vectorize(t)"
   ]
  },
  {
   "cell_type": "code",
   "execution_count": null,
   "id": "2573342e-53d4-462f-ab8f-7789580784de",
   "metadata": {},
   "outputs": [],
   "source": [
    "vec_t([-1, 0, 1], [0, 1, 2])"
   ]
  },
  {
   "cell_type": "code",
   "execution_count": null,
   "id": "8eb1256a-fade-4a4a-9a14-67a65985fa24",
   "metadata": {},
   "outputs": [],
   "source": [
    "vec_t([-1, 0, 1], 0)"
   ]
  },
  {
   "cell_type": "code",
   "execution_count": null,
   "id": "794b67b5-efe7-45a0-b1e4-f40723e3ac96",
   "metadata": {},
   "outputs": [],
   "source": [
    "vec_t([-1, 0, 1], 1)"
   ]
  },
  {
   "cell_type": "code",
   "execution_count": null,
   "id": "42642b13-3af2-4b1d-95b1-efde1c0b491c",
   "metadata": {},
   "outputs": [],
   "source": [
    "vec_t([-1, 0, 1], 2)"
   ]
  },
  {
   "cell_type": "code",
   "execution_count": null,
   "id": "fb19aeca-fa90-4067-bbf1-4db7e03ee05a",
   "metadata": {},
   "outputs": [],
   "source": [
    "vec_t([[-1, 0, 1], [-1, 0, 1]], [[-1, -1, -1], [0, 0, 0]])"
   ]
  },
  {
   "cell_type": "code",
   "execution_count": null,
   "id": "4002b1a3-5851-4102-abac-e94a9bfed748",
   "metadata": {},
   "outputs": [],
   "source": [
    "X, Y = np.meshgrid(np.linspace(-1.5, 1.5, 11), np.linspace(-1.5, 1.5, 11))\n",
    "#g = np.round(np.append(g[0].reshape(-1, 1), g[1].reshape(-1, 1), axis = 1), 3)"
   ]
  },
  {
   "cell_type": "code",
   "execution_count": null,
   "id": "584689ec-cec3-4989-9697-8f6be075c9e9",
   "metadata": {},
   "outputs": [],
   "source": [
    "plt.contour(X, Y, vec_t(X, Y))"
   ]
  },
  {
   "cell_type": "markdown",
   "id": "94d21284-bc49-4fc7-80c8-4e602ec20e7e",
   "metadata": {
    "tags": []
   },
   "source": [
    "## Method 2: quad_vec"
   ]
  },
  {
   "cell_type": "markdown",
   "id": "9b0905f0-cd76-4717-a4e8-86d616b23268",
   "metadata": {},
   "source": [
    "This results in a speed-up, but it doesn't allow us to modify the interval based on the values of $a$ and $b$. We would have to tune epsilon instead."
   ]
  },
  {
   "cell_type": "code",
   "execution_count": null,
   "id": "82b1741a-3e25-4f58-ada3-2ccb4a4591dd",
   "metadata": {},
   "outputs": [],
   "source": [
    "np.array([[a, b] for a in [-1, 0, 1] for b in [-1, 0, 1]]).reshape(-1)"
   ]
  },
  {
   "cell_type": "code",
   "execution_count": null,
   "id": "4c798ec2-de9d-4733-b02c-421b08dab755",
   "metadata": {},
   "outputs": [],
   "source": [
    "aa = [-1, 0, 1]\n",
    "bb = [-1, 0, 1]\n",
    "f = lambda x: np.array([bkgd.pdf(x) * -relu(a*x + b)**0.5 for a in aa for b in bb])"
   ]
  },
  {
   "cell_type": "code",
   "execution_count": null,
   "id": "31c1d23b-d5c0-423c-8053-d11d152233c9",
   "metadata": {},
   "outputs": [],
   "source": [
    "integrate.quad_vec(f, -np.inf, np.inf)"
   ]
  },
  {
   "cell_type": "code",
   "execution_count": null,
   "id": "09040bcd-e702-4330-99b4-a287f13993a4",
   "metadata": {},
   "outputs": [],
   "source": [
    "a, b = np.meshgrid([-1, 0, 1], [-1, 0, 1])\n",
    "f = lambda x: 1 / (1 + np.exp(a*x**2 + b))"
   ]
  },
  {
   "cell_type": "code",
   "execution_count": null,
   "id": "88844633-bc7d-425e-aba4-7dd4ae260469",
   "metadata": {},
   "outputs": [],
   "source": [
    "f(1)"
   ]
  },
  {
   "cell_type": "code",
   "execution_count": null,
   "id": "65ca8486-fd9b-45ae-b707-ca7b82b269aa",
   "metadata": {},
   "outputs": [],
   "source": [
    "integrate.quad_vec(f, -np.inf, np.inf)"
   ]
  },
  {
   "cell_type": "code",
   "execution_count": null,
   "id": "9ea582a4-c64f-4ed5-adc3-2a04143edc67",
   "metadata": {},
   "outputs": [],
   "source": [
    "(bkgd.pdf(1) + relu(a*1 + b)).reshape(-1).reshape(a.shape)"
   ]
  },
  {
   "cell_type": "code",
   "execution_count": null,
   "id": "f6ea2911-1000-418f-a7fe-9484c9abec09",
   "metadata": {},
   "outputs": [],
   "source": [
    "a, b = np.meshgrid([-1, 0.19, 1], [-1, 1.02, 1])\n",
    "g = lambda x: -(sgnl.pdf(x) * -1 / (relu(a*x + b) + eps)**0.5 + \\\n",
    "                bkgd.pdf(x) * -relu(a*x + b)**0.5 )"
   ]
  },
  {
   "cell_type": "code",
   "execution_count": null,
   "id": "4ca15f6e-cd1a-4e3f-9183-b39ead592cfb",
   "metadata": {},
   "outputs": [],
   "source": [
    "g(0)"
   ]
  },
  {
   "cell_type": "markdown",
   "id": "043768d0-cfa2-44e0-902b-b23d74fa3d00",
   "metadata": {},
   "source": [
    "This appears to vectorize properly, but since we can't have special integral bounds, suffers from that issue instead."
   ]
  },
  {
   "cell_type": "code",
   "execution_count": null,
   "id": "46074cd9-d5d6-4a8b-a556-612b7b900a05",
   "metadata": {},
   "outputs": [],
   "source": [
    "eps = np.finfo(float).eps"
   ]
  },
  {
   "cell_type": "code",
   "execution_count": null,
   "id": "ff63d9f1-efe0-4140-ab36-e2d766e7ac72",
   "metadata": {},
   "outputs": [],
   "source": [
    "integrate.quad_vec(g, -np.inf, np.inf)"
   ]
  },
  {
   "cell_type": "code",
   "execution_count": null,
   "id": "e28427af-86b0-41ab-babf-16c6dca047a9",
   "metadata": {},
   "outputs": [],
   "source": [
    "np.minimum(-b/a, -np.inf).reshape(-1)"
   ]
  }
 ],
 "metadata": {
  "kernelspec": {
   "display_name": "omnifold",
   "language": "python",
   "name": "omnifold"
  },
  "language_info": {
   "codemirror_mode": {
    "name": "ipython",
    "version": 3
   },
   "file_extension": ".py",
   "mimetype": "text/x-python",
   "name": "python",
   "nbconvert_exporter": "python",
   "pygments_lexer": "ipython3",
   "version": "3.8.12"
  }
 },
 "nbformat": 4,
 "nbformat_minor": 5
}
