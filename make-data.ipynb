{
 "cells": [
  {
   "cell_type": "code",
   "execution_count": 12,
   "id": "aeaeb5d5-5cee-466c-8977-4817cfc273e8",
   "metadata": {},
   "outputs": [],
   "source": [
    "from scipy import stats\n",
    "import numpy as np\n",
    "import os\n",
    "\n",
    "#from utils.training import make_data\n",
    "#from flows.flows import *\n",
    "\n",
    "from nflows.flows.base import Flow\n",
    "from nflows.distributions.normal import StandardNormal\n",
    "from nflows.transforms.base import CompositeTransform\n",
    "from nflows.transforms.autoregressive import MaskedAffineAutoregressiveTransform\n",
    "from nflows.transforms.permutations import ReversePermutation\n",
    "\n",
    "import torch"
   ]
  },
  {
   "cell_type": "markdown",
   "id": "c5e23439-a7bf-48fe-a6d7-a07ba366d5cb",
   "metadata": {
    "jp-MarkdownHeadingCollapsed": true,
    "tags": []
   },
   "source": [
    "# Normal"
   ]
  },
  {
   "cell_type": "code",
   "execution_count": null,
   "id": "908fefa4-a947-4ad3-a0d0-54f61a2bff82",
   "metadata": {},
   "outputs": [],
   "source": [
    "if not os.path.isdir('data/normal/'):\n",
    "    os.mkdir('data/normal/')"
   ]
  },
  {
   "cell_type": "markdown",
   "id": "49d03f29-2418-4fe4-abc1-0cd1ae69aa14",
   "metadata": {
    "tags": []
   },
   "source": [
    "### $\\varepsilon = 0.1$"
   ]
  },
  {
   "cell_type": "code",
   "execution_count": null,
   "id": "82c9dac8-ebe9-48cf-8d44-773e066824a4",
   "metadata": {
    "scrolled": true,
    "tags": []
   },
   "outputs": [],
   "source": [
    "if not os.path.isdir('data/normal/0.1'):\n",
    "    os.mkdir('data/normal/0.1')\n",
    "\n",
    "np.random.seed(666)\n",
    "    \n",
    "bkgd = stats.norm(-0.1, 1)\n",
    "sgnl = stats.norm(+0.1, 1)\n",
    "\n",
    "X_trn, X_tst, y_trn, y_tst = make_data(bkgd, sgnl)\n",
    "\n",
    "np.save('data/normal/0.1/X_trn.npy', X_trn)\n",
    "np.save('data/normal/0.1/y_trn.npy', y_trn)\n",
    "np.save('data/normal/0.1/X_tst.npy', X_tst)\n",
    "np.save('data/normal/0.1/y_tst.npy', y_tst)"
   ]
  },
  {
   "cell_type": "markdown",
   "id": "00470756-73bb-4c80-a573-54586f2e188b",
   "metadata": {},
   "source": [
    "### $\\varepsilon = 0.2$"
   ]
  },
  {
   "cell_type": "code",
   "execution_count": null,
   "id": "12f90a1c-2a69-49ad-a502-6ff91b459015",
   "metadata": {},
   "outputs": [],
   "source": [
    "np.random.seed(666)\n",
    "\n",
    "if not os.path.isdir('data/normal/0.2'):\n",
    "    os.mkdir('data/normal/0.2')\n",
    "    \n",
    "bkgd = stats.norm(-0.2, 1)\n",
    "sgnl = stats.norm(+0.2, 1)\n",
    "\n",
    "X_trn, X_tst, y_trn, y_tst = make_data(bkgd, sgnl)\n",
    "\n",
    "np.save('data/normal/0.2/X_trn.npy', X_trn)\n",
    "np.save('data/normal/0.2/y_trn.npy', y_trn)\n",
    "np.save('data/normal/0.2/X_tst.npy', X_tst)\n",
    "np.save('data/normal/0.2/y_tst.npy', y_tst)"
   ]
  },
  {
   "cell_type": "markdown",
   "id": "17f6f94b-0608-4f5b-920c-7877d8ca9996",
   "metadata": {},
   "source": [
    "### $\\varepsilon = 0.3$"
   ]
  },
  {
   "cell_type": "code",
   "execution_count": null,
   "id": "e7680f58-631c-41e8-8270-33df53f1fb3e",
   "metadata": {},
   "outputs": [],
   "source": [
    "np.random.seed(666)\n",
    "\n",
    "if not os.path.isdir('data/normal/0.3/'):\n",
    "    os.mkdir('data/normal/0.3/')\n",
    "    \n",
    "bkgd = stats.norm(-0.3, 1)\n",
    "sgnl = stats.norm(+0.3, 1)\n",
    "\n",
    "X_trn, X_tst, y_trn, y_tst = make_data(bkgd, sgnl)\n",
    "\n",
    "np.save('data/normal/0.3/X_trn.npy', X_trn)\n",
    "np.save('data/normal/0.3/y_trn.npy', y_trn)\n",
    "np.save('data/normal/0.3/X_tst.npy', X_tst)\n",
    "np.save('data/normal/0.3/y_tst.npy', y_tst)"
   ]
  },
  {
   "cell_type": "markdown",
   "id": "71f7afa2-e56e-47d2-a25a-5ef9f09bf15c",
   "metadata": {},
   "source": [
    "### $\\varepsilon = 0.4$"
   ]
  },
  {
   "cell_type": "code",
   "execution_count": null,
   "id": "9d5a9983-a783-4104-8454-cc4d0fec0f16",
   "metadata": {},
   "outputs": [],
   "source": [
    "np.random.seed(666)\n",
    "\n",
    "if not os.path.isdir('data/normal/0.4/'):\n",
    "    os.mkdir('data/normal/0.4/')\n",
    "    \n",
    "bkgd = stats.norm(-0.4, 1)\n",
    "sgnl = stats.norm(+0.4, 1)\n",
    "\n",
    "X_trn, X_tst, y_trn, y_tst = make_data(bkgd, sgnl)\n",
    "\n",
    "np.save('data/normal/0.4/X_trn.npy', X_trn)\n",
    "np.save('data/normal/0.4/y_trn.npy', y_trn)\n",
    "np.save('data/normal/0.4/X_tst.npy', X_tst)\n",
    "np.save('data/normal/0.4/y_tst.npy', y_tst)"
   ]
  },
  {
   "cell_type": "markdown",
   "id": "e65c0a45-a6ea-4985-98ec-6f00e9de7d41",
   "metadata": {},
   "source": [
    "### $\\varepsilon = 0.5$"
   ]
  },
  {
   "cell_type": "code",
   "execution_count": null,
   "id": "5bb053e8-4173-4d21-92e8-edef0b4b4743",
   "metadata": {},
   "outputs": [],
   "source": [
    "np.random.seed(666)\n",
    "\n",
    "if not os.path.isdir('data/normal/0.5/'):\n",
    "    os.mkdir('data/normal/0.5/')\n",
    "    \n",
    "bkgd = stats.norm(-0.5, 1)\n",
    "sgnl = stats.norm(+0.5, 1)\n",
    "\n",
    "X_trn, X_tst, y_trn, y_tst = make_data(bkgd, sgnl)\n",
    "\n",
    "np.save('data/normal/0.5/X_trn.npy', X_trn)\n",
    "np.save('data/normal/0.5/y_trn.npy', y_trn)\n",
    "np.save('data/normal/0.5/X_tst.npy', X_tst)\n",
    "np.save('data/normal/0.5/y_tst.npy', y_tst)"
   ]
  },
  {
   "cell_type": "markdown",
   "id": "a66beaed-4504-451e-8e1b-9334ced49f34",
   "metadata": {
    "jp-MarkdownHeadingCollapsed": true,
    "tags": []
   },
   "source": [
    "# Centered at $10$"
   ]
  },
  {
   "cell_type": "code",
   "execution_count": null,
   "id": "156bf1ee-b0bc-4911-ad25-ff23b2ca016d",
   "metadata": {},
   "outputs": [],
   "source": [
    "np.random.seed(666)\n",
    "\n",
    "if not os.path.isdir('data/normal/10/'):\n",
    "    os.mkdir('data/normal/10/')\n",
    "    \n",
    "bkgd = stats.norm(10 - 0.1, 1)\n",
    "sgnl = stats.norm(10 + 0.1, 1)\n",
    "\n",
    "X_trn, X_tst, y_trn, y_tst = make_data(bkgd, sgnl)\n",
    "\n",
    "np.save('data/normal/10/X_trn.npy', X_trn)\n",
    "np.save('data/normal/10/y_trn.npy', y_trn)\n",
    "np.save('data/normal/10/X_tst.npy', X_tst)\n",
    "np.save('data/normal/10/y_tst.npy', y_tst)"
   ]
  },
  {
   "cell_type": "markdown",
   "id": "41d07de5-6523-4a84-9cbd-6f7c3e52decc",
   "metadata": {
    "jp-MarkdownHeadingCollapsed": true,
    "tags": []
   },
   "source": [
    "# Gamma"
   ]
  },
  {
   "cell_type": "code",
   "execution_count": null,
   "id": "59b125a2-3a92-4435-b0f3-812ab6413003",
   "metadata": {},
   "outputs": [],
   "source": [
    "np.random.seed(666)\n",
    "\n",
    "if not os.path.isdir('data/gamma/'):\n",
    "    os.mkdir('data/gamma/')\n",
    "    \n",
    "bkgd = stats.gamma(5, 1)\n",
    "sgnl = stats.gamma(6, 1)\n",
    "\n",
    "X_trn, X_tst, y_trn, y_tst = make_data(bkgd, sgnl)\n",
    "\n",
    "np.save('data/gamma/X_trn.npy', X_trn)\n",
    "np.save('data/gamma/y_trn.npy', y_trn)\n",
    "np.save('data/gamma/X_tst.npy', X_tst)\n",
    "np.save('data/gamma/y_tst.npy', y_tst)"
   ]
  },
  {
   "cell_type": "markdown",
   "id": "21aa3f98-efcf-4f56-ada1-761dd2cc7ad2",
   "metadata": {
    "jp-MarkdownHeadingCollapsed": true,
    "tags": []
   },
   "source": [
    "# Beta"
   ]
  },
  {
   "cell_type": "code",
   "execution_count": null,
   "id": "87a16660-cef8-4893-8f2b-1b5ea01d8674",
   "metadata": {},
   "outputs": [],
   "source": [
    "np.random.seed(666)\n",
    "\n",
    "if not os.path.isdir('data/beta/'):\n",
    "    os.mkdir('data/beta/')\n",
    "    \n",
    "bkgd = stats.beta(2, 3)\n",
    "sgnl = stats.beta(3, 2)\n",
    "\n",
    "X_trn, X_tst, y_trn, y_tst = make_data(bkgd, sgnl)\n",
    "\n",
    "np.save('data/beta/X_trn.npy', X_trn)\n",
    "np.save('data/beta/y_trn.npy', y_trn)\n",
    "np.save('data/beta/X_tst.npy', X_tst)\n",
    "np.save('data/beta/y_tst.npy', y_tst)"
   ]
  },
  {
   "cell_type": "markdown",
   "id": "0aa529b1-6785-4de5-a45a-387cbebb83c8",
   "metadata": {
    "jp-MarkdownHeadingCollapsed": true,
    "tags": []
   },
   "source": [
    "# Multivariate Normal"
   ]
  },
  {
   "cell_type": "code",
   "execution_count": null,
   "id": "bb15ac6c-9cf3-47f7-87b4-7010117b3d46",
   "metadata": {},
   "outputs": [],
   "source": [
    "if not os.path.isdir('data/mvn/'):\n",
    "    os.mkdir('data/mvn/')"
   ]
  },
  {
   "cell_type": "markdown",
   "id": "7b3391fd-430f-473c-b7df-b1999b68c632",
   "metadata": {
    "jp-MarkdownHeadingCollapsed": true,
    "tags": []
   },
   "source": [
    "## Vertical"
   ]
  },
  {
   "cell_type": "code",
   "execution_count": null,
   "id": "66826ba8-b2ab-4724-a424-ed7e086265b2",
   "metadata": {},
   "outputs": [],
   "source": [
    "np.random.seed(666)\n",
    "\n",
    "if not os.path.isdir('data/mvn/vertical/'):\n",
    "    os.mkdir('data/mvn/vertical/')\n",
    "    \n",
    "mu_bkgd = np.array([-0.1, 0])\n",
    "mu_sgnl = np.array([+0.1, 0])\n",
    "sg_bkgd = np.eye(2)\n",
    "sg_sgnl = np.eye(2)\n",
    "\n",
    "bkgd = stats.multivariate_normal(mu_bkgd, sg_bkgd)\n",
    "sgnl = stats.multivariate_normal(mu_sgnl, sg_sgnl)\n",
    "\n",
    "X_trn, X_tst, y_trn, y_tst = make_data(bkgd, sgnl)\n",
    "\n",
    "np.save('data/mvn/vertical/X_trn.npy', X_trn)\n",
    "np.save('data/mvn/vertical/y_trn.npy', y_trn)\n",
    "np.save('data/mvn/vertical/X_tst.npy', X_tst)\n",
    "np.save('data/mvn/vertical/y_tst.npy', y_tst)"
   ]
  },
  {
   "cell_type": "code",
   "execution_count": null,
   "id": "3b12fc99-e2d8-4ec8-9133-ac4257a82194",
   "metadata": {},
   "outputs": [],
   "source": [
    "X = bkgd.rvs(size = 10)\n",
    "y = stats.bernoulli.rvs(0.5, size = 10)"
   ]
  },
  {
   "cell_type": "markdown",
   "id": "2088edbb-f553-40a4-a687-c73043b9b037",
   "metadata": {
    "jp-MarkdownHeadingCollapsed": true,
    "tags": []
   },
   "source": [
    "## Slant"
   ]
  },
  {
   "cell_type": "code",
   "execution_count": null,
   "id": "b323b9c4-ba4e-472c-b276-74e813de8206",
   "metadata": {},
   "outputs": [],
   "source": [
    "np.random.seed(666)\n",
    "\n",
    "if not os.path.isdir('data/mvn/slant/'):\n",
    "    os.mkdir('data/mvn/slant/')\n",
    "    \n",
    "b = 0.1 / (2 ** (0.5))\n",
    "mu_bkgd = np.array([-b, +b])\n",
    "mu_sgnl = np.array([+b, -b])\n",
    "sg_bkgd = np.eye(2)\n",
    "sg_sgnl = np.eye(2)\n",
    "\n",
    "bkgd = stats.multivariate_normal(mu_bkgd, sg_bkgd)\n",
    "sgnl = stats.multivariate_normal(mu_sgnl, sg_sgnl)\n",
    "\n",
    "X_trn, X_tst, y_trn, y_tst = make_data(bkgd, sgnl)\n",
    "\n",
    "np.save('data/mvn/slant/X_trn.npy', X_trn)\n",
    "np.save('data/mvn/slant/y_trn.npy', y_trn)\n",
    "np.save('data/mvn/slant/X_tst.npy', X_tst)\n",
    "np.save('data/mvn/slant/y_tst.npy', y_tst)"
   ]
  },
  {
   "cell_type": "markdown",
   "id": "0c473c5c-0089-4f81-b1cf-829a39dc1faf",
   "metadata": {
    "jp-MarkdownHeadingCollapsed": true,
    "tags": []
   },
   "source": [
    "## Circle"
   ]
  },
  {
   "cell_type": "code",
   "execution_count": null,
   "id": "78567724-2582-47a5-9d5e-fec48ba13290",
   "metadata": {},
   "outputs": [],
   "source": [
    "np.random.seed(666)\n",
    "\n",
    "if not os.path.isdir('data/mvn/circle/'):\n",
    "    os.mkdir('data/mvn/circle/')\n",
    "    \n",
    "mu_bkgd = np.array([-0.1, 0])\n",
    "mu_sgnl = np.array([+0.1, 0])\n",
    "sg_bkgd = 2*np.eye(2)\n",
    "sg_sgnl = np.eye(2)\n",
    "\n",
    "bkgd = stats.multivariate_normal(mu_bkgd, sg_bkgd)\n",
    "sgnl = stats.multivariate_normal(mu_sgnl, sg_sgnl)\n",
    "\n",
    "X_trn, X_tst, y_trn, y_tst = make_data(bkgd, sgnl)\n",
    "\n",
    "np.save('data/mvn/circle/X_trn.npy', X_trn)\n",
    "np.save('data/mvn/circle/y_trn.npy', y_trn)\n",
    "np.save('data/mvn/circle/X_tst.npy', X_tst)\n",
    "np.save('data/mvn/circle/y_tst.npy', y_tst)"
   ]
  },
  {
   "cell_type": "markdown",
   "id": "1984ca1b-97ab-42c0-92f6-71cd0279db65",
   "metadata": {
    "jp-MarkdownHeadingCollapsed": true,
    "tags": []
   },
   "source": [
    "## Hyperbola\n"
   ]
  },
  {
   "cell_type": "code",
   "execution_count": null,
   "id": "85fd4b71-bde9-4dd9-9dd5-2a5ab0e58534",
   "metadata": {},
   "outputs": [],
   "source": [
    "np.random.seed(666)\n",
    "\n",
    "if not os.path.isdir('data/mvn/hyperbola/'):\n",
    "    os.mkdir('data/mvn/hyperbola/')\n",
    "    \n",
    "mu_bkgd = np.array([-0.1, 0])\n",
    "mu_sgnl = np.array([+0.1, 0])\n",
    "sg_bkgd = np.array([[2, 0], [0, 1]])\n",
    "sg_sgnl = np.array([[1, 0], [0, 2]])\n",
    "\n",
    "bkgd = stats.multivariate_normal(mu_bkgd, sg_bkgd)\n",
    "sgnl = stats.multivariate_normal(mu_sgnl, sg_sgnl)\n",
    "\n",
    "X_trn, X_tst, y_trn, y_tst = make_data(bkgd, sgnl)\n",
    "\n",
    "np.save('data/mvn/hyperbola/X_trn.npy', X_trn)\n",
    "np.save('data/mvn/hyperbola/y_trn.npy', y_trn)\n",
    "np.save('data/mvn/hyperbola/X_tst.npy', X_tst)\n",
    "np.save('data/mvn/hyperbola/y_tst.npy', y_tst)"
   ]
  },
  {
   "cell_type": "markdown",
   "id": "d82f4144-926e-4416-a7dd-f2da199e458e",
   "metadata": {},
   "source": [
    "## Checker"
   ]
  },
  {
   "cell_type": "code",
   "execution_count": null,
   "id": "56b1b01b-1119-4a4a-b7f0-2d4342b8237b",
   "metadata": {},
   "outputs": [],
   "source": [
    "np.random.seed(666)\n",
    "\n",
    "if not os.path.isdir('data/mvn/checker/'):\n",
    "    os.mkdir('data/mvn/checker/')\n",
    "    \n",
    "mu_bkgd = np.array([-0.1, 0])\n",
    "mu_sgnl = np.array([+0.1, 0])\n",
    "sg_bkgd = np.array([[2, +0.25], [+0.25, 1]])\n",
    "sg_sgnl = np.array([[2, -0.25], [-0.25, 1]])\n",
    "\n",
    "bkgd = stats.multivariate_normal(mu_bkgd, sg_bkgd)\n",
    "sgnl = stats.multivariate_normal(mu_sgnl, sg_sgnl)\n",
    "\n",
    "X_trn, X_tst, y_trn, y_tst = make_data(bkgd, sgnl)\n",
    "\n",
    "np.save('data/mvn/checker/X_trn.npy', X_trn)\n",
    "np.save('data/mvn/checker/y_trn.npy', y_trn)\n",
    "np.save('data/mvn/checker/X_tst.npy', X_tst)\n",
    "np.save('data/mvn/checker/y_tst.npy', y_tst)"
   ]
  },
  {
   "cell_type": "markdown",
   "id": "431f888f-57b5-4d74-a8cc-f2a27cbf23a8",
   "metadata": {
    "tags": []
   },
   "source": [
    "# Zenodo"
   ]
  },
  {
   "cell_type": "markdown",
   "id": "4f728000-3282-454a-a5ac-93ef47eb12bc",
   "metadata": {
    "jp-MarkdownHeadingCollapsed": true,
    "tags": []
   },
   "source": [
    "## Flow Training Data"
   ]
  },
  {
   "cell_type": "code",
   "execution_count": 2,
   "id": "2985f96e-2836-4291-8cb9-c37c5628e121",
   "metadata": {},
   "outputs": [],
   "source": [
    "mc = np.load(\"data/zenodo/Pythia21_Zjet_pTZ-200GeV_0.npz\")\n",
    "\n",
    "sim_pt = mc['sim_jets'][:, 0]\n",
    "sim_eta = mc['sim_jets'][:, 1]\n",
    "sim_phi = mc['sim_jets'][:, 2]\n",
    "sim_m = mc['sim_jets'][:, 3]\n",
    "sim_w = mc['sim_widths']\n",
    "sim_sdms = mc['sim_sdms']\n",
    "\n",
    "sim = np.vstack([sim_pt, sim_eta, sim_phi, sim_m, sim_w, sim_sdms]).T\n",
    "\n",
    "dat = np.load(\"data/zenodo/Herwig_Zjet_pTZ-200GeV_0.npz\")\n",
    "\n",
    "dat_pt =  dat['sim_jets'][:, 0] # dat[:, 0]\n",
    "dat_eta = dat['sim_jets'][:, 1]\n",
    "dat_phi = dat['sim_jets'][:, 2]\n",
    "dat_m =   dat['sim_jets'][:, 3]\n",
    "dat_w = dat['sim_widths']\n",
    "dat_sdms = dat['sim_sdms']\n",
    "\n",
    "dat = np.vstack([dat_pt, dat_eta, dat_phi, dat_m, dat_w, dat_sdms]).T"
   ]
  },
  {
   "cell_type": "code",
   "execution_count": 3,
   "id": "06186339-ffd9-4162-80e1-1055926a7baa",
   "metadata": {},
   "outputs": [],
   "source": [
    "# sim is bkgd\n",
    "# dat is sgnl\n",
    "X = np.vstack((sim, dat))\n",
    "y = np.hstack((np.zeros(sim.shape[0]), np.ones(dat.shape[0])))"
   ]
  },
  {
   "cell_type": "code",
   "execution_count": 4,
   "id": "55cf801e-bd84-4900-b49f-8ce3618da184",
   "metadata": {},
   "outputs": [],
   "source": [
    "np.save('data/zenodo/X.npy', X)\n",
    "np.save('data/zenodo/y.npy', y)"
   ]
  },
  {
   "cell_type": "markdown",
   "id": "519af07d-c222-4927-9aa6-b7ba85feafac",
   "metadata": {
    "tags": []
   },
   "source": [
    "## Fold Training Data"
   ]
  },
  {
   "cell_type": "markdown",
   "id": "f81b939a-b9c6-435e-98ad-e1ecc960290a",
   "metadata": {},
   "source": [
    "### 5 Vectors"
   ]
  },
  {
   "cell_type": "code",
   "execution_count": 28,
   "id": "195badea-ee24-4e61-8d58-b827998167d9",
   "metadata": {},
   "outputs": [],
   "source": [
    "mc = np.load(\"data/zenodo/Pythia21_Zjet_pTZ-200GeV_0.npz\")\n",
    "\n",
    "sim_pt = mc['sim_jets'][:, 0]\n",
    "sim_eta = mc['sim_jets'][:, 1]\n",
    "sim_phi = mc['sim_jets'][:, 2]\n",
    "sim_m = mc['sim_jets'][:, 3]\n",
    "sim_w = mc['sim_widths']\n",
    "sim_sdms = mc['sim_sdms']\n",
    "\n",
    "sim = np.vstack([sim_pt, sim_eta, sim_m, sim_w, sim_sdms]).T\n",
    "\n",
    "dat = np.load(\"data/zenodo/Herwig_Zjet_pTZ-200GeV_0.npz\")\n",
    "\n",
    "dat_pt =  dat['sim_jets'][:, 0] # dat[:, 0]\n",
    "dat_eta = dat['sim_jets'][:, 1]\n",
    "dat_phi = dat['sim_jets'][:, 2]\n",
    "dat_m =   dat['sim_jets'][:, 3]\n",
    "dat_w = dat['sim_widths']\n",
    "dat_sdms = dat['sim_sdms']\n",
    "\n",
    "dat = np.vstack([dat_pt, dat_eta, dat_m, dat_w, dat_sdms]).T\n",
    "\n",
    "n, d = dat.shape"
   ]
  },
  {
   "cell_type": "code",
   "execution_count": 29,
   "id": "2d243ead-11ff-43d9-8610-5861598e95e8",
   "metadata": {},
   "outputs": [],
   "source": [
    "np.random.seed(666)\n",
    "N_trn = 10**7\n",
    "N_tst = 10**5"
   ]
  },
  {
   "cell_type": "code",
   "execution_count": 30,
   "id": "04965784-7877-4c41-823b-8f871b273a40",
   "metadata": {},
   "outputs": [
    {
     "ename": "NameError",
     "evalue": "name 'tf' is not defined",
     "output_type": "error",
     "traceback": [
      "\u001b[0;31m---------------------------------------------------------------------------\u001b[0m",
      "\u001b[0;31mNameError\u001b[0m                                 Traceback (most recent call last)",
      "Cell \u001b[0;32mIn[30], line 2\u001b[0m\n\u001b[1;32m      1\u001b[0m os\u001b[38;5;241m.\u001b[39menviron[\u001b[38;5;124m\"\u001b[39m\u001b[38;5;124mCUDA_VISIBLE_DEVICES\u001b[39m\u001b[38;5;124m\"\u001b[39m] \u001b[38;5;241m=\u001b[39m \u001b[38;5;124m\"\u001b[39m\u001b[38;5;124m3\u001b[39m\u001b[38;5;124m\"\u001b[39m \u001b[38;5;66;03m# pick a number < 4 on ML4HEP; < 3 on Voltan \u001b[39;00m\n\u001b[0;32m----> 2\u001b[0m physical_devices \u001b[38;5;241m=\u001b[39m \u001b[43mtf\u001b[49m\u001b[38;5;241m.\u001b[39mconfig\u001b[38;5;241m.\u001b[39mlist_physical_devices(\u001b[38;5;124m'\u001b[39m\u001b[38;5;124mGPU\u001b[39m\u001b[38;5;124m'\u001b[39m) \n\u001b[1;32m      3\u001b[0m tf\u001b[38;5;241m.\u001b[39mconfig\u001b[38;5;241m.\u001b[39mexperimental\u001b[38;5;241m.\u001b[39mset_memory_growth(physical_devices[\u001b[38;5;241m0\u001b[39m], \u001b[38;5;28;01mTrue\u001b[39;00m)\n",
      "\u001b[0;31mNameError\u001b[0m: name 'tf' is not defined"
     ]
    }
   ],
   "source": [
    "os.environ[\"CUDA_VISIBLE_DEVICES\"] = \"3\" # pick a number < 4 on ML4HEP; < 3 on Voltan \n",
    "physical_devices = tf.config.list_physical_devices('GPU') \n",
    "tf.config.experimental.set_memory_growth(physical_devices[0], True)"
   ]
  },
  {
   "cell_type": "code",
   "execution_count": 31,
   "id": "38cde1e8-1a9d-4307-bbfa-6c001fc9a324",
   "metadata": {},
   "outputs": [],
   "source": [
    "num_layers = 5\n",
    "base_dist = StandardNormal(shape=[d])\n",
    "\n",
    "transforms = []\n",
    "for _ in range(num_layers):\n",
    "    transforms.append(ReversePermutation(features=d))\n",
    "    transforms.append(MaskedAffineAutoregressiveTransform(features=d, \n",
    "                                                          hidden_features=8))\n",
    "transform = CompositeTransform(transforms)\n",
    "\n",
    "dat_target = Flow(transform, base_dist)\n",
    "ckpt = torch.load('flows/flows/dat/5/ckpt_best')\n",
    "dat_target.load_state_dict(ckpt['model_state_dict'])\n",
    "dat_target.eval()\n",
    "\n",
    "\n",
    "num_layers = 5\n",
    "base_dist = StandardNormal(shape=[d])\n",
    "\n",
    "transforms = []\n",
    "for _ in range(num_layers):\n",
    "    transforms.append(ReversePermutation(features=d))\n",
    "    transforms.append(MaskedAffineAutoregressiveTransform(features=d, \n",
    "                                                          hidden_features=8))\n",
    "transform = CompositeTransform(transforms)\n",
    "\n",
    "sim_target = Flow(transform, base_dist)\n",
    "ckpt = torch.load('flows/flows/sim/5/ckpt_best')\n",
    "sim_target.load_state_dict(ckpt['model_state_dict'])\n",
    "sim_target.eval();"
   ]
  },
  {
   "cell_type": "code",
   "execution_count": 32,
   "id": "3711ed96-78a2-472b-abf3-b5aabb6088bd",
   "metadata": {},
   "outputs": [
    {
     "data": {
      "text/plain": [
       "(tensor(10.5953, grad_fn=<NegBackward0>),\n",
       " tensor(10.4758, grad_fn=<NegBackward0>))"
      ]
     },
     "execution_count": 32,
     "metadata": {},
     "output_type": "execute_result"
    }
   ],
   "source": [
    "-dat_target.log_prob(inputs=dat.astype('float32')).mean(), -sim_target.log_prob(inputs=sim.astype('float32')).mean()"
   ]
  },
  {
   "cell_type": "code",
   "execution_count": 33,
   "id": "bd220dd9-69fb-4f7f-99ef-2cfd87109ac8",
   "metadata": {},
   "outputs": [],
   "source": [
    "y_trn = stats.bernoulli.rvs(0.5, size = N_trn)\n",
    "\n",
    "X_bkgd = sim_target.sample(N_trn).detach().numpy()\n",
    "X_sgnl = dat_target.sample(N_trn).detach().numpy()\n",
    "#X_bkgd = np.vstack([sim_target.sample(N_trn / 100).numpy() for i in range(100)])\n",
    "#X_sgnl = np.vstack([dat_target.sample(N_trn / 100).numpy() for i in range(100)])\n",
    "\n",
    "X_trn = np.zeros_like(X_bkgd)\n",
    "X_trn[y_trn == 0] = X_bkgd[y_trn == 0]\n",
    "X_trn[y_trn == 1] = X_sgnl[y_trn == 1]\n",
    "\n",
    "y_tst = stats.bernoulli.rvs(0.5, size = N_tst)\n",
    "\n",
    "X_bkgd = sim_target.sample(N_tst).detach().numpy()\n",
    "X_sgnl = dat_target.sample(N_tst).detach().numpy()\n",
    "\n",
    "X_tst = np.zeros_like(X_bkgd)\n",
    "X_tst[y_tst == 0] = X_bkgd[y_tst == 0]\n",
    "X_tst[y_tst == 1] = X_sgnl[y_tst == 1]\n",
    "\n",
    "np.save('data/zenodo/fold/5/X_trn.npy', X_trn)\n",
    "np.save('data/zenodo/fold/5/y_trn.npy', y_trn)\n",
    "np.save('data/zenodo/fold/5/X_tst.npy', X_tst)\n",
    "np.save('data/zenodo/fold/5/y_tst.npy', y_tst)"
   ]
  },
  {
   "cell_type": "markdown",
   "id": "3b94dd4a-efd7-479a-a374-c2c80b50078f",
   "metadata": {
    "jp-MarkdownHeadingCollapsed": true,
    "tags": []
   },
   "source": [
    "## $d = 1$"
   ]
  },
  {
   "cell_type": "raw",
   "id": "ca358248-deca-463d-a850-a403caab4648",
   "metadata": {},
   "source": [
    "np.random.seed(666)\n",
    "N_trn = 10**7\n",
    "N_tst = 10**5"
   ]
  },
  {
   "cell_type": "raw",
   "id": "4020e416-f0f6-4b60-a807-7ae257cdb136",
   "metadata": {},
   "source": [
    "os.environ[\"CUDA_VISIBLE_DEVICES\"] = \"1\" # pick a number < 4 on ML4HEP; < 3 on Voltan \n",
    "physical_devices = tf.config.list_physical_devices('GPU') \n",
    "tf.config.experimental.set_memory_growth(physical_devices[0], True)"
   ]
  },
  {
   "cell_type": "raw",
   "id": "1c028caf-a90d-41ff-a044-7a8a3415062e",
   "metadata": {},
   "source": [
    "dat_target = make_target(1)\n",
    "sim_target = make_target(1)\n",
    "\n",
    "dat_ckpt = tf.train.Checkpoint(dat_target)\n",
    "sim_ckpt = tf.train.Checkpoint(sim_target)\n",
    "\n",
    "dat_ckpt.restore('flows/zenodo/dat1/ckpt-157')\n",
    "sim_ckpt.restore('flows/zenodo/sim1/ckpt-157')"
   ]
  },
  {
   "cell_type": "raw",
   "id": "985510f4-702e-49ef-8fcb-0c2a75420222",
   "metadata": {},
   "source": [
    "y_trn = stats.bernoulli.rvs(0.5, size = N_trn)\n",
    "\n",
    "X_bkgd = sim_target.sample(N_trn).numpy()\n",
    "X_sgnl = dat_target.sample(N_trn).numpy()\n",
    "\n",
    "X_trn = np.zeros_like(X_bkgd)\n",
    "X_trn[y_trn == 0] = X_bkgd[y_trn == 0]\n",
    "X_trn[y_trn == 1] = X_sgnl[y_trn == 1]\n",
    "\n",
    "y_tst = stats.bernoulli.rvs(0.5, size = N_tst)\n",
    "\n",
    "X_bkgd = sim_target.sample(N_tst).numpy()\n",
    "X_sgnl = dat_target.sample(N_tst).numpy()\n",
    "\n",
    "X_tst = np.zeros_like(X_bkgd)\n",
    "X_tst[y_tst == 0] = X_bkgd[y_tst == 0]\n",
    "X_tst[y_tst == 1] = X_sgnl[y_tst == 1]\n",
    "\n",
    "np.save('data/zenodo/1/X_trn.npy', X_trn)\n",
    "np.save('data/zenodo/1/y_trn.npy', y_trn)\n",
    "np.save('data/zenodo/1/X_tst.npy', X_tst)\n",
    "np.save('data/zenodo/1/y_tst.npy', y_tst)"
   ]
  },
  {
   "cell_type": "markdown",
   "id": "890e473e-565d-4cb7-8556-aea780b663c3",
   "metadata": {
    "jp-MarkdownHeadingCollapsed": true,
    "tags": []
   },
   "source": [
    "## $d = 2$ ##"
   ]
  },
  {
   "cell_type": "raw",
   "id": "d34bf7c4-b418-4c29-85c1-f1b90ea7a2f9",
   "metadata": {},
   "source": [
    "np.random.seed(666)\n",
    "N_trn = 10**7\n",
    "N_tst = 10**5"
   ]
  },
  {
   "cell_type": "raw",
   "id": "f0a65ffe-0d9f-4f69-ba6b-80258887cb20",
   "metadata": {},
   "source": [
    "os.environ[\"CUDA_VISIBLE_DEVICES\"] = \"1\" # pick a number < 4 on ML4HEP; < 3 on Voltan \n",
    "physical_devices = tf.config.list_physical_devices('GPU') \n",
    "tf.config.experimental.set_memory_growth(physical_devices[0], True)"
   ]
  },
  {
   "cell_type": "raw",
   "id": "622e19ec-5b9d-46b5-bb24-aa5f7c946c3a",
   "metadata": {},
   "source": [
    "dat_target = make_target(2)\n",
    "sim_target = make_target(2)\n",
    "\n",
    "dat_ckpt = tf.train.Checkpoint(dat_target)\n",
    "sim_ckpt = tf.train.Checkpoint(sim_target)\n",
    "\n",
    "# FIX THIS LATER\n",
    "dat_ckpt.restore('flows/zenodo/dat2/ckpt-157')\n",
    "sim_ckpt.restore('flows/zenodo/sim2/ckpt-157')"
   ]
  },
  {
   "cell_type": "raw",
   "id": "ce6aeaa0-d469-451c-b2b0-17dcb76b7b93",
   "metadata": {},
   "source": [
    "y_trn = stats.bernoulli.rvs(0.5, size = N_trn)\n",
    "\n",
    "X_bkgd = sim_target.sample(N_trn).numpy()\n",
    "X_sgnl = dat_target.sample(N_trn).numpy()\n",
    "\n",
    "X_trn = np.zeros_like(X_bkgd)\n",
    "X_trn[y_trn == 0] = X_bkgd[y_trn == 0]\n",
    "X_trn[y_trn == 1] = X_sgnl[y_trn == 1]\n",
    "\n",
    "y_tst = stats.bernoulli.rvs(0.5, size = N_tst)\n",
    "\n",
    "X_bkgd = sim_target.sample(N_tst).numpy()\n",
    "X_sgnl = dat_target.sample(N_tst).numpy()\n",
    "\n",
    "X_tst = np.zeros_like(X_bkgd)\n",
    "X_tst[y_tst == 0] = X_bkgd[y_tst == 0]\n",
    "X_tst[y_tst == 1] = X_sgnl[y_tst == 1]\n",
    "\n",
    "np.save('data/zenodo/2/X_trn.npy', X_trn)\n",
    "np.save('data/zenodo/2/y_trn.npy', y_trn)\n",
    "np.save('data/zenodo/2/X_tst.npy', X_tst)\n",
    "np.save('data/zenodo/2/y_tst.npy', y_tst)"
   ]
  },
  {
   "cell_type": "markdown",
   "id": "9f0b1b76-6ccf-4545-a348-17fac871797d",
   "metadata": {
    "jp-MarkdownHeadingCollapsed": true,
    "tags": []
   },
   "source": [
    "## $d = 4$ "
   ]
  },
  {
   "cell_type": "code",
   "execution_count": null,
   "id": "e9b87177-7176-4534-9223-f97d8e5763dc",
   "metadata": {},
   "outputs": [],
   "source": [
    "np.random.seed(666)\n",
    "N_trn = 10**7\n",
    "N_tst = 10**5"
   ]
  },
  {
   "cell_type": "code",
   "execution_count": null,
   "id": "14305a65-eda5-4927-8196-24ad65d8c689",
   "metadata": {},
   "outputs": [],
   "source": [
    "os.environ[\"CUDA_VISIBLE_DEVICES\"] = \"0\" # pick a number < 4 on ML4HEP; < 3 on Voltan \n",
    "physical_devices = tf.config.list_physical_devices('GPU') \n",
    "tf.config.experimental.set_memory_growth(physical_devices[0], True)"
   ]
  },
  {
   "cell_type": "code",
   "execution_count": null,
   "id": "7273aae4-e74a-410e-9b2b-f31b8ff72dca",
   "metadata": {},
   "outputs": [],
   "source": [
    "dat_target = make_target(4)\n",
    "sim_target = make_target(4)\n",
    "\n",
    "dat_ckpt = tf.train.Checkpoint(dat_target)\n",
    "sim_ckpt = tf.train.Checkpoint(sim_target)\n",
    "\n",
    "dat_ckpt.restore('flows/zenodo/dat4/ckpt-235')\n",
    "sim_ckpt.restore('flows/zenodo/sim4/ckpt-235')"
   ]
  },
  {
   "cell_type": "code",
   "execution_count": null,
   "id": "f2a815d8-70a0-415e-9c28-25f274b12ea1",
   "metadata": {},
   "outputs": [],
   "source": [
    "y_trn = stats.bernoulli.rvs(0.5, size = N_trn)\n",
    "\n",
    "X_bkgd = sim_target.sample(N_trn).numpy()\n",
    "X_sgnl = dat_target.sample(N_trn).numpy()\n",
    "\n",
    "X_trn = np.zeros_like(X_bkgd)\n",
    "X_trn[y_trn == 0] = X_bkgd[y_trn == 0]\n",
    "X_trn[y_trn == 1] = X_sgnl[y_trn == 1]\n",
    "\n",
    "y_tst = stats.bernoulli.rvs(0.5, size = N_tst)\n",
    "\n",
    "X_bkgd = sim_target.sample(N_tst).numpy()\n",
    "X_sgnl = dat_target.sample(N_tst).numpy()\n",
    "\n",
    "X_tst = np.zeros_like(X_bkgd)\n",
    "X_tst[y_tst == 0] = X_bkgd[y_tst == 0]\n",
    "X_tst[y_tst == 1] = X_sgnl[y_tst == 1]\n",
    "\n",
    "np.save('data/zenodo/4/X_trn.npy', X_trn)\n",
    "np.save('data/zenodo/4/y_trn.npy', y_trn)\n",
    "np.save('data/zenodo/4/X_tst.npy', X_tst)\n",
    "np.save('data/zenodo/4/y_tst.npy', y_tst)"
   ]
  },
  {
   "cell_type": "markdown",
   "id": "15b6b5ca-d417-4e03-9ec9-574a19b08c9f",
   "metadata": {
    "jp-MarkdownHeadingCollapsed": true,
    "tags": []
   },
   "source": [
    "## $d = 8$"
   ]
  },
  {
   "cell_type": "code",
   "execution_count": null,
   "id": "9286298e-74e1-4618-8f43-1dab4eee18d1",
   "metadata": {},
   "outputs": [],
   "source": [
    "np.random.seed(666)\n",
    "N_trn = 10**7\n",
    "N_tst = 10**5"
   ]
  },
  {
   "cell_type": "code",
   "execution_count": null,
   "id": "e21fd864-c7b2-42b9-aa06-c981891c0c45",
   "metadata": {},
   "outputs": [],
   "source": [
    "os.environ[\"CUDA_VISIBLE_DEVICES\"] = \"2\" # pick a number < 4 on ML4HEP; < 3 on Voltan \n",
    "physical_devices = tf.config.list_physical_devices('GPU') \n",
    "tf.config.experimental.set_memory_growth(physical_devices[0], True)"
   ]
  },
  {
   "cell_type": "code",
   "execution_count": null,
   "id": "94bee46f-cafe-46f0-8a03-35c8d239a6d7",
   "metadata": {},
   "outputs": [],
   "source": [
    "dat_target = make_target(8)\n",
    "sim_target = make_target(8)\n",
    "\n",
    "dat_ckpt = tf.train.Checkpoint(dat_target)\n",
    "sim_ckpt = tf.train.Checkpoint(sim_target)\n",
    "\n",
    "dat_ckpt.restore('flows/zenodo/dat8/ckpt-157')\n",
    "sim_ckpt.restore('flows/zenodo/sim8/ckpt-157')"
   ]
  },
  {
   "cell_type": "code",
   "execution_count": null,
   "id": "01ac9141-bca0-4709-abcd-910df80046c7",
   "metadata": {},
   "outputs": [],
   "source": [
    "y_trn = stats.bernoulli.rvs(0.5, size = N_trn)\n",
    "\n",
    "X_bkgd = np.vstack([sim_target.sample(N_trn / 10) for i in range(10)])\n",
    "X_sgnl = np.vstack([dat_target.sample(N_trn / 10) for i in range(10)])\n",
    "\n",
    "X_trn = np.zeros_like(X_bkgd)\n",
    "X_trn[y_trn == 0] = X_bkgd[y_trn == 0]\n",
    "X_trn[y_trn == 1] = X_sgnl[y_trn == 1]\n",
    "\n",
    "y_tst = stats.bernoulli.rvs(0.5, size = N_tst)\n",
    "\n",
    "X_bkgd = sim_target.sample(N_tst).numpy()\n",
    "X_sgnl = dat_target.sample(N_tst).numpy()\n",
    "\n",
    "X_tst = np.zeros_like(X_bkgd)\n",
    "X_tst[y_tst == 0] = X_bkgd[y_tst == 0]\n",
    "X_tst[y_tst == 1] = X_sgnl[y_tst == 1]\n",
    "\n",
    "np.save('data/zenodo/8/X_trn.npy', X_trn)\n",
    "np.save('data/zenodo/8/y_trn.npy', y_trn)\n",
    "np.save('data/zenodo/8/X_tst.npy', X_tst)\n",
    "np.save('data/zenodo/8/y_tst.npy', y_tst)"
   ]
  },
  {
   "cell_type": "markdown",
   "id": "23e9c025-000d-4d74-b858-b9bfbdb06b7f",
   "metadata": {
    "jp-MarkdownHeadingCollapsed": true,
    "tags": []
   },
   "source": [
    "## $d = 11$"
   ]
  },
  {
   "cell_type": "code",
   "execution_count": null,
   "id": "2a50c5da-6c65-4102-9bab-26db457df828",
   "metadata": {},
   "outputs": [],
   "source": [
    "np.random.seed(666)\n",
    "N_trn = 10**7\n",
    "N_tst = 10**5"
   ]
  },
  {
   "cell_type": "code",
   "execution_count": null,
   "id": "2f2d4db3-0033-45d2-a200-692d6163e0c4",
   "metadata": {},
   "outputs": [],
   "source": [
    "os.environ[\"CUDA_VISIBLE_DEVICES\"] = \"3\" # pick a number < 4 on ML4HEP; < 3 on Voltan \n",
    "physical_devices = tf.config.list_physical_devices('GPU') \n",
    "tf.config.experimental.set_memory_growth(physical_devices[0], True)"
   ]
  },
  {
   "cell_type": "code",
   "execution_count": null,
   "id": "b4ea6453-98ec-4714-94cb-b314f6884241",
   "metadata": {},
   "outputs": [],
   "source": [
    "dat_target = make_target(11)\n",
    "sim_target = make_target(11)\n",
    "\n",
    "dat_ckpt = tf.train.Checkpoint(dat_target)\n",
    "sim_ckpt = tf.train.Checkpoint(sim_target)\n",
    "\n",
    "dat_ckpt.restore('flows/zenodo/dat11/ckpt-157')\n",
    "sim_ckpt.restore('flows/zenodo/sim11/ckpt-157')"
   ]
  },
  {
   "cell_type": "code",
   "execution_count": null,
   "id": "d4a12b9b-1cc3-4f4a-94f8-dab307569082",
   "metadata": {},
   "outputs": [],
   "source": [
    "y_trn = stats.bernoulli.rvs(0.5, size = N_trn)\n",
    "\n",
    "X_bkgd = np.vstack([sim_target.sample(N_trn / 10) for i in range(10)])\n",
    "X_sgnl = np.vstack([dat_target.sample(N_trn / 10) for i in range(10)])\n",
    "\n",
    "X_trn = np.zeros_like(X_bkgd)\n",
    "X_trn[y_trn == 0] = X_bkgd[y_trn == 0]\n",
    "X_trn[y_trn == 1] = X_sgnl[y_trn == 1]\n",
    "\n",
    "y_tst = stats.bernoulli.rvs(0.5, size = N_tst)\n",
    "\n",
    "X_bkgd = sim_target.sample(N_tst).numpy()\n",
    "X_sgnl = dat_target.sample(N_tst).numpy()\n",
    "\n",
    "X_tst = np.zeros_like(X_bkgd)\n",
    "X_tst[y_tst == 0] = X_bkgd[y_tst == 0]\n",
    "X_tst[y_tst == 1] = X_sgnl[y_tst == 1]\n",
    "\n",
    "np.save('data/zenodo/11/X_trn.npy', X_trn)\n",
    "np.save('data/zenodo/11/y_trn.npy', y_trn)\n",
    "np.save('data/zenodo/11/X_tst.npy', X_tst)\n",
    "np.save('data/zenodo/11/y_tst.npy', y_tst)"
   ]
  },
  {
   "cell_type": "markdown",
   "id": "8b2cc551-e6c0-496c-be25-3ed8cae48bad",
   "metadata": {
    "jp-MarkdownHeadingCollapsed": true,
    "tags": []
   },
   "source": [
    "# Trees"
   ]
  },
  {
   "cell_type": "code",
   "execution_count": null,
   "id": "85fc9a54-8764-4883-b0d1-b5541f628b35",
   "metadata": {},
   "outputs": [],
   "source": [
    "if not os.path.isdir('data/trees/'):\n",
    "    os.mkdir('data/trees/')"
   ]
  },
  {
   "cell_type": "markdown",
   "id": "33634b57-fc42-4067-9368-62813abdf00c",
   "metadata": {},
   "source": [
    "## $d = 1$"
   ]
  },
  {
   "cell_type": "code",
   "execution_count": null,
   "id": "786cb2dc-aadd-4997-9d5e-fc00d1b1013a",
   "metadata": {},
   "outputs": [],
   "source": [
    "if not os.path.isdir('data/trees/1'):\n",
    "    os.mkdir('data/trees/1')\n",
    "\n",
    "np.random.seed(666)\n",
    "    \n",
    "bkgd = stats.norm(-0.1, 1)\n",
    "sgnl = stats.norm(+0.1, 1)\n",
    "\n",
    "X_trn, X_tst, y_trn, y_tst = make_data(bkgd, sgnl)\n",
    "\n",
    "np.save('data/trees/1/X_trn.npy', X_trn)\n",
    "np.save('data/trees/1/y_trn.npy', y_trn)\n",
    "np.save('data/trees/1/X_tst.npy', X_tst)\n",
    "np.save('data/trees/1/y_tst.npy', y_tst)"
   ]
  },
  {
   "cell_type": "markdown",
   "id": "7cdd25c8-d1b7-47e1-ae46-7fd692276d5a",
   "metadata": {},
   "source": [
    "## $d = 2$"
   ]
  },
  {
   "cell_type": "code",
   "execution_count": null,
   "id": "ebbe24b8-ce67-4154-ab3b-bed2d70ec3e7",
   "metadata": {},
   "outputs": [],
   "source": [
    "if not os.path.isdir('data/trees/2'):\n",
    "    os.mkdir('data/trees/2')\n",
    "\n",
    "np.random.seed(666)\n",
    "    \n",
    "mu_bkgd = np.array([-0.1, 0])\n",
    "mu_sgnl = np.array([+0.1, 0])\n",
    "sg_bkgd = np.eye(2)\n",
    "sg_sgnl = np.eye(2)\n",
    "\n",
    "bkgd = stats.multivariate_normal(mu_bkgd, sg_bkgd)\n",
    "sgnl = stats.multivariate_normal(mu_sgnl, sg_sgnl)\n",
    "\n",
    "X_trn, X_tst, y_trn, y_tst = make_data(bkgd, sgnl)\n",
    "\n",
    "np.save('data/trees/2/X_trn.npy', X_trn)\n",
    "np.save('data/trees/2/y_trn.npy', y_trn)\n",
    "np.save('data/trees/2/X_tst.npy', X_tst)\n",
    "np.save('data/trees/2/y_tst.npy', y_tst)"
   ]
  },
  {
   "cell_type": "markdown",
   "id": "ad23ffe2-1978-45d4-a6fd-c45b40ca7481",
   "metadata": {},
   "source": [
    "## $d = 4$"
   ]
  },
  {
   "cell_type": "code",
   "execution_count": null,
   "id": "d491e48d-74a0-44ce-ab7b-e3cb71af2add",
   "metadata": {},
   "outputs": [],
   "source": [
    "np.random.seed(666)\n",
    "\n",
    "if not os.path.isdir('data/trees/4'):\n",
    "    os.mkdir('data/trees/4')\n",
    "    \n",
    "mu_bkgd = np.array([-0.1, 0, 0, 0])\n",
    "mu_sgnl = np.array([+0.1, 0, 0, 0])\n",
    "sg_bkgd = np.eye(4)\n",
    "sg_sgnl = np.eye(4)\n",
    "\n",
    "bkgd = stats.multivariate_normal(mu_bkgd, sg_bkgd)\n",
    "sgnl = stats.multivariate_normal(mu_sgnl, sg_sgnl)\n",
    "\n",
    "X_trn, X_tst, y_trn, y_tst = make_data(bkgd, sgnl)\n",
    "\n",
    "np.save('data/trees/4/X_trn.npy', X_trn)\n",
    "np.save('data/trees/4/y_trn.npy', y_trn)\n",
    "np.save('data/trees/4/X_tst.npy', X_tst)\n",
    "np.save('data/trees/4/y_tst.npy', y_tst)"
   ]
  },
  {
   "cell_type": "markdown",
   "id": "89eb9ee7-e8e5-4290-8c54-30194bf9c153",
   "metadata": {},
   "source": [
    "## $d = 8$"
   ]
  },
  {
   "cell_type": "code",
   "execution_count": null,
   "id": "12018bff-c165-49f3-bd5e-b68d65b8b3da",
   "metadata": {},
   "outputs": [],
   "source": [
    "np.random.seed(666)\n",
    "\n",
    "if not os.path.isdir('data/trees/8'):\n",
    "    os.mkdir('data/trees/8')\n",
    "    \n",
    "mu_bkgd = np.array([-0.1, 0, 0, 0, 0, 0, 0, 0])\n",
    "mu_sgnl = np.array([+0.1, 0, 0, 0, 0, 0, 0, 0])\n",
    "sg_bkgd = np.eye(8)\n",
    "sg_sgnl = np.eye(8)\n",
    "\n",
    "bkgd = stats.multivariate_normal(mu_bkgd, sg_bkgd)\n",
    "sgnl = stats.multivariate_normal(mu_sgnl, sg_sgnl)\n",
    "\n",
    "X_trn, X_tst, y_trn, y_tst = make_data(bkgd, sgnl)\n",
    "\n",
    "np.save('data/trees/8/X_trn.npy', X_trn)\n",
    "np.save('data/trees/8/y_trn.npy', y_trn)\n",
    "np.save('data/trees/8/X_tst.npy', X_tst)\n",
    "np.save('data/trees/8/y_tst.npy', y_tst)"
   ]
  },
  {
   "cell_type": "markdown",
   "id": "bd95b839-2f77-42d7-82bb-54be9d4101da",
   "metadata": {},
   "source": [
    "## $d = 16$"
   ]
  },
  {
   "cell_type": "code",
   "execution_count": null,
   "id": "c722e2a5-8cd4-4df0-9432-3411bc034ffb",
   "metadata": {},
   "outputs": [],
   "source": [
    "np.random.seed(666)\n",
    "\n",
    "if not os.path.isdir('data/trees/16'):\n",
    "    os.mkdir('data/trees/16')\n",
    "    \n",
    "mu_bkgd = np.array([-0.1, 0, 0, 0, 0, 0, 0, 0, 0, 0, 0, 0, 0, 0, 0, 0])\n",
    "mu_sgnl = np.array([+0.1, 0, 0, 0, 0, 0, 0, 0, 0, 0, 0, 0, 0, 0, 0, 0])\n",
    "sg_bkgd = np.eye(16)\n",
    "sg_sgnl = np.eye(16)\n",
    "\n",
    "bkgd = stats.multivariate_normal(mu_bkgd, sg_bkgd)\n",
    "sgnl = stats.multivariate_normal(mu_sgnl, sg_sgnl)\n",
    "\n",
    "X_trn, X_tst, y_trn, y_tst = make_data(bkgd, sgnl)\n",
    "\n",
    "np.save('data/trees/16/X_trn.npy', X_trn)\n",
    "np.save('data/trees/16/y_trn.npy', y_trn)\n",
    "np.save('data/trees/16/X_tst.npy', X_tst)\n",
    "np.save('data/trees/16/y_tst.npy', y_tst)"
   ]
  },
  {
   "cell_type": "markdown",
   "id": "7ec2f53b-728f-4e90-a253-5cba1ce71606",
   "metadata": {},
   "source": [
    "## $d=32$"
   ]
  },
  {
   "cell_type": "code",
   "execution_count": null,
   "id": "c1960563-b54f-4422-b6ec-de18b903150f",
   "metadata": {},
   "outputs": [],
   "source": [
    "np.random.seed(666)\n",
    "\n",
    "if not os.path.isdir('data/trees/32'):\n",
    "    os.mkdir('data/trees/32')\n",
    "    \n",
    "#[-0.1] [0.1] in each coordinate, normalized to be at a distance of 0.2\n",
    "mu_bkgd = np.array([-0.1] + [0]*31)\n",
    "mu_sgnl = np.array([+0.1] + [0]*31)\n",
    "sg_bkgd = np.eye(32)\n",
    "sg_sgnl = np.eye(32)\n",
    "\n",
    "bkgd = stats.multivariate_normal(mu_bkgd, sg_bkgd)\n",
    "sgnl = stats.multivariate_normal(mu_sgnl, sg_sgnl)\n",
    "\n",
    "X_trn, X_tst, y_trn, y_tst = make_data(bkgd, sgnl)\n",
    "\n",
    "np.save('data/trees/32/X_trn.npy', X_trn)\n",
    "np.save('data/trees/32/y_trn.npy', y_trn)\n",
    "np.save('data/trees/32/X_tst.npy', X_tst)\n",
    "np.save('data/trees/32/y_tst.npy', y_tst)"
   ]
  },
  {
   "cell_type": "markdown",
   "id": "d37858dc-8a79-47df-a02f-98aa59e22f50",
   "metadata": {
    "jp-MarkdownHeadingCollapsed": true,
    "tags": []
   },
   "source": [
    "# BDTs"
   ]
  },
  {
   "cell_type": "code",
   "execution_count": null,
   "id": "e748701c-ef22-4c51-851b-1c51e493c6a1",
   "metadata": {},
   "outputs": [],
   "source": [
    "if not os.path.isdir('data/bdts/1'):\n",
    "    os.mkdir('data/bdts/1')\n",
    "\n",
    "np.random.seed(666)\n",
    "    \n",
    "bkgd = stats.norm(-0.1, 1)\n",
    "sgnl = stats.norm(+0.1, 1)\n",
    "\n",
    "X_trn, X_tst, y_trn, y_tst = make_data(bkgd, sgnl)\n",
    "\n",
    "np.save('data/bdts/1/X_trn.npy', X_trn)\n",
    "np.save('data/bdts/1/y_trn.npy', y_trn)\n",
    "np.save('data/bdts/1/X_tst.npy', X_tst)\n",
    "np.save('data/bdts/1/y_tst.npy', y_tst)"
   ]
  },
  {
   "cell_type": "code",
   "execution_count": null,
   "id": "a2c14cdf-2795-4f50-a95e-913c391e3f2e",
   "metadata": {},
   "outputs": [],
   "source": [
    "if not os.path.isdir('data/bdts/2'):\n",
    "    os.mkdir('data/bdts/2')\n",
    "\n",
    "np.random.seed(666)\n",
    "\n",
    "d = 2\n",
    "b = 0.1 / (d ** (0.5))\n",
    "mu_bkgd = np.array([-b] * d)\n",
    "mu_sgnl = np.array([+b] * d)\n",
    "sg_bkgd = np.eye(d)\n",
    "sg_sgnl = np.eye(d)\n",
    "\n",
    "bkgd = stats.multivariate_normal(mu_bkgd, sg_bkgd)\n",
    "sgnl = stats.multivariate_normal(mu_sgnl, sg_sgnl)\n",
    "\n",
    "X_trn, X_tst, y_trn, y_tst = make_data(bkgd, sgnl)\n",
    "\n",
    "np.save('data/bdts/2/X_trn.npy', X_trn)\n",
    "np.save('data/bdts/2/y_trn.npy', y_trn)\n",
    "np.save('data/bdts/2/X_tst.npy', X_tst)\n",
    "np.save('data/bdts/2/y_tst.npy', y_tst)"
   ]
  },
  {
   "cell_type": "code",
   "execution_count": null,
   "id": "b8c6069f-22a0-4a35-895b-f220fcaccf00",
   "metadata": {},
   "outputs": [],
   "source": [
    "np.random.seed(666)\n",
    "\n",
    "if not os.path.isdir('data/bdts/4'):\n",
    "    os.mkdir('data/bdts/4')\n",
    "    \n",
    "d = 4\n",
    "b = 0.1 / (d ** (0.5))\n",
    "mu_bkgd = np.array([-b] * d)\n",
    "mu_sgnl = np.array([+b] * d)\n",
    "sg_bkgd = np.eye(d)\n",
    "sg_sgnl = np.eye(d)\n",
    "\n",
    "bkgd = stats.multivariate_normal(mu_bkgd, sg_bkgd)\n",
    "sgnl = stats.multivariate_normal(mu_sgnl, sg_sgnl)\n",
    "\n",
    "X_trn, X_tst, y_trn, y_tst = make_data(bkgd, sgnl)\n",
    "\n",
    "np.save('data/bdts/4/X_trn.npy', X_trn)\n",
    "np.save('data/bdts/4/y_trn.npy', y_trn)\n",
    "np.save('data/bdts/4/X_tst.npy', X_tst)\n",
    "np.save('data/bdts/4/y_tst.npy', y_tst)"
   ]
  },
  {
   "cell_type": "code",
   "execution_count": null,
   "id": "bcaa79a8-080a-4004-bb64-71a66b75c3cb",
   "metadata": {},
   "outputs": [],
   "source": [
    "np.random.seed(666)\n",
    "\n",
    "if not os.path.isdir('data/bdts/8'):\n",
    "    os.mkdir('data/bdts/8')\n",
    "    \n",
    "d = 8\n",
    "b = 0.1 / (d ** (0.5))\n",
    "mu_bkgd = np.array([-b] * d)\n",
    "mu_sgnl = np.array([+b] * d)\n",
    "sg_bkgd = np.eye(d)\n",
    "sg_sgnl = np.eye(d)\n",
    "\n",
    "bkgd = stats.multivariate_normal(mu_bkgd, sg_bkgd)\n",
    "sgnl = stats.multivariate_normal(mu_sgnl, sg_sgnl)\n",
    "\n",
    "X_trn, X_tst, y_trn, y_tst = make_data(bkgd, sgnl)\n",
    "\n",
    "np.save('data/bdts/8/X_trn.npy', X_trn)\n",
    "np.save('data/bdts/8/y_trn.npy', y_trn)\n",
    "np.save('data/bdts/8/X_tst.npy', X_tst)\n",
    "np.save('data/bdts/8/y_tst.npy', y_tst)"
   ]
  },
  {
   "cell_type": "code",
   "execution_count": null,
   "id": "728b832a-7b6d-498d-a9cd-116a5b51c0a5",
   "metadata": {},
   "outputs": [],
   "source": [
    "np.random.seed(666)\n",
    "\n",
    "if not os.path.isdir('data/bdts/16'):\n",
    "    os.mkdir('data/bdts/16')\n",
    "    \n",
    "d = 16\n",
    "b = 0.1 / (d ** (0.5))\n",
    "mu_bkgd = np.array([-b] * d)\n",
    "mu_sgnl = np.array([+b] * d)\n",
    "sg_bkgd = np.eye(d)\n",
    "sg_sgnl = np.eye(d)\n",
    "\n",
    "bkgd = stats.multivariate_normal(mu_bkgd, sg_bkgd)\n",
    "sgnl = stats.multivariate_normal(mu_sgnl, sg_sgnl)\n",
    "\n",
    "X_trn, X_tst, y_trn, y_tst = make_data(bkgd, sgnl)\n",
    "\n",
    "np.save('data/bdts/16/X_trn.npy', X_trn)\n",
    "np.save('data/bdts/16/y_trn.npy', y_trn)\n",
    "np.save('data/bdts/16/X_tst.npy', X_tst)\n",
    "np.save('data/bdts/16/y_tst.npy', y_tst)"
   ]
  },
  {
   "cell_type": "code",
   "execution_count": null,
   "id": "ebdae599-c9d4-44ec-87f4-12abe1d521d7",
   "metadata": {},
   "outputs": [],
   "source": [
    "np.random.seed(666)\n",
    "\n",
    "if not os.path.isdir('data/bdts/32'):\n",
    "    os.mkdir('data/bdts/32')\n",
    "    \n",
    "d = 32\n",
    "b = 0.1 / (d ** (0.5))\n",
    "mu_bkgd = np.array([-b] * d)\n",
    "mu_sgnl = np.array([+b] * d)\n",
    "sg_bkgd = np.eye(d)\n",
    "sg_sgnl = np.eye(d)\n",
    "\n",
    "bkgd = stats.multivariate_normal(mu_bkgd, sg_bkgd)\n",
    "sgnl = stats.multivariate_normal(mu_sgnl, sg_sgnl)\n",
    "\n",
    "X_trn, X_tst, y_trn, y_tst = make_data(bkgd, sgnl)\n",
    "\n",
    "np.save('data/bdts/32/X_trn.npy', X_trn)\n",
    "np.save('data/bdts/32/y_trn.npy', y_trn)\n",
    "np.save('data/bdts/32/X_tst.npy', X_tst)\n",
    "np.save('data/bdts/32/y_tst.npy', y_tst)"
   ]
  }
 ],
 "metadata": {
  "kernelspec": {
   "display_name": "nflows",
   "language": "python",
   "name": "nflows"
  },
  "language_info": {
   "codemirror_mode": {
    "name": "ipython",
    "version": 3
   },
   "file_extension": ".py",
   "mimetype": "text/x-python",
   "name": "python",
   "nbconvert_exporter": "python",
   "pygments_lexer": "ipython3",
   "version": "3.10.13"
  }
 },
 "nbformat": 4,
 "nbformat_minor": 5
}
