{
 "cells": [
  {
   "cell_type": "code",
   "execution_count": 1,
   "id": "aeaeb5d5-5cee-466c-8977-4817cfc273e8",
   "metadata": {},
   "outputs": [],
   "source": [
    "from scipy import stats\n",
    "import numpy as np\n",
    "import os\n",
    "\n",
    "from utils.training import make_data\n",
    "from flows.flows import *"
   ]
  },
  {
   "cell_type": "markdown",
   "id": "c5e23439-a7bf-48fe-a6d7-a07ba366d5cb",
   "metadata": {
    "jp-MarkdownHeadingCollapsed": true,
    "tags": []
   },
   "source": [
    "# Normal"
   ]
  },
  {
   "cell_type": "code",
   "execution_count": null,
   "id": "908fefa4-a947-4ad3-a0d0-54f61a2bff82",
   "metadata": {},
   "outputs": [],
   "source": [
    "if not os.path.isdir('data/normal/'):\n",
    "    os.mkdir('data/normal/')"
   ]
  },
  {
   "cell_type": "markdown",
   "id": "49d03f29-2418-4fe4-abc1-0cd1ae69aa14",
   "metadata": {
    "tags": []
   },
   "source": [
    "### $\\varepsilon = 0.1$"
   ]
  },
  {
   "cell_type": "code",
   "execution_count": null,
   "id": "82c9dac8-ebe9-48cf-8d44-773e066824a4",
   "metadata": {
    "scrolled": true,
    "tags": []
   },
   "outputs": [],
   "source": [
    "if not os.path.isdir('data/normal/0.1'):\n",
    "    os.mkdir('data/normal/0.1')\n",
    "\n",
    "np.random.seed(666)\n",
    "    \n",
    "bkgd = stats.norm(-0.1, 1)\n",
    "sgnl = stats.norm(+0.1, 1)\n",
    "\n",
    "X_trn, X_tst, y_trn, y_tst = make_data(bkgd, sgnl)\n",
    "\n",
    "np.save('data/normal/0.1/X_trn.npy', X_trn)\n",
    "np.save('data/normal/0.1/y_trn.npy', y_trn)\n",
    "np.save('data/normal/0.1/X_tst.npy', X_tst)\n",
    "np.save('data/normal/0.1/y_tst.npy', y_tst)"
   ]
  },
  {
   "cell_type": "markdown",
   "id": "00470756-73bb-4c80-a573-54586f2e188b",
   "metadata": {},
   "source": [
    "### $\\varepsilon = 0.2$"
   ]
  },
  {
   "cell_type": "code",
   "execution_count": null,
   "id": "12f90a1c-2a69-49ad-a502-6ff91b459015",
   "metadata": {},
   "outputs": [],
   "source": [
    "np.random.seed(666)\n",
    "\n",
    "if not os.path.isdir('data/normal/0.2'):\n",
    "    os.mkdir('data/normal/0.2')\n",
    "    \n",
    "bkgd = stats.norm(-0.2, 1)\n",
    "sgnl = stats.norm(+0.2, 1)\n",
    "\n",
    "X_trn, X_tst, y_trn, y_tst = make_data(bkgd, sgnl)\n",
    "\n",
    "np.save('data/normal/0.2/X_trn.npy', X_trn)\n",
    "np.save('data/normal/0.2/y_trn.npy', y_trn)\n",
    "np.save('data/normal/0.2/X_tst.npy', X_tst)\n",
    "np.save('data/normal/0.2/y_tst.npy', y_tst)"
   ]
  },
  {
   "cell_type": "markdown",
   "id": "17f6f94b-0608-4f5b-920c-7877d8ca9996",
   "metadata": {},
   "source": [
    "### $\\varepsilon = 0.3$"
   ]
  },
  {
   "cell_type": "code",
   "execution_count": null,
   "id": "e7680f58-631c-41e8-8270-33df53f1fb3e",
   "metadata": {},
   "outputs": [],
   "source": [
    "np.random.seed(666)\n",
    "\n",
    "if not os.path.isdir('data/normal/0.3/'):\n",
    "    os.mkdir('data/normal/0.3/')\n",
    "    \n",
    "bkgd = stats.norm(-0.3, 1)\n",
    "sgnl = stats.norm(+0.3, 1)\n",
    "\n",
    "X_trn, X_tst, y_trn, y_tst = make_data(bkgd, sgnl)\n",
    "\n",
    "np.save('data/normal/0.3/X_trn.npy', X_trn)\n",
    "np.save('data/normal/0.3/y_trn.npy', y_trn)\n",
    "np.save('data/normal/0.3/X_tst.npy', X_tst)\n",
    "np.save('data/normal/0.3/y_tst.npy', y_tst)"
   ]
  },
  {
   "cell_type": "markdown",
   "id": "71f7afa2-e56e-47d2-a25a-5ef9f09bf15c",
   "metadata": {},
   "source": [
    "### $\\varepsilon = 0.4$"
   ]
  },
  {
   "cell_type": "code",
   "execution_count": null,
   "id": "9d5a9983-a783-4104-8454-cc4d0fec0f16",
   "metadata": {},
   "outputs": [],
   "source": [
    "np.random.seed(666)\n",
    "\n",
    "if not os.path.isdir('data/normal/0.4/'):\n",
    "    os.mkdir('data/normal/0.4/')\n",
    "    \n",
    "bkgd = stats.norm(-0.4, 1)\n",
    "sgnl = stats.norm(+0.4, 1)\n",
    "\n",
    "X_trn, X_tst, y_trn, y_tst = make_data(bkgd, sgnl)\n",
    "\n",
    "np.save('data/normal/0.4/X_trn.npy', X_trn)\n",
    "np.save('data/normal/0.4/y_trn.npy', y_trn)\n",
    "np.save('data/normal/0.4/X_tst.npy', X_tst)\n",
    "np.save('data/normal/0.4/y_tst.npy', y_tst)"
   ]
  },
  {
   "cell_type": "markdown",
   "id": "e65c0a45-a6ea-4985-98ec-6f00e9de7d41",
   "metadata": {},
   "source": [
    "### $\\varepsilon = 0.5$"
   ]
  },
  {
   "cell_type": "code",
   "execution_count": null,
   "id": "5bb053e8-4173-4d21-92e8-edef0b4b4743",
   "metadata": {},
   "outputs": [],
   "source": [
    "np.random.seed(666)\n",
    "\n",
    "if not os.path.isdir('data/normal/0.5/'):\n",
    "    os.mkdir('data/normal/0.5/')\n",
    "    \n",
    "bkgd = stats.norm(-0.5, 1)\n",
    "sgnl = stats.norm(+0.5, 1)\n",
    "\n",
    "X_trn, X_tst, y_trn, y_tst = make_data(bkgd, sgnl)\n",
    "\n",
    "np.save('data/normal/0.5/X_trn.npy', X_trn)\n",
    "np.save('data/normal/0.5/y_trn.npy', y_trn)\n",
    "np.save('data/normal/0.5/X_tst.npy', X_tst)\n",
    "np.save('data/normal/0.5/y_tst.npy', y_tst)"
   ]
  },
  {
   "cell_type": "markdown",
   "id": "a66beaed-4504-451e-8e1b-9334ced49f34",
   "metadata": {
    "jp-MarkdownHeadingCollapsed": true,
    "tags": []
   },
   "source": [
    "# Centered at $10$"
   ]
  },
  {
   "cell_type": "code",
   "execution_count": null,
   "id": "156bf1ee-b0bc-4911-ad25-ff23b2ca016d",
   "metadata": {},
   "outputs": [],
   "source": [
    "np.random.seed(666)\n",
    "\n",
    "if not os.path.isdir('data/normal/10/'):\n",
    "    os.mkdir('data/normal/10/')\n",
    "    \n",
    "bkgd = stats.norm(10 - 0.1, 1)\n",
    "sgnl = stats.norm(10 + 0.1, 1)\n",
    "\n",
    "X_trn, X_tst, y_trn, y_tst = make_data(bkgd, sgnl)\n",
    "\n",
    "np.save('data/normal/10/X_trn.npy', X_trn)\n",
    "np.save('data/normal/10/y_trn.npy', y_trn)\n",
    "np.save('data/normal/10/X_tst.npy', X_tst)\n",
    "np.save('data/normal/10/y_tst.npy', y_tst)"
   ]
  },
  {
   "cell_type": "markdown",
   "id": "41d07de5-6523-4a84-9cbd-6f7c3e52decc",
   "metadata": {
    "jp-MarkdownHeadingCollapsed": true,
    "tags": []
   },
   "source": [
    "# Gamma"
   ]
  },
  {
   "cell_type": "code",
   "execution_count": null,
   "id": "59b125a2-3a92-4435-b0f3-812ab6413003",
   "metadata": {},
   "outputs": [],
   "source": [
    "np.random.seed(666)\n",
    "\n",
    "if not os.path.isdir('data/gamma/'):\n",
    "    os.mkdir('data/gamma/')\n",
    "    \n",
    "bkgd = stats.gamma(5, 1)\n",
    "sgnl = stats.gamma(6, 1)\n",
    "\n",
    "X_trn, X_tst, y_trn, y_tst = make_data(bkgd, sgnl)\n",
    "\n",
    "np.save('data/gamma/X_trn.npy', X_trn)\n",
    "np.save('data/gamma/y_trn.npy', y_trn)\n",
    "np.save('data/gamma/X_tst.npy', X_tst)\n",
    "np.save('data/gamma/y_tst.npy', y_tst)"
   ]
  },
  {
   "cell_type": "markdown",
   "id": "21aa3f98-efcf-4f56-ada1-761dd2cc7ad2",
   "metadata": {
    "jp-MarkdownHeadingCollapsed": true,
    "tags": []
   },
   "source": [
    "# Beta"
   ]
  },
  {
   "cell_type": "code",
   "execution_count": null,
   "id": "87a16660-cef8-4893-8f2b-1b5ea01d8674",
   "metadata": {},
   "outputs": [],
   "source": [
    "np.random.seed(666)\n",
    "\n",
    "if not os.path.isdir('data/beta/'):\n",
    "    os.mkdir('data/beta/')\n",
    "    \n",
    "bkgd = stats.beta(2, 3)\n",
    "sgnl = stats.beta(3, 2)\n",
    "\n",
    "X_trn, X_tst, y_trn, y_tst = make_data(bkgd, sgnl)\n",
    "\n",
    "np.save('data/beta/X_trn.npy', X_trn)\n",
    "np.save('data/beta/y_trn.npy', y_trn)\n",
    "np.save('data/beta/X_tst.npy', X_tst)\n",
    "np.save('data/beta/y_tst.npy', y_tst)"
   ]
  },
  {
   "cell_type": "markdown",
   "id": "0aa529b1-6785-4de5-a45a-387cbebb83c8",
   "metadata": {
    "jp-MarkdownHeadingCollapsed": true,
    "tags": []
   },
   "source": [
    "# Multivariate Normal"
   ]
  },
  {
   "cell_type": "code",
   "execution_count": null,
   "id": "bb15ac6c-9cf3-47f7-87b4-7010117b3d46",
   "metadata": {},
   "outputs": [],
   "source": [
    "if not os.path.isdir('data/mvn/'):\n",
    "    os.mkdir('data/mvn/')"
   ]
  },
  {
   "cell_type": "markdown",
   "id": "7b3391fd-430f-473c-b7df-b1999b68c632",
   "metadata": {
    "jp-MarkdownHeadingCollapsed": true,
    "tags": []
   },
   "source": [
    "## Vertical"
   ]
  },
  {
   "cell_type": "code",
   "execution_count": null,
   "id": "66826ba8-b2ab-4724-a424-ed7e086265b2",
   "metadata": {},
   "outputs": [],
   "source": [
    "np.random.seed(666)\n",
    "\n",
    "if not os.path.isdir('data/mvn/vertical/'):\n",
    "    os.mkdir('data/mvn/vertical/')\n",
    "    \n",
    "mu_bkgd = np.array([-0.1, 0])\n",
    "mu_sgnl = np.array([+0.1, 0])\n",
    "sg_bkgd = np.eye(2)\n",
    "sg_sgnl = np.eye(2)\n",
    "\n",
    "bkgd = stats.multivariate_normal(mu_bkgd, sg_bkgd)\n",
    "sgnl = stats.multivariate_normal(mu_sgnl, sg_sgnl)\n",
    "\n",
    "X_trn, X_tst, y_trn, y_tst = make_data(bkgd, sgnl)\n",
    "\n",
    "np.save('data/mvn/vertical/X_trn.npy', X_trn)\n",
    "np.save('data/mvn/vertical/y_trn.npy', y_trn)\n",
    "np.save('data/mvn/vertical/X_tst.npy', X_tst)\n",
    "np.save('data/mvn/vertical/y_tst.npy', y_tst)"
   ]
  },
  {
   "cell_type": "code",
   "execution_count": null,
   "id": "3b12fc99-e2d8-4ec8-9133-ac4257a82194",
   "metadata": {},
   "outputs": [],
   "source": [
    "X = bkgd.rvs(size = 10)\n",
    "y = stats.bernoulli.rvs(0.5, size = 10)"
   ]
  },
  {
   "cell_type": "markdown",
   "id": "2088edbb-f553-40a4-a687-c73043b9b037",
   "metadata": {
    "jp-MarkdownHeadingCollapsed": true,
    "tags": []
   },
   "source": [
    "## Slant"
   ]
  },
  {
   "cell_type": "code",
   "execution_count": null,
   "id": "b323b9c4-ba4e-472c-b276-74e813de8206",
   "metadata": {},
   "outputs": [],
   "source": [
    "np.random.seed(666)\n",
    "\n",
    "if not os.path.isdir('data/mvn/slant/'):\n",
    "    os.mkdir('data/mvn/slant/')\n",
    "    \n",
    "b = 0.1 / (2 ** (0.5))\n",
    "mu_bkgd = np.array([-b, +b])\n",
    "mu_sgnl = np.array([+b, -b])\n",
    "sg_bkgd = np.eye(2)\n",
    "sg_sgnl = np.eye(2)\n",
    "\n",
    "bkgd = stats.multivariate_normal(mu_bkgd, sg_bkgd)\n",
    "sgnl = stats.multivariate_normal(mu_sgnl, sg_sgnl)\n",
    "\n",
    "X_trn, X_tst, y_trn, y_tst = make_data(bkgd, sgnl)\n",
    "\n",
    "np.save('data/mvn/slant/X_trn.npy', X_trn)\n",
    "np.save('data/mvn/slant/y_trn.npy', y_trn)\n",
    "np.save('data/mvn/slant/X_tst.npy', X_tst)\n",
    "np.save('data/mvn/slant/y_tst.npy', y_tst)"
   ]
  },
  {
   "cell_type": "markdown",
   "id": "0c473c5c-0089-4f81-b1cf-829a39dc1faf",
   "metadata": {
    "jp-MarkdownHeadingCollapsed": true,
    "tags": []
   },
   "source": [
    "## Circle"
   ]
  },
  {
   "cell_type": "code",
   "execution_count": null,
   "id": "78567724-2582-47a5-9d5e-fec48ba13290",
   "metadata": {},
   "outputs": [],
   "source": [
    "np.random.seed(666)\n",
    "\n",
    "if not os.path.isdir('data/mvn/circle/'):\n",
    "    os.mkdir('data/mvn/circle/')\n",
    "    \n",
    "mu_bkgd = np.array([-0.1, 0])\n",
    "mu_sgnl = np.array([+0.1, 0])\n",
    "sg_bkgd = 2*np.eye(2)\n",
    "sg_sgnl = np.eye(2)\n",
    "\n",
    "bkgd = stats.multivariate_normal(mu_bkgd, sg_bkgd)\n",
    "sgnl = stats.multivariate_normal(mu_sgnl, sg_sgnl)\n",
    "\n",
    "X_trn, X_tst, y_trn, y_tst = make_data(bkgd, sgnl)\n",
    "\n",
    "np.save('data/mvn/circle/X_trn.npy', X_trn)\n",
    "np.save('data/mvn/circle/y_trn.npy', y_trn)\n",
    "np.save('data/mvn/circle/X_tst.npy', X_tst)\n",
    "np.save('data/mvn/circle/y_tst.npy', y_tst)"
   ]
  },
  {
   "cell_type": "markdown",
   "id": "1984ca1b-97ab-42c0-92f6-71cd0279db65",
   "metadata": {
    "jp-MarkdownHeadingCollapsed": true,
    "tags": []
   },
   "source": [
    "## Hyperbola\n"
   ]
  },
  {
   "cell_type": "code",
   "execution_count": null,
   "id": "85fd4b71-bde9-4dd9-9dd5-2a5ab0e58534",
   "metadata": {},
   "outputs": [],
   "source": [
    "np.random.seed(666)\n",
    "\n",
    "if not os.path.isdir('data/mvn/hyperbola/'):\n",
    "    os.mkdir('data/mvn/hyperbola/')\n",
    "    \n",
    "mu_bkgd = np.array([-0.1, 0])\n",
    "mu_sgnl = np.array([+0.1, 0])\n",
    "sg_bkgd = np.array([[2, 0], [0, 1]])\n",
    "sg_sgnl = np.array([[1, 0], [0, 2]])\n",
    "\n",
    "bkgd = stats.multivariate_normal(mu_bkgd, sg_bkgd)\n",
    "sgnl = stats.multivariate_normal(mu_sgnl, sg_sgnl)\n",
    "\n",
    "X_trn, X_tst, y_trn, y_tst = make_data(bkgd, sgnl)\n",
    "\n",
    "np.save('data/mvn/hyperbola/X_trn.npy', X_trn)\n",
    "np.save('data/mvn/hyperbola/y_trn.npy', y_trn)\n",
    "np.save('data/mvn/hyperbola/X_tst.npy', X_tst)\n",
    "np.save('data/mvn/hyperbola/y_tst.npy', y_tst)"
   ]
  },
  {
   "cell_type": "markdown",
   "id": "d82f4144-926e-4416-a7dd-f2da199e458e",
   "metadata": {},
   "source": [
    "## Checker"
   ]
  },
  {
   "cell_type": "code",
   "execution_count": null,
   "id": "56b1b01b-1119-4a4a-b7f0-2d4342b8237b",
   "metadata": {},
   "outputs": [],
   "source": [
    "np.random.seed(666)\n",
    "\n",
    "if not os.path.isdir('data/mvn/checker/'):\n",
    "    os.mkdir('data/mvn/checker/')\n",
    "    \n",
    "mu_bkgd = np.array([-0.1, 0])\n",
    "mu_sgnl = np.array([+0.1, 0])\n",
    "sg_bkgd = np.array([[2, +0.25], [+0.25, 1]])\n",
    "sg_sgnl = np.array([[2, -0.25], [-0.25, 1]])\n",
    "\n",
    "bkgd = stats.multivariate_normal(mu_bkgd, sg_bkgd)\n",
    "sgnl = stats.multivariate_normal(mu_sgnl, sg_sgnl)\n",
    "\n",
    "X_trn, X_tst, y_trn, y_tst = make_data(bkgd, sgnl)\n",
    "\n",
    "np.save('data/mvn/checker/X_trn.npy', X_trn)\n",
    "np.save('data/mvn/checker/y_trn.npy', y_trn)\n",
    "np.save('data/mvn/checker/X_tst.npy', X_tst)\n",
    "np.save('data/mvn/checker/y_tst.npy', y_tst)"
   ]
  },
  {
   "cell_type": "markdown",
   "id": "431f888f-57b5-4d74-a8cc-f2a27cbf23a8",
   "metadata": {
    "tags": []
   },
   "source": [
    "# Zenodo"
   ]
  },
  {
   "cell_type": "markdown",
   "id": "4f728000-3282-454a-a5ac-93ef47eb12bc",
   "metadata": {
    "jp-MarkdownHeadingCollapsed": true,
    "tags": []
   },
   "source": [
    "## Flow Training Data"
   ]
  },
  {
   "cell_type": "code",
   "execution_count": null,
   "id": "2985f96e-2836-4291-8cb9-c37c5628e121",
   "metadata": {},
   "outputs": [],
   "source": [
    "mc = np.load(\"data/zenodo/Pythia21_Zjet_pTZ-200GeV_0.npz\")\n",
    "\n",
    "sim_pt =  mc['sim_jets'][:, 0]\n",
    "sim_eta = mc['sim_jets'][:, 1]\n",
    "sim_phi = mc['sim_jets'][:, 2]\n",
    "sim_m =   mc['sim_jets'][:, 3]\n",
    "\n",
    "sim = np.vstack([sim_pt, sim_eta, sim_phi, sim_m]).T\n",
    "\n",
    "data = np.load(\"data/zenodo/Herwig_Zjet_pTZ-200GeV_0.npz\")\n",
    "\n",
    "dat_pt =  data['sim_jets'][:, 0]\n",
    "dat_eta = data['sim_jets'][:, 1]\n",
    "dat_phi = data['sim_jets'][:, 2]\n",
    "dat_m =   data['sim_jets'][:, 3]\n",
    "\n",
    "dat = np.vstack([dat_pt, dat_eta, dat_phi, dat_m]).T"
   ]
  },
  {
   "cell_type": "code",
   "execution_count": null,
   "id": "06186339-ffd9-4162-80e1-1055926a7baa",
   "metadata": {},
   "outputs": [],
   "source": [
    "# sim is bkgd\n",
    "# dat is sgnl\n",
    "X = np.vstack((sim, dat))\n",
    "y = np.hstack((np.zeros(sim.shape[0]), np.ones(dat.shape[0])))"
   ]
  },
  {
   "cell_type": "code",
   "execution_count": null,
   "id": "55cf801e-bd84-4900-b49f-8ce3618da184",
   "metadata": {},
   "outputs": [],
   "source": [
    "np.save('data/zenodo/X.npy', X)\n",
    "np.save('data/zenodo/y.npy', y)"
   ]
  },
  {
   "cell_type": "markdown",
   "id": "519af07d-c222-4927-9aa6-b7ba85feafac",
   "metadata": {
    "jp-MarkdownHeadingCollapsed": true,
    "tags": []
   },
   "source": [
    "## Fold Training Data"
   ]
  },
  {
   "cell_type": "code",
   "execution_count": null,
   "id": "2d243ead-11ff-43d9-8610-5861598e95e8",
   "metadata": {},
   "outputs": [],
   "source": [
    "np.random.seed(666)\n",
    "N_trn = 10**7\n",
    "N_tst = 10**5"
   ]
  },
  {
   "cell_type": "code",
   "execution_count": null,
   "id": "04965784-7877-4c41-823b-8f871b273a40",
   "metadata": {},
   "outputs": [],
   "source": [
    "os.environ[\"CUDA_VISIBLE_DEVICES\"] = \"2\" # pick a number < 4 on ML4HEP; < 3 on Voltan \n",
    "physical_devices = tf.config.list_physical_devices('GPU') \n",
    "tf.config.experimental.set_memory_growth(physical_devices[0], True)"
   ]
  },
  {
   "cell_type": "code",
   "execution_count": null,
   "id": "38cde1e8-1a9d-4307-bbfa-6c001fc9a324",
   "metadata": {},
   "outputs": [],
   "source": [
    "dat_target = make_target(4)\n",
    "sim_target = make_target(4)\n",
    "\n",
    "dat_ckpt = tf.train.Checkpoint(dat_target)\n",
    "sim_ckpt = tf.train.Checkpoint(sim_target)\n",
    "\n",
    "dat_ckpt.restore('flows/dat6/ckpt-235')\n",
    "sim_ckpt.restore('flows/sim3/ckpt-235')"
   ]
  },
  {
   "cell_type": "code",
   "execution_count": null,
   "id": "bd220dd9-69fb-4f7f-99ef-2cfd87109ac8",
   "metadata": {},
   "outputs": [],
   "source": [
    "y_trn = stats.bernoulli.rvs(0.5, size = N_trn)\n",
    "\n",
    "X_bkgd = sim_target.sample(N_trn).numpy()\n",
    "X_sgnl = dat_target.sample(N_trn).numpy()\n",
    "\n",
    "X_trn = np.zeros_like(X_bkgd)\n",
    "X_trn[y_trn == 0] = X_bkgd[y_trn == 0]\n",
    "X_trn[y_trn == 1] = X_sgnl[y_trn == 1]\n",
    "\n",
    "y_tst = stats.bernoulli.rvs(0.5, size = N_tst)\n",
    "\n",
    "X_bkgd = sim_target.sample(N_tst).numpy()\n",
    "X_sgnl = dat_target.sample(N_tst).numpy()\n",
    "\n",
    "X_tst = np.zeros_like(X_bkgd)\n",
    "X_tst[y_tst == 0] = X_bkgd[y_tst == 0]\n",
    "X_tst[y_tst == 1] = X_sgnl[y_tst == 1]\n",
    "\n",
    "np.save('data/zenodo/fold/X_trn.npy', X_trn)\n",
    "np.save('data/zenodo/fold/y_trn.npy', y_trn)\n",
    "np.save('data/zenodo/fold/X_tst.npy', X_tst)\n",
    "np.save('data/zenodo/fold/y_tst.npy', y_tst)"
   ]
  },
  {
   "cell_type": "markdown",
   "id": "3b94dd4a-efd7-479a-a374-c2c80b50078f",
   "metadata": {
    "jp-MarkdownHeadingCollapsed": true,
    "tags": []
   },
   "source": [
    "## $d = 1$"
   ]
  },
  {
   "cell_type": "raw",
   "id": "ca358248-deca-463d-a850-a403caab4648",
   "metadata": {},
   "source": [
    "np.random.seed(666)\n",
    "N_trn = 10**7\n",
    "N_tst = 10**5"
   ]
  },
  {
   "cell_type": "raw",
   "id": "4020e416-f0f6-4b60-a807-7ae257cdb136",
   "metadata": {},
   "source": [
    "os.environ[\"CUDA_VISIBLE_DEVICES\"] = \"1\" # pick a number < 4 on ML4HEP; < 3 on Voltan \n",
    "physical_devices = tf.config.list_physical_devices('GPU') \n",
    "tf.config.experimental.set_memory_growth(physical_devices[0], True)"
   ]
  },
  {
   "cell_type": "raw",
   "id": "1c028caf-a90d-41ff-a044-7a8a3415062e",
   "metadata": {},
   "source": [
    "dat_target = make_target(1)\n",
    "sim_target = make_target(1)\n",
    "\n",
    "dat_ckpt = tf.train.Checkpoint(dat_target)\n",
    "sim_ckpt = tf.train.Checkpoint(sim_target)\n",
    "\n",
    "dat_ckpt.restore('flows/zenodo/dat1/ckpt-157')\n",
    "sim_ckpt.restore('flows/zenodo/sim1/ckpt-157')"
   ]
  },
  {
   "cell_type": "raw",
   "id": "985510f4-702e-49ef-8fcb-0c2a75420222",
   "metadata": {},
   "source": [
    "y_trn = stats.bernoulli.rvs(0.5, size = N_trn)\n",
    "\n",
    "X_bkgd = sim_target.sample(N_trn).numpy()\n",
    "X_sgnl = dat_target.sample(N_trn).numpy()\n",
    "\n",
    "X_trn = np.zeros_like(X_bkgd)\n",
    "X_trn[y_trn == 0] = X_bkgd[y_trn == 0]\n",
    "X_trn[y_trn == 1] = X_sgnl[y_trn == 1]\n",
    "\n",
    "y_tst = stats.bernoulli.rvs(0.5, size = N_tst)\n",
    "\n",
    "X_bkgd = sim_target.sample(N_tst).numpy()\n",
    "X_sgnl = dat_target.sample(N_tst).numpy()\n",
    "\n",
    "X_tst = np.zeros_like(X_bkgd)\n",
    "X_tst[y_tst == 0] = X_bkgd[y_tst == 0]\n",
    "X_tst[y_tst == 1] = X_sgnl[y_tst == 1]\n",
    "\n",
    "np.save('data/zenodo/1/X_trn.npy', X_trn)\n",
    "np.save('data/zenodo/1/y_trn.npy', y_trn)\n",
    "np.save('data/zenodo/1/X_tst.npy', X_tst)\n",
    "np.save('data/zenodo/1/y_tst.npy', y_tst)"
   ]
  },
  {
   "cell_type": "markdown",
   "id": "890e473e-565d-4cb7-8556-aea780b663c3",
   "metadata": {
    "jp-MarkdownHeadingCollapsed": true,
    "tags": []
   },
   "source": [
    "## $d = 2$ ##"
   ]
  },
  {
   "cell_type": "raw",
   "id": "d34bf7c4-b418-4c29-85c1-f1b90ea7a2f9",
   "metadata": {},
   "source": [
    "np.random.seed(666)\n",
    "N_trn = 10**7\n",
    "N_tst = 10**5"
   ]
  },
  {
   "cell_type": "raw",
   "id": "f0a65ffe-0d9f-4f69-ba6b-80258887cb20",
   "metadata": {},
   "source": [
    "os.environ[\"CUDA_VISIBLE_DEVICES\"] = \"1\" # pick a number < 4 on ML4HEP; < 3 on Voltan \n",
    "physical_devices = tf.config.list_physical_devices('GPU') \n",
    "tf.config.experimental.set_memory_growth(physical_devices[0], True)"
   ]
  },
  {
   "cell_type": "raw",
   "id": "622e19ec-5b9d-46b5-bb24-aa5f7c946c3a",
   "metadata": {},
   "source": [
    "dat_target = make_target(2)\n",
    "sim_target = make_target(2)\n",
    "\n",
    "dat_ckpt = tf.train.Checkpoint(dat_target)\n",
    "sim_ckpt = tf.train.Checkpoint(sim_target)\n",
    "\n",
    "# FIX THIS LATER\n",
    "dat_ckpt.restore('flows/zenodo/dat2/ckpt-157')\n",
    "sim_ckpt.restore('flows/zenodo/sim2/ckpt-157')"
   ]
  },
  {
   "cell_type": "raw",
   "id": "ce6aeaa0-d469-451c-b2b0-17dcb76b7b93",
   "metadata": {},
   "source": [
    "y_trn = stats.bernoulli.rvs(0.5, size = N_trn)\n",
    "\n",
    "X_bkgd = sim_target.sample(N_trn).numpy()\n",
    "X_sgnl = dat_target.sample(N_trn).numpy()\n",
    "\n",
    "X_trn = np.zeros_like(X_bkgd)\n",
    "X_trn[y_trn == 0] = X_bkgd[y_trn == 0]\n",
    "X_trn[y_trn == 1] = X_sgnl[y_trn == 1]\n",
    "\n",
    "y_tst = stats.bernoulli.rvs(0.5, size = N_tst)\n",
    "\n",
    "X_bkgd = sim_target.sample(N_tst).numpy()\n",
    "X_sgnl = dat_target.sample(N_tst).numpy()\n",
    "\n",
    "X_tst = np.zeros_like(X_bkgd)\n",
    "X_tst[y_tst == 0] = X_bkgd[y_tst == 0]\n",
    "X_tst[y_tst == 1] = X_sgnl[y_tst == 1]\n",
    "\n",
    "np.save('data/zenodo/2/X_trn.npy', X_trn)\n",
    "np.save('data/zenodo/2/y_trn.npy', y_trn)\n",
    "np.save('data/zenodo/2/X_tst.npy', X_tst)\n",
    "np.save('data/zenodo/2/y_tst.npy', y_tst)"
   ]
  },
  {
   "cell_type": "markdown",
   "id": "9f0b1b76-6ccf-4545-a348-17fac871797d",
   "metadata": {
    "jp-MarkdownHeadingCollapsed": true,
    "tags": []
   },
   "source": [
    "## $d = 4$ "
   ]
  },
  {
   "cell_type": "raw",
   "id": "5e2bf5a4-45c5-429e-b5cd-76d0a35e6d1c",
   "metadata": {},
   "source": [
    "np.random.seed(666)\n",
    "N_trn = 10**7\n",
    "N_tst = 10**5"
   ]
  },
  {
   "cell_type": "raw",
   "id": "0e36d5ba-d328-46bc-aeed-c156b124fc54",
   "metadata": {},
   "source": [
    "os.environ[\"CUDA_VISIBLE_DEVICES\"] = \"1\" # pick a number < 4 on ML4HEP; < 3 on Voltan \n",
    "physical_devices = tf.config.list_physical_devices('GPU') \n",
    "tf.config.experimental.set_memory_growth(physical_devices[0], True)"
   ]
  },
  {
   "cell_type": "raw",
   "id": "3b8291fe-d567-42a9-8c4f-db9491456cd7",
   "metadata": {},
   "source": [
    "dat_target = make_target(4)\n",
    "sim_target = make_target(4)\n",
    "\n",
    "dat_ckpt = tf.train.Checkpoint(dat_target)\n",
    "sim_ckpt = tf.train.Checkpoint(sim_target)\n",
    "\n",
    "dat_ckpt.restore('flows/zenodo/dat4/ckpt-157')\n",
    "sim_ckpt.restore('flows/zenodo/sim4/ckpt-157')"
   ]
  },
  {
   "cell_type": "raw",
   "id": "105f5b33-7423-4212-a3ca-133a00266204",
   "metadata": {},
   "source": [
    "y_trn = stats.bernoulli.rvs(0.5, size = N_trn)\n",
    "\n",
    "X_bkgd = sim_target.sample(N_trn).numpy()\n",
    "X_sgnl = dat_target.sample(N_trn).numpy()\n",
    "\n",
    "X_trn = np.zeros_like(X_bkgd)\n",
    "X_trn[y_trn == 0] = X_bkgd[y_trn == 0]\n",
    "X_trn[y_trn == 1] = X_sgnl[y_trn == 1]\n",
    "\n",
    "y_tst = stats.bernoulli.rvs(0.5, size = N_tst)\n",
    "\n",
    "X_bkgd = sim_target.sample(N_tst).numpy()\n",
    "X_sgnl = dat_target.sample(N_tst).numpy()\n",
    "\n",
    "X_tst = np.zeros_like(X_bkgd)\n",
    "X_tst[y_tst == 0] = X_bkgd[y_tst == 0]\n",
    "X_tst[y_tst == 1] = X_sgnl[y_tst == 1]\n",
    "\n",
    "np.save('data/zenodo/4/X_trn.npy', X_trn)\n",
    "np.save('data/zenodo/4/y_trn.npy', y_trn)\n",
    "np.save('data/zenodo/4/X_tst.npy', X_tst)\n",
    "np.save('data/zenodo/4/y_tst.npy', y_tst)"
   ]
  },
  {
   "cell_type": "markdown",
   "id": "15b6b5ca-d417-4e03-9ec9-574a19b08c9f",
   "metadata": {
    "tags": []
   },
   "source": [
    "## $d = 8$"
   ]
  },
  {
   "cell_type": "code",
   "execution_count": 2,
   "id": "9286298e-74e1-4618-8f43-1dab4eee18d1",
   "metadata": {},
   "outputs": [],
   "source": [
    "np.random.seed(666)\n",
    "N_trn = 10**7\n",
    "N_tst = 10**5"
   ]
  },
  {
   "cell_type": "code",
   "execution_count": 3,
   "id": "e21fd864-c7b2-42b9-aa06-c981891c0c45",
   "metadata": {},
   "outputs": [],
   "source": [
    "os.environ[\"CUDA_VISIBLE_DEVICES\"] = \"2\" # pick a number < 4 on ML4HEP; < 3 on Voltan \n",
    "physical_devices = tf.config.list_physical_devices('GPU') \n",
    "tf.config.experimental.set_memory_growth(physical_devices[0], True)"
   ]
  },
  {
   "cell_type": "code",
   "execution_count": 4,
   "id": "94bee46f-cafe-46f0-8a03-35c8d239a6d7",
   "metadata": {},
   "outputs": [
    {
     "name": "stderr",
     "output_type": "stream",
     "text": [
      "2023-03-15 01:31:05.908735: I tensorflow/core/platform/cpu_feature_guard.cc:151] This TensorFlow binary is optimized with oneAPI Deep Neural Network Library (oneDNN) to use the following CPU instructions in performance-critical operations:  SSE4.1 SSE4.2 AVX AVX2 FMA\n",
      "To enable them in other operations, rebuild TensorFlow with the appropriate compiler flags.\n",
      "2023-03-15 01:31:06.499167: I tensorflow/core/common_runtime/gpu/gpu_device.cc:1525] Created device /job:localhost/replica:0/task:0/device:GPU:0 with 21610 MB memory:  -> device: 0, name: Quadro RTX 6000, pci bus id: 0000:81:00.0, compute capability: 7.5\n"
     ]
    },
    {
     "data": {
      "text/plain": [
       "<tensorflow.python.training.tracking.util.CheckpointLoadStatus at 0x7fee9c65cd00>"
      ]
     },
     "execution_count": 4,
     "metadata": {},
     "output_type": "execute_result"
    }
   ],
   "source": [
    "dat_target = make_target(8)\n",
    "sim_target = make_target(8)\n",
    "\n",
    "dat_ckpt = tf.train.Checkpoint(dat_target)\n",
    "sim_ckpt = tf.train.Checkpoint(sim_target)\n",
    "\n",
    "dat_ckpt.restore('flows/zenodo/dat8/ckpt-157')\n",
    "sim_ckpt.restore('flows/zenodo/sim8/ckpt-157')"
   ]
  },
  {
   "cell_type": "code",
   "execution_count": 5,
   "id": "01ac9141-bca0-4709-abcd-910df80046c7",
   "metadata": {},
   "outputs": [
    {
     "name": "stderr",
     "output_type": "stream",
     "text": [
      "2023-03-15 01:31:28.147446: W tensorflow/core/common_runtime/bfc_allocator.cc:462] Allocator (GPU_0_bfc) ran out of memory trying to allocate 305.18MiB (rounded to 320000000)requested by op AddN\n",
      "If the cause is memory fragmentation maybe the environment variable 'TF_GPU_ALLOCATOR=cuda_malloc_async' will improve the situation. \n",
      "Current allocation summary follows.\n",
      "Current allocation summary follows.\n",
      "2023-03-15 01:31:28.147509: I tensorflow/core/common_runtime/bfc_allocator.cc:1010] BFCAllocator dump for GPU_0_bfc\n",
      "2023-03-15 01:31:28.147524: I tensorflow/core/common_runtime/bfc_allocator.cc:1017] Bin (256): \tTotal Chunks: 86, Chunks in use: 86. 21.5KiB allocated for chunks. 21.5KiB in use in bin. 1.0KiB client-requested in use in bin.\n",
      "2023-03-15 01:31:28.147533: I tensorflow/core/common_runtime/bfc_allocator.cc:1017] Bin (512): \tTotal Chunks: 1, Chunks in use: 1. 512B allocated for chunks. 512B in use in bin. 512B client-requested in use in bin.\n",
      "2023-03-15 01:31:28.147541: I tensorflow/core/common_runtime/bfc_allocator.cc:1017] Bin (1024): \tTotal Chunks: 1, Chunks in use: 1. 1.2KiB allocated for chunks. 1.2KiB in use in bin. 1.0KiB client-requested in use in bin.\n",
      "2023-03-15 01:31:28.147550: I tensorflow/core/common_runtime/bfc_allocator.cc:1017] Bin (2048): \tTotal Chunks: 0, Chunks in use: 0. 0B allocated for chunks. 0B in use in bin. 0B client-requested in use in bin.\n",
      "2023-03-15 01:31:28.147558: I tensorflow/core/common_runtime/bfc_allocator.cc:1017] Bin (4096): \tTotal Chunks: 0, Chunks in use: 0. 0B allocated for chunks. 0B in use in bin. 0B client-requested in use in bin.\n",
      "2023-03-15 01:31:28.147565: I tensorflow/core/common_runtime/bfc_allocator.cc:1017] Bin (8192): \tTotal Chunks: 0, Chunks in use: 0. 0B allocated for chunks. 0B in use in bin. 0B client-requested in use in bin.\n",
      "2023-03-15 01:31:28.147573: I tensorflow/core/common_runtime/bfc_allocator.cc:1017] Bin (16384): \tTotal Chunks: 0, Chunks in use: 0. 0B allocated for chunks. 0B in use in bin. 0B client-requested in use in bin.\n",
      "2023-03-15 01:31:28.147581: I tensorflow/core/common_runtime/bfc_allocator.cc:1017] Bin (32768): \tTotal Chunks: 0, Chunks in use: 0. 0B allocated for chunks. 0B in use in bin. 0B client-requested in use in bin.\n",
      "2023-03-15 01:31:28.147589: I tensorflow/core/common_runtime/bfc_allocator.cc:1017] Bin (65536): \tTotal Chunks: 0, Chunks in use: 0. 0B allocated for chunks. 0B in use in bin. 0B client-requested in use in bin.\n",
      "2023-03-15 01:31:28.147596: I tensorflow/core/common_runtime/bfc_allocator.cc:1017] Bin (131072): \tTotal Chunks: 0, Chunks in use: 0. 0B allocated for chunks. 0B in use in bin. 0B client-requested in use in bin.\n",
      "2023-03-15 01:31:28.147603: I tensorflow/core/common_runtime/bfc_allocator.cc:1017] Bin (262144): \tTotal Chunks: 0, Chunks in use: 0. 0B allocated for chunks. 0B in use in bin. 0B client-requested in use in bin.\n",
      "2023-03-15 01:31:28.147611: I tensorflow/core/common_runtime/bfc_allocator.cc:1017] Bin (524288): \tTotal Chunks: 0, Chunks in use: 0. 0B allocated for chunks. 0B in use in bin. 0B client-requested in use in bin.\n",
      "2023-03-15 01:31:28.147619: I tensorflow/core/common_runtime/bfc_allocator.cc:1017] Bin (1048576): \tTotal Chunks: 1, Chunks in use: 0. 1.98MiB allocated for chunks. 0B in use in bin. 0B client-requested in use in bin.\n",
      "2023-03-15 01:31:28.147627: I tensorflow/core/common_runtime/bfc_allocator.cc:1017] Bin (2097152): \tTotal Chunks: 0, Chunks in use: 0. 0B allocated for chunks. 0B in use in bin. 0B client-requested in use in bin.\n",
      "2023-03-15 01:31:28.147634: I tensorflow/core/common_runtime/bfc_allocator.cc:1017] Bin (4194304): \tTotal Chunks: 0, Chunks in use: 0. 0B allocated for chunks. 0B in use in bin. 0B client-requested in use in bin.\n",
      "2023-03-15 01:31:28.147641: I tensorflow/core/common_runtime/bfc_allocator.cc:1017] Bin (8388608): \tTotal Chunks: 0, Chunks in use: 0. 0B allocated for chunks. 0B in use in bin. 0B client-requested in use in bin.\n",
      "2023-03-15 01:31:28.147649: I tensorflow/core/common_runtime/bfc_allocator.cc:1017] Bin (16777216): \tTotal Chunks: 0, Chunks in use: 0. 0B allocated for chunks. 0B in use in bin. 0B client-requested in use in bin.\n",
      "2023-03-15 01:31:28.147658: I tensorflow/core/common_runtime/bfc_allocator.cc:1017] Bin (33554432): \tTotal Chunks: 0, Chunks in use: 0. 0B allocated for chunks. 0B in use in bin. 0B client-requested in use in bin.\n",
      "2023-03-15 01:31:28.147665: I tensorflow/core/common_runtime/bfc_allocator.cc:1017] Bin (67108864): \tTotal Chunks: 0, Chunks in use: 0. 0B allocated for chunks. 0B in use in bin. 0B client-requested in use in bin.\n",
      "2023-03-15 01:31:28.147673: I tensorflow/core/common_runtime/bfc_allocator.cc:1017] Bin (134217728): \tTotal Chunks: 4, Chunks in use: 0. 759.31MiB allocated for chunks. 0B in use in bin. 0B client-requested in use in bin.\n",
      "2023-03-15 01:31:28.147680: I tensorflow/core/common_runtime/bfc_allocator.cc:1017] Bin (268435456): \tTotal Chunks: 68, Chunks in use: 67. 20.36GiB allocated for chunks. 20.11GiB in use in bin. 19.97GiB client-requested in use in bin.\n",
      "2023-03-15 01:31:28.147698: I tensorflow/core/common_runtime/bfc_allocator.cc:1033] Bin for 305.18MiB was 256.00MiB, Chunk State: \n",
      "2023-03-15 01:31:28.147710: I tensorflow/core/common_runtime/bfc_allocator.cc:1039]   Size: 257.43MiB | Requested Size: 0B | in_use: 0 | bin_num: 20, prev:   Size: 305.18MiB | Requested Size: 305.18MiB | in_use: 1 | bin_num: -1\n",
      "2023-03-15 01:31:28.147716: I tensorflow/core/common_runtime/bfc_allocator.cc:1046] Next region of size 5478088704\n",
      "2023-03-15 01:31:28.147722: I tensorflow/core/common_runtime/bfc_allocator.cc:1066] InUse at 7fe73c000000 of size 320000000 next 75\n",
      "2023-03-15 01:31:28.147728: I tensorflow/core/common_runtime/bfc_allocator.cc:1066] InUse at 7fe74f12d000 of size 320000000 next 88\n",
      "2023-03-15 01:31:28.147734: I tensorflow/core/common_runtime/bfc_allocator.cc:1066] InUse at 7fe76225a000 of size 320000000 next 158\n",
      "2023-03-15 01:31:28.147739: I tensorflow/core/common_runtime/bfc_allocator.cc:1066] InUse at 7fe775387000 of size 320000000 next 159\n",
      "2023-03-15 01:31:28.147746: I tensorflow/core/common_runtime/bfc_allocator.cc:1066] InUse at 7fe7884b4000 of size 320000000 next 89\n",
      "2023-03-15 01:31:28.147752: I tensorflow/core/common_runtime/bfc_allocator.cc:1066] InUse at 7fe79b5e1000 of size 320000000 next 146\n",
      "2023-03-15 01:31:28.147757: I tensorflow/core/common_runtime/bfc_allocator.cc:1066] InUse at 7fe7ae70e000 of size 320000000 next 150\n",
      "2023-03-15 01:31:28.147763: I tensorflow/core/common_runtime/bfc_allocator.cc:1066] InUse at 7fe7c183b000 of size 320000000 next 151\n",
      "2023-03-15 01:31:28.147769: I tensorflow/core/common_runtime/bfc_allocator.cc:1066] InUse at 7fe7d4968000 of size 320000000 next 152\n",
      "2023-03-15 01:31:28.147774: I tensorflow/core/common_runtime/bfc_allocator.cc:1066] InUse at 7fe7e7a95000 of size 320000000 next 153\n",
      "2023-03-15 01:31:28.147780: I tensorflow/core/common_runtime/bfc_allocator.cc:1066] InUse at 7fe7fabc2000 of size 320000000 next 154\n",
      "2023-03-15 01:31:28.147785: I tensorflow/core/common_runtime/bfc_allocator.cc:1066] InUse at 7fe80dcef000 of size 320000000 next 155\n",
      "2023-03-15 01:31:28.147791: I tensorflow/core/common_runtime/bfc_allocator.cc:1066] InUse at 7fe820e1c000 of size 320000000 next 161\n",
      "2023-03-15 01:31:28.147796: I tensorflow/core/common_runtime/bfc_allocator.cc:1066] InUse at 7fe833f49000 of size 320000000 next 156\n",
      "2023-03-15 01:31:28.147802: I tensorflow/core/common_runtime/bfc_allocator.cc:1066] InUse at 7fe847076000 of size 320000000 next 61\n",
      "2023-03-15 01:31:28.147808: I tensorflow/core/common_runtime/bfc_allocator.cc:1066] InUse at 7fe85a1a3000 of size 320000000 next 160\n",
      "2023-03-15 01:31:28.147814: I tensorflow/core/common_runtime/bfc_allocator.cc:1066] InUse at 7fe86d2d0000 of size 358088704 next 18446744073709551615\n",
      "2023-03-15 01:31:28.147820: I tensorflow/core/common_runtime/bfc_allocator.cc:1046] Next region of size 8589934592\n",
      "2023-03-15 01:31:28.147826: I tensorflow/core/common_runtime/bfc_allocator.cc:1066] InUse at 7fe896000000 of size 320000000 next 134\n",
      "2023-03-15 01:31:28.147832: I tensorflow/core/common_runtime/bfc_allocator.cc:1066] InUse at 7fe8a912d000 of size 320000000 next 44\n",
      "2023-03-15 01:31:28.147839: I tensorflow/core/common_runtime/bfc_allocator.cc:1066] InUse at 7fe8bc25a000 of size 320000000 next 101\n",
      "2023-03-15 01:31:28.147844: I tensorflow/core/common_runtime/bfc_allocator.cc:1066] InUse at 7fe8cf387000 of size 320000000 next 95\n",
      "2023-03-15 01:31:28.147850: I tensorflow/core/common_runtime/bfc_allocator.cc:1066] InUse at 7fe8e24b4000 of size 320000000 next 96\n",
      "2023-03-15 01:31:28.147856: I tensorflow/core/common_runtime/bfc_allocator.cc:1066] InUse at 7fe8f55e1000 of size 320000000 next 138\n",
      "2023-03-15 01:31:28.147862: I tensorflow/core/common_runtime/bfc_allocator.cc:1066] InUse at 7fe90870e000 of size 320000000 next 91\n",
      "2023-03-15 01:31:28.147867: I tensorflow/core/common_runtime/bfc_allocator.cc:1066] InUse at 7fe91b83b000 of size 320000000 next 98\n",
      "2023-03-15 01:31:28.147873: I tensorflow/core/common_runtime/bfc_allocator.cc:1066] InUse at 7fe92e968000 of size 320000000 next 84\n",
      "2023-03-15 01:31:28.147879: I tensorflow/core/common_runtime/bfc_allocator.cc:1066] InUse at 7fe941a95000 of size 320000000 next 99\n",
      "2023-03-15 01:31:28.147885: I tensorflow/core/common_runtime/bfc_allocator.cc:1066] InUse at 7fe954bc2000 of size 320000000 next 102\n",
      "2023-03-15 01:31:28.147891: I tensorflow/core/common_runtime/bfc_allocator.cc:1066] InUse at 7fe967cef000 of size 320000000 next 103\n",
      "2023-03-15 01:31:28.147896: I tensorflow/core/common_runtime/bfc_allocator.cc:1066] InUse at 7fe97ae1c000 of size 320000000 next 106\n",
      "2023-03-15 01:31:28.147902: I tensorflow/core/common_runtime/bfc_allocator.cc:1066] InUse at 7fe98df49000 of size 320000000 next 107\n",
      "2023-03-15 01:31:28.147908: I tensorflow/core/common_runtime/bfc_allocator.cc:1066] InUse at 7fe9a1076000 of size 320000000 next 141\n",
      "2023-03-15 01:31:28.147914: I tensorflow/core/common_runtime/bfc_allocator.cc:1066] InUse at 7fe9b41a3000 of size 320000000 next 124\n",
      "2023-03-15 01:31:28.147919: I tensorflow/core/common_runtime/bfc_allocator.cc:1066] InUse at 7fe9c72d0000 of size 320000000 next 113\n",
      "2023-03-15 01:31:28.147925: I tensorflow/core/common_runtime/bfc_allocator.cc:1066] InUse at 7fe9da3fd000 of size 320000000 next 115\n",
      "2023-03-15 01:31:28.147931: I tensorflow/core/common_runtime/bfc_allocator.cc:1066] InUse at 7fe9ed52a000 of size 320000000 next 116\n",
      "2023-03-15 01:31:28.147936: I tensorflow/core/common_runtime/bfc_allocator.cc:1066] InUse at 7fea00657000 of size 320000000 next 125\n",
      "2023-03-15 01:31:28.147943: I tensorflow/core/common_runtime/bfc_allocator.cc:1066] InUse at 7fea13784000 of size 320000000 next 136\n",
      "2023-03-15 01:31:28.147949: I tensorflow/core/common_runtime/bfc_allocator.cc:1066] InUse at 7fea268b1000 of size 320000000 next 137\n",
      "2023-03-15 01:31:28.147954: I tensorflow/core/common_runtime/bfc_allocator.cc:1066] InUse at 7fea399de000 of size 320000000 next 140\n",
      "2023-03-15 01:31:28.147960: I tensorflow/core/common_runtime/bfc_allocator.cc:1066] InUse at 7fea4cb0b000 of size 320000000 next 142\n",
      "2023-03-15 01:31:28.147966: I tensorflow/core/common_runtime/bfc_allocator.cc:1066] InUse at 7fea5fc38000 of size 320000000 next 143\n",
      "2023-03-15 01:31:28.147972: I tensorflow/core/common_runtime/bfc_allocator.cc:1066] InUse at 7fea72d65000 of size 320000000 next 144\n",
      "2023-03-15 01:31:28.147978: I tensorflow/core/common_runtime/bfc_allocator.cc:1066] Free  at 7fea85e92000 of size 269934592 next 18446744073709551615\n",
      "2023-03-15 01:31:28.147984: I tensorflow/core/common_runtime/bfc_allocator.cc:1046] Next region of size 4294967296\n",
      "2023-03-15 01:31:28.147990: I tensorflow/core/common_runtime/bfc_allocator.cc:1066] InUse at 7feab2000000 of size 320000000 next 64\n",
      "2023-03-15 01:31:28.147997: I tensorflow/core/common_runtime/bfc_allocator.cc:1066] InUse at 7feac512d000 of size 320000000 next 45\n",
      "2023-03-15 01:31:28.148002: I tensorflow/core/common_runtime/bfc_allocator.cc:1066] InUse at 7fead825a000 of size 320000000 next 48\n",
      "2023-03-15 01:31:28.148008: I tensorflow/core/common_runtime/bfc_allocator.cc:1066] InUse at 7feaeb387000 of size 320000000 next 119\n",
      "2023-03-15 01:31:28.148015: I tensorflow/core/common_runtime/bfc_allocator.cc:1066] InUse at 7feafe4b4000 of size 320000000 next 42\n",
      "2023-03-15 01:31:28.148020: I tensorflow/core/common_runtime/bfc_allocator.cc:1066] InUse at 7feb115e1000 of size 320000000 next 139\n",
      "2023-03-15 01:31:28.148026: I tensorflow/core/common_runtime/bfc_allocator.cc:1066] InUse at 7feb2470e000 of size 320000000 next 74\n",
      "2023-03-15 01:31:28.148032: I tensorflow/core/common_runtime/bfc_allocator.cc:1066] InUse at 7feb3783b000 of size 320000000 next 100\n",
      "2023-03-15 01:31:28.148038: I tensorflow/core/common_runtime/bfc_allocator.cc:1066] InUse at 7feb4a968000 of size 320000000 next 97\n",
      "2023-03-15 01:31:28.148044: I tensorflow/core/common_runtime/bfc_allocator.cc:1066] InUse at 7feb5da95000 of size 320000000 next 69\n",
      "2023-03-15 01:31:28.148050: I tensorflow/core/common_runtime/bfc_allocator.cc:1066] InUse at 7feb70bc2000 of size 320000000 next 76\n",
      "2023-03-15 01:31:28.148065: I tensorflow/core/common_runtime/bfc_allocator.cc:1066] InUse at 7feb83cef000 of size 320000000 next 50\n",
      "2023-03-15 01:31:28.148071: I tensorflow/core/common_runtime/bfc_allocator.cc:1066] InUse at 7feb96e1c000 of size 320000000 next 81\n",
      "2023-03-15 01:31:28.148076: I tensorflow/core/common_runtime/bfc_allocator.cc:1066] Free  at 7feba9f49000 of size 134967296 next 18446744073709551615\n",
      "2023-03-15 01:31:28.148083: I tensorflow/core/common_runtime/bfc_allocator.cc:1046] Next region of size 2147483648\n",
      "2023-03-15 01:31:28.148089: I tensorflow/core/common_runtime/bfc_allocator.cc:1066] InUse at 7febc6000000 of size 320000000 next 46\n",
      "2023-03-15 01:31:28.148095: I tensorflow/core/common_runtime/bfc_allocator.cc:1066] InUse at 7febd912d000 of size 320000000 next 145\n",
      "2023-03-15 01:31:28.148101: I tensorflow/core/common_runtime/bfc_allocator.cc:1066] InUse at 7febec25a000 of size 320000000 next 37\n",
      "2023-03-15 01:31:28.148107: I tensorflow/core/common_runtime/bfc_allocator.cc:1066] InUse at 7febff387000 of size 320000000 next 40\n",
      "2023-03-15 01:31:28.148113: I tensorflow/core/common_runtime/bfc_allocator.cc:1066] InUse at 7fec124b4000 of size 320000000 next 29\n",
      "2023-03-15 01:31:28.148119: I tensorflow/core/common_runtime/bfc_allocator.cc:1066] InUse at 7fec255e1000 of size 320000000 next 131\n",
      "2023-03-15 01:31:28.148125: I tensorflow/core/common_runtime/bfc_allocator.cc:1066] Free  at 7fec3870e000 of size 227483648 next 18446744073709551615\n",
      "2023-03-15 01:31:28.148131: I tensorflow/core/common_runtime/bfc_allocator.cc:1046] Next region of size 1073741824\n",
      "2023-03-15 01:31:28.148137: I tensorflow/core/common_runtime/bfc_allocator.cc:1066] InUse at 7fec5a000000 of size 320000000 next 17\n",
      "2023-03-15 01:31:28.148143: I tensorflow/core/common_runtime/bfc_allocator.cc:1066] InUse at 7fec6d12d000 of size 320000000 next 20\n",
      "2023-03-15 01:31:28.148149: I tensorflow/core/common_runtime/bfc_allocator.cc:1066] InUse at 7fec8025a000 of size 433741824 next 18446744073709551615\n",
      "2023-03-15 01:31:28.148155: I tensorflow/core/common_runtime/bfc_allocator.cc:1046] Next region of size 536870912\n",
      "2023-03-15 01:31:28.148162: I tensorflow/core/common_runtime/bfc_allocator.cc:1066] InUse at 7fec9a000000 of size 320000000 next 19\n",
      "2023-03-15 01:31:28.148168: I tensorflow/core/common_runtime/bfc_allocator.cc:1066] Free  at 7fecad12d000 of size 216870912 next 18446744073709551615\n",
      "2023-03-15 01:31:28.148174: I tensorflow/core/common_runtime/bfc_allocator.cc:1046] Next region of size 536870912\n",
      "2023-03-15 01:31:28.148180: I tensorflow/core/common_runtime/bfc_allocator.cc:1066] InUse at 7fecba000000 of size 320000000 next 15\n",
      "2023-03-15 01:31:28.148185: I tensorflow/core/common_runtime/bfc_allocator.cc:1066] Free  at 7feccd12d000 of size 216870912 next 18446744073709551615\n",
      "2023-03-15 01:31:28.148192: I tensorflow/core/common_runtime/bfc_allocator.cc:1046] Next region of size 2097152\n",
      "2023-03-15 01:31:28.148198: I tensorflow/core/common_runtime/bfc_allocator.cc:1066] InUse at 7fed83a00000 of size 256 next 1\n",
      "2023-03-15 01:31:28.148204: I tensorflow/core/common_runtime/bfc_allocator.cc:1066] InUse at 7fed83a00100 of size 1280 next 2\n",
      "2023-03-15 01:31:28.148211: I tensorflow/core/common_runtime/bfc_allocator.cc:1066] InUse at 7fed83a00600 of size 256 next 3\n",
      "2023-03-15 01:31:28.148217: I tensorflow/core/common_runtime/bfc_allocator.cc:1066] InUse at 7fed83a00700 of size 256 next 4\n",
      "2023-03-15 01:31:28.148222: I tensorflow/core/common_runtime/bfc_allocator.cc:1066] InUse at 7fed83a00800 of size 256 next 5\n",
      "2023-03-15 01:31:28.148228: I tensorflow/core/common_runtime/bfc_allocator.cc:1066] InUse at 7fed83a00900 of size 256 next 6\n",
      "2023-03-15 01:31:28.148234: I tensorflow/core/common_runtime/bfc_allocator.cc:1066] InUse at 7fed83a00a00 of size 256 next 7\n",
      "2023-03-15 01:31:28.148240: I tensorflow/core/common_runtime/bfc_allocator.cc:1066] InUse at 7fed83a00b00 of size 256 next 8\n",
      "2023-03-15 01:31:28.148246: I tensorflow/core/common_runtime/bfc_allocator.cc:1066] InUse at 7fed83a00c00 of size 256 next 9\n",
      "2023-03-15 01:31:28.148252: I tensorflow/core/common_runtime/bfc_allocator.cc:1066] InUse at 7fed83a00d00 of size 256 next 10\n",
      "2023-03-15 01:31:28.148258: I tensorflow/core/common_runtime/bfc_allocator.cc:1066] InUse at 7fed83a00e00 of size 256 next 11\n",
      "2023-03-15 01:31:28.148265: I tensorflow/core/common_runtime/bfc_allocator.cc:1066] InUse at 7fed83a00f00 of size 256 next 12\n",
      "2023-03-15 01:31:28.148271: I tensorflow/core/common_runtime/bfc_allocator.cc:1066] InUse at 7fed83a01000 of size 256 next 13\n",
      "2023-03-15 01:31:28.148277: I tensorflow/core/common_runtime/bfc_allocator.cc:1066] InUse at 7fed83a01100 of size 256 next 21\n",
      "2023-03-15 01:31:28.148283: I tensorflow/core/common_runtime/bfc_allocator.cc:1066] InUse at 7fed83a01200 of size 256 next 22\n",
      "2023-03-15 01:31:28.148289: I tensorflow/core/common_runtime/bfc_allocator.cc:1066] InUse at 7fed83a01300 of size 256 next 23\n",
      "2023-03-15 01:31:28.148295: I tensorflow/core/common_runtime/bfc_allocator.cc:1066] InUse at 7fed83a01400 of size 256 next 24\n",
      "2023-03-15 01:31:28.148301: I tensorflow/core/common_runtime/bfc_allocator.cc:1066] InUse at 7fed83a01500 of size 256 next 25\n",
      "2023-03-15 01:31:28.148307: I tensorflow/core/common_runtime/bfc_allocator.cc:1066] InUse at 7fed83a01600 of size 256 next 26\n",
      "2023-03-15 01:31:28.148314: I tensorflow/core/common_runtime/bfc_allocator.cc:1066] InUse at 7fed83a01700 of size 256 next 27\n",
      "2023-03-15 01:31:28.148320: I tensorflow/core/common_runtime/bfc_allocator.cc:1066] InUse at 7fed83a01800 of size 256 next 30\n",
      "2023-03-15 01:31:28.148326: I tensorflow/core/common_runtime/bfc_allocator.cc:1066] InUse at 7fed83a01900 of size 512 next 31\n",
      "2023-03-15 01:31:28.148332: I tensorflow/core/common_runtime/bfc_allocator.cc:1066] InUse at 7fed83a01b00 of size 256 next 32\n",
      "2023-03-15 01:31:28.148338: I tensorflow/core/common_runtime/bfc_allocator.cc:1066] InUse at 7fed83a01c00 of size 256 next 33\n",
      "2023-03-15 01:31:28.148344: I tensorflow/core/common_runtime/bfc_allocator.cc:1066] InUse at 7fed83a01d00 of size 256 next 34\n",
      "2023-03-15 01:31:28.148350: I tensorflow/core/common_runtime/bfc_allocator.cc:1066] InUse at 7fed83a01e00 of size 256 next 35\n",
      "2023-03-15 01:31:28.148356: I tensorflow/core/common_runtime/bfc_allocator.cc:1066] InUse at 7fed83a01f00 of size 256 next 36\n",
      "2023-03-15 01:31:28.148362: I tensorflow/core/common_runtime/bfc_allocator.cc:1066] InUse at 7fed83a02000 of size 256 next 38\n",
      "2023-03-15 01:31:28.148368: I tensorflow/core/common_runtime/bfc_allocator.cc:1066] InUse at 7fed83a02100 of size 256 next 39\n",
      "2023-03-15 01:31:28.148374: I tensorflow/core/common_runtime/bfc_allocator.cc:1066] InUse at 7fed83a02200 of size 256 next 49\n",
      "2023-03-15 01:31:28.148380: I tensorflow/core/common_runtime/bfc_allocator.cc:1066] InUse at 7fed83a02300 of size 256 next 47\n",
      "2023-03-15 01:31:28.148386: I tensorflow/core/common_runtime/bfc_allocator.cc:1066] InUse at 7fed83a02400 of size 256 next 51\n",
      "2023-03-15 01:31:28.148392: I tensorflow/core/common_runtime/bfc_allocator.cc:1066] InUse at 7fed83a02500 of size 256 next 52\n",
      "2023-03-15 01:31:28.148398: I tensorflow/core/common_runtime/bfc_allocator.cc:1066] InUse at 7fed83a02600 of size 256 next 54\n",
      "2023-03-15 01:31:28.148404: I tensorflow/core/common_runtime/bfc_allocator.cc:1066] InUse at 7fed83a02700 of size 256 next 58\n",
      "2023-03-15 01:31:28.148410: I tensorflow/core/common_runtime/bfc_allocator.cc:1066] InUse at 7fed83a02800 of size 256 next 56\n",
      "2023-03-15 01:31:28.148416: I tensorflow/core/common_runtime/bfc_allocator.cc:1066] InUse at 7fed83a02900 of size 256 next 60\n",
      "2023-03-15 01:31:28.148422: I tensorflow/core/common_runtime/bfc_allocator.cc:1066] InUse at 7fed83a02a00 of size 256 next 66\n",
      "2023-03-15 01:31:28.148428: I tensorflow/core/common_runtime/bfc_allocator.cc:1066] InUse at 7fed83a02b00 of size 256 next 53\n",
      "2023-03-15 01:31:28.148434: I tensorflow/core/common_runtime/bfc_allocator.cc:1066] InUse at 7fed83a02c00 of size 256 next 65\n",
      "2023-03-15 01:31:28.148440: I tensorflow/core/common_runtime/bfc_allocator.cc:1066] InUse at 7fed83a02d00 of size 256 next 68\n",
      "2023-03-15 01:31:28.148446: I tensorflow/core/common_runtime/bfc_allocator.cc:1066] InUse at 7fed83a02e00 of size 256 next 71\n",
      "2023-03-15 01:31:28.148451: I tensorflow/core/common_runtime/bfc_allocator.cc:1066] InUse at 7fed83a02f00 of size 256 next 59\n",
      "2023-03-15 01:31:28.148458: I tensorflow/core/common_runtime/bfc_allocator.cc:1066] InUse at 7fed83a03000 of size 256 next 72\n",
      "2023-03-15 01:31:28.148464: I tensorflow/core/common_runtime/bfc_allocator.cc:1066] InUse at 7fed83a03100 of size 256 next 62\n",
      "2023-03-15 01:31:28.148469: I tensorflow/core/common_runtime/bfc_allocator.cc:1066] InUse at 7fed83a03200 of size 256 next 57\n",
      "2023-03-15 01:31:28.148475: I tensorflow/core/common_runtime/bfc_allocator.cc:1066] InUse at 7fed83a03300 of size 256 next 63\n",
      "2023-03-15 01:31:28.148481: I tensorflow/core/common_runtime/bfc_allocator.cc:1066] InUse at 7fed83a03400 of size 256 next 78\n",
      "2023-03-15 01:31:28.148486: I tensorflow/core/common_runtime/bfc_allocator.cc:1066] InUse at 7fed83a03500 of size 256 next 79\n",
      "2023-03-15 01:31:28.148492: I tensorflow/core/common_runtime/bfc_allocator.cc:1066] InUse at 7fed83a03600 of size 256 next 55\n",
      "2023-03-15 01:31:28.148497: I tensorflow/core/common_runtime/bfc_allocator.cc:1066] InUse at 7fed83a03700 of size 256 next 82\n",
      "2023-03-15 01:31:28.148503: I tensorflow/core/common_runtime/bfc_allocator.cc:1066] InUse at 7fed83a03800 of size 256 next 83\n",
      "2023-03-15 01:31:28.148509: I tensorflow/core/common_runtime/bfc_allocator.cc:1066] InUse at 7fed83a03900 of size 256 next 85\n",
      "2023-03-15 01:31:28.148514: I tensorflow/core/common_runtime/bfc_allocator.cc:1066] InUse at 7fed83a03a00 of size 256 next 70\n",
      "2023-03-15 01:31:28.148520: I tensorflow/core/common_runtime/bfc_allocator.cc:1066] InUse at 7fed83a03b00 of size 256 next 90\n",
      "2023-03-15 01:31:28.148526: I tensorflow/core/common_runtime/bfc_allocator.cc:1066] InUse at 7fed83a03c00 of size 256 next 77\n",
      "2023-03-15 01:31:28.148531: I tensorflow/core/common_runtime/bfc_allocator.cc:1066] InUse at 7fed83a03d00 of size 256 next 86\n",
      "2023-03-15 01:31:28.148537: I tensorflow/core/common_runtime/bfc_allocator.cc:1066] InUse at 7fed83a03e00 of size 256 next 80\n",
      "2023-03-15 01:31:28.148543: I tensorflow/core/common_runtime/bfc_allocator.cc:1066] InUse at 7fed83a03f00 of size 256 next 94\n",
      "2023-03-15 01:31:28.148548: I tensorflow/core/common_runtime/bfc_allocator.cc:1066] InUse at 7fed83a04000 of size 256 next 92\n",
      "2023-03-15 01:31:28.148554: I tensorflow/core/common_runtime/bfc_allocator.cc:1066] InUse at 7fed83a04100 of size 256 next 73\n",
      "2023-03-15 01:31:28.148560: I tensorflow/core/common_runtime/bfc_allocator.cc:1066] InUse at 7fed83a04200 of size 256 next 93\n",
      "2023-03-15 01:31:28.148565: I tensorflow/core/common_runtime/bfc_allocator.cc:1066] InUse at 7fed83a04300 of size 256 next 104\n",
      "2023-03-15 01:31:28.148571: I tensorflow/core/common_runtime/bfc_allocator.cc:1066] InUse at 7fed83a04400 of size 256 next 105\n",
      "2023-03-15 01:31:28.148577: I tensorflow/core/common_runtime/bfc_allocator.cc:1066] InUse at 7fed83a04500 of size 256 next 108\n",
      "2023-03-15 01:31:28.148583: I tensorflow/core/common_runtime/bfc_allocator.cc:1066] InUse at 7fed83a04600 of size 256 next 111\n",
      "2023-03-15 01:31:28.148590: I tensorflow/core/common_runtime/bfc_allocator.cc:1066] InUse at 7fed83a04700 of size 256 next 114\n",
      "2023-03-15 01:31:28.148596: I tensorflow/core/common_runtime/bfc_allocator.cc:1066] InUse at 7fed83a04800 of size 256 next 117\n",
      "2023-03-15 01:31:28.148602: I tensorflow/core/common_runtime/bfc_allocator.cc:1066] InUse at 7fed83a04900 of size 256 next 120\n",
      "2023-03-15 01:31:28.148608: I tensorflow/core/common_runtime/bfc_allocator.cc:1066] InUse at 7fed83a04a00 of size 256 next 123\n",
      "2023-03-15 01:31:28.148613: I tensorflow/core/common_runtime/bfc_allocator.cc:1066] InUse at 7fed83a04b00 of size 256 next 127\n",
      "2023-03-15 01:31:28.148619: I tensorflow/core/common_runtime/bfc_allocator.cc:1066] InUse at 7fed83a04c00 of size 256 next 128\n",
      "2023-03-15 01:31:28.148625: I tensorflow/core/common_runtime/bfc_allocator.cc:1066] InUse at 7fed83a04d00 of size 256 next 109\n",
      "2023-03-15 01:31:28.148631: I tensorflow/core/common_runtime/bfc_allocator.cc:1066] InUse at 7fed83a04e00 of size 256 next 110\n",
      "2023-03-15 01:31:28.148637: I tensorflow/core/common_runtime/bfc_allocator.cc:1066] InUse at 7fed83a04f00 of size 256 next 121\n",
      "2023-03-15 01:31:28.148643: I tensorflow/core/common_runtime/bfc_allocator.cc:1066] InUse at 7fed83a05000 of size 256 next 122\n",
      "2023-03-15 01:31:28.148649: I tensorflow/core/common_runtime/bfc_allocator.cc:1066] InUse at 7fed83a05100 of size 256 next 112\n",
      "2023-03-15 01:31:28.148655: I tensorflow/core/common_runtime/bfc_allocator.cc:1066] InUse at 7fed83a05200 of size 256 next 118\n",
      "2023-03-15 01:31:28.148660: I tensorflow/core/common_runtime/bfc_allocator.cc:1066] InUse at 7fed83a05300 of size 256 next 129\n",
      "2023-03-15 01:31:28.148666: I tensorflow/core/common_runtime/bfc_allocator.cc:1066] InUse at 7fed83a05400 of size 256 next 130\n",
      "2023-03-15 01:31:28.148672: I tensorflow/core/common_runtime/bfc_allocator.cc:1066] InUse at 7fed83a05500 of size 256 next 135\n",
      "2023-03-15 01:31:28.148677: I tensorflow/core/common_runtime/bfc_allocator.cc:1066] InUse at 7fed83a05600 of size 256 next 132\n",
      "2023-03-15 01:31:28.148683: I tensorflow/core/common_runtime/bfc_allocator.cc:1066] InUse at 7fed83a05700 of size 256 next 133\n",
      "2023-03-15 01:31:28.148689: I tensorflow/core/common_runtime/bfc_allocator.cc:1066] InUse at 7fed83a05800 of size 256 next 41\n",
      "2023-03-15 01:31:28.148695: I tensorflow/core/common_runtime/bfc_allocator.cc:1066] InUse at 7fed83a05900 of size 256 next 147\n",
      "2023-03-15 01:31:28.148700: I tensorflow/core/common_runtime/bfc_allocator.cc:1066] InUse at 7fed83a05a00 of size 256 next 148\n",
      "2023-03-15 01:31:28.148706: I tensorflow/core/common_runtime/bfc_allocator.cc:1066] InUse at 7fed83a05b00 of size 256 next 149\n",
      "2023-03-15 01:31:28.148712: I tensorflow/core/common_runtime/bfc_allocator.cc:1066] InUse at 7fed83a05c00 of size 256 next 157\n",
      "2023-03-15 01:31:28.148718: I tensorflow/core/common_runtime/bfc_allocator.cc:1066] Free  at 7fed83a05d00 of size 2073344 next 18446744073709551615\n",
      "2023-03-15 01:31:28.148723: I tensorflow/core/common_runtime/bfc_allocator.cc:1071]      Summary of in-use Chunks by size: \n",
      "2023-03-15 01:31:28.148732: I tensorflow/core/common_runtime/bfc_allocator.cc:1074] 86 Chunks of size 256 totalling 21.5KiB\n",
      "2023-03-15 01:31:28.148740: I tensorflow/core/common_runtime/bfc_allocator.cc:1074] 1 Chunks of size 512 totalling 512B\n",
      "2023-03-15 01:31:28.148747: I tensorflow/core/common_runtime/bfc_allocator.cc:1074] 1 Chunks of size 1280 totalling 1.2KiB\n",
      "2023-03-15 01:31:28.148754: I tensorflow/core/common_runtime/bfc_allocator.cc:1074] 65 Chunks of size 320000000 totalling 19.37GiB\n",
      "2023-03-15 01:31:28.148761: I tensorflow/core/common_runtime/bfc_allocator.cc:1074] 1 Chunks of size 358088704 totalling 341.50MiB\n",
      "2023-03-15 01:31:28.148767: I tensorflow/core/common_runtime/bfc_allocator.cc:1074] 1 Chunks of size 433741824 totalling 413.65MiB\n",
      "2023-03-15 01:31:28.148773: I tensorflow/core/common_runtime/bfc_allocator.cc:1078] Sum Total of in-use chunks: 20.11GiB\n",
      "2023-03-15 01:31:28.148780: I tensorflow/core/common_runtime/bfc_allocator.cc:1080] total_region_allocated_bytes_: 22660055040 memory_limit_: 22660055040 available bytes: 0 curr_region_allocation_bytes_: 34359738368\n",
      "2023-03-15 01:31:28.148790: I tensorflow/core/common_runtime/bfc_allocator.cc:1086] Stats: \n",
      "Limit:                     22660055040\n",
      "InUse:                     21591854336\n",
      "MaxInUse:                  21591854336\n",
      "NumAllocs:                        3121\n",
      "MaxAllocSize:                640000000\n",
      "Reserved:                            0\n",
      "PeakReserved:                        0\n",
      "LargestFreeBlock:                    0\n",
      "\n",
      "2023-03-15 01:31:28.148801: W tensorflow/core/common_runtime/bfc_allocator.cc:474] *************************************************************_**************************************\n",
      "2023-03-15 01:31:28.148840: W tensorflow/core/framework/op_kernel.cc:1745] OP_REQUIRES failed at aggregate_ops.cc:65 : RESOURCE_EXHAUSTED: OOM when allocating tensor with shape[10000000,8] and type float on /job:localhost/replica:0/task:0/device:GPU:0 by allocator GPU_0_bfc\n"
     ]
    },
    {
     "ename": "ResourceExhaustedError",
     "evalue": "OOM when allocating tensor with shape[10000000,8] and type float on /job:localhost/replica:0/task:0/device:GPU:0 by allocator GPU_0_bfc [Op:AddN]",
     "output_type": "error",
     "traceback": [
      "\u001b[0;31m---------------------------------------------------------------------------\u001b[0m",
      "\u001b[0;31mResourceExhaustedError\u001b[0m                    Traceback (most recent call last)",
      "Input \u001b[0;32mIn [5]\u001b[0m, in \u001b[0;36m<cell line: 3>\u001b[0;34m()\u001b[0m\n\u001b[1;32m      1\u001b[0m y_trn \u001b[38;5;241m=\u001b[39m stats\u001b[38;5;241m.\u001b[39mbernoulli\u001b[38;5;241m.\u001b[39mrvs(\u001b[38;5;241m0.5\u001b[39m, size \u001b[38;5;241m=\u001b[39m N_trn)\n\u001b[0;32m----> 3\u001b[0m X_bkgd \u001b[38;5;241m=\u001b[39m \u001b[43msim_target\u001b[49m\u001b[38;5;241;43m.\u001b[39;49m\u001b[43msample\u001b[49m\u001b[43m(\u001b[49m\u001b[43mN_trn\u001b[49m\u001b[43m)\u001b[49m\u001b[38;5;241m.\u001b[39mnumpy()\n\u001b[1;32m      4\u001b[0m X_sgnl \u001b[38;5;241m=\u001b[39m dat_target\u001b[38;5;241m.\u001b[39msample(N_trn)\u001b[38;5;241m.\u001b[39mnumpy()\n\u001b[1;32m      6\u001b[0m X_trn \u001b[38;5;241m=\u001b[39m np\u001b[38;5;241m.\u001b[39mzeros_like(X_bkgd)\n",
      "File \u001b[0;32m/clusterfs/ml4hep/shahzar/miniconda/envs/multifold/lib/python3.10/site-packages/tensorflow_probability/python/distributions/distribution.py:1233\u001b[0m, in \u001b[0;36mDistribution.sample\u001b[0;34m(self, sample_shape, seed, name, **kwargs)\u001b[0m\n\u001b[1;32m   1218\u001b[0m \u001b[38;5;124;03m\"\"\"Generate samples of the specified shape.\u001b[39;00m\n\u001b[1;32m   1219\u001b[0m \n\u001b[1;32m   1220\u001b[0m \u001b[38;5;124;03mNote that a call to `sample()` without arguments will generate a single\u001b[39;00m\n\u001b[0;32m   (...)\u001b[0m\n\u001b[1;32m   1230\u001b[0m \u001b[38;5;124;03m  samples: a `Tensor` with prepended dimensions `sample_shape`.\u001b[39;00m\n\u001b[1;32m   1231\u001b[0m \u001b[38;5;124;03m\"\"\"\u001b[39;00m\n\u001b[1;32m   1232\u001b[0m \u001b[38;5;28;01mwith\u001b[39;00m \u001b[38;5;28mself\u001b[39m\u001b[38;5;241m.\u001b[39m_name_and_control_scope(name):\n\u001b[0;32m-> 1233\u001b[0m   \u001b[38;5;28;01mreturn\u001b[39;00m \u001b[38;5;28;43mself\u001b[39;49m\u001b[38;5;241;43m.\u001b[39;49m\u001b[43m_call_sample_n\u001b[49m\u001b[43m(\u001b[49m\u001b[43msample_shape\u001b[49m\u001b[43m,\u001b[49m\u001b[43m \u001b[49m\u001b[43mseed\u001b[49m\u001b[43m,\u001b[49m\u001b[43m \u001b[49m\u001b[38;5;241;43m*\u001b[39;49m\u001b[38;5;241;43m*\u001b[39;49m\u001b[43mkwargs\u001b[49m\u001b[43m)\u001b[49m\n",
      "File \u001b[0;32m/clusterfs/ml4hep/shahzar/miniconda/envs/multifold/lib/python3.10/site-packages/tensorflow_probability/python/distributions/transformed_distribution.py:349\u001b[0m, in \u001b[0;36mTransformedDistribution._call_sample_n\u001b[0;34m(self, sample_shape, seed, **kwargs)\u001b[0m\n\u001b[1;32m    344\u001b[0m x \u001b[38;5;241m=\u001b[39m \u001b[38;5;28mself\u001b[39m\u001b[38;5;241m.\u001b[39m_maybe_broadcast_distribution_batch_shape()\u001b[38;5;241m.\u001b[39msample(\n\u001b[1;32m    345\u001b[0m     sample_shape\u001b[38;5;241m=\u001b[39msample_shape, seed\u001b[38;5;241m=\u001b[39mseed, \u001b[38;5;241m*\u001b[39m\u001b[38;5;241m*\u001b[39mdistribution_kwargs)\n\u001b[1;32m    346\u001b[0m \u001b[38;5;66;03m# Apply the bijector's forward transformation. For caching to\u001b[39;00m\n\u001b[1;32m    347\u001b[0m \u001b[38;5;66;03m# work, it is imperative that this is the last modification to the\u001b[39;00m\n\u001b[1;32m    348\u001b[0m \u001b[38;5;66;03m# returned result.\u001b[39;00m\n\u001b[0;32m--> 349\u001b[0m \u001b[38;5;28;01mreturn\u001b[39;00m \u001b[38;5;28;43mself\u001b[39;49m\u001b[38;5;241;43m.\u001b[39;49m\u001b[43mbijector\u001b[49m\u001b[38;5;241;43m.\u001b[39;49m\u001b[43mforward\u001b[49m\u001b[43m(\u001b[49m\u001b[43mx\u001b[49m\u001b[43m,\u001b[49m\u001b[43m \u001b[49m\u001b[38;5;241;43m*\u001b[39;49m\u001b[38;5;241;43m*\u001b[39;49m\u001b[43mbijector_kwargs\u001b[49m\u001b[43m)\u001b[49m\n",
      "File \u001b[0;32m/clusterfs/ml4hep/shahzar/miniconda/envs/multifold/lib/python3.10/site-packages/tensorflow_probability/python/bijectors/bijector.py:1346\u001b[0m, in \u001b[0;36mBijector.forward\u001b[0;34m(self, x, name, **kwargs)\u001b[0m\n\u001b[1;32m   1330\u001b[0m \u001b[38;5;28;01mdef\u001b[39;00m \u001b[38;5;21mforward\u001b[39m(\u001b[38;5;28mself\u001b[39m, x, name\u001b[38;5;241m=\u001b[39m\u001b[38;5;124m'\u001b[39m\u001b[38;5;124mforward\u001b[39m\u001b[38;5;124m'\u001b[39m, \u001b[38;5;241m*\u001b[39m\u001b[38;5;241m*\u001b[39mkwargs):\n\u001b[1;32m   1331\u001b[0m   \u001b[38;5;124;03m\"\"\"Returns the forward `Bijector` evaluation, i.e., X = g(Y).\u001b[39;00m\n\u001b[1;32m   1332\u001b[0m \n\u001b[1;32m   1333\u001b[0m \u001b[38;5;124;03m  Args:\u001b[39;00m\n\u001b[0;32m   (...)\u001b[0m\n\u001b[1;32m   1344\u001b[0m \u001b[38;5;124;03m    NotImplementedError: if `_forward` is not implemented.\u001b[39;00m\n\u001b[1;32m   1345\u001b[0m \u001b[38;5;124;03m  \"\"\"\u001b[39;00m\n\u001b[0;32m-> 1346\u001b[0m   \u001b[38;5;28;01mreturn\u001b[39;00m \u001b[38;5;28;43mself\u001b[39;49m\u001b[38;5;241;43m.\u001b[39;49m\u001b[43m_call_forward\u001b[49m\u001b[43m(\u001b[49m\u001b[43mx\u001b[49m\u001b[43m,\u001b[49m\u001b[43m \u001b[49m\u001b[43mname\u001b[49m\u001b[43m,\u001b[49m\u001b[43m \u001b[49m\u001b[38;5;241;43m*\u001b[39;49m\u001b[38;5;241;43m*\u001b[39;49m\u001b[43mkwargs\u001b[49m\u001b[43m)\u001b[49m\n",
      "File \u001b[0;32m/clusterfs/ml4hep/shahzar/miniconda/envs/multifold/lib/python3.10/site-packages/tensorflow_probability/python/bijectors/bijector.py:1328\u001b[0m, in \u001b[0;36mBijector._call_forward\u001b[0;34m(self, x, name, **kwargs)\u001b[0m\n\u001b[1;32m   1326\u001b[0m \u001b[38;5;28;01mif\u001b[39;00m \u001b[38;5;129;01mnot\u001b[39;00m \u001b[38;5;28mself\u001b[39m\u001b[38;5;241m.\u001b[39m_is_injective:  \u001b[38;5;66;03m# No caching for non-injective\u001b[39;00m\n\u001b[1;32m   1327\u001b[0m   \u001b[38;5;28;01mreturn\u001b[39;00m \u001b[38;5;28mself\u001b[39m\u001b[38;5;241m.\u001b[39m_forward(x, \u001b[38;5;241m*\u001b[39m\u001b[38;5;241m*\u001b[39mkwargs)\n\u001b[0;32m-> 1328\u001b[0m \u001b[38;5;28;01mreturn\u001b[39;00m \u001b[38;5;28;43mself\u001b[39;49m\u001b[38;5;241;43m.\u001b[39;49m\u001b[43m_cache\u001b[49m\u001b[38;5;241;43m.\u001b[39;49m\u001b[43mforward\u001b[49m\u001b[43m(\u001b[49m\u001b[43mx\u001b[49m\u001b[43m,\u001b[49m\u001b[43m \u001b[49m\u001b[38;5;241;43m*\u001b[39;49m\u001b[38;5;241;43m*\u001b[39;49m\u001b[43mkwargs\u001b[49m\u001b[43m)\u001b[49m\n",
      "File \u001b[0;32m/clusterfs/ml4hep/shahzar/miniconda/envs/multifold/lib/python3.10/site-packages/tensorflow_probability/python/internal/cache_util.py:338\u001b[0m, in \u001b[0;36mBijectorCache.forward\u001b[0;34m(self, x, **kwargs)\u001b[0m\n\u001b[1;32m    327\u001b[0m \u001b[38;5;28;01mdef\u001b[39;00m \u001b[38;5;21mforward\u001b[39m(\u001b[38;5;28mself\u001b[39m, x, \u001b[38;5;241m*\u001b[39m\u001b[38;5;241m*\u001b[39mkwargs):\n\u001b[1;32m    328\u001b[0m   \u001b[38;5;124;03m\"\"\"Invokes the 'forward' transformation, or looks up previous results.\u001b[39;00m\n\u001b[1;32m    329\u001b[0m \n\u001b[1;32m    330\u001b[0m \u001b[38;5;124;03m  Args:\u001b[39;00m\n\u001b[0;32m   (...)\u001b[0m\n\u001b[1;32m    336\u001b[0m \u001b[38;5;124;03m    The output of the bijector's `_forward` method, or a cached result.\u001b[39;00m\n\u001b[1;32m    337\u001b[0m \u001b[38;5;124;03m  \"\"\"\u001b[39;00m\n\u001b[0;32m--> 338\u001b[0m   \u001b[38;5;28;01mreturn\u001b[39;00m \u001b[38;5;28;43mself\u001b[39;49m\u001b[38;5;241;43m.\u001b[39;49m\u001b[43m_lookup\u001b[49m\u001b[43m(\u001b[49m\u001b[43mx\u001b[49m\u001b[43m,\u001b[49m\u001b[43m \u001b[49m\u001b[38;5;28;43mself\u001b[39;49m\u001b[38;5;241;43m.\u001b[39;49m\u001b[43m_forward_name\u001b[49m\u001b[43m,\u001b[49m\u001b[43m \u001b[49m\u001b[38;5;28;43mself\u001b[39;49m\u001b[38;5;241;43m.\u001b[39;49m\u001b[43m_inverse_name\u001b[49m\u001b[43m,\u001b[49m\u001b[43m \u001b[49m\u001b[38;5;241;43m*\u001b[39;49m\u001b[38;5;241;43m*\u001b[39;49m\u001b[43mkwargs\u001b[49m\u001b[43m)\u001b[49m\n",
      "File \u001b[0;32m/clusterfs/ml4hep/shahzar/miniconda/envs/multifold/lib/python3.10/site-packages/tensorflow_probability/python/internal/cache_util.py:497\u001b[0m, in \u001b[0;36mBijectorCache._lookup\u001b[0;34m(self, input, forward_name, inverse_name, **kwargs)\u001b[0m\n\u001b[1;32m    491\u001b[0m   output \u001b[38;5;241m=\u001b[39m output_ref()\n\u001b[1;32m    492\u001b[0m \u001b[38;5;28;01melse\u001b[39;00m:\n\u001b[1;32m    493\u001b[0m   \u001b[38;5;66;03m# Get the output structure, and declare a\u001b[39;00m\n\u001b[1;32m    494\u001b[0m   \u001b[38;5;66;03m# weakref to clear it from the cache once it gets GCed\u001b[39;00m\n\u001b[1;32m    495\u001b[0m   output \u001b[38;5;241m=\u001b[39m nest\u001b[38;5;241m.\u001b[39mmap_structure(\n\u001b[1;32m    496\u001b[0m       _containerize,\n\u001b[0;32m--> 497\u001b[0m       \u001b[38;5;28;43mself\u001b[39;49m\u001b[38;5;241;43m.\u001b[39;49m\u001b[43m_invoke\u001b[49m\u001b[43m(\u001b[49m\u001b[38;5;28;43minput\u001b[39;49m\u001b[43m,\u001b[49m\u001b[43m \u001b[49m\u001b[43mforward_name\u001b[49m\u001b[43m,\u001b[49m\u001b[43m \u001b[49m\u001b[43mkwargs\u001b[49m\u001b[43m,\u001b[49m\u001b[43m \u001b[49m\u001b[43mattrs\u001b[49m\u001b[43m)\u001b[49m)\n\u001b[1;32m    498\u001b[0m   output_ref \u001b[38;5;241m=\u001b[39m WeakStructRef(\n\u001b[1;32m    499\u001b[0m       output,\n\u001b[1;32m    500\u001b[0m       subkey\u001b[38;5;241m=\u001b[39m(\u001b[38;5;28mself\u001b[39m\u001b[38;5;241m.\u001b[39mbijector, \u001b[38;5;28mself\u001b[39m\u001b[38;5;241m.\u001b[39mbijector_class, inverse_name, kwargs),\n\u001b[1;32m    501\u001b[0m       callback\u001b[38;5;241m=\u001b[39m\u001b[38;5;28mself\u001b[39m\u001b[38;5;241m.\u001b[39mstorage\u001b[38;5;241m.\u001b[39mmaybe_del)\n\u001b[1;32m    502\u001b[0m   \u001b[38;5;66;03m# Set the input->output mapping.\u001b[39;00m\n",
      "File \u001b[0;32m/clusterfs/ml4hep/shahzar/miniconda/envs/multifold/lib/python3.10/site-packages/tensorflow_probability/python/internal/cache_util.py:536\u001b[0m, in \u001b[0;36mBijectorCache._invoke\u001b[0;34m(self, input, fn_name, kwargs, attributes)\u001b[0m\n\u001b[1;32m    534\u001b[0m \u001b[38;5;28;01mdef\u001b[39;00m \u001b[38;5;21m_invoke\u001b[39m(\u001b[38;5;28mself\u001b[39m, \u001b[38;5;28minput\u001b[39m, fn_name, kwargs, attributes):  \u001b[38;5;66;03m# pylint: disable=unused-argument\u001b[39;00m\n\u001b[1;32m    535\u001b[0m   \u001b[38;5;124;03m\"\"\"Invokes the wrapped function. Override to customize behavior.\"\"\"\u001b[39;00m\n\u001b[0;32m--> 536\u001b[0m   \u001b[38;5;28;01mreturn\u001b[39;00m \u001b[38;5;28;43mgetattr\u001b[39;49m\u001b[43m(\u001b[49m\u001b[38;5;28;43mself\u001b[39;49m\u001b[38;5;241;43m.\u001b[39;49m\u001b[43mbijector\u001b[49m\u001b[43m,\u001b[49m\u001b[43m \u001b[49m\u001b[43mfn_name\u001b[49m\u001b[43m)\u001b[49m\u001b[43m(\u001b[49m\u001b[38;5;28;43minput\u001b[39;49m\u001b[43m,\u001b[49m\u001b[43m \u001b[49m\u001b[38;5;241;43m*\u001b[39;49m\u001b[38;5;241;43m*\u001b[39;49m\u001b[43mkwargs\u001b[49m\u001b[43m)\u001b[49m\n",
      "File \u001b[0;32m/clusterfs/ml4hep/shahzar/miniconda/envs/multifold/lib/python3.10/site-packages/tensorflow_probability/python/bijectors/composition.py:609\u001b[0m, in \u001b[0;36mComposition._forward\u001b[0;34m(self, x, **kwargs)\u001b[0m\n\u001b[1;32m    608\u001b[0m \u001b[38;5;28;01mdef\u001b[39;00m \u001b[38;5;21m_forward\u001b[39m(\u001b[38;5;28mself\u001b[39m, x, \u001b[38;5;241m*\u001b[39m\u001b[38;5;241m*\u001b[39mkwargs):\n\u001b[0;32m--> 609\u001b[0m   \u001b[38;5;28;01mreturn\u001b[39;00m \u001b[38;5;28;43mself\u001b[39;49m\u001b[38;5;241;43m.\u001b[39;49m\u001b[43m_call_walk_forward\u001b[49m\u001b[43m(\u001b[49m\n\u001b[1;32m    610\u001b[0m \u001b[43m      \u001b[49m\u001b[38;5;28;43;01mlambda\u001b[39;49;00m\u001b[43m \u001b[49m\u001b[43mb\u001b[49m\u001b[43m,\u001b[49m\u001b[43m \u001b[49m\u001b[43mx\u001b[49m\u001b[43m,\u001b[49m\u001b[43m \u001b[49m\u001b[38;5;241;43m*\u001b[39;49m\u001b[38;5;241;43m*\u001b[39;49m\u001b[43mkwargs\u001b[49m\u001b[43m:\u001b[49m\u001b[43m \u001b[49m\u001b[43mb\u001b[49m\u001b[38;5;241;43m.\u001b[39;49m\u001b[43mforward\u001b[49m\u001b[43m(\u001b[49m\u001b[43mx\u001b[49m\u001b[43m,\u001b[49m\u001b[43m \u001b[49m\u001b[38;5;241;43m*\u001b[39;49m\u001b[38;5;241;43m*\u001b[39;49m\u001b[43mkwargs\u001b[49m\u001b[43m)\u001b[49m\u001b[43m,\u001b[49m\n\u001b[1;32m    611\u001b[0m \u001b[43m      \u001b[49m\u001b[43mx\u001b[49m\u001b[43m,\u001b[49m\u001b[43m \u001b[49m\u001b[38;5;241;43m*\u001b[39;49m\u001b[38;5;241;43m*\u001b[39;49m\u001b[43mkwargs\u001b[49m\u001b[43m)\u001b[49m\n",
      "File \u001b[0;32m/clusterfs/ml4hep/shahzar/miniconda/envs/multifold/lib/python3.10/site-packages/tensorflow_probability/python/bijectors/composition.py:294\u001b[0m, in \u001b[0;36mComposition._call_walk_forward\u001b[0;34m(self, step_fn, *args, **kwargs)\u001b[0m\n\u001b[1;32m    290\u001b[0m args \u001b[38;5;241m=\u001b[39m \u001b[38;5;28mtuple\u001b[39m(nest_util\u001b[38;5;241m.\u001b[39mcoerce_structure(\u001b[38;5;28mself\u001b[39m\u001b[38;5;241m.\u001b[39mforward_min_event_ndims, x)\n\u001b[1;32m    291\u001b[0m              \u001b[38;5;28;01mfor\u001b[39;00m x \u001b[38;5;129;01min\u001b[39;00m args)\n\u001b[1;32m    293\u001b[0m \u001b[38;5;28;01mif\u001b[39;00m \u001b[38;5;28mlen\u001b[39m(args) \u001b[38;5;241m==\u001b[39m \u001b[38;5;241m1\u001b[39m:\n\u001b[0;32m--> 294\u001b[0m   \u001b[38;5;28;01mreturn\u001b[39;00m \u001b[38;5;28;43mself\u001b[39;49m\u001b[38;5;241;43m.\u001b[39;49m\u001b[43m_walk_forward\u001b[49m\u001b[43m(\u001b[49m\u001b[43mstep_fn\u001b[49m\u001b[43m,\u001b[49m\u001b[43m \u001b[49m\u001b[38;5;241;43m*\u001b[39;49m\u001b[43margs\u001b[49m\u001b[43m,\u001b[49m\u001b[43m \u001b[49m\u001b[38;5;241;43m*\u001b[39;49m\u001b[38;5;241;43m*\u001b[39;49m\u001b[43mkwargs\u001b[49m\u001b[43m)\u001b[49m\n\u001b[1;32m    296\u001b[0m \u001b[38;5;66;03m# Convert a tuple of structures to a structure of tuples. This\u001b[39;00m\n\u001b[1;32m    297\u001b[0m \u001b[38;5;66;03m# allows `_walk` methods to route aligned structures of inputs/outputs\u001b[39;00m\n\u001b[1;32m    298\u001b[0m \u001b[38;5;66;03m# independently, obviates the need for conditional tuple unpacking.\u001b[39;00m\n\u001b[1;32m    299\u001b[0m packed_args \u001b[38;5;241m=\u001b[39m pack_structs_like(\u001b[38;5;28mself\u001b[39m\u001b[38;5;241m.\u001b[39mforward_min_event_ndims, \u001b[38;5;241m*\u001b[39margs)\n",
      "File \u001b[0;32m/clusterfs/ml4hep/shahzar/miniconda/envs/multifold/lib/python3.10/site-packages/tensorflow_probability/python/bijectors/chain.py:146\u001b[0m, in \u001b[0;36m_Chain._walk_forward\u001b[0;34m(self, step_fn, x, **kwargs)\u001b[0m\n\u001b[1;32m    144\u001b[0m \u001b[38;5;124;03m\"\"\"Applies `transform_fn` to `x` sequentially over nested bijectors.\"\"\"\u001b[39;00m\n\u001b[1;32m    145\u001b[0m \u001b[38;5;28;01mfor\u001b[39;00m bij \u001b[38;5;129;01min\u001b[39;00m \u001b[38;5;28mreversed\u001b[39m(\u001b[38;5;28mself\u001b[39m\u001b[38;5;241m.\u001b[39m_bijectors):\n\u001b[0;32m--> 146\u001b[0m   x \u001b[38;5;241m=\u001b[39m \u001b[43mstep_fn\u001b[49m\u001b[43m(\u001b[49m\u001b[43mbij\u001b[49m\u001b[43m,\u001b[49m\u001b[43m \u001b[49m\u001b[43mx\u001b[49m\u001b[43m,\u001b[49m\u001b[43m \u001b[49m\u001b[38;5;241;43m*\u001b[39;49m\u001b[38;5;241;43m*\u001b[39;49m\u001b[43mkwargs\u001b[49m\u001b[38;5;241;43m.\u001b[39;49m\u001b[43mget\u001b[49m\u001b[43m(\u001b[49m\u001b[43mbij\u001b[49m\u001b[38;5;241;43m.\u001b[39;49m\u001b[43mname\u001b[49m\u001b[43m,\u001b[49m\u001b[43m \u001b[49m\u001b[43m{\u001b[49m\u001b[43m}\u001b[49m\u001b[43m)\u001b[49m\u001b[43m)\u001b[49m\n\u001b[1;32m    147\u001b[0m \u001b[38;5;28;01mreturn\u001b[39;00m x\n",
      "File \u001b[0;32m/clusterfs/ml4hep/shahzar/miniconda/envs/multifold/lib/python3.10/site-packages/tensorflow_probability/python/bijectors/composition.py:610\u001b[0m, in \u001b[0;36mComposition._forward.<locals>.<lambda>\u001b[0;34m(b, x, **kwargs)\u001b[0m\n\u001b[1;32m    608\u001b[0m \u001b[38;5;28;01mdef\u001b[39;00m \u001b[38;5;21m_forward\u001b[39m(\u001b[38;5;28mself\u001b[39m, x, \u001b[38;5;241m*\u001b[39m\u001b[38;5;241m*\u001b[39mkwargs):\n\u001b[1;32m    609\u001b[0m   \u001b[38;5;28;01mreturn\u001b[39;00m \u001b[38;5;28mself\u001b[39m\u001b[38;5;241m.\u001b[39m_call_walk_forward(\n\u001b[0;32m--> 610\u001b[0m       \u001b[38;5;28;01mlambda\u001b[39;00m b, x, \u001b[38;5;241m*\u001b[39m\u001b[38;5;241m*\u001b[39mkwargs: \u001b[43mb\u001b[49m\u001b[38;5;241;43m.\u001b[39;49m\u001b[43mforward\u001b[49m\u001b[43m(\u001b[49m\u001b[43mx\u001b[49m\u001b[43m,\u001b[49m\u001b[43m \u001b[49m\u001b[38;5;241;43m*\u001b[39;49m\u001b[38;5;241;43m*\u001b[39;49m\u001b[43mkwargs\u001b[49m\u001b[43m)\u001b[49m,\n\u001b[1;32m    611\u001b[0m       x, \u001b[38;5;241m*\u001b[39m\u001b[38;5;241m*\u001b[39mkwargs)\n",
      "File \u001b[0;32m/clusterfs/ml4hep/shahzar/miniconda/envs/multifold/lib/python3.10/site-packages/tensorflow_probability/python/bijectors/bijector.py:1346\u001b[0m, in \u001b[0;36mBijector.forward\u001b[0;34m(self, x, name, **kwargs)\u001b[0m\n\u001b[1;32m   1330\u001b[0m \u001b[38;5;28;01mdef\u001b[39;00m \u001b[38;5;21mforward\u001b[39m(\u001b[38;5;28mself\u001b[39m, x, name\u001b[38;5;241m=\u001b[39m\u001b[38;5;124m'\u001b[39m\u001b[38;5;124mforward\u001b[39m\u001b[38;5;124m'\u001b[39m, \u001b[38;5;241m*\u001b[39m\u001b[38;5;241m*\u001b[39mkwargs):\n\u001b[1;32m   1331\u001b[0m   \u001b[38;5;124;03m\"\"\"Returns the forward `Bijector` evaluation, i.e., X = g(Y).\u001b[39;00m\n\u001b[1;32m   1332\u001b[0m \n\u001b[1;32m   1333\u001b[0m \u001b[38;5;124;03m  Args:\u001b[39;00m\n\u001b[0;32m   (...)\u001b[0m\n\u001b[1;32m   1344\u001b[0m \u001b[38;5;124;03m    NotImplementedError: if `_forward` is not implemented.\u001b[39;00m\n\u001b[1;32m   1345\u001b[0m \u001b[38;5;124;03m  \"\"\"\u001b[39;00m\n\u001b[0;32m-> 1346\u001b[0m   \u001b[38;5;28;01mreturn\u001b[39;00m \u001b[38;5;28;43mself\u001b[39;49m\u001b[38;5;241;43m.\u001b[39;49m\u001b[43m_call_forward\u001b[49m\u001b[43m(\u001b[49m\u001b[43mx\u001b[49m\u001b[43m,\u001b[49m\u001b[43m \u001b[49m\u001b[43mname\u001b[49m\u001b[43m,\u001b[49m\u001b[43m \u001b[49m\u001b[38;5;241;43m*\u001b[39;49m\u001b[38;5;241;43m*\u001b[39;49m\u001b[43mkwargs\u001b[49m\u001b[43m)\u001b[49m\n",
      "File \u001b[0;32m/clusterfs/ml4hep/shahzar/miniconda/envs/multifold/lib/python3.10/site-packages/tensorflow_probability/python/bijectors/bijector.py:1328\u001b[0m, in \u001b[0;36mBijector._call_forward\u001b[0;34m(self, x, name, **kwargs)\u001b[0m\n\u001b[1;32m   1326\u001b[0m \u001b[38;5;28;01mif\u001b[39;00m \u001b[38;5;129;01mnot\u001b[39;00m \u001b[38;5;28mself\u001b[39m\u001b[38;5;241m.\u001b[39m_is_injective:  \u001b[38;5;66;03m# No caching for non-injective\u001b[39;00m\n\u001b[1;32m   1327\u001b[0m   \u001b[38;5;28;01mreturn\u001b[39;00m \u001b[38;5;28mself\u001b[39m\u001b[38;5;241m.\u001b[39m_forward(x, \u001b[38;5;241m*\u001b[39m\u001b[38;5;241m*\u001b[39mkwargs)\n\u001b[0;32m-> 1328\u001b[0m \u001b[38;5;28;01mreturn\u001b[39;00m \u001b[38;5;28;43mself\u001b[39;49m\u001b[38;5;241;43m.\u001b[39;49m\u001b[43m_cache\u001b[49m\u001b[38;5;241;43m.\u001b[39;49m\u001b[43mforward\u001b[49m\u001b[43m(\u001b[49m\u001b[43mx\u001b[49m\u001b[43m,\u001b[49m\u001b[43m \u001b[49m\u001b[38;5;241;43m*\u001b[39;49m\u001b[38;5;241;43m*\u001b[39;49m\u001b[43mkwargs\u001b[49m\u001b[43m)\u001b[49m\n",
      "File \u001b[0;32m/clusterfs/ml4hep/shahzar/miniconda/envs/multifold/lib/python3.10/site-packages/tensorflow_probability/python/internal/cache_util.py:338\u001b[0m, in \u001b[0;36mBijectorCache.forward\u001b[0;34m(self, x, **kwargs)\u001b[0m\n\u001b[1;32m    327\u001b[0m \u001b[38;5;28;01mdef\u001b[39;00m \u001b[38;5;21mforward\u001b[39m(\u001b[38;5;28mself\u001b[39m, x, \u001b[38;5;241m*\u001b[39m\u001b[38;5;241m*\u001b[39mkwargs):\n\u001b[1;32m    328\u001b[0m   \u001b[38;5;124;03m\"\"\"Invokes the 'forward' transformation, or looks up previous results.\u001b[39;00m\n\u001b[1;32m    329\u001b[0m \n\u001b[1;32m    330\u001b[0m \u001b[38;5;124;03m  Args:\u001b[39;00m\n\u001b[0;32m   (...)\u001b[0m\n\u001b[1;32m    336\u001b[0m \u001b[38;5;124;03m    The output of the bijector's `_forward` method, or a cached result.\u001b[39;00m\n\u001b[1;32m    337\u001b[0m \u001b[38;5;124;03m  \"\"\"\u001b[39;00m\n\u001b[0;32m--> 338\u001b[0m   \u001b[38;5;28;01mreturn\u001b[39;00m \u001b[38;5;28;43mself\u001b[39;49m\u001b[38;5;241;43m.\u001b[39;49m\u001b[43m_lookup\u001b[49m\u001b[43m(\u001b[49m\u001b[43mx\u001b[49m\u001b[43m,\u001b[49m\u001b[43m \u001b[49m\u001b[38;5;28;43mself\u001b[39;49m\u001b[38;5;241;43m.\u001b[39;49m\u001b[43m_forward_name\u001b[49m\u001b[43m,\u001b[49m\u001b[43m \u001b[49m\u001b[38;5;28;43mself\u001b[39;49m\u001b[38;5;241;43m.\u001b[39;49m\u001b[43m_inverse_name\u001b[49m\u001b[43m,\u001b[49m\u001b[43m \u001b[49m\u001b[38;5;241;43m*\u001b[39;49m\u001b[38;5;241;43m*\u001b[39;49m\u001b[43mkwargs\u001b[49m\u001b[43m)\u001b[49m\n",
      "File \u001b[0;32m/clusterfs/ml4hep/shahzar/miniconda/envs/multifold/lib/python3.10/site-packages/tensorflow_probability/python/internal/cache_util.py:497\u001b[0m, in \u001b[0;36mBijectorCache._lookup\u001b[0;34m(self, input, forward_name, inverse_name, **kwargs)\u001b[0m\n\u001b[1;32m    491\u001b[0m   output \u001b[38;5;241m=\u001b[39m output_ref()\n\u001b[1;32m    492\u001b[0m \u001b[38;5;28;01melse\u001b[39;00m:\n\u001b[1;32m    493\u001b[0m   \u001b[38;5;66;03m# Get the output structure, and declare a\u001b[39;00m\n\u001b[1;32m    494\u001b[0m   \u001b[38;5;66;03m# weakref to clear it from the cache once it gets GCed\u001b[39;00m\n\u001b[1;32m    495\u001b[0m   output \u001b[38;5;241m=\u001b[39m nest\u001b[38;5;241m.\u001b[39mmap_structure(\n\u001b[1;32m    496\u001b[0m       _containerize,\n\u001b[0;32m--> 497\u001b[0m       \u001b[38;5;28;43mself\u001b[39;49m\u001b[38;5;241;43m.\u001b[39;49m\u001b[43m_invoke\u001b[49m\u001b[43m(\u001b[49m\u001b[38;5;28;43minput\u001b[39;49m\u001b[43m,\u001b[49m\u001b[43m \u001b[49m\u001b[43mforward_name\u001b[49m\u001b[43m,\u001b[49m\u001b[43m \u001b[49m\u001b[43mkwargs\u001b[49m\u001b[43m,\u001b[49m\u001b[43m \u001b[49m\u001b[43mattrs\u001b[49m\u001b[43m)\u001b[49m)\n\u001b[1;32m    498\u001b[0m   output_ref \u001b[38;5;241m=\u001b[39m WeakStructRef(\n\u001b[1;32m    499\u001b[0m       output,\n\u001b[1;32m    500\u001b[0m       subkey\u001b[38;5;241m=\u001b[39m(\u001b[38;5;28mself\u001b[39m\u001b[38;5;241m.\u001b[39mbijector, \u001b[38;5;28mself\u001b[39m\u001b[38;5;241m.\u001b[39mbijector_class, inverse_name, kwargs),\n\u001b[1;32m    501\u001b[0m       callback\u001b[38;5;241m=\u001b[39m\u001b[38;5;28mself\u001b[39m\u001b[38;5;241m.\u001b[39mstorage\u001b[38;5;241m.\u001b[39mmaybe_del)\n\u001b[1;32m    502\u001b[0m   \u001b[38;5;66;03m# Set the input->output mapping.\u001b[39;00m\n",
      "File \u001b[0;32m/clusterfs/ml4hep/shahzar/miniconda/envs/multifold/lib/python3.10/site-packages/tensorflow_probability/python/internal/cache_util.py:570\u001b[0m, in \u001b[0;36mBijectorCacheWithGreedyAttrs._invoke\u001b[0;34m(self, input, fn_name, kwargs, attributes)\u001b[0m\n\u001b[1;32m    568\u001b[0m \u001b[38;5;28;01mdef\u001b[39;00m \u001b[38;5;21m_invoke\u001b[39m(\u001b[38;5;28mself\u001b[39m, \u001b[38;5;28minput\u001b[39m, fn_name, kwargs, attributes):  \u001b[38;5;66;03m# pylint: disable=redefined-builtin\u001b[39;00m\n\u001b[1;32m    569\u001b[0m   \u001b[38;5;66;03m# Update `attributes` with the attrs returned by `_func`.\u001b[39;00m\n\u001b[0;32m--> 570\u001b[0m   output, greedy_attrs \u001b[38;5;241m=\u001b[39m \u001b[38;5;28;43mgetattr\u001b[39;49m\u001b[43m(\u001b[49m\u001b[38;5;28;43mself\u001b[39;49m\u001b[38;5;241;43m.\u001b[39;49m\u001b[43mbijector\u001b[49m\u001b[43m,\u001b[49m\u001b[43m \u001b[49m\u001b[43mfn_name\u001b[49m\u001b[43m)\u001b[49m\u001b[43m(\u001b[49m\u001b[38;5;28;43minput\u001b[39;49m\u001b[43m,\u001b[49m\u001b[43m \u001b[49m\u001b[38;5;241;43m*\u001b[39;49m\u001b[38;5;241;43m*\u001b[39;49m\u001b[43mkwargs\u001b[49m\u001b[43m)\u001b[49m\n\u001b[1;32m    571\u001b[0m   \u001b[38;5;28;01mif\u001b[39;00m greedy_attrs \u001b[38;5;129;01mis\u001b[39;00m \u001b[38;5;129;01mnot\u001b[39;00m \u001b[38;5;28;01mNone\u001b[39;00m:\n\u001b[1;32m    572\u001b[0m     attributes\u001b[38;5;241m.\u001b[39mupdate(greedy_attrs)\n",
      "File \u001b[0;32m/clusterfs/ml4hep/shahzar/miniconda/envs/multifold/lib/python3.10/site-packages/tensorflow_probability/python/bijectors/ffjord.py:360\u001b[0m, in \u001b[0;36mFFJORD._augmented_forward\u001b[0;34m(self, x)\u001b[0m\n\u001b[1;32m    357\u001b[0m augmented_ode_fn \u001b[38;5;241m=\u001b[39m \u001b[38;5;28mself\u001b[39m\u001b[38;5;241m.\u001b[39m_trace_augmentation_fn(\n\u001b[1;32m    358\u001b[0m     \u001b[38;5;28mself\u001b[39m\u001b[38;5;241m.\u001b[39m_state_time_derivative_fn, x\u001b[38;5;241m.\u001b[39mshape, x\u001b[38;5;241m.\u001b[39mdtype)\n\u001b[1;32m    359\u001b[0m augmented_x \u001b[38;5;241m=\u001b[39m (x, tf\u001b[38;5;241m.\u001b[39mzeros(shape\u001b[38;5;241m=\u001b[39mx\u001b[38;5;241m.\u001b[39mshape, dtype\u001b[38;5;241m=\u001b[39mx\u001b[38;5;241m.\u001b[39mdtype))\n\u001b[0;32m--> 360\u001b[0m y, fldj \u001b[38;5;241m=\u001b[39m \u001b[38;5;28;43mself\u001b[39;49m\u001b[38;5;241;43m.\u001b[39;49m\u001b[43m_solve_ode\u001b[49m\u001b[43m(\u001b[49m\u001b[43maugmented_ode_fn\u001b[49m\u001b[43m,\u001b[49m\u001b[43m \u001b[49m\u001b[43maugmented_x\u001b[49m\u001b[43m)\u001b[49m\n\u001b[1;32m    361\u001b[0m \u001b[38;5;28;01mreturn\u001b[39;00m y, {\u001b[38;5;124m'\u001b[39m\u001b[38;5;124mildj\u001b[39m\u001b[38;5;124m'\u001b[39m: \u001b[38;5;241m-\u001b[39mfldj, \u001b[38;5;124m'\u001b[39m\u001b[38;5;124mfldj\u001b[39m\u001b[38;5;124m'\u001b[39m: fldj}\n",
      "File \u001b[0;32m/clusterfs/ml4hep/shahzar/miniconda/envs/multifold/lib/python3.10/site-packages/tensorflow_probability/python/bijectors/ffjord.py:346\u001b[0m, in \u001b[0;36mFFJORD._solve_ode\u001b[0;34m(self, ode_fn, state)\u001b[0m\n\u001b[1;32m    335\u001b[0m \u001b[38;5;28;01mdef\u001b[39;00m \u001b[38;5;21m_solve_ode\u001b[39m(\u001b[38;5;28mself\u001b[39m, ode_fn, state):\n\u001b[1;32m    336\u001b[0m   \u001b[38;5;124;03m\"\"\"Solves the initial value problem defined by `ode_fn`.\u001b[39;00m\n\u001b[1;32m    337\u001b[0m \n\u001b[1;32m    338\u001b[0m \u001b[38;5;124;03m  Args:\u001b[39;00m\n\u001b[0;32m   (...)\u001b[0m\n\u001b[1;32m    344\u001b[0m \u001b[38;5;124;03m      the solution of ODE defined by `ode_fn` at `self._final_time`.\u001b[39;00m\n\u001b[1;32m    345\u001b[0m \u001b[38;5;124;03m  \"\"\"\u001b[39;00m\n\u001b[0;32m--> 346\u001b[0m   integration_result \u001b[38;5;241m=\u001b[39m \u001b[38;5;28;43mself\u001b[39;49m\u001b[38;5;241;43m.\u001b[39;49m\u001b[43m_ode_solve_fn\u001b[49m\u001b[43m(\u001b[49m\n\u001b[1;32m    347\u001b[0m \u001b[43m      \u001b[49m\u001b[43mode_fn\u001b[49m\u001b[38;5;241;43m=\u001b[39;49m\u001b[43mode_fn\u001b[49m\u001b[43m,\u001b[49m\n\u001b[1;32m    348\u001b[0m \u001b[43m      \u001b[49m\u001b[43minitial_time\u001b[49m\u001b[38;5;241;43m=\u001b[39;49m\u001b[38;5;28;43mself\u001b[39;49m\u001b[38;5;241;43m.\u001b[39;49m\u001b[43m_initial_time\u001b[49m\u001b[43m,\u001b[49m\n\u001b[1;32m    349\u001b[0m \u001b[43m      \u001b[49m\u001b[43minitial_state\u001b[49m\u001b[38;5;241;43m=\u001b[39;49m\u001b[43mstate\u001b[49m\u001b[43m,\u001b[49m\n\u001b[1;32m    350\u001b[0m \u001b[43m      \u001b[49m\u001b[43msolution_times\u001b[49m\u001b[38;5;241;43m=\u001b[39;49m\u001b[43m[\u001b[49m\u001b[38;5;28;43mself\u001b[39;49m\u001b[38;5;241;43m.\u001b[39;49m\u001b[43m_final_time\u001b[49m\u001b[43m]\u001b[49m\u001b[43m)\u001b[49m\n\u001b[1;32m    351\u001b[0m   final_state \u001b[38;5;241m=\u001b[39m tf\u001b[38;5;241m.\u001b[39mnest\u001b[38;5;241m.\u001b[39mmap_structure(\n\u001b[1;32m    352\u001b[0m       \u001b[38;5;28;01mlambda\u001b[39;00m x: x[\u001b[38;5;241m-\u001b[39m\u001b[38;5;241m1\u001b[39m], integration_result\u001b[38;5;241m.\u001b[39mstates)\n\u001b[1;32m    353\u001b[0m   \u001b[38;5;28;01mreturn\u001b[39;00m final_state\n",
      "File \u001b[0;32m/clusterfs/ml4hep/shahzar/miniconda/envs/multifold/lib/python3.10/site-packages/tensorflow_probability/python/math/ode/base.py:484\u001b[0m, in \u001b[0;36mSolver.solve\u001b[0;34m(self, ode_fn, initial_time, initial_state, solution_times, jacobian_fn, jacobian_sparsity, batch_ndims, previous_solver_internal_state, constants)\u001b[0m\n\u001b[1;32m    481\u001b[0m \u001b[38;5;66;03m# TODO(b/140760650): We must use a resource-using variable scope, otherwise\u001b[39;00m\n\u001b[1;32m    482\u001b[0m \u001b[38;5;66;03m# custom_gradient will complain even if there are no variables in `ode_fn`.\u001b[39;00m\n\u001b[1;32m    483\u001b[0m \u001b[38;5;28;01mwith\u001b[39;00m tf1\u001b[38;5;241m.\u001b[39mvariable_scope(tf1\u001b[38;5;241m.\u001b[39mget_variable_scope(), use_resource\u001b[38;5;241m=\u001b[39m\u001b[38;5;28;01mTrue\u001b[39;00m):\n\u001b[0;32m--> 484\u001b[0m   \u001b[38;5;28;01mreturn\u001b[39;00m \u001b[43mgradient_helper\u001b[49m\u001b[43m(\u001b[49m\u001b[43minitial_state\u001b[49m\u001b[43m,\u001b[49m\u001b[43m \u001b[49m\u001b[43mconstants\u001b[49m\u001b[43m)\u001b[49m\n",
      "File \u001b[0;32m/clusterfs/ml4hep/shahzar/miniconda/envs/multifold/lib/python3.10/site-packages/tensorflow_probability/python/internal/custom_gradient.py:117\u001b[0m, in \u001b[0;36mcustom_gradient.<locals>.finalize.<locals>.none_wrapper\u001b[0;34m(*args, **kwargs)\u001b[0m\n\u001b[1;32m    113\u001b[0m       \u001b[38;5;28;01mreturn\u001b[39;00m result\n\u001b[1;32m    115\u001b[0m   \u001b[38;5;28;01mreturn\u001b[39;00m val, vjp_bwd_wrapped\n\u001b[0;32m--> 117\u001b[0m \u001b[38;5;28;01mreturn\u001b[39;00m \u001b[43mf_wrapped\u001b[49m\u001b[43m(\u001b[49m\u001b[38;5;241;43m*\u001b[39;49m\u001b[43mtrimmed_args\u001b[49m\u001b[43m,\u001b[49m\u001b[43m \u001b[49m\u001b[38;5;241;43m*\u001b[39;49m\u001b[38;5;241;43m*\u001b[39;49m\u001b[43mkwargs\u001b[49m\u001b[43m)\u001b[49m\n",
      "File \u001b[0;32m/clusterfs/ml4hep/shahzar/miniconda/envs/multifold/lib/python3.10/site-packages/tensorflow/python/ops/custom_gradient.py:339\u001b[0m, in \u001b[0;36mBind.__call__\u001b[0;34m(self, *a, **k)\u001b[0m\n\u001b[1;32m    338\u001b[0m \u001b[38;5;28;01mdef\u001b[39;00m \u001b[38;5;21m__call__\u001b[39m(\u001b[38;5;28mself\u001b[39m, \u001b[38;5;241m*\u001b[39ma, \u001b[38;5;241m*\u001b[39m\u001b[38;5;241m*\u001b[39mk):\n\u001b[0;32m--> 339\u001b[0m   \u001b[38;5;28;01mreturn\u001b[39;00m \u001b[38;5;28;43mself\u001b[39;49m\u001b[38;5;241;43m.\u001b[39;49m\u001b[43m_d\u001b[49m\u001b[43m(\u001b[49m\u001b[38;5;28;43mself\u001b[39;49m\u001b[38;5;241;43m.\u001b[39;49m\u001b[43m_f\u001b[49m\u001b[43m,\u001b[49m\u001b[43m \u001b[49m\u001b[43ma\u001b[49m\u001b[43m,\u001b[49m\u001b[43m \u001b[49m\u001b[43mk\u001b[49m\u001b[43m)\u001b[49m\n",
      "File \u001b[0;32m/clusterfs/ml4hep/shahzar/miniconda/envs/multifold/lib/python3.10/site-packages/tensorflow/python/ops/custom_gradient.py:293\u001b[0m, in \u001b[0;36mcustom_gradient.<locals>.decorated\u001b[0;34m(wrapped, args, kwargs)\u001b[0m\n\u001b[1;32m    291\u001b[0m \u001b[38;5;124;03m\"\"\"Decorated function with custom gradient.\"\"\"\u001b[39;00m\n\u001b[1;32m    292\u001b[0m \u001b[38;5;28;01mif\u001b[39;00m context\u001b[38;5;241m.\u001b[39mexecuting_eagerly():\n\u001b[0;32m--> 293\u001b[0m   \u001b[38;5;28;01mreturn\u001b[39;00m \u001b[43m_eager_mode_decorator\u001b[49m\u001b[43m(\u001b[49m\u001b[43mwrapped\u001b[49m\u001b[43m,\u001b[49m\u001b[43m \u001b[49m\u001b[43margs\u001b[49m\u001b[43m,\u001b[49m\u001b[43m \u001b[49m\u001b[43mkwargs\u001b[49m\u001b[43m)\u001b[49m\n\u001b[1;32m    294\u001b[0m \u001b[38;5;28;01melse\u001b[39;00m:\n\u001b[1;32m    295\u001b[0m   \u001b[38;5;28;01mreturn\u001b[39;00m _graph_mode_decorator(wrapped, args, kwargs)\n",
      "File \u001b[0;32m/clusterfs/ml4hep/shahzar/miniconda/envs/multifold/lib/python3.10/site-packages/tensorflow/python/ops/custom_gradient.py:530\u001b[0m, in \u001b[0;36m_eager_mode_decorator\u001b[0;34m(f, args, kwargs)\u001b[0m\n\u001b[1;32m    528\u001b[0m \u001b[38;5;124;03m\"\"\"Implement custom gradient decorator for eager mode.\"\"\"\u001b[39;00m\n\u001b[1;32m    529\u001b[0m \u001b[38;5;28;01mwith\u001b[39;00m tape_lib\u001b[38;5;241m.\u001b[39mVariableWatcher() \u001b[38;5;28;01mas\u001b[39;00m variable_watcher:\n\u001b[0;32m--> 530\u001b[0m   result, grad_fn \u001b[38;5;241m=\u001b[39m \u001b[43mf\u001b[49m\u001b[43m(\u001b[49m\u001b[38;5;241;43m*\u001b[39;49m\u001b[43margs\u001b[49m\u001b[43m,\u001b[49m\u001b[43m \u001b[49m\u001b[38;5;241;43m*\u001b[39;49m\u001b[38;5;241;43m*\u001b[39;49m\u001b[43mkwargs\u001b[49m\u001b[43m)\u001b[49m\n\u001b[1;32m    531\u001b[0m args \u001b[38;5;241m=\u001b[39m nest\u001b[38;5;241m.\u001b[39mflatten(args)\n\u001b[1;32m    532\u001b[0m all_inputs \u001b[38;5;241m=\u001b[39m \u001b[38;5;28mlist\u001b[39m(args) \u001b[38;5;241m+\u001b[39m \u001b[38;5;28mlist\u001b[39m(kwargs\u001b[38;5;241m.\u001b[39mvalues())\n",
      "File \u001b[0;32m/clusterfs/ml4hep/shahzar/miniconda/envs/multifold/lib/python3.10/site-packages/tensorflow_probability/python/internal/custom_gradient.py:93\u001b[0m, in \u001b[0;36mcustom_gradient.<locals>.finalize.<locals>.none_wrapper.<locals>.f_wrapped\u001b[0;34m(*args, **kwargs)\u001b[0m\n\u001b[1;32m     91\u001b[0m     reconstruct_args\u001b[38;5;241m.\u001b[39mappend(args[\u001b[38;5;241m0\u001b[39m])\n\u001b[1;32m     92\u001b[0m     args \u001b[38;5;241m=\u001b[39m args[\u001b[38;5;241m1\u001b[39m:]\n\u001b[0;32m---> 93\u001b[0m val, aux \u001b[38;5;241m=\u001b[39m \u001b[43mvjp_fwd\u001b[49m\u001b[43m(\u001b[49m\u001b[38;5;241;43m*\u001b[39;49m\u001b[43mreconstruct_args\u001b[49m\u001b[43m,\u001b[49m\u001b[43m \u001b[49m\u001b[38;5;241;43m*\u001b[39;49m\u001b[38;5;241;43m*\u001b[39;49m\u001b[43mkwargs\u001b[49m\u001b[43m)\u001b[49m\n\u001b[1;32m     95\u001b[0m \u001b[38;5;28;01mdef\u001b[39;00m \u001b[38;5;21mvjp_bwd_wrapped\u001b[39m(\u001b[38;5;241m*\u001b[39mg, \u001b[38;5;241m*\u001b[39m\u001b[38;5;241m*\u001b[39mkwargs):\n\u001b[1;32m     96\u001b[0m   \u001b[38;5;66;03m# We don't want to use an explicit `variables` arg, because TF will\u001b[39;00m\n\u001b[1;32m     97\u001b[0m   \u001b[38;5;66;03m# complain if the wrapped function doesn't actually have variables\u001b[39;00m\n\u001b[1;32m     98\u001b[0m   \u001b[38;5;66;03m# in it. TF will only specify this arg if there are variables.\u001b[39;00m\n\u001b[1;32m     99\u001b[0m   variables \u001b[38;5;241m=\u001b[39m kwargs\u001b[38;5;241m.\u001b[39mget(\u001b[38;5;124m'\u001b[39m\u001b[38;5;124mvariables\u001b[39m\u001b[38;5;124m'\u001b[39m, ())\n",
      "File \u001b[0;32m/clusterfs/ml4hep/shahzar/miniconda/envs/multifold/lib/python3.10/site-packages/tensorflow_probability/python/math/ode/base.py:226\u001b[0m, in \u001b[0;36mSolver.solve.<locals>.vjp_fwd\u001b[0;34m(initial_state, constants)\u001b[0m\n\u001b[1;32m    225\u001b[0m \u001b[38;5;28;01mdef\u001b[39;00m \u001b[38;5;21mvjp_fwd\u001b[39m(initial_state, constants):\n\u001b[0;32m--> 226\u001b[0m   results \u001b[38;5;241m=\u001b[39m \u001b[38;5;28;43mself\u001b[39;49m\u001b[38;5;241;43m.\u001b[39;49m\u001b[43m_solve\u001b[49m\u001b[43m(\u001b[49m\n\u001b[1;32m    227\u001b[0m \u001b[43m      \u001b[49m\u001b[43mode_fn\u001b[49m\u001b[38;5;241;43m=\u001b[39;49m\u001b[43mfunctools\u001b[49m\u001b[38;5;241;43m.\u001b[39;49m\u001b[43mpartial\u001b[49m\u001b[43m(\u001b[49m\u001b[43mode_fn\u001b[49m\u001b[43m,\u001b[49m\u001b[43m \u001b[49m\u001b[38;5;241;43m*\u001b[39;49m\u001b[38;5;241;43m*\u001b[39;49m\u001b[43mconstants\u001b[49m\u001b[43m)\u001b[49m\u001b[43m,\u001b[49m\n\u001b[1;32m    228\u001b[0m \u001b[43m      \u001b[49m\u001b[43minitial_time\u001b[49m\u001b[38;5;241;43m=\u001b[39;49m\u001b[43minitial_time\u001b[49m\u001b[43m,\u001b[49m\n\u001b[1;32m    229\u001b[0m \u001b[43m      \u001b[49m\u001b[43minitial_state\u001b[49m\u001b[38;5;241;43m=\u001b[39;49m\u001b[43minitial_state\u001b[49m\u001b[43m,\u001b[49m\n\u001b[1;32m    230\u001b[0m \u001b[43m      \u001b[49m\u001b[43msolution_times\u001b[49m\u001b[38;5;241;43m=\u001b[39;49m\u001b[43msolution_times\u001b[49m\u001b[43m,\u001b[49m\n\u001b[1;32m    231\u001b[0m \u001b[43m      \u001b[49m\u001b[43mjacobian_fn\u001b[49m\u001b[38;5;241;43m=\u001b[39;49m\u001b[43mjacobian_fn\u001b[49m\u001b[43m,\u001b[49m\n\u001b[1;32m    232\u001b[0m \u001b[43m      \u001b[49m\u001b[43mjacobian_sparsity\u001b[49m\u001b[38;5;241;43m=\u001b[39;49m\u001b[43mjacobian_sparsity\u001b[49m\u001b[43m,\u001b[49m\n\u001b[1;32m    233\u001b[0m \u001b[43m      \u001b[49m\u001b[43mbatch_ndims\u001b[49m\u001b[38;5;241;43m=\u001b[39;49m\u001b[43mbatch_ndims\u001b[49m\u001b[43m,\u001b[49m\n\u001b[1;32m    234\u001b[0m \u001b[43m      \u001b[49m\u001b[43mprevious_solver_internal_state\u001b[49m\u001b[38;5;241;43m=\u001b[39;49m\u001b[43mprevious_solver_internal_state\u001b[49m\u001b[43m,\u001b[49m\n\u001b[1;32m    235\u001b[0m \u001b[43m  \u001b[49m\u001b[43m)\u001b[49m\n\u001b[1;32m    236\u001b[0m   results \u001b[38;5;241m=\u001b[39m Results(\n\u001b[1;32m    237\u001b[0m       times\u001b[38;5;241m=\u001b[39mtf\u001b[38;5;241m.\u001b[39mstop_gradient(results\u001b[38;5;241m.\u001b[39mtimes),\n\u001b[1;32m    238\u001b[0m       states\u001b[38;5;241m=\u001b[39mresults\u001b[38;5;241m.\u001b[39mstates,\n\u001b[0;32m   (...)\u001b[0m\n\u001b[1;32m    241\u001b[0m       solver_internal_state\u001b[38;5;241m=\u001b[39mutil\u001b[38;5;241m.\u001b[39mstop_gradient_of_real_or_complex_entries(\n\u001b[1;32m    242\u001b[0m           results\u001b[38;5;241m.\u001b[39msolver_internal_state))\n\u001b[1;32m    243\u001b[0m   \u001b[38;5;28;01mreturn\u001b[39;00m results, (results, constants)\n",
      "File \u001b[0;32m/clusterfs/ml4hep/shahzar/miniconda/envs/multifold/lib/python3.10/site-packages/tensorflow_probability/python/math/ode/dormand_prince.py:291\u001b[0m, in \u001b[0;36mDormandPrince._solve\u001b[0;34m(***failed resolving arguments***)\u001b[0m\n\u001b[1;32m    286\u001b[0m   \u001b[38;5;28;01mdef\u001b[39;00m \u001b[38;5;21miterate_cond\u001b[39m(time_id, \u001b[38;5;241m*\u001b[39m_):\n\u001b[1;32m    287\u001b[0m     \u001b[38;5;28;01mreturn\u001b[39;00m time_id \u001b[38;5;241m<\u001b[39m num_solution_times\n\u001b[1;32m    289\u001b[0m   [\n\u001b[1;32m    290\u001b[0m       _, solver_internal_state, diagnostics, solutions_arrays\n\u001b[0;32m--> 291\u001b[0m   ] \u001b[38;5;241m=\u001b[39m \u001b[43mtf\u001b[49m\u001b[38;5;241;43m.\u001b[39;49m\u001b[43mwhile_loop\u001b[49m\u001b[43m(\u001b[49m\u001b[43miterate_cond\u001b[49m\u001b[43m,\u001b[49m\u001b[43m \u001b[49m\u001b[43madvance_to_solution_time\u001b[49m\u001b[43m,\u001b[49m\u001b[43m \u001b[49m\u001b[43m[\u001b[49m\n\u001b[1;32m    292\u001b[0m \u001b[43m      \u001b[49m\u001b[38;5;241;43m0\u001b[39;49m\u001b[43m,\u001b[49m\u001b[43m \u001b[49m\u001b[43msolver_internal_state\u001b[49m\u001b[43m,\u001b[49m\u001b[43m \u001b[49m\u001b[43mdiagnostics\u001b[49m\u001b[43m,\u001b[49m\u001b[43m \u001b[49m\u001b[43msolutions_arrays\u001b[49m\n\u001b[1;32m    293\u001b[0m \u001b[43m  \u001b[49m\u001b[43m]\u001b[49m\u001b[43m)\u001b[49m\n\u001b[1;32m    295\u001b[0m times \u001b[38;5;241m=\u001b[39m times_array\u001b[38;5;241m.\u001b[39mstack()\n\u001b[1;32m    296\u001b[0m stack_components \u001b[38;5;241m=\u001b[39m \u001b[38;5;28;01mlambda\u001b[39;00m x: x\u001b[38;5;241m.\u001b[39mstack()\n",
      "File \u001b[0;32m/clusterfs/ml4hep/shahzar/miniconda/envs/multifold/lib/python3.10/site-packages/tensorflow/python/util/deprecation.py:616\u001b[0m, in \u001b[0;36mdeprecated_arg_values.<locals>.deprecated_wrapper.<locals>.new_func\u001b[0;34m(*args, **kwargs)\u001b[0m\n\u001b[1;32m    609\u001b[0m           _PRINTED_WARNING[(func, arg_name)] \u001b[38;5;241m=\u001b[39m \u001b[38;5;28;01mTrue\u001b[39;00m\n\u001b[1;32m    610\u001b[0m         logging\u001b[38;5;241m.\u001b[39mwarning(\n\u001b[1;32m    611\u001b[0m             \u001b[38;5;124m'\u001b[39m\u001b[38;5;124mFrom \u001b[39m\u001b[38;5;132;01m%s\u001b[39;00m\u001b[38;5;124m: calling \u001b[39m\u001b[38;5;132;01m%s\u001b[39;00m\u001b[38;5;124m (from \u001b[39m\u001b[38;5;132;01m%s\u001b[39;00m\u001b[38;5;124m) with \u001b[39m\u001b[38;5;132;01m%s\u001b[39;00m\u001b[38;5;124m=\u001b[39m\u001b[38;5;132;01m%s\u001b[39;00m\u001b[38;5;124m is deprecated and \u001b[39m\u001b[38;5;124m'\u001b[39m\n\u001b[1;32m    612\u001b[0m             \u001b[38;5;124m'\u001b[39m\u001b[38;5;124mwill be removed \u001b[39m\u001b[38;5;132;01m%s\u001b[39;00m\u001b[38;5;124m.\u001b[39m\u001b[38;5;130;01m\\n\u001b[39;00m\u001b[38;5;124mInstructions for updating:\u001b[39m\u001b[38;5;130;01m\\n\u001b[39;00m\u001b[38;5;132;01m%s\u001b[39;00m\u001b[38;5;124m'\u001b[39m,\n\u001b[1;32m    613\u001b[0m             _call_location(), decorator_utils\u001b[38;5;241m.\u001b[39mget_qualified_name(func),\n\u001b[1;32m    614\u001b[0m             func\u001b[38;5;241m.\u001b[39m\u001b[38;5;18m__module__\u001b[39m, arg_name, arg_value, \u001b[38;5;124m'\u001b[39m\u001b[38;5;124min a future version\u001b[39m\u001b[38;5;124m'\u001b[39m\n\u001b[1;32m    615\u001b[0m             \u001b[38;5;28;01mif\u001b[39;00m date \u001b[38;5;129;01mis\u001b[39;00m \u001b[38;5;28;01mNone\u001b[39;00m \u001b[38;5;28;01melse\u001b[39;00m (\u001b[38;5;124m'\u001b[39m\u001b[38;5;124mafter \u001b[39m\u001b[38;5;132;01m%s\u001b[39;00m\u001b[38;5;124m'\u001b[39m \u001b[38;5;241m%\u001b[39m date), instructions)\n\u001b[0;32m--> 616\u001b[0m \u001b[38;5;28;01mreturn\u001b[39;00m \u001b[43mfunc\u001b[49m\u001b[43m(\u001b[49m\u001b[38;5;241;43m*\u001b[39;49m\u001b[43margs\u001b[49m\u001b[43m,\u001b[49m\u001b[43m \u001b[49m\u001b[38;5;241;43m*\u001b[39;49m\u001b[38;5;241;43m*\u001b[39;49m\u001b[43mkwargs\u001b[49m\u001b[43m)\u001b[49m\n",
      "File \u001b[0;32m/clusterfs/ml4hep/shahzar/miniconda/envs/multifold/lib/python3.10/site-packages/tensorflow/python/ops/control_flow_ops.py:2548\u001b[0m, in \u001b[0;36mwhile_loop_v2\u001b[0;34m(cond, body, loop_vars, shape_invariants, parallel_iterations, back_prop, swap_memory, maximum_iterations, name)\u001b[0m\n\u001b[1;32m   2372\u001b[0m \u001b[38;5;129m@tf_export\u001b[39m(\u001b[38;5;124m\"\u001b[39m\u001b[38;5;124mwhile_loop\u001b[39m\u001b[38;5;124m\"\u001b[39m, v1\u001b[38;5;241m=\u001b[39m[])\n\u001b[1;32m   2373\u001b[0m \u001b[38;5;129m@deprecation\u001b[39m\u001b[38;5;241m.\u001b[39mdeprecated_arg_values(\n\u001b[1;32m   2374\u001b[0m     \u001b[38;5;28;01mNone\u001b[39;00m,\n\u001b[0;32m   (...)\u001b[0m\n\u001b[1;32m   2389\u001b[0m                   maximum_iterations\u001b[38;5;241m=\u001b[39m\u001b[38;5;28;01mNone\u001b[39;00m,\n\u001b[1;32m   2390\u001b[0m                   name\u001b[38;5;241m=\u001b[39m\u001b[38;5;28;01mNone\u001b[39;00m):\n\u001b[1;32m   2391\u001b[0m   \u001b[38;5;124;03m\"\"\"Repeat `body` while the condition `cond` is true.\u001b[39;00m\n\u001b[1;32m   2392\u001b[0m \n\u001b[1;32m   2393\u001b[0m \u001b[38;5;124;03m  `cond` is a callable returning a boolean scalar tensor. `body` is a callable\u001b[39;00m\n\u001b[0;32m   (...)\u001b[0m\n\u001b[1;32m   2546\u001b[0m \n\u001b[1;32m   2547\u001b[0m \u001b[38;5;124;03m  \"\"\"\u001b[39;00m\n\u001b[0;32m-> 2548\u001b[0m   \u001b[38;5;28;01mreturn\u001b[39;00m \u001b[43mwhile_loop\u001b[49m\u001b[43m(\u001b[49m\n\u001b[1;32m   2549\u001b[0m \u001b[43m      \u001b[49m\u001b[43mcond\u001b[49m\u001b[38;5;241;43m=\u001b[39;49m\u001b[43mcond\u001b[49m\u001b[43m,\u001b[49m\n\u001b[1;32m   2550\u001b[0m \u001b[43m      \u001b[49m\u001b[43mbody\u001b[49m\u001b[38;5;241;43m=\u001b[39;49m\u001b[43mbody\u001b[49m\u001b[43m,\u001b[49m\n\u001b[1;32m   2551\u001b[0m \u001b[43m      \u001b[49m\u001b[43mloop_vars\u001b[49m\u001b[38;5;241;43m=\u001b[39;49m\u001b[43mloop_vars\u001b[49m\u001b[43m,\u001b[49m\n\u001b[1;32m   2552\u001b[0m \u001b[43m      \u001b[49m\u001b[43mshape_invariants\u001b[49m\u001b[38;5;241;43m=\u001b[39;49m\u001b[43mshape_invariants\u001b[49m\u001b[43m,\u001b[49m\n\u001b[1;32m   2553\u001b[0m \u001b[43m      \u001b[49m\u001b[43mparallel_iterations\u001b[49m\u001b[38;5;241;43m=\u001b[39;49m\u001b[43mparallel_iterations\u001b[49m\u001b[43m,\u001b[49m\n\u001b[1;32m   2554\u001b[0m \u001b[43m      \u001b[49m\u001b[43mback_prop\u001b[49m\u001b[38;5;241;43m=\u001b[39;49m\u001b[43mback_prop\u001b[49m\u001b[43m,\u001b[49m\n\u001b[1;32m   2555\u001b[0m \u001b[43m      \u001b[49m\u001b[43mswap_memory\u001b[49m\u001b[38;5;241;43m=\u001b[39;49m\u001b[43mswap_memory\u001b[49m\u001b[43m,\u001b[49m\n\u001b[1;32m   2556\u001b[0m \u001b[43m      \u001b[49m\u001b[43mname\u001b[49m\u001b[38;5;241;43m=\u001b[39;49m\u001b[43mname\u001b[49m\u001b[43m,\u001b[49m\n\u001b[1;32m   2557\u001b[0m \u001b[43m      \u001b[49m\u001b[43mmaximum_iterations\u001b[49m\u001b[38;5;241;43m=\u001b[39;49m\u001b[43mmaximum_iterations\u001b[49m\u001b[43m,\u001b[49m\n\u001b[1;32m   2558\u001b[0m \u001b[43m      \u001b[49m\u001b[43mreturn_same_structure\u001b[49m\u001b[38;5;241;43m=\u001b[39;49m\u001b[38;5;28;43;01mTrue\u001b[39;49;00m\u001b[43m)\u001b[49m\n",
      "File \u001b[0;32m/clusterfs/ml4hep/shahzar/miniconda/envs/multifold/lib/python3.10/site-packages/tensorflow/python/ops/control_flow_ops.py:2795\u001b[0m, in \u001b[0;36mwhile_loop\u001b[0;34m(cond, body, loop_vars, shape_invariants, parallel_iterations, back_prop, swap_memory, name, maximum_iterations, return_same_structure)\u001b[0m\n\u001b[1;32m   2792\u001b[0m loop_var_structure \u001b[38;5;241m=\u001b[39m nest\u001b[38;5;241m.\u001b[39mmap_structure(type_spec\u001b[38;5;241m.\u001b[39mtype_spec_from_value,\n\u001b[1;32m   2793\u001b[0m                                         \u001b[38;5;28mlist\u001b[39m(loop_vars))\n\u001b[1;32m   2794\u001b[0m \u001b[38;5;28;01mwhile\u001b[39;00m cond(\u001b[38;5;241m*\u001b[39mloop_vars):\n\u001b[0;32m-> 2795\u001b[0m   loop_vars \u001b[38;5;241m=\u001b[39m \u001b[43mbody\u001b[49m\u001b[43m(\u001b[49m\u001b[38;5;241;43m*\u001b[39;49m\u001b[43mloop_vars\u001b[49m\u001b[43m)\u001b[49m\n\u001b[1;32m   2796\u001b[0m   \u001b[38;5;28;01mif\u001b[39;00m try_to_pack \u001b[38;5;129;01mand\u001b[39;00m \u001b[38;5;129;01mnot\u001b[39;00m \u001b[38;5;28misinstance\u001b[39m(loop_vars, (\u001b[38;5;28mlist\u001b[39m, _basetuple)):\n\u001b[1;32m   2797\u001b[0m     packed \u001b[38;5;241m=\u001b[39m \u001b[38;5;28;01mTrue\u001b[39;00m\n",
      "File \u001b[0;32m/clusterfs/ml4hep/shahzar/miniconda/envs/multifold/lib/python3.10/site-packages/tensorflow_probability/python/math/ode/dormand_prince.py:647\u001b[0m, in \u001b[0;36m_advance_to_solution_time\u001b[0;34m(time_id, solver_state, diagnostics, solutions_arrays, times_array, step_fn, validate_args)\u001b[0m\n\u001b[1;32m    644\u001b[0m \u001b[38;5;28;01mdef\u001b[39;00m \u001b[38;5;21mstep_cond\u001b[39m(solver_state, _):\n\u001b[1;32m    645\u001b[0m   \u001b[38;5;28;01mreturn\u001b[39;00m times_array[time_id] \u001b[38;5;241m>\u001b[39m\u001b[38;5;241m=\u001b[39m solver_state\u001b[38;5;241m.\u001b[39mcurrent_time\n\u001b[0;32m--> 647\u001b[0m solver_state, diagnostics \u001b[38;5;241m=\u001b[39m \u001b[43mtf\u001b[49m\u001b[38;5;241;43m.\u001b[39;49m\u001b[43mwhile_loop\u001b[49m\u001b[43m(\u001b[49m\n\u001b[1;32m    648\u001b[0m \u001b[43m    \u001b[49m\u001b[43mstep_cond\u001b[49m\u001b[43m,\u001b[49m\u001b[43m \u001b[49m\u001b[43mstep_fn\u001b[49m\u001b[43m,\u001b[49m\u001b[43m \u001b[49m\u001b[43m(\u001b[49m\u001b[43msolver_state\u001b[49m\u001b[43m,\u001b[49m\u001b[43m \u001b[49m\u001b[43mdiagnostics\u001b[49m\u001b[43m)\u001b[49m\u001b[43m)\u001b[49m\n\u001b[1;32m    649\u001b[0m y, _ \u001b[38;5;241m=\u001b[39m _interpolate_solution_at(\n\u001b[1;32m    650\u001b[0m     times_array[time_id], solver_state, validate_args)\n\u001b[1;32m    651\u001b[0m solutions_arrays \u001b[38;5;241m=\u001b[39m _write_solution_components(y, solutions_arrays, time_id)\n",
      "File \u001b[0;32m/clusterfs/ml4hep/shahzar/miniconda/envs/multifold/lib/python3.10/site-packages/tensorflow/python/util/deprecation.py:616\u001b[0m, in \u001b[0;36mdeprecated_arg_values.<locals>.deprecated_wrapper.<locals>.new_func\u001b[0;34m(*args, **kwargs)\u001b[0m\n\u001b[1;32m    609\u001b[0m           _PRINTED_WARNING[(func, arg_name)] \u001b[38;5;241m=\u001b[39m \u001b[38;5;28;01mTrue\u001b[39;00m\n\u001b[1;32m    610\u001b[0m         logging\u001b[38;5;241m.\u001b[39mwarning(\n\u001b[1;32m    611\u001b[0m             \u001b[38;5;124m'\u001b[39m\u001b[38;5;124mFrom \u001b[39m\u001b[38;5;132;01m%s\u001b[39;00m\u001b[38;5;124m: calling \u001b[39m\u001b[38;5;132;01m%s\u001b[39;00m\u001b[38;5;124m (from \u001b[39m\u001b[38;5;132;01m%s\u001b[39;00m\u001b[38;5;124m) with \u001b[39m\u001b[38;5;132;01m%s\u001b[39;00m\u001b[38;5;124m=\u001b[39m\u001b[38;5;132;01m%s\u001b[39;00m\u001b[38;5;124m is deprecated and \u001b[39m\u001b[38;5;124m'\u001b[39m\n\u001b[1;32m    612\u001b[0m             \u001b[38;5;124m'\u001b[39m\u001b[38;5;124mwill be removed \u001b[39m\u001b[38;5;132;01m%s\u001b[39;00m\u001b[38;5;124m.\u001b[39m\u001b[38;5;130;01m\\n\u001b[39;00m\u001b[38;5;124mInstructions for updating:\u001b[39m\u001b[38;5;130;01m\\n\u001b[39;00m\u001b[38;5;132;01m%s\u001b[39;00m\u001b[38;5;124m'\u001b[39m,\n\u001b[1;32m    613\u001b[0m             _call_location(), decorator_utils\u001b[38;5;241m.\u001b[39mget_qualified_name(func),\n\u001b[1;32m    614\u001b[0m             func\u001b[38;5;241m.\u001b[39m\u001b[38;5;18m__module__\u001b[39m, arg_name, arg_value, \u001b[38;5;124m'\u001b[39m\u001b[38;5;124min a future version\u001b[39m\u001b[38;5;124m'\u001b[39m\n\u001b[1;32m    615\u001b[0m             \u001b[38;5;28;01mif\u001b[39;00m date \u001b[38;5;129;01mis\u001b[39;00m \u001b[38;5;28;01mNone\u001b[39;00m \u001b[38;5;28;01melse\u001b[39;00m (\u001b[38;5;124m'\u001b[39m\u001b[38;5;124mafter \u001b[39m\u001b[38;5;132;01m%s\u001b[39;00m\u001b[38;5;124m'\u001b[39m \u001b[38;5;241m%\u001b[39m date), instructions)\n\u001b[0;32m--> 616\u001b[0m \u001b[38;5;28;01mreturn\u001b[39;00m \u001b[43mfunc\u001b[49m\u001b[43m(\u001b[49m\u001b[38;5;241;43m*\u001b[39;49m\u001b[43margs\u001b[49m\u001b[43m,\u001b[49m\u001b[43m \u001b[49m\u001b[38;5;241;43m*\u001b[39;49m\u001b[38;5;241;43m*\u001b[39;49m\u001b[43mkwargs\u001b[49m\u001b[43m)\u001b[49m\n",
      "File \u001b[0;32m/clusterfs/ml4hep/shahzar/miniconda/envs/multifold/lib/python3.10/site-packages/tensorflow/python/ops/control_flow_ops.py:2548\u001b[0m, in \u001b[0;36mwhile_loop_v2\u001b[0;34m(cond, body, loop_vars, shape_invariants, parallel_iterations, back_prop, swap_memory, maximum_iterations, name)\u001b[0m\n\u001b[1;32m   2372\u001b[0m \u001b[38;5;129m@tf_export\u001b[39m(\u001b[38;5;124m\"\u001b[39m\u001b[38;5;124mwhile_loop\u001b[39m\u001b[38;5;124m\"\u001b[39m, v1\u001b[38;5;241m=\u001b[39m[])\n\u001b[1;32m   2373\u001b[0m \u001b[38;5;129m@deprecation\u001b[39m\u001b[38;5;241m.\u001b[39mdeprecated_arg_values(\n\u001b[1;32m   2374\u001b[0m     \u001b[38;5;28;01mNone\u001b[39;00m,\n\u001b[0;32m   (...)\u001b[0m\n\u001b[1;32m   2389\u001b[0m                   maximum_iterations\u001b[38;5;241m=\u001b[39m\u001b[38;5;28;01mNone\u001b[39;00m,\n\u001b[1;32m   2390\u001b[0m                   name\u001b[38;5;241m=\u001b[39m\u001b[38;5;28;01mNone\u001b[39;00m):\n\u001b[1;32m   2391\u001b[0m   \u001b[38;5;124;03m\"\"\"Repeat `body` while the condition `cond` is true.\u001b[39;00m\n\u001b[1;32m   2392\u001b[0m \n\u001b[1;32m   2393\u001b[0m \u001b[38;5;124;03m  `cond` is a callable returning a boolean scalar tensor. `body` is a callable\u001b[39;00m\n\u001b[0;32m   (...)\u001b[0m\n\u001b[1;32m   2546\u001b[0m \n\u001b[1;32m   2547\u001b[0m \u001b[38;5;124;03m  \"\"\"\u001b[39;00m\n\u001b[0;32m-> 2548\u001b[0m   \u001b[38;5;28;01mreturn\u001b[39;00m \u001b[43mwhile_loop\u001b[49m\u001b[43m(\u001b[49m\n\u001b[1;32m   2549\u001b[0m \u001b[43m      \u001b[49m\u001b[43mcond\u001b[49m\u001b[38;5;241;43m=\u001b[39;49m\u001b[43mcond\u001b[49m\u001b[43m,\u001b[49m\n\u001b[1;32m   2550\u001b[0m \u001b[43m      \u001b[49m\u001b[43mbody\u001b[49m\u001b[38;5;241;43m=\u001b[39;49m\u001b[43mbody\u001b[49m\u001b[43m,\u001b[49m\n\u001b[1;32m   2551\u001b[0m \u001b[43m      \u001b[49m\u001b[43mloop_vars\u001b[49m\u001b[38;5;241;43m=\u001b[39;49m\u001b[43mloop_vars\u001b[49m\u001b[43m,\u001b[49m\n\u001b[1;32m   2552\u001b[0m \u001b[43m      \u001b[49m\u001b[43mshape_invariants\u001b[49m\u001b[38;5;241;43m=\u001b[39;49m\u001b[43mshape_invariants\u001b[49m\u001b[43m,\u001b[49m\n\u001b[1;32m   2553\u001b[0m \u001b[43m      \u001b[49m\u001b[43mparallel_iterations\u001b[49m\u001b[38;5;241;43m=\u001b[39;49m\u001b[43mparallel_iterations\u001b[49m\u001b[43m,\u001b[49m\n\u001b[1;32m   2554\u001b[0m \u001b[43m      \u001b[49m\u001b[43mback_prop\u001b[49m\u001b[38;5;241;43m=\u001b[39;49m\u001b[43mback_prop\u001b[49m\u001b[43m,\u001b[49m\n\u001b[1;32m   2555\u001b[0m \u001b[43m      \u001b[49m\u001b[43mswap_memory\u001b[49m\u001b[38;5;241;43m=\u001b[39;49m\u001b[43mswap_memory\u001b[49m\u001b[43m,\u001b[49m\n\u001b[1;32m   2556\u001b[0m \u001b[43m      \u001b[49m\u001b[43mname\u001b[49m\u001b[38;5;241;43m=\u001b[39;49m\u001b[43mname\u001b[49m\u001b[43m,\u001b[49m\n\u001b[1;32m   2557\u001b[0m \u001b[43m      \u001b[49m\u001b[43mmaximum_iterations\u001b[49m\u001b[38;5;241;43m=\u001b[39;49m\u001b[43mmaximum_iterations\u001b[49m\u001b[43m,\u001b[49m\n\u001b[1;32m   2558\u001b[0m \u001b[43m      \u001b[49m\u001b[43mreturn_same_structure\u001b[49m\u001b[38;5;241;43m=\u001b[39;49m\u001b[38;5;28;43;01mTrue\u001b[39;49;00m\u001b[43m)\u001b[49m\n",
      "File \u001b[0;32m/clusterfs/ml4hep/shahzar/miniconda/envs/multifold/lib/python3.10/site-packages/tensorflow/python/ops/control_flow_ops.py:2795\u001b[0m, in \u001b[0;36mwhile_loop\u001b[0;34m(cond, body, loop_vars, shape_invariants, parallel_iterations, back_prop, swap_memory, name, maximum_iterations, return_same_structure)\u001b[0m\n\u001b[1;32m   2792\u001b[0m loop_var_structure \u001b[38;5;241m=\u001b[39m nest\u001b[38;5;241m.\u001b[39mmap_structure(type_spec\u001b[38;5;241m.\u001b[39mtype_spec_from_value,\n\u001b[1;32m   2793\u001b[0m                                         \u001b[38;5;28mlist\u001b[39m(loop_vars))\n\u001b[1;32m   2794\u001b[0m \u001b[38;5;28;01mwhile\u001b[39;00m cond(\u001b[38;5;241m*\u001b[39mloop_vars):\n\u001b[0;32m-> 2795\u001b[0m   loop_vars \u001b[38;5;241m=\u001b[39m \u001b[43mbody\u001b[49m\u001b[43m(\u001b[49m\u001b[38;5;241;43m*\u001b[39;49m\u001b[43mloop_vars\u001b[49m\u001b[43m)\u001b[49m\n\u001b[1;32m   2796\u001b[0m   \u001b[38;5;28;01mif\u001b[39;00m try_to_pack \u001b[38;5;129;01mand\u001b[39;00m \u001b[38;5;129;01mnot\u001b[39;00m \u001b[38;5;28misinstance\u001b[39m(loop_vars, (\u001b[38;5;28mlist\u001b[39m, _basetuple)):\n\u001b[1;32m   2797\u001b[0m     packed \u001b[38;5;241m=\u001b[39m \u001b[38;5;28;01mTrue\u001b[39;00m\n",
      "File \u001b[0;32m/clusterfs/ml4hep/shahzar/miniconda/envs/multifold/lib/python3.10/site-packages/tensorflow_probability/python/math/ode/dormand_prince.py:427\u001b[0m, in \u001b[0;36mDormandPrince._step\u001b[0;34m(self, solver_state, diagnostics, max_ode_fn_evals, ode_fn, atol, rtol, safety, ifactor, dfactor)\u001b[0m\n\u001b[1;32m    424\u001b[0m f_next \u001b[38;5;241m=\u001b[39m rk_util\u001b[38;5;241m.\u001b[39mnest_where(accept_step, f1, f0)\n\u001b[1;32m    425\u001b[0m t_next \u001b[38;5;241m=\u001b[39m tf\u001b[38;5;241m.\u001b[39mwhere(accept_step, t0 \u001b[38;5;241m+\u001b[39m dt, t0)\n\u001b[0;32m--> 427\u001b[0m new_coefficients \u001b[38;5;241m=\u001b[39m \u001b[43mrk_util\u001b[49m\u001b[38;5;241;43m.\u001b[39;49m\u001b[43mrk_fourth_order_interpolation_coefficients\u001b[49m\u001b[43m(\u001b[49m\n\u001b[1;32m    428\u001b[0m \u001b[43m    \u001b[49m\u001b[43my0\u001b[49m\u001b[43m,\u001b[49m\u001b[43m \u001b[49m\u001b[43my1\u001b[49m\u001b[43m,\u001b[49m\u001b[43m \u001b[49m\u001b[43mk\u001b[49m\u001b[43m,\u001b[49m\u001b[43m \u001b[49m\u001b[43mdt\u001b[49m\u001b[43m,\u001b[49m\u001b[43m \u001b[49m\u001b[43m_TABLEAU\u001b[49m\u001b[43m)\u001b[49m\n\u001b[1;32m    429\u001b[0m interp_coeff \u001b[38;5;241m=\u001b[39m rk_util\u001b[38;5;241m.\u001b[39mnest_where(\n\u001b[1;32m    430\u001b[0m     accept_step, new_coefficients, interp_coeff)\n\u001b[1;32m    432\u001b[0m dt_next \u001b[38;5;241m=\u001b[39m util\u001b[38;5;241m.\u001b[39mnext_step_size(\n\u001b[1;32m    433\u001b[0m     dt, \u001b[38;5;28mself\u001b[39m\u001b[38;5;241m.\u001b[39mORDER, error_ratio, safety, dfactor, ifactor)\n",
      "File \u001b[0;32m/clusterfs/ml4hep/shahzar/miniconda/envs/multifold/lib/python3.10/site-packages/tensorflow_probability/python/math/ode/runge_kutta_util.py:223\u001b[0m, in \u001b[0;36mrk_fourth_order_interpolation_coefficients\u001b[0;34m(y0, y1, k, dt, tableau)\u001b[0m\n\u001b[1;32m    221\u001b[0m f0 \u001b[38;5;241m=\u001b[39m k[\u001b[38;5;241m0\u001b[39m]\n\u001b[1;32m    222\u001b[0m f1 \u001b[38;5;241m=\u001b[39m k[\u001b[38;5;241m-\u001b[39m\u001b[38;5;241m1\u001b[39m]\n\u001b[0;32m--> 223\u001b[0m \u001b[38;5;28;01mreturn\u001b[39;00m \u001b[43m_fourth_order_interpolation_coefficients\u001b[49m\u001b[43m(\u001b[49m\u001b[43my0\u001b[49m\u001b[43m,\u001b[49m\u001b[43m \u001b[49m\u001b[43my1\u001b[49m\u001b[43m,\u001b[49m\u001b[43m \u001b[49m\u001b[43my_mid\u001b[49m\u001b[43m,\u001b[49m\u001b[43m \u001b[49m\u001b[43mf0\u001b[49m\u001b[43m,\u001b[49m\u001b[43m \u001b[49m\u001b[43mf1\u001b[49m\u001b[43m,\u001b[49m\u001b[43m \u001b[49m\u001b[43mdt\u001b[49m\u001b[43m)\u001b[49m\n",
      "File \u001b[0;32m/clusterfs/ml4hep/shahzar/miniconda/envs/multifold/lib/python3.10/site-packages/tensorflow_probability/python/math/ode/runge_kutta_util.py:196\u001b[0m, in \u001b[0;36m_fourth_order_interpolation_coefficients\u001b[0;34m(y0, y1, y_mid, f0, f1, dt)\u001b[0m\n\u001b[1;32m    194\u001b[0m \u001b[38;5;28;01mwith\u001b[39;00m tf\u001b[38;5;241m.\u001b[39mname_scope(\u001b[38;5;124m'\u001b[39m\u001b[38;5;124minterpolation_coefficients\u001b[39m\u001b[38;5;124m'\u001b[39m):\n\u001b[1;32m    195\u001b[0m   a \u001b[38;5;241m=\u001b[39m weighted_sum([\u001b[38;5;241m-\u001b[39m\u001b[38;5;241m2\u001b[39m \u001b[38;5;241m*\u001b[39m dt, \u001b[38;5;241m2\u001b[39m \u001b[38;5;241m*\u001b[39m dt, \u001b[38;5;241m-\u001b[39m\u001b[38;5;241m8\u001b[39m, \u001b[38;5;241m-\u001b[39m\u001b[38;5;241m8\u001b[39m, \u001b[38;5;241m16\u001b[39m], [f0, f1, y0, y1, y_mid])\n\u001b[0;32m--> 196\u001b[0m   b \u001b[38;5;241m=\u001b[39m \u001b[43mweighted_sum\u001b[49m\u001b[43m(\u001b[49m\u001b[43m[\u001b[49m\u001b[38;5;241;43m5\u001b[39;49m\u001b[43m \u001b[49m\u001b[38;5;241;43m*\u001b[39;49m\u001b[43m \u001b[49m\u001b[43mdt\u001b[49m\u001b[43m,\u001b[49m\u001b[43m \u001b[49m\u001b[38;5;241;43m-\u001b[39;49m\u001b[38;5;241;43m3\u001b[39;49m\u001b[43m \u001b[49m\u001b[38;5;241;43m*\u001b[39;49m\u001b[43m \u001b[49m\u001b[43mdt\u001b[49m\u001b[43m,\u001b[49m\u001b[43m \u001b[49m\u001b[38;5;241;43m18\u001b[39;49m\u001b[43m,\u001b[49m\u001b[43m \u001b[49m\u001b[38;5;241;43m14\u001b[39;49m\u001b[43m,\u001b[49m\u001b[43m \u001b[49m\u001b[38;5;241;43m-\u001b[39;49m\u001b[38;5;241;43m32\u001b[39;49m\u001b[43m]\u001b[49m\u001b[43m,\u001b[49m\u001b[43m \u001b[49m\u001b[43m[\u001b[49m\u001b[43mf0\u001b[49m\u001b[43m,\u001b[49m\u001b[43m \u001b[49m\u001b[43mf1\u001b[49m\u001b[43m,\u001b[49m\u001b[43m \u001b[49m\u001b[43my0\u001b[49m\u001b[43m,\u001b[49m\u001b[43m \u001b[49m\u001b[43my1\u001b[49m\u001b[43m,\u001b[49m\u001b[43m \u001b[49m\u001b[43my_mid\u001b[49m\u001b[43m]\u001b[49m\u001b[43m)\u001b[49m\n\u001b[1;32m    197\u001b[0m   c \u001b[38;5;241m=\u001b[39m weighted_sum([\u001b[38;5;241m-\u001b[39m\u001b[38;5;241m4\u001b[39m \u001b[38;5;241m*\u001b[39m dt, dt, \u001b[38;5;241m-\u001b[39m\u001b[38;5;241m11\u001b[39m, \u001b[38;5;241m-\u001b[39m\u001b[38;5;241m5\u001b[39m, \u001b[38;5;241m16\u001b[39m], [f0, f1, y0, y1, y_mid])\n\u001b[1;32m    198\u001b[0m   d \u001b[38;5;241m=\u001b[39m weighted_sum([dt], [f0])\n",
      "File \u001b[0;32m/clusterfs/ml4hep/shahzar/miniconda/envs/multifold/lib/python3.10/site-packages/tensorflow_probability/python/math/ode/runge_kutta_util.py:86\u001b[0m, in \u001b[0;36mweighted_sum\u001b[0;34m(weights, list_of_states)\u001b[0m\n\u001b[1;32m     81\u001b[0m weighted_states \u001b[38;5;241m=\u001b[39m [\n\u001b[1;32m     82\u001b[0m     [tf\u001b[38;5;241m.\u001b[39mcast(w, s_comp\u001b[38;5;241m.\u001b[39mdtype) \u001b[38;5;241m*\u001b[39m s_comp \u001b[38;5;28;01mfor\u001b[39;00m s_comp \u001b[38;5;129;01min\u001b[39;00m tf\u001b[38;5;241m.\u001b[39mnest\u001b[38;5;241m.\u001b[39mflatten(s)]\n\u001b[1;32m     83\u001b[0m     \u001b[38;5;28;01mfor\u001b[39;00m w, s \u001b[38;5;129;01min\u001b[39;00m weights_and_states \u001b[38;5;28;01mif\u001b[39;00m _possibly_nonzero(w)\n\u001b[1;32m     84\u001b[0m ]\n\u001b[1;32m     85\u001b[0m list_of_components \u001b[38;5;241m=\u001b[39m \u001b[38;5;28mzip\u001b[39m(\u001b[38;5;241m*\u001b[39mweighted_states)  \u001b[38;5;66;03m# Put same components together.\u001b[39;00m\n\u001b[0;32m---> 86\u001b[0m flat_final_state \u001b[38;5;241m=\u001b[39m [tf\u001b[38;5;241m.\u001b[39madd_n(component) \u001b[38;5;28;01mfor\u001b[39;00m component \u001b[38;5;129;01min\u001b[39;00m list_of_components]\n\u001b[1;32m     87\u001b[0m \u001b[38;5;28;01mif\u001b[39;00m \u001b[38;5;129;01mnot\u001b[39;00m flat_final_state:\n\u001b[1;32m     88\u001b[0m   \u001b[38;5;28;01mreturn\u001b[39;00m nest_constant(list_of_states[\u001b[38;5;241m0\u001b[39m], \u001b[38;5;241m0.0\u001b[39m)\n",
      "File \u001b[0;32m/clusterfs/ml4hep/shahzar/miniconda/envs/multifold/lib/python3.10/site-packages/tensorflow_probability/python/math/ode/runge_kutta_util.py:86\u001b[0m, in \u001b[0;36m<listcomp>\u001b[0;34m(.0)\u001b[0m\n\u001b[1;32m     81\u001b[0m weighted_states \u001b[38;5;241m=\u001b[39m [\n\u001b[1;32m     82\u001b[0m     [tf\u001b[38;5;241m.\u001b[39mcast(w, s_comp\u001b[38;5;241m.\u001b[39mdtype) \u001b[38;5;241m*\u001b[39m s_comp \u001b[38;5;28;01mfor\u001b[39;00m s_comp \u001b[38;5;129;01min\u001b[39;00m tf\u001b[38;5;241m.\u001b[39mnest\u001b[38;5;241m.\u001b[39mflatten(s)]\n\u001b[1;32m     83\u001b[0m     \u001b[38;5;28;01mfor\u001b[39;00m w, s \u001b[38;5;129;01min\u001b[39;00m weights_and_states \u001b[38;5;28;01mif\u001b[39;00m _possibly_nonzero(w)\n\u001b[1;32m     84\u001b[0m ]\n\u001b[1;32m     85\u001b[0m list_of_components \u001b[38;5;241m=\u001b[39m \u001b[38;5;28mzip\u001b[39m(\u001b[38;5;241m*\u001b[39mweighted_states)  \u001b[38;5;66;03m# Put same components together.\u001b[39;00m\n\u001b[0;32m---> 86\u001b[0m flat_final_state \u001b[38;5;241m=\u001b[39m [\u001b[43mtf\u001b[49m\u001b[38;5;241;43m.\u001b[39;49m\u001b[43madd_n\u001b[49m\u001b[43m(\u001b[49m\u001b[43mcomponent\u001b[49m\u001b[43m)\u001b[49m \u001b[38;5;28;01mfor\u001b[39;00m component \u001b[38;5;129;01min\u001b[39;00m list_of_components]\n\u001b[1;32m     87\u001b[0m \u001b[38;5;28;01mif\u001b[39;00m \u001b[38;5;129;01mnot\u001b[39;00m flat_final_state:\n\u001b[1;32m     88\u001b[0m   \u001b[38;5;28;01mreturn\u001b[39;00m nest_constant(list_of_states[\u001b[38;5;241m0\u001b[39m], \u001b[38;5;241m0.0\u001b[39m)\n",
      "File \u001b[0;32m/clusterfs/ml4hep/shahzar/miniconda/envs/multifold/lib/python3.10/site-packages/tensorflow/python/util/traceback_utils.py:153\u001b[0m, in \u001b[0;36mfilter_traceback.<locals>.error_handler\u001b[0;34m(*args, **kwargs)\u001b[0m\n\u001b[1;32m    151\u001b[0m \u001b[38;5;28;01mexcept\u001b[39;00m \u001b[38;5;167;01mException\u001b[39;00m \u001b[38;5;28;01mas\u001b[39;00m e:\n\u001b[1;32m    152\u001b[0m   filtered_tb \u001b[38;5;241m=\u001b[39m _process_traceback_frames(e\u001b[38;5;241m.\u001b[39m__traceback__)\n\u001b[0;32m--> 153\u001b[0m   \u001b[38;5;28;01mraise\u001b[39;00m e\u001b[38;5;241m.\u001b[39mwith_traceback(filtered_tb) \u001b[38;5;28;01mfrom\u001b[39;00m \u001b[38;5;28mNone\u001b[39m\n\u001b[1;32m    154\u001b[0m \u001b[38;5;28;01mfinally\u001b[39;00m:\n\u001b[1;32m    155\u001b[0m   \u001b[38;5;28;01mdel\u001b[39;00m filtered_tb\n",
      "File \u001b[0;32m/clusterfs/ml4hep/shahzar/miniconda/envs/multifold/lib/python3.10/site-packages/tensorflow/python/framework/ops.py:7186\u001b[0m, in \u001b[0;36mraise_from_not_ok_status\u001b[0;34m(e, name)\u001b[0m\n\u001b[1;32m   7184\u001b[0m \u001b[38;5;28;01mdef\u001b[39;00m \u001b[38;5;21mraise_from_not_ok_status\u001b[39m(e, name):\n\u001b[1;32m   7185\u001b[0m   e\u001b[38;5;241m.\u001b[39mmessage \u001b[38;5;241m+\u001b[39m\u001b[38;5;241m=\u001b[39m (\u001b[38;5;124m\"\u001b[39m\u001b[38;5;124m name: \u001b[39m\u001b[38;5;124m\"\u001b[39m \u001b[38;5;241m+\u001b[39m name \u001b[38;5;28;01mif\u001b[39;00m name \u001b[38;5;129;01mis\u001b[39;00m \u001b[38;5;129;01mnot\u001b[39;00m \u001b[38;5;28;01mNone\u001b[39;00m \u001b[38;5;28;01melse\u001b[39;00m \u001b[38;5;124m\"\u001b[39m\u001b[38;5;124m\"\u001b[39m)\n\u001b[0;32m-> 7186\u001b[0m   \u001b[38;5;28;01mraise\u001b[39;00m core\u001b[38;5;241m.\u001b[39m_status_to_exception(e) \u001b[38;5;28;01mfrom\u001b[39;00m \u001b[38;5;28mNone\u001b[39m\n",
      "\u001b[0;31mResourceExhaustedError\u001b[0m: OOM when allocating tensor with shape[10000000,8] and type float on /job:localhost/replica:0/task:0/device:GPU:0 by allocator GPU_0_bfc [Op:AddN]"
     ]
    }
   ],
   "source": [
    "y_trn = stats.bernoulli.rvs(0.5, size = N_trn)\n",
    "\n",
    "X_bkgd = sim_target.sample(N_trn).numpy()\n",
    "X_sgnl = dat_target.sample(N_trn).numpy()\n",
    "\n",
    "X_trn = np.zeros_like(X_bkgd)\n",
    "X_trn[y_trn == 0] = X_bkgd[y_trn == 0]\n",
    "X_trn[y_trn == 1] = X_sgnl[y_trn == 1]\n",
    "\n",
    "y_tst = stats.bernoulli.rvs(0.5, size = N_tst)\n",
    "\n",
    "X_bkgd = sim_target.sample(N_tst).numpy()\n",
    "X_sgnl = dat_target.sample(N_tst).numpy()\n",
    "\n",
    "X_tst = np.zeros_like(X_bkgd)\n",
    "X_tst[y_tst == 0] = X_bkgd[y_tst == 0]\n",
    "X_tst[y_tst == 1] = X_sgnl[y_tst == 1]\n",
    "\n",
    "np.save('data/zenodo/8/X_trn.npy', X_trn)\n",
    "np.save('data/zenodo/8/y_trn.npy', y_trn)\n",
    "np.save('data/zenodo/8/X_tst.npy', X_tst)\n",
    "np.save('data/zenodo/8/y_tst.npy', y_tst)"
   ]
  },
  {
   "cell_type": "markdown",
   "id": "23e9c025-000d-4d74-b858-b9bfbdb06b7f",
   "metadata": {
    "jp-MarkdownHeadingCollapsed": true,
    "tags": []
   },
   "source": [
    "## $d = 11$"
   ]
  },
  {
   "cell_type": "code",
   "execution_count": null,
   "id": "2a50c5da-6c65-4102-9bab-26db457df828",
   "metadata": {},
   "outputs": [],
   "source": [
    "np.random.seed(666)\n",
    "N_trn = 10**7\n",
    "N_tst = 10**5"
   ]
  },
  {
   "cell_type": "code",
   "execution_count": null,
   "id": "2f2d4db3-0033-45d2-a200-692d6163e0c4",
   "metadata": {},
   "outputs": [],
   "source": [
    "os.environ[\"CUDA_VISIBLE_DEVICES\"] = \"1\" # pick a number < 4 on ML4HEP; < 3 on Voltan \n",
    "physical_devices = tf.config.list_physical_devices('GPU') \n",
    "tf.config.experimental.set_memory_growth(physical_devices[0], True)"
   ]
  },
  {
   "cell_type": "code",
   "execution_count": null,
   "id": "b4ea6453-98ec-4714-94cb-b314f6884241",
   "metadata": {},
   "outputs": [],
   "source": [
    "dat_target = make_target(11)\n",
    "sim_target = make_target(11)\n",
    "\n",
    "dat_ckpt = tf.train.Checkpoint(dat_target)\n",
    "sim_ckpt = tf.train.Checkpoint(sim_target)\n",
    "\n",
    "dat_ckpt.restore('flows/zenodo/dat11/ckpt-157')\n",
    "sim_ckpt.restore('flows/zenodo/sim11/ckpt-157')"
   ]
  },
  {
   "cell_type": "code",
   "execution_count": null,
   "id": "d4a12b9b-1cc3-4f4a-94f8-dab307569082",
   "metadata": {},
   "outputs": [],
   "source": [
    "y_trn = stats.bernoulli.rvs(0.5, size = N_trn)\n",
    "\n",
    "X_bkgd = sim_target.sample(N_trn).numpy()\n",
    "X_sgnl = dat_target.sample(N_trn).numpy()\n",
    "\n",
    "X_trn = np.zeros_like(X_bkgd)\n",
    "X_trn[y_trn == 0] = X_bkgd[y_trn == 0]\n",
    "X_trn[y_trn == 1] = X_sgnl[y_trn == 1]\n",
    "\n",
    "y_tst = stats.bernoulli.rvs(0.5, size = N_tst)\n",
    "\n",
    "X_bkgd = sim_target.sample(N_tst).numpy()\n",
    "X_sgnl = dat_target.sample(N_tst).numpy()\n",
    "\n",
    "X_tst = np.zeros_like(X_bkgd)\n",
    "X_tst[y_tst == 0] = X_bkgd[y_tst == 0]\n",
    "X_tst[y_tst == 1] = X_sgnl[y_tst == 1]\n",
    "\n",
    "np.save('data/zenodo/11/X_trn.npy', X_trn)\n",
    "np.save('data/zenodo/11/y_trn.npy', y_trn)\n",
    "np.save('data/zenodo/11/X_tst.npy', X_tst)\n",
    "np.save('data/zenodo/11/y_tst.npy', y_tst)"
   ]
  },
  {
   "cell_type": "markdown",
   "id": "8b2cc551-e6c0-496c-be25-3ed8cae48bad",
   "metadata": {
    "jp-MarkdownHeadingCollapsed": true,
    "tags": []
   },
   "source": [
    "# Trees"
   ]
  },
  {
   "cell_type": "code",
   "execution_count": null,
   "id": "85fc9a54-8764-4883-b0d1-b5541f628b35",
   "metadata": {},
   "outputs": [],
   "source": [
    "if not os.path.isdir('data/trees/'):\n",
    "    os.mkdir('data/trees/')"
   ]
  },
  {
   "cell_type": "markdown",
   "id": "33634b57-fc42-4067-9368-62813abdf00c",
   "metadata": {},
   "source": [
    "## $d = 1$"
   ]
  },
  {
   "cell_type": "code",
   "execution_count": null,
   "id": "786cb2dc-aadd-4997-9d5e-fc00d1b1013a",
   "metadata": {},
   "outputs": [],
   "source": [
    "if not os.path.isdir('data/trees/1'):\n",
    "    os.mkdir('data/trees/1')\n",
    "\n",
    "np.random.seed(666)\n",
    "    \n",
    "bkgd = stats.norm(-0.1, 1)\n",
    "sgnl = stats.norm(+0.1, 1)\n",
    "\n",
    "X_trn, X_tst, y_trn, y_tst = make_data(bkgd, sgnl)\n",
    "\n",
    "np.save('data/trees/1/X_trn.npy', X_trn)\n",
    "np.save('data/trees/1/y_trn.npy', y_trn)\n",
    "np.save('data/trees/1/X_tst.npy', X_tst)\n",
    "np.save('data/trees/1/y_tst.npy', y_tst)"
   ]
  },
  {
   "cell_type": "markdown",
   "id": "7cdd25c8-d1b7-47e1-ae46-7fd692276d5a",
   "metadata": {},
   "source": [
    "## $d = 2$"
   ]
  },
  {
   "cell_type": "code",
   "execution_count": null,
   "id": "ebbe24b8-ce67-4154-ab3b-bed2d70ec3e7",
   "metadata": {},
   "outputs": [],
   "source": [
    "if not os.path.isdir('data/trees/2'):\n",
    "    os.mkdir('data/trees/2')\n",
    "\n",
    "np.random.seed(666)\n",
    "    \n",
    "mu_bkgd = np.array([-0.1, 0])\n",
    "mu_sgnl = np.array([+0.1, 0])\n",
    "sg_bkgd = np.eye(2)\n",
    "sg_sgnl = np.eye(2)\n",
    "\n",
    "bkgd = stats.multivariate_normal(mu_bkgd, sg_bkgd)\n",
    "sgnl = stats.multivariate_normal(mu_sgnl, sg_sgnl)\n",
    "\n",
    "X_trn, X_tst, y_trn, y_tst = make_data(bkgd, sgnl)\n",
    "\n",
    "np.save('data/trees/2/X_trn.npy', X_trn)\n",
    "np.save('data/trees/2/y_trn.npy', y_trn)\n",
    "np.save('data/trees/2/X_tst.npy', X_tst)\n",
    "np.save('data/trees/2/y_tst.npy', y_tst)"
   ]
  },
  {
   "cell_type": "markdown",
   "id": "ad23ffe2-1978-45d4-a6fd-c45b40ca7481",
   "metadata": {},
   "source": [
    "## $d = 4$"
   ]
  },
  {
   "cell_type": "code",
   "execution_count": null,
   "id": "d491e48d-74a0-44ce-ab7b-e3cb71af2add",
   "metadata": {},
   "outputs": [],
   "source": [
    "np.random.seed(666)\n",
    "\n",
    "if not os.path.isdir('data/trees/4'):\n",
    "    os.mkdir('data/trees/4')\n",
    "    \n",
    "mu_bkgd = np.array([-0.1, 0, 0, 0])\n",
    "mu_sgnl = np.array([+0.1, 0, 0, 0])\n",
    "sg_bkgd = np.eye(4)\n",
    "sg_sgnl = np.eye(4)\n",
    "\n",
    "bkgd = stats.multivariate_normal(mu_bkgd, sg_bkgd)\n",
    "sgnl = stats.multivariate_normal(mu_sgnl, sg_sgnl)\n",
    "\n",
    "X_trn, X_tst, y_trn, y_tst = make_data(bkgd, sgnl)\n",
    "\n",
    "np.save('data/trees/4/X_trn.npy', X_trn)\n",
    "np.save('data/trees/4/y_trn.npy', y_trn)\n",
    "np.save('data/trees/4/X_tst.npy', X_tst)\n",
    "np.save('data/trees/4/y_tst.npy', y_tst)"
   ]
  },
  {
   "cell_type": "markdown",
   "id": "89eb9ee7-e8e5-4290-8c54-30194bf9c153",
   "metadata": {},
   "source": [
    "## $d = 8$"
   ]
  },
  {
   "cell_type": "code",
   "execution_count": null,
   "id": "12018bff-c165-49f3-bd5e-b68d65b8b3da",
   "metadata": {},
   "outputs": [],
   "source": [
    "np.random.seed(666)\n",
    "\n",
    "if not os.path.isdir('data/trees/8'):\n",
    "    os.mkdir('data/trees/8')\n",
    "    \n",
    "mu_bkgd = np.array([-0.1, 0, 0, 0, 0, 0, 0, 0])\n",
    "mu_sgnl = np.array([+0.1, 0, 0, 0, 0, 0, 0, 0])\n",
    "sg_bkgd = np.eye(8)\n",
    "sg_sgnl = np.eye(8)\n",
    "\n",
    "bkgd = stats.multivariate_normal(mu_bkgd, sg_bkgd)\n",
    "sgnl = stats.multivariate_normal(mu_sgnl, sg_sgnl)\n",
    "\n",
    "X_trn, X_tst, y_trn, y_tst = make_data(bkgd, sgnl)\n",
    "\n",
    "np.save('data/trees/8/X_trn.npy', X_trn)\n",
    "np.save('data/trees/8/y_trn.npy', y_trn)\n",
    "np.save('data/trees/8/X_tst.npy', X_tst)\n",
    "np.save('data/trees/8/y_tst.npy', y_tst)"
   ]
  },
  {
   "cell_type": "markdown",
   "id": "bd95b839-2f77-42d7-82bb-54be9d4101da",
   "metadata": {},
   "source": [
    "## $d = 16$"
   ]
  },
  {
   "cell_type": "code",
   "execution_count": null,
   "id": "c722e2a5-8cd4-4df0-9432-3411bc034ffb",
   "metadata": {},
   "outputs": [],
   "source": [
    "np.random.seed(666)\n",
    "\n",
    "if not os.path.isdir('data/trees/16'):\n",
    "    os.mkdir('data/trees/16')\n",
    "    \n",
    "mu_bkgd = np.array([-0.1, 0, 0, 0, 0, 0, 0, 0, 0, 0, 0, 0, 0, 0, 0, 0])\n",
    "mu_sgnl = np.array([+0.1, 0, 0, 0, 0, 0, 0, 0, 0, 0, 0, 0, 0, 0, 0, 0])\n",
    "sg_bkgd = np.eye(16)\n",
    "sg_sgnl = np.eye(16)\n",
    "\n",
    "bkgd = stats.multivariate_normal(mu_bkgd, sg_bkgd)\n",
    "sgnl = stats.multivariate_normal(mu_sgnl, sg_sgnl)\n",
    "\n",
    "X_trn, X_tst, y_trn, y_tst = make_data(bkgd, sgnl)\n",
    "\n",
    "np.save('data/trees/16/X_trn.npy', X_trn)\n",
    "np.save('data/trees/16/y_trn.npy', y_trn)\n",
    "np.save('data/trees/16/X_tst.npy', X_tst)\n",
    "np.save('data/trees/16/y_tst.npy', y_tst)"
   ]
  },
  {
   "cell_type": "markdown",
   "id": "7ec2f53b-728f-4e90-a253-5cba1ce71606",
   "metadata": {},
   "source": [
    "## $d=32$"
   ]
  },
  {
   "cell_type": "code",
   "execution_count": null,
   "id": "c1960563-b54f-4422-b6ec-de18b903150f",
   "metadata": {},
   "outputs": [],
   "source": [
    "np.random.seed(666)\n",
    "\n",
    "if not os.path.isdir('data/trees/32'):\n",
    "    os.mkdir('data/trees/32')\n",
    "    \n",
    "#[-0.1] [0.1] in each coordinate, normalized to be at a distance of 0.2\n",
    "mu_bkgd = np.array([-0.1] + [0]*31)\n",
    "mu_sgnl = np.array([+0.1] + [0]*31)\n",
    "sg_bkgd = np.eye(32)\n",
    "sg_sgnl = np.eye(32)\n",
    "\n",
    "bkgd = stats.multivariate_normal(mu_bkgd, sg_bkgd)\n",
    "sgnl = stats.multivariate_normal(mu_sgnl, sg_sgnl)\n",
    "\n",
    "X_trn, X_tst, y_trn, y_tst = make_data(bkgd, sgnl)\n",
    "\n",
    "np.save('data/trees/32/X_trn.npy', X_trn)\n",
    "np.save('data/trees/32/y_trn.npy', y_trn)\n",
    "np.save('data/trees/32/X_tst.npy', X_tst)\n",
    "np.save('data/trees/32/y_tst.npy', y_tst)"
   ]
  },
  {
   "cell_type": "markdown",
   "id": "d37858dc-8a79-47df-a02f-98aa59e22f50",
   "metadata": {
    "tags": []
   },
   "source": [
    "# BDTs"
   ]
  },
  {
   "cell_type": "code",
   "execution_count": null,
   "id": "e748701c-ef22-4c51-851b-1c51e493c6a1",
   "metadata": {},
   "outputs": [],
   "source": [
    "if not os.path.isdir('data/bdts/1'):\n",
    "    os.mkdir('data/bdts/1')\n",
    "\n",
    "np.random.seed(666)\n",
    "    \n",
    "bkgd = stats.norm(-0.1, 1)\n",
    "sgnl = stats.norm(+0.1, 1)\n",
    "\n",
    "X_trn, X_tst, y_trn, y_tst = make_data(bkgd, sgnl)\n",
    "\n",
    "np.save('data/bdts/1/X_trn.npy', X_trn)\n",
    "np.save('data/bdts/1/y_trn.npy', y_trn)\n",
    "np.save('data/bdts/1/X_tst.npy', X_tst)\n",
    "np.save('data/bdts/1/y_tst.npy', y_tst)"
   ]
  },
  {
   "cell_type": "code",
   "execution_count": null,
   "id": "a2c14cdf-2795-4f50-a95e-913c391e3f2e",
   "metadata": {},
   "outputs": [],
   "source": [
    "if not os.path.isdir('data/bdts/2'):\n",
    "    os.mkdir('data/bdts/2')\n",
    "\n",
    "np.random.seed(666)\n",
    "\n",
    "d = 2\n",
    "b = 0.1 / (d ** (0.5))\n",
    "mu_bkgd = np.array([-b] * d)\n",
    "mu_sgnl = np.array([+b] * d)\n",
    "sg_bkgd = np.eye(d)\n",
    "sg_sgnl = np.eye(d)\n",
    "\n",
    "bkgd = stats.multivariate_normal(mu_bkgd, sg_bkgd)\n",
    "sgnl = stats.multivariate_normal(mu_sgnl, sg_sgnl)\n",
    "\n",
    "X_trn, X_tst, y_trn, y_tst = make_data(bkgd, sgnl)\n",
    "\n",
    "np.save('data/bdts/2/X_trn.npy', X_trn)\n",
    "np.save('data/bdts/2/y_trn.npy', y_trn)\n",
    "np.save('data/bdts/2/X_tst.npy', X_tst)\n",
    "np.save('data/bdts/2/y_tst.npy', y_tst)"
   ]
  },
  {
   "cell_type": "code",
   "execution_count": null,
   "id": "b8c6069f-22a0-4a35-895b-f220fcaccf00",
   "metadata": {},
   "outputs": [],
   "source": [
    "np.random.seed(666)\n",
    "\n",
    "if not os.path.isdir('data/bdts/4'):\n",
    "    os.mkdir('data/bdts/4')\n",
    "    \n",
    "d = 4\n",
    "b = 0.1 / (d ** (0.5))\n",
    "mu_bkgd = np.array([-b] * d)\n",
    "mu_sgnl = np.array([+b] * d)\n",
    "sg_bkgd = np.eye(d)\n",
    "sg_sgnl = np.eye(d)\n",
    "\n",
    "bkgd = stats.multivariate_normal(mu_bkgd, sg_bkgd)\n",
    "sgnl = stats.multivariate_normal(mu_sgnl, sg_sgnl)\n",
    "\n",
    "X_trn, X_tst, y_trn, y_tst = make_data(bkgd, sgnl)\n",
    "\n",
    "np.save('data/bdts/4/X_trn.npy', X_trn)\n",
    "np.save('data/bdts/4/y_trn.npy', y_trn)\n",
    "np.save('data/bdts/4/X_tst.npy', X_tst)\n",
    "np.save('data/bdts/4/y_tst.npy', y_tst)"
   ]
  },
  {
   "cell_type": "code",
   "execution_count": null,
   "id": "bcaa79a8-080a-4004-bb64-71a66b75c3cb",
   "metadata": {},
   "outputs": [],
   "source": [
    "np.random.seed(666)\n",
    "\n",
    "if not os.path.isdir('data/bdts/8'):\n",
    "    os.mkdir('data/bdts/8')\n",
    "    \n",
    "d = 8\n",
    "b = 0.1 / (d ** (0.5))\n",
    "mu_bkgd = np.array([-b] * d)\n",
    "mu_sgnl = np.array([+b] * d)\n",
    "sg_bkgd = np.eye(d)\n",
    "sg_sgnl = np.eye(d)\n",
    "\n",
    "bkgd = stats.multivariate_normal(mu_bkgd, sg_bkgd)\n",
    "sgnl = stats.multivariate_normal(mu_sgnl, sg_sgnl)\n",
    "\n",
    "X_trn, X_tst, y_trn, y_tst = make_data(bkgd, sgnl)\n",
    "\n",
    "np.save('data/bdts/8/X_trn.npy', X_trn)\n",
    "np.save('data/bdts/8/y_trn.npy', y_trn)\n",
    "np.save('data/bdts/8/X_tst.npy', X_tst)\n",
    "np.save('data/bdts/8/y_tst.npy', y_tst)"
   ]
  },
  {
   "cell_type": "code",
   "execution_count": null,
   "id": "728b832a-7b6d-498d-a9cd-116a5b51c0a5",
   "metadata": {},
   "outputs": [],
   "source": [
    "np.random.seed(666)\n",
    "\n",
    "if not os.path.isdir('data/bdts/16'):\n",
    "    os.mkdir('data/bdts/16')\n",
    "    \n",
    "d = 16\n",
    "b = 0.1 / (d ** (0.5))\n",
    "mu_bkgd = np.array([-b] * d)\n",
    "mu_sgnl = np.array([+b] * d)\n",
    "sg_bkgd = np.eye(d)\n",
    "sg_sgnl = np.eye(d)\n",
    "\n",
    "bkgd = stats.multivariate_normal(mu_bkgd, sg_bkgd)\n",
    "sgnl = stats.multivariate_normal(mu_sgnl, sg_sgnl)\n",
    "\n",
    "X_trn, X_tst, y_trn, y_tst = make_data(bkgd, sgnl)\n",
    "\n",
    "np.save('data/bdts/16/X_trn.npy', X_trn)\n",
    "np.save('data/bdts/16/y_trn.npy', y_trn)\n",
    "np.save('data/bdts/16/X_tst.npy', X_tst)\n",
    "np.save('data/bdts/16/y_tst.npy', y_tst)"
   ]
  },
  {
   "cell_type": "code",
   "execution_count": null,
   "id": "ebdae599-c9d4-44ec-87f4-12abe1d521d7",
   "metadata": {},
   "outputs": [],
   "source": [
    "np.random.seed(666)\n",
    "\n",
    "if not os.path.isdir('data/bdts/32'):\n",
    "    os.mkdir('data/bdts/32')\n",
    "    \n",
    "d = 32\n",
    "b = 0.1 / (d ** (0.5))\n",
    "mu_bkgd = np.array([-b] * d)\n",
    "mu_sgnl = np.array([+b] * d)\n",
    "sg_bkgd = np.eye(d)\n",
    "sg_sgnl = np.eye(d)\n",
    "\n",
    "bkgd = stats.multivariate_normal(mu_bkgd, sg_bkgd)\n",
    "sgnl = stats.multivariate_normal(mu_sgnl, sg_sgnl)\n",
    "\n",
    "X_trn, X_tst, y_trn, y_tst = make_data(bkgd, sgnl)\n",
    "\n",
    "np.save('data/bdts/32/X_trn.npy', X_trn)\n",
    "np.save('data/bdts/32/y_trn.npy', y_trn)\n",
    "np.save('data/bdts/32/X_tst.npy', X_tst)\n",
    "np.save('data/bdts/32/y_tst.npy', y_tst)"
   ]
  }
 ],
 "metadata": {
  "kernelspec": {
   "display_name": "multifold",
   "language": "python",
   "name": "multifold"
  },
  "language_info": {
   "codemirror_mode": {
    "name": "ipython",
    "version": 3
   },
   "file_extension": ".py",
   "mimetype": "text/x-python",
   "name": "python",
   "nbconvert_exporter": "python",
   "pygments_lexer": "ipython3",
   "version": "3.10.5"
  }
 },
 "nbformat": 4,
 "nbformat_minor": 5
}
