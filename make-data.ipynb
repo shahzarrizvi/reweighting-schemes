{
 "cells": [
  {
   "cell_type": "code",
   "execution_count": 4,
   "id": "aeaeb5d5-5cee-466c-8977-4817cfc273e8",
   "metadata": {},
   "outputs": [],
   "source": [
    "from scipy import stats\n",
    "import numpy as np\n",
    "import os\n",
    "\n",
    "from utils.training import make_data\n",
    "from flows.flows import *"
   ]
  },
  {
   "cell_type": "markdown",
   "id": "c5e23439-a7bf-48fe-a6d7-a07ba366d5cb",
   "metadata": {
    "jp-MarkdownHeadingCollapsed": true,
    "tags": []
   },
   "source": [
    "# Normal"
   ]
  },
  {
   "cell_type": "code",
   "execution_count": null,
   "id": "908fefa4-a947-4ad3-a0d0-54f61a2bff82",
   "metadata": {},
   "outputs": [],
   "source": [
    "if not os.path.isdir('data/normal/'):\n",
    "    os.mkdir('data/normal/')"
   ]
  },
  {
   "cell_type": "markdown",
   "id": "49d03f29-2418-4fe4-abc1-0cd1ae69aa14",
   "metadata": {
    "tags": []
   },
   "source": [
    "### $\\varepsilon = 0.1$"
   ]
  },
  {
   "cell_type": "code",
   "execution_count": null,
   "id": "82c9dac8-ebe9-48cf-8d44-773e066824a4",
   "metadata": {
    "scrolled": true,
    "tags": []
   },
   "outputs": [],
   "source": [
    "if not os.path.isdir('data/normal/0.1'):\n",
    "    os.mkdir('data/normal/0.1')\n",
    "\n",
    "np.random.seed(666)\n",
    "    \n",
    "bkgd = stats.norm(-0.1, 1)\n",
    "sgnl = stats.norm(+0.1, 1)\n",
    "\n",
    "X_trn, X_tst, y_trn, y_tst = make_data(bkgd, sgnl)\n",
    "\n",
    "np.save('data/normal/0.1/X_trn.npy', X_trn)\n",
    "np.save('data/normal/0.1/y_trn.npy', y_trn)\n",
    "np.save('data/normal/0.1/X_tst.npy', X_tst)\n",
    "np.save('data/normal/0.1/y_tst.npy', y_tst)"
   ]
  },
  {
   "cell_type": "markdown",
   "id": "00470756-73bb-4c80-a573-54586f2e188b",
   "metadata": {},
   "source": [
    "### $\\varepsilon = 0.2$"
   ]
  },
  {
   "cell_type": "code",
   "execution_count": null,
   "id": "12f90a1c-2a69-49ad-a502-6ff91b459015",
   "metadata": {},
   "outputs": [],
   "source": [
    "np.random.seed(666)\n",
    "\n",
    "if not os.path.isdir('data/normal/0.2'):\n",
    "    os.mkdir('data/normal/0.2')\n",
    "    \n",
    "bkgd = stats.norm(-0.2, 1)\n",
    "sgnl = stats.norm(+0.2, 1)\n",
    "\n",
    "X_trn, X_tst, y_trn, y_tst = make_data(bkgd, sgnl)\n",
    "\n",
    "np.save('data/normal/0.2/X_trn.npy', X_trn)\n",
    "np.save('data/normal/0.2/y_trn.npy', y_trn)\n",
    "np.save('data/normal/0.2/X_tst.npy', X_tst)\n",
    "np.save('data/normal/0.2/y_tst.npy', y_tst)"
   ]
  },
  {
   "cell_type": "markdown",
   "id": "17f6f94b-0608-4f5b-920c-7877d8ca9996",
   "metadata": {},
   "source": [
    "### $\\varepsilon = 0.3$"
   ]
  },
  {
   "cell_type": "code",
   "execution_count": null,
   "id": "e7680f58-631c-41e8-8270-33df53f1fb3e",
   "metadata": {},
   "outputs": [],
   "source": [
    "np.random.seed(666)\n",
    "\n",
    "if not os.path.isdir('data/normal/0.3/'):\n",
    "    os.mkdir('data/normal/0.3/')\n",
    "    \n",
    "bkgd = stats.norm(-0.3, 1)\n",
    "sgnl = stats.norm(+0.3, 1)\n",
    "\n",
    "X_trn, X_tst, y_trn, y_tst = make_data(bkgd, sgnl)\n",
    "\n",
    "np.save('data/normal/0.3/X_trn.npy', X_trn)\n",
    "np.save('data/normal/0.3/y_trn.npy', y_trn)\n",
    "np.save('data/normal/0.3/X_tst.npy', X_tst)\n",
    "np.save('data/normal/0.3/y_tst.npy', y_tst)"
   ]
  },
  {
   "cell_type": "markdown",
   "id": "71f7afa2-e56e-47d2-a25a-5ef9f09bf15c",
   "metadata": {},
   "source": [
    "### $\\varepsilon = 0.4$"
   ]
  },
  {
   "cell_type": "code",
   "execution_count": null,
   "id": "9d5a9983-a783-4104-8454-cc4d0fec0f16",
   "metadata": {},
   "outputs": [],
   "source": [
    "np.random.seed(666)\n",
    "\n",
    "if not os.path.isdir('data/normal/0.4/'):\n",
    "    os.mkdir('data/normal/0.4/')\n",
    "    \n",
    "bkgd = stats.norm(-0.4, 1)\n",
    "sgnl = stats.norm(+0.4, 1)\n",
    "\n",
    "X_trn, X_tst, y_trn, y_tst = make_data(bkgd, sgnl)\n",
    "\n",
    "np.save('data/normal/0.4/X_trn.npy', X_trn)\n",
    "np.save('data/normal/0.4/y_trn.npy', y_trn)\n",
    "np.save('data/normal/0.4/X_tst.npy', X_tst)\n",
    "np.save('data/normal/0.4/y_tst.npy', y_tst)"
   ]
  },
  {
   "cell_type": "markdown",
   "id": "e65c0a45-a6ea-4985-98ec-6f00e9de7d41",
   "metadata": {},
   "source": [
    "### $\\varepsilon = 0.5$"
   ]
  },
  {
   "cell_type": "code",
   "execution_count": null,
   "id": "5bb053e8-4173-4d21-92e8-edef0b4b4743",
   "metadata": {},
   "outputs": [],
   "source": [
    "np.random.seed(666)\n",
    "\n",
    "if not os.path.isdir('data/normal/0.5/'):\n",
    "    os.mkdir('data/normal/0.5/')\n",
    "    \n",
    "bkgd = stats.norm(-0.5, 1)\n",
    "sgnl = stats.norm(+0.5, 1)\n",
    "\n",
    "X_trn, X_tst, y_trn, y_tst = make_data(bkgd, sgnl)\n",
    "\n",
    "np.save('data/normal/0.5/X_trn.npy', X_trn)\n",
    "np.save('data/normal/0.5/y_trn.npy', y_trn)\n",
    "np.save('data/normal/0.5/X_tst.npy', X_tst)\n",
    "np.save('data/normal/0.5/y_tst.npy', y_tst)"
   ]
  },
  {
   "cell_type": "markdown",
   "id": "a66beaed-4504-451e-8e1b-9334ced49f34",
   "metadata": {
    "jp-MarkdownHeadingCollapsed": true,
    "tags": []
   },
   "source": [
    "# Centered at $10$"
   ]
  },
  {
   "cell_type": "code",
   "execution_count": null,
   "id": "156bf1ee-b0bc-4911-ad25-ff23b2ca016d",
   "metadata": {},
   "outputs": [],
   "source": [
    "np.random.seed(666)\n",
    "\n",
    "if not os.path.isdir('data/normal/10/'):\n",
    "    os.mkdir('data/normal/10/')\n",
    "    \n",
    "bkgd = stats.norm(10 - 0.1, 1)\n",
    "sgnl = stats.norm(10 + 0.1, 1)\n",
    "\n",
    "X_trn, X_tst, y_trn, y_tst = make_data(bkgd, sgnl)\n",
    "\n",
    "np.save('data/normal/10/X_trn.npy', X_trn)\n",
    "np.save('data/normal/10/y_trn.npy', y_trn)\n",
    "np.save('data/normal/10/X_tst.npy', X_tst)\n",
    "np.save('data/normal/10/y_tst.npy', y_tst)"
   ]
  },
  {
   "cell_type": "markdown",
   "id": "41d07de5-6523-4a84-9cbd-6f7c3e52decc",
   "metadata": {
    "jp-MarkdownHeadingCollapsed": true,
    "tags": []
   },
   "source": [
    "# Gamma"
   ]
  },
  {
   "cell_type": "code",
   "execution_count": null,
   "id": "59b125a2-3a92-4435-b0f3-812ab6413003",
   "metadata": {},
   "outputs": [],
   "source": [
    "np.random.seed(666)\n",
    "\n",
    "if not os.path.isdir('data/gamma/'):\n",
    "    os.mkdir('data/gamma/')\n",
    "    \n",
    "bkgd = stats.gamma(5, 1)\n",
    "sgnl = stats.gamma(6, 1)\n",
    "\n",
    "X_trn, X_tst, y_trn, y_tst = make_data(bkgd, sgnl)\n",
    "\n",
    "np.save('data/gamma/X_trn.npy', X_trn)\n",
    "np.save('data/gamma/y_trn.npy', y_trn)\n",
    "np.save('data/gamma/X_tst.npy', X_tst)\n",
    "np.save('data/gamma/y_tst.npy', y_tst)"
   ]
  },
  {
   "cell_type": "markdown",
   "id": "21aa3f98-efcf-4f56-ada1-761dd2cc7ad2",
   "metadata": {
    "jp-MarkdownHeadingCollapsed": true,
    "tags": []
   },
   "source": [
    "# Beta"
   ]
  },
  {
   "cell_type": "code",
   "execution_count": null,
   "id": "87a16660-cef8-4893-8f2b-1b5ea01d8674",
   "metadata": {},
   "outputs": [],
   "source": [
    "np.random.seed(666)\n",
    "\n",
    "if not os.path.isdir('data/beta/'):\n",
    "    os.mkdir('data/beta/')\n",
    "    \n",
    "bkgd = stats.beta(2, 3)\n",
    "sgnl = stats.beta(3, 2)\n",
    "\n",
    "X_trn, X_tst, y_trn, y_tst = make_data(bkgd, sgnl)\n",
    "\n",
    "np.save('data/beta/X_trn.npy', X_trn)\n",
    "np.save('data/beta/y_trn.npy', y_trn)\n",
    "np.save('data/beta/X_tst.npy', X_tst)\n",
    "np.save('data/beta/y_tst.npy', y_tst)"
   ]
  },
  {
   "cell_type": "markdown",
   "id": "0aa529b1-6785-4de5-a45a-387cbebb83c8",
   "metadata": {
    "jp-MarkdownHeadingCollapsed": true,
    "tags": []
   },
   "source": [
    "# Multivariate Normal"
   ]
  },
  {
   "cell_type": "code",
   "execution_count": null,
   "id": "bb15ac6c-9cf3-47f7-87b4-7010117b3d46",
   "metadata": {},
   "outputs": [],
   "source": [
    "if not os.path.isdir('data/mvn/'):\n",
    "    os.mkdir('data/mvn/')"
   ]
  },
  {
   "cell_type": "markdown",
   "id": "7b3391fd-430f-473c-b7df-b1999b68c632",
   "metadata": {
    "jp-MarkdownHeadingCollapsed": true,
    "tags": []
   },
   "source": [
    "## Vertical"
   ]
  },
  {
   "cell_type": "code",
   "execution_count": null,
   "id": "66826ba8-b2ab-4724-a424-ed7e086265b2",
   "metadata": {},
   "outputs": [],
   "source": [
    "np.random.seed(666)\n",
    "\n",
    "if not os.path.isdir('data/mvn/vertical/'):\n",
    "    os.mkdir('data/mvn/vertical/')\n",
    "    \n",
    "mu_bkgd = np.array([-0.1, 0])\n",
    "mu_sgnl = np.array([+0.1, 0])\n",
    "sg_bkgd = np.eye(2)\n",
    "sg_sgnl = np.eye(2)\n",
    "\n",
    "bkgd = stats.multivariate_normal(mu_bkgd, sg_bkgd)\n",
    "sgnl = stats.multivariate_normal(mu_sgnl, sg_sgnl)\n",
    "\n",
    "X_trn, X_tst, y_trn, y_tst = make_data(bkgd, sgnl)\n",
    "\n",
    "np.save('data/mvn/vertical/X_trn.npy', X_trn)\n",
    "np.save('data/mvn/vertical/y_trn.npy', y_trn)\n",
    "np.save('data/mvn/vertical/X_tst.npy', X_tst)\n",
    "np.save('data/mvn/vertical/y_tst.npy', y_tst)"
   ]
  },
  {
   "cell_type": "code",
   "execution_count": null,
   "id": "3b12fc99-e2d8-4ec8-9133-ac4257a82194",
   "metadata": {},
   "outputs": [],
   "source": [
    "X = bkgd.rvs(size = 10)\n",
    "y = stats.bernoulli.rvs(0.5, size = 10)"
   ]
  },
  {
   "cell_type": "markdown",
   "id": "2088edbb-f553-40a4-a687-c73043b9b037",
   "metadata": {
    "jp-MarkdownHeadingCollapsed": true,
    "tags": []
   },
   "source": [
    "## Slant"
   ]
  },
  {
   "cell_type": "code",
   "execution_count": null,
   "id": "b323b9c4-ba4e-472c-b276-74e813de8206",
   "metadata": {},
   "outputs": [],
   "source": [
    "np.random.seed(666)\n",
    "\n",
    "if not os.path.isdir('data/mvn/slant/'):\n",
    "    os.mkdir('data/mvn/slant/')\n",
    "    \n",
    "b = 0.1 / (2 ** (0.5))\n",
    "mu_bkgd = np.array([-b, +b])\n",
    "mu_sgnl = np.array([+b, -b])\n",
    "sg_bkgd = np.eye(2)\n",
    "sg_sgnl = np.eye(2)\n",
    "\n",
    "bkgd = stats.multivariate_normal(mu_bkgd, sg_bkgd)\n",
    "sgnl = stats.multivariate_normal(mu_sgnl, sg_sgnl)\n",
    "\n",
    "X_trn, X_tst, y_trn, y_tst = make_data(bkgd, sgnl)\n",
    "\n",
    "np.save('data/mvn/slant/X_trn.npy', X_trn)\n",
    "np.save('data/mvn/slant/y_trn.npy', y_trn)\n",
    "np.save('data/mvn/slant/X_tst.npy', X_tst)\n",
    "np.save('data/mvn/slant/y_tst.npy', y_tst)"
   ]
  },
  {
   "cell_type": "markdown",
   "id": "0c473c5c-0089-4f81-b1cf-829a39dc1faf",
   "metadata": {
    "jp-MarkdownHeadingCollapsed": true,
    "tags": []
   },
   "source": [
    "## Circle"
   ]
  },
  {
   "cell_type": "code",
   "execution_count": null,
   "id": "78567724-2582-47a5-9d5e-fec48ba13290",
   "metadata": {},
   "outputs": [],
   "source": [
    "np.random.seed(666)\n",
    "\n",
    "if not os.path.isdir('data/mvn/circle/'):\n",
    "    os.mkdir('data/mvn/circle/')\n",
    "    \n",
    "mu_bkgd = np.array([-0.1, 0])\n",
    "mu_sgnl = np.array([+0.1, 0])\n",
    "sg_bkgd = 2*np.eye(2)\n",
    "sg_sgnl = np.eye(2)\n",
    "\n",
    "bkgd = stats.multivariate_normal(mu_bkgd, sg_bkgd)\n",
    "sgnl = stats.multivariate_normal(mu_sgnl, sg_sgnl)\n",
    "\n",
    "X_trn, X_tst, y_trn, y_tst = make_data(bkgd, sgnl)\n",
    "\n",
    "np.save('data/mvn/circle/X_trn.npy', X_trn)\n",
    "np.save('data/mvn/circle/y_trn.npy', y_trn)\n",
    "np.save('data/mvn/circle/X_tst.npy', X_tst)\n",
    "np.save('data/mvn/circle/y_tst.npy', y_tst)"
   ]
  },
  {
   "cell_type": "markdown",
   "id": "1984ca1b-97ab-42c0-92f6-71cd0279db65",
   "metadata": {
    "jp-MarkdownHeadingCollapsed": true,
    "tags": []
   },
   "source": [
    "## Hyperbola\n"
   ]
  },
  {
   "cell_type": "code",
   "execution_count": null,
   "id": "85fd4b71-bde9-4dd9-9dd5-2a5ab0e58534",
   "metadata": {},
   "outputs": [],
   "source": [
    "np.random.seed(666)\n",
    "\n",
    "if not os.path.isdir('data/mvn/hyperbola/'):\n",
    "    os.mkdir('data/mvn/hyperbola/')\n",
    "    \n",
    "mu_bkgd = np.array([-0.1, 0])\n",
    "mu_sgnl = np.array([+0.1, 0])\n",
    "sg_bkgd = np.array([[2, 0], [0, 1]])\n",
    "sg_sgnl = np.array([[1, 0], [0, 2]])\n",
    "\n",
    "bkgd = stats.multivariate_normal(mu_bkgd, sg_bkgd)\n",
    "sgnl = stats.multivariate_normal(mu_sgnl, sg_sgnl)\n",
    "\n",
    "X_trn, X_tst, y_trn, y_tst = make_data(bkgd, sgnl)\n",
    "\n",
    "np.save('data/mvn/hyperbola/X_trn.npy', X_trn)\n",
    "np.save('data/mvn/hyperbola/y_trn.npy', y_trn)\n",
    "np.save('data/mvn/hyperbola/X_tst.npy', X_tst)\n",
    "np.save('data/mvn/hyperbola/y_tst.npy', y_tst)"
   ]
  },
  {
   "cell_type": "markdown",
   "id": "d82f4144-926e-4416-a7dd-f2da199e458e",
   "metadata": {},
   "source": [
    "## Checker"
   ]
  },
  {
   "cell_type": "code",
   "execution_count": null,
   "id": "56b1b01b-1119-4a4a-b7f0-2d4342b8237b",
   "metadata": {},
   "outputs": [],
   "source": [
    "np.random.seed(666)\n",
    "\n",
    "if not os.path.isdir('data/mvn/checker/'):\n",
    "    os.mkdir('data/mvn/checker/')\n",
    "    \n",
    "mu_bkgd = np.array([-0.1, 0])\n",
    "mu_sgnl = np.array([+0.1, 0])\n",
    "sg_bkgd = np.array([[2, +0.25], [+0.25, 1]])\n",
    "sg_sgnl = np.array([[2, -0.25], [-0.25, 1]])\n",
    "\n",
    "bkgd = stats.multivariate_normal(mu_bkgd, sg_bkgd)\n",
    "sgnl = stats.multivariate_normal(mu_sgnl, sg_sgnl)\n",
    "\n",
    "X_trn, X_tst, y_trn, y_tst = make_data(bkgd, sgnl)\n",
    "\n",
    "np.save('data/mvn/checker/X_trn.npy', X_trn)\n",
    "np.save('data/mvn/checker/y_trn.npy', y_trn)\n",
    "np.save('data/mvn/checker/X_tst.npy', X_tst)\n",
    "np.save('data/mvn/checker/y_tst.npy', y_tst)"
   ]
  },
  {
   "cell_type": "markdown",
   "id": "431f888f-57b5-4d74-a8cc-f2a27cbf23a8",
   "metadata": {
    "jp-MarkdownHeadingCollapsed": true,
    "tags": []
   },
   "source": [
    "# Zenodo"
   ]
  },
  {
   "cell_type": "markdown",
   "id": "4f728000-3282-454a-a5ac-93ef47eb12bc",
   "metadata": {
    "tags": []
   },
   "source": [
    "## Flow Training Data"
   ]
  },
  {
   "cell_type": "code",
   "execution_count": null,
   "id": "2985f96e-2836-4291-8cb9-c37c5628e121",
   "metadata": {},
   "outputs": [],
   "source": [
    "mc = np.load(\"data/zenodo/Pythia21_Zjet_pTZ-200GeV_0.npz\")\n",
    "\n",
    "sim_pt =  mc['sim_jets'][:, 0]\n",
    "sim_eta = mc['sim_jets'][:, 1]\n",
    "sim_phi = mc['sim_jets'][:, 2]\n",
    "sim_m =   mc['sim_jets'][:, 3]\n",
    "\n",
    "sim = np.vstack([sim_pt, sim_eta, sim_phi, sim_m]).T\n",
    "\n",
    "data = np.load(\"data/zenodo/Herwig_Zjet_pTZ-200GeV_0.npz\")\n",
    "\n",
    "dat_pt =  data['sim_jets'][:, 0]\n",
    "dat_eta = data['sim_jets'][:, 1]\n",
    "dat_phi = data['sim_jets'][:, 2]\n",
    "dat_m =   data['sim_jets'][:, 3]\n",
    "\n",
    "dat = np.vstack([dat_pt, dat_eta, dat_phi, dat_m]).T"
   ]
  },
  {
   "cell_type": "code",
   "execution_count": null,
   "id": "06186339-ffd9-4162-80e1-1055926a7baa",
   "metadata": {},
   "outputs": [],
   "source": [
    "# sim is bkgd\n",
    "# dat is sgnl\n",
    "X = np.vstack((sim, dat))\n",
    "y = np.hstack((np.zeros(sim.shape[0]), np.ones(dat.shape[0])))"
   ]
  },
  {
   "cell_type": "code",
   "execution_count": null,
   "id": "55cf801e-bd84-4900-b49f-8ce3618da184",
   "metadata": {},
   "outputs": [],
   "source": [
    "np.save('data/zenodo/X.npy', X)\n",
    "np.save('data/zenodo/y.npy', y)"
   ]
  },
  {
   "cell_type": "markdown",
   "id": "519af07d-c222-4927-9aa6-b7ba85feafac",
   "metadata": {
    "jp-MarkdownHeadingCollapsed": true,
    "tags": []
   },
   "source": [
    "## Fold Training Data"
   ]
  },
  {
   "cell_type": "code",
   "execution_count": 2,
   "id": "8100d489-ee81-4d38-ab1b-ef6b1ab9cac5",
   "metadata": {},
   "outputs": [],
   "source": [
    "np.random.seed(666)\n",
    "N_trn = 10**7\n",
    "N_tst = 10**5"
   ]
  },
  {
   "cell_type": "code",
   "execution_count": 3,
   "id": "3ecd07d5-3b21-4260-9147-22d9a05fd377",
   "metadata": {},
   "outputs": [],
   "source": [
    "os.environ[\"CUDA_VISIBLE_DEVICES\"] = \"1\" # pick a number < 4 on ML4HEP; < 3 on Voltan \n",
    "physical_devices = tf.config.list_physical_devices('GPU') \n",
    "tf.config.experimental.set_memory_growth(physical_devices[0], True)"
   ]
  },
  {
   "cell_type": "code",
   "execution_count": 4,
   "id": "9a8517f3-aea3-498f-9c2f-7923566f2d2a",
   "metadata": {},
   "outputs": [
    {
     "name": "stderr",
     "output_type": "stream",
     "text": [
      "2023-01-28 22:59:34.186768: I tensorflow/core/platform/cpu_feature_guard.cc:151] This TensorFlow binary is optimized with oneAPI Deep Neural Network Library (oneDNN) to use the following CPU instructions in performance-critical operations:  SSE4.1 SSE4.2 AVX AVX2 FMA\n",
      "To enable them in other operations, rebuild TensorFlow with the appropriate compiler flags.\n",
      "2023-01-28 22:59:34.831282: I tensorflow/core/common_runtime/gpu/gpu_device.cc:1525] Created device /job:localhost/replica:0/task:0/device:GPU:0 with 20091 MB memory:  -> device: 0, name: Quadro RTX 6000, pci bus id: 0000:41:00.0, compute capability: 7.5\n"
     ]
    },
    {
     "data": {
      "text/plain": [
       "<tensorflow.python.training.tracking.util.CheckpointLoadStatus at 0x7f52b6dd5a50>"
      ]
     },
     "execution_count": 4,
     "metadata": {},
     "output_type": "execute_result"
    }
   ],
   "source": [
    "dat_target = make_target(4)\n",
    "sim_target = make_target(4)\n",
    "\n",
    "dat_ckpt = tf.train.Checkpoint(dat_target)\n",
    "sim_ckpt = tf.train.Checkpoint(sim_target)\n",
    "\n",
    "dat_ckpt.restore('flows/dat/ckpt-79')\n",
    "sim_ckpt.restore('flows/sim/ckpt-79')"
   ]
  },
  {
   "cell_type": "code",
   "execution_count": 5,
   "id": "e8109512-4494-4503-ae5c-b63885576237",
   "metadata": {},
   "outputs": [],
   "source": [
    "y_trn = stats.bernoulli.rvs(0.5, size = N_trn)\n",
    "\n",
    "X_bkgd = sim_target.sample(N_trn).numpy()\n",
    "X_sgnl = dat_target.sample(N_trn).numpy()\n",
    "\n",
    "X_trn = np.zeros_like(X_bkgd)\n",
    "X_trn[y_trn == 0] = X_bkgd[y_trn == 0]\n",
    "X_trn[y_trn == 1] = X_sgnl[y_trn == 1]\n",
    "\n",
    "y_tst = stats.bernoulli.rvs(0.5, size = N_tst)\n",
    "\n",
    "X_bkgd = sim_target.sample(N_tst).numpy()\n",
    "X_sgnl = dat_target.sample(N_tst).numpy()\n",
    "\n",
    "X_tst = np.zeros_like(X_bkgd)\n",
    "X_tst[y_tst == 0] = X_bkgd[y_tst == 0]\n",
    "X_tst[y_tst == 1] = X_sgnl[y_tst == 1]\n",
    "\n",
    "np.save('data/zenodo/X_trn.npy', X_trn)\n",
    "np.save('data/zenodo/y_trn.npy', y_trn)\n",
    "np.save('data/zenodo/X_tst.npy', X_tst)\n",
    "np.save('data/zenodo/y_tst.npy', y_tst)"
   ]
  },
  {
   "cell_type": "markdown",
   "id": "8b2cc551-e6c0-496c-be25-3ed8cae48bad",
   "metadata": {
    "tags": []
   },
   "source": [
    "# Trees"
   ]
  },
  {
   "cell_type": "code",
   "execution_count": 8,
   "id": "85fc9a54-8764-4883-b0d1-b5541f628b35",
   "metadata": {},
   "outputs": [],
   "source": [
    "if not os.path.isdir('data/trees/'):\n",
    "    os.mkdir('data/trees/')"
   ]
  },
  {
   "cell_type": "markdown",
   "id": "33634b57-fc42-4067-9368-62813abdf00c",
   "metadata": {},
   "source": [
    "## $d = 1$"
   ]
  },
  {
   "cell_type": "code",
   "execution_count": 9,
   "id": "786cb2dc-aadd-4997-9d5e-fc00d1b1013a",
   "metadata": {},
   "outputs": [],
   "source": [
    "if not os.path.isdir('data/trees/1'):\n",
    "    os.mkdir('data/trees/1')\n",
    "\n",
    "np.random.seed(666)\n",
    "    \n",
    "bkgd = stats.norm(-0.1, 1)\n",
    "sgnl = stats.norm(+0.1, 1)\n",
    "\n",
    "X_trn, X_tst, y_trn, y_tst = make_data(bkgd, sgnl)\n",
    "\n",
    "np.save('data/trees/1/X_trn.npy', X_trn)\n",
    "np.save('data/trees/1/y_trn.npy', y_trn)\n",
    "np.save('data/trees/1/X_tst.npy', X_tst)\n",
    "np.save('data/trees/1/y_tst.npy', y_tst)"
   ]
  },
  {
   "cell_type": "markdown",
   "id": "7cdd25c8-d1b7-47e1-ae46-7fd692276d5a",
   "metadata": {},
   "source": [
    "## $d = 2$"
   ]
  },
  {
   "cell_type": "code",
   "execution_count": 10,
   "id": "ebbe24b8-ce67-4154-ab3b-bed2d70ec3e7",
   "metadata": {},
   "outputs": [],
   "source": [
    "if not os.path.isdir('data/trees/2'):\n",
    "    os.mkdir('data/trees/2')\n",
    "\n",
    "np.random.seed(666)\n",
    "    \n",
    "mu_bkgd = np.array([-0.1, 0])\n",
    "mu_sgnl = np.array([+0.1, 0])\n",
    "sg_bkgd = np.eye(2)\n",
    "sg_sgnl = np.eye(2)\n",
    "\n",
    "bkgd = stats.multivariate_normal(mu_bkgd, sg_bkgd)\n",
    "sgnl = stats.multivariate_normal(mu_sgnl, sg_sgnl)\n",
    "\n",
    "X_trn, X_tst, y_trn, y_tst = make_data(bkgd, sgnl)\n",
    "\n",
    "np.save('data/trees/2/X_trn.npy', X_trn)\n",
    "np.save('data/trees/2/y_trn.npy', y_trn)\n",
    "np.save('data/trees/2/X_tst.npy', X_tst)\n",
    "np.save('data/trees/2/y_tst.npy', y_tst)"
   ]
  },
  {
   "cell_type": "markdown",
   "id": "ad23ffe2-1978-45d4-a6fd-c45b40ca7481",
   "metadata": {},
   "source": [
    "## $d = 4$"
   ]
  },
  {
   "cell_type": "code",
   "execution_count": 11,
   "id": "d491e48d-74a0-44ce-ab7b-e3cb71af2add",
   "metadata": {},
   "outputs": [],
   "source": [
    "np.random.seed(666)\n",
    "\n",
    "if not os.path.isdir('data/trees/4'):\n",
    "    os.mkdir('data/trees/4')\n",
    "    \n",
    "mu_bkgd = np.array([-0.1, 0, 0, 0])\n",
    "mu_sgnl = np.array([+0.1, 0, 0, 0])\n",
    "sg_bkgd = np.eye(4)\n",
    "sg_sgnl = np.eye(4)\n",
    "\n",
    "bkgd = stats.multivariate_normal(mu_bkgd, sg_bkgd)\n",
    "sgnl = stats.multivariate_normal(mu_sgnl, sg_sgnl)\n",
    "\n",
    "X_trn, X_tst, y_trn, y_tst = make_data(bkgd, sgnl)\n",
    "\n",
    "np.save('data/trees/4/X_trn.npy', X_trn)\n",
    "np.save('data/trees/4/y_trn.npy', y_trn)\n",
    "np.save('data/trees/4/X_tst.npy', X_tst)\n",
    "np.save('data/trees/4/y_tst.npy', y_tst)"
   ]
  },
  {
   "cell_type": "markdown",
   "id": "89eb9ee7-e8e5-4290-8c54-30194bf9c153",
   "metadata": {},
   "source": [
    "## $d = 8$"
   ]
  },
  {
   "cell_type": "code",
   "execution_count": 12,
   "id": "12018bff-c165-49f3-bd5e-b68d65b8b3da",
   "metadata": {},
   "outputs": [],
   "source": [
    "np.random.seed(666)\n",
    "\n",
    "if not os.path.isdir('data/trees/8'):\n",
    "    os.mkdir('data/trees/8')\n",
    "    \n",
    "mu_bkgd = np.array([-0.1, 0, 0, 0, 0, 0, 0, 0])\n",
    "mu_sgnl = np.array([+0.1, 0, 0, 0, 0, 0, 0, 0])\n",
    "sg_bkgd = np.eye(8)\n",
    "sg_sgnl = np.eye(8)\n",
    "\n",
    "bkgd = stats.multivariate_normal(mu_bkgd, sg_bkgd)\n",
    "sgnl = stats.multivariate_normal(mu_sgnl, sg_sgnl)\n",
    "\n",
    "X_trn, X_tst, y_trn, y_tst = make_data(bkgd, sgnl)\n",
    "\n",
    "np.save('data/trees/8/X_trn.npy', X_trn)\n",
    "np.save('data/trees/8/y_trn.npy', y_trn)\n",
    "np.save('data/trees/8/X_tst.npy', X_tst)\n",
    "np.save('data/trees/8/y_tst.npy', y_tst)"
   ]
  },
  {
   "cell_type": "markdown",
   "id": "bd95b839-2f77-42d7-82bb-54be9d4101da",
   "metadata": {},
   "source": [
    "## $d = 16$"
   ]
  },
  {
   "cell_type": "code",
   "execution_count": 13,
   "id": "c722e2a5-8cd4-4df0-9432-3411bc034ffb",
   "metadata": {},
   "outputs": [],
   "source": [
    "np.random.seed(666)\n",
    "\n",
    "if not os.path.isdir('data/trees/16'):\n",
    "    os.mkdir('data/trees/16')\n",
    "    \n",
    "mu_bkgd = np.array([-0.1, 0, 0, 0, 0, 0, 0, 0, 0, 0, 0, 0, 0, 0, 0, 0])\n",
    "mu_sgnl = np.array([+0.1, 0, 0, 0, 0, 0, 0, 0, 0, 0, 0, 0, 0, 0, 0, 0])\n",
    "sg_bkgd = np.eye(16)\n",
    "sg_sgnl = np.eye(16)\n",
    "\n",
    "bkgd = stats.multivariate_normal(mu_bkgd, sg_bkgd)\n",
    "sgnl = stats.multivariate_normal(mu_sgnl, sg_sgnl)\n",
    "\n",
    "X_trn, X_tst, y_trn, y_tst = make_data(bkgd, sgnl)\n",
    "\n",
    "np.save('data/trees/16/X_trn.npy', X_trn)\n",
    "np.save('data/trees/16/y_trn.npy', y_trn)\n",
    "np.save('data/trees/16/X_tst.npy', X_tst)\n",
    "np.save('data/trees/16/y_tst.npy', y_tst)"
   ]
  },
  {
   "cell_type": "markdown",
   "id": "7ec2f53b-728f-4e90-a253-5cba1ce71606",
   "metadata": {},
   "source": [
    "## $d=32$"
   ]
  },
  {
   "cell_type": "code",
   "execution_count": 4,
   "id": "c1960563-b54f-4422-b6ec-de18b903150f",
   "metadata": {},
   "outputs": [],
   "source": [
    "np.random.seed(666)\n",
    "\n",
    "if not os.path.isdir('data/trees/32'):\n",
    "    os.mkdir('data/trees/32')\n",
    "    \n",
    "#[-0.1] [0.1] in each coordinate, normalized to be at a distance of 0.2\n",
    "mu_bkgd = np.array([-0.1] + [0]*31)\n",
    "mu_sgnl = np.array([+0.1] + [0]*31)\n",
    "sg_bkgd = np.eye(32)\n",
    "sg_sgnl = np.eye(32)\n",
    "\n",
    "bkgd = stats.multivariate_normal(mu_bkgd, sg_bkgd)\n",
    "sgnl = stats.multivariate_normal(mu_sgnl, sg_sgnl)\n",
    "\n",
    "X_trn, X_tst, y_trn, y_tst = make_data(bkgd, sgnl)\n",
    "\n",
    "np.save('data/trees/32/X_trn.npy', X_trn)\n",
    "np.save('data/trees/32/y_trn.npy', y_trn)\n",
    "np.save('data/trees/32/X_tst.npy', X_tst)\n",
    "np.save('data/trees/32/y_tst.npy', y_tst)"
   ]
  },
  {
   "cell_type": "markdown",
   "id": "d37858dc-8a79-47df-a02f-98aa59e22f50",
   "metadata": {
    "jp-MarkdownHeadingCollapsed": true,
    "tags": []
   },
   "source": [
    "# BDTs"
   ]
  },
  {
   "cell_type": "code",
   "execution_count": 7,
   "id": "e748701c-ef22-4c51-851b-1c51e493c6a1",
   "metadata": {},
   "outputs": [],
   "source": [
    "if not os.path.isdir('data/bdts/1'):\n",
    "    os.mkdir('data/bdts/1')\n",
    "\n",
    "np.random.seed(666)\n",
    "    \n",
    "bkgd = stats.norm(-0.1, 1)\n",
    "sgnl = stats.norm(+0.1, 1)\n",
    "\n",
    "X_trn, X_tst, y_trn, y_tst = make_data(bkgd, sgnl)\n",
    "\n",
    "np.save('data/bdts/1/X_trn.npy', X_trn)\n",
    "np.save('data/bdts/1/y_trn.npy', y_trn)\n",
    "np.save('data/bdts/1/X_tst.npy', X_tst)\n",
    "np.save('data/bdts/1/y_tst.npy', y_tst)"
   ]
  },
  {
   "cell_type": "code",
   "execution_count": 8,
   "id": "a2c14cdf-2795-4f50-a95e-913c391e3f2e",
   "metadata": {},
   "outputs": [],
   "source": [
    "if not os.path.isdir('data/bdts/2'):\n",
    "    os.mkdir('data/bdts/2')\n",
    "\n",
    "np.random.seed(666)\n",
    "\n",
    "d = 2\n",
    "b = 0.1 / (d ** (0.5))\n",
    "mu_bkgd = np.array([-b] * d)\n",
    "mu_sgnl = np.array([+b] * d)\n",
    "sg_bkgd = np.eye(d)\n",
    "sg_sgnl = np.eye(d)\n",
    "\n",
    "bkgd = stats.multivariate_normal(mu_bkgd, sg_bkgd)\n",
    "sgnl = stats.multivariate_normal(mu_sgnl, sg_sgnl)\n",
    "\n",
    "X_trn, X_tst, y_trn, y_tst = make_data(bkgd, sgnl)\n",
    "\n",
    "np.save('data/bdts/2/X_trn.npy', X_trn)\n",
    "np.save('data/bdts/2/y_trn.npy', y_trn)\n",
    "np.save('data/bdts/2/X_tst.npy', X_tst)\n",
    "np.save('data/bdts/2/y_tst.npy', y_tst)"
   ]
  },
  {
   "cell_type": "code",
   "execution_count": 9,
   "id": "b8c6069f-22a0-4a35-895b-f220fcaccf00",
   "metadata": {},
   "outputs": [],
   "source": [
    "np.random.seed(666)\n",
    "\n",
    "if not os.path.isdir('data/bdts/4'):\n",
    "    os.mkdir('data/bdts/4')\n",
    "    \n",
    "d = 4\n",
    "b = 0.1 / (d ** (0.5))\n",
    "mu_bkgd = np.array([-b] * d)\n",
    "mu_sgnl = np.array([+b] * d)\n",
    "sg_bkgd = np.eye(d)\n",
    "sg_sgnl = np.eye(d)\n",
    "\n",
    "bkgd = stats.multivariate_normal(mu_bkgd, sg_bkgd)\n",
    "sgnl = stats.multivariate_normal(mu_sgnl, sg_sgnl)\n",
    "\n",
    "X_trn, X_tst, y_trn, y_tst = make_data(bkgd, sgnl)\n",
    "\n",
    "np.save('data/bdts/4/X_trn.npy', X_trn)\n",
    "np.save('data/bdts/4/y_trn.npy', y_trn)\n",
    "np.save('data/bdts/4/X_tst.npy', X_tst)\n",
    "np.save('data/bdts/4/y_tst.npy', y_tst)"
   ]
  },
  {
   "cell_type": "code",
   "execution_count": 10,
   "id": "bcaa79a8-080a-4004-bb64-71a66b75c3cb",
   "metadata": {},
   "outputs": [],
   "source": [
    "np.random.seed(666)\n",
    "\n",
    "if not os.path.isdir('data/bdts/8'):\n",
    "    os.mkdir('data/bdts/8')\n",
    "    \n",
    "d = 8\n",
    "b = 0.1 / (d ** (0.5))\n",
    "mu_bkgd = np.array([-b] * d)\n",
    "mu_sgnl = np.array([+b] * d)\n",
    "sg_bkgd = np.eye(d)\n",
    "sg_sgnl = np.eye(d)\n",
    "\n",
    "bkgd = stats.multivariate_normal(mu_bkgd, sg_bkgd)\n",
    "sgnl = stats.multivariate_normal(mu_sgnl, sg_sgnl)\n",
    "\n",
    "X_trn, X_tst, y_trn, y_tst = make_data(bkgd, sgnl)\n",
    "\n",
    "np.save('data/bdts/8/X_trn.npy', X_trn)\n",
    "np.save('data/bdts/8/y_trn.npy', y_trn)\n",
    "np.save('data/bdts/8/X_tst.npy', X_tst)\n",
    "np.save('data/bdts/8/y_tst.npy', y_tst)"
   ]
  },
  {
   "cell_type": "code",
   "execution_count": 11,
   "id": "728b832a-7b6d-498d-a9cd-116a5b51c0a5",
   "metadata": {},
   "outputs": [],
   "source": [
    "np.random.seed(666)\n",
    "\n",
    "if not os.path.isdir('data/bdts/16'):\n",
    "    os.mkdir('data/bdts/16')\n",
    "    \n",
    "d = 16\n",
    "b = 0.1 / (d ** (0.5))\n",
    "mu_bkgd = np.array([-b] * d)\n",
    "mu_sgnl = np.array([+b] * d)\n",
    "sg_bkgd = np.eye(d)\n",
    "sg_sgnl = np.eye(d)\n",
    "\n",
    "bkgd = stats.multivariate_normal(mu_bkgd, sg_bkgd)\n",
    "sgnl = stats.multivariate_normal(mu_sgnl, sg_sgnl)\n",
    "\n",
    "X_trn, X_tst, y_trn, y_tst = make_data(bkgd, sgnl)\n",
    "\n",
    "np.save('data/bdts/16/X_trn.npy', X_trn)\n",
    "np.save('data/bdts/16/y_trn.npy', y_trn)\n",
    "np.save('data/bdts/16/X_tst.npy', X_tst)\n",
    "np.save('data/bdts/16/y_tst.npy', y_tst)"
   ]
  },
  {
   "cell_type": "code",
   "execution_count": 12,
   "id": "ebdae599-c9d4-44ec-87f4-12abe1d521d7",
   "metadata": {},
   "outputs": [],
   "source": [
    "np.random.seed(666)\n",
    "\n",
    "if not os.path.isdir('data/bdts/32'):\n",
    "    os.mkdir('data/bdts/32')\n",
    "    \n",
    "d = 32\n",
    "b = 0.1 / (d ** (0.5))\n",
    "mu_bkgd = np.array([-b] * d)\n",
    "mu_sgnl = np.array([+b] * d)\n",
    "sg_bkgd = np.eye(d)\n",
    "sg_sgnl = np.eye(d)\n",
    "\n",
    "bkgd = stats.multivariate_normal(mu_bkgd, sg_bkgd)\n",
    "sgnl = stats.multivariate_normal(mu_sgnl, sg_sgnl)\n",
    "\n",
    "X_trn, X_tst, y_trn, y_tst = make_data(bkgd, sgnl)\n",
    "\n",
    "np.save('data/bdts/32/X_trn.npy', X_trn)\n",
    "np.save('data/bdts/32/y_trn.npy', y_trn)\n",
    "np.save('data/bdts/32/X_tst.npy', X_tst)\n",
    "np.save('data/bdts/32/y_tst.npy', y_tst)"
   ]
  }
 ],
 "metadata": {
  "kernelspec": {
   "display_name": "multifold",
   "language": "python",
   "name": "multifold"
  },
  "language_info": {
   "codemirror_mode": {
    "name": "ipython",
    "version": 3
   },
   "file_extension": ".py",
   "mimetype": "text/x-python",
   "name": "python",
   "nbconvert_exporter": "python",
   "pygments_lexer": "ipython3",
   "version": "3.10.5"
  }
 },
 "nbformat": 4,
 "nbformat_minor": 5
}
