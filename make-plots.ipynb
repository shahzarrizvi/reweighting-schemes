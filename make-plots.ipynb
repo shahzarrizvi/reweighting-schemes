{
 "cells": [
  {
   "cell_type": "code",
   "execution_count": 3,
   "id": "918e7e9e-7bef-430d-8f54-331b52f32fe6",
   "metadata": {},
   "outputs": [],
   "source": [
    "# Automatically reload modules after executing each cell.\n",
    "%load_ext autoreload\n",
    "%autoreload 2"
   ]
  },
  {
   "cell_type": "code",
   "execution_count": 4,
   "id": "e9179b75-2825-4de6-85a7-209187878c91",
   "metadata": {},
   "outputs": [],
   "source": [
    "# General imports\n",
    "import os\n",
    "from scipy import stats\n",
    "\n",
    "# Utility imports\n",
    "from utils.losses import *\n",
    "from utils.plotting import *\n",
    "from utils.training import *\n",
    "\n",
    "np.random.seed(666) # Need to do more to ensure data is the same across runs."
   ]
  },
  {
   "cell_type": "markdown",
   "id": "15ec6153-4e2d-4ad3-a74f-f0d7841e34ac",
   "metadata": {},
   "source": [
    "# LR Plots with Naive Implementation"
   ]
  },
  {
   "cell_type": "code",
   "execution_count": null,
   "id": "9df0c788-80e8-4932-bd22-2a7c0a8962aa",
   "metadata": {},
   "outputs": [],
   "source": [
    "num = 0\n"
   ]
  },
  {
   "cell_type": "markdown",
   "id": "74bc4c92-8077-4144-a9a5-799d3c28ac21",
   "metadata": {},
   "source": [
    "# $C$ Parametrizations"
   ]
  },
  {
   "cell_type": "code",
   "execution_count": null,
   "id": "19eb50b0-0712-4866-bbe1-6f58fb363733",
   "metadata": {},
   "outputs": [],
   "source": []
  },
  {
   "cell_type": "markdown",
   "id": "97d48765-5476-44a5-8089-44d07a219296",
   "metadata": {},
   "source": [
    "# $A/B$ Parametrizations"
   ]
  },
  {
   "cell_type": "code",
   "execution_count": null,
   "id": "9a9a47ad-a8d9-4a73-8db9-2c86a4043f6a",
   "metadata": {},
   "outputs": [],
   "source": []
  },
  {
   "cell_type": "markdown",
   "id": "598fc6b0-8738-47b6-aab1-a58c9de27c5a",
   "metadata": {},
   "source": [
    "# Performance as $N$ Increases"
   ]
  },
  {
   "cell_type": "code",
   "execution_count": null,
   "id": "90b17230-8c52-4d5b-a3e9-3d52b6f457c2",
   "metadata": {},
   "outputs": [],
   "source": []
  },
  {
   "cell_type": "markdown",
   "id": "029e7f97-1cf3-49cb-ac89-544b55055078",
   "metadata": {},
   "source": [
    "# Optimized Performances"
   ]
  },
  {
   "cell_type": "code",
   "execution_count": null,
   "id": "29e0aaa2-18d7-4ac4-a8cd-09d4220522cd",
   "metadata": {},
   "outputs": [],
   "source": []
  },
  {
   "cell_type": "markdown",
   "id": "51dfaaf7-8c45-4c6d-8bb4-e64fdbd9bf91",
   "metadata": {},
   "source": [
    "# Backup 2: Moving Gaussians"
   ]
  },
  {
   "cell_type": "code",
   "execution_count": null,
   "id": "9e5dfdff-24cf-4e71-8326-a9951ef556d8",
   "metadata": {},
   "outputs": [],
   "source": []
  },
  {
   "cell_type": "markdown",
   "id": "29a37361-cb4b-45fc-a1f2-1bddc20b4c57",
   "metadata": {},
   "source": [
    "# Backup 3: Other Distributions"
   ]
  },
  {
   "cell_type": "code",
   "execution_count": null,
   "id": "bbb3b58d-0d66-414e-8b41-49e797b6a027",
   "metadata": {},
   "outputs": [],
   "source": []
  },
  {
   "cell_type": "markdown",
   "id": "496439ab-cc66-4085-bc01-3ede964ff8a7",
   "metadata": {},
   "source": [
    "# Backup 4: $C$ Parametrizations for BCE & MSE"
   ]
  },
  {
   "cell_type": "code",
   "execution_count": null,
   "id": "86580168-146e-4c23-89e7-5c9f4ffea10a",
   "metadata": {},
   "outputs": [],
   "source": []
  },
  {
   "cell_type": "markdown",
   "id": "06fd032c-0a17-431d-bf7a-dff5e35bfae8",
   "metadata": {},
   "source": [
    "# Backup 5: Plots of C Parametrization Functions (?)"
   ]
  },
  {
   "cell_type": "code",
   "execution_count": null,
   "id": "5bbd34dc-15dd-4818-b7b4-868f6de9fc92",
   "metadata": {},
   "outputs": [],
   "source": []
  }
 ],
 "metadata": {
  "kernelspec": {
   "display_name": "Python 3",
   "language": "python",
   "name": "python3"
  },
  "language_info": {
   "codemirror_mode": {
    "name": "ipython",
    "version": 3
   },
   "file_extension": ".py",
   "mimetype": "text/x-python",
   "name": "python",
   "nbconvert_exporter": "python",
   "pygments_lexer": "ipython3",
   "version": "3.7.11"
  }
 },
 "nbformat": 4,
 "nbformat_minor": 5
}
