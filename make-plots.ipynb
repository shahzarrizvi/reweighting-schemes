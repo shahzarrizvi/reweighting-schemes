{
 "cells": [
  {
   "cell_type": "code",
   "execution_count": 68,
   "id": "918e7e9e-7bef-430d-8f54-331b52f32fe6",
   "metadata": {},
   "outputs": [
    {
     "name": "stdout",
     "output_type": "stream",
     "text": [
      "The autoreload extension is already loaded. To reload it, use:\n",
      "  %reload_ext autoreload\n"
     ]
    }
   ],
   "source": [
    "# Automatically reload modules after executing each cell.\n",
    "%load_ext autoreload\n",
    "%autoreload 2"
   ]
  },
  {
   "cell_type": "code",
   "execution_count": 69,
   "id": "e9179b75-2825-4de6-85a7-209187878c91",
   "metadata": {},
   "outputs": [],
   "source": [
    "# General imports\n",
    "import os\n",
    "from scipy import stats\n",
    "\n",
    "# Utility imports\n",
    "from utils.losses import *\n",
    "from utils.plotting import *\n",
    "from utils.training import *\n",
    "\n",
    "np.random.seed(666) # Need to do more to ensure data is the same across runs."
   ]
  },
  {
   "cell_type": "code",
   "execution_count": 70,
   "id": "70260ca8-ed08-452d-88ac-cb6f545eae49",
   "metadata": {},
   "outputs": [],
   "source": [
    "mae = make_mae(bkgd, sgnl)"
   ]
  },
  {
   "cell_type": "markdown",
   "id": "15ec6153-4e2d-4ad3-a74f-f0d7841e34ac",
   "metadata": {
    "tags": []
   },
   "source": [
    "# LR Plots with Naive Implementation"
   ]
  },
  {
   "cell_type": "code",
   "execution_count": 71,
   "id": "9df0c788-80e8-4932-bd22-2a7c0a8962aa",
   "metadata": {},
   "outputs": [],
   "source": [
    "num = 3\n",
    "reps = 100\n",
    "Ns = 10**np.arange(2, 8)\n",
    "\n",
    "mu = 0.1\n",
    "bkgd = stats.norm(-mu, 1)\n",
    "sgnl = stats.norm(mu, 1)\n",
    "\n",
    "# Model parameters\n",
    "bce_params = {'loss':bce}\n",
    "mse_params = {'loss':mse}\n",
    "mlc_params = {'loss':mlc, 'output':'relu'}\n",
    "sqr_params = {'loss':sqr, 'output':'relu'}\n",
    "\n",
    "bce_filestr = 'models/loss_comp/set_' + str(num) + '/bce/model_{}_{}.h5'\n",
    "mse_filestr = 'models/loss_comp/set_' + str(num) + '/mse/model_{}_{}.h5'\n",
    "mlc_filestr = 'models/loss_comp/set_' + str(num) + '/mlc/model_{}_{}.h5'\n",
    "sqr_filestr = 'models/loss_comp/set_' + str(num) + '/sqr/model_{}_{}.h5'"
   ]
  },
  {
   "cell_type": "markdown",
   "id": "84845894-6ea7-42c0-9f86-957bcc7d9de9",
   "metadata": {
    "tags": []
   },
   "source": [
    "## Mean Absolute Errors"
   ]
  },
  {
   "cell_type": "code",
   "execution_count": null,
   "id": "40e168c4-c8c0-4576-92e5-df53396a144c",
   "metadata": {},
   "outputs": [
    {
     "name": "stdout",
     "output_type": "stream",
     "text": [
      "100\n"
     ]
    }
   ],
   "source": [
    "# Calculate mean absolute errors\n",
    "bce_mae_avg = []\n",
    "mse_mae_avg = []\n",
    "mlc_mae_avg = []\n",
    "sqr_mae_avg = []\n",
    "\n",
    "for N in Ns:\n",
    "    print(N)\n",
    "    bce_lrs = [None] * reps\n",
    "    mse_lrs = [None] * reps\n",
    "    mlc_lrs = [None] * reps\n",
    "    sqr_lrs = [None] * reps\n",
    "    for i in range(reps):\n",
    "        bce_model = create_model()\n",
    "        bce_model.load_weights(bce_filestr.format(N, i))\n",
    "        bce_lrs[i] = odds_lr(bce_model)\n",
    "\n",
    "        mse_model = create_model()\n",
    "        mse_model.load_weights(mse_filestr.format(N, i))\n",
    "        mse_lrs[i] = odds_lr(mse_model)\n",
    "\n",
    "        mlc_model = create_model(output = mlc_params['output'])\n",
    "        mlc_model.load_weights(mlc_filestr.format(N, i))\n",
    "        mlc_lrs[i] = pure_lr(mlc_model)\n",
    "\n",
    "        sqr_model = create_model(output = sqr_params['output'])\n",
    "        sqr_model.load_weights(sqr_filestr.format(N, i))\n",
    "        sqr_lrs[i] = pure_lr(sqr_model)\n",
    "    \n",
    "    bce_maes = [mae(lr) for lr in bce_lrs]\n",
    "    mse_maes = [mae(lr) for lr in mse_lrs]\n",
    "    mlc_maes = [mae(lr) for lr in mlc_lrs]\n",
    "    sqr_maes = [mae(lr) for lr in sqr_lrs]\n",
    "    \n",
    "    bce_mae_avg += [np.mean(bce_maes)]\n",
    "    mse_mae_avg += [np.mean(mse_maes)]\n",
    "    mlc_mae_avg += [np.mean(mlc_maes)]\n",
    "    sqr_mae_avg += [np.mean(sqr_maes)]\n",
    "\n",
    "bce_mae_avg = np.array(bce_mae_avg)\n",
    "mse_mae_avg = np.array(mse_mae_avg)\n",
    "mlc_mae_avg = np.array(mlc_mae_avg)\n",
    "sqr_mae_avg = np.array(sqr_mae_avg)"
   ]
  },
  {
   "cell_type": "code",
   "execution_count": null,
   "id": "e12db55a-2e9e-4b16-8c89-636e196335b9",
   "metadata": {},
   "outputs": [],
   "source": [
    "# Plot MAEs\n",
    "fig, ax = plt.subplots(figsize = (10, 6))\n",
    "\n",
    "plt.plot(Ns, bce_mae_avg, c='brown', ls=':', label='BCE')\n",
    "plt.plot(Ns, mse_mae_avg, c='green', ls='--', label='MSE')\n",
    "plt.plot(Ns, mlc_mae_avg, c='red', ls='--', label='MLC')\n",
    "plt.plot(Ns, sqr_mae_avg, c='blue', ls='-.', label='SQR')\n",
    "plt.legend()\n",
    "\n",
    "plt.xscale(\"log\", base=10)\n",
    "plt.minorticks_on()\n",
    "plt.tick_params(direction='in', which='both',length=5)\n",
    "plt.ylabel('Mean Absolute Error')\n",
    "plt.xlabel(r'$N$')\n",
    "\n",
    "plt.title(r\"$\\mu_{\\rm{sgnl}}=\"+str(0.1)+r\", \\mu_{\\rm{bkgd}}=\"+str(-0.1)+r\"$\",\n",
    "          loc=\"right\",\n",
    "          fontsize=20);\n",
    "plt.savefig('plots/may_9/naive_maes.png',\n",
    "            dpi=1200, \n",
    "            bbox_inches='tight')"
   ]
  },
  {
   "cell_type": "markdown",
   "id": "ccacff76-9791-49db-9d79-31823db7e337",
   "metadata": {
    "tags": []
   },
   "source": [
    "## Likelihood Ratios"
   ]
  },
  {
   "cell_type": "code",
   "execution_count": null,
   "id": "7d9dadde-a128-4348-9be3-1608f83db24e",
   "metadata": {},
   "outputs": [],
   "source": [
    "N = 10**6\n",
    "reps = 100"
   ]
  },
  {
   "cell_type": "code",
   "execution_count": null,
   "id": "e2f72fe8-783a-411d-819d-38944100c85f",
   "metadata": {},
   "outputs": [],
   "source": [
    "# Load in models.\n",
    "bce_lrs = [None] * reps\n",
    "mse_lrs = [None] * reps\n",
    "mlc_lrs = [None] * reps\n",
    "sqr_lrs = [None] * reps\n",
    "for i in range(reps):\n",
    "    bce_model = create_model()\n",
    "    bce_model.load_weights(bce_filestr.format(N, i))\n",
    "    bce_lrs[i] = odds_lr(bce_model)\n",
    "    \n",
    "    mse_model = create_model()\n",
    "    mse_model.load_weights(mse_filestr.format(N, i))\n",
    "    mse_lrs[i] = odds_lr(mse_model)\n",
    "    \n",
    "    mlc_model = create_model(output = mlc_params['output'])\n",
    "    mlc_model.load_weights(mlc_filestr.format(N, i))\n",
    "    mlc_lrs[i] = pure_lr(mlc_model)\n",
    "    \n",
    "    sqr_model = create_model(output = sqr_params['output'])\n",
    "    sqr_model.load_weights(sqr_filestr.format(N, i))\n",
    "    sqr_lrs[i] = pure_lr(sqr_model)"
   ]
  },
  {
   "cell_type": "code",
   "execution_count": null,
   "id": "05fe5931-4d1e-420f-8fe9-0f2983583d35",
   "metadata": {},
   "outputs": [],
   "source": [
    "lr = make_lr(bkgd, sgnl)"
   ]
  },
  {
   "cell_type": "code",
   "execution_count": null,
   "id": "07e4d62a-bdad-47b7-9f04-e0813697ce8f",
   "metadata": {},
   "outputs": [],
   "source": [
    "bce_lr = avg_lr(get_preds(bce_lrs)) + ('BCE',)\n",
    "mse_lr = avg_lr(get_preds(mse_lrs)) + ('MSE',)\n",
    "mlc_lr = avg_lr(get_preds(mlc_lrs)) + ('MLC',)\n",
    "sqr_lr = avg_lr(get_preds(sqr_lrs)) + ('SQR',)\n",
    "\n",
    "bce_lrr = avg_lrr(lr, get_preds(bce_lrs)) + ('BCE',)\n",
    "mse_lrr = avg_lrr(lr, get_preds(mse_lrs)) + ('MSE',)\n",
    "mlc_lrr = avg_lrr(lr, get_preds(mlc_lrs)) + ('MLC',)\n",
    "sqr_lrr = avg_lrr(lr, get_preds(sqr_lrs)) + ('SQR',)"
   ]
  },
  {
   "cell_type": "code",
   "execution_count": null,
   "id": "00dea317-f42e-4b80-b6fa-6ce6f2a711bf",
   "metadata": {},
   "outputs": [],
   "source": [
    "lr_plot([bce_lr, mse_lr, mlc_lr, sqr_lr], \n",
    "        lr,\n",
    "        bkgd, sgnl,\n",
    "        filename='plots/may_9/naive_lrs.png')"
   ]
  },
  {
   "cell_type": "code",
   "execution_count": null,
   "id": "cc110ab1-01d8-432e-a3d1-3cb5dbfea2f3",
   "metadata": {},
   "outputs": [],
   "source": [
    "lrr_plot([bce_lrr, mse_lrr, mlc_lrr, sqr_lrr], \n",
    "         lr,\n",
    "         bkgd, sgnl,\n",
    "         filename='plots/may_9/naive_lrrs.png')"
   ]
  },
  {
   "cell_type": "markdown",
   "id": "74bc4c92-8077-4144-a9a5-799d3c28ac21",
   "metadata": {
    "tags": []
   },
   "source": [
    "# $C$ Parametrizations"
   ]
  },
  {
   "cell_type": "markdown",
   "id": "7dec8632-5b27-434a-9417-12a8d9d7ff11",
   "metadata": {
    "tags": []
   },
   "source": [
    "## MLC"
   ]
  },
  {
   "cell_type": "code",
   "execution_count": 44,
   "id": "37ab61ec-fd6f-41db-8798-2fc635257ba1",
   "metadata": {},
   "outputs": [],
   "source": [
    "num = 0\n",
    "reps = 100\n",
    "\n",
    "# Model parameters\n",
    "params_1 = {'loss':mlc, 'output':'relu'}\n",
    "params_2 = {'loss':square_mlc, 'output':'linear'}\n",
    "params_3 = {'loss':exp_mlc, 'output':'linear'}\n",
    "\n",
    "filestr_1 = 'models/mlc_c_param/set_' + str(num) + '/linear/mlc_model_{}.h5'\n",
    "filestr_2 = 'models/mlc_c_param/set_' + str(num) + '/square/square_mlc_model_{}.h5'\n",
    "filestr_3 = 'models/mlc_c_param/set_' + str(num) + '/exp/exp_mlc_model_{}.h5'"
   ]
  },
  {
   "cell_type": "code",
   "execution_count": 45,
   "id": "04df4d24-a0ba-456c-bb9d-18ee91f79ec6",
   "metadata": {},
   "outputs": [],
   "source": [
    "# Get model likelihood ratios.\n",
    "lrs_1 = [None] * reps\n",
    "lrs_2 = [None] * reps\n",
    "lrs_3 = [None] * reps\n",
    "for i in range(reps):\n",
    "    model_1 = create_model(output = params_1['output'])\n",
    "    model_2 = create_model(output = params_2['output'])\n",
    "    model_3 = create_model(output = params_3['output'])\n",
    "    model_1.load_weights(filestr_1.format(i))\n",
    "    model_2.load_weights(filestr_2.format(i))\n",
    "    model_3.load_weights(filestr_3.format(i))\n",
    "    \n",
    "    lrs_1[i] = pure_lr(model_1)\n",
    "    lrs_2[i] = square_lr(model_2)\n",
    "    lrs_3[i] = exp_lr(model_3)"
   ]
  },
  {
   "cell_type": "code",
   "execution_count": 46,
   "id": "3992187e-57a3-4526-a9c6-b6ea389bbe2d",
   "metadata": {},
   "outputs": [],
   "source": [
    "lr_1 = avg_lr(get_preds(lrs_1)) + ('MLC (linear)',)\n",
    "lr_2 = avg_lr(get_preds(lrs_2)) + ('MLC (square)',)\n",
    "lr_3 = avg_lr(get_preds(lrs_3)) + ('MLC (exponential)',)\n",
    "\n",
    "lrr_1 = avg_lrr(lr, get_preds(lrs_1)) + ('MLC (linear)',)\n",
    "lrr_2 = avg_lrr(lr, get_preds(lrs_2)) + ('MLC (square)',)\n",
    "lrr_3 = avg_lrr(lr, get_preds(lrs_3)) + ('MLC (exponential)',)"
   ]
  },
  {
   "cell_type": "code",
   "execution_count": 47,
   "id": "92ad87a4-25d6-4881-a7d4-413ecb954ac6",
   "metadata": {},
   "outputs": [
    {
     "data": {
      "image/png": "[encoded data removed]",
      "text/plain": [
       "<Figure size 720x432 with 2 Axes>"
      ]
     },
     "metadata": {
      "needs_background": "light"
     },
     "output_type": "display_data"
    }
   ],
   "source": [
    "lr_plot([lr_1, lr_2, lr_3], \n",
    "        lr,\n",
    "        bkgd, sgnl,\n",
    "        title=r'MLC $C$ Parametrizations',\n",
    "        filename='plots/may_9/mlc_c_param_lrs.png')"
   ]
  },
  {
   "cell_type": "code",
   "execution_count": 48,
   "id": "2b6a9d11-869a-424c-88c7-26a2b1f8eb58",
   "metadata": {},
   "outputs": [
    {
     "data": {
      "image/png": "[encoded data removed]",
      "text/plain": [
       "<Figure size 720x432 with 2 Axes>"
      ]
     },
     "metadata": {
      "needs_background": "light"
     },
     "output_type": "display_data"
    }
   ],
   "source": [
    "lrr_plot([lrr_1, lrr_2, lrr_3], \n",
    "         lr,\n",
    "         bkgd, sgnl,\n",
    "         title=r'MLC $C$ Parametrizations',\n",
    "         filename='plots/may_9/mlc_c_param_lrrs.png')"
   ]
  },
  {
   "cell_type": "markdown",
   "id": "81254698-164b-46c6-991e-5d34f2e318ce",
   "metadata": {
    "tags": []
   },
   "source": [
    "## SQR"
   ]
  },
  {
   "cell_type": "code",
   "execution_count": 49,
   "id": "1c15a653-c5c7-4847-b590-c52d31537d96",
   "metadata": {},
   "outputs": [],
   "source": [
    "num = 0\n",
    "reps = 100\n",
    "\n",
    "# Model parameters\n",
    "params_1 = {'loss':sqr, 'output':'relu'}\n",
    "params_2 = {'loss':square_sqr, 'output':'linear'}\n",
    "params_3 = {'loss':exp_sqr, 'output':'linear'}\n",
    "\n",
    "filestr_1 = 'models/sqr_c_param/set_' + str(num) + '/linear/sqr_model_{}.h5'\n",
    "filestr_2 = 'models/sqr_c_param/set_' + str(num) + '/square/square_sqr_model_{}.h5'\n",
    "filestr_3 = 'models/sqr_c_param/set_' + str(num) + '/exp/exp_sqr_model_{}.h5'"
   ]
  },
  {
   "cell_type": "code",
   "execution_count": 50,
   "id": "d89d069a-ab60-4131-b93c-181978b123fe",
   "metadata": {},
   "outputs": [],
   "source": [
    "# Get model likelihood ratios.\n",
    "lrs_1 = [None] * reps\n",
    "lrs_2 = [None] * reps\n",
    "lrs_3 = [None] * reps\n",
    "for i in range(reps):\n",
    "    model_1 = create_model(output = params_1['output'])\n",
    "    model_2 = create_model(output = params_2['output'])\n",
    "    model_3 = create_model(output = params_3['output'])\n",
    "    model_1.load_weights(filestr_1.format(i))\n",
    "    model_2.load_weights(filestr_2.format(i))\n",
    "    model_3.load_weights(filestr_3.format(i))\n",
    "    \n",
    "    lrs_1[i] = pure_lr(model_1)\n",
    "    lrs_2[i] = square_lr(model_2)\n",
    "    lrs_3[i] = exp_lr(model_3)"
   ]
  },
  {
   "cell_type": "code",
   "execution_count": 51,
   "id": "d3b7e3dd-02f2-437e-b073-5a44e40d21a7",
   "metadata": {},
   "outputs": [
    {
     "ename": "TypeError",
     "evalue": "avg_lrr() missing 1 required positional argument: 'preds'",
     "output_type": "error",
     "traceback": [
      "\u001b[1;31m---------------------------------------------------------------------------\u001b[0m",
      "\u001b[1;31mTypeError\u001b[0m                                 Traceback (most recent call last)",
      "\u001b[1;32m~\\AppData\\Local\\Temp\\ipykernel_38732\\1726252312.py\u001b[0m in \u001b[0;36m<module>\u001b[1;34m\u001b[0m\n\u001b[0;32m      3\u001b[0m \u001b[0mlr_3\u001b[0m \u001b[1;33m=\u001b[0m \u001b[0mavg_lr\u001b[0m\u001b[1;33m(\u001b[0m\u001b[0mget_preds\u001b[0m\u001b[1;33m(\u001b[0m\u001b[0mlrs_3\u001b[0m\u001b[1;33m)\u001b[0m\u001b[1;33m)\u001b[0m \u001b[1;33m+\u001b[0m \u001b[1;33m(\u001b[0m\u001b[1;34m'SQR (exponential)'\u001b[0m\u001b[1;33m,\u001b[0m\u001b[1;33m)\u001b[0m\u001b[1;33m\u001b[0m\u001b[1;33m\u001b[0m\u001b[0m\n\u001b[0;32m      4\u001b[0m \u001b[1;33m\u001b[0m\u001b[0m\n\u001b[1;32m----> 5\u001b[1;33m \u001b[0mlrr_1\u001b[0m \u001b[1;33m=\u001b[0m \u001b[0mavg_lrr\u001b[0m\u001b[1;33m(\u001b[0m\u001b[0mget_preds\u001b[0m\u001b[1;33m(\u001b[0m\u001b[0mlrs_1\u001b[0m\u001b[1;33m)\u001b[0m\u001b[1;33m)\u001b[0m \u001b[1;33m+\u001b[0m \u001b[1;33m(\u001b[0m\u001b[1;34m'SQR (linear)'\u001b[0m\u001b[1;33m,\u001b[0m\u001b[1;33m)\u001b[0m\u001b[1;33m\u001b[0m\u001b[1;33m\u001b[0m\u001b[0m\n\u001b[0m\u001b[0;32m      6\u001b[0m \u001b[0mlrr_2\u001b[0m \u001b[1;33m=\u001b[0m \u001b[0mavg_lrr\u001b[0m\u001b[1;33m(\u001b[0m\u001b[0mget_preds\u001b[0m\u001b[1;33m(\u001b[0m\u001b[0mlrs_2\u001b[0m\u001b[1;33m)\u001b[0m\u001b[1;33m)\u001b[0m \u001b[1;33m+\u001b[0m \u001b[1;33m(\u001b[0m\u001b[1;34m'SQR (square)'\u001b[0m\u001b[1;33m,\u001b[0m\u001b[1;33m)\u001b[0m\u001b[1;33m\u001b[0m\u001b[1;33m\u001b[0m\u001b[0m\n\u001b[0;32m      7\u001b[0m \u001b[0mlrr_3\u001b[0m \u001b[1;33m=\u001b[0m \u001b[0mavg_lrr\u001b[0m\u001b[1;33m(\u001b[0m\u001b[0mget_preds\u001b[0m\u001b[1;33m(\u001b[0m\u001b[0mlrs_3\u001b[0m\u001b[1;33m)\u001b[0m\u001b[1;33m)\u001b[0m \u001b[1;33m+\u001b[0m \u001b[1;33m(\u001b[0m\u001b[1;34m'SQR (exponential)'\u001b[0m\u001b[1;33m,\u001b[0m\u001b[1;33m)\u001b[0m\u001b[1;33m\u001b[0m\u001b[1;33m\u001b[0m\u001b[0m\n",
      "\u001b[1;31mTypeError\u001b[0m: avg_lrr() missing 1 required positional argument: 'preds'"
     ]
    }
   ],
   "source": [
    "lr_1 = avg_lr(get_preds(lrs_1)) + ('SQR (linear)',)\n",
    "lr_2 = avg_lr(get_preds(lrs_2)) + ('SQR (square)',)\n",
    "lr_3 = avg_lr(get_preds(lrs_3)) + ('SQR (exponential)',)\n",
    "\n",
    "lrr_1 = avg_lrr(lr, get_preds(lrs_1)) + ('SQR (linear)',)\n",
    "lrr_2 = avg_lrr(lr, get_preds(lrs_2)) + ('SQR (square)',)\n",
    "lrr_3 = avg_lrr(lr, get_preds(lrs_3)) + ('SQR (exponential)',)"
   ]
  },
  {
   "cell_type": "code",
   "execution_count": null,
   "id": "b8337197-d80e-4249-9828-74cf510838a3",
   "metadata": {},
   "outputs": [],
   "source": [
    "lr_plot([lr_1, lr_2, lr_3], \n",
    "        lr,\n",
    "        bkgd, sgnl,\n",
    "        title=r'SQR $C$ Parametrizations',\n",
    "        filename='plots/may_9/sqr_c_param_lrs.png'.format(num))"
   ]
  },
  {
   "cell_type": "code",
   "execution_count": null,
   "id": "4a02b711-e2b4-4f46-85ee-385fc244c3cb",
   "metadata": {},
   "outputs": [],
   "source": [
    "lrr_plot([lrr_1, lrr_2, lrr_3], \n",
    "         lr, \n",
    "         bkgd, sgnl,\n",
    "         title=r'SQR $C$ Parametrizations',\n",
    "         filename='plots/may_9/sqr_c_param_lrrs.png'.format(num))"
   ]
  },
  {
   "cell_type": "markdown",
   "id": "97d48765-5476-44a5-8089-44d07a219296",
   "metadata": {
    "jp-MarkdownHeadingCollapsed": true,
    "tags": []
   },
   "source": [
    "# $A/B$ Parametrizations"
   ]
  },
  {
   "cell_type": "markdown",
   "id": "84c4259a-917f-44c2-a9a3-3bb3a9809629",
   "metadata": {
    "jp-MarkdownHeadingCollapsed": true,
    "tags": []
   },
   "source": [
    "## SQR"
   ]
  },
  {
   "cell_type": "code",
   "execution_count": null,
   "id": "e0c0cf0c-be26-4b37-851c-83b993fa30ec",
   "metadata": {},
   "outputs": [],
   "source": [
    "num = 2\n",
    "reps = 20\n",
    "\n",
    "ps = np.round(np.linspace(-2, 2, 81), 2)\n",
    "sqr_filestr = 'models/sqr_ab_param/set_' + str(num) + '/linear/model_{}_{}.h5'\n",
    "exp_filestr = 'models/sqr_ab_param/set_' + str(num) + '/exp/model_{}_{}.h5'"
   ]
  },
  {
   "cell_type": "code",
   "execution_count": null,
   "id": "a9f8528c-243d-437f-b52d-c50eb3ecdda4",
   "metadata": {},
   "outputs": [],
   "source": [
    "# Get model likelihood ratios.\n",
    "sqr_lrs = {}\n",
    "exp_lrs = {}\n",
    "for p in ps:\n",
    "    print(p)\n",
    "    sqr_lrs[p] = [None] * reps\n",
    "    exp_lrs[p] = [None] * reps\n",
    "    sqr_params = {'loss': get_sqr(p), 'output':'relu'}\n",
    "    exp_params = {'loss': get_exp_sqr(p), 'output':'linear'}\n",
    "    for i in range(reps):\n",
    "        sqr_model = create_model(sqr_params['output'])\n",
    "        exp_model = create_model(exp_params['output'])\n",
    "        sqr_model.load_weights(sqr_filestr.format(p, i))\n",
    "        exp_model.load_weights(exp_filestr.format(p, i))\n",
    "        sqr_lrs[p][i] = pow_lr(sqr_model, p)\n",
    "        exp_lrs[p][i] = exp_pow_lr(exp_model, p)\n",
    "        print(i, end = ' ')\n",
    "    print()"
   ]
  },
  {
   "cell_type": "code",
   "execution_count": null,
   "id": "74c7b9b7-2cb1-456f-9d6e-6bfc7f83acaa",
   "metadata": {},
   "outputs": [],
   "source": [
    "sqr_mae_avg = []\n",
    "exp_mae_avg = []\n",
    "\n",
    "for p in ps:\n",
    "    sqr_maes = [mae(lr) for lr in sqr_lrs[p]]\n",
    "    exp_maes = [mae(lr) for lr in exp_lrs[p]]\n",
    "    \n",
    "    sqr_mae_avg += [np.mean(sqr_maes)]\n",
    "    exp_mae_avg += [np.mean(exp_maes)]\n",
    "    print(p, '\\t', sqr_mae_avg[-1], '\\t', exp_mae_avg[-1])"
   ]
  },
  {
   "cell_type": "code",
   "execution_count": null,
   "id": "f449a8be-8d9a-4c25-a90f-d5d96bcd5675",
   "metadata": {},
   "outputs": [],
   "source": [
    "sqr_mae_avg = np.array(sqr_mae_avg)\n",
    "sqr_mae_err = np.array(sqr_mae_err)\n",
    "exp_mae_avg = np.array(exp_mae_avg)\n",
    "exp_mae_err = np.array(exp_mae_err)"
   ]
  },
  {
   "cell_type": "code",
   "execution_count": null,
   "id": "c7c9c04f-99c7-4b1e-badb-a692da5a6be8",
   "metadata": {},
   "outputs": [],
   "source": [
    "fig, ax = plt.subplots(figsize = (10, 6))\n",
    "\n",
    "plt.plot(ps, sqr_mae_avg, c='blue', label='linear')\n",
    "plt.plot(ps, exp_mae_avg, c='red', label='exponential')\n",
    "plt.legend()\n",
    "\n",
    "plt.minorticks_on()\n",
    "plt.tick_params(direction='in', which='both',length=5)\n",
    "plt.ylabel('Mean Absolute Error')\n",
    "plt.xlabel(r'$p$')\n",
    "\n",
    "plt.title(r\"$\\mu_{\\rm{sgnl}}=\"+str(mu)+r\", \\mu_{\\rm{bkgd}}=\"+str(-mu)+r\"$\",\n",
    "          loc=\"right\",\n",
    "          fontsize=20);\n",
    "plt.title(r\"SQR $A/B$ Parametrization\",loc=\"left\",fontsize=20);\n",
    "plt.savefig('plots/may_9/sqr_ab_param_maes.png'.format(num), \n",
    "            dpi=1200, \n",
    "            bbox_inches='tight')"
   ]
  },
  {
   "cell_type": "markdown",
   "id": "248aec35-327e-4022-96d5-5e399a0a19de",
   "metadata": {
    "jp-MarkdownHeadingCollapsed": true,
    "tags": []
   },
   "source": [
    "## MSE"
   ]
  },
  {
   "cell_type": "code",
   "execution_count": null,
   "id": "424200c0-7061-49a2-9e64-7c0c15a38e0b",
   "metadata": {},
   "outputs": [],
   "source": [
    "num = 0\n",
    "reps = 20\n",
    "\n",
    "ps = np.round(np.linspace(-4, 4, 161), 2)\n",
    "filestr = 'models/mse_ab_param/set_' + str(num) + '/model_{}_{}.h5'"
   ]
  },
  {
   "cell_type": "code",
   "execution_count": null,
   "id": "28d9df95-a761-4b6a-ad84-c9380eefd395",
   "metadata": {},
   "outputs": [],
   "source": [
    "# Get model likelihood ratios.\n",
    "lrs = {}\n",
    "for p in ps:\n",
    "    print(p)\n",
    "    lrs[p] = [None] * reps\n",
    "    params = {'loss': get_mse(p)}\n",
    "    for i in range(reps):\n",
    "        model = create_model()\n",
    "        model.load_weights(filestr.format(p, i))\n",
    "        lrs[p][i] = pow_odds_lr(model, p) #### FIX THIS\n",
    "        print(i, end = ' ')\n",
    "    print()"
   ]
  },
  {
   "cell_type": "code",
   "execution_count": null,
   "id": "764b4e91-54bc-4d54-934a-3ec60c32e8b3",
   "metadata": {},
   "outputs": [],
   "source": [
    "mae_avg = []\n",
    "mae_err = []\n",
    "\n",
    "for p in ps:\n",
    "    maes = [mae(lr) for lr in lrs[p]]\n",
    "    mae_avg += [np.mean(maes)]\n",
    "    print(p, '\\t', mae_avg[-1])"
   ]
  },
  {
   "cell_type": "code",
   "execution_count": null,
   "id": "a1ee4a99-91b8-4bdf-817c-5352a7cce7fe",
   "metadata": {},
   "outputs": [],
   "source": [
    "mae_avg = np.array(mae_avg)"
   ]
  },
  {
   "cell_type": "code",
   "execution_count": null,
   "id": "f18a6132-785c-4c40-8d5b-e2ef3cd4611a",
   "metadata": {},
   "outputs": [],
   "source": [
    "fig, ax = plt.subplots(figsize = (10, 6))\n",
    "\n",
    "plt.plot(ps, mae_avg, c='blue')\n",
    "\n",
    "plt.minorticks_on()\n",
    "plt.tick_params(direction='in', which='both',length=5)\n",
    "plt.ylim(0, 0.5)\n",
    "\n",
    "plt.ylabel('Mean Absolute Error')\n",
    "plt.xlabel(r'$p$')\n",
    "\n",
    "plt.title(r\"$\\mu_{\\rm{sgnl}}=\"+str(mu)+r\", \\mu_{\\rm{bkgd}}=\"+str(-mu)+r\"$\",\n",
    "          loc=\"right\",\n",
    "          fontsize=20);\n",
    "plt.title(r\"MSE $A/B$ Parametrization\",loc=\"left\",fontsize=20);\n",
    "plt.savefig('plots/may_9/mse_ab_param_maes.png'.format(num), \n",
    "            dpi=1200, \n",
    "            bbox_inches='tight')"
   ]
  },
  {
   "cell_type": "code",
   "execution_count": null,
   "id": "90b17230-8c52-4d5b-a3e9-3d52b6f457c2",
   "metadata": {},
   "outputs": [],
   "source": []
  },
  {
   "cell_type": "markdown",
   "id": "029e7f97-1cf3-49cb-ac89-544b55055078",
   "metadata": {
    "tags": []
   },
   "source": [
    "# Optimized Performances"
   ]
  },
  {
   "cell_type": "code",
   "execution_count": 66,
   "id": "29e0aaa2-18d7-4ac4-a8cd-09d4220522cd",
   "metadata": {},
   "outputs": [],
   "source": [
    "num = 0\n",
    "reps = 100\n",
    "Ns = 10**np.arange(2, 8)\n",
    "\n",
    "bkgd = stats.norm(-0.1, 1)\n",
    "sgnl = stats.norm(0.1, 1)\n",
    "mae = make_mae(bkgd, sgnl)\n",
    "\n",
    "# Model parameters\n",
    "bce_params = {'loss':bce}\n",
    "mse_params = {'loss':mse}\n",
    "mlc_params = {'loss':exp_mlc, 'output':'relu'}\n",
    "sqr_params = {'loss':exp_sqr, 'output':'relu'}\n",
    "\n",
    "bce_filestr = 'models/loss_comp/set_' + str(num) + '/bce/bce_model_{}_{}.h5'\n",
    "mse_filestr = 'models/loss_comp/set_' + str(num) + '/mse/mse_model_{}_{}.h5'\n",
    "mlc_filestr = 'models/loss_comp/set_' + str(num) + '/mlc/mlc_model_{}_{}.h5'\n",
    "sqr_filestr = 'models/loss_comp/set_' + str(2) + '/sqr/model_{}_{}.h5'"
   ]
  },
  {
   "cell_type": "markdown",
   "id": "a3ae8251-66ec-45f7-bc2a-922d95e24e78",
   "metadata": {
    "tags": []
   },
   "source": [
    "## Mean Absolute Errors"
   ]
  },
  {
   "cell_type": "code",
   "execution_count": 67,
   "id": "1b65f4f3-37d9-4f8f-9f69-beae6ac69ee0",
   "metadata": {},
   "outputs": [
    {
     "name": "stdout",
     "output_type": "stream",
     "text": [
      "100\n",
      "1000\n",
      "10000\n",
      "100000\n"
     ]
    },
    {
     "ename": "KeyboardInterrupt",
     "evalue": "",
     "output_type": "error",
     "traceback": [
      "\u001b[1;31m---------------------------------------------------------------------------\u001b[0m",
      "\u001b[1;31mKeyboardInterrupt\u001b[0m                         Traceback (most recent call last)",
      "\u001b[1;32m~\\AppData\\Local\\Temp\\ipykernel_38732\\988608794.py\u001b[0m in \u001b[0;36m<module>\u001b[1;34m\u001b[0m\n\u001b[0;32m     29\u001b[0m \u001b[1;33m\u001b[0m\u001b[0m\n\u001b[0;32m     30\u001b[0m     \u001b[0mbce_maes\u001b[0m \u001b[1;33m=\u001b[0m \u001b[1;33m[\u001b[0m\u001b[0mmae\u001b[0m\u001b[1;33m(\u001b[0m\u001b[0mlr\u001b[0m\u001b[1;33m)\u001b[0m \u001b[1;32mfor\u001b[0m \u001b[0mlr\u001b[0m \u001b[1;32min\u001b[0m \u001b[0mbce_lrs\u001b[0m\u001b[1;33m]\u001b[0m\u001b[1;33m\u001b[0m\u001b[1;33m\u001b[0m\u001b[0m\n\u001b[1;32m---> 31\u001b[1;33m     \u001b[0mmse_maes\u001b[0m \u001b[1;33m=\u001b[0m \u001b[1;33m[\u001b[0m\u001b[0mmae\u001b[0m\u001b[1;33m(\u001b[0m\u001b[0mlr\u001b[0m\u001b[1;33m)\u001b[0m \u001b[1;32mfor\u001b[0m \u001b[0mlr\u001b[0m \u001b[1;32min\u001b[0m \u001b[0mmse_lrs\u001b[0m\u001b[1;33m]\u001b[0m\u001b[1;33m\u001b[0m\u001b[1;33m\u001b[0m\u001b[0m\n\u001b[0m\u001b[0;32m     32\u001b[0m     \u001b[0mmlc_maes\u001b[0m \u001b[1;33m=\u001b[0m \u001b[1;33m[\u001b[0m\u001b[0mmae\u001b[0m\u001b[1;33m(\u001b[0m\u001b[0mlr\u001b[0m\u001b[1;33m)\u001b[0m \u001b[1;32mfor\u001b[0m \u001b[0mlr\u001b[0m \u001b[1;32min\u001b[0m \u001b[0mmlc_lrs\u001b[0m\u001b[1;33m]\u001b[0m\u001b[1;33m\u001b[0m\u001b[1;33m\u001b[0m\u001b[0m\n\u001b[0;32m     33\u001b[0m     \u001b[0msqr_maes\u001b[0m \u001b[1;33m=\u001b[0m \u001b[1;33m[\u001b[0m\u001b[0mmae\u001b[0m\u001b[1;33m(\u001b[0m\u001b[0mlr\u001b[0m\u001b[1;33m)\u001b[0m \u001b[1;32mfor\u001b[0m \u001b[0mlr\u001b[0m \u001b[1;32min\u001b[0m \u001b[0msqr_lrs\u001b[0m\u001b[1;33m]\u001b[0m\u001b[1;33m\u001b[0m\u001b[1;33m\u001b[0m\u001b[0m\n",
      "\u001b[1;32m~\\AppData\\Local\\Temp\\ipykernel_38732\\988608794.py\u001b[0m in \u001b[0;36m<listcomp>\u001b[1;34m(.0)\u001b[0m\n\u001b[0;32m     29\u001b[0m \u001b[1;33m\u001b[0m\u001b[0m\n\u001b[0;32m     30\u001b[0m     \u001b[0mbce_maes\u001b[0m \u001b[1;33m=\u001b[0m \u001b[1;33m[\u001b[0m\u001b[0mmae\u001b[0m\u001b[1;33m(\u001b[0m\u001b[0mlr\u001b[0m\u001b[1;33m)\u001b[0m \u001b[1;32mfor\u001b[0m \u001b[0mlr\u001b[0m \u001b[1;32min\u001b[0m \u001b[0mbce_lrs\u001b[0m\u001b[1;33m]\u001b[0m\u001b[1;33m\u001b[0m\u001b[1;33m\u001b[0m\u001b[0m\n\u001b[1;32m---> 31\u001b[1;33m     \u001b[0mmse_maes\u001b[0m \u001b[1;33m=\u001b[0m \u001b[1;33m[\u001b[0m\u001b[0mmae\u001b[0m\u001b[1;33m(\u001b[0m\u001b[0mlr\u001b[0m\u001b[1;33m)\u001b[0m \u001b[1;32mfor\u001b[0m \u001b[0mlr\u001b[0m \u001b[1;32min\u001b[0m \u001b[0mmse_lrs\u001b[0m\u001b[1;33m]\u001b[0m\u001b[1;33m\u001b[0m\u001b[1;33m\u001b[0m\u001b[0m\n\u001b[0m\u001b[0;32m     32\u001b[0m     \u001b[0mmlc_maes\u001b[0m \u001b[1;33m=\u001b[0m \u001b[1;33m[\u001b[0m\u001b[0mmae\u001b[0m\u001b[1;33m(\u001b[0m\u001b[0mlr\u001b[0m\u001b[1;33m)\u001b[0m \u001b[1;32mfor\u001b[0m \u001b[0mlr\u001b[0m \u001b[1;32min\u001b[0m \u001b[0mmlc_lrs\u001b[0m\u001b[1;33m]\u001b[0m\u001b[1;33m\u001b[0m\u001b[1;33m\u001b[0m\u001b[0m\n\u001b[0;32m     33\u001b[0m     \u001b[0msqr_maes\u001b[0m \u001b[1;33m=\u001b[0m \u001b[1;33m[\u001b[0m\u001b[0mmae\u001b[0m\u001b[1;33m(\u001b[0m\u001b[0mlr\u001b[0m\u001b[1;33m)\u001b[0m \u001b[1;32mfor\u001b[0m \u001b[0mlr\u001b[0m \u001b[1;32min\u001b[0m \u001b[0msqr_lrs\u001b[0m\u001b[1;33m]\u001b[0m\u001b[1;33m\u001b[0m\u001b[1;33m\u001b[0m\u001b[0m\n",
      "\u001b[1;32m~\\Desktop\\Berkeley\\Spring 2022\\Nachman Group\\reweighting-schemes\\utils\\training.py\u001b[0m in \u001b[0;36mmae\u001b[1;34m(model_lr)\u001b[0m\n\u001b[0;32m     84\u001b[0m     \u001b[1;32mdef\u001b[0m \u001b[0mmae\u001b[0m\u001b[1;33m(\u001b[0m\u001b[0mmodel_lr\u001b[0m\u001b[1;33m)\u001b[0m\u001b[1;33m:\u001b[0m\u001b[1;33m\u001b[0m\u001b[1;33m\u001b[0m\u001b[0m\n\u001b[0;32m     85\u001b[0m         \u001b[1;32mnonlocal\u001b[0m \u001b[0mX_mae\u001b[0m\u001b[1;33m\u001b[0m\u001b[1;33m\u001b[0m\u001b[0m\n\u001b[1;32m---> 86\u001b[1;33m         \u001b[1;32mreturn\u001b[0m \u001b[0mnp\u001b[0m\u001b[1;33m.\u001b[0m\u001b[0mabs\u001b[0m\u001b[1;33m(\u001b[0m\u001b[0mmodel_lr\u001b[0m\u001b[1;33m(\u001b[0m\u001b[0mX_mae\u001b[0m\u001b[1;33m)\u001b[0m \u001b[1;33m-\u001b[0m \u001b[0mlr\u001b[0m\u001b[1;33m(\u001b[0m\u001b[0mX_mae\u001b[0m\u001b[1;33m)\u001b[0m\u001b[1;33m)\u001b[0m\u001b[1;33m.\u001b[0m\u001b[0mmean\u001b[0m\u001b[1;33m(\u001b[0m\u001b[1;33m)\u001b[0m\u001b[1;33m\u001b[0m\u001b[1;33m\u001b[0m\u001b[0m\n\u001b[0m\u001b[0;32m     87\u001b[0m     \u001b[1;32mreturn\u001b[0m \u001b[0mmae\u001b[0m\u001b[1;33m\u001b[0m\u001b[1;33m\u001b[0m\u001b[0m\n\u001b[0;32m     88\u001b[0m \u001b[1;33m\u001b[0m\u001b[0m\n",
      "\u001b[1;32m~\\Desktop\\Berkeley\\Spring 2022\\Nachman Group\\reweighting-schemes\\utils\\training.py\u001b[0m in \u001b[0;36mmodel_lr\u001b[1;34m(x)\u001b[0m\n\u001b[0;32m    101\u001b[0m \u001b[1;32mdef\u001b[0m \u001b[0modds_lr\u001b[0m\u001b[1;33m(\u001b[0m\u001b[0mmodel\u001b[0m\u001b[1;33m)\u001b[0m\u001b[1;33m:\u001b[0m\u001b[1;33m\u001b[0m\u001b[1;33m\u001b[0m\u001b[0m\n\u001b[0;32m    102\u001b[0m     \u001b[1;32mdef\u001b[0m \u001b[0mmodel_lr\u001b[0m\u001b[1;33m(\u001b[0m\u001b[0mx\u001b[0m\u001b[1;33m)\u001b[0m\u001b[1;33m:\u001b[0m\u001b[1;33m\u001b[0m\u001b[1;33m\u001b[0m\u001b[0m\n\u001b[1;32m--> 103\u001b[1;33m         \u001b[0mf\u001b[0m \u001b[1;33m=\u001b[0m \u001b[0mmodel\u001b[0m\u001b[1;33m.\u001b[0m\u001b[0mpredict\u001b[0m\u001b[1;33m(\u001b[0m\u001b[0mx\u001b[0m\u001b[1;33m)\u001b[0m\u001b[1;33m\u001b[0m\u001b[1;33m\u001b[0m\u001b[0m\n\u001b[0m\u001b[0;32m    104\u001b[0m         \u001b[1;32mreturn\u001b[0m \u001b[0mnp\u001b[0m\u001b[1;33m.\u001b[0m\u001b[0msqueeze\u001b[0m\u001b[1;33m(\u001b[0m\u001b[0mf\u001b[0m \u001b[1;33m/\u001b[0m \u001b[1;33m(\u001b[0m\u001b[1;36m1.\u001b[0m \u001b[1;33m-\u001b[0m \u001b[0mf\u001b[0m\u001b[1;33m)\u001b[0m\u001b[1;33m)\u001b[0m\u001b[1;33m\u001b[0m\u001b[1;33m\u001b[0m\u001b[0m\n\u001b[0;32m    105\u001b[0m     \u001b[1;32mreturn\u001b[0m \u001b[0mmodel_lr\u001b[0m\u001b[1;33m\u001b[0m\u001b[1;33m\u001b[0m\u001b[0m\n",
      "\u001b[1;32m~\\Anaconda3\\lib\\site-packages\\tensorflow\\python\\keras\\engine\\training.py\u001b[0m in \u001b[0;36m_method_wrapper\u001b[1;34m(self, *args, **kwargs)\u001b[0m\n\u001b[0;32m     86\u001b[0m       raise ValueError('{} is not supported in multi-worker mode.'.format(\n\u001b[0;32m     87\u001b[0m           method.__name__))\n\u001b[1;32m---> 88\u001b[1;33m     \u001b[1;32mreturn\u001b[0m \u001b[0mmethod\u001b[0m\u001b[1;33m(\u001b[0m\u001b[0mself\u001b[0m\u001b[1;33m,\u001b[0m \u001b[1;33m*\u001b[0m\u001b[0margs\u001b[0m\u001b[1;33m,\u001b[0m \u001b[1;33m**\u001b[0m\u001b[0mkwargs\u001b[0m\u001b[1;33m)\u001b[0m\u001b[1;33m\u001b[0m\u001b[1;33m\u001b[0m\u001b[0m\n\u001b[0m\u001b[0;32m     89\u001b[0m \u001b[1;33m\u001b[0m\u001b[0m\n\u001b[0;32m     90\u001b[0m   return tf_decorator.make_decorator(\n",
      "\u001b[1;32m~\\Anaconda3\\lib\\site-packages\\tensorflow\\python\\keras\\engine\\training.py\u001b[0m in \u001b[0;36mpredict\u001b[1;34m(self, x, batch_size, verbose, steps, callbacks, max_queue_size, workers, use_multiprocessing)\u001b[0m\n\u001b[0;32m   1266\u001b[0m           \u001b[1;32mfor\u001b[0m \u001b[0mstep\u001b[0m \u001b[1;32min\u001b[0m \u001b[0mdata_handler\u001b[0m\u001b[1;33m.\u001b[0m\u001b[0msteps\u001b[0m\u001b[1;33m(\u001b[0m\u001b[1;33m)\u001b[0m\u001b[1;33m:\u001b[0m\u001b[1;33m\u001b[0m\u001b[1;33m\u001b[0m\u001b[0m\n\u001b[0;32m   1267\u001b[0m             \u001b[0mcallbacks\u001b[0m\u001b[1;33m.\u001b[0m\u001b[0mon_predict_batch_begin\u001b[0m\u001b[1;33m(\u001b[0m\u001b[0mstep\u001b[0m\u001b[1;33m)\u001b[0m\u001b[1;33m\u001b[0m\u001b[1;33m\u001b[0m\u001b[0m\n\u001b[1;32m-> 1268\u001b[1;33m             \u001b[0mtmp_batch_outputs\u001b[0m \u001b[1;33m=\u001b[0m \u001b[0mpredict_function\u001b[0m\u001b[1;33m(\u001b[0m\u001b[0miterator\u001b[0m\u001b[1;33m)\u001b[0m\u001b[1;33m\u001b[0m\u001b[1;33m\u001b[0m\u001b[0m\n\u001b[0m\u001b[0;32m   1269\u001b[0m             \u001b[1;31m# Catch OutOfRangeError for Datasets of unknown size.\u001b[0m\u001b[1;33m\u001b[0m\u001b[1;33m\u001b[0m\u001b[1;33m\u001b[0m\u001b[0m\n\u001b[0;32m   1270\u001b[0m             \u001b[1;31m# This blocks until the batch has finished executing.\u001b[0m\u001b[1;33m\u001b[0m\u001b[1;33m\u001b[0m\u001b[1;33m\u001b[0m\u001b[0m\n",
      "\u001b[1;32m~\\Anaconda3\\lib\\site-packages\\tensorflow\\python\\eager\\def_function.py\u001b[0m in \u001b[0;36m__call__\u001b[1;34m(self, *args, **kwds)\u001b[0m\n\u001b[0;32m    578\u001b[0m         \u001b[0mxla_context\u001b[0m\u001b[1;33m.\u001b[0m\u001b[0mExit\u001b[0m\u001b[1;33m(\u001b[0m\u001b[1;33m)\u001b[0m\u001b[1;33m\u001b[0m\u001b[1;33m\u001b[0m\u001b[0m\n\u001b[0;32m    579\u001b[0m     \u001b[1;32melse\u001b[0m\u001b[1;33m:\u001b[0m\u001b[1;33m\u001b[0m\u001b[1;33m\u001b[0m\u001b[0m\n\u001b[1;32m--> 580\u001b[1;33m       \u001b[0mresult\u001b[0m \u001b[1;33m=\u001b[0m \u001b[0mself\u001b[0m\u001b[1;33m.\u001b[0m\u001b[0m_call\u001b[0m\u001b[1;33m(\u001b[0m\u001b[1;33m*\u001b[0m\u001b[0margs\u001b[0m\u001b[1;33m,\u001b[0m \u001b[1;33m**\u001b[0m\u001b[0mkwds\u001b[0m\u001b[1;33m)\u001b[0m\u001b[1;33m\u001b[0m\u001b[1;33m\u001b[0m\u001b[0m\n\u001b[0m\u001b[0;32m    581\u001b[0m \u001b[1;33m\u001b[0m\u001b[0m\n\u001b[0;32m    582\u001b[0m     \u001b[1;32mif\u001b[0m \u001b[0mtracing_count\u001b[0m \u001b[1;33m==\u001b[0m \u001b[0mself\u001b[0m\u001b[1;33m.\u001b[0m\u001b[0m_get_tracing_count\u001b[0m\u001b[1;33m(\u001b[0m\u001b[1;33m)\u001b[0m\u001b[1;33m:\u001b[0m\u001b[1;33m\u001b[0m\u001b[1;33m\u001b[0m\u001b[0m\n",
      "\u001b[1;32m~\\Anaconda3\\lib\\site-packages\\tensorflow\\python\\eager\\def_function.py\u001b[0m in \u001b[0;36m_call\u001b[1;34m(self, *args, **kwds)\u001b[0m\n\u001b[0;32m    616\u001b[0m       \u001b[1;31m# In this case we have not created variables on the first call. So we can\u001b[0m\u001b[1;33m\u001b[0m\u001b[1;33m\u001b[0m\u001b[1;33m\u001b[0m\u001b[0m\n\u001b[0;32m    617\u001b[0m       \u001b[1;31m# run the first trace but we should fail if variables are created.\u001b[0m\u001b[1;33m\u001b[0m\u001b[1;33m\u001b[0m\u001b[1;33m\u001b[0m\u001b[0m\n\u001b[1;32m--> 618\u001b[1;33m       \u001b[0mresults\u001b[0m \u001b[1;33m=\u001b[0m \u001b[0mself\u001b[0m\u001b[1;33m.\u001b[0m\u001b[0m_stateful_fn\u001b[0m\u001b[1;33m(\u001b[0m\u001b[1;33m*\u001b[0m\u001b[0margs\u001b[0m\u001b[1;33m,\u001b[0m \u001b[1;33m**\u001b[0m\u001b[0mkwds\u001b[0m\u001b[1;33m)\u001b[0m\u001b[1;33m\u001b[0m\u001b[1;33m\u001b[0m\u001b[0m\n\u001b[0m\u001b[0;32m    619\u001b[0m       \u001b[1;32mif\u001b[0m \u001b[0mself\u001b[0m\u001b[1;33m.\u001b[0m\u001b[0m_created_variables\u001b[0m\u001b[1;33m:\u001b[0m\u001b[1;33m\u001b[0m\u001b[1;33m\u001b[0m\u001b[0m\n\u001b[0;32m    620\u001b[0m         raise ValueError(\"Creating variables on a non-first call to a function\"\n",
      "\u001b[1;32m~\\Anaconda3\\lib\\site-packages\\tensorflow\\python\\eager\\function.py\u001b[0m in \u001b[0;36m__call__\u001b[1;34m(self, *args, **kwargs)\u001b[0m\n\u001b[0;32m   2418\u001b[0m     \u001b[1;32mwith\u001b[0m \u001b[0mself\u001b[0m\u001b[1;33m.\u001b[0m\u001b[0m_lock\u001b[0m\u001b[1;33m:\u001b[0m\u001b[1;33m\u001b[0m\u001b[1;33m\u001b[0m\u001b[0m\n\u001b[0;32m   2419\u001b[0m       \u001b[0mgraph_function\u001b[0m\u001b[1;33m,\u001b[0m \u001b[0margs\u001b[0m\u001b[1;33m,\u001b[0m \u001b[0mkwargs\u001b[0m \u001b[1;33m=\u001b[0m \u001b[0mself\u001b[0m\u001b[1;33m.\u001b[0m\u001b[0m_maybe_define_function\u001b[0m\u001b[1;33m(\u001b[0m\u001b[0margs\u001b[0m\u001b[1;33m,\u001b[0m \u001b[0mkwargs\u001b[0m\u001b[1;33m)\u001b[0m\u001b[1;33m\u001b[0m\u001b[1;33m\u001b[0m\u001b[0m\n\u001b[1;32m-> 2420\u001b[1;33m     \u001b[1;32mreturn\u001b[0m \u001b[0mgraph_function\u001b[0m\u001b[1;33m.\u001b[0m\u001b[0m_filtered_call\u001b[0m\u001b[1;33m(\u001b[0m\u001b[0margs\u001b[0m\u001b[1;33m,\u001b[0m \u001b[0mkwargs\u001b[0m\u001b[1;33m)\u001b[0m  \u001b[1;31m# pylint: disable=protected-access\u001b[0m\u001b[1;33m\u001b[0m\u001b[1;33m\u001b[0m\u001b[0m\n\u001b[0m\u001b[0;32m   2421\u001b[0m \u001b[1;33m\u001b[0m\u001b[0m\n\u001b[0;32m   2422\u001b[0m   \u001b[1;33m@\u001b[0m\u001b[0mproperty\u001b[0m\u001b[1;33m\u001b[0m\u001b[1;33m\u001b[0m\u001b[0m\n",
      "\u001b[1;32m~\\Anaconda3\\lib\\site-packages\\tensorflow\\python\\eager\\function.py\u001b[0m in \u001b[0;36m_filtered_call\u001b[1;34m(self, args, kwargs)\u001b[0m\n\u001b[0;32m   1663\u001b[0m          if isinstance(t, (ops.Tensor,\n\u001b[0;32m   1664\u001b[0m                            resource_variable_ops.BaseResourceVariable))),\n\u001b[1;32m-> 1665\u001b[1;33m         self.captured_inputs)\n\u001b[0m\u001b[0;32m   1666\u001b[0m \u001b[1;33m\u001b[0m\u001b[0m\n\u001b[0;32m   1667\u001b[0m   \u001b[1;32mdef\u001b[0m \u001b[0m_call_flat\u001b[0m\u001b[1;33m(\u001b[0m\u001b[0mself\u001b[0m\u001b[1;33m,\u001b[0m \u001b[0margs\u001b[0m\u001b[1;33m,\u001b[0m \u001b[0mcaptured_inputs\u001b[0m\u001b[1;33m,\u001b[0m \u001b[0mcancellation_manager\u001b[0m\u001b[1;33m=\u001b[0m\u001b[1;32mNone\u001b[0m\u001b[1;33m)\u001b[0m\u001b[1;33m:\u001b[0m\u001b[1;33m\u001b[0m\u001b[1;33m\u001b[0m\u001b[0m\n",
      "\u001b[1;32m~\\Anaconda3\\lib\\site-packages\\tensorflow\\python\\eager\\function.py\u001b[0m in \u001b[0;36m_call_flat\u001b[1;34m(self, args, captured_inputs, cancellation_manager)\u001b[0m\n\u001b[0;32m   1744\u001b[0m       \u001b[1;31m# No tape is watching; skip to running the function.\u001b[0m\u001b[1;33m\u001b[0m\u001b[1;33m\u001b[0m\u001b[1;33m\u001b[0m\u001b[0m\n\u001b[0;32m   1745\u001b[0m       return self._build_call_outputs(self._inference_function.call(\n\u001b[1;32m-> 1746\u001b[1;33m           ctx, args, cancellation_manager=cancellation_manager))\n\u001b[0m\u001b[0;32m   1747\u001b[0m     forward_backward = self._select_forward_and_backward_functions(\n\u001b[0;32m   1748\u001b[0m         \u001b[0margs\u001b[0m\u001b[1;33m,\u001b[0m\u001b[1;33m\u001b[0m\u001b[1;33m\u001b[0m\u001b[0m\n",
      "\u001b[1;32m~\\Anaconda3\\lib\\site-packages\\tensorflow\\python\\eager\\function.py\u001b[0m in \u001b[0;36mcall\u001b[1;34m(self, ctx, args, cancellation_manager)\u001b[0m\n\u001b[0;32m    596\u001b[0m               \u001b[0minputs\u001b[0m\u001b[1;33m=\u001b[0m\u001b[0margs\u001b[0m\u001b[1;33m,\u001b[0m\u001b[1;33m\u001b[0m\u001b[1;33m\u001b[0m\u001b[0m\n\u001b[0;32m    597\u001b[0m               \u001b[0mattrs\u001b[0m\u001b[1;33m=\u001b[0m\u001b[0mattrs\u001b[0m\u001b[1;33m,\u001b[0m\u001b[1;33m\u001b[0m\u001b[1;33m\u001b[0m\u001b[0m\n\u001b[1;32m--> 598\u001b[1;33m               ctx=ctx)\n\u001b[0m\u001b[0;32m    599\u001b[0m         \u001b[1;32melse\u001b[0m\u001b[1;33m:\u001b[0m\u001b[1;33m\u001b[0m\u001b[1;33m\u001b[0m\u001b[0m\n\u001b[0;32m    600\u001b[0m           outputs = execute.execute_with_cancellation(\n",
      "\u001b[1;32m~\\Anaconda3\\lib\\site-packages\\tensorflow\\python\\eager\\execute.py\u001b[0m in \u001b[0;36mquick_execute\u001b[1;34m(op_name, num_outputs, inputs, attrs, ctx, name)\u001b[0m\n\u001b[0;32m     58\u001b[0m     \u001b[0mctx\u001b[0m\u001b[1;33m.\u001b[0m\u001b[0mensure_initialized\u001b[0m\u001b[1;33m(\u001b[0m\u001b[1;33m)\u001b[0m\u001b[1;33m\u001b[0m\u001b[1;33m\u001b[0m\u001b[0m\n\u001b[0;32m     59\u001b[0m     tensors = pywrap_tfe.TFE_Py_Execute(ctx._handle, device_name, op_name,\n\u001b[1;32m---> 60\u001b[1;33m                                         inputs, attrs, num_outputs)\n\u001b[0m\u001b[0;32m     61\u001b[0m   \u001b[1;32mexcept\u001b[0m \u001b[0mcore\u001b[0m\u001b[1;33m.\u001b[0m\u001b[0m_NotOkStatusException\u001b[0m \u001b[1;32mas\u001b[0m \u001b[0me\u001b[0m\u001b[1;33m:\u001b[0m\u001b[1;33m\u001b[0m\u001b[1;33m\u001b[0m\u001b[0m\n\u001b[0;32m     62\u001b[0m     \u001b[1;32mif\u001b[0m \u001b[0mname\u001b[0m \u001b[1;32mis\u001b[0m \u001b[1;32mnot\u001b[0m \u001b[1;32mNone\u001b[0m\u001b[1;33m:\u001b[0m\u001b[1;33m\u001b[0m\u001b[1;33m\u001b[0m\u001b[0m\n",
      "\u001b[1;31mKeyboardInterrupt\u001b[0m: "
     ]
    }
   ],
   "source": [
    "# Calculate mean absolute errors\n",
    "bce_mae_avg = []\n",
    "mse_mae_avg = []\n",
    "mlc_mae_avg = []\n",
    "sqr_mae_avg = []\n",
    "\n",
    "for N in Ns:\n",
    "    print(N)\n",
    "    bce_lrs = [None] * reps\n",
    "    mse_lrs = [None] * reps\n",
    "    mlc_lrs = [None] * reps\n",
    "    sqr_lrs = [None] * reps\n",
    "    for i in range(reps):\n",
    "        bce_model = create_model()\n",
    "        bce_model.load_weights(bce_filestr.format(N, i))\n",
    "        bce_lrs[i] = odds_lr(bce_model)\n",
    "\n",
    "        mse_model = create_model()\n",
    "        mse_model.load_weights(mse_filestr.format(N, i))\n",
    "        mse_lrs[i] = odds_lr(mse_model)\n",
    "\n",
    "        mlc_model = create_model(output = mlc_params['output'])\n",
    "        mlc_model.load_weights(mlc_filestr.format(N, i))\n",
    "        mlc_lrs[i] = exp_lr(mlc_model)\n",
    "\n",
    "        sqr_model = create_model(output = sqr_params['output'])\n",
    "        sqr_model.load_weights(sqr_filestr.format(N, i))\n",
    "        sqr_lrs[i] = exp_lr(sqr_model)\n",
    "    \n",
    "    bce_maes = [mae(lr) for lr in bce_lrs]\n",
    "    mse_maes = [mae(lr) for lr in mse_lrs]\n",
    "    mlc_maes = [mae(lr) for lr in mlc_lrs]\n",
    "    sqr_maes = [mae(lr) for lr in sqr_lrs]\n",
    "    \n",
    "    bce_mae_avg += [np.mean(bce_maes)]\n",
    "    mse_mae_avg += [np.mean(mse_maes)]\n",
    "    mlc_mae_avg += [np.mean(mlc_maes)]\n",
    "    sqr_mae_avg += [np.mean(sqr_maes)]\n",
    "\n",
    "bce_mae_avg = np.array(bce_mae_avg)\n",
    "mse_mae_avg = np.array(mse_mae_avg)\n",
    "mlc_mae_avg = np.array(mlc_mae_avg)\n",
    "sqr_mae_avg = np.array(sqr_mae_avg)"
   ]
  },
  {
   "cell_type": "code",
   "execution_count": null,
   "id": "9bb63902-07c1-4c1f-a245-68a6582f48f0",
   "metadata": {},
   "outputs": [],
   "source": [
    "# Plot MAEs\n",
    "fig, ax = plt.subplots(figsize = (10, 6))\n",
    "\n",
    "plt.plot(Ns, bce_mae_avg, c='brown', ls=':', label='BCE')\n",
    "plt.plot(Ns, mse_mae_avg, c='green', ls='--', label='MSE')\n",
    "plt.plot(Ns, mlc_mae_avg, c='red', ls='--', label='MLC')\n",
    "plt.plot(Ns, sqr_mae_avg, c='blue', ls='-.', label='SQR')\n",
    "plt.legend()\n",
    "\n",
    "plt.xscale(\"log\", base=10)\n",
    "plt.minorticks_on()\n",
    "plt.tick_params(direction='in', which='both',length=5)\n",
    "plt.ylabel('Mean Absolute Error')\n",
    "plt.xlabel(r'$N$')\n",
    "\n",
    "plt.title(r\"$\\mu_{\\rm{sgnl}}=\"+str(mu)+r\", \\mu_{\\rm{bkgd}}=\"+str(-mu)+r\"$\",\n",
    "          loc=\"right\",\n",
    "          fontsize=20);\n",
    "plt.savefig('plots/may_9/best_maes.png',\n",
    "            dpi=1200, \n",
    "            bbox_inches='tight')"
   ]
  },
  {
   "cell_type": "markdown",
   "id": "8faf17b3-3068-4248-b593-e90da80c469f",
   "metadata": {
    "tags": []
   },
   "source": [
    "## Likelihood Ratios"
   ]
  },
  {
   "cell_type": "code",
   "execution_count": null,
   "id": "05f05afb-78d4-49f8-be1a-2377e38fc679",
   "metadata": {},
   "outputs": [],
   "source": [
    "N = 10**6\n",
    "reps = 100"
   ]
  },
  {
   "cell_type": "code",
   "execution_count": null,
   "id": "a6866558-3262-45ff-acbd-c38a1480e20e",
   "metadata": {},
   "outputs": [],
   "source": [
    "# Load in models.\n",
    "bce_lrs = [None] * reps\n",
    "mse_lrs = [None] * reps\n",
    "mlc_lrs = [None] * reps\n",
    "sqr_lrs = [None] * reps\n",
    "for i in range(reps):\n",
    "    bce_model = create_model()\n",
    "    bce_model.load_weights(bce_filestr.format(N, i))\n",
    "    bce_lrs[i] = odds_lr(bce_model)\n",
    "    \n",
    "    mse_model = create_model()\n",
    "    mse_model.load_weights(mse_filestr.format(N, i))\n",
    "    mse_lrs[i] = odds_lr(mse_model)\n",
    "    \n",
    "    mlc_model = create_model(mlc_params['output'])\n",
    "    mlc_model.load_weights(mlc_filestr.format(N, i))\n",
    "    mlc_lrs[i] = exp_lr(mlc_model)\n",
    "    \n",
    "    sqr_model = create_model(sqr_params['output'])\n",
    "    sqr_model.load_weights(sqr_filestr.format(N, i))\n",
    "    sqr_lrs[i] = exp_lr(sqr_model)"
   ]
  },
  {
   "cell_type": "code",
   "execution_count": null,
   "id": "3bb90ce5-4a33-4686-b056-e50a2b79ac2d",
   "metadata": {},
   "outputs": [],
   "source": [
    "bce_lr = avg_lr(get_preds(bce_lrs)) + ('BCE',)\n",
    "mse_lr = avg_lr(get_preds(mse_lrs)) + ('MSE',)\n",
    "mlc_lr = avg_lr(get_preds(mlc_lrs)) + ('MLC',)\n",
    "sqr_lr = avg_lr(get_preds(sqr_lrs)) + ('SQR',)\n",
    "\n",
    "bce_lrr = avg_lrr(lr, get_preds(bce_lrs)) + ('BCE',)\n",
    "mse_lrr = avg_lrr(lr, get_preds(mse_lrs)) + ('MSE',)\n",
    "mlc_lrr = avg_lrr(lr, get_preds(mlc_lrs)) + ('MLC',)\n",
    "sqr_lrr = avg_lrr(lr, get_preds(sqr_lrs)) + ('SQR',)"
   ]
  },
  {
   "cell_type": "code",
   "execution_count": null,
   "id": "07433e73-0799-45db-821b-4cf048a0ec47",
   "metadata": {},
   "outputs": [],
   "source": [
    "lr_plot([bce_lr, mse_lr, mlc_lr, sqr_lr],\n",
    "        lr,\n",
    "        bkgd, sgnl,\n",
    "        filename='plots/may_9/best_lrs.png')"
   ]
  },
  {
   "cell_type": "code",
   "execution_count": null,
   "id": "cb243b6c-2e42-4400-83b2-5d7f1b94c321",
   "metadata": {},
   "outputs": [],
   "source": [
    "lrr_plot([bce_lrr, mse_lrr, mlc_lrr, sqr_lrr], \n",
    "         lr,\n",
    "         bkgd, sgnl,\n",
    "         filename='plots/may_9/best_lrrs.png')"
   ]
  },
  {
   "cell_type": "markdown",
   "id": "51dfaaf7-8c45-4c6d-8bb4-e64fdbd9bf91",
   "metadata": {
    "jp-MarkdownHeadingCollapsed": true,
    "tags": []
   },
   "source": [
    "# Backup 2: Moving Gaussians"
   ]
  },
  {
   "cell_type": "code",
   "execution_count": null,
   "id": "9e5dfdff-24cf-4e71-8326-a9951ef556d8",
   "metadata": {},
   "outputs": [],
   "source": [
    "num = 5\n",
    "N = 10**6\n",
    "mus = np.round(np.linspace(0.1, 1.4, 14), 2)\n",
    "ds = 2 * mus # distances between gaussians\n",
    "\n",
    "reps = 50\n",
    "\n",
    "# Model parameters\n",
    "bce_params = {'loss':bce}\n",
    "mse_params = {'loss':mse}\n",
    "mlc_params = {'loss':exp_mlc, 'output':'linear'}\n",
    "sqr_params = {'loss':exp_sqr, 'output':'linear'}\n",
    "\n",
    "bce_filestr = 'models/interp/set_' + str(num) + '/bce/model_{}_{}.h5'\n",
    "mse_filestr = 'models/interp/set_' + str(num) + '/mse/model_{}_{}.h5'\n",
    "mlc_filestr = 'models/interp/set_' + str(num) + '/mlc/model_{}_{}.h5'\n",
    "sqr_filestr = 'models/interp/set_' + str(num) + '/sqr/model_{}_{}.h5'"
   ]
  },
  {
   "cell_type": "code",
   "execution_count": null,
   "id": "19d57c6f-f5cf-4d3c-b41c-d3003b26f8b4",
   "metadata": {},
   "outputs": [],
   "source": [
    "# Calculate mean absolute errors\n",
    "bce_mae_avg = []\n",
    "mse_mae_avg = []\n",
    "mlc_mae_avg = []\n",
    "sqr_mae_avg = []\n",
    "\n",
    "bce_mpe_avg = []\n",
    "mse_mpe_avg = []\n",
    "mlc_mpe_avg = []\n",
    "sqr_mpe_avg = []\n",
    "\n",
    "for mu in mus:\n",
    "    print(mu)\n",
    "    bkgd = stats.norm(mu, 1)\n",
    "    sgnl = stats.norm(mu, 1)\n",
    "    \n",
    "    bce_lrs = [None] * reps\n",
    "    mse_lrs = [None] * reps\n",
    "    mlc_lrs = [None] * reps\n",
    "    sqr_lrs = [None] * reps\n",
    "    for i in range(reps):\n",
    "        bce_model = create_model()\n",
    "        bce_model.load_weights(bce_filestr.format(mu, i))\n",
    "        bce_lrs[i] = odds_lr(bce_model)\n",
    "\n",
    "        mse_model = create_model()\n",
    "        mse_model.load_weights(mse_filestr.format(mu, i))\n",
    "        mse_lrs[i] = odds_lr(mse_model)\n",
    "\n",
    "        mlc_model = create_model(mlc_params['output'])\n",
    "        mlc_model.load_weights(mlc_filestr.format(mu, i))\n",
    "        mlc_lrs[i] = exp_lr(mlc_model)\n",
    "\n",
    "        sqr_model = create_model(sqr_params['output'])\n",
    "        sqr_model.load_weights(sqr_filestr.format(mu, i))\n",
    "        sqr_lrs[i] = exp_lr(sqr_model)\n",
    "    \n",
    "    mae = make_mae(bkgd, sgnl)\n",
    "    bce_maes = [mae(lr) for lr in bce_lrs]\n",
    "    mse_maes = [mae(lr) for lr in mse_lrs]\n",
    "    mlc_maes = [mae(lr) for lr in mlc_lrs]\n",
    "    sqr_maes = [mae(lr) for lr in sqr_lrs]\n",
    "    \n",
    "    bce_mae_avg += [np.mean(bce_maes)]\n",
    "    mse_mae_avg += [np.mean(mse_maes)]\n",
    "    mlc_mae_avg += [np.mean(mlc_maes)]\n",
    "    sqr_mae_avg += [np.mean(sqr_maes)]\n",
    "    print(bce_mae_avg[-1], mse_mae_avg[-1], mlc_mae_avg[-1], sqr_mae_avg[-1])\n",
    "    \n",
    "    \n",
    "    mpe = make_mpe(bkgd, sgnl)\n",
    "    bce_mpes = [mpe(lr) for lr in bce_lrs]\n",
    "    mse_mpes = [mpe(lr) for lr in mse_lrs]\n",
    "    mlc_mpes = [mpe(lr) for lr in mlc_lrs]\n",
    "    sqr_mpes = [mpe(lr) for lr in sqr_lrs]\n",
    "    \n",
    "    bce_mpe_avg += [np.mean(bce_mpes)]\n",
    "    mse_mpe_avg += [np.mean(mse_mpes)]\n",
    "    mlc_mpe_avg += [np.mean(mlc_mpes)]\n",
    "    sqr_mpe_avg += [np.mean(sqr_mpes)]\n",
    "    print(bce_mpe_avg[-1], mse_mpe_avg[-1], mlc_mpe_avg[-1], sqr_mpe_avg[-1])"
   ]
  },
  {
   "cell_type": "code",
   "execution_count": null,
   "id": "1dc51ce1-0bd9-48ca-a212-6ec5d6e0e36a",
   "metadata": {},
   "outputs": [],
   "source": [
    "bce_mae_avg = np.array(bce_mae_avg)\n",
    "mse_mae_avg = np.array(mse_mae_avg)\n",
    "mlc_mae_avg = np.array(mlc_mae_avg)\n",
    "sqr_mae_avg = np.array(sqr_mae_avg)\n",
    "\n",
    "bce_mpe_avg = np.array(bce_mpe_avg)\n",
    "mse_mpe_avg = np.array(mse_mpe_avg)\n",
    "mlc_mpe_avg = np.array(mlc_mpe_avg)\n",
    "sqr_mpe_avg = np.array(sqr_mpe_avg)"
   ]
  },
  {
   "cell_type": "code",
   "execution_count": null,
   "id": "de917a11-9113-4524-bff1-b87781c0798d",
   "metadata": {},
   "outputs": [],
   "source": [
    "fig, ax = plt.subplots(figsize = (10, 6))\n",
    "\n",
    "plt.plot(ds, bce_mae_avg, c='brown', ls=':', label='BCE')\n",
    "plt.plot(ds, mse_mae_avg, c='green', ls='--', label='MSE')\n",
    "plt.plot(ds, mlc_mae_avg, c='red', ls='--', label='MLC')\n",
    "plt.plot(ds, sqr_mae_avg, c='blue', ls='-.', label='SQR')\n",
    "plt.legend()\n",
    "\n",
    "plt.yscale(\"log\", basey=10)\n",
    "plt.minorticks_on()\n",
    "plt.tick_params(direction='in', which='both',length=5)\n",
    "plt.ylabel('Mean Absolute Error')\n",
    "plt.xlabel(r'$Distance$')\n",
    "\n",
    "plt.savefig('plots/may_9/moving_means_maes.png'.format(num),\n",
    "            dpi=1200, \n",
    "            bbox_inches='tight')"
   ]
  },
  {
   "cell_type": "code",
   "execution_count": null,
   "id": "6cb4e928-3166-4cd9-81aa-97ff0e1f078a",
   "metadata": {},
   "outputs": [],
   "source": [
    "fig, ax = plt.subplots(figsize = (10, 6))\n",
    "\n",
    "plt.plot(ds, bce_mpe_avg, c='brown', ls=':', label='BCE')\n",
    "plt.plot(ds, mse_mpe_avg, c='green', ls='--', label='MSE')\n",
    "plt.plot(ds, mlc_mpe_avg, c='red', ls='--', label='MLC')\n",
    "plt.plot(ds, sqr_mpe_avg, c='blue', ls='-.', label='SQR')\n",
    "plt.legend()\n",
    "#plt.ylim(0, 5)\n",
    "\n",
    "#plt.xscale(\"log\", base=10)\n",
    "plt.minorticks_on()\n",
    "plt.tick_params(direction='in', which='both',length=5)\n",
    "plt.ylabel('Mean Percent Error (\\%)')\n",
    "plt.xlabel(r'$Distance$')\n",
    "\n",
    "plt.savefig('plots/may_9/moving_means_mpes.png'.format(num),\n",
    "            dpi=1200, \n",
    "            bbox_inches='tight')"
   ]
  },
  {
   "cell_type": "markdown",
   "id": "29a37361-cb4b-45fc-a1f2-1bddc20b4c57",
   "metadata": {
    "jp-MarkdownHeadingCollapsed": true,
    "tags": []
   },
   "source": [
    "# Backup 3: Other Distributions"
   ]
  },
  {
   "cell_type": "code",
   "execution_count": null,
   "id": "bbb3b58d-0d66-414e-8b41-49e797b6a027",
   "metadata": {},
   "outputs": [],
   "source": []
  },
  {
   "cell_type": "markdown",
   "id": "496439ab-cc66-4085-bc01-3ede964ff8a7",
   "metadata": {
    "jp-MarkdownHeadingCollapsed": true,
    "tags": []
   },
   "source": [
    "# Backup 4: $C$ Parametrizations for BCE & MSE"
   ]
  },
  {
   "cell_type": "markdown",
   "id": "4bf35799-f833-4fe6-ac2d-11f382b0f806",
   "metadata": {
    "jp-MarkdownHeadingCollapsed": true,
    "tags": []
   },
   "source": [
    "## BCE"
   ]
  },
  {
   "cell_type": "code",
   "execution_count": null,
   "id": "86580168-146e-4c23-89e7-5c9f4ffea10a",
   "metadata": {},
   "outputs": [],
   "source": [
    "num = 0\n",
    "reps = 10\n",
    "mu = 0.1\n",
    "\n",
    "# Model parameters\n",
    "params_1 = {'loss':mlc, 'output':'relu'}\n",
    "params_2 = {'loss':square_mlc, 'output':'linear'}\n",
    "params_3 = {'loss':exp_mlc, 'output':'linear'}\n",
    "\n",
    "filestr_1 = 'models/bce_c_param/set_' + str(num) + '/linear/model_{}.h5'\n",
    "filestr_2 = 'models/bce_c_param/set_' + str(num) + '/square/model_{}.h5'\n",
    "filestr_3 = 'models/bce_c_param/set_' + str(num) + '/exp/model_{}.h5'"
   ]
  },
  {
   "cell_type": "code",
   "execution_count": null,
   "id": "e1d63ce6-e7be-4091-91ec-38623aafb4d6",
   "metadata": {},
   "outputs": [],
   "source": [
    "# Get model likelihood ratios.\n",
    "lrs_1 = [None] * reps\n",
    "lrs_2 = [None] * reps\n",
    "lrs_3 = [None] * reps\n",
    "for i in range(reps):\n",
    "    model_1 = create_model(**params_1)\n",
    "    model_2 = create_model(**params_2)\n",
    "    model_3 = create_model(**params_3)\n",
    "    model_1.load_weights(filestr_1.format(i))\n",
    "    model_2.load_weights(filestr_2.format(i))\n",
    "    model_3.load_weights(filestr_3.format(i))\n",
    "    \n",
    "    lrs_1[i] = odds_lr(model_1)\n",
    "    lrs_2[i] = square_odds_lr(model_2)\n",
    "    lrs_3[i] = exp_odds_lr(model_3)"
   ]
  },
  {
   "cell_type": "code",
   "execution_count": null,
   "id": "9765c8fe-73d6-4426-94b3-7ab5d4370de4",
   "metadata": {},
   "outputs": [],
   "source": [
    "# Get average predictions and errors. Add on the labels for plotting.\n",
    "lr_1 = avg_lr(get_preds(lrs_1)) + ('BCE (linear)',)\n",
    "lr_2 = avg_lr(get_preds(lrs_2)) + ('BCE (square)',)\n",
    "lr_3 = avg_lr(get_preds(lrs_3)) + ('BCE (exponential)',)\n",
    "\n",
    "lrr_1 = avg_lrr(get_preds(lrs_1)) + ('BCE (linear)',)\n",
    "lrr_2 = avg_lrr(get_preds(lrs_2)) + ('BCE (square)',)\n",
    "lrr_3 = avg_lrr(get_preds(lrs_3)) + ('BCE (exponential)',)"
   ]
  },
  {
   "cell_type": "code",
   "execution_count": null,
   "id": "891820fb-ea82-4926-8d30-96295d9bcf64",
   "metadata": {},
   "outputs": [],
   "source": [
    "lr_plot([lr_1, lr_2, lr_3], \n",
    "        r'BCE $C$ Parametrizations',\n",
    "        filename='plots/may_9/bce_c_param_lrs.png')"
   ]
  },
  {
   "cell_type": "code",
   "execution_count": null,
   "id": "09e422a3-d103-48ec-8e0c-e756b4cda522",
   "metadata": {},
   "outputs": [],
   "source": [
    "lrr_plot([lrr_1, lrr_2, lrr_3], \n",
    "         r'BCE $C$ Parametrizations',\n",
    "         filename='plots/may_9/bce_c_param_lrrs.png')"
   ]
  },
  {
   "cell_type": "markdown",
   "id": "ef0092cb-bdae-4b87-80da-6a11ddc22690",
   "metadata": {
    "jp-MarkdownHeadingCollapsed": true,
    "tags": []
   },
   "source": [
    "## MSE"
   ]
  },
  {
   "cell_type": "code",
   "execution_count": null,
   "id": "9568c29b-8734-4b97-b52b-9538c4814b0d",
   "metadata": {},
   "outputs": [],
   "source": [
    "num = 0\n",
    "reps = 10\n",
    "mu = 0.1\n",
    "\n",
    "# Model parameters\n",
    "params_1 = {'loss':mse}\n",
    "params_2 = {'loss':square_mse, 'output':'linear'}\n",
    "params_3 = {'loss':exp_mse, 'output':'linear'}\n",
    "\n",
    "filestr_1 = 'models/mse_c_param/set_' + str(num) + '/linear/model_{}.h5'\n",
    "filestr_2 = 'models/mse_c_param/set_' + str(num) + '/square/model_{}.h5'\n",
    "filestr_3 = 'models/mse_c_param/set_' + str(num) + '/exp/model_{}.h5'"
   ]
  },
  {
   "cell_type": "code",
   "execution_count": null,
   "id": "4ab099d9-50c4-47ad-84e5-a452b9fff2cb",
   "metadata": {},
   "outputs": [],
   "source": [
    "# Get model likelihood ratios.\n",
    "lrs_1 = [None] * reps\n",
    "lrs_2 = [None] * reps\n",
    "lrs_3 = [None] * reps\n",
    "for i in range(reps):\n",
    "    model_1 = create_model(**params_1)\n",
    "    model_2 = create_model(**params_2)\n",
    "    model_3 = create_model(**params_3)\n",
    "    model_1.load_weights(filestr_1.format(i))\n",
    "    model_2.load_weights(filestr_2.format(i))\n",
    "    model_3.load_weights(filestr_3.format(i))\n",
    "    \n",
    "    lrs_1[i] = odds_lr(model_1)\n",
    "    lrs_2[i] = square_odds_lr(model_2)\n",
    "    lrs_3[i] = exp_odds_lr(model_3)"
   ]
  },
  {
   "cell_type": "code",
   "execution_count": null,
   "id": "fa0c2a32-93f0-4745-9195-b1aef1a421e3",
   "metadata": {},
   "outputs": [],
   "source": [
    "# Get average predictions and errors. Add on the labels for plotting.\n",
    "lr_1 = avg_lr(get_preds(lrs_1)) + ('MSE (linear)',)\n",
    "lr_2 = avg_lr(get_preds(lrs_2)) + ('MSE (square)',)\n",
    "lr_3 = avg_lr(get_preds(lrs_3)) + ('MSE (exponential)',)\n",
    "\n",
    "lrr_1 = avg_lrr(get_preds(lrs_1)) + ('MSE (linear)',)\n",
    "lrr_2 = avg_lrr(get_preds(lrs_2)) + ('MSE (square)',)\n",
    "lrr_3 = avg_lrr(get_preds(lrs_3)) + ('MSE (exponential)',)"
   ]
  },
  {
   "cell_type": "code",
   "execution_count": null,
   "id": "75abcded-709a-4bc6-9e77-a6ea781468d7",
   "metadata": {},
   "outputs": [],
   "source": [
    "lr_plot([lr_1, lr_2, lr_3], \n",
    "        r'MSE $C$ Parametrizations',\n",
    "        filename='plots/may_9/mse_c_param_lrs.png')"
   ]
  },
  {
   "cell_type": "code",
   "execution_count": null,
   "id": "dbf5c70e-df69-4c6e-b0b9-e55bcb0a8c4f",
   "metadata": {},
   "outputs": [],
   "source": [
    "lrr_plot([lrr_1, lrr_2, lrr_3], \n",
    "         r'MSE $C$ Parametrizations',\n",
    "         filename='plots/may_9/mse_c_param_lrrs.png')"
   ]
  },
  {
   "cell_type": "markdown",
   "id": "06fd032c-0a17-431d-bf7a-dff5e35bfae8",
   "metadata": {},
   "source": [
    "# Backup 5: Plots of C Parametrization Functions (?)"
   ]
  },
  {
   "cell_type": "code",
   "execution_count": null,
   "id": "5bbd34dc-15dd-4818-b7b4-868f6de9fc92",
   "metadata": {},
   "outputs": [],
   "source": []
  }
 ],
 "metadata": {
  "kernelspec": {
   "display_name": "Python 3",
   "language": "python",
   "name": "python3"
  },
  "language_info": {
   "codemirror_mode": {
    "name": "ipython",
    "version": 3
   },
   "file_extension": ".py",
   "mimetype": "text/x-python",
   "name": "python",
   "nbconvert_exporter": "python",
   "pygments_lexer": "ipython3",
   "version": "3.7.11"
  }
 },
 "nbformat": 4,
 "nbformat_minor": 5
}
