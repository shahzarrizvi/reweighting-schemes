{
 "cells": [
  {
   "cell_type": "markdown",
   "metadata": {},
   "source": [
    "# ATLAS OmniFold - Stress Test C\n",
    "In this notebook, we use two Monte Carlo Simulation samples to perform a stress test by treating one as simulation (synthetic data with both particle-level and detector-level information) and one as \"data\" (real collider data with only detector-level information). We unfold various distributions from \"data\" and compare it to the associated particle-level information because \"data\" is also a Monte Carlo simulation."
   ]
  },
  {
   "cell_type": "markdown",
   "metadata": {},
   "source": [
    "### Standard Imports"
   ]
  },
  {
   "cell_type": "code",
   "execution_count": 1,
   "metadata": {
    "ExecuteTime": {
     "end_time": "2021-08-02T06:42:33.764117Z",
     "start_time": "2021-08-02T06:42:33.747062Z"
    }
   },
   "outputs": [],
   "source": [
    "%load_ext autoreload\n",
    "%autoreload 2"
   ]
  },
  {
   "cell_type": "code",
   "execution_count": 2,
   "metadata": {
    "ExecuteTime": {
     "end_time": "2021-08-02T06:42:35.559622Z",
     "start_time": "2021-08-02T06:42:33.779914Z"
    }
   },
   "outputs": [],
   "source": [
    "from __future__ import absolute_import, division, print_function\n",
    "import os\n",
    "from ntupleanalysis import *\n",
    "from omnifold import *\n",
    "\n",
    "import numpy as np\n",
    "import scipy.stats as stats\n",
    "import matplotlib as mpl\n",
    "from matplotlib import pyplot as plt\n",
    "from matplotlib.backends.backend_pdf import PdfPages\n",
    "\n",
    "from sklearn.model_selection import train_test_split\n",
    "import sklearn.preprocessing as preprocessing"
   ]
  },
  {
   "cell_type": "code",
   "execution_count": 3,
   "metadata": {
    "ExecuteTime": {
     "end_time": "2021-08-02T06:42:33.777245Z",
     "start_time": "2021-08-02T06:42:33.766218Z"
    }
   },
   "outputs": [
    {
     "name": "stderr",
     "output_type": "stream",
     "text": [
      "2021-09-23 11:15:41.984688: I tensorflow/stream_executor/platform/default/dso_loader.cc:44] Successfully opened dynamic library libcuda.so.1\n",
      "2021-09-23 11:15:42.020757: I tensorflow/core/common_runtime/gpu/gpu_device.cc:1561] Found device 0 with properties: \n",
      "pciBusID: 0000:c1:00.0 name: NVIDIA A40 computeCapability: 8.6\n",
      "coreClock: 1.74GHz coreCount: 84 deviceMemorySize: 44.56GiB deviceMemoryBandwidth: 648.29GiB/s\n",
      "2021-09-23 11:15:42.021253: I tensorflow/stream_executor/platform/default/dso_loader.cc:44] Successfully opened dynamic library libcudart.so.10.1\n",
      "2021-09-23 11:15:42.022873: I tensorflow/stream_executor/platform/default/dso_loader.cc:44] Successfully opened dynamic library libcublas.so.10\n",
      "2021-09-23 11:15:42.024612: I tensorflow/stream_executor/platform/default/dso_loader.cc:44] Successfully opened dynamic library libcufft.so.10\n",
      "2021-09-23 11:15:42.025093: I tensorflow/stream_executor/platform/default/dso_loader.cc:44] Successfully opened dynamic library libcurand.so.10\n",
      "2021-09-23 11:15:42.026716: I tensorflow/stream_executor/platform/default/dso_loader.cc:44] Successfully opened dynamic library libcusolver.so.10\n",
      "2021-09-23 11:15:42.027599: I tensorflow/stream_executor/platform/default/dso_loader.cc:44] Successfully opened dynamic library libcusparse.so.10\n",
      "2021-09-23 11:15:42.030766: I tensorflow/stream_executor/platform/default/dso_loader.cc:44] Successfully opened dynamic library libcudnn.so.7\n",
      "2021-09-23 11:15:42.034357: I tensorflow/core/common_runtime/gpu/gpu_device.cc:1703] Adding visible gpu devices: 0\n"
     ]
    }
   ],
   "source": [
    "### GPU Setup\n",
    "os.environ[\"CUDA_DEVICE_ORDER\"] = \"PCI_BUS_ID\"\n",
    "os.environ[\"CUDA_VISIBLE_DEVICES\"] = \"3\" # pick a number between 0 & 3\n",
    "physical_devices = tf.config.list_physical_devices('GPU') \n",
    "tf.config.experimental.set_memory_growth(physical_devices[0], True)"
   ]
  },
  {
   "cell_type": "code",
   "execution_count": 4,
   "metadata": {
    "ExecuteTime": {
     "end_time": "2021-08-02T06:42:35.584229Z",
     "start_time": "2021-08-02T06:42:35.560980Z"
    }
   },
   "outputs": [],
   "source": [
    "plot_setup()"
   ]
  },
  {
   "cell_type": "code",
   "execution_count": 5,
   "metadata": {
    "ExecuteTime": {
     "end_time": "2021-08-02T06:42:35.609826Z",
     "start_time": "2021-08-02T06:42:35.585517Z"
    }
   },
   "outputs": [],
   "source": [
    "# Global plot settings\n",
    "import matplotlib.font_manager\n",
    "\n",
    "plt.rcParams.update({\n",
    "    \"text.usetex\": True,\n",
    "    \"pgf.rcfonts\": False,\n",
    "    \"font.family\": \"serif\",\n",
    "    \"font.size\": 22,\n",
    "    \"xtick.labelsize\": 15,\n",
    "    \"ytick.labelsize\": 15,\n",
    "    \"legend.fontsize\": 15\n",
    "})"
   ]
  },
  {
   "cell_type": "code",
   "execution_count": 6,
   "metadata": {
    "ExecuteTime": {
     "end_time": "2021-08-02T06:42:35.635132Z",
     "start_time": "2021-08-02T06:42:35.610959Z"
    }
   },
   "outputs": [],
   "source": [
    "# Define default plot styles\n",
    "plot_style_0 = {\n",
    "    'histtype': 'step',\n",
    "    'color': 'black',\n",
    "    'linewidth': 2,\n",
    "    'linestyle': '--',\n",
    "    'density': True\n",
    "}\n",
    "\n",
    "plot_style_1 = {\n",
    "    'histtype': 'step',\n",
    "    'color': 'black',\n",
    "    'linewidth': 2,\n",
    "    'density': True\n",
    "}\n",
    "\n",
    "plot_style_2 = {'histtype': 'stepfilled', 'alpha': 0.5, 'density': True}"
   ]
  },
  {
   "cell_type": "markdown",
   "metadata": {},
   "source": [
    "### Utilities"
   ]
  },
  {
   "cell_type": "code",
   "execution_count": 7,
   "metadata": {
    "ExecuteTime": {
     "end_time": "2021-08-02T06:42:35.661355Z",
     "start_time": "2021-08-02T06:42:35.636282Z"
    }
   },
   "outputs": [],
   "source": [
    "# z-score standardization of data\n",
    "\n",
    "def standardize(sim_truth, sim_reco, data_reco, dummyval=-99):\n",
    "    scaler_truth = preprocessing.StandardScaler()\n",
    "    scaler_reco = preprocessing.StandardScaler()\n",
    "\n",
    "    scaler_truth.fit(\n",
    "        sim_truth[sim_truth != dummyval].astype(float).reshape(-1, 1))\n",
    "    scaler_reco.fit(\n",
    "        np.concatenate(\n",
    "            (sim_reco[sim_reco != dummyval],\n",
    "             data_reco[data_reco != dummyval])).astype(float).reshape(-1, 1))\n",
    "\n",
    "    sim_truth_z = np.copy(sim_truth.astype(float))\n",
    "    sim_reco_z = np.copy(sim_reco.astype(float))\n",
    "    data_reco_z = np.copy(data_reco.astype(float))\n",
    "\n",
    "    sim_truth_z[sim_truth != dummyval] = np.squeeze(\n",
    "        scaler_truth.transform(\n",
    "            sim_truth[sim_truth != dummyval].astype(float).reshape(-1, 1)))\n",
    "    sim_reco_z[sim_reco != dummyval] = np.squeeze(\n",
    "        scaler_reco.transform(\n",
    "            sim_reco[sim_reco != dummyval].astype(float).reshape(-1, 1)))\n",
    "    data_reco_z[data_reco != dummyval] = np.squeeze(\n",
    "        scaler_reco.transform(\n",
    "            data_reco[data_reco != dummyval].astype(float).reshape(-1, 1)))\n",
    "\n",
    "    return sim_truth_z, sim_reco_z, data_reco_z"
   ]
  },
  {
   "cell_type": "code",
   "execution_count": 8,
   "metadata": {
    "ExecuteTime": {
     "end_time": "2021-08-02T06:42:35.685954Z",
     "start_time": "2021-08-02T06:42:35.663144Z"
    }
   },
   "outputs": [],
   "source": [
    "def get_uncertainty(data, weights, bins):\n",
    "    sigma = np.empty(shape=((bins.size - 1), ))\n",
    "\n",
    "    sum_weights = np.sum(weights)\n",
    "\n",
    "    which_bin = np.digitize(data, bins)\n",
    "\n",
    "    for i in range(sigma.size):\n",
    "        sigma[i] = np.sqrt(np.sum(\n",
    "            (weights[which_bin == (i + 1)])**2)) / sum_weights\n",
    "\n",
    "    return sigma"
   ]
  },
  {
   "cell_type": "code",
   "execution_count": 9,
   "metadata": {
    "ExecuteTime": {
     "end_time": "2021-08-02T06:42:35.711395Z",
     "start_time": "2021-08-02T06:42:35.687422Z"
    }
   },
   "outputs": [],
   "source": [
    "def chi_square_dist(data_expected,\n",
    "                    data_observed,\n",
    "                    bins,\n",
    "                    weights_expected=None,\n",
    "                    weights_observed=None,\n",
    "                    sigma_observed=None,\n",
    "                    sigma_expected=None):\n",
    "\n",
    "    if weights_expected is None:\n",
    "        weights_expected = np.ones_like(data_expected)\n",
    "    if weights_observed is None:\n",
    "        weights_observed = np.ones_like(data_observed)\n",
    "\n",
    "    H_expected, _ = np.histogram(data_expected,\n",
    "                                 bins=bins,\n",
    "                                 weights=weights_expected,\n",
    "                                 density=True)\n",
    "\n",
    "    H_observed, _ = np.histogram(data_observed,\n",
    "                                 weights=weights_observed,\n",
    "                                 bins=bins,\n",
    "                                 density=True)\n",
    "\n",
    "    if sigma_expected is None:\n",
    "        sigma_expected = get_uncertainty(data_expected, weights_expected, bins)\n",
    "    if sigma_observed is None:\n",
    "        sigma_observed = get_uncertainty(data_observed, weights_observed, bins)\n",
    "\n",
    "    uncertainty_squared = sigma_expected**2 + sigma_observed**2\n",
    "\n",
    "\n",
    "    dist = (H_observed - H_expected)**2 / uncertainty_squared\n",
    "    dist[np.isnan(dist)] = 0\n",
    "    dist = np.sum(dist)\n",
    "\n",
    "    return dist"
   ]
  },
  {
   "cell_type": "code",
   "execution_count": 10,
   "metadata": {
    "ExecuteTime": {
     "end_time": "2021-08-02T06:42:35.735231Z",
     "start_time": "2021-08-02T06:42:35.712525Z"
    }
   },
   "outputs": [],
   "source": [
    "def best_1D_reweighting(test,\n",
    "                        target,\n",
    "                        bins,\n",
    "                        test_weights=None,\n",
    "                        target_weights=None):\n",
    "\n",
    "    dists = []\n",
    "    for i in range(len(test_weights)):\n",
    "        dists += [\n",
    "            chi_square_dist(data_expected=target,\n",
    "                            weights_expected=target_weights,\n",
    "                            data_observed=test,\n",
    "                            weights_observed=test_weights[i],\n",
    "                            bins=bins)\n",
    "        ]\n",
    "    \n",
    "    return test_weights[np.argmin(dists)]"
   ]
  },
  {
   "cell_type": "code",
   "execution_count": 11,
   "metadata": {
    "ExecuteTime": {
     "end_time": "2021-08-02T06:42:35.760430Z",
     "start_time": "2021-08-02T06:42:35.736182Z"
    }
   },
   "outputs": [],
   "source": [
    "def best_nD_reweighting(test,\n",
    "                        target,\n",
    "                        bins,\n",
    "                        test_weights=None,\n",
    "                        nominal_weights=None,\n",
    "                        target_weights=None):\n",
    "\n",
    "    dists_nominal = np.empty(shape=(len(test), len(test_weights)))\n",
    "    dists_rewgt = np.empty(shape=(len(test), len(test_weights)))\n",
    "\n",
    "    for i in range(dists_nominal.shape[0]):\n",
    "        dists_nominal[i, :] = chi_square_dist(data_expected=target[i],\n",
    "                                              weights_expected=target_weights,\n",
    "                                              data_observed=test[i],\n",
    "                                              weights_observed=nominal_weights,\n",
    "                                              bins=bins[i])\n",
    "\n",
    "        for j in range(dists_nominal.shape[1]):\n",
    "            dists_rewgt[i, j] = chi_square_dist(data_expected=target[i],\n",
    "                                                weights_expected=target_weights,\n",
    "                                                data_observed=test[i],\n",
    "                                                weights_observed=test_weights[j],\n",
    "                                                bins=bins[i])\n",
    "\n",
    "    rewgt_score = np.mean(dists_rewgt / dists_nominal, axis=0)\n",
    "\n",
    "    return test_weights[np.argmin(rewgt_score)]"
   ]
  },
  {
   "cell_type": "code",
   "execution_count": 12,
   "metadata": {
    "ExecuteTime": {
     "end_time": "2021-08-02T06:42:35.783540Z",
     "start_time": "2021-08-02T06:42:35.761531Z"
    }
   },
   "outputs": [],
   "source": [
    "plot_dir = './SupportNote/figures/ATLASOmniFold-StressTest/ATLASOmniFold-StressTestC/'"
   ]
  },
  {
   "cell_type": "code",
   "execution_count": 13,
   "metadata": {
    "ExecuteTime": {
     "end_time": "2021-08-02T06:42:35.806575Z",
     "start_time": "2021-08-02T06:42:35.784675Z"
    }
   },
   "outputs": [],
   "source": [
    "save_label0 = 'ATLASOmniFold-StressTestC'"
   ]
  },
  {
   "cell_type": "markdown",
   "metadata": {},
   "source": [
    "### Load ROOT files"
   ]
  },
  {
   "cell_type": "markdown",
   "metadata": {},
   "source": [
    "#### Simulation (Powheg + Pythia 8 MC16e)"
   ]
  },
  {
   "cell_type": "code",
   "execution_count": 14,
   "metadata": {
    "ExecuteTime": {
     "end_time": "2021-08-02T06:42:35.851559Z",
     "start_time": "2021-08-02T06:42:35.808499Z"
    }
   },
   "outputs": [],
   "source": [
    "data_dir = '/clusterfs/ml4hep/adisurtya/ATLASOmniFold/slimmedSamples/'"
   ]
  },
  {
   "cell_type": "code",
   "execution_count": 15,
   "metadata": {
    "ExecuteTime": {
     "end_time": "2021-08-02T06:42:36.044191Z",
     "start_time": "2021-08-02T06:42:35.853433Z"
    }
   },
   "outputs": [],
   "source": [
    "Events_sim = uproot.lazy(\n",
    "    data_dir +\n",
    "    \"ZjetOmnifold_Jun25_PowhegPythia_mc16e_slim.root:OmniTree\"\n",
    ")"
   ]
  },
  {
   "cell_type": "code",
   "execution_count": 16,
   "metadata": {
    "ExecuteTime": {
     "end_time": "2021-08-02T06:42:36.073492Z",
     "start_time": "2021-08-02T06:42:36.045134Z"
    }
   },
   "outputs": [
    {
     "name": "stdout",
     "output_type": "stream",
     "text": [
      "weight\n",
      "pass190\n",
      "truth_pass190\n",
      "weight_mc\n",
      "prw\n",
      "pT_ll\n",
      "pT_l1\n",
      "pT_l2\n",
      "eta_l1\n",
      "eta_l2\n",
      "phi_l1\n",
      "phi_l2\n",
      "y_ll\n",
      "pT_trackj1\n",
      "y_trackj1\n",
      "phi_trackj1\n",
      "m_trackj1\n",
      "tau1_trackj1\n",
      "tau2_trackj1\n",
      "tau3_trackj1\n",
      "pT_trackj2\n",
      "y_trackj2\n",
      "phi_trackj2\n",
      "m_trackj2\n",
      "tau1_trackj2\n",
      "tau2_trackj2\n",
      "tau3_trackj2\n",
      "truth_pT_ll\n",
      "truth_pT_l1\n",
      "truth_pT_l2\n",
      "truth_eta_l1\n",
      "truth_eta_l2\n",
      "truth_phi_l1\n",
      "truth_phi_l2\n",
      "truth_y_ll\n",
      "truth_pT_trackj1\n",
      "truth_y_trackj1\n",
      "truth_phi_trackj1\n",
      "truth_m_trackj1\n",
      "truth_tau1_trackj1\n",
      "truth_tau2_trackj1\n",
      "truth_tau3_trackj1\n",
      "truth_pT_trackj2\n",
      "truth_y_trackj2\n",
      "truth_phi_trackj2\n",
      "truth_m_trackj2\n",
      "truth_tau1_trackj2\n",
      "truth_tau2_trackj2\n",
      "truth_tau3_trackj2\n",
      "EventNumber\n",
      "RunNumber\n",
      "Ntracks\n",
      "Ntracks_trackj1\n",
      "Ntracks_trackj2\n",
      "truth_Ntracks\n",
      "truth_Ntracks_trackj1\n",
      "truth_Ntracks_trackj2\n",
      "pT_tracks\n",
      "eta_tracks\n",
      "phi_tracks\n",
      "trackJetIndex_tracks\n",
      "truth_pT_tracks\n",
      "truth_eta_tracks\n",
      "truth_phi_tracks\n",
      "truth_trackJetIndex_tracks\n"
     ]
    }
   ],
   "source": [
    "for field in Events_sim.fields:\n",
    "    print(field)"
   ]
  },
  {
   "cell_type": "markdown",
   "metadata": {},
   "source": [
    "#### \"Data\" (Sherpa 2.2.1 MC16e)"
   ]
  },
  {
   "cell_type": "code",
   "execution_count": 17,
   "metadata": {
    "ExecuteTime": {
     "end_time": "2021-08-02T06:42:36.779843Z",
     "start_time": "2021-08-02T06:42:36.074385Z"
    }
   },
   "outputs": [],
   "source": [
    "Events_data = uproot.lazy(data_dir +\n",
    "                          \"ZjetOmnifold_Jun25_Sherpa221_mc16e_slim.root:OmniTree\")"
   ]
  },
  {
   "cell_type": "code",
   "execution_count": 18,
   "metadata": {
    "ExecuteTime": {
     "end_time": "2021-08-02T06:42:36.807846Z",
     "start_time": "2021-08-02T06:42:36.780814Z"
    }
   },
   "outputs": [
    {
     "name": "stdout",
     "output_type": "stream",
     "text": [
      "weight\n",
      "pass190\n",
      "truth_pass190\n",
      "weight_mc\n",
      "prw\n",
      "pT_ll\n",
      "pT_l1\n",
      "pT_l2\n",
      "eta_l1\n",
      "eta_l2\n",
      "phi_l1\n",
      "phi_l2\n",
      "y_ll\n",
      "pT_trackj1\n",
      "y_trackj1\n",
      "phi_trackj1\n",
      "m_trackj1\n",
      "tau1_trackj1\n",
      "tau2_trackj1\n",
      "tau3_trackj1\n",
      "pT_trackj2\n",
      "y_trackj2\n",
      "phi_trackj2\n",
      "m_trackj2\n",
      "tau1_trackj2\n",
      "tau2_trackj2\n",
      "tau3_trackj2\n",
      "truth_pT_ll\n",
      "truth_pT_l1\n",
      "truth_pT_l2\n",
      "truth_eta_l1\n",
      "truth_eta_l2\n",
      "truth_phi_l1\n",
      "truth_phi_l2\n",
      "truth_y_ll\n",
      "truth_pT_trackj1\n",
      "truth_y_trackj1\n",
      "truth_phi_trackj1\n",
      "truth_m_trackj1\n",
      "truth_tau1_trackj1\n",
      "truth_tau2_trackj1\n",
      "truth_tau3_trackj1\n",
      "truth_pT_trackj2\n",
      "truth_y_trackj2\n",
      "truth_phi_trackj2\n",
      "truth_m_trackj2\n",
      "truth_tau1_trackj2\n",
      "truth_tau2_trackj2\n",
      "truth_tau3_trackj2\n",
      "EventNumber\n",
      "RunNumber\n",
      "Ntracks\n",
      "Ntracks_trackj1\n",
      "Ntracks_trackj2\n",
      "truth_Ntracks\n",
      "truth_Ntracks_trackj1\n",
      "truth_Ntracks_trackj2\n",
      "pT_tracks\n",
      "eta_tracks\n",
      "phi_tracks\n",
      "trackJetIndex_tracks\n",
      "truth_pT_tracks\n",
      "truth_eta_tracks\n",
      "truth_phi_tracks\n",
      "truth_trackJetIndex_tracks\n"
     ]
    }
   ],
   "source": [
    "for field in Events_data.fields:\n",
    "    print(field)"
   ]
  },
  {
   "cell_type": "markdown",
   "metadata": {},
   "source": [
    "### Unpack data"
   ]
  },
  {
   "cell_type": "code",
   "execution_count": 19,
   "metadata": {
    "ExecuteTime": {
     "end_time": "2021-08-02T06:42:37.031493Z",
     "start_time": "2021-08-02T06:42:36.808745Z"
    }
   },
   "outputs": [],
   "source": [
    "# Event selection\n",
    "\n",
    "mypass_sim = (Events_sim['pass190'].to_numpy().astype(bool)) | (\n",
    "    Events_sim['truth_pass190'].to_numpy().astype(bool))\n",
    "mycut_sim_truth = np.invert(\n",
    "    Events_sim['truth_pass190'].to_numpy().astype(bool))[mypass_sim]\n",
    "mycut_sim_reco = np.invert(\n",
    "    Events_sim['pass190'].to_numpy().astype(bool))[mypass_sim]\n",
    "\n",
    "mypass_data_truth = Events_data['truth_pass190'].to_numpy().astype(bool)\n",
    "mypass_data_reco = Events_data['pass190'].to_numpy().astype(bool)\n",
    "\n",
    "dummyval = -99"
   ]
  },
  {
   "cell_type": "code",
   "execution_count": 20,
   "metadata": {
    "ExecuteTime": {
     "end_time": "2021-08-02T06:42:52.690586Z",
     "start_time": "2021-08-02T06:42:37.032486Z"
    }
   },
   "outputs": [],
   "source": [
    "# Load Monte Carlo Event Weights\n",
    "sim_truth_weights_MC = np.array(Events_sim['weight_mc'][mypass_sim].to_list())\n",
    "sim_reco_weights_MC = np.array(Events_sim['weight'][mypass_sim].to_list())\n",
    "\n",
    "data_truth_weights_MC = np.array(\n",
    "    Events_data['weight_mc'][mypass_data_truth].to_list())\n",
    "data_reco_weights_MC = np.array(\n",
    "    Events_data['weight'][mypass_data_reco].to_list())\n",
    "\n",
    "# standardize\n",
    "sim_truth_weights_MC /= np.mean(sim_truth_weights_MC)\n",
    "sim_reco_weights_MC /= np.mean(sim_reco_weights_MC)\n",
    "\n",
    "data_truth_weights_MC /= np.mean(data_truth_weights_MC)\n",
    "data_reco_weights_MC /= np.mean(data_reco_weights_MC)"
   ]
  },
  {
   "cell_type": "code",
   "execution_count": 21,
   "metadata": {
    "ExecuteTime": {
     "end_time": "2021-08-02T06:42:54.884305Z",
     "start_time": "2021-08-02T06:42:52.691597Z"
    }
   },
   "outputs": [
    {
     "data": {
      "image/png": "[encoded data removed]",
      "text/plain": [
       "<Figure size 720x432 with 1 Axes>"
      ]
     },
     "metadata": {},
     "output_type": "display_data"
    },
    {
     "data": {
      "image/png": "[encoded data removed]",
      "text/plain": [
       "<Figure size 720x432 with 1 Axes>"
      ]
     },
     "metadata": {},
     "output_type": "display_data"
    }
   ],
   "source": [
    "bins = np.linspace(-3, 3, 100)\n",
    "\n",
    "plt.figure(figsize=(10, 6))\n",
    "hW_sim_reco, _, _ = plt.hist(sim_reco_weights_MC,\n",
    "                             bins=bins,\n",
    "                             label=r'Powheg + Pythia 8',\n",
    "                             **plot_style_2)\n",
    "hW_data_reco, _, _ = plt.hist(data_reco_weights_MC,\n",
    "                              bins=bins,\n",
    "                              label=r'Sherpa 2.2.1',\n",
    "                              **plot_style_2)\n",
    "plt.xlabel('MC Reco Weight')\n",
    "plt.ylabel('Events per bin (normalized)')\n",
    "plt.ylim(top=1.5 * np.max((hW_sim_reco, hW_data_reco)))\n",
    "plt.legend()\n",
    "draw_atlas_text()\n",
    "plt.show()\n",
    "\n",
    "\n",
    "plt.figure(figsize=(10, 6))\n",
    "hW_sim_truth, _, _ = plt.hist(sim_truth_weights_MC,\n",
    "                              bins=bins,\n",
    "                              label=r'Powheg + Pythia 8',\n",
    "                              **plot_style_2)\n",
    "hW_data_truth, _, _ = plt.hist(data_truth_weights_MC,\n",
    "                               bins=bins,\n",
    "                               label=r'Sherpa 2.2.1',\n",
    "                               **plot_style_2)\n",
    "plt.xlabel('MC Truth Weight')\n",
    "plt.ylabel('Events per bin (normalized)')\n",
    "plt.ylim(top=1.5 * np.max((hW_sim_truth, hW_data_truth)))\n",
    "plt.legend()\n",
    "draw_atlas_text()\n",
    "plt.show()"
   ]
  },
  {
   "cell_type": "code",
   "execution_count": 22,
   "metadata": {
    "ExecuteTime": {
     "end_time": "2021-08-02T06:42:54.916952Z",
     "start_time": "2021-08-02T06:42:54.887945Z"
    }
   },
   "outputs": [],
   "source": [
    "file_labels = [\n",
    "    'Ntracks_trackj1', 'Ntracks_trackj2', 'm_trackj1', 'm_trackj2',\n",
    "    'pT_trackj1', 'pT_trackj2', 'y_trackj1', 'y_trackj2', 'phi_trackj1',\n",
    "    'phi_trackj2', 'tau1_trackj1', 'tau1_trackj2', 'tau2_trackj1',\n",
    "    'tau2_trackj2', 'tau3_trackj1', 'tau3_trackj2', 'pT_ll', 'y_ll', 'pT_l1',\n",
    "    'pT_l2', 'eta_l1', 'eta_l2', 'phi_l1', 'phi_l2'\n",
    "]\n",
    "\n",
    "plot_labels = [\n",
    "    r'Leading track jet $n_{\\textrm{ch}}$ ',\n",
    "    r'Subleading track jet $n_{\\textrm{ch}}$', 'Leading track jet $m$ [GeV]',\n",
    "    r'Subleading track jet $m$ [GeV]', r'Leading track jet $p_T$ [GeV]',\n",
    "    r'Subleading track jet $p_T$ [GeV]', r'Leading track jet $y$',\n",
    "    r'Subleading track jet $y$', r'Leading track jet $\\phi$',\n",
    "    r'Subleading track jet $\\phi$', r'Leading track jet $\\tau_1$',\n",
    "    r'Subleading track jet $\\tau_1$', r'Leading track jet $\\tau_2$',\n",
    "    r'Subleading track jet $\\tau_2$', r'Leading track jet $\\tau_3$',\n",
    "    r'Subleading track jet $\\tau_3$', r'$p^{\\mu \\mu}_T$ [GeV]',\n",
    "    r'$y_{\\mu \\mu}$', r'$p^{\\mu 1}_{T}$ [GeV]', r'$p^{\\mu 2}_{T}$ [GeV]',\n",
    "    '$\\eta_{\\mu 1}$', '$\\eta_{\\mu 2}$', '$\\phi_{\\mu 1}$', '$\\phi_{\\mu 2}$'\n",
    "]"
   ]
  },
  {
   "cell_type": "code",
   "execution_count": 23,
   "metadata": {
    "ExecuteTime": {
     "end_time": "2021-08-02T06:42:54.957037Z",
     "start_time": "2021-08-02T06:42:54.919241Z"
    },
    "scrolled": true
   },
   "outputs": [
    {
     "name": "stdout",
     "output_type": "stream",
     "text": [
      "SherpaUnfoldWPythia_2016_pT_ll;1\n",
      "SherpaUnfoldWPythia_2016_y_ll;1\n",
      "SherpaUnfoldWPythia_2016_m_ll;1\n",
      "SherpaUnfoldWPythia_2016_pT_l1;1\n",
      "SherpaUnfoldWPythia_2016_pT_l2;1\n",
      "SherpaUnfoldWPythia_2016_eta_l1;1\n",
      "SherpaUnfoldWPythia_2016_eta_l2;1\n",
      "SherpaUnfoldWPythia_2016_phi_l1;1\n",
      "SherpaUnfoldWPythia_2016_phi_l2;1\n",
      "SherpaUnfoldWPythia_2016_pT_trackj1;1\n",
      "SherpaUnfoldWPythia_2016_y_trackj1;1\n",
      "SherpaUnfoldWPythia_2016_phi_trackj1;1\n",
      "SherpaUnfoldWPythia_2016_m_trackj1;1\n",
      "SherpaUnfoldWPythia_2016_tau1_trackj1;1\n",
      "SherpaUnfoldWPythia_2016_tau2_trackj1;1\n",
      "SherpaUnfoldWPythia_2016_tau3_trackj1;1\n",
      "SherpaUnfoldWPythia_2016_pT_trackj2;1\n",
      "SherpaUnfoldWPythia_2016_y_trackj2;1\n",
      "SherpaUnfoldWPythia_2016_phi_trackj2;1\n",
      "SherpaUnfoldWPythia_2016_m_trackj2;1\n",
      "SherpaUnfoldWPythia_2016_tau1_trackj2;1\n",
      "SherpaUnfoldWPythia_2016_tau2_trackj2;1\n",
      "SherpaUnfoldWPythia_2016_tau3_trackj2;1\n",
      "SherpaUnfoldWPythia_2016_Ntracks_trackj1;1\n",
      "SherpaUnfoldWPythia_2016_Ntracks_trackj2;1\n",
      "SherpaUnfoldWPythia_2017_pT_ll;1\n",
      "SherpaUnfoldWPythia_2017_y_ll;1\n",
      "SherpaUnfoldWPythia_2017_m_ll;1\n",
      "SherpaUnfoldWPythia_2017_pT_l1;1\n",
      "SherpaUnfoldWPythia_2017_pT_l2;1\n",
      "SherpaUnfoldWPythia_2017_eta_l1;1\n",
      "SherpaUnfoldWPythia_2017_eta_l2;1\n",
      "SherpaUnfoldWPythia_2017_phi_l1;1\n",
      "SherpaUnfoldWPythia_2017_phi_l2;1\n",
      "SherpaUnfoldWPythia_2017_pT_trackj1;1\n",
      "SherpaUnfoldWPythia_2017_y_trackj1;1\n",
      "SherpaUnfoldWPythia_2017_phi_trackj1;1\n",
      "SherpaUnfoldWPythia_2017_m_trackj1;1\n",
      "SherpaUnfoldWPythia_2017_tau1_trackj1;1\n",
      "SherpaUnfoldWPythia_2017_tau2_trackj1;1\n",
      "SherpaUnfoldWPythia_2017_tau3_trackj1;1\n",
      "SherpaUnfoldWPythia_2017_pT_trackj2;1\n",
      "SherpaUnfoldWPythia_2017_y_trackj2;1\n",
      "SherpaUnfoldWPythia_2017_phi_trackj2;1\n",
      "SherpaUnfoldWPythia_2017_m_trackj2;1\n",
      "SherpaUnfoldWPythia_2017_tau1_trackj2;1\n",
      "SherpaUnfoldWPythia_2017_tau2_trackj2;1\n",
      "SherpaUnfoldWPythia_2017_tau3_trackj2;1\n",
      "SherpaUnfoldWPythia_2017_Ntracks_trackj1;1\n",
      "SherpaUnfoldWPythia_2017_Ntracks_trackj2;1\n",
      "SherpaUnfoldWPythia_2018_pT_ll;1\n",
      "SherpaUnfoldWPythia_2018_y_ll;1\n",
      "SherpaUnfoldWPythia_2018_m_ll;1\n",
      "SherpaUnfoldWPythia_2018_pT_l1;1\n",
      "SherpaUnfoldWPythia_2018_pT_l2;1\n",
      "SherpaUnfoldWPythia_2018_eta_l1;1\n",
      "SherpaUnfoldWPythia_2018_eta_l2;1\n",
      "SherpaUnfoldWPythia_2018_phi_l1;1\n",
      "SherpaUnfoldWPythia_2018_phi_l2;1\n",
      "SherpaUnfoldWPythia_2018_pT_trackj1;1\n",
      "SherpaUnfoldWPythia_2018_y_trackj1;1\n",
      "SherpaUnfoldWPythia_2018_phi_trackj1;1\n",
      "SherpaUnfoldWPythia_2018_m_trackj1;1\n",
      "SherpaUnfoldWPythia_2018_tau1_trackj1;1\n",
      "SherpaUnfoldWPythia_2018_tau2_trackj1;1\n",
      "SherpaUnfoldWPythia_2018_tau3_trackj1;1\n",
      "SherpaUnfoldWPythia_2018_pT_trackj2;1\n",
      "SherpaUnfoldWPythia_2018_y_trackj2;1\n",
      "SherpaUnfoldWPythia_2018_phi_trackj2;1\n",
      "SherpaUnfoldWPythia_2018_m_trackj2;1\n",
      "SherpaUnfoldWPythia_2018_tau1_trackj2;1\n",
      "SherpaUnfoldWPythia_2018_tau2_trackj2;1\n",
      "SherpaUnfoldWPythia_2018_tau3_trackj2;1\n",
      "SherpaUnfoldWPythia_2018_Ntracks_trackj1;1\n",
      "SherpaUnfoldWPythia_2018_Ntracks_trackj2;1\n"
     ]
    }
   ],
   "source": [
    "IBU_hists = uproot.open('/clusterfs/ml4hep/adisurtya/ATLASOmniFold/unfoldingPlotsJune14_UnfoldedHists.root')\n",
    "for key in IBU_hists.keys():\n",
    "    print(key)"
   ]
  },
  {
   "cell_type": "code",
   "execution_count": 24,
   "metadata": {
    "ExecuteTime": {
     "end_time": "2021-08-02T06:42:55.016444Z",
     "start_time": "2021-08-02T06:42:54.958452Z"
    }
   },
   "outputs": [],
   "source": [
    "bins = []\n",
    "for label in file_labels:\n",
    "    bins += [IBU_hists['SherpaUnfoldWPythia_2018_'+label].to_numpy()[1]]"
   ]
  },
  {
   "cell_type": "code",
   "execution_count": 25,
   "metadata": {
    "ExecuteTime": {
     "end_time": "2021-08-02T06:42:55.042073Z",
     "start_time": "2021-08-02T06:42:55.017834Z"
    },
    "scrolled": true
   },
   "outputs": [],
   "source": [
    "labels_and_bins = zip(file_labels, plot_labels, bins)\n",
    "\n",
    "obs = []\n",
    "\n",
    "for file_label, plot_label, plot_bins in labels_and_bins:\n",
    "    obs += [{\n",
    "        'file_label': file_label,\n",
    "        'plot_label': plot_label,\n",
    "        'bins': plot_bins\n",
    "    }]"
   ]
  },
  {
   "cell_type": "code",
   "execution_count": 26,
   "metadata": {
    "ExecuteTime": {
     "end_time": "2021-08-02T06:43:07.569400Z",
     "start_time": "2021-08-02T06:42:55.043700Z"
    }
   },
   "outputs": [],
   "source": [
    "# # Preview Observables\n",
    "\n",
    "# fig, ax = plt.subplots(6, 4, figsize=(40, 36), constrained_layout=True)\n",
    "# ax = np.ndarray.flatten(ax)\n",
    "\n",
    "# for i in range(len(obs)):\n",
    "#     bins = obs[i]['bins']\n",
    "#     hT, _, _ = ax[i].hist(\n",
    "#         Events_sim['truth_' + obs[i]['file_label']][\n",
    "#             Events_sim['truth_pass190'].to_numpy().astype(bool)],\n",
    "#         weights=Events_sim['weight_mc'][\n",
    "#             Events_sim['truth_pass190'].to_numpy().astype(bool)],\n",
    "#         bins=bins,\n",
    "#         label=\"MC Truth\",\n",
    "#         **plot_style_2)\n",
    "#     hR, _, _ = ax[i].hist(Events_sim[obs[i]['file_label']][\n",
    "#         Events_sim['pass190'].to_numpy().astype(bool)],\n",
    "#                           weights=Events_sim['weight'][\n",
    "#                               Events_sim['pass190'].to_numpy().astype(bool)],\n",
    "#                           bins=bins,\n",
    "#                           label=\"MC Reco\",\n",
    "#                           **plot_style_2)\n",
    "#     ax[i].set_xlabel(obs[i]['plot_label'])\n",
    "#     draw_atlas_text(ax=ax[i])\n",
    "#     if i % 4 == 0:\n",
    "#         ax[i].set_ylabel(\"Events per bin (normalized)\")\n",
    "#     ax[i].legend()\n",
    "#     ax[i].set_ylim([0, 1.5 * max(max(hT), max(hR))])"
   ]
  },
  {
   "cell_type": "code",
   "execution_count": 27,
   "metadata": {
    "ExecuteTime": {
     "end_time": "2021-08-02T06:43:19.271097Z",
     "start_time": "2021-08-02T06:43:07.570792Z"
    }
   },
   "outputs": [],
   "source": [
    "# # Preview Observables\n",
    "\n",
    "# fig, ax = plt.subplots(6, 4, figsize=(40, 36), constrained_layout=True)\n",
    "# ax = np.ndarray.flatten(ax)\n",
    "\n",
    "# for i in range(len(obs)):\n",
    "#     bins = obs[i]['bins']\n",
    "#     hT, _, _ = ax[i].hist(\n",
    "#         Events_sim['truth_' + obs[i]['file_label']][\n",
    "#             Events_sim['truth_pass190'].to_numpy().astype(bool)],\n",
    "#         weights=Events_sim['weight_mc'][\n",
    "#             Events_sim['truth_pass190'].to_numpy().astype(bool)],\n",
    "#         bins=bins,\n",
    "#         label=\"MC Truth\",\n",
    "#         color='C2',\n",
    "#         **plot_style_2)\n",
    "#     hR, _, _ = ax[i].hist(Events_sim[obs[i]['file_label']][\n",
    "#         Events_sim['pass190'].to_numpy().astype(bool)],\n",
    "#                           weights=Events_sim['weight'][\n",
    "#                               Events_sim['pass190'].to_numpy().astype(bool)],\n",
    "#                           bins=bins,\n",
    "#                           label=\"MC Reco\",\n",
    "#                           color='k',\n",
    "#                           **plot_style_2)\n",
    "#     ax[i].set_xlabel(obs[i]['plot_label'])\n",
    "#     draw_atlas_text(ax=ax[i])\n",
    "#     if i % 4 == 0:\n",
    "#         ax[i].set_ylabel(\"Events per bin (normalized)\")\n",
    "#     ax[i].legend()\n",
    "#     ax[i].set_ylim([0, 1.5 * max(max(hT), max(hR))])"
   ]
  },
  {
   "cell_type": "markdown",
   "metadata": {},
   "source": [
    "# UniFold\n",
    "\n",
    "To show unfolding of individual observables (\"UniFold\"), we will unfold the following observables for the leading track jet: the jet mass $m_{j_1}$, the number of constituents (tracks) $N_{j_1}$, the transverse momentum $p_{T,j_1}$, the rapidity $y_{j_1}$, and the $n$-subjettiness $\\tau_{1, j_1}$."
   ]
  },
  {
   "cell_type": "code",
   "execution_count": 28,
   "metadata": {
    "ExecuteTime": {
     "end_time": "2021-08-02T06:43:19.296737Z",
     "start_time": "2021-08-02T06:43:19.272417Z"
    }
   },
   "outputs": [],
   "source": [
    "selected_leading_jet_obs_index = [0, 2, 4, 6, 10]"
   ]
  },
  {
   "cell_type": "code",
   "execution_count": 29,
   "metadata": {
    "ExecuteTime": {
     "end_time": "2021-08-02T06:43:19.321045Z",
     "start_time": "2021-08-02T06:43:19.298167Z"
    }
   },
   "outputs": [],
   "source": [
    "unifold_weights = np.zeros(shape=(len(obs), len(sim_truth_weights_MC)))"
   ]
  },
  {
   "cell_type": "code",
   "execution_count": 30,
   "metadata": {},
   "outputs": [
    {
     "data": {
      "text/plain": [
       "(24, 416725)"
      ]
     },
     "execution_count": 30,
     "metadata": {},
     "output_type": "execute_result"
    }
   ],
   "source": [
    "unifold_weights.shape"
   ]
  },
  {
   "cell_type": "markdown",
   "metadata": {},
   "source": [
    "## Unfold $N_{j_1}$"
   ]
  },
  {
   "cell_type": "code",
   "execution_count": 31,
   "metadata": {
    "ExecuteTime": {
     "end_time": "2021-08-02T06:43:19.347084Z",
     "start_time": "2021-08-02T06:43:19.322461Z"
    }
   },
   "outputs": [],
   "source": [
    "K.clear_session()"
   ]
  },
  {
   "cell_type": "code",
   "execution_count": 32,
   "metadata": {
    "ExecuteTime": {
     "end_time": "2021-08-02T06:43:19.372462Z",
     "start_time": "2021-08-02T06:43:19.348253Z"
    }
   },
   "outputs": [],
   "source": [
    "obs_index = selected_leading_jet_obs_index[0]  # index for this observable\n",
    "\n",
    "bins = obs[obs_index]['bins']\n",
    "x_label = obs[obs_index]['plot_label']\n",
    "file_label = obs[obs_index]['file_label']\n",
    "save_label = plot_dir + 'UniFold/' + file_label + '/' + save_label0 + '-UniFold-' + file_label"
   ]
  },
  {
   "cell_type": "markdown",
   "metadata": {},
   "source": [
    "### Setup Datasets"
   ]
  },
  {
   "cell_type": "code",
   "execution_count": 33,
   "metadata": {
    "ExecuteTime": {
     "end_time": "2021-08-02T06:43:34.480993Z",
     "start_time": "2021-08-02T06:43:19.373615Z"
    }
   },
   "outputs": [],
   "source": [
    "sim_truth = np.array(Events_sim['truth_' + file_label][mypass_sim].to_list())\n",
    "sim_truth[mycut_sim_truth] = dummyval\n",
    "sim_reco = np.array(Events_sim[file_label][mypass_sim].to_list())\n",
    "sim_reco[mycut_sim_reco] = dummyval\n",
    "\n",
    "data_truth = np.array(Events_data['truth_' + file_label][mypass_data_truth].to_list())\n",
    "data_reco = np.array(Events_data[file_label][mypass_data_reco].to_list())"
   ]
  },
  {
   "cell_type": "code",
   "execution_count": 36,
   "metadata": {
    "ExecuteTime": {
     "end_time": "2021-08-02T06:43:38.824910Z",
     "start_time": "2021-08-02T06:43:34.482305Z"
    }
   },
   "outputs": [
    {
     "data": {
      "image/png": "[encoded data removed]",
      "text/plain": [
       "<Figure size 1440x432 with 2 Axes>"
      ]
     },
     "metadata": {},
     "output_type": "display_data"
    }
   ],
   "source": [
    "plot_distributions(\n",
    "    sim_truth=sim_truth,\n",
    "    sim_reco=sim_reco,\n",
    "    sim_truth_weights_MC=sim_truth_weights_MC,\n",
    "    sim_reco_weights_MC=sim_reco_weights_MC,\n",
    "    data_truth=data_truth,\n",
    "    data_reco=data_reco,\n",
    "    data_truth_weights_MC=data_truth_weights_MC,\n",
    "    data_reco_weights_MC=data_reco_weights_MC,\n",
    "    bins=bins,\n",
    "    x_label=x_label,\n",
    "    save_label=save_label)"
   ]
  },
  {
   "cell_type": "markdown",
   "metadata": {},
   "source": [
    "### Unfold "
   ]
  },
  {
   "cell_type": "code",
   "execution_count": 37,
   "metadata": {
    "ExecuteTime": {
     "end_time": "2021-08-02T06:43:38.940138Z",
     "start_time": "2021-08-02T06:43:38.826297Z"
    }
   },
   "outputs": [],
   "source": [
    "# z-score standardization of data\n",
    "\n",
    "sim_truth_z, sim_reco_z, data_reco_z = standardize(sim_truth, sim_reco,\n",
    "                                                   data_reco)"
   ]
  },
  {
   "cell_type": "code",
   "execution_count": 38,
   "metadata": {
    "ExecuteTime": {
     "end_time": "2021-08-02T06:49:26.364269Z",
     "start_time": "2021-08-02T06:43:38.941679Z"
    },
    "scrolled": true
   },
   "outputs": [
    {
     "name": "stderr",
     "output_type": "stream",
     "text": [
      "2021-09-23 11:17:39.465067: I tensorflow/core/platform/cpu_feature_guard.cc:143] Your CPU supports instructions that this TensorFlow binary was not compiled to use: SSE4.1 SSE4.2 AVX AVX2 FMA\n",
      "2021-09-23 11:17:39.476307: I tensorflow/core/platform/profile_utils/cpu_utils.cc:102] CPU Frequency: 2994305000 Hz\n",
      "2021-09-23 11:17:39.478359: I tensorflow/compiler/xla/service/service.cc:168] XLA service 0x55d8462400a0 initialized for platform Host (this does not guarantee that XLA will be used). Devices:\n",
      "2021-09-23 11:17:39.478408: I tensorflow/compiler/xla/service/service.cc:176]   StreamExecutor device (0): Host, Default Version\n",
      "2021-09-23 11:17:39.548684: I tensorflow/compiler/xla/service/service.cc:168] XLA service 0x55d842920880 initialized for platform CUDA (this does not guarantee that XLA will be used). Devices:\n",
      "2021-09-23 11:17:39.548739: I tensorflow/compiler/xla/service/service.cc:176]   StreamExecutor device (0): NVIDIA A40, Compute Capability 8.6\n",
      "2021-09-23 11:17:39.551216: I tensorflow/core/common_runtime/gpu/gpu_device.cc:1561] Found device 0 with properties: \n",
      "pciBusID: 0000:c1:00.0 name: NVIDIA A40 computeCapability: 8.6\n",
      "coreClock: 1.74GHz coreCount: 84 deviceMemorySize: 44.56GiB deviceMemoryBandwidth: 648.29GiB/s\n",
      "2021-09-23 11:17:39.551268: I tensorflow/stream_executor/platform/default/dso_loader.cc:44] Successfully opened dynamic library libcudart.so.10.1\n",
      "2021-09-23 11:17:39.551284: I tensorflow/stream_executor/platform/default/dso_loader.cc:44] Successfully opened dynamic library libcublas.so.10\n",
      "2021-09-23 11:17:39.551296: I tensorflow/stream_executor/platform/default/dso_loader.cc:44] Successfully opened dynamic library libcufft.so.10\n",
      "2021-09-23 11:17:39.551309: I tensorflow/stream_executor/platform/default/dso_loader.cc:44] Successfully opened dynamic library libcurand.so.10\n",
      "2021-09-23 11:17:39.551320: I tensorflow/stream_executor/platform/default/dso_loader.cc:44] Successfully opened dynamic library libcusolver.so.10\n",
      "2021-09-23 11:17:39.551331: I tensorflow/stream_executor/platform/default/dso_loader.cc:44] Successfully opened dynamic library libcusparse.so.10\n",
      "2021-09-23 11:17:39.551343: I tensorflow/stream_executor/platform/default/dso_loader.cc:44] Successfully opened dynamic library libcudnn.so.7\n",
      "2021-09-23 11:17:39.554625: I tensorflow/core/common_runtime/gpu/gpu_device.cc:1703] Adding visible gpu devices: 0\n",
      "2021-09-23 11:17:39.554653: I tensorflow/stream_executor/platform/default/dso_loader.cc:44] Successfully opened dynamic library libcudart.so.10.1\n",
      "2021-09-23 11:17:39.556983: I tensorflow/core/common_runtime/gpu/gpu_device.cc:1102] Device interconnect StreamExecutor with strength 1 edge matrix:\n",
      "2021-09-23 11:17:39.556992: I tensorflow/core/common_runtime/gpu/gpu_device.cc:1108]      0 \n",
      "2021-09-23 11:17:39.556999: I tensorflow/core/common_runtime/gpu/gpu_device.cc:1121] 0:   N \n",
      "2021-09-23 11:17:39.560675: I tensorflow/core/common_runtime/gpu/gpu_device.cc:1247] Created TensorFlow device (/job:localhost/replica:0/task:0/device:GPU:0 with 42651 MB memory) -> physical GPU (device: 0, name: NVIDIA A40, pci bus id: 0000:c1:00.0, compute capability: 8.6)\n"
     ]
    },
    {
     "name": "stdout",
     "output_type": "stream",
     "text": [
      "\n",
      "ITERATION: 1\n",
      "\n",
      "STEP 1\n",
      "\n",
      "Epoch 1/1000\n"
     ]
    },
    {
     "name": "stderr",
     "output_type": "stream",
     "text": [
      "2021-09-23 11:19:46.403398: I tensorflow/stream_executor/platform/default/dso_loader.cc:44] Successfully opened dynamic library libcublas.so.10\n"
     ]
    },
    {
     "name": "stdout",
     "output_type": "stream",
     "text": [
      "245/245 [==============================] - 1s 4ms/step - loss: 0.3667 - accuracy: 0.4473 - val_loss: 0.3376 - val_accuracy: 0.4471\n",
      "Epoch 2/1000\n",
      "245/245 [==============================] - 1s 3ms/step - loss: 0.3372 - accuracy: 0.4473 - val_loss: 0.3375 - val_accuracy: 0.4471\n",
      "Epoch 3/1000\n",
      "245/245 [==============================] - 1s 3ms/step - loss: 0.3372 - accuracy: 0.4473 - val_loss: 0.3375 - val_accuracy: 0.4471\n",
      "Epoch 4/1000\n",
      "245/245 [==============================] - 1s 3ms/step - loss: 0.3372 - accuracy: 0.4473 - val_loss: 0.3376 - val_accuracy: 0.4471\n",
      "Epoch 5/1000\n",
      "245/245 [==============================] - 1s 3ms/step - loss: 0.3371 - accuracy: 0.4473 - val_loss: 0.3375 - val_accuracy: 0.4471\n",
      "Epoch 6/1000\n",
      "245/245 [==============================] - 1s 3ms/step - loss: 0.3372 - accuracy: 0.4473 - val_loss: 0.3377 - val_accuracy: 0.4471\n",
      "Epoch 7/1000\n",
      "245/245 [==============================] - 1s 3ms/step - loss: 0.3371 - accuracy: 0.4473 - val_loss: 0.3375 - val_accuracy: 0.4471\n",
      "Epoch 8/1000\n",
      "245/245 [==============================] - 1s 3ms/step - loss: 0.3372 - accuracy: 0.4473 - val_loss: 0.3374 - val_accuracy: 0.4471\n",
      "Epoch 9/1000\n",
      "245/245 [==============================] - 1s 3ms/step - loss: 0.3372 - accuracy: 0.4473 - val_loss: 0.3375 - val_accuracy: 0.4471\n",
      "Epoch 10/1000\n",
      "245/245 [==============================] - 1s 3ms/step - loss: 0.3372 - accuracy: 0.4473 - val_loss: 0.3375 - val_accuracy: 0.4471\n",
      "Epoch 11/1000\n",
      "245/245 [==============================] - 1s 3ms/step - loss: 0.3371 - accuracy: 0.4473 - val_loss: 0.3375 - val_accuracy: 0.4471\n",
      "Epoch 12/1000\n",
      "245/245 [==============================] - 1s 3ms/step - loss: 0.3372 - accuracy: 0.4473 - val_loss: 0.3375 - val_accuracy: 0.4471\n",
      "Epoch 13/1000\n",
      "245/245 [==============================] - 1s 3ms/step - loss: 0.3372 - accuracy: 0.4473 - val_loss: 0.3375 - val_accuracy: 0.4471\n",
      "Epoch 14/1000\n",
      "245/245 [==============================] - 1s 3ms/step - loss: 0.3371 - accuracy: 0.4473 - val_loss: 0.3375 - val_accuracy: 0.4471\n",
      "Epoch 15/1000\n",
      "245/245 [==============================] - 1s 3ms/step - loss: 0.3372 - accuracy: 0.4473 - val_loss: 0.3378 - val_accuracy: 0.4471\n",
      "Epoch 16/1000\n",
      "245/245 [==============================] - 1s 3ms/step - loss: 0.3372 - accuracy: 0.4473 - val_loss: 0.3379 - val_accuracy: 0.4471\n",
      "Epoch 17/1000\n",
      "245/245 [==============================] - 1s 3ms/step - loss: 0.3372 - accuracy: 0.4473 - val_loss: 0.3375 - val_accuracy: 0.4471\n",
      "Epoch 18/1000\n",
      "243/245 [============================>.] - ETA: 0s - loss: 0.3371 - accuracy: 0.4473Restoring model weights from the end of the best epoch.\n",
      "245/245 [==============================] - 1s 3ms/step - loss: 0.3371 - accuracy: 0.4473 - val_loss: 0.3375 - val_accuracy: 0.4471\n",
      "Epoch 00018: early stopping\n"
     ]
    },
    {
     "name": "stderr",
     "output_type": "stream",
     "text": [
      "/clusterfs/ml4hep/mpettee/ATLASOmniFold/omnifold/unifold.py:16: RuntimeWarning: divide by zero encountered in true_divide\n",
      "  weights = f / (1. - f)\n"
     ]
    },
    {
     "name": "stdout",
     "output_type": "stream",
     "text": [
      "\n",
      "STEP 1b\n",
      "\n",
      "Epoch 1/1000\n",
      "49/49 [==============================] - 0s 4ms/step - loss: 1.5939 - accuracy: 0.2500 - val_loss: 1.5954 - val_accuracy: 0.2500\n",
      "Epoch 2/1000\n",
      "49/49 [==============================] - 0s 5ms/step - loss: 1.5937 - accuracy: 0.2500 - val_loss: 1.5954 - val_accuracy: 0.2500\n",
      "Epoch 3/1000\n",
      "49/49 [==============================] - 0s 3ms/step - loss: 1.5937 - accuracy: 0.2500 - val_loss: 1.5954 - val_accuracy: 0.2500\n",
      "Epoch 4/1000\n",
      "49/49 [==============================] - 0s 3ms/step - loss: 1.5937 - accuracy: 0.2500 - val_loss: 1.5954 - val_accuracy: 0.2500\n",
      "Epoch 5/1000\n",
      "49/49 [==============================] - 0s 3ms/step - loss: 1.5938 - accuracy: 0.2500 - val_loss: 1.5956 - val_accuracy: 0.2500\n",
      "Epoch 6/1000\n",
      "49/49 [==============================] - 0s 3ms/step - loss: 1.5938 - accuracy: 0.2500 - val_loss: 1.5954 - val_accuracy: 0.2500\n",
      "Epoch 7/1000\n",
      "49/49 [==============================] - 0s 3ms/step - loss: 1.5939 - accuracy: 0.2500 - val_loss: 1.5955 - val_accuracy: 0.2500\n",
      "Epoch 8/1000\n",
      "49/49 [==============================] - 0s 3ms/step - loss: 1.5937 - accuracy: 0.2500 - val_loss: 1.5955 - val_accuracy: 0.2500\n",
      "Epoch 9/1000\n",
      "49/49 [==============================] - 0s 4ms/step - loss: 1.5937 - accuracy: 0.2500 - val_loss: 1.5958 - val_accuracy: 0.2500\n",
      "Epoch 10/1000\n",
      "49/49 [==============================] - 0s 4ms/step - loss: 1.5937 - accuracy: 0.2500 - val_loss: 1.5957 - val_accuracy: 0.2500\n",
      "Epoch 11/1000\n",
      "49/49 [==============================] - 0s 4ms/step - loss: 1.5939 - accuracy: 0.2500 - val_loss: 1.5954 - val_accuracy: 0.2500\n",
      "Epoch 12/1000\n",
      "49/49 [==============================] - 0s 4ms/step - loss: 1.5937 - accuracy: 0.2500 - val_loss: 1.5957 - val_accuracy: 0.2500\n",
      "Epoch 13/1000\n",
      "49/49 [==============================] - 0s 3ms/step - loss: 1.5938 - accuracy: 0.2500 - val_loss: 1.5955 - val_accuracy: 0.2500\n",
      "Epoch 14/1000\n",
      "49/49 [==============================] - 0s 3ms/step - loss: 1.5938 - accuracy: 0.2500 - val_loss: 1.5955 - val_accuracy: 0.2500\n",
      "Epoch 15/1000\n",
      "49/49 [==============================] - 0s 3ms/step - loss: 1.5937 - accuracy: 0.2500 - val_loss: 1.5954 - val_accuracy: 0.2500\n",
      "Epoch 16/1000\n",
      "49/49 [==============================] - ETA: 0s - loss: 1.5938 - accuracy: 0.2500Restoring model weights from the end of the best epoch.\n",
      "49/49 [==============================] - 0s 3ms/step - loss: 1.5938 - accuracy: 0.2500 - val_loss: 1.5955 - val_accuracy: 0.2500\n",
      "Epoch 00016: early stopping\n",
      "\n",
      "STEP 2\n",
      "\n",
      "Epoch 1/1000\n",
      "60/60 [==============================] - 0s 4ms/step - loss: 0.7807 - accuracy: 0.2504 - val_loss: 0.6941 - val_accuracy: 0.2503\n",
      "Epoch 2/1000\n",
      "60/60 [==============================] - 0s 3ms/step - loss: 0.6932 - accuracy: 0.2500 - val_loss: 0.6936 - val_accuracy: 0.2501\n",
      "Epoch 3/1000\n",
      "60/60 [==============================] - 0s 3ms/step - loss: 0.6931 - accuracy: 0.2499 - val_loss: 0.6936 - val_accuracy: 0.2501\n",
      "Epoch 4/1000\n",
      "60/60 [==============================] - 0s 3ms/step - loss: 0.6931 - accuracy: 0.2499 - val_loss: 0.6935 - val_accuracy: 0.2501\n",
      "Epoch 5/1000\n",
      "60/60 [==============================] - 0s 3ms/step - loss: 0.6931 - accuracy: 0.2500 - val_loss: 0.6935 - val_accuracy: 0.2501\n",
      "Epoch 6/1000\n",
      "60/60 [==============================] - 0s 3ms/step - loss: 0.6931 - accuracy: 0.2500 - val_loss: 0.6935 - val_accuracy: 0.2499\n",
      "Epoch 7/1000\n",
      "60/60 [==============================] - 0s 3ms/step - loss: 0.6931 - accuracy: 0.2502 - val_loss: 0.6936 - val_accuracy: 0.2502\n",
      "Epoch 8/1000\n",
      "60/60 [==============================] - 0s 3ms/step - loss: 0.6931 - accuracy: 0.2499 - val_loss: 0.6935 - val_accuracy: 0.2499\n",
      "Epoch 9/1000\n",
      "60/60 [==============================] - 0s 3ms/step - loss: 0.6931 - accuracy: 0.2503 - val_loss: 0.6935 - val_accuracy: 0.2501\n",
      "Epoch 10/1000\n",
      "60/60 [==============================] - 0s 3ms/step - loss: 0.6931 - accuracy: 0.2498 - val_loss: 0.6935 - val_accuracy: 0.2503\n",
      "Epoch 11/1000\n",
      "60/60 [==============================] - 0s 3ms/step - loss: 0.6931 - accuracy: 0.2499 - val_loss: 0.6935 - val_accuracy: 0.2503\n",
      "Epoch 12/1000\n",
      "60/60 [==============================] - 0s 3ms/step - loss: 0.6931 - accuracy: 0.2499 - val_loss: 0.6935 - val_accuracy: 0.2503\n",
      "Epoch 13/1000\n",
      "60/60 [==============================] - 0s 3ms/step - loss: 0.6931 - accuracy: 0.2499 - val_loss: 0.6935 - val_accuracy: 0.2501\n",
      "Epoch 14/1000\n",
      "60/60 [==============================] - 0s 3ms/step - loss: 0.6931 - accuracy: 0.2499 - val_loss: 0.6935 - val_accuracy: 0.2499\n",
      "Epoch 15/1000\n",
      "60/60 [==============================] - 0s 3ms/step - loss: 0.6931 - accuracy: 0.2499 - val_loss: 0.6936 - val_accuracy: 0.2504\n",
      "Epoch 16/1000\n",
      "60/60 [==============================] - 0s 3ms/step - loss: 0.6931 - accuracy: 0.2495 - val_loss: 0.6935 - val_accuracy: 0.2501\n",
      "Epoch 17/1000\n",
      "60/60 [==============================] - 0s 3ms/step - loss: 0.6931 - accuracy: 0.2499 - val_loss: 0.6935 - val_accuracy: 0.2501\n",
      "Epoch 18/1000\n",
      "60/60 [==============================] - 0s 3ms/step - loss: 0.6931 - accuracy: 0.2498 - val_loss: 0.6935 - val_accuracy: 0.2499\n",
      "Epoch 19/1000\n",
      "60/60 [==============================] - 0s 4ms/step - loss: 0.6931 - accuracy: 0.2500 - val_loss: 0.6936 - val_accuracy: 0.2502\n",
      "Epoch 20/1000\n",
      "60/60 [==============================] - 0s 4ms/step - loss: 0.6931 - accuracy: 0.2500 - val_loss: 0.6936 - val_accuracy: 0.2502\n",
      "Epoch 21/1000\n",
      "60/60 [==============================] - 0s 4ms/step - loss: 0.6931 - accuracy: 0.2499 - val_loss: 0.6935 - val_accuracy: 0.2505\n",
      "Epoch 22/1000\n",
      "60/60 [==============================] - 0s 4ms/step - loss: 0.6931 - accuracy: 0.2500 - val_loss: 0.6935 - val_accuracy: 0.2499\n",
      "Epoch 23/1000\n",
      "60/60 [==============================] - 0s 4ms/step - loss: 0.6931 - accuracy: 0.2500 - val_loss: 0.6935 - val_accuracy: 0.2499\n",
      "Epoch 24/1000\n",
      "60/60 [==============================] - 0s 4ms/step - loss: 0.6931 - accuracy: 0.2501 - val_loss: 0.6935 - val_accuracy: 0.2501\n",
      "Epoch 25/1000\n",
      "60/60 [==============================] - 0s 4ms/step - loss: 0.6931 - accuracy: 0.2500 - val_loss: 0.6935 - val_accuracy: 0.2503\n",
      "Epoch 26/1000\n",
      "60/60 [==============================] - 0s 4ms/step - loss: 0.6931 - accuracy: 0.2499 - val_loss: 0.6935 - val_accuracy: 0.2501\n",
      "Epoch 27/1000\n",
      "60/60 [==============================] - 0s 4ms/step - loss: 0.6931 - accuracy: 0.2500 - val_loss: 0.6935 - val_accuracy: 0.2501\n",
      "Epoch 28/1000\n",
      "60/60 [==============================] - 0s 4ms/step - loss: 0.6931 - accuracy: 0.2498 - val_loss: 0.6935 - val_accuracy: 0.2499\n",
      "Epoch 29/1000\n",
      "60/60 [==============================] - 0s 4ms/step - loss: 0.6931 - accuracy: 0.2500 - val_loss: 0.6935 - val_accuracy: 0.2501\n",
      "Epoch 30/1000\n",
      "60/60 [==============================] - 0s 3ms/step - loss: 0.6931 - accuracy: 0.2497 - val_loss: 0.6935 - val_accuracy: 0.2503\n",
      "Epoch 31/1000\n",
      "60/60 [==============================] - 0s 4ms/step - loss: 0.6931 - accuracy: 0.2500 - val_loss: 0.6935 - val_accuracy: 0.2499\n",
      "Epoch 32/1000\n",
      "60/60 [==============================] - 0s 4ms/step - loss: 0.6931 - accuracy: 0.2500 - val_loss: 0.6935 - val_accuracy: 0.2497\n",
      "Epoch 33/1000\n",
      "60/60 [==============================] - 0s 4ms/step - loss: 0.6931 - accuracy: 0.2501 - val_loss: 0.6935 - val_accuracy: 0.2501\n",
      "Epoch 34/1000\n",
      "60/60 [==============================] - 0s 4ms/step - loss: 0.6931 - accuracy: 0.2500 - val_loss: 0.6936 - val_accuracy: 0.2501\n",
      "Epoch 35/1000\n",
      "60/60 [==============================] - 0s 3ms/step - loss: 0.6931 - accuracy: 0.2501 - val_loss: 0.6935 - val_accuracy: 0.2501\n",
      "Epoch 36/1000\n",
      "60/60 [==============================] - 0s 4ms/step - loss: 0.6931 - accuracy: 0.2498 - val_loss: 0.6935 - val_accuracy: 0.2501\n",
      "Epoch 37/1000\n",
      "60/60 [==============================] - 0s 4ms/step - loss: 0.6931 - accuracy: 0.2497 - val_loss: 0.6935 - val_accuracy: 0.2499\n",
      "Epoch 38/1000\n",
      "60/60 [==============================] - 0s 3ms/step - loss: 0.6931 - accuracy: 0.2500 - val_loss: 0.6935 - val_accuracy: 0.2501\n",
      "Epoch 39/1000\n",
      "60/60 [==============================] - 0s 3ms/step - loss: 0.6931 - accuracy: 0.2501 - val_loss: 0.6935 - val_accuracy: 0.2501\n",
      "Epoch 40/1000\n",
      "46/60 [======================>.......] - ETA: 0s - loss: 0.6931 - accuracy: 0.2497Restoring model weights from the end of the best epoch.\n",
      "60/60 [==============================] - 0s 3ms/step - loss: 0.6931 - accuracy: 0.2499 - val_loss: 0.6935 - val_accuracy: 0.2501\n",
      "Epoch 00040: early stopping\n",
      "\n",
      "STEP 2b\n",
      "\n",
      "Epoch 1/1000\n",
      "49/49 [==============================] - 0s 4ms/step - loss: 0.6921 - accuracy: 0.2523 - val_loss: 0.6912 - val_accuracy: 0.2532\n",
      "Epoch 2/1000\n",
      "49/49 [==============================] - 0s 3ms/step - loss: 0.6921 - accuracy: 0.2521 - val_loss: 0.6912 - val_accuracy: 0.2526\n",
      "Epoch 3/1000\n",
      "49/49 [==============================] - 0s 3ms/step - loss: 0.6921 - accuracy: 0.2524 - val_loss: 0.6912 - val_accuracy: 0.2526\n",
      "Epoch 4/1000\n",
      "49/49 [==============================] - 0s 3ms/step - loss: 0.6921 - accuracy: 0.2527 - val_loss: 0.6913 - val_accuracy: 0.2511\n",
      "Epoch 5/1000\n",
      "49/49 [==============================] - 0s 3ms/step - loss: 0.6921 - accuracy: 0.2521 - val_loss: 0.6912 - val_accuracy: 0.2519\n",
      "Epoch 6/1000\n",
      "49/49 [==============================] - 0s 3ms/step - loss: 0.6921 - accuracy: 0.2525 - val_loss: 0.6913 - val_accuracy: 0.2527\n",
      "Epoch 7/1000\n",
      "49/49 [==============================] - 0s 3ms/step - loss: 0.6921 - accuracy: 0.2527 - val_loss: 0.6912 - val_accuracy: 0.2521\n",
      "Epoch 8/1000\n",
      "49/49 [==============================] - 0s 3ms/step - loss: 0.6921 - accuracy: 0.2524 - val_loss: 0.6912 - val_accuracy: 0.2526\n",
      "Epoch 9/1000\n",
      "49/49 [==============================] - 0s 3ms/step - loss: 0.6921 - accuracy: 0.2521 - val_loss: 0.6912 - val_accuracy: 0.2517\n",
      "Epoch 10/1000\n",
      "49/49 [==============================] - 0s 3ms/step - loss: 0.6921 - accuracy: 0.2523 - val_loss: 0.6912 - val_accuracy: 0.2521\n",
      "Epoch 11/1000\n",
      "49/49 [==============================] - 0s 3ms/step - loss: 0.6921 - accuracy: 0.2524 - val_loss: 0.6912 - val_accuracy: 0.2521\n",
      "Epoch 12/1000\n",
      "49/49 [==============================] - 0s 4ms/step - loss: 0.6921 - accuracy: 0.2523 - val_loss: 0.6912 - val_accuracy: 0.2517\n",
      "Epoch 13/1000\n",
      "49/49 [==============================] - 0s 4ms/step - loss: 0.6921 - accuracy: 0.2520 - val_loss: 0.6912 - val_accuracy: 0.2516\n",
      "Epoch 14/1000\n",
      "49/49 [==============================] - 0s 4ms/step - loss: 0.6921 - accuracy: 0.2520 - val_loss: 0.6912 - val_accuracy: 0.2532\n",
      "Epoch 15/1000\n",
      "49/49 [==============================] - 0s 4ms/step - loss: 0.6921 - accuracy: 0.2525 - val_loss: 0.6912 - val_accuracy: 0.2517\n",
      "Epoch 16/1000\n",
      "49/49 [==============================] - 0s 4ms/step - loss: 0.6921 - accuracy: 0.2526 - val_loss: 0.6912 - val_accuracy: 0.2521\n",
      "Epoch 17/1000\n",
      "49/49 [==============================] - 0s 4ms/step - loss: 0.6921 - accuracy: 0.2523 - val_loss: 0.6912 - val_accuracy: 0.2532\n",
      "Epoch 18/1000\n",
      "49/49 [==============================] - 0s 4ms/step - loss: 0.6921 - accuracy: 0.2524 - val_loss: 0.6912 - val_accuracy: 0.2517\n",
      "Epoch 19/1000\n",
      "49/49 [==============================] - 0s 4ms/step - loss: 0.6921 - accuracy: 0.2522 - val_loss: 0.6912 - val_accuracy: 0.2521\n",
      "Epoch 20/1000\n",
      "43/49 [=========================>....] - ETA: 0s - loss: 0.6921 - accuracy: 0.2526Restoring model weights from the end of the best epoch.\n",
      "49/49 [==============================] - 0s 4ms/step - loss: 0.6921 - accuracy: 0.2529 - val_loss: 0.6912 - val_accuracy: 0.2517\n",
      "Epoch 00020: early stopping\n",
      "\n",
      "ITERATION: 2\n",
      "\n",
      "STEP 1\n",
      "\n",
      "Epoch 1/1000\n",
      "245/245 [==============================] - 1s 3ms/step - loss: 0.3673 - accuracy: 0.4459 - val_loss: 0.3371 - val_accuracy: 0.4474\n",
      "Epoch 2/1000\n",
      "245/245 [==============================] - 1s 3ms/step - loss: 0.3374 - accuracy: 0.4472 - val_loss: 0.3371 - val_accuracy: 0.4474\n",
      "Epoch 3/1000\n",
      "245/245 [==============================] - 1s 3ms/step - loss: 0.3374 - accuracy: 0.4472 - val_loss: 0.3371 - val_accuracy: 0.4474\n",
      "Epoch 4/1000\n",
      "245/245 [==============================] - 1s 3ms/step - loss: 0.3374 - accuracy: 0.4472 - val_loss: 0.3372 - val_accuracy: 0.4474\n",
      "Epoch 5/1000\n",
      "245/245 [==============================] - 1s 3ms/step - loss: 0.3374 - accuracy: 0.4472 - val_loss: 0.3371 - val_accuracy: 0.4474\n",
      "Epoch 6/1000\n",
      "245/245 [==============================] - 1s 3ms/step - loss: 0.3374 - accuracy: 0.4472 - val_loss: 0.3371 - val_accuracy: 0.4474\n",
      "Epoch 7/1000\n",
      "245/245 [==============================] - 1s 3ms/step - loss: 0.3374 - accuracy: 0.4472 - val_loss: 0.3371 - val_accuracy: 0.4474\n",
      "Epoch 8/1000\n",
      "245/245 [==============================] - 1s 3ms/step - loss: 0.3374 - accuracy: 0.4472 - val_loss: 0.3371 - val_accuracy: 0.4474\n",
      "Epoch 9/1000\n",
      "245/245 [==============================] - 1s 3ms/step - loss: 0.3374 - accuracy: 0.4472 - val_loss: 0.3372 - val_accuracy: 0.4474\n",
      "Epoch 10/1000\n",
      "245/245 [==============================] - 1s 3ms/step - loss: 0.3374 - accuracy: 0.4472 - val_loss: 0.3371 - val_accuracy: 0.4474\n",
      "Epoch 11/1000\n",
      "245/245 [==============================] - 1s 3ms/step - loss: 0.3374 - accuracy: 0.4472 - val_loss: 0.3371 - val_accuracy: 0.4474\n",
      "Epoch 12/1000\n",
      "245/245 [==============================] - 1s 3ms/step - loss: 0.3374 - accuracy: 0.4472 - val_loss: 0.3371 - val_accuracy: 0.4474\n",
      "Epoch 13/1000\n",
      "245/245 [==============================] - 1s 3ms/step - loss: 0.3375 - accuracy: 0.4472 - val_loss: 0.3371 - val_accuracy: 0.4474\n",
      "Epoch 14/1000\n",
      "245/245 [==============================] - 1s 3ms/step - loss: 0.3374 - accuracy: 0.4472 - val_loss: 0.3371 - val_accuracy: 0.4474\n",
      "Epoch 15/1000\n",
      "245/245 [==============================] - 1s 3ms/step - loss: 0.3374 - accuracy: 0.4472 - val_loss: 0.3372 - val_accuracy: 0.4474\n",
      "Epoch 16/1000\n",
      "245/245 [==============================] - 1s 3ms/step - loss: 0.3374 - accuracy: 0.4472 - val_loss: 0.3373 - val_accuracy: 0.4474\n",
      "Epoch 17/1000\n",
      "241/245 [============================>.] - ETA: 0s - loss: 0.3373 - accuracy: 0.4472Restoring model weights from the end of the best epoch.\n",
      "245/245 [==============================] - 1s 3ms/step - loss: 0.3374 - accuracy: 0.4472 - val_loss: 0.3371 - val_accuracy: 0.4474\n",
      "Epoch 00017: early stopping\n",
      "\n",
      "STEP 1b\n",
      "\n",
      "Epoch 1/1000\n",
      "49/49 [==============================] - 0s 4ms/step - loss: 1.6029 - accuracy: 0.2499 - val_loss: 1.6006 - val_accuracy: 0.2503\n",
      "Epoch 2/1000\n",
      "49/49 [==============================] - 0s 3ms/step - loss: 1.6028 - accuracy: 0.2499 - val_loss: 1.6011 - val_accuracy: 0.2503\n",
      "Epoch 3/1000\n",
      "49/49 [==============================] - 0s 3ms/step - loss: 1.6028 - accuracy: 0.2499 - val_loss: 1.6007 - val_accuracy: 0.2503\n",
      "Epoch 4/1000\n",
      "49/49 [==============================] - 0s 3ms/step - loss: 1.6027 - accuracy: 0.2499 - val_loss: 1.6012 - val_accuracy: 0.2503\n",
      "Epoch 5/1000\n",
      "49/49 [==============================] - 0s 3ms/step - loss: 1.6028 - accuracy: 0.2499 - val_loss: 1.6006 - val_accuracy: 0.2503\n",
      "Epoch 6/1000\n",
      "49/49 [==============================] - 0s 3ms/step - loss: 1.6027 - accuracy: 0.2499 - val_loss: 1.6006 - val_accuracy: 0.2503\n",
      "Epoch 7/1000\n",
      "49/49 [==============================] - 0s 3ms/step - loss: 1.6029 - accuracy: 0.2499 - val_loss: 1.6011 - val_accuracy: 0.2503\n",
      "Epoch 8/1000\n",
      "49/49 [==============================] - 0s 3ms/step - loss: 1.6028 - accuracy: 0.2499 - val_loss: 1.6006 - val_accuracy: 0.2503\n",
      "Epoch 9/1000\n",
      "49/49 [==============================] - 0s 3ms/step - loss: 1.6027 - accuracy: 0.2499 - val_loss: 1.6006 - val_accuracy: 0.2503\n",
      "Epoch 10/1000\n",
      "49/49 [==============================] - 0s 4ms/step - loss: 1.6027 - accuracy: 0.2499 - val_loss: 1.6007 - val_accuracy: 0.2503\n",
      "Epoch 11/1000\n",
      "49/49 [==============================] - 0s 4ms/step - loss: 1.6028 - accuracy: 0.2499 - val_loss: 1.6010 - val_accuracy: 0.2503\n",
      "Epoch 12/1000\n",
      "49/49 [==============================] - 0s 4ms/step - loss: 1.6028 - accuracy: 0.2499 - val_loss: 1.6006 - val_accuracy: 0.2503\n",
      "Epoch 13/1000\n",
      "49/49 [==============================] - 0s 3ms/step - loss: 1.6029 - accuracy: 0.2499 - val_loss: 1.6013 - val_accuracy: 0.2503\n",
      "Epoch 14/1000\n",
      "49/49 [==============================] - 0s 4ms/step - loss: 1.6028 - accuracy: 0.2499 - val_loss: 1.6006 - val_accuracy: 0.2503\n",
      "Epoch 15/1000\n",
      "49/49 [==============================] - 0s 4ms/step - loss: 1.6028 - accuracy: 0.2499 - val_loss: 1.6011 - val_accuracy: 0.2503\n",
      "Epoch 16/1000\n",
      "49/49 [==============================] - 0s 4ms/step - loss: 1.6027 - accuracy: 0.2499 - val_loss: 1.6006 - val_accuracy: 0.2503\n",
      "Epoch 17/1000\n",
      "49/49 [==============================] - 0s 4ms/step - loss: 1.6027 - accuracy: 0.2499 - val_loss: 1.6010 - val_accuracy: 0.2503\n",
      "Epoch 18/1000\n",
      "49/49 [==============================] - 0s 4ms/step - loss: 1.6028 - accuracy: 0.2499 - val_loss: 1.6014 - val_accuracy: 0.2503\n",
      "Epoch 19/1000\n",
      "49/49 [==============================] - 0s 3ms/step - loss: 1.6028 - accuracy: 0.2499 - val_loss: 1.6007 - val_accuracy: 0.2503\n",
      "Epoch 20/1000\n",
      "49/49 [==============================] - 0s 4ms/step - loss: 1.6027 - accuracy: 0.2499 - val_loss: 1.6006 - val_accuracy: 0.2503\n",
      "Epoch 21/1000\n",
      "49/49 [==============================] - 0s 4ms/step - loss: 1.6028 - accuracy: 0.2499 - val_loss: 1.6016 - val_accuracy: 0.2503\n",
      "Epoch 22/1000\n",
      "39/49 [======================>.......] - ETA: 0s - loss: 1.6031 - accuracy: 0.2498Restoring model weights from the end of the best epoch.\n",
      "49/49 [==============================] - 0s 4ms/step - loss: 1.6029 - accuracy: 0.2499 - val_loss: 1.6007 - val_accuracy: 0.2503\n",
      "Epoch 00022: early stopping\n",
      "\n",
      "STEP 2\n",
      "\n",
      "Epoch 1/1000\n",
      "60/60 [==============================] - 0s 5ms/step - loss: 0.8004 - accuracy: 0.2499 - val_loss: 0.6942 - val_accuracy: 0.2504\n",
      "Epoch 2/1000\n",
      "60/60 [==============================] - 0s 3ms/step - loss: 0.6933 - accuracy: 0.2502 - val_loss: 0.6933 - val_accuracy: 0.2509\n",
      "Epoch 3/1000\n",
      "60/60 [==============================] - 0s 3ms/step - loss: 0.6930 - accuracy: 0.2498 - val_loss: 0.6933 - val_accuracy: 0.2509\n",
      "Epoch 4/1000\n",
      "60/60 [==============================] - 0s 4ms/step - loss: 0.6929 - accuracy: 0.2497 - val_loss: 0.6932 - val_accuracy: 0.2509\n",
      "Epoch 5/1000\n",
      "60/60 [==============================] - 0s 4ms/step - loss: 0.6929 - accuracy: 0.2497 - val_loss: 0.6932 - val_accuracy: 0.2509\n",
      "Epoch 6/1000\n",
      "60/60 [==============================] - 0s 4ms/step - loss: 0.6929 - accuracy: 0.2496 - val_loss: 0.6933 - val_accuracy: 0.2509\n",
      "Epoch 7/1000\n",
      "60/60 [==============================] - 0s 4ms/step - loss: 0.6929 - accuracy: 0.2497 - val_loss: 0.6932 - val_accuracy: 0.2509\n",
      "Epoch 8/1000\n",
      "60/60 [==============================] - 0s 4ms/step - loss: 0.6929 - accuracy: 0.2498 - val_loss: 0.6933 - val_accuracy: 0.2509\n",
      "Epoch 9/1000\n",
      "60/60 [==============================] - 0s 4ms/step - loss: 0.6929 - accuracy: 0.2496 - val_loss: 0.6933 - val_accuracy: 0.2506\n",
      "Epoch 10/1000\n",
      "60/60 [==============================] - 0s 4ms/step - loss: 0.6929 - accuracy: 0.2497 - val_loss: 0.6933 - val_accuracy: 0.2509\n",
      "Epoch 11/1000\n",
      "60/60 [==============================] - 0s 3ms/step - loss: 0.6929 - accuracy: 0.2495 - val_loss: 0.6932 - val_accuracy: 0.2506\n",
      "Epoch 12/1000\n",
      "60/60 [==============================] - 0s 4ms/step - loss: 0.6929 - accuracy: 0.2498 - val_loss: 0.6933 - val_accuracy: 0.2506\n",
      "Epoch 13/1000\n",
      "60/60 [==============================] - 0s 4ms/step - loss: 0.6929 - accuracy: 0.2495 - val_loss: 0.6933 - val_accuracy: 0.2506\n",
      "Epoch 14/1000\n",
      "42/60 [====================>.........] - ETA: 0s - loss: 0.6931 - accuracy: 0.2493Restoring model weights from the end of the best epoch.\n",
      "60/60 [==============================] - 0s 4ms/step - loss: 0.6929 - accuracy: 0.2496 - val_loss: 0.6933 - val_accuracy: 0.2506\n",
      "Epoch 00014: early stopping\n",
      "\n",
      "STEP 2b\n",
      "\n",
      "Epoch 1/1000\n",
      "49/49 [==============================] - 0s 4ms/step - loss: 0.6934 - accuracy: 0.2518 - val_loss: 0.6940 - val_accuracy: 0.2525\n",
      "Epoch 2/1000\n",
      "49/49 [==============================] - 0s 3ms/step - loss: 0.6934 - accuracy: 0.2521 - val_loss: 0.6940 - val_accuracy: 0.2523\n",
      "Epoch 3/1000\n",
      "49/49 [==============================] - 0s 3ms/step - loss: 0.6934 - accuracy: 0.2522 - val_loss: 0.6940 - val_accuracy: 0.2523\n",
      "Epoch 4/1000\n",
      "49/49 [==============================] - 0s 3ms/step - loss: 0.6934 - accuracy: 0.2520 - val_loss: 0.6939 - val_accuracy: 0.2524\n",
      "Epoch 5/1000\n",
      "49/49 [==============================] - 0s 3ms/step - loss: 0.6934 - accuracy: 0.2521 - val_loss: 0.6940 - val_accuracy: 0.2524\n",
      "Epoch 6/1000\n",
      "49/49 [==============================] - 0s 3ms/step - loss: 0.6934 - accuracy: 0.2514 - val_loss: 0.6940 - val_accuracy: 0.2525\n",
      "Epoch 7/1000\n",
      "49/49 [==============================] - 0s 3ms/step - loss: 0.6934 - accuracy: 0.2520 - val_loss: 0.6939 - val_accuracy: 0.2524\n",
      "Epoch 8/1000\n",
      "49/49 [==============================] - 0s 3ms/step - loss: 0.6934 - accuracy: 0.2517 - val_loss: 0.6940 - val_accuracy: 0.2524\n",
      "Epoch 9/1000\n",
      "49/49 [==============================] - 0s 4ms/step - loss: 0.6934 - accuracy: 0.2521 - val_loss: 0.6941 - val_accuracy: 0.2530\n",
      "Epoch 10/1000\n",
      "49/49 [==============================] - 0s 4ms/step - loss: 0.6934 - accuracy: 0.2520 - val_loss: 0.6939 - val_accuracy: 0.2524\n",
      "Epoch 11/1000\n",
      "49/49 [==============================] - 0s 4ms/step - loss: 0.6934 - accuracy: 0.2519 - val_loss: 0.6940 - val_accuracy: 0.2523\n",
      "Epoch 12/1000\n",
      "49/49 [==============================] - 0s 4ms/step - loss: 0.6934 - accuracy: 0.2519 - val_loss: 0.6940 - val_accuracy: 0.2524\n",
      "Epoch 13/1000\n",
      "49/49 [==============================] - 0s 3ms/step - loss: 0.6934 - accuracy: 0.2518 - val_loss: 0.6940 - val_accuracy: 0.2523\n",
      "Epoch 14/1000\n",
      "49/49 [==============================] - 0s 3ms/step - loss: 0.6934 - accuracy: 0.2520 - val_loss: 0.6940 - val_accuracy: 0.2525\n",
      "Epoch 15/1000\n",
      "49/49 [==============================] - 0s 3ms/step - loss: 0.6934 - accuracy: 0.2520 - val_loss: 0.6940 - val_accuracy: 0.2523\n",
      "Epoch 16/1000\n",
      "49/49 [==============================] - 0s 3ms/step - loss: 0.6934 - accuracy: 0.2515 - val_loss: 0.6940 - val_accuracy: 0.2523\n",
      "Epoch 17/1000\n",
      "25/49 [==============>...............] - ETA: 0s - loss: 0.6936 - accuracy: 0.2514Restoring model weights from the end of the best epoch.\n",
      "49/49 [==============================] - 0s 3ms/step - loss: 0.6934 - accuracy: 0.2521 - val_loss: 0.6940 - val_accuracy: 0.2524\n",
      "Epoch 00017: early stopping\n",
      "\n",
      "ITERATION: 3\n",
      "\n",
      "STEP 1\n",
      "\n",
      "Epoch 1/1000\n",
      "245/245 [==============================] - 1s 3ms/step - loss: 0.3669 - accuracy: 0.4455 - val_loss: 0.3369 - val_accuracy: 0.4473\n",
      "Epoch 2/1000\n",
      "245/245 [==============================] - 1s 3ms/step - loss: 0.3375 - accuracy: 0.4472 - val_loss: 0.3370 - val_accuracy: 0.4473\n",
      "Epoch 3/1000\n",
      "245/245 [==============================] - 1s 3ms/step - loss: 0.3375 - accuracy: 0.4472 - val_loss: 0.3370 - val_accuracy: 0.4473\n",
      "Epoch 4/1000\n",
      "245/245 [==============================] - 1s 3ms/step - loss: 0.3375 - accuracy: 0.4472 - val_loss: 0.3370 - val_accuracy: 0.4473\n",
      "Epoch 5/1000\n",
      "245/245 [==============================] - 1s 3ms/step - loss: 0.3375 - accuracy: 0.4472 - val_loss: 0.3370 - val_accuracy: 0.4473\n",
      "Epoch 6/1000\n",
      "245/245 [==============================] - 1s 3ms/step - loss: 0.3375 - accuracy: 0.4472 - val_loss: 0.3370 - val_accuracy: 0.4473\n",
      "Epoch 7/1000\n",
      "245/245 [==============================] - 1s 3ms/step - loss: 0.3375 - accuracy: 0.4472 - val_loss: 0.3371 - val_accuracy: 0.4473\n",
      "Epoch 8/1000\n",
      "245/245 [==============================] - 1s 3ms/step - loss: 0.3375 - accuracy: 0.4472 - val_loss: 0.3369 - val_accuracy: 0.4473\n",
      "Epoch 9/1000\n",
      "245/245 [==============================] - 1s 3ms/step - loss: 0.3375 - accuracy: 0.4472 - val_loss: 0.3369 - val_accuracy: 0.4473\n",
      "Epoch 10/1000\n",
      "245/245 [==============================] - 1s 3ms/step - loss: 0.3375 - accuracy: 0.4472 - val_loss: 0.3370 - val_accuracy: 0.4473\n",
      "Epoch 11/1000\n",
      "226/245 [==========================>...] - ETA: 0s - loss: 0.3374 - accuracy: 0.4472Restoring model weights from the end of the best epoch.\n",
      "245/245 [==============================] - 1s 3ms/step - loss: 0.3375 - accuracy: 0.4472 - val_loss: 0.3370 - val_accuracy: 0.4473\n",
      "Epoch 00011: early stopping\n",
      "\n",
      "STEP 1b\n",
      "\n",
      "Epoch 1/1000\n",
      "49/49 [==============================] - 0s 6ms/step - loss: 1.5980 - accuracy: 0.2499 - val_loss: 1.5977 - val_accuracy: 0.2504\n",
      "Epoch 2/1000\n",
      "49/49 [==============================] - 0s 3ms/step - loss: 1.5979 - accuracy: 0.2499 - val_loss: 1.5978 - val_accuracy: 0.2504\n",
      "Epoch 3/1000\n",
      "49/49 [==============================] - 0s 3ms/step - loss: 1.5980 - accuracy: 0.2499 - val_loss: 1.5979 - val_accuracy: 0.2504\n",
      "Epoch 4/1000\n",
      "49/49 [==============================] - 0s 3ms/step - loss: 1.5979 - accuracy: 0.2499 - val_loss: 1.5977 - val_accuracy: 0.2504\n",
      "Epoch 5/1000\n",
      "49/49 [==============================] - 0s 4ms/step - loss: 1.5979 - accuracy: 0.2499 - val_loss: 1.5977 - val_accuracy: 0.2504\n",
      "Epoch 6/1000\n",
      "49/49 [==============================] - 0s 4ms/step - loss: 1.5980 - accuracy: 0.2499 - val_loss: 1.5977 - val_accuracy: 0.2504\n",
      "Epoch 7/1000\n",
      "49/49 [==============================] - 0s 4ms/step - loss: 1.5981 - accuracy: 0.2499 - val_loss: 1.5985 - val_accuracy: 0.2504\n",
      "Epoch 8/1000\n",
      "49/49 [==============================] - 0s 4ms/step - loss: 1.5981 - accuracy: 0.2499 - val_loss: 1.5977 - val_accuracy: 0.2504\n",
      "Epoch 9/1000\n",
      "49/49 [==============================] - 0s 4ms/step - loss: 1.5978 - accuracy: 0.2499 - val_loss: 1.5977 - val_accuracy: 0.2504\n",
      "Epoch 10/1000\n",
      "49/49 [==============================] - 0s 4ms/step - loss: 1.5978 - accuracy: 0.2499 - val_loss: 1.5977 - val_accuracy: 0.2504\n",
      "Epoch 11/1000\n",
      "49/49 [==============================] - 0s 4ms/step - loss: 1.5978 - accuracy: 0.2499 - val_loss: 1.5979 - val_accuracy: 0.2504\n",
      "Epoch 12/1000\n",
      "49/49 [==============================] - 0s 4ms/step - loss: 1.5979 - accuracy: 0.2499 - val_loss: 1.5978 - val_accuracy: 0.2504\n",
      "Epoch 13/1000\n",
      "49/49 [==============================] - 0s 4ms/step - loss: 1.5979 - accuracy: 0.2499 - val_loss: 1.5977 - val_accuracy: 0.2504\n",
      "Epoch 14/1000\n",
      "49/49 [==============================] - 0s 3ms/step - loss: 1.5979 - accuracy: 0.2499 - val_loss: 1.5979 - val_accuracy: 0.2504\n",
      "Epoch 15/1000\n",
      "49/49 [==============================] - 0s 4ms/step - loss: 1.5979 - accuracy: 0.2499 - val_loss: 1.5979 - val_accuracy: 0.2504\n",
      "Epoch 16/1000\n",
      "47/49 [===========================>..] - ETA: 0s - loss: 1.5978 - accuracy: 0.2499Restoring model weights from the end of the best epoch.\n",
      "49/49 [==============================] - 0s 3ms/step - loss: 1.5978 - accuracy: 0.2499 - val_loss: 1.5978 - val_accuracy: 0.2504\n",
      "Epoch 00016: early stopping\n",
      "\n",
      "STEP 2\n",
      "\n",
      "Epoch 1/1000\n",
      "60/60 [==============================] - 0s 6ms/step - loss: 0.8018 - accuracy: 0.2502 - val_loss: 0.6938 - val_accuracy: 0.2496\n",
      "Epoch 2/1000\n",
      "60/60 [==============================] - 0s 3ms/step - loss: 0.6934 - accuracy: 0.2502 - val_loss: 0.6926 - val_accuracy: 0.2501\n",
      "Epoch 3/1000\n",
      "60/60 [==============================] - 0s 4ms/step - loss: 0.6932 - accuracy: 0.2497 - val_loss: 0.6925 - val_accuracy: 0.2501\n",
      "Epoch 4/1000\n",
      "60/60 [==============================] - 0s 4ms/step - loss: 0.6932 - accuracy: 0.2499 - val_loss: 0.6925 - val_accuracy: 0.2503\n",
      "Epoch 5/1000\n",
      "60/60 [==============================] - 0s 4ms/step - loss: 0.6932 - accuracy: 0.2501 - val_loss: 0.6925 - val_accuracy: 0.2501\n",
      "Epoch 6/1000\n",
      "60/60 [==============================] - 0s 4ms/step - loss: 0.6932 - accuracy: 0.2500 - val_loss: 0.6925 - val_accuracy: 0.2501\n",
      "Epoch 7/1000\n",
      "60/60 [==============================] - 0s 4ms/step - loss: 0.6932 - accuracy: 0.2499 - val_loss: 0.6925 - val_accuracy: 0.2501\n",
      "Epoch 8/1000\n",
      "60/60 [==============================] - 0s 3ms/step - loss: 0.6932 - accuracy: 0.2500 - val_loss: 0.6925 - val_accuracy: 0.2501\n",
      "Epoch 9/1000\n",
      "60/60 [==============================] - 0s 4ms/step - loss: 0.6932 - accuracy: 0.2500 - val_loss: 0.6925 - val_accuracy: 0.2501\n",
      "Epoch 10/1000\n",
      "60/60 [==============================] - 0s 3ms/step - loss: 0.6932 - accuracy: 0.2500 - val_loss: 0.6925 - val_accuracy: 0.2501\n",
      "Epoch 11/1000\n",
      "60/60 [==============================] - 0s 3ms/step - loss: 0.6932 - accuracy: 0.2499 - val_loss: 0.6925 - val_accuracy: 0.2501\n",
      "Epoch 12/1000\n",
      "60/60 [==============================] - 0s 3ms/step - loss: 0.6932 - accuracy: 0.2499 - val_loss: 0.6925 - val_accuracy: 0.2501\n",
      "Epoch 13/1000\n",
      "60/60 [==============================] - 0s 3ms/step - loss: 0.6932 - accuracy: 0.2498 - val_loss: 0.6925 - val_accuracy: 0.2501\n",
      "Epoch 14/1000\n",
      "60/60 [==============================] - 0s 3ms/step - loss: 0.6932 - accuracy: 0.2500 - val_loss: 0.6925 - val_accuracy: 0.2501\n",
      "Epoch 15/1000\n",
      "60/60 [==============================] - 0s 3ms/step - loss: 0.6932 - accuracy: 0.2500 - val_loss: 0.6925 - val_accuracy: 0.2501\n",
      "Epoch 16/1000\n",
      "60/60 [==============================] - 0s 3ms/step - loss: 0.6932 - accuracy: 0.2500 - val_loss: 0.6925 - val_accuracy: 0.2501\n",
      "Epoch 17/1000\n",
      "60/60 [==============================] - 0s 3ms/step - loss: 0.6932 - accuracy: 0.2500 - val_loss: 0.6925 - val_accuracy: 0.2501\n",
      "Epoch 18/1000\n",
      "60/60 [==============================] - 0s 3ms/step - loss: 0.6932 - accuracy: 0.2500 - val_loss: 0.6925 - val_accuracy: 0.2501\n",
      "Epoch 19/1000\n",
      "60/60 [==============================] - 0s 3ms/step - loss: 0.6932 - accuracy: 0.2500 - val_loss: 0.6925 - val_accuracy: 0.2501\n",
      "Epoch 20/1000\n",
      "60/60 [==============================] - 0s 3ms/step - loss: 0.6932 - accuracy: 0.2500 - val_loss: 0.6925 - val_accuracy: 0.2501\n",
      "Epoch 21/1000\n",
      "60/60 [==============================] - 0s 3ms/step - loss: 0.6932 - accuracy: 0.2500 - val_loss: 0.6925 - val_accuracy: 0.2501\n",
      "Epoch 22/1000\n",
      "60/60 [==============================] - 0s 4ms/step - loss: 0.6932 - accuracy: 0.2500 - val_loss: 0.6925 - val_accuracy: 0.2501\n",
      "Epoch 23/1000\n",
      "60/60 [==============================] - 0s 4ms/step - loss: 0.6932 - accuracy: 0.2500 - val_loss: 0.6925 - val_accuracy: 0.2501\n",
      "Epoch 24/1000\n",
      "60/60 [==============================] - 0s 3ms/step - loss: 0.6932 - accuracy: 0.2501 - val_loss: 0.6925 - val_accuracy: 0.2501\n",
      "Epoch 25/1000\n",
      "48/60 [=======================>......] - ETA: 0s - loss: 0.6933 - accuracy: 0.2500Restoring model weights from the end of the best epoch.\n",
      "60/60 [==============================] - 0s 3ms/step - loss: 0.6932 - accuracy: 0.2498 - val_loss: 0.6925 - val_accuracy: 0.2501\n",
      "Epoch 00025: early stopping\n",
      "\n",
      "STEP 2b\n",
      "\n",
      "Epoch 1/1000\n",
      "49/49 [==============================] - 0s 4ms/step - loss: 0.6944 - accuracy: 0.2520 - val_loss: 0.6948 - val_accuracy: 0.2511\n",
      "Epoch 2/1000\n",
      "49/49 [==============================] - 0s 3ms/step - loss: 0.6944 - accuracy: 0.2518 - val_loss: 0.6947 - val_accuracy: 0.2518\n",
      "Epoch 3/1000\n",
      "49/49 [==============================] - 0s 3ms/step - loss: 0.6944 - accuracy: 0.2514 - val_loss: 0.6947 - val_accuracy: 0.2518\n",
      "Epoch 4/1000\n",
      "49/49 [==============================] - 0s 4ms/step - loss: 0.6944 - accuracy: 0.2519 - val_loss: 0.6947 - val_accuracy: 0.2518\n",
      "Epoch 5/1000\n",
      "49/49 [==============================] - 0s 3ms/step - loss: 0.6944 - accuracy: 0.2517 - val_loss: 0.6947 - val_accuracy: 0.2518\n",
      "Epoch 6/1000\n",
      "49/49 [==============================] - 0s 3ms/step - loss: 0.6944 - accuracy: 0.2518 - val_loss: 0.6948 - val_accuracy: 0.2511\n",
      "Epoch 7/1000\n",
      "49/49 [==============================] - 0s 3ms/step - loss: 0.6944 - accuracy: 0.2516 - val_loss: 0.6947 - val_accuracy: 0.2518\n",
      "Epoch 8/1000\n",
      "49/49 [==============================] - 0s 4ms/step - loss: 0.6944 - accuracy: 0.2516 - val_loss: 0.6947 - val_accuracy: 0.2518\n",
      "Epoch 9/1000\n",
      "49/49 [==============================] - 0s 4ms/step - loss: 0.6944 - accuracy: 0.2519 - val_loss: 0.6947 - val_accuracy: 0.2511\n",
      "Epoch 10/1000\n",
      "49/49 [==============================] - 0s 4ms/step - loss: 0.6944 - accuracy: 0.2518 - val_loss: 0.6947 - val_accuracy: 0.2518\n",
      "Epoch 11/1000\n",
      "49/49 [==============================] - 0s 4ms/step - loss: 0.6944 - accuracy: 0.2519 - val_loss: 0.6948 - val_accuracy: 0.2511\n",
      "Epoch 12/1000\n",
      "49/49 [==============================] - 0s 4ms/step - loss: 0.6944 - accuracy: 0.2519 - val_loss: 0.6947 - val_accuracy: 0.2518\n",
      "Epoch 13/1000\n",
      "49/49 [==============================] - 0s 4ms/step - loss: 0.6944 - accuracy: 0.2517 - val_loss: 0.6947 - val_accuracy: 0.2518\n",
      "Epoch 14/1000\n",
      "49/49 [==============================] - 0s 4ms/step - loss: 0.6944 - accuracy: 0.2518 - val_loss: 0.6947 - val_accuracy: 0.2521\n",
      "Epoch 15/1000\n",
      "41/49 [========================>.....] - ETA: 0s - loss: 0.6943 - accuracy: 0.2514Restoring model weights from the end of the best epoch.\n",
      "49/49 [==============================] - 0s 4ms/step - loss: 0.6944 - accuracy: 0.2515 - val_loss: 0.6947 - val_accuracy: 0.2518\n",
      "Epoch 00015: early stopping\n"
     ]
    }
   ],
   "source": [
    "weights, _ = unifold(iterations=3,\n",
    "                     sim_truth=sim_truth_z,\n",
    "                     sim_reco=sim_reco_z,\n",
    "                     sim_truth_weights_MC=sim_truth_weights_MC,\n",
    "                     sim_reco_weights_MC=sim_reco_weights_MC,\n",
    "                     data_reco=data_reco_z,\n",
    "                     data_reco_weights_MC=data_reco_weights_MC,\n",
    "                     dummyval=dummyval,\n",
    "                     verbose=1)\n",
    "\n",
    "unifold_weights[obs_index] = best_1D_reweighting(\n",
    "    test=sim_reco,\n",
    "    test_weights=sim_reco_weights_MC * weights[:, 1],\n",
    "    target=data_reco,\n",
    "    target_weights=data_reco_weights_MC,\n",
    "    bins=bins)"
   ]
  },
  {
   "cell_type": "code",
   "execution_count": 39,
   "metadata": {},
   "outputs": [
    {
     "data": {
      "text/plain": [
       "(3, 2, 416725)"
      ]
     },
     "execution_count": 39,
     "metadata": {},
     "output_type": "execute_result"
    }
   ],
   "source": [
    "weights.shape"
   ]
  },
  {
   "cell_type": "code",
   "execution_count": 40,
   "metadata": {},
   "outputs": [
    {
     "data": {
      "text/plain": [
       "(3, 416725)"
      ]
     },
     "execution_count": 40,
     "metadata": {},
     "output_type": "execute_result"
    }
   ],
   "source": [
    "weights[:,1].shape"
   ]
  },
  {
   "cell_type": "code",
   "execution_count": 41,
   "metadata": {},
   "outputs": [
    {
     "data": {
      "text/plain": [
       "(416725,)"
      ]
     },
     "execution_count": 41,
     "metadata": {},
     "output_type": "execute_result"
    }
   ],
   "source": [
    "sim_reco_weights_MC.shape"
   ]
  },
  {
   "cell_type": "code",
   "execution_count": 45,
   "metadata": {},
   "outputs": [
    {
     "data": {
      "text/plain": [
       "(3, 416725)"
      ]
     },
     "execution_count": 45,
     "metadata": {},
     "output_type": "execute_result"
    }
   ],
   "source": [
    "(sim_reco_weights_MC * weights[:, 1]).shape"
   ]
  },
  {
   "cell_type": "markdown",
   "metadata": {},
   "source": [
    "#### Results"
   ]
  },
  {
   "cell_type": "code",
   "execution_count": 47,
   "metadata": {
    "ExecuteTime": {
     "end_time": "2021-08-02T06:49:57.226126Z",
     "start_time": "2021-08-02T06:49:26.365782Z"
    }
   },
   "outputs": [
    {
     "name": "stdout",
     "output_type": "stream",
     "text": [
      "ITERATION 1:\n",
      "ITERATION 2:\n",
      "ITERATION 3:\n"
     ]
    },
    {
     "data": {
      "image/png": "[encoded data removed]",
      "text/plain": [
       "<Figure size 1440x432 with 2 Axes>"
      ]
     },
     "metadata": {},
     "output_type": "display_data"
    },
    {
     "data": {
      "image/png": "[encoded data removed]",
      "text/plain": [
       "<Figure size 1440x432 with 2 Axes>"
      ]
     },
     "metadata": {},
     "output_type": "display_data"
    },
    {
     "data": {
      "image/png": "[encoded data removed]",
      "text/plain": [
       "<Figure size 1440x432 with 2 Axes>"
      ]
     },
     "metadata": {},
     "output_type": "display_data"
    }
   ],
   "source": [
    "plot_results(sim_truth=sim_truth,\n",
    "             sim_reco=sim_reco,\n",
    "             sim_truth_weights_MC=sim_truth_weights_MC,\n",
    "             sim_reco_weights_MC=sim_reco_weights_MC,\n",
    "             data_truth=data_truth,\n",
    "             data_reco=data_reco,\n",
    "             data_truth_weights_MC=data_truth_weights_MC,\n",
    "             data_reco_weights_MC=data_reco_weights_MC,\n",
    "             weights=weights,\n",
    "             bins=bins,\n",
    "             x_label=x_label,\n",
    "             flavor_label='UniFold',\n",
    "             save_label=save_label)"
   ]
  },
  {
   "cell_type": "markdown",
   "metadata": {},
   "source": [
    "## Unfold $m_{j_1}$"
   ]
  },
  {
   "cell_type": "code",
   "execution_count": null,
   "metadata": {
    "ExecuteTime": {
     "end_time": "2021-08-02T06:49:57.256895Z",
     "start_time": "2021-08-02T06:49:57.227555Z"
    }
   },
   "outputs": [],
   "source": [
    "K.clear_session()"
   ]
  },
  {
   "cell_type": "code",
   "execution_count": null,
   "metadata": {
    "ExecuteTime": {
     "end_time": "2021-08-02T06:49:57.282125Z",
     "start_time": "2021-08-02T06:49:57.258189Z"
    }
   },
   "outputs": [],
   "source": [
    "obs_index = selected_leading_jet_obs_index[1]  # index for this observable\n",
    "\n",
    "bins = obs[obs_index]['bins']\n",
    "x_label = obs[obs_index]['plot_label']\n",
    "file_label = obs[obs_index]['file_label']\n",
    "save_label = plot_dir + 'UniFold/' + file_label + '/' + save_label0 + '-UniFold-' + file_label"
   ]
  },
  {
   "cell_type": "markdown",
   "metadata": {},
   "source": [
    "### Setup Datasets"
   ]
  },
  {
   "cell_type": "code",
   "execution_count": null,
   "metadata": {
    "ExecuteTime": {
     "end_time": "2021-08-02T06:50:12.769014Z",
     "start_time": "2021-08-02T06:49:57.283374Z"
    }
   },
   "outputs": [],
   "source": [
    "sim_truth = np.array(Events_sim['truth_' + file_label][mypass_sim].to_list())\n",
    "sim_truth[mycut_sim_truth] = dummyval\n",
    "sim_reco = np.array(Events_sim[file_label][mypass_sim].to_list())\n",
    "sim_reco[mycut_sim_reco] = dummyval\n",
    "\n",
    "data_truth = np.array(Events_data['truth_' + file_label][mypass_data_truth].to_list())\n",
    "data_reco = np.array(Events_data[file_label][mypass_data_reco].to_list())"
   ]
  },
  {
   "cell_type": "code",
   "execution_count": null,
   "metadata": {
    "ExecuteTime": {
     "end_time": "2021-08-02T06:50:16.074206Z",
     "start_time": "2021-08-02T06:50:12.770507Z"
    }
   },
   "outputs": [],
   "source": [
    "plot_distributions(sim_truth=sim_truth,\n",
    "                   sim_reco=sim_reco,\n",
    "                   sim_truth_weights_MC=sim_truth_weights_MC,\n",
    "                   sim_reco_weights_MC=sim_reco_weights_MC,\n",
    "                   data_truth=data_truth,\n",
    "                   data_reco=data_reco,\n",
    "                   data_truth_weights_MC=data_truth_weights_MC,\n",
    "                   data_reco_weights_MC=data_reco_weights_MC,\n",
    "                   bins=bins,\n",
    "                   x_label=x_label,\n",
    "                   save_label=save_label)"
   ]
  },
  {
   "cell_type": "markdown",
   "metadata": {},
   "source": [
    "### Unfold "
   ]
  },
  {
   "cell_type": "code",
   "execution_count": null,
   "metadata": {
    "ExecuteTime": {
     "end_time": "2021-08-02T06:50:16.183582Z",
     "start_time": "2021-08-02T06:50:16.075304Z"
    }
   },
   "outputs": [],
   "source": [
    "# z-score standardization of data\n",
    "\n",
    "sim_truth_z, sim_reco_z, data_reco_z = standardize(sim_truth, sim_reco,\n",
    "                                                   data_reco)"
   ]
  },
  {
   "cell_type": "code",
   "execution_count": null,
   "metadata": {
    "ExecuteTime": {
     "end_time": "2021-08-02T06:55:31.285255Z",
     "start_time": "2021-08-02T06:50:16.184687Z"
    },
    "scrolled": true
   },
   "outputs": [],
   "source": [
    "weights, _ = unifold(iterations=10,\n",
    "                     sim_truth=sim_truth_z,\n",
    "                     sim_reco=sim_reco_z,\n",
    "                     sim_truth_weights_MC=sim_truth_weights_MC,\n",
    "                     sim_reco_weights_MC=sim_reco_weights_MC,\n",
    "                     data_reco=data_reco_z,\n",
    "                     data_reco_weights_MC=data_reco_weights_MC,\n",
    "                     dummyval=dummyval,\n",
    "                     verbose=1)\n",
    "\n",
    "unifold_weights[obs_index] = best_1D_reweighting(\n",
    "    test=sim_reco,\n",
    "    test_weights=sim_reco_weights_MC * weights[:, 1],\n",
    "    target=data_reco,\n",
    "    target_weights=data_reco_weights_MC,\n",
    "    bins=bins)"
   ]
  },
  {
   "cell_type": "markdown",
   "metadata": {},
   "source": [
    "#### Results"
   ]
  },
  {
   "cell_type": "code",
   "execution_count": null,
   "metadata": {
    "ExecuteTime": {
     "end_time": "2021-08-02T06:56:10.176801Z",
     "start_time": "2021-08-02T06:55:31.286438Z"
    }
   },
   "outputs": [],
   "source": [
    "plot_results(sim_truth=sim_truth,\n",
    "             sim_reco=sim_reco,\n",
    "             sim_truth_weights_MC=sim_truth_weights_MC,\n",
    "             sim_reco_weights_MC=sim_reco_weights_MC,\n",
    "             data_truth=data_truth,\n",
    "             data_reco=data_reco,\n",
    "             data_truth_weights_MC=data_truth_weights_MC,\n",
    "             data_reco_weights_MC=data_reco_weights_MC,\n",
    "             weights=weights,\n",
    "             bins=bins,\n",
    "             x_label=x_label,\n",
    "             flavor_label='UniFold',\n",
    "             save_label=save_label)"
   ]
  },
  {
   "cell_type": "markdown",
   "metadata": {},
   "source": [
    "## Unfold $p_{T, j_1}$"
   ]
  },
  {
   "cell_type": "code",
   "execution_count": null,
   "metadata": {
    "ExecuteTime": {
     "end_time": "2021-08-02T06:56:10.207164Z",
     "start_time": "2021-08-02T06:56:10.178245Z"
    }
   },
   "outputs": [],
   "source": [
    "K.clear_session()"
   ]
  },
  {
   "cell_type": "code",
   "execution_count": null,
   "metadata": {
    "ExecuteTime": {
     "end_time": "2021-08-02T06:56:10.234239Z",
     "start_time": "2021-08-02T06:56:10.208434Z"
    }
   },
   "outputs": [],
   "source": [
    "obs_index = selected_leading_jet_obs_index[2]  # index for this observable\n",
    "\n",
    "bins = obs[obs_index]['bins']\n",
    "x_label = obs[obs_index]['plot_label']\n",
    "file_label = obs[obs_index]['file_label']\n",
    "save_label = plot_dir + 'UniFold/' + file_label + '/' + save_label0 + '-UniFold-' + file_label"
   ]
  },
  {
   "cell_type": "markdown",
   "metadata": {},
   "source": [
    "### Setup Datasets"
   ]
  },
  {
   "cell_type": "code",
   "execution_count": null,
   "metadata": {
    "ExecuteTime": {
     "end_time": "2021-08-02T06:56:25.961106Z",
     "start_time": "2021-08-02T06:56:10.235588Z"
    }
   },
   "outputs": [],
   "source": [
    "sim_truth = np.array(Events_sim['truth_' + file_label][mypass_sim].to_list())\n",
    "sim_truth[mycut_sim_truth] = dummyval\n",
    "sim_reco = np.array(Events_sim[file_label][mypass_sim].to_list())\n",
    "sim_reco[mycut_sim_reco] = dummyval\n",
    "\n",
    "data_truth = np.array(Events_data['truth_' + file_label][mypass_data_truth].to_list())\n",
    "data_reco = np.array(Events_data[file_label][mypass_data_reco].to_list())"
   ]
  },
  {
   "cell_type": "code",
   "execution_count": null,
   "metadata": {
    "ExecuteTime": {
     "end_time": "2021-08-02T06:56:29.121862Z",
     "start_time": "2021-08-02T06:56:25.962347Z"
    }
   },
   "outputs": [],
   "source": [
    "plot_distributions(sim_truth=sim_truth,\n",
    "                   sim_reco=sim_reco,\n",
    "                   sim_truth_weights_MC=sim_truth_weights_MC,\n",
    "                   sim_reco_weights_MC=sim_reco_weights_MC,\n",
    "                   data_truth=data_truth,\n",
    "                   data_reco=data_reco,\n",
    "                   data_truth_weights_MC=data_truth_weights_MC,\n",
    "                   data_reco_weights_MC=data_reco_weights_MC,\n",
    "                   bins=bins,\n",
    "                   x_label=x_label,\n",
    "                   save_label=save_label)"
   ]
  },
  {
   "cell_type": "markdown",
   "metadata": {},
   "source": [
    "### Unfold "
   ]
  },
  {
   "cell_type": "code",
   "execution_count": null,
   "metadata": {
    "ExecuteTime": {
     "end_time": "2021-08-02T06:56:29.243621Z",
     "start_time": "2021-08-02T06:56:29.123429Z"
    }
   },
   "outputs": [],
   "source": [
    "# z-score standardization of data\n",
    "\n",
    "sim_truth_z, sim_reco_z, data_reco_z = standardize(sim_truth, sim_reco,\n",
    "                                                   data_reco)"
   ]
  },
  {
   "cell_type": "code",
   "execution_count": null,
   "metadata": {
    "ExecuteTime": {
     "end_time": "2021-08-02T07:02:51.673077Z",
     "start_time": "2021-08-02T06:56:29.245504Z"
    },
    "scrolled": true
   },
   "outputs": [],
   "source": [
    "weights, _ = unifold(iterations=10,\n",
    "                     sim_truth=sim_truth_z,\n",
    "                     sim_reco=sim_reco_z,\n",
    "                     sim_truth_weights_MC=sim_truth_weights_MC,\n",
    "                     sim_reco_weights_MC=sim_reco_weights_MC,\n",
    "                     data_reco=data_reco_z,\n",
    "                     data_reco_weights_MC=data_reco_weights_MC,\n",
    "                     dummyval=dummyval,\n",
    "                     verbose=1)\n",
    "\n",
    "unifold_weights[obs_index] = best_1D_reweighting(\n",
    "    test=sim_reco,\n",
    "    test_weights=sim_reco_weights_MC * weights[:, 1],\n",
    "    target=data_reco,\n",
    "    target_weights=data_reco_weights_MC,\n",
    "    bins=bins)"
   ]
  },
  {
   "cell_type": "markdown",
   "metadata": {},
   "source": [
    "#### Results"
   ]
  },
  {
   "cell_type": "code",
   "execution_count": null,
   "metadata": {
    "ExecuteTime": {
     "end_time": "2021-08-02T07:03:25.546064Z",
     "start_time": "2021-08-02T07:02:51.674800Z"
    }
   },
   "outputs": [],
   "source": [
    "plot_results(sim_truth=sim_truth,\n",
    "             sim_reco=sim_reco,\n",
    "             sim_truth_weights_MC=sim_truth_weights_MC,\n",
    "             sim_reco_weights_MC=sim_reco_weights_MC,\n",
    "             data_truth=data_truth,\n",
    "             data_reco=data_reco,\n",
    "             data_truth_weights_MC=data_truth_weights_MC,\n",
    "             data_reco_weights_MC=data_reco_weights_MC,\n",
    "             weights=weights,\n",
    "             bins=bins,\n",
    "             x_label=x_label,\n",
    "             flavor_label='UniFold',\n",
    "             save_label=save_label)"
   ]
  },
  {
   "cell_type": "markdown",
   "metadata": {},
   "source": [
    "## Unfold $y_{j_1}$"
   ]
  },
  {
   "cell_type": "code",
   "execution_count": null,
   "metadata": {
    "ExecuteTime": {
     "end_time": "2021-08-02T07:03:25.578103Z",
     "start_time": "2021-08-02T07:03:25.547644Z"
    }
   },
   "outputs": [],
   "source": [
    "K.clear_session()"
   ]
  },
  {
   "cell_type": "code",
   "execution_count": null,
   "metadata": {
    "ExecuteTime": {
     "end_time": "2021-08-02T07:03:25.603505Z",
     "start_time": "2021-08-02T07:03:25.579368Z"
    }
   },
   "outputs": [],
   "source": [
    "obs_index = selected_leading_jet_obs_index[3]  # index for this observable\n",
    "\n",
    "bins = obs[obs_index]['bins']\n",
    "x_label = obs[obs_index]['plot_label']\n",
    "file_label = obs[obs_index]['file_label']\n",
    "save_label = plot_dir + 'UniFold/' + file_label + '/' + save_label0 + '-UniFold-' + file_label"
   ]
  },
  {
   "cell_type": "markdown",
   "metadata": {},
   "source": [
    "### Setup Datasets"
   ]
  },
  {
   "cell_type": "code",
   "execution_count": null,
   "metadata": {
    "ExecuteTime": {
     "end_time": "2021-08-02T07:03:41.536249Z",
     "start_time": "2021-08-02T07:03:25.604906Z"
    }
   },
   "outputs": [],
   "source": [
    "sim_truth = np.array(Events_sim['truth_' + file_label][mypass_sim].to_list())\n",
    "sim_truth[mycut_sim_truth] = dummyval\n",
    "sim_reco = np.array(Events_sim[file_label][mypass_sim].to_list())\n",
    "sim_reco[mycut_sim_reco] = dummyval\n",
    "\n",
    "data_truth = np.array(Events_data['truth_' + file_label][mypass_data_truth].to_list())\n",
    "data_reco = np.array(Events_data[file_label][mypass_data_reco].to_list())"
   ]
  },
  {
   "cell_type": "code",
   "execution_count": null,
   "metadata": {
    "ExecuteTime": {
     "end_time": "2021-08-02T07:03:45.105051Z",
     "start_time": "2021-08-02T07:03:41.537622Z"
    }
   },
   "outputs": [],
   "source": [
    "plot_distributions(sim_truth=sim_truth,\n",
    "                   sim_reco=sim_reco,\n",
    "                   sim_truth_weights_MC=sim_truth_weights_MC,\n",
    "                   sim_reco_weights_MC=sim_reco_weights_MC,\n",
    "                   data_truth=data_truth,\n",
    "                   data_reco=data_reco,\n",
    "                   data_truth_weights_MC=data_truth_weights_MC,\n",
    "                   data_reco_weights_MC=data_reco_weights_MC,\n",
    "                   bins=bins,\n",
    "                   x_label=x_label,\n",
    "                   save_label=save_label)"
   ]
  },
  {
   "cell_type": "markdown",
   "metadata": {},
   "source": [
    "### Unfold "
   ]
  },
  {
   "cell_type": "code",
   "execution_count": null,
   "metadata": {
    "ExecuteTime": {
     "end_time": "2021-08-02T07:03:45.214484Z",
     "start_time": "2021-08-02T07:03:45.106530Z"
    }
   },
   "outputs": [],
   "source": [
    "# z-score standardization of data\n",
    "\n",
    "sim_truth_z, sim_reco_z, data_reco_z = standardize(sim_truth, sim_reco,\n",
    "                                                   data_reco)"
   ]
  },
  {
   "cell_type": "code",
   "execution_count": null,
   "metadata": {
    "ExecuteTime": {
     "end_time": "2021-08-02T07:08:19.348877Z",
     "start_time": "2021-08-02T07:03:45.215945Z"
    },
    "scrolled": true
   },
   "outputs": [],
   "source": [
    "weights, _ = unifold(iterations=10,\n",
    "                     sim_truth=sim_truth_z,\n",
    "                     sim_reco=sim_reco_z,\n",
    "                     sim_truth_weights_MC=sim_truth_weights_MC,\n",
    "                     sim_reco_weights_MC=sim_reco_weights_MC,\n",
    "                     data_reco=data_reco_z,\n",
    "                     data_reco_weights_MC=data_reco_weights_MC,\n",
    "                     dummyval=dummyval,\n",
    "                     verbose=1)\n",
    "\n",
    "unifold_weights[obs_index] = best_1D_reweighting(\n",
    "    test=sim_reco,\n",
    "    test_weights=sim_reco_weights_MC * weights[:, 1],\n",
    "    target=data_reco,\n",
    "    target_weights=data_reco_weights_MC,\n",
    "    bins=bins)"
   ]
  },
  {
   "cell_type": "markdown",
   "metadata": {},
   "source": [
    "#### Results"
   ]
  },
  {
   "cell_type": "code",
   "execution_count": null,
   "metadata": {
    "ExecuteTime": {
     "end_time": "2021-08-02T07:08:57.007129Z",
     "start_time": "2021-08-02T07:08:19.350299Z"
    }
   },
   "outputs": [],
   "source": [
    "plot_results(sim_truth=sim_truth,\n",
    "             sim_reco=sim_reco,\n",
    "             sim_truth_weights_MC=sim_truth_weights_MC,\n",
    "             sim_reco_weights_MC=sim_reco_weights_MC,\n",
    "             data_truth=data_truth,\n",
    "             data_reco=data_reco,\n",
    "             data_truth_weights_MC=data_truth_weights_MC,\n",
    "             data_reco_weights_MC=data_reco_weights_MC,\n",
    "             weights=weights,\n",
    "             bins=bins,\n",
    "             x_label=x_label,\n",
    "             flavor_label='UniFold',\n",
    "             save_label=save_label)"
   ]
  },
  {
   "cell_type": "markdown",
   "metadata": {},
   "source": [
    "## Unfold $\\tau _{j_1}$"
   ]
  },
  {
   "cell_type": "code",
   "execution_count": null,
   "metadata": {
    "ExecuteTime": {
     "end_time": "2021-08-02T07:08:57.037701Z",
     "start_time": "2021-08-02T07:08:57.008534Z"
    }
   },
   "outputs": [],
   "source": [
    "K.clear_session()"
   ]
  },
  {
   "cell_type": "code",
   "execution_count": null,
   "metadata": {
    "ExecuteTime": {
     "end_time": "2021-08-02T07:08:57.063917Z",
     "start_time": "2021-08-02T07:08:57.039062Z"
    }
   },
   "outputs": [],
   "source": [
    "obs_index = selected_leading_jet_obs_index[4]  # index for this observable\n",
    "bins = obs[obs_index]['bins']\n",
    "x_label = obs[obs_index]['plot_label']\n",
    "file_label = obs[obs_index]['file_label']\n",
    "save_label = plot_dir + 'UniFold/' + file_label + '/' + save_label0 + '-UniFold-' + file_label"
   ]
  },
  {
   "cell_type": "markdown",
   "metadata": {},
   "source": [
    "### Setup Datasets"
   ]
  },
  {
   "cell_type": "code",
   "execution_count": null,
   "metadata": {
    "ExecuteTime": {
     "end_time": "2021-08-02T07:09:13.148462Z",
     "start_time": "2021-08-02T07:08:57.065563Z"
    }
   },
   "outputs": [],
   "source": [
    "sim_truth = np.array(Events_sim['truth_' + file_label][mypass_sim].to_list())\n",
    "sim_truth[mycut_sim_truth] = dummyval\n",
    "sim_reco = np.array(Events_sim[file_label][mypass_sim].to_list())\n",
    "sim_reco[mycut_sim_reco] = dummyval\n",
    "\n",
    "data_truth = np.array(Events_data['truth_' + file_label][mypass_data_truth].to_list())\n",
    "data_reco = np.array(Events_data[file_label][mypass_data_reco].to_list())"
   ]
  },
  {
   "cell_type": "code",
   "execution_count": null,
   "metadata": {
    "ExecuteTime": {
     "end_time": "2021-08-02T07:09:16.507400Z",
     "start_time": "2021-08-02T07:09:13.149943Z"
    }
   },
   "outputs": [],
   "source": [
    "plot_distributions(sim_truth=sim_truth,\n",
    "                   sim_reco=sim_reco,\n",
    "                   sim_truth_weights_MC=sim_truth_weights_MC,\n",
    "                   sim_reco_weights_MC=sim_reco_weights_MC,\n",
    "                   data_truth=data_truth,\n",
    "                   data_reco=data_reco,\n",
    "                   data_truth_weights_MC=data_truth_weights_MC,\n",
    "                   data_reco_weights_MC=data_reco_weights_MC,\n",
    "                   bins=bins,\n",
    "                   x_label=x_label,\n",
    "                   save_label=save_label)"
   ]
  },
  {
   "cell_type": "markdown",
   "metadata": {},
   "source": [
    "### Unfold "
   ]
  },
  {
   "cell_type": "code",
   "execution_count": null,
   "metadata": {
    "ExecuteTime": {
     "end_time": "2021-08-02T07:09:16.618965Z",
     "start_time": "2021-08-02T07:09:16.508814Z"
    }
   },
   "outputs": [],
   "source": [
    "# z-score standardization of data\n",
    "\n",
    "sim_truth_z, sim_reco_z, data_reco_z = standardize(sim_truth, sim_reco,\n",
    "                                                   data_reco)"
   ]
  },
  {
   "cell_type": "code",
   "execution_count": null,
   "metadata": {
    "ExecuteTime": {
     "end_time": "2021-08-02T07:14:19.376991Z",
     "start_time": "2021-08-02T07:09:16.620500Z"
    },
    "scrolled": true
   },
   "outputs": [],
   "source": [
    "weights, _ = unifold(iterations=10,\n",
    "                     sim_truth=sim_truth_z,\n",
    "                     sim_reco=sim_reco_z,\n",
    "                     sim_truth_weights_MC=sim_truth_weights_MC,\n",
    "                     sim_reco_weights_MC=sim_reco_weights_MC,\n",
    "                     data_reco=data_reco_z,\n",
    "                     data_reco_weights_MC=data_reco_weights_MC,\n",
    "                     dummyval=dummyval,\n",
    "                     verbose=1)\n",
    "\n",
    "unifold_weights[obs_index] = best_1D_reweighting(\n",
    "    test=sim_reco,\n",
    "    test_weights=sim_reco_weights_MC * weights[:, 1],\n",
    "    target=data_reco,\n",
    "    target_weights=data_reco_weights_MC,\n",
    "    bins=bins)"
   ]
  },
  {
   "cell_type": "markdown",
   "metadata": {},
   "source": [
    "#### Results"
   ]
  },
  {
   "cell_type": "code",
   "execution_count": null,
   "metadata": {
    "ExecuteTime": {
     "end_time": "2021-08-02T07:14:56.264820Z",
     "start_time": "2021-08-02T07:14:19.381242Z"
    }
   },
   "outputs": [],
   "source": [
    "plot_results(sim_truth=sim_truth,\n",
    "             sim_reco=sim_reco,\n",
    "             sim_truth_weights_MC=sim_truth_weights_MC,\n",
    "             sim_reco_weights_MC=sim_reco_weights_MC,\n",
    "             data_truth=data_truth,\n",
    "             data_reco=data_reco,\n",
    "             data_truth_weights_MC=data_truth_weights_MC,\n",
    "             data_reco_weights_MC=data_reco_weights_MC,\n",
    "             weights=weights,\n",
    "             bins=bins,\n",
    "             x_label=x_label,\n",
    "             flavor_label='UniFold',\n",
    "             save_label=save_label)"
   ]
  },
  {
   "cell_type": "markdown",
   "metadata": {},
   "source": [
    "## Unfold other observables"
   ]
  },
  {
   "cell_type": "markdown",
   "metadata": {},
   "source": [
    "### Setup datasets"
   ]
  },
  {
   "cell_type": "code",
   "execution_count": null,
   "metadata": {
    "ExecuteTime": {
     "end_time": "2021-08-02T07:14:56.292479Z",
     "start_time": "2021-08-02T07:14:56.266324Z"
    }
   },
   "outputs": [],
   "source": [
    "sim_truth = [None] * len(obs)\n",
    "sim_reco = [None] * len(obs)\n",
    "data_truth = [None] * len(obs)\n",
    "data_reco = [None] * len(obs)"
   ]
  },
  {
   "cell_type": "code",
   "execution_count": null,
   "metadata": {
    "ExecuteTime": {
     "end_time": "2021-08-02T07:21:09.332227Z",
     "start_time": "2021-08-02T07:14:56.293568Z"
    }
   },
   "outputs": [],
   "source": [
    "for i in range(len(obs)):\n",
    "    file_label = obs[i]['file_label']\n",
    "\n",
    "    sim_truth[i] = np.array(Events_sim['truth_' + file_label][mypass_sim].to_list())\n",
    "    sim_truth[i][mycut_sim_truth] = dummyval\n",
    "    sim_reco[i] = np.array(Events_sim[file_label][mypass_sim].to_list())\n",
    "    sim_reco[i][mycut_sim_reco] = dummyval\n",
    "    data_truth[i] = np.array(Events_data['truth_' + file_label][mypass_data_truth].to_list())\n",
    "    data_reco[i] = np.array(Events_data[file_label][mypass_data_reco].to_list())"
   ]
  },
  {
   "cell_type": "code",
   "execution_count": null,
   "metadata": {
    "ExecuteTime": {
     "end_time": "2021-08-02T07:22:16.320643Z",
     "start_time": "2021-08-02T07:21:09.333509Z"
    },
    "scrolled": true
   },
   "outputs": [],
   "source": [
    "for i in range(len(obs)):\n",
    "    # check if we already unfoled the observable\n",
    "    if i in selected_leading_jet_obs_index:\n",
    "        continue\n",
    "\n",
    "    bins = obs[i]['bins']\n",
    "    x_label = obs[i]['plot_label']\n",
    "    file_label = obs[i]['file_label']\n",
    "    save_label = plot_dir + '/UniFold/' + file_label + '/' + save_label0 + '-UniFold-' + file_label\n",
    "    plot_distributions(sim_truth=sim_truth[i],\n",
    "                       sim_reco=sim_reco[i],\n",
    "                       sim_truth_weights_MC=sim_truth_weights_MC,\n",
    "                       sim_reco_weights_MC=sim_reco_weights_MC,\n",
    "                       data_truth=data_truth[i],\n",
    "                       data_reco=data_reco[i],\n",
    "                       data_truth_weights_MC=data_truth_weights_MC,\n",
    "                       data_reco_weights_MC=data_reco_weights_MC,\n",
    "                       bins=bins,\n",
    "                       x_label=x_label,\n",
    "                       save_label=save_label)"
   ]
  },
  {
   "cell_type": "markdown",
   "metadata": {
    "ExecuteTime": {
     "end_time": "2021-03-05T19:19:46.776880Z",
     "start_time": "2021-03-05T19:19:46.701823Z"
    }
   },
   "source": [
    "### Unfold "
   ]
  },
  {
   "cell_type": "code",
   "execution_count": null,
   "metadata": {
    "ExecuteTime": {
     "end_time": "2021-08-02T07:22:17.798491Z",
     "start_time": "2021-08-02T07:22:16.322192Z"
    }
   },
   "outputs": [],
   "source": [
    "# z-score standardization of data\n",
    "sim_truth_z = [None] * len(obs)\n",
    "sim_reco_z = [None] * len(obs)\n",
    "data_reco_z = [None] * len(obs)\n",
    "\n",
    "for i in range(len(obs)):\n",
    "    # check if we already unfoled the observable\n",
    "    if i in selected_leading_jet_obs_index:\n",
    "        continue\n",
    "\n",
    "    sim_truth_z[i], sim_reco_z[i], data_reco_z[i] = standardize(\n",
    "        sim_truth[i], sim_reco[i], data_reco[i])"
   ]
  },
  {
   "cell_type": "code",
   "execution_count": null,
   "metadata": {
    "ExecuteTime": {
     "end_time": "2021-08-02T08:41:18.834973Z",
     "start_time": "2021-08-02T07:22:17.799885Z"
    }
   },
   "outputs": [],
   "source": [
    "iterations = 10\n",
    "weights = np.zeros(shape=(len(obs), iterations, 2, len(sim_truth_weights_MC)))\n",
    "\n",
    "for i in range(len(obs)):\n",
    "    # check if we already unfoled the observable\n",
    "    if i in selected_leading_jet_obs_index:\n",
    "        continue\n",
    "\n",
    "    K.clear_session()\n",
    "    weights[i], _ = unifold(iterations=iterations,\n",
    "                            sim_truth=sim_truth_z[i],\n",
    "                            sim_reco=sim_reco_z[i],\n",
    "                            sim_truth_weights_MC=sim_truth_weights_MC,\n",
    "                            sim_reco_weights_MC=sim_reco_weights_MC,\n",
    "                            data_reco=data_reco_z[i],\n",
    "                            data_reco_weights_MC=data_reco_weights_MC,\n",
    "                            dummyval=dummyval,\n",
    "                            verbose=0)\n",
    "\n",
    "    unifold_weights[i] = best_1D_reweighting(\n",
    "        test=sim_reco[i],\n",
    "        test_weights=sim_reco_weights_MC * weights[i, :, 1],\n",
    "        target=data_reco[i],\n",
    "        target_weights=data_reco_weights_MC,\n",
    "        bins=bins)"
   ]
  },
  {
   "cell_type": "markdown",
   "metadata": {
    "ExecuteTime": {
     "end_time": "2020-12-04T21:08:44.114404Z",
     "start_time": "2020-12-04T21:08:44.073846Z"
    }
   },
   "source": [
    "#### Results"
   ]
  },
  {
   "cell_type": "code",
   "execution_count": null,
   "metadata": {
    "ExecuteTime": {
     "end_time": "2021-08-02T08:53:31.599473Z",
     "start_time": "2021-08-02T08:41:18.836322Z"
    }
   },
   "outputs": [],
   "source": [
    "for i in range(len(obs)):\n",
    "    # check if we already unfoled the observable\n",
    "    if i in selected_leading_jet_obs_index:\n",
    "        continue\n",
    "\n",
    "    print(obs[i]['file_label'] + \" Results\\n\")\n",
    "    bins = obs[i]['bins']\n",
    "    x_label = obs[i]['plot_label']\n",
    "    file_label = obs[i]['file_label']\n",
    "    save_label = plot_dir + '/UniFold/' + file_label + '/' + save_label0 + '-UniFold-' + file_label\n",
    "\n",
    "    plot_results(sim_truth=sim_truth[i],\n",
    "                 sim_reco=sim_reco[i],\n",
    "                 sim_truth_weights_MC=sim_truth_weights_MC,\n",
    "                 sim_reco_weights_MC=sim_reco_weights_MC,\n",
    "                 data_truth=data_truth[i],\n",
    "                 data_reco=data_reco[i],\n",
    "                 data_truth_weights_MC=data_truth_weights_MC,\n",
    "                 data_reco_weights_MC=data_reco_weights_MC,\n",
    "                 weights=weights[i],\n",
    "                 bins=bins,\n",
    "                 x_label=x_label,\n",
    "                 flavor_label='UniFold',\n",
    "                 save_label=save_label)"
   ]
  },
  {
   "cell_type": "markdown",
   "metadata": {},
   "source": [
    "## Comparison to IBU"
   ]
  },
  {
   "cell_type": "code",
   "execution_count": null,
   "metadata": {
    "ExecuteTime": {
     "end_time": "2021-08-02T08:54:13.063164Z",
     "start_time": "2021-08-02T08:53:31.601250Z"
    },
    "scrolled": true
   },
   "outputs": [],
   "source": [
    "unifold_dist = []\n",
    "IBU_dist = []\n",
    "# file = PdfPages(\"UniFold_vs_IBU_May27.pdf\")\n",
    "for i in range(len(obs)):\n",
    "    bins = obs[i]['bins']\n",
    "    \n",
    "    fig = plt.figure(figsize=(10, 6))\n",
    "    h1, _, _ = plt.hist(data_truth[i],\n",
    "                        bins=bins,\n",
    "                        weights=data_truth_weights_MC,\n",
    "                        label='\"Data\" Truth (Target)',\n",
    "                        **plot_style_2)\n",
    "    h2, _, _ = plt.hist(sim_truth[i],\n",
    "                        bins=bins,\n",
    "                        weights=sim_truth_weights_MC * unifold_weights[i],\n",
    "                        label='UniFold',\n",
    "                        **plot_style_0)\n",
    "    unifold_dist += [\n",
    "        chi_square_dist(data_expected=data_truth[i],\n",
    "                        data_observed=sim_truth[i],\n",
    "                        bins=bins,\n",
    "                        weights_expected=data_truth_weights_MC,\n",
    "                        weights_observed=sim_truth_weights_MC *\n",
    "                        unifold_weights[i])\n",
    "    ]\n",
    "\n",
    "    IBU_hist = IBU_hists['SherpaUnfoldWPythia_2018_' + obs[i]['file_label']]\n",
    "    h3, _, _ = plt.hist(bins[:-1],\n",
    "                        bins=bins,\n",
    "                        weights=IBU_hist.to_numpy()[0],\n",
    "                        label='IBU',\n",
    "                        **plot_style_1)\n",
    "\n",
    "    IBU_dist += [\n",
    "        chi_square_dist(data_expected=data_truth[i],\n",
    "                        data_observed=bins[:-1],\n",
    "                        bins=bins,\n",
    "                        weights_expected=data_truth_weights_MC,\n",
    "                        weights_observed=IBU_hist.to_numpy()[0],\n",
    "                        sigma_observed=IBU_hist.errors() /\n",
    "                        sum(IBU_hist.to_numpy()[0])),\n",
    "    ]\n",
    "\n",
    "    plt.xlabel(obs[i]['plot_label'])\n",
    "    plt.ylabel(\"Events per bin (normalized)\")\n",
    "    plt.ylim([0, 1.5 * np.max(np.concatenate((h1, h2, h3)))])\n",
    "    draw_atlas_text()\n",
    "    plt.legend()\n",
    "    plt.show()\n",
    "#     file.savefig(fig, bbox_inches='tight')\n",
    "\n",
    "# file.close()"
   ]
  },
  {
   "cell_type": "code",
   "execution_count": null,
   "metadata": {
    "ExecuteTime": {
     "end_time": "2021-08-02T08:54:13.094957Z",
     "start_time": "2021-08-02T08:54:13.064287Z"
    }
   },
   "outputs": [],
   "source": [
    "print(\n",
    "    \"Chi-square distance comparison between UniFold and IBU for each observable\\n \"\n",
    ")\n",
    "print(\"Observable           UniFold      IBU\")\n",
    "print(\"________________________________________\\n\")\n",
    "for i in range(len(obs)):\n",
    "    print(\"{:20} {:.1e}     {:.1e}\".format(file_labels[i], unifold_dist[i],\n",
    "                                           IBU_dist[i]))\n",
    "    print(\"\")"
   ]
  },
  {
   "cell_type": "markdown",
   "metadata": {},
   "source": [
    "# MultiFold\n",
    "\n",
    "To show unfolding of multiple observables simultaneously (\"MultiFold\"), we will unfold the following observables together: the leading jet number of constituents (tracks) $N_{j_1}$, the leading jet mass $m_{j_1}$,  the leading jet transverse momentum $p_{T,j_1}$, the leading jet rapidity $y_{j_1}$, the leading jet azimuthal angle $\\phi_{j_1}$, the leading jet $n$-subjettiness ($\\tau_{1, j_1}$, $\\tau_{2, j_1}$, $\\tau_{3, j_1}$), the subleading jet number of constituents (tracks) $N_{j_2}$, the subleading jet mass $m_{j_2}$,  the subleading jet transverse momentum $p_{T,j_2}$, the subleading jet rapidity $y_{j_2}$, the subleading jet azimuthal angle $\\phi_{j_2}$, the subleading jet $n$-subjettiness ($\\tau_{1, j_2}$, $\\tau_{2, j_2}$, $\\tau_{3, j_2}$), the dilepton transverse momentum $p_{T,ll}$, the dilepton rapidity $y_{ll}$, the leading lepton transverse momentum $p_{T,l_1}$, the leading lepton pseudorapidity $\\eta_{l_1}$, the leading lepton azimuthal angle $\\phi_{l_1}$, the subleading lepton transverse momentum $p_{T,l_2}$, the subleading lepton pseudorapidity $\\eta_{l_2}$, and the subleading lepton azimuthal angle $\\phi_{l_2}$ for a total of **24 observables**."
   ]
  },
  {
   "cell_type": "code",
   "execution_count": null,
   "metadata": {
    "ExecuteTime": {
     "end_time": "2021-08-02T08:54:13.119816Z",
     "start_time": "2021-08-02T08:54:13.095995Z"
    }
   },
   "outputs": [],
   "source": [
    "K.clear_session()"
   ]
  },
  {
   "cell_type": "markdown",
   "metadata": {},
   "source": [
    "## Setup datasets"
   ]
  },
  {
   "cell_type": "code",
   "execution_count": null,
   "metadata": {
    "ExecuteTime": {
     "end_time": "2021-08-02T08:54:13.144989Z",
     "start_time": "2021-08-02T08:54:13.120890Z"
    }
   },
   "outputs": [],
   "source": [
    "sim_truth = [None] * len(obs)\n",
    "sim_reco = [None] * len(obs)\n",
    "data_truth = [None] * len(obs)\n",
    "data_reco = [None] * len(obs)"
   ]
  },
  {
   "cell_type": "code",
   "execution_count": null,
   "metadata": {
    "ExecuteTime": {
     "end_time": "2021-08-02T09:00:28.528461Z",
     "start_time": "2021-08-02T08:54:13.146242Z"
    }
   },
   "outputs": [],
   "source": [
    "for i in range(len(obs)):\n",
    "    file_label = obs[i]['file_label']\n",
    "\n",
    "    sim_truth[i] = np.array(Events_sim['truth_' + file_label][mypass_sim].to_list())\n",
    "    sim_truth[i][mycut_sim_truth] = dummyval\n",
    "    sim_reco[i] = np.array(Events_sim[file_label][mypass_sim].to_list())\n",
    "    sim_reco[i][mycut_sim_reco] = dummyval\n",
    "    data_truth[i] = np.array(Events_data['truth_' + file_label][mypass_data_truth].to_list())\n",
    "    data_reco[i] = np.array(Events_data[file_label][mypass_data_reco].to_list())"
   ]
  },
  {
   "cell_type": "code",
   "execution_count": null,
   "metadata": {
    "ExecuteTime": {
     "end_time": "2021-08-02T09:01:52.801142Z",
     "start_time": "2021-08-02T09:00:28.529866Z"
    },
    "scrolled": true
   },
   "outputs": [],
   "source": [
    "for i in range(len(obs)):\n",
    "    bins = obs[i]['bins']\n",
    "    x_label = obs[i]['plot_label']\n",
    "    file_label = obs[i]['file_label']\n",
    "    save_label = plot_dir + '/MultiFold/' + file_label + '/' + save_label0 + '-MultiFold-' + file_label\n",
    "    plot_distributions(sim_truth=sim_truth[i],\n",
    "                       sim_reco=sim_reco[i],\n",
    "                       sim_truth_weights_MC=sim_truth_weights_MC,\n",
    "                       sim_reco_weights_MC=sim_reco_weights_MC,\n",
    "                       data_truth=data_truth[i],\n",
    "                       data_reco=data_reco[i],\n",
    "                       data_truth_weights_MC=data_truth_weights_MC,\n",
    "                       data_reco_weights_MC=data_reco_weights_MC,\n",
    "                       bins=bins,\n",
    "                       x_label=x_label,\n",
    "                       save_label=save_label)"
   ]
  },
  {
   "cell_type": "markdown",
   "metadata": {
    "ExecuteTime": {
     "end_time": "2021-03-05T19:19:46.776880Z",
     "start_time": "2021-03-05T19:19:46.701823Z"
    }
   },
   "source": [
    "## Unfold "
   ]
  },
  {
   "cell_type": "code",
   "execution_count": null,
   "metadata": {
    "ExecuteTime": {
     "end_time": "2021-08-02T09:01:54.608804Z",
     "start_time": "2021-08-02T09:01:52.802792Z"
    }
   },
   "outputs": [],
   "source": [
    "# z-score standardization of data\n",
    "sim_truth_z = [None] * len(obs)\n",
    "sim_reco_z = [None] * len(obs)\n",
    "data_reco_z = [None] * len(obs)\n",
    "\n",
    "for i in range(len(obs)):\n",
    "    sim_truth_z[i], sim_reco_z[i], data_reco_z[i] = standardize(\n",
    "        sim_truth[i], sim_reco[i], data_reco[i])"
   ]
  },
  {
   "cell_type": "code",
   "execution_count": null,
   "metadata": {
    "ExecuteTime": {
     "end_time": "2021-08-02T09:08:53.911594Z",
     "start_time": "2021-08-02T09:01:54.610043Z"
    },
    "scrolled": true
   },
   "outputs": [],
   "source": [
    "weights, _ = multifold(iterations=10,\n",
    "                       sim_truth=sim_truth_z,\n",
    "                       sim_reco=sim_reco_z,\n",
    "                       sim_truth_weights_MC=sim_truth_weights_MC,\n",
    "                       sim_reco_weights_MC=sim_reco_weights_MC,\n",
    "                       data_reco=data_reco_z,\n",
    "                       data_reco_weights_MC=data_reco_weights_MC,\n",
    "                       dummyval=dummyval,\n",
    "                       verbose=1)\n",
    "\n",
    "bins = [obs[i]['bins'] for i in range(len(obs))]\n",
    "multifold_weights = best_nD_reweighting(test=sim_reco,\n",
    "                                        target=data_reco,\n",
    "                                        bins=bins,\n",
    "                                        test_weights=weights[:, 1] *\n",
    "                                        sim_reco_weights_MC,\n",
    "                                        nominal_weights=sim_reco_weights_MC,\n",
    "                                        target_weights=data_reco_weights_MC)"
   ]
  },
  {
   "cell_type": "markdown",
   "metadata": {
    "ExecuteTime": {
     "end_time": "2020-12-04T21:08:44.114404Z",
     "start_time": "2020-12-04T21:08:44.073846Z"
    }
   },
   "source": [
    "#### Results"
   ]
  },
  {
   "cell_type": "code",
   "execution_count": null,
   "metadata": {
    "ExecuteTime": {
     "end_time": "2021-08-02T09:23:47.792349Z",
     "start_time": "2021-08-02T09:08:53.913064Z"
    }
   },
   "outputs": [],
   "source": [
    "for i in range(len(obs)):\n",
    "    print(obs[i]['file_label'] + \" Results\\n\")\n",
    "    bins = obs[i]['bins']\n",
    "    x_label = obs[i]['plot_label']\n",
    "    file_label = obs[i]['file_label']\n",
    "    save_label = plot_dir + '/MultiFold/' + file_label + '/' + save_label0 + '-MultiFold-' + file_label\n",
    "\n",
    "    plot_results(sim_truth=sim_truth[i],\n",
    "                 sim_reco=sim_reco[i],\n",
    "                 sim_truth_weights_MC=sim_truth_weights_MC,\n",
    "                 sim_reco_weights_MC=sim_reco_weights_MC,\n",
    "                 data_truth=data_truth[i],\n",
    "                 data_reco=data_reco[i],\n",
    "                 data_truth_weights_MC=data_truth_weights_MC,\n",
    "                 data_reco_weights_MC=data_reco_weights_MC,\n",
    "                 weights=weights,\n",
    "                 bins=bins,\n",
    "                 x_label=x_label,\n",
    "                 flavor_label='MultiFold',\n",
    "                 save_label=save_label)"
   ]
  },
  {
   "cell_type": "markdown",
   "metadata": {},
   "source": [
    "## Comparison to IBU"
   ]
  },
  {
   "cell_type": "code",
   "execution_count": null,
   "metadata": {
    "ExecuteTime": {
     "end_time": "2021-08-02T09:24:28.566278Z",
     "start_time": "2021-08-02T09:23:47.793805Z"
    },
    "scrolled": true
   },
   "outputs": [],
   "source": [
    "multifold_dist = []\n",
    "IBU_dist = []\n",
    "#file = PdfPages(\"MultiFold_vs_IBU_May27.pdf\")\n",
    "for i in range(len(obs)):\n",
    "    bins = obs[i]['bins']\n",
    "\n",
    "    fig = plt.figure(figsize=(10, 6))\n",
    "    h1, _, _ = plt.hist(data_truth[i],\n",
    "                        bins=bins,\n",
    "                        weights=data_truth_weights_MC,\n",
    "                        label='\"Data\" Truth (Target)',\n",
    "                        **plot_style_2)\n",
    "    h2, _, _ = plt.hist(sim_truth[i],\n",
    "                        bins=bins,\n",
    "                        weights=sim_truth_weights_MC * multifold_weights,\n",
    "                        label='MultiFold',\n",
    "                        **plot_style_0)\n",
    "    multifold_dist += [\n",
    "        chi_square_dist(data_expected=data_truth[i],\n",
    "                        data_observed=sim_truth[i],\n",
    "                        bins=bins,\n",
    "                        weights_expected=data_truth_weights_MC,\n",
    "                        weights_observed=sim_truth_weights_MC *\n",
    "                        multifold_weights)\n",
    "    ]\n",
    "    IBU_hist = IBU_hists['SherpaUnfoldWPythia_2018_' + obs[i]['file_label']]\n",
    "    h3, _, _ = plt.hist(bins[:-1],\n",
    "                        bins=bins,\n",
    "                        weights=IBU_hist.to_numpy()[0],\n",
    "                        label='IBU',\n",
    "                        **plot_style_1)\n",
    "    IBU_dist += [\n",
    "        chi_square_dist(data_expected=data_truth[i],\n",
    "                        data_observed=bins[:-1],\n",
    "                        bins=bins,\n",
    "                        weights_expected=data_truth_weights_MC,\n",
    "                        weights_observed=IBU_hist.to_numpy()[0],\n",
    "                        sigma_observed=IBU_hist.errors() /\n",
    "                        sum(IBU_hist.to_numpy()[0])),\n",
    "    ]\n",
    "\n",
    "    plt.xlabel(obs[i]['plot_label'])\n",
    "    plt.ylabel(\"Events per bin (normalized)\")\n",
    "    plt.ylim([0, 1.5 * np.max(np.concatenate((h1, h2, h3)))])\n",
    "    draw_atlas_text()\n",
    "    plt.legend()\n",
    "    plt.show()\n",
    "    #file.savefig(fig, bbox_inches='tight')\n",
    "\n",
    "#file.close()"
   ]
  },
  {
   "cell_type": "code",
   "execution_count": null,
   "metadata": {
    "ExecuteTime": {
     "end_time": "2021-08-02T09:24:28.599220Z",
     "start_time": "2021-08-02T09:24:28.567652Z"
    },
    "scrolled": true
   },
   "outputs": [],
   "source": [
    "print(\n",
    "    \"Chi-square distance comparison between MultiFold and IBU for each observable\\n \"\n",
    ")\n",
    "print(\"Observable           MultiFold      IBU\")\n",
    "print(\"________________________________________\\n\")\n",
    "for i in range(len(obs)):\n",
    "    print(\"{:20} {:.1e}     {:.1e}\".format(file_labels[i], multifold_dist[i],\n",
    "                                           IBU_dist[i]))\n",
    "    print(\"\")"
   ]
  }
 ],
 "metadata": {
  "kernelspec": {
   "display_name": "omnifold",
   "language": "python",
   "name": "omnifold"
  },
  "language_info": {
   "codemirror_mode": {
    "name": "ipython",
    "version": 3
   },
   "file_extension": ".py",
   "mimetype": "text/x-python",
   "name": "python",
   "nbconvert_exporter": "python",
   "pygments_lexer": "ipython3",
   "version": "3.8.12"
  },
  "latex_envs": {
   "LaTeX_envs_menu_present": true,
   "autoclose": false,
   "autocomplete": true,
   "bibliofile": "biblio.bib",
   "cite_by": "apalike",
   "current_citInitial": 1,
   "eqLabelWithNumbers": true,
   "eqNumInitial": 1,
   "hotkeys": {
    "equation": "Ctrl-E",
    "itemize": "Ctrl-I"
   },
   "labels_anchors": false,
   "latex_user_defs": false,
   "report_style_numbering": false,
   "user_envs_cfg": false
  },
  "notify_time": "0",
  "toc": {
   "base_numbering": 1,
   "nav_menu": {},
   "number_sections": false,
   "sideBar": true,
   "skip_h1_title": false,
   "title_cell": "Table of Contents",
   "title_sidebar": "Contents",
   "toc_cell": false,
   "toc_position": {
    "height": "564px",
    "left": "243px",
    "top": "110px",
    "width": "311.984375px"
   },
   "toc_section_display": true,
   "toc_window_display": true
  }
 },
 "nbformat": 4,
 "nbformat_minor": 4
}
