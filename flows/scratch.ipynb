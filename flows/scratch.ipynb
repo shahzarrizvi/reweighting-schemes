{
 "cells": [
  {
   "cell_type": "markdown",
   "metadata": {
    "jp-MarkdownHeadingCollapsed": true,
    "tags": []
   },
   "source": [
    "# Attempt 1"
   ]
  },
  {
   "cell_type": "code",
   "execution_count": null,
   "metadata": {},
   "outputs": [],
   "source": [
    "import tensorflow as tf\n",
    "from scipy import stats\n",
    "import numpy as np\n",
    "import matplotlib.pyplot as plt\n",
    "\n",
    "from flows import *\n",
    "\n",
    "import os"
   ]
  },
  {
   "cell_type": "code",
   "execution_count": null,
   "metadata": {},
   "outputs": [],
   "source": [
    "os.environ[\"CUDA_VISIBLE_DEVICES\"] = \"1\" # pick a number < 4 on ML4HEP; < 3 on Voltan \n",
    "physical_devices = tf.config.list_physical_devices('GPU') \n",
    "tf.config.experimental.set_memory_growth(physical_devices[0], True)"
   ]
  },
  {
   "cell_type": "code",
   "execution_count": null,
   "metadata": {},
   "outputs": [],
   "source": [
    "def plot_density(data):\n",
    "    x, y = np.squeeze(np.split(data, 2, axis=1))\n",
    "    values = np.vstack([x, y])\n",
    "    kernel = stats.gaussian_kde(values)\n",
    "\n",
    "    xmin, xmax = min(x), max(x)\n",
    "    ymin, ymax = min(y), max(y)\n",
    "\n",
    "    # Peform the kernel density estimate\n",
    "    xx, yy = np.mgrid[xmin:xmax:100j, ymin:ymax:100j]\n",
    "    positions = np.vstack([xx.ravel(), yy.ravel()])\n",
    "    f = np.reshape(kernel(positions).T, xx.shape)\n",
    "    \n",
    "    # Plot the kernel density estimate\n",
    "    plt.contourf(xx, yy, f, cmap='viridis')\n",
    "    plt.gca().set_aspect('equal')"
   ]
  },
  {
   "cell_type": "code",
   "execution_count": null,
   "metadata": {},
   "outputs": [],
   "source": [
    "N = 1000000\n",
    "data = np.sin(stats.multivariate_normal.rvs([0, 0], [1, 1], size = N))\n",
    "plot_density(data)"
   ]
  },
  {
   "cell_type": "code",
   "execution_count": null,
   "metadata": {},
   "outputs": [],
   "source": [
    "target = flow(data)"
   ]
  },
  {
   "cell_type": "code",
   "execution_count": null,
   "metadata": {},
   "outputs": [],
   "source": [
    "target_data = target.sample(N)"
   ]
  },
  {
   "cell_type": "code",
   "execution_count": null,
   "metadata": {},
   "outputs": [],
   "source": [
    "plot_density(target_data)"
   ]
  },
  {
   "cell_type": "code",
   "execution_count": null,
   "metadata": {},
   "outputs": [],
   "source": [
    "# Get probabilities\n",
    "target.prob(target_data).numpy()"
   ]
  },
  {
   "cell_type": "markdown",
   "metadata": {
    "tags": []
   },
   "source": [
    "# Attempt 2"
   ]
  },
  {
   "cell_type": "code",
   "execution_count": 43,
   "metadata": {},
   "outputs": [],
   "source": [
    "import numpy as np\n",
    "import tqdm as tqdm\n",
    "import sklearn.datasets as skd\n",
    "\n",
    "# visualization\n",
    "import matplotlib.pyplot as plt\n",
    "from scipy.stats import kde\n",
    "\n",
    "# tf and friends\n",
    "import tensorflow.compat.v2 as tf\n",
    "import tensorflow_probability as tfp\n",
    "import sonnet as snt\n",
    "tf.enable_v2_behavior()\n",
    "\n",
    "tfb = tfp.bijectors\n",
    "tfd = tfp.distributions\n",
    "\n",
    "def make_grid(xmin, xmax, ymin, ymax, gridlines, pts):\n",
    "    xpts = np.linspace(xmin, xmax, pts)\n",
    "    ypts = np.linspace(ymin, ymax, pts)\n",
    "    xgrid = np.linspace(xmin, xmax, gridlines)\n",
    "    ygrid = np.linspace(ymin, ymax, gridlines)\n",
    "    xlines = np.stack([a.ravel() for a in np.meshgrid(xpts, ygrid)])\n",
    "    ylines = np.stack([a.ravel() for a in np.meshgrid(xgrid, ypts)])\n",
    "    return np.concatenate([xlines, ylines], 1).T\n",
    "\n",
    "grid = make_grid(-3, 3, -3, 3, 4, 100)\n",
    "\n",
    "import os"
   ]
  },
  {
   "cell_type": "code",
   "execution_count": 44,
   "metadata": {},
   "outputs": [],
   "source": [
    "os.environ[\"CUDA_VISIBLE_DEVICES\"] = \"2\" # pick a number < 4 on ML4HEP; < 3 on Voltan \n",
    "physical_devices = tf.config.list_physical_devices('GPU') \n",
    "tf.config.experimental.set_memory_growth(physical_devices[0], True)"
   ]
  },
  {
   "cell_type": "code",
   "execution_count": 45,
   "metadata": {},
   "outputs": [],
   "source": [
    "base_distribution = tfd.MultivariateNormalDiag([0, 0], [1, 1])"
   ]
  },
  {
   "cell_type": "code",
   "execution_count": 46,
   "metadata": {},
   "outputs": [],
   "source": [
    "class MLP_ODE(snt.Module):\n",
    "    \"\"\"Multi-layer NN ode_fn.\"\"\"\n",
    "    def __init__(self, num_hidden, num_layers, num_output, name='mlp_ode'):\n",
    "        super(MLP_ODE, self).__init__(name=name)\n",
    "        self._num_hidden = num_hidden\n",
    "        self._num_output = num_output\n",
    "        self._num_layers = num_layers\n",
    "        self._modules = []\n",
    "        for _ in range(self._num_layers - 1):\n",
    "            self._modules.append(snt.Linear(self._num_hidden))\n",
    "            self._modules.append(tf.math.tanh)\n",
    "        self._modules.append(snt.Linear(self._num_output))\n",
    "        self._model = snt.Sequential(self._modules)\n",
    "\n",
    "    def __call__(self, t, inputs):\n",
    "        inputs = tf.concat([tf.broadcast_to(t, inputs.shape), inputs], -1)\n",
    "        return self._model(inputs)"
   ]
  },
  {
   "cell_type": "code",
   "execution_count": 47,
   "metadata": {},
   "outputs": [],
   "source": [
    "LR = 1e-2 \n",
    "NUM_EPOCHS = 80 \n",
    "STACKED_FFJORDS = 4 \n",
    "NUM_HIDDEN = 8 \n",
    "NUM_LAYERS = 3 \n",
    "NUM_OUTPUT = 2"
   ]
  },
  {
   "cell_type": "code",
   "execution_count": 48,
   "metadata": {},
   "outputs": [],
   "source": [
    "solver = tfp.math.ode.DormandPrince(atol=1e-5)\n",
    "ode_solve_fn = solver.solve\n",
    "trace_augmentation_fn = tfb.ffjord.trace_jacobian_exact\n",
    "\n",
    "bijectors = []\n",
    "for _ in range(STACKED_FFJORDS):\n",
    "    mlp_model = MLP_ODE(NUM_HIDDEN, NUM_LAYERS, NUM_OUTPUT)\n",
    "    next_ffjord = tfb.FFJORD(\n",
    "        state_time_derivative_fn=mlp_model,ode_solve_fn=ode_solve_fn,\n",
    "        trace_augmentation_fn=trace_augmentation_fn)\n",
    "    bijectors.append(next_ffjord)\n",
    "\n",
    "stacked_ffjord = tfb.Chain(bijectors[::-1])"
   ]
  },
  {
   "cell_type": "code",
   "execution_count": 49,
   "metadata": {},
   "outputs": [],
   "source": [
    "transformed_distribution = tfd.TransformedDistribution(\n",
    "    distribution=base_distribution, bijector=stacked_ffjord)"
   ]
  },
  {
   "cell_type": "code",
   "execution_count": 50,
   "metadata": {},
   "outputs": [],
   "source": [
    "@tf.function\n",
    "def train_step(optimizer, target_sample):\n",
    "    with tf.GradientTape() as tape:\n",
    "        loss = -tf.reduce_mean(transformed_distribution.log_prob(target_sample))\n",
    "    variables = tape.watched_variables()\n",
    "    gradients = tape.gradient(loss, variables)\n",
    "    optimizer.apply(gradients, variables)\n",
    "    return loss"
   ]
  },
  {
   "cell_type": "code",
   "execution_count": 51,
   "metadata": {},
   "outputs": [],
   "source": [
    "mc = np.load(\"../data/zenodo/Pythia21_Zjet_pTZ-200GeV_0.npz\")\n",
    "\n",
    "sim_pt =  mc['sim_jets'][:, 0]\n",
    "sim_eta = mc['sim_jets'][:, 1]\n",
    "sim_phi = mc['sim_jets'][:, 2]\n",
    "sim_m =   mc['sim_jets'][:, 3]"
   ]
  },
  {
   "cell_type": "code",
   "execution_count": 52,
   "metadata": {},
   "outputs": [],
   "source": [
    "data = np.vstack([sim_pt, sim_eta]).T"
   ]
  },
  {
   "cell_type": "code",
   "execution_count": 53,
   "metadata": {},
   "outputs": [],
   "source": [
    "N = data.shape[0]\n",
    "BATCH_SIZE = 256"
   ]
  },
  {
   "cell_type": "code",
   "execution_count": 54,
   "metadata": {},
   "outputs": [],
   "source": [
    "dataset = tf.data.Dataset.from_tensor_slices(data.astype(np.float32)) \\\n",
    "            .prefetch(tf.data.experimental.AUTOTUNE) \\\n",
    "            .cache() \\\n",
    "            .shuffle(N) \\\n",
    "            .batch(BATCH_SIZE)"
   ]
  },
  {
   "cell_type": "code",
   "execution_count": 13,
   "metadata": {},
   "outputs": [
    {
     "name": "stderr",
     "output_type": "stream",
     "text": [
      "  0%|          | 0/40 [00:00<?, ?it/s]"
     ]
    },
    {
     "name": "stdout",
     "output_type": "stream",
     "text": [
      "WARNING:tensorflow:From /clusterfs/ml4hep/shahzar/miniconda/envs/multifold/lib/python3.10/site-packages/tensorflow_probability/python/math/ode/base.py:459: calling while_loop_v2 (from tensorflow.python.ops.control_flow_ops) with back_prop=False is deprecated and will be removed in a future version.\n",
      "Instructions for updating:\n",
      "back_prop=False is deprecated. Consider using tf.stop_gradient instead.\n",
      "Instead of:\n",
      "results = tf.while_loop(c, b, vars, back_prop=False)\n",
      "Use:\n",
      "results = tf.nest.map_structure(tf.stop_gradient, tf.while_loop(c, b, vars))\n"
     ]
    },
    {
     "name": "stderr",
     "output_type": "stream",
     "text": [
      "100%|██████████| 40/40 [8:36:20<00:00, 774.52s/it]   \n"
     ]
    }
   ],
   "source": [
    "learning_rate = tf.Variable(LR, trainable=False)\n",
    "optimizer = snt.optimizers.Adam(learning_rate)\n",
    "\n",
    "for epoch in tqdm.trange(NUM_EPOCHS // 2):\n",
    "    for batch in dataset:\n",
    "        _ = train_step(optimizer, batch)"
   ]
  },
  {
   "cell_type": "code",
   "execution_count": 23,
   "metadata": {},
   "outputs": [],
   "source": [
    "N = data.shape[0]\n",
    "sample = transformed_distribution.sample(N)"
   ]
  },
  {
   "cell_type": "code",
   "execution_count": 15,
   "metadata": {},
   "outputs": [
    {
     "data": {
      "text/plain": [
       "<matplotlib.collections.PathCollection at 0x7f1160af6b00>"
      ]
     },
     "execution_count": 15,
     "metadata": {},
     "output_type": "execute_result"
    },
    {
     "data": {
      "image/png": "[encoded data removed]",
      "text/plain": [
       "<Figure size 432x288 with 1 Axes>"
      ]
     },
     "metadata": {
      "needs_background": "light"
     },
     "output_type": "display_data"
    }
   ],
   "source": [
    "plt.scatter(data[:, 0], data[:, 1], alpha = 0.05)\n",
    "plt.scatter(sample[:, 0], sample[:, 1], alpha = 0.05)"
   ]
  },
  {
   "cell_type": "code",
   "execution_count": 55,
   "metadata": {},
   "outputs": [],
   "source": [
    "base_distribution = tfd.MultivariateNormalDiag([0, 0, 0, 0], [1, 1, 1, 1])"
   ]
  },
  {
   "cell_type": "code",
   "execution_count": 56,
   "metadata": {},
   "outputs": [],
   "source": [
    "bijectors = []\n",
    "for _ in range(STACKED_FFJORDS):\n",
    "    mlp_model = MLP_ODE(NUM_HIDDEN, NUM_LAYERS, 4)\n",
    "    next_ffjord = tfb.FFJORD(\n",
    "        state_time_derivative_fn=mlp_model,ode_solve_fn=ode_solve_fn,\n",
    "        trace_augmentation_fn=trace_augmentation_fn)\n",
    "    bijectors.append(next_ffjord)\n",
    "\n",
    "stacked_ffjord = tfb.Chain(bijectors[::-1])"
   ]
  },
  {
   "cell_type": "code",
   "execution_count": 57,
   "metadata": {},
   "outputs": [],
   "source": [
    "target = transformed_distribution = tfd.TransformedDistribution(\n",
    "    distribution=base_distribution, bijector=stacked_ffjord)"
   ]
  },
  {
   "cell_type": "code",
   "execution_count": 58,
   "metadata": {},
   "outputs": [],
   "source": [
    "ckpt = tf.train.Checkpoint(target)"
   ]
  },
  {
   "cell_type": "code",
   "execution_count": 59,
   "metadata": {},
   "outputs": [
    {
     "data": {
      "text/plain": [
       "<tensorflow.python.training.tracking.util.CheckpointLoadStatus at 0x7f71444adb10>"
      ]
     },
     "execution_count": 59,
     "metadata": {},
     "output_type": "execute_result"
    }
   ],
   "source": [
    "ckpt.restore('sim/ckpt-31061')"
   ]
  },
  {
   "cell_type": "code",
   "execution_count": 60,
   "metadata": {},
   "outputs": [],
   "source": [
    "smp = target.sample(10000)"
   ]
  },
  {
   "cell_type": "code",
   "execution_count": 38,
   "metadata": {},
   "outputs": [
    {
     "ename": "NameError",
     "evalue": "name 'dat' is not defined",
     "output_type": "error",
     "traceback": [
      "\u001b[0;31m---------------------------------------------------------------------------\u001b[0m",
      "\u001b[0;31mNameError\u001b[0m                                 Traceback (most recent call last)",
      "Input \u001b[0;32mIn [38]\u001b[0m, in \u001b[0;36m<cell line: 2>\u001b[0;34m()\u001b[0m\n\u001b[1;32m      1\u001b[0m ax \u001b[38;5;241m=\u001b[39m plt\u001b[38;5;241m.\u001b[39maxes(projection\u001b[38;5;241m=\u001b[39m\u001b[38;5;124m'\u001b[39m\u001b[38;5;124m3d\u001b[39m\u001b[38;5;124m'\u001b[39m)\n\u001b[0;32m----> 2\u001b[0m ax\u001b[38;5;241m.\u001b[39mscatter3D(\u001b[43mdat\u001b[49m[:, \u001b[38;5;241m1\u001b[39m], dat[:, \u001b[38;5;241m2\u001b[39m], dat[:, \u001b[38;5;241m3\u001b[39m], alpha \u001b[38;5;241m=\u001b[39m \u001b[38;5;241m0.5\u001b[39m)\n",
      "\u001b[0;31mNameError\u001b[0m: name 'dat' is not defined"
     ]
    },
    {
     "data": {
      "image/png": "[encoded data removed]",
      "text/plain": [
       "<Figure size 432x288 with 1 Axes>"
      ]
     },
     "metadata": {
      "needs_background": "light"
     },
     "output_type": "display_data"
    }
   ],
   "source": [
    "ax = plt.axes(projection='3d')\n",
    "ax.scatter3D(dat[:, 1], dat[:, 2], dat[:, 3], alpha = 0.5)"
   ]
  },
  {
   "cell_type": "code",
   "execution_count": 61,
   "metadata": {},
   "outputs": [
    {
     "data": {
      "text/plain": [
       "<matplotlib.collections.PathCollection at 0x7f71443af5e0>"
      ]
     },
     "execution_count": 61,
     "metadata": {},
     "output_type": "execute_result"
    },
    {
     "data": {
      "image/png": "[encoded data removed]",
      "text/plain": [
       "<Figure size 432x288 with 1 Axes>"
      ]
     },
     "metadata": {
      "needs_background": "light"
     },
     "output_type": "display_data"
    }
   ],
   "source": [
    "plt.scatter(smp[:, 0], smp[:, 1])"
   ]
  },
  {
   "cell_type": "code",
   "execution_count": 62,
   "metadata": {},
   "outputs": [
    {
     "data": {
      "text/plain": [
       "<matplotlib.collections.PathCollection at 0x7f7226aaee60>"
      ]
     },
     "execution_count": 62,
     "metadata": {},
     "output_type": "execute_result"
    },
    {
     "data": {
      "image/png": "[encoded data removed]",
      "text/plain": [
       "<Figure size 432x288 with 1 Axes>"
      ]
     },
     "metadata": {
      "needs_background": "light"
     },
     "output_type": "display_data"
    }
   ],
   "source": [
    "plt.scatter(smp[:, 1], smp[:, 2])"
   ]
  },
  {
   "cell_type": "code",
   "execution_count": 63,
   "metadata": {},
   "outputs": [
    {
     "data": {
      "text/plain": [
       "<matplotlib.collections.PathCollection at 0x7f714425f1c0>"
      ]
     },
     "execution_count": 63,
     "metadata": {},
     "output_type": "execute_result"
    },
    {
     "data": {
      "image/png": "[encoded data removed]",
      "text/plain": [
       "<Figure size 432x288 with 1 Axes>"
      ]
     },
     "metadata": {
      "needs_background": "light"
     },
     "output_type": "display_data"
    }
   ],
   "source": [
    "plt.scatter(smp[:, 2], smp[:, 3])"
   ]
  },
  {
   "cell_type": "code",
   "execution_count": null,
   "metadata": {},
   "outputs": [],
   "source": [
    "n_max = 30000\n",
    "\n",
    "for n in range(1, n_max, 30001):\n",
    "    "
   ]
  },
  {
   "cell_type": "code",
   "execution_count": 42,
   "metadata": {},
   "outputs": [
    {
     "data": {
      "text/plain": [
       "[1,\n",
       " 101,\n",
       " 201,\n",
       " 301,\n",
       " 401,\n",
       " 501,\n",
       " 601,\n",
       " 701,\n",
       " 801,\n",
       " 901,\n",
       " 1001,\n",
       " 1101,\n",
       " 1201,\n",
       " 1301,\n",
       " 1401,\n",
       " 1501,\n",
       " 1601,\n",
       " 1701,\n",
       " 1801,\n",
       " 1901,\n",
       " 2001,\n",
       " 2101,\n",
       " 2201,\n",
       " 2301,\n",
       " 2401,\n",
       " 2501,\n",
       " 2601,\n",
       " 2701,\n",
       " 2801,\n",
       " 2901,\n",
       " 3001,\n",
       " 3101,\n",
       " 3201,\n",
       " 3301,\n",
       " 3401,\n",
       " 3501,\n",
       " 3601,\n",
       " 3701,\n",
       " 3801,\n",
       " 3901,\n",
       " 4001,\n",
       " 4101,\n",
       " 4201,\n",
       " 4301,\n",
       " 4401,\n",
       " 4501,\n",
       " 4601,\n",
       " 4701,\n",
       " 4801,\n",
       " 4901,\n",
       " 5001,\n",
       " 5101,\n",
       " 5201,\n",
       " 5301,\n",
       " 5401,\n",
       " 5501,\n",
       " 5601,\n",
       " 5701,\n",
       " 5801,\n",
       " 5901,\n",
       " 6001,\n",
       " 6101,\n",
       " 6201,\n",
       " 6301,\n",
       " 6401,\n",
       " 6501,\n",
       " 6601,\n",
       " 6701,\n",
       " 6801,\n",
       " 6901,\n",
       " 7001,\n",
       " 7101,\n",
       " 7201,\n",
       " 7301,\n",
       " 7401,\n",
       " 7501,\n",
       " 7601,\n",
       " 7701,\n",
       " 7801,\n",
       " 7901,\n",
       " 8001,\n",
       " 8101,\n",
       " 8201,\n",
       " 8301,\n",
       " 8401,\n",
       " 8501,\n",
       " 8601,\n",
       " 8701,\n",
       " 8801,\n",
       " 8901,\n",
       " 9001,\n",
       " 9101,\n",
       " 9201,\n",
       " 9301,\n",
       " 9401,\n",
       " 9501,\n",
       " 9601,\n",
       " 9701,\n",
       " 9801,\n",
       " 9901,\n",
       " 10001,\n",
       " 10101,\n",
       " 10201,\n",
       " 10301,\n",
       " 10401,\n",
       " 10501,\n",
       " 10601,\n",
       " 10701,\n",
       " 10801,\n",
       " 10901,\n",
       " 11001,\n",
       " 11101,\n",
       " 11201,\n",
       " 11301,\n",
       " 11401,\n",
       " 11501,\n",
       " 11601,\n",
       " 11701,\n",
       " 11801,\n",
       " 11901,\n",
       " 12001,\n",
       " 12101,\n",
       " 12201,\n",
       " 12301,\n",
       " 12401,\n",
       " 12501,\n",
       " 12601,\n",
       " 12701,\n",
       " 12801,\n",
       " 12901,\n",
       " 13001,\n",
       " 13101,\n",
       " 13201,\n",
       " 13301,\n",
       " 13401,\n",
       " 13501,\n",
       " 13601,\n",
       " 13701,\n",
       " 13801,\n",
       " 13901,\n",
       " 14001,\n",
       " 14101,\n",
       " 14201,\n",
       " 14301,\n",
       " 14401,\n",
       " 14501,\n",
       " 14601,\n",
       " 14701,\n",
       " 14801,\n",
       " 14901,\n",
       " 15001,\n",
       " 15101,\n",
       " 15201,\n",
       " 15301,\n",
       " 15401,\n",
       " 15501,\n",
       " 15601,\n",
       " 15701,\n",
       " 15801,\n",
       " 15901,\n",
       " 16001,\n",
       " 16101,\n",
       " 16201,\n",
       " 16301,\n",
       " 16401,\n",
       " 16501,\n",
       " 16601,\n",
       " 16701,\n",
       " 16801,\n",
       " 16901,\n",
       " 17001,\n",
       " 17101,\n",
       " 17201,\n",
       " 17301,\n",
       " 17401,\n",
       " 17501,\n",
       " 17601,\n",
       " 17701,\n",
       " 17801,\n",
       " 17901,\n",
       " 18001,\n",
       " 18101,\n",
       " 18201,\n",
       " 18301,\n",
       " 18401,\n",
       " 18501,\n",
       " 18601,\n",
       " 18701,\n",
       " 18801,\n",
       " 18901,\n",
       " 19001,\n",
       " 19101,\n",
       " 19201,\n",
       " 19301,\n",
       " 19401,\n",
       " 19501,\n",
       " 19601,\n",
       " 19701,\n",
       " 19801,\n",
       " 19901,\n",
       " 20001,\n",
       " 20101,\n",
       " 20201,\n",
       " 20301,\n",
       " 20401,\n",
       " 20501,\n",
       " 20601,\n",
       " 20701,\n",
       " 20801,\n",
       " 20901,\n",
       " 21001,\n",
       " 21101,\n",
       " 21201,\n",
       " 21301,\n",
       " 21401,\n",
       " 21501,\n",
       " 21601,\n",
       " 21701,\n",
       " 21801,\n",
       " 21901,\n",
       " 22001,\n",
       " 22101,\n",
       " 22201,\n",
       " 22301,\n",
       " 22401,\n",
       " 22501,\n",
       " 22601,\n",
       " 22701,\n",
       " 22801,\n",
       " 22901,\n",
       " 23001,\n",
       " 23101,\n",
       " 23201,\n",
       " 23301,\n",
       " 23401,\n",
       " 23501,\n",
       " 23601,\n",
       " 23701,\n",
       " 23801,\n",
       " 23901,\n",
       " 24001,\n",
       " 24101,\n",
       " 24201,\n",
       " 24301,\n",
       " 24401,\n",
       " 24501,\n",
       " 24601,\n",
       " 24701,\n",
       " 24801,\n",
       " 24901,\n",
       " 25001,\n",
       " 25101,\n",
       " 25201,\n",
       " 25301,\n",
       " 25401,\n",
       " 25501,\n",
       " 25601,\n",
       " 25701,\n",
       " 25801,\n",
       " 25901,\n",
       " 26001,\n",
       " 26101,\n",
       " 26201,\n",
       " 26301,\n",
       " 26401,\n",
       " 26501,\n",
       " 26601,\n",
       " 26701,\n",
       " 26801,\n",
       " 26901,\n",
       " 27001,\n",
       " 27101,\n",
       " 27201,\n",
       " 27301,\n",
       " 27401,\n",
       " 27501,\n",
       " 27601,\n",
       " 27701,\n",
       " 27801,\n",
       " 27901,\n",
       " 28001,\n",
       " 28101,\n",
       " 28201,\n",
       " 28301,\n",
       " 28401,\n",
       " 28501,\n",
       " 28601,\n",
       " 28701,\n",
       " 28801,\n",
       " 28901,\n",
       " 29001,\n",
       " 29101,\n",
       " 29201,\n",
       " 29301,\n",
       " 29401,\n",
       " 29501,\n",
       " 29601,\n",
       " 29701,\n",
       " 29801,\n",
       " 29901]"
      ]
     },
     "execution_count": 42,
     "metadata": {},
     "output_type": "execute_result"
    }
   ],
   "source": [
    "[i for i in range(1, 30000, 100)]"
   ]
  },
  {
   "cell_type": "code",
   "execution_count": null,
   "metadata": {},
   "outputs": [],
   "source": []
  }
 ],
 "metadata": {
  "colab": {
   "collapsed_sections": [],
   "name": "FFJORD Demo",
   "provenance": [],
   "toc_visible": true
  },
  "kernelspec": {
   "display_name": "multifold",
   "language": "python",
   "name": "multifold"
  },
  "language_info": {
   "codemirror_mode": {
    "name": "ipython",
    "version": 3
   },
   "file_extension": ".py",
   "mimetype": "text/x-python",
   "name": "python",
   "nbconvert_exporter": "python",
   "pygments_lexer": "ipython3",
   "version": "3.10.5"
  }
 },
 "nbformat": 4,
 "nbformat_minor": 4
}
