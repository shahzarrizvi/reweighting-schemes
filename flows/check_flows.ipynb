{
 "cells": [
  {
   "cell_type": "code",
   "execution_count": 1,
   "metadata": {},
   "outputs": [],
   "source": [
    "# Automatically reload modules after executing each cell.\n",
    "%load_ext autoreload\n",
    "%autoreload 2"
   ]
  },
  {
   "cell_type": "code",
   "execution_count": 2,
   "metadata": {},
   "outputs": [],
   "source": [
    "import tensorflow as tf\n",
    "from scipy import stats\n",
    "import numpy as np\n",
    "import sklearn.metrics as metrics\n",
    "\n",
    "from matplotlib import pyplot as plt\n",
    "from matplotlib.patches import Patch\n",
    "from matplotlib import rc\n",
    "import matplotlib.font_manager\n",
    "rc('font', family='serif')\n",
    "rc('text', usetex=True)\n",
    "rc('font', size=10)        #22\n",
    "rc('xtick', labelsize=8)  #15\n",
    "rc('ytick', labelsize=8)  #15\n",
    "rc('legend', fontsize=8)  #15\n",
    "rc('text.latex', preamble=r'\\usepackage{amsmath}')\n",
    "\n",
    "# Plots have dimension (w,h)\n",
    "w = 3.5\n",
    "h = 3.25       \n",
    "\n",
    "from flows import *\n",
    "\n",
    "import sys\n",
    "import os\n",
    "\n",
    "sys.path.append('../')\n",
    "from utils.training import *\n",
    "from utils.losses import *\n",
    "\n",
    "np.random.seed(666)"
   ]
  },
  {
   "cell_type": "code",
   "execution_count": 3,
   "metadata": {},
   "outputs": [],
   "source": [
    "os.environ[\"CUDA_VISIBLE_DEVICES\"] = \"2\" # pick a number < 4 on ML4HEP; < 3 on Voltan \n",
    "physical_devices = tf.config.list_physical_devices('GPU') \n",
    "tf.config.experimental.set_memory_growth(physical_devices[0], True)"
   ]
  },
  {
   "cell_type": "code",
   "execution_count": 4,
   "metadata": {},
   "outputs": [],
   "source": [
    "mc = np.load(\"../data/zenodo/Pythia21_Zjet_pTZ-200GeV_0.npz\")\n",
    "\n",
    "sim_pt = mc['sim_jets'][:, 0]\n",
    "sim_eta = mc['sim_jets'][:, 1]\n",
    "sim_phi = mc['sim_jets'][:, 2]\n",
    "sim_m = mc['sim_jets'][:, 3]\n",
    "sim_mults = mc['sim_mults']\n",
    "sim_lhas = mc['sim_lhas']\n",
    "sim_widths = mc['sim_widths']\n",
    "sim_ang2s = mc['sim_ang2s']\n",
    "sim_tau2s = mc['sim_tau2s']\n",
    "sim_sdms = mc['sim_sdms']\n",
    "sim_zgs = mc['sim_zgs']\n",
    "\n",
    "sim = np.vstack([sim_pt, sim_eta, sim_phi, sim_m]).T"
   ]
  },
  {
   "cell_type": "code",
   "execution_count": 5,
   "metadata": {},
   "outputs": [],
   "source": [
    "dat = np.load(\"../data/zenodo/Herwig_Zjet_pTZ-200GeV_0.npz\")\n",
    "\n",
    "dat_pt =  dat['sim_jets'][:, 0] # dat[:, 0]\n",
    "dat_eta = dat['sim_jets'][:, 1]\n",
    "dat_phi = dat['sim_jets'][:, 2]\n",
    "dat_m =   dat['sim_jets'][:, 3]\n",
    "\n",
    "dat = np.vstack([dat_pt, dat_eta, dat_phi, dat_m]).T"
   ]
  },
  {
   "cell_type": "code",
   "execution_count": 6,
   "metadata": {},
   "outputs": [],
   "source": [
    "n, d = dat.shape"
   ]
  },
  {
   "cell_type": "markdown",
   "metadata": {
    "tags": []
   },
   "source": [
    "# Load Flows"
   ]
  },
  {
   "cell_type": "code",
   "execution_count": 7,
   "metadata": {},
   "outputs": [
    {
     "name": "stderr",
     "output_type": "stream",
     "text": [
      "2023-10-19 10:05:37.163668: I tensorflow/core/platform/cpu_feature_guard.cc:142] This TensorFlow binary is optimized with oneAPI Deep Neural Network Library (oneDNN) to use the following CPU instructions in performance-critical operations:  SSE4.1 SSE4.2 AVX AVX2 FMA\n",
      "To enable them in other operations, rebuild TensorFlow with the appropriate compiler flags.\n",
      "2023-10-19 10:05:37.828425: I tensorflow/core/common_runtime/gpu/gpu_device.cc:1510] Created device /job:localhost/replica:0/task:0/device:GPU:0 with 21446 MB memory:  -> device: 0, name: Quadro RTX 6000, pci bus id: 0000:81:00.0, compute capability: 7.5\n"
     ]
    }
   ],
   "source": [
    "#dat_target = make_target(d)\n",
    "#dat_target = make_target(d, num_hidden = 16)\n",
    "#dat_target = make_target(d, num_ffjords = 8)\n",
    "#dat_target = make_target(d) #dat10\n",
    "sim_target = make_target(d) #sim5\n",
    "\n",
    "#dat_ckpt = tf.train.Checkpoint(dat_target)\n",
    "sim_ckpt = tf.train.Checkpoint(sim_target)"
   ]
  },
  {
   "cell_type": "code",
   "execution_count": 8,
   "metadata": {},
   "outputs": [
    {
     "data": {
      "text/plain": [
       "<tensorflow.python.training.tracking.util.CheckpointLoadStatus at 0x7f23f014fe20>"
      ]
     },
     "execution_count": 8,
     "metadata": {},
     "output_type": "execute_result"
    }
   ],
   "source": [
    "#dat_ckpt.restore('dat7/ckpt-392')\n",
    "#dat_ckpt.restore('dat8/ckpt-469')\n",
    "#dat_ckpt.restore('dat9/ckpt-392')\n",
    "#dat_ckpt.restore('dat12/ckpt-488')\n",
    "#sim_ckpt.restore('sim4/ckpt-379')\n",
    "experiment = 'sim/2'\n",
    "sim_ckpt.restore(experiment + '/ckpt-383')"
   ]
  },
  {
   "cell_type": "code",
   "execution_count": 9,
   "metadata": {},
   "outputs": [],
   "source": [
    "#dat_smp = dat_target.sample(n)\n",
    "sim_smp = sim_target.sample(n)"
   ]
  },
  {
   "cell_type": "markdown",
   "metadata": {
    "tags": []
   },
   "source": [
    "# Histograms"
   ]
  },
  {
   "cell_type": "code",
   "execution_count": 10,
   "metadata": {},
   "outputs": [],
   "source": [
    "def ratio_hist(truth, fit,\n",
    "               labels,\n",
    "               color = \"gray\",\n",
    "               figsize = (8, 8),\n",
    "               x_lim = None,\n",
    "               y_lim = None,\n",
    "               title = None,\n",
    "               filename = None):\n",
    "    fig, axs = plt.subplots(2, 1,\n",
    "                            figsize = figsize,\n",
    "                            sharex = True, \n",
    "                            gridspec_kw = {'height_ratios': [2, 1]})\n",
    "    \n",
    "    truth = truth[(truth > x_lim[0]) & (truth < x_lim[1])]\n",
    "    fit = fit[(fit > x_lim[0]) & (fit < x_lim[1])]\n",
    "    \n",
    "    bins = np.linspace(x_lim[0], x_lim[1], 51)\n",
    "    \n",
    "    t_hist = axs[0].hist(truth, bins = bins, density = True, color = color, alpha = 0.25, label = labels[0])\n",
    "    f_hist = axs[0].hist(fit, bins = bins, density = True, histtype = 'step', color = 'red', label = labels[1])\n",
    "    \n",
    "    axs[0].minorticks_on()\n",
    "    axs[0].tick_params(direction='in', which='both')\n",
    "    axs[0].legend()\n",
    "    \n",
    "    if y_lim:\n",
    "        axs[0].set_ylim(y_lim[0], y_lim[1])\n",
    "    if x_lim:\n",
    "        axs[0].set_xlim(x_lim[0], x_lim[1])\n",
    "    \n",
    "    bins = (f_hist[1] + np.diff(f_hist[1]).mean() / 2)[:-1]\n",
    "    axs[1].scatter(bins, f_hist[0] / t_hist[0], marker = '_', c = 'red', lw = 0.75)\n",
    "    axs[1].axhline(1,color=\"gray\", lw=0.5)\n",
    "    \n",
    "    axs[1].minorticks_on()\n",
    "    axs[1].tick_params(direction='in', which='both')\n",
    "    axs[1].set_ylim(0, 2)\n",
    "    \n",
    "    plt.xlabel(labels[2])\n",
    "    \n",
    "    if title:\n",
    "        axs[0].set_title(title, loc = \"right\")\n",
    "    if filename:\n",
    "        plt.savefig(filename, \n",
    "                    dpi = 300,\n",
    "                    transparent = True,\n",
    "                    bbox_inches = 'tight')"
   ]
  },
  {
   "cell_type": "markdown",
   "metadata": {
    "jp-MarkdownHeadingCollapsed": true,
    "tags": []
   },
   "source": [
    "## Data"
   ]
  },
  {
   "cell_type": "code",
   "execution_count": null,
   "metadata": {},
   "outputs": [],
   "source": [
    "experiment = 'dat12'"
   ]
  },
  {
   "cell_type": "code",
   "execution_count": null,
   "metadata": {},
   "outputs": [],
   "source": [
    "ratio_hist(dat[:, 0], dat_smp[:, 0], \n",
    "           labels = ['Data', 'Flow', r'$p_T$'],\n",
    "           color = 'blue',\n",
    "           figsize = (w, h),\n",
    "           title = r'\\it $p_T$ (Data)',\n",
    "           x_lim = (0, 750),\n",
    "           filename = '../plots/zenodo/flows/{}/pT_data.png'.format(experiment)\n",
    "          )"
   ]
  },
  {
   "cell_type": "code",
   "execution_count": null,
   "metadata": {},
   "outputs": [],
   "source": [
    "ratio_hist(dat[:, 1], dat_smp[:, 1], \n",
    "           labels = ['Data', 'Flow', r'$\\eta$'],\n",
    "           color = 'blue',\n",
    "           figsize = (w, h),\n",
    "           title = r'\\it $\\eta$ (Data)',\n",
    "           x_lim = (-5, 5),\n",
    "           filename = '../plots/zenodo/flows/{}/eta_data.png'.format(experiment)\n",
    "          )"
   ]
  },
  {
   "cell_type": "code",
   "execution_count": null,
   "metadata": {},
   "outputs": [],
   "source": [
    "ratio_hist(dat[:, 2], dat_smp[:, 2], \n",
    "           labels = ['Data', 'Flow', r'$\\phi$'],\n",
    "           color = 'blue',\n",
    "           figsize = (w, h),\n",
    "           title = r'\\it $\\phi$ (Data)',\n",
    "           x_lim = (-1, 7),\n",
    "           filename = '../plots/zenodo/flows/{}/phi_data.png'.format(experiment)\n",
    "          )"
   ]
  },
  {
   "cell_type": "code",
   "execution_count": null,
   "metadata": {},
   "outputs": [],
   "source": [
    "ratio_hist(dat[:, 3], dat_smp[:, 3], \n",
    "           labels = ['Data', 'Flow', r'$m$'],\n",
    "           color = 'blue',\n",
    "           figsize = (w, h),\n",
    "           title = r'\\it $m$ (Data)',\n",
    "           x_lim = (0, 80),\n",
    "           filename = '../plots/zenodo/flows/{}/m_data.png'.format(experiment)\n",
    "          )"
   ]
  },
  {
   "cell_type": "markdown",
   "metadata": {
    "tags": []
   },
   "source": [
    "## MC"
   ]
  },
  {
   "cell_type": "code",
   "execution_count": 12,
   "metadata": {},
   "outputs": [
    {
     "data": {
      "text/plain": [
       "13.67"
      ]
     },
     "execution_count": 12,
     "metadata": {},
     "output_type": "execute_result"
    }
   ],
   "source": [
    "with tf.GradientTape() as tape:\n",
    "    loss = -tf.reduce_mean(sim_target.log_prob(sim[0:1000, :]))\n",
    "    \n",
    "loss = round(loss.numpy(), 2)\n",
    "loss"
   ]
  },
  {
   "cell_type": "code",
   "execution_count": 13,
   "metadata": {},
   "outputs": [],
   "source": [
    "#experiment = 'sim/1'"
   ]
  },
  {
   "cell_type": "code",
   "execution_count": 14,
   "metadata": {},
   "outputs": [
    {
     "data": {
      "image/png": "[encoded data removed]",
      "text/plain": [
       "<Figure size 350x325 with 2 Axes>"
      ]
     },
     "metadata": {},
     "output_type": "display_data"
    }
   ],
   "source": [
    "ratio_hist(sim[:, 0], sim_smp[:, 0], \n",
    "           labels = ['MC', 'Flow', r'$p_T$'],\n",
    "           color = 'green',\n",
    "           figsize = (w, h),\n",
    "           title = r'\\it $p_T$ (MC)',\n",
    "           x_lim = (0, 750),\n",
    "           filename = '../plots/zenodo/flows/{}/pT_mc.png'.format(experiment)\n",
    "          )"
   ]
  },
  {
   "cell_type": "code",
   "execution_count": 15,
   "metadata": {},
   "outputs": [
    {
     "name": "stderr",
     "output_type": "stream",
     "text": [
      "/tmp/ipykernel_29264/384005121.py:32: RuntimeWarning: divide by zero encountered in divide\n",
      "  axs[1].scatter(bins, f_hist[0] / t_hist[0], marker = '_', c = 'red', lw = 0.75)\n"
     ]
    },
    {
     "data": {
      "image/png": "[encoded data removed]",
      "text/plain": [
       "<Figure size 350x325 with 2 Axes>"
      ]
     },
     "metadata": {},
     "output_type": "display_data"
    }
   ],
   "source": [
    "ratio_hist(sim[:, 1], sim_smp[:, 1], \n",
    "           labels = ['MC', 'Flow', r'$\\eta$'],\n",
    "           color = 'green',\n",
    "           figsize = (w, h),\n",
    "           title = r'\\it $\\eta$ (MC)',\n",
    "           x_lim = (-5, 5),\n",
    "           filename = '../plots/zenodo/flows/{}/eta_mc.png'.format(experiment)\n",
    "          )"
   ]
  },
  {
   "cell_type": "code",
   "execution_count": 16,
   "metadata": {},
   "outputs": [
    {
     "name": "stderr",
     "output_type": "stream",
     "text": [
      "/tmp/ipykernel_29264/384005121.py:32: RuntimeWarning: divide by zero encountered in divide\n",
      "  axs[1].scatter(bins, f_hist[0] / t_hist[0], marker = '_', c = 'red', lw = 0.75)\n"
     ]
    },
    {
     "data": {
      "image/png": "[encoded data removed]",
      "text/plain": [
       "<Figure size 350x325 with 2 Axes>"
      ]
     },
     "metadata": {},
     "output_type": "display_data"
    }
   ],
   "source": [
    "ratio_hist(sim[:, 2], sim_smp[:, 2], \n",
    "           labels = ['MC', 'Flow', r'$\\phi$'],\n",
    "           color = 'green',\n",
    "           figsize = (w, h),\n",
    "           title = r'\\it $\\phi$ (MC)',\n",
    "           x_lim = (-1, 7),\n",
    "           filename = '../plots/zenodo/flows/{}/phi_mc.png'.format(experiment)\n",
    "          )"
   ]
  },
  {
   "cell_type": "code",
   "execution_count": 17,
   "metadata": {},
   "outputs": [
    {
     "data": {
      "image/png": "[encoded data removed]",
      "text/plain": [
       "<Figure size 350x325 with 2 Axes>"
      ]
     },
     "metadata": {},
     "output_type": "display_data"
    }
   ],
   "source": [
    "ratio_hist(sim[:, 3], sim_smp[:, 3], \n",
    "           labels = ['MC', 'Flow', r'$m$'],\n",
    "           color = 'green',\n",
    "           figsize = (w, h),\n",
    "           title = r'\\it $m$ (MC)',\n",
    "           x_lim = (0, 80),\n",
    "           filename = '../plots/zenodo/flows/{}/m_mc.png'.format(experiment)\n",
    "          )"
   ]
  },
  {
   "cell_type": "markdown",
   "metadata": {
    "tags": []
   },
   "source": [
    "# Classification"
   ]
  },
  {
   "cell_type": "markdown",
   "metadata": {
    "tags": []
   },
   "source": [
    "## MC"
   ]
  },
  {
   "cell_type": "code",
   "execution_count": 18,
   "metadata": {},
   "outputs": [],
   "source": [
    "X_bkgd = sim_smp\n",
    "X_sgnl = sim"
   ]
  },
  {
   "cell_type": "code",
   "execution_count": 19,
   "metadata": {},
   "outputs": [],
   "source": [
    "np.random.seed(666)\n",
    "\n",
    "# Create full dataset; randomly sample points from Data or Flow with chance 1/2.\n",
    "y = stats.bernoulli.rvs(0.5, size = n).astype('float32')\n",
    "X = np.zeros_like(X_bkgd)\n",
    "\n",
    "X[y == 0] = X_bkgd[y == 0]\n",
    "X[y == 1] = X_sgnl[y == 1]\n",
    "\n",
    "# Take 70% of data to be training data.\n",
    "N_trn = int(0.7*n)\n",
    "trn_idx = np.random.choice(range(n), N_trn, replace = False)\n",
    "tst_idx = [n for n in range(n) if n not in trn_idx]\n",
    "\n",
    "X_trn = X[trn_idx]\n",
    "y_trn = y[trn_idx]\n",
    "\n",
    "X_tst = X[tst_idx]\n",
    "y_tst = y[tst_idx]\n",
    "\n",
    "data, m, s = split_data(X_trn, y_trn)"
   ]
  },
  {
   "cell_type": "code",
   "execution_count": 20,
   "metadata": {},
   "outputs": [
    {
     "data": {
      "text/html": [
       "<style>#sk-container-id-1 {color: black;background-color: white;}#sk-container-id-1 pre{padding: 0;}#sk-container-id-1 div.sk-toggleable {background-color: white;}#sk-container-id-1 label.sk-toggleable__label {cursor: pointer;display: block;width: 100%;margin-bottom: 0;padding: 0.3em;box-sizing: border-box;text-align: center;}#sk-container-id-1 label.sk-toggleable__label-arrow:before {content: \"▸\";float: left;margin-right: 0.25em;color: #696969;}#sk-container-id-1 label.sk-toggleable__label-arrow:hover:before {color: black;}#sk-container-id-1 div.sk-estimator:hover label.sk-toggleable__label-arrow:before {color: black;}#sk-container-id-1 div.sk-toggleable__content {max-height: 0;max-width: 0;overflow: hidden;text-align: left;background-color: #f0f8ff;}#sk-container-id-1 div.sk-toggleable__content pre {margin: 0.2em;color: black;border-radius: 0.25em;background-color: #f0f8ff;}#sk-container-id-1 input.sk-toggleable__control:checked~div.sk-toggleable__content {max-height: 200px;max-width: 100%;overflow: auto;}#sk-container-id-1 input.sk-toggleable__control:checked~label.sk-toggleable__label-arrow:before {content: \"▾\";}#sk-container-id-1 div.sk-estimator input.sk-toggleable__control:checked~label.sk-toggleable__label {background-color: #d4ebff;}#sk-container-id-1 div.sk-label input.sk-toggleable__control:checked~label.sk-toggleable__label {background-color: #d4ebff;}#sk-container-id-1 input.sk-hidden--visually {border: 0;clip: rect(1px 1px 1px 1px);clip: rect(1px, 1px, 1px, 1px);height: 1px;margin: -1px;overflow: hidden;padding: 0;position: absolute;width: 1px;}#sk-container-id-1 div.sk-estimator {font-family: monospace;background-color: #f0f8ff;border: 1px dotted black;border-radius: 0.25em;box-sizing: border-box;margin-bottom: 0.5em;}#sk-container-id-1 div.sk-estimator:hover {background-color: #d4ebff;}#sk-container-id-1 div.sk-parallel-item::after {content: \"\";width: 100%;border-bottom: 1px solid gray;flex-grow: 1;}#sk-container-id-1 div.sk-label:hover label.sk-toggleable__label {background-color: #d4ebff;}#sk-container-id-1 div.sk-serial::before {content: \"\";position: absolute;border-left: 1px solid gray;box-sizing: border-box;top: 0;bottom: 0;left: 50%;z-index: 0;}#sk-container-id-1 div.sk-serial {display: flex;flex-direction: column;align-items: center;background-color: white;padding-right: 0.2em;padding-left: 0.2em;position: relative;}#sk-container-id-1 div.sk-item {position: relative;z-index: 1;}#sk-container-id-1 div.sk-parallel {display: flex;align-items: stretch;justify-content: center;background-color: white;position: relative;}#sk-container-id-1 div.sk-item::before, #sk-container-id-1 div.sk-parallel-item::before {content: \"\";position: absolute;border-left: 1px solid gray;box-sizing: border-box;top: 0;bottom: 0;left: 50%;z-index: -1;}#sk-container-id-1 div.sk-parallel-item {display: flex;flex-direction: column;z-index: 1;position: relative;background-color: white;}#sk-container-id-1 div.sk-parallel-item:first-child::after {align-self: flex-end;width: 50%;}#sk-container-id-1 div.sk-parallel-item:last-child::after {align-self: flex-start;width: 50%;}#sk-container-id-1 div.sk-parallel-item:only-child::after {width: 0;}#sk-container-id-1 div.sk-dashed-wrapped {border: 1px dashed gray;margin: 0 0.4em 0.5em 0.4em;box-sizing: border-box;padding-bottom: 0.4em;background-color: white;}#sk-container-id-1 div.sk-label label {font-family: monospace;font-weight: bold;display: inline-block;line-height: 1.2em;}#sk-container-id-1 div.sk-label-container {text-align: center;}#sk-container-id-1 div.sk-container {/* jupyter's `normalize.less` sets `[hidden] { display: none; }` but bootstrap.min.css set `[hidden] { display: none !important; }` so we also need the `!important` here to be able to override the default hidden behavior on the sphinx rendered scikit-learn.org. See: https://github.com/scikit-learn/scikit-learn/issues/21755 */display: inline-block !important;position: relative;}#sk-container-id-1 div.sk-text-repr-fallback {display: none;}</style><div id=\"sk-container-id-1\" class=\"sk-top-container\"><div class=\"sk-text-repr-fallback\"><pre>AdaBoostClassifier()</pre><b>In a Jupyter environment, please rerun this cell to show the HTML representation or trust the notebook. <br />On GitHub, the HTML representation is unable to render, please try loading this page with nbviewer.org.</b></div><div class=\"sk-container\" hidden><div class=\"sk-item\"><div class=\"sk-estimator sk-toggleable\"><input class=\"sk-toggleable__control sk-hidden--visually\" id=\"sk-estimator-id-1\" type=\"checkbox\" checked><label for=\"sk-estimator-id-1\" class=\"sk-toggleable__label sk-toggleable__label-arrow\">AdaBoostClassifier</label><div class=\"sk-toggleable__content\"><pre>AdaBoostClassifier()</pre></div></div></div></div></div>"
      ],
      "text/plain": [
       "AdaBoostClassifier()"
      ]
     },
     "execution_count": 20,
     "metadata": {},
     "output_type": "execute_result"
    }
   ],
   "source": [
    "from sklearn.ensemble import AdaBoostClassifier\n",
    "ab_clf = AdaBoostClassifier()\n",
    "ab_clf.fit(X_trn, y_trn)"
   ]
  },
  {
   "cell_type": "code",
   "execution_count": 21,
   "metadata": {},
   "outputs": [],
   "source": [
    "y_hat = ab_clf.predict_proba(X_tst)[:, 1]\n",
    "fpr, tpr, ts = metrics.roc_curve(y_tst, y_hat)\n",
    "auc = metrics.roc_auc_score(y_tst, y_hat)"
   ]
  },
  {
   "cell_type": "code",
   "execution_count": 22,
   "metadata": {},
   "outputs": [
    {
     "data": {
      "image/png": "[encoded data removed]",
      "text/plain": [
       "<Figure size 350x325 with 1 Axes>"
      ]
     },
     "metadata": {},
     "output_type": "display_data"
    }
   ],
   "source": [
    "fig, ax = plt.subplots(figsize = (w, h))\n",
    "plt.plot(fpr, tpr)\n",
    "plt.plot(fpr, fpr, ls = ':', c = 'k', lw = 1)\n",
    "\n",
    "plt.title('\\it ROC Curve for MC', loc = 'right')\n",
    "plt.text(0.05, 0.9, 'AUC: {}'.format(round(auc, 4)))\n",
    "plt.text(0.04, 0.85, 'Loss: {}'.format(loss))\n",
    "plt.xlabel('False Positive Rate')\n",
    "plt.ylabel('True Positive Rate')\n",
    "plt.ylim(0, 1)\n",
    "plt.xlim(0, 1)\n",
    "\n",
    "plt.gca().minorticks_on()\n",
    "plt.gca().tick_params(direction='in', which='both')\n",
    "plt.gca().set_aspect('equal')\n",
    "\n",
    "plt.savefig('../plots/zenodo/flows/{}/mc_roc.png'.format(experiment), dpi = 300, transparent = True,\n",
    "            bbox_inches = 'tight')"
   ]
  },
  {
   "cell_type": "markdown",
   "metadata": {
    "jp-MarkdownHeadingCollapsed": true,
    "tags": []
   },
   "source": [
    "## Data"
   ]
  },
  {
   "cell_type": "code",
   "execution_count": null,
   "metadata": {},
   "outputs": [],
   "source": [
    "X_bkgd = dat_smp\n",
    "X_sgnl = dat"
   ]
  },
  {
   "cell_type": "code",
   "execution_count": null,
   "metadata": {},
   "outputs": [],
   "source": [
    "np.random.seed(666)\n",
    "\n",
    "# Create full dataset; randomly sample points from Data or Flow with chance 1/2.\n",
    "y = stats.bernoulli.rvs(0.5, size = n).astype('float32')\n",
    "X = np.zeros_like(X_bkgd)\n",
    "\n",
    "X[y == 0] = X_bkgd[y == 0]\n",
    "X[y == 1] = X_sgnl[y == 1]\n",
    "\n",
    "# Take 70% of data to be training data.\n",
    "N_trn = int(0.7*n)\n",
    "trn_idx = np.random.choice(range(n), N_trn, replace = False)\n",
    "tst_idx = [n for n in range(n) if n not in trn_idx]\n",
    "\n",
    "X_trn = X[trn_idx]\n",
    "y_trn = y[trn_idx]\n",
    "\n",
    "X_tst = X[tst_idx]\n",
    "y_tst = y[tst_idx]\n",
    "\n",
    "data, m, s = split_data(X_trn, y_trn)"
   ]
  },
  {
   "cell_type": "code",
   "execution_count": null,
   "metadata": {},
   "outputs": [],
   "source": [
    "from sklearn.ensemble import AdaBoostClassifier\n",
    "ab_clf = AdaBoostClassifier()\n",
    "ab_clf.fit(X_trn, y_trn)"
   ]
  },
  {
   "cell_type": "code",
   "execution_count": null,
   "metadata": {},
   "outputs": [],
   "source": [
    "y_hat = ab_clf.predict_proba(X_tst)[:, 1]\n",
    "fpr, tpr, ts = metrics.roc_curve(y_tst, y_hat)\n",
    "auc = metrics.roc_auc_score(y_tst, y_hat)"
   ]
  },
  {
   "cell_type": "code",
   "execution_count": null,
   "metadata": {},
   "outputs": [],
   "source": [
    "fig, ax = plt.subplots(figsize = (w, h))\n",
    "plt.plot(fpr, tpr)\n",
    "plt.plot(fpr, fpr, ls = ':', c = 'k', lw = 1)\n",
    "\n",
    "plt.title('\\it ROC Curve for Data', loc = 'right')\n",
    "plt.text(0.05, 0.9, 'AUC: {}'.format(round(auc, 4)))\n",
    "plt.xlabel('False Positive Rate')\n",
    "plt.ylabel('True Positive Rate')\n",
    "plt.ylim(0, 1)\n",
    "plt.xlim(0, 1)\n",
    "\n",
    "plt.gca().minorticks_on()\n",
    "plt.gca().tick_params(direction='in', which='both')\n",
    "plt.gca().set_aspect('equal')\n",
    "\n",
    "plt.savefig('../plots/zenodo/flows/{}/data_roc.png'.format(experiment), dpi = 300, transparent = True,\n",
    "            bbox_inches = 'tight')"
   ]
  },
  {
   "cell_type": "markdown",
   "metadata": {
    "jp-MarkdownHeadingCollapsed": true,
    "tags": []
   },
   "source": [
    "## Undertraining and Overtraining"
   ]
  },
  {
   "cell_type": "code",
   "execution_count": null,
   "metadata": {},
   "outputs": [],
   "source": [
    "ks = np.arange(5, 236, 5)\n",
    "\n",
    "aucs = np.zeros(len(ks))\n",
    "for i in range(len(ks)):\n",
    "    k = ks[i]\n",
    "    print(k, end = ' ')\n",
    "    dat_target = make_target(d)\n",
    "    dat_ckpt = tf.train.Checkpoint(dat_target)\n",
    "    dat_ckpt.restore('dat6/ckpt-{}'.format(k))\n",
    "    dat_smp = dat_target.sample(n)\n",
    "\n",
    "    X_bkgd = dat_smp\n",
    "    X_sgnl = dat\n",
    "\n",
    "    # Create full dataset; randomly sample points from Data or Flow with chance 1/2.\n",
    "    y = stats.bernoulli.rvs(0.5, size = n).astype('float32')\n",
    "    X = np.zeros_like(X_bkgd)\n",
    "\n",
    "    X[y == 0] = X_bkgd[y == 0]\n",
    "    X[y == 1] = X_sgnl[y == 1]\n",
    "\n",
    "    # Take 70% of data to be training data.\n",
    "    N_trn = int(0.7*n)\n",
    "    trn_idx = np.random.choice(range(n), N_trn, replace = False)\n",
    "    tst_idx = [n for n in range(n) if n not in trn_idx]\n",
    "\n",
    "    X_trn = X[trn_idx]\n",
    "    y_trn = y[trn_idx]\n",
    "\n",
    "    X_tst = X[tst_idx]\n",
    "    y_tst = y[tst_idx]\n",
    "\n",
    "    data, m, s = split_data(X_trn, y_trn)\n",
    "    \n",
    "    reps = 100\n",
    "    avg = [None] * reps\n",
    "    for j in range(reps):\n",
    "        print(j, end = ' ')\n",
    "        ab_clf = AdaBoostClassifier()\n",
    "        ab_clf.fit(X_trn, y_trn)\n",
    "\n",
    "        y_hat = ab_clf.predict_proba(X_tst)[:, 1]\n",
    "        avg[j] = metrics.roc_auc_score(y_tst, y_hat) \n",
    "    aucs[i] = np.mean(avg)\n",
    "    print(np.round(aucs[i], 3))"
   ]
  },
  {
   "cell_type": "code",
   "execution_count": null,
   "metadata": {},
   "outputs": [],
   "source": [
    "aucs"
   ]
  },
  {
   "cell_type": "code",
   "execution_count": null,
   "metadata": {},
   "outputs": [],
   "source": [
    "plt.plot(ks, aucs)\n",
    "plt.ylim(0.5, 0.6)"
   ]
  },
  {
   "cell_type": "code",
   "execution_count": null,
   "metadata": {},
   "outputs": [],
   "source": []
  }
 ],
 "metadata": {
  "colab": {
   "collapsed_sections": [],
   "name": "FFJORD Demo",
   "provenance": [],
   "toc_visible": true
  },
  "kernelspec": {
   "display_name": "flow",
   "language": "python",
   "name": "flow"
  },
  "language_info": {
   "codemirror_mode": {
    "name": "ipython",
    "version": 3
   },
   "file_extension": ".py",
   "mimetype": "text/x-python",
   "name": "python",
   "nbconvert_exporter": "python",
   "pygments_lexer": "ipython3",
   "version": "3.9.13"
  }
 },
 "nbformat": 4,
 "nbformat_minor": 4
}
