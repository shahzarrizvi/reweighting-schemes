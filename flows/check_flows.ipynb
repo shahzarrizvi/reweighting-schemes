{
 "cells": [
  {
   "cell_type": "code",
   "execution_count": 1,
   "metadata": {},
   "outputs": [],
   "source": [
    "# Automatically reload modules after executing each cell.\n",
    "%load_ext autoreload\n",
    "%autoreload 2"
   ]
  },
  {
   "cell_type": "code",
   "execution_count": 2,
   "metadata": {},
   "outputs": [],
   "source": [
    "import tensorflow as tf\n",
    "from scipy import stats\n",
    "import numpy as np\n",
    "import sklearn.metrics as metrics\n",
    "\n",
    "from matplotlib import pyplot as plt\n",
    "from matplotlib.patches import Patch\n",
    "from matplotlib import rc\n",
    "import matplotlib.font_manager\n",
    "rc('font', family='serif')\n",
    "rc('text', usetex=True)\n",
    "rc('font', size=10)        #22\n",
    "rc('xtick', labelsize=8)  #15\n",
    "rc('ytick', labelsize=8)  #15\n",
    "rc('legend', fontsize=8)  #15\n",
    "rc('text.latex', preamble=r'\\usepackage{amsmath}')\n",
    "\n",
    "# Plots have dimension (w,h)\n",
    "w = 3.5\n",
    "h = 3.25       \n",
    "\n",
    "from flows import *\n",
    "\n",
    "import sys\n",
    "import os\n",
    "\n",
    "sys.path.append('../')\n",
    "from utils.training import *\n",
    "from utils.losses import *\n",
    "\n",
    "np.random.seed(666)"
   ]
  },
  {
   "cell_type": "code",
   "execution_count": 3,
   "metadata": {},
   "outputs": [],
   "source": [
    "os.environ[\"CUDA_VISIBLE_DEVICES\"] = \"2\" # pick a number < 4 on ML4HEP; < 3 on Voltan \n",
    "physical_devices = tf.config.list_physical_devices('GPU') \n",
    "tf.config.experimental.set_memory_growth(physical_devices[0], True)"
   ]
  },
  {
   "cell_type": "code",
   "execution_count": 4,
   "metadata": {},
   "outputs": [],
   "source": [
    "mc = np.load(\"../data/zenodo/Pythia21_Zjet_pTZ-200GeV_0.npz\")\n",
    "\n",
    "sim_pt =  mc['sim_jets'][:, 0]\n",
    "sim_eta = mc['sim_jets'][:, 1]\n",
    "sim_phi = mc['sim_jets'][:, 2]\n",
    "sim_m =   mc['sim_jets'][:, 3]\n",
    "\n",
    "sim = np.vstack([sim_pt, sim_eta, sim_phi, sim_m]).T"
   ]
  },
  {
   "cell_type": "code",
   "execution_count": 5,
   "metadata": {},
   "outputs": [],
   "source": [
    "dat = np.load(\"../data/zenodo/Herwig_Zjet_pTZ-200GeV_0.npz\")\n",
    "\n",
    "dat_pt =  dat['sim_jets'][:, 0] # dat[:, 0]\n",
    "dat_eta = dat['sim_jets'][:, 1]\n",
    "dat_phi = dat['sim_jets'][:, 2]\n",
    "dat_m =   dat['sim_jets'][:, 3]\n",
    "\n",
    "dat = np.vstack([dat_pt, dat_eta, dat_phi, dat_m]).T"
   ]
  },
  {
   "cell_type": "code",
   "execution_count": 6,
   "metadata": {},
   "outputs": [],
   "source": [
    "n, d = dat.shape"
   ]
  },
  {
   "cell_type": "markdown",
   "metadata": {
    "tags": []
   },
   "source": [
    "# 1D Flow"
   ]
  },
  {
   "cell_type": "code",
   "execution_count": 7,
   "metadata": {},
   "outputs": [],
   "source": [
    "data = dat[:, 0].reshape(dat.shape[0], -1)"
   ]
  },
  {
   "cell_type": "code",
   "execution_count": 8,
   "metadata": {},
   "outputs": [],
   "source": [
    "b_s = 100\n",
    "n_e = 10\n",
    "lr = 1e-3"
   ]
  },
  {
   "cell_type": "code",
   "execution_count": 9,
   "metadata": {},
   "outputs": [
    {
     "name": "stderr",
     "output_type": "stream",
     "text": [
      "2023-02-21 01:23:47.745825: I tensorflow/core/platform/cpu_feature_guard.cc:151] This TensorFlow binary is optimized with oneAPI Deep Neural Network Library (oneDNN) to use the following CPU instructions in performance-critical operations:  SSE4.1 SSE4.2 AVX AVX2 FMA\n",
      "To enable them in other operations, rebuild TensorFlow with the appropriate compiler flags.\n",
      "2023-02-21 01:23:48.331471: I tensorflow/core/common_runtime/gpu/gpu_device.cc:1525] Created device /job:localhost/replica:0/task:0/device:GPU:0 with 22251 MB memory:  -> device: 0, name: Quadro RTX 6000, pci bus id: 0000:81:00.0, compute capability: 7.5\n",
      "  0%|          | 0/5 [00:00<?, ?it/s]"
     ]
    },
    {
     "name": "stdout",
     "output_type": "stream",
     "text": [
      "WARNING:tensorflow:From /clusterfs/ml4hep/shahzar/miniconda/envs/multifold/lib/python3.10/site-packages/tensorflow_probability/python/math/ode/base.py:459: calling while_loop_v2 (from tensorflow.python.ops.control_flow_ops) with back_prop=False is deprecated and will be removed in a future version.\n",
      "Instructions for updating:\n",
      "back_prop=False is deprecated. Consider using tf.stop_gradient instead.\n",
      "Instead of:\n",
      "results = tf.while_loop(c, b, vars, back_prop=False)\n",
      "Use:\n",
      "results = tf.nest.map_structure(tf.stop_gradient, tf.while_loop(c, b, vars))\n"
     ]
    },
    {
     "name": "stderr",
     "output_type": "stream",
     "text": [
      "100%|██████████| 5/5 [1:49:06<00:00, 1309.29s/it]"
     ]
    },
    {
     "name": "stdout",
     "output_type": "stream",
     "text": [
      "CPU times: user 2h 20min 21s, sys: 7min 34s, total: 2h 27min 55s\n",
      "Wall time: 1h 49min 7s\n"
     ]
    },
    {
     "name": "stderr",
     "output_type": "stream",
     "text": [
      "\n"
     ]
    }
   ],
   "source": [
    "%%time\n",
    "target = flow(data, \n",
    "              ckpt_path = 'dat1D/ckpt',\n",
    "              batch_size = b_s,\n",
    "              num_epochs = n_e,\n",
    "              lr = lr)"
   ]
  },
  {
   "cell_type": "code",
   "execution_count": 10,
   "metadata": {},
   "outputs": [],
   "source": [
    "samp = target.sample(n)"
   ]
  },
  {
   "cell_type": "code",
   "execution_count": 11,
   "metadata": {},
   "outputs": [
    {
     "data": {
      "image/png": "[encoded data removed]",
      "text/plain": [
       "<Figure size 432x288 with 1 Axes>"
      ]
     },
     "metadata": {
      "needs_background": "light"
     },
     "output_type": "display_data"
    }
   ],
   "source": [
    "bins = np.linspace(0, 500, 50)\n",
    "plt.hist(data, bins = bins)\n",
    "plt.hist(samp.numpy(), bins = bins)\n",
    "plt.xlim(-100, 500)\n",
    "plt.savefig('b_s = {}, n_e = {}, lr = {}.png'.format(b_s, n_e, lr))"
   ]
  },
  {
   "cell_type": "markdown",
   "metadata": {},
   "source": [
    "# Load Flows"
   ]
  },
  {
   "cell_type": "code",
   "execution_count": 12,
   "metadata": {},
   "outputs": [],
   "source": [
    "dat_target = make_target(d)\n",
    "sim_target = make_target(d)\n",
    "\n",
    "dat_ckpt = tf.train.Checkpoint(dat_target)\n",
    "sim_ckpt = tf.train.Checkpoint(sim_target)"
   ]
  },
  {
   "cell_type": "code",
   "execution_count": 14,
   "metadata": {},
   "outputs": [
    {
     "data": {
      "text/plain": [
       "<tensorflow.python.training.tracking.util.CheckpointLoadStatus at 0x7f625799df00>"
      ]
     },
     "execution_count": 14,
     "metadata": {},
     "output_type": "execute_result"
    }
   ],
   "source": [
    "dat_ckpt.restore('dat/ckpt-79')\n",
    "sim_ckpt.restore('sim2/ckpt-40')"
   ]
  },
  {
   "cell_type": "code",
   "execution_count": 15,
   "metadata": {},
   "outputs": [],
   "source": [
    "dat_smp = dat_target.sample(n)\n",
    "sim_smp = sim_target.sample(n)"
   ]
  },
  {
   "cell_type": "markdown",
   "metadata": {
    "tags": []
   },
   "source": [
    "# Histograms"
   ]
  },
  {
   "cell_type": "code",
   "execution_count": 16,
   "metadata": {},
   "outputs": [],
   "source": [
    "def ratio_hist(truth, fit,\n",
    "               labels,\n",
    "               color = \"gray\",\n",
    "               figsize = (8, 8),\n",
    "               x_lim = None,\n",
    "               y_lim = None,\n",
    "               title = None,\n",
    "               filename = None):\n",
    "    fig, axs = plt.subplots(2, 1,\n",
    "                            figsize = figsize,\n",
    "                            sharex = True, \n",
    "                            gridspec_kw = {'height_ratios': [2, 1]})\n",
    "    \n",
    "    truth = truth[(truth > x_lim[0]) & (truth < x_lim[1])]\n",
    "    fit = fit[(fit > x_lim[0]) & (fit < x_lim[1])]\n",
    "    \n",
    "    t_hist = axs[0].hist(truth, bins = 50, density = True, color = color, alpha = 0.25, label = labels[0])\n",
    "    f_hist = axs[0].hist(fit, bins = 50, density = True, histtype = 'step', color = 'red', label = labels[1])\n",
    "    \n",
    "    axs[0].minorticks_on()\n",
    "    axs[0].tick_params(direction='in', which='both')\n",
    "    axs[0].legend()\n",
    "    \n",
    "    if y_lim:\n",
    "        axs[0].set_ylim(y_lim[0], y_lim[1])\n",
    "    if x_lim:\n",
    "        axs[0].set_xlim(x_lim[0], x_lim[1])\n",
    "    \n",
    "    bins = (f_hist[1] + np.diff(f_hist[1]).mean() / 2)[:-1]\n",
    "    axs[1].scatter(bins, f_hist[0] / t_hist[0], marker = '_', c = 'red', lw = 0.75)\n",
    "    axs[1].axhline(1,color=\"gray\", lw=0.5)\n",
    "    \n",
    "    axs[1].minorticks_on()\n",
    "    axs[1].tick_params(direction='in', which='both')\n",
    "    axs[1].set_ylim(0, 2)\n",
    "    \n",
    "    plt.xlabel(labels[2])\n",
    "    \n",
    "    if title:\n",
    "        axs[0].set_title(title, loc = \"right\")\n",
    "    if filename:\n",
    "        plt.savefig(filename, \n",
    "                    dpi = 300,\n",
    "                    transparent = True,\n",
    "                    bbox_inches = 'tight')"
   ]
  },
  {
   "cell_type": "markdown",
   "metadata": {
    "jp-MarkdownHeadingCollapsed": true,
    "tags": []
   },
   "source": [
    "## Data"
   ]
  },
  {
   "cell_type": "code",
   "execution_count": null,
   "metadata": {},
   "outputs": [],
   "source": [
    "ratio_hist(dat[:, 0], dat_smp[:, 0], \n",
    "           labels = ['Data', 'Flow', r'$p_T$'],\n",
    "           color = 'blue',\n",
    "           figsize = (w, h),\n",
    "           title = r'\\it $p_T$ (Data)',\n",
    "           x_lim = (0, 750),\n",
    "           filename = '../plots/zenodo/flows/dat/pT_data.png'\n",
    "          )"
   ]
  },
  {
   "cell_type": "code",
   "execution_count": null,
   "metadata": {},
   "outputs": [],
   "source": [
    "ratio_hist(dat[:, 1], dat_smp[:, 1], \n",
    "           labels = ['Data', 'Flow', r'$\\eta$'],\n",
    "           color = 'blue',\n",
    "           figsize = (w, h),\n",
    "           title = r'\\it $\\eta$ (Data)',\n",
    "           x_lim = (-5, 5),\n",
    "           filename = '../plots/zenodo/flows/dat/eta_data.png'\n",
    "          )"
   ]
  },
  {
   "cell_type": "code",
   "execution_count": null,
   "metadata": {},
   "outputs": [],
   "source": [
    "ratio_hist(dat[:, 2], dat_smp[:, 2], \n",
    "           labels = ['Data', 'Flow', r'$\\phi$'],\n",
    "           color = 'blue',\n",
    "           figsize = (w, h),\n",
    "           title = r'\\it $\\phi$ (Data)',\n",
    "           x_lim = (-1, 7),\n",
    "           filename = '../plots/zenodo/flows/dat/phi_data.png'\n",
    "          )"
   ]
  },
  {
   "cell_type": "code",
   "execution_count": null,
   "metadata": {},
   "outputs": [],
   "source": [
    "ratio_hist(dat[:, 3], dat_smp[:, 3], \n",
    "           labels = ['Data', 'Flow', r'$m$'],\n",
    "           color = 'blue',\n",
    "           figsize = (w, h),\n",
    "           title = r'\\it $m$ (Data)',\n",
    "           x_lim = (0, 80),\n",
    "           filename = '../plots/zenodo/flows/dat/m_data.png'\n",
    "          )"
   ]
  },
  {
   "cell_type": "markdown",
   "metadata": {
    "tags": []
   },
   "source": [
    "## MC"
   ]
  },
  {
   "cell_type": "code",
   "execution_count": 17,
   "metadata": {},
   "outputs": [
    {
     "data": {
      "image/png": "[encoded data removed]",
      "text/plain": [
       "<Figure size 252x234 with 2 Axes>"
      ]
     },
     "metadata": {
      "needs_background": "light"
     },
     "output_type": "display_data"
    }
   ],
   "source": [
    "ratio_hist(sim[:, 0], sim_smp[:, 0], \n",
    "           labels = ['MC', 'Flow', r'$p_T$'],\n",
    "           color = 'green',\n",
    "           figsize = (w, h),\n",
    "           title = r'\\it $p_T$ (MC)',\n",
    "           x_lim = (0, 750),\n",
    "           filename = '../plots/zenodo/flows/sim2/pT_mc.png'\n",
    "          )"
   ]
  },
  {
   "cell_type": "code",
   "execution_count": 18,
   "metadata": {},
   "outputs": [
    {
     "name": "stderr",
     "output_type": "stream",
     "text": [
      "/tmp/ipykernel_17918/4039115727.py:30: RuntimeWarning: divide by zero encountered in divide\n",
      "  axs[1].scatter(bins, f_hist[0] / t_hist[0], marker = '_', c = 'red', lw = 0.75)\n"
     ]
    },
    {
     "data": {
      "image/png": "[encoded data removed]",
      "text/plain": [
       "<Figure size 252x234 with 2 Axes>"
      ]
     },
     "metadata": {
      "needs_background": "light"
     },
     "output_type": "display_data"
    }
   ],
   "source": [
    "ratio_hist(sim[:, 1], sim_smp[:, 1], \n",
    "           labels = ['MC', 'Flow', r'$\\eta$'],\n",
    "           color = 'green',\n",
    "           figsize = (w, h),\n",
    "           title = r'\\it $\\eta$ (MC)',\n",
    "           x_lim = (-5, 5),\n",
    "           filename = '../plots/zenodo/flows/sim2/eta_mc.png'\n",
    "          )"
   ]
  },
  {
   "cell_type": "code",
   "execution_count": 19,
   "metadata": {},
   "outputs": [
    {
     "data": {
      "image/png": "[encoded data removed]",
      "text/plain": [
       "<Figure size 252x234 with 2 Axes>"
      ]
     },
     "metadata": {
      "needs_background": "light"
     },
     "output_type": "display_data"
    }
   ],
   "source": [
    "ratio_hist(sim[:, 2], sim_smp[:, 2], \n",
    "           labels = ['MC', 'Flow', r'$\\phi$'],\n",
    "           color = 'green',\n",
    "           figsize = (w, h),\n",
    "           title = r'\\it $\\phi$ (MC)',\n",
    "           x_lim = (-1, 7),\n",
    "           filename = '../plots/zenodo/flows/sim2/phi_mc.png'\n",
    "          )"
   ]
  },
  {
   "cell_type": "code",
   "execution_count": 20,
   "metadata": {},
   "outputs": [
    {
     "data": {
      "image/png": "[encoded data removed]",
      "text/plain": [
       "<Figure size 252x234 with 2 Axes>"
      ]
     },
     "metadata": {
      "needs_background": "light"
     },
     "output_type": "display_data"
    }
   ],
   "source": [
    "ratio_hist(sim[:, 3], sim_smp[:, 3], \n",
    "           labels = ['MC', 'Flow', r'$m$'],\n",
    "           color = 'green',\n",
    "           figsize = (w, h),\n",
    "           title = r'\\it $m$ (MC)',\n",
    "           x_lim = (0, 80),\n",
    "           filename = '../plots/zenodo/flows/sim2/m_mc.png'\n",
    "          )"
   ]
  },
  {
   "cell_type": "markdown",
   "metadata": {
    "jp-MarkdownHeadingCollapsed": true,
    "tags": []
   },
   "source": [
    "# Classification"
   ]
  },
  {
   "cell_type": "markdown",
   "metadata": {
    "jp-MarkdownHeadingCollapsed": true,
    "tags": []
   },
   "source": [
    "## MC"
   ]
  },
  {
   "cell_type": "code",
   "execution_count": null,
   "metadata": {},
   "outputs": [],
   "source": [
    "X_bkgd = sim_smp\n",
    "X_sgnl = sim"
   ]
  },
  {
   "cell_type": "code",
   "execution_count": null,
   "metadata": {},
   "outputs": [],
   "source": [
    "np.random.seed(666)\n",
    "\n",
    "# Create full dataset; randomly sample points from Data or Flow with chance 1/2.\n",
    "y = stats.bernoulli.rvs(0.5, size = n).astype('float32')\n",
    "X = np.zeros_like(X_bkgd)\n",
    "\n",
    "X[y == 0] = X_bkgd[y == 0]\n",
    "X[y == 1] = X_sgnl[y == 1]\n",
    "\n",
    "# Take 70% of data to be training data.\n",
    "N_trn = int(0.7*n)\n",
    "trn_idx = np.random.choice(range(n), N_trn, replace = False)\n",
    "tst_idx = [n for n in range(n) if n not in trn_idx]\n",
    "\n",
    "X_trn = X[trn_idx]\n",
    "y_trn = y[trn_idx]\n",
    "\n",
    "X_tst = X[tst_idx]\n",
    "y_tst = y[tst_idx]\n",
    "\n",
    "data, m, s = split_data(X_trn, y_trn)"
   ]
  },
  {
   "cell_type": "code",
   "execution_count": null,
   "metadata": {},
   "outputs": [],
   "source": [
    "params = {'loss':bce, 'd':4}\n",
    "\n",
    "clf, trace = train(data, **params)"
   ]
  },
  {
   "cell_type": "code",
   "execution_count": null,
   "metadata": {},
   "outputs": [],
   "source": [
    "y_hat = clf.predict(X_tst)\n",
    "fpr, tpr, ts = metrics.roc_curve(y_tst, y_hat)\n",
    "auc = metrics.roc_auc_score(y_tst, y_hat)"
   ]
  },
  {
   "cell_type": "code",
   "execution_count": null,
   "metadata": {},
   "outputs": [],
   "source": [
    "fig, ax = plt.subplots(figsize = (w, h))\n",
    "plt.plot(fpr, tpr)\n",
    "plt.plot(fpr, fpr, ls = ':', c = 'k', lw = 1)\n",
    "\n",
    "plt.title('\\it ROC Curve for MC', loc = 'right')\n",
    "plt.text(0.05, 0.9, 'AUC: {}'.format(round(auc, 2)))\n",
    "plt.xlabel('False Positive Rate')\n",
    "plt.ylabel('True Positive Rate')\n",
    "plt.ylim(0, 1)\n",
    "plt.xlim(0, 1)\n",
    "\n",
    "plt.gca().minorticks_on()\n",
    "plt.gca().tick_params(direction='in', which='both')\n",
    "plt.gca().set_aspect('equal')\n",
    "\n",
    "plt.savefig('../plots/zenodo/flows/sim/mc_roc.png', dpi = 300, transparent = True,\n",
    "            bbox_inches = 'tight')"
   ]
  },
  {
   "cell_type": "markdown",
   "metadata": {
    "jp-MarkdownHeadingCollapsed": true,
    "tags": []
   },
   "source": [
    "## Data"
   ]
  },
  {
   "cell_type": "code",
   "execution_count": null,
   "metadata": {},
   "outputs": [],
   "source": [
    "X_bkgd = dat_smp\n",
    "X_sgnl = dat"
   ]
  },
  {
   "cell_type": "code",
   "execution_count": null,
   "metadata": {},
   "outputs": [],
   "source": [
    "np.random.seed(666)\n",
    "\n",
    "# Create full dataset; randomly sample points from Data or Flow with chance 1/2.\n",
    "y = stats.bernoulli.rvs(0.5, size = n).astype('float32')\n",
    "X = np.zeros_like(X_bkgd)\n",
    "\n",
    "X[y == 0] = X_bkgd[y == 0]\n",
    "X[y == 1] = X_sgnl[y == 1]\n",
    "\n",
    "# Take 70% of data to be training data.\n",
    "N_trn = int(0.7*n)\n",
    "trn_idx = np.random.choice(range(n), N_trn, replace = False)\n",
    "tst_idx = [n for n in range(n) if n not in trn_idx]\n",
    "\n",
    "X_trn = X[trn_idx]\n",
    "y_trn = y[trn_idx]\n",
    "\n",
    "X_tst = X[tst_idx]\n",
    "y_tst = y[tst_idx]\n",
    "\n",
    "data, m, s = split_data(X_trn, y_trn)"
   ]
  },
  {
   "cell_type": "code",
   "execution_count": null,
   "metadata": {},
   "outputs": [],
   "source": [
    "params = {'loss':bce, 'd':4}\n",
    "\n",
    "clf, trace = train(data, **params)"
   ]
  },
  {
   "cell_type": "code",
   "execution_count": null,
   "metadata": {},
   "outputs": [],
   "source": [
    "y_hat = clf.predict(X_tst)\n",
    "fpr, tpr, ts = metrics.roc_curve(y_tst, y_hat)\n",
    "auc = metrics.roc_auc_score(y_tst, y_hat)"
   ]
  },
  {
   "cell_type": "code",
   "execution_count": null,
   "metadata": {},
   "outputs": [],
   "source": [
    "fig, ax = plt.subplots(figsize = (w, h))\n",
    "plt.plot(fpr, tpr)\n",
    "plt.plot(fpr, fpr, ls = ':', c = 'k', lw = 1)\n",
    "\n",
    "plt.title('\\it ROC Curve for Data', loc = 'right')\n",
    "plt.text(0.05, 0.9, 'AUC: {}'.format(round(auc, 2)))\n",
    "plt.xlabel('False Positive Rate')\n",
    "plt.ylabel('True Positive Rate')\n",
    "plt.ylim(0, 1)\n",
    "plt.xlim(0, 1)\n",
    "\n",
    "plt.gca().minorticks_on()\n",
    "plt.gca().tick_params(direction='in', which='both')\n",
    "plt.gca().set_aspect('equal')\n",
    "\n",
    "plt.savefig('../plots/zenodo/flows/dat/data_roc.png', dpi = 300, transparent = True,\n",
    "            bbox_inches = 'tight')"
   ]
  }
 ],
 "metadata": {
  "colab": {
   "collapsed_sections": [],
   "name": "FFJORD Demo",
   "provenance": [],
   "toc_visible": true
  },
  "kernelspec": {
   "display_name": "multifold",
   "language": "python",
   "name": "multifold"
  },
  "language_info": {
   "codemirror_mode": {
    "name": "ipython",
    "version": 3
   },
   "file_extension": ".py",
   "mimetype": "text/x-python",
   "name": "python",
   "nbconvert_exporter": "python",
   "pygments_lexer": "ipython3",
   "version": "3.10.5"
  }
 },
 "nbformat": 4,
 "nbformat_minor": 4
}
