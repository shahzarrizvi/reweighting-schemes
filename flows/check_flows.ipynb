{
 "cells": [
  {
   "cell_type": "code",
   "execution_count": null,
   "metadata": {},
   "outputs": [],
   "source": [
    "# Automatically reload modules after executing each cell.\n",
    "%load_ext autoreload\n",
    "%autoreload 2"
   ]
  },
  {
   "cell_type": "code",
   "execution_count": 1,
   "metadata": {},
   "outputs": [],
   "source": [
    "import tensorflow as tf\n",
    "from scipy import stats\n",
    "import numpy as np\n",
    "import sklearn.metrics as metrics\n",
    "from sklearn.ensemble import AdaBoostClassifier\n",
    "from sklearn.model_selection import train_test_split\n",
    "\n",
    "from matplotlib import pyplot as plt\n",
    "from matplotlib.patches import Patch\n",
    "from matplotlib import rc\n",
    "import matplotlib.font_manager\n",
    "rc('font', family='serif')\n",
    "rc('text', usetex=True)\n",
    "rc('font', size=10)        #22\n",
    "rc('xtick', labelsize=8)  #15\n",
    "rc('ytick', labelsize=8)  #15\n",
    "rc('legend', fontsize=8)  #15\n",
    "rc('text.latex', preamble=r'\\usepackage{amsmath}')\n",
    "\n",
    "# Plots have dimension (w,h)\n",
    "w = 3.5\n",
    "h = 3.25       \n",
    "\n",
    "from flows import *\n",
    "\n",
    "import sys\n",
    "import os\n",
    "\n",
    "sys.path.append('../')\n",
    "from utils.training import *\n",
    "from utils.losses import *\n",
    "\n",
    "np.random.seed(666)"
   ]
  },
  {
   "cell_type": "code",
   "execution_count": 2,
   "metadata": {},
   "outputs": [],
   "source": [
    "os.environ[\"CUDA_VISIBLE_DEVICES\"] = \"2\" # pick a number < 4 on ML4HEP; < 3 on Voltan \n",
    "physical_devices = tf.config.list_physical_devices('GPU') \n",
    "tf.config.experimental.set_memory_growth(physical_devices[0], True)"
   ]
  },
  {
   "cell_type": "code",
   "execution_count": 3,
   "metadata": {},
   "outputs": [],
   "source": [
    "mc = np.load(\"../data/zenodo/Pythia21_Zjet_pTZ-200GeV_0.npz\")\n",
    "\n",
    "sim_pt = mc['sim_jets'][:, 0]\n",
    "sim_eta = mc['sim_jets'][:, 1]\n",
    "sim_phi = mc['sim_jets'][:, 2]\n",
    "sim_m = mc['sim_jets'][:, 3]\n",
    "sim_mults = mc['sim_mults']\n",
    "sim_lhas = mc['sim_lhas']\n",
    "sim_widths = mc['sim_widths']\n",
    "sim_ang2s = mc['sim_ang2s']\n",
    "sim_tau2s = mc['sim_tau2s']\n",
    "sim_sdms = mc['sim_sdms']\n",
    "sim_zgs = mc['sim_zgs']\n",
    "\n",
    "sim = np.vstack([sim_pt, sim_eta, sim_phi, sim_m]).T"
   ]
  },
  {
   "cell_type": "code",
   "execution_count": 4,
   "metadata": {},
   "outputs": [],
   "source": [
    "dat = np.load(\"../data/zenodo/Herwig_Zjet_pTZ-200GeV_0.npz\")\n",
    "\n",
    "dat_pt =  dat['sim_jets'][:, 0] # dat[:, 0]\n",
    "dat_eta = dat['sim_jets'][:, 1]\n",
    "dat_phi = dat['sim_jets'][:, 2]\n",
    "dat_m =   dat['sim_jets'][:, 3]\n",
    "\n",
    "dat = np.vstack([dat_pt, dat_eta, dat_phi, dat_m]).T"
   ]
  },
  {
   "cell_type": "code",
   "execution_count": 5,
   "metadata": {},
   "outputs": [],
   "source": [
    "n, d = dat.shape"
   ]
  },
  {
   "cell_type": "markdown",
   "metadata": {
    "jp-MarkdownHeadingCollapsed": true,
    "tags": []
   },
   "source": [
    "# Load Flows"
   ]
  },
  {
   "cell_type": "code",
   "execution_count": null,
   "metadata": {},
   "outputs": [],
   "source": [
    "#dat_target = make_target(d)\n",
    "#dat_target = make_target(d, num_hidden = 16)\n",
    "#dat_target = make_target(d, num_ffjords = 8)\n",
    "dat_target = make_target(d) #dat10\n",
    "sim_target = make_target(d) #sim5\n",
    "\n",
    "dat_ckpt = tf.train.Checkpoint(dat_target)\n",
    "sim_ckpt = tf.train.Checkpoint(sim_target)"
   ]
  },
  {
   "cell_type": "code",
   "execution_count": null,
   "metadata": {},
   "outputs": [],
   "source": [
    "#dat_ckpt.restore('dat7/ckpt-392')\n",
    "#dat_ckpt.restore('dat8/ckpt-469')\n",
    "#dat_ckpt.restore('dat9/ckpt-392')\n",
    "#dat_ckpt.restore('dat12/ckpt-488')\n",
    "#sim_ckpt.restore('sim4/ckpt-379')\n",
    "dat_ckpt.restore('dat/full/ckpt-13228')\n",
    "sim_ckpt.restore('sim/full/ckpt-9838')\n",
    "#dat_ckpt.restore('dat/best/ckpt-451')\n",
    "#sim_ckpt.restore('sim/2/ckpt-327')"
   ]
  },
  {
   "cell_type": "code",
   "execution_count": null,
   "metadata": {},
   "outputs": [],
   "source": [
    "dat_smp = dat_target.sample(n)\n",
    "sim_smp = sim_target.sample(n)"
   ]
  },
  {
   "cell_type": "markdown",
   "metadata": {
    "jp-MarkdownHeadingCollapsed": true,
    "tags": []
   },
   "source": [
    "# Histograms"
   ]
  },
  {
   "cell_type": "code",
   "execution_count": null,
   "metadata": {},
   "outputs": [],
   "source": [
    "def ratio_hist(truth, fit,\n",
    "               labels,\n",
    "               color = \"gray\",\n",
    "               figsize = (8, 8),\n",
    "               x_lim = None,\n",
    "               y_lim = None,\n",
    "               title = None,\n",
    "               filename = None):\n",
    "    fig, axs = plt.subplots(2, 1,\n",
    "                            figsize = figsize,\n",
    "                            sharex = True, \n",
    "                            gridspec_kw = {'height_ratios': [2, 1]})\n",
    "    \n",
    "    truth = truth[(truth > x_lim[0]) & (truth < x_lim[1])]\n",
    "    fit = fit[(fit > x_lim[0]) & (fit < x_lim[1])]\n",
    "    \n",
    "    bins = np.linspace(x_lim[0], x_lim[1], 51)\n",
    "    \n",
    "    t_hist = axs[0].hist(truth, bins = bins, density = True, color = color, alpha = 0.25, label = labels[0])\n",
    "    f_hist = axs[0].hist(fit, bins = bins, density = True, histtype = 'step', color = 'red', label = labels[1])\n",
    "    \n",
    "    axs[0].minorticks_on()\n",
    "    axs[0].tick_params(direction='in', which='both')\n",
    "    axs[0].legend()\n",
    "    \n",
    "    if y_lim:\n",
    "        axs[0].set_ylim(y_lim[0], y_lim[1])\n",
    "    if x_lim:\n",
    "        axs[0].set_xlim(x_lim[0], x_lim[1])\n",
    "    \n",
    "    bins = (f_hist[1] + np.diff(f_hist[1]).mean() / 2)[:-1]\n",
    "    axs[1].scatter(bins, f_hist[0] / t_hist[0], marker = '_', c = 'red', lw = 0.75)\n",
    "    axs[1].axhline(1,color=\"gray\", lw=0.5)\n",
    "    \n",
    "    axs[1].minorticks_on()\n",
    "    axs[1].tick_params(direction='in', which='both')\n",
    "    axs[1].set_ylim(0, 2)\n",
    "    \n",
    "    plt.xlabel(labels[2])\n",
    "    \n",
    "    if title:\n",
    "        axs[0].set_title(title, loc = \"right\")\n",
    "    if filename:\n",
    "        plt.savefig(filename, \n",
    "                    dpi = 300,\n",
    "                    transparent = True,\n",
    "                    bbox_inches = 'tight')"
   ]
  },
  {
   "cell_type": "markdown",
   "metadata": {
    "jp-MarkdownHeadingCollapsed": true,
    "tags": []
   },
   "source": [
    "## Data"
   ]
  },
  {
   "cell_type": "code",
   "execution_count": null,
   "metadata": {},
   "outputs": [],
   "source": [
    "with tf.GradientTape() as tape:\n",
    "    loss = -tf.reduce_mean(dat_target.log_prob(dat[0:1000, :]))\n",
    "    \n",
    "loss = round(loss.numpy(), 2)\n",
    "loss"
   ]
  },
  {
   "cell_type": "code",
   "execution_count": null,
   "metadata": {},
   "outputs": [],
   "source": [
    "experiment = 'dat/full'"
   ]
  },
  {
   "cell_type": "code",
   "execution_count": null,
   "metadata": {},
   "outputs": [],
   "source": [
    "ratio_hist(dat[:, 0], dat_smp[:, 0], \n",
    "           labels = ['Data', 'Flow', r'$p_T$'],\n",
    "           color = 'blue',\n",
    "           figsize = (w, h),\n",
    "           title = r'\\it $p_T$ (Data)',\n",
    "           x_lim = (0, 750),\n",
    "           filename = '../plots/zenodo/flows/{}/pT_data.png'.format(experiment)\n",
    "          )"
   ]
  },
  {
   "cell_type": "code",
   "execution_count": null,
   "metadata": {},
   "outputs": [],
   "source": [
    "ratio_hist(dat[:, 1], dat_smp[:, 1], \n",
    "           labels = ['Data', 'Flow', r'$\\eta$'],\n",
    "           color = 'blue',\n",
    "           figsize = (w, h),\n",
    "           title = r'\\it $\\eta$ (Data)',\n",
    "           x_lim = (-5, 5),\n",
    "           filename = '../plots/zenodo/flows/{}/eta_data.png'.format(experiment)\n",
    "          )"
   ]
  },
  {
   "cell_type": "code",
   "execution_count": null,
   "metadata": {},
   "outputs": [],
   "source": [
    "ratio_hist(dat[:, 2], dat_smp[:, 2], \n",
    "           labels = ['Data', 'Flow', r'$\\phi$'],\n",
    "           color = 'blue',\n",
    "           figsize = (w, h),\n",
    "           title = r'\\it $\\phi$ (Data)',\n",
    "           x_lim = (-1, 7),\n",
    "           filename = '../plots/zenodo/flows/{}/phi_data.png'.format(experiment)\n",
    "          )"
   ]
  },
  {
   "cell_type": "code",
   "execution_count": null,
   "metadata": {},
   "outputs": [],
   "source": [
    "ratio_hist(dat[:, 3], dat_smp[:, 3], \n",
    "           labels = ['Data', 'Flow', r'$m$'],\n",
    "           color = 'blue',\n",
    "           figsize = (w, h),\n",
    "           title = r'\\it $m$ (Data)',\n",
    "           x_lim = (0, 80),\n",
    "           filename = '../plots/zenodo/flows/{}/m_data.png'.format(experiment)\n",
    "          )"
   ]
  },
  {
   "cell_type": "code",
   "execution_count": null,
   "metadata": {},
   "outputs": [],
   "source": [
    "ratio_hist(dat[:, 4], dat_smp[:, 4], \n",
    "           labels = ['Data', 'Flow', r'$w$'],\n",
    "           color = 'blue',\n",
    "           figsize = (w, h),\n",
    "           title = r'\\it $w$ (Data)',\n",
    "           x_lim = (0, 0.6),\n",
    "           filename = '../plots/zenodo/flows/{}/w_data.png'.format(experiment)\n",
    "          )"
   ]
  },
  {
   "cell_type": "code",
   "execution_count": null,
   "metadata": {},
   "outputs": [],
   "source": [
    "ratio_hist(dat[:, 5], dat_smp[:, 5], \n",
    "           labels = ['Data', 'Flow', r'sdms'],\n",
    "           color = 'blue',\n",
    "           figsize = (w, h),\n",
    "           title = r'\\it sdms (Data)',\n",
    "           x_lim = (0, 100),\n",
    "           filename = '../plots/zenodo/flows/{}/sdms_data.png'.format(experiment)\n",
    "          )"
   ]
  },
  {
   "cell_type": "markdown",
   "metadata": {
    "jp-MarkdownHeadingCollapsed": true,
    "tags": []
   },
   "source": [
    "## MC"
   ]
  },
  {
   "cell_type": "code",
   "execution_count": null,
   "metadata": {},
   "outputs": [],
   "source": [
    "with tf.GradientTape() as tape:\n",
    "    loss = -tf.reduce_mean(sim_target.log_prob(sim[0:1000, :]))\n",
    "    \n",
    "loss = round(loss.numpy(), 2)\n",
    "loss"
   ]
  },
  {
   "cell_type": "code",
   "execution_count": null,
   "metadata": {},
   "outputs": [],
   "source": [
    "experiment = 'sim/full'"
   ]
  },
  {
   "cell_type": "code",
   "execution_count": null,
   "metadata": {},
   "outputs": [],
   "source": [
    "ratio_hist(sim[:, 0], sim_smp[:, 0], \n",
    "           labels = ['MC', 'Flow', r'$p_T$'],\n",
    "           color = 'green',\n",
    "           figsize = (w, h),\n",
    "           title = r'\\it $p_T$ (MC)',\n",
    "           x_lim = (0, 750),\n",
    "           filename = '../plots/zenodo/flows/{}/pT_mc.png'.format(experiment)\n",
    "          )"
   ]
  },
  {
   "cell_type": "code",
   "execution_count": null,
   "metadata": {},
   "outputs": [],
   "source": [
    "ratio_hist(sim[:, 1], sim_smp[:, 1], \n",
    "           labels = ['MC', 'Flow', r'$\\eta$'],\n",
    "           color = 'green',\n",
    "           figsize = (w, h),\n",
    "           title = r'\\it $\\eta$ (MC)',\n",
    "           x_lim = (-5, 5),\n",
    "           filename = '../plots/zenodo/flows/{}/eta_mc.png'.format(experiment)\n",
    "          )"
   ]
  },
  {
   "cell_type": "code",
   "execution_count": null,
   "metadata": {},
   "outputs": [],
   "source": [
    "ratio_hist(sim[:, 2], sim_smp[:, 2], \n",
    "           labels = ['MC', 'Flow', r'$\\phi$'],\n",
    "           color = 'green',\n",
    "           figsize = (w, h),\n",
    "           title = r'\\it $\\phi$ (MC)',\n",
    "           x_lim = (-1, 7),\n",
    "           filename = '../plots/zenodo/flows/{}/phi_mc.png'.format(experiment)\n",
    "          )"
   ]
  },
  {
   "cell_type": "code",
   "execution_count": null,
   "metadata": {},
   "outputs": [],
   "source": [
    "ratio_hist(sim[:, 3], sim_smp[:, 3], \n",
    "           labels = ['MC', 'Flow', r'$m$'],\n",
    "           color = 'green',\n",
    "           figsize = (w, h),\n",
    "           title = r'\\it $m$ (MC)',\n",
    "           x_lim = (0, 80),\n",
    "           filename = '../plots/zenodo/flows/{}/m_mc.png'.format(experiment)\n",
    "          )"
   ]
  },
  {
   "cell_type": "code",
   "execution_count": null,
   "metadata": {},
   "outputs": [],
   "source": [
    "ratio_hist(sim[:, 4], sim_smp[:, 4], \n",
    "           labels = ['MC', 'Flow', r'$w$'],\n",
    "           color = 'green',\n",
    "           figsize = (w, h),\n",
    "           title = r'\\it $w$ (MC)',\n",
    "           x_lim = (0, 0.6),\n",
    "           filename = '../plots/zenodo/flows/{}/w_mc.png'.format(experiment)\n",
    "          )"
   ]
  },
  {
   "cell_type": "code",
   "execution_count": null,
   "metadata": {},
   "outputs": [],
   "source": [
    "ratio_hist(sim[:, 5], sim_smp[:, 5], \n",
    "           labels = ['MC', 'Flow', r'sdms'],\n",
    "           color = 'green',\n",
    "           figsize = (w, h),\n",
    "           title = r'\\it sdms (MC)',\n",
    "           x_lim = (0, 100),\n",
    "           filename = '../plots/zenodo/flows/{}/sdms_mc.png'.format(experiment)\n",
    "          )"
   ]
  },
  {
   "cell_type": "markdown",
   "metadata": {
    "jp-MarkdownHeadingCollapsed": true,
    "tags": []
   },
   "source": [
    "# Classification"
   ]
  },
  {
   "cell_type": "markdown",
   "metadata": {
    "jp-MarkdownHeadingCollapsed": true,
    "tags": []
   },
   "source": [
    "## MC"
   ]
  },
  {
   "cell_type": "code",
   "execution_count": null,
   "metadata": {},
   "outputs": [],
   "source": [
    "X_bkgd = sim_smp\n",
    "X_sgnl = sim"
   ]
  },
  {
   "cell_type": "code",
   "execution_count": null,
   "metadata": {},
   "outputs": [],
   "source": [
    "np.random.seed(666)\n",
    "\n",
    "# Create full dataset; randomly sample points from Data or Flow with chance 1/2.\n",
    "y = stats.bernoulli.rvs(0.5, size = n).astype('float32')\n",
    "X = np.zeros_like(X_bkgd)\n",
    "\n",
    "X[y == 0] = X_bkgd[y == 0]\n",
    "X[y == 1] = X_sgnl[y == 1]\n",
    "\n",
    "# Take 70% of data to be training data.\n",
    "N_trn = int(0.7*n)\n",
    "trn_idx = np.random.choice(range(n), N_trn, replace = False)\n",
    "tst_idx = [n for n in range(n) if n not in trn_idx]\n",
    "\n",
    "X_trn = X[trn_idx]\n",
    "y_trn = y[trn_idx]\n",
    "\n",
    "X_tst = X[tst_idx]\n",
    "y_tst = y[tst_idx]\n",
    "\n",
    "data, m, s = split_data(X_trn, y_trn)"
   ]
  },
  {
   "cell_type": "code",
   "execution_count": null,
   "metadata": {},
   "outputs": [],
   "source": [
    "from sklearn.ensemble import AdaBoostClassifier\n",
    "ab_clf = AdaBoostClassifier()\n",
    "ab_clf.fit(X_trn, y_trn)"
   ]
  },
  {
   "cell_type": "code",
   "execution_count": null,
   "metadata": {},
   "outputs": [],
   "source": [
    "y_hat = ab_clf.predict_proba(X_tst)[:, 1]\n",
    "fpr, tpr, ts = metrics.roc_curve(y_tst, y_hat)\n",
    "auc = metrics.roc_auc_score(y_tst, y_hat)"
   ]
  },
  {
   "cell_type": "code",
   "execution_count": null,
   "metadata": {},
   "outputs": [],
   "source": [
    "fig, ax = plt.subplots(figsize = (w, h))\n",
    "plt.plot(fpr, tpr)\n",
    "plt.plot(fpr, fpr, ls = ':', c = 'k', lw = 1)\n",
    "\n",
    "plt.title('\\it ROC Curve for MC', loc = 'right')\n",
    "plt.text(0.05, 0.9, 'AUC: {}'.format(round(auc, 4)))\n",
    "plt.text(0.04, 0.85, 'Loss: {}'.format(loss))\n",
    "plt.xlabel('False Positive Rate')\n",
    "plt.ylabel('True Positive Rate')\n",
    "plt.ylim(0, 1)\n",
    "plt.xlim(0, 1)\n",
    "\n",
    "plt.gca().minorticks_on()\n",
    "plt.gca().tick_params(direction='in', which='both')\n",
    "plt.gca().set_aspect('equal')\n",
    "\n",
    "plt.savefig('../plots/zenodo/flows/{}/mc_roc.png'.format(experiment), dpi = 300, transparent = True,\n",
    "            bbox_inches = 'tight')"
   ]
  },
  {
   "cell_type": "markdown",
   "metadata": {
    "jp-MarkdownHeadingCollapsed": true,
    "tags": []
   },
   "source": [
    "## Data"
   ]
  },
  {
   "cell_type": "code",
   "execution_count": null,
   "metadata": {},
   "outputs": [],
   "source": [
    "X_bkgd = dat_smp\n",
    "X_sgnl = dat"
   ]
  },
  {
   "cell_type": "code",
   "execution_count": null,
   "metadata": {},
   "outputs": [],
   "source": [
    "np.random.seed(666)\n",
    "\n",
    "# Create full dataset; randomly sample points from Data or Flow with chance 1/2.\n",
    "y = stats.bernoulli.rvs(0.5, size = n).astype('float32')\n",
    "X = np.zeros_like(X_bkgd)\n",
    "\n",
    "X[y == 0] = X_bkgd[y == 0]\n",
    "X[y == 1] = X_sgnl[y == 1]\n",
    "\n",
    "# Take 70% of data to be training data.\n",
    "N_trn = int(0.7*n)\n",
    "trn_idx = np.random.choice(range(n), N_trn, replace = False)\n",
    "tst_idx = [n for n in range(n) if n not in trn_idx]\n",
    "\n",
    "X_trn = X[trn_idx]\n",
    "y_trn = y[trn_idx]\n",
    "\n",
    "X_tst = X[tst_idx]\n",
    "y_tst = y[tst_idx]\n",
    "\n",
    "data, m, s = split_data(X_trn, y_trn)"
   ]
  },
  {
   "cell_type": "code",
   "execution_count": null,
   "metadata": {},
   "outputs": [],
   "source": [
    "from sklearn.ensemble import AdaBoostClassifier\n",
    "ab_clf = AdaBoostClassifier()\n",
    "ab_clf.fit(X_trn, y_trn)"
   ]
  },
  {
   "cell_type": "code",
   "execution_count": null,
   "metadata": {},
   "outputs": [],
   "source": [
    "y_hat = ab_clf.predict_proba(X_tst)[:, 1]\n",
    "fpr, tpr, ts = metrics.roc_curve(y_tst, y_hat)\n",
    "auc = metrics.roc_auc_score(y_tst, y_hat)"
   ]
  },
  {
   "cell_type": "code",
   "execution_count": null,
   "metadata": {},
   "outputs": [],
   "source": [
    "fig, ax = plt.subplots(figsize = (w, h))\n",
    "plt.plot(fpr, tpr)\n",
    "plt.plot(fpr, fpr, ls = ':', c = 'k', lw = 1)\n",
    "\n",
    "plt.title('\\it ROC Curve for Data', loc = 'right')\n",
    "plt.text(0.05, 0.9, 'AUC: {}'.format(round(auc, 4)))\n",
    "plt.xlabel('False Positive Rate')\n",
    "plt.ylabel('True Positive Rate')\n",
    "plt.ylim(0, 1)\n",
    "plt.xlim(0, 1)\n",
    "\n",
    "plt.gca().minorticks_on()\n",
    "plt.gca().tick_params(direction='in', which='both')\n",
    "plt.gca().set_aspect('equal')\n",
    "\n",
    "plt.savefig('../plots/zenodo/flows/{}/data_roc.png'.format(experiment), dpi = 300, transparent = True,\n",
    "            bbox_inches = 'tight')"
   ]
  },
  {
   "cell_type": "markdown",
   "metadata": {
    "tags": []
   },
   "source": [
    "# Checkpoint Checks"
   ]
  },
  {
   "cell_type": "code",
   "execution_count": 6,
   "metadata": {},
   "outputs": [],
   "source": [
    "def calculate_auc(fake, real):\n",
    "    np.random.seed(666)\n",
    "    n, d = fake.shape\n",
    "    y = stats.bernoulli.rvs(0.5, size = n).astype('float32')\n",
    "    X = np.zeros_like(fake)\n",
    "    X[y == 0] = real[y == 0]\n",
    "    X[y == 1] = fake[y == 1]\n",
    "\n",
    "    # Take 70% of data to be training data.\n",
    "    X_trn, X_tst, y_trn, y_tst = train_test_split(X, y, train_size = 0.7)\n",
    "    ab_clf = AdaBoostClassifier()\n",
    "    ab_clf.fit(X_trn, y_trn)\n",
    "    \n",
    "    y_hat = ab_clf.predict_proba(X_tst)[:, 1]\n",
    "    auc = metrics.roc_auc_score(y_tst, y_hat)\n",
    "    return auc"
   ]
  },
  {
   "cell_type": "markdown",
   "metadata": {
    "jp-MarkdownHeadingCollapsed": true,
    "tags": []
   },
   "source": [
    "## Dat Best"
   ]
  },
  {
   "cell_type": "code",
   "execution_count": null,
   "metadata": {},
   "outputs": [],
   "source": [
    "num_ckpts = 534\n",
    "ns = np.arange(1, num_ckpts + 1)\n",
    "\n",
    "aucs = np.zeros(num_ckpts)\n",
    "\n",
    "for i in ns:\n",
    "    dat_target = make_target(d)\n",
    "    dat_ckpt = tf.train.Checkpoint(dat_target)\n",
    "    dat_ckpt.restore('dat/best/ckpt-{}'.format(i))\n",
    "    \n",
    "    dat_smp = dat_target.sample(n)\n",
    "    aucs[i - 1] = calculate_auc(dat_smp, dat)\n",
    "    print(i, '\\t', round(aucs[i - 1], 4))"
   ]
  },
  {
   "cell_type": "code",
   "execution_count": null,
   "metadata": {},
   "outputs": [],
   "source": [
    "plt.plot(ns, aucs)\n",
    "print(ns[aucs == np.min(aucs)], '\\t', aucs[aucs == np.min(aucs)])"
   ]
  },
  {
   "cell_type": "code",
   "execution_count": null,
   "metadata": {},
   "outputs": [],
   "source": [
    "plt.plot(ns, aucs)\n",
    "plt.ylim(0.51, 0.57)"
   ]
  },
  {
   "cell_type": "markdown",
   "metadata": {
    "jp-MarkdownHeadingCollapsed": true,
    "tags": []
   },
   "source": [
    "## Sim 1"
   ]
  },
  {
   "cell_type": "code",
   "execution_count": null,
   "metadata": {},
   "outputs": [],
   "source": [
    "num_ckpts = 77\n",
    "num_sim = 1\n",
    "ns = np.arange(1, num_ckpts + 1)\n",
    "\n",
    "aucs = np.zeros(num_ckpts)\n",
    "\n",
    "for i in ns:\n",
    "    sim_target = make_target(d)\n",
    "    sim_ckpt = tf.train.Checkpoint(sim_target)\n",
    "    sim_ckpt.restore('sim/{}/ckpt-{}'.format(num_sim, i))\n",
    "    \n",
    "    sim_smp = sim_target.sample(n)\n",
    "    aucs[i - 1] = calculate_auc(sim_smp, sim)\n",
    "    print(i, '\\t', round(aucs[i - 1], 4))"
   ]
  },
  {
   "cell_type": "code",
   "execution_count": null,
   "metadata": {},
   "outputs": [],
   "source": [
    "plt.plot(ns, aucs)\n",
    "print(ns[aucs == np.min(aucs)], '\\t', aucs[aucs == np.min(aucs)])"
   ]
  },
  {
   "cell_type": "markdown",
   "metadata": {
    "jp-MarkdownHeadingCollapsed": true,
    "tags": []
   },
   "source": [
    "## Sim 2"
   ]
  },
  {
   "cell_type": "code",
   "execution_count": null,
   "metadata": {},
   "outputs": [],
   "source": [
    "num_ckpts = 392\n",
    "num_sim = 2\n",
    "ns = np.arange(1, num_ckpts + 1)\n",
    "\n",
    "aucs = np.zeros(num_ckpts)\n",
    "\n",
    "for i in ns:\n",
    "    sim_target = make_target(d)\n",
    "    sim_ckpt = tf.train.Checkpoint(sim_target)\n",
    "    sim_ckpt.restore('sim/{}/ckpt-{}'.format(num_sim, i))\n",
    "    \n",
    "    sim_smp = sim_target.sample(n)\n",
    "    aucs[i - 1] = calculate_auc(sim_smp, sim)\n",
    "    print(i, '\\t', round(aucs[i - 1], 4))"
   ]
  },
  {
   "cell_type": "code",
   "execution_count": null,
   "metadata": {},
   "outputs": [],
   "source": [
    "plt.plot(ns, aucs)\n",
    "print(ns[aucs == np.min(aucs)], '\\t', aucs[aucs == np.min(aucs)])"
   ]
  },
  {
   "cell_type": "markdown",
   "metadata": {
    "jp-MarkdownHeadingCollapsed": true,
    "tags": []
   },
   "source": [
    "## Sim 3"
   ]
  },
  {
   "cell_type": "code",
   "execution_count": null,
   "metadata": {},
   "outputs": [],
   "source": [
    "num_ckpts = 392\n",
    "num_sim = 3\n",
    "ns = np.arange(1, num_ckpts + 1)\n",
    "\n",
    "aucs = np.zeros(num_ckpts)\n",
    "\n",
    "for i in ns:\n",
    "    sim_target = make_target(d)\n",
    "    sim_ckpt = tf.train.Checkpoint(sim_target)\n",
    "    sim_ckpt.restore('sim/{}/ckpt-{}'.format(num_sim, i))\n",
    "    \n",
    "    sim_smp = sim_target.sample(n)\n",
    "    aucs[i - 1] = calculate_auc(sim_smp, sim)\n",
    "    print(i, '\\t', round(aucs[i - 1], 4))"
   ]
  },
  {
   "cell_type": "code",
   "execution_count": null,
   "metadata": {},
   "outputs": [],
   "source": [
    "plt.plot(ns, aucs)\n",
    "print(ns[aucs == np.min(aucs)], '\\t', aucs[aucs == np.min(aucs)])"
   ]
  },
  {
   "cell_type": "markdown",
   "metadata": {
    "jp-MarkdownHeadingCollapsed": true,
    "tags": []
   },
   "source": [
    "## Sim 4"
   ]
  },
  {
   "cell_type": "code",
   "execution_count": null,
   "metadata": {},
   "outputs": [],
   "source": [
    "num_ckpts = 39\n",
    "num_sim = 4\n",
    "ns = np.arange(1, num_ckpts + 1)\n",
    "\n",
    "aucs = np.zeros(num_ckpts)\n",
    "\n",
    "for i in ns:\n",
    "    sim_target = make_target(d)\n",
    "    sim_ckpt = tf.train.Checkpoint(sim_target)\n",
    "    sim_ckpt.restore('sim/{}/ckpt-{}'.format(num_sim, i))\n",
    "    \n",
    "    sim_smp = sim_target.sample(n)\n",
    "    aucs[i - 1] = calculate_auc(sim_smp, sim)\n",
    "    print(i, '\\t', round(aucs[i - 1], 4))"
   ]
  },
  {
   "cell_type": "code",
   "execution_count": null,
   "metadata": {},
   "outputs": [],
   "source": [
    "plt.plot(ns, aucs)\n",
    "print(ns[aucs == np.min(aucs)], '\\t', aucs[aucs == np.min(aucs)])"
   ]
  },
  {
   "cell_type": "markdown",
   "metadata": {
    "jp-MarkdownHeadingCollapsed": true,
    "tags": []
   },
   "source": [
    "## Sim 5"
   ]
  },
  {
   "cell_type": "code",
   "execution_count": null,
   "metadata": {},
   "outputs": [],
   "source": [
    "num_ckpts = 196\n",
    "num_sim = 5\n",
    "ns = np.arange(1, num_ckpts + 1)\n",
    "\n",
    "aucs = np.zeros(num_ckpts)\n",
    "\n",
    "for i in ns:\n",
    "    sim_target = make_target(d)\n",
    "    sim_ckpt = tf.train.Checkpoint(sim_target)\n",
    "    sim_ckpt.restore('sim/{}/ckpt-{}'.format(num_sim, i))\n",
    "    \n",
    "    sim_smp = sim_target.sample(n)\n",
    "    aucs[i - 1] = calculate_auc(sim_smp, sim)\n",
    "    print(i, '\\t', round(aucs[i - 1], 4))"
   ]
  },
  {
   "cell_type": "code",
   "execution_count": null,
   "metadata": {},
   "outputs": [],
   "source": [
    "plt.plot(ns, aucs)\n",
    "print(ns[aucs == np.min(aucs)], '\\t', aucs[aucs == np.min(aucs)])"
   ]
  },
  {
   "cell_type": "markdown",
   "metadata": {
    "jp-MarkdownHeadingCollapsed": true,
    "tags": []
   },
   "source": [
    "## Sim 6"
   ]
  },
  {
   "cell_type": "code",
   "execution_count": null,
   "metadata": {},
   "outputs": [],
   "source": [
    "num_ckpts = 196\n",
    "num_sim = 6\n",
    "ns = np.arange(1, num_ckpts + 1)\n",
    "\n",
    "aucs = np.zeros(num_ckpts)\n",
    "\n",
    "for i in ns:\n",
    "    sim_target = make_target(d)\n",
    "    sim_ckpt = tf.train.Checkpoint(sim_target)\n",
    "    sim_ckpt.restore('sim/{}/ckpt-{}'.format(num_sim, i))\n",
    "    \n",
    "    sim_smp = sim_target.sample(n)\n",
    "    aucs[i - 1] = calculate_auc(sim_smp, sim)\n",
    "    print(i, '\\t', round(aucs[i - 1], 4))"
   ]
  },
  {
   "cell_type": "code",
   "execution_count": null,
   "metadata": {},
   "outputs": [],
   "source": [
    "plt.plot(ns, aucs)\n",
    "print(ns[aucs == np.min(aucs)], '\\t', aucs[aucs == np.min(aucs)])"
   ]
  },
  {
   "cell_type": "markdown",
   "metadata": {
    "jp-MarkdownHeadingCollapsed": true,
    "tags": []
   },
   "source": [
    "## Sim 7"
   ]
  },
  {
   "cell_type": "code",
   "execution_count": null,
   "metadata": {},
   "outputs": [],
   "source": [
    "num_ckpts = 47\n",
    "num_sim = 7\n",
    "ns = np.arange(1, num_ckpts + 1)\n",
    "\n",
    "aucs = np.zeros(num_ckpts)\n",
    "\n",
    "for i in ns:\n",
    "    sim_target = make_target(d)\n",
    "    sim_ckpt = tf.train.Checkpoint(sim_target)\n",
    "    sim_ckpt.restore('sim/{}/ckpt-{}'.format(num_sim, i))\n",
    "    \n",
    "    sim_smp = sim_target.sample(n)\n",
    "    aucs[i - 1] = calculate_auc(sim_smp, sim)\n",
    "    print(i, '\\t', round(aucs[i - 1], 4))"
   ]
  },
  {
   "cell_type": "code",
   "execution_count": null,
   "metadata": {},
   "outputs": [],
   "source": [
    "plt.plot(ns, aucs)\n",
    "print(ns[aucs == np.min(aucs)], '\\t', aucs[aucs == np.min(aucs)])"
   ]
  },
  {
   "cell_type": "markdown",
   "metadata": {
    "jp-MarkdownHeadingCollapsed": true,
    "tags": []
   },
   "source": [
    "## Sim 8"
   ]
  },
  {
   "cell_type": "code",
   "execution_count": null,
   "metadata": {},
   "outputs": [],
   "source": [
    "num_ckpts = 99\n",
    "num_sim = 8\n",
    "ns = np.arange(1, num_ckpts + 1)\n",
    "\n",
    "aucs = np.zeros(num_ckpts)\n",
    "\n",
    "for i in ns:\n",
    "    sim_target = make_target(d)\n",
    "    sim_ckpt = tf.train.Checkpoint(sim_target)\n",
    "    sim_ckpt.restore('sim/{}/ckpt-{}'.format(num_sim, i))\n",
    "    \n",
    "    sim_smp = sim_target.sample(n)\n",
    "    aucs[i - 1] = calculate_auc(sim_smp, sim)\n",
    "    print(i, '\\t', round(aucs[i - 1], 4))"
   ]
  },
  {
   "cell_type": "code",
   "execution_count": null,
   "metadata": {},
   "outputs": [],
   "source": [
    "plt.plot(ns, aucs)\n",
    "print(ns[aucs == np.min(aucs)], '\\t', aucs[aucs == np.min(aucs)])"
   ]
  },
  {
   "cell_type": "markdown",
   "metadata": {
    "jp-MarkdownHeadingCollapsed": true,
    "tags": []
   },
   "source": [
    "## Sim 9"
   ]
  },
  {
   "cell_type": "code",
   "execution_count": null,
   "metadata": {},
   "outputs": [],
   "source": [
    "num_ckpts = 99\n",
    "num_sim = 9\n",
    "ns = np.arange(1, num_ckpts + 1)\n",
    "\n",
    "aucs = np.zeros(num_ckpts)\n",
    "\n",
    "for i in ns:\n",
    "    sim_target = make_target(d)\n",
    "    sim_ckpt = tf.train.Checkpoint(sim_target)\n",
    "    sim_ckpt.restore('sim/{}/ckpt-{}'.format(num_sim, i))\n",
    "    \n",
    "    sim_smp = sim_target.sample(n)\n",
    "    aucs[i - 1] = calculate_auc(sim_smp, sim)\n",
    "    print(i, '\\t', round(aucs[i - 1], 4))"
   ]
  },
  {
   "cell_type": "code",
   "execution_count": null,
   "metadata": {},
   "outputs": [],
   "source": [
    "plt.plot(ns, aucs)\n",
    "print(ns[aucs == np.min(aucs)], '\\t', aucs[aucs == np.min(aucs)])"
   ]
  },
  {
   "cell_type": "code",
   "execution_count": null,
   "metadata": {},
   "outputs": [],
   "source": [
    "mc = np.load(\"../data/zenodo/Pythia21_Zjet_pTZ-200GeV_0.npz\")\n",
    "\n",
    "sim_pt = mc['sim_jets'][:, 0]\n",
    "sim_eta = mc['sim_jets'][:, 1]\n",
    "sim_phi = mc['sim_jets'][:, 2]\n",
    "sim_m = mc['sim_jets'][:, 3]\n",
    "sim_w = mc['sim_widths']\n",
    "sim_sdms = mc['sim_sdms']\n",
    "\n",
    "sim = np.vstack([sim_pt, sim_eta, sim_phi, sim_m, sim_w, sim_sdms]).T"
   ]
  },
  {
   "cell_type": "code",
   "execution_count": null,
   "metadata": {},
   "outputs": [],
   "source": [
    "dat = np.load(\"../data/zenodo/Herwig_Zjet_pTZ-200GeV_0.npz\")\n",
    "\n",
    "dat_pt =  dat['sim_jets'][:, 0] # dat[:, 0]\n",
    "dat_eta = dat['sim_jets'][:, 1]\n",
    "dat_phi = dat['sim_jets'][:, 2]\n",
    "dat_m =   dat['sim_jets'][:, 3]\n",
    "dat_w = dat['sim_widths']\n",
    "dat_sdms = dat['sim_sdms']\n",
    "\n",
    "dat = np.vstack([dat_pt, dat_eta, dat_phi, dat_m, dat_w, dat_sdms]).T"
   ]
  },
  {
   "cell_type": "code",
   "execution_count": null,
   "metadata": {},
   "outputs": [],
   "source": [
    "n, d = dat.shape"
   ]
  },
  {
   "cell_type": "markdown",
   "metadata": {
    "jp-MarkdownHeadingCollapsed": true,
    "tags": []
   },
   "source": [
    "# 6 Vectors"
   ]
  },
  {
   "cell_type": "code",
   "execution_count": 11,
   "metadata": {},
   "outputs": [],
   "source": [
    "mc = np.load(\"../data/zenodo/Pythia21_Zjet_pTZ-200GeV_0.npz\")\n",
    "\n",
    "sim_pt = mc['sim_jets'][:, 0]\n",
    "sim_eta = mc['sim_jets'][:, 1]\n",
    "sim_phi = mc['sim_jets'][:, 2]\n",
    "sim_m = mc['sim_jets'][:, 3]\n",
    "sim_w = mc['sim_widths']\n",
    "sim_sdms = mc['sim_sdms']\n",
    "\n",
    "sim = np.vstack([sim_pt, sim_eta, sim_phi, sim_m, sim_w, sim_sdms]).T"
   ]
  },
  {
   "cell_type": "code",
   "execution_count": 12,
   "metadata": {},
   "outputs": [],
   "source": [
    "dat = np.load(\"../data/zenodo/Herwig_Zjet_pTZ-200GeV_0.npz\")\n",
    "\n",
    "dat_pt =  dat['sim_jets'][:, 0] # dat[:, 0]\n",
    "dat_eta = dat['sim_jets'][:, 1]\n",
    "dat_phi = dat['sim_jets'][:, 2]\n",
    "dat_m =   dat['sim_jets'][:, 3]\n",
    "dat_w = dat['sim_widths']\n",
    "dat_sdms = dat['sim_sdms']\n",
    "\n",
    "dat = np.vstack([dat_pt, dat_eta, dat_phi, dat_m, dat_w, dat_sdms]).T"
   ]
  },
  {
   "cell_type": "code",
   "execution_count": 13,
   "metadata": {},
   "outputs": [],
   "source": [
    "n, d = dat.shape"
   ]
  },
  {
   "cell_type": "markdown",
   "metadata": {
    "jp-MarkdownHeadingCollapsed": true,
    "tags": []
   },
   "source": [
    "## Sim Full"
   ]
  },
  {
   "cell_type": "code",
   "execution_count": null,
   "metadata": {},
   "outputs": [
    {
     "name": "stdout",
     "output_type": "stream",
     "text": [
      "100 \t 1.0\n",
      "200 \t 1.0\n",
      "WARNING:tensorflow:Detecting that an object or model or tf.train.Checkpoint is being deleted with unrestored values. See the following logs for the specific values in question. To silence these warnings, use `status.expect_partial()`. See https://www.tensorflow.org/api_docs/python/tf/train/Checkpoint#restorefor details about the status object returned by the restore function.\n",
      "WARNING:tensorflow:Value in checkpoint could not be found in the restored object: (root)._bijector._bijectors_trackable.0._state_time_derivative_fn._modules.0.w\n",
      "WARNING:tensorflow:Value in checkpoint could not be found in the restored object: (root)._bijector._bijectors_trackable.0._state_time_derivative_fn._modules.0.b\n",
      "WARNING:tensorflow:Value in checkpoint could not be found in the restored object: (root)._bijector._bijectors_trackable.0._state_time_derivative_fn._modules.2.w\n",
      "WARNING:tensorflow:Value in checkpoint could not be found in the restored object: (root)._bijector._bijectors_trackable.0._state_time_derivative_fn._modules.2.b\n",
      "WARNING:tensorflow:Value in checkpoint could not be found in the restored object: (root)._bijector._bijectors_trackable.0._state_time_derivative_fn._modules.4.w\n",
      "WARNING:tensorflow:Value in checkpoint could not be found in the restored object: (root)._bijector._bijectors_trackable.0._state_time_derivative_fn._modules.4.b\n",
      "WARNING:tensorflow:Value in checkpoint could not be found in the restored object: (root)._bijector._bijectors_trackable.1._state_time_derivative_fn._modules.0.w\n",
      "WARNING:tensorflow:Value in checkpoint could not be found in the restored object: (root)._bijector._bijectors_trackable.1._state_time_derivative_fn._modules.0.b\n",
      "WARNING:tensorflow:Value in checkpoint could not be found in the restored object: (root)._bijector._bijectors_trackable.1._state_time_derivative_fn._modules.2.w\n",
      "WARNING:tensorflow:Value in checkpoint could not be found in the restored object: (root)._bijector._bijectors_trackable.1._state_time_derivative_fn._modules.2.b\n",
      "WARNING:tensorflow:Value in checkpoint could not be found in the restored object: (root)._bijector._bijectors_trackable.1._state_time_derivative_fn._modules.4.w\n",
      "WARNING:tensorflow:Value in checkpoint could not be found in the restored object: (root)._bijector._bijectors_trackable.1._state_time_derivative_fn._modules.4.b\n",
      "WARNING:tensorflow:Value in checkpoint could not be found in the restored object: (root)._bijector._bijectors_trackable.2._state_time_derivative_fn._modules.0.w\n",
      "WARNING:tensorflow:Value in checkpoint could not be found in the restored object: (root)._bijector._bijectors_trackable.2._state_time_derivative_fn._modules.0.b\n",
      "WARNING:tensorflow:Value in checkpoint could not be found in the restored object: (root)._bijector._bijectors_trackable.2._state_time_derivative_fn._modules.2.w\n",
      "WARNING:tensorflow:Value in checkpoint could not be found in the restored object: (root)._bijector._bijectors_trackable.2._state_time_derivative_fn._modules.2.b\n",
      "WARNING:tensorflow:Value in checkpoint could not be found in the restored object: (root)._bijector._bijectors_trackable.2._state_time_derivative_fn._modules.4.w\n",
      "WARNING:tensorflow:Value in checkpoint could not be found in the restored object: (root)._bijector._bijectors_trackable.2._state_time_derivative_fn._modules.4.b\n",
      "WARNING:tensorflow:Value in checkpoint could not be found in the restored object: (root)._bijector._bijectors_trackable.3._state_time_derivative_fn._modules.0.b\n",
      "WARNING:tensorflow:Value in checkpoint could not be found in the restored object: (root)._bijector._bijectors_trackable.3._state_time_derivative_fn._modules.2.w\n",
      "WARNING:tensorflow:Value in checkpoint could not be found in the restored object: (root)._bijector._bijectors_trackable.3._state_time_derivative_fn._modules.2.b\n",
      "WARNING:tensorflow:Value in checkpoint could not be found in the restored object: (root)._bijector._bijectors_trackable.3._state_time_derivative_fn._modules.4.w\n",
      "WARNING:tensorflow:Value in checkpoint could not be found in the restored object: (root)._bijector._bijectors_trackable.3._state_time_derivative_fn._modules.4.b\n",
      "300 \t 0.9998\n",
      "400 \t 0.9977\n",
      "500 \t 0.9944\n",
      "600 \t 0.9841\n",
      "700 \t 0.9517\n",
      "800 \t 0.9167\n",
      "900 \t 0.8855\n",
      "1000 \t 0.8434\n",
      "1100 \t 0.8013\n",
      "1200 \t 0.7726\n",
      "1300 \t 0.7449\n",
      "1400 \t 0.7277\n",
      "1500 \t 0.7137\n",
      "1600 \t 0.7117\n",
      "1700 \t 0.6992\n"
     ]
    }
   ],
   "source": [
    "num_ckpts = 10500\n",
    "ns = np.arange(1, num_ckpts + 1)\n",
    "\n",
    "aucs = np.zeros(num_ckpts)\n",
    "\n",
    "for i in ns:\n",
    "    sim_target = make_target(d)\n",
    "    sim_ckpt = tf.train.Checkpoint(sim_target)\n",
    "    sim_ckpt.restore('sim/full/ckpt-{}'.format(i))\n",
    "    \n",
    "    sim_smp = sim_target.sample(n)\n",
    "    aucs[i - 1] = calculate_auc(sim_smp, sim)\n",
    "    if i % 100 == 0:\n",
    "        print(i, '\\t', round(aucs[i - 1], 4))"
   ]
  },
  {
   "cell_type": "code",
   "execution_count": null,
   "metadata": {},
   "outputs": [],
   "source": [
    "plt.plot(ns, aucs)\n",
    "print(ns[aucs == np.min(aucs)], '\\t', aucs[aucs == np.min(aucs)])"
   ]
  },
  {
   "cell_type": "code",
   "execution_count": null,
   "metadata": {},
   "outputs": [],
   "source": [
    "np.save('sim_aucs.npy', aucs)"
   ]
  },
  {
   "cell_type": "markdown",
   "metadata": {},
   "source": [
    "## Dat Full"
   ]
  },
  {
   "cell_type": "code",
   "execution_count": null,
   "metadata": {},
   "outputs": [],
   "source": [
    "num_ckpts = 14500\n",
    "ns = np.arange(1, num_ckpts + 1)\n",
    "\n",
    "aucs = np.zeros(num_ckpts)\n",
    "\n",
    "for i in ns:\n",
    "    dat_target = make_target(d)\n",
    "    dat_ckpt = tf.train.Checkpoint(dat_target)\n",
    "    dat_ckpt.restore('dat/full/ckpt-{}'.format(i))\n",
    "    \n",
    "    dat_smp = dat_target.sample(n)\n",
    "    aucs[i - 1] = calculate_auc(dat_smp, dat)\n",
    "    if i % 100 == 0:\n",
    "        print(i, '\\t', round(aucs[i - 1], 4))"
   ]
  },
  {
   "cell_type": "code",
   "execution_count": null,
   "metadata": {},
   "outputs": [],
   "source": [
    "plt.plot(ns, aucs)\n",
    "print(ns[aucs == np.min(aucs)], '\\t', aucs[aucs == np.min(aucs)])"
   ]
  },
  {
   "cell_type": "code",
   "execution_count": null,
   "metadata": {},
   "outputs": [],
   "source": [
    "np.save('dat_aucs.npy', aucs)"
   ]
  },
  {
   "cell_type": "markdown",
   "metadata": {
    "jp-MarkdownHeadingCollapsed": true,
    "tags": []
   },
   "source": [
    "## Sim Full 2"
   ]
  },
  {
   "cell_type": "code",
   "execution_count": null,
   "metadata": {},
   "outputs": [],
   "source": [
    "num_ckpts = 54\n",
    "ns = np.arange(1, num_ckpts + 1)\n",
    "\n",
    "aucs = np.zeros(num_ckpts)\n",
    "\n",
    "for i in ns:\n",
    "    sim_target = make_target(d)\n",
    "    sim_ckpt = tf.train.Checkpoint(sim_target)\n",
    "    sim_ckpt.restore('sim/full_2/ckpt-{}'.format(num_sim, i))\n",
    "    \n",
    "    sim_smp = sim_target.sample(n)\n",
    "    aucs[i - 1] = calculate_auc(sim_smp, sim)\n",
    "    print(i, '\\t', round(aucs[i - 1], 4))"
   ]
  },
  {
   "cell_type": "code",
   "execution_count": null,
   "metadata": {},
   "outputs": [],
   "source": [
    "np.save('sim_aucs_2.npy', aucs)"
   ]
  },
  {
   "cell_type": "code",
   "execution_count": null,
   "metadata": {},
   "outputs": [],
   "source": []
  }
 ],
 "metadata": {
  "colab": {
   "collapsed_sections": [],
   "name": "FFJORD Demo",
   "provenance": [],
   "toc_visible": true
  },
  "kernelspec": {
   "display_name": "multifold",
   "language": "python",
   "name": "multifold"
  },
  "language_info": {
   "codemirror_mode": {
    "name": "ipython",
    "version": 3
   },
   "file_extension": ".py",
   "mimetype": "text/x-python",
   "name": "python",
   "nbconvert_exporter": "python",
   "pygments_lexer": "ipython3",
   "version": "3.10.5"
  }
 },
 "nbformat": 4,
 "nbformat_minor": 4
}
