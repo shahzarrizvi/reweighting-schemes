{
 "cells": [
  {
   "cell_type": "code",
   "execution_count": 1,
   "id": "9c95f381-f3e9-48bf-b079-ff87f3382aca",
   "metadata": {},
   "outputs": [],
   "source": [
    "# Automatically reload modules after executing each cell.\n",
    "%load_ext autoreload\n",
    "%autoreload 2"
   ]
  },
  {
   "cell_type": "code",
   "execution_count": 2,
   "id": "5ad3edaa-df06-4cd7-9c4b-6548146e1b6b",
   "metadata": {},
   "outputs": [],
   "source": [
    "import tensorflow as tf\n",
    "from scipy import stats\n",
    "import numpy as np\n",
    "import sklearn.metrics as metrics\n",
    "\n",
    "from matplotlib import pyplot as plt\n",
    "from matplotlib.patches import Patch\n",
    "from matplotlib import rc\n",
    "import matplotlib.font_manager\n",
    "rc('font', family='serif')\n",
    "rc('text', usetex=True)\n",
    "rc('font', size=10)        #22\n",
    "rc('xtick', labelsize=8)  #15\n",
    "rc('ytick', labelsize=8)  #15\n",
    "rc('legend', fontsize=8)  #15\n",
    "rc('text.latex', preamble=r'\\usepackage{amsmath}')\n",
    "\n",
    "# Plots have dimension (w,h)\n",
    "w = 3.5\n",
    "h = 3.25       \n",
    "\n",
    "from flows import *\n",
    "\n",
    "import sys\n",
    "import os\n",
    "\n",
    "sys.path.append('../')\n",
    "from utils.training import *\n",
    "from utils.losses import *\n",
    "\n",
    "np.random.seed(666)"
   ]
  },
  {
   "cell_type": "code",
   "execution_count": 3,
   "id": "df8f31fc-e136-4223-82e5-516d13a66ee1",
   "metadata": {},
   "outputs": [],
   "source": [
    "os.environ[\"CUDA_VISIBLE_DEVICES\"] = \"0\" # pick a number < 4 on ML4HEP; < 3 on Voltan \n",
    "physical_devices = tf.config.list_physical_devices('GPU') \n",
    "tf.config.experimental.set_memory_growth(physical_devices[0], True)"
   ]
  },
  {
   "cell_type": "code",
   "execution_count": 4,
   "id": "fb3ea40b-b870-4e16-8d11-cef94356f44f",
   "metadata": {},
   "outputs": [],
   "source": [
    "mc = np.load(\"../data/zenodo/Pythia21_Zjet_pTZ-200GeV_0.npz\")\n",
    "\n",
    "sim_pt =  mc['sim_jets'][:, 0]\n",
    "sim_eta = mc['sim_jets'][:, 1]\n",
    "sim_phi = mc['sim_jets'][:, 2]\n",
    "sim_m =   mc['sim_jets'][:, 3]\n",
    "\n",
    "sim = np.vstack([sim_pt, sim_eta, sim_phi, sim_m]).T"
   ]
  },
  {
   "cell_type": "code",
   "execution_count": 5,
   "id": "bdd9980f-4789-4e99-b1d5-68a9f0c200dd",
   "metadata": {},
   "outputs": [],
   "source": [
    "dat = np.load(\"../data/zenodo/Herwig_Zjet_pTZ-200GeV_0.npz\")\n",
    "\n",
    "dat_pt =  dat['sim_jets'][:, 0] # dat[:, 0]\n",
    "dat_eta = dat['sim_jets'][:, 1]\n",
    "dat_phi = dat['sim_jets'][:, 2]\n",
    "dat_m =   dat['sim_jets'][:, 3]\n",
    "\n",
    "dat = np.vstack([dat_pt, dat_eta, dat_phi, dat_m]).T"
   ]
  },
  {
   "cell_type": "code",
   "execution_count": 6,
   "id": "301f8577-9ebf-4813-a0f9-b58172eb2b1b",
   "metadata": {},
   "outputs": [],
   "source": [
    "n, d = dat.shape"
   ]
  },
  {
   "cell_type": "code",
   "execution_count": 7,
   "id": "4c838fff-975e-4261-9b17-e0150222478f",
   "metadata": {},
   "outputs": [
    {
     "name": "stderr",
     "output_type": "stream",
     "text": [
      "2023-02-20 19:54:43.730431: I tensorflow/core/platform/cpu_feature_guard.cc:151] This TensorFlow binary is optimized with oneAPI Deep Neural Network Library (oneDNN) to use the following CPU instructions in performance-critical operations:  SSE4.1 SSE4.2 AVX AVX2 FMA\n",
      "To enable them in other operations, rebuild TensorFlow with the appropriate compiler flags.\n",
      "2023-02-20 19:54:44.369376: I tensorflow/core/common_runtime/gpu/gpu_device.cc:1525] Created device /job:localhost/replica:0/task:0/device:GPU:0 with 22251 MB memory:  -> device: 0, name: Quadro RTX 6000, pci bus id: 0000:01:00.0, compute capability: 7.5\n"
     ]
    }
   ],
   "source": [
    "dat_target = make_target(d)\n",
    "\n",
    "dat_ckpt = tf.train.Checkpoint(dat_target)"
   ]
  },
  {
   "cell_type": "code",
   "execution_count": 8,
   "id": "f1bbf92a-9de5-4864-b1f4-09a6c345b4cf",
   "metadata": {},
   "outputs": [
    {
     "data": {
      "text/plain": [
       "<tensorflow.python.training.tracking.util.CheckpointLoadStatus at 0x7f20a63304f0>"
      ]
     },
     "execution_count": 8,
     "metadata": {},
     "output_type": "execute_result"
    }
   ],
   "source": [
    "dat_ckpt.restore('dat2/ckpt-79')"
   ]
  },
  {
   "cell_type": "code",
   "execution_count": 9,
   "id": "5af58ad8-6b9c-47a0-a45a-071b42bef9ef",
   "metadata": {},
   "outputs": [],
   "source": [
    "dat_smp = dat_target.sample(n)"
   ]
  },
  {
   "cell_type": "code",
   "execution_count": 10,
   "id": "b8f5b514-a930-4730-9ccd-4d11e4b6de21",
   "metadata": {},
   "outputs": [],
   "source": [
    "def ratio_hist(truth, fit,\n",
    "               labels,\n",
    "               color = \"gray\",\n",
    "               figsize = (8, 8),\n",
    "               x_lim = None,\n",
    "               y_lim = None,\n",
    "               title = None,\n",
    "               filename = None):\n",
    "    fig, axs = plt.subplots(2, 1,\n",
    "                            figsize = figsize,\n",
    "                            sharex = True, \n",
    "                            gridspec_kw = {'height_ratios': [2, 1]})\n",
    "    \n",
    "    truth = truth[(truth > x_lim[0]) & (truth < x_lim[1])]\n",
    "    fit = fit[(fit > x_lim[0]) & (fit < x_lim[1])]\n",
    "    \n",
    "    t_hist = axs[0].hist(truth, bins = 50, density = True, color = color, alpha = 0.25, label = labels[0])\n",
    "    f_hist = axs[0].hist(fit, bins = 50, density = True, histtype = 'step', color = 'red', label = labels[1])\n",
    "    \n",
    "    axs[0].minorticks_on()\n",
    "    axs[0].tick_params(direction='in', which='both')\n",
    "    axs[0].legend()\n",
    "    \n",
    "    if y_lim:\n",
    "        axs[0].set_ylim(y_lim[0], y_lim[1])\n",
    "    if x_lim:\n",
    "        axs[0].set_xlim(x_lim[0], x_lim[1])\n",
    "    \n",
    "    bins = (f_hist[1] + np.diff(f_hist[1]).mean() / 2)[:-1]\n",
    "    axs[1].scatter(bins, f_hist[0] / t_hist[0], marker = '_', c = 'red', lw = 0.75)\n",
    "    axs[1].axhline(1,color=\"gray\", lw=0.5)\n",
    "    \n",
    "    axs[1].minorticks_on()\n",
    "    axs[1].tick_params(direction='in', which='both')\n",
    "    axs[1].set_ylim(0, 2)\n",
    "    \n",
    "    plt.xlabel(labels[2])\n",
    "    \n",
    "    if title:\n",
    "        axs[0].set_title(title, loc = \"right\")\n",
    "    if filename:\n",
    "        plt.savefig(filename, \n",
    "                    dpi = 300,\n",
    "                    transparent = True,\n",
    "                    bbox_inches = 'tight')"
   ]
  },
  {
   "cell_type": "code",
   "execution_count": 11,
   "id": "01fd0bc5-d1e1-436b-ae9e-f55427bf4c5e",
   "metadata": {},
   "outputs": [
    {
     "data": {
      "image/png": "[encoded data removed]",
      "text/plain": [
       "<Figure size 252x234 with 2 Axes>"
      ]
     },
     "metadata": {
      "needs_background": "light"
     },
     "output_type": "display_data"
    }
   ],
   "source": [
    "ratio_hist(dat[:, 0], dat_smp[:, 0], \n",
    "           labels = ['Data', 'Flow', r'$p_T$'],\n",
    "           color = 'blue',\n",
    "           figsize = (w, h),\n",
    "           title = r'\\it $p_T$ (Data)',\n",
    "           x_lim = (0, 750),\n",
    "           filename = '../plots/zenodo/flows/dat2/pT_data.png'\n",
    "          )"
   ]
  },
  {
   "cell_type": "code",
   "execution_count": 12,
   "id": "c2983a4b-7768-41a8-b5ab-d271633fd178",
   "metadata": {},
   "outputs": [
    {
     "data": {
      "image/png": "[encoded data removed]",
      "text/plain": [
       "<Figure size 252x234 with 2 Axes>"
      ]
     },
     "metadata": {
      "needs_background": "light"
     },
     "output_type": "display_data"
    }
   ],
   "source": [
    "ratio_hist(dat[:, 1], dat_smp[:, 1], \n",
    "           labels = ['Data', 'Flow', r'$\\eta$'],\n",
    "           color = 'blue',\n",
    "           figsize = (w, h),\n",
    "           title = r'\\it $\\eta$ (Data)',\n",
    "           x_lim = (-5, 5),\n",
    "           filename = '../plots/zenodo/flows/dat2/eta_data.png'\n",
    "          )"
   ]
  },
  {
   "cell_type": "code",
   "execution_count": 13,
   "id": "c72e115d-c364-4e45-b183-403c70ab4271",
   "metadata": {},
   "outputs": [
    {
     "data": {
      "image/png": "[encoded data removed]",
      "text/plain": [
       "<Figure size 252x234 with 2 Axes>"
      ]
     },
     "metadata": {
      "needs_background": "light"
     },
     "output_type": "display_data"
    }
   ],
   "source": [
    "ratio_hist(dat[:, 2], dat_smp[:, 2], \n",
    "           labels = ['Data', 'Flow', r'$\\phi$'],\n",
    "           color = 'blue',\n",
    "           figsize = (w, h),\n",
    "           title = r'\\it $\\phi$ (Data)',\n",
    "           x_lim = (-1, 7),\n",
    "           filename = '../plots/zenodo/flows/dat2/phi_data.png'\n",
    "          )"
   ]
  },
  {
   "cell_type": "code",
   "execution_count": 14,
   "id": "ad5119df-3c25-4fcd-89c0-4820d1bc914d",
   "metadata": {},
   "outputs": [
    {
     "data": {
      "image/png": "[encoded data removed]",
      "text/plain": [
       "<Figure size 252x234 with 2 Axes>"
      ]
     },
     "metadata": {
      "needs_background": "light"
     },
     "output_type": "display_data"
    }
   ],
   "source": [
    "ratio_hist(dat[:, 3], dat_smp[:, 3], \n",
    "           labels = ['Data', 'Flow', r'$m$'],\n",
    "           color = 'blue',\n",
    "           figsize = (w, h),\n",
    "           title = r'\\it $m$ (Data)',\n",
    "           x_lim = (0, 80),\n",
    "           filename = '../plots/zenodo/flows/dat2/m_data.png'\n",
    "          )"
   ]
  },
  {
   "cell_type": "markdown",
   "id": "762fe8bf-5699-4fa4-a605-67910511237b",
   "metadata": {},
   "source": [
    "# Classification"
   ]
  },
  {
   "cell_type": "code",
   "execution_count": 15,
   "id": "f2ffce89-e00a-45ec-9d72-0698e6997a86",
   "metadata": {},
   "outputs": [],
   "source": [
    "X_bkgd = dat_smp\n",
    "X_sgnl = dat"
   ]
  },
  {
   "cell_type": "code",
   "execution_count": 16,
   "id": "a1b80063-3d6b-4281-b0cf-833036d7fa8f",
   "metadata": {},
   "outputs": [],
   "source": [
    "np.random.seed(666)\n",
    "\n",
    "# Create full dataset; randomly sample points from Data or Flow with chance 1/2.\n",
    "y = stats.bernoulli.rvs(0.5, size = n).astype('float32')\n",
    "X = np.zeros_like(X_bkgd)\n",
    "\n",
    "X[y == 0] = X_bkgd[y == 0]\n",
    "X[y == 1] = X_sgnl[y == 1]\n",
    "\n",
    "# Take 70% of data to be training data.\n",
    "N_trn = int(0.7*n)\n",
    "trn_idx = np.random.choice(range(n), N_trn, replace = False)\n",
    "tst_idx = [n for n in range(n) if n not in trn_idx]\n",
    "\n",
    "X_trn = X[trn_idx]\n",
    "y_trn = y[trn_idx]\n",
    "\n",
    "X_tst = X[tst_idx]\n",
    "y_tst = y[tst_idx]\n",
    "\n",
    "data, m, s = split_data(X_trn, y_trn)"
   ]
  },
  {
   "cell_type": "code",
   "execution_count": 17,
   "id": "d68cc663-51b6-4a4a-b946-02bff476923e",
   "metadata": {},
   "outputs": [
    {
     "name": "stdout",
     "output_type": "stream",
     "text": [
      "0.6877853274345398 \t 45\t"
     ]
    }
   ],
   "source": [
    "params = {'loss':bce, 'd':4}\n",
    "\n",
    "clf, trace = train(data, **params)"
   ]
  },
  {
   "cell_type": "code",
   "execution_count": 18,
   "id": "258a9470-5e82-4f30-9c27-39e79a51ed3d",
   "metadata": {},
   "outputs": [],
   "source": [
    "y_hat = clf.predict(X_tst)\n",
    "fpr, tpr, ts = metrics.roc_curve(y_tst, y_hat)\n",
    "auc = metrics.roc_auc_score(y_tst, y_hat)"
   ]
  },
  {
   "cell_type": "code",
   "execution_count": 19,
   "id": "547744a2-af2e-4e43-a9eb-7045113f9a22",
   "metadata": {},
   "outputs": [
    {
     "data": {
      "image/png": "[encoded data removed]",
      "text/plain": [
       "<Figure size 252x234 with 1 Axes>"
      ]
     },
     "metadata": {
      "needs_background": "light"
     },
     "output_type": "display_data"
    }
   ],
   "source": [
    "fig, ax = plt.subplots(figsize = (w, h))\n",
    "plt.plot(fpr, tpr)\n",
    "plt.plot(fpr, fpr, ls = ':', c = 'k', lw = 1)\n",
    "\n",
    "plt.title('\\it ROC Curve for Data', loc = 'right')\n",
    "plt.text(0.05, 0.9, 'AUC: {}'.format(round(auc, 2)))\n",
    "plt.xlabel('False Positive Rate')\n",
    "plt.ylabel('True Positive Rate')\n",
    "plt.ylim(0, 1)\n",
    "plt.xlim(0, 1)\n",
    "\n",
    "plt.gca().minorticks_on()\n",
    "plt.gca().tick_params(direction='in', which='both')\n",
    "plt.gca().set_aspect('equal')\n",
    "\n",
    "plt.savefig('../plots/zenodo/flows/dat2/data_roc.png', dpi = 300, transparent = True,\n",
    "            bbox_inches = 'tight')"
   ]
  }
 ],
 "metadata": {
  "kernelspec": {
   "display_name": "multifold",
   "language": "python",
   "name": "multifold"
  },
  "language_info": {
   "codemirror_mode": {
    "name": "ipython",
    "version": 3
   },
   "file_extension": ".py",
   "mimetype": "text/x-python",
   "name": "python",
   "nbconvert_exporter": "python",
   "pygments_lexer": "ipython3",
   "version": "3.10.5"
  }
 },
 "nbformat": 4,
 "nbformat_minor": 5
}
