{
 "cells": [
  {
   "cell_type": "code",
   "execution_count": 1,
   "id": "6c4f0948-ccc0-49ab-9695-382e56509343",
   "metadata": {},
   "outputs": [],
   "source": [
    "import tensorflow as tf\n",
    "from scipy import stats\n",
    "import numpy as np\n",
    "import matplotlib.pyplot as plt\n",
    "\n",
    "from flows import *\n",
    "\n",
    "import os"
   ]
  },
  {
   "cell_type": "code",
   "execution_count": 2,
   "id": "86d2269d-e789-4766-af57-bb579ade66b7",
   "metadata": {},
   "outputs": [],
   "source": [
    "os.environ[\"CUDA_VISIBLE_DEVICES\"] = \"2\" # pick a number < 4 on ML4HEP; < 3 on Voltan \n",
    "physical_devices = tf.config.list_physical_devices('GPU') \n",
    "tf.config.experimental.set_memory_growth(physical_devices[0], True)"
   ]
  },
  {
   "cell_type": "code",
   "execution_count": 3,
   "id": "16efdbbe-b91e-4195-8d55-af9a100b36ee",
   "metadata": {},
   "outputs": [],
   "source": [
    "data = np.load(\"../data/zenodo/Herwig_Zjet_pTZ-200GeV_0.npz\")\n",
    "\n",
    "dat_pt =  data['sim_jets'][:, 0]\n",
    "dat_eta = data['sim_jets'][:, 1]\n",
    "dat_phi = data['sim_jets'][:, 2]\n",
    "dat_m =   data['sim_jets'][:, 3]"
   ]
  },
  {
   "cell_type": "code",
   "execution_count": 4,
   "id": "873ee451-03a1-4eb2-b8ca-316e8b514db9",
   "metadata": {},
   "outputs": [],
   "source": [
    "dat = np.vstack([dat_pt, dat_eta, dat_phi, dat_m]).T"
   ]
  },
  {
   "cell_type": "code",
   "execution_count": null,
   "id": "b454024b-f678-494b-8ce9-82c6105298c3",
   "metadata": {},
   "outputs": [
    {
     "name": "stderr",
     "output_type": "stream",
     "text": [
      "2022-12-08 23:43:47.725471: I tensorflow/core/platform/cpu_feature_guard.cc:151] This TensorFlow binary is optimized with oneAPI Deep Neural Network Library (oneDNN) to use the following CPU instructions in performance-critical operations:  SSE4.1 SSE4.2 AVX AVX2 FMA\n",
      "To enable them in other operations, rebuild TensorFlow with the appropriate compiler flags.\n",
      "2022-12-08 23:43:48.296268: I tensorflow/core/common_runtime/gpu/gpu_device.cc:1525] Created device /job:localhost/replica:0/task:0/device:GPU:0 with 21430 MB memory:  -> device: 0, name: Quadro RTX 6000, pci bus id: 0000:81:00.0, compute capability: 7.5\n",
      "  0%|          | 0/40 [00:00<?, ?it/s]"
     ]
    },
    {
     "name": "stdout",
     "output_type": "stream",
     "text": [
      "WARNING:tensorflow:From /clusterfs/ml4hep/shahzar/miniconda/envs/multifold/lib/python3.10/site-packages/tensorflow_probability/python/math/ode/base.py:459: calling while_loop_v2 (from tensorflow.python.ops.control_flow_ops) with back_prop=False is deprecated and will be removed in a future version.\n",
      "Instructions for updating:\n",
      "back_prop=False is deprecated. Consider using tf.stop_gradient instead.\n",
      "Instead of:\n",
      "results = tf.while_loop(c, b, vars, back_prop=False)\n",
      "Use:\n",
      "results = tf.nest.map_structure(tf.stop_gradient, tf.while_loop(c, b, vars))\n"
     ]
    },
    {
     "name": "stderr",
     "output_type": "stream",
     "text": [
      " 50%|█████     | 20/40 [3:39:06<4:33:35, 820.80s/it]"
     ]
    }
   ],
   "source": [
    "dat_target = flow(dat, ckpt_path = 'dat/ckpt')"
   ]
  },
  {
   "cell_type": "code",
   "execution_count": null,
   "id": "5e56f7ab-7345-4f6f-b6f9-a5c4d2f4eddd",
   "metadata": {},
   "outputs": [],
   "source": [
    "N = dat.shape[0]\n",
    "smp = dat_target.sample(N)"
   ]
  },
  {
   "cell_type": "code",
   "execution_count": null,
   "id": "0ce15d19-51c0-4e71-81b1-5aad9a0dbaa0",
   "metadata": {},
   "outputs": [],
   "source": [
    "ax = plt.axes(projection='3d')\n",
    "ax.scatter3D(dat[:, 0], dat[:, 1], dat[:, 2])"
   ]
  },
  {
   "cell_type": "code",
   "execution_count": null,
   "id": "d8302118-e236-4dc0-92ed-03ffbc0e850c",
   "metadata": {},
   "outputs": [],
   "source": [
    "ax = plt.axes(projection='3d')\n",
    "ax.scatter3D(smp[:, 0], smp[:, 1], smp[:, 2])"
   ]
  },
  {
   "cell_type": "code",
   "execution_count": null,
   "id": "a6cf986e-6f85-4101-bcf0-9faa82b922c2",
   "metadata": {},
   "outputs": [],
   "source": [
    "ax = plt.axes(projection='3d')\n",
    "ax.scatter3D(dat[:, 1], dat[:, 2], dat[:, 3])"
   ]
  },
  {
   "cell_type": "code",
   "execution_count": null,
   "id": "27929fa0-f5ce-4989-a8a9-4fed83b39787",
   "metadata": {},
   "outputs": [],
   "source": [
    "ax = plt.axes(projection='3d')\n",
    "ax.scatter3D(smp[:, 1], smp[:, 2], smp[:, 3])"
   ]
  },
  {
   "cell_type": "code",
   "execution_count": null,
   "id": "2dbb40e7-8449-47c7-9bbf-f7b7228545db",
   "metadata": {},
   "outputs": [],
   "source": [
    "plt.scatter(dat[:, 0], dat[:, 1], alpha = 0.05)\n",
    "plt.scatter(smp[:, 0], smp[:, 1], alpha = 0.05)"
   ]
  },
  {
   "cell_type": "code",
   "execution_count": null,
   "id": "e93d1575-2804-43a4-8daa-97ae43cfdad1",
   "metadata": {},
   "outputs": [],
   "source": [
    "plt.scatter(dat[:, 1], dat[:, 2], alpha = 0.05)\n",
    "plt.scatter(smp[:, 1], smp[:, 2], alpha = 0.05)"
   ]
  },
  {
   "cell_type": "code",
   "execution_count": null,
   "id": "e5684f11-4d80-42b7-8e6f-fad9750e8115",
   "metadata": {},
   "outputs": [],
   "source": [
    "plt.scatter(dat[:, 2], dat[:, 3], alpha = 0.05)\n",
    "plt.scatter(smp[:, 2], smp[:, 3], alpha = 0.05)"
   ]
  }
 ],
 "metadata": {
  "kernelspec": {
   "display_name": "multifold",
   "language": "python",
   "name": "multifold"
  },
  "language_info": {
   "codemirror_mode": {
    "name": "ipython",
    "version": 3
   },
   "file_extension": ".py",
   "mimetype": "text/x-python",
   "name": "python",
   "nbconvert_exporter": "python",
   "pygments_lexer": "ipython3",
   "version": "3.10.5"
  }
 },
 "nbformat": 4,
 "nbformat_minor": 5
}
