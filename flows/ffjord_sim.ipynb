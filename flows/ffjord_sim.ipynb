{
 "cells": [
  {
   "cell_type": "code",
   "execution_count": 1,
   "id": "6c4f0948-ccc0-49ab-9695-382e56509343",
   "metadata": {},
   "outputs": [],
   "source": [
    "import tensorflow as tf\n",
    "from scipy import stats\n",
    "import numpy as np\n",
    "import matplotlib.pyplot as plt\n",
    "\n",
    "from flows import *\n",
    "\n",
    "import os"
   ]
  },
  {
   "cell_type": "code",
   "execution_count": 2,
   "id": "86d2269d-e789-4766-af57-bb579ade66b7",
   "metadata": {},
   "outputs": [],
   "source": [
    "os.environ[\"CUDA_VISIBLE_DEVICES\"] = \"2\" # pick a number < 4 on ML4HEP; < 3 on Voltan \n",
    "physical_devices = tf.config.list_physical_devices('GPU') \n",
    "tf.config.experimental.set_memory_growth(physical_devices[0], True)"
   ]
  },
  {
   "cell_type": "code",
   "execution_count": 3,
   "id": "16efdbbe-b91e-4195-8d55-af9a100b36ee",
   "metadata": {},
   "outputs": [],
   "source": [
    "mc = np.load(\"../data/zenodo/Pythia21_Zjet_pTZ-200GeV_0.npz\")\n",
    "\n",
    "sim_pt =  mc['sim_jets'][:, 0]\n",
    "sim_eta = mc['sim_jets'][:, 1]\n",
    "sim_phi = mc['sim_jets'][:, 2]\n",
    "sim_m =   mc['sim_jets'][:, 3]"
   ]
  },
  {
   "cell_type": "code",
   "execution_count": 4,
   "id": "873ee451-03a1-4eb2-b8ca-316e8b514db9",
   "metadata": {},
   "outputs": [],
   "source": [
    "sim = np.vstack([sim_pt, sim_eta, sim_phi, sim_m]).T"
   ]
  },
  {
   "cell_type": "code",
   "execution_count": null,
   "id": "b454024b-f678-494b-8ce9-82c6105298c3",
   "metadata": {},
   "outputs": [
    {
     "name": "stderr",
     "output_type": "stream",
     "text": [
      "2022-12-08 23:43:55.236418: I tensorflow/core/platform/cpu_feature_guard.cc:151] This TensorFlow binary is optimized with oneAPI Deep Neural Network Library (oneDNN) to use the following CPU instructions in performance-critical operations:  SSE4.1 SSE4.2 AVX AVX2 FMA\n",
      "To enable them in other operations, rebuild TensorFlow with the appropriate compiler flags.\n",
      "2022-12-08 23:43:55.846846: I tensorflow/core/common_runtime/gpu/gpu_device.cc:1525] Created device /job:localhost/replica:0/task:0/device:GPU:0 with 21902 MB memory:  -> device: 0, name: Quadro RTX 6000, pci bus id: 0000:81:00.0, compute capability: 7.5\n",
      "  0%|          | 0/40 [00:00<?, ?it/s]"
     ]
    },
    {
     "name": "stdout",
     "output_type": "stream",
     "text": [
      "WARNING:tensorflow:From /clusterfs/ml4hep/shahzar/miniconda/envs/multifold/lib/python3.10/site-packages/tensorflow_probability/python/math/ode/base.py:459: calling while_loop_v2 (from tensorflow.python.ops.control_flow_ops) with back_prop=False is deprecated and will be removed in a future version.\n",
      "Instructions for updating:\n",
      "back_prop=False is deprecated. Consider using tf.stop_gradient instead.\n",
      "Instead of:\n",
      "results = tf.while_loop(c, b, vars, back_prop=False)\n",
      "Use:\n",
      "results = tf.nest.map_structure(tf.stop_gradient, tf.while_loop(c, b, vars))\n"
     ]
    },
    {
     "name": "stderr",
     "output_type": "stream",
     "text": [
      " 78%|███████▊  | 31/40 [8:52:24<3:31:48, 1412.10s/it]"
     ]
    }
   ],
   "source": [
    "sim_target = flow(sim, ckpt_path = 'sim/ckpt')"
   ]
  },
  {
   "cell_type": "code",
   "execution_count": null,
   "id": "5e56f7ab-7345-4f6f-b6f9-a5c4d2f4eddd",
   "metadata": {},
   "outputs": [],
   "source": [
    "N = sim.shape[0]\n",
    "smp = sim_target.sample(N)"
   ]
  },
  {
   "cell_type": "code",
   "execution_count": null,
   "id": "0148ba1f-58e5-4646-ab8b-31510e616e1d",
   "metadata": {},
   "outputs": [],
   "source": [
    "ax = plt.axes(projection='3d')\n",
    "ax.scatter3D(sim[:, 0], sim[:, 1], sim[:, 2])"
   ]
  },
  {
   "cell_type": "code",
   "execution_count": null,
   "id": "266ec88d-879f-4fe3-b762-f510890218f1",
   "metadata": {},
   "outputs": [],
   "source": [
    "ax = plt.axes(projection='3d')\n",
    "ax.scatter3D(smp[:, 0], smp[:, 1], smp[:, 2], c = 'orange')"
   ]
  },
  {
   "cell_type": "code",
   "execution_count": null,
   "id": "7003b6eb-7b30-4cf5-871e-2af2dd69cded",
   "metadata": {},
   "outputs": [],
   "source": [
    "ax = plt.axes(projection='3d')\n",
    "ax.scatter3D(sim[:, 1], sim[:, 2], sim[:, 3])"
   ]
  },
  {
   "cell_type": "code",
   "execution_count": null,
   "id": "f6ff91b2-f53d-4577-b812-1375ef1307da",
   "metadata": {},
   "outputs": [],
   "source": [
    "ax = plt.axes(projection='3d')\n",
    "ax.scatter3D(smp[:, 1], smp[:, 2], smp[:, 3], c = 'orange')"
   ]
  },
  {
   "cell_type": "code",
   "execution_count": null,
   "id": "e5684f11-4d80-42b7-8e6f-fad9750e8115",
   "metadata": {},
   "outputs": [],
   "source": [
    "plt.scatter(sim[:, 0], sim[:, 1], alpha = 0.05)\n",
    "plt.scatter(smp[:, 0], smp[:, 1], alpha = 0.05)"
   ]
  },
  {
   "cell_type": "code",
   "execution_count": null,
   "id": "6d686783-c4e2-444c-897b-23bc949db20d",
   "metadata": {},
   "outputs": [],
   "source": [
    "plt.scatter(sim[:, 1], sim[:, 2], alpha = 0.05)\n",
    "plt.scatter(smp[:, 1], smp[:, 2], alpha = 0.05)"
   ]
  },
  {
   "cell_type": "code",
   "execution_count": null,
   "id": "7f9b961a-2c32-4a9b-869a-b5efaa17fd9c",
   "metadata": {},
   "outputs": [],
   "source": [
    "plt.scatter(sim[:, 2], sim[:, 3], alpha = 0.05)\n",
    "plt.scatter(smp[:, 2], smp[:, 3], alpha = 0.05)"
   ]
  }
 ],
 "metadata": {
  "kernelspec": {
   "display_name": "multifold",
   "language": "python",
   "name": "multifold"
  },
  "language_info": {
   "codemirror_mode": {
    "name": "ipython",
    "version": 3
   },
   "file_extension": ".py",
   "mimetype": "text/x-python",
   "name": "python",
   "nbconvert_exporter": "python",
   "pygments_lexer": "ipython3",
   "version": "3.10.5"
  }
 },
 "nbformat": 4,
 "nbformat_minor": 5
}
