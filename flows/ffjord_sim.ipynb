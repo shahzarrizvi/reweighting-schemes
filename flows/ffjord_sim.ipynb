{
 "cells": [
  {
   "cell_type": "code",
   "execution_count": 1,
   "id": "6c4f0948-ccc0-49ab-9695-382e56509343",
   "metadata": {},
   "outputs": [],
   "source": [
    "import tensorflow as tf\n",
    "from scipy import stats\n",
    "import numpy as np\n",
    "import matplotlib.pyplot as plt\n",
    "\n",
    "from flows import *\n",
    "\n",
    "import os"
   ]
  },
  {
   "cell_type": "code",
   "execution_count": 2,
   "id": "86d2269d-e789-4766-af57-bb579ade66b7",
   "metadata": {},
   "outputs": [],
   "source": [
    "os.environ[\"CUDA_VISIBLE_DEVICES\"] = \"2\" # pick a number < 4 on ML4HEP; < 3 on Voltan \n",
    "physical_devices = tf.config.list_physical_devices('GPU') \n",
    "tf.config.experimental.set_memory_growth(physical_devices[0], True)"
   ]
  },
  {
   "cell_type": "code",
   "execution_count": 3,
   "id": "16efdbbe-b91e-4195-8d55-af9a100b36ee",
   "metadata": {},
   "outputs": [],
   "source": [
    "mc = np.load(\"../data/zenodo/Pythia21_Zjet_pTZ-200GeV_0.npz\")\n",
    "\n",
    "sim_pt =  mc['sim_jets'][:, 0]\n",
    "sim_eta = mc['sim_jets'][:, 1]\n",
    "sim_phi = mc['sim_jets'][:, 2]\n",
    "sim_m =   mc['sim_jets'][:, 3]"
   ]
  },
  {
   "cell_type": "markdown",
   "id": "442729e9-65e7-463e-b11e-a31c2d67a4fc",
   "metadata": {
    "tags": []
   },
   "source": [
    "# All 4 Variables"
   ]
  },
  {
   "cell_type": "code",
   "execution_count": 4,
   "id": "873ee451-03a1-4eb2-b8ca-316e8b514db9",
   "metadata": {},
   "outputs": [],
   "source": [
    "sim = np.vstack([sim_pt, sim_eta, sim_phi, sim_m]).T"
   ]
  },
  {
   "cell_type": "code",
   "execution_count": null,
   "id": "b454024b-f678-494b-8ce9-82c6105298c3",
   "metadata": {},
   "outputs": [
    {
     "name": "stderr",
     "output_type": "stream",
     "text": [
      "2022-12-08 21:55:16.276740: I tensorflow/core/platform/cpu_feature_guard.cc:151] This TensorFlow binary is optimized with oneAPI Deep Neural Network Library (oneDNN) to use the following CPU instructions in performance-critical operations:  SSE4.1 SSE4.2 AVX AVX2 FMA\n",
      "To enable them in other operations, rebuild TensorFlow with the appropriate compiler flags.\n",
      "2022-12-08 21:55:16.870449: I tensorflow/core/common_runtime/gpu/gpu_device.cc:1525] Created device /job:localhost/replica:0/task:0/device:GPU:0 with 22251 MB memory:  -> device: 0, name: Quadro RTX 6000, pci bus id: 0000:81:00.0, compute capability: 7.5\n",
      "  0%|          | 0/40 [00:00<?, ?it/s]"
     ]
    }
   ],
   "source": [
    "sim_target = flow(sim, ckpt_path = 'sim/ckpt')"
   ]
  },
  {
   "cell_type": "code",
   "execution_count": null,
   "id": "5e56f7ab-7345-4f6f-b6f9-a5c4d2f4eddd",
   "metadata": {},
   "outputs": [],
   "source": [
    "N = sim.shape[0]\n",
    "sample = sim_target.sample(N)"
   ]
  },
  {
   "cell_type": "code",
   "execution_count": null,
   "id": "e5684f11-4d80-42b7-8e6f-fad9750e8115",
   "metadata": {},
   "outputs": [],
   "source": [
    "plt.scatter(sim[:, 2], sim[:, 3], alpha = 0.05)\n",
    "plt.scatter(sample[:, 2], sample[:, 3], alpha = 0.05)"
   ]
  },
  {
   "cell_type": "code",
   "execution_count": null,
   "id": "6d686783-c4e2-444c-897b-23bc949db20d",
   "metadata": {},
   "outputs": [],
   "source": [
    "#ax = plt.axes(projection='3d')\n",
    "plt.scatter(sim[:, 0], sim[:, 1])"
   ]
  },
  {
   "cell_type": "markdown",
   "id": "4b51fb56-89d8-4e45-9453-4188dc576f0b",
   "metadata": {
    "tags": []
   },
   "source": [
    "# 2 Dimensions Only"
   ]
  },
  {
   "cell_type": "code",
   "execution_count": null,
   "id": "de0b17bf-376f-4d21-a24d-593c7dd59651",
   "metadata": {},
   "outputs": [],
   "source": [
    "1/0"
   ]
  },
  {
   "cell_type": "code",
   "execution_count": null,
   "id": "961cebd6-8bf8-49b2-aaa2-f62d40bce7c5",
   "metadata": {},
   "outputs": [],
   "source": [
    "sim2 = np.vstack([sim_pt, sim_eta]).T"
   ]
  },
  {
   "cell_type": "code",
   "execution_count": null,
   "id": "9fc5b6c5-1dc9-4e64-a733-35aba8465ea2",
   "metadata": {},
   "outputs": [],
   "source": [
    "sim2_target = flow(sim2, ckpt_path = 'sim2/ckpt')"
   ]
  },
  {
   "cell_type": "code",
   "execution_count": null,
   "id": "772ce8c7-2a13-49a6-abc9-0d9d57924e97",
   "metadata": {},
   "outputs": [],
   "source": [
    "N = sim2.shape[0]\n",
    "sample = sim2_target.sample(N)"
   ]
  },
  {
   "cell_type": "code",
   "execution_count": null,
   "id": "e02ba217-9386-43c8-943f-393e9245cb21",
   "metadata": {},
   "outputs": [],
   "source": [
    "plt.scatter(sim2[:, 0], sim2[:, 1], alpha = 0.05)\n",
    "plt.scatter(sample[:, 0], sample[:, 1], alpha = 0.05)"
   ]
  },
  {
   "cell_type": "code",
   "execution_count": null,
   "id": "598c42a2-3d79-405e-a269-a3c9a7181c85",
   "metadata": {},
   "outputs": [],
   "source": []
  }
 ],
 "metadata": {
  "kernelspec": {
   "display_name": "multifold",
   "language": "python",
   "name": "multifold"
  },
  "language_info": {
   "codemirror_mode": {
    "name": "ipython",
    "version": 3
   },
   "file_extension": ".py",
   "mimetype": "text/x-python",
   "name": "python",
   "nbconvert_exporter": "python",
   "pygments_lexer": "ipython3",
   "version": "3.10.5"
  }
 },
 "nbformat": 4,
 "nbformat_minor": 5
}
