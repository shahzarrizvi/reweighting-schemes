{
 "cells": [
  {
   "cell_type": "code",
   "execution_count": 182,
   "metadata": {},
   "outputs": [],
   "source": [
    "import matplotlib.pyplot as plt\n",
    "import sklearn.datasets as datasets\n",
    "\n",
    "import torch\n",
    "from torch import nn\n",
    "from torch import optim\n",
    "from torch.utils.data import DataLoader\n",
    "\n",
    "from nflows.flows.base import Flow\n",
    "from nflows.distributions.normal import StandardNormal\n",
    "from nflows.transforms.base import CompositeTransform\n",
    "from nflows.transforms.autoregressive import MaskedAffineAutoregressiveTransform\n",
    "from nflows.transforms.permutations import ReversePermutation\n",
    "\n",
    "import tqdm as tqdm\n",
    "\n",
    "import numpy as np\n",
    "from scipy import stats\n",
    "# Plots have dimension (w,h)\n",
    "w = 3.5\n",
    "h = 3.25 \n",
    "\n",
    "import sklearn.metrics as metrics\n",
    "from sklearn.ensemble import AdaBoostClassifier\n",
    "from sklearn.model_selection import train_test_split"
   ]
  },
  {
   "cell_type": "raw",
   "metadata": {},
   "source": [
    "# How to allocate memory when using torch?\n",
    "\n",
    "os.environ[\"CUDA_VISIBLE_DEVICES\"] = \"1\" # pick a number < 4 on ML4HEP; < 3 on Voltan \n",
    "physical_devices = tf.config.list_physical_devices('GPU') \n",
    "tf.config.experimental.set_memory_growth(physical_devices[0], True)"
   ]
  },
  {
   "cell_type": "markdown",
   "metadata": {},
   "source": [
    "# Loading"
   ]
  },
  {
   "cell_type": "code",
   "execution_count": 122,
   "metadata": {},
   "outputs": [],
   "source": [
    "mc = np.load(\"../../data/zenodo/Pythia21_Zjet_pTZ-200GeV_0.npz\")\n",
    "\n",
    "sim_pt = mc['sim_jets'][:, 0]\n",
    "sim_eta = mc['sim_jets'][:, 1]\n",
    "sim_phi = mc['sim_jets'][:, 2]\n",
    "sim_m = mc['sim_jets'][:, 3]\n",
    "sim_w = mc['sim_widths']\n",
    "sim_sdms = mc['sim_sdms']\n",
    "\n",
    "sim = np.vstack([sim_pt, sim_eta, sim_phi, sim_m, sim_w, sim_sdms]).T\n",
    "\n",
    "dat = np.load(\"../../data/zenodo/Herwig_Zjet_pTZ-200GeV_0.npz\")\n",
    "\n",
    "dat_pt =  dat['sim_jets'][:, 0] # dat[:, 0]\n",
    "dat_eta = dat['sim_jets'][:, 1]\n",
    "dat_phi = dat['sim_jets'][:, 2]\n",
    "dat_m =   dat['sim_jets'][:, 3]\n",
    "dat_w = dat['sim_widths']\n",
    "dat_sdms = dat['sim_sdms']\n",
    "\n",
    "dat = np.vstack([dat_pt, dat_eta, dat_phi, dat_m, dat_w, dat_sdms]).T"
   ]
  },
  {
   "cell_type": "code",
   "execution_count": 123,
   "metadata": {},
   "outputs": [],
   "source": [
    "data = torch.tensor(sim, dtype = torch.float32)\n",
    "dataset = DataLoader(data, batch_size = 2**6, shuffle = True)"
   ]
  },
  {
   "cell_type": "code",
   "execution_count": 174,
   "metadata": {},
   "outputs": [],
   "source": [
    "r = np.load('../batch_losses.npy')"
   ]
  },
  {
   "cell_type": "code",
   "execution_count": 176,
   "metadata": {},
   "outputs": [],
   "source": [
    "t = np.load('../total_losses.npy')"
   ]
  },
  {
   "cell_type": "code",
   "execution_count": 168,
   "metadata": {},
   "outputs": [],
   "source": [
    "torch.save({\n",
    "            'epoch': epoch,\n",
    "            'model_state_dict': flow.state_dict(),\n",
    "            'optimizer_state_dict': optimizer.state_dict(),\n",
    "            'loss': loss,\n",
    "            }, 'ckpt')"
   ]
  },
  {
   "cell_type": "code",
   "execution_count": 169,
   "metadata": {},
   "outputs": [],
   "source": [
    "cp = torch.load('ckpt')"
   ]
  },
  {
   "cell_type": "code",
   "execution_count": 170,
   "metadata": {},
   "outputs": [],
   "source": [
    "num_layers = 5\n",
    "base_dist = StandardNormal(shape=[6])\n",
    "\n",
    "transforms = []\n",
    "for _ in range(num_layers):\n",
    "    transforms.append(ReversePermutation(features=6))\n",
    "    transforms.append(MaskedAffineAutoregressiveTransform(features=6, \n",
    "                                                          hidden_features=8))\n",
    "transform = CompositeTransform(transforms)\n",
    "\n",
    "flow = Flow(transform, base_dist)"
   ]
  },
  {
   "cell_type": "code",
   "execution_count": null,
   "metadata": {},
   "outputs": [],
   "source": [
    "flow.load_state_dict(cp['model_state_dict'])"
   ]
  },
  {
   "cell_type": "markdown",
   "metadata": {
    "tags": []
   },
   "source": [
    "# Training"
   ]
  },
  {
   "cell_type": "code",
   "execution_count": 124,
   "metadata": {},
   "outputs": [],
   "source": [
    "num_layers = 5\n",
    "base_dist = StandardNormal(shape=[6])\n",
    "\n",
    "transforms = []\n",
    "for _ in range(num_layers):\n",
    "    transforms.append(ReversePermutation(features=6))\n",
    "    transforms.append(MaskedAffineAutoregressiveTransform(features=6, \n",
    "                                                          hidden_features=8))\n",
    "transform = CompositeTransform(transforms)\n",
    "\n",
    "flow = Flow(transform, base_dist)\n",
    "optimizer = optim.Adam(flow.parameters())"
   ]
  },
  {
   "cell_type": "code",
   "execution_count": 134,
   "metadata": {
    "scrolled": true,
    "tags": []
   },
   "outputs": [
    {
     "name": "stderr",
     "output_type": "stream",
     "text": [
      "  0%|          | 0/100 [00:00<?, ?it/s]"
     ]
    },
    {
     "name": "stdout",
     "output_type": "stream",
     "text": [
      "0 \t 24.74\n",
      "100 \t 24.7\n",
      "200 \t 24.96\n",
      "300 \t 27.02\n",
      "400 \t 24.48\n",
      "500 \t 24.42\n",
      "600 \t 24.44\n",
      "700 \t 24.53\n",
      "800 \t 23.98\n",
      "900 \t 24.62\n",
      "1000 \t 51.53\n",
      "1100 \t 25.11\n",
      "1200 \t 25.08\n",
      "1300 \t 24.03\n",
      "1400 \t 23.8\n",
      "1500 \t 24.54\n"
     ]
    },
    {
     "name": "stderr",
     "output_type": "stream",
     "text": [
      "  1%|          | 1/100 [00:15<25:20, 15.36s/it]"
     ]
    },
    {
     "name": "stdout",
     "output_type": "stream",
     "text": [
      "1600 \t 24.59\n",
      "1700 \t 23.75\n",
      "1800 \t 34.34\n",
      "1900 \t 28.35\n",
      "2000 \t 24.89\n",
      "2100 \t 23.5\n",
      "2200 \t 24.35\n",
      "2300 \t 23.08\n",
      "2400 \t 23.73\n",
      "2500 \t 23.84\n",
      "2600 \t 22.92\n",
      "2700 \t 24.48\n",
      "2800 \t 23.25\n",
      "2900 \t 22.26\n",
      "3000 \t 23.04\n",
      "3100 \t 23.21\n"
     ]
    },
    {
     "name": "stderr",
     "output_type": "stream",
     "text": [
      "  2%|▏         | 2/100 [00:30<24:35, 15.05s/it]"
     ]
    },
    {
     "name": "stdout",
     "output_type": "stream",
     "text": [
      "3200 \t 23.28\n",
      "3300 \t 22.71\n",
      "3400 \t 22.23\n",
      "3500 \t 23.59\n",
      "3600 \t 22.49\n",
      "3700 \t 22.56\n",
      "3800 \t 21.79\n",
      "3900 \t 23.63\n",
      "4000 \t 21.56\n",
      "4100 \t 21.91\n",
      "4200 \t 24.25\n",
      "4300 \t 21.69\n",
      "4400 \t 21.72\n",
      "4500 \t 21.81\n",
      "4600 \t 21.92\n"
     ]
    },
    {
     "name": "stderr",
     "output_type": "stream",
     "text": [
      "  3%|▎         | 3/100 [00:45<24:14, 15.00s/it]"
     ]
    },
    {
     "name": "stdout",
     "output_type": "stream",
     "text": [
      "4700 \t 22.29\n",
      "4800 \t 21.18\n",
      "4900 \t 21.7\n",
      "5000 \t 20.34\n",
      "5100 \t 22.18\n",
      "5200 \t 23.04\n",
      "5300 \t 21.31\n",
      "5400 \t 21.66\n",
      "5500 \t 21.11\n",
      "5600 \t 20.65\n",
      "5700 \t 20.42\n",
      "5800 \t 20.33\n",
      "5900 \t 20.43\n",
      "6000 \t 20.28\n",
      "6100 \t 19.87\n",
      "6200 \t 20.32\n"
     ]
    },
    {
     "name": "stderr",
     "output_type": "stream",
     "text": [
      "  4%|▍         | 4/100 [00:59<23:54, 14.95s/it]"
     ]
    },
    {
     "name": "stdout",
     "output_type": "stream",
     "text": [
      "6300 \t 20.01\n",
      "6400 \t 20.7\n",
      "6500 \t 20.94\n",
      "6600 \t 19.77\n",
      "6700 \t 19.48\n",
      "6800 \t 19.85\n",
      "6900 \t 20.17\n",
      "7000 \t 20.37\n",
      "7100 \t 19.35\n",
      "7200 \t 18.86\n",
      "7300 \t 20.01\n",
      "7400 \t 18.91\n",
      "7500 \t 19.01\n",
      "7600 \t 18.94\n",
      "7700 \t 18.53\n"
     ]
    },
    {
     "name": "stderr",
     "output_type": "stream",
     "text": [
      "  5%|▌         | 5/100 [01:14<23:32, 14.87s/it]"
     ]
    },
    {
     "name": "stdout",
     "output_type": "stream",
     "text": [
      "7800 \t 19.26\n",
      "7900 \t 18.86\n",
      "8000 \t 19.86\n",
      "8100 \t 21.08\n",
      "8200 \t 18.47\n",
      "8300 \t 18.29\n",
      "8400 \t 19.5\n",
      "8500 \t 19.32\n",
      "8600 \t 18.97\n",
      "8700 \t 36.82\n",
      "8800 \t 18.68\n",
      "8900 \t 17.71\n",
      "9000 \t 19.58\n",
      "9100 \t 17.82\n",
      "9200 \t 18.7\n",
      "9300 \t 18.31\n"
     ]
    },
    {
     "name": "stderr",
     "output_type": "stream",
     "text": [
      "  6%|▌         | 6/100 [01:29<23:28, 14.98s/it]"
     ]
    },
    {
     "name": "stdout",
     "output_type": "stream",
     "text": [
      "9400 \t 18.91\n",
      "9500 \t 18.27\n",
      "9600 \t 18.16\n",
      "9700 \t 17.36\n",
      "9800 \t 18.23\n",
      "9900 \t 17.65\n",
      "10000 \t 18.07\n",
      "10100 \t 17.56\n",
      "10200 \t 17.12\n",
      "10300 \t 18.02\n",
      "10400 \t 19.01\n",
      "10500 \t 19.64\n",
      "10600 \t 18.79\n",
      "10700 \t 22.53\n",
      "10800 \t 19.41\n",
      "10900 \t 20.13\n"
     ]
    },
    {
     "name": "stderr",
     "output_type": "stream",
     "text": [
      "  7%|▋         | 7/100 [01:44<23:14, 14.99s/it]"
     ]
    },
    {
     "name": "stdout",
     "output_type": "stream",
     "text": [
      "11000 \t 18.75\n",
      "11100 \t 17.85\n",
      "11200 \t 18.47\n",
      "11300 \t 18.4\n",
      "11400 \t 17.92\n",
      "11500 \t 17.74\n",
      "11600 \t 18.08\n",
      "11700 \t 17.18\n",
      "11800 \t 17.49\n",
      "11900 \t 17.71\n",
      "12000 \t 17.54\n",
      "12100 \t 16.82\n",
      "12200 \t 16.85\n",
      "12300 \t 17.06\n",
      "12400 \t 17.16\n"
     ]
    },
    {
     "name": "stderr",
     "output_type": "stream",
     "text": [
      "  8%|▊         | 8/100 [02:00<23:06, 15.07s/it]"
     ]
    },
    {
     "name": "stdout",
     "output_type": "stream",
     "text": [
      "12500 \t 16.84\n",
      "12600 \t 16.9\n",
      "12700 \t 16.96\n",
      "12800 \t 16.4\n",
      "12900 \t 17.41\n",
      "13000 \t 16.7\n",
      "13100 \t 16.42\n",
      "13200 \t 17.56\n",
      "13300 \t 15.74\n",
      "13400 \t 16.2\n",
      "13500 \t 16.04\n",
      "13600 \t 15.85\n",
      "13700 \t 16.26\n",
      "13800 \t 15.55\n",
      "13900 \t 15.54\n",
      "14000 \t 15.53\n"
     ]
    },
    {
     "name": "stderr",
     "output_type": "stream",
     "text": [
      "  9%|▉         | 9/100 [02:14<22:43, 14.99s/it]"
     ]
    },
    {
     "name": "stdout",
     "output_type": "stream",
     "text": [
      "14100 \t 15.43\n",
      "14200 \t 14.99\n",
      "14300 \t 15.02\n",
      "14400 \t 15.86\n",
      "14500 \t 15.93\n",
      "14600 \t 15.08\n",
      "14700 \t 15.75\n",
      "14800 \t 14.98\n",
      "14900 \t 14.65\n",
      "15000 \t 14.67\n",
      "15100 \t 14.79\n",
      "15200 \t 14.94\n",
      "15300 \t 15.2\n",
      "15400 \t 14.28\n",
      "15500 \t 14.79\n",
      "15600 \t 14.55\n"
     ]
    },
    {
     "name": "stderr",
     "output_type": "stream",
     "text": [
      " 10%|█         | 10/100 [02:30<22:35, 15.06s/it]"
     ]
    },
    {
     "name": "stdout",
     "output_type": "stream",
     "text": [
      "15700 \t 14.54\n",
      "15800 \t 14.62\n",
      "15900 \t 14.46\n",
      "16000 \t 14.47\n",
      "16100 \t 14.47\n",
      "16200 \t 14.54\n",
      "16300 \t 14.52\n",
      "16400 \t 14.54\n",
      "16500 \t 14.06\n",
      "16600 \t 14.38\n",
      "16700 \t 14.56\n",
      "16800 \t 15.69\n",
      "16900 \t 13.72\n",
      "17000 \t 14.2\n",
      "17100 \t 15.86\n"
     ]
    },
    {
     "name": "stderr",
     "output_type": "stream",
     "text": [
      " 11%|█         | 11/100 [02:45<22:15, 15.00s/it]"
     ]
    },
    {
     "name": "stdout",
     "output_type": "stream",
     "text": [
      "17200 \t 14.52\n",
      "17300 \t 14.21\n",
      "17400 \t 14.41\n",
      "17500 \t 13.82\n",
      "17600 \t 14.61\n",
      "17700 \t 13.72\n",
      "17800 \t 17.33\n",
      "17900 \t 14.66\n",
      "18000 \t 14.68\n",
      "18100 \t 14.5\n",
      "18200 \t 14.98\n",
      "18300 \t 14.56\n",
      "18400 \t 13.96\n",
      "18500 \t 14.45\n",
      "18600 \t 13.51\n",
      "18700 \t 14.5\n"
     ]
    },
    {
     "name": "stderr",
     "output_type": "stream",
     "text": [
      " 12%|█▏        | 12/100 [03:00<22:06, 15.07s/it]"
     ]
    },
    {
     "name": "stdout",
     "output_type": "stream",
     "text": [
      "18800 \t 14.5\n",
      "18900 \t 14.39\n",
      "19000 \t 14.31\n",
      "19100 \t 13.8\n",
      "19200 \t 14.82\n",
      "19300 \t 14.18\n",
      "19400 \t 13.42\n",
      "19500 \t 14.06\n",
      "19600 \t 14.46\n",
      "19700 \t 14.84\n",
      "19800 \t 14.01\n",
      "19900 \t 14.52\n",
      "20000 \t 13.43\n",
      "20100 \t 14.55\n",
      "20200 \t 14.49\n"
     ]
    },
    {
     "name": "stderr",
     "output_type": "stream",
     "text": [
      " 13%|█▎        | 13/100 [03:15<22:00, 15.18s/it]"
     ]
    },
    {
     "name": "stdout",
     "output_type": "stream",
     "text": [
      "20300 \t 14.25\n",
      "20400 \t 14.03\n",
      "20500 \t 14.02\n",
      "20600 \t 13.68\n",
      "20700 \t 13.41\n",
      "20800 \t 13.76\n",
      "20900 \t 13.47\n",
      "21000 \t 13.19\n",
      "21100 \t 13.64\n",
      "21200 \t 13.55\n",
      "21300 \t 13.84\n",
      "21400 \t 13.2\n",
      "21500 \t 14.17\n",
      "21600 \t 14.3\n",
      "21700 \t 13.62\n",
      "21800 \t 14.08\n"
     ]
    },
    {
     "name": "stderr",
     "output_type": "stream",
     "text": [
      " 14%|█▍        | 14/100 [03:30<21:32, 15.02s/it]"
     ]
    },
    {
     "name": "stdout",
     "output_type": "stream",
     "text": [
      "21900 \t 13.42\n",
      "22000 \t 13.61\n",
      "22100 \t 14.0\n",
      "22200 \t 13.21\n",
      "22300 \t 13.5\n",
      "22400 \t 12.87\n",
      "22500 \t 12.99\n",
      "22600 \t 13.69\n",
      "22700 \t 13.04\n",
      "22800 \t 13.3\n",
      "22900 \t 13.19\n",
      "23000 \t 13.56\n",
      "23100 \t 13.39\n",
      "23200 \t 13.23\n",
      "23300 \t 13.22\n",
      "23400 \t 13.44\n"
     ]
    },
    {
     "name": "stderr",
     "output_type": "stream",
     "text": [
      " 15%|█▌        | 15/100 [03:45<21:20, 15.06s/it]"
     ]
    },
    {
     "name": "stdout",
     "output_type": "stream",
     "text": [
      "23500 \t 13.24\n",
      "23600 \t 13.25\n",
      "23700 \t 13.42\n",
      "23800 \t 13.5\n",
      "23900 \t 12.91\n",
      "24000 \t 13.24\n",
      "24100 \t 14.33\n",
      "24200 \t 13.47\n",
      "24300 \t 13.34\n",
      "24400 \t 13.04\n",
      "24500 \t 13.61\n",
      "24600 \t 13.68\n",
      "24700 \t 13.03\n",
      "24800 \t 13.04\n",
      "24900 \t 13.27\n"
     ]
    },
    {
     "name": "stderr",
     "output_type": "stream",
     "text": [
      " 16%|█▌        | 16/100 [04:00<21:05, 15.07s/it]"
     ]
    },
    {
     "name": "stdout",
     "output_type": "stream",
     "text": [
      "25000 \t 13.12\n",
      "25100 \t 13.3\n",
      "25200 \t 13.35\n",
      "25300 \t 13.28\n",
      "25400 \t 13.29\n",
      "25500 \t 13.2\n",
      "25600 \t 14.15\n",
      "25700 \t 13.32\n",
      "25800 \t 13.2\n",
      "25900 \t 13.15\n",
      "26000 \t 12.91\n",
      "26100 \t 13.24\n",
      "26200 \t 12.76\n",
      "26300 \t 13.15\n",
      "26400 \t 12.96\n",
      "26500 \t 13.57\n"
     ]
    },
    {
     "name": "stderr",
     "output_type": "stream",
     "text": [
      " 17%|█▋        | 17/100 [04:16<20:58, 15.17s/it]"
     ]
    },
    {
     "name": "stdout",
     "output_type": "stream",
     "text": [
      "26600 \t 13.62\n",
      "26700 \t 13.24\n",
      "26800 \t 13.45\n",
      "26900 \t 13.23\n",
      "27000 \t 13.08\n",
      "27100 \t 13.93\n",
      "27200 \t 12.82\n",
      "27300 \t 13.24\n",
      "27400 \t 13.23\n",
      "27500 \t 12.56\n",
      "27600 \t 13.38\n",
      "27700 \t 13.22\n",
      "27800 \t 12.66\n",
      "27900 \t 13.16\n",
      "28000 \t 12.99\n",
      "28100 \t 12.67\n"
     ]
    },
    {
     "name": "stderr",
     "output_type": "stream",
     "text": [
      " 18%|█▊        | 18/100 [04:31<20:51, 15.26s/it]"
     ]
    },
    {
     "name": "stdout",
     "output_type": "stream",
     "text": [
      "28200 \t 12.97\n",
      "28300 \t 13.37\n",
      "28400 \t 13.13\n",
      "28500 \t 12.7\n",
      "28600 \t 12.92\n",
      "28700 \t 12.95\n",
      "28800 \t 13.05\n",
      "28900 \t 12.73\n",
      "29000 \t 13.09\n",
      "29100 \t 12.68\n",
      "29200 \t 12.84\n",
      "29300 \t 13.76\n",
      "29400 \t 12.95\n",
      "29500 \t 13.08\n",
      "29600 \t 12.84\n"
     ]
    },
    {
     "name": "stderr",
     "output_type": "stream",
     "text": [
      " 19%|█▉        | 19/100 [04:46<20:33, 15.23s/it]"
     ]
    },
    {
     "name": "stdout",
     "output_type": "stream",
     "text": [
      "29700 \t 12.96\n",
      "29800 \t 12.69\n",
      "29900 \t 12.96\n",
      "30000 \t 12.71\n",
      "30100 \t 14.02\n",
      "30200 \t 12.82\n",
      "30300 \t 12.9\n",
      "30400 \t 13.0\n",
      "30500 \t 13.93\n",
      "30600 \t 13.09\n",
      "30700 \t 13.01\n",
      "30800 \t 13.18\n",
      "30900 \t 13.63\n",
      "31000 \t 12.51\n",
      "31100 \t 12.83\n",
      "31200 \t 13.05\n"
     ]
    },
    {
     "name": "stderr",
     "output_type": "stream",
     "text": [
      " 20%|██        | 20/100 [05:02<20:22, 15.28s/it]"
     ]
    },
    {
     "name": "stdout",
     "output_type": "stream",
     "text": [
      "31300 \t 12.92\n",
      "31400 \t 13.4\n",
      "31500 \t 12.89\n",
      "31600 \t 13.11\n",
      "31700 \t 13.28\n",
      "31800 \t 12.91\n",
      "31900 \t 12.88\n",
      "32000 \t 13.02\n",
      "32100 \t 13.23\n",
      "32200 \t 13.04\n",
      "32300 \t 13.27\n",
      "32400 \t 13.46\n",
      "32500 \t 13.24\n",
      "32600 \t 12.47\n",
      "32700 \t 12.8\n",
      "32800 \t 12.7\n"
     ]
    },
    {
     "name": "stderr",
     "output_type": "stream",
     "text": [
      " 21%|██        | 21/100 [05:16<19:54, 15.12s/it]"
     ]
    },
    {
     "name": "stdout",
     "output_type": "stream",
     "text": [
      "32900 \t 12.77\n",
      "33000 \t 13.29\n",
      "33100 \t 13.25\n",
      "33200 \t 13.22\n",
      "33300 \t 13.6\n",
      "33400 \t 13.11\n",
      "33500 \t 13.35\n",
      "33600 \t 12.8\n",
      "33700 \t 12.91\n",
      "33800 \t 12.38\n",
      "33900 \t 13.05\n",
      "34000 \t 13.22\n",
      "34100 \t 13.26\n",
      "34200 \t 13.23\n",
      "34300 \t 12.37\n"
     ]
    },
    {
     "name": "stderr",
     "output_type": "stream",
     "text": [
      " 22%|██▏       | 22/100 [05:31<19:28, 14.98s/it]"
     ]
    },
    {
     "name": "stdout",
     "output_type": "stream",
     "text": [
      "34400 \t 13.45\n",
      "34500 \t 13.11\n",
      "34600 \t 13.39\n",
      "34700 \t 13.06\n",
      "34800 \t 13.19\n",
      "34900 \t 12.97\n",
      "35000 \t 13.3\n",
      "35100 \t 12.73\n",
      "35200 \t 13.63\n",
      "35300 \t 13.42\n",
      "35400 \t 13.0\n",
      "35500 \t 12.86\n",
      "35600 \t 12.97\n",
      "35700 \t 12.83\n",
      "35800 \t 13.43\n",
      "35900 \t 12.85\n"
     ]
    },
    {
     "name": "stderr",
     "output_type": "stream",
     "text": [
      " 23%|██▎       | 23/100 [05:46<19:17, 15.03s/it]"
     ]
    },
    {
     "name": "stdout",
     "output_type": "stream",
     "text": [
      "36000 \t 12.76\n",
      "36100 \t 12.79\n",
      "36200 \t 13.03\n",
      "36300 \t 12.92\n",
      "36400 \t 13.13\n",
      "36500 \t 12.85\n",
      "36600 \t 12.85\n",
      "36700 \t 13.05\n",
      "36800 \t 12.83\n",
      "36900 \t 13.03\n",
      "37000 \t 12.89\n",
      "37100 \t 12.87\n",
      "37200 \t 12.2\n",
      "37300 \t 12.93\n",
      "37400 \t 13.06\n"
     ]
    },
    {
     "name": "stderr",
     "output_type": "stream",
     "text": [
      " 24%|██▍       | 24/100 [06:01<19:09, 15.13s/it]"
     ]
    },
    {
     "name": "stdout",
     "output_type": "stream",
     "text": [
      "37500 \t 13.43\n",
      "37600 \t 12.7\n",
      "37700 \t 13.08\n",
      "37800 \t 12.97\n",
      "37900 \t 12.73\n",
      "38000 \t 13.3\n",
      "38100 \t 13.2\n",
      "38200 \t 12.39\n",
      "38300 \t 13.32\n",
      "38400 \t 13.0\n",
      "38500 \t 13.07\n",
      "38600 \t 12.77\n",
      "38700 \t 12.17\n",
      "38800 \t 13.33\n",
      "38900 \t 12.8\n",
      "39000 \t 12.4\n"
     ]
    },
    {
     "name": "stderr",
     "output_type": "stream",
     "text": [
      " 25%|██▌       | 25/100 [06:17<18:56, 15.16s/it]"
     ]
    },
    {
     "name": "stdout",
     "output_type": "stream",
     "text": [
      "39100 \t 12.78\n",
      "39200 \t 13.68\n",
      "39300 \t 13.22\n",
      "39400 \t 12.92\n",
      "39500 \t 13.0\n",
      "39600 \t 13.06\n",
      "39700 \t 12.51\n",
      "39800 \t 12.54\n",
      "39900 \t 12.92\n",
      "40000 \t 12.87\n",
      "40100 \t 12.7\n",
      "40200 \t 13.34\n",
      "40300 \t 12.5\n",
      "40400 \t 13.07\n",
      "40500 \t 12.45\n",
      "40600 \t 12.86\n"
     ]
    },
    {
     "name": "stderr",
     "output_type": "stream",
     "text": [
      " 26%|██▌       | 26/100 [06:32<18:35, 15.07s/it]"
     ]
    },
    {
     "name": "stdout",
     "output_type": "stream",
     "text": [
      "40700 \t 12.4\n",
      "40800 \t 12.58\n",
      "40900 \t 12.75\n",
      "41000 \t 12.75\n",
      "41100 \t 12.57\n",
      "41200 \t 12.62\n",
      "41300 \t 12.53\n",
      "41400 \t 13.09\n",
      "41500 \t 13.0\n",
      "41600 \t 12.9\n",
      "41700 \t 12.81\n",
      "41800 \t 13.06\n",
      "41900 \t 13.12\n",
      "42000 \t 12.81\n",
      "42100 \t 12.67\n"
     ]
    },
    {
     "name": "stderr",
     "output_type": "stream",
     "text": [
      " 27%|██▋       | 27/100 [06:47<18:29, 15.20s/it]"
     ]
    },
    {
     "name": "stdout",
     "output_type": "stream",
     "text": [
      "42200 \t 13.38\n",
      "42300 \t 12.88\n",
      "42400 \t 12.56\n",
      "42500 \t 12.78\n",
      "42600 \t 12.89\n",
      "42700 \t 13.34\n",
      "42800 \t 12.98\n",
      "42900 \t 13.3\n",
      "43000 \t 12.58\n",
      "43100 \t 13.62\n",
      "43200 \t 12.85\n",
      "43300 \t 12.79\n",
      "43400 \t 12.86\n",
      "43500 \t 12.9\n",
      "43600 \t 12.31\n",
      "43700 \t 13.45\n"
     ]
    },
    {
     "name": "stderr",
     "output_type": "stream",
     "text": [
      " 28%|██▊       | 28/100 [07:03<18:31, 15.44s/it]"
     ]
    },
    {
     "name": "stdout",
     "output_type": "stream",
     "text": [
      "43800 \t 12.86\n",
      "43900 \t 12.59\n",
      "44000 \t 12.62\n",
      "44100 \t 12.97\n",
      "44200 \t 12.67\n",
      "44300 \t 12.42\n",
      "44400 \t 13.25\n",
      "44500 \t 13.17\n",
      "44600 \t 12.76\n",
      "44700 \t 13.05\n",
      "44800 \t 12.85\n",
      "44900 \t 12.61\n",
      "45000 \t 12.55\n",
      "45100 \t 12.57\n",
      "45200 \t 12.88\n",
      "45300 \t 12.62\n"
     ]
    },
    {
     "name": "stderr",
     "output_type": "stream",
     "text": [
      " 29%|██▉       | 29/100 [07:18<18:12, 15.39s/it]"
     ]
    },
    {
     "name": "stdout",
     "output_type": "stream",
     "text": [
      "45400 \t 13.22\n",
      "45500 \t 12.81\n",
      "45600 \t 12.95\n",
      "45700 \t 12.59\n",
      "45800 \t 12.99\n",
      "45900 \t 12.63\n",
      "46000 \t 13.48\n",
      "46100 \t 12.62\n",
      "46200 \t 13.29\n",
      "46300 \t 12.47\n",
      "46400 \t 12.93\n",
      "46500 \t 13.03\n",
      "46600 \t 13.15\n",
      "46700 \t 12.86\n",
      "46800 \t 13.16\n"
     ]
    },
    {
     "name": "stderr",
     "output_type": "stream",
     "text": [
      " 30%|███       | 30/100 [07:34<18:12, 15.60s/it]"
     ]
    },
    {
     "name": "stdout",
     "output_type": "stream",
     "text": [
      "46900 \t 12.5\n",
      "47000 \t 12.64\n",
      "47100 \t 12.48\n",
      "47200 \t 12.87\n",
      "47300 \t 12.64\n",
      "47400 \t 13.1\n",
      "47500 \t 12.7\n",
      "47600 \t 12.74\n",
      "47700 \t 12.58\n",
      "47800 \t 12.69\n",
      "47900 \t 12.72\n",
      "48000 \t 12.94\n",
      "48100 \t 12.37\n",
      "48200 \t 13.0\n",
      "48300 \t 12.61\n",
      "48400 \t 12.95\n"
     ]
    },
    {
     "name": "stderr",
     "output_type": "stream",
     "text": [
      " 31%|███       | 31/100 [07:50<17:51, 15.53s/it]"
     ]
    },
    {
     "name": "stdout",
     "output_type": "stream",
     "text": [
      "48500 \t 12.06\n",
      "48600 \t 12.86\n",
      "48700 \t 13.62\n",
      "48800 \t 12.25\n",
      "48900 \t 12.6\n",
      "49000 \t 12.52\n",
      "49100 \t 13.06\n",
      "49200 \t 12.78\n",
      "49300 \t 12.73\n",
      "49400 \t 12.56\n",
      "49500 \t 12.51\n",
      "49600 \t 12.7\n",
      "49700 \t 13.19\n",
      "49800 \t 12.36\n",
      "49900 \t 12.7\n"
     ]
    },
    {
     "name": "stderr",
     "output_type": "stream",
     "text": [
      " 32%|███▏      | 32/100 [08:05<17:30, 15.45s/it]"
     ]
    },
    {
     "name": "stdout",
     "output_type": "stream",
     "text": [
      "50000 \t 12.57\n",
      "50100 \t 12.43\n",
      "50200 \t 12.82\n",
      "50300 \t 13.1\n",
      "50400 \t 12.56\n",
      "50500 \t 12.86\n",
      "50600 \t 12.84\n",
      "50700 \t 13.17\n",
      "50800 \t 12.57\n",
      "50900 \t 12.92\n",
      "51000 \t 13.0\n",
      "51100 \t 12.46\n",
      "51200 \t 12.88\n",
      "51300 \t 12.42\n",
      "51400 \t 12.81\n",
      "51500 \t 12.4\n"
     ]
    },
    {
     "name": "stderr",
     "output_type": "stream",
     "text": [
      " 33%|███▎      | 33/100 [08:20<17:04, 15.29s/it]"
     ]
    },
    {
     "name": "stdout",
     "output_type": "stream",
     "text": [
      "51600 \t 12.31\n",
      "51700 \t 12.73\n",
      "51800 \t 12.78\n",
      "51900 \t 13.17\n",
      "52000 \t 12.82\n",
      "52100 \t 13.1\n",
      "52200 \t 12.34\n",
      "52300 \t 12.34\n",
      "52400 \t 12.39\n",
      "52500 \t 12.48\n",
      "52600 \t 12.94\n",
      "52700 \t 12.43\n",
      "52800 \t 12.79\n",
      "52900 \t 12.58\n",
      "53000 \t 12.94\n",
      "53100 \t 12.61\n"
     ]
    },
    {
     "name": "stderr",
     "output_type": "stream",
     "text": [
      " 34%|███▍      | 34/100 [08:35<16:35, 15.09s/it]"
     ]
    },
    {
     "name": "stdout",
     "output_type": "stream",
     "text": [
      "53200 \t 12.57\n",
      "53300 \t 12.4\n",
      "53400 \t 12.38\n",
      "53500 \t 12.44\n",
      "53600 \t 12.88\n",
      "53700 \t 12.98\n",
      "53800 \t 12.88\n",
      "53900 \t 12.5\n",
      "54000 \t 12.66\n",
      "54100 \t 13.13\n",
      "54200 \t 12.96\n",
      "54300 \t 12.71\n",
      "54400 \t 12.7\n",
      "54500 \t 12.79\n",
      "54600 \t 12.71\n"
     ]
    },
    {
     "name": "stderr",
     "output_type": "stream",
     "text": [
      " 35%|███▌      | 35/100 [08:50<16:31, 15.26s/it]"
     ]
    },
    {
     "name": "stdout",
     "output_type": "stream",
     "text": [
      "54700 \t 12.93\n",
      "54800 \t 12.54\n",
      "54900 \t 12.48\n",
      "55000 \t 12.41\n",
      "55100 \t 12.65\n",
      "55200 \t 12.5\n",
      "55300 \t 12.59\n",
      "55400 \t 12.93\n",
      "55500 \t 12.47\n",
      "55600 \t 12.51\n",
      "55700 \t 12.71\n",
      "55800 \t 12.54\n",
      "55900 \t 12.59\n",
      "56000 \t 13.11\n",
      "56100 \t 12.97\n",
      "56200 \t 12.94\n"
     ]
    },
    {
     "name": "stderr",
     "output_type": "stream",
     "text": [
      " 36%|███▌      | 36/100 [09:06<16:25, 15.39s/it]"
     ]
    },
    {
     "name": "stdout",
     "output_type": "stream",
     "text": [
      "56300 \t 12.44\n",
      "56400 \t 12.4\n",
      "56500 \t 12.22\n",
      "56600 \t 12.71\n",
      "56700 \t 13.12\n",
      "56800 \t 13.03\n",
      "56900 \t 12.6\n",
      "57000 \t 13.12\n",
      "57100 \t 12.87\n",
      "57200 \t 12.79\n",
      "57300 \t 12.5\n",
      "57400 \t 12.18\n",
      "57500 \t 12.55\n",
      "57600 \t 12.61\n",
      "57700 \t 12.24\n",
      "57800 \t 12.39\n"
     ]
    },
    {
     "name": "stderr",
     "output_type": "stream",
     "text": [
      " 37%|███▋      | 37/100 [09:21<15:59, 15.22s/it]"
     ]
    },
    {
     "name": "stdout",
     "output_type": "stream",
     "text": [
      "57900 \t 12.31\n",
      "58000 \t 12.53\n",
      "58100 \t 12.45\n",
      "58200 \t 12.92\n",
      "58300 \t 12.62\n",
      "58400 \t 12.56\n",
      "58500 \t 13.22\n",
      "58600 \t 12.53\n",
      "58700 \t 12.7\n",
      "58800 \t 12.86\n",
      "58900 \t 13.29\n",
      "59000 \t 13.17\n",
      "59100 \t 12.62\n",
      "59200 \t 12.76\n",
      "59300 \t 12.63\n"
     ]
    },
    {
     "name": "stderr",
     "output_type": "stream",
     "text": [
      " 38%|███▊      | 38/100 [09:36<15:35, 15.09s/it]"
     ]
    },
    {
     "name": "stdout",
     "output_type": "stream",
     "text": [
      "59400 \t 12.86\n",
      "59500 \t 12.35\n",
      "59600 \t 13.07\n",
      "59700 \t 12.64\n",
      "59800 \t 12.61\n",
      "59900 \t 12.48\n",
      "60000 \t 12.54\n",
      "60100 \t 13.22\n",
      "60200 \t 12.99\n",
      "60300 \t 12.98\n",
      "60400 \t 12.34\n",
      "60500 \t 12.53\n",
      "60600 \t 12.59\n",
      "60700 \t 12.74\n",
      "60800 \t 12.53\n",
      "60900 \t 12.57\n"
     ]
    },
    {
     "name": "stderr",
     "output_type": "stream",
     "text": [
      " 39%|███▉      | 39/100 [09:51<15:18, 15.06s/it]"
     ]
    },
    {
     "name": "stdout",
     "output_type": "stream",
     "text": [
      "61000 \t 12.55\n",
      "61100 \t 12.88\n",
      "61200 \t 12.64\n",
      "61300 \t 12.97\n",
      "61400 \t 12.3\n",
      "61500 \t 12.14\n",
      "61600 \t 12.97\n",
      "61700 \t 12.66\n",
      "61800 \t 13.06\n",
      "61900 \t 12.43\n",
      "62000 \t 12.89\n",
      "62100 \t 12.86\n",
      "62200 \t 12.54\n",
      "62300 \t 12.43\n",
      "62400 \t 13.07\n"
     ]
    },
    {
     "name": "stderr",
     "output_type": "stream",
     "text": [
      " 40%|████      | 40/100 [10:07<15:19, 15.33s/it]"
     ]
    },
    {
     "name": "stdout",
     "output_type": "stream",
     "text": [
      "62500 \t 12.63\n",
      "62600 \t 12.6\n",
      "62700 \t 12.74\n",
      "62800 \t 12.75\n",
      "62900 \t 12.23\n",
      "63000 \t 12.13\n",
      "63100 \t 12.42\n",
      "63200 \t 12.43\n",
      "63300 \t 12.47\n",
      "63400 \t 12.12\n",
      "63500 \t 12.49\n",
      "63600 \t 12.57\n",
      "63700 \t 12.69\n",
      "63800 \t 12.52\n",
      "63900 \t 13.2\n",
      "64000 \t 13.09\n"
     ]
    },
    {
     "name": "stderr",
     "output_type": "stream",
     "text": [
      " 41%|████      | 41/100 [10:22<15:00, 15.27s/it]"
     ]
    },
    {
     "name": "stdout",
     "output_type": "stream",
     "text": [
      "64100 \t 12.54\n",
      "64200 \t 12.44\n",
      "64300 \t 12.53\n",
      "64400 \t 12.75\n",
      "64500 \t 12.32\n",
      "64600 \t 12.51\n",
      "64700 \t 12.57\n",
      "64800 \t 12.3\n",
      "64900 \t 12.58\n",
      "65000 \t 12.55\n",
      "65100 \t 12.86\n",
      "65200 \t 13.09\n",
      "65300 \t 12.96\n",
      "65400 \t 12.42\n",
      "65500 \t 13.29\n",
      "65600 \t 12.78\n"
     ]
    },
    {
     "name": "stderr",
     "output_type": "stream",
     "text": [
      " 42%|████▏     | 42/100 [10:38<14:58, 15.50s/it]"
     ]
    },
    {
     "name": "stdout",
     "output_type": "stream",
     "text": [
      "65700 \t 12.86\n",
      "65800 \t 12.91\n",
      "65900 \t 12.57\n",
      "66000 \t 12.35\n",
      "66100 \t 12.45\n",
      "66200 \t 13.51\n",
      "66300 \t 12.53\n",
      "66400 \t 12.41\n",
      "66500 \t 12.79\n",
      "66600 \t 12.83\n",
      "66700 \t 12.15\n",
      "66800 \t 12.71\n",
      "66900 \t 12.37\n",
      "67000 \t 12.31\n",
      "67100 \t 12.38\n"
     ]
    },
    {
     "name": "stderr",
     "output_type": "stream",
     "text": [
      " 43%|████▎     | 43/100 [10:54<14:54, 15.69s/it]"
     ]
    },
    {
     "name": "stdout",
     "output_type": "stream",
     "text": [
      "67200 \t 12.83\n",
      "67300 \t 13.06\n",
      "67400 \t 12.54\n",
      "67500 \t 12.55\n",
      "67600 \t 12.54\n",
      "67700 \t 12.56\n",
      "67800 \t 13.03\n",
      "67900 \t 12.43\n",
      "68000 \t 13.18\n",
      "68100 \t 12.51\n",
      "68200 \t 12.72\n",
      "68300 \t 12.28\n",
      "68400 \t 12.7\n",
      "68500 \t 12.83\n",
      "68600 \t 12.52\n",
      "68700 \t 12.42\n"
     ]
    },
    {
     "name": "stderr",
     "output_type": "stream",
     "text": [
      " 44%|████▍     | 44/100 [11:10<14:46, 15.82s/it]"
     ]
    },
    {
     "name": "stdout",
     "output_type": "stream",
     "text": [
      "68800 \t 13.08\n",
      "68900 \t 12.34\n",
      "69000 \t 12.79\n",
      "69100 \t 12.52\n",
      "69200 \t 12.4\n",
      "69300 \t 12.39\n",
      "69400 \t 12.5\n",
      "69500 \t 12.41\n",
      "69600 \t 12.66\n",
      "69700 \t 12.75\n",
      "69800 \t 12.99\n",
      "69900 \t 12.69\n",
      "70000 \t 12.66\n",
      "70100 \t 12.24\n",
      "70200 \t 13.24\n",
      "70300 \t 12.59\n"
     ]
    },
    {
     "name": "stderr",
     "output_type": "stream",
     "text": [
      " 45%|████▌     | 45/100 [11:26<14:33, 15.88s/it]"
     ]
    },
    {
     "name": "stdout",
     "output_type": "stream",
     "text": [
      "70400 \t 12.7\n",
      "70500 \t 12.64\n",
      "70600 \t 12.78\n",
      "70700 \t 13.1\n",
      "70800 \t 12.59\n",
      "70900 \t 12.8\n",
      "71000 \t 12.73\n",
      "71100 \t 12.73\n",
      "71200 \t 12.24\n",
      "71300 \t 12.21\n",
      "71400 \t 12.93\n",
      "71500 \t 12.71\n",
      "71600 \t 12.62\n",
      "71700 \t 12.63\n",
      "71800 \t 12.07\n"
     ]
    },
    {
     "name": "stderr",
     "output_type": "stream",
     "text": [
      " 46%|████▌     | 46/100 [11:41<14:04, 15.63s/it]"
     ]
    },
    {
     "name": "stdout",
     "output_type": "stream",
     "text": [
      "71900 \t 12.31\n",
      "72000 \t 12.51\n",
      "72100 \t 12.28\n",
      "72200 \t 11.93\n",
      "72300 \t 12.66\n",
      "72400 \t 12.65\n",
      "72500 \t 12.13\n",
      "72600 \t 12.66\n",
      "72700 \t 12.74\n",
      "72800 \t 12.23\n",
      "72900 \t 12.26\n",
      "73000 \t 12.41\n",
      "73100 \t 12.44\n",
      "73200 \t 12.08\n",
      "73300 \t 12.45\n",
      "73400 \t 12.68\n"
     ]
    },
    {
     "name": "stderr",
     "output_type": "stream",
     "text": [
      " 47%|████▋     | 47/100 [11:56<13:41, 15.49s/it]"
     ]
    },
    {
     "name": "stdout",
     "output_type": "stream",
     "text": [
      "73500 \t 12.89\n",
      "73600 \t 12.3\n",
      "73700 \t 12.37\n",
      "73800 \t 12.97\n",
      "73900 \t 12.22\n",
      "74000 \t 12.25\n",
      "74100 \t 12.42\n",
      "74200 \t 12.78\n",
      "74300 \t 12.54\n",
      "74400 \t 12.42\n",
      "74500 \t 13.03\n",
      "74600 \t 13.13\n",
      "74700 \t 12.38\n",
      "74800 \t 12.54\n",
      "74900 \t 12.39\n",
      "75000 \t 12.61\n"
     ]
    },
    {
     "name": "stderr",
     "output_type": "stream",
     "text": [
      " 48%|████▊     | 48/100 [12:12<13:37, 15.72s/it]"
     ]
    },
    {
     "name": "stdout",
     "output_type": "stream",
     "text": [
      "75100 \t 12.72\n",
      "75200 \t 12.25\n",
      "75300 \t 12.75\n",
      "75400 \t 12.97\n",
      "75500 \t 11.96\n",
      "75600 \t 12.47\n",
      "75700 \t 12.88\n",
      "75800 \t 12.5\n",
      "75900 \t 12.75\n",
      "76000 \t 12.7\n",
      "76100 \t 12.74\n",
      "76200 \t 12.54\n",
      "76300 \t 12.59\n",
      "76400 \t 12.73\n",
      "76500 \t 12.55\n"
     ]
    },
    {
     "name": "stderr",
     "output_type": "stream",
     "text": [
      " 49%|████▉     | 49/100 [12:28<13:16, 15.61s/it]"
     ]
    },
    {
     "name": "stdout",
     "output_type": "stream",
     "text": [
      "76600 \t 12.37\n",
      "76700 \t 12.92\n",
      "76800 \t 12.68\n",
      "76900 \t 12.38\n",
      "77000 \t 12.88\n",
      "77100 \t 12.88\n",
      "77200 \t 12.33\n",
      "77300 \t 12.62\n",
      "77400 \t 12.84\n",
      "77500 \t 12.27\n",
      "77600 \t 12.35\n",
      "77700 \t 12.65\n",
      "77800 \t 11.97\n",
      "77900 \t 12.41\n",
      "78000 \t 12.81\n",
      "78100 \t 13.05\n"
     ]
    },
    {
     "name": "stderr",
     "output_type": "stream",
     "text": [
      " 50%|█████     | 50/100 [12:43<13:01, 15.63s/it]"
     ]
    },
    {
     "name": "stdout",
     "output_type": "stream",
     "text": [
      "78200 \t 12.33\n",
      "78300 \t 12.43\n",
      "78400 \t 12.39\n",
      "78500 \t 12.72\n",
      "78600 \t 12.52\n",
      "78700 \t 12.8\n",
      "78800 \t 12.61\n",
      "78900 \t 12.28\n",
      "79000 \t 12.74\n",
      "79100 \t 12.85\n",
      "79200 \t 12.25\n",
      "79300 \t 12.6\n",
      "79400 \t 12.51\n",
      "79500 \t 12.86\n",
      "79600 \t 12.46\n"
     ]
    },
    {
     "name": "stderr",
     "output_type": "stream",
     "text": [
      " 51%|█████     | 51/100 [12:59<12:48, 15.68s/it]"
     ]
    },
    {
     "name": "stdout",
     "output_type": "stream",
     "text": [
      "79700 \t 12.25\n",
      "79800 \t 12.25\n",
      "79900 \t 12.49\n",
      "80000 \t 13.17\n",
      "80100 \t 12.69\n",
      "80200 \t 12.69\n",
      "80300 \t 12.7\n",
      "80400 \t 12.31\n",
      "80500 \t 12.28\n",
      "80600 \t 12.73\n",
      "80700 \t 12.47\n",
      "80800 \t 12.68\n",
      "80900 \t 12.49\n",
      "81000 \t 12.55\n",
      "81100 \t 12.85\n",
      "81200 \t 13.0\n"
     ]
    },
    {
     "name": "stderr",
     "output_type": "stream",
     "text": [
      " 52%|█████▏    | 52/100 [13:15<12:30, 15.63s/it]"
     ]
    },
    {
     "name": "stdout",
     "output_type": "stream",
     "text": [
      "81300 \t 12.57\n",
      "81400 \t 12.41\n",
      "81500 \t 12.67\n",
      "81600 \t 12.38\n",
      "81700 \t 12.45\n",
      "81800 \t 12.89\n",
      "81900 \t 12.63\n",
      "82000 \t 12.42\n",
      "82100 \t 12.52\n",
      "82200 \t 12.72\n",
      "82300 \t 12.89\n",
      "82400 \t 12.4\n",
      "82500 \t 12.84\n",
      "82600 \t 12.37\n",
      "82700 \t 12.26\n",
      "82800 \t 12.64\n"
     ]
    },
    {
     "name": "stderr",
     "output_type": "stream",
     "text": [
      " 53%|█████▎    | 53/100 [13:32<12:29, 15.96s/it]"
     ]
    },
    {
     "name": "stdout",
     "output_type": "stream",
     "text": [
      "82900 \t 12.2\n",
      "83000 \t 12.33\n",
      "83100 \t 12.1\n",
      "83200 \t 13.09\n",
      "83300 \t 12.6\n",
      "83400 \t 12.61\n",
      "83500 \t 12.78\n",
      "83600 \t 12.68\n",
      "83700 \t 12.65\n",
      "83800 \t 12.54\n",
      "83900 \t 12.48\n",
      "84000 \t 12.19\n",
      "84100 \t 12.61\n",
      "84200 \t 12.11\n",
      "84300 \t 12.79\n"
     ]
    },
    {
     "name": "stderr",
     "output_type": "stream",
     "text": [
      " 54%|█████▍    | 54/100 [13:49<12:34, 16.41s/it]"
     ]
    },
    {
     "name": "stdout",
     "output_type": "stream",
     "text": [
      "84400 \t 12.04\n",
      "84500 \t 12.37\n",
      "84600 \t 12.43\n",
      "84700 \t 12.35\n",
      "84800 \t 13.01\n",
      "84900 \t 12.67\n",
      "85000 \t 12.89\n",
      "85100 \t 12.99\n",
      "85200 \t 12.78\n",
      "85300 \t 12.09\n",
      "85400 \t 12.85\n",
      "85500 \t 12.57\n",
      "85600 \t 12.33\n",
      "85700 \t 12.9\n",
      "85800 \t 12.8\n",
      "85900 \t 13.04\n"
     ]
    },
    {
     "name": "stderr",
     "output_type": "stream",
     "text": [
      " 55%|█████▌    | 55/100 [14:05<12:13, 16.29s/it]"
     ]
    },
    {
     "name": "stdout",
     "output_type": "stream",
     "text": [
      "86000 \t 12.84\n",
      "86100 \t 12.26\n",
      "86200 \t 12.51\n",
      "86300 \t 12.18\n",
      "86400 \t 13.14\n",
      "86500 \t 12.68\n",
      "86600 \t 12.94\n",
      "86700 \t 12.34\n",
      "86800 \t 12.51\n",
      "86900 \t 12.38\n",
      "87000 \t 12.6\n",
      "87100 \t 12.43\n",
      "87200 \t 12.72\n",
      "87300 \t 12.4\n",
      "87400 \t 12.66\n",
      "87500 \t 12.98\n"
     ]
    },
    {
     "name": "stderr",
     "output_type": "stream",
     "text": [
      " 56%|█████▌    | 56/100 [14:20<11:45, 16.04s/it]"
     ]
    },
    {
     "name": "stdout",
     "output_type": "stream",
     "text": [
      "87600 \t 12.38\n",
      "87700 \t 12.36\n",
      "87800 \t 12.38\n",
      "87900 \t 12.84\n",
      "88000 \t 12.69\n",
      "88100 \t 12.32\n",
      "88200 \t 12.35\n",
      "88300 \t 12.68\n",
      "88400 \t 12.4\n",
      "88500 \t 12.85\n",
      "88600 \t 12.53\n",
      "88700 \t 12.37\n",
      "88800 \t 12.57\n",
      "88900 \t 12.86\n",
      "89000 \t 12.4\n"
     ]
    },
    {
     "name": "stderr",
     "output_type": "stream",
     "text": [
      " 57%|█████▋    | 57/100 [14:36<11:24, 15.93s/it]"
     ]
    },
    {
     "name": "stdout",
     "output_type": "stream",
     "text": [
      "89100 \t 12.16\n",
      "89200 \t 12.67\n",
      "89300 \t 12.7\n",
      "89400 \t 12.23\n",
      "89500 \t 12.95\n",
      "89600 \t 12.42\n",
      "89700 \t 12.91\n",
      "89800 \t 12.41\n",
      "89900 \t 12.48\n",
      "90000 \t 12.89\n",
      "90100 \t 13.01\n",
      "90200 \t 12.89\n",
      "90300 \t 12.26\n",
      "90400 \t 12.23\n",
      "90500 \t 12.42\n",
      "90600 \t 12.7\n"
     ]
    },
    {
     "name": "stderr",
     "output_type": "stream",
     "text": [
      " 58%|█████▊    | 58/100 [14:53<11:18, 16.15s/it]"
     ]
    },
    {
     "name": "stdout",
     "output_type": "stream",
     "text": [
      "90700 \t 12.51\n",
      "90800 \t 12.8\n",
      "90900 \t 12.78\n",
      "91000 \t 12.78\n",
      "91100 \t 12.46\n",
      "91200 \t 12.66\n",
      "91300 \t 12.4\n",
      "91400 \t 13.12\n",
      "91500 \t 12.54\n",
      "91600 \t 12.82\n",
      "91700 \t 12.46\n",
      "91800 \t 12.28\n",
      "91900 \t 12.47\n",
      "92000 \t 12.67\n",
      "92100 \t 12.36\n"
     ]
    },
    {
     "name": "stderr",
     "output_type": "stream",
     "text": [
      " 59%|█████▉    | 59/100 [15:08<10:56, 16.01s/it]"
     ]
    },
    {
     "name": "stdout",
     "output_type": "stream",
     "text": [
      "92200 \t 12.7\n",
      "92300 \t 12.84\n",
      "92400 \t 12.77\n",
      "92500 \t 11.98\n",
      "92600 \t 12.03\n",
      "92700 \t 12.56\n",
      "92800 \t 12.65\n",
      "92900 \t 12.29\n",
      "93000 \t 12.22\n",
      "93100 \t 12.54\n",
      "93200 \t 12.65\n",
      "93300 \t 12.48\n",
      "93400 \t 12.48\n",
      "93500 \t 13.07\n",
      "93600 \t 12.76\n",
      "93700 \t 12.5\n"
     ]
    },
    {
     "name": "stderr",
     "output_type": "stream",
     "text": [
      " 60%|██████    | 60/100 [15:25<10:51, 16.28s/it]"
     ]
    },
    {
     "name": "stdout",
     "output_type": "stream",
     "text": [
      "93800 \t 12.44\n",
      "93900 \t 12.79\n",
      "94000 \t 12.09\n",
      "94100 \t 12.63\n",
      "94200 \t 12.35\n",
      "94300 \t 12.6\n",
      "94400 \t 12.75\n",
      "94500 \t 12.68\n",
      "94600 \t 12.3\n",
      "94700 \t 12.44\n",
      "94800 \t 12.84\n",
      "94900 \t 12.66\n",
      "95000 \t 12.81\n",
      "95100 \t 12.5\n",
      "95200 \t 12.7\n",
      "95300 \t 12.04\n"
     ]
    },
    {
     "name": "stderr",
     "output_type": "stream",
     "text": [
      " 61%|██████    | 61/100 [15:43<10:48, 16.63s/it]"
     ]
    },
    {
     "name": "stdout",
     "output_type": "stream",
     "text": [
      "95400 \t 12.87\n",
      "95500 \t 12.43\n",
      "95600 \t 12.67\n",
      "95700 \t 12.76\n",
      "95800 \t 12.22\n",
      "95900 \t 12.59\n",
      "96000 \t 13.03\n",
      "96100 \t 12.65\n",
      "96200 \t 12.52\n",
      "96300 \t 12.3\n",
      "96400 \t 12.74\n",
      "96500 \t 11.95\n",
      "96600 \t 12.22\n",
      "96700 \t 12.46\n",
      "96800 \t 12.36\n"
     ]
    },
    {
     "name": "stderr",
     "output_type": "stream",
     "text": [
      " 62%|██████▏   | 62/100 [15:58<10:19, 16.30s/it]"
     ]
    },
    {
     "name": "stdout",
     "output_type": "stream",
     "text": [
      "96900 \t 12.75\n",
      "97000 \t 12.55\n",
      "97100 \t 12.83\n",
      "97200 \t 12.19\n",
      "97300 \t 12.67\n",
      "97400 \t 12.43\n",
      "97500 \t 12.71\n",
      "97600 \t 12.76\n",
      "97700 \t 12.64\n",
      "97800 \t 12.3\n",
      "97900 \t 12.84\n",
      "98000 \t 12.45\n",
      "98100 \t 12.69\n",
      "98200 \t 12.53\n",
      "98300 \t 12.26\n",
      "98400 \t 12.28\n"
     ]
    },
    {
     "name": "stderr",
     "output_type": "stream",
     "text": [
      " 63%|██████▎   | 63/100 [16:15<10:01, 16.27s/it]"
     ]
    },
    {
     "name": "stdout",
     "output_type": "stream",
     "text": [
      "98500 \t 12.63\n",
      "98600 \t 12.5\n",
      "98700 \t 12.36\n",
      "98800 \t 12.28\n",
      "98900 \t 12.61\n",
      "99000 \t 12.01\n",
      "99100 \t 12.12\n",
      "99200 \t 12.59\n",
      "99300 \t 12.63\n",
      "99400 \t 12.79\n",
      "99500 \t 12.29\n",
      "99600 \t 12.33\n",
      "99700 \t 12.41\n",
      "99800 \t 12.27\n",
      "99900 \t 12.39\n",
      "100000 \t 12.12\n"
     ]
    },
    {
     "name": "stderr",
     "output_type": "stream",
     "text": [
      " 64%|██████▍   | 64/100 [16:30<09:40, 16.14s/it]"
     ]
    },
    {
     "name": "stdout",
     "output_type": "stream",
     "text": [
      "100100 \t 12.14\n",
      "100200 \t 12.6\n",
      "100300 \t 12.44\n",
      "100400 \t 12.28\n",
      "100500 \t 12.33\n",
      "100600 \t 12.42\n",
      "100700 \t 12.67\n",
      "100800 \t 12.82\n",
      "100900 \t 12.46\n",
      "101000 \t 12.85\n",
      "101100 \t 12.3\n",
      "101200 \t 12.31\n",
      "101300 \t 12.91\n",
      "101400 \t 12.71\n",
      "101500 \t 12.5\n"
     ]
    },
    {
     "name": "stderr",
     "output_type": "stream",
     "text": [
      " 65%|██████▌   | 65/100 [16:47<09:26, 16.19s/it]"
     ]
    },
    {
     "name": "stdout",
     "output_type": "stream",
     "text": [
      "101600 \t 12.35\n",
      "101700 \t 12.64\n",
      "101800 \t 11.98\n",
      "101900 \t 12.67\n",
      "102000 \t 12.42\n",
      "102100 \t 12.97\n",
      "102200 \t 12.19\n",
      "102300 \t 12.63\n",
      "102400 \t 12.55\n",
      "102500 \t 12.38\n",
      "102600 \t 12.71\n",
      "102700 \t 11.89\n",
      "102800 \t 12.56\n",
      "102900 \t 12.07\n",
      "103000 \t 12.54\n",
      "103100 \t 12.61\n"
     ]
    },
    {
     "name": "stderr",
     "output_type": "stream",
     "text": [
      " 66%|██████▌   | 66/100 [17:03<09:08, 16.14s/it]"
     ]
    },
    {
     "name": "stdout",
     "output_type": "stream",
     "text": [
      "103200 \t 12.53\n",
      "103300 \t 12.47\n",
      "103400 \t 12.47\n",
      "103500 \t 12.79\n",
      "103600 \t 12.49\n",
      "103700 \t 12.83\n",
      "103800 \t 12.83\n",
      "103900 \t 12.71\n",
      "104000 \t 12.62\n",
      "104100 \t 12.28\n",
      "104200 \t 12.28\n",
      "104300 \t 12.56\n",
      "104400 \t 12.74\n",
      "104500 \t 12.25\n",
      "104600 \t 12.62\n"
     ]
    },
    {
     "name": "stderr",
     "output_type": "stream",
     "text": [
      " 67%|██████▋   | 67/100 [17:19<08:51, 16.09s/it]"
     ]
    },
    {
     "name": "stdout",
     "output_type": "stream",
     "text": [
      "104700 \t 12.56\n",
      "104800 \t 12.44\n",
      "104900 \t 12.29\n",
      "105000 \t 12.45\n",
      "105100 \t 12.73\n",
      "105200 \t 12.19\n",
      "105300 \t 12.93\n",
      "105400 \t 12.6\n",
      "105500 \t 12.92\n",
      "105600 \t 12.14\n",
      "105700 \t 12.76\n",
      "105800 \t 12.32\n",
      "105900 \t 12.55\n",
      "106000 \t 12.39\n",
      "106100 \t 11.78\n",
      "106200 \t 12.74\n"
     ]
    },
    {
     "name": "stderr",
     "output_type": "stream",
     "text": [
      " 68%|██████▊   | 68/100 [17:34<08:31, 15.99s/it]"
     ]
    },
    {
     "name": "stdout",
     "output_type": "stream",
     "text": [
      "106300 \t 12.69\n",
      "106400 \t 12.34\n",
      "106500 \t 12.32\n",
      "106600 \t 12.43\n",
      "106700 \t 12.71\n",
      "106800 \t 12.57\n",
      "106900 \t 12.2\n",
      "107000 \t 12.39\n",
      "107100 \t 12.24\n",
      "107200 \t 12.52\n",
      "107300 \t 12.33\n",
      "107400 \t 12.81\n",
      "107500 \t 12.28\n",
      "107600 \t 12.51\n",
      "107700 \t 12.39\n",
      "107800 \t 12.65\n"
     ]
    },
    {
     "name": "stderr",
     "output_type": "stream",
     "text": [
      " 69%|██████▉   | 69/100 [17:50<08:10, 15.84s/it]"
     ]
    },
    {
     "name": "stdout",
     "output_type": "stream",
     "text": [
      "107900 \t 12.45\n",
      "108000 \t 12.16\n",
      "108100 \t 12.54\n",
      "108200 \t 12.44\n",
      "108300 \t 13.04\n",
      "108400 \t 12.36\n",
      "108500 \t 13.0\n",
      "108600 \t 12.55\n",
      "108700 \t 12.76\n",
      "108800 \t 12.78\n",
      "108900 \t 12.06\n",
      "109000 \t 12.88\n",
      "109100 \t 12.54\n",
      "109200 \t 12.44\n",
      "109300 \t 12.61\n"
     ]
    },
    {
     "name": "stderr",
     "output_type": "stream",
     "text": [
      " 70%|███████   | 70/100 [18:06<08:00, 16.03s/it]"
     ]
    },
    {
     "name": "stdout",
     "output_type": "stream",
     "text": [
      "109400 \t 12.97\n",
      "109500 \t 12.58\n",
      "109600 \t 12.66\n",
      "109700 \t 12.1\n",
      "109800 \t 12.32\n",
      "109900 \t 12.48\n",
      "110000 \t 12.23\n",
      "110100 \t 12.52\n",
      "110200 \t 12.93\n",
      "110300 \t 13.04\n",
      "110400 \t 12.41\n",
      "110500 \t 12.26\n",
      "110600 \t 12.04\n",
      "110700 \t 12.85\n",
      "110800 \t 12.43\n",
      "110900 \t 12.53\n"
     ]
    },
    {
     "name": "stderr",
     "output_type": "stream",
     "text": [
      " 71%|███████   | 71/100 [18:22<07:44, 16.02s/it]"
     ]
    },
    {
     "name": "stdout",
     "output_type": "stream",
     "text": [
      "111000 \t 12.2\n",
      "111100 \t 12.64\n",
      "111200 \t 12.57\n",
      "111300 \t 12.68\n",
      "111400 \t 12.3\n",
      "111500 \t 13.07\n",
      "111600 \t 12.47\n",
      "111700 \t 12.35\n",
      "111800 \t 12.77\n",
      "111900 \t 12.29\n",
      "112000 \t 12.35\n",
      "112100 \t 12.39\n",
      "112200 \t 12.23\n",
      "112300 \t 12.58\n",
      "112400 \t 12.45\n",
      "112500 \t 12.51\n"
     ]
    },
    {
     "name": "stderr",
     "output_type": "stream",
     "text": [
      " 72%|███████▏  | 72/100 [18:38<07:26, 15.93s/it]"
     ]
    },
    {
     "name": "stdout",
     "output_type": "stream",
     "text": [
      "112600 \t 12.75\n",
      "112700 \t 12.35\n",
      "112800 \t 12.72\n",
      "112900 \t 12.61\n",
      "113000 \t 12.64\n",
      "113100 \t 12.62\n",
      "113200 \t 12.34\n",
      "113300 \t 12.74\n",
      "113400 \t 12.61\n",
      "113500 \t 12.42\n",
      "113600 \t 12.26\n",
      "113700 \t 12.55\n",
      "113800 \t 12.61\n",
      "113900 \t 12.98\n",
      "114000 \t 12.54\n"
     ]
    },
    {
     "name": "stderr",
     "output_type": "stream",
     "text": [
      " 73%|███████▎  | 73/100 [18:54<07:11, 16.00s/it]"
     ]
    },
    {
     "name": "stdout",
     "output_type": "stream",
     "text": [
      "114100 \t 13.35\n",
      "114200 \t 12.61\n",
      "114300 \t 12.43\n",
      "114400 \t 12.68\n",
      "114500 \t 12.14\n",
      "114600 \t 12.57\n",
      "114700 \t 12.05\n",
      "114800 \t 12.46\n",
      "114900 \t 12.27\n",
      "115000 \t 12.59\n",
      "115100 \t 12.22\n",
      "115200 \t 12.69\n",
      "115300 \t 11.98\n",
      "115400 \t 12.79\n",
      "115500 \t 12.44\n",
      "115600 \t 12.52\n"
     ]
    },
    {
     "name": "stderr",
     "output_type": "stream",
     "text": [
      " 74%|███████▍  | 74/100 [19:10<06:55, 15.97s/it]"
     ]
    },
    {
     "name": "stdout",
     "output_type": "stream",
     "text": [
      "115700 \t 12.24\n",
      "115800 \t 12.2\n",
      "115900 \t 12.72\n",
      "116000 \t 12.92\n",
      "116100 \t 12.72\n",
      "116200 \t 12.41\n",
      "116300 \t 12.09\n",
      "116400 \t 12.33\n",
      "116500 \t 12.88\n",
      "116600 \t 12.62\n",
      "116700 \t 12.59\n",
      "116800 \t 12.33\n",
      "116900 \t 12.15\n",
      "117000 \t 12.71\n",
      "117100 \t 12.21\n",
      "117200 \t 12.5\n"
     ]
    },
    {
     "name": "stderr",
     "output_type": "stream",
     "text": [
      " 75%|███████▌  | 75/100 [19:26<06:38, 15.92s/it]"
     ]
    },
    {
     "name": "stdout",
     "output_type": "stream",
     "text": [
      "117300 \t 12.69\n",
      "117400 \t 12.65\n",
      "117500 \t 12.46\n",
      "117600 \t 11.97\n",
      "117700 \t 12.31\n",
      "117800 \t 12.51\n",
      "117900 \t 12.54\n",
      "118000 \t 12.06\n",
      "118100 \t 12.85\n",
      "118200 \t 13.33\n",
      "118300 \t 12.14\n",
      "118400 \t 12.3\n",
      "118500 \t 12.7\n",
      "118600 \t 12.79\n",
      "118700 \t 12.56\n"
     ]
    },
    {
     "name": "stderr",
     "output_type": "stream",
     "text": [
      " 76%|███████▌  | 76/100 [19:42<06:20, 15.86s/it]"
     ]
    },
    {
     "name": "stdout",
     "output_type": "stream",
     "text": [
      "118800 \t 12.55\n",
      "118900 \t 12.31\n",
      "119000 \t 13.25\n",
      "119100 \t 13.02\n",
      "119200 \t 13.23\n",
      "119300 \t 12.42\n",
      "119400 \t 12.82\n",
      "119500 \t 12.25\n",
      "119600 \t 12.31\n",
      "119700 \t 12.55\n",
      "119800 \t 12.59\n",
      "119900 \t 12.58\n",
      "120000 \t 12.88\n",
      "120100 \t 12.84\n",
      "120200 \t 12.27\n",
      "120300 \t 12.63\n"
     ]
    },
    {
     "name": "stderr",
     "output_type": "stream",
     "text": [
      " 77%|███████▋  | 77/100 [19:58<06:05, 15.89s/it]"
     ]
    },
    {
     "name": "stdout",
     "output_type": "stream",
     "text": [
      "120400 \t 12.78\n",
      "120500 \t 12.14\n",
      "120600 \t 12.45\n",
      "120700 \t 12.58\n",
      "120800 \t 12.64\n",
      "120900 \t 12.66\n",
      "121000 \t 12.54\n",
      "121100 \t 12.05\n",
      "121200 \t 12.39\n",
      "121300 \t 12.26\n",
      "121400 \t 12.74\n",
      "121500 \t 12.46\n",
      "121600 \t 12.44\n",
      "121700 \t 12.46\n",
      "121800 \t 12.83\n"
     ]
    },
    {
     "name": "stderr",
     "output_type": "stream",
     "text": [
      " 78%|███████▊  | 78/100 [20:14<05:50, 15.93s/it]"
     ]
    },
    {
     "name": "stdout",
     "output_type": "stream",
     "text": [
      "121900 \t 12.2\n",
      "122000 \t 12.42\n",
      "122100 \t 12.65\n",
      "122200 \t 12.39\n",
      "122300 \t 12.17\n",
      "122400 \t 12.27\n",
      "122500 \t 12.55\n",
      "122600 \t 12.6\n",
      "122700 \t 12.71\n",
      "122800 \t 12.72\n",
      "122900 \t 12.3\n",
      "123000 \t 12.47\n",
      "123100 \t 12.44\n",
      "123200 \t 12.3\n",
      "123300 \t 12.45\n",
      "123400 \t 12.31\n"
     ]
    },
    {
     "name": "stderr",
     "output_type": "stream",
     "text": [
      " 79%|███████▉  | 79/100 [20:30<05:34, 15.91s/it]"
     ]
    },
    {
     "name": "stdout",
     "output_type": "stream",
     "text": [
      "123500 \t 12.42\n",
      "123600 \t 12.45\n",
      "123700 \t 12.6\n",
      "123800 \t 12.37\n",
      "123900 \t 12.28\n",
      "124000 \t 12.45\n",
      "124100 \t 12.21\n",
      "124200 \t 12.49\n",
      "124300 \t 11.88\n",
      "124400 \t 12.22\n",
      "124500 \t 12.27\n",
      "124600 \t 12.64\n",
      "124700 \t 12.82\n",
      "124800 \t 12.58\n",
      "124900 \t 12.48\n",
      "125000 \t 12.26\n"
     ]
    },
    {
     "name": "stderr",
     "output_type": "stream",
     "text": [
      " 80%|████████  | 80/100 [20:45<05:14, 15.72s/it]"
     ]
    },
    {
     "name": "stdout",
     "output_type": "stream",
     "text": [
      "125100 \t 12.88\n",
      "125200 \t 12.46\n",
      "125300 \t 12.49\n",
      "125400 \t 12.41\n",
      "125500 \t 12.41\n",
      "125600 \t 12.3\n",
      "125700 \t 12.5\n",
      "125800 \t 12.46\n",
      "125900 \t 12.38\n",
      "126000 \t 12.9\n",
      "126100 \t 12.84\n",
      "126200 \t 12.67\n",
      "126300 \t 12.52\n",
      "126400 \t 12.53\n",
      "126500 \t 12.61\n"
     ]
    },
    {
     "name": "stderr",
     "output_type": "stream",
     "text": [
      " 81%|████████  | 81/100 [21:01<04:59, 15.77s/it]"
     ]
    },
    {
     "name": "stdout",
     "output_type": "stream",
     "text": [
      "126600 \t 12.47\n",
      "126700 \t 12.3\n",
      "126800 \t 12.6\n",
      "126900 \t 12.54\n",
      "127000 \t 12.96\n",
      "127100 \t 12.54\n",
      "127200 \t 12.7\n",
      "127300 \t 12.43\n",
      "127400 \t 12.6\n",
      "127500 \t 12.32\n",
      "127600 \t 12.73\n",
      "127700 \t 12.52\n",
      "127800 \t 12.17\n",
      "127900 \t 12.78\n",
      "128000 \t 12.11\n",
      "128100 \t 12.78\n"
     ]
    },
    {
     "name": "stderr",
     "output_type": "stream",
     "text": [
      " 82%|████████▏ | 82/100 [21:17<04:48, 16.01s/it]"
     ]
    },
    {
     "name": "stdout",
     "output_type": "stream",
     "text": [
      "128200 \t 12.68\n",
      "128300 \t 12.71\n",
      "128400 \t 13.49\n",
      "128500 \t 12.36\n",
      "128600 \t 12.51\n",
      "128700 \t 12.94\n",
      "128800 \t 12.88\n",
      "128900 \t 12.85\n",
      "129000 \t 12.57\n",
      "129100 \t 12.2\n",
      "129200 \t 13.01\n",
      "129300 \t 12.45\n",
      "129400 \t 12.68\n",
      "129500 \t 12.47\n",
      "129600 \t 12.61\n",
      "129700 \t 12.65\n"
     ]
    },
    {
     "name": "stderr",
     "output_type": "stream",
     "text": [
      " 83%|████████▎ | 83/100 [21:33<04:29, 15.82s/it]"
     ]
    },
    {
     "name": "stdout",
     "output_type": "stream",
     "text": [
      "129800 \t 12.77\n",
      "129900 \t 12.74\n",
      "130000 \t 12.56\n",
      "130100 \t 12.27\n",
      "130200 \t 12.51\n",
      "130300 \t 12.57\n",
      "130400 \t 12.63\n",
      "130500 \t 12.64\n",
      "130600 \t 12.28\n",
      "130700 \t 12.35\n",
      "130800 \t 12.68\n",
      "130900 \t 12.5\n",
      "131000 \t 12.25\n",
      "131100 \t 12.64\n",
      "131200 \t 12.62\n"
     ]
    },
    {
     "name": "stderr",
     "output_type": "stream",
     "text": [
      " 84%|████████▍ | 84/100 [21:49<04:17, 16.12s/it]"
     ]
    },
    {
     "name": "stdout",
     "output_type": "stream",
     "text": [
      "131300 \t 12.67\n",
      "131400 \t 12.62\n",
      "131500 \t 12.54\n",
      "131600 \t 12.48\n",
      "131700 \t 12.64\n",
      "131800 \t 12.23\n",
      "131900 \t 12.68\n",
      "132000 \t 12.4\n",
      "132100 \t 12.14\n",
      "132200 \t 12.3\n",
      "132300 \t 12.6\n",
      "132400 \t 12.63\n",
      "132500 \t 12.6\n",
      "132600 \t 12.35\n",
      "132700 \t 12.69\n",
      "132800 \t 12.63\n"
     ]
    },
    {
     "name": "stderr",
     "output_type": "stream",
     "text": [
      " 85%|████████▌ | 85/100 [22:06<04:02, 16.14s/it]"
     ]
    },
    {
     "name": "stdout",
     "output_type": "stream",
     "text": [
      "132900 \t 12.96\n",
      "133000 \t 12.38\n",
      "133100 \t 12.42\n",
      "133200 \t 12.55\n",
      "133300 \t 12.44\n",
      "133400 \t 11.93\n",
      "133500 \t 12.34\n",
      "133600 \t 12.9\n",
      "133700 \t 12.43\n",
      "133800 \t 12.57\n",
      "133900 \t 12.79\n",
      "134000 \t 12.26\n",
      "134100 \t 12.47\n",
      "134200 \t 12.7\n",
      "134300 \t 12.07\n",
      "134400 \t 12.49\n"
     ]
    },
    {
     "name": "stderr",
     "output_type": "stream",
     "text": [
      " 86%|████████▌ | 86/100 [22:22<03:46, 16.20s/it]"
     ]
    },
    {
     "name": "stdout",
     "output_type": "stream",
     "text": [
      "134500 \t 12.21\n",
      "134600 \t 12.59\n",
      "134700 \t 12.69\n",
      "134800 \t 12.35\n",
      "134900 \t 12.65\n",
      "135000 \t 12.73\n",
      "135100 \t 12.84\n",
      "135200 \t 12.53\n",
      "135300 \t 12.42\n",
      "135400 \t 12.75\n",
      "135500 \t 12.47\n",
      "135600 \t 12.6\n",
      "135700 \t 12.54\n",
      "135800 \t 12.53\n",
      "135900 \t 12.92\n"
     ]
    },
    {
     "name": "stderr",
     "output_type": "stream",
     "text": [
      " 87%|████████▋ | 87/100 [22:38<03:30, 16.22s/it]"
     ]
    },
    {
     "name": "stdout",
     "output_type": "stream",
     "text": [
      "136000 \t 13.06\n",
      "136100 \t 12.44\n",
      "136200 \t 12.65\n",
      "136300 \t 12.27\n",
      "136400 \t 12.47\n",
      "136500 \t 12.59\n",
      "136600 \t 12.38\n",
      "136700 \t 12.0\n",
      "136800 \t 12.64\n",
      "136900 \t 12.26\n",
      "137000 \t 12.54\n",
      "137100 \t 12.51\n",
      "137200 \t 12.14\n",
      "137300 \t 12.35\n",
      "137400 \t 12.49\n",
      "137500 \t 12.93\n"
     ]
    },
    {
     "name": "stderr",
     "output_type": "stream",
     "text": [
      " 88%|████████▊ | 88/100 [22:54<03:13, 16.16s/it]"
     ]
    },
    {
     "name": "stdout",
     "output_type": "stream",
     "text": [
      "137600 \t 12.59\n",
      "137700 \t 12.91\n",
      "137800 \t 12.41\n",
      "137900 \t 13.05\n",
      "138000 \t 12.62\n",
      "138100 \t 12.82\n",
      "138200 \t 12.54\n",
      "138300 \t 12.15\n",
      "138400 \t 12.59\n",
      "138500 \t 12.38\n",
      "138600 \t 12.43\n",
      "138700 \t 12.63\n",
      "138800 \t 12.38\n",
      "138900 \t 12.48\n",
      "139000 \t 12.27\n"
     ]
    },
    {
     "name": "stderr",
     "output_type": "stream",
     "text": [
      " 89%|████████▉ | 89/100 [23:10<02:56, 16.08s/it]"
     ]
    },
    {
     "name": "stdout",
     "output_type": "stream",
     "text": [
      "139100 \t 12.3\n",
      "139200 \t 12.61\n",
      "139300 \t 12.64\n",
      "139400 \t 12.46\n",
      "139500 \t 12.65\n",
      "139600 \t 12.69\n",
      "139700 \t 12.51\n",
      "139800 \t 12.52\n",
      "139900 \t 12.86\n",
      "140000 \t 12.89\n",
      "140100 \t 12.36\n",
      "140200 \t 12.68\n",
      "140300 \t 12.3\n",
      "140400 \t 12.44\n",
      "140500 \t 12.43\n",
      "140600 \t 12.7\n"
     ]
    },
    {
     "name": "stderr",
     "output_type": "stream",
     "text": [
      " 90%|█████████ | 90/100 [23:26<02:41, 16.12s/it]"
     ]
    },
    {
     "name": "stdout",
     "output_type": "stream",
     "text": [
      "140700 \t 12.37\n",
      "140800 \t 12.68\n",
      "140900 \t 12.2\n",
      "141000 \t 12.62\n",
      "141100 \t 12.23\n",
      "141200 \t 12.49\n",
      "141300 \t 12.56\n",
      "141400 \t 12.52\n",
      "141500 \t 12.66\n",
      "141600 \t 12.93\n",
      "141700 \t 12.34\n",
      "141800 \t 12.4\n",
      "141900 \t 12.48\n",
      "142000 \t 12.64\n",
      "142100 \t 11.91\n",
      "142200 \t 12.82\n"
     ]
    },
    {
     "name": "stderr",
     "output_type": "stream",
     "text": [
      " 91%|█████████ | 91/100 [23:43<02:25, 16.12s/it]"
     ]
    },
    {
     "name": "stdout",
     "output_type": "stream",
     "text": [
      "142300 \t 12.82\n",
      "142400 \t 11.92\n",
      "142500 \t 12.07\n",
      "142600 \t 12.66\n",
      "142700 \t 12.28\n",
      "142800 \t 12.65\n",
      "142900 \t 12.65\n",
      "143000 \t 12.11\n",
      "143100 \t 12.75\n",
      "143200 \t 12.5\n",
      "143300 \t 12.52\n",
      "143400 \t 12.5\n",
      "143500 \t 12.06\n",
      "143600 \t 12.54\n",
      "143700 \t 12.52\n"
     ]
    },
    {
     "name": "stderr",
     "output_type": "stream",
     "text": [
      " 92%|█████████▏| 92/100 [23:58<02:07, 15.97s/it]"
     ]
    },
    {
     "name": "stdout",
     "output_type": "stream",
     "text": [
      "143800 \t 12.83\n",
      "143900 \t 12.59\n",
      "144000 \t 12.27\n",
      "144100 \t 13.25\n",
      "144200 \t 12.28\n",
      "144300 \t 12.66\n",
      "144400 \t 12.51\n",
      "144500 \t 12.79\n",
      "144600 \t 12.54\n",
      "144700 \t 12.32\n",
      "144800 \t 12.51\n",
      "144900 \t 12.38\n",
      "145000 \t 12.16\n",
      "145100 \t 12.43\n",
      "145200 \t 12.05\n",
      "145300 \t 12.47\n"
     ]
    },
    {
     "name": "stderr",
     "output_type": "stream",
     "text": [
      " 93%|█████████▎| 93/100 [24:15<01:53, 16.26s/it]"
     ]
    },
    {
     "name": "stdout",
     "output_type": "stream",
     "text": [
      "145400 \t 12.72\n",
      "145500 \t 12.28\n",
      "145600 \t 12.15\n",
      "145700 \t 12.57\n",
      "145800 \t 12.51\n",
      "145900 \t 12.76\n",
      "146000 \t 12.6\n",
      "146100 \t 12.65\n",
      "146200 \t 12.45\n",
      "146300 \t 12.63\n",
      "146400 \t 12.63\n",
      "146500 \t 12.32\n",
      "146600 \t 12.49\n",
      "146700 \t 12.32\n",
      "146800 \t 12.53\n",
      "146900 \t 12.31\n"
     ]
    },
    {
     "name": "stderr",
     "output_type": "stream",
     "text": [
      " 94%|█████████▍| 94/100 [24:31<01:37, 16.22s/it]"
     ]
    },
    {
     "name": "stdout",
     "output_type": "stream",
     "text": [
      "147000 \t 11.88\n",
      "147100 \t 12.75\n",
      "147200 \t 12.39\n",
      "147300 \t 12.46\n",
      "147400 \t 12.61\n",
      "147500 \t 12.56\n",
      "147600 \t 12.79\n",
      "147700 \t 12.6\n",
      "147800 \t 12.48\n",
      "147900 \t 12.7\n",
      "148000 \t 12.74\n",
      "148100 \t 12.61\n",
      "148200 \t 12.63\n",
      "148300 \t 12.35\n",
      "148400 \t 12.85\n"
     ]
    },
    {
     "name": "stderr",
     "output_type": "stream",
     "text": [
      " 95%|█████████▌| 95/100 [24:47<01:19, 15.97s/it]"
     ]
    },
    {
     "name": "stdout",
     "output_type": "stream",
     "text": [
      "148500 \t 12.89\n",
      "148600 \t 12.66\n",
      "148700 \t 12.34\n",
      "148800 \t 12.17\n",
      "148900 \t 12.61\n",
      "149000 \t 12.71\n",
      "149100 \t 12.62\n",
      "149200 \t 12.58\n",
      "149300 \t 12.75\n",
      "149400 \t 12.26\n",
      "149500 \t 12.44\n",
      "149600 \t 12.75\n",
      "149700 \t 12.52\n",
      "149800 \t 12.43\n",
      "149900 \t 12.57\n",
      "150000 \t 12.29\n"
     ]
    },
    {
     "name": "stderr",
     "output_type": "stream",
     "text": [
      " 96%|█████████▌| 96/100 [25:02<01:03, 15.84s/it]"
     ]
    },
    {
     "name": "stdout",
     "output_type": "stream",
     "text": [
      "150100 \t 12.65\n",
      "150200 \t 12.36\n",
      "150300 \t 11.95\n",
      "150400 \t 12.37\n",
      "150500 \t 12.32\n",
      "150600 \t 12.33\n",
      "150700 \t 12.31\n",
      "150800 \t 12.47\n",
      "150900 \t 12.66\n",
      "151000 \t 12.56\n",
      "151100 \t 12.45\n",
      "151200 \t 12.28\n",
      "151300 \t 12.93\n",
      "151400 \t 12.23\n",
      "151500 \t 12.21\n"
     ]
    },
    {
     "name": "stderr",
     "output_type": "stream",
     "text": [
      " 97%|█████████▋| 97/100 [25:18<00:47, 15.93s/it]"
     ]
    },
    {
     "name": "stdout",
     "output_type": "stream",
     "text": [
      "151600 \t 12.64\n",
      "151700 \t 12.69\n",
      "151800 \t 12.25\n",
      "151900 \t 12.39\n",
      "152000 \t 12.89\n",
      "152100 \t 12.58\n",
      "152200 \t 11.82\n",
      "152300 \t 12.19\n",
      "152400 \t 12.56\n",
      "152500 \t 12.28\n",
      "152600 \t 12.53\n",
      "152700 \t 12.18\n",
      "152800 \t 12.73\n",
      "152900 \t 12.3\n",
      "153000 \t 12.2\n",
      "153100 \t 12.11\n"
     ]
    },
    {
     "name": "stderr",
     "output_type": "stream",
     "text": [
      " 98%|█████████▊| 98/100 [25:35<00:32, 16.18s/it]"
     ]
    },
    {
     "name": "stdout",
     "output_type": "stream",
     "text": [
      "153200 \t 12.04\n",
      "153300 \t 12.4\n",
      "153400 \t 12.75\n",
      "153500 \t 12.38\n",
      "153600 \t 12.69\n",
      "153700 \t 12.44\n",
      "153800 \t 12.64\n",
      "153900 \t 12.45\n",
      "154000 \t 11.95\n",
      "154100 \t 12.55\n",
      "154200 \t 12.37\n",
      "154300 \t 12.29\n",
      "154400 \t 12.77\n",
      "154500 \t 12.16\n",
      "154600 \t 12.48\n",
      "154700 \t 12.55\n"
     ]
    },
    {
     "name": "stderr",
     "output_type": "stream",
     "text": [
      " 99%|█████████▉| 99/100 [25:51<00:16, 16.14s/it]"
     ]
    },
    {
     "name": "stdout",
     "output_type": "stream",
     "text": [
      "154800 \t 13.07\n",
      "154900 \t 12.45\n",
      "155000 \t 12.17\n",
      "155100 \t 12.33\n",
      "155200 \t 12.48\n",
      "155300 \t 12.5\n",
      "155400 \t 12.14\n",
      "155500 \t 12.76\n",
      "155600 \t 12.41\n",
      "155700 \t 12.78\n",
      "155800 \t 12.46\n",
      "155900 \t 12.49\n",
      "156000 \t 12.44\n",
      "156100 \t 11.87\n",
      "156200 \t 12.32\n"
     ]
    },
    {
     "name": "stderr",
     "output_type": "stream",
     "text": [
      "100%|██████████| 100/100 [26:07<00:00, 15.68s/it]\n"
     ]
    }
   ],
   "source": [
    "num_epochs = 100\n",
    "losses = np.zeros(num_epochs * len(data))\n",
    "\n",
    "i = 0\n",
    "for epoch in tqdm.trange(num_epochs):\n",
    "    for (batch_idx, batch) in enumerate(dataset):\n",
    "        optimizer.zero_grad()\n",
    "        loss = -flow.log_prob(inputs = batch).mean()\n",
    "        loss.backward()\n",
    "        optimizer.step()\n",
    "        \n",
    "        losses[i] = loss\n",
    "        if i % 100 == 0:\n",
    "            print(i, '\\t', round(losses[i], 2))\n",
    "        i += 1"
   ]
  },
  {
   "cell_type": "code",
   "execution_count": 5,
   "metadata": {
    "scrolled": true,
    "tags": []
   },
   "outputs": [
    {
     "name": "stdout",
     "output_type": "stream",
     "text": [
      "0 \t 885898176.0\n",
      "10 \t 5006383.0\n",
      "20 \t 121881.15\n",
      "30 \t 38972.91\n",
      "40 \t 25711.33\n",
      "50 \t 21707.75\n",
      "60 \t 20045.34\n",
      "70 \t 19027.23\n",
      "80 \t 18057.0\n",
      "90 \t 16654.47\n",
      "100 \t 14534.06\n",
      "110 \t 12014.62\n",
      "120 \t 9477.76\n",
      "130 \t 7132.85\n",
      "140 \t 5203.02\n",
      "150 \t 3753.72\n",
      "160 \t 2729.38\n",
      "170 \t 2023.62\n",
      "180 \t 1549.97\n",
      "190 \t 1222.67\n",
      "200 \t 991.57\n",
      "210 \t 823.75\n",
      "220 \t 697.85\n",
      "230 \t 600.55\n",
      "240 \t 523.26\n",
      "250 \t 461.6\n",
      "260 \t 411.45\n",
      "270 \t 369.51\n",
      "280 \t 333.77\n",
      "290 \t 293.01\n",
      "300 \t 245.46\n",
      "310 \t 222.09\n",
      "320 \t 203.09\n",
      "330 \t 186.88\n",
      "340 \t 173.09\n",
      "350 \t 161.39\n",
      "360 \t 151.37\n",
      "370 \t 142.45\n",
      "380 \t 134.42\n",
      "390 \t 127.05\n",
      "400 \t 120.16\n",
      "410 \t 113.57\n",
      "420 \t 107.18\n",
      "430 \t 100.86\n",
      "440 \t 94.51\n",
      "450 \t 88.14\n",
      "460 \t 81.99\n",
      "470 \t 74.88\n",
      "480 \t 69.59\n",
      "490 \t 65.92\n",
      "500 \t 62.62\n",
      "510 \t 59.82\n",
      "520 \t 57.5\n",
      "530 \t 55.53\n",
      "540 \t 53.85\n",
      "550 \t 52.39\n",
      "560 \t 51.1\n",
      "570 \t 49.96\n",
      "580 \t 48.93\n",
      "590 \t 48.0\n",
      "600 \t 47.14\n",
      "610 \t 46.35\n",
      "620 \t 45.61\n",
      "630 \t 44.92\n",
      "640 \t 44.28\n",
      "650 \t 43.68\n",
      "660 \t 43.1\n",
      "670 \t 42.54\n",
      "680 \t 42.0\n",
      "690 \t 41.48\n",
      "700 \t 40.98\n",
      "710 \t 40.52\n",
      "720 \t 40.09\n",
      "730 \t 39.68\n",
      "740 \t 39.29\n",
      "750 \t 38.93\n",
      "760 \t 38.58\n",
      "770 \t 38.25\n",
      "780 \t 37.93\n",
      "790 \t 37.63\n",
      "800 \t 37.34\n",
      "810 \t 37.07\n",
      "820 \t 36.81\n",
      "830 \t 36.56\n",
      "840 \t 36.33\n",
      "850 \t 36.1\n",
      "860 \t 35.88\n",
      "870 \t 35.67\n",
      "880 \t 35.47\n",
      "890 \t 35.28\n",
      "900 \t 35.09\n",
      "910 \t 34.91\n",
      "920 \t 34.74\n",
      "930 \t 34.57\n",
      "940 \t 34.41\n",
      "950 \t 34.25\n",
      "960 \t 34.1\n",
      "970 \t 33.95\n",
      "980 \t 33.81\n",
      "990 \t 33.67\n",
      "1000 \t 33.53\n",
      "1010 \t 33.4\n",
      "1020 \t 33.27\n",
      "1030 \t 33.14\n",
      "1040 \t 33.01\n",
      "1050 \t 32.89\n",
      "1060 \t 32.77\n",
      "1070 \t 32.65\n",
      "1080 \t 32.54\n",
      "1090 \t 32.42\n",
      "1100 \t 32.31\n",
      "1110 \t 32.2\n",
      "1120 \t 32.09\n",
      "1130 \t 31.98\n",
      "1140 \t 31.87\n",
      "1150 \t 31.76\n",
      "1160 \t 31.63\n",
      "1170 \t 31.5\n",
      "1180 \t 31.38\n",
      "1190 \t 31.26\n",
      "1200 \t 31.14\n",
      "1210 \t 31.03\n",
      "1220 \t 30.92\n",
      "1230 \t 30.82\n",
      "1240 \t 30.71\n",
      "1250 \t 30.6\n",
      "1260 \t 30.5\n",
      "1270 \t 30.4\n",
      "1280 \t 30.3\n",
      "1290 \t 30.2\n",
      "1300 \t 30.1\n",
      "1310 \t 30.0\n",
      "1320 \t 29.91\n",
      "1330 \t 29.81\n",
      "1340 \t 29.72\n",
      "1350 \t 29.63\n",
      "1360 \t 29.53\n",
      "1370 \t 29.44\n",
      "1380 \t 29.35\n",
      "1390 \t 29.26\n",
      "1400 \t 29.17\n",
      "1410 \t 29.09\n",
      "1420 \t 29.0\n",
      "1430 \t 28.91\n",
      "1440 \t 28.83\n",
      "1450 \t 28.74\n",
      "1460 \t 28.65\n",
      "1470 \t 28.55\n",
      "1480 \t 28.44\n",
      "1490 \t 28.33\n",
      "1500 \t 28.22\n",
      "1510 \t 28.11\n",
      "1520 \t 28.0\n",
      "1530 \t 27.9\n",
      "1540 \t 27.8\n",
      "1550 \t 27.69\n",
      "1560 \t 27.59\n",
      "1570 \t 27.49\n",
      "1580 \t 27.4\n",
      "1590 \t 27.3\n",
      "1600 \t 27.21\n",
      "1610 \t 27.12\n",
      "1620 \t 27.03\n",
      "1630 \t 26.95\n",
      "1640 \t 26.86\n",
      "1650 \t 26.78\n",
      "1660 \t 26.71\n",
      "1670 \t 26.63\n",
      "1680 \t 26.56\n",
      "1690 \t 26.49\n",
      "1700 \t 26.42\n",
      "1710 \t 26.36\n",
      "1720 \t 26.3\n",
      "1730 \t 26.23\n",
      "1740 \t 26.17\n",
      "1750 \t 26.11\n",
      "1760 \t 26.05\n",
      "1770 \t 25.99\n",
      "1780 \t 25.94\n",
      "1790 \t 25.88\n",
      "1800 \t 25.83\n",
      "1810 \t 25.78\n",
      "1820 \t 25.73\n",
      "1830 \t 25.68\n",
      "1840 \t 25.63\n",
      "1850 \t 25.58\n",
      "1860 \t 25.54\n",
      "1870 \t 25.5\n",
      "1880 \t 25.46\n",
      "1890 \t 25.42\n",
      "1900 \t 25.38\n",
      "1910 \t 25.34\n",
      "1920 \t 25.3\n",
      "1930 \t 25.26\n",
      "1940 \t 25.23\n",
      "1950 \t 25.19\n",
      "1960 \t 25.16\n",
      "1970 \t 25.12\n",
      "1980 \t 25.09\n",
      "1990 \t 25.05\n",
      "2000 \t 25.02\n",
      "2010 \t 24.99\n",
      "2020 \t 24.96\n",
      "2030 \t 24.92\n",
      "2040 \t 24.89\n",
      "2050 \t 24.86\n",
      "2060 \t 24.83\n",
      "2070 \t 24.8\n",
      "2080 \t 24.77\n",
      "2090 \t 24.73\n",
      "2100 \t 24.7\n",
      "2110 \t 24.66\n",
      "2120 \t 24.62\n",
      "2130 \t 24.58\n",
      "2140 \t 24.54\n",
      "2150 \t 24.5\n",
      "2160 \t 24.46\n",
      "2170 \t 24.42\n",
      "2180 \t 24.38\n",
      "2190 \t 24.33\n",
      "2200 \t 24.29\n",
      "2210 \t 24.26\n",
      "2220 \t 24.22\n",
      "2230 \t 24.19\n",
      "2240 \t 24.16\n",
      "2250 \t 24.13\n",
      "2260 \t 24.1\n",
      "2270 \t 24.07\n",
      "2280 \t 24.04\n",
      "2290 \t 24.01\n",
      "2300 \t 23.98\n",
      "2310 \t 23.95\n",
      "2320 \t 23.93\n",
      "2330 \t 23.9\n",
      "2340 \t 23.87\n",
      "2350 \t 23.84\n",
      "2360 \t 23.82\n",
      "2370 \t 23.79\n",
      "2380 \t 23.77\n",
      "2390 \t 23.74\n",
      "2400 \t 23.71\n",
      "2410 \t 23.69\n",
      "2420 \t 23.66\n",
      "2430 \t 23.64\n",
      "2440 \t 23.61\n",
      "2450 \t 23.59\n",
      "2460 \t 23.57\n",
      "2470 \t 23.54\n",
      "2480 \t 23.52\n",
      "2490 \t 23.49\n",
      "2500 \t 23.47\n",
      "2510 \t 23.45\n",
      "2520 \t 23.42\n",
      "2530 \t 23.4\n",
      "2540 \t 23.38\n",
      "2550 \t 23.35\n",
      "2560 \t 23.33\n",
      "2570 \t 23.31\n",
      "2580 \t 23.29\n",
      "2590 \t 23.26\n",
      "2600 \t 23.24\n",
      "2610 \t 23.22\n",
      "2620 \t 23.2\n",
      "2630 \t 23.18\n",
      "2640 \t 23.15\n",
      "2650 \t 23.13\n",
      "2660 \t 23.11\n",
      "2670 \t 23.09\n",
      "2680 \t 23.07\n",
      "2690 \t 23.05\n",
      "2700 \t 23.02\n",
      "2710 \t 23.0\n",
      "2720 \t 22.98\n",
      "2730 \t 22.96\n",
      "2740 \t 22.94\n",
      "2750 \t 22.92\n",
      "2760 \t 22.9\n",
      "2770 \t 22.88\n",
      "2780 \t 22.86\n",
      "2790 \t 22.83\n",
      "2800 \t 22.81\n",
      "2810 \t 22.79\n",
      "2820 \t 22.77\n",
      "2830 \t 22.75\n",
      "2840 \t 22.73\n",
      "2850 \t 22.71\n",
      "2860 \t 22.69\n",
      "2870 \t 22.67\n",
      "2880 \t 22.65\n",
      "2890 \t 22.63\n",
      "2900 \t 22.61\n",
      "2910 \t 22.59\n",
      "2920 \t 22.57\n",
      "2930 \t 22.55\n",
      "2940 \t 22.53\n",
      "2950 \t 22.5\n",
      "2960 \t 22.48\n",
      "2970 \t 22.46\n",
      "2980 \t 22.44\n",
      "2990 \t 22.42\n",
      "3000 \t 22.4\n",
      "3010 \t 22.38\n",
      "3020 \t 22.36\n",
      "3030 \t 22.34\n",
      "3040 \t 22.32\n",
      "3050 \t 22.3\n",
      "3060 \t 22.28\n",
      "3070 \t 22.26\n",
      "3080 \t 22.24\n",
      "3090 \t 22.21\n",
      "3100 \t 22.19\n",
      "3110 \t 22.17\n",
      "3120 \t 22.14\n",
      "3130 \t 22.12\n",
      "3140 \t 22.09\n",
      "3150 \t 22.07\n",
      "3160 \t 22.04\n",
      "3170 \t 22.02\n",
      "3180 \t 22.0\n",
      "3190 \t 21.97\n",
      "3200 \t 21.95\n",
      "3210 \t 21.93\n",
      "3220 \t 21.91\n",
      "3230 \t 21.88\n",
      "3240 \t 21.86\n",
      "3250 \t 21.84\n",
      "3260 \t 21.82\n",
      "3270 \t 21.8\n",
      "3280 \t 21.78\n",
      "3290 \t 21.76\n",
      "3300 \t 21.74\n",
      "3310 \t 21.72\n",
      "3320 \t 21.7\n",
      "3330 \t 21.68\n",
      "3340 \t 21.66\n",
      "3350 \t 21.64\n",
      "3360 \t 21.62\n",
      "3370 \t 21.6\n",
      "3380 \t 21.58\n",
      "3390 \t 21.56\n",
      "3400 \t 21.54\n",
      "3410 \t 21.52\n",
      "3420 \t 21.5\n",
      "3430 \t 21.49\n",
      "3440 \t 21.47\n",
      "3450 \t 21.45\n",
      "3460 \t 21.43\n",
      "3470 \t 21.42\n",
      "3480 \t 21.4\n",
      "3490 \t 21.38\n",
      "3500 \t 21.37\n",
      "3510 \t 21.35\n",
      "3520 \t 21.33\n",
      "3530 \t 21.32\n",
      "3540 \t 21.3\n",
      "3550 \t 21.28\n",
      "3560 \t 21.27\n",
      "3570 \t 21.25\n",
      "3580 \t 21.23\n",
      "3590 \t 21.22\n",
      "3600 \t 21.2\n",
      "3610 \t 21.19\n",
      "3620 \t 21.17\n",
      "3630 \t 21.15\n",
      "3640 \t 21.14\n",
      "3650 \t 21.12\n",
      "3660 \t 21.11\n",
      "3670 \t 21.09\n",
      "3680 \t 21.08\n",
      "3690 \t 21.06\n",
      "3700 \t 21.05\n",
      "3710 \t 21.03\n",
      "3720 \t 21.02\n",
      "3730 \t 21.0\n",
      "3740 \t 20.99\n",
      "3750 \t 20.97\n",
      "3760 \t 20.96\n",
      "3770 \t 20.94\n",
      "3780 \t 20.93\n",
      "3790 \t 20.91\n",
      "3800 \t 20.9\n",
      "3810 \t 20.88\n",
      "3820 \t 20.87\n",
      "3830 \t 20.86\n",
      "3840 \t 20.84\n",
      "3850 \t 20.83\n",
      "3860 \t 20.81\n",
      "3870 \t 20.8\n",
      "3880 \t 20.78\n",
      "3890 \t 20.77\n",
      "3900 \t 20.75\n",
      "3910 \t 20.74\n",
      "3920 \t 20.72\n",
      "3930 \t 20.71\n",
      "3940 \t 20.69\n",
      "3950 \t 20.67\n",
      "3960 \t 20.66\n",
      "3970 \t 20.64\n",
      "3980 \t 20.63\n",
      "3990 \t 20.61\n",
      "4000 \t 20.6\n",
      "4010 \t 20.58\n",
      "4020 \t 20.57\n",
      "4030 \t 20.56\n",
      "4040 \t 20.54\n",
      "4050 \t 20.53\n",
      "4060 \t 20.51\n",
      "4070 \t 20.5\n",
      "4080 \t 20.48\n",
      "4090 \t 20.47\n",
      "4100 \t 20.45\n",
      "4110 \t 20.44\n",
      "4120 \t 20.42\n",
      "4130 \t 20.41\n",
      "4140 \t 20.39\n",
      "4150 \t 20.38\n",
      "4160 \t 20.36\n",
      "4170 \t 20.35\n",
      "4180 \t 20.33\n",
      "4190 \t 20.32\n",
      "4200 \t 20.31\n",
      "4210 \t 20.29\n",
      "4220 \t 20.28\n",
      "4230 \t 20.26\n",
      "4240 \t 20.25\n",
      "4250 \t 20.24\n",
      "4260 \t 20.22\n",
      "4270 \t 20.21\n",
      "4280 \t 20.19\n",
      "4290 \t 20.18\n",
      "4300 \t 20.17\n",
      "4310 \t 20.15\n",
      "4320 \t 20.14\n",
      "4330 \t 20.13\n",
      "4340 \t 20.11\n",
      "4350 \t 20.1\n",
      "4360 \t 20.09\n",
      "4370 \t 20.07\n",
      "4380 \t 20.06\n",
      "4390 \t 20.05\n",
      "4400 \t 20.03\n",
      "4410 \t 20.02\n",
      "4420 \t 20.01\n",
      "4430 \t 19.99\n",
      "4440 \t 19.98\n",
      "4450 \t 19.97\n",
      "4460 \t 19.95\n",
      "4470 \t 19.94\n",
      "4480 \t 19.93\n",
      "4490 \t 19.92\n",
      "4500 \t 19.9\n",
      "4510 \t 19.89\n",
      "4520 \t 19.88\n",
      "4530 \t 19.86\n",
      "4540 \t 19.85\n",
      "4550 \t 19.84\n",
      "4560 \t 19.83\n",
      "4570 \t 19.81\n",
      "4580 \t 19.8\n",
      "4590 \t 19.79\n",
      "4600 \t 19.77\n",
      "4610 \t 19.76\n",
      "4620 \t 19.75\n",
      "4630 \t 19.74\n",
      "4640 \t 19.72\n",
      "4650 \t 19.71\n",
      "4660 \t 19.7\n",
      "4670 \t 19.68\n",
      "4680 \t 19.67\n",
      "4690 \t 19.66\n",
      "4700 \t 19.65\n",
      "4710 \t 19.63\n",
      "4720 \t 19.62\n",
      "4730 \t 19.61\n",
      "4740 \t 19.6\n",
      "4750 \t 19.58\n",
      "4760 \t 19.57\n",
      "4770 \t 19.56\n",
      "4780 \t 19.54\n",
      "4790 \t 19.53\n",
      "4800 \t 19.52\n",
      "4810 \t 19.51\n",
      "4820 \t 19.49\n",
      "4830 \t 19.48\n",
      "4840 \t 19.47\n",
      "4850 \t 19.46\n",
      "4860 \t 19.44\n",
      "4870 \t 19.43\n",
      "4880 \t 19.41\n",
      "4890 \t 19.4\n",
      "4900 \t 19.39\n",
      "4910 \t 19.38\n",
      "4920 \t 19.36\n",
      "4930 \t 19.35\n",
      "4940 \t 19.34\n",
      "4950 \t 19.33\n",
      "4960 \t 19.31\n",
      "4970 \t 19.3\n",
      "4980 \t 19.29\n",
      "4990 \t 19.28\n"
     ]
    }
   ],
   "source": [
    "num_iter = 5000\n",
    "losses = np.zeros(num_iter)\n",
    "for i in range(num_iter):\n",
    "    optimizer.zero_grad()\n",
    "    loss = -flow.log_prob(inputs=data).mean()\n",
    "    losses[i] = loss\n",
    "    \n",
    "    loss.backward()\n",
    "    optimizer.step()\n",
    "    \n",
    "    if i % 100 == 0:\n",
    "        print(i, '\\t', round(losses[i], 2))"
   ]
  },
  {
   "cell_type": "code",
   "execution_count": 146,
   "metadata": {},
   "outputs": [
    {
     "data": {
      "text/plain": [
       "(0.0, 100.0)"
      ]
     },
     "execution_count": 146,
     "metadata": {},
     "output_type": "execute_result"
    },
    {
     "data": {
      "image/png": "[encoded data removed]",
      "text/plain": [
       "<Figure size 640x480 with 1 Axes>"
      ]
     },
     "metadata": {},
     "output_type": "display_data"
    }
   ],
   "source": [
    "plt.plot(range(1, 156300), losses[:156299])\n",
    "plt.ylim(0, 100)"
   ]
  },
  {
   "cell_type": "markdown",
   "metadata": {
    "tags": []
   },
   "source": [
    "# Checking"
   ]
  },
  {
   "cell_type": "code",
   "execution_count": 147,
   "metadata": {},
   "outputs": [],
   "source": [
    "def ratio_hist(truth, fit,\n",
    "               labels,\n",
    "               color = \"gray\",\n",
    "               figsize = (8, 8),\n",
    "               x_lim = None,\n",
    "               y_lim = None,\n",
    "               title = None,\n",
    "               filename = None):\n",
    "    fig, axs = plt.subplots(2, 1,\n",
    "                            figsize = figsize,\n",
    "                            sharex = True, \n",
    "                            gridspec_kw = {'height_ratios': [2, 1]})\n",
    "    \n",
    "    truth = truth[(truth > x_lim[0]) & (truth < x_lim[1])]\n",
    "    fit = fit[(fit > x_lim[0]) & (fit < x_lim[1])]\n",
    "    \n",
    "    bins = np.linspace(x_lim[0], x_lim[1], 51)\n",
    "    \n",
    "    t_hist = axs[0].hist(truth, bins = bins, density = True, color = color, alpha = 0.25, label = labels[0])\n",
    "    f_hist = axs[0].hist(fit, bins = bins, density = True, histtype = 'step', color = 'red', label = labels[1])\n",
    "    \n",
    "    axs[0].minorticks_on()\n",
    "    axs[0].tick_params(direction='in', which='both')\n",
    "    axs[0].legend()\n",
    "    \n",
    "    if y_lim:\n",
    "        axs[0].set_ylim(y_lim[0], y_lim[1])\n",
    "    if x_lim:\n",
    "        axs[0].set_xlim(x_lim[0], x_lim[1])\n",
    "    \n",
    "    bins = (f_hist[1] + np.diff(f_hist[1]).mean() / 2)[:-1]\n",
    "    axs[1].scatter(bins, f_hist[0] / t_hist[0], marker = '_', c = 'red', lw = 0.75)\n",
    "    axs[1].axhline(1,color=\"gray\", lw=0.5)\n",
    "    \n",
    "    axs[1].minorticks_on()\n",
    "    axs[1].tick_params(direction='in', which='both')\n",
    "    axs[1].set_ylim(0, 2)\n",
    "    \n",
    "    plt.xlabel(labels[2])\n",
    "    \n",
    "    if title:\n",
    "        axs[0].set_title(title, loc = \"right\")\n",
    "    if filename:\n",
    "        plt.savefig(filename, \n",
    "                    dpi = 300,\n",
    "                    transparent = True,\n",
    "                    bbox_inches = 'tight')"
   ]
  },
  {
   "cell_type": "markdown",
   "metadata": {
    "tags": []
   },
   "source": [
    "## MC"
   ]
  },
  {
   "cell_type": "code",
   "execution_count": 148,
   "metadata": {},
   "outputs": [],
   "source": [
    "n, d = sim.shape\n",
    "sim_smp = flow.sample(n).detach().numpy()"
   ]
  },
  {
   "cell_type": "code",
   "execution_count": 149,
   "metadata": {},
   "outputs": [],
   "source": [
    "experiment = 'meep'"
   ]
  },
  {
   "cell_type": "markdown",
   "metadata": {
    "jp-MarkdownHeadingCollapsed": true,
    "tags": []
   },
   "source": [
    "### Histograms"
   ]
  },
  {
   "cell_type": "code",
   "execution_count": 150,
   "metadata": {},
   "outputs": [
    {
     "data": {
      "image/png": "[encoded data removed]",
      "text/plain": [
       "<Figure size 350x325 with 2 Axes>"
      ]
     },
     "metadata": {},
     "output_type": "display_data"
    }
   ],
   "source": [
    "ratio_hist(sim[:, 0], sim_smp[:, 0], \n",
    "           labels = ['MC', 'Flow', r'$p_T$'],\n",
    "           color = 'green',\n",
    "           figsize = (w, h),\n",
    "           title = r'\\it $p_T$ (MC)',\n",
    "           x_lim = (0, 750),\n",
    "           filename = '../../plots/zenodo/flows/{}/pT_mc.png'.format(experiment)\n",
    "          )"
   ]
  },
  {
   "cell_type": "code",
   "execution_count": 151,
   "metadata": {},
   "outputs": [
    {
     "name": "stderr",
     "output_type": "stream",
     "text": [
      "/tmp/ipykernel_28852/384005121.py:32: RuntimeWarning: divide by zero encountered in divide\n",
      "  axs[1].scatter(bins, f_hist[0] / t_hist[0], marker = '_', c = 'red', lw = 0.75)\n"
     ]
    },
    {
     "data": {
      "image/png": "[encoded data removed]",
      "text/plain": [
       "<Figure size 350x325 with 2 Axes>"
      ]
     },
     "metadata": {},
     "output_type": "display_data"
    }
   ],
   "source": [
    "ratio_hist(sim[:, 1], sim_smp[:, 1], \n",
    "           labels = ['MC', 'Flow', r'$\\eta$'],\n",
    "           color = 'green',\n",
    "           figsize = (w, h),\n",
    "           title = r'\\it $\\eta$ (MC)',\n",
    "           x_lim = (-5, 5),\n",
    "           filename = '../../plots/zenodo/flows/{}/eta_mc.png'.format(experiment)\n",
    "          )"
   ]
  },
  {
   "cell_type": "code",
   "execution_count": 152,
   "metadata": {},
   "outputs": [
    {
     "name": "stderr",
     "output_type": "stream",
     "text": [
      "/tmp/ipykernel_28852/384005121.py:32: RuntimeWarning: divide by zero encountered in divide\n",
      "  axs[1].scatter(bins, f_hist[0] / t_hist[0], marker = '_', c = 'red', lw = 0.75)\n"
     ]
    },
    {
     "data": {
      "image/png": "[encoded data removed]",
      "text/plain": [
       "<Figure size 350x325 with 2 Axes>"
      ]
     },
     "metadata": {},
     "output_type": "display_data"
    }
   ],
   "source": [
    "ratio_hist(sim[:, 2], sim_smp[:, 2], \n",
    "           labels = ['MC', 'Flow', r'$\\phi$'],\n",
    "           color = 'green',\n",
    "           figsize = (w, h),\n",
    "           title = r'\\it $\\phi$ (MC)',\n",
    "           x_lim = (-1, 7),\n",
    "           filename = '../../plots/zenodo/flows/{}/phi_mc.png'.format(experiment)\n",
    "          )"
   ]
  },
  {
   "cell_type": "code",
   "execution_count": 153,
   "metadata": {},
   "outputs": [
    {
     "data": {
      "image/png": "[encoded data removed]",
      "text/plain": [
       "<Figure size 350x325 with 2 Axes>"
      ]
     },
     "metadata": {},
     "output_type": "display_data"
    }
   ],
   "source": [
    "ratio_hist(sim[:, 3], sim_smp[:, 3], \n",
    "           labels = ['MC', 'Flow', r'$m$'],\n",
    "           color = 'green',\n",
    "           figsize = (w, h),\n",
    "           title = r'\\it $m$ (MC)',\n",
    "           x_lim = (0, 80),\n",
    "           filename = '../../plots/zenodo/flows/{}/m_mc.png'.format(experiment)\n",
    "          )"
   ]
  },
  {
   "cell_type": "code",
   "execution_count": 154,
   "metadata": {},
   "outputs": [
    {
     "data": {
      "image/png": "[encoded data removed]",
      "text/plain": [
       "<Figure size 350x325 with 2 Axes>"
      ]
     },
     "metadata": {},
     "output_type": "display_data"
    }
   ],
   "source": [
    "ratio_hist(sim[:, 4], sim_smp[:, 4], \n",
    "           labels = ['MC', 'Flow', r'$w$'],\n",
    "           color = 'green',\n",
    "           figsize = (w, h),\n",
    "           title = r'\\it $w$ (MC)',\n",
    "           x_lim = (0, 0.6),\n",
    "           filename = '../../plots/zenodo/flows/{}/w_mc.png'.format(experiment)\n",
    "          )"
   ]
  },
  {
   "cell_type": "code",
   "execution_count": 155,
   "metadata": {},
   "outputs": [
    {
     "name": "stderr",
     "output_type": "stream",
     "text": [
      "/tmp/ipykernel_28852/384005121.py:32: RuntimeWarning: divide by zero encountered in divide\n",
      "  axs[1].scatter(bins, f_hist[0] / t_hist[0], marker = '_', c = 'red', lw = 0.75)\n"
     ]
    },
    {
     "data": {
      "image/png": "[encoded data removed]",
      "text/plain": [
       "<Figure size 350x325 with 2 Axes>"
      ]
     },
     "metadata": {},
     "output_type": "display_data"
    }
   ],
   "source": [
    "ratio_hist(sim[:, 5], sim_smp[:, 5], \n",
    "           labels = ['MC', 'Flow', r'sdms'],\n",
    "           color = 'green',\n",
    "           figsize = (w, h),\n",
    "           title = r'\\it sdms (MC)',\n",
    "           x_lim = (0, 100),\n",
    "           filename = '../../plots/zenodo/flows/{}/sdms_mc.png'.format(experiment)\n",
    "          )"
   ]
  },
  {
   "cell_type": "markdown",
   "metadata": {
    "tags": []
   },
   "source": [
    "### Classification"
   ]
  },
  {
   "cell_type": "code",
   "execution_count": 156,
   "metadata": {},
   "outputs": [],
   "source": [
    "X_bkgd = sim_smp\n",
    "X_sgnl = sim"
   ]
  },
  {
   "cell_type": "code",
   "execution_count": 157,
   "metadata": {},
   "outputs": [],
   "source": [
    "np.random.seed(666)\n",
    "\n",
    "# Create full dataset; randomly sample points from Data or Flow with chance 1/2.\n",
    "y = stats.bernoulli.rvs(0.5, size = n).astype('float32')\n",
    "X = np.zeros_like(X_bkgd)\n",
    "\n",
    "X[y == 0] = X_bkgd[y == 0]\n",
    "X[y == 1] = X_sgnl[y == 1]\n",
    "\n",
    "# Take 70% of data to be training data.\n",
    "N_trn = int(0.7*n)\n",
    "trn_idx = np.random.choice(range(n), N_trn, replace = False)\n",
    "tst_idx = [n for n in range(n) if n not in trn_idx]\n",
    "\n",
    "X_trn = X[trn_idx]\n",
    "y_trn = y[trn_idx]\n",
    "\n",
    "X_tst = X[tst_idx]\n",
    "y_tst = y[tst_idx]\n",
    "\n",
    "#data, m, s = split_data(X_trn, y_trn)"
   ]
  },
  {
   "cell_type": "code",
   "execution_count": 158,
   "metadata": {},
   "outputs": [
    {
     "data": {
      "text/html": [
       "<style>#sk-container-id-3 {color: black;background-color: white;}#sk-container-id-3 pre{padding: 0;}#sk-container-id-3 div.sk-toggleable {background-color: white;}#sk-container-id-3 label.sk-toggleable__label {cursor: pointer;display: block;width: 100%;margin-bottom: 0;padding: 0.3em;box-sizing: border-box;text-align: center;}#sk-container-id-3 label.sk-toggleable__label-arrow:before {content: \"▸\";float: left;margin-right: 0.25em;color: #696969;}#sk-container-id-3 label.sk-toggleable__label-arrow:hover:before {color: black;}#sk-container-id-3 div.sk-estimator:hover label.sk-toggleable__label-arrow:before {color: black;}#sk-container-id-3 div.sk-toggleable__content {max-height: 0;max-width: 0;overflow: hidden;text-align: left;background-color: #f0f8ff;}#sk-container-id-3 div.sk-toggleable__content pre {margin: 0.2em;color: black;border-radius: 0.25em;background-color: #f0f8ff;}#sk-container-id-3 input.sk-toggleable__control:checked~div.sk-toggleable__content {max-height: 200px;max-width: 100%;overflow: auto;}#sk-container-id-3 input.sk-toggleable__control:checked~label.sk-toggleable__label-arrow:before {content: \"▾\";}#sk-container-id-3 div.sk-estimator input.sk-toggleable__control:checked~label.sk-toggleable__label {background-color: #d4ebff;}#sk-container-id-3 div.sk-label input.sk-toggleable__control:checked~label.sk-toggleable__label {background-color: #d4ebff;}#sk-container-id-3 input.sk-hidden--visually {border: 0;clip: rect(1px 1px 1px 1px);clip: rect(1px, 1px, 1px, 1px);height: 1px;margin: -1px;overflow: hidden;padding: 0;position: absolute;width: 1px;}#sk-container-id-3 div.sk-estimator {font-family: monospace;background-color: #f0f8ff;border: 1px dotted black;border-radius: 0.25em;box-sizing: border-box;margin-bottom: 0.5em;}#sk-container-id-3 div.sk-estimator:hover {background-color: #d4ebff;}#sk-container-id-3 div.sk-parallel-item::after {content: \"\";width: 100%;border-bottom: 1px solid gray;flex-grow: 1;}#sk-container-id-3 div.sk-label:hover label.sk-toggleable__label {background-color: #d4ebff;}#sk-container-id-3 div.sk-serial::before {content: \"\";position: absolute;border-left: 1px solid gray;box-sizing: border-box;top: 0;bottom: 0;left: 50%;z-index: 0;}#sk-container-id-3 div.sk-serial {display: flex;flex-direction: column;align-items: center;background-color: white;padding-right: 0.2em;padding-left: 0.2em;position: relative;}#sk-container-id-3 div.sk-item {position: relative;z-index: 1;}#sk-container-id-3 div.sk-parallel {display: flex;align-items: stretch;justify-content: center;background-color: white;position: relative;}#sk-container-id-3 div.sk-item::before, #sk-container-id-3 div.sk-parallel-item::before {content: \"\";position: absolute;border-left: 1px solid gray;box-sizing: border-box;top: 0;bottom: 0;left: 50%;z-index: -1;}#sk-container-id-3 div.sk-parallel-item {display: flex;flex-direction: column;z-index: 1;position: relative;background-color: white;}#sk-container-id-3 div.sk-parallel-item:first-child::after {align-self: flex-end;width: 50%;}#sk-container-id-3 div.sk-parallel-item:last-child::after {align-self: flex-start;width: 50%;}#sk-container-id-3 div.sk-parallel-item:only-child::after {width: 0;}#sk-container-id-3 div.sk-dashed-wrapped {border: 1px dashed gray;margin: 0 0.4em 0.5em 0.4em;box-sizing: border-box;padding-bottom: 0.4em;background-color: white;}#sk-container-id-3 div.sk-label label {font-family: monospace;font-weight: bold;display: inline-block;line-height: 1.2em;}#sk-container-id-3 div.sk-label-container {text-align: center;}#sk-container-id-3 div.sk-container {/* jupyter's `normalize.less` sets `[hidden] { display: none; }` but bootstrap.min.css set `[hidden] { display: none !important; }` so we also need the `!important` here to be able to override the default hidden behavior on the sphinx rendered scikit-learn.org. See: https://github.com/scikit-learn/scikit-learn/issues/21755 */display: inline-block !important;position: relative;}#sk-container-id-3 div.sk-text-repr-fallback {display: none;}</style><div id=\"sk-container-id-3\" class=\"sk-top-container\"><div class=\"sk-text-repr-fallback\"><pre>AdaBoostClassifier()</pre><b>In a Jupyter environment, please rerun this cell to show the HTML representation or trust the notebook. <br />On GitHub, the HTML representation is unable to render, please try loading this page with nbviewer.org.</b></div><div class=\"sk-container\" hidden><div class=\"sk-item\"><div class=\"sk-estimator sk-toggleable\"><input class=\"sk-toggleable__control sk-hidden--visually\" id=\"sk-estimator-id-3\" type=\"checkbox\" checked><label for=\"sk-estimator-id-3\" class=\"sk-toggleable__label sk-toggleable__label-arrow\">AdaBoostClassifier</label><div class=\"sk-toggleable__content\"><pre>AdaBoostClassifier()</pre></div></div></div></div></div>"
      ],
      "text/plain": [
       "AdaBoostClassifier()"
      ]
     },
     "execution_count": 158,
     "metadata": {},
     "output_type": "execute_result"
    }
   ],
   "source": [
    "from sklearn.ensemble import AdaBoostClassifier\n",
    "ab_clf = AdaBoostClassifier()\n",
    "ab_clf.fit(X_trn, y_trn)"
   ]
  },
  {
   "cell_type": "code",
   "execution_count": 159,
   "metadata": {},
   "outputs": [],
   "source": [
    "y_hat = ab_clf.predict_proba(X_tst)[:, 1]\n",
    "fpr, tpr, ts = metrics.roc_curve(y_tst, y_hat)\n",
    "auc = metrics.roc_auc_score(y_tst, y_hat)"
   ]
  },
  {
   "cell_type": "code",
   "execution_count": 163,
   "metadata": {},
   "outputs": [
    {
     "data": {
      "image/png": "[encoded data removed]",
      "text/plain": [
       "<Figure size 350x325 with 1 Axes>"
      ]
     },
     "metadata": {},
     "output_type": "display_data"
    }
   ],
   "source": [
    "fig, ax = plt.subplots(figsize = (w, h))\n",
    "plt.plot(fpr, tpr)\n",
    "plt.plot(fpr, fpr, ls = ':', c = 'k', lw = 1)\n",
    "\n",
    "plt.title('\\it ROC Curve for MC', loc = 'right')\n",
    "plt.text(0.05, 0.9, 'AUC: {}'.format(round(auc, 4)))\n",
    "plt.text(0.04, 0.85, 'Loss: {}'.format(round(losses[156299], 2)))\n",
    "plt.xlabel('False Positive Rate')\n",
    "plt.ylabel('True Positive Rate')\n",
    "plt.ylim(0, 1)\n",
    "plt.xlim(0, 1)\n",
    "\n",
    "plt.gca().minorticks_on()\n",
    "plt.gca().tick_params(direction='in', which='both')\n",
    "plt.gca().set_aspect('equal')\n",
    "\n",
    "plt.savefig('../../plots/zenodo/flows/{}/mc_roc.png'.format(experiment), dpi = 300, transparent = True,\n",
    "            bbox_inches = 'tight')"
   ]
  },
  {
   "cell_type": "markdown",
   "metadata": {
    "jp-MarkdownHeadingCollapsed": true,
    "tags": []
   },
   "source": [
    "# Other"
   ]
  },
  {
   "cell_type": "code",
   "execution_count": 61,
   "metadata": {},
   "outputs": [],
   "source": [
    "num_layers = 5\n",
    "base_dist = StandardNormal(shape=[6])\n",
    "\n",
    "transforms = []\n",
    "for _ in range(num_layers):\n",
    "    transforms.append(ReversePermutation(features=6))\n",
    "    transforms.append(MaskedAffineAutoregressiveTransform(features=6, \n",
    "                                                          hidden_features=8))\n",
    "transform = CompositeTransform(transforms)\n",
    "\n",
    "flow = Flow(transform, base_dist)\n",
    "optimizer = optim.Adam(flow.parameters())"
   ]
  },
  {
   "cell_type": "code",
   "execution_count": 62,
   "metadata": {},
   "outputs": [
    {
     "name": "stdout",
     "output_type": "stream",
     "text": [
      "0 \t 74594148352.0\n",
      "100 \t 489.38\n",
      "200 \t 45.3\n",
      "300 \t 32.12\n",
      "400 \t 27.87\n",
      "500 \t 25.9\n",
      "600 \t 24.74\n",
      "700 \t 23.96\n",
      "800 \t 23.38\n",
      "900 \t 22.91\n",
      "1000 \t 22.49\n",
      "1100 \t 22.11\n",
      "1200 \t 21.74\n",
      "1300 \t 21.38\n",
      "1400 \t 21.02\n",
      "1500 \t 20.67\n",
      "1600 \t 20.32\n",
      "1700 \t 20.0\n",
      "1800 \t 19.69\n",
      "1900 \t 19.42\n",
      "2000 \t 19.17\n",
      "2100 \t 18.96\n",
      "2200 \t 18.78\n",
      "2300 \t 18.62\n",
      "2400 \t 18.48\n",
      "2500 \t 18.36\n",
      "2600 \t 18.25\n",
      "2700 \t 18.15\n",
      "2800 \t 18.06\n",
      "2900 \t 17.97\n",
      "3000 \t 17.89\n",
      "3100 \t 17.81\n",
      "3200 \t 17.72\n",
      "3300 \t 17.64\n",
      "3400 \t 17.56\n",
      "3500 \t 17.48\n",
      "3600 \t 17.4\n",
      "3700 \t 17.33\n",
      "3800 \t 17.26\n",
      "3900 \t 17.19\n",
      "4000 \t 17.12\n",
      "4100 \t 17.06\n",
      "4200 \t 16.99\n",
      "4300 \t 16.93\n",
      "4400 \t 16.87\n",
      "4500 \t 16.8\n",
      "4600 \t 16.74\n",
      "4700 \t 16.67\n",
      "4800 \t 16.61\n",
      "4900 \t 16.54\n"
     ]
    }
   ],
   "source": [
    "num_iter = 5000\n",
    "losses = np.zeros(num_iter)\n",
    "for i in range(num_iter):\n",
    "    optimizer.zero_grad()\n",
    "    loss = -flow.log_prob(inputs=data).mean()\n",
    "    losses[i] = loss\n",
    "    \n",
    "    loss.backward()\n",
    "    optimizer.step()\n",
    "    \n",
    "    if i % 100 == 0:\n",
    "        print(i, '\\t', round(losses[i], 2))"
   ]
  },
  {
   "cell_type": "markdown",
   "metadata": {},
   "source": [
    "# Visualizing"
   ]
  },
  {
   "cell_type": "markdown",
   "metadata": {},
   "source": [
    "## Total"
   ]
  },
  {
   "cell_type": "code",
   "execution_count": 305,
   "metadata": {},
   "outputs": [
    {
     "data": {
      "text/plain": [
       "12.397750854492188"
      ]
     },
     "execution_count": 305,
     "metadata": {},
     "output_type": "execute_result"
    }
   ],
   "source": [
    "loss_0 = np.load('total_0/losses.npy')\n",
    "min(loss_0[loss_0 > 0])"
   ]
  },
  {
   "cell_type": "code",
   "execution_count": 306,
   "metadata": {},
   "outputs": [
    {
     "data": {
      "text/plain": [
       "12.532134056091309"
      ]
     },
     "execution_count": 306,
     "metadata": {},
     "output_type": "execute_result"
    }
   ],
   "source": [
    "loss_1 = np.load('total_1/losses.npy')\n",
    "min(loss_1[loss_1 > 0])"
   ]
  },
  {
   "cell_type": "code",
   "execution_count": 307,
   "metadata": {},
   "outputs": [
    {
     "data": {
      "text/plain": [
       "(12.3, 13.4)"
      ]
     },
     "execution_count": 307,
     "metadata": {},
     "output_type": "execute_result"
    },
    {
     "data": {
      "image/png": "[encoded data removed]",
      "text/plain": [
       "<Figure size 640x480 with 1 Axes>"
      ]
     },
     "metadata": {},
     "output_type": "display_data"
    }
   ],
   "source": [
    "plt.plot(loss_0[loss_0 > 0])\n",
    "plt.plot(loss_1[loss_1 > 0])\n",
    "plt.ylim(12.3, 13.4)"
   ]
  },
  {
   "cell_type": "markdown",
   "metadata": {},
   "source": [
    "## Batches"
   ]
  },
  {
   "cell_type": "code",
   "execution_count": 354,
   "metadata": {},
   "outputs": [
    {
     "data": {
      "text/plain": [
       "11.523883819580078"
      ]
     },
     "execution_count": 354,
     "metadata": {},
     "output_type": "execute_result"
    }
   ],
   "source": [
    "loss_0 = np.load('batches_0/losses.npy')\n",
    "min(loss_0[loss_0 > 0])"
   ]
  },
  {
   "cell_type": "code",
   "execution_count": 355,
   "metadata": {},
   "outputs": [
    {
     "data": {
      "text/plain": [
       "11.440874099731445"
      ]
     },
     "execution_count": 355,
     "metadata": {},
     "output_type": "execute_result"
    }
   ],
   "source": [
    "loss_1 = np.load('batches_1/losses.npy')\n",
    "min(loss_1[loss_1 > 0])"
   ]
  },
  {
   "cell_type": "code",
   "execution_count": 356,
   "metadata": {},
   "outputs": [
    {
     "data": {
      "text/plain": [
       "(11.2, 15.0)"
      ]
     },
     "execution_count": 356,
     "metadata": {},
     "output_type": "execute_result"
    },
    {
     "data": {
      "image/png": "[encoded data removed]",
      "text/plain": [
       "<Figure size 640x480 with 1 Axes>"
      ]
     },
     "metadata": {},
     "output_type": "display_data"
    }
   ],
   "source": [
    "plt.plot(loss_0[loss_0 > 0])\n",
    "plt.plot(loss_1[loss_1 > 0])\n",
    "plt.ylim(11.2, 15)"
   ]
  },
  {
   "cell_type": "code",
   "execution_count": null,
   "metadata": {},
   "outputs": [],
   "source": []
  }
 ],
 "metadata": {
  "kernelspec": {
   "display_name": "nflows",
   "language": "python",
   "name": "nflows"
  },
  "language_info": {
   "codemirror_mode": {
    "name": "ipython",
    "version": 3
   },
   "file_extension": ".py",
   "mimetype": "text/x-python",
   "name": "python",
   "nbconvert_exporter": "python",
   "pygments_lexer": "ipython3",
   "version": "3.10.9"
  }
 },
 "nbformat": 4,
 "nbformat_minor": 4
}
