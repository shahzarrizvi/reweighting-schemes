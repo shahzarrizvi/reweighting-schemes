{
 "cells": [
  {
   "cell_type": "markdown",
   "id": "f7d31f27-536a-4952-8349-fac14f90509a",
   "metadata": {},
   "source": [
    "# Weight truncation in UniFold"
   ]
  },
  {
   "cell_type": "code",
   "execution_count": 1,
   "id": "211789a5-c9f0-4973-be96-ff6d48e6c2de",
   "metadata": {},
   "outputs": [],
   "source": [
    "%load_ext autoreload\n",
    "%autoreload 2"
   ]
  },
  {
   "cell_type": "code",
   "execution_count": 2,
   "id": "f31c67e9-8723-4cba-97d9-75f9bfd6ff1d",
   "metadata": {},
   "outputs": [],
   "source": [
    "### Generic imports\n",
    "import os\n",
    "import numpy as np\n",
    "import pandas as pd\n",
    "import scipy.stats as stats\n",
    "from tqdm import tqdm\n",
    "import matplotlib.pyplot as plt\n",
    "from matplotlib.backends.backend_pdf import PdfPages\n",
    "from matplotlib.ticker import MaxNLocator\n",
    "\n",
    "### ML imports\n",
    "from sklearn.model_selection import train_test_split\n",
    "import sklearn.preprocessing as preprocessing\n",
    "import tensorflow as tf\n",
    "\n",
    "### Custom functions\n",
    "from omnifold import *\n",
    "from omnifold.utilities import *"
   ]
  },
  {
   "cell_type": "code",
   "execution_count": 3,
   "id": "b6760634-4a33-47c5-a8bf-c6137455fa62",
   "metadata": {},
   "outputs": [
    {
     "name": "stdout",
     "output_type": "stream",
     "text": [
      "GPU 0: Quadro RTX 6000 (UUID: GPU-26dfa6b3-88ef-1e87-ba91-3ca0255166ab)\n",
      "GPU 1: Quadro RTX 6000 (UUID: GPU-2c315734-0ffc-e8d8-40fb-29a2ccd25ab5)\n",
      "GPU 2: Quadro RTX 6000 (UUID: GPU-057fcb77-7816-2825-8db8-b78905930b06)\n",
      "GPU 3: Quadro RTX 6000 (UUID: GPU-dc56feb4-523f-6ded-e577-4416c9dc6561)\n"
     ]
    }
   ],
   "source": [
    "! nvidia-smi -L # list GPUs available"
   ]
  },
  {
   "cell_type": "code",
   "execution_count": 4,
   "id": "c6494b1d-fa24-4335-9a54-1774ad2e1482",
   "metadata": {},
   "outputs": [
    {
     "name": "stderr",
     "output_type": "stream",
     "text": [
      "2021-11-10 16:50:28.140120: I tensorflow/stream_executor/platform/default/dso_loader.cc:44] Successfully opened dynamic library libcuda.so.1\n",
      "2021-11-10 16:50:28.167014: I tensorflow/core/common_runtime/gpu/gpu_device.cc:1561] Found device 0 with properties: \n",
      "pciBusID: 0000:41:00.0 name: Quadro RTX 6000 computeCapability: 7.5\n",
      "coreClock: 1.77GHz coreCount: 72 deviceMemorySize: 23.65GiB deviceMemoryBandwidth: 625.94GiB/s\n",
      "2021-11-10 16:50:28.167187: I tensorflow/stream_executor/platform/default/dso_loader.cc:44] Successfully opened dynamic library libcudart.so.10.1\n",
      "2021-11-10 16:50:28.168813: I tensorflow/stream_executor/platform/default/dso_loader.cc:44] Successfully opened dynamic library libcublas.so.10\n",
      "2021-11-10 16:50:28.170629: I tensorflow/stream_executor/platform/default/dso_loader.cc:44] Successfully opened dynamic library libcufft.so.10\n",
      "2021-11-10 16:50:28.170872: I tensorflow/stream_executor/platform/default/dso_loader.cc:44] Successfully opened dynamic library libcurand.so.10\n",
      "2021-11-10 16:50:28.172529: I tensorflow/stream_executor/platform/default/dso_loader.cc:44] Successfully opened dynamic library libcusolver.so.10\n",
      "2021-11-10 16:50:28.173358: I tensorflow/stream_executor/platform/default/dso_loader.cc:44] Successfully opened dynamic library libcusparse.so.10\n",
      "2021-11-10 16:50:28.176587: I tensorflow/stream_executor/platform/default/dso_loader.cc:44] Successfully opened dynamic library libcudnn.so.7\n",
      "2021-11-10 16:50:28.179222: I tensorflow/core/common_runtime/gpu/gpu_device.cc:1703] Adding visible gpu devices: 0\n"
     ]
    }
   ],
   "source": [
    "### GPU Setup\n",
    "os.environ[\"CUDA_VISIBLE_DEVICES\"] = \"1\" # pick a number < 4 on ML4HEP; < 3 on Voltan \n",
    "physical_devices = tf.config.list_physical_devices('GPU') \n",
    "tf.config.experimental.set_memory_growth(physical_devices[0], True)"
   ]
  },
  {
   "cell_type": "code",
   "execution_count": 5,
   "id": "2d52c8dc-60f5-4edb-ab8b-aee9e5ce895b",
   "metadata": {},
   "outputs": [],
   "source": [
    "plot_setup()\n",
    "plt.rcParams.update({\"font.family\": \"serif\",})"
   ]
  },
  {
   "cell_type": "code",
   "execution_count": 6,
   "id": "20810031-1bfd-4620-a4f9-910029f41cd4",
   "metadata": {},
   "outputs": [],
   "source": [
    "plot_dir = './plots/'"
   ]
  },
  {
   "cell_type": "markdown",
   "id": "6205721e-19de-4143-a27a-2d6811f7da84",
   "metadata": {},
   "source": [
    "### Load files"
   ]
  },
  {
   "cell_type": "markdown",
   "id": "558b11fc-f11a-43b4-b083-a34a7539c55c",
   "metadata": {},
   "source": [
    "Since we're not using data yet, \"MC\" = Powheg + Pythia8 MC16e and \"data\" = Sherpa 2.2.1 MC16e."
   ]
  },
  {
   "cell_type": "code",
   "execution_count": 7,
   "id": "def4b981-62fb-4045-aa37-2e755ba5a8a3",
   "metadata": {},
   "outputs": [],
   "source": [
    "folder = './omnifold_data/'\n",
    "f_mc = uproot.open(folder+\"ZjetOmnifold_Jun25_PowhegPythia_mc16e_slim.root\")\n",
    "f_data = uproot.open(folder+\"ZjetOmnifold_Jun25_Sherpa221_mc16e_slim.root\")"
   ]
  },
  {
   "cell_type": "code",
   "execution_count": 8,
   "id": "0d434207-3f13-471d-8608-c5ec90f3fa2a",
   "metadata": {},
   "outputs": [],
   "source": [
    "columns = f_mc['OmniTree'].keys()"
   ]
  },
  {
   "cell_type": "markdown",
   "id": "f56d5d7f-925d-4fc2-8e08-f1f449c48804",
   "metadata": {},
   "source": [
    "These columns are the same for both samples, since they're both MC:"
   ]
  },
  {
   "cell_type": "code",
   "execution_count": 9,
   "id": "93b4741d-d40b-475f-acc3-7146b4d9b25a",
   "metadata": {},
   "outputs": [
    {
     "data": {
      "text/plain": [
       "True"
      ]
     },
     "execution_count": 9,
     "metadata": {},
     "output_type": "execute_result"
    }
   ],
   "source": [
    "f_mc['OmniTree'].keys() == f_data['OmniTree'].keys()"
   ]
  },
  {
   "cell_type": "markdown",
   "id": "2e6747a1-2a29-4be1-8e3f-5ce4ba70a764",
   "metadata": {},
   "source": [
    "Note that variables ending in `_tracks` require MultiIndex-ing. It's possible to combine these with flat variables, but it does increase the size of the DataFrame considerably, so let's ignore the MultiIndex variables for now. "
   ]
  },
  {
   "cell_type": "code",
   "execution_count": 10,
   "id": "c94ceb1a-20dc-4889-9fc9-6aff419d588c",
   "metadata": {},
   "outputs": [
    {
     "name": "stdout",
     "output_type": "stream",
     "text": [
      "MC has 416,725 events with 57 columns.\n",
      "Data has 3,578,623 events with 57 columns.\n"
     ]
    }
   ],
   "source": [
    "mc = f_mc['OmniTree'].arrays(\n",
    "    [col for col in columns if not col.endswith(\"_tracks\")],\n",
    "    library=\"pd\")\n",
    "\n",
    "data = f_data['OmniTree'].arrays(\n",
    "    [col for col in columns if not col.endswith(\"_tracks\")],\n",
    "    library=\"pd\")\n",
    "\n",
    "print(\"MC has {:,} events with {} columns.\".format(mc.shape[0],mc.shape[1]))\n",
    "print(\"Data has {:,} events with {} columns.\".format(data.shape[0],data.shape[1]))"
   ]
  },
  {
   "cell_type": "markdown",
   "id": "b46084c8-79b8-4512-baa9-001eb3f6a009",
   "metadata": {},
   "source": [
    "### Apply event selection"
   ]
  },
  {
   "cell_type": "code",
   "execution_count": 11,
   "id": "a5b4a5f3-24f4-459e-96c5-28ac935e52f4",
   "metadata": {},
   "outputs": [],
   "source": [
    "mc['pass190'] = mc['pass190'].astype('bool')\n",
    "mc['truth_pass190'] = mc['truth_pass190'].astype('bool')\n",
    "data['pass190'] = data['pass190'].astype('bool')\n",
    "data['truth_pass190'] = data['truth_pass190'].astype('bool')"
   ]
  },
  {
   "cell_type": "markdown",
   "id": "bbf48208-e9d6-4ec4-a793-cba6d2cdfc9b",
   "metadata": {},
   "source": [
    "The sample we're using already has these cuts applied, but we'll keep them in for future datasets. "
   ]
  },
  {
   "cell_type": "code",
   "execution_count": 12,
   "id": "a006689a-2061-4755-8588-072825d640b0",
   "metadata": {},
   "outputs": [],
   "source": [
    "mc = mc[(mc.pass190 | mc.truth_pass190)]\n",
    "data = data[data.pass190]\n",
    "data_truth = data[data.truth_pass190]"
   ]
  },
  {
   "cell_type": "markdown",
   "id": "3d831455-f6ac-4859-9666-ffc6927ed5b7",
   "metadata": {},
   "source": [
    "Normalize the weights:"
   ]
  },
  {
   "cell_type": "code",
   "execution_count": 13,
   "id": "4fa077aa-c3f9-4e8e-bf1b-f2986adca95e",
   "metadata": {},
   "outputs": [],
   "source": [
    "for weights in [mc.weight_mc, mc.weight, data_truth.weight_mc, data.weight]:\n",
    "    weights /= np.mean(weights)"
   ]
  },
  {
   "cell_type": "code",
   "execution_count": 14,
   "id": "259e6b80-316f-486f-a479-87ed3ba53a47",
   "metadata": {},
   "outputs": [
    {
     "data": {
      "image/png": "[encoded data removed]",
      "text/plain": [
       "<Figure size 720x432 with 1 Axes>"
      ]
     },
     "metadata": {},
     "output_type": "display_data"
    },
    {
     "data": {
      "image/png": "[encoded data removed]",
      "text/plain": [
       "<Figure size 720x432 with 1 Axes>"
      ]
     },
     "metadata": {},
     "output_type": "display_data"
    }
   ],
   "source": [
    "bins = np.linspace(-3, 3, 100)\n",
    "\n",
    "plt.figure(figsize=(10, 6))\n",
    "hW_sim_truth, _, _ = plt.hist(mc.weight_mc,\n",
    "                              bins=bins,\n",
    "                              label=r'MC (Powheg + Pythia8)',\n",
    "                              **plot_style_2)\n",
    "hW_data_truth, _, _ = plt.hist(data_truth.weight_mc,\n",
    "                               bins=bins,\n",
    "                               label=r'``Data\" (Sherpa 2.2.1)',\n",
    "                               **plot_style_2)\n",
    "plt.xlabel('MC Truth Weight')\n",
    "plt.ylabel('Events per bin (normalized)')\n",
    "plt.ylim(top=1.5 * np.max((hW_sim_truth, hW_data_truth)))\n",
    "plt.legend()\n",
    "draw_atlas_text()\n",
    "plt.show()\n",
    "\n",
    "plt.figure(figsize=(10, 6))\n",
    "hW_sim_reco, _, _ = plt.hist(mc.weight,\n",
    "                             bins=bins,\n",
    "                             label=r'MC (Powheg + Pythia8)',\n",
    "                             **plot_style_2)\n",
    "hW_data_reco, _, _ = plt.hist(data.weight,\n",
    "                              bins=bins,\n",
    "                              label=r'``Data\" (Sherpa 2.2.1)',\n",
    "                              **plot_style_2)\n",
    "plt.xlabel('MC Reco Weight')\n",
    "plt.ylabel('Events per bin (normalized)')\n",
    "plt.ylim(top=1.5 * np.max((hW_sim_reco, hW_data_reco)))\n",
    "plt.legend()\n",
    "draw_atlas_text()\n",
    "plt.show()"
   ]
  },
  {
   "cell_type": "markdown",
   "id": "a75b754b-1c01-423b-8727-880cb146eeb6",
   "metadata": {},
   "source": [
    "### Load IBU histograms to get binning"
   ]
  },
  {
   "cell_type": "code",
   "execution_count": 15,
   "id": "947d964f-7fba-44c5-8a05-fb6b3bad62a0",
   "metadata": {},
   "outputs": [],
   "source": [
    "file_labels = [\n",
    "    'Ntracks_trackj1', 'Ntracks_trackj2', 'm_trackj1', 'm_trackj2',\n",
    "    'pT_trackj1', 'pT_trackj2', 'y_trackj1', 'y_trackj2', 'phi_trackj1',\n",
    "    'phi_trackj2', 'tau1_trackj1', 'tau1_trackj2', 'tau2_trackj1',\n",
    "    'tau2_trackj2', 'tau3_trackj1', 'tau3_trackj2', 'pT_ll', 'y_ll', 'pT_l1',\n",
    "    'pT_l2', 'eta_l1', 'eta_l2', 'phi_l1', 'phi_l2'\n",
    "]\n",
    "plot_labels = [\n",
    "    r'Leading track jet $n_{\\textrm{ch}}$ ',\n",
    "    r'Subleading track jet $n_{\\textrm{ch}}$', 'Leading track jet $m$ [GeV]',\n",
    "    r'Subleading track jet $m$ [GeV]', r'Leading track jet $p_T$ [GeV]',\n",
    "    r'Subleading track jet $p_T$ [GeV]', r'Leading track jet $y$',\n",
    "    r'Subleading track jet $y$', r'Leading track jet $\\phi$',\n",
    "    r'Subleading track jet $\\phi$', r'Leading track jet $\\tau_1$',\n",
    "    r'Subleading track jet $\\tau_1$', r'Leading track jet $\\tau_2$',\n",
    "    r'Subleading track jet $\\tau_2$', r'Leading track jet $\\tau_3$',\n",
    "    r'Subleading track jet $\\tau_3$', r'$p^{\\mu \\mu}_T$ [GeV]',\n",
    "    r'$y_{\\mu \\mu}$', r'$p^{\\mu 1}_{T}$ [GeV]', r'$p^{\\mu 2}_{T}$ [GeV]',\n",
    "    '$\\eta_{\\mu 1}$', '$\\eta_{\\mu 2}$', '$\\phi_{\\mu 1}$', '$\\phi_{\\mu 2}$'\n",
    "]\n",
    "\n",
    "IBU_hists = uproot.open(folder+'unfoldingPlotsJune14_UnfoldedHists.root')\n",
    "\n",
    "bins = []\n",
    "for label in file_labels:\n",
    "    bins += [IBU_hists['SherpaUnfoldWPythia_2018_'+label].to_numpy()[1]]\n",
    "    \n",
    "labels_and_bins = zip(file_labels, plot_labels, bins)\n",
    "\n",
    "ibu_hists = []\n",
    "for file_label, plot_label, plot_bins in labels_and_bins:\n",
    "    ibu_hists += [{\n",
    "        'file_label': file_label,\n",
    "        'plot_label': plot_label,\n",
    "        'bins': plot_bins\n",
    "    }]"
   ]
  },
  {
   "cell_type": "code",
   "execution_count": 16,
   "id": "37a278ff-8c81-424c-b3e7-d1bc68309608",
   "metadata": {},
   "outputs": [],
   "source": [
    "### Replace bins with Laura's new binning! \n",
    "ibu_hists[0]['bins'] = np.array([1, 7, 11, 15, 20, 30, 40]) # leading jet n_charged_tracks\n",
    "ibu_hists[4]['bins'] = np.array([0,  50,  100,  150,  200,  300,  1000]) # leading jet pT\n",
    "ibu_hists[10]['bins'] = np.array([0,  0.05,  0.1,  0.17,  0.25,  0.35,  0.5,  0.9]) # leading jet tau_1"
   ]
  },
  {
   "cell_type": "markdown",
   "id": "46f83bf9-fa12-428a-ad95-b6a14b093109",
   "metadata": {
    "tags": []
   },
   "source": [
    "# UniFold"
   ]
  },
  {
   "cell_type": "markdown",
   "id": "a400406f-df9a-422d-9fb7-d499174a93c6",
   "metadata": {
    "tags": []
   },
   "source": [
    "### Apply unfolding"
   ]
  },
  {
   "cell_type": "code",
   "execution_count": 17,
   "id": "74c2955e-845f-4514-afa1-29ee8468f5be",
   "metadata": {},
   "outputs": [],
   "source": [
    "K.clear_session()"
   ]
  },
  {
   "cell_type": "code",
   "execution_count": 18,
   "id": "b1ff2a8e-a68e-41a8-be4e-cfb321a9b46f",
   "metadata": {},
   "outputs": [],
   "source": [
    "i = 0 # index of variable of interest (0 = n_tracks for leading jet)"
   ]
  },
  {
   "cell_type": "code",
   "execution_count": 19,
   "id": "49141212-1dc4-4a2a-82d0-b19effd1945f",
   "metadata": {},
   "outputs": [
    {
     "name": "stdout",
     "output_type": "stream",
     "text": [
      "Saving as ./plots/UniFold/Ntracks_trackj1/example.\n"
     ]
    }
   ],
   "source": [
    "save_label0 = 'example'\n",
    "bins = ibu_hists[i]['bins']\n",
    "x_label = ibu_hists[i]['plot_label']\n",
    "file_label = ibu_hists[i]['file_label']\n",
    "os.makedirs(plot_dir+'UniFold/'+file_label, exist_ok=True)\n",
    "save_label = plot_dir+'UniFold/'+file_label+'/'+save_label0\n",
    "print(\"Saving as {}.\".format(save_label))"
   ]
  },
  {
   "cell_type": "markdown",
   "id": "8aae6cd5-549c-46cb-a424-4ee454af58ec",
   "metadata": {},
   "source": [
    "Grab the particular variable you care about, and set a dummy value for events that don't pass each MC selection:"
   ]
  },
  {
   "cell_type": "code",
   "execution_count": 20,
   "id": "67bd992d-0f19-4f7a-9879-84297274bcb4",
   "metadata": {},
   "outputs": [
    {
     "name": "stderr",
     "output_type": "stream",
     "text": [
      "/tmp/ipykernel_11191/2058628029.py:4: SettingWithCopyWarning: \n",
      "A value is trying to be set on a copy of a slice from a DataFrame.\n",
      "Try using .loc[row_indexer,col_indexer] = value instead\n",
      "\n",
      "See the caveats in the documentation: https://pandas.pydata.org/pandas-docs/stable/user_guide/indexing.html#returning-a-view-versus-a-copy\n",
      "  data_truth['truth_var'] = data_truth['truth_'+file_label]\n"
     ]
    }
   ],
   "source": [
    "dummyval = -99\n",
    "mc['truth_var'] = np.where(mc.truth_pass190, mc['truth_'+file_label], dummyval)\n",
    "mc['reco_var'] = np.where(mc.pass190, mc[file_label], dummyval)\n",
    "data_truth['truth_var'] = data_truth['truth_'+file_label]\n",
    "data['reco_var'] = data[file_label]"
   ]
  },
  {
   "cell_type": "code",
   "execution_count": 21,
   "id": "773e1085-9521-42b1-a6c9-39d603752f43",
   "metadata": {},
   "outputs": [],
   "source": [
    "# # artificially shift MC distribution to induce infinite weights\n",
    "# offset = 30\n",
    "# mc.truth_var += offset\n",
    "# # mc.reco_var += offset"
   ]
  },
  {
   "cell_type": "code",
   "execution_count": 22,
   "id": "4c24b028-7ae2-4e4a-a0ba-42660d840cff",
   "metadata": {},
   "outputs": [],
   "source": [
    "# mc.truth_var.replace(dummyval+offset, dummyval, inplace=True)"
   ]
  },
  {
   "cell_type": "markdown",
   "id": "1a88546d-882a-48e2-b1ed-e7381c1f08fe",
   "metadata": {},
   "source": [
    "Plot this observable in MC & \"data\" before unfolding:"
   ]
  },
  {
   "cell_type": "code",
   "execution_count": 23,
   "id": "72e51d28-41bb-4438-8e56-759f7386cded",
   "metadata": {},
   "outputs": [
    {
     "data": {
      "image/png": "[encoded data removed]",
      "text/plain": [
       "<Figure size 1440x432 with 4 Axes>"
      ]
     },
     "metadata": {},
     "output_type": "display_data"
    }
   ],
   "source": [
    "### Add in 200 GeV cuts for plotting only \n",
    "mc_plots = mc[(mc.truth_pT_ll > 200) | (mc.pT_ll > 200)]\n",
    "data_truth_plots = data_truth[data_truth.truth_pT_ll > 200]\n",
    "data_plots = data[data.pT_ll > 200]\n",
    "\n",
    "omnifold_weights = np.zeros(shape=(len(ibu_hists), len(mc_plots))) # the right size for the 200 GeV cut\n",
    "\n",
    "plot_distributions(\n",
    "    sim_truth=mc_plots.truth_var,\n",
    "    sim_reco=mc_plots.reco_var,\n",
    "    sim_truth_weights_MC=mc_plots.weight_mc,\n",
    "    sim_reco_weights_MC=mc_plots.weight,\n",
    "    data_truth=data_truth_plots.truth_var,\n",
    "    data_reco=data_plots.reco_var,\n",
    "    data_truth_weights_MC=data_truth_plots.weight_mc,\n",
    "    data_reco_weights_MC=data_plots.weight,\n",
    "    bins=bins,\n",
    "    x_label=x_label,\n",
    "    save_label=save_label\n",
    ")"
   ]
  },
  {
   "cell_type": "markdown",
   "id": "a34c90e5-a6c8-4dc4-918d-4ce8a8ca7dba",
   "metadata": {},
   "source": [
    "Standardize the data by z-score:"
   ]
  },
  {
   "cell_type": "code",
   "execution_count": 24,
   "id": "d94e7bd5-3a55-4d0c-b674-b71e34c1809d",
   "metadata": {},
   "outputs": [],
   "source": [
    "mc_truth_z, mc_reco_z, data_reco_z = standardize(np.array(mc.truth_var), np.array(mc.reco_var), np.array(data.reco_var))"
   ]
  },
  {
   "cell_type": "markdown",
   "id": "9dedc38d-e164-4dac-936f-ef6e187ce6a9",
   "metadata": {},
   "source": [
    "Unfold!"
   ]
  },
  {
   "cell_type": "code",
   "execution_count": 25,
   "id": "3c299b30-50db-40dd-b00b-31ccc3742d22",
   "metadata": {},
   "outputs": [
    {
     "name": "stderr",
     "output_type": "stream",
     "text": [
      "2021-11-10 16:51:22.607194: I tensorflow/core/platform/cpu_feature_guard.cc:143] Your CPU supports instructions that this TensorFlow binary was not compiled to use: SSE4.1 SSE4.2 AVX AVX2 FMA\n",
      "2021-11-10 16:51:22.615798: I tensorflow/core/platform/profile_utils/cpu_utils.cc:102] CPU Frequency: 2994280000 Hz\n",
      "2021-11-10 16:51:22.617113: I tensorflow/compiler/xla/service/service.cc:168] XLA service 0x5567427d4a00 initialized for platform Host (this does not guarantee that XLA will be used). Devices:\n",
      "2021-11-10 16:51:22.617141: I tensorflow/compiler/xla/service/service.cc:176]   StreamExecutor device (0): Host, Default Version\n",
      "2021-11-10 16:51:22.726202: I tensorflow/compiler/xla/service/service.cc:168] XLA service 0x556714e5dbb0 initialized for platform CUDA (this does not guarantee that XLA will be used). Devices:\n",
      "2021-11-10 16:51:22.726253: I tensorflow/compiler/xla/service/service.cc:176]   StreamExecutor device (0): Quadro RTX 6000, Compute Capability 7.5\n",
      "2021-11-10 16:51:22.727883: I tensorflow/core/common_runtime/gpu/gpu_device.cc:1561] Found device 0 with properties: \n",
      "pciBusID: 0000:41:00.0 name: Quadro RTX 6000 computeCapability: 7.5\n",
      "coreClock: 1.77GHz coreCount: 72 deviceMemorySize: 23.65GiB deviceMemoryBandwidth: 625.94GiB/s\n",
      "2021-11-10 16:51:22.727936: I tensorflow/stream_executor/platform/default/dso_loader.cc:44] Successfully opened dynamic library libcudart.so.10.1\n",
      "2021-11-10 16:51:22.727950: I tensorflow/stream_executor/platform/default/dso_loader.cc:44] Successfully opened dynamic library libcublas.so.10\n",
      "2021-11-10 16:51:22.727963: I tensorflow/stream_executor/platform/default/dso_loader.cc:44] Successfully opened dynamic library libcufft.so.10\n",
      "2021-11-10 16:51:22.727975: I tensorflow/stream_executor/platform/default/dso_loader.cc:44] Successfully opened dynamic library libcurand.so.10\n",
      "2021-11-10 16:51:22.727987: I tensorflow/stream_executor/platform/default/dso_loader.cc:44] Successfully opened dynamic library libcusolver.so.10\n",
      "2021-11-10 16:51:22.727999: I tensorflow/stream_executor/platform/default/dso_loader.cc:44] Successfully opened dynamic library libcusparse.so.10\n",
      "2021-11-10 16:51:22.728011: I tensorflow/stream_executor/platform/default/dso_loader.cc:44] Successfully opened dynamic library libcudnn.so.7\n",
      "2021-11-10 16:51:22.730366: I tensorflow/core/common_runtime/gpu/gpu_device.cc:1703] Adding visible gpu devices: 0\n",
      "2021-11-10 16:51:22.730396: I tensorflow/stream_executor/platform/default/dso_loader.cc:44] Successfully opened dynamic library libcudart.so.10.1\n",
      "2021-11-10 16:51:22.732286: I tensorflow/core/common_runtime/gpu/gpu_device.cc:1102] Device interconnect StreamExecutor with strength 1 edge matrix:\n",
      "2021-11-10 16:51:22.732294: I tensorflow/core/common_runtime/gpu/gpu_device.cc:1108]      0 \n",
      "2021-11-10 16:51:22.732301: I tensorflow/core/common_runtime/gpu/gpu_device.cc:1121] 0:   N \n",
      "2021-11-10 16:51:22.735094: I tensorflow/core/common_runtime/gpu/gpu_device.cc:1247] Created TensorFlow device (/job:localhost/replica:0/task:0/device:GPU:0 with 21510 MB memory) -> physical GPU (device: 0, name: Quadro RTX 6000, pci bus id: 0000:41:00.0, compute capability: 7.5)\n",
      "  0%|          | 0/1 [00:00<?, ?it/s]"
     ]
    },
    {
     "name": "stdout",
     "output_type": "stream",
     "text": [
      "\n",
      "ITERATION: 1\n",
      "\n",
      "STEP 1\n",
      "\n",
      "Epoch 1/1000\n",
      "  1/245 [..............................] - ETA: 0s - loss: 0.7143 - accuracy: 0.0590"
     ]
    },
    {
     "name": "stderr",
     "output_type": "stream",
     "text": [
      "2021-11-10 16:51:23.626487: I tensorflow/stream_executor/platform/default/dso_loader.cc:44] Successfully opened dynamic library libcublas.so.10\n"
     ]
    },
    {
     "name": "stdout",
     "output_type": "stream",
     "text": [
      "245/245 [==============================] - 1s 3ms/step - loss: 0.3779 - accuracy: 0.4452 - val_loss: 0.3362 - val_accuracy: 0.4474\n",
      "Epoch 2/1000\n",
      "245/245 [==============================] - 1s 2ms/step - loss: 0.3376 - accuracy: 0.4472 - val_loss: 0.3361 - val_accuracy: 0.4474\n",
      "Epoch 3/1000\n",
      "245/245 [==============================] - 1s 3ms/step - loss: 0.3376 - accuracy: 0.4472 - val_loss: 0.3361 - val_accuracy: 0.4474\n",
      "Epoch 4/1000\n",
      "245/245 [==============================] - 1s 3ms/step - loss: 0.3376 - accuracy: 0.4472 - val_loss: 0.3361 - val_accuracy: 0.4474\n",
      "Epoch 5/1000\n",
      "245/245 [==============================] - 1s 3ms/step - loss: 0.3376 - accuracy: 0.4472 - val_loss: 0.3362 - val_accuracy: 0.4474\n",
      "Epoch 6/1000\n",
      "245/245 [==============================] - 1s 3ms/step - loss: 0.3376 - accuracy: 0.4472 - val_loss: 0.3361 - val_accuracy: 0.4474\n",
      "Epoch 7/1000\n",
      "245/245 [==============================] - 1s 3ms/step - loss: 0.3376 - accuracy: 0.4472 - val_loss: 0.3362 - val_accuracy: 0.4474\n",
      "Epoch 8/1000\n",
      "245/245 [==============================] - 1s 3ms/step - loss: 0.3376 - accuracy: 0.4472 - val_loss: 0.3361 - val_accuracy: 0.4474\n",
      "Epoch 9/1000\n",
      "245/245 [==============================] - 1s 3ms/step - loss: 0.3377 - accuracy: 0.4472 - val_loss: 0.3362 - val_accuracy: 0.4474\n",
      "Epoch 10/1000\n",
      "245/245 [==============================] - 1s 3ms/step - loss: 0.3376 - accuracy: 0.4472 - val_loss: 0.3361 - val_accuracy: 0.4474\n",
      "Epoch 11/1000\n",
      "245/245 [==============================] - 1s 3ms/step - loss: 0.3376 - accuracy: 0.4472 - val_loss: 0.3361 - val_accuracy: 0.4474\n",
      "Epoch 12/1000\n",
      "245/245 [==============================] - 1s 3ms/step - loss: 0.3376 - accuracy: 0.4472 - val_loss: 0.3361 - val_accuracy: 0.4474\n",
      "Epoch 13/1000\n",
      "245/245 [==============================] - 1s 3ms/step - loss: 0.3376 - accuracy: 0.4472 - val_loss: 0.3361 - val_accuracy: 0.4474\n",
      "Epoch 14/1000\n",
      "245/245 [==============================] - 1s 3ms/step - loss: 0.3377 - accuracy: 0.4472 - val_loss: 0.3362 - val_accuracy: 0.4474\n",
      "Epoch 15/1000\n",
      "245/245 [==============================] - 1s 3ms/step - loss: 0.3376 - accuracy: 0.4472 - val_loss: 0.3362 - val_accuracy: 0.4474\n",
      "Epoch 16/1000\n",
      "245/245 [==============================] - 1s 3ms/step - loss: 0.3376 - accuracy: 0.4472 - val_loss: 0.3361 - val_accuracy: 0.4474\n",
      "Epoch 17/1000\n",
      "245/245 [==============================] - 1s 3ms/step - loss: 0.3377 - accuracy: 0.4472 - val_loss: 0.3361 - val_accuracy: 0.4474\n",
      "Epoch 18/1000\n",
      "245/245 [==============================] - 1s 3ms/step - loss: 0.3376 - accuracy: 0.4472 - val_loss: 0.3361 - val_accuracy: 0.4474\n",
      "Epoch 19/1000\n",
      "245/245 [==============================] - 1s 3ms/step - loss: 0.3376 - accuracy: 0.4472 - val_loss: 0.3362 - val_accuracy: 0.4474\n",
      "Epoch 20/1000\n",
      "245/245 [==============================] - 1s 3ms/step - loss: 0.3376 - accuracy: 0.4472 - val_loss: 0.3361 - val_accuracy: 0.4474\n",
      "Epoch 21/1000\n",
      "245/245 [==============================] - 1s 3ms/step - loss: 0.3376 - accuracy: 0.4472 - val_loss: 0.3361 - val_accuracy: 0.4474\n",
      "Epoch 22/1000\n",
      "245/245 [==============================] - 1s 3ms/step - loss: 0.3376 - accuracy: 0.4472 - val_loss: 0.3361 - val_accuracy: 0.4474\n",
      "Epoch 23/1000\n",
      "245/245 [==============================] - 1s 3ms/step - loss: 0.3376 - accuracy: 0.4472 - val_loss: 0.3361 - val_accuracy: 0.4474\n",
      "Epoch 24/1000\n",
      "245/245 [==============================] - 1s 3ms/step - loss: 0.3376 - accuracy: 0.4472 - val_loss: 0.3364 - val_accuracy: 0.4474\n",
      "Epoch 25/1000\n",
      "245/245 [==============================] - 1s 3ms/step - loss: 0.3376 - accuracy: 0.4472 - val_loss: 0.3362 - val_accuracy: 0.4474\n",
      "Epoch 26/1000\n",
      "245/245 [==============================] - 1s 3ms/step - loss: 0.3376 - accuracy: 0.4472 - val_loss: 0.3362 - val_accuracy: 0.4474\n",
      "Epoch 27/1000\n",
      "245/245 [==============================] - 1s 3ms/step - loss: 0.3376 - accuracy: 0.4472 - val_loss: 0.3361 - val_accuracy: 0.4474\n",
      "Epoch 28/1000\n",
      "245/245 [==============================] - 1s 3ms/step - loss: 0.3376 - accuracy: 0.4472 - val_loss: 0.3362 - val_accuracy: 0.4474\n",
      "Epoch 29/1000\n",
      "245/245 [==============================] - 1s 3ms/step - loss: 0.3376 - accuracy: 0.4472 - val_loss: 0.3361 - val_accuracy: 0.4474\n",
      "Epoch 30/1000\n",
      "239/245 [============================>.] - ETA: 0s - loss: 0.3374 - accuracy: 0.4472Restoring model weights from the end of the best epoch.\n",
      "245/245 [==============================] - 1s 3ms/step - loss: 0.3376 - accuracy: 0.4472 - val_loss: 0.3361 - val_accuracy: 0.4474\n",
      "Epoch 00030: early stopping\n"
     ]
    },
    {
     "name": "stderr",
     "output_type": "stream",
     "text": [
      "/clusterfs/ml4hep/mpettee/ATLASOmniFold/omnifold/unifold.py:16: RuntimeWarning: divide by zero encountered in true_divide\n",
      "  weights = f / (1. - f)\n"
     ]
    },
    {
     "name": "stdout",
     "output_type": "stream",
     "text": [
      "\n",
      "STEP 1b\n",
      "\n",
      "Epoch 1/1000\n",
      "49/49 [==============================] - 0s 4ms/step - loss: 1.5971 - accuracy: 0.2501 - val_loss: 1.5985 - val_accuracy: 0.2497\n",
      "Epoch 2/1000\n",
      "49/49 [==============================] - 0s 3ms/step - loss: 1.5970 - accuracy: 0.2501 - val_loss: 1.5980 - val_accuracy: 0.2497\n",
      "Epoch 3/1000\n",
      "49/49 [==============================] - 0s 3ms/step - loss: 1.5970 - accuracy: 0.2501 - val_loss: 1.5980 - val_accuracy: 0.2497\n",
      "Epoch 4/1000\n",
      "49/49 [==============================] - 0s 3ms/step - loss: 1.5970 - accuracy: 0.2501 - val_loss: 1.5981 - val_accuracy: 0.2497\n",
      "Epoch 5/1000\n",
      "49/49 [==============================] - 0s 3ms/step - loss: 1.5969 - accuracy: 0.2501 - val_loss: 1.5981 - val_accuracy: 0.2497\n",
      "Epoch 6/1000\n",
      "49/49 [==============================] - 0s 3ms/step - loss: 1.5969 - accuracy: 0.2501 - val_loss: 1.5981 - val_accuracy: 0.2497\n",
      "Epoch 7/1000\n",
      "49/49 [==============================] - 0s 3ms/step - loss: 1.5970 - accuracy: 0.2501 - val_loss: 1.5982 - val_accuracy: 0.2497\n",
      "Epoch 8/1000\n",
      "49/49 [==============================] - 0s 3ms/step - loss: 1.5971 - accuracy: 0.2501 - val_loss: 1.5980 - val_accuracy: 0.2497\n",
      "Epoch 9/1000\n",
      "49/49 [==============================] - 0s 3ms/step - loss: 1.5969 - accuracy: 0.2501 - val_loss: 1.5980 - val_accuracy: 0.2497\n",
      "Epoch 10/1000\n",
      "49/49 [==============================] - 0s 3ms/step - loss: 1.5970 - accuracy: 0.2501 - val_loss: 1.5980 - val_accuracy: 0.2497\n",
      "Epoch 11/1000\n",
      "49/49 [==============================] - 0s 3ms/step - loss: 1.5969 - accuracy: 0.2501 - val_loss: 1.5982 - val_accuracy: 0.2497\n",
      "Epoch 12/1000\n",
      "49/49 [==============================] - 0s 3ms/step - loss: 1.5969 - accuracy: 0.2501 - val_loss: 1.5981 - val_accuracy: 0.2497\n",
      "Epoch 13/1000\n",
      "25/49 [==============>...............] - ETA: 0s - loss: 1.5968 - accuracy: 0.2499Restoring model weights from the end of the best epoch.\n",
      "49/49 [==============================] - 0s 3ms/step - loss: 1.5970 - accuracy: 0.2501 - val_loss: 1.5981 - val_accuracy: 0.2497\n",
      "Epoch 00013: early stopping\n",
      "\n",
      "STEP 2\n",
      "\n",
      "Epoch 1/1000\n"
     ]
    },
    {
     "name": "stderr",
     "output_type": "stream",
     "text": [
      "/clusterfs/ml4hep/mpettee/ATLASOmniFold/omnifold/unifold.py:218: RuntimeWarning: invalid value encountered in true_divide\n",
      "  weights_pull /= np.mean(weights_pull)\n"
     ]
    },
    {
     "name": "stdout",
     "output_type": "stream",
     "text": [
      "60/60 [==============================] - 0s 4ms/step - loss: 0.5494 - accuracy: 0.3099 - val_loss: 0.1973 - val_accuracy: 0.5000\n",
      "Epoch 2/1000\n",
      "60/60 [==============================] - 0s 3ms/step - loss: 0.0520 - accuracy: 0.5000 - val_loss: 0.0053 - val_accuracy: 0.5000\n",
      "Epoch 3/1000\n",
      "60/60 [==============================] - 0s 3ms/step - loss: 0.0028 - accuracy: 0.5000 - val_loss: 0.0015 - val_accuracy: 0.5000\n",
      "Epoch 4/1000\n",
      "60/60 [==============================] - 0s 3ms/step - loss: 0.0011 - accuracy: 0.5000 - val_loss: 7.7432e-04 - val_accuracy: 0.5000\n",
      "Epoch 5/1000\n",
      "60/60 [==============================] - 0s 3ms/step - loss: 6.0172e-04 - accuracy: 0.5000 - val_loss: 4.6709e-04 - val_accuracy: 0.5000\n",
      "Epoch 6/1000\n",
      "60/60 [==============================] - 0s 3ms/step - loss: 3.8198e-04 - accuracy: 0.5000 - val_loss: 3.1269e-04 - val_accuracy: 0.5000\n",
      "Epoch 7/1000\n",
      "60/60 [==============================] - 0s 4ms/step - loss: 2.6429e-04 - accuracy: 0.5000 - val_loss: 2.2403e-04 - val_accuracy: 0.5000\n",
      "Epoch 8/1000\n",
      "60/60 [==============================] - 0s 4ms/step - loss: 1.9372e-04 - accuracy: 0.5000 - val_loss: 1.6825e-04 - val_accuracy: 0.5000\n",
      "Epoch 9/1000\n",
      "60/60 [==============================] - 0s 4ms/step - loss: 1.4805e-04 - accuracy: 0.5000 - val_loss: 1.3099e-04 - val_accuracy: 0.5000\n",
      "Epoch 10/1000\n",
      "60/60 [==============================] - 0s 4ms/step - loss: 1.1674e-04 - accuracy: 0.5000 - val_loss: 1.0474e-04 - val_accuracy: 0.5000\n",
      "Epoch 11/1000\n",
      "60/60 [==============================] - 0s 4ms/step - loss: 9.4293e-05 - accuracy: 0.5000 - val_loss: 8.4208e-05 - val_accuracy: 0.5000\n",
      "Epoch 12/1000\n",
      "60/60 [==============================] - 0s 3ms/step - loss: 4.7906e-05 - accuracy: 0.5000 - val_loss: 1.5669e-05 - val_accuracy: 0.5000\n",
      "Epoch 13/1000\n",
      "60/60 [==============================] - 0s 4ms/step - loss: 8.2205e-06 - accuracy: 0.5000 - val_loss: 4.3884e-06 - val_accuracy: 0.5000\n",
      "Epoch 14/1000\n",
      "60/60 [==============================] - 0s 3ms/step - loss: 3.0270e-06 - accuracy: 0.5000 - val_loss: 2.1250e-06 - val_accuracy: 0.5000\n",
      "Epoch 15/1000\n",
      "60/60 [==============================] - 0s 3ms/step - loss: 1.6733e-06 - accuracy: 0.5000 - val_loss: 1.3415e-06 - val_accuracy: 0.5000\n",
      "Epoch 16/1000\n",
      "60/60 [==============================] - 0s 3ms/step - loss: 1.1220e-06 - accuracy: 0.5000 - val_loss: 9.5378e-07 - val_accuracy: 0.5000\n",
      "Epoch 17/1000\n",
      "60/60 [==============================] - 0s 3ms/step - loss: 8.2706e-07 - accuracy: 0.5000 - val_loss: 7.2475e-07 - val_accuracy: 0.5000\n",
      "Epoch 18/1000\n",
      "60/60 [==============================] - 0s 3ms/step - loss: 6.4061e-07 - accuracy: 0.5000 - val_loss: 5.6965e-07 - val_accuracy: 0.5000\n",
      "Epoch 19/1000\n",
      "60/60 [==============================] - 0s 3ms/step - loss: 5.0959e-07 - accuracy: 0.5000 - val_loss: 4.5709e-07 - val_accuracy: 0.5000\n",
      "Epoch 20/1000\n",
      "60/60 [==============================] - 0s 3ms/step - loss: 4.1044e-07 - accuracy: 0.5000 - val_loss: 3.7407e-07 - val_accuracy: 0.5000\n",
      "Epoch 21/1000\n",
      "60/60 [==============================] - 0s 3ms/step - loss: 3.3297e-07 - accuracy: 0.5000 - val_loss: 3.0198e-07 - val_accuracy: 0.5000\n",
      "Epoch 22/1000\n",
      "60/60 [==============================] - 0s 3ms/step - loss: 2.7120e-07 - accuracy: 0.5000 - val_loss: 2.4717e-07 - val_accuracy: 0.5000\n",
      "Epoch 23/1000\n",
      "60/60 [==============================] - 0s 3ms/step - loss: 2.2291e-07 - accuracy: 0.5000 - val_loss: 2.0450e-07 - val_accuracy: 0.5000\n",
      "Epoch 24/1000\n",
      "60/60 [==============================] - 0s 3ms/step - loss: 1.8490e-07 - accuracy: 0.5000 - val_loss: 1.7098e-07 - val_accuracy: 0.5000\n",
      "Epoch 25/1000\n",
      "60/60 [==============================] - 0s 3ms/step - loss: 1.5594e-07 - accuracy: 0.5000 - val_loss: 1.4671e-07 - val_accuracy: 0.5000\n",
      "Epoch 26/1000\n",
      "60/60 [==============================] - 0s 3ms/step - loss: 1.3492e-07 - accuracy: 0.5000 - val_loss: 1.2771e-07 - val_accuracy: 0.5000\n",
      "Epoch 27/1000\n",
      "60/60 [==============================] - 0s 3ms/step - loss: 1.1886e-07 - accuracy: 0.5000 - val_loss: 1.1327e-07 - val_accuracy: 0.5000\n",
      "Epoch 28/1000\n",
      "60/60 [==============================] - 0s 3ms/step - loss: 1.0760e-07 - accuracy: 0.5000 - val_loss: 1.0143e-07 - val_accuracy: 0.5000\n",
      "Epoch 29/1000\n",
      "60/60 [==============================] - 0s 3ms/step - loss: 9.6462e-08 - accuracy: 0.5000 - val_loss: 9.2482e-08 - val_accuracy: 0.5000\n",
      "Epoch 30/1000\n",
      "60/60 [==============================] - 0s 3ms/step - loss: 8.9720e-08 - accuracy: 0.5000 - val_loss: 8.4583e-08 - val_accuracy: 0.5000\n",
      "Epoch 31/1000\n",
      "60/60 [==============================] - 0s 3ms/step - loss: 8.2438e-08 - accuracy: 0.5000 - val_loss: 8.0647e-08 - val_accuracy: 0.5000\n",
      "Epoch 32/1000\n",
      "60/60 [==============================] - 0s 3ms/step - loss: 7.8622e-08 - accuracy: 0.5000 - val_loss: 7.6087e-08 - val_accuracy: 0.5000\n",
      "Epoch 33/1000\n",
      "60/60 [==============================] - 0s 3ms/step - loss: 7.5081e-08 - accuracy: 0.5000 - val_loss: 7.2150e-08 - val_accuracy: 0.5000\n",
      "Epoch 34/1000\n",
      "60/60 [==============================] - 0s 3ms/step - loss: 7.1829e-08 - accuracy: 0.5000 - val_loss: 7.2150e-08 - val_accuracy: 0.5000\n",
      "Epoch 35/1000\n",
      "60/60 [==============================] - 0s 3ms/step - loss: 7.1829e-08 - accuracy: 0.5000 - val_loss: 7.2150e-08 - val_accuracy: 0.5000\n",
      "Epoch 36/1000\n",
      "60/60 [==============================] - 0s 3ms/step - loss: 6.7263e-08 - accuracy: 0.5000 - val_loss: 6.5808e-08 - val_accuracy: 0.5000\n",
      "Epoch 37/1000\n",
      "60/60 [==============================] - 0s 3ms/step - loss: 6.5548e-08 - accuracy: 0.5000 - val_loss: 6.5808e-08 - val_accuracy: 0.5000\n",
      "Epoch 38/1000\n",
      "60/60 [==============================] - 0s 3ms/step - loss: 6.5548e-08 - accuracy: 0.5000 - val_loss: 6.5808e-08 - val_accuracy: 0.5000\n",
      "Epoch 39/1000\n",
      "60/60 [==============================] - 0s 3ms/step - loss: 6.3961e-08 - accuracy: 0.5000 - val_loss: 6.3654e-08 - val_accuracy: 0.5000\n",
      "Epoch 40/1000\n",
      "60/60 [==============================] - 0s 3ms/step - loss: 6.2692e-08 - accuracy: 0.5000 - val_loss: 6.1871e-08 - val_accuracy: 0.5000\n",
      "Epoch 41/1000\n",
      "60/60 [==============================] - 0s 3ms/step - loss: 6.1646e-08 - accuracy: 0.5000 - val_loss: 6.1871e-08 - val_accuracy: 0.5000\n",
      "Epoch 42/1000\n",
      "60/60 [==============================] - 0s 3ms/step - loss: 6.1646e-08 - accuracy: 0.5000 - val_loss: 6.1871e-08 - val_accuracy: 0.5000\n",
      "Epoch 43/1000\n",
      "60/60 [==============================] - 0s 3ms/step - loss: 6.1646e-08 - accuracy: 0.5000 - val_loss: 6.1871e-08 - val_accuracy: 0.5000\n",
      "Epoch 44/1000\n",
      "60/60 [==============================] - 0s 3ms/step - loss: 6.1571e-08 - accuracy: 0.5000 - val_loss: 5.9718e-08 - val_accuracy: 0.5000\n",
      "Epoch 45/1000\n",
      "60/60 [==============================] - 0s 3ms/step - loss: 5.9570e-08 - accuracy: 0.5000 - val_loss: 5.9718e-08 - val_accuracy: 0.5000\n",
      "Epoch 46/1000\n",
      "60/60 [==============================] - 0s 3ms/step - loss: 5.9570e-08 - accuracy: 0.5000 - val_loss: 5.9718e-08 - val_accuracy: 0.5000\n",
      "Epoch 47/1000\n",
      "60/60 [==============================] - 0s 4ms/step - loss: 5.9570e-08 - accuracy: 0.5000 - val_loss: 5.9718e-08 - val_accuracy: 0.5000\n",
      "Epoch 48/1000\n",
      "60/60 [==============================] - 0s 4ms/step - loss: 5.9570e-08 - accuracy: 0.5000 - val_loss: 5.9718e-08 - val_accuracy: 0.5000\n",
      "Epoch 49/1000\n",
      "60/60 [==============================] - 0s 3ms/step - loss: 5.9570e-08 - accuracy: 0.5000 - val_loss: 5.9718e-08 - val_accuracy: 0.5000\n",
      "Epoch 50/1000\n",
      "60/60 [==============================] - 0s 3ms/step - loss: 5.9570e-08 - accuracy: 0.5000 - val_loss: 5.9718e-08 - val_accuracy: 0.5000\n",
      "Epoch 51/1000\n",
      "60/60 [==============================] - 0s 3ms/step - loss: 5.9570e-08 - accuracy: 0.5000 - val_loss: 5.9718e-08 - val_accuracy: 0.5000\n",
      "Epoch 52/1000\n",
      "60/60 [==============================] - 0s 3ms/step - loss: 5.9570e-08 - accuracy: 0.5000 - val_loss: 5.9718e-08 - val_accuracy: 0.5000\n",
      "Epoch 53/1000\n",
      "60/60 [==============================] - 0s 3ms/step - loss: 5.9570e-08 - accuracy: 0.5000 - val_loss: 5.9718e-08 - val_accuracy: 0.5000\n",
      "Epoch 54/1000\n",
      "50/60 [========================>.....] - ETA: 0s - loss: 5.9528e-08 - accuracy: 0.5000Restoring model weights from the end of the best epoch.\n",
      "60/60 [==============================] - 0s 3ms/step - loss: 5.9570e-08 - accuracy: 0.5000 - val_loss: 5.9718e-08 - val_accuracy: 0.5000\n",
      "Epoch 00054: early stopping\n",
      "\n",
      "STEP 2b\n",
      "\n",
      "Epoch 1/1000\n",
      "49/49 [==============================] - 0s 5ms/step - loss: 3.1025e-07 - accuracy: 0.2539 - val_loss: 3.1245e-07 - val_accuracy: 0.2531\n",
      "Epoch 2/1000\n",
      "49/49 [==============================] - 0s 3ms/step - loss: 3.1106e-07 - accuracy: 0.2539 - val_loss: 3.1327e-07 - val_accuracy: 0.2531\n",
      "Epoch 3/1000\n",
      "49/49 [==============================] - 0s 3ms/step - loss: 3.1156e-07 - accuracy: 0.2539 - val_loss: 3.1339e-07 - val_accuracy: 0.2531\n",
      "Epoch 4/1000\n",
      "49/49 [==============================] - 0s 3ms/step - loss: 3.1158e-07 - accuracy: 0.2539 - val_loss: 3.1339e-07 - val_accuracy: 0.2531\n",
      "Epoch 5/1000\n",
      "49/49 [==============================] - 0s 3ms/step - loss: 3.1158e-07 - accuracy: 0.2539 - val_loss: 3.1339e-07 - val_accuracy: 0.2531\n",
      "Epoch 6/1000\n",
      "49/49 [==============================] - 0s 4ms/step - loss: 3.1158e-07 - accuracy: 0.2539 - val_loss: 3.1339e-07 - val_accuracy: 0.2531\n",
      "Epoch 7/1000\n",
      "49/49 [==============================] - 0s 4ms/step - loss: 3.1158e-07 - accuracy: 0.2539 - val_loss: 3.1339e-07 - val_accuracy: 0.2531\n",
      "Epoch 8/1000\n",
      "49/49 [==============================] - 0s 3ms/step - loss: 3.1158e-07 - accuracy: 0.2539 - val_loss: 3.1339e-07 - val_accuracy: 0.2531\n",
      "Epoch 9/1000\n",
      "49/49 [==============================] - 0s 3ms/step - loss: 3.1158e-07 - accuracy: 0.2539 - val_loss: 3.1339e-07 - val_accuracy: 0.2531\n",
      "Epoch 10/1000\n",
      "49/49 [==============================] - 0s 3ms/step - loss: 3.1158e-07 - accuracy: 0.2539 - val_loss: 3.1339e-07 - val_accuracy: 0.2531\n",
      "Epoch 11/1000\n",
      "47/49 [===========================>..] - ETA: 0s - loss: 3.1163e-07 - accuracy: 0.2539Restoring model weights from the end of the best epoch.\n",
      "49/49 [==============================] - 0s 3ms/step - loss: 3.1158e-07 - accuracy: 0.2539 - val_loss: 3.1339e-07 - val_accuracy: 0.2531\n",
      "Epoch 00011: early stopping\n"
     ]
    },
    {
     "name": "stderr",
     "output_type": "stream",
     "text": [
      "100%|██████████| 1/1 [00:37<00:00, 37.69s/it]\n"
     ]
    }
   ],
   "source": [
    "weights, _ = unifold(iterations=1,\n",
    "                     sim_truth=mc_truth_z,\n",
    "                     sim_reco=mc_reco_z,\n",
    "                     sim_truth_weights_MC=mc.weight_mc,\n",
    "                     sim_reco_weights_MC=mc.weight,\n",
    "                     data_reco=data_reco_z,\n",
    "                     data_reco_weights_MC=data.weight,\n",
    "                     dummyval=dummyval,\n",
    "                     verbose=1,\n",
    "                    )"
   ]
  },
  {
   "cell_type": "code",
   "execution_count": 26,
   "id": "ea7a632f-a8fb-453d-a58c-d9924efa0ca5",
   "metadata": {},
   "outputs": [
    {
     "data": {
      "text/plain": [
       "(1, 2, 416725)"
      ]
     },
     "execution_count": 26,
     "metadata": {},
     "output_type": "execute_result"
    }
   ],
   "source": [
    "weights.shape # (n_iterations, n_steps, n_events)"
   ]
  },
  {
   "cell_type": "code",
   "execution_count": 27,
   "id": "43904bb1-bb25-4805-a9e3-09f11a3e1b9e",
   "metadata": {},
   "outputs": [
    {
     "name": "stdout",
     "output_type": "stream",
     "text": [
      "nan\n",
      "nan\n"
     ]
    }
   ],
   "source": [
    "print(weights.min())\n",
    "print(weights.max())"
   ]
  },
  {
   "cell_type": "code",
   "execution_count": 28,
   "id": "67a41fca-f0ed-47c5-a6a0-a6e118057144",
   "metadata": {},
   "outputs": [
    {
     "data": {
      "text/plain": [
       "array([[[0.00000000e+00, 0.00000000e+00, 0.00000000e+00, ...,\n",
       "         0.00000000e+00, 0.00000000e+00, 0.00000000e+00],\n",
       "        [2.09786743e-03, 2.50738580e-04, 8.07316527e-02, ...,\n",
       "         3.50104213e-01, 1.09917164e+00, 1.25059311e-03]]])"
      ]
     },
     "execution_count": 28,
     "metadata": {},
     "output_type": "execute_result"
    }
   ],
   "source": [
    "weights"
   ]
  },
  {
   "cell_type": "code",
   "execution_count": 29,
   "id": "079bce3b-494c-41e2-96e0-4937a6d557b3",
   "metadata": {},
   "outputs": [
    {
     "data": {
      "text/plain": [
       "array([[0., 0., 0., ..., 0., 0., 0.]])"
      ]
     },
     "execution_count": 29,
     "metadata": {},
     "output_type": "execute_result"
    }
   ],
   "source": [
    "weights[:,0] # step 1 weights for each iteration"
   ]
  },
  {
   "cell_type": "code",
   "execution_count": 31,
   "id": "e192adb2-5835-47dc-b4b8-96c4afc5ffb6",
   "metadata": {},
   "outputs": [
    {
     "data": {
      "text/plain": [
       "4"
      ]
     },
     "execution_count": 31,
     "metadata": {},
     "output_type": "execute_result"
    }
   ],
   "source": [
    "np.isnan(weights[0,0]).sum()"
   ]
  },
  {
   "cell_type": "code",
   "execution_count": 32,
   "id": "0d8de603-ccf5-4268-9d8b-11fd958cb4da",
   "metadata": {},
   "outputs": [
    {
     "data": {
      "text/plain": [
       "416725"
      ]
     },
     "execution_count": 32,
     "metadata": {},
     "output_type": "execute_result"
    }
   ],
   "source": [
    "len(weights[0,0])"
   ]
  },
  {
   "cell_type": "code",
   "execution_count": 30,
   "id": "568611f6-4225-43aa-a26f-84d5858ff78f",
   "metadata": {},
   "outputs": [
    {
     "data": {
      "text/plain": [
       "0.0009598656188133662"
      ]
     },
     "execution_count": 30,
     "metadata": {},
     "output_type": "execute_result"
    }
   ],
   "source": [
    "# fraction of NaN weights for step 1, iteration 1\n",
    "100*np.isnan(weights[0,0]).sum()/len(weights[0,0])"
   ]
  },
  {
   "cell_type": "code",
   "execution_count": 33,
   "id": "38693ab1-25ab-4750-bc3a-83345cde9509",
   "metadata": {},
   "outputs": [
    {
     "data": {
      "text/plain": [
       "array([[2.09786743e-03, 2.50738580e-04, 8.07316527e-02, ...,\n",
       "        3.50104213e-01, 1.09917164e+00, 1.25059311e-03]])"
      ]
     },
     "execution_count": 33,
     "metadata": {},
     "output_type": "execute_result"
    }
   ],
   "source": [
    "weights[:,1] # step 2 weights for each iteration"
   ]
  },
  {
   "cell_type": "code",
   "execution_count": 34,
   "id": "7e51373e-b120-4135-94d0-6c48e90dc0ff",
   "metadata": {},
   "outputs": [
    {
     "data": {
      "text/plain": [
       "0.0"
      ]
     },
     "execution_count": 34,
     "metadata": {},
     "output_type": "execute_result"
    }
   ],
   "source": [
    "# fraction of NaN weights for step 1, iteration 1\n",
    "100*np.isnan(weights[0,1]).sum()/len(weights[0,1])"
   ]
  },
  {
   "cell_type": "code",
   "execution_count": 35,
   "id": "61d500e8-d2df-41ec-8780-7563f13a9d0e",
   "metadata": {},
   "outputs": [
    {
     "data": {
      "text/plain": [
       "0"
      ]
     },
     "execution_count": 35,
     "metadata": {},
     "output_type": "execute_result"
    }
   ],
   "source": [
    "np.isnan(weights[0,1]).sum()"
   ]
  },
  {
   "cell_type": "code",
   "execution_count": 37,
   "id": "379f68a9-bb0e-4266-9d0d-5bc605d06568",
   "metadata": {},
   "outputs": [
    {
     "data": {
      "text/plain": [
       "4.7993280940668305e-06"
      ]
     },
     "execution_count": 37,
     "metadata": {},
     "output_type": "execute_result"
    }
   ],
   "source": [
    "# fraction of weights that are NaNs\n",
    "np.isnan(weights).sum()/(weights.shape[0]*weights.shape[1]*weights.shape[2])"
   ]
  },
  {
   "cell_type": "code",
   "execution_count": 38,
   "id": "fa2b2209-072d-4267-aae5-752b0952bbcb",
   "metadata": {},
   "outputs": [
    {
     "data": {
      "text/plain": [
       "0.999995200671906"
      ]
     },
     "execution_count": 38,
     "metadata": {},
     "output_type": "execute_result"
    }
   ],
   "source": [
    "# fraction of weights that are non-NaN\n",
    "np.count_nonzero(~np.isnan(weights))/(weights.shape[0]*weights.shape[1]*weights.shape[2])"
   ]
  },
  {
   "cell_type": "code",
   "execution_count": 39,
   "id": "eea5905c-cda1-4ce5-b34c-88020d8b2545",
   "metadata": {},
   "outputs": [],
   "source": [
    "array = weights[:,1].flatten()"
   ]
  },
  {
   "cell_type": "code",
   "execution_count": 40,
   "id": "7b7df682-3d65-4ff2-b5d4-6c558c08a1d9",
   "metadata": {},
   "outputs": [
    {
     "data": {
      "text/plain": [
       "array([2.09786743e-03, 2.50738580e-04, 8.07316527e-02, ...,\n",
       "       3.50104213e-01, 1.09917164e+00, 1.25059311e-03])"
      ]
     },
     "execution_count": 40,
     "metadata": {},
     "output_type": "execute_result"
    }
   ],
   "source": [
    "array"
   ]
  },
  {
   "cell_type": "code",
   "execution_count": 41,
   "id": "e3e7dd8f-921f-471b-8d99-e00931412920",
   "metadata": {},
   "outputs": [
    {
     "data": {
      "image/png": "[encoded data removed]",
      "text/plain": [
       "<Figure size 630x426.24 with 1 Axes>"
      ]
     },
     "metadata": {},
     "output_type": "display_data"
    }
   ],
   "source": [
    "fractions = []\n",
    "for x in np.linspace(0,10,100): \n",
    "    fractions.append(100*(array < x).sum()/len(array))\n",
    "    \n",
    "plt.plot(np.linspace(0,10,100),fractions, linewidth=2, color='crimson')\n",
    "plt.title(\"Fraction of Events Below Clipping Threshold\", fontsize=26)\n",
    "plt.xlabel(\"Minimum Unfolding Weight\", fontsize=26, labelpad=5)\n",
    "plt.ylabel(\"Fraction of Events\", fontsize=26, labelpad=5);"
   ]
  },
  {
   "cell_type": "markdown",
   "id": "3ae0f2aa-044f-47bc-921b-04fda65f7ffc",
   "metadata": {},
   "source": [
    "Store the weights for the dataset that passes 200 GeV:"
   ]
  },
  {
   "cell_type": "code",
   "execution_count": 42,
   "id": "93e4da54-62db-46c5-a038-61207eb3ce7a",
   "metadata": {},
   "outputs": [],
   "source": [
    "filter = (mc.truth_pT_ll > 200) | (mc.pT_ll > 200)\n",
    "\n",
    "omnifold_weights[i] = best_1D_reweighting(\n",
    "    test=mc_plots.reco_var,\n",
    "    test_weights=np.array(mc_plots.weight) * weights[:,:,filter][:,1],\n",
    "    target=data_plots.reco_var,\n",
    "    target_weights=data_plots.weight,\n",
    "    bins=bins)"
   ]
  },
  {
   "cell_type": "code",
   "execution_count": 43,
   "id": "5892e907-09c7-41cf-b02e-55781c5ae4ee",
   "metadata": {},
   "outputs": [
    {
     "data": {
      "text/plain": [
       "-6.867618288895073"
      ]
     },
     "execution_count": 43,
     "metadata": {},
     "output_type": "execute_result"
    }
   ],
   "source": [
    "omnifold_weights[i].min()"
   ]
  },
  {
   "cell_type": "code",
   "execution_count": 44,
   "id": "661230cd-2988-4c1c-9901-d3519955d58d",
   "metadata": {},
   "outputs": [
    {
     "data": {
      "text/plain": [
       "12.682093135285186"
      ]
     },
     "execution_count": 44,
     "metadata": {},
     "output_type": "execute_result"
    }
   ],
   "source": [
    "omnifold_weights[i].max()"
   ]
  },
  {
   "cell_type": "code",
   "execution_count": 45,
   "id": "330c52fb-1bc4-41c8-b225-9ba47b166074",
   "metadata": {},
   "outputs": [
    {
     "name": "stderr",
     "output_type": "stream",
     "text": [
      "  0%|          | 0/1 [00:00<?, ?it/s]/clusterfs/ml4hep/mpettee/miniconda3/envs/omnifold/lib/python3.8/site-packages/numpy/lib/histograms.py:905: RuntimeWarning: invalid value encountered in true_divide\n",
      "  return n/db/n.sum(), bin_edges\n",
      "  0%|          | 0/1 [00:00<?, ?it/s]\n"
     ]
    },
    {
     "ename": "ValueError",
     "evalue": "Axis limits cannot be NaN or Inf",
     "output_type": "error",
     "traceback": [
      "\u001b[0;31m---------------------------------------------------------------------------\u001b[0m",
      "\u001b[0;31mValueError\u001b[0m                                Traceback (most recent call last)",
      "\u001b[0;32m/tmp/ipykernel_11191/1978883526.py\u001b[0m in \u001b[0;36m<module>\u001b[0;34m\u001b[0m\n\u001b[0;32m----> 1\u001b[0;31m plot_results(sim_truth=mc_plots.truth_var,\n\u001b[0m\u001b[1;32m      2\u001b[0m              \u001b[0msim_reco\u001b[0m\u001b[0;34m=\u001b[0m\u001b[0mmc_plots\u001b[0m\u001b[0;34m.\u001b[0m\u001b[0mreco_var\u001b[0m\u001b[0;34m,\u001b[0m\u001b[0;34m\u001b[0m\u001b[0;34m\u001b[0m\u001b[0m\n\u001b[1;32m      3\u001b[0m              \u001b[0msim_truth_weights_MC\u001b[0m\u001b[0;34m=\u001b[0m\u001b[0mmc_plots\u001b[0m\u001b[0;34m.\u001b[0m\u001b[0mweight_mc\u001b[0m\u001b[0;34m,\u001b[0m\u001b[0;34m\u001b[0m\u001b[0;34m\u001b[0m\u001b[0m\n\u001b[1;32m      4\u001b[0m              \u001b[0msim_reco_weights_MC\u001b[0m\u001b[0;34m=\u001b[0m\u001b[0mmc_plots\u001b[0m\u001b[0;34m.\u001b[0m\u001b[0mweight\u001b[0m\u001b[0;34m,\u001b[0m\u001b[0;34m\u001b[0m\u001b[0;34m\u001b[0m\u001b[0m\n\u001b[1;32m      5\u001b[0m              \u001b[0mdata_truth\u001b[0m\u001b[0;34m=\u001b[0m\u001b[0mdata_truth_plots\u001b[0m\u001b[0;34m.\u001b[0m\u001b[0mtruth_var\u001b[0m\u001b[0;34m,\u001b[0m\u001b[0;34m\u001b[0m\u001b[0;34m\u001b[0m\u001b[0m\n",
      "\u001b[0;32m/clusterfs/ml4hep/mpettee/ATLASOmniFold/omnifold/plot.py\u001b[0m in \u001b[0;36mplot_results\u001b[0;34m(sim_truth, sim_reco, data_reco, weights, bins, x_label, flavor_label, sim_truth_weights_MC, sim_reco_weights_MC, data_truth_weights_MC, data_reco_weights_MC, data_truth, dummyval, save_label)\u001b[0m\n\u001b[1;32m    375\u001b[0m         \u001b[0max\u001b[0m\u001b[0;34m[\u001b[0m\u001b[0;36m0\u001b[0m\u001b[0;34m,\u001b[0m\u001b[0;36m0\u001b[0m\u001b[0;34m]\u001b[0m\u001b[0;34m.\u001b[0m\u001b[0mset_title\u001b[0m\u001b[0;34m(\u001b[0m\u001b[0mx_label\u001b[0m\u001b[0;34m,\u001b[0m \u001b[0mpad\u001b[0m\u001b[0;34m=\u001b[0m\u001b[0mpad\u001b[0m\u001b[0;34m)\u001b[0m\u001b[0;34m\u001b[0m\u001b[0;34m\u001b[0m\u001b[0m\n\u001b[1;32m    376\u001b[0m         \u001b[0max\u001b[0m\u001b[0;34m[\u001b[0m\u001b[0;36m0\u001b[0m\u001b[0;34m,\u001b[0m\u001b[0;36m0\u001b[0m\u001b[0;34m]\u001b[0m\u001b[0;34m.\u001b[0m\u001b[0mset_ylabel\u001b[0m\u001b[0;34m(\u001b[0m\u001b[0;34m\"Events per bin (normalized)\"\u001b[0m\u001b[0;34m,\u001b[0m \u001b[0mfontsize\u001b[0m\u001b[0;34m=\u001b[0m\u001b[0;36m22\u001b[0m\u001b[0;34m)\u001b[0m\u001b[0;34m\u001b[0m\u001b[0;34m\u001b[0m\u001b[0m\n\u001b[0;32m--> 377\u001b[0;31m         \u001b[0max\u001b[0m\u001b[0;34m[\u001b[0m\u001b[0;36m0\u001b[0m\u001b[0;34m,\u001b[0m\u001b[0;36m0\u001b[0m\u001b[0;34m]\u001b[0m\u001b[0;34m.\u001b[0m\u001b[0mset_ylim\u001b[0m\u001b[0;34m(\u001b[0m\u001b[0;34m[\u001b[0m\u001b[0;36m0\u001b[0m\u001b[0;34m,\u001b[0m \u001b[0;36m1.5\u001b[0m \u001b[0;34m*\u001b[0m \u001b[0mnp\u001b[0m\u001b[0;34m.\u001b[0m\u001b[0mmax\u001b[0m\u001b[0;34m(\u001b[0m\u001b[0mnp\u001b[0m\u001b[0;34m.\u001b[0m\u001b[0mconcatenate\u001b[0m\u001b[0;34m(\u001b[0m\u001b[0;34m(\u001b[0m\u001b[0mhR0\u001b[0m\u001b[0;34m,\u001b[0m \u001b[0mhR1\u001b[0m\u001b[0;34m,\u001b[0m \u001b[0mhR2\u001b[0m\u001b[0;34m)\u001b[0m\u001b[0;34m)\u001b[0m\u001b[0;34m)\u001b[0m\u001b[0;34m]\u001b[0m\u001b[0;34m)\u001b[0m\u001b[0;34m\u001b[0m\u001b[0;34m\u001b[0m\u001b[0m\n\u001b[0m\u001b[1;32m    378\u001b[0m         \u001b[0mdraw_atlas_text\u001b[0m\u001b[0;34m(\u001b[0m\u001b[0max\u001b[0m\u001b[0;34m=\u001b[0m\u001b[0max\u001b[0m\u001b[0;34m[\u001b[0m\u001b[0;36m0\u001b[0m\u001b[0;34m,\u001b[0m\u001b[0;36m0\u001b[0m\u001b[0;34m]\u001b[0m\u001b[0;34m)\u001b[0m\u001b[0;34m\u001b[0m\u001b[0;34m\u001b[0m\u001b[0m\n\u001b[1;32m    379\u001b[0m         \u001b[0max\u001b[0m\u001b[0;34m[\u001b[0m\u001b[0;36m0\u001b[0m\u001b[0;34m,\u001b[0m\u001b[0;36m0\u001b[0m\u001b[0;34m]\u001b[0m\u001b[0;34m.\u001b[0m\u001b[0mlegend\u001b[0m\u001b[0;34m(\u001b[0m\u001b[0;34m)\u001b[0m\u001b[0;34m\u001b[0m\u001b[0;34m\u001b[0m\u001b[0m\n",
      "\u001b[0;32m/clusterfs/ml4hep/mpettee/miniconda3/envs/omnifold/lib/python3.8/site-packages/matplotlib/axes/_base.py\u001b[0m in \u001b[0;36mset_ylim\u001b[0;34m(self, bottom, top, emit, auto, ymin, ymax)\u001b[0m\n\u001b[1;32m   3564\u001b[0m         \u001b[0mself\u001b[0m\u001b[0;34m.\u001b[0m\u001b[0m_process_unit_info\u001b[0m\u001b[0;34m(\u001b[0m\u001b[0mydata\u001b[0m\u001b[0;34m=\u001b[0m\u001b[0;34m(\u001b[0m\u001b[0mbottom\u001b[0m\u001b[0;34m,\u001b[0m \u001b[0mtop\u001b[0m\u001b[0;34m)\u001b[0m\u001b[0;34m)\u001b[0m\u001b[0;34m\u001b[0m\u001b[0;34m\u001b[0m\u001b[0m\n\u001b[1;32m   3565\u001b[0m         \u001b[0mbottom\u001b[0m \u001b[0;34m=\u001b[0m \u001b[0mself\u001b[0m\u001b[0;34m.\u001b[0m\u001b[0m_validate_converted_limits\u001b[0m\u001b[0;34m(\u001b[0m\u001b[0mbottom\u001b[0m\u001b[0;34m,\u001b[0m \u001b[0mself\u001b[0m\u001b[0;34m.\u001b[0m\u001b[0mconvert_yunits\u001b[0m\u001b[0;34m)\u001b[0m\u001b[0;34m\u001b[0m\u001b[0;34m\u001b[0m\u001b[0m\n\u001b[0;32m-> 3566\u001b[0;31m         \u001b[0mtop\u001b[0m \u001b[0;34m=\u001b[0m \u001b[0mself\u001b[0m\u001b[0;34m.\u001b[0m\u001b[0m_validate_converted_limits\u001b[0m\u001b[0;34m(\u001b[0m\u001b[0mtop\u001b[0m\u001b[0;34m,\u001b[0m \u001b[0mself\u001b[0m\u001b[0;34m.\u001b[0m\u001b[0mconvert_yunits\u001b[0m\u001b[0;34m)\u001b[0m\u001b[0;34m\u001b[0m\u001b[0;34m\u001b[0m\u001b[0m\n\u001b[0m\u001b[1;32m   3567\u001b[0m \u001b[0;34m\u001b[0m\u001b[0m\n\u001b[1;32m   3568\u001b[0m         \u001b[0;32mif\u001b[0m \u001b[0mbottom\u001b[0m \u001b[0;32mis\u001b[0m \u001b[0;32mNone\u001b[0m \u001b[0;32mor\u001b[0m \u001b[0mtop\u001b[0m \u001b[0;32mis\u001b[0m \u001b[0;32mNone\u001b[0m\u001b[0;34m:\u001b[0m\u001b[0;34m\u001b[0m\u001b[0;34m\u001b[0m\u001b[0m\n",
      "\u001b[0;32m/clusterfs/ml4hep/mpettee/miniconda3/envs/omnifold/lib/python3.8/site-packages/matplotlib/axes/_base.py\u001b[0m in \u001b[0;36m_validate_converted_limits\u001b[0;34m(self, limit, convert)\u001b[0m\n\u001b[1;32m   3209\u001b[0m             if (isinstance(converted_limit, Real)\n\u001b[1;32m   3210\u001b[0m                     and not np.isfinite(converted_limit)):\n\u001b[0;32m-> 3211\u001b[0;31m                 \u001b[0;32mraise\u001b[0m \u001b[0mValueError\u001b[0m\u001b[0;34m(\u001b[0m\u001b[0;34m\"Axis limits cannot be NaN or Inf\"\u001b[0m\u001b[0;34m)\u001b[0m\u001b[0;34m\u001b[0m\u001b[0;34m\u001b[0m\u001b[0m\n\u001b[0m\u001b[1;32m   3212\u001b[0m             \u001b[0;32mreturn\u001b[0m \u001b[0mconverted_limit\u001b[0m\u001b[0;34m\u001b[0m\u001b[0;34m\u001b[0m\u001b[0m\n\u001b[1;32m   3213\u001b[0m \u001b[0;34m\u001b[0m\u001b[0m\n",
      "\u001b[0;31mValueError\u001b[0m: Axis limits cannot be NaN or Inf"
     ]
    },
    {
     "data": {
      "image/png": "[encoded data removed]",
      "text/plain": [
       "<Figure size 1440x432 with 4 Axes>"
      ]
     },
     "metadata": {},
     "output_type": "display_data"
    },
    {
     "data": {
      "image/png": "[encoded data removed]",
      "text/plain": [
       "<Figure size 1440x432 with 4 Axes>"
      ]
     },
     "metadata": {},
     "output_type": "display_data"
    }
   ],
   "source": [
    "plot_results(sim_truth=mc_plots.truth_var,\n",
    "             sim_reco=mc_plots.reco_var,\n",
    "             sim_truth_weights_MC=mc_plots.weight_mc,\n",
    "             sim_reco_weights_MC=mc_plots.weight,\n",
    "             data_truth=data_truth_plots.truth_var,\n",
    "             data_reco=data_plots.reco_var,\n",
    "             data_truth_weights_MC=data_truth_plots.weight_mc,\n",
    "             data_reco_weights_MC=data_plots.weight,\n",
    "             weights=weights[:,:,filter],\n",
    "             bins=bins,\n",
    "             x_label=x_label,\n",
    "             flavor_label='UniFold',\n",
    "             save_label=save_label\n",
    "            )"
   ]
  },
  {
   "cell_type": "markdown",
   "id": "6da6dfd5-3dd1-464a-9d25-70443efef3b1",
   "metadata": {},
   "source": [
    "# MultiFold"
   ]
  },
  {
   "cell_type": "code",
   "execution_count": null,
   "id": "8fbaf2ce-890c-483b-955a-4c778b5c1da7",
   "metadata": {},
   "outputs": [],
   "source": [
    "K.clear_session()"
   ]
  },
  {
   "cell_type": "code",
   "execution_count": null,
   "id": "d57973f3-bc4d-458d-9929-5cbeef44e633",
   "metadata": {},
   "outputs": [],
   "source": [
    "print(\"Unfolding {} variables.\".format(len(ibu_hists)))"
   ]
  },
  {
   "cell_type": "code",
   "execution_count": null,
   "id": "dc61ad15-af60-4103-87be-4c64f7b94e34",
   "metadata": {},
   "outputs": [],
   "source": [
    "mc_truth_plots = [None] * len(ibu_hists)\n",
    "mc_reco_plots = [None] * len(ibu_hists)\n",
    "data_truth_plots = [None] * len(ibu_hists)\n",
    "data_reco_plots = [None] * len(ibu_hists)\n",
    "\n",
    "mc_truth_hists = [None] * len(ibu_hists)\n",
    "mc_reco_hists = [None] * len(ibu_hists)\n",
    "data_truth_hists = [None] * len(ibu_hists)\n",
    "data_reco_hists = [None] * len(ibu_hists)\n",
    "\n",
    "# z-score standardization of data\n",
    "sim_truth_z = [None] * len(ibu_hists)\n",
    "sim_reco_z = [None] * len(ibu_hists)\n",
    "data_reco_z = [None] * len(ibu_hists)"
   ]
  },
  {
   "cell_type": "code",
   "execution_count": null,
   "id": "43a432b4-8f7c-4375-a839-b2b902ea227c",
   "metadata": {},
   "outputs": [],
   "source": [
    "for i in range(len(ibu_hists)):\n",
    "    file_label = ibu_hists[i]['file_label']\n",
    "    \n",
    "    dummyval = -99\n",
    "    \n",
    "    ### Add in 200 GeV cuts for plotting only \n",
    "    mc_plots = mc[(mc.truth_pT_ll > 200) | (mc.pT_ll > 200)]\n",
    "    data_truth_plots = data_truth[data_truth.truth_pT_ll > 200]\n",
    "    data_plots = data[data.pT_ll > 200]\n",
    "    \n",
    "    mc_truth_plots[i] = np.where(mc_plots.truth_pass190, mc_plots['truth_'+file_label], dummyval)\n",
    "    mc_reco_plots[i] = np.where(mc_plots.pass190, mc_plots[file_label], dummyval)\n",
    "    data_truth_plots[i] = data_truth_plots['truth_'+file_label]\n",
    "    data_reco_plots[i] = data_plots[file_label]\n",
    "    \n",
    "    save_label0 = 'weight_truncation'\n",
    "    bins = ibu_hists[i]['bins']\n",
    "    x_label = ibu_hists[i]['plot_label']\n",
    "    file_label = ibu_hists[i]['file_label']\n",
    "    os.makedirs(plot_dir+'MultiFold/'+file_label, exist_ok=True)\n",
    "    save_label = plot_dir+'MultiFold/'+file_label+'/'+save_label0\n",
    "    print(\"Saving as {}.\".format(save_label))\n",
    "\n",
    "    plot_distributions(\n",
    "        sim_truth=mc_truth_plots[i],\n",
    "        sim_reco=mc_reco_plots[i],\n",
    "        sim_truth_weights_MC=mc_plots.weight_mc,\n",
    "        sim_reco_weights_MC=mc_plots.weight,\n",
    "        data_truth=data_truth_plots[i],\n",
    "        data_reco=data_reco_plots[i],\n",
    "        data_truth_weights_MC=data_truth_plots.weight_mc,\n",
    "        data_reco_weights_MC=data_plots.weight,\n",
    "        bins=bins,\n",
    "        x_label=x_label,\n",
    "        save_label=save_label\n",
    "    )\n",
    "    \n",
    "    mc_truth_hists[i] = np.where(mc.truth_pass190, mc['truth_'+file_label], dummyval)\n",
    "    mc_reco_hists[i] = np.where(mc.pass190, mc[file_label], dummyval)\n",
    "    data_truth_hists[i] = data_truth['truth_'+file_label]\n",
    "    data_reco_hists[i] = data[file_label]\n",
    "    \n",
    "    sim_truth_z[i], sim_reco_z[i], data_reco_z[i] = standardize(\n",
    "        np.array(mc_truth_hists[i]), \n",
    "        np.array(mc_reco_hists[i]), \n",
    "        np.array(data_reco_hists[i]))"
   ]
  },
  {
   "cell_type": "code",
   "execution_count": null,
   "id": "e6250f2a-1ccd-48b5-aade-8223e0296426",
   "metadata": {},
   "outputs": [],
   "source": [
    "weights, _ = multifold(iterations=3,\n",
    "                       sim_truth=sim_truth_z,\n",
    "                       sim_reco=sim_reco_z,\n",
    "                       sim_truth_weights_MC=mc.weight_mc,\n",
    "                       sim_reco_weights_MC=mc.weight,\n",
    "                       data_reco=data_reco_z,\n",
    "                       data_reco_weights_MC=data.weight,\n",
    "                       dummyval=dummyval,\n",
    "                       verbose=0)"
   ]
  },
  {
   "cell_type": "code",
   "execution_count": null,
   "id": "c3955497-4097-4cb7-a4cc-c92d2f9aa4cf",
   "metadata": {},
   "outputs": [],
   "source": [
    "for i in range(len(ibu_hists)):\n",
    "    print(ibu_hists[i]['file_label'] + \" Results\\n\")\n",
    "    bins = ibu_hists[i]['bins']\n",
    "    x_label = ibu_hists[i]['plot_label']\n",
    "    file_label = ibu_hists[i]['file_label']\n",
    "    save_label = plot_dir + '/MultiFold/' + file_label + '/' + save_label0 + '-MultiFold-' + file_label\n",
    "\n",
    "    plot_results(sim_truth=sim_truth[i],\n",
    "                 sim_reco=sim_reco[i],\n",
    "                 sim_truth_weights_MC=mc.weight_mc,\n",
    "                 sim_reco_weights_MC=mc.weight,\n",
    "                 data_truth=data_truth[i],\n",
    "                 data_reco=data_reco[i],\n",
    "                 data_truth_weights_MC=data_truth.weight_mc,\n",
    "                 data_reco_weights_MC=data.weight,\n",
    "                 weights=weights,\n",
    "                 bins=bins,\n",
    "                 x_label=x_label,\n",
    "                 flavor_label='MultiFold',\n",
    "                 save_label=save_label)"
   ]
  },
  {
   "cell_type": "code",
   "execution_count": null,
   "id": "ea861ed0-3326-4948-a629-ebf3b0fd1aa9",
   "metadata": {},
   "outputs": [],
   "source": [
    "omnifold_weights = np.zeros(shape=(len(ibu_hists), len(mc_plots))) # the right size for the 200 GeV cut"
   ]
  },
  {
   "cell_type": "code",
   "execution_count": null,
   "id": "48e2a706-049c-441b-8b94-4e53010a288a",
   "metadata": {},
   "outputs": [],
   "source": []
  }
 ],
 "metadata": {
  "kernelspec": {
   "display_name": "omnifold",
   "language": "python",
   "name": "omnifold"
  },
  "language_info": {
   "codemirror_mode": {
    "name": "ipython",
    "version": 3
   },
   "file_extension": ".py",
   "mimetype": "text/x-python",
   "name": "python",
   "nbconvert_exporter": "python",
   "pygments_lexer": "ipython3",
   "version": "3.8.12"
  }
 },
 "nbformat": 4,
 "nbformat_minor": 5
}
