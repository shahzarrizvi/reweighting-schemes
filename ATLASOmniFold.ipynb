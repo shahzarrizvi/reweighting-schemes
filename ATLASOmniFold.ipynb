{
 "cells": [
  {
   "cell_type": "markdown",
   "metadata": {},
   "source": [
    "# ATLAS OmniFold"
   ]
  },
  {
   "cell_type": "markdown",
   "metadata": {},
   "source": [
    "### Standard Imports"
   ]
  },
  {
   "cell_type": "code",
   "execution_count": 1,
   "metadata": {
    "ExecuteTime": {
     "end_time": "2020-11-10T09:52:40.685308Z",
     "start_time": "2020-11-10T09:52:40.674548Z"
    }
   },
   "outputs": [],
   "source": [
    "%load_ext autoreload\n",
    "%autoreload 2"
   ]
  },
  {
   "cell_type": "code",
   "execution_count": 2,
   "metadata": {
    "ExecuteTime": {
     "end_time": "2020-11-10T09:52:40.696254Z",
     "start_time": "2020-11-10T09:52:40.687730Z"
    }
   },
   "outputs": [],
   "source": [
    "import os\n",
    "os.environ[\"CUDA_DEVICE_ORDER\"] = \"PCI_BUS_ID\"\n",
    "os.environ[\"CUDA_VISIBLE_DEVICES\"] = \"3\""
   ]
  },
  {
   "cell_type": "code",
   "execution_count": 3,
   "metadata": {
    "ExecuteTime": {
     "end_time": "2020-11-10T09:52:42.790132Z",
     "start_time": "2020-11-10T09:52:40.698300Z"
    }
   },
   "outputs": [
    {
     "name": "stderr",
     "output_type": "stream",
     "text": [
      "Using TensorFlow backend.\n"
     ]
    }
   ],
   "source": [
    "from __future__ import absolute_import, division, print_function\n",
    "\n",
    "from ntupleanalysis import *\n",
    "import math\n",
    "\n",
    "import numpy as np\n",
    "from matplotlib import pyplot as plt\n",
    "from matplotlib.patches import Patch\n",
    "\n",
    "from sklearn.model_selection import train_test_split\n",
    "\n",
    "import tensorflow as tf\n",
    "import keras\n",
    "import keras.backend as K\n",
    "from keras.layers import Dense, Input\n",
    "from keras.models import Model\n",
    "from keras.utils import to_categorical\n",
    "from keras.callbacks import EarlyStopping\n",
    "\n",
    "import energyflow as ef\n",
    "from energyflow.archs import PFN"
   ]
  },
  {
   "cell_type": "code",
   "execution_count": 4,
   "metadata": {
    "ExecuteTime": {
     "end_time": "2020-11-10T09:52:42.827509Z",
     "start_time": "2020-11-10T09:52:42.791952Z"
    }
   },
   "outputs": [],
   "source": [
    "plot_setup()"
   ]
  },
  {
   "cell_type": "code",
   "execution_count": 5,
   "metadata": {
    "ExecuteTime": {
     "end_time": "2020-11-10T09:52:42.856980Z",
     "start_time": "2020-11-10T09:52:42.828927Z"
    }
   },
   "outputs": [],
   "source": [
    "# Global plot settings\n",
    "from matplotlib import rc\n",
    "import matplotlib.font_manager\n",
    "\n",
    "rc('font', family='serif')\n",
    "rc('text', usetex=True)\n",
    "rc('font', size=22)\n",
    "rc('xtick', labelsize=15)\n",
    "rc('ytick', labelsize=15)\n",
    "rc('legend', fontsize=15)"
   ]
  },
  {
   "cell_type": "code",
   "execution_count": 6,
   "metadata": {
    "ExecuteTime": {
     "end_time": "2020-11-10T09:52:42.899511Z",
     "start_time": "2020-11-10T09:52:42.858306Z"
    }
   },
   "outputs": [],
   "source": [
    "# Define default plot styles\n",
    "plot_style_0 = {\n",
    "    'histtype': 'step',\n",
    "    'color': 'black',\n",
    "    'linewidth': 2,\n",
    "    'linestyle': '--',\n",
    "    'density': True\n",
    "}\n",
    "\n",
    "plot_style_1 = {\n",
    "    'histtype': 'step',\n",
    "    'color': 'black',\n",
    "    'linewidth': 2,\n",
    "    'density': True\n",
    "}\n",
    "\n",
    "plot_style_2 = {'alpha': 0.5, 'density': True}"
   ]
  },
  {
   "cell_type": "markdown",
   "metadata": {},
   "source": [
    "### Utilities"
   ]
  },
  {
   "cell_type": "code",
   "execution_count": 7,
   "metadata": {
    "ExecuteTime": {
     "end_time": "2020-11-10T09:52:42.935865Z",
     "start_time": "2020-11-10T09:52:42.901133Z"
    }
   },
   "outputs": [],
   "source": [
    "def standardize(data):\n",
    "    orderOfMagnitude = int(math.log(np.mean(data), 10))\n",
    "\n",
    "    return data / (10**orderOfMagnitude)"
   ]
  },
  {
   "cell_type": "code",
   "execution_count": 8,
   "metadata": {
    "ExecuteTime": {
     "end_time": "2020-11-10T09:52:42.975298Z",
     "start_time": "2020-11-10T09:52:42.941146Z"
    }
   },
   "outputs": [],
   "source": [
    "def reset_weights(model):\n",
    "    import keras.backend as K\n",
    "    session = K.get_session()\n",
    "    for layer in model.layers:\n",
    "        if hasattr(layer, 'kernel_initializer'):\n",
    "            layer.kernel.initializer.run(session=session)\n",
    "        if hasattr(layer, 'bias_initializer'):\n",
    "            layer.bias.initializer.run(session=session)"
   ]
  },
  {
   "cell_type": "markdown",
   "metadata": {},
   "source": [
    "### Load ROOT file"
   ]
  },
  {
   "cell_type": "code",
   "execution_count": 9,
   "metadata": {
    "ExecuteTime": {
     "end_time": "2020-11-10T09:52:43.220342Z",
     "start_time": "2020-11-10T09:52:42.976907Z"
    }
   },
   "outputs": [],
   "source": [
    "zmumu = uproot.open(\n",
    "    \"/data0/users/bpnachman/ATLASOmniFold/GridRunOctober/ZjetOmnifold_Oct5_PowhegPythia_mc16e.root\"\n",
    ")['EventTree']"
   ]
  },
  {
   "cell_type": "code",
   "execution_count": 10,
   "metadata": {
    "ExecuteTime": {
     "end_time": "2020-11-10T09:52:43.262813Z",
     "start_time": "2020-11-10T09:52:43.221771Z"
    },
    "scrolled": false
   },
   "outputs": [
    {
     "name": "stdout",
     "output_type": "stream",
     "text": [
      "CutFlow                    (no streamer)              asdtype('>i4')\n",
      "EventNumber                (no streamer)              asdtype('>i4')\n",
      "RunNumber                  (no streamer)              asdtype('>i4')\n",
      "LumiBlock                  (no streamer)              asdtype('>i4')\n",
      "BCID                       (no streamer)              asdtype('>i4')\n",
      "NPV                        (no streamer)              asdtype('>i4')\n",
      "pass                       (no streamer)              asdtype('>i4')\n",
      "truth_pass                 (no streamer)              asdtype('>i4')\n",
      "initialWeight              (no streamer)              asdtype('>f4')\n",
      "pileupWeight               (no streamer)              asdtype('>f4')\n",
      "genWeight                  (no streamer)              asdtype('>f4')\n",
      "weight                     (no streamer)              asdtype('>f4')\n",
      "mu_recoSF                  (no streamer)              asdtype('>f4')\n",
      "mu_isoSF                   (no streamer)              asdtype('>f4')\n",
      "mu_TTVASF                  (no streamer)              asdtype('>f4')\n",
      "SingleMuonTrigSF           (no streamer)              asdtype('>f4')\n",
      "jvtSF                      (no streamer)              asdtype('>f4')\n",
      "mu                         (no streamer)              asdtype('>f4')\n",
      "muActual                   (no streamer)              asdtype('>f4')\n",
      "z_PV0                      (no streamer)              asdtype('>f4')\n",
      "z_PVtruth                  (no streamer)              asdtype('>f4')\n",
      "sumpT2_PV0                 (no streamer)              asdtype('>f4')\n",
      "sumpT2_PV1                 (no streamer)              asdtype('>f4')\n",
      "z0_l1                      (no streamer)              asdtype('>f4')\n",
      "z0_l2                      (no streamer)              asdtype('>f4')\n",
      "z_PV1                      (no streamer)              asdtype('>f4')\n",
      "beamspot_x                 (no streamer)              asdtype('>f4')\n",
      "beamspot_y                 (no streamer)              asdtype('>f4')\n",
      "beamspot_z                 (no streamer)              asdtype('>f4')\n",
      "beamspot_sigZ              (no streamer)              asdtype('>f4')\n",
      "pass_singleMuTrig          (no streamer)              asdtype('>i4')\n",
      "pass_singleMuTrigMatch     (no streamer)              asdtype('>i4')\n",
      "pT_ll                      (no streamer)              asdtype('>f4')\n",
      "m_ll                       (no streamer)              asdtype('>f4')\n",
      "y_ll                       (no streamer)              asdtype('>f4')\n",
      "pT_l1                      (no streamer)              asdtype('>f4')\n",
      "pT_l2                      (no streamer)              asdtype('>f4')\n",
      "eta_l1                     (no streamer)              asdtype('>f4')\n",
      "eta_l2                     (no streamer)              asdtype('>f4')\n",
      "phi_l1                     (no streamer)              asdtype('>f4')\n",
      "phi_l2                     (no streamer)              asdtype('>f4')\n",
      "pT_j1                      (no streamer)              asdtype('>f4')\n",
      "y_j1                       (no streamer)              asdtype('>f4')\n",
      "phi_j1                     (no streamer)              asdtype('>f4')\n",
      "pT_j2                      (no streamer)              asdtype('>f4')\n",
      "y_j2                       (no streamer)              asdtype('>f4')\n",
      "phi_j2                     (no streamer)              asdtype('>f4')\n",
      "y_star                     (no streamer)              asdtype('>f4')\n",
      "y_boost                    (no streamer)              asdtype('>f4')\n",
      "Dphi_j1_ll                 (no streamer)              asdtype('>f4')\n",
      "R_DB                       (no streamer)              asdtype('>f4')\n",
      "y_llj                      (no streamer)              asdtype('>f4')\n",
      "pT_llj                     (no streamer)              asdtype('>f4')\n",
      "pass_dilepton              (no streamer)              asdtype('>i4')\n",
      "Njets10                    (no streamer)              asdtype('>i4')\n",
      "Njets25                    (no streamer)              asdtype('>i4')\n",
      "Njets50                    (no streamer)              asdtype('>i4')\n",
      "Nmuons                     (no streamer)              asdtype('>i4')\n",
      "Ntracks_j1                 (no streamer)              asdtype('>i4')\n",
      "Ntracks                    (no streamer)              asdtype('>i4')\n",
      "prwUp                      (no streamer)              asdtype('>f4')\n",
      "prwDown                    (no streamer)              asdtype('>f4')\n",
      "recoSFUp                   (no streamer)              asdtype('>f4')\n",
      "recoSFDown                 (no streamer)              asdtype('>f4')\n",
      "isoSFUp                    (no streamer)              asdtype('>f4')\n",
      "isoSFDown                  (no streamer)              asdtype('>f4')\n",
      "TTVASFUp                   (no streamer)              asdtype('>f4')\n",
      "TTVASFDown                 (no streamer)              asdtype('>f4')\n",
      "TrigSFUp                   (no streamer)              asdtype('>f4')\n",
      "TrigSFDown                 (no streamer)              asdtype('>f4')\n",
      "jvtSFUp                    (no streamer)              asdtype('>f4')\n",
      "jvtSFDown                  (no streamer)              asdtype('>f4')\n",
      "pT_l1_IDSystUp             (no streamer)              asdtype('>f4')\n",
      "pT_l2_IDSystUp             (no streamer)              asdtype('>f4')\n",
      "pT_l1_IDSystDown           (no streamer)              asdtype('>f4')\n",
      "pT_l2_IDSystDown           (no streamer)              asdtype('>f4')\n",
      "pT_l1_MSSystUp             (no streamer)              asdtype('>f4')\n",
      "pT_l2_MSSystUp             (no streamer)              asdtype('>f4')\n",
      "pT_l1_MSSystDown           (no streamer)              asdtype('>f4')\n",
      "pT_l2_MSSystDown           (no streamer)              asdtype('>f4')\n",
      "pT_l1_MSResbiasSystUp      (no streamer)              asdtype('>f4')\n",
      "pT_l2_MSResbiasSystUp      (no streamer)              asdtype('>f4')\n",
      "pT_l1_MSResbiasSystDown    (no streamer)              asdtype('>f4')\n",
      "pT_l2_MSResbiasSystDown    (no streamer)              asdtype('>f4')\n",
      "pT_l1_MSRhoSystUp          (no streamer)              asdtype('>f4')\n",
      "pT_l2_MSRhoSystUp          (no streamer)              asdtype('>f4')\n",
      "pT_l1_MSRhoSystDown        (no streamer)              asdtype('>f4')\n",
      "pT_l2_MSRhoSystDown        (no streamer)              asdtype('>f4')\n",
      "pT_l1_ScaleSystUp          (no streamer)              asdtype('>f4')\n",
      "pT_l2_ScaleSystUp          (no streamer)              asdtype('>f4')\n",
      "pT_l1_ScaleSystDown        (no streamer)              asdtype('>f4')\n",
      "pT_l2_ScaleSystDown        (no streamer)              asdtype('>f4')\n",
      "pass_190_MUON_ID_UP        (no streamer)              asdtype('>i4')\n",
      "pass_190_MUON_ID_DOWN      (no streamer)              asdtype('>i4')\n",
      "pass_190_MUON_MS_UP        (no streamer)              asdtype('>i4')\n",
      "pass_190_MUON_MS_DOWN      (no streamer)              asdtype('>i4')\n",
      "pass_190_MUON_SAGITTA_RESBIAS_UP\n",
      "                           (no streamer)              asdtype('>i4')\n",
      "pass_190_MUON_SAGITTA_RESBIAS_DOWN\n",
      "                           (no streamer)              asdtype('>i4')\n",
      "pass_190_MUON_SAGITTA_RHO_UP\n",
      "                           (no streamer)              asdtype('>i4')\n",
      "pass_190_MUON_SAGITTA_RHO_DOWN\n",
      "                           (no streamer)              asdtype('>i4')\n",
      "pass_190_MUON_SCALE_UP     (no streamer)              asdtype('>i4')\n",
      "pass_190_MUON_SCALE_DOWN   (no streamer)              asdtype('>i4')\n",
      "truth_iso_ptvarcone30_mu1  (no streamer)              asdtype('>f4')\n",
      "truth_iso_ptvarcone30_mu2  (no streamer)              asdtype('>f4')\n",
      "truth_iso_n20_mu1          (no streamer)              asdtype('>f4')\n",
      "truth_iso_n20_mu2          (no streamer)              asdtype('>f4')\n",
      "pT_Tracks                  (no streamer)              asjagged(asdtype('>f4'), 10)\n",
      "eta_Tracks                 (no streamer)              asjagged(asdtype('>f4'), 10)\n",
      "phi_Tracks                 (no streamer)              asjagged(asdtype('>f4'), 10)\n",
      "d0_Tracks                  (no streamer)              asjagged(asdtype('>f4'), 10)\n",
      "truthMatchProb_Tracks      (no streamer)              asjagged(asdtype('>f4'), 10)\n",
      "correctedpT_Tracks         (no streamer)              asjagged(asdtype('>f4'), 10)\n",
      "sysCorrectedpT_Tracks      (no streamer)              asjagged(asdtype('>f4'), 10)\n",
      "jetIndex_Tracks            (no streamer)              asjagged(asdtype('>i4'), 10)\n",
      "charge_Tracks              (no streamer)              asjagged(asdtype('>i4'), 10)\n",
      "truthMatchPDGID_Tracks     (no streamer)              asjagged(asdtype('>i4'), 10)\n",
      "passTrackTruthFilter_Tracks\n",
      "                           (no streamer)              asjagged(asdtype('>i4'), 10)\n",
      "passJetTrackFilter_Tracks  (no streamer)              asjagged(asdtype('>i4'), 10)\n",
      "passTrackFake_Tracks       (no streamer)              asjagged(asdtype('>i4'), 10)\n",
      "truth_pass_dilepton        (no streamer)              asdtype('>i4')\n",
      "truth_Njets10              (no streamer)              asdtype('>i4')\n",
      "truth_Njets25              (no streamer)              asdtype('>i4')\n",
      "truth_Njets50              (no streamer)              asdtype('>i4')\n",
      "truth_Nmuons               (no streamer)              asdtype('>i4')\n",
      "truth_Ntracks_j1           (no streamer)              asdtype('>i4')\n",
      "truth_Ntracks              (no streamer)              asdtype('>i4')\n",
      "truth_pT_ll                (no streamer)              asdtype('>f4')\n",
      "truth_m_ll                 (no streamer)              asdtype('>f4')\n",
      "truth_y_ll                 (no streamer)              asdtype('>f4')\n",
      "truth_pT_l1                (no streamer)              asdtype('>f4')\n",
      "truth_pT_l2                (no streamer)              asdtype('>f4')\n",
      "truth_eta_l1               (no streamer)              asdtype('>f4')\n",
      "truth_eta_l2               (no streamer)              asdtype('>f4')\n",
      "truth_phi_l1               (no streamer)              asdtype('>f4')\n",
      "truth_phi_l2               (no streamer)              asdtype('>f4')\n",
      "truth_pT_j1                (no streamer)              asdtype('>f4')\n",
      "truth_y_j1                 (no streamer)              asdtype('>f4')\n",
      "truth_phi_j1               (no streamer)              asdtype('>f4')\n",
      "truth_pT_j2                (no streamer)              asdtype('>f4')\n",
      "truth_y_j2                 (no streamer)              asdtype('>f4')\n",
      "truth_phi_j2               (no streamer)              asdtype('>f4')\n",
      "truth_y_star               (no streamer)              asdtype('>f4')\n",
      "truth_y_boost              (no streamer)              asdtype('>f4')\n",
      "truth_Dphi_j1_ll           (no streamer)              asdtype('>f4')\n",
      "truth_R_DB                 (no streamer)              asdtype('>f4')\n",
      "truth_y_llj                (no streamer)              asdtype('>f4')\n",
      "truth_pT_llj               (no streamer)              asdtype('>f4')\n",
      "truth_pT_Tracks            (no streamer)              asjagged(asdtype('>f4'), 10)\n",
      "truth_eta_Tracks           (no streamer)              asjagged(asdtype('>f4'), 10)\n",
      "truth_phi_Tracks           (no streamer)              asjagged(asdtype('>f4'), 10)\n",
      "truth_pdgId_Tracks         (no streamer)              asjagged(asdtype('>i4'), 10)\n",
      "truth_jetIndex_Tracks      (no streamer)              asjagged(asdtype('>i4'), 10)\n",
      "truth_N_stbl               (no streamer)              asdtype('>i4')\n",
      "truth_Nconst_j1            (no streamer)              asdtype('>i4')\n",
      "truth_stblM                (no streamer)              asdtype('>f4')\n",
      "truth_j1_DRmin_anyReco     (no streamer)              asdtype('>f4')\n",
      "truth_j1_DRmin_jvtReco     (no streamer)              asdtype('>f4')\n",
      "truth_j1_DR_reco_j1        (no streamer)              asdtype('>f4')\n"
     ]
    }
   ],
   "source": [
    "zmumu.show()"
   ]
  },
  {
   "cell_type": "code",
   "execution_count": 11,
   "metadata": {
    "ExecuteTime": {
     "end_time": "2020-11-10T09:52:43.308463Z",
     "start_time": "2020-11-10T09:52:43.274721Z"
    }
   },
   "outputs": [],
   "source": [
    "mybranches = []\n",
    "for mykey in zmumu.keys():\n",
    "    mybranches += [mykey.decode(\"utf-8\")]"
   ]
  },
  {
   "cell_type": "code",
   "execution_count": 12,
   "metadata": {
    "ExecuteTime": {
     "end_time": "2020-11-10T09:54:04.427936Z",
     "start_time": "2020-11-10T09:52:43.310243Z"
    }
   },
   "outputs": [
    {
     "name": "stdout",
     "output_type": "stream",
     "text": [
      "Total number of events:  666677\n",
      "Events in returned Object:  666677\n",
      "Loading the data took  81.08010983467102  seconds\n"
     ]
    }
   ],
   "source": [
    "Events = prepare_dataset_table([\n",
    "    \"/data0/users/bpnachman/ATLASOmniFold/GridRunOctober/ZjetOmnifold_Oct5_PowhegPythia_mc16e.root\"\n",
    "],\n",
    "                               \"EventTree\",\n",
    "                               branch_list=mybranches,\n",
    "                               col_names=mybranches,\n",
    "                               entrysteps=10000000,\n",
    "                               outputype=Event_table)"
   ]
  },
  {
   "cell_type": "markdown",
   "metadata": {},
   "source": [
    "### Unpack data"
   ]
  },
  {
   "cell_type": "code",
   "execution_count": 13,
   "metadata": {
    "ExecuteTime": {
     "end_time": "2020-11-10T09:54:04.472844Z",
     "start_time": "2020-11-10T09:54:04.430626Z"
    }
   },
   "outputs": [],
   "source": [
    "# Event selection\n",
    "\n",
    "# we should eventually properly account for events that fail one of Gen or Sim.  For now, just ignore them.\n",
    "\n",
    "mypass = (Events.events['m_ll'] > 0) & (Events.events['m_ll'] < 200) & (\n",
    "    Events.events['truth_m_ll'] > 0) & (Events.events['truth_m_ll'] < 200)"
   ]
  },
  {
   "cell_type": "code",
   "execution_count": 14,
   "metadata": {
    "ExecuteTime": {
     "end_time": "2020-11-10T09:54:05.997068Z",
     "start_time": "2020-11-10T09:54:04.474533Z"
    }
   },
   "outputs": [
    {
     "data": {
      "image/png": "[encoded data removed]",
      "text/plain": [
       "<Figure size 630x426.24 with 1 Axes>"
      ]
     },
     "metadata": {},
     "output_type": "display_data"
    }
   ],
   "source": [
    "hG, _, _ = plt.hist(Events.events['truth_m_ll'][mypass],\n",
    "                    label=\"Gen.\",\n",
    "                    bins=np.linspace(50, 150, 20),\n",
    "                    alpha=0.5)\n",
    "hS, _, _ = plt.hist(Events.events['m_ll'][mypass],\n",
    "                    label=\"Sim.\",\n",
    "                    bins=np.linspace(50, 150, 20),\n",
    "                    alpha=0.5)\n",
    "plt.xlabel(\"$m_{\\mu^+\\mu^-}$ [GeV]\")\n",
    "plt.ylabel(\"Events per bin\")\n",
    "draw_atlas_text(lines=[r'$\\sqrt{s} = $13 TeV'])\n",
    "plt.legend()\n",
    "plt.ylim([0, 1.5 * max(max(hG), max(hS))])\n",
    "plt.show()"
   ]
  },
  {
   "cell_type": "code",
   "execution_count": 15,
   "metadata": {
    "ExecuteTime": {
     "end_time": "2020-11-10T09:54:08.475647Z",
     "start_time": "2020-11-10T09:54:05.998519Z"
    }
   },
   "outputs": [],
   "source": [
    "mytracks = Events.events['truth_pT_Tracks'][mypass]\n",
    "ntrack_Gen = [len(mytracks[i]) for i in range(len(mytracks))]"
   ]
  },
  {
   "cell_type": "code",
   "execution_count": 16,
   "metadata": {
    "ExecuteTime": {
     "end_time": "2020-11-10T09:54:10.936966Z",
     "start_time": "2020-11-10T09:54:08.477055Z"
    }
   },
   "outputs": [],
   "source": [
    "mytracks = Events.events['pT_Tracks'][mypass]\n",
    "ntrack_Sim = [len(mytracks[i]) for i in range(len(mytracks))]"
   ]
  },
  {
   "cell_type": "code",
   "execution_count": 17,
   "metadata": {
    "ExecuteTime": {
     "end_time": "2020-11-10T09:54:11.555180Z",
     "start_time": "2020-11-10T09:54:10.938347Z"
    }
   },
   "outputs": [
    {
     "data": {
      "image/png": "[encoded data removed]",
      "text/plain": [
       "<Figure size 630x426.24 with 1 Axes>"
      ]
     },
     "metadata": {},
     "output_type": "display_data"
    }
   ],
   "source": [
    "hG, _, _ = plt.hist(ntrack_Gen,\n",
    "                    label=\"Gen.\",\n",
    "                    alpha=0.5,\n",
    "                    bins=np.linspace(0, 250, 20))\n",
    "hS, _, _ = plt.hist(ntrack_Sim,\n",
    "                    label=\"Sim.\",\n",
    "                    alpha=0.5,\n",
    "                    bins=np.linspace(0, 250, 20))\n",
    "plt.xlabel(\"Number of Charged Particles\")\n",
    "draw_atlas_text(lines=[r'$\\sqrt{s} = $13 TeV'])\n",
    "plt.ylabel(\"Events per bin\")\n",
    "plt.legend()\n",
    "plt.ylim([0, 1.5 * max(max(hG), max(hS))])\n",
    "plt.show()"
   ]
  },
  {
   "cell_type": "markdown",
   "metadata": {},
   "source": [
    "## UniFold\n",
    "\n",
    "Unfold the distributions for $m_{\\mu^+\\mu^-}$ and the number of charged particles separately.\n",
    "\n",
    "*** As of this time, simulation with only one set of generator parameters is available. So, we will split this simulation in half, using one half as the nominal synthetic dataset, and the other half as the unknown \"natural\" dataset."
   ]
  },
  {
   "cell_type": "markdown",
   "metadata": {},
   "source": [
    "### Setup Datasets"
   ]
  },
  {
   "cell_type": "code",
   "execution_count": 18,
   "metadata": {
    "ExecuteTime": {
     "end_time": "2020-11-10T09:54:11.605904Z",
     "start_time": "2020-11-10T09:54:11.556614Z"
    }
   },
   "outputs": [],
   "source": [
    "# Only one simulation, so split into nominal and \"uknown\" sample for now\n",
    "\n",
    "m_ll_0_G, m_ll_unknown_G, m_ll_0_S, m_ll_unknown_S = train_test_split(\n",
    "    Events.events['truth_m_ll'][mypass],\n",
    "    Events.events['m_ll'][mypass],\n",
    "    test_size=0.5)"
   ]
  },
  {
   "cell_type": "code",
   "execution_count": 19,
   "metadata": {
    "ExecuteTime": {
     "end_time": "2020-11-10T09:54:12.933215Z",
     "start_time": "2020-11-10T09:54:11.607296Z"
    }
   },
   "outputs": [
    {
     "data": {
      "image/png": "[encoded data removed]",
      "text/plain": [
       "<Figure size 864x360 with 2 Axes>"
      ]
     },
     "metadata": {},
     "output_type": "display_data"
    }
   ],
   "source": [
    "bins = np.linspace(50, 150, 20)\n",
    "\n",
    "fig, ax = plt.subplots(1,\n",
    "                       2,\n",
    "                       figsize=(12, 5),\n",
    "                       constrained_layout=True,\n",
    "                       sharey=True)\n",
    "ax[0].set_xlabel('$m_{\\mu^+\\mu^-}$ [GeV]')\n",
    "ax[0].set_ylabel('Events per bin')\n",
    "hG0, _, _ = ax[0].hist(m_ll_0_G, bins=bins, alpha=0.5, label='Generation')\n",
    "hS0, _, _ = ax[0].hist(m_ll_0_S, bins=bins, alpha=0.5, label='Simulation')\n",
    "legend = ax[0].legend(title='Synthetic', loc='upper right', frameon=False)\n",
    "plt.setp(legend.get_title(), multialignment='center')\n",
    "\n",
    "ax[1].set_xlabel('$m_{\\mu^+\\mu^-}$ [GeV]')\n",
    "hG1, _, _ = ax[1].hist(m_ll_unknown_G, bins=bins, alpha=0.5, label='Truth')\n",
    "hS1, _, _ = ax[1].hist(m_ll_unknown_S, bins=bins, alpha=0.5, label='Detector')\n",
    "legend = ax[1].legend(title='\"Natural\"', loc='upper right', frameon=False)\n",
    "plt.setp(legend.get_title(), multialignment='center')\n",
    "\n",
    "# plt.ylim([0,1.5*np.max(np.concatenate((hG0, hG1, hS0, hS1)))])\n",
    "\n",
    "fig.show()"
   ]
  },
  {
   "cell_type": "code",
   "execution_count": 20,
   "metadata": {
    "ExecuteTime": {
     "end_time": "2020-11-10T09:54:13.059603Z",
     "start_time": "2020-11-10T09:54:12.934540Z"
    }
   },
   "outputs": [],
   "source": [
    "# Only one simulation, so split into nominal and \"uknown\" sample for now\n",
    "\n",
    "nTracks_0_G, nTracks_unknown_G, nTracks_0_S, nTracks_unknown_S = train_test_split(\n",
    "    np.array(ntrack_Gen), np.array(ntrack_Sim), test_size=0.5)"
   ]
  },
  {
   "cell_type": "code",
   "execution_count": 21,
   "metadata": {
    "ExecuteTime": {
     "end_time": "2020-11-10T09:54:14.347978Z",
     "start_time": "2020-11-10T09:54:13.061066Z"
    }
   },
   "outputs": [
    {
     "data": {
      "image/png": "[encoded data removed]",
      "text/plain": [
       "<Figure size 864x360 with 2 Axes>"
      ]
     },
     "metadata": {},
     "output_type": "display_data"
    }
   ],
   "source": [
    "bins = np.linspace(0, 250, 20)\n",
    "\n",
    "fig, ax = plt.subplots(1,\n",
    "                       2,\n",
    "                       figsize=(12, 5),\n",
    "                       constrained_layout=True,\n",
    "                       sharey=True)\n",
    "ax[0].set_xlabel('Number of Charged Particles')\n",
    "ax[0].set_ylabel('Events per bin')\n",
    "hG0, _, _ = ax[0].hist(nTracks_0_G, bins=bins, alpha=0.5, label='Generation')\n",
    "hS0, _, _ = ax[0].hist(nTracks_0_S, bins=bins, alpha=0.5, label='Simulation')\n",
    "legend = ax[0].legend(title='Synthetic', loc='upper right', frameon=False)\n",
    "plt.setp(legend.get_title(), multialignment='center')\n",
    "\n",
    "ax[1].set_xlabel('Number of Charged Particles')\n",
    "hG1, _, _ = ax[1].hist(nTracks_unknown_G, bins=bins, alpha=0.5, label='Truth')\n",
    "hS1, _, _ = ax[1].hist(nTracks_unknown_S,\n",
    "                       bins=bins,\n",
    "                       alpha=0.5,\n",
    "                       label='Detector')\n",
    "legend = ax[1].legend(title='\"Natural\"', loc='upper right', frameon=False)\n",
    "plt.setp(legend.get_title(), multialignment='center')\n",
    "\n",
    "# plt.ylim([0,1.5*np.max(np.concatenate((hG0, hG1, hS0, hS1)))])\n",
    "\n",
    "fig.show()"
   ]
  },
  {
   "cell_type": "markdown",
   "metadata": {},
   "source": [
    "### Define UniFold Algorithm"
   ]
  },
  {
   "cell_type": "code",
   "execution_count": 22,
   "metadata": {
    "ExecuteTime": {
     "end_time": "2020-11-10T09:54:14.436824Z",
     "start_time": "2020-11-10T09:54:14.349376Z"
    }
   },
   "outputs": [],
   "source": [
    "\"\"\"    Arguments:\n",
    "                            \n",
    "        iterations: number of iterations (integer)\n",
    "        \n",
    "        theta0_G: nominal generation-level observable as Numpy array\n",
    "                    \n",
    "        theta0_G: nominal simulation-level observable as Numpy array\n",
    "                    \n",
    "        theta_unknown_S: \"natural\" (unknown) simulation-level observable \n",
    "                            to be unfolded as Numpy arrays\n",
    "        \n",
    "        Returns:\n",
    "        - A Numpy array of weights to reweight distributions in \n",
    "        theta0_G to the unfolded distribution of theta_unknown_S\n",
    "        \n",
    "        - The model used to calculate those weights\n",
    "\"\"\"\n",
    "\n",
    "\n",
    "def unifold(iterations, theta0_G, theta0_S, theta_unknown_S):\n",
    "    labels0 = np.zeros(len(theta0_G))\n",
    "    labels_unknown = np.ones(len(theta_unknown_S))\n",
    "\n",
    "    xvals_1 = np.concatenate((theta0_S, theta_unknown_S))\n",
    "    yvals_1 = np.concatenate((labels0, labels_unknown))\n",
    "\n",
    "    xvals_2 = np.concatenate((theta0_G, theta0_G))\n",
    "    yvals_2 = np.concatenate((labels0, labels_unknown))\n",
    "\n",
    "    weights = np.empty(shape=(iterations, 2, len(theta0_G)))\n",
    "    # shape = (iteration, step, event)\n",
    "\n",
    "    weights_pull = np.ones(len(theta0_S))\n",
    "    weights_push = np.ones(len(theta0_G))\n",
    "\n",
    "    inputs = Input((1, ))\n",
    "    hidden_layer_1 = Dense(50, activation='relu')(inputs)\n",
    "    hidden_layer_2 = Dense(50, activation='relu')(hidden_layer_1)\n",
    "    hidden_layer_3 = Dense(50, activation='relu')(hidden_layer_2)\n",
    "    outputs = Dense(1, activation='sigmoid')(hidden_layer_3)\n",
    "\n",
    "    model = Model(inputs=inputs, outputs=outputs)\n",
    "\n",
    "    earlystopping = EarlyStopping(patience=10,\n",
    "                                  verbose=1,\n",
    "                                  restore_best_weights=True)\n",
    "\n",
    "    # from NN (DCTR)\n",
    "    def reweight(events):\n",
    "        f = model.predict(events, batch_size=10000)\n",
    "        weights = f / (1. - f)\n",
    "        return np.squeeze(weights)\n",
    "\n",
    "    for i in range(iterations):\n",
    "        print(\"\\nITERATION: {}\\n\".format(i + 1))\n",
    "\n",
    "        # STEP 1: classify Sim. (which is reweighted by weights_push) to Data\n",
    "        # weights reweighted Sim. --> Data\n",
    "        print(\"STEP 1\\n\")\n",
    "\n",
    "        weights_1 = np.concatenate(\n",
    "            (weights_push, np.ones(len(theta_unknown_S))))\n",
    "        # actual weights for Sim., ones for Data\n",
    "\n",
    "        X_train_1, X_test_1, Y_train_1, Y_test_1, w_train_1, w_test_1 = train_test_split(\n",
    "            xvals_1, yvals_1, weights_1)\n",
    "\n",
    "        model.compile(loss='binary_crossentropy',\n",
    "                      optimizer='Adam',\n",
    "                      metrics=['accuracy'])\n",
    "        model.fit(X_train_1,\n",
    "                  Y_train_1,\n",
    "                  sample_weight=w_train_1,\n",
    "                  epochs=200,\n",
    "                  batch_size=10000,\n",
    "                  validation_data=(X_test_1, Y_test_1, w_test_1),\n",
    "                  callbacks=[earlystopping],\n",
    "                  verbose=1)\n",
    "\n",
    "        weights_pull = weights_push * reweight(theta0_S)\n",
    "        weights[i, :1, :] = weights_pull\n",
    "\n",
    "        # STEP 2: classify Gen. to reweighted Gen. (which is reweighted by weights_pull)\n",
    "        # weights Gen. --> reweighted Gen.\n",
    "        print(\"\\nSTEP 2\\n\")\n",
    "\n",
    "        weights_2 = np.concatenate((np.ones(len(theta0_G)), weights_pull))\n",
    "        # ones for Gen., actual weights for (reweighted) Gen.\n",
    "\n",
    "        X_train_2, X_test_2, Y_train_2, Y_test_2, w_train_2, w_test_2 = train_test_split(\n",
    "            xvals_2, yvals_2, weights_2)\n",
    "\n",
    "        model.compile(loss='binary_crossentropy',\n",
    "                      optimizer='Adam',\n",
    "                      metrics=['accuracy'])\n",
    "        model.fit(X_train_2,\n",
    "                  Y_train_2,\n",
    "                  sample_weight=w_train_2,\n",
    "                  epochs=200,\n",
    "                  batch_size=10000,\n",
    "                  validation_data=(X_test_2, Y_test_2, w_test_2),\n",
    "                  callbacks=[earlystopping],\n",
    "                  verbose=1)\n",
    "\n",
    "        weights_push = reweight(theta0_G)\n",
    "        weights[i, 1:2, :] = weights_pull\n",
    "\n",
    "    return weights, model"
   ]
  },
  {
   "cell_type": "markdown",
   "metadata": {},
   "source": [
    "### Unfold $m_{\\mu^+\\mu^-}$"
   ]
  },
  {
   "cell_type": "code",
   "execution_count": 23,
   "metadata": {
    "ExecuteTime": {
     "end_time": "2020-11-10T09:55:24.049524Z",
     "start_time": "2020-11-10T09:54:14.438171Z"
    }
   },
   "outputs": [
    {
     "name": "stdout",
     "output_type": "stream",
     "text": [
      "WARNING:tensorflow:From /home/asuresh/programs/anaconda3/envs/omnifold/lib/python3.7/site-packages/keras/backend/tensorflow_backend.py:74: The name tf.get_default_graph is deprecated. Please use tf.compat.v1.get_default_graph instead.\n",
      "\n",
      "WARNING:tensorflow:From /home/asuresh/programs/anaconda3/envs/omnifold/lib/python3.7/site-packages/keras/backend/tensorflow_backend.py:517: The name tf.placeholder is deprecated. Please use tf.compat.v1.placeholder instead.\n",
      "\n",
      "WARNING:tensorflow:From /home/asuresh/programs/anaconda3/envs/omnifold/lib/python3.7/site-packages/keras/backend/tensorflow_backend.py:4138: The name tf.random_uniform is deprecated. Please use tf.random.uniform instead.\n",
      "\n",
      "\n",
      "ITERATION: 1\n",
      "\n",
      "STEP 1\n",
      "\n",
      "WARNING:tensorflow:From /home/asuresh/programs/anaconda3/envs/omnifold/lib/python3.7/site-packages/keras/optimizers.py:790: The name tf.train.Optimizer is deprecated. Please use tf.compat.v1.train.Optimizer instead.\n",
      "\n",
      "WARNING:tensorflow:From /home/asuresh/programs/anaconda3/envs/omnifold/lib/python3.7/site-packages/keras/backend/tensorflow_backend.py:3376: The name tf.log is deprecated. Please use tf.math.log instead.\n",
      "\n",
      "WARNING:tensorflow:From /home/asuresh/programs/anaconda3/envs/omnifold/lib/python3.7/site-packages/tensorflow_core/python/ops/nn_impl.py:183: where (from tensorflow.python.ops.array_ops) is deprecated and will be removed in a future version.\n",
      "Instructions for updating:\n",
      "Use tf.where in 2.0, which has the same broadcast rule as np.where\n",
      "WARNING:tensorflow:From /home/asuresh/programs/anaconda3/envs/omnifold/lib/python3.7/site-packages/keras/backend/tensorflow_backend.py:986: The name tf.assign_add is deprecated. Please use tf.compat.v1.assign_add instead.\n",
      "\n",
      "WARNING:tensorflow:From /home/asuresh/programs/anaconda3/envs/omnifold/lib/python3.7/site-packages/keras/backend/tensorflow_backend.py:973: The name tf.assign is deprecated. Please use tf.compat.v1.assign instead.\n",
      "\n",
      "WARNING:tensorflow:From /home/asuresh/programs/anaconda3/envs/omnifold/lib/python3.7/site-packages/keras/backend/tensorflow_backend.py:2741: The name tf.Session is deprecated. Please use tf.compat.v1.Session instead.\n",
      "\n",
      "Train on 466582 samples, validate on 155528 samples\n",
      "Epoch 1/200\n",
      "WARNING:tensorflow:From /home/asuresh/programs/anaconda3/envs/omnifold/lib/python3.7/site-packages/keras/backend/tensorflow_backend.py:174: The name tf.get_default_session is deprecated. Please use tf.compat.v1.get_default_session instead.\n",
      "\n",
      "WARNING:tensorflow:From /home/asuresh/programs/anaconda3/envs/omnifold/lib/python3.7/site-packages/keras/backend/tensorflow_backend.py:181: The name tf.ConfigProto is deprecated. Please use tf.compat.v1.ConfigProto instead.\n",
      "\n",
      "WARNING:tensorflow:From /home/asuresh/programs/anaconda3/envs/omnifold/lib/python3.7/site-packages/keras/backend/tensorflow_backend.py:190: The name tf.global_variables is deprecated. Please use tf.compat.v1.global_variables instead.\n",
      "\n",
      "WARNING:tensorflow:From /home/asuresh/programs/anaconda3/envs/omnifold/lib/python3.7/site-packages/keras/backend/tensorflow_backend.py:199: The name tf.is_variable_initialized is deprecated. Please use tf.compat.v1.is_variable_initialized instead.\n",
      "\n",
      "WARNING:tensorflow:From /home/asuresh/programs/anaconda3/envs/omnifold/lib/python3.7/site-packages/keras/backend/tensorflow_backend.py:206: The name tf.variables_initializer is deprecated. Please use tf.compat.v1.variables_initializer instead.\n",
      "\n",
      "466582/466582 [==============================] - 2s 4us/step - loss: 0.6934 - acc: 0.4996 - val_loss: 0.6932 - val_acc: 0.5004\n",
      "Epoch 2/200\n",
      "466582/466582 [==============================] - 1s 2us/step - loss: 0.6932 - acc: 0.5007 - val_loss: 0.6932 - val_acc: 0.5003\n",
      "Epoch 3/200\n",
      "466582/466582 [==============================] - 1s 2us/step - loss: 0.6932 - acc: 0.4999 - val_loss: 0.6932 - val_acc: 0.4996\n",
      "Epoch 4/200\n",
      "466582/466582 [==============================] - 1s 2us/step - loss: 0.6932 - acc: 0.4998 - val_loss: 0.6932 - val_acc: 0.4996\n",
      "Epoch 5/200\n",
      "466582/466582 [==============================] - 1s 2us/step - loss: 0.6932 - acc: 0.5007 - val_loss: 0.6931 - val_acc: 0.4998\n",
      "Epoch 6/200\n",
      "466582/466582 [==============================] - 1s 2us/step - loss: 0.6932 - acc: 0.5002 - val_loss: 0.6931 - val_acc: 0.5000\n",
      "Epoch 7/200\n",
      "466582/466582 [==============================] - 1s 2us/step - loss: 0.6932 - acc: 0.4998 - val_loss: 0.6932 - val_acc: 0.4996\n",
      "Epoch 8/200\n",
      "466582/466582 [==============================] - 1s 2us/step - loss: 0.6932 - acc: 0.4992 - val_loss: 0.6932 - val_acc: 0.4996\n",
      "Epoch 9/200\n",
      "466582/466582 [==============================] - 1s 2us/step - loss: 0.6932 - acc: 0.5002 - val_loss: 0.6932 - val_acc: 0.4996\n",
      "Epoch 10/200\n",
      "466582/466582 [==============================] - 1s 2us/step - loss: 0.6932 - acc: 0.5006 - val_loss: 0.6932 - val_acc: 0.4996\n",
      "Epoch 11/200\n",
      "466582/466582 [==============================] - 1s 2us/step - loss: 0.6932 - acc: 0.5005 - val_loss: 0.6932 - val_acc: 0.4996\n",
      "Epoch 12/200\n",
      "466582/466582 [==============================] - 1s 2us/step - loss: 0.6932 - acc: 0.5000 - val_loss: 0.6932 - val_acc: 0.5003\n",
      "Epoch 13/200\n",
      "466582/466582 [==============================] - 1s 2us/step - loss: 0.6932 - acc: 0.4990 - val_loss: 0.6932 - val_acc: 0.4998\n",
      "Epoch 14/200\n",
      "466582/466582 [==============================] - 1s 2us/step - loss: 0.6932 - acc: 0.4998 - val_loss: 0.6932 - val_acc: 0.4978\n",
      "Epoch 15/200\n",
      "466582/466582 [==============================] - 1s 2us/step - loss: 0.6932 - acc: 0.5008 - val_loss: 0.6932 - val_acc: 0.4999\n",
      "Restoring model weights from the end of the best epoch\n",
      "Epoch 00015: early stopping\n",
      "\n",
      "STEP 2\n",
      "\n",
      "Train on 466582 samples, validate on 155528 samples\n",
      "Epoch 1/200\n",
      "466582/466582 [==============================] - 2s 4us/step - loss: 0.6930 - acc: 0.4999 - val_loss: 0.6931 - val_acc: 0.5008\n",
      "Epoch 2/200\n",
      "466582/466582 [==============================] - 1s 2us/step - loss: 0.6930 - acc: 0.4999 - val_loss: 0.6931 - val_acc: 0.4992\n",
      "Epoch 3/200\n",
      "466582/466582 [==============================] - 1s 2us/step - loss: 0.6930 - acc: 0.5001 - val_loss: 0.6930 - val_acc: 0.5008\n",
      "Epoch 4/200\n",
      "466582/466582 [==============================] - 1s 2us/step - loss: 0.6930 - acc: 0.5006 - val_loss: 0.6930 - val_acc: 0.5008\n",
      "Epoch 5/200\n",
      "466582/466582 [==============================] - 1s 2us/step - loss: 0.6930 - acc: 0.4993 - val_loss: 0.6930 - val_acc: 0.4992\n",
      "Epoch 6/200\n",
      "466582/466582 [==============================] - 1s 2us/step - loss: 0.6930 - acc: 0.5007 - val_loss: 0.6930 - val_acc: 0.4992\n",
      "Epoch 7/200\n",
      "466582/466582 [==============================] - 1s 2us/step - loss: 0.6930 - acc: 0.5003 - val_loss: 0.6930 - val_acc: 0.4992\n",
      "Epoch 8/200\n",
      "466582/466582 [==============================] - 1s 2us/step - loss: 0.6930 - acc: 0.5007 - val_loss: 0.6930 - val_acc: 0.4992\n",
      "Epoch 9/200\n",
      "466582/466582 [==============================] - 1s 2us/step - loss: 0.6930 - acc: 0.4999 - val_loss: 0.6930 - val_acc: 0.5008\n",
      "Epoch 10/200\n",
      "466582/466582 [==============================] - 1s 2us/step - loss: 0.6930 - acc: 0.5000 - val_loss: 0.6930 - val_acc: 0.5008\n",
      "Epoch 11/200\n",
      "466582/466582 [==============================] - 1s 2us/step - loss: 0.6930 - acc: 0.4989 - val_loss: 0.6931 - val_acc: 0.4992\n",
      "Epoch 12/200\n",
      "466582/466582 [==============================] - 1s 2us/step - loss: 0.6930 - acc: 0.5005 - val_loss: 0.6930 - val_acc: 0.5008\n",
      "Epoch 13/200\n",
      "466582/466582 [==============================] - 1s 2us/step - loss: 0.6930 - acc: 0.5000 - val_loss: 0.6930 - val_acc: 0.4992\n",
      "Epoch 14/200\n",
      "466582/466582 [==============================] - 1s 2us/step - loss: 0.6930 - acc: 0.4989 - val_loss: 0.6931 - val_acc: 0.4992\n",
      "Epoch 15/200\n",
      "466582/466582 [==============================] - 1s 2us/step - loss: 0.6930 - acc: 0.5005 - val_loss: 0.6930 - val_acc: 0.5008\n",
      "Epoch 16/200\n",
      "466582/466582 [==============================] - 1s 2us/step - loss: 0.6930 - acc: 0.4998 - val_loss: 0.6930 - val_acc: 0.4992\n",
      "Epoch 17/200\n",
      "466582/466582 [==============================] - 1s 2us/step - loss: 0.6930 - acc: 0.5001 - val_loss: 0.6930 - val_acc: 0.5003\n",
      "Epoch 18/200\n",
      "466582/466582 [==============================] - 1s 2us/step - loss: 0.6930 - acc: 0.5004 - val_loss: 0.6930 - val_acc: 0.4992\n",
      "Epoch 19/200\n"
     ]
    },
    {
     "name": "stdout",
     "output_type": "stream",
     "text": [
      "466582/466582 [==============================] - 1s 2us/step - loss: 0.6930 - acc: 0.5006 - val_loss: 0.6931 - val_acc: 0.4992\n",
      "Epoch 20/200\n",
      "466582/466582 [==============================] - 1s 2us/step - loss: 0.6930 - acc: 0.4997 - val_loss: 0.6930 - val_acc: 0.4992\n",
      "Restoring model weights from the end of the best epoch\n",
      "Epoch 00020: early stopping\n",
      "\n",
      "ITERATION: 2\n",
      "\n",
      "STEP 1\n",
      "\n",
      "Train on 466582 samples, validate on 155528 samples\n",
      "Epoch 1/200\n",
      "466582/466582 [==============================] - 2s 4us/step - loss: 0.6938 - acc: 0.4995 - val_loss: 0.6937 - val_acc: 0.5010\n",
      "Epoch 2/200\n",
      "466582/466582 [==============================] - 1s 2us/step - loss: 0.6937 - acc: 0.5006 - val_loss: 0.6937 - val_acc: 0.5010\n",
      "Epoch 3/200\n",
      "466582/466582 [==============================] - 1s 2us/step - loss: 0.6937 - acc: 0.4992 - val_loss: 0.6937 - val_acc: 0.4992\n",
      "Epoch 4/200\n",
      "466582/466582 [==============================] - 1s 2us/step - loss: 0.6937 - acc: 0.5004 - val_loss: 0.6937 - val_acc: 0.5010\n",
      "Epoch 5/200\n",
      "466582/466582 [==============================] - 1s 2us/step - loss: 0.6937 - acc: 0.4999 - val_loss: 0.6937 - val_acc: 0.5010\n",
      "Epoch 6/200\n",
      "466582/466582 [==============================] - 1s 2us/step - loss: 0.6937 - acc: 0.4995 - val_loss: 0.6937 - val_acc: 0.5010\n",
      "Epoch 7/200\n",
      "466582/466582 [==============================] - 1s 2us/step - loss: 0.6937 - acc: 0.4993 - val_loss: 0.6937 - val_acc: 0.4990\n",
      "Epoch 8/200\n",
      "466582/466582 [==============================] - 1s 2us/step - loss: 0.6937 - acc: 0.4997 - val_loss: 0.6937 - val_acc: 0.5011\n",
      "Epoch 9/200\n",
      "466582/466582 [==============================] - 1s 2us/step - loss: 0.6937 - acc: 0.4998 - val_loss: 0.6937 - val_acc: 0.5010\n",
      "Epoch 10/200\n",
      "466582/466582 [==============================] - 1s 2us/step - loss: 0.6937 - acc: 0.5002 - val_loss: 0.6937 - val_acc: 0.4990\n",
      "Epoch 11/200\n",
      "466582/466582 [==============================] - 1s 2us/step - loss: 0.6937 - acc: 0.4993 - val_loss: 0.6937 - val_acc: 0.5010\n",
      "Restoring model weights from the end of the best epoch\n",
      "Epoch 00011: early stopping\n",
      "\n",
      "STEP 2\n",
      "\n",
      "Train on 466582 samples, validate on 155528 samples\n",
      "Epoch 1/200\n",
      "466582/466582 [==============================] - 2s 4us/step - loss: 0.6917 - acc: 0.4994 - val_loss: 0.6917 - val_acc: 0.5006\n",
      "Epoch 2/200\n",
      "466582/466582 [==============================] - 1s 2us/step - loss: 0.6917 - acc: 0.5001 - val_loss: 0.6917 - val_acc: 0.4994\n",
      "Epoch 3/200\n",
      "466582/466582 [==============================] - 1s 2us/step - loss: 0.6917 - acc: 0.4991 - val_loss: 0.6917 - val_acc: 0.4994\n",
      "Epoch 4/200\n",
      "466582/466582 [==============================] - 1s 2us/step - loss: 0.6917 - acc: 0.5003 - val_loss: 0.6917 - val_acc: 0.5006\n",
      "Epoch 5/200\n",
      "466582/466582 [==============================] - 1s 2us/step - loss: 0.6917 - acc: 0.5013 - val_loss: 0.6917 - val_acc: 0.4994\n",
      "Epoch 6/200\n",
      "466582/466582 [==============================] - 1s 2us/step - loss: 0.6917 - acc: 0.5000 - val_loss: 0.6917 - val_acc: 0.5006\n",
      "Epoch 7/200\n",
      "466582/466582 [==============================] - 1s 2us/step - loss: 0.6917 - acc: 0.4998 - val_loss: 0.6917 - val_acc: 0.4994\n",
      "Epoch 8/200\n",
      "466582/466582 [==============================] - 1s 2us/step - loss: 0.6917 - acc: 0.4995 - val_loss: 0.6917 - val_acc: 0.4994\n",
      "Epoch 9/200\n",
      "466582/466582 [==============================] - 1s 2us/step - loss: 0.6917 - acc: 0.4995 - val_loss: 0.6917 - val_acc: 0.5006\n",
      "Epoch 10/200\n",
      "466582/466582 [==============================] - 1s 2us/step - loss: 0.6917 - acc: 0.5002 - val_loss: 0.6917 - val_acc: 0.4994\n",
      "Epoch 11/200\n",
      "466582/466582 [==============================] - 1s 2us/step - loss: 0.6917 - acc: 0.4989 - val_loss: 0.6917 - val_acc: 0.5006\n",
      "Epoch 12/200\n",
      "466582/466582 [==============================] - 1s 2us/step - loss: 0.6917 - acc: 0.4998 - val_loss: 0.6917 - val_acc: 0.5006\n",
      "Epoch 13/200\n",
      "466582/466582 [==============================] - 1s 2us/step - loss: 0.6917 - acc: 0.4998 - val_loss: 0.6917 - val_acc: 0.5006\n",
      "Epoch 14/200\n",
      "466582/466582 [==============================] - 1s 2us/step - loss: 0.6917 - acc: 0.4995 - val_loss: 0.6917 - val_acc: 0.4994\n",
      "Epoch 15/200\n",
      "466582/466582 [==============================] - 1s 2us/step - loss: 0.6917 - acc: 0.5010 - val_loss: 0.6917 - val_acc: 0.5006\n",
      "Epoch 16/200\n",
      "466582/466582 [==============================] - 1s 2us/step - loss: 0.6917 - acc: 0.4994 - val_loss: 0.6917 - val_acc: 0.5000\n",
      "Epoch 17/200\n",
      "466582/466582 [==============================] - 1s 2us/step - loss: 0.6917 - acc: 0.4992 - val_loss: 0.6917 - val_acc: 0.5006\n",
      "Epoch 18/200\n",
      "466582/466582 [==============================] - 1s 2us/step - loss: 0.6917 - acc: 0.4996 - val_loss: 0.6917 - val_acc: 0.4994\n",
      "Epoch 19/200\n",
      "466582/466582 [==============================] - 1s 2us/step - loss: 0.6917 - acc: 0.4981 - val_loss: 0.6917 - val_acc: 0.5006\n",
      "Epoch 20/200\n",
      "466582/466582 [==============================] - 1s 2us/step - loss: 0.6917 - acc: 0.4998 - val_loss: 0.6917 - val_acc: 0.5006\n",
      "Epoch 21/200\n",
      "466582/466582 [==============================] - 1s 2us/step - loss: 0.6917 - acc: 0.4998 - val_loss: 0.6917 - val_acc: 0.5006\n",
      "Epoch 22/200\n",
      "466582/466582 [==============================] - 1s 2us/step - loss: 0.6917 - acc: 0.4989 - val_loss: 0.6917 - val_acc: 0.5006\n",
      "Epoch 23/200\n",
      "466582/466582 [==============================] - 1s 2us/step - loss: 0.6917 - acc: 0.4995 - val_loss: 0.6917 - val_acc: 0.4994\n",
      "Restoring model weights from the end of the best epoch\n",
      "Epoch 00023: early stopping\n"
     ]
    }
   ],
   "source": [
    "# simple / 100. standardization s.t. data is of order ~1\n",
    "\n",
    "weights, _ = unifold(iterations=2,\n",
    "                     theta0_G=m_ll_0_G / 100.,\n",
    "                     theta0_S=m_ll_0_S / 100.,\n",
    "                     theta_unknown_S=m_ll_unknown_S / 100.)"
   ]
  },
  {
   "cell_type": "code",
   "execution_count": 24,
   "metadata": {
    "ExecuteTime": {
     "end_time": "2020-11-10T09:55:25.093153Z",
     "start_time": "2020-11-10T09:55:24.052494Z"
    }
   },
   "outputs": [
    {
     "name": "stdout",
     "output_type": "stream",
     "text": [
      "ITERATION 1:\n"
     ]
    },
    {
     "data": {
      "image/png": "[encoded data removed]",
      "text/plain": [
       "<Figure size 432x360 with 1 Axes>"
      ]
     },
     "metadata": {},
     "output_type": "display_data"
    },
    {
     "name": "stdout",
     "output_type": "stream",
     "text": [
      "ITERATION 2:\n"
     ]
    },
    {
     "data": {
      "image/png": "[encoded data removed]",
      "text/plain": [
       "<Figure size 432x360 with 1 Axes>"
      ]
     },
     "metadata": {},
     "output_type": "display_data"
    }
   ],
   "source": [
    "bins = np.linspace(50, 150, 20)\n",
    "\n",
    "for i in range(len(weights)):\n",
    "    print(\"ITERATION {}:\".format(i + 1))\n",
    "    plt.figure(figsize=(6, 5))\n",
    "    hist0 = plt.hist(m_ll_0_G, bins=bins, label=r'Gen.', **plot_style_2)\n",
    "\n",
    "    hist1 = plt.hist(m_ll_0_G,\n",
    "                     bins=bins,\n",
    "                     label='Gen. DCTR wgt.',\n",
    "                     weights=weights[i, 1, :],\n",
    "                     **plot_style_1)\n",
    "    hist2 = plt.hist(m_ll_unknown_G,\n",
    "                     bins=bins,\n",
    "                     label=r'Target (Truth)',\n",
    "                     **plot_style_2)\n",
    "    plt.legend(frameon=False)\n",
    "    plt.xlabel(r\"$m_{\\mu^+\\mu^-}$ [GeV]\")\n",
    "    plt.ylabel(\"Events per bin (normalized)\")\n",
    "    plt.show()"
   ]
  },
  {
   "cell_type": "markdown",
   "metadata": {},
   "source": [
    "### Unfold Number of Charged Particles"
   ]
  },
  {
   "cell_type": "code",
   "execution_count": 25,
   "metadata": {
    "ExecuteTime": {
     "end_time": "2020-11-10T09:56:47.158192Z",
     "start_time": "2020-11-10T09:55:25.096657Z"
    },
    "scrolled": true
   },
   "outputs": [
    {
     "name": "stdout",
     "output_type": "stream",
     "text": [
      "\n",
      "ITERATION: 1\n",
      "\n",
      "STEP 1\n",
      "\n",
      "Train on 466582 samples, validate on 155528 samples\n",
      "Epoch 1/200\n",
      "466582/466582 [==============================] - 2s 5us/step - loss: 0.6932 - acc: 0.4999 - val_loss: 0.6931 - val_acc: 0.5018\n",
      "Epoch 2/200\n",
      "466582/466582 [==============================] - 1s 2us/step - loss: 0.6932 - acc: 0.4999 - val_loss: 0.6931 - val_acc: 0.5018\n",
      "Epoch 3/200\n",
      "466582/466582 [==============================] - 1s 2us/step - loss: 0.6932 - acc: 0.4985 - val_loss: 0.6932 - val_acc: 0.4982\n",
      "Epoch 4/200\n",
      "466582/466582 [==============================] - 1s 2us/step - loss: 0.6932 - acc: 0.5005 - val_loss: 0.6932 - val_acc: 0.4982\n",
      "Epoch 5/200\n",
      "466582/466582 [==============================] - 1s 2us/step - loss: 0.6932 - acc: 0.5006 - val_loss: 0.6932 - val_acc: 0.4982\n",
      "Epoch 6/200\n",
      "466582/466582 [==============================] - 1s 2us/step - loss: 0.6932 - acc: 0.4998 - val_loss: 0.6933 - val_acc: 0.4982\n",
      "Epoch 7/200\n",
      "466582/466582 [==============================] - 1s 2us/step - loss: 0.6932 - acc: 0.5000 - val_loss: 0.6931 - val_acc: 0.5013\n",
      "Epoch 8/200\n",
      "466582/466582 [==============================] - 1s 2us/step - loss: 0.6932 - acc: 0.4997 - val_loss: 0.6932 - val_acc: 0.4982\n",
      "Epoch 9/200\n",
      "466582/466582 [==============================] - 1s 2us/step - loss: 0.6932 - acc: 0.5002 - val_loss: 0.6932 - val_acc: 0.5018\n",
      "Epoch 10/200\n",
      "466582/466582 [==============================] - 1s 2us/step - loss: 0.6932 - acc: 0.5002 - val_loss: 0.6932 - val_acc: 0.4982\n",
      "Epoch 11/200\n",
      "466582/466582 [==============================] - 1s 2us/step - loss: 0.6932 - acc: 0.5008 - val_loss: 0.6931 - val_acc: 0.5018\n",
      "Restoring model weights from the end of the best epoch\n",
      "Epoch 00011: early stopping\n",
      "\n",
      "STEP 2\n",
      "\n",
      "Train on 466582 samples, validate on 155528 samples\n",
      "Epoch 1/200\n",
      "466582/466582 [==============================] - 2s 5us/step - loss: 0.6919 - acc: 0.4997 - val_loss: 0.6919 - val_acc: 0.5000\n",
      "Epoch 2/200\n",
      "466582/466582 [==============================] - 1s 2us/step - loss: 0.6919 - acc: 0.4998 - val_loss: 0.6919 - val_acc: 0.4994\n",
      "Epoch 3/200\n",
      "466582/466582 [==============================] - 1s 2us/step - loss: 0.6919 - acc: 0.4993 - val_loss: 0.6919 - val_acc: 0.5000\n",
      "Epoch 4/200\n",
      "466582/466582 [==============================] - 1s 2us/step - loss: 0.6919 - acc: 0.4991 - val_loss: 0.6919 - val_acc: 0.5000\n",
      "Epoch 5/200\n",
      "466582/466582 [==============================] - 1s 2us/step - loss: 0.6919 - acc: 0.5001 - val_loss: 0.6919 - val_acc: 0.5001\n",
      "Epoch 6/200\n",
      "466582/466582 [==============================] - 1s 2us/step - loss: 0.6919 - acc: 0.4993 - val_loss: 0.6919 - val_acc: 0.5009\n",
      "Epoch 7/200\n",
      "466582/466582 [==============================] - 1s 2us/step - loss: 0.6919 - acc: 0.5011 - val_loss: 0.6919 - val_acc: 0.5000\n",
      "Epoch 8/200\n",
      "466582/466582 [==============================] - 1s 2us/step - loss: 0.6919 - acc: 0.4990 - val_loss: 0.6919 - val_acc: 0.5005\n",
      "Epoch 9/200\n",
      "466582/466582 [==============================] - 1s 2us/step - loss: 0.6919 - acc: 0.4995 - val_loss: 0.6919 - val_acc: 0.4997\n",
      "Epoch 10/200\n",
      "466582/466582 [==============================] - 1s 2us/step - loss: 0.6919 - acc: 0.5004 - val_loss: 0.6919 - val_acc: 0.5000\n",
      "Epoch 11/200\n",
      "466582/466582 [==============================] - 1s 2us/step - loss: 0.6919 - acc: 0.5001 - val_loss: 0.6919 - val_acc: 0.5000\n",
      "Epoch 12/200\n",
      "466582/466582 [==============================] - 1s 2us/step - loss: 0.6919 - acc: 0.5005 - val_loss: 0.6919 - val_acc: 0.5000\n",
      "Epoch 13/200\n",
      "466582/466582 [==============================] - 1s 2us/step - loss: 0.6919 - acc: 0.5003 - val_loss: 0.6919 - val_acc: 0.4999\n",
      "Epoch 14/200\n",
      "466582/466582 [==============================] - 1s 2us/step - loss: 0.6919 - acc: 0.5011 - val_loss: 0.6919 - val_acc: 0.5000\n",
      "Restoring model weights from the end of the best epoch\n",
      "Epoch 00014: early stopping\n",
      "\n",
      "ITERATION: 2\n",
      "\n",
      "STEP 1\n",
      "\n",
      "Train on 466582 samples, validate on 155528 samples\n",
      "Epoch 1/200\n",
      "466582/466582 [==============================] - 2s 5us/step - loss: 0.6916 - acc: 0.4984 - val_loss: 0.6916 - val_acc: 0.4997\n",
      "Epoch 2/200\n",
      "466582/466582 [==============================] - 1s 2us/step - loss: 0.6916 - acc: 0.4989 - val_loss: 0.6916 - val_acc: 0.4996\n",
      "Epoch 3/200\n",
      "466582/466582 [==============================] - 1s 2us/step - loss: 0.6915 - acc: 0.5015 - val_loss: 0.6916 - val_acc: 0.5003\n",
      "Epoch 4/200\n",
      "466582/466582 [==============================] - 1s 2us/step - loss: 0.6916 - acc: 0.5006 - val_loss: 0.6916 - val_acc: 0.4999\n",
      "Epoch 5/200\n",
      "466582/466582 [==============================] - 1s 2us/step - loss: 0.6916 - acc: 0.4991 - val_loss: 0.6916 - val_acc: 0.4987\n",
      "Epoch 6/200\n",
      "466582/466582 [==============================] - 1s 2us/step - loss: 0.6916 - acc: 0.4998 - val_loss: 0.6916 - val_acc: 0.4997\n",
      "Epoch 7/200\n",
      "466582/466582 [==============================] - 1s 2us/step - loss: 0.6916 - acc: 0.4995 - val_loss: 0.6916 - val_acc: 0.4996\n",
      "Epoch 8/200\n",
      "466582/466582 [==============================] - 1s 2us/step - loss: 0.6916 - acc: 0.4994 - val_loss: 0.6916 - val_acc: 0.4997\n",
      "Epoch 9/200\n",
      "466582/466582 [==============================] - 1s 2us/step - loss: 0.6916 - acc: 0.5001 - val_loss: 0.6916 - val_acc: 0.4997\n",
      "Epoch 10/200\n",
      "466582/466582 [==============================] - 1s 2us/step - loss: 0.6916 - acc: 0.4997 - val_loss: 0.6916 - val_acc: 0.4980\n",
      "Epoch 11/200\n",
      "466582/466582 [==============================] - 1s 2us/step - loss: 0.6916 - acc: 0.4994 - val_loss: 0.6916 - val_acc: 0.4997\n",
      "Epoch 12/200\n",
      "466582/466582 [==============================] - 1s 2us/step - loss: 0.6916 - acc: 0.4994 - val_loss: 0.6916 - val_acc: 0.4997\n",
      "Epoch 13/200\n",
      "466582/466582 [==============================] - 1s 2us/step - loss: 0.6916 - acc: 0.4998 - val_loss: 0.6916 - val_acc: 0.5005\n",
      "Epoch 14/200\n",
      "466582/466582 [==============================] - 1s 2us/step - loss: 0.6916 - acc: 0.5004 - val_loss: 0.6916 - val_acc: 0.4991\n",
      "Epoch 15/200\n",
      "466582/466582 [==============================] - 1s 2us/step - loss: 0.6916 - acc: 0.5003 - val_loss: 0.6916 - val_acc: 0.5003\n",
      "Epoch 16/200\n",
      "466582/466582 [==============================] - 1s 2us/step - loss: 0.6916 - acc: 0.5000 - val_loss: 0.6916 - val_acc: 0.4997\n",
      "Epoch 17/200\n",
      "466582/466582 [==============================] - 1s 2us/step - loss: 0.6915 - acc: 0.5000 - val_loss: 0.6916 - val_acc: 0.4997\n",
      "Epoch 18/200\n",
      "466582/466582 [==============================] - 1s 2us/step - loss: 0.6916 - acc: 0.5003 - val_loss: 0.6916 - val_acc: 0.4997\n",
      "Epoch 19/200\n",
      "466582/466582 [==============================] - 1s 2us/step - loss: 0.6916 - acc: 0.4996 - val_loss: 0.6916 - val_acc: 0.4997\n",
      "Epoch 20/200\n",
      "466582/466582 [==============================] - 1s 2us/step - loss: 0.6916 - acc: 0.4995 - val_loss: 0.6916 - val_acc: 0.4997\n",
      "Epoch 21/200\n",
      "466582/466582 [==============================] - 1s 2us/step - loss: 0.6916 - acc: 0.5002 - val_loss: 0.6916 - val_acc: 0.4997\n",
      "Epoch 22/200\n",
      "466582/466582 [==============================] - 1s 2us/step - loss: 0.6916 - acc: 0.5005 - val_loss: 0.6916 - val_acc: 0.4997\n",
      "Epoch 23/200\n",
      "466582/466582 [==============================] - 1s 2us/step - loss: 0.6916 - acc: 0.4994 - val_loss: 0.6916 - val_acc: 0.4997\n",
      "Epoch 24/200\n",
      "466582/466582 [==============================] - 1s 2us/step - loss: 0.6916 - acc: 0.4999 - val_loss: 0.6916 - val_acc: 0.4997\n",
      "Epoch 25/200\n",
      "466582/466582 [==============================] - 1s 2us/step - loss: 0.6916 - acc: 0.5004 - val_loss: 0.6916 - val_acc: 0.4997\n",
      "Epoch 26/200\n",
      "466582/466582 [==============================] - 1s 2us/step - loss: 0.6916 - acc: 0.5001 - val_loss: 0.6916 - val_acc: 0.4997\n",
      "Epoch 27/200\n",
      "466582/466582 [==============================] - 1s 2us/step - loss: 0.6916 - acc: 0.5001 - val_loss: 0.6916 - val_acc: 0.4997\n",
      "Epoch 28/200\n",
      "466582/466582 [==============================] - 1s 2us/step - loss: 0.6916 - acc: 0.5001 - val_loss: 0.6916 - val_acc: 0.4997\n",
      "Epoch 29/200\n",
      "466582/466582 [==============================] - 1s 2us/step - loss: 0.6916 - acc: 0.4997 - val_loss: 0.6916 - val_acc: 0.4997\n",
      "Epoch 30/200\n",
      "466582/466582 [==============================] - 1s 2us/step - loss: 0.6916 - acc: 0.4993 - val_loss: 0.6916 - val_acc: 0.4997\n",
      "Epoch 31/200\n",
      "466582/466582 [==============================] - 1s 2us/step - loss: 0.6916 - acc: 0.5000 - val_loss: 0.6916 - val_acc: 0.4997\n",
      "Epoch 32/200\n"
     ]
    },
    {
     "name": "stdout",
     "output_type": "stream",
     "text": [
      "466582/466582 [==============================] - 1s 2us/step - loss: 0.6916 - acc: 0.5002 - val_loss: 0.6916 - val_acc: 0.4998\n",
      "Epoch 33/200\n",
      "466582/466582 [==============================] - 1s 2us/step - loss: 0.6916 - acc: 0.5000 - val_loss: 0.6915 - val_acc: 0.5000\n",
      "Epoch 34/200\n",
      "466582/466582 [==============================] - 1s 2us/step - loss: 0.6915 - acc: 0.5002 - val_loss: 0.6915 - val_acc: 0.5006\n",
      "Epoch 35/200\n",
      "466582/466582 [==============================] - 1s 2us/step - loss: 0.6916 - acc: 0.4999 - val_loss: 0.6916 - val_acc: 0.4997\n",
      "Epoch 36/200\n",
      "466582/466582 [==============================] - 1s 2us/step - loss: 0.6915 - acc: 0.4999 - val_loss: 0.6916 - val_acc: 0.4997\n",
      "Epoch 37/200\n",
      "466582/466582 [==============================] - 1s 2us/step - loss: 0.6915 - acc: 0.5001 - val_loss: 0.6915 - val_acc: 0.5000\n",
      "Epoch 38/200\n",
      "466582/466582 [==============================] - 1s 2us/step - loss: 0.6916 - acc: 0.5000 - val_loss: 0.6916 - val_acc: 0.4997\n",
      "Epoch 39/200\n",
      "466582/466582 [==============================] - 1s 2us/step - loss: 0.6915 - acc: 0.5003 - val_loss: 0.6916 - val_acc: 0.4984\n",
      "Epoch 40/200\n",
      "466582/466582 [==============================] - 1s 2us/step - loss: 0.6916 - acc: 0.5004 - val_loss: 0.6916 - val_acc: 0.4997\n",
      "Epoch 41/200\n",
      "466582/466582 [==============================] - 1s 2us/step - loss: 0.6916 - acc: 0.4996 - val_loss: 0.6916 - val_acc: 0.4974\n",
      "Epoch 42/200\n",
      "466582/466582 [==============================] - 1s 2us/step - loss: 0.6915 - acc: 0.5001 - val_loss: 0.6915 - val_acc: 0.4997\n",
      "Epoch 43/200\n",
      "466582/466582 [==============================] - 1s 2us/step - loss: 0.6916 - acc: 0.5009 - val_loss: 0.6916 - val_acc: 0.4997\n",
      "Restoring model weights from the end of the best epoch\n",
      "Epoch 00043: early stopping\n",
      "\n",
      "STEP 2\n",
      "\n",
      "Train on 466582 samples, validate on 155528 samples\n",
      "Epoch 1/200\n",
      "466582/466582 [==============================] - 2s 5us/step - loss: 0.6923 - acc: 0.4990 - val_loss: 0.6923 - val_acc: 0.5000\n",
      "Epoch 2/200\n",
      "466582/466582 [==============================] - 1s 2us/step - loss: 0.6923 - acc: 0.4998 - val_loss: 0.6923 - val_acc: 0.5023\n",
      "Epoch 3/200\n",
      "466582/466582 [==============================] - 1s 2us/step - loss: 0.6922 - acc: 0.4998 - val_loss: 0.6923 - val_acc: 0.4980\n",
      "Epoch 4/200\n",
      "466582/466582 [==============================] - 1s 2us/step - loss: 0.6923 - acc: 0.4980 - val_loss: 0.6923 - val_acc: 0.4980\n",
      "Epoch 5/200\n",
      "466582/466582 [==============================] - 1s 2us/step - loss: 0.6922 - acc: 0.4992 - val_loss: 0.6923 - val_acc: 0.4980\n",
      "Epoch 6/200\n",
      "466582/466582 [==============================] - 1s 2us/step - loss: 0.6922 - acc: 0.5000 - val_loss: 0.6923 - val_acc: 0.4986\n",
      "Epoch 7/200\n",
      "466582/466582 [==============================] - 1s 2us/step - loss: 0.6922 - acc: 0.4995 - val_loss: 0.6923 - val_acc: 0.4987\n",
      "Epoch 8/200\n",
      "466582/466582 [==============================] - 1s 2us/step - loss: 0.6922 - acc: 0.5000 - val_loss: 0.6923 - val_acc: 0.4995\n",
      "Epoch 9/200\n",
      "466582/466582 [==============================] - 1s 2us/step - loss: 0.6922 - acc: 0.4996 - val_loss: 0.6923 - val_acc: 0.5020\n",
      "Epoch 10/200\n",
      "466582/466582 [==============================] - 1s 2us/step - loss: 0.6922 - acc: 0.4991 - val_loss: 0.6923 - val_acc: 0.4983\n",
      "Epoch 11/200\n",
      "466582/466582 [==============================] - 1s 2us/step - loss: 0.6923 - acc: 0.4996 - val_loss: 0.6923 - val_acc: 0.5020\n",
      "Epoch 12/200\n",
      "466582/466582 [==============================] - 1s 2us/step - loss: 0.6922 - acc: 0.5004 - val_loss: 0.6923 - val_acc: 0.4993\n",
      "Restoring model weights from the end of the best epoch\n",
      "Epoch 00012: early stopping\n"
     ]
    }
   ],
   "source": [
    "# simple / 100. standardization s.t. data is of order ~1\n",
    "\n",
    "weights, _ = unifold(iterations=2,\n",
    "                     theta0_G=nTracks_0_G / 100.,\n",
    "                     theta0_S=nTracks_0_S / 100.,\n",
    "                     theta_unknown_S=nTracks_unknown_S / 100.)"
   ]
  },
  {
   "cell_type": "code",
   "execution_count": 26,
   "metadata": {
    "ExecuteTime": {
     "end_time": "2020-11-10T09:56:48.179065Z",
     "start_time": "2020-11-10T09:56:47.161624Z"
    }
   },
   "outputs": [
    {
     "name": "stdout",
     "output_type": "stream",
     "text": [
      "ITERATION 1:\n"
     ]
    },
    {
     "data": {
      "image/png": "[encoded data removed]",
      "text/plain": [
       "<Figure size 432x360 with 1 Axes>"
      ]
     },
     "metadata": {},
     "output_type": "display_data"
    },
    {
     "name": "stdout",
     "output_type": "stream",
     "text": [
      "ITERATION 2:\n"
     ]
    },
    {
     "data": {
      "image/png": "[encoded data removed]",
      "text/plain": [
       "<Figure size 432x360 with 1 Axes>"
      ]
     },
     "metadata": {},
     "output_type": "display_data"
    }
   ],
   "source": [
    "bins = np.linspace(0, 250, 20)\n",
    "\n",
    "for i in range(len(weights)):\n",
    "    print(\"ITERATION {}:\".format(i + 1))\n",
    "    plt.figure(figsize=(6, 5))\n",
    "    hist0 = plt.hist(nTracks_0_G, bins=bins, label=r'Gen.', **plot_style_2)\n",
    "\n",
    "    hist1 = plt.hist(nTracks_0_G,\n",
    "                     bins=bins,\n",
    "                     label='Gen. DCTR wgt.',\n",
    "                     weights=weights[i, 1, :],\n",
    "                     **plot_style_1)\n",
    "    hist2 = plt.hist(nTracks_unknown_G,\n",
    "                     bins=bins,\n",
    "                     label=r'Target (Truth)',\n",
    "                     **plot_style_2)\n",
    "    plt.legend(frameon=False)\n",
    "    plt.xlabel(r\"Number of Charged Particles\")\n",
    "    plt.ylabel(\"Events per bin (normalized)\")\n",
    "    plt.show()"
   ]
  },
  {
   "cell_type": "markdown",
   "metadata": {},
   "source": [
    "## Multifold\n",
    "\n",
    "Unfold the distributions for $m_{\\mu^+\\mu^-}$ and the number of charged particles simultaneously.\n",
    "\n",
    "*** As of this time, simulation with only one set of generator parameters is available. So, we will split this simulation in half, using one half as the nominal synthetic dataset, and the other half as the unknown \"natural\" dataset."
   ]
  },
  {
   "cell_type": "code",
   "execution_count": 27,
   "metadata": {
    "ExecuteTime": {
     "end_time": "2020-11-10T09:56:48.216235Z",
     "start_time": "2020-11-10T09:56:48.180413Z"
    }
   },
   "outputs": [
    {
     "name": "stdout",
     "output_type": "stream",
     "text": [
      "WARNING:tensorflow:From /home/asuresh/programs/anaconda3/envs/omnifold/lib/python3.7/site-packages/keras/backend/tensorflow_backend.py:95: The name tf.reset_default_graph is deprecated. Please use tf.compat.v1.reset_default_graph instead.\n",
      "\n",
      "WARNING:tensorflow:From /home/asuresh/programs/anaconda3/envs/omnifold/lib/python3.7/site-packages/keras/backend/tensorflow_backend.py:98: The name tf.placeholder_with_default is deprecated. Please use tf.compat.v1.placeholder_with_default instead.\n",
      "\n"
     ]
    }
   ],
   "source": [
    "K.clear_session()"
   ]
  },
  {
   "cell_type": "markdown",
   "metadata": {},
   "source": [
    "### Setup datasets"
   ]
  },
  {
   "cell_type": "code",
   "execution_count": 28,
   "metadata": {
    "ExecuteTime": {
     "end_time": "2020-11-10T09:56:48.358489Z",
     "start_time": "2020-11-10T09:56:48.217562Z"
    }
   },
   "outputs": [],
   "source": [
    "# Only one simulation, so split into nominal and \"uknown\" sample for now\n",
    "\n",
    "m_ll_0_G, m_ll_unknown_G, m_ll_0_S, m_ll_unknown_S, nTracks_0_G, nTracks_unknown_G, nTracks_0_S, nTracks_unknown_S = train_test_split(\n",
    "    Events.events['truth_m_ll'][mypass],\n",
    "    Events.events['m_ll'][mypass],\n",
    "    np.array(ntrack_Gen),\n",
    "    np.array(ntrack_Sim),\n",
    "    test_size=0.5)"
   ]
  },
  {
   "cell_type": "code",
   "execution_count": 29,
   "metadata": {
    "ExecuteTime": {
     "end_time": "2020-11-10T09:56:50.940834Z",
     "start_time": "2020-11-10T09:56:48.360161Z"
    }
   },
   "outputs": [
    {
     "data": {
      "image/png": "[encoded data removed]",
      "text/plain": [
       "<Figure size 864x720 with 4 Axes>"
      ]
     },
     "metadata": {},
     "output_type": "display_data"
    }
   ],
   "source": [
    "fig, ax = plt.subplots(2,\n",
    "                       2,\n",
    "                       figsize=(12, 10),\n",
    "                       constrained_layout=True,\n",
    "                       sharey='row')\n",
    "\n",
    "bins = np.linspace(50, 150, 20)\n",
    "\n",
    "ax[0, 0].set_title('Synthetic')\n",
    "ax[0, 0].set_xlabel('$m_{\\mu^+\\mu^-}$ [GeV]')\n",
    "ax[0, 0].set_ylabel('Events per bin')\n",
    "hG0, _, _ = ax[0, 0].hist(m_ll_0_G, bins=bins, alpha=0.5, label='Generation')\n",
    "hS0, _, _ = ax[0, 0].hist(m_ll_0_S, bins=bins, alpha=0.5, label='Simulation')\n",
    "legend = ax[0, 0].legend(loc='upper right', frameon=False)\n",
    "plt.setp(legend.get_title(), multialignment='center')\n",
    "\n",
    "ax[0, 1].set_title('\"Natural\"')\n",
    "ax[0, 1].set_xlabel('$m_{\\mu^+\\mu^-}$ [GeV]')\n",
    "hG1, _, _ = ax[0, 1].hist(m_ll_unknown_G, bins=bins, alpha=0.5, label='Truth')\n",
    "hS1, _, _ = ax[0, 1].hist(m_ll_unknown_S,\n",
    "                          bins=bins,\n",
    "                          alpha=0.5,\n",
    "                          label='Detector')\n",
    "legend = ax[0, 1].legend(loc='upper right', frameon=False)\n",
    "plt.setp(legend.get_title(), multialignment='center')\n",
    "\n",
    "bins = np.linspace(0, 250, 20)\n",
    "\n",
    "ax[1, 0].set_xlabel('Number of Charged Particles')\n",
    "ax[1, 0].set_ylabel('Events per bin')\n",
    "hG0, _, _ = ax[1, 0].hist(nTracks_0_G,\n",
    "                          bins=bins,\n",
    "                          alpha=0.5,\n",
    "                          label='Generation')\n",
    "hS0, _, _ = ax[1, 0].hist(nTracks_0_S,\n",
    "                          bins=bins,\n",
    "                          alpha=0.5,\n",
    "                          label='Simulation')\n",
    "legend = ax[1, 0].legend(loc='upper right', frameon=False)\n",
    "plt.setp(legend.get_title(), multialignment='center')\n",
    "\n",
    "ax[1, 1].set_xlabel('Number of Charged Particles')\n",
    "hG1, _, _ = ax[1, 1].hist(nTracks_unknown_G,\n",
    "                          bins=bins,\n",
    "                          alpha=0.5,\n",
    "                          label='Truth')\n",
    "hS1, _, _ = ax[1, 1].hist(nTracks_unknown_S,\n",
    "                          bins=bins,\n",
    "                          alpha=0.5,\n",
    "                          label='Detector')\n",
    "legend = ax[1, 1].legend(loc='upper right', frameon=False)\n",
    "plt.setp(legend.get_title(), multialignment='center')\n",
    "\n",
    "# plt.ylim([0,1.5*np.max(np.concatenate((hG0, hG1, hS0, hS1)))])\n",
    "\n",
    "fig.show()"
   ]
  },
  {
   "cell_type": "markdown",
   "metadata": {},
   "source": [
    "### Define MultiFold Algorithm"
   ]
  },
  {
   "cell_type": "code",
   "execution_count": 30,
   "metadata": {
    "ExecuteTime": {
     "end_time": "2020-11-10T09:56:51.039276Z",
     "start_time": "2020-11-10T09:56:50.942604Z"
    }
   },
   "outputs": [],
   "source": [
    "# Input multiple observables as tuple or list (i.e. theta0_G = (obs_1, obs_2, ...))\n",
    "\"\"\"    Arguments:\n",
    "        num_observables: number of observables to \n",
    "                            simultaneously unfold (integer)\n",
    "                            \n",
    "        iterations: number of iterations (integer)\n",
    "        \n",
    "        theta0_G: tuple or list of nominal \n",
    "                    generation-level observables as Numpy arrays\n",
    "                    \n",
    "        theta0_S: tuple or list of nominal \n",
    "                    simulation-level observables as Numpy arrays\n",
    "                    \n",
    "        theta_unknown_S: tuple or list of \"natural\" \n",
    "                            (unknown) simulation-level observables \n",
    "                            to be unfolded as Numpy arrays\n",
    "        \n",
    "        Returns:\n",
    "        - A Numpy array of weights to reweight distributions in \n",
    "        theta0_G to the unfolded distribution of theta_unknown_S\n",
    "        \n",
    "        - The model used to calculate those weights\n",
    "\"\"\"\n",
    "\n",
    "\n",
    "def multifold(num_observables, iterations, theta0_G, theta0_S,\n",
    "              theta_unknown_S):\n",
    "\n",
    "    theta0_G = np.stack(theta0_G, axis=1)\n",
    "    theta0_S = np.stack(theta0_S, axis=1)\n",
    "    theta_unknown_S = np.stack(theta_unknown_S, axis=1)\n",
    "\n",
    "    labels0 = np.zeros(len(theta0_G))\n",
    "    labels_unknown = np.ones(len(theta_unknown_S))\n",
    "\n",
    "    xvals_1 = np.concatenate((theta0_S, theta_unknown_S))\n",
    "    yvals_1 = np.concatenate((labels0, labels_unknown))\n",
    "\n",
    "    xvals_2 = np.concatenate((theta0_G, theta0_G))\n",
    "    yvals_2 = np.concatenate((labels0, labels_unknown))\n",
    "\n",
    "    weights = np.empty(shape=(iterations, 2, len(theta0_G)))\n",
    "    # shape = (iteration, step, event)\n",
    "\n",
    "    weights_pull = np.ones(len(theta0_S))\n",
    "    weights_push = np.ones(len(theta0_G))\n",
    "\n",
    "    inputs = Input((num_observables, ))\n",
    "    hidden_layer_1 = Dense(50, activation='relu')(inputs)\n",
    "    hidden_layer_2 = Dense(50, activation='relu')(hidden_layer_1)\n",
    "    hidden_layer_3 = Dense(50, activation='relu')(hidden_layer_2)\n",
    "    outputs = Dense(1, activation='sigmoid')(hidden_layer_3)\n",
    "\n",
    "    model = Model(inputs=inputs, outputs=outputs)\n",
    "\n",
    "    earlystopping = EarlyStopping(patience=10,\n",
    "                                  verbose=1,\n",
    "                                  restore_best_weights=True)\n",
    "\n",
    "    # from NN (DCTR)\n",
    "    def reweight(events):\n",
    "        f = model.predict(events, batch_size=10000)\n",
    "        weights = f / (1. - f)\n",
    "        return np.squeeze(weights)\n",
    "\n",
    "    for i in range(iterations):\n",
    "        print(\"\\nITERATION: {}\\n\".format(i + 1))\n",
    "\n",
    "        # STEP 1: classify Sim. (which is reweighted by weights_push) to Data\n",
    "        # weights reweighted Sim. --> Data\n",
    "        print(\"STEP 1\\n\")\n",
    "\n",
    "        weights_1 = np.concatenate(\n",
    "            (weights_push, np.ones(len(theta_unknown_S))))\n",
    "        # actual weights for Sim., ones for Data\n",
    "\n",
    "        X_train_1, X_test_1, Y_train_1, Y_test_1, w_train_1, w_test_1 = train_test_split(\n",
    "            xvals_1, yvals_1, weights_1)\n",
    "\n",
    "        model.compile(loss='binary_crossentropy',\n",
    "                      optimizer='Adam',\n",
    "                      metrics=['accuracy'])\n",
    "        model.fit(X_train_1,\n",
    "                  Y_train_1,\n",
    "                  sample_weight=w_train_1,\n",
    "                  epochs=200,\n",
    "                  batch_size=10000,\n",
    "                  validation_data=(X_test_1, Y_test_1, w_test_1),\n",
    "                  callbacks=[earlystopping],\n",
    "                  verbose=1)\n",
    "\n",
    "        weights_pull = weights_push * reweight(theta0_S)\n",
    "        weights[i, :1, :] = weights_pull\n",
    "\n",
    "        # STEP 2: classify Gen. to reweighted Gen. (which is reweighted by weights_pull)\n",
    "        # weights Gen. --> reweighted Gen.\n",
    "        print(\"\\nSTEP 2\\n\")\n",
    "\n",
    "        weights_2 = np.concatenate((np.ones(len(theta0_G)), weights_pull))\n",
    "        # ones for Gen., actual weights for (reweighted) Gen.\n",
    "\n",
    "        X_train_2, X_test_2, Y_train_2, Y_test_2, w_train_2, w_test_2 = train_test_split(\n",
    "            xvals_2, yvals_2, weights_2)\n",
    "\n",
    "        model.compile(loss='binary_crossentropy',\n",
    "                      optimizer='Adam',\n",
    "                      metrics=['accuracy'])\n",
    "        model.fit(X_train_2,\n",
    "                  Y_train_2,\n",
    "                  sample_weight=w_train_2,\n",
    "                  epochs=200,\n",
    "                  batch_size=10000,\n",
    "                  validation_data=(X_test_2, Y_test_2, w_test_2),\n",
    "                  callbacks=[earlystopping],\n",
    "                  verbose=1)\n",
    "\n",
    "        weights_push = reweight(theta0_G)\n",
    "        weights[i, 1:2, :] = weights_pull\n",
    "\n",
    "    return weights, model"
   ]
  },
  {
   "cell_type": "markdown",
   "metadata": {},
   "source": [
    "### Unfold $m_{\\mu^+\\mu^-}$ and Number of Charged Particles Simultaneously"
   ]
  },
  {
   "cell_type": "code",
   "execution_count": 31,
   "metadata": {
    "ExecuteTime": {
     "end_time": "2020-11-10T09:58:24.125517Z",
     "start_time": "2020-11-10T09:56:51.040578Z"
    }
   },
   "outputs": [
    {
     "name": "stdout",
     "output_type": "stream",
     "text": [
      "\n",
      "ITERATION: 1\n",
      "\n",
      "STEP 1\n",
      "\n",
      "Train on 466582 samples, validate on 155528 samples\n",
      "Epoch 1/200\n",
      "466582/466582 [==============================] - 2s 4us/step - loss: 0.6932 - acc: 0.4994 - val_loss: 0.6932 - val_acc: 0.4992\n",
      "Epoch 2/200\n",
      "466582/466582 [==============================] - 1s 2us/step - loss: 0.6932 - acc: 0.4994 - val_loss: 0.6932 - val_acc: 0.4989\n",
      "Epoch 3/200\n",
      "466582/466582 [==============================] - 1s 2us/step - loss: 0.6932 - acc: 0.5006 - val_loss: 0.6932 - val_acc: 0.4990\n",
      "Epoch 4/200\n",
      "466582/466582 [==============================] - 1s 2us/step - loss: 0.6932 - acc: 0.4990 - val_loss: 0.6932 - val_acc: 0.4998\n",
      "Epoch 5/200\n",
      "466582/466582 [==============================] - 1s 2us/step - loss: 0.6932 - acc: 0.5009 - val_loss: 0.6932 - val_acc: 0.5001\n",
      "Epoch 6/200\n",
      "466582/466582 [==============================] - 1s 2us/step - loss: 0.6932 - acc: 0.4999 - val_loss: 0.6932 - val_acc: 0.4988\n",
      "Epoch 7/200\n",
      "466582/466582 [==============================] - 1s 2us/step - loss: 0.6932 - acc: 0.5002 - val_loss: 0.6932 - val_acc: 0.4997\n",
      "Epoch 8/200\n",
      "466582/466582 [==============================] - 1s 2us/step - loss: 0.6931 - acc: 0.5017 - val_loss: 0.6932 - val_acc: 0.4990\n",
      "Epoch 9/200\n",
      "466582/466582 [==============================] - 1s 2us/step - loss: 0.6932 - acc: 0.5001 - val_loss: 0.6932 - val_acc: 0.5000\n",
      "Epoch 10/200\n",
      "466582/466582 [==============================] - 1s 2us/step - loss: 0.6932 - acc: 0.4996 - val_loss: 0.6932 - val_acc: 0.5010\n",
      "Epoch 11/200\n",
      "466582/466582 [==============================] - 1s 2us/step - loss: 0.6932 - acc: 0.4985 - val_loss: 0.6932 - val_acc: 0.5010\n",
      "Epoch 12/200\n",
      "466582/466582 [==============================] - 1s 2us/step - loss: 0.6932 - acc: 0.5008 - val_loss: 0.6932 - val_acc: 0.4982\n",
      "Epoch 13/200\n",
      "466582/466582 [==============================] - 1s 2us/step - loss: 0.6932 - acc: 0.5000 - val_loss: 0.6932 - val_acc: 0.5010\n",
      "Epoch 14/200\n",
      "466582/466582 [==============================] - 1s 2us/step - loss: 0.6932 - acc: 0.5002 - val_loss: 0.6932 - val_acc: 0.4989\n",
      "Epoch 15/200\n",
      "466582/466582 [==============================] - 1s 2us/step - loss: 0.6932 - acc: 0.4997 - val_loss: 0.6932 - val_acc: 0.4981\n",
      "Restoring model weights from the end of the best epoch\n",
      "Epoch 00015: early stopping\n",
      "\n",
      "STEP 2\n",
      "\n",
      "Train on 466582 samples, validate on 155528 samples\n",
      "Epoch 1/200\n",
      "466582/466582 [==============================] - 2s 4us/step - loss: 0.6942 - acc: 0.5000 - val_loss: 0.6942 - val_acc: 0.4990\n",
      "Epoch 2/200\n",
      "466582/466582 [==============================] - 1s 2us/step - loss: 0.6942 - acc: 0.5000 - val_loss: 0.6942 - val_acc: 0.4990\n",
      "Epoch 3/200\n",
      "466582/466582 [==============================] - 1s 2us/step - loss: 0.6942 - acc: 0.5005 - val_loss: 0.6942 - val_acc: 0.4997\n",
      "Epoch 4/200\n",
      "466582/466582 [==============================] - 1s 2us/step - loss: 0.6942 - acc: 0.5005 - val_loss: 0.6942 - val_acc: 0.5011\n",
      "Epoch 5/200\n",
      "466582/466582 [==============================] - 1s 2us/step - loss: 0.6942 - acc: 0.5003 - val_loss: 0.6942 - val_acc: 0.5001\n",
      "Epoch 6/200\n",
      "466582/466582 [==============================] - 1s 2us/step - loss: 0.6942 - acc: 0.4996 - val_loss: 0.6942 - val_acc: 0.5003\n",
      "Epoch 7/200\n",
      "466582/466582 [==============================] - 1s 2us/step - loss: 0.6942 - acc: 0.5000 - val_loss: 0.6942 - val_acc: 0.4990\n",
      "Epoch 8/200\n",
      "466582/466582 [==============================] - 1s 2us/step - loss: 0.6942 - acc: 0.4991 - val_loss: 0.6942 - val_acc: 0.4990\n",
      "Epoch 9/200\n",
      "466582/466582 [==============================] - 1s 2us/step - loss: 0.6942 - acc: 0.5006 - val_loss: 0.6942 - val_acc: 0.4990\n",
      "Epoch 10/200\n",
      "466582/466582 [==============================] - 1s 2us/step - loss: 0.6942 - acc: 0.5012 - val_loss: 0.6942 - val_acc: 0.4990\n",
      "Epoch 11/200\n",
      "466582/466582 [==============================] - 1s 2us/step - loss: 0.6942 - acc: 0.5000 - val_loss: 0.6942 - val_acc: 0.4992\n",
      "Epoch 12/200\n",
      "466582/466582 [==============================] - 1s 2us/step - loss: 0.6942 - acc: 0.4995 - val_loss: 0.6942 - val_acc: 0.4990\n",
      "Epoch 13/200\n",
      "466582/466582 [==============================] - 1s 2us/step - loss: 0.6942 - acc: 0.5001 - val_loss: 0.6942 - val_acc: 0.4983\n",
      "Restoring model weights from the end of the best epoch\n",
      "Epoch 00013: early stopping\n",
      "\n",
      "ITERATION: 2\n",
      "\n",
      "STEP 1\n",
      "\n",
      "Train on 466582 samples, validate on 155528 samples\n",
      "Epoch 1/200\n",
      "466582/466582 [==============================] - 2s 4us/step - loss: 0.6931 - acc: 0.4979 - val_loss: 0.6931 - val_acc: 0.4985\n",
      "Epoch 2/200\n",
      "466582/466582 [==============================] - 1s 2us/step - loss: 0.6930 - acc: 0.5006 - val_loss: 0.6931 - val_acc: 0.5008\n",
      "Epoch 3/200\n",
      "466582/466582 [==============================] - 1s 2us/step - loss: 0.6931 - acc: 0.5000 - val_loss: 0.6931 - val_acc: 0.4990\n",
      "Epoch 4/200\n",
      "466582/466582 [==============================] - 1s 2us/step - loss: 0.6931 - acc: 0.4994 - val_loss: 0.6931 - val_acc: 0.4979\n",
      "Epoch 5/200\n",
      "466582/466582 [==============================] - 1s 2us/step - loss: 0.6930 - acc: 0.4989 - val_loss: 0.6930 - val_acc: 0.4993\n",
      "Epoch 6/200\n",
      "466582/466582 [==============================] - 1s 2us/step - loss: 0.6930 - acc: 0.4993 - val_loss: 0.6931 - val_acc: 0.4972\n",
      "Epoch 7/200\n",
      "466582/466582 [==============================] - 1s 2us/step - loss: 0.6930 - acc: 0.5011 - val_loss: 0.6931 - val_acc: 0.4978\n",
      "Epoch 8/200\n",
      "466582/466582 [==============================] - 1s 2us/step - loss: 0.6930 - acc: 0.4997 - val_loss: 0.6931 - val_acc: 0.4989\n",
      "Epoch 9/200\n",
      "466582/466582 [==============================] - 1s 2us/step - loss: 0.6930 - acc: 0.5000 - val_loss: 0.6930 - val_acc: 0.4973\n",
      "Epoch 10/200\n",
      "466582/466582 [==============================] - 1s 2us/step - loss: 0.6930 - acc: 0.5008 - val_loss: 0.6931 - val_acc: 0.4991\n",
      "Epoch 11/200\n",
      "466582/466582 [==============================] - 1s 2us/step - loss: 0.6931 - acc: 0.4982 - val_loss: 0.6931 - val_acc: 0.4973\n",
      "Epoch 12/200\n",
      "466582/466582 [==============================] - 1s 2us/step - loss: 0.6930 - acc: 0.5003 - val_loss: 0.6930 - val_acc: 0.5008\n",
      "Epoch 13/200\n",
      "466582/466582 [==============================] - 1s 2us/step - loss: 0.6930 - acc: 0.5003 - val_loss: 0.6931 - val_acc: 0.5008\n",
      "Epoch 14/200\n",
      "466582/466582 [==============================] - 1s 2us/step - loss: 0.6930 - acc: 0.5003 - val_loss: 0.6930 - val_acc: 0.5008\n",
      "Epoch 15/200\n",
      "466582/466582 [==============================] - 1s 2us/step - loss: 0.6930 - acc: 0.4995 - val_loss: 0.6930 - val_acc: 0.5001\n",
      "Restoring model weights from the end of the best epoch\n",
      "Epoch 00015: early stopping\n",
      "\n",
      "STEP 2\n",
      "\n",
      "Train on 466582 samples, validate on 155528 samples\n",
      "Epoch 1/200\n",
      "466582/466582 [==============================] - 2s 4us/step - loss: 0.6929 - acc: 0.4986 - val_loss: 0.6928 - val_acc: 0.4998\n",
      "Epoch 2/200\n",
      "466582/466582 [==============================] - 1s 2us/step - loss: 0.6928 - acc: 0.5006 - val_loss: 0.6928 - val_acc: 0.4998\n",
      "Epoch 3/200\n",
      "466582/466582 [==============================] - 1s 2us/step - loss: 0.6928 - acc: 0.5002 - val_loss: 0.6929 - val_acc: 0.4998\n",
      "Epoch 4/200\n",
      "466582/466582 [==============================] - 1s 2us/step - loss: 0.6928 - acc: 0.5001 - val_loss: 0.6928 - val_acc: 0.4998\n",
      "Epoch 5/200\n",
      "466582/466582 [==============================] - 1s 2us/step - loss: 0.6928 - acc: 0.4998 - val_loss: 0.6928 - val_acc: 0.5000\n",
      "Epoch 6/200\n",
      "466582/466582 [==============================] - 1s 2us/step - loss: 0.6928 - acc: 0.4999 - val_loss: 0.6928 - val_acc: 0.5002\n",
      "Epoch 7/200\n",
      "466582/466582 [==============================] - 1s 2us/step - loss: 0.6928 - acc: 0.4996 - val_loss: 0.6928 - val_acc: 0.5008\n",
      "Epoch 8/200\n",
      "466582/466582 [==============================] - 1s 2us/step - loss: 0.6928 - acc: 0.4990 - val_loss: 0.6928 - val_acc: 0.4996\n",
      "Epoch 9/200\n",
      "466582/466582 [==============================] - 1s 2us/step - loss: 0.6928 - acc: 0.4994 - val_loss: 0.6928 - val_acc: 0.5002\n",
      "Epoch 10/200\n",
      "466582/466582 [==============================] - 1s 2us/step - loss: 0.6928 - acc: 0.4993 - val_loss: 0.6928 - val_acc: 0.4998\n",
      "Epoch 11/200\n",
      "466582/466582 [==============================] - 1s 2us/step - loss: 0.6928 - acc: 0.4998 - val_loss: 0.6928 - val_acc: 0.4998\n",
      "Epoch 12/200\n",
      "466582/466582 [==============================] - 1s 2us/step - loss: 0.6928 - acc: 0.4993 - val_loss: 0.6928 - val_acc: 0.5003\n",
      "Epoch 13/200\n"
     ]
    },
    {
     "name": "stdout",
     "output_type": "stream",
     "text": [
      "466582/466582 [==============================] - 1s 2us/step - loss: 0.6928 - acc: 0.4989 - val_loss: 0.6928 - val_acc: 0.4998\n",
      "Epoch 14/200\n",
      "466582/466582 [==============================] - 1s 2us/step - loss: 0.6928 - acc: 0.5006 - val_loss: 0.6928 - val_acc: 0.4998\n",
      "Epoch 15/200\n",
      "466582/466582 [==============================] - 1s 2us/step - loss: 0.6928 - acc: 0.4993 - val_loss: 0.6928 - val_acc: 0.5003\n",
      "Epoch 16/200\n",
      "466582/466582 [==============================] - 1s 2us/step - loss: 0.6928 - acc: 0.4996 - val_loss: 0.6928 - val_acc: 0.5002\n",
      "Epoch 17/200\n",
      "466582/466582 [==============================] - 1s 2us/step - loss: 0.6928 - acc: 0.4998 - val_loss: 0.6928 - val_acc: 0.5000\n",
      "Epoch 18/200\n",
      "466582/466582 [==============================] - 1s 2us/step - loss: 0.6928 - acc: 0.5003 - val_loss: 0.6928 - val_acc: 0.5002\n",
      "Epoch 19/200\n",
      "466582/466582 [==============================] - 1s 2us/step - loss: 0.6928 - acc: 0.4980 - val_loss: 0.6928 - val_acc: 0.5008\n",
      "Epoch 20/200\n",
      "466582/466582 [==============================] - 1s 2us/step - loss: 0.6928 - acc: 0.4995 - val_loss: 0.6928 - val_acc: 0.4994\n",
      "Epoch 21/200\n",
      "466582/466582 [==============================] - 1s 2us/step - loss: 0.6928 - acc: 0.4998 - val_loss: 0.6928 - val_acc: 0.5006\n",
      "Epoch 22/200\n",
      "466582/466582 [==============================] - 1s 2us/step - loss: 0.6928 - acc: 0.4999 - val_loss: 0.6928 - val_acc: 0.4998\n",
      "Epoch 23/200\n",
      "466582/466582 [==============================] - 1s 2us/step - loss: 0.6928 - acc: 0.4994 - val_loss: 0.6928 - val_acc: 0.4998\n",
      "Epoch 24/200\n",
      "466582/466582 [==============================] - 1s 2us/step - loss: 0.6928 - acc: 0.4987 - val_loss: 0.6928 - val_acc: 0.5002\n",
      "Epoch 25/200\n",
      "466582/466582 [==============================] - 1s 2us/step - loss: 0.6928 - acc: 0.4996 - val_loss: 0.6928 - val_acc: 0.4997\n",
      "Epoch 26/200\n",
      "466582/466582 [==============================] - 1s 2us/step - loss: 0.6928 - acc: 0.5009 - val_loss: 0.6928 - val_acc: 0.5002\n",
      "Epoch 27/200\n",
      "466582/466582 [==============================] - 1s 2us/step - loss: 0.6928 - acc: 0.4989 - val_loss: 0.6928 - val_acc: 0.5002\n",
      "Epoch 28/200\n",
      "466582/466582 [==============================] - 1s 2us/step - loss: 0.6928 - acc: 0.5000 - val_loss: 0.6928 - val_acc: 0.4998\n",
      "Epoch 29/200\n",
      "466582/466582 [==============================] - 1s 2us/step - loss: 0.6928 - acc: 0.4994 - val_loss: 0.6928 - val_acc: 0.4994\n",
      "Epoch 30/200\n",
      "466582/466582 [==============================] - 1s 2us/step - loss: 0.6928 - acc: 0.5000 - val_loss: 0.6928 - val_acc: 0.4995\n",
      "Epoch 31/200\n",
      "466582/466582 [==============================] - 1s 2us/step - loss: 0.6928 - acc: 0.5001 - val_loss: 0.6928 - val_acc: 0.4997\n",
      "Epoch 32/200\n",
      "466582/466582 [==============================] - 1s 2us/step - loss: 0.6928 - acc: 0.4987 - val_loss: 0.6928 - val_acc: 0.4997\n",
      "Epoch 33/200\n",
      "466582/466582 [==============================] - 1s 2us/step - loss: 0.6928 - acc: 0.4995 - val_loss: 0.6928 - val_acc: 0.5002\n",
      "Epoch 34/200\n",
      "466582/466582 [==============================] - 1s 2us/step - loss: 0.6928 - acc: 0.5008 - val_loss: 0.6928 - val_acc: 0.4998\n",
      "Epoch 35/200\n",
      "466582/466582 [==============================] - 1s 2us/step - loss: 0.6928 - acc: 0.4993 - val_loss: 0.6928 - val_acc: 0.4998\n",
      "Epoch 36/200\n",
      "466582/466582 [==============================] - 1s 2us/step - loss: 0.6928 - acc: 0.4990 - val_loss: 0.6928 - val_acc: 0.4998\n",
      "Epoch 37/200\n",
      "466582/466582 [==============================] - 1s 2us/step - loss: 0.6928 - acc: 0.4994 - val_loss: 0.6928 - val_acc: 0.5002\n",
      "Epoch 38/200\n",
      "466582/466582 [==============================] - 1s 2us/step - loss: 0.6928 - acc: 0.4993 - val_loss: 0.6928 - val_acc: 0.4997\n",
      "Epoch 39/200\n",
      "466582/466582 [==============================] - 1s 2us/step - loss: 0.6928 - acc: 0.4992 - val_loss: 0.6928 - val_acc: 0.4998\n",
      "Epoch 40/200\n",
      "466582/466582 [==============================] - 1s 2us/step - loss: 0.6928 - acc: 0.4995 - val_loss: 0.6928 - val_acc: 0.4997\n",
      "Epoch 41/200\n",
      "466582/466582 [==============================] - 1s 2us/step - loss: 0.6928 - acc: 0.4993 - val_loss: 0.6928 - val_acc: 0.4997\n",
      "Epoch 42/200\n",
      "466582/466582 [==============================] - 1s 2us/step - loss: 0.6928 - acc: 0.4991 - val_loss: 0.6928 - val_acc: 0.4998\n",
      "Epoch 43/200\n",
      "466582/466582 [==============================] - 1s 2us/step - loss: 0.6928 - acc: 0.4991 - val_loss: 0.6928 - val_acc: 0.4996\n",
      "Epoch 44/200\n",
      "466582/466582 [==============================] - 1s 2us/step - loss: 0.6928 - acc: 0.4995 - val_loss: 0.6928 - val_acc: 0.4995\n",
      "Epoch 45/200\n",
      "466582/466582 [==============================] - 1s 2us/step - loss: 0.6928 - acc: 0.5000 - val_loss: 0.6928 - val_acc: 0.4993\n",
      "Epoch 46/200\n",
      "466582/466582 [==============================] - 1s 2us/step - loss: 0.6928 - acc: 0.4995 - val_loss: 0.6928 - val_acc: 0.4994\n",
      "Epoch 47/200\n",
      "466582/466582 [==============================] - 1s 2us/step - loss: 0.6928 - acc: 0.4994 - val_loss: 0.6928 - val_acc: 0.4995\n",
      "Restoring model weights from the end of the best epoch\n",
      "Epoch 00047: early stopping\n"
     ]
    }
   ],
   "source": [
    "num_observables = 2\n",
    "\n",
    "# simple / 100. standardization s.t. data is of order ~1\n",
    "\n",
    "weights, _ = multifold(num_observables=num_observables,\n",
    "                       iterations=2,\n",
    "                       theta0_G=(m_ll_0_G / 100., nTracks_0_G / 100.),\n",
    "                       theta0_S=(m_ll_0_S / 100., nTracks_0_S / 100.),\n",
    "                       theta_unknown_S=(m_ll_unknown_S / 100.,\n",
    "                                        nTracks_unknown_S / 100.))"
   ]
  },
  {
   "cell_type": "code",
   "execution_count": 32,
   "metadata": {
    "ExecuteTime": {
     "end_time": "2020-11-10T09:58:26.740280Z",
     "start_time": "2020-11-10T09:58:24.127692Z"
    },
    "scrolled": true
   },
   "outputs": [
    {
     "name": "stdout",
     "output_type": "stream",
     "text": [
      "ITERATION: 1\n"
     ]
    },
    {
     "data": {
      "image/png": "[encoded data removed]",
      "text/plain": [
       "<Figure size 864x432 with 2 Axes>"
      ]
     },
     "metadata": {},
     "output_type": "display_data"
    },
    {
     "name": "stdout",
     "output_type": "stream",
     "text": [
      "ITERATION: 2\n"
     ]
    },
    {
     "data": {
      "image/png": "[encoded data removed]",
      "text/plain": [
       "<Figure size 864x432 with 2 Axes>"
      ]
     },
     "metadata": {},
     "output_type": "display_data"
    }
   ],
   "source": [
    "for i in range(len(weights)):\n",
    "\n",
    "    print(\"ITERATION: {}\".format(i + 1))\n",
    "    bins = np.linspace(50, 150, 20)\n",
    "\n",
    "    fig, ax = plt.subplots(1,\n",
    "                           num_observables,\n",
    "                           figsize=(12, 6),\n",
    "                           constrained_layout=True)\n",
    "    ax[0].set_xlabel('$m_{\\mu^+\\mu^-}$ [GeV]')\n",
    "    ax[0].set_ylabel('Events per bin (Normalized)')\n",
    "    ax[0].hist(m_ll_0_G, bins=bins, label=r'Gen.', **plot_style_2)\n",
    "    ax[0].hist(m_ll_0_G,\n",
    "               bins=bins,\n",
    "               weights=weights[i, 1, :],\n",
    "               label=r'Gen. DCTR wgt.',\n",
    "               **plot_style_1)\n",
    "\n",
    "    ax[0].hist(m_ll_unknown_G,\n",
    "               bins=bins,\n",
    "               label=r'Target (Truth)',\n",
    "               **plot_style_2)\n",
    "    ax[0].legend(frameon=False)\n",
    "\n",
    "    bins = np.linspace(0, 250, 20)\n",
    "\n",
    "    ax[1].set_xlabel('Number of Charged Particles')\n",
    "    ax[1].set_ylabel('Events per bin (Normalized)')\n",
    "    ax[1].hist(nTracks_0_G, bins=bins, label=r'Gen.', **plot_style_2)\n",
    "    ax[1].hist(nTracks_0_G,\n",
    "               bins=bins,\n",
    "               weights=weights[i, 1, :],\n",
    "               label=r'Gen. DCTR wgt.',\n",
    "               **plot_style_1)\n",
    "    ax[1].hist(nTracks_unknown_G,\n",
    "               bins=bins,\n",
    "               label=r'Target (Truth)',\n",
    "               **plot_style_2)\n",
    "    ax[1].legend(frameon=False)\n",
    "\n",
    "    fig.show()\n",
    "    plt.show()"
   ]
  },
  {
   "cell_type": "markdown",
   "metadata": {},
   "source": [
    "## OmniFold\n",
    "\n",
    "Unfold the full phase space of the tracks.\n",
    "\n",
    "*** As of this time, simulation with only one set of generator parameters is available. So, we will split this simulation in half, using one half as the nominal synthetic dataset, and the other half as the unknown \"natural\" dataset."
   ]
  },
  {
   "cell_type": "code",
   "execution_count": 33,
   "metadata": {
    "ExecuteTime": {
     "end_time": "2020-11-10T09:58:26.772153Z",
     "start_time": "2020-11-10T09:58:26.741574Z"
    }
   },
   "outputs": [],
   "source": [
    "K.clear_session()"
   ]
  },
  {
   "cell_type": "markdown",
   "metadata": {},
   "source": [
    "### Setup datasets"
   ]
  },
  {
   "cell_type": "markdown",
   "metadata": {},
   "source": [
    "#### Get particle charge from particle ID\n",
    "\n",
    "Since we can only observe charge at detector-level, we must convert the PID information at particle-level to charge information."
   ]
  },
  {
   "cell_type": "code",
   "execution_count": 34,
   "metadata": {
    "ExecuteTime": {
     "end_time": "2020-11-10T09:58:26.808815Z",
     "start_time": "2020-11-10T09:58:26.773503Z"
    }
   },
   "outputs": [],
   "source": [
    "# Load different particles in dataset\n",
    "\n",
    "truth_pdgId_Tracks = Events.events['truth_pdgId_Tracks'][mypass]"
   ]
  },
  {
   "cell_type": "code",
   "execution_count": 35,
   "metadata": {
    "ExecuteTime": {
     "end_time": "2020-11-10T09:58:42.730646Z",
     "start_time": "2020-11-10T09:58:26.810392Z"
    }
   },
   "outputs": [],
   "source": [
    "# See what kind of particles are in event\n",
    "\n",
    "PIDs = []\n",
    "\n",
    "for event in truth_pdgId_Tracks:\n",
    "    for ID in event:\n",
    "        if ID not in PIDs:\n",
    "            PIDs += [ID]"
   ]
  },
  {
   "cell_type": "code",
   "execution_count": 36,
   "metadata": {
    "ExecuteTime": {
     "end_time": "2020-11-10T09:58:42.762110Z",
     "start_time": "2020-11-10T09:58:42.732407Z"
    }
   },
   "outputs": [
    {
     "data": {
      "text/plain": [
       "[-13,\n",
       " -211,\n",
       " 321,\n",
       " 211,\n",
       " -321,\n",
       " 13,\n",
       " -2212,\n",
       " 2212,\n",
       " -3312,\n",
       " 3112,\n",
       " -11,\n",
       " 11,\n",
       " -3222,\n",
       " 3334,\n",
       " -3112,\n",
       " 3312,\n",
       " 3222,\n",
       " -3334]"
      ]
     },
     "execution_count": 36,
     "metadata": {},
     "output_type": "execute_result"
    }
   ],
   "source": [
    "PIDs"
   ]
  },
  {
   "cell_type": "code",
   "execution_count": 37,
   "metadata": {
    "ExecuteTime": {
     "end_time": "2020-11-10T09:58:42.791429Z",
     "start_time": "2020-11-10T09:58:42.763672Z"
    }
   },
   "outputs": [],
   "source": [
    "# Look up particles and their charge from\n",
    "# https://pdg.lbl.gov/2006/reviews/pdf-files/montecarlo-web.pdf\n",
    "\n",
    "PID_to_charge = {\n",
    "    11: -1,  # e^-\n",
    "    13: -1,  # mu^-\n",
    "    211: 1,  # pi^+\n",
    "    321: 1,  # K^+\n",
    "    2212: 1,  # p\n",
    "    3112: -1,  # Sigma^-\n",
    "    3312: -1,  # Xi^-\n",
    "    3222: +1,  # Sigma^+\n",
    "    3334: -1\n",
    "}  # Omega^-"
   ]
  },
  {
   "cell_type": "code",
   "execution_count": 38,
   "metadata": {
    "ExecuteTime": {
     "end_time": "2020-11-10T09:58:42.822197Z",
     "start_time": "2020-11-10T09:58:42.792700Z"
    }
   },
   "outputs": [],
   "source": [
    "def get_charge(pdgID):\n",
    "    charges = awkward.array.jagged.JaggedArray.copy(pdgID)\n",
    "    for i in range(len(charges)):\n",
    "        for j in range(len(charges[i])):\n",
    "            PID = charges[i][j]\n",
    "            # anti-particles have a negative sign\n",
    "            sign = PID / abs(PID)\n",
    "            try:\n",
    "                charge = sign * PID_to_charge[abs(PID)]\n",
    "            except KeyError:\n",
    "                print(\n",
    "                    \"Unknown PID encountered: {}. Please add PID and corresponding charge to 'PID_to_charge.'\"\n",
    "                    .format(PID))\n",
    "                break\n",
    "            charges[i][j] = charge\n",
    "    return charges"
   ]
  },
  {
   "cell_type": "markdown",
   "metadata": {},
   "source": [
    "#### Load and process tracks\n",
    "\n",
    "Unfolding the full phase space involves the use of EnergyFlow PFNs, which take zero-padded arrays as input."
   ]
  },
  {
   "cell_type": "code",
   "execution_count": 39,
   "metadata": {
    "ExecuteTime": {
     "end_time": "2020-11-10T10:09:48.615552Z",
     "start_time": "2020-11-10T09:58:42.823533Z"
    }
   },
   "outputs": [],
   "source": [
    "truth_pT_Tracks = Events.events['truth_pT_Tracks'][mypass]\n",
    "pT_Tracks = Events.events['pT_Tracks'][mypass]\n",
    "\n",
    "truth_eta_Tracks = Events.events['truth_eta_Tracks'][mypass]\n",
    "eta_Tracks = Events.events['eta_Tracks'][mypass]\n",
    "\n",
    "truth_phi_Tracks = Events.events['truth_phi_Tracks'][mypass]\n",
    "phi_Tracks = Events.events['phi_Tracks'][mypass]\n",
    "\n",
    "truth_charge_Tracks = get_charge(truth_pdgId_Tracks)\n",
    "charge_Tracks = Events.events['charge_Tracks'][mypass]"
   ]
  },
  {
   "cell_type": "code",
   "execution_count": 40,
   "metadata": {
    "ExecuteTime": {
     "end_time": "2020-11-10T10:09:59.597088Z",
     "start_time": "2020-11-10T10:09:48.617219Z"
    }
   },
   "outputs": [],
   "source": [
    "sum_pT_Tracks_G = [\n",
    "    np.sum(truth_pT_Tracks[i]) for i in range(len(truth_pT_Tracks))\n",
    "]\n",
    "sum_pT_Tracks_S = [np.sum(pT_Tracks[i]) for i in range(len(pT_Tracks))]"
   ]
  },
  {
   "cell_type": "code",
   "execution_count": 41,
   "metadata": {
    "ExecuteTime": {
     "end_time": "2020-11-10T10:09:59.627737Z",
     "start_time": "2020-11-10T10:09:59.598698Z"
    }
   },
   "outputs": [],
   "source": [
    "def get_max_dim(array):\n",
    "    max_dim = max([len(array[i]) for i in range(len(array))])\n",
    "\n",
    "    return max_dim"
   ]
  },
  {
   "cell_type": "code",
   "execution_count": 42,
   "metadata": {
    "ExecuteTime": {
     "end_time": "2020-11-10T10:09:59.669159Z",
     "start_time": "2020-11-10T10:09:59.629404Z"
    }
   },
   "outputs": [],
   "source": [
    "# normalize or standardize pT and center (y, phi)\n",
    "def normalize_event(x, normalize=True):\n",
    "    if normalize:\n",
    "        yphi_avg = np.average(x[:, 1:3], weights=x[:, 0], axis=0)\n",
    "        x[:, 1:3] -= yphi_avg\n",
    "        x[:, 0] /= x[:, 0].sum()\n",
    "    else:  # standardize\n",
    "        x[:, 0] /= 100.\n",
    "    return x"
   ]
  },
  {
   "cell_type": "code",
   "execution_count": 43,
   "metadata": {
    "ExecuteTime": {
     "end_time": "2020-11-10T10:09:59.705918Z",
     "start_time": "2020-11-10T10:09:59.670701Z"
    }
   },
   "outputs": [],
   "source": [
    "def preprocess_data(pT, eta, phi, charge, max_num_particles=None):\n",
    "    num_events = len(pT)\n",
    "    if max_num_particles == None:\n",
    "        max_num_particles = get_max_dim(pT)\n",
    "\n",
    "    result = np.empty(shape=(num_events, max_num_particles, 4))\n",
    "\n",
    "    for i in range(num_events):\n",
    "        pad_length = max_num_particles - len(pT[i])\n",
    "        pad = np.zeros(shape=(pad_length, 4))\n",
    "\n",
    "        event = np.stack((pT[i], eta[i], phi[i], charge[i]), axis=1)\n",
    "        event = normalize_event(event, normalize=True)\n",
    "\n",
    "        result[i] = np.concatenate((event, pad))\n",
    "\n",
    "    return result"
   ]
  },
  {
   "cell_type": "code",
   "execution_count": 44,
   "metadata": {
    "ExecuteTime": {
     "end_time": "2020-11-10T10:12:22.379792Z",
     "start_time": "2020-11-10T10:09:59.707204Z"
    }
   },
   "outputs": [],
   "source": [
    "Tracks_G = preprocess_data(truth_pT_Tracks, truth_eta_Tracks, truth_phi_Tracks,\n",
    "                           truth_charge_Tracks)\n",
    "Tracks_S = preprocess_data(pT_Tracks, eta_Tracks, phi_Tracks, charge_Tracks)"
   ]
  },
  {
   "cell_type": "code",
   "execution_count": 45,
   "metadata": {
    "ExecuteTime": {
     "end_time": "2020-11-10T10:12:44.354351Z",
     "start_time": "2020-11-10T10:12:22.381492Z"
    }
   },
   "outputs": [],
   "source": [
    "np.save('Tracks_S1.npy', Tracks_S)"
   ]
  },
  {
   "cell_type": "code",
   "execution_count": 46,
   "metadata": {
    "ExecuteTime": {
     "end_time": "2020-11-10T10:12:47.300033Z",
     "start_time": "2020-11-10T10:12:44.357358Z"
    }
   },
   "outputs": [],
   "source": [
    "# Only one simulation, so split into nominal and \"uknown\" sample for now\n",
    "\n",
    "shuffle = train_test_split(Tracks_G,\n",
    "                           Tracks_S,\n",
    "                           sum_pT_Tracks_G,\n",
    "                           sum_pT_Tracks_S,\n",
    "                           test_size=0.5)\n",
    "\n",
    "Tracks_0_G = shuffle[0]\n",
    "Tracks_unknown_G = shuffle[1]\n",
    "Tracks_0_S = shuffle[2]\n",
    "Tracks_unknown_S = shuffle[3]\n",
    "sum_pT_Tracks_0_G = shuffle[4]\n",
    "sum_pT_Tracks_unknown_G = shuffle[5]\n",
    "sum_pT_Tracks_0_S = shuffle[6]\n",
    "sum_pT_Tracks_unknown_S = shuffle[7]"
   ]
  },
  {
   "cell_type": "markdown",
   "metadata": {},
   "source": [
    "#### Construct observables\n",
    "\n",
    "To verify fidelity of unfolding."
   ]
  },
  {
   "cell_type": "code",
   "execution_count": 47,
   "metadata": {
    "ExecuteTime": {
     "end_time": "2020-11-10T10:12:47.331671Z",
     "start_time": "2020-11-10T10:12:47.301777Z"
    }
   },
   "outputs": [],
   "source": [
    "def get_nTracks(Tracks):\n",
    "    result = []\n",
    "\n",
    "    for i in range(len(Tracks)):\n",
    "        mask = Tracks[i, :, 0] > 0\n",
    "        nTracks = np.sum(mask)\n",
    "        result += [nTracks]\n",
    "\n",
    "    return np.array(result)"
   ]
  },
  {
   "cell_type": "code",
   "execution_count": 48,
   "metadata": {
    "ExecuteTime": {
     "end_time": "2020-11-10T10:12:57.227642Z",
     "start_time": "2020-11-10T10:12:47.333166Z"
    }
   },
   "outputs": [],
   "source": [
    "nTracks_0_G = get_nTracks(Tracks_0_G)\n",
    "nTracks_unknown_G = get_nTracks(Tracks_unknown_G)\n",
    "nTracks_0_S = get_nTracks(Tracks_0_S)\n",
    "nTracks_unknown_S = get_nTracks(Tracks_unknown_S)"
   ]
  },
  {
   "cell_type": "code",
   "execution_count": 49,
   "metadata": {
    "ExecuteTime": {
     "end_time": "2020-11-10T10:13:00.113023Z",
     "start_time": "2020-11-10T10:12:57.229413Z"
    },
    "scrolled": true
   },
   "outputs": [
    {
     "data": {
      "image/png": "[encoded data removed]",
      "text/plain": [
       "<Figure size 864x720 with 4 Axes>"
      ]
     },
     "metadata": {},
     "output_type": "display_data"
    }
   ],
   "source": [
    "fig, ax = plt.subplots(2,\n",
    "                       2,\n",
    "                       figsize=(12, 10),\n",
    "                       constrained_layout=True,\n",
    "                       sharey='row')\n",
    "\n",
    "bins = np.linspace(0, 1000, 20)\n",
    "\n",
    "ax[0, 0].set_title('Synthetic')\n",
    "ax[0, 0].set_xlabel('Total $p_T$ of Tracks [GeV]')\n",
    "ax[0, 0].set_ylabel('Events per bin')\n",
    "hG0, _, _ = ax[0, 0].hist(sum_pT_Tracks_0_G,\n",
    "                          bins=bins,\n",
    "                          alpha=0.5,\n",
    "                          label='Generation')\n",
    "hS0, _, _ = ax[0, 0].hist(sum_pT_Tracks_0_S,\n",
    "                          bins=bins,\n",
    "                          alpha=0.5,\n",
    "                          label='Simulation')\n",
    "legend = ax[0, 0].legend(loc='upper right', frameon=False)\n",
    "plt.setp(legend.get_title(), multialignment='center')\n",
    "\n",
    "ax[0, 1].set_title('\"Natural\"')\n",
    "ax[0, 1].set_xlabel('Total $p_T$ of Tracks [GeV]')\n",
    "hG1, _, _ = ax[0, 1].hist(sum_pT_Tracks_unknown_G,\n",
    "                          bins=bins,\n",
    "                          alpha=0.5,\n",
    "                          label='Truth')\n",
    "hS1, _, _ = ax[0, 1].hist(sum_pT_Tracks_unknown_S,\n",
    "                          bins=bins,\n",
    "                          alpha=0.5,\n",
    "                          label='Detector')\n",
    "legend = ax[0, 1].legend(loc='upper right', frameon=False)\n",
    "plt.setp(legend.get_title(), multialignment='center')\n",
    "\n",
    "bins = np.linspace(0, 250, 20)\n",
    "\n",
    "ax[1, 0].set_xlabel('Number of Charged Particles')\n",
    "ax[1, 0].set_ylabel('Events per bin')\n",
    "hG0, _, _ = ax[1, 0].hist(nTracks_0_G,\n",
    "                          bins=bins,\n",
    "                          alpha=0.5,\n",
    "                          label='Generation')\n",
    "hS0, _, _ = ax[1, 0].hist(nTracks_0_S,\n",
    "                          bins=bins,\n",
    "                          alpha=0.5,\n",
    "                          label='Simulation')\n",
    "legend = ax[1, 0].legend(loc='upper right', frameon=False)\n",
    "plt.setp(legend.get_title(), multialignment='center')\n",
    "\n",
    "ax[1, 1].set_xlabel('Number of Charged Particles')\n",
    "hG1, _, _ = ax[1, 1].hist(nTracks_unknown_G,\n",
    "                          bins=bins,\n",
    "                          alpha=0.5,\n",
    "                          label='Truth')\n",
    "hS1, _, _ = ax[1, 1].hist(nTracks_unknown_S,\n",
    "                          bins=bins,\n",
    "                          alpha=0.5,\n",
    "                          label='Detector')\n",
    "legend = ax[1, 1].legend(loc='upper right', frameon=False)\n",
    "plt.setp(legend.get_title(), multialignment='center')\n",
    "\n",
    "# plt.ylim([0,1.5*np.max(np.concatenate((hG0, hG1, hS0, hS1)))])\n",
    "\n",
    "fig.show()"
   ]
  },
  {
   "cell_type": "markdown",
   "metadata": {},
   "source": [
    "### Define OmniFold Algorithm"
   ]
  },
  {
   "cell_type": "code",
   "execution_count": 50,
   "metadata": {
    "ExecuteTime": {
     "end_time": "2020-11-10T10:13:00.223663Z",
     "start_time": "2020-11-10T10:13:00.114608Z"
    }
   },
   "outputs": [],
   "source": [
    "\"\"\"    Arguments:\n",
    "                            \n",
    "        iterations: number of iterations (integer)\n",
    "        \n",
    "        theta0_G: nominal generation-level events \n",
    "                    (i.e. list of events with particles as \n",
    "                    (pT, eta, phi, charge)) as zero-padded Numpy array\n",
    "                    \n",
    "        theta0_G: nominal simulation-level events \n",
    "                    (i.e. list of events with particles as \n",
    "                    (pT, eta, phi, charge)) as zero-padded Numpy array\n",
    "                    \n",
    "        theta_unknown_S: \"natural\" (unknown) simulation-level  events \n",
    "                            (i.e. list of events with particles as \n",
    "                            (pT, eta, phi, charge))\n",
    "                            to be unfolded as zero-padded Numpy array \n",
    "                            \n",
    "        \n",
    "        Returns:\n",
    "        - A Numpy array of weights to reweight observable distributions \n",
    "        from theta0_G to the unfolded observable distribution from\n",
    "        theta_unknown_S\n",
    "        \n",
    "        - The model used to calculate those weights\n",
    "\"\"\"\n",
    "\n",
    "\n",
    "def omnifold(iterations, theta0_G, theta0_S, theta_unknown_S):\n",
    "    labels0 = np.zeros(len(theta0_G))\n",
    "    labels_unknown = np.ones(len(theta_unknown_S))\n",
    "\n",
    "    xvals_1 = np.concatenate((theta0_S, theta_unknown_S))\n",
    "    yvals_1 = np.concatenate((labels0, labels_unknown))\n",
    "\n",
    "    xvals_2 = np.concatenate((theta0_G, theta0_G))\n",
    "    yvals_2 = np.concatenate((labels0, labels_unknown))\n",
    "\n",
    "    weights = np.empty(shape=(iterations, 2, len(theta0_G)))\n",
    "    # shape = (iteration, step, event)\n",
    "\n",
    "    weights_pull = np.ones(len(theta0_S))\n",
    "    weights_push = np.ones(len(theta0_G))\n",
    "\n",
    "    # network architecture parameters\n",
    "    Phi_sizes = (100, 100, 128)\n",
    "    F_sizes = (100, 100, 100)\n",
    "\n",
    "    model = PFN(input_dim=4,\n",
    "                Phi_sizes=Phi_sizes,\n",
    "                F_sizes=F_sizes,\n",
    "                output_dim=1,\n",
    "                output_act='sigmoid',\n",
    "                summary=False)\n",
    "\n",
    "    earlystopping = EarlyStopping(patience=10, restore_best_weights=True)\n",
    "\n",
    "\n",
    "\n",
    "    # from NN (DCTR)\n",
    "    def reweight(events):\n",
    "        f = model.predict(events, batch_size=1000)\n",
    "        weights = f / (1. - f)\n",
    "        return np.squeeze(weights)\n",
    "\n",
    "    for i in range(iterations):\n",
    "        print(\"\\nITERATION: {}\\n\".format(i + 1))\n",
    "\n",
    "        # STEP 1: classify Sim. (which is reweighted by weights_push) to Data\n",
    "        # weights reweighted Sim. --> Data\n",
    "        print(\"STEP 1\\n\")\n",
    "\n",
    "        weights_1 = np.concatenate(\n",
    "            (weights_push, np.ones(len(theta_unknown_S))))\n",
    "        # actual weights for Sim., ones for Data\n",
    "\n",
    "        X_train_1, X_test_1, Y_train_1, Y_test_1, w_train_1, w_test_1 = train_test_split(\n",
    "            xvals_1, yvals_1, weights_1)\n",
    "\n",
    "        print(\"Jumpstarting Model\\n\")\n",
    "        count = 0\n",
    "        while count < 20:\n",
    "            count += 1\n",
    "\n",
    "            model.model.compile(loss='binary_crossentropy',\n",
    "                                optimizer=keras.optimizers.Adam(),\n",
    "                                metrics=['accuracy'])\n",
    "            history = model.fit(X_train_1,\n",
    "                                Y_train_1,\n",
    "                                sample_weight=w_train_1,\n",
    "                                epochs=1,\n",
    "                                batch_size=10000,\n",
    "                                validation_data=(X_test_1, Y_test_1, w_test_1),\n",
    "                                verbose=1)\n",
    "            if (history.history['val_loss'][0] < history.history['loss'][0]) or history.history['val_loss'][0]<1:\n",
    "                break\n",
    "            else:\n",
    "                reset_weights(model.model)\n",
    "                \n",
    "        print(\"Training Model\\n\")\n",
    "        model.fit(X_train_1,\n",
    "          Y_train_1,\n",
    "          sample_weight=w_train_1,\n",
    "          epochs=200,\n",
    "          batch_size=1000,\n",
    "          validation_data=(X_test_1, Y_test_1, w_test_1),\n",
    "          callbacks=[earlystopping],\n",
    "          verbose=1)\n",
    "\n",
    "        weights_pull = weights_push * reweight(theta0_S)\n",
    "        weights[i, :1, :] = weights_pull\n",
    "\n",
    "        # STEP 2: classify Gen. to reweighted Gen. (which is reweighted by weights_pull)\n",
    "        # weights Gen. --> reweighted Gen.\n",
    "        print(\"\\nSTEP 2\\n\")\n",
    "\n",
    "        weights_2 = np.concatenate((np.ones(len(theta0_G)), weights_pull))\n",
    "        # ones for Gen., actual weights for (reweighted) Gen.\n",
    "\n",
    "        X_train_2, X_test_2, Y_train_2, Y_test_2, w_train_2, w_test_2 = train_test_split(\n",
    "            xvals_2, yvals_2, weights_2)\n",
    "\n",
    "        model.model.compile(loss='binary_crossentropy',\n",
    "                            optimizer='Adam',\n",
    "                            metrics=['accuracy'])\n",
    "        model.fit(X_train_2,\n",
    "                  Y_train_2,\n",
    "                  sample_weight=w_train_2,\n",
    "                  epochs=200,\n",
    "                  batch_size=1000,\n",
    "                  validation_data=(X_test_2, Y_test_2, w_test_2),\n",
    "                  callbacks=[earlystopping],\n",
    "                  verbose=1)\n",
    "\n",
    "        weights_push = reweight(theta0_G)\n",
    "        weights[i, 1:2, :] = weights_pull\n",
    "\n",
    "    return weights, model"
   ]
  },
  {
   "cell_type": "markdown",
   "metadata": {},
   "source": [
    "### Unfold the Full Phase Space"
   ]
  },
  {
   "cell_type": "code",
   "execution_count": 51,
   "metadata": {
    "ExecuteTime": {
     "end_time": "2020-11-10T18:00:13.509164Z",
     "start_time": "2020-11-10T10:13:00.225037Z"
    }
   },
   "outputs": [
    {
     "name": "stdout",
     "output_type": "stream",
     "text": [
      "\n",
      "ITERATION: 1\n",
      "\n",
      "STEP 1\n",
      "\n",
      "Jumpstarting Model\n",
      "\n",
      "Train on 466582 samples, validate on 155528 samples\n",
      "Epoch 1/1\n",
      "466582/466582 [==============================] - 224s 479us/step - loss: 2.9367 - acc: 0.5001 - val_loss: 0.8423 - val_acc: 0.5008\n",
      "Training Model\n",
      "\n",
      "Train on 466582 samples, validate on 155528 samples\n",
      "Epoch 1/200\n",
      "466582/466582 [==============================] - 273s 585us/step - loss: 0.7495 - acc: 0.5011 - val_loss: 0.6996 - val_acc: 0.5011\n",
      "Epoch 2/200\n",
      "466582/466582 [==============================] - 276s 592us/step - loss: 0.7097 - acc: 0.5009 - val_loss: 0.6959 - val_acc: 0.4989\n",
      "Epoch 3/200\n",
      "466582/466582 [==============================] - 277s 594us/step - loss: 0.7001 - acc: 0.5002 - val_loss: 0.6947 - val_acc: 0.4986\n",
      "Epoch 4/200\n",
      "466582/466582 [==============================] - 276s 592us/step - loss: 0.6977 - acc: 0.5004 - val_loss: 0.6956 - val_acc: 0.5003\n",
      "Epoch 5/200\n",
      "466582/466582 [==============================] - 277s 595us/step - loss: 0.6968 - acc: 0.5003 - val_loss: 0.6963 - val_acc: 0.4995\n",
      "Epoch 6/200\n",
      "466582/466582 [==============================] - 276s 591us/step - loss: 0.6962 - acc: 0.5005 - val_loss: 0.6936 - val_acc: 0.4983\n",
      "Epoch 7/200\n",
      "466582/466582 [==============================] - 277s 594us/step - loss: 0.6960 - acc: 0.5022 - val_loss: 0.6942 - val_acc: 0.5001\n",
      "Epoch 8/200\n",
      "466582/466582 [==============================] - 276s 592us/step - loss: 0.6957 - acc: 0.5001 - val_loss: 0.6968 - val_acc: 0.4993\n",
      "Epoch 9/200\n",
      "466582/466582 [==============================] - 276s 591us/step - loss: 0.7052 - acc: 0.4995 - val_loss: 0.7013 - val_acc: 0.5003\n",
      "Epoch 10/200\n",
      "466582/466582 [==============================] - 278s 595us/step - loss: 0.6946 - acc: 0.5000 - val_loss: 0.6935 - val_acc: 0.5000\n",
      "Epoch 11/200\n",
      "466582/466582 [==============================] - 272s 583us/step - loss: 0.6941 - acc: 0.5013 - val_loss: 0.6932 - val_acc: 0.5007\n",
      "Epoch 12/200\n",
      "466582/466582 [==============================] - 255s 547us/step - loss: 0.6939 - acc: 0.5007 - val_loss: 0.6932 - val_acc: 0.5021\n",
      "Epoch 13/200\n",
      "466582/466582 [==============================] - 255s 547us/step - loss: 0.6940 - acc: 0.4996 - val_loss: 0.6948 - val_acc: 0.5006\n",
      "Epoch 14/200\n",
      "466582/466582 [==============================] - 256s 548us/step - loss: 0.6938 - acc: 0.5002 - val_loss: 0.6958 - val_acc: 0.5007\n",
      "Epoch 15/200\n",
      "466582/466582 [==============================] - 255s 547us/step - loss: 0.6935 - acc: 0.4986 - val_loss: 0.6933 - val_acc: 0.4995\n",
      "Epoch 16/200\n",
      "466582/466582 [==============================] - 256s 548us/step - loss: 0.6936 - acc: 0.5003 - val_loss: 0.6932 - val_acc: 0.5003\n",
      "Epoch 17/200\n",
      "466582/466582 [==============================] - 256s 548us/step - loss: 0.6935 - acc: 0.4988 - val_loss: 0.6932 - val_acc: 0.5009\n",
      "Epoch 18/200\n",
      "466582/466582 [==============================] - 256s 548us/step - loss: 0.6933 - acc: 0.5005 - val_loss: 0.6946 - val_acc: 0.4994\n",
      "Epoch 19/200\n",
      "466582/466582 [==============================] - 256s 548us/step - loss: 0.6932 - acc: 0.4996 - val_loss: 0.6932 - val_acc: 0.4994\n",
      "Epoch 20/200\n",
      "466582/466582 [==============================] - 255s 548us/step - loss: 0.6932 - acc: 0.5012 - val_loss: 0.6932 - val_acc: 0.5006\n",
      "Epoch 21/200\n",
      "466582/466582 [==============================] - 254s 544us/step - loss: 0.6933 - acc: 0.4993 - val_loss: 0.6932 - val_acc: 0.4994\n",
      "Epoch 22/200\n",
      "466582/466582 [==============================] - 256s 548us/step - loss: 0.6932 - acc: 0.5006 - val_loss: 0.6932 - val_acc: 0.5006\n",
      "Epoch 23/200\n",
      "466582/466582 [==============================] - 256s 548us/step - loss: 0.6932 - acc: 0.4997 - val_loss: 0.6932 - val_acc: 0.4994\n",
      "Epoch 24/200\n",
      "466582/466582 [==============================] - 255s 547us/step - loss: 0.6932 - acc: 0.5008 - val_loss: 0.6934 - val_acc: 0.4994\n",
      "Epoch 25/200\n",
      "466582/466582 [==============================] - 255s 547us/step - loss: 0.6935 - acc: 0.5011 - val_loss: 0.6932 - val_acc: 0.5006\n",
      "Epoch 26/200\n",
      "466582/466582 [==============================] - 256s 548us/step - loss: 0.6932 - acc: 0.4983 - val_loss: 0.6932 - val_acc: 0.4994\n",
      "Epoch 27/200\n",
      "466582/466582 [==============================] - 256s 548us/step - loss: 0.6932 - acc: 0.4986 - val_loss: 0.6932 - val_acc: 0.4994\n",
      "Epoch 28/200\n",
      "466582/466582 [==============================] - 255s 548us/step - loss: 0.6932 - acc: 0.5008 - val_loss: 0.6931 - val_acc: 0.4994\n",
      "Epoch 29/200\n",
      "466582/466582 [==============================] - 254s 545us/step - loss: 0.6932 - acc: 0.4995 - val_loss: 0.6931 - val_acc: 0.5006\n",
      "Epoch 30/200\n",
      "466582/466582 [==============================] - 256s 548us/step - loss: 0.6932 - acc: 0.5010 - val_loss: 0.6932 - val_acc: 0.4994\n",
      "Epoch 31/200\n",
      "466582/466582 [==============================] - 256s 548us/step - loss: 0.6932 - acc: 0.4998 - val_loss: 0.6932 - val_acc: 0.4994\n",
      "Epoch 32/200\n",
      "466582/466582 [==============================] - 256s 548us/step - loss: 0.6932 - acc: 0.4997 - val_loss: 0.6932 - val_acc: 0.4994\n",
      "Epoch 33/200\n",
      "466582/466582 [==============================] - 256s 548us/step - loss: 0.6932 - acc: 0.4997 - val_loss: 0.6932 - val_acc: 0.4994\n",
      "Epoch 34/200\n",
      "466582/466582 [==============================] - 256s 548us/step - loss: 0.6931 - acc: 0.5016 - val_loss: 0.6931 - val_acc: 0.5006\n",
      "Epoch 35/200\n",
      "466582/466582 [==============================] - 255s 548us/step - loss: 0.6932 - acc: 0.4999 - val_loss: 0.6931 - val_acc: 0.5006\n",
      "Epoch 36/200\n",
      "466582/466582 [==============================] - 256s 548us/step - loss: 0.6932 - acc: 0.4995 - val_loss: 0.6932 - val_acc: 0.4994\n",
      "Epoch 37/200\n",
      "466582/466582 [==============================] - 256s 548us/step - loss: 0.6932 - acc: 0.4997 - val_loss: 0.6931 - val_acc: 0.5006\n",
      "Epoch 38/200\n",
      "466582/466582 [==============================] - 255s 547us/step - loss: 0.6932 - acc: 0.5006 - val_loss: 0.6932 - val_acc: 0.4994\n",
      "Epoch 39/200\n",
      "466582/466582 [==============================] - 254s 544us/step - loss: 0.6932 - acc: 0.5000 - val_loss: 0.6932 - val_acc: 0.4994\n",
      "\n",
      "STEP 2\n",
      "\n",
      "Train on 466582 samples, validate on 155528 samples\n",
      "Epoch 1/200\n",
      "466582/466582 [==============================] - 251s 539us/step - loss: 0.6944 - acc: 0.4998 - val_loss: 0.6943 - val_acc: 0.5001\n",
      "Epoch 2/200\n",
      "466582/466582 [==============================] - 250s 535us/step - loss: 0.6944 - acc: 0.5000 - val_loss: 0.6943 - val_acc: 0.5001\n",
      "Epoch 3/200\n",
      "466582/466582 [==============================] - 250s 537us/step - loss: 0.6944 - acc: 0.5001 - val_loss: 0.6944 - val_acc: 0.5001\n",
      "Epoch 4/200\n",
      "466582/466582 [==============================] - 250s 537us/step - loss: 0.6944 - acc: 0.4986 - val_loss: 0.6943 - val_acc: 0.4999\n",
      "Epoch 5/200\n",
      "466582/466582 [==============================] - 235s 504us/step - loss: 0.6943 - acc: 0.4999 - val_loss: 0.6943 - val_acc: 0.5001\n",
      "Epoch 6/200\n",
      "466582/466582 [==============================] - 248s 533us/step - loss: 0.6944 - acc: 0.4993 - val_loss: 0.6944 - val_acc: 0.4999\n",
      "Epoch 7/200\n",
      "466582/466582 [==============================] - 250s 536us/step - loss: 0.6944 - acc: 0.4982 - val_loss: 0.6943 - val_acc: 0.5001\n",
      "Epoch 8/200\n",
      "466582/466582 [==============================] - 250s 537us/step - loss: 0.6943 - acc: 0.5000 - val_loss: 0.6943 - val_acc: 0.5001\n",
      "Epoch 9/200\n",
      "466582/466582 [==============================] - 251s 537us/step - loss: 0.6944 - acc: 0.5000 - val_loss: 0.6943 - val_acc: 0.4999\n",
      "Epoch 10/200\n",
      "466582/466582 [==============================] - 248s 531us/step - loss: 0.6943 - acc: 0.5003 - val_loss: 0.6944 - val_acc: 0.5001\n",
      "Epoch 11/200\n",
      "466582/466582 [==============================] - 250s 536us/step - loss: 0.6944 - acc: 0.4992 - val_loss: 0.6943 - val_acc: 0.5001\n",
      "Epoch 12/200\n",
      "466582/466582 [==============================] - 250s 537us/step - loss: 0.6943 - acc: 0.5001 - val_loss: 0.6943 - val_acc: 0.5001\n",
      "\n",
      "ITERATION: 2\n",
      "\n",
      "STEP 1\n",
      "\n",
      "Jumpstarting Model\n",
      "\n",
      "Train on 466582 samples, validate on 155528 samples\n",
      "Epoch 1/1\n",
      "466582/466582 [==============================] - 224s 480us/step - loss: 0.6938 - acc: 0.4987 - val_loss: 0.6938 - val_acc: 0.4998\n",
      "Training Model\n",
      "\n",
      "Train on 466582 samples, validate on 155528 samples\n",
      "Epoch 1/200\n",
      "466582/466582 [==============================] - 252s 541us/step - loss: 0.6938 - acc: 0.4992 - val_loss: 0.6938 - val_acc: 0.4998\n",
      "Epoch 2/200\n"
     ]
    },
    {
     "name": "stdout",
     "output_type": "stream",
     "text": [
      "466582/466582 [==============================] - 263s 565us/step - loss: 0.6938 - acc: 0.4997 - val_loss: 0.6938 - val_acc: 0.4998\n",
      "Epoch 3/200\n",
      "466582/466582 [==============================] - 252s 540us/step - loss: 0.6938 - acc: 0.5006 - val_loss: 0.6938 - val_acc: 0.4998\n",
      "Epoch 4/200\n",
      "466582/466582 [==============================] - 268s 574us/step - loss: 0.6938 - acc: 0.4993 - val_loss: 0.6938 - val_acc: 0.4998\n",
      "Epoch 5/200\n",
      "466582/466582 [==============================] - 268s 575us/step - loss: 0.6938 - acc: 0.4999 - val_loss: 0.6938 - val_acc: 0.4998\n",
      "Epoch 6/200\n",
      "466582/466582 [==============================] - 267s 573us/step - loss: 0.6938 - acc: 0.4996 - val_loss: 0.6938 - val_acc: 0.4998\n",
      "Epoch 7/200\n",
      "466582/466582 [==============================] - 267s 572us/step - loss: 0.6938 - acc: 0.4998 - val_loss: 0.6938 - val_acc: 0.4998\n",
      "Epoch 8/200\n",
      "466582/466582 [==============================] - 264s 566us/step - loss: 0.6938 - acc: 0.4996 - val_loss: 0.6938 - val_acc: 0.5002\n",
      "Epoch 9/200\n",
      "466582/466582 [==============================] - 261s 559us/step - loss: 0.6938 - acc: 0.4996 - val_loss: 0.6938 - val_acc: 0.5002\n",
      "Epoch 10/200\n",
      "466582/466582 [==============================] - 261s 559us/step - loss: 0.6938 - acc: 0.4992 - val_loss: 0.6938 - val_acc: 0.4998\n",
      "Epoch 11/200\n",
      "466582/466582 [==============================] - 259s 556us/step - loss: 0.6938 - acc: 0.4987 - val_loss: 0.6938 - val_acc: 0.4998\n",
      "Epoch 12/200\n",
      "466582/466582 [==============================] - 256s 550us/step - loss: 0.6938 - acc: 0.5000 - val_loss: 0.6938 - val_acc: 0.5002\n",
      "Epoch 13/200\n",
      "466582/466582 [==============================] - 262s 562us/step - loss: 0.6938 - acc: 0.4997 - val_loss: 0.6938 - val_acc: 0.5002\n",
      "Epoch 14/200\n",
      "466582/466582 [==============================] - 264s 565us/step - loss: 0.6938 - acc: 0.4991 - val_loss: 0.6938 - val_acc: 0.4998\n",
      "Epoch 15/200\n",
      "466582/466582 [==============================] - 263s 565us/step - loss: 0.6938 - acc: 0.4997 - val_loss: 0.6938 - val_acc: 0.5002\n",
      "Epoch 16/200\n",
      "466582/466582 [==============================] - 254s 544us/step - loss: 0.6938 - acc: 0.4999 - val_loss: 0.6938 - val_acc: 0.5002\n",
      "Epoch 17/200\n",
      "466582/466582 [==============================] - 254s 544us/step - loss: 0.6938 - acc: 0.5004 - val_loss: 0.6938 - val_acc: 0.4998\n",
      "Epoch 18/200\n",
      "466582/466582 [==============================] - 260s 557us/step - loss: 0.6938 - acc: 0.5000 - val_loss: 0.6938 - val_acc: 0.4998\n",
      "Epoch 19/200\n",
      "466582/466582 [==============================] - 260s 557us/step - loss: 0.6938 - acc: 0.4992 - val_loss: 0.6938 - val_acc: 0.4998\n",
      "Epoch 20/200\n",
      "466582/466582 [==============================] - 262s 562us/step - loss: 0.6938 - acc: 0.4997 - val_loss: 0.6938 - val_acc: 0.5002\n",
      "Epoch 21/200\n",
      "466582/466582 [==============================] - 262s 562us/step - loss: 0.6938 - acc: 0.5016 - val_loss: 0.6938 - val_acc: 0.4998\n",
      "Epoch 22/200\n",
      "466582/466582 [==============================] - 261s 560us/step - loss: 0.6938 - acc: 0.4994 - val_loss: 0.6938 - val_acc: 0.4998\n",
      "Epoch 23/200\n",
      "466582/466582 [==============================] - 262s 562us/step - loss: 0.6938 - acc: 0.5005 - val_loss: 0.6938 - val_acc: 0.5002\n",
      "Epoch 24/200\n",
      "466582/466582 [==============================] - 262s 562us/step - loss: 0.6938 - acc: 0.4990 - val_loss: 0.6938 - val_acc: 0.4998\n",
      "Epoch 25/200\n",
      "466582/466582 [==============================] - 262s 562us/step - loss: 0.6938 - acc: 0.4994 - val_loss: 0.6938 - val_acc: 0.4998\n",
      "Epoch 26/200\n",
      "466582/466582 [==============================] - 259s 556us/step - loss: 0.6938 - acc: 0.5000 - val_loss: 0.6938 - val_acc: 0.4998\n",
      "Epoch 27/200\n",
      "466582/466582 [==============================] - 260s 556us/step - loss: 0.6938 - acc: 0.5002 - val_loss: 0.6938 - val_acc: 0.4998\n",
      "Epoch 28/200\n",
      "466582/466582 [==============================] - 262s 562us/step - loss: 0.6938 - acc: 0.5011 - val_loss: 0.6938 - val_acc: 0.5002\n",
      "Epoch 29/200\n",
      "466582/466582 [==============================] - 260s 557us/step - loss: 0.6938 - acc: 0.5005 - val_loss: 0.6938 - val_acc: 0.4998\n",
      "Epoch 30/200\n",
      "466582/466582 [==============================] - 262s 562us/step - loss: 0.6938 - acc: 0.5007 - val_loss: 0.6938 - val_acc: 0.5002\n",
      "Epoch 31/200\n",
      "466582/466582 [==============================] - 262s 563us/step - loss: 0.6938 - acc: 0.4991 - val_loss: 0.6938 - val_acc: 0.4998\n",
      "Epoch 32/200\n",
      "466582/466582 [==============================] - 260s 557us/step - loss: 0.6938 - acc: 0.5005 - val_loss: 0.6938 - val_acc: 0.4998\n",
      "Epoch 33/200\n",
      "466582/466582 [==============================] - 262s 561us/step - loss: 0.6938 - acc: 0.4997 - val_loss: 0.6938 - val_acc: 0.5002\n",
      "Epoch 34/200\n",
      "466582/466582 [==============================] - 255s 547us/step - loss: 0.6938 - acc: 0.4988 - val_loss: 0.6938 - val_acc: 0.4998\n",
      "Epoch 35/200\n",
      "466582/466582 [==============================] - 262s 561us/step - loss: 0.6938 - acc: 0.5000 - val_loss: 0.6938 - val_acc: 0.4998\n",
      "\n",
      "STEP 2\n",
      "\n",
      "Train on 466582 samples, validate on 155528 samples\n",
      "Epoch 1/200\n",
      "466582/466582 [==============================] - 252s 539us/step - loss: 0.6934 - acc: 0.4999 - val_loss: 0.6933 - val_acc: 0.5006\n",
      "Epoch 2/200\n",
      "466582/466582 [==============================] - 250s 535us/step - loss: 0.6934 - acc: 0.4991 - val_loss: 0.6934 - val_acc: 0.4994\n",
      "Epoch 3/200\n",
      "466582/466582 [==============================] - 250s 535us/step - loss: 0.6934 - acc: 0.4993 - val_loss: 0.6933 - val_acc: 0.5006\n",
      "Epoch 4/200\n",
      "466582/466582 [==============================] - 250s 536us/step - loss: 0.6934 - acc: 0.4995 - val_loss: 0.6933 - val_acc: 0.5006\n",
      "Epoch 5/200\n",
      "466582/466582 [==============================] - 250s 536us/step - loss: 0.6934 - acc: 0.4995 - val_loss: 0.6933 - val_acc: 0.5006\n",
      "Epoch 6/200\n",
      "466582/466582 [==============================] - 246s 527us/step - loss: 0.6934 - acc: 0.4991 - val_loss: 0.6934 - val_acc: 0.4994\n",
      "Epoch 7/200\n",
      "466582/466582 [==============================] - 246s 527us/step - loss: 0.6933 - acc: 0.5008 - val_loss: 0.6933 - val_acc: 0.5006\n",
      "Epoch 8/200\n",
      "466582/466582 [==============================] - 250s 537us/step - loss: 0.6934 - acc: 0.4996 - val_loss: 0.6933 - val_acc: 0.5006\n",
      "Epoch 9/200\n",
      "466582/466582 [==============================] - 250s 537us/step - loss: 0.6934 - acc: 0.4993 - val_loss: 0.6933 - val_acc: 0.4994\n",
      "Epoch 10/200\n",
      "466582/466582 [==============================] - 249s 533us/step - loss: 0.6934 - acc: 0.5003 - val_loss: 0.6933 - val_acc: 0.5006\n",
      "Epoch 11/200\n",
      "466582/466582 [==============================] - 249s 534us/step - loss: 0.6933 - acc: 0.5004 - val_loss: 0.6933 - val_acc: 0.4994\n",
      "Epoch 12/200\n",
      "466582/466582 [==============================] - 249s 534us/step - loss: 0.6934 - acc: 0.4994 - val_loss: 0.6933 - val_acc: 0.4994\n",
      "Epoch 13/200\n",
      "466582/466582 [==============================] - 247s 529us/step - loss: 0.6934 - acc: 0.4980 - val_loss: 0.6933 - val_acc: 0.4994\n",
      "Epoch 14/200\n",
      "466582/466582 [==============================] - 246s 528us/step - loss: 0.6933 - acc: 0.5018 - val_loss: 0.6934 - val_acc: 0.5006\n",
      "Epoch 15/200\n",
      "466582/466582 [==============================] - 250s 535us/step - loss: 0.6934 - acc: 0.5003 - val_loss: 0.6933 - val_acc: 0.5006\n",
      "Epoch 16/200\n",
      "466582/466582 [==============================] - 249s 534us/step - loss: 0.6934 - acc: 0.4998 - val_loss: 0.6934 - val_acc: 0.4994\n",
      "Epoch 17/200\n",
      "466582/466582 [==============================] - 249s 534us/step - loss: 0.6934 - acc: 0.4990 - val_loss: 0.6933 - val_acc: 0.4994\n",
      "Epoch 18/200\n",
      "466582/466582 [==============================] - 247s 529us/step - loss: 0.6934 - acc: 0.4998 - val_loss: 0.6933 - val_acc: 0.4994\n",
      "Epoch 19/200\n",
      "466582/466582 [==============================] - 250s 536us/step - loss: 0.6934 - acc: 0.4999 - val_loss: 0.6933 - val_acc: 0.5006\n",
      "Epoch 20/200\n",
      "466582/466582 [==============================] - 250s 536us/step - loss: 0.6934 - acc: 0.4993 - val_loss: 0.6934 - val_acc: 0.4994\n"
     ]
    }
   ],
   "source": [
    "weights, _ = omnifold(iterations=2,\n",
    "                      theta0_G=Tracks_0_G,\n",
    "                      theta0_S=Tracks_0_S,\n",
    "                      theta_unknown_S=Tracks_unknown_S)"
   ]
  },
  {
   "cell_type": "code",
   "execution_count": 52,
   "metadata": {
    "ExecuteTime": {
     "end_time": "2020-11-10T18:00:16.524515Z",
     "start_time": "2020-11-10T18:00:13.510840Z"
    }
   },
   "outputs": [
    {
     "name": "stdout",
     "output_type": "stream",
     "text": [
      "ITERATION: 1\n"
     ]
    },
    {
     "data": {
      "image/png": "[encoded data removed]",
      "text/plain": [
       "<Figure size 864x432 with 2 Axes>"
      ]
     },
     "metadata": {},
     "output_type": "display_data"
    },
    {
     "name": "stdout",
     "output_type": "stream",
     "text": [
      "ITERATION: 2\n"
     ]
    },
    {
     "data": {
      "image/png": "[encoded data removed]",
      "text/plain": [
       "<Figure size 864x432 with 2 Axes>"
      ]
     },
     "metadata": {},
     "output_type": "display_data"
    }
   ],
   "source": [
    "for i in range(len(weights)):\n",
    "\n",
    "    print(\"ITERATION: {}\".format(i + 1))\n",
    "    bins = np.linspace(0, 1000, 20)\n",
    "\n",
    "    fig, ax = plt.subplots(1, 2, figsize=(12, 6), constrained_layout=True)\n",
    "    ax[0].set_xlabel('Total $p_T$ of Tracks [GeV]')\n",
    "    ax[0].set_ylabel('Events per bin (Normalized)')\n",
    "    ax[0].hist(sum_pT_Tracks_0_G, bins=bins, label=r'Gen.', **plot_style_2)\n",
    "    ax[0].hist(sum_pT_Tracks_0_G,\n",
    "               bins=bins,\n",
    "               weights=weights[i, 1, :],\n",
    "               label=r'Gen. DCTR wgt.',\n",
    "               **plot_style_1)\n",
    "\n",
    "    ax[0].hist(sum_pT_Tracks_unknown_G,\n",
    "               bins=bins,\n",
    "               label=r'Target (Truth)',\n",
    "               **plot_style_2)\n",
    "    ax[0].legend(frameon=False)\n",
    "\n",
    "    bins = np.linspace(0, 250, 20)\n",
    "\n",
    "    ax[1].set_xlabel('Number of Charged Particles')\n",
    "    ax[1].set_ylabel('Events per bin (Normalized)')\n",
    "    ax[1].hist(nTracks_0_G, bins=bins, label=r'Gen.', **plot_style_2)\n",
    "    ax[1].hist(nTracks_0_G,\n",
    "               bins=bins,\n",
    "               weights=weights[i, 1, :],\n",
    "               label=r'Gen. DCTR wgt.',\n",
    "               **plot_style_1)\n",
    "    ax[1].hist(nTracks_unknown_G,\n",
    "               bins=bins,\n",
    "               label=r'Target (Truth)',\n",
    "               **plot_style_2)\n",
    "    ax[1].legend(frameon=False)\n",
    "\n",
    "    fig.show()\n",
    "    plt.show()"
   ]
  }
 ],
 "metadata": {
  "kernelspec": {
   "display_name": "OmniFold",
   "language": "python",
   "name": "omnifold"
  },
  "language_info": {
   "codemirror_mode": {
    "name": "ipython",
    "version": 3
   },
   "file_extension": ".py",
   "mimetype": "text/x-python",
   "name": "python",
   "nbconvert_exporter": "python",
   "pygments_lexer": "ipython3",
   "version": "3.7.9"
  },
  "notify_time": "0",
  "toc": {
   "base_numbering": 1,
   "nav_menu": {},
   "number_sections": false,
   "sideBar": true,
   "skip_h1_title": false,
   "title_cell": "Table of Contents",
   "title_sidebar": "Contents",
   "toc_cell": false,
   "toc_position": {
    "height": "calc(100% - 180px)",
    "left": "10px",
    "top": "150px",
    "width": "287.59375px"
   },
   "toc_section_display": true,
   "toc_window_display": true
  }
 },
 "nbformat": 4,
 "nbformat_minor": 2
}
