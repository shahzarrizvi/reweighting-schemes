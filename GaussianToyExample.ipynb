{
 "cells": [
  {
   "cell_type": "code",
   "execution_count": 1,
   "metadata": {
    "ExecuteTime": {
     "end_time": "2020-11-04T06:09:53.293790Z",
     "start_time": "2020-11-04T06:09:51.520957Z"
    }
   },
   "outputs": [
    {
     "name": "stderr",
     "output_type": "stream",
     "text": [
      "Using TensorFlow backend.\n"
     ]
    }
   ],
   "source": [
    "from __future__ import absolute_import, division, print_function\n",
    "\n",
    "import numpy as np\n",
    "from matplotlib import pyplot as plt\n",
    "from matplotlib.patches import Patch\n",
    "\n",
    "from sklearn.model_selection import train_test_split\n",
    "\n",
    "import tensorflow as tf\n",
    "import keras\n",
    "import keras.backend as K\n",
    "from keras.layers import Dense, Input\n",
    "from keras.models import Model\n",
    "from keras.utils import to_categorical\n",
    "from keras.callbacks import EarlyStopping"
   ]
  },
  {
   "cell_type": "code",
   "execution_count": 2,
   "metadata": {
    "ExecuteTime": {
     "end_time": "2020-11-04T06:09:53.301210Z",
     "start_time": "2020-11-04T06:09:53.296178Z"
    }
   },
   "outputs": [],
   "source": [
    "# Global plot settings\n",
    "from matplotlib import rc\n",
    "import matplotlib.font_manager\n",
    "\n",
    "rc('font', family='serif')\n",
    "rc('text', usetex=True)\n",
    "rc('font', size=22)\n",
    "rc('xtick', labelsize=15)\n",
    "rc('ytick', labelsize=15)\n",
    "rc('legend', fontsize=15)"
   ]
  },
  {
   "cell_type": "code",
   "execution_count": 3,
   "metadata": {
    "ExecuteTime": {
     "end_time": "2020-11-04T06:09:53.315366Z",
     "start_time": "2020-11-04T06:09:53.303083Z"
    }
   },
   "outputs": [],
   "source": [
    "# Define default plot styles\n",
    "plot_style_0 = {\n",
    "    'histtype': 'step',\n",
    "    'color': 'black',\n",
    "    'linewidth': 2,\n",
    "    'linestyle': '--',\n",
    "    'density': True\n",
    "}\n",
    "\n",
    "plot_style_1 = {\n",
    "    'histtype': 'step',\n",
    "    'color': 'black',\n",
    "    'linewidth': 2,\n",
    "    'density': True\n",
    "}\n",
    "\n",
    "plot_style_2 = {'alpha': 0.5, 'density': True}"
   ]
  },
  {
   "cell_type": "code",
   "execution_count": 4,
   "metadata": {
    "ExecuteTime": {
     "end_time": "2020-11-04T06:09:53.325133Z",
     "start_time": "2020-11-04T06:09:53.317013Z"
    }
   },
   "outputs": [
    {
     "name": "stdout",
     "output_type": "stream",
     "text": [
      "1.15.0\n",
      "2.2.4\n"
     ]
    }
   ],
   "source": [
    "# Check Versions\n",
    "print(tf.__version__)  # 1.15.0\n",
    "print(keras.__version__)  # 2.2.4"
   ]
  },
  {
   "cell_type": "markdown",
   "metadata": {},
   "source": [
    "# OmniFold Gaussian Toy Example"
   ]
  },
  {
   "cell_type": "markdown",
   "metadata": {},
   "source": [
    "## Setup the Datasets"
   ]
  },
  {
   "cell_type": "code",
   "execution_count": 5,
   "metadata": {
    "ExecuteTime": {
     "end_time": "2020-11-04T06:09:53.332414Z",
     "start_time": "2020-11-04T06:09:53.326554Z"
    }
   },
   "outputs": [],
   "source": [
    "mu0 = 0\n",
    "sigma0 = 1"
   ]
  },
  {
   "cell_type": "code",
   "execution_count": 6,
   "metadata": {
    "ExecuteTime": {
     "end_time": "2020-11-04T06:10:00.881859Z",
     "start_time": "2020-11-04T06:09:53.334581Z"
    }
   },
   "outputs": [],
   "source": [
    "N = 10**6\n",
    "# param = (mu, sigma)\n",
    "theta0_param = (mu0, sigma0)  # synthetic sample\n",
    "theta_unknown_param = (1, 1.5)  # this is the data (the target)\n",
    "epsilon = sigma0 / 1.  # Smearing width\n",
    "\n",
    "theta0_G = np.random.normal(theta0_param[0], theta0_param[1],\n",
    "                            N)  # Generator-level synthetic sample\n",
    "theta0_S = np.array([(x + np.random.normal(0, epsilon)) for x in theta0_G\n",
    "                     ])  # Detector smearing for synthetic sample\n",
    "theta0 = np.stack([theta0_G, theta0_S], axis=1)\n",
    "labels0 = np.zeros(len(theta0))\n",
    "\n",
    "theta_unknown_G = np.random.normal(theta_unknown_param[0],\n",
    "                                   theta_unknown_param[1], N)\n",
    "theta_unknown_S = np.array([(x + np.random.normal(0, epsilon))\n",
    "                            for x in theta_unknown_G])\n",
    "theta_unknown = np.stack([theta_unknown_G, theta_unknown_S], axis=1)\n",
    "labels_unknown = np.ones(len(theta_unknown))"
   ]
  },
  {
   "cell_type": "code",
   "execution_count": 7,
   "metadata": {
    "ExecuteTime": {
     "end_time": "2020-11-04T06:10:02.742490Z",
     "start_time": "2020-11-04T06:10:00.884899Z"
    }
   },
   "outputs": [
    {
     "data": {
      "image/png": "[encoded data removed]",
      "text/plain": [
       "<Figure size 864x360 with 2 Axes>"
      ]
     },
     "metadata": {
      "needs_background": "light"
     },
     "output_type": "display_data"
    }
   ],
   "source": [
    "bins = np.linspace(-6, 6, 31)\n",
    "\n",
    "fig, ax = plt.subplots(1,\n",
    "                       2,\n",
    "                       figsize=(12, 5),\n",
    "                       constrained_layout=True,\n",
    "                       sharey=True)\n",
    "\n",
    "ax[0].set_xlabel('$x$')\n",
    "ax[0].set_ylabel('Events per bin (normalized)')\n",
    "ax[0].hist(theta0_G, bins=bins, **plot_style_2, label='Generation')\n",
    "ax[0].hist(theta0_S, bins=bins, **plot_style_2, label='Simulation')\n",
    "legend = ax[0].legend(\n",
    "    title='Synthetic\\n($\\mu$, $\\sigma$) = {}'.format(theta0_param),\n",
    "    loc='upper left',\n",
    "    frameon=False)\n",
    "plt.setp(legend.get_title(), multialignment='center')\n",
    "\n",
    "ax[1].set_xlabel('$x$')\n",
    "ax[1].hist(theta_unknown_G, bins=bins, **plot_style_2, label='Truth')\n",
    "ax[1].hist(theta_unknown_S, bins=bins, **plot_style_2, label='Detector')\n",
    "legend = ax[1].legend(\n",
    "    title='Natural\\n($\\mu$, $\\sigma$) = {}'.format(theta_unknown_param),\n",
    "    loc='upper left',\n",
    "    frameon=False)\n",
    "plt.setp(legend.get_title(), multialignment='center')\n",
    "\n",
    "fig.show()"
   ]
  },
  {
   "cell_type": "markdown",
   "metadata": {},
   "source": [
    "## Unfold Data"
   ]
  },
  {
   "cell_type": "code",
   "execution_count": 8,
   "metadata": {
    "ExecuteTime": {
     "end_time": "2020-11-04T06:10:02.747435Z",
     "start_time": "2020-11-04T06:10:02.744530Z"
    }
   },
   "outputs": [],
   "source": [
    "iterations = 5"
   ]
  },
  {
   "cell_type": "code",
   "execution_count": 9,
   "metadata": {
    "ExecuteTime": {
     "end_time": "2020-11-04T06:10:02.829690Z",
     "start_time": "2020-11-04T06:10:02.749191Z"
    }
   },
   "outputs": [
    {
     "name": "stdout",
     "output_type": "stream",
     "text": [
      "WARNING:tensorflow:From /home/asuresh/programs/anaconda3/envs/omnifold/lib/python3.7/site-packages/keras/backend/tensorflow_backend.py:74: The name tf.get_default_graph is deprecated. Please use tf.compat.v1.get_default_graph instead.\n",
      "\n",
      "WARNING:tensorflow:From /home/asuresh/programs/anaconda3/envs/omnifold/lib/python3.7/site-packages/keras/backend/tensorflow_backend.py:517: The name tf.placeholder is deprecated. Please use tf.compat.v1.placeholder instead.\n",
      "\n",
      "WARNING:tensorflow:From /home/asuresh/programs/anaconda3/envs/omnifold/lib/python3.7/site-packages/keras/backend/tensorflow_backend.py:4138: The name tf.random_uniform is deprecated. Please use tf.random.uniform instead.\n",
      "\n"
     ]
    }
   ],
   "source": [
    "xvals_1 = np.concatenate((theta0_S, theta_unknown_S))\n",
    "yvals_1 = np.concatenate((labels0, labels_unknown))\n",
    "\n",
    "xvals_2 = np.concatenate((theta0_G, theta0_G))\n",
    "yvals_2 = np.concatenate((labels0, labels_unknown))\n",
    "\n",
    "weights = np.empty(shape=(iterations, 2, len(theta0)))\n",
    "# shape = (iteration, step, event)\n",
    "\n",
    "weights_pull = np.ones(len(theta0_S))\n",
    "weights_push = np.ones(len(theta0_G))\n",
    "\n",
    "inputs = Input((1, ))\n",
    "hidden_layer_1 = Dense(50, activation='relu')(inputs)\n",
    "hidden_layer_2 = Dense(50, activation='relu')(hidden_layer_1)\n",
    "hidden_layer_3 = Dense(50, activation='relu')(hidden_layer_2)\n",
    "outputs = Dense(1, activation='sigmoid')(hidden_layer_3)\n",
    "\n",
    "model = Model(inputs=inputs, outputs=outputs)\n",
    "\n",
    "earlystopping = EarlyStopping(patience=10,\n",
    "                              verbose=1,\n",
    "                              restore_best_weights=True)"
   ]
  },
  {
   "cell_type": "code",
   "execution_count": 10,
   "metadata": {
    "ExecuteTime": {
     "end_time": "2020-11-04T06:10:02.837526Z",
     "start_time": "2020-11-04T06:10:02.832343Z"
    }
   },
   "outputs": [],
   "source": [
    "# from NN (DCTR)\n",
    "def reweight(events):\n",
    "    f = model.predict(events, batch_size=10000)\n",
    "    weights = f / (1. - f)\n",
    "    return np.squeeze(weights)"
   ]
  },
  {
   "cell_type": "code",
   "execution_count": 11,
   "metadata": {
    "ExecuteTime": {
     "end_time": "2020-11-04T06:38:40.296212Z",
     "start_time": "2020-11-04T06:10:02.839994Z"
    },
    "scrolled": true
   },
   "outputs": [
    {
     "name": "stdout",
     "output_type": "stream",
     "text": [
      "\n",
      "ITERATION: 1\n",
      "\n",
      "STEP 1\n",
      "\n",
      "WARNING:tensorflow:From /home/asuresh/programs/anaconda3/envs/omnifold/lib/python3.7/site-packages/keras/optimizers.py:790: The name tf.train.Optimizer is deprecated. Please use tf.compat.v1.train.Optimizer instead.\n",
      "\n",
      "WARNING:tensorflow:From /home/asuresh/programs/anaconda3/envs/omnifold/lib/python3.7/site-packages/keras/backend/tensorflow_backend.py:3376: The name tf.log is deprecated. Please use tf.math.log instead.\n",
      "\n",
      "WARNING:tensorflow:From /home/asuresh/programs/anaconda3/envs/omnifold/lib/python3.7/site-packages/tensorflow_core/python/ops/nn_impl.py:183: where (from tensorflow.python.ops.array_ops) is deprecated and will be removed in a future version.\n",
      "Instructions for updating:\n",
      "Use tf.where in 2.0, which has the same broadcast rule as np.where\n",
      "WARNING:tensorflow:From /home/asuresh/programs/anaconda3/envs/omnifold/lib/python3.7/site-packages/keras/backend/tensorflow_backend.py:986: The name tf.assign_add is deprecated. Please use tf.compat.v1.assign_add instead.\n",
      "\n",
      "WARNING:tensorflow:From /home/asuresh/programs/anaconda3/envs/omnifold/lib/python3.7/site-packages/keras/backend/tensorflow_backend.py:973: The name tf.assign is deprecated. Please use tf.compat.v1.assign instead.\n",
      "\n",
      "WARNING:tensorflow:From /home/asuresh/programs/anaconda3/envs/omnifold/lib/python3.7/site-packages/keras/backend/tensorflow_backend.py:2741: The name tf.Session is deprecated. Please use tf.compat.v1.Session instead.\n",
      "\n",
      "Train on 1500000 samples, validate on 500000 samples\n",
      "Epoch 1/200\n",
      "WARNING:tensorflow:From /home/asuresh/programs/anaconda3/envs/omnifold/lib/python3.7/site-packages/keras/backend/tensorflow_backend.py:174: The name tf.get_default_session is deprecated. Please use tf.compat.v1.get_default_session instead.\n",
      "\n",
      "WARNING:tensorflow:From /home/asuresh/programs/anaconda3/envs/omnifold/lib/python3.7/site-packages/keras/backend/tensorflow_backend.py:181: The name tf.ConfigProto is deprecated. Please use tf.compat.v1.ConfigProto instead.\n",
      "\n",
      "WARNING:tensorflow:From /home/asuresh/programs/anaconda3/envs/omnifold/lib/python3.7/site-packages/keras/backend/tensorflow_backend.py:190: The name tf.global_variables is deprecated. Please use tf.compat.v1.global_variables instead.\n",
      "\n",
      "WARNING:tensorflow:From /home/asuresh/programs/anaconda3/envs/omnifold/lib/python3.7/site-packages/keras/backend/tensorflow_backend.py:199: The name tf.is_variable_initialized is deprecated. Please use tf.compat.v1.is_variable_initialized instead.\n",
      "\n",
      "WARNING:tensorflow:From /home/asuresh/programs/anaconda3/envs/omnifold/lib/python3.7/site-packages/keras/backend/tensorflow_backend.py:206: The name tf.variables_initializer is deprecated. Please use tf.compat.v1.variables_initializer instead.\n",
      "\n",
      "1500000/1500000 [==============================] - 9s 6us/step - loss: 0.6410 - acc: 0.6246 - val_loss: 0.6368 - val_acc: 0.6300\n",
      "Epoch 2/200\n",
      "1500000/1500000 [==============================] - 9s 6us/step - loss: 0.6369 - acc: 0.6300 - val_loss: 0.6365 - val_acc: 0.6303\n",
      "Epoch 3/200\n",
      "1500000/1500000 [==============================] - 8s 5us/step - loss: 0.6368 - acc: 0.6301 - val_loss: 0.6365 - val_acc: 0.6304\n",
      "Epoch 4/200\n",
      "1500000/1500000 [==============================] - 8s 5us/step - loss: 0.6367 - acc: 0.6302 - val_loss: 0.6365 - val_acc: 0.6305\n",
      "Epoch 5/200\n",
      "1500000/1500000 [==============================] - 8s 5us/step - loss: 0.6367 - acc: 0.6303 - val_loss: 0.6365 - val_acc: 0.6304\n",
      "Epoch 6/200\n",
      "1500000/1500000 [==============================] - 8s 5us/step - loss: 0.6367 - acc: 0.6302 - val_loss: 0.6366 - val_acc: 0.6304\n",
      "Epoch 7/200\n",
      "1500000/1500000 [==============================] - 8s 5us/step - loss: 0.6367 - acc: 0.6302 - val_loss: 0.6366 - val_acc: 0.6305\n",
      "Epoch 8/200\n",
      "1500000/1500000 [==============================] - 8s 5us/step - loss: 0.6367 - acc: 0.6303 - val_loss: 0.6365 - val_acc: 0.6304\n",
      "Epoch 9/200\n",
      "1500000/1500000 [==============================] - 8s 5us/step - loss: 0.6367 - acc: 0.6301 - val_loss: 0.6364 - val_acc: 0.6306\n",
      "Epoch 10/200\n",
      "1500000/1500000 [==============================] - 8s 6us/step - loss: 0.6367 - acc: 0.6302 - val_loss: 0.6366 - val_acc: 0.6302\n",
      "Epoch 11/200\n",
      "1500000/1500000 [==============================] - 8s 5us/step - loss: 0.6367 - acc: 0.6302 - val_loss: 0.6365 - val_acc: 0.6304\n",
      "Epoch 12/200\n",
      "1500000/1500000 [==============================] - 8s 5us/step - loss: 0.6367 - acc: 0.6302 - val_loss: 0.6369 - val_acc: 0.6304\n",
      "Epoch 13/200\n",
      "1500000/1500000 [==============================] - 8s 5us/step - loss: 0.6367 - acc: 0.6302 - val_loss: 0.6365 - val_acc: 0.6303\n",
      "Epoch 14/200\n",
      "1500000/1500000 [==============================] - 8s 5us/step - loss: 0.6367 - acc: 0.6303 - val_loss: 0.6364 - val_acc: 0.6306\n",
      "Epoch 15/200\n",
      "1500000/1500000 [==============================] - 8s 5us/step - loss: 0.6367 - acc: 0.6302 - val_loss: 0.6366 - val_acc: 0.6301\n",
      "Epoch 16/200\n",
      "1500000/1500000 [==============================] - 8s 5us/step - loss: 0.6367 - acc: 0.6303 - val_loss: 0.6364 - val_acc: 0.6305\n",
      "Epoch 17/200\n",
      "1500000/1500000 [==============================] - 8s 5us/step - loss: 0.6367 - acc: 0.6303 - val_loss: 0.6365 - val_acc: 0.6304\n",
      "Epoch 18/200\n",
      "1500000/1500000 [==============================] - 8s 6us/step - loss: 0.6367 - acc: 0.6304 - val_loss: 0.6364 - val_acc: 0.6304\n",
      "Epoch 19/200\n",
      "1500000/1500000 [==============================] - 9s 6us/step - loss: 0.6367 - acc: 0.6302 - val_loss: 0.6364 - val_acc: 0.6306\n",
      "Epoch 20/200\n",
      "1500000/1500000 [==============================] - 8s 5us/step - loss: 0.6367 - acc: 0.6303 - val_loss: 0.6365 - val_acc: 0.6304\n",
      "Epoch 21/200\n",
      "1500000/1500000 [==============================] - 8s 5us/step - loss: 0.6367 - acc: 0.6302 - val_loss: 0.6364 - val_acc: 0.6305\n",
      "Epoch 22/200\n",
      "1500000/1500000 [==============================] - 8s 5us/step - loss: 0.6367 - acc: 0.6304 - val_loss: 0.6365 - val_acc: 0.6304\n",
      "Epoch 23/200\n",
      "1500000/1500000 [==============================] - 8s 5us/step - loss: 0.6367 - acc: 0.6303 - val_loss: 0.6364 - val_acc: 0.6305\n",
      "Epoch 24/200\n",
      "1500000/1500000 [==============================] - 8s 5us/step - loss: 0.6367 - acc: 0.6302 - val_loss: 0.6364 - val_acc: 0.6305\n",
      "Epoch 25/200\n",
      "1500000/1500000 [==============================] - 8s 5us/step - loss: 0.6367 - acc: 0.6303 - val_loss: 0.6364 - val_acc: 0.6304\n",
      "Epoch 26/200\n",
      "1500000/1500000 [==============================] - 8s 5us/step - loss: 0.6367 - acc: 0.6303 - val_loss: 0.6366 - val_acc: 0.6304\n",
      "Epoch 27/200\n",
      "1500000/1500000 [==============================] - 7s 5us/step - loss: 0.6367 - acc: 0.6302 - val_loss: 0.6366 - val_acc: 0.6303\n",
      "Epoch 28/200\n",
      "1500000/1500000 [==============================] - 7s 5us/step - loss: 0.6367 - acc: 0.6303 - val_loss: 0.6365 - val_acc: 0.6303\n",
      "Restoring model weights from the end of the best epoch\n",
      "Epoch 00028: early stopping\n",
      "\n",
      "STEP 2\n",
      "\n",
      "Train on 1500000 samples, validate on 500000 samples\n",
      "Epoch 1/200\n",
      "1500000/1500000 [==============================] - 9s 6us/step - loss: 0.6651 - acc: 0.5000 - val_loss: 0.6650 - val_acc: 0.4998\n",
      "Epoch 2/200\n",
      "1500000/1500000 [==============================] - 8s 5us/step - loss: 0.6650 - acc: 0.5001 - val_loss: 0.6650 - val_acc: 0.4997\n",
      "Epoch 3/200\n",
      "1500000/1500000 [==============================] - 8s 5us/step - loss: 0.6650 - acc: 0.5001 - val_loss: 0.6650 - val_acc: 0.4997\n",
      "Epoch 4/200\n",
      "1500000/1500000 [==============================] - 8s 5us/step - loss: 0.6650 - acc: 0.5001 - val_loss: 0.6650 - val_acc: 0.4998\n",
      "Epoch 5/200\n",
      "1500000/1500000 [==============================] - 8s 5us/step - loss: 0.6650 - acc: 0.5001 - val_loss: 0.6650 - val_acc: 0.4998\n",
      "Epoch 6/200\n",
      "1500000/1500000 [==============================] - 8s 5us/step - loss: 0.6650 - acc: 0.5001 - val_loss: 0.6651 - val_acc: 0.4998\n",
      "Epoch 7/200\n",
      "1500000/1500000 [==============================] - 8s 5us/step - loss: 0.6650 - acc: 0.5001 - val_loss: 0.6650 - val_acc: 0.4999\n",
      "Epoch 8/200\n",
      "1500000/1500000 [==============================] - 8s 5us/step - loss: 0.6650 - acc: 0.5000 - val_loss: 0.6650 - val_acc: 0.4998\n",
      "Epoch 9/200\n",
      "1500000/1500000 [==============================] - 8s 5us/step - loss: 0.6650 - acc: 0.5001 - val_loss: 0.6650 - val_acc: 0.4998\n",
      "Epoch 10/200\n",
      "1500000/1500000 [==============================] - 6s 4us/step - loss: 0.6650 - acc: 0.5001 - val_loss: 0.6651 - val_acc: 0.4998\n"
     ]
    },
    {
     "name": "stdout",
     "output_type": "stream",
     "text": [
      "Epoch 11/200\n",
      "1500000/1500000 [==============================] - 8s 5us/step - loss: 0.6650 - acc: 0.5000 - val_loss: 0.6649 - val_acc: 0.4997\n",
      "Epoch 12/200\n",
      "1500000/1500000 [==============================] - 8s 5us/step - loss: 0.6650 - acc: 0.5000 - val_loss: 0.6650 - val_acc: 0.4998\n",
      "Epoch 13/200\n",
      "1500000/1500000 [==============================] - 8s 5us/step - loss: 0.6650 - acc: 0.5003 - val_loss: 0.6650 - val_acc: 0.4999\n",
      "Epoch 14/200\n",
      "1500000/1500000 [==============================] - 8s 5us/step - loss: 0.6650 - acc: 0.5000 - val_loss: 0.6649 - val_acc: 0.4997\n",
      "Epoch 15/200\n",
      "1500000/1500000 [==============================] - 8s 5us/step - loss: 0.6650 - acc: 0.5001 - val_loss: 0.6650 - val_acc: 0.4998\n",
      "Epoch 16/200\n",
      "1500000/1500000 [==============================] - 8s 5us/step - loss: 0.6650 - acc: 0.5001 - val_loss: 0.6649 - val_acc: 0.4997\n",
      "Epoch 17/200\n",
      "1500000/1500000 [==============================] - 10s 6us/step - loss: 0.6650 - acc: 0.5000 - val_loss: 0.6650 - val_acc: 0.4997\n",
      "Epoch 18/200\n",
      "1500000/1500000 [==============================] - 8s 5us/step - loss: 0.6650 - acc: 0.5001 - val_loss: 0.6651 - val_acc: 0.4997\n",
      "Epoch 19/200\n",
      "1500000/1500000 [==============================] - 8s 5us/step - loss: 0.6650 - acc: 0.5000 - val_loss: 0.6650 - val_acc: 0.4998\n",
      "Epoch 20/200\n",
      "1500000/1500000 [==============================] - 8s 5us/step - loss: 0.6650 - acc: 0.5001 - val_loss: 0.6652 - val_acc: 0.4999\n",
      "Epoch 21/200\n",
      "1500000/1500000 [==============================] - 8s 5us/step - loss: 0.6650 - acc: 0.4999 - val_loss: 0.6650 - val_acc: 0.4998\n",
      "Restoring model weights from the end of the best epoch\n",
      "Epoch 00021: early stopping\n",
      "\n",
      "ITERATION: 2\n",
      "\n",
      "STEP 1\n",
      "\n",
      "Train on 1500000 samples, validate on 500000 samples\n",
      "Epoch 1/200\n",
      "1500000/1500000 [==============================] - 9s 6us/step - loss: 0.6761 - acc: 0.6201 - val_loss: 0.6736 - val_acc: 0.6201\n",
      "Epoch 2/200\n",
      "1500000/1500000 [==============================] - 8s 5us/step - loss: 0.6742 - acc: 0.6205 - val_loss: 0.6738 - val_acc: 0.6220\n",
      "Epoch 3/200\n",
      "1500000/1500000 [==============================] - 8s 5us/step - loss: 0.6742 - acc: 0.6203 - val_loss: 0.6737 - val_acc: 0.6221\n",
      "Epoch 4/200\n",
      "1500000/1500000 [==============================] - 8s 5us/step - loss: 0.6742 - acc: 0.6210 - val_loss: 0.6737 - val_acc: 0.6198\n",
      "Epoch 5/200\n",
      "1500000/1500000 [==============================] - 8s 5us/step - loss: 0.6742 - acc: 0.6207 - val_loss: 0.6737 - val_acc: 0.6210\n",
      "Epoch 6/200\n",
      "1500000/1500000 [==============================] - 8s 5us/step - loss: 0.6742 - acc: 0.6211 - val_loss: 0.6737 - val_acc: 0.6202\n",
      "Epoch 7/200\n",
      "1500000/1500000 [==============================] - 8s 5us/step - loss: 0.6742 - acc: 0.6212 - val_loss: 0.6737 - val_acc: 0.6214\n",
      "Epoch 8/200\n",
      "1500000/1500000 [==============================] - 8s 6us/step - loss: 0.6742 - acc: 0.6206 - val_loss: 0.6737 - val_acc: 0.6216\n",
      "Epoch 9/200\n",
      "1500000/1500000 [==============================] - 9s 6us/step - loss: 0.6742 - acc: 0.6213 - val_loss: 0.6742 - val_acc: 0.6258\n",
      "Epoch 10/200\n",
      "1500000/1500000 [==============================] - 8s 6us/step - loss: 0.6742 - acc: 0.6209 - val_loss: 0.6736 - val_acc: 0.6230\n",
      "Epoch 11/200\n",
      "1500000/1500000 [==============================] - 8s 5us/step - loss: 0.6742 - acc: 0.6216 - val_loss: 0.6737 - val_acc: 0.6191\n",
      "Restoring model weights from the end of the best epoch\n",
      "Epoch 00011: early stopping\n",
      "\n",
      "STEP 2\n",
      "\n",
      "Train on 1500000 samples, validate on 500000 samples\n",
      "Epoch 1/200\n",
      "1500000/1500000 [==============================] - 9s 6us/step - loss: 0.6305 - acc: 0.4998 - val_loss: 0.6292 - val_acc: 0.5000\n",
      "Epoch 2/200\n",
      "1500000/1500000 [==============================] - 8s 5us/step - loss: 0.6279 - acc: 0.5000 - val_loss: 0.6291 - val_acc: 0.5000\n",
      "Epoch 3/200\n",
      "1500000/1500000 [==============================] - 8s 5us/step - loss: 0.6279 - acc: 0.5001 - val_loss: 0.6292 - val_acc: 0.5000\n",
      "Epoch 4/200\n",
      "1500000/1500000 [==============================] - 8s 5us/step - loss: 0.6279 - acc: 0.5000 - val_loss: 0.6292 - val_acc: 0.5000\n",
      "Epoch 5/200\n",
      "1500000/1500000 [==============================] - 8s 5us/step - loss: 0.6279 - acc: 0.5000 - val_loss: 0.6292 - val_acc: 0.5000\n",
      "Epoch 6/200\n",
      "1500000/1500000 [==============================] - 8s 6us/step - loss: 0.6279 - acc: 0.5000 - val_loss: 0.6292 - val_acc: 0.4999\n",
      "Epoch 7/200\n",
      "1500000/1500000 [==============================] - 8s 5us/step - loss: 0.6279 - acc: 0.5000 - val_loss: 0.6292 - val_acc: 0.5000\n",
      "Epoch 8/200\n",
      "1500000/1500000 [==============================] - 8s 5us/step - loss: 0.6279 - acc: 0.5001 - val_loss: 0.6292 - val_acc: 0.5000\n",
      "Epoch 9/200\n",
      "1500000/1500000 [==============================] - 8s 5us/step - loss: 0.6279 - acc: 0.5000 - val_loss: 0.6292 - val_acc: 0.5000\n",
      "Epoch 10/200\n",
      "1500000/1500000 [==============================] - 8s 6us/step - loss: 0.6279 - acc: 0.5000 - val_loss: 0.6292 - val_acc: 0.5001\n",
      "Epoch 11/200\n",
      "1500000/1500000 [==============================] - 9s 6us/step - loss: 0.6280 - acc: 0.5000 - val_loss: 0.6291 - val_acc: 0.4999\n",
      "Epoch 12/200\n",
      "1500000/1500000 [==============================] - 8s 5us/step - loss: 0.6279 - acc: 0.4999 - val_loss: 0.6293 - val_acc: 0.5000\n",
      "Restoring model weights from the end of the best epoch\n",
      "Epoch 00012: early stopping\n",
      "\n",
      "ITERATION: 3\n",
      "\n",
      "STEP 1\n",
      "\n",
      "Train on 1500000 samples, validate on 500000 samples\n",
      "Epoch 1/200\n",
      "1500000/1500000 [==============================] - 9s 6us/step - loss: 0.7028 - acc: 0.5945 - val_loss: 0.6911 - val_acc: 0.5857\n",
      "Epoch 2/200\n",
      "1500000/1500000 [==============================] - 8s 5us/step - loss: 0.6926 - acc: 0.5844 - val_loss: 0.6909 - val_acc: 0.5889\n",
      "Epoch 3/200\n",
      "1500000/1500000 [==============================] - 8s 5us/step - loss: 0.6926 - acc: 0.5854 - val_loss: 0.6909 - val_acc: 0.5801\n",
      "Epoch 4/200\n",
      "1500000/1500000 [==============================] - 8s 5us/step - loss: 0.6927 - acc: 0.5852 - val_loss: 0.6909 - val_acc: 0.5832\n",
      "Epoch 5/200\n",
      "1500000/1500000 [==============================] - 8s 5us/step - loss: 0.6926 - acc: 0.5845 - val_loss: 0.6908 - val_acc: 0.5951\n",
      "Epoch 6/200\n",
      "1500000/1500000 [==============================] - 8s 5us/step - loss: 0.6926 - acc: 0.5853 - val_loss: 0.6909 - val_acc: 0.5822\n",
      "Epoch 7/200\n",
      "1500000/1500000 [==============================] - 7s 4us/step - loss: 0.6926 - acc: 0.5855 - val_loss: 0.6909 - val_acc: 0.5862\n",
      "Epoch 8/200\n",
      "1500000/1500000 [==============================] - 8s 5us/step - loss: 0.6926 - acc: 0.5852 - val_loss: 0.6909 - val_acc: 0.5990\n",
      "Epoch 9/200\n",
      "1500000/1500000 [==============================] - 8s 5us/step - loss: 0.6926 - acc: 0.5866 - val_loss: 0.6907 - val_acc: 0.5866\n",
      "Epoch 10/200\n",
      "1500000/1500000 [==============================] - 8s 5us/step - loss: 0.6926 - acc: 0.5850 - val_loss: 0.6907 - val_acc: 0.5874\n",
      "Epoch 11/200\n",
      "1500000/1500000 [==============================] - 7s 5us/step - loss: 0.6926 - acc: 0.5860 - val_loss: 0.6907 - val_acc: 0.5869\n",
      "Epoch 12/200\n",
      "1500000/1500000 [==============================] - 8s 6us/step - loss: 0.6926 - acc: 0.5862 - val_loss: 0.6907 - val_acc: 0.5819\n",
      "Epoch 13/200\n",
      "1500000/1500000 [==============================] - 8s 5us/step - loss: 0.6926 - acc: 0.5877 - val_loss: 0.6908 - val_acc: 0.5954\n",
      "Epoch 14/200\n",
      "1500000/1500000 [==============================] - 8s 5us/step - loss: 0.6926 - acc: 0.5873 - val_loss: 0.6907 - val_acc: 0.5828\n",
      "Epoch 15/200\n",
      "1500000/1500000 [==============================] - 9s 6us/step - loss: 0.6926 - acc: 0.5872 - val_loss: 0.6911 - val_acc: 0.5778\n",
      "Epoch 16/200\n",
      "1500000/1500000 [==============================] - 8s 5us/step - loss: 0.6925 - acc: 0.5858 - val_loss: 0.6910 - val_acc: 0.5789\n",
      "Epoch 17/200\n",
      "1500000/1500000 [==============================] - 10s 7us/step - loss: 0.6926 - acc: 0.5866 - val_loss: 0.6908 - val_acc: 0.5795\n",
      "Epoch 18/200\n",
      "1500000/1500000 [==============================] - 7s 5us/step - loss: 0.6926 - acc: 0.5878 - val_loss: 0.6912 - val_acc: 0.5752\n",
      "Epoch 19/200\n",
      "1500000/1500000 [==============================] - 8s 5us/step - loss: 0.6925 - acc: 0.5840 - val_loss: 0.6912 - val_acc: 0.5769\n",
      "Epoch 20/200\n",
      "1500000/1500000 [==============================] - 8s 5us/step - loss: 0.6926 - acc: 0.5875 - val_loss: 0.6908 - val_acc: 0.5792\n",
      "Restoring model weights from the end of the best epoch\n",
      "Epoch 00020: early stopping\n",
      "\n",
      "STEP 2\n",
      "\n"
     ]
    },
    {
     "name": "stdout",
     "output_type": "stream",
     "text": [
      "Train on 1500000 samples, validate on 500000 samples\n",
      "Epoch 1/200\n",
      "1500000/1500000 [==============================] - 9s 6us/step - loss: 0.6175 - acc: 0.4999 - val_loss: 0.6096 - val_acc: 0.4996\n",
      "Epoch 2/200\n",
      "1500000/1500000 [==============================] - 8s 5us/step - loss: 0.6098 - acc: 0.5001 - val_loss: 0.6096 - val_acc: 0.4996\n",
      "Epoch 3/200\n",
      "1500000/1500000 [==============================] - 8s 5us/step - loss: 0.6098 - acc: 0.5002 - val_loss: 0.6096 - val_acc: 0.4997\n",
      "Epoch 4/200\n",
      "1500000/1500000 [==============================] - 8s 5us/step - loss: 0.6098 - acc: 0.5001 - val_loss: 0.6096 - val_acc: 0.4996\n",
      "Epoch 5/200\n",
      "1500000/1500000 [==============================] - 8s 5us/step - loss: 0.6098 - acc: 0.5001 - val_loss: 0.6096 - val_acc: 0.4996\n",
      "Epoch 6/200\n",
      "1500000/1500000 [==============================] - 8s 5us/step - loss: 0.6099 - acc: 0.5001 - val_loss: 0.6096 - val_acc: 0.4997\n",
      "Epoch 7/200\n",
      "1500000/1500000 [==============================] - 8s 6us/step - loss: 0.6098 - acc: 0.5001 - val_loss: 0.6097 - val_acc: 0.4997\n",
      "Epoch 8/200\n",
      "1500000/1500000 [==============================] - 9s 6us/step - loss: 0.6098 - acc: 0.5001 - val_loss: 0.6096 - val_acc: 0.4996\n",
      "Epoch 9/200\n",
      "1500000/1500000 [==============================] - 8s 5us/step - loss: 0.6098 - acc: 0.5001 - val_loss: 0.6096 - val_acc: 0.4997\n",
      "Epoch 10/200\n",
      "1500000/1500000 [==============================] - 8s 5us/step - loss: 0.6098 - acc: 0.5001 - val_loss: 0.6096 - val_acc: 0.4997\n",
      "Epoch 11/200\n",
      "1500000/1500000 [==============================] - 8s 5us/step - loss: 0.6099 - acc: 0.5001 - val_loss: 0.6097 - val_acc: 0.4996\n",
      "Epoch 12/200\n",
      "1500000/1500000 [==============================] - 8s 5us/step - loss: 0.6099 - acc: 0.5001 - val_loss: 0.6097 - val_acc: 0.4996\n",
      "Epoch 13/200\n",
      "1500000/1500000 [==============================] - 8s 5us/step - loss: 0.6099 - acc: 0.5001 - val_loss: 0.6097 - val_acc: 0.4997\n",
      "Epoch 14/200\n",
      "1500000/1500000 [==============================] - 9s 6us/step - loss: 0.6099 - acc: 0.5001 - val_loss: 0.6098 - val_acc: 0.4997\n",
      "Restoring model weights from the end of the best epoch\n",
      "Epoch 00014: early stopping\n",
      "\n",
      "ITERATION: 4\n",
      "\n",
      "STEP 1\n",
      "\n",
      "Train on 1500000 samples, validate on 500000 samples\n",
      "Epoch 1/200\n",
      "1500000/1500000 [==============================] - 9s 6us/step - loss: 0.7121 - acc: 0.5739 - val_loss: 0.6944 - val_acc: 0.5435\n",
      "Epoch 2/200\n",
      "1500000/1500000 [==============================] - 8s 5us/step - loss: 0.6933 - acc: 0.5407 - val_loss: 0.6944 - val_acc: 0.5434\n",
      "Epoch 3/200\n",
      "1500000/1500000 [==============================] - 8s 5us/step - loss: 0.6932 - acc: 0.5362 - val_loss: 0.6942 - val_acc: 0.5411\n",
      "Epoch 4/200\n",
      "1500000/1500000 [==============================] - 8s 6us/step - loss: 0.6932 - acc: 0.5383 - val_loss: 0.6943 - val_acc: 0.5197\n",
      "Epoch 5/200\n",
      "1500000/1500000 [==============================] - 8s 5us/step - loss: 0.6932 - acc: 0.5357 - val_loss: 0.6943 - val_acc: 0.5417\n",
      "Epoch 6/200\n",
      "1500000/1500000 [==============================] - 8s 5us/step - loss: 0.6932 - acc: 0.5388 - val_loss: 0.6947 - val_acc: 0.5409\n",
      "Epoch 7/200\n",
      "1500000/1500000 [==============================] - 8s 5us/step - loss: 0.6931 - acc: 0.5358 - val_loss: 0.6943 - val_acc: 0.5430\n",
      "Epoch 8/200\n",
      "1500000/1500000 [==============================] - 8s 5us/step - loss: 0.6932 - acc: 0.5395 - val_loss: 0.6944 - val_acc: 0.5601\n",
      "Epoch 9/200\n",
      "1500000/1500000 [==============================] - 8s 5us/step - loss: 0.6932 - acc: 0.5386 - val_loss: 0.6947 - val_acc: 0.5523\n",
      "Epoch 10/200\n",
      "1500000/1500000 [==============================] - 8s 5us/step - loss: 0.6931 - acc: 0.5381 - val_loss: 0.6942 - val_acc: 0.5403\n",
      "Epoch 11/200\n",
      "1500000/1500000 [==============================] - 8s 6us/step - loss: 0.6932 - acc: 0.5351 - val_loss: 0.6944 - val_acc: 0.5204\n",
      "Epoch 12/200\n",
      "1500000/1500000 [==============================] - 9s 6us/step - loss: 0.6932 - acc: 0.5396 - val_loss: 0.6944 - val_acc: 0.5488\n",
      "Epoch 13/200\n",
      "1500000/1500000 [==============================] - 8s 5us/step - loss: 0.6931 - acc: 0.5385 - val_loss: 0.6942 - val_acc: 0.5413\n",
      "Epoch 14/200\n",
      "1500000/1500000 [==============================] - 8s 5us/step - loss: 0.6931 - acc: 0.5356 - val_loss: 0.6943 - val_acc: 0.5426\n",
      "Epoch 15/200\n",
      "1500000/1500000 [==============================] - 8s 5us/step - loss: 0.6931 - acc: 0.5377 - val_loss: 0.6943 - val_acc: 0.5334\n",
      "Epoch 16/200\n",
      "1500000/1500000 [==============================] - 8s 5us/step - loss: 0.6932 - acc: 0.5395 - val_loss: 0.6943 - val_acc: 0.5299\n",
      "Epoch 17/200\n",
      "1500000/1500000 [==============================] - 8s 5us/step - loss: 0.6933 - acc: 0.5364 - val_loss: 0.6945 - val_acc: 0.5382\n",
      "Epoch 18/200\n",
      "1500000/1500000 [==============================] - 8s 5us/step - loss: 0.6933 - acc: 0.5370 - val_loss: 0.6942 - val_acc: 0.5262\n",
      "Epoch 19/200\n",
      "1500000/1500000 [==============================] - 8s 5us/step - loss: 0.6932 - acc: 0.5338 - val_loss: 0.6946 - val_acc: 0.5388\n",
      "Epoch 20/200\n",
      "1500000/1500000 [==============================] - 6s 4us/step - loss: 0.6932 - acc: 0.5376 - val_loss: 0.6945 - val_acc: 0.5470\n",
      "Epoch 21/200\n",
      "1500000/1500000 [==============================] - 8s 6us/step - loss: 0.6932 - acc: 0.5382 - val_loss: 0.6943 - val_acc: 0.5449\n",
      "Epoch 22/200\n",
      "1500000/1500000 [==============================] - 8s 5us/step - loss: 0.6931 - acc: 0.5338 - val_loss: 0.6942 - val_acc: 0.5460\n",
      "Epoch 23/200\n",
      "1500000/1500000 [==============================] - 8s 5us/step - loss: 0.6932 - acc: 0.5400 - val_loss: 0.6943 - val_acc: 0.5286\n",
      "Epoch 24/200\n",
      "1500000/1500000 [==============================] - 8s 5us/step - loss: 0.6933 - acc: 0.5408 - val_loss: 0.6943 - val_acc: 0.5449\n",
      "Epoch 25/200\n",
      "1500000/1500000 [==============================] - 8s 5us/step - loss: 0.6933 - acc: 0.5333 - val_loss: 0.6943 - val_acc: 0.5410\n",
      "Epoch 26/200\n",
      "1500000/1500000 [==============================] - 8s 5us/step - loss: 0.6932 - acc: 0.5350 - val_loss: 0.6942 - val_acc: 0.5416\n",
      "Epoch 27/200\n",
      "1500000/1500000 [==============================] - 8s 5us/step - loss: 0.6932 - acc: 0.5359 - val_loss: 0.6942 - val_acc: 0.5233\n",
      "Epoch 28/200\n",
      "1500000/1500000 [==============================] - 8s 5us/step - loss: 0.6931 - acc: 0.5328 - val_loss: 0.6942 - val_acc: 0.5403\n",
      "Epoch 29/200\n",
      "1500000/1500000 [==============================] - 8s 5us/step - loss: 0.6930 - acc: 0.5357 - val_loss: 0.6947 - val_acc: 0.5450\n",
      "Epoch 30/200\n",
      "1500000/1500000 [==============================] - 6s 4us/step - loss: 0.6931 - acc: 0.5378 - val_loss: 0.6943 - val_acc: 0.5291\n",
      "Epoch 31/200\n",
      "1500000/1500000 [==============================] - 9s 6us/step - loss: 0.6931 - acc: 0.5346 - val_loss: 0.6944 - val_acc: 0.5517\n",
      "Epoch 32/200\n",
      "1500000/1500000 [==============================] - 8s 5us/step - loss: 0.6931 - acc: 0.5381 - val_loss: 0.6942 - val_acc: 0.5398\n",
      "Epoch 33/200\n",
      "1500000/1500000 [==============================] - 8s 5us/step - loss: 0.6931 - acc: 0.5389 - val_loss: 0.6943 - val_acc: 0.5327\n",
      "Epoch 34/200\n",
      "1500000/1500000 [==============================] - 8s 5us/step - loss: 0.6931 - acc: 0.5357 - val_loss: 0.6942 - val_acc: 0.5428\n",
      "Epoch 35/200\n",
      "1500000/1500000 [==============================] - 8s 5us/step - loss: 0.6931 - acc: 0.5359 - val_loss: 0.6942 - val_acc: 0.5317\n",
      "Epoch 36/200\n",
      "1500000/1500000 [==============================] - 8s 5us/step - loss: 0.6932 - acc: 0.5385 - val_loss: 0.6943 - val_acc: 0.5387\n",
      "Epoch 37/200\n",
      "1500000/1500000 [==============================] - 8s 5us/step - loss: 0.6931 - acc: 0.5387 - val_loss: 0.6943 - val_acc: 0.5220\n",
      "Epoch 38/200\n",
      "1500000/1500000 [==============================] - 8s 5us/step - loss: 0.6931 - acc: 0.5398 - val_loss: 0.6943 - val_acc: 0.5495\n",
      "Epoch 39/200\n",
      "1500000/1500000 [==============================] - 8s 5us/step - loss: 0.6932 - acc: 0.5413 - val_loss: 0.6943 - val_acc: 0.5321\n",
      "Epoch 40/200\n",
      "1500000/1500000 [==============================] - 9s 6us/step - loss: 0.6931 - acc: 0.5346 - val_loss: 0.6943 - val_acc: 0.5342\n",
      "Epoch 41/200\n",
      "1500000/1500000 [==============================] - 8s 5us/step - loss: 0.6931 - acc: 0.5421 - val_loss: 0.6942 - val_acc: 0.5462\n",
      "Epoch 42/200\n",
      "1500000/1500000 [==============================] - 8s 5us/step - loss: 0.6930 - acc: 0.5389 - val_loss: 0.6946 - val_acc: 0.5324\n",
      "Epoch 43/200\n"
     ]
    },
    {
     "name": "stdout",
     "output_type": "stream",
     "text": [
      "1500000/1500000 [==============================] - 8s 5us/step - loss: 0.6932 - acc: 0.5422 - val_loss: 0.6942 - val_acc: 0.5314\n",
      "Epoch 44/200\n",
      "1500000/1500000 [==============================] - 8s 5us/step - loss: 0.6932 - acc: 0.5373 - val_loss: 0.6943 - val_acc: 0.5527\n",
      "Epoch 45/200\n",
      "1500000/1500000 [==============================] - 8s 5us/step - loss: 0.6931 - acc: 0.5394 - val_loss: 0.6944 - val_acc: 0.5424\n",
      "Epoch 46/200\n",
      "1500000/1500000 [==============================] - 8s 5us/step - loss: 0.6932 - acc: 0.5386 - val_loss: 0.6944 - val_acc: 0.5328\n",
      "Epoch 47/200\n",
      "1500000/1500000 [==============================] - 10s 6us/step - loss: 0.6930 - acc: 0.5422 - val_loss: 0.6942 - val_acc: 0.5432\n",
      "Epoch 48/200\n",
      "1500000/1500000 [==============================] - 8s 5us/step - loss: 0.6932 - acc: 0.5383 - val_loss: 0.6943 - val_acc: 0.5510\n",
      "Epoch 49/200\n",
      "1500000/1500000 [==============================] - 8s 5us/step - loss: 0.6931 - acc: 0.5426 - val_loss: 0.6942 - val_acc: 0.5380\n",
      "Epoch 50/200\n",
      "1500000/1500000 [==============================] - 8s 5us/step - loss: 0.6931 - acc: 0.5368 - val_loss: 0.6943 - val_acc: 0.5428\n",
      "Epoch 51/200\n",
      "1500000/1500000 [==============================] - 8s 5us/step - loss: 0.6931 - acc: 0.5395 - val_loss: 0.6942 - val_acc: 0.5398\n",
      "Epoch 52/200\n",
      "1500000/1500000 [==============================] - 8s 5us/step - loss: 0.6931 - acc: 0.5382 - val_loss: 0.6942 - val_acc: 0.5421\n",
      "Epoch 53/200\n",
      "1500000/1500000 [==============================] - 8s 5us/step - loss: 0.6931 - acc: 0.5388 - val_loss: 0.6943 - val_acc: 0.5353\n",
      "Epoch 54/200\n",
      "1500000/1500000 [==============================] - 9s 6us/step - loss: 0.6931 - acc: 0.5358 - val_loss: 0.6942 - val_acc: 0.5414\n",
      "Epoch 55/200\n",
      "1500000/1500000 [==============================] - 8s 5us/step - loss: 0.6930 - acc: 0.5381 - val_loss: 0.6946 - val_acc: 0.5439\n",
      "Epoch 56/200\n",
      "1500000/1500000 [==============================] - 8s 5us/step - loss: 0.6931 - acc: 0.5412 - val_loss: 0.6942 - val_acc: 0.5380\n",
      "Epoch 57/200\n",
      "1500000/1500000 [==============================] - 8s 5us/step - loss: 0.6932 - acc: 0.5436 - val_loss: 0.6942 - val_acc: 0.5358\n",
      "Restoring model weights from the end of the best epoch\n",
      "Epoch 00057: early stopping\n",
      "\n",
      "STEP 2\n",
      "\n",
      "Train on 1500000 samples, validate on 500000 samples\n",
      "Epoch 1/200\n",
      "1500000/1500000 [==============================] - 9s 6us/step - loss: 0.6201 - acc: 0.5002 - val_loss: 0.5997 - val_acc: 0.4993\n",
      "Epoch 2/200\n",
      "1500000/1500000 [==============================] - 8s 5us/step - loss: 0.5993 - acc: 0.5002 - val_loss: 0.5996 - val_acc: 0.4993\n",
      "Epoch 3/200\n",
      "1500000/1500000 [==============================] - 8s 5us/step - loss: 0.5993 - acc: 0.5002 - val_loss: 0.5996 - val_acc: 0.4993\n",
      "Epoch 4/200\n",
      "1500000/1500000 [==============================] - 8s 5us/step - loss: 0.5993 - acc: 0.5002 - val_loss: 0.5996 - val_acc: 0.4993\n",
      "Epoch 5/200\n",
      "1500000/1500000 [==============================] - 8s 5us/step - loss: 0.5993 - acc: 0.5002 - val_loss: 0.5997 - val_acc: 0.4992\n",
      "Epoch 6/200\n",
      "1500000/1500000 [==============================] - 8s 5us/step - loss: 0.5993 - acc: 0.5003 - val_loss: 0.5997 - val_acc: 0.4993\n",
      "Epoch 7/200\n",
      "1500000/1500000 [==============================] - 8s 5us/step - loss: 0.5993 - acc: 0.5002 - val_loss: 0.5995 - val_acc: 0.4994\n",
      "Epoch 8/200\n",
      "1500000/1500000 [==============================] - 9s 6us/step - loss: 0.5993 - acc: 0.5003 - val_loss: 0.5996 - val_acc: 0.4993\n",
      "Epoch 9/200\n",
      "1500000/1500000 [==============================] - 5s 3us/step - loss: 0.5993 - acc: 0.5003 - val_loss: 0.5996 - val_acc: 0.4993\n",
      "Epoch 10/200\n",
      "1500000/1500000 [==============================] - 7s 5us/step - loss: 0.5993 - acc: 0.5002 - val_loss: 0.5996 - val_acc: 0.4993\n",
      "Epoch 11/200\n",
      "1500000/1500000 [==============================] - 8s 5us/step - loss: 0.5993 - acc: 0.5002 - val_loss: 0.5996 - val_acc: 0.4993\n",
      "Epoch 12/200\n",
      "1500000/1500000 [==============================] - 8s 5us/step - loss: 0.5993 - acc: 0.5002 - val_loss: 0.5996 - val_acc: 0.4993\n",
      "Epoch 13/200\n",
      "1500000/1500000 [==============================] - 8s 5us/step - loss: 0.5993 - acc: 0.5003 - val_loss: 0.5997 - val_acc: 0.4993\n",
      "Epoch 14/200\n",
      "1500000/1500000 [==============================] - 8s 5us/step - loss: 0.5993 - acc: 0.5002 - val_loss: 0.5996 - val_acc: 0.4993\n",
      "Epoch 15/200\n",
      "1500000/1500000 [==============================] - 8s 5us/step - loss: 0.5993 - acc: 0.5002 - val_loss: 0.5996 - val_acc: 0.4994\n",
      "Epoch 16/200\n",
      "1500000/1500000 [==============================] - 8s 5us/step - loss: 0.5993 - acc: 0.5003 - val_loss: 0.5996 - val_acc: 0.4993\n",
      "Epoch 17/200\n",
      "1500000/1500000 [==============================] - 8s 5us/step - loss: 0.5993 - acc: 0.5002 - val_loss: 0.5996 - val_acc: 0.4993\n",
      "Restoring model weights from the end of the best epoch\n",
      "Epoch 00017: early stopping\n",
      "\n",
      "ITERATION: 5\n",
      "\n",
      "STEP 1\n",
      "\n",
      "Train on 1500000 samples, validate on 500000 samples\n",
      "Epoch 1/200\n",
      "1500000/1500000 [==============================] - 9s 6us/step - loss: 0.7246 - acc: 0.5801 - val_loss: 0.6964 - val_acc: 0.5425\n",
      "Epoch 2/200\n",
      "1500000/1500000 [==============================] - 8s 5us/step - loss: 0.6934 - acc: 0.5135 - val_loss: 0.6962 - val_acc: 0.4946\n",
      "Epoch 3/200\n",
      "1500000/1500000 [==============================] - 8s 5us/step - loss: 0.6934 - acc: 0.5282 - val_loss: 0.6962 - val_acc: 0.5142\n",
      "Epoch 4/200\n",
      "1500000/1500000 [==============================] - 8s 5us/step - loss: 0.6934 - acc: 0.5224 - val_loss: 0.6964 - val_acc: 0.5341\n",
      "Epoch 5/200\n",
      "1500000/1500000 [==============================] - 8s 5us/step - loss: 0.6935 - acc: 0.5286 - val_loss: 0.6962 - val_acc: 0.5211\n",
      "Epoch 6/200\n",
      "1500000/1500000 [==============================] - 8s 5us/step - loss: 0.6933 - acc: 0.5331 - val_loss: 0.6962 - val_acc: 0.5131\n",
      "Epoch 7/200\n",
      "1500000/1500000 [==============================] - 8s 5us/step - loss: 0.6933 - acc: 0.5199 - val_loss: 0.6963 - val_acc: 0.5275\n",
      "Epoch 8/200\n",
      "1500000/1500000 [==============================] - 8s 5us/step - loss: 0.6933 - acc: 0.5376 - val_loss: 0.6962 - val_acc: 0.5043\n",
      "Epoch 9/200\n",
      "1500000/1500000 [==============================] - 8s 5us/step - loss: 0.6933 - acc: 0.5165 - val_loss: 0.6961 - val_acc: 0.5299\n",
      "Epoch 10/200\n",
      "1500000/1500000 [==============================] - 8s 6us/step - loss: 0.6934 - acc: 0.5317 - val_loss: 0.6961 - val_acc: 0.5133\n",
      "Epoch 11/200\n",
      "1500000/1500000 [==============================] - 5s 4us/step - loss: 0.6934 - acc: 0.5219 - val_loss: 0.6961 - val_acc: 0.5246\n",
      "Epoch 12/200\n",
      "1500000/1500000 [==============================] - 8s 5us/step - loss: 0.6933 - acc: 0.5191 - val_loss: 0.6961 - val_acc: 0.5573\n",
      "Epoch 13/200\n",
      "1500000/1500000 [==============================] - 8s 5us/step - loss: 0.6934 - acc: 0.5255 - val_loss: 0.6962 - val_acc: 0.5176\n",
      "Epoch 14/200\n",
      "1500000/1500000 [==============================] - 8s 5us/step - loss: 0.6935 - acc: 0.5303 - val_loss: 0.6962 - val_acc: 0.5148\n",
      "Epoch 15/200\n",
      "1500000/1500000 [==============================] - 8s 5us/step - loss: 0.6934 - acc: 0.5254 - val_loss: 0.6961 - val_acc: 0.5033\n",
      "Epoch 16/200\n",
      "1500000/1500000 [==============================] - 8s 5us/step - loss: 0.6934 - acc: 0.5163 - val_loss: 0.6962 - val_acc: 0.5103\n",
      "Epoch 17/200\n",
      "1500000/1500000 [==============================] - 8s 6us/step - loss: 0.6933 - acc: 0.5228 - val_loss: 0.6961 - val_acc: 0.5090\n",
      "Epoch 18/200\n",
      "1500000/1500000 [==============================] - 8s 5us/step - loss: 0.6932 - acc: 0.5119 - val_loss: 0.6962 - val_acc: 0.5431\n",
      "Epoch 19/200\n",
      "1500000/1500000 [==============================] - 8s 5us/step - loss: 0.6933 - acc: 0.5226 - val_loss: 0.6964 - val_acc: 0.5452\n",
      "Epoch 20/200\n",
      "1500000/1500000 [==============================] - 8s 5us/step - loss: 0.6933 - acc: 0.5201 - val_loss: 0.6962 - val_acc: 0.5039\n",
      "Restoring model weights from the end of the best epoch\n",
      "Epoch 00020: early stopping\n",
      "\n",
      "STEP 2\n",
      "\n",
      "Train on 1500000 samples, validate on 500000 samples\n",
      "Epoch 1/200\n",
      "1500000/1500000 [==============================] - 11s 7us/step - loss: 0.6092 - acc: 0.5000 - val_loss: 0.5930 - val_acc: 0.4996\n",
      "Epoch 2/200\n",
      "1500000/1500000 [==============================] - 8s 5us/step - loss: 0.5928 - acc: 0.5001 - val_loss: 0.5929 - val_acc: 0.4997\n",
      "Epoch 3/200\n",
      "1500000/1500000 [==============================] - 8s 5us/step - loss: 0.5927 - acc: 0.5001 - val_loss: 0.5929 - val_acc: 0.4997\n"
     ]
    },
    {
     "name": "stdout",
     "output_type": "stream",
     "text": [
      "Epoch 4/200\n",
      "1500000/1500000 [==============================] - 8s 5us/step - loss: 0.5927 - acc: 0.5001 - val_loss: 0.5930 - val_acc: 0.4997\n",
      "Epoch 5/200\n",
      "1500000/1500000 [==============================] - 8s 5us/step - loss: 0.5927 - acc: 0.5001 - val_loss: 0.5930 - val_acc: 0.4997\n",
      "Epoch 6/200\n",
      "1500000/1500000 [==============================] - 8s 5us/step - loss: 0.5927 - acc: 0.5000 - val_loss: 0.5929 - val_acc: 0.4998\n",
      "Epoch 7/200\n",
      "1500000/1500000 [==============================] - 8s 5us/step - loss: 0.5928 - acc: 0.5001 - val_loss: 0.5929 - val_acc: 0.4997\n",
      "Epoch 8/200\n",
      "1500000/1500000 [==============================] - 8s 5us/step - loss: 0.5927 - acc: 0.5001 - val_loss: 0.5929 - val_acc: 0.4997\n",
      "Epoch 9/200\n",
      "1500000/1500000 [==============================] - 9s 6us/step - loss: 0.5928 - acc: 0.5001 - val_loss: 0.5929 - val_acc: 0.4996\n",
      "Epoch 10/200\n",
      "1500000/1500000 [==============================] - 8s 5us/step - loss: 0.5928 - acc: 0.5001 - val_loss: 0.5929 - val_acc: 0.4998\n",
      "Epoch 11/200\n",
      "1500000/1500000 [==============================] - 8s 5us/step - loss: 0.5927 - acc: 0.5001 - val_loss: 0.5929 - val_acc: 0.4997\n",
      "Epoch 12/200\n",
      "1500000/1500000 [==============================] - 8s 5us/step - loss: 0.5927 - acc: 0.5001 - val_loss: 0.5930 - val_acc: 0.4996\n",
      "Restoring model weights from the end of the best epoch\n",
      "Epoch 00012: early stopping\n"
     ]
    }
   ],
   "source": [
    "for i in range(iterations):\n",
    "    print(\"\\nITERATION: {}\\n\".format(i + 1))\n",
    "\n",
    "    # STEP 1: classify Sim. (which is reweighted by weights_push) to Data\n",
    "    # weights reweighted Sim. --> Data\n",
    "    print(\"STEP 1\\n\")\n",
    "\n",
    "    weights_1 = np.concatenate((weights_push, np.ones(len(theta_unknown_S))))\n",
    "    # actual weights for Sim., ones for Data\n",
    "\n",
    "    X_train_1, X_test_1, Y_train_1, Y_test_1, w_train_1, w_test_1 = train_test_split(\n",
    "        xvals_1, yvals_1, weights_1)\n",
    "\n",
    "    model.compile(loss='binary_crossentropy',\n",
    "                  optimizer='Adam',\n",
    "                  metrics=['accuracy'])\n",
    "    model.fit(X_train_1,\n",
    "              Y_train_1,\n",
    "              sample_weight=w_train_1,\n",
    "              epochs=200,\n",
    "              batch_size=10000,\n",
    "              validation_data=(X_test_1, Y_test_1, w_test_1),\n",
    "              callbacks=[earlystopping],\n",
    "              verbose=1)\n",
    "\n",
    "    weights_pull = weights_push * reweight(theta0_S)\n",
    "    weights[i, :1, :] = weights_pull\n",
    "\n",
    "    # STEP 2: classify Gen. to reweighted Gen. (which is reweighted by weights_pull)\n",
    "    # weights Gen. --> reweighted Gen.\n",
    "    print(\"\\nSTEP 2\\n\")\n",
    "\n",
    "    weights_2 = np.concatenate((np.ones(len(theta0_G)), weights_pull))\n",
    "    # ones for Gen., actual weights for (reweighted) Gen.\n",
    "\n",
    "    X_train_2, X_test_2, Y_train_2, Y_test_2, w_train_2, w_test_2 = train_test_split(\n",
    "        xvals_2, yvals_2, weights_2)\n",
    "\n",
    "    model.compile(loss='binary_crossentropy',\n",
    "                  optimizer='Adam',\n",
    "                  metrics=['accuracy'])\n",
    "    model.fit(X_train_2,\n",
    "              Y_train_2,\n",
    "              sample_weight=w_train_2,\n",
    "              epochs=200,\n",
    "              batch_size=10000,\n",
    "              validation_data=(X_test_2, Y_test_2, w_test_2),\n",
    "              callbacks=[earlystopping],\n",
    "              verbose=1)\n",
    "\n",
    "    weights_push = reweight(theta0_G)\n",
    "    weights[i, 1:2, :] = weights_pull"
   ]
  },
  {
   "cell_type": "code",
   "execution_count": 12,
   "metadata": {
    "ExecuteTime": {
     "end_time": "2020-11-04T06:38:43.606772Z",
     "start_time": "2020-11-04T06:38:40.300463Z"
    },
    "scrolled": false
   },
   "outputs": [
    {
     "name": "stdout",
     "output_type": "stream",
     "text": [
      "ITERATION 1:\n"
     ]
    },
    {
     "data": {
      "image/png": "[encoded data removed]",
      "text/plain": [
       "<Figure size 432x360 with 1 Axes>"
      ]
     },
     "metadata": {
      "needs_background": "light"
     },
     "output_type": "display_data"
    },
    {
     "name": "stdout",
     "output_type": "stream",
     "text": [
      "ITERATION 2:\n"
     ]
    },
    {
     "data": {
      "image/png": "[encoded data removed]",
      "text/plain": [
       "<Figure size 432x360 with 1 Axes>"
      ]
     },
     "metadata": {
      "needs_background": "light"
     },
     "output_type": "display_data"
    },
    {
     "name": "stdout",
     "output_type": "stream",
     "text": [
      "ITERATION 3:\n"
     ]
    },
    {
     "data": {
      "image/png": "[encoded data removed]",
      "text/plain": [
       "<Figure size 432x360 with 1 Axes>"
      ]
     },
     "metadata": {
      "needs_background": "light"
     },
     "output_type": "display_data"
    },
    {
     "name": "stdout",
     "output_type": "stream",
     "text": [
      "ITERATION 4:\n"
     ]
    },
    {
     "data": {
      "image/png": "[encoded data removed]",
      "text/plain": [
       "<Figure size 432x360 with 1 Axes>"
      ]
     },
     "metadata": {
      "needs_background": "light"
     },
     "output_type": "display_data"
    },
    {
     "name": "stdout",
     "output_type": "stream",
     "text": [
      "ITERATION 5:\n"
     ]
    },
    {
     "data": {
      "image/png": "[encoded data removed]",
      "text/plain": [
       "<Figure size 432x360 with 1 Axes>"
      ]
     },
     "metadata": {
      "needs_background": "light"
     },
     "output_type": "display_data"
    }
   ],
   "source": [
    "for i in range(iterations):\n",
    "    print(\"ITERATION {}:\".format(i + 1))\n",
    "    bins = np.linspace(-7, 5, 31)\n",
    "    plt.figure(figsize=(6, 5))\n",
    "    hist0 = plt.hist(theta0_G,\n",
    "                     bins=bins,\n",
    "                     label=r'($\\mu$, $\\sigma$) = {}'.format(theta0_param),\n",
    "                     **plot_style_2)\n",
    "\n",
    "    hist1 = plt.hist(\n",
    "        theta0_G,\n",
    "        bins=bins,\n",
    "        label='($\\mu$, $\\sigma$) = {}\\nDCTR wgt.'.format(theta0_param),\n",
    "        weights=weights[i, 1, :],\n",
    "        **plot_style_1)\n",
    "    hist2 = plt.hist(theta_unknown_G,\n",
    "                     bins=bins,\n",
    "                     label=r'($\\mu$, $\\sigma$) = ?',\n",
    "                     **plot_style_2)\n",
    "    plt.legend(frameon=False)\n",
    "    plt.xlabel(r\"$x_G$\")\n",
    "    plt.ylabel(\"Events per bin (normalized)\")\n",
    "    plt.show()"
   ]
  }
 ],
 "metadata": {
  "kernelspec": {
   "display_name": "OmniFold",
   "language": "python",
   "name": "omnifold"
  },
  "language_info": {
   "codemirror_mode": {
    "name": "ipython",
    "version": 3
   },
   "file_extension": ".py",
   "mimetype": "text/x-python",
   "name": "python",
   "nbconvert_exporter": "python",
   "pygments_lexer": "ipython3",
   "version": "3.7.9"
  },
  "toc": {
   "base_numbering": 1,
   "nav_menu": {},
   "number_sections": false,
   "sideBar": true,
   "skip_h1_title": false,
   "title_cell": "Table of Contents",
   "title_sidebar": "Contents",
   "toc_cell": false,
   "toc_position": {},
   "toc_section_display": true,
   "toc_window_display": false
  }
 },
 "nbformat": 4,
 "nbformat_minor": 4
}
